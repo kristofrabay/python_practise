{
 "cells": [
  {
   "cell_type": "code",
   "execution_count": 1,
   "id": "7124f670",
   "metadata": {},
   "outputs": [],
   "source": [
    "from bs4 import BeautifulSoup\n",
    "import requests\n",
    "import pickle\n",
    "\n",
    "import pandas as pd\n",
    "import numpy as np\n",
    "\n",
    "from functools import reduce\n",
    "from tqdm.notebook import tqdm_notebook\n",
    "\n",
    "from multiprocessing.pool import ThreadPool as Pool\n",
    "\n",
    "import warnings\n",
    "warnings.filterwarnings('ignore')"
   ]
  },
  {
   "cell_type": "markdown",
   "id": "6a8a1c0c",
   "metadata": {},
   "source": [
    "Read links"
   ]
  },
  {
   "cell_type": "code",
   "execution_count": 2,
   "id": "8a8dc6a7",
   "metadata": {},
   "outputs": [],
   "source": [
    "with open('data/osszes_link.pkl', 'rb') as pkl:\n",
    "    osszes_link = pickle.load(pkl)"
   ]
  },
  {
   "cell_type": "code",
   "execution_count": 3,
   "id": "484a87b6",
   "metadata": {},
   "outputs": [
    {
     "data": {
      "text/plain": [
       "80449"
      ]
     },
     "execution_count": 3,
     "metadata": {},
     "output_type": "execute_result"
    }
   ],
   "source": [
    "len(osszes_link)"
   ]
  },
  {
   "cell_type": "markdown",
   "id": "3fbff5d7",
   "metadata": {},
   "source": [
    "### Get data"
   ]
  },
  {
   "cell_type": "code",
   "execution_count": 4,
   "id": "298289f5",
   "metadata": {},
   "outputs": [],
   "source": [
    "valtozok = ['Alaptípus ára:', 'Extrákkal növelt ár:', 'Akciós ár:', 'Akció feltételei:', 'Vételár:', 'Vételár EUR:', 'Átvehető:', 'Évjárat:', 'Állapot:', 'Kivitel:', 'Garancia:',\n",
    "            'Kilométeróra állása:', 'Szállítható szem. száma:', 'Ajtók száma:', 'Szín:', 'Saját tömeg:', 'Teljes tömeg:',\n",
    "            'Csomagtartó:', 'Klíma fajtája:', 'Üzemanyag:', 'Hengerűrtartalom:', 'Teljesítmény:',\n",
    "            'Hajtás:', 'Sebességváltó fajtája:', 'Okmányok jellege:', 'Műszaki vizsga érvényes:']"
   ]
  },
  {
   "cell_type": "code",
   "execution_count": 5,
   "id": "19f6a940",
   "metadata": {},
   "outputs": [],
   "source": [
    "headers = {'User-Agent': 'Mozilla/5.0 (Macintosh; Intel Mac OS X 10_10_1) AppleWebKit/537.36 (KHTML, like Gecko) Chrome/39.0.2171.95 Safari/537.36'}"
   ]
  },
  {
   "cell_type": "code",
   "execution_count": 6,
   "id": "cbe9de5a",
   "metadata": {},
   "outputs": [],
   "source": [
    "def scrape_car_listing(url):\n",
    "    \n",
    "    page = requests.get(url, headers = headers)\n",
    "    \n",
    "    if page.ok == False:\n",
    "        pass\n",
    "    \n",
    "    soup = BeautifulSoup(page.text)\n",
    "    \n",
    "    adatlap = soup.find('div', id = 'adatlap')\n",
    "    \n",
    "    if len(adatlap) == 0:\n",
    "        pass\n",
    "\n",
    "    else:        \n",
    "        hirdetes_nev = adatlap.find('div', class_ = 'adatlap-cim').select('h1')[0].text.strip()\n",
    "        \n",
    "        kiajanlo_adatok = soup.find_all('div', class_ = 'adatlap-kiajanlo-adatok')\n",
    "        katalogus_adatok = [i for i in kiajanlo_adatok if 'Katalógus adatok' in str(i)]\n",
    "\n",
    "        if len(katalogus_adatok) == 1:\n",
    "\n",
    "            katalogus = katalogus_adatok[0]\n",
    "            kat_nevek = [i.text for i in katalogus.find_all('div', class_ = 'col-xs-15')]\n",
    "            kat_ertekek = [i.text for i in katalogus.find_all('div', class_ = 'col-xs-13')]\n",
    "\n",
    "            katalogus_tabla = pd.DataFrame.from_dict(dict(zip(kat_nevek, kat_ertekek)), orient = 'index').reset_index().rename(columns = {'index' : 'variable', 0 : 'value'})\n",
    "\n",
    "        else:\n",
    "            katalogus_tabla = pd.DataFrame(columns = ['variable', 'value'])\n",
    "\n",
    "        felszereltseg = adatlap.find('div', class_ = 'felszereltseg')        \n",
    "        felszereltseg_tipus = [i.text for i in felszereltseg.find_all('h4')]\n",
    "        felszereltseg_lista = [felszereltseg_tipus.find_all('li') for felszereltseg_tipus in felszereltseg.find_all('ul', class_ = 'pontos')]\n",
    "        felszereltseg_lista = [[felszereltseg.text for felszereltseg in felszereltseg_tipus] for felszereltseg_tipus in felszereltseg_lista]\n",
    "        felszereltseg_dict = dict(zip(felszereltseg_tipus, felszereltseg_lista))\n",
    "        \n",
    "        felszereltseg_dict = {'variable' : 'Felszereltség', 'value' : felszereltseg_dict}\n",
    "        \n",
    "        url_dict = {'variable' : 'URL', 'value' : url}\n",
    "        nev_dict = {'variable' : 'Hirdetés név', 'value'  : hirdetes_nev}\n",
    "        \n",
    "        hirdetes_adatok = adatlap.find('table', class_ = 'hirdetesadatok')\n",
    "\n",
    "        if hirdetes_adatok is None:            \n",
    "            pass\n",
    "\n",
    "        else:                \n",
    "            adatok = pd.read_html(str(hirdetes_adatok))[0]            \n",
    "            adatok.columns = ['variable', 'value']\n",
    "            adatok = adatok.loc[adatok['variable'].isin(valtozok)]\n",
    "\n",
    "            adatok = adatok.append(url_dict, ignore_index = True)\n",
    "            adatok = adatok.append(nev_dict, ignore_index = True)\n",
    "            adatok = adatok.append(felszereltseg_dict, ignore_index = True)\n",
    "            adatok = adatok.append(katalogus_tabla, ignore_index = True)\n",
    "            \n",
    "    return adatok"
   ]
  },
  {
   "cell_type": "code",
   "execution_count": null,
   "id": "bdaf0175",
   "metadata": {},
   "outputs": [],
   "source": []
  },
  {
   "cell_type": "markdown",
   "id": "928ec881",
   "metadata": {},
   "source": [
    "Try running on 20 listings"
   ]
  },
  {
   "cell_type": "code",
   "execution_count": 12,
   "id": "75094ed0",
   "metadata": {},
   "outputs": [
    {
     "data": {
      "application/vnd.jupyter.widget-view+json": {
       "model_id": "83917c8745a74a5aab2c21b5efe86d2d",
       "version_major": 2,
       "version_minor": 0
      },
      "text/plain": [
       "Collecting listings data into data frames:   0%|          | 0/20 [00:00<?, ?it/s]"
      ]
     },
     "metadata": {},
     "output_type": "display_data"
    },
    {
     "name": "stdout",
     "output_type": "stream",
     "text": [
      "Wall time: 3.84 s\n"
     ]
    }
   ],
   "source": [
    "%%time\n",
    "\n",
    "collection = []\n",
    "\n",
    "pool = Pool(8)\n",
    "\n",
    "for link in tqdm_notebook(osszes_link[:20], desc = 'Collecting listings data into data frames'):\n",
    "    pool.apply_async(scrape_car_listing, (link,), callback = collection.append)\n",
    "\n",
    "pool.close()\n",
    "pool.join()"
   ]
  },
  {
   "cell_type": "markdown",
   "id": "f4f6a25f",
   "metadata": {},
   "source": [
    "20 listings was 3.9 seconds, so 80500 listings will be 80500 / 20 * 3.9 / 60 / 60 hours"
   ]
  },
  {
   "cell_type": "code",
   "execution_count": 13,
   "id": "f7df5fb5",
   "metadata": {},
   "outputs": [
    {
     "data": {
      "text/plain": [
       "4.360416666666667"
      ]
     },
     "execution_count": 13,
     "metadata": {},
     "output_type": "execute_result"
    }
   ],
   "source": [
    "80500 / 20 * 3.9 / 60 / 60"
   ]
  },
  {
   "cell_type": "code",
   "execution_count": null,
   "id": "73db8151",
   "metadata": {},
   "outputs": [],
   "source": []
  },
  {
   "cell_type": "markdown",
   "id": "efbc210b",
   "metadata": {},
   "source": [
    "### Run scraper\n",
    "\n",
    "and pray to God connection doesnt break for 4-5 hours...\n",
    "\n",
    "Next time: dont append to list, save dataframes into ../data, and after all is finished, read all, merge all"
   ]
  },
  {
   "cell_type": "code",
   "execution_count": 16,
   "id": "0f7dd52b",
   "metadata": {},
   "outputs": [
    {
     "data": {
      "text/plain": [
       "80449"
      ]
     },
     "execution_count": 16,
     "metadata": {},
     "output_type": "execute_result"
    }
   ],
   "source": [
    "len(osszes_link)"
   ]
  },
  {
   "cell_type": "code",
   "execution_count": 17,
   "id": "9614a073",
   "metadata": {},
   "outputs": [
    {
     "data": {
      "application/vnd.jupyter.widget-view+json": {
       "model_id": "1109a0a396ed4ac99c334ebdca8c5f0b",
       "version_major": 2,
       "version_minor": 0
      },
      "text/plain": [
       "Collecting listings data into data frames:   0%|          | 0/80449 [00:00<?, ?it/s]"
      ]
     },
     "metadata": {},
     "output_type": "display_data"
    },
    {
     "name": "stdout",
     "output_type": "stream",
     "text": [
      "Wall time: 4h 3min 1s\n"
     ]
    }
   ],
   "source": [
    "%%time\n",
    "\n",
    "collection = []\n",
    "\n",
    "pool = Pool(8)\n",
    "\n",
    "for link in tqdm_notebook(osszes_link, desc = 'Collecting listings data into data frames'):\n",
    "    pool.apply_async(scrape_car_listing, (link,), callback = collection.append)\n",
    "\n",
    "pool.close()\n",
    "pool.join()"
   ]
  },
  {
   "cell_type": "code",
   "execution_count": 18,
   "id": "99143975",
   "metadata": {},
   "outputs": [
    {
     "data": {
      "text/plain": [
       "74650"
      ]
     },
     "execution_count": 18,
     "metadata": {},
     "output_type": "execute_result"
    }
   ],
   "source": [
    "len(collection)"
   ]
  },
  {
   "cell_type": "code",
   "execution_count": 20,
   "id": "2e769003",
   "metadata": {},
   "outputs": [],
   "source": [
    "# with open('data/osszes_hirdetes.pkl', 'wb') as pkl:\n",
    "#     pickle.dump(collection, pkl)"
   ]
  },
  {
   "cell_type": "code",
   "execution_count": null,
   "id": "37dcc58a",
   "metadata": {},
   "outputs": [],
   "source": []
  },
  {
   "cell_type": "markdown",
   "id": "be47909a",
   "metadata": {},
   "source": [
    "### Merge dataframes"
   ]
  },
  {
   "cell_type": "code",
   "execution_count": null,
   "id": "19fde58c",
   "metadata": {},
   "outputs": [],
   "source": [
    "autok = reduce(lambda a, b: pd.merge(a, b, on = 'variable', how = 'outer'), collection).T\n",
    "autok.reset_index(drop = True, inplace = True)\n",
    "autok.columns = autok.iloc[0]\n",
    "autok.drop(autok.index[0], inplace = True)"
   ]
  },
  {
   "cell_type": "code",
   "execution_count": 10,
   "id": "02b056f8",
   "metadata": {},
   "outputs": [
    {
     "data": {
      "text/html": [
       "<div>\n",
       "<style scoped>\n",
       "    .dataframe tbody tr th:only-of-type {\n",
       "        vertical-align: middle;\n",
       "    }\n",
       "\n",
       "    .dataframe tbody tr th {\n",
       "        vertical-align: top;\n",
       "    }\n",
       "\n",
       "    .dataframe thead th {\n",
       "        text-align: right;\n",
       "    }\n",
       "</style>\n",
       "<table border=\"1\" class=\"dataframe\">\n",
       "  <thead>\n",
       "    <tr style=\"text-align: right;\">\n",
       "      <th></th>\n",
       "      <th>Vételár:</th>\n",
       "      <th>Vételár EUR:</th>\n",
       "      <th>Évjárat:</th>\n",
       "      <th>Állapot:</th>\n",
       "      <th>Kivitel:</th>\n",
       "      <th>Kilométeróra állása:</th>\n",
       "      <th>Szállítható szem. száma:</th>\n",
       "      <th>Ajtók száma:</th>\n",
       "      <th>Saját tömeg:</th>\n",
       "      <th>Teljes tömeg:</th>\n",
       "      <th>...</th>\n",
       "      <th>Oktánszám</th>\n",
       "      <th>Városi fogyasztás</th>\n",
       "      <th>Országúti fogyasztás</th>\n",
       "      <th>Vegyes fogyasztás</th>\n",
       "      <th>CO2-kibocsátás</th>\n",
       "      <th>Végsebesség</th>\n",
       "      <th>Gyorsulás 0-ról 100 km/h-ra</th>\n",
       "      <th>Szín:</th>\n",
       "      <th>Műszaki vizsga érvényes:</th>\n",
       "      <th>Hasmagasság</th>\n",
       "    </tr>\n",
       "  </thead>\n",
       "  <tbody>\n",
       "    <tr>\n",
       "      <th>1</th>\n",
       "      <td>370 000 Ft</td>\n",
       "      <td>€ 1 029</td>\n",
       "      <td>2004/1</td>\n",
       "      <td>Normál</td>\n",
       "      <td>Ferdehátú</td>\n",
       "      <td>275 656 km</td>\n",
       "      <td>5 fő</td>\n",
       "      <td>5</td>\n",
       "      <td>950 kg</td>\n",
       "      <td>1 445 kg</td>\n",
       "      <td>...</td>\n",
       "      <td>95</td>\n",
       "      <td>7,3 l/100km</td>\n",
       "      <td>4,8 l/100km</td>\n",
       "      <td>5,7 l/100km</td>\n",
       "      <td>136 g/km</td>\n",
       "      <td>155 km/h</td>\n",
       "      <td>14,3 s</td>\n",
       "      <td>NaN</td>\n",
       "      <td>NaN</td>\n",
       "      <td>NaN</td>\n",
       "    </tr>\n",
       "    <tr>\n",
       "      <th>2</th>\n",
       "      <td>2 369 000 Ft</td>\n",
       "      <td>€ 6 590</td>\n",
       "      <td>2013/10</td>\n",
       "      <td>Újszerű</td>\n",
       "      <td>Kombi</td>\n",
       "      <td>61 255 km</td>\n",
       "      <td>5 fő</td>\n",
       "      <td>5</td>\n",
       "      <td>1 105 kg</td>\n",
       "      <td>1 610 kg</td>\n",
       "      <td>...</td>\n",
       "      <td>95</td>\n",
       "      <td>7 l/100km</td>\n",
       "      <td>4,7 l/100km</td>\n",
       "      <td>5,5 l/100km</td>\n",
       "      <td>127 g/km</td>\n",
       "      <td>167 km/h</td>\n",
       "      <td>15,4 s</td>\n",
       "      <td>Ezüst (metál)</td>\n",
       "      <td>2023/7</td>\n",
       "      <td>NaN</td>\n",
       "    </tr>\n",
       "    <tr>\n",
       "      <th>3</th>\n",
       "      <td>900 000 Ft</td>\n",
       "      <td>€ 2 504</td>\n",
       "      <td>2005/2</td>\n",
       "      <td>Normál</td>\n",
       "      <td>Kombi</td>\n",
       "      <td>305 000 km</td>\n",
       "      <td>5 fő</td>\n",
       "      <td>5</td>\n",
       "      <td>1 505 kg</td>\n",
       "      <td>2 080 kg</td>\n",
       "      <td>...</td>\n",
       "      <td>NaN</td>\n",
       "      <td>7,7 l/100km</td>\n",
       "      <td>4,9 l/100km</td>\n",
       "      <td>5,9 l/100km</td>\n",
       "      <td>155 g/km</td>\n",
       "      <td>208 km/h</td>\n",
       "      <td>9,8 s</td>\n",
       "      <td>Ezüst</td>\n",
       "      <td>2022/3</td>\n",
       "      <td>NaN</td>\n",
       "    </tr>\n",
       "  </tbody>\n",
       "</table>\n",
       "<p>3 rows × 39 columns</p>\n",
       "</div>"
      ],
      "text/plain": [
       "0      Vételár: Vételár EUR: Évjárat: Állapot:   Kivitel:  \\\n",
       "1    370 000 Ft      € 1 029   2004/1   Normál  Ferdehátú   \n",
       "2  2 369 000 Ft      € 6 590  2013/10  Újszerű      Kombi   \n",
       "3    900 000 Ft      € 2 504   2005/2   Normál      Kombi   \n",
       "\n",
       "0 Kilométeróra állása: Szállítható szem. száma: Ajtók száma: Saját tömeg:  \\\n",
       "1           275 656 km                     5 fő            5       950 kg   \n",
       "2            61 255 km                     5 fő            5     1 105 kg   \n",
       "3           305 000 km                     5 fő            5     1 505 kg   \n",
       "\n",
       "0 Teljes tömeg:  ... Oktánszám Városi fogyasztás Országúti fogyasztás  \\\n",
       "1      1 445 kg  ...        95       7,3 l/100km          4,8 l/100km   \n",
       "2      1 610 kg  ...        95         7 l/100km          4,7 l/100km   \n",
       "3      2 080 kg  ...       NaN       7,7 l/100km          4,9 l/100km   \n",
       "\n",
       "0 Vegyes fogyasztás CO2-kibocsátás Végsebesség Gyorsulás 0-ról 100 km/h-ra  \\\n",
       "1       5,7 l/100km       136 g/km    155 km/h                      14,3 s   \n",
       "2       5,5 l/100km       127 g/km    167 km/h                      15,4 s   \n",
       "3       5,9 l/100km       155 g/km    208 km/h                       9,8 s   \n",
       "\n",
       "0          Szín: Műszaki vizsga érvényes: Hasmagasság  \n",
       "1            NaN                      NaN         NaN  \n",
       "2  Ezüst (metál)                   2023/7         NaN  \n",
       "3          Ezüst                   2022/3         NaN  \n",
       "\n",
       "[3 rows x 39 columns]"
      ]
     },
     "execution_count": 10,
     "metadata": {},
     "output_type": "execute_result"
    }
   ],
   "source": [
    "autok.head(3)"
   ]
  },
  {
   "cell_type": "code",
   "execution_count": null,
   "id": "1b5f598a",
   "metadata": {},
   "outputs": [],
   "source": [
    "autok.to_csv('data/autok.csv', index = False)"
   ]
  },
  {
   "cell_type": "code",
   "execution_count": null,
   "id": "26ee1573",
   "metadata": {},
   "outputs": [],
   "source": []
  },
  {
   "cell_type": "markdown",
   "id": "b64b7d77",
   "metadata": {},
   "source": [
    "### Which links did I lose during scraping?"
   ]
  },
  {
   "cell_type": "code",
   "execution_count": null,
   "id": "83c5eeaa",
   "metadata": {},
   "outputs": [],
   "source": [
    "np.setdiff1d(osszes_link, autok['URL'].tolist())"
   ]
  },
  {
   "cell_type": "code",
   "execution_count": null,
   "id": "d2156d49",
   "metadata": {},
   "outputs": [],
   "source": []
  }
 ],
 "metadata": {
  "kernelspec": {
   "display_name": "Python 3",
   "language": "python",
   "name": "python3"
  },
  "language_info": {
   "codemirror_mode": {
    "name": "ipython",
    "version": 3
   },
   "file_extension": ".py",
   "mimetype": "text/x-python",
   "name": "python",
   "nbconvert_exporter": "python",
   "pygments_lexer": "ipython3",
   "version": "3.8.8"
  }
 },
 "nbformat": 4,
 "nbformat_minor": 5
}
