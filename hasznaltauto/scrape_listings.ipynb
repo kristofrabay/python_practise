{
 "cells": [
  {
   "cell_type": "code",
   "execution_count": 1,
   "id": "e6806e20",
   "metadata": {},
   "outputs": [],
   "source": [
    "from bs4 import BeautifulSoup\n",
    "import requests\n",
    "import pickle\n",
    "\n",
    "import re\n",
    "\n",
    "import pandas as pd\n",
    "import numpy as np\n",
    "\n",
    "from functools import reduce\n",
    "from tqdm.notebook import tqdm_notebook\n",
    "\n",
    "from multiprocessing.pool import ThreadPool as Pool\n",
    "\n",
    "import warnings\n",
    "warnings.filterwarnings('ignore')"
   ]
  },
  {
   "cell_type": "markdown",
   "id": "331f5e5e",
   "metadata": {},
   "source": [
    "Read links"
   ]
  },
  {
   "cell_type": "code",
   "execution_count": 2,
   "id": "8b22a4ce",
   "metadata": {},
   "outputs": [],
   "source": [
    "with open('data/osszes_link.pkl', 'rb') as pkl:\n",
    "    osszes_link = pickle.load(pkl)"
   ]
  },
  {
   "cell_type": "code",
   "execution_count": 3,
   "id": "70c565c6",
   "metadata": {},
   "outputs": [
    {
     "data": {
      "text/plain": [
       "80449"
      ]
     },
     "execution_count": 3,
     "metadata": {},
     "output_type": "execute_result"
    }
   ],
   "source": [
    "len(osszes_link)"
   ]
  },
  {
   "cell_type": "markdown",
   "id": "18210814",
   "metadata": {},
   "source": [
    "### Get data"
   ]
  },
  {
   "cell_type": "code",
   "execution_count": 4,
   "id": "c3cb05a4",
   "metadata": {},
   "outputs": [],
   "source": [
    "valtozok = ['Alaptípus ára:', 'Extrákkal növelt ár:', 'Akciós ár:', 'Akció feltételei:', 'Vételár:', 'Vételár EUR:', 'Átvehető:', 'Évjárat:', 'Állapot:', 'Kivitel:', 'Garancia:',\n",
    "            'Kilométeróra állása:', 'Szállítható szem. száma:', 'Ajtók száma:', 'Szín:', 'Saját tömeg:', 'Teljes tömeg:',\n",
    "            'Csomagtartó:', 'Klíma fajtája:', 'Üzemanyag:', 'Hengerűrtartalom:', 'Teljesítmény:',\n",
    "            'Hajtás:', 'Sebességváltó fajtája:', 'Okmányok jellege:', 'Műszaki vizsga érvényes:']"
   ]
  },
  {
   "cell_type": "code",
   "execution_count": 5,
   "id": "fb0902a2",
   "metadata": {},
   "outputs": [],
   "source": [
    "headers = {'User-Agent': 'Mozilla/5.0 (Macintosh; Intel Mac OS X 10_10_1) AppleWebKit/537.36 (KHTML, like Gecko) Chrome/39.0.2171.95 Safari/537.36'}"
   ]
  },
  {
   "cell_type": "code",
   "execution_count": 6,
   "id": "5eed5cab",
   "metadata": {},
   "outputs": [],
   "source": [
    "def scrape_car_listing(url):\n",
    "    \n",
    "    page = requests.get(url, headers = headers)\n",
    "    \n",
    "    if page.ok == False:\n",
    "        pass\n",
    "    \n",
    "    soup = BeautifulSoup(page.text)\n",
    "    \n",
    "    adatlap = soup.find('div', id = 'adatlap')\n",
    "    \n",
    "    if len(adatlap) == 0:\n",
    "        pass\n",
    "\n",
    "    else:        \n",
    "        \n",
    "        marka = soup.find('a', href = True, type = 'marka')\n",
    "        if marka is not None:\n",
    "            marka = marka.text\n",
    "            \n",
    "        modellcsoport = soup.find('a', href = True, type = 'modellcsoport')\n",
    "        if modellcsoport is not None:\n",
    "            modellcsoport = modellcsoport.text\n",
    "            \n",
    "        modell = soup.find('a', href = True, type = 'modell')\n",
    "        if modell is not None:\n",
    "            modell = modell.text\n",
    "        \n",
    "        marka_dict = {'variable' : 'Márka', 'value' : marka}\n",
    "        modellcsoport_dict = {'variable' : 'Modellcsoport', 'value' : modellcsoport}\n",
    "        modell_dict = {'variable' : 'Modell', 'value' : modell}\n",
    "\n",
    "        hirdetes_nev = adatlap.find('div', class_ = 'adatlap-cim').select('h1')[0].text.strip()\n",
    "        \n",
    "        kiajanlo_adatok = soup.find_all('div', class_ = 'adatlap-kiajanlo-adatok')\n",
    "        katalogus_adatok = [i for i in kiajanlo_adatok if 'Katalógus adatok' in str(i)]\n",
    "\n",
    "        if len(katalogus_adatok) == 1:\n",
    "\n",
    "            katalogus = katalogus_adatok[0]\n",
    "            kat_nevek = [i.text for i in katalogus.find_all('div', class_ = 'col-xs-15')]\n",
    "            kat_ertekek = [i.text for i in katalogus.find_all('div', class_ = 'col-xs-13')]\n",
    "\n",
    "            katalogus_tabla = pd.DataFrame.from_dict(dict(zip(kat_nevek, kat_ertekek)), orient = 'index').reset_index().rename(columns = {'index' : 'variable', 0 : 'value'})\n",
    "\n",
    "        else:\n",
    "            katalogus_tabla = pd.DataFrame(columns = ['variable', 'value'])\n",
    "\n",
    "        felszereltseg = adatlap.find('div', class_ = 'felszereltseg') \n",
    "        \n",
    "        if felszereltseg is not None:\n",
    "            felszereltseg_tipus = [i.text for i in felszereltseg.find_all('h4')]\n",
    "            felszereltseg_lista = [felszereltseg_tipus.find_all('li') for felszereltseg_tipus in felszereltseg.find_all('ul', class_ = 'pontos')]\n",
    "            felszereltseg_lista = [[felszereltseg.text for felszereltseg in felszereltseg_tipus] for felszereltseg_tipus in felszereltseg_lista]\n",
    "            felszereltseg_dict = dict(zip(felszereltseg_tipus, felszereltseg_lista))        \n",
    "            felszereltseg_dict = {'variable' : 'Felszereltség', 'value' : felszereltseg_dict}\n",
    "            \n",
    "        else:\n",
    "            felszereltseg_dict = {'variable' : 'Felszereltség', 'value' : np.nan}\n",
    "        \n",
    "        url_dict = {'variable' : 'URL', 'value' : url}\n",
    "        nev_dict = {'variable' : 'Hirdetés név', 'value'  : hirdetes_nev}\n",
    "        \n",
    "        hirdetes_adatok = adatlap.find('table', class_ = 'hirdetesadatok')\n",
    "\n",
    "        if hirdetes_adatok is None:            \n",
    "            pass\n",
    "\n",
    "        else:                \n",
    "            adatok = pd.read_html(str(hirdetes_adatok))[0]            \n",
    "            adatok.columns = ['variable', 'value']\n",
    "            adatok = adatok.loc[adatok['variable'].isin(valtozok)]\n",
    "\n",
    "            adatok = adatok.append(url_dict, ignore_index = True)\n",
    "            adatok = adatok.append(nev_dict, ignore_index = True)\n",
    "            adatok = adatok.append(felszereltseg_dict, ignore_index = True)\n",
    "            adatok = adatok.append(katalogus_tabla, ignore_index = True)\n",
    "            adatok = adatok.append(marka_dict, ignore_index = True)\n",
    "            adatok = adatok.append(modellcsoport_dict, ignore_index = True)\n",
    "            adatok = adatok.append(modell_dict, ignore_index = True)\n",
    "            \n",
    "    adatok.to_csv('data/collector/' + str(re.sub('[^0-9a-zA-Z]+', '_', url)) + '.csv', index = False)\n",
    "            \n",
    "    return adatok"
   ]
  },
  {
   "cell_type": "code",
   "execution_count": null,
   "id": "6af18be6",
   "metadata": {},
   "outputs": [],
   "source": []
  },
  {
   "cell_type": "markdown",
   "id": "f2c21b87",
   "metadata": {},
   "source": [
    "Try running on 50 listings"
   ]
  },
  {
   "cell_type": "code",
   "execution_count": 9,
   "id": "550306a4",
   "metadata": {},
   "outputs": [
    {
     "data": {
      "application/vnd.jupyter.widget-view+json": {
       "model_id": "7549b70fa92d4286be209d4c9cf32be3",
       "version_major": 2,
       "version_minor": 0
      },
      "text/plain": [
       "Collecting listings data into data frames:   0%|          | 0/50 [00:00<?, ?it/s]"
      ]
     },
     "metadata": {},
     "output_type": "display_data"
    },
    {
     "name": "stdout",
     "output_type": "stream",
     "text": [
      "Wall time: 9.6 s\n"
     ]
    }
   ],
   "source": [
    "%%time\n",
    "\n",
    "collection = []\n",
    "\n",
    "pool = Pool(16)\n",
    "\n",
    "for link in tqdm_notebook(osszes_link[:50], desc = 'Collecting listings data into data frames'):\n",
    "    pool.apply_async(scrape_car_listing, (link,), callback = collection.append)\n",
    "\n",
    "pool.close()\n",
    "pool.join()"
   ]
  },
  {
   "cell_type": "markdown",
   "id": "94888fa3",
   "metadata": {},
   "source": [
    "50 listings was 10 seconds, so 80500 listings will be 80500 / 50 * 10 / 60 / 60 hours"
   ]
  },
  {
   "cell_type": "code",
   "execution_count": 10,
   "id": "5ab6c36d",
   "metadata": {},
   "outputs": [
    {
     "data": {
      "text/plain": [
       "4.472222222222222"
      ]
     },
     "execution_count": 10,
     "metadata": {},
     "output_type": "execute_result"
    }
   ],
   "source": [
    "80500 / 50 * 10 / 60 / 60"
   ]
  },
  {
   "cell_type": "code",
   "execution_count": null,
   "id": "6d110f34",
   "metadata": {},
   "outputs": [],
   "source": []
  },
  {
   "cell_type": "markdown",
   "id": "bcf78687",
   "metadata": {},
   "source": [
    "### Run scraper\n",
    "\n",
    "and pray to God connection doesnt break for 4-5 hours...\n",
    "\n",
    "Saving dataframes as csv during running in case of break"
   ]
  },
  {
   "cell_type": "code",
   "execution_count": 11,
   "id": "af8d032e",
   "metadata": {},
   "outputs": [
    {
     "data": {
      "text/plain": [
       "80449"
      ]
     },
     "execution_count": 11,
     "metadata": {},
     "output_type": "execute_result"
    }
   ],
   "source": [
    "len(osszes_link)"
   ]
  },
  {
   "cell_type": "code",
   "execution_count": 12,
   "id": "0d1b32fd",
   "metadata": {},
   "outputs": [
    {
     "data": {
      "application/vnd.jupyter.widget-view+json": {
       "model_id": "7075c65fc0274ca3a9b4ab36728e865d",
       "version_major": 2,
       "version_minor": 0
      },
      "text/plain": [
       "Collecting listings data into data frames:   0%|          | 0/80449 [00:00<?, ?it/s]"
      ]
     },
     "metadata": {},
     "output_type": "display_data"
    },
    {
     "name": "stdout",
     "output_type": "stream",
     "text": [
      "Wall time: 5h 9min 17s\n"
     ]
    }
   ],
   "source": [
    "%%time\n",
    "\n",
    "collection = []\n",
    "\n",
    "pool = Pool(16)\n",
    "\n",
    "for link in tqdm_notebook(osszes_link, desc = 'Collecting listings data into data frames'):\n",
    "    pool.apply_async(scrape_car_listing, (link,), callback = collection.append)\n",
    "\n",
    "pool.close()\n",
    "pool.join()"
   ]
  },
  {
   "cell_type": "code",
   "execution_count": 13,
   "id": "66b4cf2b",
   "metadata": {},
   "outputs": [
    {
     "data": {
      "text/plain": [
       "76896"
      ]
     },
     "execution_count": 13,
     "metadata": {},
     "output_type": "execute_result"
    }
   ],
   "source": [
    "len(collection)"
   ]
  },
  {
   "cell_type": "code",
   "execution_count": 14,
   "id": "37c6fa96",
   "metadata": {},
   "outputs": [],
   "source": [
    "with open('data/osszes_hirdetes.pkl', 'wb') as pkl:\n",
    "    pickle.dump(collection, pkl)"
   ]
  },
  {
   "cell_type": "code",
   "execution_count": null,
   "id": "88246556",
   "metadata": {},
   "outputs": [],
   "source": []
  },
  {
   "cell_type": "markdown",
   "id": "bfc2f5a3",
   "metadata": {},
   "source": [
    "### Merge dataframes"
   ]
  },
  {
   "cell_type": "code",
   "execution_count": 27,
   "id": "7b0283a0",
   "metadata": {},
   "outputs": [
    {
     "name": "stdout",
     "output_type": "stream",
     "text": [
      "Wall time: 1min 14s\n"
     ]
    }
   ],
   "source": [
    "%%time\n",
    "\n",
    "autok = pd.concat((df.set_index('variable') for df in collection), axis = 1, join = 'outer').T"
   ]
  },
  {
   "cell_type": "code",
   "execution_count": 25,
   "id": "e70edd7e",
   "metadata": {},
   "outputs": [
    {
     "name": "stdout",
     "output_type": "stream",
     "text": [
      "Wall time: 394 ms\n"
     ]
    }
   ],
   "source": [
    "# %%time\n",
    "\n",
    "# autok = reduce(lambda a, b: pd.merge(a, b, on = 'variable', how = 'outer'), collection[:100]).T\n",
    "# autok.reset_index(drop = True, inplace = True)\n",
    "# autok.columns = autok.iloc[0]\n",
    "# autok.drop(autok.index[0], inplace = True)"
   ]
  },
  {
   "cell_type": "code",
   "execution_count": 28,
   "id": "3eacca58",
   "metadata": {},
   "outputs": [
    {
     "data": {
      "text/plain": [
       "(76896, 52)"
      ]
     },
     "execution_count": 28,
     "metadata": {},
     "output_type": "execute_result"
    }
   ],
   "source": [
    "autok.shape"
   ]
  },
  {
   "cell_type": "code",
   "execution_count": 31,
   "id": "d8d93ac4",
   "metadata": {},
   "outputs": [],
   "source": [
    "autok.reset_index(drop = True, inplace = True)"
   ]
  },
  {
   "cell_type": "code",
   "execution_count": 34,
   "id": "1ea83a99",
   "metadata": {},
   "outputs": [],
   "source": [
    "autok.to_csv('data/autok_final.csv.gz', index = False, compression='gzip')"
   ]
  },
  {
   "cell_type": "code",
   "execution_count": null,
   "id": "312929fd",
   "metadata": {},
   "outputs": [],
   "source": []
  },
  {
   "cell_type": "markdown",
   "id": "37acc2a3",
   "metadata": {},
   "source": [
    "#### Which links did I lose during scraping?"
   ]
  },
  {
   "cell_type": "code",
   "execution_count": 32,
   "id": "9572782f",
   "metadata": {},
   "outputs": [
    {
     "data": {
      "text/plain": [
       "3553"
      ]
     },
     "execution_count": 32,
     "metadata": {},
     "output_type": "execute_result"
    }
   ],
   "source": [
    "lost_urls = np.setdiff1d(osszes_link, autok['URL'].tolist()).tolist()\n",
    "len(lost_urls)"
   ]
  },
  {
   "cell_type": "markdown",
   "id": "f996862d",
   "metadata": {},
   "source": [
    "These have since been removed"
   ]
  }
 ],
 "metadata": {
  "kernelspec": {
   "display_name": "Python 3",
   "language": "python",
   "name": "python3"
  },
  "language_info": {
   "codemirror_mode": {
    "name": "ipython",
    "version": 3
   },
   "file_extension": ".py",
   "mimetype": "text/x-python",
   "name": "python",
   "nbconvert_exporter": "python",
   "pygments_lexer": "ipython3",
   "version": "3.8.8"
  }
 },
 "nbformat": 4,
 "nbformat_minor": 5
}
