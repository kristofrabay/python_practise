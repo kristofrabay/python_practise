{
 "cells": [
  {
   "cell_type": "markdown",
   "id": "19556f13",
   "metadata": {},
   "source": [
    "### TensorFlow & PyTorch comparison\n",
    "Storing and handling data, creating datasets\n",
    "\n",
    "<img src='https://cdn.activestate.com/wp-content/uploads/2019/10/neural-network-showndown-tensorflow-vs-pytorch.png' width = 650>"
   ]
  },
  {
   "cell_type": "code",
   "execution_count": 1,
   "id": "4f4dbfc4",
   "metadata": {},
   "outputs": [
    {
     "name": "stdout",
     "output_type": "stream",
     "text": [
      "TensorFlow version: 2.8.0\n",
      "PyTorch version: 1.10.2\n"
     ]
    }
   ],
   "source": [
    "import tensorflow as tf\n",
    "import torch\n",
    "torch.manual_seed(91) # for reproducibility\n",
    "\n",
    "print('TensorFlow version:', tf.__version__)\n",
    "print('PyTorch version:', torch.__version__)\n",
    "\n",
    "import numpy as np\n",
    "import warnings\n",
    "warnings.filterwarnings('ignore')"
   ]
  },
  {
   "cell_type": "markdown",
   "id": "5200625a",
   "metadata": {},
   "source": [
    "### Scalars"
   ]
  },
  {
   "cell_type": "code",
   "execution_count": 2,
   "id": "896eff69",
   "metadata": {},
   "outputs": [
    {
     "name": "stdout",
     "output_type": "stream",
     "text": [
      "4 \n",
      "\n",
      "tf.Tensor(4, shape=(), dtype=int32) \n",
      "\n",
      "tensor(4) \n",
      "\n",
      "tf.Tensor(4, shape=(), dtype=int32) \n",
      "\n",
      "tensor(4, dtype=torch.int32) \n",
      "\n"
     ]
    }
   ],
   "source": [
    "a = 4\n",
    "\n",
    "a_np = np.array(a) \n",
    "a_tf = tf.constant(a)\n",
    "a_torch = torch.tensor(a)\n",
    "\n",
    "print(a_np, '\\n')\n",
    "print(a_tf, '\\n')\n",
    "print(a_torch, '\\n')\n",
    "\n",
    "# converting from numpy\n",
    "\n",
    "tf_from_numpy = tf.convert_to_tensor(a_np)\n",
    "torch_from_numpy = torch.from_numpy(a_np)\n",
    "\n",
    "print(tf_from_numpy, '\\n')\n",
    "print(torch_from_numpy, '\\n')"
   ]
  },
  {
   "cell_type": "code",
   "execution_count": 3,
   "id": "14b00f6f",
   "metadata": {},
   "outputs": [
    {
     "name": "stdout",
     "output_type": "stream",
     "text": [
      "()\n",
      "<dtype: 'int32'>\n",
      "4\n"
     ]
    }
   ],
   "source": [
    "print(a_tf.shape)\n",
    "print(a_tf.dtype)\n",
    "print(a_tf.numpy())"
   ]
  },
  {
   "cell_type": "code",
   "execution_count": 4,
   "id": "ce133255",
   "metadata": {},
   "outputs": [
    {
     "name": "stdout",
     "output_type": "stream",
     "text": [
      "torch.Size([])\n",
      "torch.int64\n",
      "4\n"
     ]
    }
   ],
   "source": [
    "print(a_torch.shape)\n",
    "print(a_torch.dtype)\n",
    "print(a_torch.numpy())"
   ]
  },
  {
   "cell_type": "code",
   "execution_count": 5,
   "id": "b8e4a215",
   "metadata": {},
   "outputs": [
    {
     "name": "stdout",
     "output_type": "stream",
     "text": [
      "torch.Size([])\n",
      "torch.int32\n",
      "4\n"
     ]
    }
   ],
   "source": [
    "print(torch_from_numpy.shape)\n",
    "print(torch_from_numpy.dtype)\n",
    "print(torch_from_numpy.numpy())"
   ]
  },
  {
   "cell_type": "code",
   "execution_count": null,
   "id": "b0e0cb4d",
   "metadata": {},
   "outputs": [],
   "source": []
  },
  {
   "cell_type": "markdown",
   "id": "add97f5a",
   "metadata": {},
   "source": [
    "### Tensors"
   ]
  },
  {
   "cell_type": "code",
   "execution_count": 6,
   "id": "d832d462",
   "metadata": {},
   "outputs": [
    {
     "name": "stdout",
     "output_type": "stream",
     "text": [
      "[[1 1 3]\n",
      " [1 0 2]] \n",
      "\n",
      "tf.Tensor(\n",
      "[[1 1 3]\n",
      " [1 0 2]], shape=(2, 3), dtype=int32) \n",
      "\n",
      "tensor([[1, 1, 3],\n",
      "        [1, 0, 2]]) \n",
      "\n",
      "tf.Tensor(\n",
      "[[1 1 3]\n",
      " [1 0 2]], shape=(2, 3), dtype=int32) \n",
      "\n",
      "tensor([[1, 1, 3],\n",
      "        [1, 0, 2]], dtype=torch.int32) \n",
      "\n"
     ]
    }
   ],
   "source": [
    "m = [[1, 1, 3], [1, 0, 2]]\n",
    "\n",
    "m_np = np.array(m) \n",
    "m_tf = tf.constant(m)\n",
    "m_torch = torch.tensor(m)\n",
    "\n",
    "print(m_np, '\\n')\n",
    "print(m_tf, '\\n')\n",
    "print(m_torch, '\\n')\n",
    "\n",
    "# converting from numpy\n",
    "\n",
    "tf_from_numpy = tf.convert_to_tensor(m_np)\n",
    "torch_from_numpy = torch.from_numpy(m_np)\n",
    "\n",
    "print(tf_from_numpy, '\\n')\n",
    "print(torch_from_numpy, '\\n')"
   ]
  },
  {
   "cell_type": "code",
   "execution_count": 7,
   "id": "35559365",
   "metadata": {},
   "outputs": [
    {
     "name": "stdout",
     "output_type": "stream",
     "text": [
      "(2, 3)\n",
      "<dtype: 'int32'>\n"
     ]
    }
   ],
   "source": [
    "print(m_tf.shape)\n",
    "print(m_tf.dtype)"
   ]
  },
  {
   "cell_type": "code",
   "execution_count": 8,
   "id": "7da3b555",
   "metadata": {},
   "outputs": [
    {
     "name": "stdout",
     "output_type": "stream",
     "text": [
      "torch.Size([2, 3])\n",
      "torch.int64\n"
     ]
    }
   ],
   "source": [
    "print(m_torch.shape)\n",
    "print(m_torch.dtype)"
   ]
  },
  {
   "cell_type": "code",
   "execution_count": 9,
   "id": "cf47fab0",
   "metadata": {},
   "outputs": [
    {
     "name": "stdout",
     "output_type": "stream",
     "text": [
      "torch.Size([2, 3])\n",
      "torch.int32\n"
     ]
    }
   ],
   "source": [
    "print(torch_from_numpy.shape)\n",
    "print(torch_from_numpy.dtype)"
   ]
  },
  {
   "cell_type": "code",
   "execution_count": null,
   "id": "6d60c0f2",
   "metadata": {},
   "outputs": [],
   "source": []
  },
  {
   "cell_type": "markdown",
   "id": "2fe9e002",
   "metadata": {},
   "source": [
    "### Multiplication, matrix multiplication"
   ]
  },
  {
   "cell_type": "code",
   "execution_count": 10,
   "id": "1f076219",
   "metadata": {},
   "outputs": [
    {
     "data": {
      "text/plain": [
       "array([[1, 1, 9],\n",
       "       [1, 0, 4]])"
      ]
     },
     "execution_count": 10,
     "metadata": {},
     "output_type": "execute_result"
    }
   ],
   "source": [
    "np.multiply(m_np, m_np)"
   ]
  },
  {
   "cell_type": "code",
   "execution_count": 11,
   "id": "752fed57",
   "metadata": {},
   "outputs": [
    {
     "data": {
      "text/plain": [
       "<tf.Tensor: shape=(2, 3), dtype=int32, numpy=\n",
       "array([[1, 1, 9],\n",
       "       [1, 0, 4]])>"
      ]
     },
     "execution_count": 11,
     "metadata": {},
     "output_type": "execute_result"
    }
   ],
   "source": [
    "tf.multiply(m_tf, m_tf)"
   ]
  },
  {
   "cell_type": "code",
   "execution_count": 12,
   "id": "7e42e66d",
   "metadata": {},
   "outputs": [
    {
     "data": {
      "text/plain": [
       "tensor([[1, 1, 9],\n",
       "        [1, 0, 4]])"
      ]
     },
     "execution_count": 12,
     "metadata": {},
     "output_type": "execute_result"
    }
   ],
   "source": [
    "torch.multiply(m_torch, m_torch)"
   ]
  },
  {
   "cell_type": "code",
   "execution_count": null,
   "id": "87c41f90",
   "metadata": {},
   "outputs": [],
   "source": []
  },
  {
   "cell_type": "code",
   "execution_count": 13,
   "id": "72786a83",
   "metadata": {},
   "outputs": [
    {
     "data": {
      "text/plain": [
       "array([[11,  7],\n",
       "       [ 7,  5]])"
      ]
     },
     "execution_count": 13,
     "metadata": {},
     "output_type": "execute_result"
    }
   ],
   "source": [
    "np.matmul(m_np, m_np.transpose())"
   ]
  },
  {
   "cell_type": "code",
   "execution_count": 14,
   "id": "31f3acd6",
   "metadata": {},
   "outputs": [
    {
     "data": {
      "text/plain": [
       "<tf.Tensor: shape=(2, 2), dtype=int32, numpy=\n",
       "array([[11,  7],\n",
       "       [ 7,  5]])>"
      ]
     },
     "execution_count": 14,
     "metadata": {},
     "output_type": "execute_result"
    }
   ],
   "source": [
    "tf.matmul(m_tf, tf.transpose(m_tf))"
   ]
  },
  {
   "cell_type": "code",
   "execution_count": 15,
   "id": "9f6ac12b",
   "metadata": {},
   "outputs": [
    {
     "data": {
      "text/plain": [
       "tensor([[11,  7],\n",
       "        [ 7,  5]])"
      ]
     },
     "execution_count": 15,
     "metadata": {},
     "output_type": "execute_result"
    }
   ],
   "source": [
    "torch.matmul(m_torch, m_torch.T)"
   ]
  },
  {
   "cell_type": "code",
   "execution_count": 16,
   "id": "e1ed8840",
   "metadata": {},
   "outputs": [
    {
     "data": {
      "text/plain": [
       "tensor([[11,  7],\n",
       "        [ 7,  5]])"
      ]
     },
     "execution_count": 16,
     "metadata": {},
     "output_type": "execute_result"
    }
   ],
   "source": [
    "# all are equivalent to:\n",
    "m_torch @ m_torch.T"
   ]
  },
  {
   "cell_type": "code",
   "execution_count": null,
   "id": "9af5a60b",
   "metadata": {},
   "outputs": [],
   "source": []
  },
  {
   "cell_type": "markdown",
   "id": "81aa5d88",
   "metadata": {},
   "source": [
    "### PyTorch device\n",
    "\n",
    "PyTorch can directly access GPU too, so (after some config) it's your choice where you want to process the data"
   ]
  },
  {
   "cell_type": "code",
   "execution_count": 17,
   "id": "7b47949f",
   "metadata": {},
   "outputs": [
    {
     "data": {
      "text/plain": [
       "device(type='cpu')"
      ]
     },
     "execution_count": 17,
     "metadata": {},
     "output_type": "execute_result"
    }
   ],
   "source": [
    "a_torch.device"
   ]
  },
  {
   "cell_type": "code",
   "execution_count": 18,
   "id": "8b51c3e4",
   "metadata": {},
   "outputs": [
    {
     "name": "stdout",
     "output_type": "stream",
     "text": [
      "False\n",
      "Using device: cpu\n"
     ]
    }
   ],
   "source": [
    "print(torch.cuda.is_available())\n",
    "\n",
    "device = torch.device('cuda' if torch.cuda.is_available() else 'cpu')\n",
    "print('Using device:', device)\n",
    "\n",
    "if torch.cuda.is_available():\n",
    "    a_torch = a_torch.to('cuda')"
   ]
  },
  {
   "cell_type": "code",
   "execution_count": null,
   "id": "34d3946e",
   "metadata": {},
   "outputs": [],
   "source": []
  },
  {
   "cell_type": "code",
   "execution_count": null,
   "id": "e736039e",
   "metadata": {},
   "outputs": [],
   "source": []
  },
  {
   "cell_type": "markdown",
   "id": "6b2b94da",
   "metadata": {},
   "source": [
    "### PyTorch autograd\n",
    "\n",
    "Automatically includes gradient in Tensors\n",
    "\n",
    "Turning it off:\n",
    "- for given tensor: `requires_grad=False` \n",
    "- globally: `with torch.nograd():`\n",
    "    \n",
    "\n",
    "\n",
    "<img src='https://camo.githubusercontent.com/fe04780daa63b97b30b69ce1208c40f74b9e33cda32128e6c8a9839587d7a216/68747470733a2f2f63646e2d696d616765732d312e6d656469756d2e636f6d2f6d61782f313630302f312a774531663269374c385152773869755678356d4f70772e706e67' width = 550>"
   ]
  },
  {
   "cell_type": "code",
   "execution_count": 19,
   "id": "35490020",
   "metadata": {},
   "outputs": [],
   "source": [
    "from torchviz import make_dot\n",
    "from IPython.display import Image"
   ]
  },
  {
   "cell_type": "code",
   "execution_count": 20,
   "id": "ad661c98",
   "metadata": {},
   "outputs": [],
   "source": [
    "x = torch.tensor(np.array([1, 2, 3, 4, 5], dtype = 'float'), requires_grad=True)\n",
    "\n",
    "y = x**3 + x*2\n",
    "z = y + 10\n",
    "\n",
    "r = z.sum()"
   ]
  },
  {
   "cell_type": "code",
   "execution_count": 21,
   "id": "653f693a",
   "metadata": {},
   "outputs": [
    {
     "data": {
      "image/png": "[encoded data removed]",
      "text/plain": [
       "<IPython.core.display.Image object>"
      ]
     },
     "execution_count": 21,
     "metadata": {
      "image/png": {
       "height": 450
      }
     },
     "output_type": "execute_result"
    }
   ],
   "source": [
    "path_image = \"torch_viz/attached\"\n",
    "_format = 'png'\n",
    "\n",
    "make_dot(r, show_attrs = True).render(path_image, format = _format)\n",
    "Image(path_image + '.' + _format, height = 450)"
   ]
  },
  {
   "cell_type": "code",
   "execution_count": 22,
   "id": "3b1a9a0f",
   "metadata": {},
   "outputs": [
    {
     "data": {
      "text/plain": [
       "tensor([1., 2., 3., 4., 5.], dtype=torch.float64, requires_grad=True)"
      ]
     },
     "execution_count": 22,
     "metadata": {},
     "output_type": "execute_result"
    }
   ],
   "source": [
    "x"
   ]
  },
  {
   "cell_type": "code",
   "execution_count": 23,
   "id": "4fcce760",
   "metadata": {},
   "outputs": [
    {
     "data": {
      "text/plain": [
       "tensor([  3.,  12.,  33.,  72., 135.], dtype=torch.float64,\n",
       "       grad_fn=<AddBackward0>)"
      ]
     },
     "execution_count": 23,
     "metadata": {},
     "output_type": "execute_result"
    }
   ],
   "source": [
    "y"
   ]
  },
  {
   "cell_type": "code",
   "execution_count": 24,
   "id": "98f57bce",
   "metadata": {},
   "outputs": [
    {
     "data": {
      "text/plain": [
       "tensor([ 13.,  22.,  43.,  82., 145.], dtype=torch.float64,\n",
       "       grad_fn=<AddBackward0>)"
      ]
     },
     "execution_count": 24,
     "metadata": {},
     "output_type": "execute_result"
    }
   ],
   "source": [
    "z"
   ]
  },
  {
   "cell_type": "code",
   "execution_count": 25,
   "id": "23a714fb",
   "metadata": {},
   "outputs": [
    {
     "data": {
      "text/plain": [
       "tensor(305., dtype=torch.float64, grad_fn=<SumBackward0>)"
      ]
     },
     "execution_count": 25,
     "metadata": {},
     "output_type": "execute_result"
    }
   ],
   "source": [
    "r"
   ]
  },
  {
   "cell_type": "code",
   "execution_count": null,
   "id": "01b3e4af",
   "metadata": {},
   "outputs": [],
   "source": []
  },
  {
   "cell_type": "code",
   "execution_count": 26,
   "id": "b3d529ec",
   "metadata": {},
   "outputs": [],
   "source": [
    "x.grad_fn"
   ]
  },
  {
   "cell_type": "code",
   "execution_count": 27,
   "id": "bb504953",
   "metadata": {},
   "outputs": [
    {
     "data": {
      "text/plain": [
       "<AddBackward0 at 0x26814649d00>"
      ]
     },
     "execution_count": 27,
     "metadata": {},
     "output_type": "execute_result"
    }
   ],
   "source": [
    "y.grad_fn"
   ]
  },
  {
   "cell_type": "code",
   "execution_count": 28,
   "id": "ce4655e2",
   "metadata": {},
   "outputs": [
    {
     "data": {
      "text/plain": [
       "<AddBackward0 at 0x26814649d90>"
      ]
     },
     "execution_count": 28,
     "metadata": {},
     "output_type": "execute_result"
    }
   ],
   "source": [
    "z.grad_fn"
   ]
  },
  {
   "cell_type": "code",
   "execution_count": 29,
   "id": "8331c382",
   "metadata": {},
   "outputs": [
    {
     "data": {
      "text/plain": [
       "<SumBackward0 at 0x268146498b0>"
      ]
     },
     "execution_count": 29,
     "metadata": {},
     "output_type": "execute_result"
    }
   ],
   "source": [
    "r.grad_fn"
   ]
  },
  {
   "cell_type": "code",
   "execution_count": null,
   "id": "827977c9",
   "metadata": {},
   "outputs": [],
   "source": []
  },
  {
   "cell_type": "markdown",
   "id": "15757e8e",
   "metadata": {},
   "source": [
    "'r' is the 'output', so we can 'backpropagate' to the very beginning"
   ]
  },
  {
   "cell_type": "code",
   "execution_count": 30,
   "id": "55fbc56f",
   "metadata": {},
   "outputs": [
    {
     "data": {
      "text/plain": [
       "<SumBackward0 at 0x268146498b0>"
      ]
     },
     "execution_count": 30,
     "metadata": {},
     "output_type": "execute_result"
    }
   ],
   "source": [
    "r.grad_fn"
   ]
  },
  {
   "cell_type": "code",
   "execution_count": 31,
   "id": "6de519bf",
   "metadata": {},
   "outputs": [
    {
     "data": {
      "text/plain": [
       "<AddBackward0 at 0x26814649d90>"
      ]
     },
     "execution_count": 31,
     "metadata": {},
     "output_type": "execute_result"
    }
   ],
   "source": [
    "r.grad_fn.next_functions[0][0]"
   ]
  },
  {
   "cell_type": "code",
   "execution_count": 32,
   "id": "3492e6ef",
   "metadata": {},
   "outputs": [
    {
     "data": {
      "text/plain": [
       "<AddBackward0 at 0x26814649d00>"
      ]
     },
     "execution_count": 32,
     "metadata": {},
     "output_type": "execute_result"
    }
   ],
   "source": [
    "r.grad_fn.next_functions[0][0].next_functions[0][0]"
   ]
  },
  {
   "cell_type": "code",
   "execution_count": 33,
   "id": "53598703",
   "metadata": {},
   "outputs": [
    {
     "data": {
      "text/plain": [
       "((<PowBackward0 at 0x268146494f0>, 0), (<MulBackward0 at 0x268146499d0>, 0))"
      ]
     },
     "execution_count": 33,
     "metadata": {},
     "output_type": "execute_result"
    }
   ],
   "source": [
    "r.grad_fn.next_functions[0][0].next_functions[0][0].next_functions"
   ]
  },
  {
   "cell_type": "code",
   "execution_count": 34,
   "id": "37c961d7",
   "metadata": {},
   "outputs": [
    {
     "data": {
      "text/plain": [
       "<AccumulateGrad at 0x268146494c0>"
      ]
     },
     "execution_count": 34,
     "metadata": {},
     "output_type": "execute_result"
    }
   ],
   "source": [
    "r.grad_fn.next_functions[0][0].next_functions[0][0].next_functions[0][0].next_functions[0][0]"
   ]
  },
  {
   "cell_type": "code",
   "execution_count": 35,
   "id": "47ed0d0d",
   "metadata": {},
   "outputs": [
    {
     "data": {
      "text/plain": [
       "()"
      ]
     },
     "execution_count": 35,
     "metadata": {},
     "output_type": "execute_result"
    }
   ],
   "source": [
    "r.grad_fn.next_functions[0][0].next_functions[0][0].next_functions[0][0].next_functions[0][0].next_functions"
   ]
  },
  {
   "cell_type": "code",
   "execution_count": null,
   "id": "01474624",
   "metadata": {},
   "outputs": [],
   "source": []
  },
  {
   "cell_type": "code",
   "execution_count": null,
   "id": "f0ca501a",
   "metadata": {},
   "outputs": [],
   "source": []
  },
  {
   "cell_type": "markdown",
   "id": "0927ffa7",
   "metadata": {},
   "source": [
    "How to get the actual derivatives?"
   ]
  },
  {
   "cell_type": "code",
   "execution_count": 36,
   "id": "51ee49a8",
   "metadata": {},
   "outputs": [],
   "source": [
    "r.backward()"
   ]
  },
  {
   "cell_type": "code",
   "execution_count": 37,
   "id": "f6c20a6d",
   "metadata": {},
   "outputs": [
    {
     "data": {
      "text/plain": [
       "tensor([1., 2., 3., 4., 5.], dtype=torch.float64, requires_grad=True)"
      ]
     },
     "execution_count": 37,
     "metadata": {},
     "output_type": "execute_result"
    }
   ],
   "source": [
    "x"
   ]
  },
  {
   "cell_type": "code",
   "execution_count": 38,
   "id": "3993a553",
   "metadata": {},
   "outputs": [
    {
     "data": {
      "text/plain": [
       "tensor([ 5., 14., 29., 50., 77.], dtype=torch.float64)"
      ]
     },
     "execution_count": 38,
     "metadata": {},
     "output_type": "execute_result"
    }
   ],
   "source": [
    "x.grad"
   ]
  },
  {
   "cell_type": "markdown",
   "id": "3663d53d",
   "metadata": {},
   "source": [
    "Function: $x^{3} + 2x$ + 10\n",
    "\n",
    "Derivative: $3x^{2} + 2$ \n",
    "\n",
    "**x.grad elements are exactly the derivatives of x elements**"
   ]
  },
  {
   "cell_type": "code",
   "execution_count": null,
   "id": "b0caa943",
   "metadata": {},
   "outputs": [],
   "source": []
  },
  {
   "cell_type": "markdown",
   "id": "3b4c53c4",
   "metadata": {},
   "source": [
    "## Datasets for DL\n",
    "\n",
    "For TF and torch come with their own dataset-handling wrappers that help training. The goal is to put the X and y in the most optimal format before training NNs\n"
   ]
  },
  {
   "cell_type": "code",
   "execution_count": 2,
   "id": "7d0d7574",
   "metadata": {},
   "outputs": [],
   "source": [
    "import datetime\n",
    "from sklearn.model_selection import train_test_split\n",
    "from sklearn.datasets import make_regression, make_sparse_uncorrelated\n",
    "%load_ext tensorboard"
   ]
  },
  {
   "cell_type": "code",
   "execution_count": 3,
   "id": "360081a6",
   "metadata": {},
   "outputs": [],
   "source": [
    "X, y = make_sparse_uncorrelated(1000, 4, random_state = 91)\n",
    "X_train, X_test, y_train, y_test = train_test_split(X, y, random_state = 91, train_size = 0.8)"
   ]
  },
  {
   "cell_type": "code",
   "execution_count": null,
   "id": "29c78515",
   "metadata": {},
   "outputs": [],
   "source": []
  },
  {
   "cell_type": "markdown",
   "id": "7f0ad92f",
   "metadata": {},
   "source": [
    "How easy is it to model the data?\n",
    "\n"
   ]
  },
  {
   "cell_type": "code",
   "execution_count": 402,
   "id": "10fcf408",
   "metadata": {},
   "outputs": [
    {
     "name": "stdout",
     "output_type": "stream",
     "text": [
      "RMSE LinReg: 1.0598040720997706\n",
      "r2 LinReg: 0.9185904325568609\n"
     ]
    }
   ],
   "source": [
    "from sklearn.linear_model import LinearRegression\n",
    "from sklearn.metrics import r2_score, mean_squared_error\n",
    "\n",
    "\n",
    "lr = LinearRegression().fit(X_train, y_train)\n",
    "print('RMSE LinReg:', mean_squared_error(y_test, lr.predict(X_test), squared=False))\n",
    "print('r2 LinReg:', r2_score(y_test, lr.predict(X_test)))"
   ]
  },
  {
   "cell_type": "code",
   "execution_count": null,
   "id": "2bda9216",
   "metadata": {},
   "outputs": [],
   "source": []
  },
  {
   "cell_type": "markdown",
   "id": "7167a430",
   "metadata": {},
   "source": [
    "\n",
    "### TensorFlow"
   ]
  },
  {
   "cell_type": "code",
   "execution_count": 403,
   "id": "05725232",
   "metadata": {},
   "outputs": [],
   "source": [
    "from tensorflow.data import Dataset"
   ]
  },
  {
   "cell_type": "code",
   "execution_count": 404,
   "id": "17fb3124",
   "metadata": {},
   "outputs": [
    {
     "data": {
      "text/plain": [
       "<TensorSliceDataset element_spec=(TensorSpec(shape=(4,), dtype=tf.float64, name=None), TensorSpec(shape=(), dtype=tf.float64, name=None))>"
      ]
     },
     "execution_count": 404,
     "metadata": {},
     "output_type": "execute_result"
    }
   ],
   "source": [
    "Dataset.from_tensor_slices((X, y))"
   ]
  },
  {
   "cell_type": "code",
   "execution_count": 405,
   "id": "938dd948",
   "metadata": {},
   "outputs": [
    {
     "data": {
      "text/plain": [
       "[(<tf.Tensor: shape=(4,), dtype=float64, numpy=array([-0.60612102, -1.05993975, -0.55091967, -0.27568627])>,\n",
       "  <tf.Tensor: shape=(), dtype=float64, numpy=0.6211824216799966>),\n",
       " (<tf.Tensor: shape=(4,), dtype=float64, numpy=array([ 1.22225373, -0.90585899,  0.06935217,  2.17865566])>,\n",
       "  <tf.Tensor: shape=(), dtype=float64, numpy=-5.045025241674523>),\n",
       " (<tf.Tensor: shape=(4,), dtype=float64, numpy=array([ 0.14731691,  0.51725713, -1.29397945, -1.0548876 ])>,\n",
       "  <tf.Tensor: shape=(), dtype=float64, numpy=4.40408336785234>),\n",
       " (<tf.Tensor: shape=(4,), dtype=float64, numpy=array([0.46476874, 0.23410601, 1.77886602, 0.86387667])>,\n",
       "  <tf.Tensor: shape=(), dtype=float64, numpy=-3.656616819939237>),\n",
       " (<tf.Tensor: shape=(4,), dtype=float64, numpy=array([-0.02505936, -0.15748755, -0.69803799, -0.17109056])>,\n",
       "  <tf.Tensor: shape=(), dtype=float64, numpy=0.8741320952221957>),\n",
       " (<tf.Tensor: shape=(4,), dtype=float64, numpy=array([-0.66477563,  0.57844215,  2.11737829, -0.44639435])>,\n",
       "  <tf.Tensor: shape=(), dtype=float64, numpy=-2.4674961406530027>),\n",
       " (<tf.Tensor: shape=(4,), dtype=float64, numpy=array([-0.66693906,  0.48079725,  1.98498011,  0.39190894])>,\n",
       "  <tf.Tensor: shape=(), dtype=float64, numpy=-3.9499691647026944>),\n",
       " (<tf.Tensor: shape=(4,), dtype=float64, numpy=array([ 2.3982028 ,  2.41736027, -1.61411983, -0.21642658])>,\n",
       "  <tf.Tensor: shape=(), dtype=float64, numpy=10.844035507747762>),\n",
       " (<tf.Tensor: shape=(4,), dtype=float64, numpy=array([ 1.66363212, -0.12201627,  1.39842066, -0.63836468])>,\n",
       "  <tf.Tensor: shape=(), dtype=float64, numpy=0.5606609527857446>),\n",
       " (<tf.Tensor: shape=(4,), dtype=float64, numpy=array([-0.79995595,  0.97931238, -0.97706732,  0.52231952])>,\n",
       "  <tf.Tensor: shape=(), dtype=float64, numpy=0.8873081499861761>)]"
      ]
     },
     "execution_count": 405,
     "metadata": {},
     "output_type": "execute_result"
    }
   ],
   "source": [
    "[x for x in Dataset.from_tensor_slices((X, y))][:10]"
   ]
  },
  {
   "cell_type": "code",
   "execution_count": null,
   "id": "94bee49c",
   "metadata": {},
   "outputs": [],
   "source": []
  },
  {
   "cell_type": "code",
   "execution_count": 406,
   "id": "1d659d9c",
   "metadata": {},
   "outputs": [
    {
     "data": {
      "text/plain": [
       "<TensorDataset element_spec=(TensorSpec(shape=(1000, 4), dtype=tf.float64, name=None), TensorSpec(shape=(1000,), dtype=tf.float64, name=None))>"
      ]
     },
     "execution_count": 406,
     "metadata": {},
     "output_type": "execute_result"
    }
   ],
   "source": [
    "Dataset.from_tensors((X, y))"
   ]
  },
  {
   "cell_type": "code",
   "execution_count": 407,
   "id": "55d5d79a",
   "metadata": {},
   "outputs": [
    {
     "data": {
      "text/plain": [
       "[(<tf.Tensor: shape=(1000, 4), dtype=float64, numpy=\n",
       "  array([[-0.60612102, -1.05993975, -0.55091967, -0.27568627],\n",
       "         [ 1.22225373, -0.90585899,  0.06935217,  2.17865566],\n",
       "         [ 0.14731691,  0.51725713, -1.29397945, -1.0548876 ],\n",
       "         ...,\n",
       "         [ 1.71064186,  0.58880101, -3.15157693, -1.3577635 ],\n",
       "         [-0.2008195 ,  2.46525881,  1.23490332, -0.19678863],\n",
       "         [-2.09930991, -0.86142285, -1.01306882, -0.50562339]])>,\n",
       "  <tf.Tensor: shape=(1000,), dtype=float64, numpy=\n",
       "  array([ 6.21182422e-01, -5.04502524e+00,  4.40408337e+00, -3.65661682e+00,\n",
       "          8.74132095e-01, -2.46749614e+00, -3.94996916e+00,  1.08440355e+01,\n",
       "          5.60660953e-01,  8.87308150e-01,  4.14963770e+00, -3.01479165e+00,\n",
       "         -6.18279644e-01,  1.44367833e+00,  5.57109007e+00, -9.59344050e-02,\n",
       "         -1.36674470e+00,  1.13976415e+00,  5.10246521e+00, -6.58202638e-01,\n",
       "         -2.18436493e+00,  3.43178682e+00,  3.69990417e+00,  6.68486892e-01,\n",
       "          2.90822252e+00,  4.63863450e+00,  3.29343902e+00,  1.24795021e+00,\n",
       "          3.70293700e+00,  2.76582770e+00, -7.24898356e-01, -1.61895873e+00,\n",
       "         -3.05590110e-01, -1.83894804e+00, -1.06872262e+00, -8.34459197e-01,\n",
       "         -2.04195575e+00, -4.05444741e+00, -1.15197317e+00,  5.22289170e+00,\n",
       "         -5.14723835e+00, -5.64130446e+00,  2.75264879e+00, -8.21485158e-01,\n",
       "         -4.91206410e+00, -4.29767550e+00, -7.35737304e+00, -1.05608665e+00,\n",
       "          3.31904659e+00,  2.89694437e+00, -5.09981310e-01,  4.10785551e+00,\n",
       "          3.89979741e+00,  6.13862629e+00, -2.57811865e+00,  2.65243607e-01,\n",
       "          1.15525173e+00, -5.73591317e+00, -2.14630720e+00, -2.62519557e+00,\n",
       "         -8.22578733e+00,  3.38400005e+00,  2.63630858e+00,  4.45165736e+00,\n",
       "         -1.43266226e+00,  5.49938496e+00,  3.04182400e+00, -1.55219822e+00,\n",
       "         -4.80884127e+00,  3.89424637e+00, -1.89159276e+00, -2.74241651e+00,\n",
       "          1.80460782e+00, -5.99414049e+00,  2.13346143e+00, -6.89630942e-01,\n",
       "          3.41144976e+00, -2.41352834e-02,  2.39381716e+00,  3.35647623e+00,\n",
       "          7.32819619e-01,  2.64978508e+00,  4.25665356e-01, -2.83008991e+00,\n",
       "         -7.85080741e-01,  4.87135408e-01,  4.23930388e+00, -2.86936079e+00,\n",
       "         -1.66856386e+00,  2.05750173e-01,  5.71598787e+00,  8.24146193e-01,\n",
       "          3.47203010e+00,  5.46618325e+00,  3.67080234e-01,  3.17131816e+00,\n",
       "         -4.56427244e+00, -1.10449327e+00,  6.25748197e+00,  2.91402477e+00,\n",
       "         -4.02802868e+00, -4.56304501e-01, -1.36573719e+00, -2.29811402e+00,\n",
       "         -7.12834282e-01, -3.67146273e+00,  2.42793336e+00,  7.43040979e+00,\n",
       "         -3.57883851e-01, -1.77016497e-01, -3.38676239e+00,  9.55197136e-01,\n",
       "          2.20160997e+00, -5.02976243e+00,  1.60299198e+00,  4.16173629e-01,\n",
       "          4.64761284e+00,  4.75498704e-02, -1.29960556e+00, -1.59620049e+00,\n",
       "          5.30661470e-02, -2.66031604e+00,  1.59371553e+00,  1.47138419e+00,\n",
       "          8.22317424e+00,  5.84309201e-01, -5.12374235e+00,  3.39682187e+00,\n",
       "         -4.78907108e-01,  4.99594029e+00, -2.90673361e+00, -6.50664515e-01,\n",
       "         -3.52836282e+00, -2.38958038e-01,  5.79750208e+00, -3.91696494e-01,\n",
       "          2.72698356e+00,  3.19349170e-01, -2.23562300e+00,  1.37121373e+00,\n",
       "         -4.22859642e+00, -1.79258841e+00,  7.17525460e-01,  1.60348883e+00,\n",
       "          9.43571849e-01, -2.91908647e+00, -2.04843186e+00,  1.80057892e+00,\n",
       "          5.25354686e+00, -4.17001529e+00,  5.49148367e+00, -3.87645468e-02,\n",
       "          3.70563870e+00, -5.87912133e+00, -6.00938371e+00, -5.15763952e+00,\n",
       "          3.03907323e+00,  4.83334310e+00,  1.18911601e+00, -3.63127941e-01,\n",
       "         -3.17274024e+00, -2.75417628e+00, -1.23831625e+00,  4.10224246e+00,\n",
       "          1.39286889e+00, -3.38071191e+00, -3.79755879e+00, -5.92566282e+00,\n",
       "          1.38672513e+00, -2.55255338e+00,  3.25157353e+00, -3.74537558e-01,\n",
       "          5.84458942e+00, -7.91153589e-01,  1.91973176e+00,  3.37140488e-01,\n",
       "         -3.33721740e+00,  4.41199367e+00,  2.41956496e-01,  1.57323939e-01,\n",
       "          7.86412560e+00, -1.03660179e+00,  5.34031141e+00,  4.46476114e-01,\n",
       "          4.93876505e+00, -3.19184243e+00, -2.71994346e+00, -9.98155613e-01,\n",
       "         -5.42214512e+00,  2.42774088e+00, -4.17971873e+00, -1.91818705e+00,\n",
       "          6.97890820e-02,  1.41867646e+00,  3.12594031e+00, -5.17170239e+00,\n",
       "          1.80362330e+00,  7.31481006e+00, -4.84023889e+00,  9.48035646e+00,\n",
       "         -3.52407274e+00,  9.60848450e+00,  5.46600998e+00, -5.09407136e+00,\n",
       "          1.07310606e+00, -5.49136638e+00,  2.57166330e+00,  4.02368054e+00,\n",
       "          7.77158342e+00,  4.95284114e+00,  1.59472740e-01,  3.47140665e+00,\n",
       "         -1.82463087e+00,  4.14901164e-01,  3.08788061e+00,  4.08351559e+00,\n",
       "          1.60586866e+00,  3.54451534e+00, -3.50383941e+00,  5.41309355e+00,\n",
       "         -3.18980764e+00,  3.11218842e-01, -4.53594059e+00, -5.94605121e-01,\n",
       "         -3.17026324e-01,  6.23919243e-01,  3.83345176e+00,  1.55247475e+00,\n",
       "         -4.45731638e+00, -4.34838023e+00, -1.09252143e+00, -1.84560235e+00,\n",
       "          1.87676663e+00,  3.54882424e+00,  3.92977612e+00,  2.52581645e+00,\n",
       "          1.71692583e+00,  1.17819397e+00, -9.23155901e-02, -6.38213674e+00,\n",
       "         -2.80313914e+00, -3.27829295e+00, -6.86763362e-01, -4.83199424e+00,\n",
       "          5.73237743e+00,  3.07579454e+00, -3.30067509e+00, -2.01798555e+00,\n",
       "          4.49153336e+00,  8.09331499e+00,  3.96455711e-01,  6.01018309e+00,\n",
       "          1.31850172e-01, -2.50982950e+00,  7.89692187e-01, -1.69365847e+00,\n",
       "         -2.89836805e+00,  7.07751709e+00,  4.68331889e+00, -3.54950812e+00,\n",
       "         -3.87291826e-01, -2.55027231e+00,  9.96758617e+00, -5.63028047e+00,\n",
       "         -1.01996245e+00, -1.00579056e+00,  6.74883336e+00,  4.86857295e+00,\n",
       "          8.10440602e-01, -3.32115951e+00,  1.47092256e+00,  1.25913525e+00,\n",
       "          1.77786740e+00, -2.88571389e+00, -1.07087649e+00,  2.74198605e-01,\n",
       "          2.84840704e+00, -3.73223012e+00, -1.83828324e+00, -3.09148264e+00,\n",
       "         -1.03502548e+00, -2.42471243e+00, -2.29626592e+00, -2.34280139e+00,\n",
       "         -3.17469740e+00, -3.21240955e+00, -7.04758480e-01, -3.49454744e+00,\n",
       "         -7.53185287e+00,  3.62712527e+00,  6.06557414e+00, -9.63381379e-01,\n",
       "          5.60205578e-01,  1.12275386e+00,  1.01979679e+00,  8.52317076e-01,\n",
       "         -2.26629799e+00, -6.50983285e-01, -3.00986542e+00,  2.60103103e+00,\n",
       "          5.92110783e+00, -1.59012409e+00, -2.20011156e-01, -4.33724898e+00,\n",
       "          2.12654494e+00,  2.99220444e+00, -3.76344641e-01,  6.24706374e+00,\n",
       "          2.80476625e+00, -6.28632754e+00, -2.82305744e+00, -5.16271189e+00,\n",
       "         -3.69769416e+00, -4.69451674e+00,  1.23718002e+00,  5.89740994e+00,\n",
       "         -1.47471674e+00, -5.21777994e+00, -3.95027786e+00,  4.52288123e+00,\n",
       "         -7.33734507e-01, -4.57913174e+00,  1.25291395e+00, -5.16435989e-01,\n",
       "          1.23081702e+00, -9.01700464e-01,  3.10444347e+00, -3.55157071e+00,\n",
       "         -3.15113144e+00, -9.04070157e-01,  2.21754005e+00, -1.46009731e+00,\n",
       "          3.78262095e-01, -4.34423425e+00, -7.49478354e+00, -1.95057491e+00,\n",
       "         -3.60012075e+00, -8.72257059e+00, -2.35927520e+00,  7.48946459e+00,\n",
       "          1.06306516e+00, -7.67978469e+00, -5.39174819e-01, -2.31843499e-01,\n",
       "          2.74537577e+00, -6.57177218e+00, -5.80032391e+00, -4.92091683e+00,\n",
       "         -5.71077463e+00,  4.97738056e-01,  6.20120663e-01,  3.26549213e+00,\n",
       "          5.37099382e+00,  1.68968660e-01, -1.03845010e+00,  3.67238572e+00,\n",
       "         -2.79655477e+00, -3.34001569e+00,  1.01367343e+00, -1.44087058e+00,\n",
       "          3.49103652e+00,  2.44181758e-01, -1.88890080e+00,  5.54967878e+00,\n",
       "         -4.07547931e-01,  2.66068621e+00, -2.96306368e-01, -2.97443082e+00,\n",
       "         -1.78233307e+00,  1.01456941e+00, -5.20242754e+00, -2.76008651e+00,\n",
       "         -3.19724495e+00, -6.53548398e-01,  2.66540879e+00, -5.78653232e-01,\n",
       "         -1.91171729e+00,  2.43961109e+00, -3.45959903e+00, -1.74605764e+00,\n",
       "         -1.78026136e+00, -3.41549013e+00, -7.32066477e+00,  6.67523782e+00,\n",
       "         -5.00499288e+00,  7.20983584e+00,  1.02760926e+00, -1.15493846e+00,\n",
       "          1.04633183e-01,  4.60789849e+00, -4.94885768e+00, -3.69257937e+00,\n",
       "         -5.17969973e+00,  4.60706112e+00, -2.58707038e+00, -1.55413898e+00,\n",
       "          4.50700238e-01,  3.01769894e-01, -1.67533758e+00, -1.95285291e+00,\n",
       "          3.84562150e+00,  2.87643026e+00,  1.88013626e-01, -2.67733705e-01,\n",
       "          2.43429508e+00,  2.57993038e+00,  1.76435645e+00, -2.02923180e+00,\n",
       "          3.20974571e+00,  2.83126450e+00, -9.66883776e-01, -5.93972454e+00,\n",
       "         -2.98744284e+00, -2.40564460e+00, -8.08503291e-02,  3.61646458e+00,\n",
       "          1.39793083e+00, -3.78560555e+00,  3.33504984e+00,  5.22198674e+00,\n",
       "         -5.92035689e+00,  7.94308015e+00,  5.49781858e+00, -4.92125092e-01,\n",
       "          1.18491235e+00,  1.97701027e+00, -1.07629141e+01,  2.65179097e+00,\n",
       "         -2.26192142e-01,  4.48414888e+00,  1.33916375e+00,  3.10425752e+00,\n",
       "          2.79607616e+00, -4.64462048e-01, -1.27296051e+00,  5.74107200e+00,\n",
       "         -6.33411511e+00,  2.24873923e+00, -4.05730197e+00, -4.87704079e+00,\n",
       "         -1.83008512e+00, -6.41822461e+00,  3.18270401e-02,  9.83445773e-01,\n",
       "         -2.56661788e-01, -1.44929132e+00,  1.97922521e+00,  6.13784824e-01,\n",
       "         -3.48029384e+00, -7.20130147e+00, -2.98805452e+00, -1.98749846e+00,\n",
       "          7.39618864e-01, -2.87420846e+00,  5.40502052e+00,  9.54499950e-01,\n",
       "          2.46200832e+00, -5.92144127e+00, -3.62088407e+00, -1.54178238e+00,\n",
       "          2.35154308e+00, -8.31817670e-01,  1.79457447e+00, -8.22161857e+00,\n",
       "         -2.68938117e+00,  6.58764825e+00, -3.47804980e+00, -1.11750256e+00,\n",
       "          1.42673106e+00,  4.05390879e+00, -6.60817339e+00,  4.07726258e+00,\n",
       "         -1.66500840e+00, -6.82283999e+00,  3.95370642e-01, -1.73160705e-01,\n",
       "         -4.34291782e-01,  9.23247420e-01,  1.47580603e+00,  5.73274665e+00,\n",
       "         -9.51549286e-01,  3.41361495e-01, -1.74427396e+00, -3.21750645e+00,\n",
       "         -5.79996759e+00,  1.19234435e+00, -4.03925967e+00, -1.46922911e-01,\n",
       "         -1.85921499e+00,  3.00015388e+00, -2.51853569e+00,  3.69518706e+00,\n",
       "          1.40348513e+00, -2.54504042e+00, -1.88280822e+00, -3.43496546e+00,\n",
       "          1.68048147e+00,  8.95138653e+00,  1.57225904e+00,  2.60178594e+00,\n",
       "         -2.29674470e+00, -4.08617154e+00, -2.33222084e+00,  4.59999621e+00,\n",
       "          9.74987301e-01, -6.53981204e+00, -3.72005935e+00,  5.73226509e+00,\n",
       "         -3.68173395e+00,  6.51723058e-01,  5.61849247e-01, -7.37201487e-01,\n",
       "         -6.10215415e+00, -1.32942909e+00, -6.57778583e+00,  2.57765358e+00,\n",
       "         -1.24394780e+00,  4.56936893e+00,  7.55260995e-01, -2.78033478e+00,\n",
       "         -1.83376430e+00, -6.74766707e+00,  5.20907935e-01,  8.35551408e+00,\n",
       "         -2.07226442e+00, -2.06463284e+00,  6.22874120e+00, -3.41733438e+00,\n",
       "         -1.71856061e+00,  3.80560913e+00,  3.75358153e+00, -2.80666848e+00,\n",
       "         -3.85774355e+00,  6.94772718e+00, -3.18972422e+00,  1.85371119e+00,\n",
       "          6.27843624e+00,  2.46398128e+00,  4.90836980e+00,  5.29838616e+00,\n",
       "         -1.89787256e+00, -1.32892610e+00, -8.06360567e+00, -2.06976748e+00,\n",
       "         -1.83651960e+00, -2.58287012e-01,  7.25487790e-02, -7.71541312e+00,\n",
       "          9.90654672e-01, -1.76471152e+00, -1.03322838e-02,  1.71488478e+00,\n",
       "         -3.05410743e-01, -7.87349981e+00, -6.48795614e+00, -7.60221021e+00,\n",
       "          1.76689019e+00, -2.04105742e+00,  1.82393913e+00,  5.57852039e+00,\n",
       "          3.19950087e+00, -7.98579607e+00, -7.08145026e+00,  1.36232902e-02,\n",
       "         -2.59002474e+00, -3.61458816e+00,  9.47789824e-01, -7.49953781e-01,\n",
       "          1.41779733e+00,  4.88526353e+00,  1.07028426e+00,  4.10788151e+00,\n",
       "          5.77676438e+00,  1.37033630e+00, -1.12044218e+00, -1.16176242e+00,\n",
       "          1.31375980e+00, -1.53762188e+00,  9.08388863e-01, -5.31354082e+00,\n",
       "         -1.36972222e+00, -1.87763626e+00,  4.87059365e+00, -1.50204504e+00,\n",
       "          5.55298827e+00, -3.18354907e+00, -7.10552997e-01, -1.84146289e+00,\n",
       "         -4.67728167e+00, -2.74318618e+00,  3.54620562e+00, -4.87440179e-01,\n",
       "          7.65550278e-01, -5.56942315e+00, -6.21332489e-02,  2.59179453e+00,\n",
       "          5.42672977e+00,  3.35913472e+00,  2.71889979e+00,  2.19736347e+00,\n",
       "         -2.35673489e+00,  8.46768786e+00, -4.63853824e+00, -4.08447667e+00,\n",
       "         -6.76674175e+00, -1.45198829e+00, -3.60515873e+00, -1.55461724e-01,\n",
       "         -5.62519831e+00, -4.58701627e+00,  9.75018034e+00,  2.21413548e+00,\n",
       "         -1.37379917e+00,  4.74972450e+00, -3.75559858e+00,  2.33369242e+00,\n",
       "          2.20038459e-01,  2.42367948e+00, -4.72730971e+00,  3.54619207e+00,\n",
       "          7.38687712e+00,  4.94593764e+00, -5.03175767e+00,  2.87593629e+00,\n",
       "          3.29783749e+00,  5.79971014e+00, -2.95235656e+00,  3.95446161e+00,\n",
       "          5.65111410e-01,  6.62533472e+00, -3.98716259e+00, -2.19066582e+00,\n",
       "         -2.97476132e+00,  1.92283715e+00,  2.89315884e-01,  7.88518251e-01,\n",
       "          2.34044236e+00, -3.51334465e+00,  1.28482700e+00,  8.98802188e-01,\n",
       "          6.67716813e+00, -7.66089230e-01, -6.58877229e+00, -2.86960874e+00,\n",
       "         -2.41569286e+00,  1.10379551e+00, -2.94099011e+00, -5.61648059e-01,\n",
       "          3.76179544e+00, -7.21625800e+00, -7.29090255e+00,  4.55942990e+00,\n",
       "          2.59831633e+00, -5.63288477e-01,  3.35390842e+00, -4.30350808e+00,\n",
       "          1.62123287e+00, -9.84097681e-01,  1.70687520e-01,  5.60792921e+00,\n",
       "          4.39849869e-01, -4.48293423e+00,  2.34306325e+00,  4.35150918e+00,\n",
       "          5.81457651e-01,  6.36579100e+00,  2.55317120e+00,  1.68900775e-01,\n",
       "         -2.03348292e+00, -4.05223798e+00, -1.30301081e+00, -2.27770374e+00,\n",
       "         -1.30908050e+00,  3.88485767e+00, -1.33952243e+00,  7.21206904e-01,\n",
       "         -3.47542814e+00, -1.73040183e+00, -2.17181062e+00,  5.28800529e+00,\n",
       "          1.17360925e-03,  2.63676081e+00, -7.17975548e+00,  8.25778884e-01,\n",
       "          1.33921068e+00,  1.34165888e+00,  9.81243372e-01, -4.99690054e+00,\n",
       "          2.93520497e+00, -2.37099263e+00, -4.44676257e+00, -3.18620338e+00,\n",
       "          3.60375896e+00, -6.49016551e+00,  7.67142032e-01, -1.13917592e+00,\n",
       "          1.54765823e+00,  6.04370374e-01, -7.05111670e+00, -3.45395481e+00,\n",
       "          1.63403507e-01, -7.18279965e-01, -7.24297025e+00,  2.03951931e+00,\n",
       "          1.84692233e-01, -1.41707479e+00,  1.48497486e-01,  1.87434093e+00,\n",
       "          3.64089808e+00,  2.14045634e+00, -2.23796835e+00,  5.67350901e+00,\n",
       "         -4.52295239e+00,  1.59089185e+00, -3.56710201e+00,  3.47753845e+00,\n",
       "          3.62527966e-02, -4.47184015e+00,  2.54708662e+00, -1.58460110e+00,\n",
       "         -7.77083849e+00, -7.09482068e-01, -1.22781766e+00,  4.04596799e+00,\n",
       "         -2.72090229e-01, -3.11832522e+00,  2.37873571e+00,  1.92118087e+00,\n",
       "         -1.51660119e+00,  3.83095027e+00, -6.78512286e+00,  4.56372806e-01,\n",
       "         -6.74749468e+00, -1.78204317e+00,  1.49612068e+00,  7.12895424e+00,\n",
       "          2.37108681e-01, -3.64350798e+00, -2.94561014e+00, -1.88064436e+00,\n",
       "          3.56673388e+00, -3.91094810e+00, -2.75025799e+00, -2.38792396e+00,\n",
       "         -5.05308675e+00, -2.75181551e+00, -5.58780197e+00,  1.31120313e+00,\n",
       "         -8.69025789e-01, -2.27286778e+00, -8.06189259e+00,  4.96852566e+00,\n",
       "          6.85235667e-01, -1.54199769e+00, -2.68270528e+00, -3.93817692e+00,\n",
       "         -4.57515216e+00,  1.23052193e-01,  1.76943948e+00, -1.14486235e+00,\n",
       "         -1.02664991e+01, -7.58028617e-02, -3.04365296e+00, -1.07756529e+01,\n",
       "         -6.37646620e+00,  2.46027346e+00, -2.85394710e-02,  5.95270232e-01,\n",
       "          1.21785800e+00, -1.41562876e+00, -4.96322092e+00,  1.47669164e+00,\n",
       "          5.41625123e+00, -8.11619418e-01, -6.25267206e+00, -2.43040455e+00,\n",
       "          6.63409968e+00, -5.49968072e+00,  2.58286183e+00, -6.04026072e-01,\n",
       "         -1.58363893e+00, -2.30169337e+00,  1.22481641e+00,  3.29063648e-01,\n",
       "          2.31490367e-02, -3.15333124e+00, -9.60381287e-01, -2.78610717e+00,\n",
       "         -3.41506100e+00,  3.25171712e-01, -3.14863542e+00,  3.84728075e+00,\n",
       "         -6.61215717e+00, -1.84495275e-01,  3.89173805e+00,  2.93533492e+00,\n",
       "         -1.51748148e+00, -4.15688465e+00, -5.14161909e+00, -2.05915549e+00,\n",
       "          1.18832386e+01, -1.09827490e+00, -7.58967476e+00,  1.77736614e+00,\n",
       "          2.76259783e+00,  1.00456034e+00,  9.82960277e-01,  1.04021282e+00,\n",
       "          8.18383038e-02, -4.19641768e+00,  3.22019918e+00,  7.19222632e-01,\n",
       "          3.86066763e+00,  1.54149085e+00,  1.93320715e+00,  3.54483010e+00,\n",
       "         -8.36847714e-02, -6.68593298e+00, -5.19027958e-01,  1.12132426e+00,\n",
       "          1.19449472e+00, -5.15961899e-01, -9.86159377e-01, -2.14905972e+00,\n",
       "         -3.72291167e+00,  4.23365211e+00,  4.08334068e-01,  6.17905522e-01,\n",
       "          1.47231962e+00,  2.11094598e+00,  1.03217446e+00, -2.65745887e+00,\n",
       "         -2.59441129e+00,  4.90328284e+00, -5.46084221e+00, -2.35297107e-01,\n",
       "         -5.16858535e-01,  1.97628592e+00, -5.66404900e-02,  8.74548723e+00,\n",
       "          1.06744326e+00,  4.92246851e+00,  2.47833599e+00,  1.97805198e+00,\n",
       "          4.92115005e+00, -5.91514758e+00, -6.97685176e-01,  5.17747126e+00,\n",
       "         -3.84023012e+00,  7.32012338e-01,  3.09806545e+00, -1.52653165e+00,\n",
       "         -7.08387738e-01,  6.52417211e-01,  1.59272009e+00,  3.08277602e+00,\n",
       "         -5.06850974e+00, -2.22382096e+00, -1.49013562e+00, -7.27109251e-01,\n",
       "         -1.64133134e+00,  2.45983798e+00, -1.93692429e+00, -4.29936587e+00,\n",
       "         -4.09636908e-01, -7.18781283e-01,  3.91420207e+00,  4.23666690e+00,\n",
       "         -2.47802012e+00, -5.23576308e+00,  1.23377520e+01,  1.25806008e+00,\n",
       "         -4.33966722e+00,  2.83035695e+00,  4.77219811e+00,  4.20704544e+00,\n",
       "          2.72810591e+00, -2.76683641e+00,  5.75747723e+00, -4.14528056e+00,\n",
       "          7.90830299e-01,  3.79219564e+00,  2.99126912e-01,  1.40439352e-01,\n",
       "         -4.86163087e-01, -2.32869671e+00,  2.93193922e+00,  6.55147604e+00,\n",
       "          4.97669050e+00, -2.53602097e+00,  2.45902430e+00, -2.69805713e+00,\n",
       "         -2.48640369e+00, -4.40631192e-01, -3.45275691e+00,  3.47517517e+00,\n",
       "          1.31667811e+00,  2.22852578e+00,  8.35884456e+00,  4.56706955e+00,\n",
       "          5.72716791e+00,  3.07550427e-01, -3.23824854e+00, -1.91566248e+00,\n",
       "         -4.04541111e+00, -6.82701959e-01, -4.06137180e+00, -2.31379994e-01,\n",
       "         -6.30972758e-01, -1.82652944e+00, -5.49133173e+00, -6.45401752e-01,\n",
       "         -4.11376012e+00, -4.39949204e+00,  2.39342857e+00, -4.84503680e-01,\n",
       "         -1.39655448e+00, -1.71477082e+00,  7.67663689e-01,  5.73724093e+00,\n",
       "          8.14041193e-02,  7.90264484e-01,  3.34963884e+00, -7.94894736e-01,\n",
       "         -1.75526145e+00, -2.42311126e+00, -4.13769494e+00, -8.62064570e-01,\n",
       "         -5.17635869e+00, -2.14151023e+00,  4.53979322e-01,  3.25657511e+00,\n",
       "         -1.15438217e+00,  6.07100322e+00, -3.50849123e+00, -2.24562596e-01,\n",
       "          4.95774494e-01,  5.92868847e+00, -5.03892467e+00, -2.78379266e+00,\n",
       "          1.76792725e+00,  9.76527527e-01,  5.69425422e+00, -1.12122135e+00,\n",
       "         -4.80354156e+00, -3.43636521e+00,  4.33312135e+00, -3.57750875e+00,\n",
       "          6.68956210e+00, -1.70629794e+00,  3.74157233e+00,  3.59662927e+00,\n",
       "          6.60740467e+00,  1.17089638e+00,  1.91329583e+00,  3.32208102e-01,\n",
       "         -6.25304859e+00,  5.60389742e+00,  4.46018485e+00,  1.49104633e+00,\n",
       "          1.09061069e+00, -7.49831943e-01, -2.62935221e+00, -1.07722203e+00,\n",
       "         -7.89069677e-01,  3.47922666e+00, -1.83391715e+00,  7.54025719e-01,\n",
       "         -1.96267383e+00,  1.35215639e+00, -1.11190347e+00,  2.00285466e-01,\n",
       "          1.21219429e+00, -7.80267729e+00,  2.33005534e+00, -1.43815399e+00,\n",
       "          6.32181034e+00,  5.40460931e+00,  1.20092196e+00, -4.74944346e+00,\n",
       "          2.29886928e+00, -1.11972827e+00,  2.50247806e-02,  5.23540980e+00,\n",
       "         -7.17597700e+00, -5.54724854e+00,  3.07535250e+00, -4.68723579e+00,\n",
       "         -2.89512843e+00,  8.44515441e-01,  5.95429582e-01,  6.93426020e-01,\n",
       "          3.37604447e+00,  6.47562708e+00, -3.11775679e+00, -3.93221673e+00,\n",
       "         -4.85204827e+00,  1.18457899e+01,  2.05364300e+00, -1.21784922e-01])>)]"
      ]
     },
     "execution_count": 407,
     "metadata": {},
     "output_type": "execute_result"
    }
   ],
   "source": [
    "[x for x in Dataset.from_tensors((X, y))]"
   ]
  },
  {
   "cell_type": "code",
   "execution_count": null,
   "id": "ab2ea9fc",
   "metadata": {},
   "outputs": [],
   "source": []
  },
  {
   "cell_type": "markdown",
   "id": "53e0b67f",
   "metadata": {},
   "source": [
    "Add metainfo to the dataset\n",
    "- shuffle: at each step randomly shuffle the dataset (buffer = take from first n)\n",
    "- batch: set batch size for dataset"
   ]
  },
  {
   "cell_type": "code",
   "execution_count": 513,
   "id": "cd2df816",
   "metadata": {},
   "outputs": [],
   "source": [
    "BATCH_SIZE = 20\n",
    "#SHUFFLE_BUFFER_SIZE = 100\n",
    "EPOCHS = 50\n",
    "\n",
    "train_dataset = Dataset.from_tensor_slices((X_train, y_train)).batch(BATCH_SIZE) #?.shuffle(SHUFFLE_BUFFER_SIZE)\n",
    "test_dataset = Dataset.from_tensor_slices((X_test, y_test)).batch(BATCH_SIZE) #?.shuffle(SHUFFLE_BUFFER_SIZE)"
   ]
  },
  {
   "cell_type": "code",
   "execution_count": 548,
   "id": "01bc8012",
   "metadata": {},
   "outputs": [],
   "source": [
    "model = tf.keras.Sequential([\n",
    "    tf.keras.layers.Dense(10, activation='relu', name = 'hidden-layer', input_shape = (X_train.shape[1],)),\n",
    "    tf.keras.layers.Dense(1, activation='linear', name = 'output-layer')\n",
    "], name = 'Small-TF-model')\n",
    "\n",
    "model.compile(optimizer = tf.optimizers.Adam(),\n",
    "              loss = tf.losses.MeanSquaredError(),\n",
    "              metrics = [tf.metrics.RootMeanSquaredError()])\n",
    "\n",
    "model.build()"
   ]
  },
  {
   "cell_type": "code",
   "execution_count": 549,
   "id": "4fb2244e",
   "metadata": {},
   "outputs": [
    {
     "name": "stdout",
     "output_type": "stream",
     "text": [
      "Model: \"Small-TF-model\"\n",
      "_________________________________________________________________\n",
      " Layer (type)                Output Shape              Param #   \n",
      "=================================================================\n",
      " hidden-layer (Dense)        (None, 10)                50        \n",
      "                                                                 \n",
      " output-layer (Dense)        (None, 1)                 11        \n",
      "                                                                 \n",
      "=================================================================\n",
      "Total params: 61\n",
      "Trainable params: 61\n",
      "Non-trainable params: 0\n",
      "_________________________________________________________________\n"
     ]
    }
   ],
   "source": [
    "model.summary()"
   ]
  },
  {
   "cell_type": "code",
   "execution_count": 550,
   "id": "4781e2fb",
   "metadata": {},
   "outputs": [
    {
     "data": {
      "image/png": "[encoded data removed]",
      "text/plain": [
       "<IPython.core.display.Image object>"
      ]
     },
     "execution_count": 550,
     "metadata": {},
     "output_type": "execute_result"
    }
   ],
   "source": [
    "tf.keras.utils.plot_model(model, to_file = 'torch_viz/tf_model.png', show_shapes = True, rankdir = 'LR',\n",
    "                         show_dtype = False, show_layer_activations = True)"
   ]
  },
  {
   "cell_type": "code",
   "execution_count": 551,
   "id": "49dcca79",
   "metadata": {
    "scrolled": true
   },
   "outputs": [
    {
     "name": "stdout",
     "output_type": "stream",
     "text": [
      "Epoch 1/50\n",
      "40/40 [==============================] - 1s 6ms/step - loss: 9.7994 - root_mean_squared_error: 3.1304 - val_loss: 9.3032 - val_root_mean_squared_error: 3.0501\n",
      "Epoch 2/50\n",
      "40/40 [==============================] - 0s 6ms/step - loss: 8.5785 - root_mean_squared_error: 2.9289 - val_loss: 8.0949 - val_root_mean_squared_error: 2.8452\n",
      "Epoch 3/50\n",
      "40/40 [==============================] - 0s 5ms/step - loss: 7.4367 - root_mean_squared_error: 2.7270 - val_loss: 6.9688 - val_root_mean_squared_error: 2.6399\n",
      "Epoch 4/50\n",
      "40/40 [==============================] - 0s 4ms/step - loss: 6.3721 - root_mean_squared_error: 2.5243 - val_loss: 5.9110 - val_root_mean_squared_error: 2.4313\n",
      "Epoch 5/50\n",
      "40/40 [==============================] - 0s 4ms/step - loss: 5.3904 - root_mean_squared_error: 2.3217 - val_loss: 4.9757 - val_root_mean_squared_error: 2.2306\n",
      "Epoch 6/50\n",
      "40/40 [==============================] - 0s 4ms/step - loss: 4.5173 - root_mean_squared_error: 2.1254 - val_loss: 4.1624 - val_root_mean_squared_error: 2.0402\n",
      "Epoch 7/50\n",
      "40/40 [==============================] - 0s 4ms/step - loss: 3.7702 - root_mean_squared_error: 1.9417 - val_loss: 3.4783 - val_root_mean_squared_error: 1.8650\n",
      "Epoch 8/50\n",
      "40/40 [==============================] - 0s 4ms/step - loss: 3.1461 - root_mean_squared_error: 1.7737 - val_loss: 2.9152 - val_root_mean_squared_error: 1.7074\n",
      "Epoch 9/50\n",
      "40/40 [==============================] - 0s 4ms/step - loss: 2.6353 - root_mean_squared_error: 1.6234 - val_loss: 2.4681 - val_root_mean_squared_error: 1.5710\n",
      "Epoch 10/50\n",
      "40/40 [==============================] - 0s 4ms/step - loss: 2.2263 - root_mean_squared_error: 1.4921 - val_loss: 2.1258 - val_root_mean_squared_error: 1.4580\n",
      "Epoch 11/50\n",
      "40/40 [==============================] - 0s 4ms/step - loss: 1.9130 - root_mean_squared_error: 1.3831 - val_loss: 1.8728 - val_root_mean_squared_error: 1.3685\n",
      "Epoch 12/50\n",
      "40/40 [==============================] - 0s 5ms/step - loss: 1.6816 - root_mean_squared_error: 1.2968 - val_loss: 1.6904 - val_root_mean_squared_error: 1.3002\n",
      "Epoch 13/50\n",
      "40/40 [==============================] - 0s 4ms/step - loss: 1.5140 - root_mean_squared_error: 1.2304 - val_loss: 1.5597 - val_root_mean_squared_error: 1.2489\n",
      "Epoch 14/50\n",
      "40/40 [==============================] - 0s 3ms/step - loss: 1.3929 - root_mean_squared_error: 1.1802 - val_loss: 1.4685 - val_root_mean_squared_error: 1.2118\n",
      "Epoch 15/50\n",
      "40/40 [==============================] - 0s 4ms/step - loss: 1.3060 - root_mean_squared_error: 1.1428 - val_loss: 1.4061 - val_root_mean_squared_error: 1.1858\n",
      "Epoch 16/50\n",
      "40/40 [==============================] - 0s 3ms/step - loss: 1.2446 - root_mean_squared_error: 1.1156 - val_loss: 1.3643 - val_root_mean_squared_error: 1.1680\n",
      "Epoch 17/50\n",
      "40/40 [==============================] - 0s 4ms/step - loss: 1.2016 - root_mean_squared_error: 1.0962 - val_loss: 1.3367 - val_root_mean_squared_error: 1.1562\n",
      "Epoch 18/50\n",
      "40/40 [==============================] - 0s 4ms/step - loss: 1.1710 - root_mean_squared_error: 1.0821 - val_loss: 1.3183 - val_root_mean_squared_error: 1.1482\n",
      "Epoch 19/50\n",
      "40/40 [==============================] - 0s 4ms/step - loss: 1.1484 - root_mean_squared_error: 1.0716 - val_loss: 1.3055 - val_root_mean_squared_error: 1.1426\n",
      "Epoch 20/50\n",
      "40/40 [==============================] - 0s 3ms/step - loss: 1.1309 - root_mean_squared_error: 1.0634 - val_loss: 1.2968 - val_root_mean_squared_error: 1.1388\n",
      "Epoch 21/50\n",
      "40/40 [==============================] - 0s 3ms/step - loss: 1.1170 - root_mean_squared_error: 1.0569 - val_loss: 1.2906 - val_root_mean_squared_error: 1.1360\n",
      "Epoch 22/50\n",
      "40/40 [==============================] - 0s 4ms/step - loss: 1.1055 - root_mean_squared_error: 1.0514 - val_loss: 1.2859 - val_root_mean_squared_error: 1.1340\n",
      "Epoch 23/50\n",
      "40/40 [==============================] - 0s 4ms/step - loss: 1.0958 - root_mean_squared_error: 1.0468 - val_loss: 1.2821 - val_root_mean_squared_error: 1.1323\n",
      "Epoch 24/50\n",
      "40/40 [==============================] - 0s 4ms/step - loss: 1.0877 - root_mean_squared_error: 1.0429 - val_loss: 1.2794 - val_root_mean_squared_error: 1.1311\n",
      "Epoch 25/50\n",
      "40/40 [==============================] - 0s 4ms/step - loss: 1.0805 - root_mean_squared_error: 1.0395 - val_loss: 1.2774 - val_root_mean_squared_error: 1.1302\n",
      "Epoch 26/50\n",
      "40/40 [==============================] - 0s 4ms/step - loss: 1.0741 - root_mean_squared_error: 1.0364 - val_loss: 1.2759 - val_root_mean_squared_error: 1.1296\n",
      "Epoch 27/50\n",
      "40/40 [==============================] - 0s 3ms/step - loss: 1.0683 - root_mean_squared_error: 1.0336 - val_loss: 1.2743 - val_root_mean_squared_error: 1.1289\n",
      "Epoch 28/50\n",
      "40/40 [==============================] - 0s 4ms/step - loss: 1.0629 - root_mean_squared_error: 1.0310 - val_loss: 1.2727 - val_root_mean_squared_error: 1.1281\n",
      "Epoch 29/50\n",
      "40/40 [==============================] - 0s 4ms/step - loss: 1.0581 - root_mean_squared_error: 1.0286 - val_loss: 1.2713 - val_root_mean_squared_error: 1.1275\n",
      "Epoch 30/50\n",
      "40/40 [==============================] - 0s 4ms/step - loss: 1.0538 - root_mean_squared_error: 1.0266 - val_loss: 1.2701 - val_root_mean_squared_error: 1.1270\n",
      "Epoch 31/50\n",
      "40/40 [==============================] - 0s 4ms/step - loss: 1.0500 - root_mean_squared_error: 1.0247 - val_loss: 1.2690 - val_root_mean_squared_error: 1.1265\n",
      "Epoch 32/50\n",
      "40/40 [==============================] - 0s 4ms/step - loss: 1.0467 - root_mean_squared_error: 1.0231 - val_loss: 1.2683 - val_root_mean_squared_error: 1.1262\n",
      "Epoch 33/50\n",
      "40/40 [==============================] - 0s 3ms/step - loss: 1.0436 - root_mean_squared_error: 1.0216 - val_loss: 1.2675 - val_root_mean_squared_error: 1.1258\n",
      "Epoch 34/50\n",
      "40/40 [==============================] - 0s 4ms/step - loss: 1.0407 - root_mean_squared_error: 1.0201 - val_loss: 1.2663 - val_root_mean_squared_error: 1.1253\n",
      "Epoch 35/50\n",
      "40/40 [==============================] - 0s 4ms/step - loss: 1.0381 - root_mean_squared_error: 1.0189 - val_loss: 1.2653 - val_root_mean_squared_error: 1.1248\n",
      "Epoch 36/50\n",
      "40/40 [==============================] - 0s 4ms/step - loss: 1.0356 - root_mean_squared_error: 1.0176 - val_loss: 1.2641 - val_root_mean_squared_error: 1.1243\n",
      "Epoch 37/50\n",
      "40/40 [==============================] - 0s 4ms/step - loss: 1.0333 - root_mean_squared_error: 1.0165 - val_loss: 1.2626 - val_root_mean_squared_error: 1.1237\n",
      "Epoch 38/50\n",
      "40/40 [==============================] - 0s 4ms/step - loss: 1.0314 - root_mean_squared_error: 1.0156 - val_loss: 1.2613 - val_root_mean_squared_error: 1.1231\n",
      "Epoch 39/50\n",
      "40/40 [==============================] - 0s 4ms/step - loss: 1.0295 - root_mean_squared_error: 1.0146 - val_loss: 1.2598 - val_root_mean_squared_error: 1.1224\n",
      "Epoch 40/50\n",
      "40/40 [==============================] - 0s 4ms/step - loss: 1.0277 - root_mean_squared_error: 1.0138 - val_loss: 1.2583 - val_root_mean_squared_error: 1.1217\n",
      "Epoch 41/50\n",
      "40/40 [==============================] - 0s 4ms/step - loss: 1.0260 - root_mean_squared_error: 1.0129 - val_loss: 1.2570 - val_root_mean_squared_error: 1.1212\n",
      "Epoch 42/50\n",
      "40/40 [==============================] - 0s 4ms/step - loss: 1.0245 - root_mean_squared_error: 1.0122 - val_loss: 1.2557 - val_root_mean_squared_error: 1.1206\n",
      "Epoch 43/50\n",
      "40/40 [==============================] - 0s 4ms/step - loss: 1.0231 - root_mean_squared_error: 1.0115 - val_loss: 1.2543 - val_root_mean_squared_error: 1.1200\n",
      "Epoch 44/50\n",
      "40/40 [==============================] - 0s 4ms/step - loss: 1.0218 - root_mean_squared_error: 1.0108 - val_loss: 1.2528 - val_root_mean_squared_error: 1.1193\n",
      "Epoch 45/50\n",
      "40/40 [==============================] - 0s 4ms/step - loss: 1.0205 - root_mean_squared_error: 1.0102 - val_loss: 1.2515 - val_root_mean_squared_error: 1.1187\n",
      "Epoch 46/50\n",
      "40/40 [==============================] - 0s 4ms/step - loss: 1.0193 - root_mean_squared_error: 1.0096 - val_loss: 1.2501 - val_root_mean_squared_error: 1.1181\n",
      "Epoch 47/50\n",
      "40/40 [==============================] - 0s 4ms/step - loss: 1.0181 - root_mean_squared_error: 1.0090 - val_loss: 1.2488 - val_root_mean_squared_error: 1.1175\n",
      "Epoch 48/50\n",
      "40/40 [==============================] - 0s 4ms/step - loss: 1.0168 - root_mean_squared_error: 1.0084 - val_loss: 1.2474 - val_root_mean_squared_error: 1.1169\n"
     ]
    },
    {
     "name": "stdout",
     "output_type": "stream",
     "text": [
      "Epoch 49/50\n",
      "40/40 [==============================] - 0s 4ms/step - loss: 1.0157 - root_mean_squared_error: 1.0078 - val_loss: 1.2461 - val_root_mean_squared_error: 1.1163\n",
      "Epoch 50/50\n",
      "40/40 [==============================] - 0s 4ms/step - loss: 1.0147 - root_mean_squared_error: 1.0073 - val_loss: 1.2448 - val_root_mean_squared_error: 1.1157\n"
     ]
    }
   ],
   "source": [
    "log_dir = \"logs/fit/\" + datetime.datetime.now().strftime(\"%Y%m%d-%H%M%S\")\n",
    "tensorboard_callback = tf.keras.callbacks.TensorBoard(log_dir=log_dir, histogram_freq=1)\n",
    "\n",
    "history = model.fit(train_dataset, validation_data = test_dataset, epochs = EPOCHS, callbacks=[tensorboard_callback])"
   ]
  },
  {
   "cell_type": "code",
   "execution_count": 552,
   "id": "fc122e1a",
   "metadata": {},
   "outputs": [
    {
     "data": {
      "image/png": "[encoded data removed]",
      "text/plain": [
       "<Figure size 576x288 with 1 Axes>"
      ]
     },
     "metadata": {
      "needs_background": "light"
     },
     "output_type": "display_data"
    }
   ],
   "source": [
    "import matplotlib.pyplot as plt\n",
    "\n",
    "plt.figure(figsize=(8, 4))\n",
    "plt.plot(history.epoch, history.history['root_mean_squared_error'], label = 'train')\n",
    "plt.plot(history.epoch, history.history['val_root_mean_squared_error'], label = 'test')\n",
    "plt.title('RMSE learning - TensorFlow')\n",
    "plt.legend()\n",
    "plt.show()"
   ]
  },
  {
   "cell_type": "code",
   "execution_count": null,
   "id": "0afd4343",
   "metadata": {},
   "outputs": [],
   "source": []
  },
  {
   "cell_type": "markdown",
   "id": "22c3d6e9",
   "metadata": {},
   "source": [
    "Check tuned weights"
   ]
  },
  {
   "cell_type": "code",
   "execution_count": 521,
   "id": "a2862f0f",
   "metadata": {},
   "outputs": [
    {
     "data": {
      "text/plain": [
       "[<keras.layers.core.dense.Dense at 0x268216c9340>,\n",
       " <keras.layers.core.dense.Dense at 0x268216aac70>]"
      ]
     },
     "execution_count": 521,
     "metadata": {},
     "output_type": "execute_result"
    }
   ],
   "source": [
    "model.layers"
   ]
  },
  {
   "cell_type": "code",
   "execution_count": 522,
   "id": "97fc41da",
   "metadata": {},
   "outputs": [
    {
     "data": {
      "text/plain": [
       "[array([[-0.2773961 ,  0.15915233, -0.3882694 ,  0.43514067, -0.19979078,\n",
       "         -0.9241295 , -0.13114335,  0.5439763 ,  0.22312748,  0.45713684],\n",
       "        [-1.058975  , -0.9234115 , -0.47838262, -0.41870007,  0.07130191,\n",
       "         -1.0665795 , -0.4518924 ,  0.9233572 ,  0.4943078 ,  0.9881111 ],\n",
       "        [ 0.9985946 ,  0.33496082,  0.7540114 , -0.24981283, -0.21149775,\n",
       "          0.9678238 ,  0.4769239 , -0.9658604 , -0.83213264, -0.74734354],\n",
       "        [ 0.19648325,  0.7531424 ,  0.46130264,  0.15285146,  0.31007582,\n",
       "          0.50723606,  1.0455914 , -1.5069048 , -0.17824586, -0.30560127]],\n",
       "       dtype=float32),\n",
       " array([-0.11333323,  0.17961136,  0.37786236, -0.00927476, -0.13619752,\n",
       "         0.29720107,  0.38980415,  0.21114005,  0.09650008,  0.24481063],\n",
       "       dtype=float32)]"
      ]
     },
     "execution_count": 522,
     "metadata": {},
     "output_type": "execute_result"
    }
   ],
   "source": [
    "model.layers[0].get_weights()"
   ]
  },
  {
   "cell_type": "code",
   "execution_count": 523,
   "id": "ce03a891",
   "metadata": {},
   "outputs": [
    {
     "data": {
      "text/plain": [
       "[array([[-0.5996448 ],\n",
       "        [-0.37057444],\n",
       "        [-0.615162  ],\n",
       "        [ 0.15382332],\n",
       "        [-0.20188062],\n",
       "        [-0.42453787],\n",
       "        [-0.42316556],\n",
       "        [ 0.6326627 ],\n",
       "        [ 0.57920146],\n",
       "        [ 0.9498263 ]], dtype=float32),\n",
       " array([0.13870725], dtype=float32)]"
      ]
     },
     "execution_count": 523,
     "metadata": {},
     "output_type": "execute_result"
    }
   ],
   "source": [
    "model.layers[1].get_weights()"
   ]
  },
  {
   "cell_type": "code",
   "execution_count": null,
   "id": "97fcfbf1",
   "metadata": {},
   "outputs": [],
   "source": []
  },
  {
   "cell_type": "markdown",
   "id": "f32b08a4",
   "metadata": {},
   "source": [
    "Check TensorBoard"
   ]
  },
  {
   "cell_type": "markdown",
   "id": "9835dec0",
   "metadata": {},
   "source": [
    "If need to kill: C:\\Users\\krist\\AppData\\Local\\Temp\\.tensorboard-info"
   ]
  },
  {
   "cell_type": "code",
   "execution_count": 524,
   "id": "eeca9cde",
   "metadata": {},
   "outputs": [],
   "source": [
    "#%tensorboard --logdir logs/fit"
   ]
  },
  {
   "cell_type": "code",
   "execution_count": null,
   "id": "cdd6af1d",
   "metadata": {},
   "outputs": [],
   "source": []
  },
  {
   "cell_type": "markdown",
   "id": "998110d3",
   "metadata": {},
   "source": [
    "\n",
    "### PyTorch"
   ]
  },
  {
   "cell_type": "code",
   "execution_count": 4,
   "id": "c5c1cd11",
   "metadata": {},
   "outputs": [],
   "source": [
    "# import torch\n",
    "\n",
    "from torch.utils.data import TensorDataset, DataLoader\n",
    "\n",
    "import torch.nn as nn \n",
    "import torch.nn.functional as F\n",
    "import torch.optim as optim"
   ]
  },
  {
   "cell_type": "markdown",
   "id": "891be489",
   "metadata": {},
   "source": [
    "Try some activations"
   ]
  },
  {
   "cell_type": "code",
   "execution_count": 526,
   "id": "fd2f5fc1",
   "metadata": {},
   "outputs": [
    {
     "name": "stdout",
     "output_type": "stream",
     "text": [
      "tensor(0.2300)\n",
      "tensor(0.2300)\n",
      "tensor(0.2300)\n",
      "tensor(0.2300)\n",
      "tensor(0.1359)\n",
      "tensor(0.5572)\n",
      "tensor(1.)\n",
      "tensor(0.2260)\n"
     ]
    }
   ],
   "source": [
    "i = np.array(0.23)\n",
    "i = torch.Tensor(i)\n",
    "\n",
    "print(F.elu(i))\n",
    "print(F.relu(i))\n",
    "print(F.leaky_relu(i))\n",
    "print(F.celu(i))\n",
    "print(F.gelu(i))\n",
    "print(F.sigmoid(i))\n",
    "print(F.softmax(i))\n",
    "print(F.tanh(i))"
   ]
  },
  {
   "cell_type": "code",
   "execution_count": 527,
   "id": "221da36e",
   "metadata": {},
   "outputs": [
    {
     "name": "stdout",
     "output_type": "stream",
     "text": [
      "tensor(-0.2055)\n",
      "tensor(0.)\n",
      "tensor(-0.0023)\n",
      "tensor(-0.2055)\n",
      "tensor(-0.0941)\n",
      "tensor(0.4428)\n",
      "tensor(1.)\n",
      "tensor(-0.2260)\n"
     ]
    }
   ],
   "source": [
    "i = np.array(-0.23)\n",
    "i = torch.Tensor(i)\n",
    "\n",
    "print(F.elu(i))\n",
    "print(F.relu(i))\n",
    "print(F.leaky_relu(i))\n",
    "print(F.celu(i))\n",
    "print(F.gelu(i))\n",
    "print(F.sigmoid(i))\n",
    "print(F.softmax(i))\n",
    "print(F.tanh(i))"
   ]
  },
  {
   "cell_type": "code",
   "execution_count": 528,
   "id": "48d52b12",
   "metadata": {},
   "outputs": [],
   "source": [
    "torch_train_data = TensorDataset(torch.Tensor(X_train), torch.Tensor(y_train))\n",
    "torch_train_data = DataLoader(torch_train_data, batch_size = BATCH_SIZE)\n",
    "\n",
    "torch_test_data = TensorDataset(torch.Tensor(X_test), torch.Tensor(y_test))\n",
    "torch_test_data = DataLoader(torch_test_data, batch_size = BATCH_SIZE)"
   ]
  },
  {
   "cell_type": "code",
   "execution_count": 529,
   "id": "3c9936c3",
   "metadata": {},
   "outputs": [
    {
     "data": {
      "text/plain": [
       "<torch.utils.data.dataloader.DataLoader at 0x26822e4eee0>"
      ]
     },
     "execution_count": 529,
     "metadata": {},
     "output_type": "execute_result"
    }
   ],
   "source": [
    "torch_train_data"
   ]
  },
  {
   "cell_type": "code",
   "execution_count": 530,
   "id": "7b88f803",
   "metadata": {},
   "outputs": [
    {
     "data": {
      "text/plain": [
       "<torch.utils.data.dataset.TensorDataset at 0x26822ed79a0>"
      ]
     },
     "execution_count": 530,
     "metadata": {},
     "output_type": "execute_result"
    }
   ],
   "source": [
    "torch_train_data.dataset"
   ]
  },
  {
   "cell_type": "code",
   "execution_count": 531,
   "id": "756b9fda",
   "metadata": {},
   "outputs": [
    {
     "data": {
      "text/plain": [
       "torch.Size([800, 4])"
      ]
     },
     "execution_count": 531,
     "metadata": {},
     "output_type": "execute_result"
    }
   ],
   "source": [
    "torch_train_data.dataset.tensors[0].shape"
   ]
  },
  {
   "cell_type": "code",
   "execution_count": 532,
   "id": "0858c60f",
   "metadata": {},
   "outputs": [
    {
     "data": {
      "text/plain": [
       "torch.Size([800])"
      ]
     },
     "execution_count": 532,
     "metadata": {},
     "output_type": "execute_result"
    }
   ],
   "source": [
    "torch_train_data.dataset.tensors[1].shape"
   ]
  },
  {
   "cell_type": "code",
   "execution_count": 533,
   "id": "98860f65",
   "metadata": {},
   "outputs": [
    {
     "data": {
      "text/plain": [
       "20"
      ]
     },
     "execution_count": 533,
     "metadata": {},
     "output_type": "execute_result"
    }
   ],
   "source": [
    "torch_train_data.batch_size"
   ]
  },
  {
   "cell_type": "code",
   "execution_count": null,
   "id": "45144e2c",
   "metadata": {},
   "outputs": [],
   "source": []
  },
  {
   "cell_type": "code",
   "execution_count": 534,
   "id": "9ceca186",
   "metadata": {},
   "outputs": [
    {
     "data": {
      "text/plain": [
       "torch.Size([800])"
      ]
     },
     "execution_count": 534,
     "metadata": {},
     "output_type": "execute_result"
    }
   ],
   "source": [
    "torch_train_data.dataset.tensors[1].shape"
   ]
  },
  {
   "cell_type": "code",
   "execution_count": null,
   "id": "bfb5420c",
   "metadata": {},
   "outputs": [],
   "source": []
  },
  {
   "cell_type": "markdown",
   "id": "a3c39101",
   "metadata": {},
   "source": [
    "Match structure of model built with TensorFlow"
   ]
  },
  {
   "cell_type": "code",
   "execution_count": 553,
   "id": "b913f018",
   "metadata": {},
   "outputs": [],
   "source": [
    "class Simple_torch_NN(nn.Module):\n",
    "    \n",
    "    def __init__(self):\n",
    "        \n",
    "        super(Simple_torch_NN, self).__init__()\n",
    "        \n",
    "        self.hidden = nn.Linear(4, 10)\n",
    "        self.output = nn.Linear(10, 1)\n",
    " \n",
    "    def forward(self, x):\n",
    "        \n",
    "        x = F.relu(self.hidden(x))\n",
    "        x = self.output(x)\n",
    "        \n",
    "        return x"
   ]
  },
  {
   "cell_type": "code",
   "execution_count": 554,
   "id": "87941145",
   "metadata": {},
   "outputs": [],
   "source": [
    "torch_model = Simple_torch_NN()"
   ]
  },
  {
   "cell_type": "code",
   "execution_count": 555,
   "id": "6dd14d24",
   "metadata": {},
   "outputs": [
    {
     "data": {
      "text/plain": [
       "Simple_torch_NN(\n",
       "  (hidden): Linear(in_features=4, out_features=10, bias=True)\n",
       "  (output): Linear(in_features=10, out_features=1, bias=True)\n",
       ")"
      ]
     },
     "execution_count": 555,
     "metadata": {},
     "output_type": "execute_result"
    }
   ],
   "source": [
    "torch_model"
   ]
  },
  {
   "cell_type": "markdown",
   "id": "fad69732",
   "metadata": {},
   "source": [
    "Initial random weights"
   ]
  },
  {
   "cell_type": "code",
   "execution_count": 556,
   "id": "dcbc36e9",
   "metadata": {},
   "outputs": [
    {
     "name": "stdout",
     "output_type": "stream",
     "text": [
      "Layer: hidden.weight | Size: torch.Size([10, 4]) | Values : Parameter containing:\n",
      "tensor([[ 0.1863,  0.0018,  0.2617, -0.4968],\n",
      "        [ 0.2967,  0.0464,  0.2237,  0.4651],\n",
      "        [-0.4103, -0.1943, -0.1160,  0.2010],\n",
      "        [ 0.3958, -0.2776, -0.1681,  0.4904],\n",
      "        [-0.1974,  0.1568, -0.1762, -0.2345],\n",
      "        [ 0.2704,  0.4620,  0.0917, -0.3370],\n",
      "        [ 0.1598,  0.0474, -0.0711,  0.2482],\n",
      "        [-0.2522, -0.2058,  0.0388,  0.4035],\n",
      "        [-0.0330, -0.2633,  0.1526,  0.0222],\n",
      "        [-0.3375,  0.3171, -0.1441,  0.2121]], requires_grad=True) \n",
      "\n",
      "Layer: hidden.bias | Size: torch.Size([10]) | Values : Parameter containing:\n",
      "tensor([-0.4329, -0.3356, -0.2047, -0.3964,  0.3008,  0.3874,  0.0874,  0.4122,\n",
      "        -0.2603, -0.4172], requires_grad=True) \n",
      "\n",
      "Layer: output.weight | Size: torch.Size([1, 10]) | Values : Parameter containing:\n",
      "tensor([[ 0.0831,  0.1377,  0.2567, -0.1347, -0.1967,  0.2156,  0.1129, -0.0076,\n",
      "          0.0851, -0.1361]], requires_grad=True) \n",
      "\n",
      "Layer: output.bias | Size: torch.Size([1]) | Values : Parameter containing:\n",
      "tensor([0.2485], requires_grad=True) \n",
      "\n"
     ]
    }
   ],
   "source": [
    "# for param in torch_model.parameters():\n",
    "#     print(param, '\\n')\n",
    "\n",
    "for name, param in torch_model.named_parameters():\n",
    "    print(f\"Layer: {name} | Size: {param.size()} | Values : {param} \\n\")"
   ]
  },
  {
   "cell_type": "markdown",
   "id": "4de9f99c",
   "metadata": {},
   "source": [
    "Compile"
   ]
  },
  {
   "cell_type": "code",
   "execution_count": 557,
   "id": "2fc3f468",
   "metadata": {},
   "outputs": [],
   "source": [
    "optimizer = optim.Adam(torch_model.parameters(), eps = 1e-07) # to match TF\n",
    "loss = nn.MSELoss()"
   ]
  },
  {
   "cell_type": "code",
   "execution_count": null,
   "id": "39cb5cbf",
   "metadata": {},
   "outputs": [],
   "source": []
  },
  {
   "cell_type": "markdown",
   "id": "515f58ad",
   "metadata": {},
   "source": [
    "Train\n",
    "\n",
    "- For PyTorch when training a model set it to `.train()`, when using it for inference set it to `.eval()`\n",
    "- During training in each epoch's each batch reset the gradients by `optimizer.zero_grad()`\n",
    "- Suggestion is to create 1 function for training, 1 for evaluating\n"
   ]
  },
  {
   "cell_type": "code",
   "execution_count": 558,
   "id": "567c73c1",
   "metadata": {},
   "outputs": [],
   "source": [
    "train_losses = []\n",
    "valid_losses = []\n",
    "\n",
    "def train_loop(dataloader, model, loss_fn, optimizer):\n",
    "    \n",
    "    model.train()\n",
    "\n",
    "    num_batches = len(dataloader)\n",
    "    train_loss = 0\n",
    "    \n",
    "    for data, target in dataloader:\n",
    "        \n",
    "        # zero out gradient\n",
    "        optimizer.zero_grad()\n",
    "        \n",
    "        # Compute prediction and loss\n",
    "        pred = model(data)\n",
    "        loss = loss_fn(pred, target.reshape(-1,1)) # spent 3 hours on this: target and pred need to be of same shape (-1,1)\n",
    "\n",
    "        # Backpropagation\n",
    "        loss.backward()\n",
    "        optimizer.step()\n",
    "\n",
    "        train_loss += loss.item()**(1/2)\n",
    "    \n",
    "    train_loss /= num_batches\n",
    "    train_losses.append(train_loss)\n",
    "    print(f\"Losses -- train: {train_loss:>8f}\", end = ' -- ')\n",
    "\n",
    "\n",
    "def test_loop(dataloader, model, loss_fn):\n",
    "    \n",
    "    model.eval()\n",
    "     \n",
    "    num_batches = len(dataloader)\n",
    "    test_loss = 0\n",
    "\n",
    "    with torch.no_grad():\n",
    "        \n",
    "        for data, target in dataloader:\n",
    "            \n",
    "            pred = model(data)\n",
    "            test_loss += loss_fn(pred, target.reshape(-1,1)).item()**(1/2)\n",
    "\n",
    "    test_loss /= num_batches\n",
    "    valid_losses.append(test_loss)\n",
    "    print(f\"test: {test_loss:>8f} \\n\") "
   ]
  },
  {
   "cell_type": "code",
   "execution_count": 559,
   "id": "7e0ea69b",
   "metadata": {
    "scrolled": true
   },
   "outputs": [
    {
     "name": "stdout",
     "output_type": "stream",
     "text": [
      "Epoch 1\n",
      "-------------------------------\n",
      "Losses -- train: 3.604390 -- test: 3.593910 \n",
      "\n",
      "Epoch 2\n",
      "-------------------------------\n",
      "Losses -- train: 3.527658 -- test: 3.516764 \n",
      "\n",
      "Epoch 3\n",
      "-------------------------------\n",
      "Losses -- train: 3.441705 -- test: 3.425778 \n",
      "\n",
      "Epoch 4\n",
      "-------------------------------\n",
      "Losses -- train: 3.337106 -- test: 3.313109 \n",
      "\n",
      "Epoch 5\n",
      "-------------------------------\n",
      "Losses -- train: 3.207246 -- test: 3.172186 \n",
      "\n",
      "Epoch 6\n",
      "-------------------------------\n",
      "Losses -- train: 3.047611 -- test: 3.000088 \n",
      "\n",
      "Epoch 7\n",
      "-------------------------------\n",
      "Losses -- train: 2.856349 -- test: 2.797827 \n",
      "\n",
      "Epoch 8\n",
      "-------------------------------\n",
      "Losses -- train: 2.635785 -- test: 2.569645 \n",
      "\n",
      "Epoch 9\n",
      "-------------------------------\n",
      "Losses -- train: 2.392843 -- test: 2.326210 \n",
      "\n",
      "Epoch 10\n",
      "-------------------------------\n",
      "Losses -- train: 2.135528 -- test: 2.075791 \n",
      "\n",
      "Epoch 11\n",
      "-------------------------------\n",
      "Losses -- train: 1.876157 -- test: 1.833869 \n",
      "\n",
      "Epoch 12\n",
      "-------------------------------\n",
      "Losses -- train: 1.636961 -- test: 1.624745 \n",
      "\n",
      "Epoch 13\n",
      "-------------------------------\n",
      "Losses -- train: 1.439974 -- test: 1.461889 \n",
      "\n",
      "Epoch 14\n",
      "-------------------------------\n",
      "Losses -- train: 1.292358 -- test: 1.346572 \n",
      "\n",
      "Epoch 15\n",
      "-------------------------------\n",
      "Losses -- train: 1.190414 -- test: 1.268994 \n",
      "\n",
      "Epoch 16\n",
      "-------------------------------\n",
      "Losses -- train: 1.123829 -- test: 1.218960 \n",
      "\n",
      "Epoch 17\n",
      "-------------------------------\n",
      "Losses -- train: 1.082049 -- test: 1.188074 \n",
      "\n",
      "Epoch 18\n",
      "-------------------------------\n",
      "Losses -- train: 1.056737 -- test: 1.169263 \n",
      "\n",
      "Epoch 19\n",
      "-------------------------------\n",
      "Losses -- train: 1.041710 -- test: 1.157894 \n",
      "\n",
      "Epoch 20\n",
      "-------------------------------\n",
      "Losses -- train: 1.032727 -- test: 1.150904 \n",
      "\n",
      "Epoch 21\n",
      "-------------------------------\n",
      "Losses -- train: 1.027057 -- test: 1.146351 \n",
      "\n",
      "Epoch 22\n",
      "-------------------------------\n",
      "Losses -- train: 1.023230 -- test: 1.143152 \n",
      "\n",
      "Epoch 23\n",
      "-------------------------------\n",
      "Losses -- train: 1.020533 -- test: 1.140906 \n",
      "\n",
      "Epoch 24\n",
      "-------------------------------\n",
      "Losses -- train: 1.018497 -- test: 1.139233 \n",
      "\n",
      "Epoch 25\n",
      "-------------------------------\n",
      "Losses -- train: 1.016819 -- test: 1.137809 \n",
      "\n",
      "Epoch 26\n",
      "-------------------------------\n",
      "Losses -- train: 1.015415 -- test: 1.136549 \n",
      "\n",
      "Epoch 27\n",
      "-------------------------------\n",
      "Losses -- train: 1.014189 -- test: 1.135434 \n",
      "\n",
      "Epoch 28\n",
      "-------------------------------\n",
      "Losses -- train: 1.013067 -- test: 1.134396 \n",
      "\n",
      "Epoch 29\n",
      "-------------------------------\n",
      "Losses -- train: 1.012034 -- test: 1.133429 \n",
      "\n",
      "Epoch 30\n",
      "-------------------------------\n",
      "Losses -- train: 1.011035 -- test: 1.132543 \n",
      "\n",
      "Epoch 31\n",
      "-------------------------------\n",
      "Losses -- train: 1.010075 -- test: 1.131672 \n",
      "\n",
      "Epoch 32\n",
      "-------------------------------\n",
      "Losses -- train: 1.009183 -- test: 1.130898 \n",
      "\n",
      "Epoch 33\n",
      "-------------------------------\n",
      "Losses -- train: 1.008328 -- test: 1.130038 \n",
      "\n",
      "Epoch 34\n",
      "-------------------------------\n",
      "Losses -- train: 1.007490 -- test: 1.129152 \n",
      "\n",
      "Epoch 35\n",
      "-------------------------------\n",
      "Losses -- train: 1.006654 -- test: 1.128283 \n",
      "\n",
      "Epoch 36\n",
      "-------------------------------\n",
      "Losses -- train: 1.005845 -- test: 1.127411 \n",
      "\n",
      "Epoch 37\n",
      "-------------------------------\n",
      "Losses -- train: 1.005045 -- test: 1.126522 \n",
      "\n",
      "Epoch 38\n",
      "-------------------------------\n",
      "Losses -- train: 1.004244 -- test: 1.125645 \n",
      "\n",
      "Epoch 39\n",
      "-------------------------------\n",
      "Losses -- train: 1.003408 -- test: 1.124835 \n",
      "\n",
      "Epoch 40\n",
      "-------------------------------\n",
      "Losses -- train: 1.002569 -- test: 1.124043 \n",
      "\n",
      "Epoch 41\n",
      "-------------------------------\n",
      "Losses -- train: 1.001722 -- test: 1.123227 \n",
      "\n",
      "Epoch 42\n",
      "-------------------------------\n",
      "Losses -- train: 1.000886 -- test: 1.122494 \n",
      "\n",
      "Epoch 43\n",
      "-------------------------------\n",
      "Losses -- train: 1.000059 -- test: 1.121752 \n",
      "\n",
      "Epoch 44\n",
      "-------------------------------\n",
      "Losses -- train: 0.999276 -- test: 1.121102 \n",
      "\n",
      "Epoch 45\n",
      "-------------------------------\n",
      "Losses -- train: 0.998469 -- test: 1.120466 \n",
      "\n",
      "Epoch 46\n",
      "-------------------------------\n",
      "Losses -- train: 0.997678 -- test: 1.119815 \n",
      "\n",
      "Epoch 47\n",
      "-------------------------------\n",
      "Losses -- train: 0.996928 -- test: 1.119205 \n",
      "\n",
      "Epoch 48\n",
      "-------------------------------\n",
      "Losses -- train: 0.996173 -- test: 1.118603 \n",
      "\n",
      "Epoch 49\n",
      "-------------------------------\n",
      "Losses -- train: 0.995397 -- test: 1.117966 \n",
      "\n",
      "Epoch 50\n",
      "-------------------------------\n",
      "Losses -- train: 0.994626 -- test: 1.117419 \n",
      "\n",
      "Done!\n"
     ]
    }
   ],
   "source": [
    "for t in range(EPOCHS):\n",
    "    \n",
    "    print(f\"Epoch {t+1}\\n-------------------------------\")\n",
    "    train_loop(torch_train_data, torch_model, loss, optimizer)\n",
    "    test_loop(torch_test_data, torch_model, loss)\n",
    "    \n",
    "print(\"Done!\")"
   ]
  },
  {
   "cell_type": "code",
   "execution_count": 560,
   "id": "11bfd73b",
   "metadata": {},
   "outputs": [
    {
     "data": {
      "image/png": "[encoded data removed]",
      "text/plain": [
       "<Figure size 576x288 with 1 Axes>"
      ]
     },
     "metadata": {
      "needs_background": "light"
     },
     "output_type": "display_data"
    }
   ],
   "source": [
    "plt.figure(figsize=(8, 4))\n",
    "plt.plot([i for i in range(EPOCHS)], train_losses, label = 'train')\n",
    "plt.plot([i for i in range(EPOCHS)], valid_losses, label = 'test')\n",
    "plt.title('RMSE learning - PyTorch')\n",
    "plt.legend()\n",
    "plt.show()"
   ]
  },
  {
   "cell_type": "code",
   "execution_count": null,
   "id": "b16fdb93",
   "metadata": {},
   "outputs": [],
   "source": []
  },
  {
   "cell_type": "markdown",
   "id": "49a14745",
   "metadata": {},
   "source": [
    "Check if PyTorch model is in `eval()` or `train()` mode"
   ]
  },
  {
   "cell_type": "code",
   "execution_count": 561,
   "id": "8ea2f805",
   "metadata": {},
   "outputs": [
    {
     "data": {
      "text/plain": [
       "False"
      ]
     },
     "execution_count": 561,
     "metadata": {},
     "output_type": "execute_result"
    }
   ],
   "source": [
    "torch_model.training"
   ]
  },
  {
   "cell_type": "code",
   "execution_count": null,
   "id": "f7919271",
   "metadata": {},
   "outputs": [],
   "source": []
  },
  {
   "cell_type": "markdown",
   "id": "ffadfa2e",
   "metadata": {},
   "source": [
    "Check layer gradients"
   ]
  },
  {
   "cell_type": "code",
   "execution_count": 562,
   "id": "1db3e0b7",
   "metadata": {},
   "outputs": [
    {
     "data": {
      "text/plain": [
       "Parameter containing:\n",
       "tensor([0.1037], requires_grad=True)"
      ]
     },
     "execution_count": 562,
     "metadata": {},
     "output_type": "execute_result"
    }
   ],
   "source": [
    "torch_model.output.bias"
   ]
  },
  {
   "cell_type": "code",
   "execution_count": 563,
   "id": "9efca716",
   "metadata": {},
   "outputs": [
    {
     "data": {
      "text/plain": [
       "tensor([-0.1139])"
      ]
     },
     "execution_count": 563,
     "metadata": {},
     "output_type": "execute_result"
    }
   ],
   "source": [
    "torch_model.output.bias.grad"
   ]
  },
  {
   "cell_type": "code",
   "execution_count": null,
   "id": "94f0c879",
   "metadata": {},
   "outputs": [],
   "source": []
  },
  {
   "cell_type": "markdown",
   "id": "02d89510",
   "metadata": {},
   "source": [
    "TF and torch reached similar losses with the same structured models and running for same number of epochs"
   ]
  },
  {
   "cell_type": "code",
   "execution_count": 564,
   "id": "7736a001",
   "metadata": {},
   "outputs": [
    {
     "name": "stdout",
     "output_type": "stream",
     "text": [
      "Last train loss reached with TensorFlow: 1.0073187351226807\n",
      "Last train loss reached with PyTorch: 0.9946260571630903\n"
     ]
    }
   ],
   "source": [
    "print('Last train loss reached with TensorFlow:', history.history['root_mean_squared_error'][-1])\n",
    "print('Last train loss reached with PyTorch:', train_losses[-1])"
   ]
  },
  {
   "cell_type": "code",
   "execution_count": null,
   "id": "7298e382",
   "metadata": {},
   "outputs": [],
   "source": []
  },
  {
   "cell_type": "markdown",
   "id": "cae58127",
   "metadata": {},
   "source": [
    "#### Make predictions"
   ]
  },
  {
   "cell_type": "code",
   "execution_count": 565,
   "id": "2614f7a7",
   "metadata": {},
   "outputs": [
    {
     "name": "stdout",
     "output_type": "stream",
     "text": [
      "Test Performances\n",
      " ---------------------------------------- \n",
      "\n",
      "RMSE TF: 1.1157064034589026\n",
      "RMSE PyTorch: 1.1344944923938338\n",
      "\n",
      "\n",
      "RMSE LinReg: 1.0598040720997706\n"
     ]
    }
   ],
   "source": [
    "print('Test Performances\\n', '--' * 20, '\\n')\n",
    "\n",
    "TF_predictions = model.predict(X_test)\n",
    "torch_predictions = torch_model(torch_test_data.dataset.tensors[0])\n",
    "\n",
    "print('RMSE TF:', mean_squared_error(y_test, TF_predictions, squared=False))\n",
    "print('RMSE PyTorch:', mean_squared_error(y_test, torch_predictions.detach().numpy(), squared=False))\n",
    "print('\\n')\n",
    "print('RMSE LinReg:', mean_squared_error(y_test, lr.predict(X_test), squared=False))"
   ]
  },
  {
   "cell_type": "code",
   "execution_count": null,
   "id": "8bc4b3c0",
   "metadata": {},
   "outputs": [],
   "source": []
  },
  {
   "cell_type": "code",
   "execution_count": null,
   "id": "be299448",
   "metadata": {},
   "outputs": [],
   "source": []
  },
  {
   "cell_type": "markdown",
   "id": "8b6de95e",
   "metadata": {},
   "source": [
    "## PyTorch general guidelines\n",
    "\n",
    "1. Define model class\n",
    "    - init: layers\n",
    "    - forward: activations of layers, forward pass of training samples\n",
    "    \n",
    "    ```python\n",
    "    from torch import nn\n",
    "\n",
    "    class model(nn.Module):        \n",
    "        def __init__(self):        \n",
    "            super(model, self).__init__()            \n",
    "            # Define Model Here\n",
    "\n",
    "        def forward(self, x):        \n",
    "            # Define Forward Pass Here            \n",
    "            return x\n",
    "    \n",
    "    ```\n",
    "    \n",
    "2. Set compilers\n",
    "    - loss: function to minimize\n",
    "    - optimizer: optimizer's parameters are `model.parameters()`\n",
    "    \n",
    "    ```python\n",
    "    optimizer = optim.Adam(model.parameters())\n",
    "    loss_fn = nn.MSELoss()\n",
    "    ```\n",
    "    \n",
    "    Always check how the loss function is computed (i.e: CrossEntropyLoss() includes softmax, so last layer does not need to be activated via softmax)\n",
    "    \n",
    "    \n",
    "3. Train and test (evaluate) functions\n",
    "\n",
    "    - train: `model.train()`\n",
    "    - evaluate / inference: `model.eval()` and `with torch.nograd()` (use both, eval changes forward function)\n",
    "    - **pred and target must have same shape (-1,1), otherwise loss won't be calculated properly**\n",
    "\n",
    "**Training without validation**\n",
    "    \n",
    "```python\n",
    "epochs = 5\n",
    "for e in range(epochs):\n",
    "    model.train()\n",
    "    train_loss = 0        \n",
    "\n",
    "    for X, y in trainloader:\n",
    "\n",
    "        # Transfer Data to GPU if available\n",
    "        if torch.cuda.is_available():\n",
    "            data, labels = data.cuda(), labels.cuda()\n",
    "\n",
    "        # Clear the gradients\n",
    "        optimizer.zero_grad()\n",
    "        # Forward Pass\n",
    "        pred = model(X)\n",
    "        # Find the Loss\n",
    "        loss = loss_fn(pred,y)\n",
    "        # Calculate gradients via backpropagation\n",
    "        loss.backward()\n",
    "        # Update Weights\n",
    "        optimizer.step()\n",
    "        # Calculate Loss\n",
    "        train_loss += loss.item()\n",
    "\n",
    "    print(f'Epoch {e+1} \\t\\t Training Loss: {train_loss / len(trainloader)}')\n",
    "\n",
    "```\n",
    "**Training with test set:**    \n",
    "\n",
    "```python\n",
    "epochs = 5\n",
    "for e in range(epochs):\n",
    "    train_loss = 0\n",
    "    model.train() \n",
    "    for X, y in trainloader:\n",
    "\n",
    "        if torch.cuda.is_available():\n",
    "            X, y = X.cuda(), y.cuda()\n",
    "\n",
    "        optimizer.zero_grad()\n",
    "        pred = model(X)\n",
    "        loss = loss_fn(pred,y)\n",
    "        loss.backward()\n",
    "        optimizer.step()\n",
    "        train_loss += loss.item()\n",
    "\n",
    "    valid_loss = 0        \n",
    "    model.eval()   \n",
    "\n",
    "    with torch.no_grad():\n",
    "\n",
    "        for X, y in validloader:\n",
    "\n",
    "            if torch.cuda.is_available():\n",
    "                X, y = X.cuda(), y.cuda()\n",
    "\n",
    "            pred = model(X)\n",
    "            loss = loss_fn(pred, y)\n",
    "            valid_loss += loss.item()        \n",
    "\n",
    "    print(f'Epoch {e+1} \\t\\t Training Loss: {train_loss / len(trainloader)} \\t\\t \\\n",
    "          Validation Loss: {valid_loss / len(validloader)}')\n",
    "```\n",
    "    \n",
    "\n",
    "    \n"
   ]
  },
  {
   "cell_type": "code",
   "execution_count": null,
   "id": "018f151c",
   "metadata": {},
   "outputs": [],
   "source": []
  },
  {
   "cell_type": "markdown",
   "id": "5b09dd7a",
   "metadata": {},
   "source": [
    "### Try a same neural net without `relu` activation (less nonlinearities to model)"
   ]
  },
  {
   "cell_type": "code",
   "execution_count": 611,
   "id": "60ebeff1",
   "metadata": {
    "scrolled": true
   },
   "outputs": [
    {
     "name": "stdout",
     "output_type": "stream",
     "text": [
      "Deep_torch_NN(\n",
      "  (hidden1): Linear(in_features=4, out_features=10, bias=True)\n",
      "  (output): Linear(in_features=10, out_features=1, bias=True)\n",
      ")\n",
      "Epoch 1\n",
      "-------------------------------\n",
      "Losses -- train: 3.874396 -- test: 3.793321 \n",
      "\n",
      "Epoch 2\n",
      "-------------------------------\n",
      "Losses -- train: 3.680959 -- test: 3.612023 \n",
      "\n",
      "Epoch 3\n",
      "-------------------------------\n",
      "Losses -- train: 3.499417 -- test: 3.430854 \n",
      "\n",
      "Epoch 4\n",
      "-------------------------------\n",
      "Losses -- train: 3.307459 -- test: 3.230786 \n",
      "\n",
      "Epoch 5\n",
      "-------------------------------\n",
      "Losses -- train: 3.089799 -- test: 3.000800 \n",
      "\n",
      "Epoch 6\n",
      "-------------------------------\n",
      "Losses -- train: 2.839231 -- test: 2.737672 \n",
      "\n",
      "Epoch 7\n",
      "-------------------------------\n",
      "Losses -- train: 2.556229 -- test: 2.445765 \n",
      "\n",
      "Epoch 8\n",
      "-------------------------------\n",
      "Losses -- train: 2.249175 -- test: 2.137631 \n",
      "\n",
      "Epoch 9\n",
      "-------------------------------\n",
      "Losses -- train: 1.935048 -- test: 1.834304 \n",
      "\n",
      "Epoch 10\n",
      "-------------------------------\n",
      "Losses -- train: 1.638700 -- test: 1.562734 \n",
      "\n",
      "Epoch 11\n",
      "-------------------------------\n",
      "Losses -- train: 1.388067 -- test: 1.348120 \n",
      "\n",
      "Epoch 12\n",
      "-------------------------------\n",
      "Losses -- train: 1.204003 -- test: 1.202660 \n",
      "\n",
      "Epoch 13\n",
      "-------------------------------\n",
      "Losses -- train: 1.089439 -- test: 1.119290 \n",
      "\n",
      "Epoch 14\n",
      "-------------------------------\n",
      "Losses -- train: 1.028908 -- test: 1.078346 \n",
      "\n",
      "Epoch 15\n",
      "-------------------------------\n",
      "Losses -- train: 1.000782 -- test: 1.060453 \n",
      "\n",
      "Epoch 16\n",
      "-------------------------------\n",
      "Losses -- train: 0.988623 -- test: 1.053193 \n",
      "\n",
      "Epoch 17\n",
      "-------------------------------\n",
      "Losses -- train: 0.983440 -- test: 1.050388 \n",
      "\n",
      "Epoch 18\n",
      "-------------------------------\n",
      "Losses -- train: 0.981166 -- test: 1.049372 \n",
      "\n",
      "Epoch 19\n",
      "-------------------------------\n",
      "Losses -- train: 0.980121 -- test: 1.049061 \n",
      "\n",
      "Epoch 20\n",
      "-------------------------------\n",
      "Losses -- train: 0.979621 -- test: 1.049020 \n",
      "\n"
     ]
    }
   ],
   "source": [
    "#####################################\n",
    "########### load sources ############\n",
    "#####################################\n",
    "\n",
    "torch_train_data = TensorDataset(torch.Tensor(X_train), torch.Tensor(y_train))\n",
    "torch_train_data = DataLoader(torch_train_data, batch_size = BATCH_SIZE)\n",
    "\n",
    "torch_test_data = TensorDataset(torch.Tensor(X_test), torch.Tensor(y_test))\n",
    "torch_test_data = DataLoader(torch_test_data, batch_size = BATCH_SIZE)\n",
    "\n",
    "#####################################\n",
    "########### define model ############\n",
    "#####################################\n",
    "\n",
    "class Deep_torch_NN(nn.Module):\n",
    "    \n",
    "    def __init__(self):\n",
    "        \n",
    "        super(Deep_torch_NN, self).__init__()\n",
    "        \n",
    "        self.hidden1 = nn.Linear(4, 10)\n",
    "        self.output = nn.Linear(10, 1)\n",
    " \n",
    "    def forward(self, x):\n",
    "        \n",
    "        x = self.hidden1(x)\n",
    "        x = self.output(x)\n",
    "        \n",
    "        return x\n",
    "    \n",
    "model = Deep_torch_NN()\n",
    "print(model)\n",
    "\n",
    "#####################################\n",
    "########### compile model ###########\n",
    "#####################################\n",
    "\n",
    "optimizer = optim.Adam(model.parameters())\n",
    "loss = nn.MSELoss()\n",
    "\n",
    "#####################################\n",
    "########### train model #############\n",
    "#####################################\n",
    "\n",
    "train_losses = []\n",
    "valid_losses = []\n",
    "EPOCHS = 20\n",
    "\n",
    "for t in range(EPOCHS):\n",
    "    \n",
    "    print(f\"Epoch {t+1}\\n-------------------------------\")\n",
    "    train_loop(torch_train_data, model, loss, optimizer)\n",
    "    test_loop(torch_test_data, model, loss)"
   ]
  },
  {
   "cell_type": "code",
   "execution_count": 612,
   "id": "cb11f395",
   "metadata": {},
   "outputs": [
    {
     "data": {
      "image/png": "[encoded data removed]",
      "text/plain": [
       "<Figure size 576x288 with 1 Axes>"
      ]
     },
     "metadata": {
      "needs_background": "light"
     },
     "output_type": "display_data"
    }
   ],
   "source": [
    "plt.figure(figsize=(8, 4))\n",
    "plt.plot([i for i in range(EPOCHS)], train_losses, label = 'train')\n",
    "plt.plot([i for i in range(EPOCHS)], valid_losses, label = 'test')\n",
    "plt.title('RMSE learning - PyTorch, deeper model')\n",
    "plt.legend()\n",
    "plt.show()"
   ]
  },
  {
   "cell_type": "code",
   "execution_count": 613,
   "id": "a586d739",
   "metadata": {},
   "outputs": [
    {
     "name": "stdout",
     "output_type": "stream",
     "text": [
      "Test Performances\n",
      " ---------------------------------------- \n",
      "\n",
      "RMSE PyTorch: 1.059293160161684\n",
      "RMSE LinReg: 1.0598040720997706\n"
     ]
    }
   ],
   "source": [
    "print('Test Performances\\n', '--' * 20, '\\n')\n",
    "\n",
    "torch_predictions = model(torch_test_data.dataset.tensors[0])\n",
    "\n",
    "print('RMSE PyTorch:', mean_squared_error(y_test, torch_predictions.detach().numpy(), squared=False))\n",
    "print('RMSE LinReg:', mean_squared_error(y_test, lr.predict(X_test), squared=False))"
   ]
  },
  {
   "cell_type": "markdown",
   "id": "ced86cfb",
   "metadata": {},
   "source": [
    "Reaches linreg's minimum loss after ~15 epochs"
   ]
  },
  {
   "cell_type": "code",
   "execution_count": null,
   "id": "8b9eb5cd",
   "metadata": {},
   "outputs": [],
   "source": []
  },
  {
   "cell_type": "code",
   "execution_count": null,
   "id": "19f7fea7",
   "metadata": {},
   "outputs": [],
   "source": []
  },
  {
   "cell_type": "markdown",
   "id": "903853ab",
   "metadata": {},
   "source": [
    "### Sinusoidal data --> clearly nonlinearities involved"
   ]
  },
  {
   "cell_type": "code",
   "execution_count": 794,
   "id": "dc732f41",
   "metadata": {},
   "outputs": [],
   "source": [
    "%matplotlib inline"
   ]
  },
  {
   "cell_type": "code",
   "execution_count": 858,
   "id": "7a934bd9",
   "metadata": {},
   "outputs": [
    {
     "data": {
      "image/png": "[encoded data removed]",
      "text/plain": [
       "<Figure size 576x288 with 1 Axes>"
      ]
     },
     "metadata": {
      "needs_background": "light"
     },
     "output_type": "display_data"
    }
   ],
   "source": [
    "X = np.random.uniform(-10, 10, size = 1000).reshape(-1, 1)\n",
    "y = np.exp((np.sin(X) / np.sqrt(np.abs(X)))) + X / 20\n",
    "\n",
    "plt.figure(figsize=(8, 4))\n",
    "plt.scatter(X, y, s = 10)\n",
    "plt.title('Sinusoidal function\\n')\n",
    "plt.show()"
   ]
  },
  {
   "cell_type": "code",
   "execution_count": 859,
   "id": "f652a89e",
   "metadata": {},
   "outputs": [
    {
     "name": "stdout",
     "output_type": "stream",
     "text": [
      "RMSE LinReg: 0.46821979435692485\n"
     ]
    },
    {
     "data": {
      "image/png": "[encoded data removed]",
      "text/plain": [
       "<Figure size 576x288 with 1 Axes>"
      ]
     },
     "metadata": {
      "needs_background": "light"
     },
     "output_type": "display_data"
    }
   ],
   "source": [
    "lr = LinearRegression().fit(X, y)\n",
    "print('RMSE LinReg:', mean_squared_error(y, lr.predict(X), squared=False))\n",
    "\n",
    "plt.figure(figsize=(8, 4))\n",
    "plt.scatter(X, y, s = 10)\n",
    "plt.scatter(X, lr.predict(X), s = 10)\n",
    "plt.title('Sinusoidal function with predictions by linreg\\n')\n",
    "plt.show()"
   ]
  },
  {
   "cell_type": "code",
   "execution_count": null,
   "id": "d32a5f06",
   "metadata": {},
   "outputs": [],
   "source": []
  },
  {
   "cell_type": "markdown",
   "id": "30434620",
   "metadata": {},
   "source": [
    "Apply neural net"
   ]
  },
  {
   "cell_type": "code",
   "execution_count": 860,
   "id": "e74bbe54",
   "metadata": {
    "scrolled": true
   },
   "outputs": [
    {
     "name": "stdout",
     "output_type": "stream",
     "text": [
      "sinus_NN(\n",
      "  (hidden1): Linear(in_features=1, out_features=10, bias=True)\n",
      "  (hidden2): Linear(in_features=10, out_features=20, bias=True)\n",
      "  (hidden3): Linear(in_features=20, out_features=10, bias=True)\n",
      "  (output): Linear(in_features=10, out_features=1, bias=True)\n",
      ")\n",
      "Epoch 1\n",
      "-------------------------------\n",
      "Losses -- train: 0.920341 -- Epoch 2\n",
      "-------------------------------\n",
      "Losses -- train: 0.646839 -- Epoch 3\n",
      "-------------------------------\n",
      "Losses -- train: 0.548847 -- Epoch 4\n",
      "-------------------------------\n",
      "Losses -- train: 0.460056 -- Epoch 5\n",
      "-------------------------------\n",
      "Losses -- train: 0.396867 -- Epoch 6\n",
      "-------------------------------\n",
      "Losses -- train: 0.345730 -- Epoch 7\n",
      "-------------------------------\n",
      "Losses -- train: 0.311326 -- Epoch 8\n",
      "-------------------------------\n",
      "Losses -- train: 0.283025 -- Epoch 9\n",
      "-------------------------------\n",
      "Losses -- train: 0.259666 -- Epoch 10\n",
      "-------------------------------\n",
      "Losses -- train: 0.240919 -- Epoch 11\n",
      "-------------------------------\n",
      "Losses -- train: 0.226042 -- Epoch 12\n",
      "-------------------------------\n",
      "Losses -- train: 0.214035 -- Epoch 13\n",
      "-------------------------------\n",
      "Losses -- train: 0.203717 -- Epoch 14\n",
      "-------------------------------\n",
      "Losses -- train: 0.194755 -- Epoch 15\n",
      "-------------------------------\n",
      "Losses -- train: 0.186644 -- Epoch 16\n",
      "-------------------------------\n",
      "Losses -- train: 0.179271 -- Epoch 17\n",
      "-------------------------------\n",
      "Losses -- train: 0.172669 -- Epoch 18\n",
      "-------------------------------\n",
      "Losses -- train: 0.166970 -- Epoch 19\n",
      "-------------------------------\n",
      "Losses -- train: 0.161994 -- Epoch 20\n",
      "-------------------------------\n",
      "Losses -- train: 0.157441 -- Epoch 21\n",
      "-------------------------------\n",
      "Losses -- train: 0.153251 -- Epoch 22\n",
      "-------------------------------\n",
      "Losses -- train: 0.149522 -- Epoch 23\n",
      "-------------------------------\n",
      "Losses -- train: 0.146323 -- Epoch 24\n",
      "-------------------------------\n",
      "Losses -- train: 0.143575 -- Epoch 25\n",
      "-------------------------------\n",
      "Losses -- train: 0.141172 -- Epoch 26\n",
      "-------------------------------\n",
      "Losses -- train: 0.139185 -- Epoch 27\n",
      "-------------------------------\n",
      "Losses -- train: 0.137514 -- Epoch 28\n",
      "-------------------------------\n",
      "Losses -- train: 0.136067 -- Epoch 29\n",
      "-------------------------------\n",
      "Losses -- train: 0.134868 -- Epoch 30\n",
      "-------------------------------\n",
      "Losses -- train: 0.133841 -- Epoch 31\n",
      "-------------------------------\n",
      "Losses -- train: 0.132999 -- Epoch 32\n",
      "-------------------------------\n",
      "Losses -- train: 0.132275 -- Epoch 33\n",
      "-------------------------------\n",
      "Losses -- train: 0.131647 -- Epoch 34\n",
      "-------------------------------\n",
      "Losses -- train: 0.131110 -- Epoch 35\n",
      "-------------------------------\n",
      "Losses -- train: 0.130636 -- Epoch 36\n",
      "-------------------------------\n",
      "Losses -- train: 0.130220 -- Epoch 37\n",
      "-------------------------------\n",
      "Losses -- train: 0.129852 -- Epoch 38\n",
      "-------------------------------\n",
      "Losses -- train: 0.129517 -- Epoch 39\n",
      "-------------------------------\n",
      "Losses -- train: 0.129227 -- Epoch 40\n",
      "-------------------------------\n",
      "Losses -- train: 0.128964 -- Epoch 41\n",
      "-------------------------------\n",
      "Losses -- train: 0.128726 -- Epoch 42\n",
      "-------------------------------\n",
      "Losses -- train: 0.128510 -- Epoch 43\n",
      "-------------------------------\n",
      "Losses -- train: 0.128307 -- Epoch 44\n",
      "-------------------------------\n",
      "Losses -- train: 0.128116 -- Epoch 45\n",
      "-------------------------------\n",
      "Losses -- train: 0.127941 -- Epoch 46\n",
      "-------------------------------\n",
      "Losses -- train: 0.127768 -- Epoch 47\n",
      "-------------------------------\n",
      "Losses -- train: 0.127613 -- Epoch 48\n",
      "-------------------------------\n",
      "Losses -- train: 0.127458 -- Epoch 49\n",
      "-------------------------------\n",
      "Losses -- train: 0.127306 -- Epoch 50\n",
      "-------------------------------\n",
      "Losses -- train: 0.127166 -- Epoch 51\n",
      "-------------------------------\n",
      "Losses -- train: 0.127024 -- Epoch 52\n",
      "-------------------------------\n",
      "Losses -- train: 0.126897 -- Epoch 53\n",
      "-------------------------------\n",
      "Losses -- train: 0.126761 -- Epoch 54\n",
      "-------------------------------\n",
      "Losses -- train: 0.126633 -- Epoch 55\n",
      "-------------------------------\n",
      "Losses -- train: 0.126505 -- Epoch 56\n",
      "-------------------------------\n",
      "Losses -- train: 0.126385 -- Epoch 57\n",
      "-------------------------------\n",
      "Losses -- train: 0.126262 -- Epoch 58\n",
      "-------------------------------\n",
      "Losses -- train: 0.126147 -- Epoch 59\n",
      "-------------------------------\n",
      "Losses -- train: 0.126032 -- Epoch 60\n",
      "-------------------------------\n",
      "Losses -- train: 0.125922 -- Epoch 61\n",
      "-------------------------------\n",
      "Losses -- train: 0.125807 -- Epoch 62\n",
      "-------------------------------\n",
      "Losses -- train: 0.125700 -- Epoch 63\n",
      "-------------------------------\n",
      "Losses -- train: 0.125587 -- Epoch 64\n",
      "-------------------------------\n",
      "Losses -- train: 0.125484 -- Epoch 65\n",
      "-------------------------------\n",
      "Losses -- train: 0.125372 -- Epoch 66\n",
      "-------------------------------\n",
      "Losses -- train: 0.125268 -- Epoch 67\n",
      "-------------------------------\n",
      "Losses -- train: 0.125162 -- Epoch 68\n",
      "-------------------------------\n",
      "Losses -- train: 0.125056 -- Epoch 69\n",
      "-------------------------------\n",
      "Losses -- train: 0.124930 -- Epoch 70\n",
      "-------------------------------\n",
      "Losses -- train: 0.124800 -- Epoch 71\n",
      "-------------------------------\n",
      "Losses -- train: 0.124676 -- Epoch 72\n",
      "-------------------------------\n",
      "Losses -- train: 0.124556 -- Epoch 73\n",
      "-------------------------------\n",
      "Losses -- train: 0.124441 -- Epoch 74\n",
      "-------------------------------\n",
      "Losses -- train: 0.124327 -- Epoch 75\n",
      "-------------------------------\n",
      "Losses -- train: 0.124202 -- Epoch 76\n",
      "-------------------------------\n",
      "Losses -- train: 0.124082 -- Epoch 77\n",
      "-------------------------------\n",
      "Losses -- train: 0.123947 -- Epoch 78\n",
      "-------------------------------\n",
      "Losses -- train: 0.123818 -- Epoch 79\n",
      "-------------------------------\n",
      "Losses -- train: 0.123681 -- Epoch 80\n",
      "-------------------------------\n",
      "Losses -- train: 0.123522 -- Epoch 81\n",
      "-------------------------------\n",
      "Losses -- train: 0.123382 -- Epoch 82\n",
      "-------------------------------\n",
      "Losses -- train: 0.123212 -- Epoch 83\n",
      "-------------------------------\n",
      "Losses -- train: 0.123045 -- Epoch 84\n",
      "-------------------------------\n",
      "Losses -- train: 0.122862 -- Epoch 85\n",
      "-------------------------------\n",
      "Losses -- train: 0.122658 -- Epoch 86\n",
      "-------------------------------\n",
      "Losses -- train: 0.122420 -- Epoch 87\n",
      "-------------------------------\n",
      "Losses -- train: 0.122172 -- Epoch 88\n",
      "-------------------------------\n",
      "Losses -- train: 0.121908 -- Epoch 89\n",
      "-------------------------------\n",
      "Losses -- train: 0.121622 -- Epoch 90\n",
      "-------------------------------\n",
      "Losses -- train: 0.121318 -- Epoch 91\n",
      "-------------------------------\n",
      "Losses -- train: 0.120990 -- Epoch 92\n",
      "-------------------------------\n",
      "Losses -- train: 0.120622 -- Epoch 93\n",
      "-------------------------------\n",
      "Losses -- train: 0.120258 -- Epoch 94\n",
      "-------------------------------\n",
      "Losses -- train: 0.119834 -- Epoch 95\n",
      "-------------------------------\n",
      "Losses -- train: 0.119407 -- Epoch 96\n",
      "-------------------------------\n",
      "Losses -- train: 0.118949 -- Epoch 97\n",
      "-------------------------------\n",
      "Losses -- train: 0.118428 -- Epoch 98\n",
      "-------------------------------\n",
      "Losses -- train: 0.117891 -- Epoch 99\n",
      "-------------------------------\n",
      "Losses -- train: 0.117316 -- Epoch 100\n",
      "-------------------------------\n",
      "Losses -- train: 0.116664 -- Epoch 101\n",
      "-------------------------------\n",
      "Losses -- train: 0.116113 -- Epoch 102\n",
      "-------------------------------\n",
      "Losses -- train: 0.115427 -- Epoch 103\n",
      "-------------------------------\n",
      "Losses -- train: 0.114677 -- Epoch 104\n",
      "-------------------------------\n",
      "Losses -- train: 0.113950 -- Epoch 105\n",
      "-------------------------------\n",
      "Losses -- train: 0.113177 -- Epoch 106\n",
      "-------------------------------\n",
      "Losses -- train: 0.112352 -- Epoch 107\n",
      "-------------------------------\n",
      "Losses -- train: 0.111513 -- Epoch 108\n",
      "-------------------------------\n",
      "Losses -- train: 0.110644 -- Epoch 109\n",
      "-------------------------------\n",
      "Losses -- train: 0.109834 -- Epoch 110\n",
      "-------------------------------\n",
      "Losses -- train: 0.108862 -- Epoch 111\n",
      "-------------------------------\n",
      "Losses -- train: 0.107811 -- Epoch 112\n",
      "-------------------------------\n",
      "Losses -- train: 0.106821 -- Epoch 113\n",
      "-------------------------------\n",
      "Losses -- train: 0.105751 -- Epoch 114\n",
      "-------------------------------\n",
      "Losses -- train: 0.104650 -- Epoch 115\n",
      "-------------------------------\n"
     ]
    },
    {
     "name": "stdout",
     "output_type": "stream",
     "text": [
      "Losses -- train: 0.103447 -- Epoch 116\n",
      "-------------------------------\n",
      "Losses -- train: 0.102333 -- Epoch 117\n",
      "-------------------------------\n",
      "Losses -- train: 0.101062 -- Epoch 118\n",
      "-------------------------------\n",
      "Losses -- train: 0.099808 -- Epoch 119\n",
      "-------------------------------\n",
      "Losses -- train: 0.098500 -- Epoch 120\n",
      "-------------------------------\n",
      "Losses -- train: 0.097137 -- Epoch 121\n",
      "-------------------------------\n",
      "Losses -- train: 0.095835 -- Epoch 122\n",
      "-------------------------------\n",
      "Losses -- train: 0.094388 -- Epoch 123\n",
      "-------------------------------\n",
      "Losses -- train: 0.092851 -- Epoch 124\n",
      "-------------------------------\n",
      "Losses -- train: 0.091214 -- Epoch 125\n",
      "-------------------------------\n",
      "Losses -- train: 0.089559 -- Epoch 126\n",
      "-------------------------------\n",
      "Losses -- train: 0.087888 -- Epoch 127\n",
      "-------------------------------\n",
      "Losses -- train: 0.086303 -- Epoch 128\n",
      "-------------------------------\n",
      "Losses -- train: 0.084653 -- Epoch 129\n",
      "-------------------------------\n",
      "Losses -- train: 0.083014 -- Epoch 130\n",
      "-------------------------------\n",
      "Losses -- train: 0.081228 -- Epoch 131\n",
      "-------------------------------\n",
      "Losses -- train: 0.079393 -- Epoch 132\n",
      "-------------------------------\n",
      "Losses -- train: 0.077637 -- Epoch 133\n",
      "-------------------------------\n",
      "Losses -- train: 0.075743 -- Epoch 134\n",
      "-------------------------------\n",
      "Losses -- train: 0.073825 -- Epoch 135\n",
      "-------------------------------\n",
      "Losses -- train: 0.071827 -- Epoch 136\n",
      "-------------------------------\n",
      "Losses -- train: 0.069803 -- Epoch 137\n",
      "-------------------------------\n",
      "Losses -- train: 0.067763 -- Epoch 138\n",
      "-------------------------------\n",
      "Losses -- train: 0.064247 -- Epoch 139\n",
      "-------------------------------\n",
      "Losses -- train: 0.061396 -- Epoch 140\n",
      "-------------------------------\n",
      "Losses -- train: 0.058943 -- Epoch 141\n",
      "-------------------------------\n",
      "Losses -- train: 0.056501 -- Epoch 142\n",
      "-------------------------------\n",
      "Losses -- train: 0.054249 -- Epoch 143\n",
      "-------------------------------\n",
      "Losses -- train: 0.052087 -- Epoch 144\n",
      "-------------------------------\n",
      "Losses -- train: 0.049931 -- Epoch 145\n",
      "-------------------------------\n",
      "Losses -- train: 0.047754 -- Epoch 146\n",
      "-------------------------------\n",
      "Losses -- train: 0.045776 -- Epoch 147\n",
      "-------------------------------\n",
      "Losses -- train: 0.043813 -- Epoch 148\n",
      "-------------------------------\n",
      "Losses -- train: 0.042068 -- Epoch 149\n",
      "-------------------------------\n",
      "Losses -- train: 0.040709 -- Epoch 150\n",
      "-------------------------------\n",
      "Losses -- train: 0.039921 -- Epoch 151\n",
      "-------------------------------\n",
      "Losses -- train: 0.038393 -- Epoch 152\n",
      "-------------------------------\n",
      "Losses -- train: 0.036135 -- Epoch 153\n",
      "-------------------------------\n",
      "Losses -- train: 0.034473 -- Epoch 154\n",
      "-------------------------------\n",
      "Losses -- train: 0.033044 -- Epoch 155\n",
      "-------------------------------\n",
      "Losses -- train: 0.031970 -- Epoch 156\n",
      "-------------------------------\n",
      "Losses -- train: 0.031130 -- Epoch 157\n",
      "-------------------------------\n",
      "Losses -- train: 0.030286 -- Epoch 158\n",
      "-------------------------------\n",
      "Losses -- train: 0.029314 -- Epoch 159\n",
      "-------------------------------\n",
      "Losses -- train: 0.028404 -- Epoch 160\n",
      "-------------------------------\n",
      "Losses -- train: 0.027517 -- Epoch 161\n",
      "-------------------------------\n",
      "Losses -- train: 0.026889 -- Epoch 162\n",
      "-------------------------------\n",
      "Losses -- train: 0.026340 -- Epoch 163\n",
      "-------------------------------\n",
      "Losses -- train: 0.025955 -- Epoch 164\n",
      "-------------------------------\n",
      "Losses -- train: 0.025383 -- Epoch 165\n",
      "-------------------------------\n",
      "Losses -- train: 0.024844 -- Epoch 166\n",
      "-------------------------------\n",
      "Losses -- train: 0.024385 -- Epoch 167\n",
      "-------------------------------\n",
      "Losses -- train: 0.024064 -- Epoch 168\n",
      "-------------------------------\n",
      "Losses -- train: 0.023563 -- Epoch 169\n",
      "-------------------------------\n",
      "Losses -- train: 0.023133 -- Epoch 170\n",
      "-------------------------------\n",
      "Losses -- train: 0.022724 -- Epoch 171\n",
      "-------------------------------\n",
      "Losses -- train: 0.022409 -- Epoch 172\n",
      "-------------------------------\n",
      "Losses -- train: 0.022005 -- Epoch 173\n",
      "-------------------------------\n",
      "Losses -- train: 0.021631 -- Epoch 174\n",
      "-------------------------------\n",
      "Losses -- train: 0.021289 -- Epoch 175\n",
      "-------------------------------\n",
      "Losses -- train: 0.020967 -- Epoch 176\n",
      "-------------------------------\n",
      "Losses -- train: 0.020569 -- Epoch 177\n",
      "-------------------------------\n",
      "Losses -- train: 0.020275 -- Epoch 178\n",
      "-------------------------------\n",
      "Losses -- train: 0.020020 -- Epoch 179\n",
      "-------------------------------\n",
      "Losses -- train: 0.019734 -- Epoch 180\n",
      "-------------------------------\n",
      "Losses -- train: 0.019420 -- Epoch 181\n",
      "-------------------------------\n",
      "Losses -- train: 0.019131 -- Epoch 182\n",
      "-------------------------------\n",
      "Losses -- train: 0.018952 -- Epoch 183\n",
      "-------------------------------\n",
      "Losses -- train: 0.018868 -- Epoch 184\n",
      "-------------------------------\n",
      "Losses -- train: 0.019019 -- Epoch 185\n",
      "-------------------------------\n",
      "Losses -- train: 0.018741 -- Epoch 186\n",
      "-------------------------------\n",
      "Losses -- train: 0.018472 -- Epoch 187\n",
      "-------------------------------\n",
      "Losses -- train: 0.018200 -- Epoch 188\n",
      "-------------------------------\n",
      "Losses -- train: 0.018051 -- Epoch 189\n",
      "-------------------------------\n",
      "Losses -- train: 0.017938 -- Epoch 190\n",
      "-------------------------------\n",
      "Losses -- train: 0.017779 -- Epoch 191\n",
      "-------------------------------\n",
      "Losses -- train: 0.017560 -- Epoch 192\n",
      "-------------------------------\n",
      "Losses -- train: 0.017289 -- Epoch 193\n",
      "-------------------------------\n",
      "Losses -- train: 0.016971 -- Epoch 194\n",
      "-------------------------------\n",
      "Losses -- train: 0.016734 -- Epoch 195\n",
      "-------------------------------\n",
      "Losses -- train: 0.016551 -- Epoch 196\n",
      "-------------------------------\n",
      "Losses -- train: 0.016429 -- Epoch 197\n",
      "-------------------------------\n",
      "Losses -- train: 0.016359 -- Epoch 198\n",
      "-------------------------------\n",
      "Losses -- train: 0.016135 -- Epoch 199\n",
      "-------------------------------\n",
      "Losses -- train: 0.015970 -- Epoch 200\n",
      "-------------------------------\n",
      "Losses -- train: 0.015785 -- Epoch 201\n",
      "-------------------------------\n",
      "Losses -- train: 0.015671 -- Epoch 202\n",
      "-------------------------------\n",
      "Losses -- train: 0.015528 -- Epoch 203\n",
      "-------------------------------\n",
      "Losses -- train: 0.015372 -- Epoch 204\n",
      "-------------------------------\n",
      "Losses -- train: 0.015240 -- Epoch 205\n",
      "-------------------------------\n",
      "Losses -- train: 0.015119 -- Epoch 206\n",
      "-------------------------------\n",
      "Losses -- train: 0.015125 -- Epoch 207\n",
      "-------------------------------\n",
      "Losses -- train: 0.015049 -- Epoch 208\n",
      "-------------------------------\n",
      "Losses -- train: 0.015010 -- Epoch 209\n",
      "-------------------------------\n",
      "Losses -- train: 0.014925 -- Epoch 210\n",
      "-------------------------------\n",
      "Losses -- train: 0.014952 -- Epoch 211\n",
      "-------------------------------\n",
      "Losses -- train: 0.014942 -- Epoch 212\n",
      "-------------------------------\n",
      "Losses -- train: 0.014871 -- Epoch 213\n",
      "-------------------------------\n",
      "Losses -- train: 0.014891 -- Epoch 214\n",
      "-------------------------------\n",
      "Losses -- train: 0.014988 -- Epoch 215\n",
      "-------------------------------\n",
      "Losses -- train: 0.014894 -- Epoch 216\n",
      "-------------------------------\n",
      "Losses -- train: 0.015208 -- Epoch 217\n",
      "-------------------------------\n",
      "Losses -- train: 0.015270 -- Epoch 218\n",
      "-------------------------------\n",
      "Losses -- train: 0.015569 -- Epoch 219\n",
      "-------------------------------\n",
      "Losses -- train: 0.015658 -- Epoch 220\n",
      "-------------------------------\n",
      "Losses -- train: 0.015776 -- Epoch 221\n",
      "-------------------------------\n",
      "Losses -- train: 0.015880 -- Epoch 222\n",
      "-------------------------------\n",
      "Losses -- train: 0.016030 -- Epoch 223\n",
      "-------------------------------\n",
      "Losses -- train: 0.016104 -- Epoch 224\n",
      "-------------------------------\n",
      "Losses -- train: 0.016156 -- Epoch 225\n",
      "-------------------------------\n",
      "Losses -- train: 0.016214 -- Epoch 226\n",
      "-------------------------------\n",
      "Losses -- train: 0.016337 -- Epoch 227\n",
      "-------------------------------\n",
      "Losses -- train: 0.016360 -- Epoch 228\n",
      "-------------------------------\n",
      "Losses -- train: 0.016330 -- Epoch 229\n",
      "-------------------------------\n",
      "Losses -- train: 0.016639 -- Epoch 230\n",
      "-------------------------------\n",
      "Losses -- train: 0.016740 -- Epoch 231\n",
      "-------------------------------\n",
      "Losses -- train: 0.016395 -- Epoch 232\n",
      "-------------------------------\n"
     ]
    },
    {
     "name": "stdout",
     "output_type": "stream",
     "text": [
      "Losses -- train: 0.016210 -- Epoch 233\n",
      "-------------------------------\n",
      "Losses -- train: 0.016117 -- Epoch 234\n",
      "-------------------------------\n",
      "Losses -- train: 0.016209 -- Epoch 235\n",
      "-------------------------------\n",
      "Losses -- train: 0.016121 -- Epoch 236\n",
      "-------------------------------\n",
      "Losses -- train: 0.015928 -- Epoch 237\n",
      "-------------------------------\n",
      "Losses -- train: 0.015783 -- Epoch 238\n",
      "-------------------------------\n",
      "Losses -- train: 0.015760 -- Epoch 239\n",
      "-------------------------------\n",
      "Losses -- train: 0.015697 -- Epoch 240\n",
      "-------------------------------\n",
      "Losses -- train: 0.015841 -- Epoch 241\n",
      "-------------------------------\n",
      "Losses -- train: 0.015918 -- Epoch 242\n",
      "-------------------------------\n",
      "Losses -- train: 0.015638 -- Epoch 243\n",
      "-------------------------------\n",
      "Losses -- train: 0.015529 -- Epoch 244\n",
      "-------------------------------\n",
      "Losses -- train: 0.015659 -- Epoch 245\n",
      "-------------------------------\n",
      "Losses -- train: 0.015605 -- Epoch 246\n",
      "-------------------------------\n",
      "Losses -- train: 0.015513 -- Epoch 247\n",
      "-------------------------------\n",
      "Losses -- train: 0.015514 -- Epoch 248\n",
      "-------------------------------\n",
      "Losses -- train: 0.015341 -- Epoch 249\n",
      "-------------------------------\n",
      "Losses -- train: 0.015316 -- Epoch 250\n",
      "-------------------------------\n",
      "Losses -- train: 0.015290 -- Wall time: 32.4 s\n"
     ]
    }
   ],
   "source": [
    "%%time\n",
    "\n",
    "#####################################\n",
    "########### load sources ############\n",
    "#####################################\n",
    "\n",
    "torch_train_data = DataLoader(TensorDataset(torch.Tensor(X), torch.Tensor(y)), batch_size=BATCH_SIZE)\n",
    "\n",
    "#####################################\n",
    "########### define model ############\n",
    "#####################################\n",
    "\n",
    "class sinus_NN(nn.Module):\n",
    "    \n",
    "    def __init__(self):\n",
    "        \n",
    "        super(sinus_NN, self).__init__()\n",
    "        \n",
    "        self.hidden1 = nn.Linear(1, 10)\n",
    "        self.hidden2 = nn.Linear(10, 20)\n",
    "        self.hidden3 = nn.Linear(20, 10)\n",
    "        self.output = nn.Linear(10, 1)\n",
    " \n",
    "    def forward(self, x):\n",
    "        \n",
    "        x = F.relu(self.hidden1(x))\n",
    "        x = F.relu(self.hidden2(x))\n",
    "        x = F.relu(self.hidden3(x))\n",
    "        x = self.output(x)\n",
    "        \n",
    "        return x\n",
    "    \n",
    "model = sinus_NN()\n",
    "print(model)\n",
    "\n",
    "#####################################\n",
    "########### compile model ###########\n",
    "#####################################\n",
    "\n",
    "optimizer = optim.Adam(model.parameters())\n",
    "loss = nn.MSELoss()\n",
    "\n",
    "#####################################\n",
    "########### train model #############\n",
    "#####################################\n",
    "\n",
    "train_losses = []\n",
    "valid_losses = []\n",
    "pred_at_each_epoch = []\n",
    "EPOCHS = 250\n",
    "\n",
    "for t in range(EPOCHS):\n",
    "    \n",
    "    print(f\"\\nEpoch {t+1}\\n-------------------------------\")\n",
    "    train_loop(torch_train_data, model, loss, optimizer)\n",
    "    \n",
    "    #model.eval()\n",
    "    pred_at_each_epoch.append(model(torch.Tensor(X)).detach().numpy())\n",
    "    #test_loop(torch_test_data, model, loss)"
   ]
  },
  {
   "cell_type": "code",
   "execution_count": 861,
   "id": "4abd77a2",
   "metadata": {},
   "outputs": [
    {
     "data": {
      "image/png": "[encoded data removed]",
      "text/plain": [
       "<Figure size 576x288 with 1 Axes>"
      ]
     },
     "metadata": {
      "needs_background": "light"
     },
     "output_type": "display_data"
    }
   ],
   "source": [
    "plt.figure(figsize=(8, 4))\n",
    "plt.plot([i for i in range(EPOCHS)], train_losses, label = 'train')\n",
    "plt.title('RMSE learning - PyTorch for sinusoidal data')\n",
    "plt.legend()\n",
    "plt.show()"
   ]
  },
  {
   "cell_type": "code",
   "execution_count": 862,
   "id": "3e50aaab",
   "metadata": {},
   "outputs": [
    {
     "name": "stdout",
     "output_type": "stream",
     "text": [
      "RMSE PyTorch: 0.014771327804825858\n"
     ]
    },
    {
     "data": {
      "image/png": "[encoded data removed]",
      "text/plain": [
       "<Figure size 576x288 with 1 Axes>"
      ]
     },
     "metadata": {
      "needs_background": "light"
     },
     "output_type": "display_data"
    }
   ],
   "source": [
    "torch_pred = model(torch.Tensor(X)).detach().numpy()\n",
    "print('RMSE PyTorch:', mean_squared_error(y, torch_pred, squared=False))\n",
    "\n",
    "plt.figure(figsize=(8, 4))\n",
    "plt.scatter(X, y, s = 10, label = 'actual')\n",
    "plt.scatter(X, torch_pred, s = 10, label = 'prediction')\n",
    "plt.title('Sinusoidal function with predictions by linreg\\n')\n",
    "plt.legend()\n",
    "plt.show()"
   ]
  },
  {
   "cell_type": "code",
   "execution_count": null,
   "id": "44b52a3a",
   "metadata": {},
   "outputs": [],
   "source": []
  },
  {
   "cell_type": "markdown",
   "id": "f30de9fb",
   "metadata": {},
   "source": [
    "#### Visualization of prediction change after each epoch"
   ]
  },
  {
   "cell_type": "code",
   "execution_count": 863,
   "id": "8cc147ed",
   "metadata": {},
   "outputs": [],
   "source": [
    "import time\n",
    "%matplotlib notebook"
   ]
  },
  {
   "cell_type": "code",
   "execution_count": 864,
   "id": "1a24cc15",
   "metadata": {},
   "outputs": [
    {
     "data": {
      "application/javascript": [
       "/* Put everything inside the global mpl namespace */\n",
       "/* global mpl */\n",
       "window.mpl = {};\n",
       "\n",
       "mpl.get_websocket_type = function () {\n",
       "    if (typeof WebSocket !== 'undefined') {\n",
       "        return WebSocket;\n",
       "    } else if (typeof MozWebSocket !== 'undefined') {\n",
       "        return MozWebSocket;\n",
       "    } else {\n",
       "        alert(\n",
       "            'Your browser does not have WebSocket support. ' +\n",
       "                'Please try Chrome, Safari or Firefox ≥ 6. ' +\n",
       "                'Firefox 4 and 5 are also supported but you ' +\n",
       "                'have to enable WebSockets in about:config.'\n",
       "        );\n",
       "    }\n",
       "};\n",
       "\n",
       "mpl.figure = function (figure_id, websocket, ondownload, parent_element) {\n",
       "    this.id = figure_id;\n",
       "\n",
       "    this.ws = websocket;\n",
       "\n",
       "    this.supports_binary = this.ws.binaryType !== undefined;\n",
       "\n",
       "    if (!this.supports_binary) {\n",
       "        var warnings = document.getElementById('mpl-warnings');\n",
       "        if (warnings) {\n",
       "            warnings.style.display = 'block';\n",
       "            warnings.textContent =\n",
       "                'This browser does not support binary websocket messages. ' +\n",
       "                'Performance may be slow.';\n",
       "        }\n",
       "    }\n",
       "\n",
       "    this.imageObj = new Image();\n",
       "\n",
       "    this.context = undefined;\n",
       "    this.message = undefined;\n",
       "    this.canvas = undefined;\n",
       "    this.rubberband_canvas = undefined;\n",
       "    this.rubberband_context = undefined;\n",
       "    this.format_dropdown = undefined;\n",
       "\n",
       "    this.image_mode = 'full';\n",
       "\n",
       "    this.root = document.createElement('div');\n",
       "    this.root.setAttribute('style', 'display: inline-block');\n",
       "    this._root_extra_style(this.root);\n",
       "\n",
       "    parent_element.appendChild(this.root);\n",
       "\n",
       "    this._init_header(this);\n",
       "    this._init_canvas(this);\n",
       "    this._init_toolbar(this);\n",
       "\n",
       "    var fig = this;\n",
       "\n",
       "    this.waiting = false;\n",
       "\n",
       "    this.ws.onopen = function () {\n",
       "        fig.send_message('supports_binary', { value: fig.supports_binary });\n",
       "        fig.send_message('send_image_mode', {});\n",
       "        if (fig.ratio !== 1) {\n",
       "            fig.send_message('set_device_pixel_ratio', {\n",
       "                device_pixel_ratio: fig.ratio,\n",
       "            });\n",
       "        }\n",
       "        fig.send_message('refresh', {});\n",
       "    };\n",
       "\n",
       "    this.imageObj.onload = function () {\n",
       "        if (fig.image_mode === 'full') {\n",
       "            // Full images could contain transparency (where diff images\n",
       "            // almost always do), so we need to clear the canvas so that\n",
       "            // there is no ghosting.\n",
       "            fig.context.clearRect(0, 0, fig.canvas.width, fig.canvas.height);\n",
       "        }\n",
       "        fig.context.drawImage(fig.imageObj, 0, 0);\n",
       "    };\n",
       "\n",
       "    this.imageObj.onunload = function () {\n",
       "        fig.ws.close();\n",
       "    };\n",
       "\n",
       "    this.ws.onmessage = this._make_on_message_function(this);\n",
       "\n",
       "    this.ondownload = ondownload;\n",
       "};\n",
       "\n",
       "mpl.figure.prototype._init_header = function () {\n",
       "    var titlebar = document.createElement('div');\n",
       "    titlebar.classList =\n",
       "        'ui-dialog-titlebar ui-widget-header ui-corner-all ui-helper-clearfix';\n",
       "    var titletext = document.createElement('div');\n",
       "    titletext.classList = 'ui-dialog-title';\n",
       "    titletext.setAttribute(\n",
       "        'style',\n",
       "        'width: 100%; text-align: center; padding: 3px;'\n",
       "    );\n",
       "    titlebar.appendChild(titletext);\n",
       "    this.root.appendChild(titlebar);\n",
       "    this.header = titletext;\n",
       "};\n",
       "\n",
       "mpl.figure.prototype._canvas_extra_style = function (_canvas_div) {};\n",
       "\n",
       "mpl.figure.prototype._root_extra_style = function (_canvas_div) {};\n",
       "\n",
       "mpl.figure.prototype._init_canvas = function () {\n",
       "    var fig = this;\n",
       "\n",
       "    var canvas_div = (this.canvas_div = document.createElement('div'));\n",
       "    canvas_div.setAttribute(\n",
       "        'style',\n",
       "        'border: 1px solid #ddd;' +\n",
       "            'box-sizing: content-box;' +\n",
       "            'clear: both;' +\n",
       "            'min-height: 1px;' +\n",
       "            'min-width: 1px;' +\n",
       "            'outline: 0;' +\n",
       "            'overflow: hidden;' +\n",
       "            'position: relative;' +\n",
       "            'resize: both;'\n",
       "    );\n",
       "\n",
       "    function on_keyboard_event_closure(name) {\n",
       "        return function (event) {\n",
       "            return fig.key_event(event, name);\n",
       "        };\n",
       "    }\n",
       "\n",
       "    canvas_div.addEventListener(\n",
       "        'keydown',\n",
       "        on_keyboard_event_closure('key_press')\n",
       "    );\n",
       "    canvas_div.addEventListener(\n",
       "        'keyup',\n",
       "        on_keyboard_event_closure('key_release')\n",
       "    );\n",
       "\n",
       "    this._canvas_extra_style(canvas_div);\n",
       "    this.root.appendChild(canvas_div);\n",
       "\n",
       "    var canvas = (this.canvas = document.createElement('canvas'));\n",
       "    canvas.classList.add('mpl-canvas');\n",
       "    canvas.setAttribute('style', 'box-sizing: content-box;');\n",
       "\n",
       "    this.context = canvas.getContext('2d');\n",
       "\n",
       "    var backingStore =\n",
       "        this.context.backingStorePixelRatio ||\n",
       "        this.context.webkitBackingStorePixelRatio ||\n",
       "        this.context.mozBackingStorePixelRatio ||\n",
       "        this.context.msBackingStorePixelRatio ||\n",
       "        this.context.oBackingStorePixelRatio ||\n",
       "        this.context.backingStorePixelRatio ||\n",
       "        1;\n",
       "\n",
       "    this.ratio = (window.devicePixelRatio || 1) / backingStore;\n",
       "\n",
       "    var rubberband_canvas = (this.rubberband_canvas = document.createElement(\n",
       "        'canvas'\n",
       "    ));\n",
       "    rubberband_canvas.setAttribute(\n",
       "        'style',\n",
       "        'box-sizing: content-box; position: absolute; left: 0; top: 0; z-index: 1;'\n",
       "    );\n",
       "\n",
       "    // Apply a ponyfill if ResizeObserver is not implemented by browser.\n",
       "    if (this.ResizeObserver === undefined) {\n",
       "        if (window.ResizeObserver !== undefined) {\n",
       "            this.ResizeObserver = window.ResizeObserver;\n",
       "        } else {\n",
       "            var obs = _JSXTOOLS_RESIZE_OBSERVER({});\n",
       "            this.ResizeObserver = obs.ResizeObserver;\n",
       "        }\n",
       "    }\n",
       "\n",
       "    this.resizeObserverInstance = new this.ResizeObserver(function (entries) {\n",
       "        var nentries = entries.length;\n",
       "        for (var i = 0; i < nentries; i++) {\n",
       "            var entry = entries[i];\n",
       "            var width, height;\n",
       "            if (entry.contentBoxSize) {\n",
       "                if (entry.contentBoxSize instanceof Array) {\n",
       "                    // Chrome 84 implements new version of spec.\n",
       "                    width = entry.contentBoxSize[0].inlineSize;\n",
       "                    height = entry.contentBoxSize[0].blockSize;\n",
       "                } else {\n",
       "                    // Firefox implements old version of spec.\n",
       "                    width = entry.contentBoxSize.inlineSize;\n",
       "                    height = entry.contentBoxSize.blockSize;\n",
       "                }\n",
       "            } else {\n",
       "                // Chrome <84 implements even older version of spec.\n",
       "                width = entry.contentRect.width;\n",
       "                height = entry.contentRect.height;\n",
       "            }\n",
       "\n",
       "            // Keep the size of the canvas and rubber band canvas in sync with\n",
       "            // the canvas container.\n",
       "            if (entry.devicePixelContentBoxSize) {\n",
       "                // Chrome 84 implements new version of spec.\n",
       "                canvas.setAttribute(\n",
       "                    'width',\n",
       "                    entry.devicePixelContentBoxSize[0].inlineSize\n",
       "                );\n",
       "                canvas.setAttribute(\n",
       "                    'height',\n",
       "                    entry.devicePixelContentBoxSize[0].blockSize\n",
       "                );\n",
       "            } else {\n",
       "                canvas.setAttribute('width', width * fig.ratio);\n",
       "                canvas.setAttribute('height', height * fig.ratio);\n",
       "            }\n",
       "            canvas.setAttribute(\n",
       "                'style',\n",
       "                'width: ' + width + 'px; height: ' + height + 'px;'\n",
       "            );\n",
       "\n",
       "            rubberband_canvas.setAttribute('width', width);\n",
       "            rubberband_canvas.setAttribute('height', height);\n",
       "\n",
       "            // And update the size in Python. We ignore the initial 0/0 size\n",
       "            // that occurs as the element is placed into the DOM, which should\n",
       "            // otherwise not happen due to the minimum size styling.\n",
       "            if (fig.ws.readyState == 1 && width != 0 && height != 0) {\n",
       "                fig.request_resize(width, height);\n",
       "            }\n",
       "        }\n",
       "    });\n",
       "    this.resizeObserverInstance.observe(canvas_div);\n",
       "\n",
       "    function on_mouse_event_closure(name) {\n",
       "        return function (event) {\n",
       "            return fig.mouse_event(event, name);\n",
       "        };\n",
       "    }\n",
       "\n",
       "    rubberband_canvas.addEventListener(\n",
       "        'mousedown',\n",
       "        on_mouse_event_closure('button_press')\n",
       "    );\n",
       "    rubberband_canvas.addEventListener(\n",
       "        'mouseup',\n",
       "        on_mouse_event_closure('button_release')\n",
       "    );\n",
       "    rubberband_canvas.addEventListener(\n",
       "        'dblclick',\n",
       "        on_mouse_event_closure('dblclick')\n",
       "    );\n",
       "    // Throttle sequential mouse events to 1 every 20ms.\n",
       "    rubberband_canvas.addEventListener(\n",
       "        'mousemove',\n",
       "        on_mouse_event_closure('motion_notify')\n",
       "    );\n",
       "\n",
       "    rubberband_canvas.addEventListener(\n",
       "        'mouseenter',\n",
       "        on_mouse_event_closure('figure_enter')\n",
       "    );\n",
       "    rubberband_canvas.addEventListener(\n",
       "        'mouseleave',\n",
       "        on_mouse_event_closure('figure_leave')\n",
       "    );\n",
       "\n",
       "    canvas_div.addEventListener('wheel', function (event) {\n",
       "        if (event.deltaY < 0) {\n",
       "            event.step = 1;\n",
       "        } else {\n",
       "            event.step = -1;\n",
       "        }\n",
       "        on_mouse_event_closure('scroll')(event);\n",
       "    });\n",
       "\n",
       "    canvas_div.appendChild(canvas);\n",
       "    canvas_div.appendChild(rubberband_canvas);\n",
       "\n",
       "    this.rubberband_context = rubberband_canvas.getContext('2d');\n",
       "    this.rubberband_context.strokeStyle = '#000000';\n",
       "\n",
       "    this._resize_canvas = function (width, height, forward) {\n",
       "        if (forward) {\n",
       "            canvas_div.style.width = width + 'px';\n",
       "            canvas_div.style.height = height + 'px';\n",
       "        }\n",
       "    };\n",
       "\n",
       "    // Disable right mouse context menu.\n",
       "    this.rubberband_canvas.addEventListener('contextmenu', function (_e) {\n",
       "        event.preventDefault();\n",
       "        return false;\n",
       "    });\n",
       "\n",
       "    function set_focus() {\n",
       "        canvas.focus();\n",
       "        canvas_div.focus();\n",
       "    }\n",
       "\n",
       "    window.setTimeout(set_focus, 100);\n",
       "};\n",
       "\n",
       "mpl.figure.prototype._init_toolbar = function () {\n",
       "    var fig = this;\n",
       "\n",
       "    var toolbar = document.createElement('div');\n",
       "    toolbar.classList = 'mpl-toolbar';\n",
       "    this.root.appendChild(toolbar);\n",
       "\n",
       "    function on_click_closure(name) {\n",
       "        return function (_event) {\n",
       "            return fig.toolbar_button_onclick(name);\n",
       "        };\n",
       "    }\n",
       "\n",
       "    function on_mouseover_closure(tooltip) {\n",
       "        return function (event) {\n",
       "            if (!event.currentTarget.disabled) {\n",
       "                return fig.toolbar_button_onmouseover(tooltip);\n",
       "            }\n",
       "        };\n",
       "    }\n",
       "\n",
       "    fig.buttons = {};\n",
       "    var buttonGroup = document.createElement('div');\n",
       "    buttonGroup.classList = 'mpl-button-group';\n",
       "    for (var toolbar_ind in mpl.toolbar_items) {\n",
       "        var name = mpl.toolbar_items[toolbar_ind][0];\n",
       "        var tooltip = mpl.toolbar_items[toolbar_ind][1];\n",
       "        var image = mpl.toolbar_items[toolbar_ind][2];\n",
       "        var method_name = mpl.toolbar_items[toolbar_ind][3];\n",
       "\n",
       "        if (!name) {\n",
       "            /* Instead of a spacer, we start a new button group. */\n",
       "            if (buttonGroup.hasChildNodes()) {\n",
       "                toolbar.appendChild(buttonGroup);\n",
       "            }\n",
       "            buttonGroup = document.createElement('div');\n",
       "            buttonGroup.classList = 'mpl-button-group';\n",
       "            continue;\n",
       "        }\n",
       "\n",
       "        var button = (fig.buttons[name] = document.createElement('button'));\n",
       "        button.classList = 'mpl-widget';\n",
       "        button.setAttribute('role', 'button');\n",
       "        button.setAttribute('aria-disabled', 'false');\n",
       "        button.addEventListener('click', on_click_closure(method_name));\n",
       "        button.addEventListener('mouseover', on_mouseover_closure(tooltip));\n",
       "\n",
       "        var icon_img = document.createElement('img');\n",
       "        icon_img.src = '_images/' + image + '.png';\n",
       "        icon_img.srcset = '_images/' + image + '_large.png 2x';\n",
       "        icon_img.alt = tooltip;\n",
       "        button.appendChild(icon_img);\n",
       "\n",
       "        buttonGroup.appendChild(button);\n",
       "    }\n",
       "\n",
       "    if (buttonGroup.hasChildNodes()) {\n",
       "        toolbar.appendChild(buttonGroup);\n",
       "    }\n",
       "\n",
       "    var fmt_picker = document.createElement('select');\n",
       "    fmt_picker.classList = 'mpl-widget';\n",
       "    toolbar.appendChild(fmt_picker);\n",
       "    this.format_dropdown = fmt_picker;\n",
       "\n",
       "    for (var ind in mpl.extensions) {\n",
       "        var fmt = mpl.extensions[ind];\n",
       "        var option = document.createElement('option');\n",
       "        option.selected = fmt === mpl.default_extension;\n",
       "        option.innerHTML = fmt;\n",
       "        fmt_picker.appendChild(option);\n",
       "    }\n",
       "\n",
       "    var status_bar = document.createElement('span');\n",
       "    status_bar.classList = 'mpl-message';\n",
       "    toolbar.appendChild(status_bar);\n",
       "    this.message = status_bar;\n",
       "};\n",
       "\n",
       "mpl.figure.prototype.request_resize = function (x_pixels, y_pixels) {\n",
       "    // Request matplotlib to resize the figure. Matplotlib will then trigger a resize in the client,\n",
       "    // which will in turn request a refresh of the image.\n",
       "    this.send_message('resize', { width: x_pixels, height: y_pixels });\n",
       "};\n",
       "\n",
       "mpl.figure.prototype.send_message = function (type, properties) {\n",
       "    properties['type'] = type;\n",
       "    properties['figure_id'] = this.id;\n",
       "    this.ws.send(JSON.stringify(properties));\n",
       "};\n",
       "\n",
       "mpl.figure.prototype.send_draw_message = function () {\n",
       "    if (!this.waiting) {\n",
       "        this.waiting = true;\n",
       "        this.ws.send(JSON.stringify({ type: 'draw', figure_id: this.id }));\n",
       "    }\n",
       "};\n",
       "\n",
       "mpl.figure.prototype.handle_save = function (fig, _msg) {\n",
       "    var format_dropdown = fig.format_dropdown;\n",
       "    var format = format_dropdown.options[format_dropdown.selectedIndex].value;\n",
       "    fig.ondownload(fig, format);\n",
       "};\n",
       "\n",
       "mpl.figure.prototype.handle_resize = function (fig, msg) {\n",
       "    var size = msg['size'];\n",
       "    if (size[0] !== fig.canvas.width || size[1] !== fig.canvas.height) {\n",
       "        fig._resize_canvas(size[0], size[1], msg['forward']);\n",
       "        fig.send_message('refresh', {});\n",
       "    }\n",
       "};\n",
       "\n",
       "mpl.figure.prototype.handle_rubberband = function (fig, msg) {\n",
       "    var x0 = msg['x0'] / fig.ratio;\n",
       "    var y0 = (fig.canvas.height - msg['y0']) / fig.ratio;\n",
       "    var x1 = msg['x1'] / fig.ratio;\n",
       "    var y1 = (fig.canvas.height - msg['y1']) / fig.ratio;\n",
       "    x0 = Math.floor(x0) + 0.5;\n",
       "    y0 = Math.floor(y0) + 0.5;\n",
       "    x1 = Math.floor(x1) + 0.5;\n",
       "    y1 = Math.floor(y1) + 0.5;\n",
       "    var min_x = Math.min(x0, x1);\n",
       "    var min_y = Math.min(y0, y1);\n",
       "    var width = Math.abs(x1 - x0);\n",
       "    var height = Math.abs(y1 - y0);\n",
       "\n",
       "    fig.rubberband_context.clearRect(\n",
       "        0,\n",
       "        0,\n",
       "        fig.canvas.width / fig.ratio,\n",
       "        fig.canvas.height / fig.ratio\n",
       "    );\n",
       "\n",
       "    fig.rubberband_context.strokeRect(min_x, min_y, width, height);\n",
       "};\n",
       "\n",
       "mpl.figure.prototype.handle_figure_label = function (fig, msg) {\n",
       "    // Updates the figure title.\n",
       "    fig.header.textContent = msg['label'];\n",
       "};\n",
       "\n",
       "mpl.figure.prototype.handle_cursor = function (fig, msg) {\n",
       "    fig.rubberband_canvas.style.cursor = msg['cursor'];\n",
       "};\n",
       "\n",
       "mpl.figure.prototype.handle_message = function (fig, msg) {\n",
       "    fig.message.textContent = msg['message'];\n",
       "};\n",
       "\n",
       "mpl.figure.prototype.handle_draw = function (fig, _msg) {\n",
       "    // Request the server to send over a new figure.\n",
       "    fig.send_draw_message();\n",
       "};\n",
       "\n",
       "mpl.figure.prototype.handle_image_mode = function (fig, msg) {\n",
       "    fig.image_mode = msg['mode'];\n",
       "};\n",
       "\n",
       "mpl.figure.prototype.handle_history_buttons = function (fig, msg) {\n",
       "    for (var key in msg) {\n",
       "        if (!(key in fig.buttons)) {\n",
       "            continue;\n",
       "        }\n",
       "        fig.buttons[key].disabled = !msg[key];\n",
       "        fig.buttons[key].setAttribute('aria-disabled', !msg[key]);\n",
       "    }\n",
       "};\n",
       "\n",
       "mpl.figure.prototype.handle_navigate_mode = function (fig, msg) {\n",
       "    if (msg['mode'] === 'PAN') {\n",
       "        fig.buttons['Pan'].classList.add('active');\n",
       "        fig.buttons['Zoom'].classList.remove('active');\n",
       "    } else if (msg['mode'] === 'ZOOM') {\n",
       "        fig.buttons['Pan'].classList.remove('active');\n",
       "        fig.buttons['Zoom'].classList.add('active');\n",
       "    } else {\n",
       "        fig.buttons['Pan'].classList.remove('active');\n",
       "        fig.buttons['Zoom'].classList.remove('active');\n",
       "    }\n",
       "};\n",
       "\n",
       "mpl.figure.prototype.updated_canvas_event = function () {\n",
       "    // Called whenever the canvas gets updated.\n",
       "    this.send_message('ack', {});\n",
       "};\n",
       "\n",
       "// A function to construct a web socket function for onmessage handling.\n",
       "// Called in the figure constructor.\n",
       "mpl.figure.prototype._make_on_message_function = function (fig) {\n",
       "    return function socket_on_message(evt) {\n",
       "        if (evt.data instanceof Blob) {\n",
       "            var img = evt.data;\n",
       "            if (img.type !== 'image/png') {\n",
       "                /* FIXME: We get \"Resource interpreted as Image but\n",
       "                 * transferred with MIME type text/plain:\" errors on\n",
       "                 * Chrome.  But how to set the MIME type?  It doesn't seem\n",
       "                 * to be part of the websocket stream */\n",
       "                img.type = 'image/png';\n",
       "            }\n",
       "\n",
       "            /* Free the memory for the previous frames */\n",
       "            if (fig.imageObj.src) {\n",
       "                (window.URL || window.webkitURL).revokeObjectURL(\n",
       "                    fig.imageObj.src\n",
       "                );\n",
       "            }\n",
       "\n",
       "            fig.imageObj.src = (window.URL || window.webkitURL).createObjectURL(\n",
       "                img\n",
       "            );\n",
       "            fig.updated_canvas_event();\n",
       "            fig.waiting = false;\n",
       "            return;\n",
       "        } else if (\n",
       "            typeof evt.data === 'string' &&\n",
       "            evt.data.slice(0, 21) === 'data:image/png;base64'\n",
       "        ) {\n",
       "            fig.imageObj.src = evt.data;\n",
       "            fig.updated_canvas_event();\n",
       "            fig.waiting = false;\n",
       "            return;\n",
       "        }\n",
       "\n",
       "        var msg = JSON.parse(evt.data);\n",
       "        var msg_type = msg['type'];\n",
       "\n",
       "        // Call the  \"handle_{type}\" callback, which takes\n",
       "        // the figure and JSON message as its only arguments.\n",
       "        try {\n",
       "            var callback = fig['handle_' + msg_type];\n",
       "        } catch (e) {\n",
       "            console.log(\n",
       "                \"No handler for the '\" + msg_type + \"' message type: \",\n",
       "                msg\n",
       "            );\n",
       "            return;\n",
       "        }\n",
       "\n",
       "        if (callback) {\n",
       "            try {\n",
       "                // console.log(\"Handling '\" + msg_type + \"' message: \", msg);\n",
       "                callback(fig, msg);\n",
       "            } catch (e) {\n",
       "                console.log(\n",
       "                    \"Exception inside the 'handler_\" + msg_type + \"' callback:\",\n",
       "                    e,\n",
       "                    e.stack,\n",
       "                    msg\n",
       "                );\n",
       "            }\n",
       "        }\n",
       "    };\n",
       "};\n",
       "\n",
       "// from https://stackoverflow.com/questions/1114465/getting-mouse-location-in-canvas\n",
       "mpl.findpos = function (e) {\n",
       "    //this section is from http://www.quirksmode.org/js/events_properties.html\n",
       "    var targ;\n",
       "    if (!e) {\n",
       "        e = window.event;\n",
       "    }\n",
       "    if (e.target) {\n",
       "        targ = e.target;\n",
       "    } else if (e.srcElement) {\n",
       "        targ = e.srcElement;\n",
       "    }\n",
       "    if (targ.nodeType === 3) {\n",
       "        // defeat Safari bug\n",
       "        targ = targ.parentNode;\n",
       "    }\n",
       "\n",
       "    // pageX,Y are the mouse positions relative to the document\n",
       "    var boundingRect = targ.getBoundingClientRect();\n",
       "    var x = e.pageX - (boundingRect.left + document.body.scrollLeft);\n",
       "    var y = e.pageY - (boundingRect.top + document.body.scrollTop);\n",
       "\n",
       "    return { x: x, y: y };\n",
       "};\n",
       "\n",
       "/*\n",
       " * return a copy of an object with only non-object keys\n",
       " * we need this to avoid circular references\n",
       " * https://stackoverflow.com/a/24161582/3208463\n",
       " */\n",
       "function simpleKeys(original) {\n",
       "    return Object.keys(original).reduce(function (obj, key) {\n",
       "        if (typeof original[key] !== 'object') {\n",
       "            obj[key] = original[key];\n",
       "        }\n",
       "        return obj;\n",
       "    }, {});\n",
       "}\n",
       "\n",
       "mpl.figure.prototype.mouse_event = function (event, name) {\n",
       "    var canvas_pos = mpl.findpos(event);\n",
       "\n",
       "    if (name === 'button_press') {\n",
       "        this.canvas.focus();\n",
       "        this.canvas_div.focus();\n",
       "    }\n",
       "\n",
       "    var x = canvas_pos.x * this.ratio;\n",
       "    var y = canvas_pos.y * this.ratio;\n",
       "\n",
       "    this.send_message(name, {\n",
       "        x: x,\n",
       "        y: y,\n",
       "        button: event.button,\n",
       "        step: event.step,\n",
       "        guiEvent: simpleKeys(event),\n",
       "    });\n",
       "\n",
       "    /* This prevents the web browser from automatically changing to\n",
       "     * the text insertion cursor when the button is pressed.  We want\n",
       "     * to control all of the cursor setting manually through the\n",
       "     * 'cursor' event from matplotlib */\n",
       "    event.preventDefault();\n",
       "    return false;\n",
       "};\n",
       "\n",
       "mpl.figure.prototype._key_event_extra = function (_event, _name) {\n",
       "    // Handle any extra behaviour associated with a key event\n",
       "};\n",
       "\n",
       "mpl.figure.prototype.key_event = function (event, name) {\n",
       "    // Prevent repeat events\n",
       "    if (name === 'key_press') {\n",
       "        if (event.key === this._key) {\n",
       "            return;\n",
       "        } else {\n",
       "            this._key = event.key;\n",
       "        }\n",
       "    }\n",
       "    if (name === 'key_release') {\n",
       "        this._key = null;\n",
       "    }\n",
       "\n",
       "    var value = '';\n",
       "    if (event.ctrlKey && event.key !== 'Control') {\n",
       "        value += 'ctrl+';\n",
       "    }\n",
       "    else if (event.altKey && event.key !== 'Alt') {\n",
       "        value += 'alt+';\n",
       "    }\n",
       "    else if (event.shiftKey && event.key !== 'Shift') {\n",
       "        value += 'shift+';\n",
       "    }\n",
       "\n",
       "    value += 'k' + event.key;\n",
       "\n",
       "    this._key_event_extra(event, name);\n",
       "\n",
       "    this.send_message(name, { key: value, guiEvent: simpleKeys(event) });\n",
       "    return false;\n",
       "};\n",
       "\n",
       "mpl.figure.prototype.toolbar_button_onclick = function (name) {\n",
       "    if (name === 'download') {\n",
       "        this.handle_save(this, null);\n",
       "    } else {\n",
       "        this.send_message('toolbar_button', { name: name });\n",
       "    }\n",
       "};\n",
       "\n",
       "mpl.figure.prototype.toolbar_button_onmouseover = function (tooltip) {\n",
       "    this.message.textContent = tooltip;\n",
       "};\n",
       "\n",
       "///////////////// REMAINING CONTENT GENERATED BY embed_js.py /////////////////\n",
       "// prettier-ignore\n",
       "var _JSXTOOLS_RESIZE_OBSERVER=function(A){var t,i=new WeakMap,n=new WeakMap,a=new WeakMap,r=new WeakMap,o=new Set;function s(e){if(!(this instanceof s))throw new TypeError(\"Constructor requires 'new' operator\");i.set(this,e)}function h(){throw new TypeError(\"Function is not a constructor\")}function c(e,t,i,n){e=0 in arguments?Number(arguments[0]):0,t=1 in arguments?Number(arguments[1]):0,i=2 in arguments?Number(arguments[2]):0,n=3 in arguments?Number(arguments[3]):0,this.right=(this.x=this.left=e)+(this.width=i),this.bottom=(this.y=this.top=t)+(this.height=n),Object.freeze(this)}function d(){t=requestAnimationFrame(d);var s=new WeakMap,p=new Set;o.forEach((function(t){r.get(t).forEach((function(i){var r=t instanceof window.SVGElement,o=a.get(t),d=r?0:parseFloat(o.paddingTop),f=r?0:parseFloat(o.paddingRight),l=r?0:parseFloat(o.paddingBottom),u=r?0:parseFloat(o.paddingLeft),g=r?0:parseFloat(o.borderTopWidth),m=r?0:parseFloat(o.borderRightWidth),w=r?0:parseFloat(o.borderBottomWidth),b=u+f,F=d+l,v=(r?0:parseFloat(o.borderLeftWidth))+m,W=g+w,y=r?0:t.offsetHeight-W-t.clientHeight,E=r?0:t.offsetWidth-v-t.clientWidth,R=b+v,z=F+W,M=r?t.width:parseFloat(o.width)-R-E,O=r?t.height:parseFloat(o.height)-z-y;if(n.has(t)){var k=n.get(t);if(k[0]===M&&k[1]===O)return}n.set(t,[M,O]);var S=Object.create(h.prototype);S.target=t,S.contentRect=new c(u,d,M,O),s.has(i)||(s.set(i,[]),p.add(i)),s.get(i).push(S)}))})),p.forEach((function(e){i.get(e).call(e,s.get(e),e)}))}return s.prototype.observe=function(i){if(i instanceof window.Element){r.has(i)||(r.set(i,new Set),o.add(i),a.set(i,window.getComputedStyle(i)));var n=r.get(i);n.has(this)||n.add(this),cancelAnimationFrame(t),t=requestAnimationFrame(d)}},s.prototype.unobserve=function(i){if(i instanceof window.Element&&r.has(i)){var n=r.get(i);n.has(this)&&(n.delete(this),n.size||(r.delete(i),o.delete(i))),n.size||r.delete(i),o.size||cancelAnimationFrame(t)}},A.DOMRectReadOnly=c,A.ResizeObserver=s,A.ResizeObserverEntry=h,A}; // eslint-disable-line\n",
       "mpl.toolbar_items = [[\"Home\", \"Reset original view\", \"fa fa-home icon-home\", \"home\"], [\"Back\", \"Back to previous view\", \"fa fa-arrow-left icon-arrow-left\", \"back\"], [\"Forward\", \"Forward to next view\", \"fa fa-arrow-right icon-arrow-right\", \"forward\"], [\"\", \"\", \"\", \"\"], [\"Pan\", \"Left button pans, Right button zooms\\nx/y fixes axis, CTRL fixes aspect\", \"fa fa-arrows icon-move\", \"pan\"], [\"Zoom\", \"Zoom to rectangle\\nx/y fixes axis\", \"fa fa-square-o icon-check-empty\", \"zoom\"], [\"\", \"\", \"\", \"\"], [\"Download\", \"Download plot\", \"fa fa-floppy-o icon-save\", \"download\"]];\n",
       "\n",
       "mpl.extensions = [\"eps\", \"jpeg\", \"pgf\", \"pdf\", \"png\", \"ps\", \"raw\", \"svg\", \"tif\"];\n",
       "\n",
       "mpl.default_extension = \"png\";/* global mpl */\n",
       "\n",
       "var comm_websocket_adapter = function (comm) {\n",
       "    // Create a \"websocket\"-like object which calls the given IPython comm\n",
       "    // object with the appropriate methods. Currently this is a non binary\n",
       "    // socket, so there is still some room for performance tuning.\n",
       "    var ws = {};\n",
       "\n",
       "    ws.binaryType = comm.kernel.ws.binaryType;\n",
       "    ws.readyState = comm.kernel.ws.readyState;\n",
       "    function updateReadyState(_event) {\n",
       "        if (comm.kernel.ws) {\n",
       "            ws.readyState = comm.kernel.ws.readyState;\n",
       "        } else {\n",
       "            ws.readyState = 3; // Closed state.\n",
       "        }\n",
       "    }\n",
       "    comm.kernel.ws.addEventListener('open', updateReadyState);\n",
       "    comm.kernel.ws.addEventListener('close', updateReadyState);\n",
       "    comm.kernel.ws.addEventListener('error', updateReadyState);\n",
       "\n",
       "    ws.close = function () {\n",
       "        comm.close();\n",
       "    };\n",
       "    ws.send = function (m) {\n",
       "        //console.log('sending', m);\n",
       "        comm.send(m);\n",
       "    };\n",
       "    // Register the callback with on_msg.\n",
       "    comm.on_msg(function (msg) {\n",
       "        //console.log('receiving', msg['content']['data'], msg);\n",
       "        var data = msg['content']['data'];\n",
       "        if (data['blob'] !== undefined) {\n",
       "            data = {\n",
       "                data: new Blob(msg['buffers'], { type: data['blob'] }),\n",
       "            };\n",
       "        }\n",
       "        // Pass the mpl event to the overridden (by mpl) onmessage function.\n",
       "        ws.onmessage(data);\n",
       "    });\n",
       "    return ws;\n",
       "};\n",
       "\n",
       "mpl.mpl_figure_comm = function (comm, msg) {\n",
       "    // This is the function which gets called when the mpl process\n",
       "    // starts-up an IPython Comm through the \"matplotlib\" channel.\n",
       "\n",
       "    var id = msg.content.data.id;\n",
       "    // Get hold of the div created by the display call when the Comm\n",
       "    // socket was opened in Python.\n",
       "    var element = document.getElementById(id);\n",
       "    var ws_proxy = comm_websocket_adapter(comm);\n",
       "\n",
       "    function ondownload(figure, _format) {\n",
       "        window.open(figure.canvas.toDataURL());\n",
       "    }\n",
       "\n",
       "    var fig = new mpl.figure(id, ws_proxy, ondownload, element);\n",
       "\n",
       "    // Call onopen now - mpl needs it, as it is assuming we've passed it a real\n",
       "    // web socket which is closed, not our websocket->open comm proxy.\n",
       "    ws_proxy.onopen();\n",
       "\n",
       "    fig.parent_element = element;\n",
       "    fig.cell_info = mpl.find_output_cell(\"<div id='\" + id + \"'></div>\");\n",
       "    if (!fig.cell_info) {\n",
       "        console.error('Failed to find cell for figure', id, fig);\n",
       "        return;\n",
       "    }\n",
       "    fig.cell_info[0].output_area.element.on(\n",
       "        'cleared',\n",
       "        { fig: fig },\n",
       "        fig._remove_fig_handler\n",
       "    );\n",
       "};\n",
       "\n",
       "mpl.figure.prototype.handle_close = function (fig, msg) {\n",
       "    var width = fig.canvas.width / fig.ratio;\n",
       "    fig.cell_info[0].output_area.element.off(\n",
       "        'cleared',\n",
       "        fig._remove_fig_handler\n",
       "    );\n",
       "    fig.resizeObserverInstance.unobserve(fig.canvas_div);\n",
       "\n",
       "    // Update the output cell to use the data from the current canvas.\n",
       "    fig.push_to_output();\n",
       "    var dataURL = fig.canvas.toDataURL();\n",
       "    // Re-enable the keyboard manager in IPython - without this line, in FF,\n",
       "    // the notebook keyboard shortcuts fail.\n",
       "    IPython.keyboard_manager.enable();\n",
       "    fig.parent_element.innerHTML =\n",
       "        '<img src=\"' + dataURL + '\" width=\"' + width + '\">';\n",
       "    fig.close_ws(fig, msg);\n",
       "};\n",
       "\n",
       "mpl.figure.prototype.close_ws = function (fig, msg) {\n",
       "    fig.send_message('closing', msg);\n",
       "    // fig.ws.close()\n",
       "};\n",
       "\n",
       "mpl.figure.prototype.push_to_output = function (_remove_interactive) {\n",
       "    // Turn the data on the canvas into data in the output cell.\n",
       "    var width = this.canvas.width / this.ratio;\n",
       "    var dataURL = this.canvas.toDataURL();\n",
       "    this.cell_info[1]['text/html'] =\n",
       "        '<img src=\"' + dataURL + '\" width=\"' + width + '\">';\n",
       "};\n",
       "\n",
       "mpl.figure.prototype.updated_canvas_event = function () {\n",
       "    // Tell IPython that the notebook contents must change.\n",
       "    IPython.notebook.set_dirty(true);\n",
       "    this.send_message('ack', {});\n",
       "    var fig = this;\n",
       "    // Wait a second, then push the new image to the DOM so\n",
       "    // that it is saved nicely (might be nice to debounce this).\n",
       "    setTimeout(function () {\n",
       "        fig.push_to_output();\n",
       "    }, 1000);\n",
       "};\n",
       "\n",
       "mpl.figure.prototype._init_toolbar = function () {\n",
       "    var fig = this;\n",
       "\n",
       "    var toolbar = document.createElement('div');\n",
       "    toolbar.classList = 'btn-toolbar';\n",
       "    this.root.appendChild(toolbar);\n",
       "\n",
       "    function on_click_closure(name) {\n",
       "        return function (_event) {\n",
       "            return fig.toolbar_button_onclick(name);\n",
       "        };\n",
       "    }\n",
       "\n",
       "    function on_mouseover_closure(tooltip) {\n",
       "        return function (event) {\n",
       "            if (!event.currentTarget.disabled) {\n",
       "                return fig.toolbar_button_onmouseover(tooltip);\n",
       "            }\n",
       "        };\n",
       "    }\n",
       "\n",
       "    fig.buttons = {};\n",
       "    var buttonGroup = document.createElement('div');\n",
       "    buttonGroup.classList = 'btn-group';\n",
       "    var button;\n",
       "    for (var toolbar_ind in mpl.toolbar_items) {\n",
       "        var name = mpl.toolbar_items[toolbar_ind][0];\n",
       "        var tooltip = mpl.toolbar_items[toolbar_ind][1];\n",
       "        var image = mpl.toolbar_items[toolbar_ind][2];\n",
       "        var method_name = mpl.toolbar_items[toolbar_ind][3];\n",
       "\n",
       "        if (!name) {\n",
       "            /* Instead of a spacer, we start a new button group. */\n",
       "            if (buttonGroup.hasChildNodes()) {\n",
       "                toolbar.appendChild(buttonGroup);\n",
       "            }\n",
       "            buttonGroup = document.createElement('div');\n",
       "            buttonGroup.classList = 'btn-group';\n",
       "            continue;\n",
       "        }\n",
       "\n",
       "        button = fig.buttons[name] = document.createElement('button');\n",
       "        button.classList = 'btn btn-default';\n",
       "        button.href = '#';\n",
       "        button.title = name;\n",
       "        button.innerHTML = '<i class=\"fa ' + image + ' fa-lg\"></i>';\n",
       "        button.addEventListener('click', on_click_closure(method_name));\n",
       "        button.addEventListener('mouseover', on_mouseover_closure(tooltip));\n",
       "        buttonGroup.appendChild(button);\n",
       "    }\n",
       "\n",
       "    if (buttonGroup.hasChildNodes()) {\n",
       "        toolbar.appendChild(buttonGroup);\n",
       "    }\n",
       "\n",
       "    // Add the status bar.\n",
       "    var status_bar = document.createElement('span');\n",
       "    status_bar.classList = 'mpl-message pull-right';\n",
       "    toolbar.appendChild(status_bar);\n",
       "    this.message = status_bar;\n",
       "\n",
       "    // Add the close button to the window.\n",
       "    var buttongrp = document.createElement('div');\n",
       "    buttongrp.classList = 'btn-group inline pull-right';\n",
       "    button = document.createElement('button');\n",
       "    button.classList = 'btn btn-mini btn-primary';\n",
       "    button.href = '#';\n",
       "    button.title = 'Stop Interaction';\n",
       "    button.innerHTML = '<i class=\"fa fa-power-off icon-remove icon-large\"></i>';\n",
       "    button.addEventListener('click', function (_evt) {\n",
       "        fig.handle_close(fig, {});\n",
       "    });\n",
       "    button.addEventListener(\n",
       "        'mouseover',\n",
       "        on_mouseover_closure('Stop Interaction')\n",
       "    );\n",
       "    buttongrp.appendChild(button);\n",
       "    var titlebar = this.root.querySelector('.ui-dialog-titlebar');\n",
       "    titlebar.insertBefore(buttongrp, titlebar.firstChild);\n",
       "};\n",
       "\n",
       "mpl.figure.prototype._remove_fig_handler = function (event) {\n",
       "    var fig = event.data.fig;\n",
       "    if (event.target !== this) {\n",
       "        // Ignore bubbled events from children.\n",
       "        return;\n",
       "    }\n",
       "    fig.close_ws(fig, {});\n",
       "};\n",
       "\n",
       "mpl.figure.prototype._root_extra_style = function (el) {\n",
       "    el.style.boxSizing = 'content-box'; // override notebook setting of border-box.\n",
       "};\n",
       "\n",
       "mpl.figure.prototype._canvas_extra_style = function (el) {\n",
       "    // this is important to make the div 'focusable\n",
       "    el.setAttribute('tabindex', 0);\n",
       "    // reach out to IPython and tell the keyboard manager to turn it's self\n",
       "    // off when our div gets focus\n",
       "\n",
       "    // location in version 3\n",
       "    if (IPython.notebook.keyboard_manager) {\n",
       "        IPython.notebook.keyboard_manager.register_events(el);\n",
       "    } else {\n",
       "        // location in version 2\n",
       "        IPython.keyboard_manager.register_events(el);\n",
       "    }\n",
       "};\n",
       "\n",
       "mpl.figure.prototype._key_event_extra = function (event, _name) {\n",
       "    // Check for shift+enter\n",
       "    if (event.shiftKey && event.which === 13) {\n",
       "        this.canvas_div.blur();\n",
       "        // select the cell after this one\n",
       "        var index = IPython.notebook.find_cell_index(this.cell_info[0]);\n",
       "        IPython.notebook.select(index + 1);\n",
       "    }\n",
       "};\n",
       "\n",
       "mpl.figure.prototype.handle_save = function (fig, _msg) {\n",
       "    fig.ondownload(fig, null);\n",
       "};\n",
       "\n",
       "mpl.find_output_cell = function (html_output) {\n",
       "    // Return the cell and output element which can be found *uniquely* in the notebook.\n",
       "    // Note - this is a bit hacky, but it is done because the \"notebook_saving.Notebook\"\n",
       "    // IPython event is triggered only after the cells have been serialised, which for\n",
       "    // our purposes (turning an active figure into a static one), is too late.\n",
       "    var cells = IPython.notebook.get_cells();\n",
       "    var ncells = cells.length;\n",
       "    for (var i = 0; i < ncells; i++) {\n",
       "        var cell = cells[i];\n",
       "        if (cell.cell_type === 'code') {\n",
       "            for (var j = 0; j < cell.output_area.outputs.length; j++) {\n",
       "                var data = cell.output_area.outputs[j];\n",
       "                if (data.data) {\n",
       "                    // IPython >= 3 moved mimebundle to data attribute of output\n",
       "                    data = data.data;\n",
       "                }\n",
       "                if (data['text/html'] === html_output) {\n",
       "                    return [cell, data, j];\n",
       "                }\n",
       "            }\n",
       "        }\n",
       "    }\n",
       "};\n",
       "\n",
       "// Register the function which deals with the matplotlib target/channel.\n",
       "// The kernel may be null if the page has been refreshed.\n",
       "if (IPython.notebook.kernel !== null) {\n",
       "    IPython.notebook.kernel.comm_manager.register_target(\n",
       "        'matplotlib',\n",
       "        mpl.mpl_figure_comm\n",
       "    );\n",
       "}\n"
      ],
      "text/plain": [
       "<IPython.core.display.Javascript object>"
      ]
     },
     "metadata": {},
     "output_type": "display_data"
    },
    {
     "data": {
      "text/html": [
       "<img src=\"data:image/png;base64,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\" width=\"800\">"
      ],
      "text/plain": [
       "<IPython.core.display.HTML object>"
      ]
     },
     "metadata": {},
     "output_type": "display_data"
    }
   ],
   "source": [
    "plt.ion()\n",
    "fig = plt.figure(figsize = (8, 4))\n",
    "\n",
    "ax = fig.add_subplot(111)\n",
    "actual_line = ax.scatter(X, y, s = 10, label = 'actual')\n",
    "prediction_line = ax.scatter(X, np.zeros(1000), s = 10, label = 'prediction')\n",
    "epoch_num_line = ax.text(-10, 0.85, 'Epoch: ' + str(0))\n",
    "\n",
    "plt.title('Prediction changes during epochs')\n",
    "\n",
    "for epoch_num, i in enumerate(pred_at_each_epoch):\n",
    "    prediction_line.set_offsets(np.c_[X, i])\n",
    "    epoch_num_line.set_text('Epoch: ' + str(epoch_num+1))\n",
    "    fig.canvas.draw()\n",
    "    fig.canvas.flush_events()\n",
    "    time.sleep(0.01)"
   ]
  },
  {
   "cell_type": "code",
   "execution_count": null,
   "id": "44267b7c",
   "metadata": {},
   "outputs": [],
   "source": []
  }
 ],
 "metadata": {
  "kernelspec": {
   "display_name": "Python 3 (ipykernel)",
   "language": "python",
   "name": "python3"
  },
  "language_info": {
   "codemirror_mode": {
    "name": "ipython",
    "version": 3
   },
   "file_extension": ".py",
   "mimetype": "text/x-python",
   "name": "python",
   "nbconvert_exporter": "python",
   "pygments_lexer": "ipython3",
   "version": "3.9.7"
  }
 },
 "nbformat": 4,
 "nbformat_minor": 5
}
