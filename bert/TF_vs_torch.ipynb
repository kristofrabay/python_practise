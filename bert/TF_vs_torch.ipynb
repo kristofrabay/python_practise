{
 "cells": [
  {
   "cell_type": "markdown",
   "id": "19556f13",
   "metadata": {},
   "source": [
    "### TensorFlow & PyTorch comparison\n",
    "Storing and handling data, creating datasets\n",
    "\n",
    "<img src='https://cdn.activestate.com/wp-content/uploads/2019/10/neural-network-showndown-tensorflow-vs-pytorch.png' width = 650>"
   ]
  },
  {
   "cell_type": "code",
   "execution_count": 1,
   "id": "4f4dbfc4",
   "metadata": {},
   "outputs": [
    {
     "name": "stdout",
     "output_type": "stream",
     "text": [
      "TensorFlow version: 2.8.0\n",
      "PyTorch version: 1.10.2\n"
     ]
    }
   ],
   "source": [
    "import tensorflow as tf\n",
    "import torch\n",
    "torch.manual_seed(91) # for reproducibility\n",
    "\n",
    "print('TensorFlow version:', tf.__version__)\n",
    "print('PyTorch version:', torch.__version__)\n",
    "\n",
    "import numpy as np\n",
    "import warnings\n",
    "warnings.filterwarnings('ignore')\n",
    "\n",
    "import matplotlib.pyplot as plt"
   ]
  },
  {
   "cell_type": "markdown",
   "id": "5200625a",
   "metadata": {},
   "source": [
    "### Scalars"
   ]
  },
  {
   "cell_type": "code",
   "execution_count": 2,
   "id": "896eff69",
   "metadata": {},
   "outputs": [
    {
     "name": "stdout",
     "output_type": "stream",
     "text": [
      "4 \n",
      "\n",
      "tf.Tensor(4, shape=(), dtype=int32) \n",
      "\n",
      "tensor(4) \n",
      "\n",
      "tf.Tensor(4, shape=(), dtype=int32) \n",
      "\n",
      "tensor(4, dtype=torch.int32) \n",
      "\n"
     ]
    }
   ],
   "source": [
    "a = 4\n",
    "\n",
    "a_np = np.array(a) \n",
    "a_tf = tf.constant(a)\n",
    "a_torch = torch.tensor(a)\n",
    "\n",
    "print(a_np, '\\n')\n",
    "print(a_tf, '\\n')\n",
    "print(a_torch, '\\n')\n",
    "\n",
    "# converting from numpy\n",
    "\n",
    "tf_from_numpy = tf.convert_to_tensor(a_np)\n",
    "torch_from_numpy = torch.from_numpy(a_np)\n",
    "\n",
    "print(tf_from_numpy, '\\n')\n",
    "print(torch_from_numpy, '\\n')"
   ]
  },
  {
   "cell_type": "code",
   "execution_count": 3,
   "id": "14b00f6f",
   "metadata": {},
   "outputs": [
    {
     "name": "stdout",
     "output_type": "stream",
     "text": [
      "()\n",
      "<dtype: 'int32'>\n",
      "4\n"
     ]
    }
   ],
   "source": [
    "print(a_tf.shape)\n",
    "print(a_tf.dtype)\n",
    "print(a_tf.numpy())"
   ]
  },
  {
   "cell_type": "code",
   "execution_count": 4,
   "id": "ce133255",
   "metadata": {},
   "outputs": [
    {
     "name": "stdout",
     "output_type": "stream",
     "text": [
      "torch.Size([])\n",
      "torch.int64\n",
      "4\n"
     ]
    }
   ],
   "source": [
    "print(a_torch.shape)\n",
    "print(a_torch.dtype)\n",
    "print(a_torch.numpy())"
   ]
  },
  {
   "cell_type": "code",
   "execution_count": 5,
   "id": "b8e4a215",
   "metadata": {},
   "outputs": [
    {
     "name": "stdout",
     "output_type": "stream",
     "text": [
      "torch.Size([])\n",
      "torch.int32\n",
      "4\n"
     ]
    }
   ],
   "source": [
    "print(torch_from_numpy.shape)\n",
    "print(torch_from_numpy.dtype)\n",
    "print(torch_from_numpy.numpy())"
   ]
  },
  {
   "cell_type": "code",
   "execution_count": null,
   "id": "b0e0cb4d",
   "metadata": {},
   "outputs": [],
   "source": []
  },
  {
   "cell_type": "markdown",
   "id": "add97f5a",
   "metadata": {},
   "source": [
    "### Tensors"
   ]
  },
  {
   "cell_type": "code",
   "execution_count": 6,
   "id": "d832d462",
   "metadata": {},
   "outputs": [
    {
     "name": "stdout",
     "output_type": "stream",
     "text": [
      "[[1 1 3]\n",
      " [1 0 2]] \n",
      "\n",
      "tf.Tensor(\n",
      "[[1 1 3]\n",
      " [1 0 2]], shape=(2, 3), dtype=int32) \n",
      "\n",
      "tensor([[1, 1, 3],\n",
      "        [1, 0, 2]]) \n",
      "\n",
      "tf.Tensor(\n",
      "[[1 1 3]\n",
      " [1 0 2]], shape=(2, 3), dtype=int32) \n",
      "\n",
      "tensor([[1, 1, 3],\n",
      "        [1, 0, 2]], dtype=torch.int32) \n",
      "\n"
     ]
    }
   ],
   "source": [
    "m = [[1, 1, 3], [1, 0, 2]]\n",
    "\n",
    "m_np = np.array(m) \n",
    "m_tf = tf.constant(m)\n",
    "m_torch = torch.tensor(m)\n",
    "\n",
    "print(m_np, '\\n')\n",
    "print(m_tf, '\\n')\n",
    "print(m_torch, '\\n')\n",
    "\n",
    "# converting from numpy\n",
    "\n",
    "tf_from_numpy = tf.convert_to_tensor(m_np)\n",
    "torch_from_numpy = torch.from_numpy(m_np)\n",
    "\n",
    "print(tf_from_numpy, '\\n')\n",
    "print(torch_from_numpy, '\\n')"
   ]
  },
  {
   "cell_type": "code",
   "execution_count": 7,
   "id": "35559365",
   "metadata": {},
   "outputs": [
    {
     "name": "stdout",
     "output_type": "stream",
     "text": [
      "(2, 3)\n",
      "<dtype: 'int32'>\n"
     ]
    }
   ],
   "source": [
    "print(m_tf.shape)\n",
    "print(m_tf.dtype)"
   ]
  },
  {
   "cell_type": "code",
   "execution_count": 8,
   "id": "7da3b555",
   "metadata": {},
   "outputs": [
    {
     "name": "stdout",
     "output_type": "stream",
     "text": [
      "torch.Size([2, 3])\n",
      "torch.int64\n"
     ]
    }
   ],
   "source": [
    "print(m_torch.shape)\n",
    "print(m_torch.dtype)"
   ]
  },
  {
   "cell_type": "code",
   "execution_count": 9,
   "id": "cf47fab0",
   "metadata": {},
   "outputs": [
    {
     "name": "stdout",
     "output_type": "stream",
     "text": [
      "torch.Size([2, 3])\n",
      "torch.int32\n"
     ]
    }
   ],
   "source": [
    "print(torch_from_numpy.shape)\n",
    "print(torch_from_numpy.dtype)"
   ]
  },
  {
   "cell_type": "code",
   "execution_count": null,
   "id": "6d60c0f2",
   "metadata": {},
   "outputs": [],
   "source": []
  },
  {
   "cell_type": "markdown",
   "id": "2fe9e002",
   "metadata": {},
   "source": [
    "### Multiplication, matrix multiplication"
   ]
  },
  {
   "cell_type": "code",
   "execution_count": 10,
   "id": "1f076219",
   "metadata": {},
   "outputs": [
    {
     "data": {
      "text/plain": [
       "array([[1, 1, 9],\n",
       "       [1, 0, 4]])"
      ]
     },
     "execution_count": 10,
     "metadata": {},
     "output_type": "execute_result"
    }
   ],
   "source": [
    "np.multiply(m_np, m_np)"
   ]
  },
  {
   "cell_type": "code",
   "execution_count": 11,
   "id": "752fed57",
   "metadata": {},
   "outputs": [
    {
     "data": {
      "text/plain": [
       "<tf.Tensor: shape=(2, 3), dtype=int32, numpy=\n",
       "array([[1, 1, 9],\n",
       "       [1, 0, 4]])>"
      ]
     },
     "execution_count": 11,
     "metadata": {},
     "output_type": "execute_result"
    }
   ],
   "source": [
    "tf.multiply(m_tf, m_tf)"
   ]
  },
  {
   "cell_type": "code",
   "execution_count": 12,
   "id": "7e42e66d",
   "metadata": {},
   "outputs": [
    {
     "data": {
      "text/plain": [
       "tensor([[1, 1, 9],\n",
       "        [1, 0, 4]])"
      ]
     },
     "execution_count": 12,
     "metadata": {},
     "output_type": "execute_result"
    }
   ],
   "source": [
    "torch.multiply(m_torch, m_torch)"
   ]
  },
  {
   "cell_type": "code",
   "execution_count": null,
   "id": "87c41f90",
   "metadata": {},
   "outputs": [],
   "source": []
  },
  {
   "cell_type": "code",
   "execution_count": 13,
   "id": "72786a83",
   "metadata": {},
   "outputs": [
    {
     "data": {
      "text/plain": [
       "array([[11,  7],\n",
       "       [ 7,  5]])"
      ]
     },
     "execution_count": 13,
     "metadata": {},
     "output_type": "execute_result"
    }
   ],
   "source": [
    "np.matmul(m_np, m_np.transpose())"
   ]
  },
  {
   "cell_type": "code",
   "execution_count": 14,
   "id": "31f3acd6",
   "metadata": {},
   "outputs": [
    {
     "data": {
      "text/plain": [
       "<tf.Tensor: shape=(2, 2), dtype=int32, numpy=\n",
       "array([[11,  7],\n",
       "       [ 7,  5]])>"
      ]
     },
     "execution_count": 14,
     "metadata": {},
     "output_type": "execute_result"
    }
   ],
   "source": [
    "tf.matmul(m_tf, tf.transpose(m_tf))"
   ]
  },
  {
   "cell_type": "code",
   "execution_count": 15,
   "id": "9f6ac12b",
   "metadata": {},
   "outputs": [
    {
     "data": {
      "text/plain": [
       "tensor([[11,  7],\n",
       "        [ 7,  5]])"
      ]
     },
     "execution_count": 15,
     "metadata": {},
     "output_type": "execute_result"
    }
   ],
   "source": [
    "torch.matmul(m_torch, m_torch.T)"
   ]
  },
  {
   "cell_type": "code",
   "execution_count": 16,
   "id": "e1ed8840",
   "metadata": {},
   "outputs": [
    {
     "data": {
      "text/plain": [
       "tensor([[11,  7],\n",
       "        [ 7,  5]])"
      ]
     },
     "execution_count": 16,
     "metadata": {},
     "output_type": "execute_result"
    }
   ],
   "source": [
    "# all are equivalent to:\n",
    "m_torch @ m_torch.T"
   ]
  },
  {
   "cell_type": "code",
   "execution_count": null,
   "id": "9af5a60b",
   "metadata": {},
   "outputs": [],
   "source": []
  },
  {
   "cell_type": "markdown",
   "id": "81aa5d88",
   "metadata": {},
   "source": [
    "### PyTorch device\n",
    "\n",
    "PyTorch can directly access GPU too, so (after some config) it's your choice where you want to process the data"
   ]
  },
  {
   "cell_type": "code",
   "execution_count": 17,
   "id": "7b47949f",
   "metadata": {},
   "outputs": [
    {
     "data": {
      "text/plain": [
       "device(type='cpu')"
      ]
     },
     "execution_count": 17,
     "metadata": {},
     "output_type": "execute_result"
    }
   ],
   "source": [
    "a_torch.device"
   ]
  },
  {
   "cell_type": "code",
   "execution_count": 18,
   "id": "8b51c3e4",
   "metadata": {},
   "outputs": [
    {
     "name": "stdout",
     "output_type": "stream",
     "text": [
      "False\n",
      "Using device: cpu\n"
     ]
    }
   ],
   "source": [
    "print(torch.cuda.is_available())\n",
    "\n",
    "device = torch.device('cuda' if torch.cuda.is_available() else 'cpu')\n",
    "print('Using device:', device)\n",
    "\n",
    "if torch.cuda.is_available():\n",
    "    a_torch = a_torch.to('cuda')"
   ]
  },
  {
   "cell_type": "code",
   "execution_count": null,
   "id": "34d3946e",
   "metadata": {},
   "outputs": [],
   "source": []
  },
  {
   "cell_type": "code",
   "execution_count": null,
   "id": "e736039e",
   "metadata": {},
   "outputs": [],
   "source": []
  },
  {
   "cell_type": "markdown",
   "id": "6b2b94da",
   "metadata": {},
   "source": [
    "### PyTorch autograd\n",
    "\n",
    "Automatically includes gradient in Tensors\n",
    "\n",
    "Turning it off:\n",
    "- for given tensor: `requires_grad=False` \n",
    "- globally: `with torch.nograd():`\n",
    "    \n",
    "\n",
    "\n",
    "<img src='https://camo.githubusercontent.com/fe04780daa63b97b30b69ce1208c40f74b9e33cda32128e6c8a9839587d7a216/68747470733a2f2f63646e2d696d616765732d312e6d656469756d2e636f6d2f6d61782f313630302f312a774531663269374c385152773869755678356d4f70772e706e67' width = 550>"
   ]
  },
  {
   "cell_type": "code",
   "execution_count": 19,
   "id": "35490020",
   "metadata": {},
   "outputs": [],
   "source": [
    "from torchviz import make_dot\n",
    "from IPython.display import Image"
   ]
  },
  {
   "cell_type": "code",
   "execution_count": 20,
   "id": "ad661c98",
   "metadata": {},
   "outputs": [],
   "source": [
    "x = torch.tensor(np.array([1, 2, 3, 4, 5], dtype = 'float'), requires_grad=True)\n",
    "\n",
    "y = x**3 + x*2\n",
    "z = y + 10\n",
    "\n",
    "r = z.sum()"
   ]
  },
  {
   "cell_type": "code",
   "execution_count": 21,
   "id": "653f693a",
   "metadata": {},
   "outputs": [
    {
     "data": {
      "image/png": "[encoded data removed]",
      "text/plain": [
       "<IPython.core.display.Image object>"
      ]
     },
     "execution_count": 21,
     "metadata": {
      "image/png": {
       "height": 450
      }
     },
     "output_type": "execute_result"
    }
   ],
   "source": [
    "path_image = \"torch_viz/attached\"\n",
    "_format = 'png'\n",
    "\n",
    "make_dot(r, show_attrs = True).render(path_image, format = _format)\n",
    "Image(path_image + '.' + _format, height = 450)"
   ]
  },
  {
   "cell_type": "code",
   "execution_count": 22,
   "id": "3b1a9a0f",
   "metadata": {},
   "outputs": [
    {
     "data": {
      "text/plain": [
       "tensor([1., 2., 3., 4., 5.], dtype=torch.float64, requires_grad=True)"
      ]
     },
     "execution_count": 22,
     "metadata": {},
     "output_type": "execute_result"
    }
   ],
   "source": [
    "x"
   ]
  },
  {
   "cell_type": "code",
   "execution_count": 23,
   "id": "4fcce760",
   "metadata": {},
   "outputs": [
    {
     "data": {
      "text/plain": [
       "tensor([  3.,  12.,  33.,  72., 135.], dtype=torch.float64,\n",
       "       grad_fn=<AddBackward0>)"
      ]
     },
     "execution_count": 23,
     "metadata": {},
     "output_type": "execute_result"
    }
   ],
   "source": [
    "y"
   ]
  },
  {
   "cell_type": "code",
   "execution_count": 24,
   "id": "98f57bce",
   "metadata": {},
   "outputs": [
    {
     "data": {
      "text/plain": [
       "tensor([ 13.,  22.,  43.,  82., 145.], dtype=torch.float64,\n",
       "       grad_fn=<AddBackward0>)"
      ]
     },
     "execution_count": 24,
     "metadata": {},
     "output_type": "execute_result"
    }
   ],
   "source": [
    "z"
   ]
  },
  {
   "cell_type": "code",
   "execution_count": 25,
   "id": "23a714fb",
   "metadata": {},
   "outputs": [
    {
     "data": {
      "text/plain": [
       "tensor(305., dtype=torch.float64, grad_fn=<SumBackward0>)"
      ]
     },
     "execution_count": 25,
     "metadata": {},
     "output_type": "execute_result"
    }
   ],
   "source": [
    "r"
   ]
  },
  {
   "cell_type": "code",
   "execution_count": null,
   "id": "01b3e4af",
   "metadata": {},
   "outputs": [],
   "source": []
  },
  {
   "cell_type": "code",
   "execution_count": 26,
   "id": "b3d529ec",
   "metadata": {},
   "outputs": [],
   "source": [
    "x.grad_fn"
   ]
  },
  {
   "cell_type": "code",
   "execution_count": 27,
   "id": "bb504953",
   "metadata": {},
   "outputs": [
    {
     "data": {
      "text/plain": [
       "<AddBackward0 at 0x26814649d00>"
      ]
     },
     "execution_count": 27,
     "metadata": {},
     "output_type": "execute_result"
    }
   ],
   "source": [
    "y.grad_fn"
   ]
  },
  {
   "cell_type": "code",
   "execution_count": 28,
   "id": "ce4655e2",
   "metadata": {},
   "outputs": [
    {
     "data": {
      "text/plain": [
       "<AddBackward0 at 0x26814649d90>"
      ]
     },
     "execution_count": 28,
     "metadata": {},
     "output_type": "execute_result"
    }
   ],
   "source": [
    "z.grad_fn"
   ]
  },
  {
   "cell_type": "code",
   "execution_count": 29,
   "id": "8331c382",
   "metadata": {},
   "outputs": [
    {
     "data": {
      "text/plain": [
       "<SumBackward0 at 0x268146498b0>"
      ]
     },
     "execution_count": 29,
     "metadata": {},
     "output_type": "execute_result"
    }
   ],
   "source": [
    "r.grad_fn"
   ]
  },
  {
   "cell_type": "code",
   "execution_count": null,
   "id": "827977c9",
   "metadata": {},
   "outputs": [],
   "source": []
  },
  {
   "cell_type": "markdown",
   "id": "15757e8e",
   "metadata": {},
   "source": [
    "'r' is the 'output', so we can 'backpropagate' to the very beginning"
   ]
  },
  {
   "cell_type": "code",
   "execution_count": 30,
   "id": "55fbc56f",
   "metadata": {},
   "outputs": [
    {
     "data": {
      "text/plain": [
       "<SumBackward0 at 0x268146498b0>"
      ]
     },
     "execution_count": 30,
     "metadata": {},
     "output_type": "execute_result"
    }
   ],
   "source": [
    "r.grad_fn"
   ]
  },
  {
   "cell_type": "code",
   "execution_count": 31,
   "id": "6de519bf",
   "metadata": {},
   "outputs": [
    {
     "data": {
      "text/plain": [
       "<AddBackward0 at 0x26814649d90>"
      ]
     },
     "execution_count": 31,
     "metadata": {},
     "output_type": "execute_result"
    }
   ],
   "source": [
    "r.grad_fn.next_functions[0][0]"
   ]
  },
  {
   "cell_type": "code",
   "execution_count": 32,
   "id": "3492e6ef",
   "metadata": {},
   "outputs": [
    {
     "data": {
      "text/plain": [
       "<AddBackward0 at 0x26814649d00>"
      ]
     },
     "execution_count": 32,
     "metadata": {},
     "output_type": "execute_result"
    }
   ],
   "source": [
    "r.grad_fn.next_functions[0][0].next_functions[0][0]"
   ]
  },
  {
   "cell_type": "code",
   "execution_count": 33,
   "id": "53598703",
   "metadata": {},
   "outputs": [
    {
     "data": {
      "text/plain": [
       "((<PowBackward0 at 0x268146494f0>, 0), (<MulBackward0 at 0x268146499d0>, 0))"
      ]
     },
     "execution_count": 33,
     "metadata": {},
     "output_type": "execute_result"
    }
   ],
   "source": [
    "r.grad_fn.next_functions[0][0].next_functions[0][0].next_functions"
   ]
  },
  {
   "cell_type": "code",
   "execution_count": 34,
   "id": "37c961d7",
   "metadata": {},
   "outputs": [
    {
     "data": {
      "text/plain": [
       "<AccumulateGrad at 0x268146494c0>"
      ]
     },
     "execution_count": 34,
     "metadata": {},
     "output_type": "execute_result"
    }
   ],
   "source": [
    "r.grad_fn.next_functions[0][0].next_functions[0][0].next_functions[0][0].next_functions[0][0]"
   ]
  },
  {
   "cell_type": "code",
   "execution_count": 35,
   "id": "47ed0d0d",
   "metadata": {},
   "outputs": [
    {
     "data": {
      "text/plain": [
       "()"
      ]
     },
     "execution_count": 35,
     "metadata": {},
     "output_type": "execute_result"
    }
   ],
   "source": [
    "r.grad_fn.next_functions[0][0].next_functions[0][0].next_functions[0][0].next_functions[0][0].next_functions"
   ]
  },
  {
   "cell_type": "code",
   "execution_count": null,
   "id": "01474624",
   "metadata": {},
   "outputs": [],
   "source": []
  },
  {
   "cell_type": "code",
   "execution_count": null,
   "id": "f0ca501a",
   "metadata": {},
   "outputs": [],
   "source": []
  },
  {
   "cell_type": "markdown",
   "id": "0927ffa7",
   "metadata": {},
   "source": [
    "How to get the actual derivatives?"
   ]
  },
  {
   "cell_type": "code",
   "execution_count": 36,
   "id": "51ee49a8",
   "metadata": {},
   "outputs": [],
   "source": [
    "r.backward()"
   ]
  },
  {
   "cell_type": "code",
   "execution_count": 37,
   "id": "f6c20a6d",
   "metadata": {},
   "outputs": [
    {
     "data": {
      "text/plain": [
       "tensor([1., 2., 3., 4., 5.], dtype=torch.float64, requires_grad=True)"
      ]
     },
     "execution_count": 37,
     "metadata": {},
     "output_type": "execute_result"
    }
   ],
   "source": [
    "x"
   ]
  },
  {
   "cell_type": "code",
   "execution_count": 38,
   "id": "3993a553",
   "metadata": {},
   "outputs": [
    {
     "data": {
      "text/plain": [
       "tensor([ 5., 14., 29., 50., 77.], dtype=torch.float64)"
      ]
     },
     "execution_count": 38,
     "metadata": {},
     "output_type": "execute_result"
    }
   ],
   "source": [
    "x.grad"
   ]
  },
  {
   "cell_type": "markdown",
   "id": "3663d53d",
   "metadata": {},
   "source": [
    "Function: $x^{3} + 2x$ + 10\n",
    "\n",
    "Derivative: $3x^{2} + 2$ \n",
    "\n",
    "**x.grad elements are exactly the derivatives of x elements**"
   ]
  },
  {
   "cell_type": "code",
   "execution_count": null,
   "id": "b0caa943",
   "metadata": {},
   "outputs": [],
   "source": []
  },
  {
   "cell_type": "markdown",
   "id": "3b4c53c4",
   "metadata": {},
   "source": [
    "## Datasets for DL\n",
    "\n",
    "For TF and torch come with their own dataset-handling wrappers that help training. The goal is to put the X and y in the most optimal format before training NNs\n"
   ]
  },
  {
   "cell_type": "code",
   "execution_count": 2,
   "id": "7d0d7574",
   "metadata": {},
   "outputs": [],
   "source": [
    "import datetime\n",
    "from sklearn.model_selection import train_test_split\n",
    "from sklearn.datasets import make_regression, make_sparse_uncorrelated\n",
    "%load_ext tensorboard"
   ]
  },
  {
   "cell_type": "code",
   "execution_count": 3,
   "id": "360081a6",
   "metadata": {},
   "outputs": [],
   "source": [
    "X, y = make_sparse_uncorrelated(1000, 4, random_state = 91)\n",
    "X_train, X_test, y_train, y_test = train_test_split(X, y, random_state = 91, train_size = 0.8)"
   ]
  },
  {
   "cell_type": "code",
   "execution_count": null,
   "id": "29c78515",
   "metadata": {},
   "outputs": [],
   "source": []
  },
  {
   "cell_type": "markdown",
   "id": "7f0ad92f",
   "metadata": {},
   "source": [
    "How easy is it to model the data?\n",
    "\n"
   ]
  },
  {
   "cell_type": "code",
   "execution_count": 402,
   "id": "10fcf408",
   "metadata": {},
   "outputs": [
    {
     "name": "stdout",
     "output_type": "stream",
     "text": [
      "RMSE LinReg: 1.0598040720997706\n",
      "r2 LinReg: 0.9185904325568609\n"
     ]
    }
   ],
   "source": [
    "from sklearn.linear_model import LinearRegression\n",
    "from sklearn.metrics import r2_score, mean_squared_error\n",
    "\n",
    "\n",
    "lr = LinearRegression().fit(X_train, y_train)\n",
    "print('RMSE LinReg:', mean_squared_error(y_test, lr.predict(X_test), squared=False))\n",
    "print('r2 LinReg:', r2_score(y_test, lr.predict(X_test)))"
   ]
  },
  {
   "cell_type": "code",
   "execution_count": null,
   "id": "2bda9216",
   "metadata": {},
   "outputs": [],
   "source": []
  },
  {
   "cell_type": "markdown",
   "id": "7167a430",
   "metadata": {},
   "source": [
    "\n",
    "### TensorFlow"
   ]
  },
  {
   "cell_type": "code",
   "execution_count": 403,
   "id": "05725232",
   "metadata": {},
   "outputs": [],
   "source": [
    "from tensorflow.data import Dataset"
   ]
  },
  {
   "cell_type": "code",
   "execution_count": 404,
   "id": "17fb3124",
   "metadata": {},
   "outputs": [
    {
     "data": {
      "text/plain": [
       "<TensorSliceDataset element_spec=(TensorSpec(shape=(4,), dtype=tf.float64, name=None), TensorSpec(shape=(), dtype=tf.float64, name=None))>"
      ]
     },
     "execution_count": 404,
     "metadata": {},
     "output_type": "execute_result"
    }
   ],
   "source": [
    "Dataset.from_tensor_slices((X, y))"
   ]
  },
  {
   "cell_type": "code",
   "execution_count": 405,
   "id": "938dd948",
   "metadata": {},
   "outputs": [
    {
     "data": {
      "text/plain": [
       "[(<tf.Tensor: shape=(4,), dtype=float64, numpy=array([-0.60612102, -1.05993975, -0.55091967, -0.27568627])>,\n",
       "  <tf.Tensor: shape=(), dtype=float64, numpy=0.6211824216799966>),\n",
       " (<tf.Tensor: shape=(4,), dtype=float64, numpy=array([ 1.22225373, -0.90585899,  0.06935217,  2.17865566])>,\n",
       "  <tf.Tensor: shape=(), dtype=float64, numpy=-5.045025241674523>),\n",
       " (<tf.Tensor: shape=(4,), dtype=float64, numpy=array([ 0.14731691,  0.51725713, -1.29397945, -1.0548876 ])>,\n",
       "  <tf.Tensor: shape=(), dtype=float64, numpy=4.40408336785234>),\n",
       " (<tf.Tensor: shape=(4,), dtype=float64, numpy=array([0.46476874, 0.23410601, 1.77886602, 0.86387667])>,\n",
       "  <tf.Tensor: shape=(), dtype=float64, numpy=-3.656616819939237>),\n",
       " (<tf.Tensor: shape=(4,), dtype=float64, numpy=array([-0.02505936, -0.15748755, -0.69803799, -0.17109056])>,\n",
       "  <tf.Tensor: shape=(), dtype=float64, numpy=0.8741320952221957>),\n",
       " (<tf.Tensor: shape=(4,), dtype=float64, numpy=array([-0.66477563,  0.57844215,  2.11737829, -0.44639435])>,\n",
       "  <tf.Tensor: shape=(), dtype=float64, numpy=-2.4674961406530027>),\n",
       " (<tf.Tensor: shape=(4,), dtype=float64, numpy=array([-0.66693906,  0.48079725,  1.98498011,  0.39190894])>,\n",
       "  <tf.Tensor: shape=(), dtype=float64, numpy=-3.9499691647026944>),\n",
       " (<tf.Tensor: shape=(4,), dtype=float64, numpy=array([ 2.3982028 ,  2.41736027, -1.61411983, -0.21642658])>,\n",
       "  <tf.Tensor: shape=(), dtype=float64, numpy=10.844035507747762>),\n",
       " (<tf.Tensor: shape=(4,), dtype=float64, numpy=array([ 1.66363212, -0.12201627,  1.39842066, -0.63836468])>,\n",
       "  <tf.Tensor: shape=(), dtype=float64, numpy=0.5606609527857446>),\n",
       " (<tf.Tensor: shape=(4,), dtype=float64, numpy=array([-0.79995595,  0.97931238, -0.97706732,  0.52231952])>,\n",
       "  <tf.Tensor: shape=(), dtype=float64, numpy=0.8873081499861761>)]"
      ]
     },
     "execution_count": 405,
     "metadata": {},
     "output_type": "execute_result"
    }
   ],
   "source": [
    "[x for x in Dataset.from_tensor_slices((X, y))][:10]"
   ]
  },
  {
   "cell_type": "code",
   "execution_count": null,
   "id": "94bee49c",
   "metadata": {},
   "outputs": [],
   "source": []
  },
  {
   "cell_type": "code",
   "execution_count": 406,
   "id": "1d659d9c",
   "metadata": {},
   "outputs": [
    {
     "data": {
      "text/plain": [
       "<TensorDataset element_spec=(TensorSpec(shape=(1000, 4), dtype=tf.float64, name=None), TensorSpec(shape=(1000,), dtype=tf.float64, name=None))>"
      ]
     },
     "execution_count": 406,
     "metadata": {},
     "output_type": "execute_result"
    }
   ],
   "source": [
    "Dataset.from_tensors((X, y))"
   ]
  },
  {
   "cell_type": "code",
   "execution_count": 407,
   "id": "55d5d79a",
   "metadata": {},
   "outputs": [
    {
     "data": {
      "text/plain": [
       "[(<tf.Tensor: shape=(1000, 4), dtype=float64, numpy=\n",
       "  array([[-0.60612102, -1.05993975, -0.55091967, -0.27568627],\n",
       "         [ 1.22225373, -0.90585899,  0.06935217,  2.17865566],\n",
       "         [ 0.14731691,  0.51725713, -1.29397945, -1.0548876 ],\n",
       "         ...,\n",
       "         [ 1.71064186,  0.58880101, -3.15157693, -1.3577635 ],\n",
       "         [-0.2008195 ,  2.46525881,  1.23490332, -0.19678863],\n",
       "         [-2.09930991, -0.86142285, -1.01306882, -0.50562339]])>,\n",
       "  <tf.Tensor: shape=(1000,), dtype=float64, numpy=\n",
       "  array([ 6.21182422e-01, -5.04502524e+00,  4.40408337e+00, -3.65661682e+00,\n",
       "          8.74132095e-01, -2.46749614e+00, -3.94996916e+00,  1.08440355e+01,\n",
       "          5.60660953e-01,  8.87308150e-01,  4.14963770e+00, -3.01479165e+00,\n",
       "         -6.18279644e-01,  1.44367833e+00,  5.57109007e+00, -9.59344050e-02,\n",
       "         -1.36674470e+00,  1.13976415e+00,  5.10246521e+00, -6.58202638e-01,\n",
       "         -2.18436493e+00,  3.43178682e+00,  3.69990417e+00,  6.68486892e-01,\n",
       "          2.90822252e+00,  4.63863450e+00,  3.29343902e+00,  1.24795021e+00,\n",
       "          3.70293700e+00,  2.76582770e+00, -7.24898356e-01, -1.61895873e+00,\n",
       "         -3.05590110e-01, -1.83894804e+00, -1.06872262e+00, -8.34459197e-01,\n",
       "         -2.04195575e+00, -4.05444741e+00, -1.15197317e+00,  5.22289170e+00,\n",
       "         -5.14723835e+00, -5.64130446e+00,  2.75264879e+00, -8.21485158e-01,\n",
       "         -4.91206410e+00, -4.29767550e+00, -7.35737304e+00, -1.05608665e+00,\n",
       "          3.31904659e+00,  2.89694437e+00, -5.09981310e-01,  4.10785551e+00,\n",
       "          3.89979741e+00,  6.13862629e+00, -2.57811865e+00,  2.65243607e-01,\n",
       "          1.15525173e+00, -5.73591317e+00, -2.14630720e+00, -2.62519557e+00,\n",
       "         -8.22578733e+00,  3.38400005e+00,  2.63630858e+00,  4.45165736e+00,\n",
       "         -1.43266226e+00,  5.49938496e+00,  3.04182400e+00, -1.55219822e+00,\n",
       "         -4.80884127e+00,  3.89424637e+00, -1.89159276e+00, -2.74241651e+00,\n",
       "          1.80460782e+00, -5.99414049e+00,  2.13346143e+00, -6.89630942e-01,\n",
       "          3.41144976e+00, -2.41352834e-02,  2.39381716e+00,  3.35647623e+00,\n",
       "          7.32819619e-01,  2.64978508e+00,  4.25665356e-01, -2.83008991e+00,\n",
       "         -7.85080741e-01,  4.87135408e-01,  4.23930388e+00, -2.86936079e+00,\n",
       "         -1.66856386e+00,  2.05750173e-01,  5.71598787e+00,  8.24146193e-01,\n",
       "          3.47203010e+00,  5.46618325e+00,  3.67080234e-01,  3.17131816e+00,\n",
       "         -4.56427244e+00, -1.10449327e+00,  6.25748197e+00,  2.91402477e+00,\n",
       "         -4.02802868e+00, -4.56304501e-01, -1.36573719e+00, -2.29811402e+00,\n",
       "         -7.12834282e-01, -3.67146273e+00,  2.42793336e+00,  7.43040979e+00,\n",
       "         -3.57883851e-01, -1.77016497e-01, -3.38676239e+00,  9.55197136e-01,\n",
       "          2.20160997e+00, -5.02976243e+00,  1.60299198e+00,  4.16173629e-01,\n",
       "          4.64761284e+00,  4.75498704e-02, -1.29960556e+00, -1.59620049e+00,\n",
       "          5.30661470e-02, -2.66031604e+00,  1.59371553e+00,  1.47138419e+00,\n",
       "          8.22317424e+00,  5.84309201e-01, -5.12374235e+00,  3.39682187e+00,\n",
       "         -4.78907108e-01,  4.99594029e+00, -2.90673361e+00, -6.50664515e-01,\n",
       "         -3.52836282e+00, -2.38958038e-01,  5.79750208e+00, -3.91696494e-01,\n",
       "          2.72698356e+00,  3.19349170e-01, -2.23562300e+00,  1.37121373e+00,\n",
       "         -4.22859642e+00, -1.79258841e+00,  7.17525460e-01,  1.60348883e+00,\n",
       "          9.43571849e-01, -2.91908647e+00, -2.04843186e+00,  1.80057892e+00,\n",
       "          5.25354686e+00, -4.17001529e+00,  5.49148367e+00, -3.87645468e-02,\n",
       "          3.70563870e+00, -5.87912133e+00, -6.00938371e+00, -5.15763952e+00,\n",
       "          3.03907323e+00,  4.83334310e+00,  1.18911601e+00, -3.63127941e-01,\n",
       "         -3.17274024e+00, -2.75417628e+00, -1.23831625e+00,  4.10224246e+00,\n",
       "          1.39286889e+00, -3.38071191e+00, -3.79755879e+00, -5.92566282e+00,\n",
       "          1.38672513e+00, -2.55255338e+00,  3.25157353e+00, -3.74537558e-01,\n",
       "          5.84458942e+00, -7.91153589e-01,  1.91973176e+00,  3.37140488e-01,\n",
       "         -3.33721740e+00,  4.41199367e+00,  2.41956496e-01,  1.57323939e-01,\n",
       "          7.86412560e+00, -1.03660179e+00,  5.34031141e+00,  4.46476114e-01,\n",
       "          4.93876505e+00, -3.19184243e+00, -2.71994346e+00, -9.98155613e-01,\n",
       "         -5.42214512e+00,  2.42774088e+00, -4.17971873e+00, -1.91818705e+00,\n",
       "          6.97890820e-02,  1.41867646e+00,  3.12594031e+00, -5.17170239e+00,\n",
       "          1.80362330e+00,  7.31481006e+00, -4.84023889e+00,  9.48035646e+00,\n",
       "         -3.52407274e+00,  9.60848450e+00,  5.46600998e+00, -5.09407136e+00,\n",
       "          1.07310606e+00, -5.49136638e+00,  2.57166330e+00,  4.02368054e+00,\n",
       "          7.77158342e+00,  4.95284114e+00,  1.59472740e-01,  3.47140665e+00,\n",
       "         -1.82463087e+00,  4.14901164e-01,  3.08788061e+00,  4.08351559e+00,\n",
       "          1.60586866e+00,  3.54451534e+00, -3.50383941e+00,  5.41309355e+00,\n",
       "         -3.18980764e+00,  3.11218842e-01, -4.53594059e+00, -5.94605121e-01,\n",
       "         -3.17026324e-01,  6.23919243e-01,  3.83345176e+00,  1.55247475e+00,\n",
       "         -4.45731638e+00, -4.34838023e+00, -1.09252143e+00, -1.84560235e+00,\n",
       "          1.87676663e+00,  3.54882424e+00,  3.92977612e+00,  2.52581645e+00,\n",
       "          1.71692583e+00,  1.17819397e+00, -9.23155901e-02, -6.38213674e+00,\n",
       "         -2.80313914e+00, -3.27829295e+00, -6.86763362e-01, -4.83199424e+00,\n",
       "          5.73237743e+00,  3.07579454e+00, -3.30067509e+00, -2.01798555e+00,\n",
       "          4.49153336e+00,  8.09331499e+00,  3.96455711e-01,  6.01018309e+00,\n",
       "          1.31850172e-01, -2.50982950e+00,  7.89692187e-01, -1.69365847e+00,\n",
       "         -2.89836805e+00,  7.07751709e+00,  4.68331889e+00, -3.54950812e+00,\n",
       "         -3.87291826e-01, -2.55027231e+00,  9.96758617e+00, -5.63028047e+00,\n",
       "         -1.01996245e+00, -1.00579056e+00,  6.74883336e+00,  4.86857295e+00,\n",
       "          8.10440602e-01, -3.32115951e+00,  1.47092256e+00,  1.25913525e+00,\n",
       "          1.77786740e+00, -2.88571389e+00, -1.07087649e+00,  2.74198605e-01,\n",
       "          2.84840704e+00, -3.73223012e+00, -1.83828324e+00, -3.09148264e+00,\n",
       "         -1.03502548e+00, -2.42471243e+00, -2.29626592e+00, -2.34280139e+00,\n",
       "         -3.17469740e+00, -3.21240955e+00, -7.04758480e-01, -3.49454744e+00,\n",
       "         -7.53185287e+00,  3.62712527e+00,  6.06557414e+00, -9.63381379e-01,\n",
       "          5.60205578e-01,  1.12275386e+00,  1.01979679e+00,  8.52317076e-01,\n",
       "         -2.26629799e+00, -6.50983285e-01, -3.00986542e+00,  2.60103103e+00,\n",
       "          5.92110783e+00, -1.59012409e+00, -2.20011156e-01, -4.33724898e+00,\n",
       "          2.12654494e+00,  2.99220444e+00, -3.76344641e-01,  6.24706374e+00,\n",
       "          2.80476625e+00, -6.28632754e+00, -2.82305744e+00, -5.16271189e+00,\n",
       "         -3.69769416e+00, -4.69451674e+00,  1.23718002e+00,  5.89740994e+00,\n",
       "         -1.47471674e+00, -5.21777994e+00, -3.95027786e+00,  4.52288123e+00,\n",
       "         -7.33734507e-01, -4.57913174e+00,  1.25291395e+00, -5.16435989e-01,\n",
       "          1.23081702e+00, -9.01700464e-01,  3.10444347e+00, -3.55157071e+00,\n",
       "         -3.15113144e+00, -9.04070157e-01,  2.21754005e+00, -1.46009731e+00,\n",
       "          3.78262095e-01, -4.34423425e+00, -7.49478354e+00, -1.95057491e+00,\n",
       "         -3.60012075e+00, -8.72257059e+00, -2.35927520e+00,  7.48946459e+00,\n",
       "          1.06306516e+00, -7.67978469e+00, -5.39174819e-01, -2.31843499e-01,\n",
       "          2.74537577e+00, -6.57177218e+00, -5.80032391e+00, -4.92091683e+00,\n",
       "         -5.71077463e+00,  4.97738056e-01,  6.20120663e-01,  3.26549213e+00,\n",
       "          5.37099382e+00,  1.68968660e-01, -1.03845010e+00,  3.67238572e+00,\n",
       "         -2.79655477e+00, -3.34001569e+00,  1.01367343e+00, -1.44087058e+00,\n",
       "          3.49103652e+00,  2.44181758e-01, -1.88890080e+00,  5.54967878e+00,\n",
       "         -4.07547931e-01,  2.66068621e+00, -2.96306368e-01, -2.97443082e+00,\n",
       "         -1.78233307e+00,  1.01456941e+00, -5.20242754e+00, -2.76008651e+00,\n",
       "         -3.19724495e+00, -6.53548398e-01,  2.66540879e+00, -5.78653232e-01,\n",
       "         -1.91171729e+00,  2.43961109e+00, -3.45959903e+00, -1.74605764e+00,\n",
       "         -1.78026136e+00, -3.41549013e+00, -7.32066477e+00,  6.67523782e+00,\n",
       "         -5.00499288e+00,  7.20983584e+00,  1.02760926e+00, -1.15493846e+00,\n",
       "          1.04633183e-01,  4.60789849e+00, -4.94885768e+00, -3.69257937e+00,\n",
       "         -5.17969973e+00,  4.60706112e+00, -2.58707038e+00, -1.55413898e+00,\n",
       "          4.50700238e-01,  3.01769894e-01, -1.67533758e+00, -1.95285291e+00,\n",
       "          3.84562150e+00,  2.87643026e+00,  1.88013626e-01, -2.67733705e-01,\n",
       "          2.43429508e+00,  2.57993038e+00,  1.76435645e+00, -2.02923180e+00,\n",
       "          3.20974571e+00,  2.83126450e+00, -9.66883776e-01, -5.93972454e+00,\n",
       "         -2.98744284e+00, -2.40564460e+00, -8.08503291e-02,  3.61646458e+00,\n",
       "          1.39793083e+00, -3.78560555e+00,  3.33504984e+00,  5.22198674e+00,\n",
       "         -5.92035689e+00,  7.94308015e+00,  5.49781858e+00, -4.92125092e-01,\n",
       "          1.18491235e+00,  1.97701027e+00, -1.07629141e+01,  2.65179097e+00,\n",
       "         -2.26192142e-01,  4.48414888e+00,  1.33916375e+00,  3.10425752e+00,\n",
       "          2.79607616e+00, -4.64462048e-01, -1.27296051e+00,  5.74107200e+00,\n",
       "         -6.33411511e+00,  2.24873923e+00, -4.05730197e+00, -4.87704079e+00,\n",
       "         -1.83008512e+00, -6.41822461e+00,  3.18270401e-02,  9.83445773e-01,\n",
       "         -2.56661788e-01, -1.44929132e+00,  1.97922521e+00,  6.13784824e-01,\n",
       "         -3.48029384e+00, -7.20130147e+00, -2.98805452e+00, -1.98749846e+00,\n",
       "          7.39618864e-01, -2.87420846e+00,  5.40502052e+00,  9.54499950e-01,\n",
       "          2.46200832e+00, -5.92144127e+00, -3.62088407e+00, -1.54178238e+00,\n",
       "          2.35154308e+00, -8.31817670e-01,  1.79457447e+00, -8.22161857e+00,\n",
       "         -2.68938117e+00,  6.58764825e+00, -3.47804980e+00, -1.11750256e+00,\n",
       "          1.42673106e+00,  4.05390879e+00, -6.60817339e+00,  4.07726258e+00,\n",
       "         -1.66500840e+00, -6.82283999e+00,  3.95370642e-01, -1.73160705e-01,\n",
       "         -4.34291782e-01,  9.23247420e-01,  1.47580603e+00,  5.73274665e+00,\n",
       "         -9.51549286e-01,  3.41361495e-01, -1.74427396e+00, -3.21750645e+00,\n",
       "         -5.79996759e+00,  1.19234435e+00, -4.03925967e+00, -1.46922911e-01,\n",
       "         -1.85921499e+00,  3.00015388e+00, -2.51853569e+00,  3.69518706e+00,\n",
       "          1.40348513e+00, -2.54504042e+00, -1.88280822e+00, -3.43496546e+00,\n",
       "          1.68048147e+00,  8.95138653e+00,  1.57225904e+00,  2.60178594e+00,\n",
       "         -2.29674470e+00, -4.08617154e+00, -2.33222084e+00,  4.59999621e+00,\n",
       "          9.74987301e-01, -6.53981204e+00, -3.72005935e+00,  5.73226509e+00,\n",
       "         -3.68173395e+00,  6.51723058e-01,  5.61849247e-01, -7.37201487e-01,\n",
       "         -6.10215415e+00, -1.32942909e+00, -6.57778583e+00,  2.57765358e+00,\n",
       "         -1.24394780e+00,  4.56936893e+00,  7.55260995e-01, -2.78033478e+00,\n",
       "         -1.83376430e+00, -6.74766707e+00,  5.20907935e-01,  8.35551408e+00,\n",
       "         -2.07226442e+00, -2.06463284e+00,  6.22874120e+00, -3.41733438e+00,\n",
       "         -1.71856061e+00,  3.80560913e+00,  3.75358153e+00, -2.80666848e+00,\n",
       "         -3.85774355e+00,  6.94772718e+00, -3.18972422e+00,  1.85371119e+00,\n",
       "          6.27843624e+00,  2.46398128e+00,  4.90836980e+00,  5.29838616e+00,\n",
       "         -1.89787256e+00, -1.32892610e+00, -8.06360567e+00, -2.06976748e+00,\n",
       "         -1.83651960e+00, -2.58287012e-01,  7.25487790e-02, -7.71541312e+00,\n",
       "          9.90654672e-01, -1.76471152e+00, -1.03322838e-02,  1.71488478e+00,\n",
       "         -3.05410743e-01, -7.87349981e+00, -6.48795614e+00, -7.60221021e+00,\n",
       "          1.76689019e+00, -2.04105742e+00,  1.82393913e+00,  5.57852039e+00,\n",
       "          3.19950087e+00, -7.98579607e+00, -7.08145026e+00,  1.36232902e-02,\n",
       "         -2.59002474e+00, -3.61458816e+00,  9.47789824e-01, -7.49953781e-01,\n",
       "          1.41779733e+00,  4.88526353e+00,  1.07028426e+00,  4.10788151e+00,\n",
       "          5.77676438e+00,  1.37033630e+00, -1.12044218e+00, -1.16176242e+00,\n",
       "          1.31375980e+00, -1.53762188e+00,  9.08388863e-01, -5.31354082e+00,\n",
       "         -1.36972222e+00, -1.87763626e+00,  4.87059365e+00, -1.50204504e+00,\n",
       "          5.55298827e+00, -3.18354907e+00, -7.10552997e-01, -1.84146289e+00,\n",
       "         -4.67728167e+00, -2.74318618e+00,  3.54620562e+00, -4.87440179e-01,\n",
       "          7.65550278e-01, -5.56942315e+00, -6.21332489e-02,  2.59179453e+00,\n",
       "          5.42672977e+00,  3.35913472e+00,  2.71889979e+00,  2.19736347e+00,\n",
       "         -2.35673489e+00,  8.46768786e+00, -4.63853824e+00, -4.08447667e+00,\n",
       "         -6.76674175e+00, -1.45198829e+00, -3.60515873e+00, -1.55461724e-01,\n",
       "         -5.62519831e+00, -4.58701627e+00,  9.75018034e+00,  2.21413548e+00,\n",
       "         -1.37379917e+00,  4.74972450e+00, -3.75559858e+00,  2.33369242e+00,\n",
       "          2.20038459e-01,  2.42367948e+00, -4.72730971e+00,  3.54619207e+00,\n",
       "          7.38687712e+00,  4.94593764e+00, -5.03175767e+00,  2.87593629e+00,\n",
       "          3.29783749e+00,  5.79971014e+00, -2.95235656e+00,  3.95446161e+00,\n",
       "          5.65111410e-01,  6.62533472e+00, -3.98716259e+00, -2.19066582e+00,\n",
       "         -2.97476132e+00,  1.92283715e+00,  2.89315884e-01,  7.88518251e-01,\n",
       "          2.34044236e+00, -3.51334465e+00,  1.28482700e+00,  8.98802188e-01,\n",
       "          6.67716813e+00, -7.66089230e-01, -6.58877229e+00, -2.86960874e+00,\n",
       "         -2.41569286e+00,  1.10379551e+00, -2.94099011e+00, -5.61648059e-01,\n",
       "          3.76179544e+00, -7.21625800e+00, -7.29090255e+00,  4.55942990e+00,\n",
       "          2.59831633e+00, -5.63288477e-01,  3.35390842e+00, -4.30350808e+00,\n",
       "          1.62123287e+00, -9.84097681e-01,  1.70687520e-01,  5.60792921e+00,\n",
       "          4.39849869e-01, -4.48293423e+00,  2.34306325e+00,  4.35150918e+00,\n",
       "          5.81457651e-01,  6.36579100e+00,  2.55317120e+00,  1.68900775e-01,\n",
       "         -2.03348292e+00, -4.05223798e+00, -1.30301081e+00, -2.27770374e+00,\n",
       "         -1.30908050e+00,  3.88485767e+00, -1.33952243e+00,  7.21206904e-01,\n",
       "         -3.47542814e+00, -1.73040183e+00, -2.17181062e+00,  5.28800529e+00,\n",
       "          1.17360925e-03,  2.63676081e+00, -7.17975548e+00,  8.25778884e-01,\n",
       "          1.33921068e+00,  1.34165888e+00,  9.81243372e-01, -4.99690054e+00,\n",
       "          2.93520497e+00, -2.37099263e+00, -4.44676257e+00, -3.18620338e+00,\n",
       "          3.60375896e+00, -6.49016551e+00,  7.67142032e-01, -1.13917592e+00,\n",
       "          1.54765823e+00,  6.04370374e-01, -7.05111670e+00, -3.45395481e+00,\n",
       "          1.63403507e-01, -7.18279965e-01, -7.24297025e+00,  2.03951931e+00,\n",
       "          1.84692233e-01, -1.41707479e+00,  1.48497486e-01,  1.87434093e+00,\n",
       "          3.64089808e+00,  2.14045634e+00, -2.23796835e+00,  5.67350901e+00,\n",
       "         -4.52295239e+00,  1.59089185e+00, -3.56710201e+00,  3.47753845e+00,\n",
       "          3.62527966e-02, -4.47184015e+00,  2.54708662e+00, -1.58460110e+00,\n",
       "         -7.77083849e+00, -7.09482068e-01, -1.22781766e+00,  4.04596799e+00,\n",
       "         -2.72090229e-01, -3.11832522e+00,  2.37873571e+00,  1.92118087e+00,\n",
       "         -1.51660119e+00,  3.83095027e+00, -6.78512286e+00,  4.56372806e-01,\n",
       "         -6.74749468e+00, -1.78204317e+00,  1.49612068e+00,  7.12895424e+00,\n",
       "          2.37108681e-01, -3.64350798e+00, -2.94561014e+00, -1.88064436e+00,\n",
       "          3.56673388e+00, -3.91094810e+00, -2.75025799e+00, -2.38792396e+00,\n",
       "         -5.05308675e+00, -2.75181551e+00, -5.58780197e+00,  1.31120313e+00,\n",
       "         -8.69025789e-01, -2.27286778e+00, -8.06189259e+00,  4.96852566e+00,\n",
       "          6.85235667e-01, -1.54199769e+00, -2.68270528e+00, -3.93817692e+00,\n",
       "         -4.57515216e+00,  1.23052193e-01,  1.76943948e+00, -1.14486235e+00,\n",
       "         -1.02664991e+01, -7.58028617e-02, -3.04365296e+00, -1.07756529e+01,\n",
       "         -6.37646620e+00,  2.46027346e+00, -2.85394710e-02,  5.95270232e-01,\n",
       "          1.21785800e+00, -1.41562876e+00, -4.96322092e+00,  1.47669164e+00,\n",
       "          5.41625123e+00, -8.11619418e-01, -6.25267206e+00, -2.43040455e+00,\n",
       "          6.63409968e+00, -5.49968072e+00,  2.58286183e+00, -6.04026072e-01,\n",
       "         -1.58363893e+00, -2.30169337e+00,  1.22481641e+00,  3.29063648e-01,\n",
       "          2.31490367e-02, -3.15333124e+00, -9.60381287e-01, -2.78610717e+00,\n",
       "         -3.41506100e+00,  3.25171712e-01, -3.14863542e+00,  3.84728075e+00,\n",
       "         -6.61215717e+00, -1.84495275e-01,  3.89173805e+00,  2.93533492e+00,\n",
       "         -1.51748148e+00, -4.15688465e+00, -5.14161909e+00, -2.05915549e+00,\n",
       "          1.18832386e+01, -1.09827490e+00, -7.58967476e+00,  1.77736614e+00,\n",
       "          2.76259783e+00,  1.00456034e+00,  9.82960277e-01,  1.04021282e+00,\n",
       "          8.18383038e-02, -4.19641768e+00,  3.22019918e+00,  7.19222632e-01,\n",
       "          3.86066763e+00,  1.54149085e+00,  1.93320715e+00,  3.54483010e+00,\n",
       "         -8.36847714e-02, -6.68593298e+00, -5.19027958e-01,  1.12132426e+00,\n",
       "          1.19449472e+00, -5.15961899e-01, -9.86159377e-01, -2.14905972e+00,\n",
       "         -3.72291167e+00,  4.23365211e+00,  4.08334068e-01,  6.17905522e-01,\n",
       "          1.47231962e+00,  2.11094598e+00,  1.03217446e+00, -2.65745887e+00,\n",
       "         -2.59441129e+00,  4.90328284e+00, -5.46084221e+00, -2.35297107e-01,\n",
       "         -5.16858535e-01,  1.97628592e+00, -5.66404900e-02,  8.74548723e+00,\n",
       "          1.06744326e+00,  4.92246851e+00,  2.47833599e+00,  1.97805198e+00,\n",
       "          4.92115005e+00, -5.91514758e+00, -6.97685176e-01,  5.17747126e+00,\n",
       "         -3.84023012e+00,  7.32012338e-01,  3.09806545e+00, -1.52653165e+00,\n",
       "         -7.08387738e-01,  6.52417211e-01,  1.59272009e+00,  3.08277602e+00,\n",
       "         -5.06850974e+00, -2.22382096e+00, -1.49013562e+00, -7.27109251e-01,\n",
       "         -1.64133134e+00,  2.45983798e+00, -1.93692429e+00, -4.29936587e+00,\n",
       "         -4.09636908e-01, -7.18781283e-01,  3.91420207e+00,  4.23666690e+00,\n",
       "         -2.47802012e+00, -5.23576308e+00,  1.23377520e+01,  1.25806008e+00,\n",
       "         -4.33966722e+00,  2.83035695e+00,  4.77219811e+00,  4.20704544e+00,\n",
       "          2.72810591e+00, -2.76683641e+00,  5.75747723e+00, -4.14528056e+00,\n",
       "          7.90830299e-01,  3.79219564e+00,  2.99126912e-01,  1.40439352e-01,\n",
       "         -4.86163087e-01, -2.32869671e+00,  2.93193922e+00,  6.55147604e+00,\n",
       "          4.97669050e+00, -2.53602097e+00,  2.45902430e+00, -2.69805713e+00,\n",
       "         -2.48640369e+00, -4.40631192e-01, -3.45275691e+00,  3.47517517e+00,\n",
       "          1.31667811e+00,  2.22852578e+00,  8.35884456e+00,  4.56706955e+00,\n",
       "          5.72716791e+00,  3.07550427e-01, -3.23824854e+00, -1.91566248e+00,\n",
       "         -4.04541111e+00, -6.82701959e-01, -4.06137180e+00, -2.31379994e-01,\n",
       "         -6.30972758e-01, -1.82652944e+00, -5.49133173e+00, -6.45401752e-01,\n",
       "         -4.11376012e+00, -4.39949204e+00,  2.39342857e+00, -4.84503680e-01,\n",
       "         -1.39655448e+00, -1.71477082e+00,  7.67663689e-01,  5.73724093e+00,\n",
       "          8.14041193e-02,  7.90264484e-01,  3.34963884e+00, -7.94894736e-01,\n",
       "         -1.75526145e+00, -2.42311126e+00, -4.13769494e+00, -8.62064570e-01,\n",
       "         -5.17635869e+00, -2.14151023e+00,  4.53979322e-01,  3.25657511e+00,\n",
       "         -1.15438217e+00,  6.07100322e+00, -3.50849123e+00, -2.24562596e-01,\n",
       "          4.95774494e-01,  5.92868847e+00, -5.03892467e+00, -2.78379266e+00,\n",
       "          1.76792725e+00,  9.76527527e-01,  5.69425422e+00, -1.12122135e+00,\n",
       "         -4.80354156e+00, -3.43636521e+00,  4.33312135e+00, -3.57750875e+00,\n",
       "          6.68956210e+00, -1.70629794e+00,  3.74157233e+00,  3.59662927e+00,\n",
       "          6.60740467e+00,  1.17089638e+00,  1.91329583e+00,  3.32208102e-01,\n",
       "         -6.25304859e+00,  5.60389742e+00,  4.46018485e+00,  1.49104633e+00,\n",
       "          1.09061069e+00, -7.49831943e-01, -2.62935221e+00, -1.07722203e+00,\n",
       "         -7.89069677e-01,  3.47922666e+00, -1.83391715e+00,  7.54025719e-01,\n",
       "         -1.96267383e+00,  1.35215639e+00, -1.11190347e+00,  2.00285466e-01,\n",
       "          1.21219429e+00, -7.80267729e+00,  2.33005534e+00, -1.43815399e+00,\n",
       "          6.32181034e+00,  5.40460931e+00,  1.20092196e+00, -4.74944346e+00,\n",
       "          2.29886928e+00, -1.11972827e+00,  2.50247806e-02,  5.23540980e+00,\n",
       "         -7.17597700e+00, -5.54724854e+00,  3.07535250e+00, -4.68723579e+00,\n",
       "         -2.89512843e+00,  8.44515441e-01,  5.95429582e-01,  6.93426020e-01,\n",
       "          3.37604447e+00,  6.47562708e+00, -3.11775679e+00, -3.93221673e+00,\n",
       "         -4.85204827e+00,  1.18457899e+01,  2.05364300e+00, -1.21784922e-01])>)]"
      ]
     },
     "execution_count": 407,
     "metadata": {},
     "output_type": "execute_result"
    }
   ],
   "source": [
    "[x for x in Dataset.from_tensors((X, y))]"
   ]
  },
  {
   "cell_type": "code",
   "execution_count": null,
   "id": "ab2ea9fc",
   "metadata": {},
   "outputs": [],
   "source": []
  },
  {
   "cell_type": "markdown",
   "id": "53e0b67f",
   "metadata": {},
   "source": [
    "Add metainfo to the dataset\n",
    "- shuffle: at each step randomly shuffle the dataset (buffer = take from first n)\n",
    "- batch: set batch size for dataset"
   ]
  },
  {
   "cell_type": "code",
   "execution_count": 513,
   "id": "cd2df816",
   "metadata": {},
   "outputs": [],
   "source": [
    "BATCH_SIZE = 20\n",
    "#SHUFFLE_BUFFER_SIZE = 100\n",
    "EPOCHS = 50\n",
    "\n",
    "train_dataset = Dataset.from_tensor_slices((X_train, y_train)).batch(BATCH_SIZE) #?.shuffle(SHUFFLE_BUFFER_SIZE)\n",
    "test_dataset = Dataset.from_tensor_slices((X_test, y_test)).batch(BATCH_SIZE) #?.shuffle(SHUFFLE_BUFFER_SIZE)"
   ]
  },
  {
   "cell_type": "code",
   "execution_count": 548,
   "id": "01bc8012",
   "metadata": {},
   "outputs": [],
   "source": [
    "model = tf.keras.Sequential([\n",
    "    tf.keras.layers.Dense(10, activation='relu', name = 'hidden-layer', input_shape = (X_train.shape[1],)),\n",
    "    tf.keras.layers.Dense(1, activation='linear', name = 'output-layer')\n",
    "], name = 'Small-TF-model')\n",
    "\n",
    "model.compile(optimizer = tf.optimizers.Adam(),\n",
    "              loss = tf.losses.MeanSquaredError(),\n",
    "              metrics = [tf.metrics.RootMeanSquaredError()])\n",
    "\n",
    "model.build()"
   ]
  },
  {
   "cell_type": "code",
   "execution_count": 549,
   "id": "4fb2244e",
   "metadata": {},
   "outputs": [
    {
     "name": "stdout",
     "output_type": "stream",
     "text": [
      "Model: \"Small-TF-model\"\n",
      "_________________________________________________________________\n",
      " Layer (type)                Output Shape              Param #   \n",
      "=================================================================\n",
      " hidden-layer (Dense)        (None, 10)                50        \n",
      "                                                                 \n",
      " output-layer (Dense)        (None, 1)                 11        \n",
      "                                                                 \n",
      "=================================================================\n",
      "Total params: 61\n",
      "Trainable params: 61\n",
      "Non-trainable params: 0\n",
      "_________________________________________________________________\n"
     ]
    }
   ],
   "source": [
    "model.summary()"
   ]
  },
  {
   "cell_type": "code",
   "execution_count": 550,
   "id": "4781e2fb",
   "metadata": {},
   "outputs": [
    {
     "data": {
      "image/png": "[encoded data removed]",
      "text/plain": [
       "<IPython.core.display.Image object>"
      ]
     },
     "execution_count": 550,
     "metadata": {},
     "output_type": "execute_result"
    }
   ],
   "source": [
    "tf.keras.utils.plot_model(model, to_file = 'torch_viz/tf_model.png', show_shapes = True, rankdir = 'LR',\n",
    "                         show_dtype = False, show_layer_activations = True)"
   ]
  },
  {
   "cell_type": "code",
   "execution_count": 551,
   "id": "49dcca79",
   "metadata": {
    "scrolled": true
   },
   "outputs": [
    {
     "name": "stdout",
     "output_type": "stream",
     "text": [
      "Epoch 1/50\n",
      "40/40 [==============================] - 1s 6ms/step - loss: 9.7994 - root_mean_squared_error: 3.1304 - val_loss: 9.3032 - val_root_mean_squared_error: 3.0501\n",
      "Epoch 2/50\n",
      "40/40 [==============================] - 0s 6ms/step - loss: 8.5785 - root_mean_squared_error: 2.9289 - val_loss: 8.0949 - val_root_mean_squared_error: 2.8452\n",
      "Epoch 3/50\n",
      "40/40 [==============================] - 0s 5ms/step - loss: 7.4367 - root_mean_squared_error: 2.7270 - val_loss: 6.9688 - val_root_mean_squared_error: 2.6399\n",
      "Epoch 4/50\n",
      "40/40 [==============================] - 0s 4ms/step - loss: 6.3721 - root_mean_squared_error: 2.5243 - val_loss: 5.9110 - val_root_mean_squared_error: 2.4313\n",
      "Epoch 5/50\n",
      "40/40 [==============================] - 0s 4ms/step - loss: 5.3904 - root_mean_squared_error: 2.3217 - val_loss: 4.9757 - val_root_mean_squared_error: 2.2306\n",
      "Epoch 6/50\n",
      "40/40 [==============================] - 0s 4ms/step - loss: 4.5173 - root_mean_squared_error: 2.1254 - val_loss: 4.1624 - val_root_mean_squared_error: 2.0402\n",
      "Epoch 7/50\n",
      "40/40 [==============================] - 0s 4ms/step - loss: 3.7702 - root_mean_squared_error: 1.9417 - val_loss: 3.4783 - val_root_mean_squared_error: 1.8650\n",
      "Epoch 8/50\n",
      "40/40 [==============================] - 0s 4ms/step - loss: 3.1461 - root_mean_squared_error: 1.7737 - val_loss: 2.9152 - val_root_mean_squared_error: 1.7074\n",
      "Epoch 9/50\n",
      "40/40 [==============================] - 0s 4ms/step - loss: 2.6353 - root_mean_squared_error: 1.6234 - val_loss: 2.4681 - val_root_mean_squared_error: 1.5710\n",
      "Epoch 10/50\n",
      "40/40 [==============================] - 0s 4ms/step - loss: 2.2263 - root_mean_squared_error: 1.4921 - val_loss: 2.1258 - val_root_mean_squared_error: 1.4580\n",
      "Epoch 11/50\n",
      "40/40 [==============================] - 0s 4ms/step - loss: 1.9130 - root_mean_squared_error: 1.3831 - val_loss: 1.8728 - val_root_mean_squared_error: 1.3685\n",
      "Epoch 12/50\n",
      "40/40 [==============================] - 0s 5ms/step - loss: 1.6816 - root_mean_squared_error: 1.2968 - val_loss: 1.6904 - val_root_mean_squared_error: 1.3002\n",
      "Epoch 13/50\n",
      "40/40 [==============================] - 0s 4ms/step - loss: 1.5140 - root_mean_squared_error: 1.2304 - val_loss: 1.5597 - val_root_mean_squared_error: 1.2489\n",
      "Epoch 14/50\n",
      "40/40 [==============================] - 0s 3ms/step - loss: 1.3929 - root_mean_squared_error: 1.1802 - val_loss: 1.4685 - val_root_mean_squared_error: 1.2118\n",
      "Epoch 15/50\n",
      "40/40 [==============================] - 0s 4ms/step - loss: 1.3060 - root_mean_squared_error: 1.1428 - val_loss: 1.4061 - val_root_mean_squared_error: 1.1858\n",
      "Epoch 16/50\n",
      "40/40 [==============================] - 0s 3ms/step - loss: 1.2446 - root_mean_squared_error: 1.1156 - val_loss: 1.3643 - val_root_mean_squared_error: 1.1680\n",
      "Epoch 17/50\n",
      "40/40 [==============================] - 0s 4ms/step - loss: 1.2016 - root_mean_squared_error: 1.0962 - val_loss: 1.3367 - val_root_mean_squared_error: 1.1562\n",
      "Epoch 18/50\n",
      "40/40 [==============================] - 0s 4ms/step - loss: 1.1710 - root_mean_squared_error: 1.0821 - val_loss: 1.3183 - val_root_mean_squared_error: 1.1482\n",
      "Epoch 19/50\n",
      "40/40 [==============================] - 0s 4ms/step - loss: 1.1484 - root_mean_squared_error: 1.0716 - val_loss: 1.3055 - val_root_mean_squared_error: 1.1426\n",
      "Epoch 20/50\n",
      "40/40 [==============================] - 0s 3ms/step - loss: 1.1309 - root_mean_squared_error: 1.0634 - val_loss: 1.2968 - val_root_mean_squared_error: 1.1388\n",
      "Epoch 21/50\n",
      "40/40 [==============================] - 0s 3ms/step - loss: 1.1170 - root_mean_squared_error: 1.0569 - val_loss: 1.2906 - val_root_mean_squared_error: 1.1360\n",
      "Epoch 22/50\n",
      "40/40 [==============================] - 0s 4ms/step - loss: 1.1055 - root_mean_squared_error: 1.0514 - val_loss: 1.2859 - val_root_mean_squared_error: 1.1340\n",
      "Epoch 23/50\n",
      "40/40 [==============================] - 0s 4ms/step - loss: 1.0958 - root_mean_squared_error: 1.0468 - val_loss: 1.2821 - val_root_mean_squared_error: 1.1323\n",
      "Epoch 24/50\n",
      "40/40 [==============================] - 0s 4ms/step - loss: 1.0877 - root_mean_squared_error: 1.0429 - val_loss: 1.2794 - val_root_mean_squared_error: 1.1311\n",
      "Epoch 25/50\n",
      "40/40 [==============================] - 0s 4ms/step - loss: 1.0805 - root_mean_squared_error: 1.0395 - val_loss: 1.2774 - val_root_mean_squared_error: 1.1302\n",
      "Epoch 26/50\n",
      "40/40 [==============================] - 0s 4ms/step - loss: 1.0741 - root_mean_squared_error: 1.0364 - val_loss: 1.2759 - val_root_mean_squared_error: 1.1296\n",
      "Epoch 27/50\n",
      "40/40 [==============================] - 0s 3ms/step - loss: 1.0683 - root_mean_squared_error: 1.0336 - val_loss: 1.2743 - val_root_mean_squared_error: 1.1289\n",
      "Epoch 28/50\n",
      "40/40 [==============================] - 0s 4ms/step - loss: 1.0629 - root_mean_squared_error: 1.0310 - val_loss: 1.2727 - val_root_mean_squared_error: 1.1281\n",
      "Epoch 29/50\n",
      "40/40 [==============================] - 0s 4ms/step - loss: 1.0581 - root_mean_squared_error: 1.0286 - val_loss: 1.2713 - val_root_mean_squared_error: 1.1275\n",
      "Epoch 30/50\n",
      "40/40 [==============================] - 0s 4ms/step - loss: 1.0538 - root_mean_squared_error: 1.0266 - val_loss: 1.2701 - val_root_mean_squared_error: 1.1270\n",
      "Epoch 31/50\n",
      "40/40 [==============================] - 0s 4ms/step - loss: 1.0500 - root_mean_squared_error: 1.0247 - val_loss: 1.2690 - val_root_mean_squared_error: 1.1265\n",
      "Epoch 32/50\n",
      "40/40 [==============================] - 0s 4ms/step - loss: 1.0467 - root_mean_squared_error: 1.0231 - val_loss: 1.2683 - val_root_mean_squared_error: 1.1262\n",
      "Epoch 33/50\n",
      "40/40 [==============================] - 0s 3ms/step - loss: 1.0436 - root_mean_squared_error: 1.0216 - val_loss: 1.2675 - val_root_mean_squared_error: 1.1258\n",
      "Epoch 34/50\n",
      "40/40 [==============================] - 0s 4ms/step - loss: 1.0407 - root_mean_squared_error: 1.0201 - val_loss: 1.2663 - val_root_mean_squared_error: 1.1253\n",
      "Epoch 35/50\n",
      "40/40 [==============================] - 0s 4ms/step - loss: 1.0381 - root_mean_squared_error: 1.0189 - val_loss: 1.2653 - val_root_mean_squared_error: 1.1248\n",
      "Epoch 36/50\n",
      "40/40 [==============================] - 0s 4ms/step - loss: 1.0356 - root_mean_squared_error: 1.0176 - val_loss: 1.2641 - val_root_mean_squared_error: 1.1243\n",
      "Epoch 37/50\n",
      "40/40 [==============================] - 0s 4ms/step - loss: 1.0333 - root_mean_squared_error: 1.0165 - val_loss: 1.2626 - val_root_mean_squared_error: 1.1237\n",
      "Epoch 38/50\n",
      "40/40 [==============================] - 0s 4ms/step - loss: 1.0314 - root_mean_squared_error: 1.0156 - val_loss: 1.2613 - val_root_mean_squared_error: 1.1231\n",
      "Epoch 39/50\n",
      "40/40 [==============================] - 0s 4ms/step - loss: 1.0295 - root_mean_squared_error: 1.0146 - val_loss: 1.2598 - val_root_mean_squared_error: 1.1224\n",
      "Epoch 40/50\n",
      "40/40 [==============================] - 0s 4ms/step - loss: 1.0277 - root_mean_squared_error: 1.0138 - val_loss: 1.2583 - val_root_mean_squared_error: 1.1217\n",
      "Epoch 41/50\n",
      "40/40 [==============================] - 0s 4ms/step - loss: 1.0260 - root_mean_squared_error: 1.0129 - val_loss: 1.2570 - val_root_mean_squared_error: 1.1212\n",
      "Epoch 42/50\n",
      "40/40 [==============================] - 0s 4ms/step - loss: 1.0245 - root_mean_squared_error: 1.0122 - val_loss: 1.2557 - val_root_mean_squared_error: 1.1206\n",
      "Epoch 43/50\n",
      "40/40 [==============================] - 0s 4ms/step - loss: 1.0231 - root_mean_squared_error: 1.0115 - val_loss: 1.2543 - val_root_mean_squared_error: 1.1200\n",
      "Epoch 44/50\n",
      "40/40 [==============================] - 0s 4ms/step - loss: 1.0218 - root_mean_squared_error: 1.0108 - val_loss: 1.2528 - val_root_mean_squared_error: 1.1193\n",
      "Epoch 45/50\n",
      "40/40 [==============================] - 0s 4ms/step - loss: 1.0205 - root_mean_squared_error: 1.0102 - val_loss: 1.2515 - val_root_mean_squared_error: 1.1187\n",
      "Epoch 46/50\n",
      "40/40 [==============================] - 0s 4ms/step - loss: 1.0193 - root_mean_squared_error: 1.0096 - val_loss: 1.2501 - val_root_mean_squared_error: 1.1181\n",
      "Epoch 47/50\n",
      "40/40 [==============================] - 0s 4ms/step - loss: 1.0181 - root_mean_squared_error: 1.0090 - val_loss: 1.2488 - val_root_mean_squared_error: 1.1175\n",
      "Epoch 48/50\n",
      "40/40 [==============================] - 0s 4ms/step - loss: 1.0168 - root_mean_squared_error: 1.0084 - val_loss: 1.2474 - val_root_mean_squared_error: 1.1169\n"
     ]
    },
    {
     "name": "stdout",
     "output_type": "stream",
     "text": [
      "Epoch 49/50\n",
      "40/40 [==============================] - 0s 4ms/step - loss: 1.0157 - root_mean_squared_error: 1.0078 - val_loss: 1.2461 - val_root_mean_squared_error: 1.1163\n",
      "Epoch 50/50\n",
      "40/40 [==============================] - 0s 4ms/step - loss: 1.0147 - root_mean_squared_error: 1.0073 - val_loss: 1.2448 - val_root_mean_squared_error: 1.1157\n"
     ]
    }
   ],
   "source": [
    "log_dir = \"logs/fit/\" + datetime.datetime.now().strftime(\"%Y%m%d-%H%M%S\")\n",
    "tensorboard_callback = tf.keras.callbacks.TensorBoard(log_dir=log_dir, histogram_freq=1)\n",
    "\n",
    "history = model.fit(train_dataset, validation_data = test_dataset, epochs = EPOCHS, callbacks=[tensorboard_callback])"
   ]
  },
  {
   "cell_type": "code",
   "execution_count": 552,
   "id": "fc122e1a",
   "metadata": {},
   "outputs": [
    {
     "data": {
      "image/png": "[encoded data removed]",
      "text/plain": [
       "<Figure size 576x288 with 1 Axes>"
      ]
     },
     "metadata": {
      "needs_background": "light"
     },
     "output_type": "display_data"
    }
   ],
   "source": [
    "plt.figure(figsize=(8, 4))\n",
    "plt.plot(history.epoch, history.history['root_mean_squared_error'], label = 'train')\n",
    "plt.plot(history.epoch, history.history['val_root_mean_squared_error'], label = 'test')\n",
    "plt.title('RMSE learning - TensorFlow')\n",
    "plt.legend()\n",
    "plt.show()"
   ]
  },
  {
   "cell_type": "code",
   "execution_count": null,
   "id": "0afd4343",
   "metadata": {},
   "outputs": [],
   "source": []
  },
  {
   "cell_type": "markdown",
   "id": "22c3d6e9",
   "metadata": {},
   "source": [
    "Check tuned weights"
   ]
  },
  {
   "cell_type": "code",
   "execution_count": 521,
   "id": "a2862f0f",
   "metadata": {},
   "outputs": [
    {
     "data": {
      "text/plain": [
       "[<keras.layers.core.dense.Dense at 0x268216c9340>,\n",
       " <keras.layers.core.dense.Dense at 0x268216aac70>]"
      ]
     },
     "execution_count": 521,
     "metadata": {},
     "output_type": "execute_result"
    }
   ],
   "source": [
    "model.layers"
   ]
  },
  {
   "cell_type": "code",
   "execution_count": 522,
   "id": "97fc41da",
   "metadata": {},
   "outputs": [
    {
     "data": {
      "text/plain": [
       "[array([[-0.2773961 ,  0.15915233, -0.3882694 ,  0.43514067, -0.19979078,\n",
       "         -0.9241295 , -0.13114335,  0.5439763 ,  0.22312748,  0.45713684],\n",
       "        [-1.058975  , -0.9234115 , -0.47838262, -0.41870007,  0.07130191,\n",
       "         -1.0665795 , -0.4518924 ,  0.9233572 ,  0.4943078 ,  0.9881111 ],\n",
       "        [ 0.9985946 ,  0.33496082,  0.7540114 , -0.24981283, -0.21149775,\n",
       "          0.9678238 ,  0.4769239 , -0.9658604 , -0.83213264, -0.74734354],\n",
       "        [ 0.19648325,  0.7531424 ,  0.46130264,  0.15285146,  0.31007582,\n",
       "          0.50723606,  1.0455914 , -1.5069048 , -0.17824586, -0.30560127]],\n",
       "       dtype=float32),\n",
       " array([-0.11333323,  0.17961136,  0.37786236, -0.00927476, -0.13619752,\n",
       "         0.29720107,  0.38980415,  0.21114005,  0.09650008,  0.24481063],\n",
       "       dtype=float32)]"
      ]
     },
     "execution_count": 522,
     "metadata": {},
     "output_type": "execute_result"
    }
   ],
   "source": [
    "model.layers[0].get_weights()"
   ]
  },
  {
   "cell_type": "code",
   "execution_count": 523,
   "id": "ce03a891",
   "metadata": {},
   "outputs": [
    {
     "data": {
      "text/plain": [
       "[array([[-0.5996448 ],\n",
       "        [-0.37057444],\n",
       "        [-0.615162  ],\n",
       "        [ 0.15382332],\n",
       "        [-0.20188062],\n",
       "        [-0.42453787],\n",
       "        [-0.42316556],\n",
       "        [ 0.6326627 ],\n",
       "        [ 0.57920146],\n",
       "        [ 0.9498263 ]], dtype=float32),\n",
       " array([0.13870725], dtype=float32)]"
      ]
     },
     "execution_count": 523,
     "metadata": {},
     "output_type": "execute_result"
    }
   ],
   "source": [
    "model.layers[1].get_weights()"
   ]
  },
  {
   "cell_type": "code",
   "execution_count": null,
   "id": "97fcfbf1",
   "metadata": {},
   "outputs": [],
   "source": []
  },
  {
   "cell_type": "markdown",
   "id": "f32b08a4",
   "metadata": {},
   "source": [
    "Check TensorBoard"
   ]
  },
  {
   "cell_type": "markdown",
   "id": "9835dec0",
   "metadata": {},
   "source": [
    "If need to kill: C:\\Users\\krist\\AppData\\Local\\Temp\\.tensorboard-info"
   ]
  },
  {
   "cell_type": "code",
   "execution_count": 524,
   "id": "eeca9cde",
   "metadata": {},
   "outputs": [],
   "source": [
    "#%tensorboard --logdir logs/fit"
   ]
  },
  {
   "cell_type": "code",
   "execution_count": null,
   "id": "cdd6af1d",
   "metadata": {},
   "outputs": [],
   "source": []
  },
  {
   "cell_type": "markdown",
   "id": "998110d3",
   "metadata": {},
   "source": [
    "\n",
    "### PyTorch"
   ]
  },
  {
   "cell_type": "code",
   "execution_count": 3,
   "id": "c5c1cd11",
   "metadata": {},
   "outputs": [],
   "source": [
    "# import torch\n",
    "\n",
    "from torch.utils.data import TensorDataset, DataLoader\n",
    "\n",
    "import torch.nn as nn \n",
    "import torch.nn.functional as F\n",
    "import torch.optim as optim"
   ]
  },
  {
   "cell_type": "markdown",
   "id": "891be489",
   "metadata": {},
   "source": [
    "Try some activations"
   ]
  },
  {
   "cell_type": "code",
   "execution_count": 526,
   "id": "fd2f5fc1",
   "metadata": {},
   "outputs": [
    {
     "name": "stdout",
     "output_type": "stream",
     "text": [
      "tensor(0.2300)\n",
      "tensor(0.2300)\n",
      "tensor(0.2300)\n",
      "tensor(0.2300)\n",
      "tensor(0.1359)\n",
      "tensor(0.5572)\n",
      "tensor(1.)\n",
      "tensor(0.2260)\n"
     ]
    }
   ],
   "source": [
    "i = np.array(0.23)\n",
    "i = torch.Tensor(i)\n",
    "\n",
    "print(F.elu(i))\n",
    "print(F.relu(i))\n",
    "print(F.leaky_relu(i))\n",
    "print(F.celu(i))\n",
    "print(F.gelu(i))\n",
    "print(F.sigmoid(i))\n",
    "print(F.softmax(i))\n",
    "print(F.tanh(i))"
   ]
  },
  {
   "cell_type": "code",
   "execution_count": 527,
   "id": "221da36e",
   "metadata": {},
   "outputs": [
    {
     "name": "stdout",
     "output_type": "stream",
     "text": [
      "tensor(-0.2055)\n",
      "tensor(0.)\n",
      "tensor(-0.0023)\n",
      "tensor(-0.2055)\n",
      "tensor(-0.0941)\n",
      "tensor(0.4428)\n",
      "tensor(1.)\n",
      "tensor(-0.2260)\n"
     ]
    }
   ],
   "source": [
    "i = np.array(-0.23)\n",
    "i = torch.Tensor(i)\n",
    "\n",
    "print(F.elu(i))\n",
    "print(F.relu(i))\n",
    "print(F.leaky_relu(i))\n",
    "print(F.celu(i))\n",
    "print(F.gelu(i))\n",
    "print(F.sigmoid(i))\n",
    "print(F.softmax(i))\n",
    "print(F.tanh(i))"
   ]
  },
  {
   "cell_type": "code",
   "execution_count": 528,
   "id": "48d52b12",
   "metadata": {},
   "outputs": [],
   "source": [
    "torch_train_data = TensorDataset(torch.Tensor(X_train), torch.Tensor(y_train))\n",
    "torch_train_data = DataLoader(torch_train_data, batch_size = BATCH_SIZE)\n",
    "\n",
    "torch_test_data = TensorDataset(torch.Tensor(X_test), torch.Tensor(y_test))\n",
    "torch_test_data = DataLoader(torch_test_data, batch_size = BATCH_SIZE)"
   ]
  },
  {
   "cell_type": "code",
   "execution_count": 529,
   "id": "3c9936c3",
   "metadata": {},
   "outputs": [
    {
     "data": {
      "text/plain": [
       "<torch.utils.data.dataloader.DataLoader at 0x26822e4eee0>"
      ]
     },
     "execution_count": 529,
     "metadata": {},
     "output_type": "execute_result"
    }
   ],
   "source": [
    "torch_train_data"
   ]
  },
  {
   "cell_type": "code",
   "execution_count": 530,
   "id": "7b88f803",
   "metadata": {},
   "outputs": [
    {
     "data": {
      "text/plain": [
       "<torch.utils.data.dataset.TensorDataset at 0x26822ed79a0>"
      ]
     },
     "execution_count": 530,
     "metadata": {},
     "output_type": "execute_result"
    }
   ],
   "source": [
    "torch_train_data.dataset"
   ]
  },
  {
   "cell_type": "code",
   "execution_count": 531,
   "id": "756b9fda",
   "metadata": {},
   "outputs": [
    {
     "data": {
      "text/plain": [
       "torch.Size([800, 4])"
      ]
     },
     "execution_count": 531,
     "metadata": {},
     "output_type": "execute_result"
    }
   ],
   "source": [
    "torch_train_data.dataset.tensors[0].shape"
   ]
  },
  {
   "cell_type": "code",
   "execution_count": 532,
   "id": "0858c60f",
   "metadata": {},
   "outputs": [
    {
     "data": {
      "text/plain": [
       "torch.Size([800])"
      ]
     },
     "execution_count": 532,
     "metadata": {},
     "output_type": "execute_result"
    }
   ],
   "source": [
    "torch_train_data.dataset.tensors[1].shape"
   ]
  },
  {
   "cell_type": "code",
   "execution_count": 533,
   "id": "98860f65",
   "metadata": {},
   "outputs": [
    {
     "data": {
      "text/plain": [
       "20"
      ]
     },
     "execution_count": 533,
     "metadata": {},
     "output_type": "execute_result"
    }
   ],
   "source": [
    "torch_train_data.batch_size"
   ]
  },
  {
   "cell_type": "code",
   "execution_count": null,
   "id": "45144e2c",
   "metadata": {},
   "outputs": [],
   "source": []
  },
  {
   "cell_type": "code",
   "execution_count": 534,
   "id": "9ceca186",
   "metadata": {},
   "outputs": [
    {
     "data": {
      "text/plain": [
       "torch.Size([800])"
      ]
     },
     "execution_count": 534,
     "metadata": {},
     "output_type": "execute_result"
    }
   ],
   "source": [
    "torch_train_data.dataset.tensors[1].shape"
   ]
  },
  {
   "cell_type": "code",
   "execution_count": null,
   "id": "bfb5420c",
   "metadata": {},
   "outputs": [],
   "source": []
  },
  {
   "cell_type": "markdown",
   "id": "a3c39101",
   "metadata": {},
   "source": [
    "Match structure of model built with TensorFlow"
   ]
  },
  {
   "cell_type": "code",
   "execution_count": 553,
   "id": "b913f018",
   "metadata": {},
   "outputs": [],
   "source": [
    "class Simple_torch_NN(nn.Module):\n",
    "    \n",
    "    def __init__(self):\n",
    "        \n",
    "        super(Simple_torch_NN, self).__init__()\n",
    "        \n",
    "        self.hidden = nn.Linear(4, 10)\n",
    "        self.output = nn.Linear(10, 1)\n",
    " \n",
    "    def forward(self, x):\n",
    "        \n",
    "        x = F.relu(self.hidden(x))\n",
    "        x = self.output(x)\n",
    "        \n",
    "        return x"
   ]
  },
  {
   "cell_type": "code",
   "execution_count": 554,
   "id": "87941145",
   "metadata": {},
   "outputs": [],
   "source": [
    "torch_model = Simple_torch_NN()"
   ]
  },
  {
   "cell_type": "code",
   "execution_count": 555,
   "id": "6dd14d24",
   "metadata": {},
   "outputs": [
    {
     "data": {
      "text/plain": [
       "Simple_torch_NN(\n",
       "  (hidden): Linear(in_features=4, out_features=10, bias=True)\n",
       "  (output): Linear(in_features=10, out_features=1, bias=True)\n",
       ")"
      ]
     },
     "execution_count": 555,
     "metadata": {},
     "output_type": "execute_result"
    }
   ],
   "source": [
    "torch_model"
   ]
  },
  {
   "cell_type": "markdown",
   "id": "fad69732",
   "metadata": {},
   "source": [
    "Initial random weights"
   ]
  },
  {
   "cell_type": "code",
   "execution_count": 556,
   "id": "dcbc36e9",
   "metadata": {},
   "outputs": [
    {
     "name": "stdout",
     "output_type": "stream",
     "text": [
      "Layer: hidden.weight | Size: torch.Size([10, 4]) | Values : Parameter containing:\n",
      "tensor([[ 0.1863,  0.0018,  0.2617, -0.4968],\n",
      "        [ 0.2967,  0.0464,  0.2237,  0.4651],\n",
      "        [-0.4103, -0.1943, -0.1160,  0.2010],\n",
      "        [ 0.3958, -0.2776, -0.1681,  0.4904],\n",
      "        [-0.1974,  0.1568, -0.1762, -0.2345],\n",
      "        [ 0.2704,  0.4620,  0.0917, -0.3370],\n",
      "        [ 0.1598,  0.0474, -0.0711,  0.2482],\n",
      "        [-0.2522, -0.2058,  0.0388,  0.4035],\n",
      "        [-0.0330, -0.2633,  0.1526,  0.0222],\n",
      "        [-0.3375,  0.3171, -0.1441,  0.2121]], requires_grad=True) \n",
      "\n",
      "Layer: hidden.bias | Size: torch.Size([10]) | Values : Parameter containing:\n",
      "tensor([-0.4329, -0.3356, -0.2047, -0.3964,  0.3008,  0.3874,  0.0874,  0.4122,\n",
      "        -0.2603, -0.4172], requires_grad=True) \n",
      "\n",
      "Layer: output.weight | Size: torch.Size([1, 10]) | Values : Parameter containing:\n",
      "tensor([[ 0.0831,  0.1377,  0.2567, -0.1347, -0.1967,  0.2156,  0.1129, -0.0076,\n",
      "          0.0851, -0.1361]], requires_grad=True) \n",
      "\n",
      "Layer: output.bias | Size: torch.Size([1]) | Values : Parameter containing:\n",
      "tensor([0.2485], requires_grad=True) \n",
      "\n"
     ]
    }
   ],
   "source": [
    "# for param in torch_model.parameters():\n",
    "#     print(param, '\\n')\n",
    "\n",
    "for name, param in torch_model.named_parameters():\n",
    "    print(f\"Layer: {name} | Size: {param.size()} | Values : {param} \\n\")"
   ]
  },
  {
   "cell_type": "markdown",
   "id": "4de9f99c",
   "metadata": {},
   "source": [
    "Compile"
   ]
  },
  {
   "cell_type": "code",
   "execution_count": 557,
   "id": "2fc3f468",
   "metadata": {},
   "outputs": [],
   "source": [
    "optimizer = optim.Adam(torch_model.parameters(), eps = 1e-07) # to match TF\n",
    "loss = nn.MSELoss()"
   ]
  },
  {
   "cell_type": "code",
   "execution_count": null,
   "id": "39cb5cbf",
   "metadata": {},
   "outputs": [],
   "source": []
  },
  {
   "cell_type": "markdown",
   "id": "515f58ad",
   "metadata": {},
   "source": [
    "Train\n",
    "\n",
    "- For PyTorch when training a model set it to `.train()`, when using it for inference set it to `.eval()`\n",
    "- During training in each epoch's each batch reset the gradients by `optimizer.zero_grad()`\n",
    "- Suggestion is to create 1 function for training, 1 for evaluating\n"
   ]
  },
  {
   "cell_type": "code",
   "execution_count": 4,
   "id": "567c73c1",
   "metadata": {},
   "outputs": [],
   "source": [
    "train_losses = []\n",
    "valid_losses = []\n",
    "\n",
    "def train_loop(dataloader, model, loss_fn, optimizer):\n",
    "    \n",
    "    model.train()\n",
    "\n",
    "    num_batches = len(dataloader)\n",
    "    train_loss = 0\n",
    "    \n",
    "    for data, target in dataloader:\n",
    "        \n",
    "        # zero out gradient\n",
    "        optimizer.zero_grad()\n",
    "        \n",
    "        # Compute prediction and loss\n",
    "        pred = model(data)\n",
    "        loss = loss_fn(pred, target.reshape(-1,1)) # spent 3 hours on this: target and pred need to be of same shape (-1,1)\n",
    "\n",
    "        # Backpropagation\n",
    "        loss.backward()\n",
    "        optimizer.step()\n",
    "\n",
    "        train_loss += loss.item()**(1/2)\n",
    "    \n",
    "    train_loss /= num_batches\n",
    "    train_losses.append(train_loss)\n",
    "    print(f\"Losses -- train: {train_loss:>8f}\", end = ' -- ')\n",
    "\n",
    "\n",
    "def test_loop(dataloader, model, loss_fn):\n",
    "    \n",
    "    model.eval()\n",
    "     \n",
    "    num_batches = len(dataloader)\n",
    "    test_loss = 0\n",
    "\n",
    "    with torch.no_grad():\n",
    "        \n",
    "        for data, target in dataloader:\n",
    "            \n",
    "            pred = model(data)\n",
    "            test_loss += loss_fn(pred, target.reshape(-1,1)).item()**(1/2)\n",
    "\n",
    "    test_loss /= num_batches\n",
    "    valid_losses.append(test_loss)\n",
    "    print(f\"test: {test_loss:>8f} \\n\") "
   ]
  },
  {
   "cell_type": "code",
   "execution_count": 559,
   "id": "7e0ea69b",
   "metadata": {
    "scrolled": true
   },
   "outputs": [
    {
     "name": "stdout",
     "output_type": "stream",
     "text": [
      "Epoch 1\n",
      "-------------------------------\n",
      "Losses -- train: 3.604390 -- test: 3.593910 \n",
      "\n",
      "Epoch 2\n",
      "-------------------------------\n",
      "Losses -- train: 3.527658 -- test: 3.516764 \n",
      "\n",
      "Epoch 3\n",
      "-------------------------------\n",
      "Losses -- train: 3.441705 -- test: 3.425778 \n",
      "\n",
      "Epoch 4\n",
      "-------------------------------\n",
      "Losses -- train: 3.337106 -- test: 3.313109 \n",
      "\n",
      "Epoch 5\n",
      "-------------------------------\n",
      "Losses -- train: 3.207246 -- test: 3.172186 \n",
      "\n",
      "Epoch 6\n",
      "-------------------------------\n",
      "Losses -- train: 3.047611 -- test: 3.000088 \n",
      "\n",
      "Epoch 7\n",
      "-------------------------------\n",
      "Losses -- train: 2.856349 -- test: 2.797827 \n",
      "\n",
      "Epoch 8\n",
      "-------------------------------\n",
      "Losses -- train: 2.635785 -- test: 2.569645 \n",
      "\n",
      "Epoch 9\n",
      "-------------------------------\n",
      "Losses -- train: 2.392843 -- test: 2.326210 \n",
      "\n",
      "Epoch 10\n",
      "-------------------------------\n",
      "Losses -- train: 2.135528 -- test: 2.075791 \n",
      "\n",
      "Epoch 11\n",
      "-------------------------------\n",
      "Losses -- train: 1.876157 -- test: 1.833869 \n",
      "\n",
      "Epoch 12\n",
      "-------------------------------\n",
      "Losses -- train: 1.636961 -- test: 1.624745 \n",
      "\n",
      "Epoch 13\n",
      "-------------------------------\n",
      "Losses -- train: 1.439974 -- test: 1.461889 \n",
      "\n",
      "Epoch 14\n",
      "-------------------------------\n",
      "Losses -- train: 1.292358 -- test: 1.346572 \n",
      "\n",
      "Epoch 15\n",
      "-------------------------------\n",
      "Losses -- train: 1.190414 -- test: 1.268994 \n",
      "\n",
      "Epoch 16\n",
      "-------------------------------\n",
      "Losses -- train: 1.123829 -- test: 1.218960 \n",
      "\n",
      "Epoch 17\n",
      "-------------------------------\n",
      "Losses -- train: 1.082049 -- test: 1.188074 \n",
      "\n",
      "Epoch 18\n",
      "-------------------------------\n",
      "Losses -- train: 1.056737 -- test: 1.169263 \n",
      "\n",
      "Epoch 19\n",
      "-------------------------------\n",
      "Losses -- train: 1.041710 -- test: 1.157894 \n",
      "\n",
      "Epoch 20\n",
      "-------------------------------\n",
      "Losses -- train: 1.032727 -- test: 1.150904 \n",
      "\n",
      "Epoch 21\n",
      "-------------------------------\n",
      "Losses -- train: 1.027057 -- test: 1.146351 \n",
      "\n",
      "Epoch 22\n",
      "-------------------------------\n",
      "Losses -- train: 1.023230 -- test: 1.143152 \n",
      "\n",
      "Epoch 23\n",
      "-------------------------------\n",
      "Losses -- train: 1.020533 -- test: 1.140906 \n",
      "\n",
      "Epoch 24\n",
      "-------------------------------\n",
      "Losses -- train: 1.018497 -- test: 1.139233 \n",
      "\n",
      "Epoch 25\n",
      "-------------------------------\n",
      "Losses -- train: 1.016819 -- test: 1.137809 \n",
      "\n",
      "Epoch 26\n",
      "-------------------------------\n",
      "Losses -- train: 1.015415 -- test: 1.136549 \n",
      "\n",
      "Epoch 27\n",
      "-------------------------------\n",
      "Losses -- train: 1.014189 -- test: 1.135434 \n",
      "\n",
      "Epoch 28\n",
      "-------------------------------\n",
      "Losses -- train: 1.013067 -- test: 1.134396 \n",
      "\n",
      "Epoch 29\n",
      "-------------------------------\n",
      "Losses -- train: 1.012034 -- test: 1.133429 \n",
      "\n",
      "Epoch 30\n",
      "-------------------------------\n",
      "Losses -- train: 1.011035 -- test: 1.132543 \n",
      "\n",
      "Epoch 31\n",
      "-------------------------------\n",
      "Losses -- train: 1.010075 -- test: 1.131672 \n",
      "\n",
      "Epoch 32\n",
      "-------------------------------\n",
      "Losses -- train: 1.009183 -- test: 1.130898 \n",
      "\n",
      "Epoch 33\n",
      "-------------------------------\n",
      "Losses -- train: 1.008328 -- test: 1.130038 \n",
      "\n",
      "Epoch 34\n",
      "-------------------------------\n",
      "Losses -- train: 1.007490 -- test: 1.129152 \n",
      "\n",
      "Epoch 35\n",
      "-------------------------------\n",
      "Losses -- train: 1.006654 -- test: 1.128283 \n",
      "\n",
      "Epoch 36\n",
      "-------------------------------\n",
      "Losses -- train: 1.005845 -- test: 1.127411 \n",
      "\n",
      "Epoch 37\n",
      "-------------------------------\n",
      "Losses -- train: 1.005045 -- test: 1.126522 \n",
      "\n",
      "Epoch 38\n",
      "-------------------------------\n",
      "Losses -- train: 1.004244 -- test: 1.125645 \n",
      "\n",
      "Epoch 39\n",
      "-------------------------------\n",
      "Losses -- train: 1.003408 -- test: 1.124835 \n",
      "\n",
      "Epoch 40\n",
      "-------------------------------\n",
      "Losses -- train: 1.002569 -- test: 1.124043 \n",
      "\n",
      "Epoch 41\n",
      "-------------------------------\n",
      "Losses -- train: 1.001722 -- test: 1.123227 \n",
      "\n",
      "Epoch 42\n",
      "-------------------------------\n",
      "Losses -- train: 1.000886 -- test: 1.122494 \n",
      "\n",
      "Epoch 43\n",
      "-------------------------------\n",
      "Losses -- train: 1.000059 -- test: 1.121752 \n",
      "\n",
      "Epoch 44\n",
      "-------------------------------\n",
      "Losses -- train: 0.999276 -- test: 1.121102 \n",
      "\n",
      "Epoch 45\n",
      "-------------------------------\n",
      "Losses -- train: 0.998469 -- test: 1.120466 \n",
      "\n",
      "Epoch 46\n",
      "-------------------------------\n",
      "Losses -- train: 0.997678 -- test: 1.119815 \n",
      "\n",
      "Epoch 47\n",
      "-------------------------------\n",
      "Losses -- train: 0.996928 -- test: 1.119205 \n",
      "\n",
      "Epoch 48\n",
      "-------------------------------\n",
      "Losses -- train: 0.996173 -- test: 1.118603 \n",
      "\n",
      "Epoch 49\n",
      "-------------------------------\n",
      "Losses -- train: 0.995397 -- test: 1.117966 \n",
      "\n",
      "Epoch 50\n",
      "-------------------------------\n",
      "Losses -- train: 0.994626 -- test: 1.117419 \n",
      "\n",
      "Done!\n"
     ]
    }
   ],
   "source": [
    "for t in range(EPOCHS):\n",
    "    \n",
    "    print(f\"Epoch {t+1}\\n-------------------------------\")\n",
    "    train_loop(torch_train_data, torch_model, loss, optimizer)\n",
    "    test_loop(torch_test_data, torch_model, loss)\n",
    "    \n",
    "print(\"Done!\")"
   ]
  },
  {
   "cell_type": "code",
   "execution_count": 560,
   "id": "11bfd73b",
   "metadata": {},
   "outputs": [
    {
     "data": {
      "image/png": "[encoded data removed]",
      "text/plain": [
       "<Figure size 576x288 with 1 Axes>"
      ]
     },
     "metadata": {
      "needs_background": "light"
     },
     "output_type": "display_data"
    }
   ],
   "source": [
    "plt.figure(figsize=(8, 4))\n",
    "plt.plot([i for i in range(EPOCHS)], train_losses, label = 'train')\n",
    "plt.plot([i for i in range(EPOCHS)], valid_losses, label = 'test')\n",
    "plt.title('RMSE learning - PyTorch')\n",
    "plt.legend()\n",
    "plt.show()"
   ]
  },
  {
   "cell_type": "code",
   "execution_count": null,
   "id": "b16fdb93",
   "metadata": {},
   "outputs": [],
   "source": []
  },
  {
   "cell_type": "markdown",
   "id": "49a14745",
   "metadata": {},
   "source": [
    "Check if PyTorch model is in `eval()` or `train()` mode"
   ]
  },
  {
   "cell_type": "code",
   "execution_count": 561,
   "id": "8ea2f805",
   "metadata": {},
   "outputs": [
    {
     "data": {
      "text/plain": [
       "False"
      ]
     },
     "execution_count": 561,
     "metadata": {},
     "output_type": "execute_result"
    }
   ],
   "source": [
    "torch_model.training"
   ]
  },
  {
   "cell_type": "code",
   "execution_count": null,
   "id": "f7919271",
   "metadata": {},
   "outputs": [],
   "source": []
  },
  {
   "cell_type": "markdown",
   "id": "ffadfa2e",
   "metadata": {},
   "source": [
    "Check layer gradients"
   ]
  },
  {
   "cell_type": "code",
   "execution_count": 562,
   "id": "1db3e0b7",
   "metadata": {},
   "outputs": [
    {
     "data": {
      "text/plain": [
       "Parameter containing:\n",
       "tensor([0.1037], requires_grad=True)"
      ]
     },
     "execution_count": 562,
     "metadata": {},
     "output_type": "execute_result"
    }
   ],
   "source": [
    "torch_model.output.bias"
   ]
  },
  {
   "cell_type": "code",
   "execution_count": 563,
   "id": "9efca716",
   "metadata": {},
   "outputs": [
    {
     "data": {
      "text/plain": [
       "tensor([-0.1139])"
      ]
     },
     "execution_count": 563,
     "metadata": {},
     "output_type": "execute_result"
    }
   ],
   "source": [
    "torch_model.output.bias.grad"
   ]
  },
  {
   "cell_type": "code",
   "execution_count": null,
   "id": "94f0c879",
   "metadata": {},
   "outputs": [],
   "source": []
  },
  {
   "cell_type": "markdown",
   "id": "02d89510",
   "metadata": {},
   "source": [
    "TF and torch reached similar losses with the same structured models and running for same number of epochs"
   ]
  },
  {
   "cell_type": "code",
   "execution_count": 564,
   "id": "7736a001",
   "metadata": {},
   "outputs": [
    {
     "name": "stdout",
     "output_type": "stream",
     "text": [
      "Last train loss reached with TensorFlow: 1.0073187351226807\n",
      "Last train loss reached with PyTorch: 0.9946260571630903\n"
     ]
    }
   ],
   "source": [
    "print('Last train loss reached with TensorFlow:', history.history['root_mean_squared_error'][-1])\n",
    "print('Last train loss reached with PyTorch:', train_losses[-1])"
   ]
  },
  {
   "cell_type": "code",
   "execution_count": null,
   "id": "7298e382",
   "metadata": {},
   "outputs": [],
   "source": []
  },
  {
   "cell_type": "markdown",
   "id": "cae58127",
   "metadata": {},
   "source": [
    "#### Make predictions"
   ]
  },
  {
   "cell_type": "code",
   "execution_count": 565,
   "id": "2614f7a7",
   "metadata": {},
   "outputs": [
    {
     "name": "stdout",
     "output_type": "stream",
     "text": [
      "Test Performances\n",
      " ---------------------------------------- \n",
      "\n",
      "RMSE TF: 1.1157064034589026\n",
      "RMSE PyTorch: 1.1344944923938338\n",
      "\n",
      "\n",
      "RMSE LinReg: 1.0598040720997706\n"
     ]
    }
   ],
   "source": [
    "print('Test Performances\\n', '--' * 20, '\\n')\n",
    "\n",
    "TF_predictions = model.predict(X_test)\n",
    "torch_predictions = torch_model(torch_test_data.dataset.tensors[0])\n",
    "\n",
    "print('RMSE TF:', mean_squared_error(y_test, TF_predictions, squared=False))\n",
    "print('RMSE PyTorch:', mean_squared_error(y_test, torch_predictions.detach().numpy(), squared=False))\n",
    "print('\\n')\n",
    "print('RMSE LinReg:', mean_squared_error(y_test, lr.predict(X_test), squared=False))"
   ]
  },
  {
   "cell_type": "code",
   "execution_count": null,
   "id": "8bc4b3c0",
   "metadata": {},
   "outputs": [],
   "source": []
  },
  {
   "cell_type": "code",
   "execution_count": null,
   "id": "be299448",
   "metadata": {},
   "outputs": [],
   "source": []
  },
  {
   "cell_type": "markdown",
   "id": "8b6de95e",
   "metadata": {},
   "source": [
    "## PyTorch general guidelines\n",
    "\n",
    "1. Define model class\n",
    "    - init: layers\n",
    "    - forward: activations of layers, forward pass of training samples\n",
    "    \n",
    "    ```python\n",
    "    from torch import nn\n",
    "\n",
    "    class model(nn.Module):        \n",
    "        def __init__(self):        \n",
    "            super(model, self).__init__()            \n",
    "            # Define Model Here\n",
    "\n",
    "        def forward(self, x):        \n",
    "            # Define Forward Pass Here            \n",
    "            return x\n",
    "    \n",
    "    ```\n",
    "    \n",
    "2. Set compilers\n",
    "    - loss: function to minimize\n",
    "    - optimizer: optimizer's parameters are `model.parameters()`\n",
    "    \n",
    "    ```python\n",
    "    optimizer = optim.Adam(model.parameters())\n",
    "    loss_fn = nn.MSELoss()\n",
    "    ```\n",
    "    \n",
    "    Always check how the loss function is computed (i.e: CrossEntropyLoss() includes softmax, so last layer does not need to be activated via softmax)\n",
    "    \n",
    "    \n",
    "3. Train and test (evaluate) functions\n",
    "\n",
    "    - train: `model.train()`\n",
    "    - evaluate / inference: `model.eval()` and `with torch.nograd()` (use both, eval changes forward function)\n",
    "    - **pred and target must have same shape (-1,1), otherwise loss won't be calculated properly**\n",
    "\n",
    "**Training without validation**\n",
    "    \n",
    "```python\n",
    "epochs = 5\n",
    "for e in range(epochs):\n",
    "    model.train()\n",
    "    train_loss = 0        \n",
    "\n",
    "    for X, y in trainloader:\n",
    "\n",
    "        # Transfer Data to GPU if available\n",
    "        if torch.cuda.is_available():\n",
    "            data, labels = data.cuda(), labels.cuda()\n",
    "\n",
    "        # Clear the gradients\n",
    "        optimizer.zero_grad()\n",
    "        # Forward Pass\n",
    "        pred = model(X)\n",
    "        # Find the Loss\n",
    "        loss = loss_fn(pred,y)\n",
    "        # Calculate gradients via backpropagation\n",
    "        loss.backward()\n",
    "        # Update Weights\n",
    "        optimizer.step()\n",
    "        # Calculate Loss\n",
    "        train_loss += loss.item()\n",
    "\n",
    "    print(f'Epoch {e+1} \\t\\t Training Loss: {train_loss / len(trainloader)}')\n",
    "\n",
    "```\n",
    "**Training with test set:**    \n",
    "\n",
    "```python\n",
    "epochs = 5\n",
    "for e in range(epochs):\n",
    "    train_loss = 0\n",
    "    model.train() \n",
    "    for X, y in trainloader:\n",
    "\n",
    "        if torch.cuda.is_available():\n",
    "            X, y = X.cuda(), y.cuda()\n",
    "\n",
    "        optimizer.zero_grad()\n",
    "        pred = model(X)\n",
    "        loss = loss_fn(pred,y)\n",
    "        loss.backward()\n",
    "        optimizer.step()\n",
    "        train_loss += loss.item()\n",
    "\n",
    "    valid_loss = 0        \n",
    "    model.eval()   \n",
    "\n",
    "    with torch.no_grad():\n",
    "\n",
    "        for X, y in validloader:\n",
    "\n",
    "            if torch.cuda.is_available():\n",
    "                X, y = X.cuda(), y.cuda()\n",
    "\n",
    "            pred = model(X)\n",
    "            loss = loss_fn(pred, y)\n",
    "            valid_loss += loss.item()        \n",
    "\n",
    "    print(f'Epoch {e+1} \\t\\t Training Loss: {train_loss / len(trainloader)} \\t\\t \\\n",
    "          Validation Loss: {valid_loss / len(validloader)}')\n",
    "```\n",
    "    \n",
    "\n",
    "    \n"
   ]
  },
  {
   "cell_type": "code",
   "execution_count": null,
   "id": "018f151c",
   "metadata": {},
   "outputs": [],
   "source": []
  },
  {
   "cell_type": "markdown",
   "id": "5b09dd7a",
   "metadata": {},
   "source": [
    "### Try a same neural net without `relu` activation (less nonlinearities to model)"
   ]
  },
  {
   "cell_type": "code",
   "execution_count": 611,
   "id": "60ebeff1",
   "metadata": {
    "scrolled": true
   },
   "outputs": [
    {
     "name": "stdout",
     "output_type": "stream",
     "text": [
      "Deep_torch_NN(\n",
      "  (hidden1): Linear(in_features=4, out_features=10, bias=True)\n",
      "  (output): Linear(in_features=10, out_features=1, bias=True)\n",
      ")\n",
      "Epoch 1\n",
      "-------------------------------\n",
      "Losses -- train: 3.874396 -- test: 3.793321 \n",
      "\n",
      "Epoch 2\n",
      "-------------------------------\n",
      "Losses -- train: 3.680959 -- test: 3.612023 \n",
      "\n",
      "Epoch 3\n",
      "-------------------------------\n",
      "Losses -- train: 3.499417 -- test: 3.430854 \n",
      "\n",
      "Epoch 4\n",
      "-------------------------------\n",
      "Losses -- train: 3.307459 -- test: 3.230786 \n",
      "\n",
      "Epoch 5\n",
      "-------------------------------\n",
      "Losses -- train: 3.089799 -- test: 3.000800 \n",
      "\n",
      "Epoch 6\n",
      "-------------------------------\n",
      "Losses -- train: 2.839231 -- test: 2.737672 \n",
      "\n",
      "Epoch 7\n",
      "-------------------------------\n",
      "Losses -- train: 2.556229 -- test: 2.445765 \n",
      "\n",
      "Epoch 8\n",
      "-------------------------------\n",
      "Losses -- train: 2.249175 -- test: 2.137631 \n",
      "\n",
      "Epoch 9\n",
      "-------------------------------\n",
      "Losses -- train: 1.935048 -- test: 1.834304 \n",
      "\n",
      "Epoch 10\n",
      "-------------------------------\n",
      "Losses -- train: 1.638700 -- test: 1.562734 \n",
      "\n",
      "Epoch 11\n",
      "-------------------------------\n",
      "Losses -- train: 1.388067 -- test: 1.348120 \n",
      "\n",
      "Epoch 12\n",
      "-------------------------------\n",
      "Losses -- train: 1.204003 -- test: 1.202660 \n",
      "\n",
      "Epoch 13\n",
      "-------------------------------\n",
      "Losses -- train: 1.089439 -- test: 1.119290 \n",
      "\n",
      "Epoch 14\n",
      "-------------------------------\n",
      "Losses -- train: 1.028908 -- test: 1.078346 \n",
      "\n",
      "Epoch 15\n",
      "-------------------------------\n",
      "Losses -- train: 1.000782 -- test: 1.060453 \n",
      "\n",
      "Epoch 16\n",
      "-------------------------------\n",
      "Losses -- train: 0.988623 -- test: 1.053193 \n",
      "\n",
      "Epoch 17\n",
      "-------------------------------\n",
      "Losses -- train: 0.983440 -- test: 1.050388 \n",
      "\n",
      "Epoch 18\n",
      "-------------------------------\n",
      "Losses -- train: 0.981166 -- test: 1.049372 \n",
      "\n",
      "Epoch 19\n",
      "-------------------------------\n",
      "Losses -- train: 0.980121 -- test: 1.049061 \n",
      "\n",
      "Epoch 20\n",
      "-------------------------------\n",
      "Losses -- train: 0.979621 -- test: 1.049020 \n",
      "\n"
     ]
    }
   ],
   "source": [
    "#####################################\n",
    "########### load sources ############\n",
    "#####################################\n",
    "\n",
    "torch_train_data = TensorDataset(torch.Tensor(X_train), torch.Tensor(y_train))\n",
    "torch_train_data = DataLoader(torch_train_data, batch_size = BATCH_SIZE)\n",
    "\n",
    "torch_test_data = TensorDataset(torch.Tensor(X_test), torch.Tensor(y_test))\n",
    "torch_test_data = DataLoader(torch_test_data, batch_size = BATCH_SIZE)\n",
    "\n",
    "#####################################\n",
    "########### define model ############\n",
    "#####################################\n",
    "\n",
    "class Deep_torch_NN(nn.Module):\n",
    "    \n",
    "    def __init__(self):\n",
    "        \n",
    "        super(Deep_torch_NN, self).__init__()\n",
    "        \n",
    "        self.hidden1 = nn.Linear(4, 10)\n",
    "        self.output = nn.Linear(10, 1)\n",
    " \n",
    "    def forward(self, x):\n",
    "        \n",
    "        x = self.hidden1(x)\n",
    "        x = self.output(x)\n",
    "        \n",
    "        return x\n",
    "    \n",
    "model = Deep_torch_NN()\n",
    "print(model)\n",
    "\n",
    "#####################################\n",
    "########### compile model ###########\n",
    "#####################################\n",
    "\n",
    "optimizer = optim.Adam(model.parameters())\n",
    "loss = nn.MSELoss()\n",
    "\n",
    "#####################################\n",
    "########### train model #############\n",
    "#####################################\n",
    "\n",
    "train_losses = []\n",
    "valid_losses = []\n",
    "EPOCHS = 20\n",
    "\n",
    "for t in range(EPOCHS):\n",
    "    \n",
    "    print(f\"Epoch {t+1}\\n-------------------------------\")\n",
    "    train_loop(torch_train_data, model, loss, optimizer)\n",
    "    test_loop(torch_test_data, model, loss)"
   ]
  },
  {
   "cell_type": "code",
   "execution_count": 612,
   "id": "cb11f395",
   "metadata": {},
   "outputs": [
    {
     "data": {
      "image/png": "[encoded data removed]",
      "text/plain": [
       "<Figure size 576x288 with 1 Axes>"
      ]
     },
     "metadata": {
      "needs_background": "light"
     },
     "output_type": "display_data"
    }
   ],
   "source": [
    "plt.figure(figsize=(8, 4))\n",
    "plt.plot([i for i in range(EPOCHS)], train_losses, label = 'train')\n",
    "plt.plot([i for i in range(EPOCHS)], valid_losses, label = 'test')\n",
    "plt.title('RMSE learning - PyTorch, deeper model')\n",
    "plt.legend()\n",
    "plt.show()"
   ]
  },
  {
   "cell_type": "code",
   "execution_count": 613,
   "id": "a586d739",
   "metadata": {},
   "outputs": [
    {
     "name": "stdout",
     "output_type": "stream",
     "text": [
      "Test Performances\n",
      " ---------------------------------------- \n",
      "\n",
      "RMSE PyTorch: 1.059293160161684\n",
      "RMSE LinReg: 1.0598040720997706\n"
     ]
    }
   ],
   "source": [
    "print('Test Performances\\n', '--' * 20, '\\n')\n",
    "\n",
    "torch_predictions = model(torch_test_data.dataset.tensors[0])\n",
    "\n",
    "print('RMSE PyTorch:', mean_squared_error(y_test, torch_predictions.detach().numpy(), squared=False))\n",
    "print('RMSE LinReg:', mean_squared_error(y_test, lr.predict(X_test), squared=False))"
   ]
  },
  {
   "cell_type": "markdown",
   "id": "ced86cfb",
   "metadata": {},
   "source": [
    "Reaches linreg's minimum loss after ~15 epochs"
   ]
  },
  {
   "cell_type": "code",
   "execution_count": null,
   "id": "8b9eb5cd",
   "metadata": {},
   "outputs": [],
   "source": []
  },
  {
   "cell_type": "code",
   "execution_count": null,
   "id": "19f7fea7",
   "metadata": {},
   "outputs": [],
   "source": []
  },
  {
   "cell_type": "markdown",
   "id": "903853ab",
   "metadata": {},
   "source": [
    "### Sinusoidal data --> clearly nonlinearities involved"
   ]
  },
  {
   "cell_type": "code",
   "execution_count": 794,
   "id": "dc732f41",
   "metadata": {},
   "outputs": [],
   "source": [
    "%matplotlib inline"
   ]
  },
  {
   "cell_type": "code",
   "execution_count": 7,
   "id": "7a934bd9",
   "metadata": {},
   "outputs": [
    {
     "data": {
      "image/png": "[encoded data removed]",
      "text/plain": [
       "<Figure size 576x288 with 1 Axes>"
      ]
     },
     "metadata": {
      "needs_background": "light"
     },
     "output_type": "display_data"
    }
   ],
   "source": [
    "X = np.random.uniform(-10, 10, size = 1000).reshape(-1, 1)\n",
    "y = np.exp((np.sin(X) / np.sqrt(np.abs(X)))) + X / 20\n",
    "\n",
    "plt.figure(figsize=(8, 4))\n",
    "plt.scatter(X, y, s = 10)\n",
    "plt.title('Sinusoidal function\\n')\n",
    "plt.show()"
   ]
  },
  {
   "cell_type": "code",
   "execution_count": 12,
   "id": "f652a89e",
   "metadata": {},
   "outputs": [
    {
     "name": "stdout",
     "output_type": "stream",
     "text": [
      "RMSE LinReg: 0.4534100468063568\n"
     ]
    },
    {
     "data": {
      "image/png": "[encoded data removed]",
      "text/plain": [
       "<Figure size 576x288 with 1 Axes>"
      ]
     },
     "metadata": {
      "needs_background": "light"
     },
     "output_type": "display_data"
    }
   ],
   "source": [
    "lr = LinearRegression().fit(X, y)\n",
    "print('RMSE LinReg:', mean_squared_error(y, lr.predict(X), squared=False))\n",
    "\n",
    "plt.figure(figsize=(8, 4))\n",
    "plt.scatter(X, y, s = 10)\n",
    "plt.scatter(X, lr.predict(X), s = 10)\n",
    "plt.title('Sinusoidal function with predictions by linreg\\n')\n",
    "plt.show()"
   ]
  },
  {
   "cell_type": "code",
   "execution_count": null,
   "id": "d32a5f06",
   "metadata": {},
   "outputs": [],
   "source": []
  },
  {
   "cell_type": "code",
   "execution_count": null,
   "id": "e8f0eb86",
   "metadata": {},
   "outputs": [],
   "source": []
  },
  {
   "cell_type": "markdown",
   "id": "30434620",
   "metadata": {},
   "source": [
    "Apply neural net"
   ]
  },
  {
   "cell_type": "code",
   "execution_count": 14,
   "id": "e74bbe54",
   "metadata": {
    "scrolled": true
   },
   "outputs": [
    {
     "name": "stdout",
     "output_type": "stream",
     "text": [
      "sinus_NN(\n",
      "  (hidden1): Linear(in_features=1, out_features=10, bias=True)\n",
      "  (hidden2): Linear(in_features=10, out_features=20, bias=True)\n",
      "  (hidden3): Linear(in_features=20, out_features=10, bias=True)\n",
      "  (output): Linear(in_features=10, out_features=1, bias=True)\n",
      ")\n",
      "\n",
      "Epoch 1\n",
      "-------------------------------\n",
      "Losses -- train: 1.468346 -- \n",
      "Epoch 2\n",
      "-------------------------------\n",
      "Losses -- train: 0.952957 -- \n",
      "Epoch 3\n",
      "-------------------------------\n",
      "Losses -- train: 0.743882 -- \n",
      "Epoch 4\n",
      "-------------------------------\n",
      "Losses -- train: 0.663375 -- \n",
      "Epoch 5\n",
      "-------------------------------\n",
      "Losses -- train: 0.564160 -- \n",
      "Epoch 6\n",
      "-------------------------------\n",
      "Losses -- train: 0.478190 -- \n",
      "Epoch 7\n",
      "-------------------------------\n",
      "Losses -- train: 0.436906 -- \n",
      "Epoch 8\n",
      "-------------------------------\n",
      "Losses -- train: 0.421617 -- \n",
      "Epoch 9\n",
      "-------------------------------\n",
      "Losses -- train: 0.410588 -- \n",
      "Epoch 10\n",
      "-------------------------------\n",
      "Losses -- train: 0.399902 -- \n",
      "Epoch 11\n",
      "-------------------------------\n",
      "Losses -- train: 0.388602 -- \n",
      "Epoch 12\n",
      "-------------------------------\n",
      "Losses -- train: 0.376427 -- \n",
      "Epoch 13\n",
      "-------------------------------\n",
      "Losses -- train: 0.363090 -- \n",
      "Epoch 14\n",
      "-------------------------------\n",
      "Losses -- train: 0.348754 -- \n",
      "Epoch 15\n",
      "-------------------------------\n",
      "Losses -- train: 0.333478 -- \n",
      "Epoch 16\n",
      "-------------------------------\n",
      "Losses -- train: 0.314032 -- \n",
      "Epoch 17\n",
      "-------------------------------\n",
      "Losses -- train: 0.290637 -- \n",
      "Epoch 18\n",
      "-------------------------------\n",
      "Losses -- train: 0.268212 -- \n",
      "Epoch 19\n",
      "-------------------------------\n",
      "Losses -- train: 0.246702 -- \n",
      "Epoch 20\n",
      "-------------------------------\n",
      "Losses -- train: 0.227497 -- \n",
      "Epoch 21\n",
      "-------------------------------\n",
      "Losses -- train: 0.210661 -- \n",
      "Epoch 22\n",
      "-------------------------------\n",
      "Losses -- train: 0.196453 -- \n",
      "Epoch 23\n",
      "-------------------------------\n",
      "Losses -- train: 0.183100 -- \n",
      "Epoch 24\n",
      "-------------------------------\n",
      "Losses -- train: 0.172734 -- \n",
      "Epoch 25\n",
      "-------------------------------\n",
      "Losses -- train: 0.165626 -- \n",
      "Epoch 26\n",
      "-------------------------------\n",
      "Losses -- train: 0.160284 -- \n",
      "Epoch 27\n",
      "-------------------------------\n",
      "Losses -- train: 0.156180 -- \n",
      "Epoch 28\n",
      "-------------------------------\n",
      "Losses -- train: 0.153127 -- \n",
      "Epoch 29\n",
      "-------------------------------\n",
      "Losses -- train: 0.150685 -- \n",
      "Epoch 30\n",
      "-------------------------------\n",
      "Losses -- train: 0.148632 -- \n",
      "Epoch 31\n",
      "-------------------------------\n",
      "Losses -- train: 0.146809 -- \n",
      "Epoch 32\n",
      "-------------------------------\n",
      "Losses -- train: 0.144701 -- \n",
      "Epoch 33\n",
      "-------------------------------\n",
      "Losses -- train: 0.143049 -- \n",
      "Epoch 34\n",
      "-------------------------------\n",
      "Losses -- train: 0.141541 -- \n",
      "Epoch 35\n",
      "-------------------------------\n",
      "Losses -- train: 0.139792 -- \n",
      "Epoch 36\n",
      "-------------------------------\n",
      "Losses -- train: 0.138395 -- \n",
      "Epoch 37\n",
      "-------------------------------\n",
      "Losses -- train: 0.136993 -- \n",
      "Epoch 38\n",
      "-------------------------------\n",
      "Losses -- train: 0.135097 -- \n",
      "Epoch 39\n",
      "-------------------------------\n",
      "Losses -- train: 0.133375 -- \n",
      "Epoch 40\n",
      "-------------------------------\n",
      "Losses -- train: 0.131874 -- \n",
      "Epoch 41\n",
      "-------------------------------\n",
      "Losses -- train: 0.130259 -- \n",
      "Epoch 42\n",
      "-------------------------------\n",
      "Losses -- train: 0.128545 -- \n",
      "Epoch 43\n",
      "-------------------------------\n",
      "Losses -- train: 0.126699 -- \n",
      "Epoch 44\n",
      "-------------------------------\n",
      "Losses -- train: 0.124884 -- \n",
      "Epoch 45\n",
      "-------------------------------\n",
      "Losses -- train: 0.123025 -- \n",
      "Epoch 46\n",
      "-------------------------------\n",
      "Losses -- train: 0.121171 -- \n",
      "Epoch 47\n",
      "-------------------------------\n",
      "Losses -- train: 0.119244 -- \n",
      "Epoch 48\n",
      "-------------------------------\n",
      "Losses -- train: 0.117228 -- \n",
      "Epoch 49\n",
      "-------------------------------\n",
      "Losses -- train: 0.115212 -- \n",
      "Epoch 50\n",
      "-------------------------------\n",
      "Losses -- train: 0.113185 -- \n",
      "Epoch 51\n",
      "-------------------------------\n",
      "Losses -- train: 0.111107 -- \n",
      "Epoch 52\n",
      "-------------------------------\n",
      "Losses -- train: 0.108974 -- \n",
      "Epoch 53\n",
      "-------------------------------\n",
      "Losses -- train: 0.106574 -- \n",
      "Epoch 54\n",
      "-------------------------------\n",
      "Losses -- train: 0.104354 -- \n",
      "Epoch 55\n",
      "-------------------------------\n",
      "Losses -- train: 0.102135 -- \n",
      "Epoch 56\n",
      "-------------------------------\n",
      "Losses -- train: 0.100105 -- \n",
      "Epoch 57\n",
      "-------------------------------\n",
      "Losses -- train: 0.097953 -- \n",
      "Epoch 58\n",
      "-------------------------------\n",
      "Losses -- train: 0.095651 -- \n",
      "Epoch 59\n",
      "-------------------------------\n",
      "Losses -- train: 0.093213 -- \n",
      "Epoch 60\n",
      "-------------------------------\n",
      "Losses -- train: 0.090934 -- \n",
      "Epoch 61\n",
      "-------------------------------\n",
      "Losses -- train: 0.088636 -- \n",
      "Epoch 62\n",
      "-------------------------------\n",
      "Losses -- train: 0.086511 -- \n",
      "Epoch 63\n",
      "-------------------------------\n",
      "Losses -- train: 0.084271 -- \n",
      "Epoch 64\n",
      "-------------------------------\n",
      "Losses -- train: 0.081765 -- \n",
      "Epoch 65\n",
      "-------------------------------\n",
      "Losses -- train: 0.079457 -- \n",
      "Epoch 66\n",
      "-------------------------------\n",
      "Losses -- train: 0.077159 -- \n",
      "Epoch 67\n",
      "-------------------------------\n",
      "Losses -- train: 0.074968 -- \n",
      "Epoch 68\n",
      "-------------------------------\n",
      "Losses -- train: 0.072803 -- \n",
      "Epoch 69\n",
      "-------------------------------\n",
      "Losses -- train: 0.070721 -- \n",
      "Epoch 70\n",
      "-------------------------------\n",
      "Losses -- train: 0.068788 -- \n",
      "Epoch 71\n",
      "-------------------------------\n",
      "Losses -- train: 0.066764 -- \n",
      "Epoch 72\n",
      "-------------------------------\n",
      "Losses -- train: 0.064828 -- \n",
      "Epoch 73\n",
      "-------------------------------\n",
      "Losses -- train: 0.062978 -- \n",
      "Epoch 74\n",
      "-------------------------------\n",
      "Losses -- train: 0.061175 -- \n",
      "Epoch 75\n",
      "-------------------------------\n",
      "Losses -- train: 0.059458 -- \n",
      "Epoch 76\n",
      "-------------------------------\n",
      "Losses -- train: 0.057768 -- \n",
      "Epoch 77\n",
      "-------------------------------\n",
      "Losses -- train: 0.056017 -- \n",
      "Epoch 78\n",
      "-------------------------------\n",
      "Losses -- train: 0.054364 -- \n",
      "Epoch 79\n",
      "-------------------------------\n",
      "Losses -- train: 0.052678 -- \n",
      "Epoch 80\n",
      "-------------------------------\n",
      "Losses -- train: 0.051116 -- \n",
      "Epoch 81\n",
      "-------------------------------\n",
      "Losses -- train: 0.049808 -- \n",
      "Epoch 82\n",
      "-------------------------------\n",
      "Losses -- train: 0.048466 -- \n",
      "Epoch 83\n",
      "-------------------------------\n",
      "Losses -- train: 0.047200 -- \n",
      "Epoch 84\n",
      "-------------------------------\n",
      "Losses -- train: 0.046050 -- \n",
      "Epoch 85\n",
      "-------------------------------\n",
      "Losses -- train: 0.044953 -- \n",
      "Epoch 86\n",
      "-------------------------------\n",
      "Losses -- train: 0.044028 -- \n",
      "Epoch 87\n",
      "-------------------------------\n",
      "Losses -- train: 0.043184 -- \n",
      "Epoch 88\n",
      "-------------------------------\n",
      "Losses -- train: 0.042320 -- \n",
      "Epoch 89\n",
      "-------------------------------\n",
      "Losses -- train: 0.041658 -- \n",
      "Epoch 90\n",
      "-------------------------------\n",
      "Losses -- train: 0.041042 -- \n",
      "Epoch 91\n",
      "-------------------------------\n",
      "Losses -- train: 0.040310 -- \n",
      "Epoch 92\n",
      "-------------------------------\n",
      "Losses -- train: 0.039818 -- \n",
      "Epoch 93\n",
      "-------------------------------\n",
      "Losses -- train: 0.039479 -- \n",
      "Epoch 94\n",
      "-------------------------------\n",
      "Losses -- train: 0.039058 -- \n",
      "Epoch 95\n",
      "-------------------------------\n",
      "Losses -- train: 0.038628 -- \n",
      "Epoch 96\n",
      "-------------------------------\n",
      "Losses -- train: 0.038106 -- \n",
      "Epoch 97\n",
      "-------------------------------\n",
      "Losses -- train: 0.037759 -- \n",
      "Epoch 98\n",
      "-------------------------------\n",
      "Losses -- train: 0.037233 -- \n",
      "Epoch 99\n",
      "-------------------------------\n",
      "Losses -- train: 0.036624 -- \n",
      "Epoch 100\n",
      "-------------------------------\n",
      "Losses -- train: 0.036178 -- \n",
      "Epoch 101\n",
      "-------------------------------\n",
      "Losses -- train: 0.035597 -- \n",
      "Epoch 102\n",
      "-------------------------------\n",
      "Losses -- train: 0.035141 -- \n",
      "Epoch 103\n",
      "-------------------------------\n",
      "Losses -- train: 0.034701 -- \n",
      "Epoch 104\n",
      "-------------------------------\n",
      "Losses -- train: 0.034336 -- \n",
      "Epoch 105\n",
      "-------------------------------\n",
      "Losses -- train: 0.034012 -- \n",
      "Epoch 106\n",
      "-------------------------------\n",
      "Losses -- train: 0.033729 -- \n",
      "Epoch 107\n",
      "-------------------------------\n",
      "Losses -- train: 0.033498 -- \n",
      "Epoch 108\n",
      "-------------------------------\n",
      "Losses -- train: 0.033330 -- \n",
      "Epoch 109\n",
      "-------------------------------\n",
      "Losses -- train: 0.033168 -- \n",
      "Epoch 110\n",
      "-------------------------------\n",
      "Losses -- train: 0.033595 -- \n",
      "Epoch 111\n",
      "-------------------------------\n",
      "Losses -- train: 0.033005 -- \n",
      "Epoch 112\n",
      "-------------------------------\n",
      "Losses -- train: 0.032813 -- \n",
      "Epoch 113\n",
      "-------------------------------\n"
     ]
    },
    {
     "name": "stdout",
     "output_type": "stream",
     "text": [
      "Losses -- train: 0.032669 -- \n",
      "Epoch 114\n",
      "-------------------------------\n",
      "Losses -- train: 0.032777 -- \n",
      "Epoch 115\n",
      "-------------------------------\n",
      "Losses -- train: 0.032670 -- \n",
      "Epoch 116\n",
      "-------------------------------\n",
      "Losses -- train: 0.032555 -- \n",
      "Epoch 117\n",
      "-------------------------------\n",
      "Losses -- train: 0.032524 -- \n",
      "Epoch 118\n",
      "-------------------------------\n",
      "Losses -- train: 0.032631 -- \n",
      "Epoch 119\n",
      "-------------------------------\n",
      "Losses -- train: 0.032743 -- \n",
      "Epoch 120\n",
      "-------------------------------\n",
      "Losses -- train: 0.033342 -- \n",
      "Epoch 121\n",
      "-------------------------------\n",
      "Losses -- train: 0.034261 -- \n",
      "Epoch 122\n",
      "-------------------------------\n",
      "Losses -- train: 0.035645 -- \n",
      "Epoch 123\n",
      "-------------------------------\n",
      "Losses -- train: 0.036197 -- \n",
      "Epoch 124\n",
      "-------------------------------\n",
      "Losses -- train: 0.035165 -- \n",
      "Epoch 125\n",
      "-------------------------------\n",
      "Losses -- train: 0.033647 -- \n",
      "Epoch 126\n",
      "-------------------------------\n",
      "Losses -- train: 0.032928 -- \n",
      "Epoch 127\n",
      "-------------------------------\n",
      "Losses -- train: 0.032546 -- \n",
      "Epoch 128\n",
      "-------------------------------\n",
      "Losses -- train: 0.032371 -- \n",
      "Epoch 129\n",
      "-------------------------------\n",
      "Losses -- train: 0.032239 -- \n",
      "Epoch 130\n",
      "-------------------------------\n",
      "Losses -- train: 0.031867 -- \n",
      "Epoch 131\n",
      "-------------------------------\n",
      "Losses -- train: 0.031511 -- \n",
      "Epoch 132\n",
      "-------------------------------\n",
      "Losses -- train: 0.031525 -- \n",
      "Epoch 133\n",
      "-------------------------------\n",
      "Losses -- train: 0.031564 -- \n",
      "Epoch 134\n",
      "-------------------------------\n",
      "Losses -- train: 0.031596 -- \n",
      "Epoch 135\n",
      "-------------------------------\n",
      "Losses -- train: 0.031641 -- \n",
      "Epoch 136\n",
      "-------------------------------\n",
      "Losses -- train: 0.031694 -- \n",
      "Epoch 137\n",
      "-------------------------------\n",
      "Losses -- train: 0.031751 -- \n",
      "Epoch 138\n",
      "-------------------------------\n",
      "Losses -- train: 0.031754 -- \n",
      "Epoch 139\n",
      "-------------------------------\n",
      "Losses -- train: 0.031737 -- \n",
      "Epoch 140\n",
      "-------------------------------\n",
      "Losses -- train: 0.031704 -- \n",
      "Epoch 141\n",
      "-------------------------------\n",
      "Losses -- train: 0.031683 -- \n",
      "Epoch 142\n",
      "-------------------------------\n",
      "Losses -- train: 0.031632 -- \n",
      "Epoch 143\n",
      "-------------------------------\n",
      "Losses -- train: 0.031601 -- \n",
      "Epoch 144\n",
      "-------------------------------\n",
      "Losses -- train: 0.031548 -- \n",
      "Epoch 145\n",
      "-------------------------------\n",
      "Losses -- train: 0.031503 -- \n",
      "Epoch 146\n",
      "-------------------------------\n",
      "Losses -- train: 0.031413 -- \n",
      "Epoch 147\n",
      "-------------------------------\n",
      "Losses -- train: 0.031373 -- \n",
      "Epoch 148\n",
      "-------------------------------\n",
      "Losses -- train: 0.031283 -- \n",
      "Epoch 149\n",
      "-------------------------------\n",
      "Losses -- train: 0.031247 -- \n",
      "Epoch 150\n",
      "-------------------------------\n",
      "Losses -- train: 0.031115 -- \n",
      "Epoch 151\n",
      "-------------------------------\n",
      "Losses -- train: 0.031055 -- \n",
      "Epoch 152\n",
      "-------------------------------\n",
      "Losses -- train: 0.031058 -- \n",
      "Epoch 153\n",
      "-------------------------------\n",
      "Losses -- train: 0.030965 -- \n",
      "Epoch 154\n",
      "-------------------------------\n",
      "Losses -- train: 0.030965 -- \n",
      "Epoch 155\n",
      "-------------------------------\n",
      "Losses -- train: 0.030956 -- \n",
      "Epoch 156\n",
      "-------------------------------\n",
      "Losses -- train: 0.030841 -- \n",
      "Epoch 157\n",
      "-------------------------------\n",
      "Losses -- train: 0.030835 -- \n",
      "Epoch 158\n",
      "-------------------------------\n",
      "Losses -- train: 0.033074 -- \n",
      "Epoch 159\n",
      "-------------------------------\n",
      "Losses -- train: 0.032080 -- \n",
      "Epoch 160\n",
      "-------------------------------\n",
      "Losses -- train: 0.031599 -- \n",
      "Epoch 161\n",
      "-------------------------------\n",
      "Losses -- train: 0.031378 -- \n",
      "Epoch 162\n",
      "-------------------------------\n",
      "Losses -- train: 0.031309 -- \n",
      "Epoch 163\n",
      "-------------------------------\n",
      "Losses -- train: 0.031083 -- \n",
      "Epoch 164\n",
      "-------------------------------\n",
      "Losses -- train: 0.030882 -- \n",
      "Epoch 165\n",
      "-------------------------------\n",
      "Losses -- train: 0.030797 -- \n",
      "Epoch 166\n",
      "-------------------------------\n",
      "Losses -- train: 0.030601 -- \n",
      "Epoch 167\n",
      "-------------------------------\n",
      "Losses -- train: 0.030461 -- \n",
      "Epoch 168\n",
      "-------------------------------\n",
      "Losses -- train: 0.030364 -- \n",
      "Epoch 169\n",
      "-------------------------------\n",
      "Losses -- train: 0.030282 -- \n",
      "Epoch 170\n",
      "-------------------------------\n",
      "Losses -- train: 0.030209 -- \n",
      "Epoch 171\n",
      "-------------------------------\n",
      "Losses -- train: 0.030150 -- \n",
      "Epoch 172\n",
      "-------------------------------\n",
      "Losses -- train: 0.030081 -- \n",
      "Epoch 173\n",
      "-------------------------------\n",
      "Losses -- train: 0.030019 -- \n",
      "Epoch 174\n",
      "-------------------------------\n",
      "Losses -- train: 0.029976 -- \n",
      "Epoch 175\n",
      "-------------------------------\n",
      "Losses -- train: 0.029916 -- \n",
      "Epoch 176\n",
      "-------------------------------\n",
      "Losses -- train: 0.029901 -- \n",
      "Epoch 177\n",
      "-------------------------------\n",
      "Losses -- train: 0.029847 -- \n",
      "Epoch 178\n",
      "-------------------------------\n",
      "Losses -- train: 0.029818 -- \n",
      "Epoch 179\n",
      "-------------------------------\n",
      "Losses -- train: 0.029773 -- \n",
      "Epoch 180\n",
      "-------------------------------\n",
      "Losses -- train: 0.029765 -- \n",
      "Epoch 181\n",
      "-------------------------------\n",
      "Losses -- train: 0.029727 -- \n",
      "Epoch 182\n",
      "-------------------------------\n",
      "Losses -- train: 0.029690 -- \n",
      "Epoch 183\n",
      "-------------------------------\n",
      "Losses -- train: 0.029632 -- \n",
      "Epoch 184\n",
      "-------------------------------\n",
      "Losses -- train: 0.029628 -- \n",
      "Epoch 185\n",
      "-------------------------------\n",
      "Losses -- train: 0.029613 -- \n",
      "Epoch 186\n",
      "-------------------------------\n",
      "Losses -- train: 0.029535 -- \n",
      "Epoch 187\n",
      "-------------------------------\n",
      "Losses -- train: 0.029498 -- \n",
      "Epoch 188\n",
      "-------------------------------\n",
      "Losses -- train: 0.029411 -- \n",
      "Epoch 189\n",
      "-------------------------------\n",
      "Losses -- train: 0.029351 -- \n",
      "Epoch 190\n",
      "-------------------------------\n",
      "Losses -- train: 0.029297 -- \n",
      "Epoch 191\n",
      "-------------------------------\n",
      "Losses -- train: 0.029288 -- \n",
      "Epoch 192\n",
      "-------------------------------\n",
      "Losses -- train: 0.029222 -- \n",
      "Epoch 193\n",
      "-------------------------------\n",
      "Losses -- train: 0.029216 -- \n",
      "Epoch 194\n",
      "-------------------------------\n",
      "Losses -- train: 0.029080 -- \n",
      "Epoch 195\n",
      "-------------------------------\n",
      "Losses -- train: 0.029081 -- \n",
      "Epoch 196\n",
      "-------------------------------\n",
      "Losses -- train: 0.029047 -- \n",
      "Epoch 197\n",
      "-------------------------------\n",
      "Losses -- train: 0.028964 -- \n",
      "Epoch 198\n",
      "-------------------------------\n",
      "Losses -- train: 0.028888 -- \n",
      "Epoch 199\n",
      "-------------------------------\n",
      "Losses -- train: 0.028876 -- \n",
      "Epoch 200\n",
      "-------------------------------\n",
      "Losses -- train: 0.028820 -- \n",
      "Epoch 201\n",
      "-------------------------------\n",
      "Losses -- train: 0.028783 -- \n",
      "Epoch 202\n",
      "-------------------------------\n",
      "Losses -- train: 0.028734 -- \n",
      "Epoch 203\n",
      "-------------------------------\n",
      "Losses -- train: 0.028686 -- \n",
      "Epoch 204\n",
      "-------------------------------\n",
      "Losses -- train: 0.028634 -- \n",
      "Epoch 205\n",
      "-------------------------------\n",
      "Losses -- train: 0.028610 -- \n",
      "Epoch 206\n",
      "-------------------------------\n",
      "Losses -- train: 0.028526 -- \n",
      "Epoch 207\n",
      "-------------------------------\n",
      "Losses -- train: 0.028423 -- \n",
      "Epoch 208\n",
      "-------------------------------\n",
      "Losses -- train: 0.028185 -- \n",
      "Epoch 209\n",
      "-------------------------------\n",
      "Losses -- train: 0.028060 -- \n",
      "Epoch 210\n",
      "-------------------------------\n",
      "Losses -- train: 0.028016 -- \n",
      "Epoch 211\n",
      "-------------------------------\n",
      "Losses -- train: 0.027464 -- \n",
      "Epoch 212\n",
      "-------------------------------\n",
      "Losses -- train: 0.027268 -- \n",
      "Epoch 213\n",
      "-------------------------------\n",
      "Losses -- train: 0.027309 -- \n",
      "Epoch 214\n",
      "-------------------------------\n",
      "Losses -- train: 0.027316 -- \n",
      "Epoch 215\n",
      "-------------------------------\n",
      "Losses -- train: 0.027319 -- \n",
      "Epoch 216\n",
      "-------------------------------\n",
      "Losses -- train: 0.027320 -- \n",
      "Epoch 217\n",
      "-------------------------------\n",
      "Losses -- train: 0.027357 -- \n",
      "Epoch 218\n",
      "-------------------------------\n",
      "Losses -- train: 0.027323 -- \n",
      "Epoch 219\n",
      "-------------------------------\n",
      "Losses -- train: 0.027360 -- \n",
      "Epoch 220\n",
      "-------------------------------\n",
      "Losses -- train: 0.027340 -- \n",
      "Epoch 221\n",
      "-------------------------------\n",
      "Losses -- train: 0.027368 -- \n",
      "Epoch 222\n",
      "-------------------------------\n",
      "Losses -- train: 0.027323 -- \n",
      "Epoch 223\n",
      "-------------------------------\n",
      "Losses -- train: 0.027349 -- \n",
      "Epoch 224\n",
      "-------------------------------\n",
      "Losses -- train: 0.027311 -- \n",
      "Epoch 225\n",
      "-------------------------------\n",
      "Losses -- train: 0.027298 -- \n",
      "Epoch 226\n",
      "-------------------------------\n",
      "Losses -- train: 0.027258 -- \n",
      "Epoch 227\n",
      "-------------------------------\n",
      "Losses -- train: 0.027252 -- \n",
      "Epoch 228\n",
      "-------------------------------\n"
     ]
    },
    {
     "name": "stdout",
     "output_type": "stream",
     "text": [
      "Losses -- train: 0.027208 -- \n",
      "Epoch 229\n",
      "-------------------------------\n",
      "Losses -- train: 0.027194 -- \n",
      "Epoch 230\n",
      "-------------------------------\n",
      "Losses -- train: 0.027153 -- \n",
      "Epoch 231\n",
      "-------------------------------\n",
      "Losses -- train: 0.027123 -- \n",
      "Epoch 232\n",
      "-------------------------------\n",
      "Losses -- train: 0.026795 -- \n",
      "Epoch 233\n",
      "-------------------------------\n",
      "Losses -- train: 0.026970 -- \n",
      "Epoch 234\n",
      "-------------------------------\n",
      "Losses -- train: 0.026776 -- \n",
      "Epoch 235\n",
      "-------------------------------\n",
      "Losses -- train: 0.026896 -- \n",
      "Epoch 236\n",
      "-------------------------------\n",
      "Losses -- train: 0.026669 -- \n",
      "Epoch 237\n",
      "-------------------------------\n",
      "Losses -- train: 0.026863 -- \n",
      "Epoch 238\n",
      "-------------------------------\n",
      "Losses -- train: 0.026697 -- \n",
      "Epoch 239\n",
      "-------------------------------\n",
      "Losses -- train: 0.026803 -- \n",
      "Epoch 240\n",
      "-------------------------------\n",
      "Losses -- train: 0.026624 -- \n",
      "Epoch 241\n",
      "-------------------------------\n",
      "Losses -- train: 0.026714 -- \n",
      "Epoch 242\n",
      "-------------------------------\n",
      "Losses -- train: 0.026585 -- \n",
      "Epoch 243\n",
      "-------------------------------\n",
      "Losses -- train: 0.026285 -- \n",
      "Epoch 244\n",
      "-------------------------------\n",
      "Losses -- train: 0.026538 -- \n",
      "Epoch 245\n",
      "-------------------------------\n",
      "Losses -- train: 0.026518 -- \n",
      "Epoch 246\n",
      "-------------------------------\n",
      "Losses -- train: 0.026485 -- \n",
      "Epoch 247\n",
      "-------------------------------\n",
      "Losses -- train: 0.026350 -- \n",
      "Epoch 248\n",
      "-------------------------------\n",
      "Losses -- train: 0.026253 -- \n",
      "Epoch 249\n",
      "-------------------------------\n",
      "Losses -- train: 0.026185 -- \n",
      "Epoch 250\n",
      "-------------------------------\n",
      "Losses -- train: 0.026173 -- Wall time: 25.9 s\n"
     ]
    }
   ],
   "source": [
    "%%time\n",
    "\n",
    "#####################################\n",
    "########### load sources ############\n",
    "#####################################\n",
    "\n",
    "BATCH_SIZE = 20\n",
    "torch_train_data = DataLoader(TensorDataset(torch.Tensor(X), torch.Tensor(y)), batch_size=BATCH_SIZE)\n",
    "\n",
    "#####################################\n",
    "########### define model ############\n",
    "#####################################\n",
    "\n",
    "class sinus_NN(nn.Module):\n",
    "    \n",
    "    def __init__(self):\n",
    "        \n",
    "        super(sinus_NN, self).__init__()\n",
    "        \n",
    "        self.hidden1 = nn.Linear(1, 10)\n",
    "        self.hidden2 = nn.Linear(10, 20)\n",
    "        self.hidden3 = nn.Linear(20, 10)\n",
    "        self.output = nn.Linear(10, 1)\n",
    " \n",
    "    def forward(self, x):\n",
    "        \n",
    "        x = F.relu(self.hidden1(x))\n",
    "        x = F.relu(self.hidden2(x))\n",
    "        x = F.relu(self.hidden3(x))\n",
    "        x = self.output(x)\n",
    "        \n",
    "        return x\n",
    "    \n",
    "model = sinus_NN()\n",
    "print(model)\n",
    "\n",
    "#####################################\n",
    "########### compile model ###########\n",
    "#####################################\n",
    "\n",
    "optimizer = optim.Adam(model.parameters())\n",
    "loss = nn.MSELoss()\n",
    "\n",
    "#####################################\n",
    "########### train model #############\n",
    "#####################################\n",
    "\n",
    "train_losses = []\n",
    "valid_losses = []\n",
    "pred_at_each_epoch = []\n",
    "EPOCHS = 250\n",
    "\n",
    "for t in range(EPOCHS):\n",
    "    \n",
    "    print(f\"\\nEpoch {t+1}\\n-------------------------------\")\n",
    "    train_loop(torch_train_data, model, loss, optimizer)\n",
    "    \n",
    "    #model.eval()\n",
    "    pred_at_each_epoch.append(model(torch.Tensor(X)).detach().numpy())\n",
    "    #test_loop(torch_test_data, model, loss)"
   ]
  },
  {
   "cell_type": "code",
   "execution_count": 15,
   "id": "4abd77a2",
   "metadata": {},
   "outputs": [
    {
     "data": {
      "image/png": "[encoded data removed]",
      "text/plain": [
       "<Figure size 576x288 with 1 Axes>"
      ]
     },
     "metadata": {
      "needs_background": "light"
     },
     "output_type": "display_data"
    }
   ],
   "source": [
    "plt.figure(figsize=(8, 4))\n",
    "plt.plot([i for i in range(EPOCHS)], train_losses, label = 'train')\n",
    "plt.title('RMSE learning - PyTorch for sinusoidal data')\n",
    "plt.legend()\n",
    "plt.show()"
   ]
  },
  {
   "cell_type": "code",
   "execution_count": 16,
   "id": "3e50aaab",
   "metadata": {},
   "outputs": [
    {
     "name": "stdout",
     "output_type": "stream",
     "text": [
      "RMSE PyTorch: 0.023306863344258195\n"
     ]
    },
    {
     "data": {
      "image/png": "[encoded data removed]",
      "text/plain": [
       "<Figure size 576x288 with 1 Axes>"
      ]
     },
     "metadata": {
      "needs_background": "light"
     },
     "output_type": "display_data"
    }
   ],
   "source": [
    "torch_pred = model(torch.Tensor(X)).detach().numpy()\n",
    "print('RMSE PyTorch:', mean_squared_error(y, torch_pred, squared=False))\n",
    "\n",
    "plt.figure(figsize=(8, 4))\n",
    "plt.scatter(X, y, s = 10, label = 'actual')\n",
    "plt.scatter(X, torch_pred, s = 10, label = 'prediction')\n",
    "plt.title('Sinusoidal function with predictions by linreg\\n')\n",
    "plt.legend()\n",
    "plt.show()"
   ]
  },
  {
   "cell_type": "code",
   "execution_count": null,
   "id": "44b52a3a",
   "metadata": {},
   "outputs": [],
   "source": []
  },
  {
   "cell_type": "markdown",
   "id": "f30de9fb",
   "metadata": {},
   "source": [
    "#### Visualization of prediction change after each epoch"
   ]
  },
  {
   "cell_type": "code",
   "execution_count": 17,
   "id": "8cc147ed",
   "metadata": {},
   "outputs": [],
   "source": [
    "import time\n",
    "%matplotlib notebook"
   ]
  },
  {
   "cell_type": "code",
   "execution_count": 19,
   "id": "1a24cc15",
   "metadata": {},
   "outputs": [
    {
     "data": {
      "application/javascript": [
       "/* Put everything inside the global mpl namespace */\n",
       "/* global mpl */\n",
       "window.mpl = {};\n",
       "\n",
       "mpl.get_websocket_type = function () {\n",
       "    if (typeof WebSocket !== 'undefined') {\n",
       "        return WebSocket;\n",
       "    } else if (typeof MozWebSocket !== 'undefined') {\n",
       "        return MozWebSocket;\n",
       "    } else {\n",
       "        alert(\n",
       "            'Your browser does not have WebSocket support. ' +\n",
       "                'Please try Chrome, Safari or Firefox ≥ 6. ' +\n",
       "                'Firefox 4 and 5 are also supported but you ' +\n",
       "                'have to enable WebSockets in about:config.'\n",
       "        );\n",
       "    }\n",
       "};\n",
       "\n",
       "mpl.figure = function (figure_id, websocket, ondownload, parent_element) {\n",
       "    this.id = figure_id;\n",
       "\n",
       "    this.ws = websocket;\n",
       "\n",
       "    this.supports_binary = this.ws.binaryType !== undefined;\n",
       "\n",
       "    if (!this.supports_binary) {\n",
       "        var warnings = document.getElementById('mpl-warnings');\n",
       "        if (warnings) {\n",
       "            warnings.style.display = 'block';\n",
       "            warnings.textContent =\n",
       "                'This browser does not support binary websocket messages. ' +\n",
       "                'Performance may be slow.';\n",
       "        }\n",
       "    }\n",
       "\n",
       "    this.imageObj = new Image();\n",
       "\n",
       "    this.context = undefined;\n",
       "    this.message = undefined;\n",
       "    this.canvas = undefined;\n",
       "    this.rubberband_canvas = undefined;\n",
       "    this.rubberband_context = undefined;\n",
       "    this.format_dropdown = undefined;\n",
       "\n",
       "    this.image_mode = 'full';\n",
       "\n",
       "    this.root = document.createElement('div');\n",
       "    this.root.setAttribute('style', 'display: inline-block');\n",
       "    this._root_extra_style(this.root);\n",
       "\n",
       "    parent_element.appendChild(this.root);\n",
       "\n",
       "    this._init_header(this);\n",
       "    this._init_canvas(this);\n",
       "    this._init_toolbar(this);\n",
       "\n",
       "    var fig = this;\n",
       "\n",
       "    this.waiting = false;\n",
       "\n",
       "    this.ws.onopen = function () {\n",
       "        fig.send_message('supports_binary', { value: fig.supports_binary });\n",
       "        fig.send_message('send_image_mode', {});\n",
       "        if (fig.ratio !== 1) {\n",
       "            fig.send_message('set_device_pixel_ratio', {\n",
       "                device_pixel_ratio: fig.ratio,\n",
       "            });\n",
       "        }\n",
       "        fig.send_message('refresh', {});\n",
       "    };\n",
       "\n",
       "    this.imageObj.onload = function () {\n",
       "        if (fig.image_mode === 'full') {\n",
       "            // Full images could contain transparency (where diff images\n",
       "            // almost always do), so we need to clear the canvas so that\n",
       "            // there is no ghosting.\n",
       "            fig.context.clearRect(0, 0, fig.canvas.width, fig.canvas.height);\n",
       "        }\n",
       "        fig.context.drawImage(fig.imageObj, 0, 0);\n",
       "    };\n",
       "\n",
       "    this.imageObj.onunload = function () {\n",
       "        fig.ws.close();\n",
       "    };\n",
       "\n",
       "    this.ws.onmessage = this._make_on_message_function(this);\n",
       "\n",
       "    this.ondownload = ondownload;\n",
       "};\n",
       "\n",
       "mpl.figure.prototype._init_header = function () {\n",
       "    var titlebar = document.createElement('div');\n",
       "    titlebar.classList =\n",
       "        'ui-dialog-titlebar ui-widget-header ui-corner-all ui-helper-clearfix';\n",
       "    var titletext = document.createElement('div');\n",
       "    titletext.classList = 'ui-dialog-title';\n",
       "    titletext.setAttribute(\n",
       "        'style',\n",
       "        'width: 100%; text-align: center; padding: 3px;'\n",
       "    );\n",
       "    titlebar.appendChild(titletext);\n",
       "    this.root.appendChild(titlebar);\n",
       "    this.header = titletext;\n",
       "};\n",
       "\n",
       "mpl.figure.prototype._canvas_extra_style = function (_canvas_div) {};\n",
       "\n",
       "mpl.figure.prototype._root_extra_style = function (_canvas_div) {};\n",
       "\n",
       "mpl.figure.prototype._init_canvas = function () {\n",
       "    var fig = this;\n",
       "\n",
       "    var canvas_div = (this.canvas_div = document.createElement('div'));\n",
       "    canvas_div.setAttribute(\n",
       "        'style',\n",
       "        'border: 1px solid #ddd;' +\n",
       "            'box-sizing: content-box;' +\n",
       "            'clear: both;' +\n",
       "            'min-height: 1px;' +\n",
       "            'min-width: 1px;' +\n",
       "            'outline: 0;' +\n",
       "            'overflow: hidden;' +\n",
       "            'position: relative;' +\n",
       "            'resize: both;'\n",
       "    );\n",
       "\n",
       "    function on_keyboard_event_closure(name) {\n",
       "        return function (event) {\n",
       "            return fig.key_event(event, name);\n",
       "        };\n",
       "    }\n",
       "\n",
       "    canvas_div.addEventListener(\n",
       "        'keydown',\n",
       "        on_keyboard_event_closure('key_press')\n",
       "    );\n",
       "    canvas_div.addEventListener(\n",
       "        'keyup',\n",
       "        on_keyboard_event_closure('key_release')\n",
       "    );\n",
       "\n",
       "    this._canvas_extra_style(canvas_div);\n",
       "    this.root.appendChild(canvas_div);\n",
       "\n",
       "    var canvas = (this.canvas = document.createElement('canvas'));\n",
       "    canvas.classList.add('mpl-canvas');\n",
       "    canvas.setAttribute('style', 'box-sizing: content-box;');\n",
       "\n",
       "    this.context = canvas.getContext('2d');\n",
       "\n",
       "    var backingStore =\n",
       "        this.context.backingStorePixelRatio ||\n",
       "        this.context.webkitBackingStorePixelRatio ||\n",
       "        this.context.mozBackingStorePixelRatio ||\n",
       "        this.context.msBackingStorePixelRatio ||\n",
       "        this.context.oBackingStorePixelRatio ||\n",
       "        this.context.backingStorePixelRatio ||\n",
       "        1;\n",
       "\n",
       "    this.ratio = (window.devicePixelRatio || 1) / backingStore;\n",
       "\n",
       "    var rubberband_canvas = (this.rubberband_canvas = document.createElement(\n",
       "        'canvas'\n",
       "    ));\n",
       "    rubberband_canvas.setAttribute(\n",
       "        'style',\n",
       "        'box-sizing: content-box; position: absolute; left: 0; top: 0; z-index: 1;'\n",
       "    );\n",
       "\n",
       "    // Apply a ponyfill if ResizeObserver is not implemented by browser.\n",
       "    if (this.ResizeObserver === undefined) {\n",
       "        if (window.ResizeObserver !== undefined) {\n",
       "            this.ResizeObserver = window.ResizeObserver;\n",
       "        } else {\n",
       "            var obs = _JSXTOOLS_RESIZE_OBSERVER({});\n",
       "            this.ResizeObserver = obs.ResizeObserver;\n",
       "        }\n",
       "    }\n",
       "\n",
       "    this.resizeObserverInstance = new this.ResizeObserver(function (entries) {\n",
       "        var nentries = entries.length;\n",
       "        for (var i = 0; i < nentries; i++) {\n",
       "            var entry = entries[i];\n",
       "            var width, height;\n",
       "            if (entry.contentBoxSize) {\n",
       "                if (entry.contentBoxSize instanceof Array) {\n",
       "                    // Chrome 84 implements new version of spec.\n",
       "                    width = entry.contentBoxSize[0].inlineSize;\n",
       "                    height = entry.contentBoxSize[0].blockSize;\n",
       "                } else {\n",
       "                    // Firefox implements old version of spec.\n",
       "                    width = entry.contentBoxSize.inlineSize;\n",
       "                    height = entry.contentBoxSize.blockSize;\n",
       "                }\n",
       "            } else {\n",
       "                // Chrome <84 implements even older version of spec.\n",
       "                width = entry.contentRect.width;\n",
       "                height = entry.contentRect.height;\n",
       "            }\n",
       "\n",
       "            // Keep the size of the canvas and rubber band canvas in sync with\n",
       "            // the canvas container.\n",
       "            if (entry.devicePixelContentBoxSize) {\n",
       "                // Chrome 84 implements new version of spec.\n",
       "                canvas.setAttribute(\n",
       "                    'width',\n",
       "                    entry.devicePixelContentBoxSize[0].inlineSize\n",
       "                );\n",
       "                canvas.setAttribute(\n",
       "                    'height',\n",
       "                    entry.devicePixelContentBoxSize[0].blockSize\n",
       "                );\n",
       "            } else {\n",
       "                canvas.setAttribute('width', width * fig.ratio);\n",
       "                canvas.setAttribute('height', height * fig.ratio);\n",
       "            }\n",
       "            canvas.setAttribute(\n",
       "                'style',\n",
       "                'width: ' + width + 'px; height: ' + height + 'px;'\n",
       "            );\n",
       "\n",
       "            rubberband_canvas.setAttribute('width', width);\n",
       "            rubberband_canvas.setAttribute('height', height);\n",
       "\n",
       "            // And update the size in Python. We ignore the initial 0/0 size\n",
       "            // that occurs as the element is placed into the DOM, which should\n",
       "            // otherwise not happen due to the minimum size styling.\n",
       "            if (fig.ws.readyState == 1 && width != 0 && height != 0) {\n",
       "                fig.request_resize(width, height);\n",
       "            }\n",
       "        }\n",
       "    });\n",
       "    this.resizeObserverInstance.observe(canvas_div);\n",
       "\n",
       "    function on_mouse_event_closure(name) {\n",
       "        return function (event) {\n",
       "            return fig.mouse_event(event, name);\n",
       "        };\n",
       "    }\n",
       "\n",
       "    rubberband_canvas.addEventListener(\n",
       "        'mousedown',\n",
       "        on_mouse_event_closure('button_press')\n",
       "    );\n",
       "    rubberband_canvas.addEventListener(\n",
       "        'mouseup',\n",
       "        on_mouse_event_closure('button_release')\n",
       "    );\n",
       "    rubberband_canvas.addEventListener(\n",
       "        'dblclick',\n",
       "        on_mouse_event_closure('dblclick')\n",
       "    );\n",
       "    // Throttle sequential mouse events to 1 every 20ms.\n",
       "    rubberband_canvas.addEventListener(\n",
       "        'mousemove',\n",
       "        on_mouse_event_closure('motion_notify')\n",
       "    );\n",
       "\n",
       "    rubberband_canvas.addEventListener(\n",
       "        'mouseenter',\n",
       "        on_mouse_event_closure('figure_enter')\n",
       "    );\n",
       "    rubberband_canvas.addEventListener(\n",
       "        'mouseleave',\n",
       "        on_mouse_event_closure('figure_leave')\n",
       "    );\n",
       "\n",
       "    canvas_div.addEventListener('wheel', function (event) {\n",
       "        if (event.deltaY < 0) {\n",
       "            event.step = 1;\n",
       "        } else {\n",
       "            event.step = -1;\n",
       "        }\n",
       "        on_mouse_event_closure('scroll')(event);\n",
       "    });\n",
       "\n",
       "    canvas_div.appendChild(canvas);\n",
       "    canvas_div.appendChild(rubberband_canvas);\n",
       "\n",
       "    this.rubberband_context = rubberband_canvas.getContext('2d');\n",
       "    this.rubberband_context.strokeStyle = '#000000';\n",
       "\n",
       "    this._resize_canvas = function (width, height, forward) {\n",
       "        if (forward) {\n",
       "            canvas_div.style.width = width + 'px';\n",
       "            canvas_div.style.height = height + 'px';\n",
       "        }\n",
       "    };\n",
       "\n",
       "    // Disable right mouse context menu.\n",
       "    this.rubberband_canvas.addEventListener('contextmenu', function (_e) {\n",
       "        event.preventDefault();\n",
       "        return false;\n",
       "    });\n",
       "\n",
       "    function set_focus() {\n",
       "        canvas.focus();\n",
       "        canvas_div.focus();\n",
       "    }\n",
       "\n",
       "    window.setTimeout(set_focus, 100);\n",
       "};\n",
       "\n",
       "mpl.figure.prototype._init_toolbar = function () {\n",
       "    var fig = this;\n",
       "\n",
       "    var toolbar = document.createElement('div');\n",
       "    toolbar.classList = 'mpl-toolbar';\n",
       "    this.root.appendChild(toolbar);\n",
       "\n",
       "    function on_click_closure(name) {\n",
       "        return function (_event) {\n",
       "            return fig.toolbar_button_onclick(name);\n",
       "        };\n",
       "    }\n",
       "\n",
       "    function on_mouseover_closure(tooltip) {\n",
       "        return function (event) {\n",
       "            if (!event.currentTarget.disabled) {\n",
       "                return fig.toolbar_button_onmouseover(tooltip);\n",
       "            }\n",
       "        };\n",
       "    }\n",
       "\n",
       "    fig.buttons = {};\n",
       "    var buttonGroup = document.createElement('div');\n",
       "    buttonGroup.classList = 'mpl-button-group';\n",
       "    for (var toolbar_ind in mpl.toolbar_items) {\n",
       "        var name = mpl.toolbar_items[toolbar_ind][0];\n",
       "        var tooltip = mpl.toolbar_items[toolbar_ind][1];\n",
       "        var image = mpl.toolbar_items[toolbar_ind][2];\n",
       "        var method_name = mpl.toolbar_items[toolbar_ind][3];\n",
       "\n",
       "        if (!name) {\n",
       "            /* Instead of a spacer, we start a new button group. */\n",
       "            if (buttonGroup.hasChildNodes()) {\n",
       "                toolbar.appendChild(buttonGroup);\n",
       "            }\n",
       "            buttonGroup = document.createElement('div');\n",
       "            buttonGroup.classList = 'mpl-button-group';\n",
       "            continue;\n",
       "        }\n",
       "\n",
       "        var button = (fig.buttons[name] = document.createElement('button'));\n",
       "        button.classList = 'mpl-widget';\n",
       "        button.setAttribute('role', 'button');\n",
       "        button.setAttribute('aria-disabled', 'false');\n",
       "        button.addEventListener('click', on_click_closure(method_name));\n",
       "        button.addEventListener('mouseover', on_mouseover_closure(tooltip));\n",
       "\n",
       "        var icon_img = document.createElement('img');\n",
       "        icon_img.src = '_images/' + image + '.png';\n",
       "        icon_img.srcset = '_images/' + image + '_large.png 2x';\n",
       "        icon_img.alt = tooltip;\n",
       "        button.appendChild(icon_img);\n",
       "\n",
       "        buttonGroup.appendChild(button);\n",
       "    }\n",
       "\n",
       "    if (buttonGroup.hasChildNodes()) {\n",
       "        toolbar.appendChild(buttonGroup);\n",
       "    }\n",
       "\n",
       "    var fmt_picker = document.createElement('select');\n",
       "    fmt_picker.classList = 'mpl-widget';\n",
       "    toolbar.appendChild(fmt_picker);\n",
       "    this.format_dropdown = fmt_picker;\n",
       "\n",
       "    for (var ind in mpl.extensions) {\n",
       "        var fmt = mpl.extensions[ind];\n",
       "        var option = document.createElement('option');\n",
       "        option.selected = fmt === mpl.default_extension;\n",
       "        option.innerHTML = fmt;\n",
       "        fmt_picker.appendChild(option);\n",
       "    }\n",
       "\n",
       "    var status_bar = document.createElement('span');\n",
       "    status_bar.classList = 'mpl-message';\n",
       "    toolbar.appendChild(status_bar);\n",
       "    this.message = status_bar;\n",
       "};\n",
       "\n",
       "mpl.figure.prototype.request_resize = function (x_pixels, y_pixels) {\n",
       "    // Request matplotlib to resize the figure. Matplotlib will then trigger a resize in the client,\n",
       "    // which will in turn request a refresh of the image.\n",
       "    this.send_message('resize', { width: x_pixels, height: y_pixels });\n",
       "};\n",
       "\n",
       "mpl.figure.prototype.send_message = function (type, properties) {\n",
       "    properties['type'] = type;\n",
       "    properties['figure_id'] = this.id;\n",
       "    this.ws.send(JSON.stringify(properties));\n",
       "};\n",
       "\n",
       "mpl.figure.prototype.send_draw_message = function () {\n",
       "    if (!this.waiting) {\n",
       "        this.waiting = true;\n",
       "        this.ws.send(JSON.stringify({ type: 'draw', figure_id: this.id }));\n",
       "    }\n",
       "};\n",
       "\n",
       "mpl.figure.prototype.handle_save = function (fig, _msg) {\n",
       "    var format_dropdown = fig.format_dropdown;\n",
       "    var format = format_dropdown.options[format_dropdown.selectedIndex].value;\n",
       "    fig.ondownload(fig, format);\n",
       "};\n",
       "\n",
       "mpl.figure.prototype.handle_resize = function (fig, msg) {\n",
       "    var size = msg['size'];\n",
       "    if (size[0] !== fig.canvas.width || size[1] !== fig.canvas.height) {\n",
       "        fig._resize_canvas(size[0], size[1], msg['forward']);\n",
       "        fig.send_message('refresh', {});\n",
       "    }\n",
       "};\n",
       "\n",
       "mpl.figure.prototype.handle_rubberband = function (fig, msg) {\n",
       "    var x0 = msg['x0'] / fig.ratio;\n",
       "    var y0 = (fig.canvas.height - msg['y0']) / fig.ratio;\n",
       "    var x1 = msg['x1'] / fig.ratio;\n",
       "    var y1 = (fig.canvas.height - msg['y1']) / fig.ratio;\n",
       "    x0 = Math.floor(x0) + 0.5;\n",
       "    y0 = Math.floor(y0) + 0.5;\n",
       "    x1 = Math.floor(x1) + 0.5;\n",
       "    y1 = Math.floor(y1) + 0.5;\n",
       "    var min_x = Math.min(x0, x1);\n",
       "    var min_y = Math.min(y0, y1);\n",
       "    var width = Math.abs(x1 - x0);\n",
       "    var height = Math.abs(y1 - y0);\n",
       "\n",
       "    fig.rubberband_context.clearRect(\n",
       "        0,\n",
       "        0,\n",
       "        fig.canvas.width / fig.ratio,\n",
       "        fig.canvas.height / fig.ratio\n",
       "    );\n",
       "\n",
       "    fig.rubberband_context.strokeRect(min_x, min_y, width, height);\n",
       "};\n",
       "\n",
       "mpl.figure.prototype.handle_figure_label = function (fig, msg) {\n",
       "    // Updates the figure title.\n",
       "    fig.header.textContent = msg['label'];\n",
       "};\n",
       "\n",
       "mpl.figure.prototype.handle_cursor = function (fig, msg) {\n",
       "    fig.rubberband_canvas.style.cursor = msg['cursor'];\n",
       "};\n",
       "\n",
       "mpl.figure.prototype.handle_message = function (fig, msg) {\n",
       "    fig.message.textContent = msg['message'];\n",
       "};\n",
       "\n",
       "mpl.figure.prototype.handle_draw = function (fig, _msg) {\n",
       "    // Request the server to send over a new figure.\n",
       "    fig.send_draw_message();\n",
       "};\n",
       "\n",
       "mpl.figure.prototype.handle_image_mode = function (fig, msg) {\n",
       "    fig.image_mode = msg['mode'];\n",
       "};\n",
       "\n",
       "mpl.figure.prototype.handle_history_buttons = function (fig, msg) {\n",
       "    for (var key in msg) {\n",
       "        if (!(key in fig.buttons)) {\n",
       "            continue;\n",
       "        }\n",
       "        fig.buttons[key].disabled = !msg[key];\n",
       "        fig.buttons[key].setAttribute('aria-disabled', !msg[key]);\n",
       "    }\n",
       "};\n",
       "\n",
       "mpl.figure.prototype.handle_navigate_mode = function (fig, msg) {\n",
       "    if (msg['mode'] === 'PAN') {\n",
       "        fig.buttons['Pan'].classList.add('active');\n",
       "        fig.buttons['Zoom'].classList.remove('active');\n",
       "    } else if (msg['mode'] === 'ZOOM') {\n",
       "        fig.buttons['Pan'].classList.remove('active');\n",
       "        fig.buttons['Zoom'].classList.add('active');\n",
       "    } else {\n",
       "        fig.buttons['Pan'].classList.remove('active');\n",
       "        fig.buttons['Zoom'].classList.remove('active');\n",
       "    }\n",
       "};\n",
       "\n",
       "mpl.figure.prototype.updated_canvas_event = function () {\n",
       "    // Called whenever the canvas gets updated.\n",
       "    this.send_message('ack', {});\n",
       "};\n",
       "\n",
       "// A function to construct a web socket function for onmessage handling.\n",
       "// Called in the figure constructor.\n",
       "mpl.figure.prototype._make_on_message_function = function (fig) {\n",
       "    return function socket_on_message(evt) {\n",
       "        if (evt.data instanceof Blob) {\n",
       "            var img = evt.data;\n",
       "            if (img.type !== 'image/png') {\n",
       "                /* FIXME: We get \"Resource interpreted as Image but\n",
       "                 * transferred with MIME type text/plain:\" errors on\n",
       "                 * Chrome.  But how to set the MIME type?  It doesn't seem\n",
       "                 * to be part of the websocket stream */\n",
       "                img.type = 'image/png';\n",
       "            }\n",
       "\n",
       "            /* Free the memory for the previous frames */\n",
       "            if (fig.imageObj.src) {\n",
       "                (window.URL || window.webkitURL).revokeObjectURL(\n",
       "                    fig.imageObj.src\n",
       "                );\n",
       "            }\n",
       "\n",
       "            fig.imageObj.src = (window.URL || window.webkitURL).createObjectURL(\n",
       "                img\n",
       "            );\n",
       "            fig.updated_canvas_event();\n",
       "            fig.waiting = false;\n",
       "            return;\n",
       "        } else if (\n",
       "            typeof evt.data === 'string' &&\n",
       "            evt.data.slice(0, 21) === 'data:image/png;base64'\n",
       "        ) {\n",
       "            fig.imageObj.src = evt.data;\n",
       "            fig.updated_canvas_event();\n",
       "            fig.waiting = false;\n",
       "            return;\n",
       "        }\n",
       "\n",
       "        var msg = JSON.parse(evt.data);\n",
       "        var msg_type = msg['type'];\n",
       "\n",
       "        // Call the  \"handle_{type}\" callback, which takes\n",
       "        // the figure and JSON message as its only arguments.\n",
       "        try {\n",
       "            var callback = fig['handle_' + msg_type];\n",
       "        } catch (e) {\n",
       "            console.log(\n",
       "                \"No handler for the '\" + msg_type + \"' message type: \",\n",
       "                msg\n",
       "            );\n",
       "            return;\n",
       "        }\n",
       "\n",
       "        if (callback) {\n",
       "            try {\n",
       "                // console.log(\"Handling '\" + msg_type + \"' message: \", msg);\n",
       "                callback(fig, msg);\n",
       "            } catch (e) {\n",
       "                console.log(\n",
       "                    \"Exception inside the 'handler_\" + msg_type + \"' callback:\",\n",
       "                    e,\n",
       "                    e.stack,\n",
       "                    msg\n",
       "                );\n",
       "            }\n",
       "        }\n",
       "    };\n",
       "};\n",
       "\n",
       "// from https://stackoverflow.com/questions/1114465/getting-mouse-location-in-canvas\n",
       "mpl.findpos = function (e) {\n",
       "    //this section is from http://www.quirksmode.org/js/events_properties.html\n",
       "    var targ;\n",
       "    if (!e) {\n",
       "        e = window.event;\n",
       "    }\n",
       "    if (e.target) {\n",
       "        targ = e.target;\n",
       "    } else if (e.srcElement) {\n",
       "        targ = e.srcElement;\n",
       "    }\n",
       "    if (targ.nodeType === 3) {\n",
       "        // defeat Safari bug\n",
       "        targ = targ.parentNode;\n",
       "    }\n",
       "\n",
       "    // pageX,Y are the mouse positions relative to the document\n",
       "    var boundingRect = targ.getBoundingClientRect();\n",
       "    var x = e.pageX - (boundingRect.left + document.body.scrollLeft);\n",
       "    var y = e.pageY - (boundingRect.top + document.body.scrollTop);\n",
       "\n",
       "    return { x: x, y: y };\n",
       "};\n",
       "\n",
       "/*\n",
       " * return a copy of an object with only non-object keys\n",
       " * we need this to avoid circular references\n",
       " * https://stackoverflow.com/a/24161582/3208463\n",
       " */\n",
       "function simpleKeys(original) {\n",
       "    return Object.keys(original).reduce(function (obj, key) {\n",
       "        if (typeof original[key] !== 'object') {\n",
       "            obj[key] = original[key];\n",
       "        }\n",
       "        return obj;\n",
       "    }, {});\n",
       "}\n",
       "\n",
       "mpl.figure.prototype.mouse_event = function (event, name) {\n",
       "    var canvas_pos = mpl.findpos(event);\n",
       "\n",
       "    if (name === 'button_press') {\n",
       "        this.canvas.focus();\n",
       "        this.canvas_div.focus();\n",
       "    }\n",
       "\n",
       "    var x = canvas_pos.x * this.ratio;\n",
       "    var y = canvas_pos.y * this.ratio;\n",
       "\n",
       "    this.send_message(name, {\n",
       "        x: x,\n",
       "        y: y,\n",
       "        button: event.button,\n",
       "        step: event.step,\n",
       "        guiEvent: simpleKeys(event),\n",
       "    });\n",
       "\n",
       "    /* This prevents the web browser from automatically changing to\n",
       "     * the text insertion cursor when the button is pressed.  We want\n",
       "     * to control all of the cursor setting manually through the\n",
       "     * 'cursor' event from matplotlib */\n",
       "    event.preventDefault();\n",
       "    return false;\n",
       "};\n",
       "\n",
       "mpl.figure.prototype._key_event_extra = function (_event, _name) {\n",
       "    // Handle any extra behaviour associated with a key event\n",
       "};\n",
       "\n",
       "mpl.figure.prototype.key_event = function (event, name) {\n",
       "    // Prevent repeat events\n",
       "    if (name === 'key_press') {\n",
       "        if (event.key === this._key) {\n",
       "            return;\n",
       "        } else {\n",
       "            this._key = event.key;\n",
       "        }\n",
       "    }\n",
       "    if (name === 'key_release') {\n",
       "        this._key = null;\n",
       "    }\n",
       "\n",
       "    var value = '';\n",
       "    if (event.ctrlKey && event.key !== 'Control') {\n",
       "        value += 'ctrl+';\n",
       "    }\n",
       "    else if (event.altKey && event.key !== 'Alt') {\n",
       "        value += 'alt+';\n",
       "    }\n",
       "    else if (event.shiftKey && event.key !== 'Shift') {\n",
       "        value += 'shift+';\n",
       "    }\n",
       "\n",
       "    value += 'k' + event.key;\n",
       "\n",
       "    this._key_event_extra(event, name);\n",
       "\n",
       "    this.send_message(name, { key: value, guiEvent: simpleKeys(event) });\n",
       "    return false;\n",
       "};\n",
       "\n",
       "mpl.figure.prototype.toolbar_button_onclick = function (name) {\n",
       "    if (name === 'download') {\n",
       "        this.handle_save(this, null);\n",
       "    } else {\n",
       "        this.send_message('toolbar_button', { name: name });\n",
       "    }\n",
       "};\n",
       "\n",
       "mpl.figure.prototype.toolbar_button_onmouseover = function (tooltip) {\n",
       "    this.message.textContent = tooltip;\n",
       "};\n",
       "\n",
       "///////////////// REMAINING CONTENT GENERATED BY embed_js.py /////////////////\n",
       "// prettier-ignore\n",
       "var _JSXTOOLS_RESIZE_OBSERVER=function(A){var t,i=new WeakMap,n=new WeakMap,a=new WeakMap,r=new WeakMap,o=new Set;function s(e){if(!(this instanceof s))throw new TypeError(\"Constructor requires 'new' operator\");i.set(this,e)}function h(){throw new TypeError(\"Function is not a constructor\")}function c(e,t,i,n){e=0 in arguments?Number(arguments[0]):0,t=1 in arguments?Number(arguments[1]):0,i=2 in arguments?Number(arguments[2]):0,n=3 in arguments?Number(arguments[3]):0,this.right=(this.x=this.left=e)+(this.width=i),this.bottom=(this.y=this.top=t)+(this.height=n),Object.freeze(this)}function d(){t=requestAnimationFrame(d);var s=new WeakMap,p=new Set;o.forEach((function(t){r.get(t).forEach((function(i){var r=t instanceof window.SVGElement,o=a.get(t),d=r?0:parseFloat(o.paddingTop),f=r?0:parseFloat(o.paddingRight),l=r?0:parseFloat(o.paddingBottom),u=r?0:parseFloat(o.paddingLeft),g=r?0:parseFloat(o.borderTopWidth),m=r?0:parseFloat(o.borderRightWidth),w=r?0:parseFloat(o.borderBottomWidth),b=u+f,F=d+l,v=(r?0:parseFloat(o.borderLeftWidth))+m,W=g+w,y=r?0:t.offsetHeight-W-t.clientHeight,E=r?0:t.offsetWidth-v-t.clientWidth,R=b+v,z=F+W,M=r?t.width:parseFloat(o.width)-R-E,O=r?t.height:parseFloat(o.height)-z-y;if(n.has(t)){var k=n.get(t);if(k[0]===M&&k[1]===O)return}n.set(t,[M,O]);var S=Object.create(h.prototype);S.target=t,S.contentRect=new c(u,d,M,O),s.has(i)||(s.set(i,[]),p.add(i)),s.get(i).push(S)}))})),p.forEach((function(e){i.get(e).call(e,s.get(e),e)}))}return s.prototype.observe=function(i){if(i instanceof window.Element){r.has(i)||(r.set(i,new Set),o.add(i),a.set(i,window.getComputedStyle(i)));var n=r.get(i);n.has(this)||n.add(this),cancelAnimationFrame(t),t=requestAnimationFrame(d)}},s.prototype.unobserve=function(i){if(i instanceof window.Element&&r.has(i)){var n=r.get(i);n.has(this)&&(n.delete(this),n.size||(r.delete(i),o.delete(i))),n.size||r.delete(i),o.size||cancelAnimationFrame(t)}},A.DOMRectReadOnly=c,A.ResizeObserver=s,A.ResizeObserverEntry=h,A}; // eslint-disable-line\n",
       "mpl.toolbar_items = [[\"Home\", \"Reset original view\", \"fa fa-home icon-home\", \"home\"], [\"Back\", \"Back to previous view\", \"fa fa-arrow-left icon-arrow-left\", \"back\"], [\"Forward\", \"Forward to next view\", \"fa fa-arrow-right icon-arrow-right\", \"forward\"], [\"\", \"\", \"\", \"\"], [\"Pan\", \"Left button pans, Right button zooms\\nx/y fixes axis, CTRL fixes aspect\", \"fa fa-arrows icon-move\", \"pan\"], [\"Zoom\", \"Zoom to rectangle\\nx/y fixes axis\", \"fa fa-square-o icon-check-empty\", \"zoom\"], [\"\", \"\", \"\", \"\"], [\"Download\", \"Download plot\", \"fa fa-floppy-o icon-save\", \"download\"]];\n",
       "\n",
       "mpl.extensions = [\"eps\", \"jpeg\", \"pgf\", \"pdf\", \"png\", \"ps\", \"raw\", \"svg\", \"tif\"];\n",
       "\n",
       "mpl.default_extension = \"png\";/* global mpl */\n",
       "\n",
       "var comm_websocket_adapter = function (comm) {\n",
       "    // Create a \"websocket\"-like object which calls the given IPython comm\n",
       "    // object with the appropriate methods. Currently this is a non binary\n",
       "    // socket, so there is still some room for performance tuning.\n",
       "    var ws = {};\n",
       "\n",
       "    ws.binaryType = comm.kernel.ws.binaryType;\n",
       "    ws.readyState = comm.kernel.ws.readyState;\n",
       "    function updateReadyState(_event) {\n",
       "        if (comm.kernel.ws) {\n",
       "            ws.readyState = comm.kernel.ws.readyState;\n",
       "        } else {\n",
       "            ws.readyState = 3; // Closed state.\n",
       "        }\n",
       "    }\n",
       "    comm.kernel.ws.addEventListener('open', updateReadyState);\n",
       "    comm.kernel.ws.addEventListener('close', updateReadyState);\n",
       "    comm.kernel.ws.addEventListener('error', updateReadyState);\n",
       "\n",
       "    ws.close = function () {\n",
       "        comm.close();\n",
       "    };\n",
       "    ws.send = function (m) {\n",
       "        //console.log('sending', m);\n",
       "        comm.send(m);\n",
       "    };\n",
       "    // Register the callback with on_msg.\n",
       "    comm.on_msg(function (msg) {\n",
       "        //console.log('receiving', msg['content']['data'], msg);\n",
       "        var data = msg['content']['data'];\n",
       "        if (data['blob'] !== undefined) {\n",
       "            data = {\n",
       "                data: new Blob(msg['buffers'], { type: data['blob'] }),\n",
       "            };\n",
       "        }\n",
       "        // Pass the mpl event to the overridden (by mpl) onmessage function.\n",
       "        ws.onmessage(data);\n",
       "    });\n",
       "    return ws;\n",
       "};\n",
       "\n",
       "mpl.mpl_figure_comm = function (comm, msg) {\n",
       "    // This is the function which gets called when the mpl process\n",
       "    // starts-up an IPython Comm through the \"matplotlib\" channel.\n",
       "\n",
       "    var id = msg.content.data.id;\n",
       "    // Get hold of the div created by the display call when the Comm\n",
       "    // socket was opened in Python.\n",
       "    var element = document.getElementById(id);\n",
       "    var ws_proxy = comm_websocket_adapter(comm);\n",
       "\n",
       "    function ondownload(figure, _format) {\n",
       "        window.open(figure.canvas.toDataURL());\n",
       "    }\n",
       "\n",
       "    var fig = new mpl.figure(id, ws_proxy, ondownload, element);\n",
       "\n",
       "    // Call onopen now - mpl needs it, as it is assuming we've passed it a real\n",
       "    // web socket which is closed, not our websocket->open comm proxy.\n",
       "    ws_proxy.onopen();\n",
       "\n",
       "    fig.parent_element = element;\n",
       "    fig.cell_info = mpl.find_output_cell(\"<div id='\" + id + \"'></div>\");\n",
       "    if (!fig.cell_info) {\n",
       "        console.error('Failed to find cell for figure', id, fig);\n",
       "        return;\n",
       "    }\n",
       "    fig.cell_info[0].output_area.element.on(\n",
       "        'cleared',\n",
       "        { fig: fig },\n",
       "        fig._remove_fig_handler\n",
       "    );\n",
       "};\n",
       "\n",
       "mpl.figure.prototype.handle_close = function (fig, msg) {\n",
       "    var width = fig.canvas.width / fig.ratio;\n",
       "    fig.cell_info[0].output_area.element.off(\n",
       "        'cleared',\n",
       "        fig._remove_fig_handler\n",
       "    );\n",
       "    fig.resizeObserverInstance.unobserve(fig.canvas_div);\n",
       "\n",
       "    // Update the output cell to use the data from the current canvas.\n",
       "    fig.push_to_output();\n",
       "    var dataURL = fig.canvas.toDataURL();\n",
       "    // Re-enable the keyboard manager in IPython - without this line, in FF,\n",
       "    // the notebook keyboard shortcuts fail.\n",
       "    IPython.keyboard_manager.enable();\n",
       "    fig.parent_element.innerHTML =\n",
       "        '<img src=\"' + dataURL + '\" width=\"' + width + '\">';\n",
       "    fig.close_ws(fig, msg);\n",
       "};\n",
       "\n",
       "mpl.figure.prototype.close_ws = function (fig, msg) {\n",
       "    fig.send_message('closing', msg);\n",
       "    // fig.ws.close()\n",
       "};\n",
       "\n",
       "mpl.figure.prototype.push_to_output = function (_remove_interactive) {\n",
       "    // Turn the data on the canvas into data in the output cell.\n",
       "    var width = this.canvas.width / this.ratio;\n",
       "    var dataURL = this.canvas.toDataURL();\n",
       "    this.cell_info[1]['text/html'] =\n",
       "        '<img src=\"' + dataURL + '\" width=\"' + width + '\">';\n",
       "};\n",
       "\n",
       "mpl.figure.prototype.updated_canvas_event = function () {\n",
       "    // Tell IPython that the notebook contents must change.\n",
       "    IPython.notebook.set_dirty(true);\n",
       "    this.send_message('ack', {});\n",
       "    var fig = this;\n",
       "    // Wait a second, then push the new image to the DOM so\n",
       "    // that it is saved nicely (might be nice to debounce this).\n",
       "    setTimeout(function () {\n",
       "        fig.push_to_output();\n",
       "    }, 1000);\n",
       "};\n",
       "\n",
       "mpl.figure.prototype._init_toolbar = function () {\n",
       "    var fig = this;\n",
       "\n",
       "    var toolbar = document.createElement('div');\n",
       "    toolbar.classList = 'btn-toolbar';\n",
       "    this.root.appendChild(toolbar);\n",
       "\n",
       "    function on_click_closure(name) {\n",
       "        return function (_event) {\n",
       "            return fig.toolbar_button_onclick(name);\n",
       "        };\n",
       "    }\n",
       "\n",
       "    function on_mouseover_closure(tooltip) {\n",
       "        return function (event) {\n",
       "            if (!event.currentTarget.disabled) {\n",
       "                return fig.toolbar_button_onmouseover(tooltip);\n",
       "            }\n",
       "        };\n",
       "    }\n",
       "\n",
       "    fig.buttons = {};\n",
       "    var buttonGroup = document.createElement('div');\n",
       "    buttonGroup.classList = 'btn-group';\n",
       "    var button;\n",
       "    for (var toolbar_ind in mpl.toolbar_items) {\n",
       "        var name = mpl.toolbar_items[toolbar_ind][0];\n",
       "        var tooltip = mpl.toolbar_items[toolbar_ind][1];\n",
       "        var image = mpl.toolbar_items[toolbar_ind][2];\n",
       "        var method_name = mpl.toolbar_items[toolbar_ind][3];\n",
       "\n",
       "        if (!name) {\n",
       "            /* Instead of a spacer, we start a new button group. */\n",
       "            if (buttonGroup.hasChildNodes()) {\n",
       "                toolbar.appendChild(buttonGroup);\n",
       "            }\n",
       "            buttonGroup = document.createElement('div');\n",
       "            buttonGroup.classList = 'btn-group';\n",
       "            continue;\n",
       "        }\n",
       "\n",
       "        button = fig.buttons[name] = document.createElement('button');\n",
       "        button.classList = 'btn btn-default';\n",
       "        button.href = '#';\n",
       "        button.title = name;\n",
       "        button.innerHTML = '<i class=\"fa ' + image + ' fa-lg\"></i>';\n",
       "        button.addEventListener('click', on_click_closure(method_name));\n",
       "        button.addEventListener('mouseover', on_mouseover_closure(tooltip));\n",
       "        buttonGroup.appendChild(button);\n",
       "    }\n",
       "\n",
       "    if (buttonGroup.hasChildNodes()) {\n",
       "        toolbar.appendChild(buttonGroup);\n",
       "    }\n",
       "\n",
       "    // Add the status bar.\n",
       "    var status_bar = document.createElement('span');\n",
       "    status_bar.classList = 'mpl-message pull-right';\n",
       "    toolbar.appendChild(status_bar);\n",
       "    this.message = status_bar;\n",
       "\n",
       "    // Add the close button to the window.\n",
       "    var buttongrp = document.createElement('div');\n",
       "    buttongrp.classList = 'btn-group inline pull-right';\n",
       "    button = document.createElement('button');\n",
       "    button.classList = 'btn btn-mini btn-primary';\n",
       "    button.href = '#';\n",
       "    button.title = 'Stop Interaction';\n",
       "    button.innerHTML = '<i class=\"fa fa-power-off icon-remove icon-large\"></i>';\n",
       "    button.addEventListener('click', function (_evt) {\n",
       "        fig.handle_close(fig, {});\n",
       "    });\n",
       "    button.addEventListener(\n",
       "        'mouseover',\n",
       "        on_mouseover_closure('Stop Interaction')\n",
       "    );\n",
       "    buttongrp.appendChild(button);\n",
       "    var titlebar = this.root.querySelector('.ui-dialog-titlebar');\n",
       "    titlebar.insertBefore(buttongrp, titlebar.firstChild);\n",
       "};\n",
       "\n",
       "mpl.figure.prototype._remove_fig_handler = function (event) {\n",
       "    var fig = event.data.fig;\n",
       "    if (event.target !== this) {\n",
       "        // Ignore bubbled events from children.\n",
       "        return;\n",
       "    }\n",
       "    fig.close_ws(fig, {});\n",
       "};\n",
       "\n",
       "mpl.figure.prototype._root_extra_style = function (el) {\n",
       "    el.style.boxSizing = 'content-box'; // override notebook setting of border-box.\n",
       "};\n",
       "\n",
       "mpl.figure.prototype._canvas_extra_style = function (el) {\n",
       "    // this is important to make the div 'focusable\n",
       "    el.setAttribute('tabindex', 0);\n",
       "    // reach out to IPython and tell the keyboard manager to turn it's self\n",
       "    // off when our div gets focus\n",
       "\n",
       "    // location in version 3\n",
       "    if (IPython.notebook.keyboard_manager) {\n",
       "        IPython.notebook.keyboard_manager.register_events(el);\n",
       "    } else {\n",
       "        // location in version 2\n",
       "        IPython.keyboard_manager.register_events(el);\n",
       "    }\n",
       "};\n",
       "\n",
       "mpl.figure.prototype._key_event_extra = function (event, _name) {\n",
       "    // Check for shift+enter\n",
       "    if (event.shiftKey && event.which === 13) {\n",
       "        this.canvas_div.blur();\n",
       "        // select the cell after this one\n",
       "        var index = IPython.notebook.find_cell_index(this.cell_info[0]);\n",
       "        IPython.notebook.select(index + 1);\n",
       "    }\n",
       "};\n",
       "\n",
       "mpl.figure.prototype.handle_save = function (fig, _msg) {\n",
       "    fig.ondownload(fig, null);\n",
       "};\n",
       "\n",
       "mpl.find_output_cell = function (html_output) {\n",
       "    // Return the cell and output element which can be found *uniquely* in the notebook.\n",
       "    // Note - this is a bit hacky, but it is done because the \"notebook_saving.Notebook\"\n",
       "    // IPython event is triggered only after the cells have been serialised, which for\n",
       "    // our purposes (turning an active figure into a static one), is too late.\n",
       "    var cells = IPython.notebook.get_cells();\n",
       "    var ncells = cells.length;\n",
       "    for (var i = 0; i < ncells; i++) {\n",
       "        var cell = cells[i];\n",
       "        if (cell.cell_type === 'code') {\n",
       "            for (var j = 0; j < cell.output_area.outputs.length; j++) {\n",
       "                var data = cell.output_area.outputs[j];\n",
       "                if (data.data) {\n",
       "                    // IPython >= 3 moved mimebundle to data attribute of output\n",
       "                    data = data.data;\n",
       "                }\n",
       "                if (data['text/html'] === html_output) {\n",
       "                    return [cell, data, j];\n",
       "                }\n",
       "            }\n",
       "        }\n",
       "    }\n",
       "};\n",
       "\n",
       "// Register the function which deals with the matplotlib target/channel.\n",
       "// The kernel may be null if the page has been refreshed.\n",
       "if (IPython.notebook.kernel !== null) {\n",
       "    IPython.notebook.kernel.comm_manager.register_target(\n",
       "        'matplotlib',\n",
       "        mpl.mpl_figure_comm\n",
       "    );\n",
       "}\n"
      ],
      "text/plain": [
       "<IPython.core.display.Javascript object>"
      ]
     },
     "metadata": {},
     "output_type": "display_data"
    },
    {
     "data": {
      "text/html": [
       "<img src=\"data:image/png;base64,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\" width=\"800\">"
      ],
      "text/plain": [
       "<IPython.core.display.HTML object>"
      ]
     },
     "metadata": {},
     "output_type": "display_data"
    }
   ],
   "source": [
    "plt.ion()\n",
    "fig = plt.figure(figsize = (8, 4))\n",
    "\n",
    "ax = fig.add_subplot(111)\n",
    "actual_line = ax.scatter(X, y, s = 10, label = 'actual')\n",
    "prediction_line = ax.scatter(X, np.zeros(1000), s = 10, label = 'prediction')\n",
    "epoch_num_line = ax.text(-10, 0.85, 'Epoch: ' + str(0))\n",
    "\n",
    "plt.title('Prediction changes during epochs')\n",
    "\n",
    "for epoch_num, i in enumerate(pred_at_each_epoch):\n",
    "    prediction_line.set_offsets(np.c_[X, i])\n",
    "    epoch_num_line.set_text('Epoch: ' + str(epoch_num+1))\n",
    "    fig.canvas.draw()\n",
    "    fig.canvas.flush_events()\n",
    "    time.sleep(0.01)"
   ]
  },
  {
   "cell_type": "code",
   "execution_count": null,
   "id": "44267b7c",
   "metadata": {},
   "outputs": [],
   "source": []
  }
 ],
 "metadata": {
  "kernelspec": {
   "display_name": "Python 3 (ipykernel)",
   "language": "python",
   "name": "python3"
  },
  "language_info": {
   "codemirror_mode": {
    "name": "ipython",
    "version": 3
   },
   "file_extension": ".py",
   "mimetype": "text/x-python",
   "name": "python",
   "nbconvert_exporter": "python",
   "pygments_lexer": "ipython3",
   "version": "3.9.7"
  }
 },
 "nbformat": 4,
 "nbformat_minor": 5
}
