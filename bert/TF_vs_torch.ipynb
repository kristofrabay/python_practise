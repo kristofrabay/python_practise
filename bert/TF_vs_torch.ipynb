{
 "cells": [
  {
   "cell_type": "markdown",
   "id": "958c01dd",
   "metadata": {},
   "source": [
    "### TensorFlow & PyTorch comparison\n",
    "Storing and handling data, creating datasets\n",
    "\n",
    "<img src='https://cdn.activestate.com/wp-content/uploads/2019/10/neural-network-showndown-tensorflow-vs-pytorch.png' width = 650>"
   ]
  },
  {
   "cell_type": "code",
   "execution_count": 2,
   "id": "ca985b75",
   "metadata": {},
   "outputs": [
    {
     "name": "stdout",
     "output_type": "stream",
     "text": [
      "TensorFlow version: 2.8.0\n",
      "PyTorch version: 1.10.2\n"
     ]
    }
   ],
   "source": [
    "import tensorflow as tf\n",
    "import torch\n",
    "\n",
    "print('TensorFlow version:', tf.__version__)\n",
    "print('PyTorch version:', torch.__version__)\n",
    "\n",
    "import numpy as np\n",
    "import warnings\n",
    "warnings.filterwarnings('ignore')"
   ]
  },
  {
   "cell_type": "markdown",
   "id": "82416806",
   "metadata": {},
   "source": [
    "### Scalars"
   ]
  },
  {
   "cell_type": "code",
   "execution_count": 123,
   "id": "2c0d1508",
   "metadata": {},
   "outputs": [
    {
     "name": "stdout",
     "output_type": "stream",
     "text": [
      "4 \n",
      "\n",
      "tf.Tensor(4, shape=(), dtype=int32) \n",
      "\n",
      "tensor(4) \n",
      "\n",
      "tf.Tensor(4, shape=(), dtype=int32) \n",
      "\n",
      "tensor(4, dtype=torch.int32) \n",
      "\n"
     ]
    }
   ],
   "source": [
    "a = 4\n",
    "\n",
    "a_np = np.array(a) \n",
    "a_tf = tf.constant(a)\n",
    "a_torch = torch.tensor(a)\n",
    "\n",
    "print(a_np, '\\n')\n",
    "print(a_tf, '\\n')\n",
    "print(a_torch, '\\n')\n",
    "\n",
    "# converting from numpy\n",
    "\n",
    "tf_from_numpy = tf.convert_to_tensor(a_np)\n",
    "torch_from_numpy = torch.from_numpy(a_np)\n",
    "\n",
    "print(tf_from_numpy, '\\n')\n",
    "print(torch_from_numpy, '\\n')"
   ]
  },
  {
   "cell_type": "code",
   "execution_count": 65,
   "id": "ce8ba8ef",
   "metadata": {},
   "outputs": [
    {
     "name": "stdout",
     "output_type": "stream",
     "text": [
      "()\n",
      "<dtype: 'int32'>\n",
      "4\n"
     ]
    }
   ],
   "source": [
    "print(a_tf.shape)\n",
    "print(a_tf.dtype)\n",
    "print(a_tf.numpy())"
   ]
  },
  {
   "cell_type": "code",
   "execution_count": 66,
   "id": "45f5d38c",
   "metadata": {},
   "outputs": [
    {
     "name": "stdout",
     "output_type": "stream",
     "text": [
      "torch.Size([])\n",
      "torch.int64\n",
      "4\n"
     ]
    }
   ],
   "source": [
    "print(a_torch.shape)\n",
    "print(a_torch.dtype)\n",
    "print(a_torch.numpy())"
   ]
  },
  {
   "cell_type": "code",
   "execution_count": 125,
   "id": "0ce9fbaf",
   "metadata": {},
   "outputs": [
    {
     "name": "stdout",
     "output_type": "stream",
     "text": [
      "torch.Size([])\n",
      "torch.int32\n",
      "4\n"
     ]
    }
   ],
   "source": [
    "print(torch_from_numpy.shape)\n",
    "print(torch_from_numpy.dtype)\n",
    "print(torch_from_numpy.numpy())"
   ]
  },
  {
   "cell_type": "code",
   "execution_count": null,
   "id": "426e46ed",
   "metadata": {},
   "outputs": [],
   "source": []
  },
  {
   "cell_type": "markdown",
   "id": "f720c54c",
   "metadata": {},
   "source": [
    "### Tensors"
   ]
  },
  {
   "cell_type": "code",
   "execution_count": 126,
   "id": "c437483f",
   "metadata": {},
   "outputs": [
    {
     "name": "stdout",
     "output_type": "stream",
     "text": [
      "[[1 1 3]\n",
      " [1 0 2]] \n",
      "\n",
      "tf.Tensor(\n",
      "[[1 1 3]\n",
      " [1 0 2]], shape=(2, 3), dtype=int32) \n",
      "\n",
      "tensor([[1, 1, 3],\n",
      "        [1, 0, 2]]) \n",
      "\n",
      "tf.Tensor(\n",
      "[[1 1 3]\n",
      " [1 0 2]], shape=(2, 3), dtype=int32) \n",
      "\n",
      "tensor([[1, 1, 3],\n",
      "        [1, 0, 2]], dtype=torch.int32) \n",
      "\n"
     ]
    }
   ],
   "source": [
    "m = [[1, 1, 3], [1, 0, 2]]\n",
    "\n",
    "m_np = np.array(m) \n",
    "m_tf = tf.constant(m)\n",
    "m_torch = torch.tensor(m)\n",
    "\n",
    "print(m_np, '\\n')\n",
    "print(m_tf, '\\n')\n",
    "print(m_torch, '\\n')\n",
    "\n",
    "# converting from numpy\n",
    "\n",
    "tf_from_numpy = tf.convert_to_tensor(m_np)\n",
    "torch_from_numpy = torch.from_numpy(m_np)\n",
    "\n",
    "print(tf_from_numpy, '\\n')\n",
    "print(torch_from_numpy, '\\n')"
   ]
  },
  {
   "cell_type": "code",
   "execution_count": 68,
   "id": "1caa8083",
   "metadata": {},
   "outputs": [
    {
     "name": "stdout",
     "output_type": "stream",
     "text": [
      "(2, 3)\n",
      "<dtype: 'int32'>\n"
     ]
    }
   ],
   "source": [
    "print(m_tf.shape)\n",
    "print(m_tf.dtype)"
   ]
  },
  {
   "cell_type": "code",
   "execution_count": 69,
   "id": "a756c290",
   "metadata": {},
   "outputs": [
    {
     "name": "stdout",
     "output_type": "stream",
     "text": [
      "torch.Size([2, 3])\n",
      "torch.int64\n"
     ]
    }
   ],
   "source": [
    "print(m_torch.shape)\n",
    "print(m_torch.dtype)"
   ]
  },
  {
   "cell_type": "code",
   "execution_count": 127,
   "id": "eb2cf544",
   "metadata": {},
   "outputs": [
    {
     "name": "stdout",
     "output_type": "stream",
     "text": [
      "torch.Size([2, 3])\n",
      "torch.int32\n"
     ]
    }
   ],
   "source": [
    "print(torch_from_numpy.shape)\n",
    "print(torch_from_numpy.dtype)"
   ]
  },
  {
   "cell_type": "code",
   "execution_count": null,
   "id": "adfef392",
   "metadata": {},
   "outputs": [],
   "source": []
  },
  {
   "cell_type": "markdown",
   "id": "112d41f1",
   "metadata": {},
   "source": [
    "### Multiplication, matrix multiplication"
   ]
  },
  {
   "cell_type": "code",
   "execution_count": 76,
   "id": "f0672fc3",
   "metadata": {},
   "outputs": [
    {
     "data": {
      "text/plain": [
       "array([[1, 1, 9],\n",
       "       [1, 0, 4]])"
      ]
     },
     "execution_count": 76,
     "metadata": {},
     "output_type": "execute_result"
    }
   ],
   "source": [
    "np.multiply(m_np, m_np)"
   ]
  },
  {
   "cell_type": "code",
   "execution_count": 77,
   "id": "46be0550",
   "metadata": {},
   "outputs": [
    {
     "data": {
      "text/plain": [
       "<tf.Tensor: shape=(2, 3), dtype=int32, numpy=\n",
       "array([[1, 1, 9],\n",
       "       [1, 0, 4]])>"
      ]
     },
     "execution_count": 77,
     "metadata": {},
     "output_type": "execute_result"
    }
   ],
   "source": [
    "tf.multiply(m_tf, m_tf)"
   ]
  },
  {
   "cell_type": "code",
   "execution_count": 82,
   "id": "23f36bb6",
   "metadata": {},
   "outputs": [
    {
     "data": {
      "text/plain": [
       "tensor([[1, 1, 9],\n",
       "        [1, 0, 4]])"
      ]
     },
     "execution_count": 82,
     "metadata": {},
     "output_type": "execute_result"
    }
   ],
   "source": [
    "torch.multiply(m_torch, m_torch)"
   ]
  },
  {
   "cell_type": "code",
   "execution_count": null,
   "id": "5bdaf2ca",
   "metadata": {},
   "outputs": [],
   "source": []
  },
  {
   "cell_type": "code",
   "execution_count": 85,
   "id": "a615c98e",
   "metadata": {},
   "outputs": [
    {
     "data": {
      "text/plain": [
       "array([[11,  7],\n",
       "       [ 7,  5]])"
      ]
     },
     "execution_count": 85,
     "metadata": {},
     "output_type": "execute_result"
    }
   ],
   "source": [
    "np.matmul(m_np, m_np.transpose())"
   ]
  },
  {
   "cell_type": "code",
   "execution_count": 81,
   "id": "9b8ab1b6",
   "metadata": {},
   "outputs": [
    {
     "data": {
      "text/plain": [
       "<tf.Tensor: shape=(2, 2), dtype=int32, numpy=\n",
       "array([[11,  7],\n",
       "       [ 7,  5]])>"
      ]
     },
     "execution_count": 81,
     "metadata": {},
     "output_type": "execute_result"
    }
   ],
   "source": [
    "tf.matmul(m_tf, tf.transpose(m_tf))"
   ]
  },
  {
   "cell_type": "code",
   "execution_count": 142,
   "id": "bd14c9c6",
   "metadata": {},
   "outputs": [
    {
     "data": {
      "text/plain": [
       "tensor([[11,  7],\n",
       "        [ 7,  5]])"
      ]
     },
     "execution_count": 142,
     "metadata": {},
     "output_type": "execute_result"
    }
   ],
   "source": [
    "torch.matmul(m_torch, m_torch.T)"
   ]
  },
  {
   "cell_type": "code",
   "execution_count": 146,
   "id": "5b7708d3",
   "metadata": {},
   "outputs": [
    {
     "data": {
      "text/plain": [
       "tensor([[11,  7],\n",
       "        [ 7,  5]])"
      ]
     },
     "execution_count": 146,
     "metadata": {},
     "output_type": "execute_result"
    }
   ],
   "source": [
    "# all are equivalent to:\n",
    "m_torch @ m_torch.T"
   ]
  },
  {
   "cell_type": "code",
   "execution_count": null,
   "id": "dbae88cf",
   "metadata": {},
   "outputs": [],
   "source": []
  },
  {
   "cell_type": "markdown",
   "id": "1d968cbc",
   "metadata": {},
   "source": [
    "### PyTorch device\n",
    "\n",
    "PyTorch can directly access GPU too, so (after some config) it's your choice where you want to process the data"
   ]
  },
  {
   "cell_type": "code",
   "execution_count": 133,
   "id": "4fe7d67d",
   "metadata": {},
   "outputs": [
    {
     "data": {
      "text/plain": [
       "device(type='cpu')"
      ]
     },
     "execution_count": 133,
     "metadata": {},
     "output_type": "execute_result"
    }
   ],
   "source": [
    "a_torch.device"
   ]
  },
  {
   "cell_type": "code",
   "execution_count": 140,
   "id": "a0689f8b",
   "metadata": {},
   "outputs": [
    {
     "name": "stdout",
     "output_type": "stream",
     "text": [
      "False\n",
      "Using device: cpu\n"
     ]
    }
   ],
   "source": [
    "print(torch.cuda.is_available())\n",
    "\n",
    "device = torch.device('cuda' if torch.cuda.is_available() else 'cpu')\n",
    "print('Using device:', device)\n",
    "\n",
    "if torch.cuda.is_available():\n",
    "    a_torch = a_torch.to('cuda')"
   ]
  },
  {
   "cell_type": "code",
   "execution_count": null,
   "id": "ea055999",
   "metadata": {},
   "outputs": [],
   "source": []
  },
  {
   "cell_type": "code",
   "execution_count": null,
   "id": "62d3b074",
   "metadata": {},
   "outputs": [],
   "source": []
  },
  {
   "cell_type": "markdown",
   "id": "369de02d",
   "metadata": {},
   "source": [
    "### PyTorch autograd\n",
    "\n",
    "Automatically includes gradient in Tensors\n",
    "\n",
    "Turning it off:\n",
    "- for given tensor: `requires_grad=False` \n",
    "- globally: `with torch.nograd():`\n",
    "    \n",
    "\n",
    "\n",
    "<img src='https://camo.githubusercontent.com/fe04780daa63b97b30b69ce1208c40f74b9e33cda32128e6c8a9839587d7a216/68747470733a2f2f63646e2d696d616765732d312e6d656469756d2e636f6d2f6d61782f313630302f312a774531663269374c385152773869755678356d4f70772e706e67' width = 550>"
   ]
  },
  {
   "cell_type": "code",
   "execution_count": 163,
   "id": "a2d12b4a",
   "metadata": {},
   "outputs": [],
   "source": [
    "from torchviz import make_dot\n",
    "from IPython.display import Image"
   ]
  },
  {
   "cell_type": "code",
   "execution_count": 364,
   "id": "a9ca58b2",
   "metadata": {},
   "outputs": [],
   "source": [
    "x = torch.tensor(np.array([1, 2, 3, 4, 5], dtype = 'float'), requires_grad=True)\n",
    "\n",
    "y = x**3 + x*2\n",
    "z = y + 10\n",
    "\n",
    "r = z.sum()"
   ]
  },
  {
   "cell_type": "code",
   "execution_count": 365,
   "id": "48bb0618",
   "metadata": {},
   "outputs": [
    {
     "data": {
      "image/png": "[encoded data removed]",
      "text/plain": [
       "<IPython.core.display.Image object>"
      ]
     },
     "execution_count": 365,
     "metadata": {
      "image/png": {
       "height": 450
      }
     },
     "output_type": "execute_result"
    }
   ],
   "source": [
    "path_image = \"torch_viz/attached\"\n",
    "_format = 'png'\n",
    "\n",
    "make_dot(r, show_attrs = True).render(path_image, format = _format)\n",
    "Image(path_image + '.' + _format, height = 450)"
   ]
  },
  {
   "cell_type": "code",
   "execution_count": 366,
   "id": "0da0bf11",
   "metadata": {},
   "outputs": [
    {
     "data": {
      "text/plain": [
       "tensor([1., 2., 3., 4., 5.], dtype=torch.float64, requires_grad=True)"
      ]
     },
     "execution_count": 366,
     "metadata": {},
     "output_type": "execute_result"
    }
   ],
   "source": [
    "x"
   ]
  },
  {
   "cell_type": "code",
   "execution_count": 367,
   "id": "aa98de85",
   "metadata": {},
   "outputs": [
    {
     "data": {
      "text/plain": [
       "tensor([  3.,  12.,  33.,  72., 135.], dtype=torch.float64,\n",
       "       grad_fn=<AddBackward0>)"
      ]
     },
     "execution_count": 367,
     "metadata": {},
     "output_type": "execute_result"
    }
   ],
   "source": [
    "y"
   ]
  },
  {
   "cell_type": "code",
   "execution_count": 368,
   "id": "71ae16a2",
   "metadata": {},
   "outputs": [
    {
     "data": {
      "text/plain": [
       "tensor([ 13.,  22.,  43.,  82., 145.], dtype=torch.float64,\n",
       "       grad_fn=<AddBackward0>)"
      ]
     },
     "execution_count": 368,
     "metadata": {},
     "output_type": "execute_result"
    }
   ],
   "source": [
    "z"
   ]
  },
  {
   "cell_type": "code",
   "execution_count": 369,
   "id": "a6d64bcb",
   "metadata": {},
   "outputs": [
    {
     "data": {
      "text/plain": [
       "tensor(305., dtype=torch.float64, grad_fn=<SumBackward0>)"
      ]
     },
     "execution_count": 369,
     "metadata": {},
     "output_type": "execute_result"
    }
   ],
   "source": [
    "r"
   ]
  },
  {
   "cell_type": "code",
   "execution_count": null,
   "id": "c13f5147",
   "metadata": {},
   "outputs": [],
   "source": []
  },
  {
   "cell_type": "code",
   "execution_count": 370,
   "id": "a09b4dc9",
   "metadata": {},
   "outputs": [],
   "source": [
    "x.grad_fn"
   ]
  },
  {
   "cell_type": "code",
   "execution_count": 371,
   "id": "d1b4f4aa",
   "metadata": {},
   "outputs": [
    {
     "data": {
      "text/plain": [
       "<AddBackward0 at 0x208598db250>"
      ]
     },
     "execution_count": 371,
     "metadata": {},
     "output_type": "execute_result"
    }
   ],
   "source": [
    "y.grad_fn"
   ]
  },
  {
   "cell_type": "code",
   "execution_count": 372,
   "id": "7566ac1e",
   "metadata": {},
   "outputs": [
    {
     "data": {
      "text/plain": [
       "<AddBackward0 at 0x208598dba60>"
      ]
     },
     "execution_count": 372,
     "metadata": {},
     "output_type": "execute_result"
    }
   ],
   "source": [
    "z.grad_fn"
   ]
  },
  {
   "cell_type": "code",
   "execution_count": 373,
   "id": "c0520711",
   "metadata": {},
   "outputs": [
    {
     "data": {
      "text/plain": [
       "<SumBackward0 at 0x208598dbe50>"
      ]
     },
     "execution_count": 373,
     "metadata": {},
     "output_type": "execute_result"
    }
   ],
   "source": [
    "r.grad_fn"
   ]
  },
  {
   "cell_type": "code",
   "execution_count": null,
   "id": "093705a7",
   "metadata": {},
   "outputs": [],
   "source": []
  },
  {
   "cell_type": "markdown",
   "id": "0e119edb",
   "metadata": {},
   "source": [
    "'r' is the 'output', so we can 'backpropagate' to the very beginning"
   ]
  },
  {
   "cell_type": "code",
   "execution_count": 374,
   "id": "3fde2958",
   "metadata": {},
   "outputs": [
    {
     "data": {
      "text/plain": [
       "<SumBackward0 at 0x208598dbe50>"
      ]
     },
     "execution_count": 374,
     "metadata": {},
     "output_type": "execute_result"
    }
   ],
   "source": [
    "r.grad_fn"
   ]
  },
  {
   "cell_type": "code",
   "execution_count": 375,
   "id": "32cc8e69",
   "metadata": {},
   "outputs": [
    {
     "data": {
      "text/plain": [
       "<AddBackward0 at 0x208598dba60>"
      ]
     },
     "execution_count": 375,
     "metadata": {},
     "output_type": "execute_result"
    }
   ],
   "source": [
    "r.grad_fn.next_functions[0][0]"
   ]
  },
  {
   "cell_type": "code",
   "execution_count": 385,
   "id": "95b9909e",
   "metadata": {},
   "outputs": [
    {
     "data": {
      "text/plain": [
       "<AddBackward0 at 0x208598db250>"
      ]
     },
     "execution_count": 385,
     "metadata": {},
     "output_type": "execute_result"
    }
   ],
   "source": [
    "r.grad_fn.next_functions[0][0].next_functions[0][0]"
   ]
  },
  {
   "cell_type": "code",
   "execution_count": 388,
   "id": "6f1ca9f8",
   "metadata": {},
   "outputs": [
    {
     "data": {
      "text/plain": [
       "((<PowBackward0 at 0x208598db8b0>, 0), (<MulBackward0 at 0x208598dbdc0>, 0))"
      ]
     },
     "execution_count": 388,
     "metadata": {},
     "output_type": "execute_result"
    }
   ],
   "source": [
    "r.grad_fn.next_functions[0][0].next_functions[0][0].next_functions"
   ]
  },
  {
   "cell_type": "code",
   "execution_count": 389,
   "id": "241e7a12",
   "metadata": {},
   "outputs": [
    {
     "data": {
      "text/plain": [
       "<AccumulateGrad at 0x208598db130>"
      ]
     },
     "execution_count": 389,
     "metadata": {},
     "output_type": "execute_result"
    }
   ],
   "source": [
    "r.grad_fn.next_functions[0][0].next_functions[0][0].next_functions[0][0].next_functions[0][0]"
   ]
  },
  {
   "cell_type": "code",
   "execution_count": 391,
   "id": "5b0621be",
   "metadata": {},
   "outputs": [
    {
     "data": {
      "text/plain": [
       "()"
      ]
     },
     "execution_count": 391,
     "metadata": {},
     "output_type": "execute_result"
    }
   ],
   "source": [
    "r.grad_fn.next_functions[0][0].next_functions[0][0].next_functions[0][0].next_functions[0][0].next_functions"
   ]
  },
  {
   "cell_type": "code",
   "execution_count": null,
   "id": "73def7dc",
   "metadata": {},
   "outputs": [],
   "source": []
  },
  {
   "cell_type": "code",
   "execution_count": null,
   "id": "fcbf9a17",
   "metadata": {},
   "outputs": [],
   "source": []
  },
  {
   "cell_type": "markdown",
   "id": "e335c167",
   "metadata": {},
   "source": [
    "How to get the actual derivatives?"
   ]
  },
  {
   "cell_type": "code",
   "execution_count": 392,
   "id": "1ed58a77",
   "metadata": {},
   "outputs": [],
   "source": [
    "r.backward()"
   ]
  },
  {
   "cell_type": "code",
   "execution_count": 393,
   "id": "5e15be68",
   "metadata": {},
   "outputs": [
    {
     "data": {
      "text/plain": [
       "tensor([1., 2., 3., 4., 5.], dtype=torch.float64, requires_grad=True)"
      ]
     },
     "execution_count": 393,
     "metadata": {},
     "output_type": "execute_result"
    }
   ],
   "source": [
    "x"
   ]
  },
  {
   "cell_type": "code",
   "execution_count": 394,
   "id": "7deb9e58",
   "metadata": {},
   "outputs": [
    {
     "data": {
      "text/plain": [
       "tensor([ 5., 14., 29., 50., 77.], dtype=torch.float64)"
      ]
     },
     "execution_count": 394,
     "metadata": {},
     "output_type": "execute_result"
    }
   ],
   "source": [
    "x.grad"
   ]
  },
  {
   "cell_type": "markdown",
   "id": "b1b91cfb",
   "metadata": {},
   "source": [
    "Function: $x^{3} + 2x$ + 10\n",
    "\n",
    "Derivative: $3x^{2} + 2$ \n",
    "\n",
    "**x.grad elements are exactly the derivatives of x elements**"
   ]
  },
  {
   "cell_type": "code",
   "execution_count": null,
   "id": "2b735d22",
   "metadata": {},
   "outputs": [],
   "source": []
  },
  {
   "cell_type": "markdown",
   "id": "a266f503",
   "metadata": {},
   "source": [
    "## Datasets for DL\n",
    "\n",
    "For TF and torch come with their own dataset-handling wrappers that help training. The goal is to put the X and y in the most optimal format before training NNs\n"
   ]
  },
  {
   "cell_type": "code",
   "execution_count": null,
   "id": "f5bdc5ab",
   "metadata": {},
   "outputs": [],
   "source": [
    "import datetime\n",
    "%load_ext tensorboard"
   ]
  },
  {
   "cell_type": "code",
   "execution_count": 892,
   "id": "5c3835c1",
   "metadata": {},
   "outputs": [],
   "source": [
    "np.random.seed(91)\n",
    "\n",
    "X = np.random.sample((100, 4))\n",
    "y = np.random.sample((100,1))"
   ]
  },
  {
   "cell_type": "markdown",
   "id": "6324730f",
   "metadata": {},
   "source": [
    "\n",
    "### TensorFlow"
   ]
  },
  {
   "cell_type": "code",
   "execution_count": 693,
   "id": "7f38d4e8",
   "metadata": {},
   "outputs": [],
   "source": [
    "from tensorflow.data import Dataset"
   ]
  },
  {
   "cell_type": "code",
   "execution_count": 694,
   "id": "28ea9629",
   "metadata": {},
   "outputs": [
    {
     "data": {
      "text/plain": [
       "<TensorSliceDataset element_spec=(TensorSpec(shape=(4,), dtype=tf.float64, name=None), TensorSpec(shape=(1,), dtype=tf.float64, name=None))>"
      ]
     },
     "execution_count": 694,
     "metadata": {},
     "output_type": "execute_result"
    }
   ],
   "source": [
    "Dataset.from_tensor_slices((X, y))"
   ]
  },
  {
   "cell_type": "code",
   "execution_count": 695,
   "id": "2c2c6812",
   "metadata": {},
   "outputs": [
    {
     "data": {
      "text/plain": [
       "[(<tf.Tensor: shape=(4,), dtype=float64, numpy=array([0.2010036 , 0.32902047, 0.29649969, 0.09333367])>,\n",
       "  <tf.Tensor: shape=(1,), dtype=float64, numpy=array([0.0612686])>),\n",
       " (<tf.Tensor: shape=(4,), dtype=float64, numpy=array([0.33307881, 0.72522274, 0.65236274, 0.5048501 ])>,\n",
       "  <tf.Tensor: shape=(1,), dtype=float64, numpy=array([0.54184081])>),\n",
       " (<tf.Tensor: shape=(4,), dtype=float64, numpy=array([0.94733069, 0.62740158, 0.99228634, 0.07612124])>,\n",
       "  <tf.Tensor: shape=(1,), dtype=float64, numpy=array([0.92737875])>),\n",
       " (<tf.Tensor: shape=(4,), dtype=float64, numpy=array([0.34260853, 0.30693551, 0.71020463, 0.91731754])>,\n",
       "  <tf.Tensor: shape=(1,), dtype=float64, numpy=array([0.13922135])>),\n",
       " (<tf.Tensor: shape=(4,), dtype=float64, numpy=array([0.0809067 , 0.06283323, 0.5821683 , 0.66919822])>,\n",
       "  <tf.Tensor: shape=(1,), dtype=float64, numpy=array([0.15471663])>),\n",
       " (<tf.Tensor: shape=(4,), dtype=float64, numpy=array([0.00934138, 0.42192659, 0.39539143, 0.07320406])>,\n",
       "  <tf.Tensor: shape=(1,), dtype=float64, numpy=array([0.33174453])>),\n",
       " (<tf.Tensor: shape=(4,), dtype=float64, numpy=array([0.77029827, 0.18935925, 0.46800776, 0.65174853])>,\n",
       "  <tf.Tensor: shape=(1,), dtype=float64, numpy=array([0.4332902])>),\n",
       " (<tf.Tensor: shape=(4,), dtype=float64, numpy=array([0.00816027, 0.06797501, 0.74693017, 0.15747021])>,\n",
       "  <tf.Tensor: shape=(1,), dtype=float64, numpy=array([0.75659439])>),\n",
       " (<tf.Tensor: shape=(4,), dtype=float64, numpy=array([0.53480351, 0.67627636, 0.51955528, 0.5194003 ])>,\n",
       "  <tf.Tensor: shape=(1,), dtype=float64, numpy=array([0.73102993])>),\n",
       " (<tf.Tensor: shape=(4,), dtype=float64, numpy=array([0.46576155, 0.24464801, 0.91153997, 0.10767424])>,\n",
       "  <tf.Tensor: shape=(1,), dtype=float64, numpy=array([0.25360465])>)]"
      ]
     },
     "execution_count": 695,
     "metadata": {},
     "output_type": "execute_result"
    }
   ],
   "source": [
    "[x for x in Dataset.from_tensor_slices((X, y))][:10]"
   ]
  },
  {
   "cell_type": "code",
   "execution_count": null,
   "id": "cce537c3",
   "metadata": {},
   "outputs": [],
   "source": []
  },
  {
   "cell_type": "code",
   "execution_count": 696,
   "id": "b0a444ac",
   "metadata": {},
   "outputs": [
    {
     "data": {
      "text/plain": [
       "<TensorDataset element_spec=(TensorSpec(shape=(100, 4), dtype=tf.float64, name=None), TensorSpec(shape=(100, 1), dtype=tf.float64, name=None))>"
      ]
     },
     "execution_count": 696,
     "metadata": {},
     "output_type": "execute_result"
    }
   ],
   "source": [
    "Dataset.from_tensors((X, y))"
   ]
  },
  {
   "cell_type": "code",
   "execution_count": 697,
   "id": "baec2b4d",
   "metadata": {},
   "outputs": [
    {
     "data": {
      "text/plain": [
       "[(<tf.Tensor: shape=(100, 4), dtype=float64, numpy=\n",
       "  array([[2.01003596e-01, 3.29020466e-01, 2.96499689e-01, 9.33336685e-02],\n",
       "         [3.33078812e-01, 7.25222741e-01, 6.52362744e-01, 5.04850095e-01],\n",
       "         [9.47330686e-01, 6.27401578e-01, 9.92286341e-01, 7.61212443e-02],\n",
       "         [3.42608527e-01, 3.06935514e-01, 7.10204635e-01, 9.17317543e-01],\n",
       "         [8.09067005e-02, 6.28332321e-02, 5.82168300e-01, 6.69198223e-01],\n",
       "         [9.34138260e-03, 4.21926589e-01, 3.95391432e-01, 7.32040611e-02],\n",
       "         [7.70298271e-01, 1.89359253e-01, 4.68007755e-01, 6.51748528e-01],\n",
       "         [8.16027127e-03, 6.79750095e-02, 7.46930174e-01, 1.57470213e-01],\n",
       "         [5.34803513e-01, 6.76276363e-01, 5.19555276e-01, 5.19400301e-01],\n",
       "         [4.65761552e-01, 2.44648008e-01, 9.11539972e-01, 1.07674240e-01],\n",
       "         [4.81758821e-01, 7.48709547e-01, 3.84991610e-01, 7.51940803e-01],\n",
       "         [7.59634340e-01, 2.87916462e-01, 6.73431352e-01, 1.75573862e-01],\n",
       "         [6.71958510e-01, 2.96523407e-01, 5.09969499e-01, 2.53769864e-01],\n",
       "         [5.31415927e-01, 1.41245768e-01, 6.15818586e-01, 4.70393451e-01],\n",
       "         [9.50897301e-01, 3.57916641e-01, 9.80961853e-01, 8.14097179e-01],\n",
       "         [8.74845162e-01, 3.25091504e-01, 8.57936643e-01, 6.74145228e-01],\n",
       "         [8.69047401e-02, 8.40328128e-01, 9.12084400e-01, 4.91080316e-01],\n",
       "         [5.40664824e-01, 6.29950903e-01, 2.31346141e-01, 1.82690344e-01],\n",
       "         [4.69458045e-01, 8.30680883e-01, 3.94430380e-01, 8.11725407e-01],\n",
       "         [4.43225994e-01, 5.39311661e-01, 6.21082248e-01, 2.14681791e-01],\n",
       "         [9.61564952e-01, 7.77313013e-01, 5.37301658e-01, 3.87285662e-02],\n",
       "         [1.44994394e-01, 3.55282165e-01, 9.33467760e-01, 3.05901672e-01],\n",
       "         [3.37887137e-01, 3.22393161e-01, 3.33650115e-01, 7.38413247e-01],\n",
       "         [8.88162328e-01, 2.04849500e-01, 8.80587150e-01, 9.94444652e-01],\n",
       "         [9.96520188e-01, 4.11320882e-02, 8.35986117e-02, 2.93672675e-01],\n",
       "         [8.41879708e-01, 8.30728371e-01, 9.67536336e-01, 2.30049643e-01],\n",
       "         [7.79883400e-01, 4.53725123e-01, 3.71203610e-01, 5.38288554e-01],\n",
       "         [6.67162744e-03, 2.22319217e-01, 8.56507389e-01, 5.22904140e-01],\n",
       "         [2.12467287e-01, 1.74911208e-01, 4.58453902e-01, 5.78081369e-01],\n",
       "         [7.82178122e-01, 1.67982006e-01, 9.85672032e-01, 4.98200037e-01],\n",
       "         [5.61972103e-02, 5.12167732e-01, 6.51834441e-01, 4.49115887e-01],\n",
       "         [2.85861521e-01, 8.55528170e-01, 9.67025753e-01, 7.26827208e-01],\n",
       "         [9.81006818e-01, 2.31738114e-01, 8.58769841e-01, 6.41604381e-01],\n",
       "         [7.80144026e-01, 1.88636308e-01, 8.33375395e-01, 4.27253266e-01],\n",
       "         [8.49474188e-01, 8.10144078e-01, 8.57360347e-02, 9.76056696e-01],\n",
       "         [7.51840369e-01, 5.31986355e-01, 2.09735499e-01, 7.10341339e-01],\n",
       "         [8.82374037e-01, 1.01812650e-01, 9.02706307e-01, 8.03171133e-01],\n",
       "         [2.98549689e-01, 7.77918011e-01, 6.03205709e-02, 4.81245407e-02],\n",
       "         [2.12852218e-01, 8.06203126e-01, 1.79356866e-01, 8.82394497e-01],\n",
       "         [1.72906155e-01, 6.02117738e-01, 7.30336133e-01, 2.93345051e-01],\n",
       "         [8.81799136e-01, 4.98795486e-01, 1.08085195e-01, 7.31634230e-01],\n",
       "         [8.58626061e-01, 2.09848587e-01, 9.48337222e-01, 9.26862785e-01],\n",
       "         [3.28702562e-01, 1.45624908e-01, 7.50427622e-01, 1.90690212e-01],\n",
       "         [7.38376632e-01, 1.49192498e-01, 9.86142311e-01, 4.07596242e-01],\n",
       "         [1.24145163e-01, 8.27588103e-01, 8.30397431e-01, 8.14535250e-01],\n",
       "         [3.09712742e-01, 1.05441653e-01, 7.75614787e-01, 1.59258333e-02],\n",
       "         [8.88573501e-01, 5.61867825e-01, 6.55179202e-01, 1.62955559e-01],\n",
       "         [6.84857689e-01, 5.69998228e-01, 1.01032095e-01, 9.36742384e-01],\n",
       "         [6.62450014e-01, 6.04736241e-01, 5.31711719e-01, 6.24300156e-01],\n",
       "         [7.78108741e-01, 2.71056050e-01, 1.26967634e-01, 6.92244224e-02],\n",
       "         [2.37097059e-01, 4.55509702e-01, 3.45633953e-01, 3.75415454e-01],\n",
       "         [9.28207566e-01, 7.52712368e-01, 1.02611726e-01, 2.68869954e-01],\n",
       "         [6.49173317e-01, 7.44821111e-01, 8.99371456e-01, 4.30182882e-01],\n",
       "         [6.67922270e-01, 2.19700798e-01, 7.03562362e-01, 7.33586825e-01],\n",
       "         [9.89159487e-01, 1.31270118e-01, 6.59855206e-01, 7.33354864e-01],\n",
       "         [3.51797352e-01, 4.40098264e-01, 5.61743400e-03, 5.03400682e-01],\n",
       "         [4.97703186e-01, 3.20993814e-01, 7.39779788e-01, 5.52190082e-01],\n",
       "         [8.06293624e-01, 8.00683480e-03, 1.64292507e-01, 3.27695075e-01],\n",
       "         [6.90312588e-01, 7.20573683e-01, 4.54093068e-01, 7.11093320e-01],\n",
       "         [4.62273756e-01, 5.46358096e-01, 3.08711868e-01, 1.82882417e-01],\n",
       "         [9.72477039e-01, 1.83299478e-01, 5.11623946e-01, 2.91637468e-01],\n",
       "         [6.30670138e-01, 2.71806816e-01, 1.74321339e-01, 9.90872296e-02],\n",
       "         [6.06694222e-02, 2.47120768e-01, 4.49042948e-01, 3.00950781e-02],\n",
       "         [7.89889890e-01, 5.20374707e-01, 7.47074075e-01, 7.92789452e-01],\n",
       "         [7.71706045e-01, 3.09164615e-01, 4.98769366e-01, 2.77777186e-01],\n",
       "         [9.25523959e-01, 6.88773909e-01, 2.50042133e-01, 4.08389292e-01],\n",
       "         [5.94347712e-01, 6.57009248e-01, 2.95110551e-03, 2.32236486e-01],\n",
       "         [3.02220199e-01, 5.98032377e-01, 2.11182278e-01, 5.77658362e-01],\n",
       "         [6.48350676e-01, 9.65011899e-01, 2.66200125e-01, 8.10959845e-01],\n",
       "         [9.36721202e-01, 4.16053821e-01, 6.38273211e-01, 3.50804964e-01],\n",
       "         [7.39216749e-01, 9.71100537e-01, 1.53537991e-01, 7.47073177e-01],\n",
       "         [9.80721049e-01, 3.32828732e-01, 7.65366886e-01, 2.13399685e-01],\n",
       "         [6.05098938e-01, 6.63959519e-01, 6.13447176e-02, 5.98315837e-01],\n",
       "         [2.31179155e-01, 6.90923302e-01, 6.10257077e-01, 2.71733435e-02],\n",
       "         [7.07754012e-01, 7.37259923e-01, 8.22126671e-02, 6.70673435e-01],\n",
       "         [4.97145444e-01, 6.07730275e-01, 8.91957472e-01, 2.65557425e-01],\n",
       "         [1.77588589e-01, 1.04554353e-01, 1.13600587e-01, 1.68803846e-01],\n",
       "         [4.52336240e-01, 1.28534623e-01, 5.94608791e-01, 4.88285554e-01],\n",
       "         [1.79812152e-01, 8.77096588e-02, 3.84019287e-01, 7.46098726e-01],\n",
       "         [7.97694228e-01, 5.17883896e-01, 9.61133584e-01, 7.28385224e-01],\n",
       "         [7.11438119e-01, 1.20176036e-01, 3.68819921e-01, 2.04090020e-01],\n",
       "         [8.94473923e-02, 8.77078674e-01, 6.65546531e-01, 5.82655525e-02],\n",
       "         [7.39580510e-01, 1.57967918e-04, 8.85921953e-01, 9.77834438e-01],\n",
       "         [5.72957855e-01, 4.97025546e-01, 1.33243487e-01, 6.45645532e-01],\n",
       "         [7.06892449e-01, 9.27508596e-01, 8.18975544e-01, 1.17915465e-02],\n",
       "         [1.42453999e-01, 5.70034054e-01, 2.93253173e-01, 5.91464323e-01],\n",
       "         [9.50012849e-01, 8.79950664e-01, 9.77811200e-02, 3.42306685e-01],\n",
       "         [2.55091937e-01, 3.94817930e-01, 8.53283734e-01, 5.02692968e-01],\n",
       "         [2.78032618e-01, 9.58059539e-01, 5.11549065e-01, 7.18067153e-01],\n",
       "         [9.70485141e-01, 2.79887942e-01, 9.18165544e-01, 8.23351809e-01],\n",
       "         [2.41953323e-01, 1.45717136e-01, 3.25352670e-01, 3.01857277e-01],\n",
       "         [9.25517605e-01, 2.34458019e-01, 1.08329575e-02, 4.67156716e-01],\n",
       "         [4.16764971e-01, 2.84849455e-01, 7.22465034e-02, 6.26930303e-01],\n",
       "         [4.68025939e-01, 1.55132764e-01, 2.75821281e-01, 3.93878382e-01],\n",
       "         [6.60035677e-01, 2.96816982e-01, 6.87548298e-02, 2.77484850e-02],\n",
       "         [5.96836259e-01, 5.96121174e-01, 8.82120897e-01, 3.45356492e-01],\n",
       "         [5.24272673e-01, 6.24425798e-02, 2.49116498e-02, 6.17417672e-01],\n",
       "         [6.56913724e-01, 2.02623205e-02, 4.27068952e-01, 9.56799842e-01],\n",
       "         [4.04697468e-01, 9.97748839e-01, 3.15201769e-01, 9.42688449e-01],\n",
       "         [2.54996394e-01, 3.61955824e-01, 9.57605830e-01, 7.67095536e-01]])>,\n",
       "  <tf.Tensor: shape=(100, 1), dtype=float64, numpy=\n",
       "  array([[0.0612686 ],\n",
       "         [0.54184081],\n",
       "         [0.92737875],\n",
       "         [0.13922135],\n",
       "         [0.15471663],\n",
       "         [0.33174453],\n",
       "         [0.4332902 ],\n",
       "         [0.75659439],\n",
       "         [0.73102993],\n",
       "         [0.25360465],\n",
       "         [0.51889284],\n",
       "         [0.56328569],\n",
       "         [0.18268248],\n",
       "         [0.80379154],\n",
       "         [0.82680008],\n",
       "         [0.441823  ],\n",
       "         [0.84656079],\n",
       "         [0.83180406],\n",
       "         [0.83819844],\n",
       "         [0.11044655],\n",
       "         [0.65762317],\n",
       "         [0.08128573],\n",
       "         [0.02346768],\n",
       "         [0.54941106],\n",
       "         [0.3595139 ],\n",
       "         [0.38454032],\n",
       "         [0.43527374],\n",
       "         [0.38539181],\n",
       "         [0.46722784],\n",
       "         [0.9224654 ],\n",
       "         [0.84206577],\n",
       "         [0.97472651],\n",
       "         [0.93655137],\n",
       "         [0.88943897],\n",
       "         [0.75653405],\n",
       "         [0.78467646],\n",
       "         [0.93248865],\n",
       "         [0.25587314],\n",
       "         [0.43651576],\n",
       "         [0.98328369],\n",
       "         [0.03481775],\n",
       "         [0.57874518],\n",
       "         [0.86454753],\n",
       "         [0.88460254],\n",
       "         [0.07861094],\n",
       "         [0.41660718],\n",
       "         [0.80184748],\n",
       "         [0.07099045],\n",
       "         [0.74473347],\n",
       "         [0.45077915],\n",
       "         [0.3761972 ],\n",
       "         [0.56374365],\n",
       "         [0.86053679],\n",
       "         [0.97762635],\n",
       "         [0.26526212],\n",
       "         [0.21285429],\n",
       "         [0.12395126],\n",
       "         [0.00304149],\n",
       "         [0.28749181],\n",
       "         [0.88552771],\n",
       "         [0.17343671],\n",
       "         [0.89686123],\n",
       "         [0.32745194],\n",
       "         [0.20611006],\n",
       "         [0.9812375 ],\n",
       "         [0.3979633 ],\n",
       "         [0.02833172],\n",
       "         [0.67539339],\n",
       "         [0.18437164],\n",
       "         [0.79828018],\n",
       "         [0.3446273 ],\n",
       "         [0.69359747],\n",
       "         [0.01266894],\n",
       "         [0.60635379],\n",
       "         [0.35891385],\n",
       "         [0.40994824],\n",
       "         [0.86205782],\n",
       "         [0.08396527],\n",
       "         [0.56998836],\n",
       "         [0.92642167],\n",
       "         [0.21447226],\n",
       "         [0.84199452],\n",
       "         [0.53990063],\n",
       "         [0.25622208],\n",
       "         [0.9947923 ],\n",
       "         [0.89380499],\n",
       "         [0.92379684],\n",
       "         [0.12191488],\n",
       "         [0.45597523],\n",
       "         [0.18511984],\n",
       "         [0.97867799],\n",
       "         [0.28384629],\n",
       "         [0.58263113],\n",
       "         [0.49130363],\n",
       "         [0.57433549],\n",
       "         [0.08824668],\n",
       "         [0.54122927],\n",
       "         [0.68648551],\n",
       "         [0.89151637],\n",
       "         [0.39108012]])>)]"
      ]
     },
     "execution_count": 697,
     "metadata": {},
     "output_type": "execute_result"
    }
   ],
   "source": [
    "[x for x in Dataset.from_tensors((X, y))]"
   ]
  },
  {
   "cell_type": "code",
   "execution_count": null,
   "id": "51ec028c",
   "metadata": {},
   "outputs": [],
   "source": []
  },
  {
   "cell_type": "markdown",
   "id": "b88dea50",
   "metadata": {},
   "source": [
    "Add metainfo to the dataset\n",
    "- shuffle: at each step randomly shuffle the dataset (buffer = take from first n)\n",
    "- batch: set batch size for dataset"
   ]
  },
  {
   "cell_type": "code",
   "execution_count": 698,
   "id": "aed6a8f6",
   "metadata": {},
   "outputs": [],
   "source": [
    "BATCH_SIZE = 10\n",
    "SHUFFLE_BUFFER_SIZE = 20\n",
    "EPOCHS = 75\n",
    "\n",
    "train_dataset = Dataset.from_tensor_slices((X, y)).shuffle(SHUFFLE_BUFFER_SIZE).batch(BATCH_SIZE)"
   ]
  },
  {
   "cell_type": "code",
   "execution_count": 664,
   "id": "66797a2f",
   "metadata": {},
   "outputs": [],
   "source": [
    "model = tf.keras.Sequential([\n",
    "    tf.keras.layers.Dense(10, activation='relu', name = 'hidden-layer', input_shape = (X.shape[1],)),\n",
    "    tf.keras.layers.Dense(1, activation='linear', name = 'output-layer')\n",
    "], name = 'Small-TF-model')\n",
    "\n",
    "model.compile(optimizer = tf.optimizers.Adam(),\n",
    "              loss = tf.losses.MeanSquaredError(),\n",
    "              metrics = [tf.metrics.RootMeanSquaredError()])\n",
    "\n",
    "model.build()"
   ]
  },
  {
   "cell_type": "code",
   "execution_count": 665,
   "id": "6d2e6100",
   "metadata": {},
   "outputs": [
    {
     "name": "stdout",
     "output_type": "stream",
     "text": [
      "Model: \"Small-TF-model\"\n",
      "_________________________________________________________________\n",
      " Layer (type)                Output Shape              Param #   \n",
      "=================================================================\n",
      " hidden-layer (Dense)        (None, 10)                50        \n",
      "                                                                 \n",
      " output-layer (Dense)        (None, 1)                 11        \n",
      "                                                                 \n",
      "=================================================================\n",
      "Total params: 61\n",
      "Trainable params: 61\n",
      "Non-trainable params: 0\n",
      "_________________________________________________________________\n"
     ]
    }
   ],
   "source": [
    "model.summary()"
   ]
  },
  {
   "cell_type": "code",
   "execution_count": 666,
   "id": "2cbaa88c",
   "metadata": {},
   "outputs": [
    {
     "data": {
      "image/png": "[encoded data removed]",
      "text/plain": [
       "<IPython.core.display.Image object>"
      ]
     },
     "execution_count": 666,
     "metadata": {},
     "output_type": "execute_result"
    }
   ],
   "source": [
    "tf.keras.utils.plot_model(model, to_file = 'torch_viz/tf_model.png', show_shapes = True, rankdir = 'LR',\n",
    "                         show_dtype = False, show_layer_activations = True)"
   ]
  },
  {
   "cell_type": "code",
   "execution_count": 667,
   "id": "78b7b20e",
   "metadata": {},
   "outputs": [
    {
     "name": "stdout",
     "output_type": "stream",
     "text": [
      "Epoch 1/75\n",
      "10/10 [==============================] - 0s 10ms/step - loss: 0.2008 - root_mean_squared_error: 0.4481\n",
      "Epoch 2/75\n",
      "10/10 [==============================] - 0s 5ms/step - loss: 0.1760 - root_mean_squared_error: 0.4196\n",
      "Epoch 3/75\n",
      "10/10 [==============================] - 0s 5ms/step - loss: 0.1567 - root_mean_squared_error: 0.3959\n",
      "Epoch 4/75\n",
      "10/10 [==============================] - 0s 5ms/step - loss: 0.1430 - root_mean_squared_error: 0.3781\n",
      "Epoch 5/75\n",
      "10/10 [==============================] - 0s 5ms/step - loss: 0.1330 - root_mean_squared_error: 0.3647\n",
      "Epoch 6/75\n",
      "10/10 [==============================] - 0s 5ms/step - loss: 0.1265 - root_mean_squared_error: 0.3556\n",
      "Epoch 7/75\n",
      "10/10 [==============================] - 0s 5ms/step - loss: 0.1209 - root_mean_squared_error: 0.3478\n",
      "Epoch 8/75\n",
      "10/10 [==============================] - 0s 6ms/step - loss: 0.1178 - root_mean_squared_error: 0.3433\n",
      "Epoch 9/75\n",
      "10/10 [==============================] - 0s 8ms/step - loss: 0.1152 - root_mean_squared_error: 0.3395\n",
      "Epoch 10/75\n",
      "10/10 [==============================] - 0s 6ms/step - loss: 0.1131 - root_mean_squared_error: 0.3363\n",
      "Epoch 11/75\n",
      "10/10 [==============================] - 0s 5ms/step - loss: 0.1111 - root_mean_squared_error: 0.3334\n",
      "Epoch 12/75\n",
      "10/10 [==============================] - 0s 5ms/step - loss: 0.1093 - root_mean_squared_error: 0.3306\n",
      "Epoch 13/75\n",
      "10/10 [==============================] - 0s 7ms/step - loss: 0.1076 - root_mean_squared_error: 0.3280\n",
      "Epoch 14/75\n",
      "10/10 [==============================] - 0s 6ms/step - loss: 0.1062 - root_mean_squared_error: 0.3258\n",
      "Epoch 15/75\n",
      "10/10 [==============================] - 0s 6ms/step - loss: 0.1047 - root_mean_squared_error: 0.3236\n",
      "Epoch 16/75\n",
      "10/10 [==============================] - 0s 6ms/step - loss: 0.1032 - root_mean_squared_error: 0.3213\n",
      "Epoch 17/75\n",
      "10/10 [==============================] - 0s 6ms/step - loss: 0.1019 - root_mean_squared_error: 0.3192\n",
      "Epoch 18/75\n",
      "10/10 [==============================] - 0s 6ms/step - loss: 0.1007 - root_mean_squared_error: 0.3174\n",
      "Epoch 19/75\n",
      "10/10 [==============================] - 0s 6ms/step - loss: 0.0995 - root_mean_squared_error: 0.3155\n",
      "Epoch 20/75\n",
      "10/10 [==============================] - 0s 6ms/step - loss: 0.0984 - root_mean_squared_error: 0.3137\n",
      "Epoch 21/75\n",
      "10/10 [==============================] - 0s 8ms/step - loss: 0.0973 - root_mean_squared_error: 0.3120\n",
      "Epoch 22/75\n",
      "10/10 [==============================] - 0s 7ms/step - loss: 0.0965 - root_mean_squared_error: 0.3106\n",
      "Epoch 23/75\n",
      "10/10 [==============================] - 0s 6ms/step - loss: 0.0957 - root_mean_squared_error: 0.3093\n",
      "Epoch 24/75\n",
      "10/10 [==============================] - 0s 16ms/step - loss: 0.0948 - root_mean_squared_error: 0.3079\n",
      "Epoch 25/75\n",
      "10/10 [==============================] - 0s 7ms/step - loss: 0.0940 - root_mean_squared_error: 0.3067\n",
      "Epoch 26/75\n",
      "10/10 [==============================] - 0s 6ms/step - loss: 0.0935 - root_mean_squared_error: 0.3058\n",
      "Epoch 27/75\n",
      "10/10 [==============================] - 0s 5ms/step - loss: 0.0929 - root_mean_squared_error: 0.3048\n",
      "Epoch 28/75\n",
      "10/10 [==============================] - 0s 6ms/step - loss: 0.0924 - root_mean_squared_error: 0.3039\n",
      "Epoch 29/75\n",
      "10/10 [==============================] - 0s 9ms/step - loss: 0.0918 - root_mean_squared_error: 0.3030\n",
      "Epoch 30/75\n",
      "10/10 [==============================] - 0s 6ms/step - loss: 0.0915 - root_mean_squared_error: 0.3025\n",
      "Epoch 31/75\n",
      "10/10 [==============================] - 0s 5ms/step - loss: 0.0911 - root_mean_squared_error: 0.3019\n",
      "Epoch 32/75\n",
      "10/10 [==============================] - 0s 6ms/step - loss: 0.0907 - root_mean_squared_error: 0.3011\n",
      "Epoch 33/75\n",
      "10/10 [==============================] - 0s 6ms/step - loss: 0.0906 - root_mean_squared_error: 0.3010\n",
      "Epoch 34/75\n",
      "10/10 [==============================] - 0s 7ms/step - loss: 0.0901 - root_mean_squared_error: 0.3002\n",
      "Epoch 35/75\n",
      "10/10 [==============================] - 0s 6ms/step - loss: 0.0902 - root_mean_squared_error: 0.3003\n",
      "Epoch 36/75\n",
      "10/10 [==============================] - 0s 7ms/step - loss: 0.0897 - root_mean_squared_error: 0.2995\n",
      "Epoch 37/75\n",
      "10/10 [==============================] - 0s 7ms/step - loss: 0.0895 - root_mean_squared_error: 0.2991\n",
      "Epoch 38/75\n",
      "10/10 [==============================] - 0s 6ms/step - loss: 0.0892 - root_mean_squared_error: 0.2987\n",
      "Epoch 39/75\n",
      "10/10 [==============================] - 0s 6ms/step - loss: 0.0891 - root_mean_squared_error: 0.2985\n",
      "Epoch 40/75\n",
      "10/10 [==============================] - 0s 7ms/step - loss: 0.0889 - root_mean_squared_error: 0.2982\n",
      "Epoch 41/75\n",
      "10/10 [==============================] - 0s 6ms/step - loss: 0.0887 - root_mean_squared_error: 0.2979\n",
      "Epoch 42/75\n",
      "10/10 [==============================] - 0s 9ms/step - loss: 0.0885 - root_mean_squared_error: 0.2976\n",
      "Epoch 43/75\n",
      "10/10 [==============================] - 0s 11ms/step - loss: 0.0887 - root_mean_squared_error: 0.2978\n",
      "Epoch 44/75\n",
      "10/10 [==============================] - 0s 9ms/step - loss: 0.0883 - root_mean_squared_error: 0.2972\n",
      "Epoch 45/75\n",
      "10/10 [==============================] - 0s 12ms/step - loss: 0.0882 - root_mean_squared_error: 0.2969\n",
      "Epoch 46/75\n",
      "10/10 [==============================] - 0s 7ms/step - loss: 0.0881 - root_mean_squared_error: 0.2968\n",
      "Epoch 47/75\n",
      "10/10 [==============================] - 0s 6ms/step - loss: 0.0880 - root_mean_squared_error: 0.2966\n",
      "Epoch 48/75\n",
      "10/10 [==============================] - 0s 7ms/step - loss: 0.0878 - root_mean_squared_error: 0.2963\n",
      "Epoch 49/75\n",
      "10/10 [==============================] - 0s 7ms/step - loss: 0.0878 - root_mean_squared_error: 0.2963\n",
      "Epoch 50/75\n",
      "10/10 [==============================] - 0s 7ms/step - loss: 0.0876 - root_mean_squared_error: 0.2960\n",
      "Epoch 51/75\n",
      "10/10 [==============================] - 0s 7ms/step - loss: 0.0875 - root_mean_squared_error: 0.2958\n",
      "Epoch 52/75\n",
      "10/10 [==============================] - 0s 6ms/step - loss: 0.0875 - root_mean_squared_error: 0.2957\n",
      "Epoch 53/75\n",
      "10/10 [==============================] - 0s 6ms/step - loss: 0.0873 - root_mean_squared_error: 0.2955\n",
      "Epoch 54/75\n",
      "10/10 [==============================] - 0s 7ms/step - loss: 0.0873 - root_mean_squared_error: 0.2955\n",
      "Epoch 55/75\n",
      "10/10 [==============================] - 0s 6ms/step - loss: 0.0872 - root_mean_squared_error: 0.2953\n",
      "Epoch 56/75\n",
      "10/10 [==============================] - 0s 9ms/step - loss: 0.0871 - root_mean_squared_error: 0.2951\n",
      "Epoch 57/75\n",
      "10/10 [==============================] - 0s 8ms/step - loss: 0.0872 - root_mean_squared_error: 0.2954\n",
      "Epoch 58/75\n",
      "10/10 [==============================] - 0s 11ms/step - loss: 0.0869 - root_mean_squared_error: 0.2948\n",
      "Epoch 59/75\n",
      "10/10 [==============================] - 0s 9ms/step - loss: 0.0868 - root_mean_squared_error: 0.2947\n",
      "Epoch 60/75\n",
      "10/10 [==============================] - 0s 12ms/step - loss: 0.0868 - root_mean_squared_error: 0.2946\n",
      "Epoch 61/75\n",
      "10/10 [==============================] - 0s 6ms/step - loss: 0.0867 - root_mean_squared_error: 0.2945\n",
      "Epoch 62/75\n",
      "10/10 [==============================] - 0s 6ms/step - loss: 0.0867 - root_mean_squared_error: 0.2944\n",
      "Epoch 63/75\n",
      "10/10 [==============================] - 0s 6ms/step - loss: 0.0866 - root_mean_squared_error: 0.2942\n",
      "Epoch 64/75\n",
      "10/10 [==============================] - 0s 6ms/step - loss: 0.0866 - root_mean_squared_error: 0.2943\n",
      "Epoch 65/75\n",
      "10/10 [==============================] - 0s 6ms/step - loss: 0.0865 - root_mean_squared_error: 0.2942\n",
      "Epoch 66/75\n",
      "10/10 [==============================] - 0s 6ms/step - loss: 0.0864 - root_mean_squared_error: 0.2940\n",
      "Epoch 67/75\n",
      "10/10 [==============================] - 0s 7ms/step - loss: 0.0863 - root_mean_squared_error: 0.2938\n",
      "Epoch 68/75\n",
      "10/10 [==============================] - 0s 8ms/step - loss: 0.0863 - root_mean_squared_error: 0.2938\n",
      "Epoch 69/75\n",
      "10/10 [==============================] - 0s 7ms/step - loss: 0.0863 - root_mean_squared_error: 0.2937\n",
      "Epoch 70/75\n",
      "10/10 [==============================] - 0s 5ms/step - loss: 0.0862 - root_mean_squared_error: 0.2936\n",
      "Epoch 71/75\n",
      "10/10 [==============================] - 0s 7ms/step - loss: 0.0861 - root_mean_squared_error: 0.2934\n",
      "Epoch 72/75\n"
     ]
    },
    {
     "name": "stdout",
     "output_type": "stream",
     "text": [
      "10/10 [==============================] - 0s 6ms/step - loss: 0.0860 - root_mean_squared_error: 0.2933\n",
      "Epoch 73/75\n",
      "10/10 [==============================] - 0s 7ms/step - loss: 0.0861 - root_mean_squared_error: 0.2934\n",
      "Epoch 74/75\n",
      "10/10 [==============================] - 0s 7ms/step - loss: 0.0861 - root_mean_squared_error: 0.2934\n",
      "Epoch 75/75\n",
      "10/10 [==============================] - 0s 9ms/step - loss: 0.0860 - root_mean_squared_error: 0.2932\n"
     ]
    }
   ],
   "source": [
    "log_dir = \"logs/fit/\" + datetime.datetime.now().strftime(\"%Y%m%d-%H%M%S\")\n",
    "tensorboard_callback = tf.keras.callbacks.TensorBoard(log_dir=log_dir, histogram_freq=1)\n",
    "\n",
    "history = model.fit(train_dataset, epochs = EPOCHS, callbacks=[tensorboard_callback])"
   ]
  },
  {
   "cell_type": "code",
   "execution_count": 677,
   "id": "e9ce74b4",
   "metadata": {},
   "outputs": [
    {
     "data": {
      "image/png": "[encoded data removed]",
      "text/plain": [
       "<Figure size 576x288 with 1 Axes>"
      ]
     },
     "metadata": {
      "needs_background": "light"
     },
     "output_type": "display_data"
    }
   ],
   "source": [
    "import matplotlib.pyplot as plt\n",
    "\n",
    "plt.figure(figsize=(8, 4))\n",
    "plt.plot(history.epoch, history.history['root_mean_squared_error'])\n",
    "plt.title('RMSE learning - TensorFlow')\n",
    "plt.show()"
   ]
  },
  {
   "cell_type": "code",
   "execution_count": null,
   "id": "34ae279e",
   "metadata": {},
   "outputs": [],
   "source": []
  },
  {
   "cell_type": "markdown",
   "id": "1bfd1f36",
   "metadata": {},
   "source": [
    "Check tuned weights"
   ]
  },
  {
   "cell_type": "code",
   "execution_count": 669,
   "id": "bd8b9a4c",
   "metadata": {},
   "outputs": [
    {
     "data": {
      "text/plain": [
       "[<keras.layers.core.dense.Dense at 0x20863137c70>,\n",
       " <keras.layers.core.dense.Dense at 0x208631374f0>]"
      ]
     },
     "execution_count": 669,
     "metadata": {},
     "output_type": "execute_result"
    }
   ],
   "source": [
    "model.layers"
   ]
  },
  {
   "cell_type": "code",
   "execution_count": 670,
   "id": "503a7096",
   "metadata": {},
   "outputs": [
    {
     "data": {
      "text/plain": [
       "[array([[ 0.13356616, -0.23184103, -0.5443132 , -0.10233116, -0.07444286,\n",
       "          0.23965907,  0.47331697, -0.44415608, -0.36464047,  0.4053294 ],\n",
       "        [-0.24472213,  0.5606812 ,  0.6454616 , -0.14087802,  0.50806445,\n",
       "          0.03786996,  0.53562814,  0.03664297, -0.11097383,  0.3201848 ],\n",
       "        [ 0.19557616, -0.62026364, -0.4806078 , -0.64110017,  0.37567306,\n",
       "         -0.352611  ,  0.5403743 , -0.5973329 , -0.30109015, -0.612296  ],\n",
       "        [-0.5067994 ,  0.45779827,  0.55326277, -0.35110492, -0.5225075 ,\n",
       "          0.10500775,  0.0905146 ,  0.20704941, -0.53196853, -0.18111397]],\n",
       "       dtype=float32),\n",
       " array([-0.07871248, -0.0500306 ,  0.07235297,  0.        ,  0.15256   ,\n",
       "         0.08016496,  0.11844386, -0.01730376,  0.        ,  0.03492459],\n",
       "       dtype=float32)]"
      ]
     },
     "execution_count": 670,
     "metadata": {},
     "output_type": "execute_result"
    }
   ],
   "source": [
    "model.layers[0].get_weights()"
   ]
  },
  {
   "cell_type": "code",
   "execution_count": 671,
   "id": "8a6caf2e",
   "metadata": {},
   "outputs": [
    {
     "data": {
      "text/plain": [
       "[array([[-0.41227996],\n",
       "        [-0.4362163 ],\n",
       "        [ 0.19085176],\n",
       "        [-0.27895212],\n",
       "        [ 0.20415822],\n",
       "        [ 0.5237141 ],\n",
       "        [ 0.35333878],\n",
       "        [-0.40799072],\n",
       "        [ 0.11117435],\n",
       "        [-0.28733528]], dtype=float32),\n",
       " array([0.11085096], dtype=float32)]"
      ]
     },
     "execution_count": 671,
     "metadata": {},
     "output_type": "execute_result"
    }
   ],
   "source": [
    "model.layers[1].get_weights()"
   ]
  },
  {
   "cell_type": "code",
   "execution_count": null,
   "id": "867f1c94",
   "metadata": {},
   "outputs": [],
   "source": []
  },
  {
   "cell_type": "markdown",
   "id": "19d5709c",
   "metadata": {},
   "source": [
    "Check TensorBoard"
   ]
  },
  {
   "cell_type": "markdown",
   "id": "2912d53b",
   "metadata": {},
   "source": [
    "If need to kill: C:\\Users\\krist\\AppData\\Local\\Temp\\.tensorboard-info"
   ]
  },
  {
   "cell_type": "code",
   "execution_count": 676,
   "id": "6ac4ad8c",
   "metadata": {},
   "outputs": [],
   "source": [
    "#%tensorboard --logdir logs/fit"
   ]
  },
  {
   "cell_type": "code",
   "execution_count": 660,
   "id": "601768b0",
   "metadata": {},
   "outputs": [],
   "source": []
  },
  {
   "cell_type": "markdown",
   "id": "ab71bab7",
   "metadata": {},
   "source": [
    "\n",
    "### PyTorch"
   ]
  },
  {
   "cell_type": "code",
   "execution_count": 699,
   "id": "14717001",
   "metadata": {},
   "outputs": [],
   "source": [
    "# import torch\n",
    "\n",
    "from torch.utils.data import TensorDataset, DataLoader\n",
    "\n",
    "import torch.nn as nn \n",
    "import torch.nn.functional as F\n",
    "import torch.optim as optim"
   ]
  },
  {
   "cell_type": "markdown",
   "id": "081f794a",
   "metadata": {},
   "source": [
    "Try some activations"
   ]
  },
  {
   "cell_type": "code",
   "execution_count": 769,
   "id": "db16b61a",
   "metadata": {},
   "outputs": [
    {
     "name": "stdout",
     "output_type": "stream",
     "text": [
      "tensor(0.2300)\n",
      "tensor(0.2300)\n",
      "tensor(0.2300)\n",
      "tensor(0.2300)\n",
      "tensor(0.1359)\n",
      "tensor(0.5572)\n",
      "tensor(1.)\n",
      "tensor(0.2260)\n"
     ]
    }
   ],
   "source": [
    "i = np.array(0.23)\n",
    "i = torch.Tensor(i)\n",
    "\n",
    "print(F.elu(i))\n",
    "print(F.relu(i))\n",
    "print(F.leaky_relu(i))\n",
    "print(F.celu(i))\n",
    "print(F.gelu(i))\n",
    "print(F.sigmoid(i))\n",
    "print(F.softmax(i))\n",
    "print(F.tanh(i))"
   ]
  },
  {
   "cell_type": "code",
   "execution_count": 770,
   "id": "2e9f9875",
   "metadata": {},
   "outputs": [
    {
     "name": "stdout",
     "output_type": "stream",
     "text": [
      "tensor(-0.2055)\n",
      "tensor(0.)\n",
      "tensor(-0.0023)\n",
      "tensor(-0.2055)\n",
      "tensor(-0.0941)\n",
      "tensor(0.4428)\n",
      "tensor(1.)\n",
      "tensor(-0.2260)\n"
     ]
    }
   ],
   "source": [
    "i = np.array(-0.23)\n",
    "i = torch.Tensor(i)\n",
    "\n",
    "print(F.elu(i))\n",
    "print(F.relu(i))\n",
    "print(F.leaky_relu(i))\n",
    "print(F.celu(i))\n",
    "print(F.gelu(i))\n",
    "print(F.sigmoid(i))\n",
    "print(F.softmax(i))\n",
    "print(F.tanh(i))"
   ]
  },
  {
   "cell_type": "code",
   "execution_count": null,
   "id": "204b8a6b",
   "metadata": {},
   "outputs": [],
   "source": []
  },
  {
   "cell_type": "code",
   "execution_count": 700,
   "id": "63367a0c",
   "metadata": {},
   "outputs": [
    {
     "name": "stdout",
     "output_type": "stream",
     "text": [
      "(100, 4)\n",
      "(100, 1)\n"
     ]
    }
   ],
   "source": [
    "print(X.shape)\n",
    "print(y.shape)"
   ]
  },
  {
   "cell_type": "code",
   "execution_count": 736,
   "id": "7fa6ccff",
   "metadata": {},
   "outputs": [],
   "source": [
    "torch_train_data = TensorDataset(torch.Tensor(X), torch.Tensor(y))\n",
    "torch_train_data = DataLoader(torch_train_data, batch_size = BATCH_SIZE, shuffle = True)"
   ]
  },
  {
   "cell_type": "code",
   "execution_count": 737,
   "id": "2ed8f3b5",
   "metadata": {},
   "outputs": [
    {
     "data": {
      "text/plain": [
       "<torch.utils.data.dataloader.DataLoader at 0x2085ab5cb80>"
      ]
     },
     "execution_count": 737,
     "metadata": {},
     "output_type": "execute_result"
    }
   ],
   "source": [
    "torch_train_data"
   ]
  },
  {
   "cell_type": "code",
   "execution_count": 738,
   "id": "118ce7a0",
   "metadata": {},
   "outputs": [
    {
     "data": {
      "text/plain": [
       "<torch.utils.data.dataset.TensorDataset at 0x208585e0610>"
      ]
     },
     "execution_count": 738,
     "metadata": {},
     "output_type": "execute_result"
    }
   ],
   "source": [
    "torch_train_data.dataset"
   ]
  },
  {
   "cell_type": "code",
   "execution_count": 739,
   "id": "071c1e1e",
   "metadata": {},
   "outputs": [
    {
     "data": {
      "text/plain": [
       "torch.Size([100, 4])"
      ]
     },
     "execution_count": 739,
     "metadata": {},
     "output_type": "execute_result"
    }
   ],
   "source": [
    "torch_train_data.dataset.tensors[0].shape"
   ]
  },
  {
   "cell_type": "code",
   "execution_count": 740,
   "id": "34649af0",
   "metadata": {},
   "outputs": [
    {
     "data": {
      "text/plain": [
       "torch.Size([100, 1])"
      ]
     },
     "execution_count": 740,
     "metadata": {},
     "output_type": "execute_result"
    }
   ],
   "source": [
    "torch_train_data.dataset.tensors[1].shape"
   ]
  },
  {
   "cell_type": "code",
   "execution_count": 742,
   "id": "8a3f4242",
   "metadata": {},
   "outputs": [
    {
     "data": {
      "text/plain": [
       "10"
      ]
     },
     "execution_count": 742,
     "metadata": {},
     "output_type": "execute_result"
    }
   ],
   "source": [
    "torch_train_data.batch_size"
   ]
  },
  {
   "cell_type": "code",
   "execution_count": null,
   "id": "529dfacb",
   "metadata": {},
   "outputs": [],
   "source": []
  },
  {
   "cell_type": "markdown",
   "id": "bd9bcfed",
   "metadata": {},
   "source": [
    "Match structure of model built with TensorFlow"
   ]
  },
  {
   "cell_type": "code",
   "execution_count": 870,
   "id": "d8e7dc24",
   "metadata": {},
   "outputs": [],
   "source": [
    "class Simple_torch_NN(nn.Module):\n",
    "    \n",
    "    def __init__(self):\n",
    "        \n",
    "        super(Simple_torch_NN, self).__init__()\n",
    "        \n",
    "        self.hidden = nn.Linear(4, 10)\n",
    "        self.output = nn.Linear(10, 1)\n",
    " \n",
    "    def forward(self, x):\n",
    "        \n",
    "        x = F.relu(self.hidden(x))\n",
    "        x = self.output(x)\n",
    "        \n",
    "        return x"
   ]
  },
  {
   "cell_type": "code",
   "execution_count": 871,
   "id": "7acc9310",
   "metadata": {},
   "outputs": [],
   "source": [
    "torch_model = Simple_torch_NN()"
   ]
  },
  {
   "cell_type": "code",
   "execution_count": 872,
   "id": "d7c929b4",
   "metadata": {},
   "outputs": [
    {
     "data": {
      "text/plain": [
       "Simple_torch_NN(\n",
       "  (hidden): Linear(in_features=4, out_features=10, bias=True)\n",
       "  (output): Linear(in_features=10, out_features=1, bias=True)\n",
       ")"
      ]
     },
     "execution_count": 872,
     "metadata": {},
     "output_type": "execute_result"
    }
   ],
   "source": [
    "torch_model"
   ]
  },
  {
   "cell_type": "markdown",
   "id": "5a158fcd",
   "metadata": {},
   "source": [
    "Initial random weights"
   ]
  },
  {
   "cell_type": "code",
   "execution_count": 873,
   "id": "1059dd6e",
   "metadata": {},
   "outputs": [
    {
     "name": "stdout",
     "output_type": "stream",
     "text": [
      "Layer: hidden.weight | Size: torch.Size([10, 4]) | Values : Parameter containing:\n",
      "tensor([[-0.1148, -0.1211, -0.3228, -0.3429],\n",
      "        [-0.4986, -0.1641, -0.4776,  0.4820],\n",
      "        [-0.0630,  0.0043,  0.3528, -0.2172],\n",
      "        [ 0.0375,  0.2093,  0.2909, -0.2861],\n",
      "        [ 0.3662,  0.4613,  0.4985, -0.2018],\n",
      "        [-0.4667,  0.1171,  0.3542, -0.3020],\n",
      "        [-0.4878,  0.3550, -0.3201, -0.2226],\n",
      "        [ 0.1609, -0.0395,  0.0793, -0.2767],\n",
      "        [-0.1634, -0.1738, -0.3835, -0.0221],\n",
      "        [ 0.1847,  0.0878,  0.0282,  0.4210]], requires_grad=True) \n",
      "\n",
      "Layer: hidden.bias | Size: torch.Size([10]) | Values : Parameter containing:\n",
      "tensor([-0.1178, -0.0932,  0.1095, -0.0942, -0.2754,  0.1748, -0.2523, -0.1357,\n",
      "        -0.2419,  0.1356], requires_grad=True) \n",
      "\n",
      "Layer: output.weight | Size: torch.Size([1, 10]) | Values : Parameter containing:\n",
      "tensor([[-0.0503,  0.2229,  0.0749,  0.1116,  0.1965, -0.2566, -0.3107,  0.2854,\n",
      "          0.1715,  0.0402]], requires_grad=True) \n",
      "\n",
      "Layer: output.bias | Size: torch.Size([1]) | Values : Parameter containing:\n",
      "tensor([-0.2781], requires_grad=True) \n",
      "\n"
     ]
    }
   ],
   "source": [
    "# for param in torch_model.parameters():\n",
    "#     print(param, '\\n')\n",
    "\n",
    "for name, param in torch_model.named_parameters():\n",
    "    print(f\"Layer: {name} | Size: {param.size()} | Values : {param} \\n\")"
   ]
  },
  {
   "cell_type": "markdown",
   "id": "23b89639",
   "metadata": {},
   "source": [
    "Compile"
   ]
  },
  {
   "cell_type": "code",
   "execution_count": 874,
   "id": "bcdc91c2",
   "metadata": {},
   "outputs": [],
   "source": [
    "optimizer = optim.Adam(torch_model.parameters(), eps = 1e-07) # to match TF\n",
    "loss = nn.MSELoss()"
   ]
  },
  {
   "cell_type": "code",
   "execution_count": null,
   "id": "a6cc0da7",
   "metadata": {},
   "outputs": [],
   "source": []
  },
  {
   "cell_type": "markdown",
   "id": "471e7e68",
   "metadata": {},
   "source": [
    "Train\n",
    "\n",
    "- For PyTorch when training a model set it to `.train()`, when using it for inference set it to `.eval()`\n",
    "- During training in each epoch's each batch reset the gradients by `optimizer.zero_grad()`\n",
    "- Suggestion is to create 1 function for training, 1 for evaluating\n"
   ]
  },
  {
   "cell_type": "code",
   "execution_count": 877,
   "id": "0a7d2e36",
   "metadata": {},
   "outputs": [],
   "source": [
    "train_losses = []\n",
    "\n",
    "def train_loop(dataloader, model, loss_fn, optimizer):\n",
    "    \n",
    "    model.train()\n",
    "    \n",
    "    size = len(dataloader.dataset)\n",
    "    num_batches = len(dataloader)\n",
    "    train_loss = 0\n",
    "    \n",
    "    for batch, (X, y) in enumerate(dataloader):\n",
    "        \n",
    "        # Compute prediction and loss\n",
    "        pred = model(X)\n",
    "        loss = loss_fn(pred, y)\n",
    "\n",
    "        # Backpropagation\n",
    "        optimizer.zero_grad()\n",
    "        loss.backward()\n",
    "        optimizer.step()\n",
    "\n",
    "#         if batch % 3 == 0:\n",
    "#             loss, current = loss.item()**(1/2), batch * len(X)\n",
    "#             print(f\"loss: {loss:>7f}  [{current:>5d}/{size:>5d}]\")\n",
    "#             train_losses.append(loss)\n",
    "\n",
    "        train_loss += loss.item()**(1/2)\n",
    "    \n",
    "    train_loss /= num_batches\n",
    "    train_losses.append(train_loss)\n",
    "    print(f\"Avg train loss: {train_loss:>8f}\")\n",
    "\n",
    "\n",
    "def test_loop(dataloader, model, loss_fn):\n",
    "    \n",
    "    model.eval()\n",
    "    \n",
    "    size = len(dataloader.dataset)    \n",
    "    num_batches = len(dataloader)\n",
    "    test_loss, correct = 0, 0\n",
    "\n",
    "    with torch.no_grad():\n",
    "        \n",
    "        for X, y in dataloader:\n",
    "            \n",
    "            pred = model(X)\n",
    "            test_loss += loss_fn(pred, y).item()**(1/2)\n",
    "            #correct += (pred.argmax(1) == y).type(torch.float).sum().item()\n",
    "\n",
    "    test_loss /= num_batches\n",
    "    #correct /= size\n",
    "    print(f\"Avg test loss: {test_loss:>8f} \\n\") #Test Error: \\n Accuracy: {(100*correct):>0.1f}%, "
   ]
  },
  {
   "cell_type": "code",
   "execution_count": 878,
   "id": "11e0bd51",
   "metadata": {},
   "outputs": [
    {
     "name": "stdout",
     "output_type": "stream",
     "text": [
      "Epoch 1\n",
      "-------------------------------\n",
      "Avg train loss: 0.760489\n",
      "Avg test loss: 0.745268 \n",
      "\n",
      "Epoch 2\n",
      "-------------------------------\n",
      "Avg train loss: 0.727816\n",
      "Avg test loss: 0.707082 \n",
      "\n",
      "Epoch 3\n",
      "-------------------------------\n",
      "Avg train loss: 0.689296\n",
      "Avg test loss: 0.671457 \n",
      "\n",
      "Epoch 4\n",
      "-------------------------------\n",
      "Avg train loss: 0.647604\n",
      "Avg test loss: 0.631364 \n",
      "\n",
      "Epoch 5\n",
      "-------------------------------\n",
      "Avg train loss: 0.615881\n",
      "Avg test loss: 0.590032 \n",
      "\n",
      "Epoch 6\n",
      "-------------------------------\n",
      "Avg train loss: 0.568216\n",
      "Avg test loss: 0.549520 \n",
      "\n",
      "Epoch 7\n",
      "-------------------------------\n",
      "Avg train loss: 0.526714\n",
      "Avg test loss: 0.505704 \n",
      "\n",
      "Epoch 8\n",
      "-------------------------------\n",
      "Avg train loss: 0.488659\n",
      "Avg test loss: 0.459039 \n",
      "\n",
      "Epoch 9\n",
      "-------------------------------\n",
      "Avg train loss: 0.444385\n",
      "Avg test loss: 0.418584 \n",
      "\n",
      "Epoch 10\n",
      "-------------------------------\n",
      "Avg train loss: 0.407750\n",
      "Avg test loss: 0.384933 \n",
      "\n",
      "Epoch 11\n",
      "-------------------------------\n",
      "Avg train loss: 0.370165\n",
      "Avg test loss: 0.353906 \n",
      "\n",
      "Epoch 12\n",
      "-------------------------------\n",
      "Avg train loss: 0.348138\n",
      "Avg test loss: 0.338703 \n",
      "\n",
      "Epoch 13\n",
      "-------------------------------\n",
      "Avg train loss: 0.332889\n",
      "Avg test loss: 0.325544 \n",
      "\n",
      "Epoch 14\n",
      "-------------------------------\n",
      "Avg train loss: 0.326006\n",
      "Avg test loss: 0.311058 \n",
      "\n",
      "Epoch 15\n",
      "-------------------------------\n",
      "Avg train loss: 0.317236\n",
      "Avg test loss: 0.312605 \n",
      "\n",
      "Epoch 16\n",
      "-------------------------------\n",
      "Avg train loss: 0.312803\n",
      "Avg test loss: 0.316885 \n",
      "\n",
      "Epoch 17\n",
      "-------------------------------\n",
      "Avg train loss: 0.315276\n",
      "Avg test loss: 0.313857 \n",
      "\n",
      "Epoch 18\n",
      "-------------------------------\n",
      "Avg train loss: 0.310813\n",
      "Avg test loss: 0.315839 \n",
      "\n",
      "Epoch 19\n",
      "-------------------------------\n",
      "Avg train loss: 0.313849\n",
      "Avg test loss: 0.311989 \n",
      "\n",
      "Epoch 20\n",
      "-------------------------------\n",
      "Avg train loss: 0.313374\n",
      "Avg test loss: 0.311334 \n",
      "\n",
      "Epoch 21\n",
      "-------------------------------\n",
      "Avg train loss: 0.315392\n",
      "Avg test loss: 0.310170 \n",
      "\n",
      "Epoch 22\n",
      "-------------------------------\n",
      "Avg train loss: 0.307636\n",
      "Avg test loss: 0.307267 \n",
      "\n",
      "Epoch 23\n",
      "-------------------------------\n",
      "Avg train loss: 0.313475\n",
      "Avg test loss: 0.311984 \n",
      "\n",
      "Epoch 24\n",
      "-------------------------------\n",
      "Avg train loss: 0.313990\n",
      "Avg test loss: 0.315885 \n",
      "\n",
      "Epoch 25\n",
      "-------------------------------\n",
      "Avg train loss: 0.310046\n",
      "Avg test loss: 0.310989 \n",
      "\n",
      "Epoch 26\n",
      "-------------------------------\n",
      "Avg train loss: 0.309721\n",
      "Avg test loss: 0.312091 \n",
      "\n",
      "Epoch 27\n",
      "-------------------------------\n",
      "Avg train loss: 0.311543\n",
      "Avg test loss: 0.313562 \n",
      "\n",
      "Epoch 28\n",
      "-------------------------------\n",
      "Avg train loss: 0.308043\n",
      "Avg test loss: 0.311975 \n",
      "\n",
      "Epoch 29\n",
      "-------------------------------\n",
      "Avg train loss: 0.311112\n",
      "Avg test loss: 0.309316 \n",
      "\n",
      "Epoch 30\n",
      "-------------------------------\n",
      "Avg train loss: 0.311181\n",
      "Avg test loss: 0.310718 \n",
      "\n",
      "Epoch 31\n",
      "-------------------------------\n",
      "Avg train loss: 0.305883\n",
      "Avg test loss: 0.306773 \n",
      "\n",
      "Epoch 32\n",
      "-------------------------------\n",
      "Avg train loss: 0.309007\n",
      "Avg test loss: 0.308431 \n",
      "\n",
      "Epoch 33\n",
      "-------------------------------\n",
      "Avg train loss: 0.309800\n",
      "Avg test loss: 0.308414 \n",
      "\n",
      "Epoch 34\n",
      "-------------------------------\n",
      "Avg train loss: 0.311163\n",
      "Avg test loss: 0.307693 \n",
      "\n",
      "Epoch 35\n",
      "-------------------------------\n",
      "Avg train loss: 0.302883\n",
      "Avg test loss: 0.304426 \n",
      "\n",
      "Epoch 36\n",
      "-------------------------------\n",
      "Avg train loss: 0.303291\n",
      "Avg test loss: 0.308624 \n",
      "\n",
      "Epoch 37\n",
      "-------------------------------\n",
      "Avg train loss: 0.306970\n",
      "Avg test loss: 0.306480 \n",
      "\n",
      "Epoch 38\n",
      "-------------------------------\n",
      "Avg train loss: 0.308635\n",
      "Avg test loss: 0.305267 \n",
      "\n",
      "Epoch 39\n",
      "-------------------------------\n",
      "Avg train loss: 0.307148\n",
      "Avg test loss: 0.305204 \n",
      "\n",
      "Epoch 40\n",
      "-------------------------------\n",
      "Avg train loss: 0.306046\n",
      "Avg test loss: 0.306495 \n",
      "\n",
      "Epoch 41\n",
      "-------------------------------\n",
      "Avg train loss: 0.308018\n",
      "Avg test loss: 0.304811 \n",
      "\n",
      "Epoch 42\n",
      "-------------------------------\n",
      "Avg train loss: 0.304815\n",
      "Avg test loss: 0.302411 \n",
      "\n",
      "Epoch 43\n",
      "-------------------------------\n",
      "Avg train loss: 0.305037\n",
      "Avg test loss: 0.306259 \n",
      "\n",
      "Epoch 44\n",
      "-------------------------------\n",
      "Avg train loss: 0.305492\n",
      "Avg test loss: 0.299927 \n",
      "\n",
      "Epoch 45\n",
      "-------------------------------\n",
      "Avg train loss: 0.300676\n",
      "Avg test loss: 0.303438 \n",
      "\n",
      "Epoch 46\n",
      "-------------------------------\n",
      "Avg train loss: 0.304536\n",
      "Avg test loss: 0.304526 \n",
      "\n",
      "Epoch 47\n",
      "-------------------------------\n",
      "Avg train loss: 0.302813\n",
      "Avg test loss: 0.301730 \n",
      "\n",
      "Epoch 48\n",
      "-------------------------------\n",
      "Avg train loss: 0.303167\n",
      "Avg test loss: 0.302210 \n",
      "\n",
      "Epoch 49\n",
      "-------------------------------\n",
      "Avg train loss: 0.302195\n",
      "Avg test loss: 0.304863 \n",
      "\n",
      "Epoch 50\n",
      "-------------------------------\n",
      "Avg train loss: 0.305604\n",
      "Avg test loss: 0.302133 \n",
      "\n",
      "Epoch 51\n",
      "-------------------------------\n",
      "Avg train loss: 0.305204\n",
      "Avg test loss: 0.303265 \n",
      "\n",
      "Epoch 52\n",
      "-------------------------------\n",
      "Avg train loss: 0.305505\n",
      "Avg test loss: 0.302152 \n",
      "\n",
      "Epoch 53\n",
      "-------------------------------\n",
      "Avg train loss: 0.300829\n",
      "Avg test loss: 0.302248 \n",
      "\n",
      "Epoch 54\n",
      "-------------------------------\n",
      "Avg train loss: 0.302294\n",
      "Avg test loss: 0.300571 \n",
      "\n",
      "Epoch 55\n",
      "-------------------------------\n",
      "Avg train loss: 0.300251\n",
      "Avg test loss: 0.300406 \n",
      "\n",
      "Epoch 56\n",
      "-------------------------------\n",
      "Avg train loss: 0.303462\n",
      "Avg test loss: 0.301183 \n",
      "\n",
      "Epoch 57\n",
      "-------------------------------\n",
      "Avg train loss: 0.301014\n",
      "Avg test loss: 0.302950 \n",
      "\n",
      "Epoch 58\n",
      "-------------------------------\n",
      "Avg train loss: 0.303295\n",
      "Avg test loss: 0.302410 \n",
      "\n",
      "Epoch 59\n",
      "-------------------------------\n",
      "Avg train loss: 0.302614\n",
      "Avg test loss: 0.297519 \n",
      "\n",
      "Epoch 60\n",
      "-------------------------------\n",
      "Avg train loss: 0.303624\n",
      "Avg test loss: 0.297947 \n",
      "\n",
      "Epoch 61\n",
      "-------------------------------\n",
      "Avg train loss: 0.303455\n",
      "Avg test loss: 0.298238 \n",
      "\n",
      "Epoch 62\n",
      "-------------------------------\n",
      "Avg train loss: 0.300174\n",
      "Avg test loss: 0.302455 \n",
      "\n",
      "Epoch 63\n",
      "-------------------------------\n",
      "Avg train loss: 0.299142\n",
      "Avg test loss: 0.302098 \n",
      "\n",
      "Epoch 64\n",
      "-------------------------------\n",
      "Avg train loss: 0.298899\n",
      "Avg test loss: 0.294885 \n",
      "\n",
      "Epoch 65\n",
      "-------------------------------\n",
      "Avg train loss: 0.301713\n",
      "Avg test loss: 0.297293 \n",
      "\n",
      "Epoch 66\n",
      "-------------------------------\n",
      "Avg train loss: 0.295203\n",
      "Avg test loss: 0.301453 \n",
      "\n",
      "Epoch 67\n",
      "-------------------------------\n",
      "Avg train loss: 0.299640\n",
      "Avg test loss: 0.298623 \n",
      "\n",
      "Epoch 68\n",
      "-------------------------------\n",
      "Avg train loss: 0.297977\n",
      "Avg test loss: 0.297816 \n",
      "\n",
      "Epoch 69\n",
      "-------------------------------\n",
      "Avg train loss: 0.298145\n",
      "Avg test loss: 0.297261 \n",
      "\n",
      "Epoch 70\n",
      "-------------------------------\n",
      "Avg train loss: 0.298021\n",
      "Avg test loss: 0.297453 \n",
      "\n",
      "Epoch 71\n",
      "-------------------------------\n",
      "Avg train loss: 0.299079\n",
      "Avg test loss: 0.297462 \n",
      "\n",
      "Epoch 72\n",
      "-------------------------------\n",
      "Avg train loss: 0.296907\n",
      "Avg test loss: 0.298268 \n",
      "\n",
      "Epoch 73\n",
      "-------------------------------\n",
      "Avg train loss: 0.298344\n",
      "Avg test loss: 0.296309 \n",
      "\n",
      "Epoch 74\n",
      "-------------------------------\n",
      "Avg train loss: 0.300229\n",
      "Avg test loss: 0.296825 \n",
      "\n",
      "Epoch 75\n",
      "-------------------------------\n",
      "Avg train loss: 0.294122\n",
      "Avg test loss: 0.297967 \n",
      "\n",
      "Done!\n"
     ]
    }
   ],
   "source": [
    "for t in range(EPOCHS):\n",
    "    \n",
    "    print(f\"Epoch {t+1}\\n-------------------------------\")\n",
    "    \n",
    "    train_loop(torch_train_data, torch_model, loss, optimizer)\n",
    "    test_loop(torch_train_data, torch_model, loss)\n",
    "    \n",
    "print(\"Done!\")"
   ]
  },
  {
   "cell_type": "code",
   "execution_count": null,
   "id": "3b7ca5da",
   "metadata": {},
   "outputs": [],
   "source": []
  },
  {
   "cell_type": "code",
   "execution_count": 879,
   "id": "873b3060",
   "metadata": {},
   "outputs": [
    {
     "data": {
      "image/png": "[encoded data removed]",
      "text/plain": [
       "<Figure size 576x288 with 1 Axes>"
      ]
     },
     "metadata": {
      "needs_background": "light"
     },
     "output_type": "display_data"
    }
   ],
   "source": [
    "plt.figure(figsize=(8, 4))\n",
    "plt.plot([i for i in range(EPOCHS)], train_losses)\n",
    "plt.title('RMSE learning - PyTorch')\n",
    "plt.show()"
   ]
  },
  {
   "cell_type": "code",
   "execution_count": null,
   "id": "a522d9d6",
   "metadata": {},
   "outputs": [],
   "source": []
  },
  {
   "cell_type": "markdown",
   "id": "d1f76eb1",
   "metadata": {},
   "source": [
    "Check if PyTorch model is in `eval()` or `train()` mode"
   ]
  },
  {
   "cell_type": "code",
   "execution_count": 880,
   "id": "ae70f7e1",
   "metadata": {},
   "outputs": [
    {
     "data": {
      "text/plain": [
       "False"
      ]
     },
     "execution_count": 880,
     "metadata": {},
     "output_type": "execute_result"
    }
   ],
   "source": [
    "torch_model.training"
   ]
  },
  {
   "cell_type": "code",
   "execution_count": null,
   "id": "5b0f295a",
   "metadata": {},
   "outputs": [],
   "source": []
  },
  {
   "cell_type": "markdown",
   "id": "de27e9a9",
   "metadata": {},
   "source": [
    "Check layer gradients"
   ]
  },
  {
   "cell_type": "code",
   "execution_count": 881,
   "id": "4d7636a4",
   "metadata": {},
   "outputs": [
    {
     "data": {
      "text/plain": [
       "Parameter containing:\n",
       "tensor([-0.1305], requires_grad=True)"
      ]
     },
     "execution_count": 881,
     "metadata": {},
     "output_type": "execute_result"
    }
   ],
   "source": [
    "torch_model.output.bias"
   ]
  },
  {
   "cell_type": "code",
   "execution_count": 882,
   "id": "a8e30a9a",
   "metadata": {},
   "outputs": [
    {
     "data": {
      "text/plain": [
       "tensor([0.0007])"
      ]
     },
     "execution_count": 882,
     "metadata": {},
     "output_type": "execute_result"
    }
   ],
   "source": [
    "torch_model.output.bias.grad"
   ]
  },
  {
   "cell_type": "code",
   "execution_count": null,
   "id": "91bb8d40",
   "metadata": {},
   "outputs": [],
   "source": []
  },
  {
   "cell_type": "markdown",
   "id": "fc19fe62",
   "metadata": {},
   "source": [
    "TF and torch reached similar losses with the same structured models and running for same number of epochs"
   ]
  },
  {
   "cell_type": "code",
   "execution_count": 963,
   "id": "0b0da572",
   "metadata": {},
   "outputs": [
    {
     "name": "stdout",
     "output_type": "stream",
     "text": [
      "Last train loss reached with TensorFlow: 0.29321184754371643\n",
      "Last train loss reached with PyTorch: 0.29412197459558964\n"
     ]
    }
   ],
   "source": [
    "print('Last train loss reached with TensorFlow:', history.history['root_mean_squared_error'][-1])\n",
    "print('Last train loss reached with PyTorch:', train_losses[-1])"
   ]
  },
  {
   "cell_type": "code",
   "execution_count": null,
   "id": "abbffe87",
   "metadata": {},
   "outputs": [],
   "source": []
  },
  {
   "cell_type": "markdown",
   "id": "f197e117",
   "metadata": {},
   "source": [
    "#### Make predictions"
   ]
  },
  {
   "cell_type": "code",
   "execution_count": 964,
   "id": "88aebd38",
   "metadata": {},
   "outputs": [],
   "source": [
    "from sklearn.metrics import mean_squared_error"
   ]
  },
  {
   "cell_type": "code",
   "execution_count": 966,
   "id": "c404ef74",
   "metadata": {},
   "outputs": [
    {
     "name": "stdout",
     "output_type": "stream",
     "text": [
      "RMSE TF: 0.29287459055896337\n",
      "RMSE PyTorch: 0.3008924829532329\n"
     ]
    }
   ],
   "source": [
    "TF_predictions = model.predict(X)\n",
    "torch_predictions = torch_model(torch_train_data.dataset.tensors[0])\n",
    "\n",
    "print('RMSE TF:', mean_squared_error(y, TF_predictions, squared=False))\n",
    "print('RMSE PyTorch:', mean_squared_error(y, torch_predictions.detach().numpy(), squared=False))"
   ]
  }
 ],
 "metadata": {
  "kernelspec": {
   "display_name": "Python 3 (ipykernel)",
   "language": "python",
   "name": "python3"
  },
  "language_info": {
   "codemirror_mode": {
    "name": "ipython",
    "version": 3
   },
   "file_extension": ".py",
   "mimetype": "text/x-python",
   "name": "python",
   "nbconvert_exporter": "python",
   "pygments_lexer": "ipython3",
   "version": "3.9.7"
  }
 },
 "nbformat": 4,
 "nbformat_minor": 5
}
