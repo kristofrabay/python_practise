{
 "cells": [
  {
   "cell_type": "code",
   "execution_count": 1,
   "id": "35bc790c",
   "metadata": {},
   "outputs": [],
   "source": [
    "from time import time, sleep\n",
    "from datetime import date\n",
    "\n",
    "from requests import get\n",
    "import json\n",
    "\n",
    "from multiprocessing.pool import ThreadPool as Pool\n",
    "\n",
    "import haversine\n",
    "\n",
    "import pandas as pd\n",
    "import numpy as np\n",
    "\n",
    "import matplotlib.pyplot as plt\n",
    "import seaborn as sns\n",
    "\n",
    "def vehicle_df_creator(vehicles):\n",
    "    \n",
    "    vehicles_df = pd.DataFrame(vehicles['list']).drop(['stale', 'serviceDate', 'stopSequence', 'lastUpdateTime', 'status', 'congestionLevel', 'bearing', 'capacity', 'stopDistancePercent', 'wheelchairAccessible', 'style', 'deviated'], 1)\n",
    "    vehicles_df = pd.concat([vehicles_df, pd.json_normalize(vehicles_df['location'])], 1)\n",
    "\n",
    "    vehicles_df = vehicles_df.merge(routes, left_on = 'routeId', right_on = 'id', how = 'left')\n",
    "    vehicles_df.drop(['location', 'type', 'routeId', 'id'], 1, inplace = True)\n",
    "    vehicles_df.rename(columns = {'name' : 'Megálló'}, inplace = True)\n",
    "\n",
    "    return vehicles_df\n",
    "\n",
    "\n",
    "    \n",
    "def get_trip_details(i):\n",
    "    \n",
    "    trip_link = 'https://futar.bkk.hu/api/query/v1/ws/otp/api/where/trip-details.json?tripId=' + i + '&date=' + today + '&key=bkk-web&version=4&appVersion=3.13.1-59506-4e2e9a7b&_=' + time_epoch\n",
    "    trip_data = get(trip_link, headers = headers).json()\n",
    "    \n",
    "    if 'data' in trip_data.keys():\n",
    "        trip_data = trip_data['data']\n",
    "        \n",
    "        trip_id = i\n",
    "    \n",
    "        if 'vehicle' in trip_data['entry'].keys():\n",
    "            route_id = trip_data['entry']['vehicle']['routeId']    \n",
    "        else:\n",
    "            route_id = np.nan\n",
    "\n",
    "        if 'stopSequence' in trip_data['entry']['stopTimes'][-1].keys():\n",
    "            stops_num = trip_data['entry']['stopTimes'][-1]['stopSequence']\n",
    "        else:\n",
    "            stops_num = np.nan\n",
    "\n",
    "        if 'shapeDistTraveled' in trip_data['entry']['stopTimes'][-1].keys():\n",
    "            dist = trip_data['entry']['stopTimes'][-1]['shapeDistTraveled']\n",
    "        else:\n",
    "            dist = np.nan\n",
    "\n",
    "        trip_dict = {'id' : route_id, 'tripId' : trip_id, 'num_of_stops' : stops_num, 'total_distance' : dist}\n",
    "\n",
    "        return trip_dict\n",
    "    \n",
    "    else:\n",
    "        pass \n",
    "    \n",
    "    \n",
    "BOXPLOT_PROPS = {\n",
    "    'boxprops':{'edgecolor':'black', 'linewidth' : 1},\n",
    "    'flierprops':{'markerfacecolor':'black', 'markeredgecolor':'darkgray', 'marker' : 'x'},\n",
    "    'medianprops':{'color':'black', 'linewidth' : 1},\n",
    "    'whiskerprops':{'color':'black', 'linewidth' : 1},\n",
    "    'capprops':{'color':'black', 'linewidth' : 1}\n",
    "}\n",
    "\n",
    "def boxplot_sns(data, x, y):  \n",
    "    \n",
    "    order = data.groupby([x]).median().sort_values(y, ascending = False)\n",
    "\n",
    "    plt.figure(figsize = (8, 4))\n",
    "    sns.boxplot(data = data, y = x, x = y, color = 'blue', fliersize = 2, \n",
    "                **BOXPLOT_PROPS, order = order.index)\n",
    "    plt.xlabel(y)\n",
    "    plt.ylabel(None)\n",
    "    plt.title('Járműtípusonkénti eloszlások\\n')\n",
    "    plt.show()"
   ]
  },
  {
   "cell_type": "code",
   "execution_count": 2,
   "id": "d6255b3f",
   "metadata": {},
   "outputs": [
    {
     "name": "stdout",
     "output_type": "stream",
     "text": [
      "Wall time: 5.21 s\n"
     ]
    },
    {
     "data": {
      "text/plain": [
       "228"
      ]
     },
     "execution_count": 2,
     "metadata": {},
     "output_type": "execute_result"
    }
   ],
   "source": [
    "%%time\n",
    "\n",
    "headers = {'User-agent' : 'Mozilla/5.0 (Windows; U; Windows NT 5.1; de; rv:1.9.1.5) Gecko/20091102 Firefox/3.5.5'}\n",
    "\n",
    "time_epoch = str(int(time()))\n",
    "today = date.today().strftime(\"%Y%m%d\")\n",
    "lat = str(47.497913)\n",
    "lon = str(19.040236)\n",
    "\n",
    "vehicles_link = 'https://futar.bkk.hu/api/query/v1/ws/otp/api/where/vehicles-for-location.json?ifModifiedSince=' + time_epoch + '&lat=' + lat + '&latSpan=1&lon=' + lon + '&lonSpan=1&key=bkk-web&version=4&appVersion=3.13.1-59506-4e2e9a7b'\n",
    "stops_link = 'https://futar.bkk.hu/api/query/v1/ws/otp/api/where/stops-for-location.json?lat=' + lat + '&latSpan=1&lon=' + lon + '&lonSpan=1&key=bkk-web&version=4&appVersion=3.13.1-59506-4e2e9a7b'\n",
    "\n",
    "sleep(2)\n",
    "vehicles = get(vehicles_link, headers = headers).json()['data']\n",
    "\n",
    "sleep(2)\n",
    "stops = get(stops_link, headers = headers).json()['data']\n",
    "\n",
    "routes = pd.DataFrame.from_dict(stops['references']['routes'], orient = 'index')\\\n",
    "                     .reset_index(drop = True)\\\n",
    "                     .drop(['color', 'textColor', 'agencyId', 'iconDisplayType', 'iconDisplayText', 'style', 'sortOrder', 'bikesAllowed'], 1)\n",
    "routes[['From', 'To']] = routes['description'].str.split('|', expand = True)\n",
    "routes['To'] = routes['To'].str.strip()\n",
    "routes['From'] = routes['From'].str.strip()\n",
    "routes.drop(['description'], 1, inplace = True)\n",
    "\n",
    "vehicles_rerun = vehicle_df_creator(vehicles)\n",
    "\n",
    "trips_list = vehicles_rerun.drop_duplicates(['vehicleRouteType', 'shortName', 'From', 'To'])['tripId'].unique().tolist()\n",
    "trips_list = [i for i in trips_list if isinstance(i, float) == False]\n",
    "len(trips_list)"
   ]
  },
  {
   "cell_type": "code",
   "execution_count": 3,
   "id": "7d384c3a",
   "metadata": {},
   "outputs": [
    {
     "name": "stdout",
     "output_type": "stream",
     "text": [
      "Wall time: 8.6 s\n"
     ]
    }
   ],
   "source": [
    "%%time\n",
    "\n",
    "trip_dicts = []\n",
    "\n",
    "pool = Pool(4)\n",
    "\n",
    "for i in trips_list:\n",
    "    pool.apply_async(get_trip_details, (i,), callback = trip_dicts.append)\n",
    "\n",
    "pool.close()\n",
    "pool.join()"
   ]
  },
  {
   "cell_type": "code",
   "execution_count": 4,
   "id": "b0c7544a",
   "metadata": {},
   "outputs": [
    {
     "name": "stdout",
     "output_type": "stream",
     "text": [
      "(227, 4)\n"
     ]
    }
   ],
   "source": [
    "trips_df = pd.DataFrame([i for i in trip_dicts if i is not None])\n",
    "trips_df.dropna(inplace = True)\n",
    "print(trips_df.shape)"
   ]
  },
  {
   "cell_type": "code",
   "execution_count": 5,
   "id": "3dfc7b3a",
   "metadata": {},
   "outputs": [
    {
     "data": {
      "text/html": [
       "<div>\n",
       "<style scoped>\n",
       "    .dataframe tbody tr th:only-of-type {\n",
       "        vertical-align: middle;\n",
       "    }\n",
       "\n",
       "    .dataframe tbody tr th {\n",
       "        vertical-align: top;\n",
       "    }\n",
       "\n",
       "    .dataframe thead th {\n",
       "        text-align: right;\n",
       "    }\n",
       "</style>\n",
       "<table border=\"1\" class=\"dataframe\">\n",
       "  <thead>\n",
       "    <tr style=\"text-align: right;\">\n",
       "      <th></th>\n",
       "      <th>id</th>\n",
       "      <th>tripId</th>\n",
       "      <th>num_of_stops</th>\n",
       "      <th>total_distance</th>\n",
       "      <th>shortName</th>\n",
       "      <th>type</th>\n",
       "      <th>longName</th>\n",
       "      <th>From</th>\n",
       "      <th>To</th>\n",
       "    </tr>\n",
       "  </thead>\n",
       "  <tbody>\n",
       "    <tr>\n",
       "      <th>0</th>\n",
       "      <td>BKK_3470</td>\n",
       "      <td>BKK_C21846869</td>\n",
       "      <td>20</td>\n",
       "      <td>8893.0</td>\n",
       "      <td>47</td>\n",
       "      <td>TRAM</td>\n",
       "      <td>NaN</td>\n",
       "      <td>Városház tér</td>\n",
       "      <td>Deák Ferenc tér M</td>\n",
       "    </tr>\n",
       "    <tr>\n",
       "      <th>1</th>\n",
       "      <td>BKK_2170</td>\n",
       "      <td>BKK_C36119136</td>\n",
       "      <td>23</td>\n",
       "      <td>9532.0</td>\n",
       "      <td>217</td>\n",
       "      <td>BUS</td>\n",
       "      <td>NaN</td>\n",
       "      <td>Szarvas csárda tér</td>\n",
       "      <td>Kőbánya alsó vasútáll.</td>\n",
       "    </tr>\n",
       "    <tr>\n",
       "      <th>2</th>\n",
       "      <td>BKK_1231</td>\n",
       "      <td>BKK_C36950518</td>\n",
       "      <td>20</td>\n",
       "      <td>8834.0</td>\n",
       "      <td>123A</td>\n",
       "      <td>BUS</td>\n",
       "      <td>NaN</td>\n",
       "      <td>Szentlőrinci úti ltp.</td>\n",
       "      <td>Határ út M</td>\n",
       "    </tr>\n",
       "  </tbody>\n",
       "</table>\n",
       "</div>"
      ],
      "text/plain": [
       "         id         tripId  num_of_stops  total_distance shortName  type  \\\n",
       "0  BKK_3470  BKK_C21846869            20          8893.0        47  TRAM   \n",
       "1  BKK_2170  BKK_C36119136            23          9532.0       217   BUS   \n",
       "2  BKK_1231  BKK_C36950518            20          8834.0      123A   BUS   \n",
       "\n",
       "  longName                   From                      To  \n",
       "0      NaN           Városház tér       Deák Ferenc tér M  \n",
       "1      NaN     Szarvas csárda tér  Kőbánya alsó vasútáll.  \n",
       "2      NaN  Szentlőrinci úti ltp.              Határ út M  "
      ]
     },
     "execution_count": 5,
     "metadata": {},
     "output_type": "execute_result"
    }
   ],
   "source": [
    "trips_df = trips_df.merge(routes)\n",
    "trips_df.head(3)"
   ]
  },
  {
   "cell_type": "code",
   "execution_count": 6,
   "id": "97e6099f",
   "metadata": {},
   "outputs": [
    {
     "data": {
      "image/png": "[encoded data removed]",
      "text/plain": [
       "<Figure size 576x288 with 1 Axes>"
      ]
     },
     "metadata": {
      "needs_background": "light"
     },
     "output_type": "display_data"
    }
   ],
   "source": [
    "boxplot_sns(trips_df, 'type', 'num_of_stops')"
   ]
  },
  {
   "cell_type": "code",
   "execution_count": 7,
   "id": "3fee51cc",
   "metadata": {},
   "outputs": [
    {
     "data": {
      "image/png": "[encoded data removed]",
      "text/plain": [
       "<Figure size 576x288 with 1 Axes>"
      ]
     },
     "metadata": {
      "needs_background": "light"
     },
     "output_type": "display_data"
    }
   ],
   "source": [
    "boxplot_sns(trips_df, 'type', 'total_distance')"
   ]
  },
  {
   "cell_type": "code",
   "execution_count": 8,
   "id": "fe6a8573",
   "metadata": {},
   "outputs": [],
   "source": [
    "trips_df.to_csv('route_collector/most_recent.csv', index = False)"
   ]
  },
  {
   "cell_type": "code",
   "execution_count": null,
   "id": "c188b71f",
   "metadata": {},
   "outputs": [],
   "source": []
  },
  {
   "cell_type": "markdown",
   "id": "f91fa12c",
   "metadata": {},
   "source": [
    "### Concat with master"
   ]
  },
  {
   "cell_type": "code",
   "execution_count": 9,
   "id": "72e4f5c9",
   "metadata": {},
   "outputs": [],
   "source": [
    "master = pd.read_csv('route_collector/master.csv')"
   ]
  },
  {
   "cell_type": "code",
   "execution_count": 10,
   "id": "1baea528",
   "metadata": {},
   "outputs": [
    {
     "data": {
      "text/plain": [
       "(332, 7)"
      ]
     },
     "execution_count": 10,
     "metadata": {},
     "output_type": "execute_result"
    }
   ],
   "source": [
    "master.shape"
   ]
  },
  {
   "cell_type": "code",
   "execution_count": 11,
   "id": "5949629e",
   "metadata": {},
   "outputs": [
    {
     "data": {
      "text/plain": [
       "(227, 9)"
      ]
     },
     "execution_count": 11,
     "metadata": {},
     "output_type": "execute_result"
    }
   ],
   "source": [
    "trips_df.shape"
   ]
  },
  {
   "cell_type": "code",
   "execution_count": 12,
   "id": "c7f93417",
   "metadata": {},
   "outputs": [],
   "source": [
    "drop_list = ['tripId', 'longName', 'innerInternal']\n",
    "for i in drop_list:\n",
    "    if i in trips_df.columns:\n",
    "        trips_df.drop(i, 1, inplace = True)\n",
    "        \n",
    "trips_df.columns = ['id', 'num_of_stops_MR', 'total_distance_MR', 'shortName', 'type_MR', 'From_MR', 'To_MR']"
   ]
  },
  {
   "cell_type": "code",
   "execution_count": 13,
   "id": "9f097fa1",
   "metadata": {},
   "outputs": [],
   "source": [
    "new_master = master.merge(trips_df, on = ['id', 'shortName'], how = 'outer')"
   ]
  },
  {
   "cell_type": "code",
   "execution_count": 14,
   "id": "84924fba",
   "metadata": {},
   "outputs": [],
   "source": [
    "new_master['From'].fillna(new_master['From_MR'], inplace = True)\n",
    "new_master['To'].fillna(new_master['To_MR'], inplace = True)\n",
    "new_master['type'].fillna(new_master['type_MR'], inplace = True)\n",
    "\n",
    "new_master['num_of_stops'].fillna(new_master['num_of_stops_MR'], inplace = True)\n",
    "new_master['total_distance'].fillna(new_master['total_distance_MR'], inplace = True)"
   ]
  },
  {
   "cell_type": "code",
   "execution_count": 15,
   "id": "fdda93db",
   "metadata": {},
   "outputs": [],
   "source": [
    "new_master['num_of_stops'] = new_master[['num_of_stops_MR', 'num_of_stops']].max(axis=1)\n",
    "new_master['total_distance'] = new_master[['total_distance_MR', 'total_distance']].max(axis=1)"
   ]
  },
  {
   "cell_type": "code",
   "execution_count": 16,
   "id": "5a2cdaed",
   "metadata": {},
   "outputs": [],
   "source": [
    "drop_MR = new_master.filter(like = 'MR').columns.tolist()\n",
    "new_master.drop(drop_MR, 1, inplace = True)"
   ]
  },
  {
   "cell_type": "code",
   "execution_count": 17,
   "id": "6ba13e16",
   "metadata": {},
   "outputs": [
    {
     "data": {
      "text/html": [
       "<div>\n",
       "<style scoped>\n",
       "    .dataframe tbody tr th:only-of-type {\n",
       "        vertical-align: middle;\n",
       "    }\n",
       "\n",
       "    .dataframe tbody tr th {\n",
       "        vertical-align: top;\n",
       "    }\n",
       "\n",
       "    .dataframe thead th {\n",
       "        text-align: right;\n",
       "    }\n",
       "</style>\n",
       "<table border=\"1\" class=\"dataframe\">\n",
       "  <thead>\n",
       "    <tr style=\"text-align: right;\">\n",
       "      <th></th>\n",
       "      <th>id</th>\n",
       "      <th>num_of_stops</th>\n",
       "      <th>total_distance</th>\n",
       "      <th>shortName</th>\n",
       "      <th>type</th>\n",
       "      <th>From</th>\n",
       "      <th>To</th>\n",
       "    </tr>\n",
       "  </thead>\n",
       "  <tbody>\n",
       "  </tbody>\n",
       "</table>\n",
       "</div>"
      ],
      "text/plain": [
       "Empty DataFrame\n",
       "Columns: [id, num_of_stops, total_distance, shortName, type, From, To]\n",
       "Index: []"
      ]
     },
     "execution_count": 17,
     "metadata": {},
     "output_type": "execute_result"
    }
   ],
   "source": [
    "new_master[new_master.duplicated('id', keep = False)]"
   ]
  },
  {
   "cell_type": "code",
   "execution_count": 18,
   "id": "1c804b54",
   "metadata": {},
   "outputs": [],
   "source": [
    "new_master.drop_duplicates('id', keep = 'last', inplace = True)"
   ]
  },
  {
   "cell_type": "code",
   "execution_count": 19,
   "id": "102f2286",
   "metadata": {},
   "outputs": [
    {
     "data": {
      "text/html": [
       "<div>\n",
       "<style scoped>\n",
       "    .dataframe tbody tr th:only-of-type {\n",
       "        vertical-align: middle;\n",
       "    }\n",
       "\n",
       "    .dataframe tbody tr th {\n",
       "        vertical-align: top;\n",
       "    }\n",
       "\n",
       "    .dataframe thead th {\n",
       "        text-align: right;\n",
       "    }\n",
       "</style>\n",
       "<table border=\"1\" class=\"dataframe\">\n",
       "  <thead>\n",
       "    <tr style=\"text-align: right;\">\n",
       "      <th></th>\n",
       "      <th>id</th>\n",
       "      <th>num_of_stops</th>\n",
       "      <th>total_distance</th>\n",
       "      <th>shortName</th>\n",
       "      <th>type</th>\n",
       "      <th>From</th>\n",
       "      <th>To</th>\n",
       "    </tr>\n",
       "  </thead>\n",
       "  <tbody>\n",
       "    <tr>\n",
       "      <th>0</th>\n",
       "      <td>BKK_0540</td>\n",
       "      <td>33.0</td>\n",
       "      <td>16722.0</td>\n",
       "      <td>54</td>\n",
       "      <td>BUS</td>\n",
       "      <td>Péterimajor, Víztorony tér</td>\n",
       "      <td>Boráros tér H</td>\n",
       "    </tr>\n",
       "    <tr>\n",
       "      <th>1</th>\n",
       "      <td>BKK_VP50</td>\n",
       "      <td>7.0</td>\n",
       "      <td>3093.0</td>\n",
       "      <td>50</td>\n",
       "      <td>BUS</td>\n",
       "      <td>Lajosmizsei sorompó</td>\n",
       "      <td>Határ út M</td>\n",
       "    </tr>\n",
       "    <tr>\n",
       "      <th>2</th>\n",
       "      <td>BKK_3020</td>\n",
       "      <td>12.0</td>\n",
       "      <td>6070.0</td>\n",
       "      <td>2</td>\n",
       "      <td>TRAM</td>\n",
       "      <td>Jászai Mari tér</td>\n",
       "      <td>Közvágóhíd H</td>\n",
       "    </tr>\n",
       "  </tbody>\n",
       "</table>\n",
       "</div>"
      ],
      "text/plain": [
       "         id  num_of_stops  total_distance shortName  type  \\\n",
       "0  BKK_0540          33.0         16722.0        54   BUS   \n",
       "1  BKK_VP50           7.0          3093.0        50   BUS   \n",
       "2  BKK_3020          12.0          6070.0         2  TRAM   \n",
       "\n",
       "                         From             To  \n",
       "0  Péterimajor, Víztorony tér  Boráros tér H  \n",
       "1         Lajosmizsei sorompó     Határ út M  \n",
       "2             Jászai Mari tér   Közvágóhíd H  "
      ]
     },
     "execution_count": 19,
     "metadata": {},
     "output_type": "execute_result"
    }
   ],
   "source": [
    "new_master.head(3)"
   ]
  },
  {
   "cell_type": "code",
   "execution_count": 20,
   "id": "5a09fca1",
   "metadata": {},
   "outputs": [],
   "source": [
    "new_items = np.setdiff1d(new_master['id'].unique(), master['id'].unique()).tolist()"
   ]
  },
  {
   "cell_type": "code",
   "execution_count": 21,
   "id": "97e78dd7",
   "metadata": {},
   "outputs": [
    {
     "data": {
      "text/html": [
       "<div>\n",
       "<style scoped>\n",
       "    .dataframe tbody tr th:only-of-type {\n",
       "        vertical-align: middle;\n",
       "    }\n",
       "\n",
       "    .dataframe tbody tr th {\n",
       "        vertical-align: top;\n",
       "    }\n",
       "\n",
       "    .dataframe thead th {\n",
       "        text-align: right;\n",
       "    }\n",
       "</style>\n",
       "<table border=\"1\" class=\"dataframe\">\n",
       "  <thead>\n",
       "    <tr style=\"text-align: right;\">\n",
       "      <th></th>\n",
       "      <th>id</th>\n",
       "      <th>num_of_stops</th>\n",
       "      <th>total_distance</th>\n",
       "      <th>shortName</th>\n",
       "      <th>type</th>\n",
       "      <th>From</th>\n",
       "      <th>To</th>\n",
       "    </tr>\n",
       "  </thead>\n",
       "  <tbody>\n",
       "  </tbody>\n",
       "</table>\n",
       "</div>"
      ],
      "text/plain": [
       "Empty DataFrame\n",
       "Columns: [id, num_of_stops, total_distance, shortName, type, From, To]\n",
       "Index: []"
      ]
     },
     "execution_count": 21,
     "metadata": {},
     "output_type": "execute_result"
    }
   ],
   "source": [
    "new_master[new_master['id'].isin(new_items)]"
   ]
  },
  {
   "cell_type": "code",
   "execution_count": null,
   "id": "b51cbef5",
   "metadata": {},
   "outputs": [],
   "source": []
  },
  {
   "cell_type": "code",
   "execution_count": null,
   "id": "cca59ec2",
   "metadata": {},
   "outputs": [],
   "source": []
  },
  {
   "cell_type": "code",
   "execution_count": 22,
   "id": "08715370",
   "metadata": {},
   "outputs": [],
   "source": [
    "new_master.to_csv('route_collector/master.csv', index = False)"
   ]
  },
  {
   "cell_type": "code",
   "execution_count": null,
   "id": "0764a741",
   "metadata": {},
   "outputs": [],
   "source": []
  },
  {
   "cell_type": "markdown",
   "id": "9b5c3bb2",
   "metadata": {},
   "source": [
    "#### Which ones are still missing?"
   ]
  },
  {
   "cell_type": "code",
   "execution_count": 23,
   "id": "13d6d10b",
   "metadata": {},
   "outputs": [
    {
     "data": {
      "text/html": [
       "<div>\n",
       "<style scoped>\n",
       "    .dataframe tbody tr th:only-of-type {\n",
       "        vertical-align: middle;\n",
       "    }\n",
       "\n",
       "    .dataframe tbody tr th {\n",
       "        vertical-align: top;\n",
       "    }\n",
       "\n",
       "    .dataframe thead th {\n",
       "        text-align: right;\n",
       "    }\n",
       "</style>\n",
       "<table border=\"1\" class=\"dataframe\">\n",
       "  <thead>\n",
       "    <tr style=\"text-align: right;\">\n",
       "      <th></th>\n",
       "      <th>id</th>\n",
       "      <th>shortName</th>\n",
       "      <th>type</th>\n",
       "      <th>From</th>\n",
       "      <th>To</th>\n",
       "    </tr>\n",
       "  </thead>\n",
       "  <tbody>\n",
       "    <tr>\n",
       "      <th>0</th>\n",
       "      <td>BKK_9960</td>\n",
       "      <td>996</td>\n",
       "      <td>BUS</td>\n",
       "      <td>Cinkotai autóbuszgarázs</td>\n",
       "      <td>Újpest-központ M</td>\n",
       "    </tr>\n",
       "    <tr>\n",
       "      <th>1</th>\n",
       "      <td>BKK_9720</td>\n",
       "      <td>972</td>\n",
       "      <td>BUS</td>\n",
       "      <td>Törökbálint, Nyár utca</td>\n",
       "      <td>Móricz Zs. körtér M</td>\n",
       "    </tr>\n",
       "    <tr>\n",
       "      <th>2</th>\n",
       "      <td>BKK_9961</td>\n",
       "      <td>996A</td>\n",
       "      <td>BUS</td>\n",
       "      <td>Cinkotai autóbuszgarázs</td>\n",
       "      <td>Újpest-központ M</td>\n",
       "    </tr>\n",
       "  </tbody>\n",
       "</table>\n",
       "</div>"
      ],
      "text/plain": [
       "         id shortName type                     From                   To\n",
       "0  BKK_9960       996  BUS  Cinkotai autóbuszgarázs     Újpest-központ M\n",
       "1  BKK_9720       972  BUS   Törökbálint, Nyár utca  Móricz Zs. körtér M\n",
       "2  BKK_9961      996A  BUS  Cinkotai autóbuszgarázs     Újpest-központ M"
      ]
     },
     "execution_count": 23,
     "metadata": {},
     "output_type": "execute_result"
    }
   ],
   "source": [
    "routes = pd.DataFrame.from_dict(stops['references']['routes'], orient = 'index')\\\n",
    "                     .reset_index(drop = True)\\\n",
    "                     .drop(['color', 'textColor', 'agencyId', 'iconDisplayType', 'iconDisplayText', 'style', 'sortOrder', 'bikesAllowed'], 1)\n",
    "\n",
    "routes[['From', 'To']] = routes['description'].str.split('|', expand = True)\n",
    "routes['To'] = routes['To'].str.strip()\n",
    "routes['From'] = routes['From'].str.strip()\n",
    "routes.drop(['description'], 1, inplace = True)\n",
    "\n",
    "routes.head(3)"
   ]
  },
  {
   "cell_type": "code",
   "execution_count": 24,
   "id": "aa9249a4",
   "metadata": {},
   "outputs": [
    {
     "data": {
      "text/plain": [
       "(26, 5)"
      ]
     },
     "execution_count": 24,
     "metadata": {},
     "output_type": "execute_result"
    }
   ],
   "source": [
    "routes[(routes['id'].isin(np.setdiff1d(routes['id'].unique(), new_master['id'].unique()))) & \n",
    "       (~routes['id'].str.contains('MP|HP|VP|KT'))& \n",
    "       (~routes['type'].isin(['SUBWAY', 'FERRY']))].shape"
   ]
  },
  {
   "cell_type": "code",
   "execution_count": 25,
   "id": "907d8479",
   "metadata": {},
   "outputs": [
    {
     "data": {
      "text/html": [
       "<div>\n",
       "<style scoped>\n",
       "    .dataframe tbody tr th:only-of-type {\n",
       "        vertical-align: middle;\n",
       "    }\n",
       "\n",
       "    .dataframe tbody tr th {\n",
       "        vertical-align: top;\n",
       "    }\n",
       "\n",
       "    .dataframe thead th {\n",
       "        text-align: right;\n",
       "    }\n",
       "</style>\n",
       "<table border=\"1\" class=\"dataframe\">\n",
       "  <thead>\n",
       "    <tr style=\"text-align: right;\">\n",
       "      <th></th>\n",
       "      <th>id</th>\n",
       "      <th>shortName</th>\n",
       "      <th>type</th>\n",
       "      <th>From</th>\n",
       "      <th>To</th>\n",
       "    </tr>\n",
       "  </thead>\n",
       "  <tbody>\n",
       "    <tr>\n",
       "      <th>16</th>\n",
       "      <td>BKK_2411</td>\n",
       "      <td>241A</td>\n",
       "      <td>BUS</td>\n",
       "      <td>Lomnici utca</td>\n",
       "      <td>Városház tér</td>\n",
       "    </tr>\n",
       "    <tr>\n",
       "      <th>33</th>\n",
       "      <td>BKK_0362</td>\n",
       "      <td>36B</td>\n",
       "      <td>BUS</td>\n",
       "      <td>Gubacsi út / Határ út / Szentlőrinci úti lakót...</td>\n",
       "      <td>None</td>\n",
       "    </tr>\n",
       "    <tr>\n",
       "      <th>42</th>\n",
       "      <td>BKK_9141</td>\n",
       "      <td>914A</td>\n",
       "      <td>BUS</td>\n",
       "      <td>Újpest-központ M</td>\n",
       "      <td>Határ út M</td>\n",
       "    </tr>\n",
       "    <tr>\n",
       "      <th>61</th>\n",
       "      <td>BKK_3282</td>\n",
       "      <td>28B</td>\n",
       "      <td>TRAM</td>\n",
       "      <td>Keleti pályaudvar M / Új köztemető (Kozma utca)</td>\n",
       "      <td>None</td>\n",
       "    </tr>\n",
       "    <tr>\n",
       "      <th>65</th>\n",
       "      <td>BKK_9380</td>\n",
       "      <td>938</td>\n",
       "      <td>BUS</td>\n",
       "      <td>Szigetszentmiklós</td>\n",
       "      <td>Csepel, Szent Imre tér</td>\n",
       "    </tr>\n",
       "    <tr>\n",
       "      <th>67</th>\n",
       "      <td>BKK_4810</td>\n",
       "      <td>81</td>\n",
       "      <td>TROLLEYBUS</td>\n",
       "      <td>Fischer István utca</td>\n",
       "      <td>Örs vezér tere M H</td>\n",
       "    </tr>\n",
       "    <tr>\n",
       "      <th>68</th>\n",
       "      <td>BKK_3600</td>\n",
       "      <td>60</td>\n",
       "      <td>TRAM</td>\n",
       "      <td>Városmajor / Széchenyi-hegy, Gyermekvasút</td>\n",
       "      <td>None</td>\n",
       "    </tr>\n",
       "    <tr>\n",
       "      <th>85</th>\n",
       "      <td>BKK_9920</td>\n",
       "      <td>992</td>\n",
       "      <td>BUS</td>\n",
       "      <td>Gödöllő H</td>\n",
       "      <td>Cinkotai autóbuszgarázs</td>\n",
       "    </tr>\n",
       "    <tr>\n",
       "      <th>107</th>\n",
       "      <td>BKK_35152</td>\n",
       "      <td>51-52</td>\n",
       "      <td>TRAM</td>\n",
       "      <td>Mester utca / Ferenc körút / Határ út M</td>\n",
       "      <td>None</td>\n",
       "    </tr>\n",
       "    <tr>\n",
       "      <th>109</th>\n",
       "      <td>BKK_9370</td>\n",
       "      <td>937</td>\n",
       "      <td>BUS</td>\n",
       "      <td>Erdőalja út-Máramaros út</td>\n",
       "      <td>Bécsi út / Vörösvári út</td>\n",
       "    </tr>\n",
       "    <tr>\n",
       "      <th>119</th>\n",
       "      <td>BKK_0682</td>\n",
       "      <td>68B</td>\n",
       "      <td>BUS</td>\n",
       "      <td>Kőbánya-Kispest M / Új köztemető</td>\n",
       "      <td>None</td>\n",
       "    </tr>\n",
       "    <tr>\n",
       "      <th>131</th>\n",
       "      <td>BKK_9340</td>\n",
       "      <td>934</td>\n",
       "      <td>BUS</td>\n",
       "      <td>Békásmegyer H</td>\n",
       "      <td>Pesterzsébeti lakótelep</td>\n",
       "    </tr>\n",
       "    <tr>\n",
       "      <th>159</th>\n",
       "      <td>BKK_1182</td>\n",
       "      <td>118B</td>\n",
       "      <td>BUS</td>\n",
       "      <td>Szentlélek tér H / Óbudai autóbuszgarázs</td>\n",
       "      <td>None</td>\n",
       "    </tr>\n",
       "    <tr>\n",
       "      <th>189</th>\n",
       "      <td>BKK_2800</td>\n",
       "      <td>280</td>\n",
       "      <td>BUS</td>\n",
       "      <td>Bányató út</td>\n",
       "      <td>Lakihegy, Cseresznyés utca</td>\n",
       "    </tr>\n",
       "    <tr>\n",
       "      <th>198</th>\n",
       "      <td>BKK_0078</td>\n",
       "      <td>7G</td>\n",
       "      <td>BUS</td>\n",
       "      <td>Cinkotai autóbuszgarázs</td>\n",
       "      <td>Újpalota, Nyírpalota út</td>\n",
       "    </tr>\n",
       "    <tr>\n",
       "      <th>228</th>\n",
       "      <td>BKK_3592</td>\n",
       "      <td>59B</td>\n",
       "      <td>TRAM</td>\n",
       "      <td>Márton Áron tér</td>\n",
       "      <td>Hűvösvölgy</td>\n",
       "    </tr>\n",
       "    <tr>\n",
       "      <th>254</th>\n",
       "      <td>BKK_1261</td>\n",
       "      <td>126A</td>\n",
       "      <td>BUS</td>\n",
       "      <td>Káp.megyer, Mogyoródi-p.</td>\n",
       "      <td>Káp.megyer, Szilas-patak</td>\n",
       "    </tr>\n",
       "    <tr>\n",
       "      <th>259</th>\n",
       "      <td>BKK_9430</td>\n",
       "      <td>943</td>\n",
       "      <td>BUS</td>\n",
       "      <td>Szentendre H</td>\n",
       "      <td>Békásmegyer H</td>\n",
       "    </tr>\n",
       "    <tr>\n",
       "      <th>260</th>\n",
       "      <td>BKK_9792</td>\n",
       "      <td>979A</td>\n",
       "      <td>BUS</td>\n",
       "      <td>Csepel, Csillagtelep</td>\n",
       "      <td>Hősök tere M</td>\n",
       "    </tr>\n",
       "    <tr>\n",
       "      <th>299</th>\n",
       "      <td>BKK_MOZG</td>\n",
       "      <td>MOZG</td>\n",
       "      <td>BUS</td>\n",
       "      <td>Különjárat</td>\n",
       "      <td>Különjárat</td>\n",
       "    </tr>\n",
       "    <tr>\n",
       "      <th>321</th>\n",
       "      <td>BKK_9091</td>\n",
       "      <td>909A</td>\n",
       "      <td>BUS</td>\n",
       "      <td>Deák Ferenc tér M</td>\n",
       "      <td>Élessarok</td>\n",
       "    </tr>\n",
       "    <tr>\n",
       "      <th>325</th>\n",
       "      <td>BKK_0921</td>\n",
       "      <td>92A</td>\n",
       "      <td>BUS</td>\n",
       "      <td>Kistarcsa, kórház H</td>\n",
       "      <td>Rákosszentmihály vasútáll.</td>\n",
       "    </tr>\n",
       "    <tr>\n",
       "      <th>341</th>\n",
       "      <td>BKK_1460</td>\n",
       "      <td>146</td>\n",
       "      <td>BUS</td>\n",
       "      <td>Újpalota, Nyírpalota út</td>\n",
       "      <td>Rákoskeresztúr, városkp.</td>\n",
       "    </tr>\n",
       "    <tr>\n",
       "      <th>343</th>\n",
       "      <td>BKK_2792</td>\n",
       "      <td>279B</td>\n",
       "      <td>BUS</td>\n",
       "      <td>Lakihegy, Cseresznyés utca</td>\n",
       "      <td>Szabadság utca</td>\n",
       "    </tr>\n",
       "    <tr>\n",
       "      <th>345</th>\n",
       "      <td>BKK_1582</td>\n",
       "      <td>158B</td>\n",
       "      <td>BUS</td>\n",
       "      <td>Savoya Park / Budafoki temető</td>\n",
       "      <td>None</td>\n",
       "    </tr>\n",
       "    <tr>\n",
       "      <th>353</th>\n",
       "      <td>BKK_9630</td>\n",
       "      <td>963</td>\n",
       "      <td>BUS</td>\n",
       "      <td>Nagykovácsi, Tisza I. tér</td>\n",
       "      <td>Hűvösvölgy</td>\n",
       "    </tr>\n",
       "  </tbody>\n",
       "</table>\n",
       "</div>"
      ],
      "text/plain": [
       "            id shortName        type  \\\n",
       "16    BKK_2411      241A         BUS   \n",
       "33    BKK_0362       36B         BUS   \n",
       "42    BKK_9141      914A         BUS   \n",
       "61    BKK_3282       28B        TRAM   \n",
       "65    BKK_9380       938         BUS   \n",
       "67    BKK_4810        81  TROLLEYBUS   \n",
       "68    BKK_3600        60        TRAM   \n",
       "85    BKK_9920       992         BUS   \n",
       "107  BKK_35152     51-52        TRAM   \n",
       "109   BKK_9370       937         BUS   \n",
       "119   BKK_0682       68B         BUS   \n",
       "131   BKK_9340       934         BUS   \n",
       "159   BKK_1182      118B         BUS   \n",
       "189   BKK_2800       280         BUS   \n",
       "198   BKK_0078        7G         BUS   \n",
       "228   BKK_3592       59B        TRAM   \n",
       "254   BKK_1261      126A         BUS   \n",
       "259   BKK_9430       943         BUS   \n",
       "260   BKK_9792      979A         BUS   \n",
       "299   BKK_MOZG      MOZG         BUS   \n",
       "321   BKK_9091      909A         BUS   \n",
       "325   BKK_0921       92A         BUS   \n",
       "341   BKK_1460       146         BUS   \n",
       "343   BKK_2792      279B         BUS   \n",
       "345   BKK_1582      158B         BUS   \n",
       "353   BKK_9630       963         BUS   \n",
       "\n",
       "                                                  From  \\\n",
       "16                                        Lomnici utca   \n",
       "33   Gubacsi út / Határ út / Szentlőrinci úti lakót...   \n",
       "42                                    Újpest-központ M   \n",
       "61     Keleti pályaudvar M / Új köztemető (Kozma utca)   \n",
       "65                                   Szigetszentmiklós   \n",
       "67                                 Fischer István utca   \n",
       "68           Városmajor / Széchenyi-hegy, Gyermekvasút   \n",
       "85                                           Gödöllő H   \n",
       "107            Mester utca / Ferenc körút / Határ út M   \n",
       "109                           Erdőalja út-Máramaros út   \n",
       "119                   Kőbánya-Kispest M / Új köztemető   \n",
       "131                                      Békásmegyer H   \n",
       "159           Szentlélek tér H / Óbudai autóbuszgarázs   \n",
       "189                                         Bányató út   \n",
       "198                            Cinkotai autóbuszgarázs   \n",
       "228                                    Márton Áron tér   \n",
       "254                           Káp.megyer, Mogyoródi-p.   \n",
       "259                                       Szentendre H   \n",
       "260                               Csepel, Csillagtelep   \n",
       "299                                         Különjárat   \n",
       "321                                  Deák Ferenc tér M   \n",
       "325                                Kistarcsa, kórház H   \n",
       "341                            Újpalota, Nyírpalota út   \n",
       "343                         Lakihegy, Cseresznyés utca   \n",
       "345                      Savoya Park / Budafoki temető   \n",
       "353                          Nagykovácsi, Tisza I. tér   \n",
       "\n",
       "                             To  \n",
       "16                 Városház tér  \n",
       "33                         None  \n",
       "42                   Határ út M  \n",
       "61                         None  \n",
       "65       Csepel, Szent Imre tér  \n",
       "67           Örs vezér tere M H  \n",
       "68                         None  \n",
       "85      Cinkotai autóbuszgarázs  \n",
       "107                        None  \n",
       "109     Bécsi út / Vörösvári út  \n",
       "119                        None  \n",
       "131     Pesterzsébeti lakótelep  \n",
       "159                        None  \n",
       "189  Lakihegy, Cseresznyés utca  \n",
       "198     Újpalota, Nyírpalota út  \n",
       "228                  Hűvösvölgy  \n",
       "254    Káp.megyer, Szilas-patak  \n",
       "259               Békásmegyer H  \n",
       "260                Hősök tere M  \n",
       "299                  Különjárat  \n",
       "321                   Élessarok  \n",
       "325  Rákosszentmihály vasútáll.  \n",
       "341    Rákoskeresztúr, városkp.  \n",
       "343              Szabadság utca  \n",
       "345                        None  \n",
       "353                  Hűvösvölgy  "
      ]
     },
     "execution_count": 25,
     "metadata": {},
     "output_type": "execute_result"
    }
   ],
   "source": [
    "routes[(routes['id'].isin(np.setdiff1d(routes['id'].unique(), new_master['id'].unique()))) & \n",
    "       (~routes['id'].str.contains('MP|HP|VP|KT'))& \n",
    "       (~routes['type'].isin(['SUBWAY', 'FERRY']))]"
   ]
  },
  {
   "cell_type": "code",
   "execution_count": null,
   "id": "813a2397",
   "metadata": {},
   "outputs": [],
   "source": []
  },
  {
   "cell_type": "code",
   "execution_count": null,
   "id": "5a3e0048",
   "metadata": {},
   "outputs": [],
   "source": []
  }
 ],
 "metadata": {
  "kernelspec": {
   "display_name": "Python 3",
   "language": "python",
   "name": "python3"
  },
  "language_info": {
   "codemirror_mode": {
    "name": "ipython",
    "version": 3
   },
   "file_extension": ".py",
   "mimetype": "text/x-python",
   "name": "python",
   "nbconvert_exporter": "python",
   "pygments_lexer": "ipython3",
   "version": "3.8.8"
  }
 },
 "nbformat": 4,
 "nbformat_minor": 5
}
