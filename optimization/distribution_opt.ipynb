{
 "cells": [
  {
   "cell_type": "markdown",
   "metadata": {},
   "source": [
    "## Transportation & distribution problems solved by PuLP\n",
    "\n",
    "Objective: supply and demand optimization on all necessary routes while minimizing total cost\n",
    "\n",
    "<img src=\"https://www.coin-or.org/PuLP/_images/brewery_arcs.jpg\" width=\"500\"/>\n",
    "\n",
    "Costs to transport products from Warehouse to Houses\n",
    "\n",
    "From Warehouse to House\t| A\t| B\n",
    "-|-|-\n",
    "1\t|2\t|3\n",
    "2\t|4\t|1\n",
    "3\t|5\t|3\n",
    "4\t|2\t|2\n",
    "5\t|1\t|3"
   ]
  },
  {
   "cell_type": "code",
   "execution_count": 1,
   "metadata": {},
   "outputs": [],
   "source": [
    "import pandas as pd\n",
    "import numpy as np\n",
    "\n",
    "import pulp\n",
    "\n",
    "import warnings\n",
    "warnings.filterwarnings('ignore')"
   ]
  },
  {
   "cell_type": "code",
   "execution_count": 62,
   "metadata": {},
   "outputs": [],
   "source": [
    "warehouses = ['A', 'B']\n",
    "houses = ['1', '2', '3', '4', '5']\n",
    "\n",
    "supply = {'A' : 1000, 'B' : 4000}\n",
    "demand = {'1' : 500, '2' : 900, '3' : 1800, '4' : 200, '5' : 700}\n",
    "\n",
    "costs = [[2, 4, 5, 2, 1], \n",
    "         [3, 1, 3, 2, 3]]\n",
    "\n",
    "costs = pulp.makeDict([warehouses, houses], costs, None)"
   ]
  },
  {
   "cell_type": "markdown",
   "metadata": {},
   "source": [
    "Create optimization object"
   ]
  },
  {
   "cell_type": "code",
   "execution_count": 81,
   "metadata": {},
   "outputs": [],
   "source": [
    "prob = pulp.LpProblem('Transportation optimization', pulp.const.LpMinimize)"
   ]
  },
  {
   "cell_type": "markdown",
   "metadata": {},
   "source": [
    "Create LP variables for reference"
   ]
  },
  {
   "cell_type": "code",
   "execution_count": 82,
   "metadata": {},
   "outputs": [],
   "source": [
    "routes = [(w, h) for w in warehouses for h in houses]\n",
    "_route_variables = pulp.LpVariable.dicts('route', (warehouses, houses), lowBound = 0, upBound = None, cat = pulp.LpInteger)"
   ]
  },
  {
   "cell_type": "code",
   "execution_count": 83,
   "metadata": {},
   "outputs": [
    {
     "name": "stdout",
     "output_type": "stream",
     "text": [
      "Tuple representation of routes\n",
      "[('A', '1'), ('A', '2'), ('A', '3'), ('A', '4'), ('A', '5'), ('B', '1'), ('B', '2'), ('B', '3'), ('B', '4'), ('B', '5')]\n",
      "\n",
      "PuLP variables for reference\n"
     ]
    },
    {
     "data": {
      "text/plain": [
       "{'A': {'1': route_A_1,\n",
       "  '2': route_A_2,\n",
       "  '3': route_A_3,\n",
       "  '4': route_A_4,\n",
       "  '5': route_A_5},\n",
       " 'B': {'1': route_B_1,\n",
       "  '2': route_B_2,\n",
       "  '3': route_B_3,\n",
       "  '4': route_B_4,\n",
       "  '5': route_B_5}}"
      ]
     },
     "execution_count": 83,
     "metadata": {},
     "output_type": "execute_result"
    }
   ],
   "source": [
    "print('Tuple representation of routes')\n",
    "print(routes)\n",
    "\n",
    "print('\\nPuLP variables for reference')\n",
    "_route_variables"
   ]
  },
  {
   "cell_type": "markdown",
   "metadata": {},
   "source": [
    "Set objective function and constraints"
   ]
  },
  {
   "cell_type": "code",
   "execution_count": 84,
   "metadata": {},
   "outputs": [],
   "source": [
    "# objective function \n",
    "prob += pulp.lpSum([_route_variables[w][h] * costs[w][h] for (w, h) in routes])\n",
    "\n",
    "#supply\n",
    "for w in warehouses:\n",
    "    prob += pulp.lpSum([_route_variables[w][h] for h in houses]) <= supply[w], 'supply in ' + w\n",
    "\n",
    "#demand\n",
    "for h in houses:\n",
    "    prob += pulp.lpSum([_route_variables[w][h] for w in warehouses]) >= demand[h], 'demand in ' + h"
   ]
  },
  {
   "cell_type": "markdown",
   "metadata": {},
   "source": [
    "Solve and check"
   ]
  },
  {
   "cell_type": "code",
   "execution_count": 85,
   "metadata": {},
   "outputs": [
    {
     "name": "stdout",
     "output_type": "stream",
     "text": [
      "Status: Optimal\n"
     ]
    }
   ],
   "source": [
    "status = prob.solve()\n",
    "print('Status:', pulp.LpStatus[status])"
   ]
  },
  {
   "cell_type": "code",
   "execution_count": 86,
   "metadata": {},
   "outputs": [
    {
     "name": "stdout",
     "output_type": "stream",
     "text": [
      "route_A_1 = 300.0\n",
      "route_A_2 = 0.0\n",
      "route_A_3 = 0.0\n",
      "route_A_4 = 0.0\n",
      "route_A_5 = 700.0\n",
      "route_B_1 = 200.0\n",
      "route_B_2 = 900.0\n",
      "route_B_3 = 1800.0\n",
      "route_B_4 = 200.0\n",
      "route_B_5 = 0.0\n"
     ]
    }
   ],
   "source": [
    "for variable in prob.variables():\n",
    "    print(\"{} = {}\".format(variable.name, variable.varValue))"
   ]
  },
  {
   "cell_type": "code",
   "execution_count": 88,
   "metadata": {},
   "outputs": [
    {
     "name": "stdout",
     "output_type": "stream",
     "text": [
      "\n",
      "Optimal cost of transportation ($): 8600.0\n"
     ]
    }
   ],
   "source": [
    "OPTIMUM = pulp.value(prob.objective)\n",
    "print('\\nOptimal cost of transportation ($):', OPTIMUM)"
   ]
  },
  {
   "cell_type": "code",
   "execution_count": null,
   "metadata": {},
   "outputs": [],
   "source": []
  }
 ],
 "metadata": {
  "interpreter": {
   "hash": "c1c82bdd170d252fe165a9bec4d731e9ac025b41ad0f7b30ff5fda4e58991de2"
  },
  "kernelspec": {
   "display_name": "Python 3.8.8 64-bit ('base': conda)",
   "name": "python3"
  },
  "language_info": {
   "codemirror_mode": {
    "name": "ipython",
    "version": 3
   },
   "file_extension": ".py",
   "mimetype": "text/x-python",
   "name": "python",
   "nbconvert_exporter": "python",
   "pygments_lexer": "ipython3",
   "version": "3.8.8"
  },
  "orig_nbformat": 4
 },
 "nbformat": 4,
 "nbformat_minor": 2
}
