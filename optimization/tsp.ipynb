{
 "cells": [
  {
   "cell_type": "markdown",
   "metadata": {},
   "source": [
    "## Traveling Salesman Problem\n",
    "\n",
    "Objective: find shortest path between nodes while minimizing travel costs and reaching each destination once and once only\n",
    "\n",
    "\n",
    "<img src=\"https://crescointl.com/wp-content/uploads/2021/03/traveling_salesman-Medium-930x620.png\" width=\"650\"/>\n",
    "\n",
    "Constraints:\n",
    "\n",
    "<img src=\"https://miro.medium.com/max/1400/1*Dmw4GsdDOcoC00xQQwhldQ.png\" width=\"650\"/>\n",
    "\n",
    "\n",
    "Subtour constraint is most difficult of all: including all possible combinations blows up memory, so will need to tackle this issue in an iterative approach: if a subtour is found, include its and only its parameters as constraints and hope that the next iteration does not include any subtours. Repeat until no subtours are part of the optimal route. If there are n destiations then there are **2^n - 2** subtours to account for..."
   ]
  },
  {
   "cell_type": "code",
   "execution_count": 1,
   "metadata": {},
   "outputs": [
    {
     "name": "stdout",
     "output_type": "stream",
     "text": [
      "For 5 destinations the # of subtour contraints are: 30\n",
      "For 10 destinations the # of subtour contraints are: 1022\n",
      "For 15 destinations the # of subtour contraints are: 32766\n",
      "For 20 destinations the # of subtour contraints are: 1048574\n",
      "For 25 destinations the # of subtour contraints are: 33554430\n",
      "For 30 destinations the # of subtour contraints are: 1073741822\n",
      "For 35 destinations the # of subtour contraints are: 34359738366\n",
      "For 40 destinations the # of subtour contraints are: 1099511627774\n",
      "For 45 destinations the # of subtour contraints are: 35184372088830\n"
     ]
    }
   ],
   "source": [
    "for n in range(5, 50, 5):\n",
    "    print('For', n, 'destinations the # of subtour contraints are:', 2**n - 2)"
   ]
  },
  {
   "cell_type": "code",
   "execution_count": 2,
   "metadata": {},
   "outputs": [],
   "source": [
    "import pandas as pd\n",
    "import numpy as np\n",
    "import math\n",
    "\n",
    "import pulp\n",
    "\n",
    "from geopy.geocoders import Nominatim\n",
    "geolocator = Nominatim(user_agent = 'user_agent', timeout = 10)\n",
    "\n",
    "from data.countries_capitals import countries\n",
    "\n",
    "from scipy.spatial import distance_matrix\n",
    "\n",
    "import networkx as nx\n",
    "import plotly.express as px\n",
    "import matplotlib.pyplot as plt\n",
    "\n",
    "import warnings\n",
    "warnings.filterwarnings('ignore')\n",
    "\n",
    "def geocode_location(location):\n",
    "\n",
    "    geocoded = geolocator.geocode(location)\n",
    "    _lat = geocoded.latitude\n",
    "    _lon = geocoded.longitude\n",
    "\n",
    "    return (_lat, _lon)\n",
    "\n",
    "def plot_destinations_map():\n",
    "\n",
    "    geo_data['size'] = 10\n",
    "\n",
    "    fig = px.scatter_mapbox(geo_data, lat = 'latitude', lon = 'longitude', hover_data=['destination'],\n",
    "                                title = 'Érintendő városok elhelyezkedése', \n",
    "                                center = {\"lat\": geo_data['latitude'].mean(), \"lon\": geo_data['longitude'].mean()},\n",
    "                                zoom = 3, size_max = 12, size = 'size',\n",
    "                                mapbox_style = 'carto-positron', height = 650, width = 950)\n",
    "    fig.show()\n",
    "\n",
    "    geo_data.drop('size', 1, inplace = True)\n",
    "\n",
    "def plot_fig(loc):\n",
    "\n",
    "    plt.figure(figsize=(16, 12))\n",
    "    for i,row in loc.iterrows():\n",
    "        if i==0:\n",
    "            plt.scatter(row[\"longitude\"],row[\"latitude\"],c='r')\n",
    "            plt.text(row[\"longitude\"]+0.1, row[\"latitude\"]+0.1, destinations[0].split(',')[0], fontsize = 9)\n",
    "        else:\n",
    "            plt.scatter(row[\"longitude\"], row[\"latitude\"], c='black')\n",
    "            plt.text(row[\"longitude\"] + 0.1, row[\"latitude\"] + 0.1, loc.loc[i]['destination'].split(',')[0], fontsize = 9)\n",
    "        plt.xlim(loc['longitude'].min() - 1.5, loc['longitude'].max() + 1.5)\n",
    "        plt.ylim(loc['latitude'].min() - 1, loc['latitude'].max() + 1)\n",
    "        plt.title('Destination dots - map for checking connectivity')\n",
    "\n",
    "\n",
    "def get_plan(r0):\n",
    "    r=r0.copy()\n",
    "    route = []\n",
    "    while len(r) != 0:\n",
    "        plan = [r[0]]\n",
    "        del (r[0])\n",
    "        l = 0\n",
    "        while len(plan) > l:\n",
    "            l = len(plan)\n",
    "            for i, j in enumerate(r):\n",
    "                if plan[-1][1] == j[0]:\n",
    "                    plan.append(j)\n",
    "                    del (r[i])\n",
    "        route.append(plan)\n",
    "    return(route)"
   ]
  },
  {
   "cell_type": "markdown",
   "metadata": {},
   "source": [
    "### 1. Set cities that we want to visit"
   ]
  },
  {
   "cell_type": "code",
   "execution_count": 24,
   "metadata": {},
   "outputs": [],
   "source": [
    "# destinations = ['Budapest, Hungary', 'Vienna, Austria', 'Prague, Czech Republic', 'Zurich, Switzerland', \n",
    "#                 'Amsterdam, Netherlands', 'Berlin, Germany', 'Paris, France', 'Nice, France',\n",
    "#                 'Venezia, Italy', 'Firenze, Italy', 'Napoli, Italy', 'Palermo, Italy', 'Lyon, France', \n",
    "#                 'Barcelona, Spain', 'Madrid, Spain', 'Lisbon, Portugal', 'Andorra']\n",
    "\n",
    "# destinations = ['Venezia, Italy', 'Milano, Italy', 'Genova, Italy', 'Bologna, Italy', \n",
    "#                 'Firenze, Italy', 'Pisa, Italy', 'Roma, Italy', 'Napoli, Italy',\n",
    "#                 'Palermo, Italy', 'Alghero, Italy', 'Bari, Italy', 'Catanzaro, Italy', 'Torino, Italy', \n",
    "#                 'Parma, Italy', 'Rimini, Italy', 'La Spezia, Italy', 'Messina, Italy', 'Lecce, Italy',\n",
    "#                 \"L'Aquila, Italy\", 'Perugia, Italy', 'Vieste, Italy']\n",
    "\n",
    "# destinations = ['Budapest, Hungary', 'Salgotarjan', 'Miskolc, Hungary', 'Szolnok, Hungary', \n",
    "#                 'Nyiregyhaza, Hungary', 'Debrecen, Hungary', 'Bekescsaba, Hungary', 'Szeged, Hungary',\n",
    "#                 'Kecskemet, Hungary', 'Pecs, Hungary', 'Szekszard, Hungary', 'Kaposvar, Hungary', 'Szekesfehervar, Hungary', \n",
    "#                 'Zalaegerszeg, Hungary', 'Szombathely, Hungary', 'Veszprem, Hungary', 'Gyor, Hungary', 'Tatabanya, Hungary']\n",
    "\n",
    "destinations = [x['capital'] + ', ' + x['name'] for x in countries if x['continent'] == 'Europe']"
   ]
  },
  {
   "cell_type": "code",
   "execution_count": 25,
   "metadata": {},
   "outputs": [],
   "source": [
    "# set([x['continent'] for x in countries])"
   ]
  },
  {
   "cell_type": "code",
   "execution_count": 26,
   "metadata": {},
   "outputs": [
    {
     "data": {
      "text/plain": [
       "['Andorra la Vella, Andorra',\n",
       " 'Tirana, Albania',\n",
       " 'Vienna, Austria',\n",
       " 'Brussels, Belgium',\n",
       " 'Sofia, Bulgaria']"
      ]
     },
     "execution_count": 26,
     "metadata": {},
     "output_type": "execute_result"
    }
   ],
   "source": [
    "destinations[:5]"
   ]
  },
  {
   "cell_type": "markdown",
   "metadata": {},
   "source": [
    "### 2. Get coordinates for cities, calculate distance matrix\n",
    "This will need to be optimized (distance ~ travel cost, so minimizing traveled km is also minimizing costs - not always, but good enough for us)"
   ]
  },
  {
   "cell_type": "code",
   "execution_count": 27,
   "metadata": {},
   "outputs": [],
   "source": [
    "lat = []\n",
    "lon = []\n",
    "found = []\n",
    "not_found = []\n",
    "\n",
    "for destination in destinations:\n",
    "    try:\n",
    "        _lat, _lon = geocode_location(destination)\n",
    "        lat.append(_lat)\n",
    "        lon.append(_lon)\n",
    "        found.append(destination)\n",
    "\n",
    "    except AttributeError:\n",
    "        not_found.append(destination)\n"
   ]
  },
  {
   "cell_type": "code",
   "execution_count": 28,
   "metadata": {},
   "outputs": [
    {
     "name": "stdout",
     "output_type": "stream",
     "text": [
      "0 destinations were not geocoded, check them manually\n",
      "[]\n"
     ]
    }
   ],
   "source": [
    "print(len(not_found), 'destinations were not geocoded, check them manually')\n",
    "print(not_found)"
   ]
  },
  {
   "cell_type": "code",
   "execution_count": 29,
   "metadata": {},
   "outputs": [
    {
     "data": {
      "text/plain": [
       "True"
      ]
     },
     "execution_count": 29,
     "metadata": {},
     "output_type": "execute_result"
    }
   ],
   "source": [
    "len(found) == len(destinations)"
   ]
  },
  {
   "cell_type": "code",
   "execution_count": 30,
   "metadata": {},
   "outputs": [
    {
     "data": {
      "text/html": [
       "<div>\n",
       "<style scoped>\n",
       "    .dataframe tbody tr th:only-of-type {\n",
       "        vertical-align: middle;\n",
       "    }\n",
       "\n",
       "    .dataframe tbody tr th {\n",
       "        vertical-align: top;\n",
       "    }\n",
       "\n",
       "    .dataframe thead th {\n",
       "        text-align: right;\n",
       "    }\n",
       "</style>\n",
       "<table border=\"1\" class=\"dataframe\">\n",
       "  <thead>\n",
       "    <tr style=\"text-align: right;\">\n",
       "      <th></th>\n",
       "      <th>destination</th>\n",
       "      <th>latitude</th>\n",
       "      <th>longitude</th>\n",
       "    </tr>\n",
       "  </thead>\n",
       "  <tbody>\n",
       "    <tr>\n",
       "      <th>0</th>\n",
       "      <td>Andorra la Vella, Andorra</td>\n",
       "      <td>42.506939</td>\n",
       "      <td>1.521247</td>\n",
       "    </tr>\n",
       "    <tr>\n",
       "      <th>1</th>\n",
       "      <td>Tirana, Albania</td>\n",
       "      <td>41.330514</td>\n",
       "      <td>19.825563</td>\n",
       "    </tr>\n",
       "    <tr>\n",
       "      <th>2</th>\n",
       "      <td>Vienna, Austria</td>\n",
       "      <td>48.208354</td>\n",
       "      <td>16.372504</td>\n",
       "    </tr>\n",
       "  </tbody>\n",
       "</table>\n",
       "</div>"
      ],
      "text/plain": [
       "                 destination   latitude  longitude\n",
       "0  Andorra la Vella, Andorra  42.506939   1.521247\n",
       "1            Tirana, Albania  41.330514  19.825563\n",
       "2            Vienna, Austria  48.208354  16.372504"
      ]
     },
     "execution_count": 30,
     "metadata": {},
     "output_type": "execute_result"
    }
   ],
   "source": [
    "geo_data = pd.DataFrame([destinations, lat, lon]).T.rename(columns = {0 : 'destination', 1 : 'latitude', 2 : 'longitude'})\n",
    "geo_data.head(3)"
   ]
  },
  {
   "cell_type": "markdown",
   "metadata": {},
   "source": [
    "Check results on map"
   ]
  },
  {
   "cell_type": "code",
   "execution_count": 31,
   "metadata": {},
   "outputs": [
    {
     "data": {
      "application/vnd.plotly.v1+json": {
       "config": {
        "plotlyServerURL": "https://plot.ly"
       },
       "data": [
        {
         "customdata": [
          [
           "Andorra la Vella, Andorra"
          ],
          [
           "Tirana, Albania"
          ],
          [
           "Vienna, Austria"
          ],
          [
           "Brussels, Belgium"
          ],
          [
           "Sofia, Bulgaria"
          ],
          [
           "Minsk, Belarus"
          ],
          [
           "Prague, Czech Republic"
          ],
          [
           "Berlin, Germany"
          ],
          [
           "Copenhagen, Denmark"
          ],
          [
           "Tallinn, Estonia"
          ],
          [
           "Helsinki, Finland"
          ],
          [
           "Paris, France"
          ],
          [
           "Athens, Greece"
          ],
          [
           "Budapest, Hungary"
          ],
          [
           "Dublin, Republic of Ireland"
          ],
          [
           "Reykjavik, Iceland"
          ],
          [
           "Rome, Italy"
          ],
          [
           "Vaduz, Liechtenstein"
          ],
          [
           "Vilnius, Lithuania"
          ],
          [
           "Luxembourg City, Luxembourg"
          ],
          [
           "Riga, Latvia"
          ],
          [
           "Skopje, Macedonia"
          ],
          [
           "Valletta, Malta"
          ],
          [
           "Amsterdam, Kingdom of the Netherlands"
          ],
          [
           "Oslo, Norway"
          ],
          [
           "Warsaw, Poland"
          ],
          [
           "Lisbon, Portugal"
          ],
          [
           "Bucharest, Romania"
          ],
          [
           "Moscow, Russia"
          ],
          [
           "Stockholm, Sweden"
          ],
          [
           "Ljubljana, Slovenia"
          ],
          [
           "Bratislava, Slovakia"
          ],
          [
           "San Marino, San Marino"
          ],
          [
           "Kiev, Ukraine"
          ],
          [
           "Vatican City, Vatican City"
          ],
          [
           "Sarajevo, Bosnia and Herzegovina"
          ],
          [
           "Zagreb, Croatia"
          ],
          [
           "Chisinau, Moldova"
          ],
          [
           "Monaco, Monaco"
          ],
          [
           "Podgorica, Montenegro"
          ],
          [
           "Belgrade, Serbia"
          ],
          [
           "Madrid, Spain"
          ],
          [
           "Bern, Switzerland"
          ],
          [
           "London, United Kingdom"
          ],
          [
           "Pristina, Kosovo"
          ]
         ],
         "hovertemplate": "size=%{marker.size}<br>latitude=%{lat}<br>longitude=%{lon}<br>destination=%{customdata[0]}<extra></extra>",
         "lat": [
          42.5069391,
          41.3305141,
          48.2083537,
          50.8465573,
          42.6978634,
          53.9024716,
          50.0874654,
          52.5170365,
          55.6867243,
          59.4372155,
          60.1674881,
          48.8588897,
          37.9839412,
          47.4979937,
          53.3497645,
          64.145981,
          41.8933203,
          47.1392862,
          54.6870458,
          49.6112768,
          56.9493977,
          41.9960924,
          35.8989818,
          52.3727598,
          59.9133301,
          52.2319581,
          38.7077507,
          44.4361414,
          55.7504461,
          59.3251172,
          46.0499803,
          48.1516988,
          43.9458623,
          50.4500336,
          41.90381485,
          43.8519774,
          45.8131847,
          47.0245117,
          43.73844905,
          42.4415238,
          44.8178131,
          40.4167047,
          46.9482713,
          51.5073219,
          42.6638771
         ],
         "legendgroup": "",
         "lon": [
          1.5212467,
          19.825562857582966,
          16.3725042,
          4.351697,
          23.3221789,
          27.5618225,
          14.4212535,
          13.3888599,
          12.5700724,
          24.7453688,
          24.9427473,
          2.3200410217200766,
          23.7283052,
          19.0403594,
          -6.2602732,
          -21.9422367,
          12.4829321,
          9.5227962,
          25.2829111,
          6.129799,
          24.1051846,
          21.4316495,
          14.5136759,
          4.8936041,
          10.7389701,
          21.0067249,
          -9.1365919,
          26.1027202,
          37.6174943,
          18.0710935,
          14.5068602,
          17.1093063,
          12.458306,
          30.5241361,
          12.453152716779822,
          18.3866868,
          15.9771774,
          28.8322923,
          7.424224092532953,
          19.2621081,
          20.4568974,
          -3.7035825,
          7.4514512,
          -0.1276474,
          21.1640849
         ],
         "marker": {
          "color": "#636efa",
          "size": [
           10,
           10,
           10,
           10,
           10,
           10,
           10,
           10,
           10,
           10,
           10,
           10,
           10,
           10,
           10,
           10,
           10,
           10,
           10,
           10,
           10,
           10,
           10,
           10,
           10,
           10,
           10,
           10,
           10,
           10,
           10,
           10,
           10,
           10,
           10,
           10,
           10,
           10,
           10,
           10,
           10,
           10,
           10,
           10,
           10
          ],
          "sizemode": "area",
          "sizeref": 0.06944444444444445
         },
         "mode": "markers",
         "name": "",
         "showlegend": false,
         "subplot": "mapbox",
         "type": "scattermapbox"
        }
       ],
       "layout": {
        "height": 650,
        "legend": {
         "itemsizing": "constant",
         "tracegroupgap": 0
        },
        "mapbox": {
         "center": {
          "lat": 48.44140284666666,
          "lon": 14.32995393308035
         },
         "domain": {
          "x": [
           0,
           1
          ],
          "y": [
           0,
           1
          ]
         },
         "style": "carto-positron",
         "zoom": 3
        },
        "template": {
         "data": {
          "bar": [
           {
            "error_x": {
             "color": "#2a3f5f"
            },
            "error_y": {
             "color": "#2a3f5f"
            },
            "marker": {
             "line": {
              "color": "#E5ECF6",
              "width": 0.5
             },
             "pattern": {
              "fillmode": "overlay",
              "size": 10,
              "solidity": 0.2
             }
            },
            "type": "bar"
           }
          ],
          "barpolar": [
           {
            "marker": {
             "line": {
              "color": "#E5ECF6",
              "width": 0.5
             },
             "pattern": {
              "fillmode": "overlay",
              "size": 10,
              "solidity": 0.2
             }
            },
            "type": "barpolar"
           }
          ],
          "carpet": [
           {
            "aaxis": {
             "endlinecolor": "#2a3f5f",
             "gridcolor": "white",
             "linecolor": "white",
             "minorgridcolor": "white",
             "startlinecolor": "#2a3f5f"
            },
            "baxis": {
             "endlinecolor": "#2a3f5f",
             "gridcolor": "white",
             "linecolor": "white",
             "minorgridcolor": "white",
             "startlinecolor": "#2a3f5f"
            },
            "type": "carpet"
           }
          ],
          "choropleth": [
           {
            "colorbar": {
             "outlinewidth": 0,
             "ticks": ""
            },
            "type": "choropleth"
           }
          ],
          "contour": [
           {
            "colorbar": {
             "outlinewidth": 0,
             "ticks": ""
            },
            "colorscale": [
             [
              0,
              "#0d0887"
             ],
             [
              0.1111111111111111,
              "#46039f"
             ],
             [
              0.2222222222222222,
              "#7201a8"
             ],
             [
              0.3333333333333333,
              "#9c179e"
             ],
             [
              0.4444444444444444,
              "#bd3786"
             ],
             [
              0.5555555555555556,
              "#d8576b"
             ],
             [
              0.6666666666666666,
              "#ed7953"
             ],
             [
              0.7777777777777778,
              "#fb9f3a"
             ],
             [
              0.8888888888888888,
              "#fdca26"
             ],
             [
              1,
              "#f0f921"
             ]
            ],
            "type": "contour"
           }
          ],
          "contourcarpet": [
           {
            "colorbar": {
             "outlinewidth": 0,
             "ticks": ""
            },
            "type": "contourcarpet"
           }
          ],
          "heatmap": [
           {
            "colorbar": {
             "outlinewidth": 0,
             "ticks": ""
            },
            "colorscale": [
             [
              0,
              "#0d0887"
             ],
             [
              0.1111111111111111,
              "#46039f"
             ],
             [
              0.2222222222222222,
              "#7201a8"
             ],
             [
              0.3333333333333333,
              "#9c179e"
             ],
             [
              0.4444444444444444,
              "#bd3786"
             ],
             [
              0.5555555555555556,
              "#d8576b"
             ],
             [
              0.6666666666666666,
              "#ed7953"
             ],
             [
              0.7777777777777778,
              "#fb9f3a"
             ],
             [
              0.8888888888888888,
              "#fdca26"
             ],
             [
              1,
              "#f0f921"
             ]
            ],
            "type": "heatmap"
           }
          ],
          "heatmapgl": [
           {
            "colorbar": {
             "outlinewidth": 0,
             "ticks": ""
            },
            "colorscale": [
             [
              0,
              "#0d0887"
             ],
             [
              0.1111111111111111,
              "#46039f"
             ],
             [
              0.2222222222222222,
              "#7201a8"
             ],
             [
              0.3333333333333333,
              "#9c179e"
             ],
             [
              0.4444444444444444,
              "#bd3786"
             ],
             [
              0.5555555555555556,
              "#d8576b"
             ],
             [
              0.6666666666666666,
              "#ed7953"
             ],
             [
              0.7777777777777778,
              "#fb9f3a"
             ],
             [
              0.8888888888888888,
              "#fdca26"
             ],
             [
              1,
              "#f0f921"
             ]
            ],
            "type": "heatmapgl"
           }
          ],
          "histogram": [
           {
            "marker": {
             "pattern": {
              "fillmode": "overlay",
              "size": 10,
              "solidity": 0.2
             }
            },
            "type": "histogram"
           }
          ],
          "histogram2d": [
           {
            "colorbar": {
             "outlinewidth": 0,
             "ticks": ""
            },
            "colorscale": [
             [
              0,
              "#0d0887"
             ],
             [
              0.1111111111111111,
              "#46039f"
             ],
             [
              0.2222222222222222,
              "#7201a8"
             ],
             [
              0.3333333333333333,
              "#9c179e"
             ],
             [
              0.4444444444444444,
              "#bd3786"
             ],
             [
              0.5555555555555556,
              "#d8576b"
             ],
             [
              0.6666666666666666,
              "#ed7953"
             ],
             [
              0.7777777777777778,
              "#fb9f3a"
             ],
             [
              0.8888888888888888,
              "#fdca26"
             ],
             [
              1,
              "#f0f921"
             ]
            ],
            "type": "histogram2d"
           }
          ],
          "histogram2dcontour": [
           {
            "colorbar": {
             "outlinewidth": 0,
             "ticks": ""
            },
            "colorscale": [
             [
              0,
              "#0d0887"
             ],
             [
              0.1111111111111111,
              "#46039f"
             ],
             [
              0.2222222222222222,
              "#7201a8"
             ],
             [
              0.3333333333333333,
              "#9c179e"
             ],
             [
              0.4444444444444444,
              "#bd3786"
             ],
             [
              0.5555555555555556,
              "#d8576b"
             ],
             [
              0.6666666666666666,
              "#ed7953"
             ],
             [
              0.7777777777777778,
              "#fb9f3a"
             ],
             [
              0.8888888888888888,
              "#fdca26"
             ],
             [
              1,
              "#f0f921"
             ]
            ],
            "type": "histogram2dcontour"
           }
          ],
          "mesh3d": [
           {
            "colorbar": {
             "outlinewidth": 0,
             "ticks": ""
            },
            "type": "mesh3d"
           }
          ],
          "parcoords": [
           {
            "line": {
             "colorbar": {
              "outlinewidth": 0,
              "ticks": ""
             }
            },
            "type": "parcoords"
           }
          ],
          "pie": [
           {
            "automargin": true,
            "type": "pie"
           }
          ],
          "scatter": [
           {
            "marker": {
             "colorbar": {
              "outlinewidth": 0,
              "ticks": ""
             }
            },
            "type": "scatter"
           }
          ],
          "scatter3d": [
           {
            "line": {
             "colorbar": {
              "outlinewidth": 0,
              "ticks": ""
             }
            },
            "marker": {
             "colorbar": {
              "outlinewidth": 0,
              "ticks": ""
             }
            },
            "type": "scatter3d"
           }
          ],
          "scattercarpet": [
           {
            "marker": {
             "colorbar": {
              "outlinewidth": 0,
              "ticks": ""
             }
            },
            "type": "scattercarpet"
           }
          ],
          "scattergeo": [
           {
            "marker": {
             "colorbar": {
              "outlinewidth": 0,
              "ticks": ""
             }
            },
            "type": "scattergeo"
           }
          ],
          "scattergl": [
           {
            "marker": {
             "colorbar": {
              "outlinewidth": 0,
              "ticks": ""
             }
            },
            "type": "scattergl"
           }
          ],
          "scattermapbox": [
           {
            "marker": {
             "colorbar": {
              "outlinewidth": 0,
              "ticks": ""
             }
            },
            "type": "scattermapbox"
           }
          ],
          "scatterpolar": [
           {
            "marker": {
             "colorbar": {
              "outlinewidth": 0,
              "ticks": ""
             }
            },
            "type": "scatterpolar"
           }
          ],
          "scatterpolargl": [
           {
            "marker": {
             "colorbar": {
              "outlinewidth": 0,
              "ticks": ""
             }
            },
            "type": "scatterpolargl"
           }
          ],
          "scatterternary": [
           {
            "marker": {
             "colorbar": {
              "outlinewidth": 0,
              "ticks": ""
             }
            },
            "type": "scatterternary"
           }
          ],
          "surface": [
           {
            "colorbar": {
             "outlinewidth": 0,
             "ticks": ""
            },
            "colorscale": [
             [
              0,
              "#0d0887"
             ],
             [
              0.1111111111111111,
              "#46039f"
             ],
             [
              0.2222222222222222,
              "#7201a8"
             ],
             [
              0.3333333333333333,
              "#9c179e"
             ],
             [
              0.4444444444444444,
              "#bd3786"
             ],
             [
              0.5555555555555556,
              "#d8576b"
             ],
             [
              0.6666666666666666,
              "#ed7953"
             ],
             [
              0.7777777777777778,
              "#fb9f3a"
             ],
             [
              0.8888888888888888,
              "#fdca26"
             ],
             [
              1,
              "#f0f921"
             ]
            ],
            "type": "surface"
           }
          ],
          "table": [
           {
            "cells": {
             "fill": {
              "color": "#EBF0F8"
             },
             "line": {
              "color": "white"
             }
            },
            "header": {
             "fill": {
              "color": "#C8D4E3"
             },
             "line": {
              "color": "white"
             }
            },
            "type": "table"
           }
          ]
         },
         "layout": {
          "annotationdefaults": {
           "arrowcolor": "#2a3f5f",
           "arrowhead": 0,
           "arrowwidth": 1
          },
          "autotypenumbers": "strict",
          "coloraxis": {
           "colorbar": {
            "outlinewidth": 0,
            "ticks": ""
           }
          },
          "colorscale": {
           "diverging": [
            [
             0,
             "#8e0152"
            ],
            [
             0.1,
             "#c51b7d"
            ],
            [
             0.2,
             "#de77ae"
            ],
            [
             0.3,
             "#f1b6da"
            ],
            [
             0.4,
             "#fde0ef"
            ],
            [
             0.5,
             "#f7f7f7"
            ],
            [
             0.6,
             "#e6f5d0"
            ],
            [
             0.7,
             "#b8e186"
            ],
            [
             0.8,
             "#7fbc41"
            ],
            [
             0.9,
             "#4d9221"
            ],
            [
             1,
             "#276419"
            ]
           ],
           "sequential": [
            [
             0,
             "#0d0887"
            ],
            [
             0.1111111111111111,
             "#46039f"
            ],
            [
             0.2222222222222222,
             "#7201a8"
            ],
            [
             0.3333333333333333,
             "#9c179e"
            ],
            [
             0.4444444444444444,
             "#bd3786"
            ],
            [
             0.5555555555555556,
             "#d8576b"
            ],
            [
             0.6666666666666666,
             "#ed7953"
            ],
            [
             0.7777777777777778,
             "#fb9f3a"
            ],
            [
             0.8888888888888888,
             "#fdca26"
            ],
            [
             1,
             "#f0f921"
            ]
           ],
           "sequentialminus": [
            [
             0,
             "#0d0887"
            ],
            [
             0.1111111111111111,
             "#46039f"
            ],
            [
             0.2222222222222222,
             "#7201a8"
            ],
            [
             0.3333333333333333,
             "#9c179e"
            ],
            [
             0.4444444444444444,
             "#bd3786"
            ],
            [
             0.5555555555555556,
             "#d8576b"
            ],
            [
             0.6666666666666666,
             "#ed7953"
            ],
            [
             0.7777777777777778,
             "#fb9f3a"
            ],
            [
             0.8888888888888888,
             "#fdca26"
            ],
            [
             1,
             "#f0f921"
            ]
           ]
          },
          "colorway": [
           "#636efa",
           "#EF553B",
           "#00cc96",
           "#ab63fa",
           "#FFA15A",
           "#19d3f3",
           "#FF6692",
           "#B6E880",
           "#FF97FF",
           "#FECB52"
          ],
          "font": {
           "color": "#2a3f5f"
          },
          "geo": {
           "bgcolor": "white",
           "lakecolor": "white",
           "landcolor": "#E5ECF6",
           "showlakes": true,
           "showland": true,
           "subunitcolor": "white"
          },
          "hoverlabel": {
           "align": "left"
          },
          "hovermode": "closest",
          "mapbox": {
           "style": "light"
          },
          "paper_bgcolor": "white",
          "plot_bgcolor": "#E5ECF6",
          "polar": {
           "angularaxis": {
            "gridcolor": "white",
            "linecolor": "white",
            "ticks": ""
           },
           "bgcolor": "#E5ECF6",
           "radialaxis": {
            "gridcolor": "white",
            "linecolor": "white",
            "ticks": ""
           }
          },
          "scene": {
           "xaxis": {
            "backgroundcolor": "#E5ECF6",
            "gridcolor": "white",
            "gridwidth": 2,
            "linecolor": "white",
            "showbackground": true,
            "ticks": "",
            "zerolinecolor": "white"
           },
           "yaxis": {
            "backgroundcolor": "#E5ECF6",
            "gridcolor": "white",
            "gridwidth": 2,
            "linecolor": "white",
            "showbackground": true,
            "ticks": "",
            "zerolinecolor": "white"
           },
           "zaxis": {
            "backgroundcolor": "#E5ECF6",
            "gridcolor": "white",
            "gridwidth": 2,
            "linecolor": "white",
            "showbackground": true,
            "ticks": "",
            "zerolinecolor": "white"
           }
          },
          "shapedefaults": {
           "line": {
            "color": "#2a3f5f"
           }
          },
          "ternary": {
           "aaxis": {
            "gridcolor": "white",
            "linecolor": "white",
            "ticks": ""
           },
           "baxis": {
            "gridcolor": "white",
            "linecolor": "white",
            "ticks": ""
           },
           "bgcolor": "#E5ECF6",
           "caxis": {
            "gridcolor": "white",
            "linecolor": "white",
            "ticks": ""
           }
          },
          "title": {
           "x": 0.05
          },
          "xaxis": {
           "automargin": true,
           "gridcolor": "white",
           "linecolor": "white",
           "ticks": "",
           "title": {
            "standoff": 15
           },
           "zerolinecolor": "white",
           "zerolinewidth": 2
          },
          "yaxis": {
           "automargin": true,
           "gridcolor": "white",
           "linecolor": "white",
           "ticks": "",
           "title": {
            "standoff": 15
           },
           "zerolinecolor": "white",
           "zerolinewidth": 2
          }
         }
        },
        "title": {
         "text": "Érintendő városok elhelyezkedése"
        },
        "width": 950
       }
      }
     },
     "metadata": {},
     "output_type": "display_data"
    }
   ],
   "source": [
    "plot_destinations_map()"
   ]
  },
  {
   "cell_type": "markdown",
   "metadata": {},
   "source": [
    "Distance matrix"
   ]
  },
  {
   "cell_type": "code",
   "execution_count": 32,
   "metadata": {},
   "outputs": [],
   "source": [
    "distances = pd.DataFrame(distance_matrix(geo_data[['latitude', 'longitude']], geo_data[['latitude', 'longitude']]),\n",
    "                         columns = geo_data['destination'],\n",
    "                         index = geo_data['destination'])"
   ]
  },
  {
   "cell_type": "markdown",
   "metadata": {},
   "source": [
    "### 3. Create LP problem, set objective and constraints\n",
    "\n",
    "First, not setting any subtour constraints - let's see what happens"
   ]
  },
  {
   "cell_type": "code",
   "execution_count": 33,
   "metadata": {},
   "outputs": [],
   "source": [
    "prob = pulp.LpProblem('Optimize traveling route', pulp.const.LpMinimize)"
   ]
  },
  {
   "cell_type": "code",
   "execution_count": 34,
   "metadata": {},
   "outputs": [],
   "source": [
    "dist_dict = dict(((a, b), distances[a][b]) for a in geo_data.destination for b in geo_data.destination if a != b)\n",
    "_variables = pulp.LpVariable.dicts('city_pair', dist_dict, 0, 1, pulp.const.LpBinary)\n",
    "\n",
    "prob += pulp.lpSum([dist_dict[i] * _variables[i] for i in _variables])"
   ]
  },
  {
   "cell_type": "code",
   "execution_count": 35,
   "metadata": {},
   "outputs": [],
   "source": [
    "for i in destinations:\n",
    "\n",
    "    # max 1 outgoing route\n",
    "    prob += pulp.lpSum([_variables[(i, j)] for j in destinations if (i, j) in _variables]) == 1, 'outgoing from ' + i\n",
    "\n",
    "    # max 1 incoming route\n",
    "    prob += pulp.lpSum([_variables[(j, i)] for j in destinations if (j, i) in _variables]) == 1, 'incoming to ' + i"
   ]
  },
  {
   "cell_type": "code",
   "execution_count": 36,
   "metadata": {},
   "outputs": [],
   "source": [
    "# print(prob)"
   ]
  },
  {
   "cell_type": "code",
   "execution_count": 37,
   "metadata": {},
   "outputs": [
    {
     "name": "stdout",
     "output_type": "stream",
     "text": [
      "Status: Optimal\n",
      "Optimal traveled distance: 188.08466785791978\n",
      "Wall time: 241 ms\n"
     ]
    }
   ],
   "source": [
    "%%time\n",
    "\n",
    "status = prob.solve()\n",
    "print('Status:', pulp.LpStatus[status])\n",
    "\n",
    "OPTIMUM = pulp.value(prob.objective)\n",
    "print('Optimal traveled distance:', OPTIMUM)"
   ]
  },
  {
   "cell_type": "code",
   "execution_count": 38,
   "metadata": {},
   "outputs": [],
   "source": [
    "# for variable in prob.variables():\n",
    "#     if variable.varValue == 1:\n",
    "#         print(\"{} = {}\".format(variable.name, variable.varValue))\n",
    "\n",
    "optimal_routes = [key for key in _variables if _variables[key].varValue == 1]\n",
    "# optimal_routes"
   ]
  },
  {
   "cell_type": "markdown",
   "metadata": {},
   "source": [
    "#### Detect subtours, connectivity of destinations\n",
    "\n",
    "Before optimizing route"
   ]
  },
  {
   "cell_type": "code",
   "execution_count": 39,
   "metadata": {},
   "outputs": [
    {
     "data": {
      "image/png": "[encoded data removed]",
      "text/plain": [
       "<Figure size 1152x864 with 1 Axes>"
      ]
     },
     "metadata": {
      "needs_background": "light"
     },
     "output_type": "display_data"
    }
   ],
   "source": [
    "plot_fig(geo_data)"
   ]
  },
  {
   "cell_type": "markdown",
   "metadata": {},
   "source": [
    "After running first iteration of optimization"
   ]
  },
  {
   "cell_type": "code",
   "execution_count": 40,
   "metadata": {},
   "outputs": [
    {
     "data": {
      "image/png": "[encoded data removed]",
      "text/plain": [
       "<Figure size 1152x864 with 1 Axes>"
      ]
     },
     "metadata": {
      "needs_background": "light"
     },
     "output_type": "display_data"
    }
   ],
   "source": [
    "plot_fig(geo_data)\n",
    "\n",
    "arrowprops = {'arrowstyle' : '->', 'connectionstyle' : 'arc3', 'edgecolor': 'blue'}\n",
    "\n",
    "for i, j in optimal_routes:\n",
    "    plt.annotate('', xy=[geo_data.set_index('destination').loc[j]['longitude'], geo_data.set_index('destination').loc[j]['latitude']],\n",
    "                 xytext=[geo_data.set_index('destination').loc[i]['longitude'], geo_data.set_index('destination').loc[i]['latitude']],\n",
    "                 arrowprops = arrowprops)"
   ]
  },
  {
   "cell_type": "markdown",
   "metadata": {},
   "source": [
    "**Clearly there are subtours** - to fix them we can either choose the iterative approach, or, if we have a small destination count, by setting the constraints initially"
   ]
  },
  {
   "cell_type": "markdown",
   "metadata": {},
   "source": [
    "### 4. Set subtour constraints upfront iteratively"
   ]
  },
  {
   "cell_type": "code",
   "execution_count": 41,
   "metadata": {},
   "outputs": [
    {
     "name": "stdout",
     "output_type": "stream",
     "text": [
      "Wall time: 29 s\n"
     ]
    }
   ],
   "source": [
    "%%time\n",
    "\n",
    "prob = pulp.LpProblem('Optimize traveling route', pulp.const.LpMinimize)\n",
    "\n",
    "prob += pulp.lpSum([dist_dict[i] * _variables[i] for i in _variables])\n",
    "\n",
    "for i in destinations:\n",
    "    # max 1 outgoing route\n",
    "    prob += pulp.lpSum([_variables[(i, j)] for j in destinations if (i, j) in _variables]) == 1, 'outgoing from ' + i\n",
    "\n",
    "    # max 1 incoming route\n",
    "    prob += pulp.lpSum([_variables[(j, i)] for j in destinations if (j, i) in _variables]) == 1, 'incoming to ' + i\n",
    "\n",
    "status = prob.solve()\n",
    "\n",
    "optimal_routes = [key for key in _variables if _variables[key].varValue == 1]\n",
    "plan = get_plan(optimal_routes)\n",
    "\n",
    "# until plan is not just 1 long route, LP model will have to reoptimize considering the subtours\n",
    "\n",
    "subtour = []\n",
    "while len(plan) != 1:\n",
    "\n",
    "    for i in range(len(plan)):\n",
    "        prob += pulp.lpSum(_variables[plan[i][j][0], plan[i][j][1]] for j in range(len(plan[i]))) <= len(plan[i]) - 1\n",
    "    status = prob.solve()\n",
    "    route = [key for key in _variables if _variables[key].varValue == 1]\n",
    "    plan = get_plan(route)\n",
    "    subtour.append(len(plan))\n"
   ]
  },
  {
   "cell_type": "code",
   "execution_count": 26,
   "metadata": {},
   "outputs": [],
   "source": [
    "# save model as it took forever to optimize\n",
    "prob.to_json('models/europe_tour.json')"
   ]
  },
  {
   "cell_type": "markdown",
   "metadata": {},
   "source": [
    "Check results"
   ]
  },
  {
   "cell_type": "code",
   "execution_count": 42,
   "metadata": {},
   "outputs": [
    {
     "name": "stdout",
     "output_type": "stream",
     "text": [
      "Number of iterations to reach optimum:  16\n",
      "Number of subtours at each iteration [5, 6, 2, 2, 2, 2, 3, 3, 4, 2, 3, 2, 2, 3, 3, 1]\n",
      "Optimal traveled distance: 211.93752845804718\n"
     ]
    }
   ],
   "source": [
    "print(\"Number of iterations to reach optimum: \",len(subtour))\n",
    "print(\"Number of subtours at each iteration\", subtour)\n",
    "\n",
    "OPTIMUM = pulp.value(prob.objective)\n",
    "print('Optimal traveled distance:', OPTIMUM)"
   ]
  },
  {
   "cell_type": "code",
   "execution_count": 43,
   "metadata": {},
   "outputs": [
    {
     "data": {
      "image/png": "[encoded data removed]",
      "text/plain": [
       "<Figure size 1152x864 with 1 Axes>"
      ]
     },
     "metadata": {
      "needs_background": "light"
     },
     "output_type": "display_data"
    }
   ],
   "source": [
    "optimal_routes = [key for key in _variables if _variables[key].varValue == 1]\n",
    "\n",
    "plot_fig(geo_data)\n",
    "\n",
    "arrowprops = {'arrowstyle' : '->', 'connectionstyle' : 'arc3', 'edgecolor': 'blue'}\n",
    "\n",
    "for i, j in optimal_routes:\n",
    "    plt.annotate('', xy=[geo_data.set_index('destination').loc[j]['longitude'], geo_data.set_index('destination').loc[j]['latitude']],\n",
    "                 xytext=[geo_data.set_index('destination').loc[i]['longitude'], geo_data.set_index('destination').loc[i]['latitude']],\n",
    "                 arrowprops = arrowprops)"
   ]
  },
  {
   "cell_type": "code",
   "execution_count": 23,
   "metadata": {},
   "outputs": [
    {
     "data": {
      "text/plain": [
       "[[('Venezia, Italy', 'Bologna, Italy'),\n",
       "  ('Bologna, Italy', 'Firenze, Italy'),\n",
       "  ('Firenze, Italy', 'Pisa, Italy'),\n",
       "  ('Pisa, Italy', 'Parma, Italy'),\n",
       "  ('Parma, Italy', 'La Spezia, Italy'),\n",
       "  ('La Spezia, Italy', 'Genova, Italy'),\n",
       "  ('Genova, Italy', 'Milano, Italy'),\n",
       "  ('Milano, Italy', 'Torino, Italy'),\n",
       "  ('Torino, Italy', 'Alghero, Italy'),\n",
       "  ('Alghero, Italy', 'Palermo, Italy'),\n",
       "  ('Palermo, Italy', 'Messina, Italy'),\n",
       "  ('Messina, Italy', 'Catanzaro, Italy'),\n",
       "  ('Catanzaro, Italy', 'Lecce, Italy'),\n",
       "  ('Lecce, Italy', 'Bari, Italy'),\n",
       "  ('Bari, Italy', 'Vieste, Italy'),\n",
       "  ('Vieste, Italy', 'Napoli, Italy'),\n",
       "  ('Napoli, Italy', \"L'Aquila, Italy\"),\n",
       "  (\"L'Aquila, Italy\", 'Roma, Italy'),\n",
       "  ('Roma, Italy', 'Perugia, Italy'),\n",
       "  ('Perugia, Italy', 'Rimini, Italy'),\n",
       "  ('Rimini, Italy', 'Venezia, Italy')]]"
      ]
     },
     "execution_count": 23,
     "metadata": {},
     "output_type": "execute_result"
    }
   ],
   "source": [
    "get_plan(optimal_routes)"
   ]
  },
  {
   "cell_type": "code",
   "execution_count": null,
   "metadata": {},
   "outputs": [],
   "source": [
    "# print(prob)"
   ]
  },
  {
   "cell_type": "code",
   "execution_count": null,
   "metadata": {},
   "outputs": [],
   "source": []
  }
 ],
 "metadata": {
  "interpreter": {
   "hash": "c1c82bdd170d252fe165a9bec4d731e9ac025b41ad0f7b30ff5fda4e58991de2"
  },
  "kernelspec": {
   "display_name": "Python 3.8.8 64-bit ('base': conda)",
   "name": "python3"
  },
  "language_info": {
   "codemirror_mode": {
    "name": "ipython",
    "version": 3
   },
   "file_extension": ".py",
   "mimetype": "text/x-python",
   "name": "python",
   "nbconvert_exporter": "python",
   "pygments_lexer": "ipython3",
   "version": "3.8.8"
  },
  "orig_nbformat": 4
 },
 "nbformat": 4,
 "nbformat_minor": 2
}
