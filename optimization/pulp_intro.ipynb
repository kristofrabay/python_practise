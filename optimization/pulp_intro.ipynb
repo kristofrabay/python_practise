{
 "cells": [
  {
   "cell_type": "markdown",
   "metadata": {},
   "source": [
    "VS shortcuts to remember:\n",
    "- CTRL + SPACE when importing functions from module to list them all\n",
    "- F12 to open function init.py\n",
    "- ALT + F12 to peek at function init.py\n",
    "- Mouse hover to read function description (+ CTRL)"
   ]
  },
  {
   "cell_type": "markdown",
   "metadata": {},
   "source": [
    "## PuLP Linear Programming intro\n",
    "\n",
    "Linear Programming for optimization tasks in Python\n",
    "\n",
    "<img src=\"https://i.ytimg.com/vi/cXHvC_FGx24/maxresdefault.jpg\" width=\"700\"/>\n"
   ]
  },
  {
   "cell_type": "code",
   "execution_count": 10,
   "metadata": {},
   "outputs": [],
   "source": [
    "import pandas as pd\n",
    "import numpy as np\n",
    "\n",
    "import matplotlib.pyplot as plt\n",
    "import seaborn as sns\n",
    "\n",
    "import warnings\n",
    "warnings.filterwarnings('ignore')"
   ]
  },
  {
   "cell_type": "markdown",
   "metadata": {},
   "source": [
    "### Basic equation optimization\n",
    "\n",
    "Parts\n",
    "- Objective function (min, max, match)\n",
    "- Constraints (variable bounds, **linear** combination of variables)\n",
    "\n",
    "Modeling attributes:\n",
    "- Solver type\n",
    "- Initial guesses (warm-start)\n",
    "- Objective & variable types (floats / ints / binaries)\n",
    "\n",
    "\n",
    "Problem: production of 2 products (A, B), using raw materials in optimal way to maximize profit\n",
    "\n",
    "<img src=\"src/pulp_intro_basic_task.png\" width=\"700\"/>"
   ]
  },
  {
   "cell_type": "code",
   "execution_count": 11,
   "metadata": {},
   "outputs": [],
   "source": [
    "import pulp"
   ]
  },
  {
   "cell_type": "markdown",
   "metadata": {},
   "source": [
    "Define objective and variables"
   ]
  },
  {
   "cell_type": "code",
   "execution_count": 12,
   "metadata": {},
   "outputs": [],
   "source": [
    "prob = pulp.LpProblem(name = 'Maximize profit', sense = pulp.const.LpMaximize)\n",
    "\n",
    "a = pulp.LpVariable('A', lowBound = 0, cat = pulp.const.LpContinuous)\n",
    "b = pulp.LpVariable('B', lowBound = 0, cat = pulp.const.LpContinuous)\n",
    "\n",
    "prob += 30*a + 40*b"
   ]
  },
  {
   "cell_type": "markdown",
   "metadata": {},
   "source": [
    "Set constraints"
   ]
  },
  {
   "cell_type": "code",
   "execution_count": 13,
   "metadata": {},
   "outputs": [],
   "source": [
    "prob += 12*a + 4*b <= 300, 'Raw material I'\n",
    "prob += 4*a + 4*b <= 120, 'Raw material II'\n",
    "prob += 3*a + 12*b <= 252, 'Raw material III'"
   ]
  },
  {
   "cell_type": "markdown",
   "metadata": {},
   "source": [
    "Check LP problem"
   ]
  },
  {
   "cell_type": "code",
   "execution_count": 14,
   "metadata": {},
   "outputs": [
    {
     "name": "stdout",
     "output_type": "stream",
     "text": [
      "Maximize_profit:\n",
      "MAXIMIZE\n",
      "30*A + 40*B + 0\n",
      "SUBJECT TO\n",
      "Raw_material_I: 12 A + 4 B <= 300\n",
      "\n",
      "Raw_material_II: 4 A + 4 B <= 120\n",
      "\n",
      "Raw_material_III: 3 A + 12 B <= 252\n",
      "\n",
      "VARIABLES\n",
      "A Continuous\n",
      "B Continuous\n",
      "\n"
     ]
    }
   ],
   "source": [
    "print(prob)"
   ]
  },
  {
   "cell_type": "markdown",
   "metadata": {},
   "source": [
    "Select solver, solve, check status and results"
   ]
  },
  {
   "cell_type": "code",
   "execution_count": 15,
   "metadata": {},
   "outputs": [
    {
     "name": "stdout",
     "output_type": "stream",
     "text": [
      "Possible solvers: ['GLPK_CMD', 'PYGLPK', 'CPLEX_CMD', 'CPLEX_PY', 'GUROBI', 'GUROBI_CMD', 'MOSEK', 'XPRESS', 'PULP_CBC_CMD', 'COIN_CMD', 'COINMP_DLL', 'CHOCO_CMD', 'PULP_CHOCO_CMD', 'MIPCL_CMD', 'SCIP_CMD']\n",
      "Possible status values: {0: 'Not Solved', 1: 'Optimal', -1: 'Infeasible', -2: 'Unbounded', -3: 'Undefined'}\n"
     ]
    }
   ],
   "source": [
    "print('Possible solvers:', pulp.listSolvers())\n",
    "print('Possible status values:', pulp.LpStatus)"
   ]
  },
  {
   "cell_type": "code",
   "execution_count": 16,
   "metadata": {},
   "outputs": [
    {
     "name": "stdout",
     "output_type": "stream",
     "text": [
      "Status: Optimal\n"
     ]
    }
   ],
   "source": [
    "status = prob.solve()\n",
    "print('Status:', pulp.LpStatus[status])"
   ]
  },
  {
   "cell_type": "code",
   "execution_count": 17,
   "metadata": {},
   "outputs": [
    {
     "name": "stdout",
     "output_type": "stream",
     "text": [
      "Used solver: <pulp.apis.coin_api.PULP_CBC_CMD object at 0x0000022E7ECE30D0>\n"
     ]
    }
   ],
   "source": [
    "print('Used solver:', prob.solver)"
   ]
  },
  {
   "cell_type": "code",
   "execution_count": 18,
   "metadata": {},
   "outputs": [
    {
     "name": "stdout",
     "output_type": "stream",
     "text": [
      "A = 12.0\n",
      "B = 18.0\n"
     ]
    }
   ],
   "source": [
    "for variable in prob.variables():\n",
    "    print(\"{} = {}\".format(variable.name, variable.varValue))"
   ]
  },
  {
   "cell_type": "code",
   "execution_count": 19,
   "metadata": {},
   "outputs": [
    {
     "name": "stdout",
     "output_type": "stream",
     "text": [
      "Optimal profit: 1080.0\n"
     ]
    }
   ],
   "source": [
    "OPTIMUM = pulp.value(prob.objective)\n",
    "print('Optimal profit:', OPTIMUM)"
   ]
  },
  {
   "cell_type": "markdown",
   "metadata": {},
   "source": [
    "### Advanced example\n",
    "\n",
    "When there're many constraints and variables (most likely scenario in real life) we don't have to set them 1-by-1 manually. We can (and do) use list comprehension!\n",
    "\n",
    "**Problem**: Cost optimization of cat food with respect to it's ingredients\n",
    "\n",
    "Costs per gram:\n",
    "- chicken: $0.013\n",
    "- beef: $0.008\n",
    "- mutton: $0.01\n",
    "- rice: $0.002\n",
    "- wheat: $0.005\n",
    "- gel: $0.001\n",
    "\n",
    "Ingredient contributions:\n",
    "\n",
    "<img src=\"data/pulp_intro_cat_food_ingredients.png\" width=\"500\"/>\n",
    "\n",
    "Ingredient requirements\n",
    "- Protein: min 8g/100g\n",
    "- Fat: min 6g/100g\n",
    "- Fibre: max 4g/100g\n",
    "- Salt: max 0.4g/100g"
   ]
  },
  {
   "cell_type": "code",
   "execution_count": 20,
   "metadata": {},
   "outputs": [
    {
     "data": {
      "text/html": [
       "<div>\n",
       "<style scoped>\n",
       "    .dataframe tbody tr th:only-of-type {\n",
       "        vertical-align: middle;\n",
       "    }\n",
       "\n",
       "    .dataframe tbody tr th {\n",
       "        vertical-align: top;\n",
       "    }\n",
       "\n",
       "    .dataframe thead th {\n",
       "        text-align: right;\n",
       "    }\n",
       "</style>\n",
       "<table border=\"1\" class=\"dataframe\">\n",
       "  <thead>\n",
       "    <tr style=\"text-align: right;\">\n",
       "      <th></th>\n",
       "      <th>Stuff</th>\n",
       "      <th>Cost</th>\n",
       "      <th>Protein</th>\n",
       "      <th>Fat</th>\n",
       "      <th>Fibre</th>\n",
       "      <th>Salt</th>\n",
       "    </tr>\n",
       "  </thead>\n",
       "  <tbody>\n",
       "    <tr>\n",
       "      <th>0</th>\n",
       "      <td>Chicken</td>\n",
       "      <td>0.013</td>\n",
       "      <td>0.10</td>\n",
       "      <td>0.08</td>\n",
       "      <td>0.001</td>\n",
       "      <td>0.002</td>\n",
       "    </tr>\n",
       "    <tr>\n",
       "      <th>1</th>\n",
       "      <td>Beef</td>\n",
       "      <td>0.008</td>\n",
       "      <td>0.20</td>\n",
       "      <td>0.10</td>\n",
       "      <td>0.005</td>\n",
       "      <td>0.005</td>\n",
       "    </tr>\n",
       "    <tr>\n",
       "      <th>2</th>\n",
       "      <td>Mutton</td>\n",
       "      <td>0.010</td>\n",
       "      <td>0.15</td>\n",
       "      <td>0.11</td>\n",
       "      <td>0.003</td>\n",
       "      <td>0.007</td>\n",
       "    </tr>\n",
       "    <tr>\n",
       "      <th>3</th>\n",
       "      <td>Rice</td>\n",
       "      <td>0.002</td>\n",
       "      <td>0.00</td>\n",
       "      <td>0.01</td>\n",
       "      <td>0.100</td>\n",
       "      <td>0.002</td>\n",
       "    </tr>\n",
       "    <tr>\n",
       "      <th>4</th>\n",
       "      <td>Wheat</td>\n",
       "      <td>0.005</td>\n",
       "      <td>0.04</td>\n",
       "      <td>0.01</td>\n",
       "      <td>0.150</td>\n",
       "      <td>0.008</td>\n",
       "    </tr>\n",
       "    <tr>\n",
       "      <th>5</th>\n",
       "      <td>Gel</td>\n",
       "      <td>0.001</td>\n",
       "      <td>0.00</td>\n",
       "      <td>0.00</td>\n",
       "      <td>0.000</td>\n",
       "      <td>0.000</td>\n",
       "    </tr>\n",
       "  </tbody>\n",
       "</table>\n",
       "</div>"
      ],
      "text/plain": [
       "     Stuff   Cost  Protein   Fat  Fibre   Salt\n",
       "0  Chicken  0.013     0.10  0.08  0.001  0.002\n",
       "1     Beef  0.008     0.20  0.10  0.005  0.005\n",
       "2   Mutton  0.010     0.15  0.11  0.003  0.007\n",
       "3     Rice  0.002     0.00  0.01  0.100  0.002\n",
       "4    Wheat  0.005     0.04  0.01  0.150  0.008\n",
       "5      Gel  0.001     0.00  0.00  0.000  0.000"
      ]
     },
     "execution_count": 20,
     "metadata": {},
     "output_type": "execute_result"
    }
   ],
   "source": [
    "ingredients = pd.DataFrame({'Stuff' : ['Chicken', 'Beef', 'Mutton', 'Rice', 'Wheat', 'Gel'],\n",
    "                            'Cost' : [0.013, 0.008, 0.01, 0.002, 0.005, 0.001],\n",
    "                            'Protein' : [0.1, 0.2, 0.15, 0, 0.04, 0],\n",
    "                            'Fat' : [0.08, 0.1, 0.11, 0.01, 0.01, 0],\n",
    "                            'Fibre' : [0.001, 0.005, 0.003, 0.1, 0.15, 0],\n",
    "                            'Salt' : [0.002, 0.005, 0.007, 0.002, 0.008, 0]})\n",
    "\n",
    "ingredients"
   ]
  },
  {
   "cell_type": "markdown",
   "metadata": {},
   "source": [
    "Define problem and objective"
   ]
  },
  {
   "cell_type": "code",
   "execution_count": 21,
   "metadata": {},
   "outputs": [],
   "source": [
    "prob = pulp.LpProblem(name = 'Cat food cost minimization', sense = pulp.const.LpMinimize)"
   ]
  },
  {
   "cell_type": "markdown",
   "metadata": {},
   "source": [
    "Constraint dicts"
   ]
  },
  {
   "cell_type": "code",
   "execution_count": 22,
   "metadata": {},
   "outputs": [],
   "source": [
    "_ingredients = ingredients['Stuff'].tolist()\n",
    "\n",
    "_costs = dict(zip(ingredients['Stuff'], ingredients['Cost']))\n",
    "\n",
    "_protein = dict(zip(ingredients['Stuff'], ingredients['Protein']))\n",
    "_fat = dict(zip(ingredients['Stuff'], ingredients['Fat']))\n",
    "_fibre = dict(zip(ingredients['Stuff'], ingredients['Fibre']))\n",
    "_salt = dict(zip(ingredients['Stuff'], ingredients['Salt']))"
   ]
  },
  {
   "cell_type": "markdown",
   "metadata": {},
   "source": [
    "Create dictionary of variables for LP model"
   ]
  },
  {
   "cell_type": "code",
   "execution_count": 23,
   "metadata": {},
   "outputs": [
    {
     "data": {
      "text/plain": [
       "{'Chicken': ingredient_Chicken,\n",
       " 'Beef': ingredient_Beef,\n",
       " 'Mutton': ingredient_Mutton,\n",
       " 'Rice': ingredient_Rice,\n",
       " 'Wheat': ingredient_Wheat,\n",
       " 'Gel': ingredient_Gel}"
      ]
     },
     "execution_count": 23,
     "metadata": {},
     "output_type": "execute_result"
    }
   ],
   "source": [
    "_variables = pulp.LpVariable.dicts( 'ingredient', _ingredients, lowBound = 0, upBound = 1)\n",
    "_variables"
   ]
  },
  {
   "cell_type": "markdown",
   "metadata": {},
   "source": [
    "Define function to minimize"
   ]
  },
  {
   "cell_type": "code",
   "execution_count": 24,
   "metadata": {},
   "outputs": [],
   "source": [
    "prob += pulp.lpSum([_variables[i] * _costs[i] for i in _ingredients])"
   ]
  },
  {
   "cell_type": "code",
   "execution_count": 25,
   "metadata": {},
   "outputs": [
    {
     "data": {
      "text/plain": [
       "Cat_food_cost_minimization:\n",
       "MINIMIZE\n",
       "0.008*ingredient_Beef + 0.013*ingredient_Chicken + 0.001*ingredient_Gel + 0.01*ingredient_Mutton + 0.002*ingredient_Rice + 0.005*ingredient_Wheat + 0.0\n",
       "VARIABLES\n",
       "ingredient_Beef <= 1 Continuous\n",
       "ingredient_Chicken <= 1 Continuous\n",
       "ingredient_Gel <= 1 Continuous\n",
       "ingredient_Mutton <= 1 Continuous\n",
       "ingredient_Rice <= 1 Continuous\n",
       "ingredient_Wheat <= 1 Continuous"
      ]
     },
     "execution_count": 25,
     "metadata": {},
     "output_type": "execute_result"
    }
   ],
   "source": [
    "prob"
   ]
  },
  {
   "cell_type": "markdown",
   "metadata": {},
   "source": [
    "Add constraints"
   ]
  },
  {
   "cell_type": "code",
   "execution_count": 26,
   "metadata": {},
   "outputs": [],
   "source": [
    "# Ratio of ingredients has to sum up to 1\n",
    "prob += pulp.lpSum(_variables[i] for i in _ingredients) == 1, 'Ratios add up to 1'\n",
    "\n",
    "# Protein, fat, fibre & salt fulfill their requirements\n",
    "prob += pulp.lpSum(_variables[i]  * _protein[i] for i in _ingredients) >= 0.08, 'Protein at least 8g'\n",
    "prob += pulp.lpSum(_variables[i]  * _fat[i] for i in _ingredients) >= 0.06, 'Fat at least 6g'\n",
    "prob += pulp.lpSum(_variables[i]  * _fibre[i] for i in _ingredients) <= 0.02, 'Fiber at most 2g'\n",
    "prob += pulp.lpSum(_variables[i]  * _salt[i] for i in _ingredients) <= 0.004, 'Salt at most 0.4g'"
   ]
  },
  {
   "cell_type": "code",
   "execution_count": 27,
   "metadata": {},
   "outputs": [
    {
     "name": "stdout",
     "output_type": "stream",
     "text": [
      "Cat_food_cost_minimization:\n",
      "MINIMIZE\n",
      "0.008*ingredient_Beef + 0.013*ingredient_Chicken + 0.001*ingredient_Gel + 0.01*ingredient_Mutton + 0.002*ingredient_Rice + 0.005*ingredient_Wheat + 0.0\n",
      "SUBJECT TO\n",
      "Ratios_add_up_to_1: ingredient_Beef + ingredient_Chicken + ingredient_Gel\n",
      " + ingredient_Mutton + ingredient_Rice + ingredient_Wheat = 1\n",
      "\n",
      "Protein_at_least_8g: 0.2 ingredient_Beef + 0.1 ingredient_Chicken\n",
      " + 0.15 ingredient_Mutton + 0.04 ingredient_Wheat >= 0.08\n",
      "\n",
      "Fat_at_least_6g: 0.1 ingredient_Beef + 0.08 ingredient_Chicken\n",
      " + 0.11 ingredient_Mutton + 0.01 ingredient_Rice + 0.01 ingredient_Wheat\n",
      " >= 0.06\n",
      "\n",
      "Fiber_at_most_2g: 0.005 ingredient_Beef + 0.001 ingredient_Chicken\n",
      " + 0.003 ingredient_Mutton + 0.1 ingredient_Rice + 0.15 ingredient_Wheat\n",
      " <= 0.02\n",
      "\n",
      "Salt_at_most_0.4g: 0.005 ingredient_Beef + 0.002 ingredient_Chicken\n",
      " + 0.007 ingredient_Mutton + 0.002 ingredient_Rice + 0.008 ingredient_Wheat\n",
      " <= 0.004\n",
      "\n",
      "VARIABLES\n",
      "ingredient_Beef <= 1 Continuous\n",
      "ingredient_Chicken <= 1 Continuous\n",
      "ingredient_Gel <= 1 Continuous\n",
      "ingredient_Mutton <= 1 Continuous\n",
      "ingredient_Rice <= 1 Continuous\n",
      "ingredient_Wheat <= 1 Continuous\n",
      "\n"
     ]
    }
   ],
   "source": [
    "print(prob)"
   ]
  },
  {
   "cell_type": "markdown",
   "metadata": {},
   "source": [
    "Run optimization & check optimum"
   ]
  },
  {
   "cell_type": "code",
   "execution_count": 28,
   "metadata": {},
   "outputs": [
    {
     "name": "stdout",
     "output_type": "stream",
     "text": [
      "Status: Optimal\n"
     ]
    }
   ],
   "source": [
    "status = prob.solve()\n",
    "print('Status:', pulp.LpStatus[status])"
   ]
  },
  {
   "cell_type": "code",
   "execution_count": 29,
   "metadata": {},
   "outputs": [
    {
     "name": "stdout",
     "output_type": "stream",
     "text": [
      "ingredient_Beef = 0.6\n",
      "ingredient_Chicken = 0.0\n",
      "ingredient_Gel = 0.4\n",
      "ingredient_Mutton = 0.0\n",
      "ingredient_Rice = 0.0\n",
      "ingredient_Wheat = 0.0\n"
     ]
    }
   ],
   "source": [
    "for variable in prob.variables():\n",
    "    print(\"{} = {}\".format(variable.name, variable.varValue))"
   ]
  },
  {
   "cell_type": "code",
   "execution_count": 30,
   "metadata": {},
   "outputs": [
    {
     "name": "stdout",
     "output_type": "stream",
     "text": [
      "Optimal cost per 100g ($): 0.0052\n"
     ]
    }
   ],
   "source": [
    "OPTIMUM = pulp.value(prob.objective)\n",
    "print('Optimal cost per 100g ($):', OPTIMUM)"
   ]
  },
  {
   "cell_type": "markdown",
   "metadata": {},
   "source": [
    "#### Just beef and gel? Let's set some minimum constraints for chicken and rice, and maximum for gel"
   ]
  },
  {
   "cell_type": "code",
   "execution_count": 31,
   "metadata": {},
   "outputs": [],
   "source": [
    "_min_constraint = {'Chicken': 0.1,\n",
    "                    'Beef': 0.25,\n",
    "                    'Mutton': 0,\n",
    "                    'Rice': 0.1,\n",
    "                    'Wheat': 0,\n",
    "                    'Gel': 0}\n",
    "\n",
    "_max_constraint = {'Chicken': 1,\n",
    "                    'Beef': 1,\n",
    "                    'Mutton': 1,\n",
    "                    'Rice': 1,\n",
    "                    'Wheat': 1,\n",
    "                    'Gel': 0.15}"
   ]
  },
  {
   "cell_type": "code",
   "execution_count": 32,
   "metadata": {},
   "outputs": [],
   "source": [
    "_variables = pulp.LpVariable.dicts( 'ingredient', _ingredients, lowBound = 0, upBound = 1)\n",
    "\n",
    "for i in _variables.keys():\n",
    "    _variables[i].lowBound = _min_constraint[i]\n",
    "    _variables[i].upBound = _max_constraint[i]"
   ]
  },
  {
   "cell_type": "code",
   "execution_count": 33,
   "metadata": {},
   "outputs": [
    {
     "data": {
      "text/plain": [
       "{'lowBound': 0.1,\n",
       " 'upBound': 1,\n",
       " 'cat': 'Continuous',\n",
       " 'varValue': None,\n",
       " 'dj': None,\n",
       " 'name': 'ingredient_Chicken'}"
      ]
     },
     "execution_count": 33,
     "metadata": {},
     "output_type": "execute_result"
    }
   ],
   "source": [
    "_variables['Chicken'].to_dict()"
   ]
  },
  {
   "cell_type": "code",
   "execution_count": 34,
   "metadata": {},
   "outputs": [
    {
     "name": "stdout",
     "output_type": "stream",
     "text": [
      "Status: Optimal\n",
      "ingredient_Beef = 0.58\n",
      "ingredient_Chicken = 0.1\n",
      "ingredient_Gel = 0.15\n",
      "ingredient_Mutton = 0.0\n",
      "ingredient_Rice = 0.17\n",
      "ingredient_Wheat = 0.0\n",
      "Optimal cost per 100g ($): 0.00643\n"
     ]
    }
   ],
   "source": [
    "### WHole process\n",
    "\n",
    "# Set variable bounds\n",
    "_variables = pulp.LpVariable.dicts( 'ingredient', _ingredients, lowBound = 0, upBound = 1)\n",
    "\n",
    "for i in _variables.keys():\n",
    "    _variables[i].lowBound = _min_constraint[i]\n",
    "    _variables[i].upBound = _max_constraint[i]\n",
    "\n",
    "# Create LP problem\n",
    "prob = pulp.LpProblem(name = 'Cat food cost minimization', sense = pulp.const.LpMinimize)\n",
    "\n",
    "# Objective function\n",
    "prob += pulp.lpSum([_variables[i] * _costs[i] for i in _ingredients])\n",
    "\n",
    "# Ratio of ingredients has to sum up to 1\n",
    "prob += pulp.lpSum(_variables[i] for i in _ingredients) == 1, 'Ratios add up to 1'\n",
    "\n",
    "# Protein, fat, fibre & salt fulfill their requirements\n",
    "prob += pulp.lpSum(_variables[i]  * _protein[i] for i in _ingredients) >= 0.08, 'Protein at least 8g'\n",
    "prob += pulp.lpSum(_variables[i]  * _fat[i] for i in _ingredients) >= 0.06, 'Fat at least 6g'\n",
    "prob += pulp.lpSum(_variables[i]  * _fibre[i] for i in _ingredients) <= 0.02, 'Fiber at most 2g'\n",
    "prob += pulp.lpSum(_variables[i]  * _salt[i] for i in _ingredients) <= 0.004, 'Salt at most 0.4g'\n",
    "\n",
    "status = prob.solve()\n",
    "print('Status:', pulp.LpStatus[status])\n",
    "\n",
    "for variable in prob.variables():\n",
    "    print(\"{} = {}\".format(variable.name, variable.varValue))\n",
    "\n",
    "OPTIMUM = pulp.value(prob.objective)\n",
    "print('Optimal cost per 100g ($):', OPTIMUM)\n"
   ]
  },
  {
   "cell_type": "markdown",
   "metadata": {},
   "source": [
    "Instead of $0.0052 now the minimum cost is $0.00643"
   ]
  },
  {
   "cell_type": "code",
   "execution_count": 35,
   "metadata": {},
   "outputs": [
    {
     "name": "stdout",
     "output_type": "stream",
     "text": [
      "Cat_food_cost_minimization:\n",
      "MINIMIZE\n",
      "0.008*ingredient_Beef + 0.013*ingredient_Chicken + 0.001*ingredient_Gel + 0.01*ingredient_Mutton + 0.002*ingredient_Rice + 0.005*ingredient_Wheat + 0.0\n",
      "SUBJECT TO\n",
      "Ratios_add_up_to_1: ingredient_Beef + ingredient_Chicken + ingredient_Gel\n",
      " + ingredient_Mutton + ingredient_Rice + ingredient_Wheat = 1\n",
      "\n",
      "Protein_at_least_8g: 0.2 ingredient_Beef + 0.1 ingredient_Chicken\n",
      " + 0.15 ingredient_Mutton + 0.04 ingredient_Wheat >= 0.08\n",
      "\n",
      "Fat_at_least_6g: 0.1 ingredient_Beef + 0.08 ingredient_Chicken\n",
      " + 0.11 ingredient_Mutton + 0.01 ingredient_Rice + 0.01 ingredient_Wheat\n",
      " >= 0.06\n",
      "\n",
      "Fiber_at_most_2g: 0.005 ingredient_Beef + 0.001 ingredient_Chicken\n",
      " + 0.003 ingredient_Mutton + 0.1 ingredient_Rice + 0.15 ingredient_Wheat\n",
      " <= 0.02\n",
      "\n",
      "Salt_at_most_0.4g: 0.005 ingredient_Beef + 0.002 ingredient_Chicken\n",
      " + 0.007 ingredient_Mutton + 0.002 ingredient_Rice + 0.008 ingredient_Wheat\n",
      " <= 0.004\n",
      "\n",
      "VARIABLES\n",
      "0.25 <= ingredient_Beef <= 1 Continuous\n",
      "0.1 <= ingredient_Chicken <= 1 Continuous\n",
      "ingredient_Gel <= 0.15 Continuous\n",
      "ingredient_Mutton <= 1 Continuous\n",
      "0.1 <= ingredient_Rice <= 1 Continuous\n",
      "ingredient_Wheat <= 1 Continuous\n",
      "\n"
     ]
    }
   ],
   "source": [
    "print(prob)"
   ]
  },
  {
   "cell_type": "code",
   "execution_count": null,
   "metadata": {},
   "outputs": [],
   "source": []
  },
  {
   "cell_type": "code",
   "execution_count": null,
   "metadata": {},
   "outputs": [],
   "source": []
  },
  {
   "cell_type": "code",
   "execution_count": null,
   "metadata": {},
   "outputs": [],
   "source": []
  },
  {
   "cell_type": "code",
   "execution_count": null,
   "metadata": {},
   "outputs": [],
   "source": []
  },
  {
   "cell_type": "code",
   "execution_count": null,
   "metadata": {},
   "outputs": [],
   "source": []
  }
 ],
 "metadata": {
  "interpreter": {
   "hash": "c1c82bdd170d252fe165a9bec4d731e9ac025b41ad0f7b30ff5fda4e58991de2"
  },
  "kernelspec": {
   "display_name": "Python 3.8.8 64-bit ('base': conda)",
   "name": "python3"
  },
  "language_info": {
   "codemirror_mode": {
    "name": "ipython",
    "version": 3
   },
   "file_extension": ".py",
   "mimetype": "text/x-python",
   "name": "python",
   "nbconvert_exporter": "python",
   "pygments_lexer": "ipython3",
   "version": "3.8.8"
  },
  "orig_nbformat": 4
 },
 "nbformat": 4,
 "nbformat_minor": 2
}
