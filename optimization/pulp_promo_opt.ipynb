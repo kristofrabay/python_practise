{
 "cells": [
  {
   "cell_type": "markdown",
   "metadata": {},
   "source": [
    "## Use case for LP optimization: discount level for alcoholic beverages\n",
    "\n",
    "Data downloaded from https://www.kaggle.com/mrmorj/big-mart-sales\n",
    "\n"
   ]
  },
  {
   "cell_type": "code",
   "execution_count": 2,
   "metadata": {},
   "outputs": [],
   "source": [
    "import pandas as pd\n",
    "import numpy as np\n",
    "\n",
    "import matplotlib.pyplot as plt\n",
    "import seaborn as sns\n",
    "\n",
    "import statsmodels.api as sm\n",
    "from statsmodels.formula.api import ols\n",
    "\n",
    "import warnings\n",
    "warnings.filterwarnings('ignore')\n",
    "\n",
    "\n",
    "def discount_bin(x):\n",
    "    if x == 1:\n",
    "        return '0%'\n",
    "    if x >= 0.95:\n",
    "        return '<=5%'\n",
    "    if x > 0.9:\n",
    "        return '5-10%'\n",
    "    if x > 0.75:\n",
    "        return '10-25%'\n",
    "    if x > 0.5:\n",
    "        return '25-50%'\n",
    "    if x <= 0.5:\n",
    "        return '>=50%'"
   ]
  },
  {
   "cell_type": "code",
   "execution_count": 3,
   "metadata": {},
   "outputs": [
    {
     "data": {
      "text/html": [
       "<div>\n",
       "<style scoped>\n",
       "    .dataframe tbody tr th:only-of-type {\n",
       "        vertical-align: middle;\n",
       "    }\n",
       "\n",
       "    .dataframe tbody tr th {\n",
       "        vertical-align: top;\n",
       "    }\n",
       "\n",
       "    .dataframe thead th {\n",
       "        text-align: right;\n",
       "    }\n",
       "</style>\n",
       "<table border=\"1\" class=\"dataframe\">\n",
       "  <thead>\n",
       "    <tr style=\"text-align: right;\">\n",
       "      <th></th>\n",
       "      <th>Item_Identifier</th>\n",
       "      <th>Item_Type</th>\n",
       "      <th>Outlet_Identifier</th>\n",
       "      <th>Outlet_Location_Type</th>\n",
       "      <th>Outlet_Type</th>\n",
       "      <th>Sales</th>\n",
       "      <th>Quantity</th>\n",
       "      <th>Price</th>\n",
       "    </tr>\n",
       "  </thead>\n",
       "  <tbody>\n",
       "    <tr>\n",
       "      <th>0</th>\n",
       "      <td>FDA15</td>\n",
       "      <td>Dairy</td>\n",
       "      <td>OUT049</td>\n",
       "      <td>Tier 1</td>\n",
       "      <td>Supermarket</td>\n",
       "      <td>3735.1380</td>\n",
       "      <td>15</td>\n",
       "      <td>249.0092</td>\n",
       "    </tr>\n",
       "    <tr>\n",
       "      <th>1</th>\n",
       "      <td>DRC01</td>\n",
       "      <td>Soft Drinks</td>\n",
       "      <td>OUT018</td>\n",
       "      <td>Tier 3</td>\n",
       "      <td>Supermarket</td>\n",
       "      <td>443.4228</td>\n",
       "      <td>9</td>\n",
       "      <td>49.2692</td>\n",
       "    </tr>\n",
       "    <tr>\n",
       "      <th>2</th>\n",
       "      <td>FDN15</td>\n",
       "      <td>Meat</td>\n",
       "      <td>OUT049</td>\n",
       "      <td>Tier 1</td>\n",
       "      <td>Supermarket</td>\n",
       "      <td>2097.2700</td>\n",
       "      <td>14</td>\n",
       "      <td>149.8050</td>\n",
       "    </tr>\n",
       "  </tbody>\n",
       "</table>\n",
       "</div>"
      ],
      "text/plain": [
       "  Item_Identifier    Item_Type Outlet_Identifier Outlet_Location_Type  \\\n",
       "0           FDA15        Dairy            OUT049               Tier 1   \n",
       "1           DRC01  Soft Drinks            OUT018               Tier 3   \n",
       "2           FDN15         Meat            OUT049               Tier 1   \n",
       "\n",
       "   Outlet_Type      Sales  Quantity     Price  \n",
       "0  Supermarket  3735.1380        15  249.0092  \n",
       "1  Supermarket   443.4228         9   49.2692  \n",
       "2  Supermarket  2097.2700        14  149.8050  "
      ]
     },
     "execution_count": 3,
     "metadata": {},
     "output_type": "execute_result"
    }
   ],
   "source": [
    "data = pd.read_csv('src/big_mart_sales.csv')\n",
    "\n",
    "data.drop(['Outlet_Establishment_Year', 'Outlet_Size', 'Item_Weight', 'Item_Fat_Content', 'Item_Visibility'], 1, inplace = True)\n",
    "data['Outlet_Type'] = data['Outlet_Type'].apply(lambda x: 'Supermarket' if 'Supermarket' in x else x)\n",
    "\n",
    "data['Quantity'] = (data['Item_Outlet_Sales'] / data['Item_MRP']).round(1).astype(int)\n",
    "data['Price'] = data['Item_Outlet_Sales'] / data['Quantity']\n",
    "data.rename(columns = {'Item_Outlet_Sales' : 'Sales'}, inplace = True)\n",
    "data.drop(['Item_MRP'], 1, inplace = True)\n",
    "\n",
    "data.head(3)"
   ]
  },
  {
   "cell_type": "markdown",
   "metadata": {},
   "source": [
    "### Step 1: Aggregate sales data by item type, outlet type by summing up quantity and sales, calculating mean price\n",
    "\n",
    "Preprocessing step: calculate price range to add as aggregation hierarchy"
   ]
  },
  {
   "cell_type": "code",
   "execution_count": 4,
   "metadata": {},
   "outputs": [
    {
     "data": {
      "text/html": [
       "<div>\n",
       "<style scoped>\n",
       "    .dataframe tbody tr th:only-of-type {\n",
       "        vertical-align: middle;\n",
       "    }\n",
       "\n",
       "    .dataframe tbody tr th {\n",
       "        vertical-align: top;\n",
       "    }\n",
       "\n",
       "    .dataframe thead th {\n",
       "        text-align: right;\n",
       "    }\n",
       "</style>\n",
       "<table border=\"1\" class=\"dataframe\">\n",
       "  <thead>\n",
       "    <tr style=\"text-align: right;\">\n",
       "      <th></th>\n",
       "      <th>Item_Identifier</th>\n",
       "      <th>Item_Type</th>\n",
       "      <th>Outlet_Identifier</th>\n",
       "      <th>Outlet_Location_Type</th>\n",
       "      <th>Outlet_Type</th>\n",
       "      <th>Sales</th>\n",
       "      <th>Quantity</th>\n",
       "      <th>Price</th>\n",
       "      <th>Discount_Bin</th>\n",
       "    </tr>\n",
       "  </thead>\n",
       "  <tbody>\n",
       "    <tr>\n",
       "      <th>0</th>\n",
       "      <td>FDA15</td>\n",
       "      <td>Dairy</td>\n",
       "      <td>OUT049</td>\n",
       "      <td>Tier 1</td>\n",
       "      <td>Supermarket</td>\n",
       "      <td>3735.1380</td>\n",
       "      <td>15</td>\n",
       "      <td>249.009200</td>\n",
       "      <td>&lt;=5%</td>\n",
       "    </tr>\n",
       "    <tr>\n",
       "      <th>1</th>\n",
       "      <td>FDA15</td>\n",
       "      <td>Dairy</td>\n",
       "      <td>OUT045</td>\n",
       "      <td>Tier 2</td>\n",
       "      <td>Supermarket</td>\n",
       "      <td>5976.2208</td>\n",
       "      <td>23</td>\n",
       "      <td>259.835687</td>\n",
       "      <td>0%</td>\n",
       "    </tr>\n",
       "    <tr>\n",
       "      <th>2</th>\n",
       "      <td>FDA15</td>\n",
       "      <td>Dairy</td>\n",
       "      <td>OUT035</td>\n",
       "      <td>Tier 2</td>\n",
       "      <td>Supermarket</td>\n",
       "      <td>6474.2392</td>\n",
       "      <td>26</td>\n",
       "      <td>249.009200</td>\n",
       "      <td>&lt;=5%</td>\n",
       "    </tr>\n",
       "  </tbody>\n",
       "</table>\n",
       "</div>"
      ],
      "text/plain": [
       "  Item_Identifier Item_Type Outlet_Identifier Outlet_Location_Type  \\\n",
       "0           FDA15     Dairy            OUT049               Tier 1   \n",
       "1           FDA15     Dairy            OUT045               Tier 2   \n",
       "2           FDA15     Dairy            OUT035               Tier 2   \n",
       "\n",
       "   Outlet_Type      Sales  Quantity       Price Discount_Bin  \n",
       "0  Supermarket  3735.1380        15  249.009200         <=5%  \n",
       "1  Supermarket  5976.2208        23  259.835687           0%  \n",
       "2  Supermarket  6474.2392        26  249.009200         <=5%  "
      ]
     },
     "execution_count": 4,
     "metadata": {},
     "output_type": "execute_result"
    }
   ],
   "source": [
    "max_price = data.groupby('Item_Identifier').agg({'Price' : 'max'}).reset_index().rename(columns={'Price' : 'Max_Price_Product'})\n",
    "data = data.merge(max_price, on = 'Item_Identifier')\n",
    "\n",
    "data['Discount'] = data['Price'] / data['Max_Price_Product']\n",
    "data['Discount_Bin'] = data['Discount'].apply(lambda x: discount_bin(x))\n",
    "data.drop(['Discount', 'Max_Price_Product'], 1, inplace = True)\n",
    "\n",
    "data.head(3)"
   ]
  },
  {
   "cell_type": "markdown",
   "metadata": {},
   "source": [
    "Aggregation on item, outlet type and discount"
   ]
  },
  {
   "cell_type": "code",
   "execution_count": 5,
   "metadata": {},
   "outputs": [
    {
     "data": {
      "text/html": [
       "<div>\n",
       "<style scoped>\n",
       "    .dataframe tbody tr th:only-of-type {\n",
       "        vertical-align: middle;\n",
       "    }\n",
       "\n",
       "    .dataframe tbody tr th {\n",
       "        vertical-align: top;\n",
       "    }\n",
       "\n",
       "    .dataframe thead th {\n",
       "        text-align: right;\n",
       "    }\n",
       "</style>\n",
       "<table border=\"1\" class=\"dataframe\">\n",
       "  <thead>\n",
       "    <tr style=\"text-align: right;\">\n",
       "      <th></th>\n",
       "      <th>Item_Identifier</th>\n",
       "      <th>Item_Type</th>\n",
       "      <th>Outlet_Location_Type</th>\n",
       "      <th>Outlet_Type</th>\n",
       "      <th>Discount_Bin</th>\n",
       "      <th>Total_Sales</th>\n",
       "      <th>Total_Quantity</th>\n",
       "      <th>Avg_Price</th>\n",
       "    </tr>\n",
       "  </thead>\n",
       "  <tbody>\n",
       "    <tr>\n",
       "      <th>0</th>\n",
       "      <td>DRA12</td>\n",
       "      <td>Soft Drinks</td>\n",
       "      <td>Tier 2</td>\n",
       "      <td>Supermarket</td>\n",
       "      <td>5-10%</td>\n",
       "      <td>7374.4008</td>\n",
       "      <td>52</td>\n",
       "      <td>141.815400</td>\n",
       "    </tr>\n",
       "    <tr>\n",
       "      <th>1</th>\n",
       "      <td>DRA12</td>\n",
       "      <td>Soft Drinks</td>\n",
       "      <td>Tier 3</td>\n",
       "      <td>Grocery Store</td>\n",
       "      <td>5-10%</td>\n",
       "      <td>283.6308</td>\n",
       "      <td>2</td>\n",
       "      <td>141.815400</td>\n",
       "    </tr>\n",
       "    <tr>\n",
       "      <th>2</th>\n",
       "      <td>DRA12</td>\n",
       "      <td>Soft Drinks</td>\n",
       "      <td>Tier 3</td>\n",
       "      <td>Supermarket</td>\n",
       "      <td>0%</td>\n",
       "      <td>2552.6772</td>\n",
       "      <td>17</td>\n",
       "      <td>150.157482</td>\n",
       "    </tr>\n",
       "  </tbody>\n",
       "</table>\n",
       "</div>"
      ],
      "text/plain": [
       "  Item_Identifier    Item_Type Outlet_Location_Type    Outlet_Type  \\\n",
       "0           DRA12  Soft Drinks               Tier 2    Supermarket   \n",
       "1           DRA12  Soft Drinks               Tier 3  Grocery Store   \n",
       "2           DRA12  Soft Drinks               Tier 3    Supermarket   \n",
       "\n",
       "  Discount_Bin  Total_Sales  Total_Quantity   Avg_Price  \n",
       "0        5-10%    7374.4008              52  141.815400  \n",
       "1        5-10%     283.6308               2  141.815400  \n",
       "2           0%    2552.6772              17  150.157482  "
      ]
     },
     "execution_count": 5,
     "metadata": {},
     "output_type": "execute_result"
    }
   ],
   "source": [
    "groupby_cols = ['Item_Identifier', 'Item_Type', 'Outlet_Location_Type', 'Outlet_Type', 'Discount_Bin']\n",
    "data_agg = data.groupby(groupby_cols).agg({'Sales' : 'sum', 'Quantity' : 'sum', 'Price' : 'mean'}).reset_index()\n",
    "data_agg.rename(columns = {'Sales' : 'Total_Sales', 'Quantity' : 'Total_Quantity', 'Price' : 'Avg_Price'}, inplace = True)\n",
    "\n",
    "data_agg.head(3)"
   ]
  },
  {
   "cell_type": "markdown",
   "metadata": {},
   "source": [
    "### Step 2: Calculate elasticities\n",
    "\n",
    "Calculation will be carried out on item and item type levels so that high-p value items or positive-elasticity items can be overwritten by their respective group's coefficients"
   ]
  },
  {
   "cell_type": "code",
   "execution_count": 6,
   "metadata": {},
   "outputs": [],
   "source": [
    "def apply_ols(data):\n",
    "\n",
    "    regression_equation = 'log_quantity ~ log_price'\n",
    "    elasticity_model = ols(regression_equation, data = data).fit()\n",
    "\n",
    "    return elasticity_model"
   ]
  },
  {
   "cell_type": "code",
   "execution_count": 7,
   "metadata": {},
   "outputs": [],
   "source": [
    "def calc_price_elas(data: pd.DataFrame, group_by_cols: list, group_by_model: list, model_name: str) -> dict: \n",
    "\n",
    "    df_agg = data.groupby(group_by_cols).agg({'Total_Quantity' : 'mean', 'Avg_Price' : 'mean'}).reset_index()\n",
    "    df_agg['log_price'] = np.log(df_agg['Avg_Price'])\n",
    "    df_agg['log_quantity'] = np.log(df_agg['Total_Quantity'])\n",
    "    \n",
    "    df_model = df_agg.groupby(group_by_model, as_index = True)\n",
    "    df_out = df_agg[group_by_model].drop_duplicates() # this will be filled up with model results\n",
    "    \n",
    "    # apply model for all groups\n",
    "    df_model = df_model.apply(lambda x: apply_ols(x))\n",
    "\n",
    "    # fill up results table\n",
    "    df_out['intercept_' + model_name] = [i.params['Intercept'] for i in df_model.values]\n",
    "    df_out['price_elasticity_' + model_name] = [i.params['log_price'] for i in df_model.values]\n",
    "    df_out['p_value_' + model_name] = [i.pvalues['log_price'] for i in df_model.values]\n",
    "    df_out['r2_adj_' + model_name] = [i.rsquared_adj for i in df_model.values]\n",
    "    \n",
    "    return df_out"
   ]
  },
  {
   "cell_type": "markdown",
   "metadata": {},
   "source": [
    "Overwrite positive and NaN item elasticities with item type elasticities, then keep only negative values"
   ]
  },
  {
   "cell_type": "code",
   "execution_count": 8,
   "metadata": {},
   "outputs": [],
   "source": [
    "elas_item_level = calc_price_elas(data_agg, \n",
    "                                  ['Item_Identifier','Item_Type','Outlet_Location_Type','Outlet_Type','Discount_Bin'],\n",
    "                                  ['Item_Identifier', 'Item_Type'], \n",
    "                                  'item_level')\n",
    "\n",
    "elas_item_type_level = calc_price_elas(data_agg, \n",
    "                                       ['Item_Type','Outlet_Location_Type','Outlet_Type','Discount_Bin'],\n",
    "                                       ['Item_Type'],\n",
    "                                        'item_type_level')"
   ]
  },
  {
   "cell_type": "code",
   "execution_count": 9,
   "metadata": {},
   "outputs": [
    {
     "name": "stdout",
     "output_type": "stream",
     "text": [
      "(1559, 5)\n",
      "(256, 5)\n"
     ]
    }
   ],
   "source": [
    "elas_results = elas_item_level.merge(elas_item_type_level, on = 'Item_Type')\n",
    "\n",
    "elas_results.loc[elas_results['price_elasticity_item_level'] > 0, 'price_elasticity_item_level'] = np.nan\n",
    "elas_results.loc[elas_results['price_elasticity_item_level'] > 0, 'intercept_item_level'] = np.nan\n",
    "elas_results.loc[elas_results['price_elasticity_item_level'] > 0, 'p_value_item_level'] = np.nan\n",
    "\n",
    "\n",
    "elas_results['price_elasticity_item_level'] = elas_results['price_elasticity_item_level'].fillna(elas_results['price_elasticity_item_type_level'])\n",
    "elas_results['intercept_item_level'] = elas_results['intercept_item_level'].fillna(elas_results['intercept_item_type_level'])\n",
    "elas_results['p_value_item_level'] = elas_results['p_value_item_level'].fillna(elas_results['p_value_item_type_level'])\n",
    "\n",
    "elas_results = elas_results[['Item_Identifier', 'Item_Type', 'intercept_item_level', 'price_elasticity_item_level', 'p_value_item_level']]\n",
    "\n",
    "print(elas_results.shape)\n",
    "elas_results = elas_results.loc[elas_results['price_elasticity_item_level'] < 0]\n",
    "elas_results = elas_results.loc[elas_results['p_value_item_level'] <= 0.1]\n",
    "\n",
    "print(elas_results.shape)"
   ]
  },
  {
   "cell_type": "code",
   "execution_count": 10,
   "metadata": {},
   "outputs": [
    {
     "data": {
      "text/html": [
       "<div>\n",
       "<style scoped>\n",
       "    .dataframe tbody tr th:only-of-type {\n",
       "        vertical-align: middle;\n",
       "    }\n",
       "\n",
       "    .dataframe tbody tr th {\n",
       "        vertical-align: top;\n",
       "    }\n",
       "\n",
       "    .dataframe thead th {\n",
       "        text-align: right;\n",
       "    }\n",
       "</style>\n",
       "<table border=\"1\" class=\"dataframe\">\n",
       "  <thead>\n",
       "    <tr style=\"text-align: right;\">\n",
       "      <th></th>\n",
       "      <th>count</th>\n",
       "      <th>mean</th>\n",
       "      <th>std</th>\n",
       "      <th>min</th>\n",
       "      <th>10%</th>\n",
       "      <th>25%</th>\n",
       "      <th>50%</th>\n",
       "      <th>75%</th>\n",
       "      <th>90%</th>\n",
       "      <th>max</th>\n",
       "    </tr>\n",
       "  </thead>\n",
       "  <tbody>\n",
       "    <tr>\n",
       "      <th>p_value_item_level</th>\n",
       "      <td>256.0</td>\n",
       "      <td>0.030453</td>\n",
       "      <td>0.028197</td>\n",
       "      <td>6.224581e-28</td>\n",
       "      <td>0.002918</td>\n",
       "      <td>0.006969</td>\n",
       "      <td>0.020196</td>\n",
       "      <td>0.049089</td>\n",
       "      <td>0.077383</td>\n",
       "      <td>0.099573</td>\n",
       "    </tr>\n",
       "    <tr>\n",
       "      <th>price_elasticity_item_level</th>\n",
       "      <td>256.0</td>\n",
       "      <td>-5.397515</td>\n",
       "      <td>6.014594</td>\n",
       "      <td>-4.793771e+01</td>\n",
       "      <td>-13.215884</td>\n",
       "      <td>-10.015895</td>\n",
       "      <td>-3.475890</td>\n",
       "      <td>-0.392797</td>\n",
       "      <td>-0.174451</td>\n",
       "      <td>-0.098479</td>\n",
       "    </tr>\n",
       "  </tbody>\n",
       "</table>\n",
       "</div>"
      ],
      "text/plain": [
       "                             count      mean       std           min  \\\n",
       "p_value_item_level           256.0  0.030453  0.028197  6.224581e-28   \n",
       "price_elasticity_item_level  256.0 -5.397515  6.014594 -4.793771e+01   \n",
       "\n",
       "                                   10%        25%       50%       75%  \\\n",
       "p_value_item_level            0.002918   0.006969  0.020196  0.049089   \n",
       "price_elasticity_item_level -13.215884 -10.015895 -3.475890 -0.392797   \n",
       "\n",
       "                                  90%       max  \n",
       "p_value_item_level           0.077383  0.099573  \n",
       "price_elasticity_item_level -0.174451 -0.098479  "
      ]
     },
     "execution_count": 10,
     "metadata": {},
     "output_type": "execute_result"
    }
   ],
   "source": [
    "elas_results[['p_value_item_level', 'price_elasticity_item_level']].describe(percentiles = [.1, .25, .5, .75, .9]).T"
   ]
  },
  {
   "cell_type": "markdown",
   "metadata": {},
   "source": [
    "### Step 3: Create base table for possible discount scenarios"
   ]
  },
  {
   "cell_type": "code",
   "execution_count": 11,
   "metadata": {},
   "outputs": [
    {
     "data": {
      "text/html": [
       "<div>\n",
       "<style scoped>\n",
       "    .dataframe tbody tr th:only-of-type {\n",
       "        vertical-align: middle;\n",
       "    }\n",
       "\n",
       "    .dataframe tbody tr th {\n",
       "        vertical-align: top;\n",
       "    }\n",
       "\n",
       "    .dataframe thead th {\n",
       "        text-align: right;\n",
       "    }\n",
       "</style>\n",
       "<table border=\"1\" class=\"dataframe\">\n",
       "  <thead>\n",
       "    <tr style=\"text-align: right;\">\n",
       "      <th></th>\n",
       "      <th>Item_Identifier</th>\n",
       "      <th>Item_Type</th>\n",
       "      <th>price_elasticity_item_level</th>\n",
       "      <th>Quantity</th>\n",
       "      <th>Price</th>\n",
       "      <th>Revenue</th>\n",
       "    </tr>\n",
       "  </thead>\n",
       "  <tbody>\n",
       "    <tr>\n",
       "      <th>0</th>\n",
       "      <td>DRB24</td>\n",
       "      <td>Soft Drinks</td>\n",
       "      <td>-14.752633</td>\n",
       "      <td>77</td>\n",
       "      <td>158.980748</td>\n",
       "      <td>12241.517620</td>\n",
       "    </tr>\n",
       "    <tr>\n",
       "      <th>1</th>\n",
       "      <td>DRB48</td>\n",
       "      <td>Soft Drinks</td>\n",
       "      <td>-6.628704</td>\n",
       "      <td>108</td>\n",
       "      <td>41.639911</td>\n",
       "      <td>4497.110432</td>\n",
       "    </tr>\n",
       "    <tr>\n",
       "      <th>2</th>\n",
       "      <td>DRC12</td>\n",
       "      <td>Soft Drinks</td>\n",
       "      <td>-4.351511</td>\n",
       "      <td>46</td>\n",
       "      <td>194.385858</td>\n",
       "      <td>8941.749483</td>\n",
       "    </tr>\n",
       "  </tbody>\n",
       "</table>\n",
       "</div>"
      ],
      "text/plain": [
       "  Item_Identifier    Item_Type  price_elasticity_item_level  Quantity  \\\n",
       "0           DRB24  Soft Drinks                   -14.752633        77   \n",
       "1           DRB48  Soft Drinks                    -6.628704       108   \n",
       "2           DRC12  Soft Drinks                    -4.351511        46   \n",
       "\n",
       "        Price       Revenue  \n",
       "0  158.980748  12241.517620  \n",
       "1   41.639911   4497.110432  \n",
       "2  194.385858   8941.749483  "
      ]
     },
     "execution_count": 11,
     "metadata": {},
     "output_type": "execute_result"
    }
   ],
   "source": [
    "opt = elas_results[['Item_Identifier', 'Item_Type', 'price_elasticity_item_level']]\n",
    "opt = opt.merge(data.groupby(['Item_Identifier', 'Item_Type']).agg({'Quantity' : 'sum', 'Price' : 'mean'}).reset_index(), on = ['Item_Identifier', 'Item_Type'])\n",
    "opt['Revenue'] = opt['Price'] * opt['Quantity'] \n",
    "\n",
    "opt.head(3)"
   ]
  },
  {
   "cell_type": "code",
   "execution_count": 12,
   "metadata": {},
   "outputs": [],
   "source": [
    "discount_values = [0, 5, 10, 15, 20, 25, 30]\n",
    "item_list = opt['Item_Identifier']\n",
    "\n",
    "discount_combinations = pd.DataFrame({'Item_Identifier' : item_list.tolist() * len(discount_values),\n",
    "                                      'Discount_%' : discount_values * len(item_list)}).sort_values(['Item_Identifier', 'Discount_%'])"
   ]
  },
  {
   "cell_type": "code",
   "execution_count": 13,
   "metadata": {},
   "outputs": [
    {
     "data": {
      "text/html": [
       "<div>\n",
       "<style scoped>\n",
       "    .dataframe tbody tr th:only-of-type {\n",
       "        vertical-align: middle;\n",
       "    }\n",
       "\n",
       "    .dataframe tbody tr th {\n",
       "        vertical-align: top;\n",
       "    }\n",
       "\n",
       "    .dataframe thead th {\n",
       "        text-align: right;\n",
       "    }\n",
       "</style>\n",
       "<table border=\"1\" class=\"dataframe\">\n",
       "  <thead>\n",
       "    <tr style=\"text-align: right;\">\n",
       "      <th></th>\n",
       "      <th>Item_Identifier</th>\n",
       "      <th>Item_Type</th>\n",
       "      <th>price_elasticity_item_level</th>\n",
       "      <th>Quantity</th>\n",
       "      <th>Price</th>\n",
       "      <th>Revenue</th>\n",
       "      <th>Discount_%</th>\n",
       "      <th>New_Price</th>\n",
       "      <th>New_Quantity</th>\n",
       "      <th>New_Revenue</th>\n",
       "    </tr>\n",
       "  </thead>\n",
       "  <tbody>\n",
       "    <tr>\n",
       "      <th>1778</th>\n",
       "      <td>NCZ42</td>\n",
       "      <td>Household</td>\n",
       "      <td>-0.39</td>\n",
       "      <td>81</td>\n",
       "      <td>237.02</td>\n",
       "      <td>19199.01</td>\n",
       "      <td>0</td>\n",
       "      <td>237.02</td>\n",
       "      <td>81</td>\n",
       "      <td>19199.01</td>\n",
       "    </tr>\n",
       "    <tr>\n",
       "      <th>1779</th>\n",
       "      <td>NCZ42</td>\n",
       "      <td>Household</td>\n",
       "      <td>-0.39</td>\n",
       "      <td>81</td>\n",
       "      <td>237.02</td>\n",
       "      <td>19199.01</td>\n",
       "      <td>5</td>\n",
       "      <td>225.17</td>\n",
       "      <td>82</td>\n",
       "      <td>18464.23</td>\n",
       "    </tr>\n",
       "    <tr>\n",
       "      <th>1780</th>\n",
       "      <td>NCZ42</td>\n",
       "      <td>Household</td>\n",
       "      <td>-0.39</td>\n",
       "      <td>81</td>\n",
       "      <td>237.02</td>\n",
       "      <td>19199.01</td>\n",
       "      <td>10</td>\n",
       "      <td>213.32</td>\n",
       "      <td>84</td>\n",
       "      <td>17919.07</td>\n",
       "    </tr>\n",
       "    <tr>\n",
       "      <th>1781</th>\n",
       "      <td>NCZ42</td>\n",
       "      <td>Household</td>\n",
       "      <td>-0.39</td>\n",
       "      <td>81</td>\n",
       "      <td>237.02</td>\n",
       "      <td>19199.01</td>\n",
       "      <td>15</td>\n",
       "      <td>201.47</td>\n",
       "      <td>85</td>\n",
       "      <td>17125.04</td>\n",
       "    </tr>\n",
       "    <tr>\n",
       "      <th>1782</th>\n",
       "      <td>NCZ42</td>\n",
       "      <td>Household</td>\n",
       "      <td>-0.39</td>\n",
       "      <td>81</td>\n",
       "      <td>237.02</td>\n",
       "      <td>19199.01</td>\n",
       "      <td>20</td>\n",
       "      <td>189.62</td>\n",
       "      <td>87</td>\n",
       "      <td>16496.93</td>\n",
       "    </tr>\n",
       "    <tr>\n",
       "      <th>1783</th>\n",
       "      <td>NCZ42</td>\n",
       "      <td>Household</td>\n",
       "      <td>-0.39</td>\n",
       "      <td>81</td>\n",
       "      <td>237.02</td>\n",
       "      <td>19199.01</td>\n",
       "      <td>25</td>\n",
       "      <td>177.77</td>\n",
       "      <td>88</td>\n",
       "      <td>15643.64</td>\n",
       "    </tr>\n",
       "    <tr>\n",
       "      <th>1784</th>\n",
       "      <td>NCZ42</td>\n",
       "      <td>Household</td>\n",
       "      <td>-0.39</td>\n",
       "      <td>81</td>\n",
       "      <td>237.02</td>\n",
       "      <td>19199.01</td>\n",
       "      <td>30</td>\n",
       "      <td>165.92</td>\n",
       "      <td>90</td>\n",
       "      <td>14932.56</td>\n",
       "    </tr>\n",
       "    <tr>\n",
       "      <th>1785</th>\n",
       "      <td>NCN55</td>\n",
       "      <td>Others</td>\n",
       "      <td>-3.31</td>\n",
       "      <td>91</td>\n",
       "      <td>244.93</td>\n",
       "      <td>22288.81</td>\n",
       "      <td>0</td>\n",
       "      <td>244.93</td>\n",
       "      <td>91</td>\n",
       "      <td>22288.81</td>\n",
       "    </tr>\n",
       "    <tr>\n",
       "      <th>1786</th>\n",
       "      <td>NCN55</td>\n",
       "      <td>Others</td>\n",
       "      <td>-3.31</td>\n",
       "      <td>91</td>\n",
       "      <td>244.93</td>\n",
       "      <td>22288.81</td>\n",
       "      <td>5</td>\n",
       "      <td>232.69</td>\n",
       "      <td>106</td>\n",
       "      <td>24664.65</td>\n",
       "    </tr>\n",
       "    <tr>\n",
       "      <th>1787</th>\n",
       "      <td>NCN55</td>\n",
       "      <td>Others</td>\n",
       "      <td>-3.31</td>\n",
       "      <td>91</td>\n",
       "      <td>244.93</td>\n",
       "      <td>22288.81</td>\n",
       "      <td>10</td>\n",
       "      <td>220.44</td>\n",
       "      <td>121</td>\n",
       "      <td>26673.09</td>\n",
       "    </tr>\n",
       "    <tr>\n",
       "      <th>1788</th>\n",
       "      <td>NCN55</td>\n",
       "      <td>Others</td>\n",
       "      <td>-3.31</td>\n",
       "      <td>91</td>\n",
       "      <td>244.93</td>\n",
       "      <td>22288.81</td>\n",
       "      <td>15</td>\n",
       "      <td>208.19</td>\n",
       "      <td>136</td>\n",
       "      <td>28314.14</td>\n",
       "    </tr>\n",
       "    <tr>\n",
       "      <th>1789</th>\n",
       "      <td>NCN55</td>\n",
       "      <td>Others</td>\n",
       "      <td>-3.31</td>\n",
       "      <td>91</td>\n",
       "      <td>244.93</td>\n",
       "      <td>22288.81</td>\n",
       "      <td>20</td>\n",
       "      <td>195.95</td>\n",
       "      <td>151</td>\n",
       "      <td>29587.78</td>\n",
       "    </tr>\n",
       "    <tr>\n",
       "      <th>1790</th>\n",
       "      <td>NCN55</td>\n",
       "      <td>Others</td>\n",
       "      <td>-3.31</td>\n",
       "      <td>91</td>\n",
       "      <td>244.93</td>\n",
       "      <td>22288.81</td>\n",
       "      <td>25</td>\n",
       "      <td>183.70</td>\n",
       "      <td>166</td>\n",
       "      <td>30494.03</td>\n",
       "    </tr>\n",
       "    <tr>\n",
       "      <th>1791</th>\n",
       "      <td>NCN55</td>\n",
       "      <td>Others</td>\n",
       "      <td>-3.31</td>\n",
       "      <td>91</td>\n",
       "      <td>244.93</td>\n",
       "      <td>22288.81</td>\n",
       "      <td>30</td>\n",
       "      <td>171.45</td>\n",
       "      <td>181</td>\n",
       "      <td>31032.88</td>\n",
       "    </tr>\n",
       "  </tbody>\n",
       "</table>\n",
       "</div>"
      ],
      "text/plain": [
       "     Item_Identifier  Item_Type  price_elasticity_item_level  Quantity  \\\n",
       "1778           NCZ42  Household                        -0.39        81   \n",
       "1779           NCZ42  Household                        -0.39        81   \n",
       "1780           NCZ42  Household                        -0.39        81   \n",
       "1781           NCZ42  Household                        -0.39        81   \n",
       "1782           NCZ42  Household                        -0.39        81   \n",
       "1783           NCZ42  Household                        -0.39        81   \n",
       "1784           NCZ42  Household                        -0.39        81   \n",
       "1785           NCN55     Others                        -3.31        91   \n",
       "1786           NCN55     Others                        -3.31        91   \n",
       "1787           NCN55     Others                        -3.31        91   \n",
       "1788           NCN55     Others                        -3.31        91   \n",
       "1789           NCN55     Others                        -3.31        91   \n",
       "1790           NCN55     Others                        -3.31        91   \n",
       "1791           NCN55     Others                        -3.31        91   \n",
       "\n",
       "       Price   Revenue  Discount_%  New_Price  New_Quantity  New_Revenue  \n",
       "1778  237.02  19199.01           0     237.02            81     19199.01  \n",
       "1779  237.02  19199.01           5     225.17            82     18464.23  \n",
       "1780  237.02  19199.01          10     213.32            84     17919.07  \n",
       "1781  237.02  19199.01          15     201.47            85     17125.04  \n",
       "1782  237.02  19199.01          20     189.62            87     16496.93  \n",
       "1783  237.02  19199.01          25     177.77            88     15643.64  \n",
       "1784  237.02  19199.01          30     165.92            90     14932.56  \n",
       "1785  244.93  22288.81           0     244.93            91     22288.81  \n",
       "1786  244.93  22288.81           5     232.69           106     24664.65  \n",
       "1787  244.93  22288.81          10     220.44           121     26673.09  \n",
       "1788  244.93  22288.81          15     208.19           136     28314.14  \n",
       "1789  244.93  22288.81          20     195.95           151     29587.78  \n",
       "1790  244.93  22288.81          25     183.70           166     30494.03  \n",
       "1791  244.93  22288.81          30     171.45           181     31032.88  "
      ]
     },
     "execution_count": 13,
     "metadata": {},
     "output_type": "execute_result"
    }
   ],
   "source": [
    "opt = opt.merge(discount_combinations)\n",
    "\n",
    "opt['New_Price'] = opt['Price'] * (1 - opt['Discount_%'] / 100 ) \n",
    "opt['New_Quantity'] = np.floor(opt['Quantity'] * (1 - opt['price_elasticity_item_level'] * opt['Discount_%'] / 100)).astype(int)\n",
    "opt['New_Revenue'] = opt['New_Price'] * opt['New_Quantity'] \n",
    "\n",
    "opt = opt.round(2)\n",
    "opt.tail(14)"
   ]
  },
  {
   "cell_type": "markdown",
   "metadata": {},
   "source": [
    "### Step 4: Set optimization rules and execute optimizer\n",
    "\n",
    "**Objective**: max revenue <br>\n",
    "**Constraints**:\n",
    "- max 80% of products should be discounted\n",
    "- each item is included at either 0 or at a positive discount rate\n",
    "- some item types reach at least x count\n",
    "- some discount types don't exceed y count"
   ]
  },
  {
   "cell_type": "code",
   "execution_count": 159,
   "metadata": {},
   "outputs": [],
   "source": [
    "min_discounts_item_types = {\n",
    "    \n",
    "    'Fruits and Vegetables': 20,\n",
    "    'Household': 20,\n",
    "    'Canned': 15,\n",
    "    'Frozen Foods': 15,\n",
    "    'Health and Hygiene': 10,\n",
    "    'Soft Drinks': 15,\n",
    "    'Baking Goods': 0,\n",
    "    'Snack Foods': 10,\n",
    "    'Meat': 0,\n",
    "    'Breads': 0,\n",
    "    'Dairy': 0,\n",
    "    'Hard Drinks': 0,\n",
    "    'Starchy Foods': 0,\n",
    "    'Others': 0,\n",
    "    'Seafood': 0\n",
    "}\n",
    "\n",
    "max_discount_ratio_discount_bins = {\n",
    "    \n",
    "    0 : 1/3,\n",
    "    5 : 1,\n",
    "    10 : 1,\n",
    "    15 : 1,\n",
    "    20 : 1,\n",
    "    25 : 0.3,\n",
    "    30 : 0.3\n",
    "}"
   ]
  },
  {
   "cell_type": "code",
   "execution_count": 160,
   "metadata": {},
   "outputs": [],
   "source": [
    "import pulp"
   ]
  },
  {
   "cell_type": "code",
   "execution_count": 192,
   "metadata": {},
   "outputs": [],
   "source": [
    "prob = pulp.LpProblem(name = 'Select optimal discount levels for each product while maximizing revenue', sense = pulp.const.LpMaximize)"
   ]
  },
  {
   "cell_type": "code",
   "execution_count": 193,
   "metadata": {},
   "outputs": [],
   "source": [
    "opt['item_discount_combo'] = opt['Item_Identifier'] + '_' + opt['Discount_%'].astype(str)\n",
    "\n",
    "_item_discount_combos = opt['item_discount_combo'] .tolist()\n",
    "_variables = pulp.LpVariable.dicts( 'ITEM_DISCOUNT_COMBO', _item_discount_combos, lowBound = 0, upBound = 1, cat = pulp.const.LpInteger)\n",
    "\n",
    "_revenue = dict(zip(opt['item_discount_combo'], opt['New_Revenue']))\n",
    "_item_to_type = dict(zip(opt['item_discount_combo'], opt['Item_Type']))"
   ]
  },
  {
   "cell_type": "code",
   "execution_count": 194,
   "metadata": {},
   "outputs": [],
   "source": [
    "prob += pulp.lpSum(_variables[i] * _revenue[i] for i in _item_discount_combos)"
   ]
  },
  {
   "cell_type": "code",
   "execution_count": 195,
   "metadata": {},
   "outputs": [],
   "source": [
    "# Each product is chosen once, with one discount value\n",
    "\n",
    "for i in opt['Item_Identifier'].unique().tolist():\n",
    "    prob += pulp.lpSum(_variables[j] for j in _item_discount_combos if i in j) == 1, '1 item from ' + i\n",
    "\n",
    "\n",
    "# Minimum number of different product types with discounts > 0\n",
    "for i in opt['Item_Type'].unique().tolist():\n",
    "    prob += pulp.lpSum(_variables[j] for j in _item_discount_combos if (_item_to_type[j] == i) & \n",
    "                                                                       (j.split('_')[1] != str(0))) >= min_discounts_item_types[i], 'min constraint for type ' + i\n",
    "\n",
    "# Maximum ratio of certain discount values across all products\n",
    "\n",
    "prod_num = opt['Item_Identifier'].nunique()\n",
    "\n",
    "for i in opt['Discount_%'].unique().tolist():\n",
    "    prob += pulp.lpSum(_variables[j] for j in _item_discount_combos if str(i) == j.split('_')[1]) <= max_discount_ratio_discount_bins[i] * prod_num, 'ratio of ' + str(i) + ' discount'\n",
    "\n",
    "\n",
    "# max 80% of products can be discounted\n",
    "\n",
    "prob += pulp.lpSum(_variables[j] for j in _item_discount_combos if j.split('_')[1] != str(0)) <= 0.8 * prod_num, 'max 80pct of products can be discounted'"
   ]
  },
  {
   "cell_type": "code",
   "execution_count": 197,
   "metadata": {},
   "outputs": [],
   "source": [
    "# print(prob)"
   ]
  },
  {
   "cell_type": "code",
   "execution_count": 198,
   "metadata": {},
   "outputs": [
    {
     "name": "stdout",
     "output_type": "stream",
     "text": [
      "Status: Optimal\n"
     ]
    }
   ],
   "source": [
    "status = prob.solve()\n",
    "print('Status:', pulp.LpStatus[status])"
   ]
  },
  {
   "cell_type": "markdown",
   "metadata": {},
   "source": [
    "### Step 5: Check results"
   ]
  },
  {
   "cell_type": "code",
   "execution_count": 199,
   "metadata": {},
   "outputs": [
    {
     "name": "stdout",
     "output_type": "stream",
     "text": [
      "Optimal revenue during discount period: 5933829.5200000005\n"
     ]
    }
   ],
   "source": [
    "OPTIMUM = pulp.value(prob.objective)\n",
    "print('Optimal revenue during discount period:', OPTIMUM)"
   ]
  },
  {
   "cell_type": "code",
   "execution_count": 200,
   "metadata": {},
   "outputs": [],
   "source": [
    "variable_values = []\n",
    "\n",
    "for variable in prob.variables():\n",
    "    #print(\"{} = {}\".format(variable.name, variable.varValue))\n",
    "    variable_values.append(variable.varValue)"
   ]
  },
  {
   "cell_type": "code",
   "execution_count": 201,
   "metadata": {},
   "outputs": [
    {
     "data": {
      "text/plain": [
       "True"
      ]
     },
     "execution_count": 201,
     "metadata": {},
     "output_type": "execute_result"
    }
   ],
   "source": [
    "len(variable_values) == opt.shape[0]"
   ]
  },
  {
   "cell_type": "code",
   "execution_count": 202,
   "metadata": {},
   "outputs": [],
   "source": [
    "opt['Optimization_Result'] = variable_values"
   ]
  },
  {
   "cell_type": "code",
   "execution_count": 203,
   "metadata": {},
   "outputs": [
    {
     "data": {
      "image/png": "[encoded data removed]",
      "text/plain": [
       "<Figure size 576x360 with 1 Axes>"
      ]
     },
     "metadata": {
      "needs_background": "light"
     },
     "output_type": "display_data"
    }
   ],
   "source": [
    "opt_suggestion = opt.groupby('Discount_%').agg({'Optimization_Result' : 'sum'}).reset_index().rename(columns = {'Optimization_Result' : 'Product_#'}) #, 'New_Revenue' : 'sum', 'New_Price' : 'mean'\n",
    "\n",
    "plt.figure(figsize=(8, 5))\n",
    "sns.barplot(data = opt_suggestion, x = 'Discount_%', y = 'Product_#', color = 'blue')\n",
    "plt.title('Optimal # of products @ different discount values')\n",
    "plt.show()"
   ]
  },
  {
   "cell_type": "code",
   "execution_count": null,
   "metadata": {},
   "outputs": [],
   "source": []
  },
  {
   "cell_type": "code",
   "execution_count": null,
   "metadata": {},
   "outputs": [],
   "source": []
  },
  {
   "cell_type": "code",
   "execution_count": null,
   "metadata": {},
   "outputs": [],
   "source": []
  },
  {
   "cell_type": "code",
   "execution_count": null,
   "metadata": {},
   "outputs": [],
   "source": []
  }
 ],
 "metadata": {
  "interpreter": {
   "hash": "c1c82bdd170d252fe165a9bec4d731e9ac025b41ad0f7b30ff5fda4e58991de2"
  },
  "kernelspec": {
   "display_name": "Python 3.8.8 64-bit ('base': conda)",
   "name": "python3"
  },
  "language_info": {
   "codemirror_mode": {
    "name": "ipython",
    "version": 3
   },
   "file_extension": ".py",
   "mimetype": "text/x-python",
   "name": "python",
   "nbconvert_exporter": "python",
   "pygments_lexer": "ipython3",
   "version": "3.8.8"
  },
  "orig_nbformat": 4
 },
 "nbformat": 4,
 "nbformat_minor": 2
}
