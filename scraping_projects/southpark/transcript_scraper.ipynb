{
 "cells": [
  {
   "cell_type": "code",
   "execution_count": 1,
   "metadata": {},
   "outputs": [
    {
     "name": "stdout",
     "output_type": "stream",
     "text": [
      "Importing the following packages: pandas, numpy, matplotlib, seaborn, plotly, warnings\n"
     ]
    }
   ],
   "source": [
    "import sys \n",
    "sys.path.append('../../')\n",
    "from src.import_packages import *\n",
    "\n",
    "from bs4 import BeautifulSoup\n",
    "import requests"
   ]
  },
  {
   "cell_type": "markdown",
   "metadata": {},
   "source": [
    "### Seasons"
   ]
  },
  {
   "cell_type": "code",
   "execution_count": 2,
   "metadata": {},
   "outputs": [],
   "source": [
    "url = 'https://southpark.fandom.com/wiki/Portal:Scripts'\n",
    "page = requests.get(url)\n",
    "soup = BeautifulSoup(page.text)"
   ]
  },
  {
   "cell_type": "code",
   "execution_count": 19,
   "metadata": {},
   "outputs": [],
   "source": [
    "seasons = {}\n",
    "\n",
    "for enum, i in enumerate(soup.find_all('div', class_ = 'wikia-gallery-item')):\n",
    "    seasons[enum + 1] = 'https://southpark.fandom.com' + i.find('a', href = True)['href']"
   ]
  },
  {
   "cell_type": "markdown",
   "metadata": {},
   "source": [
    "### Episodes within seasons"
   ]
  },
  {
   "cell_type": "code",
   "execution_count": 41,
   "metadata": {},
   "outputs": [],
   "source": [
    "seasons_episodes = {}\n",
    "\n",
    "for i in seasons:\n",
    "    \n",
    "    page = requests.get(seasons[i])\n",
    "    soup = BeautifulSoup(page.text)\n",
    "\n",
    "    episodes = {}\n",
    "\n",
    "    for enum, j in enumerate(soup.find_all('div', class_ = 'wikia-gallery-item')):\n",
    "        episodes[enum + 1] = 'https://southpark.fandom.com' + j.find('a', href = True)['href']\n",
    "\n",
    "    seasons_episodes[i] = episodes"
   ]
  },
  {
   "cell_type": "code",
   "execution_count": 42,
   "metadata": {},
   "outputs": [
    {
     "data": {
      "text/plain": [
       "24"
      ]
     },
     "execution_count": 42,
     "metadata": {},
     "output_type": "execute_result"
    }
   ],
   "source": [
    "len(seasons_episodes)"
   ]
  },
  {
   "cell_type": "markdown",
   "metadata": {},
   "source": [
    "### Transcripts"
   ]
  },
  {
   "cell_type": "code",
   "execution_count": 101,
   "metadata": {},
   "outputs": [],
   "source": [
    "collector = []\n",
    "\n",
    "for i in seasons_episodes:\n",
    "\n",
    "    for j in seasons_episodes[i]:\n",
    "\n",
    "        _link = seasons_episodes[i][j]\n",
    "\n",
    "        page = requests.get(_link)\n",
    "        soup = BeautifulSoup(page.text)\n",
    "\n",
    "        _title = soup.find('h1', id = 'firstHeading').text.strip().split('/')[0]\n",
    "        _table = pd.read_html(str(soup.find_all('table', class_ = 'headerscontent')[1]))[0]\n",
    "\n",
    "        if _table.shape[1] == 2:\n",
    "            _table.columns = ['speaker', 'line']\n",
    "\n",
    "        if _table.shape[1] == 3:\n",
    "            _table.columns = ['speaker', 'line', 'extra']\n",
    "\n",
    "        _table['season'] = i\n",
    "        _table['episode_num'] = j\n",
    "        _table['episode_title'] = _title\n",
    "\n",
    "        collector.append(_table)"
   ]
  },
  {
   "cell_type": "code",
   "execution_count": null,
   "metadata": {},
   "outputs": [],
   "source": []
  },
  {
   "cell_type": "markdown",
   "metadata": {},
   "source": [
    "### Concatenate transcripts per episodes"
   ]
  },
  {
   "cell_type": "code",
   "execution_count": 105,
   "metadata": {},
   "outputs": [],
   "source": [
    "data = pd.concat(collector)\n",
    "data.drop('extra', 1, inplace = True)\n",
    "data = data[data['speaker'].notnull()]\n",
    "data = data[data['line'].notnull()]\n",
    "data = data[data['speaker'] != data['line']]"
   ]
  },
  {
   "cell_type": "code",
   "execution_count": 123,
   "metadata": {},
   "outputs": [],
   "source": [
    "data.to_csv('data/transcript_scraped.csv', index = False)"
   ]
  },
  {
   "cell_type": "code",
   "execution_count": null,
   "metadata": {},
   "outputs": [],
   "source": []
  }
 ],
 "metadata": {
  "interpreter": {
   "hash": "c1c82bdd170d252fe165a9bec4d731e9ac025b41ad0f7b30ff5fda4e58991de2"
  },
  "kernelspec": {
   "display_name": "Python 3.8.8 64-bit ('base': conda)",
   "language": "python",
   "name": "python3"
  },
  "language_info": {
   "codemirror_mode": {
    "name": "ipython",
    "version": 3
   },
   "file_extension": ".py",
   "mimetype": "text/x-python",
   "name": "python",
   "nbconvert_exporter": "python",
   "pygments_lexer": "ipython3",
   "version": "3.8.8"
  },
  "orig_nbformat": 4
 },
 "nbformat": 4,
 "nbformat_minor": 2
}
