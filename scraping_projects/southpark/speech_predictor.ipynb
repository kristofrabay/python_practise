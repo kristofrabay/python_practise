{
 "cells": [
  {
   "cell_type": "markdown",
   "metadata": {},
   "source": [
    "### Speech predictor model - who's most likely to have spoken a certain line?\n",
    "\n",
    "<img src=\"https://forbes.hu/wp-content/uploads/2021/08/southpark2_forbes.jpg\" width=\"1000\"/>\n"
   ]
  },
  {
   "cell_type": "code",
   "execution_count": 1,
   "metadata": {},
   "outputs": [
    {
     "name": "stdout",
     "output_type": "stream",
     "text": [
      "Importing the following packages: pandas, numpy, matplotlib, seaborn, plotly, warnings\n"
     ]
    }
   ],
   "source": [
    "import sys \n",
    "sys.path.append('../../')\n",
    "from src.import_packages import *"
   ]
  },
  {
   "cell_type": "code",
   "execution_count": 123,
   "metadata": {},
   "outputs": [
    {
     "data": {
      "text/html": [
       "<div>\n",
       "<style scoped>\n",
       "    .dataframe tbody tr th:only-of-type {\n",
       "        vertical-align: middle;\n",
       "    }\n",
       "\n",
       "    .dataframe tbody tr th {\n",
       "        vertical-align: top;\n",
       "    }\n",
       "\n",
       "    .dataframe thead th {\n",
       "        text-align: right;\n",
       "    }\n",
       "</style>\n",
       "<table border=\"1\" class=\"dataframe\">\n",
       "  <thead>\n",
       "    <tr style=\"text-align: right;\">\n",
       "      <th></th>\n",
       "      <th>speaker</th>\n",
       "      <th>line</th>\n",
       "      <th>season</th>\n",
       "      <th>episode_num</th>\n",
       "      <th>episode_title</th>\n",
       "      <th>speaking_to</th>\n",
       "      <th>line_clean</th>\n",
       "    </tr>\n",
       "  </thead>\n",
       "  <tbody>\n",
       "    <tr>\n",
       "      <th>1</th>\n",
       "      <td>Kyle</td>\n",
       "      <td>Ah, damn it! My little brother's trying to fol...</td>\n",
       "      <td>1</td>\n",
       "      <td>1</td>\n",
       "      <td>Cartman Gets an Anal Probe</td>\n",
       "      <td>Other</td>\n",
       "      <td>ah damn little brother trying follow school</td>\n",
       "    </tr>\n",
       "    <tr>\n",
       "      <th>3</th>\n",
       "      <td>Kyle</td>\n",
       "      <td>Ike, you can't come to school with me. [Ike Ch...</td>\n",
       "      <td>1</td>\n",
       "      <td>1</td>\n",
       "      <td>Cartman Gets an Anal Probe</td>\n",
       "      <td>Cartman</td>\n",
       "      <td>ike school</td>\n",
       "    </tr>\n",
       "    <tr>\n",
       "      <th>4</th>\n",
       "      <td>Cartman</td>\n",
       "      <td>Yeah, go home you little dildo!</td>\n",
       "      <td>1</td>\n",
       "      <td>1</td>\n",
       "      <td>Cartman Gets an Anal Probe</td>\n",
       "      <td>Kyle</td>\n",
       "      <td>home little dildo</td>\n",
       "    </tr>\n",
       "  </tbody>\n",
       "</table>\n",
       "</div>"
      ],
      "text/plain": [
       "   speaker                                               line  season  \\\n",
       "1     Kyle  Ah, damn it! My little brother's trying to fol...       1   \n",
       "3     Kyle  Ike, you can't come to school with me. [Ike Ch...       1   \n",
       "4  Cartman                    Yeah, go home you little dildo!       1   \n",
       "\n",
       "   episode_num               episode_title speaking_to  \\\n",
       "1            1  Cartman Gets an Anal Probe       Other   \n",
       "3            1  Cartman Gets an Anal Probe     Cartman   \n",
       "4            1  Cartman Gets an Anal Probe        Kyle   \n",
       "\n",
       "                                    line_clean  \n",
       "1  ah damn little brother trying follow school  \n",
       "3                                   ike school  \n",
       "4                            home little dildo  "
      ]
     },
     "execution_count": 123,
     "metadata": {},
     "output_type": "execute_result"
    }
   ],
   "source": [
    "data = pd.read_csv('data/transcript_cleaned.csv')\n",
    "data = data[data['speaker'].isin(['Cartman', 'Kyle', 'Stan', 'Kenny'])]\n",
    "data.head(3)"
   ]
  },
  {
   "cell_type": "code",
   "execution_count": 124,
   "metadata": {},
   "outputs": [
    {
     "data": {
      "text/plain": [
       "Cartman    10761\n",
       "Stan        7491\n",
       "Kyle        7176\n",
       "Kenny        826\n",
       "Name: speaker, dtype: int64"
      ]
     },
     "execution_count": 124,
     "metadata": {},
     "output_type": "execute_result"
    }
   ],
   "source": [
    "data['speaker'].value_counts()"
   ]
  },
  {
   "cell_type": "markdown",
   "metadata": {},
   "source": [
    "### Preprocessing text\n",
    "- No need to remove stopwords\n",
    "- Lemmatize\n",
    "- Lowercase\n",
    "- No special characters\n",
    "- No numbers"
   ]
  },
  {
   "cell_type": "code",
   "execution_count": 125,
   "metadata": {},
   "outputs": [],
   "source": [
    "import re\n",
    "from nltk.stem import WordNetLemmatizer \n",
    "lemmatizer = WordNetLemmatizer() \n",
    "\n",
    "cList = {\n",
    "    \"ain't\": \"am not\",    \"aren't\": \"are not\",    \"can't've\": \"cannot have\",    \"can't\": \"cannot\",    \"'cause\": \"because\",    \"could've\": \"could have\",    \"couldn't've\": \"could not have\",\n",
    "    \"couldn't\": \"could not\",    \"didn't\": \"did not\",    \"doesn't\": \"does not\",    \"don't\": \"do not\",    \"hadn't've\": \"had not have\",    \"hadn't\": \"had not\",        \"hasn't\": \"has not\",\n",
    "    \"haven't\": \"have not\",    \"he'd've\": \"he would have\",    \"he'd\": \"he would\",      \"he'll've\": \"he will have\",    \"he'll\": \"he will\",        \"he's\": \"he is\",    \"how'd'y\": \"how do you\",\n",
    "    \"how'd\": \"how did\",      \"how'll\": \"how will\",    \"how's\": \"how is\",    \"i'd've\": \"i would have\",    \"i'd\": \"i would\",    \"i'll've\": \"i will have\",    \"i'll\": \"i will\",    \n",
    "    \"i'm\": \"i am\",    \"i've\": \"i have\",    \"isn't\": \"is not\",    \"it'd've\": \"it would have\",    \"it'd\": \"it would\",    \"it'll've\": \"it will have\",      \"it'll\": \"it will\",      \"it's\": \"it is\",\n",
    "    \"let's\": \"let us\",    \"ma'am\": \"madam\",    \"mayn't\": \"may not\",    \"might've\": \"might have\",    \"mightn't've\": \"might not have\",    \"mightn't\": \"might not\",        \"must've\": \"must have\",\n",
    "    \"mustn't've\": \"must not have\",    \"mustn't\": \"must not\",    \"needn't've\": \"need not have\",      \"needn't\": \"need not\",      \"oughtn't've\": \"ought not have\",    \"oughtn't\": \"ought not\",\n",
    "    \"shan't've\": \"shall not have\",    \"shan't\": \"shall not\",    \"sha'n't\": \"shall not\",    \"she'd've\": \"she would have\",    \"she'd\": \"she would\",    \"she'll've\": \"she will have\",\n",
    "    \"she'll\": \"she will\",      \"she's\": \"she is\",    \"should've\": \"should have\",    \"shouldn't've\": \"should not have\",    \"shouldn't\": \"should not\",      \"so've\": \"so have\",\n",
    "    \"so's\": \"so is\",    \"that'd've\": \"that would have\",    \"that'd\": \"that would\",      \"that's\": \"that is\",    \"there'd've\": \"there would have\",    \"there'd\": \"there had\",  \n",
    "    \"there's\": \"there is\",    \"they'd've\": \"they would have\",    \"they'd\": \"they would\",    \"they'll've\": \"they will have\",    \"they'll\": \"they will\",      \"they're\": \"they are\",\n",
    "    \"they've\": \"they have\",    \"to've\": \"to have\",    \"wasn't\": \"was not\",    \"we'd've\": \"we would have\",    \"we'd\": \"we would\",    \"we'll've\": \"we will have\",      \"we'll\": \"we will\",  \n",
    "    \"we're\": \"we are\",    \"we've\": \"we have\",    \"weren't\": \"were not\",    \"what'll've\": \"what will have\",    \"what'll\": \"what will\",        \"what're\": \"what are\",    \"what's\": \"what is\",\n",
    "    \"what've\": \"what have\",    \"when's\": \"when is\",    \"when've\": \"when have\",    \"where'd\": \"where did\",    \"where's\": \"where is\",    \"where've\": \"where have\",    \"who'll've\": \"who will have\",\n",
    "    \"who'll\": \"who will\",        \"who's\": \"who is\",    \"who've\": \"who have\",    \"why's\": \"why is\",    \"why've\": \"why have\",    \"will've\": \"will have\",    \"won't've\": \"will not have\",\n",
    "    \"won't\": \"will not\",        \"would've\": \"would have\",    \"wouldn't've\": \"would not have\",    \"wouldn't\": \"would not\",    \"y'all'd've\": \"you all would have\",    \"y'all'd\": \"you all would\",\n",
    "    \"y'all're\": \"you all are\",    \"y'all've\": \"you all have\",    \"y'all\": \"you all\",    \"y'alls\": \"you all\",      \"you'd've\": \"you would have\",    \"you'd\": \"you had\",\n",
    "    \"you'll've\": \"you will have\",    \"you'll\": \"you will\",      \"you're\": \"you are\",    \"you've\": \"you have\" }\n",
    "\n",
    "def decontracted(phrase):\n",
    "    \n",
    "    # specific\n",
    "    phrase = re.sub(r\"won\\'t\", \"will not\", phrase)\n",
    "    phrase = re.sub(r\"can\\'t\", \"can not\", phrase)\n",
    "\n",
    "    # general\n",
    "    phrase = re.sub(r\"n\\'t\", \" not\", phrase)\n",
    "    phrase = re.sub(r\"\\'re\", \" are\", phrase)\n",
    "    phrase = re.sub(r\"\\'s\", \" is\", phrase)\n",
    "    phrase = re.sub(r\"\\'d\", \" would\", phrase)\n",
    "    phrase = re.sub(r\"\\'ll\", \" will\", phrase)\n",
    "    phrase = re.sub(r\"\\'t\", \" not\", phrase)\n",
    "    phrase = re.sub(r\"\\'ve\", \" have\", phrase)\n",
    "    phrase = re.sub(r\"\\'m\", \" am\", phrase)\n",
    "    \n",
    "    return phrase\n",
    "\n",
    "def text_cleaner(text, treat_contractions = True, lemmatize = True):  \n",
    "    \n",
    "    # lower chars and treat whitespaces\n",
    "    text = text.lower()\n",
    "    text = re.compile('\\s+').sub(' ', text) # whitespaces\n",
    "    text = text.strip() # trailing whitespaces  \n",
    "\n",
    "    # delete narration part between [ and ]\n",
    "    text = re.sub(\"[\\[].*?[\\]]\", \"\", text)\n",
    "\n",
    "    # contractions\n",
    "    if treat_contractions:\n",
    "        text = decontracted(text)\n",
    "        text = ' '.join([cList.get(word,word) for word in text.split()])\n",
    "\n",
    "    # delete special characters and numbers\n",
    "    text = re.compile('[^a-z]').sub(' ', text) \n",
    "\n",
    "    # after numbers\n",
    "    text = re.sub(' th ', '', text)\n",
    "    text = re.sub(' st ', '', text)\n",
    "    text = re.sub(' nd ', '', text)\n",
    "    text = re.compile('\\s+').sub(' ', text) # whitespaces\n",
    "    text = re.compile('\\s+').sub(' ', text) # whitespaces\n",
    "    text = text.strip() # trailing whitespaces \n",
    "\n",
    "    # lemmatize   \n",
    "    if lemmatize:\n",
    "        text = ' '.join([lemmatizer.lemmatize(word) for word in text.split()])\n",
    "\n",
    "    # final whitespace treatment\n",
    "    text = re.compile('\\s+').sub(' ', text) # whitespaces\n",
    "    text = text.strip() # trailing whitespaces     \n",
    "\n",
    "    return text"
   ]
  },
  {
   "cell_type": "code",
   "execution_count": 126,
   "metadata": {},
   "outputs": [],
   "source": [
    "data['line_clean'] = data['line'].apply(lambda x: text_cleaner(x))\n",
    "data.drop(['season', 'episode_num', 'episode_title', 'speaking_to', 'line'], 1, inplace = True)"
   ]
  },
  {
   "cell_type": "code",
   "execution_count": 127,
   "metadata": {},
   "outputs": [
    {
     "data": {
      "text/html": [
       "<div>\n",
       "<style scoped>\n",
       "    .dataframe tbody tr th:only-of-type {\n",
       "        vertical-align: middle;\n",
       "    }\n",
       "\n",
       "    .dataframe tbody tr th {\n",
       "        vertical-align: top;\n",
       "    }\n",
       "\n",
       "    .dataframe thead th {\n",
       "        text-align: right;\n",
       "    }\n",
       "</style>\n",
       "<table border=\"1\" class=\"dataframe\">\n",
       "  <thead>\n",
       "    <tr style=\"text-align: right;\">\n",
       "      <th></th>\n",
       "      <th>speaker</th>\n",
       "      <th>line_clean</th>\n",
       "    </tr>\n",
       "  </thead>\n",
       "  <tbody>\n",
       "    <tr>\n",
       "      <th>1</th>\n",
       "      <td>Kyle</td>\n",
       "      <td>ah damn it my little brother is trying to foll...</td>\n",
       "    </tr>\n",
       "    <tr>\n",
       "      <th>3</th>\n",
       "      <td>Kyle</td>\n",
       "      <td>ike you can not come to school with me</td>\n",
       "    </tr>\n",
       "    <tr>\n",
       "      <th>4</th>\n",
       "      <td>Cartman</td>\n",
       "      <td>yeah go home you little dildo</td>\n",
       "    </tr>\n",
       "    <tr>\n",
       "      <th>5</th>\n",
       "      <td>Kyle</td>\n",
       "      <td>dude do not call my brother a dildo</td>\n",
       "    </tr>\n",
       "    <tr>\n",
       "      <th>6</th>\n",
       "      <td>Stan</td>\n",
       "      <td>what is a dildo</td>\n",
       "    </tr>\n",
       "  </tbody>\n",
       "</table>\n",
       "</div>"
      ],
      "text/plain": [
       "   speaker                                         line_clean\n",
       "1     Kyle  ah damn it my little brother is trying to foll...\n",
       "3     Kyle             ike you can not come to school with me\n",
       "4  Cartman                      yeah go home you little dildo\n",
       "5     Kyle                dude do not call my brother a dildo\n",
       "6     Stan                                    what is a dildo"
      ]
     },
     "execution_count": 127,
     "metadata": {},
     "output_type": "execute_result"
    }
   ],
   "source": [
    "data.head()"
   ]
  },
  {
   "cell_type": "code",
   "execution_count": null,
   "metadata": {},
   "outputs": [],
   "source": []
  },
  {
   "cell_type": "markdown",
   "metadata": {},
   "source": [
    "## 1st model: tf-df vectorizer"
   ]
  },
  {
   "cell_type": "code",
   "execution_count": 128,
   "metadata": {},
   "outputs": [],
   "source": [
    "from sklearn.feature_extraction.text import TfidfVectorizer\n",
    "from sklearn.decomposition import PCA\n",
    "from sklearn.model_selection import train_test_split\n",
    "from sklearn.metrics import classification_report, plot_confusion_matrix\n",
    "from lightgbm import LGBMClassifier"
   ]
  },
  {
   "cell_type": "code",
   "execution_count": 129,
   "metadata": {},
   "outputs": [],
   "source": [
    "X = data['line_clean'].copy()\n",
    "y = data['speaker'].copy()\n",
    "\n",
    "X_tr, X_valid, y_tr, y_valid = train_test_split(X, y, train_size=0.75, random_state = 91)"
   ]
  },
  {
   "cell_type": "code",
   "execution_count": 130,
   "metadata": {},
   "outputs": [
    {
     "name": "stdout",
     "output_type": "stream",
     "text": [
      "2615\n"
     ]
    }
   ],
   "source": [
    "vectorizer = TfidfVectorizer(min_df = 5)\n",
    "vectorizer.fit(X_tr)\n",
    "print(len(vectorizer.vocabulary_))"
   ]
  },
  {
   "cell_type": "code",
   "execution_count": 131,
   "metadata": {},
   "outputs": [],
   "source": [
    "X_train_vectorized = vectorizer.transform(X_tr).toarray()\n",
    "X_valid_vectorized = vectorizer.transform(X_valid).toarray()"
   ]
  },
  {
   "cell_type": "markdown",
   "metadata": {},
   "source": [
    "Reduce dimensionality by PCA"
   ]
  },
  {
   "cell_type": "code",
   "execution_count": 132,
   "metadata": {},
   "outputs": [
    {
     "data": {
      "text/plain": [
       "PCA(n_components=25, random_state=91)"
      ]
     },
     "execution_count": 132,
     "metadata": {},
     "output_type": "execute_result"
    }
   ],
   "source": [
    "pca = PCA(random_state=91, n_components = 25)\n",
    "pca.fit(X_train_vectorized)"
   ]
  },
  {
   "cell_type": "code",
   "execution_count": 133,
   "metadata": {},
   "outputs": [
    {
     "data": {
      "text/plain": [
       "0.17475061113608098"
      ]
     },
     "execution_count": 133,
     "metadata": {},
     "output_type": "execute_result"
    }
   ],
   "source": [
    "sum(pca.explained_variance_ratio_)"
   ]
  },
  {
   "cell_type": "markdown",
   "metadata": {},
   "source": [
    "Won't use PCA - very small variance is being captured"
   ]
  },
  {
   "cell_type": "markdown",
   "metadata": {},
   "source": [
    "Apply LightGBM Classifier"
   ]
  },
  {
   "cell_type": "code",
   "execution_count": 137,
   "metadata": {},
   "outputs": [
    {
     "name": "stdout",
     "output_type": "stream",
     "text": [
      "Wall time: 20.1 s\n"
     ]
    },
    {
     "data": {
      "text/plain": [
       "LGBMClassifier(objective='multiclass', random_state=91)"
      ]
     },
     "execution_count": 137,
     "metadata": {},
     "output_type": "execute_result"
    }
   ],
   "source": [
    "%%time\n",
    "\n",
    "lgb = LGBMClassifier(n_jobs=-1, objective='multiclass', random_state=91, n_estimators = 100)\n",
    "lgb.fit(X_train_vectorized, y_tr, eval_set = (X_valid_vectorized, y_valid), verbose = 0)"
   ]
  },
  {
   "cell_type": "markdown",
   "metadata": {},
   "source": [
    "Evaluate on test set"
   ]
  },
  {
   "cell_type": "code",
   "execution_count": 138,
   "metadata": {},
   "outputs": [
    {
     "name": "stdout",
     "output_type": "stream",
     "text": [
      "              precision    recall  f1-score   support\n",
      "\n",
      "     Cartman     0.5514    0.7930    0.6505      2720\n",
      "       Kenny     0.4444    0.0800    0.1356       200\n",
      "        Kyle     0.4821    0.3073    0.3753      1793\n",
      "        Stan     0.4440    0.3533    0.3935      1851\n",
      "\n",
      "    accuracy                         0.5146      6564\n",
      "   macro avg     0.4805    0.3834    0.3887      6564\n",
      "weighted avg     0.4989    0.5146    0.4872      6564\n",
      "\n"
     ]
    }
   ],
   "source": [
    "predictions = lgb.predict(X_valid_vectorized)\n",
    "print(classification_report(y_valid, predictions, digits = 4))"
   ]
  },
  {
   "cell_type": "code",
   "execution_count": 139,
   "metadata": {},
   "outputs": [
    {
     "data": {
      "image/png": "[encoded data removed]",
      "text/plain": [
       "<Figure size 720x720 with 2 Axes>"
      ]
     },
     "metadata": {
      "needs_background": "light"
     },
     "output_type": "display_data"
    }
   ],
   "source": [
    "fig, ax = plt.subplots(figsize=(10, 10))\n",
    "plt.rcParams.update({'font.size': 14})\n",
    "plot_confusion_matrix(lgb, X_valid_vectorized, y_valid, ax = ax, cmap = 'Greys')\n",
    "plt.show()"
   ]
  },
  {
   "cell_type": "markdown",
   "metadata": {},
   "source": [
    "The simple tf-idf vectorization (with some regularization) achieves a ~50% accuracy. Easiest to predict is Cartman, most difficult is Kenny"
   ]
  },
  {
   "cell_type": "code",
   "execution_count": null,
   "metadata": {},
   "outputs": [],
   "source": []
  },
  {
   "cell_type": "markdown",
   "metadata": {},
   "source": [
    "## 2nd model: Google's Universal Sentence Encoder"
   ]
  },
  {
   "cell_type": "code",
   "execution_count": 140,
   "metadata": {},
   "outputs": [],
   "source": [
    "import tensorflow as tf\n",
    "import tensorflow_hub as hub\n",
    "from sklearn.decomposition import PCA"
   ]
  },
  {
   "cell_type": "code",
   "execution_count": 142,
   "metadata": {},
   "outputs": [],
   "source": [
    "import os\n",
    "os.environ['TFHUB_CACHE_DIR'] = '../southpark/data/cache'\n",
    "\n",
    "module_url = 'https://tfhub.dev/google/universal-sentence-encoder/4'\n",
    "model = hub.load(module_url)\n",
    "\n",
    "#model.predict(tf.convert_to_tensor(['I am', \"I'm\"]))"
   ]
  },
  {
   "cell_type": "code",
   "execution_count": 158,
   "metadata": {},
   "outputs": [
    {
     "name": "stdout",
     "output_type": "stream",
     "text": [
      "Wall time: 13.7 s\n"
     ]
    }
   ],
   "source": [
    "%%time\n",
    "\n",
    "X_tr_USE = np.array(model(X_tr.values))\n",
    "X_valid_USE = np.array(model(X_valid.values))"
   ]
  },
  {
   "cell_type": "markdown",
   "metadata": {},
   "source": [
    "Apply LGBM"
   ]
  },
  {
   "cell_type": "code",
   "execution_count": 164,
   "metadata": {},
   "outputs": [
    {
     "name": "stdout",
     "output_type": "stream",
     "text": [
      "Wall time: 3min 10s\n"
     ]
    },
    {
     "data": {
      "text/plain": [
       "LGBMClassifier(n_estimators=250, objective='multiclass', random_state=91)"
      ]
     },
     "execution_count": 164,
     "metadata": {},
     "output_type": "execute_result"
    }
   ],
   "source": [
    "%%time\n",
    "\n",
    "lgb = LGBMClassifier(n_jobs=-1, objective='multiclass', random_state=91, n_estimators = 250)\n",
    "lgb.fit(X_tr_USE, y_tr, eval_set = (X_valid_USE, y_valid), verbose = 0)"
   ]
  },
  {
   "cell_type": "markdown",
   "metadata": {},
   "source": [
    "Evaluate"
   ]
  },
  {
   "cell_type": "code",
   "execution_count": 165,
   "metadata": {},
   "outputs": [
    {
     "name": "stdout",
     "output_type": "stream",
     "text": [
      "              precision    recall  f1-score   support\n",
      "\n",
      "     Cartman     0.5742    0.7599    0.6541      2720\n",
      "       Kenny     0.3333    0.0850    0.1355       200\n",
      "        Kyle     0.4402    0.3491    0.3894      1793\n",
      "        Stan     0.4359    0.3512    0.3890      1851\n",
      "\n",
      "    accuracy                         0.5119      6564\n",
      "   macro avg     0.4459    0.3863    0.3920      6564\n",
      "weighted avg     0.4913    0.5119    0.4912      6564\n",
      "\n"
     ]
    }
   ],
   "source": [
    "predictions = lgb.predict(X_valid_USE)\n",
    "print(classification_report(y_valid, predictions, digits = 4))"
   ]
  },
  {
   "cell_type": "code",
   "execution_count": 166,
   "metadata": {},
   "outputs": [
    {
     "data": {
      "image/png": "[encoded data removed]",
      "text/plain": [
       "<Figure size 720x720 with 2 Axes>"
      ]
     },
     "metadata": {
      "needs_background": "light"
     },
     "output_type": "display_data"
    }
   ],
   "source": [
    "fig, ax = plt.subplots(figsize=(10, 10))\n",
    "plot_confusion_matrix(lgb, X_valid_USE, y_valid, ax = ax, cmap = 'Greys')\n",
    "plt.show()"
   ]
  },
  {
   "cell_type": "markdown",
   "metadata": {},
   "source": [
    "Try some sentences"
   ]
  },
  {
   "cell_type": "code",
   "execution_count": 192,
   "metadata": {},
   "outputs": [],
   "source": [
    "def predict_text_with_USE(input = 'Oh my God, they killed Kenny!'):\n",
    "\n",
    "    input_cleaned = text_cleaner(input)\n",
    "    input_encoded = np.array(model([input_cleaned]))\n",
    "    input_prediction = lgb.predict_proba(input_encoded)\n",
    "\n",
    "    result = pd.concat([pd.Series(lgb.classes_), \n",
    "                        pd.Series(input_prediction[0])], 1)\\\n",
    "                .rename(columns = {0 : '', 1 : '%'})\\\n",
    "                .sort_values('%', ascending = False)\\\n",
    "                .reset_index(drop = True)\n",
    "\n",
    "    print('Probabilities of saying the sentence <', input, '>')\n",
    "\n",
    "    return result"
   ]
  },
  {
   "cell_type": "code",
   "execution_count": 193,
   "metadata": {},
   "outputs": [
    {
     "name": "stdout",
     "output_type": "stream",
     "text": [
      "Probabilities of saying the sentence < Oh my God, they killed Kenny! >\n"
     ]
    },
    {
     "data": {
      "text/html": [
       "<div>\n",
       "<style scoped>\n",
       "    .dataframe tbody tr th:only-of-type {\n",
       "        vertical-align: middle;\n",
       "    }\n",
       "\n",
       "    .dataframe tbody tr th {\n",
       "        vertical-align: top;\n",
       "    }\n",
       "\n",
       "    .dataframe thead th {\n",
       "        text-align: right;\n",
       "    }\n",
       "</style>\n",
       "<table border=\"1\" class=\"dataframe\">\n",
       "  <thead>\n",
       "    <tr style=\"text-align: right;\">\n",
       "      <th></th>\n",
       "      <th></th>\n",
       "      <th>%</th>\n",
       "    </tr>\n",
       "  </thead>\n",
       "  <tbody>\n",
       "    <tr>\n",
       "      <th>0</th>\n",
       "      <td>Stan</td>\n",
       "      <td>0.847816</td>\n",
       "    </tr>\n",
       "    <tr>\n",
       "      <th>1</th>\n",
       "      <td>Kyle</td>\n",
       "      <td>0.089982</td>\n",
       "    </tr>\n",
       "    <tr>\n",
       "      <th>2</th>\n",
       "      <td>Cartman</td>\n",
       "      <td>0.060954</td>\n",
       "    </tr>\n",
       "    <tr>\n",
       "      <th>3</th>\n",
       "      <td>Kenny</td>\n",
       "      <td>0.001248</td>\n",
       "    </tr>\n",
       "  </tbody>\n",
       "</table>\n",
       "</div>"
      ],
      "text/plain": [
       "                   %\n",
       "0     Stan  0.847816\n",
       "1     Kyle  0.089982\n",
       "2  Cartman  0.060954\n",
       "3    Kenny  0.001248"
      ]
     },
     "execution_count": 193,
     "metadata": {},
     "output_type": "execute_result"
    }
   ],
   "source": [
    "predict_text_with_USE()"
   ]
  },
  {
   "cell_type": "code",
   "execution_count": 196,
   "metadata": {},
   "outputs": [
    {
     "name": "stdout",
     "output_type": "stream",
     "text": [
      "Probabilities of saying the sentence < You bastards! >\n"
     ]
    },
    {
     "data": {
      "text/html": [
       "<div>\n",
       "<style scoped>\n",
       "    .dataframe tbody tr th:only-of-type {\n",
       "        vertical-align: middle;\n",
       "    }\n",
       "\n",
       "    .dataframe tbody tr th {\n",
       "        vertical-align: top;\n",
       "    }\n",
       "\n",
       "    .dataframe thead th {\n",
       "        text-align: right;\n",
       "    }\n",
       "</style>\n",
       "<table border=\"1\" class=\"dataframe\">\n",
       "  <thead>\n",
       "    <tr style=\"text-align: right;\">\n",
       "      <th></th>\n",
       "      <th></th>\n",
       "      <th>%</th>\n",
       "    </tr>\n",
       "  </thead>\n",
       "  <tbody>\n",
       "    <tr>\n",
       "      <th>0</th>\n",
       "      <td>Kyle</td>\n",
       "      <td>0.909080</td>\n",
       "    </tr>\n",
       "    <tr>\n",
       "      <th>1</th>\n",
       "      <td>Stan</td>\n",
       "      <td>0.038888</td>\n",
       "    </tr>\n",
       "    <tr>\n",
       "      <th>2</th>\n",
       "      <td>Kenny</td>\n",
       "      <td>0.029061</td>\n",
       "    </tr>\n",
       "    <tr>\n",
       "      <th>3</th>\n",
       "      <td>Cartman</td>\n",
       "      <td>0.022972</td>\n",
       "    </tr>\n",
       "  </tbody>\n",
       "</table>\n",
       "</div>"
      ],
      "text/plain": [
       "                   %\n",
       "0     Kyle  0.909080\n",
       "1     Stan  0.038888\n",
       "2    Kenny  0.029061\n",
       "3  Cartman  0.022972"
      ]
     },
     "execution_count": 196,
     "metadata": {},
     "output_type": "execute_result"
    }
   ],
   "source": [
    "predict_text_with_USE('You bastards!')"
   ]
  },
  {
   "cell_type": "code",
   "execution_count": 203,
   "metadata": {},
   "outputs": [
    {
     "name": "stdout",
     "output_type": "stream",
     "text": [
      "Probabilities of saying the sentence < You stupid jew! >\n"
     ]
    },
    {
     "data": {
      "text/html": [
       "<div>\n",
       "<style scoped>\n",
       "    .dataframe tbody tr th:only-of-type {\n",
       "        vertical-align: middle;\n",
       "    }\n",
       "\n",
       "    .dataframe tbody tr th {\n",
       "        vertical-align: top;\n",
       "    }\n",
       "\n",
       "    .dataframe thead th {\n",
       "        text-align: right;\n",
       "    }\n",
       "</style>\n",
       "<table border=\"1\" class=\"dataframe\">\n",
       "  <thead>\n",
       "    <tr style=\"text-align: right;\">\n",
       "      <th></th>\n",
       "      <th></th>\n",
       "      <th>%</th>\n",
       "    </tr>\n",
       "  </thead>\n",
       "  <tbody>\n",
       "    <tr>\n",
       "      <th>0</th>\n",
       "      <td>Cartman</td>\n",
       "      <td>0.639282</td>\n",
       "    </tr>\n",
       "    <tr>\n",
       "      <th>1</th>\n",
       "      <td>Kyle</td>\n",
       "      <td>0.268074</td>\n",
       "    </tr>\n",
       "    <tr>\n",
       "      <th>2</th>\n",
       "      <td>Stan</td>\n",
       "      <td>0.091025</td>\n",
       "    </tr>\n",
       "    <tr>\n",
       "      <th>3</th>\n",
       "      <td>Kenny</td>\n",
       "      <td>0.001619</td>\n",
       "    </tr>\n",
       "  </tbody>\n",
       "</table>\n",
       "</div>"
      ],
      "text/plain": [
       "                   %\n",
       "0  Cartman  0.639282\n",
       "1     Kyle  0.268074\n",
       "2     Stan  0.091025\n",
       "3    Kenny  0.001619"
      ]
     },
     "execution_count": 203,
     "metadata": {},
     "output_type": "execute_result"
    }
   ],
   "source": [
    "predict_text_with_USE('You stupid jew!')"
   ]
  },
  {
   "cell_type": "code",
   "execution_count": 207,
   "metadata": {},
   "outputs": [
    {
     "name": "stdout",
     "output_type": "stream",
     "text": [
      "Probabilities of saying the sentence < Don't call me that fatso! >\n"
     ]
    },
    {
     "data": {
      "text/html": [
       "<div>\n",
       "<style scoped>\n",
       "    .dataframe tbody tr th:only-of-type {\n",
       "        vertical-align: middle;\n",
       "    }\n",
       "\n",
       "    .dataframe tbody tr th {\n",
       "        vertical-align: top;\n",
       "    }\n",
       "\n",
       "    .dataframe thead th {\n",
       "        text-align: right;\n",
       "    }\n",
       "</style>\n",
       "<table border=\"1\" class=\"dataframe\">\n",
       "  <thead>\n",
       "    <tr style=\"text-align: right;\">\n",
       "      <th></th>\n",
       "      <th></th>\n",
       "      <th>%</th>\n",
       "    </tr>\n",
       "  </thead>\n",
       "  <tbody>\n",
       "    <tr>\n",
       "      <th>0</th>\n",
       "      <td>Kyle</td>\n",
       "      <td>0.459373</td>\n",
       "    </tr>\n",
       "    <tr>\n",
       "      <th>1</th>\n",
       "      <td>Cartman</td>\n",
       "      <td>0.281830</td>\n",
       "    </tr>\n",
       "    <tr>\n",
       "      <th>2</th>\n",
       "      <td>Stan</td>\n",
       "      <td>0.257070</td>\n",
       "    </tr>\n",
       "    <tr>\n",
       "      <th>3</th>\n",
       "      <td>Kenny</td>\n",
       "      <td>0.001727</td>\n",
       "    </tr>\n",
       "  </tbody>\n",
       "</table>\n",
       "</div>"
      ],
      "text/plain": [
       "                   %\n",
       "0     Kyle  0.459373\n",
       "1  Cartman  0.281830\n",
       "2     Stan  0.257070\n",
       "3    Kenny  0.001727"
      ]
     },
     "execution_count": 207,
     "metadata": {},
     "output_type": "execute_result"
    }
   ],
   "source": [
    "predict_text_with_USE(\"Don't call me that fatso!\")"
   ]
  },
  {
   "cell_type": "code",
   "execution_count": 231,
   "metadata": {},
   "outputs": [
    {
     "name": "stdout",
     "output_type": "stream",
     "text": [
      "Probabilities of saying the sentence < Momma >\n"
     ]
    },
    {
     "data": {
      "text/html": [
       "<div>\n",
       "<style scoped>\n",
       "    .dataframe tbody tr th:only-of-type {\n",
       "        vertical-align: middle;\n",
       "    }\n",
       "\n",
       "    .dataframe tbody tr th {\n",
       "        vertical-align: top;\n",
       "    }\n",
       "\n",
       "    .dataframe thead th {\n",
       "        text-align: right;\n",
       "    }\n",
       "</style>\n",
       "<table border=\"1\" class=\"dataframe\">\n",
       "  <thead>\n",
       "    <tr style=\"text-align: right;\">\n",
       "      <th></th>\n",
       "      <th></th>\n",
       "      <th>%</th>\n",
       "    </tr>\n",
       "  </thead>\n",
       "  <tbody>\n",
       "    <tr>\n",
       "      <th>0</th>\n",
       "      <td>Cartman</td>\n",
       "      <td>0.569875</td>\n",
       "    </tr>\n",
       "    <tr>\n",
       "      <th>1</th>\n",
       "      <td>Stan</td>\n",
       "      <td>0.258105</td>\n",
       "    </tr>\n",
       "    <tr>\n",
       "      <th>2</th>\n",
       "      <td>Kyle</td>\n",
       "      <td>0.164518</td>\n",
       "    </tr>\n",
       "    <tr>\n",
       "      <th>3</th>\n",
       "      <td>Kenny</td>\n",
       "      <td>0.007501</td>\n",
       "    </tr>\n",
       "  </tbody>\n",
       "</table>\n",
       "</div>"
      ],
      "text/plain": [
       "                   %\n",
       "0  Cartman  0.569875\n",
       "1     Stan  0.258105\n",
       "2     Kyle  0.164518\n",
       "3    Kenny  0.007501"
      ]
     },
     "execution_count": 231,
     "metadata": {},
     "output_type": "execute_result"
    }
   ],
   "source": [
    "predict_text_with_USE(\"Momma\")"
   ]
  },
  {
   "cell_type": "code",
   "execution_count": null,
   "metadata": {},
   "outputs": [],
   "source": []
  },
  {
   "cell_type": "markdown",
   "metadata": {},
   "source": [
    "## 3rd model: word embeddings aggregated to sentence embeddings\n",
    "\n",
    "Hold off this for now - if sentence encoder didn't perform significantly better, maybe this won't either. Maybe try a neural net (RNN, LSTM) approach with embeddings in an Embedding() layer"
   ]
  },
  {
   "cell_type": "code",
   "execution_count": null,
   "metadata": {},
   "outputs": [],
   "source": []
  },
  {
   "cell_type": "code",
   "execution_count": null,
   "metadata": {},
   "outputs": [],
   "source": []
  },
  {
   "cell_type": "markdown",
   "metadata": {},
   "source": []
  }
 ],
 "metadata": {
  "interpreter": {
   "hash": "c1c82bdd170d252fe165a9bec4d731e9ac025b41ad0f7b30ff5fda4e58991de2"
  },
  "kernelspec": {
   "display_name": "Python 3",
   "language": "python",
   "name": "python3"
  },
  "language_info": {
   "codemirror_mode": {
    "name": "ipython",
    "version": 3
   },
   "file_extension": ".py",
   "mimetype": "text/x-python",
   "name": "python",
   "nbconvert_exporter": "python",
   "pygments_lexer": "ipython3",
   "version": "3.8.8"
  }
 },
 "nbformat": 4,
 "nbformat_minor": 2
}
