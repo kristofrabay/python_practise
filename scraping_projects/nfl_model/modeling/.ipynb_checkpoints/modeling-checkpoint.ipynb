{
 "cells": [
  {
   "cell_type": "code",
   "execution_count": 7,
   "id": "7b0432d9",
   "metadata": {},
   "outputs": [],
   "source": [
    "import pandas as pd\n",
    "import numpy as np\n",
    "import time\n",
    "import pickle\n",
    "\n",
    "import matplotlib.pyplot as plt\n",
    "import seaborn as sns\n",
    "\n",
    "from sklearn.model_selection import train_test_split, GridSearchCV\n",
    "from sklearn.linear_model import LogisticRegression\n",
    "from sklearn.metrics import accuracy_score, log_loss, roc_auc_score, roc_curve, auc, confusion_matrix\n",
    "from sklearn.tree import DecisionTreeClassifier, plot_tree\n",
    "from sklearn.ensemble import GradientBoostingClassifier, RandomForestClassifier\n",
    "\n",
    "import lightgbm as lgb\n",
    "from catboost import CatBoostClassifier\n",
    "\n",
    "from boruta import BorutaPy\n",
    "\n",
    "def evaluate_model(model_name, model, X, y):\n",
    "    \n",
    "    predictions_probas = model.predict_proba(X)[:,1]\n",
    "    predictions = model.predict(X)\n",
    "\n",
    "    Accuracy = accuracy_score(y, predictions)\n",
    "    AUC = roc_auc_score(y, predictions_probas)\n",
    "    LogLoss = log_loss(y, predictions_probas)\n",
    "\n",
    "    print('Accuracy for', model_name, ': %1.3f' % Accuracy)\n",
    "    print('AUC for', model_name, ': %1.4f' % AUC)\n",
    "    print('LogLoss for', model_name, ': %1.3f' % LogLoss)\n",
    "    \n",
    "    \n",
    "def plot_fpr_fnr(model, model_name, x, y):\n",
    "    \n",
    "    fpr, tpr, thresholds = roc_curve(y, model.predict_proba(x)[:,1])\n",
    "    fnr = 1 - tpr\n",
    "\n",
    "    plt.figure(figsize = (9, 4))\n",
    "    sns.lineplot(thresholds, fpr, label = 'FPR')\n",
    "    sns.lineplot(thresholds, fnr, label = 'FNR')\n",
    "    plt.xlim(0, 1)\n",
    "    plt.xticks(np.arange(0, 1.01, 0.05), fontsize = 8)\n",
    "    plt.yticks(np.arange(0, 1.01, 0.1), fontsize = 8)\n",
    "    plt.title('FPR and FNR plots for ' + model_name + '\\n')\n",
    "    plt.xlabel('Thresholds')\n",
    "    plt.ylabel('Rates')\n",
    "    plt.grid(linestyle = \"--\", color = 'black', alpha = 1/3, linewidth = 1/2)\n",
    "    plt.show()\n",
    "    \n",
    "    \n",
    "def plot_roc_auc(model, model_name, x, y):\n",
    "    \n",
    "    fpr, tpr, thresholds = roc_curve(y, model.predict_proba(x)[:,1])\n",
    "    \n",
    "    plt.figure(figsize = (9, 4))\n",
    "    sns.lineplot(fpr, tpr, color = 'red', label = 'ROC curve (area = %0.2f)' % auc(fpr, tpr))\n",
    "    sns.lineplot([0, 1], [0, 1], color = 'black')\n",
    "    plt.xlim(0, 1)\n",
    "    plt.xticks(np.arange(0, 1.01, 0.05), fontsize = 8)\n",
    "    plt.yticks(np.arange(0, 1.01, 0.1), fontsize = 8)\n",
    "    plt.title('ROC curve and AUC for ' + model_name + '\\n')\n",
    "    plt.xlabel('FPR')\n",
    "    plt.ylabel('TPR')\n",
    "    plt.grid(linestyle = \"--\", color = 'black', alpha = 1/3, linewidth = 1/2)\n",
    "    plt.show()\n",
    "    \n",
    "    \n",
    "def print_confusion_matrix(model, model_name, threshold, x, y):\n",
    "    \n",
    "    predictions = (model.predict_proba(x)[:,1] > threshold).astype(int)\n",
    "\n",
    "    unnormalized_confusion_matrix = pd.DataFrame(confusion_matrix(y, predictions, normalize = None), \n",
    "                 columns = pd.MultiIndex.from_tuples([('PREDICTED', 'negative'), ('PREDICTED', 'positive')]),\n",
    "                 index = pd.MultiIndex.from_tuples([('TRUE', 'negative'), ('TRUE', 'positive')]))\n",
    "\n",
    "    normalized_confusion_matrix = pd.DataFrame(confusion_matrix(y, predictions, normalize = 'true'), \n",
    "                 columns = pd.MultiIndex.from_tuples([('PREDICTED', 'negative'), ('PREDICTED', 'positive')]),\n",
    "                 index = pd.MultiIndex.from_tuples([('TRUE', 'negative'), ('TRUE', 'positive')]))\n",
    "    \n",
    "    print('Confusion matrices for', model_name, 'at threshold', threshold, '\\n')\n",
    "\n",
    "    print(unnormalized_confusion_matrix)\n",
    "    print('\\n')\n",
    "    print(normalized_confusion_matrix)\n",
    "    \n",
    "def plot_roc_auc_without_model(model_name, x, y):\n",
    "    \n",
    "    fpr, tpr, thresholds = roc_curve(y, x)\n",
    "    \n",
    "    plt.figure(figsize = (9, 4))\n",
    "    sns.lineplot(fpr, tpr, color = 'red', label = 'ROC curve (area = %0.2f)' % auc(fpr, tpr))\n",
    "    sns.lineplot([0, 1], [0, 1], color = 'black')\n",
    "    plt.xlim(0, 1)\n",
    "    plt.xticks(np.arange(0, 1.01, 0.05), fontsize = 8)\n",
    "    plt.yticks(np.arange(0, 1.01, 0.1), fontsize = 8)\n",
    "    plt.title('ROC curve and AUC for ' + model_name + '\\n')\n",
    "    plt.xlabel('FPR')\n",
    "    plt.ylabel('TPR')\n",
    "    plt.grid(linestyle = \"--\", color = 'black', alpha = 1/3, linewidth = 1/2)\n",
    "    plt.show()\n",
    "    \n",
    "\n",
    "import warnings\n",
    "warnings.filterwarnings('ignore')"
   ]
  },
  {
   "cell_type": "markdown",
   "id": "efdc912b",
   "metadata": {},
   "source": [
    "### Train test split"
   ]
  },
  {
   "cell_type": "code",
   "execution_count": 8,
   "id": "7cea6af5",
   "metadata": {},
   "outputs": [
    {
     "data": {
      "text/html": [
       "<div>\n",
       "<style scoped>\n",
       "    .dataframe tbody tr th:only-of-type {\n",
       "        vertical-align: middle;\n",
       "    }\n",
       "\n",
       "    .dataframe tbody tr th {\n",
       "        vertical-align: top;\n",
       "    }\n",
       "\n",
       "    .dataframe thead th {\n",
       "        text-align: right;\n",
       "    }\n",
       "</style>\n",
       "<table border=\"1\" class=\"dataframe\">\n",
       "  <thead>\n",
       "    <tr style=\"text-align: right;\">\n",
       "      <th></th>\n",
       "      <th>Team</th>\n",
       "      <th>offense_points_per_game</th>\n",
       "      <th>season</th>\n",
       "      <th>games_played</th>\n",
       "      <th>offense_downs_Third Downs_PCT</th>\n",
       "      <th>offense_downs_Fourth Downs_PCT</th>\n",
       "      <th>offense_passing_CMP%</th>\n",
       "      <th>offense_passing_AVG</th>\n",
       "      <th>offense_passing_YDS/G</th>\n",
       "      <th>offense_passing_RTG</th>\n",
       "      <th>...</th>\n",
       "      <th>offense_receiving_FUM_per_game</th>\n",
       "      <th>offense_rushing_FUM_per_game</th>\n",
       "      <th>defense_receiving_FUM_per_game</th>\n",
       "      <th>defense_rushing_FUM_per_game</th>\n",
       "      <th>offense_receiving_LST_FUM_ratio</th>\n",
       "      <th>offense_rushing_LST_FUM_ratio</th>\n",
       "      <th>defense_receiving_LST_FUM_ratio</th>\n",
       "      <th>defense_rushing_LST_FUM_ratio</th>\n",
       "      <th>winner</th>\n",
       "      <th>played</th>\n",
       "    </tr>\n",
       "  </thead>\n",
       "  <tbody>\n",
       "    <tr>\n",
       "      <th>0</th>\n",
       "      <td>Kansas City Chiefs</td>\n",
       "      <td>30.2</td>\n",
       "      <td>2004</td>\n",
       "      <td>16</td>\n",
       "      <td>47.2</td>\n",
       "      <td>28.6</td>\n",
       "      <td>66.0</td>\n",
       "      <td>8.3</td>\n",
       "      <td>275.4</td>\n",
       "      <td>94.9</td>\n",
       "      <td>...</td>\n",
       "      <td>0.1250</td>\n",
       "      <td>0.4375</td>\n",
       "      <td>0.4375</td>\n",
       "      <td>0.5625</td>\n",
       "      <td>1.00</td>\n",
       "      <td>0.571429</td>\n",
       "      <td>0.428571</td>\n",
       "      <td>0.444444</td>\n",
       "      <td>0</td>\n",
       "      <td>0</td>\n",
       "    </tr>\n",
       "    <tr>\n",
       "      <th>1</th>\n",
       "      <td>Indianapolis Colts</td>\n",
       "      <td>32.6</td>\n",
       "      <td>2004</td>\n",
       "      <td>16</td>\n",
       "      <td>42.7</td>\n",
       "      <td>57.1</td>\n",
       "      <td>67.0</td>\n",
       "      <td>9.0</td>\n",
       "      <td>288.9</td>\n",
       "      <td>119.7</td>\n",
       "      <td>...</td>\n",
       "      <td>0.2500</td>\n",
       "      <td>0.5625</td>\n",
       "      <td>0.3750</td>\n",
       "      <td>0.6250</td>\n",
       "      <td>0.75</td>\n",
       "      <td>0.444444</td>\n",
       "      <td>0.666667</td>\n",
       "      <td>0.400000</td>\n",
       "      <td>0</td>\n",
       "      <td>0</td>\n",
       "    </tr>\n",
       "    <tr>\n",
       "      <th>2</th>\n",
       "      <td>Green Bay Packers</td>\n",
       "      <td>26.5</td>\n",
       "      <td>2004</td>\n",
       "      <td>16</td>\n",
       "      <td>47.3</td>\n",
       "      <td>57.1</td>\n",
       "      <td>63.9</td>\n",
       "      <td>7.6</td>\n",
       "      <td>278.1</td>\n",
       "      <td>93.9</td>\n",
       "      <td>...</td>\n",
       "      <td>0.3125</td>\n",
       "      <td>0.5625</td>\n",
       "      <td>0.1875</td>\n",
       "      <td>0.3125</td>\n",
       "      <td>0.60</td>\n",
       "      <td>0.666667</td>\n",
       "      <td>0.666667</td>\n",
       "      <td>0.400000</td>\n",
       "      <td>0</td>\n",
       "      <td>0</td>\n",
       "    </tr>\n",
       "  </tbody>\n",
       "</table>\n",
       "<p>3 rows × 68 columns</p>\n",
       "</div>"
      ],
      "text/plain": [
       "                 Team  offense_points_per_game  season  games_played  \\\n",
       "0  Kansas City Chiefs                     30.2    2004            16   \n",
       "1  Indianapolis Colts                     32.6    2004            16   \n",
       "2   Green Bay Packers                     26.5    2004            16   \n",
       "\n",
       "   offense_downs_Third Downs_PCT  offense_downs_Fourth Downs_PCT  \\\n",
       "0                           47.2                            28.6   \n",
       "1                           42.7                            57.1   \n",
       "2                           47.3                            57.1   \n",
       "\n",
       "   offense_passing_CMP%  offense_passing_AVG  offense_passing_YDS/G  \\\n",
       "0                  66.0                  8.3                  275.4   \n",
       "1                  67.0                  9.0                  288.9   \n",
       "2                  63.9                  7.6                  278.1   \n",
       "\n",
       "   offense_passing_RTG  ...  offense_receiving_FUM_per_game  \\\n",
       "0                 94.9  ...                          0.1250   \n",
       "1                119.7  ...                          0.2500   \n",
       "2                 93.9  ...                          0.3125   \n",
       "\n",
       "   offense_rushing_FUM_per_game  defense_receiving_FUM_per_game  \\\n",
       "0                        0.4375                          0.4375   \n",
       "1                        0.5625                          0.3750   \n",
       "2                        0.5625                          0.1875   \n",
       "\n",
       "   defense_rushing_FUM_per_game  offense_receiving_LST_FUM_ratio  \\\n",
       "0                        0.5625                             1.00   \n",
       "1                        0.6250                             0.75   \n",
       "2                        0.3125                             0.60   \n",
       "\n",
       "   offense_rushing_LST_FUM_ratio  defense_receiving_LST_FUM_ratio  \\\n",
       "0                       0.571429                         0.428571   \n",
       "1                       0.444444                         0.666667   \n",
       "2                       0.666667                         0.666667   \n",
       "\n",
       "   defense_rushing_LST_FUM_ratio  winner  played  \n",
       "0                       0.444444       0       0  \n",
       "1                       0.400000       0       0  \n",
       "2                       0.400000       0       0  \n",
       "\n",
       "[3 rows x 68 columns]"
      ]
     },
     "execution_count": 8,
     "metadata": {},
     "output_type": "execute_result"
    }
   ],
   "source": [
    "data = pd.read_csv('../data/scraped_for_modeling_labeled_2022.csv')\n",
    "data.fillna(0, inplace = True) # divisions with 0\n",
    "data.head(3)"
   ]
  },
  {
   "cell_type": "code",
   "execution_count": 9,
   "id": "7c4e6005",
   "metadata": {},
   "outputs": [
    {
     "name": "stdout",
     "output_type": "stream",
     "text": [
      "(489, 66)\n",
      "(489,)\n"
     ]
    }
   ],
   "source": [
    "X = data.drop(['winner', 'played'], 1).copy()\n",
    "y = data['played'].copy()\n",
    "\n",
    "X_train, X_test, y_train, y_test = train_test_split(X, y, train_size = .85, random_state = 20202020)\n",
    "\n",
    "print(X_train.shape)\n",
    "print(y_train.shape)"
   ]
  },
  {
   "cell_type": "code",
   "execution_count": null,
   "id": "42603ed7",
   "metadata": {},
   "outputs": [],
   "source": []
  },
  {
   "cell_type": "markdown",
   "id": "53695e71",
   "metadata": {},
   "source": [
    "### Eliminate some features using BorutaPy"
   ]
  },
  {
   "cell_type": "markdown",
   "id": "ae924ea5",
   "metadata": {},
   "source": [
    "For play prediction"
   ]
  },
  {
   "cell_type": "code",
   "execution_count": 10,
   "id": "3c1548a3",
   "metadata": {},
   "outputs": [
    {
     "name": "stdout",
     "output_type": "stream",
     "text": [
      "Wall time: 2min 35s\n"
     ]
    },
    {
     "data": {
      "text/plain": [
       "BorutaPy(estimator=RandomForestClassifier(max_depth=7, max_features=10,\n",
       "                                          n_estimators=250, n_jobs=-1,\n",
       "                                          random_state=RandomState(MT19937) at 0x1BE5B022740),\n",
       "         max_iter=200, n_estimators=250, perc=75,\n",
       "         random_state=RandomState(MT19937) at 0x1BE5B022740)"
      ]
     },
     "execution_count": 10,
     "metadata": {},
     "output_type": "execute_result"
    }
   ],
   "source": [
    "%%time\n",
    "\n",
    "forest = RandomForestClassifier(max_depth = 7, max_features = 10, n_jobs = -1)\n",
    "boruta = BorutaPy(estimator = forest, n_estimators = 250, perc = 75, max_iter = 200, random_state = 20202020)\n",
    "boruta.fit(np.array(X_train.drop(['Team', 'games_played', 'season'], 1)), \n",
    "           np.array(y_train))"
   ]
  },
  {
   "cell_type": "code",
   "execution_count": 11,
   "id": "58929356",
   "metadata": {},
   "outputs": [
    {
     "name": "stdout",
     "output_type": "stream",
     "text": [
      "Boruta suggests keeping 18 features out of  63 : ['offense_points_per_game', 'offense_downs_Fourth Downs_PCT', 'offense_passing_AVG', 'offense_passing_YDS/G', 'offense_passing_RTG', 'offense_receiving_AVG', 'defense_points_per_game', 'defense_passing_AVG', 'defense_receiving_AVG', 'defense_rushing_YDS/G', 'defense_passing_SYL_per_game', 'offense_downs_Third Downs_ATT_per_game', 'defense_downs_Third Downs_ATT_per_game', 'defense_downs_First Downs_penalty_ratio', 'offense_passing_TD_per_game', 'defense_rushing_TD_per_game', 'defense_pass_TD_per_rush_TD', 'offense_pass_TD_to_INT']\n"
     ]
    }
   ],
   "source": [
    "to_keep = X_train.drop(['Team', 'games_played', 'season'], 1).columns[boruta.support_].to_list()\n",
    "print('Boruta suggests keeping', len(to_keep), 'features out of ', \n",
    "      X_train.drop(['Team', 'games_played', 'season'], 1).shape[1], ':', to_keep)"
   ]
  },
  {
   "cell_type": "code",
   "execution_count": null,
   "id": "1db0ed03",
   "metadata": {},
   "outputs": [],
   "source": []
  },
  {
   "cell_type": "markdown",
   "id": "84cb1333",
   "metadata": {},
   "source": [
    "Drop unimportant features"
   ]
  },
  {
   "cell_type": "code",
   "execution_count": 14,
   "id": "68a712b2",
   "metadata": {},
   "outputs": [],
   "source": [
    "X_train_reduced = X_train[['Team', 'games_played', 'season'] + to_keep].copy()\n",
    "X_test_reduced = X_test[['Team', 'games_played', 'season'] + to_keep].copy()"
   ]
  },
  {
   "cell_type": "code",
   "execution_count": null,
   "id": "c56ad1a5",
   "metadata": {},
   "outputs": [],
   "source": []
  },
  {
   "cell_type": "markdown",
   "id": "5ac6ed32",
   "metadata": {},
   "source": [
    "## Start modeling probability of playing in the Super Bowl\n"
   ]
  },
  {
   "cell_type": "markdown",
   "id": "fb7f4671",
   "metadata": {},
   "source": [
    "### 0. Logit"
   ]
  },
  {
   "cell_type": "code",
   "execution_count": 19,
   "id": "b742c9a9",
   "metadata": {},
   "outputs": [
    {
     "data": {
      "text/plain": [
       "LogisticRegression(n_jobs=-1, random_state=56)"
      ]
     },
     "execution_count": 19,
     "metadata": {},
     "output_type": "execute_result"
    }
   ],
   "source": [
    "logit = LogisticRegression(random_state=56, n_jobs=-1)\n",
    "logit.fit(X_train_reduced.drop(['Team', 'games_played', 'season'], 1), y_train)"
   ]
  },
  {
   "cell_type": "code",
   "execution_count": 23,
   "id": "9d061138",
   "metadata": {},
   "outputs": [],
   "source": [
    "preds_train = logit.predict_proba(X_train_reduced.drop(['Team', 'games_played', 'season'], 1))[:,1]\n",
    "preds_test = logit.predict_proba(X_test_reduced.drop(['Team', 'games_played', 'season'], 1))[:,1]"
   ]
  },
  {
   "cell_type": "code",
   "execution_count": 24,
   "id": "bfa485d0",
   "metadata": {},
   "outputs": [
    {
     "name": "stdout",
     "output_type": "stream",
     "text": [
      "0.9235503282275711\n",
      "0.9578313253012049\n"
     ]
    }
   ],
   "source": [
    "print(roc_auc_score(y_train, preds_train))\n",
    "print(roc_auc_score(y_test, preds_test))"
   ]
  },
  {
   "cell_type": "code",
   "execution_count": 50,
   "id": "3cb68602",
   "metadata": {},
   "outputs": [],
   "source": [
    "pkl_filename = '../modeling/logit.pkl'\n",
    "with open(pkl_filename, 'wb') as file:\n",
    "    pickle.dump(logit, file)"
   ]
  },
  {
   "cell_type": "code",
   "execution_count": null,
   "id": "3fe9ae64",
   "metadata": {},
   "outputs": [],
   "source": []
  },
  {
   "cell_type": "markdown",
   "id": "daee3b64",
   "metadata": {},
   "source": [
    "### 1. Random Forest"
   ]
  },
  {
   "cell_type": "code",
   "execution_count": 42,
   "id": "d35c2216",
   "metadata": {},
   "outputs": [
    {
     "name": "stdout",
     "output_type": "stream",
     "text": [
      "Started at Mon Sep 12 20:52:00 2022\n",
      "Ended at Mon Sep 12 20:52:01 2022\n",
      "0.8651778697967529\n"
     ]
    }
   ],
   "source": [
    "start = time.time()\n",
    "print(\"Started at\", str(time.ctime(int(start))))\n",
    "\n",
    "RF_params = {'criterion' : ['gini'],\n",
    "             'max_depth' : [3, 5],\n",
    "             'min_samples_split' : [5, 10],\n",
    "             'min_samples_leaf' : [20],\n",
    "             'max_features' : [.75],\n",
    "             'n_estimators' : [5, 10, 15]}\n",
    "\n",
    "RF = RandomForestClassifier(random_state = 20202020, n_jobs=-1)\n",
    "\n",
    "GRID_RF_reduced = GridSearchCV(RF, param_grid = RF_params, cv = 3, scoring = 'roc_auc', n_jobs = -1)\n",
    "GRID_RF_reduced.fit(X_train_reduced.drop(['Team', 'games_played', 'season'], 1), y_train)\n",
    "\n",
    "print(\"Ended at\", str(time.ctime(int(time.time()))))\n",
    "print(time.time() - start)"
   ]
  },
  {
   "cell_type": "code",
   "execution_count": 43,
   "id": "f960bcf4",
   "metadata": {},
   "outputs": [
    {
     "data": {
      "text/plain": [
       "{'criterion': 'gini',\n",
       " 'max_depth': 3,\n",
       " 'max_features': 0.75,\n",
       " 'min_samples_leaf': 20,\n",
       " 'min_samples_split': 5,\n",
       " 'n_estimators': 15}"
      ]
     },
     "execution_count": 43,
     "metadata": {},
     "output_type": "execute_result"
    }
   ],
   "source": [
    "GRID_RF_reduced.best_params_"
   ]
  },
  {
   "cell_type": "code",
   "execution_count": 44,
   "id": "e7a48078",
   "metadata": {},
   "outputs": [
    {
     "name": "stdout",
     "output_type": "stream",
     "text": [
      "Accuracy for RandomForest : 0.954\n",
      "AUC for RandomForest : 0.9187\n",
      "LogLoss for RandomForest : 0.135\n"
     ]
    }
   ],
   "source": [
    "rf_results = evaluate_model('RandomForest', GRID_RF_reduced.best_estimator_, \n",
    "                            X_test_reduced.drop(['Team', 'games_played', 'season'], 1), y_test)"
   ]
  },
  {
   "cell_type": "markdown",
   "id": "e2098f17",
   "metadata": {},
   "source": [
    "Boruta is working well: the model with just 19 features performs almost as well as the one with 61 features"
   ]
  },
  {
   "cell_type": "code",
   "execution_count": 51,
   "id": "bede4d2b",
   "metadata": {},
   "outputs": [],
   "source": [
    "pkl_filename = '../modeling/rf.pkl'\n",
    "with open(pkl_filename, 'wb') as file:\n",
    "    pickle.dump(GRID_RF_reduced.best_estimator_, file)"
   ]
  },
  {
   "cell_type": "markdown",
   "id": "0a12ee1b",
   "metadata": {},
   "source": [
    "### 2. GBM (sklearn)"
   ]
  },
  {
   "cell_type": "code",
   "execution_count": 79,
   "id": "96371a89",
   "metadata": {},
   "outputs": [
    {
     "name": "stdout",
     "output_type": "stream",
     "text": [
      "Started at Mon Sep 12 20:56:05 2022\n",
      "Ended at Mon Sep 12 20:56:06 2022\n",
      "0.4117755889892578\n"
     ]
    }
   ],
   "source": [
    "start = time.time()\n",
    "print(\"Started at\", str(time.ctime(int(start))))\n",
    "\n",
    "GBM_params = {'learning_rate' : [0.01],\n",
    "              'subsample' : [.8],\n",
    "              'max_features' : [.5, .75],\n",
    "              'max_depth' : [5],\n",
    "              'min_samples_split' : [5],\n",
    "              'min_samples_leaf' : [19],\n",
    "              'n_estimators' : [50]}\n",
    "\n",
    "GBM = GradientBoostingClassifier(random_state = 20202020)\n",
    "\n",
    "GRID_GBM = GridSearchCV(GBM, param_grid = GBM_params, cv = 3, scoring = 'roc_auc', n_jobs = -1)\n",
    "GRID_GBM.fit(X_train_reduced.drop(['Team', 'games_played', 'season'], 1), y_train)\n",
    "\n",
    "print(\"Ended at\", str(time.ctime(int(time.time()))))\n",
    "print(time.time() - start)"
   ]
  },
  {
   "cell_type": "code",
   "execution_count": 80,
   "id": "4f0cf5b1",
   "metadata": {},
   "outputs": [
    {
     "data": {
      "text/plain": [
       "{'learning_rate': 0.01,\n",
       " 'max_depth': 5,\n",
       " 'max_features': 0.5,\n",
       " 'min_samples_leaf': 19,\n",
       " 'min_samples_split': 5,\n",
       " 'n_estimators': 50,\n",
       " 'subsample': 0.8}"
      ]
     },
     "execution_count": 80,
     "metadata": {},
     "output_type": "execute_result"
    }
   ],
   "source": [
    "GRID_GBM.best_params_"
   ]
  },
  {
   "cell_type": "code",
   "execution_count": 81,
   "id": "f244dbde",
   "metadata": {},
   "outputs": [
    {
     "name": "stdout",
     "output_type": "stream",
     "text": [
      "Accuracy for GradientBoosting : 0.954\n",
      "AUC for GradientBoosting : 0.9127\n",
      "LogLoss for GradientBoosting : 0.158\n"
     ]
    }
   ],
   "source": [
    "gbm_results = evaluate_model('GradientBoosting', GRID_GBM.best_estimator_, \n",
    "                            X_test_reduced.drop(['Team', 'games_played', 'season'], 1), y_test)"
   ]
  },
  {
   "cell_type": "code",
   "execution_count": 83,
   "id": "28ae1c16",
   "metadata": {},
   "outputs": [],
   "source": [
    "pkl_filename = '../modeling/gbm.pkl'\n",
    "with open(pkl_filename, 'wb') as file:\n",
    "    pickle.dump(GRID_GBM.best_estimator_, file)"
   ]
  },
  {
   "cell_type": "code",
   "execution_count": null,
   "id": "33877c44",
   "metadata": {},
   "outputs": [],
   "source": []
  },
  {
   "cell_type": "markdown",
   "id": "2ee426d7",
   "metadata": {},
   "source": [
    "### 3. LightGBM"
   ]
  },
  {
   "cell_type": "code",
   "execution_count": 123,
   "id": "257f93c2",
   "metadata": {},
   "outputs": [
    {
     "name": "stdout",
     "output_type": "stream",
     "text": [
      "Started at Mon Sep 12 20:58:16 2022\n",
      "Ended at Mon Sep 12 20:58:16 2022\n",
      "0.1800682544708252\n"
     ]
    }
   ],
   "source": [
    "start = time.time()\n",
    "print(\"Started at\", str(time.ctime(int(start))))\n",
    "\n",
    "LGB_params = {'boosting_type' : ['dart', 'goss'],\n",
    "              'learning_rate' : [0.01],\n",
    "              'num_leaves' : [7],\n",
    "              'min_child_samples' : [7],\n",
    "              'max_depth' : [7],\n",
    "              'colsample_bytree' : [.5],\n",
    "              'n_estimators' : [100]}\n",
    "\n",
    "LGB = lgb.LGBMClassifier(random_state = 20202020, objective = 'binary', metric = 'auc')\n",
    "GRID_LGB = GridSearchCV(LGB, param_grid = LGB_params, cv = 3, scoring = 'roc_auc', n_jobs = -1)\n",
    "GRID_LGB.fit(X_train_reduced.drop(['Team', 'games_played', 'season'], 1), y_train)\n",
    "\n",
    "print(\"Ended at\", str(time.ctime(int(time.time()))))\n",
    "print(time.time() - start)"
   ]
  },
  {
   "cell_type": "code",
   "execution_count": 124,
   "id": "c929941a",
   "metadata": {},
   "outputs": [
    {
     "data": {
      "text/plain": [
       "{'boosting_type': 'dart',\n",
       " 'colsample_bytree': 0.5,\n",
       " 'learning_rate': 0.01,\n",
       " 'max_depth': 7,\n",
       " 'min_child_samples': 7,\n",
       " 'n_estimators': 100,\n",
       " 'num_leaves': 7}"
      ]
     },
     "execution_count": 124,
     "metadata": {},
     "output_type": "execute_result"
    }
   ],
   "source": [
    "GRID_LGB.best_params_"
   ]
  },
  {
   "cell_type": "code",
   "execution_count": 125,
   "id": "7bee6fcf",
   "metadata": {},
   "outputs": [
    {
     "name": "stdout",
     "output_type": "stream",
     "text": [
      "Accuracy for LightGBM : 0.954\n",
      "AUC for LightGBM : 0.9217\n",
      "LogLoss for LightGBM : 0.277\n"
     ]
    }
   ],
   "source": [
    "evaluate_model('LightGBM', GRID_LGB.best_estimator_, \n",
    "                X_test_reduced.drop(['Team', 'games_played', 'season'], 1), y_test)"
   ]
  },
  {
   "cell_type": "code",
   "execution_count": 127,
   "id": "8d29b981",
   "metadata": {},
   "outputs": [],
   "source": [
    "pkl_filename = '../modeling/lgb.pkl'\n",
    "with open(pkl_filename, 'wb') as file:\n",
    "    pickle.dump(GRID_LGB.best_estimator_, file)"
   ]
  },
  {
   "cell_type": "code",
   "execution_count": null,
   "id": "0cbe0bfa",
   "metadata": {},
   "outputs": [],
   "source": []
  },
  {
   "cell_type": "markdown",
   "id": "330f08a1",
   "metadata": {},
   "source": [
    "### 4. CatBoost"
   ]
  },
  {
   "cell_type": "code",
   "execution_count": 146,
   "id": "5057495f",
   "metadata": {},
   "outputs": [
    {
     "name": "stdout",
     "output_type": "stream",
     "text": [
      "Started at Mon Sep 12 20:59:33 2022\n",
      "Ended at Mon Sep 12 20:59:34 2022\n",
      "0.3942751884460449\n"
     ]
    }
   ],
   "source": [
    "start = time.time()\n",
    "print(\"Started at\", str(time.ctime(int(start))))\n",
    "\n",
    "cat_params = {'learning_rate': [0.01],\n",
    "              'l2_leaf_reg': [1],\n",
    "              'subsample': [1],\n",
    "              'rsm' : [.5],\n",
    "              'max_depth': [7], # up to 16 \n",
    "              'grow_policy': ['Lossguide'],\n",
    "              'min_data_in_leaf' : [11], \n",
    "              'max_leaves' : [11],\n",
    "              'iterations' : [50]} \n",
    "\n",
    "cat = CatBoostClassifier(random_state = 20202020, verbose = 0,\n",
    "                         eval_metric = 'AUC:hints=skip_train~false', objective = 'Logloss')\n",
    "\n",
    "GRID_cat = GridSearchCV(cat, param_grid = cat_params, cv = 3, scoring = 'roc_auc', n_jobs = -1)\n",
    "GRID_cat.fit(X_train_reduced.drop(['Team', 'games_played', 'season'], 1), y_train)\n",
    "\n",
    "print(\"Ended at\", str(time.ctime(int(time.time()))))\n",
    "print(time.time() - start)"
   ]
  },
  {
   "cell_type": "code",
   "execution_count": 147,
   "id": "274d1e49",
   "metadata": {},
   "outputs": [
    {
     "name": "stdout",
     "output_type": "stream",
     "text": [
      "Accuracy for CatBoost : 0.954\n",
      "AUC for CatBoost : 0.9398\n",
      "LogLoss for CatBoost : 0.436\n"
     ]
    }
   ],
   "source": [
    "evaluate_model('CatBoost', GRID_cat.best_estimator_, \n",
    "                X_test_reduced.drop(['Team', 'games_played', 'season'], 1), y_test)"
   ]
  },
  {
   "cell_type": "code",
   "execution_count": 149,
   "id": "50e9bb49",
   "metadata": {},
   "outputs": [],
   "source": [
    "pkl_filename = '../modeling/catboost.pkl'\n",
    "with open(pkl_filename, 'wb') as file:\n",
    "    pickle.dump(GRID_cat.best_estimator_, file)"
   ]
  },
  {
   "cell_type": "code",
   "execution_count": null,
   "id": "d0a083e4",
   "metadata": {},
   "outputs": [],
   "source": []
  },
  {
   "cell_type": "code",
   "execution_count": null,
   "id": "c4995d4f",
   "metadata": {},
   "outputs": [],
   "source": []
  },
  {
   "cell_type": "markdown",
   "id": "301095db",
   "metadata": {},
   "source": [
    "### See if any sort of stacking helps prediction accuracy"
   ]
  },
  {
   "cell_type": "code",
   "execution_count": 150,
   "id": "a9d73ffe",
   "metadata": {},
   "outputs": [],
   "source": [
    "pred_logit = logit.predict_proba(X_test_reduced.drop(['Team', 'games_played', 'season'], 1))[:,1]\n",
    "pred_rf = GRID_RF_reduced.best_estimator_.predict_proba(X_test_reduced.drop(['Team', 'games_played', 'season'], 1))[:,1]\n",
    "pred_gbm = GRID_GBM.best_estimator_.predict_proba(X_test_reduced.drop(['Team', 'games_played', 'season'], 1))[:,1]\n",
    "pred_lgb = GRID_LGB.best_estimator_.predict_proba(X_test_reduced.drop(['Team', 'games_played', 'season'], 1))[:,1]\n",
    "pred_catboost = GRID_cat.best_estimator_.predict_proba(X_test_reduced.drop(['Team', 'games_played', 'season'], 1))[:,1]"
   ]
  },
  {
   "cell_type": "code",
   "execution_count": 154,
   "id": "4faac439",
   "metadata": {},
   "outputs": [
    {
     "name": "stdout",
     "output_type": "stream",
     "text": [
      "0.9578313253012049\n",
      "0.9186746987951807\n",
      "0.9126506024096386\n",
      "0.9216867469879518\n",
      "0.9397590361445783\n"
     ]
    }
   ],
   "source": [
    "print(roc_auc_score(y_test,pred_logit))\n",
    "print(roc_auc_score(y_test,pred_rf))\n",
    "print(roc_auc_score(y_test,pred_gbm))\n",
    "print(roc_auc_score(y_test,pred_lgb))\n",
    "print(roc_auc_score(y_test,pred_catboost))"
   ]
  },
  {
   "cell_type": "code",
   "execution_count": 168,
   "id": "3a0b4f73",
   "metadata": {},
   "outputs": [
    {
     "data": {
      "text/plain": [
       "0.9728915662650602"
      ]
     },
     "execution_count": 168,
     "metadata": {},
     "output_type": "execute_result"
    }
   ],
   "source": [
    "mean_pred = (3*pred_logit + 0.5*pred_rf + 0.5*pred_gbm + 0.5*pred_lgb + 3*pred_catboost) / 7.5\n",
    "roc_auc_score(y_test,mean_pred)"
   ]
  },
  {
   "cell_type": "code",
   "execution_count": null,
   "id": "e647eb3e",
   "metadata": {},
   "outputs": [],
   "source": []
  },
  {
   "cell_type": "markdown",
   "id": "94aeb8ad",
   "metadata": {},
   "source": [
    "Optimize weights"
   ]
  },
  {
   "cell_type": "code",
   "execution_count": 166,
   "id": "2927fc46",
   "metadata": {},
   "outputs": [
    {
     "name": "stdout",
     "output_type": "stream",
     "text": [
      "Wall time: 3min 15s\n"
     ]
    }
   ],
   "source": [
    "%%time\n",
    "\n",
    "results = []\n",
    "\n",
    "for i_log in np.linspace(0.000001, 10, 11):\n",
    "    for i_rf in np.linspace(0.000001, 10, 11):\n",
    "        for i_gbm in np.linspace(0.000001, 10, 11):\n",
    "            for i_lgb in np.linspace(0.000001, 10, 11):\n",
    "                for i_cat in np.linspace(0.000001, 10, 11):\n",
    "                    \n",
    "                    mean_pred = (i_log*pred_logit + i_rf*pred_rf + i_gbm*pred_gbm + i_lgb*pred_lgb + i_cat*pred_catboost) / (i_log + i_rf + i_gbm + i_lgb + i_cat)\n",
    "                    auc = roc_auc_score(y_test,mean_pred)\n",
    "                    \n",
    "                    results.append({'logit' : i_log, \n",
    "                                    'rf' : i_rf, \n",
    "                                    'gbm' : i_gbm, \n",
    "                                    'lgb' : i_lgb, \n",
    "                                    'cat' : i_cat, \n",
    "                                    'auc' : auc})"
   ]
  },
  {
   "cell_type": "code",
   "execution_count": 171,
   "id": "0eb31177",
   "metadata": {},
   "outputs": [
    {
     "data": {
      "text/html": [
       "<div>\n",
       "<style scoped>\n",
       "    .dataframe tbody tr th:only-of-type {\n",
       "        vertical-align: middle;\n",
       "    }\n",
       "\n",
       "    .dataframe tbody tr th {\n",
       "        vertical-align: top;\n",
       "    }\n",
       "\n",
       "    .dataframe thead th {\n",
       "        text-align: right;\n",
       "    }\n",
       "</style>\n",
       "<table border=\"1\" class=\"dataframe\">\n",
       "  <thead>\n",
       "    <tr style=\"text-align: right;\">\n",
       "      <th></th>\n",
       "      <th>logit</th>\n",
       "      <th>rf</th>\n",
       "      <th>gbm</th>\n",
       "      <th>lgb</th>\n",
       "      <th>cat</th>\n",
       "      <th>auc</th>\n",
       "    </tr>\n",
       "  </thead>\n",
       "  <tbody>\n",
       "    <tr>\n",
       "      <th>14648</th>\n",
       "      <td>1.000001</td>\n",
       "      <td>0.000001</td>\n",
       "      <td>0.000001</td>\n",
       "      <td>0.000001</td>\n",
       "      <td>7.0</td>\n",
       "      <td>0.993976</td>\n",
       "    </tr>\n",
       "    <tr>\n",
       "      <th>14647</th>\n",
       "      <td>1.000001</td>\n",
       "      <td>0.000001</td>\n",
       "      <td>0.000001</td>\n",
       "      <td>0.000001</td>\n",
       "      <td>6.0</td>\n",
       "      <td>0.990964</td>\n",
       "    </tr>\n",
       "    <tr>\n",
       "      <th>30623</th>\n",
       "      <td>2.000001</td>\n",
       "      <td>1.000001</td>\n",
       "      <td>0.000001</td>\n",
       "      <td>0.000001</td>\n",
       "      <td>10.0</td>\n",
       "      <td>0.990964</td>\n",
       "    </tr>\n",
       "  </tbody>\n",
       "</table>\n",
       "</div>"
      ],
      "text/plain": [
       "          logit        rf       gbm       lgb   cat       auc\n",
       "14648  1.000001  0.000001  0.000001  0.000001   7.0  0.993976\n",
       "14647  1.000001  0.000001  0.000001  0.000001   6.0  0.990964\n",
       "30623  2.000001  1.000001  0.000001  0.000001  10.0  0.990964"
      ]
     },
     "execution_count": 171,
     "metadata": {},
     "output_type": "execute_result"
    }
   ],
   "source": [
    "res = pd.DataFrame(results).sort_values('auc', ascending = False)\n",
    "res.head(3)"
   ]
  },
  {
   "cell_type": "code",
   "execution_count": 169,
   "id": "0b93e3ea",
   "metadata": {},
   "outputs": [
    {
     "data": {
      "text/plain": [
       "0.9939759036144578"
      ]
     },
     "execution_count": 169,
     "metadata": {},
     "output_type": "execute_result"
    }
   ],
   "source": [
    "mean_pred = (1*pred_logit + 7*pred_catboost) / 8\n",
    "roc_auc_score(y_test,mean_pred)"
   ]
  },
  {
   "cell_type": "code",
   "execution_count": null,
   "id": "fc866791",
   "metadata": {},
   "outputs": [],
   "source": []
  },
  {
   "cell_type": "code",
   "execution_count": 176,
   "id": "6eb3518a",
   "metadata": {},
   "outputs": [
    {
     "data": {
      "text/plain": [
       "logit    6.332328\n",
       "rf       4.803690\n",
       "gbm      4.900627\n",
       "lgb      4.731251\n",
       "cat      5.022911\n",
       "auc      0.973072\n",
       "dtype: float64"
      ]
     },
     "execution_count": 176,
     "metadata": {},
     "output_type": "execute_result"
    }
   ],
   "source": [
    "res[res['auc'] >= .95].mean()"
   ]
  },
  {
   "cell_type": "code",
   "execution_count": 177,
   "id": "2233ea4f",
   "metadata": {},
   "outputs": [
    {
     "data": {
      "text/plain": [
       "0.9759036144578314"
      ]
     },
     "execution_count": 177,
     "metadata": {},
     "output_type": "execute_result"
    }
   ],
   "source": [
    "mean_pred = (6*pred_logit + 5*pred_rf + 5*pred_gbm + 5*pred_lgb + 5*pred_catboost) / 26\n",
    "roc_auc_score(y_test,mean_pred)"
   ]
  },
  {
   "cell_type": "code",
   "execution_count": null,
   "id": "4996594d",
   "metadata": {},
   "outputs": [],
   "source": []
  }
 ],
 "metadata": {
  "kernelspec": {
   "display_name": "Python 3 (ipykernel)",
   "language": "python",
   "name": "python3"
  },
  "language_info": {
   "codemirror_mode": {
    "name": "ipython",
    "version": 3
   },
   "file_extension": ".py",
   "mimetype": "text/x-python",
   "name": "python",
   "nbconvert_exporter": "python",
   "pygments_lexer": "ipython3",
   "version": "3.9.7"
  }
 },
 "nbformat": 4,
 "nbformat_minor": 5
}
