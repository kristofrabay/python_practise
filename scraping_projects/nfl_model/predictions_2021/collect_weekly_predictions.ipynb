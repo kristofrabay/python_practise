{
 "cells": [
  {
   "cell_type": "code",
   "execution_count": 1,
   "id": "c82e6de2",
   "metadata": {},
   "outputs": [],
   "source": [
    "import pandas as pd\n",
    "import numpy as np\n",
    "import os\n",
    "\n",
    "import re\n",
    "\n",
    "from functools import reduce\n",
    "\n",
    "import plotly.express as px\n",
    "\n",
    "import warnings\n",
    "warnings.filterwarnings('ignore')"
   ]
  },
  {
   "cell_type": "code",
   "execution_count": 2,
   "id": "09dbd108",
   "metadata": {},
   "outputs": [
    {
     "name": "stdout",
     "output_type": "stream",
     "text": [
      "['week_1.csv', 'week_10.csv', 'week_11.csv', 'week_12.csv', 'week_13.csv', 'week_14.csv', 'week_15.csv', 'week_2.csv', 'week_3.csv', 'week_4.csv', 'week_5.csv', 'week_6.csv', 'week_7.csv', 'week_8.csv', 'week_9.csv']\n"
     ]
    }
   ],
   "source": [
    "weekly_data_tables = os.listdir('weekly_runs/')\n",
    "print(weekly_data_tables)"
   ]
  },
  {
   "cell_type": "code",
   "execution_count": 3,
   "id": "07e0656f",
   "metadata": {},
   "outputs": [],
   "source": [
    "collection = []\n",
    "\n",
    "for weekly_data in weekly_data_tables:\n",
    "    collection.append(pd.read_csv('weekly_runs/' + weekly_data))"
   ]
  },
  {
   "cell_type": "code",
   "execution_count": 4,
   "id": "014530d8",
   "metadata": {},
   "outputs": [
    {
     "name": "stdout",
     "output_type": "stream",
     "text": [
      "Wall time: 667 ms\n"
     ]
    }
   ],
   "source": [
    "%%time\n",
    "\n",
    "pred_types = ['pred_rf', 'pred_gbm', 'pred_lgb', 'pred_catboost', 'pred_mean']\n",
    "pred_types_collected = {}\n",
    "\n",
    "for pred_type in pred_types:\n",
    "    \n",
    "    keep_cols = ['Team', 'season', 'week_marker', pred_type]    \n",
    "    pred_types_data = []\n",
    "    \n",
    "    for i in collection:\n",
    "        data_for_pred_type = i[keep_cols].copy()\n",
    "        \n",
    "        week_marker = data_for_pred_type['week_marker'].unique().item()\n",
    "        data_for_pred_type.rename(columns = {pred_type : pred_type + '_' + week_marker}, inplace = True)\n",
    "        data_for_pred_type.drop(['week_marker', 'season'], 1, inplace = True)\n",
    "        \n",
    "        pred_types_data.append(data_for_pred_type)\n",
    "        \n",
    "    pred_types_data = reduce(lambda  a,b: pd.merge(a,b, on = ['Team'], how='outer'), pred_types_data)\n",
    "    pred_types_data.sort_values(pred_types_data.columns[-1], ascending = False, inplace = True)\n",
    "    \n",
    "    columns = [re.sub('[^0-9]', '', i) if i != 'Team' else i for i in pred_types_data.columns]\n",
    "    pred_types_data.columns = columns\n",
    "        \n",
    "    pred_types_collected[pred_type] = pred_types_data  "
   ]
  },
  {
   "cell_type": "code",
   "execution_count": 5,
   "id": "1f9747b1",
   "metadata": {},
   "outputs": [],
   "source": [
    "# pred_types_collected['pred_rf']\n",
    "# pred_types_collected['pred_gbm']\n",
    "# pred_types_collected['pred_lgb']\n",
    "# pred_types_collected['pred_catboost']\n",
    "# pred_types_collected['pred_mean']"
   ]
  },
  {
   "cell_type": "code",
   "execution_count": 6,
   "id": "4d0b8803",
   "metadata": {},
   "outputs": [
    {
     "data": {
      "text/html": [
       "<div>\n",
       "<style scoped>\n",
       "    .dataframe tbody tr th:only-of-type {\n",
       "        vertical-align: middle;\n",
       "    }\n",
       "\n",
       "    .dataframe tbody tr th {\n",
       "        vertical-align: top;\n",
       "    }\n",
       "\n",
       "    .dataframe thead th {\n",
       "        text-align: right;\n",
       "    }\n",
       "</style>\n",
       "<table border=\"1\" class=\"dataframe\">\n",
       "  <thead>\n",
       "    <tr style=\"text-align: right;\">\n",
       "      <th></th>\n",
       "      <th>Team</th>\n",
       "      <th>1</th>\n",
       "      <th>10</th>\n",
       "      <th>11</th>\n",
       "      <th>12</th>\n",
       "      <th>13</th>\n",
       "      <th>14</th>\n",
       "      <th>15</th>\n",
       "      <th>2</th>\n",
       "      <th>3</th>\n",
       "      <th>4</th>\n",
       "      <th>5</th>\n",
       "      <th>6</th>\n",
       "      <th>7</th>\n",
       "      <th>8</th>\n",
       "      <th>9</th>\n",
       "    </tr>\n",
       "  </thead>\n",
       "  <tbody>\n",
       "    <tr>\n",
       "      <th>0</th>\n",
       "      <td>Arizona Cardinals</td>\n",
       "      <td>0.512468</td>\n",
       "      <td>0.253320</td>\n",
       "      <td>0.259717</td>\n",
       "      <td>0.259717</td>\n",
       "      <td>0.257173</td>\n",
       "      <td>0.184721</td>\n",
       "      <td>0.128450</td>\n",
       "      <td>0.319694</td>\n",
       "      <td>0.332717</td>\n",
       "      <td>0.347861</td>\n",
       "      <td>0.325952</td>\n",
       "      <td>0.349341</td>\n",
       "      <td>0.385269</td>\n",
       "      <td>0.343536</td>\n",
       "      <td>0.332476</td>\n",
       "    </tr>\n",
       "    <tr>\n",
       "      <th>1</th>\n",
       "      <td>Los Angeles Rams</td>\n",
       "      <td>0.486665</td>\n",
       "      <td>0.233676</td>\n",
       "      <td>0.233676</td>\n",
       "      <td>0.197478</td>\n",
       "      <td>0.271716</td>\n",
       "      <td>0.275579</td>\n",
       "      <td>0.251193</td>\n",
       "      <td>0.434764</td>\n",
       "      <td>0.396305</td>\n",
       "      <td>0.345544</td>\n",
       "      <td>0.284640</td>\n",
       "      <td>0.329892</td>\n",
       "      <td>0.309442</td>\n",
       "      <td>0.318350</td>\n",
       "      <td>0.323857</td>\n",
       "    </tr>\n",
       "    <tr>\n",
       "      <th>5</th>\n",
       "      <td>Tampa Bay Buccaneers</td>\n",
       "      <td>0.295510</td>\n",
       "      <td>0.267443</td>\n",
       "      <td>0.249250</td>\n",
       "      <td>0.246738</td>\n",
       "      <td>0.247958</td>\n",
       "      <td>0.233093</td>\n",
       "      <td>0.183330</td>\n",
       "      <td>0.351935</td>\n",
       "      <td>0.355476</td>\n",
       "      <td>0.218915</td>\n",
       "      <td>0.296834</td>\n",
       "      <td>0.269347</td>\n",
       "      <td>0.259826</td>\n",
       "      <td>0.283714</td>\n",
       "      <td>0.283714</td>\n",
       "    </tr>\n",
       "    <tr>\n",
       "      <th>14</th>\n",
       "      <td>Dallas Cowboys</td>\n",
       "      <td>0.170148</td>\n",
       "      <td>0.297298</td>\n",
       "      <td>0.181038</td>\n",
       "      <td>0.202487</td>\n",
       "      <td>0.163012</td>\n",
       "      <td>0.148188</td>\n",
       "      <td>0.130073</td>\n",
       "      <td>0.088968</td>\n",
       "      <td>0.191692</td>\n",
       "      <td>0.237991</td>\n",
       "      <td>0.208854</td>\n",
       "      <td>0.280636</td>\n",
       "      <td>0.280636</td>\n",
       "      <td>0.284810</td>\n",
       "      <td>0.259580</td>\n",
       "    </tr>\n",
       "    <tr>\n",
       "      <th>20</th>\n",
       "      <td>Buffalo Bills</td>\n",
       "      <td>0.108006</td>\n",
       "      <td>0.278152</td>\n",
       "      <td>0.196157</td>\n",
       "      <td>0.228987</td>\n",
       "      <td>0.210910</td>\n",
       "      <td>0.161058</td>\n",
       "      <td>0.168259</td>\n",
       "      <td>0.278697</td>\n",
       "      <td>0.275407</td>\n",
       "      <td>0.288686</td>\n",
       "      <td>0.387259</td>\n",
       "      <td>0.331091</td>\n",
       "      <td>0.331091</td>\n",
       "      <td>0.308676</td>\n",
       "      <td>0.255495</td>\n",
       "    </tr>\n",
       "  </tbody>\n",
       "</table>\n",
       "</div>"
      ],
      "text/plain": [
       "                    Team         1        10        11        12        13  \\\n",
       "0      Arizona Cardinals  0.512468  0.253320  0.259717  0.259717  0.257173   \n",
       "1       Los Angeles Rams  0.486665  0.233676  0.233676  0.197478  0.271716   \n",
       "5   Tampa Bay Buccaneers  0.295510  0.267443  0.249250  0.246738  0.247958   \n",
       "14        Dallas Cowboys  0.170148  0.297298  0.181038  0.202487  0.163012   \n",
       "20         Buffalo Bills  0.108006  0.278152  0.196157  0.228987  0.210910   \n",
       "\n",
       "          14        15         2         3         4         5         6  \\\n",
       "0   0.184721  0.128450  0.319694  0.332717  0.347861  0.325952  0.349341   \n",
       "1   0.275579  0.251193  0.434764  0.396305  0.345544  0.284640  0.329892   \n",
       "5   0.233093  0.183330  0.351935  0.355476  0.218915  0.296834  0.269347   \n",
       "14  0.148188  0.130073  0.088968  0.191692  0.237991  0.208854  0.280636   \n",
       "20  0.161058  0.168259  0.278697  0.275407  0.288686  0.387259  0.331091   \n",
       "\n",
       "           7         8         9  \n",
       "0   0.385269  0.343536  0.332476  \n",
       "1   0.309442  0.318350  0.323857  \n",
       "5   0.259826  0.283714  0.283714  \n",
       "14  0.280636  0.284810  0.259580  \n",
       "20  0.331091  0.308676  0.255495  "
      ]
     },
     "execution_count": 6,
     "metadata": {},
     "output_type": "execute_result"
    }
   ],
   "source": [
    "select_pred_type = 'pred_mean'\n",
    "\n",
    "pred_types_collected[select_pred_type].head()"
   ]
  },
  {
   "cell_type": "code",
   "execution_count": 7,
   "id": "9bccf0e9",
   "metadata": {},
   "outputs": [],
   "source": [
    "last_week = str(max([int(i) for i in pred_types_collected[select_pred_type].columns[1:]]))\n",
    "\n",
    "data_for_plotting = pred_types_collected[select_pred_type].sort_values(last_week, ascending = False).head(10).melt(id_vars = 'Team', var_name = 'week', value_name = 'predicted_probability')"
   ]
  },
  {
   "cell_type": "code",
   "execution_count": 8,
   "id": "d5d94e9d",
   "metadata": {},
   "outputs": [],
   "source": [
    "data_for_plotting['week'] = data_for_plotting['week'].astype(int)\n",
    "data_for_plotting.sort_values(['week', 'predicted_probability'], ascending = [True, False], inplace = True)"
   ]
  },
  {
   "cell_type": "code",
   "execution_count": 9,
   "id": "55400a72",
   "metadata": {},
   "outputs": [
    {
     "data": {
      "application/vnd.plotly.v1+json": {
       "config": {
        "plotlyServerURL": "https://plot.ly"
       },
       "data": [
        {
         "hovertemplate": "Team=Los Angeles Rams<br>Regular season week=%{x}<br>Predicted probability (making SB)=%{y}<extra></extra>",
         "legendgroup": "Los Angeles Rams",
         "line": {
          "color": "#636efa",
          "dash": "solid"
         },
         "mode": "markers+lines",
         "name": "Los Angeles Rams",
         "orientation": "v",
         "showlegend": true,
         "type": "scatter",
         "x": [
          1,
          2,
          3,
          4,
          5,
          6,
          7,
          8,
          9,
          10,
          11,
          12,
          13,
          14,
          15
         ],
         "xaxis": "x",
         "y": [
          0.4866653958216968,
          0.4347636974895039,
          0.3963047086708736,
          0.3455439574447185,
          0.2846397930438743,
          0.3298916561380254,
          0.3094416871617561,
          0.3183497485577904,
          0.3238574355654317,
          0.2336756333299733,
          0.2336756333299733,
          0.1974778522097384,
          0.271715751729437,
          0.2755787909459129,
          0.2511925309743145
         ],
         "yaxis": "y"
        },
        {
         "hovertemplate": "Team=Tampa Bay Buccaneers<br>Regular season week=%{x}<br>Predicted probability (making SB)=%{y}<extra></extra>",
         "legendgroup": "Tampa Bay Buccaneers",
         "line": {
          "color": "#EF553B",
          "dash": "solid"
         },
         "mode": "markers+lines",
         "name": "Tampa Bay Buccaneers",
         "orientation": "v",
         "showlegend": true,
         "type": "scatter",
         "x": [
          1,
          2,
          3,
          4,
          5,
          6,
          7,
          8,
          9,
          10,
          11,
          12,
          13,
          14,
          15
         ],
         "xaxis": "x",
         "y": [
          0.2955103738735199,
          0.3519351379311574,
          0.3554759806968102,
          0.2189153958347026,
          0.2968336610322841,
          0.2693470442201964,
          0.2598257397986622,
          0.2837143412237551,
          0.2837143412237551,
          0.2674430148348865,
          0.2492503741576318,
          0.2467378068607283,
          0.2479577201769615,
          0.2330927059090687,
          0.1833299658080429
         ],
         "yaxis": "y"
        },
        {
         "hovertemplate": "Team=Buffalo Bills<br>Regular season week=%{x}<br>Predicted probability (making SB)=%{y}<extra></extra>",
         "legendgroup": "Buffalo Bills",
         "line": {
          "color": "#00cc96",
          "dash": "solid"
         },
         "mode": "markers+lines",
         "name": "Buffalo Bills",
         "orientation": "v",
         "showlegend": true,
         "type": "scatter",
         "x": [
          1,
          2,
          3,
          4,
          5,
          6,
          7,
          8,
          9,
          10,
          11,
          12,
          13,
          14,
          15
         ],
         "xaxis": "x",
         "y": [
          0.1080063418304857,
          0.2786974970198562,
          0.2754073819065388,
          0.2886855836981599,
          0.3872588752968474,
          0.3310909591010573,
          0.3310909591010573,
          0.3086757671897811,
          0.2554946773009545,
          0.2781523730184657,
          0.1961565534142118,
          0.2289870794725653,
          0.2109102702869552,
          0.1610580038110766,
          0.1682590143324018
         ],
         "yaxis": "y"
        },
        {
         "hovertemplate": "Team=New England Patriots<br>Regular season week=%{x}<br>Predicted probability (making SB)=%{y}<extra></extra>",
         "legendgroup": "New England Patriots",
         "line": {
          "color": "#ab63fa",
          "dash": "solid"
         },
         "mode": "markers+lines",
         "name": "New England Patriots",
         "orientation": "v",
         "showlegend": true,
         "type": "scatter",
         "x": [
          1,
          2,
          3,
          4,
          5,
          6,
          7,
          8,
          9,
          10,
          11,
          12,
          13,
          14,
          15
         ],
         "xaxis": "x",
         "y": [
          0.101058925782592,
          0.1145889147957558,
          0.0842986596422559,
          0.057075790296857,
          0.0555963676737339,
          0.0554993349376007,
          0.0662420917887536,
          0.0619632041424076,
          0.0637190812529225,
          0.1181583713485997,
          0.163798812536642,
          0.2061747768061664,
          0.1657785938382029,
          0.1657785938382029,
          0.1411036417649907
         ],
         "yaxis": "y"
        },
        {
         "hovertemplate": "Team=San Francisco 49ers<br>Regular season week=%{x}<br>Predicted probability (making SB)=%{y}<extra></extra>",
         "legendgroup": "San Francisco 49ers",
         "line": {
          "color": "#FFA15A",
          "dash": "solid"
         },
         "mode": "markers+lines",
         "name": "San Francisco 49ers",
         "orientation": "v",
         "showlegend": true,
         "type": "scatter",
         "x": [
          1,
          2,
          3,
          4,
          5,
          6,
          7,
          8,
          9,
          10,
          11,
          12,
          13,
          14,
          15
         ],
         "xaxis": "x",
         "y": [
          0.4527009173100125,
          0.1954069681805358,
          0.163669613102995,
          0.1251524096247587,
          0.0912000245290942,
          0.0912000245290942,
          0.0738989693539809,
          0.1197197287281002,
          0.0832216125079921,
          0.131151838169141,
          0.1326606013428029,
          0.1052939844181142,
          0.1456815875298178,
          0.1291458997951255,
          0.1352169414745201
         ],
         "yaxis": "y"
        },
        {
         "hovertemplate": "Team=Dallas Cowboys<br>Regular season week=%{x}<br>Predicted probability (making SB)=%{y}<extra></extra>",
         "legendgroup": "Dallas Cowboys",
         "line": {
          "color": "#19d3f3",
          "dash": "solid"
         },
         "mode": "markers+lines",
         "name": "Dallas Cowboys",
         "orientation": "v",
         "showlegend": true,
         "type": "scatter",
         "x": [
          1,
          2,
          3,
          4,
          5,
          6,
          7,
          8,
          9,
          10,
          11,
          12,
          13,
          14,
          15
         ],
         "xaxis": "x",
         "y": [
          0.1701475223589355,
          0.0889679388896454,
          0.191691657968837,
          0.2379914776184414,
          0.2088540639316423,
          0.2806360803477628,
          0.2806360803477628,
          0.2848102374190373,
          0.2595797683962453,
          0.2972978274751826,
          0.181038499112872,
          0.2024870504026085,
          0.1630121387896899,
          0.1481878514242272,
          0.1300729830543205
         ],
         "yaxis": "y"
        },
        {
         "hovertemplate": "Team=Arizona Cardinals<br>Regular season week=%{x}<br>Predicted probability (making SB)=%{y}<extra></extra>",
         "legendgroup": "Arizona Cardinals",
         "line": {
          "color": "#FF6692",
          "dash": "solid"
         },
         "mode": "markers+lines",
         "name": "Arizona Cardinals",
         "orientation": "v",
         "showlegend": true,
         "type": "scatter",
         "x": [
          1,
          2,
          3,
          4,
          5,
          6,
          7,
          8,
          9,
          10,
          11,
          12,
          13,
          14,
          15
         ],
         "xaxis": "x",
         "y": [
          0.5124678299229849,
          0.3196937593918827,
          0.3327166406667319,
          0.3478605065215238,
          0.3259515001398984,
          0.3493411757599272,
          0.385268673549908,
          0.3435363240359848,
          0.3324756446260798,
          0.2533202356530183,
          0.2597170148350823,
          0.2597170148350823,
          0.2571734726641438,
          0.1847205341521188,
          0.1284496374890174
         ],
         "yaxis": "y"
        },
        {
         "hovertemplate": "Team=Cincinnati Bengals<br>Regular season week=%{x}<br>Predicted probability (making SB)=%{y}<extra></extra>",
         "legendgroup": "Cincinnati Bengals",
         "line": {
          "color": "#B6E880",
          "dash": "solid"
         },
         "mode": "markers+lines",
         "name": "Cincinnati Bengals",
         "orientation": "v",
         "showlegend": true,
         "type": "scatter",
         "x": [
          1,
          2,
          3,
          4,
          5,
          6,
          7,
          8,
          9,
          10,
          11,
          12,
          13,
          14,
          15
         ],
         "xaxis": "x",
         "y": [
          0.2800416219684842,
          0.1872396034690628,
          0.3826840124222722,
          0.2752313411704277,
          0.1777565599664533,
          0.2577041287165878,
          0.2645149769091477,
          0.1860459154064916,
          0.1130405502512922,
          0.1130405502512922,
          0.1130525690394058,
          0.1497149623247368,
          0.1336219794965439,
          0.1203733237300828,
          0.1246020134484655
         ],
         "yaxis": "y"
        },
        {
         "hovertemplate": "Team=Green Bay Packers<br>Regular season week=%{x}<br>Predicted probability (making SB)=%{y}<extra></extra>",
         "legendgroup": "Green Bay Packers",
         "line": {
          "color": "#FF97FF",
          "dash": "solid"
         },
         "mode": "markers+lines",
         "name": "Green Bay Packers",
         "orientation": "v",
         "showlegend": true,
         "type": "scatter",
         "x": [
          1,
          2,
          3,
          4,
          5,
          6,
          7,
          8,
          9,
          10,
          11,
          12,
          13,
          14,
          15
         ],
         "xaxis": "x",
         "y": [
          0.074059208003701,
          0.088752842509018,
          0.0894401410255243,
          0.1005388526334627,
          0.1186548021254657,
          0.130241244475328,
          0.1367034037961796,
          0.108128277746769,
          0.0978412608655926,
          0.1368963716030775,
          0.133362202353011,
          0.0962018892031826,
          0.0962018892031826,
          0.1181693023728377,
          0.1171145905563677
         ],
         "yaxis": "y"
        },
        {
         "hovertemplate": "Team=Kansas City Chiefs<br>Regular season week=%{x}<br>Predicted probability (making SB)=%{y}<extra></extra>",
         "legendgroup": "Kansas City Chiefs",
         "line": {
          "color": "#FECB52",
          "dash": "solid"
         },
         "mode": "markers+lines",
         "name": "Kansas City Chiefs",
         "orientation": "v",
         "showlegend": true,
         "type": "scatter",
         "x": [
          1,
          2,
          3,
          4,
          5,
          6,
          7,
          8,
          9,
          10,
          11,
          12,
          13,
          14,
          15
         ],
         "xaxis": "x",
         "y": [
          0.2460089974053893,
          0.3095954170644658,
          0.2490272445367974,
          0.285808796806642,
          0.2069958801583745,
          0.2219070306375134,
          0.1114724083947534,
          0.0919124415997664,
          0.0801592640617424,
          0.0992792740189623,
          0.0854899127464027,
          0.0854899127464027,
          0.0840247692414384,
          0.0871026569643512,
          0.1144174196899395
         ],
         "yaxis": "y"
        }
       ],
       "layout": {
        "height": 475,
        "legend": {
         "title": {
          "text": "Team"
         },
         "tracegroupgap": 0
        },
        "template": {
         "data": {
          "bar": [
           {
            "error_x": {
             "color": "#2a3f5f"
            },
            "error_y": {
             "color": "#2a3f5f"
            },
            "marker": {
             "line": {
              "color": "#E5ECF6",
              "width": 0.5
             },
             "pattern": {
              "fillmode": "overlay",
              "size": 10,
              "solidity": 0.2
             }
            },
            "type": "bar"
           }
          ],
          "barpolar": [
           {
            "marker": {
             "line": {
              "color": "#E5ECF6",
              "width": 0.5
             },
             "pattern": {
              "fillmode": "overlay",
              "size": 10,
              "solidity": 0.2
             }
            },
            "type": "barpolar"
           }
          ],
          "carpet": [
           {
            "aaxis": {
             "endlinecolor": "#2a3f5f",
             "gridcolor": "white",
             "linecolor": "white",
             "minorgridcolor": "white",
             "startlinecolor": "#2a3f5f"
            },
            "baxis": {
             "endlinecolor": "#2a3f5f",
             "gridcolor": "white",
             "linecolor": "white",
             "minorgridcolor": "white",
             "startlinecolor": "#2a3f5f"
            },
            "type": "carpet"
           }
          ],
          "choropleth": [
           {
            "colorbar": {
             "outlinewidth": 0,
             "ticks": ""
            },
            "type": "choropleth"
           }
          ],
          "contour": [
           {
            "colorbar": {
             "outlinewidth": 0,
             "ticks": ""
            },
            "colorscale": [
             [
              0,
              "#0d0887"
             ],
             [
              0.1111111111111111,
              "#46039f"
             ],
             [
              0.2222222222222222,
              "#7201a8"
             ],
             [
              0.3333333333333333,
              "#9c179e"
             ],
             [
              0.4444444444444444,
              "#bd3786"
             ],
             [
              0.5555555555555556,
              "#d8576b"
             ],
             [
              0.6666666666666666,
              "#ed7953"
             ],
             [
              0.7777777777777778,
              "#fb9f3a"
             ],
             [
              0.8888888888888888,
              "#fdca26"
             ],
             [
              1,
              "#f0f921"
             ]
            ],
            "type": "contour"
           }
          ],
          "contourcarpet": [
           {
            "colorbar": {
             "outlinewidth": 0,
             "ticks": ""
            },
            "type": "contourcarpet"
           }
          ],
          "heatmap": [
           {
            "colorbar": {
             "outlinewidth": 0,
             "ticks": ""
            },
            "colorscale": [
             [
              0,
              "#0d0887"
             ],
             [
              0.1111111111111111,
              "#46039f"
             ],
             [
              0.2222222222222222,
              "#7201a8"
             ],
             [
              0.3333333333333333,
              "#9c179e"
             ],
             [
              0.4444444444444444,
              "#bd3786"
             ],
             [
              0.5555555555555556,
              "#d8576b"
             ],
             [
              0.6666666666666666,
              "#ed7953"
             ],
             [
              0.7777777777777778,
              "#fb9f3a"
             ],
             [
              0.8888888888888888,
              "#fdca26"
             ],
             [
              1,
              "#f0f921"
             ]
            ],
            "type": "heatmap"
           }
          ],
          "heatmapgl": [
           {
            "colorbar": {
             "outlinewidth": 0,
             "ticks": ""
            },
            "colorscale": [
             [
              0,
              "#0d0887"
             ],
             [
              0.1111111111111111,
              "#46039f"
             ],
             [
              0.2222222222222222,
              "#7201a8"
             ],
             [
              0.3333333333333333,
              "#9c179e"
             ],
             [
              0.4444444444444444,
              "#bd3786"
             ],
             [
              0.5555555555555556,
              "#d8576b"
             ],
             [
              0.6666666666666666,
              "#ed7953"
             ],
             [
              0.7777777777777778,
              "#fb9f3a"
             ],
             [
              0.8888888888888888,
              "#fdca26"
             ],
             [
              1,
              "#f0f921"
             ]
            ],
            "type": "heatmapgl"
           }
          ],
          "histogram": [
           {
            "marker": {
             "pattern": {
              "fillmode": "overlay",
              "size": 10,
              "solidity": 0.2
             }
            },
            "type": "histogram"
           }
          ],
          "histogram2d": [
           {
            "colorbar": {
             "outlinewidth": 0,
             "ticks": ""
            },
            "colorscale": [
             [
              0,
              "#0d0887"
             ],
             [
              0.1111111111111111,
              "#46039f"
             ],
             [
              0.2222222222222222,
              "#7201a8"
             ],
             [
              0.3333333333333333,
              "#9c179e"
             ],
             [
              0.4444444444444444,
              "#bd3786"
             ],
             [
              0.5555555555555556,
              "#d8576b"
             ],
             [
              0.6666666666666666,
              "#ed7953"
             ],
             [
              0.7777777777777778,
              "#fb9f3a"
             ],
             [
              0.8888888888888888,
              "#fdca26"
             ],
             [
              1,
              "#f0f921"
             ]
            ],
            "type": "histogram2d"
           }
          ],
          "histogram2dcontour": [
           {
            "colorbar": {
             "outlinewidth": 0,
             "ticks": ""
            },
            "colorscale": [
             [
              0,
              "#0d0887"
             ],
             [
              0.1111111111111111,
              "#46039f"
             ],
             [
              0.2222222222222222,
              "#7201a8"
             ],
             [
              0.3333333333333333,
              "#9c179e"
             ],
             [
              0.4444444444444444,
              "#bd3786"
             ],
             [
              0.5555555555555556,
              "#d8576b"
             ],
             [
              0.6666666666666666,
              "#ed7953"
             ],
             [
              0.7777777777777778,
              "#fb9f3a"
             ],
             [
              0.8888888888888888,
              "#fdca26"
             ],
             [
              1,
              "#f0f921"
             ]
            ],
            "type": "histogram2dcontour"
           }
          ],
          "mesh3d": [
           {
            "colorbar": {
             "outlinewidth": 0,
             "ticks": ""
            },
            "type": "mesh3d"
           }
          ],
          "parcoords": [
           {
            "line": {
             "colorbar": {
              "outlinewidth": 0,
              "ticks": ""
             }
            },
            "type": "parcoords"
           }
          ],
          "pie": [
           {
            "automargin": true,
            "type": "pie"
           }
          ],
          "scatter": [
           {
            "marker": {
             "colorbar": {
              "outlinewidth": 0,
              "ticks": ""
             }
            },
            "type": "scatter"
           }
          ],
          "scatter3d": [
           {
            "line": {
             "colorbar": {
              "outlinewidth": 0,
              "ticks": ""
             }
            },
            "marker": {
             "colorbar": {
              "outlinewidth": 0,
              "ticks": ""
             }
            },
            "type": "scatter3d"
           }
          ],
          "scattercarpet": [
           {
            "marker": {
             "colorbar": {
              "outlinewidth": 0,
              "ticks": ""
             }
            },
            "type": "scattercarpet"
           }
          ],
          "scattergeo": [
           {
            "marker": {
             "colorbar": {
              "outlinewidth": 0,
              "ticks": ""
             }
            },
            "type": "scattergeo"
           }
          ],
          "scattergl": [
           {
            "marker": {
             "colorbar": {
              "outlinewidth": 0,
              "ticks": ""
             }
            },
            "type": "scattergl"
           }
          ],
          "scattermapbox": [
           {
            "marker": {
             "colorbar": {
              "outlinewidth": 0,
              "ticks": ""
             }
            },
            "type": "scattermapbox"
           }
          ],
          "scatterpolar": [
           {
            "marker": {
             "colorbar": {
              "outlinewidth": 0,
              "ticks": ""
             }
            },
            "type": "scatterpolar"
           }
          ],
          "scatterpolargl": [
           {
            "marker": {
             "colorbar": {
              "outlinewidth": 0,
              "ticks": ""
             }
            },
            "type": "scatterpolargl"
           }
          ],
          "scatterternary": [
           {
            "marker": {
             "colorbar": {
              "outlinewidth": 0,
              "ticks": ""
             }
            },
            "type": "scatterternary"
           }
          ],
          "surface": [
           {
            "colorbar": {
             "outlinewidth": 0,
             "ticks": ""
            },
            "colorscale": [
             [
              0,
              "#0d0887"
             ],
             [
              0.1111111111111111,
              "#46039f"
             ],
             [
              0.2222222222222222,
              "#7201a8"
             ],
             [
              0.3333333333333333,
              "#9c179e"
             ],
             [
              0.4444444444444444,
              "#bd3786"
             ],
             [
              0.5555555555555556,
              "#d8576b"
             ],
             [
              0.6666666666666666,
              "#ed7953"
             ],
             [
              0.7777777777777778,
              "#fb9f3a"
             ],
             [
              0.8888888888888888,
              "#fdca26"
             ],
             [
              1,
              "#f0f921"
             ]
            ],
            "type": "surface"
           }
          ],
          "table": [
           {
            "cells": {
             "fill": {
              "color": "#EBF0F8"
             },
             "line": {
              "color": "white"
             }
            },
            "header": {
             "fill": {
              "color": "#C8D4E3"
             },
             "line": {
              "color": "white"
             }
            },
            "type": "table"
           }
          ]
         },
         "layout": {
          "annotationdefaults": {
           "arrowcolor": "#2a3f5f",
           "arrowhead": 0,
           "arrowwidth": 1
          },
          "autotypenumbers": "strict",
          "coloraxis": {
           "colorbar": {
            "outlinewidth": 0,
            "ticks": ""
           }
          },
          "colorscale": {
           "diverging": [
            [
             0,
             "#8e0152"
            ],
            [
             0.1,
             "#c51b7d"
            ],
            [
             0.2,
             "#de77ae"
            ],
            [
             0.3,
             "#f1b6da"
            ],
            [
             0.4,
             "#fde0ef"
            ],
            [
             0.5,
             "#f7f7f7"
            ],
            [
             0.6,
             "#e6f5d0"
            ],
            [
             0.7,
             "#b8e186"
            ],
            [
             0.8,
             "#7fbc41"
            ],
            [
             0.9,
             "#4d9221"
            ],
            [
             1,
             "#276419"
            ]
           ],
           "sequential": [
            [
             0,
             "#0d0887"
            ],
            [
             0.1111111111111111,
             "#46039f"
            ],
            [
             0.2222222222222222,
             "#7201a8"
            ],
            [
             0.3333333333333333,
             "#9c179e"
            ],
            [
             0.4444444444444444,
             "#bd3786"
            ],
            [
             0.5555555555555556,
             "#d8576b"
            ],
            [
             0.6666666666666666,
             "#ed7953"
            ],
            [
             0.7777777777777778,
             "#fb9f3a"
            ],
            [
             0.8888888888888888,
             "#fdca26"
            ],
            [
             1,
             "#f0f921"
            ]
           ],
           "sequentialminus": [
            [
             0,
             "#0d0887"
            ],
            [
             0.1111111111111111,
             "#46039f"
            ],
            [
             0.2222222222222222,
             "#7201a8"
            ],
            [
             0.3333333333333333,
             "#9c179e"
            ],
            [
             0.4444444444444444,
             "#bd3786"
            ],
            [
             0.5555555555555556,
             "#d8576b"
            ],
            [
             0.6666666666666666,
             "#ed7953"
            ],
            [
             0.7777777777777778,
             "#fb9f3a"
            ],
            [
             0.8888888888888888,
             "#fdca26"
            ],
            [
             1,
             "#f0f921"
            ]
           ]
          },
          "colorway": [
           "#636efa",
           "#EF553B",
           "#00cc96",
           "#ab63fa",
           "#FFA15A",
           "#19d3f3",
           "#FF6692",
           "#B6E880",
           "#FF97FF",
           "#FECB52"
          ],
          "font": {
           "color": "#2a3f5f"
          },
          "geo": {
           "bgcolor": "white",
           "lakecolor": "white",
           "landcolor": "#E5ECF6",
           "showlakes": true,
           "showland": true,
           "subunitcolor": "white"
          },
          "hoverlabel": {
           "align": "left"
          },
          "hovermode": "closest",
          "mapbox": {
           "style": "light"
          },
          "paper_bgcolor": "white",
          "plot_bgcolor": "#E5ECF6",
          "polar": {
           "angularaxis": {
            "gridcolor": "white",
            "linecolor": "white",
            "ticks": ""
           },
           "bgcolor": "#E5ECF6",
           "radialaxis": {
            "gridcolor": "white",
            "linecolor": "white",
            "ticks": ""
           }
          },
          "scene": {
           "xaxis": {
            "backgroundcolor": "#E5ECF6",
            "gridcolor": "white",
            "gridwidth": 2,
            "linecolor": "white",
            "showbackground": true,
            "ticks": "",
            "zerolinecolor": "white"
           },
           "yaxis": {
            "backgroundcolor": "#E5ECF6",
            "gridcolor": "white",
            "gridwidth": 2,
            "linecolor": "white",
            "showbackground": true,
            "ticks": "",
            "zerolinecolor": "white"
           },
           "zaxis": {
            "backgroundcolor": "#E5ECF6",
            "gridcolor": "white",
            "gridwidth": 2,
            "linecolor": "white",
            "showbackground": true,
            "ticks": "",
            "zerolinecolor": "white"
           }
          },
          "shapedefaults": {
           "line": {
            "color": "#2a3f5f"
           }
          },
          "ternary": {
           "aaxis": {
            "gridcolor": "white",
            "linecolor": "white",
            "ticks": ""
           },
           "baxis": {
            "gridcolor": "white",
            "linecolor": "white",
            "ticks": ""
           },
           "bgcolor": "#E5ECF6",
           "caxis": {
            "gridcolor": "white",
            "linecolor": "white",
            "ticks": ""
           }
          },
          "title": {
           "x": 0.05
          },
          "xaxis": {
           "automargin": true,
           "gridcolor": "white",
           "linecolor": "white",
           "ticks": "",
           "title": {
            "standoff": 15
           },
           "zerolinecolor": "white",
           "zerolinewidth": 2
          },
          "yaxis": {
           "automargin": true,
           "gridcolor": "white",
           "linecolor": "white",
           "ticks": "",
           "title": {
            "standoff": 15
           },
           "zerolinecolor": "white",
           "zerolinewidth": 2
          }
         }
        },
        "title": {
         "text": "Top 10 teams to make it to the Super Bowl in the 2021 NFL season"
        },
        "width": 950,
        "xaxis": {
         "anchor": "y",
         "domain": [
          0,
          1
         ],
         "title": {
          "text": "Regular season week"
         }
        },
        "yaxis": {
         "anchor": "x",
         "domain": [
          0,
          1
         ],
         "tickfont": {
          "size": 8
         },
         "title": {
          "text": "Predicted probability (making SB)"
         }
        }
       }
      }
     },
     "metadata": {},
     "output_type": "display_data"
    }
   ],
   "source": [
    "legend_order = data_for_plotting[data_for_plotting['week'] == int(last_week)]['Team'].tolist()\n",
    "\n",
    "fig = px.line(data_for_plotting, 'week', 'predicted_probability', color = 'Team', \n",
    "              title = 'Top 10 teams to make it to the Super Bowl in the 2021 NFL season', \n",
    "              labels = {'week' : 'Regular season week', 'predicted_probability' : 'Predicted probability (making SB)'},\n",
    "              width = 950, height = 475, category_orders={\"Team\": legend_order})\n",
    "fig.update_yaxes(tickfont = {'size' : 8})\n",
    "fig.update_traces(mode = 'markers+lines')\n",
    "fig.show()"
   ]
  },
  {
   "cell_type": "code",
   "execution_count": null,
   "id": "d14a3d67",
   "metadata": {},
   "outputs": [],
   "source": []
  },
  {
   "cell_type": "markdown",
   "id": "813081be",
   "metadata": {},
   "source": [
    "Largest differences to week 1"
   ]
  },
  {
   "cell_type": "code",
   "execution_count": 10,
   "id": "8b5fd924",
   "metadata": {},
   "outputs": [],
   "source": [
    "first_week = str(data_for_plotting['week'].min())\n",
    "last_week = str(data_for_plotting['week'].max())"
   ]
  },
  {
   "cell_type": "code",
   "execution_count": 11,
   "id": "9da57d30",
   "metadata": {},
   "outputs": [],
   "source": [
    "first_last_weeks = pred_types_collected[select_pred_type][['Team', first_week, last_week]]\n",
    "\n",
    "first_last_weeks['diff_ABS'] = first_last_weeks[last_week] - first_last_weeks[first_week]\n",
    "first_last_weeks['diff_REL'] = first_last_weeks[last_week] / first_last_weeks[first_week] - 1"
   ]
  },
  {
   "cell_type": "code",
   "execution_count": 12,
   "id": "2a42baf9",
   "metadata": {},
   "outputs": [
    {
     "data": {
      "text/html": [
       "<div>\n",
       "<style scoped>\n",
       "    .dataframe tbody tr th:only-of-type {\n",
       "        vertical-align: middle;\n",
       "    }\n",
       "\n",
       "    .dataframe tbody tr th {\n",
       "        vertical-align: top;\n",
       "    }\n",
       "\n",
       "    .dataframe thead th {\n",
       "        text-align: right;\n",
       "    }\n",
       "</style>\n",
       "<table border=\"1\" class=\"dataframe\">\n",
       "  <thead>\n",
       "    <tr style=\"text-align: right;\">\n",
       "      <th></th>\n",
       "      <th>Team</th>\n",
       "      <th>diff_ABS</th>\n",
       "    </tr>\n",
       "  </thead>\n",
       "  <tbody>\n",
       "    <tr>\n",
       "      <th>0</th>\n",
       "      <td>Arizona Cardinals</td>\n",
       "      <td>-0.384018</td>\n",
       "    </tr>\n",
       "    <tr>\n",
       "      <th>2</th>\n",
       "      <td>San Francisco 49ers</td>\n",
       "      <td>-0.317484</td>\n",
       "    </tr>\n",
       "    <tr>\n",
       "      <th>3</th>\n",
       "      <td>Seattle Seahawks</td>\n",
       "      <td>-0.301818</td>\n",
       "    </tr>\n",
       "    <tr>\n",
       "      <th>1</th>\n",
       "      <td>Los Angeles Rams</td>\n",
       "      <td>-0.235473</td>\n",
       "    </tr>\n",
       "    <tr>\n",
       "      <th>4</th>\n",
       "      <td>Philadelphia Eagles</td>\n",
       "      <td>-0.225535</td>\n",
       "    </tr>\n",
       "    <tr>\n",
       "      <th>6</th>\n",
       "      <td>New Orleans Saints</td>\n",
       "      <td>-0.219603</td>\n",
       "    </tr>\n",
       "    <tr>\n",
       "      <th>9</th>\n",
       "      <td>Houston Texans</td>\n",
       "      <td>-0.183971</td>\n",
       "    </tr>\n",
       "    <tr>\n",
       "      <th>7</th>\n",
       "      <td>Cincinnati Bengals</td>\n",
       "      <td>-0.155440</td>\n",
       "    </tr>\n",
       "    <tr>\n",
       "      <th>11</th>\n",
       "      <td>Baltimore Ravens</td>\n",
       "      <td>-0.134583</td>\n",
       "    </tr>\n",
       "    <tr>\n",
       "      <th>13</th>\n",
       "      <td>Cleveland Browns</td>\n",
       "      <td>-0.132499</td>\n",
       "    </tr>\n",
       "    <tr>\n",
       "      <th>8</th>\n",
       "      <td>Kansas City Chiefs</td>\n",
       "      <td>-0.131592</td>\n",
       "    </tr>\n",
       "    <tr>\n",
       "      <th>10</th>\n",
       "      <td>Carolina Panthers</td>\n",
       "      <td>-0.127639</td>\n",
       "    </tr>\n",
       "    <tr>\n",
       "      <th>15</th>\n",
       "      <td>Pittsburgh Steelers</td>\n",
       "      <td>-0.112217</td>\n",
       "    </tr>\n",
       "    <tr>\n",
       "      <th>5</th>\n",
       "      <td>Tampa Bay Buccaneers</td>\n",
       "      <td>-0.112180</td>\n",
       "    </tr>\n",
       "    <tr>\n",
       "      <th>16</th>\n",
       "      <td>Detroit Lions</td>\n",
       "      <td>-0.106915</td>\n",
       "    </tr>\n",
       "    <tr>\n",
       "      <th>12</th>\n",
       "      <td>Las Vegas Raiders</td>\n",
       "      <td>-0.082643</td>\n",
       "    </tr>\n",
       "    <tr>\n",
       "      <th>17</th>\n",
       "      <td>Denver Broncos</td>\n",
       "      <td>-0.082382</td>\n",
       "    </tr>\n",
       "    <tr>\n",
       "      <th>18</th>\n",
       "      <td>Miami Dolphins</td>\n",
       "      <td>-0.063066</td>\n",
       "    </tr>\n",
       "    <tr>\n",
       "      <th>24</th>\n",
       "      <td>Jacksonville Jaguars</td>\n",
       "      <td>-0.050542</td>\n",
       "    </tr>\n",
       "    <tr>\n",
       "      <th>14</th>\n",
       "      <td>Dallas Cowboys</td>\n",
       "      <td>-0.040075</td>\n",
       "    </tr>\n",
       "    <tr>\n",
       "      <th>23</th>\n",
       "      <td>New York Giants</td>\n",
       "      <td>-0.036202</td>\n",
       "    </tr>\n",
       "    <tr>\n",
       "      <th>25</th>\n",
       "      <td>Washington</td>\n",
       "      <td>-0.025084</td>\n",
       "    </tr>\n",
       "    <tr>\n",
       "      <th>19</th>\n",
       "      <td>Minnesota Vikings</td>\n",
       "      <td>-0.023823</td>\n",
       "    </tr>\n",
       "    <tr>\n",
       "      <th>21</th>\n",
       "      <td>Los Angeles Chargers</td>\n",
       "      <td>-0.018248</td>\n",
       "    </tr>\n",
       "    <tr>\n",
       "      <th>27</th>\n",
       "      <td>Atlanta Falcons</td>\n",
       "      <td>-0.018069</td>\n",
       "    </tr>\n",
       "    <tr>\n",
       "      <th>29</th>\n",
       "      <td>New York Jets</td>\n",
       "      <td>-0.011514</td>\n",
       "    </tr>\n",
       "    <tr>\n",
       "      <th>28</th>\n",
       "      <td>Chicago Bears</td>\n",
       "      <td>0.005916</td>\n",
       "    </tr>\n",
       "    <tr>\n",
       "      <th>31</th>\n",
       "      <td>Tennessee Titans</td>\n",
       "      <td>0.029863</td>\n",
       "    </tr>\n",
       "    <tr>\n",
       "      <th>22</th>\n",
       "      <td>New England Patriots</td>\n",
       "      <td>0.040045</td>\n",
       "    </tr>\n",
       "    <tr>\n",
       "      <th>26</th>\n",
       "      <td>Green Bay Packers</td>\n",
       "      <td>0.043055</td>\n",
       "    </tr>\n",
       "    <tr>\n",
       "      <th>30</th>\n",
       "      <td>Indianapolis Colts</td>\n",
       "      <td>0.044681</td>\n",
       "    </tr>\n",
       "    <tr>\n",
       "      <th>20</th>\n",
       "      <td>Buffalo Bills</td>\n",
       "      <td>0.060253</td>\n",
       "    </tr>\n",
       "  </tbody>\n",
       "</table>\n",
       "</div>"
      ],
      "text/plain": [
       "                    Team  diff_ABS\n",
       "0      Arizona Cardinals -0.384018\n",
       "2    San Francisco 49ers -0.317484\n",
       "3       Seattle Seahawks -0.301818\n",
       "1       Los Angeles Rams -0.235473\n",
       "4    Philadelphia Eagles -0.225535\n",
       "6     New Orleans Saints -0.219603\n",
       "9         Houston Texans -0.183971\n",
       "7     Cincinnati Bengals -0.155440\n",
       "11      Baltimore Ravens -0.134583\n",
       "13      Cleveland Browns -0.132499\n",
       "8     Kansas City Chiefs -0.131592\n",
       "10     Carolina Panthers -0.127639\n",
       "15   Pittsburgh Steelers -0.112217\n",
       "5   Tampa Bay Buccaneers -0.112180\n",
       "16         Detroit Lions -0.106915\n",
       "12     Las Vegas Raiders -0.082643\n",
       "17        Denver Broncos -0.082382\n",
       "18        Miami Dolphins -0.063066\n",
       "24  Jacksonville Jaguars -0.050542\n",
       "14        Dallas Cowboys -0.040075\n",
       "23       New York Giants -0.036202\n",
       "25            Washington -0.025084\n",
       "19     Minnesota Vikings -0.023823\n",
       "21  Los Angeles Chargers -0.018248\n",
       "27       Atlanta Falcons -0.018069\n",
       "29         New York Jets -0.011514\n",
       "28         Chicago Bears  0.005916\n",
       "31      Tennessee Titans  0.029863\n",
       "22  New England Patriots  0.040045\n",
       "26     Green Bay Packers  0.043055\n",
       "30    Indianapolis Colts  0.044681\n",
       "20         Buffalo Bills  0.060253"
      ]
     },
     "execution_count": 12,
     "metadata": {},
     "output_type": "execute_result"
    }
   ],
   "source": [
    "first_last_weeks.sort_values('diff_ABS')[['Team', 'diff_ABS']]"
   ]
  },
  {
   "cell_type": "code",
   "execution_count": 13,
   "id": "f10cf049",
   "metadata": {},
   "outputs": [
    {
     "data": {
      "text/html": [
       "<div>\n",
       "<style scoped>\n",
       "    .dataframe tbody tr th:only-of-type {\n",
       "        vertical-align: middle;\n",
       "    }\n",
       "\n",
       "    .dataframe tbody tr th {\n",
       "        vertical-align: top;\n",
       "    }\n",
       "\n",
       "    .dataframe thead th {\n",
       "        text-align: right;\n",
       "    }\n",
       "</style>\n",
       "<table border=\"1\" class=\"dataframe\">\n",
       "  <thead>\n",
       "    <tr style=\"text-align: right;\">\n",
       "      <th></th>\n",
       "      <th>Team</th>\n",
       "      <th>diff_REL</th>\n",
       "    </tr>\n",
       "  </thead>\n",
       "  <tbody>\n",
       "    <tr>\n",
       "      <th>3</th>\n",
       "      <td>Seattle Seahawks</td>\n",
       "      <td>-0.784575</td>\n",
       "    </tr>\n",
       "    <tr>\n",
       "      <th>9</th>\n",
       "      <td>Houston Texans</td>\n",
       "      <td>-0.782178</td>\n",
       "    </tr>\n",
       "    <tr>\n",
       "      <th>6</th>\n",
       "      <td>New Orleans Saints</td>\n",
       "      <td>-0.768845</td>\n",
       "    </tr>\n",
       "    <tr>\n",
       "      <th>0</th>\n",
       "      <td>Arizona Cardinals</td>\n",
       "      <td>-0.749351</td>\n",
       "    </tr>\n",
       "    <tr>\n",
       "      <th>4</th>\n",
       "      <td>Philadelphia Eagles</td>\n",
       "      <td>-0.710410</td>\n",
       "    </tr>\n",
       "    <tr>\n",
       "      <th>2</th>\n",
       "      <td>San Francisco 49ers</td>\n",
       "      <td>-0.701311</td>\n",
       "    </tr>\n",
       "    <tr>\n",
       "      <th>13</th>\n",
       "      <td>Cleveland Browns</td>\n",
       "      <td>-0.700290</td>\n",
       "    </tr>\n",
       "    <tr>\n",
       "      <th>16</th>\n",
       "      <td>Detroit Lions</td>\n",
       "      <td>-0.685415</td>\n",
       "    </tr>\n",
       "    <tr>\n",
       "      <th>11</th>\n",
       "      <td>Baltimore Ravens</td>\n",
       "      <td>-0.667050</td>\n",
       "    </tr>\n",
       "    <tr>\n",
       "      <th>15</th>\n",
       "      <td>Pittsburgh Steelers</td>\n",
       "      <td>-0.665630</td>\n",
       "    </tr>\n",
       "    <tr>\n",
       "      <th>10</th>\n",
       "      <td>Carolina Panthers</td>\n",
       "      <td>-0.627033</td>\n",
       "    </tr>\n",
       "    <tr>\n",
       "      <th>17</th>\n",
       "      <td>Denver Broncos</td>\n",
       "      <td>-0.577038</td>\n",
       "    </tr>\n",
       "    <tr>\n",
       "      <th>7</th>\n",
       "      <td>Cincinnati Bengals</td>\n",
       "      <td>-0.555059</td>\n",
       "    </tr>\n",
       "    <tr>\n",
       "      <th>8</th>\n",
       "      <td>Kansas City Chiefs</td>\n",
       "      <td>-0.534906</td>\n",
       "    </tr>\n",
       "    <tr>\n",
       "      <th>24</th>\n",
       "      <td>Jacksonville Jaguars</td>\n",
       "      <td>-0.505609</td>\n",
       "    </tr>\n",
       "    <tr>\n",
       "      <th>1</th>\n",
       "      <td>Los Angeles Rams</td>\n",
       "      <td>-0.483850</td>\n",
       "    </tr>\n",
       "    <tr>\n",
       "      <th>18</th>\n",
       "      <td>Miami Dolphins</td>\n",
       "      <td>-0.456491</td>\n",
       "    </tr>\n",
       "    <tr>\n",
       "      <th>12</th>\n",
       "      <td>Las Vegas Raiders</td>\n",
       "      <td>-0.427891</td>\n",
       "    </tr>\n",
       "    <tr>\n",
       "      <th>5</th>\n",
       "      <td>Tampa Bay Buccaneers</td>\n",
       "      <td>-0.379616</td>\n",
       "    </tr>\n",
       "    <tr>\n",
       "      <th>23</th>\n",
       "      <td>New York Giants</td>\n",
       "      <td>-0.359786</td>\n",
       "    </tr>\n",
       "    <tr>\n",
       "      <th>25</th>\n",
       "      <td>Washington</td>\n",
       "      <td>-0.332329</td>\n",
       "    </tr>\n",
       "    <tr>\n",
       "      <th>27</th>\n",
       "      <td>Atlanta Falcons</td>\n",
       "      <td>-0.259890</td>\n",
       "    </tr>\n",
       "    <tr>\n",
       "      <th>14</th>\n",
       "      <td>Dallas Cowboys</td>\n",
       "      <td>-0.235528</td>\n",
       "    </tr>\n",
       "    <tr>\n",
       "      <th>19</th>\n",
       "      <td>Minnesota Vikings</td>\n",
       "      <td>-0.186112</td>\n",
       "    </tr>\n",
       "    <tr>\n",
       "      <th>29</th>\n",
       "      <td>New York Jets</td>\n",
       "      <td>-0.182234</td>\n",
       "    </tr>\n",
       "    <tr>\n",
       "      <th>21</th>\n",
       "      <td>Los Angeles Chargers</td>\n",
       "      <td>-0.170654</td>\n",
       "    </tr>\n",
       "    <tr>\n",
       "      <th>28</th>\n",
       "      <td>Chicago Bears</td>\n",
       "      <td>0.086411</td>\n",
       "    </tr>\n",
       "    <tr>\n",
       "      <th>22</th>\n",
       "      <td>New England Patriots</td>\n",
       "      <td>0.396251</td>\n",
       "    </tr>\n",
       "    <tr>\n",
       "      <th>20</th>\n",
       "      <td>Buffalo Bills</td>\n",
       "      <td>0.557862</td>\n",
       "    </tr>\n",
       "    <tr>\n",
       "      <th>26</th>\n",
       "      <td>Green Bay Packers</td>\n",
       "      <td>0.581364</td>\n",
       "    </tr>\n",
       "    <tr>\n",
       "      <th>31</th>\n",
       "      <td>Tennessee Titans</td>\n",
       "      <td>0.581864</td>\n",
       "    </tr>\n",
       "    <tr>\n",
       "      <th>30</th>\n",
       "      <td>Indianapolis Colts</td>\n",
       "      <td>0.710224</td>\n",
       "    </tr>\n",
       "  </tbody>\n",
       "</table>\n",
       "</div>"
      ],
      "text/plain": [
       "                    Team  diff_REL\n",
       "3       Seattle Seahawks -0.784575\n",
       "9         Houston Texans -0.782178\n",
       "6     New Orleans Saints -0.768845\n",
       "0      Arizona Cardinals -0.749351\n",
       "4    Philadelphia Eagles -0.710410\n",
       "2    San Francisco 49ers -0.701311\n",
       "13      Cleveland Browns -0.700290\n",
       "16         Detroit Lions -0.685415\n",
       "11      Baltimore Ravens -0.667050\n",
       "15   Pittsburgh Steelers -0.665630\n",
       "10     Carolina Panthers -0.627033\n",
       "17        Denver Broncos -0.577038\n",
       "7     Cincinnati Bengals -0.555059\n",
       "8     Kansas City Chiefs -0.534906\n",
       "24  Jacksonville Jaguars -0.505609\n",
       "1       Los Angeles Rams -0.483850\n",
       "18        Miami Dolphins -0.456491\n",
       "12     Las Vegas Raiders -0.427891\n",
       "5   Tampa Bay Buccaneers -0.379616\n",
       "23       New York Giants -0.359786\n",
       "25            Washington -0.332329\n",
       "27       Atlanta Falcons -0.259890\n",
       "14        Dallas Cowboys -0.235528\n",
       "19     Minnesota Vikings -0.186112\n",
       "29         New York Jets -0.182234\n",
       "21  Los Angeles Chargers -0.170654\n",
       "28         Chicago Bears  0.086411\n",
       "22  New England Patriots  0.396251\n",
       "20         Buffalo Bills  0.557862\n",
       "26     Green Bay Packers  0.581364\n",
       "31      Tennessee Titans  0.581864\n",
       "30    Indianapolis Colts  0.710224"
      ]
     },
     "execution_count": 13,
     "metadata": {},
     "output_type": "execute_result"
    }
   ],
   "source": [
    "first_last_weeks.sort_values('diff_REL')[['Team', 'diff_REL']]"
   ]
  },
  {
   "cell_type": "code",
   "execution_count": null,
   "id": "57d071f6",
   "metadata": {},
   "outputs": [],
   "source": []
  }
 ],
 "metadata": {
  "interpreter": {
   "hash": "c1c82bdd170d252fe165a9bec4d731e9ac025b41ad0f7b30ff5fda4e58991de2"
  },
  "kernelspec": {
   "display_name": "Python 3.8.8 64-bit ('base': conda)",
   "name": "python3"
  },
  "language_info": {
   "codemirror_mode": {
    "name": "ipython",
    "version": 3
   },
   "file_extension": ".py",
   "mimetype": "text/x-python",
   "name": "python",
   "nbconvert_exporter": "python",
   "pygments_lexer": "ipython3",
   "version": "3.8.8"
  }
 },
 "nbformat": 4,
 "nbformat_minor": 5
}
