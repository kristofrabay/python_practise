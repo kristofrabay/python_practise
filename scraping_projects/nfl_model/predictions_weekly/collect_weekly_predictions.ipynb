{
 "cells": [
  {
   "cell_type": "code",
   "execution_count": 1,
   "id": "c82e6de2",
   "metadata": {},
   "outputs": [],
   "source": [
    "import pandas as pd\n",
    "import numpy as np\n",
    "import os\n",
    "\n",
    "import re\n",
    "\n",
    "from functools import reduce\n",
    "\n",
    "import plotly.express as px\n",
    "\n",
    "import warnings\n",
    "warnings.filterwarnings('ignore')"
   ]
  },
  {
   "cell_type": "code",
   "execution_count": 2,
   "id": "09dbd108",
   "metadata": {},
   "outputs": [
    {
     "name": "stdout",
     "output_type": "stream",
     "text": [
      "['week_1.csv', 'week_10.csv', 'week_2.csv', 'week_3.csv', 'week_4.csv', 'week_5.csv', 'week_6.csv', 'week_7.csv', 'week_8.csv', 'week_9.csv']\n"
     ]
    }
   ],
   "source": [
    "weekly_data_tables = os.listdir('weekly_runs_2022/')\n",
    "print(weekly_data_tables)"
   ]
  },
  {
   "cell_type": "code",
   "execution_count": 3,
   "id": "07e0656f",
   "metadata": {},
   "outputs": [],
   "source": [
    "collection = []\n",
    "\n",
    "for weekly_data in weekly_data_tables:\n",
    "    collection.append(pd.read_csv('weekly_runs_2022/' + weekly_data))"
   ]
  },
  {
   "cell_type": "code",
   "execution_count": 4,
   "id": "014530d8",
   "metadata": {},
   "outputs": [
    {
     "name": "stdout",
     "output_type": "stream",
     "text": [
      "Wall time: 1.23 s\n"
     ]
    }
   ],
   "source": [
    "%%time\n",
    "\n",
    "pred_types = ['pred_logit', 'pred_rf', 'pred_gbm', 'pred_lgb', 'pred_catboost', 'pred_mean', 'pred_opt_combo']\n",
    "pred_types_collected = {}\n",
    "\n",
    "for pred_type in pred_types:\n",
    "    \n",
    "    keep_cols = ['Team', 'season', 'week_marker', pred_type]    \n",
    "    pred_types_data = []\n",
    "    \n",
    "    for i in collection:\n",
    "        data_for_pred_type = i[keep_cols].copy()\n",
    "        \n",
    "        week_marker = data_for_pred_type['week_marker'].unique().item()\n",
    "        data_for_pred_type.rename(columns = {pred_type : pred_type + '_' + week_marker}, inplace = True)\n",
    "        data_for_pred_type.drop(['week_marker', 'season'], 1, inplace = True)\n",
    "        \n",
    "        pred_types_data.append(data_for_pred_type)\n",
    "        \n",
    "    pred_types_data = reduce(lambda  a,b: pd.merge(a,b, on = ['Team'], how='outer'), pred_types_data)\n",
    "    pred_types_data.sort_values(pred_types_data.columns[-1], ascending = False, inplace = True)\n",
    "    \n",
    "    columns = [re.sub('[^0-9]', '', i) if i != 'Team' else i for i in pred_types_data.columns]\n",
    "    pred_types_data.columns = columns\n",
    "        \n",
    "    pred_types_collected[pred_type] = pred_types_data  "
   ]
  },
  {
   "cell_type": "code",
   "execution_count": 5,
   "id": "4d0b8803",
   "metadata": {},
   "outputs": [
    {
     "data": {
      "text/html": [
       "<div>\n",
       "<style scoped>\n",
       "    .dataframe tbody tr th:only-of-type {\n",
       "        vertical-align: middle;\n",
       "    }\n",
       "\n",
       "    .dataframe tbody tr th {\n",
       "        vertical-align: top;\n",
       "    }\n",
       "\n",
       "    .dataframe thead th {\n",
       "        text-align: right;\n",
       "    }\n",
       "</style>\n",
       "<table border=\"1\" class=\"dataframe\">\n",
       "  <thead>\n",
       "    <tr style=\"text-align: right;\">\n",
       "      <th></th>\n",
       "      <th>Team</th>\n",
       "      <th>1</th>\n",
       "      <th>10</th>\n",
       "      <th>2</th>\n",
       "      <th>3</th>\n",
       "      <th>4</th>\n",
       "      <th>5</th>\n",
       "      <th>6</th>\n",
       "      <th>7</th>\n",
       "      <th>8</th>\n",
       "      <th>9</th>\n",
       "    </tr>\n",
       "  </thead>\n",
       "  <tbody>\n",
       "    <tr>\n",
       "      <th>0</th>\n",
       "      <td>Buffalo Bills</td>\n",
       "      <td>0.486035</td>\n",
       "      <td>0.419295</td>\n",
       "      <td>0.491504</td>\n",
       "      <td>0.431212</td>\n",
       "      <td>0.407388</td>\n",
       "      <td>0.481661</td>\n",
       "      <td>0.476485</td>\n",
       "      <td>0.476485</td>\n",
       "      <td>0.464177</td>\n",
       "      <td>0.443649</td>\n",
       "    </tr>\n",
       "    <tr>\n",
       "      <th>1</th>\n",
       "      <td>Kansas City Chiefs</td>\n",
       "      <td>0.479041</td>\n",
       "      <td>0.406845</td>\n",
       "      <td>0.406226</td>\n",
       "      <td>0.500262</td>\n",
       "      <td>0.451168</td>\n",
       "      <td>0.414523</td>\n",
       "      <td>0.377577</td>\n",
       "      <td>0.426640</td>\n",
       "      <td>0.426640</td>\n",
       "      <td>0.381789</td>\n",
       "    </tr>\n",
       "    <tr>\n",
       "      <th>20</th>\n",
       "      <td>Philadelphia Eagles</td>\n",
       "      <td>0.309424</td>\n",
       "      <td>0.354647</td>\n",
       "      <td>0.346565</td>\n",
       "      <td>0.454667</td>\n",
       "      <td>0.389922</td>\n",
       "      <td>0.353996</td>\n",
       "      <td>0.336533</td>\n",
       "      <td>0.336533</td>\n",
       "      <td>0.375131</td>\n",
       "      <td>0.378993</td>\n",
       "    </tr>\n",
       "    <tr>\n",
       "      <th>18</th>\n",
       "      <td>Dallas Cowboys</td>\n",
       "      <td>0.311082</td>\n",
       "      <td>0.306277</td>\n",
       "      <td>0.309917</td>\n",
       "      <td>0.306784</td>\n",
       "      <td>0.341420</td>\n",
       "      <td>0.336636</td>\n",
       "      <td>0.327740</td>\n",
       "      <td>0.324479</td>\n",
       "      <td>0.341162</td>\n",
       "      <td>0.341162</td>\n",
       "    </tr>\n",
       "    <tr>\n",
       "      <th>30</th>\n",
       "      <td>San Francisco 49ers</td>\n",
       "      <td>0.293839</td>\n",
       "      <td>0.323265</td>\n",
       "      <td>0.302512</td>\n",
       "      <td>0.311160</td>\n",
       "      <td>0.382730</td>\n",
       "      <td>0.423611</td>\n",
       "      <td>0.376081</td>\n",
       "      <td>0.306966</td>\n",
       "      <td>0.333736</td>\n",
       "      <td>0.333736</td>\n",
       "    </tr>\n",
       "  </tbody>\n",
       "</table>\n",
       "</div>"
      ],
      "text/plain": [
       "                   Team         1        10         2         3         4  \\\n",
       "0         Buffalo Bills  0.486035  0.419295  0.491504  0.431212  0.407388   \n",
       "1    Kansas City Chiefs  0.479041  0.406845  0.406226  0.500262  0.451168   \n",
       "20  Philadelphia Eagles  0.309424  0.354647  0.346565  0.454667  0.389922   \n",
       "18       Dallas Cowboys  0.311082  0.306277  0.309917  0.306784  0.341420   \n",
       "30  San Francisco 49ers  0.293839  0.323265  0.302512  0.311160  0.382730   \n",
       "\n",
       "           5         6         7         8         9  \n",
       "0   0.481661  0.476485  0.476485  0.464177  0.443649  \n",
       "1   0.414523  0.377577  0.426640  0.426640  0.381789  \n",
       "20  0.353996  0.336533  0.336533  0.375131  0.378993  \n",
       "18  0.336636  0.327740  0.324479  0.341162  0.341162  \n",
       "30  0.423611  0.376081  0.306966  0.333736  0.333736  "
      ]
     },
     "execution_count": 5,
     "metadata": {},
     "output_type": "execute_result"
    }
   ],
   "source": [
    "select_pred_type = 'pred_opt_combo'\n",
    "\n",
    "pred_types_collected[select_pred_type].head()"
   ]
  },
  {
   "cell_type": "code",
   "execution_count": 6,
   "id": "9bccf0e9",
   "metadata": {},
   "outputs": [],
   "source": [
    "last_week = str(max([int(i) for i in pred_types_collected[select_pred_type].columns[1:]]))\n",
    "data_for_plotting = pred_types_collected[select_pred_type].sort_values(last_week, ascending = False).head(10).melt(id_vars = 'Team', var_name = 'week', value_name = 'predicted_probability')"
   ]
  },
  {
   "cell_type": "code",
   "execution_count": 7,
   "id": "d5d94e9d",
   "metadata": {},
   "outputs": [],
   "source": [
    "data_for_plotting['week'] = data_for_plotting['week'].astype(int)\n",
    "data_for_plotting.sort_values(['week', 'predicted_probability'], ascending = [True, False], inplace = True)"
   ]
  },
  {
   "cell_type": "code",
   "execution_count": 8,
   "id": "55400a72",
   "metadata": {},
   "outputs": [
    {
     "data": {
      "application/vnd.plotly.v1+json": {
       "config": {
        "plotlyServerURL": "https://plot.ly"
       },
       "data": [
        {
         "hovertemplate": "Team=Buffalo Bills<br>Regular season week=%{x}<br>Predicted probability (making SB)=%{y}<extra></extra>",
         "legendgroup": "Buffalo Bills",
         "line": {
          "color": "#636efa",
          "dash": "solid"
         },
         "marker": {
          "size": 10,
          "symbol": "circle"
         },
         "mode": "markers+lines",
         "name": "Buffalo Bills",
         "orientation": "v",
         "showlegend": true,
         "type": "scatter",
         "x": [
          1,
          2,
          3,
          4,
          5,
          6,
          7,
          8,
          9,
          10
         ],
         "xaxis": "x",
         "y": [
          0.4860346930208458,
          0.4915040823435248,
          0.4312120086517247,
          0.4073884044066923,
          0.4816610357510962,
          0.4764852998086448,
          0.4764852998086448,
          0.4641767952134864,
          0.443649221585312,
          0.4192954756273664
         ],
         "yaxis": "y"
        },
        {
         "hovertemplate": "Team=Kansas City Chiefs<br>Regular season week=%{x}<br>Predicted probability (making SB)=%{y}<extra></extra>",
         "legendgroup": "Kansas City Chiefs",
         "line": {
          "color": "#EF553B",
          "dash": "solid"
         },
         "marker": {
          "size": 10,
          "symbol": "circle"
         },
         "mode": "markers+lines",
         "name": "Kansas City Chiefs",
         "orientation": "v",
         "showlegend": true,
         "type": "scatter",
         "x": [
          1,
          2,
          3,
          4,
          5,
          6,
          7,
          8,
          9,
          10
         ],
         "xaxis": "x",
         "y": [
          0.4790405012400606,
          0.4062261674318047,
          0.5002620460372644,
          0.4511678818656992,
          0.4145234650155089,
          0.3775767064574825,
          0.4266398126512715,
          0.4266398126512715,
          0.3817891584145467,
          0.406844549508754
         ],
         "yaxis": "y"
        },
        {
         "hovertemplate": "Team=Philadelphia Eagles<br>Regular season week=%{x}<br>Predicted probability (making SB)=%{y}<extra></extra>",
         "legendgroup": "Philadelphia Eagles",
         "line": {
          "color": "#00cc96",
          "dash": "solid"
         },
         "marker": {
          "size": 10,
          "symbol": "circle"
         },
         "mode": "markers+lines",
         "name": "Philadelphia Eagles",
         "orientation": "v",
         "showlegend": true,
         "type": "scatter",
         "x": [
          1,
          2,
          3,
          4,
          5,
          6,
          7,
          8,
          9,
          10
         ],
         "xaxis": "x",
         "y": [
          0.3094242162237843,
          0.3465647177626486,
          0.4546669654973615,
          0.3899224076823016,
          0.3539955816303702,
          0.3365331196056877,
          0.3365331196056877,
          0.3751305151736521,
          0.3789928767806371,
          0.3546472402501634
         ],
         "yaxis": "y"
        },
        {
         "hovertemplate": "Team=Miami Dolphins<br>Regular season week=%{x}<br>Predicted probability (making SB)=%{y}<extra></extra>",
         "legendgroup": "Miami Dolphins",
         "line": {
          "color": "#ab63fa",
          "dash": "solid"
         },
         "marker": {
          "size": 10,
          "symbol": "circle"
         },
         "mode": "markers+lines",
         "name": "Miami Dolphins",
         "orientation": "v",
         "showlegend": true,
         "type": "scatter",
         "x": [
          1,
          2,
          3,
          4,
          5,
          6,
          7,
          8,
          9,
          10
         ],
         "xaxis": "x",
         "y": [
          0.3202130360136723,
          0.3284896272153761,
          0.3582384759078025,
          0.3384678656241301,
          0.2994173566954385,
          0.3027412368309,
          0.3028874827770613,
          0.308223980134002,
          0.3248251399553377,
          0.3369374714164058
         ],
         "yaxis": "y"
        },
        {
         "hovertemplate": "Team=San Francisco 49ers<br>Regular season week=%{x}<br>Predicted probability (making SB)=%{y}<extra></extra>",
         "legendgroup": "San Francisco 49ers",
         "line": {
          "color": "#FFA15A",
          "dash": "solid"
         },
         "marker": {
          "size": 10,
          "symbol": "circle"
         },
         "mode": "markers+lines",
         "name": "San Francisco 49ers",
         "orientation": "v",
         "showlegend": true,
         "type": "scatter",
         "x": [
          1,
          2,
          3,
          4,
          5,
          6,
          7,
          8,
          9,
          10
         ],
         "xaxis": "x",
         "y": [
          0.2938393778778606,
          0.3025122312881704,
          0.3111598833095593,
          0.3827298552206059,
          0.4236111399824157,
          0.3760813253928312,
          0.3069663471713938,
          0.3337355671000318,
          0.3337355671000318,
          0.3232649491253844
         ],
         "yaxis": "y"
        },
        {
         "hovertemplate": "Team=Seattle Seahawks<br>Regular season week=%{x}<br>Predicted probability (making SB)=%{y}<extra></extra>",
         "legendgroup": "Seattle Seahawks",
         "line": {
          "color": "#19d3f3",
          "dash": "solid"
         },
         "marker": {
          "size": 10,
          "symbol": "circle"
         },
         "mode": "markers+lines",
         "name": "Seattle Seahawks",
         "orientation": "v",
         "showlegend": true,
         "type": "scatter",
         "x": [
          1,
          2,
          3,
          4,
          5,
          6,
          7,
          8,
          9,
          10
         ],
         "xaxis": "x",
         "y": [
          0.3317344562251867,
          0.3041110973552995,
          0.2935021677506184,
          0.2962739305969251,
          0.3055499732316951,
          0.3057249678601699,
          0.3023705819158251,
          0.2992853970013494,
          0.3019065588599359,
          0.3068235748543978
         ],
         "yaxis": "y"
        },
        {
         "hovertemplate": "Team=Denver Broncos<br>Regular season week=%{x}<br>Predicted probability (making SB)=%{y}<extra></extra>",
         "legendgroup": "Denver Broncos",
         "line": {
          "color": "#FF6692",
          "dash": "solid"
         },
         "marker": {
          "size": 10,
          "symbol": "circle"
         },
         "mode": "markers+lines",
         "name": "Denver Broncos",
         "orientation": "v",
         "showlegend": true,
         "type": "scatter",
         "x": [
          1,
          2,
          3,
          4,
          5,
          6,
          7,
          8,
          9,
          10
         ],
         "xaxis": "x",
         "y": [
          0.3282742030661765,
          0.3720214787869764,
          0.3149112845207515,
          0.3055205985562073,
          0.3121951782899995,
          0.3162464934350998,
          0.3101451087913864,
          0.3136274340519222,
          0.3136274340519222,
          0.3065072078738021
         ],
         "yaxis": "y"
        },
        {
         "hovertemplate": "Team=Dallas Cowboys<br>Regular season week=%{x}<br>Predicted probability (making SB)=%{y}<extra></extra>",
         "legendgroup": "Dallas Cowboys",
         "line": {
          "color": "#B6E880",
          "dash": "solid"
         },
         "marker": {
          "size": 10,
          "symbol": "circle"
         },
         "mode": "markers+lines",
         "name": "Dallas Cowboys",
         "orientation": "v",
         "showlegend": true,
         "type": "scatter",
         "x": [
          1,
          2,
          3,
          4,
          5,
          6,
          7,
          8,
          9,
          10
         ],
         "xaxis": "x",
         "y": [
          0.3110820325644967,
          0.3099168082529747,
          0.3067837871302369,
          0.3414200068605961,
          0.3366358482156077,
          0.3277403422571213,
          0.3244785905480453,
          0.3411618479038785,
          0.3411618479038785,
          0.3062766017328733
         ],
         "yaxis": "y"
        },
        {
         "hovertemplate": "Team=Cincinnati Bengals<br>Regular season week=%{x}<br>Predicted probability (making SB)=%{y}<extra></extra>",
         "legendgroup": "Cincinnati Bengals",
         "line": {
          "color": "#FF97FF",
          "dash": "solid"
         },
         "marker": {
          "size": 10,
          "symbol": "circle"
         },
         "mode": "markers+lines",
         "name": "Cincinnati Bengals",
         "orientation": "v",
         "showlegend": true,
         "type": "scatter",
         "x": [
          1,
          2,
          3,
          4,
          5,
          6,
          7,
          8,
          9,
          10
         ],
         "xaxis": "x",
         "y": [
          0.3146447662388948,
          0.2848774190682879,
          0.3122717018761958,
          0.3123621253393758,
          0.305683894883075,
          0.3139407319382747,
          0.3142426067333241,
          0.3025449015145474,
          0.3060547664240167,
          0.3060547664240167
         ],
         "yaxis": "y"
        },
        {
         "hovertemplate": "Team=Tampa Bay Buccaneers<br>Regular season week=%{x}<br>Predicted probability (making SB)=%{y}<extra></extra>",
         "legendgroup": "Tampa Bay Buccaneers",
         "line": {
          "color": "#FECB52",
          "dash": "solid"
         },
         "marker": {
          "size": 10,
          "symbol": "circle"
         },
         "mode": "markers+lines",
         "name": "Tampa Bay Buccaneers",
         "orientation": "v",
         "showlegend": true,
         "type": "scatter",
         "x": [
          1,
          2,
          3,
          4,
          5,
          6,
          7,
          8,
          9,
          10
         ],
         "xaxis": "x",
         "y": [
          0.4491663938362877,
          0.3902842530476066,
          0.3420949526738171,
          0.33884517921974,
          0.3598665447619036,
          0.3458613386290087,
          0.3191628196927273,
          0.325368772541198,
          0.3272908547272734,
          0.3051222109490266
         ],
         "yaxis": "y"
        }
       ],
       "layout": {
        "height": 475,
        "legend": {
         "title": {
          "text": "Team"
         },
         "tracegroupgap": 0
        },
        "paper_bgcolor": "white",
        "plot_bgcolor": "white",
        "template": {
         "data": {
          "bar": [
           {
            "error_x": {
             "color": "#2a3f5f"
            },
            "error_y": {
             "color": "#2a3f5f"
            },
            "marker": {
             "line": {
              "color": "#E5ECF6",
              "width": 0.5
             },
             "pattern": {
              "fillmode": "overlay",
              "size": 10,
              "solidity": 0.2
             }
            },
            "type": "bar"
           }
          ],
          "barpolar": [
           {
            "marker": {
             "line": {
              "color": "#E5ECF6",
              "width": 0.5
             },
             "pattern": {
              "fillmode": "overlay",
              "size": 10,
              "solidity": 0.2
             }
            },
            "type": "barpolar"
           }
          ],
          "carpet": [
           {
            "aaxis": {
             "endlinecolor": "#2a3f5f",
             "gridcolor": "white",
             "linecolor": "white",
             "minorgridcolor": "white",
             "startlinecolor": "#2a3f5f"
            },
            "baxis": {
             "endlinecolor": "#2a3f5f",
             "gridcolor": "white",
             "linecolor": "white",
             "minorgridcolor": "white",
             "startlinecolor": "#2a3f5f"
            },
            "type": "carpet"
           }
          ],
          "choropleth": [
           {
            "colorbar": {
             "outlinewidth": 0,
             "ticks": ""
            },
            "type": "choropleth"
           }
          ],
          "contour": [
           {
            "colorbar": {
             "outlinewidth": 0,
             "ticks": ""
            },
            "colorscale": [
             [
              0,
              "#0d0887"
             ],
             [
              0.1111111111111111,
              "#46039f"
             ],
             [
              0.2222222222222222,
              "#7201a8"
             ],
             [
              0.3333333333333333,
              "#9c179e"
             ],
             [
              0.4444444444444444,
              "#bd3786"
             ],
             [
              0.5555555555555556,
              "#d8576b"
             ],
             [
              0.6666666666666666,
              "#ed7953"
             ],
             [
              0.7777777777777778,
              "#fb9f3a"
             ],
             [
              0.8888888888888888,
              "#fdca26"
             ],
             [
              1,
              "#f0f921"
             ]
            ],
            "type": "contour"
           }
          ],
          "contourcarpet": [
           {
            "colorbar": {
             "outlinewidth": 0,
             "ticks": ""
            },
            "type": "contourcarpet"
           }
          ],
          "heatmap": [
           {
            "colorbar": {
             "outlinewidth": 0,
             "ticks": ""
            },
            "colorscale": [
             [
              0,
              "#0d0887"
             ],
             [
              0.1111111111111111,
              "#46039f"
             ],
             [
              0.2222222222222222,
              "#7201a8"
             ],
             [
              0.3333333333333333,
              "#9c179e"
             ],
             [
              0.4444444444444444,
              "#bd3786"
             ],
             [
              0.5555555555555556,
              "#d8576b"
             ],
             [
              0.6666666666666666,
              "#ed7953"
             ],
             [
              0.7777777777777778,
              "#fb9f3a"
             ],
             [
              0.8888888888888888,
              "#fdca26"
             ],
             [
              1,
              "#f0f921"
             ]
            ],
            "type": "heatmap"
           }
          ],
          "heatmapgl": [
           {
            "colorbar": {
             "outlinewidth": 0,
             "ticks": ""
            },
            "colorscale": [
             [
              0,
              "#0d0887"
             ],
             [
              0.1111111111111111,
              "#46039f"
             ],
             [
              0.2222222222222222,
              "#7201a8"
             ],
             [
              0.3333333333333333,
              "#9c179e"
             ],
             [
              0.4444444444444444,
              "#bd3786"
             ],
             [
              0.5555555555555556,
              "#d8576b"
             ],
             [
              0.6666666666666666,
              "#ed7953"
             ],
             [
              0.7777777777777778,
              "#fb9f3a"
             ],
             [
              0.8888888888888888,
              "#fdca26"
             ],
             [
              1,
              "#f0f921"
             ]
            ],
            "type": "heatmapgl"
           }
          ],
          "histogram": [
           {
            "marker": {
             "pattern": {
              "fillmode": "overlay",
              "size": 10,
              "solidity": 0.2
             }
            },
            "type": "histogram"
           }
          ],
          "histogram2d": [
           {
            "colorbar": {
             "outlinewidth": 0,
             "ticks": ""
            },
            "colorscale": [
             [
              0,
              "#0d0887"
             ],
             [
              0.1111111111111111,
              "#46039f"
             ],
             [
              0.2222222222222222,
              "#7201a8"
             ],
             [
              0.3333333333333333,
              "#9c179e"
             ],
             [
              0.4444444444444444,
              "#bd3786"
             ],
             [
              0.5555555555555556,
              "#d8576b"
             ],
             [
              0.6666666666666666,
              "#ed7953"
             ],
             [
              0.7777777777777778,
              "#fb9f3a"
             ],
             [
              0.8888888888888888,
              "#fdca26"
             ],
             [
              1,
              "#f0f921"
             ]
            ],
            "type": "histogram2d"
           }
          ],
          "histogram2dcontour": [
           {
            "colorbar": {
             "outlinewidth": 0,
             "ticks": ""
            },
            "colorscale": [
             [
              0,
              "#0d0887"
             ],
             [
              0.1111111111111111,
              "#46039f"
             ],
             [
              0.2222222222222222,
              "#7201a8"
             ],
             [
              0.3333333333333333,
              "#9c179e"
             ],
             [
              0.4444444444444444,
              "#bd3786"
             ],
             [
              0.5555555555555556,
              "#d8576b"
             ],
             [
              0.6666666666666666,
              "#ed7953"
             ],
             [
              0.7777777777777778,
              "#fb9f3a"
             ],
             [
              0.8888888888888888,
              "#fdca26"
             ],
             [
              1,
              "#f0f921"
             ]
            ],
            "type": "histogram2dcontour"
           }
          ],
          "mesh3d": [
           {
            "colorbar": {
             "outlinewidth": 0,
             "ticks": ""
            },
            "type": "mesh3d"
           }
          ],
          "parcoords": [
           {
            "line": {
             "colorbar": {
              "outlinewidth": 0,
              "ticks": ""
             }
            },
            "type": "parcoords"
           }
          ],
          "pie": [
           {
            "automargin": true,
            "type": "pie"
           }
          ],
          "scatter": [
           {
            "marker": {
             "colorbar": {
              "outlinewidth": 0,
              "ticks": ""
             }
            },
            "type": "scatter"
           }
          ],
          "scatter3d": [
           {
            "line": {
             "colorbar": {
              "outlinewidth": 0,
              "ticks": ""
             }
            },
            "marker": {
             "colorbar": {
              "outlinewidth": 0,
              "ticks": ""
             }
            },
            "type": "scatter3d"
           }
          ],
          "scattercarpet": [
           {
            "marker": {
             "colorbar": {
              "outlinewidth": 0,
              "ticks": ""
             }
            },
            "type": "scattercarpet"
           }
          ],
          "scattergeo": [
           {
            "marker": {
             "colorbar": {
              "outlinewidth": 0,
              "ticks": ""
             }
            },
            "type": "scattergeo"
           }
          ],
          "scattergl": [
           {
            "marker": {
             "colorbar": {
              "outlinewidth": 0,
              "ticks": ""
             }
            },
            "type": "scattergl"
           }
          ],
          "scattermapbox": [
           {
            "marker": {
             "colorbar": {
              "outlinewidth": 0,
              "ticks": ""
             }
            },
            "type": "scattermapbox"
           }
          ],
          "scatterpolar": [
           {
            "marker": {
             "colorbar": {
              "outlinewidth": 0,
              "ticks": ""
             }
            },
            "type": "scatterpolar"
           }
          ],
          "scatterpolargl": [
           {
            "marker": {
             "colorbar": {
              "outlinewidth": 0,
              "ticks": ""
             }
            },
            "type": "scatterpolargl"
           }
          ],
          "scatterternary": [
           {
            "marker": {
             "colorbar": {
              "outlinewidth": 0,
              "ticks": ""
             }
            },
            "type": "scatterternary"
           }
          ],
          "surface": [
           {
            "colorbar": {
             "outlinewidth": 0,
             "ticks": ""
            },
            "colorscale": [
             [
              0,
              "#0d0887"
             ],
             [
              0.1111111111111111,
              "#46039f"
             ],
             [
              0.2222222222222222,
              "#7201a8"
             ],
             [
              0.3333333333333333,
              "#9c179e"
             ],
             [
              0.4444444444444444,
              "#bd3786"
             ],
             [
              0.5555555555555556,
              "#d8576b"
             ],
             [
              0.6666666666666666,
              "#ed7953"
             ],
             [
              0.7777777777777778,
              "#fb9f3a"
             ],
             [
              0.8888888888888888,
              "#fdca26"
             ],
             [
              1,
              "#f0f921"
             ]
            ],
            "type": "surface"
           }
          ],
          "table": [
           {
            "cells": {
             "fill": {
              "color": "#EBF0F8"
             },
             "line": {
              "color": "white"
             }
            },
            "header": {
             "fill": {
              "color": "#C8D4E3"
             },
             "line": {
              "color": "white"
             }
            },
            "type": "table"
           }
          ]
         },
         "layout": {
          "annotationdefaults": {
           "arrowcolor": "#2a3f5f",
           "arrowhead": 0,
           "arrowwidth": 1
          },
          "autotypenumbers": "strict",
          "coloraxis": {
           "colorbar": {
            "outlinewidth": 0,
            "ticks": ""
           }
          },
          "colorscale": {
           "diverging": [
            [
             0,
             "#8e0152"
            ],
            [
             0.1,
             "#c51b7d"
            ],
            [
             0.2,
             "#de77ae"
            ],
            [
             0.3,
             "#f1b6da"
            ],
            [
             0.4,
             "#fde0ef"
            ],
            [
             0.5,
             "#f7f7f7"
            ],
            [
             0.6,
             "#e6f5d0"
            ],
            [
             0.7,
             "#b8e186"
            ],
            [
             0.8,
             "#7fbc41"
            ],
            [
             0.9,
             "#4d9221"
            ],
            [
             1,
             "#276419"
            ]
           ],
           "sequential": [
            [
             0,
             "#0d0887"
            ],
            [
             0.1111111111111111,
             "#46039f"
            ],
            [
             0.2222222222222222,
             "#7201a8"
            ],
            [
             0.3333333333333333,
             "#9c179e"
            ],
            [
             0.4444444444444444,
             "#bd3786"
            ],
            [
             0.5555555555555556,
             "#d8576b"
            ],
            [
             0.6666666666666666,
             "#ed7953"
            ],
            [
             0.7777777777777778,
             "#fb9f3a"
            ],
            [
             0.8888888888888888,
             "#fdca26"
            ],
            [
             1,
             "#f0f921"
            ]
           ],
           "sequentialminus": [
            [
             0,
             "#0d0887"
            ],
            [
             0.1111111111111111,
             "#46039f"
            ],
            [
             0.2222222222222222,
             "#7201a8"
            ],
            [
             0.3333333333333333,
             "#9c179e"
            ],
            [
             0.4444444444444444,
             "#bd3786"
            ],
            [
             0.5555555555555556,
             "#d8576b"
            ],
            [
             0.6666666666666666,
             "#ed7953"
            ],
            [
             0.7777777777777778,
             "#fb9f3a"
            ],
            [
             0.8888888888888888,
             "#fdca26"
            ],
            [
             1,
             "#f0f921"
            ]
           ]
          },
          "colorway": [
           "#636efa",
           "#EF553B",
           "#00cc96",
           "#ab63fa",
           "#FFA15A",
           "#19d3f3",
           "#FF6692",
           "#B6E880",
           "#FF97FF",
           "#FECB52"
          ],
          "font": {
           "color": "#2a3f5f"
          },
          "geo": {
           "bgcolor": "white",
           "lakecolor": "white",
           "landcolor": "#E5ECF6",
           "showlakes": true,
           "showland": true,
           "subunitcolor": "white"
          },
          "hoverlabel": {
           "align": "left"
          },
          "hovermode": "closest",
          "mapbox": {
           "style": "light"
          },
          "paper_bgcolor": "white",
          "plot_bgcolor": "#E5ECF6",
          "polar": {
           "angularaxis": {
            "gridcolor": "white",
            "linecolor": "white",
            "ticks": ""
           },
           "bgcolor": "#E5ECF6",
           "radialaxis": {
            "gridcolor": "white",
            "linecolor": "white",
            "ticks": ""
           }
          },
          "scene": {
           "xaxis": {
            "backgroundcolor": "#E5ECF6",
            "gridcolor": "white",
            "gridwidth": 2,
            "linecolor": "white",
            "showbackground": true,
            "ticks": "",
            "zerolinecolor": "white"
           },
           "yaxis": {
            "backgroundcolor": "#E5ECF6",
            "gridcolor": "white",
            "gridwidth": 2,
            "linecolor": "white",
            "showbackground": true,
            "ticks": "",
            "zerolinecolor": "white"
           },
           "zaxis": {
            "backgroundcolor": "#E5ECF6",
            "gridcolor": "white",
            "gridwidth": 2,
            "linecolor": "white",
            "showbackground": true,
            "ticks": "",
            "zerolinecolor": "white"
           }
          },
          "shapedefaults": {
           "line": {
            "color": "#2a3f5f"
           }
          },
          "ternary": {
           "aaxis": {
            "gridcolor": "white",
            "linecolor": "white",
            "ticks": ""
           },
           "baxis": {
            "gridcolor": "white",
            "linecolor": "white",
            "ticks": ""
           },
           "bgcolor": "#E5ECF6",
           "caxis": {
            "gridcolor": "white",
            "linecolor": "white",
            "ticks": ""
           }
          },
          "title": {
           "x": 0.05
          },
          "xaxis": {
           "automargin": true,
           "gridcolor": "white",
           "linecolor": "white",
           "ticks": "",
           "title": {
            "standoff": 15
           },
           "zerolinecolor": "white",
           "zerolinewidth": 2
          },
          "yaxis": {
           "automargin": true,
           "gridcolor": "white",
           "linecolor": "white",
           "ticks": "",
           "title": {
            "standoff": 15
           },
           "zerolinecolor": "white",
           "zerolinewidth": 2
          }
         }
        },
        "title": {
         "text": "Top 10 teams to make it to the Super Bowl in the 2022 NFL season"
        },
        "width": 950,
        "xaxis": {
         "anchor": "y",
         "domain": [
          0,
          1
         ],
         "gridcolor": "lightgray",
         "gridwidth": 0,
         "linecolor": "black",
         "linewidth": 1.5,
         "showline": true,
         "tickfont": {
          "size": 15
         },
         "title": {
          "text": "Regular season week"
         }
        },
        "yaxis": {
         "anchor": "x",
         "domain": [
          0,
          1
         ],
         "gridcolor": "lightgray",
         "gridwidth": 0,
         "linecolor": "black",
         "linewidth": 1.5,
         "showline": true,
         "tickfont": {
          "size": 15
         },
         "title": {
          "text": "Predicted probability (making SB)"
         }
        }
       }
      }
     },
     "metadata": {},
     "output_type": "display_data"
    }
   ],
   "source": [
    "legend_order = data_for_plotting[data_for_plotting['week'] == int(last_week)]['Team'].tolist()\n",
    "\n",
    "fig = px.line(data_for_plotting, 'week', 'predicted_probability', color = 'Team', \n",
    "              title = 'Top 10 teams to make it to the Super Bowl in the 2022 NFL season', \n",
    "              labels = {'week' : 'Regular season week', 'predicted_probability' : 'Predicted probability (making SB)'},\n",
    "              width = 950, height = 475, category_orders={\"Team\": legend_order})\n",
    "fig.update_yaxes(tickfont = {'size' : 15}, showline=True, linecolor='black', gridcolor='lightgray', linewidth=1.5, gridwidth=0.0)\n",
    "fig.update_xaxes(tickfont = {'size' : 15}, showline=True, linecolor='black', gridcolor='lightgray', linewidth=1.5, gridwidth=0.0)\n",
    "fig.update_traces(mode = 'markers+lines', marker={'size': 10})\n",
    "fig.update_layout({'plot_bgcolor': 'white','paper_bgcolor': 'white'})\n",
    "\n",
    "fig.show()"
   ]
  },
  {
   "cell_type": "code",
   "execution_count": null,
   "id": "d14a3d67",
   "metadata": {},
   "outputs": [],
   "source": []
  },
  {
   "cell_type": "markdown",
   "id": "813081be",
   "metadata": {},
   "source": [
    "Largest differences to week 1"
   ]
  },
  {
   "cell_type": "code",
   "execution_count": 9,
   "id": "8b5fd924",
   "metadata": {},
   "outputs": [],
   "source": [
    "first_week = str(data_for_plotting['week'].min())\n",
    "last_week = str(data_for_plotting['week'].max())"
   ]
  },
  {
   "cell_type": "code",
   "execution_count": 10,
   "id": "9da57d30",
   "metadata": {},
   "outputs": [],
   "source": [
    "first_last_weeks = pred_types_collected[select_pred_type][['Team', first_week, last_week]]\n",
    "\n",
    "first_last_weeks['diff_ABS'] = first_last_weeks[last_week] - first_last_weeks[first_week]\n",
    "first_last_weeks['diff_REL'] = first_last_weeks[last_week] / first_last_weeks[first_week] - 1"
   ]
  },
  {
   "cell_type": "code",
   "execution_count": 11,
   "id": "2a42baf9",
   "metadata": {},
   "outputs": [
    {
     "data": {
      "text/html": [
       "<div>\n",
       "<style scoped>\n",
       "    .dataframe tbody tr th:only-of-type {\n",
       "        vertical-align: middle;\n",
       "    }\n",
       "\n",
       "    .dataframe tbody tr th {\n",
       "        vertical-align: top;\n",
       "    }\n",
       "\n",
       "    .dataframe thead th {\n",
       "        text-align: right;\n",
       "    }\n",
       "</style>\n",
       "<table border=\"1\" class=\"dataframe\">\n",
       "  <thead>\n",
       "    <tr style=\"text-align: right;\">\n",
       "      <th></th>\n",
       "      <th>Team</th>\n",
       "      <th>diff_ABS</th>\n",
       "    </tr>\n",
       "  </thead>\n",
       "  <tbody>\n",
       "    <tr>\n",
       "      <th>3</th>\n",
       "      <td>Baltimore Ravens</td>\n",
       "      <td>-0.146277</td>\n",
       "    </tr>\n",
       "    <tr>\n",
       "      <th>2</th>\n",
       "      <td>Tampa Bay Buccaneers</td>\n",
       "      <td>-0.144044</td>\n",
       "    </tr>\n",
       "    <tr>\n",
       "      <th>4</th>\n",
       "      <td>Carolina Panthers</td>\n",
       "      <td>-0.107175</td>\n",
       "    </tr>\n",
       "    <tr>\n",
       "      <th>5</th>\n",
       "      <td>Washington Commanders</td>\n",
       "      <td>-0.075734</td>\n",
       "    </tr>\n",
       "    <tr>\n",
       "      <th>1</th>\n",
       "      <td>Kansas City Chiefs</td>\n",
       "      <td>-0.072196</td>\n",
       "    </tr>\n",
       "    <tr>\n",
       "      <th>0</th>\n",
       "      <td>Buffalo Bills</td>\n",
       "      <td>-0.066739</td>\n",
       "    </tr>\n",
       "    <tr>\n",
       "      <th>6</th>\n",
       "      <td>Minnesota Vikings</td>\n",
       "      <td>-0.060284</td>\n",
       "    </tr>\n",
       "    <tr>\n",
       "      <th>7</th>\n",
       "      <td>Indianapolis Colts</td>\n",
       "      <td>-0.058497</td>\n",
       "    </tr>\n",
       "    <tr>\n",
       "      <th>12</th>\n",
       "      <td>Pittsburgh Steelers</td>\n",
       "      <td>-0.047547</td>\n",
       "    </tr>\n",
       "    <tr>\n",
       "      <th>8</th>\n",
       "      <td>New York Giants</td>\n",
       "      <td>-0.047207</td>\n",
       "    </tr>\n",
       "    <tr>\n",
       "      <th>10</th>\n",
       "      <td>Las Vegas Raiders</td>\n",
       "      <td>-0.041844</td>\n",
       "    </tr>\n",
       "    <tr>\n",
       "      <th>13</th>\n",
       "      <td>Chicago Bears</td>\n",
       "      <td>-0.034563</td>\n",
       "    </tr>\n",
       "    <tr>\n",
       "      <th>16</th>\n",
       "      <td>Los Angeles Chargers</td>\n",
       "      <td>-0.026957</td>\n",
       "    </tr>\n",
       "    <tr>\n",
       "      <th>9</th>\n",
       "      <td>Seattle Seahawks</td>\n",
       "      <td>-0.024911</td>\n",
       "    </tr>\n",
       "    <tr>\n",
       "      <th>15</th>\n",
       "      <td>Tennessee Titans</td>\n",
       "      <td>-0.024301</td>\n",
       "    </tr>\n",
       "    <tr>\n",
       "      <th>21</th>\n",
       "      <td>Jacksonville Jaguars</td>\n",
       "      <td>-0.024082</td>\n",
       "    </tr>\n",
       "    <tr>\n",
       "      <th>26</th>\n",
       "      <td>Houston Texans</td>\n",
       "      <td>-0.023094</td>\n",
       "    </tr>\n",
       "    <tr>\n",
       "      <th>11</th>\n",
       "      <td>Denver Broncos</td>\n",
       "      <td>-0.021767</td>\n",
       "    </tr>\n",
       "    <tr>\n",
       "      <th>25</th>\n",
       "      <td>New Orleans Saints</td>\n",
       "      <td>-0.018875</td>\n",
       "    </tr>\n",
       "    <tr>\n",
       "      <th>23</th>\n",
       "      <td>Arizona Cardinals</td>\n",
       "      <td>-0.017678</td>\n",
       "    </tr>\n",
       "    <tr>\n",
       "      <th>24</th>\n",
       "      <td>Cleveland Browns</td>\n",
       "      <td>-0.016735</td>\n",
       "    </tr>\n",
       "    <tr>\n",
       "      <th>19</th>\n",
       "      <td>New England Patriots</td>\n",
       "      <td>-0.013308</td>\n",
       "    </tr>\n",
       "    <tr>\n",
       "      <th>22</th>\n",
       "      <td>Green Bay Packers</td>\n",
       "      <td>-0.010054</td>\n",
       "    </tr>\n",
       "    <tr>\n",
       "      <th>17</th>\n",
       "      <td>Cincinnati Bengals</td>\n",
       "      <td>-0.008590</td>\n",
       "    </tr>\n",
       "    <tr>\n",
       "      <th>27</th>\n",
       "      <td>New York Jets</td>\n",
       "      <td>-0.007952</td>\n",
       "    </tr>\n",
       "    <tr>\n",
       "      <th>31</th>\n",
       "      <td>Los Angeles Rams</td>\n",
       "      <td>-0.005685</td>\n",
       "    </tr>\n",
       "    <tr>\n",
       "      <th>18</th>\n",
       "      <td>Dallas Cowboys</td>\n",
       "      <td>-0.004805</td>\n",
       "    </tr>\n",
       "    <tr>\n",
       "      <th>28</th>\n",
       "      <td>Detroit Lions</td>\n",
       "      <td>-0.004724</td>\n",
       "    </tr>\n",
       "    <tr>\n",
       "      <th>29</th>\n",
       "      <td>Atlanta Falcons</td>\n",
       "      <td>-0.003524</td>\n",
       "    </tr>\n",
       "    <tr>\n",
       "      <th>14</th>\n",
       "      <td>Miami Dolphins</td>\n",
       "      <td>0.016724</td>\n",
       "    </tr>\n",
       "    <tr>\n",
       "      <th>30</th>\n",
       "      <td>San Francisco 49ers</td>\n",
       "      <td>0.029426</td>\n",
       "    </tr>\n",
       "    <tr>\n",
       "      <th>20</th>\n",
       "      <td>Philadelphia Eagles</td>\n",
       "      <td>0.045223</td>\n",
       "    </tr>\n",
       "  </tbody>\n",
       "</table>\n",
       "</div>"
      ],
      "text/plain": [
       "                     Team  diff_ABS\n",
       "3        Baltimore Ravens -0.146277\n",
       "2    Tampa Bay Buccaneers -0.144044\n",
       "4       Carolina Panthers -0.107175\n",
       "5   Washington Commanders -0.075734\n",
       "1      Kansas City Chiefs -0.072196\n",
       "0           Buffalo Bills -0.066739\n",
       "6       Minnesota Vikings -0.060284\n",
       "7      Indianapolis Colts -0.058497\n",
       "12    Pittsburgh Steelers -0.047547\n",
       "8         New York Giants -0.047207\n",
       "10      Las Vegas Raiders -0.041844\n",
       "13          Chicago Bears -0.034563\n",
       "16   Los Angeles Chargers -0.026957\n",
       "9        Seattle Seahawks -0.024911\n",
       "15       Tennessee Titans -0.024301\n",
       "21   Jacksonville Jaguars -0.024082\n",
       "26         Houston Texans -0.023094\n",
       "11         Denver Broncos -0.021767\n",
       "25     New Orleans Saints -0.018875\n",
       "23      Arizona Cardinals -0.017678\n",
       "24       Cleveland Browns -0.016735\n",
       "19   New England Patriots -0.013308\n",
       "22      Green Bay Packers -0.010054\n",
       "17     Cincinnati Bengals -0.008590\n",
       "27          New York Jets -0.007952\n",
       "31       Los Angeles Rams -0.005685\n",
       "18         Dallas Cowboys -0.004805\n",
       "28          Detroit Lions -0.004724\n",
       "29        Atlanta Falcons -0.003524\n",
       "14         Miami Dolphins  0.016724\n",
       "30    San Francisco 49ers  0.029426\n",
       "20    Philadelphia Eagles  0.045223"
      ]
     },
     "execution_count": 11,
     "metadata": {},
     "output_type": "execute_result"
    }
   ],
   "source": [
    "first_last_weeks.sort_values('diff_ABS')[['Team', 'diff_ABS']]"
   ]
  },
  {
   "cell_type": "code",
   "execution_count": 12,
   "id": "f10cf049",
   "metadata": {},
   "outputs": [
    {
     "data": {
      "text/html": [
       "<div>\n",
       "<style scoped>\n",
       "    .dataframe tbody tr th:only-of-type {\n",
       "        vertical-align: middle;\n",
       "    }\n",
       "\n",
       "    .dataframe tbody tr th {\n",
       "        vertical-align: top;\n",
       "    }\n",
       "\n",
       "    .dataframe thead th {\n",
       "        text-align: right;\n",
       "    }\n",
       "</style>\n",
       "<table border=\"1\" class=\"dataframe\">\n",
       "  <thead>\n",
       "    <tr style=\"text-align: right;\">\n",
       "      <th></th>\n",
       "      <th>Team</th>\n",
       "      <th>diff_REL</th>\n",
       "    </tr>\n",
       "  </thead>\n",
       "  <tbody>\n",
       "    <tr>\n",
       "      <th>3</th>\n",
       "      <td>Baltimore Ravens</td>\n",
       "      <td>-0.325712</td>\n",
       "    </tr>\n",
       "    <tr>\n",
       "      <th>2</th>\n",
       "      <td>Tampa Bay Buccaneers</td>\n",
       "      <td>-0.320692</td>\n",
       "    </tr>\n",
       "    <tr>\n",
       "      <th>4</th>\n",
       "      <td>Carolina Panthers</td>\n",
       "      <td>-0.275137</td>\n",
       "    </tr>\n",
       "    <tr>\n",
       "      <th>5</th>\n",
       "      <td>Washington Commanders</td>\n",
       "      <td>-0.212140</td>\n",
       "    </tr>\n",
       "    <tr>\n",
       "      <th>7</th>\n",
       "      <td>Indianapolis Colts</td>\n",
       "      <td>-0.172453</td>\n",
       "    </tr>\n",
       "    <tr>\n",
       "      <th>6</th>\n",
       "      <td>Minnesota Vikings</td>\n",
       "      <td>-0.171166</td>\n",
       "    </tr>\n",
       "    <tr>\n",
       "      <th>1</th>\n",
       "      <td>Kansas City Chiefs</td>\n",
       "      <td>-0.150709</td>\n",
       "    </tr>\n",
       "    <tr>\n",
       "      <th>12</th>\n",
       "      <td>Pittsburgh Steelers</td>\n",
       "      <td>-0.145085</td>\n",
       "    </tr>\n",
       "    <tr>\n",
       "      <th>8</th>\n",
       "      <td>New York Giants</td>\n",
       "      <td>-0.142067</td>\n",
       "    </tr>\n",
       "    <tr>\n",
       "      <th>0</th>\n",
       "      <td>Buffalo Bills</td>\n",
       "      <td>-0.137314</td>\n",
       "    </tr>\n",
       "    <tr>\n",
       "      <th>10</th>\n",
       "      <td>Las Vegas Raiders</td>\n",
       "      <td>-0.127080</td>\n",
       "    </tr>\n",
       "    <tr>\n",
       "      <th>13</th>\n",
       "      <td>Chicago Bears</td>\n",
       "      <td>-0.107701</td>\n",
       "    </tr>\n",
       "    <tr>\n",
       "      <th>16</th>\n",
       "      <td>Los Angeles Chargers</td>\n",
       "      <td>-0.084924</td>\n",
       "    </tr>\n",
       "    <tr>\n",
       "      <th>21</th>\n",
       "      <td>Jacksonville Jaguars</td>\n",
       "      <td>-0.078433</td>\n",
       "    </tr>\n",
       "    <tr>\n",
       "      <th>26</th>\n",
       "      <td>Houston Texans</td>\n",
       "      <td>-0.076611</td>\n",
       "    </tr>\n",
       "    <tr>\n",
       "      <th>15</th>\n",
       "      <td>Tennessee Titans</td>\n",
       "      <td>-0.076211</td>\n",
       "    </tr>\n",
       "    <tr>\n",
       "      <th>9</th>\n",
       "      <td>Seattle Seahawks</td>\n",
       "      <td>-0.075093</td>\n",
       "    </tr>\n",
       "    <tr>\n",
       "      <th>11</th>\n",
       "      <td>Denver Broncos</td>\n",
       "      <td>-0.066307</td>\n",
       "    </tr>\n",
       "    <tr>\n",
       "      <th>25</th>\n",
       "      <td>New Orleans Saints</td>\n",
       "      <td>-0.062375</td>\n",
       "    </tr>\n",
       "    <tr>\n",
       "      <th>23</th>\n",
       "      <td>Arizona Cardinals</td>\n",
       "      <td>-0.058241</td>\n",
       "    </tr>\n",
       "    <tr>\n",
       "      <th>24</th>\n",
       "      <td>Cleveland Browns</td>\n",
       "      <td>-0.055265</td>\n",
       "    </tr>\n",
       "    <tr>\n",
       "      <th>19</th>\n",
       "      <td>New England Patriots</td>\n",
       "      <td>-0.042968</td>\n",
       "    </tr>\n",
       "    <tr>\n",
       "      <th>22</th>\n",
       "      <td>Green Bay Packers</td>\n",
       "      <td>-0.032901</td>\n",
       "    </tr>\n",
       "    <tr>\n",
       "      <th>17</th>\n",
       "      <td>Cincinnati Bengals</td>\n",
       "      <td>-0.027301</td>\n",
       "    </tr>\n",
       "    <tr>\n",
       "      <th>27</th>\n",
       "      <td>New York Jets</td>\n",
       "      <td>-0.026400</td>\n",
       "    </tr>\n",
       "    <tr>\n",
       "      <th>31</th>\n",
       "      <td>Los Angeles Rams</td>\n",
       "      <td>-0.019520</td>\n",
       "    </tr>\n",
       "    <tr>\n",
       "      <th>28</th>\n",
       "      <td>Detroit Lions</td>\n",
       "      <td>-0.015742</td>\n",
       "    </tr>\n",
       "    <tr>\n",
       "      <th>18</th>\n",
       "      <td>Dallas Cowboys</td>\n",
       "      <td>-0.015447</td>\n",
       "    </tr>\n",
       "    <tr>\n",
       "      <th>29</th>\n",
       "      <td>Atlanta Falcons</td>\n",
       "      <td>-0.011854</td>\n",
       "    </tr>\n",
       "    <tr>\n",
       "      <th>14</th>\n",
       "      <td>Miami Dolphins</td>\n",
       "      <td>0.052229</td>\n",
       "    </tr>\n",
       "    <tr>\n",
       "      <th>30</th>\n",
       "      <td>San Francisco 49ers</td>\n",
       "      <td>0.100142</td>\n",
       "    </tr>\n",
       "    <tr>\n",
       "      <th>20</th>\n",
       "      <td>Philadelphia Eagles</td>\n",
       "      <td>0.146152</td>\n",
       "    </tr>\n",
       "  </tbody>\n",
       "</table>\n",
       "</div>"
      ],
      "text/plain": [
       "                     Team  diff_REL\n",
       "3        Baltimore Ravens -0.325712\n",
       "2    Tampa Bay Buccaneers -0.320692\n",
       "4       Carolina Panthers -0.275137\n",
       "5   Washington Commanders -0.212140\n",
       "7      Indianapolis Colts -0.172453\n",
       "6       Minnesota Vikings -0.171166\n",
       "1      Kansas City Chiefs -0.150709\n",
       "12    Pittsburgh Steelers -0.145085\n",
       "8         New York Giants -0.142067\n",
       "0           Buffalo Bills -0.137314\n",
       "10      Las Vegas Raiders -0.127080\n",
       "13          Chicago Bears -0.107701\n",
       "16   Los Angeles Chargers -0.084924\n",
       "21   Jacksonville Jaguars -0.078433\n",
       "26         Houston Texans -0.076611\n",
       "15       Tennessee Titans -0.076211\n",
       "9        Seattle Seahawks -0.075093\n",
       "11         Denver Broncos -0.066307\n",
       "25     New Orleans Saints -0.062375\n",
       "23      Arizona Cardinals -0.058241\n",
       "24       Cleveland Browns -0.055265\n",
       "19   New England Patriots -0.042968\n",
       "22      Green Bay Packers -0.032901\n",
       "17     Cincinnati Bengals -0.027301\n",
       "27          New York Jets -0.026400\n",
       "31       Los Angeles Rams -0.019520\n",
       "28          Detroit Lions -0.015742\n",
       "18         Dallas Cowboys -0.015447\n",
       "29        Atlanta Falcons -0.011854\n",
       "14         Miami Dolphins  0.052229\n",
       "30    San Francisco 49ers  0.100142\n",
       "20    Philadelphia Eagles  0.146152"
      ]
     },
     "execution_count": 12,
     "metadata": {},
     "output_type": "execute_result"
    }
   ],
   "source": [
    "first_last_weeks.sort_values('diff_REL')[['Team', 'diff_REL']]"
   ]
  },
  {
   "cell_type": "code",
   "execution_count": null,
   "id": "960bf761",
   "metadata": {},
   "outputs": [],
   "source": []
  },
  {
   "cell_type": "code",
   "execution_count": null,
   "id": "9087e65e",
   "metadata": {},
   "outputs": [],
   "source": []
  },
  {
   "cell_type": "code",
   "execution_count": null,
   "id": "332b32b3",
   "metadata": {},
   "outputs": [],
   "source": []
  }
 ],
 "metadata": {
  "kernelspec": {
   "display_name": "Python 3.9.7 ('base')",
   "language": "python",
   "name": "python3"
  },
  "language_info": {
   "codemirror_mode": {
    "name": "ipython",
    "version": 3
   },
   "file_extension": ".py",
   "mimetype": "text/x-python",
   "name": "python",
   "nbconvert_exporter": "python",
   "pygments_lexer": "ipython3",
   "version": "3.9.7"
  },
  "vscode": {
   "interpreter": {
    "hash": "fd5f0602b361fcd80b6e43c9db32d5ff96b182a40640908c77b502a93aa9387e"
   }
  }
 },
 "nbformat": 4,
 "nbformat_minor": 5
}
