{
 "cells": [
  {
   "cell_type": "code",
   "execution_count": 1,
   "id": "c82e6de2",
   "metadata": {},
   "outputs": [],
   "source": [
    "import pandas as pd\n",
    "import numpy as np\n",
    "import os\n",
    "\n",
    "import re\n",
    "\n",
    "from functools import reduce\n",
    "\n",
    "import plotly.express as px\n",
    "\n",
    "import warnings\n",
    "warnings.filterwarnings('ignore')"
   ]
  },
  {
   "cell_type": "code",
   "execution_count": 2,
   "id": "09dbd108",
   "metadata": {},
   "outputs": [
    {
     "name": "stdout",
     "output_type": "stream",
     "text": [
      "['week_1.csv', 'week_2.csv', 'week_3.csv']\n"
     ]
    }
   ],
   "source": [
    "weekly_data_tables = os.listdir('weekly_runs_2022/')\n",
    "print(weekly_data_tables)"
   ]
  },
  {
   "cell_type": "code",
   "execution_count": 3,
   "id": "07e0656f",
   "metadata": {},
   "outputs": [],
   "source": [
    "collection = []\n",
    "\n",
    "for weekly_data in weekly_data_tables:\n",
    "    collection.append(pd.read_csv('weekly_runs_2022/' + weekly_data))"
   ]
  },
  {
   "cell_type": "code",
   "execution_count": 4,
   "id": "014530d8",
   "metadata": {},
   "outputs": [
    {
     "name": "stdout",
     "output_type": "stream",
     "text": [
      "Wall time: 229 ms\n"
     ]
    }
   ],
   "source": [
    "%%time\n",
    "\n",
    "pred_types = ['pred_logit', 'pred_rf', 'pred_gbm', 'pred_lgb', 'pred_catboost', 'pred_mean', 'pred_opt_combo']\n",
    "pred_types_collected = {}\n",
    "\n",
    "for pred_type in pred_types:\n",
    "    \n",
    "    keep_cols = ['Team', 'season', 'week_marker', pred_type]    \n",
    "    pred_types_data = []\n",
    "    \n",
    "    for i in collection:\n",
    "        data_for_pred_type = i[keep_cols].copy()\n",
    "        \n",
    "        week_marker = data_for_pred_type['week_marker'].unique().item()\n",
    "        data_for_pred_type.rename(columns = {pred_type : pred_type + '_' + week_marker}, inplace = True)\n",
    "        data_for_pred_type.drop(['week_marker', 'season'], 1, inplace = True)\n",
    "        \n",
    "        pred_types_data.append(data_for_pred_type)\n",
    "        \n",
    "    pred_types_data = reduce(lambda  a,b: pd.merge(a,b, on = ['Team'], how='outer'), pred_types_data)\n",
    "    pred_types_data.sort_values(pred_types_data.columns[-1], ascending = False, inplace = True)\n",
    "    \n",
    "    columns = [re.sub('[^0-9]', '', i) if i != 'Team' else i for i in pred_types_data.columns]\n",
    "    pred_types_data.columns = columns\n",
    "        \n",
    "    pred_types_collected[pred_type] = pred_types_data  "
   ]
  },
  {
   "cell_type": "code",
   "execution_count": 5,
   "id": "4d0b8803",
   "metadata": {},
   "outputs": [
    {
     "data": {
      "text/html": [
       "<div>\n",
       "<style scoped>\n",
       "    .dataframe tbody tr th:only-of-type {\n",
       "        vertical-align: middle;\n",
       "    }\n",
       "\n",
       "    .dataframe tbody tr th {\n",
       "        vertical-align: top;\n",
       "    }\n",
       "\n",
       "    .dataframe thead th {\n",
       "        text-align: right;\n",
       "    }\n",
       "</style>\n",
       "<table border=\"1\" class=\"dataframe\">\n",
       "  <thead>\n",
       "    <tr style=\"text-align: right;\">\n",
       "      <th></th>\n",
       "      <th>Team</th>\n",
       "      <th>1</th>\n",
       "      <th>2</th>\n",
       "      <th>3</th>\n",
       "    </tr>\n",
       "  </thead>\n",
       "  <tbody>\n",
       "    <tr>\n",
       "      <th>1</th>\n",
       "      <td>Kansas City Chiefs</td>\n",
       "      <td>0.479041</td>\n",
       "      <td>0.406226</td>\n",
       "      <td>0.500262</td>\n",
       "    </tr>\n",
       "    <tr>\n",
       "      <th>20</th>\n",
       "      <td>Philadelphia Eagles</td>\n",
       "      <td>0.309424</td>\n",
       "      <td>0.346565</td>\n",
       "      <td>0.454667</td>\n",
       "    </tr>\n",
       "    <tr>\n",
       "      <th>0</th>\n",
       "      <td>Buffalo Bills</td>\n",
       "      <td>0.486035</td>\n",
       "      <td>0.491504</td>\n",
       "      <td>0.431212</td>\n",
       "    </tr>\n",
       "    <tr>\n",
       "      <th>14</th>\n",
       "      <td>Miami Dolphins</td>\n",
       "      <td>0.320213</td>\n",
       "      <td>0.328490</td>\n",
       "      <td>0.358238</td>\n",
       "    </tr>\n",
       "    <tr>\n",
       "      <th>21</th>\n",
       "      <td>Jacksonville Jaguars</td>\n",
       "      <td>0.307045</td>\n",
       "      <td>0.315899</td>\n",
       "      <td>0.344119</td>\n",
       "    </tr>\n",
       "  </tbody>\n",
       "</table>\n",
       "</div>"
      ],
      "text/plain": [
       "                    Team         1         2         3\n",
       "1     Kansas City Chiefs  0.479041  0.406226  0.500262\n",
       "20   Philadelphia Eagles  0.309424  0.346565  0.454667\n",
       "0          Buffalo Bills  0.486035  0.491504  0.431212\n",
       "14        Miami Dolphins  0.320213  0.328490  0.358238\n",
       "21  Jacksonville Jaguars  0.307045  0.315899  0.344119"
      ]
     },
     "execution_count": 5,
     "metadata": {},
     "output_type": "execute_result"
    }
   ],
   "source": [
    "select_pred_type = 'pred_opt_combo'\n",
    "\n",
    "pred_types_collected[select_pred_type].head()"
   ]
  },
  {
   "cell_type": "code",
   "execution_count": 6,
   "id": "9bccf0e9",
   "metadata": {},
   "outputs": [],
   "source": [
    "last_week = str(max([int(i) for i in pred_types_collected[select_pred_type].columns[1:]]))\n",
    "data_for_plotting = pred_types_collected[select_pred_type].sort_values(last_week, ascending = False).head(10).melt(id_vars = 'Team', var_name = 'week', value_name = 'predicted_probability')"
   ]
  },
  {
   "cell_type": "code",
   "execution_count": 7,
   "id": "d5d94e9d",
   "metadata": {},
   "outputs": [],
   "source": [
    "data_for_plotting['week'] = data_for_plotting['week'].astype(int)\n",
    "data_for_plotting.sort_values(['week', 'predicted_probability'], ascending = [True, False], inplace = True)"
   ]
  },
  {
   "cell_type": "code",
   "execution_count": 8,
   "id": "55400a72",
   "metadata": {},
   "outputs": [
    {
     "data": {
      "application/vnd.plotly.v1+json": {
       "config": {
        "plotlyServerURL": "https://plot.ly"
       },
       "data": [
        {
         "hovertemplate": "Team=Kansas City Chiefs<br>Regular season week=%{x}<br>Predicted probability (making SB)=%{y}<extra></extra>",
         "legendgroup": "Kansas City Chiefs",
         "line": {
          "color": "#636efa",
          "dash": "solid"
         },
         "marker": {
          "size": 10,
          "symbol": "circle"
         },
         "mode": "markers+lines",
         "name": "Kansas City Chiefs",
         "orientation": "v",
         "showlegend": true,
         "type": "scatter",
         "x": [
          1,
          2,
          3
         ],
         "xaxis": "x",
         "y": [
          0.4790405012400606,
          0.4062261674318047,
          0.5002620460372644
         ],
         "yaxis": "y"
        },
        {
         "hovertemplate": "Team=Philadelphia Eagles<br>Regular season week=%{x}<br>Predicted probability (making SB)=%{y}<extra></extra>",
         "legendgroup": "Philadelphia Eagles",
         "line": {
          "color": "#EF553B",
          "dash": "solid"
         },
         "marker": {
          "size": 10,
          "symbol": "circle"
         },
         "mode": "markers+lines",
         "name": "Philadelphia Eagles",
         "orientation": "v",
         "showlegend": true,
         "type": "scatter",
         "x": [
          1,
          2,
          3
         ],
         "xaxis": "x",
         "y": [
          0.3094242162237843,
          0.3465647177626486,
          0.4546669654973615
         ],
         "yaxis": "y"
        },
        {
         "hovertemplate": "Team=Buffalo Bills<br>Regular season week=%{x}<br>Predicted probability (making SB)=%{y}<extra></extra>",
         "legendgroup": "Buffalo Bills",
         "line": {
          "color": "#00cc96",
          "dash": "solid"
         },
         "marker": {
          "size": 10,
          "symbol": "circle"
         },
         "mode": "markers+lines",
         "name": "Buffalo Bills",
         "orientation": "v",
         "showlegend": true,
         "type": "scatter",
         "x": [
          1,
          2,
          3
         ],
         "xaxis": "x",
         "y": [
          0.4860346930208458,
          0.4915040823435248,
          0.4312120086517247
         ],
         "yaxis": "y"
        },
        {
         "hovertemplate": "Team=Miami Dolphins<br>Regular season week=%{x}<br>Predicted probability (making SB)=%{y}<extra></extra>",
         "legendgroup": "Miami Dolphins",
         "line": {
          "color": "#ab63fa",
          "dash": "solid"
         },
         "marker": {
          "size": 10,
          "symbol": "circle"
         },
         "mode": "markers+lines",
         "name": "Miami Dolphins",
         "orientation": "v",
         "showlegend": true,
         "type": "scatter",
         "x": [
          1,
          2,
          3
         ],
         "xaxis": "x",
         "y": [
          0.3202130360136723,
          0.3284896272153761,
          0.3582384759078025
         ],
         "yaxis": "y"
        },
        {
         "hovertemplate": "Team=Jacksonville Jaguars<br>Regular season week=%{x}<br>Predicted probability (making SB)=%{y}<extra></extra>",
         "legendgroup": "Jacksonville Jaguars",
         "line": {
          "color": "#FFA15A",
          "dash": "solid"
         },
         "marker": {
          "size": 10,
          "symbol": "circle"
         },
         "mode": "markers+lines",
         "name": "Jacksonville Jaguars",
         "orientation": "v",
         "showlegend": true,
         "type": "scatter",
         "x": [
          1,
          2,
          3
         ],
         "xaxis": "x",
         "y": [
          0.3070453239825795,
          0.3158991064169648,
          0.3441186510019326
         ],
         "yaxis": "y"
        },
        {
         "hovertemplate": "Team=Tampa Bay Buccaneers<br>Regular season week=%{x}<br>Predicted probability (making SB)=%{y}<extra></extra>",
         "legendgroup": "Tampa Bay Buccaneers",
         "line": {
          "color": "#19d3f3",
          "dash": "solid"
         },
         "marker": {
          "size": 10,
          "symbol": "circle"
         },
         "mode": "markers+lines",
         "name": "Tampa Bay Buccaneers",
         "orientation": "v",
         "showlegend": true,
         "type": "scatter",
         "x": [
          1,
          2,
          3
         ],
         "xaxis": "x",
         "y": [
          0.4491663938362877,
          0.3902842530476066,
          0.3420949526738171
         ],
         "yaxis": "y"
        },
        {
         "hovertemplate": "Team=Baltimore Ravens<br>Regular season week=%{x}<br>Predicted probability (making SB)=%{y}<extra></extra>",
         "legendgroup": "Baltimore Ravens",
         "line": {
          "color": "#FF6692",
          "dash": "solid"
         },
         "marker": {
          "size": 10,
          "symbol": "circle"
         },
         "mode": "markers+lines",
         "name": "Baltimore Ravens",
         "orientation": "v",
         "showlegend": true,
         "type": "scatter",
         "x": [
          1,
          2,
          3
         ],
         "xaxis": "x",
         "y": [
          0.4490987178254372,
          0.3823259147982332,
          0.3365601389597538
         ],
         "yaxis": "y"
        },
        {
         "hovertemplate": "Team=Green Bay Packers<br>Regular season week=%{x}<br>Predicted probability (making SB)=%{y}<extra></extra>",
         "legendgroup": "Green Bay Packers",
         "line": {
          "color": "#B6E880",
          "dash": "solid"
         },
         "marker": {
          "size": 10,
          "symbol": "circle"
         },
         "mode": "markers+lines",
         "name": "Green Bay Packers",
         "orientation": "v",
         "showlegend": true,
         "type": "scatter",
         "x": [
          1,
          2,
          3
         ],
         "xaxis": "x",
         "y": [
          0.3055710996990697,
          0.3119078381802584,
          0.3228007590252795
         ],
         "yaxis": "y"
        },
        {
         "hovertemplate": "Team=Los Angeles Chargers<br>Regular season week=%{x}<br>Predicted probability (making SB)=%{y}<extra></extra>",
         "legendgroup": "Los Angeles Chargers",
         "line": {
          "color": "#FF97FF",
          "dash": "solid"
         },
         "marker": {
          "size": 10,
          "symbol": "circle"
         },
         "mode": "markers+lines",
         "name": "Los Angeles Chargers",
         "orientation": "v",
         "showlegend": true,
         "type": "scatter",
         "x": [
          1,
          2,
          3
         ],
         "xaxis": "x",
         "y": [
          0.3174186029182014,
          0.3388961414748238,
          0.3211967959739159
         ],
         "yaxis": "y"
        },
        {
         "hovertemplate": "Team=Carolina Panthers<br>Regular season week=%{x}<br>Predicted probability (making SB)=%{y}<extra></extra>",
         "legendgroup": "Carolina Panthers",
         "line": {
          "color": "#FECB52",
          "dash": "solid"
         },
         "marker": {
          "size": 10,
          "symbol": "circle"
         },
         "mode": "markers+lines",
         "name": "Carolina Panthers",
         "orientation": "v",
         "showlegend": true,
         "type": "scatter",
         "x": [
          1,
          2,
          3
         ],
         "xaxis": "x",
         "y": [
          0.3895327192121189,
          0.3342140727166421,
          0.3173167383591328
         ],
         "yaxis": "y"
        }
       ],
       "layout": {
        "height": 475,
        "legend": {
         "title": {
          "text": "Team"
         },
         "tracegroupgap": 0
        },
        "paper_bgcolor": "white",
        "plot_bgcolor": "white",
        "template": {
         "data": {
          "bar": [
           {
            "error_x": {
             "color": "#2a3f5f"
            },
            "error_y": {
             "color": "#2a3f5f"
            },
            "marker": {
             "line": {
              "color": "#E5ECF6",
              "width": 0.5
             },
             "pattern": {
              "fillmode": "overlay",
              "size": 10,
              "solidity": 0.2
             }
            },
            "type": "bar"
           }
          ],
          "barpolar": [
           {
            "marker": {
             "line": {
              "color": "#E5ECF6",
              "width": 0.5
             },
             "pattern": {
              "fillmode": "overlay",
              "size": 10,
              "solidity": 0.2
             }
            },
            "type": "barpolar"
           }
          ],
          "carpet": [
           {
            "aaxis": {
             "endlinecolor": "#2a3f5f",
             "gridcolor": "white",
             "linecolor": "white",
             "minorgridcolor": "white",
             "startlinecolor": "#2a3f5f"
            },
            "baxis": {
             "endlinecolor": "#2a3f5f",
             "gridcolor": "white",
             "linecolor": "white",
             "minorgridcolor": "white",
             "startlinecolor": "#2a3f5f"
            },
            "type": "carpet"
           }
          ],
          "choropleth": [
           {
            "colorbar": {
             "outlinewidth": 0,
             "ticks": ""
            },
            "type": "choropleth"
           }
          ],
          "contour": [
           {
            "colorbar": {
             "outlinewidth": 0,
             "ticks": ""
            },
            "colorscale": [
             [
              0,
              "#0d0887"
             ],
             [
              0.1111111111111111,
              "#46039f"
             ],
             [
              0.2222222222222222,
              "#7201a8"
             ],
             [
              0.3333333333333333,
              "#9c179e"
             ],
             [
              0.4444444444444444,
              "#bd3786"
             ],
             [
              0.5555555555555556,
              "#d8576b"
             ],
             [
              0.6666666666666666,
              "#ed7953"
             ],
             [
              0.7777777777777778,
              "#fb9f3a"
             ],
             [
              0.8888888888888888,
              "#fdca26"
             ],
             [
              1,
              "#f0f921"
             ]
            ],
            "type": "contour"
           }
          ],
          "contourcarpet": [
           {
            "colorbar": {
             "outlinewidth": 0,
             "ticks": ""
            },
            "type": "contourcarpet"
           }
          ],
          "heatmap": [
           {
            "colorbar": {
             "outlinewidth": 0,
             "ticks": ""
            },
            "colorscale": [
             [
              0,
              "#0d0887"
             ],
             [
              0.1111111111111111,
              "#46039f"
             ],
             [
              0.2222222222222222,
              "#7201a8"
             ],
             [
              0.3333333333333333,
              "#9c179e"
             ],
             [
              0.4444444444444444,
              "#bd3786"
             ],
             [
              0.5555555555555556,
              "#d8576b"
             ],
             [
              0.6666666666666666,
              "#ed7953"
             ],
             [
              0.7777777777777778,
              "#fb9f3a"
             ],
             [
              0.8888888888888888,
              "#fdca26"
             ],
             [
              1,
              "#f0f921"
             ]
            ],
            "type": "heatmap"
           }
          ],
          "heatmapgl": [
           {
            "colorbar": {
             "outlinewidth": 0,
             "ticks": ""
            },
            "colorscale": [
             [
              0,
              "#0d0887"
             ],
             [
              0.1111111111111111,
              "#46039f"
             ],
             [
              0.2222222222222222,
              "#7201a8"
             ],
             [
              0.3333333333333333,
              "#9c179e"
             ],
             [
              0.4444444444444444,
              "#bd3786"
             ],
             [
              0.5555555555555556,
              "#d8576b"
             ],
             [
              0.6666666666666666,
              "#ed7953"
             ],
             [
              0.7777777777777778,
              "#fb9f3a"
             ],
             [
              0.8888888888888888,
              "#fdca26"
             ],
             [
              1,
              "#f0f921"
             ]
            ],
            "type": "heatmapgl"
           }
          ],
          "histogram": [
           {
            "marker": {
             "pattern": {
              "fillmode": "overlay",
              "size": 10,
              "solidity": 0.2
             }
            },
            "type": "histogram"
           }
          ],
          "histogram2d": [
           {
            "colorbar": {
             "outlinewidth": 0,
             "ticks": ""
            },
            "colorscale": [
             [
              0,
              "#0d0887"
             ],
             [
              0.1111111111111111,
              "#46039f"
             ],
             [
              0.2222222222222222,
              "#7201a8"
             ],
             [
              0.3333333333333333,
              "#9c179e"
             ],
             [
              0.4444444444444444,
              "#bd3786"
             ],
             [
              0.5555555555555556,
              "#d8576b"
             ],
             [
              0.6666666666666666,
              "#ed7953"
             ],
             [
              0.7777777777777778,
              "#fb9f3a"
             ],
             [
              0.8888888888888888,
              "#fdca26"
             ],
             [
              1,
              "#f0f921"
             ]
            ],
            "type": "histogram2d"
           }
          ],
          "histogram2dcontour": [
           {
            "colorbar": {
             "outlinewidth": 0,
             "ticks": ""
            },
            "colorscale": [
             [
              0,
              "#0d0887"
             ],
             [
              0.1111111111111111,
              "#46039f"
             ],
             [
              0.2222222222222222,
              "#7201a8"
             ],
             [
              0.3333333333333333,
              "#9c179e"
             ],
             [
              0.4444444444444444,
              "#bd3786"
             ],
             [
              0.5555555555555556,
              "#d8576b"
             ],
             [
              0.6666666666666666,
              "#ed7953"
             ],
             [
              0.7777777777777778,
              "#fb9f3a"
             ],
             [
              0.8888888888888888,
              "#fdca26"
             ],
             [
              1,
              "#f0f921"
             ]
            ],
            "type": "histogram2dcontour"
           }
          ],
          "mesh3d": [
           {
            "colorbar": {
             "outlinewidth": 0,
             "ticks": ""
            },
            "type": "mesh3d"
           }
          ],
          "parcoords": [
           {
            "line": {
             "colorbar": {
              "outlinewidth": 0,
              "ticks": ""
             }
            },
            "type": "parcoords"
           }
          ],
          "pie": [
           {
            "automargin": true,
            "type": "pie"
           }
          ],
          "scatter": [
           {
            "marker": {
             "colorbar": {
              "outlinewidth": 0,
              "ticks": ""
             }
            },
            "type": "scatter"
           }
          ],
          "scatter3d": [
           {
            "line": {
             "colorbar": {
              "outlinewidth": 0,
              "ticks": ""
             }
            },
            "marker": {
             "colorbar": {
              "outlinewidth": 0,
              "ticks": ""
             }
            },
            "type": "scatter3d"
           }
          ],
          "scattercarpet": [
           {
            "marker": {
             "colorbar": {
              "outlinewidth": 0,
              "ticks": ""
             }
            },
            "type": "scattercarpet"
           }
          ],
          "scattergeo": [
           {
            "marker": {
             "colorbar": {
              "outlinewidth": 0,
              "ticks": ""
             }
            },
            "type": "scattergeo"
           }
          ],
          "scattergl": [
           {
            "marker": {
             "colorbar": {
              "outlinewidth": 0,
              "ticks": ""
             }
            },
            "type": "scattergl"
           }
          ],
          "scattermapbox": [
           {
            "marker": {
             "colorbar": {
              "outlinewidth": 0,
              "ticks": ""
             }
            },
            "type": "scattermapbox"
           }
          ],
          "scatterpolar": [
           {
            "marker": {
             "colorbar": {
              "outlinewidth": 0,
              "ticks": ""
             }
            },
            "type": "scatterpolar"
           }
          ],
          "scatterpolargl": [
           {
            "marker": {
             "colorbar": {
              "outlinewidth": 0,
              "ticks": ""
             }
            },
            "type": "scatterpolargl"
           }
          ],
          "scatterternary": [
           {
            "marker": {
             "colorbar": {
              "outlinewidth": 0,
              "ticks": ""
             }
            },
            "type": "scatterternary"
           }
          ],
          "surface": [
           {
            "colorbar": {
             "outlinewidth": 0,
             "ticks": ""
            },
            "colorscale": [
             [
              0,
              "#0d0887"
             ],
             [
              0.1111111111111111,
              "#46039f"
             ],
             [
              0.2222222222222222,
              "#7201a8"
             ],
             [
              0.3333333333333333,
              "#9c179e"
             ],
             [
              0.4444444444444444,
              "#bd3786"
             ],
             [
              0.5555555555555556,
              "#d8576b"
             ],
             [
              0.6666666666666666,
              "#ed7953"
             ],
             [
              0.7777777777777778,
              "#fb9f3a"
             ],
             [
              0.8888888888888888,
              "#fdca26"
             ],
             [
              1,
              "#f0f921"
             ]
            ],
            "type": "surface"
           }
          ],
          "table": [
           {
            "cells": {
             "fill": {
              "color": "#EBF0F8"
             },
             "line": {
              "color": "white"
             }
            },
            "header": {
             "fill": {
              "color": "#C8D4E3"
             },
             "line": {
              "color": "white"
             }
            },
            "type": "table"
           }
          ]
         },
         "layout": {
          "annotationdefaults": {
           "arrowcolor": "#2a3f5f",
           "arrowhead": 0,
           "arrowwidth": 1
          },
          "autotypenumbers": "strict",
          "coloraxis": {
           "colorbar": {
            "outlinewidth": 0,
            "ticks": ""
           }
          },
          "colorscale": {
           "diverging": [
            [
             0,
             "#8e0152"
            ],
            [
             0.1,
             "#c51b7d"
            ],
            [
             0.2,
             "#de77ae"
            ],
            [
             0.3,
             "#f1b6da"
            ],
            [
             0.4,
             "#fde0ef"
            ],
            [
             0.5,
             "#f7f7f7"
            ],
            [
             0.6,
             "#e6f5d0"
            ],
            [
             0.7,
             "#b8e186"
            ],
            [
             0.8,
             "#7fbc41"
            ],
            [
             0.9,
             "#4d9221"
            ],
            [
             1,
             "#276419"
            ]
           ],
           "sequential": [
            [
             0,
             "#0d0887"
            ],
            [
             0.1111111111111111,
             "#46039f"
            ],
            [
             0.2222222222222222,
             "#7201a8"
            ],
            [
             0.3333333333333333,
             "#9c179e"
            ],
            [
             0.4444444444444444,
             "#bd3786"
            ],
            [
             0.5555555555555556,
             "#d8576b"
            ],
            [
             0.6666666666666666,
             "#ed7953"
            ],
            [
             0.7777777777777778,
             "#fb9f3a"
            ],
            [
             0.8888888888888888,
             "#fdca26"
            ],
            [
             1,
             "#f0f921"
            ]
           ],
           "sequentialminus": [
            [
             0,
             "#0d0887"
            ],
            [
             0.1111111111111111,
             "#46039f"
            ],
            [
             0.2222222222222222,
             "#7201a8"
            ],
            [
             0.3333333333333333,
             "#9c179e"
            ],
            [
             0.4444444444444444,
             "#bd3786"
            ],
            [
             0.5555555555555556,
             "#d8576b"
            ],
            [
             0.6666666666666666,
             "#ed7953"
            ],
            [
             0.7777777777777778,
             "#fb9f3a"
            ],
            [
             0.8888888888888888,
             "#fdca26"
            ],
            [
             1,
             "#f0f921"
            ]
           ]
          },
          "colorway": [
           "#636efa",
           "#EF553B",
           "#00cc96",
           "#ab63fa",
           "#FFA15A",
           "#19d3f3",
           "#FF6692",
           "#B6E880",
           "#FF97FF",
           "#FECB52"
          ],
          "font": {
           "color": "#2a3f5f"
          },
          "geo": {
           "bgcolor": "white",
           "lakecolor": "white",
           "landcolor": "#E5ECF6",
           "showlakes": true,
           "showland": true,
           "subunitcolor": "white"
          },
          "hoverlabel": {
           "align": "left"
          },
          "hovermode": "closest",
          "mapbox": {
           "style": "light"
          },
          "paper_bgcolor": "white",
          "plot_bgcolor": "#E5ECF6",
          "polar": {
           "angularaxis": {
            "gridcolor": "white",
            "linecolor": "white",
            "ticks": ""
           },
           "bgcolor": "#E5ECF6",
           "radialaxis": {
            "gridcolor": "white",
            "linecolor": "white",
            "ticks": ""
           }
          },
          "scene": {
           "xaxis": {
            "backgroundcolor": "#E5ECF6",
            "gridcolor": "white",
            "gridwidth": 2,
            "linecolor": "white",
            "showbackground": true,
            "ticks": "",
            "zerolinecolor": "white"
           },
           "yaxis": {
            "backgroundcolor": "#E5ECF6",
            "gridcolor": "white",
            "gridwidth": 2,
            "linecolor": "white",
            "showbackground": true,
            "ticks": "",
            "zerolinecolor": "white"
           },
           "zaxis": {
            "backgroundcolor": "#E5ECF6",
            "gridcolor": "white",
            "gridwidth": 2,
            "linecolor": "white",
            "showbackground": true,
            "ticks": "",
            "zerolinecolor": "white"
           }
          },
          "shapedefaults": {
           "line": {
            "color": "#2a3f5f"
           }
          },
          "ternary": {
           "aaxis": {
            "gridcolor": "white",
            "linecolor": "white",
            "ticks": ""
           },
           "baxis": {
            "gridcolor": "white",
            "linecolor": "white",
            "ticks": ""
           },
           "bgcolor": "#E5ECF6",
           "caxis": {
            "gridcolor": "white",
            "linecolor": "white",
            "ticks": ""
           }
          },
          "title": {
           "x": 0.05
          },
          "xaxis": {
           "automargin": true,
           "gridcolor": "white",
           "linecolor": "white",
           "ticks": "",
           "title": {
            "standoff": 15
           },
           "zerolinecolor": "white",
           "zerolinewidth": 2
          },
          "yaxis": {
           "automargin": true,
           "gridcolor": "white",
           "linecolor": "white",
           "ticks": "",
           "title": {
            "standoff": 15
           },
           "zerolinecolor": "white",
           "zerolinewidth": 2
          }
         }
        },
        "title": {
         "text": "Top 10 teams to make it to the Super Bowl in the 2022 NFL season"
        },
        "width": 950,
        "xaxis": {
         "anchor": "y",
         "domain": [
          0,
          1
         ],
         "gridcolor": "lightgray",
         "gridwidth": 0,
         "linecolor": "black",
         "linewidth": 1.5,
         "showline": true,
         "tickfont": {
          "size": 15
         },
         "title": {
          "text": "Regular season week"
         }
        },
        "yaxis": {
         "anchor": "x",
         "domain": [
          0,
          1
         ],
         "gridcolor": "lightgray",
         "gridwidth": 0,
         "linecolor": "black",
         "linewidth": 1.5,
         "showline": true,
         "tickfont": {
          "size": 15
         },
         "title": {
          "text": "Predicted probability (making SB)"
         }
        }
       }
      }
     },
     "metadata": {},
     "output_type": "display_data"
    }
   ],
   "source": [
    "legend_order = data_for_plotting[data_for_plotting['week'] == int(last_week)]['Team'].tolist()\n",
    "\n",
    "fig = px.line(data_for_plotting, 'week', 'predicted_probability', color = 'Team', \n",
    "              title = 'Top 10 teams to make it to the Super Bowl in the 2022 NFL season', \n",
    "              labels = {'week' : 'Regular season week', 'predicted_probability' : 'Predicted probability (making SB)'},\n",
    "              width = 950, height = 475, category_orders={\"Team\": legend_order})\n",
    "fig.update_yaxes(tickfont = {'size' : 15}, showline=True, linecolor='black', gridcolor='lightgray', linewidth=1.5, gridwidth=0.0)\n",
    "fig.update_xaxes(tickfont = {'size' : 15}, showline=True, linecolor='black', gridcolor='lightgray', linewidth=1.5, gridwidth=0.0)\n",
    "fig.update_traces(mode = 'markers+lines', marker={'size': 10})\n",
    "fig.update_layout({'plot_bgcolor': 'white','paper_bgcolor': 'white'})\n",
    "\n",
    "fig.show()"
   ]
  },
  {
   "cell_type": "code",
   "execution_count": null,
   "id": "d14a3d67",
   "metadata": {},
   "outputs": [],
   "source": []
  },
  {
   "cell_type": "markdown",
   "id": "813081be",
   "metadata": {},
   "source": [
    "Largest differences to week 1"
   ]
  },
  {
   "cell_type": "code",
   "execution_count": 9,
   "id": "8b5fd924",
   "metadata": {},
   "outputs": [],
   "source": [
    "first_week = str(data_for_plotting['week'].min())\n",
    "last_week = str(data_for_plotting['week'].max())"
   ]
  },
  {
   "cell_type": "code",
   "execution_count": 10,
   "id": "9da57d30",
   "metadata": {},
   "outputs": [],
   "source": [
    "first_last_weeks = pred_types_collected[select_pred_type][['Team', first_week, last_week]]\n",
    "\n",
    "first_last_weeks['diff_ABS'] = first_last_weeks[last_week] - first_last_weeks[first_week]\n",
    "first_last_weeks['diff_REL'] = first_last_weeks[last_week] / first_last_weeks[first_week] - 1"
   ]
  },
  {
   "cell_type": "code",
   "execution_count": 11,
   "id": "2a42baf9",
   "metadata": {},
   "outputs": [
    {
     "data": {
      "text/html": [
       "<div>\n",
       "<style scoped>\n",
       "    .dataframe tbody tr th:only-of-type {\n",
       "        vertical-align: middle;\n",
       "    }\n",
       "\n",
       "    .dataframe tbody tr th {\n",
       "        vertical-align: top;\n",
       "    }\n",
       "\n",
       "    .dataframe thead th {\n",
       "        text-align: right;\n",
       "    }\n",
       "</style>\n",
       "<table border=\"1\" class=\"dataframe\">\n",
       "  <thead>\n",
       "    <tr style=\"text-align: right;\">\n",
       "      <th></th>\n",
       "      <th>Team</th>\n",
       "      <th>diff_ABS</th>\n",
       "    </tr>\n",
       "  </thead>\n",
       "  <tbody>\n",
       "    <tr>\n",
       "      <th>3</th>\n",
       "      <td>Baltimore Ravens</td>\n",
       "      <td>-0.112539</td>\n",
       "    </tr>\n",
       "    <tr>\n",
       "      <th>2</th>\n",
       "      <td>Tampa Bay Buccaneers</td>\n",
       "      <td>-0.107071</td>\n",
       "    </tr>\n",
       "    <tr>\n",
       "      <th>4</th>\n",
       "      <td>Carolina Panthers</td>\n",
       "      <td>-0.072216</td>\n",
       "    </tr>\n",
       "    <tr>\n",
       "      <th>6</th>\n",
       "      <td>Minnesota Vikings</td>\n",
       "      <td>-0.064416</td>\n",
       "    </tr>\n",
       "    <tr>\n",
       "      <th>7</th>\n",
       "      <td>Indianapolis Colts</td>\n",
       "      <td>-0.059356</td>\n",
       "    </tr>\n",
       "    <tr>\n",
       "      <th>0</th>\n",
       "      <td>Buffalo Bills</td>\n",
       "      <td>-0.054823</td>\n",
       "    </tr>\n",
       "    <tr>\n",
       "      <th>5</th>\n",
       "      <td>Washington Commanders</td>\n",
       "      <td>-0.047810</td>\n",
       "    </tr>\n",
       "    <tr>\n",
       "      <th>9</th>\n",
       "      <td>Seattle Seahawks</td>\n",
       "      <td>-0.038232</td>\n",
       "    </tr>\n",
       "    <tr>\n",
       "      <th>8</th>\n",
       "      <td>New York Giants</td>\n",
       "      <td>-0.036743</td>\n",
       "    </tr>\n",
       "    <tr>\n",
       "      <th>12</th>\n",
       "      <td>Pittsburgh Steelers</td>\n",
       "      <td>-0.034585</td>\n",
       "    </tr>\n",
       "    <tr>\n",
       "      <th>13</th>\n",
       "      <td>Chicago Bears</td>\n",
       "      <td>-0.027672</td>\n",
       "    </tr>\n",
       "    <tr>\n",
       "      <th>10</th>\n",
       "      <td>Las Vegas Raiders</td>\n",
       "      <td>-0.026499</td>\n",
       "    </tr>\n",
       "    <tr>\n",
       "      <th>26</th>\n",
       "      <td>Houston Texans</td>\n",
       "      <td>-0.022467</td>\n",
       "    </tr>\n",
       "    <tr>\n",
       "      <th>23</th>\n",
       "      <td>Arizona Cardinals</td>\n",
       "      <td>-0.016375</td>\n",
       "    </tr>\n",
       "    <tr>\n",
       "      <th>27</th>\n",
       "      <td>New York Jets</td>\n",
       "      <td>-0.015758</td>\n",
       "    </tr>\n",
       "    <tr>\n",
       "      <th>15</th>\n",
       "      <td>Tennessee Titans</td>\n",
       "      <td>-0.014910</td>\n",
       "    </tr>\n",
       "    <tr>\n",
       "      <th>11</th>\n",
       "      <td>Denver Broncos</td>\n",
       "      <td>-0.013363</td>\n",
       "    </tr>\n",
       "    <tr>\n",
       "      <th>25</th>\n",
       "      <td>New Orleans Saints</td>\n",
       "      <td>-0.006972</td>\n",
       "    </tr>\n",
       "    <tr>\n",
       "      <th>18</th>\n",
       "      <td>Dallas Cowboys</td>\n",
       "      <td>-0.004298</td>\n",
       "    </tr>\n",
       "    <tr>\n",
       "      <th>24</th>\n",
       "      <td>Cleveland Browns</td>\n",
       "      <td>-0.002375</td>\n",
       "    </tr>\n",
       "    <tr>\n",
       "      <th>17</th>\n",
       "      <td>Cincinnati Bengals</td>\n",
       "      <td>-0.002373</td>\n",
       "    </tr>\n",
       "    <tr>\n",
       "      <th>19</th>\n",
       "      <td>New England Patriots</td>\n",
       "      <td>-0.000520</td>\n",
       "    </tr>\n",
       "    <tr>\n",
       "      <th>28</th>\n",
       "      <td>Detroit Lions</td>\n",
       "      <td>0.000371</td>\n",
       "    </tr>\n",
       "    <tr>\n",
       "      <th>16</th>\n",
       "      <td>Los Angeles Chargers</td>\n",
       "      <td>0.003778</td>\n",
       "    </tr>\n",
       "    <tr>\n",
       "      <th>31</th>\n",
       "      <td>Los Angeles Rams</td>\n",
       "      <td>0.010256</td>\n",
       "    </tr>\n",
       "    <tr>\n",
       "      <th>29</th>\n",
       "      <td>Atlanta Falcons</td>\n",
       "      <td>0.010950</td>\n",
       "    </tr>\n",
       "    <tr>\n",
       "      <th>22</th>\n",
       "      <td>Green Bay Packers</td>\n",
       "      <td>0.017230</td>\n",
       "    </tr>\n",
       "    <tr>\n",
       "      <th>30</th>\n",
       "      <td>San Francisco 49ers</td>\n",
       "      <td>0.017321</td>\n",
       "    </tr>\n",
       "    <tr>\n",
       "      <th>1</th>\n",
       "      <td>Kansas City Chiefs</td>\n",
       "      <td>0.021222</td>\n",
       "    </tr>\n",
       "    <tr>\n",
       "      <th>21</th>\n",
       "      <td>Jacksonville Jaguars</td>\n",
       "      <td>0.037073</td>\n",
       "    </tr>\n",
       "    <tr>\n",
       "      <th>14</th>\n",
       "      <td>Miami Dolphins</td>\n",
       "      <td>0.038025</td>\n",
       "    </tr>\n",
       "    <tr>\n",
       "      <th>20</th>\n",
       "      <td>Philadelphia Eagles</td>\n",
       "      <td>0.145243</td>\n",
       "    </tr>\n",
       "  </tbody>\n",
       "</table>\n",
       "</div>"
      ],
      "text/plain": [
       "                     Team  diff_ABS\n",
       "3        Baltimore Ravens -0.112539\n",
       "2    Tampa Bay Buccaneers -0.107071\n",
       "4       Carolina Panthers -0.072216\n",
       "6       Minnesota Vikings -0.064416\n",
       "7      Indianapolis Colts -0.059356\n",
       "0           Buffalo Bills -0.054823\n",
       "5   Washington Commanders -0.047810\n",
       "9        Seattle Seahawks -0.038232\n",
       "8         New York Giants -0.036743\n",
       "12    Pittsburgh Steelers -0.034585\n",
       "13          Chicago Bears -0.027672\n",
       "10      Las Vegas Raiders -0.026499\n",
       "26         Houston Texans -0.022467\n",
       "23      Arizona Cardinals -0.016375\n",
       "27          New York Jets -0.015758\n",
       "15       Tennessee Titans -0.014910\n",
       "11         Denver Broncos -0.013363\n",
       "25     New Orleans Saints -0.006972\n",
       "18         Dallas Cowboys -0.004298\n",
       "24       Cleveland Browns -0.002375\n",
       "17     Cincinnati Bengals -0.002373\n",
       "19   New England Patriots -0.000520\n",
       "28          Detroit Lions  0.000371\n",
       "16   Los Angeles Chargers  0.003778\n",
       "31       Los Angeles Rams  0.010256\n",
       "29        Atlanta Falcons  0.010950\n",
       "22      Green Bay Packers  0.017230\n",
       "30    San Francisco 49ers  0.017321\n",
       "1      Kansas City Chiefs  0.021222\n",
       "21   Jacksonville Jaguars  0.037073\n",
       "14         Miami Dolphins  0.038025\n",
       "20    Philadelphia Eagles  0.145243"
      ]
     },
     "execution_count": 11,
     "metadata": {},
     "output_type": "execute_result"
    }
   ],
   "source": [
    "first_last_weeks.sort_values('diff_ABS')[['Team', 'diff_ABS']]"
   ]
  },
  {
   "cell_type": "code",
   "execution_count": 12,
   "id": "f10cf049",
   "metadata": {},
   "outputs": [
    {
     "data": {
      "text/html": [
       "<div>\n",
       "<style scoped>\n",
       "    .dataframe tbody tr th:only-of-type {\n",
       "        vertical-align: middle;\n",
       "    }\n",
       "\n",
       "    .dataframe tbody tr th {\n",
       "        vertical-align: top;\n",
       "    }\n",
       "\n",
       "    .dataframe thead th {\n",
       "        text-align: right;\n",
       "    }\n",
       "</style>\n",
       "<table border=\"1\" class=\"dataframe\">\n",
       "  <thead>\n",
       "    <tr style=\"text-align: right;\">\n",
       "      <th></th>\n",
       "      <th>Team</th>\n",
       "      <th>diff_REL</th>\n",
       "    </tr>\n",
       "  </thead>\n",
       "  <tbody>\n",
       "    <tr>\n",
       "      <th>3</th>\n",
       "      <td>Baltimore Ravens</td>\n",
       "      <td>-0.250588</td>\n",
       "    </tr>\n",
       "    <tr>\n",
       "      <th>2</th>\n",
       "      <td>Tampa Bay Buccaneers</td>\n",
       "      <td>-0.238378</td>\n",
       "    </tr>\n",
       "    <tr>\n",
       "      <th>4</th>\n",
       "      <td>Carolina Panthers</td>\n",
       "      <td>-0.185391</td>\n",
       "    </tr>\n",
       "    <tr>\n",
       "      <th>6</th>\n",
       "      <td>Minnesota Vikings</td>\n",
       "      <td>-0.182898</td>\n",
       "    </tr>\n",
       "    <tr>\n",
       "      <th>7</th>\n",
       "      <td>Indianapolis Colts</td>\n",
       "      <td>-0.174985</td>\n",
       "    </tr>\n",
       "    <tr>\n",
       "      <th>5</th>\n",
       "      <td>Washington Commanders</td>\n",
       "      <td>-0.133921</td>\n",
       "    </tr>\n",
       "    <tr>\n",
       "      <th>9</th>\n",
       "      <td>Seattle Seahawks</td>\n",
       "      <td>-0.115250</td>\n",
       "    </tr>\n",
       "    <tr>\n",
       "      <th>0</th>\n",
       "      <td>Buffalo Bills</td>\n",
       "      <td>-0.112796</td>\n",
       "    </tr>\n",
       "    <tr>\n",
       "      <th>8</th>\n",
       "      <td>New York Giants</td>\n",
       "      <td>-0.110577</td>\n",
       "    </tr>\n",
       "    <tr>\n",
       "      <th>12</th>\n",
       "      <td>Pittsburgh Steelers</td>\n",
       "      <td>-0.105531</td>\n",
       "    </tr>\n",
       "    <tr>\n",
       "      <th>13</th>\n",
       "      <td>Chicago Bears</td>\n",
       "      <td>-0.086229</td>\n",
       "    </tr>\n",
       "    <tr>\n",
       "      <th>10</th>\n",
       "      <td>Las Vegas Raiders</td>\n",
       "      <td>-0.080478</td>\n",
       "    </tr>\n",
       "    <tr>\n",
       "      <th>26</th>\n",
       "      <td>Houston Texans</td>\n",
       "      <td>-0.074531</td>\n",
       "    </tr>\n",
       "    <tr>\n",
       "      <th>23</th>\n",
       "      <td>Arizona Cardinals</td>\n",
       "      <td>-0.053950</td>\n",
       "    </tr>\n",
       "    <tr>\n",
       "      <th>27</th>\n",
       "      <td>New York Jets</td>\n",
       "      <td>-0.052316</td>\n",
       "    </tr>\n",
       "    <tr>\n",
       "      <th>15</th>\n",
       "      <td>Tennessee Titans</td>\n",
       "      <td>-0.046761</td>\n",
       "    </tr>\n",
       "    <tr>\n",
       "      <th>11</th>\n",
       "      <td>Denver Broncos</td>\n",
       "      <td>-0.040707</td>\n",
       "    </tr>\n",
       "    <tr>\n",
       "      <th>25</th>\n",
       "      <td>New Orleans Saints</td>\n",
       "      <td>-0.023041</td>\n",
       "    </tr>\n",
       "    <tr>\n",
       "      <th>18</th>\n",
       "      <td>Dallas Cowboys</td>\n",
       "      <td>-0.013817</td>\n",
       "    </tr>\n",
       "    <tr>\n",
       "      <th>24</th>\n",
       "      <td>Cleveland Browns</td>\n",
       "      <td>-0.007842</td>\n",
       "    </tr>\n",
       "    <tr>\n",
       "      <th>17</th>\n",
       "      <td>Cincinnati Bengals</td>\n",
       "      <td>-0.007542</td>\n",
       "    </tr>\n",
       "    <tr>\n",
       "      <th>19</th>\n",
       "      <td>New England Patriots</td>\n",
       "      <td>-0.001677</td>\n",
       "    </tr>\n",
       "    <tr>\n",
       "      <th>28</th>\n",
       "      <td>Detroit Lions</td>\n",
       "      <td>0.001236</td>\n",
       "    </tr>\n",
       "    <tr>\n",
       "      <th>16</th>\n",
       "      <td>Los Angeles Chargers</td>\n",
       "      <td>0.011903</td>\n",
       "    </tr>\n",
       "    <tr>\n",
       "      <th>31</th>\n",
       "      <td>Los Angeles Rams</td>\n",
       "      <td>0.035212</td>\n",
       "    </tr>\n",
       "    <tr>\n",
       "      <th>29</th>\n",
       "      <td>Atlanta Falcons</td>\n",
       "      <td>0.036827</td>\n",
       "    </tr>\n",
       "    <tr>\n",
       "      <th>1</th>\n",
       "      <td>Kansas City Chiefs</td>\n",
       "      <td>0.044300</td>\n",
       "    </tr>\n",
       "    <tr>\n",
       "      <th>22</th>\n",
       "      <td>Green Bay Packers</td>\n",
       "      <td>0.056385</td>\n",
       "    </tr>\n",
       "    <tr>\n",
       "      <th>30</th>\n",
       "      <td>San Francisco 49ers</td>\n",
       "      <td>0.058945</td>\n",
       "    </tr>\n",
       "    <tr>\n",
       "      <th>14</th>\n",
       "      <td>Miami Dolphins</td>\n",
       "      <td>0.118750</td>\n",
       "    </tr>\n",
       "    <tr>\n",
       "      <th>21</th>\n",
       "      <td>Jacksonville Jaguars</td>\n",
       "      <td>0.120742</td>\n",
       "    </tr>\n",
       "    <tr>\n",
       "      <th>20</th>\n",
       "      <td>Philadelphia Eagles</td>\n",
       "      <td>0.469397</td>\n",
       "    </tr>\n",
       "  </tbody>\n",
       "</table>\n",
       "</div>"
      ],
      "text/plain": [
       "                     Team  diff_REL\n",
       "3        Baltimore Ravens -0.250588\n",
       "2    Tampa Bay Buccaneers -0.238378\n",
       "4       Carolina Panthers -0.185391\n",
       "6       Minnesota Vikings -0.182898\n",
       "7      Indianapolis Colts -0.174985\n",
       "5   Washington Commanders -0.133921\n",
       "9        Seattle Seahawks -0.115250\n",
       "0           Buffalo Bills -0.112796\n",
       "8         New York Giants -0.110577\n",
       "12    Pittsburgh Steelers -0.105531\n",
       "13          Chicago Bears -0.086229\n",
       "10      Las Vegas Raiders -0.080478\n",
       "26         Houston Texans -0.074531\n",
       "23      Arizona Cardinals -0.053950\n",
       "27          New York Jets -0.052316\n",
       "15       Tennessee Titans -0.046761\n",
       "11         Denver Broncos -0.040707\n",
       "25     New Orleans Saints -0.023041\n",
       "18         Dallas Cowboys -0.013817\n",
       "24       Cleveland Browns -0.007842\n",
       "17     Cincinnati Bengals -0.007542\n",
       "19   New England Patriots -0.001677\n",
       "28          Detroit Lions  0.001236\n",
       "16   Los Angeles Chargers  0.011903\n",
       "31       Los Angeles Rams  0.035212\n",
       "29        Atlanta Falcons  0.036827\n",
       "1      Kansas City Chiefs  0.044300\n",
       "22      Green Bay Packers  0.056385\n",
       "30    San Francisco 49ers  0.058945\n",
       "14         Miami Dolphins  0.118750\n",
       "21   Jacksonville Jaguars  0.120742\n",
       "20    Philadelphia Eagles  0.469397"
      ]
     },
     "execution_count": 12,
     "metadata": {},
     "output_type": "execute_result"
    }
   ],
   "source": [
    "first_last_weeks.sort_values('diff_REL')[['Team', 'diff_REL']]"
   ]
  },
  {
   "cell_type": "code",
   "execution_count": null,
   "id": "960bf761",
   "metadata": {},
   "outputs": [],
   "source": []
  }
 ],
 "metadata": {
  "kernelspec": {
   "display_name": "Python 3.9.7 ('base')",
   "language": "python",
   "name": "python3"
  },
  "language_info": {
   "codemirror_mode": {
    "name": "ipython",
    "version": 3
   },
   "file_extension": ".py",
   "mimetype": "text/x-python",
   "name": "python",
   "nbconvert_exporter": "python",
   "pygments_lexer": "ipython3",
   "version": "3.9.7"
  },
  "vscode": {
   "interpreter": {
    "hash": "fd5f0602b361fcd80b6e43c9db32d5ff96b182a40640908c77b502a93aa9387e"
   }
  }
 },
 "nbformat": 4,
 "nbformat_minor": 5
}
