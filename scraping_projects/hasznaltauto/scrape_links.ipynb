{
 "cells": [
  {
   "cell_type": "code",
   "execution_count": 56,
   "id": "97c43f85",
   "metadata": {},
   "outputs": [],
   "source": [
    "from bs4 import BeautifulSoup\n",
    "import requests\n",
    "import pickle\n",
    "\n",
    "import pandas as pd\n",
    "import numpy as np\n",
    "\n",
    "from tqdm.notebook import tqdm_notebook\n",
    "\n",
    "from multiprocessing.pool import ThreadPool as Pool\n",
    "\n",
    "import warnings\n",
    "warnings.filterwarnings('ignore')"
   ]
  },
  {
   "cell_type": "markdown",
   "id": "a8ae7ef7",
   "metadata": {},
   "source": [
    "### Get links"
   ]
  },
  {
   "cell_type": "code",
   "execution_count": 60,
   "id": "91ee2b82",
   "metadata": {},
   "outputs": [
    {
     "data": {
      "application/vnd.jupyter.widget-view+json": {
       "model_id": "d3d3f43ad26740e5b3db82052778ebd8",
       "version_major": 2,
       "version_minor": 0
      },
      "text/plain": [
       "Creating URLs from page numbers:   0%|          | 0/8072 [00:00<?, ?it/s]"
      ]
     },
     "metadata": {},
     "output_type": "display_data"
    }
   ],
   "source": [
    "pages = []\n",
    "    \n",
    "for i in tqdm_notebook(range(1, 8073), desc = 'Creating URLs from page numbers'):\n",
    "    pages.append('https://www.hasznaltauto.hu/szemelyauto/page' + str(i))"
   ]
  },
  {
   "cell_type": "code",
   "execution_count": 34,
   "id": "7f500908",
   "metadata": {},
   "outputs": [],
   "source": [
    "def get_car_links(url):\n",
    "    \n",
    "    page = requests.get(url)\n",
    "    soup = BeautifulSoup(page.text)\n",
    "    talalatok = soup.find_all('div', class_ = 'talalati-sor')\n",
    "    \n",
    "    linkek = []\n",
    "    \n",
    "    for i in talalatok:\n",
    "        linkek.append(i.find('a', href = True)['href'])\n",
    "        \n",
    "    return linkek"
   ]
  },
  {
   "cell_type": "code",
   "execution_count": 24,
   "id": "b88cbdae",
   "metadata": {},
   "outputs": [
    {
     "name": "stdout",
     "output_type": "stream",
     "text": [
      "Wall time: 1min 25s\n"
     ]
    }
   ],
   "source": [
    "# %%time\n",
    "\n",
    "# osszes_link = []\n",
    "\n",
    "# for page in pages:\n",
    "#     osszes_link.extend(get_car_links(page))"
   ]
  },
  {
   "cell_type": "code",
   "execution_count": null,
   "id": "b9d60a88",
   "metadata": {},
   "outputs": [],
   "source": []
  },
  {
   "cell_type": "code",
   "execution_count": 25,
   "id": "a68e8934",
   "metadata": {},
   "outputs": [
    {
     "name": "stdout",
     "output_type": "stream",
     "text": [
      "Wall time: 1min 21s\n"
     ]
    }
   ],
   "source": [
    "# %%time\n",
    "\n",
    "# pool = mp.Pool(4)\n",
    "# osszes_link = pool.map(func=get_car_links, iterable=pages, chunksize=30)\n",
    "# pool.close()\n",
    "# pool.join()\n",
    "\n",
    "# # ossz_link = [link for lista in osszes_link for link in lista]\n",
    "# # len(ossz_link)"
   ]
  },
  {
   "cell_type": "code",
   "execution_count": null,
   "id": "9575d9c6",
   "metadata": {},
   "outputs": [],
   "source": []
  },
  {
   "cell_type": "markdown",
   "id": "6bd9bb3e",
   "metadata": {},
   "source": [
    "Apply async will be the winner, reducing time by 1/5"
   ]
  },
  {
   "cell_type": "code",
   "execution_count": 61,
   "id": "80479194",
   "metadata": {},
   "outputs": [
    {
     "data": {
      "application/vnd.jupyter.widget-view+json": {
       "model_id": "d3344bf0bcec4eb9baf2401a9727b389",
       "version_major": 2,
       "version_minor": 0
      },
      "text/plain": [
       "Getting URLs to listings:   0%|          | 0/8072 [00:00<?, ?it/s]"
      ]
     },
     "metadata": {},
     "output_type": "display_data"
    },
    {
     "name": "stdout",
     "output_type": "stream",
     "text": [
      "Wall time: 1h 37min 18s\n"
     ]
    }
   ],
   "source": [
    "%%time\n",
    "\n",
    "osszes_link = []\n",
    "\n",
    "pool = Pool(4)\n",
    "\n",
    "for page in tqdm_notebook(pages, desc = 'Getting URLs to listings'):\n",
    "    pool.apply_async(get_car_links, (page,), callback = osszes_link.extend)\n",
    "\n",
    "pool.close()\n",
    "pool.join()"
   ]
  },
  {
   "cell_type": "code",
   "execution_count": 62,
   "id": "8a28772c",
   "metadata": {},
   "outputs": [
    {
     "data": {
      "text/plain": [
       "80449"
      ]
     },
     "execution_count": 62,
     "metadata": {},
     "output_type": "execute_result"
    }
   ],
   "source": [
    "len(set(osszes_link))"
   ]
  },
  {
   "cell_type": "code",
   "execution_count": 63,
   "id": "59f54525",
   "metadata": {},
   "outputs": [],
   "source": [
    "with open('data/osszes_link.pkl', 'wb') as pkl:\n",
    "    pickle.dump(list(set(osszes_link)), pkl)"
   ]
  },
  {
   "cell_type": "code",
   "execution_count": null,
   "id": "57afb554",
   "metadata": {},
   "outputs": [],
   "source": []
  }
 ],
 "metadata": {
  "kernelspec": {
   "display_name": "Python 3",
   "language": "python",
   "name": "python3"
  },
  "language_info": {
   "codemirror_mode": {
    "name": "ipython",
    "version": 3
   },
   "file_extension": ".py",
   "mimetype": "text/x-python",
   "name": "python",
   "nbconvert_exporter": "python",
   "pygments_lexer": "ipython3",
   "version": "3.8.8"
  }
 },
 "nbformat": 4,
 "nbformat_minor": 5
}
