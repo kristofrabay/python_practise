{
 "cells": [
  {
   "cell_type": "code",
   "execution_count": 161,
   "id": "a1a04c57",
   "metadata": {},
   "outputs": [],
   "source": [
    "from time import time\n",
    "\n",
    "from requests import get\n",
    "import json\n",
    "\n",
    "import pandas as pd\n",
    "import plotly.express as px"
   ]
  },
  {
   "cell_type": "code",
   "execution_count": 145,
   "id": "d76b3d03",
   "metadata": {},
   "outputs": [],
   "source": [
    "headers = {'User-agent' : 'Mozilla/5.0 (Windows; U; Windows NT 5.1; de; rv:1.9.1.5) Gecko/20091102 Firefox/3.5.5'}\n",
    "time_epoch = str(int(time()))\n",
    "\n",
    "link = 'https://www.bkk.hu/pontkereso/json.php?action=list&ne_lat=47.7&ne_lng=19.4&sw_lat=47.2&sw_lng=18.7&_=' + time_epoch\n",
    "df = get(link, headers = headers).json()"
   ]
  },
  {
   "cell_type": "code",
   "execution_count": 146,
   "id": "0c0815c3",
   "metadata": {},
   "outputs": [
    {
     "data": {
      "text/plain": [
       "836"
      ]
     },
     "execution_count": 146,
     "metadata": {},
     "output_type": "execute_result"
    }
   ],
   "source": [
    "len(df)"
   ]
  },
  {
   "cell_type": "code",
   "execution_count": 147,
   "id": "62ddeebd",
   "metadata": {},
   "outputs": [
    {
     "data": {
      "text/html": [
       "<div>\n",
       "<style scoped>\n",
       "    .dataframe tbody tr th:only-of-type {\n",
       "        vertical-align: middle;\n",
       "    }\n",
       "\n",
       "    .dataframe tbody tr th {\n",
       "        vertical-align: top;\n",
       "    }\n",
       "\n",
       "    .dataframe thead th {\n",
       "        text-align: right;\n",
       "    }\n",
       "</style>\n",
       "<table border=\"1\" class=\"dataframe\">\n",
       "  <thead>\n",
       "    <tr style=\"text-align: right;\">\n",
       "      <th></th>\n",
       "      <th>id</th>\n",
       "      <th>type_id</th>\n",
       "      <th>type</th>\n",
       "      <th>type_order</th>\n",
       "      <th>place</th>\n",
       "      <th>address</th>\n",
       "      <th>description</th>\n",
       "      <th>partner</th>\n",
       "      <th>organization</th>\n",
       "      <th>lat</th>\n",
       "      <th>lng</th>\n",
       "      <th>banknote</th>\n",
       "      <th>state</th>\n",
       "      <th>creditcard</th>\n",
       "      <th>credential</th>\n",
       "      <th>reexchange</th>\n",
       "      <th>identifier</th>\n",
       "      <th>placed_at</th>\n",
       "      <th>opening</th>\n",
       "      <th>products</th>\n",
       "    </tr>\n",
       "  </thead>\n",
       "  <tbody>\n",
       "    <tr>\n",
       "      <th>0</th>\n",
       "      <td>1166</td>\n",
       "      <td>4</td>\n",
       "      <td>Viszonteladó</td>\n",
       "      <td>1</td>\n",
       "      <td>Alsógöd</td>\n",
       "      <td>Béke út</td>\n",
       "      <td>további információ: www.mavcsoport.hu</td>\n",
       "      <td>MÁV-START Zrt.</td>\n",
       "      <td>MÁV-START Zrt. pénztár</td>\n",
       "      <td>47.677739</td>\n",
       "      <td>19.134793</td>\n",
       "      <td>1</td>\n",
       "      <td>1</td>\n",
       "      <td>1</td>\n",
       "      <td>0</td>\n",
       "      <td>0</td>\n",
       "      <td></td>\n",
       "      <td>None</td>\n",
       "      <td>{'general': [{'point_id': 1166, 'day': 1, 'ope...</td>\n",
       "      <td>[39, 41, 42, 51, 52, 53, 54, 55]</td>\n",
       "    </tr>\n",
       "    <tr>\n",
       "      <th>1</th>\n",
       "      <td>1190</td>\n",
       "      <td>4</td>\n",
       "      <td>Viszonteladó</td>\n",
       "      <td>1</td>\n",
       "      <td>Biatorbágy</td>\n",
       "      <td>Dózsa György út 1.</td>\n",
       "      <td>további információ: www.mavcsoport.hu</td>\n",
       "      <td>MÁV-START Zrt.</td>\n",
       "      <td>MÁV-START Zrt. pénztár</td>\n",
       "      <td>47.479982</td>\n",
       "      <td>18.834782</td>\n",
       "      <td>1</td>\n",
       "      <td>1</td>\n",
       "      <td>1</td>\n",
       "      <td>0</td>\n",
       "      <td>0</td>\n",
       "      <td>None</td>\n",
       "      <td>None</td>\n",
       "      <td>{'general': [{'point_id': 1190, 'day': 1, 'ope...</td>\n",
       "      <td>[39, 41, 42, 51, 52, 53, 54, 55]</td>\n",
       "    </tr>\n",
       "    <tr>\n",
       "      <th>2</th>\n",
       "      <td>2119</td>\n",
       "      <td>3</td>\n",
       "      <td>BKK automata</td>\n",
       "      <td>3</td>\n",
       "      <td>Budakalász</td>\n",
       "      <td>Szentistvántelep</td>\n",
       "      <td>hévállomás</td>\n",
       "      <td>BKK Zrt.</td>\n",
       "      <td>BKK-automata</td>\n",
       "      <td>47.628853</td>\n",
       "      <td>19.043324</td>\n",
       "      <td>1</td>\n",
       "      <td>1</td>\n",
       "      <td>1</td>\n",
       "      <td>0</td>\n",
       "      <td>0</td>\n",
       "      <td>E51</td>\n",
       "      <td>2018-06-21</td>\n",
       "      <td>{'general': [{'point_id': 2119, 'day': 1, 'ope...</td>\n",
       "      <td>[1, 3, 4, 5, 6, 7, 9, 10, 11, 12, 13, 14, 15, ...</td>\n",
       "    </tr>\n",
       "  </tbody>\n",
       "</table>\n",
       "</div>"
      ],
      "text/plain": [
       "     id  type_id          type  type_order       place             address  \\\n",
       "0  1166        4  Viszonteladó           1     Alsógöd             Béke út   \n",
       "1  1190        4  Viszonteladó           1  Biatorbágy  Dózsa György út 1.   \n",
       "2  2119        3  BKK automata           3  Budakalász    Szentistvántelep   \n",
       "\n",
       "                             description         partner  \\\n",
       "0  további információ: www.mavcsoport.hu  MÁV-START Zrt.   \n",
       "1  további információ: www.mavcsoport.hu  MÁV-START Zrt.   \n",
       "2                             hévállomás        BKK Zrt.   \n",
       "\n",
       "             organization        lat        lng  banknote  state  creditcard  \\\n",
       "0  MÁV-START Zrt. pénztár  47.677739  19.134793         1      1           1   \n",
       "1  MÁV-START Zrt. pénztár  47.479982  18.834782         1      1           1   \n",
       "2            BKK-automata  47.628853  19.043324         1      1           1   \n",
       "\n",
       "   credential  reexchange identifier   placed_at  \\\n",
       "0           0           0                   None   \n",
       "1           0           0       None        None   \n",
       "2           0           0        E51  2018-06-21   \n",
       "\n",
       "                                             opening  \\\n",
       "0  {'general': [{'point_id': 1166, 'day': 1, 'ope...   \n",
       "1  {'general': [{'point_id': 1190, 'day': 1, 'ope...   \n",
       "2  {'general': [{'point_id': 2119, 'day': 1, 'ope...   \n",
       "\n",
       "                                            products  \n",
       "0                   [39, 41, 42, 51, 52, 53, 54, 55]  \n",
       "1                   [39, 41, 42, 51, 52, 53, 54, 55]  \n",
       "2  [1, 3, 4, 5, 6, 7, 9, 10, 11, 12, 13, 14, 15, ...  "
      ]
     },
     "execution_count": 147,
     "metadata": {},
     "output_type": "execute_result"
    }
   ],
   "source": [
    "data = pd.DataFrame(df)\n",
    "data.head(3)"
   ]
  },
  {
   "cell_type": "code",
   "execution_count": 148,
   "id": "e0306001",
   "metadata": {},
   "outputs": [
    {
     "data": {
      "text/html": [
       "<div>\n",
       "<style scoped>\n",
       "    .dataframe tbody tr th:only-of-type {\n",
       "        vertical-align: middle;\n",
       "    }\n",
       "\n",
       "    .dataframe tbody tr th {\n",
       "        vertical-align: top;\n",
       "    }\n",
       "\n",
       "    .dataframe thead th {\n",
       "        text-align: right;\n",
       "    }\n",
       "</style>\n",
       "<table border=\"1\" class=\"dataframe\">\n",
       "  <thead>\n",
       "    <tr style=\"text-align: right;\">\n",
       "      <th></th>\n",
       "      <th>type_id</th>\n",
       "      <th>type</th>\n",
       "    </tr>\n",
       "  </thead>\n",
       "  <tbody>\n",
       "    <tr>\n",
       "      <th>0</th>\n",
       "      <td>4</td>\n",
       "      <td>Viszonteladó</td>\n",
       "    </tr>\n",
       "    <tr>\n",
       "      <th>2</th>\n",
       "      <td>3</td>\n",
       "      <td>BKK automata</td>\n",
       "    </tr>\n",
       "    <tr>\n",
       "      <th>25</th>\n",
       "      <td>1</td>\n",
       "      <td>Ügyfélközpont</td>\n",
       "    </tr>\n",
       "    <tr>\n",
       "      <th>63</th>\n",
       "      <td>2</td>\n",
       "      <td>BKK pénztár</td>\n",
       "    </tr>\n",
       "  </tbody>\n",
       "</table>\n",
       "</div>"
      ],
      "text/plain": [
       "    type_id           type\n",
       "0         4   Viszonteladó\n",
       "2         3   BKK automata\n",
       "25        1  Ügyfélközpont\n",
       "63        2    BKK pénztár"
      ]
     },
     "execution_count": 148,
     "metadata": {},
     "output_type": "execute_result"
    }
   ],
   "source": [
    "data[['type_id', 'type']].drop_duplicates()"
   ]
  },
  {
   "cell_type": "code",
   "execution_count": 149,
   "id": "7839eeb1",
   "metadata": {},
   "outputs": [],
   "source": [
    "data.loc[data['organization'] == 'Kisviszonteladó, Vimpex Drink Kft.', 'organization'] = 'Nemzeti Dohánybolt'\n",
    "data.loc[data['description'] == 'Nemzeti Dohánybolt', 'organization'] = 'Nemzeti Dohánybolt'"
   ]
  },
  {
   "cell_type": "code",
   "execution_count": 150,
   "id": "fd026661",
   "metadata": {},
   "outputs": [],
   "source": [
    "org_mapper = {'Kisviszonteladó Stage-Manager Kft.' : 'Kisviszonteladó Stage- Manager Kft.', \n",
    "              'Kisviszonteladó Stage - Manager Kft.' : 'Kisviszonteladó Stage- Manager Kft.', \n",
    "              'Relay' : 'Relay újságos', 'Relay Újságos' : 'Relay újságos', 'Relay újságos - FC' : 'Relay újságos', \n",
    "              'Relay üzlet' : 'Relay újságos', 'Kis viszonteladó' : 'Kisviszonteladó', 'Agora Relay' : 'Relay újságos',\n",
    "              'Menetirányító  árusítóhely' : 'Menetirányító árusítóhely', 'Relay ' : 'Relay újságos',\n",
    "              'BKK pénztár' : 'BKK Ügyfélközpont', 'BKK Ügyfélpont' : 'BKK Ügyfélközpont', 'BKK Pénztár' : 'BKK Ügyfélközpont',\n",
    "              'Viszonteladó (Zöldcsibe Bt.)' : 'Viszonteladó', 'Inmedio' : 'Újságos', 'Relay újságos' : 'Újságos', \n",
    "              'Lapker újságos' : 'Újságos', '1Minute' : 'Újságos', 'Inmedio újságos' : 'Újságos',\n",
    "              'Partner pénztár' : 'MÁV-START Zrt. pénztár', 'Menetirányító árusítóhely' : 'BKK Ügyfélközpont',\n",
    "              'MILLFAV peron forgalmi ügyelet' : 'BKK Ügyfélközpont', 'Kisviszonteladó Stage- Manager Kft.' : 'Kisviszonteladó',\n",
    "              'Kisviszonteladó' : 'Viszonteladó'}\n",
    "\n",
    "data['organization'] = data['organization'].replace(org_mapper)\n",
    "data['organization'] = data['organization'].replace(org_mapper)\n",
    "data['organization'] = data['organization'].replace(org_mapper)"
   ]
  },
  {
   "cell_type": "code",
   "execution_count": 151,
   "id": "6590f4ef",
   "metadata": {},
   "outputs": [],
   "source": [
    "data.drop(['type_id', 'type_order'], 1, inplace = True)"
   ]
  },
  {
   "cell_type": "code",
   "execution_count": 152,
   "id": "3a5d471a",
   "metadata": {},
   "outputs": [
    {
     "data": {
      "text/plain": [
       "BKK-automata                    376\n",
       "Nemzeti Dohánybolt              202\n",
       "Viszonteladó                    107\n",
       "Újságos                          67\n",
       "MÁV-START Zrt. pénztár           45\n",
       "BKK Ügyfélközpont                27\n",
       "Volánbusz Zrt. Bérletpénztár     12\n",
       "Name: organization, dtype: int64"
      ]
     },
     "execution_count": 152,
     "metadata": {},
     "output_type": "execute_result"
    }
   ],
   "source": [
    "data['organization'].value_counts()"
   ]
  },
  {
   "cell_type": "code",
   "execution_count": 153,
   "id": "0e486331",
   "metadata": {},
   "outputs": [],
   "source": [
    "def description_consolidator(text):\n",
    "    text = text.lower()\n",
    "    if 'metró' in text or 'm1' in text or 'm2' in text or 'm3' in text or 'm4' in text:\n",
    "        return 'metró'\n",
    "    if 'mavcsoport' in text or 'máv' in text or 'peron' in text:\n",
    "        return 'MÁV'\n",
    "    if 'hév' in text:\n",
    "        return 'HÉV'\n",
    "    if 'busz' in text:\n",
    "        return 'buszmegálló'\n",
    "    if 'villamos' in text:\n",
    "        return 'villamosmegálló'\n",
    "    if 'aluljáró' in text:\n",
    "        return 'aluljáró'\n",
    "    if 'dohány' in text:\n",
    "        return 'nemzeti dohánybolt'\n",
    "    if 'terminál' in text:\n",
    "        return 'repülőtér'\n",
    "    if ('bolt' in text or \n",
    "        'abc' in text or \n",
    "        'élelmiszer' in text or \n",
    "        'vegyesk' in text or \n",
    "        'csemege' in text or\n",
    "        'csarnok' in text or\n",
    "        'shop' in text or\n",
    "        'büfé' in text or\n",
    "        'bevásár' in text or\n",
    "        'üzlet' in text or\n",
    "        'diszkont' in text or 'bor' in text or 'piac' in text or 'újság' in text or\n",
    "        'trafik' in text or 'mom' in text or 'lottó' in text or 'pavilon' in text or 'lotto' in text or\n",
    "        'pékség' in text or 'aréna' in text or 'zöldséges' in text or 'sugár' in text or 'campona' in text or\n",
    "        'tesco' in text or 'auchan' in text or 'pólus' in text or 'papír' in text) and 'dohány' not in text:\n",
    "        return 'bolt'\n",
    "    else:\n",
    "        return 'egyéb'"
   ]
  },
  {
   "cell_type": "code",
   "execution_count": 154,
   "id": "16528f2c",
   "metadata": {},
   "outputs": [],
   "source": [
    "data['description'] = data['description'].apply(lambda x: description_consolidator(x))"
   ]
  },
  {
   "cell_type": "code",
   "execution_count": null,
   "id": "4c719463",
   "metadata": {},
   "outputs": [],
   "source": []
  },
  {
   "cell_type": "markdown",
   "id": "6ce9796e",
   "metadata": {},
   "source": [
    "For now drop the opening and product type cols - will need to clean them later"
   ]
  },
  {
   "cell_type": "code",
   "execution_count": 155,
   "id": "ddf6fc30",
   "metadata": {},
   "outputs": [],
   "source": [
    "data.drop(['opening', 'products', 'banknote'], 1, inplace = True)"
   ]
  },
  {
   "cell_type": "code",
   "execution_count": 156,
   "id": "191326c5",
   "metadata": {},
   "outputs": [
    {
     "data": {
      "text/html": [
       "<div>\n",
       "<style scoped>\n",
       "    .dataframe tbody tr th:only-of-type {\n",
       "        vertical-align: middle;\n",
       "    }\n",
       "\n",
       "    .dataframe tbody tr th {\n",
       "        vertical-align: top;\n",
       "    }\n",
       "\n",
       "    .dataframe thead th {\n",
       "        text-align: right;\n",
       "    }\n",
       "</style>\n",
       "<table border=\"1\" class=\"dataframe\">\n",
       "  <thead>\n",
       "    <tr style=\"text-align: right;\">\n",
       "      <th></th>\n",
       "      <th>id</th>\n",
       "      <th>type</th>\n",
       "      <th>place</th>\n",
       "      <th>address</th>\n",
       "      <th>description</th>\n",
       "      <th>partner</th>\n",
       "      <th>organization</th>\n",
       "      <th>lat</th>\n",
       "      <th>lng</th>\n",
       "      <th>state</th>\n",
       "      <th>creditcard</th>\n",
       "      <th>credential</th>\n",
       "      <th>reexchange</th>\n",
       "      <th>identifier</th>\n",
       "      <th>placed_at</th>\n",
       "    </tr>\n",
       "  </thead>\n",
       "  <tbody>\n",
       "    <tr>\n",
       "      <th>0</th>\n",
       "      <td>1166</td>\n",
       "      <td>Viszonteladó</td>\n",
       "      <td>Alsógöd</td>\n",
       "      <td>Béke út</td>\n",
       "      <td>MÁV</td>\n",
       "      <td>MÁV-START Zrt.</td>\n",
       "      <td>MÁV-START Zrt. pénztár</td>\n",
       "      <td>47.677739</td>\n",
       "      <td>19.134793</td>\n",
       "      <td>1</td>\n",
       "      <td>1</td>\n",
       "      <td>0</td>\n",
       "      <td>0</td>\n",
       "      <td></td>\n",
       "      <td>None</td>\n",
       "    </tr>\n",
       "    <tr>\n",
       "      <th>1</th>\n",
       "      <td>1190</td>\n",
       "      <td>Viszonteladó</td>\n",
       "      <td>Biatorbágy</td>\n",
       "      <td>Dózsa György út 1.</td>\n",
       "      <td>MÁV</td>\n",
       "      <td>MÁV-START Zrt.</td>\n",
       "      <td>MÁV-START Zrt. pénztár</td>\n",
       "      <td>47.479982</td>\n",
       "      <td>18.834782</td>\n",
       "      <td>1</td>\n",
       "      <td>1</td>\n",
       "      <td>0</td>\n",
       "      <td>0</td>\n",
       "      <td>None</td>\n",
       "      <td>None</td>\n",
       "    </tr>\n",
       "    <tr>\n",
       "      <th>2</th>\n",
       "      <td>2119</td>\n",
       "      <td>BKK automata</td>\n",
       "      <td>Budakalász</td>\n",
       "      <td>Szentistvántelep</td>\n",
       "      <td>HÉV</td>\n",
       "      <td>BKK Zrt.</td>\n",
       "      <td>BKK-automata</td>\n",
       "      <td>47.628853</td>\n",
       "      <td>19.043324</td>\n",
       "      <td>1</td>\n",
       "      <td>1</td>\n",
       "      <td>0</td>\n",
       "      <td>0</td>\n",
       "      <td>E51</td>\n",
       "      <td>2018-06-21</td>\n",
       "    </tr>\n",
       "  </tbody>\n",
       "</table>\n",
       "</div>"
      ],
      "text/plain": [
       "     id          type       place             address description  \\\n",
       "0  1166  Viszonteladó     Alsógöd             Béke út         MÁV   \n",
       "1  1190  Viszonteladó  Biatorbágy  Dózsa György út 1.         MÁV   \n",
       "2  2119  BKK automata  Budakalász    Szentistvántelep         HÉV   \n",
       "\n",
       "          partner            organization        lat        lng  state  \\\n",
       "0  MÁV-START Zrt.  MÁV-START Zrt. pénztár  47.677739  19.134793      1   \n",
       "1  MÁV-START Zrt.  MÁV-START Zrt. pénztár  47.479982  18.834782      1   \n",
       "2        BKK Zrt.            BKK-automata  47.628853  19.043324      1   \n",
       "\n",
       "   creditcard  credential  reexchange identifier   placed_at  \n",
       "0           1           0           0                   None  \n",
       "1           1           0           0       None        None  \n",
       "2           1           0           0        E51  2018-06-21  "
      ]
     },
     "execution_count": 156,
     "metadata": {},
     "output_type": "execute_result"
    }
   ],
   "source": [
    "data.head(3)"
   ]
  },
  {
   "cell_type": "code",
   "execution_count": 157,
   "id": "ab15682f",
   "metadata": {},
   "outputs": [],
   "source": [
    "data['placed_at'] = pd.to_datetime(data['placed_at'])"
   ]
  },
  {
   "cell_type": "code",
   "execution_count": 158,
   "id": "e060d47b",
   "metadata": {},
   "outputs": [],
   "source": [
    "state_map = {1 : 'Üzemel', 2 : 'Átmenetileg nem üzemel', 0 : 'Még nem üzemel'}\n",
    "data['state'] = data['state'].map(state_map)"
   ]
  },
  {
   "cell_type": "code",
   "execution_count": 170,
   "id": "e75110af",
   "metadata": {},
   "outputs": [],
   "source": [
    "data['lat'] = data['lat'].astype(float)\n",
    "data['lng'] = data['lng'].astype(float)"
   ]
  },
  {
   "cell_type": "markdown",
   "id": "919e8398",
   "metadata": {},
   "source": [
    "Plot map"
   ]
  },
  {
   "cell_type": "code",
   "execution_count": 177,
   "id": "0b931317",
   "metadata": {},
   "outputs": [],
   "source": [
    "def plot_jegyertekesitok():\n",
    "    \n",
    "    data['size'] = 1\n",
    "\n",
    "    fig = px.scatter_mapbox(data, lat = 'lat', lon = 'lng', hover_name = 'type', \n",
    "                            hover_data = ['type', 'place', 'address', 'description', 'organization', 'placed_at'],\n",
    "                            title = 'BKK jegyértékesítők elhelyezkedése', color = 'organization',\n",
    "                            labels = {'name' : 'Név', 'stop_count' : 'Megállók száma'},\n",
    "                            zoom = 10, size_max = 15, \n",
    "                            mapbox_style = 'carto-positron', height = 650, width = 950)\n",
    "    fig.show()\n",
    "    \n",
    "    data.drop('size', 1, inplace = True)"
   ]
  },
  {
   "cell_type": "code",
   "execution_count": 178,
   "id": "48867f63",
   "metadata": {},
   "outputs": [
    {
     "data": {
      "application/vnd.plotly.v1+json": {
       "config": {
        "plotlyServerURL": "https://plot.ly"
       },
       "data": [
        {
         "customdata": [
          [
           "Viszonteladó",
           "Alsógöd",
           "Béke út",
           "MÁV",
           "MÁV-START Zrt. pénztár",
           null
          ],
          [
           "Viszonteladó",
           "Biatorbágy",
           "Dózsa György út 1.",
           "MÁV",
           "MÁV-START Zrt. pénztár",
           null
          ],
          [
           "Viszonteladó",
           "Budapest Keleti , VIII. kerület",
           "Keleti pályaudvar 9. vágány melletti belföldi pénztár",
           "MÁV",
           "MÁV-START Zrt. pénztár",
           null
          ],
          [
           "Viszonteladó",
           "Budapest XI. kerület",
           "Budapest- Kelenföld",
           "MÁV",
           "MÁV-START Zrt. pénztár",
           null
          ],
          [
           "Viszonteladó",
           "Budapest, I. kerület",
           "Budapest- Déli",
           "MÁV",
           "MÁV-START Zrt. pénztár",
           null
          ],
          [
           "Viszonteladó",
           "Budapest, VI. kerület",
           "Budapest- Nyugati ",
           "MÁV",
           "MÁV-START Zrt. pénztár",
           null
          ],
          [
           "Viszonteladó",
           "Budapest, VIII. kerület",
           "Budapest- Keleti alagsori belföldi pénztárak",
           "MÁV",
           "MÁV-START Zrt. pénztár",
           null
          ],
          [
           "Viszonteladó",
           "Budapest, XIV. kerület",
           "Budapest- Zugló",
           "MÁV",
           "MÁV-START Zrt. pénztár",
           null
          ],
          [
           "Viszonteladó",
           "Délegyháza",
           "Vasútállomás",
           "MÁV",
           "MÁV-START Zrt. pénztár",
           null
          ],
          [
           "Viszonteladó",
           "Dunaharaszti",
           "Vasútállomás",
           "MÁV",
           "MÁV-START Zrt. pénztár",
           null
          ],
          [
           "Viszonteladó",
           "Dunakeszi",
           "Verseny utca 1.",
           "MÁV",
           "MÁV-START Zrt. pénztár",
           null
          ],
          [
           "Viszonteladó",
           "Dunakeszi-Gyártelep",
           "Vasút utca 1.",
           "MÁV",
           "MÁV-START Zrt. pénztár",
           null
          ],
          [
           "Viszonteladó",
           "Dunavarsány",
           "Vasút sor 1/b",
           "MÁV",
           "MÁV-START Zrt. pénztár",
           null
          ],
          [
           "Viszonteladó",
           "Ercsi",
           "Vasútállomás utca 5.",
           "MÁV",
           "MÁV-START Zrt. pénztár",
           null
          ],
          [
           "Viszonteladó",
           "Érd",
           "Tolmács utca 3.",
           "MÁV",
           "MÁV-START Zrt. pénztár",
           null
          ],
          [
           "Viszonteladó",
           "Érd alsó",
           "Budai út 13.",
           "MÁV",
           "MÁV-START Zrt. pénztár",
           null
          ],
          [
           "Viszonteladó",
           "Érd felső",
           "Diósdi út 21.",
           "MÁV",
           "MÁV-START Zrt. pénztár",
           null
          ],
          [
           "Viszonteladó",
           "Érdliget",
           "Temes utca 2.",
           "MÁV",
           "MÁV-START Zrt. pénztár",
           null
          ],
          [
           "Viszonteladó",
           "Erdőkertes",
           "Vasútállomás",
           "MÁV",
           "MÁV-START Zrt. pénztár",
           null
          ],
          [
           "Viszonteladó",
           "Ferihegy",
           "Ferihegy vasútállomás ",
           "MÁV",
           "MÁV-START Zrt. pénztár",
           null
          ],
          [
           "Viszonteladó",
           "Fót",
           "Kossuth Lajos utca 89.",
           "MÁV",
           "MÁV-START Zrt. pénztár",
           null
          ],
          [
           "Viszonteladó",
           "Göd",
           "Rákóczi Ferenc utca 24.",
           "MÁV",
           "MÁV-START Zrt. pénztár",
           null
          ],
          [
           "Viszonteladó",
           "Gödöllő",
           "Állomás tér 1-3.",
           "MÁV",
           "MÁV-START Zrt. pénztár",
           null
          ],
          [
           "Viszonteladó",
           "Gyömrő",
           "Vasútállomás",
           "MÁV",
           "MÁV-START Zrt. pénztár",
           null
          ],
          [
           "Viszonteladó",
           "Herceghalom",
           "Vasútállomás",
           "MÁV",
           "MÁV-START Zrt. pénztár",
           null
          ],
          [
           "Viszonteladó",
           "Isaszeg",
           "Rózsa utca 1.",
           "MÁV",
           "MÁV-START Zrt. pénztár",
           null
          ],
          [
           "Viszonteladó",
           "Kőbánya alsó, Budapest X. kerület",
           "Liget tér 1.",
           "MÁV",
           "MÁV-START Zrt. pénztár",
           null
          ],
          [
           "Viszonteladó",
           "Kőbánya felső, Budapest X. kerület",
           "Kolozsvári utca 2-4.",
           "MÁV",
           "MÁV-START Zrt. pénztár",
           null
          ],
          [
           "Viszonteladó",
           "Kőbánya-Kispest, Budapest X. kerület",
           "Vaspálya utca 10.",
           "MÁV",
           "MÁV-START Zrt. pénztár",
           null
          ],
          [
           "Viszonteladó",
           "Maglód",
           "Bellus János tér 2.",
           "MÁV",
           "MÁV-START Zrt. pénztár",
           null
          ],
          [
           "Viszonteladó",
           "Maglódi nyaraló",
           "Árpád vezér tér",
           "MÁV",
           "MÁV-START Zrt. pénztár",
           null
          ],
          [
           "Viszonteladó",
           "Martonvásár",
           "Brunszvik Teréz utca 4.",
           "MÁV",
           "MÁV-START Zrt. pénztár",
           null
          ],
          [
           "Viszonteladó",
           "Ócsa",
           "Damjanich út 2.",
           "MÁV",
           "MÁV-START Zrt. pénztár",
           null
          ],
          [
           "Viszonteladó",
           "Őrbottyán",
           "Állomás utca 6.",
           "MÁV",
           "MÁV-START Zrt. pénztár",
           null
          ],
          [
           "Viszonteladó",
           "Pécel",
           "Állomás utca 1.",
           "MÁV",
           "MÁV-START Zrt. pénztár",
           null
          ],
          [
           "Viszonteladó",
           "Pesterzsébet",
           "Zodonyi  utca",
           "MÁV",
           "MÁV-START Zrt. pénztár",
           null
          ],
          [
           "Viszonteladó",
           "Piliscsaba",
           "Vasút utca 64.",
           "MÁV",
           "MÁV-START Zrt. pénztár",
           null
          ],
          [
           "Viszonteladó",
           "Pilisvörösvár",
           "Vasút utca 1.",
           "MÁV",
           "MÁV-START Zrt. pénztár",
           null
          ],
          [
           "Viszonteladó",
           "Rákos, Budapest X. kerület",
           "Jászberényi út 90-92",
           "MÁV",
           "MÁV-START Zrt. pénztár",
           null
          ],
          [
           "Viszonteladó",
           "Rákospalota-Újpest, Budapest IV. kerület",
           "Szilágyi utca 9.",
           "MÁV",
           "MÁV-START Zrt. pénztár",
           null
          ],
          [
           "Viszonteladó",
           "Solymár",
           "Vasút u. 1",
           "MÁV",
           "MÁV-START Zrt. pénztár",
           null
          ],
          [
           "Viszonteladó",
           "Százhalombatta",
           "Városkapu út 1.",
           "MÁV",
           "MÁV-START Zrt. pénztár",
           null
          ],
          [
           "Viszonteladó",
           "Tárnok",
           "Vasútállomás",
           "MÁV",
           "MÁV-START Zrt. pénztár",
           null
          ],
          [
           "Viszonteladó",
           "Újpest megállóhely",
           "Bp., XIII. ker. Balzsam utca 1.",
           "MÁV",
           "MÁV-START Zrt. pénztár",
           null
          ],
          [
           "Viszonteladó",
           "Veresegyház",
           "Állomás utca 2.",
           "MÁV",
           "MÁV-START Zrt. pénztár",
           null
          ]
         ],
         "hovertemplate": "<b>%{hovertext}</b><br><br>organization=%{customdata[4]}<br>lat=%{lat}<br>lng=%{lon}<br>type=%{customdata[0]}<br>place=%{customdata[1]}<br>address=%{customdata[2]}<br>description=%{customdata[3]}<br>placed_at=%{customdata[5]}<extra></extra>",
         "hovertext": [
          "Viszonteladó",
          "Viszonteladó",
          "Viszonteladó",
          "Viszonteladó",
          "Viszonteladó",
          "Viszonteladó",
          "Viszonteladó",
          "Viszonteladó",
          "Viszonteladó",
          "Viszonteladó",
          "Viszonteladó",
          "Viszonteladó",
          "Viszonteladó",
          "Viszonteladó",
          "Viszonteladó",
          "Viszonteladó",
          "Viszonteladó",
          "Viszonteladó",
          "Viszonteladó",
          "Viszonteladó",
          "Viszonteladó",
          "Viszonteladó",
          "Viszonteladó",
          "Viszonteladó",
          "Viszonteladó",
          "Viszonteladó",
          "Viszonteladó",
          "Viszonteladó",
          "Viszonteladó",
          "Viszonteladó",
          "Viszonteladó",
          "Viszonteladó",
          "Viszonteladó",
          "Viszonteladó",
          "Viszonteladó",
          "Viszonteladó",
          "Viszonteladó",
          "Viszonteladó",
          "Viszonteladó",
          "Viszonteladó",
          "Viszonteladó",
          "Viszonteladó",
          "Viszonteladó",
          "Viszonteladó",
          "Viszonteladó"
         ],
         "lat": [
          47.677739,
          47.479982,
          47.499839,
          47.464371,
          47.498961,
          47.51068,
          47.500365,
          47.51091,
          47.25288,
          47.352597,
          47.625763,
          47.643568,
          47.273819,
          47.24715,
          47.369873,
          47.37974,
          47.381266,
          47.389739,
          47.661861,
          47.437538,
          47.611428,
          47.687713,
          47.592327,
          47.429364,
          47.493753,
          47.537427,
          47.482879,
          47.491888,
          47.463491,
          47.439039,
          47.434201,
          47.320861,
          47.301404,
          47.685632,
          47.493792,
          47.433642,
          47.638219,
          47.614107,
          47.48872,
          47.565672,
          47.596161,
          47.322592,
          47.365628,
          47.558744,
          47.649068
         ],
         "legendgroup": "MÁV-START Zrt. pénztár",
         "lon": [
          19.134793,
          18.834782,
          19.087746,
          19.020471,
          19.025498,
          19.057447,
          19.084725,
          19.101997,
          19.060754,
          19.096803,
          19.13594,
          19.135003,
          19.06461,
          18.875524,
          18.900784,
          18.923119,
          18.922402,
          18.93731,
          19.295844,
          19.223223,
          19.182034,
          19.137685,
          19.35875,
          19.393058,
          18.743327,
          19.389109,
          19.127248,
          19.133804,
          19.149911,
          19.340125,
          19.362987,
          18.781438,
          19.232676,
          19.284012,
          19.338322,
          19.097152,
          18.829423,
          18.902364,
          19.174134,
          19.112328,
          18.950106,
          18.898963,
          18.874211,
          19.07972,
          19.288786
         ],
         "marker": {
          "color": "#636efa"
         },
         "mode": "markers",
         "name": "MÁV-START Zrt. pénztár",
         "showlegend": true,
         "subplot": "mapbox",
         "type": "scattermapbox"
        },
        {
         "customdata": [
          [
           "BKK automata",
           "Budakalász",
           "Szentistvántelep",
           "HÉV",
           "BKK-automata",
           "2018-06-21T00:00:00"
          ],
          [
           "BKK automata",
           "Budakalász",
           "Budakalász, Lenfonó H",
           "HÉV",
           "BKK-automata",
           "2014-09-20T00:00:00"
          ],
          [
           "BKK automata",
           "Budakeszi",
           "Dózsa György tér",
           "buszmegálló",
           "BKK-automata",
           "2015-12-28T00:00:00"
          ],
          [
           "BKK automata",
           "Budakeszi",
           "városháza",
           "buszmegálló",
           "BKK-automata",
           "2014-12-03T00:00:00"
          ],
          [
           "BKK automata",
           "Budaörs",
           "Budaörsi lakótelep",
           "buszmegálló",
           "BKK-automata",
           "2014-04-29T00:00:00"
          ],
          [
           "BKK automata",
           "Budaörs",
           "Budaörs, városháza",
           "buszmegálló",
           "BKK-automata",
           "2015-12-28T00:00:00"
          ],
          [
           "BKK automata",
           "Budaörs",
           "Templom tér",
           "buszmegálló",
           "BKK-automata",
           "2014-09-10T00:00:00"
          ],
          [
           "BKK automata",
           "Budapest I. kerület",
           "Szentháromság tér",
           "buszmegálló",
           "BKK-automata",
           "2019-12-12T00:00:00"
          ],
          [
           "BKK automata",
           "Budapest I. kerület",
           "Batthyány tér",
           "aluljáró",
           "BKK-automata",
           "2014-12-12T00:00:00"
          ],
          [
           "BKK automata",
           "Budapest I. kerület",
           "Clark Ádám tér",
           "buszmegálló",
           "BKK-automata",
           "2016-09-05T00:00:00"
          ],
          [
           "BKK automata",
           "Budapest II. kerület",
           "Széll Kálmán tér M",
           "metró",
           "BKK-automata",
           "2014-12-17T00:00:00"
          ],
          [
           "BKK automata",
           "Budapest II. kerület",
           "Széll Kálmán tér M",
           "metró",
           "BKK-automata",
           "2014-12-17T00:00:00"
          ],
          [
           "BKK automata",
           "Budapest II. kerület",
           "Széna tér",
           "villamosmegálló",
           "BKK-automata",
           "2016-08-31T00:00:00"
          ],
          [
           "BKK automata",
           "Budapest III. kerület",
           "Bécsi út",
           "villamosmegálló",
           "BKK-automata",
           "2016-08-31T00:00:00"
          ],
          [
           "BKK automata",
           "Budapest, I. kerület",
           "Batthyány tér M+H",
           "aluljáró",
           "BKK-automata",
           "2014-12-12T00:00:00"
          ],
          [
           "BKK automata",
           "Budapest, I. kerület",
           "Batthyány tér M+H",
           "aluljáró",
           "BKK-automata",
           "2016-08-31T00:00:00"
          ],
          [
           "BKK automata",
           "Budapest, I. kerület",
           "Déli pályaudvar ",
           "buszmegálló",
           "BKK-automata",
           "2014-08-28T00:00:00"
          ],
          [
           "BKK automata",
           "Budapest, I. kerület",
           "Krisztina tér",
           "egyéb",
           "BKK-automata",
           "2015-12-29T00:00:00"
          ],
          [
           "BKK automata",
           "Budapest, I. kerület",
           "Déli pályaudvar M",
           "metró",
           "BKK-automata",
           "2014-05-02T00:00:00"
          ],
          [
           "BKK automata",
           "Budapest, I. kerület",
           "Déli pályaudvar M",
           "metró",
           "BKK-automata",
           "2014-05-02T00:00:00"
          ],
          [
           "BKK automata",
           "Budapest, I. kerület",
           "Déli pályaudvar M",
           "metró",
           "BKK-automata",
           "2014-05-02T00:00:00"
          ],
          [
           "BKK automata",
           "Budapest, I. kerület",
           "Déli pályaudvar M",
           "metró",
           "BKK-automata",
           "2014-05-02T00:00:00"
          ],
          [
           "BKK automata",
           "Budapest, I. kerület",
           "Batthyány tér M+H",
           "buszmegálló",
           "BKK-automata",
           "2014-07-16T00:00:00"
          ],
          [
           "BKK automata",
           "Budapest, II. kerület",
           "Budagyöngye",
           "villamosmegálló",
           "BKK-automata",
           "2014-08-01T00:00:00"
          ],
          [
           "BKK automata",
           "Budapest, II. kerület",
           "Törökvész út",
           "buszmegálló",
           "BKK-automata",
           "2014-10-30T00:00:00"
          ],
          [
           "BKK automata",
           "Budapest, II. kerület",
           "Hűvösvölgyi út",
           "villamosmegálló",
           "BKK-automata",
           "2014-12-22T00:00:00"
          ],
          [
           "BKK automata",
           "Budapest, II. kerület",
           "Hidegkúti út",
           "buszmegálló",
           "BKK-automata",
           "2014-10-03T00:00:00"
          ],
          [
           "BKK automata",
           "Budapest, II. kerület",
           "Pusztaszeri körönd",
           "egyéb",
           "BKK-automata",
           "2014-10-30T00:00:00"
          ],
          [
           "BKK automata",
           "Budapest, II. kerület",
           "Széll Kálmán tér M",
           "metró",
           "BKK-automata",
           "2014-12-17T00:00:00"
          ],
          [
           "BKK automata",
           "Budapest, II. kerület",
           "Széll Kálmán tér M",
           "metró",
           "BKK-automata",
           "2014-12-17T00:00:00"
          ],
          [
           "BKK automata",
           "Budapest, II. kerület",
           "Széll Kálmán tér M",
           "metró",
           "BKK-automata",
           "2016-08-31T00:00:00"
          ],
          [
           "BKK automata",
           "Budapest, II. kerület",
           "Széll Kálmán tér M",
           "metró",
           "BKK-automata",
           "2016-08-31T00:00:00"
          ],
          [
           "BKK automata",
           "Budapest, II. kerület",
           "Hűvösvölgy",
           "buszmegálló",
           "BKK-automata",
           "2014-07-24T00:00:00"
          ],
          [
           "BKK automata",
           "Budapest, II. kerület",
           "Margit híd, budai hídfő H",
           "aluljáró",
           "BKK-automata",
           "2014-07-18T00:00:00"
          ],
          [
           "BKK automata",
           "Budapest, II. kerület",
           "Margit híd, budai hídfő H",
           "aluljáró",
           "BKK-automata",
           "2014-07-18T00:00:00"
          ],
          [
           "BKK automata",
           "Budapest, II. kerület",
           "Margit híd, budai hídfő H",
           "villamosmegálló",
           "BKK-automata",
           "2014-07-18T00:00:00"
          ],
          [
           "BKK automata",
           "Budapest, II. kerület",
           "Hűvösvölgy",
           "buszmegálló",
           "BKK-automata",
           "2014-11-20T00:00:00"
          ],
          [
           "BKK automata",
           "Budapest, II. kerület",
           "Margit híd, budai hídfő H",
           "aluljáró",
           "BKK-automata",
           "2014-11-20T00:00:00"
          ],
          [
           "BKK automata",
           "Budapest, II. kerület",
           "Mechwart liget",
           "villamosmegálló",
           "BKK-automata",
           "2014-07-18T00:00:00"
          ],
          [
           "BKK automata",
           "Budapest, III. kerület",
           "Kolosy tér",
           "buszmegálló",
           "BKK-automata",
           "2014-10-20T00:00:00"
          ],
          [
           "BKK automata",
           "Budapest, III. kerület",
           "Szentendrei út",
           "buszmegálló",
           "BKK-automata",
           "2015-12-29T00:00:00"
          ],
          [
           "BKK automata",
           "Budapest, III. kerület",
           "Békásmegyer H",
           "HÉV",
           "BKK-automata",
           "2014-08-07T00:00:00"
          ],
          [
           "BKK automata",
           "Budapest, III. kerület",
           "Pacsirtamező utca",
           "buszmegálló",
           "BKK-automata",
           "2015-12-29T00:00:00"
          ],
          [
           "BKK automata",
           "Budapest, III. kerület",
           "Csillaghegy H",
           "HÉV",
           "BKK-automata",
           "2015-12-23T00:00:00"
          ],
          [
           "BKK automata",
           "Budapest, III. kerület",
           "Rómaifürdő H",
           "HÉV",
           "BKK-automata",
           "2015-12-18T00:00:00"
          ],
          [
           "BKK automata",
           "Budapest, III. kerület",
           "Békásmegyer H",
           "HÉV",
           "BKK-automata",
           "2014-08-07T00:00:00"
          ],
          [
           "BKK automata",
           "Budapest, III. kerület",
           "Békásmegyer H ",
           "HÉV",
           "BKK-automata",
           "2015-12-22T00:00:00"
          ],
          [
           "BKK automata",
           "Budapest, III. kerület",
           "Kolosy tér",
           "villamosmegálló",
           "BKK-automata",
           "2016-11-16T00:00:00"
          ],
          [
           "BKK automata",
           "Budapest, III. kerület",
           "Flórián tér",
           "villamosmegálló",
           "BKK-automata",
           "2014-07-16T00:00:00"
          ],
          [
           "BKK automata",
           "Budapest, III. kerület",
           "Óbudai rendelőintézet",
           "villamosmegálló",
           "BKK-automata",
           "2014-07-16T00:00:00"
          ],
          [
           "BKK automata",
           "Budapest, III. kerület",
           "Szentlélek tér H",
           "HÉV",
           "BKK-automata",
           "2014-08-15T00:00:00"
          ],
          [
           "BKK automata",
           "Budapest, III. kerület",
           "Aquincum H",
           "HÉV",
           "BKK-automata",
           "2014-07-21T00:00:00"
          ],
          [
           "BKK automata",
           "Budapest, III. kerület",
           "Kaszásdűlő H",
           "HÉV",
           "BKK-automata",
           "2014-07-21T00:00:00"
          ],
          [
           "BKK automata",
           "Budapest, IV. kerület",
           "Külső Szilágyi út",
           "villamosmegálló",
           "BKK-automata",
           "2014-09-25T00:00:00"
          ],
          [
           "BKK automata",
           "Budapest, IV. kerület",
           "Fóti út",
           "buszmegálló",
           "BKK-automata",
           "2014-12-09T00:00:00"
          ],
          [
           "BKK automata",
           "Budapest, IV. kerület",
           "Erdősor út",
           "buszmegálló",
           "BKK-automata",
           "2014-11-04T00:00:00"
          ],
          [
           "BKK automata",
           "Budapest, IV. kerület",
           "Újpest-Központ M",
           "metró",
           "BKK-automata",
           "2019-03-30T00:00:00"
          ],
          [
           "BKK automata",
           "Budapest, IV. kerület",
           "Újpest-Központ M",
           "metró",
           "BKK-automata",
           "2019-03-30T00:00:00"
          ],
          [
           "BKK automata",
           "Budapest, IV. kerület",
           "Árpád Üzletház",
           "egyéb",
           "BKK-automata",
           "2014-08-08T00:00:00"
          ],
          [
           "BKK automata",
           "Budapest, IV. kerület",
           "Külső Szilágyi út",
           "villamosmegálló",
           "BKK-automata",
           "2014-08-28T00:00:00"
          ],
          [
           "BKK automata",
           "Budapest, IV. kerület",
           "Rákospalota-Újpest vasútállomás",
           "villamosmegálló",
           "BKK-automata",
           "2014-09-11T00:00:00"
          ],
          [
           "BKK automata",
           "Budapest, IV. kerület",
           "Bécsi út/Vörösvári út",
           "villamosmegálló",
           "BKK-automata",
           "2015-12-24T00:00:00"
          ],
          [
           "BKK automata",
           "Budapest, IV. kerület",
           "Pozsonyi utca",
           "villamosmegálló",
           "BKK-automata",
           "2014-12-17T00:00:00"
          ],
          [
           "BKK automata",
           "Budapest, IV. kerület",
           "Forgách utca M",
           "metró",
           "BKK-automata",
           "2014-07-30T00:00:00"
          ],
          [
           "BKK automata",
           "Budapest, IV. kerület",
           "Újpest-Központ M",
           "metró",
           "BKK-automata",
           "2014-04-28T00:00:00"
          ],
          [
           "BKK automata",
           "Budapest, IV. kerület",
           "Újpest-Központ M",
           "metró",
           "BKK-automata",
           "2014-04-28T00:00:00"
          ],
          [
           "BKK automata",
           "Budapest, IV. kerület",
           "Újpest-Központ M",
           "metró",
           "BKK-automata",
           "2014-12-04T00:00:00"
          ],
          [
           "BKK automata",
           "Budapest, IV. kerület",
           "Újpest-Városkapu M",
           "metró",
           "BKK-automata",
           "2014-12-19T00:00:00"
          ],
          [
           "BKK automata",
           "Budapest, IV. kerület",
           "Újpest-Városkapu M",
           "metró",
           "BKK-automata",
           "2014-12-19T00:00:00"
          ],
          [
           "BKK automata",
           "Budapest, IV. kerület",
           "Újpest-Városkapu M",
           "metró",
           "BKK-automata",
           "2014-12-19T00:00:00"
          ],
          [
           "BKK automata",
           "Budapest, IX. kerület",
           "Közvágóhíd H",
           "HÉV",
           "BKK-automata",
           "2014-07-28T00:00:00"
          ],
          [
           "BKK automata",
           "Budapest, IX. kerület",
           "Ecseri út M",
           "buszmegálló",
           "BKK-automata",
           "2014-07-29T00:00:00"
          ],
          [
           "BKK automata",
           "Budapest, IX. kerület",
           "Nagyvárad tér M",
           "metró",
           "BKK-automata",
           "2014-07-18T00:00:00"
          ],
          [
           "BKK automata",
           "Budapest, IX. kerület",
           "Soroksári út",
           "villamosmegálló",
           "BKK-automata",
           "2014-12-16T00:00:00"
          ],
          [
           "BKK automata",
           "Budapest, IX. kerület",
           "Népliget M",
           "metró",
           "BKK-automata",
           "2014-04-23T00:00:00"
          ],
          [
           "BKK automata",
           "Budapest, IX. kerület",
           "Kálvin tér",
           "buszmegálló",
           "BKK-automata",
           "2018-04-18T00:00:00"
          ],
          [
           "BKK automata",
           "Budapest, IX. kerület",
           "Népliget M",
           "metró",
           "BKK-automata",
           "2014-04-23T00:00:00"
          ],
          [
           "BKK automata",
           "Budapest, IX. kerület",
           "Népliget M",
           "metró",
           "BKK-automata",
           "2014-04-23T00:00:00"
          ],
          [
           "BKK automata",
           "Budapest, IX. kerület",
           "Nagyvárad tér M",
           "metró",
           "BKK-automata",
           "2014-07-18T00:00:00"
          ],
          [
           "BKK automata",
           "Budapest, IX. kerület",
           "Ecseri út M",
           "metró",
           "BKK-automata",
           "2014-04-27T00:00:00"
          ],
          [
           "BKK automata",
           "Budapest, IX. kerület",
           "Pöttyös utca M",
           "metró",
           "BKK-automata",
           "2014-07-31T00:00:00"
          ],
          [
           "BKK automata",
           "Budapest, IX. kerület",
           "Nagyvárad tér M",
           "metró",
           "BKK-automata",
           "2019-04-02T00:00:00"
          ],
          [
           "BKK automata",
           "Budapest, IX. kerület",
           "Haller utca",
           "villamosmegálló",
           "BKK-automata",
           "2014-08-28T00:00:00"
          ],
          [
           "BKK automata",
           "Budapest, IX. kerület",
           "Napfény utca - Lobogó utca",
           "buszmegálló",
           "BKK-automata",
           "2018-09-18T00:00:00"
          ],
          [
           "BKK automata",
           "Budapest, IX. kerület",
           "Pöttyös utca M",
           "metró",
           "BKK-automata",
           "2015-12-23T00:00:00"
          ],
          [
           "BKK automata",
           "Budapest, IX. kerület",
           "Közvágóhíd ",
           "villamosmegálló",
           "BKK-automata",
           "2014-04-23T00:00:00"
          ],
          [
           "BKK automata",
           "Budapest, IX. kerület",
           "Ecseri út M",
           "metró",
           "BKK-automata",
           "2015-12-23T00:00:00"
          ],
          [
           "BKK automata",
           "Budapest, IX. kerület",
           "Orczy tér",
           "villamosmegálló",
           "BKK-automata",
           "2015-12-29T00:00:00"
          ],
          [
           "BKK automata",
           "Budapest, IX. kerület",
           "Boráros tér",
           "HÉV",
           "BKK-automata",
           "2014-05-08T00:00:00"
          ],
          [
           "BKK automata",
           "Budapest, IX. kerület",
           "Nagyvárad tér M",
           "metró",
           "BKK-automata",
           "2017-07-21T00:00:00"
          ],
          [
           "BKK automata",
           "Budapest, IX. kerület",
           "Nagyvárad tér M",
           "metró",
           "BKK-automata",
           "2018-09-18T00:00:00"
          ],
          [
           "BKK automata",
           "Budapest, IX. kerület",
           "Közvágóhíd H",
           "HÉV",
           "BKK-automata",
           "2014-11-20T00:00:00"
          ],
          [
           "BKK automata",
           "Budapest, IX. kerület",
           "Boráros tér",
           "buszmegálló",
           "BKK-automata",
           "2014-07-18T00:00:00"
          ],
          [
           "BKK automata",
           "Budapest, IX. kerület",
           "Boráros tér",
           "villamosmegálló",
           "BKK-automata",
           "2014-08-28T00:00:00"
          ],
          [
           "BKK automata",
           "Budapest, IX. kerület",
           "Boráros tér",
           "HÉV",
           "BKK-automata",
           "2014-11-20T00:00:00"
          ],
          [
           "BKK automata",
           "Budapest, V. kerület",
           "Ferenciek tere M",
           "buszmegálló",
           "BKK-automata",
           "2014-04-16T00:00:00"
          ],
          [
           "BKK automata",
           "Budapest, V. kerület",
           "Ferenciek tere M",
           "metró",
           "BKK-automata",
           "2014-04-16T00:00:00"
          ],
          [
           "BKK automata",
           "Budapest, V. kerület",
           "Ferenciek tere M",
           "metró",
           "BKK-automata",
           "2014-04-16T00:00:00"
          ],
          [
           "BKK automata",
           "Budapest, V. kerület",
           "Fővám tér M",
           "aluljáró",
           "BKK-automata",
           "2014-03-26T00:00:00"
          ],
          [
           "BKK automata",
           "Budapest, V. kerület",
           "Jászai Mari tér",
           "villamosmegálló",
           "BKK-automata",
           "2014-07-18T00:00:00"
          ],
          [
           "BKK automata",
           "Budapest, V. kerület",
           "Deák Ferenc tér ",
           "buszmegálló",
           "BKK-automata",
           "2018-05-18T00:00:00"
          ],
          [
           "BKK automata",
           "Budapest, V. kerület",
           "Arany János utca M",
           "metró",
           "BKK-automata",
           "2014-05-07T00:00:00"
          ],
          [
           "BKK automata",
           "Budapest, V. kerület",
           "Arany János utca M",
           "metró",
           "BKK-automata",
           "2014-05-07T00:00:00"
          ],
          [
           "BKK automata",
           "Budapest, V. kerület",
           "Deák Ferenc tér",
           "buszmegálló",
           "BKK-automata",
           "2019-07-16T00:00:00"
          ],
          [
           "BKK automata",
           "Budapest, V. kerület",
           "Fővám tér M",
           "aluljáró",
           "BKK-automata",
           "2015-12-23T00:00:00"
          ],
          [
           "BKK automata",
           "Budapest, V. kerület",
           "Deák Ferenc tér M",
           "metró",
           "BKK-automata",
           "2014-07-23T00:00:00"
          ],
          [
           "BKK automata",
           "Budapest, V. kerület",
           "Deák Ferenc tér M",
           "metró",
           "BKK-automata",
           "2014-07-23T00:00:00"
          ],
          [
           "BKK automata",
           "Budapest, V. kerület",
           "Deák Ferenc tér M",
           "metró",
           "BKK-automata",
           "2014-05-08T00:00:00"
          ],
          [
           "BKK automata",
           "Budapest, V. kerület",
           "Kossuth Lajos tér M",
           "metró",
           "BKK-automata",
           "2014-09-22T00:00:00"
          ],
          [
           "BKK automata",
           "Budapest, V. kerület",
           "Deák Ferenc tér M",
           "metró",
           "BKK-automata",
           "2014-11-24T00:00:00"
          ],
          [
           "BKK automata",
           "Budapest, V. kerület",
           "Kossuth Lajos tér M",
           "metró",
           "BKK-automata",
           "2014-09-22T00:00:00"
          ],
          [
           "BKK automata",
           "Budapest, V. kerület",
           "Deák Ferenc tér M",
           "metró",
           "BKK-automata",
           "2015-12-22T00:00:00"
          ],
          [
           "BKK automata",
           "Budapest, V. kerület",
           "Deák Ferenc tér M",
           "metró",
           "BKK-automata",
           "2015-12-22T00:00:00"
          ],
          [
           "BKK automata",
           "Budapest, V. kerület",
           "Vörösmarty tér M",
           "metró",
           "BKK-automata",
           "2014-07-11T00:00:00"
          ],
          [
           "BKK automata",
           "Budapest, V. kerület",
           "Jászai Mari tér",
           "villamosmegálló",
           "BKK-automata",
           "2018-04-19T00:00:00"
          ],
          [
           "BKK automata",
           "Budapest, V. kerület",
           "Deák Ferenc tér",
           "villamosmegálló",
           "BKK-automata",
           "2014-07-23T00:00:00"
          ],
          [
           "BKK automata",
           "Budapest, VI. kerület",
           "Bajza utca M",
           "metró",
           "BKK-automata",
           "2015-03-17T00:00:00"
          ],
          [
           "BKK automata",
           "Budapest, VI. kerület",
           "Vörösmarty utca M",
           "metró",
           "BKK-automata",
           "2015-02-25T00:00:00"
          ],
          [
           "BKK automata",
           "Budapest, VI. kerület",
           "Opera M",
           "metró",
           "BKK-automata",
           "2015-01-14T00:00:00"
          ],
          [
           "BKK automata",
           "Budapest, VI. kerület",
           "Oktogon M",
           "metró",
           "BKK-automata",
           "2014-08-14T00:00:00"
          ],
          [
           "BKK automata",
           "Budapest, VI. kerület",
           "Hősök tere M",
           "metró",
           "BKK-automata",
           "2015-03-17T00:00:00"
          ],
          [
           "BKK automata",
           "Budapest, VI. kerület",
           "Kodály körönd M",
           "metró",
           "BKK-automata",
           "2015-03-17T00:00:00"
          ],
          [
           "BKK automata",
           "Budapest, VI. kerület",
           "Hősök tere M",
           "metró",
           "BKK-automata",
           "2018-04-18T00:00:00"
          ],
          [
           "BKK automata",
           "Budapest, VI. kerület",
           "Nyugati pályaudvar M",
           "metró",
           "BKK-automata",
           "2014-04-29T00:00:00"
          ],
          [
           "BKK automata",
           "Budapest, VI. kerület",
           "Nyugati pályaudvar M",
           "villamosmegálló",
           "BKK-automata",
           "2014-07-18T00:00:00"
          ],
          [
           "BKK automata",
           "Budapest, VI. kerület",
           "Oktogon M",
           "villamosmegálló",
           "BKK-automata",
           "2014-07-23T00:00:00"
          ],
          [
           "BKK automata",
           "Budapest, VI. kerület",
           "Oktogon M",
           "metró",
           "BKK-automata",
           "2014-08-16T00:00:00"
          ],
          [
           "BKK automata",
           "Budapest, VII. kerület",
           "Király utca ",
           "villamosmegálló",
           "BKK-automata",
           "2014-07-24T00:00:00"
          ],
          [
           "BKK automata",
           "Budapest, VII. kerület",
           "Wesselényi utca",
           "villamosmegálló",
           "BKK-automata",
           "2014-08-22T00:00:00"
          ],
          [
           "BKK automata",
           "Budapest, VII. kerület",
           "Astoria M",
           "metró",
           "BKK-automata",
           "2014-04-08T00:00:00"
          ],
          [
           "BKK automata",
           "Budapest, VII. kerület",
           "Keleti pályaudvar M",
           "metró",
           "BKK-automata",
           "2014-03-26T00:00:00"
          ],
          [
           "BKK automata",
           "Budapest, VII. kerület",
           "Wesselényi utca",
           "buszmegálló",
           "BKK-automata",
           "2015-01-13T00:00:00"
          ],
          [
           "BKK automata",
           "Budapest, VII. kerület",
           "Keleti pályaudvar M",
           "metró",
           "BKK-automata",
           "2014-03-26T00:00:00"
          ],
          [
           "BKK automata",
           "Budapest, VII. kerület",
           "Keleti pályaudvar M",
           "metró",
           "BKK-automata",
           "2014-03-26T00:00:00"
          ],
          [
           "BKK automata",
           "Budapest, VII. kerület",
           "Keleti pályaudvar M",
           "egyéb",
           "BKK-automata",
           "2015-04-16T00:00:00"
          ],
          [
           "BKK automata",
           "Budapest, VII. kerület",
           "Keleti pályaudvar M",
           "egyéb",
           "BKK-automata",
           "2015-04-16T00:00:00"
          ],
          [
           "BKK automata",
           "Budapest, VII. kerület",
           "Astoria M",
           "villamosmegálló",
           "BKK-automata",
           "2014-04-27T00:00:00"
          ],
          [
           "BKK automata",
           "Budapest, VII. kerület",
           "Blaha Lujza tér M",
           "metró",
           "BKK-automata",
           "2014-04-29T00:00:00"
          ],
          [
           "BKK automata",
           "Budapest, VII. kerület",
           "Blaha Lujza tér M",
           "metró",
           "BKK-automata",
           "2014-04-29T00:00:00"
          ],
          [
           "BKK automata",
           "Budapest, VII. kerület",
           "Keleti pályaudvar M",
           "metró",
           "BKK-automata",
           "2014-04-16T00:00:00"
          ],
          [
           "BKK automata",
           "Budapest, VII. kerület",
           "Keleti pályaudvar M",
           "metró",
           "BKK-automata",
           "2014-04-16T00:00:00"
          ],
          [
           "BKK automata",
           "Budapest, VII. kerület",
           "Blaha Lujza tér M",
           "metró",
           "BKK-automata",
           "2018-09-18T00:00:00"
          ],
          [
           "BKK automata",
           "Budapest, VII. kerület",
           "Keleti pályaudvar M",
           "buszmegálló",
           "BKK-automata",
           "2014-08-14T00:00:00"
          ],
          [
           "BKK automata",
           "Budapest, VII. kerület",
           "Keleti pályaudvar M",
           "buszmegálló",
           "BKK-automata",
           "2014-05-06T00:00:00"
          ],
          [
           "BKK automata",
           "Budapest, VII. kerület",
           "Astoria M",
           "metró",
           "BKK-automata",
           "2014-12-16T00:00:00"
          ],
          [
           "BKK automata",
           "Budapest, VII. kerület",
           "Astoria M ",
           "metró",
           "BKK-automata",
           "2014-12-16T00:00:00"
          ],
          [
           "BKK automata",
           "Budapest, VII. kerület",
           "Keleti pályaudvar M",
           "egyéb",
           "BKK-automata",
           "2017-12-20T00:00:00"
          ],
          [
           "BKK automata",
           "Budapest, VII. kerület",
           "Keleti pályaudvar M",
           "egyéb",
           "BKK-automata",
           "2017-12-20T00:00:00"
          ],
          [
           "BKK automata",
           "Budapest, VII. kerület",
           "Keleti pályaudvar M",
           "buszmegálló",
           "BKK-automata",
           "2014-08-29T00:00:00"
          ],
          [
           "BKK automata",
           "Budapest, VIII. kerület",
           "Blaha Lujza tér (Buda felé)",
           "buszmegálló",
           "BKK-automata",
           "2014-07-23T00:00:00"
          ],
          [
           "BKK automata",
           "Budapest, VIII. kerület",
           "Corvin-negyed M",
           "metró",
           "BKK-automata",
           "2014-04-30T00:00:00"
          ],
          [
           "BKK automata",
           "Budapest, VIII. kerület",
           "Corvin-negyed M",
           "metró",
           "BKK-automata",
           "2014-04-30T00:00:00"
          ],
          [
           "BKK automata",
           "Budapest, VIII. kerület",
           "II. János Pál pápa tér M",
           "egyéb",
           "BKK-automata",
           "2014-03-26T00:00:00"
          ],
          [
           "BKK automata",
           "Budapest, VIII. kerület",
           "II. János Pál pápa tér M",
           "aluljáró",
           "BKK-automata",
           "2014-03-26T00:00:00"
          ],
          [
           "BKK automata",
           "Budapest, VIII. kerület",
           "Rákóczi tér M",
           "metró",
           "BKK-automata",
           "2014-03-26T00:00:00"
          ],
          [
           "BKK automata",
           "Budapest, VIII. kerület",
           "Kálvin tér M",
           "metró",
           "BKK-automata",
           "2014-04-28T00:00:00"
          ],
          [
           "BKK automata",
           "Budapest, VIII. kerület",
           "Kálvin tér M",
           "metró",
           "BKK-automata",
           "2014-04-28T00:00:00"
          ],
          [
           "BKK automata",
           "Budapest, VIII. kerület",
           "Rákóczi tér M",
           "villamosmegálló",
           "BKK-automata",
           "2014-07-24T00:00:00"
          ],
          [
           "BKK automata",
           "Budapest, VIII. kerület",
           "Harminckettesek tere",
           "buszmegálló",
           "BKK-automata",
           "2014-09-22T00:00:00"
          ],
          [
           "BKK automata",
           "Budapest, VIII. kerület",
           "Kálvária tér",
           "buszmegálló",
           "BKK-automata",
           "2015-03-25T00:00:00"
          ],
          [
           "BKK automata",
           "Budapest, VIII. kerület",
           "Kálvin tér M",
           "villamosmegálló",
           "BKK-automata",
           "2014-08-15T00:00:00"
          ],
          [
           "BKK automata",
           "Budapest, VIII. kerület",
           "Kálvin tér M",
           "metró",
           "BKK-automata",
           "2015-12-23T00:00:00"
          ],
          [
           "BKK automata",
           "Budapest, VIII. kerület",
           "Klinikák M",
           "metró",
           "BKK-automata",
           "2014-07-30T00:00:00"
          ],
          [
           "BKK automata",
           "Budapest, VIII. kerület",
           "Hungária körút",
           "villamosmegálló",
           "BKK-automata",
           "2015-12-24T00:00:00"
          ],
          [
           "BKK automata",
           "Budapest, VIII. kerület",
           "Blaha Lujza tér M",
           "villamosmegálló",
           "BKK-automata",
           "2014-07-23T00:00:00"
          ],
          [
           "BKK automata",
           "Budapest, VIII. kerület",
           "Klinikák M",
           "metró",
           "BKK-automata",
           "2014-09-30T00:00:00"
          ],
          [
           "BKK automata",
           "Budapest, VIII. kerület",
           "Corvin-negyed M",
           "villamosmegálló",
           "BKK-automata",
           "2014-07-23T00:00:00"
          ],
          [
           "BKK automata",
           "Budapest, VIII. kerület",
           "Blaha Lujza tér M",
           "villamosmegálló",
           "BKK-automata",
           "2014-07-28T00:00:00"
          ],
          [
           "BKK automata",
           "Budapest, VIII. kerület",
           "Corvin-negyed M",
           "metró",
           "BKK-automata",
           "2014-12-08T00:00:00"
          ],
          [
           "BKK automata",
           "Budapest, VIII. kerület",
           "Corvin-negyed M",
           "metró",
           "BKK-automata",
           "2014-12-08T00:00:00"
          ],
          [
           "BKK automata",
           "Budapest, VIII. kerület",
           "Klinikák M",
           "metró",
           "BKK-automata",
           "2015-12-22T00:00:00"
          ],
          [
           "BKK automata",
           "Budapest, X. kerület",
           "Örs vezér tere M+H",
           "metró",
           "BKK-automata",
           "2014-07-15T00:00:00"
          ],
          [
           "BKK automata",
           "Budapest, X. kerület",
           "Örs vezér tere M+H",
           "metró",
           "BKK-automata",
           "2014-07-15T00:00:00"
          ],
          [
           "BKK automata",
           "Budapest, X. kerület",
           "Kőbánya-Kispest M",
           "metró",
           "BKK-automata",
           "2014-07-11T00:00:00"
          ],
          [
           "BKK automata",
           "Budapest, X. kerület",
           "Kőbánya-Kispest M",
           "buszmegálló",
           "BKK-automata",
           "2014-07-11T00:00:00"
          ],
          [
           "BKK automata",
           "Budapest, X. kerület",
           "Kőbánya-Kispest M",
           "metró",
           "BKK-automata",
           "2014-04-30T00:00:00"
          ],
          [
           "BKK automata",
           "Budapest, X. kerület",
           "Kőbánya-Kispest M",
           "metró",
           "BKK-automata",
           "2014-04-30T00:00:00"
          ],
          [
           "BKK automata",
           "Budapest, X. kerület",
           "Kada utca",
           "buszmegálló",
           "BKK-automata",
           "2015-01-16T00:00:00"
          ],
          [
           "BKK automata",
           "Budapest, X. kerület",
           "Harmat utca",
           "buszmegálló",
           "BKK-automata",
           "2015-01-16T00:00:00"
          ],
          [
           "BKK automata",
           "Budapest, X. kerület",
           "Kőbánya alsó vasútállomás",
           "villamosmegálló",
           "BKK-automata",
           "2014-09-05T00:00:00"
          ],
          [
           "BKK automata",
           "Budapest, X. kerület",
           "Kőrösi Csoma Sándor út",
           "villamosmegálló",
           "BKK-automata",
           "2014-09-09T00:00:00"
          ],
          [
           "BKK automata",
           "Budapest, X. kerület",
           "Örs vezér tere M+H",
           "metró",
           "BKK-automata",
           "2014-10-01T00:00:00"
          ],
          [
           "BKK automata",
           "Budapest, X. kerület",
           "Örs vezér tere M+H",
           "metró",
           "BKK-automata",
           "2015-12-07T00:00:00"
          ],
          [
           "BKK automata",
           "Budapest, X. kerület",
           "Örs vezér tere M+H",
           "metró",
           "BKK-automata",
           "2015-12-18T00:00:00"
          ],
          [
           "BKK automata",
           "Budapest, X. kerület",
           "Kőbánya-Kispest M",
           "metró",
           "BKK-automata",
           "2015-12-28T00:00:00"
          ],
          [
           "BKK automata",
           "Budapest, X. kerület",
           "Örs vezér tere M+H",
           "metró",
           "BKK-automata",
           "2015-12-18T00:00:00"
          ],
          [
           "BKK automata",
           "Budapest, X. kerület",
           "Kőbánya-Kispest M",
           "metró",
           "BKK-automata",
           "2014-04-30T00:00:00"
          ],
          [
           "BKK automata",
           "Budapest, X. kerület",
           "Kőbánya-Kispest M",
           "metró",
           "BKK-automata",
           "2014-04-30T00:00:00"
          ],
          [
           "BKK automata",
           "Budapest, XI. kerület",
           "Fehérvári út",
           "villamosmegálló",
           "BKK-automata",
           "2014-12-19T00:00:00"
          ],
          [
           "BKK automata",
           "Budapest, XI. kerület",
           "Irinyi József utca",
           "villamosmegálló",
           "BKK-automata",
           "2014-07-31T00:00:00"
          ],
          [
           "BKK automata",
           "Budapest, XI. kerület",
           "Fehérvári út",
           "villamosmegálló",
           "BKK-automata",
           "2015-03-19T00:00:00"
          ],
          [
           "BKK automata",
           "Budapest, XI. kerület",
           "Fehérvári út",
           "villamosmegálló",
           "BKK-automata",
           "2014-12-15T00:00:00"
          ],
          [
           "BKK automata",
           "Budapest, XI. kerület",
           "Nagyszeben tér",
           "buszmegálló",
           "BKK-automata",
           "2015-03-24T00:00:00"
          ],
          [
           "BKK automata",
           "Budapest, XI. kerület",
           "Kelenföld vasútállomás M",
           "aluljáró",
           "BKK-automata",
           "2014-03-26T00:00:00"
          ],
          [
           "BKK automata",
           "Budapest, XI. kerület",
           "Bikás park M",
           "aluljáró",
           "BKK-automata",
           "2014-03-26T00:00:00"
          ],
          [
           "BKK automata",
           "Budapest, XI. kerület",
           "Kelenföld vasútállomás M",
           "MÁV",
           "BKK-automata",
           "2014-03-26T00:00:00"
          ],
          [
           "BKK automata",
           "Budapest, XI. kerület",
           "Kelenföld vasútállomás M",
           "MÁV",
           "BKK-automata",
           "2014-03-26T00:00:00"
          ],
          [
           "BKK automata",
           "Budapest, XI. kerület",
           "Kelenföld vasútállomás M",
           "MÁV",
           "BKK-automata",
           "2014-03-26T00:00:00"
          ],
          [
           "BKK automata",
           "Budapest, XI. kerület",
           "Kelenföld vasútállomás M",
           "MÁV",
           "BKK-automata",
           "2014-03-26T00:00:00"
          ],
          [
           "BKK automata",
           "Budapest, XI. kerület",
           "Kelenföld vasútállomás M",
           "MÁV",
           "BKK-automata",
           "2014-03-26T00:00:00"
          ],
          [
           "BKK automata",
           "Budapest, XI. kerület",
           "Kelenföld vasútállomás M",
           "aluljáró",
           "BKK-automata",
           "2014-03-26T00:00:00"
          ],
          [
           "BKK automata",
           "Budapest, XI. kerület",
           "Kelenföld vasútállomás M",
           "aluljáró",
           "BKK-automata",
           "2017-12-20T00:00:00"
          ],
          [
           "BKK automata",
           "Budapest, XI. kerület",
           "Móricz Zsigmond körtér M",
           "aluljáró",
           "BKK-automata",
           "2014-03-26T00:00:00"
          ],
          [
           "BKK automata",
           "Budapest, XI. kerület",
           "Móricz Zsigmond körtér M",
           "aluljáró",
           "BKK-automata",
           "2014-03-26T00:00:00"
          ],
          [
           "BKK automata",
           "Budapest, XI. kerület",
           "Szent Gellért tér M",
           "aluljáró",
           "BKK-automata",
           "2014-03-26T00:00:00"
          ],
          [
           "BKK automata",
           "Budapest, XI. kerület",
           "Újbuda-központ M",
           "aluljáró",
           "BKK-automata",
           "2014-03-26T00:00:00"
          ],
          [
           "BKK automata",
           "Budapest, XI. kerület",
           "Újbuda-központ M",
           "aluljáró",
           "BKK-automata",
           "2014-03-26T00:00:00"
          ],
          [
           "BKK automata",
           "Budapest, XI. kerület",
           "Kelenföld vasútállomás M",
           "villamosmegálló",
           "BKK-automata",
           "2014-04-22T00:00:00"
          ],
          [
           "BKK automata",
           "Budapest, XI. kerület",
           "Bikás park ",
           "villamosmegálló",
           "BKK-automata",
           "2019-07-10T00:00:00"
          ],
          [
           "BKK automata",
           "Budapest, XI. kerület",
           "Márton Áron tér",
           "villamosmegálló",
           "BKK-automata",
           "2014-08-28T00:00:00"
          ],
          [
           "BKK automata",
           "Budapest, XI. kerület",
           "Fehérvári út",
           "villamosmegálló",
           "BKK-automata",
           "2014-08-22T00:00:00"
          ],
          [
           "BKK automata",
           "Budapest, XI. kerület",
           "Budaörsi út",
           "buszmegálló",
           "BKK-automata",
           "2014-08-15T00:00:00"
          ],
          [
           "BKK automata",
           "Budapest, XI. kerület",
           "Szent Gellért tér ",
           "villamosmegálló",
           "BKK-automata",
           "2014-09-03T00:00:00"
          ],
          [
           "BKK automata",
           "Budapest, XI. kerület",
           "Újbuda-központ ",
           "egyéb",
           "BKK-automata",
           "2014-11-04T00:00:00"
          ],
          [
           "BKK automata",
           "Budapest, XI. kerület",
           "Bornemissza tér",
           "buszmegálló",
           "BKK-automata",
           "2015-12-28T00:00:00"
          ],
          [
           "BKK automata",
           "Budapest, XI. kerület",
           "Újbuda-Központ M",
           "egyéb",
           "BKK-automata",
           "2015-12-23T00:00:00"
          ],
          [
           "BKK automata",
           "Budapest, XI. kerület",
           "Savoya park",
           "villamosmegálló",
           "BKK-automata",
           "2015-12-28T00:00:00"
          ],
          [
           "BKK automata",
           "Budapest, XI. kerület",
           "Petőfi híd, budai hídfő",
           "villamosmegálló",
           "BKK-automata",
           "2014-08-18T00:00:00"
          ],
          [
           "BKK automata",
           "Budapest, XI. kerület",
           "Kosztolányi Dezső tér",
           "villamosmegálló",
           "BKK-automata",
           "2014-07-28T00:00:00"
          ],
          [
           "BKK automata",
           "Budapest, XI. kerület",
           "Gazdagréti tér",
           "buszmegálló",
           "BKK-automata",
           "2014-07-24T00:00:00"
          ],
          [
           "BKK automata",
           "Budapest, XI. kerület",
           "Bikás park M",
           "aluljáró",
           "BKK-automata",
           "2014-12-15T00:00:00"
          ],
          [
           "BKK automata",
           "Budapest, XI. kerület",
           "Móricz Zsigmond körtér",
           "villamosmegálló",
           "BKK-automata",
           "2014-10-15T00:00:00"
          ],
          [
           "BKK automata",
           "Budapest, XI. kerület",
           "Móricz Zsigmond körtér",
           "villamosmegálló",
           "BKK-automata",
           "2014-07-24T00:00:00"
          ],
          [
           "BKK automata",
           "Budapest, XI. kerület",
           "Alsóhegy utca/Villányi út",
           "villamosmegálló",
           "BKK-automata",
           "2017-01-26T00:00:00"
          ],
          [
           "BKK automata",
           "Budapest, XII. kerület",
           "Apor Vilmos tér",
           "buszmegálló",
           "BKK-automata",
           "2014-09-04T00:00:00"
          ],
          [
           "BKK automata",
           "Budapest, XII. kerület",
           "Alkotás utca",
           "villamosmegálló",
           "BKK-automata",
           "2014-12-15T00:00:00"
          ],
          [
           "BKK automata",
           "Budapest, XII. kerület",
           "Királyhágó tér",
           "villamosmegálló",
           "BKK-automata",
           "2014-09-03T00:00:00"
          ],
          [
           "BKK automata",
           "Budapest, XII. kerület",
           "Szent János Kórház",
           "villamosmegálló",
           "BKK-automata",
           "2014-09-30T00:00:00"
          ],
          [
           "BKK automata",
           "Budapest, XII. kerület",
           "Szent Orbán tér",
           "buszmegálló",
           "BKK-automata",
           "2014-11-03T00:00:00"
          ],
          [
           "BKK automata",
           "Budapest, XII. kerület",
           "Diana utca",
           "egyéb",
           "BKK-automata",
           "2015-12-29T00:00:00"
          ],
          [
           "BKK automata",
           "Budapest, XII. kerület",
           "Városmajor",
           "villamosmegálló",
           "BKK-automata",
           "2014-10-03T00:00:00"
          ],
          [
           "BKK automata",
           "Budapest, XII. kerület",
           "BAH-csomópont",
           "buszmegálló",
           "BKK-automata",
           "2016-11-17T00:00:00"
          ],
          [
           "BKK automata",
           "Budapest, XIII. kerület",
           "Nyugati pályaudvar M",
           "metró",
           "BKK-automata",
           "2014-04-27T00:00:00"
          ],
          [
           "BKK automata",
           "Budapest, XIII. kerület",
           "Nyugati pályaudvar M",
           "metró",
           "BKK-automata",
           "2014-04-27T00:00:00"
          ],
          [
           "BKK automata",
           "Budapest, XIII. kerület",
           "Nyugati pályaudvar M",
           "metró",
           "BKK-automata",
           "2014-04-29T00:00:00"
          ],
          [
           "BKK automata",
           "Budapest, XIII. kerület",
           "Nyugati pályaudvar M",
           "metró",
           "BKK-automata",
           "2015-12-23T00:00:00"
          ],
          [
           "BKK automata",
           "Budapest, XIII. kerület",
           "Árpád híd M",
           "metró",
           "BKK-automata",
           "2014-04-17T00:00:00"
          ],
          [
           "BKK automata",
           "Budapest, XIII. kerület",
           "Árpád híd M",
           "metró",
           "BKK-automata",
           "2014-04-17T00:00:00"
          ],
          [
           "BKK automata",
           "Budapest, XIII. kerület",
           "Árpád híd M",
           "metró",
           "BKK-automata",
           "2014-04-17T00:00:00"
          ],
          [
           "BKK automata",
           "Budapest, XIII. kerület",
           "Lehel tér M",
           "aluljáró",
           "BKK-automata",
           "2014-07-11T00:00:00"
          ],
          [
           "BKK automata",
           "Budapest, XIII. kerület",
           "Árpád híd M",
           "metró",
           "BKK-automata",
           "2014-04-17T00:00:00"
          ],
          [
           "BKK automata",
           "Budapest, XIII. kerület",
           "Szent István park",
           "buszmegálló",
           "BKK-automata",
           "2014-09-12T00:00:00"
          ],
          [
           "BKK automata",
           "Budapest, XIII. kerület",
           "Lehel tér M",
           "villamosmegálló",
           "BKK-automata",
           "2014-10-03T00:00:00"
          ],
          [
           "BKK automata",
           "Budapest, XIII. kerület",
           "Árpád híd M",
           "metró",
           "BKK-automata",
           "2019-03-14T00:00:00"
          ],
          [
           "BKK automata",
           "Budapest, XIII. kerület",
           "Árpád híd M",
           "metró",
           "BKK-automata",
           "2019-03-14T00:00:00"
          ],
          [
           "BKK automata",
           "Budapest, XIII. kerület",
           "Nyugati pályaudvar M",
           "metró",
           "BKK-automata",
           "2015-12-23T00:00:00"
          ],
          [
           "BKK automata",
           "Budapest, XIII. kerület",
           "Nyugati pályaudvar M",
           "metró",
           "BKK-automata",
           "2015-12-23T00:00:00"
          ],
          [
           "BKK automata",
           "Budapest, XIII. kerület",
           "Nyugati pályaudvar M",
           "metró",
           "BKK-automata",
           "2015-12-23T00:00:00"
          ],
          [
           "BKK automata",
           "Budapest, XIII. kerület",
           "Dózsa György út M",
           "metró",
           "BKK-automata",
           "2014-07-18T00:00:00"
          ],
          [
           "BKK automata",
           "Budapest, XIII. kerület",
           "Béke tér",
           "villamosmegálló",
           "BKK-automata",
           "2014-11-04T00:00:00"
          ],
          [
           "BKK automata",
           "Budapest, XIII. kerület",
           "Gyöngyösi utca M",
           "metró",
           "BKK-automata",
           "2015-12-22T00:00:00"
          ],
          [
           "BKK automata",
           "Budapest, XIII. kerület",
           "Béke utca",
           "villamosmegálló",
           "BKK-automata",
           "2014-09-04T00:00:00"
          ],
          [
           "BKK automata",
           "Budapest, XIII. kerület",
           "Lehel tér M",
           "aluljáró",
           "BKK-automata",
           "2014-07-11T00:00:00"
          ],
          [
           "BKK automata",
           "Budapest, XIII. kerület",
           "Népfürdő utca",
           "villamosmegálló",
           "BKK-automata",
           "2015-12-23T00:00:00"
          ],
          [
           "BKK automata",
           "Budapest, XIII. kerület",
           "Róbert Károly körút",
           "villamosmegálló",
           "BKK-automata",
           "2015-12-24T00:00:00"
          ],
          [
           "BKK automata",
           "Budapest, XIII. kerület",
           "Lehel tér M",
           "aluljáró",
           "BKK-automata",
           "2020-11-06T00:00:00"
          ],
          [
           "BKK automata",
           "Budapest, XIII. kerület",
           "Lehel tér M",
           "aluljáró",
           "BKK-automata",
           "2020-11-06T00:00:00"
          ],
          [
           "BKK automata",
           "Budapest, XIII. kerület",
           "Lehel tér M",
           "aluljáró",
           "BKK-automata",
           "2015-12-21T00:00:00"
          ],
          [
           "BKK automata",
           "Budapest, XIII. kerület",
           "Dózsa György út M",
           "metró",
           "BKK-automata",
           "2015-12-22T00:00:00"
          ],
          [
           "BKK automata",
           "Budapest, XIII. kerület",
           "Gyöngyösi utca M",
           "metró",
           "BKK-automata",
           "2014-07-17T00:00:00"
          ],
          [
           "BKK automata",
           "Budapest, XIII. kerület",
           "Dózsa György út M",
           "metró",
           "BKK-automata",
           "2014-11-04T00:00:00"
          ],
          [
           "BKK automata",
           "Budapest, XIII. kerület",
           "Árpád híd M",
           "buszmegálló",
           "BKK-automata",
           "2014-07-18T00:00:00"
          ],
          [
           "BKK automata",
           "Budapest, XIII. kerület",
           "Gyöngyösi utca",
           "buszmegálló",
           "BKK-automata",
           "2014-07-17T00:00:00"
          ],
          [
           "BKK automata",
           "Budapest, XIV. kerület",
           "Puskás Ferenc Stadion M",
           "metró",
           "BKK-automata",
           "2014-07-31T00:00:00"
          ],
          [
           "BKK automata",
           "Budapest, XIV. kerület",
           "Puskás Ferenc Stadion M",
           "villamosmegálló",
           "BKK-automata",
           "2014-09-05T00:00:00"
          ],
          [
           "BKK automata",
           "Budapest, XIV. kerület",
           "Mexikói út M",
           "metró",
           "BKK-automata",
           "2014-05-07T00:00:00"
          ],
          [
           "BKK automata",
           "Budapest, XIV. kerület",
           "Bosnyák tér",
           "villamosmegálló",
           "BKK-automata",
           "2014-09-23T00:00:00"
          ],
          [
           "BKK automata",
           "Budapest, XIV. kerület",
           "Nagy Lajos király útja",
           "villamosmegálló",
           "BKK-automata",
           "2014-09-26T00:00:00"
          ],
          [
           "BKK automata",
           "Budapest, XIV. kerület",
           "Egressy tér",
           "villamosmegálló",
           "BKK-automata",
           "2014-10-01T00:00:00"
          ],
          [
           "BKK automata",
           "Budapest, XIV. kerület",
           "Fogarasi út",
           "egyéb",
           "BKK-automata",
           "2014-10-15T00:00:00"
          ],
          [
           "BKK automata",
           "Budapest, XIV. kerület",
           "Pongrátz Gergely tér",
           "buszmegálló",
           "BKK-automata",
           "2015-01-28T00:00:00"
          ],
          [
           "BKK automata",
           "Budapest, XIV. kerület",
           "Fogarasi út",
           "buszmegálló",
           "BKK-automata",
           "2014-12-18T00:00:00"
          ],
          [
           "BKK automata",
           "Budapest, XIV. kerület",
           "Vezér utca",
           "buszmegálló",
           "BKK-automata",
           "2014-10-15T00:00:00"
          ],
          [
           "BKK automata",
           "Budapest, XIV. kerület",
           "Zugló vasútállomás",
           "villamosmegálló",
           "BKK-automata",
           "2014-11-20T00:00:00"
          ],
          [
           "BKK automata",
           "Budapest, XIV. kerület",
           "Reiner Frigyes park, Thököly út, Dózsa György út",
           "buszmegálló",
           "BKK-automata",
           "2018-09-17T00:00:00"
          ],
          [
           "BKK automata",
           "Budapest, XIV. kerület",
           "Puskás Ferenc Stadion M",
           "metró",
           "BKK-automata",
           "2014-04-29T00:00:00"
          ],
          [
           "BKK automata",
           "Budapest, XIV. kerület",
           "Pillangó utca M",
           "metró",
           "BKK-automata",
           "2014-07-30T00:00:00"
          ],
          [
           "BKK automata",
           "Budapest, XIV. kerület",
           "Örs vezér tere M+H",
           "HÉV",
           "BKK-automata",
           "2014-07-15T00:00:00"
          ],
          [
           "BKK automata",
           "Budapest, XIV. kerület",
           "Bosnyák tér",
           "buszmegálló",
           "BKK-automata",
           "2014-09-19T00:00:00"
          ],
          [
           "BKK automata",
           "Budapest, XIV. kerület",
           "Mexikói út M",
           "metró",
           "BKK-automata",
           "2014-12-05T00:00:00"
          ],
          [
           "BKK automata",
           "Budapest, XIV. kerület",
           "Széchenyi fürdő M",
           "metró",
           "BKK-automata",
           "2015-03-12T00:00:00"
          ],
          [
           "BKK automata",
           "Budapest, XIV. kerület",
           "Puskás Ferenc Stadion M",
           "metró",
           "BKK-automata",
           "2015-12-29T00:00:00"
          ],
          [
           "BKK automata",
           "Budapest, XIV. kerület",
           "Puskás Ferenc Stadion M",
           "metró",
           "BKK-automata",
           "2015-12-24T00:00:00"
          ],
          [
           "BKK automata",
           "Budapest, XIV. kerület",
           "Széchenyi fürdő M",
           "metró",
           "BKK-automata",
           "2020-07-28T00:00:00"
          ],
          [
           "BKK automata",
           "Budapest, XIV. kerület",
           "Mexikói út M",
           "metró",
           "BKK-automata",
           "2015-12-29T00:00:00"
          ],
          [
           "BKK automata",
           "Budapest, XIV. kerület",
           "Örs vezér tere M+H",
           "HÉV",
           "BKK-automata",
           "2015-12-18T00:00:00"
          ],
          [
           "BKK automata",
           "Budapest, XIX. kerület",
           "Kós Károly tér",
           "buszmegálló",
           "BKK-automata",
           "2017-12-02T00:00:00"
          ],
          [
           "BKK automata",
           "Budapest, XIX. kerület",
           "Kossuth tér",
           "villamosmegálló",
           "BKK-automata",
           "2014-12-18T00:00:00"
          ],
          [
           "BKK automata",
           "Budapest, XIX. kerület",
           "Határ út M",
           "metró",
           "BKK-automata",
           "2014-04-24T00:00:00"
          ],
          [
           "BKK automata",
           "Budapest, XIX. kerület",
           "Üllői út , Villanytelep utca",
           "villamosmegálló",
           "BKK-automata",
           "2018-09-18T00:00:00"
          ],
          [
           "BKK automata",
           "Budapest, XIX. kerület",
           "Határ út M",
           "metró",
           "BKK-automata",
           "2014-04-24T00:00:00"
          ],
          [
           "BKK automata",
           "Budapest, XIX. kerület",
           "Határ út M",
           "metró",
           "BKK-automata",
           "2014-04-24T00:00:00"
          ],
          [
           "BKK automata",
           "Budapest, XIX. kerület",
           "Kispest, Vas Gereben utca",
           "buszmegálló",
           "BKK-automata",
           "2014-09-10T00:00:00"
          ],
          [
           "BKK automata",
           "Budapest, XIX. kerület",
           "Határ út M",
           "metró",
           "BKK-automata",
           "2020-10-23T00:00:00"
          ],
          [
           "BKK automata",
           "Budapest, XV. kerület",
           "Rákos út",
           "buszmegálló",
           "BKK-automata",
           "2014-09-11T00:00:00"
          ],
          [
           "BKK automata",
           "Budapest, XV. kerület",
           "Nyírpalota út",
           "buszmegálló",
           "BKK-automata",
           "2014-09-06T00:00:00"
          ],
          [
           "BKK automata",
           "Budapest, XV. kerület",
           "Drégelyvár utca",
           "buszmegálló",
           "BKK-automata",
           "2014-12-22T00:00:00"
          ],
          [
           "BKK automata",
           "Budapest, XV. kerület",
           "Rákospalota, Kossuth utca",
           "villamosmegálló",
           "BKK-automata",
           "2014-11-19T00:00:00"
          ],
          [
           "BKK automata",
           "Budapest, XV. kerület",
           "Rákospalota, MÁV-telep",
           "villamosmegálló",
           "BKK-automata",
           "2014-08-28T00:00:00"
          ],
          [
           "BKK automata",
           "Budapest, XV. kerület",
           "Vásárcsarnok",
           "buszmegálló",
           "BKK-automata",
           "2014-08-26T00:00:00"
          ],
          [
           "BKK automata",
           "Budapest, XV. kerület",
           "Hubay Jenő tér",
           "buszmegálló",
           "BKK-automata",
           "2015-12-29T00:00:00"
          ],
          [
           "BKK automata",
           "Budapest, XV. kerület",
           "Vásárcsarnok",
           "buszmegálló",
           "BKK-automata",
           "2015-12-28T00:00:00"
          ],
          [
           "BKK automata",
           "Budapest, XV. kerület",
           "Rákos úti szakrendelő",
           "buszmegálló",
           "BKK-automata",
           "2015-12-28T00:00:00"
          ],
          [
           "BKK automata",
           "Budapest, XV. kerület",
           "Szentmihályi út",
           "buszmegálló",
           "BKK-automata",
           "2015-12-18T00:00:00"
          ],
          [
           "BKK automata",
           "Budapest, XVI. kerület",
           "Újszász utca",
           "buszmegálló",
           "BKK-automata",
           "2015-02-07T00:00:00"
          ],
          [
           "BKK automata",
           "Budapest, XVI. kerület",
           "Egyenes utcai lakótelep",
           "buszmegálló",
           "BKK-automata",
           "2015-01-13T00:00:00"
          ],
          [
           "BKK automata",
           "Budapest, XVI. kerület",
           "Rákosi út",
           "buszmegálló",
           "BKK-automata",
           "2014-09-12T00:00:00"
          ],
          [
           "BKK automata",
           "Budapest, XVI. kerület",
           "Állás utca",
           "buszmegálló",
           "BKK-automata",
           "2014-12-16T00:00:00"
          ],
          [
           "BKK automata",
           "Budapest, XVI. kerület",
           "Csömöri út",
           "buszmegálló",
           "BKK-automata",
           "2014-12-16T00:00:00"
          ],
          [
           "BKK automata",
           "Budapest, XVI. kerület",
           "Margit utca",
           "buszmegálló",
           "BKK-automata",
           "2014-09-12T00:00:00"
          ],
          [
           "BKK automata",
           "Budapest, XVI. kerület",
           "Cinkota H",
           "HÉV",
           "BKK-automata",
           "2014-08-10T00:00:00"
          ],
          [
           "BKK automata",
           "Budapest, XVI. kerület",
           "Mátyásföld, repülőtér H",
           "buszmegálló",
           "BKK-automata",
           "2014-12-05T00:00:00"
          ],
          [
           "BKK automata",
           "Budapest, XVI. kerület",
           "Sashalom H",
           "HÉV",
           "BKK-automata",
           "2015-12-18T00:00:00"
          ],
          [
           "BKK automata",
           "Budapest, XVII. kerület",
           "Rákoskeresztúr, városközpont",
           "buszmegálló",
           "BKK-automata",
           "2014-12-16T00:00:00"
          ],
          [
           "BKK automata",
           "Budapest, XVII. kerület",
           "Rákoskeresztúr, városközpont",
           "buszmegálló",
           "BKK-automata",
           "2014-12-16T00:00:00"
          ],
          [
           "BKK automata",
           "Budapest, XVII. kerület",
           "Hősök tere",
           "buszmegálló",
           "BKK-automata",
           "2014-11-28T00:00:00"
          ],
          [
           "BKK automata",
           "Budapest, XVII. kerület",
           "Csaba vezér tér",
           "buszmegálló",
           "BKK-automata",
           "2014-08-18T00:00:00"
          ],
          [
           "BKK automata",
           "Budapest, XVII. kerület",
           "Pesti út",
           "buszmegálló",
           "BKK-automata",
           "2014-08-18T00:00:00"
          ],
          [
           "BKK automata",
           "Budapest, XVII. kerület",
           "Kucorgó tér",
           "buszmegálló",
           "BKK-automata",
           "2014-08-18T00:00:00"
          ],
          [
           "BKK automata",
           "Budapest, XVIII. kerület",
           "Pestszentimre vasútállomás",
           "buszmegálló",
           "BKK-automata",
           "2014-09-05T00:00:00"
          ],
          [
           "BKK automata",
           "Budapest, XVIII. kerület",
           "Béke tér",
           "villamosmegálló",
           "BKK-automata",
           "2014-09-04T00:00:00"
          ],
          [
           "BKK automata",
           "Budapest, XVIII. kerület",
           "Szarvas csárda tér",
           "villamosmegálló",
           "BKK-automata",
           "2014-09-25T00:00:00"
          ],
          [
           "BKK automata",
           "Budapest, XVIII. kerület",
           "Liszt Ferenc Nemzetközi Repülőtér",
           "repülőtér",
           "BKK-automata",
           "2015-05-05T00:00:00"
          ],
          [
           "BKK automata",
           "Budapest, XVIII. kerület",
           "Liszt Ferenc Nemzetközi Repülőtér",
           "repülőtér",
           "BKK-automata",
           "2015-05-05T00:00:00"
          ],
          [
           "BKK automata",
           "Budapest, XVIII. kerület",
           "Liszt Ferenc Nemzetközi Repülőtér",
           "repülőtér",
           "BKK-automata",
           "2017-08-02T00:00:00"
          ],
          [
           "BKK automata",
           "Budapest, XVIII. kerület",
           "Alacskai úti lakótelep",
           "buszmegálló",
           "BKK-automata",
           "2014-12-18T00:00:00"
          ],
          [
           "BKK automata",
           "Budapest, XVIII. kerület",
           "Üllői út",
           "villamosmegálló",
           "BKK-automata",
           "2014-12-18T00:00:00"
          ],
          [
           "BKK automata",
           "Budapest, XVIII. kerület",
           "Tövishát utca",
           "buszmegálló",
           "BKK-automata",
           "2014-12-19T00:00:00"
          ],
          [
           "BKK automata",
           "Budapest, XVIII. kerület",
           "Üllői út",
           "villamosmegálló",
           "BKK-automata",
           "2014-11-28T00:00:00"
          ],
          [
           "BKK automata",
           "Budapest, XVIII. kerület",
           "Barta Lajos utca",
           "buszmegálló",
           "BKK-automata",
           "2015-02-13T00:00:00"
          ],
          [
           "BKK automata",
           "Budapest, XVIII. kerület",
           "Liszt Ferenc Nemzetközi Repülőtér",
           "repülőtér",
           "BKK-automata",
           "2017-09-14T00:00:00"
          ],
          [
           "BKK automata",
           "Budapest, XVIII. kerület",
           "Liszt Ferenc Nemzetközi Repülőtér",
           "repülőtér",
           "BKK-automata",
           "2019-05-21T00:00:00"
          ],
          [
           "BKK automata",
           "Budapest, XVIII. kerület",
           "Liszt Ferenc Nemzetközi Repülőtér",
           "repülőtér",
           "BKK-automata",
           "2019-05-21T00:00:00"
          ],
          [
           "BKK automata",
           "Budapest, XVIII. kerület",
           "Liszt Ferenc Nemzetközi Repülőtér",
           "repülőtér",
           "BKK-automata",
           "2019-05-21T00:00:00"
          ],
          [
           "BKK automata",
           "Budapest, XVIII. kerület",
           "Liszt Ferenc Nemzetközi Repülőtér",
           "repülőtér",
           "BKK-automata",
           "2019-05-21T00:00:00"
          ],
          [
           "BKK automata",
           "Budapest, XVIII. kerület",
           "Gyömrői út",
           "buszmegálló",
           "BKK-automata",
           "2015-12-28T00:00:00"
          ],
          [
           "BKK automata",
           "Budapest, XX. kerület",
           "Tátra tér",
           "buszmegálló",
           "BKK-automata",
           "2017-12-06T00:00:00"
          ],
          [
           "BKK automata",
           "Budapest, XX. kerület",
           "Pesterzsébet, városközpont",
           "buszmegálló",
           "BKK-automata",
           "2014-09-12T00:00:00"
          ],
          [
           "BKK automata",
           "Budapest, XX. kerület",
           "Topánka utca",
           "buszmegálló",
           "BKK-automata",
           "2015-12-18T00:00:00"
          ],
          [
           "BKK automata",
           "Budapest, XX. kerület",
           "Pesterzsébet felső H",
           "egyéb",
           "BKK-automata",
           "2014-09-20T00:00:00"
          ],
          [
           "BKK automata",
           "Budapest, XXI. kerület",
           "Vénusz utca",
           "buszmegálló",
           "BKK-automata",
           "2014-07-30T00:00:00"
          ],
          [
           "BKK automata",
           "Budapest, XXI. kerület",
           "Kossuth Lajos utca",
           "buszmegálló",
           "BKK-automata",
           "2014-08-16T00:00:00"
          ],
          [
           "BKK automata",
           "Budapest, XXI. kerület",
           "Széchenyi István utca",
           "buszmegálló",
           "BKK-automata",
           "2014-12-01T00:00:00"
          ],
          [
           "BKK automata",
           "Budapest, XXI. kerület",
           "Királyerdei Művelődési Ház",
           "buszmegálló",
           "BKK-automata",
           "2015-01-13T00:00:00"
          ],
          [
           "BKK automata",
           "Budapest, XXI. kerület",
           "Ady Endre út",
           "buszmegálló",
           "BKK-automata",
           "2015-02-20T00:00:00"
          ],
          [
           "BKK automata",
           "Budapest, XXI. kerület",
           "Szent Imre tér ",
           "egyéb",
           "BKK-automata",
           "2014-08-15T00:00:00"
          ],
          [
           "BKK automata",
           "Budapest, XXI. kerület",
           "Csepel H",
           "HÉV",
           "BKK-automata",
           "2014-08-28T00:00:00"
          ],
          [
           "BKK automata",
           "Budapest, XXI. kerület",
           "Csepel H",
           "HÉV",
           "BKK-automata",
           "2016-03-08T00:00:00"
          ],
          [
           "BKK automata",
           "Budapest, XXII. kerület",
           "Budafok, Városház tér",
           "villamosmegálló",
           "BKK-automata",
           "2014-09-03T00:00:00"
          ],
          [
           "BKK automata",
           "Budapest, XXII. Kerület",
           "Leányka utca",
           "buszmegálló",
           "BKK-automata",
           "2014-12-08T00:00:00"
          ],
          [
           "BKK automata",
           "Budapest, XXII. Kerület",
           "Nagytétényi út",
           "buszmegálló",
           "BKK-automata",
           "2014-09-25T00:00:00"
          ],
          [
           "BKK automata",
           "Budapest, XXII. kerület",
           "Rózsakert utca / Rákóczi utca",
           "buszmegálló",
           "BKK-automata",
           "2014-12-19T00:00:00"
          ],
          [
           "BKK automata",
           "Budapest, XXII. kerület",
           "Budafok, Városház tér",
           "villamosmegálló",
           "BKK-automata",
           "2015-12-28T00:00:00"
          ],
          [
           "BKK automata",
           "Budapest, XXIII. kerület",
           "Újtelep út",
           "buszmegálló",
           "BKK-automata",
           "2015-03-18T00:00:00"
          ],
          [
           "BKK automata",
           "Budapest, XXIII. Kerület",
           "Grassalkovich út",
           "buszmegálló",
           "BKK-automata",
           "2014-09-30T00:00:00"
          ],
          [
           "BKK automata",
           "Csömör",
           "HÉV-állomás",
           "egyéb",
           "BKK-automata",
           "2014-09-25T00:00:00"
          ],
          [
           "BKK automata",
           "Dunaharaszti",
           "Dunaharaszti-külső H",
           "HÉV",
           "BKK-automata",
           "2014-07-12T00:00:00"
          ],
          [
           "BKK automata",
           "Gödöllő",
           "hévvégállomás",
           "egyéb",
           "BKK-automata",
           "2014-07-15T00:00:00"
          ],
          [
           "BKK automata",
           "Gödöllő",
           "Szabadság tér H",
           "HÉV",
           "BKK-automata",
           "2014-07-15T00:00:00"
          ],
          [
           "BKK automata",
           "Gyál",
           "Kőrösi út",
           "buszmegálló",
           "BKK-automata",
           "2015-03-18T00:00:00"
          ],
          [
           "BKK automata",
           "Mogyoród",
           "hévállomás",
           "egyéb",
           "BKK-automata",
           "2014-09-25T00:00:00"
          ],
          [
           "BKK automata",
           "Nagykovácsi",
           "Tisza István tér",
           "buszmegálló",
           "BKK-automata",
           "2014-07-24T00:00:00"
          ],
          [
           "BKK automata",
           "Pécel",
           "Ráday Gedeon tér",
           "buszmegálló",
           "BKK-automata",
           "2014-12-22T00:00:00"
          ],
          [
           "BKK automata",
           "Pomáz",
           "hévállomás",
           "egyéb",
           "BKK-automata",
           "2014-07-21T00:00:00"
          ],
          [
           "BKK automata",
           "Pomáz",
           "hévállomás",
           "egyéb",
           "BKK-automata",
           "2018-10-09T00:00:00"
          ],
          [
           "BKK automata",
           "Solymár",
           "Solymár, községháza",
           "buszmegálló",
           "BKK-automata",
           "2014-12-22T00:00:00"
          ],
          [
           "BKK automata",
           "Szentendre",
           "Pannóniatelep",
           "HÉV",
           "BKK-automata",
           "2018-06-21T00:00:00"
          ],
          [
           "BKK automata",
           "Szentendre",
           "hévvégállomás",
           "egyéb",
           "BKK-automata",
           "2014-07-21T00:00:00"
          ],
          [
           "BKK automata",
           "Szentendre",
           "hévvégállomás",
           "egyéb",
           "BKK-automata",
           "2014-07-21T00:00:00"
          ],
          [
           "BKK automata",
           "Szentendre",
           "hévvégállomás",
           "egyéb",
           "BKK-automata",
           "2018-10-09T00:00:00"
          ],
          [
           "BKK automata",
           "Szigetszentmiklós",
           "Gyártelep H",
           "HÉV",
           "BKK-automata",
           "2014-07-11T00:00:00"
          ],
          [
           "BKK automata",
           "Szigetszentmiklós",
           "Városháza",
           "buszmegálló",
           "BKK-automata",
           "2014-10-20T00:00:00"
          ],
          [
           "BKK automata",
           "Szigetszentmiklós",
           "József Attila-telep H",
           "HÉV",
           "BKK-automata",
           "2014-07-12T00:00:00"
          ],
          [
           "BKK automata",
           "Tököl",
           "hévállomás",
           "egyéb",
           "BKK-automata",
           "2014-07-11T00:00:00"
          ],
          [
           "BKK automata",
           "Törökbálint",
           "Deák Ferenc utca",
           "buszmegálló",
           "BKK-automata",
           "2018-07-23T00:00:00"
          ],
          [
           "BKK automata",
           "Törökbálint",
           "Munkácsy Mihály utca",
           "buszmegálló",
           "BKK-automata",
           "2014-05-08T00:00:00"
          ]
         ],
         "hovertemplate": "<b>%{hovertext}</b><br><br>organization=%{customdata[4]}<br>lat=%{lat}<br>lng=%{lon}<br>type=%{customdata[0]}<br>place=%{customdata[1]}<br>address=%{customdata[2]}<br>description=%{customdata[3]}<br>placed_at=%{customdata[5]}<extra></extra>",
         "hovertext": [
          "BKK automata",
          "BKK automata",
          "BKK automata",
          "BKK automata",
          "BKK automata",
          "BKK automata",
          "BKK automata",
          "BKK automata",
          "BKK automata",
          "BKK automata",
          "BKK automata",
          "BKK automata",
          "BKK automata",
          "BKK automata",
          "BKK automata",
          "BKK automata",
          "BKK automata",
          "BKK automata",
          "BKK automata",
          "BKK automata",
          "BKK automata",
          "BKK automata",
          "BKK automata",
          "BKK automata",
          "BKK automata",
          "BKK automata",
          "BKK automata",
          "BKK automata",
          "BKK automata",
          "BKK automata",
          "BKK automata",
          "BKK automata",
          "BKK automata",
          "BKK automata",
          "BKK automata",
          "BKK automata",
          "BKK automata",
          "BKK automata",
          "BKK automata",
          "BKK automata",
          "BKK automata",
          "BKK automata",
          "BKK automata",
          "BKK automata",
          "BKK automata",
          "BKK automata",
          "BKK automata",
          "BKK automata",
          "BKK automata",
          "BKK automata",
          "BKK automata",
          "BKK automata",
          "BKK automata",
          "BKK automata",
          "BKK automata",
          "BKK automata",
          "BKK automata",
          "BKK automata",
          "BKK automata",
          "BKK automata",
          "BKK automata",
          "BKK automata",
          "BKK automata",
          "BKK automata",
          "BKK automata",
          "BKK automata",
          "BKK automata",
          "BKK automata",
          "BKK automata",
          "BKK automata",
          "BKK automata",
          "BKK automata",
          "BKK automata",
          "BKK automata",
          "BKK automata",
          "BKK automata",
          "BKK automata",
          "BKK automata",
          "BKK automata",
          "BKK automata",
          "BKK automata",
          "BKK automata",
          "BKK automata",
          "BKK automata",
          "BKK automata",
          "BKK automata",
          "BKK automata",
          "BKK automata",
          "BKK automata",
          "BKK automata",
          "BKK automata",
          "BKK automata",
          "BKK automata",
          "BKK automata",
          "BKK automata",
          "BKK automata",
          "BKK automata",
          "BKK automata",
          "BKK automata",
          "BKK automata",
          "BKK automata",
          "BKK automata",
          "BKK automata",
          "BKK automata",
          "BKK automata",
          "BKK automata",
          "BKK automata",
          "BKK automata",
          "BKK automata",
          "BKK automata",
          "BKK automata",
          "BKK automata",
          "BKK automata",
          "BKK automata",
          "BKK automata",
          "BKK automata",
          "BKK automata",
          "BKK automata",
          "BKK automata",
          "BKK automata",
          "BKK automata",
          "BKK automata",
          "BKK automata",
          "BKK automata",
          "BKK automata",
          "BKK automata",
          "BKK automata",
          "BKK automata",
          "BKK automata",
          "BKK automata",
          "BKK automata",
          "BKK automata",
          "BKK automata",
          "BKK automata",
          "BKK automata",
          "BKK automata",
          "BKK automata",
          "BKK automata",
          "BKK automata",
          "BKK automata",
          "BKK automata",
          "BKK automata",
          "BKK automata",
          "BKK automata",
          "BKK automata",
          "BKK automata",
          "BKK automata",
          "BKK automata",
          "BKK automata",
          "BKK automata",
          "BKK automata",
          "BKK automata",
          "BKK automata",
          "BKK automata",
          "BKK automata",
          "BKK automata",
          "BKK automata",
          "BKK automata",
          "BKK automata",
          "BKK automata",
          "BKK automata",
          "BKK automata",
          "BKK automata",
          "BKK automata",
          "BKK automata",
          "BKK automata",
          "BKK automata",
          "BKK automata",
          "BKK automata",
          "BKK automata",
          "BKK automata",
          "BKK automata",
          "BKK automata",
          "BKK automata",
          "BKK automata",
          "BKK automata",
          "BKK automata",
          "BKK automata",
          "BKK automata",
          "BKK automata",
          "BKK automata",
          "BKK automata",
          "BKK automata",
          "BKK automata",
          "BKK automata",
          "BKK automata",
          "BKK automata",
          "BKK automata",
          "BKK automata",
          "BKK automata",
          "BKK automata",
          "BKK automata",
          "BKK automata",
          "BKK automata",
          "BKK automata",
          "BKK automata",
          "BKK automata",
          "BKK automata",
          "BKK automata",
          "BKK automata",
          "BKK automata",
          "BKK automata",
          "BKK automata",
          "BKK automata",
          "BKK automata",
          "BKK automata",
          "BKK automata",
          "BKK automata",
          "BKK automata",
          "BKK automata",
          "BKK automata",
          "BKK automata",
          "BKK automata",
          "BKK automata",
          "BKK automata",
          "BKK automata",
          "BKK automata",
          "BKK automata",
          "BKK automata",
          "BKK automata",
          "BKK automata",
          "BKK automata",
          "BKK automata",
          "BKK automata",
          "BKK automata",
          "BKK automata",
          "BKK automata",
          "BKK automata",
          "BKK automata",
          "BKK automata",
          "BKK automata",
          "BKK automata",
          "BKK automata",
          "BKK automata",
          "BKK automata",
          "BKK automata",
          "BKK automata",
          "BKK automata",
          "BKK automata",
          "BKK automata",
          "BKK automata",
          "BKK automata",
          "BKK automata",
          "BKK automata",
          "BKK automata",
          "BKK automata",
          "BKK automata",
          "BKK automata",
          "BKK automata",
          "BKK automata",
          "BKK automata",
          "BKK automata",
          "BKK automata",
          "BKK automata",
          "BKK automata",
          "BKK automata",
          "BKK automata",
          "BKK automata",
          "BKK automata",
          "BKK automata",
          "BKK automata",
          "BKK automata",
          "BKK automata",
          "BKK automata",
          "BKK automata",
          "BKK automata",
          "BKK automata",
          "BKK automata",
          "BKK automata",
          "BKK automata",
          "BKK automata",
          "BKK automata",
          "BKK automata",
          "BKK automata",
          "BKK automata",
          "BKK automata",
          "BKK automata",
          "BKK automata",
          "BKK automata",
          "BKK automata",
          "BKK automata",
          "BKK automata",
          "BKK automata",
          "BKK automata",
          "BKK automata",
          "BKK automata",
          "BKK automata",
          "BKK automata",
          "BKK automata",
          "BKK automata",
          "BKK automata",
          "BKK automata",
          "BKK automata",
          "BKK automata",
          "BKK automata",
          "BKK automata",
          "BKK automata",
          "BKK automata",
          "BKK automata",
          "BKK automata",
          "BKK automata",
          "BKK automata",
          "BKK automata",
          "BKK automata",
          "BKK automata",
          "BKK automata",
          "BKK automata",
          "BKK automata",
          "BKK automata",
          "BKK automata",
          "BKK automata",
          "BKK automata",
          "BKK automata",
          "BKK automata",
          "BKK automata",
          "BKK automata",
          "BKK automata",
          "BKK automata",
          "BKK automata",
          "BKK automata",
          "BKK automata",
          "BKK automata",
          "BKK automata",
          "BKK automata",
          "BKK automata",
          "BKK automata",
          "BKK automata",
          "BKK automata",
          "BKK automata",
          "BKK automata",
          "BKK automata",
          "BKK automata",
          "BKK automata",
          "BKK automata",
          "BKK automata",
          "BKK automata",
          "BKK automata",
          "BKK automata",
          "BKK automata",
          "BKK automata",
          "BKK automata",
          "BKK automata",
          "BKK automata",
          "BKK automata",
          "BKK automata",
          "BKK automata",
          "BKK automata",
          "BKK automata",
          "BKK automata",
          "BKK automata",
          "BKK automata",
          "BKK automata",
          "BKK automata",
          "BKK automata",
          "BKK automata",
          "BKK automata",
          "BKK automata",
          "BKK automata",
          "BKK automata",
          "BKK automata",
          "BKK automata",
          "BKK automata",
          "BKK automata",
          "BKK automata",
          "BKK automata",
          "BKK automata",
          "BKK automata",
          "BKK automata",
          "BKK automata",
          "BKK automata",
          "BKK automata",
          "BKK automata",
          "BKK automata",
          "BKK automata",
          "BKK automata",
          "BKK automata"
         ],
         "lat": [
          47.628853,
          47.620216,
          47.507179,
          47.510682,
          47.456147,
          47.461346,
          47.461596,
          47.501292,
          47.50649,
          47.498198,
          47.507076,
          47.507091,
          47.508602,
          47.532313,
          47.506535,
          47.506528,
          47.500348,
          47.496649,
          47.50022,
          47.500201,
          47.500227,
          47.500195,
          47.506197,
          47.516237,
          47.529085,
          47.521895,
          47.562938,
          47.522962,
          47.506982,
          47.506982,
          47.506982,
          47.506982,
          47.543108,
          47.514614,
          47.514605,
          47.514535,
          47.543112,
          47.514605,
          47.51085,
          47.527699,
          47.548536,
          47.598261,
          47.534412,
          47.586107,
          47.575917,
          47.598399,
          47.598436,
          47.527705,
          47.541202,
          47.545001,
          47.539386,
          47.568311,
          47.556921,
          47.58253,
          47.579829,
          47.577814,
          47.560325,
          47.560303,
          47.560355,
          47.593278,
          47.565876,
          47.548777,
          47.555437,
          47.537824,
          47.560427,
          47.560427,
          47.560427,
          47.559002,
          47.559003,
          47.558995,
          47.466405,
          47.470447,
          47.478767,
          47.475006,
          47.475434,
          47.489062,
          47.475421,
          47.475427,
          47.478834,
          47.470933,
          47.468546,
          47.479007,
          47.476059,
          47.461805,
          47.468546,
          47.467644,
          47.470933,
          47.48956,
          47.479181,
          47.478943,
          47.478957,
          47.466325,
          47.479622,
          47.479865,
          47.479181,
          47.493087,
          47.493264,
          47.493236,
          47.486693,
          47.512991,
          47.496837,
          47.503055,
          47.503055,
          47.496786,
          47.486464,
          47.497556,
          47.497556,
          47.497019,
          47.505683,
          47.497019,
          47.505683,
          47.497556,
          47.497556,
          47.496816,
          47.513049,
          47.497229,
          47.511344,
          47.50721,
          47.502288,
          47.505014,
          47.514175,
          47.509248,
          47.514248,
          47.510466,
          47.510003,
          47.505761,
          47.50489,
          47.502792,
          47.500177,
          47.494429,
          47.500604,
          47.503776,
          47.500616,
          47.499949,
          47.499998,
          47.499955,
          47.494671,
          47.497,
          47.497,
          47.499794,
          47.499796,
          47.496673,
          47.500462,
          47.500105,
          47.49438,
          47.494433,
          47.499962,
          47.499977,
          47.499979,
          47.497448,
          47.485713,
          47.485873,
          47.495472,
          47.495555,
          47.492722,
          47.48975,
          47.48975,
          47.492803,
          47.489508,
          47.488906,
          47.489352,
          47.48975,
          47.482834,
          47.490819,
          47.49663,
          47.482732,
          47.486025,
          47.49663,
          47.48582,
          47.48577,
          47.482834,
          47.502833,
          47.502833,
          47.463446,
          47.462789,
          47.463302,
          47.463252,
          47.479286,
          47.470814,
          47.482449,
          47.488955,
          47.502941,
          47.502984,
          47.503021,
          47.463446,
          47.502869,
          47.463407,
          47.463393,
          47.455815,
          47.473668,
          47.467077,
          47.462633,
          47.466592,
          47.46426,
          47.46475,
          47.464194,
          47.464193,
          47.464276,
          47.464264,
          47.464263,
          47.464301,
          47.464305,
          47.477401,
          47.477412,
          47.483388,
          47.473987,
          47.473976,
          47.46393,
          47.463638,
          47.48172,
          47.443663,
          47.467031,
          47.483566,
          47.474307,
          47.45823,
          47.474242,
          47.436013,
          47.476811,
          47.475098,
          47.473337,
          47.464777,
          47.477887,
          47.477437,
          47.482742,
          47.490875,
          47.490191,
          47.494993,
          47.50985,
          47.499341,
          47.497649,
          47.509485,
          47.487356,
          47.510519,
          47.510527,
          47.511868,
          47.511721,
          47.532666,
          47.532583,
          47.532583,
          47.517077,
          47.532583,
          47.518383,
          47.517345,
          47.53262,
          47.532692,
          47.510498,
          47.510613,
          47.51176,
          47.52471,
          47.529728,
          47.548489,
          47.540127,
          47.517396,
          47.536206,
          47.526039,
          47.517047,
          47.517097,
          47.51712,
          47.52471,
          47.548719,
          47.52471,
          47.532515,
          47.548986,
          47.500131,
          47.500588,
          47.519527,
          47.519499,
          47.522311,
          47.514528,
          47.513697,
          47.509216,
          47.506198,
          47.519473,
          47.511182,
          47.504405,
          47.500388,
          47.501142,
          47.503843,
          47.519804,
          47.519527,
          47.51749,
          47.500388,
          47.500301,
          47.517475,
          47.519527,
          47.503872,
          47.454667,
          47.457763,
          47.465442,
          47.452278,
          47.46543,
          47.465341,
          47.441824,
          47.465341,
          47.54774,
          47.540897,
          47.533546,
          47.568113,
          47.541357,
          47.545218,
          47.562672,
          47.545175,
          47.553402,
          47.547177,
          47.506797,
          47.505743,
          47.520919,
          47.531699,
          47.521934,
          47.516245,
          47.519338,
          47.511591,
          47.508952,
          47.479585,
          47.479563,
          47.489214,
          47.486869,
          47.48329,
          47.469113,
          47.404297,
          47.429344,
          47.440289,
          47.432629,
          47.432563,
          47.432548,
          47.4132,
          47.434746,
          47.428539,
          47.446043,
          47.439156,
          47.432591,
          47.432679,
          47.432686,
          47.432707,
          47.432707,
          47.458019,
          47.442802,
          47.437666,
          47.436872,
          47.437879,
          47.410216,
          47.425941,
          47.42241,
          47.401044,
          47.434907,
          47.430937,
          47.421642,
          47.421718,
          47.426833,
          47.432437,
          47.408335,
          47.405617,
          47.426833,
          47.416013,
          47.399745,
          47.545025,
          47.360257,
          47.593117,
          47.597666,
          47.384384,
          47.596496,
          47.575795,
          47.491702,
          47.642736,
          47.642714,
          47.591467,
          47.652358,
          47.661044,
          47.661037,
          47.66103,
          47.333361,
          47.34859,
          47.337095,
          47.313425,
          47.440822,
          47.431324
         ],
         "legendgroup": "BKK-automata",
         "lon": [
          19.043324,
          19.048866,
          18.921518,
          18.92957,
          18.940478,
          18.946054,
          18.964495,
          19.033854,
          19.038516,
          19.040015,
          19.025079,
          19.024951,
          19.02722,
          19.036746,
          19.03906,
          19.039082,
          19.023824,
          19.032922,
          19.024911,
          19.024939,
          19.024814,
          19.024909,
          19.039054,
          18.998869,
          19.003656,
          18.990152,
          18.962748,
          19.017372,
          19.024828,
          19.024828,
          19.024828,
          19.024828,
          18.964228,
          19.039483,
          19.039462,
          19.03864,
          18.964166,
          19.039462,
          19.031853,
          19.036961,
          19.043122,
          19.054661,
          19.039749,
          19.045014,
          19.048545,
          19.054622,
          19.054789,
          19.037486,
          19.040464,
          19.034682,
          19.047145,
          19.048371,
          19.045281,
          19.116912,
          19.088145,
          19.105819,
          19.089548,
          19.089494,
          19.098752,
          19.120378,
          19.111508,
          19.029375,
          19.089173,
          19.068814,
          19.089909,
          19.089909,
          19.089909,
          19.079281,
          19.079291,
          19.079333,
          19.076981,
          19.110856,
          19.089665,
          19.069779,
          19.098797,
          19.062547,
          19.098807,
          19.098822,
          19.089848,
          19.111251,
          19.116946,
          19.089944,
          19.0768,
          19.115309,
          19.116946,
          19.075689,
          19.111251,
          19.090939,
          19.066496,
          19.089795,
          19.089676,
          19.077077,
          19.067734,
          19.066205,
          19.066496,
          19.054743,
          19.055878,
          19.055907,
          19.05708,
          19.048353,
          19.055715,
          19.054611,
          19.054611,
          19.055768,
          19.0572,
          19.05504,
          19.05504,
          19.054106,
          19.046651,
          19.054106,
          19.046651,
          19.05504,
          19.05504,
          19.050705,
          19.048235,
          19.055383,
          19.072405,
          19.066321,
          19.058815,
          19.062798,
          19.076641,
          19.069191,
          19.076781,
          19.055777,
          19.056551,
          19.062662,
          19.063055,
          19.066185,
          19.068971,
          19.06016,
          19.082223,
          19.074514,
          19.082145,
          19.081394,
          19.081972,
          19.081875,
          19.059645,
          19.070388,
          19.070388,
          19.082653,
          19.082709,
          19.070227,
          19.081111,
          19.081891,
          19.060186,
          19.060254,
          19.082069,
          19.081941,
          19.083281,
          19.071264,
          19.069943,
          19.069951,
          19.077194,
          19.077361,
          19.071833,
          19.061666,
          19.061666,
          19.0712,
          19.07134,
          19.08525,
          19.061442,
          19.061666,
          19.079175,
          19.108895,
          19.070536,
          19.079038,
          19.069954,
          19.070686,
          19.07029,
          19.07023,
          19.079175,
          19.136194,
          19.136194,
          19.148326,
          19.148751,
          19.149469,
          19.149549,
          19.153365,
          19.164471,
          19.128645,
          19.135807,
          19.135806,
          19.135978,
          19.135817,
          19.148326,
          19.136258,
          19.149159,
          19.149162,
          19.039881,
          19.052858,
          19.043938,
          19.042516,
          19.005364,
          19.0195,
          19.033444,
          19.021277,
          19.021191,
          19.020717,
          19.020775,
          19.020829,
          19.019373,
          19.019416,
          19.047393,
          19.047452,
          19.054083,
          19.046354,
          19.046208,
          19.02339,
          19.033054,
          18.999043,
          19.036916,
          19.01642,
          19.053472,
          19.046739,
          19.033967,
          19.046675,
          19.041562,
          19.059326,
          19.039817,
          18.992427,
          19.033344,
          19.046158,
          19.048507,
          19.030294,
          19.014107,
          19.024468,
          19.019263,
          19.009842,
          19.008644,
          18.989643,
          19.013039,
          19.023577,
          19.056053,
          19.056027,
          19.05715,
          19.056894,
          19.066916,
          19.066583,
          19.066583,
          19.060234,
          19.066583,
          19.051409,
          19.060793,
          19.06655,
          19.066582,
          19.056155,
          19.056053,
          19.057065,
          19.063221,
          19.08015,
          19.073092,
          19.085418,
          19.060192,
          19.05933,
          19.077222,
          19.059805,
          19.059729,
          19.06002,
          19.063221,
          19.073081,
          19.063221,
          19.067467,
          19.073719,
          19.104904,
          19.10815,
          19.091055,
          19.111703,
          19.10238,
          19.12069,
          19.137018,
          19.128665,
          19.12341,
          19.126623,
          19.099411,
          19.08954,
          19.107117,
          19.119069,
          19.136767,
          19.112325,
          19.091055,
          19.080909,
          19.107041,
          19.107245,
          19.080994,
          19.091055,
          19.137142,
          19.126574,
          19.144442,
          19.12653,
          19.157316,
          19.126793,
          19.126864,
          19.141106,
          19.126917,
          19.11506,
          19.139134,
          19.130329,
          19.126059,
          19.120903,
          19.139902,
          19.114891,
          19.139892,
          19.118447,
          19.142176,
          19.204859,
          19.159099,
          19.166593,
          19.200975,
          19.152911,
          19.187985,
          19.21753,
          19.193582,
          19.17862,
          19.255431,
          19.255485,
          19.25943,
          19.286224,
          19.238884,
          19.294608,
          19.18565,
          19.217879,
          19.185418,
          19.261259,
          19.261183,
          19.261236,
          19.201482,
          19.201896,
          19.175323,
          19.171908,
          19.166623,
          19.261332,
          19.261355,
          19.261397,
          19.261439,
          19.261471,
          19.176475,
          19.111778,
          19.100915,
          19.097324,
          19.093802,
          19.060513,
          19.06992,
          19.087096,
          19.094685,
          19.076685,
          19.067941,
          19.066141,
          19.065959,
          19.039296,
          19.037432,
          19.016462,
          19.005381,
          19.039296,
          19.134408,
          19.114496,
          19.225065,
          19.086424,
          19.358085,
          19.347926,
          19.211584,
          19.27175,
          18.879471,
          19.342454,
          19.032782,
          19.032847,
          18.929347,
          19.064842,
          19.075538,
          19.075614,
          19.075614,
          19.003837,
          19.04472,
          19.034335,
          18.974238,
          18.913929,
          18.916633
         ],
         "marker": {
          "color": "#EF553B"
         },
         "mode": "markers",
         "name": "BKK-automata",
         "showlegend": true,
         "subplot": "mapbox",
         "type": "scattermapbox"
        },
        {
         "customdata": [
          [
           "Viszonteladó",
           "Budakalász",
           "Omszk park 1.",
           "bolt",
           "Újságos",
           null
          ],
          [
           "Viszonteladó",
           "Budaörs",
           "Kinizsi utca 1-3.",
           "bolt",
           "Újságos",
           null
          ],
          [
           "Viszonteladó",
           "Budaörs",
           "Sport utca 2-4. ",
           "bolt",
           "Újságos",
           null
          ],
          [
           "Viszonteladó",
           "Budapest II. kerület",
           "Széll Kálmán tér",
           "egyéb",
           "Újságos",
           null
          ],
          [
           "Viszonteladó",
           "Budapest, I. kerület",
           "Déli pályaudvar peron",
           "egyéb",
           "Újságos",
           null
          ],
          [
           "Viszonteladó",
           "Budapest, I. kerület",
           "Batthyány tér ",
           "aluljáró",
           "Újságos",
           null
          ],
          [
           "Viszonteladó",
           "Budapest, I. kerület",
           "Krisztina körút 37/A",
           "aluljáró",
           "Újságos",
           null
          ],
          [
           "Viszonteladó",
           "Budapest, II. kerület",
           "Margit híd HUBIZ",
           "aluljáró",
           "Újságos",
           null
          ],
          [
           "Viszonteladó",
           "Budapest, III. kerület",
           "Békásmegyer Hév  állomás",
           "bolt",
           "Újságos",
           null
          ],
          [
           "Viszonteladó",
           "Budapest, III. kerület",
           "Csobánka tér 2.",
           "egyéb",
           "Újságos",
           null
          ],
          [
           "Viszonteladó",
           "Budapest, III. kerület",
           "Flórián tér 6-9.",
           "bolt",
           "Újságos",
           null
          ],
          [
           "Viszonteladó",
           "Budapest, III. kerület",
           "Szentendrei út 115.",
           "bolt",
           "Újságos",
           null
          ],
          [
           "Viszonteladó",
           "Budapest, IV. kerület",
           "Szent István tér 1.",
           "egyéb",
           "Újságos",
           null
          ],
          [
           "Viszonteladó",
           "Budapest, IV. kerület",
           "Újpest-Központ M",
           "aluljáró",
           "Újságos",
           null
          ],
          [
           "Viszonteladó",
           "Budapest, IX. kerület",
           "Üllői út 131.",
           "buszmegálló",
           "Újságos",
           null
          ],
          [
           "Viszonteladó",
           "Budapest, IX. kerület",
           "Ferenc körút/ Corvin negyed",
           "metró",
           "Újságos",
           null
          ],
          [
           "Viszonteladó",
           "Budapest, IX. kerület",
           "Boráros tér",
           "aluljáró",
           "Újságos",
           null
          ],
          [
           "Viszonteladó",
           "Budapest, IX. kerület",
           "Kálvin tér M",
           "aluljáró",
           "Újságos",
           null
          ],
          [
           "Viszonteladó",
           "Budapest, IX. kerület",
           "Nagyvárad tér M",
           "aluljáró",
           "Újságos",
           null
          ],
          [
           "Viszonteladó",
           "Budapest, IX. kerület",
           "Népliget M ",
           "aluljáró",
           "Újságos",
           null
          ],
          [
           "Viszonteladó",
           "Budapest, V. kerület",
           "Deák Ferenc tér M",
           "aluljáró",
           "Újságos",
           null
          ],
          [
           "Viszonteladó",
           "Budapest, V. kerület",
           "Városház u. 3-5.",
           "bolt",
           "Újságos",
           null
          ],
          [
           "Viszonteladó",
           "Budapest, VI. kerület",
           "Teréz körút  55.",
           "MÁV",
           "Újságos",
           null
          ],
          [
           "Viszonteladó",
           "Budapest, VIII. kerület",
           "Kerepesi út 9.",
           "bolt",
           "Újságos",
           null
          ],
          [
           "Viszonteladó",
           "Budapest, X. kerület",
           "Örs vezér tere",
           "bolt",
           "Újságos",
           null
          ],
          [
           "Viszonteladó",
           "Budapest, X. kerület",
           "Örs vezér tere",
           "bolt",
           "Újságos",
           null
          ],
          [
           "Viszonteladó",
           "Budapest, X. kerület",
           "Újhegyi sétány - Harmat utca 192.",
           "bolt",
           "Újságos",
           null
          ],
          [
           "Viszonteladó",
           "Budapest, XI. kerület",
           "Kőrösy József utca 7-9",
           "bolt",
           "Újságos",
           null
          ],
          [
           "Viszonteladó",
           "Budapest, XI. kerület",
           "Hunyadi János út 19.",
           "bolt",
           "Újságos",
           null
          ],
          [
           "Viszonteladó",
           "Budapest, XI. kerület",
           "Móricz Zsigmond körtér",
           "villamosmegálló",
           "Újságos",
           null
          ],
          [
           "Viszonteladó",
           "Budapest, XI. kerület",
           "Október huszonharmadika utca 6-10.",
           "bolt",
           "Újságos",
           null
          ],
          [
           "Viszonteladó",
           "Budapest, XII. kerület",
           "Alkotás utca 53.",
           "bolt",
           "Újságos",
           null
          ],
          [
           "Viszonteladó",
           "Budapest, XII. kerület",
           "Apor Vilmos tér 11-12.",
           "bolt",
           "Újságos",
           null
          ],
          [
           "Viszonteladó",
           "Budapest, XIII. kerület",
           "Árbóc u. 1.",
           "bolt",
           "Újságos",
           null
          ],
          [
           "Viszonteladó",
           "Budapest, XIII. kerület",
           "Árpád híd M",
           "metró",
           "Újságos",
           null
          ],
          [
           "Viszonteladó",
           "Budapest, XIII. kerület",
           "Árpád híd M",
           "metró",
           "Újságos",
           null
          ],
          [
           "Viszonteladó",
           "Budapest, XIII. kerület",
           "Dózsa György út M",
           "aluljáró",
           "Újságos",
           null
          ],
          [
           "Viszonteladó",
           "Budapest, XIII. kerület",
           "Lehel tér - Gogol utca",
           "aluljáró",
           "Újságos",
           null
          ],
          [
           "Viszonteladó",
           "Budapest, XIII. kerület",
           "Lehel tér - Victor Hugo utca",
           "aluljáró",
           "Újságos",
           null
          ],
          [
           "Viszonteladó",
           "Budapest, XIII. kerület",
           "Nyugati tér M",
           "aluljáró",
           "Újságos",
           null
          ],
          [
           "Viszonteladó",
           "Budapest, XIV. kerület",
           "Hungária körút 138.",
           "bolt",
           "Újságos",
           null
          ],
          [
           "Viszonteladó",
           "Budapest, XIV. kerület",
           "Mexikói út 70.",
           "egyéb",
           "Újságos",
           null
          ],
          [
           "Viszonteladó",
           "Budapest, XIV. kerület",
           "Hungária krt. 48.",
           "bolt",
           "Újságos",
           null
          ],
          [
           "Viszonteladó",
           "Budapest, XIV. kerület",
           "Örs vezér tere",
           "HÉV",
           "Újságos",
           null
          ],
          [
           "Viszonteladó",
           "Budapest, XIV. kerület",
           "Örs vezér tere",
           "bolt",
           "Újságos",
           null
          ],
          [
           "Viszonteladó",
           "Budapest, XIV. kerület",
           "Örs vezér tere M+H",
           "metró",
           "Újságos",
           null
          ],
          [
           "Viszonteladó",
           "Budapest, XIV. kerület",
           "Bosnyák tér 12.",
           "buszmegálló",
           "Újságos",
           null
          ],
          [
           "Viszonteladó",
           "Budapest, XIV. kerület",
           "Örs vezér tere",
           "bolt",
           "Újságos",
           null
          ],
          [
           "Viszonteladó",
           "Budapest, XIX. kerület",
           "Kossuth tér ",
           "bolt",
           "Újságos",
           null
          ],
          [
           "Viszonteladó",
           "Budapest, XIX. kerület",
           "Vak Bottyán utca 75.",
           "repülőtér",
           "Újságos",
           null
          ],
          [
           "Viszonteladó",
           "Budapest, XIX. kerület",
           "Vak Bottyán utca 75.",
           "repülőtér",
           "Újságos",
           null
          ],
          [
           "Viszonteladó",
           "Budapest, XV. kerület",
           "Szentmihályi út 131.",
           "bolt",
           "Újságos",
           null
          ],
          [
           "Viszonteladó",
           "Budapest, XVII. kerület",
           "Pesti út 169.",
           "bolt",
           "Újságos",
           null
          ],
          [
           "Viszonteladó",
           "Budapest, XX. kerület",
           "Kossuth Lajos utca 29.",
           "egyéb",
           "Újságos",
           null
          ],
          [
           "Viszonteladó",
           "Budapest, XXI. kerület",
           "Rákóczi Ferenc utca 178-182",
           "HÉV",
           "Újságos",
           null
          ],
          [
           "Viszonteladó",
           "Budapest, XXII. kerület",
           "Duna utca 2.",
           "egyéb",
           "Újságos",
           null
          ],
          [
           "Viszonteladó",
           "Budapest, XXII. kerület",
           "Nagytétényi út 37-43.",
           "bolt",
           "Újságos",
           null
          ],
          [
           "Viszonteladó",
           "Budapest, XXIII. kerület",
           "Bevásárló utca 2-6.",
           "bolt",
           "Újságos",
           null
          ],
          [
           "Viszonteladó",
           "Budapest, XXIII. kerület",
           "Hősök tere",
           "HÉV",
           "Újságos",
           null
          ],
          [
           "Viszonteladó",
           "Csömör",
           "Határ út 6.",
           "bolt",
           "Újságos",
           null
          ],
          [
           "Viszonteladó",
           "Dunakeszi",
           "Nádas utca 6.",
           "bolt",
           "Újságos",
           null
          ],
          [
           "Viszonteladó",
           "Érd",
           "Budai út 13.",
           "bolt",
           "Újságos",
           null
          ],
          [
           "Viszonteladó",
           "Fót",
           "Fehérkő út 1.",
           "bolt",
           "Újságos",
           null
          ],
          [
           "Viszonteladó",
           "Maglód",
           "Eszterházy János utca 1",
           "bolt",
           "Újságos",
           null
          ],
          [
           "Viszonteladó",
           "Solymár",
           "Szent Flórián utca 2.",
           "bolt",
           "Újságos",
           null
          ],
          [
           "Viszonteladó",
           "Szigetszentmiklós",
           "Háros u. 120.",
           "bolt",
           "Újságos",
           null
          ],
          [
           "Viszonteladó",
           "Törökbálint",
           "Torbágy u. 1.",
           "bolt",
           "Újságos",
           null
          ]
         ],
         "hovertemplate": "<b>%{hovertext}</b><br><br>organization=%{customdata[4]}<br>lat=%{lat}<br>lng=%{lon}<br>type=%{customdata[0]}<br>place=%{customdata[1]}<br>address=%{customdata[2]}<br>description=%{customdata[3]}<br>placed_at=%{customdata[5]}<extra></extra>",
         "hovertext": [
          "Viszonteladó",
          "Viszonteladó",
          "Viszonteladó",
          "Viszonteladó",
          "Viszonteladó",
          "Viszonteladó",
          "Viszonteladó",
          "Viszonteladó",
          "Viszonteladó",
          "Viszonteladó",
          "Viszonteladó",
          "Viszonteladó",
          "Viszonteladó",
          "Viszonteladó",
          "Viszonteladó",
          "Viszonteladó",
          "Viszonteladó",
          "Viszonteladó",
          "Viszonteladó",
          "Viszonteladó",
          "Viszonteladó",
          "Viszonteladó",
          "Viszonteladó",
          "Viszonteladó",
          "Viszonteladó",
          "Viszonteladó",
          "Viszonteladó",
          "Viszonteladó",
          "Viszonteladó",
          "Viszonteladó",
          "Viszonteladó",
          "Viszonteladó",
          "Viszonteladó",
          "Viszonteladó",
          "Viszonteladó",
          "Viszonteladó",
          "Viszonteladó",
          "Viszonteladó",
          "Viszonteladó",
          "Viszonteladó",
          "Viszonteladó",
          "Viszonteladó",
          "Viszonteladó",
          "Viszonteladó",
          "Viszonteladó",
          "Viszonteladó",
          "Viszonteladó",
          "Viszonteladó",
          "Viszonteladó",
          "Viszonteladó",
          "Viszonteladó",
          "Viszonteladó",
          "Viszonteladó",
          "Viszonteladó",
          "Viszonteladó",
          "Viszonteladó",
          "Viszonteladó",
          "Viszonteladó",
          "Viszonteladó",
          "Viszonteladó",
          "Viszonteladó",
          "Viszonteladó",
          "Viszonteladó",
          "Viszonteladó",
          "Viszonteladó",
          "Viszonteladó",
          "Viszonteladó"
         ],
         "lat": [
          47.612607,
          47.452076,
          47.455126,
          47.507124,
          47.499809,
          47.506345,
          47.500265,
          47.514664,
          47.598135,
          47.598395,
          47.542388,
          47.559925,
          47.561739,
          47.56043,
          47.475123,
          47.48591,
          47.480505,
          47.489271,
          47.47873,
          47.475521,
          47.497642,
          47.493776,
          47.510406,
          47.499384,
          47.50292,
          47.503033,
          47.470875,
          47.474403,
          47.434867,
          47.477877,
          47.474182,
          47.49036,
          47.491214,
          47.531864,
          47.532518,
          47.532545,
          47.524472,
          47.519452,
          47.517299,
          47.510541,
          47.511461,
          47.519601,
          47.500513,
          47.503935,
          47.503827,
          47.502866,
          47.520296,
          47.504311,
          47.457775,
          47.462686,
          47.462717,
          47.552896,
          47.479615,
          47.435949,
          47.421547,
          47.429702,
          47.406884,
          47.419223,
          47.399623,
          47.541389,
          47.609037,
          47.377807,
          47.580488,
          47.459105,
          47.598741,
          47.381991,
          47.440497
         ],
         "legendgroup": "Újságos",
         "lon": [
          19.061031,
          18.965231,
          18.944216,
          19.024746,
          19.024759,
          19.039149,
          19.02451,
          19.039574,
          19.054532,
          19.052096,
          19.040861,
          19.049971,
          19.089989,
          19.089894,
          19.09942,
          19.070294,
          19.066916,
          19.061885,
          19.089706,
          19.098578,
          19.054898,
          19.056388,
          19.056703,
          19.091831,
          19.137257,
          19.137251,
          19.165982,
          19.047194,
          19.04267,
          19.046108,
          19.048967,
          19.023924,
          19.012025,
          19.065636,
          19.066857,
          19.066663,
          19.063393,
          19.061156,
          19.060224,
          19.055975,
          19.098452,
          19.091091,
          19.108166,
          19.137257,
          19.137701,
          19.135399,
          19.113155,
          19.138298,
          19.144586,
          19.147072,
          19.147066,
          19.141455,
          19.25535,
          19.099481,
          19.065857,
          19.038493,
          19.01688,
          19.157752,
          19.114616,
          19.243403,
          19.111938,
          18.919604,
          19.163489,
          19.334796,
          18.960954,
          19.02676,
          18.887097
         ],
         "marker": {
          "color": "#00cc96"
         },
         "mode": "markers",
         "name": "Újságos",
         "showlegend": true,
         "subplot": "mapbox",
         "type": "scattermapbox"
        },
        {
         "customdata": [
          [
           "Viszonteladó",
           "Budakeszi",
           "Széchenyi u. 58.",
           "bolt",
           "Viszonteladó",
           null
          ],
          [
           "Viszonteladó",
           "Budaörs",
           "Kamaraerdei utca 23.",
           "bolt",
           "Viszonteladó",
           null
          ],
          [
           "Viszonteladó",
           "Budaörs",
           "Nefelejcs utca 1.",
           "bolt",
           "Viszonteladó",
           null
          ],
          [
           "Viszonteladó",
           "Budapest I. kerület",
           "Naphegy tér 3.",
           "bolt",
           "Viszonteladó",
           null
          ],
          [
           "Viszonteladó",
           "Budapest I. kerület",
           "Hess András tér 1-3.",
           "bolt",
           "Viszonteladó",
           null
          ],
          [
           "Viszonteladó",
           "Budapest II. kerület",
           "Frankel Leó u. 25-29.",
           "bolt",
           "Viszonteladó",
           null
          ],
          [
           "Viszonteladó",
           "Budapest X. kerület",
           "Kőrösi Csoma sétány 2.",
           "egyéb",
           "Viszonteladó",
           null
          ],
          [
           "Viszonteladó",
           "Budapest XI. kerület",
           "Sasadi út 83.",
           "bolt",
           "Viszonteladó",
           null
          ],
          [
           "Viszonteladó",
           "Budapest XII. kerület",
           "Zugligeti u. 58.",
           "bolt",
           "Viszonteladó",
           null
          ],
          [
           "Viszonteladó",
           "Budapest XII. kerület",
           "Királyhágó tér 1.",
           "bolt",
           "Viszonteladó",
           null
          ],
          [
           "Viszonteladó",
           "Budapest XIV. kerület",
           "Amerikai út 67.",
           "bolt",
           "Viszonteladó",
           null
          ],
          [
           "Viszonteladó",
           "Budapest XX. kerület",
           "Vágóhíd u. 44.",
           "bolt",
           "Viszonteladó",
           null
          ],
          [
           "Viszonteladó",
           "Budapest XXII. kerület",
           "Arany János u. 55.",
           "bolt",
           "Viszonteladó",
           null
          ],
          [
           "Viszonteladó",
           "Budapest, I. kerület",
           "Hunyadi János utca 1.",
           "bolt",
           "Viszonteladó",
           null
          ],
          [
           "Viszonteladó",
           "Budapest, II. kerület",
           "Szász Károly u. 3",
           "bolt",
           "Viszonteladó",
           null
          ],
          [
           "Viszonteladó",
           "Budapest, II. kerület",
           "Margit krt. 58.",
           "bolt",
           "Viszonteladó",
           null
          ],
          [
           "Viszonteladó",
           "Budapest, III. kerület",
           "Viador u. 18",
           "bolt",
           "Viszonteladó",
           null
          ],
          [
           "Viszonteladó",
           "Budapest, III. kerület",
           "Flórián tér aluljáró 11 üzlet",
           "bolt",
           "Viszonteladó",
           null
          ],
          [
           "Viszonteladó",
           "Budapest, III. kerület",
           "Szentendrei út 12.",
           "bolt",
           "Viszonteladó",
           null
          ],
          [
           "Viszonteladó",
           "Budapest, III. kerület",
           "Szentlélek tér 3.",
           "bolt",
           "Viszonteladó",
           null
          ],
          [
           "Viszonteladó",
           "Budapest, IV. kerület",
           "Bőröndös u.20.",
           "bolt",
           "Viszonteladó",
           null
          ],
          [
           "Viszonteladó",
           "Budapest, IV. kerület",
           "Hajló utca 3.",
           "bolt",
           "Viszonteladó",
           null
          ],
          [
           "Viszonteladó",
           "Budapest, IX. kerület",
           "Ferenc körút 22.",
           "bolt",
           "Viszonteladó",
           null
          ],
          [
           "Viszonteladó",
           "Budapest, IX. kerület",
           "Tompa utca 19.",
           "bolt",
           "Viszonteladó",
           null
          ],
          [
           "Viszonteladó",
           "Budapest, IX. kerület",
           "Mester utca 15.",
           "bolt",
           "Viszonteladó",
           null
          ],
          [
           "Viszonteladó",
           "Budapest, IX. kerület",
           "Bakáts u. 1-3.",
           "bolt",
           "Viszonteladó",
           null
          ],
          [
           "Viszonteladó",
           "Budapest, V. kerület",
           "Apáczai Csere János utca 5.",
           "bolt",
           "Viszonteladó",
           null
          ],
          [
           "Viszonteladó",
           "Budapest, V. kerület",
           "Dorottya utca 11.",
           "bolt",
           "Viszonteladó",
           null
          ],
          [
           "Viszonteladó",
           "Budapest, V. kerület",
           "Sas utca 1.",
           "bolt",
           "Viszonteladó",
           null
          ],
          [
           "Viszonteladó",
           "Budapest, V. kerület",
           "Szent István krt. 5.",
           "egyéb",
           "Viszonteladó",
           null
          ],
          [
           "Viszonteladó",
           "Budapest, VI. kerület",
           "Teréz körút 39.",
           "bolt",
           "Viszonteladó",
           null
          ],
          [
           "Viszonteladó",
           "Budapest, VI. kerület",
           "Bajcsy-Zsilinszky út 15/B.",
           "bolt",
           "Viszonteladó",
           null
          ],
          [
           "Viszonteladó",
           "Budapest, VI. kerület",
           "Szondi u. 29.",
           "bolt",
           "Viszonteladó",
           null
          ],
          [
           "Viszonteladó",
           "Budapest, VII. kerület",
           "Bethlen Gábor utca 8.",
           "bolt",
           "Viszonteladó",
           null
          ],
          [
           "Viszonteladó",
           "Budapest, VII. kerület",
           "Wesselényi utca 18.",
           "bolt",
           "Viszonteladó",
           null
          ],
          [
           "Viszonteladó",
           "Budapest, VII. kerület",
           "Huszár utca 5.",
           "bolt",
           "Viszonteladó",
           null
          ],
          [
           "Viszonteladó",
           "Budapest, VII. kerület",
           "Rákóczi út 24.",
           "bolt",
           "Viszonteladó",
           null
          ],
          [
           "Viszonteladó",
           "Budapest, VII. kerület",
           "Izabella utca 34.",
           "bolt",
           "Viszonteladó",
           null
          ],
          [
           "Viszonteladó",
           "Budapest, VII. kerület",
           "Dohány utca 66.",
           "bolt",
           "Viszonteladó",
           null
          ],
          [
           "Viszonteladó",
           "Budapest, VIII. kerület",
           "Blaha Lujza tér",
           "aluljáró",
           "Viszonteladó",
           null
          ],
          [
           "Viszonteladó",
           "Budapest, VIII. kerület",
           "József körút 31/b",
           "bolt",
           "Viszonteladó",
           null
          ],
          [
           "Viszonteladó",
           "Budapest, VIII. kerület",
           "Krúdy Gyula u. 20.",
           "bolt",
           "Viszonteladó",
           null
          ],
          [
           "Viszonteladó",
           "Budapest, VIII. kerület",
           "Szerdahelyi út 18.",
           "bolt",
           "Viszonteladó",
           null
          ],
          [
           "Viszonteladó",
           "Budapest, VIII. kerület",
           "Teleki László tér 1-3.",
           "bolt",
           "Viszonteladó",
           null
          ],
          [
           "Viszonteladó",
           "Budapest, VIII. kerület",
           "Vajda Péter utca 13.",
           "bolt",
           "Viszonteladó",
           null
          ],
          [
           "Viszonteladó",
           "Budapest, VIII. kerület",
           "Baross u. 32",
           "bolt",
           "Viszonteladó",
           null
          ],
          [
           "Viszonteladó",
           "Budapest, VIII. kerület",
           "Népszínház u. 13.",
           "bolt",
           "Viszonteladó",
           null
          ],
          [
           "Viszonteladó",
           "Budapest, VIII. kerület",
           "Népszínház utca 29.",
           "bolt",
           "Viszonteladó",
           null
          ],
          [
           "Viszonteladó",
           "Budapest, X. kerület",
           "Kőrösi Csoma Sándor út 39. ",
           "egyéb",
           "Viszonteladó",
           null
          ],
          [
           "Viszonteladó",
           "Budapest, X. kerület",
           "Harmat utca 85.",
           "bolt",
           "Viszonteladó",
           null
          ],
          [
           "Viszonteladó",
           "Budapest, XI. kerület",
           "Csíkihegyek utca 22.  ",
           "bolt",
           "Viszonteladó",
           null
          ],
          [
           "Viszonteladó",
           "Budapest, XI. kerület",
           "Október huszonharmadika utca 8-10",
           "bolt",
           "Viszonteladó",
           null
          ],
          [
           "Viszonteladó",
           "Budapest, XI. kerület",
           "Repülőtéri út 4.",
           "bolt",
           "Viszonteladó",
           null
          ],
          [
           "Viszonteladó",
           "Budapest, XI. kerület",
           "Bartók Béla út 132.",
           "bolt",
           "Viszonteladó",
           null
          ],
          [
           "Viszonteladó",
           "Budapest, XI. kerület",
           "Etele út 22.",
           "bolt",
           "Viszonteladó",
           null
          ],
          [
           "Viszonteladó",
           "Budapest, XI. kerület",
           "Csurgói út  22.",
           "bolt",
           "Viszonteladó",
           null
          ],
          [
           "Viszonteladó",
           "Budapest, XI. kerület",
           "Rétköz utca 7.",
           "bolt",
           "Viszonteladó",
           null
          ],
          [
           "Viszonteladó",
           "Budapest, XI. kerület",
           "Törökugrató utca 18.",
           "bolt",
           "Viszonteladó",
           null
          ],
          [
           "Viszonteladó",
           "Budapest, XI. kerület",
           "Villányi út 1.",
           "bolt",
           "Viszonteladó",
           null
          ],
          [
           "Viszonteladó",
           "Budapest, XII. kerület",
           "Rege út 21",
           "egyéb",
           "Viszonteladó",
           null
          ],
          [
           "Viszonteladó",
           "Budapest, XII. kerület",
           "Hegyalja út 139.",
           "bolt",
           "Viszonteladó",
           null
          ],
          [
           "Viszonteladó",
           "Budapest, XIII. kerület",
           "Katona József u. aluljáró",
           "bolt",
           "Viszonteladó",
           null
          ],
          [
           "Viszonteladó",
           "Budapest, XIII. kerület",
           "Lehel utca 42 (aluljáró)",
           "bolt",
           "Viszonteladó",
           null
          ],
          [
           "Viszonteladó",
           "Budapest, XIII. kerület",
           "Hollán Ernő u. 1-5.",
           "bolt",
           "Viszonteladó",
           null
          ],
          [
           "Viszonteladó",
           "Budapest, XIV. kerület",
           "Hungária körút 105.",
           "bolt",
           "Viszonteladó",
           null
          ],
          [
           "Viszonteladó",
           "Budapest, XIV. kerület",
           "Ungvár u. 50.",
           "bolt",
           "Viszonteladó",
           null
          ],
          [
           "Viszonteladó",
           "Budapest, XIX. kerület",
           "Üllői út 301.",
           "bolt",
           "Viszonteladó",
           null
          ],
          [
           "Viszonteladó",
           "Budapest, XV. kerület",
           "Illyés Gyula utca 30.",
           "bolt",
           "Viszonteladó",
           null
          ],
          [
           "Viszonteladó",
           "Budapest, XV. kerület",
           "Kossuth utca 2.",
           "bolt",
           "Viszonteladó",
           null
          ],
          [
           "Viszonteladó",
           "Budapest, XV. kerület",
           "Kossuth utca 3.",
           "bolt",
           "Viszonteladó",
           null
          ],
          [
           "Viszonteladó",
           "Budapest, XV. kerület",
           "Erdőkerülő u. 18.",
           "bolt",
           "Viszonteladó",
           null
          ],
          [
           "Viszonteladó",
           "Budapest, XV. kerület",
           "Bánkút  utca 43.",
           "bolt",
           "Viszonteladó",
           null
          ],
          [
           "Viszonteladó",
           "Budapest, XV. kerület",
           "Zsókavár utca 45.",
           "bolt",
           "Viszonteladó",
           null
          ],
          [
           "Viszonteladó",
           "Budapest, XV. kerület",
           "Rákos út 73-75.",
           "bolt",
           "Viszonteladó",
           null
          ],
          [
           "Viszonteladó",
           "Budapest, XV. kerület",
           "Zrínyi utca 25.",
           "bolt",
           "Viszonteladó",
           null
          ],
          [
           "Viszonteladó",
           "Budapest, XVI. kerület",
           "Bekecs utca 28.",
           "bolt",
           "Viszonteladó",
           null
          ],
          [
           "Viszonteladó",
           "Budapest, XVI. kerület",
           "Csömöri út 47.",
           "bolt",
           "Viszonteladó",
           null
          ],
          [
           "Viszonteladó",
           "Budapest, XVI. kerület",
           "Csömöri út 182.",
           "bolt",
           "Viszonteladó",
           null
          ],
          [
           "Viszonteladó",
           "Budapest, XVI. kerület",
           "Batthyány Ilona u. 21.",
           "bolt",
           "Viszonteladó",
           null
          ],
          [
           "Viszonteladó",
           "Budapest, XVII. kerület",
           "Rákosmezei repülők útja 14.",
           "bolt",
           "Viszonteladó",
           null
          ],
          [
           "Viszonteladó",
           "Budapest, XVII. kerület",
           "Zrínyi utca 117.",
           "bolt",
           "Viszonteladó",
           null
          ],
          [
           "Viszonteladó",
           "Budapest, XVII. kerület",
           "Zrínyi u. 216.",
           "bolt",
           "Viszonteladó",
           null
          ],
          [
           "Viszonteladó",
           "Budapest, XVIII. kerület",
           "Méta utca 156140/20 hrsz.",
           "nemzeti dohánybolt",
           "Viszonteladó",
           null
          ],
          [
           "Viszonteladó",
           "Budapest, XVIII. kerület",
           "Méta utca 156140/20 hrsz.",
           "nemzeti dohánybolt",
           "Viszonteladó",
           null
          ],
          [
           "Viszonteladó",
           "Budapest, XVIII. kerület",
           "Nagykőrösi út 51/A",
           "bolt",
           "Viszonteladó",
           null
          ],
          [
           "Viszonteladó",
           "Budapest, XVIII. kerület",
           "Üllői út 451.",
           "bolt",
           "Viszonteladó",
           null
          ],
          [
           "Viszonteladó",
           "Budapest, XVIII. kerület",
           "Csontváry K. Tivadar utca 30.",
           "bolt",
           "Viszonteladó",
           null
          ],
          [
           "Viszonteladó",
           "Budapest, XVIII. kerület",
           "Üllői út 451",
           "bolt",
           "Viszonteladó",
           null
          ],
          [
           "Viszonteladó",
           "Budapest, XVIII. kerület",
           "Nemes utca 10.",
           "bolt",
           "Viszonteladó",
           null
          ],
          [
           "Viszonteladó",
           "Budapest, XX. kerület",
           "Lázár utca 2.",
           "bolt",
           "Viszonteladó",
           null
          ],
          [
           "Viszonteladó",
           "Budapest, XX. kerület",
           "Jókai Mór utca 13.",
           "bolt",
           "Viszonteladó",
           null
          ],
          [
           "Viszonteladó",
           "Budapest, XX. kerület",
           "Jókai Mór utca 61.",
           "bolt",
           "Viszonteladó",
           null
          ],
          [
           "Viszonteladó",
           "Budapest, XXI. kerület",
           "Erdősor utca 133. 7.üzlet",
           "bolt",
           "Viszonteladó",
           null
          ],
          [
           "Viszonteladó",
           "Budapest, XXI. kerület",
           "Szent István út 180.",
           "bolt",
           "Viszonteladó",
           null
          ],
          [
           "Viszonteladó",
           "Budapest, XXI. kerület",
           "Csikó sétány 2/b.",
           "bolt",
           "Viszonteladó",
           null
          ],
          [
           "Viszonteladó",
           "Budapest, XXII. kerület",
           "Háros utca 177.",
           "bolt",
           "Viszonteladó",
           null
          ],
          [
           "Viszonteladó",
           "Budapest, XXIII. kerület",
           "Újtelep út 2.",
           "bolt",
           "Viszonteladó",
           null
          ],
          [
           "Viszonteladó",
           "Gyál",
           "Széchenyi utca 72.",
           "bolt",
           "Viszonteladó",
           null
          ],
          [
           "Viszonteladó",
           "Gyál",
           "Munkás u. 1/a.",
           "bolt",
           "Viszonteladó",
           null
          ],
          [
           "Viszonteladó",
           "Kistarcsa",
           "Kórház- porta épület",
           "bolt",
           "Viszonteladó",
           null
          ],
          [
           "Viszonteladó",
           "Pécel",
           "Állomás utca 1.",
           "MÁV",
           "Viszonteladó",
           null
          ],
          [
           "Viszonteladó",
           "Pécel",
           "Petőfi utca 16.",
           "bolt",
           "Viszonteladó",
           null
          ],
          [
           "Viszonteladó",
           "Pilisszántó",
           "Kossuth u. 63.",
           "bolt",
           "Viszonteladó",
           null
          ],
          [
           "Viszonteladó",
           "Pilisvörösvár",
           "Hősök tere 2.",
           "bolt",
           "Viszonteladó",
           null
          ],
          [
           "Viszonteladó",
           "Szigetszentmiklós",
           "Skála u. Gát u. sarok, buszmegálló mellett.",
           "bolt",
           "Viszonteladó",
           null
          ],
          [
           "Viszonteladó",
           "Vecsés",
           "Széchenyi u.2.",
           "bolt",
           "Viszonteladó",
           null
          ],
          [
           "Viszonteladó",
           "XIII. kerület",
           "Raoul Wallenberg u. 4.",
           "bolt",
           "Viszonteladó",
           null
          ]
         ],
         "hovertemplate": "<b>%{hovertext}</b><br><br>organization=%{customdata[4]}<br>lat=%{lat}<br>lng=%{lon}<br>type=%{customdata[0]}<br>place=%{customdata[1]}<br>address=%{customdata[2]}<br>description=%{customdata[3]}<br>placed_at=%{customdata[5]}<extra></extra>",
         "hovertext": [
          "Viszonteladó",
          "Viszonteladó",
          "Viszonteladó",
          "Viszonteladó",
          "Viszonteladó",
          "Viszonteladó",
          "Viszonteladó",
          "Viszonteladó",
          "Viszonteladó",
          "Viszonteladó",
          "Viszonteladó",
          "Viszonteladó",
          "Viszonteladó",
          "Viszonteladó",
          "Viszonteladó",
          "Viszonteladó",
          "Viszonteladó",
          "Viszonteladó",
          "Viszonteladó",
          "Viszonteladó",
          "Viszonteladó",
          "Viszonteladó",
          "Viszonteladó",
          "Viszonteladó",
          "Viszonteladó",
          "Viszonteladó",
          "Viszonteladó",
          "Viszonteladó",
          "Viszonteladó",
          "Viszonteladó",
          "Viszonteladó",
          "Viszonteladó",
          "Viszonteladó",
          "Viszonteladó",
          "Viszonteladó",
          "Viszonteladó",
          "Viszonteladó",
          "Viszonteladó",
          "Viszonteladó",
          "Viszonteladó",
          "Viszonteladó",
          "Viszonteladó",
          "Viszonteladó",
          "Viszonteladó",
          "Viszonteladó",
          "Viszonteladó",
          "Viszonteladó",
          "Viszonteladó",
          "Viszonteladó",
          "Viszonteladó",
          "Viszonteladó",
          "Viszonteladó",
          "Viszonteladó",
          "Viszonteladó",
          "Viszonteladó",
          "Viszonteladó",
          "Viszonteladó",
          "Viszonteladó",
          "Viszonteladó",
          "Viszonteladó",
          "Viszonteladó",
          "Viszonteladó",
          "Viszonteladó",
          "Viszonteladó",
          "Viszonteladó",
          "Viszonteladó",
          "Viszonteladó",
          "Viszonteladó",
          "Viszonteladó",
          "Viszonteladó",
          "Viszonteladó",
          "Viszonteladó",
          "Viszonteladó",
          "Viszonteladó",
          "Viszonteladó",
          "Viszonteladó",
          "Viszonteladó",
          "Viszonteladó",
          "Viszonteladó",
          "Viszonteladó",
          "Viszonteladó",
          "Viszonteladó",
          "Viszonteladó",
          "Viszonteladó",
          "Viszonteladó",
          "Viszonteladó",
          "Viszonteladó",
          "Viszonteladó",
          "Viszonteladó",
          "Viszonteladó",
          "Viszonteladó",
          "Viszonteladó",
          "Viszonteladó",
          "Viszonteladó",
          "Viszonteladó",
          "Viszonteladó",
          "Viszonteladó",
          "Viszonteladó",
          "Viszonteladó",
          "Viszonteladó",
          "Viszonteladó",
          "Viszonteladó",
          "Viszonteladó",
          "Viszonteladó",
          "Viszonteladó",
          "Viszonteladó",
          "Viszonteladó"
         ],
         "lat": [
          47.514262,
          47.440962,
          47.46147,
          47.492718,
          47.502611,
          47.517895,
          47.483561,
          47.47338,
          47.517932,
          47.49553,
          47.519115,
          47.424189,
          47.42972,
          47.498375,
          47.510728,
          47.510175,
          47.533447,
          47.540965,
          47.545003,
          47.539719,
          47.585503,
          47.580529,
          47.483034,
          47.481754,
          47.479568,
          47.482492,
          47.494661,
          47.498241,
          47.499347,
          47.512471,
          47.507753,
          47.500789,
          47.510093,
          47.501793,
          47.497526,
          47.499828,
          47.495885,
          47.504817,
          47.498148,
          47.497035,
          47.492747,
          47.490469,
          47.492482,
          47.493274,
          47.484872,
          47.489312,
          47.495705,
          47.494815,
          47.491031,
          47.477498,
          47.472671,
          47.47502,
          47.44728,
          47.470266,
          47.462494,
          47.453492,
          47.466395,
          47.469956,
          47.478064,
          47.495389,
          47.483843,
          47.512121,
          47.525613,
          47.513184,
          47.509941,
          47.533804,
          47.452404,
          47.560408,
          47.568095,
          47.568102,
          47.54007,
          47.546322,
          47.540173,
          47.553938,
          47.5629,
          47.53311,
          47.521543,
          47.53061,
          47.51972,
          47.469054,
          47.4773,
          47.461291,
          47.428145,
          47.428145,
          47.403426,
          47.442872,
          47.437647,
          47.442872,
          47.404773,
          47.439884,
          47.447821,
          47.444034,
          47.408004,
          47.407052,
          47.407832,
          47.430694,
          47.415885,
          47.384004,
          47.37572,
          47.539683,
          47.493609,
          47.4956,
          47.669135,
          47.617149,
          47.382932,
          47.399576,
          47.514702
         ],
         "legendgroup": "Viszonteladó",
         "lon": [
          18.931664,
          18.978973,
          18.962193,
          19.032507,
          19.034317,
          19.036773,
          19.129277,
          19.008233,
          18.983514,
          19.019501,
          19.096278,
          19.111199,
          19.020595,
          19.039986,
          19.032556,
          19.030502,
          19.036699,
          19.040826,
          19.041862,
          19.047047,
          19.112766,
          19.109584,
          19.068589,
          19.072012,
          19.07168,
          19.064883,
          19.050019,
          19.048627,
          19.052488,
          19.04938,
          19.060175,
          19.055191,
          19.063559,
          19.080923,
          19.062648,
          19.077378,
          19.065439,
          19.0711,
          19.06929,
          19.070514,
          19.070953,
          19.070254,
          19.082607,
          19.082329,
          19.095152,
          19.066909,
          19.071993,
          19.076029,
          19.136463,
          19.153008,
          18.99611,
          19.048975,
          18.986146,
          19.028083,
          19.039104,
          19.032424,
          19.005823,
          19.000423,
          19.046174,
          18.978663,
          19.006277,
          19.05688,
          19.077885,
          19.049346,
          19.101143,
          19.105917,
          19.156288,
          19.119559,
          19.12625,
          19.126653,
          19.147856,
          19.126903,
          19.143888,
          19.11853,
          19.128175,
          19.209559,
          19.15262,
          19.171575,
          19.230677,
          19.225872,
          19.292586,
          19.299083,
          19.164995,
          19.164995,
          19.186388,
          19.178672,
          19.169296,
          19.178672,
          19.187333,
          19.117717,
          19.106152,
          19.111589,
          19.073138,
          19.090828,
          19.073246,
          19.005406,
          19.134215,
          19.227522,
          19.223674,
          19.252477,
          19.339445,
          19.335615,
          18.887506,
          18.914323,
          19.013048,
          19.248154,
          19.051634
         ],
         "marker": {
          "color": "#ab63fa"
         },
         "mode": "markers",
         "name": "Viszonteladó",
         "showlegend": true,
         "subplot": "mapbox",
         "type": "scattermapbox"
        },
        {
         "customdata": [
          [
           "Viszonteladó",
           "Budaörs",
           "Szabadság út 106.",
           "nemzeti dohánybolt",
           "Nemzeti Dohánybolt",
           null
          ],
          [
           "Viszonteladó",
           "Budapest",
           "Kispajtás u. 1.",
           "nemzeti dohánybolt",
           "Nemzeti Dohánybolt",
           null
          ],
          [
           "Viszonteladó",
           "Budapest",
           "Somfa-köz 2-12.",
           "nemzeti dohánybolt",
           "Nemzeti Dohánybolt",
           null
          ],
          [
           "Viszonteladó",
           "Budapest",
           "Fehérvári út 13.",
           "nemzeti dohánybolt",
           "Nemzeti Dohánybolt",
           null
          ],
          [
           "Viszonteladó",
           "Budapest",
           "Sashalmi tér 1.",
           "nemzeti dohánybolt",
           "Nemzeti Dohánybolt",
           null
          ],
          [
           "Viszonteladó",
           "Budapest, I. kerület",
           "Batthyány u. 4",
           "nemzeti dohánybolt",
           "Nemzeti Dohánybolt",
           null
          ],
          [
           "Viszonteladó",
           "Budapest, I. kerület",
           "Déli pu. peron",
           "nemzeti dohánybolt",
           "Nemzeti Dohánybolt",
           null
          ],
          [
           "Viszonteladó",
           "Budapest, I. kerület",
           "Fő utca 37/C.",
           "nemzeti dohánybolt",
           "Nemzeti Dohánybolt",
           null
          ],
          [
           "Viszonteladó",
           "Budapest, I. kerület",
           "Batthyány tér HÉV végállomás",
           "nemzeti dohánybolt",
           "Nemzeti Dohánybolt",
           null
          ],
          [
           "Viszonteladó",
           "Budapest, I. kerület",
           "Fő utca 7.",
           "nemzeti dohánybolt",
           "Nemzeti Dohánybolt",
           null
          ],
          [
           "Viszonteladó",
           "Budapest, II. kerület",
           "Margit krt. 50-52.",
           "nemzeti dohánybolt",
           "Nemzeti Dohánybolt",
           null
          ],
          [
           "Viszonteladó",
           "Budapest, II. kerület",
           "Frankel Leó u. 21-23.",
           "nemzeti dohánybolt",
           "Nemzeti Dohánybolt",
           null
          ],
          [
           "Viszonteladó",
           "Budapest, II. kerület",
           "Frankel Leó u. 21-23.",
           "nemzeti dohánybolt",
           "Nemzeti Dohánybolt",
           null
          ],
          [
           "Viszonteladó",
           "Budapest, II. kerület",
           "Margit krt. 105.",
           "nemzeti dohánybolt",
           "Nemzeti Dohánybolt",
           null
          ],
          [
           "Viszonteladó",
           "Budapest, II. kerület",
           "Margit körút 1.",
           "nemzeti dohánybolt",
           "Nemzeti Dohánybolt",
           null
          ],
          [
           "Viszonteladó",
           "Budapest, II. kerület",
           "Házmán u. 2.",
           "nemzeti dohánybolt",
           "Nemzeti Dohánybolt",
           null
          ],
          [
           "Viszonteladó",
           "Budapest, II. kerület",
           "Lövőház u. 2-6 (Mammut 1)",
           "nemzeti dohánybolt",
           "Nemzeti Dohánybolt",
           null
          ],
          [
           "Viszonteladó",
           "Budapest, II. kerület",
           "Margit krt. 65.",
           "nemzeti dohánybolt",
           "Nemzeti Dohánybolt",
           null
          ],
          [
           "Viszonteladó",
           "Budapest, III. kerület",
           "Bécsi út 88-90",
           "nemzeti dohánybolt",
           "Nemzeti Dohánybolt",
           null
          ],
          [
           "Viszonteladó",
           "Budapest, III. kerület",
           "Vízimolnár utca 8.",
           "nemzeti dohánybolt",
           "Nemzeti Dohánybolt",
           null
          ],
          [
           "Viszonteladó",
           "Budapest, III. kerület",
           "Köles u. 1",
           "nemzeti dohánybolt",
           "Nemzeti Dohánybolt",
           null
          ],
          [
           "Viszonteladó",
           "Budapest, III. kerület",
           "Flórián tér 6-9.",
           "nemzeti dohánybolt",
           "Nemzeti Dohánybolt",
           null
          ],
          [
           "Viszonteladó",
           "Budapest, III. kerület",
           "Miklós u. 8.",
           "nemzeti dohánybolt",
           "Nemzeti Dohánybolt",
           null
          ],
          [
           "Viszonteladó",
           "Budapest, III. kerület",
           "Orczy út 46-48.",
           "nemzeti dohánybolt",
           "Nemzeti Dohánybolt",
           null
          ],
          [
           "Viszonteladó",
           "Budapest, III. kerület",
           "Kiscelli u. 14.",
           "nemzeti dohánybolt",
           "Nemzeti Dohánybolt",
           null
          ],
          [
           "Viszonteladó",
           "Budapest, III. kerület",
           "Heltai Jenő tér 3.",
           "nemzeti dohánybolt",
           "Nemzeti Dohánybolt",
           null
          ],
          [
           "Viszonteladó",
           "Budapest, III. kerület",
           "Bécsi út 37.",
           "nemzeti dohánybolt",
           "Nemzeti Dohánybolt",
           null
          ],
          [
           "Viszonteladó",
           "Budapest, III. kerület",
           "Bécsi út 265.",
           "nemzeti dohánybolt",
           "Nemzeti Dohánybolt",
           null
          ],
          [
           "Viszonteladó",
           "Budapest, IV. kerület",
           "Rózsa utca - Munkásotthon utca sarok",
           "nemzeti dohánybolt",
           "Nemzeti Dohánybolt",
           null
          ],
          [
           "Viszonteladó",
           "Budapest, IV. kerület",
           "Rózsa utca - Munkásotthon utca sarok",
           "nemzeti dohánybolt",
           "Nemzeti Dohánybolt",
           null
          ],
          [
           "Viszonteladó",
           "Budapest, IV. kerület",
           "1047 Budapest, Megyeri út 12.",
           "nemzeti dohánybolt",
           "Nemzeti Dohánybolt",
           null
          ],
          [
           "Viszonteladó",
           "Budapest, IV. kerület",
           "Virág utca 7. fsz/7",
           "nemzeti dohánybolt",
           "Nemzeti Dohánybolt",
           null
          ],
          [
           "Viszonteladó",
           "Budapest, IV. kerület",
           "Árpád út 122",
           "nemzeti dohánybolt",
           "Nemzeti Dohánybolt",
           null
          ],
          [
           "Viszonteladó",
           "Budapest, IV. kerület",
           "Árpád út 122",
           "nemzeti dohánybolt",
           "Nemzeti Dohánybolt",
           null
          ],
          [
           "Viszonteladó",
           "Budapest, IV. kerület",
           "Berzeviczy Gergely utca 17.A.ép.",
           "nemzeti dohánybolt",
           "Nemzeti Dohánybolt",
           null
          ],
          [
           "Viszonteladó",
           "Budapest, IV. kerület",
           "Berzeviczy Gergely utca 17.A.ép.",
           "nemzeti dohánybolt",
           "Nemzeti Dohánybolt",
           null
          ],
          [
           "Viszonteladó",
           "Budapest, IV. kerület",
           "Berzeviczy Gergely utca 17.A.ép.",
           "nemzeti dohánybolt",
           "Nemzeti Dohánybolt",
           null
          ],
          [
           "Viszonteladó",
           "Budapest, IV. kerület",
           "Berzeviczy Gergely utca 17.A.ép.",
           "nemzeti dohánybolt",
           "Nemzeti Dohánybolt",
           null
          ],
          [
           "Viszonteladó",
           "Budapest, IV. kerület",
           "Csíkszentiván utca 6.",
           "nemzeti dohánybolt",
           "Nemzeti Dohánybolt",
           null
          ],
          [
           "Viszonteladó",
           "Budapest, IX. kerület",
           "Tűzoltó utca 78-80",
           "nemzeti dohánybolt",
           "Nemzeti Dohánybolt",
           null
          ],
          [
           "Viszonteladó",
           "Budapest, IX. kerület",
           "Üllői út 89/A.",
           "nemzeti dohánybolt",
           "Nemzeti Dohánybolt",
           null
          ],
          [
           "Viszonteladó",
           "Budapest, IX. kerület",
           "Üllői út 89/A.",
           "nemzeti dohánybolt",
           "Nemzeti Dohánybolt",
           null
          ],
          [
           "Viszonteladó",
           "Budapest, IX. kerület",
           "Dési Huber utca  20.",
           "nemzeti dohánybolt",
           "Nemzeti Dohánybolt",
           null
          ],
          [
           "Viszonteladó",
           "Budapest, IX. kerület",
           "Népliget gyalogos aluljáró 1.",
           "nemzeti dohánybolt",
           "Nemzeti Dohánybolt",
           null
          ],
          [
           "Viszonteladó",
           "Budapest, IX. kerület",
           "Mester utca 4-6.",
           "nemzeti dohánybolt",
           "Nemzeti Dohánybolt",
           null
          ],
          [
           "Viszonteladó",
           "Budapest, IX. kerület",
           "Mester utca 4-6.",
           "nemzeti dohánybolt",
           "Nemzeti Dohánybolt",
           null
          ],
          [
           "Viszonteladó",
           "Budapest, IX. kerület",
           "Mester utca 46.",
           "nemzeti dohánybolt",
           "Nemzeti Dohánybolt",
           null
          ],
          [
           "Viszonteladó",
           "Budapest, IX. kerület",
           "Ferenc krt. 41.",
           "nemzeti dohánybolt",
           "Nemzeti Dohánybolt",
           null
          ],
          [
           "Viszonteladó",
           "Budapest, IX. kerület",
           "Vágóhíd utca 3.",
           "nemzeti dohánybolt",
           "Nemzeti Dohánybolt",
           null
          ],
          [
           "Viszonteladó",
           "Budapest, V. kerület",
           "Hercegprímás u. 2. fszt. 3.",
           "nemzeti dohánybolt",
           "Nemzeti Dohánybolt",
           null
          ],
          [
           "Viszonteladó",
           "Budapest, V. kerület",
           "Ferenciek tere 10.",
           "nemzeti dohánybolt",
           "Nemzeti Dohánybolt",
           null
          ],
          [
           "Viszonteladó",
           "Budapest, V. kerület",
           "Erzsébet tér 7-8.",
           "nemzeti dohánybolt",
           "Nemzeti Dohánybolt",
           null
          ],
          [
           "Viszonteladó",
           "Budapest, V. kerület",
           "Báthory u. 8.",
           "nemzeti dohánybolt",
           "Nemzeti Dohánybolt",
           null
          ],
          [
           "Viszonteladó",
           "Budapest, V. kerület",
           "Deák Ferenc tér felszíni csarnok (M3 Sütő u. felől)",
           "nemzeti dohánybolt",
           "Nemzeti Dohánybolt",
           null
          ],
          [
           "Viszonteladó",
           "Budapest, VI. kerület",
           "Andrássy út 84.",
           "nemzeti dohánybolt",
           "Nemzeti Dohánybolt",
           null
          ],
          [
           "Viszonteladó",
           "Budapest, VI. kerület",
           "Jókai tér 8.",
           "nemzeti dohánybolt",
           "Nemzeti Dohánybolt",
           null
          ],
          [
           "Viszonteladó",
           "Budapest, VI. kerület",
           "Jókai tér 8.",
           "nemzeti dohánybolt",
           "Nemzeti Dohánybolt",
           null
          ],
          [
           "Viszonteladó",
           "Budapest, VI. kerület",
           "1065 Budapest, Podmaniczky utca 2",
           "nemzeti dohánybolt",
           "Nemzeti Dohánybolt",
           null
          ],
          [
           "Viszonteladó",
           "Budapest, VI. kerület",
           "Teréz krt. 21. (Oktogon)",
           "nemzeti dohánybolt",
           "Nemzeti Dohánybolt",
           null
          ],
          [
           "Viszonteladó",
           "Budapest, VI. kerület",
           "Teréz krt. 21. (Oktogon)",
           "nemzeti dohánybolt",
           "Nemzeti Dohánybolt",
           null
          ],
          [
           "Viszonteladó",
           "Budapest, VII. kerület",
           "Bethlen Gábor u. 8/a.",
           "nemzeti dohánybolt",
           "Nemzeti Dohánybolt",
           null
          ],
          [
           "Viszonteladó",
           "Budapest, VII. kerület",
           "Dob u. 66.",
           "nemzeti dohánybolt",
           "Nemzeti Dohánybolt",
           null
          ],
          [
           "Viszonteladó",
           "Budapest, VII. kerület",
           "Király u. 91.",
           "nemzeti dohánybolt",
           "Nemzeti Dohánybolt",
           null
          ],
          [
           "Viszonteladó",
           "Budapest, VII. kerület",
           "Dohány utca 47.",
           "nemzeti dohánybolt",
           "Nemzeti Dohánybolt",
           null
          ],
          [
           "Viszonteladó",
           "Budapest, VII. kerület",
           "Dob utca 52.",
           "nemzeti dohánybolt",
           "Nemzeti Dohánybolt",
           null
          ],
          [
           "Viszonteladó",
           "Budapest, VII. kerület",
           "Dob utca 28-30.",
           "nemzeti dohánybolt",
           "Nemzeti Dohánybolt",
           null
          ],
          [
           "Viszonteladó",
           "Budapest, VII. kerület",
           "Damjanich u. 11-15.",
           "nemzeti dohánybolt",
           "Nemzeti Dohánybolt",
           null
          ],
          [
           "Viszonteladó",
           "Budapest, VII. kerület",
           "Wesselényi u. 45.",
           "nemzeti dohánybolt",
           "Nemzeti Dohánybolt",
           null
          ],
          [
           "Viszonteladó",
           "Budapest, VII. kerület",
           "Wesselényi u. 45.",
           "nemzeti dohánybolt",
           "Nemzeti Dohánybolt",
           null
          ],
          [
           "Viszonteladó",
           "Budapest, VII. kerület",
           "Rákóczi út 6.",
           "nemzeti dohánybolt",
           "Nemzeti Dohánybolt",
           null
          ],
          [
           "Viszonteladó",
           "Budapest, VII. kerület",
           "Wesselényi út 2.",
           "nemzeti dohánybolt",
           "Nemzeti Dohánybolt",
           null
          ],
          [
           "Viszonteladó",
           "Budapest, VIII. kerület",
           "Baross u. 96.",
           "nemzeti dohánybolt",
           "Nemzeti Dohánybolt",
           null
          ],
          [
           "Viszonteladó",
           "Budapest, VIII. kerület",
           "Baross u. 96.",
           "nemzeti dohánybolt",
           "Nemzeti Dohánybolt",
           null
          ],
          [
           "Viszonteladó",
           "Budapest, VIII. kerület",
           "Rákóczi út 25.",
           "nemzeti dohánybolt",
           "Nemzeti Dohánybolt",
           null
          ],
          [
           "Viszonteladó",
           "Budapest, VIII. kerület",
           "Rákóczi út 25.",
           "nemzeti dohánybolt",
           "Nemzeti Dohánybolt",
           null
          ],
          [
           "Viszonteladó",
           "Budapest, VIII. kerület",
           "Kőbányai út 27.",
           "nemzeti dohánybolt",
           "Nemzeti Dohánybolt",
           null
          ],
          [
           "Viszonteladó",
           "Budapest, VIII. kerület",
           "Diószeghy Sámuel utca 15",
           "nemzeti dohánybolt",
           "Nemzeti Dohánybolt",
           null
          ],
          [
           "Viszonteladó",
           "Budapest, VIII. kerület",
           "Páskomliget utca 49",
           "nemzeti dohánybolt",
           "Nemzeti Dohánybolt",
           null
          ],
          [
           "Viszonteladó",
           "Budapest, VIII. kerület",
           "József u. 2.",
           "nemzeti dohánybolt",
           "Nemzeti Dohánybolt",
           null
          ],
          [
           "Viszonteladó",
           "Budapest, VIII. kerület",
           "Déri Miksa utca 1.",
           "nemzeti dohánybolt",
           "Nemzeti Dohánybolt",
           null
          ],
          [
           "Viszonteladó",
           "Budapest, VIII. kerület",
           "Kerepesi út 1-5.",
           "nemzeti dohánybolt",
           "Nemzeti Dohánybolt",
           null
          ],
          [
           "Viszonteladó",
           "Budapest, VIII. kerület",
           "Práter utca 59.",
           "nemzeti dohánybolt",
           "Nemzeti Dohánybolt",
           null
          ],
          [
           "Viszonteladó",
           "Budapest, VIII. kerület",
           "Harminckettesek tere 6.",
           "nemzeti dohánybolt",
           "Nemzeti Dohánybolt",
           null
          ],
          [
           "Viszonteladó",
           "Budapest, VIII. kerület",
           "Népszínház u. 13.",
           "nemzeti dohánybolt",
           "Nemzeti Dohánybolt",
           null
          ],
          [
           "Viszonteladó",
           "Budapest, VIII. kerület",
           "Népszínház u. 59.",
           "nemzeti dohánybolt",
           "Nemzeti Dohánybolt",
           null
          ],
          [
           "Viszonteladó",
           "Budapest, X. kerület",
           "Maglódi út 53.",
           "nemzeti dohánybolt",
           "Nemzeti Dohánybolt",
           null
          ],
          [
           "Viszonteladó",
           "Budapest, X. kerület",
           "Kőrösi Csoma Sándor út 43.",
           "nemzeti dohánybolt",
           "Nemzeti Dohánybolt",
           null
          ],
          [
           "Viszonteladó",
           "Budapest, XI. kerület",
           "Etele tér 5.",
           "nemzeti dohánybolt",
           "Nemzeti Dohánybolt",
           null
          ],
          [
           "Viszonteladó",
           "Budapest, XI. kerület",
           "Budafoki út 113.",
           "nemzeti dohánybolt",
           "Nemzeti Dohánybolt",
           null
          ],
          [
           "Viszonteladó",
           "Budapest, XI. kerület",
           "Budaörsi út 35.",
           "nemzeti dohánybolt",
           "Nemzeti Dohánybolt",
           null
          ],
          [
           "Viszonteladó",
           "Budapest, XI. kerület",
           "Kosztolányi Dezső tér 5.",
           "nemzeti dohánybolt",
           "Nemzeti Dohánybolt",
           null
          ],
          [
           "Viszonteladó",
           "Budapest, XI. kerület",
           " Október huszonharmadika utca 27.",
           "nemzeti dohánybolt",
           "Nemzeti Dohánybolt",
           null
          ],
          [
           "Viszonteladó",
           "Budapest, XI. kerület",
           "Fehérvári út 118/A",
           "nemzeti dohánybolt",
           "Nemzeti Dohánybolt",
           null
          ],
          [
           "Viszonteladó",
           "Budapest, XI. kerület",
           "Vőfély u. 1.",
           "nemzeti dohánybolt",
           "Nemzeti Dohánybolt",
           null
          ],
          [
           "Viszonteladó",
           "Budapest, XI. kerület",
           "Bocskai út 44",
           "nemzeti dohánybolt",
           "Nemzeti Dohánybolt",
           null
          ],
          [
           "Viszonteladó",
           "Budapest, XI. kerület",
           "Bercsényi utca 21/A",
           "nemzeti dohánybolt",
           "Nemzeti Dohánybolt",
           null
          ],
          [
           "Viszonteladó",
           "Budapest, XI. kerület",
           "Budafoki út 57/B.",
           "nemzeti dohánybolt",
           "Nemzeti Dohánybolt",
           null
          ],
          [
           "Viszonteladó",
           "Budapest, XI. kerület",
           "Rétköz u. 10/B.",
           "nemzeti dohánybolt",
           "Nemzeti Dohánybolt",
           null
          ],
          [
           "Viszonteladó",
           "Budapest, XI. kerület",
           "Rétköz u. 10/B.",
           "nemzeti dohánybolt",
           "Nemzeti Dohánybolt",
           null
          ],
          [
           "Viszonteladó",
           "Budapest, XI. kerület",
           "Jagelló út 4/a.",
           "nemzeti dohánybolt",
           "Nemzeti Dohánybolt",
           null
          ],
          [
           "Viszonteladó",
           "Budapest, XI. kerület",
           "Karinthy Frigyes u. 4-6.",
           "nemzeti dohánybolt",
           "Nemzeti Dohánybolt",
           null
          ],
          [
           "Viszonteladó",
           "Budapest, XI. kerület",
           "Karinthy Frigyes u. 4-6.",
           "nemzeti dohánybolt",
           "Nemzeti Dohánybolt",
           null
          ],
          [
           "Viszonteladó",
           "Budapest, XI. kerület",
           "Karinthy Frigyes u. 4-6.",
           "nemzeti dohánybolt",
           "Nemzeti Dohánybolt",
           null
          ],
          [
           "Viszonteladó",
           "Budapest, XI. kerület",
           "Karinthy Frigyes u. 4-6.",
           "nemzeti dohánybolt",
           "Nemzeti Dohánybolt",
           null
          ],
          [
           "Viszonteladó",
           "Budapest, XI. kerület",
           "Móricz Zsigmond körtér 2.",
           "nemzeti dohánybolt",
           "Nemzeti Dohánybolt",
           null
          ],
          [
           "Viszonteladó",
           "Budapest, XII. kerület",
           "Alkotás u. 53.",
           "nemzeti dohánybolt",
           "Nemzeti Dohánybolt",
           null
          ],
          [
           "Viszonteladó",
           "Budapest, XII. kerület",
           "Alkotás u. 13.",
           "nemzeti dohánybolt",
           "Nemzeti Dohánybolt",
           null
          ],
          [
           "Viszonteladó",
           "Budapest, XII. kerület",
           " Kiss János altábornagy u. 50/A",
           "nemzeti dohánybolt",
           "Nemzeti Dohánybolt",
           null
          ],
          [
           "Viszonteladó",
           "Budapest, XII. kerület",
           "Pagony utca 29.",
           "nemzeti dohánybolt",
           "Nemzeti Dohánybolt",
           null
          ],
          [
           "Viszonteladó",
           "Budapest, XII. kerület",
           "Csörsz u. 23-25.",
           "nemzeti dohánybolt",
           "Nemzeti Dohánybolt",
           null
          ],
          [
           "Viszonteladó",
           "Budapest, XII. kerület",
           "Nógrádi u. 39.",
           "nemzeti dohánybolt",
           "Nemzeti Dohánybolt",
           null
          ],
          [
           "Viszonteladó",
           "Budapest, XII. kerület",
           "Eötvös út 38/b.",
           "nemzeti dohánybolt",
           "Nemzeti Dohánybolt",
           null
          ],
          [
           "Viszonteladó",
           "Budapest, XII. kerület",
           "Apor Vilmos tér 11-12.",
           "nemzeti dohánybolt",
           "Nemzeti Dohánybolt",
           null
          ],
          [
           "Viszonteladó",
           "Budapest, XIII. kerület",
           "Viktor Hugo utcai alulj. Lehel tér",
           "nemzeti dohánybolt",
           "Nemzeti Dohánybolt",
           null
          ],
          [
           "Viszonteladó",
           "Budapest, XIII. kerület",
           "Radnóti Miklós utca 38",
           "nemzeti dohánybolt",
           "Nemzeti Dohánybolt",
           null
          ],
          [
           "Viszonteladó",
           "Budapest, XIII. kerület",
           "1132 Budapest, Gogol u. 23.",
           "nemzeti dohánybolt",
           "Nemzeti Dohánybolt",
           null
          ],
          [
           "Viszonteladó",
           "Budapest, XIII. kerület",
           "Katona József utca 3.",
           "nemzeti dohánybolt",
           "Nemzeti Dohánybolt",
           null
          ],
          [
           "Viszonteladó",
           "Budapest, XIII. kerület",
           "Hollán Ernő utca 4.",
           "nemzeti dohánybolt",
           "Nemzeti Dohánybolt",
           null
          ],
          [
           "Viszonteladó",
           "Budapest, XIV. kerület",
           "Örs vezér tere 3.",
           "nemzeti dohánybolt",
           "Nemzeti Dohánybolt",
           null
          ],
          [
           "Viszonteladó",
           "Budapest, XIV. kerület",
           "Mexikói út 70.",
           "nemzeti dohánybolt",
           "Nemzeti Dohánybolt",
           null
          ],
          [
           "Viszonteladó",
           "Budapest, XIV. kerület",
           "Csertő u. 5-7.",
           "nemzeti dohánybolt",
           "Nemzeti Dohánybolt",
           null
          ],
          [
           "Viszonteladó",
           "Budapest, XIV. kerület",
           "Szobránc utca 20.",
           "nemzeti dohánybolt",
           "Nemzeti Dohánybolt",
           null
          ],
          [
           "Viszonteladó",
           "Budapest, XIV. kerület",
           "Egressy út 9/A",
           "nemzeti dohánybolt",
           "Nemzeti Dohánybolt",
           null
          ],
          [
           "Viszonteladó",
           "Budapest, XIV. kerület",
           "Móricz Zsigmond körtér 9.",
           "nemzeti dohánybolt",
           "Nemzeti Dohánybolt",
           null
          ],
          [
           "Viszonteladó",
           "Budapest, XIV. kerület",
           "Szabó József u. 6. (Récsei Center)",
           "nemzeti dohánybolt",
           "Nemzeti Dohánybolt",
           null
          ],
          [
           "Viszonteladó",
           "Budapest, XIV. kerület",
           "Fogarasi út 47-51.",
           "nemzeti dohánybolt",
           "Nemzeti Dohánybolt",
           null
          ],
          [
           "Viszonteladó",
           "Budapest, XIV. kerület",
           "Thököly út 150.",
           "nemzeti dohánybolt",
           "Nemzeti Dohánybolt",
           null
          ],
          [
           "Viszonteladó",
           "Budapest, XIV. kerület",
           "Erzsébet királyné út 6.",
           "nemzeti dohánybolt",
           "Nemzeti Dohánybolt",
           null
          ],
          [
           "Viszonteladó",
           "Budapest, XIX. kerület",
           "Kossuth tér üzletház fszt. 11.",
           "nemzeti dohánybolt",
           "Nemzeti Dohánybolt",
           null
          ],
          [
           "Viszonteladó",
           "Budapest, XIX. kerület",
           "Üllői út 248.",
           "nemzeti dohánybolt",
           "Nemzeti Dohánybolt",
           null
          ],
          [
           "Viszonteladó",
           "Budapest, XIX. kerület",
           "Kőbánya-Kispest M3 metró átjáró",
           "nemzeti dohánybolt",
           "Nemzeti Dohánybolt",
           null
          ],
          [
           "Viszonteladó",
           "Budapest, XV. kerület",
           "Rákos út 48.",
           "nemzeti dohánybolt",
           "Nemzeti Dohánybolt",
           null
          ],
          [
           "Viszonteladó",
           "Budapest, XV. kerület",
           "Rákos út 84.",
           "nemzeti dohánybolt",
           "Nemzeti Dohánybolt",
           null
          ],
          [
           "Viszonteladó",
           "Budapest, XV. kerület",
           "Töltés u. 4.",
           "nemzeti dohánybolt",
           "Nemzeti Dohánybolt",
           null
          ],
          [
           "Viszonteladó",
           "Budapest, XV. kerület",
           "Rákos út 9.",
           "nemzeti dohánybolt",
           "Nemzeti Dohánybolt",
           null
          ],
          [
           "Viszonteladó",
           "Budapest, XVI. kerület",
           "Thököly út 10.",
           "nemzeti dohánybolt",
           "Nemzeti Dohánybolt",
           null
          ],
          [
           "Viszonteladó",
           "Budapest, XVI. kerület",
           "Rákosi út 142-146.",
           "nemzeti dohánybolt",
           "Nemzeti Dohánybolt",
           null
          ],
          [
           "Viszonteladó",
           "Budapest, XVI. kerület",
           "Arany János u. 102.",
           "nemzeti dohánybolt",
           "Nemzeti Dohánybolt",
           null
          ],
          [
           "Viszonteladó",
           "Budapest, XVI. kerület",
           "Bökényföldi út 102. ",
           "nemzeti dohánybolt",
           "Nemzeti Dohánybolt",
           null
          ],
          [
           "Viszonteladó",
           "Budapest, XVI. kerület",
           "Bökényföldi út 102. ",
           "nemzeti dohánybolt",
           "Nemzeti Dohánybolt",
           null
          ],
          [
           "Viszonteladó",
           "Budapest, XVII. kerület",
           "Pesti út 144.",
           "nemzeti dohánybolt",
           "Nemzeti Dohánybolt",
           null
          ],
          [
           "Viszonteladó",
           "Budapest, XVII. kerület",
           "Pesti út 16-18.",
           "nemzeti dohánybolt",
           "Nemzeti Dohánybolt",
           null
          ],
          [
           "Viszonteladó",
           "Budapest, XVII. kerület",
           "Pesti út 16-18.",
           "nemzeti dohánybolt",
           "Nemzeti Dohánybolt",
           null
          ],
          [
           "Viszonteladó",
           "Budapest, XVII. kerület",
           "Kvasz András u. 27/C.",
           "nemzeti dohánybolt",
           "Nemzeti Dohánybolt",
           null
          ],
          [
           "Viszonteladó",
           "Budapest, XVII. kerület",
           "Péceli út 126.",
           "nemzeti dohánybolt",
           "Nemzeti Dohánybolt",
           null
          ],
          [
           "Viszonteladó",
           "Budapest, XVII. kerület",
           "Zrínyi u. 86.",
           "nemzeti dohánybolt",
           "Nemzeti Dohánybolt",
           null
          ],
          [
           "Viszonteladó",
           "Budapest, XVIII. kerület",
           "Üllői út 346.",
           "nemzeti dohánybolt",
           "Nemzeti Dohánybolt",
           null
          ],
          [
           "Viszonteladó",
           "Budapest, XVIII. kerület",
           "Gyömrői út 99. (CBA Újhegyi)",
           "nemzeti dohánybolt",
           "Nemzeti Dohánybolt",
           null
          ],
          [
           "Viszonteladó",
           "Budapest, XVIII. kerület",
           "Gyömrői út 99. (CBA Újhegyi)",
           "nemzeti dohánybolt",
           "Nemzeti Dohánybolt",
           null
          ],
          [
           "Viszonteladó",
           "Budapest, XVIII. kerület",
           "Gyömrői út 99. (CBA Újhegyi)",
           "nemzeti dohánybolt",
           "Nemzeti Dohánybolt",
           null
          ],
          [
           "Viszonteladó",
           "Budapest, XVIII. kerület",
           "Üllői út 610.",
           "nemzeti dohánybolt",
           "Nemzeti Dohánybolt",
           null
          ],
          [
           "Viszonteladó",
           "Budapest, XVIII. kerület",
           "Csontvári Kosztka Tivadar u. 23.",
           "nemzeti dohánybolt",
           "Nemzeti Dohánybolt",
           null
          ],
          [
           "Viszonteladó",
           "Budapest, XVIII. kerület",
           "Havanna u. 44., fsz. 4.",
           "nemzeti dohánybolt",
           "Nemzeti Dohánybolt",
           null
          ],
          [
           "Viszonteladó",
           "Budapest, XVIII. kerület",
           "Havanna u. 44., fsz. 4.",
           "nemzeti dohánybolt",
           "Nemzeti Dohánybolt",
           null
          ],
          [
           "Viszonteladó",
           "Budapest, XVIII. kerület",
           "Margó Tivadar utca 83.",
           "nemzeti dohánybolt",
           "Nemzeti Dohánybolt",
           null
          ],
          [
           "Viszonteladó",
           "Budapest, XVIII. kerület",
           "Nagykőrösi út 35.",
           "nemzeti dohánybolt",
           "Nemzeti Dohánybolt",
           null
          ],
          [
           "Viszonteladó",
           "Budapest, XVIII. kerület",
           "Goroszló u. 15.",
           "nemzeti dohánybolt",
           "Nemzeti Dohánybolt",
           null
          ],
          [
           "Viszonteladó",
           "Budapest, XVIII. kerület",
           "Nagykőrösi út 73.",
           "nemzeti dohánybolt",
           "Nemzeti Dohánybolt",
           null
          ],
          [
           "Viszonteladó",
           "Budapest, XVIII. kerület",
           "Alacskai út 3.",
           "nemzeti dohánybolt",
           "Nemzeti Dohánybolt",
           null
          ],
          [
           "Viszonteladó",
           "Budapest, XVIII. kerület",
           "Gyömrői út 79-83. (Sárkány)",
           "nemzeti dohánybolt",
           "Nemzeti Dohánybolt",
           null
          ],
          [
           "Viszonteladó",
           "Budapest, XVIII. kerület",
           "Nefelejcs utca 89/A",
           "nemzeti dohánybolt",
           "Nemzeti Dohánybolt",
           null
          ],
          [
           "Viszonteladó",
           "Budapest, XVIII. kerület",
           "Nefelejcs utca 89/A",
           "nemzeti dohánybolt",
           "Nemzeti Dohánybolt",
           null
          ],
          [
           "Viszonteladó",
           "Budapest, XVIII. kerület",
           "Üllői út 440-442.",
           "nemzeti dohánybolt",
           "Nemzeti Dohánybolt",
           null
          ],
          [
           "Viszonteladó",
           "Budapest, XVIII. kerület",
           "Üllői út 440-442.",
           "nemzeti dohánybolt",
           "Nemzeti Dohánybolt",
           null
          ],
          [
           "Viszonteladó",
           "Budapest, XVIII. kerület",
           "Goroszló utca 4.",
           "nemzeti dohánybolt",
           "Nemzeti Dohánybolt",
           null
          ],
          [
           "Viszonteladó",
           "Budapest, XVIII. kerület",
           "Goroszló utca 4.",
           "nemzeti dohánybolt",
           "Nemzeti Dohánybolt",
           null
          ],
          [
           "Viszonteladó",
           "Budapest, XVIII. kerület",
           "Gilice tér 49.",
           "nemzeti dohánybolt",
           "Nemzeti Dohánybolt",
           null
          ],
          [
           "Viszonteladó",
           "Budapest, XVIII. kerület",
           "Üllői út 379-381",
           "nemzeti dohánybolt",
           "Nemzeti Dohánybolt",
           null
          ],
          [
           "Viszonteladó",
           "Budapest, XVIII. kerület",
           "Gyékény tér 1.",
           "nemzeti dohánybolt",
           "Nemzeti Dohánybolt",
           null
          ],
          [
           "Viszonteladó",
           "Budapest, XVIII. kerület",
           "Est utca 50.",
           "nemzeti dohánybolt",
           "Nemzeti Dohánybolt",
           null
          ],
          [
           "Viszonteladó",
           "Budapest, XX. kerület",
           "Nagy Sándor József u. 170.",
           "nemzeti dohánybolt",
           "Nemzeti Dohánybolt",
           null
          ],
          [
           "Viszonteladó",
           "Budapest, XX. kerület",
           "Jókai Mór u. 48/a.",
           "nemzeti dohánybolt",
           "Nemzeti Dohánybolt",
           null
          ],
          [
           "Viszonteladó",
           "Budapest, XX. kerület",
           "Tátra tér 1.",
           "nemzeti dohánybolt",
           "Nemzeti Dohánybolt",
           null
          ],
          [
           "Viszonteladó",
           "Budapest, XX. kerület",
           "Kossuth Lajos utca 31/c",
           "nemzeti dohánybolt",
           "Nemzeti Dohánybolt",
           null
          ],
          [
           "Viszonteladó",
           "Budapest, XXI. kerület",
           "Szent István u. 291.",
           "nemzeti dohánybolt",
           "Nemzeti Dohánybolt",
           null
          ],
          [
           "Viszonteladó",
           "Budapest, XXI. kerület",
           "II.Rákóczi Ferenc u. 154-170",
           "nemzeti dohánybolt",
           "Nemzeti Dohánybolt",
           null
          ],
          [
           "Viszonteladó",
           "Budapest, XXI. kerület",
           "II.Rákóczi Ferenc u. 154-170",
           "nemzeti dohánybolt",
           "Nemzeti Dohánybolt",
           null
          ],
          [
           "Viszonteladó",
           "Budapest, XXI. kerület",
           "II.Rákóczi Ferenc u. 142",
           "nemzeti dohánybolt",
           "Nemzeti Dohánybolt",
           null
          ],
          [
           "Viszonteladó",
           "Budapest, XXI. kerület",
           "II.Rákóczi Ferenc u. 142",
           "nemzeti dohánybolt",
           "Nemzeti Dohánybolt",
           null
          ],
          [
           "Viszonteladó",
           "Budapest, XXI. kerület",
           "Karácsony Sándor u. 10/a",
           "nemzeti dohánybolt",
           "Nemzeti Dohánybolt",
           null
          ],
          [
           "Viszonteladó",
           "Budapest, XXI. kerület",
           "Szent László u. 115",
           "nemzeti dohánybolt",
           "Nemzeti Dohánybolt",
           null
          ],
          [
           "Viszonteladó",
           "Budapest, XXI. kerület",
           "Nyárfás utca 2.",
           "nemzeti dohánybolt",
           "Nemzeti Dohánybolt",
           null
          ],
          [
           "Viszonteladó",
           "Budapest, XXI. kerület",
           "Nyárfás utca 2.",
           "nemzeti dohánybolt",
           "Nemzeti Dohánybolt",
           null
          ],
          [
           "Viszonteladó",
           "Budapest, XXI. kerület",
           "II. Rákóczi Ferenc út 277.",
           "nemzeti dohánybolt",
           "Nemzeti Dohánybolt",
           null
          ],
          [
           "Viszonteladó",
           "Budapest, XXI. kerület",
           "Zrínyi utca 1/A.",
           "nemzeti dohánybolt",
           "Nemzeti Dohánybolt",
           null
          ],
          [
           "Viszonteladó",
           "Budapest, XXI. kerület",
           "Ady Endre út 65.",
           "nemzeti dohánybolt",
           "Nemzeti Dohánybolt",
           null
          ],
          [
           "Viszonteladó",
           "Budapest, XXI. kerület",
           "II. Rákóczi Ferenc út 366.",
           "nemzeti dohánybolt",
           "Nemzeti Dohánybolt",
           null
          ],
          [
           "Viszonteladó",
           "Budapest, XXI. kerület",
           "Vénusz u. 33.",
           "nemzeti dohánybolt",
           "Nemzeti Dohánybolt",
           null
          ],
          [
           "Viszonteladó",
           "Budapest, XXI. kerület",
           "Vénusz u. 33.",
           "nemzeti dohánybolt",
           "Nemzeti Dohánybolt",
           null
          ],
          [
           "Viszonteladó",
           "Budapest, XXI. kerület",
           "Mansfeld Péter u. 92. ",
           "nemzeti dohánybolt",
           "Nemzeti Dohánybolt",
           null
          ],
          [
           "Viszonteladó",
           "Budapest, XXI. kerület",
           "Nap utca 2.",
           "nemzeti dohánybolt",
           "Nemzeti Dohánybolt",
           null
          ],
          [
           "Viszonteladó",
           "Budapest, XXI. kerület",
           "Görgey tér 1.",
           "nemzeti dohánybolt",
           "Nemzeti Dohánybolt",
           null
          ],
          [
           "Viszonteladó",
           "Budapest, XXI. kerület",
           "Deák tér 1. (Piac bejárat mellett)",
           "nemzeti dohánybolt",
           "Nemzeti Dohánybolt",
           null
          ],
          [
           "Viszonteladó",
           "Budapest, XXI. kerület",
           "Központi út 18. (Csepel művek)",
           "nemzeti dohánybolt",
           "Nemzeti Dohánybolt",
           null
          ],
          [
           "Viszonteladó",
           "Budapest, XXII. kerület",
           "Nagytétényi út 315.",
           "nemzeti dohánybolt",
           "Nemzeti Dohánybolt",
           null
          ],
          [
           "Viszonteladó",
           "Budapest, XXII. kerület",
           "Közgazdász u. 4.",
           "nemzeti dohánybolt",
           "Nemzeti Dohánybolt",
           null
          ],
          [
           "Viszonteladó",
           "Csömör",
           "Szabadság út 41.",
           "nemzeti dohánybolt",
           "Nemzeti Dohánybolt",
           null
          ],
          [
           "Viszonteladó",
           "Mogyoród ",
           "Gödöllői út 244.",
           "nemzeti dohánybolt",
           "Nemzeti Dohánybolt",
           null
          ],
          [
           "Viszonteladó",
           "Rózsa utca - Munkásotthon utca sarok",
           "Baross u. 96.",
           "nemzeti dohánybolt",
           "Nemzeti Dohánybolt",
           null
          ],
          [
           "Viszonteladó",
           "Szentendre",
           "Ady Endre út 24.",
           "nemzeti dohánybolt",
           "Nemzeti Dohánybolt",
           null
          ],
          [
           "Viszonteladó",
           "Szentendre",
           "Vasúti villasor 5.",
           "nemzeti dohánybolt",
           "Nemzeti Dohánybolt",
           null
          ],
          [
           "Viszonteladó",
           "Szigetszentmiklós",
           "Szigetszentmiklós M0",
           "nemzeti dohánybolt",
           "Nemzeti Dohánybolt",
           null
          ]
         ],
         "hovertemplate": "<b>%{hovertext}</b><br><br>organization=%{customdata[4]}<br>lat=%{lat}<br>lng=%{lon}<br>type=%{customdata[0]}<br>place=%{customdata[1]}<br>address=%{customdata[2]}<br>description=%{customdata[3]}<br>placed_at=%{customdata[5]}<extra></extra>",
         "hovertext": [
          "Viszonteladó",
          "Viszonteladó",
          "Viszonteladó",
          "Viszonteladó",
          "Viszonteladó",
          "Viszonteladó",
          "Viszonteladó",
          "Viszonteladó",
          "Viszonteladó",
          "Viszonteladó",
          "Viszonteladó",
          "Viszonteladó",
          "Viszonteladó",
          "Viszonteladó",
          "Viszonteladó",
          "Viszonteladó",
          "Viszonteladó",
          "Viszonteladó",
          "Viszonteladó",
          "Viszonteladó",
          "Viszonteladó",
          "Viszonteladó",
          "Viszonteladó",
          "Viszonteladó",
          "Viszonteladó",
          "Viszonteladó",
          "Viszonteladó",
          "Viszonteladó",
          "Viszonteladó",
          "Viszonteladó",
          "Viszonteladó",
          "Viszonteladó",
          "Viszonteladó",
          "Viszonteladó",
          "Viszonteladó",
          "Viszonteladó",
          "Viszonteladó",
          "Viszonteladó",
          "Viszonteladó",
          "Viszonteladó",
          "Viszonteladó",
          "Viszonteladó",
          "Viszonteladó",
          "Viszonteladó",
          "Viszonteladó",
          "Viszonteladó",
          "Viszonteladó",
          "Viszonteladó",
          "Viszonteladó",
          "Viszonteladó",
          "Viszonteladó",
          "Viszonteladó",
          "Viszonteladó",
          "Viszonteladó",
          "Viszonteladó",
          "Viszonteladó",
          "Viszonteladó",
          "Viszonteladó",
          "Viszonteladó",
          "Viszonteladó",
          "Viszonteladó",
          "Viszonteladó",
          "Viszonteladó",
          "Viszonteladó",
          "Viszonteladó",
          "Viszonteladó",
          "Viszonteladó",
          "Viszonteladó",
          "Viszonteladó",
          "Viszonteladó",
          "Viszonteladó",
          "Viszonteladó",
          "Viszonteladó",
          "Viszonteladó",
          "Viszonteladó",
          "Viszonteladó",
          "Viszonteladó",
          "Viszonteladó",
          "Viszonteladó",
          "Viszonteladó",
          "Viszonteladó",
          "Viszonteladó",
          "Viszonteladó",
          "Viszonteladó",
          "Viszonteladó",
          "Viszonteladó",
          "Viszonteladó",
          "Viszonteladó",
          "Viszonteladó",
          "Viszonteladó",
          "Viszonteladó",
          "Viszonteladó",
          "Viszonteladó",
          "Viszonteladó",
          "Viszonteladó",
          "Viszonteladó",
          "Viszonteladó",
          "Viszonteladó",
          "Viszonteladó",
          "Viszonteladó",
          "Viszonteladó",
          "Viszonteladó",
          "Viszonteladó",
          "Viszonteladó",
          "Viszonteladó",
          "Viszonteladó",
          "Viszonteladó",
          "Viszonteladó",
          "Viszonteladó",
          "Viszonteladó",
          "Viszonteladó",
          "Viszonteladó",
          "Viszonteladó",
          "Viszonteladó",
          "Viszonteladó",
          "Viszonteladó",
          "Viszonteladó",
          "Viszonteladó",
          "Viszonteladó",
          "Viszonteladó",
          "Viszonteladó",
          "Viszonteladó",
          "Viszonteladó",
          "Viszonteladó",
          "Viszonteladó",
          "Viszonteladó",
          "Viszonteladó",
          "Viszonteladó",
          "Viszonteladó",
          "Viszonteladó",
          "Viszonteladó",
          "Viszonteladó",
          "Viszonteladó",
          "Viszonteladó",
          "Viszonteladó",
          "Viszonteladó",
          "Viszonteladó",
          "Viszonteladó",
          "Viszonteladó",
          "Viszonteladó",
          "Viszonteladó",
          "Viszonteladó",
          "Viszonteladó",
          "Viszonteladó",
          "Viszonteladó",
          "Viszonteladó",
          "Viszonteladó",
          "Viszonteladó",
          "Viszonteladó",
          "Viszonteladó",
          "Viszonteladó",
          "Viszonteladó",
          "Viszonteladó",
          "Viszonteladó",
          "Viszonteladó",
          "Viszonteladó",
          "Viszonteladó",
          "Viszonteladó",
          "Viszonteladó",
          "Viszonteladó",
          "Viszonteladó",
          "Viszonteladó",
          "Viszonteladó",
          "Viszonteladó",
          "Viszonteladó",
          "Viszonteladó",
          "Viszonteladó",
          "Viszonteladó",
          "Viszonteladó",
          "Viszonteladó",
          "Viszonteladó",
          "Viszonteladó",
          "Viszonteladó",
          "Viszonteladó",
          "Viszonteladó",
          "Viszonteladó",
          "Viszonteladó",
          "Viszonteladó",
          "Viszonteladó",
          "Viszonteladó",
          "Viszonteladó",
          "Viszonteladó",
          "Viszonteladó",
          "Viszonteladó",
          "Viszonteladó",
          "Viszonteladó",
          "Viszonteladó",
          "Viszonteladó",
          "Viszonteladó",
          "Viszonteladó",
          "Viszonteladó",
          "Viszonteladó",
          "Viszonteladó",
          "Viszonteladó",
          "Viszonteladó",
          "Viszonteladó",
          "Viszonteladó",
          "Viszonteladó",
          "Viszonteladó",
          "Viszonteladó",
          "Viszonteladó",
          "Viszonteladó"
         ],
         "lat": [
          47.460928,
          47.4716,
          47.4716,
          47.4757,
          47.5094,
          47.506812,
          47.49981,
          47.505128,
          47.506381,
          47.499618,
          47.510113,
          47.516673,
          47.516673,
          47.507977,
          47.514745,
          47.516722,
          47.508599,
          47.510527,
          47.532579,
          47.568889,
          47.557066,
          47.542093,
          47.546373,
          47.488149,
          47.539045,
          47.597558,
          47.527647,
          47.550108,
          47.55943,
          47.55943,
          47.578038,
          47.555641,
          47.560734,
          47.560734,
          47.563777,
          47.563777,
          47.563777,
          47.563777,
          47.596944,
          47.479491,
          47.482623,
          47.482623,
          47.465848,
          47.475477,
          47.481797,
          47.481797,
          47.47861,
          47.48463,
          47.471115,
          47.4992,
          47.493219,
          47.496684,
          47.506202,
          47.497133,
          47.508956,
          47.505721,
          47.505721,
          47.507305,
          47.506146,
          47.506146,
          47.501486,
          47.50214,
          47.505674,
          47.497829,
          47.5012,
          47.498923,
          47.50598,
          47.500738,
          47.500726,
          47.494747,
          47.495999,
          47.489317,
          47.489317,
          47.495516,
          47.495516,
          47.488126,
          47.486484,
          47.547342,
          47.490647,
          47.492474,
          47.499442,
          47.486652,
          47.489955,
          47.49579,
          47.493595,
          47.482497,
          47.489737,
          47.46563,
          47.462149,
          47.480066,
          47.475087,
          47.473349,
          47.458345,
          47.46181,
          47.476004,
          47.475984,
          47.476248,
          47.466762,
          47.466762,
          47.486242,
          47.4775,
          47.4775,
          47.4775,
          47.477567,
          47.478066,
          47.490677,
          47.498867,
          47.492028,
          47.495525,
          47.489932,
          47.502816,
          47.49943,
          47.49112,
          47.517458,
          47.515955,
          47.519883,
          47.512528,
          47.513452,
          47.504703,
          47.519523,
          47.513245,
          47.506014,
          47.5067,
          47.476762,
          47.504575,
          47.507463,
          47.517137,
          47.516555,
          47.45839,
          47.454925,
          47.463248,
          47.555246,
          47.549894,
          47.57376,
          47.558858,
          47.508855,
          47.523549,
          47.521118,
          47.503522,
          47.503522,
          47.48092,
          47.484816,
          47.484816,
          47.469434,
          47.483964,
          47.477581,
          47.447844,
          47.4664,
          47.4664,
          47.438538,
          47.432993,
          47.43859,
          47.43921,
          47.43921,
          47.431945,
          47.406532,
          47.429053,
          47.398927,
          47.416164,
          47.457917,
          47.447071,
          47.447071,
          47.440531,
          47.440531,
          47.430611,
          47.430611,
          47.432543,
          47.445827,
          47.431121,
          47.434712,
          47.443741,
          47.445088,
          47.442245,
          47.437211,
          47.397935,
          47.424091,
          47.424091,
          47.42672,
          47.426596,
          47.426936,
          47.407384,
          47.415531,
          47.415531,
          47.400538,
          47.417991,
          47.434654,
          47.395206,
          47.409277,
          47.42224,
          47.42224,
          47.41539,
          47.422933,
          47.424322,
          47.430574,
          47.3904,
          47.409047,
          47.53995,
          47.595578,
          47.559494,
          47.679685,
          47.661943,
          47.379394
         ],
         "legendgroup": "Nemzeti Dohánybolt",
         "lon": [
          18.950098,
          19.2839,
          19.1172,
          19.0466,
          19.1712,
          19.036907,
          19.02461,
          19.038374,
          19.039076,
          19.04021,
          19.032448,
          19.036907,
          19.036907,
          19.024078,
          19.037966,
          18.999446,
          19.025977,
          19.03027,
          19.036204,
          19.052791,
          19.044921,
          19.04078,
          19.043907,
          19.092734,
          19.037882,
          19.057279,
          19.037896,
          19.028903,
          19.099133,
          19.099133,
          19.086004,
          19.098292,
          19.101948,
          19.101948,
          19.084084,
          19.084084,
          19.084084,
          19.084084,
          19.120883,
          19.08176,
          19.07879,
          19.07879,
          19.11412,
          19.09862,
          19.068937,
          19.068937,
          19.073858,
          19.069683,
          19.07389,
          19.053112,
          19.055258,
          19.052042,
          19.050821,
          19.054188,
          19.068461,
          19.061618,
          19.061618,
          19.055359,
          19.06236,
          19.06236,
          19.080948,
          19.067685,
          19.069783,
          19.069564,
          19.065523,
          19.061919,
          19.076282,
          19.0692,
          19.069178,
          19.061083,
          19.059676,
          19.079975,
          19.079975,
          19.065734,
          19.065734,
          19.099905,
          19.089075,
          19.13543,
          19.071212,
          19.073194,
          19.083327,
          19.080326,
          19.07105,
          19.072027,
          19.081806,
          19.15854,
          19.137005,
          19.023252,
          19.05238,
          19.026278,
          19.039178,
          19.051129,
          19.040968,
          19.014957,
          19.036913,
          19.050102,
          19.053219,
          19.004799,
          19.004799,
          19.023726,
          19.04879,
          19.04879,
          19.04879,
          19.048728,
          19.047561,
          19.02406,
          19.023725,
          19.016083,
          19.00393,
          19.025924,
          19.002574,
          18.971745,
          19.011778,
          19.060594,
          19.049731,
          19.05929,
          19.05602,
          19.04931,
          19.135039,
          19.091149,
          19.146473,
          19.10381,
          19.105346,
          19.046279,
          19.092897,
          19.126194,
          19.108056,
          19.092174,
          19.143922,
          19.151743,
          19.149333,
          19.119489,
          19.117102,
          19.120899,
          19.120097,
          19.170996,
          19.17236,
          19.186259,
          19.2151,
          19.2151,
          19.25216,
          19.235715,
          19.235715,
          19.226752,
          19.276971,
          19.29265,
          19.167922,
          19.157899,
          19.157899,
          19.168353,
          19.207379,
          19.168445,
          19.165414,
          19.165414,
          19.175249,
          19.181051,
          19.175799,
          19.192055,
          19.207022,
          19.175316,
          19.190787,
          19.190787,
          19.185574,
          19.185574,
          19.174492,
          19.174492,
          19.181879,
          19.170242,
          19.195415,
          19.170379,
          19.12309,
          19.109705,
          19.112281,
          19.10168,
          19.098534,
          19.068131,
          19.068131,
          19.06749,
          19.06747,
          19.068945,
          19.079316,
          19.08025,
          19.08025,
          19.051081,
          19.065305,
          19.081259,
          19.043113,
          19.059529,
          19.06135,
          19.06135,
          19.062522,
          19.069467,
          19.071948,
          19.062186,
          18.980748,
          19.016143,
          19.224365,
          19.270913,
          19.09914,
          19.079483,
          19.074753,
          19.053599
         ],
         "marker": {
          "color": "#FFA15A"
         },
         "mode": "markers",
         "name": "Nemzeti Dohánybolt",
         "showlegend": true,
         "subplot": "mapbox",
         "type": "scattermapbox"
        },
        {
         "customdata": [
          [
           "Ügyfélközpont",
           "Budapest II. kerület",
           "Széll Kálmán tér M",
           "villamosmegálló",
           "BKK Ügyfélközpont",
           null
          ],
          [
           "Ügyfélközpont",
           "Budapest V. kerület",
           "Deák Ferenc tér M",
           "aluljáró",
           "BKK Ügyfélközpont",
           null
          ],
          [
           "Ügyfélközpont",
           "Budapest VIII. kerület",
           "Keleti pályaudvar M",
           "metró",
           "BKK Ügyfélközpont",
           null
          ],
          [
           "Ügyfélközpont",
           "Budapest, I. kerület",
           "Déli pályaudvar M",
           "metró",
           "BKK Ügyfélközpont",
           null
          ],
          [
           "BKK pénztár",
           "Budapest, I. kerület",
           "Batthyány tér M+H",
           "aluljáró",
           "BKK Ügyfélközpont",
           null
          ],
          [
           "Ügyfélközpont",
           "Budapest, III. kerület",
           "Szentlélek tér H",
           "HÉV",
           "BKK Ügyfélközpont",
           null
          ],
          [
           "BKK pénztár",
           "Budapest, IV. kerület",
           "Újpest-Központ M",
           "buszmegálló",
           "BKK Ügyfélközpont",
           null
          ],
          [
           "Viszonteladó",
           "Budapest, IX. kerület",
           "Közvágóhíd",
           "egyéb",
           "BKK Ügyfélközpont",
           null
          ],
          [
           "BKK pénztár",
           "Budapest, IX. kerület",
           "Nagyvárad tér",
           "egyéb",
           "BKK Ügyfélközpont",
           null
          ],
          [
           "Ügyfélközpont",
           "Budapest, IX. kerület",
           "Népliget M",
           "egyéb",
           "BKK Ügyfélközpont",
           null
          ],
          [
           "Viszonteladó",
           "Budapest, VI. kerület",
           "Bajcsy-Zsilinszky út",
           "MÁV",
           "BKK Ügyfélközpont",
           null
          ],
          [
           "Viszonteladó",
           "Budapest, VI. kerület",
           "Oktogon M",
           "MÁV",
           "BKK Ügyfélközpont",
           null
          ],
          [
           "Viszonteladó",
           "Budapest, VI. kerület",
           "Hősök tere M",
           "MÁV",
           "BKK Ügyfélközpont",
           null
          ],
          [
           "Ügyfélközpont",
           "Budapest, VII. kerület",
           "Rumbach Sebestyén utca 19-21.",
           "egyéb",
           "BKK Ügyfélközpont",
           null
          ],
          [
           "Viszonteladó",
           "Budapest, VII. kerület",
           "Deák Ferenc tér",
           "MÁV",
           "BKK Ügyfélközpont",
           null
          ],
          [
           "BKK pénztár",
           "Budapest, VII. kerület",
           "Blaha Lujza tér M",
           "metró",
           "BKK Ügyfélközpont",
           null
          ],
          [
           "BKK pénztár",
           "Budapest, X. kerület",
           "Örs vezér tere (Fehér út) M",
           "metró",
           "BKK Ügyfélközpont",
           null
          ],
          [
           "BKK pénztár",
           "Budapest, XI. kerület",
           "Móricz Zsigmond körtér",
           "metró",
           "BKK Ügyfélközpont",
           null
          ],
          [
           "Ügyfélközpont",
           "Budapest, XI. kerület",
           "Kelenföld M",
           "metró",
           "BKK Ügyfélközpont",
           null
          ],
          [
           "BKK pénztár",
           "Budapest, XIII. kerület",
           "Lehel tér M",
           "egyéb",
           "BKK Ügyfélközpont",
           null
          ],
          [
           "BKK pénztár",
           "Budapest, XIV. kerület",
           "Puskás Ferenc Stadion M",
           "metró",
           "BKK Ügyfélközpont",
           null
          ],
          [
           "Viszonteladó",
           "Budapest, XIV. kerület",
           "Széchenyi fürdő M",
           "MÁV",
           "BKK Ügyfélközpont",
           null
          ],
          [
           "Ügyfélközpont",
           "Budapest, XIX. kerület",
           "Kőbánya-Kispest M",
           "metró",
           "BKK Ügyfélközpont",
           null
          ],
          [
           "Viszonteladó",
           "Budapest, XV. kerület",
           "MÁV telep",
           "egyéb",
           "BKK Ügyfélközpont",
           null
          ],
          [
           "Ügyfélközpont",
           "Budapest, XVIII. kerület",
           "Liszt Ferenc Nemzetközi Repülőtér",
           "repülőtér",
           "BKK Ügyfélközpont",
           null
          ],
          [
           "Ügyfélközpont",
           "Budapest, XVIII. kerület",
           "Liszt Ferenc Nemzetközi Repülőtér",
           "repülőtér",
           "BKK Ügyfélközpont",
           null
          ],
          [
           "Ügyfélközpont",
           "Budapest, XXI. kerület",
           "Szent Imre tér",
           "HÉV",
           "BKK Ügyfélközpont",
           null
          ]
         ],
         "hovertemplate": "<b>%{hovertext}</b><br><br>organization=%{customdata[4]}<br>lat=%{lat}<br>lng=%{lon}<br>type=%{customdata[0]}<br>place=%{customdata[1]}<br>address=%{customdata[2]}<br>description=%{customdata[3]}<br>placed_at=%{customdata[5]}<extra></extra>",
         "hovertext": [
          "Ügyfélközpont",
          "Ügyfélközpont",
          "Ügyfélközpont",
          "Ügyfélközpont",
          "BKK pénztár",
          "Ügyfélközpont",
          "BKK pénztár",
          "Viszonteladó",
          "BKK pénztár",
          "Ügyfélközpont",
          "Viszonteladó",
          "Viszonteladó",
          "Viszonteladó",
          "Ügyfélközpont",
          "Viszonteladó",
          "BKK pénztár",
          "BKK pénztár",
          "BKK pénztár",
          "Ügyfélközpont",
          "BKK pénztár",
          "BKK pénztár",
          "Viszonteladó",
          "Ügyfélközpont",
          "Viszonteladó",
          "Ügyfélközpont",
          "Ügyfélközpont",
          "Ügyfélközpont"
         ],
         "lat": [
          47.507303,
          47.497697,
          47.500279,
          47.499886,
          47.506207,
          47.539525,
          47.560567,
          47.467508,
          47.479015,
          47.475273,
          47.499898,
          47.505107,
          47.514311,
          47.498485,
          47.497718,
          47.496981,
          47.502888,
          47.477306,
          47.464443,
          47.517285,
          47.500301,
          47.517493,
          47.463398,
          47.541572,
          47.431989,
          47.433251,
          47.430965
         ],
         "legendgroup": "BKK Ügyfélközpont",
         "lon": [
          19.023418,
          19.055024,
          19.083889,
          19.025133,
          19.038993,
          19.047117,
          19.090213,
          19.075912,
          19.089539,
          19.098733,
          19.05533,
          19.063162,
          19.076899,
          19.057269,
          19.054044,
          19.070358,
          19.135796,
          19.047173,
          19.018219,
          19.060151,
          19.106919,
          19.080979,
          19.1493,
          19.12158,
          19.26054,
          19.262133,
          19.06786
         ],
         "marker": {
          "color": "#19d3f3"
         },
         "mode": "markers",
         "name": "BKK Ügyfélközpont",
         "showlegend": true,
         "subplot": "mapbox",
         "type": "scattermapbox"
        },
        {
         "customdata": [
          [
           "Viszonteladó",
           "Budapest, IX. kerület",
           "Üllői út 131.",
           "buszmegálló",
           "Volánbusz Zrt. Bérletpénztár",
           null
          ],
          [
           "Viszonteladó",
           "Budapest, XI. kerület",
           "Kelenföld vasútállomás (Somogyi út 35)",
           "buszmegálló",
           "Volánbusz Zrt. Bérletpénztár",
           null
          ],
          [
           "Viszonteladó",
           "Budapest, XIII. kerület",
           "Újpest-Városkapu",
           "buszmegálló",
           "Volánbusz Zrt. Bérletpénztár",
           null
          ],
          [
           "Viszonteladó",
           "Budapest, XIII. kerület",
           "Árpád híd (Árbóc u. 1)",
           "buszmegálló",
           "Volánbusz Zrt. Bérletpénztár",
           null
          ],
          [
           "Viszonteladó",
           "Budapest, XIV. kerület",
           "Puskás F. Stadion, Hungária körút 48-52.",
           "buszmegálló",
           "Volánbusz Zrt. Bérletpénztár",
           null
          ],
          [
           "Viszonteladó",
           "Budapest, XXI. kerület",
           "Vermes Mikós utca",
           "buszmegálló",
           "Volánbusz Zrt. Bérletpénztár",
           null
          ],
          [
           "Viszonteladó",
           "Budapest, XXI. kerület",
           "Szent Imre tér",
           "buszmegálló",
           "Volánbusz Zrt. Bérletpénztár",
           null
          ],
          [
           "Viszonteladó",
           "Érd",
           "Budai út 13.",
           "buszmegálló",
           "Volánbusz Zrt. Bérletpénztár",
           null
          ],
          [
           "Viszonteladó",
           "Fót",
           "Móricz Zsigmond utca",
           "buszmegálló",
           "Volánbusz Zrt. Bérletpénztár",
           null
          ],
          [
           "Viszonteladó",
           "Gödöllő",
           "Szabadság u. 8.",
           "buszmegálló",
           "Volánbusz Zrt. Bérletpénztár",
           null
          ],
          [
           "Viszonteladó",
           "Szentendre",
           "Dózsa György utca 1.",
           "buszmegálló",
           "Volánbusz Zrt. Bérletpénztár",
           null
          ],
          [
           "Viszonteladó",
           "Szigethalom",
           "Mű út 3.",
           "buszmegálló",
           "Volánbusz Zrt. Bérletpénztár",
           null
          ]
         ],
         "hovertemplate": "<b>%{hovertext}</b><br><br>organization=%{customdata[4]}<br>lat=%{lat}<br>lng=%{lon}<br>type=%{customdata[0]}<br>place=%{customdata[1]}<br>address=%{customdata[2]}<br>description=%{customdata[3]}<br>placed_at=%{customdata[5]}<extra></extra>",
         "hovertext": [
          "Viszonteladó",
          "Viszonteladó",
          "Viszonteladó",
          "Viszonteladó",
          "Viszonteladó",
          "Viszonteladó",
          "Viszonteladó",
          "Viszonteladó",
          "Viszonteladó",
          "Viszonteladó",
          "Viszonteladó",
          "Viszonteladó"
         ],
         "lat": [
          47.474738,
          47.46388,
          47.558926,
          47.53182,
          47.500827,
          47.432209,
          47.430479,
          47.3782,
          47.617233,
          47.599153,
          47.65946,
          47.327897
         ],
         "legendgroup": "Volánbusz Zrt. Bérletpénztár",
         "lon": [
          19.098722,
          19.022682,
          19.079228,
          19.064713,
          19.107406,
          19.066685,
          19.070916,
          18.921188,
          19.195244,
          19.352625,
          19.075579,
          19.008262
         ],
         "marker": {
          "color": "#FF6692"
         },
         "mode": "markers",
         "name": "Volánbusz Zrt. Bérletpénztár",
         "showlegend": true,
         "subplot": "mapbox",
         "type": "scattermapbox"
        }
       ],
       "layout": {
        "height": 650,
        "legend": {
         "title": {
          "text": "organization"
         },
         "tracegroupgap": 0
        },
        "mapbox": {
         "center": {
          "lat": 47.49341206339712,
          "lon": 19.085860479665065
         },
         "domain": {
          "x": [
           0,
           1
          ],
          "y": [
           0,
           1
          ]
         },
         "style": "carto-positron",
         "zoom": 10
        },
        "template": {
         "data": {
          "bar": [
           {
            "error_x": {
             "color": "#2a3f5f"
            },
            "error_y": {
             "color": "#2a3f5f"
            },
            "marker": {
             "line": {
              "color": "#E5ECF6",
              "width": 0.5
             },
             "pattern": {
              "fillmode": "overlay",
              "size": 10,
              "solidity": 0.2
             }
            },
            "type": "bar"
           }
          ],
          "barpolar": [
           {
            "marker": {
             "line": {
              "color": "#E5ECF6",
              "width": 0.5
             },
             "pattern": {
              "fillmode": "overlay",
              "size": 10,
              "solidity": 0.2
             }
            },
            "type": "barpolar"
           }
          ],
          "carpet": [
           {
            "aaxis": {
             "endlinecolor": "#2a3f5f",
             "gridcolor": "white",
             "linecolor": "white",
             "minorgridcolor": "white",
             "startlinecolor": "#2a3f5f"
            },
            "baxis": {
             "endlinecolor": "#2a3f5f",
             "gridcolor": "white",
             "linecolor": "white",
             "minorgridcolor": "white",
             "startlinecolor": "#2a3f5f"
            },
            "type": "carpet"
           }
          ],
          "choropleth": [
           {
            "colorbar": {
             "outlinewidth": 0,
             "ticks": ""
            },
            "type": "choropleth"
           }
          ],
          "contour": [
           {
            "colorbar": {
             "outlinewidth": 0,
             "ticks": ""
            },
            "colorscale": [
             [
              0,
              "#0d0887"
             ],
             [
              0.1111111111111111,
              "#46039f"
             ],
             [
              0.2222222222222222,
              "#7201a8"
             ],
             [
              0.3333333333333333,
              "#9c179e"
             ],
             [
              0.4444444444444444,
              "#bd3786"
             ],
             [
              0.5555555555555556,
              "#d8576b"
             ],
             [
              0.6666666666666666,
              "#ed7953"
             ],
             [
              0.7777777777777778,
              "#fb9f3a"
             ],
             [
              0.8888888888888888,
              "#fdca26"
             ],
             [
              1,
              "#f0f921"
             ]
            ],
            "type": "contour"
           }
          ],
          "contourcarpet": [
           {
            "colorbar": {
             "outlinewidth": 0,
             "ticks": ""
            },
            "type": "contourcarpet"
           }
          ],
          "heatmap": [
           {
            "colorbar": {
             "outlinewidth": 0,
             "ticks": ""
            },
            "colorscale": [
             [
              0,
              "#0d0887"
             ],
             [
              0.1111111111111111,
              "#46039f"
             ],
             [
              0.2222222222222222,
              "#7201a8"
             ],
             [
              0.3333333333333333,
              "#9c179e"
             ],
             [
              0.4444444444444444,
              "#bd3786"
             ],
             [
              0.5555555555555556,
              "#d8576b"
             ],
             [
              0.6666666666666666,
              "#ed7953"
             ],
             [
              0.7777777777777778,
              "#fb9f3a"
             ],
             [
              0.8888888888888888,
              "#fdca26"
             ],
             [
              1,
              "#f0f921"
             ]
            ],
            "type": "heatmap"
           }
          ],
          "heatmapgl": [
           {
            "colorbar": {
             "outlinewidth": 0,
             "ticks": ""
            },
            "colorscale": [
             [
              0,
              "#0d0887"
             ],
             [
              0.1111111111111111,
              "#46039f"
             ],
             [
              0.2222222222222222,
              "#7201a8"
             ],
             [
              0.3333333333333333,
              "#9c179e"
             ],
             [
              0.4444444444444444,
              "#bd3786"
             ],
             [
              0.5555555555555556,
              "#d8576b"
             ],
             [
              0.6666666666666666,
              "#ed7953"
             ],
             [
              0.7777777777777778,
              "#fb9f3a"
             ],
             [
              0.8888888888888888,
              "#fdca26"
             ],
             [
              1,
              "#f0f921"
             ]
            ],
            "type": "heatmapgl"
           }
          ],
          "histogram": [
           {
            "marker": {
             "pattern": {
              "fillmode": "overlay",
              "size": 10,
              "solidity": 0.2
             }
            },
            "type": "histogram"
           }
          ],
          "histogram2d": [
           {
            "colorbar": {
             "outlinewidth": 0,
             "ticks": ""
            },
            "colorscale": [
             [
              0,
              "#0d0887"
             ],
             [
              0.1111111111111111,
              "#46039f"
             ],
             [
              0.2222222222222222,
              "#7201a8"
             ],
             [
              0.3333333333333333,
              "#9c179e"
             ],
             [
              0.4444444444444444,
              "#bd3786"
             ],
             [
              0.5555555555555556,
              "#d8576b"
             ],
             [
              0.6666666666666666,
              "#ed7953"
             ],
             [
              0.7777777777777778,
              "#fb9f3a"
             ],
             [
              0.8888888888888888,
              "#fdca26"
             ],
             [
              1,
              "#f0f921"
             ]
            ],
            "type": "histogram2d"
           }
          ],
          "histogram2dcontour": [
           {
            "colorbar": {
             "outlinewidth": 0,
             "ticks": ""
            },
            "colorscale": [
             [
              0,
              "#0d0887"
             ],
             [
              0.1111111111111111,
              "#46039f"
             ],
             [
              0.2222222222222222,
              "#7201a8"
             ],
             [
              0.3333333333333333,
              "#9c179e"
             ],
             [
              0.4444444444444444,
              "#bd3786"
             ],
             [
              0.5555555555555556,
              "#d8576b"
             ],
             [
              0.6666666666666666,
              "#ed7953"
             ],
             [
              0.7777777777777778,
              "#fb9f3a"
             ],
             [
              0.8888888888888888,
              "#fdca26"
             ],
             [
              1,
              "#f0f921"
             ]
            ],
            "type": "histogram2dcontour"
           }
          ],
          "mesh3d": [
           {
            "colorbar": {
             "outlinewidth": 0,
             "ticks": ""
            },
            "type": "mesh3d"
           }
          ],
          "parcoords": [
           {
            "line": {
             "colorbar": {
              "outlinewidth": 0,
              "ticks": ""
             }
            },
            "type": "parcoords"
           }
          ],
          "pie": [
           {
            "automargin": true,
            "type": "pie"
           }
          ],
          "scatter": [
           {
            "marker": {
             "colorbar": {
              "outlinewidth": 0,
              "ticks": ""
             }
            },
            "type": "scatter"
           }
          ],
          "scatter3d": [
           {
            "line": {
             "colorbar": {
              "outlinewidth": 0,
              "ticks": ""
             }
            },
            "marker": {
             "colorbar": {
              "outlinewidth": 0,
              "ticks": ""
             }
            },
            "type": "scatter3d"
           }
          ],
          "scattercarpet": [
           {
            "marker": {
             "colorbar": {
              "outlinewidth": 0,
              "ticks": ""
             }
            },
            "type": "scattercarpet"
           }
          ],
          "scattergeo": [
           {
            "marker": {
             "colorbar": {
              "outlinewidth": 0,
              "ticks": ""
             }
            },
            "type": "scattergeo"
           }
          ],
          "scattergl": [
           {
            "marker": {
             "colorbar": {
              "outlinewidth": 0,
              "ticks": ""
             }
            },
            "type": "scattergl"
           }
          ],
          "scattermapbox": [
           {
            "marker": {
             "colorbar": {
              "outlinewidth": 0,
              "ticks": ""
             }
            },
            "type": "scattermapbox"
           }
          ],
          "scatterpolar": [
           {
            "marker": {
             "colorbar": {
              "outlinewidth": 0,
              "ticks": ""
             }
            },
            "type": "scatterpolar"
           }
          ],
          "scatterpolargl": [
           {
            "marker": {
             "colorbar": {
              "outlinewidth": 0,
              "ticks": ""
             }
            },
            "type": "scatterpolargl"
           }
          ],
          "scatterternary": [
           {
            "marker": {
             "colorbar": {
              "outlinewidth": 0,
              "ticks": ""
             }
            },
            "type": "scatterternary"
           }
          ],
          "surface": [
           {
            "colorbar": {
             "outlinewidth": 0,
             "ticks": ""
            },
            "colorscale": [
             [
              0,
              "#0d0887"
             ],
             [
              0.1111111111111111,
              "#46039f"
             ],
             [
              0.2222222222222222,
              "#7201a8"
             ],
             [
              0.3333333333333333,
              "#9c179e"
             ],
             [
              0.4444444444444444,
              "#bd3786"
             ],
             [
              0.5555555555555556,
              "#d8576b"
             ],
             [
              0.6666666666666666,
              "#ed7953"
             ],
             [
              0.7777777777777778,
              "#fb9f3a"
             ],
             [
              0.8888888888888888,
              "#fdca26"
             ],
             [
              1,
              "#f0f921"
             ]
            ],
            "type": "surface"
           }
          ],
          "table": [
           {
            "cells": {
             "fill": {
              "color": "#EBF0F8"
             },
             "line": {
              "color": "white"
             }
            },
            "header": {
             "fill": {
              "color": "#C8D4E3"
             },
             "line": {
              "color": "white"
             }
            },
            "type": "table"
           }
          ]
         },
         "layout": {
          "annotationdefaults": {
           "arrowcolor": "#2a3f5f",
           "arrowhead": 0,
           "arrowwidth": 1
          },
          "autotypenumbers": "strict",
          "coloraxis": {
           "colorbar": {
            "outlinewidth": 0,
            "ticks": ""
           }
          },
          "colorscale": {
           "diverging": [
            [
             0,
             "#8e0152"
            ],
            [
             0.1,
             "#c51b7d"
            ],
            [
             0.2,
             "#de77ae"
            ],
            [
             0.3,
             "#f1b6da"
            ],
            [
             0.4,
             "#fde0ef"
            ],
            [
             0.5,
             "#f7f7f7"
            ],
            [
             0.6,
             "#e6f5d0"
            ],
            [
             0.7,
             "#b8e186"
            ],
            [
             0.8,
             "#7fbc41"
            ],
            [
             0.9,
             "#4d9221"
            ],
            [
             1,
             "#276419"
            ]
           ],
           "sequential": [
            [
             0,
             "#0d0887"
            ],
            [
             0.1111111111111111,
             "#46039f"
            ],
            [
             0.2222222222222222,
             "#7201a8"
            ],
            [
             0.3333333333333333,
             "#9c179e"
            ],
            [
             0.4444444444444444,
             "#bd3786"
            ],
            [
             0.5555555555555556,
             "#d8576b"
            ],
            [
             0.6666666666666666,
             "#ed7953"
            ],
            [
             0.7777777777777778,
             "#fb9f3a"
            ],
            [
             0.8888888888888888,
             "#fdca26"
            ],
            [
             1,
             "#f0f921"
            ]
           ],
           "sequentialminus": [
            [
             0,
             "#0d0887"
            ],
            [
             0.1111111111111111,
             "#46039f"
            ],
            [
             0.2222222222222222,
             "#7201a8"
            ],
            [
             0.3333333333333333,
             "#9c179e"
            ],
            [
             0.4444444444444444,
             "#bd3786"
            ],
            [
             0.5555555555555556,
             "#d8576b"
            ],
            [
             0.6666666666666666,
             "#ed7953"
            ],
            [
             0.7777777777777778,
             "#fb9f3a"
            ],
            [
             0.8888888888888888,
             "#fdca26"
            ],
            [
             1,
             "#f0f921"
            ]
           ]
          },
          "colorway": [
           "#636efa",
           "#EF553B",
           "#00cc96",
           "#ab63fa",
           "#FFA15A",
           "#19d3f3",
           "#FF6692",
           "#B6E880",
           "#FF97FF",
           "#FECB52"
          ],
          "font": {
           "color": "#2a3f5f"
          },
          "geo": {
           "bgcolor": "white",
           "lakecolor": "white",
           "landcolor": "#E5ECF6",
           "showlakes": true,
           "showland": true,
           "subunitcolor": "white"
          },
          "hoverlabel": {
           "align": "left"
          },
          "hovermode": "closest",
          "mapbox": {
           "style": "light"
          },
          "paper_bgcolor": "white",
          "plot_bgcolor": "#E5ECF6",
          "polar": {
           "angularaxis": {
            "gridcolor": "white",
            "linecolor": "white",
            "ticks": ""
           },
           "bgcolor": "#E5ECF6",
           "radialaxis": {
            "gridcolor": "white",
            "linecolor": "white",
            "ticks": ""
           }
          },
          "scene": {
           "xaxis": {
            "backgroundcolor": "#E5ECF6",
            "gridcolor": "white",
            "gridwidth": 2,
            "linecolor": "white",
            "showbackground": true,
            "ticks": "",
            "zerolinecolor": "white"
           },
           "yaxis": {
            "backgroundcolor": "#E5ECF6",
            "gridcolor": "white",
            "gridwidth": 2,
            "linecolor": "white",
            "showbackground": true,
            "ticks": "",
            "zerolinecolor": "white"
           },
           "zaxis": {
            "backgroundcolor": "#E5ECF6",
            "gridcolor": "white",
            "gridwidth": 2,
            "linecolor": "white",
            "showbackground": true,
            "ticks": "",
            "zerolinecolor": "white"
           }
          },
          "shapedefaults": {
           "line": {
            "color": "#2a3f5f"
           }
          },
          "ternary": {
           "aaxis": {
            "gridcolor": "white",
            "linecolor": "white",
            "ticks": ""
           },
           "baxis": {
            "gridcolor": "white",
            "linecolor": "white",
            "ticks": ""
           },
           "bgcolor": "#E5ECF6",
           "caxis": {
            "gridcolor": "white",
            "linecolor": "white",
            "ticks": ""
           }
          },
          "title": {
           "x": 0.05
          },
          "xaxis": {
           "automargin": true,
           "gridcolor": "white",
           "linecolor": "white",
           "ticks": "",
           "title": {
            "standoff": 15
           },
           "zerolinecolor": "white",
           "zerolinewidth": 2
          },
          "yaxis": {
           "automargin": true,
           "gridcolor": "white",
           "linecolor": "white",
           "ticks": "",
           "title": {
            "standoff": 15
           },
           "zerolinecolor": "white",
           "zerolinewidth": 2
          }
         }
        },
        "title": {
         "text": "BKK jegyértékesítők elhelyezkedése"
        },
        "width": 950
       }
      },
      "text/html": [
       "<div>                            <div id=\"71bfca77-c345-4bc6-b71e-713c77afdccc\" class=\"plotly-graph-div\" style=\"height:650px; width:950px;\"></div>            <script type=\"text/javascript\">                require([\"plotly\"], function(Plotly) {                    window.PLOTLYENV=window.PLOTLYENV || {};                                    if (document.getElementById(\"71bfca77-c345-4bc6-b71e-713c77afdccc\")) {                    Plotly.newPlot(                        \"71bfca77-c345-4bc6-b71e-713c77afdccc\",                        [{\"customdata\":[[\"Viszontelad\\u00f3\",\"Als\\u00f3g\\u00f6d\",\"B\\u00e9ke \\u00fat\",\"M\\u00c1V\",\"M\\u00c1V-START Zrt. p\\u00e9nzt\\u00e1r\",null],[\"Viszontelad\\u00f3\",\"Biatorb\\u00e1gy\",\"D\\u00f3zsa Gy\\u00f6rgy \\u00fat 1.\",\"M\\u00c1V\",\"M\\u00c1V-START Zrt. p\\u00e9nzt\\u00e1r\",null],[\"Viszontelad\\u00f3\",\"Budapest Keleti , VIII. ker\\u00fclet\",\"Keleti p\\u00e1lyaudvar 9. v\\u00e1g\\u00e1ny melletti belf\\u00f6ldi p\\u00e9nzt\\u00e1r\",\"M\\u00c1V\",\"M\\u00c1V-START Zrt. p\\u00e9nzt\\u00e1r\",null],[\"Viszontelad\\u00f3\",\"Budapest XI. ker\\u00fclet\",\"Budapest- Kelenf\\u00f6ld\",\"M\\u00c1V\",\"M\\u00c1V-START Zrt. p\\u00e9nzt\\u00e1r\",null],[\"Viszontelad\\u00f3\",\"Budapest, I. ker\\u00fclet\",\"Budapest- D\\u00e9li\",\"M\\u00c1V\",\"M\\u00c1V-START Zrt. p\\u00e9nzt\\u00e1r\",null],[\"Viszontelad\\u00f3\",\"Budapest, VI. ker\\u00fclet\",\"Budapest- Nyugati \",\"M\\u00c1V\",\"M\\u00c1V-START Zrt. p\\u00e9nzt\\u00e1r\",null],[\"Viszontelad\\u00f3\",\"Budapest, VIII. ker\\u00fclet\",\"Budapest- Keleti alagsori belf\\u00f6ldi p\\u00e9nzt\\u00e1rak\",\"M\\u00c1V\",\"M\\u00c1V-START Zrt. p\\u00e9nzt\\u00e1r\",null],[\"Viszontelad\\u00f3\",\"Budapest, XIV. ker\\u00fclet\",\"Budapest- Zugl\\u00f3\",\"M\\u00c1V\",\"M\\u00c1V-START Zrt. p\\u00e9nzt\\u00e1r\",null],[\"Viszontelad\\u00f3\",\"D\\u00e9legyh\\u00e1za\",\"Vas\\u00fat\\u00e1llom\\u00e1s\",\"M\\u00c1V\",\"M\\u00c1V-START Zrt. p\\u00e9nzt\\u00e1r\",null],[\"Viszontelad\\u00f3\",\"Dunaharaszti\",\"Vas\\u00fat\\u00e1llom\\u00e1s\",\"M\\u00c1V\",\"M\\u00c1V-START Zrt. p\\u00e9nzt\\u00e1r\",null],[\"Viszontelad\\u00f3\",\"Dunakeszi\",\"Verseny utca 1.\",\"M\\u00c1V\",\"M\\u00c1V-START Zrt. p\\u00e9nzt\\u00e1r\",null],[\"Viszontelad\\u00f3\",\"Dunakeszi-Gy\\u00e1rtelep\",\"Vas\\u00fat utca 1.\",\"M\\u00c1V\",\"M\\u00c1V-START Zrt. p\\u00e9nzt\\u00e1r\",null],[\"Viszontelad\\u00f3\",\"Dunavars\\u00e1ny\",\"Vas\\u00fat sor 1/b\",\"M\\u00c1V\",\"M\\u00c1V-START Zrt. p\\u00e9nzt\\u00e1r\",null],[\"Viszontelad\\u00f3\",\"Ercsi\",\"Vas\\u00fat\\u00e1llom\\u00e1s utca 5.\",\"M\\u00c1V\",\"M\\u00c1V-START Zrt. p\\u00e9nzt\\u00e1r\",null],[\"Viszontelad\\u00f3\",\"\\u00c9rd\",\"Tolm\\u00e1cs utca 3.\",\"M\\u00c1V\",\"M\\u00c1V-START Zrt. p\\u00e9nzt\\u00e1r\",null],[\"Viszontelad\\u00f3\",\"\\u00c9rd als\\u00f3\",\"Budai \\u00fat 13.\",\"M\\u00c1V\",\"M\\u00c1V-START Zrt. p\\u00e9nzt\\u00e1r\",null],[\"Viszontelad\\u00f3\",\"\\u00c9rd fels\\u0151\",\"Di\\u00f3sdi \\u00fat 21.\",\"M\\u00c1V\",\"M\\u00c1V-START Zrt. p\\u00e9nzt\\u00e1r\",null],[\"Viszontelad\\u00f3\",\"\\u00c9rdliget\",\"Temes utca 2.\",\"M\\u00c1V\",\"M\\u00c1V-START Zrt. p\\u00e9nzt\\u00e1r\",null],[\"Viszontelad\\u00f3\",\"Erd\\u0151kertes\",\"Vas\\u00fat\\u00e1llom\\u00e1s\",\"M\\u00c1V\",\"M\\u00c1V-START Zrt. p\\u00e9nzt\\u00e1r\",null],[\"Viszontelad\\u00f3\",\"Ferihegy\",\"Ferihegy vas\\u00fat\\u00e1llom\\u00e1s \",\"M\\u00c1V\",\"M\\u00c1V-START Zrt. p\\u00e9nzt\\u00e1r\",null],[\"Viszontelad\\u00f3\",\"F\\u00f3t\",\"Kossuth Lajos utca 89.\",\"M\\u00c1V\",\"M\\u00c1V-START Zrt. p\\u00e9nzt\\u00e1r\",null],[\"Viszontelad\\u00f3\",\"G\\u00f6d\",\"R\\u00e1k\\u00f3czi Ferenc utca 24.\",\"M\\u00c1V\",\"M\\u00c1V-START Zrt. p\\u00e9nzt\\u00e1r\",null],[\"Viszontelad\\u00f3\",\"G\\u00f6d\\u00f6ll\\u0151\",\"\\u00c1llom\\u00e1s t\\u00e9r 1-3.\",\"M\\u00c1V\",\"M\\u00c1V-START Zrt. p\\u00e9nzt\\u00e1r\",null],[\"Viszontelad\\u00f3\",\"Gy\\u00f6mr\\u0151\",\"Vas\\u00fat\\u00e1llom\\u00e1s\",\"M\\u00c1V\",\"M\\u00c1V-START Zrt. p\\u00e9nzt\\u00e1r\",null],[\"Viszontelad\\u00f3\",\"Herceghalom\",\"Vas\\u00fat\\u00e1llom\\u00e1s\",\"M\\u00c1V\",\"M\\u00c1V-START Zrt. p\\u00e9nzt\\u00e1r\",null],[\"Viszontelad\\u00f3\",\"Isaszeg\",\"R\\u00f3zsa utca 1.\",\"M\\u00c1V\",\"M\\u00c1V-START Zrt. p\\u00e9nzt\\u00e1r\",null],[\"Viszontelad\\u00f3\",\"K\\u0151b\\u00e1nya als\\u00f3, Budapest X. ker\\u00fclet\",\"Liget t\\u00e9r 1.\",\"M\\u00c1V\",\"M\\u00c1V-START Zrt. p\\u00e9nzt\\u00e1r\",null],[\"Viszontelad\\u00f3\",\"K\\u0151b\\u00e1nya fels\\u0151, Budapest X. ker\\u00fclet\",\"Kolozsv\\u00e1ri utca 2-4.\",\"M\\u00c1V\",\"M\\u00c1V-START Zrt. p\\u00e9nzt\\u00e1r\",null],[\"Viszontelad\\u00f3\",\"K\\u0151b\\u00e1nya-Kispest, Budapest X. ker\\u00fclet\",\"Vasp\\u00e1lya utca 10.\",\"M\\u00c1V\",\"M\\u00c1V-START Zrt. p\\u00e9nzt\\u00e1r\",null],[\"Viszontelad\\u00f3\",\"Magl\\u00f3d\",\"Bellus J\\u00e1nos t\\u00e9r 2.\",\"M\\u00c1V\",\"M\\u00c1V-START Zrt. p\\u00e9nzt\\u00e1r\",null],[\"Viszontelad\\u00f3\",\"Magl\\u00f3di nyaral\\u00f3\",\"\\u00c1rp\\u00e1d vez\\u00e9r t\\u00e9r\",\"M\\u00c1V\",\"M\\u00c1V-START Zrt. p\\u00e9nzt\\u00e1r\",null],[\"Viszontelad\\u00f3\",\"Martonv\\u00e1s\\u00e1r\",\"Brunszvik Ter\\u00e9z utca 4.\",\"M\\u00c1V\",\"M\\u00c1V-START Zrt. p\\u00e9nzt\\u00e1r\",null],[\"Viszontelad\\u00f3\",\"\\u00d3csa\",\"Damjanich \\u00fat 2.\",\"M\\u00c1V\",\"M\\u00c1V-START Zrt. p\\u00e9nzt\\u00e1r\",null],[\"Viszontelad\\u00f3\",\"\\u0150rbotty\\u00e1n\",\"\\u00c1llom\\u00e1s utca 6.\",\"M\\u00c1V\",\"M\\u00c1V-START Zrt. p\\u00e9nzt\\u00e1r\",null],[\"Viszontelad\\u00f3\",\"P\\u00e9cel\",\"\\u00c1llom\\u00e1s utca 1.\",\"M\\u00c1V\",\"M\\u00c1V-START Zrt. p\\u00e9nzt\\u00e1r\",null],[\"Viszontelad\\u00f3\",\"Pesterzs\\u00e9bet\",\"Zodonyi  utca\",\"M\\u00c1V\",\"M\\u00c1V-START Zrt. p\\u00e9nzt\\u00e1r\",null],[\"Viszontelad\\u00f3\",\"Piliscsaba\",\"Vas\\u00fat utca 64.\",\"M\\u00c1V\",\"M\\u00c1V-START Zrt. p\\u00e9nzt\\u00e1r\",null],[\"Viszontelad\\u00f3\",\"Pilisv\\u00f6r\\u00f6sv\\u00e1r\",\"Vas\\u00fat utca 1.\",\"M\\u00c1V\",\"M\\u00c1V-START Zrt. p\\u00e9nzt\\u00e1r\",null],[\"Viszontelad\\u00f3\",\"R\\u00e1kos, Budapest X. ker\\u00fclet\",\"J\\u00e1szber\\u00e9nyi \\u00fat 90-92\",\"M\\u00c1V\",\"M\\u00c1V-START Zrt. p\\u00e9nzt\\u00e1r\",null],[\"Viszontelad\\u00f3\",\"R\\u00e1kospalota-\\u00dajpest, Budapest IV. ker\\u00fclet\",\"Szil\\u00e1gyi utca 9.\",\"M\\u00c1V\",\"M\\u00c1V-START Zrt. p\\u00e9nzt\\u00e1r\",null],[\"Viszontelad\\u00f3\",\"Solym\\u00e1r\",\"Vas\\u00fat u. 1\",\"M\\u00c1V\",\"M\\u00c1V-START Zrt. p\\u00e9nzt\\u00e1r\",null],[\"Viszontelad\\u00f3\",\"Sz\\u00e1zhalombatta\",\"V\\u00e1roskapu \\u00fat 1.\",\"M\\u00c1V\",\"M\\u00c1V-START Zrt. p\\u00e9nzt\\u00e1r\",null],[\"Viszontelad\\u00f3\",\"T\\u00e1rnok\",\"Vas\\u00fat\\u00e1llom\\u00e1s\",\"M\\u00c1V\",\"M\\u00c1V-START Zrt. p\\u00e9nzt\\u00e1r\",null],[\"Viszontelad\\u00f3\",\"\\u00dajpest meg\\u00e1ll\\u00f3hely\",\"Bp., XIII. ker. Balzsam utca 1.\",\"M\\u00c1V\",\"M\\u00c1V-START Zrt. p\\u00e9nzt\\u00e1r\",null],[\"Viszontelad\\u00f3\",\"Veresegyh\\u00e1z\",\"\\u00c1llom\\u00e1s utca 2.\",\"M\\u00c1V\",\"M\\u00c1V-START Zrt. p\\u00e9nzt\\u00e1r\",null]],\"hovertemplate\":\"<b>%{hovertext}</b><br><br>organization=%{customdata[4]}<br>lat=%{lat}<br>lng=%{lon}<br>type=%{customdata[0]}<br>place=%{customdata[1]}<br>address=%{customdata[2]}<br>description=%{customdata[3]}<br>placed_at=%{customdata[5]}<extra></extra>\",\"hovertext\":[\"Viszontelad\\u00f3\",\"Viszontelad\\u00f3\",\"Viszontelad\\u00f3\",\"Viszontelad\\u00f3\",\"Viszontelad\\u00f3\",\"Viszontelad\\u00f3\",\"Viszontelad\\u00f3\",\"Viszontelad\\u00f3\",\"Viszontelad\\u00f3\",\"Viszontelad\\u00f3\",\"Viszontelad\\u00f3\",\"Viszontelad\\u00f3\",\"Viszontelad\\u00f3\",\"Viszontelad\\u00f3\",\"Viszontelad\\u00f3\",\"Viszontelad\\u00f3\",\"Viszontelad\\u00f3\",\"Viszontelad\\u00f3\",\"Viszontelad\\u00f3\",\"Viszontelad\\u00f3\",\"Viszontelad\\u00f3\",\"Viszontelad\\u00f3\",\"Viszontelad\\u00f3\",\"Viszontelad\\u00f3\",\"Viszontelad\\u00f3\",\"Viszontelad\\u00f3\",\"Viszontelad\\u00f3\",\"Viszontelad\\u00f3\",\"Viszontelad\\u00f3\",\"Viszontelad\\u00f3\",\"Viszontelad\\u00f3\",\"Viszontelad\\u00f3\",\"Viszontelad\\u00f3\",\"Viszontelad\\u00f3\",\"Viszontelad\\u00f3\",\"Viszontelad\\u00f3\",\"Viszontelad\\u00f3\",\"Viszontelad\\u00f3\",\"Viszontelad\\u00f3\",\"Viszontelad\\u00f3\",\"Viszontelad\\u00f3\",\"Viszontelad\\u00f3\",\"Viszontelad\\u00f3\",\"Viszontelad\\u00f3\",\"Viszontelad\\u00f3\"],\"lat\":[47.677739,47.479982,47.499839,47.464371,47.498961,47.51068,47.500365,47.51091,47.25288,47.352597,47.625763,47.643568,47.273819,47.24715,47.369873,47.37974,47.381266,47.389739,47.661861,47.437538,47.611428,47.687713,47.592327,47.429364,47.493753,47.537427,47.482879,47.491888,47.463491,47.439039,47.434201,47.320861,47.301404,47.685632,47.493792,47.433642,47.638219,47.614107,47.48872,47.565672,47.596161,47.322592,47.365628,47.558744,47.649068],\"legendgroup\":\"M\\u00c1V-START Zrt. p\\u00e9nzt\\u00e1r\",\"lon\":[19.134793,18.834782,19.087746,19.020471,19.025498,19.057447,19.084725,19.101997,19.060754,19.096803,19.13594,19.135003,19.06461,18.875524,18.900784,18.923119,18.922402,18.93731,19.295844,19.223223,19.182034,19.137685,19.35875,19.393058,18.743327,19.389109,19.127248,19.133804,19.149911,19.340125,19.362987,18.781438,19.232676,19.284012,19.338322,19.097152,18.829423,18.902364,19.174134,19.112328,18.950106,18.898963,18.874211,19.07972,19.288786],\"marker\":{\"color\":\"#636efa\"},\"mode\":\"markers\",\"name\":\"M\\u00c1V-START Zrt. p\\u00e9nzt\\u00e1r\",\"showlegend\":true,\"subplot\":\"mapbox\",\"type\":\"scattermapbox\"},{\"customdata\":[[\"BKK automata\",\"Budakal\\u00e1sz\",\"Szentistv\\u00e1ntelep\",\"H\\u00c9V\",\"BKK-automata\",\"2018-06-21T00:00:00\"],[\"BKK automata\",\"Budakal\\u00e1sz\",\"Budakal\\u00e1sz, Lenfon\\u00f3 H\",\"H\\u00c9V\",\"BKK-automata\",\"2014-09-20T00:00:00\"],[\"BKK automata\",\"Budakeszi\",\"D\\u00f3zsa Gy\\u00f6rgy t\\u00e9r\",\"buszmeg\\u00e1ll\\u00f3\",\"BKK-automata\",\"2015-12-28T00:00:00\"],[\"BKK automata\",\"Budakeszi\",\"v\\u00e1rosh\\u00e1za\",\"buszmeg\\u00e1ll\\u00f3\",\"BKK-automata\",\"2014-12-03T00:00:00\"],[\"BKK automata\",\"Buda\\u00f6rs\",\"Buda\\u00f6rsi lak\\u00f3telep\",\"buszmeg\\u00e1ll\\u00f3\",\"BKK-automata\",\"2014-04-29T00:00:00\"],[\"BKK automata\",\"Buda\\u00f6rs\",\"Buda\\u00f6rs, v\\u00e1rosh\\u00e1za\",\"buszmeg\\u00e1ll\\u00f3\",\"BKK-automata\",\"2015-12-28T00:00:00\"],[\"BKK automata\",\"Buda\\u00f6rs\",\"Templom t\\u00e9r\",\"buszmeg\\u00e1ll\\u00f3\",\"BKK-automata\",\"2014-09-10T00:00:00\"],[\"BKK automata\",\"Budapest I. ker\\u00fclet\",\"Szenth\\u00e1roms\\u00e1g t\\u00e9r\",\"buszmeg\\u00e1ll\\u00f3\",\"BKK-automata\",\"2019-12-12T00:00:00\"],[\"BKK automata\",\"Budapest I. ker\\u00fclet\",\"Batthy\\u00e1ny t\\u00e9r\",\"alulj\\u00e1r\\u00f3\",\"BKK-automata\",\"2014-12-12T00:00:00\"],[\"BKK automata\",\"Budapest I. ker\\u00fclet\",\"Clark \\u00c1d\\u00e1m t\\u00e9r\",\"buszmeg\\u00e1ll\\u00f3\",\"BKK-automata\",\"2016-09-05T00:00:00\"],[\"BKK automata\",\"Budapest II. ker\\u00fclet\",\"Sz\\u00e9ll K\\u00e1lm\\u00e1n t\\u00e9r M\",\"metr\\u00f3\",\"BKK-automata\",\"2014-12-17T00:00:00\"],[\"BKK automata\",\"Budapest II. ker\\u00fclet\",\"Sz\\u00e9ll K\\u00e1lm\\u00e1n t\\u00e9r M\",\"metr\\u00f3\",\"BKK-automata\",\"2014-12-17T00:00:00\"],[\"BKK automata\",\"Budapest II. ker\\u00fclet\",\"Sz\\u00e9na t\\u00e9r\",\"villamosmeg\\u00e1ll\\u00f3\",\"BKK-automata\",\"2016-08-31T00:00:00\"],[\"BKK automata\",\"Budapest III. ker\\u00fclet\",\"B\\u00e9csi \\u00fat\",\"villamosmeg\\u00e1ll\\u00f3\",\"BKK-automata\",\"2016-08-31T00:00:00\"],[\"BKK automata\",\"Budapest, I. ker\\u00fclet\",\"Batthy\\u00e1ny t\\u00e9r M+H\",\"alulj\\u00e1r\\u00f3\",\"BKK-automata\",\"2014-12-12T00:00:00\"],[\"BKK automata\",\"Budapest, I. ker\\u00fclet\",\"Batthy\\u00e1ny t\\u00e9r M+H\",\"alulj\\u00e1r\\u00f3\",\"BKK-automata\",\"2016-08-31T00:00:00\"],[\"BKK automata\",\"Budapest, I. ker\\u00fclet\",\"D\\u00e9li p\\u00e1lyaudvar \",\"buszmeg\\u00e1ll\\u00f3\",\"BKK-automata\",\"2014-08-28T00:00:00\"],[\"BKK automata\",\"Budapest, I. ker\\u00fclet\",\"Krisztina t\\u00e9r\",\"egy\\u00e9b\",\"BKK-automata\",\"2015-12-29T00:00:00\"],[\"BKK automata\",\"Budapest, I. ker\\u00fclet\",\"D\\u00e9li p\\u00e1lyaudvar M\",\"metr\\u00f3\",\"BKK-automata\",\"2014-05-02T00:00:00\"],[\"BKK automata\",\"Budapest, I. ker\\u00fclet\",\"D\\u00e9li p\\u00e1lyaudvar M\",\"metr\\u00f3\",\"BKK-automata\",\"2014-05-02T00:00:00\"],[\"BKK automata\",\"Budapest, I. ker\\u00fclet\",\"D\\u00e9li p\\u00e1lyaudvar M\",\"metr\\u00f3\",\"BKK-automata\",\"2014-05-02T00:00:00\"],[\"BKK automata\",\"Budapest, I. ker\\u00fclet\",\"D\\u00e9li p\\u00e1lyaudvar M\",\"metr\\u00f3\",\"BKK-automata\",\"2014-05-02T00:00:00\"],[\"BKK automata\",\"Budapest, I. ker\\u00fclet\",\"Batthy\\u00e1ny t\\u00e9r M+H\",\"buszmeg\\u00e1ll\\u00f3\",\"BKK-automata\",\"2014-07-16T00:00:00\"],[\"BKK automata\",\"Budapest, II. ker\\u00fclet\",\"Budagy\\u00f6ngye\",\"villamosmeg\\u00e1ll\\u00f3\",\"BKK-automata\",\"2014-08-01T00:00:00\"],[\"BKK automata\",\"Budapest, II. ker\\u00fclet\",\"T\\u00f6r\\u00f6kv\\u00e9sz \\u00fat\",\"buszmeg\\u00e1ll\\u00f3\",\"BKK-automata\",\"2014-10-30T00:00:00\"],[\"BKK automata\",\"Budapest, II. ker\\u00fclet\",\"H\\u0171v\\u00f6sv\\u00f6lgyi \\u00fat\",\"villamosmeg\\u00e1ll\\u00f3\",\"BKK-automata\",\"2014-12-22T00:00:00\"],[\"BKK automata\",\"Budapest, II. ker\\u00fclet\",\"Hidegk\\u00fati \\u00fat\",\"buszmeg\\u00e1ll\\u00f3\",\"BKK-automata\",\"2014-10-03T00:00:00\"],[\"BKK automata\",\"Budapest, II. ker\\u00fclet\",\"Pusztaszeri k\\u00f6r\\u00f6nd\",\"egy\\u00e9b\",\"BKK-automata\",\"2014-10-30T00:00:00\"],[\"BKK automata\",\"Budapest, II. ker\\u00fclet\",\"Sz\\u00e9ll K\\u00e1lm\\u00e1n t\\u00e9r M\",\"metr\\u00f3\",\"BKK-automata\",\"2014-12-17T00:00:00\"],[\"BKK automata\",\"Budapest, II. ker\\u00fclet\",\"Sz\\u00e9ll K\\u00e1lm\\u00e1n t\\u00e9r M\",\"metr\\u00f3\",\"BKK-automata\",\"2014-12-17T00:00:00\"],[\"BKK automata\",\"Budapest, II. ker\\u00fclet\",\"Sz\\u00e9ll K\\u00e1lm\\u00e1n t\\u00e9r M\",\"metr\\u00f3\",\"BKK-automata\",\"2016-08-31T00:00:00\"],[\"BKK automata\",\"Budapest, II. ker\\u00fclet\",\"Sz\\u00e9ll K\\u00e1lm\\u00e1n t\\u00e9r M\",\"metr\\u00f3\",\"BKK-automata\",\"2016-08-31T00:00:00\"],[\"BKK automata\",\"Budapest, II. ker\\u00fclet\",\"H\\u0171v\\u00f6sv\\u00f6lgy\",\"buszmeg\\u00e1ll\\u00f3\",\"BKK-automata\",\"2014-07-24T00:00:00\"],[\"BKK automata\",\"Budapest, II. ker\\u00fclet\",\"Margit h\\u00edd, budai h\\u00eddf\\u0151 H\",\"alulj\\u00e1r\\u00f3\",\"BKK-automata\",\"2014-07-18T00:00:00\"],[\"BKK automata\",\"Budapest, II. ker\\u00fclet\",\"Margit h\\u00edd, budai h\\u00eddf\\u0151 H\",\"alulj\\u00e1r\\u00f3\",\"BKK-automata\",\"2014-07-18T00:00:00\"],[\"BKK automata\",\"Budapest, II. ker\\u00fclet\",\"Margit h\\u00edd, budai h\\u00eddf\\u0151 H\",\"villamosmeg\\u00e1ll\\u00f3\",\"BKK-automata\",\"2014-07-18T00:00:00\"],[\"BKK automata\",\"Budapest, II. ker\\u00fclet\",\"H\\u0171v\\u00f6sv\\u00f6lgy\",\"buszmeg\\u00e1ll\\u00f3\",\"BKK-automata\",\"2014-11-20T00:00:00\"],[\"BKK automata\",\"Budapest, II. ker\\u00fclet\",\"Margit h\\u00edd, budai h\\u00eddf\\u0151 H\",\"alulj\\u00e1r\\u00f3\",\"BKK-automata\",\"2014-11-20T00:00:00\"],[\"BKK automata\",\"Budapest, II. ker\\u00fclet\",\"Mechwart liget\",\"villamosmeg\\u00e1ll\\u00f3\",\"BKK-automata\",\"2014-07-18T00:00:00\"],[\"BKK automata\",\"Budapest, III. ker\\u00fclet\",\"Kolosy t\\u00e9r\",\"buszmeg\\u00e1ll\\u00f3\",\"BKK-automata\",\"2014-10-20T00:00:00\"],[\"BKK automata\",\"Budapest, III. ker\\u00fclet\",\"Szentendrei \\u00fat\",\"buszmeg\\u00e1ll\\u00f3\",\"BKK-automata\",\"2015-12-29T00:00:00\"],[\"BKK automata\",\"Budapest, III. ker\\u00fclet\",\"B\\u00e9k\\u00e1smegyer H\",\"H\\u00c9V\",\"BKK-automata\",\"2014-08-07T00:00:00\"],[\"BKK automata\",\"Budapest, III. ker\\u00fclet\",\"Pacsirtamez\\u0151 utca\",\"buszmeg\\u00e1ll\\u00f3\",\"BKK-automata\",\"2015-12-29T00:00:00\"],[\"BKK automata\",\"Budapest, III. ker\\u00fclet\",\"Csillaghegy H\",\"H\\u00c9V\",\"BKK-automata\",\"2015-12-23T00:00:00\"],[\"BKK automata\",\"Budapest, III. ker\\u00fclet\",\"R\\u00f3maif\\u00fcrd\\u0151 H\",\"H\\u00c9V\",\"BKK-automata\",\"2015-12-18T00:00:00\"],[\"BKK automata\",\"Budapest, III. ker\\u00fclet\",\"B\\u00e9k\\u00e1smegyer H\",\"H\\u00c9V\",\"BKK-automata\",\"2014-08-07T00:00:00\"],[\"BKK automata\",\"Budapest, III. ker\\u00fclet\",\"B\\u00e9k\\u00e1smegyer H \",\"H\\u00c9V\",\"BKK-automata\",\"2015-12-22T00:00:00\"],[\"BKK automata\",\"Budapest, III. ker\\u00fclet\",\"Kolosy t\\u00e9r\",\"villamosmeg\\u00e1ll\\u00f3\",\"BKK-automata\",\"2016-11-16T00:00:00\"],[\"BKK automata\",\"Budapest, III. ker\\u00fclet\",\"Fl\\u00f3ri\\u00e1n t\\u00e9r\",\"villamosmeg\\u00e1ll\\u00f3\",\"BKK-automata\",\"2014-07-16T00:00:00\"],[\"BKK automata\",\"Budapest, III. ker\\u00fclet\",\"\\u00d3budai rendel\\u0151int\\u00e9zet\",\"villamosmeg\\u00e1ll\\u00f3\",\"BKK-automata\",\"2014-07-16T00:00:00\"],[\"BKK automata\",\"Budapest, III. ker\\u00fclet\",\"Szentl\\u00e9lek t\\u00e9r H\",\"H\\u00c9V\",\"BKK-automata\",\"2014-08-15T00:00:00\"],[\"BKK automata\",\"Budapest, III. ker\\u00fclet\",\"Aquincum H\",\"H\\u00c9V\",\"BKK-automata\",\"2014-07-21T00:00:00\"],[\"BKK automata\",\"Budapest, III. ker\\u00fclet\",\"Kasz\\u00e1sd\\u0171l\\u0151 H\",\"H\\u00c9V\",\"BKK-automata\",\"2014-07-21T00:00:00\"],[\"BKK automata\",\"Budapest, IV. ker\\u00fclet\",\"K\\u00fcls\\u0151 Szil\\u00e1gyi \\u00fat\",\"villamosmeg\\u00e1ll\\u00f3\",\"BKK-automata\",\"2014-09-25T00:00:00\"],[\"BKK automata\",\"Budapest, IV. ker\\u00fclet\",\"F\\u00f3ti \\u00fat\",\"buszmeg\\u00e1ll\\u00f3\",\"BKK-automata\",\"2014-12-09T00:00:00\"],[\"BKK automata\",\"Budapest, IV. ker\\u00fclet\",\"Erd\\u0151sor \\u00fat\",\"buszmeg\\u00e1ll\\u00f3\",\"BKK-automata\",\"2014-11-04T00:00:00\"],[\"BKK automata\",\"Budapest, IV. ker\\u00fclet\",\"\\u00dajpest-K\\u00f6zpont M\",\"metr\\u00f3\",\"BKK-automata\",\"2019-03-30T00:00:00\"],[\"BKK automata\",\"Budapest, IV. ker\\u00fclet\",\"\\u00dajpest-K\\u00f6zpont M\",\"metr\\u00f3\",\"BKK-automata\",\"2019-03-30T00:00:00\"],[\"BKK automata\",\"Budapest, IV. ker\\u00fclet\",\"\\u00c1rp\\u00e1d \\u00dczleth\\u00e1z\",\"egy\\u00e9b\",\"BKK-automata\",\"2014-08-08T00:00:00\"],[\"BKK automata\",\"Budapest, IV. ker\\u00fclet\",\"K\\u00fcls\\u0151 Szil\\u00e1gyi \\u00fat\",\"villamosmeg\\u00e1ll\\u00f3\",\"BKK-automata\",\"2014-08-28T00:00:00\"],[\"BKK automata\",\"Budapest, IV. ker\\u00fclet\",\"R\\u00e1kospalota-\\u00dajpest vas\\u00fat\\u00e1llom\\u00e1s\",\"villamosmeg\\u00e1ll\\u00f3\",\"BKK-automata\",\"2014-09-11T00:00:00\"],[\"BKK automata\",\"Budapest, IV. ker\\u00fclet\",\"B\\u00e9csi \\u00fat/V\\u00f6r\\u00f6sv\\u00e1ri \\u00fat\",\"villamosmeg\\u00e1ll\\u00f3\",\"BKK-automata\",\"2015-12-24T00:00:00\"],[\"BKK automata\",\"Budapest, IV. ker\\u00fclet\",\"Pozsonyi utca\",\"villamosmeg\\u00e1ll\\u00f3\",\"BKK-automata\",\"2014-12-17T00:00:00\"],[\"BKK automata\",\"Budapest, IV. ker\\u00fclet\",\"Forg\\u00e1ch utca M\",\"metr\\u00f3\",\"BKK-automata\",\"2014-07-30T00:00:00\"],[\"BKK automata\",\"Budapest, IV. ker\\u00fclet\",\"\\u00dajpest-K\\u00f6zpont M\",\"metr\\u00f3\",\"BKK-automata\",\"2014-04-28T00:00:00\"],[\"BKK automata\",\"Budapest, IV. ker\\u00fclet\",\"\\u00dajpest-K\\u00f6zpont M\",\"metr\\u00f3\",\"BKK-automata\",\"2014-04-28T00:00:00\"],[\"BKK automata\",\"Budapest, IV. ker\\u00fclet\",\"\\u00dajpest-K\\u00f6zpont M\",\"metr\\u00f3\",\"BKK-automata\",\"2014-12-04T00:00:00\"],[\"BKK automata\",\"Budapest, IV. ker\\u00fclet\",\"\\u00dajpest-V\\u00e1roskapu M\",\"metr\\u00f3\",\"BKK-automata\",\"2014-12-19T00:00:00\"],[\"BKK automata\",\"Budapest, IV. ker\\u00fclet\",\"\\u00dajpest-V\\u00e1roskapu M\",\"metr\\u00f3\",\"BKK-automata\",\"2014-12-19T00:00:00\"],[\"BKK automata\",\"Budapest, IV. ker\\u00fclet\",\"\\u00dajpest-V\\u00e1roskapu M\",\"metr\\u00f3\",\"BKK-automata\",\"2014-12-19T00:00:00\"],[\"BKK automata\",\"Budapest, IX. ker\\u00fclet\",\"K\\u00f6zv\\u00e1g\\u00f3h\\u00edd H\",\"H\\u00c9V\",\"BKK-automata\",\"2014-07-28T00:00:00\"],[\"BKK automata\",\"Budapest, IX. ker\\u00fclet\",\"Ecseri \\u00fat M\",\"buszmeg\\u00e1ll\\u00f3\",\"BKK-automata\",\"2014-07-29T00:00:00\"],[\"BKK automata\",\"Budapest, IX. ker\\u00fclet\",\"Nagyv\\u00e1rad t\\u00e9r M\",\"metr\\u00f3\",\"BKK-automata\",\"2014-07-18T00:00:00\"],[\"BKK automata\",\"Budapest, IX. ker\\u00fclet\",\"Soroks\\u00e1ri \\u00fat\",\"villamosmeg\\u00e1ll\\u00f3\",\"BKK-automata\",\"2014-12-16T00:00:00\"],[\"BKK automata\",\"Budapest, IX. ker\\u00fclet\",\"N\\u00e9pliget M\",\"metr\\u00f3\",\"BKK-automata\",\"2014-04-23T00:00:00\"],[\"BKK automata\",\"Budapest, IX. ker\\u00fclet\",\"K\\u00e1lvin t\\u00e9r\",\"buszmeg\\u00e1ll\\u00f3\",\"BKK-automata\",\"2018-04-18T00:00:00\"],[\"BKK automata\",\"Budapest, IX. ker\\u00fclet\",\"N\\u00e9pliget M\",\"metr\\u00f3\",\"BKK-automata\",\"2014-04-23T00:00:00\"],[\"BKK automata\",\"Budapest, IX. ker\\u00fclet\",\"N\\u00e9pliget M\",\"metr\\u00f3\",\"BKK-automata\",\"2014-04-23T00:00:00\"],[\"BKK automata\",\"Budapest, IX. ker\\u00fclet\",\"Nagyv\\u00e1rad t\\u00e9r M\",\"metr\\u00f3\",\"BKK-automata\",\"2014-07-18T00:00:00\"],[\"BKK automata\",\"Budapest, IX. ker\\u00fclet\",\"Ecseri \\u00fat M\",\"metr\\u00f3\",\"BKK-automata\",\"2014-04-27T00:00:00\"],[\"BKK automata\",\"Budapest, IX. ker\\u00fclet\",\"P\\u00f6tty\\u00f6s utca M\",\"metr\\u00f3\",\"BKK-automata\",\"2014-07-31T00:00:00\"],[\"BKK automata\",\"Budapest, IX. ker\\u00fclet\",\"Nagyv\\u00e1rad t\\u00e9r M\",\"metr\\u00f3\",\"BKK-automata\",\"2019-04-02T00:00:00\"],[\"BKK automata\",\"Budapest, IX. ker\\u00fclet\",\"Haller utca\",\"villamosmeg\\u00e1ll\\u00f3\",\"BKK-automata\",\"2014-08-28T00:00:00\"],[\"BKK automata\",\"Budapest, IX. ker\\u00fclet\",\"Napf\\u00e9ny utca - Lobog\\u00f3 utca\",\"buszmeg\\u00e1ll\\u00f3\",\"BKK-automata\",\"2018-09-18T00:00:00\"],[\"BKK automata\",\"Budapest, IX. ker\\u00fclet\",\"P\\u00f6tty\\u00f6s utca M\",\"metr\\u00f3\",\"BKK-automata\",\"2015-12-23T00:00:00\"],[\"BKK automata\",\"Budapest, IX. ker\\u00fclet\",\"K\\u00f6zv\\u00e1g\\u00f3h\\u00edd \",\"villamosmeg\\u00e1ll\\u00f3\",\"BKK-automata\",\"2014-04-23T00:00:00\"],[\"BKK automata\",\"Budapest, IX. ker\\u00fclet\",\"Ecseri \\u00fat M\",\"metr\\u00f3\",\"BKK-automata\",\"2015-12-23T00:00:00\"],[\"BKK automata\",\"Budapest, IX. ker\\u00fclet\",\"Orczy t\\u00e9r\",\"villamosmeg\\u00e1ll\\u00f3\",\"BKK-automata\",\"2015-12-29T00:00:00\"],[\"BKK automata\",\"Budapest, IX. ker\\u00fclet\",\"Bor\\u00e1ros t\\u00e9r\",\"H\\u00c9V\",\"BKK-automata\",\"2014-05-08T00:00:00\"],[\"BKK automata\",\"Budapest, IX. ker\\u00fclet\",\"Nagyv\\u00e1rad t\\u00e9r M\",\"metr\\u00f3\",\"BKK-automata\",\"2017-07-21T00:00:00\"],[\"BKK automata\",\"Budapest, IX. ker\\u00fclet\",\"Nagyv\\u00e1rad t\\u00e9r M\",\"metr\\u00f3\",\"BKK-automata\",\"2018-09-18T00:00:00\"],[\"BKK automata\",\"Budapest, IX. ker\\u00fclet\",\"K\\u00f6zv\\u00e1g\\u00f3h\\u00edd H\",\"H\\u00c9V\",\"BKK-automata\",\"2014-11-20T00:00:00\"],[\"BKK automata\",\"Budapest, IX. ker\\u00fclet\",\"Bor\\u00e1ros t\\u00e9r\",\"buszmeg\\u00e1ll\\u00f3\",\"BKK-automata\",\"2014-07-18T00:00:00\"],[\"BKK automata\",\"Budapest, IX. ker\\u00fclet\",\"Bor\\u00e1ros t\\u00e9r\",\"villamosmeg\\u00e1ll\\u00f3\",\"BKK-automata\",\"2014-08-28T00:00:00\"],[\"BKK automata\",\"Budapest, IX. ker\\u00fclet\",\"Bor\\u00e1ros t\\u00e9r\",\"H\\u00c9V\",\"BKK-automata\",\"2014-11-20T00:00:00\"],[\"BKK automata\",\"Budapest, V. ker\\u00fclet\",\"Ferenciek tere M\",\"buszmeg\\u00e1ll\\u00f3\",\"BKK-automata\",\"2014-04-16T00:00:00\"],[\"BKK automata\",\"Budapest, V. ker\\u00fclet\",\"Ferenciek tere M\",\"metr\\u00f3\",\"BKK-automata\",\"2014-04-16T00:00:00\"],[\"BKK automata\",\"Budapest, V. ker\\u00fclet\",\"Ferenciek tere M\",\"metr\\u00f3\",\"BKK-automata\",\"2014-04-16T00:00:00\"],[\"BKK automata\",\"Budapest, V. ker\\u00fclet\",\"F\\u0151v\\u00e1m t\\u00e9r M\",\"alulj\\u00e1r\\u00f3\",\"BKK-automata\",\"2014-03-26T00:00:00\"],[\"BKK automata\",\"Budapest, V. ker\\u00fclet\",\"J\\u00e1szai Mari t\\u00e9r\",\"villamosmeg\\u00e1ll\\u00f3\",\"BKK-automata\",\"2014-07-18T00:00:00\"],[\"BKK automata\",\"Budapest, V. ker\\u00fclet\",\"De\\u00e1k Ferenc t\\u00e9r \",\"buszmeg\\u00e1ll\\u00f3\",\"BKK-automata\",\"2018-05-18T00:00:00\"],[\"BKK automata\",\"Budapest, V. ker\\u00fclet\",\"Arany J\\u00e1nos utca M\",\"metr\\u00f3\",\"BKK-automata\",\"2014-05-07T00:00:00\"],[\"BKK automata\",\"Budapest, V. ker\\u00fclet\",\"Arany J\\u00e1nos utca M\",\"metr\\u00f3\",\"BKK-automata\",\"2014-05-07T00:00:00\"],[\"BKK automata\",\"Budapest, V. ker\\u00fclet\",\"De\\u00e1k Ferenc t\\u00e9r\",\"buszmeg\\u00e1ll\\u00f3\",\"BKK-automata\",\"2019-07-16T00:00:00\"],[\"BKK automata\",\"Budapest, V. ker\\u00fclet\",\"F\\u0151v\\u00e1m t\\u00e9r M\",\"alulj\\u00e1r\\u00f3\",\"BKK-automata\",\"2015-12-23T00:00:00\"],[\"BKK automata\",\"Budapest, V. ker\\u00fclet\",\"De\\u00e1k Ferenc t\\u00e9r M\",\"metr\\u00f3\",\"BKK-automata\",\"2014-07-23T00:00:00\"],[\"BKK automata\",\"Budapest, V. ker\\u00fclet\",\"De\\u00e1k Ferenc t\\u00e9r M\",\"metr\\u00f3\",\"BKK-automata\",\"2014-07-23T00:00:00\"],[\"BKK automata\",\"Budapest, V. ker\\u00fclet\",\"De\\u00e1k Ferenc t\\u00e9r M\",\"metr\\u00f3\",\"BKK-automata\",\"2014-05-08T00:00:00\"],[\"BKK automata\",\"Budapest, V. ker\\u00fclet\",\"Kossuth Lajos t\\u00e9r M\",\"metr\\u00f3\",\"BKK-automata\",\"2014-09-22T00:00:00\"],[\"BKK automata\",\"Budapest, V. ker\\u00fclet\",\"De\\u00e1k Ferenc t\\u00e9r M\",\"metr\\u00f3\",\"BKK-automata\",\"2014-11-24T00:00:00\"],[\"BKK automata\",\"Budapest, V. ker\\u00fclet\",\"Kossuth Lajos t\\u00e9r M\",\"metr\\u00f3\",\"BKK-automata\",\"2014-09-22T00:00:00\"],[\"BKK automata\",\"Budapest, V. ker\\u00fclet\",\"De\\u00e1k Ferenc t\\u00e9r M\",\"metr\\u00f3\",\"BKK-automata\",\"2015-12-22T00:00:00\"],[\"BKK automata\",\"Budapest, V. ker\\u00fclet\",\"De\\u00e1k Ferenc t\\u00e9r M\",\"metr\\u00f3\",\"BKK-automata\",\"2015-12-22T00:00:00\"],[\"BKK automata\",\"Budapest, V. ker\\u00fclet\",\"V\\u00f6r\\u00f6smarty t\\u00e9r M\",\"metr\\u00f3\",\"BKK-automata\",\"2014-07-11T00:00:00\"],[\"BKK automata\",\"Budapest, V. ker\\u00fclet\",\"J\\u00e1szai Mari t\\u00e9r\",\"villamosmeg\\u00e1ll\\u00f3\",\"BKK-automata\",\"2018-04-19T00:00:00\"],[\"BKK automata\",\"Budapest, V. ker\\u00fclet\",\"De\\u00e1k Ferenc t\\u00e9r\",\"villamosmeg\\u00e1ll\\u00f3\",\"BKK-automata\",\"2014-07-23T00:00:00\"],[\"BKK automata\",\"Budapest, VI. ker\\u00fclet\",\"Bajza utca M\",\"metr\\u00f3\",\"BKK-automata\",\"2015-03-17T00:00:00\"],[\"BKK automata\",\"Budapest, VI. ker\\u00fclet\",\"V\\u00f6r\\u00f6smarty utca M\",\"metr\\u00f3\",\"BKK-automata\",\"2015-02-25T00:00:00\"],[\"BKK automata\",\"Budapest, VI. ker\\u00fclet\",\"Opera M\",\"metr\\u00f3\",\"BKK-automata\",\"2015-01-14T00:00:00\"],[\"BKK automata\",\"Budapest, VI. ker\\u00fclet\",\"Oktogon M\",\"metr\\u00f3\",\"BKK-automata\",\"2014-08-14T00:00:00\"],[\"BKK automata\",\"Budapest, VI. ker\\u00fclet\",\"H\\u0151s\\u00f6k tere M\",\"metr\\u00f3\",\"BKK-automata\",\"2015-03-17T00:00:00\"],[\"BKK automata\",\"Budapest, VI. ker\\u00fclet\",\"Kod\\u00e1ly k\\u00f6r\\u00f6nd M\",\"metr\\u00f3\",\"BKK-automata\",\"2015-03-17T00:00:00\"],[\"BKK automata\",\"Budapest, VI. ker\\u00fclet\",\"H\\u0151s\\u00f6k tere M\",\"metr\\u00f3\",\"BKK-automata\",\"2018-04-18T00:00:00\"],[\"BKK automata\",\"Budapest, VI. ker\\u00fclet\",\"Nyugati p\\u00e1lyaudvar M\",\"metr\\u00f3\",\"BKK-automata\",\"2014-04-29T00:00:00\"],[\"BKK automata\",\"Budapest, VI. ker\\u00fclet\",\"Nyugati p\\u00e1lyaudvar M\",\"villamosmeg\\u00e1ll\\u00f3\",\"BKK-automata\",\"2014-07-18T00:00:00\"],[\"BKK automata\",\"Budapest, VI. ker\\u00fclet\",\"Oktogon M\",\"villamosmeg\\u00e1ll\\u00f3\",\"BKK-automata\",\"2014-07-23T00:00:00\"],[\"BKK automata\",\"Budapest, VI. ker\\u00fclet\",\"Oktogon M\",\"metr\\u00f3\",\"BKK-automata\",\"2014-08-16T00:00:00\"],[\"BKK automata\",\"Budapest, VII. ker\\u00fclet\",\"Kir\\u00e1ly utca \",\"villamosmeg\\u00e1ll\\u00f3\",\"BKK-automata\",\"2014-07-24T00:00:00\"],[\"BKK automata\",\"Budapest, VII. ker\\u00fclet\",\"Wessel\\u00e9nyi utca\",\"villamosmeg\\u00e1ll\\u00f3\",\"BKK-automata\",\"2014-08-22T00:00:00\"],[\"BKK automata\",\"Budapest, VII. ker\\u00fclet\",\"Astoria M\",\"metr\\u00f3\",\"BKK-automata\",\"2014-04-08T00:00:00\"],[\"BKK automata\",\"Budapest, VII. ker\\u00fclet\",\"Keleti p\\u00e1lyaudvar M\",\"metr\\u00f3\",\"BKK-automata\",\"2014-03-26T00:00:00\"],[\"BKK automata\",\"Budapest, VII. ker\\u00fclet\",\"Wessel\\u00e9nyi utca\",\"buszmeg\\u00e1ll\\u00f3\",\"BKK-automata\",\"2015-01-13T00:00:00\"],[\"BKK automata\",\"Budapest, VII. ker\\u00fclet\",\"Keleti p\\u00e1lyaudvar M\",\"metr\\u00f3\",\"BKK-automata\",\"2014-03-26T00:00:00\"],[\"BKK automata\",\"Budapest, VII. ker\\u00fclet\",\"Keleti p\\u00e1lyaudvar M\",\"metr\\u00f3\",\"BKK-automata\",\"2014-03-26T00:00:00\"],[\"BKK automata\",\"Budapest, VII. ker\\u00fclet\",\"Keleti p\\u00e1lyaudvar M\",\"egy\\u00e9b\",\"BKK-automata\",\"2015-04-16T00:00:00\"],[\"BKK automata\",\"Budapest, VII. ker\\u00fclet\",\"Keleti p\\u00e1lyaudvar M\",\"egy\\u00e9b\",\"BKK-automata\",\"2015-04-16T00:00:00\"],[\"BKK automata\",\"Budapest, VII. ker\\u00fclet\",\"Astoria M\",\"villamosmeg\\u00e1ll\\u00f3\",\"BKK-automata\",\"2014-04-27T00:00:00\"],[\"BKK automata\",\"Budapest, VII. ker\\u00fclet\",\"Blaha Lujza t\\u00e9r M\",\"metr\\u00f3\",\"BKK-automata\",\"2014-04-29T00:00:00\"],[\"BKK automata\",\"Budapest, VII. ker\\u00fclet\",\"Blaha Lujza t\\u00e9r M\",\"metr\\u00f3\",\"BKK-automata\",\"2014-04-29T00:00:00\"],[\"BKK automata\",\"Budapest, VII. ker\\u00fclet\",\"Keleti p\\u00e1lyaudvar M\",\"metr\\u00f3\",\"BKK-automata\",\"2014-04-16T00:00:00\"],[\"BKK automata\",\"Budapest, VII. ker\\u00fclet\",\"Keleti p\\u00e1lyaudvar M\",\"metr\\u00f3\",\"BKK-automata\",\"2014-04-16T00:00:00\"],[\"BKK automata\",\"Budapest, VII. ker\\u00fclet\",\"Blaha Lujza t\\u00e9r M\",\"metr\\u00f3\",\"BKK-automata\",\"2018-09-18T00:00:00\"],[\"BKK automata\",\"Budapest, VII. ker\\u00fclet\",\"Keleti p\\u00e1lyaudvar M\",\"buszmeg\\u00e1ll\\u00f3\",\"BKK-automata\",\"2014-08-14T00:00:00\"],[\"BKK automata\",\"Budapest, VII. ker\\u00fclet\",\"Keleti p\\u00e1lyaudvar M\",\"buszmeg\\u00e1ll\\u00f3\",\"BKK-automata\",\"2014-05-06T00:00:00\"],[\"BKK automata\",\"Budapest, VII. ker\\u00fclet\",\"Astoria M\",\"metr\\u00f3\",\"BKK-automata\",\"2014-12-16T00:00:00\"],[\"BKK automata\",\"Budapest, VII. ker\\u00fclet\",\"Astoria M \",\"metr\\u00f3\",\"BKK-automata\",\"2014-12-16T00:00:00\"],[\"BKK automata\",\"Budapest, VII. ker\\u00fclet\",\"Keleti p\\u00e1lyaudvar M\",\"egy\\u00e9b\",\"BKK-automata\",\"2017-12-20T00:00:00\"],[\"BKK automata\",\"Budapest, VII. ker\\u00fclet\",\"Keleti p\\u00e1lyaudvar M\",\"egy\\u00e9b\",\"BKK-automata\",\"2017-12-20T00:00:00\"],[\"BKK automata\",\"Budapest, VII. ker\\u00fclet\",\"Keleti p\\u00e1lyaudvar M\",\"buszmeg\\u00e1ll\\u00f3\",\"BKK-automata\",\"2014-08-29T00:00:00\"],[\"BKK automata\",\"Budapest, VIII. ker\\u00fclet\",\"Blaha Lujza t\\u00e9r (Buda fel\\u00e9)\",\"buszmeg\\u00e1ll\\u00f3\",\"BKK-automata\",\"2014-07-23T00:00:00\"],[\"BKK automata\",\"Budapest, VIII. ker\\u00fclet\",\"Corvin-negyed M\",\"metr\\u00f3\",\"BKK-automata\",\"2014-04-30T00:00:00\"],[\"BKK automata\",\"Budapest, VIII. ker\\u00fclet\",\"Corvin-negyed M\",\"metr\\u00f3\",\"BKK-automata\",\"2014-04-30T00:00:00\"],[\"BKK automata\",\"Budapest, VIII. ker\\u00fclet\",\"II. J\\u00e1nos P\\u00e1l p\\u00e1pa t\\u00e9r M\",\"egy\\u00e9b\",\"BKK-automata\",\"2014-03-26T00:00:00\"],[\"BKK automata\",\"Budapest, VIII. ker\\u00fclet\",\"II. J\\u00e1nos P\\u00e1l p\\u00e1pa t\\u00e9r M\",\"alulj\\u00e1r\\u00f3\",\"BKK-automata\",\"2014-03-26T00:00:00\"],[\"BKK automata\",\"Budapest, VIII. ker\\u00fclet\",\"R\\u00e1k\\u00f3czi t\\u00e9r M\",\"metr\\u00f3\",\"BKK-automata\",\"2014-03-26T00:00:00\"],[\"BKK automata\",\"Budapest, VIII. ker\\u00fclet\",\"K\\u00e1lvin t\\u00e9r M\",\"metr\\u00f3\",\"BKK-automata\",\"2014-04-28T00:00:00\"],[\"BKK automata\",\"Budapest, VIII. ker\\u00fclet\",\"K\\u00e1lvin t\\u00e9r M\",\"metr\\u00f3\",\"BKK-automata\",\"2014-04-28T00:00:00\"],[\"BKK automata\",\"Budapest, VIII. ker\\u00fclet\",\"R\\u00e1k\\u00f3czi t\\u00e9r M\",\"villamosmeg\\u00e1ll\\u00f3\",\"BKK-automata\",\"2014-07-24T00:00:00\"],[\"BKK automata\",\"Budapest, VIII. ker\\u00fclet\",\"Harminckettesek tere\",\"buszmeg\\u00e1ll\\u00f3\",\"BKK-automata\",\"2014-09-22T00:00:00\"],[\"BKK automata\",\"Budapest, VIII. ker\\u00fclet\",\"K\\u00e1lv\\u00e1ria t\\u00e9r\",\"buszmeg\\u00e1ll\\u00f3\",\"BKK-automata\",\"2015-03-25T00:00:00\"],[\"BKK automata\",\"Budapest, VIII. ker\\u00fclet\",\"K\\u00e1lvin t\\u00e9r M\",\"villamosmeg\\u00e1ll\\u00f3\",\"BKK-automata\",\"2014-08-15T00:00:00\"],[\"BKK automata\",\"Budapest, VIII. ker\\u00fclet\",\"K\\u00e1lvin t\\u00e9r M\",\"metr\\u00f3\",\"BKK-automata\",\"2015-12-23T00:00:00\"],[\"BKK automata\",\"Budapest, VIII. ker\\u00fclet\",\"Klinik\\u00e1k M\",\"metr\\u00f3\",\"BKK-automata\",\"2014-07-30T00:00:00\"],[\"BKK automata\",\"Budapest, VIII. ker\\u00fclet\",\"Hung\\u00e1ria k\\u00f6r\\u00fat\",\"villamosmeg\\u00e1ll\\u00f3\",\"BKK-automata\",\"2015-12-24T00:00:00\"],[\"BKK automata\",\"Budapest, VIII. ker\\u00fclet\",\"Blaha Lujza t\\u00e9r M\",\"villamosmeg\\u00e1ll\\u00f3\",\"BKK-automata\",\"2014-07-23T00:00:00\"],[\"BKK automata\",\"Budapest, VIII. ker\\u00fclet\",\"Klinik\\u00e1k M\",\"metr\\u00f3\",\"BKK-automata\",\"2014-09-30T00:00:00\"],[\"BKK automata\",\"Budapest, VIII. ker\\u00fclet\",\"Corvin-negyed M\",\"villamosmeg\\u00e1ll\\u00f3\",\"BKK-automata\",\"2014-07-23T00:00:00\"],[\"BKK automata\",\"Budapest, VIII. ker\\u00fclet\",\"Blaha Lujza t\\u00e9r M\",\"villamosmeg\\u00e1ll\\u00f3\",\"BKK-automata\",\"2014-07-28T00:00:00\"],[\"BKK automata\",\"Budapest, VIII. ker\\u00fclet\",\"Corvin-negyed M\",\"metr\\u00f3\",\"BKK-automata\",\"2014-12-08T00:00:00\"],[\"BKK automata\",\"Budapest, VIII. ker\\u00fclet\",\"Corvin-negyed M\",\"metr\\u00f3\",\"BKK-automata\",\"2014-12-08T00:00:00\"],[\"BKK automata\",\"Budapest, VIII. ker\\u00fclet\",\"Klinik\\u00e1k M\",\"metr\\u00f3\",\"BKK-automata\",\"2015-12-22T00:00:00\"],[\"BKK automata\",\"Budapest, X. ker\\u00fclet\",\"\\u00d6rs vez\\u00e9r tere M+H\",\"metr\\u00f3\",\"BKK-automata\",\"2014-07-15T00:00:00\"],[\"BKK automata\",\"Budapest, X. ker\\u00fclet\",\"\\u00d6rs vez\\u00e9r tere M+H\",\"metr\\u00f3\",\"BKK-automata\",\"2014-07-15T00:00:00\"],[\"BKK automata\",\"Budapest, X. ker\\u00fclet\",\"K\\u0151b\\u00e1nya-Kispest M\",\"metr\\u00f3\",\"BKK-automata\",\"2014-07-11T00:00:00\"],[\"BKK automata\",\"Budapest, X. ker\\u00fclet\",\"K\\u0151b\\u00e1nya-Kispest M\",\"buszmeg\\u00e1ll\\u00f3\",\"BKK-automata\",\"2014-07-11T00:00:00\"],[\"BKK automata\",\"Budapest, X. ker\\u00fclet\",\"K\\u0151b\\u00e1nya-Kispest M\",\"metr\\u00f3\",\"BKK-automata\",\"2014-04-30T00:00:00\"],[\"BKK automata\",\"Budapest, X. ker\\u00fclet\",\"K\\u0151b\\u00e1nya-Kispest M\",\"metr\\u00f3\",\"BKK-automata\",\"2014-04-30T00:00:00\"],[\"BKK automata\",\"Budapest, X. ker\\u00fclet\",\"Kada utca\",\"buszmeg\\u00e1ll\\u00f3\",\"BKK-automata\",\"2015-01-16T00:00:00\"],[\"BKK automata\",\"Budapest, X. ker\\u00fclet\",\"Harmat utca\",\"buszmeg\\u00e1ll\\u00f3\",\"BKK-automata\",\"2015-01-16T00:00:00\"],[\"BKK automata\",\"Budapest, X. ker\\u00fclet\",\"K\\u0151b\\u00e1nya als\\u00f3 vas\\u00fat\\u00e1llom\\u00e1s\",\"villamosmeg\\u00e1ll\\u00f3\",\"BKK-automata\",\"2014-09-05T00:00:00\"],[\"BKK automata\",\"Budapest, X. ker\\u00fclet\",\"K\\u0151r\\u00f6si Csoma S\\u00e1ndor \\u00fat\",\"villamosmeg\\u00e1ll\\u00f3\",\"BKK-automata\",\"2014-09-09T00:00:00\"],[\"BKK automata\",\"Budapest, X. ker\\u00fclet\",\"\\u00d6rs vez\\u00e9r tere M+H\",\"metr\\u00f3\",\"BKK-automata\",\"2014-10-01T00:00:00\"],[\"BKK automata\",\"Budapest, X. ker\\u00fclet\",\"\\u00d6rs vez\\u00e9r tere M+H\",\"metr\\u00f3\",\"BKK-automata\",\"2015-12-07T00:00:00\"],[\"BKK automata\",\"Budapest, X. ker\\u00fclet\",\"\\u00d6rs vez\\u00e9r tere M+H\",\"metr\\u00f3\",\"BKK-automata\",\"2015-12-18T00:00:00\"],[\"BKK automata\",\"Budapest, X. ker\\u00fclet\",\"K\\u0151b\\u00e1nya-Kispest M\",\"metr\\u00f3\",\"BKK-automata\",\"2015-12-28T00:00:00\"],[\"BKK automata\",\"Budapest, X. ker\\u00fclet\",\"\\u00d6rs vez\\u00e9r tere M+H\",\"metr\\u00f3\",\"BKK-automata\",\"2015-12-18T00:00:00\"],[\"BKK automata\",\"Budapest, X. ker\\u00fclet\",\"K\\u0151b\\u00e1nya-Kispest M\",\"metr\\u00f3\",\"BKK-automata\",\"2014-04-30T00:00:00\"],[\"BKK automata\",\"Budapest, X. ker\\u00fclet\",\"K\\u0151b\\u00e1nya-Kispest M\",\"metr\\u00f3\",\"BKK-automata\",\"2014-04-30T00:00:00\"],[\"BKK automata\",\"Budapest, XI. ker\\u00fclet\",\"Feh\\u00e9rv\\u00e1ri \\u00fat\",\"villamosmeg\\u00e1ll\\u00f3\",\"BKK-automata\",\"2014-12-19T00:00:00\"],[\"BKK automata\",\"Budapest, XI. ker\\u00fclet\",\"Irinyi J\\u00f3zsef utca\",\"villamosmeg\\u00e1ll\\u00f3\",\"BKK-automata\",\"2014-07-31T00:00:00\"],[\"BKK automata\",\"Budapest, XI. ker\\u00fclet\",\"Feh\\u00e9rv\\u00e1ri \\u00fat\",\"villamosmeg\\u00e1ll\\u00f3\",\"BKK-automata\",\"2015-03-19T00:00:00\"],[\"BKK automata\",\"Budapest, XI. ker\\u00fclet\",\"Feh\\u00e9rv\\u00e1ri \\u00fat\",\"villamosmeg\\u00e1ll\\u00f3\",\"BKK-automata\",\"2014-12-15T00:00:00\"],[\"BKK automata\",\"Budapest, XI. ker\\u00fclet\",\"Nagyszeben t\\u00e9r\",\"buszmeg\\u00e1ll\\u00f3\",\"BKK-automata\",\"2015-03-24T00:00:00\"],[\"BKK automata\",\"Budapest, XI. ker\\u00fclet\",\"Kelenf\\u00f6ld vas\\u00fat\\u00e1llom\\u00e1s M\",\"alulj\\u00e1r\\u00f3\",\"BKK-automata\",\"2014-03-26T00:00:00\"],[\"BKK automata\",\"Budapest, XI. ker\\u00fclet\",\"Bik\\u00e1s park M\",\"alulj\\u00e1r\\u00f3\",\"BKK-automata\",\"2014-03-26T00:00:00\"],[\"BKK automata\",\"Budapest, XI. ker\\u00fclet\",\"Kelenf\\u00f6ld vas\\u00fat\\u00e1llom\\u00e1s M\",\"M\\u00c1V\",\"BKK-automata\",\"2014-03-26T00:00:00\"],[\"BKK automata\",\"Budapest, XI. ker\\u00fclet\",\"Kelenf\\u00f6ld vas\\u00fat\\u00e1llom\\u00e1s M\",\"M\\u00c1V\",\"BKK-automata\",\"2014-03-26T00:00:00\"],[\"BKK automata\",\"Budapest, XI. ker\\u00fclet\",\"Kelenf\\u00f6ld vas\\u00fat\\u00e1llom\\u00e1s M\",\"M\\u00c1V\",\"BKK-automata\",\"2014-03-26T00:00:00\"],[\"BKK automata\",\"Budapest, XI. ker\\u00fclet\",\"Kelenf\\u00f6ld vas\\u00fat\\u00e1llom\\u00e1s M\",\"M\\u00c1V\",\"BKK-automata\",\"2014-03-26T00:00:00\"],[\"BKK automata\",\"Budapest, XI. ker\\u00fclet\",\"Kelenf\\u00f6ld vas\\u00fat\\u00e1llom\\u00e1s M\",\"M\\u00c1V\",\"BKK-automata\",\"2014-03-26T00:00:00\"],[\"BKK automata\",\"Budapest, XI. ker\\u00fclet\",\"Kelenf\\u00f6ld vas\\u00fat\\u00e1llom\\u00e1s M\",\"alulj\\u00e1r\\u00f3\",\"BKK-automata\",\"2014-03-26T00:00:00\"],[\"BKK automata\",\"Budapest, XI. ker\\u00fclet\",\"Kelenf\\u00f6ld vas\\u00fat\\u00e1llom\\u00e1s M\",\"alulj\\u00e1r\\u00f3\",\"BKK-automata\",\"2017-12-20T00:00:00\"],[\"BKK automata\",\"Budapest, XI. ker\\u00fclet\",\"M\\u00f3ricz Zsigmond k\\u00f6rt\\u00e9r M\",\"alulj\\u00e1r\\u00f3\",\"BKK-automata\",\"2014-03-26T00:00:00\"],[\"BKK automata\",\"Budapest, XI. ker\\u00fclet\",\"M\\u00f3ricz Zsigmond k\\u00f6rt\\u00e9r M\",\"alulj\\u00e1r\\u00f3\",\"BKK-automata\",\"2014-03-26T00:00:00\"],[\"BKK automata\",\"Budapest, XI. ker\\u00fclet\",\"Szent Gell\\u00e9rt t\\u00e9r M\",\"alulj\\u00e1r\\u00f3\",\"BKK-automata\",\"2014-03-26T00:00:00\"],[\"BKK automata\",\"Budapest, XI. ker\\u00fclet\",\"\\u00dajbuda-k\\u00f6zpont M\",\"alulj\\u00e1r\\u00f3\",\"BKK-automata\",\"2014-03-26T00:00:00\"],[\"BKK automata\",\"Budapest, XI. ker\\u00fclet\",\"\\u00dajbuda-k\\u00f6zpont M\",\"alulj\\u00e1r\\u00f3\",\"BKK-automata\",\"2014-03-26T00:00:00\"],[\"BKK automata\",\"Budapest, XI. ker\\u00fclet\",\"Kelenf\\u00f6ld vas\\u00fat\\u00e1llom\\u00e1s M\",\"villamosmeg\\u00e1ll\\u00f3\",\"BKK-automata\",\"2014-04-22T00:00:00\"],[\"BKK automata\",\"Budapest, XI. ker\\u00fclet\",\"Bik\\u00e1s park \",\"villamosmeg\\u00e1ll\\u00f3\",\"BKK-automata\",\"2019-07-10T00:00:00\"],[\"BKK automata\",\"Budapest, XI. ker\\u00fclet\",\"M\\u00e1rton \\u00c1ron t\\u00e9r\",\"villamosmeg\\u00e1ll\\u00f3\",\"BKK-automata\",\"2014-08-28T00:00:00\"],[\"BKK automata\",\"Budapest, XI. ker\\u00fclet\",\"Feh\\u00e9rv\\u00e1ri \\u00fat\",\"villamosmeg\\u00e1ll\\u00f3\",\"BKK-automata\",\"2014-08-22T00:00:00\"],[\"BKK automata\",\"Budapest, XI. ker\\u00fclet\",\"Buda\\u00f6rsi \\u00fat\",\"buszmeg\\u00e1ll\\u00f3\",\"BKK-automata\",\"2014-08-15T00:00:00\"],[\"BKK automata\",\"Budapest, XI. ker\\u00fclet\",\"Szent Gell\\u00e9rt t\\u00e9r \",\"villamosmeg\\u00e1ll\\u00f3\",\"BKK-automata\",\"2014-09-03T00:00:00\"],[\"BKK automata\",\"Budapest, XI. ker\\u00fclet\",\"\\u00dajbuda-k\\u00f6zpont \",\"egy\\u00e9b\",\"BKK-automata\",\"2014-11-04T00:00:00\"],[\"BKK automata\",\"Budapest, XI. ker\\u00fclet\",\"Bornemissza t\\u00e9r\",\"buszmeg\\u00e1ll\\u00f3\",\"BKK-automata\",\"2015-12-28T00:00:00\"],[\"BKK automata\",\"Budapest, XI. ker\\u00fclet\",\"\\u00dajbuda-K\\u00f6zpont M\",\"egy\\u00e9b\",\"BKK-automata\",\"2015-12-23T00:00:00\"],[\"BKK automata\",\"Budapest, XI. ker\\u00fclet\",\"Savoya park\",\"villamosmeg\\u00e1ll\\u00f3\",\"BKK-automata\",\"2015-12-28T00:00:00\"],[\"BKK automata\",\"Budapest, XI. ker\\u00fclet\",\"Pet\\u0151fi h\\u00edd, budai h\\u00eddf\\u0151\",\"villamosmeg\\u00e1ll\\u00f3\",\"BKK-automata\",\"2014-08-18T00:00:00\"],[\"BKK automata\",\"Budapest, XI. ker\\u00fclet\",\"Kosztol\\u00e1nyi Dezs\\u0151 t\\u00e9r\",\"villamosmeg\\u00e1ll\\u00f3\",\"BKK-automata\",\"2014-07-28T00:00:00\"],[\"BKK automata\",\"Budapest, XI. ker\\u00fclet\",\"Gazdagr\\u00e9ti t\\u00e9r\",\"buszmeg\\u00e1ll\\u00f3\",\"BKK-automata\",\"2014-07-24T00:00:00\"],[\"BKK automata\",\"Budapest, XI. ker\\u00fclet\",\"Bik\\u00e1s park M\",\"alulj\\u00e1r\\u00f3\",\"BKK-automata\",\"2014-12-15T00:00:00\"],[\"BKK automata\",\"Budapest, XI. ker\\u00fclet\",\"M\\u00f3ricz Zsigmond k\\u00f6rt\\u00e9r\",\"villamosmeg\\u00e1ll\\u00f3\",\"BKK-automata\",\"2014-10-15T00:00:00\"],[\"BKK automata\",\"Budapest, XI. ker\\u00fclet\",\"M\\u00f3ricz Zsigmond k\\u00f6rt\\u00e9r\",\"villamosmeg\\u00e1ll\\u00f3\",\"BKK-automata\",\"2014-07-24T00:00:00\"],[\"BKK automata\",\"Budapest, XI. ker\\u00fclet\",\"Als\\u00f3hegy utca/Vill\\u00e1nyi \\u00fat\",\"villamosmeg\\u00e1ll\\u00f3\",\"BKK-automata\",\"2017-01-26T00:00:00\"],[\"BKK automata\",\"Budapest, XII. ker\\u00fclet\",\"Apor Vilmos t\\u00e9r\",\"buszmeg\\u00e1ll\\u00f3\",\"BKK-automata\",\"2014-09-04T00:00:00\"],[\"BKK automata\",\"Budapest, XII. ker\\u00fclet\",\"Alkot\\u00e1s utca\",\"villamosmeg\\u00e1ll\\u00f3\",\"BKK-automata\",\"2014-12-15T00:00:00\"],[\"BKK automata\",\"Budapest, XII. ker\\u00fclet\",\"Kir\\u00e1lyh\\u00e1g\\u00f3 t\\u00e9r\",\"villamosmeg\\u00e1ll\\u00f3\",\"BKK-automata\",\"2014-09-03T00:00:00\"],[\"BKK automata\",\"Budapest, XII. ker\\u00fclet\",\"Szent J\\u00e1nos K\\u00f3rh\\u00e1z\",\"villamosmeg\\u00e1ll\\u00f3\",\"BKK-automata\",\"2014-09-30T00:00:00\"],[\"BKK automata\",\"Budapest, XII. ker\\u00fclet\",\"Szent Orb\\u00e1n t\\u00e9r\",\"buszmeg\\u00e1ll\\u00f3\",\"BKK-automata\",\"2014-11-03T00:00:00\"],[\"BKK automata\",\"Budapest, XII. ker\\u00fclet\",\"Diana utca\",\"egy\\u00e9b\",\"BKK-automata\",\"2015-12-29T00:00:00\"],[\"BKK automata\",\"Budapest, XII. ker\\u00fclet\",\"V\\u00e1rosmajor\",\"villamosmeg\\u00e1ll\\u00f3\",\"BKK-automata\",\"2014-10-03T00:00:00\"],[\"BKK automata\",\"Budapest, XII. ker\\u00fclet\",\"BAH-csom\\u00f3pont\",\"buszmeg\\u00e1ll\\u00f3\",\"BKK-automata\",\"2016-11-17T00:00:00\"],[\"BKK automata\",\"Budapest, XIII. ker\\u00fclet\",\"Nyugati p\\u00e1lyaudvar M\",\"metr\\u00f3\",\"BKK-automata\",\"2014-04-27T00:00:00\"],[\"BKK automata\",\"Budapest, XIII. ker\\u00fclet\",\"Nyugati p\\u00e1lyaudvar M\",\"metr\\u00f3\",\"BKK-automata\",\"2014-04-27T00:00:00\"],[\"BKK automata\",\"Budapest, XIII. ker\\u00fclet\",\"Nyugati p\\u00e1lyaudvar M\",\"metr\\u00f3\",\"BKK-automata\",\"2014-04-29T00:00:00\"],[\"BKK automata\",\"Budapest, XIII. ker\\u00fclet\",\"Nyugati p\\u00e1lyaudvar M\",\"metr\\u00f3\",\"BKK-automata\",\"2015-12-23T00:00:00\"],[\"BKK automata\",\"Budapest, XIII. ker\\u00fclet\",\"\\u00c1rp\\u00e1d h\\u00edd M\",\"metr\\u00f3\",\"BKK-automata\",\"2014-04-17T00:00:00\"],[\"BKK automata\",\"Budapest, XIII. ker\\u00fclet\",\"\\u00c1rp\\u00e1d h\\u00edd M\",\"metr\\u00f3\",\"BKK-automata\",\"2014-04-17T00:00:00\"],[\"BKK automata\",\"Budapest, XIII. ker\\u00fclet\",\"\\u00c1rp\\u00e1d h\\u00edd M\",\"metr\\u00f3\",\"BKK-automata\",\"2014-04-17T00:00:00\"],[\"BKK automata\",\"Budapest, XIII. ker\\u00fclet\",\"Lehel t\\u00e9r M\",\"alulj\\u00e1r\\u00f3\",\"BKK-automata\",\"2014-07-11T00:00:00\"],[\"BKK automata\",\"Budapest, XIII. ker\\u00fclet\",\"\\u00c1rp\\u00e1d h\\u00edd M\",\"metr\\u00f3\",\"BKK-automata\",\"2014-04-17T00:00:00\"],[\"BKK automata\",\"Budapest, XIII. ker\\u00fclet\",\"Szent Istv\\u00e1n park\",\"buszmeg\\u00e1ll\\u00f3\",\"BKK-automata\",\"2014-09-12T00:00:00\"],[\"BKK automata\",\"Budapest, XIII. ker\\u00fclet\",\"Lehel t\\u00e9r M\",\"villamosmeg\\u00e1ll\\u00f3\",\"BKK-automata\",\"2014-10-03T00:00:00\"],[\"BKK automata\",\"Budapest, XIII. ker\\u00fclet\",\"\\u00c1rp\\u00e1d h\\u00edd M\",\"metr\\u00f3\",\"BKK-automata\",\"2019-03-14T00:00:00\"],[\"BKK automata\",\"Budapest, XIII. ker\\u00fclet\",\"\\u00c1rp\\u00e1d h\\u00edd M\",\"metr\\u00f3\",\"BKK-automata\",\"2019-03-14T00:00:00\"],[\"BKK automata\",\"Budapest, XIII. ker\\u00fclet\",\"Nyugati p\\u00e1lyaudvar M\",\"metr\\u00f3\",\"BKK-automata\",\"2015-12-23T00:00:00\"],[\"BKK automata\",\"Budapest, XIII. ker\\u00fclet\",\"Nyugati p\\u00e1lyaudvar M\",\"metr\\u00f3\",\"BKK-automata\",\"2015-12-23T00:00:00\"],[\"BKK automata\",\"Budapest, XIII. ker\\u00fclet\",\"Nyugati p\\u00e1lyaudvar M\",\"metr\\u00f3\",\"BKK-automata\",\"2015-12-23T00:00:00\"],[\"BKK automata\",\"Budapest, XIII. ker\\u00fclet\",\"D\\u00f3zsa Gy\\u00f6rgy \\u00fat M\",\"metr\\u00f3\",\"BKK-automata\",\"2014-07-18T00:00:00\"],[\"BKK automata\",\"Budapest, XIII. ker\\u00fclet\",\"B\\u00e9ke t\\u00e9r\",\"villamosmeg\\u00e1ll\\u00f3\",\"BKK-automata\",\"2014-11-04T00:00:00\"],[\"BKK automata\",\"Budapest, XIII. ker\\u00fclet\",\"Gy\\u00f6ngy\\u00f6si utca M\",\"metr\\u00f3\",\"BKK-automata\",\"2015-12-22T00:00:00\"],[\"BKK automata\",\"Budapest, XIII. ker\\u00fclet\",\"B\\u00e9ke utca\",\"villamosmeg\\u00e1ll\\u00f3\",\"BKK-automata\",\"2014-09-04T00:00:00\"],[\"BKK automata\",\"Budapest, XIII. ker\\u00fclet\",\"Lehel t\\u00e9r M\",\"alulj\\u00e1r\\u00f3\",\"BKK-automata\",\"2014-07-11T00:00:00\"],[\"BKK automata\",\"Budapest, XIII. ker\\u00fclet\",\"N\\u00e9pf\\u00fcrd\\u0151 utca\",\"villamosmeg\\u00e1ll\\u00f3\",\"BKK-automata\",\"2015-12-23T00:00:00\"],[\"BKK automata\",\"Budapest, XIII. ker\\u00fclet\",\"R\\u00f3bert K\\u00e1roly k\\u00f6r\\u00fat\",\"villamosmeg\\u00e1ll\\u00f3\",\"BKK-automata\",\"2015-12-24T00:00:00\"],[\"BKK automata\",\"Budapest, XIII. ker\\u00fclet\",\"Lehel t\\u00e9r M\",\"alulj\\u00e1r\\u00f3\",\"BKK-automata\",\"2020-11-06T00:00:00\"],[\"BKK automata\",\"Budapest, XIII. ker\\u00fclet\",\"Lehel t\\u00e9r M\",\"alulj\\u00e1r\\u00f3\",\"BKK-automata\",\"2020-11-06T00:00:00\"],[\"BKK automata\",\"Budapest, XIII. ker\\u00fclet\",\"Lehel t\\u00e9r M\",\"alulj\\u00e1r\\u00f3\",\"BKK-automata\",\"2015-12-21T00:00:00\"],[\"BKK automata\",\"Budapest, XIII. ker\\u00fclet\",\"D\\u00f3zsa Gy\\u00f6rgy \\u00fat M\",\"metr\\u00f3\",\"BKK-automata\",\"2015-12-22T00:00:00\"],[\"BKK automata\",\"Budapest, XIII. ker\\u00fclet\",\"Gy\\u00f6ngy\\u00f6si utca M\",\"metr\\u00f3\",\"BKK-automata\",\"2014-07-17T00:00:00\"],[\"BKK automata\",\"Budapest, XIII. ker\\u00fclet\",\"D\\u00f3zsa Gy\\u00f6rgy \\u00fat M\",\"metr\\u00f3\",\"BKK-automata\",\"2014-11-04T00:00:00\"],[\"BKK automata\",\"Budapest, XIII. ker\\u00fclet\",\"\\u00c1rp\\u00e1d h\\u00edd M\",\"buszmeg\\u00e1ll\\u00f3\",\"BKK-automata\",\"2014-07-18T00:00:00\"],[\"BKK automata\",\"Budapest, XIII. ker\\u00fclet\",\"Gy\\u00f6ngy\\u00f6si utca\",\"buszmeg\\u00e1ll\\u00f3\",\"BKK-automata\",\"2014-07-17T00:00:00\"],[\"BKK automata\",\"Budapest, XIV. ker\\u00fclet\",\"Pusk\\u00e1s Ferenc Stadion M\",\"metr\\u00f3\",\"BKK-automata\",\"2014-07-31T00:00:00\"],[\"BKK automata\",\"Budapest, XIV. ker\\u00fclet\",\"Pusk\\u00e1s Ferenc Stadion M\",\"villamosmeg\\u00e1ll\\u00f3\",\"BKK-automata\",\"2014-09-05T00:00:00\"],[\"BKK automata\",\"Budapest, XIV. ker\\u00fclet\",\"Mexik\\u00f3i \\u00fat M\",\"metr\\u00f3\",\"BKK-automata\",\"2014-05-07T00:00:00\"],[\"BKK automata\",\"Budapest, XIV. ker\\u00fclet\",\"Bosny\\u00e1k t\\u00e9r\",\"villamosmeg\\u00e1ll\\u00f3\",\"BKK-automata\",\"2014-09-23T00:00:00\"],[\"BKK automata\",\"Budapest, XIV. ker\\u00fclet\",\"Nagy Lajos kir\\u00e1ly \\u00fatja\",\"villamosmeg\\u00e1ll\\u00f3\",\"BKK-automata\",\"2014-09-26T00:00:00\"],[\"BKK automata\",\"Budapest, XIV. ker\\u00fclet\",\"Egressy t\\u00e9r\",\"villamosmeg\\u00e1ll\\u00f3\",\"BKK-automata\",\"2014-10-01T00:00:00\"],[\"BKK automata\",\"Budapest, XIV. ker\\u00fclet\",\"Fogarasi \\u00fat\",\"egy\\u00e9b\",\"BKK-automata\",\"2014-10-15T00:00:00\"],[\"BKK automata\",\"Budapest, XIV. ker\\u00fclet\",\"Pongr\\u00e1tz Gergely t\\u00e9r\",\"buszmeg\\u00e1ll\\u00f3\",\"BKK-automata\",\"2015-01-28T00:00:00\"],[\"BKK automata\",\"Budapest, XIV. ker\\u00fclet\",\"Fogarasi \\u00fat\",\"buszmeg\\u00e1ll\\u00f3\",\"BKK-automata\",\"2014-12-18T00:00:00\"],[\"BKK automata\",\"Budapest, XIV. ker\\u00fclet\",\"Vez\\u00e9r utca\",\"buszmeg\\u00e1ll\\u00f3\",\"BKK-automata\",\"2014-10-15T00:00:00\"],[\"BKK automata\",\"Budapest, XIV. ker\\u00fclet\",\"Zugl\\u00f3 vas\\u00fat\\u00e1llom\\u00e1s\",\"villamosmeg\\u00e1ll\\u00f3\",\"BKK-automata\",\"2014-11-20T00:00:00\"],[\"BKK automata\",\"Budapest, XIV. ker\\u00fclet\",\"Reiner Frigyes park, Th\\u00f6k\\u00f6ly \\u00fat, D\\u00f3zsa Gy\\u00f6rgy \\u00fat\",\"buszmeg\\u00e1ll\\u00f3\",\"BKK-automata\",\"2018-09-17T00:00:00\"],[\"BKK automata\",\"Budapest, XIV. ker\\u00fclet\",\"Pusk\\u00e1s Ferenc Stadion M\",\"metr\\u00f3\",\"BKK-automata\",\"2014-04-29T00:00:00\"],[\"BKK automata\",\"Budapest, XIV. ker\\u00fclet\",\"Pillang\\u00f3 utca M\",\"metr\\u00f3\",\"BKK-automata\",\"2014-07-30T00:00:00\"],[\"BKK automata\",\"Budapest, XIV. ker\\u00fclet\",\"\\u00d6rs vez\\u00e9r tere M+H\",\"H\\u00c9V\",\"BKK-automata\",\"2014-07-15T00:00:00\"],[\"BKK automata\",\"Budapest, XIV. ker\\u00fclet\",\"Bosny\\u00e1k t\\u00e9r\",\"buszmeg\\u00e1ll\\u00f3\",\"BKK-automata\",\"2014-09-19T00:00:00\"],[\"BKK automata\",\"Budapest, XIV. ker\\u00fclet\",\"Mexik\\u00f3i \\u00fat M\",\"metr\\u00f3\",\"BKK-automata\",\"2014-12-05T00:00:00\"],[\"BKK automata\",\"Budapest, XIV. ker\\u00fclet\",\"Sz\\u00e9chenyi f\\u00fcrd\\u0151 M\",\"metr\\u00f3\",\"BKK-automata\",\"2015-03-12T00:00:00\"],[\"BKK automata\",\"Budapest, XIV. ker\\u00fclet\",\"Pusk\\u00e1s Ferenc Stadion M\",\"metr\\u00f3\",\"BKK-automata\",\"2015-12-29T00:00:00\"],[\"BKK automata\",\"Budapest, XIV. ker\\u00fclet\",\"Pusk\\u00e1s Ferenc Stadion M\",\"metr\\u00f3\",\"BKK-automata\",\"2015-12-24T00:00:00\"],[\"BKK automata\",\"Budapest, XIV. ker\\u00fclet\",\"Sz\\u00e9chenyi f\\u00fcrd\\u0151 M\",\"metr\\u00f3\",\"BKK-automata\",\"2020-07-28T00:00:00\"],[\"BKK automata\",\"Budapest, XIV. ker\\u00fclet\",\"Mexik\\u00f3i \\u00fat M\",\"metr\\u00f3\",\"BKK-automata\",\"2015-12-29T00:00:00\"],[\"BKK automata\",\"Budapest, XIV. ker\\u00fclet\",\"\\u00d6rs vez\\u00e9r tere M+H\",\"H\\u00c9V\",\"BKK-automata\",\"2015-12-18T00:00:00\"],[\"BKK automata\",\"Budapest, XIX. ker\\u00fclet\",\"K\\u00f3s K\\u00e1roly t\\u00e9r\",\"buszmeg\\u00e1ll\\u00f3\",\"BKK-automata\",\"2017-12-02T00:00:00\"],[\"BKK automata\",\"Budapest, XIX. ker\\u00fclet\",\"Kossuth t\\u00e9r\",\"villamosmeg\\u00e1ll\\u00f3\",\"BKK-automata\",\"2014-12-18T00:00:00\"],[\"BKK automata\",\"Budapest, XIX. ker\\u00fclet\",\"Hat\\u00e1r \\u00fat M\",\"metr\\u00f3\",\"BKK-automata\",\"2014-04-24T00:00:00\"],[\"BKK automata\",\"Budapest, XIX. ker\\u00fclet\",\"\\u00dcll\\u0151i \\u00fat , Villanytelep utca\",\"villamosmeg\\u00e1ll\\u00f3\",\"BKK-automata\",\"2018-09-18T00:00:00\"],[\"BKK automata\",\"Budapest, XIX. ker\\u00fclet\",\"Hat\\u00e1r \\u00fat M\",\"metr\\u00f3\",\"BKK-automata\",\"2014-04-24T00:00:00\"],[\"BKK automata\",\"Budapest, XIX. ker\\u00fclet\",\"Hat\\u00e1r \\u00fat M\",\"metr\\u00f3\",\"BKK-automata\",\"2014-04-24T00:00:00\"],[\"BKK automata\",\"Budapest, XIX. ker\\u00fclet\",\"Kispest, Vas Gereben utca\",\"buszmeg\\u00e1ll\\u00f3\",\"BKK-automata\",\"2014-09-10T00:00:00\"],[\"BKK automata\",\"Budapest, XIX. ker\\u00fclet\",\"Hat\\u00e1r \\u00fat M\",\"metr\\u00f3\",\"BKK-automata\",\"2020-10-23T00:00:00\"],[\"BKK automata\",\"Budapest, XV. ker\\u00fclet\",\"R\\u00e1kos \\u00fat\",\"buszmeg\\u00e1ll\\u00f3\",\"BKK-automata\",\"2014-09-11T00:00:00\"],[\"BKK automata\",\"Budapest, XV. ker\\u00fclet\",\"Ny\\u00edrpalota \\u00fat\",\"buszmeg\\u00e1ll\\u00f3\",\"BKK-automata\",\"2014-09-06T00:00:00\"],[\"BKK automata\",\"Budapest, XV. ker\\u00fclet\",\"Dr\\u00e9gelyv\\u00e1r utca\",\"buszmeg\\u00e1ll\\u00f3\",\"BKK-automata\",\"2014-12-22T00:00:00\"],[\"BKK automata\",\"Budapest, XV. ker\\u00fclet\",\"R\\u00e1kospalota, Kossuth utca\",\"villamosmeg\\u00e1ll\\u00f3\",\"BKK-automata\",\"2014-11-19T00:00:00\"],[\"BKK automata\",\"Budapest, XV. ker\\u00fclet\",\"R\\u00e1kospalota, M\\u00c1V-telep\",\"villamosmeg\\u00e1ll\\u00f3\",\"BKK-automata\",\"2014-08-28T00:00:00\"],[\"BKK automata\",\"Budapest, XV. ker\\u00fclet\",\"V\\u00e1s\\u00e1rcsarnok\",\"buszmeg\\u00e1ll\\u00f3\",\"BKK-automata\",\"2014-08-26T00:00:00\"],[\"BKK automata\",\"Budapest, XV. ker\\u00fclet\",\"Hubay Jen\\u0151 t\\u00e9r\",\"buszmeg\\u00e1ll\\u00f3\",\"BKK-automata\",\"2015-12-29T00:00:00\"],[\"BKK automata\",\"Budapest, XV. ker\\u00fclet\",\"V\\u00e1s\\u00e1rcsarnok\",\"buszmeg\\u00e1ll\\u00f3\",\"BKK-automata\",\"2015-12-28T00:00:00\"],[\"BKK automata\",\"Budapest, XV. ker\\u00fclet\",\"R\\u00e1kos \\u00fati szakrendel\\u0151\",\"buszmeg\\u00e1ll\\u00f3\",\"BKK-automata\",\"2015-12-28T00:00:00\"],[\"BKK automata\",\"Budapest, XV. ker\\u00fclet\",\"Szentmih\\u00e1lyi \\u00fat\",\"buszmeg\\u00e1ll\\u00f3\",\"BKK-automata\",\"2015-12-18T00:00:00\"],[\"BKK automata\",\"Budapest, XVI. ker\\u00fclet\",\"\\u00dajsz\\u00e1sz utca\",\"buszmeg\\u00e1ll\\u00f3\",\"BKK-automata\",\"2015-02-07T00:00:00\"],[\"BKK automata\",\"Budapest, XVI. ker\\u00fclet\",\"Egyenes utcai lak\\u00f3telep\",\"buszmeg\\u00e1ll\\u00f3\",\"BKK-automata\",\"2015-01-13T00:00:00\"],[\"BKK automata\",\"Budapest, XVI. ker\\u00fclet\",\"R\\u00e1kosi \\u00fat\",\"buszmeg\\u00e1ll\\u00f3\",\"BKK-automata\",\"2014-09-12T00:00:00\"],[\"BKK automata\",\"Budapest, XVI. ker\\u00fclet\",\"\\u00c1ll\\u00e1s utca\",\"buszmeg\\u00e1ll\\u00f3\",\"BKK-automata\",\"2014-12-16T00:00:00\"],[\"BKK automata\",\"Budapest, XVI. ker\\u00fclet\",\"Cs\\u00f6m\\u00f6ri \\u00fat\",\"buszmeg\\u00e1ll\\u00f3\",\"BKK-automata\",\"2014-12-16T00:00:00\"],[\"BKK automata\",\"Budapest, XVI. ker\\u00fclet\",\"Margit utca\",\"buszmeg\\u00e1ll\\u00f3\",\"BKK-automata\",\"2014-09-12T00:00:00\"],[\"BKK automata\",\"Budapest, XVI. ker\\u00fclet\",\"Cinkota H\",\"H\\u00c9V\",\"BKK-automata\",\"2014-08-10T00:00:00\"],[\"BKK automata\",\"Budapest, XVI. ker\\u00fclet\",\"M\\u00e1ty\\u00e1sf\\u00f6ld, rep\\u00fcl\\u0151t\\u00e9r H\",\"buszmeg\\u00e1ll\\u00f3\",\"BKK-automata\",\"2014-12-05T00:00:00\"],[\"BKK automata\",\"Budapest, XVI. ker\\u00fclet\",\"Sashalom H\",\"H\\u00c9V\",\"BKK-automata\",\"2015-12-18T00:00:00\"],[\"BKK automata\",\"Budapest, XVII. ker\\u00fclet\",\"R\\u00e1koskereszt\\u00far, v\\u00e1rosk\\u00f6zpont\",\"buszmeg\\u00e1ll\\u00f3\",\"BKK-automata\",\"2014-12-16T00:00:00\"],[\"BKK automata\",\"Budapest, XVII. ker\\u00fclet\",\"R\\u00e1koskereszt\\u00far, v\\u00e1rosk\\u00f6zpont\",\"buszmeg\\u00e1ll\\u00f3\",\"BKK-automata\",\"2014-12-16T00:00:00\"],[\"BKK automata\",\"Budapest, XVII. ker\\u00fclet\",\"H\\u0151s\\u00f6k tere\",\"buszmeg\\u00e1ll\\u00f3\",\"BKK-automata\",\"2014-11-28T00:00:00\"],[\"BKK automata\",\"Budapest, XVII. ker\\u00fclet\",\"Csaba vez\\u00e9r t\\u00e9r\",\"buszmeg\\u00e1ll\\u00f3\",\"BKK-automata\",\"2014-08-18T00:00:00\"],[\"BKK automata\",\"Budapest, XVII. ker\\u00fclet\",\"Pesti \\u00fat\",\"buszmeg\\u00e1ll\\u00f3\",\"BKK-automata\",\"2014-08-18T00:00:00\"],[\"BKK automata\",\"Budapest, XVII. ker\\u00fclet\",\"Kucorg\\u00f3 t\\u00e9r\",\"buszmeg\\u00e1ll\\u00f3\",\"BKK-automata\",\"2014-08-18T00:00:00\"],[\"BKK automata\",\"Budapest, XVIII. ker\\u00fclet\",\"Pestszentimre vas\\u00fat\\u00e1llom\\u00e1s\",\"buszmeg\\u00e1ll\\u00f3\",\"BKK-automata\",\"2014-09-05T00:00:00\"],[\"BKK automata\",\"Budapest, XVIII. ker\\u00fclet\",\"B\\u00e9ke t\\u00e9r\",\"villamosmeg\\u00e1ll\\u00f3\",\"BKK-automata\",\"2014-09-04T00:00:00\"],[\"BKK automata\",\"Budapest, XVIII. ker\\u00fclet\",\"Szarvas cs\\u00e1rda t\\u00e9r\",\"villamosmeg\\u00e1ll\\u00f3\",\"BKK-automata\",\"2014-09-25T00:00:00\"],[\"BKK automata\",\"Budapest, XVIII. ker\\u00fclet\",\"Liszt Ferenc Nemzetk\\u00f6zi Rep\\u00fcl\\u0151t\\u00e9r\",\"rep\\u00fcl\\u0151t\\u00e9r\",\"BKK-automata\",\"2015-05-05T00:00:00\"],[\"BKK automata\",\"Budapest, XVIII. ker\\u00fclet\",\"Liszt Ferenc Nemzetk\\u00f6zi Rep\\u00fcl\\u0151t\\u00e9r\",\"rep\\u00fcl\\u0151t\\u00e9r\",\"BKK-automata\",\"2015-05-05T00:00:00\"],[\"BKK automata\",\"Budapest, XVIII. ker\\u00fclet\",\"Liszt Ferenc Nemzetk\\u00f6zi Rep\\u00fcl\\u0151t\\u00e9r\",\"rep\\u00fcl\\u0151t\\u00e9r\",\"BKK-automata\",\"2017-08-02T00:00:00\"],[\"BKK automata\",\"Budapest, XVIII. ker\\u00fclet\",\"Alacskai \\u00fati lak\\u00f3telep\",\"buszmeg\\u00e1ll\\u00f3\",\"BKK-automata\",\"2014-12-18T00:00:00\"],[\"BKK automata\",\"Budapest, XVIII. ker\\u00fclet\",\"\\u00dcll\\u0151i \\u00fat\",\"villamosmeg\\u00e1ll\\u00f3\",\"BKK-automata\",\"2014-12-18T00:00:00\"],[\"BKK automata\",\"Budapest, XVIII. ker\\u00fclet\",\"T\\u00f6vish\\u00e1t utca\",\"buszmeg\\u00e1ll\\u00f3\",\"BKK-automata\",\"2014-12-19T00:00:00\"],[\"BKK automata\",\"Budapest, XVIII. ker\\u00fclet\",\"\\u00dcll\\u0151i \\u00fat\",\"villamosmeg\\u00e1ll\\u00f3\",\"BKK-automata\",\"2014-11-28T00:00:00\"],[\"BKK automata\",\"Budapest, XVIII. ker\\u00fclet\",\"Barta Lajos utca\",\"buszmeg\\u00e1ll\\u00f3\",\"BKK-automata\",\"2015-02-13T00:00:00\"],[\"BKK automata\",\"Budapest, XVIII. ker\\u00fclet\",\"Liszt Ferenc Nemzetk\\u00f6zi Rep\\u00fcl\\u0151t\\u00e9r\",\"rep\\u00fcl\\u0151t\\u00e9r\",\"BKK-automata\",\"2017-09-14T00:00:00\"],[\"BKK automata\",\"Budapest, XVIII. ker\\u00fclet\",\"Liszt Ferenc Nemzetk\\u00f6zi Rep\\u00fcl\\u0151t\\u00e9r\",\"rep\\u00fcl\\u0151t\\u00e9r\",\"BKK-automata\",\"2019-05-21T00:00:00\"],[\"BKK automata\",\"Budapest, XVIII. ker\\u00fclet\",\"Liszt Ferenc Nemzetk\\u00f6zi Rep\\u00fcl\\u0151t\\u00e9r\",\"rep\\u00fcl\\u0151t\\u00e9r\",\"BKK-automata\",\"2019-05-21T00:00:00\"],[\"BKK automata\",\"Budapest, XVIII. ker\\u00fclet\",\"Liszt Ferenc Nemzetk\\u00f6zi Rep\\u00fcl\\u0151t\\u00e9r\",\"rep\\u00fcl\\u0151t\\u00e9r\",\"BKK-automata\",\"2019-05-21T00:00:00\"],[\"BKK automata\",\"Budapest, XVIII. ker\\u00fclet\",\"Liszt Ferenc Nemzetk\\u00f6zi Rep\\u00fcl\\u0151t\\u00e9r\",\"rep\\u00fcl\\u0151t\\u00e9r\",\"BKK-automata\",\"2019-05-21T00:00:00\"],[\"BKK automata\",\"Budapest, XVIII. ker\\u00fclet\",\"Gy\\u00f6mr\\u0151i \\u00fat\",\"buszmeg\\u00e1ll\\u00f3\",\"BKK-automata\",\"2015-12-28T00:00:00\"],[\"BKK automata\",\"Budapest, XX. ker\\u00fclet\",\"T\\u00e1tra t\\u00e9r\",\"buszmeg\\u00e1ll\\u00f3\",\"BKK-automata\",\"2017-12-06T00:00:00\"],[\"BKK automata\",\"Budapest, XX. ker\\u00fclet\",\"Pesterzs\\u00e9bet, v\\u00e1rosk\\u00f6zpont\",\"buszmeg\\u00e1ll\\u00f3\",\"BKK-automata\",\"2014-09-12T00:00:00\"],[\"BKK automata\",\"Budapest, XX. ker\\u00fclet\",\"Top\\u00e1nka utca\",\"buszmeg\\u00e1ll\\u00f3\",\"BKK-automata\",\"2015-12-18T00:00:00\"],[\"BKK automata\",\"Budapest, XX. ker\\u00fclet\",\"Pesterzs\\u00e9bet fels\\u0151 H\",\"egy\\u00e9b\",\"BKK-automata\",\"2014-09-20T00:00:00\"],[\"BKK automata\",\"Budapest, XXI. ker\\u00fclet\",\"V\\u00e9nusz utca\",\"buszmeg\\u00e1ll\\u00f3\",\"BKK-automata\",\"2014-07-30T00:00:00\"],[\"BKK automata\",\"Budapest, XXI. ker\\u00fclet\",\"Kossuth Lajos utca\",\"buszmeg\\u00e1ll\\u00f3\",\"BKK-automata\",\"2014-08-16T00:00:00\"],[\"BKK automata\",\"Budapest, XXI. ker\\u00fclet\",\"Sz\\u00e9chenyi Istv\\u00e1n utca\",\"buszmeg\\u00e1ll\\u00f3\",\"BKK-automata\",\"2014-12-01T00:00:00\"],[\"BKK automata\",\"Budapest, XXI. ker\\u00fclet\",\"Kir\\u00e1lyerdei M\\u0171vel\\u0151d\\u00e9si H\\u00e1z\",\"buszmeg\\u00e1ll\\u00f3\",\"BKK-automata\",\"2015-01-13T00:00:00\"],[\"BKK automata\",\"Budapest, XXI. ker\\u00fclet\",\"Ady Endre \\u00fat\",\"buszmeg\\u00e1ll\\u00f3\",\"BKK-automata\",\"2015-02-20T00:00:00\"],[\"BKK automata\",\"Budapest, XXI. ker\\u00fclet\",\"Szent Imre t\\u00e9r \",\"egy\\u00e9b\",\"BKK-automata\",\"2014-08-15T00:00:00\"],[\"BKK automata\",\"Budapest, XXI. ker\\u00fclet\",\"Csepel H\",\"H\\u00c9V\",\"BKK-automata\",\"2014-08-28T00:00:00\"],[\"BKK automata\",\"Budapest, XXI. ker\\u00fclet\",\"Csepel H\",\"H\\u00c9V\",\"BKK-automata\",\"2016-03-08T00:00:00\"],[\"BKK automata\",\"Budapest, XXII. ker\\u00fclet\",\"Budafok, V\\u00e1rosh\\u00e1z t\\u00e9r\",\"villamosmeg\\u00e1ll\\u00f3\",\"BKK-automata\",\"2014-09-03T00:00:00\"],[\"BKK automata\",\"Budapest, XXII. Ker\\u00fclet\",\"Le\\u00e1nyka utca\",\"buszmeg\\u00e1ll\\u00f3\",\"BKK-automata\",\"2014-12-08T00:00:00\"],[\"BKK automata\",\"Budapest, XXII. Ker\\u00fclet\",\"Nagyt\\u00e9t\\u00e9nyi \\u00fat\",\"buszmeg\\u00e1ll\\u00f3\",\"BKK-automata\",\"2014-09-25T00:00:00\"],[\"BKK automata\",\"Budapest, XXII. ker\\u00fclet\",\"R\\u00f3zsakert utca / R\\u00e1k\\u00f3czi utca\",\"buszmeg\\u00e1ll\\u00f3\",\"BKK-automata\",\"2014-12-19T00:00:00\"],[\"BKK automata\",\"Budapest, XXII. ker\\u00fclet\",\"Budafok, V\\u00e1rosh\\u00e1z t\\u00e9r\",\"villamosmeg\\u00e1ll\\u00f3\",\"BKK-automata\",\"2015-12-28T00:00:00\"],[\"BKK automata\",\"Budapest, XXIII. ker\\u00fclet\",\"\\u00dajtelep \\u00fat\",\"buszmeg\\u00e1ll\\u00f3\",\"BKK-automata\",\"2015-03-18T00:00:00\"],[\"BKK automata\",\"Budapest, XXIII. Ker\\u00fclet\",\"Grassalkovich \\u00fat\",\"buszmeg\\u00e1ll\\u00f3\",\"BKK-automata\",\"2014-09-30T00:00:00\"],[\"BKK automata\",\"Cs\\u00f6m\\u00f6r\",\"H\\u00c9V-\\u00e1llom\\u00e1s\",\"egy\\u00e9b\",\"BKK-automata\",\"2014-09-25T00:00:00\"],[\"BKK automata\",\"Dunaharaszti\",\"Dunaharaszti-k\\u00fcls\\u0151 H\",\"H\\u00c9V\",\"BKK-automata\",\"2014-07-12T00:00:00\"],[\"BKK automata\",\"G\\u00f6d\\u00f6ll\\u0151\",\"h\\u00e9vv\\u00e9g\\u00e1llom\\u00e1s\",\"egy\\u00e9b\",\"BKK-automata\",\"2014-07-15T00:00:00\"],[\"BKK automata\",\"G\\u00f6d\\u00f6ll\\u0151\",\"Szabads\\u00e1g t\\u00e9r H\",\"H\\u00c9V\",\"BKK-automata\",\"2014-07-15T00:00:00\"],[\"BKK automata\",\"Gy\\u00e1l\",\"K\\u0151r\\u00f6si \\u00fat\",\"buszmeg\\u00e1ll\\u00f3\",\"BKK-automata\",\"2015-03-18T00:00:00\"],[\"BKK automata\",\"Mogyor\\u00f3d\",\"h\\u00e9v\\u00e1llom\\u00e1s\",\"egy\\u00e9b\",\"BKK-automata\",\"2014-09-25T00:00:00\"],[\"BKK automata\",\"Nagykov\\u00e1csi\",\"Tisza Istv\\u00e1n t\\u00e9r\",\"buszmeg\\u00e1ll\\u00f3\",\"BKK-automata\",\"2014-07-24T00:00:00\"],[\"BKK automata\",\"P\\u00e9cel\",\"R\\u00e1day Gedeon t\\u00e9r\",\"buszmeg\\u00e1ll\\u00f3\",\"BKK-automata\",\"2014-12-22T00:00:00\"],[\"BKK automata\",\"Pom\\u00e1z\",\"h\\u00e9v\\u00e1llom\\u00e1s\",\"egy\\u00e9b\",\"BKK-automata\",\"2014-07-21T00:00:00\"],[\"BKK automata\",\"Pom\\u00e1z\",\"h\\u00e9v\\u00e1llom\\u00e1s\",\"egy\\u00e9b\",\"BKK-automata\",\"2018-10-09T00:00:00\"],[\"BKK automata\",\"Solym\\u00e1r\",\"Solym\\u00e1r, k\\u00f6zs\\u00e9gh\\u00e1za\",\"buszmeg\\u00e1ll\\u00f3\",\"BKK-automata\",\"2014-12-22T00:00:00\"],[\"BKK automata\",\"Szentendre\",\"Pann\\u00f3niatelep\",\"H\\u00c9V\",\"BKK-automata\",\"2018-06-21T00:00:00\"],[\"BKK automata\",\"Szentendre\",\"h\\u00e9vv\\u00e9g\\u00e1llom\\u00e1s\",\"egy\\u00e9b\",\"BKK-automata\",\"2014-07-21T00:00:00\"],[\"BKK automata\",\"Szentendre\",\"h\\u00e9vv\\u00e9g\\u00e1llom\\u00e1s\",\"egy\\u00e9b\",\"BKK-automata\",\"2014-07-21T00:00:00\"],[\"BKK automata\",\"Szentendre\",\"h\\u00e9vv\\u00e9g\\u00e1llom\\u00e1s\",\"egy\\u00e9b\",\"BKK-automata\",\"2018-10-09T00:00:00\"],[\"BKK automata\",\"Szigetszentmikl\\u00f3s\",\"Gy\\u00e1rtelep H\",\"H\\u00c9V\",\"BKK-automata\",\"2014-07-11T00:00:00\"],[\"BKK automata\",\"Szigetszentmikl\\u00f3s\",\"V\\u00e1rosh\\u00e1za\",\"buszmeg\\u00e1ll\\u00f3\",\"BKK-automata\",\"2014-10-20T00:00:00\"],[\"BKK automata\",\"Szigetszentmikl\\u00f3s\",\"J\\u00f3zsef Attila-telep H\",\"H\\u00c9V\",\"BKK-automata\",\"2014-07-12T00:00:00\"],[\"BKK automata\",\"T\\u00f6k\\u00f6l\",\"h\\u00e9v\\u00e1llom\\u00e1s\",\"egy\\u00e9b\",\"BKK-automata\",\"2014-07-11T00:00:00\"],[\"BKK automata\",\"T\\u00f6r\\u00f6kb\\u00e1lint\",\"De\\u00e1k Ferenc utca\",\"buszmeg\\u00e1ll\\u00f3\",\"BKK-automata\",\"2018-07-23T00:00:00\"],[\"BKK automata\",\"T\\u00f6r\\u00f6kb\\u00e1lint\",\"Munk\\u00e1csy Mih\\u00e1ly utca\",\"buszmeg\\u00e1ll\\u00f3\",\"BKK-automata\",\"2014-05-08T00:00:00\"]],\"hovertemplate\":\"<b>%{hovertext}</b><br><br>organization=%{customdata[4]}<br>lat=%{lat}<br>lng=%{lon}<br>type=%{customdata[0]}<br>place=%{customdata[1]}<br>address=%{customdata[2]}<br>description=%{customdata[3]}<br>placed_at=%{customdata[5]}<extra></extra>\",\"hovertext\":[\"BKK automata\",\"BKK automata\",\"BKK automata\",\"BKK automata\",\"BKK automata\",\"BKK automata\",\"BKK automata\",\"BKK automata\",\"BKK automata\",\"BKK automata\",\"BKK automata\",\"BKK automata\",\"BKK automata\",\"BKK automata\",\"BKK automata\",\"BKK automata\",\"BKK automata\",\"BKK automata\",\"BKK automata\",\"BKK automata\",\"BKK automata\",\"BKK automata\",\"BKK automata\",\"BKK automata\",\"BKK automata\",\"BKK automata\",\"BKK automata\",\"BKK automata\",\"BKK automata\",\"BKK automata\",\"BKK automata\",\"BKK automata\",\"BKK automata\",\"BKK automata\",\"BKK automata\",\"BKK automata\",\"BKK automata\",\"BKK automata\",\"BKK automata\",\"BKK automata\",\"BKK automata\",\"BKK automata\",\"BKK automata\",\"BKK automata\",\"BKK automata\",\"BKK automata\",\"BKK automata\",\"BKK automata\",\"BKK automata\",\"BKK automata\",\"BKK automata\",\"BKK automata\",\"BKK automata\",\"BKK automata\",\"BKK automata\",\"BKK automata\",\"BKK automata\",\"BKK automata\",\"BKK automata\",\"BKK automata\",\"BKK automata\",\"BKK automata\",\"BKK automata\",\"BKK automata\",\"BKK automata\",\"BKK automata\",\"BKK automata\",\"BKK automata\",\"BKK automata\",\"BKK automata\",\"BKK automata\",\"BKK automata\",\"BKK automata\",\"BKK automata\",\"BKK automata\",\"BKK automata\",\"BKK automata\",\"BKK automata\",\"BKK automata\",\"BKK automata\",\"BKK automata\",\"BKK automata\",\"BKK automata\",\"BKK automata\",\"BKK automata\",\"BKK automata\",\"BKK automata\",\"BKK automata\",\"BKK automata\",\"BKK automata\",\"BKK automata\",\"BKK automata\",\"BKK automata\",\"BKK automata\",\"BKK automata\",\"BKK automata\",\"BKK automata\",\"BKK automata\",\"BKK automata\",\"BKK automata\",\"BKK automata\",\"BKK automata\",\"BKK automata\",\"BKK automata\",\"BKK automata\",\"BKK automata\",\"BKK automata\",\"BKK automata\",\"BKK automata\",\"BKK automata\",\"BKK automata\",\"BKK automata\",\"BKK automata\",\"BKK automata\",\"BKK automata\",\"BKK automata\",\"BKK automata\",\"BKK automata\",\"BKK automata\",\"BKK automata\",\"BKK automata\",\"BKK automata\",\"BKK automata\",\"BKK automata\",\"BKK automata\",\"BKK automata\",\"BKK automata\",\"BKK automata\",\"BKK automata\",\"BKK automata\",\"BKK automata\",\"BKK automata\",\"BKK automata\",\"BKK automata\",\"BKK automata\",\"BKK automata\",\"BKK automata\",\"BKK automata\",\"BKK automata\",\"BKK automata\",\"BKK automata\",\"BKK automata\",\"BKK automata\",\"BKK automata\",\"BKK automata\",\"BKK automata\",\"BKK automata\",\"BKK automata\",\"BKK automata\",\"BKK automata\",\"BKK automata\",\"BKK automata\",\"BKK automata\",\"BKK automata\",\"BKK automata\",\"BKK automata\",\"BKK automata\",\"BKK automata\",\"BKK automata\",\"BKK automata\",\"BKK automata\",\"BKK automata\",\"BKK automata\",\"BKK automata\",\"BKK automata\",\"BKK automata\",\"BKK automata\",\"BKK automata\",\"BKK automata\",\"BKK automata\",\"BKK automata\",\"BKK automata\",\"BKK automata\",\"BKK automata\",\"BKK automata\",\"BKK automata\",\"BKK automata\",\"BKK automata\",\"BKK automata\",\"BKK automata\",\"BKK automata\",\"BKK automata\",\"BKK automata\",\"BKK automata\",\"BKK automata\",\"BKK automata\",\"BKK automata\",\"BKK automata\",\"BKK automata\",\"BKK automata\",\"BKK automata\",\"BKK automata\",\"BKK automata\",\"BKK automata\",\"BKK automata\",\"BKK automata\",\"BKK automata\",\"BKK automata\",\"BKK automata\",\"BKK automata\",\"BKK automata\",\"BKK automata\",\"BKK automata\",\"BKK automata\",\"BKK automata\",\"BKK automata\",\"BKK automata\",\"BKK automata\",\"BKK automata\",\"BKK automata\",\"BKK automata\",\"BKK automata\",\"BKK automata\",\"BKK automata\",\"BKK automata\",\"BKK automata\",\"BKK automata\",\"BKK automata\",\"BKK automata\",\"BKK automata\",\"BKK automata\",\"BKK automata\",\"BKK automata\",\"BKK automata\",\"BKK automata\",\"BKK automata\",\"BKK automata\",\"BKK automata\",\"BKK automata\",\"BKK automata\",\"BKK automata\",\"BKK automata\",\"BKK automata\",\"BKK automata\",\"BKK automata\",\"BKK automata\",\"BKK automata\",\"BKK automata\",\"BKK automata\",\"BKK automata\",\"BKK automata\",\"BKK automata\",\"BKK automata\",\"BKK automata\",\"BKK automata\",\"BKK automata\",\"BKK automata\",\"BKK automata\",\"BKK automata\",\"BKK automata\",\"BKK automata\",\"BKK automata\",\"BKK automata\",\"BKK automata\",\"BKK automata\",\"BKK automata\",\"BKK automata\",\"BKK automata\",\"BKK automata\",\"BKK automata\",\"BKK automata\",\"BKK automata\",\"BKK automata\",\"BKK automata\",\"BKK automata\",\"BKK automata\",\"BKK automata\",\"BKK automata\",\"BKK automata\",\"BKK automata\",\"BKK automata\",\"BKK automata\",\"BKK automata\",\"BKK automata\",\"BKK automata\",\"BKK automata\",\"BKK automata\",\"BKK automata\",\"BKK automata\",\"BKK automata\",\"BKK automata\",\"BKK automata\",\"BKK automata\",\"BKK automata\",\"BKK automata\",\"BKK automata\",\"BKK automata\",\"BKK automata\",\"BKK automata\",\"BKK automata\",\"BKK automata\",\"BKK automata\",\"BKK automata\",\"BKK automata\",\"BKK automata\",\"BKK automata\",\"BKK automata\",\"BKK automata\",\"BKK automata\",\"BKK automata\",\"BKK automata\",\"BKK automata\",\"BKK automata\",\"BKK automata\",\"BKK automata\",\"BKK automata\",\"BKK automata\",\"BKK automata\",\"BKK automata\",\"BKK automata\",\"BKK automata\",\"BKK automata\",\"BKK automata\",\"BKK automata\",\"BKK automata\",\"BKK automata\",\"BKK automata\",\"BKK automata\",\"BKK automata\",\"BKK automata\",\"BKK automata\",\"BKK automata\",\"BKK automata\",\"BKK automata\",\"BKK automata\",\"BKK automata\",\"BKK automata\",\"BKK automata\",\"BKK automata\",\"BKK automata\",\"BKK automata\",\"BKK automata\",\"BKK automata\",\"BKK automata\",\"BKK automata\",\"BKK automata\",\"BKK automata\",\"BKK automata\",\"BKK automata\",\"BKK automata\",\"BKK automata\",\"BKK automata\",\"BKK automata\",\"BKK automata\",\"BKK automata\",\"BKK automata\",\"BKK automata\",\"BKK automata\",\"BKK automata\",\"BKK automata\",\"BKK automata\",\"BKK automata\",\"BKK automata\",\"BKK automata\",\"BKK automata\",\"BKK automata\",\"BKK automata\",\"BKK automata\",\"BKK automata\",\"BKK automata\",\"BKK automata\",\"BKK automata\",\"BKK automata\",\"BKK automata\",\"BKK automata\",\"BKK automata\",\"BKK automata\",\"BKK automata\",\"BKK automata\",\"BKK automata\",\"BKK automata\",\"BKK automata\",\"BKK automata\",\"BKK automata\",\"BKK automata\",\"BKK automata\"],\"lat\":[47.628853,47.620216,47.507179,47.510682,47.456147,47.461346,47.461596,47.501292,47.50649,47.498198,47.507076,47.507091,47.508602,47.532313,47.506535,47.506528,47.500348,47.496649,47.50022,47.500201,47.500227,47.500195,47.506197,47.516237,47.529085,47.521895,47.562938,47.522962,47.506982,47.506982,47.506982,47.506982,47.543108,47.514614,47.514605,47.514535,47.543112,47.514605,47.51085,47.527699,47.548536,47.598261,47.534412,47.586107,47.575917,47.598399,47.598436,47.527705,47.541202,47.545001,47.539386,47.568311,47.556921,47.58253,47.579829,47.577814,47.560325,47.560303,47.560355,47.593278,47.565876,47.548777,47.555437,47.537824,47.560427,47.560427,47.560427,47.559002,47.559003,47.558995,47.466405,47.470447,47.478767,47.475006,47.475434,47.489062,47.475421,47.475427,47.478834,47.470933,47.468546,47.479007,47.476059,47.461805,47.468546,47.467644,47.470933,47.48956,47.479181,47.478943,47.478957,47.466325,47.479622,47.479865,47.479181,47.493087,47.493264,47.493236,47.486693,47.512991,47.496837,47.503055,47.503055,47.496786,47.486464,47.497556,47.497556,47.497019,47.505683,47.497019,47.505683,47.497556,47.497556,47.496816,47.513049,47.497229,47.511344,47.50721,47.502288,47.505014,47.514175,47.509248,47.514248,47.510466,47.510003,47.505761,47.50489,47.502792,47.500177,47.494429,47.500604,47.503776,47.500616,47.499949,47.499998,47.499955,47.494671,47.497,47.497,47.499794,47.499796,47.496673,47.500462,47.500105,47.49438,47.494433,47.499962,47.499977,47.499979,47.497448,47.485713,47.485873,47.495472,47.495555,47.492722,47.48975,47.48975,47.492803,47.489508,47.488906,47.489352,47.48975,47.482834,47.490819,47.49663,47.482732,47.486025,47.49663,47.48582,47.48577,47.482834,47.502833,47.502833,47.463446,47.462789,47.463302,47.463252,47.479286,47.470814,47.482449,47.488955,47.502941,47.502984,47.503021,47.463446,47.502869,47.463407,47.463393,47.455815,47.473668,47.467077,47.462633,47.466592,47.46426,47.46475,47.464194,47.464193,47.464276,47.464264,47.464263,47.464301,47.464305,47.477401,47.477412,47.483388,47.473987,47.473976,47.46393,47.463638,47.48172,47.443663,47.467031,47.483566,47.474307,47.45823,47.474242,47.436013,47.476811,47.475098,47.473337,47.464777,47.477887,47.477437,47.482742,47.490875,47.490191,47.494993,47.50985,47.499341,47.497649,47.509485,47.487356,47.510519,47.510527,47.511868,47.511721,47.532666,47.532583,47.532583,47.517077,47.532583,47.518383,47.517345,47.53262,47.532692,47.510498,47.510613,47.51176,47.52471,47.529728,47.548489,47.540127,47.517396,47.536206,47.526039,47.517047,47.517097,47.51712,47.52471,47.548719,47.52471,47.532515,47.548986,47.500131,47.500588,47.519527,47.519499,47.522311,47.514528,47.513697,47.509216,47.506198,47.519473,47.511182,47.504405,47.500388,47.501142,47.503843,47.519804,47.519527,47.51749,47.500388,47.500301,47.517475,47.519527,47.503872,47.454667,47.457763,47.465442,47.452278,47.46543,47.465341,47.441824,47.465341,47.54774,47.540897,47.533546,47.568113,47.541357,47.545218,47.562672,47.545175,47.553402,47.547177,47.506797,47.505743,47.520919,47.531699,47.521934,47.516245,47.519338,47.511591,47.508952,47.479585,47.479563,47.489214,47.486869,47.48329,47.469113,47.404297,47.429344,47.440289,47.432629,47.432563,47.432548,47.4132,47.434746,47.428539,47.446043,47.439156,47.432591,47.432679,47.432686,47.432707,47.432707,47.458019,47.442802,47.437666,47.436872,47.437879,47.410216,47.425941,47.42241,47.401044,47.434907,47.430937,47.421642,47.421718,47.426833,47.432437,47.408335,47.405617,47.426833,47.416013,47.399745,47.545025,47.360257,47.593117,47.597666,47.384384,47.596496,47.575795,47.491702,47.642736,47.642714,47.591467,47.652358,47.661044,47.661037,47.66103,47.333361,47.34859,47.337095,47.313425,47.440822,47.431324],\"legendgroup\":\"BKK-automata\",\"lon\":[19.043324,19.048866,18.921518,18.92957,18.940478,18.946054,18.964495,19.033854,19.038516,19.040015,19.025079,19.024951,19.02722,19.036746,19.03906,19.039082,19.023824,19.032922,19.024911,19.024939,19.024814,19.024909,19.039054,18.998869,19.003656,18.990152,18.962748,19.017372,19.024828,19.024828,19.024828,19.024828,18.964228,19.039483,19.039462,19.03864,18.964166,19.039462,19.031853,19.036961,19.043122,19.054661,19.039749,19.045014,19.048545,19.054622,19.054789,19.037486,19.040464,19.034682,19.047145,19.048371,19.045281,19.116912,19.088145,19.105819,19.089548,19.089494,19.098752,19.120378,19.111508,19.029375,19.089173,19.068814,19.089909,19.089909,19.089909,19.079281,19.079291,19.079333,19.076981,19.110856,19.089665,19.069779,19.098797,19.062547,19.098807,19.098822,19.089848,19.111251,19.116946,19.089944,19.0768,19.115309,19.116946,19.075689,19.111251,19.090939,19.066496,19.089795,19.089676,19.077077,19.067734,19.066205,19.066496,19.054743,19.055878,19.055907,19.05708,19.048353,19.055715,19.054611,19.054611,19.055768,19.0572,19.05504,19.05504,19.054106,19.046651,19.054106,19.046651,19.05504,19.05504,19.050705,19.048235,19.055383,19.072405,19.066321,19.058815,19.062798,19.076641,19.069191,19.076781,19.055777,19.056551,19.062662,19.063055,19.066185,19.068971,19.06016,19.082223,19.074514,19.082145,19.081394,19.081972,19.081875,19.059645,19.070388,19.070388,19.082653,19.082709,19.070227,19.081111,19.081891,19.060186,19.060254,19.082069,19.081941,19.083281,19.071264,19.069943,19.069951,19.077194,19.077361,19.071833,19.061666,19.061666,19.0712,19.07134,19.08525,19.061442,19.061666,19.079175,19.108895,19.070536,19.079038,19.069954,19.070686,19.07029,19.07023,19.079175,19.136194,19.136194,19.148326,19.148751,19.149469,19.149549,19.153365,19.164471,19.128645,19.135807,19.135806,19.135978,19.135817,19.148326,19.136258,19.149159,19.149162,19.039881,19.052858,19.043938,19.042516,19.005364,19.0195,19.033444,19.021277,19.021191,19.020717,19.020775,19.020829,19.019373,19.019416,19.047393,19.047452,19.054083,19.046354,19.046208,19.02339,19.033054,18.999043,19.036916,19.01642,19.053472,19.046739,19.033967,19.046675,19.041562,19.059326,19.039817,18.992427,19.033344,19.046158,19.048507,19.030294,19.014107,19.024468,19.019263,19.009842,19.008644,18.989643,19.013039,19.023577,19.056053,19.056027,19.05715,19.056894,19.066916,19.066583,19.066583,19.060234,19.066583,19.051409,19.060793,19.06655,19.066582,19.056155,19.056053,19.057065,19.063221,19.08015,19.073092,19.085418,19.060192,19.05933,19.077222,19.059805,19.059729,19.06002,19.063221,19.073081,19.063221,19.067467,19.073719,19.104904,19.10815,19.091055,19.111703,19.10238,19.12069,19.137018,19.128665,19.12341,19.126623,19.099411,19.08954,19.107117,19.119069,19.136767,19.112325,19.091055,19.080909,19.107041,19.107245,19.080994,19.091055,19.137142,19.126574,19.144442,19.12653,19.157316,19.126793,19.126864,19.141106,19.126917,19.11506,19.139134,19.130329,19.126059,19.120903,19.139902,19.114891,19.139892,19.118447,19.142176,19.204859,19.159099,19.166593,19.200975,19.152911,19.187985,19.21753,19.193582,19.17862,19.255431,19.255485,19.25943,19.286224,19.238884,19.294608,19.18565,19.217879,19.185418,19.261259,19.261183,19.261236,19.201482,19.201896,19.175323,19.171908,19.166623,19.261332,19.261355,19.261397,19.261439,19.261471,19.176475,19.111778,19.100915,19.097324,19.093802,19.060513,19.06992,19.087096,19.094685,19.076685,19.067941,19.066141,19.065959,19.039296,19.037432,19.016462,19.005381,19.039296,19.134408,19.114496,19.225065,19.086424,19.358085,19.347926,19.211584,19.27175,18.879471,19.342454,19.032782,19.032847,18.929347,19.064842,19.075538,19.075614,19.075614,19.003837,19.04472,19.034335,18.974238,18.913929,18.916633],\"marker\":{\"color\":\"#EF553B\"},\"mode\":\"markers\",\"name\":\"BKK-automata\",\"showlegend\":true,\"subplot\":\"mapbox\",\"type\":\"scattermapbox\"},{\"customdata\":[[\"Viszontelad\\u00f3\",\"Budakal\\u00e1sz\",\"Omszk park 1.\",\"bolt\",\"\\u00dajs\\u00e1gos\",null],[\"Viszontelad\\u00f3\",\"Buda\\u00f6rs\",\"Kinizsi utca 1-3.\",\"bolt\",\"\\u00dajs\\u00e1gos\",null],[\"Viszontelad\\u00f3\",\"Buda\\u00f6rs\",\"Sport utca 2-4. \",\"bolt\",\"\\u00dajs\\u00e1gos\",null],[\"Viszontelad\\u00f3\",\"Budapest II. ker\\u00fclet\",\"Sz\\u00e9ll K\\u00e1lm\\u00e1n t\\u00e9r\",\"egy\\u00e9b\",\"\\u00dajs\\u00e1gos\",null],[\"Viszontelad\\u00f3\",\"Budapest, I. ker\\u00fclet\",\"D\\u00e9li p\\u00e1lyaudvar peron\",\"egy\\u00e9b\",\"\\u00dajs\\u00e1gos\",null],[\"Viszontelad\\u00f3\",\"Budapest, I. ker\\u00fclet\",\"Batthy\\u00e1ny t\\u00e9r \",\"alulj\\u00e1r\\u00f3\",\"\\u00dajs\\u00e1gos\",null],[\"Viszontelad\\u00f3\",\"Budapest, I. ker\\u00fclet\",\"Krisztina k\\u00f6r\\u00fat 37/A\",\"alulj\\u00e1r\\u00f3\",\"\\u00dajs\\u00e1gos\",null],[\"Viszontelad\\u00f3\",\"Budapest, II. ker\\u00fclet\",\"Margit h\\u00edd HUBIZ\",\"alulj\\u00e1r\\u00f3\",\"\\u00dajs\\u00e1gos\",null],[\"Viszontelad\\u00f3\",\"Budapest, III. ker\\u00fclet\",\"B\\u00e9k\\u00e1smegyer H\\u00e9v  \\u00e1llom\\u00e1s\",\"bolt\",\"\\u00dajs\\u00e1gos\",null],[\"Viszontelad\\u00f3\",\"Budapest, III. ker\\u00fclet\",\"Csob\\u00e1nka t\\u00e9r 2.\",\"egy\\u00e9b\",\"\\u00dajs\\u00e1gos\",null],[\"Viszontelad\\u00f3\",\"Budapest, III. ker\\u00fclet\",\"Fl\\u00f3ri\\u00e1n t\\u00e9r 6-9.\",\"bolt\",\"\\u00dajs\\u00e1gos\",null],[\"Viszontelad\\u00f3\",\"Budapest, III. ker\\u00fclet\",\"Szentendrei \\u00fat 115.\",\"bolt\",\"\\u00dajs\\u00e1gos\",null],[\"Viszontelad\\u00f3\",\"Budapest, IV. ker\\u00fclet\",\"Szent Istv\\u00e1n t\\u00e9r 1.\",\"egy\\u00e9b\",\"\\u00dajs\\u00e1gos\",null],[\"Viszontelad\\u00f3\",\"Budapest, IV. ker\\u00fclet\",\"\\u00dajpest-K\\u00f6zpont M\",\"alulj\\u00e1r\\u00f3\",\"\\u00dajs\\u00e1gos\",null],[\"Viszontelad\\u00f3\",\"Budapest, IX. ker\\u00fclet\",\"\\u00dcll\\u0151i \\u00fat 131.\",\"buszmeg\\u00e1ll\\u00f3\",\"\\u00dajs\\u00e1gos\",null],[\"Viszontelad\\u00f3\",\"Budapest, IX. ker\\u00fclet\",\"Ferenc k\\u00f6r\\u00fat/ Corvin negyed\",\"metr\\u00f3\",\"\\u00dajs\\u00e1gos\",null],[\"Viszontelad\\u00f3\",\"Budapest, IX. ker\\u00fclet\",\"Bor\\u00e1ros t\\u00e9r\",\"alulj\\u00e1r\\u00f3\",\"\\u00dajs\\u00e1gos\",null],[\"Viszontelad\\u00f3\",\"Budapest, IX. ker\\u00fclet\",\"K\\u00e1lvin t\\u00e9r M\",\"alulj\\u00e1r\\u00f3\",\"\\u00dajs\\u00e1gos\",null],[\"Viszontelad\\u00f3\",\"Budapest, IX. ker\\u00fclet\",\"Nagyv\\u00e1rad t\\u00e9r M\",\"alulj\\u00e1r\\u00f3\",\"\\u00dajs\\u00e1gos\",null],[\"Viszontelad\\u00f3\",\"Budapest, IX. ker\\u00fclet\",\"N\\u00e9pliget M \",\"alulj\\u00e1r\\u00f3\",\"\\u00dajs\\u00e1gos\",null],[\"Viszontelad\\u00f3\",\"Budapest, V. ker\\u00fclet\",\"De\\u00e1k Ferenc t\\u00e9r M\",\"alulj\\u00e1r\\u00f3\",\"\\u00dajs\\u00e1gos\",null],[\"Viszontelad\\u00f3\",\"Budapest, V. ker\\u00fclet\",\"V\\u00e1rosh\\u00e1z u. 3-5.\",\"bolt\",\"\\u00dajs\\u00e1gos\",null],[\"Viszontelad\\u00f3\",\"Budapest, VI. ker\\u00fclet\",\"Ter\\u00e9z k\\u00f6r\\u00fat  55.\",\"M\\u00c1V\",\"\\u00dajs\\u00e1gos\",null],[\"Viszontelad\\u00f3\",\"Budapest, VIII. ker\\u00fclet\",\"Kerepesi \\u00fat 9.\",\"bolt\",\"\\u00dajs\\u00e1gos\",null],[\"Viszontelad\\u00f3\",\"Budapest, X. ker\\u00fclet\",\"\\u00d6rs vez\\u00e9r tere\",\"bolt\",\"\\u00dajs\\u00e1gos\",null],[\"Viszontelad\\u00f3\",\"Budapest, X. ker\\u00fclet\",\"\\u00d6rs vez\\u00e9r tere\",\"bolt\",\"\\u00dajs\\u00e1gos\",null],[\"Viszontelad\\u00f3\",\"Budapest, X. ker\\u00fclet\",\"\\u00dajhegyi s\\u00e9t\\u00e1ny - Harmat utca 192.\",\"bolt\",\"\\u00dajs\\u00e1gos\",null],[\"Viszontelad\\u00f3\",\"Budapest, XI. ker\\u00fclet\",\"K\\u0151r\\u00f6sy J\\u00f3zsef utca 7-9\",\"bolt\",\"\\u00dajs\\u00e1gos\",null],[\"Viszontelad\\u00f3\",\"Budapest, XI. ker\\u00fclet\",\"Hunyadi J\\u00e1nos \\u00fat 19.\",\"bolt\",\"\\u00dajs\\u00e1gos\",null],[\"Viszontelad\\u00f3\",\"Budapest, XI. ker\\u00fclet\",\"M\\u00f3ricz Zsigmond k\\u00f6rt\\u00e9r\",\"villamosmeg\\u00e1ll\\u00f3\",\"\\u00dajs\\u00e1gos\",null],[\"Viszontelad\\u00f3\",\"Budapest, XI. ker\\u00fclet\",\"Okt\\u00f3ber huszonharmadika utca 6-10.\",\"bolt\",\"\\u00dajs\\u00e1gos\",null],[\"Viszontelad\\u00f3\",\"Budapest, XII. ker\\u00fclet\",\"Alkot\\u00e1s utca 53.\",\"bolt\",\"\\u00dajs\\u00e1gos\",null],[\"Viszontelad\\u00f3\",\"Budapest, XII. ker\\u00fclet\",\"Apor Vilmos t\\u00e9r 11-12.\",\"bolt\",\"\\u00dajs\\u00e1gos\",null],[\"Viszontelad\\u00f3\",\"Budapest, XIII. ker\\u00fclet\",\"\\u00c1rb\\u00f3c u. 1.\",\"bolt\",\"\\u00dajs\\u00e1gos\",null],[\"Viszontelad\\u00f3\",\"Budapest, XIII. ker\\u00fclet\",\"\\u00c1rp\\u00e1d h\\u00edd M\",\"metr\\u00f3\",\"\\u00dajs\\u00e1gos\",null],[\"Viszontelad\\u00f3\",\"Budapest, XIII. ker\\u00fclet\",\"\\u00c1rp\\u00e1d h\\u00edd M\",\"metr\\u00f3\",\"\\u00dajs\\u00e1gos\",null],[\"Viszontelad\\u00f3\",\"Budapest, XIII. ker\\u00fclet\",\"D\\u00f3zsa Gy\\u00f6rgy \\u00fat M\",\"alulj\\u00e1r\\u00f3\",\"\\u00dajs\\u00e1gos\",null],[\"Viszontelad\\u00f3\",\"Budapest, XIII. ker\\u00fclet\",\"Lehel t\\u00e9r - Gogol utca\",\"alulj\\u00e1r\\u00f3\",\"\\u00dajs\\u00e1gos\",null],[\"Viszontelad\\u00f3\",\"Budapest, XIII. ker\\u00fclet\",\"Lehel t\\u00e9r - Victor Hugo utca\",\"alulj\\u00e1r\\u00f3\",\"\\u00dajs\\u00e1gos\",null],[\"Viszontelad\\u00f3\",\"Budapest, XIII. ker\\u00fclet\",\"Nyugati t\\u00e9r M\",\"alulj\\u00e1r\\u00f3\",\"\\u00dajs\\u00e1gos\",null],[\"Viszontelad\\u00f3\",\"Budapest, XIV. ker\\u00fclet\",\"Hung\\u00e1ria k\\u00f6r\\u00fat 138.\",\"bolt\",\"\\u00dajs\\u00e1gos\",null],[\"Viszontelad\\u00f3\",\"Budapest, XIV. ker\\u00fclet\",\"Mexik\\u00f3i \\u00fat 70.\",\"egy\\u00e9b\",\"\\u00dajs\\u00e1gos\",null],[\"Viszontelad\\u00f3\",\"Budapest, XIV. ker\\u00fclet\",\"Hung\\u00e1ria krt. 48.\",\"bolt\",\"\\u00dajs\\u00e1gos\",null],[\"Viszontelad\\u00f3\",\"Budapest, XIV. ker\\u00fclet\",\"\\u00d6rs vez\\u00e9r tere\",\"H\\u00c9V\",\"\\u00dajs\\u00e1gos\",null],[\"Viszontelad\\u00f3\",\"Budapest, XIV. ker\\u00fclet\",\"\\u00d6rs vez\\u00e9r tere\",\"bolt\",\"\\u00dajs\\u00e1gos\",null],[\"Viszontelad\\u00f3\",\"Budapest, XIV. ker\\u00fclet\",\"\\u00d6rs vez\\u00e9r tere M+H\",\"metr\\u00f3\",\"\\u00dajs\\u00e1gos\",null],[\"Viszontelad\\u00f3\",\"Budapest, XIV. ker\\u00fclet\",\"Bosny\\u00e1k t\\u00e9r 12.\",\"buszmeg\\u00e1ll\\u00f3\",\"\\u00dajs\\u00e1gos\",null],[\"Viszontelad\\u00f3\",\"Budapest, XIV. ker\\u00fclet\",\"\\u00d6rs vez\\u00e9r tere\",\"bolt\",\"\\u00dajs\\u00e1gos\",null],[\"Viszontelad\\u00f3\",\"Budapest, XIX. ker\\u00fclet\",\"Kossuth t\\u00e9r \",\"bolt\",\"\\u00dajs\\u00e1gos\",null],[\"Viszontelad\\u00f3\",\"Budapest, XIX. ker\\u00fclet\",\"Vak Botty\\u00e1n utca 75.\",\"rep\\u00fcl\\u0151t\\u00e9r\",\"\\u00dajs\\u00e1gos\",null],[\"Viszontelad\\u00f3\",\"Budapest, XIX. ker\\u00fclet\",\"Vak Botty\\u00e1n utca 75.\",\"rep\\u00fcl\\u0151t\\u00e9r\",\"\\u00dajs\\u00e1gos\",null],[\"Viszontelad\\u00f3\",\"Budapest, XV. ker\\u00fclet\",\"Szentmih\\u00e1lyi \\u00fat 131.\",\"bolt\",\"\\u00dajs\\u00e1gos\",null],[\"Viszontelad\\u00f3\",\"Budapest, XVII. ker\\u00fclet\",\"Pesti \\u00fat 169.\",\"bolt\",\"\\u00dajs\\u00e1gos\",null],[\"Viszontelad\\u00f3\",\"Budapest, XX. ker\\u00fclet\",\"Kossuth Lajos utca 29.\",\"egy\\u00e9b\",\"\\u00dajs\\u00e1gos\",null],[\"Viszontelad\\u00f3\",\"Budapest, XXI. ker\\u00fclet\",\"R\\u00e1k\\u00f3czi Ferenc utca 178-182\",\"H\\u00c9V\",\"\\u00dajs\\u00e1gos\",null],[\"Viszontelad\\u00f3\",\"Budapest, XXII. ker\\u00fclet\",\"Duna utca 2.\",\"egy\\u00e9b\",\"\\u00dajs\\u00e1gos\",null],[\"Viszontelad\\u00f3\",\"Budapest, XXII. ker\\u00fclet\",\"Nagyt\\u00e9t\\u00e9nyi \\u00fat 37-43.\",\"bolt\",\"\\u00dajs\\u00e1gos\",null],[\"Viszontelad\\u00f3\",\"Budapest, XXIII. ker\\u00fclet\",\"Bev\\u00e1s\\u00e1rl\\u00f3 utca 2-6.\",\"bolt\",\"\\u00dajs\\u00e1gos\",null],[\"Viszontelad\\u00f3\",\"Budapest, XXIII. ker\\u00fclet\",\"H\\u0151s\\u00f6k tere\",\"H\\u00c9V\",\"\\u00dajs\\u00e1gos\",null],[\"Viszontelad\\u00f3\",\"Cs\\u00f6m\\u00f6r\",\"Hat\\u00e1r \\u00fat 6.\",\"bolt\",\"\\u00dajs\\u00e1gos\",null],[\"Viszontelad\\u00f3\",\"Dunakeszi\",\"N\\u00e1das utca 6.\",\"bolt\",\"\\u00dajs\\u00e1gos\",null],[\"Viszontelad\\u00f3\",\"\\u00c9rd\",\"Budai \\u00fat 13.\",\"bolt\",\"\\u00dajs\\u00e1gos\",null],[\"Viszontelad\\u00f3\",\"F\\u00f3t\",\"Feh\\u00e9rk\\u0151 \\u00fat 1.\",\"bolt\",\"\\u00dajs\\u00e1gos\",null],[\"Viszontelad\\u00f3\",\"Magl\\u00f3d\",\"Eszterh\\u00e1zy J\\u00e1nos utca 1\",\"bolt\",\"\\u00dajs\\u00e1gos\",null],[\"Viszontelad\\u00f3\",\"Solym\\u00e1r\",\"Szent Fl\\u00f3ri\\u00e1n utca 2.\",\"bolt\",\"\\u00dajs\\u00e1gos\",null],[\"Viszontelad\\u00f3\",\"Szigetszentmikl\\u00f3s\",\"H\\u00e1ros u. 120.\",\"bolt\",\"\\u00dajs\\u00e1gos\",null],[\"Viszontelad\\u00f3\",\"T\\u00f6r\\u00f6kb\\u00e1lint\",\"Torb\\u00e1gy u. 1.\",\"bolt\",\"\\u00dajs\\u00e1gos\",null]],\"hovertemplate\":\"<b>%{hovertext}</b><br><br>organization=%{customdata[4]}<br>lat=%{lat}<br>lng=%{lon}<br>type=%{customdata[0]}<br>place=%{customdata[1]}<br>address=%{customdata[2]}<br>description=%{customdata[3]}<br>placed_at=%{customdata[5]}<extra></extra>\",\"hovertext\":[\"Viszontelad\\u00f3\",\"Viszontelad\\u00f3\",\"Viszontelad\\u00f3\",\"Viszontelad\\u00f3\",\"Viszontelad\\u00f3\",\"Viszontelad\\u00f3\",\"Viszontelad\\u00f3\",\"Viszontelad\\u00f3\",\"Viszontelad\\u00f3\",\"Viszontelad\\u00f3\",\"Viszontelad\\u00f3\",\"Viszontelad\\u00f3\",\"Viszontelad\\u00f3\",\"Viszontelad\\u00f3\",\"Viszontelad\\u00f3\",\"Viszontelad\\u00f3\",\"Viszontelad\\u00f3\",\"Viszontelad\\u00f3\",\"Viszontelad\\u00f3\",\"Viszontelad\\u00f3\",\"Viszontelad\\u00f3\",\"Viszontelad\\u00f3\",\"Viszontelad\\u00f3\",\"Viszontelad\\u00f3\",\"Viszontelad\\u00f3\",\"Viszontelad\\u00f3\",\"Viszontelad\\u00f3\",\"Viszontelad\\u00f3\",\"Viszontelad\\u00f3\",\"Viszontelad\\u00f3\",\"Viszontelad\\u00f3\",\"Viszontelad\\u00f3\",\"Viszontelad\\u00f3\",\"Viszontelad\\u00f3\",\"Viszontelad\\u00f3\",\"Viszontelad\\u00f3\",\"Viszontelad\\u00f3\",\"Viszontelad\\u00f3\",\"Viszontelad\\u00f3\",\"Viszontelad\\u00f3\",\"Viszontelad\\u00f3\",\"Viszontelad\\u00f3\",\"Viszontelad\\u00f3\",\"Viszontelad\\u00f3\",\"Viszontelad\\u00f3\",\"Viszontelad\\u00f3\",\"Viszontelad\\u00f3\",\"Viszontelad\\u00f3\",\"Viszontelad\\u00f3\",\"Viszontelad\\u00f3\",\"Viszontelad\\u00f3\",\"Viszontelad\\u00f3\",\"Viszontelad\\u00f3\",\"Viszontelad\\u00f3\",\"Viszontelad\\u00f3\",\"Viszontelad\\u00f3\",\"Viszontelad\\u00f3\",\"Viszontelad\\u00f3\",\"Viszontelad\\u00f3\",\"Viszontelad\\u00f3\",\"Viszontelad\\u00f3\",\"Viszontelad\\u00f3\",\"Viszontelad\\u00f3\",\"Viszontelad\\u00f3\",\"Viszontelad\\u00f3\",\"Viszontelad\\u00f3\",\"Viszontelad\\u00f3\"],\"lat\":[47.612607,47.452076,47.455126,47.507124,47.499809,47.506345,47.500265,47.514664,47.598135,47.598395,47.542388,47.559925,47.561739,47.56043,47.475123,47.48591,47.480505,47.489271,47.47873,47.475521,47.497642,47.493776,47.510406,47.499384,47.50292,47.503033,47.470875,47.474403,47.434867,47.477877,47.474182,47.49036,47.491214,47.531864,47.532518,47.532545,47.524472,47.519452,47.517299,47.510541,47.511461,47.519601,47.500513,47.503935,47.503827,47.502866,47.520296,47.504311,47.457775,47.462686,47.462717,47.552896,47.479615,47.435949,47.421547,47.429702,47.406884,47.419223,47.399623,47.541389,47.609037,47.377807,47.580488,47.459105,47.598741,47.381991,47.440497],\"legendgroup\":\"\\u00dajs\\u00e1gos\",\"lon\":[19.061031,18.965231,18.944216,19.024746,19.024759,19.039149,19.02451,19.039574,19.054532,19.052096,19.040861,19.049971,19.089989,19.089894,19.09942,19.070294,19.066916,19.061885,19.089706,19.098578,19.054898,19.056388,19.056703,19.091831,19.137257,19.137251,19.165982,19.047194,19.04267,19.046108,19.048967,19.023924,19.012025,19.065636,19.066857,19.066663,19.063393,19.061156,19.060224,19.055975,19.098452,19.091091,19.108166,19.137257,19.137701,19.135399,19.113155,19.138298,19.144586,19.147072,19.147066,19.141455,19.25535,19.099481,19.065857,19.038493,19.01688,19.157752,19.114616,19.243403,19.111938,18.919604,19.163489,19.334796,18.960954,19.02676,18.887097],\"marker\":{\"color\":\"#00cc96\"},\"mode\":\"markers\",\"name\":\"\\u00dajs\\u00e1gos\",\"showlegend\":true,\"subplot\":\"mapbox\",\"type\":\"scattermapbox\"},{\"customdata\":[[\"Viszontelad\\u00f3\",\"Budakeszi\",\"Sz\\u00e9chenyi u. 58.\",\"bolt\",\"Viszontelad\\u00f3\",null],[\"Viszontelad\\u00f3\",\"Buda\\u00f6rs\",\"Kamaraerdei utca 23.\",\"bolt\",\"Viszontelad\\u00f3\",null],[\"Viszontelad\\u00f3\",\"Buda\\u00f6rs\",\"Nefelejcs utca 1.\",\"bolt\",\"Viszontelad\\u00f3\",null],[\"Viszontelad\\u00f3\",\"Budapest I. ker\\u00fclet\",\"Naphegy t\\u00e9r 3.\",\"bolt\",\"Viszontelad\\u00f3\",null],[\"Viszontelad\\u00f3\",\"Budapest I. ker\\u00fclet\",\"Hess Andr\\u00e1s t\\u00e9r 1-3.\",\"bolt\",\"Viszontelad\\u00f3\",null],[\"Viszontelad\\u00f3\",\"Budapest II. ker\\u00fclet\",\"Frankel Le\\u00f3 u. 25-29.\",\"bolt\",\"Viszontelad\\u00f3\",null],[\"Viszontelad\\u00f3\",\"Budapest X. ker\\u00fclet\",\"K\\u0151r\\u00f6si Csoma s\\u00e9t\\u00e1ny 2.\",\"egy\\u00e9b\",\"Viszontelad\\u00f3\",null],[\"Viszontelad\\u00f3\",\"Budapest XI. ker\\u00fclet\",\"Sasadi \\u00fat 83.\",\"bolt\",\"Viszontelad\\u00f3\",null],[\"Viszontelad\\u00f3\",\"Budapest XII. ker\\u00fclet\",\"Zugligeti u. 58.\",\"bolt\",\"Viszontelad\\u00f3\",null],[\"Viszontelad\\u00f3\",\"Budapest XII. ker\\u00fclet\",\"Kir\\u00e1lyh\\u00e1g\\u00f3 t\\u00e9r 1.\",\"bolt\",\"Viszontelad\\u00f3\",null],[\"Viszontelad\\u00f3\",\"Budapest XIV. ker\\u00fclet\",\"Amerikai \\u00fat 67.\",\"bolt\",\"Viszontelad\\u00f3\",null],[\"Viszontelad\\u00f3\",\"Budapest XX. ker\\u00fclet\",\"V\\u00e1g\\u00f3h\\u00edd u. 44.\",\"bolt\",\"Viszontelad\\u00f3\",null],[\"Viszontelad\\u00f3\",\"Budapest XXII. ker\\u00fclet\",\"Arany J\\u00e1nos u. 55.\",\"bolt\",\"Viszontelad\\u00f3\",null],[\"Viszontelad\\u00f3\",\"Budapest, I. ker\\u00fclet\",\"Hunyadi J\\u00e1nos utca 1.\",\"bolt\",\"Viszontelad\\u00f3\",null],[\"Viszontelad\\u00f3\",\"Budapest, II. ker\\u00fclet\",\"Sz\\u00e1sz K\\u00e1roly u. 3\",\"bolt\",\"Viszontelad\\u00f3\",null],[\"Viszontelad\\u00f3\",\"Budapest, II. ker\\u00fclet\",\"Margit krt. 58.\",\"bolt\",\"Viszontelad\\u00f3\",null],[\"Viszontelad\\u00f3\",\"Budapest, III. ker\\u00fclet\",\"Viador u. 18\",\"bolt\",\"Viszontelad\\u00f3\",null],[\"Viszontelad\\u00f3\",\"Budapest, III. ker\\u00fclet\",\"Fl\\u00f3ri\\u00e1n t\\u00e9r alulj\\u00e1r\\u00f3 11 \\u00fczlet\",\"bolt\",\"Viszontelad\\u00f3\",null],[\"Viszontelad\\u00f3\",\"Budapest, III. ker\\u00fclet\",\"Szentendrei \\u00fat 12.\",\"bolt\",\"Viszontelad\\u00f3\",null],[\"Viszontelad\\u00f3\",\"Budapest, III. ker\\u00fclet\",\"Szentl\\u00e9lek t\\u00e9r 3.\",\"bolt\",\"Viszontelad\\u00f3\",null],[\"Viszontelad\\u00f3\",\"Budapest, IV. ker\\u00fclet\",\"B\\u0151r\\u00f6nd\\u00f6s u.20.\",\"bolt\",\"Viszontelad\\u00f3\",null],[\"Viszontelad\\u00f3\",\"Budapest, IV. ker\\u00fclet\",\"Hajl\\u00f3 utca 3.\",\"bolt\",\"Viszontelad\\u00f3\",null],[\"Viszontelad\\u00f3\",\"Budapest, IX. ker\\u00fclet\",\"Ferenc k\\u00f6r\\u00fat 22.\",\"bolt\",\"Viszontelad\\u00f3\",null],[\"Viszontelad\\u00f3\",\"Budapest, IX. ker\\u00fclet\",\"Tompa utca 19.\",\"bolt\",\"Viszontelad\\u00f3\",null],[\"Viszontelad\\u00f3\",\"Budapest, IX. ker\\u00fclet\",\"Mester utca 15.\",\"bolt\",\"Viszontelad\\u00f3\",null],[\"Viszontelad\\u00f3\",\"Budapest, IX. ker\\u00fclet\",\"Bak\\u00e1ts u. 1-3.\",\"bolt\",\"Viszontelad\\u00f3\",null],[\"Viszontelad\\u00f3\",\"Budapest, V. ker\\u00fclet\",\"Ap\\u00e1czai Csere J\\u00e1nos utca 5.\",\"bolt\",\"Viszontelad\\u00f3\",null],[\"Viszontelad\\u00f3\",\"Budapest, V. ker\\u00fclet\",\"Dorottya utca 11.\",\"bolt\",\"Viszontelad\\u00f3\",null],[\"Viszontelad\\u00f3\",\"Budapest, V. ker\\u00fclet\",\"Sas utca 1.\",\"bolt\",\"Viszontelad\\u00f3\",null],[\"Viszontelad\\u00f3\",\"Budapest, V. ker\\u00fclet\",\"Szent Istv\\u00e1n krt. 5.\",\"egy\\u00e9b\",\"Viszontelad\\u00f3\",null],[\"Viszontelad\\u00f3\",\"Budapest, VI. ker\\u00fclet\",\"Ter\\u00e9z k\\u00f6r\\u00fat 39.\",\"bolt\",\"Viszontelad\\u00f3\",null],[\"Viszontelad\\u00f3\",\"Budapest, VI. ker\\u00fclet\",\"Bajcsy-Zsilinszky \\u00fat 15/B.\",\"bolt\",\"Viszontelad\\u00f3\",null],[\"Viszontelad\\u00f3\",\"Budapest, VI. ker\\u00fclet\",\"Szondi u. 29.\",\"bolt\",\"Viszontelad\\u00f3\",null],[\"Viszontelad\\u00f3\",\"Budapest, VII. ker\\u00fclet\",\"Bethlen G\\u00e1bor utca 8.\",\"bolt\",\"Viszontelad\\u00f3\",null],[\"Viszontelad\\u00f3\",\"Budapest, VII. ker\\u00fclet\",\"Wessel\\u00e9nyi utca 18.\",\"bolt\",\"Viszontelad\\u00f3\",null],[\"Viszontelad\\u00f3\",\"Budapest, VII. ker\\u00fclet\",\"Husz\\u00e1r utca 5.\",\"bolt\",\"Viszontelad\\u00f3\",null],[\"Viszontelad\\u00f3\",\"Budapest, VII. ker\\u00fclet\",\"R\\u00e1k\\u00f3czi \\u00fat 24.\",\"bolt\",\"Viszontelad\\u00f3\",null],[\"Viszontelad\\u00f3\",\"Budapest, VII. ker\\u00fclet\",\"Izabella utca 34.\",\"bolt\",\"Viszontelad\\u00f3\",null],[\"Viszontelad\\u00f3\",\"Budapest, VII. ker\\u00fclet\",\"Doh\\u00e1ny utca 66.\",\"bolt\",\"Viszontelad\\u00f3\",null],[\"Viszontelad\\u00f3\",\"Budapest, VIII. ker\\u00fclet\",\"Blaha Lujza t\\u00e9r\",\"alulj\\u00e1r\\u00f3\",\"Viszontelad\\u00f3\",null],[\"Viszontelad\\u00f3\",\"Budapest, VIII. ker\\u00fclet\",\"J\\u00f3zsef k\\u00f6r\\u00fat 31/b\",\"bolt\",\"Viszontelad\\u00f3\",null],[\"Viszontelad\\u00f3\",\"Budapest, VIII. ker\\u00fclet\",\"Kr\\u00fady Gyula u. 20.\",\"bolt\",\"Viszontelad\\u00f3\",null],[\"Viszontelad\\u00f3\",\"Budapest, VIII. ker\\u00fclet\",\"Szerdahelyi \\u00fat 18.\",\"bolt\",\"Viszontelad\\u00f3\",null],[\"Viszontelad\\u00f3\",\"Budapest, VIII. ker\\u00fclet\",\"Teleki L\\u00e1szl\\u00f3 t\\u00e9r 1-3.\",\"bolt\",\"Viszontelad\\u00f3\",null],[\"Viszontelad\\u00f3\",\"Budapest, VIII. ker\\u00fclet\",\"Vajda P\\u00e9ter utca 13.\",\"bolt\",\"Viszontelad\\u00f3\",null],[\"Viszontelad\\u00f3\",\"Budapest, VIII. ker\\u00fclet\",\"Baross u. 32\",\"bolt\",\"Viszontelad\\u00f3\",null],[\"Viszontelad\\u00f3\",\"Budapest, VIII. ker\\u00fclet\",\"N\\u00e9psz\\u00ednh\\u00e1z u. 13.\",\"bolt\",\"Viszontelad\\u00f3\",null],[\"Viszontelad\\u00f3\",\"Budapest, VIII. ker\\u00fclet\",\"N\\u00e9psz\\u00ednh\\u00e1z utca 29.\",\"bolt\",\"Viszontelad\\u00f3\",null],[\"Viszontelad\\u00f3\",\"Budapest, X. ker\\u00fclet\",\"K\\u0151r\\u00f6si Csoma S\\u00e1ndor \\u00fat 39. \",\"egy\\u00e9b\",\"Viszontelad\\u00f3\",null],[\"Viszontelad\\u00f3\",\"Budapest, X. ker\\u00fclet\",\"Harmat utca 85.\",\"bolt\",\"Viszontelad\\u00f3\",null],[\"Viszontelad\\u00f3\",\"Budapest, XI. ker\\u00fclet\",\"Cs\\u00edkihegyek utca 22.  \",\"bolt\",\"Viszontelad\\u00f3\",null],[\"Viszontelad\\u00f3\",\"Budapest, XI. ker\\u00fclet\",\"Okt\\u00f3ber huszonharmadika utca 8-10\",\"bolt\",\"Viszontelad\\u00f3\",null],[\"Viszontelad\\u00f3\",\"Budapest, XI. ker\\u00fclet\",\"Rep\\u00fcl\\u0151t\\u00e9ri \\u00fat 4.\",\"bolt\",\"Viszontelad\\u00f3\",null],[\"Viszontelad\\u00f3\",\"Budapest, XI. ker\\u00fclet\",\"Bart\\u00f3k B\\u00e9la \\u00fat 132.\",\"bolt\",\"Viszontelad\\u00f3\",null],[\"Viszontelad\\u00f3\",\"Budapest, XI. ker\\u00fclet\",\"Etele \\u00fat 22.\",\"bolt\",\"Viszontelad\\u00f3\",null],[\"Viszontelad\\u00f3\",\"Budapest, XI. ker\\u00fclet\",\"Csurg\\u00f3i \\u00fat  22.\",\"bolt\",\"Viszontelad\\u00f3\",null],[\"Viszontelad\\u00f3\",\"Budapest, XI. ker\\u00fclet\",\"R\\u00e9tk\\u00f6z utca 7.\",\"bolt\",\"Viszontelad\\u00f3\",null],[\"Viszontelad\\u00f3\",\"Budapest, XI. ker\\u00fclet\",\"T\\u00f6r\\u00f6kugrat\\u00f3 utca 18.\",\"bolt\",\"Viszontelad\\u00f3\",null],[\"Viszontelad\\u00f3\",\"Budapest, XI. ker\\u00fclet\",\"Vill\\u00e1nyi \\u00fat 1.\",\"bolt\",\"Viszontelad\\u00f3\",null],[\"Viszontelad\\u00f3\",\"Budapest, XII. ker\\u00fclet\",\"Rege \\u00fat 21\",\"egy\\u00e9b\",\"Viszontelad\\u00f3\",null],[\"Viszontelad\\u00f3\",\"Budapest, XII. ker\\u00fclet\",\"Hegyalja \\u00fat 139.\",\"bolt\",\"Viszontelad\\u00f3\",null],[\"Viszontelad\\u00f3\",\"Budapest, XIII. ker\\u00fclet\",\"Katona J\\u00f3zsef u. alulj\\u00e1r\\u00f3\",\"bolt\",\"Viszontelad\\u00f3\",null],[\"Viszontelad\\u00f3\",\"Budapest, XIII. ker\\u00fclet\",\"Lehel utca 42 (alulj\\u00e1r\\u00f3)\",\"bolt\",\"Viszontelad\\u00f3\",null],[\"Viszontelad\\u00f3\",\"Budapest, XIII. ker\\u00fclet\",\"Holl\\u00e1n Ern\\u0151 u. 1-5.\",\"bolt\",\"Viszontelad\\u00f3\",null],[\"Viszontelad\\u00f3\",\"Budapest, XIV. ker\\u00fclet\",\"Hung\\u00e1ria k\\u00f6r\\u00fat 105.\",\"bolt\",\"Viszontelad\\u00f3\",null],[\"Viszontelad\\u00f3\",\"Budapest, XIV. ker\\u00fclet\",\"Ungv\\u00e1r u. 50.\",\"bolt\",\"Viszontelad\\u00f3\",null],[\"Viszontelad\\u00f3\",\"Budapest, XIX. ker\\u00fclet\",\"\\u00dcll\\u0151i \\u00fat 301.\",\"bolt\",\"Viszontelad\\u00f3\",null],[\"Viszontelad\\u00f3\",\"Budapest, XV. ker\\u00fclet\",\"Illy\\u00e9s Gyula utca 30.\",\"bolt\",\"Viszontelad\\u00f3\",null],[\"Viszontelad\\u00f3\",\"Budapest, XV. ker\\u00fclet\",\"Kossuth utca 2.\",\"bolt\",\"Viszontelad\\u00f3\",null],[\"Viszontelad\\u00f3\",\"Budapest, XV. ker\\u00fclet\",\"Kossuth utca 3.\",\"bolt\",\"Viszontelad\\u00f3\",null],[\"Viszontelad\\u00f3\",\"Budapest, XV. ker\\u00fclet\",\"Erd\\u0151ker\\u00fcl\\u0151 u. 18.\",\"bolt\",\"Viszontelad\\u00f3\",null],[\"Viszontelad\\u00f3\",\"Budapest, XV. ker\\u00fclet\",\"B\\u00e1nk\\u00fat  utca 43.\",\"bolt\",\"Viszontelad\\u00f3\",null],[\"Viszontelad\\u00f3\",\"Budapest, XV. ker\\u00fclet\",\"Zs\\u00f3kav\\u00e1r utca 45.\",\"bolt\",\"Viszontelad\\u00f3\",null],[\"Viszontelad\\u00f3\",\"Budapest, XV. ker\\u00fclet\",\"R\\u00e1kos \\u00fat 73-75.\",\"bolt\",\"Viszontelad\\u00f3\",null],[\"Viszontelad\\u00f3\",\"Budapest, XV. ker\\u00fclet\",\"Zr\\u00ednyi utca 25.\",\"bolt\",\"Viszontelad\\u00f3\",null],[\"Viszontelad\\u00f3\",\"Budapest, XVI. ker\\u00fclet\",\"Bekecs utca 28.\",\"bolt\",\"Viszontelad\\u00f3\",null],[\"Viszontelad\\u00f3\",\"Budapest, XVI. ker\\u00fclet\",\"Cs\\u00f6m\\u00f6ri \\u00fat 47.\",\"bolt\",\"Viszontelad\\u00f3\",null],[\"Viszontelad\\u00f3\",\"Budapest, XVI. ker\\u00fclet\",\"Cs\\u00f6m\\u00f6ri \\u00fat 182.\",\"bolt\",\"Viszontelad\\u00f3\",null],[\"Viszontelad\\u00f3\",\"Budapest, XVI. ker\\u00fclet\",\"Batthy\\u00e1ny Ilona u. 21.\",\"bolt\",\"Viszontelad\\u00f3\",null],[\"Viszontelad\\u00f3\",\"Budapest, XVII. ker\\u00fclet\",\"R\\u00e1kosmezei rep\\u00fcl\\u0151k \\u00fatja 14.\",\"bolt\",\"Viszontelad\\u00f3\",null],[\"Viszontelad\\u00f3\",\"Budapest, XVII. ker\\u00fclet\",\"Zr\\u00ednyi utca 117.\",\"bolt\",\"Viszontelad\\u00f3\",null],[\"Viszontelad\\u00f3\",\"Budapest, XVII. ker\\u00fclet\",\"Zr\\u00ednyi u. 216.\",\"bolt\",\"Viszontelad\\u00f3\",null],[\"Viszontelad\\u00f3\",\"Budapest, XVIII. ker\\u00fclet\",\"M\\u00e9ta utca 156140/20 hrsz.\",\"nemzeti doh\\u00e1nybolt\",\"Viszontelad\\u00f3\",null],[\"Viszontelad\\u00f3\",\"Budapest, XVIII. ker\\u00fclet\",\"M\\u00e9ta utca 156140/20 hrsz.\",\"nemzeti doh\\u00e1nybolt\",\"Viszontelad\\u00f3\",null],[\"Viszontelad\\u00f3\",\"Budapest, XVIII. ker\\u00fclet\",\"Nagyk\\u0151r\\u00f6si \\u00fat 51/A\",\"bolt\",\"Viszontelad\\u00f3\",null],[\"Viszontelad\\u00f3\",\"Budapest, XVIII. ker\\u00fclet\",\"\\u00dcll\\u0151i \\u00fat 451.\",\"bolt\",\"Viszontelad\\u00f3\",null],[\"Viszontelad\\u00f3\",\"Budapest, XVIII. ker\\u00fclet\",\"Csontv\\u00e1ry K. Tivadar utca 30.\",\"bolt\",\"Viszontelad\\u00f3\",null],[\"Viszontelad\\u00f3\",\"Budapest, XVIII. ker\\u00fclet\",\"\\u00dcll\\u0151i \\u00fat 451\",\"bolt\",\"Viszontelad\\u00f3\",null],[\"Viszontelad\\u00f3\",\"Budapest, XVIII. ker\\u00fclet\",\"Nemes utca 10.\",\"bolt\",\"Viszontelad\\u00f3\",null],[\"Viszontelad\\u00f3\",\"Budapest, XX. ker\\u00fclet\",\"L\\u00e1z\\u00e1r utca 2.\",\"bolt\",\"Viszontelad\\u00f3\",null],[\"Viszontelad\\u00f3\",\"Budapest, XX. ker\\u00fclet\",\"J\\u00f3kai M\\u00f3r utca 13.\",\"bolt\",\"Viszontelad\\u00f3\",null],[\"Viszontelad\\u00f3\",\"Budapest, XX. ker\\u00fclet\",\"J\\u00f3kai M\\u00f3r utca 61.\",\"bolt\",\"Viszontelad\\u00f3\",null],[\"Viszontelad\\u00f3\",\"Budapest, XXI. ker\\u00fclet\",\"Erd\\u0151sor utca 133. 7.\\u00fczlet\",\"bolt\",\"Viszontelad\\u00f3\",null],[\"Viszontelad\\u00f3\",\"Budapest, XXI. ker\\u00fclet\",\"Szent Istv\\u00e1n \\u00fat 180.\",\"bolt\",\"Viszontelad\\u00f3\",null],[\"Viszontelad\\u00f3\",\"Budapest, XXI. ker\\u00fclet\",\"Csik\\u00f3 s\\u00e9t\\u00e1ny 2/b.\",\"bolt\",\"Viszontelad\\u00f3\",null],[\"Viszontelad\\u00f3\",\"Budapest, XXII. ker\\u00fclet\",\"H\\u00e1ros utca 177.\",\"bolt\",\"Viszontelad\\u00f3\",null],[\"Viszontelad\\u00f3\",\"Budapest, XXIII. ker\\u00fclet\",\"\\u00dajtelep \\u00fat 2.\",\"bolt\",\"Viszontelad\\u00f3\",null],[\"Viszontelad\\u00f3\",\"Gy\\u00e1l\",\"Sz\\u00e9chenyi utca 72.\",\"bolt\",\"Viszontelad\\u00f3\",null],[\"Viszontelad\\u00f3\",\"Gy\\u00e1l\",\"Munk\\u00e1s u. 1/a.\",\"bolt\",\"Viszontelad\\u00f3\",null],[\"Viszontelad\\u00f3\",\"Kistarcsa\",\"K\\u00f3rh\\u00e1z- porta \\u00e9p\\u00fclet\",\"bolt\",\"Viszontelad\\u00f3\",null],[\"Viszontelad\\u00f3\",\"P\\u00e9cel\",\"\\u00c1llom\\u00e1s utca 1.\",\"M\\u00c1V\",\"Viszontelad\\u00f3\",null],[\"Viszontelad\\u00f3\",\"P\\u00e9cel\",\"Pet\\u0151fi utca 16.\",\"bolt\",\"Viszontelad\\u00f3\",null],[\"Viszontelad\\u00f3\",\"Pilissz\\u00e1nt\\u00f3\",\"Kossuth u. 63.\",\"bolt\",\"Viszontelad\\u00f3\",null],[\"Viszontelad\\u00f3\",\"Pilisv\\u00f6r\\u00f6sv\\u00e1r\",\"H\\u0151s\\u00f6k tere 2.\",\"bolt\",\"Viszontelad\\u00f3\",null],[\"Viszontelad\\u00f3\",\"Szigetszentmikl\\u00f3s\",\"Sk\\u00e1la u. G\\u00e1t u. sarok, buszmeg\\u00e1ll\\u00f3 mellett.\",\"bolt\",\"Viszontelad\\u00f3\",null],[\"Viszontelad\\u00f3\",\"Vecs\\u00e9s\",\"Sz\\u00e9chenyi u.2.\",\"bolt\",\"Viszontelad\\u00f3\",null],[\"Viszontelad\\u00f3\",\"XIII. ker\\u00fclet\",\"Raoul Wallenberg u. 4.\",\"bolt\",\"Viszontelad\\u00f3\",null]],\"hovertemplate\":\"<b>%{hovertext}</b><br><br>organization=%{customdata[4]}<br>lat=%{lat}<br>lng=%{lon}<br>type=%{customdata[0]}<br>place=%{customdata[1]}<br>address=%{customdata[2]}<br>description=%{customdata[3]}<br>placed_at=%{customdata[5]}<extra></extra>\",\"hovertext\":[\"Viszontelad\\u00f3\",\"Viszontelad\\u00f3\",\"Viszontelad\\u00f3\",\"Viszontelad\\u00f3\",\"Viszontelad\\u00f3\",\"Viszontelad\\u00f3\",\"Viszontelad\\u00f3\",\"Viszontelad\\u00f3\",\"Viszontelad\\u00f3\",\"Viszontelad\\u00f3\",\"Viszontelad\\u00f3\",\"Viszontelad\\u00f3\",\"Viszontelad\\u00f3\",\"Viszontelad\\u00f3\",\"Viszontelad\\u00f3\",\"Viszontelad\\u00f3\",\"Viszontelad\\u00f3\",\"Viszontelad\\u00f3\",\"Viszontelad\\u00f3\",\"Viszontelad\\u00f3\",\"Viszontelad\\u00f3\",\"Viszontelad\\u00f3\",\"Viszontelad\\u00f3\",\"Viszontelad\\u00f3\",\"Viszontelad\\u00f3\",\"Viszontelad\\u00f3\",\"Viszontelad\\u00f3\",\"Viszontelad\\u00f3\",\"Viszontelad\\u00f3\",\"Viszontelad\\u00f3\",\"Viszontelad\\u00f3\",\"Viszontelad\\u00f3\",\"Viszontelad\\u00f3\",\"Viszontelad\\u00f3\",\"Viszontelad\\u00f3\",\"Viszontelad\\u00f3\",\"Viszontelad\\u00f3\",\"Viszontelad\\u00f3\",\"Viszontelad\\u00f3\",\"Viszontelad\\u00f3\",\"Viszontelad\\u00f3\",\"Viszontelad\\u00f3\",\"Viszontelad\\u00f3\",\"Viszontelad\\u00f3\",\"Viszontelad\\u00f3\",\"Viszontelad\\u00f3\",\"Viszontelad\\u00f3\",\"Viszontelad\\u00f3\",\"Viszontelad\\u00f3\",\"Viszontelad\\u00f3\",\"Viszontelad\\u00f3\",\"Viszontelad\\u00f3\",\"Viszontelad\\u00f3\",\"Viszontelad\\u00f3\",\"Viszontelad\\u00f3\",\"Viszontelad\\u00f3\",\"Viszontelad\\u00f3\",\"Viszontelad\\u00f3\",\"Viszontelad\\u00f3\",\"Viszontelad\\u00f3\",\"Viszontelad\\u00f3\",\"Viszontelad\\u00f3\",\"Viszontelad\\u00f3\",\"Viszontelad\\u00f3\",\"Viszontelad\\u00f3\",\"Viszontelad\\u00f3\",\"Viszontelad\\u00f3\",\"Viszontelad\\u00f3\",\"Viszontelad\\u00f3\",\"Viszontelad\\u00f3\",\"Viszontelad\\u00f3\",\"Viszontelad\\u00f3\",\"Viszontelad\\u00f3\",\"Viszontelad\\u00f3\",\"Viszontelad\\u00f3\",\"Viszontelad\\u00f3\",\"Viszontelad\\u00f3\",\"Viszontelad\\u00f3\",\"Viszontelad\\u00f3\",\"Viszontelad\\u00f3\",\"Viszontelad\\u00f3\",\"Viszontelad\\u00f3\",\"Viszontelad\\u00f3\",\"Viszontelad\\u00f3\",\"Viszontelad\\u00f3\",\"Viszontelad\\u00f3\",\"Viszontelad\\u00f3\",\"Viszontelad\\u00f3\",\"Viszontelad\\u00f3\",\"Viszontelad\\u00f3\",\"Viszontelad\\u00f3\",\"Viszontelad\\u00f3\",\"Viszontelad\\u00f3\",\"Viszontelad\\u00f3\",\"Viszontelad\\u00f3\",\"Viszontelad\\u00f3\",\"Viszontelad\\u00f3\",\"Viszontelad\\u00f3\",\"Viszontelad\\u00f3\",\"Viszontelad\\u00f3\",\"Viszontelad\\u00f3\",\"Viszontelad\\u00f3\",\"Viszontelad\\u00f3\",\"Viszontelad\\u00f3\",\"Viszontelad\\u00f3\",\"Viszontelad\\u00f3\",\"Viszontelad\\u00f3\"],\"lat\":[47.514262,47.440962,47.46147,47.492718,47.502611,47.517895,47.483561,47.47338,47.517932,47.49553,47.519115,47.424189,47.42972,47.498375,47.510728,47.510175,47.533447,47.540965,47.545003,47.539719,47.585503,47.580529,47.483034,47.481754,47.479568,47.482492,47.494661,47.498241,47.499347,47.512471,47.507753,47.500789,47.510093,47.501793,47.497526,47.499828,47.495885,47.504817,47.498148,47.497035,47.492747,47.490469,47.492482,47.493274,47.484872,47.489312,47.495705,47.494815,47.491031,47.477498,47.472671,47.47502,47.44728,47.470266,47.462494,47.453492,47.466395,47.469956,47.478064,47.495389,47.483843,47.512121,47.525613,47.513184,47.509941,47.533804,47.452404,47.560408,47.568095,47.568102,47.54007,47.546322,47.540173,47.553938,47.5629,47.53311,47.521543,47.53061,47.51972,47.469054,47.4773,47.461291,47.428145,47.428145,47.403426,47.442872,47.437647,47.442872,47.404773,47.439884,47.447821,47.444034,47.408004,47.407052,47.407832,47.430694,47.415885,47.384004,47.37572,47.539683,47.493609,47.4956,47.669135,47.617149,47.382932,47.399576,47.514702],\"legendgroup\":\"Viszontelad\\u00f3\",\"lon\":[18.931664,18.978973,18.962193,19.032507,19.034317,19.036773,19.129277,19.008233,18.983514,19.019501,19.096278,19.111199,19.020595,19.039986,19.032556,19.030502,19.036699,19.040826,19.041862,19.047047,19.112766,19.109584,19.068589,19.072012,19.07168,19.064883,19.050019,19.048627,19.052488,19.04938,19.060175,19.055191,19.063559,19.080923,19.062648,19.077378,19.065439,19.0711,19.06929,19.070514,19.070953,19.070254,19.082607,19.082329,19.095152,19.066909,19.071993,19.076029,19.136463,19.153008,18.99611,19.048975,18.986146,19.028083,19.039104,19.032424,19.005823,19.000423,19.046174,18.978663,19.006277,19.05688,19.077885,19.049346,19.101143,19.105917,19.156288,19.119559,19.12625,19.126653,19.147856,19.126903,19.143888,19.11853,19.128175,19.209559,19.15262,19.171575,19.230677,19.225872,19.292586,19.299083,19.164995,19.164995,19.186388,19.178672,19.169296,19.178672,19.187333,19.117717,19.106152,19.111589,19.073138,19.090828,19.073246,19.005406,19.134215,19.227522,19.223674,19.252477,19.339445,19.335615,18.887506,18.914323,19.013048,19.248154,19.051634],\"marker\":{\"color\":\"#ab63fa\"},\"mode\":\"markers\",\"name\":\"Viszontelad\\u00f3\",\"showlegend\":true,\"subplot\":\"mapbox\",\"type\":\"scattermapbox\"},{\"customdata\":[[\"Viszontelad\\u00f3\",\"Buda\\u00f6rs\",\"Szabads\\u00e1g \\u00fat 106.\",\"nemzeti doh\\u00e1nybolt\",\"Nemzeti Doh\\u00e1nybolt\",null],[\"Viszontelad\\u00f3\",\"Budapest\",\"Kispajt\\u00e1s u. 1.\",\"nemzeti doh\\u00e1nybolt\",\"Nemzeti Doh\\u00e1nybolt\",null],[\"Viszontelad\\u00f3\",\"Budapest\",\"Somfa-k\\u00f6z 2-12.\",\"nemzeti doh\\u00e1nybolt\",\"Nemzeti Doh\\u00e1nybolt\",null],[\"Viszontelad\\u00f3\",\"Budapest\",\"Feh\\u00e9rv\\u00e1ri \\u00fat 13.\",\"nemzeti doh\\u00e1nybolt\",\"Nemzeti Doh\\u00e1nybolt\",null],[\"Viszontelad\\u00f3\",\"Budapest\",\"Sashalmi t\\u00e9r 1.\",\"nemzeti doh\\u00e1nybolt\",\"Nemzeti Doh\\u00e1nybolt\",null],[\"Viszontelad\\u00f3\",\"Budapest, I. ker\\u00fclet\",\"Batthy\\u00e1ny u. 4\",\"nemzeti doh\\u00e1nybolt\",\"Nemzeti Doh\\u00e1nybolt\",null],[\"Viszontelad\\u00f3\",\"Budapest, I. ker\\u00fclet\",\"D\\u00e9li pu. peron\",\"nemzeti doh\\u00e1nybolt\",\"Nemzeti Doh\\u00e1nybolt\",null],[\"Viszontelad\\u00f3\",\"Budapest, I. ker\\u00fclet\",\"F\\u0151 utca 37/C.\",\"nemzeti doh\\u00e1nybolt\",\"Nemzeti Doh\\u00e1nybolt\",null],[\"Viszontelad\\u00f3\",\"Budapest, I. ker\\u00fclet\",\"Batthy\\u00e1ny t\\u00e9r H\\u00c9V v\\u00e9g\\u00e1llom\\u00e1s\",\"nemzeti doh\\u00e1nybolt\",\"Nemzeti Doh\\u00e1nybolt\",null],[\"Viszontelad\\u00f3\",\"Budapest, I. ker\\u00fclet\",\"F\\u0151 utca 7.\",\"nemzeti doh\\u00e1nybolt\",\"Nemzeti Doh\\u00e1nybolt\",null],[\"Viszontelad\\u00f3\",\"Budapest, II. ker\\u00fclet\",\"Margit krt. 50-52.\",\"nemzeti doh\\u00e1nybolt\",\"Nemzeti Doh\\u00e1nybolt\",null],[\"Viszontelad\\u00f3\",\"Budapest, II. ker\\u00fclet\",\"Frankel Le\\u00f3 u. 21-23.\",\"nemzeti doh\\u00e1nybolt\",\"Nemzeti Doh\\u00e1nybolt\",null],[\"Viszontelad\\u00f3\",\"Budapest, II. ker\\u00fclet\",\"Frankel Le\\u00f3 u. 21-23.\",\"nemzeti doh\\u00e1nybolt\",\"Nemzeti Doh\\u00e1nybolt\",null],[\"Viszontelad\\u00f3\",\"Budapest, II. ker\\u00fclet\",\"Margit krt. 105.\",\"nemzeti doh\\u00e1nybolt\",\"Nemzeti Doh\\u00e1nybolt\",null],[\"Viszontelad\\u00f3\",\"Budapest, II. ker\\u00fclet\",\"Margit k\\u00f6r\\u00fat 1.\",\"nemzeti doh\\u00e1nybolt\",\"Nemzeti Doh\\u00e1nybolt\",null],[\"Viszontelad\\u00f3\",\"Budapest, II. ker\\u00fclet\",\"H\\u00e1zm\\u00e1n u. 2.\",\"nemzeti doh\\u00e1nybolt\",\"Nemzeti Doh\\u00e1nybolt\",null],[\"Viszontelad\\u00f3\",\"Budapest, II. ker\\u00fclet\",\"L\\u00f6v\\u0151h\\u00e1z u. 2-6 (Mammut 1)\",\"nemzeti doh\\u00e1nybolt\",\"Nemzeti Doh\\u00e1nybolt\",null],[\"Viszontelad\\u00f3\",\"Budapest, II. ker\\u00fclet\",\"Margit krt. 65.\",\"nemzeti doh\\u00e1nybolt\",\"Nemzeti Doh\\u00e1nybolt\",null],[\"Viszontelad\\u00f3\",\"Budapest, III. ker\\u00fclet\",\"B\\u00e9csi \\u00fat 88-90\",\"nemzeti doh\\u00e1nybolt\",\"Nemzeti Doh\\u00e1nybolt\",null],[\"Viszontelad\\u00f3\",\"Budapest, III. ker\\u00fclet\",\"V\\u00edzimoln\\u00e1r utca 8.\",\"nemzeti doh\\u00e1nybolt\",\"Nemzeti Doh\\u00e1nybolt\",null],[\"Viszontelad\\u00f3\",\"Budapest, III. ker\\u00fclet\",\"K\\u00f6les u. 1\",\"nemzeti doh\\u00e1nybolt\",\"Nemzeti Doh\\u00e1nybolt\",null],[\"Viszontelad\\u00f3\",\"Budapest, III. ker\\u00fclet\",\"Fl\\u00f3ri\\u00e1n t\\u00e9r 6-9.\",\"nemzeti doh\\u00e1nybolt\",\"Nemzeti Doh\\u00e1nybolt\",null],[\"Viszontelad\\u00f3\",\"Budapest, III. ker\\u00fclet\",\"Mikl\\u00f3s u. 8.\",\"nemzeti doh\\u00e1nybolt\",\"Nemzeti Doh\\u00e1nybolt\",null],[\"Viszontelad\\u00f3\",\"Budapest, III. ker\\u00fclet\",\"Orczy \\u00fat 46-48.\",\"nemzeti doh\\u00e1nybolt\",\"Nemzeti Doh\\u00e1nybolt\",null],[\"Viszontelad\\u00f3\",\"Budapest, III. ker\\u00fclet\",\"Kiscelli u. 14.\",\"nemzeti doh\\u00e1nybolt\",\"Nemzeti Doh\\u00e1nybolt\",null],[\"Viszontelad\\u00f3\",\"Budapest, III. ker\\u00fclet\",\"Heltai Jen\\u0151 t\\u00e9r 3.\",\"nemzeti doh\\u00e1nybolt\",\"Nemzeti Doh\\u00e1nybolt\",null],[\"Viszontelad\\u00f3\",\"Budapest, III. ker\\u00fclet\",\"B\\u00e9csi \\u00fat 37.\",\"nemzeti doh\\u00e1nybolt\",\"Nemzeti Doh\\u00e1nybolt\",null],[\"Viszontelad\\u00f3\",\"Budapest, III. ker\\u00fclet\",\"B\\u00e9csi \\u00fat 265.\",\"nemzeti doh\\u00e1nybolt\",\"Nemzeti Doh\\u00e1nybolt\",null],[\"Viszontelad\\u00f3\",\"Budapest, IV. ker\\u00fclet\",\"R\\u00f3zsa utca - Munk\\u00e1sotthon utca sarok\",\"nemzeti doh\\u00e1nybolt\",\"Nemzeti Doh\\u00e1nybolt\",null],[\"Viszontelad\\u00f3\",\"Budapest, IV. ker\\u00fclet\",\"R\\u00f3zsa utca - Munk\\u00e1sotthon utca sarok\",\"nemzeti doh\\u00e1nybolt\",\"Nemzeti Doh\\u00e1nybolt\",null],[\"Viszontelad\\u00f3\",\"Budapest, IV. ker\\u00fclet\",\"1047 Budapest, Megyeri \\u00fat 12.\",\"nemzeti doh\\u00e1nybolt\",\"Nemzeti Doh\\u00e1nybolt\",null],[\"Viszontelad\\u00f3\",\"Budapest, IV. ker\\u00fclet\",\"Vir\\u00e1g utca 7. fsz/7\",\"nemzeti doh\\u00e1nybolt\",\"Nemzeti Doh\\u00e1nybolt\",null],[\"Viszontelad\\u00f3\",\"Budapest, IV. ker\\u00fclet\",\"\\u00c1rp\\u00e1d \\u00fat 122\",\"nemzeti doh\\u00e1nybolt\",\"Nemzeti Doh\\u00e1nybolt\",null],[\"Viszontelad\\u00f3\",\"Budapest, IV. ker\\u00fclet\",\"\\u00c1rp\\u00e1d \\u00fat 122\",\"nemzeti doh\\u00e1nybolt\",\"Nemzeti Doh\\u00e1nybolt\",null],[\"Viszontelad\\u00f3\",\"Budapest, IV. ker\\u00fclet\",\"Berzeviczy Gergely utca 17.A.\\u00e9p.\",\"nemzeti doh\\u00e1nybolt\",\"Nemzeti Doh\\u00e1nybolt\",null],[\"Viszontelad\\u00f3\",\"Budapest, IV. ker\\u00fclet\",\"Berzeviczy Gergely utca 17.A.\\u00e9p.\",\"nemzeti doh\\u00e1nybolt\",\"Nemzeti Doh\\u00e1nybolt\",null],[\"Viszontelad\\u00f3\",\"Budapest, IV. ker\\u00fclet\",\"Berzeviczy Gergely utca 17.A.\\u00e9p.\",\"nemzeti doh\\u00e1nybolt\",\"Nemzeti Doh\\u00e1nybolt\",null],[\"Viszontelad\\u00f3\",\"Budapest, IV. ker\\u00fclet\",\"Berzeviczy Gergely utca 17.A.\\u00e9p.\",\"nemzeti doh\\u00e1nybolt\",\"Nemzeti Doh\\u00e1nybolt\",null],[\"Viszontelad\\u00f3\",\"Budapest, IV. ker\\u00fclet\",\"Cs\\u00edkszentiv\\u00e1n utca 6.\",\"nemzeti doh\\u00e1nybolt\",\"Nemzeti Doh\\u00e1nybolt\",null],[\"Viszontelad\\u00f3\",\"Budapest, IX. ker\\u00fclet\",\"T\\u0171zolt\\u00f3 utca 78-80\",\"nemzeti doh\\u00e1nybolt\",\"Nemzeti Doh\\u00e1nybolt\",null],[\"Viszontelad\\u00f3\",\"Budapest, IX. ker\\u00fclet\",\"\\u00dcll\\u0151i \\u00fat 89/A.\",\"nemzeti doh\\u00e1nybolt\",\"Nemzeti Doh\\u00e1nybolt\",null],[\"Viszontelad\\u00f3\",\"Budapest, IX. ker\\u00fclet\",\"\\u00dcll\\u0151i \\u00fat 89/A.\",\"nemzeti doh\\u00e1nybolt\",\"Nemzeti Doh\\u00e1nybolt\",null],[\"Viszontelad\\u00f3\",\"Budapest, IX. ker\\u00fclet\",\"D\\u00e9si Huber utca  20.\",\"nemzeti doh\\u00e1nybolt\",\"Nemzeti Doh\\u00e1nybolt\",null],[\"Viszontelad\\u00f3\",\"Budapest, IX. ker\\u00fclet\",\"N\\u00e9pliget gyalogos alulj\\u00e1r\\u00f3 1.\",\"nemzeti doh\\u00e1nybolt\",\"Nemzeti Doh\\u00e1nybolt\",null],[\"Viszontelad\\u00f3\",\"Budapest, IX. ker\\u00fclet\",\"Mester utca 4-6.\",\"nemzeti doh\\u00e1nybolt\",\"Nemzeti Doh\\u00e1nybolt\",null],[\"Viszontelad\\u00f3\",\"Budapest, IX. ker\\u00fclet\",\"Mester utca 4-6.\",\"nemzeti doh\\u00e1nybolt\",\"Nemzeti Doh\\u00e1nybolt\",null],[\"Viszontelad\\u00f3\",\"Budapest, IX. ker\\u00fclet\",\"Mester utca 46.\",\"nemzeti doh\\u00e1nybolt\",\"Nemzeti Doh\\u00e1nybolt\",null],[\"Viszontelad\\u00f3\",\"Budapest, IX. ker\\u00fclet\",\"Ferenc krt. 41.\",\"nemzeti doh\\u00e1nybolt\",\"Nemzeti Doh\\u00e1nybolt\",null],[\"Viszontelad\\u00f3\",\"Budapest, IX. ker\\u00fclet\",\"V\\u00e1g\\u00f3h\\u00edd utca 3.\",\"nemzeti doh\\u00e1nybolt\",\"Nemzeti Doh\\u00e1nybolt\",null],[\"Viszontelad\\u00f3\",\"Budapest, V. ker\\u00fclet\",\"Hercegpr\\u00edm\\u00e1s u. 2. fszt. 3.\",\"nemzeti doh\\u00e1nybolt\",\"Nemzeti Doh\\u00e1nybolt\",null],[\"Viszontelad\\u00f3\",\"Budapest, V. ker\\u00fclet\",\"Ferenciek tere 10.\",\"nemzeti doh\\u00e1nybolt\",\"Nemzeti Doh\\u00e1nybolt\",null],[\"Viszontelad\\u00f3\",\"Budapest, V. ker\\u00fclet\",\"Erzs\\u00e9bet t\\u00e9r 7-8.\",\"nemzeti doh\\u00e1nybolt\",\"Nemzeti Doh\\u00e1nybolt\",null],[\"Viszontelad\\u00f3\",\"Budapest, V. ker\\u00fclet\",\"B\\u00e1thory u. 8.\",\"nemzeti doh\\u00e1nybolt\",\"Nemzeti Doh\\u00e1nybolt\",null],[\"Viszontelad\\u00f3\",\"Budapest, V. ker\\u00fclet\",\"De\\u00e1k Ferenc t\\u00e9r felsz\\u00edni csarnok (M3 S\\u00fct\\u0151 u. fel\\u0151l)\",\"nemzeti doh\\u00e1nybolt\",\"Nemzeti Doh\\u00e1nybolt\",null],[\"Viszontelad\\u00f3\",\"Budapest, VI. ker\\u00fclet\",\"Andr\\u00e1ssy \\u00fat 84.\",\"nemzeti doh\\u00e1nybolt\",\"Nemzeti Doh\\u00e1nybolt\",null],[\"Viszontelad\\u00f3\",\"Budapest, VI. ker\\u00fclet\",\"J\\u00f3kai t\\u00e9r 8.\",\"nemzeti doh\\u00e1nybolt\",\"Nemzeti Doh\\u00e1nybolt\",null],[\"Viszontelad\\u00f3\",\"Budapest, VI. ker\\u00fclet\",\"J\\u00f3kai t\\u00e9r 8.\",\"nemzeti doh\\u00e1nybolt\",\"Nemzeti Doh\\u00e1nybolt\",null],[\"Viszontelad\\u00f3\",\"Budapest, VI. ker\\u00fclet\",\"1065 Budapest, Podmaniczky utca 2\",\"nemzeti doh\\u00e1nybolt\",\"Nemzeti Doh\\u00e1nybolt\",null],[\"Viszontelad\\u00f3\",\"Budapest, VI. ker\\u00fclet\",\"Ter\\u00e9z krt. 21. (Oktogon)\",\"nemzeti doh\\u00e1nybolt\",\"Nemzeti Doh\\u00e1nybolt\",null],[\"Viszontelad\\u00f3\",\"Budapest, VI. ker\\u00fclet\",\"Ter\\u00e9z krt. 21. (Oktogon)\",\"nemzeti doh\\u00e1nybolt\",\"Nemzeti Doh\\u00e1nybolt\",null],[\"Viszontelad\\u00f3\",\"Budapest, VII. ker\\u00fclet\",\"Bethlen G\\u00e1bor u. 8/a.\",\"nemzeti doh\\u00e1nybolt\",\"Nemzeti Doh\\u00e1nybolt\",null],[\"Viszontelad\\u00f3\",\"Budapest, VII. ker\\u00fclet\",\"Dob u. 66.\",\"nemzeti doh\\u00e1nybolt\",\"Nemzeti Doh\\u00e1nybolt\",null],[\"Viszontelad\\u00f3\",\"Budapest, VII. ker\\u00fclet\",\"Kir\\u00e1ly u. 91.\",\"nemzeti doh\\u00e1nybolt\",\"Nemzeti Doh\\u00e1nybolt\",null],[\"Viszontelad\\u00f3\",\"Budapest, VII. ker\\u00fclet\",\"Doh\\u00e1ny utca 47.\",\"nemzeti doh\\u00e1nybolt\",\"Nemzeti Doh\\u00e1nybolt\",null],[\"Viszontelad\\u00f3\",\"Budapest, VII. ker\\u00fclet\",\"Dob utca 52.\",\"nemzeti doh\\u00e1nybolt\",\"Nemzeti Doh\\u00e1nybolt\",null],[\"Viszontelad\\u00f3\",\"Budapest, VII. ker\\u00fclet\",\"Dob utca 28-30.\",\"nemzeti doh\\u00e1nybolt\",\"Nemzeti Doh\\u00e1nybolt\",null],[\"Viszontelad\\u00f3\",\"Budapest, VII. ker\\u00fclet\",\"Damjanich u. 11-15.\",\"nemzeti doh\\u00e1nybolt\",\"Nemzeti Doh\\u00e1nybolt\",null],[\"Viszontelad\\u00f3\",\"Budapest, VII. ker\\u00fclet\",\"Wessel\\u00e9nyi u. 45.\",\"nemzeti doh\\u00e1nybolt\",\"Nemzeti Doh\\u00e1nybolt\",null],[\"Viszontelad\\u00f3\",\"Budapest, VII. ker\\u00fclet\",\"Wessel\\u00e9nyi u. 45.\",\"nemzeti doh\\u00e1nybolt\",\"Nemzeti Doh\\u00e1nybolt\",null],[\"Viszontelad\\u00f3\",\"Budapest, VII. ker\\u00fclet\",\"R\\u00e1k\\u00f3czi \\u00fat 6.\",\"nemzeti doh\\u00e1nybolt\",\"Nemzeti Doh\\u00e1nybolt\",null],[\"Viszontelad\\u00f3\",\"Budapest, VII. ker\\u00fclet\",\"Wessel\\u00e9nyi \\u00fat 2.\",\"nemzeti doh\\u00e1nybolt\",\"Nemzeti Doh\\u00e1nybolt\",null],[\"Viszontelad\\u00f3\",\"Budapest, VIII. ker\\u00fclet\",\"Baross u. 96.\",\"nemzeti doh\\u00e1nybolt\",\"Nemzeti Doh\\u00e1nybolt\",null],[\"Viszontelad\\u00f3\",\"Budapest, VIII. ker\\u00fclet\",\"Baross u. 96.\",\"nemzeti doh\\u00e1nybolt\",\"Nemzeti Doh\\u00e1nybolt\",null],[\"Viszontelad\\u00f3\",\"Budapest, VIII. ker\\u00fclet\",\"R\\u00e1k\\u00f3czi \\u00fat 25.\",\"nemzeti doh\\u00e1nybolt\",\"Nemzeti Doh\\u00e1nybolt\",null],[\"Viszontelad\\u00f3\",\"Budapest, VIII. ker\\u00fclet\",\"R\\u00e1k\\u00f3czi \\u00fat 25.\",\"nemzeti doh\\u00e1nybolt\",\"Nemzeti Doh\\u00e1nybolt\",null],[\"Viszontelad\\u00f3\",\"Budapest, VIII. ker\\u00fclet\",\"K\\u0151b\\u00e1nyai \\u00fat 27.\",\"nemzeti doh\\u00e1nybolt\",\"Nemzeti Doh\\u00e1nybolt\",null],[\"Viszontelad\\u00f3\",\"Budapest, VIII. ker\\u00fclet\",\"Di\\u00f3szeghy S\\u00e1muel utca 15\",\"nemzeti doh\\u00e1nybolt\",\"Nemzeti Doh\\u00e1nybolt\",null],[\"Viszontelad\\u00f3\",\"Budapest, VIII. ker\\u00fclet\",\"P\\u00e1skomliget utca 49\",\"nemzeti doh\\u00e1nybolt\",\"Nemzeti Doh\\u00e1nybolt\",null],[\"Viszontelad\\u00f3\",\"Budapest, VIII. ker\\u00fclet\",\"J\\u00f3zsef u. 2.\",\"nemzeti doh\\u00e1nybolt\",\"Nemzeti Doh\\u00e1nybolt\",null],[\"Viszontelad\\u00f3\",\"Budapest, VIII. ker\\u00fclet\",\"D\\u00e9ri Miksa utca 1.\",\"nemzeti doh\\u00e1nybolt\",\"Nemzeti Doh\\u00e1nybolt\",null],[\"Viszontelad\\u00f3\",\"Budapest, VIII. ker\\u00fclet\",\"Kerepesi \\u00fat 1-5.\",\"nemzeti doh\\u00e1nybolt\",\"Nemzeti Doh\\u00e1nybolt\",null],[\"Viszontelad\\u00f3\",\"Budapest, VIII. ker\\u00fclet\",\"Pr\\u00e1ter utca 59.\",\"nemzeti doh\\u00e1nybolt\",\"Nemzeti Doh\\u00e1nybolt\",null],[\"Viszontelad\\u00f3\",\"Budapest, VIII. ker\\u00fclet\",\"Harminckettesek tere 6.\",\"nemzeti doh\\u00e1nybolt\",\"Nemzeti Doh\\u00e1nybolt\",null],[\"Viszontelad\\u00f3\",\"Budapest, VIII. ker\\u00fclet\",\"N\\u00e9psz\\u00ednh\\u00e1z u. 13.\",\"nemzeti doh\\u00e1nybolt\",\"Nemzeti Doh\\u00e1nybolt\",null],[\"Viszontelad\\u00f3\",\"Budapest, VIII. ker\\u00fclet\",\"N\\u00e9psz\\u00ednh\\u00e1z u. 59.\",\"nemzeti doh\\u00e1nybolt\",\"Nemzeti Doh\\u00e1nybolt\",null],[\"Viszontelad\\u00f3\",\"Budapest, X. ker\\u00fclet\",\"Magl\\u00f3di \\u00fat 53.\",\"nemzeti doh\\u00e1nybolt\",\"Nemzeti Doh\\u00e1nybolt\",null],[\"Viszontelad\\u00f3\",\"Budapest, X. ker\\u00fclet\",\"K\\u0151r\\u00f6si Csoma S\\u00e1ndor \\u00fat 43.\",\"nemzeti doh\\u00e1nybolt\",\"Nemzeti Doh\\u00e1nybolt\",null],[\"Viszontelad\\u00f3\",\"Budapest, XI. ker\\u00fclet\",\"Etele t\\u00e9r 5.\",\"nemzeti doh\\u00e1nybolt\",\"Nemzeti Doh\\u00e1nybolt\",null],[\"Viszontelad\\u00f3\",\"Budapest, XI. ker\\u00fclet\",\"Budafoki \\u00fat 113.\",\"nemzeti doh\\u00e1nybolt\",\"Nemzeti Doh\\u00e1nybolt\",null],[\"Viszontelad\\u00f3\",\"Budapest, XI. ker\\u00fclet\",\"Buda\\u00f6rsi \\u00fat 35.\",\"nemzeti doh\\u00e1nybolt\",\"Nemzeti Doh\\u00e1nybolt\",null],[\"Viszontelad\\u00f3\",\"Budapest, XI. ker\\u00fclet\",\"Kosztol\\u00e1nyi Dezs\\u0151 t\\u00e9r 5.\",\"nemzeti doh\\u00e1nybolt\",\"Nemzeti Doh\\u00e1nybolt\",null],[\"Viszontelad\\u00f3\",\"Budapest, XI. ker\\u00fclet\",\" Okt\\u00f3ber huszonharmadika utca 27.\",\"nemzeti doh\\u00e1nybolt\",\"Nemzeti Doh\\u00e1nybolt\",null],[\"Viszontelad\\u00f3\",\"Budapest, XI. ker\\u00fclet\",\"Feh\\u00e9rv\\u00e1ri \\u00fat 118/A\",\"nemzeti doh\\u00e1nybolt\",\"Nemzeti Doh\\u00e1nybolt\",null],[\"Viszontelad\\u00f3\",\"Budapest, XI. ker\\u00fclet\",\"V\\u0151f\\u00e9ly u. 1.\",\"nemzeti doh\\u00e1nybolt\",\"Nemzeti Doh\\u00e1nybolt\",null],[\"Viszontelad\\u00f3\",\"Budapest, XI. ker\\u00fclet\",\"Bocskai \\u00fat 44\",\"nemzeti doh\\u00e1nybolt\",\"Nemzeti Doh\\u00e1nybolt\",null],[\"Viszontelad\\u00f3\",\"Budapest, XI. ker\\u00fclet\",\"Bercs\\u00e9nyi utca 21/A\",\"nemzeti doh\\u00e1nybolt\",\"Nemzeti Doh\\u00e1nybolt\",null],[\"Viszontelad\\u00f3\",\"Budapest, XI. ker\\u00fclet\",\"Budafoki \\u00fat 57/B.\",\"nemzeti doh\\u00e1nybolt\",\"Nemzeti Doh\\u00e1nybolt\",null],[\"Viszontelad\\u00f3\",\"Budapest, XI. ker\\u00fclet\",\"R\\u00e9tk\\u00f6z u. 10/B.\",\"nemzeti doh\\u00e1nybolt\",\"Nemzeti Doh\\u00e1nybolt\",null],[\"Viszontelad\\u00f3\",\"Budapest, XI. ker\\u00fclet\",\"R\\u00e9tk\\u00f6z u. 10/B.\",\"nemzeti doh\\u00e1nybolt\",\"Nemzeti Doh\\u00e1nybolt\",null],[\"Viszontelad\\u00f3\",\"Budapest, XI. ker\\u00fclet\",\"Jagell\\u00f3 \\u00fat 4/a.\",\"nemzeti doh\\u00e1nybolt\",\"Nemzeti Doh\\u00e1nybolt\",null],[\"Viszontelad\\u00f3\",\"Budapest, XI. ker\\u00fclet\",\"Karinthy Frigyes u. 4-6.\",\"nemzeti doh\\u00e1nybolt\",\"Nemzeti Doh\\u00e1nybolt\",null],[\"Viszontelad\\u00f3\",\"Budapest, XI. ker\\u00fclet\",\"Karinthy Frigyes u. 4-6.\",\"nemzeti doh\\u00e1nybolt\",\"Nemzeti Doh\\u00e1nybolt\",null],[\"Viszontelad\\u00f3\",\"Budapest, XI. ker\\u00fclet\",\"Karinthy Frigyes u. 4-6.\",\"nemzeti doh\\u00e1nybolt\",\"Nemzeti Doh\\u00e1nybolt\",null],[\"Viszontelad\\u00f3\",\"Budapest, XI. ker\\u00fclet\",\"Karinthy Frigyes u. 4-6.\",\"nemzeti doh\\u00e1nybolt\",\"Nemzeti Doh\\u00e1nybolt\",null],[\"Viszontelad\\u00f3\",\"Budapest, XI. ker\\u00fclet\",\"M\\u00f3ricz Zsigmond k\\u00f6rt\\u00e9r 2.\",\"nemzeti doh\\u00e1nybolt\",\"Nemzeti Doh\\u00e1nybolt\",null],[\"Viszontelad\\u00f3\",\"Budapest, XII. ker\\u00fclet\",\"Alkot\\u00e1s u. 53.\",\"nemzeti doh\\u00e1nybolt\",\"Nemzeti Doh\\u00e1nybolt\",null],[\"Viszontelad\\u00f3\",\"Budapest, XII. ker\\u00fclet\",\"Alkot\\u00e1s u. 13.\",\"nemzeti doh\\u00e1nybolt\",\"Nemzeti Doh\\u00e1nybolt\",null],[\"Viszontelad\\u00f3\",\"Budapest, XII. ker\\u00fclet\",\" Kiss J\\u00e1nos alt\\u00e1bornagy u. 50/A\",\"nemzeti doh\\u00e1nybolt\",\"Nemzeti Doh\\u00e1nybolt\",null],[\"Viszontelad\\u00f3\",\"Budapest, XII. ker\\u00fclet\",\"Pagony utca 29.\",\"nemzeti doh\\u00e1nybolt\",\"Nemzeti Doh\\u00e1nybolt\",null],[\"Viszontelad\\u00f3\",\"Budapest, XII. ker\\u00fclet\",\"Cs\\u00f6rsz u. 23-25.\",\"nemzeti doh\\u00e1nybolt\",\"Nemzeti Doh\\u00e1nybolt\",null],[\"Viszontelad\\u00f3\",\"Budapest, XII. ker\\u00fclet\",\"N\\u00f3gr\\u00e1di u. 39.\",\"nemzeti doh\\u00e1nybolt\",\"Nemzeti Doh\\u00e1nybolt\",null],[\"Viszontelad\\u00f3\",\"Budapest, XII. ker\\u00fclet\",\"E\\u00f6tv\\u00f6s \\u00fat 38/b.\",\"nemzeti doh\\u00e1nybolt\",\"Nemzeti Doh\\u00e1nybolt\",null],[\"Viszontelad\\u00f3\",\"Budapest, XII. ker\\u00fclet\",\"Apor Vilmos t\\u00e9r 11-12.\",\"nemzeti doh\\u00e1nybolt\",\"Nemzeti Doh\\u00e1nybolt\",null],[\"Viszontelad\\u00f3\",\"Budapest, XIII. ker\\u00fclet\",\"Viktor Hugo utcai alulj. Lehel t\\u00e9r\",\"nemzeti doh\\u00e1nybolt\",\"Nemzeti Doh\\u00e1nybolt\",null],[\"Viszontelad\\u00f3\",\"Budapest, XIII. ker\\u00fclet\",\"Radn\\u00f3ti Mikl\\u00f3s utca 38\",\"nemzeti doh\\u00e1nybolt\",\"Nemzeti Doh\\u00e1nybolt\",null],[\"Viszontelad\\u00f3\",\"Budapest, XIII. ker\\u00fclet\",\"1132 Budapest, Gogol u. 23.\",\"nemzeti doh\\u00e1nybolt\",\"Nemzeti Doh\\u00e1nybolt\",null],[\"Viszontelad\\u00f3\",\"Budapest, XIII. ker\\u00fclet\",\"Katona J\\u00f3zsef utca 3.\",\"nemzeti doh\\u00e1nybolt\",\"Nemzeti Doh\\u00e1nybolt\",null],[\"Viszontelad\\u00f3\",\"Budapest, XIII. ker\\u00fclet\",\"Holl\\u00e1n Ern\\u0151 utca 4.\",\"nemzeti doh\\u00e1nybolt\",\"Nemzeti Doh\\u00e1nybolt\",null],[\"Viszontelad\\u00f3\",\"Budapest, XIV. ker\\u00fclet\",\"\\u00d6rs vez\\u00e9r tere 3.\",\"nemzeti doh\\u00e1nybolt\",\"Nemzeti Doh\\u00e1nybolt\",null],[\"Viszontelad\\u00f3\",\"Budapest, XIV. ker\\u00fclet\",\"Mexik\\u00f3i \\u00fat 70.\",\"nemzeti doh\\u00e1nybolt\",\"Nemzeti Doh\\u00e1nybolt\",null],[\"Viszontelad\\u00f3\",\"Budapest, XIV. ker\\u00fclet\",\"Csert\\u0151 u. 5-7.\",\"nemzeti doh\\u00e1nybolt\",\"Nemzeti Doh\\u00e1nybolt\",null],[\"Viszontelad\\u00f3\",\"Budapest, XIV. ker\\u00fclet\",\"Szobr\\u00e1nc utca 20.\",\"nemzeti doh\\u00e1nybolt\",\"Nemzeti Doh\\u00e1nybolt\",null],[\"Viszontelad\\u00f3\",\"Budapest, XIV. ker\\u00fclet\",\"Egressy \\u00fat 9/A\",\"nemzeti doh\\u00e1nybolt\",\"Nemzeti Doh\\u00e1nybolt\",null],[\"Viszontelad\\u00f3\",\"Budapest, XIV. ker\\u00fclet\",\"M\\u00f3ricz Zsigmond k\\u00f6rt\\u00e9r 9.\",\"nemzeti doh\\u00e1nybolt\",\"Nemzeti Doh\\u00e1nybolt\",null],[\"Viszontelad\\u00f3\",\"Budapest, XIV. ker\\u00fclet\",\"Szab\\u00f3 J\\u00f3zsef u. 6. (R\\u00e9csei Center)\",\"nemzeti doh\\u00e1nybolt\",\"Nemzeti Doh\\u00e1nybolt\",null],[\"Viszontelad\\u00f3\",\"Budapest, XIV. ker\\u00fclet\",\"Fogarasi \\u00fat 47-51.\",\"nemzeti doh\\u00e1nybolt\",\"Nemzeti Doh\\u00e1nybolt\",null],[\"Viszontelad\\u00f3\",\"Budapest, XIV. ker\\u00fclet\",\"Th\\u00f6k\\u00f6ly \\u00fat 150.\",\"nemzeti doh\\u00e1nybolt\",\"Nemzeti Doh\\u00e1nybolt\",null],[\"Viszontelad\\u00f3\",\"Budapest, XIV. ker\\u00fclet\",\"Erzs\\u00e9bet kir\\u00e1lyn\\u00e9 \\u00fat 6.\",\"nemzeti doh\\u00e1nybolt\",\"Nemzeti Doh\\u00e1nybolt\",null],[\"Viszontelad\\u00f3\",\"Budapest, XIX. ker\\u00fclet\",\"Kossuth t\\u00e9r \\u00fczleth\\u00e1z fszt. 11.\",\"nemzeti doh\\u00e1nybolt\",\"Nemzeti Doh\\u00e1nybolt\",null],[\"Viszontelad\\u00f3\",\"Budapest, XIX. ker\\u00fclet\",\"\\u00dcll\\u0151i \\u00fat 248.\",\"nemzeti doh\\u00e1nybolt\",\"Nemzeti Doh\\u00e1nybolt\",null],[\"Viszontelad\\u00f3\",\"Budapest, XIX. ker\\u00fclet\",\"K\\u0151b\\u00e1nya-Kispest M3 metr\\u00f3 \\u00e1tj\\u00e1r\\u00f3\",\"nemzeti doh\\u00e1nybolt\",\"Nemzeti Doh\\u00e1nybolt\",null],[\"Viszontelad\\u00f3\",\"Budapest, XV. ker\\u00fclet\",\"R\\u00e1kos \\u00fat 48.\",\"nemzeti doh\\u00e1nybolt\",\"Nemzeti Doh\\u00e1nybolt\",null],[\"Viszontelad\\u00f3\",\"Budapest, XV. ker\\u00fclet\",\"R\\u00e1kos \\u00fat 84.\",\"nemzeti doh\\u00e1nybolt\",\"Nemzeti Doh\\u00e1nybolt\",null],[\"Viszontelad\\u00f3\",\"Budapest, XV. ker\\u00fclet\",\"T\\u00f6lt\\u00e9s u. 4.\",\"nemzeti doh\\u00e1nybolt\",\"Nemzeti Doh\\u00e1nybolt\",null],[\"Viszontelad\\u00f3\",\"Budapest, XV. ker\\u00fclet\",\"R\\u00e1kos \\u00fat 9.\",\"nemzeti doh\\u00e1nybolt\",\"Nemzeti Doh\\u00e1nybolt\",null],[\"Viszontelad\\u00f3\",\"Budapest, XVI. ker\\u00fclet\",\"Th\\u00f6k\\u00f6ly \\u00fat 10.\",\"nemzeti doh\\u00e1nybolt\",\"Nemzeti Doh\\u00e1nybolt\",null],[\"Viszontelad\\u00f3\",\"Budapest, XVI. ker\\u00fclet\",\"R\\u00e1kosi \\u00fat 142-146.\",\"nemzeti doh\\u00e1nybolt\",\"Nemzeti Doh\\u00e1nybolt\",null],[\"Viszontelad\\u00f3\",\"Budapest, XVI. ker\\u00fclet\",\"Arany J\\u00e1nos u. 102.\",\"nemzeti doh\\u00e1nybolt\",\"Nemzeti Doh\\u00e1nybolt\",null],[\"Viszontelad\\u00f3\",\"Budapest, XVI. ker\\u00fclet\",\"B\\u00f6k\\u00e9nyf\\u00f6ldi \\u00fat 102. \",\"nemzeti doh\\u00e1nybolt\",\"Nemzeti Doh\\u00e1nybolt\",null],[\"Viszontelad\\u00f3\",\"Budapest, XVI. ker\\u00fclet\",\"B\\u00f6k\\u00e9nyf\\u00f6ldi \\u00fat 102. \",\"nemzeti doh\\u00e1nybolt\",\"Nemzeti Doh\\u00e1nybolt\",null],[\"Viszontelad\\u00f3\",\"Budapest, XVII. ker\\u00fclet\",\"Pesti \\u00fat 144.\",\"nemzeti doh\\u00e1nybolt\",\"Nemzeti Doh\\u00e1nybolt\",null],[\"Viszontelad\\u00f3\",\"Budapest, XVII. ker\\u00fclet\",\"Pesti \\u00fat 16-18.\",\"nemzeti doh\\u00e1nybolt\",\"Nemzeti Doh\\u00e1nybolt\",null],[\"Viszontelad\\u00f3\",\"Budapest, XVII. ker\\u00fclet\",\"Pesti \\u00fat 16-18.\",\"nemzeti doh\\u00e1nybolt\",\"Nemzeti Doh\\u00e1nybolt\",null],[\"Viszontelad\\u00f3\",\"Budapest, XVII. ker\\u00fclet\",\"Kvasz Andr\\u00e1s u. 27/C.\",\"nemzeti doh\\u00e1nybolt\",\"Nemzeti Doh\\u00e1nybolt\",null],[\"Viszontelad\\u00f3\",\"Budapest, XVII. ker\\u00fclet\",\"P\\u00e9celi \\u00fat 126.\",\"nemzeti doh\\u00e1nybolt\",\"Nemzeti Doh\\u00e1nybolt\",null],[\"Viszontelad\\u00f3\",\"Budapest, XVII. ker\\u00fclet\",\"Zr\\u00ednyi u. 86.\",\"nemzeti doh\\u00e1nybolt\",\"Nemzeti Doh\\u00e1nybolt\",null],[\"Viszontelad\\u00f3\",\"Budapest, XVIII. ker\\u00fclet\",\"\\u00dcll\\u0151i \\u00fat 346.\",\"nemzeti doh\\u00e1nybolt\",\"Nemzeti Doh\\u00e1nybolt\",null],[\"Viszontelad\\u00f3\",\"Budapest, XVIII. ker\\u00fclet\",\"Gy\\u00f6mr\\u0151i \\u00fat 99. (CBA \\u00dajhegyi)\",\"nemzeti doh\\u00e1nybolt\",\"Nemzeti Doh\\u00e1nybolt\",null],[\"Viszontelad\\u00f3\",\"Budapest, XVIII. ker\\u00fclet\",\"Gy\\u00f6mr\\u0151i \\u00fat 99. (CBA \\u00dajhegyi)\",\"nemzeti doh\\u00e1nybolt\",\"Nemzeti Doh\\u00e1nybolt\",null],[\"Viszontelad\\u00f3\",\"Budapest, XVIII. ker\\u00fclet\",\"Gy\\u00f6mr\\u0151i \\u00fat 99. (CBA \\u00dajhegyi)\",\"nemzeti doh\\u00e1nybolt\",\"Nemzeti Doh\\u00e1nybolt\",null],[\"Viszontelad\\u00f3\",\"Budapest, XVIII. ker\\u00fclet\",\"\\u00dcll\\u0151i \\u00fat 610.\",\"nemzeti doh\\u00e1nybolt\",\"Nemzeti Doh\\u00e1nybolt\",null],[\"Viszontelad\\u00f3\",\"Budapest, XVIII. ker\\u00fclet\",\"Csontv\\u00e1ri Kosztka Tivadar u. 23.\",\"nemzeti doh\\u00e1nybolt\",\"Nemzeti Doh\\u00e1nybolt\",null],[\"Viszontelad\\u00f3\",\"Budapest, XVIII. ker\\u00fclet\",\"Havanna u. 44., fsz. 4.\",\"nemzeti doh\\u00e1nybolt\",\"Nemzeti Doh\\u00e1nybolt\",null],[\"Viszontelad\\u00f3\",\"Budapest, XVIII. ker\\u00fclet\",\"Havanna u. 44., fsz. 4.\",\"nemzeti doh\\u00e1nybolt\",\"Nemzeti Doh\\u00e1nybolt\",null],[\"Viszontelad\\u00f3\",\"Budapest, XVIII. ker\\u00fclet\",\"Marg\\u00f3 Tivadar utca 83.\",\"nemzeti doh\\u00e1nybolt\",\"Nemzeti Doh\\u00e1nybolt\",null],[\"Viszontelad\\u00f3\",\"Budapest, XVIII. ker\\u00fclet\",\"Nagyk\\u0151r\\u00f6si \\u00fat 35.\",\"nemzeti doh\\u00e1nybolt\",\"Nemzeti Doh\\u00e1nybolt\",null],[\"Viszontelad\\u00f3\",\"Budapest, XVIII. ker\\u00fclet\",\"Goroszl\\u00f3 u. 15.\",\"nemzeti doh\\u00e1nybolt\",\"Nemzeti Doh\\u00e1nybolt\",null],[\"Viszontelad\\u00f3\",\"Budapest, XVIII. ker\\u00fclet\",\"Nagyk\\u0151r\\u00f6si \\u00fat 73.\",\"nemzeti doh\\u00e1nybolt\",\"Nemzeti Doh\\u00e1nybolt\",null],[\"Viszontelad\\u00f3\",\"Budapest, XVIII. ker\\u00fclet\",\"Alacskai \\u00fat 3.\",\"nemzeti doh\\u00e1nybolt\",\"Nemzeti Doh\\u00e1nybolt\",null],[\"Viszontelad\\u00f3\",\"Budapest, XVIII. ker\\u00fclet\",\"Gy\\u00f6mr\\u0151i \\u00fat 79-83. (S\\u00e1rk\\u00e1ny)\",\"nemzeti doh\\u00e1nybolt\",\"Nemzeti Doh\\u00e1nybolt\",null],[\"Viszontelad\\u00f3\",\"Budapest, XVIII. ker\\u00fclet\",\"Nefelejcs utca 89/A\",\"nemzeti doh\\u00e1nybolt\",\"Nemzeti Doh\\u00e1nybolt\",null],[\"Viszontelad\\u00f3\",\"Budapest, XVIII. ker\\u00fclet\",\"Nefelejcs utca 89/A\",\"nemzeti doh\\u00e1nybolt\",\"Nemzeti Doh\\u00e1nybolt\",null],[\"Viszontelad\\u00f3\",\"Budapest, XVIII. ker\\u00fclet\",\"\\u00dcll\\u0151i \\u00fat 440-442.\",\"nemzeti doh\\u00e1nybolt\",\"Nemzeti Doh\\u00e1nybolt\",null],[\"Viszontelad\\u00f3\",\"Budapest, XVIII. ker\\u00fclet\",\"\\u00dcll\\u0151i \\u00fat 440-442.\",\"nemzeti doh\\u00e1nybolt\",\"Nemzeti Doh\\u00e1nybolt\",null],[\"Viszontelad\\u00f3\",\"Budapest, XVIII. ker\\u00fclet\",\"Goroszl\\u00f3 utca 4.\",\"nemzeti doh\\u00e1nybolt\",\"Nemzeti Doh\\u00e1nybolt\",null],[\"Viszontelad\\u00f3\",\"Budapest, XVIII. ker\\u00fclet\",\"Goroszl\\u00f3 utca 4.\",\"nemzeti doh\\u00e1nybolt\",\"Nemzeti Doh\\u00e1nybolt\",null],[\"Viszontelad\\u00f3\",\"Budapest, XVIII. ker\\u00fclet\",\"Gilice t\\u00e9r 49.\",\"nemzeti doh\\u00e1nybolt\",\"Nemzeti Doh\\u00e1nybolt\",null],[\"Viszontelad\\u00f3\",\"Budapest, XVIII. ker\\u00fclet\",\"\\u00dcll\\u0151i \\u00fat 379-381\",\"nemzeti doh\\u00e1nybolt\",\"Nemzeti Doh\\u00e1nybolt\",null],[\"Viszontelad\\u00f3\",\"Budapest, XVIII. ker\\u00fclet\",\"Gy\\u00e9k\\u00e9ny t\\u00e9r 1.\",\"nemzeti doh\\u00e1nybolt\",\"Nemzeti Doh\\u00e1nybolt\",null],[\"Viszontelad\\u00f3\",\"Budapest, XVIII. ker\\u00fclet\",\"Est utca 50.\",\"nemzeti doh\\u00e1nybolt\",\"Nemzeti Doh\\u00e1nybolt\",null],[\"Viszontelad\\u00f3\",\"Budapest, XX. ker\\u00fclet\",\"Nagy S\\u00e1ndor J\\u00f3zsef u. 170.\",\"nemzeti doh\\u00e1nybolt\",\"Nemzeti Doh\\u00e1nybolt\",null],[\"Viszontelad\\u00f3\",\"Budapest, XX. ker\\u00fclet\",\"J\\u00f3kai M\\u00f3r u. 48/a.\",\"nemzeti doh\\u00e1nybolt\",\"Nemzeti Doh\\u00e1nybolt\",null],[\"Viszontelad\\u00f3\",\"Budapest, XX. ker\\u00fclet\",\"T\\u00e1tra t\\u00e9r 1.\",\"nemzeti doh\\u00e1nybolt\",\"Nemzeti Doh\\u00e1nybolt\",null],[\"Viszontelad\\u00f3\",\"Budapest, XX. ker\\u00fclet\",\"Kossuth Lajos utca 31/c\",\"nemzeti doh\\u00e1nybolt\",\"Nemzeti Doh\\u00e1nybolt\",null],[\"Viszontelad\\u00f3\",\"Budapest, XXI. ker\\u00fclet\",\"Szent Istv\\u00e1n u. 291.\",\"nemzeti doh\\u00e1nybolt\",\"Nemzeti Doh\\u00e1nybolt\",null],[\"Viszontelad\\u00f3\",\"Budapest, XXI. ker\\u00fclet\",\"II.R\\u00e1k\\u00f3czi Ferenc u. 154-170\",\"nemzeti doh\\u00e1nybolt\",\"Nemzeti Doh\\u00e1nybolt\",null],[\"Viszontelad\\u00f3\",\"Budapest, XXI. ker\\u00fclet\",\"II.R\\u00e1k\\u00f3czi Ferenc u. 154-170\",\"nemzeti doh\\u00e1nybolt\",\"Nemzeti Doh\\u00e1nybolt\",null],[\"Viszontelad\\u00f3\",\"Budapest, XXI. ker\\u00fclet\",\"II.R\\u00e1k\\u00f3czi Ferenc u. 142\",\"nemzeti doh\\u00e1nybolt\",\"Nemzeti Doh\\u00e1nybolt\",null],[\"Viszontelad\\u00f3\",\"Budapest, XXI. ker\\u00fclet\",\"II.R\\u00e1k\\u00f3czi Ferenc u. 142\",\"nemzeti doh\\u00e1nybolt\",\"Nemzeti Doh\\u00e1nybolt\",null],[\"Viszontelad\\u00f3\",\"Budapest, XXI. ker\\u00fclet\",\"Kar\\u00e1csony S\\u00e1ndor u. 10/a\",\"nemzeti doh\\u00e1nybolt\",\"Nemzeti Doh\\u00e1nybolt\",null],[\"Viszontelad\\u00f3\",\"Budapest, XXI. ker\\u00fclet\",\"Szent L\\u00e1szl\\u00f3 u. 115\",\"nemzeti doh\\u00e1nybolt\",\"Nemzeti Doh\\u00e1nybolt\",null],[\"Viszontelad\\u00f3\",\"Budapest, XXI. ker\\u00fclet\",\"Ny\\u00e1rf\\u00e1s utca 2.\",\"nemzeti doh\\u00e1nybolt\",\"Nemzeti Doh\\u00e1nybolt\",null],[\"Viszontelad\\u00f3\",\"Budapest, XXI. ker\\u00fclet\",\"Ny\\u00e1rf\\u00e1s utca 2.\",\"nemzeti doh\\u00e1nybolt\",\"Nemzeti Doh\\u00e1nybolt\",null],[\"Viszontelad\\u00f3\",\"Budapest, XXI. ker\\u00fclet\",\"II. R\\u00e1k\\u00f3czi Ferenc \\u00fat 277.\",\"nemzeti doh\\u00e1nybolt\",\"Nemzeti Doh\\u00e1nybolt\",null],[\"Viszontelad\\u00f3\",\"Budapest, XXI. ker\\u00fclet\",\"Zr\\u00ednyi utca 1/A.\",\"nemzeti doh\\u00e1nybolt\",\"Nemzeti Doh\\u00e1nybolt\",null],[\"Viszontelad\\u00f3\",\"Budapest, XXI. ker\\u00fclet\",\"Ady Endre \\u00fat 65.\",\"nemzeti doh\\u00e1nybolt\",\"Nemzeti Doh\\u00e1nybolt\",null],[\"Viszontelad\\u00f3\",\"Budapest, XXI. ker\\u00fclet\",\"II. R\\u00e1k\\u00f3czi Ferenc \\u00fat 366.\",\"nemzeti doh\\u00e1nybolt\",\"Nemzeti Doh\\u00e1nybolt\",null],[\"Viszontelad\\u00f3\",\"Budapest, XXI. ker\\u00fclet\",\"V\\u00e9nusz u. 33.\",\"nemzeti doh\\u00e1nybolt\",\"Nemzeti Doh\\u00e1nybolt\",null],[\"Viszontelad\\u00f3\",\"Budapest, XXI. ker\\u00fclet\",\"V\\u00e9nusz u. 33.\",\"nemzeti doh\\u00e1nybolt\",\"Nemzeti Doh\\u00e1nybolt\",null],[\"Viszontelad\\u00f3\",\"Budapest, XXI. ker\\u00fclet\",\"Mansfeld P\\u00e9ter u. 92. \",\"nemzeti doh\\u00e1nybolt\",\"Nemzeti Doh\\u00e1nybolt\",null],[\"Viszontelad\\u00f3\",\"Budapest, XXI. ker\\u00fclet\",\"Nap utca 2.\",\"nemzeti doh\\u00e1nybolt\",\"Nemzeti Doh\\u00e1nybolt\",null],[\"Viszontelad\\u00f3\",\"Budapest, XXI. ker\\u00fclet\",\"G\\u00f6rgey t\\u00e9r 1.\",\"nemzeti doh\\u00e1nybolt\",\"Nemzeti Doh\\u00e1nybolt\",null],[\"Viszontelad\\u00f3\",\"Budapest, XXI. ker\\u00fclet\",\"De\\u00e1k t\\u00e9r 1. (Piac bej\\u00e1rat mellett)\",\"nemzeti doh\\u00e1nybolt\",\"Nemzeti Doh\\u00e1nybolt\",null],[\"Viszontelad\\u00f3\",\"Budapest, XXI. ker\\u00fclet\",\"K\\u00f6zponti \\u00fat 18. (Csepel m\\u0171vek)\",\"nemzeti doh\\u00e1nybolt\",\"Nemzeti Doh\\u00e1nybolt\",null],[\"Viszontelad\\u00f3\",\"Budapest, XXII. ker\\u00fclet\",\"Nagyt\\u00e9t\\u00e9nyi \\u00fat 315.\",\"nemzeti doh\\u00e1nybolt\",\"Nemzeti Doh\\u00e1nybolt\",null],[\"Viszontelad\\u00f3\",\"Budapest, XXII. ker\\u00fclet\",\"K\\u00f6zgazd\\u00e1sz u. 4.\",\"nemzeti doh\\u00e1nybolt\",\"Nemzeti Doh\\u00e1nybolt\",null],[\"Viszontelad\\u00f3\",\"Cs\\u00f6m\\u00f6r\",\"Szabads\\u00e1g \\u00fat 41.\",\"nemzeti doh\\u00e1nybolt\",\"Nemzeti Doh\\u00e1nybolt\",null],[\"Viszontelad\\u00f3\",\"Mogyor\\u00f3d \",\"G\\u00f6d\\u00f6ll\\u0151i \\u00fat 244.\",\"nemzeti doh\\u00e1nybolt\",\"Nemzeti Doh\\u00e1nybolt\",null],[\"Viszontelad\\u00f3\",\"R\\u00f3zsa utca - Munk\\u00e1sotthon utca sarok\",\"Baross u. 96.\",\"nemzeti doh\\u00e1nybolt\",\"Nemzeti Doh\\u00e1nybolt\",null],[\"Viszontelad\\u00f3\",\"Szentendre\",\"Ady Endre \\u00fat 24.\",\"nemzeti doh\\u00e1nybolt\",\"Nemzeti Doh\\u00e1nybolt\",null],[\"Viszontelad\\u00f3\",\"Szentendre\",\"Vas\\u00fati villasor 5.\",\"nemzeti doh\\u00e1nybolt\",\"Nemzeti Doh\\u00e1nybolt\",null],[\"Viszontelad\\u00f3\",\"Szigetszentmikl\\u00f3s\",\"Szigetszentmikl\\u00f3s M0\",\"nemzeti doh\\u00e1nybolt\",\"Nemzeti Doh\\u00e1nybolt\",null]],\"hovertemplate\":\"<b>%{hovertext}</b><br><br>organization=%{customdata[4]}<br>lat=%{lat}<br>lng=%{lon}<br>type=%{customdata[0]}<br>place=%{customdata[1]}<br>address=%{customdata[2]}<br>description=%{customdata[3]}<br>placed_at=%{customdata[5]}<extra></extra>\",\"hovertext\":[\"Viszontelad\\u00f3\",\"Viszontelad\\u00f3\",\"Viszontelad\\u00f3\",\"Viszontelad\\u00f3\",\"Viszontelad\\u00f3\",\"Viszontelad\\u00f3\",\"Viszontelad\\u00f3\",\"Viszontelad\\u00f3\",\"Viszontelad\\u00f3\",\"Viszontelad\\u00f3\",\"Viszontelad\\u00f3\",\"Viszontelad\\u00f3\",\"Viszontelad\\u00f3\",\"Viszontelad\\u00f3\",\"Viszontelad\\u00f3\",\"Viszontelad\\u00f3\",\"Viszontelad\\u00f3\",\"Viszontelad\\u00f3\",\"Viszontelad\\u00f3\",\"Viszontelad\\u00f3\",\"Viszontelad\\u00f3\",\"Viszontelad\\u00f3\",\"Viszontelad\\u00f3\",\"Viszontelad\\u00f3\",\"Viszontelad\\u00f3\",\"Viszontelad\\u00f3\",\"Viszontelad\\u00f3\",\"Viszontelad\\u00f3\",\"Viszontelad\\u00f3\",\"Viszontelad\\u00f3\",\"Viszontelad\\u00f3\",\"Viszontelad\\u00f3\",\"Viszontelad\\u00f3\",\"Viszontelad\\u00f3\",\"Viszontelad\\u00f3\",\"Viszontelad\\u00f3\",\"Viszontelad\\u00f3\",\"Viszontelad\\u00f3\",\"Viszontelad\\u00f3\",\"Viszontelad\\u00f3\",\"Viszontelad\\u00f3\",\"Viszontelad\\u00f3\",\"Viszontelad\\u00f3\",\"Viszontelad\\u00f3\",\"Viszontelad\\u00f3\",\"Viszontelad\\u00f3\",\"Viszontelad\\u00f3\",\"Viszontelad\\u00f3\",\"Viszontelad\\u00f3\",\"Viszontelad\\u00f3\",\"Viszontelad\\u00f3\",\"Viszontelad\\u00f3\",\"Viszontelad\\u00f3\",\"Viszontelad\\u00f3\",\"Viszontelad\\u00f3\",\"Viszontelad\\u00f3\",\"Viszontelad\\u00f3\",\"Viszontelad\\u00f3\",\"Viszontelad\\u00f3\",\"Viszontelad\\u00f3\",\"Viszontelad\\u00f3\",\"Viszontelad\\u00f3\",\"Viszontelad\\u00f3\",\"Viszontelad\\u00f3\",\"Viszontelad\\u00f3\",\"Viszontelad\\u00f3\",\"Viszontelad\\u00f3\",\"Viszontelad\\u00f3\",\"Viszontelad\\u00f3\",\"Viszontelad\\u00f3\",\"Viszontelad\\u00f3\",\"Viszontelad\\u00f3\",\"Viszontelad\\u00f3\",\"Viszontelad\\u00f3\",\"Viszontelad\\u00f3\",\"Viszontelad\\u00f3\",\"Viszontelad\\u00f3\",\"Viszontelad\\u00f3\",\"Viszontelad\\u00f3\",\"Viszontelad\\u00f3\",\"Viszontelad\\u00f3\",\"Viszontelad\\u00f3\",\"Viszontelad\\u00f3\",\"Viszontelad\\u00f3\",\"Viszontelad\\u00f3\",\"Viszontelad\\u00f3\",\"Viszontelad\\u00f3\",\"Viszontelad\\u00f3\",\"Viszontelad\\u00f3\",\"Viszontelad\\u00f3\",\"Viszontelad\\u00f3\",\"Viszontelad\\u00f3\",\"Viszontelad\\u00f3\",\"Viszontelad\\u00f3\",\"Viszontelad\\u00f3\",\"Viszontelad\\u00f3\",\"Viszontelad\\u00f3\",\"Viszontelad\\u00f3\",\"Viszontelad\\u00f3\",\"Viszontelad\\u00f3\",\"Viszontelad\\u00f3\",\"Viszontelad\\u00f3\",\"Viszontelad\\u00f3\",\"Viszontelad\\u00f3\",\"Viszontelad\\u00f3\",\"Viszontelad\\u00f3\",\"Viszontelad\\u00f3\",\"Viszontelad\\u00f3\",\"Viszontelad\\u00f3\",\"Viszontelad\\u00f3\",\"Viszontelad\\u00f3\",\"Viszontelad\\u00f3\",\"Viszontelad\\u00f3\",\"Viszontelad\\u00f3\",\"Viszontelad\\u00f3\",\"Viszontelad\\u00f3\",\"Viszontelad\\u00f3\",\"Viszontelad\\u00f3\",\"Viszontelad\\u00f3\",\"Viszontelad\\u00f3\",\"Viszontelad\\u00f3\",\"Viszontelad\\u00f3\",\"Viszontelad\\u00f3\",\"Viszontelad\\u00f3\",\"Viszontelad\\u00f3\",\"Viszontelad\\u00f3\",\"Viszontelad\\u00f3\",\"Viszontelad\\u00f3\",\"Viszontelad\\u00f3\",\"Viszontelad\\u00f3\",\"Viszontelad\\u00f3\",\"Viszontelad\\u00f3\",\"Viszontelad\\u00f3\",\"Viszontelad\\u00f3\",\"Viszontelad\\u00f3\",\"Viszontelad\\u00f3\",\"Viszontelad\\u00f3\",\"Viszontelad\\u00f3\",\"Viszontelad\\u00f3\",\"Viszontelad\\u00f3\",\"Viszontelad\\u00f3\",\"Viszontelad\\u00f3\",\"Viszontelad\\u00f3\",\"Viszontelad\\u00f3\",\"Viszontelad\\u00f3\",\"Viszontelad\\u00f3\",\"Viszontelad\\u00f3\",\"Viszontelad\\u00f3\",\"Viszontelad\\u00f3\",\"Viszontelad\\u00f3\",\"Viszontelad\\u00f3\",\"Viszontelad\\u00f3\",\"Viszontelad\\u00f3\",\"Viszontelad\\u00f3\",\"Viszontelad\\u00f3\",\"Viszontelad\\u00f3\",\"Viszontelad\\u00f3\",\"Viszontelad\\u00f3\",\"Viszontelad\\u00f3\",\"Viszontelad\\u00f3\",\"Viszontelad\\u00f3\",\"Viszontelad\\u00f3\",\"Viszontelad\\u00f3\",\"Viszontelad\\u00f3\",\"Viszontelad\\u00f3\",\"Viszontelad\\u00f3\",\"Viszontelad\\u00f3\",\"Viszontelad\\u00f3\",\"Viszontelad\\u00f3\",\"Viszontelad\\u00f3\",\"Viszontelad\\u00f3\",\"Viszontelad\\u00f3\",\"Viszontelad\\u00f3\",\"Viszontelad\\u00f3\",\"Viszontelad\\u00f3\",\"Viszontelad\\u00f3\",\"Viszontelad\\u00f3\",\"Viszontelad\\u00f3\",\"Viszontelad\\u00f3\",\"Viszontelad\\u00f3\",\"Viszontelad\\u00f3\",\"Viszontelad\\u00f3\",\"Viszontelad\\u00f3\",\"Viszontelad\\u00f3\",\"Viszontelad\\u00f3\",\"Viszontelad\\u00f3\",\"Viszontelad\\u00f3\",\"Viszontelad\\u00f3\",\"Viszontelad\\u00f3\",\"Viszontelad\\u00f3\",\"Viszontelad\\u00f3\",\"Viszontelad\\u00f3\",\"Viszontelad\\u00f3\",\"Viszontelad\\u00f3\",\"Viszontelad\\u00f3\",\"Viszontelad\\u00f3\",\"Viszontelad\\u00f3\",\"Viszontelad\\u00f3\",\"Viszontelad\\u00f3\",\"Viszontelad\\u00f3\",\"Viszontelad\\u00f3\",\"Viszontelad\\u00f3\"],\"lat\":[47.460928,47.4716,47.4716,47.4757,47.5094,47.506812,47.49981,47.505128,47.506381,47.499618,47.510113,47.516673,47.516673,47.507977,47.514745,47.516722,47.508599,47.510527,47.532579,47.568889,47.557066,47.542093,47.546373,47.488149,47.539045,47.597558,47.527647,47.550108,47.55943,47.55943,47.578038,47.555641,47.560734,47.560734,47.563777,47.563777,47.563777,47.563777,47.596944,47.479491,47.482623,47.482623,47.465848,47.475477,47.481797,47.481797,47.47861,47.48463,47.471115,47.4992,47.493219,47.496684,47.506202,47.497133,47.508956,47.505721,47.505721,47.507305,47.506146,47.506146,47.501486,47.50214,47.505674,47.497829,47.5012,47.498923,47.50598,47.500738,47.500726,47.494747,47.495999,47.489317,47.489317,47.495516,47.495516,47.488126,47.486484,47.547342,47.490647,47.492474,47.499442,47.486652,47.489955,47.49579,47.493595,47.482497,47.489737,47.46563,47.462149,47.480066,47.475087,47.473349,47.458345,47.46181,47.476004,47.475984,47.476248,47.466762,47.466762,47.486242,47.4775,47.4775,47.4775,47.477567,47.478066,47.490677,47.498867,47.492028,47.495525,47.489932,47.502816,47.49943,47.49112,47.517458,47.515955,47.519883,47.512528,47.513452,47.504703,47.519523,47.513245,47.506014,47.5067,47.476762,47.504575,47.507463,47.517137,47.516555,47.45839,47.454925,47.463248,47.555246,47.549894,47.57376,47.558858,47.508855,47.523549,47.521118,47.503522,47.503522,47.48092,47.484816,47.484816,47.469434,47.483964,47.477581,47.447844,47.4664,47.4664,47.438538,47.432993,47.43859,47.43921,47.43921,47.431945,47.406532,47.429053,47.398927,47.416164,47.457917,47.447071,47.447071,47.440531,47.440531,47.430611,47.430611,47.432543,47.445827,47.431121,47.434712,47.443741,47.445088,47.442245,47.437211,47.397935,47.424091,47.424091,47.42672,47.426596,47.426936,47.407384,47.415531,47.415531,47.400538,47.417991,47.434654,47.395206,47.409277,47.42224,47.42224,47.41539,47.422933,47.424322,47.430574,47.3904,47.409047,47.53995,47.595578,47.559494,47.679685,47.661943,47.379394],\"legendgroup\":\"Nemzeti Doh\\u00e1nybolt\",\"lon\":[18.950098,19.2839,19.1172,19.0466,19.1712,19.036907,19.02461,19.038374,19.039076,19.04021,19.032448,19.036907,19.036907,19.024078,19.037966,18.999446,19.025977,19.03027,19.036204,19.052791,19.044921,19.04078,19.043907,19.092734,19.037882,19.057279,19.037896,19.028903,19.099133,19.099133,19.086004,19.098292,19.101948,19.101948,19.084084,19.084084,19.084084,19.084084,19.120883,19.08176,19.07879,19.07879,19.11412,19.09862,19.068937,19.068937,19.073858,19.069683,19.07389,19.053112,19.055258,19.052042,19.050821,19.054188,19.068461,19.061618,19.061618,19.055359,19.06236,19.06236,19.080948,19.067685,19.069783,19.069564,19.065523,19.061919,19.076282,19.0692,19.069178,19.061083,19.059676,19.079975,19.079975,19.065734,19.065734,19.099905,19.089075,19.13543,19.071212,19.073194,19.083327,19.080326,19.07105,19.072027,19.081806,19.15854,19.137005,19.023252,19.05238,19.026278,19.039178,19.051129,19.040968,19.014957,19.036913,19.050102,19.053219,19.004799,19.004799,19.023726,19.04879,19.04879,19.04879,19.048728,19.047561,19.02406,19.023725,19.016083,19.00393,19.025924,19.002574,18.971745,19.011778,19.060594,19.049731,19.05929,19.05602,19.04931,19.135039,19.091149,19.146473,19.10381,19.105346,19.046279,19.092897,19.126194,19.108056,19.092174,19.143922,19.151743,19.149333,19.119489,19.117102,19.120899,19.120097,19.170996,19.17236,19.186259,19.2151,19.2151,19.25216,19.235715,19.235715,19.226752,19.276971,19.29265,19.167922,19.157899,19.157899,19.168353,19.207379,19.168445,19.165414,19.165414,19.175249,19.181051,19.175799,19.192055,19.207022,19.175316,19.190787,19.190787,19.185574,19.185574,19.174492,19.174492,19.181879,19.170242,19.195415,19.170379,19.12309,19.109705,19.112281,19.10168,19.098534,19.068131,19.068131,19.06749,19.06747,19.068945,19.079316,19.08025,19.08025,19.051081,19.065305,19.081259,19.043113,19.059529,19.06135,19.06135,19.062522,19.069467,19.071948,19.062186,18.980748,19.016143,19.224365,19.270913,19.09914,19.079483,19.074753,19.053599],\"marker\":{\"color\":\"#FFA15A\"},\"mode\":\"markers\",\"name\":\"Nemzeti Doh\\u00e1nybolt\",\"showlegend\":true,\"subplot\":\"mapbox\",\"type\":\"scattermapbox\"},{\"customdata\":[[\"\\u00dcgyf\\u00e9lk\\u00f6zpont\",\"Budapest II. ker\\u00fclet\",\"Sz\\u00e9ll K\\u00e1lm\\u00e1n t\\u00e9r M\",\"villamosmeg\\u00e1ll\\u00f3\",\"BKK \\u00dcgyf\\u00e9lk\\u00f6zpont\",null],[\"\\u00dcgyf\\u00e9lk\\u00f6zpont\",\"Budapest V. ker\\u00fclet\",\"De\\u00e1k Ferenc t\\u00e9r M\",\"alulj\\u00e1r\\u00f3\",\"BKK \\u00dcgyf\\u00e9lk\\u00f6zpont\",null],[\"\\u00dcgyf\\u00e9lk\\u00f6zpont\",\"Budapest VIII. ker\\u00fclet\",\"Keleti p\\u00e1lyaudvar M\",\"metr\\u00f3\",\"BKK \\u00dcgyf\\u00e9lk\\u00f6zpont\",null],[\"\\u00dcgyf\\u00e9lk\\u00f6zpont\",\"Budapest, I. ker\\u00fclet\",\"D\\u00e9li p\\u00e1lyaudvar M\",\"metr\\u00f3\",\"BKK \\u00dcgyf\\u00e9lk\\u00f6zpont\",null],[\"BKK p\\u00e9nzt\\u00e1r\",\"Budapest, I. ker\\u00fclet\",\"Batthy\\u00e1ny t\\u00e9r M+H\",\"alulj\\u00e1r\\u00f3\",\"BKK \\u00dcgyf\\u00e9lk\\u00f6zpont\",null],[\"\\u00dcgyf\\u00e9lk\\u00f6zpont\",\"Budapest, III. ker\\u00fclet\",\"Szentl\\u00e9lek t\\u00e9r H\",\"H\\u00c9V\",\"BKK \\u00dcgyf\\u00e9lk\\u00f6zpont\",null],[\"BKK p\\u00e9nzt\\u00e1r\",\"Budapest, IV. ker\\u00fclet\",\"\\u00dajpest-K\\u00f6zpont M\",\"buszmeg\\u00e1ll\\u00f3\",\"BKK \\u00dcgyf\\u00e9lk\\u00f6zpont\",null],[\"Viszontelad\\u00f3\",\"Budapest, IX. ker\\u00fclet\",\"K\\u00f6zv\\u00e1g\\u00f3h\\u00edd\",\"egy\\u00e9b\",\"BKK \\u00dcgyf\\u00e9lk\\u00f6zpont\",null],[\"BKK p\\u00e9nzt\\u00e1r\",\"Budapest, IX. ker\\u00fclet\",\"Nagyv\\u00e1rad t\\u00e9r\",\"egy\\u00e9b\",\"BKK \\u00dcgyf\\u00e9lk\\u00f6zpont\",null],[\"\\u00dcgyf\\u00e9lk\\u00f6zpont\",\"Budapest, IX. ker\\u00fclet\",\"N\\u00e9pliget M\",\"egy\\u00e9b\",\"BKK \\u00dcgyf\\u00e9lk\\u00f6zpont\",null],[\"Viszontelad\\u00f3\",\"Budapest, VI. ker\\u00fclet\",\"Bajcsy-Zsilinszky \\u00fat\",\"M\\u00c1V\",\"BKK \\u00dcgyf\\u00e9lk\\u00f6zpont\",null],[\"Viszontelad\\u00f3\",\"Budapest, VI. ker\\u00fclet\",\"Oktogon M\",\"M\\u00c1V\",\"BKK \\u00dcgyf\\u00e9lk\\u00f6zpont\",null],[\"Viszontelad\\u00f3\",\"Budapest, VI. ker\\u00fclet\",\"H\\u0151s\\u00f6k tere M\",\"M\\u00c1V\",\"BKK \\u00dcgyf\\u00e9lk\\u00f6zpont\",null],[\"\\u00dcgyf\\u00e9lk\\u00f6zpont\",\"Budapest, VII. ker\\u00fclet\",\"Rumbach Sebesty\\u00e9n utca 19-21.\",\"egy\\u00e9b\",\"BKK \\u00dcgyf\\u00e9lk\\u00f6zpont\",null],[\"Viszontelad\\u00f3\",\"Budapest, VII. ker\\u00fclet\",\"De\\u00e1k Ferenc t\\u00e9r\",\"M\\u00c1V\",\"BKK \\u00dcgyf\\u00e9lk\\u00f6zpont\",null],[\"BKK p\\u00e9nzt\\u00e1r\",\"Budapest, VII. ker\\u00fclet\",\"Blaha Lujza t\\u00e9r M\",\"metr\\u00f3\",\"BKK \\u00dcgyf\\u00e9lk\\u00f6zpont\",null],[\"BKK p\\u00e9nzt\\u00e1r\",\"Budapest, X. ker\\u00fclet\",\"\\u00d6rs vez\\u00e9r tere (Feh\\u00e9r \\u00fat) M\",\"metr\\u00f3\",\"BKK \\u00dcgyf\\u00e9lk\\u00f6zpont\",null],[\"BKK p\\u00e9nzt\\u00e1r\",\"Budapest, XI. ker\\u00fclet\",\"M\\u00f3ricz Zsigmond k\\u00f6rt\\u00e9r\",\"metr\\u00f3\",\"BKK \\u00dcgyf\\u00e9lk\\u00f6zpont\",null],[\"\\u00dcgyf\\u00e9lk\\u00f6zpont\",\"Budapest, XI. ker\\u00fclet\",\"Kelenf\\u00f6ld M\",\"metr\\u00f3\",\"BKK \\u00dcgyf\\u00e9lk\\u00f6zpont\",null],[\"BKK p\\u00e9nzt\\u00e1r\",\"Budapest, XIII. ker\\u00fclet\",\"Lehel t\\u00e9r M\",\"egy\\u00e9b\",\"BKK \\u00dcgyf\\u00e9lk\\u00f6zpont\",null],[\"BKK p\\u00e9nzt\\u00e1r\",\"Budapest, XIV. ker\\u00fclet\",\"Pusk\\u00e1s Ferenc Stadion M\",\"metr\\u00f3\",\"BKK \\u00dcgyf\\u00e9lk\\u00f6zpont\",null],[\"Viszontelad\\u00f3\",\"Budapest, XIV. ker\\u00fclet\",\"Sz\\u00e9chenyi f\\u00fcrd\\u0151 M\",\"M\\u00c1V\",\"BKK \\u00dcgyf\\u00e9lk\\u00f6zpont\",null],[\"\\u00dcgyf\\u00e9lk\\u00f6zpont\",\"Budapest, XIX. ker\\u00fclet\",\"K\\u0151b\\u00e1nya-Kispest M\",\"metr\\u00f3\",\"BKK \\u00dcgyf\\u00e9lk\\u00f6zpont\",null],[\"Viszontelad\\u00f3\",\"Budapest, XV. ker\\u00fclet\",\"M\\u00c1V telep\",\"egy\\u00e9b\",\"BKK \\u00dcgyf\\u00e9lk\\u00f6zpont\",null],[\"\\u00dcgyf\\u00e9lk\\u00f6zpont\",\"Budapest, XVIII. ker\\u00fclet\",\"Liszt Ferenc Nemzetk\\u00f6zi Rep\\u00fcl\\u0151t\\u00e9r\",\"rep\\u00fcl\\u0151t\\u00e9r\",\"BKK \\u00dcgyf\\u00e9lk\\u00f6zpont\",null],[\"\\u00dcgyf\\u00e9lk\\u00f6zpont\",\"Budapest, XVIII. ker\\u00fclet\",\"Liszt Ferenc Nemzetk\\u00f6zi Rep\\u00fcl\\u0151t\\u00e9r\",\"rep\\u00fcl\\u0151t\\u00e9r\",\"BKK \\u00dcgyf\\u00e9lk\\u00f6zpont\",null],[\"\\u00dcgyf\\u00e9lk\\u00f6zpont\",\"Budapest, XXI. ker\\u00fclet\",\"Szent Imre t\\u00e9r\",\"H\\u00c9V\",\"BKK \\u00dcgyf\\u00e9lk\\u00f6zpont\",null]],\"hovertemplate\":\"<b>%{hovertext}</b><br><br>organization=%{customdata[4]}<br>lat=%{lat}<br>lng=%{lon}<br>type=%{customdata[0]}<br>place=%{customdata[1]}<br>address=%{customdata[2]}<br>description=%{customdata[3]}<br>placed_at=%{customdata[5]}<extra></extra>\",\"hovertext\":[\"\\u00dcgyf\\u00e9lk\\u00f6zpont\",\"\\u00dcgyf\\u00e9lk\\u00f6zpont\",\"\\u00dcgyf\\u00e9lk\\u00f6zpont\",\"\\u00dcgyf\\u00e9lk\\u00f6zpont\",\"BKK p\\u00e9nzt\\u00e1r\",\"\\u00dcgyf\\u00e9lk\\u00f6zpont\",\"BKK p\\u00e9nzt\\u00e1r\",\"Viszontelad\\u00f3\",\"BKK p\\u00e9nzt\\u00e1r\",\"\\u00dcgyf\\u00e9lk\\u00f6zpont\",\"Viszontelad\\u00f3\",\"Viszontelad\\u00f3\",\"Viszontelad\\u00f3\",\"\\u00dcgyf\\u00e9lk\\u00f6zpont\",\"Viszontelad\\u00f3\",\"BKK p\\u00e9nzt\\u00e1r\",\"BKK p\\u00e9nzt\\u00e1r\",\"BKK p\\u00e9nzt\\u00e1r\",\"\\u00dcgyf\\u00e9lk\\u00f6zpont\",\"BKK p\\u00e9nzt\\u00e1r\",\"BKK p\\u00e9nzt\\u00e1r\",\"Viszontelad\\u00f3\",\"\\u00dcgyf\\u00e9lk\\u00f6zpont\",\"Viszontelad\\u00f3\",\"\\u00dcgyf\\u00e9lk\\u00f6zpont\",\"\\u00dcgyf\\u00e9lk\\u00f6zpont\",\"\\u00dcgyf\\u00e9lk\\u00f6zpont\"],\"lat\":[47.507303,47.497697,47.500279,47.499886,47.506207,47.539525,47.560567,47.467508,47.479015,47.475273,47.499898,47.505107,47.514311,47.498485,47.497718,47.496981,47.502888,47.477306,47.464443,47.517285,47.500301,47.517493,47.463398,47.541572,47.431989,47.433251,47.430965],\"legendgroup\":\"BKK \\u00dcgyf\\u00e9lk\\u00f6zpont\",\"lon\":[19.023418,19.055024,19.083889,19.025133,19.038993,19.047117,19.090213,19.075912,19.089539,19.098733,19.05533,19.063162,19.076899,19.057269,19.054044,19.070358,19.135796,19.047173,19.018219,19.060151,19.106919,19.080979,19.1493,19.12158,19.26054,19.262133,19.06786],\"marker\":{\"color\":\"#19d3f3\"},\"mode\":\"markers\",\"name\":\"BKK \\u00dcgyf\\u00e9lk\\u00f6zpont\",\"showlegend\":true,\"subplot\":\"mapbox\",\"type\":\"scattermapbox\"},{\"customdata\":[[\"Viszontelad\\u00f3\",\"Budapest, IX. ker\\u00fclet\",\"\\u00dcll\\u0151i \\u00fat 131.\",\"buszmeg\\u00e1ll\\u00f3\",\"Vol\\u00e1nbusz Zrt. B\\u00e9rletp\\u00e9nzt\\u00e1r\",null],[\"Viszontelad\\u00f3\",\"Budapest, XI. ker\\u00fclet\",\"Kelenf\\u00f6ld vas\\u00fat\\u00e1llom\\u00e1s (Somogyi \\u00fat 35)\",\"buszmeg\\u00e1ll\\u00f3\",\"Vol\\u00e1nbusz Zrt. B\\u00e9rletp\\u00e9nzt\\u00e1r\",null],[\"Viszontelad\\u00f3\",\"Budapest, XIII. ker\\u00fclet\",\"\\u00dajpest-V\\u00e1roskapu\",\"buszmeg\\u00e1ll\\u00f3\",\"Vol\\u00e1nbusz Zrt. B\\u00e9rletp\\u00e9nzt\\u00e1r\",null],[\"Viszontelad\\u00f3\",\"Budapest, XIII. ker\\u00fclet\",\"\\u00c1rp\\u00e1d h\\u00edd (\\u00c1rb\\u00f3c u. 1)\",\"buszmeg\\u00e1ll\\u00f3\",\"Vol\\u00e1nbusz Zrt. B\\u00e9rletp\\u00e9nzt\\u00e1r\",null],[\"Viszontelad\\u00f3\",\"Budapest, XIV. ker\\u00fclet\",\"Pusk\\u00e1s F. Stadion, Hung\\u00e1ria k\\u00f6r\\u00fat 48-52.\",\"buszmeg\\u00e1ll\\u00f3\",\"Vol\\u00e1nbusz Zrt. B\\u00e9rletp\\u00e9nzt\\u00e1r\",null],[\"Viszontelad\\u00f3\",\"Budapest, XXI. ker\\u00fclet\",\"Vermes Mik\\u00f3s utca\",\"buszmeg\\u00e1ll\\u00f3\",\"Vol\\u00e1nbusz Zrt. B\\u00e9rletp\\u00e9nzt\\u00e1r\",null],[\"Viszontelad\\u00f3\",\"Budapest, XXI. ker\\u00fclet\",\"Szent Imre t\\u00e9r\",\"buszmeg\\u00e1ll\\u00f3\",\"Vol\\u00e1nbusz Zrt. B\\u00e9rletp\\u00e9nzt\\u00e1r\",null],[\"Viszontelad\\u00f3\",\"\\u00c9rd\",\"Budai \\u00fat 13.\",\"buszmeg\\u00e1ll\\u00f3\",\"Vol\\u00e1nbusz Zrt. B\\u00e9rletp\\u00e9nzt\\u00e1r\",null],[\"Viszontelad\\u00f3\",\"F\\u00f3t\",\"M\\u00f3ricz Zsigmond utca\",\"buszmeg\\u00e1ll\\u00f3\",\"Vol\\u00e1nbusz Zrt. B\\u00e9rletp\\u00e9nzt\\u00e1r\",null],[\"Viszontelad\\u00f3\",\"G\\u00f6d\\u00f6ll\\u0151\",\"Szabads\\u00e1g u. 8.\",\"buszmeg\\u00e1ll\\u00f3\",\"Vol\\u00e1nbusz Zrt. B\\u00e9rletp\\u00e9nzt\\u00e1r\",null],[\"Viszontelad\\u00f3\",\"Szentendre\",\"D\\u00f3zsa Gy\\u00f6rgy utca 1.\",\"buszmeg\\u00e1ll\\u00f3\",\"Vol\\u00e1nbusz Zrt. B\\u00e9rletp\\u00e9nzt\\u00e1r\",null],[\"Viszontelad\\u00f3\",\"Szigethalom\",\"M\\u0171 \\u00fat 3.\",\"buszmeg\\u00e1ll\\u00f3\",\"Vol\\u00e1nbusz Zrt. B\\u00e9rletp\\u00e9nzt\\u00e1r\",null]],\"hovertemplate\":\"<b>%{hovertext}</b><br><br>organization=%{customdata[4]}<br>lat=%{lat}<br>lng=%{lon}<br>type=%{customdata[0]}<br>place=%{customdata[1]}<br>address=%{customdata[2]}<br>description=%{customdata[3]}<br>placed_at=%{customdata[5]}<extra></extra>\",\"hovertext\":[\"Viszontelad\\u00f3\",\"Viszontelad\\u00f3\",\"Viszontelad\\u00f3\",\"Viszontelad\\u00f3\",\"Viszontelad\\u00f3\",\"Viszontelad\\u00f3\",\"Viszontelad\\u00f3\",\"Viszontelad\\u00f3\",\"Viszontelad\\u00f3\",\"Viszontelad\\u00f3\",\"Viszontelad\\u00f3\",\"Viszontelad\\u00f3\"],\"lat\":[47.474738,47.46388,47.558926,47.53182,47.500827,47.432209,47.430479,47.3782,47.617233,47.599153,47.65946,47.327897],\"legendgroup\":\"Vol\\u00e1nbusz Zrt. B\\u00e9rletp\\u00e9nzt\\u00e1r\",\"lon\":[19.098722,19.022682,19.079228,19.064713,19.107406,19.066685,19.070916,18.921188,19.195244,19.352625,19.075579,19.008262],\"marker\":{\"color\":\"#FF6692\"},\"mode\":\"markers\",\"name\":\"Vol\\u00e1nbusz Zrt. B\\u00e9rletp\\u00e9nzt\\u00e1r\",\"showlegend\":true,\"subplot\":\"mapbox\",\"type\":\"scattermapbox\"}],                        {\"height\":650,\"legend\":{\"title\":{\"text\":\"organization\"},\"tracegroupgap\":0},\"mapbox\":{\"center\":{\"lat\":47.49341206339712,\"lon\":19.085860479665065},\"domain\":{\"x\":[0.0,1.0],\"y\":[0.0,1.0]},\"style\":\"carto-positron\",\"zoom\":10},\"template\":{\"data\":{\"bar\":[{\"error_x\":{\"color\":\"#2a3f5f\"},\"error_y\":{\"color\":\"#2a3f5f\"},\"marker\":{\"line\":{\"color\":\"#E5ECF6\",\"width\":0.5},\"pattern\":{\"fillmode\":\"overlay\",\"size\":10,\"solidity\":0.2}},\"type\":\"bar\"}],\"barpolar\":[{\"marker\":{\"line\":{\"color\":\"#E5ECF6\",\"width\":0.5},\"pattern\":{\"fillmode\":\"overlay\",\"size\":10,\"solidity\":0.2}},\"type\":\"barpolar\"}],\"carpet\":[{\"aaxis\":{\"endlinecolor\":\"#2a3f5f\",\"gridcolor\":\"white\",\"linecolor\":\"white\",\"minorgridcolor\":\"white\",\"startlinecolor\":\"#2a3f5f\"},\"baxis\":{\"endlinecolor\":\"#2a3f5f\",\"gridcolor\":\"white\",\"linecolor\":\"white\",\"minorgridcolor\":\"white\",\"startlinecolor\":\"#2a3f5f\"},\"type\":\"carpet\"}],\"choropleth\":[{\"colorbar\":{\"outlinewidth\":0,\"ticks\":\"\"},\"type\":\"choropleth\"}],\"contour\":[{\"colorbar\":{\"outlinewidth\":0,\"ticks\":\"\"},\"colorscale\":[[0.0,\"#0d0887\"],[0.1111111111111111,\"#46039f\"],[0.2222222222222222,\"#7201a8\"],[0.3333333333333333,\"#9c179e\"],[0.4444444444444444,\"#bd3786\"],[0.5555555555555556,\"#d8576b\"],[0.6666666666666666,\"#ed7953\"],[0.7777777777777778,\"#fb9f3a\"],[0.8888888888888888,\"#fdca26\"],[1.0,\"#f0f921\"]],\"type\":\"contour\"}],\"contourcarpet\":[{\"colorbar\":{\"outlinewidth\":0,\"ticks\":\"\"},\"type\":\"contourcarpet\"}],\"heatmap\":[{\"colorbar\":{\"outlinewidth\":0,\"ticks\":\"\"},\"colorscale\":[[0.0,\"#0d0887\"],[0.1111111111111111,\"#46039f\"],[0.2222222222222222,\"#7201a8\"],[0.3333333333333333,\"#9c179e\"],[0.4444444444444444,\"#bd3786\"],[0.5555555555555556,\"#d8576b\"],[0.6666666666666666,\"#ed7953\"],[0.7777777777777778,\"#fb9f3a\"],[0.8888888888888888,\"#fdca26\"],[1.0,\"#f0f921\"]],\"type\":\"heatmap\"}],\"heatmapgl\":[{\"colorbar\":{\"outlinewidth\":0,\"ticks\":\"\"},\"colorscale\":[[0.0,\"#0d0887\"],[0.1111111111111111,\"#46039f\"],[0.2222222222222222,\"#7201a8\"],[0.3333333333333333,\"#9c179e\"],[0.4444444444444444,\"#bd3786\"],[0.5555555555555556,\"#d8576b\"],[0.6666666666666666,\"#ed7953\"],[0.7777777777777778,\"#fb9f3a\"],[0.8888888888888888,\"#fdca26\"],[1.0,\"#f0f921\"]],\"type\":\"heatmapgl\"}],\"histogram\":[{\"marker\":{\"pattern\":{\"fillmode\":\"overlay\",\"size\":10,\"solidity\":0.2}},\"type\":\"histogram\"}],\"histogram2d\":[{\"colorbar\":{\"outlinewidth\":0,\"ticks\":\"\"},\"colorscale\":[[0.0,\"#0d0887\"],[0.1111111111111111,\"#46039f\"],[0.2222222222222222,\"#7201a8\"],[0.3333333333333333,\"#9c179e\"],[0.4444444444444444,\"#bd3786\"],[0.5555555555555556,\"#d8576b\"],[0.6666666666666666,\"#ed7953\"],[0.7777777777777778,\"#fb9f3a\"],[0.8888888888888888,\"#fdca26\"],[1.0,\"#f0f921\"]],\"type\":\"histogram2d\"}],\"histogram2dcontour\":[{\"colorbar\":{\"outlinewidth\":0,\"ticks\":\"\"},\"colorscale\":[[0.0,\"#0d0887\"],[0.1111111111111111,\"#46039f\"],[0.2222222222222222,\"#7201a8\"],[0.3333333333333333,\"#9c179e\"],[0.4444444444444444,\"#bd3786\"],[0.5555555555555556,\"#d8576b\"],[0.6666666666666666,\"#ed7953\"],[0.7777777777777778,\"#fb9f3a\"],[0.8888888888888888,\"#fdca26\"],[1.0,\"#f0f921\"]],\"type\":\"histogram2dcontour\"}],\"mesh3d\":[{\"colorbar\":{\"outlinewidth\":0,\"ticks\":\"\"},\"type\":\"mesh3d\"}],\"parcoords\":[{\"line\":{\"colorbar\":{\"outlinewidth\":0,\"ticks\":\"\"}},\"type\":\"parcoords\"}],\"pie\":[{\"automargin\":true,\"type\":\"pie\"}],\"scatter\":[{\"marker\":{\"colorbar\":{\"outlinewidth\":0,\"ticks\":\"\"}},\"type\":\"scatter\"}],\"scatter3d\":[{\"line\":{\"colorbar\":{\"outlinewidth\":0,\"ticks\":\"\"}},\"marker\":{\"colorbar\":{\"outlinewidth\":0,\"ticks\":\"\"}},\"type\":\"scatter3d\"}],\"scattercarpet\":[{\"marker\":{\"colorbar\":{\"outlinewidth\":0,\"ticks\":\"\"}},\"type\":\"scattercarpet\"}],\"scattergeo\":[{\"marker\":{\"colorbar\":{\"outlinewidth\":0,\"ticks\":\"\"}},\"type\":\"scattergeo\"}],\"scattergl\":[{\"marker\":{\"colorbar\":{\"outlinewidth\":0,\"ticks\":\"\"}},\"type\":\"scattergl\"}],\"scattermapbox\":[{\"marker\":{\"colorbar\":{\"outlinewidth\":0,\"ticks\":\"\"}},\"type\":\"scattermapbox\"}],\"scatterpolar\":[{\"marker\":{\"colorbar\":{\"outlinewidth\":0,\"ticks\":\"\"}},\"type\":\"scatterpolar\"}],\"scatterpolargl\":[{\"marker\":{\"colorbar\":{\"outlinewidth\":0,\"ticks\":\"\"}},\"type\":\"scatterpolargl\"}],\"scatterternary\":[{\"marker\":{\"colorbar\":{\"outlinewidth\":0,\"ticks\":\"\"}},\"type\":\"scatterternary\"}],\"surface\":[{\"colorbar\":{\"outlinewidth\":0,\"ticks\":\"\"},\"colorscale\":[[0.0,\"#0d0887\"],[0.1111111111111111,\"#46039f\"],[0.2222222222222222,\"#7201a8\"],[0.3333333333333333,\"#9c179e\"],[0.4444444444444444,\"#bd3786\"],[0.5555555555555556,\"#d8576b\"],[0.6666666666666666,\"#ed7953\"],[0.7777777777777778,\"#fb9f3a\"],[0.8888888888888888,\"#fdca26\"],[1.0,\"#f0f921\"]],\"type\":\"surface\"}],\"table\":[{\"cells\":{\"fill\":{\"color\":\"#EBF0F8\"},\"line\":{\"color\":\"white\"}},\"header\":{\"fill\":{\"color\":\"#C8D4E3\"},\"line\":{\"color\":\"white\"}},\"type\":\"table\"}]},\"layout\":{\"annotationdefaults\":{\"arrowcolor\":\"#2a3f5f\",\"arrowhead\":0,\"arrowwidth\":1},\"autotypenumbers\":\"strict\",\"coloraxis\":{\"colorbar\":{\"outlinewidth\":0,\"ticks\":\"\"}},\"colorscale\":{\"diverging\":[[0,\"#8e0152\"],[0.1,\"#c51b7d\"],[0.2,\"#de77ae\"],[0.3,\"#f1b6da\"],[0.4,\"#fde0ef\"],[0.5,\"#f7f7f7\"],[0.6,\"#e6f5d0\"],[0.7,\"#b8e186\"],[0.8,\"#7fbc41\"],[0.9,\"#4d9221\"],[1,\"#276419\"]],\"sequential\":[[0.0,\"#0d0887\"],[0.1111111111111111,\"#46039f\"],[0.2222222222222222,\"#7201a8\"],[0.3333333333333333,\"#9c179e\"],[0.4444444444444444,\"#bd3786\"],[0.5555555555555556,\"#d8576b\"],[0.6666666666666666,\"#ed7953\"],[0.7777777777777778,\"#fb9f3a\"],[0.8888888888888888,\"#fdca26\"],[1.0,\"#f0f921\"]],\"sequentialminus\":[[0.0,\"#0d0887\"],[0.1111111111111111,\"#46039f\"],[0.2222222222222222,\"#7201a8\"],[0.3333333333333333,\"#9c179e\"],[0.4444444444444444,\"#bd3786\"],[0.5555555555555556,\"#d8576b\"],[0.6666666666666666,\"#ed7953\"],[0.7777777777777778,\"#fb9f3a\"],[0.8888888888888888,\"#fdca26\"],[1.0,\"#f0f921\"]]},\"colorway\":[\"#636efa\",\"#EF553B\",\"#00cc96\",\"#ab63fa\",\"#FFA15A\",\"#19d3f3\",\"#FF6692\",\"#B6E880\",\"#FF97FF\",\"#FECB52\"],\"font\":{\"color\":\"#2a3f5f\"},\"geo\":{\"bgcolor\":\"white\",\"lakecolor\":\"white\",\"landcolor\":\"#E5ECF6\",\"showlakes\":true,\"showland\":true,\"subunitcolor\":\"white\"},\"hoverlabel\":{\"align\":\"left\"},\"hovermode\":\"closest\",\"mapbox\":{\"style\":\"light\"},\"paper_bgcolor\":\"white\",\"plot_bgcolor\":\"#E5ECF6\",\"polar\":{\"angularaxis\":{\"gridcolor\":\"white\",\"linecolor\":\"white\",\"ticks\":\"\"},\"bgcolor\":\"#E5ECF6\",\"radialaxis\":{\"gridcolor\":\"white\",\"linecolor\":\"white\",\"ticks\":\"\"}},\"scene\":{\"xaxis\":{\"backgroundcolor\":\"#E5ECF6\",\"gridcolor\":\"white\",\"gridwidth\":2,\"linecolor\":\"white\",\"showbackground\":true,\"ticks\":\"\",\"zerolinecolor\":\"white\"},\"yaxis\":{\"backgroundcolor\":\"#E5ECF6\",\"gridcolor\":\"white\",\"gridwidth\":2,\"linecolor\":\"white\",\"showbackground\":true,\"ticks\":\"\",\"zerolinecolor\":\"white\"},\"zaxis\":{\"backgroundcolor\":\"#E5ECF6\",\"gridcolor\":\"white\",\"gridwidth\":2,\"linecolor\":\"white\",\"showbackground\":true,\"ticks\":\"\",\"zerolinecolor\":\"white\"}},\"shapedefaults\":{\"line\":{\"color\":\"#2a3f5f\"}},\"ternary\":{\"aaxis\":{\"gridcolor\":\"white\",\"linecolor\":\"white\",\"ticks\":\"\"},\"baxis\":{\"gridcolor\":\"white\",\"linecolor\":\"white\",\"ticks\":\"\"},\"bgcolor\":\"#E5ECF6\",\"caxis\":{\"gridcolor\":\"white\",\"linecolor\":\"white\",\"ticks\":\"\"}},\"title\":{\"x\":0.05},\"xaxis\":{\"automargin\":true,\"gridcolor\":\"white\",\"linecolor\":\"white\",\"ticks\":\"\",\"title\":{\"standoff\":15},\"zerolinecolor\":\"white\",\"zerolinewidth\":2},\"yaxis\":{\"automargin\":true,\"gridcolor\":\"white\",\"linecolor\":\"white\",\"ticks\":\"\",\"title\":{\"standoff\":15},\"zerolinecolor\":\"white\",\"zerolinewidth\":2}}},\"title\":{\"text\":\"BKK jegy\\u00e9rt\\u00e9kes\\u00edt\\u0151k elhelyezked\\u00e9se\"},\"width\":950},                        {\"responsive\": true}                    ).then(function(){\n",
       "                            \n",
       "var gd = document.getElementById('71bfca77-c345-4bc6-b71e-713c77afdccc');\n",
       "var x = new MutationObserver(function (mutations, observer) {{\n",
       "        var display = window.getComputedStyle(gd).display;\n",
       "        if (!display || display === 'none') {{\n",
       "            console.log([gd, 'removed!']);\n",
       "            Plotly.purge(gd);\n",
       "            observer.disconnect();\n",
       "        }}\n",
       "}});\n",
       "\n",
       "// Listen for the removal of the full notebook cells\n",
       "var notebookContainer = gd.closest('#notebook-container');\n",
       "if (notebookContainer) {{\n",
       "    x.observe(notebookContainer, {childList: true});\n",
       "}}\n",
       "\n",
       "// Listen for the clearing of the current output cell\n",
       "var outputEl = gd.closest('.output');\n",
       "if (outputEl) {{\n",
       "    x.observe(outputEl, {childList: true});\n",
       "}}\n",
       "\n",
       "                        })                };                });            </script>        </div>"
      ]
     },
     "metadata": {},
     "output_type": "display_data"
    }
   ],
   "source": [
    "plot_jegyertekesitok()"
   ]
  },
  {
   "cell_type": "code",
   "execution_count": null,
   "id": "1d116e2a",
   "metadata": {},
   "outputs": [],
   "source": []
  }
 ],
 "metadata": {
  "kernelspec": {
   "display_name": "Python 3",
   "language": "python",
   "name": "python3"
  },
  "language_info": {
   "codemirror_mode": {
    "name": "ipython",
    "version": 3
   },
   "file_extension": ".py",
   "mimetype": "text/x-python",
   "name": "python",
   "nbconvert_exporter": "python",
   "pygments_lexer": "ipython3",
   "version": "3.8.8"
  }
 },
 "nbformat": 4,
 "nbformat_minor": 5
}
