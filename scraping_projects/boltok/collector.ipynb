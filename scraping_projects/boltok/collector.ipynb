{
 "cells": [
  {
   "cell_type": "code",
   "execution_count": 2,
   "metadata": {},
   "outputs": [
    {
     "name": "stdout",
     "output_type": "stream",
     "text": [
      "Importing the following packages: pandas, numpy, matplotlib, seaborn, plotly, warnings\n"
     ]
    }
   ],
   "source": [
    "import sys \n",
    "sys.path.append('../../')\n",
    "from src.import_packages import *\n",
    "from src.visualize_EDA import vEDA\n",
    "\n",
    "from bs4 import BeautifulSoup\n",
    "import requests\n",
    "\n",
    "from geopy.geocoders import Nominatim, ArcGIS\n",
    "geolocator = Nominatim(user_agent = 'user_agent', timeout = 10)\n",
    "\n",
    "def geocode_location(location):\n",
    "\n",
    "    try:\n",
    "        geocoded = geolocator.geocode(location)\n",
    "        return (geocoded.latitude, geocoded.longitude)\n",
    "    \n",
    "    except:\n",
    "        geocoded = ArcGIS().geocode(location)\n",
    "        return (geocoded.latitude, geocoded.longitude)    \n",
    "\n",
    "\n",
    "def plot_map(data, _name = 'Lidl'):\n",
    "\n",
    "    data['size'] = 10\n",
    "\n",
    "    fig = px.scatter_mapbox(data, lat = 'latitude', lon = 'longitude', hover_data=['store'],\n",
    "                                title = _name + ' boltok elhelyezkedése', \n",
    "                                center = {\"lat\": data['latitude'].mean(), \"lon\": data['longitude'].mean()},\n",
    "                                zoom = 6, size_max = 7, size = 'size',\n",
    "                                mapbox_style = 'carto-positron', height = 650, width = 950)\n",
    "    fig.show()\n",
    "\n",
    "    data.drop('size', 1, inplace = True)"
   ]
  },
  {
   "cell_type": "markdown",
   "metadata": {},
   "source": [
    "## Lidl"
   ]
  },
  {
   "cell_type": "code",
   "execution_count": 6,
   "metadata": {},
   "outputs": [],
   "source": [
    "url = 'https://www.lidl.hu/extrak/uezleteink'\n",
    "page = requests.get(url)\n",
    "soup = BeautifulSoup(page.text)"
   ]
  },
  {
   "cell_type": "code",
   "execution_count": 19,
   "metadata": {},
   "outputs": [],
   "source": [
    "lidl_stores = []\n",
    "\n",
    "for i in soup.find_all('div', class_ = 'ezrichtext-field'):\n",
    "    for j in i.find_all('li'):\n",
    "        lidl_stores.append(j.text)"
   ]
  },
  {
   "cell_type": "code",
   "execution_count": 21,
   "metadata": {},
   "outputs": [
    {
     "name": "stdout",
     "output_type": "stream",
     "text": [
      "There are 186 Lidl stores in HU\n"
     ]
    }
   ],
   "source": [
    "print('There are', len(lidl_stores), 'Lidl stores in HU')"
   ]
  },
  {
   "cell_type": "markdown",
   "metadata": {},
   "source": [
    "Geocode locations"
   ]
  },
  {
   "cell_type": "code",
   "execution_count": 22,
   "metadata": {},
   "outputs": [
    {
     "data": {
      "text/plain": [
       "['Agárd, Akácfa utca 2.',\n",
       " 'Ajka, Hársfa utca 1/A',\n",
       " 'Baja, Bajcsy-Zsilinszky utca 9.']"
      ]
     },
     "execution_count": 22,
     "metadata": {},
     "output_type": "execute_result"
    }
   ],
   "source": [
    "lidl_stores[:3]"
   ]
  },
  {
   "cell_type": "code",
   "execution_count": 55,
   "metadata": {},
   "outputs": [],
   "source": [
    "lidl_coords = {}\n",
    "not_found = []\n",
    "\n",
    "for lidl_store in lidl_stores:\n",
    "\n",
    "    try:\n",
    "        lidl_coords[lidl_store] = geocode_location(lidl_store)\n",
    "\n",
    "    except AttributeError:\n",
    "        not_found.append(lidl_store)\n",
    "        lidl_coords[lidl_store] = np.nan"
   ]
  },
  {
   "cell_type": "code",
   "execution_count": 57,
   "metadata": {},
   "outputs": [
    {
     "data": {
      "text/plain": [
       "['Sárbogárd, Ady E. utca 232-236.']"
      ]
     },
     "execution_count": 57,
     "metadata": {},
     "output_type": "execute_result"
    }
   ],
   "source": [
    "not_found"
   ]
  },
  {
   "cell_type": "code",
   "execution_count": 81,
   "metadata": {},
   "outputs": [],
   "source": [
    "lidl_coords['Sárbogárd, Ady E. utca 232-236.'] = (46.87754672721678, 18.625487244828157)\n",
    "lidl_coords['Barcs, Erkel F. utca 2.'] = (45.96236347916862, 17.467622603785895)"
   ]
  },
  {
   "cell_type": "markdown",
   "metadata": {},
   "source": [
    "Check on map and correct if there are mistakes"
   ]
  },
  {
   "cell_type": "code",
   "execution_count": 82,
   "metadata": {},
   "outputs": [],
   "source": [
    "lidl_coords_df = pd.DataFrame(lidl_coords).T.rename_axis('store').reset_index()\n",
    "lidl_coords_df.columns = ['store', 'latitude', 'longitude']"
   ]
  },
  {
   "cell_type": "code",
   "execution_count": 88,
   "metadata": {},
   "outputs": [
    {
     "data": {
      "application/vnd.plotly.v1+json": {
       "config": {
        "plotlyServerURL": "https://plot.ly"
       },
       "data": [
        {
         "customdata": [
          [
           "Agárd, Akácfa utca 2."
          ],
          [
           "Ajka, Hársfa utca 1/A"
          ],
          [
           "Baja, Bajcsy-Zsilinszky utca 9."
          ],
          [
           "Balatonlelle, Rákóczi F. út 307."
          ],
          [
           "Barcs, Erkel F. utca 2."
          ],
          [
           "Bicske, Szent László utca 55."
          ],
          [
           "Bonyhád, Deák Ferenc utca 10/A"
          ],
          [
           "Csorna, Soproni út 66/C."
          ],
          [
           "Csurgó, Széchenyi tér 12-14."
          ],
          [
           "Dombóvár, Kórház utca 55."
          ],
          [
           "Dunaújváros, Velinszky utca 1."
          ],
          [
           "Enying, Rákóczi Ferenc utca 5."
          ],
          [
           "Fonyód,  Ady Endre utca 57-59."
          ],
          [
           "Győr, Jereváni utca 42."
          ],
          [
           "Győr, Kossuth Lajos utca 123."
          ],
          [
           "Győr, Mécs László utca"
          ],
          [
           "Győr, Szeszgyár utca 6."
          ],
          [
           "Győr, Tihanyi Árpád út 9."
          ],
          [
           "Kalocsa, Pataji út 31."
          ],
          [
           "Kaposvár,  Füredi út 97."
          ],
          [
           "Kaposvár, Bereczk S. utca 2."
          ],
          [
           "Kaposvár, Előd Vezér utca 3."
          ],
          [
           "Keszthely, Sopron utca 43."
          ],
          [
           "Keszthely, Tapolcai út 45/a"
          ],
          [
           "Kiskőrös, Kossuth utca 13."
          ],
          [
           "Kiskunhalas, Széchenyi út 1-3."
          ],
          [
           "Komárom, Mártírok útja 80."
          ],
          [
           "Komló, Tröszt utca 1."
          ],
          [
           "Körmend, Dr. Remetei Filep utca 1."
          ],
          [
           "Marcali, Rákóczi Ferenc utca 50."
          ],
          [
           "Mohács, Pécsi út 41."
          ],
          [
           "Mór, Akai utca 8."
          ],
          [
           "Mosonmagyaróvár, Királyhidai utca 49."
          ],
          [
           "Nagyatád, Árpád utca 49."
          ],
          [
           "Nagykanizsa, Balatoni utca 41."
          ],
          [
           "Oroszlány, Környei u. 2."
          ],
          [
           "Paks, Tolnai út 70."
          ],
          [
           "Pápa, Jókai Mór utca 57."
          ],
          [
           "Pécs, Lahti utca 45."
          ],
          [
           "Pécs, Lázár Vilmos utca 10."
          ],
          [
           "Pécs, Puskin tér 22."
          ],
          [
           "Pécs, Siklósi út 52/A"
          ],
          [
           "Sárbogárd, Ady E. utca 232-236."
          ],
          [
           "Sárvár, Rákóczi utca 12."
          ],
          [
           "Siklós, Szent István tér 2."
          ],
          [
           "Siófok, Zamárdi utca 1-2."
          ],
          [
           "Solt, Kossuth Lajos utca 2-8."
          ],
          [
           "Sopron, Bánfalvi út 12."
          ],
          [
           "Sopron, Lófuttató utca 4."
          ],
          [
           "Sümeg, Fehérkő utca 1/1."
          ],
          [
           "Székesfehérvár, Balatoni út 21."
          ],
          [
           "Székesfehérvár, Farkasvermi köz 1."
          ],
          [
           "Székesfehérvár, Mártírok útja 11."
          ],
          [
           "Szekszárd, Béri Balogh Ádám utca 94/B"
          ],
          [
           "Szigetvár, Almás patak utca 5."
          ],
          [
           "Szombathely, Kenyérvíz utca 2."
          ],
          [
           "Szombathely, Verseny utca 30."
          ],
          [
           "Szombathely, Zanati út 42"
          ],
          [
           "Tamási, Deák Ferenc utca 10/A"
          ],
          [
           "Tapolca, Veszprémi út 1."
          ],
          [
           "Tata, Piac tér 8."
          ],
          [
           "Tatabánya, Győri út 31."
          ],
          [
           "Tatabánya, Szent Borbála utca 31."
          ],
          [
           "Várpalota, Hétvezér utca 3."
          ],
          [
           "Veszprém, Cholonky utca 29/1."
          ],
          [
           "Veszprém, Észak-keleti útgyűrű 2."
          ],
          [
           "Zalaegerszeg, Átkötő utca 3."
          ],
          [
           "Zalaegerszeg, Platán sor 6/A"
          ],
          [
           "Balassagyarmat, Kóvári út 8."
          ],
          [
           "Budaörs, Károly király út 145."
          ],
          [
           "Budapest, II. Máriaremetei út 1."
          ],
          [
           "Budapest, III. Bécsi út 325-337."
          ],
          [
           "Budapest, III. Huszti út 20."
          ],
          [
           "Budapest, III. Szentendrei út 251-253."
          ],
          [
           "Budapest, IV. Görgey Artúr utca 14-20."
          ],
          [
           "Budapest, IV. Megyeri út 53."
          ],
          [
           "Budapest, V. Arany János utca 27-29."
          ],
          [
           "Budapest, V. Ferenciek tere 2."
          ],
          [
           "Budapest, VI. Bajcsy-Zsilinszky út 61."
          ],
          [
           "Budapest, VI. Király utca 112."
          ],
          [
           "Budapest, VII. Rákóczi út 48-50."
          ],
          [
           "Budapest, VIII. Hungária körút 26."
          ],
          [
           "Budapest, VIII. Leonardo da Vinci utca 23."
          ],
          [
           "Budapest, VIII. Teleki tér 1."
          ],
          [
           "Budapest, IX. Gubacsi út 34."
          ],
          [
           "Budapest, IX. Lobogó utca 12."
          ],
          [
           "Budapest, X. Maglódi út 17."
          ],
          [
           "Budapest, X. Sibrik Miklós út 30/b."
          ],
          [
           "Budapest, XI. Bartók Béla út 47."
          ],
          [
           "Budapest, XI. Fehérvári út 211."
          ],
          [
           "Budapest, XIII. Béke utca 2-4."
          ],
          [
           "Budapest, XIII. Váci út 201."
          ],
          [
           "Budapest, XIII. Victor Hugo utca 11-15."
          ],
          [
           "Budapest, XIV. Mogyoródi út 23-29."
          ],
          [
           "Budapest, XV. Erdőkerülő utca 36."
          ],
          [
           "Budapest, XV. Régi Fóti utca 1."
          ],
          [
           "Budapest, XVI. János utca 196."
          ],
          [
           "Budapest, XVI. Újszász utca 47/B"
          ],
          [
           "Budapest, XVII. Pesti út 2."
          ],
          [
           "Budapest, XVII. Pesti út 237/H"
          ],
          [
           "Budapest, XVIII. Cziffra György utca 115."
          ],
          [
           "Budapest, XVIII. Margó Tivadar utca 83."
          ],
          [
           "Budapest, XVIII. Nagykőrösi út 35-38."
          ],
          [
           "Budapest, XVIII. Üllői út 112."
          ],
          [
           "Budapest, XVIII. Üllői út 379-381."
          ],
          [
           "Budapest, XIX. Báthory utca 6."
          ],
          [
           "Budapest, XXI. Ady Endre út 58."
          ],
          [
           "Budapest, XXII. Nagytétényi út 216-218."
          ],
          [
           "Budapest, XXIII. Ciklámen utca 3."
          ],
          [
           "Budapest, XXIII. Haraszti út 34."
          ],
          [
           "Dorog, Bányász körönd Hrsz. 1732/98"
          ],
          [
           "Dunaharaszti, Némedi út 102/A"
          ],
          [
           "Dunakeszi, Berek utca 2."
          ],
          [
           "Érd, Diósdi utca 2-4."
          ],
          [
           "Esztergom, Bánomi út 10."
          ],
          [
           "Esztergom, Dobogókői út 39."
          ],
          [
           "Gödöllő, Ottó Ferenc utca 2-4."
          ],
          [
           "Kistarcsa, Szabadság útja 60."
          ],
          [
           "Monor, Gém utca 1."
          ],
          [
           "Nagykáta, Dózsa György utca 16."
          ],
          [
           "Ráckeve, Lacházi út 26."
          ],
          [
           "Solymár, Terstyánszky Ödön utca 89."
          ],
          [
           "Szada, Dózsa György út 1/B"
          ],
          [
           "Szentendre, Dózsa György út 20."
          ],
          [
           "Szigetszentmiklós, Csepeli út 16/a"
          ],
          [
           "Üröm, Dózsa György út 63."
          ],
          [
           "Vác, Bolgár utca 1."
          ],
          [
           "Vác, Naszály utca 20."
          ],
          [
           "Vecsés, Fő utca 244."
          ],
          [
           "Veresegyház, Budapesti út 1."
          ],
          [
           "Balmazújváros, Böszörményi u. 1."
          ],
          [
           "Bátonyterenye, Berekgát köz 2."
          ],
          [
           "Békés, Kossuth L. u. 31."
          ],
          [
           "Békéscsaba, Corvin u. 29-33."
          ],
          [
           "Berettyóújfalu, Kossuth u. 98."
          ],
          [
           "Cegléd, Törteli út 2."
          ],
          [
           "Csongrád, Fő u. 59."
          ],
          [
           "Debrecen, Balmazújvárosi út 7."
          ],
          [
           "Debrecen, Derék u. 31"
          ],
          [
           "Debrecen, Faraktár utca 58."
          ],
          [
           "Eger, II. Rákóczi Ferenc u. 141."
          ],
          [
           "Eger, Mátyás király út 144."
          ],
          [
           "Gyomaendrőd, Fő út 81/2."
          ],
          [
           "Gyöngyös, Budai Nagy Antal tér 10."
          ],
          [
           "Gyula, Szent István u. 69/1."
          ],
          [
           "Hajdúböszörmény, Bánság tér 10"
          ],
          [
           "Hajdúhadház, Dr. Földi János utca 55."
          ],
          [
           "Hajdúnánás, Dorogi u. 108."
          ],
          [
           "Hatvan, Radnóti tér 19."
          ],
          [
           "Heves, Kolozsvári út 2/A."
          ],
          [
           "Hódmezővásárhely, Hódtó u. 2."
          ],
          [
           "Jászberény, Nagykátai út 7/a."
          ],
          [
           "Kazincbarcika, Mátyás király út 34/A."
          ],
          [
           "Kecskemét, Szolnoki út 18."
          ],
          [
           "Kiskunfélegyháza, Majsai út 5."
          ],
          [
           "Kisújszállás, Deák Ferenc u. 10."
          ],
          [
           "Kisvárda, Attila út 2/A."
          ],
          [
           "Kunszentmárton, Kossuth Lajos utca 23."
          ],
          [
           "Makó, Szegedi u. 63."
          ],
          [
           "Martfű, Földvári út 1."
          ],
          [
           "Mezőkovácsháza, Árpád u. 135."
          ],
          [
           "Mezőkövesd, Dohány út 2/A."
          ],
          [
           "Mezőtúr, Földvári út 21."
          ],
          [
           "Miskolc, Csermőkei út 207."
          ],
          [
           "Miskolc, Kiss Ernő u. 13/b."
          ],
          [
           "Miskolc, Pesti út 5."
          ],
          [
           "Nagykőrös, Kecskeméti út 73."
          ],
          [
           "Nyíregyháza, Debreceni u. 106/c."
          ],
          [
           "Nyíregyháza, Pazonyi út 37/a."
          ],
          [
           "Orosháza, Hóvirág u. 1-5"
          ],
          [
           "Ózd, Sárli út 2"
          ],
          [
           "Püspökladány, Rákóczi utca 16 -20."
          ],
          [
           "Salgótarján, Csokonai út 23."
          ],
          [
           "Sátoraljaújhely, Esze Tamás u. 92."
          ],
          [
           "Szarvas, Csabai út 1/4."
          ],
          [
           "Szeged , Szabadkai út 1/c."
          ],
          [
           "Szeged, Makkosházi krt. 21."
          ],
          [
           "Szeghalom, Széchenyi u. 45 - 49."
          ],
          [
           "Szentes, Ipartelepi út 2 - 6."
          ],
          [
           "Szerencs, Csalogány út 58."
          ],
          [
           "Szolnok, Délibáb u. 6."
          ],
          [
           "Szolnok, Széchenyi krt. 4/b."
          ],
          [
           "Tiszafüred, Húszöles út 25."
          ],
          [
           "Tiszaújváros, Lévay u. 118."
          ],
          [
           "Törökszentmiklós, Kossuth Lajos u. 102 - 108."
          ],
          [
           "Újfehértó, Debreceni út 14-24"
          ]
         ],
         "hovertemplate": "size=%{marker.size}<br>latitude=%{lat}<br>longitude=%{lon}<br>store=%{customdata[0]}<extra></extra>",
         "lat": [
          47.198720949999995,
          47.1146341,
          46.18287170495093,
          46.78349999561138,
          45.96236347916862,
          47.49960895,
          46.2933644,
          47.60997655,
          46.255215699999994,
          46.3881028,
          46.958754,
          46.96098000000006,
          46.7535191,
          47.667249980227666,
          47.86061495,
          47.6622413,
          47.6887585,
          47.68371695,
          46.53916999070867,
          46.37808149999999,
          46.35728000959256,
          46.366377,
          46.7758149,
          46.7724291,
          46.623379996336695,
          46.43496000973272,
          47.5775442,
          46.1905827,
          47.0084181,
          46.5849506,
          45.99619765,
          47.37534999259532,
          47.87610001763147,
          46.2240697,
          46.4584849,
          47.48705000000007,
          46.6156582,
          47.32297025,
          46.0406691,
          46.070944,
          46.08477175,
          46.05598435,
          46.87754672721678,
          47.308050015619045,
          45.85472315,
          46.8994317,
          46.80627999678546,
          47.685849700000006,
          47.6706697,
          46.9845035,
          47.18451,
          47.2042915,
          47.1887443,
          46.3347415,
          46.0454499935943,
          47.22447845,
          47.253016,
          47.2380617,
          46.6291638,
          46.8799659,
          47.65295813030793,
          47.59316975,
          47.55910903913172,
          47.20083998385857,
          47.097152741896814,
          47.1060447,
          46.84534805,
          46.8394395,
          48.07365335,
          47.4529345,
          47.545315450000004,
          47.560440549999996,
          47.55314895,
          47.580543500000005,
          47.56517000848669,
          47.5877017,
          47.5017888,
          47.4925396,
          47.508896,
          47.5071915,
          47.4968157,
          47.4952103,
          47.4860311,
          47.493087700000004,
          47.445341049999996,
          47.462006849999995,
          47.4859148,
          47.469504549999996,
          47.4784068,
          47.44701355,
          47.5319636,
          47.5592929,
          47.5178905,
          47.50635389999999,
          47.5414638,
          47.56605390659582,
          47.5289617,
          47.50521465,
          47.4856503,
          47.47267505,
          47.4338082,
          47.4317702,
          47.40664825,
          47.472821249999996,
          47.445958000000005,
          47.4567862,
          47.435598549999995,
          47.4044429,
          47.4162646,
          47.385033050000004,
          47.73256959931889,
          47.347173749999996,
          47.6259397,
          47.37841999036186,
          47.8029352,
          47.77358375,
          47.6121103,
          47.5475867,
          47.34702625,
          47.4101063,
          47.161808,
          47.5957846,
          47.6197658,
          47.651368700000006,
          47.37852,
          47.5881951,
          47.7624779,
          47.8008829,
          47.41673999811371,
          47.6589283,
          47.620673,
          48.0038504,
          46.77305999993024,
          46.67146,
          47.2294653,
          47.17265585,
          46.71071175,
          47.54335135,
          47.5135711,
          47.5292097,
          47.925689997116905,
          47.8713018,
          46.9327066,
          47.7767139,
          46.6395457,
          47.6616889,
          47.6869539,
          47.8405963,
          47.6696486,
          47.7439654,
          46.4108901,
          47.491346,
          48.2466126,
          46.913343749999996,
          46.7057707,
          47.2188885,
          48.209744549999996,
          46.842090001721914,
          46.2141439,
          47.0163674,
          46.4053356,
          47.80037999982031,
          47.0029186,
          48.076803999999996,
          48.0996528,
          48.05960015,
          47.0329344,
          47.937769995973326,
          47.968863850000005,
          46.554782,
          48.2218911,
          47.3246786,
          48.0717193,
          48.3937304,
          46.85604155,
          46.243096550000004,
          46.272770015649854,
          47.0162296,
          46.65383815,
          48.15436998296266,
          47.18262,
          47.19069000202728,
          47.6235591,
          47.9332157,
          47.1783808,
          47.7972362
         ],
         "legendgroup": "",
         "lon": [
          18.61053874999999,
          17.5507205,
          18.933884106156103,
          17.68088001649869,
          17.467622603785895,
          18.62965571502486,
          18.5453297,
          17.241459064825044,
          17.098979850767527,
          18.1436326,
          18.9460125,
          17.87599000000006,
          17.5746813,
          17.65791997204437,
          17.266378726003445,
          17.6359189,
          17.651538047650916,
          17.642803958552484,
          18.98554000956264,
          17.77970275627297,
          17.782879982973867,
          17.8100461,
          17.24240615076896,
          17.2627196,
          19.28862996366277,
          19.48592998994789,
          18.4087351,
          18.2587988,
          16.592866927005346,
          17.410466001497078,
          18.66822778627379,
          18.18950001997385,
          17.26240998006537,
          17.369509905955304,
          17.0014781,
          18.309330000000045,
          18.8516245,
          17.47346834373695,
          18.213731,
          18.205494710344112,
          18.26341396448067,
          18.229318802977296,
          18.625487244828157,
          16.931899970831296,
          18.293541422147072,
          18.028339304918326,
          19.004749990536254,
          16.569354340196085,
          16.6069515,
          17.2890177,
          18.40956,
          18.3852496,
          18.4420557,
          18.7002682,
          17.79780999654801,
          16.633005282956475,
          16.6187113,
          16.645213249999998,
          18.2823975,
          17.453151371373394,
          18.3171968711458,
          18.388210879009954,
          18.41513408332545,
          18.147559993969082,
          17.926984265932983,
          17.9290628,
          16.864554003992126,
          16.8352246,
          19.281166542719603,
          18.9623149,
          18.963300273332834,
          19.025213836582896,
          19.038148352172303,
          19.048403359644762,
          19.09464003476066,
          19.099198803550514,
          19.0466834,
          19.0549489,
          19.0553676,
          19.0717499,
          19.069199,
          19.108428058635067,
          19.0772584,
          19.08378506965726,
          19.097081572179782,
          19.11452542786921,
          19.15340218604483,
          19.154588406110605,
          19.0485455,
          19.036565872306717,
          19.0810169,
          19.078034392977138,
          19.0578812,
          19.115387852784714,
          19.1501307153195,
          19.13147901165423,
          19.166536,
          19.20044537186216,
          19.226177986542037,
          19.274599339621087,
          19.2002559,
          19.175072173145633,
          19.181992220872367,
          19.110541335761297,
          19.17053618430677,
          19.145302085539335,
          19.074877150131375,
          19.0118581,
          19.130216633185633,
          19.10868673649793,
          18.72821226082898,
          19.117309165407466,
          19.1252659,
          18.9220200194614,
          18.752760341593195,
          18.753726236372145,
          19.33689039218749,
          19.2630777,
          19.433422777213174,
          19.7378381,
          18.9462708,
          18.92966400811583,
          19.3279086,
          19.07213349950898,
          19.0497367,
          19.0082009,
          19.1408698,
          19.1298363,
          19.2544100057587,
          19.2695032,
          21.3523261,
          19.8263693252771,
          21.12447999470143,
          21.105,
          21.5324588,
          19.816460559385416,
          20.137129579133394,
          21.596122056870897,
          21.6005446,
          21.6507123,
          20.368589991875268,
          20.3828107,
          20.793007,
          19.927716,
          21.2738629,
          21.5000565,
          21.6695088,
          21.4443044,
          19.673491298508218,
          19.9294965,
          20.3264809,
          19.8957065,
          20.6186083,
          19.710157121884663,
          19.8388659,
          20.7431591,
          22.076221369413233,
          20.289619974926865,
          20.4734998,
          20.2904681,
          20.918867368191528,
          20.56924001340252,
          20.6155008,
          20.773607750000007,
          20.74615665034258,
          20.79726800400168,
          19.7837572,
          21.719339975025207,
          21.73827852848482,
          20.6540955,
          20.2799235,
          21.1238429,
          19.7913395,
          21.6531999,
          20.56655806924008,
          20.126656269611907,
          20.154240001064835,
          21.1658502,
          20.276935030913567,
          21.195149999668416,
          20.18356,
          20.19399000340792,
          20.74614092848397,
          21.0449256,
          20.4073476,
          21.6829924
         ],
         "marker": {
          "color": "#636efa",
          "size": [
           10,
           10,
           10,
           10,
           10,
           10,
           10,
           10,
           10,
           10,
           10,
           10,
           10,
           10,
           10,
           10,
           10,
           10,
           10,
           10,
           10,
           10,
           10,
           10,
           10,
           10,
           10,
           10,
           10,
           10,
           10,
           10,
           10,
           10,
           10,
           10,
           10,
           10,
           10,
           10,
           10,
           10,
           10,
           10,
           10,
           10,
           10,
           10,
           10,
           10,
           10,
           10,
           10,
           10,
           10,
           10,
           10,
           10,
           10,
           10,
           10,
           10,
           10,
           10,
           10,
           10,
           10,
           10,
           10,
           10,
           10,
           10,
           10,
           10,
           10,
           10,
           10,
           10,
           10,
           10,
           10,
           10,
           10,
           10,
           10,
           10,
           10,
           10,
           10,
           10,
           10,
           10,
           10,
           10,
           10,
           10,
           10,
           10,
           10,
           10,
           10,
           10,
           10,
           10,
           10,
           10,
           10,
           10,
           10,
           10,
           10,
           10,
           10,
           10,
           10,
           10,
           10,
           10,
           10,
           10,
           10,
           10,
           10,
           10,
           10,
           10,
           10,
           10,
           10,
           10,
           10,
           10,
           10,
           10,
           10,
           10,
           10,
           10,
           10,
           10,
           10,
           10,
           10,
           10,
           10,
           10,
           10,
           10,
           10,
           10,
           10,
           10,
           10,
           10,
           10,
           10,
           10,
           10,
           10,
           10,
           10,
           10,
           10,
           10,
           10,
           10,
           10,
           10,
           10,
           10,
           10,
           10,
           10,
           10,
           10,
           10,
           10,
           10,
           10,
           10,
           10,
           10,
           10,
           10,
           10,
           10
          ],
          "sizemode": "area",
          "sizeref": 0.20408163265306123
         },
         "mode": "markers",
         "name": "",
         "showlegend": false,
         "subplot": "mapbox",
         "type": "scattermapbox"
        }
       ],
       "layout": {
        "height": 650,
        "legend": {
         "itemsizing": "constant",
         "tracegroupgap": 0
        },
        "mapbox": {
         "center": {
          "lat": 47.248114661844355,
          "lon": 19.143502492121236
         },
         "domain": {
          "x": [
           0,
           1
          ],
          "y": [
           0,
           1
          ]
         },
         "style": "carto-positron",
         "zoom": 6
        },
        "template": {
         "data": {
          "bar": [
           {
            "error_x": {
             "color": "#2a3f5f"
            },
            "error_y": {
             "color": "#2a3f5f"
            },
            "marker": {
             "line": {
              "color": "#E5ECF6",
              "width": 0.5
             },
             "pattern": {
              "fillmode": "overlay",
              "size": 10,
              "solidity": 0.2
             }
            },
            "type": "bar"
           }
          ],
          "barpolar": [
           {
            "marker": {
             "line": {
              "color": "#E5ECF6",
              "width": 0.5
             },
             "pattern": {
              "fillmode": "overlay",
              "size": 10,
              "solidity": 0.2
             }
            },
            "type": "barpolar"
           }
          ],
          "carpet": [
           {
            "aaxis": {
             "endlinecolor": "#2a3f5f",
             "gridcolor": "white",
             "linecolor": "white",
             "minorgridcolor": "white",
             "startlinecolor": "#2a3f5f"
            },
            "baxis": {
             "endlinecolor": "#2a3f5f",
             "gridcolor": "white",
             "linecolor": "white",
             "minorgridcolor": "white",
             "startlinecolor": "#2a3f5f"
            },
            "type": "carpet"
           }
          ],
          "choropleth": [
           {
            "colorbar": {
             "outlinewidth": 0,
             "ticks": ""
            },
            "type": "choropleth"
           }
          ],
          "contour": [
           {
            "colorbar": {
             "outlinewidth": 0,
             "ticks": ""
            },
            "colorscale": [
             [
              0,
              "#0d0887"
             ],
             [
              0.1111111111111111,
              "#46039f"
             ],
             [
              0.2222222222222222,
              "#7201a8"
             ],
             [
              0.3333333333333333,
              "#9c179e"
             ],
             [
              0.4444444444444444,
              "#bd3786"
             ],
             [
              0.5555555555555556,
              "#d8576b"
             ],
             [
              0.6666666666666666,
              "#ed7953"
             ],
             [
              0.7777777777777778,
              "#fb9f3a"
             ],
             [
              0.8888888888888888,
              "#fdca26"
             ],
             [
              1,
              "#f0f921"
             ]
            ],
            "type": "contour"
           }
          ],
          "contourcarpet": [
           {
            "colorbar": {
             "outlinewidth": 0,
             "ticks": ""
            },
            "type": "contourcarpet"
           }
          ],
          "heatmap": [
           {
            "colorbar": {
             "outlinewidth": 0,
             "ticks": ""
            },
            "colorscale": [
             [
              0,
              "#0d0887"
             ],
             [
              0.1111111111111111,
              "#46039f"
             ],
             [
              0.2222222222222222,
              "#7201a8"
             ],
             [
              0.3333333333333333,
              "#9c179e"
             ],
             [
              0.4444444444444444,
              "#bd3786"
             ],
             [
              0.5555555555555556,
              "#d8576b"
             ],
             [
              0.6666666666666666,
              "#ed7953"
             ],
             [
              0.7777777777777778,
              "#fb9f3a"
             ],
             [
              0.8888888888888888,
              "#fdca26"
             ],
             [
              1,
              "#f0f921"
             ]
            ],
            "type": "heatmap"
           }
          ],
          "heatmapgl": [
           {
            "colorbar": {
             "outlinewidth": 0,
             "ticks": ""
            },
            "colorscale": [
             [
              0,
              "#0d0887"
             ],
             [
              0.1111111111111111,
              "#46039f"
             ],
             [
              0.2222222222222222,
              "#7201a8"
             ],
             [
              0.3333333333333333,
              "#9c179e"
             ],
             [
              0.4444444444444444,
              "#bd3786"
             ],
             [
              0.5555555555555556,
              "#d8576b"
             ],
             [
              0.6666666666666666,
              "#ed7953"
             ],
             [
              0.7777777777777778,
              "#fb9f3a"
             ],
             [
              0.8888888888888888,
              "#fdca26"
             ],
             [
              1,
              "#f0f921"
             ]
            ],
            "type": "heatmapgl"
           }
          ],
          "histogram": [
           {
            "marker": {
             "pattern": {
              "fillmode": "overlay",
              "size": 10,
              "solidity": 0.2
             }
            },
            "type": "histogram"
           }
          ],
          "histogram2d": [
           {
            "colorbar": {
             "outlinewidth": 0,
             "ticks": ""
            },
            "colorscale": [
             [
              0,
              "#0d0887"
             ],
             [
              0.1111111111111111,
              "#46039f"
             ],
             [
              0.2222222222222222,
              "#7201a8"
             ],
             [
              0.3333333333333333,
              "#9c179e"
             ],
             [
              0.4444444444444444,
              "#bd3786"
             ],
             [
              0.5555555555555556,
              "#d8576b"
             ],
             [
              0.6666666666666666,
              "#ed7953"
             ],
             [
              0.7777777777777778,
              "#fb9f3a"
             ],
             [
              0.8888888888888888,
              "#fdca26"
             ],
             [
              1,
              "#f0f921"
             ]
            ],
            "type": "histogram2d"
           }
          ],
          "histogram2dcontour": [
           {
            "colorbar": {
             "outlinewidth": 0,
             "ticks": ""
            },
            "colorscale": [
             [
              0,
              "#0d0887"
             ],
             [
              0.1111111111111111,
              "#46039f"
             ],
             [
              0.2222222222222222,
              "#7201a8"
             ],
             [
              0.3333333333333333,
              "#9c179e"
             ],
             [
              0.4444444444444444,
              "#bd3786"
             ],
             [
              0.5555555555555556,
              "#d8576b"
             ],
             [
              0.6666666666666666,
              "#ed7953"
             ],
             [
              0.7777777777777778,
              "#fb9f3a"
             ],
             [
              0.8888888888888888,
              "#fdca26"
             ],
             [
              1,
              "#f0f921"
             ]
            ],
            "type": "histogram2dcontour"
           }
          ],
          "mesh3d": [
           {
            "colorbar": {
             "outlinewidth": 0,
             "ticks": ""
            },
            "type": "mesh3d"
           }
          ],
          "parcoords": [
           {
            "line": {
             "colorbar": {
              "outlinewidth": 0,
              "ticks": ""
             }
            },
            "type": "parcoords"
           }
          ],
          "pie": [
           {
            "automargin": true,
            "type": "pie"
           }
          ],
          "scatter": [
           {
            "marker": {
             "colorbar": {
              "outlinewidth": 0,
              "ticks": ""
             }
            },
            "type": "scatter"
           }
          ],
          "scatter3d": [
           {
            "line": {
             "colorbar": {
              "outlinewidth": 0,
              "ticks": ""
             }
            },
            "marker": {
             "colorbar": {
              "outlinewidth": 0,
              "ticks": ""
             }
            },
            "type": "scatter3d"
           }
          ],
          "scattercarpet": [
           {
            "marker": {
             "colorbar": {
              "outlinewidth": 0,
              "ticks": ""
             }
            },
            "type": "scattercarpet"
           }
          ],
          "scattergeo": [
           {
            "marker": {
             "colorbar": {
              "outlinewidth": 0,
              "ticks": ""
             }
            },
            "type": "scattergeo"
           }
          ],
          "scattergl": [
           {
            "marker": {
             "colorbar": {
              "outlinewidth": 0,
              "ticks": ""
             }
            },
            "type": "scattergl"
           }
          ],
          "scattermapbox": [
           {
            "marker": {
             "colorbar": {
              "outlinewidth": 0,
              "ticks": ""
             }
            },
            "type": "scattermapbox"
           }
          ],
          "scatterpolar": [
           {
            "marker": {
             "colorbar": {
              "outlinewidth": 0,
              "ticks": ""
             }
            },
            "type": "scatterpolar"
           }
          ],
          "scatterpolargl": [
           {
            "marker": {
             "colorbar": {
              "outlinewidth": 0,
              "ticks": ""
             }
            },
            "type": "scatterpolargl"
           }
          ],
          "scatterternary": [
           {
            "marker": {
             "colorbar": {
              "outlinewidth": 0,
              "ticks": ""
             }
            },
            "type": "scatterternary"
           }
          ],
          "surface": [
           {
            "colorbar": {
             "outlinewidth": 0,
             "ticks": ""
            },
            "colorscale": [
             [
              0,
              "#0d0887"
             ],
             [
              0.1111111111111111,
              "#46039f"
             ],
             [
              0.2222222222222222,
              "#7201a8"
             ],
             [
              0.3333333333333333,
              "#9c179e"
             ],
             [
              0.4444444444444444,
              "#bd3786"
             ],
             [
              0.5555555555555556,
              "#d8576b"
             ],
             [
              0.6666666666666666,
              "#ed7953"
             ],
             [
              0.7777777777777778,
              "#fb9f3a"
             ],
             [
              0.8888888888888888,
              "#fdca26"
             ],
             [
              1,
              "#f0f921"
             ]
            ],
            "type": "surface"
           }
          ],
          "table": [
           {
            "cells": {
             "fill": {
              "color": "#EBF0F8"
             },
             "line": {
              "color": "white"
             }
            },
            "header": {
             "fill": {
              "color": "#C8D4E3"
             },
             "line": {
              "color": "white"
             }
            },
            "type": "table"
           }
          ]
         },
         "layout": {
          "annotationdefaults": {
           "arrowcolor": "#2a3f5f",
           "arrowhead": 0,
           "arrowwidth": 1
          },
          "autotypenumbers": "strict",
          "coloraxis": {
           "colorbar": {
            "outlinewidth": 0,
            "ticks": ""
           }
          },
          "colorscale": {
           "diverging": [
            [
             0,
             "#8e0152"
            ],
            [
             0.1,
             "#c51b7d"
            ],
            [
             0.2,
             "#de77ae"
            ],
            [
             0.3,
             "#f1b6da"
            ],
            [
             0.4,
             "#fde0ef"
            ],
            [
             0.5,
             "#f7f7f7"
            ],
            [
             0.6,
             "#e6f5d0"
            ],
            [
             0.7,
             "#b8e186"
            ],
            [
             0.8,
             "#7fbc41"
            ],
            [
             0.9,
             "#4d9221"
            ],
            [
             1,
             "#276419"
            ]
           ],
           "sequential": [
            [
             0,
             "#0d0887"
            ],
            [
             0.1111111111111111,
             "#46039f"
            ],
            [
             0.2222222222222222,
             "#7201a8"
            ],
            [
             0.3333333333333333,
             "#9c179e"
            ],
            [
             0.4444444444444444,
             "#bd3786"
            ],
            [
             0.5555555555555556,
             "#d8576b"
            ],
            [
             0.6666666666666666,
             "#ed7953"
            ],
            [
             0.7777777777777778,
             "#fb9f3a"
            ],
            [
             0.8888888888888888,
             "#fdca26"
            ],
            [
             1,
             "#f0f921"
            ]
           ],
           "sequentialminus": [
            [
             0,
             "#0d0887"
            ],
            [
             0.1111111111111111,
             "#46039f"
            ],
            [
             0.2222222222222222,
             "#7201a8"
            ],
            [
             0.3333333333333333,
             "#9c179e"
            ],
            [
             0.4444444444444444,
             "#bd3786"
            ],
            [
             0.5555555555555556,
             "#d8576b"
            ],
            [
             0.6666666666666666,
             "#ed7953"
            ],
            [
             0.7777777777777778,
             "#fb9f3a"
            ],
            [
             0.8888888888888888,
             "#fdca26"
            ],
            [
             1,
             "#f0f921"
            ]
           ]
          },
          "colorway": [
           "#636efa",
           "#EF553B",
           "#00cc96",
           "#ab63fa",
           "#FFA15A",
           "#19d3f3",
           "#FF6692",
           "#B6E880",
           "#FF97FF",
           "#FECB52"
          ],
          "font": {
           "color": "#2a3f5f"
          },
          "geo": {
           "bgcolor": "white",
           "lakecolor": "white",
           "landcolor": "#E5ECF6",
           "showlakes": true,
           "showland": true,
           "subunitcolor": "white"
          },
          "hoverlabel": {
           "align": "left"
          },
          "hovermode": "closest",
          "mapbox": {
           "style": "light"
          },
          "paper_bgcolor": "white",
          "plot_bgcolor": "#E5ECF6",
          "polar": {
           "angularaxis": {
            "gridcolor": "white",
            "linecolor": "white",
            "ticks": ""
           },
           "bgcolor": "#E5ECF6",
           "radialaxis": {
            "gridcolor": "white",
            "linecolor": "white",
            "ticks": ""
           }
          },
          "scene": {
           "xaxis": {
            "backgroundcolor": "#E5ECF6",
            "gridcolor": "white",
            "gridwidth": 2,
            "linecolor": "white",
            "showbackground": true,
            "ticks": "",
            "zerolinecolor": "white"
           },
           "yaxis": {
            "backgroundcolor": "#E5ECF6",
            "gridcolor": "white",
            "gridwidth": 2,
            "linecolor": "white",
            "showbackground": true,
            "ticks": "",
            "zerolinecolor": "white"
           },
           "zaxis": {
            "backgroundcolor": "#E5ECF6",
            "gridcolor": "white",
            "gridwidth": 2,
            "linecolor": "white",
            "showbackground": true,
            "ticks": "",
            "zerolinecolor": "white"
           }
          },
          "shapedefaults": {
           "line": {
            "color": "#2a3f5f"
           }
          },
          "ternary": {
           "aaxis": {
            "gridcolor": "white",
            "linecolor": "white",
            "ticks": ""
           },
           "baxis": {
            "gridcolor": "white",
            "linecolor": "white",
            "ticks": ""
           },
           "bgcolor": "#E5ECF6",
           "caxis": {
            "gridcolor": "white",
            "linecolor": "white",
            "ticks": ""
           }
          },
          "title": {
           "x": 0.05
          },
          "xaxis": {
           "automargin": true,
           "gridcolor": "white",
           "linecolor": "white",
           "ticks": "",
           "title": {
            "standoff": 15
           },
           "zerolinecolor": "white",
           "zerolinewidth": 2
          },
          "yaxis": {
           "automargin": true,
           "gridcolor": "white",
           "linecolor": "white",
           "ticks": "",
           "title": {
            "standoff": 15
           },
           "zerolinecolor": "white",
           "zerolinewidth": 2
          }
         }
        },
        "title": {
         "text": "Lidl boltok elhelyezkedése"
        },
        "width": 950
       }
      }
     },
     "metadata": {},
     "output_type": "display_data"
    }
   ],
   "source": [
    "plot_map(lidl_coords_df)"
   ]
  },
  {
   "cell_type": "code",
   "execution_count": null,
   "metadata": {},
   "outputs": [],
   "source": []
  },
  {
   "cell_type": "code",
   "execution_count": null,
   "metadata": {},
   "outputs": [],
   "source": []
  },
  {
   "cell_type": "markdown",
   "metadata": {},
   "source": [
    "## Aldi"
   ]
  },
  {
   "cell_type": "markdown",
   "metadata": {},
   "source": []
  },
  {
   "cell_type": "code",
   "execution_count": null,
   "metadata": {},
   "outputs": [],
   "source": []
  },
  {
   "cell_type": "code",
   "execution_count": null,
   "metadata": {},
   "outputs": [],
   "source": []
  }
 ],
 "metadata": {
  "interpreter": {
   "hash": "c1c82bdd170d252fe165a9bec4d731e9ac025b41ad0f7b30ff5fda4e58991de2"
  },
  "kernelspec": {
   "display_name": "Python 3.8.8 64-bit ('base': conda)",
   "language": "python",
   "name": "python3"
  },
  "language_info": {
   "codemirror_mode": {
    "name": "ipython",
    "version": 3
   },
   "file_extension": ".py",
   "mimetype": "text/x-python",
   "name": "python",
   "nbconvert_exporter": "python",
   "pygments_lexer": "ipython3",
   "version": "3.8.8"
  },
  "orig_nbformat": 4
 },
 "nbformat": 4,
 "nbformat_minor": 2
}
