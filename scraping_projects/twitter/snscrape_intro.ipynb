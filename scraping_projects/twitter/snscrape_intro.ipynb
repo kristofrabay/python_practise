{
 "cells": [
  {
   "cell_type": "code",
   "execution_count": 1,
   "metadata": {},
   "outputs": [],
   "source": [
    "import pandas as pd\n",
    "import numpy as np\n",
    "\n",
    "import warnings\n",
    "warnings.filterwarnings('ignore')\n",
    "\n",
    "import snscrape.modules.twitter as twitterScraper\n",
    "from itertools import islice "
   ]
  },
  {
   "cell_type": "markdown",
   "metadata": {},
   "source": [
    "### Searching by phrase and date"
   ]
  },
  {
   "cell_type": "code",
   "execution_count": 2,
   "metadata": {},
   "outputs": [],
   "source": [
    "MAX_TWEETS = 10\n",
    "\n",
    "scraper_object = twitterScraper.TwitterSearchScraper('sputnik vaccine since:2021-10-28 until:2021-10-29')\n",
    "scraped_items = islice(scraper_object.get_items(), MAX_TWEETS)\n",
    "# scraped_items = scraper_object.get_items()\n",
    "\n",
    "tweets_data = pd.DataFrame(scraped_items)\n",
    "\n",
    "# delete unnecessary columns\n",
    "for i in ['url', 'outlinks', 'outlinksss', 'tcooutlinks', 'tcooutlinksss']:\n",
    "    if i in tweets_data.columns:\n",
    "        tweets_data.drop(i, 1, inplace = True)"
   ]
  },
  {
   "cell_type": "markdown",
   "metadata": {},
   "source": [
    "### Searching by user name and date"
   ]
  },
  {
   "cell_type": "code",
   "execution_count": 3,
   "metadata": {},
   "outputs": [],
   "source": [
    "MAX_TWEETS = 10\n",
    "\n",
    "scraper_object = twitterScraper.TwitterSearchScraper('from:borisjohnson since:2021-10-28 until:2021-10-30')\n",
    "scraped_items = islice(scraper_object.get_items(), MAX_TWEETS)\n",
    "# scraped_items = scraper_object.get_items()\n",
    "\n",
    "tweets_data = pd.DataFrame(scraped_items)\n",
    "\n",
    "# delete unnecessary columns\n",
    "for i in ['url', 'outlinks', 'outlinksss', 'tcooutlinks', 'tcooutlinksss']:\n",
    "    if i in tweets_data.columns:\n",
    "        tweets_data.drop(i, 1, inplace = True)"
   ]
  },
  {
   "cell_type": "markdown",
   "metadata": {},
   "source": [
    "### Scraping by location\n",
    "\n",
    "2 main methods to filter for location:\n",
    "\n",
    "1. near:\"city\" within:10km\n",
    "2. geocode:\"lat, lon, 10km\"\n",
    "\n",
    "Using geocoordinates is more precise"
   ]
  },
  {
   "cell_type": "code",
   "execution_count": 19,
   "metadata": {},
   "outputs": [],
   "source": [
    "MAX_TWEETS = 10\n",
    "\n",
    "scraper_object = twitterScraper.TwitterSearchScraper('super bowl near:\"Los Angeles\" within:5km since:2021-10-28 until:2021-10-30')\n",
    "scraped_items = islice(scraper_object.get_items(), MAX_TWEETS)\n",
    "# scraped_items = scraper_object.get_items()\n",
    "\n",
    "tweets_data = pd.DataFrame(scraped_items)\n",
    "\n",
    "# delete unnecessary columns\n",
    "for i in ['url', 'outlinks', 'outlinksss', 'tcooutlinks', 'tcooutlinksss']:\n",
    "    if i in tweets_data.columns:\n",
    "        tweets_data.drop(i, 1, inplace = True)"
   ]
  }
 ],
 "metadata": {
  "interpreter": {
   "hash": "c1c82bdd170d252fe165a9bec4d731e9ac025b41ad0f7b30ff5fda4e58991de2"
  },
  "kernelspec": {
   "display_name": "Python 3.8.8 64-bit ('base': conda)",
   "name": "python3"
  },
  "language_info": {
   "codemirror_mode": {
    "name": "ipython",
    "version": 3
   },
   "file_extension": ".py",
   "mimetype": "text/x-python",
   "name": "python",
   "nbconvert_exporter": "python",
   "pygments_lexer": "ipython3",
   "version": "3.8.8"
  },
  "orig_nbformat": 4
 },
 "nbformat": 4,
 "nbformat_minor": 2
}
