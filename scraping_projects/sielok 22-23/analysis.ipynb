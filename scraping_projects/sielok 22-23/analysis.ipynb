{
 "cells": [
  {
   "cell_type": "markdown",
   "metadata": {},
   "source": [
    "## Sielok.hu adatok elemzése\n",
    "\n",
    "<img src=\"https://sielok.hu/files/sielok-logo-feher-400x198.jpg\" width=\"450\"/>"
   ]
  },
  {
   "cell_type": "code",
   "execution_count": 1,
   "metadata": {},
   "outputs": [
    {
     "name": "stdout",
     "output_type": "stream",
     "text": [
      "Importing the following packages: pandas, numpy, matplotlib, seaborn, plotly, warnings\n"
     ]
    }
   ],
   "source": [
    "import sys \n",
    "sys.path.append('../../')\n",
    "\n",
    "from src.import_packages import *\n",
    "from src.visualize_EDA import vEDA"
   ]
  },
  {
   "cell_type": "code",
   "execution_count": 88,
   "metadata": {},
   "outputs": [
    {
     "data": {
      "text/html": [
       "<div>\n",
       "<style scoped>\n",
       "    .dataframe tbody tr th:only-of-type {\n",
       "        vertical-align: middle;\n",
       "    }\n",
       "\n",
       "    .dataframe tbody tr th {\n",
       "        vertical-align: top;\n",
       "    }\n",
       "\n",
       "    .dataframe thead th {\n",
       "        text-align: right;\n",
       "    }\n",
       "</style>\n",
       "<table border=\"1\" class=\"dataframe\">\n",
       "  <thead>\n",
       "    <tr style=\"text-align: right;\">\n",
       "      <th></th>\n",
       "      <th>Síterep</th>\n",
       "      <th>Link</th>\n",
       "      <th>Régió</th>\n",
       "      <th>Parkoló</th>\n",
       "      <th>Hegytető</th>\n",
       "      <th>Sípályák hossza</th>\n",
       "      <th>Szintkülönbség</th>\n",
       "      <th>Liftek száma</th>\n",
       "      <th>Szezon eleje</th>\n",
       "      <th>Szezon vége</th>\n",
       "      <th>...</th>\n",
       "      <th>Felnőtt napijegy ára</th>\n",
       "      <th>Húzólift</th>\n",
       "      <th>Kombilift</th>\n",
       "      <th>Kék</th>\n",
       "      <th>Piros</th>\n",
       "      <th>Fekete</th>\n",
       "      <th>Ülőlift</th>\n",
       "      <th>Nagykabinos lift</th>\n",
       "      <th>Kiskabinos lift</th>\n",
       "      <th>Vonat</th>\n",
       "    </tr>\n",
       "  </thead>\n",
       "  <tbody>\n",
       "    <tr>\n",
       "      <th>0</th>\n",
       "      <td>Abtenau im Lammertal - Karkogel</td>\n",
       "      <td>https://sielok.hu/siterep/abtenau/</td>\n",
       "      <td>Salzburg</td>\n",
       "      <td>712</td>\n",
       "      <td>1200</td>\n",
       "      <td>9.0</td>\n",
       "      <td>488</td>\n",
       "      <td>5</td>\n",
       "      <td>2022.12.30.</td>\n",
       "      <td>2023.03.26.</td>\n",
       "      <td>...</td>\n",
       "      <td>40.0</td>\n",
       "      <td>4</td>\n",
       "      <td>1</td>\n",
       "      <td>4.4</td>\n",
       "      <td>1.6</td>\n",
       "      <td>3.0</td>\n",
       "      <td>0</td>\n",
       "      <td>0</td>\n",
       "      <td>0</td>\n",
       "      <td>0</td>\n",
       "    </tr>\n",
       "    <tr>\n",
       "      <th>1</th>\n",
       "      <td>Achenkirch - Christlum</td>\n",
       "      <td>https://sielok.hu/siterep/achenkirch-christlum/</td>\n",
       "      <td>Tirol</td>\n",
       "      <td>950</td>\n",
       "      <td>1800</td>\n",
       "      <td>27.0</td>\n",
       "      <td>850</td>\n",
       "      <td>10</td>\n",
       "      <td>2022.12.15.</td>\n",
       "      <td>2023.04.10.</td>\n",
       "      <td>...</td>\n",
       "      <td>55.0</td>\n",
       "      <td>6</td>\n",
       "      <td>0</td>\n",
       "      <td>6.0</td>\n",
       "      <td>16.0</td>\n",
       "      <td>5.0</td>\n",
       "      <td>4</td>\n",
       "      <td>0</td>\n",
       "      <td>0</td>\n",
       "      <td>0</td>\n",
       "    </tr>\n",
       "    <tr>\n",
       "      <th>2</th>\n",
       "      <td>Aflenz - Bürgeralm</td>\n",
       "      <td>https://sielok.hu/siterep/aflenz/</td>\n",
       "      <td>Stájerország</td>\n",
       "      <td>810</td>\n",
       "      <td>1810</td>\n",
       "      <td>14.0</td>\n",
       "      <td>1000</td>\n",
       "      <td>7</td>\n",
       "      <td>2022.12.10.</td>\n",
       "      <td>2023.03.26.</td>\n",
       "      <td>...</td>\n",
       "      <td>37.0</td>\n",
       "      <td>6</td>\n",
       "      <td>0</td>\n",
       "      <td>2.0</td>\n",
       "      <td>10.0</td>\n",
       "      <td>2.0</td>\n",
       "      <td>1</td>\n",
       "      <td>0</td>\n",
       "      <td>0</td>\n",
       "      <td>0</td>\n",
       "    </tr>\n",
       "  </tbody>\n",
       "</table>\n",
       "<p>3 rows × 21 columns</p>\n",
       "</div>"
      ],
      "text/plain": [
       "                           Síterep  \\\n",
       "0  Abtenau im Lammertal - Karkogel   \n",
       "1           Achenkirch - Christlum   \n",
       "2               Aflenz - Bürgeralm   \n",
       "\n",
       "                                              Link         Régió  Parkoló  \\\n",
       "0               https://sielok.hu/siterep/abtenau/      Salzburg      712   \n",
       "1  https://sielok.hu/siterep/achenkirch-christlum/         Tirol      950   \n",
       "2                https://sielok.hu/siterep/aflenz/  Stájerország      810   \n",
       "\n",
       "   Hegytető  Sípályák hossza  Szintkülönbség  Liftek száma Szezon eleje  \\\n",
       "0      1200              9.0             488             5  2022.12.30.   \n",
       "1      1800             27.0             850            10  2022.12.15.   \n",
       "2      1810             14.0            1000             7  2022.12.10.   \n",
       "\n",
       "   Szezon vége  ...  Felnőtt napijegy ára  Húzólift  Kombilift  Kék  Piros  \\\n",
       "0  2023.03.26.  ...                  40.0         4          1  4.4    1.6   \n",
       "1  2023.04.10.  ...                  55.0         6          0  6.0   16.0   \n",
       "2  2023.03.26.  ...                  37.0         6          0  2.0   10.0   \n",
       "\n",
       "   Fekete  Ülőlift  Nagykabinos lift  Kiskabinos lift  Vonat  \n",
       "0     3.0        0                 0                0      0  \n",
       "1     5.0        4                 0                0      0  \n",
       "2     2.0        1                 0                0      0  \n",
       "\n",
       "[3 rows x 21 columns]"
      ]
     },
     "execution_count": 88,
     "metadata": {},
     "output_type": "execute_result"
    }
   ],
   "source": [
    "data = pd.read_csv('data/data.csv')\n",
    "data = data[data['Felnőtt napijegy ára'] != 'A síbérlet ára naponta változikKedvezményes síbérlet']\n",
    "data['Felnőtt napijegy ára'] = data['Felnőtt napijegy ára'].astype(float)\n",
    "data.head(3)"
   ]
  },
  {
   "cell_type": "code",
   "execution_count": 89,
   "metadata": {},
   "outputs": [],
   "source": [
    "data['Kék arány'] = data['Kék'] / data['Sípályák hossza']\n",
    "data['Piros arány'] = data['Piros'] / data['Sípályák hossza']\n",
    "data['Fekete arány'] = data['Fekete'] / data['Sípályák hossza']"
   ]
  },
  {
   "cell_type": "code",
   "execution_count": null,
   "metadata": {},
   "outputs": [],
   "source": []
  },
  {
   "cell_type": "markdown",
   "metadata": {},
   "source": [
    "### Vizualizációk - adatok közti kapcsolatok, eloszlások"
   ]
  },
  {
   "cell_type": "code",
   "execution_count": 90,
   "metadata": {},
   "outputs": [],
   "source": [
    "vdata = vEDA(data)"
   ]
  },
  {
   "cell_type": "markdown",
   "metadata": {},
   "source": [
    "#### Eloszlások"
   ]
  },
  {
   "cell_type": "code",
   "execution_count": 91,
   "metadata": {
    "scrolled": false
   },
   "outputs": [
    {
     "data": {
      "image/png": "[encoded data removed]",
      "text/plain": [
       "<Figure size 720x360 with 1 Axes>"
      ]
     },
     "metadata": {
      "needs_background": "light"
     },
     "output_type": "display_data"
    },
    {
     "data": {
      "image/png": "[encoded data removed]",
      "text/plain": [
       "<Figure size 720x360 with 1 Axes>"
      ]
     },
     "metadata": {
      "needs_background": "light"
     },
     "output_type": "display_data"
    },
    {
     "data": {
      "image/png": "[encoded data removed]",
      "text/plain": [
       "<Figure size 720x360 with 1 Axes>"
      ]
     },
     "metadata": {
      "needs_background": "light"
     },
     "output_type": "display_data"
    },
    {
     "data": {
      "image/png": "[encoded data removed]",
      "text/plain": [
       "<Figure size 720x360 with 1 Axes>"
      ]
     },
     "metadata": {
      "needs_background": "light"
     },
     "output_type": "display_data"
    },
    {
     "data": {
      "image/png": "[encoded data removed]",
      "text/plain": [
       "<Figure size 720x360 with 1 Axes>"
      ]
     },
     "metadata": {
      "needs_background": "light"
     },
     "output_type": "display_data"
    },
    {
     "data": {
      "image/png": "[encoded data removed]",
      "text/plain": [
       "<Figure size 720x360 with 1 Axes>"
      ]
     },
     "metadata": {
      "needs_background": "light"
     },
     "output_type": "display_data"
    },
    {
     "data": {
      "image/png": "[encoded data removed]",
      "text/plain": [
       "<Figure size 720x360 with 1 Axes>"
      ]
     },
     "metadata": {
      "needs_background": "light"
     },
     "output_type": "display_data"
    },
    {
     "data": {
      "image/png": "[encoded data removed]",
      "text/plain": [
       "<Figure size 720x360 with 1 Axes>"
      ]
     },
     "metadata": {
      "needs_background": "light"
     },
     "output_type": "display_data"
    }
   ],
   "source": [
    "_dist = ['Hegytető', 'Sípályák hossza', 'Szintkülönbség', 'Liftek száma', \n",
    "         'Felnőtt napijegy ára', 'Kék arány', 'Piros arány', 'Fekete arány']\n",
    "\n",
    "for i in _dist:\n",
    "    vdata.plot_dist(i)"
   ]
  },
  {
   "cell_type": "code",
   "execution_count": 93,
   "metadata": {},
   "outputs": [
    {
     "data": {
      "image/png": "[encoded data removed]",
      "text/plain": [
       "<Figure size 720x360 with 1 Axes>"
      ]
     },
     "metadata": {
      "needs_background": "light"
     },
     "output_type": "display_data"
    }
   ],
   "source": [
    "vdata.plot_boxplot('Felnőtt napijegy ára', 'Régió')"
   ]
  },
  {
   "cell_type": "code",
   "execution_count": 94,
   "metadata": {},
   "outputs": [
    {
     "data": {
      "image/png": "[encoded data removed]",
      "text/plain": [
       "<Figure size 720x360 with 1 Axes>"
      ]
     },
     "metadata": {
      "needs_background": "light"
     },
     "output_type": "display_data"
    }
   ],
   "source": [
    "vdata.plot_boxplot('Sípályák hossza', 'Régió')"
   ]
  },
  {
   "cell_type": "code",
   "execution_count": 95,
   "metadata": {},
   "outputs": [
    {
     "data": {
      "image/png": "[encoded data removed]",
      "text/plain": [
       "<Figure size 720x360 with 1 Axes>"
      ]
     },
     "metadata": {
      "needs_background": "light"
     },
     "output_type": "display_data"
    }
   ],
   "source": [
    "vdata.plot_boxplot('Hegytető', 'Régió')"
   ]
  },
  {
   "cell_type": "code",
   "execution_count": 96,
   "metadata": {},
   "outputs": [
    {
     "data": {
      "image/png": "[encoded data removed]",
      "text/plain": [
       "<Figure size 720x360 with 1 Axes>"
      ]
     },
     "metadata": {
      "needs_background": "light"
     },
     "output_type": "display_data"
    }
   ],
   "source": [
    "vdata.plot_scatter('Sípályák hossza', 'Felnőtt napijegy ára')"
   ]
  },
  {
   "cell_type": "code",
   "execution_count": 97,
   "metadata": {},
   "outputs": [
    {
     "data": {
      "image/png": "[encoded data removed]",
      "text/plain": [
       "<Figure size 720x360 with 1 Axes>"
      ]
     },
     "metadata": {
      "needs_background": "light"
     },
     "output_type": "display_data"
    }
   ],
   "source": [
    "vdata.plot_scatter('Liftek száma', 'Sípályák hossza')"
   ]
  },
  {
   "cell_type": "markdown",
   "metadata": {},
   "source": [
    "#### Korrelációk"
   ]
  },
  {
   "cell_type": "code",
   "execution_count": 98,
   "metadata": {},
   "outputs": [
    {
     "data": {
      "image/png": "[encoded data removed]",
      "text/plain": [
       "<Figure size 1080x576 with 2 Axes>"
      ]
     },
     "metadata": {
      "needs_background": "light"
     },
     "output_type": "display_data"
    }
   ],
   "source": [
    "vdata.plot_corr(figsize=(15, 8))"
   ]
  },
  {
   "cell_type": "code",
   "execution_count": null,
   "metadata": {},
   "outputs": [],
   "source": []
  },
  {
   "cell_type": "markdown",
   "metadata": {},
   "source": [
    "# Modellezés\n",
    "Felnőtt napijegy ára ~ Síterep információi"
   ]
  },
  {
   "cell_type": "code",
   "execution_count": 99,
   "metadata": {},
   "outputs": [],
   "source": [
    "data['Szezon eleje'] = pd.to_datetime(data['Szezon eleje'])\n",
    "data['Szezon vége'] = pd.to_datetime(data['Szezon vége'])"
   ]
  },
  {
   "cell_type": "code",
   "execution_count": 100,
   "metadata": {},
   "outputs": [
    {
     "data": {
      "text/plain": [
       "December     168\n",
       "NaN           65\n",
       "November       9\n",
       "October        3\n",
       "September      2\n",
       "Name: Szezon eleje, dtype: int64"
      ]
     },
     "execution_count": 100,
     "metadata": {},
     "output_type": "execute_result"
    }
   ],
   "source": [
    "data['Szezon eleje'].dt.month_name().value_counts(dropna = False)"
   ]
  },
  {
   "cell_type": "code",
   "execution_count": 101,
   "metadata": {},
   "outputs": [
    {
     "data": {
      "text/plain": [
       "April    100\n",
       "March     73\n",
       "NaN       65\n",
       "May        9\n",
       "Name: Szezon vége, dtype: int64"
      ]
     },
     "execution_count": 101,
     "metadata": {},
     "output_type": "execute_result"
    }
   ],
   "source": [
    "data['Szezon vége'].dt.month_name().value_counts(dropna = False)"
   ]
  },
  {
   "cell_type": "code",
   "execution_count": 102,
   "metadata": {},
   "outputs": [
    {
     "data": {
      "text/html": [
       "<div>\n",
       "<style scoped>\n",
       "    .dataframe tbody tr th:only-of-type {\n",
       "        vertical-align: middle;\n",
       "    }\n",
       "\n",
       "    .dataframe tbody tr th {\n",
       "        vertical-align: top;\n",
       "    }\n",
       "\n",
       "    .dataframe thead th {\n",
       "        text-align: right;\n",
       "    }\n",
       "</style>\n",
       "<table border=\"1\" class=\"dataframe\">\n",
       "  <thead>\n",
       "    <tr style=\"text-align: right;\">\n",
       "      <th></th>\n",
       "      <th>Síterep</th>\n",
       "      <th>Régió</th>\n",
       "      <th>Parkoló</th>\n",
       "      <th>Hegytető</th>\n",
       "      <th>Sípályák hossza</th>\n",
       "      <th>Szintkülönbség</th>\n",
       "      <th>Liftek száma</th>\n",
       "      <th>Távolság Budapesttől</th>\n",
       "      <th>Felnőtt napijegy ára</th>\n",
       "      <th>Húzólift</th>\n",
       "      <th>Kombilift</th>\n",
       "      <th>Ülőlift</th>\n",
       "      <th>Nagykabinos lift</th>\n",
       "      <th>Kiskabinos lift</th>\n",
       "      <th>Vonat</th>\n",
       "      <th>Piros arány</th>\n",
       "      <th>Fekete arány</th>\n",
       "    </tr>\n",
       "  </thead>\n",
       "  <tbody>\n",
       "    <tr>\n",
       "      <th>0</th>\n",
       "      <td>Abtenau im Lammertal - Karkogel</td>\n",
       "      <td>Salzburg</td>\n",
       "      <td>712</td>\n",
       "      <td>1200</td>\n",
       "      <td>9.0</td>\n",
       "      <td>488</td>\n",
       "      <td>5</td>\n",
       "      <td>533.0</td>\n",
       "      <td>40.0</td>\n",
       "      <td>4</td>\n",
       "      <td>1</td>\n",
       "      <td>0</td>\n",
       "      <td>0</td>\n",
       "      <td>0</td>\n",
       "      <td>0</td>\n",
       "      <td>0.177778</td>\n",
       "      <td>0.333333</td>\n",
       "    </tr>\n",
       "    <tr>\n",
       "      <th>1</th>\n",
       "      <td>Achenkirch - Christlum</td>\n",
       "      <td>Tirol</td>\n",
       "      <td>950</td>\n",
       "      <td>1800</td>\n",
       "      <td>27.0</td>\n",
       "      <td>850</td>\n",
       "      <td>10</td>\n",
       "      <td>709.0</td>\n",
       "      <td>55.0</td>\n",
       "      <td>6</td>\n",
       "      <td>0</td>\n",
       "      <td>4</td>\n",
       "      <td>0</td>\n",
       "      <td>0</td>\n",
       "      <td>0</td>\n",
       "      <td>0.592593</td>\n",
       "      <td>0.185185</td>\n",
       "    </tr>\n",
       "    <tr>\n",
       "      <th>2</th>\n",
       "      <td>Aflenz - Bürgeralm</td>\n",
       "      <td>Stájerország</td>\n",
       "      <td>810</td>\n",
       "      <td>1810</td>\n",
       "      <td>14.0</td>\n",
       "      <td>1000</td>\n",
       "      <td>7</td>\n",
       "      <td>364.0</td>\n",
       "      <td>37.0</td>\n",
       "      <td>6</td>\n",
       "      <td>0</td>\n",
       "      <td>1</td>\n",
       "      <td>0</td>\n",
       "      <td>0</td>\n",
       "      <td>0</td>\n",
       "      <td>0.714286</td>\n",
       "      <td>0.142857</td>\n",
       "    </tr>\n",
       "    <tr>\n",
       "      <th>3</th>\n",
       "      <td>Alberschwende</td>\n",
       "      <td>Vorarlberg</td>\n",
       "      <td>720</td>\n",
       "      <td>1200</td>\n",
       "      <td>2.5</td>\n",
       "      <td>480</td>\n",
       "      <td>2</td>\n",
       "      <td>863.0</td>\n",
       "      <td>26.0</td>\n",
       "      <td>2</td>\n",
       "      <td>0</td>\n",
       "      <td>0</td>\n",
       "      <td>0</td>\n",
       "      <td>0</td>\n",
       "      <td>0</td>\n",
       "      <td>0.600000</td>\n",
       "      <td>0.000000</td>\n",
       "    </tr>\n",
       "    <tr>\n",
       "      <th>4</th>\n",
       "      <td>Altaussee - Loser</td>\n",
       "      <td>Stájerország</td>\n",
       "      <td>850</td>\n",
       "      <td>1800</td>\n",
       "      <td>34.0</td>\n",
       "      <td>950</td>\n",
       "      <td>9</td>\n",
       "      <td>496.0</td>\n",
       "      <td>48.0</td>\n",
       "      <td>5</td>\n",
       "      <td>0</td>\n",
       "      <td>4</td>\n",
       "      <td>0</td>\n",
       "      <td>0</td>\n",
       "      <td>0</td>\n",
       "      <td>0.352941</td>\n",
       "      <td>0.029412</td>\n",
       "    </tr>\n",
       "  </tbody>\n",
       "</table>\n",
       "</div>"
      ],
      "text/plain": [
       "                           Síterep         Régió  Parkoló  Hegytető  \\\n",
       "0  Abtenau im Lammertal - Karkogel      Salzburg      712      1200   \n",
       "1           Achenkirch - Christlum         Tirol      950      1800   \n",
       "2               Aflenz - Bürgeralm  Stájerország      810      1810   \n",
       "3                    Alberschwende    Vorarlberg      720      1200   \n",
       "4                Altaussee - Loser  Stájerország      850      1800   \n",
       "\n",
       "   Sípályák hossza  Szintkülönbség  Liftek száma  Távolság Budapesttől  \\\n",
       "0              9.0             488             5                 533.0   \n",
       "1             27.0             850            10                 709.0   \n",
       "2             14.0            1000             7                 364.0   \n",
       "3              2.5             480             2                 863.0   \n",
       "4             34.0             950             9                 496.0   \n",
       "\n",
       "   Felnőtt napijegy ára  Húzólift  Kombilift  Ülőlift  Nagykabinos lift  \\\n",
       "0                  40.0         4          1        0                 0   \n",
       "1                  55.0         6          0        4                 0   \n",
       "2                  37.0         6          0        1                 0   \n",
       "3                  26.0         2          0        0                 0   \n",
       "4                  48.0         5          0        4                 0   \n",
       "\n",
       "   Kiskabinos lift  Vonat  Piros arány  Fekete arány  \n",
       "0                0      0     0.177778      0.333333  \n",
       "1                0      0     0.592593      0.185185  \n",
       "2                0      0     0.714286      0.142857  \n",
       "3                0      0     0.600000      0.000000  \n",
       "4                0      0     0.352941      0.029412  "
      ]
     },
     "execution_count": 102,
     "metadata": {},
     "output_type": "execute_result"
    }
   ],
   "source": [
    "df = data.copy()\n",
    "#df['Szezonhossz (napok)'] = (df['Szezon vége'] - df['Szezon eleje']).dt.days\n",
    "df.drop(['Link', 'Szezon eleje', 'Szezon vége', 'Kék', 'Piros', 'Fekete', 'Kék arány'], 1, inplace = True)\n",
    "df.dropna(inplace = True)\n",
    "df.head()"
   ]
  },
  {
   "cell_type": "code",
   "execution_count": 103,
   "metadata": {},
   "outputs": [
    {
     "data": {
      "text/plain": [
       "(216, 17)"
      ]
     },
     "execution_count": 103,
     "metadata": {},
     "output_type": "execute_result"
    }
   ],
   "source": [
    "df.shape"
   ]
  },
  {
   "cell_type": "markdown",
   "metadata": {},
   "source": [
    "## 1. Lineáris regresszió"
   ]
  },
  {
   "cell_type": "code",
   "execution_count": 104,
   "metadata": {},
   "outputs": [],
   "source": [
    "import statsmodels.api as sm"
   ]
  },
  {
   "cell_type": "code",
   "execution_count": 105,
   "metadata": {},
   "outputs": [],
   "source": [
    "df_linreg = pd.get_dummies(df, columns = ['Régió'], prefix_sep = ' = ', drop_first=True)\n",
    "df_linreg.set_index('Síterep', inplace = True)\n",
    "\n",
    "df_linreg['Log Sípályák hossza'] = np.log(df_linreg['Sípályák hossza'])\n",
    "df_linreg['Log Liftek száma'] = np.log(df_linreg['Liftek száma'])\n",
    "\n",
    "df_linreg.drop(['Liftek száma', 'Sípályák hossza'], 1, inplace = True)"
   ]
  },
  {
   "cell_type": "code",
   "execution_count": 106,
   "metadata": {},
   "outputs": [],
   "source": [
    "X = df_linreg.drop(['Felnőtt napijegy ára', 'Parkoló'], 1) #parkoló = hegytető - szintkülönbség\n",
    "X = sm.add_constant(X)\n",
    "y = df_linreg['Felnőtt napijegy ára']\n",
    "\n",
    "ols = sm.OLS(y, X.astype(float)).fit()\n",
    "p_values = ols.pvalues.sort_values()\n",
    "\n",
    "while len(p_values[p_values >= 0.05]) > 0:\n",
    "    X.drop(p_values.index[-1], 1, inplace = True)\n",
    "    ols = sm.OLS(y, X.astype(float)).fit()\n",
    "    p_values = ols.pvalues.sort_values()"
   ]
  },
  {
   "cell_type": "code",
   "execution_count": 107,
   "metadata": {},
   "outputs": [
    {
     "data": {
      "text/html": [
       "<table class=\"simpletable\">\n",
       "<caption>OLS Regression Results</caption>\n",
       "<tr>\n",
       "  <th>Dep. Variable:</th>    <td>Felnőtt napijegy ára</td> <th>  R-squared:         </th> <td>   0.799</td>\n",
       "</tr>\n",
       "<tr>\n",
       "  <th>Model:</th>                     <td>OLS</td>         <th>  Adj. R-squared:    </th> <td>   0.793</td>\n",
       "</tr>\n",
       "<tr>\n",
       "  <th>Method:</th>               <td>Least Squares</td>    <th>  F-statistic:       </th> <td>   138.7</td>\n",
       "</tr>\n",
       "<tr>\n",
       "  <th>Date:</th>               <td>Sat, 24 Dec 2022</td>   <th>  Prob (F-statistic):</th> <td>4.91e-70</td>\n",
       "</tr>\n",
       "<tr>\n",
       "  <th>Time:</th>                   <td>17:02:13</td>       <th>  Log-Likelihood:    </th> <td> -700.64</td>\n",
       "</tr>\n",
       "<tr>\n",
       "  <th>No. Observations:</th>        <td>   216</td>        <th>  AIC:               </th> <td>   1415.</td>\n",
       "</tr>\n",
       "<tr>\n",
       "  <th>Df Residuals:</th>            <td>   209</td>        <th>  BIC:               </th> <td>   1439.</td>\n",
       "</tr>\n",
       "<tr>\n",
       "  <th>Df Model:</th>                <td>     6</td>        <th>                     </th>     <td> </td>   \n",
       "</tr>\n",
       "<tr>\n",
       "  <th>Covariance Type:</th>        <td>nonrobust</td>      <th>                     </th>     <td> </td>   \n",
       "</tr>\n",
       "</table>\n",
       "<table class=\"simpletable\">\n",
       "<tr>\n",
       "           <td></td>              <th>coef</th>     <th>std err</th>      <th>t</th>      <th>P>|t|</th>  <th>[0.025</th>    <th>0.975]</th>  \n",
       "</tr>\n",
       "<tr>\n",
       "  <th>const</th>               <td>   11.8224</td> <td>    1.730</td> <td>    6.832</td> <td> 0.000</td> <td>    8.411</td> <td>   15.234</td>\n",
       "</tr>\n",
       "<tr>\n",
       "  <th>Hegytető</th>            <td>    0.0047</td> <td>    0.001</td> <td>    3.380</td> <td> 0.001</td> <td>    0.002</td> <td>    0.008</td>\n",
       "</tr>\n",
       "<tr>\n",
       "  <th>Szintkülönbség</th>      <td>    0.0046</td> <td>    0.002</td> <td>    2.625</td> <td> 0.009</td> <td>    0.001</td> <td>    0.008</td>\n",
       "</tr>\n",
       "<tr>\n",
       "  <th>Húzólift</th>            <td>   -0.5062</td> <td>    0.168</td> <td>   -3.015</td> <td> 0.003</td> <td>   -0.837</td> <td>   -0.175</td>\n",
       "</tr>\n",
       "<tr>\n",
       "  <th>Régió = Salzburg</th>    <td>    4.3773</td> <td>    1.238</td> <td>    3.536</td> <td> 0.001</td> <td>    1.937</td> <td>    6.818</td>\n",
       "</tr>\n",
       "<tr>\n",
       "  <th>Log Sípályák hossza</th> <td>    3.0206</td> <td>    0.897</td> <td>    3.367</td> <td> 0.001</td> <td>    1.252</td> <td>    4.789</td>\n",
       "</tr>\n",
       "<tr>\n",
       "  <th>Log Liftek száma</th>    <td>    7.1371</td> <td>    1.602</td> <td>    4.455</td> <td> 0.000</td> <td>    3.979</td> <td>   10.295</td>\n",
       "</tr>\n",
       "</table>\n",
       "<table class=\"simpletable\">\n",
       "<tr>\n",
       "  <th>Omnibus:</th>       <td>10.472</td> <th>  Durbin-Watson:     </th> <td>   2.110</td>\n",
       "</tr>\n",
       "<tr>\n",
       "  <th>Prob(Omnibus):</th> <td> 0.005</td> <th>  Jarque-Bera (JB):  </th> <td>  10.628</td>\n",
       "</tr>\n",
       "<tr>\n",
       "  <th>Skew:</th>          <td> 0.494</td> <th>  Prob(JB):          </th> <td> 0.00492</td>\n",
       "</tr>\n",
       "<tr>\n",
       "  <th>Kurtosis:</th>      <td> 3.453</td> <th>  Cond. No.          </th> <td>9.56e+03</td>\n",
       "</tr>\n",
       "</table><br/><br/>Notes:<br/>[1] Standard Errors assume that the covariance matrix of the errors is correctly specified.<br/>[2] The condition number is large, 9.56e+03. This might indicate that there are<br/>strong multicollinearity or other numerical problems."
      ],
      "text/plain": [
       "<class 'statsmodels.iolib.summary.Summary'>\n",
       "\"\"\"\n",
       "                             OLS Regression Results                             \n",
       "================================================================================\n",
       "Dep. Variable:     Felnőtt napijegy ára   R-squared:                       0.799\n",
       "Model:                              OLS   Adj. R-squared:                  0.793\n",
       "Method:                   Least Squares   F-statistic:                     138.7\n",
       "Date:                  Sat, 24 Dec 2022   Prob (F-statistic):           4.91e-70\n",
       "Time:                          17:02:13   Log-Likelihood:                -700.64\n",
       "No. Observations:                   216   AIC:                             1415.\n",
       "Df Residuals:                       209   BIC:                             1439.\n",
       "Df Model:                             6                                         \n",
       "Covariance Type:              nonrobust                                         \n",
       "=======================================================================================\n",
       "                          coef    std err          t      P>|t|      [0.025      0.975]\n",
       "---------------------------------------------------------------------------------------\n",
       "const                  11.8224      1.730      6.832      0.000       8.411      15.234\n",
       "Hegytető                0.0047      0.001      3.380      0.001       0.002       0.008\n",
       "Szintkülönbség          0.0046      0.002      2.625      0.009       0.001       0.008\n",
       "Húzólift               -0.5062      0.168     -3.015      0.003      -0.837      -0.175\n",
       "Régió = Salzburg        4.3773      1.238      3.536      0.001       1.937       6.818\n",
       "Log Sípályák hossza     3.0206      0.897      3.367      0.001       1.252       4.789\n",
       "Log Liftek száma        7.1371      1.602      4.455      0.000       3.979      10.295\n",
       "==============================================================================\n",
       "Omnibus:                       10.472   Durbin-Watson:                   2.110\n",
       "Prob(Omnibus):                  0.005   Jarque-Bera (JB):               10.628\n",
       "Skew:                           0.494   Prob(JB):                      0.00492\n",
       "Kurtosis:                       3.453   Cond. No.                     9.56e+03\n",
       "==============================================================================\n",
       "\n",
       "Notes:\n",
       "[1] Standard Errors assume that the covariance matrix of the errors is correctly specified.\n",
       "[2] The condition number is large, 9.56e+03. This might indicate that there are\n",
       "strong multicollinearity or other numerical problems.\n",
       "\"\"\""
      ]
     },
     "execution_count": 107,
     "metadata": {},
     "output_type": "execute_result"
    }
   ],
   "source": [
    "ols.summary()"
   ]
  },
  {
   "attachments": {},
   "cell_type": "markdown",
   "metadata": {},
   "source": [
    "Regression results:\n",
    "- Cost of ticket of ski resort that has no lifts, no slopes, no height and is at sea level is: 11.8EUR \n",
    "- For every 100m higher mountain, the ticket price increases by 0.0047 * 100 = 4.7EUR \n",
    "- For every 100m larger difference between top and bottom of mountain, the ticket price increases by 0.0046 * 100 = 4.6EUR \n",
    "- For every added 'húzólift', the ticket price decreases by 0.5EUR \n",
    "- Ski resorts in Salzburg region have on average 4.4EUR more expensive tickets \n",
    "- 10% increase in length of ski slopes results in 0.3EUR more expensive tix \n",
    "- 10% increase in number of ski lifts results in 0.7EUR more expensive tix"
   ]
  },
  {
   "cell_type": "code",
   "execution_count": null,
   "metadata": {},
   "outputs": [],
   "source": []
  },
  {
   "cell_type": "markdown",
   "metadata": {},
   "source": [
    "### Alul- vagy felülárazott síterepek"
   ]
  },
  {
   "cell_type": "code",
   "execution_count": 108,
   "metadata": {},
   "outputs": [],
   "source": [
    "yhat = pd.DataFrame({'Tényleges ár' : y, 'Becsült ár LinReg' : ols.predict(X)})\n",
    "yhat['Árkülönbség LinReg'] = yhat['Tényleges ár'] - yhat['Becsült ár LinReg']"
   ]
  },
  {
   "cell_type": "markdown",
   "metadata": {},
   "source": [
    "Leginkább túlárazott síterepek"
   ]
  },
  {
   "cell_type": "code",
   "execution_count": 109,
   "metadata": {},
   "outputs": [
    {
     "data": {
      "text/html": [
       "<div>\n",
       "<style scoped>\n",
       "    .dataframe tbody tr th:only-of-type {\n",
       "        vertical-align: middle;\n",
       "    }\n",
       "\n",
       "    .dataframe tbody tr th {\n",
       "        vertical-align: top;\n",
       "    }\n",
       "\n",
       "    .dataframe thead th {\n",
       "        text-align: right;\n",
       "    }\n",
       "</style>\n",
       "<table border=\"1\" class=\"dataframe\">\n",
       "  <thead>\n",
       "    <tr style=\"text-align: right;\">\n",
       "      <th></th>\n",
       "      <th>Tényleges ár</th>\n",
       "      <th>Becsült ár LinReg</th>\n",
       "      <th>Árkülönbség LinReg</th>\n",
       "    </tr>\n",
       "    <tr>\n",
       "      <th>Síterep</th>\n",
       "      <th></th>\n",
       "      <th></th>\n",
       "      <th></th>\n",
       "    </tr>\n",
       "  </thead>\n",
       "  <tbody>\n",
       "    <tr>\n",
       "      <th>Kleinarl, Flachauwinkl - Shuttleberg</th>\n",
       "      <td>68.0</td>\n",
       "      <td>55.579476</td>\n",
       "      <td>12.420524</td>\n",
       "    </tr>\n",
       "    <tr>\n",
       "      <th>Ifen</th>\n",
       "      <td>57.5</td>\n",
       "      <td>43.745007</td>\n",
       "      <td>13.754993</td>\n",
       "    </tr>\n",
       "    <tr>\n",
       "      <th>Jöchelspitze (Lechtal)</th>\n",
       "      <td>46.0</td>\n",
       "      <td>32.115914</td>\n",
       "      <td>13.884086</td>\n",
       "    </tr>\n",
       "    <tr>\n",
       "      <th>Ehrwald - Wettersteinbahnen</th>\n",
       "      <td>56.0</td>\n",
       "      <td>41.745486</td>\n",
       "      <td>14.254514</td>\n",
       "    </tr>\n",
       "    <tr>\n",
       "      <th>Fageralm</th>\n",
       "      <td>59.0</td>\n",
       "      <td>44.687593</td>\n",
       "      <td>14.312407</td>\n",
       "    </tr>\n",
       "    <tr>\n",
       "      <th>Biberwier - Marienberg</th>\n",
       "      <td>56.0</td>\n",
       "      <td>41.431911</td>\n",
       "      <td>14.568089</td>\n",
       "    </tr>\n",
       "    <tr>\n",
       "      <th>Fügen - Spieljoch</th>\n",
       "      <td>65.5</td>\n",
       "      <td>50.855993</td>\n",
       "      <td>14.644007</td>\n",
       "    </tr>\n",
       "    <tr>\n",
       "      <th>Sportgastein</th>\n",
       "      <td>68.5</td>\n",
       "      <td>49.756803</td>\n",
       "      <td>18.743197</td>\n",
       "    </tr>\n",
       "    <tr>\n",
       "      <th>Galsterbergalm</th>\n",
       "      <td>62.0</td>\n",
       "      <td>43.018593</td>\n",
       "      <td>18.981407</td>\n",
       "    </tr>\n",
       "    <tr>\n",
       "      <th>Radstadt - Altenmarkt</th>\n",
       "      <td>68.0</td>\n",
       "      <td>48.449050</td>\n",
       "      <td>19.550950</td>\n",
       "    </tr>\n",
       "  </tbody>\n",
       "</table>\n",
       "</div>"
      ],
      "text/plain": [
       "                                      Tényleges ár  Becsült ár LinReg  \\\n",
       "Síterep                                                                 \n",
       "Kleinarl, Flachauwinkl - Shuttleberg          68.0          55.579476   \n",
       "Ifen                                          57.5          43.745007   \n",
       "Jöchelspitze (Lechtal)                        46.0          32.115914   \n",
       "Ehrwald - Wettersteinbahnen                   56.0          41.745486   \n",
       "Fageralm                                      59.0          44.687593   \n",
       "Biberwier - Marienberg                        56.0          41.431911   \n",
       "Fügen - Spieljoch                             65.5          50.855993   \n",
       "Sportgastein                                  68.5          49.756803   \n",
       "Galsterbergalm                                62.0          43.018593   \n",
       "Radstadt - Altenmarkt                         68.0          48.449050   \n",
       "\n",
       "                                      Árkülönbség LinReg  \n",
       "Síterep                                                   \n",
       "Kleinarl, Flachauwinkl - Shuttleberg           12.420524  \n",
       "Ifen                                           13.754993  \n",
       "Jöchelspitze (Lechtal)                         13.884086  \n",
       "Ehrwald - Wettersteinbahnen                    14.254514  \n",
       "Fageralm                                       14.312407  \n",
       "Biberwier - Marienberg                         14.568089  \n",
       "Fügen - Spieljoch                              14.644007  \n",
       "Sportgastein                                   18.743197  \n",
       "Galsterbergalm                                 18.981407  \n",
       "Radstadt - Altenmarkt                          19.550950  "
      ]
     },
     "execution_count": 109,
     "metadata": {},
     "output_type": "execute_result"
    }
   ],
   "source": [
    "yhat.sort_values('Árkülönbség LinReg').tail(10)"
   ]
  },
  {
   "cell_type": "markdown",
   "metadata": {},
   "source": [
    "Leginkább alulárazott síterepek"
   ]
  },
  {
   "cell_type": "code",
   "execution_count": 110,
   "metadata": {},
   "outputs": [
    {
     "data": {
      "text/html": [
       "<div>\n",
       "<style scoped>\n",
       "    .dataframe tbody tr th:only-of-type {\n",
       "        vertical-align: middle;\n",
       "    }\n",
       "\n",
       "    .dataframe tbody tr th {\n",
       "        vertical-align: top;\n",
       "    }\n",
       "\n",
       "    .dataframe thead th {\n",
       "        text-align: right;\n",
       "    }\n",
       "</style>\n",
       "<table border=\"1\" class=\"dataframe\">\n",
       "  <thead>\n",
       "    <tr style=\"text-align: right;\">\n",
       "      <th></th>\n",
       "      <th>Tényleges ár</th>\n",
       "      <th>Becsült ár LinReg</th>\n",
       "      <th>Árkülönbség LinReg</th>\n",
       "    </tr>\n",
       "    <tr>\n",
       "      <th>Síterep</th>\n",
       "      <th></th>\n",
       "      <th></th>\n",
       "      <th></th>\n",
       "    </tr>\n",
       "  </thead>\n",
       "  <tbody>\n",
       "    <tr>\n",
       "      <th>Nordkette - Innsbruck</th>\n",
       "      <td>34.0</td>\n",
       "      <td>49.170692</td>\n",
       "      <td>-15.170692</td>\n",
       "    </tr>\n",
       "    <tr>\n",
       "      <th>St. Martin am Tennengebirge</th>\n",
       "      <td>23.0</td>\n",
       "      <td>35.536166</td>\n",
       "      <td>-12.536166</td>\n",
       "    </tr>\n",
       "    <tr>\n",
       "      <th>Modriach</th>\n",
       "      <td>20.0</td>\n",
       "      <td>31.989883</td>\n",
       "      <td>-11.989883</td>\n",
       "    </tr>\n",
       "    <tr>\n",
       "      <th>Weisssee - Uttendorf</th>\n",
       "      <td>44.0</td>\n",
       "      <td>55.952928</td>\n",
       "      <td>-11.952928</td>\n",
       "    </tr>\n",
       "    <tr>\n",
       "      <th>Obertauern</th>\n",
       "      <td>53.0</td>\n",
       "      <td>64.428930</td>\n",
       "      <td>-11.428930</td>\n",
       "    </tr>\n",
       "    <tr>\n",
       "      <th>Bregenz - Pfänder</th>\n",
       "      <td>20.3</td>\n",
       "      <td>31.518309</td>\n",
       "      <td>-11.218309</td>\n",
       "    </tr>\n",
       "    <tr>\n",
       "      <th>Rifflsee</th>\n",
       "      <td>40.0</td>\n",
       "      <td>51.098498</td>\n",
       "      <td>-11.098498</td>\n",
       "    </tr>\n",
       "    <tr>\n",
       "      <th>Silvretta Montafon</th>\n",
       "      <td>57.0</td>\n",
       "      <td>67.212891</td>\n",
       "      <td>-10.212891</td>\n",
       "    </tr>\n",
       "    <tr>\n",
       "      <th>Grosseck - Speiereck</th>\n",
       "      <td>50.0</td>\n",
       "      <td>59.805021</td>\n",
       "      <td>-9.805021</td>\n",
       "    </tr>\n",
       "    <tr>\n",
       "      <th>Weyregg am Attersee - Wachtberglifte</th>\n",
       "      <td>18.0</td>\n",
       "      <td>27.801405</td>\n",
       "      <td>-9.801405</td>\n",
       "    </tr>\n",
       "  </tbody>\n",
       "</table>\n",
       "</div>"
      ],
      "text/plain": [
       "                                      Tényleges ár  Becsült ár LinReg  \\\n",
       "Síterep                                                                 \n",
       "Nordkette - Innsbruck                         34.0          49.170692   \n",
       "St. Martin am Tennengebirge                   23.0          35.536166   \n",
       "Modriach                                      20.0          31.989883   \n",
       "Weisssee - Uttendorf                          44.0          55.952928   \n",
       "Obertauern                                    53.0          64.428930   \n",
       "Bregenz - Pfänder                             20.3          31.518309   \n",
       "Rifflsee                                      40.0          51.098498   \n",
       "Silvretta Montafon                            57.0          67.212891   \n",
       "Grosseck - Speiereck                          50.0          59.805021   \n",
       "Weyregg am Attersee - Wachtberglifte          18.0          27.801405   \n",
       "\n",
       "                                      Árkülönbség LinReg  \n",
       "Síterep                                                   \n",
       "Nordkette - Innsbruck                         -15.170692  \n",
       "St. Martin am Tennengebirge                   -12.536166  \n",
       "Modriach                                      -11.989883  \n",
       "Weisssee - Uttendorf                          -11.952928  \n",
       "Obertauern                                    -11.428930  \n",
       "Bregenz - Pfänder                             -11.218309  \n",
       "Rifflsee                                      -11.098498  \n",
       "Silvretta Montafon                            -10.212891  \n",
       "Grosseck - Speiereck                           -9.805021  \n",
       "Weyregg am Attersee - Wachtberglifte           -9.801405  "
      ]
     },
     "execution_count": 110,
     "metadata": {},
     "output_type": "execute_result"
    }
   ],
   "source": [
    "yhat.sort_values('Árkülönbség LinReg').head(10)"
   ]
  },
  {
   "cell_type": "markdown",
   "metadata": {},
   "source": [
    "Murau-val mi a helyzet?"
   ]
  },
  {
   "cell_type": "code",
   "execution_count": 111,
   "metadata": {},
   "outputs": [
    {
     "data": {
      "text/html": [
       "<div>\n",
       "<style scoped>\n",
       "    .dataframe tbody tr th:only-of-type {\n",
       "        vertical-align: middle;\n",
       "    }\n",
       "\n",
       "    .dataframe tbody tr th {\n",
       "        vertical-align: top;\n",
       "    }\n",
       "\n",
       "    .dataframe thead th {\n",
       "        text-align: right;\n",
       "    }\n",
       "</style>\n",
       "<table border=\"1\" class=\"dataframe\">\n",
       "  <thead>\n",
       "    <tr style=\"text-align: right;\">\n",
       "      <th></th>\n",
       "      <th>Tényleges ár</th>\n",
       "      <th>Becsült ár LinReg</th>\n",
       "      <th>Árkülönbség LinReg</th>\n",
       "    </tr>\n",
       "    <tr>\n",
       "      <th>Síterep</th>\n",
       "      <th></th>\n",
       "      <th></th>\n",
       "      <th></th>\n",
       "    </tr>\n",
       "  </thead>\n",
       "  <tbody>\n",
       "    <tr>\n",
       "      <th>Kreischberg - Murau</th>\n",
       "      <td>58.0</td>\n",
       "      <td>53.636598</td>\n",
       "      <td>4.363402</td>\n",
       "    </tr>\n",
       "  </tbody>\n",
       "</table>\n",
       "</div>"
      ],
      "text/plain": [
       "                     Tényleges ár  Becsült ár LinReg  Árkülönbség LinReg\n",
       "Síterep                                                                 \n",
       "Kreischberg - Murau          58.0          53.636598            4.363402"
      ]
     },
     "execution_count": 111,
     "metadata": {},
     "output_type": "execute_result"
    }
   ],
   "source": [
    "yhat[yhat.index.str.contains('Murau')]"
   ]
  },
  {
   "cell_type": "code",
   "execution_count": null,
   "metadata": {},
   "outputs": [],
   "source": []
  },
  {
   "cell_type": "code",
   "execution_count": 138,
   "metadata": {},
   "outputs": [],
   "source": [
    "alularazottak = yhat[(yhat['Árkülönbség LinReg'] <= -3) & (yhat['Tényleges ár'] >= 45)].sort_values('Árkülönbség LinReg')"
   ]
  },
  {
   "cell_type": "code",
   "execution_count": 145,
   "metadata": {},
   "outputs": [
    {
     "data": {
      "text/html": [
       "<div>\n",
       "<style scoped>\n",
       "    .dataframe tbody tr th:only-of-type {\n",
       "        vertical-align: middle;\n",
       "    }\n",
       "\n",
       "    .dataframe tbody tr th {\n",
       "        vertical-align: top;\n",
       "    }\n",
       "\n",
       "    .dataframe thead th {\n",
       "        text-align: right;\n",
       "    }\n",
       "</style>\n",
       "<table border=\"1\" class=\"dataframe\">\n",
       "  <thead>\n",
       "    <tr style=\"text-align: right;\">\n",
       "      <th></th>\n",
       "      <th>Síterep</th>\n",
       "      <th>Link</th>\n",
       "      <th>Régió</th>\n",
       "      <th>Parkoló</th>\n",
       "      <th>Hegytető</th>\n",
       "      <th>Sípályák hossza</th>\n",
       "      <th>Szintkülönbség</th>\n",
       "      <th>Liftek száma</th>\n",
       "      <th>Szezon eleje</th>\n",
       "      <th>Szezon vége</th>\n",
       "      <th>...</th>\n",
       "      <th>Kék</th>\n",
       "      <th>Piros</th>\n",
       "      <th>Fekete</th>\n",
       "      <th>Ülőlift</th>\n",
       "      <th>Nagykabinos lift</th>\n",
       "      <th>Kiskabinos lift</th>\n",
       "      <th>Vonat</th>\n",
       "      <th>Kék arány</th>\n",
       "      <th>Piros arány</th>\n",
       "      <th>Fekete arány</th>\n",
       "    </tr>\n",
       "  </thead>\n",
       "  <tbody>\n",
       "    <tr>\n",
       "      <th>4</th>\n",
       "      <td>Altaussee - Loser</td>\n",
       "      <td>https://sielok.hu/siterep/loser/</td>\n",
       "      <td>Stájerország</td>\n",
       "      <td>850</td>\n",
       "      <td>1800</td>\n",
       "      <td>34.0</td>\n",
       "      <td>950</td>\n",
       "      <td>9</td>\n",
       "      <td>2022-12-08</td>\n",
       "      <td>2023-04-10</td>\n",
       "      <td>...</td>\n",
       "      <td>21.0</td>\n",
       "      <td>12.0</td>\n",
       "      <td>1.0</td>\n",
       "      <td>4</td>\n",
       "      <td>0</td>\n",
       "      <td>0</td>\n",
       "      <td>0</td>\n",
       "      <td>0.617647</td>\n",
       "      <td>0.352941</td>\n",
       "      <td>0.029412</td>\n",
       "    </tr>\n",
       "    <tr>\n",
       "      <th>25</th>\n",
       "      <td>Dachstein West</td>\n",
       "      <td>https://sielok.hu/siterep/dachstein_west/</td>\n",
       "      <td>Salzburg</td>\n",
       "      <td>745</td>\n",
       "      <td>1617</td>\n",
       "      <td>51.0</td>\n",
       "      <td>872</td>\n",
       "      <td>22</td>\n",
       "      <td>2022-12-03</td>\n",
       "      <td>2023-04-02</td>\n",
       "      <td>...</td>\n",
       "      <td>15.0</td>\n",
       "      <td>33.0</td>\n",
       "      <td>3.0</td>\n",
       "      <td>8</td>\n",
       "      <td>0</td>\n",
       "      <td>3</td>\n",
       "      <td>0</td>\n",
       "      <td>0.294118</td>\n",
       "      <td>0.647059</td>\n",
       "      <td>0.058824</td>\n",
       "    </tr>\n",
       "    <tr>\n",
       "      <th>64</th>\n",
       "      <td>Grosseck - Speiereck</td>\n",
       "      <td>https://sielok.hu/siterep/grosseck/</td>\n",
       "      <td>Salzburg</td>\n",
       "      <td>1095</td>\n",
       "      <td>2400</td>\n",
       "      <td>50.0</td>\n",
       "      <td>1305</td>\n",
       "      <td>10</td>\n",
       "      <td>2022-12-08</td>\n",
       "      <td>2023-04-10</td>\n",
       "      <td>...</td>\n",
       "      <td>26.0</td>\n",
       "      <td>17.0</td>\n",
       "      <td>7.0</td>\n",
       "      <td>4</td>\n",
       "      <td>0</td>\n",
       "      <td>2</td>\n",
       "      <td>0</td>\n",
       "      <td>0.520000</td>\n",
       "      <td>0.340000</td>\n",
       "      <td>0.140000</td>\n",
       "    </tr>\n",
       "    <tr>\n",
       "      <th>72</th>\n",
       "      <td>Hinterstoder</td>\n",
       "      <td>https://sielok.hu/siterep/hinterstoder/</td>\n",
       "      <td>Felső-Ausztria</td>\n",
       "      <td>600</td>\n",
       "      <td>2000</td>\n",
       "      <td>39.9</td>\n",
       "      <td>1400</td>\n",
       "      <td>14</td>\n",
       "      <td>2022-12-10</td>\n",
       "      <td>2023-04-10</td>\n",
       "      <td>...</td>\n",
       "      <td>12.0</td>\n",
       "      <td>18.0</td>\n",
       "      <td>9.9</td>\n",
       "      <td>2</td>\n",
       "      <td>0</td>\n",
       "      <td>2</td>\n",
       "      <td>0</td>\n",
       "      <td>0.300752</td>\n",
       "      <td>0.451128</td>\n",
       "      <td>0.248120</td>\n",
       "    </tr>\n",
       "    <tr>\n",
       "      <th>101</th>\n",
       "      <td>Katschberg - Aineck</td>\n",
       "      <td>https://sielok.hu/siterep/katschberg/</td>\n",
       "      <td>Salzburg</td>\n",
       "      <td>1066</td>\n",
       "      <td>2220</td>\n",
       "      <td>70.0</td>\n",
       "      <td>1154</td>\n",
       "      <td>16</td>\n",
       "      <td>2022-12-03</td>\n",
       "      <td>2023-04-10</td>\n",
       "      <td>...</td>\n",
       "      <td>10.0</td>\n",
       "      <td>50.0</td>\n",
       "      <td>10.0</td>\n",
       "      <td>5</td>\n",
       "      <td>0</td>\n",
       "      <td>3</td>\n",
       "      <td>0</td>\n",
       "      <td>0.142857</td>\n",
       "      <td>0.714286</td>\n",
       "      <td>0.142857</td>\n",
       "    </tr>\n",
       "    <tr>\n",
       "      <th>112</th>\n",
       "      <td>Kreischberg - Murau</td>\n",
       "      <td>https://sielok.hu/siterep/kreischberg/</td>\n",
       "      <td>Stájerország</td>\n",
       "      <td>868</td>\n",
       "      <td>2118</td>\n",
       "      <td>42.5</td>\n",
       "      <td>1250</td>\n",
       "      <td>12</td>\n",
       "      <td>2022-12-08</td>\n",
       "      <td>2023-04-10</td>\n",
       "      <td>...</td>\n",
       "      <td>17.5</td>\n",
       "      <td>16.0</td>\n",
       "      <td>9.0</td>\n",
       "      <td>3</td>\n",
       "      <td>0</td>\n",
       "      <td>3</td>\n",
       "      <td>0</td>\n",
       "      <td>0.411765</td>\n",
       "      <td>0.376471</td>\n",
       "      <td>0.211765</td>\n",
       "    </tr>\n",
       "    <tr>\n",
       "      <th>148</th>\n",
       "      <td>Obertauern</td>\n",
       "      <td>https://sielok.hu/siterep/obertauern/</td>\n",
       "      <td>Salzburg</td>\n",
       "      <td>1630</td>\n",
       "      <td>2313</td>\n",
       "      <td>100.0</td>\n",
       "      <td>683</td>\n",
       "      <td>26</td>\n",
       "      <td>2022-11-25</td>\n",
       "      <td>2023-05-01</td>\n",
       "      <td>...</td>\n",
       "      <td>61.0</td>\n",
       "      <td>35.0</td>\n",
       "      <td>4.0</td>\n",
       "      <td>17</td>\n",
       "      <td>0</td>\n",
       "      <td>1</td>\n",
       "      <td>0</td>\n",
       "      <td>0.610000</td>\n",
       "      <td>0.350000</td>\n",
       "      <td>0.040000</td>\n",
       "    </tr>\n",
       "    <tr>\n",
       "      <th>170</th>\n",
       "      <td>Riesneralm</td>\n",
       "      <td>https://sielok.hu/siterep/riesneralm/</td>\n",
       "      <td>Stájerország</td>\n",
       "      <td>973</td>\n",
       "      <td>1820</td>\n",
       "      <td>32.2</td>\n",
       "      <td>847</td>\n",
       "      <td>7</td>\n",
       "      <td>2022-12-02</td>\n",
       "      <td>2023-04-10</td>\n",
       "      <td>...</td>\n",
       "      <td>20.2</td>\n",
       "      <td>9.0</td>\n",
       "      <td>3.0</td>\n",
       "      <td>3</td>\n",
       "      <td>0</td>\n",
       "      <td>0</td>\n",
       "      <td>0</td>\n",
       "      <td>0.627329</td>\n",
       "      <td>0.279503</td>\n",
       "      <td>0.093168</td>\n",
       "    </tr>\n",
       "    <tr>\n",
       "      <th>220</th>\n",
       "      <td>Tauplitz</td>\n",
       "      <td>https://sielok.hu/siterep/tauplitz/</td>\n",
       "      <td>Stájerország</td>\n",
       "      <td>896</td>\n",
       "      <td>1965</td>\n",
       "      <td>43.5</td>\n",
       "      <td>1069</td>\n",
       "      <td>17</td>\n",
       "      <td>2022-12-02</td>\n",
       "      <td>2023-04-10</td>\n",
       "      <td>...</td>\n",
       "      <td>18.5</td>\n",
       "      <td>19.0</td>\n",
       "      <td>6.0</td>\n",
       "      <td>4</td>\n",
       "      <td>0</td>\n",
       "      <td>1</td>\n",
       "      <td>0</td>\n",
       "      <td>0.425287</td>\n",
       "      <td>0.436782</td>\n",
       "      <td>0.137931</td>\n",
       "    </tr>\n",
       "    <tr>\n",
       "      <th>225</th>\n",
       "      <td>Turracher Höhe</td>\n",
       "      <td>https://sielok.hu/siterep/turrach/</td>\n",
       "      <td>Karintia</td>\n",
       "      <td>1400</td>\n",
       "      <td>2205</td>\n",
       "      <td>43.0</td>\n",
       "      <td>805</td>\n",
       "      <td>15</td>\n",
       "      <td>2022-12-03</td>\n",
       "      <td>2023-04-23</td>\n",
       "      <td>...</td>\n",
       "      <td>14.5</td>\n",
       "      <td>25.0</td>\n",
       "      <td>3.5</td>\n",
       "      <td>5</td>\n",
       "      <td>0</td>\n",
       "      <td>0</td>\n",
       "      <td>0</td>\n",
       "      <td>0.337209</td>\n",
       "      <td>0.581395</td>\n",
       "      <td>0.081395</td>\n",
       "    </tr>\n",
       "  </tbody>\n",
       "</table>\n",
       "<p>10 rows × 24 columns</p>\n",
       "</div>"
      ],
      "text/plain": [
       "                  Síterep                                       Link  \\\n",
       "4       Altaussee - Loser           https://sielok.hu/siterep/loser/   \n",
       "25         Dachstein West  https://sielok.hu/siterep/dachstein_west/   \n",
       "64   Grosseck - Speiereck        https://sielok.hu/siterep/grosseck/   \n",
       "72           Hinterstoder    https://sielok.hu/siterep/hinterstoder/   \n",
       "101   Katschberg - Aineck      https://sielok.hu/siterep/katschberg/   \n",
       "112   Kreischberg - Murau     https://sielok.hu/siterep/kreischberg/   \n",
       "148            Obertauern      https://sielok.hu/siterep/obertauern/   \n",
       "170            Riesneralm      https://sielok.hu/siterep/riesneralm/   \n",
       "220              Tauplitz        https://sielok.hu/siterep/tauplitz/   \n",
       "225        Turracher Höhe         https://sielok.hu/siterep/turrach/   \n",
       "\n",
       "              Régió  Parkoló  Hegytető  Sípályák hossza  Szintkülönbség  \\\n",
       "4      Stájerország      850      1800             34.0             950   \n",
       "25         Salzburg      745      1617             51.0             872   \n",
       "64         Salzburg     1095      2400             50.0            1305   \n",
       "72   Felső-Ausztria      600      2000             39.9            1400   \n",
       "101        Salzburg     1066      2220             70.0            1154   \n",
       "112    Stájerország      868      2118             42.5            1250   \n",
       "148        Salzburg     1630      2313            100.0             683   \n",
       "170    Stájerország      973      1820             32.2             847   \n",
       "220    Stájerország      896      1965             43.5            1069   \n",
       "225        Karintia     1400      2205             43.0             805   \n",
       "\n",
       "     Liftek száma Szezon eleje Szezon vége  ...   Kék  Piros  Fekete  Ülőlift  \\\n",
       "4               9   2022-12-08  2023-04-10  ...  21.0   12.0     1.0        4   \n",
       "25             22   2022-12-03  2023-04-02  ...  15.0   33.0     3.0        8   \n",
       "64             10   2022-12-08  2023-04-10  ...  26.0   17.0     7.0        4   \n",
       "72             14   2022-12-10  2023-04-10  ...  12.0   18.0     9.9        2   \n",
       "101            16   2022-12-03  2023-04-10  ...  10.0   50.0    10.0        5   \n",
       "112            12   2022-12-08  2023-04-10  ...  17.5   16.0     9.0        3   \n",
       "148            26   2022-11-25  2023-05-01  ...  61.0   35.0     4.0       17   \n",
       "170             7   2022-12-02  2023-04-10  ...  20.2    9.0     3.0        3   \n",
       "220            17   2022-12-02  2023-04-10  ...  18.5   19.0     6.0        4   \n",
       "225            15   2022-12-03  2023-04-23  ...  14.5   25.0     3.5        5   \n",
       "\n",
       "     Nagykabinos lift  Kiskabinos lift  Vonat  Kék arány  Piros arány  \\\n",
       "4                   0                0      0   0.617647     0.352941   \n",
       "25                  0                3      0   0.294118     0.647059   \n",
       "64                  0                2      0   0.520000     0.340000   \n",
       "72                  0                2      0   0.300752     0.451128   \n",
       "101                 0                3      0   0.142857     0.714286   \n",
       "112                 0                3      0   0.411765     0.376471   \n",
       "148                 0                1      0   0.610000     0.350000   \n",
       "170                 0                0      0   0.627329     0.279503   \n",
       "220                 0                1      0   0.425287     0.436782   \n",
       "225                 0                0      0   0.337209     0.581395   \n",
       "\n",
       "     Fekete arány  \n",
       "4        0.029412  \n",
       "25       0.058824  \n",
       "64       0.140000  \n",
       "72       0.248120  \n",
       "101      0.142857  \n",
       "112      0.211765  \n",
       "148      0.040000  \n",
       "170      0.093168  \n",
       "220      0.137931  \n",
       "225      0.081395  \n",
       "\n",
       "[10 rows x 24 columns]"
      ]
     },
     "execution_count": 145,
     "metadata": {},
     "output_type": "execute_result"
    }
   ],
   "source": [
    "data[(data['Felnőtt napijegy ára'].between(45, 60)) & (data['Távolság Budapesttől'] <= 550) & (data['Sípályák hossza'] >= 30)]"
   ]
  },
  {
   "cell_type": "code",
   "execution_count": null,
   "metadata": {},
   "outputs": [],
   "source": []
  },
  {
   "cell_type": "markdown",
   "metadata": {},
   "source": [
    "## 2. Regressziós fa"
   ]
  },
  {
   "cell_type": "code",
   "execution_count": 114,
   "metadata": {},
   "outputs": [],
   "source": [
    "from sklearn.tree import DecisionTreeRegressor, plot_tree\n",
    "from sklearn.model_selection import GridSearchCV\n",
    "from sklearn.metrics import r2_score"
   ]
  },
  {
   "cell_type": "code",
   "execution_count": 115,
   "metadata": {},
   "outputs": [],
   "source": [
    "df_rf = pd.get_dummies(df, columns = ['Régió'], prefix_sep = ' = ', drop_first=True)\n",
    "df_rf.set_index('Síterep', inplace = True)\n",
    "\n",
    "X = df_rf.drop(['Felnőtt napijegy ára'], 1)\n",
    "y = df_rf['Felnőtt napijegy ára']"
   ]
  },
  {
   "cell_type": "code",
   "execution_count": 116,
   "metadata": {},
   "outputs": [
    {
     "data": {
      "text/plain": [
       "GridSearchCV(cv=5, estimator=DecisionTreeRegressor(random_state=20202020),\n",
       "             n_jobs=-1,\n",
       "             param_grid={'max_depth': [5], 'max_features': [0.6666666666666666],\n",
       "                         'min_samples_leaf': [5], 'min_samples_split': [10]},\n",
       "             scoring='neg_root_mean_squared_error')"
      ]
     },
     "execution_count": 116,
     "metadata": {},
     "output_type": "execute_result"
    }
   ],
   "source": [
    "DT_params = {'max_depth' : [5],\n",
    "             'min_samples_split' : [10],\n",
    "             'min_samples_leaf' : [5],\n",
    "             'max_features' : [2/3]}\n",
    "\n",
    "DT = DecisionTreeRegressor(random_state = 20202020)\n",
    "GRID_DT = GridSearchCV(DT, param_grid = DT_params, cv = 5, scoring = 'neg_root_mean_squared_error', n_jobs = -1)\n",
    "GRID_DT.fit(X, y)"
   ]
  },
  {
   "cell_type": "code",
   "execution_count": 117,
   "metadata": {},
   "outputs": [
    {
     "data": {
      "image/png": "[encoded data removed]",
      "text/plain": [
       "<Figure size 1152x576 with 1 Axes>"
      ]
     },
     "metadata": {
      "needs_background": "light"
     },
     "output_type": "display_data"
    }
   ],
   "source": [
    "plt.figure(figsize = (16, 8))\n",
    "plot_tree(GRID_DT.best_estimator_, feature_names = X.columns, \n",
    "          filled = True, fontsize = 10, max_depth = 2)\n",
    "plt.show()"
   ]
  },
  {
   "cell_type": "code",
   "execution_count": 118,
   "metadata": {},
   "outputs": [
    {
     "data": {
      "text/plain": [
       "0.8981262314847833"
      ]
     },
     "execution_count": 118,
     "metadata": {},
     "output_type": "execute_result"
    }
   ],
   "source": [
    "r2_score(y, GRID_DT.best_estimator_.predict(X))"
   ]
  },
  {
   "cell_type": "markdown",
   "metadata": {},
   "source": [
    "A lineáris regresszióhoz képest (0.8 r2) a regressziós döntési fa 0.9 körüli r2-el becsül"
   ]
  },
  {
   "cell_type": "code",
   "execution_count": 119,
   "metadata": {},
   "outputs": [],
   "source": [
    "yhat['Becsült ár Reg Fa'] = GRID_DT.best_estimator_.predict(X)\n",
    "yhat['Árkülönbség Reg Fa'] = yhat['Tényleges ár'] - yhat['Becsült ár Reg Fa']"
   ]
  },
  {
   "cell_type": "code",
   "execution_count": 120,
   "metadata": {},
   "outputs": [
    {
     "data": {
      "text/html": [
       "<div>\n",
       "<style scoped>\n",
       "    .dataframe tbody tr th:only-of-type {\n",
       "        vertical-align: middle;\n",
       "    }\n",
       "\n",
       "    .dataframe tbody tr th {\n",
       "        vertical-align: top;\n",
       "    }\n",
       "\n",
       "    .dataframe thead th {\n",
       "        text-align: right;\n",
       "    }\n",
       "</style>\n",
       "<table border=\"1\" class=\"dataframe\">\n",
       "  <thead>\n",
       "    <tr style=\"text-align: right;\">\n",
       "      <th></th>\n",
       "      <th>Tényleges ár</th>\n",
       "      <th>Becsült ár LinReg</th>\n",
       "      <th>Árkülönbség LinReg</th>\n",
       "      <th>Becsült ár Reg Fa</th>\n",
       "      <th>Árkülönbség Reg Fa</th>\n",
       "    </tr>\n",
       "    <tr>\n",
       "      <th>Síterep</th>\n",
       "      <th></th>\n",
       "      <th></th>\n",
       "      <th></th>\n",
       "      <th></th>\n",
       "      <th></th>\n",
       "    </tr>\n",
       "  </thead>\n",
       "  <tbody>\n",
       "    <tr>\n",
       "      <th>Kreischberg - Murau</th>\n",
       "      <td>58.0</td>\n",
       "      <td>53.636598</td>\n",
       "      <td>4.363402</td>\n",
       "      <td>56.8</td>\n",
       "      <td>1.2</td>\n",
       "    </tr>\n",
       "  </tbody>\n",
       "</table>\n",
       "</div>"
      ],
      "text/plain": [
       "                     Tényleges ár  Becsült ár LinReg  Árkülönbség LinReg  \\\n",
       "Síterep                                                                    \n",
       "Kreischberg - Murau          58.0          53.636598            4.363402   \n",
       "\n",
       "                     Becsült ár Reg Fa  Árkülönbség Reg Fa  \n",
       "Síterep                                                     \n",
       "Kreischberg - Murau               56.8                 1.2  "
      ]
     },
     "execution_count": 120,
     "metadata": {},
     "output_type": "execute_result"
    }
   ],
   "source": [
    "yhat[yhat.index.str.contains('Murau')]"
   ]
  },
  {
   "cell_type": "code",
   "execution_count": null,
   "metadata": {},
   "outputs": [],
   "source": []
  },
  {
   "cell_type": "code",
   "execution_count": null,
   "metadata": {},
   "outputs": [],
   "source": []
  },
  {
   "cell_type": "markdown",
   "metadata": {},
   "source": [
    "## Klaszterezés\n",
    "Vannak-e adataiban hasonlító síterepek, síterepcsoportok? Mennyire választhatók klaszterekbe az osztrák síterepek?"
   ]
  },
  {
   "cell_type": "code",
   "execution_count": 121,
   "metadata": {},
   "outputs": [],
   "source": [
    "from sklearn.preprocessing import StandardScaler, MinMaxScaler\n",
    "from sklearn.metrics import silhouette_score, davies_bouldin_score, calinski_harabasz_score\n",
    "\n",
    "from sklearn.decomposition import PCA\n",
    "from sklearn.cluster import KMeans\n",
    "\n",
    "def return_scaled_dataframe(dataframe, scaler = StandardScaler()):\n",
    "    \n",
    "    to_scale_features = dataframe.select_dtypes([np.number]).columns\n",
    "    scaled_features = dataframe[to_scale_features].copy()\n",
    "    scaled_columns = scaled_features.columns\n",
    "    scaled_features[scaled_columns] = scaler.fit_transform(scaled_features)\n",
    "\n",
    "    return scaled_features\n",
    "\n",
    "\n",
    "def clustering_metrics(data):\n",
    "    \n",
    "    Sum_of_squared_distances = []\n",
    "    Silhouette_value = []\n",
    "    Calinski_Harabasz = []\n",
    "    Davies_Bouldin = []\n",
    "\n",
    "    K = range(2, 20 + 1)\n",
    "\n",
    "    for k in K:\n",
    "\n",
    "        km = KMeans(n_clusters = k, n_init = 20, max_iter = 500, random_state = 20202020)\n",
    "        km = km.fit(data)\n",
    "        labels = km.labels_\n",
    "\n",
    "        Sum_of_squared_distances.append(km.inertia_)\n",
    "        Silhouette_value.append(silhouette_score(data, labels, metric = 'euclidean'))\n",
    "        Calinski_Harabasz.append(calinski_harabasz_score(data, labels))\n",
    "        Davies_Bouldin.append(davies_bouldin_score(data, labels))\n",
    "\n",
    "    fig, ax = plt.subplots(ncols = 2, nrows = 2, figsize = (12, 7))\n",
    "\n",
    "    sns.pointplot(x = list(K), y = Sum_of_squared_distances, markers = 'x', s = 10, ax = ax[0, 0])\n",
    "    sns.pointplot(x = list(K), y = Silhouette_value, markers = 'x', s = 10, ax = ax[1, 0])\n",
    "    sns.pointplot(x = list(K), y = Calinski_Harabasz, markers = 'x', s = 10, ax = ax[0, 1])\n",
    "    sns.pointplot(x = list(K), y = Davies_Bouldin, markers = 'x', s = 10, ax = ax[1, 1])\n",
    "\n",
    "    ax[0, 0].title.set_text('Sum of squared distances (\"elbow\")')\n",
    "    ax[1, 0].title.set_text('Silhouette value')\n",
    "    ax[0, 1].title.set_text('Calinski-Harabasz')\n",
    "    ax[1, 1].title.set_text('Davies-Bouldin')\n",
    "\n",
    "    plt.show()\n",
    "\n",
    "def plot_clusters(data, x, y, hover_data = []):\n",
    "    \n",
    "    fig = px.scatter(data, x = x, y = y, color = 'clusters', hover_data = hover_data,\n",
    "                     title = 'Clusters plotted via reduced dimensionality', \n",
    "                     width = 750, height = 550)\n",
    "    fig.update_layout(showlegend=True)\n",
    "    fig.show()\n",
    "\n",
    "def show_diff_between_clusters(data, height = 1450):\n",
    "    \n",
    "    fig = px.box(data_frame = data, y = 'value', x = 'clusters', color = 'clusters',\n",
    "                 facet_row_spacing = 0.05, facet_col_spacing = 0.05,\n",
    "                  title = 'Distribution differences across clusters', facet_col = 'stat', facet_col_wrap = 3,\n",
    "                  width = 950, height = height)\n",
    "\n",
    "    fig.update_xaxes(visible = True, showticklabels = True, title = None, matches = None, type = 'category', categoryorder='category ascending')\n",
    "    fig.update_yaxes(visible = True, showticklabels = True, title = None, matches = None)\n",
    "    fig.for_each_annotation(lambda a: a.update(text = a.text.split('=')[-1]))\n",
    "    fig.update_traces(marker = {'size' : 4}, line = {'width' : 1})\n",
    "    fig.update_layout(showlegend=False)\n",
    "    fig.show()"
   ]
  },
  {
   "cell_type": "code",
   "execution_count": 122,
   "metadata": {},
   "outputs": [],
   "source": [
    "df_cluster = data.drop(['Link', 'Régió', 'Szezon eleje', 'Szezon vége', 'Távolság Budapesttől', 'Húzólift', 'Parkoló', \n",
    "                        'Piros', 'Kék', 'Fekete', 'Vonat', 'Kombilift', 'Nagykabinos lift'], 1).copy() #'Felnőtt napijegy ára'\n",
    "df_cluster.set_index('Síterep', inplace = True)"
   ]
  },
  {
   "cell_type": "code",
   "execution_count": 123,
   "metadata": {},
   "outputs": [],
   "source": [
    "df_cluster_scaled = return_scaled_dataframe(df_cluster)"
   ]
  },
  {
   "cell_type": "code",
   "execution_count": 124,
   "metadata": {},
   "outputs": [],
   "source": [
    "df_cluster_scaled.dropna(inplace = True)"
   ]
  },
  {
   "cell_type": "code",
   "execution_count": 125,
   "metadata": {},
   "outputs": [
    {
     "data": {
      "image/png": "[encoded data removed]",
      "text/plain": [
       "<Figure size 864x504 with 4 Axes>"
      ]
     },
     "metadata": {
      "needs_background": "light"
     },
     "output_type": "display_data"
    }
   ],
   "source": [
    "clustering_metrics(df_cluster_scaled)"
   ]
  },
  {
   "cell_type": "code",
   "execution_count": 126,
   "metadata": {},
   "outputs": [
    {
     "data": {
      "text/html": [
       "<div>\n",
       "<style scoped>\n",
       "    .dataframe tbody tr th:only-of-type {\n",
       "        vertical-align: middle;\n",
       "    }\n",
       "\n",
       "    .dataframe tbody tr th {\n",
       "        vertical-align: top;\n",
       "    }\n",
       "\n",
       "    .dataframe thead th {\n",
       "        text-align: right;\n",
       "    }\n",
       "</style>\n",
       "<table border=\"1\" class=\"dataframe\">\n",
       "  <thead>\n",
       "    <tr style=\"text-align: right;\">\n",
       "      <th></th>\n",
       "      <th>Explained variance %</th>\n",
       "      <th>Hegytető</th>\n",
       "      <th>Sípályák hossza</th>\n",
       "      <th>Szintkülönbség</th>\n",
       "      <th>Liftek száma</th>\n",
       "      <th>Felnőtt napijegy ára</th>\n",
       "      <th>Ülőlift</th>\n",
       "      <th>Kiskabinos lift</th>\n",
       "      <th>Kék arány</th>\n",
       "      <th>Piros arány</th>\n",
       "      <th>Fekete arány</th>\n",
       "    </tr>\n",
       "  </thead>\n",
       "  <tbody>\n",
       "    <tr>\n",
       "      <th>0</th>\n",
       "      <td>55.915847</td>\n",
       "      <td>0.306015</td>\n",
       "      <td>0.407286</td>\n",
       "      <td>0.340017</td>\n",
       "      <td>0.398679</td>\n",
       "      <td>0.346310</td>\n",
       "      <td>0.388196</td>\n",
       "      <td>0.377272</td>\n",
       "      <td>-0.151609</td>\n",
       "      <td>0.104279</td>\n",
       "      <td>0.138187</td>\n",
       "    </tr>\n",
       "    <tr>\n",
       "      <th>1</th>\n",
       "      <td>19.451105</td>\n",
       "      <td>-0.307360</td>\n",
       "      <td>0.224891</td>\n",
       "      <td>-0.201481</td>\n",
       "      <td>0.260523</td>\n",
       "      <td>-0.153410</td>\n",
       "      <td>0.259623</td>\n",
       "      <td>0.242081</td>\n",
       "      <td>0.540632</td>\n",
       "      <td>-0.461929</td>\n",
       "      <td>-0.302132</td>\n",
       "    </tr>\n",
       "    <tr>\n",
       "      <th>2</th>\n",
       "      <td>10.050544</td>\n",
       "      <td>0.301595</td>\n",
       "      <td>-0.111025</td>\n",
       "      <td>0.245715</td>\n",
       "      <td>-0.153875</td>\n",
       "      <td>0.232296</td>\n",
       "      <td>-0.148683</td>\n",
       "      <td>-0.122932</td>\n",
       "      <td>0.333507</td>\n",
       "      <td>-0.605961</td>\n",
       "      <td>0.493016</td>\n",
       "    </tr>\n",
       "    <tr>\n",
       "      <th>3</th>\n",
       "      <td>6.862031</td>\n",
       "      <td>-0.300445</td>\n",
       "      <td>0.145292</td>\n",
       "      <td>-0.354836</td>\n",
       "      <td>0.150030</td>\n",
       "      <td>-0.323066</td>\n",
       "      <td>0.126378</td>\n",
       "      <td>0.058640</td>\n",
       "      <td>-0.255491</td>\n",
       "      <td>-0.063718</td>\n",
       "      <td>0.739654</td>\n",
       "    </tr>\n",
       "    <tr>\n",
       "      <th>4</th>\n",
       "      <td>2.757178</td>\n",
       "      <td>-0.101402</td>\n",
       "      <td>-0.116888</td>\n",
       "      <td>0.211157</td>\n",
       "      <td>-0.081585</td>\n",
       "      <td>-0.180351</td>\n",
       "      <td>-0.523119</td>\n",
       "      <td>0.785209</td>\n",
       "      <td>-0.018465</td>\n",
       "      <td>0.000959</td>\n",
       "      <td>0.041679</td>\n",
       "    </tr>\n",
       "  </tbody>\n",
       "</table>\n",
       "</div>"
      ],
      "text/plain": [
       "   Explained variance %   Hegytető  Sípályák hossza  Szintkülönbség  \\\n",
       "0              55.915847  0.306015         0.407286        0.340017   \n",
       "1              19.451105 -0.307360         0.224891       -0.201481   \n",
       "2              10.050544  0.301595        -0.111025        0.245715   \n",
       "3               6.862031 -0.300445         0.145292       -0.354836   \n",
       "4               2.757178 -0.101402        -0.116888        0.211157   \n",
       "\n",
       "   Liftek száma  Felnőtt napijegy ára   Ülőlift  Kiskabinos lift  Kék arány  \\\n",
       "0      0.398679              0.346310  0.388196         0.377272  -0.151609   \n",
       "1      0.260523             -0.153410  0.259623         0.242081   0.540632   \n",
       "2     -0.153875              0.232296 -0.148683        -0.122932   0.333507   \n",
       "3      0.150030             -0.323066  0.126378         0.058640  -0.255491   \n",
       "4     -0.081585             -0.180351 -0.523119         0.785209  -0.018465   \n",
       "\n",
       "   Piros arány  Fekete arány  \n",
       "0     0.104279      0.138187  \n",
       "1    -0.461929     -0.302132  \n",
       "2    -0.605961      0.493016  \n",
       "3    -0.063718      0.739654  \n",
       "4     0.000959      0.041679  "
      ]
     },
     "execution_count": 126,
     "metadata": {},
     "output_type": "execute_result"
    }
   ],
   "source": [
    "pca = PCA(random_state = 20202020)\n",
    "pca.fit(df_cluster_scaled)\n",
    "\n",
    "comp = pd.DataFrame(pca.components_, columns = df_cluster_scaled.columns)\n",
    "exp_var = pd.DataFrame(pca.explained_variance_ratio_ * 100, columns = ['Explained variance % '])\n",
    "\n",
    "pca_results = pd.concat([exp_var, comp], 1)\n",
    "pca_results.head()"
   ]
  },
  {
   "cell_type": "code",
   "execution_count": 127,
   "metadata": {},
   "outputs": [
    {
     "data": {
      "text/html": [
       "<div>\n",
       "<style scoped>\n",
       "    .dataframe tbody tr th:only-of-type {\n",
       "        vertical-align: middle;\n",
       "    }\n",
       "\n",
       "    .dataframe tbody tr th {\n",
       "        vertical-align: top;\n",
       "    }\n",
       "\n",
       "    .dataframe thead th {\n",
       "        text-align: right;\n",
       "    }\n",
       "</style>\n",
       "<table border=\"1\" class=\"dataframe\">\n",
       "  <thead>\n",
       "    <tr style=\"text-align: right;\">\n",
       "      <th></th>\n",
       "      <th>Síterep</th>\n",
       "      <th>PCA_1</th>\n",
       "      <th>PCA_2</th>\n",
       "      <th>clusters</th>\n",
       "    </tr>\n",
       "  </thead>\n",
       "  <tbody>\n",
       "    <tr>\n",
       "      <th>0</th>\n",
       "      <td>Abtenau im Lammertal - Karkogel</td>\n",
       "      <td>-1.234031</td>\n",
       "      <td>-0.047715</td>\n",
       "      <td>0</td>\n",
       "    </tr>\n",
       "    <tr>\n",
       "      <th>1</th>\n",
       "      <td>Achenkirch - Christlum</td>\n",
       "      <td>0.516185</td>\n",
       "      <td>-1.389529</td>\n",
       "      <td>2</td>\n",
       "    </tr>\n",
       "    <tr>\n",
       "      <th>2</th>\n",
       "      <td>Aflenz - Bürgeralm</td>\n",
       "      <td>-0.202163</td>\n",
       "      <td>-1.856722</td>\n",
       "      <td>2</td>\n",
       "    </tr>\n",
       "  </tbody>\n",
       "</table>\n",
       "</div>"
      ],
      "text/plain": [
       "                           Síterep     PCA_1     PCA_2 clusters\n",
       "0  Abtenau im Lammertal - Karkogel -1.234031 -0.047715        0\n",
       "1           Achenkirch - Christlum  0.516185 -1.389529        2\n",
       "2               Aflenz - Bürgeralm -0.202163 -1.856722        2"
      ]
     },
     "execution_count": 127,
     "metadata": {},
     "output_type": "execute_result"
    }
   ],
   "source": [
    "CLUST_NUMBER = 3\n",
    "\n",
    "PCAs = pd.DataFrame(pca.transform(df_cluster_scaled))[[0, 1]]\n",
    "PCAs.columns = ['PCA_1', 'PCA_2']\n",
    "\n",
    "km = KMeans(n_clusters = CLUST_NUMBER, n_init = 20, max_iter = 500, random_state = 20202020).fit(df_cluster_scaled)\n",
    "km = pd.DataFrame(km.predict(df_cluster_scaled), columns = ['clusters'])\n",
    "kmeans_results = pd.concat([pd.Series(df_cluster_scaled.index), PCAs, km], 1)\n",
    "kmeans_results.clusters = kmeans_results.clusters.astype('object')\n",
    "\n",
    "kmeans_results.head(3)"
   ]
  },
  {
   "cell_type": "code",
   "execution_count": 128,
   "metadata": {},
   "outputs": [
    {
     "data": {
      "text/plain": [
       "2    109\n",
       "0     92\n",
       "1     16\n",
       "Name: clusters, dtype: int64"
      ]
     },
     "execution_count": 128,
     "metadata": {},
     "output_type": "execute_result"
    }
   ],
   "source": [
    "kmeans_results.clusters.value_counts()"
   ]
  },
  {
   "cell_type": "code",
   "execution_count": 129,
   "metadata": {},
   "outputs": [
    {
     "data": {
      "application/vnd.plotly.v1+json": {
       "config": {
        "plotlyServerURL": "https://plot.ly"
       },
       "data": [
        {
         "customdata": [
          [
           "Abtenau im Lammertal - Karkogel"
          ],
          [
           "Alberschwende"
          ],
          [
           "Berg im Drautal - Emberger Alm"
          ],
          [
           "Birkenlift"
          ],
          [
           "Brandlift - Scharnitz"
          ],
          [
           "Bregenz - Pfänder"
          ],
          [
           "Brunnalm - Hohe Veitsch"
          ],
          [
           "Dürrnberg - Hallein / Zinken"
          ],
          [
           "Eben - Monte Popolo"
          ],
          [
           "Eberstein - Saualpe"
          ],
          [
           "Ehrwald - Wettersteinbahnen"
          ],
          [
           "Embach - Hörndl"
          ],
          [
           "Falkert - Heidi Alm Skipark"
          ],
          [
           "Faschina (Fontanella)"
          ],
          [
           "Flattnitz"
          ],
          [
           "Forsteralm"
          ],
          [
           "Furx"
          ],
          [
           "Gaaler Lifte"
          ],
          [
           "Gaberl - Plankogel"
          ],
          [
           "Gaissau - Hintersee"
          ],
          [
           "Gitschtal - Weißbriach"
          ],
          [
           "Goldegg"
          ],
          [
           "Harmanschlag - Arralifte"
          ],
          [
           "Hauereck - St. Kathrein am Hauenstein"
          ],
          [
           "Hittisau - Alpenarena Hochhäderich"
          ],
          [
           "Hittisau - Hittisberg"
          ],
          [
           "Hochficht"
          ],
          [
           "Holzgau - Gföllberglift"
          ],
          [
           "Holzmeisterlifte Sommeralm"
          ],
          [
           "Jungholz"
          ],
          [
           "Jöchelspitze (Lechtal)"
          ],
          [
           "Kaiserau - Admont"
          ],
          [
           "Karlstift - Aichelberglifte"
          ],
          [
           "Kelchsau"
          ],
          [
           "Kirchdorf in Tirol"
          ],
          [
           "Kirchschlag"
          ],
          [
           "Kleinlobming"
          ],
          [
           "Klippitztörl"
          ],
          [
           "Koralpe"
          ],
          [
           "Königsberg"
          ],
          [
           "Kötschach - Mauthen"
          ],
          [
           "Leutasch"
          ],
          [
           "Lunz am See - Maiszinken"
          ],
          [
           "Maria Neustift - Glasenberg"
          ],
          [
           "Mariazell - Bürgeralpe"
          ],
          [
           "Mieders - Serles"
          ],
          [
           "Modriach"
          ],
          [
           "Mönichwald"
          ],
          [
           "Nesselwängle"
          ],
          [
           "Niederalpl - Mürzsteg"
          ],
          [
           "Obdach - Rieseralm"
          ],
          [
           "Obsteig - Grünberg"
          ],
          [
           "Pertisau - Karwendel"
          ],
          [
           "Piesendorf - Erlebnisberg Nagelköpfel"
          ],
          [
           "Postalm"
          ],
          [
           "Prägraten am Großvenediger"
          ],
          [
           "Puchberg am Schneeberg - Wunderwiese"
          ],
          [
           "Puchenstuben"
          ],
          [
           "Raggal - Marul"
          ],
          [
           "Ramsau - Rittisberg"
          ],
          [
           "Riefensberg - Hochlitten"
          ],
          [
           "Rohr im Gebirge - Furtnerlifte"
          ],
          [
           "Salzstiegl"
          ],
          [
           "Sandl - Viehberg"
          ],
          [
           "Schattwald - Zöblen im Tannheimertal"
          ],
          [
           "Schetteregg"
          ],
          [
           "Schneeberg - Hagerlifte"
          ],
          [
           "Schwaz - Kellerjoch"
          ],
          [
           "Semmering - Hirschenkogel"
          ],
          [
           "Simonhöhe - Sankt Urban"
          ],
          [
           "Ski Arena Seefeld - Mösern - Gschwandtkopf"
          ],
          [
           "Sommeralm - Pirstingerkogellift"
          ],
          [
           "St. Corona am Wechsel - Wexl Arena"
          ],
          [
           "St. Georgen am Walde - Schorschi-Lifte"
          ],
          [
           "St. Jakob im Walde"
          ],
          [
           "St. Martin am Tennengebirge"
          ],
          [
           "Stans"
          ],
          [
           "Stanzach"
          ],
          [
           "Steinberg - Rofan"
          ],
          [
           "Sternstein"
          ],
          [
           "Teichalm"
          ],
          [
           "Tirolina - Haltjochlift"
          ],
          [
           "Unken - Heutal"
          ],
          [
           "Unterberg"
          ],
          [
           "Unterbergen - Bodental"
          ],
          [
           "Wald am Schoberpass"
          ],
          [
           "Weinebene"
          ],
          [
           "Weissensee"
          ],
          [
           "Wenigzell"
          ],
          [
           "Weyregg am Attersee - Wachtberglifte"
          ],
          [
           "Übersaxen - Gröllerkopf"
          ],
          [
           "Zahmer Kaiser - Durchholzen"
          ]
         ],
         "hovertemplate": "clusters=0<br>PCA_1=%{x}<br>PCA_2=%{y}<br>Síterep=%{customdata[0]}<extra></extra>",
         "legendgroup": "0",
         "marker": {
          "color": "#636efa",
          "symbol": "circle"
         },
         "mode": "markers",
         "name": "0",
         "orientation": "v",
         "showlegend": true,
         "type": "scatter",
         "x": [
          -1.234030696821863,
          -1.946220465027606,
          -1.0668291719129874,
          -2.6758666174508594,
          -3.421687472476631,
          -2.6682836143486632,
          -1.0877192867085754,
          -1.2992156470393181,
          -1.0794237011903156,
          -2.667387536638353,
          -0.6887323638940201,
          -2.2357934931806667,
          -1.1957876217459877,
          -1.1971543099202713,
          -1.12346168373609,
          -2.8054315350205594,
          -2.6207658254581165,
          -1.5142464103584201,
          -1.8932826332631496,
          -0.7176215291909147,
          -1.6612693692042904,
          -1.9236304187330497,
          -2.53983330814869,
          -1.6538311742459215,
          -1.0786860423487694,
          -2.5563234676262234,
          -0.516285493739295,
          -2.265793147033327,
          -2.4303834631793513,
          -1.4796195503976366,
          -1.0419060258551158,
          -2.1444249514542153,
          -2.0729872834604692,
          -1.381248199250591,
          -3.263790507643608,
          -2.7656105815212686,
          -2.013059596762238,
          -1.103524278712557,
          -0.9356697768945331,
          -1.77161213610573,
          -1.775843498876928,
          -1.8277110562677261,
          -2.2677401627086122,
          -2.9741562915675135,
          -1.212390070108466,
          -0.9297678231919075,
          -2.660341011463057,
          -1.7311703324847878,
          -0.8487552762585215,
          -1.3092776543727898,
          -1.4521061687907162,
          -2.7802718142664866,
          -1.309107214178024,
          -2.3077247293153906,
          -1.463814556277361,
          -1.9102893263764882,
          -1.7982474877757515,
          -2.3846884764326637,
          -2.2557724782920086,
          -0.8128550789698974,
          -1.8998295256037445,
          -2.1257010659639017,
          -1.096770633916498,
          -3.032328614190509,
          -0.8523932061827341,
          -1.2195326856599207,
          -2.059631999572132,
          -1.206200563639465,
          -1.3167468739521628,
          -1.7359135659285585,
          -1.6294929144108736,
          -1.8560561959132835,
          -2.9172033429580844,
          -3.4174761090325587,
          -1.8447706332896054,
          -2.3636326674519603,
          -3.208230498344721,
          -2.932485710699706,
          -1.9350911772189159,
          -1.6005098426860147,
          -1.4146641342402089,
          -2.140884680048928,
          -1.556743677200058,
          -1.6763129789331193,
          -2.2601044362798555,
          -1.5589429192724231,
          -0.9977112311579792,
          -1.5614308117988387,
          -2.8074794413098347,
          -2.5203621699367287,
          -2.306568127893904,
          -2.122654911805978
         ],
         "xaxis": "x",
         "y": [
          -0.04771451981645652,
          -0.10473721127410122,
          -0.2775849997342088,
          2.7445432439443715,
          3.003709943647547,
          2.730873062518315,
          -0.6389640995715012,
          -0.8633640834083683,
          0.6990945836264623,
          2.4404287788762202,
          0.6786676133706152,
          1.093475665520495,
          -1.0910131952076692,
          1.3421451583834334,
          0.20263014011351557,
          2.7805045744333428,
          1.894823253732832,
          -0.004748175936069693,
          0.44574486855840645,
          0.9669927272381492,
          -0.7544526288961105,
          1.5560243098367856,
          0.7172340916389323,
          -0.023261768407124118,
          -0.6923113753556678,
          0.7597742334247651,
          0.32624251477956584,
          0.8303285470154169,
          1.1610644806123673,
          1.2148799011593285,
          -0.12991142103878084,
          1.0704476841984993,
          0.1908044598816667,
          0.6131733049985181,
          3.124797731342533,
          1.4991391815097204,
          -0.8070161226864706,
          0.8600292388203785,
          -0.6584422342353188,
          0.4533656042513772,
          1.0342759668314925,
          0.718872182779471,
          0.26252369816371846,
          1.839357392430555,
          0.7846338388622986,
          -0.5129096362392597,
          2.0770793319810656,
          -0.625481614858457,
          -0.5179206166406057,
          -0.4002681392008496,
          -0.54289078981722,
          1.9202839220632397,
          0.21938500110040643,
          -0.3869983411118779,
          0.7106199480066003,
          0.12853054823229318,
          0.3472317211166329,
          0.8610721814346509,
          0.8826238573480178,
          -0.3427155420128251,
          -0.2884386455873691,
          -0.021903879816248452,
          -0.03573243472746394,
          2.8579533449813637,
          -0.3414729377222049,
          -0.25772878270347976,
          -0.47533536731822273,
          0.6264439961319007,
          0.12823575775691132,
          0.7813881467835033,
          2.5302083535094746,
          -0.9301427957576106,
          2.8161544617468404,
          3.12301260079149,
          -0.639191386539288,
          1.0092394696976088,
          3.045494452521481,
          2.8510706179526726,
          -0.47617235173932526,
          -0.9543245379037616,
          -0.9891673685314336,
          0.3724800021478163,
          0.3475055353670765,
          1.0687751232487754,
          0.5362878716995501,
          -0.485588375284058,
          -0.5119660222220519,
          0.6527057031469884,
          2.7720653661791586,
          0.7317630822145159,
          0.49205361785107454,
          1.9692370362519287
         ],
         "yaxis": "y"
        },
        {
         "customdata": [
          [
           "Achenkirch - Christlum"
          ],
          [
           "Aflenz - Bürgeralm"
          ],
          [
           "Altaussee - Loser"
          ],
          [
           "Andelsbuch - Baumgartnerhöhe"
          ],
          [
           "Arnoldstein - Dreiländereck"
          ],
          [
           "Axamer Lizum"
          ],
          [
           "Bad Gastein - Graukogel"
          ],
          [
           "Bad Hofgastein - Bad Gastein"
          ],
          [
           "Bad Kleinkirchheim"
          ],
          [
           "Bergeralm"
          ],
          [
           "Bergkastel Nauders"
          ],
          [
           "Berwangertal"
          ],
          [
           "Biberwier - Marienberg"
          ],
          [
           "Buchensteinwand - St. Ulrich am Pillersee"
          ],
          [
           "Dachstein West"
          ],
          [
           "Damüls - Mellau"
          ],
          [
           "Diedamskopf"
          ],
          [
           "Ehrwald"
          ],
          [
           "Fageralm"
          ],
          [
           "Fanningberg"
          ],
          [
           "Fendels"
          ],
          [
           "Feuerkogel - Ebensee"
          ],
          [
           "Filzmoos"
          ],
          [
           "Fügen - Spieljoch"
          ],
          [
           "Galsterbergalm"
          ],
          [
           "Galtür - Silvapark"
          ],
          [
           "Gemeindealpe - Mitterbach"
          ],
          [
           "Gerlitzen Alpe"
          ],
          [
           "Glungezer"
          ],
          [
           "Goldeck"
          ],
          [
           "Golm"
          ],
          [
           "Golzentipp - Obertilliach"
          ],
          [
           "Grebenzen - St. Lambrecht"
          ],
          [
           "Grossarltal - Dorfgastein"
          ],
          [
           "Grosseck - Speiereck"
          ],
          [
           "Grossglockner  Kals - Matrei"
          ],
          [
           "Grän - Füssener Jöchle"
          ],
          [
           "Hahnenkamm - Höfen - Reutte"
          ],
          [
           "Heiligenblut am Grossglockner"
          ],
          [
           "Hinterstoder"
          ],
          [
           "Hintertux gleccser"
          ],
          [
           "Hirschegg - Heuberg - Walmendingerhorn - Ifen"
          ],
          [
           "Hochkar"
          ],
          [
           "Hochrindl - Sirnitz - Deutsch Griffen"
          ],
          [
           "Hochzeiger -  Pitztal"
          ],
          [
           "Hohentauern - Moscher"
          ],
          [
           "Ifen"
          ],
          [
           "Imst / Hoch-Imst"
          ],
          [
           "Innerkrems"
          ],
          [
           "Kappl"
          ],
          [
           "Kaprun - Kitzsteinhorn / Maiskogel"
          ],
          [
           "Kasberg - Grünau"
          ],
          [
           "Katschberg - Aineck"
          ],
          [
           "Kaunertal gleccser"
          ],
          [
           "Kleinarl, Flachauwinkl - Shuttleberg"
          ],
          [
           "Kreischberg - Murau"
          ],
          [
           "Krippenstein - Dachstein"
          ],
          [
           "Kühtai"
          ],
          [
           "Kössen - Hochkössen"
          ],
          [
           "Lachtal"
          ],
          [
           "Lackenhof am Ötscher"
          ],
          [
           "Laterns - Gapfohl"
          ],
          [
           "Lermoos - Grubigstein"
          ],
          [
           "Lienz - Hochstein"
          ],
          [
           "Lienz - Zettersfeld"
          ],
          [
           "Lofer"
          ],
          [
           "Mallnitz - Ankogel"
          ],
          [
           "Maurach - Rofan"
          ],
          [
           "Muttereralm"
          ],
          [
           "Mölltal gleccser"
          ],
          [
           "Nassfeld - Hermagor"
          ],
          [
           "Neustift - Elfer"
          ],
          [
           "Nordkette - Innsbruck"
          ],
          [
           "Obertauern"
          ],
          [
           "Patscherkofel"
          ],
          [
           "Petzen"
          ],
          [
           "Pitztal gleccser"
          ],
          [
           "Planneralm"
          ],
          [
           "Präbichl"
          ],
          [
           "Radstadt - Altenmarkt"
          ],
          [
           "Rangger Köpfl"
          ],
          [
           "Rauris - Hochalmbahnen"
          ],
          [
           "Riesneralm"
          ],
          [
           "Rifflsee"
          ],
          [
           "Schlick 2000 - Fulpmes"
          ],
          [
           "Schwarzenberg - Bödele"
          ],
          [
           "See"
          ],
          [
           "Semmering - Stuhleck"
          ],
          [
           "Sillian - Hochpustertal"
          ],
          [
           "Ski Arena Seefeld - Rosshütte & Härmelekopf"
          ],
          [
           "Sonnenkopf - Klostertal"
          ],
          [
           "Sportgastein"
          ],
          [
           "St. Jakob im Defereggental"
          ],
          [
           "St. Johann in Tirol"
          ],
          [
           "Stubai gleccser"
          ],
          [
           "Tannheim - Neunerköpfle"
          ],
          [
           "Tauplitz"
          ],
          [
           "Turnau - Schwabenbergarena"
          ],
          [
           "Turracher Höhe"
          ],
          [
           "Venet - Landeck - Zams - Fliess"
          ],
          [
           "Vent"
          ],
          [
           "Weisssee - Uttendorf"
          ],
          [
           "Werfenweng"
          ],
          [
           "Wildkogel Arena - Neukirchen Bramberg"
          ],
          [
           "Winklmoosalm - Steinplatte"
          ],
          [
           "Wurzeralm - Spital am Pyhrn"
          ],
          [
           "Zauchensee"
          ],
          [
           "Zell am See - Schmittenhöhe"
          ],
          [
           "Ötz - Hochötz"
          ]
         ],
         "hovertemplate": "clusters=2<br>PCA_1=%{x}<br>PCA_2=%{y}<br>Síterep=%{customdata[0]}<extra></extra>",
         "legendgroup": "2",
         "marker": {
          "color": "#EF553B",
          "symbol": "circle"
         },
         "mode": "markers",
         "name": "2",
         "orientation": "v",
         "showlegend": true,
         "type": "scatter",
         "x": [
          0.5161850959826635,
          -0.2021630557804554,
          -0.15120963755949376,
          -0.6087191667006999,
          -0.4076798277857976,
          0.9561656997078042,
          -0.14858746351226435,
          3.0123460587003703,
          2.6034732527209687,
          0.5195237723621848,
          1.9750130544844589,
          0.17854390605535203,
          -0.5979391448028192,
          -0.6226286793220964,
          1.5506188986716933,
          2.54689477894336,
          1.0432470940542327,
          -0.06441014147340353,
          -0.06271774025337809,
          -0.11255724179261585,
          -0.18677321201902966,
          -0.3879786928200393,
          -0.18329452737432064,
          1.4951784767054146,
          0.194197864608205,
          0.898272175366366,
          -0.6593380509405469,
          1.578221944094947,
          0.3680919466761769,
          0.8598694300682365,
          0.8939766866814723,
          -0.18467464806481845,
          -0.06417357975975663,
          2.2714846025978623,
          1.1172799230045056,
          2.1111149547482726,
          -0.5167236340424552,
          -0.11199941863779223,
          1.8745122652225787,
          1.3340154188742772,
          3.7255259763247803,
          0.35230430973011345,
          -0.1499929777543569,
          -0.5407147667705561,
          1.0171378491965557,
          -0.8829549535623431,
          0.06027749287299254,
          -0.09728434663772466,
          0.13800276757662527,
          1.4192944961289782,
          3.6929150734864216,
          -0.06634921387000503,
          2.034143227974613,
          1.4909181325217402,
          0.7525799333426134,
          1.359978056753779,
          0.3900251653096939,
          1.1257802702901396,
          0.08381519160954395,
          0.23284463400238095,
          -0.4824619723271955,
          -0.29163895039479726,
          0.7069712628006062,
          0.8064045972529027,
          0.2017437764088795,
          0.11210868565640664,
          1.0522578189186156,
          -0.1482662076091732,
          -0.2765994097920399,
          1.6785968737182972,
          3.30932813902509,
          -0.10865046512831687,
          0.30718666493923574,
          2.299247497566804,
          -0.02141795437357918,
          -0.3293775368714754,
          1.2073989214227825,
          -0.19975660167518963,
          -0.4577129533475108,
          0.1701696548075577,
          -0.3087591730511397,
          0.7622177467982347,
          -0.3205442211496511,
          0.8383843777563379,
          0.48941837125890963,
          -0.4515486951452667,
          1.697000341157195,
          -0.16692303692914412,
          1.038032502138488,
          0.05395499300096965,
          0.6867170910552829,
          1.063043052454953,
          1.0020966313698862,
          0.6617421578821888,
          3.6139259589039225,
          -0.3928538517149731,
          0.8119791805106867,
          -0.9145742337931264,
          0.8477669557180452,
          0.6189179699923038,
          -0.17862128960137993,
          0.734757340612533,
          0.109179446831726,
          2.1641756837270014,
          1.2027015549778017,
          0.01058483392731298,
          1.725425565504517,
          3.376145096241045,
          1.0065822487012175
         ],
         "xaxis": "x",
         "y": [
          -1.3895291510566443,
          -1.85672171640024,
          0.5871498085345269,
          -0.11783640288014167,
          -1.0151638569925545,
          -1.7192136500090764,
          -1.4163556486284488,
          -0.14977779329205293,
          -0.5707954946725348,
          -1.2950843720493515,
          -1.1984246834933556,
          0.43455002615296634,
          0.47794375363300057,
          -0.35750257855268647,
          -0.08253314613969236,
          0.08756940777817927,
          -1.1580376312745646,
          0.5919202344432989,
          -0.4789820880824053,
          -0.6298091324683283,
          -0.7208868820002279,
          0.3064074736750983,
          -0.17513871238848647,
          -1.815716997003053,
          -1.104201244063658,
          -1.8179178446592645,
          -0.3275940488395258,
          -0.7734466406541833,
          -1.5102460409174048,
          -1.6246387277187515,
          -0.18250697265750893,
          -1.4390226028932687,
          -1.2986095288222497,
          0.2422878753498788,
          -0.19079151147114728,
          -1.5434966870724234,
          -0.8629719788328526,
          -1.1927208419488218,
          -1.3121690308802103,
          -1.2175082319348964,
          -1.6541715631701621,
          0.32693749595596067,
          -0.7325300124321881,
          -1.1379709843857573,
          -1.519722620827674,
          -1.1323056668483171,
          -0.22227892894452572,
          -1.4982221222650076,
          -1.4889863150707476,
          -1.8207921845012953,
          -0.6264176189515945,
          0.33072069223505013,
          -1.4361067898595414,
          -1.2525971538197092,
          0.7080397630929213,
          -0.6195247286531922,
          -1.7863730770310644,
          -1.4211392285892723,
          -0.14710451766651336,
          -1.2925625165456904,
          -0.6033174996636788,
          -1.0379078859667794,
          0.07613703300119662,
          -3.032320073917445,
          -0.8464073763480272,
          1.1414697553486675,
          -2.6730331630166573,
          -2.1324518610456273,
          -0.34012274381882435,
          -1.8159320727072963,
          0.03159779369963736,
          -2.696527769125487,
          -2.5963661752672773,
          1.7199399692971171,
          -1.4620519751035599,
          -0.17395199648252105,
          -2.3887854374009097,
          -1.8321873714019645,
          -0.8197925809234561,
          0.20584085682413308,
          -0.15736220398787157,
          -0.465768998278507,
          0.5098218584372773,
          -2.1160951465559377,
          -0.12885611985897308,
          -0.4714215575373384,
          -1.7998636023334753,
          1.2179311718431178,
          -1.6191487320001732,
          0.19477136479670837,
          -0.6217450926498291,
          -2.3717854659786304,
          -1.796353383213176,
          -0.06664352643818176,
          -1.0849013007422177,
          -1.1122738152674407,
          -0.22262249866647055,
          -1.7776031298215822,
          -0.7413788685845504,
          -1.5890331397511206,
          -1.2814849871039162,
          -1.561445943845253,
          -0.16093705678558182,
          0.1909060697168884,
          0.09804216105922968,
          -0.4537941333680941,
          0.1106763696765466,
          0.39578297736375523,
          -0.6944039206436614
         ],
         "yaxis": "y"
        },
        {
         "customdata": [
          [
           "Flachau Wagrain St. Johann - Snow Space Salzburg"
          ],
          [
           "Hochkönig"
          ],
          [
           "Hochzillertal - Hochfügen"
          ],
          [
           "Ischgl - Silvretta Arena"
          ],
          [
           "Kitzbühel - Kirchberg - Kitzski"
          ],
          [
           "Mayrhofen - Zillertal"
          ],
          [
           "Obergurgl - Hochgurgl"
          ],
          [
           "Saalbach Hinterglemm Leogang Fieberbrunn"
          ],
          [
           "Schladming 4 hegy"
          ],
          [
           "Serfaus - Fiss - Ladis"
          ],
          [
           "Silvretta Montafon"
          ],
          [
           "Ski Arlberg - St. Anton - Lech - Zürs - Warth"
          ],
          [
           "Ski Juwel - Alpbachtal, Wildschönau"
          ],
          [
           "SkiWelt Wilder Kaiser - Brixental"
          ],
          [
           "Sölden - Ötztal"
          ],
          [
           "Zillertal Arena"
          ]
         ],
         "hovertemplate": "clusters=1<br>PCA_1=%{x}<br>PCA_2=%{y}<br>Síterep=%{customdata[0]}<extra></extra>",
         "legendgroup": "1",
         "marker": {
          "color": "#00cc96",
          "symbol": "circle"
         },
         "mode": "markers",
         "name": "1",
         "orientation": "v",
         "showlegend": true,
         "type": "scatter",
         "x": [
          5.092517801079505,
          3.649410590695433,
          4.317973721474728,
          6.884759562188367,
          6.696811650948135,
          5.767321080429145,
          4.1807630274868615,
          9.767482651816632,
          5.3242284954698285,
          6.330882169223657,
          4.754257425538618,
          10.82639634302216,
          3.7389422082929116,
          8.965347275116745,
          5.618982713148679,
          6.928879329887759
         ],
         "xaxis": "x",
         "y": [
          1.1869109322578364,
          0.9544145021915011,
          0.08372640817653923,
          0.5395887219188468,
          3.54903850530855,
          0.5295413591902133,
          0.897072500180206,
          5.203330269878576,
          1.7166344975588743,
          0.6914052437654569,
          1.663680208821941,
          4.424504169902332,
          0.7222990943316323,
          4.886456151399678,
          0.4105322710462883,
          1.5650261316074594
         ],
         "yaxis": "y"
        }
       ],
       "layout": {
        "height": 550,
        "legend": {
         "title": {
          "text": "clusters"
         },
         "tracegroupgap": 0
        },
        "showlegend": true,
        "template": {
         "data": {
          "bar": [
           {
            "error_x": {
             "color": "#2a3f5f"
            },
            "error_y": {
             "color": "#2a3f5f"
            },
            "marker": {
             "line": {
              "color": "#E5ECF6",
              "width": 0.5
             },
             "pattern": {
              "fillmode": "overlay",
              "size": 10,
              "solidity": 0.2
             }
            },
            "type": "bar"
           }
          ],
          "barpolar": [
           {
            "marker": {
             "line": {
              "color": "#E5ECF6",
              "width": 0.5
             },
             "pattern": {
              "fillmode": "overlay",
              "size": 10,
              "solidity": 0.2
             }
            },
            "type": "barpolar"
           }
          ],
          "carpet": [
           {
            "aaxis": {
             "endlinecolor": "#2a3f5f",
             "gridcolor": "white",
             "linecolor": "white",
             "minorgridcolor": "white",
             "startlinecolor": "#2a3f5f"
            },
            "baxis": {
             "endlinecolor": "#2a3f5f",
             "gridcolor": "white",
             "linecolor": "white",
             "minorgridcolor": "white",
             "startlinecolor": "#2a3f5f"
            },
            "type": "carpet"
           }
          ],
          "choropleth": [
           {
            "colorbar": {
             "outlinewidth": 0,
             "ticks": ""
            },
            "type": "choropleth"
           }
          ],
          "contour": [
           {
            "colorbar": {
             "outlinewidth": 0,
             "ticks": ""
            },
            "colorscale": [
             [
              0,
              "#0d0887"
             ],
             [
              0.1111111111111111,
              "#46039f"
             ],
             [
              0.2222222222222222,
              "#7201a8"
             ],
             [
              0.3333333333333333,
              "#9c179e"
             ],
             [
              0.4444444444444444,
              "#bd3786"
             ],
             [
              0.5555555555555556,
              "#d8576b"
             ],
             [
              0.6666666666666666,
              "#ed7953"
             ],
             [
              0.7777777777777778,
              "#fb9f3a"
             ],
             [
              0.8888888888888888,
              "#fdca26"
             ],
             [
              1,
              "#f0f921"
             ]
            ],
            "type": "contour"
           }
          ],
          "contourcarpet": [
           {
            "colorbar": {
             "outlinewidth": 0,
             "ticks": ""
            },
            "type": "contourcarpet"
           }
          ],
          "heatmap": [
           {
            "colorbar": {
             "outlinewidth": 0,
             "ticks": ""
            },
            "colorscale": [
             [
              0,
              "#0d0887"
             ],
             [
              0.1111111111111111,
              "#46039f"
             ],
             [
              0.2222222222222222,
              "#7201a8"
             ],
             [
              0.3333333333333333,
              "#9c179e"
             ],
             [
              0.4444444444444444,
              "#bd3786"
             ],
             [
              0.5555555555555556,
              "#d8576b"
             ],
             [
              0.6666666666666666,
              "#ed7953"
             ],
             [
              0.7777777777777778,
              "#fb9f3a"
             ],
             [
              0.8888888888888888,
              "#fdca26"
             ],
             [
              1,
              "#f0f921"
             ]
            ],
            "type": "heatmap"
           }
          ],
          "heatmapgl": [
           {
            "colorbar": {
             "outlinewidth": 0,
             "ticks": ""
            },
            "colorscale": [
             [
              0,
              "#0d0887"
             ],
             [
              0.1111111111111111,
              "#46039f"
             ],
             [
              0.2222222222222222,
              "#7201a8"
             ],
             [
              0.3333333333333333,
              "#9c179e"
             ],
             [
              0.4444444444444444,
              "#bd3786"
             ],
             [
              0.5555555555555556,
              "#d8576b"
             ],
             [
              0.6666666666666666,
              "#ed7953"
             ],
             [
              0.7777777777777778,
              "#fb9f3a"
             ],
             [
              0.8888888888888888,
              "#fdca26"
             ],
             [
              1,
              "#f0f921"
             ]
            ],
            "type": "heatmapgl"
           }
          ],
          "histogram": [
           {
            "marker": {
             "pattern": {
              "fillmode": "overlay",
              "size": 10,
              "solidity": 0.2
             }
            },
            "type": "histogram"
           }
          ],
          "histogram2d": [
           {
            "colorbar": {
             "outlinewidth": 0,
             "ticks": ""
            },
            "colorscale": [
             [
              0,
              "#0d0887"
             ],
             [
              0.1111111111111111,
              "#46039f"
             ],
             [
              0.2222222222222222,
              "#7201a8"
             ],
             [
              0.3333333333333333,
              "#9c179e"
             ],
             [
              0.4444444444444444,
              "#bd3786"
             ],
             [
              0.5555555555555556,
              "#d8576b"
             ],
             [
              0.6666666666666666,
              "#ed7953"
             ],
             [
              0.7777777777777778,
              "#fb9f3a"
             ],
             [
              0.8888888888888888,
              "#fdca26"
             ],
             [
              1,
              "#f0f921"
             ]
            ],
            "type": "histogram2d"
           }
          ],
          "histogram2dcontour": [
           {
            "colorbar": {
             "outlinewidth": 0,
             "ticks": ""
            },
            "colorscale": [
             [
              0,
              "#0d0887"
             ],
             [
              0.1111111111111111,
              "#46039f"
             ],
             [
              0.2222222222222222,
              "#7201a8"
             ],
             [
              0.3333333333333333,
              "#9c179e"
             ],
             [
              0.4444444444444444,
              "#bd3786"
             ],
             [
              0.5555555555555556,
              "#d8576b"
             ],
             [
              0.6666666666666666,
              "#ed7953"
             ],
             [
              0.7777777777777778,
              "#fb9f3a"
             ],
             [
              0.8888888888888888,
              "#fdca26"
             ],
             [
              1,
              "#f0f921"
             ]
            ],
            "type": "histogram2dcontour"
           }
          ],
          "mesh3d": [
           {
            "colorbar": {
             "outlinewidth": 0,
             "ticks": ""
            },
            "type": "mesh3d"
           }
          ],
          "parcoords": [
           {
            "line": {
             "colorbar": {
              "outlinewidth": 0,
              "ticks": ""
             }
            },
            "type": "parcoords"
           }
          ],
          "pie": [
           {
            "automargin": true,
            "type": "pie"
           }
          ],
          "scatter": [
           {
            "marker": {
             "colorbar": {
              "outlinewidth": 0,
              "ticks": ""
             }
            },
            "type": "scatter"
           }
          ],
          "scatter3d": [
           {
            "line": {
             "colorbar": {
              "outlinewidth": 0,
              "ticks": ""
             }
            },
            "marker": {
             "colorbar": {
              "outlinewidth": 0,
              "ticks": ""
             }
            },
            "type": "scatter3d"
           }
          ],
          "scattercarpet": [
           {
            "marker": {
             "colorbar": {
              "outlinewidth": 0,
              "ticks": ""
             }
            },
            "type": "scattercarpet"
           }
          ],
          "scattergeo": [
           {
            "marker": {
             "colorbar": {
              "outlinewidth": 0,
              "ticks": ""
             }
            },
            "type": "scattergeo"
           }
          ],
          "scattergl": [
           {
            "marker": {
             "colorbar": {
              "outlinewidth": 0,
              "ticks": ""
             }
            },
            "type": "scattergl"
           }
          ],
          "scattermapbox": [
           {
            "marker": {
             "colorbar": {
              "outlinewidth": 0,
              "ticks": ""
             }
            },
            "type": "scattermapbox"
           }
          ],
          "scatterpolar": [
           {
            "marker": {
             "colorbar": {
              "outlinewidth": 0,
              "ticks": ""
             }
            },
            "type": "scatterpolar"
           }
          ],
          "scatterpolargl": [
           {
            "marker": {
             "colorbar": {
              "outlinewidth": 0,
              "ticks": ""
             }
            },
            "type": "scatterpolargl"
           }
          ],
          "scatterternary": [
           {
            "marker": {
             "colorbar": {
              "outlinewidth": 0,
              "ticks": ""
             }
            },
            "type": "scatterternary"
           }
          ],
          "surface": [
           {
            "colorbar": {
             "outlinewidth": 0,
             "ticks": ""
            },
            "colorscale": [
             [
              0,
              "#0d0887"
             ],
             [
              0.1111111111111111,
              "#46039f"
             ],
             [
              0.2222222222222222,
              "#7201a8"
             ],
             [
              0.3333333333333333,
              "#9c179e"
             ],
             [
              0.4444444444444444,
              "#bd3786"
             ],
             [
              0.5555555555555556,
              "#d8576b"
             ],
             [
              0.6666666666666666,
              "#ed7953"
             ],
             [
              0.7777777777777778,
              "#fb9f3a"
             ],
             [
              0.8888888888888888,
              "#fdca26"
             ],
             [
              1,
              "#f0f921"
             ]
            ],
            "type": "surface"
           }
          ],
          "table": [
           {
            "cells": {
             "fill": {
              "color": "#EBF0F8"
             },
             "line": {
              "color": "white"
             }
            },
            "header": {
             "fill": {
              "color": "#C8D4E3"
             },
             "line": {
              "color": "white"
             }
            },
            "type": "table"
           }
          ]
         },
         "layout": {
          "annotationdefaults": {
           "arrowcolor": "#2a3f5f",
           "arrowhead": 0,
           "arrowwidth": 1
          },
          "autotypenumbers": "strict",
          "coloraxis": {
           "colorbar": {
            "outlinewidth": 0,
            "ticks": ""
           }
          },
          "colorscale": {
           "diverging": [
            [
             0,
             "#8e0152"
            ],
            [
             0.1,
             "#c51b7d"
            ],
            [
             0.2,
             "#de77ae"
            ],
            [
             0.3,
             "#f1b6da"
            ],
            [
             0.4,
             "#fde0ef"
            ],
            [
             0.5,
             "#f7f7f7"
            ],
            [
             0.6,
             "#e6f5d0"
            ],
            [
             0.7,
             "#b8e186"
            ],
            [
             0.8,
             "#7fbc41"
            ],
            [
             0.9,
             "#4d9221"
            ],
            [
             1,
             "#276419"
            ]
           ],
           "sequential": [
            [
             0,
             "#0d0887"
            ],
            [
             0.1111111111111111,
             "#46039f"
            ],
            [
             0.2222222222222222,
             "#7201a8"
            ],
            [
             0.3333333333333333,
             "#9c179e"
            ],
            [
             0.4444444444444444,
             "#bd3786"
            ],
            [
             0.5555555555555556,
             "#d8576b"
            ],
            [
             0.6666666666666666,
             "#ed7953"
            ],
            [
             0.7777777777777778,
             "#fb9f3a"
            ],
            [
             0.8888888888888888,
             "#fdca26"
            ],
            [
             1,
             "#f0f921"
            ]
           ],
           "sequentialminus": [
            [
             0,
             "#0d0887"
            ],
            [
             0.1111111111111111,
             "#46039f"
            ],
            [
             0.2222222222222222,
             "#7201a8"
            ],
            [
             0.3333333333333333,
             "#9c179e"
            ],
            [
             0.4444444444444444,
             "#bd3786"
            ],
            [
             0.5555555555555556,
             "#d8576b"
            ],
            [
             0.6666666666666666,
             "#ed7953"
            ],
            [
             0.7777777777777778,
             "#fb9f3a"
            ],
            [
             0.8888888888888888,
             "#fdca26"
            ],
            [
             1,
             "#f0f921"
            ]
           ]
          },
          "colorway": [
           "#636efa",
           "#EF553B",
           "#00cc96",
           "#ab63fa",
           "#FFA15A",
           "#19d3f3",
           "#FF6692",
           "#B6E880",
           "#FF97FF",
           "#FECB52"
          ],
          "font": {
           "color": "#2a3f5f"
          },
          "geo": {
           "bgcolor": "white",
           "lakecolor": "white",
           "landcolor": "#E5ECF6",
           "showlakes": true,
           "showland": true,
           "subunitcolor": "white"
          },
          "hoverlabel": {
           "align": "left"
          },
          "hovermode": "closest",
          "mapbox": {
           "style": "light"
          },
          "paper_bgcolor": "white",
          "plot_bgcolor": "#E5ECF6",
          "polar": {
           "angularaxis": {
            "gridcolor": "white",
            "linecolor": "white",
            "ticks": ""
           },
           "bgcolor": "#E5ECF6",
           "radialaxis": {
            "gridcolor": "white",
            "linecolor": "white",
            "ticks": ""
           }
          },
          "scene": {
           "xaxis": {
            "backgroundcolor": "#E5ECF6",
            "gridcolor": "white",
            "gridwidth": 2,
            "linecolor": "white",
            "showbackground": true,
            "ticks": "",
            "zerolinecolor": "white"
           },
           "yaxis": {
            "backgroundcolor": "#E5ECF6",
            "gridcolor": "white",
            "gridwidth": 2,
            "linecolor": "white",
            "showbackground": true,
            "ticks": "",
            "zerolinecolor": "white"
           },
           "zaxis": {
            "backgroundcolor": "#E5ECF6",
            "gridcolor": "white",
            "gridwidth": 2,
            "linecolor": "white",
            "showbackground": true,
            "ticks": "",
            "zerolinecolor": "white"
           }
          },
          "shapedefaults": {
           "line": {
            "color": "#2a3f5f"
           }
          },
          "ternary": {
           "aaxis": {
            "gridcolor": "white",
            "linecolor": "white",
            "ticks": ""
           },
           "baxis": {
            "gridcolor": "white",
            "linecolor": "white",
            "ticks": ""
           },
           "bgcolor": "#E5ECF6",
           "caxis": {
            "gridcolor": "white",
            "linecolor": "white",
            "ticks": ""
           }
          },
          "title": {
           "x": 0.05
          },
          "xaxis": {
           "automargin": true,
           "gridcolor": "white",
           "linecolor": "white",
           "ticks": "",
           "title": {
            "standoff": 15
           },
           "zerolinecolor": "white",
           "zerolinewidth": 2
          },
          "yaxis": {
           "automargin": true,
           "gridcolor": "white",
           "linecolor": "white",
           "ticks": "",
           "title": {
            "standoff": 15
           },
           "zerolinecolor": "white",
           "zerolinewidth": 2
          }
         }
        },
        "title": {
         "text": "Clusters plotted via reduced dimensionality"
        },
        "width": 750,
        "xaxis": {
         "anchor": "y",
         "domain": [
          0,
          1
         ],
         "title": {
          "text": "PCA_1"
         }
        },
        "yaxis": {
         "anchor": "x",
         "domain": [
          0,
          1
         ],
         "title": {
          "text": "PCA_2"
         }
        }
       }
      }
     },
     "metadata": {},
     "output_type": "display_data"
    }
   ],
   "source": [
    "plot_clusters(kmeans_results, 'PCA_1', 'PCA_2', hover_data = ['Síterep'])"
   ]
  },
  {
   "cell_type": "code",
   "execution_count": 130,
   "metadata": {},
   "outputs": [
    {
     "data": {
      "text/html": [
       "<div>\n",
       "<style scoped>\n",
       "    .dataframe tbody tr th:only-of-type {\n",
       "        vertical-align: middle;\n",
       "    }\n",
       "\n",
       "    .dataframe tbody tr th {\n",
       "        vertical-align: top;\n",
       "    }\n",
       "\n",
       "    .dataframe thead th {\n",
       "        text-align: right;\n",
       "    }\n",
       "</style>\n",
       "<table border=\"1\" class=\"dataframe\">\n",
       "  <thead>\n",
       "    <tr style=\"text-align: right;\">\n",
       "      <th></th>\n",
       "      <th>Síterep</th>\n",
       "      <th>PCA_1</th>\n",
       "      <th>PCA_2</th>\n",
       "      <th>clusters</th>\n",
       "    </tr>\n",
       "  </thead>\n",
       "  <tbody>\n",
       "    <tr>\n",
       "      <th>99</th>\n",
       "      <td>Kreischberg - Murau</td>\n",
       "      <td>1.359978</td>\n",
       "      <td>-0.619525</td>\n",
       "      <td>2</td>\n",
       "    </tr>\n",
       "  </tbody>\n",
       "</table>\n",
       "</div>"
      ],
      "text/plain": [
       "                Síterep     PCA_1     PCA_2 clusters\n",
       "99  Kreischberg - Murau  1.359978 -0.619525        2"
      ]
     },
     "execution_count": 130,
     "metadata": {},
     "output_type": "execute_result"
    }
   ],
   "source": [
    "kmeans_results[kmeans_results.Síterep.str.contains('Murau')]"
   ]
  },
  {
   "cell_type": "code",
   "execution_count": 131,
   "metadata": {},
   "outputs": [
    {
     "data": {
      "text/html": [
       "<div>\n",
       "<style scoped>\n",
       "    .dataframe tbody tr th:only-of-type {\n",
       "        vertical-align: middle;\n",
       "    }\n",
       "\n",
       "    .dataframe tbody tr th {\n",
       "        vertical-align: top;\n",
       "    }\n",
       "\n",
       "    .dataframe thead th {\n",
       "        text-align: right;\n",
       "    }\n",
       "</style>\n",
       "<table border=\"1\" class=\"dataframe\">\n",
       "  <thead>\n",
       "    <tr style=\"text-align: right;\">\n",
       "      <th></th>\n",
       "      <th>Síterep</th>\n",
       "      <th>PCA_1</th>\n",
       "      <th>PCA_2</th>\n",
       "      <th>clusters</th>\n",
       "    </tr>\n",
       "  </thead>\n",
       "  <tbody>\n",
       "    <tr>\n",
       "      <th>153</th>\n",
       "      <td>Saalbach Hinterglemm Leogang Fieberbrunn</td>\n",
       "      <td>9.767483</td>\n",
       "      <td>5.203330</td>\n",
       "      <td>1</td>\n",
       "    </tr>\n",
       "    <tr>\n",
       "      <th>172</th>\n",
       "      <td>Ski Arlberg - St. Anton - Lech - Zürs - Warth</td>\n",
       "      <td>10.826396</td>\n",
       "      <td>4.424504</td>\n",
       "      <td>1</td>\n",
       "    </tr>\n",
       "    <tr>\n",
       "      <th>174</th>\n",
       "      <td>SkiWelt Wilder Kaiser - Brixental</td>\n",
       "      <td>8.965347</td>\n",
       "      <td>4.886456</td>\n",
       "      <td>1</td>\n",
       "    </tr>\n",
       "  </tbody>\n",
       "</table>\n",
       "</div>"
      ],
      "text/plain": [
       "                                           Síterep      PCA_1     PCA_2  \\\n",
       "153       Saalbach Hinterglemm Leogang Fieberbrunn   9.767483  5.203330   \n",
       "172  Ski Arlberg - St. Anton - Lech - Zürs - Warth  10.826396  4.424504   \n",
       "174              SkiWelt Wilder Kaiser - Brixental   8.965347  4.886456   \n",
       "\n",
       "    clusters  \n",
       "153        1  \n",
       "172        1  \n",
       "174        1  "
      ]
     },
     "execution_count": 131,
     "metadata": {},
     "output_type": "execute_result"
    }
   ],
   "source": [
    "kmeans_results[kmeans_results.PCA_1 > 8]"
   ]
  },
  {
   "cell_type": "code",
   "execution_count": 132,
   "metadata": {},
   "outputs": [
    {
     "data": {
      "application/vnd.plotly.v1+json": {
       "config": {
        "plotlyServerURL": "https://plot.ly"
       },
       "data": [
        {
         "alignmentgroup": "True",
         "hovertemplate": "clusters=%{x}<br>stat=Hegytető<br>value=%{y}<extra></extra>",
         "legendgroup": "0.0",
         "line": {
          "width": 1
         },
         "marker": {
          "color": "#636efa",
          "size": 4
         },
         "name": "0.0",
         "notched": false,
         "offsetgroup": "0.0",
         "orientation": "v",
         "showlegend": true,
         "type": "box",
         "x": [
          0,
          0,
          0,
          0,
          0,
          0,
          0,
          0,
          0,
          0,
          0,
          0,
          0,
          0,
          0,
          0,
          0,
          0,
          0,
          0,
          0,
          0,
          0,
          0,
          0,
          0,
          0,
          0,
          0,
          0,
          0,
          0,
          0,
          0,
          0,
          0,
          0,
          0,
          0,
          0,
          0,
          0,
          0,
          0,
          0,
          0,
          0,
          0,
          0,
          0,
          0,
          0,
          0,
          0,
          0,
          0,
          0,
          0,
          0,
          0,
          0,
          0,
          0,
          0,
          0,
          0,
          0,
          0,
          0,
          0,
          0,
          0,
          0,
          0,
          0,
          0,
          0,
          0,
          0,
          0,
          0,
          0,
          0,
          0,
          0,
          0,
          0,
          0,
          0,
          0,
          0,
          0
         ],
         "x0": " ",
         "xaxis": "x10",
         "y": [
          1200,
          1200,
          2055,
          1820,
          1214,
          1050,
          2000,
          1617,
          2050,
          2060,
          1601,
          1780,
          1530,
          1296,
          1300,
          2271,
          1648,
          1980,
          1840,
          1078,
          1567,
          2300,
          1870,
          2033,
          860,
          1305,
          2989,
          1100,
          1338,
          2488,
          2378,
          1700,
          2030,
          959,
          1500,
          1768,
          3029,
          1050,
          1820,
          1605,
          900,
          2070,
          2520,
          1688,
          1300,
          1230,
          1785,
          2023,
          1134,
          1030,
          971,
          2500,
          1256,
          1804,
          2002,
          2080,
          1460,
          2256,
          3030,
          2313,
          2030,
          1900,
          3440,
          2000,
          1450,
          1608,
          1150,
          1300,
          2000,
          2800,
          927,
          1325,
          1020,
          1000,
          1887,
          955,
          2570,
          1410,
          1350,
          1774,
          1340,
          1500,
          2025,
          1869,
          1424,
          1207,
          1039,
          787,
          1200,
          1100,
          1250,
          1102
         ],
         "y0": " ",
         "yaxis": "y10"
        },
        {
         "alignmentgroup": "True",
         "hovertemplate": "clusters=%{x}<br>stat=Sípályák hossza<br>value=%{y}<extra></extra>",
         "legendgroup": "0.0",
         "line": {
          "width": 1
         },
         "marker": {
          "color": "#636efa",
          "size": 4
         },
         "name": "0.0",
         "notched": false,
         "offsetgroup": "0.0",
         "orientation": "v",
         "showlegend": false,
         "type": "box",
         "x": [
          0,
          0,
          0,
          0,
          0,
          0,
          0,
          0,
          0,
          0,
          0,
          0,
          0,
          0,
          0,
          0,
          0,
          0,
          0,
          0,
          0,
          0,
          0,
          0,
          0,
          0,
          0,
          0,
          0,
          0,
          0,
          0,
          0,
          0,
          0,
          0,
          0,
          0,
          0,
          0,
          0,
          0,
          0,
          0,
          0,
          0,
          0,
          0,
          0,
          0,
          0,
          0,
          0,
          0,
          0,
          0,
          0,
          0,
          0,
          0,
          0,
          0,
          0,
          0,
          0,
          0,
          0,
          0,
          0,
          0,
          0,
          0,
          0,
          0,
          0,
          0,
          0,
          0,
          0,
          0,
          0,
          0,
          0,
          0,
          0,
          0,
          0,
          0,
          0,
          0,
          0,
          0
         ],
         "x0": " ",
         "xaxis": "x11",
         "y": [
          9,
          2.5,
          103,
          11,
          2.2,
          1,
          52,
          51,
          80.6,
          40,
          6,
          0.9,
          23,
          3,
          1.7,
          8.5,
          10.6,
          120.1,
          12,
          2.8,
          30,
          30,
          12.2,
          63.2,
          4,
          4.1,
          55,
          5,
          20.1,
          40,
          85.6,
          11,
          22.6,
          0.5,
          10,
          5,
          61,
          6,
          4,
          10.9,
          3,
          18,
          46.9,
          22.7,
          6,
          8.8,
          27,
          12,
          3,
          4.5,
          4,
          142,
          2,
          16,
          110,
          2.5,
          12,
          13.9,
          112.2,
          100,
          2,
          13.7,
          21,
          15,
          8,
          20,
          3.5,
          5,
          13,
          19,
          3.9,
          11,
          2,
          3,
          14,
          0.4,
          42.5,
          6,
          14,
          26,
          12,
          6.1,
          96.7,
          244,
          2,
          1.8,
          2,
          1,
          4,
          1,
          1,
          5
         ],
         "y0": " ",
         "yaxis": "y11"
        },
        {
         "alignmentgroup": "True",
         "hovertemplate": "clusters=%{x}<br>stat=Szintkülönbség<br>value=%{y}<extra></extra>",
         "legendgroup": "0.0",
         "line": {
          "width": 1
         },
         "marker": {
          "color": "#636efa",
          "size": 4
         },
         "name": "0.0",
         "notched": false,
         "offsetgroup": "0.0",
         "orientation": "v",
         "showlegend": false,
         "type": "box",
         "x": [
          0,
          0,
          0,
          0,
          0,
          0,
          0,
          0,
          0,
          0,
          0,
          0,
          0,
          0,
          0,
          0,
          0,
          0,
          0,
          0,
          0,
          0,
          0,
          0,
          0,
          0,
          0,
          0,
          0,
          0,
          0,
          0,
          0,
          0,
          0,
          0,
          0,
          0,
          0,
          0,
          0,
          0,
          0,
          0,
          0,
          0,
          0,
          0,
          0,
          0,
          0,
          0,
          0,
          0,
          0,
          0,
          0,
          0,
          0,
          0,
          0,
          0,
          0,
          0,
          0,
          0,
          0,
          0,
          0,
          0,
          0,
          0,
          0,
          0,
          0,
          0,
          0,
          0,
          0,
          0,
          0,
          0,
          0,
          0,
          0,
          0,
          0,
          0,
          0,
          0,
          0,
          0
         ],
         "x0": " ",
         "xaxis": "x12",
         "y": [
          488,
          480,
          968,
          820,
          47,
          86,
          1096,
          872,
          1340,
          1240,
          726,
          130,
          530,
          284,
          200,
          946,
          1205,
          1240,
          440,
          358,
          817,
          877,
          860,
          1184,
          120,
          305,
          1688,
          300,
          472,
          1038,
          1778,
          470,
          760,
          134,
          442,
          568,
          2261,
          150,
          464,
          830,
          150,
          420,
          582,
          1075,
          590,
          250,
          745,
          1355,
          661,
          240,
          191,
          1870,
          156,
          907,
          1402,
          1099,
          240,
          1396,
          1237,
          683,
          120,
          1250,
          755,
          400,
          300,
          508,
          280,
          320,
          1180,
          1160,
          127,
          255,
          180,
          200,
          535,
          63,
          1530,
          310,
          365,
          997,
          298,
          300,
          1195,
          1249,
          104,
          266,
          199,
          37,
          200,
          128,
          200,
          288
         ],
         "y0": " ",
         "yaxis": "y12"
        },
        {
         "alignmentgroup": "True",
         "hovertemplate": "clusters=%{x}<br>stat=Liftek száma<br>value=%{y}<extra></extra>",
         "legendgroup": "0.0",
         "line": {
          "width": 1
         },
         "marker": {
          "color": "#636efa",
          "size": 4
         },
         "name": "0.0",
         "notched": false,
         "offsetgroup": "0.0",
         "orientation": "v",
         "showlegend": false,
         "type": "box",
         "x": [
          0,
          0,
          0,
          0,
          0,
          0,
          0,
          0,
          0,
          0,
          0,
          0,
          0,
          0,
          0,
          0,
          0,
          0,
          0,
          0,
          0,
          0,
          0,
          0,
          0,
          0,
          0,
          0,
          0,
          0,
          0,
          0,
          0,
          0,
          0,
          0,
          0,
          0,
          0,
          0,
          0,
          0,
          0,
          0,
          0,
          0,
          0,
          0,
          0,
          0,
          0,
          0,
          0,
          0,
          0,
          0,
          0,
          0,
          0,
          0,
          0,
          0,
          0,
          0,
          0,
          0,
          0,
          0,
          0,
          0,
          0,
          0,
          0,
          0,
          0,
          0,
          0,
          0,
          0,
          0,
          0,
          0,
          0,
          0,
          0,
          0,
          0,
          0,
          0,
          0,
          0,
          0
         ],
         "x0": " ",
         "xaxis": "x7",
         "y": [
          5,
          2,
          22,
          5,
          4,
          1,
          14,
          22,
          20,
          9,
          4,
          1,
          6,
          2,
          2,
          6,
          8,
          45,
          4,
          3,
          8,
          8,
          9,
          17,
          2,
          4,
          12,
          2,
          9,
          9,
          39,
          4,
          4,
          1,
          7,
          2,
          21,
          2,
          3,
          4,
          3,
          5,
          12,
          11,
          4,
          3,
          5,
          4,
          1,
          2,
          1,
          44,
          2,
          6,
          30,
          3,
          6,
          6,
          26,
          26,
          2,
          6,
          7,
          6,
          5,
          6,
          3,
          3,
          6,
          6,
          3,
          8,
          2,
          3,
          3,
          1,
          11,
          3,
          2,
          11,
          7,
          11,
          46,
          83,
          1,
          1,
          2,
          2,
          4,
          1,
          3,
          3
         ],
         "y0": " ",
         "yaxis": "y7"
        },
        {
         "alignmentgroup": "True",
         "hovertemplate": "clusters=%{x}<br>stat=Felnőtt napijegy ára<br>value=%{y}<extra></extra>",
         "legendgroup": "0.0",
         "line": {
          "width": 1
         },
         "marker": {
          "color": "#636efa",
          "size": 4
         },
         "name": "0.0",
         "notched": false,
         "offsetgroup": "0.0",
         "orientation": "v",
         "showlegend": false,
         "type": "box",
         "x": [
          0,
          0,
          0,
          0,
          0,
          0,
          0,
          0,
          0,
          0,
          0,
          0,
          0,
          0,
          0,
          0,
          0,
          0,
          0,
          0,
          0,
          0,
          0,
          0,
          0,
          0,
          0,
          0,
          0,
          0,
          0,
          0,
          0,
          0,
          0,
          0,
          0,
          0,
          0,
          0,
          0,
          0,
          0,
          0,
          0,
          0,
          0,
          0,
          0,
          0,
          0,
          0,
          0,
          0,
          0,
          0,
          0,
          0,
          0,
          0,
          0,
          0,
          0,
          0,
          0,
          0,
          0,
          0,
          0,
          0,
          0,
          0,
          0,
          0,
          0,
          0,
          0
         ],
         "x0": " ",
         "xaxis": "x8",
         "y": [
          40,
          26,
          56.5,
          56,
          34,
          11,
          57,
          61,
          55,
          47.5,
          24,
          56,
          30,
          42,
          45.7,
          68,
          36.5,
          24,
          42,
          47,
          68,
          24,
          35,
          53,
          47,
          47,
          65.5,
          43,
          57.5,
          38,
          46,
          66,
          28.6,
          31.5,
          20,
          35,
          48,
          45,
          33,
          43,
          55,
          21,
          15,
          65,
          44,
          56.5,
          38,
          38,
          34,
          64,
          53,
          40.5,
          58,
          48,
          42,
          45.5,
          21.5,
          23,
          36,
          40,
          24,
          40,
          25,
          38,
          50,
          39.5,
          55,
          35,
          49,
          55.5,
          60,
          21,
          26.5,
          17,
          28,
          28,
          36
         ],
         "y0": " ",
         "yaxis": "y8"
        },
        {
         "alignmentgroup": "True",
         "hovertemplate": "clusters=%{x}<br>stat=Ülőlift<br>value=%{y}<extra></extra>",
         "legendgroup": "0.0",
         "line": {
          "width": 1
         },
         "marker": {
          "color": "#636efa",
          "size": 4
         },
         "name": "0.0",
         "notched": false,
         "offsetgroup": "0.0",
         "orientation": "v",
         "showlegend": false,
         "type": "box",
         "x": [
          0,
          0,
          0,
          0,
          0,
          0,
          0,
          0,
          0,
          0,
          0,
          0,
          0,
          0,
          0,
          0,
          0,
          0,
          0,
          0,
          0,
          0,
          0,
          0,
          0,
          0,
          0,
          0,
          0,
          0,
          0,
          0,
          0,
          0,
          0,
          0,
          0,
          0,
          0,
          0,
          0,
          0,
          0,
          0,
          0,
          0,
          0,
          0,
          0,
          0,
          0,
          0,
          0,
          0,
          0,
          0,
          0,
          0,
          0,
          0,
          0,
          0,
          0,
          0,
          0,
          0,
          0,
          0,
          0,
          0,
          0,
          0,
          0,
          0,
          0,
          0,
          0,
          0,
          0,
          0,
          0,
          0,
          0,
          0,
          0,
          0,
          0,
          0,
          0,
          0,
          0,
          0
         ],
         "x0": " ",
         "xaxis": "x9",
         "y": [
          0,
          0,
          8,
          2,
          0,
          0,
          6,
          8,
          13,
          2,
          2,
          0,
          2,
          0,
          0,
          1,
          1,
          16,
          1,
          0,
          3,
          3,
          1,
          8,
          0,
          1,
          1,
          0,
          3,
          4,
          11,
          0,
          1,
          0,
          2,
          0,
          6,
          0,
          0,
          1,
          0,
          0,
          6,
          3,
          1,
          1,
          2,
          1,
          1,
          0,
          0,
          17,
          0,
          1,
          9,
          0,
          1,
          2,
          7,
          17,
          0,
          1,
          1,
          2,
          1,
          3,
          0,
          0,
          0,
          3,
          0,
          1,
          0,
          0,
          1,
          0,
          2,
          0,
          1,
          4,
          0,
          1,
          7,
          33,
          0,
          0,
          0,
          0,
          0,
          0,
          0,
          0
         ],
         "y0": " ",
         "yaxis": "y9"
        },
        {
         "alignmentgroup": "True",
         "hovertemplate": "clusters=%{x}<br>stat=Kiskabinos lift<br>value=%{y}<extra></extra>",
         "legendgroup": "0.0",
         "line": {
          "width": 1
         },
         "marker": {
          "color": "#636efa",
          "size": 4
         },
         "name": "0.0",
         "notched": false,
         "offsetgroup": "0.0",
         "orientation": "v",
         "showlegend": false,
         "type": "box",
         "x": [
          0,
          0,
          0,
          0,
          0,
          0,
          0,
          0,
          0,
          0,
          0,
          0,
          0,
          0,
          0,
          0,
          0,
          0,
          0,
          0,
          0,
          0,
          0,
          0,
          0,
          0,
          0,
          0,
          0,
          0,
          0,
          0,
          0,
          0,
          0,
          0,
          0,
          0,
          0,
          0,
          0,
          0,
          0,
          0,
          0,
          0,
          0,
          0,
          0,
          0,
          0,
          0,
          0,
          0,
          0,
          0,
          0,
          0,
          0,
          0,
          0,
          0,
          0,
          0,
          0,
          0,
          0,
          0,
          0,
          0,
          0,
          0,
          0,
          0,
          0,
          0,
          0,
          0,
          0,
          0,
          0,
          0,
          0,
          0,
          0,
          0,
          0,
          0,
          0,
          0,
          0,
          0
         ],
         "x0": " ",
         "xaxis": "x4",
         "y": [
          0,
          0,
          4,
          0,
          0,
          0,
          2,
          3,
          2,
          2,
          0,
          0,
          0,
          0,
          0,
          1,
          1,
          10,
          0,
          0,
          0,
          1,
          1,
          5,
          0,
          0,
          3,
          0,
          2,
          1,
          6,
          0,
          2,
          0,
          0,
          1,
          6,
          0,
          0,
          0,
          0,
          0,
          1,
          1,
          0,
          0,
          0,
          0,
          0,
          0,
          0,
          7,
          0,
          2,
          5,
          1,
          0,
          0,
          11,
          1,
          0,
          1,
          2,
          0,
          0,
          0,
          0,
          0,
          2,
          1,
          0,
          0,
          0,
          0,
          0,
          0,
          3,
          0,
          1,
          0,
          0,
          0,
          8,
          16,
          0,
          0,
          0,
          0,
          0,
          0,
          0,
          0
         ],
         "y0": " ",
         "yaxis": "y4"
        },
        {
         "alignmentgroup": "True",
         "hovertemplate": "clusters=%{x}<br>stat=Kék arány<br>value=%{y}<extra></extra>",
         "legendgroup": "0.0",
         "line": {
          "width": 1
         },
         "marker": {
          "color": "#636efa",
          "size": 4
         },
         "name": "0.0",
         "notched": false,
         "offsetgroup": "0.0",
         "orientation": "v",
         "showlegend": false,
         "type": "box",
         "x": [
          0,
          0,
          0,
          0,
          0,
          0,
          0,
          0,
          0,
          0,
          0,
          0,
          0,
          0,
          0,
          0,
          0,
          0,
          0,
          0,
          0,
          0,
          0,
          0,
          0,
          0,
          0,
          0,
          0,
          0,
          0,
          0,
          0,
          0,
          0,
          0,
          0,
          0,
          0,
          0,
          0,
          0,
          0,
          0,
          0,
          0,
          0,
          0,
          0,
          0,
          0,
          0,
          0,
          0,
          0,
          0,
          0,
          0,
          0,
          0,
          0,
          0,
          0,
          0,
          0,
          0,
          0,
          0,
          0,
          0,
          0,
          0,
          0,
          0,
          0,
          0,
          0,
          0,
          0,
          0,
          0,
          0,
          0,
          0,
          0,
          0,
          0,
          0,
          0,
          0,
          0,
          0
         ],
         "x0": " ",
         "xaxis": "x5",
         "y": [
          0.48888888888888893,
          0.4,
          0.17475728155339806,
          0.6636363636363636,
          1,
          1,
          0.4423076923076923,
          0.29411764705882354,
          0.3709677419354839,
          0.325,
          0.6666666666666666,
          1,
          0.6521739130434783,
          0.6666666666666666,
          0,
          0.44705882352941173,
          0.6132075471698113,
          0.283097418817652,
          0.5833333333333334,
          1,
          0.6666666666666666,
          0.7,
          0.2377049180327869,
          0.439873417721519,
          0.5,
          0.41463414634146345,
          0.36363636363636365,
          0.6,
          0.45273631840796014,
          0.25,
          0.3469626168224299,
          0.2727272727272727,
          0.5309734513274336,
          1,
          0.7,
          0.5,
          0.47540983606557374,
          0.45,
          0.25,
          0.6238532110091742,
          0.6666666666666666,
          0.3888888888888889,
          0.1982942430703625,
          0.4625550660792952,
          0.6666666666666666,
          0.32954545454545453,
          0.2962962962962963,
          0.041666666666666664,
          0.6666666666666666,
          0.4444444444444444,
          0.75,
          0.30985915492957744,
          0.5,
          0.4375,
          0.2727272727272727,
          0,
          0.3333333333333333,
          0.03597122302158273,
          0.5365418894830659,
          0.61,
          1,
          0.5255474452554745,
          0.19047619047619047,
          0.13333333333333333,
          0.625,
          0.3,
          0.5714285714285714,
          0.6,
          0.5384615384615384,
          0.21052631578947367,
          0.38461538461538464,
          0.36363636363636365,
          0.6,
          0.26666666666666666,
          0.6785714285714286,
          1,
          0.2235294117647059,
          0.5,
          0.4642857142857143,
          0.7692307692307693,
          0.5833333333333334,
          1,
          0.3216132368148914,
          0.4672131147540984,
          0.25,
          0,
          1,
          1,
          0.25,
          1,
          0.3,
          0.2
         ],
         "y0": " ",
         "yaxis": "y5"
        },
        {
         "alignmentgroup": "True",
         "hovertemplate": "clusters=%{x}<br>stat=Piros arány<br>value=%{y}<extra></extra>",
         "legendgroup": "0.0",
         "line": {
          "width": 1
         },
         "marker": {
          "color": "#636efa",
          "size": 4
         },
         "name": "0.0",
         "notched": false,
         "offsetgroup": "0.0",
         "orientation": "v",
         "showlegend": false,
         "type": "box",
         "x": [
          0,
          0,
          0,
          0,
          0,
          0,
          0,
          0,
          0,
          0,
          0,
          0,
          0,
          0,
          0,
          0,
          0,
          0,
          0,
          0,
          0,
          0,
          0,
          0,
          0,
          0,
          0,
          0,
          0,
          0,
          0,
          0,
          0,
          0,
          0,
          0,
          0,
          0,
          0,
          0,
          0,
          0,
          0,
          0,
          0,
          0,
          0,
          0,
          0,
          0,
          0,
          0,
          0,
          0,
          0,
          0,
          0,
          0,
          0,
          0,
          0,
          0,
          0,
          0,
          0,
          0,
          0,
          0,
          0,
          0,
          0,
          0,
          0,
          0,
          0,
          0,
          0,
          0,
          0,
          0,
          0,
          0,
          0,
          0,
          0,
          0,
          0,
          0,
          0,
          0,
          0,
          0
         ],
         "x0": " ",
         "xaxis": "x6",
         "y": [
          0.17777777777777778,
          0.6,
          0.7475728155339806,
          0.33636363636363636,
          0,
          0,
          0.5384615384615384,
          0.6470588235294118,
          0.6054590570719603,
          0.45,
          0.3333333333333333,
          0,
          0.21739130434782608,
          0.3333333333333333,
          1,
          0.4235294117647059,
          0.29245283018867924,
          0.6835970024979184,
          0.16666666666666666,
          0,
          0.3,
          0.2,
          0.7377049180327869,
          0.5379746835443038,
          0.5,
          0.5853658536585367,
          0.6181818181818182,
          0.4,
          0.49751243781094523,
          0.55,
          0.4824766355140187,
          0.6363636363636364,
          0.3053097345132743,
          0,
          0.3,
          0.5,
          0.3770491803278688,
          0.3833333333333333,
          0.75,
          0.37614678899082565,
          0.3333333333333333,
          0.5,
          0.5714285714285715,
          0.4052863436123348,
          0.3333333333333333,
          0.4204545454545454,
          0.5555555555555556,
          0.6083333333333333,
          0.3333333333333333,
          0.4444444444444444,
          0.25,
          0.4647887323943662,
          0.5,
          0.5,
          0.6272727272727273,
          1,
          0.6666666666666666,
          0.935251798561151,
          0.29590017825311943,
          0.35,
          0,
          0.43065693430656937,
          0.7619047619047619,
          0.7333333333333333,
          0.25,
          0.55,
          0.42857142857142855,
          0.4,
          0.3076923076923077,
          0.5263157894736842,
          0.38461538461538464,
          0.5454545454545454,
          0.25,
          0.7000000000000001,
          0.17142857142857143,
          0,
          0.5882352941176471,
          0.3333333333333333,
          0.4642857142857143,
          0.23076923076923078,
          0.4166666666666667,
          0,
          0.5470527404343329,
          0.4918032786885246,
          0.5,
          1,
          0,
          0,
          0.75,
          0,
          0.7,
          0.8
         ],
         "y0": " ",
         "yaxis": "y6"
        },
        {
         "alignmentgroup": "True",
         "hovertemplate": "clusters=%{x}<br>stat=Fekete arány<br>value=%{y}<extra></extra>",
         "legendgroup": "0.0",
         "line": {
          "width": 1
         },
         "marker": {
          "color": "#636efa",
          "size": 4
         },
         "name": "0.0",
         "notched": false,
         "offsetgroup": "0.0",
         "orientation": "v",
         "showlegend": false,
         "type": "box",
         "x": [
          0,
          0,
          0,
          0,
          0,
          0,
          0,
          0,
          0,
          0,
          0,
          0,
          0,
          0,
          0,
          0,
          0,
          0,
          0,
          0,
          0,
          0,
          0,
          0,
          0,
          0,
          0,
          0,
          0,
          0,
          0,
          0,
          0,
          0,
          0,
          0,
          0,
          0,
          0,
          0,
          0,
          0,
          0,
          0,
          0,
          0,
          0,
          0,
          0,
          0,
          0,
          0,
          0,
          0,
          0,
          0,
          0,
          0,
          0,
          0,
          0,
          0,
          0,
          0,
          0,
          0,
          0,
          0,
          0,
          0,
          0,
          0,
          0,
          0,
          0,
          0,
          0,
          0,
          0,
          0,
          0,
          0,
          0,
          0,
          0,
          0,
          0,
          0,
          0,
          0,
          0,
          0
         ],
         "x0": " ",
         "xaxis": "x",
         "y": [
          0.3333333333333333,
          0,
          0.07766990291262135,
          0,
          0,
          0,
          0.019230769230769232,
          0.058823529411764705,
          0.02357320099255583,
          0.225,
          0,
          0,
          0.13043478260869565,
          0,
          0,
          0.12941176470588237,
          0.09433962264150944,
          0.03330557868442964,
          0.25,
          0,
          0.03333333333333333,
          0.1,
          0.02459016393442623,
          0.022151898734177212,
          0,
          0,
          0.01818181818181818,
          0,
          0.04975124378109452,
          0.2,
          0.17056074766355142,
          0.09090909090909091,
          0.16371681415929204,
          0,
          0,
          0,
          0.14754098360655737,
          0.16666666666666666,
          0,
          0,
          0,
          0.1111111111111111,
          0.23027718550106613,
          0.13215859030837004,
          0,
          0.25,
          0.14814814814814814,
          0.35000000000000003,
          0,
          0.1111111111111111,
          0,
          0.22535211267605634,
          0,
          0.0625,
          0.1,
          0,
          0,
          0.02877697841726619,
          0.16755793226381463,
          0.04,
          0,
          0.043795620437956206,
          0.047619047619047616,
          0.13333333333333333,
          0.125,
          0.15,
          0,
          0,
          0.15384615384615385,
          0.2631578947368421,
          0.23076923076923078,
          0.09090909090909091,
          0.15,
          0.03333333333333333,
          0.15,
          0,
          0.18823529411764706,
          0.16666666666666666,
          0.07142857142857142,
          0,
          0,
          0,
          0.13133402275077558,
          0.040983606557377046,
          0.25,
          0,
          0,
          0,
          0,
          0,
          0,
          0
         ],
         "y0": " ",
         "yaxis": "y"
        },
        {
         "alignmentgroup": "True",
         "hovertemplate": "clusters=%{x}<br>stat=Hegytető<br>value=%{y}<extra></extra>",
         "legendgroup": "2.0",
         "line": {
          "width": 1
         },
         "marker": {
          "color": "#EF553B",
          "size": 4
         },
         "name": "2.0",
         "notched": false,
         "offsetgroup": "2.0",
         "orientation": "v",
         "showlegend": true,
         "type": "box",
         "x": [
          2,
          2,
          2,
          2,
          2,
          2,
          2,
          2,
          2,
          2,
          2,
          2,
          2,
          2,
          2,
          2,
          2,
          2,
          2,
          2,
          2,
          2,
          2,
          2,
          2,
          2,
          2,
          2,
          2,
          2,
          2,
          2,
          2,
          2,
          2,
          2,
          2,
          2,
          2,
          2,
          2,
          2,
          2,
          2,
          2,
          2,
          2,
          2,
          2,
          2,
          2,
          2,
          2,
          2,
          2,
          2,
          2,
          2,
          2,
          2,
          2,
          2,
          2,
          2,
          2,
          2,
          2,
          2,
          2,
          2,
          2,
          2,
          2,
          2,
          2,
          2,
          2,
          2,
          2,
          2,
          2,
          2,
          2,
          2,
          2,
          2,
          2,
          2,
          2,
          2,
          2,
          2,
          2,
          2,
          2,
          2,
          2,
          2,
          2,
          2,
          2,
          2,
          2,
          2,
          2,
          2,
          2,
          2,
          2
         ],
         "x0": " ",
         "xaxis": "x10",
         "y": [
          1800,
          1810,
          1800,
          1715,
          1593,
          1550,
          2340,
          2007,
          2300,
          2120,
          2180,
          2750,
          1743,
          1064,
          1450,
          1456,
          2700,
          1330,
          1923,
          1140,
          1885,
          2107,
          2115,
          1591,
          1200,
          2054,
          1230,
          1551,
          1984,
          2300,
          1626,
          1911,
          1150,
          2304,
          2142,
          1225,
          2100,
          2248,
          2400,
          2422,
          1821,
          1900,
          1150,
          3250,
          1946,
          1000,
          1808,
          1900,
          1150,
          1329,
          1400,
          2026,
          2200,
          2872,
          2690,
          1600,
          2220,
          3113,
          700,
          2000,
          1980,
          1000,
          1818,
          1450,
          2118,
          2109,
          1078,
          2222,
          2100,
          1363,
          2278,
          1670,
          2636,
          1870,
          1674,
          1230,
          3122,
          1300,
          1671,
          1520,
          980,
          1102,
          1965,
          1560,
          1210,
          1571,
          1636,
          2175,
          1200,
          2096,
          2015,
          2240,
          1467,
          1445,
          2828,
          2407,
          2430,
          2064,
          2806,
          2300,
          2650,
          2683,
          1604,
          1200,
          690,
          1049,
          1975,
          1003,
          3340
         ],
         "y0": " ",
         "yaxis": "y10"
        },
        {
         "alignmentgroup": "True",
         "hovertemplate": "clusters=%{x}<br>stat=Sípályák hossza<br>value=%{y}<extra></extra>",
         "legendgroup": "2.0",
         "line": {
          "width": 1
         },
         "marker": {
          "color": "#EF553B",
          "size": 4
         },
         "name": "2.0",
         "notched": false,
         "offsetgroup": "2.0",
         "orientation": "v",
         "showlegend": false,
         "type": "box",
         "x": [
          2,
          2,
          2,
          2,
          2,
          2,
          2,
          2,
          2,
          2,
          2,
          2,
          2,
          2,
          2,
          2,
          2,
          2,
          2,
          2,
          2,
          2,
          2,
          2,
          2,
          2,
          2,
          2,
          2,
          2,
          2,
          2,
          2,
          2,
          2,
          2,
          2,
          2,
          2,
          2,
          2,
          2,
          2,
          2,
          2,
          2,
          2,
          2,
          2,
          2,
          2,
          2,
          2,
          2,
          2,
          2,
          2,
          2,
          2,
          2,
          2,
          2,
          2,
          2,
          2,
          2,
          2,
          2,
          2,
          2,
          2,
          2,
          2,
          2,
          2,
          2,
          2,
          2,
          2,
          2,
          2,
          2,
          2,
          2,
          2,
          2,
          2,
          2,
          2,
          2,
          2,
          2,
          2,
          2,
          2,
          2,
          2,
          2,
          2,
          2,
          2,
          2,
          2,
          2,
          2,
          2,
          2,
          2,
          2
         ],
         "x0": " ",
         "xaxis": "x11",
         "y": [
          27,
          14,
          34,
          10,
          2,
          15.1,
          38.5,
          11.9,
          82.7,
          10,
          29,
          75,
          36,
          3,
          9,
          21.2,
          5,
          8,
          27.5,
          2,
          15,
          11,
          24,
          20,
          2.5,
          17.1,
          8,
          6.9,
          11.2,
          43,
          15.5,
          52.4,
          4,
          23,
          25,
          5,
          26.7,
          12.2,
          50,
          44.6,
          9,
          16,
          9,
          60,
          33.7,
          1.9,
          19.2,
          120,
          4,
          2.5,
          3,
          10.3,
          36,
          239,
          40,
          23,
          70,
          55,
          2,
          188,
          28,
          1,
          28,
          3,
          42.5,
          12,
          14,
          26.2,
          26.5,
          5,
          21,
          46,
          12.8,
          11,
          5.7,
          6,
          36,
          5.5,
          13,
          12,
          0.4,
          1.3,
          19,
          12,
          7.8,
          17.3,
          12.9,
          32.5,
          3,
          270,
          123,
          22,
          25,
          2,
          186,
          21.7,
          117,
          19.1,
          302,
          29.5,
          18.2,
          17,
          40,
          5,
          0.5,
          0.5,
          8,
          3,
          143.4
         ],
         "y0": " ",
         "yaxis": "y11"
        },
        {
         "alignmentgroup": "True",
         "hovertemplate": "clusters=%{x}<br>stat=Szintkülönbség<br>value=%{y}<extra></extra>",
         "legendgroup": "2.0",
         "line": {
          "width": 1
         },
         "marker": {
          "color": "#EF553B",
          "size": 4
         },
         "name": "2.0",
         "notched": false,
         "offsetgroup": "2.0",
         "orientation": "v",
         "showlegend": false,
         "type": "box",
         "x": [
          2,
          2,
          2,
          2,
          2,
          2,
          2,
          2,
          2,
          2,
          2,
          2,
          2,
          2,
          2,
          2,
          2,
          2,
          2,
          2,
          2,
          2,
          2,
          2,
          2,
          2,
          2,
          2,
          2,
          2,
          2,
          2,
          2,
          2,
          2,
          2,
          2,
          2,
          2,
          2,
          2,
          2,
          2,
          2,
          2,
          2,
          2,
          2,
          2,
          2,
          2,
          2,
          2,
          2,
          2,
          2,
          2,
          2,
          2,
          2,
          2,
          2,
          2,
          2,
          2,
          2,
          2,
          2,
          2,
          2,
          2,
          2,
          2,
          2,
          2,
          2,
          2,
          2,
          2,
          2,
          2,
          2,
          2,
          2,
          2,
          2,
          2,
          2,
          2,
          2,
          2,
          2,
          2,
          2,
          2,
          2,
          2,
          2,
          2,
          2,
          2,
          2,
          2,
          2,
          2,
          2,
          2,
          2,
          2
         ],
         "x0": " ",
         "xaxis": "x12",
         "y": [
          850,
          1000,
          950,
          1060,
          243,
          870,
          780,
          928,
          1440,
          470,
          1132,
          1350,
          676,
          643,
          386,
          601,
          436,
          493,
          811,
          100,
          955,
          267,
          618,
          621,
          300,
          1444,
          370,
          248,
          984,
          700,
          826,
          911,
          330,
          1354,
          1595,
          393,
          1450,
          818,
          1305,
          1402,
          671,
          1046,
          370,
          1750,
          876,
          200,
          428,
          1100,
          280,
          221,
          160,
          973,
          650,
          1512,
          1510,
          980,
          1154,
          963,
          50,
          1200,
          980,
          236,
          358,
          230,
          1250,
          1500,
          363,
          622,
          1096,
          223,
          618,
          1030,
          1370,
          890,
          714,
          230,
          1014,
          300,
          521,
          210,
          48,
          72,
          956,
          600,
          430,
          721,
          601,
          1225,
          200,
          1266,
          1287,
          1231,
          767,
          665,
          1628,
          1307,
          1730,
          834,
          1506,
          1300,
          1065,
          1283,
          945,
          200,
          130,
          109,
          275,
          203,
          1990
         ],
         "y0": " ",
         "yaxis": "y12"
        },
        {
         "alignmentgroup": "True",
         "hovertemplate": "clusters=%{x}<br>stat=Liftek száma<br>value=%{y}<extra></extra>",
         "legendgroup": "2.0",
         "line": {
          "width": 1
         },
         "marker": {
          "color": "#EF553B",
          "size": 4
         },
         "name": "2.0",
         "notched": false,
         "offsetgroup": "2.0",
         "orientation": "v",
         "showlegend": false,
         "type": "box",
         "x": [
          2,
          2,
          2,
          2,
          2,
          2,
          2,
          2,
          2,
          2,
          2,
          2,
          2,
          2,
          2,
          2,
          2,
          2,
          2,
          2,
          2,
          2,
          2,
          2,
          2,
          2,
          2,
          2,
          2,
          2,
          2,
          2,
          2,
          2,
          2,
          2,
          2,
          2,
          2,
          2,
          2,
          2,
          2,
          2,
          2,
          2,
          2,
          2,
          2,
          2,
          2,
          2,
          2,
          2,
          2,
          2,
          2,
          2,
          2,
          2,
          2,
          2,
          2,
          2,
          2,
          2,
          2,
          2,
          2,
          2,
          2,
          2,
          2,
          2,
          2,
          2,
          2,
          2,
          2,
          2,
          2,
          2,
          2,
          2,
          2,
          2,
          2,
          2,
          2,
          2,
          2,
          2,
          2,
          2,
          2,
          2,
          2,
          2,
          2,
          2,
          2,
          2,
          2,
          2,
          2,
          2,
          2,
          2,
          2
         ],
         "x0": " ",
         "xaxis": "x7",
         "y": [
          10,
          7,
          9,
          8,
          2,
          7,
          9,
          3,
          18,
          4,
          7,
          10,
          13,
          4,
          6,
          9,
          5,
          4,
          7,
          3,
          7,
          3,
          5,
          8,
          4,
          11,
          3,
          3,
          5,
          10,
          4,
          21,
          3,
          6,
          5,
          3,
          9,
          5,
          10,
          14,
          5,
          4,
          2,
          21,
          14,
          2,
          8,
          34,
          5,
          2,
          2,
          4,
          9,
          41,
          10,
          10,
          16,
          7,
          3,
          57,
          10,
          2,
          6,
          1,
          12,
          7,
          6,
          10,
          8,
          3,
          6,
          10,
          5,
          5,
          5,
          4,
          9,
          4,
          6,
          5,
          1,
          5,
          6,
          5,
          3,
          7,
          8,
          10,
          4,
          70,
          47,
          9,
          12,
          4,
          39,
          7,
          36,
          13,
          89,
          9,
          3,
          7,
          10,
          4,
          2,
          3,
          4,
          2,
          31
         ],
         "y0": " ",
         "yaxis": "y7"
        },
        {
         "alignmentgroup": "True",
         "hovertemplate": "clusters=%{x}<br>stat=Felnőtt napijegy ára<br>value=%{y}<extra></extra>",
         "legendgroup": "2.0",
         "line": {
          "width": 1
         },
         "marker": {
          "color": "#EF553B",
          "size": 4
         },
         "name": "2.0",
         "notched": false,
         "offsetgroup": "2.0",
         "orientation": "v",
         "showlegend": false,
         "type": "box",
         "x": [
          2,
          2,
          2,
          2,
          2,
          2,
          2,
          2,
          2,
          2,
          2,
          2,
          2,
          2,
          2,
          2,
          2,
          2,
          2,
          2,
          2,
          2,
          2,
          2,
          2,
          2,
          2,
          2,
          2,
          2,
          2,
          2,
          2,
          2,
          2,
          2,
          2,
          2,
          2,
          2,
          2,
          2,
          2,
          2,
          2,
          2,
          2,
          2,
          2,
          2,
          2,
          2,
          2,
          2,
          2,
          2,
          2,
          2,
          2,
          2,
          2,
          2,
          2,
          2,
          2,
          2,
          2,
          2,
          2,
          2,
          2,
          2,
          2,
          2,
          2,
          2,
          2,
          2,
          2,
          2,
          2,
          2,
          2,
          2,
          2,
          2,
          2,
          2,
          2,
          2,
          2,
          2,
          2,
          2,
          2,
          2,
          2,
          2,
          2
         ],
         "x0": " ",
         "xaxis": "x8",
         "y": [
          55,
          37,
          48,
          36.4,
          43,
          49,
          46,
          68.5,
          37,
          46.8,
          55,
          55,
          20.3,
          36,
          42,
          32,
          56,
          59,
          32,
          50,
          59.5,
          20,
          65.5,
          39,
          29,
          62,
          46.5,
          44,
          56,
          34,
          42,
          47,
          45,
          50.5,
          43,
          50,
          55,
          45,
          44,
          65,
          57.5,
          20,
          43.5,
          68,
          27,
          23.5,
          39.1,
          44,
          67,
          49.5,
          52,
          54.5,
          58,
          23,
          65,
          68,
          26,
          40.5,
          58,
          50.7,
          29,
          52,
          56,
          35,
          55,
          49.5,
          59,
          38,
          39,
          20,
          59,
          28,
          43,
          30,
          20,
          42.6,
          32.5,
          31,
          68,
          45.5,
          50,
          30,
          66,
          68,
          46,
          40,
          61,
          55,
          57,
          53,
          67,
          49,
          68.5,
          55,
          53,
          23,
          25,
          27.5,
          69.5
         ],
         "y0": " ",
         "yaxis": "y8"
        },
        {
         "alignmentgroup": "True",
         "hovertemplate": "clusters=%{x}<br>stat=Ülőlift<br>value=%{y}<extra></extra>",
         "legendgroup": "2.0",
         "line": {
          "width": 1
         },
         "marker": {
          "color": "#EF553B",
          "size": 4
         },
         "name": "2.0",
         "notched": false,
         "offsetgroup": "2.0",
         "orientation": "v",
         "showlegend": false,
         "type": "box",
         "x": [
          2,
          2,
          2,
          2,
          2,
          2,
          2,
          2,
          2,
          2,
          2,
          2,
          2,
          2,
          2,
          2,
          2,
          2,
          2,
          2,
          2,
          2,
          2,
          2,
          2,
          2,
          2,
          2,
          2,
          2,
          2,
          2,
          2,
          2,
          2,
          2,
          2,
          2,
          2,
          2,
          2,
          2,
          2,
          2,
          2,
          2,
          2,
          2,
          2,
          2,
          2,
          2,
          2,
          2,
          2,
          2,
          2,
          2,
          2,
          2,
          2,
          2,
          2,
          2,
          2,
          2,
          2,
          2,
          2,
          2,
          2,
          2,
          2,
          2,
          2,
          2,
          2,
          2,
          2,
          2,
          2,
          2,
          2,
          2,
          2,
          2,
          2,
          2,
          2,
          2,
          2,
          2,
          2,
          2,
          2,
          2,
          2,
          2,
          2,
          2,
          2,
          2,
          2,
          2,
          2,
          2,
          2,
          2,
          2
         ],
         "x0": " ",
         "xaxis": "x9",
         "y": [
          4,
          1,
          4,
          2,
          0,
          1,
          3,
          2,
          6,
          0,
          1,
          6,
          4,
          0,
          1,
          2,
          1,
          1,
          3,
          0,
          2,
          0,
          2,
          2,
          0,
          2,
          1,
          0,
          1,
          2,
          2,
          8,
          0,
          1,
          2,
          0,
          4,
          0,
          4,
          6,
          1,
          1,
          0,
          6,
          4,
          0,
          6,
          8,
          0,
          0,
          0,
          0,
          2,
          25,
          3,
          1,
          5,
          2,
          0,
          27,
          7,
          0,
          2,
          0,
          3,
          1,
          0,
          2,
          4,
          1,
          3,
          3,
          0,
          2,
          0,
          0,
          5,
          0,
          1,
          0,
          0,
          0,
          0,
          0,
          1,
          2,
          0,
          1,
          0,
          21,
          20,
          3,
          1,
          0,
          16,
          3,
          18,
          3,
          43,
          4,
          0,
          3,
          3,
          0,
          0,
          0,
          0,
          0,
          13
         ],
         "y0": " ",
         "yaxis": "y9"
        },
        {
         "alignmentgroup": "True",
         "hovertemplate": "clusters=%{x}<br>stat=Kiskabinos lift<br>value=%{y}<extra></extra>",
         "legendgroup": "2.0",
         "line": {
          "width": 1
         },
         "marker": {
          "color": "#EF553B",
          "size": 4
         },
         "name": "2.0",
         "notched": false,
         "offsetgroup": "2.0",
         "orientation": "v",
         "showlegend": false,
         "type": "box",
         "x": [
          2,
          2,
          2,
          2,
          2,
          2,
          2,
          2,
          2,
          2,
          2,
          2,
          2,
          2,
          2,
          2,
          2,
          2,
          2,
          2,
          2,
          2,
          2,
          2,
          2,
          2,
          2,
          2,
          2,
          2,
          2,
          2,
          2,
          2,
          2,
          2,
          2,
          2,
          2,
          2,
          2,
          2,
          2,
          2,
          2,
          2,
          2,
          2,
          2,
          2,
          2,
          2,
          2,
          2,
          2,
          2,
          2,
          2,
          2,
          2,
          2,
          2,
          2,
          2,
          2,
          2,
          2,
          2,
          2,
          2,
          2,
          2,
          2,
          2,
          2,
          2,
          2,
          2,
          2,
          2,
          2,
          2,
          2,
          2,
          2,
          2,
          2,
          2,
          2,
          2,
          2,
          2,
          2,
          2,
          2,
          2,
          2,
          2,
          2,
          2,
          2,
          2,
          2,
          2,
          2,
          2,
          2,
          2,
          2
         ],
         "x0": " ",
         "xaxis": "x4",
         "y": [
          0,
          0,
          0,
          0,
          0,
          0,
          2,
          0,
          7,
          0,
          1,
          1,
          1,
          0,
          0,
          0,
          0,
          0,
          1,
          0,
          0,
          0,
          0,
          1,
          0,
          3,
          0,
          0,
          1,
          2,
          0,
          1,
          0,
          1,
          1,
          0,
          3,
          1,
          2,
          3,
          1,
          1,
          0,
          6,
          0,
          0,
          0,
          7,
          0,
          0,
          0,
          2,
          0,
          4,
          1,
          2,
          3,
          2,
          0,
          11,
          1,
          0,
          0,
          0,
          3,
          0,
          0,
          0,
          3,
          0,
          1,
          2,
          0,
          0,
          1,
          0,
          1,
          0,
          0,
          0,
          0,
          0,
          1,
          1,
          0,
          3,
          0,
          3,
          0,
          29,
          9,
          2,
          0,
          1,
          11,
          2,
          8,
          0,
          11,
          1,
          2,
          1,
          4,
          0,
          0,
          0,
          0,
          0,
          8
         ],
         "y0": " ",
         "yaxis": "y4"
        },
        {
         "alignmentgroup": "True",
         "hovertemplate": "clusters=%{x}<br>stat=Kék arány<br>value=%{y}<extra></extra>",
         "legendgroup": "2.0",
         "line": {
          "width": 1
         },
         "marker": {
          "color": "#EF553B",
          "size": 4
         },
         "name": "2.0",
         "notched": false,
         "offsetgroup": "2.0",
         "orientation": "v",
         "showlegend": false,
         "type": "box",
         "x": [
          2,
          2,
          2,
          2,
          2,
          2,
          2,
          2,
          2,
          2,
          2,
          2,
          2,
          2,
          2,
          2,
          2,
          2,
          2,
          2,
          2,
          2,
          2,
          2,
          2,
          2,
          2,
          2,
          2,
          2,
          2,
          2,
          2,
          2,
          2,
          2,
          2,
          2,
          2,
          2,
          2,
          2,
          2,
          2,
          2,
          2,
          2,
          2,
          2,
          2,
          2,
          2,
          2,
          2,
          2,
          2,
          2,
          2,
          2,
          2,
          2,
          2,
          2,
          2,
          2,
          2,
          2,
          2,
          2,
          2,
          2,
          2,
          2,
          2,
          2,
          2,
          2,
          2,
          2,
          2,
          2,
          2,
          2,
          2,
          2,
          2,
          2,
          2,
          2,
          2,
          2,
          2,
          2,
          2,
          2,
          2,
          2,
          2,
          2,
          2,
          2,
          2,
          2,
          2,
          2,
          2,
          2,
          2,
          2
         ],
         "x0": " ",
         "xaxis": "x5",
         "y": [
          0.2222222222222222,
          0.14285714285714285,
          0.6176470588235294,
          0.5,
          1,
          0.3112582781456954,
          0.16883116883116883,
          0.29411764705882354,
          0.3724304715840387,
          0.5,
          0.3448275862068966,
          0.3333333333333333,
          0.5333333333333333,
          1,
          0.3333333333333333,
          0.37735849056603776,
          0,
          0.25,
          0.6581818181818182,
          0.75,
          0.4666666666666667,
          0.2727272727272727,
          0.46249999999999997,
          0.45,
          0.8,
          0.21052631578947367,
          0.4375,
          0.5507246376811593,
          0.36607142857142855,
          0.13953488372093023,
          0.45161290322580644,
          0.2270992366412214,
          0.25,
          0.2826086956521739,
          0.32,
          0.8,
          0.4981273408239701,
          0.27868852459016397,
          0.52,
          0.21300448430493274,
          0.3333333333333333,
          0.3125,
          0.7777777777777778,
          0.23333333333333334,
          0.5786350148367952,
          0.5263157894736842,
          0.296875,
          0.43333333333333335,
          0.5,
          0.6,
          0.6666666666666666,
          0.2524271844660194,
          0.19444444444444445,
          0.19665271966527198,
          0.25,
          0.5652173913043478,
          0.14285714285714285,
          0.4090909090909091,
          1,
          0.5425531914893617,
          0.6785714285714286,
          0.2,
          0.6428571428571429,
          0.3333333333333333,
          0.4117647058823529,
          0.25,
          0.5,
          0.2748091603053435,
          0.5433962264150943,
          0.6,
          0.3761904761904762,
          0.6956521739130435,
          0.21874999999999997,
          0.09090909090909091,
          0.3859649122807018,
          0.8333333333333334,
          0.2916666666666667,
          0.2727272727272727,
          0.38461538461538464,
          0.3333333333333333,
          1,
          0.7692307692307692,
          0.2631578947368421,
          0.5,
          0.48717948717948717,
          0.5317919075144508,
          0.4341085271317829,
          0.46153846153846156,
          0.3333333333333333,
          0.5185185185185185,
          0.37723577235772354,
          0.5454545454545454,
          0.36,
          0.75,
          0.25268817204301075,
          0.25806451612903225,
          0.5299145299145299,
          0.5863874345549738,
          0.4304635761589404,
          0.4338983050847458,
          0.19230769230769232,
          0.27647058823529413,
          0.4,
          0.6,
          1,
          1,
          0.5,
          0.6666666666666666,
          0.4846582984658298
         ],
         "y0": " ",
         "yaxis": "y5"
        },
        {
         "alignmentgroup": "True",
         "hovertemplate": "clusters=%{x}<br>stat=Piros arány<br>value=%{y}<extra></extra>",
         "legendgroup": "2.0",
         "line": {
          "width": 1
         },
         "marker": {
          "color": "#EF553B",
          "size": 4
         },
         "name": "2.0",
         "notched": false,
         "offsetgroup": "2.0",
         "orientation": "v",
         "showlegend": false,
         "type": "box",
         "x": [
          2,
          2,
          2,
          2,
          2,
          2,
          2,
          2,
          2,
          2,
          2,
          2,
          2,
          2,
          2,
          2,
          2,
          2,
          2,
          2,
          2,
          2,
          2,
          2,
          2,
          2,
          2,
          2,
          2,
          2,
          2,
          2,
          2,
          2,
          2,
          2,
          2,
          2,
          2,
          2,
          2,
          2,
          2,
          2,
          2,
          2,
          2,
          2,
          2,
          2,
          2,
          2,
          2,
          2,
          2,
          2,
          2,
          2,
          2,
          2,
          2,
          2,
          2,
          2,
          2,
          2,
          2,
          2,
          2,
          2,
          2,
          2,
          2,
          2,
          2,
          2,
          2,
          2,
          2,
          2,
          2,
          2,
          2,
          2,
          2,
          2,
          2,
          2,
          2,
          2,
          2,
          2,
          2,
          2,
          2,
          2,
          2,
          2,
          2,
          2,
          2,
          2,
          2,
          2,
          2,
          2,
          2,
          2,
          2
         ],
         "x0": " ",
         "xaxis": "x6",
         "y": [
          0.5925925925925926,
          0.7142857142857143,
          0.35294117647058826,
          0.4,
          0,
          0.4768211920529802,
          0.6051948051948052,
          0.5378151260504201,
          0.5961305925030229,
          0.4,
          0.3448275862068966,
          0.48,
          0.4222222222222222,
          0,
          0.4444444444444444,
          0.4811320754716981,
          0.8,
          0.6875,
          0.2690909090909091,
          0.25,
          0.5333333333333333,
          0.7272727272727273,
          0.24166666666666667,
          0.5,
          0.2,
          0.631578947368421,
          0.5,
          0.391304347826087,
          0.5892857142857143,
          0.5813953488372093,
          0.45161290322580644,
          0.6564885496183206,
          0.75,
          0.6739130434782609,
          0.34,
          0.2,
          0.4456928838951311,
          0.639344262295082,
          0.34,
          0.5493273542600897,
          0.6111111111111112,
          0.5625,
          0.2222222222222222,
          0.5833333333333334,
          0.35311572700296734,
          0.4736842105263158,
          0.5208333333333334,
          0.3416666666666667,
          0.25,
          0.4,
          0.3333333333333333,
          0.5631067961165048,
          0.75,
          0.5983263598326359,
          0.625,
          0.34782608695652173,
          0.7142857142857143,
          0.34545454545454546,
          0,
          0.35106382978723405,
          0.25,
          0.8,
          0.35714285714285715,
          0.6666666666666666,
          0.3764705882352941,
          0.75,
          0.35714285714285715,
          0.6106870229007634,
          0.38490566037735846,
          0.3,
          0.5476190476190477,
          0.2608695652173913,
          0.390625,
          0.7272727272727273,
          0.6140350877192983,
          0.16666666666666666,
          0.4583333333333333,
          0.7272727272727273,
          0.5384615384615384,
          0.5,
          0,
          0.23076923076923075,
          0.5263157894736842,
          0.5,
          0.5128205128205129,
          0.43352601156069365,
          0.4883720930232558,
          0.38461538461538464,
          0.6666666666666666,
          0.4148148148148148,
          0.5552845528455285,
          0.3090909090909091,
          0.48,
          0.25,
          0.6021505376344086,
          0.6912442396313364,
          0.38461538461538464,
          0.31413612565445026,
          0.40397350993377484,
          0.5389830508474577,
          0.7252747252747253,
          0.6529411764705882,
          0.525,
          0.4,
          0,
          0,
          0.375,
          0.3333333333333333,
          0.32496513249651326
         ],
         "y0": " ",
         "yaxis": "y6"
        },
        {
         "alignmentgroup": "True",
         "hovertemplate": "clusters=%{x}<br>stat=Fekete arány<br>value=%{y}<extra></extra>",
         "legendgroup": "2.0",
         "line": {
          "width": 1
         },
         "marker": {
          "color": "#EF553B",
          "size": 4
         },
         "name": "2.0",
         "notched": false,
         "offsetgroup": "2.0",
         "orientation": "v",
         "showlegend": false,
         "type": "box",
         "x": [
          2,
          2,
          2,
          2,
          2,
          2,
          2,
          2,
          2,
          2,
          2,
          2,
          2,
          2,
          2,
          2,
          2,
          2,
          2,
          2,
          2,
          2,
          2,
          2,
          2,
          2,
          2,
          2,
          2,
          2,
          2,
          2,
          2,
          2,
          2,
          2,
          2,
          2,
          2,
          2,
          2,
          2,
          2,
          2,
          2,
          2,
          2,
          2,
          2,
          2,
          2,
          2,
          2,
          2,
          2,
          2,
          2,
          2,
          2,
          2,
          2,
          2,
          2,
          2,
          2,
          2,
          2,
          2,
          2,
          2,
          2,
          2,
          2,
          2,
          2,
          2,
          2,
          2,
          2,
          2,
          2,
          2,
          2,
          2,
          2,
          2,
          2,
          2,
          2,
          2,
          2,
          2,
          2,
          2,
          2,
          2,
          2,
          2,
          2,
          2,
          2,
          2,
          2,
          2,
          2,
          2,
          2,
          2,
          2
         ],
         "x0": " ",
         "xaxis": "x",
         "y": [
          0.18518518518518517,
          0.14285714285714285,
          0.029411764705882353,
          0.1,
          0,
          0.21192052980132453,
          0.22597402597402597,
          0.1680672268907563,
          0.03143893591293833,
          0.1,
          0.3103448275862069,
          0.18666666666666668,
          0.044444444444444446,
          0,
          0.2222222222222222,
          0.14150943396226415,
          0.2,
          0.0625,
          0.07272727272727272,
          0,
          0,
          0,
          0.29583333333333334,
          0.05,
          0,
          0.15789473684210525,
          0.0625,
          0.057971014492753624,
          0.044642857142857144,
          0.27906976744186046,
          0.0967741935483871,
          0.11641221374045801,
          0,
          0.043478260869565216,
          0.34,
          0,
          0.056179775280898875,
          0.0819672131147541,
          0.14,
          0.23766816143497757,
          0.05555555555555555,
          0.125,
          0,
          0.18333333333333332,
          0.06824925816023737,
          0,
          0.18229166666666669,
          0.225,
          0.25,
          0,
          0,
          0.1844660194174757,
          0.05555555555555555,
          0.20502092050209206,
          0.125,
          0.08695652173913043,
          0.14285714285714285,
          0.24545454545454545,
          0,
          0.10638297872340426,
          0.07142857142857142,
          0,
          0,
          0,
          0.21176470588235294,
          0,
          0.14285714285714285,
          0.11450381679389313,
          0.07169811320754717,
          0.1,
          0.0761904761904762,
          0.043478260869565216,
          0.390625,
          0.18181818181818182,
          0,
          0,
          0.25,
          0,
          0.07692307692307693,
          0.16666666666666666,
          0,
          0,
          0.21052631578947367,
          0,
          0,
          0.03468208092485549,
          0.07751937984496124,
          0.15384615384615385,
          0,
          0.06666666666666667,
          0.06747967479674798,
          0.14545454545454548,
          0.16,
          0,
          0.14516129032258066,
          0.05069124423963134,
          0.08547008547008547,
          0.09947643979057591,
          0.16556291390728478,
          0.027118644067796613,
          0.08241758241758242,
          0.07058823529411765,
          0.075,
          0,
          0,
          0,
          0.125,
          0,
          0.1903765690376569
         ],
         "y0": " ",
         "yaxis": "y"
        },
        {
         "alignmentgroup": "True",
         "hovertemplate": "clusters=%{x}<br>stat=Hegytető<br>value=%{y}<extra></extra>",
         "legendgroup": "1.0",
         "line": {
          "width": 1
         },
         "marker": {
          "color": "#00cc96",
          "size": 4
         },
         "name": "1.0",
         "notched": false,
         "offsetgroup": "1.0",
         "orientation": "v",
         "showlegend": true,
         "type": "box",
         "x": [
          1,
          1,
          1,
          1,
          1,
          1,
          1,
          1,
          1,
          1,
          1,
          1,
          1,
          1,
          1,
          1
         ],
         "x0": " ",
         "xaxis": "x10",
         "y": [
          1980,
          2000,
          1600,
          1886,
          1370,
          1426,
          1267,
          900,
          1440,
          1545,
          1820,
          1710,
          1112,
          1565,
          1589,
          3212
         ],
         "y0": " ",
         "yaxis": "y10"
        },
        {
         "alignmentgroup": "True",
         "hovertemplate": "clusters=%{x}<br>stat=Sípályák hossza<br>value=%{y}<extra></extra>",
         "legendgroup": "1.0",
         "line": {
          "width": 1
         },
         "marker": {
          "color": "#00cc96",
          "size": 4
         },
         "name": "1.0",
         "notched": false,
         "offsetgroup": "1.0",
         "orientation": "v",
         "showlegend": false,
         "type": "box",
         "x": [
          1,
          1,
          1,
          1,
          1,
          1,
          1,
          1,
          1,
          1,
          1,
          1,
          1,
          1,
          1,
          1
         ],
         "x0": " ",
         "xaxis": "x11",
         "y": [
          6.8,
          39.9,
          10.5,
          20.6,
          3,
          15.5,
          11.5,
          2,
          2,
          3,
          32.2,
          12,
          3,
          10.3,
          7.1,
          64.9
         ],
         "y0": " ",
         "yaxis": "y11"
        },
        {
         "alignmentgroup": "True",
         "hovertemplate": "clusters=%{x}<br>stat=Szintkülönbség<br>value=%{y}<extra></extra>",
         "legendgroup": "1.0",
         "line": {
          "width": 1
         },
         "marker": {
          "color": "#00cc96",
          "size": 4
         },
         "name": "1.0",
         "notched": false,
         "offsetgroup": "1.0",
         "orientation": "v",
         "showlegend": false,
         "type": "box",
         "x": [
          1,
          1,
          1,
          1,
          1,
          1,
          1,
          1,
          1,
          1,
          1,
          1,
          1,
          1,
          1,
          1
         ],
         "x0": " ",
         "xaxis": "x12",
         "y": [
          530,
          1400,
          350,
          346,
          240,
          614,
          416,
          115,
          128,
          1017,
          847,
          390,
          162,
          475,
          700,
          1515
         ],
         "y0": " ",
         "yaxis": "y12"
        },
        {
         "alignmentgroup": "True",
         "hovertemplate": "clusters=%{x}<br>stat=Liftek száma<br>value=%{y}<extra></extra>",
         "legendgroup": "1.0",
         "line": {
          "width": 1
         },
         "marker": {
          "color": "#00cc96",
          "size": 4
         },
         "name": "1.0",
         "notched": false,
         "offsetgroup": "1.0",
         "orientation": "v",
         "showlegend": false,
         "type": "box",
         "x": [
          1,
          1,
          1,
          1,
          1,
          1,
          1,
          1,
          1,
          1,
          1,
          1,
          1,
          1,
          1,
          1
         ],
         "x0": " ",
         "xaxis": "x7",
         "y": [
          7,
          14,
          5,
          7,
          3,
          8,
          4,
          3,
          2,
          2,
          7,
          7,
          2,
          4,
          4,
          26
         ],
         "y0": " ",
         "yaxis": "y7"
        },
        {
         "alignmentgroup": "True",
         "hovertemplate": "clusters=%{x}<br>stat=Felnőtt napijegy ára<br>value=%{y}<extra></extra>",
         "legendgroup": "1.0",
         "line": {
          "width": 1
         },
         "marker": {
          "color": "#00cc96",
          "size": 4
         },
         "name": "1.0",
         "notched": false,
         "offsetgroup": "1.0",
         "orientation": "v",
         "showlegend": false,
         "type": "box",
         "x": [
          1,
          1,
          1,
          1,
          1,
          1,
          1,
          1,
          1,
          1,
          1,
          1,
          1,
          1
         ],
         "x0": " ",
         "xaxis": "x8",
         "y": [
          42.5,
          55,
          36,
          42,
          32,
          43.5,
          44,
          20.5,
          28,
          48,
          40,
          21,
          45,
          57.8
         ],
         "y0": " ",
         "yaxis": "y8"
        },
        {
         "alignmentgroup": "True",
         "hovertemplate": "clusters=%{x}<br>stat=Ülőlift<br>value=%{y}<extra></extra>",
         "legendgroup": "1.0",
         "line": {
          "width": 1
         },
         "marker": {
          "color": "#00cc96",
          "size": 4
         },
         "name": "1.0",
         "notched": false,
         "offsetgroup": "1.0",
         "orientation": "v",
         "showlegend": false,
         "type": "box",
         "x": [
          1,
          1,
          1,
          1,
          1,
          1,
          1,
          1,
          1,
          1,
          1,
          1,
          1,
          1,
          1,
          1
         ],
         "x0": " ",
         "xaxis": "x9",
         "y": [
          2,
          2,
          1,
          1,
          0,
          3,
          2,
          0,
          0,
          0,
          3,
          0,
          0,
          2,
          0,
          7
         ],
         "y0": " ",
         "yaxis": "y9"
        },
        {
         "alignmentgroup": "True",
         "hovertemplate": "clusters=%{x}<br>stat=Kiskabinos lift<br>value=%{y}<extra></extra>",
         "legendgroup": "1.0",
         "line": {
          "width": 1
         },
         "marker": {
          "color": "#00cc96",
          "size": 4
         },
         "name": "1.0",
         "notched": false,
         "offsetgroup": "1.0",
         "orientation": "v",
         "showlegend": false,
         "type": "box",
         "x": [
          1,
          1,
          1,
          1,
          1,
          1,
          1,
          1,
          1,
          1,
          1,
          1,
          1,
          1,
          1,
          1
         ],
         "x0": " ",
         "xaxis": "x4",
         "y": [
          0,
          2,
          0,
          0,
          0,
          0,
          1,
          0,
          0,
          0,
          0,
          0,
          0,
          0,
          0,
          5
         ],
         "y0": " ",
         "yaxis": "y4"
        },
        {
         "alignmentgroup": "True",
         "hovertemplate": "clusters=%{x}<br>stat=Kék arány<br>value=%{y}<extra></extra>",
         "legendgroup": "1.0",
         "line": {
          "width": 1
         },
         "marker": {
          "color": "#00cc96",
          "size": 4
         },
         "name": "1.0",
         "notched": false,
         "offsetgroup": "1.0",
         "orientation": "v",
         "showlegend": false,
         "type": "box",
         "x": [
          1,
          1,
          1,
          1,
          1,
          1,
          1,
          1,
          1,
          1,
          1,
          1,
          1,
          1,
          1,
          1
         ],
         "x0": " ",
         "xaxis": "x5",
         "y": [
          0.8088235294117647,
          0.3007518796992481,
          0.3333333333333333,
          0.2621359223300971,
          0.6666666666666666,
          0.3419354838709677,
          0.6086956521739131,
          0.25,
          0.5,
          0.3333333333333333,
          0.6273291925465838,
          0.5,
          1,
          0.4368932038834951,
          0.2535211267605634,
          0.3389830508474576
         ],
         "y0": " ",
         "yaxis": "y5"
        },
        {
         "alignmentgroup": "True",
         "hovertemplate": "clusters=%{x}<br>stat=Piros arány<br>value=%{y}<extra></extra>",
         "legendgroup": "1.0",
         "line": {
          "width": 1
         },
         "marker": {
          "color": "#00cc96",
          "size": 4
         },
         "name": "1.0",
         "notched": false,
         "offsetgroup": "1.0",
         "orientation": "v",
         "showlegend": false,
         "type": "box",
         "x": [
          1,
          1,
          1,
          1,
          1,
          1,
          1,
          1,
          1,
          1,
          1,
          1,
          1,
          1,
          1,
          1
         ],
         "x0": " ",
         "xaxis": "x6",
         "y": [
          0.1911764705882353,
          0.4511278195488722,
          0.47619047619047616,
          0.5533980582524272,
          0.3333333333333333,
          0.4258064516129032,
          0.2608695652173913,
          0.75,
          0.25,
          0.6666666666666666,
          0.2795031055900621,
          0.3333333333333333,
          0,
          0.3592233009708738,
          0.16901408450704225,
          0.2311248073959938
         ],
         "y0": " ",
         "yaxis": "y6"
        },
        {
         "alignmentgroup": "True",
         "hovertemplate": "clusters=%{x}<br>stat=Fekete arány<br>value=%{y}<extra></extra>",
         "legendgroup": "1.0",
         "line": {
          "width": 1
         },
         "marker": {
          "color": "#00cc96",
          "size": 4
         },
         "name": "1.0",
         "notched": false,
         "offsetgroup": "1.0",
         "orientation": "v",
         "showlegend": false,
         "type": "box",
         "x": [
          1,
          1,
          1,
          1,
          1,
          1,
          1,
          1,
          1,
          1,
          1,
          1,
          1,
          1,
          1,
          1
         ],
         "x0": " ",
         "xaxis": "x",
         "y": [
          0,
          0.2481203007518797,
          0.19047619047619047,
          0.1844660194174757,
          0,
          0.23225806451612904,
          0.13043478260869565,
          0,
          0.25,
          0,
          0.09316770186335403,
          0.16666666666666666,
          0,
          0.20388349514563106,
          0.5774647887323944,
          0.4298921417565485
         ],
         "y0": " ",
         "yaxis": "y"
        }
       ],
       "layout": {
        "annotations": [
         {
          "font": {},
          "showarrow": false,
          "text": "Fekete arány",
          "x": 0.15,
          "xanchor": "center",
          "xref": "paper",
          "y": 0.2125,
          "yanchor": "bottom",
          "yref": "paper"
         },
         {
          "font": {},
          "showarrow": false,
          "text": "Kiskabinos lift",
          "x": 0.15,
          "xanchor": "center",
          "xref": "paper",
          "y": 0.475,
          "yanchor": "bottom",
          "yref": "paper"
         },
         {
          "font": {},
          "showarrow": false,
          "text": "Kék arány",
          "x": 0.49999999999999994,
          "xanchor": "center",
          "xref": "paper",
          "y": 0.475,
          "yanchor": "bottom",
          "yref": "paper"
         },
         {
          "font": {},
          "showarrow": false,
          "text": "Piros arány",
          "x": 0.85,
          "xanchor": "center",
          "xref": "paper",
          "y": 0.475,
          "yanchor": "bottom",
          "yref": "paper"
         },
         {
          "font": {},
          "showarrow": false,
          "text": "Liftek száma",
          "x": 0.15,
          "xanchor": "center",
          "xref": "paper",
          "y": 0.7375,
          "yanchor": "bottom",
          "yref": "paper"
         },
         {
          "font": {},
          "showarrow": false,
          "text": "Felnőtt napijegy ára",
          "x": 0.49999999999999994,
          "xanchor": "center",
          "xref": "paper",
          "y": 0.7375,
          "yanchor": "bottom",
          "yref": "paper"
         },
         {
          "font": {},
          "showarrow": false,
          "text": "Ülőlift",
          "x": 0.85,
          "xanchor": "center",
          "xref": "paper",
          "y": 0.7375,
          "yanchor": "bottom",
          "yref": "paper"
         },
         {
          "font": {},
          "showarrow": false,
          "text": "Hegytető",
          "x": 0.15,
          "xanchor": "center",
          "xref": "paper",
          "y": 1,
          "yanchor": "bottom",
          "yref": "paper"
         },
         {
          "font": {},
          "showarrow": false,
          "text": "Sípályák hossza",
          "x": 0.49999999999999994,
          "xanchor": "center",
          "xref": "paper",
          "y": 1,
          "yanchor": "bottom",
          "yref": "paper"
         },
         {
          "font": {},
          "showarrow": false,
          "text": "Szintkülönbség",
          "x": 0.85,
          "xanchor": "center",
          "xref": "paper",
          "y": 1,
          "yanchor": "bottom",
          "yref": "paper"
         }
        ],
        "boxmode": "overlay",
        "height": 950,
        "legend": {
         "title": {
          "text": "clusters"
         },
         "tracegroupgap": 0
        },
        "showlegend": false,
        "template": {
         "data": {
          "bar": [
           {
            "error_x": {
             "color": "#2a3f5f"
            },
            "error_y": {
             "color": "#2a3f5f"
            },
            "marker": {
             "line": {
              "color": "#E5ECF6",
              "width": 0.5
             },
             "pattern": {
              "fillmode": "overlay",
              "size": 10,
              "solidity": 0.2
             }
            },
            "type": "bar"
           }
          ],
          "barpolar": [
           {
            "marker": {
             "line": {
              "color": "#E5ECF6",
              "width": 0.5
             },
             "pattern": {
              "fillmode": "overlay",
              "size": 10,
              "solidity": 0.2
             }
            },
            "type": "barpolar"
           }
          ],
          "carpet": [
           {
            "aaxis": {
             "endlinecolor": "#2a3f5f",
             "gridcolor": "white",
             "linecolor": "white",
             "minorgridcolor": "white",
             "startlinecolor": "#2a3f5f"
            },
            "baxis": {
             "endlinecolor": "#2a3f5f",
             "gridcolor": "white",
             "linecolor": "white",
             "minorgridcolor": "white",
             "startlinecolor": "#2a3f5f"
            },
            "type": "carpet"
           }
          ],
          "choropleth": [
           {
            "colorbar": {
             "outlinewidth": 0,
             "ticks": ""
            },
            "type": "choropleth"
           }
          ],
          "contour": [
           {
            "colorbar": {
             "outlinewidth": 0,
             "ticks": ""
            },
            "colorscale": [
             [
              0,
              "#0d0887"
             ],
             [
              0.1111111111111111,
              "#46039f"
             ],
             [
              0.2222222222222222,
              "#7201a8"
             ],
             [
              0.3333333333333333,
              "#9c179e"
             ],
             [
              0.4444444444444444,
              "#bd3786"
             ],
             [
              0.5555555555555556,
              "#d8576b"
             ],
             [
              0.6666666666666666,
              "#ed7953"
             ],
             [
              0.7777777777777778,
              "#fb9f3a"
             ],
             [
              0.8888888888888888,
              "#fdca26"
             ],
             [
              1,
              "#f0f921"
             ]
            ],
            "type": "contour"
           }
          ],
          "contourcarpet": [
           {
            "colorbar": {
             "outlinewidth": 0,
             "ticks": ""
            },
            "type": "contourcarpet"
           }
          ],
          "heatmap": [
           {
            "colorbar": {
             "outlinewidth": 0,
             "ticks": ""
            },
            "colorscale": [
             [
              0,
              "#0d0887"
             ],
             [
              0.1111111111111111,
              "#46039f"
             ],
             [
              0.2222222222222222,
              "#7201a8"
             ],
             [
              0.3333333333333333,
              "#9c179e"
             ],
             [
              0.4444444444444444,
              "#bd3786"
             ],
             [
              0.5555555555555556,
              "#d8576b"
             ],
             [
              0.6666666666666666,
              "#ed7953"
             ],
             [
              0.7777777777777778,
              "#fb9f3a"
             ],
             [
              0.8888888888888888,
              "#fdca26"
             ],
             [
              1,
              "#f0f921"
             ]
            ],
            "type": "heatmap"
           }
          ],
          "heatmapgl": [
           {
            "colorbar": {
             "outlinewidth": 0,
             "ticks": ""
            },
            "colorscale": [
             [
              0,
              "#0d0887"
             ],
             [
              0.1111111111111111,
              "#46039f"
             ],
             [
              0.2222222222222222,
              "#7201a8"
             ],
             [
              0.3333333333333333,
              "#9c179e"
             ],
             [
              0.4444444444444444,
              "#bd3786"
             ],
             [
              0.5555555555555556,
              "#d8576b"
             ],
             [
              0.6666666666666666,
              "#ed7953"
             ],
             [
              0.7777777777777778,
              "#fb9f3a"
             ],
             [
              0.8888888888888888,
              "#fdca26"
             ],
             [
              1,
              "#f0f921"
             ]
            ],
            "type": "heatmapgl"
           }
          ],
          "histogram": [
           {
            "marker": {
             "pattern": {
              "fillmode": "overlay",
              "size": 10,
              "solidity": 0.2
             }
            },
            "type": "histogram"
           }
          ],
          "histogram2d": [
           {
            "colorbar": {
             "outlinewidth": 0,
             "ticks": ""
            },
            "colorscale": [
             [
              0,
              "#0d0887"
             ],
             [
              0.1111111111111111,
              "#46039f"
             ],
             [
              0.2222222222222222,
              "#7201a8"
             ],
             [
              0.3333333333333333,
              "#9c179e"
             ],
             [
              0.4444444444444444,
              "#bd3786"
             ],
             [
              0.5555555555555556,
              "#d8576b"
             ],
             [
              0.6666666666666666,
              "#ed7953"
             ],
             [
              0.7777777777777778,
              "#fb9f3a"
             ],
             [
              0.8888888888888888,
              "#fdca26"
             ],
             [
              1,
              "#f0f921"
             ]
            ],
            "type": "histogram2d"
           }
          ],
          "histogram2dcontour": [
           {
            "colorbar": {
             "outlinewidth": 0,
             "ticks": ""
            },
            "colorscale": [
             [
              0,
              "#0d0887"
             ],
             [
              0.1111111111111111,
              "#46039f"
             ],
             [
              0.2222222222222222,
              "#7201a8"
             ],
             [
              0.3333333333333333,
              "#9c179e"
             ],
             [
              0.4444444444444444,
              "#bd3786"
             ],
             [
              0.5555555555555556,
              "#d8576b"
             ],
             [
              0.6666666666666666,
              "#ed7953"
             ],
             [
              0.7777777777777778,
              "#fb9f3a"
             ],
             [
              0.8888888888888888,
              "#fdca26"
             ],
             [
              1,
              "#f0f921"
             ]
            ],
            "type": "histogram2dcontour"
           }
          ],
          "mesh3d": [
           {
            "colorbar": {
             "outlinewidth": 0,
             "ticks": ""
            },
            "type": "mesh3d"
           }
          ],
          "parcoords": [
           {
            "line": {
             "colorbar": {
              "outlinewidth": 0,
              "ticks": ""
             }
            },
            "type": "parcoords"
           }
          ],
          "pie": [
           {
            "automargin": true,
            "type": "pie"
           }
          ],
          "scatter": [
           {
            "marker": {
             "colorbar": {
              "outlinewidth": 0,
              "ticks": ""
             }
            },
            "type": "scatter"
           }
          ],
          "scatter3d": [
           {
            "line": {
             "colorbar": {
              "outlinewidth": 0,
              "ticks": ""
             }
            },
            "marker": {
             "colorbar": {
              "outlinewidth": 0,
              "ticks": ""
             }
            },
            "type": "scatter3d"
           }
          ],
          "scattercarpet": [
           {
            "marker": {
             "colorbar": {
              "outlinewidth": 0,
              "ticks": ""
             }
            },
            "type": "scattercarpet"
           }
          ],
          "scattergeo": [
           {
            "marker": {
             "colorbar": {
              "outlinewidth": 0,
              "ticks": ""
             }
            },
            "type": "scattergeo"
           }
          ],
          "scattergl": [
           {
            "marker": {
             "colorbar": {
              "outlinewidth": 0,
              "ticks": ""
             }
            },
            "type": "scattergl"
           }
          ],
          "scattermapbox": [
           {
            "marker": {
             "colorbar": {
              "outlinewidth": 0,
              "ticks": ""
             }
            },
            "type": "scattermapbox"
           }
          ],
          "scatterpolar": [
           {
            "marker": {
             "colorbar": {
              "outlinewidth": 0,
              "ticks": ""
             }
            },
            "type": "scatterpolar"
           }
          ],
          "scatterpolargl": [
           {
            "marker": {
             "colorbar": {
              "outlinewidth": 0,
              "ticks": ""
             }
            },
            "type": "scatterpolargl"
           }
          ],
          "scatterternary": [
           {
            "marker": {
             "colorbar": {
              "outlinewidth": 0,
              "ticks": ""
             }
            },
            "type": "scatterternary"
           }
          ],
          "surface": [
           {
            "colorbar": {
             "outlinewidth": 0,
             "ticks": ""
            },
            "colorscale": [
             [
              0,
              "#0d0887"
             ],
             [
              0.1111111111111111,
              "#46039f"
             ],
             [
              0.2222222222222222,
              "#7201a8"
             ],
             [
              0.3333333333333333,
              "#9c179e"
             ],
             [
              0.4444444444444444,
              "#bd3786"
             ],
             [
              0.5555555555555556,
              "#d8576b"
             ],
             [
              0.6666666666666666,
              "#ed7953"
             ],
             [
              0.7777777777777778,
              "#fb9f3a"
             ],
             [
              0.8888888888888888,
              "#fdca26"
             ],
             [
              1,
              "#f0f921"
             ]
            ],
            "type": "surface"
           }
          ],
          "table": [
           {
            "cells": {
             "fill": {
              "color": "#EBF0F8"
             },
             "line": {
              "color": "white"
             }
            },
            "header": {
             "fill": {
              "color": "#C8D4E3"
             },
             "line": {
              "color": "white"
             }
            },
            "type": "table"
           }
          ]
         },
         "layout": {
          "annotationdefaults": {
           "arrowcolor": "#2a3f5f",
           "arrowhead": 0,
           "arrowwidth": 1
          },
          "autotypenumbers": "strict",
          "coloraxis": {
           "colorbar": {
            "outlinewidth": 0,
            "ticks": ""
           }
          },
          "colorscale": {
           "diverging": [
            [
             0,
             "#8e0152"
            ],
            [
             0.1,
             "#c51b7d"
            ],
            [
             0.2,
             "#de77ae"
            ],
            [
             0.3,
             "#f1b6da"
            ],
            [
             0.4,
             "#fde0ef"
            ],
            [
             0.5,
             "#f7f7f7"
            ],
            [
             0.6,
             "#e6f5d0"
            ],
            [
             0.7,
             "#b8e186"
            ],
            [
             0.8,
             "#7fbc41"
            ],
            [
             0.9,
             "#4d9221"
            ],
            [
             1,
             "#276419"
            ]
           ],
           "sequential": [
            [
             0,
             "#0d0887"
            ],
            [
             0.1111111111111111,
             "#46039f"
            ],
            [
             0.2222222222222222,
             "#7201a8"
            ],
            [
             0.3333333333333333,
             "#9c179e"
            ],
            [
             0.4444444444444444,
             "#bd3786"
            ],
            [
             0.5555555555555556,
             "#d8576b"
            ],
            [
             0.6666666666666666,
             "#ed7953"
            ],
            [
             0.7777777777777778,
             "#fb9f3a"
            ],
            [
             0.8888888888888888,
             "#fdca26"
            ],
            [
             1,
             "#f0f921"
            ]
           ],
           "sequentialminus": [
            [
             0,
             "#0d0887"
            ],
            [
             0.1111111111111111,
             "#46039f"
            ],
            [
             0.2222222222222222,
             "#7201a8"
            ],
            [
             0.3333333333333333,
             "#9c179e"
            ],
            [
             0.4444444444444444,
             "#bd3786"
            ],
            [
             0.5555555555555556,
             "#d8576b"
            ],
            [
             0.6666666666666666,
             "#ed7953"
            ],
            [
             0.7777777777777778,
             "#fb9f3a"
            ],
            [
             0.8888888888888888,
             "#fdca26"
            ],
            [
             1,
             "#f0f921"
            ]
           ]
          },
          "colorway": [
           "#636efa",
           "#EF553B",
           "#00cc96",
           "#ab63fa",
           "#FFA15A",
           "#19d3f3",
           "#FF6692",
           "#B6E880",
           "#FF97FF",
           "#FECB52"
          ],
          "font": {
           "color": "#2a3f5f"
          },
          "geo": {
           "bgcolor": "white",
           "lakecolor": "white",
           "landcolor": "#E5ECF6",
           "showlakes": true,
           "showland": true,
           "subunitcolor": "white"
          },
          "hoverlabel": {
           "align": "left"
          },
          "hovermode": "closest",
          "mapbox": {
           "style": "light"
          },
          "paper_bgcolor": "white",
          "plot_bgcolor": "#E5ECF6",
          "polar": {
           "angularaxis": {
            "gridcolor": "white",
            "linecolor": "white",
            "ticks": ""
           },
           "bgcolor": "#E5ECF6",
           "radialaxis": {
            "gridcolor": "white",
            "linecolor": "white",
            "ticks": ""
           }
          },
          "scene": {
           "xaxis": {
            "backgroundcolor": "#E5ECF6",
            "gridcolor": "white",
            "gridwidth": 2,
            "linecolor": "white",
            "showbackground": true,
            "ticks": "",
            "zerolinecolor": "white"
           },
           "yaxis": {
            "backgroundcolor": "#E5ECF6",
            "gridcolor": "white",
            "gridwidth": 2,
            "linecolor": "white",
            "showbackground": true,
            "ticks": "",
            "zerolinecolor": "white"
           },
           "zaxis": {
            "backgroundcolor": "#E5ECF6",
            "gridcolor": "white",
            "gridwidth": 2,
            "linecolor": "white",
            "showbackground": true,
            "ticks": "",
            "zerolinecolor": "white"
           }
          },
          "shapedefaults": {
           "line": {
            "color": "#2a3f5f"
           }
          },
          "ternary": {
           "aaxis": {
            "gridcolor": "white",
            "linecolor": "white",
            "ticks": ""
           },
           "baxis": {
            "gridcolor": "white",
            "linecolor": "white",
            "ticks": ""
           },
           "bgcolor": "#E5ECF6",
           "caxis": {
            "gridcolor": "white",
            "linecolor": "white",
            "ticks": ""
           }
          },
          "title": {
           "x": 0.05
          },
          "xaxis": {
           "automargin": true,
           "gridcolor": "white",
           "linecolor": "white",
           "ticks": "",
           "title": {
            "standoff": 15
           },
           "zerolinecolor": "white",
           "zerolinewidth": 2
          },
          "yaxis": {
           "automargin": true,
           "gridcolor": "white",
           "linecolor": "white",
           "ticks": "",
           "title": {
            "standoff": 15
           },
           "zerolinecolor": "white",
           "zerolinewidth": 2
          }
         }
        },
        "title": {
         "text": "Distribution differences across clusters"
        },
        "width": 950,
        "xaxis": {
         "anchor": "y",
         "categoryarray": [
          0,
          2,
          1
         ],
         "categoryorder": "category ascending",
         "domain": [
          0,
          0.3
         ],
         "showticklabels": true,
         "title": {},
         "type": "category",
         "visible": true
        },
        "xaxis10": {
         "anchor": "y10",
         "categoryorder": "category ascending",
         "domain": [
          0,
          0.3
         ],
         "showticklabels": true,
         "title": {},
         "type": "category",
         "visible": true
        },
        "xaxis11": {
         "anchor": "y11",
         "categoryorder": "category ascending",
         "domain": [
          0.35,
          0.6499999999999999
         ],
         "showticklabels": true,
         "title": {},
         "type": "category",
         "visible": true
        },
        "xaxis12": {
         "anchor": "y12",
         "categoryorder": "category ascending",
         "domain": [
          0.7,
          1
         ],
         "showticklabels": true,
         "title": {},
         "type": "category",
         "visible": true
        },
        "xaxis2": {
         "anchor": "y2",
         "categoryarray": [
          0,
          2,
          1
         ],
         "categoryorder": "category ascending",
         "domain": [
          0.35,
          0.6499999999999999
         ],
         "showticklabels": true,
         "title": {},
         "type": "category",
         "visible": true
        },
        "xaxis3": {
         "anchor": "y3",
         "categoryarray": [
          0,
          2,
          1
         ],
         "categoryorder": "category ascending",
         "domain": [
          0.7,
          1
         ],
         "showticklabels": true,
         "title": {},
         "type": "category",
         "visible": true
        },
        "xaxis4": {
         "anchor": "y4",
         "categoryorder": "category ascending",
         "domain": [
          0,
          0.3
         ],
         "showticklabels": true,
         "title": {},
         "type": "category",
         "visible": true
        },
        "xaxis5": {
         "anchor": "y5",
         "categoryorder": "category ascending",
         "domain": [
          0.35,
          0.6499999999999999
         ],
         "showticklabels": true,
         "title": {},
         "type": "category",
         "visible": true
        },
        "xaxis6": {
         "anchor": "y6",
         "categoryorder": "category ascending",
         "domain": [
          0.7,
          1
         ],
         "showticklabels": true,
         "title": {},
         "type": "category",
         "visible": true
        },
        "xaxis7": {
         "anchor": "y7",
         "categoryorder": "category ascending",
         "domain": [
          0,
          0.3
         ],
         "showticklabels": true,
         "title": {},
         "type": "category",
         "visible": true
        },
        "xaxis8": {
         "anchor": "y8",
         "categoryorder": "category ascending",
         "domain": [
          0.35,
          0.6499999999999999
         ],
         "showticklabels": true,
         "title": {},
         "type": "category",
         "visible": true
        },
        "xaxis9": {
         "anchor": "y9",
         "categoryorder": "category ascending",
         "domain": [
          0.7,
          1
         ],
         "showticklabels": true,
         "title": {},
         "type": "category",
         "visible": true
        },
        "yaxis": {
         "anchor": "x",
         "domain": [
          0,
          0.2125
         ],
         "showticklabels": true,
         "title": {},
         "visible": true
        },
        "yaxis10": {
         "anchor": "x10",
         "domain": [
          0.7875,
          1
         ],
         "showticklabels": true,
         "title": {},
         "visible": true
        },
        "yaxis11": {
         "anchor": "x11",
         "domain": [
          0.7875,
          1
         ],
         "showticklabels": true,
         "title": {},
         "visible": true
        },
        "yaxis12": {
         "anchor": "x12",
         "domain": [
          0.7875,
          1
         ],
         "showticklabels": true,
         "title": {},
         "visible": true
        },
        "yaxis2": {
         "anchor": "x2",
         "domain": [
          0,
          0.2125
         ],
         "showticklabels": true,
         "title": {},
         "visible": true
        },
        "yaxis3": {
         "anchor": "x3",
         "domain": [
          0,
          0.2125
         ],
         "showticklabels": true,
         "title": {},
         "visible": true
        },
        "yaxis4": {
         "anchor": "x4",
         "domain": [
          0.2625,
          0.475
         ],
         "showticklabels": true,
         "title": {},
         "visible": true
        },
        "yaxis5": {
         "anchor": "x5",
         "domain": [
          0.2625,
          0.475
         ],
         "showticklabels": true,
         "title": {},
         "visible": true
        },
        "yaxis6": {
         "anchor": "x6",
         "domain": [
          0.2625,
          0.475
         ],
         "showticklabels": true,
         "title": {},
         "visible": true
        },
        "yaxis7": {
         "anchor": "x7",
         "domain": [
          0.525,
          0.7375
         ],
         "showticklabels": true,
         "title": {},
         "visible": true
        },
        "yaxis8": {
         "anchor": "x8",
         "domain": [
          0.525,
          0.7375
         ],
         "showticklabels": true,
         "title": {},
         "visible": true
        },
        "yaxis9": {
         "anchor": "x9",
         "domain": [
          0.525,
          0.7375
         ],
         "showticklabels": true,
         "title": {},
         "visible": true
        }
       }
      }
     },
     "metadata": {},
     "output_type": "display_data"
    }
   ],
   "source": [
    "cluster_exploration = pd.concat([df_cluster.reset_index(), km], 1)\n",
    "cluster_exploration_melt = pd.melt(cluster_exploration, id_vars = ['Síterep', 'clusters'], var_name = 'stat', value_name = 'value')\n",
    "cluster_exploration_melt.dropna(inplace = True)\n",
    "\n",
    "show_diff_between_clusters(cluster_exploration_melt, height = 950)"
   ]
  },
  {
   "cell_type": "code",
   "execution_count": null,
   "metadata": {},
   "outputs": [],
   "source": []
  },
  {
   "cell_type": "code",
   "execution_count": null,
   "metadata": {},
   "outputs": [],
   "source": []
  }
 ],
 "metadata": {
  "kernelspec": {
   "display_name": "base",
   "language": "python",
   "name": "python3"
  },
  "language_info": {
   "codemirror_mode": {
    "name": "ipython",
    "version": 3
   },
   "file_extension": ".py",
   "mimetype": "text/x-python",
   "name": "python",
   "nbconvert_exporter": "python",
   "pygments_lexer": "ipython3",
   "version": "3.9.7"
  },
  "vscode": {
   "interpreter": {
    "hash": "fd5f0602b361fcd80b6e43c9db32d5ff96b182a40640908c77b502a93aa9387e"
   }
  }
 },
 "nbformat": 4,
 "nbformat_minor": 2
}
