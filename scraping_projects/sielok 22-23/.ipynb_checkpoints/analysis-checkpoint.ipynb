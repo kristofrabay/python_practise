{
 "cells": [
  {
   "cell_type": "markdown",
   "metadata": {},
   "source": [
    "## Sielok.hu adatok elemzése\n",
    "\n",
    "<img src=\"https://sielok.hu/files/sielok-logo-feher-400x198.jpg\" width=\"450\"/>"
   ]
  },
  {
   "cell_type": "code",
   "execution_count": 1,
   "metadata": {},
   "outputs": [
    {
     "name": "stdout",
     "output_type": "stream",
     "text": [
      "Importing the following packages: pandas, numpy, matplotlib, seaborn, plotly, warnings\n"
     ]
    }
   ],
   "source": [
    "import sys \n",
    "sys.path.append('../../')\n",
    "\n",
    "from src.import_packages import *\n",
    "from src.visualize_EDA import vEDA"
   ]
  },
  {
   "cell_type": "code",
   "execution_count": 2,
   "metadata": {},
   "outputs": [
    {
     "data": {
      "text/html": [
       "<div>\n",
       "<style scoped>\n",
       "    .dataframe tbody tr th:only-of-type {\n",
       "        vertical-align: middle;\n",
       "    }\n",
       "\n",
       "    .dataframe tbody tr th {\n",
       "        vertical-align: top;\n",
       "    }\n",
       "\n",
       "    .dataframe thead th {\n",
       "        text-align: right;\n",
       "    }\n",
       "</style>\n",
       "<table border=\"1\" class=\"dataframe\">\n",
       "  <thead>\n",
       "    <tr style=\"text-align: right;\">\n",
       "      <th></th>\n",
       "      <th>Síterep</th>\n",
       "      <th>Link</th>\n",
       "      <th>Régió</th>\n",
       "      <th>Parkoló</th>\n",
       "      <th>Hegytető</th>\n",
       "      <th>Sípályák hossza</th>\n",
       "      <th>Szintkülönbség</th>\n",
       "      <th>Liftek száma</th>\n",
       "      <th>Szezon eleje</th>\n",
       "      <th>Szezon vége</th>\n",
       "      <th>...</th>\n",
       "      <th>Felnőtt napijegy ára</th>\n",
       "      <th>Húzólift</th>\n",
       "      <th>Kombilift</th>\n",
       "      <th>Kék</th>\n",
       "      <th>Piros</th>\n",
       "      <th>Fekete</th>\n",
       "      <th>Ülőlift</th>\n",
       "      <th>Kiskabinos lift</th>\n",
       "      <th>Nagykabinos lift</th>\n",
       "      <th>Vonat</th>\n",
       "    </tr>\n",
       "  </thead>\n",
       "  <tbody>\n",
       "    <tr>\n",
       "      <th>0</th>\n",
       "      <td>Abtenau im Lammertal - Karkogel</td>\n",
       "      <td>https://sielok.hu/siterep/abtenau/</td>\n",
       "      <td>Salzburg</td>\n",
       "      <td>712</td>\n",
       "      <td>1200</td>\n",
       "      <td>9.0</td>\n",
       "      <td>488.0</td>\n",
       "      <td>5</td>\n",
       "      <td>2021.12.23.</td>\n",
       "      <td>2022.03.27.</td>\n",
       "      <td>...</td>\n",
       "      <td>37.5</td>\n",
       "      <td>4</td>\n",
       "      <td>1</td>\n",
       "      <td>4.4</td>\n",
       "      <td>1.6</td>\n",
       "      <td>3.0</td>\n",
       "      <td>0</td>\n",
       "      <td>0</td>\n",
       "      <td>0</td>\n",
       "      <td>0</td>\n",
       "    </tr>\n",
       "    <tr>\n",
       "      <th>1</th>\n",
       "      <td>Achenkirch - Christlum</td>\n",
       "      <td>https://sielok.hu/siterep/achenkirch-christlum/</td>\n",
       "      <td>Tirol</td>\n",
       "      <td>945</td>\n",
       "      <td>1800</td>\n",
       "      <td>27.0</td>\n",
       "      <td>855.0</td>\n",
       "      <td>11</td>\n",
       "      <td>2021.12.04.</td>\n",
       "      <td>2022.04.10.</td>\n",
       "      <td>...</td>\n",
       "      <td>50.0</td>\n",
       "      <td>7</td>\n",
       "      <td>0</td>\n",
       "      <td>6.0</td>\n",
       "      <td>16.0</td>\n",
       "      <td>5.0</td>\n",
       "      <td>4</td>\n",
       "      <td>0</td>\n",
       "      <td>0</td>\n",
       "      <td>0</td>\n",
       "    </tr>\n",
       "    <tr>\n",
       "      <th>2</th>\n",
       "      <td>Aflenz - Bürgeralm</td>\n",
       "      <td>https://sielok.hu/siterep/aflenz/</td>\n",
       "      <td>Stájerország</td>\n",
       "      <td>810</td>\n",
       "      <td>1810</td>\n",
       "      <td>14.0</td>\n",
       "      <td>1000.0</td>\n",
       "      <td>7</td>\n",
       "      <td>2021.12.10.</td>\n",
       "      <td>2022.03.27.</td>\n",
       "      <td>...</td>\n",
       "      <td>34.0</td>\n",
       "      <td>6</td>\n",
       "      <td>0</td>\n",
       "      <td>2.0</td>\n",
       "      <td>10.0</td>\n",
       "      <td>2.0</td>\n",
       "      <td>1</td>\n",
       "      <td>0</td>\n",
       "      <td>0</td>\n",
       "      <td>0</td>\n",
       "    </tr>\n",
       "  </tbody>\n",
       "</table>\n",
       "<p>3 rows × 21 columns</p>\n",
       "</div>"
      ],
      "text/plain": [
       "                           Síterep  \\\n",
       "0  Abtenau im Lammertal - Karkogel   \n",
       "1           Achenkirch - Christlum   \n",
       "2               Aflenz - Bürgeralm   \n",
       "\n",
       "                                              Link         Régió  Parkoló  \\\n",
       "0               https://sielok.hu/siterep/abtenau/      Salzburg      712   \n",
       "1  https://sielok.hu/siterep/achenkirch-christlum/         Tirol      945   \n",
       "2                https://sielok.hu/siterep/aflenz/  Stájerország      810   \n",
       "\n",
       "   Hegytető  Sípályák hossza  Szintkülönbség  Liftek száma Szezon eleje  \\\n",
       "0      1200              9.0           488.0             5  2021.12.23.   \n",
       "1      1800             27.0           855.0            11  2021.12.04.   \n",
       "2      1810             14.0          1000.0             7  2021.12.10.   \n",
       "\n",
       "   Szezon vége  ...  Felnőtt napijegy ára  Húzólift  Kombilift  Kék  Piros  \\\n",
       "0  2022.03.27.  ...                  37.5         4          1  4.4    1.6   \n",
       "1  2022.04.10.  ...                  50.0         7          0  6.0   16.0   \n",
       "2  2022.03.27.  ...                  34.0         6          0  2.0   10.0   \n",
       "\n",
       "   Fekete  Ülőlift  Kiskabinos lift  Nagykabinos lift  Vonat  \n",
       "0     3.0        0                0                 0      0  \n",
       "1     5.0        4                0                 0      0  \n",
       "2     2.0        1                0                 0      0  \n",
       "\n",
       "[3 rows x 21 columns]"
      ]
     },
     "execution_count": 2,
     "metadata": {},
     "output_type": "execute_result"
    }
   ],
   "source": [
    "data = pd.read_csv('data/data.csv')\n",
    "data.head(3)"
   ]
  },
  {
   "cell_type": "code",
   "execution_count": 3,
   "metadata": {},
   "outputs": [],
   "source": [
    "data['Kék arány'] = data['Kék'] / data['Sípályák hossza']\n",
    "data['Piros arány'] = data['Piros'] / data['Sípályák hossza']\n",
    "data['Fekete arány'] = data['Fekete'] / data['Sípályák hossza']"
   ]
  },
  {
   "cell_type": "code",
   "execution_count": null,
   "metadata": {},
   "outputs": [],
   "source": []
  },
  {
   "cell_type": "markdown",
   "metadata": {},
   "source": [
    "### Vizualizációk - adatok közti kapcsolatok, eloszlások"
   ]
  },
  {
   "cell_type": "code",
   "execution_count": 4,
   "metadata": {},
   "outputs": [],
   "source": [
    "vdata = vEDA(data)"
   ]
  },
  {
   "cell_type": "markdown",
   "metadata": {},
   "source": [
    "#### Eloszlások"
   ]
  },
  {
   "cell_type": "code",
   "execution_count": 5,
   "metadata": {},
   "outputs": [
    {
     "data": {
      "image/png": "[encoded data removed]",
      "text/plain": [
       "<Figure size 720x360 with 1 Axes>"
      ]
     },
     "metadata": {
      "needs_background": "light"
     },
     "output_type": "display_data"
    },
    {
     "data": {
      "image/png": "[encoded data removed]",
      "text/plain": [
       "<Figure size 720x360 with 1 Axes>"
      ]
     },
     "metadata": {
      "needs_background": "light"
     },
     "output_type": "display_data"
    },
    {
     "data": {
      "image/png": "[encoded data removed]",
      "text/plain": [
       "<Figure size 720x360 with 1 Axes>"
      ]
     },
     "metadata": {
      "needs_background": "light"
     },
     "output_type": "display_data"
    },
    {
     "data": {
      "image/png": "[encoded data removed]",
      "text/plain": [
       "<Figure size 720x360 with 1 Axes>"
      ]
     },
     "metadata": {
      "needs_background": "light"
     },
     "output_type": "display_data"
    },
    {
     "data": {
      "image/png": "[encoded data removed]",
      "text/plain": [
       "<Figure size 720x360 with 1 Axes>"
      ]
     },
     "metadata": {
      "needs_background": "light"
     },
     "output_type": "display_data"
    },
    {
     "data": {
      "image/png": "[encoded data removed]",
      "text/plain": [
       "<Figure size 720x360 with 1 Axes>"
      ]
     },
     "metadata": {
      "needs_background": "light"
     },
     "output_type": "display_data"
    },
    {
     "data": {
      "image/png": "[encoded data removed]",
      "text/plain": [
       "<Figure size 720x360 with 1 Axes>"
      ]
     },
     "metadata": {
      "needs_background": "light"
     },
     "output_type": "display_data"
    },
    {
     "data": {
      "image/png": "[encoded data removed]",
      "text/plain": [
       "<Figure size 720x360 with 1 Axes>"
      ]
     },
     "metadata": {
      "needs_background": "light"
     },
     "output_type": "display_data"
    }
   ],
   "source": [
    "_dist = ['Hegytető', 'Sípályák hossza', 'Szintkülönbség', 'Liftek száma', \n",
    "         'Felnőtt napijegy ára', 'Kék arány', 'Piros arány', 'Fekete arány']\n",
    "\n",
    "for i in _dist:\n",
    "    vdata.plot_dist(i)"
   ]
  },
  {
   "cell_type": "code",
   "execution_count": 6,
   "metadata": {},
   "outputs": [
    {
     "data": {
      "image/png": "[encoded data removed]",
      "text/plain": [
       "<Figure size 720x360 with 1 Axes>"
      ]
     },
     "metadata": {
      "needs_background": "light"
     },
     "output_type": "display_data"
    }
   ],
   "source": [
    "vdata.plot_boxplot('Felnőtt napijegy ára', 'Régió')"
   ]
  },
  {
   "cell_type": "code",
   "execution_count": 7,
   "metadata": {},
   "outputs": [
    {
     "data": {
      "image/png": "[encoded data removed]",
      "text/plain": [
       "<Figure size 720x360 with 1 Axes>"
      ]
     },
     "metadata": {
      "needs_background": "light"
     },
     "output_type": "display_data"
    }
   ],
   "source": [
    "vdata.plot_boxplot('Sípályák hossza', 'Régió')"
   ]
  },
  {
   "cell_type": "code",
   "execution_count": 8,
   "metadata": {},
   "outputs": [
    {
     "data": {
      "image/png": "[encoded data removed]",
      "text/plain": [
       "<Figure size 720x360 with 1 Axes>"
      ]
     },
     "metadata": {
      "needs_background": "light"
     },
     "output_type": "display_data"
    }
   ],
   "source": [
    "vdata.plot_boxplot('Hegytető', 'Régió')"
   ]
  },
  {
   "cell_type": "code",
   "execution_count": 9,
   "metadata": {},
   "outputs": [
    {
     "data": {
      "image/png": "[encoded data removed]",
      "text/plain": [
       "<Figure size 720x360 with 1 Axes>"
      ]
     },
     "metadata": {
      "needs_background": "light"
     },
     "output_type": "display_data"
    }
   ],
   "source": [
    "vdata.plot_scatter('Sípályák hossza', 'Felnőtt napijegy ára')"
   ]
  },
  {
   "cell_type": "code",
   "execution_count": 10,
   "metadata": {},
   "outputs": [
    {
     "data": {
      "image/png": "[encoded data removed]",
      "text/plain": [
       "<Figure size 720x360 with 1 Axes>"
      ]
     },
     "metadata": {
      "needs_background": "light"
     },
     "output_type": "display_data"
    }
   ],
   "source": [
    "vdata.plot_scatter('Liftek száma', 'Sípályák hossza')"
   ]
  },
  {
   "cell_type": "markdown",
   "metadata": {},
   "source": [
    "#### Korrelációk"
   ]
  },
  {
   "cell_type": "code",
   "execution_count": 11,
   "metadata": {},
   "outputs": [
    {
     "data": {
      "image/png": "[encoded data removed]",
      "text/plain": [
       "<Figure size 1080x576 with 2 Axes>"
      ]
     },
     "metadata": {
      "needs_background": "light"
     },
     "output_type": "display_data"
    }
   ],
   "source": [
    "vdata.plot_corr(figsize=(15, 8))"
   ]
  },
  {
   "cell_type": "code",
   "execution_count": null,
   "metadata": {},
   "outputs": [],
   "source": []
  },
  {
   "cell_type": "markdown",
   "metadata": {},
   "source": [
    "# Modellezés\n",
    "Felnőtt napijegy ára ~ Síterep információi"
   ]
  },
  {
   "cell_type": "code",
   "execution_count": 12,
   "metadata": {},
   "outputs": [],
   "source": [
    "data['Szezon eleje'] = pd.to_datetime(data['Szezon eleje'])\n",
    "data['Szezon vége'] = pd.to_datetime(data['Szezon vége'])"
   ]
  },
  {
   "cell_type": "code",
   "execution_count": 13,
   "metadata": {},
   "outputs": [
    {
     "data": {
      "text/plain": [
       "December     181\n",
       "NaN           24\n",
       "November       4\n",
       "October        3\n",
       "September      3\n",
       "Name: Szezon eleje, dtype: int64"
      ]
     },
     "execution_count": 13,
     "metadata": {},
     "output_type": "execute_result"
    }
   ],
   "source": [
    "data['Szezon eleje'].dt.month_name().value_counts(dropna = False)"
   ]
  },
  {
   "cell_type": "code",
   "execution_count": 14,
   "metadata": {},
   "outputs": [
    {
     "data": {
      "text/plain": [
       "April       92\n",
       "March       87\n",
       "NaN         24\n",
       "May          8\n",
       "February     2\n",
       "January      1\n",
       "June         1\n",
       "Name: Szezon vége, dtype: int64"
      ]
     },
     "execution_count": 14,
     "metadata": {},
     "output_type": "execute_result"
    }
   ],
   "source": [
    "data['Szezon vége'].dt.month_name().value_counts(dropna = False)"
   ]
  },
  {
   "cell_type": "code",
   "execution_count": 15,
   "metadata": {},
   "outputs": [
    {
     "data": {
      "text/html": [
       "<div>\n",
       "<style scoped>\n",
       "    .dataframe tbody tr th:only-of-type {\n",
       "        vertical-align: middle;\n",
       "    }\n",
       "\n",
       "    .dataframe tbody tr th {\n",
       "        vertical-align: top;\n",
       "    }\n",
       "\n",
       "    .dataframe thead th {\n",
       "        text-align: right;\n",
       "    }\n",
       "</style>\n",
       "<table border=\"1\" class=\"dataframe\">\n",
       "  <thead>\n",
       "    <tr style=\"text-align: right;\">\n",
       "      <th></th>\n",
       "      <th>Síterep</th>\n",
       "      <th>Régió</th>\n",
       "      <th>Parkoló</th>\n",
       "      <th>Hegytető</th>\n",
       "      <th>Sípályák hossza</th>\n",
       "      <th>Szintkülönbség</th>\n",
       "      <th>Liftek száma</th>\n",
       "      <th>Távolság Budapesttől</th>\n",
       "      <th>Felnőtt napijegy ára</th>\n",
       "      <th>Húzólift</th>\n",
       "      <th>Kombilift</th>\n",
       "      <th>Ülőlift</th>\n",
       "      <th>Kiskabinos lift</th>\n",
       "      <th>Nagykabinos lift</th>\n",
       "      <th>Vonat</th>\n",
       "      <th>Piros arány</th>\n",
       "      <th>Fekete arány</th>\n",
       "    </tr>\n",
       "  </thead>\n",
       "  <tbody>\n",
       "    <tr>\n",
       "      <th>0</th>\n",
       "      <td>Abtenau im Lammertal - Karkogel</td>\n",
       "      <td>Salzburg</td>\n",
       "      <td>712</td>\n",
       "      <td>1200</td>\n",
       "      <td>9.0</td>\n",
       "      <td>488.0</td>\n",
       "      <td>5</td>\n",
       "      <td>533.0</td>\n",
       "      <td>37.5</td>\n",
       "      <td>4</td>\n",
       "      <td>1</td>\n",
       "      <td>0</td>\n",
       "      <td>0</td>\n",
       "      <td>0</td>\n",
       "      <td>0</td>\n",
       "      <td>0.177778</td>\n",
       "      <td>0.333333</td>\n",
       "    </tr>\n",
       "    <tr>\n",
       "      <th>1</th>\n",
       "      <td>Achenkirch - Christlum</td>\n",
       "      <td>Tirol</td>\n",
       "      <td>945</td>\n",
       "      <td>1800</td>\n",
       "      <td>27.0</td>\n",
       "      <td>855.0</td>\n",
       "      <td>11</td>\n",
       "      <td>709.0</td>\n",
       "      <td>50.0</td>\n",
       "      <td>7</td>\n",
       "      <td>0</td>\n",
       "      <td>4</td>\n",
       "      <td>0</td>\n",
       "      <td>0</td>\n",
       "      <td>0</td>\n",
       "      <td>0.592593</td>\n",
       "      <td>0.185185</td>\n",
       "    </tr>\n",
       "    <tr>\n",
       "      <th>2</th>\n",
       "      <td>Aflenz - Bürgeralm</td>\n",
       "      <td>Stájerország</td>\n",
       "      <td>810</td>\n",
       "      <td>1810</td>\n",
       "      <td>14.0</td>\n",
       "      <td>1000.0</td>\n",
       "      <td>7</td>\n",
       "      <td>364.0</td>\n",
       "      <td>34.0</td>\n",
       "      <td>6</td>\n",
       "      <td>0</td>\n",
       "      <td>1</td>\n",
       "      <td>0</td>\n",
       "      <td>0</td>\n",
       "      <td>0</td>\n",
       "      <td>0.714286</td>\n",
       "      <td>0.142857</td>\n",
       "    </tr>\n",
       "    <tr>\n",
       "      <th>3</th>\n",
       "      <td>Alberschwende</td>\n",
       "      <td>Vorarlberg</td>\n",
       "      <td>720</td>\n",
       "      <td>1200</td>\n",
       "      <td>2.5</td>\n",
       "      <td>480.0</td>\n",
       "      <td>2</td>\n",
       "      <td>863.0</td>\n",
       "      <td>23.0</td>\n",
       "      <td>2</td>\n",
       "      <td>0</td>\n",
       "      <td>0</td>\n",
       "      <td>0</td>\n",
       "      <td>0</td>\n",
       "      <td>0</td>\n",
       "      <td>0.600000</td>\n",
       "      <td>0.000000</td>\n",
       "    </tr>\n",
       "    <tr>\n",
       "      <th>4</th>\n",
       "      <td>Altaussee - Loser</td>\n",
       "      <td>Stájerország</td>\n",
       "      <td>850</td>\n",
       "      <td>1800</td>\n",
       "      <td>34.0</td>\n",
       "      <td>950.0</td>\n",
       "      <td>8</td>\n",
       "      <td>496.0</td>\n",
       "      <td>45.0</td>\n",
       "      <td>4</td>\n",
       "      <td>0</td>\n",
       "      <td>4</td>\n",
       "      <td>0</td>\n",
       "      <td>0</td>\n",
       "      <td>0</td>\n",
       "      <td>0.352941</td>\n",
       "      <td>0.029412</td>\n",
       "    </tr>\n",
       "  </tbody>\n",
       "</table>\n",
       "</div>"
      ],
      "text/plain": [
       "                           Síterep         Régió  Parkoló  Hegytető  \\\n",
       "0  Abtenau im Lammertal - Karkogel      Salzburg      712      1200   \n",
       "1           Achenkirch - Christlum         Tirol      945      1800   \n",
       "2               Aflenz - Bürgeralm  Stájerország      810      1810   \n",
       "3                    Alberschwende    Vorarlberg      720      1200   \n",
       "4                Altaussee - Loser  Stájerország      850      1800   \n",
       "\n",
       "   Sípályák hossza  Szintkülönbség  Liftek száma  Távolság Budapesttől  \\\n",
       "0              9.0           488.0             5                 533.0   \n",
       "1             27.0           855.0            11                 709.0   \n",
       "2             14.0          1000.0             7                 364.0   \n",
       "3              2.5           480.0             2                 863.0   \n",
       "4             34.0           950.0             8                 496.0   \n",
       "\n",
       "   Felnőtt napijegy ára  Húzólift  Kombilift  Ülőlift  Kiskabinos lift  \\\n",
       "0                  37.5         4          1        0                0   \n",
       "1                  50.0         7          0        4                0   \n",
       "2                  34.0         6          0        1                0   \n",
       "3                  23.0         2          0        0                0   \n",
       "4                  45.0         4          0        4                0   \n",
       "\n",
       "   Nagykabinos lift  Vonat  Piros arány  Fekete arány  \n",
       "0                 0      0     0.177778      0.333333  \n",
       "1                 0      0     0.592593      0.185185  \n",
       "2                 0      0     0.714286      0.142857  \n",
       "3                 0      0     0.600000      0.000000  \n",
       "4                 0      0     0.352941      0.029412  "
      ]
     },
     "execution_count": 15,
     "metadata": {},
     "output_type": "execute_result"
    }
   ],
   "source": [
    "df = data.copy()\n",
    "#df['Szezonhossz (napok)'] = (df['Szezon vége'] - df['Szezon eleje']).dt.days\n",
    "df.drop(['Link', 'Szezon eleje', 'Szezon vége', 'Kék', 'Piros', 'Fekete', 'Kék arány'], 1, inplace = True)\n",
    "df.dropna(inplace = True)\n",
    "df.head()"
   ]
  },
  {
   "cell_type": "code",
   "execution_count": 16,
   "metadata": {},
   "outputs": [
    {
     "data": {
      "text/plain": [
       "(215, 17)"
      ]
     },
     "execution_count": 16,
     "metadata": {},
     "output_type": "execute_result"
    }
   ],
   "source": [
    "df.shape"
   ]
  },
  {
   "cell_type": "markdown",
   "metadata": {},
   "source": [
    "## 1. Lineáris regresszió"
   ]
  },
  {
   "cell_type": "code",
   "execution_count": 17,
   "metadata": {},
   "outputs": [],
   "source": [
    "import statsmodels.api as sm"
   ]
  },
  {
   "cell_type": "code",
   "execution_count": 18,
   "metadata": {},
   "outputs": [],
   "source": [
    "df_linreg = pd.get_dummies(df, columns = ['Régió'], prefix_sep = ' = ', drop_first=True)\n",
    "df_linreg.set_index('Síterep', inplace = True)\n",
    "\n",
    "df_linreg['Log Sípályák hossza'] = np.log(df_linreg['Sípályák hossza'])\n",
    "df_linreg['Log Liftek száma'] = np.log(df_linreg['Liftek száma'])\n",
    "\n",
    "df_linreg.drop(['Liftek száma', 'Sípályák hossza'], 1, inplace = True)"
   ]
  },
  {
   "cell_type": "code",
   "execution_count": 19,
   "metadata": {},
   "outputs": [],
   "source": [
    "X = df_linreg.drop(['Felnőtt napijegy ára', 'Parkoló'], 1) #parkoló = hegytető - szintkülönbség\n",
    "X = sm.add_constant(X)\n",
    "y = df_linreg['Felnőtt napijegy ára']\n",
    "\n",
    "ols = sm.OLS(y, X.astype(float)).fit()\n",
    "p_values = ols.pvalues.sort_values()\n",
    "\n",
    "while len(p_values[p_values >= 0.05]) > 0:\n",
    "    X.drop(p_values.index[-1], 1, inplace = True)\n",
    "    ols = sm.OLS(y, X.astype(float)).fit()\n",
    "    p_values = ols.pvalues.sort_values()"
   ]
  },
  {
   "cell_type": "code",
   "execution_count": 20,
   "metadata": {},
   "outputs": [
    {
     "data": {
      "text/html": [
       "<table class=\"simpletable\">\n",
       "<caption>OLS Regression Results</caption>\n",
       "<tr>\n",
       "  <th>Dep. Variable:</th>    <td>Felnőtt napijegy ára</td> <th>  R-squared:         </th> <td>   0.807</td>\n",
       "</tr>\n",
       "<tr>\n",
       "  <th>Model:</th>                     <td>OLS</td>         <th>  Adj. R-squared:    </th> <td>   0.802</td>\n",
       "</tr>\n",
       "<tr>\n",
       "  <th>Method:</th>               <td>Least Squares</td>    <th>  F-statistic:       </th> <td>   145.2</td>\n",
       "</tr>\n",
       "<tr>\n",
       "  <th>Date:</th>               <td>Mon, 03 Jan 2022</td>   <th>  Prob (F-statistic):</th> <td>1.56e-71</td>\n",
       "</tr>\n",
       "<tr>\n",
       "  <th>Time:</th>                   <td>22:41:50</td>       <th>  Log-Likelihood:    </th> <td> -665.10</td>\n",
       "</tr>\n",
       "<tr>\n",
       "  <th>No. Observations:</th>        <td>   215</td>        <th>  AIC:               </th> <td>   1344.</td>\n",
       "</tr>\n",
       "<tr>\n",
       "  <th>Df Residuals:</th>            <td>   208</td>        <th>  BIC:               </th> <td>   1368.</td>\n",
       "</tr>\n",
       "<tr>\n",
       "  <th>Df Model:</th>                <td>     6</td>        <th>                     </th>     <td> </td>   \n",
       "</tr>\n",
       "<tr>\n",
       "  <th>Covariance Type:</th>        <td>nonrobust</td>      <th>                     </th>     <td> </td>   \n",
       "</tr>\n",
       "</table>\n",
       "<table class=\"simpletable\">\n",
       "<tr>\n",
       "           <td></td>              <th>coef</th>     <th>std err</th>      <th>t</th>      <th>P>|t|</th>  <th>[0.025</th>    <th>0.975]</th>  \n",
       "</tr>\n",
       "<tr>\n",
       "  <th>const</th>               <td>   11.2800</td> <td>    1.458</td> <td>    7.738</td> <td> 0.000</td> <td>    8.406</td> <td>   14.154</td>\n",
       "</tr>\n",
       "<tr>\n",
       "  <th>Hegytető</th>            <td>    0.0044</td> <td>    0.001</td> <td>    3.700</td> <td> 0.000</td> <td>    0.002</td> <td>    0.007</td>\n",
       "</tr>\n",
       "<tr>\n",
       "  <th>Szintkülönbség</th>      <td>    0.0030</td> <td>    0.001</td> <td>    2.018</td> <td> 0.045</td> <td> 7.03e-05</td> <td>    0.006</td>\n",
       "</tr>\n",
       "<tr>\n",
       "  <th>Húzólift</th>            <td>   -0.5282</td> <td>    0.138</td> <td>   -3.836</td> <td> 0.000</td> <td>   -0.800</td> <td>   -0.257</td>\n",
       "</tr>\n",
       "<tr>\n",
       "  <th>Régió = Salzburg</th>    <td>    2.3933</td> <td>    1.125</td> <td>    2.127</td> <td> 0.035</td> <td>    0.175</td> <td>    4.611</td>\n",
       "</tr>\n",
       "<tr>\n",
       "  <th>Log Sípályák hossza</th> <td>    2.9751</td> <td>    0.799</td> <td>    3.725</td> <td> 0.000</td> <td>    1.401</td> <td>    4.550</td>\n",
       "</tr>\n",
       "<tr>\n",
       "  <th>Log Liftek száma</th>    <td>    7.0975</td> <td>    1.359</td> <td>    5.224</td> <td> 0.000</td> <td>    4.419</td> <td>    9.776</td>\n",
       "</tr>\n",
       "</table>\n",
       "<table class=\"simpletable\">\n",
       "<tr>\n",
       "  <th>Omnibus:</th>       <td> 9.630</td> <th>  Durbin-Watson:     </th> <td>   2.026</td>\n",
       "</tr>\n",
       "<tr>\n",
       "  <th>Prob(Omnibus):</th> <td> 0.008</td> <th>  Jarque-Bera (JB):  </th> <td>   9.701</td>\n",
       "</tr>\n",
       "<tr>\n",
       "  <th>Skew:</th>          <td> 0.509</td> <th>  Prob(JB):          </th> <td> 0.00782</td>\n",
       "</tr>\n",
       "<tr>\n",
       "  <th>Kurtosis:</th>      <td> 3.217</td> <th>  Cond. No.          </th> <td>8.77e+03</td>\n",
       "</tr>\n",
       "</table><br/><br/>Notes:<br/>[1] Standard Errors assume that the covariance matrix of the errors is correctly specified.<br/>[2] The condition number is large, 8.77e+03. This might indicate that there are<br/>strong multicollinearity or other numerical problems."
      ],
      "text/plain": [
       "<class 'statsmodels.iolib.summary.Summary'>\n",
       "\"\"\"\n",
       "                             OLS Regression Results                             \n",
       "================================================================================\n",
       "Dep. Variable:     Felnőtt napijegy ára   R-squared:                       0.807\n",
       "Model:                              OLS   Adj. R-squared:                  0.802\n",
       "Method:                   Least Squares   F-statistic:                     145.2\n",
       "Date:                  Mon, 03 Jan 2022   Prob (F-statistic):           1.56e-71\n",
       "Time:                          22:41:50   Log-Likelihood:                -665.10\n",
       "No. Observations:                   215   AIC:                             1344.\n",
       "Df Residuals:                       208   BIC:                             1368.\n",
       "Df Model:                             6                                         \n",
       "Covariance Type:              nonrobust                                         \n",
       "=======================================================================================\n",
       "                          coef    std err          t      P>|t|      [0.025      0.975]\n",
       "---------------------------------------------------------------------------------------\n",
       "const                  11.2800      1.458      7.738      0.000       8.406      14.154\n",
       "Hegytető                0.0044      0.001      3.700      0.000       0.002       0.007\n",
       "Szintkülönbség          0.0030      0.001      2.018      0.045    7.03e-05       0.006\n",
       "Húzólift               -0.5282      0.138     -3.836      0.000      -0.800      -0.257\n",
       "Régió = Salzburg        2.3933      1.125      2.127      0.035       0.175       4.611\n",
       "Log Sípályák hossza     2.9751      0.799      3.725      0.000       1.401       4.550\n",
       "Log Liftek száma        7.0975      1.359      5.224      0.000       4.419       9.776\n",
       "==============================================================================\n",
       "Omnibus:                        9.630   Durbin-Watson:                   2.026\n",
       "Prob(Omnibus):                  0.008   Jarque-Bera (JB):                9.701\n",
       "Skew:                           0.509   Prob(JB):                      0.00782\n",
       "Kurtosis:                       3.217   Cond. No.                     8.77e+03\n",
       "==============================================================================\n",
       "\n",
       "Notes:\n",
       "[1] Standard Errors assume that the covariance matrix of the errors is correctly specified.\n",
       "[2] The condition number is large, 8.77e+03. This might indicate that there are\n",
       "strong multicollinearity or other numerical problems.\n",
       "\"\"\""
      ]
     },
     "execution_count": 20,
     "metadata": {},
     "output_type": "execute_result"
    }
   ],
   "source": [
    "ols.summary()"
   ]
  },
  {
   "cell_type": "markdown",
   "metadata": {},
   "source": [
    "Regression results:\n",
    "- Cost of ticket of ski resort that has no lifts, no slopes, no height and is at sea level is: 11.2EUR\n",
    "- For every 100m higher mountain, the ticket price increases by 0.0044 * 100 = 4.4EUR\n",
    "- For every 100m larger difference between top and bottom of mountain, the ticket price increases by 0.003 * 100 = 3EUR\n",
    "- For every added 'húzólift', the ticket price decreases by 0.5EUR\n",
    "- Ski resorts in Salzburg region have on average 2.39EUR more expensive tickets\n",
    "- 10% increase in length of ski slopes results in 0.3EUR more expensive tix\n",
    "- 10% increase in number of ski lifts results in 0.7EUR more expensive tix"
   ]
  },
  {
   "cell_type": "code",
   "execution_count": null,
   "metadata": {},
   "outputs": [],
   "source": []
  },
  {
   "cell_type": "markdown",
   "metadata": {},
   "source": [
    "### Alul- vagy felülárazott síterepek"
   ]
  },
  {
   "cell_type": "code",
   "execution_count": 21,
   "metadata": {},
   "outputs": [],
   "source": [
    "yhat = pd.DataFrame({'Tényleges ár' : y, 'Becsült ár LinReg' : ols.predict(X)})\n",
    "yhat['Árkülönbség LinReg'] = yhat['Tényleges ár'] - yhat['Becsült ár LinReg']"
   ]
  },
  {
   "cell_type": "markdown",
   "metadata": {},
   "source": [
    "Leginkább túlárazott síterepek"
   ]
  },
  {
   "cell_type": "code",
   "execution_count": 22,
   "metadata": {},
   "outputs": [
    {
     "data": {
      "text/html": [
       "<div>\n",
       "<style scoped>\n",
       "    .dataframe tbody tr th:only-of-type {\n",
       "        vertical-align: middle;\n",
       "    }\n",
       "\n",
       "    .dataframe tbody tr th {\n",
       "        vertical-align: top;\n",
       "    }\n",
       "\n",
       "    .dataframe thead th {\n",
       "        text-align: right;\n",
       "    }\n",
       "</style>\n",
       "<table border=\"1\" class=\"dataframe\">\n",
       "  <thead>\n",
       "    <tr style=\"text-align: right;\">\n",
       "      <th></th>\n",
       "      <th>Tényleges ár</th>\n",
       "      <th>Becsült ár LinReg</th>\n",
       "      <th>Árkülönbség LinReg</th>\n",
       "    </tr>\n",
       "    <tr>\n",
       "      <th>Síterep</th>\n",
       "      <th></th>\n",
       "      <th></th>\n",
       "      <th></th>\n",
       "    </tr>\n",
       "  </thead>\n",
       "  <tbody>\n",
       "    <tr>\n",
       "      <th>Lienz - Hochstein</th>\n",
       "      <td>52.0</td>\n",
       "      <td>41.252479</td>\n",
       "      <td>10.747521</td>\n",
       "    </tr>\n",
       "    <tr>\n",
       "      <th>Ifen</th>\n",
       "      <td>52.5</td>\n",
       "      <td>41.040260</td>\n",
       "      <td>11.459740</td>\n",
       "    </tr>\n",
       "    <tr>\n",
       "      <th>Dachstein gleccser</th>\n",
       "      <td>50.5</td>\n",
       "      <td>39.029668</td>\n",
       "      <td>11.470332</td>\n",
       "    </tr>\n",
       "    <tr>\n",
       "      <th>Jöchelspitze (Lechtal)</th>\n",
       "      <td>42.0</td>\n",
       "      <td>30.143352</td>\n",
       "      <td>11.856648</td>\n",
       "    </tr>\n",
       "    <tr>\n",
       "      <th>Fageralm</th>\n",
       "      <td>54.0</td>\n",
       "      <td>41.635419</td>\n",
       "      <td>12.364581</td>\n",
       "    </tr>\n",
       "    <tr>\n",
       "      <th>Biberwier - Marienberg</th>\n",
       "      <td>52.0</td>\n",
       "      <td>38.688626</td>\n",
       "      <td>13.311374</td>\n",
       "    </tr>\n",
       "    <tr>\n",
       "      <th>Fügen - Spieljoch</th>\n",
       "      <td>61.0</td>\n",
       "      <td>46.773750</td>\n",
       "      <td>14.226250</td>\n",
       "    </tr>\n",
       "    <tr>\n",
       "      <th>Ehrwald - Wettersteinbahnen</th>\n",
       "      <td>52.0</td>\n",
       "      <td>37.682978</td>\n",
       "      <td>14.317022</td>\n",
       "    </tr>\n",
       "    <tr>\n",
       "      <th>Galsterbergalm</th>\n",
       "      <td>53.5</td>\n",
       "      <td>39.104655</td>\n",
       "      <td>14.395345</td>\n",
       "    </tr>\n",
       "    <tr>\n",
       "      <th>Altenmarkt - Radstadt</th>\n",
       "      <td>61.0</td>\n",
       "      <td>43.957492</td>\n",
       "      <td>17.042508</td>\n",
       "    </tr>\n",
       "  </tbody>\n",
       "</table>\n",
       "</div>"
      ],
      "text/plain": [
       "                             Tényleges ár  Becsült ár LinReg  \\\n",
       "Síterep                                                        \n",
       "Lienz - Hochstein                    52.0          41.252479   \n",
       "Ifen                                 52.5          41.040260   \n",
       "Dachstein gleccser                   50.5          39.029668   \n",
       "Jöchelspitze (Lechtal)               42.0          30.143352   \n",
       "Fageralm                             54.0          41.635419   \n",
       "Biberwier - Marienberg               52.0          38.688626   \n",
       "Fügen - Spieljoch                    61.0          46.773750   \n",
       "Ehrwald - Wettersteinbahnen          52.0          37.682978   \n",
       "Galsterbergalm                       53.5          39.104655   \n",
       "Altenmarkt - Radstadt                61.0          43.957492   \n",
       "\n",
       "                             Árkülönbség LinReg  \n",
       "Síterep                                          \n",
       "Lienz - Hochstein                     10.747521  \n",
       "Ifen                                  11.459740  \n",
       "Dachstein gleccser                    11.470332  \n",
       "Jöchelspitze (Lechtal)                11.856648  \n",
       "Fageralm                              12.364581  \n",
       "Biberwier - Marienberg                13.311374  \n",
       "Fügen - Spieljoch                     14.226250  \n",
       "Ehrwald - Wettersteinbahnen           14.317022  \n",
       "Galsterbergalm                        14.395345  \n",
       "Altenmarkt - Radstadt                 17.042508  "
      ]
     },
     "execution_count": 22,
     "metadata": {},
     "output_type": "execute_result"
    }
   ],
   "source": [
    "yhat.sort_values('Árkülönbség LinReg').tail(10)"
   ]
  },
  {
   "cell_type": "markdown",
   "metadata": {},
   "source": [
    "Leginkább alulárazott síterepek"
   ]
  },
  {
   "cell_type": "code",
   "execution_count": 23,
   "metadata": {},
   "outputs": [
    {
     "data": {
      "text/html": [
       "<div>\n",
       "<style scoped>\n",
       "    .dataframe tbody tr th:only-of-type {\n",
       "        vertical-align: middle;\n",
       "    }\n",
       "\n",
       "    .dataframe tbody tr th {\n",
       "        vertical-align: top;\n",
       "    }\n",
       "\n",
       "    .dataframe thead th {\n",
       "        text-align: right;\n",
       "    }\n",
       "</style>\n",
       "<table border=\"1\" class=\"dataframe\">\n",
       "  <thead>\n",
       "    <tr style=\"text-align: right;\">\n",
       "      <th></th>\n",
       "      <th>Tényleges ár</th>\n",
       "      <th>Becsült ár LinReg</th>\n",
       "      <th>Árkülönbség LinReg</th>\n",
       "    </tr>\n",
       "    <tr>\n",
       "      <th>Síterep</th>\n",
       "      <th></th>\n",
       "      <th></th>\n",
       "      <th></th>\n",
       "    </tr>\n",
       "  </thead>\n",
       "  <tbody>\n",
       "    <tr>\n",
       "      <th>Ischgl - Silvretta Arena</th>\n",
       "      <td>55.0</td>\n",
       "      <td>66.304190</td>\n",
       "      <td>-11.304190</td>\n",
       "    </tr>\n",
       "    <tr>\n",
       "      <th>Modriach</th>\n",
       "      <td>20.0</td>\n",
       "      <td>30.410376</td>\n",
       "      <td>-10.410376</td>\n",
       "    </tr>\n",
       "    <tr>\n",
       "      <th>Weisssee - Uttendorf</th>\n",
       "      <td>40.0</td>\n",
       "      <td>50.395162</td>\n",
       "      <td>-10.395162</td>\n",
       "    </tr>\n",
       "    <tr>\n",
       "      <th>Koralpe</th>\n",
       "      <td>29.0</td>\n",
       "      <td>38.631027</td>\n",
       "      <td>-9.631027</td>\n",
       "    </tr>\n",
       "    <tr>\n",
       "      <th>Obertauern</th>\n",
       "      <td>50.0</td>\n",
       "      <td>59.507185</td>\n",
       "      <td>-9.507185</td>\n",
       "    </tr>\n",
       "    <tr>\n",
       "      <th>Bregenz - Pfänder</th>\n",
       "      <td>20.3</td>\n",
       "      <td>29.398918</td>\n",
       "      <td>-9.098918</td>\n",
       "    </tr>\n",
       "    <tr>\n",
       "      <th>St. Martin am Tennengebirge</th>\n",
       "      <td>23.0</td>\n",
       "      <td>32.039410</td>\n",
       "      <td>-9.039410</td>\n",
       "    </tr>\n",
       "    <tr>\n",
       "      <th>Hochbärneck</th>\n",
       "      <td>17.0</td>\n",
       "      <td>25.647848</td>\n",
       "      <td>-8.647848</td>\n",
       "    </tr>\n",
       "    <tr>\n",
       "      <th>Weyregg am Attersee - Wachtberglifte</th>\n",
       "      <td>18.0</td>\n",
       "      <td>26.246432</td>\n",
       "      <td>-8.246432</td>\n",
       "    </tr>\n",
       "    <tr>\n",
       "      <th>Weinebene</th>\n",
       "      <td>32.0</td>\n",
       "      <td>40.180763</td>\n",
       "      <td>-8.180763</td>\n",
       "    </tr>\n",
       "  </tbody>\n",
       "</table>\n",
       "</div>"
      ],
      "text/plain": [
       "                                      Tényleges ár  Becsült ár LinReg  \\\n",
       "Síterep                                                                 \n",
       "Ischgl - Silvretta Arena                      55.0          66.304190   \n",
       "Modriach                                      20.0          30.410376   \n",
       "Weisssee - Uttendorf                          40.0          50.395162   \n",
       "Koralpe                                       29.0          38.631027   \n",
       "Obertauern                                    50.0          59.507185   \n",
       "Bregenz - Pfänder                             20.3          29.398918   \n",
       "St. Martin am Tennengebirge                   23.0          32.039410   \n",
       "Hochbärneck                                   17.0          25.647848   \n",
       "Weyregg am Attersee - Wachtberglifte          18.0          26.246432   \n",
       "Weinebene                                     32.0          40.180763   \n",
       "\n",
       "                                      Árkülönbség LinReg  \n",
       "Síterep                                                   \n",
       "Ischgl - Silvretta Arena                      -11.304190  \n",
       "Modriach                                      -10.410376  \n",
       "Weisssee - Uttendorf                          -10.395162  \n",
       "Koralpe                                        -9.631027  \n",
       "Obertauern                                     -9.507185  \n",
       "Bregenz - Pfänder                              -9.098918  \n",
       "St. Martin am Tennengebirge                    -9.039410  \n",
       "Hochbärneck                                    -8.647848  \n",
       "Weyregg am Attersee - Wachtberglifte           -8.246432  \n",
       "Weinebene                                      -8.180763  "
      ]
     },
     "execution_count": 23,
     "metadata": {},
     "output_type": "execute_result"
    }
   ],
   "source": [
    "yhat.sort_values('Árkülönbség LinReg').head(10)"
   ]
  },
  {
   "cell_type": "markdown",
   "metadata": {},
   "source": [
    "Murau-val mi a helyzet?"
   ]
  },
  {
   "cell_type": "code",
   "execution_count": 24,
   "metadata": {},
   "outputs": [
    {
     "data": {
      "text/html": [
       "<div>\n",
       "<style scoped>\n",
       "    .dataframe tbody tr th:only-of-type {\n",
       "        vertical-align: middle;\n",
       "    }\n",
       "\n",
       "    .dataframe tbody tr th {\n",
       "        vertical-align: top;\n",
       "    }\n",
       "\n",
       "    .dataframe thead th {\n",
       "        text-align: right;\n",
       "    }\n",
       "</style>\n",
       "<table border=\"1\" class=\"dataframe\">\n",
       "  <thead>\n",
       "    <tr style=\"text-align: right;\">\n",
       "      <th></th>\n",
       "      <th>Tényleges ár</th>\n",
       "      <th>Becsült ár LinReg</th>\n",
       "      <th>Árkülönbség LinReg</th>\n",
       "    </tr>\n",
       "    <tr>\n",
       "      <th>Síterep</th>\n",
       "      <th></th>\n",
       "      <th></th>\n",
       "      <th></th>\n",
       "    </tr>\n",
       "  </thead>\n",
       "  <tbody>\n",
       "    <tr>\n",
       "      <th>Kreischberg - Murau</th>\n",
       "      <td>52.0</td>\n",
       "      <td>49.94168</td>\n",
       "      <td>2.05832</td>\n",
       "    </tr>\n",
       "  </tbody>\n",
       "</table>\n",
       "</div>"
      ],
      "text/plain": [
       "                     Tényleges ár  Becsült ár LinReg  Árkülönbség LinReg\n",
       "Síterep                                                                 \n",
       "Kreischberg - Murau          52.0           49.94168             2.05832"
      ]
     },
     "execution_count": 24,
     "metadata": {},
     "output_type": "execute_result"
    }
   ],
   "source": [
    "yhat[yhat.index.str.contains('Murau')]"
   ]
  },
  {
   "cell_type": "code",
   "execution_count": null,
   "metadata": {},
   "outputs": [],
   "source": []
  },
  {
   "cell_type": "markdown",
   "metadata": {},
   "source": [
    "## 2. Regressziós fa"
   ]
  },
  {
   "cell_type": "code",
   "execution_count": 25,
   "metadata": {},
   "outputs": [],
   "source": [
    "from sklearn.tree import DecisionTreeRegressor, plot_tree\n",
    "from sklearn.model_selection import GridSearchCV\n",
    "from sklearn.metrics import r2_score"
   ]
  },
  {
   "cell_type": "code",
   "execution_count": 26,
   "metadata": {},
   "outputs": [],
   "source": [
    "df_rf = pd.get_dummies(df, columns = ['Régió'], prefix_sep = ' = ', drop_first=True)\n",
    "df_rf.set_index('Síterep', inplace = True)\n",
    "\n",
    "X = df_rf.drop(['Felnőtt napijegy ára'], 1)\n",
    "y = df_rf['Felnőtt napijegy ára']"
   ]
  },
  {
   "cell_type": "code",
   "execution_count": 27,
   "metadata": {},
   "outputs": [
    {
     "data": {
      "text/plain": [
       "GridSearchCV(cv=5, estimator=DecisionTreeRegressor(random_state=20202020),\n",
       "             n_jobs=-1,\n",
       "             param_grid={'max_depth': [5], 'max_features': [0.6666666666666666],\n",
       "                         'min_samples_leaf': [5], 'min_samples_split': [10]},\n",
       "             scoring='neg_root_mean_squared_error')"
      ]
     },
     "execution_count": 27,
     "metadata": {},
     "output_type": "execute_result"
    }
   ],
   "source": [
    "DT_params = {'max_depth' : [5],\n",
    "             'min_samples_split' : [10],\n",
    "             'min_samples_leaf' : [5],\n",
    "             'max_features' : [2/3]}\n",
    "\n",
    "DT = DecisionTreeRegressor(random_state = 20202020)\n",
    "GRID_DT = GridSearchCV(DT, param_grid = DT_params, cv = 5, scoring = 'neg_root_mean_squared_error', n_jobs = -1)\n",
    "GRID_DT.fit(X, y)"
   ]
  },
  {
   "cell_type": "code",
   "execution_count": 28,
   "metadata": {},
   "outputs": [
    {
     "data": {
      "image/png": "[encoded data removed]",
      "text/plain": [
       "<Figure size 1152x576 with 1 Axes>"
      ]
     },
     "metadata": {
      "needs_background": "light"
     },
     "output_type": "display_data"
    }
   ],
   "source": [
    "plt.figure(figsize = (16, 8))\n",
    "plot_tree(GRID_DT.best_estimator_, feature_names = X.columns, \n",
    "          filled = True, fontsize = 10, max_depth = 2)\n",
    "plt.show()"
   ]
  },
  {
   "cell_type": "code",
   "execution_count": 29,
   "metadata": {},
   "outputs": [
    {
     "data": {
      "text/plain": [
       "0.8977928714469429"
      ]
     },
     "execution_count": 29,
     "metadata": {},
     "output_type": "execute_result"
    }
   ],
   "source": [
    "r2_score(y, GRID_DT.best_estimator_.predict(X))"
   ]
  },
  {
   "cell_type": "markdown",
   "metadata": {},
   "source": [
    "A lineáris regresszióhoz képest (0.8 r2) a regressziós döntési fa 0.9 körüli r2-el becsül"
   ]
  },
  {
   "cell_type": "code",
   "execution_count": 30,
   "metadata": {},
   "outputs": [],
   "source": [
    "yhat['Becsült ár Reg Fa'] = GRID_DT.best_estimator_.predict(X)\n",
    "yhat['Árkülönbség Reg Fa'] = yhat['Tényleges ár'] - yhat['Becsült ár Reg Fa']"
   ]
  },
  {
   "cell_type": "code",
   "execution_count": 31,
   "metadata": {},
   "outputs": [
    {
     "data": {
      "text/html": [
       "<div>\n",
       "<style scoped>\n",
       "    .dataframe tbody tr th:only-of-type {\n",
       "        vertical-align: middle;\n",
       "    }\n",
       "\n",
       "    .dataframe tbody tr th {\n",
       "        vertical-align: top;\n",
       "    }\n",
       "\n",
       "    .dataframe thead th {\n",
       "        text-align: right;\n",
       "    }\n",
       "</style>\n",
       "<table border=\"1\" class=\"dataframe\">\n",
       "  <thead>\n",
       "    <tr style=\"text-align: right;\">\n",
       "      <th></th>\n",
       "      <th>Tényleges ár</th>\n",
       "      <th>Becsült ár LinReg</th>\n",
       "      <th>Árkülönbség LinReg</th>\n",
       "      <th>Becsült ár Reg Fa</th>\n",
       "      <th>Árkülönbség Reg Fa</th>\n",
       "    </tr>\n",
       "    <tr>\n",
       "      <th>Síterep</th>\n",
       "      <th></th>\n",
       "      <th></th>\n",
       "      <th></th>\n",
       "      <th></th>\n",
       "      <th></th>\n",
       "    </tr>\n",
       "  </thead>\n",
       "  <tbody>\n",
       "    <tr>\n",
       "      <th>Kreischberg - Murau</th>\n",
       "      <td>52.0</td>\n",
       "      <td>49.94168</td>\n",
       "      <td>2.05832</td>\n",
       "      <td>50.857143</td>\n",
       "      <td>1.142857</td>\n",
       "    </tr>\n",
       "  </tbody>\n",
       "</table>\n",
       "</div>"
      ],
      "text/plain": [
       "                     Tényleges ár  Becsült ár LinReg  Árkülönbség LinReg  \\\n",
       "Síterep                                                                    \n",
       "Kreischberg - Murau          52.0           49.94168             2.05832   \n",
       "\n",
       "                     Becsült ár Reg Fa  Árkülönbség Reg Fa  \n",
       "Síterep                                                     \n",
       "Kreischberg - Murau          50.857143            1.142857  "
      ]
     },
     "execution_count": 31,
     "metadata": {},
     "output_type": "execute_result"
    }
   ],
   "source": [
    "yhat[yhat.index.str.contains('Murau')]"
   ]
  },
  {
   "cell_type": "code",
   "execution_count": null,
   "metadata": {},
   "outputs": [],
   "source": []
  },
  {
   "cell_type": "code",
   "execution_count": null,
   "metadata": {},
   "outputs": [],
   "source": []
  },
  {
   "cell_type": "markdown",
   "metadata": {},
   "source": [
    "## Klaszterezés\n",
    "Vannak-e adataiban hasonlító síterepek, síterepcsoportok? Mennyire választhatók klaszterekbe az osztrák síterepek?"
   ]
  },
  {
   "cell_type": "code",
   "execution_count": 32,
   "metadata": {},
   "outputs": [],
   "source": [
    "from sklearn.preprocessing import StandardScaler, MinMaxScaler\n",
    "from sklearn.metrics import silhouette_score, davies_bouldin_score, calinski_harabasz_score\n",
    "\n",
    "from sklearn.decomposition import PCA\n",
    "from sklearn.cluster import KMeans\n",
    "\n",
    "def return_scaled_dataframe(dataframe, scaler = StandardScaler()):\n",
    "    \n",
    "    to_scale_features = dataframe.select_dtypes([np.number]).columns\n",
    "    scaled_features = dataframe[to_scale_features].copy()\n",
    "    scaled_columns = scaled_features.columns\n",
    "    scaled_features[scaled_columns] = scaler.fit_transform(scaled_features)\n",
    "\n",
    "    return scaled_features\n",
    "\n",
    "\n",
    "def clustering_metrics(data):\n",
    "    \n",
    "    Sum_of_squared_distances = []\n",
    "    Silhouette_value = []\n",
    "    Calinski_Harabasz = []\n",
    "    Davies_Bouldin = []\n",
    "\n",
    "    K = range(2, 20 + 1)\n",
    "\n",
    "    for k in K:\n",
    "\n",
    "        km = KMeans(n_clusters = k, n_init = 20, max_iter = 500, random_state = 20202020)\n",
    "        km = km.fit(data)\n",
    "        labels = km.labels_\n",
    "\n",
    "        Sum_of_squared_distances.append(km.inertia_)\n",
    "        Silhouette_value.append(silhouette_score(data, labels, metric = 'euclidean'))\n",
    "        Calinski_Harabasz.append(calinski_harabasz_score(data, labels))\n",
    "        Davies_Bouldin.append(davies_bouldin_score(data, labels))\n",
    "\n",
    "    fig, ax = plt.subplots(ncols = 2, nrows = 2, figsize = (12, 7))\n",
    "\n",
    "    sns.pointplot(x = list(K), y = Sum_of_squared_distances, markers = 'x', s = 10, ax = ax[0, 0])\n",
    "    sns.pointplot(x = list(K), y = Silhouette_value, markers = 'x', s = 10, ax = ax[1, 0])\n",
    "    sns.pointplot(x = list(K), y = Calinski_Harabasz, markers = 'x', s = 10, ax = ax[0, 1])\n",
    "    sns.pointplot(x = list(K), y = Davies_Bouldin, markers = 'x', s = 10, ax = ax[1, 1])\n",
    "\n",
    "    ax[0, 0].title.set_text('Sum of squared distances (\"elbow\")')\n",
    "    ax[1, 0].title.set_text('Silhouette value')\n",
    "    ax[0, 1].title.set_text('Calinski-Harabasz')\n",
    "    ax[1, 1].title.set_text('Davies-Bouldin')\n",
    "\n",
    "    plt.show()\n",
    "\n",
    "def plot_clusters(data, x, y, hover_data = []):\n",
    "    \n",
    "    fig = px.scatter(data, x = x, y = y, color = 'clusters', hover_data = hover_data,\n",
    "                     title = 'Clusters plotted via reduced dimensionality', \n",
    "                     width = 750, height = 550)\n",
    "    fig.update_layout(showlegend=True)\n",
    "    fig.show()\n",
    "\n",
    "def show_diff_between_clusters(data, height = 1450):\n",
    "    \n",
    "    fig = px.box(data_frame = data, y = 'value', x = 'clusters', color = 'clusters',\n",
    "                 facet_row_spacing = 0.05, facet_col_spacing = 0.05,\n",
    "                  title = 'Distribution differences across clusters', facet_col = 'stat', facet_col_wrap = 3,\n",
    "                  width = 950, height = height)\n",
    "\n",
    "    fig.update_xaxes(visible = True, showticklabels = True, title = None, matches = None, type = 'category', categoryorder='category ascending')\n",
    "    fig.update_yaxes(visible = True, showticklabels = True, title = None, matches = None)\n",
    "    fig.for_each_annotation(lambda a: a.update(text = a.text.split('=')[-1]))\n",
    "    fig.update_traces(marker = {'size' : 4}, line = {'width' : 1})\n",
    "    fig.update_layout(showlegend=False)\n",
    "    fig.show()"
   ]
  },
  {
   "cell_type": "code",
   "execution_count": 33,
   "metadata": {},
   "outputs": [],
   "source": [
    "df_cluster = data.drop(['Link', 'Régió', 'Szezon eleje', 'Szezon vége', 'Távolság Budapesttől', 'Húzólift', 'Parkoló', \n",
    "                        'Piros', 'Kék', 'Fekete', 'Vonat', 'Kombilift', 'Nagykabinos lift'], 1).copy() #'Felnőtt napijegy ára'\n",
    "df_cluster.set_index('Síterep', inplace = True)"
   ]
  },
  {
   "cell_type": "code",
   "execution_count": 34,
   "metadata": {},
   "outputs": [],
   "source": [
    "df_cluster_scaled = return_scaled_dataframe(df_cluster)"
   ]
  },
  {
   "cell_type": "code",
   "execution_count": 35,
   "metadata": {},
   "outputs": [
    {
     "data": {
      "image/png": "[encoded data removed]",
      "text/plain": [
       "<Figure size 864x504 with 4 Axes>"
      ]
     },
     "metadata": {
      "needs_background": "light"
     },
     "output_type": "display_data"
    }
   ],
   "source": [
    "clustering_metrics(df_cluster_scaled)"
   ]
  },
  {
   "cell_type": "code",
   "execution_count": 36,
   "metadata": {},
   "outputs": [
    {
     "data": {
      "text/html": [
       "<div>\n",
       "<style scoped>\n",
       "    .dataframe tbody tr th:only-of-type {\n",
       "        vertical-align: middle;\n",
       "    }\n",
       "\n",
       "    .dataframe tbody tr th {\n",
       "        vertical-align: top;\n",
       "    }\n",
       "\n",
       "    .dataframe thead th {\n",
       "        text-align: right;\n",
       "    }\n",
       "</style>\n",
       "<table border=\"1\" class=\"dataframe\">\n",
       "  <thead>\n",
       "    <tr style=\"text-align: right;\">\n",
       "      <th></th>\n",
       "      <th>Explained variance %</th>\n",
       "      <th>Hegytető</th>\n",
       "      <th>Sípályák hossza</th>\n",
       "      <th>Szintkülönbség</th>\n",
       "      <th>Liftek száma</th>\n",
       "      <th>Felnőtt napijegy ára</th>\n",
       "      <th>Ülőlift</th>\n",
       "      <th>Kiskabinos lift</th>\n",
       "      <th>Kék arány</th>\n",
       "      <th>Piros arány</th>\n",
       "      <th>Fekete arány</th>\n",
       "    </tr>\n",
       "  </thead>\n",
       "  <tbody>\n",
       "    <tr>\n",
       "      <th>0</th>\n",
       "      <td>52.899881</td>\n",
       "      <td>0.318146</td>\n",
       "      <td>0.395315</td>\n",
       "      <td>0.353307</td>\n",
       "      <td>0.388853</td>\n",
       "      <td>0.357529</td>\n",
       "      <td>0.377586</td>\n",
       "      <td>0.363718</td>\n",
       "      <td>-0.171981</td>\n",
       "      <td>0.119242</td>\n",
       "      <td>0.141391</td>\n",
       "    </tr>\n",
       "    <tr>\n",
       "      <th>1</th>\n",
       "      <td>19.810475</td>\n",
       "      <td>-0.192150</td>\n",
       "      <td>0.202561</td>\n",
       "      <td>-0.111799</td>\n",
       "      <td>0.225533</td>\n",
       "      <td>-0.070249</td>\n",
       "      <td>0.222998</td>\n",
       "      <td>0.222458</td>\n",
       "      <td>0.616256</td>\n",
       "      <td>-0.562845</td>\n",
       "      <td>-0.240762</td>\n",
       "    </tr>\n",
       "    <tr>\n",
       "      <th>2</th>\n",
       "      <td>11.198712</td>\n",
       "      <td>0.345605</td>\n",
       "      <td>-0.172573</td>\n",
       "      <td>0.267182</td>\n",
       "      <td>-0.204495</td>\n",
       "      <td>0.258443</td>\n",
       "      <td>-0.200138</td>\n",
       "      <td>-0.156985</td>\n",
       "      <td>0.200708</td>\n",
       "      <td>-0.506736</td>\n",
       "      <td>0.555890</td>\n",
       "    </tr>\n",
       "    <tr>\n",
       "      <th>3</th>\n",
       "      <td>8.532465</td>\n",
       "      <td>-0.385322</td>\n",
       "      <td>0.157489</td>\n",
       "      <td>-0.330189</td>\n",
       "      <td>0.166250</td>\n",
       "      <td>-0.295959</td>\n",
       "      <td>0.135456</td>\n",
       "      <td>0.107059</td>\n",
       "      <td>-0.231886</td>\n",
       "      <td>-0.105360</td>\n",
       "      <td>0.712591</td>\n",
       "    </tr>\n",
       "    <tr>\n",
       "      <th>4</th>\n",
       "      <td>2.527926</td>\n",
       "      <td>-0.160303</td>\n",
       "      <td>-0.118962</td>\n",
       "      <td>0.380909</td>\n",
       "      <td>-0.068121</td>\n",
       "      <td>-0.251317</td>\n",
       "      <td>-0.488440</td>\n",
       "      <td>0.712957</td>\n",
       "      <td>-0.013341</td>\n",
       "      <td>0.009527</td>\n",
       "      <td>0.010424</td>\n",
       "    </tr>\n",
       "  </tbody>\n",
       "</table>\n",
       "</div>"
      ],
      "text/plain": [
       "   Explained variance %   Hegytető  Sípályák hossza  Szintkülönbség  \\\n",
       "0              52.899881  0.318146         0.395315        0.353307   \n",
       "1              19.810475 -0.192150         0.202561       -0.111799   \n",
       "2              11.198712  0.345605        -0.172573        0.267182   \n",
       "3               8.532465 -0.385322         0.157489       -0.330189   \n",
       "4               2.527926 -0.160303        -0.118962        0.380909   \n",
       "\n",
       "   Liftek száma  Felnőtt napijegy ára   Ülőlift  Kiskabinos lift  Kék arány  \\\n",
       "0      0.388853              0.357529  0.377586         0.363718  -0.171981   \n",
       "1      0.225533             -0.070249  0.222998         0.222458   0.616256   \n",
       "2     -0.204495              0.258443 -0.200138        -0.156985   0.200708   \n",
       "3      0.166250             -0.295959  0.135456         0.107059  -0.231886   \n",
       "4     -0.068121             -0.251317 -0.488440         0.712957  -0.013341   \n",
       "\n",
       "   Piros arány  Fekete arány  \n",
       "0     0.119242      0.141391  \n",
       "1    -0.562845     -0.240762  \n",
       "2    -0.506736      0.555890  \n",
       "3    -0.105360      0.712591  \n",
       "4     0.009527      0.010424  "
      ]
     },
     "execution_count": 36,
     "metadata": {},
     "output_type": "execute_result"
    }
   ],
   "source": [
    "pca = PCA(random_state = 20202020)\n",
    "pca.fit(df_cluster_scaled)\n",
    "\n",
    "comp = pd.DataFrame(pca.components_, columns = df_cluster_scaled.columns)\n",
    "exp_var = pd.DataFrame(pca.explained_variance_ratio_ * 100, columns = ['Explained variance % '])\n",
    "\n",
    "pca_results = pd.concat([exp_var, comp], 1)\n",
    "pca_results.head()"
   ]
  },
  {
   "cell_type": "code",
   "execution_count": 37,
   "metadata": {},
   "outputs": [
    {
     "data": {
      "text/html": [
       "<div>\n",
       "<style scoped>\n",
       "    .dataframe tbody tr th:only-of-type {\n",
       "        vertical-align: middle;\n",
       "    }\n",
       "\n",
       "    .dataframe tbody tr th {\n",
       "        vertical-align: top;\n",
       "    }\n",
       "\n",
       "    .dataframe thead th {\n",
       "        text-align: right;\n",
       "    }\n",
       "</style>\n",
       "<table border=\"1\" class=\"dataframe\">\n",
       "  <thead>\n",
       "    <tr style=\"text-align: right;\">\n",
       "      <th></th>\n",
       "      <th>Síterep</th>\n",
       "      <th>PCA_1</th>\n",
       "      <th>PCA_2</th>\n",
       "      <th>clusters</th>\n",
       "    </tr>\n",
       "  </thead>\n",
       "  <tbody>\n",
       "    <tr>\n",
       "      <th>0</th>\n",
       "      <td>Abtenau im Lammertal - Karkogel</td>\n",
       "      <td>-1.216399</td>\n",
       "      <td>0.179238</td>\n",
       "      <td>0</td>\n",
       "    </tr>\n",
       "    <tr>\n",
       "      <th>1</th>\n",
       "      <td>Achenkirch - Christlum</td>\n",
       "      <td>0.639972</td>\n",
       "      <td>-1.515945</td>\n",
       "      <td>1</td>\n",
       "    </tr>\n",
       "    <tr>\n",
       "      <th>2</th>\n",
       "      <td>Aflenz - Bürgeralm</td>\n",
       "      <td>-0.061986</td>\n",
       "      <td>-2.197421</td>\n",
       "      <td>1</td>\n",
       "    </tr>\n",
       "  </tbody>\n",
       "</table>\n",
       "</div>"
      ],
      "text/plain": [
       "                           Síterep     PCA_1     PCA_2 clusters\n",
       "0  Abtenau im Lammertal - Karkogel -1.216399  0.179238        0\n",
       "1           Achenkirch - Christlum  0.639972 -1.515945        1\n",
       "2               Aflenz - Bürgeralm -0.061986 -2.197421        1"
      ]
     },
     "execution_count": 37,
     "metadata": {},
     "output_type": "execute_result"
    }
   ],
   "source": [
    "CLUST_NUMBER = 3\n",
    "\n",
    "PCAs = pd.DataFrame(pca.transform(df_cluster_scaled))[[0, 1]]\n",
    "PCAs.columns = ['PCA_1', 'PCA_2']\n",
    "\n",
    "km = KMeans(n_clusters = CLUST_NUMBER, n_init = 20, max_iter = 500, random_state = 20202020).fit(df_cluster_scaled)\n",
    "km = pd.DataFrame(km.predict(df_cluster_scaled), columns = ['clusters'])\n",
    "kmeans_results = pd.concat([pd.Series(df_cluster_scaled.index), PCAs, km], 1)\n",
    "kmeans_results.clusters = kmeans_results.clusters.astype('object')\n",
    "\n",
    "kmeans_results.head(3)"
   ]
  },
  {
   "cell_type": "code",
   "execution_count": 38,
   "metadata": {},
   "outputs": [
    {
     "data": {
      "text/plain": [
       "1    108\n",
       "0     91\n",
       "2     16\n",
       "Name: clusters, dtype: int64"
      ]
     },
     "execution_count": 38,
     "metadata": {},
     "output_type": "execute_result"
    }
   ],
   "source": [
    "kmeans_results.clusters.value_counts()"
   ]
  },
  {
   "cell_type": "code",
   "execution_count": 39,
   "metadata": {},
   "outputs": [
    {
     "data": {
      "application/vnd.plotly.v1+json": {
       "config": {
        "plotlyServerURL": "https://plot.ly"
       },
       "data": [
        {
         "customdata": [
          [
           "Abtenau im Lammertal - Karkogel"
          ],
          [
           "Alberschwende"
          ],
          [
           "Annaberg"
          ],
          [
           "Berg im Drautal - Emberger Alm"
          ],
          [
           "Brandlift - Scharnitz"
          ],
          [
           "Bregenz - Pfänder"
          ],
          [
           "Brunnalm - Hohe Veitsch"
          ],
          [
           "Dachstein gleccser"
          ],
          [
           "Dürrnberg - Hallein / Zinken"
          ],
          [
           "Eben - Monte Popolo"
          ],
          [
           "Ehrwald - Wettersteinbahnen"
          ],
          [
           "Embach - Hörndl"
          ],
          [
           "Falkert - Heidi Alm Skipark"
          ],
          [
           "Faschina (Fontanella)"
          ],
          [
           "Flattnitz"
          ],
          [
           "Forsteralm"
          ],
          [
           "Furx"
          ],
          [
           "Gaaler Lifte"
          ],
          [
           "Gaberl - Plankogel"
          ],
          [
           "Gaissau - Hintersee"
          ],
          [
           "Gitschtal - Weißbriach"
          ],
          [
           "Goldegg"
          ],
          [
           "Harmanschlag - Arralifte"
          ],
          [
           "Hauereck - St. Kathrein am Hauenstein"
          ],
          [
           "Hittisau - Alpenarena Hochhäderich"
          ],
          [
           "Hittisau - Hittisberg"
          ],
          [
           "Hochbärneck"
          ],
          [
           "Hochficht"
          ],
          [
           "Holzgau - Gföllberglift"
          ],
          [
           "Holzmeisterlifte Sommeralm"
          ],
          [
           "Jungholz"
          ],
          [
           "Jöchelspitze (Lechtal)"
          ],
          [
           "Kaiserau - Admont"
          ],
          [
           "Karlstift - Aichelberglifte"
          ],
          [
           "Kelchsau"
          ],
          [
           "Kirchdorf in Tirol"
          ],
          [
           "Kirchschlag"
          ],
          [
           "Kleinlobming"
          ],
          [
           "Klippitztörl"
          ],
          [
           "Koralpe"
          ],
          [
           "Königsberg"
          ],
          [
           "Kötschach - Mauthen"
          ],
          [
           "Leutasch"
          ],
          [
           "Lunz am See - Maiszinken"
          ],
          [
           "Maria Neustift - Glasenberg"
          ],
          [
           "Mariazell - Bürgeralpe"
          ],
          [
           "Modriach"
          ],
          [
           "Mönichkirchen - Mariensee"
          ],
          [
           "Mönichwald"
          ],
          [
           "Neustift - Elfer"
          ],
          [
           "Niederalpl - Mürzsteg"
          ],
          [
           "Obdach - Rieseralm"
          ],
          [
           "Obsteig - Grünberg"
          ],
          [
           "Partenen - Silvretta Bielerhöhe"
          ],
          [
           "Pertisau - Karwendel"
          ],
          [
           "Piesendorf - Erlebnisberg Nagelköpfel"
          ],
          [
           "Postalm"
          ],
          [
           "Prägraten am Großvenediger"
          ],
          [
           "Puchberg am Schneeberg - Wunderwiese"
          ],
          [
           "Puchenstuben"
          ],
          [
           "Raggal - Marul"
          ],
          [
           "Riefensberg - Hochlitten"
          ],
          [
           "Rohr im Gebirge - Furtnerlifte"
          ],
          [
           "Salzstiegl"
          ],
          [
           "Sandl - Viehberg"
          ],
          [
           "Schetteregg"
          ],
          [
           "Schneeberg - Hagerlifte"
          ],
          [
           "Schwaz - Kellerjoch"
          ],
          [
           "Semmering - Hirschenkogel"
          ],
          [
           "Semmering - Stuhleck"
          ],
          [
           "Simonhöhe"
          ],
          [
           "Ski Arena Seefeld - Mösern - Gschwandtkopf"
          ],
          [
           "Sommeralm - Pirstingerkogellift"
          ],
          [
           "St. Corona / Unternberg"
          ],
          [
           "St. Georgen am Walde - Schorschi-Lifte"
          ],
          [
           "St. Jakob im Walde"
          ],
          [
           "St. Martin am Tennengebirge"
          ],
          [
           "Steinberg - Rofan"
          ],
          [
           "Sternstein"
          ],
          [
           "Teichalm"
          ],
          [
           "Tirolina - Haltjochlift"
          ],
          [
           "Unken - Heutal"
          ],
          [
           "Unterberg"
          ],
          [
           "Unterbergen - Bodental"
          ],
          [
           "Wald am Schoberpass"
          ],
          [
           "Weinebene"
          ],
          [
           "Weissensee"
          ],
          [
           "Wenigzell"
          ],
          [
           "Weyregg am Attersee - Wachtberglifte"
          ],
          [
           "Übersaxen - Gröllerkopf"
          ],
          [
           "Zahmer Kaiser - Durchholzen"
          ]
         ],
         "hovertemplate": "clusters=0<br>PCA_1=%{x}<br>PCA_2=%{y}<br>Síterep=%{customdata[0]}<extra></extra>",
         "legendgroup": "0",
         "marker": {
          "color": "#636efa",
          "symbol": "circle"
         },
         "mode": "markers",
         "name": "0",
         "orientation": "v",
         "showlegend": true,
         "type": "scatter",
         "x": [
          -1.2163985150725891,
          -1.943879151106791,
          -1.3672344914839283,
          -1.0278520294278597,
          -3.6014216738021427,
          -2.7926773660559263,
          -0.9616115517151514,
          -0.6970218552109548,
          -1.237593323423882,
          -1.092779214321144,
          -0.7533076152288757,
          -2.362307516362428,
          -1.0948811447149633,
          -1.1553941443025286,
          -1.15616538924315,
          -1.9738413160878143,
          -2.6932261598998135,
          -1.4868719829257746,
          -1.8416384283526186,
          -0.6678363219573434,
          -1.5899164312411347,
          -2.0285726145615572,
          -2.519421444722626,
          -1.4346472098149328,
          -0.9446746873106844,
          -2.6538340963644984,
          -2.58614985478801,
          -0.5361546765374979,
          -2.268025983326784,
          -2.439231429066234,
          -1.5526565801520817,
          -0.9551545062826544,
          -2.2049074539560505,
          -2.140231484316635,
          -1.3517819541856857,
          -2.985757366495102,
          -2.813175696725347,
          -1.8778915621788927,
          -1.1212364787139721,
          -0.9722214326236628,
          -1.7962867206333133,
          -1.7423761600356504,
          -1.388333393044119,
          -2.238213896940177,
          -3.0602038952634083,
          -1.3533245732894323,
          -2.7477541881632916,
          -0.7621018760192457,
          -1.7067576315071245,
          -1.3560706485991496,
          -1.1694013153255423,
          -1.3476402845869302,
          -2.873314809696231,
          -2.2425849415052213,
          -1.2121097327764145,
          -2.2541440622917306,
          -1.5141528873913024,
          -1.9500543680385656,
          -1.7793333907644688,
          -2.4105233189626953,
          -2.1100302890820943,
          -1.8035425624183652,
          -2.082931674531301,
          -1.1078394562945435,
          -3.166976577494752,
          -1.1980615452145615,
          -2.0749406800272134,
          -1.234168338920724,
          -1.2155845066068818,
          -0.26090200567902955,
          -1.6859583402262601,
          -1.7847326383880278,
          -1.7891077848969514,
          -3.101983783671615,
          -3.586519469416504,
          -1.8204438353733101,
          -2.367384573121258,
          -2.897504892917427,
          -1.450931989367054,
          -1.3515374221683463,
          -2.2324273031524364,
          -1.5348115757035001,
          -1.698415572462156,
          -2.313881788193556,
          -1.4769702657489292,
          -0.9365610232443787,
          -1.5927930441165798,
          -3.02708252604649,
          -2.520816014760839,
          -2.326882290694269,
          -2.1732988050364166
         ],
         "xaxis": "x",
         "y": [
          0.17923818909913306,
          -0.5054736420087453,
          1.0622159237754718,
          -0.18146407598168435,
          3.262014607311695,
          3.1302575156639407,
          -0.8002801352318125,
          1.2995849182941024,
          -1.3553521264526927,
          0.8878333448193809,
          0.9647964768237751,
          1.0866782029634414,
          -1.5174695095414654,
          1.7121187306278811,
          0.547414494760915,
          1.0765359479024552,
          1.9722806294747355,
          -0.2311552743722487,
          0.3532680739792944,
          1.1183746213293284,
          -1.3680432961401874,
          1.8192012431289641,
          0.29748072173965195,
          -0.37170786495022834,
          -0.8708383208948396,
          0.39684204949743623,
          0.8099539399352704,
          0.12166173028834007,
          0.6849718144297104,
          1.0881990161663875,
          1.3148651097443191,
          -0.18109781946653844,
          1.06508770808093,
          0.01152189209651277,
          0.6674722201152923,
          3.345796403246154,
          1.305029734969756,
          -1.5915765652218379,
          0.9223075574900349,
          -1.2451570179052731,
          0.3258932067938627,
          1.0523190952836359,
          -0.5016077084657873,
          -0.04915185990242771,
          1.7653565414244667,
          1.3505013301313007,
          2.1921109796890503,
          -0.3714165583089125,
          -1.2173344539067874,
          2.6287996928895043,
          -0.8749528478140199,
          -0.8185343858892165,
          1.8931292203541596,
          2.786857264432503,
          0.0836594269161322,
          -1.1702707589063428,
          0.8548025441236092,
          0.19671362498134684,
          0.06829042332445964,
          0.5943406544499834,
          0.11682385664099187,
          -0.8366452315823026,
          -0.2869367454509838,
          0.06374235606840092,
          3.189924816751139,
          -0.567516492360175,
          -1.114950853367268,
          1.006938227178868,
          -0.051279826319196704,
          1.6299216042639613,
          0.6383727004079681,
          3.091042358335414,
          -1.2695259271545745,
          3.1852579347976917,
          3.3493711491856684,
          -1.2998784859642303,
          0.7981959852401558,
          3.1116347952824004,
          -1.6806391720902327,
          -1.2709183553028485,
          0.30959230070012095,
          0.24937117245234625,
          1.155557848405547,
          0.1593941810930735,
          -0.6983008052383074,
          -0.7439598497986832,
          0.5854633326533809,
          3.1693463481320783,
          0.3095671323127883,
          0.16520461054107546,
          2.1965471134381263
         ],
         "yaxis": "y"
        },
        {
         "customdata": [
          [
           "Achenkirch - Christlum"
          ],
          [
           "Aflenz - Bürgeralm"
          ],
          [
           "Altaussee - Loser"
          ],
          [
           "Altenmarkt - Radstadt"
          ],
          [
           "Andelsbuch - Baumgartnerhöhe"
          ],
          [
           "Arnoldstein - Dreiländereck"
          ],
          [
           "Axamer Lizum"
          ],
          [
           "Bad Kleinkirchheim"
          ],
          [
           "Bergeralm"
          ],
          [
           "Bergkastel Nauders"
          ],
          [
           "Berwangertal"
          ],
          [
           "Biberwier - Marienberg"
          ],
          [
           "Brandnertal"
          ],
          [
           "Buchensteinwand - St. Ulrich am Pillersee"
          ],
          [
           "Dachstein West"
          ],
          [
           "Damüls - Mellau"
          ],
          [
           "Diedamskopf"
          ],
          [
           "Ehrwald"
          ],
          [
           "Fageralm"
          ],
          [
           "Fanningberg"
          ],
          [
           "Fendels"
          ],
          [
           "Feuerkogel - Ebensee"
          ],
          [
           "Filzmoos"
          ],
          [
           "Fügen - Spieljoch"
          ],
          [
           "Galsterbergalm"
          ],
          [
           "Galtür - Silvapark"
          ],
          [
           "Gargellen"
          ],
          [
           "Gemeindealpe - Mitterbach"
          ],
          [
           "Gerlitzen Alpe"
          ],
          [
           "Glungezer"
          ],
          [
           "Goldeck"
          ],
          [
           "Golm"
          ],
          [
           "Golzentipp - Obertilliach"
          ],
          [
           "Grebenzen - St. Lambrecht"
          ],
          [
           "Grossarltal - Dorfgastein"
          ],
          [
           "Grosseck - Speiereck"
          ],
          [
           "Grossglockner  Kals - Matrei"
          ],
          [
           "Grän - Füssener Jöchle"
          ],
          [
           "Hahnenkamm - Höfen - Reutte"
          ],
          [
           "Heiligenblut am Grossglockner"
          ],
          [
           "Hinterstoder"
          ],
          [
           "Hintertux gleccser"
          ],
          [
           "Hirschegg - Heuberg - Walmendingerhorn - Ifen"
          ],
          [
           "Hochkar"
          ],
          [
           "Hochrindl - Sirnitz - Deutsch Griffen"
          ],
          [
           "Hochzeiger -  Pitztal"
          ],
          [
           "Hohentauern - Moscher"
          ],
          [
           "Ifen"
          ],
          [
           "Imst / Hoch-Imst"
          ],
          [
           "Innerkrems"
          ],
          [
           "Kappl"
          ],
          [
           "Kaprun - Kitzsteinhorn / Maiskogel"
          ],
          [
           "Kasberg - Grünau"
          ],
          [
           "Katschberg - Aineck"
          ],
          [
           "Kaunertal gleccser"
          ],
          [
           "Kleinarl, Flachauwinkl - Shuttleberg"
          ],
          [
           "Kreischberg - Murau"
          ],
          [
           "Krippenstein - Dachstein"
          ],
          [
           "Kühtai"
          ],
          [
           "Kössen - Hochkössen"
          ],
          [
           "Lachtal"
          ],
          [
           "Lackenhof am Ötscher"
          ],
          [
           "Laterns - Gapfohl"
          ],
          [
           "Lermoos - Grubigstein"
          ],
          [
           "Lienz - Hochstein"
          ],
          [
           "Lienz - Zettersfeld"
          ],
          [
           "Loferer Alm"
          ],
          [
           "Maurach - Rofan"
          ],
          [
           "Mieders - Serles"
          ],
          [
           "Nassfeld - Hermagor"
          ],
          [
           "Nesselwängle"
          ],
          [
           "Nordkette - Innsbruck"
          ],
          [
           "Obertauern"
          ],
          [
           "Patscherkofel"
          ],
          [
           "Petzen"
          ],
          [
           "Pitztal gleccser"
          ],
          [
           "Planneralm"
          ],
          [
           "Präbichl"
          ],
          [
           "Ramsau - Rittisberg"
          ],
          [
           "Rangger Köpfl"
          ],
          [
           "Rauris - Hochalmbahnen"
          ],
          [
           "Riesneralm"
          ],
          [
           "Rifflsee"
          ],
          [
           "Schattwald - Zöblen im Tannheimertal"
          ],
          [
           "Schlick 2000 - Fulpmes"
          ],
          [
           "Schwarzenberg - Bödele"
          ],
          [
           "See"
          ],
          [
           "Silbertal - Kristberg"
          ],
          [
           "Sillian - Hochpustertal"
          ],
          [
           "Ski Arena Seefeld - Rosshütte & Härmelekopf"
          ],
          [
           "Sonnenkopf - Klostertal"
          ],
          [
           "St. Jakob im Defereggental"
          ],
          [
           "St. Johann in Tirol"
          ],
          [
           "Stubai gleccser"
          ],
          [
           "Tannheim - Neunerköpfle"
          ],
          [
           "Tauplitz"
          ],
          [
           "Turnau - Schwabenbergarena"
          ],
          [
           "Turracher Höhe"
          ],
          [
           "Venet - Landeck - Zams - Fliess"
          ],
          [
           "Vent"
          ],
          [
           "Weisssee - Uttendorf"
          ],
          [
           "Werfenweng"
          ],
          [
           "Wildkogel Arena - Neukirchen Bramberg"
          ],
          [
           "Winklmoosalm - Steinplatte"
          ],
          [
           "Wurzeralm - Spital am Pyhrn"
          ],
          [
           "Zauchensee"
          ],
          [
           "Zell am See - Schmittenhöhe"
          ],
          [
           "Ötz - Hochötz"
          ]
         ],
         "hovertemplate": "clusters=1<br>PCA_1=%{x}<br>PCA_2=%{y}<br>Síterep=%{customdata[0]}<extra></extra>",
         "legendgroup": "1",
         "marker": {
          "color": "#EF553B",
          "symbol": "circle"
         },
         "mode": "markers",
         "name": "1",
         "orientation": "v",
         "showlegend": true,
         "type": "scatter",
         "x": [
          0.6399718092527756,
          -0.06198632844326599,
          -0.17411794974528316,
          0.15318121241984559,
          -0.5502521644675219,
          -0.34196065496123906,
          0.7349998885079796,
          2.6090253411157778,
          0.5658287614654496,
          1.9160902398858997,
          0.17512054076809322,
          -0.5622740007929976,
          1.2235035154090537,
          -0.5521117493953792,
          1.4650202617388968,
          2.5018895901119262,
          1.0948352045166652,
          -0.06225184382371537,
          0.017478485549230965,
          -0.0363136927135879,
          -0.24542383464395776,
          -0.4032224690752763,
          -0.21550012490502318,
          1.6434558221495323,
          0.27965772248542714,
          1.051557780090436,
          0.1516282379414271,
          -0.6395064475724117,
          1.5229060782276251,
          0.48367389477720174,
          0.9963432498296559,
          1.132406197348682,
          -0.10330881843819553,
          -0.20941593119731508,
          2.2040167221682494,
          1.1598223243099588,
          2.242022931354463,
          -0.4098848597016087,
          0.008942448672425394,
          1.964787218933098,
          1.4270814267655383,
          3.8103171599538346,
          0.3411823847430157,
          -0.0029993932333682556,
          -0.4778411098405624,
          1.2280816178734324,
          -0.793999769288549,
          0.08871664409615901,
          -0.22840440274382373,
          0.35820986202714844,
          1.4113991022781585,
          3.7212453667402903,
          -0.06257920941753957,
          2.1363505885736798,
          1.46043693103359,
          0.691163936398603,
          1.3607935092897516,
          0.506383569706795,
          1.1945658120500728,
          0.11787846765609615,
          0.3174958593074428,
          -0.34006996574642484,
          -0.19604646150175523,
          0.7362205351169046,
          1.0525605151682385,
          0.3302733449670856,
          0.08596722652966367,
          -0.03472731918887628,
          -0.8137421375610255,
          3.2568133476530075,
          -0.7174346565161911,
          0.7711315091127753,
          2.1563966504502647,
          0.11181116512249252,
          -0.3236241337620216,
          1.4010856669489598,
          -0.05947334007908583,
          -0.3871121816387337,
          -0.7052675044642729,
          -0.29225306366314546,
          0.830478450841651,
          -0.3117989179550078,
          1.0759372291191212,
          -0.7697795063099935,
          0.5278029406945411,
          -0.42745333842374106,
          1.4266520080248843,
          -0.2358474918860104,
          1.2259477618174506,
          0.15453487879412145,
          0.7836677869646758,
          0.9290044339323265,
          1.0688651871693795,
          3.630842185280147,
          -0.24614745325615647,
          0.8444400070749885,
          -0.8296749034323545,
          0.9036552468545915,
          0.6638621428522357,
          -0.015140250101558773,
          0.8439978269387961,
          0.1342292338575453,
          2.1108240197122865,
          1.2299486221329101,
          0.0794461874646562,
          1.6827951966106938,
          3.2750774083961067,
          1.0417569355640417
         ],
         "xaxis": "x",
         "y": [
          -1.5159449838664956,
          -2.1974208446714303,
          0.7492384263579716,
          0.32236834445191975,
          -0.03562858505224406,
          -1.1173782439793558,
          -1.5696463907481213,
          -1.033248864379288,
          -1.0326507898358266,
          -0.9280516291622805,
          0.46867813070287684,
          0.7632889065494128,
          -0.05542360615830641,
          -0.5102719116723726,
          -0.43223829537498876,
          -0.068008428253214,
          -0.9846869585165658,
          0.9452634349023774,
          -0.42533697424920874,
          -0.26292872722628907,
          0.20251299114309168,
          0.6264308633993413,
          -0.19731168165098592,
          -1.825226274404094,
          -1.2533876953395449,
          -1.9601258677866418,
          1.2979527930361676,
          -0.3112835959806972,
          -1.3080325946934384,
          -1.605183947436903,
          -1.2434097277392366,
          -0.03284679057924199,
          -1.5648557335187707,
          -1.6967909057245736,
          0.23712097587365308,
          0.15313665050976866,
          -1.4958749047860178,
          -1.0635248615626285,
          -1.25292624885789,
          -1.1359589166667754,
          -1.0581285717578743,
          -1.4275822512087364,
          0.5601632208478029,
          -0.9426700900637717,
          -1.3317219229120496,
          -1.522776922016588,
          -1.3927192101704597,
          0.12056810589252602,
          -0.4216288379271768,
          -1.8758286030290106,
          -1.8198037319294893,
          -0.04824189565261693,
          0.5409206323214761,
          -1.7180139526107445,
          -0.5960964605021044,
          1.1638553799274662,
          -0.34125396475159697,
          -1.923037944892151,
          -1.541327419822509,
          -0.04233565674540174,
          -1.4121272607968456,
          -0.6927920533657672,
          -1.1846366198396185,
          0.31965906840025693,
          -3.111769226055732,
          -0.8577706140459651,
          1.420690776238103,
          -2.534226078723928,
          -0.7625035157482792,
          -0.24815484663831178,
          -0.7159544550686475,
          -3.15515179710386,
          1.734683242170687,
          -1.5159921408378776,
          -0.01845805507072663,
          -2.420257675471835,
          -2.236938612895217,
          -1.0277492298542128,
          -0.36774544343097815,
          0.1139965352460292,
          -0.21395883298561902,
          0.7911872342513969,
          -2.008064970046973,
          -0.2842816326368011,
          0.22755804212924222,
          -0.5992849298305569,
          -1.9563565546118835,
          -1.3360597527017648,
          -1.69537253370639,
          0.07160653392127257,
          -0.5465539452437512,
          -1.7025595148525967,
          -0.17473606586586107,
          -0.49704982732452535,
          -1.2840364729351115,
          -0.16655676917141157,
          -2.172096499880317,
          -0.8584424424768651,
          -1.6498836566006299,
          -1.406852533640025,
          -1.6312244181921158,
          -0.20445238003343755,
          0.369205109113377,
          0.011903844163693302,
          -0.31788979033001313,
          0.4028042147023394,
          0.5121109655789277,
          -0.8099063866266538
         ],
         "yaxis": "y"
        },
        {
         "customdata": [
          [
           "Flachau Wagrain St. Johann - Snow Space Salzburg"
          ],
          [
           "Hochkönig"
          ],
          [
           "Hochzillertal - Hochfügen"
          ],
          [
           "Ischgl - Silvretta Arena"
          ],
          [
           "Kitzbühel - Kirchberg - Kitzski"
          ],
          [
           "Mayrhofen - Zillertal"
          ],
          [
           "Obergurgl - Hochgurgl"
          ],
          [
           "Saalbach Hinterglemm Leogang Fieberbrunn"
          ],
          [
           "Schladming 4 hegy"
          ],
          [
           "Serfaus - Fiss - Ladis"
          ],
          [
           "Silvretta Montafon"
          ],
          [
           "Ski Arlberg - St. Anton - Lech - Zürs - Warth"
          ],
          [
           "Ski Juwel - Alpbachtal, Wildschönau"
          ],
          [
           "SkiWelt Wilder Kaiser - Brixental"
          ],
          [
           "Sölden - Ötztal"
          ],
          [
           "Zillertal Arena"
          ]
         ],
         "hovertemplate": "clusters=2<br>PCA_1=%{x}<br>PCA_2=%{y}<br>Síterep=%{customdata[0]}<extra></extra>",
         "legendgroup": "2",
         "marker": {
          "color": "#00cc96",
          "symbol": "circle"
         },
         "mode": "markers",
         "name": "2",
         "orientation": "v",
         "showlegend": true,
         "type": "scatter",
         "x": [
          4.856243265713616,
          3.4362251430770825,
          4.26874389152343,
          6.485424882435387,
          6.246300985450907,
          5.600162216075961,
          4.061333381067324,
          9.086438160044851,
          5.0254234155746085,
          6.1874270426266245,
          4.729946328286631,
          10.158572539579337,
          3.6603049637218845,
          9.265264497310245,
          5.600385156185477,
          6.624544946393207
         ],
         "xaxis": "x",
         "y": [
          0.6983353536843366,
          1.0416034391252038,
          0.15243663909568292,
          0.30491461226915545,
          3.2897384185226493,
          0.534733535218004,
          1.2126735758213925,
          4.652532619249775,
          1.389717769000481,
          0.44586471955061924,
          1.701565343700517,
          3.9341257162992256,
          0.1532989329825204,
          4.285571369606263,
          0.9580566017417833,
          1.2809362023683484
         ],
         "yaxis": "y"
        }
       ],
       "layout": {
        "height": 550,
        "legend": {
         "title": {
          "text": "clusters"
         },
         "tracegroupgap": 0
        },
        "showlegend": true,
        "template": {
         "data": {
          "bar": [
           {
            "error_x": {
             "color": "#2a3f5f"
            },
            "error_y": {
             "color": "#2a3f5f"
            },
            "marker": {
             "line": {
              "color": "#E5ECF6",
              "width": 0.5
             },
             "pattern": {
              "fillmode": "overlay",
              "size": 10,
              "solidity": 0.2
             }
            },
            "type": "bar"
           }
          ],
          "barpolar": [
           {
            "marker": {
             "line": {
              "color": "#E5ECF6",
              "width": 0.5
             },
             "pattern": {
              "fillmode": "overlay",
              "size": 10,
              "solidity": 0.2
             }
            },
            "type": "barpolar"
           }
          ],
          "carpet": [
           {
            "aaxis": {
             "endlinecolor": "#2a3f5f",
             "gridcolor": "white",
             "linecolor": "white",
             "minorgridcolor": "white",
             "startlinecolor": "#2a3f5f"
            },
            "baxis": {
             "endlinecolor": "#2a3f5f",
             "gridcolor": "white",
             "linecolor": "white",
             "minorgridcolor": "white",
             "startlinecolor": "#2a3f5f"
            },
            "type": "carpet"
           }
          ],
          "choropleth": [
           {
            "colorbar": {
             "outlinewidth": 0,
             "ticks": ""
            },
            "type": "choropleth"
           }
          ],
          "contour": [
           {
            "colorbar": {
             "outlinewidth": 0,
             "ticks": ""
            },
            "colorscale": [
             [
              0,
              "#0d0887"
             ],
             [
              0.1111111111111111,
              "#46039f"
             ],
             [
              0.2222222222222222,
              "#7201a8"
             ],
             [
              0.3333333333333333,
              "#9c179e"
             ],
             [
              0.4444444444444444,
              "#bd3786"
             ],
             [
              0.5555555555555556,
              "#d8576b"
             ],
             [
              0.6666666666666666,
              "#ed7953"
             ],
             [
              0.7777777777777778,
              "#fb9f3a"
             ],
             [
              0.8888888888888888,
              "#fdca26"
             ],
             [
              1,
              "#f0f921"
             ]
            ],
            "type": "contour"
           }
          ],
          "contourcarpet": [
           {
            "colorbar": {
             "outlinewidth": 0,
             "ticks": ""
            },
            "type": "contourcarpet"
           }
          ],
          "heatmap": [
           {
            "colorbar": {
             "outlinewidth": 0,
             "ticks": ""
            },
            "colorscale": [
             [
              0,
              "#0d0887"
             ],
             [
              0.1111111111111111,
              "#46039f"
             ],
             [
              0.2222222222222222,
              "#7201a8"
             ],
             [
              0.3333333333333333,
              "#9c179e"
             ],
             [
              0.4444444444444444,
              "#bd3786"
             ],
             [
              0.5555555555555556,
              "#d8576b"
             ],
             [
              0.6666666666666666,
              "#ed7953"
             ],
             [
              0.7777777777777778,
              "#fb9f3a"
             ],
             [
              0.8888888888888888,
              "#fdca26"
             ],
             [
              1,
              "#f0f921"
             ]
            ],
            "type": "heatmap"
           }
          ],
          "heatmapgl": [
           {
            "colorbar": {
             "outlinewidth": 0,
             "ticks": ""
            },
            "colorscale": [
             [
              0,
              "#0d0887"
             ],
             [
              0.1111111111111111,
              "#46039f"
             ],
             [
              0.2222222222222222,
              "#7201a8"
             ],
             [
              0.3333333333333333,
              "#9c179e"
             ],
             [
              0.4444444444444444,
              "#bd3786"
             ],
             [
              0.5555555555555556,
              "#d8576b"
             ],
             [
              0.6666666666666666,
              "#ed7953"
             ],
             [
              0.7777777777777778,
              "#fb9f3a"
             ],
             [
              0.8888888888888888,
              "#fdca26"
             ],
             [
              1,
              "#f0f921"
             ]
            ],
            "type": "heatmapgl"
           }
          ],
          "histogram": [
           {
            "marker": {
             "pattern": {
              "fillmode": "overlay",
              "size": 10,
              "solidity": 0.2
             }
            },
            "type": "histogram"
           }
          ],
          "histogram2d": [
           {
            "colorbar": {
             "outlinewidth": 0,
             "ticks": ""
            },
            "colorscale": [
             [
              0,
              "#0d0887"
             ],
             [
              0.1111111111111111,
              "#46039f"
             ],
             [
              0.2222222222222222,
              "#7201a8"
             ],
             [
              0.3333333333333333,
              "#9c179e"
             ],
             [
              0.4444444444444444,
              "#bd3786"
             ],
             [
              0.5555555555555556,
              "#d8576b"
             ],
             [
              0.6666666666666666,
              "#ed7953"
             ],
             [
              0.7777777777777778,
              "#fb9f3a"
             ],
             [
              0.8888888888888888,
              "#fdca26"
             ],
             [
              1,
              "#f0f921"
             ]
            ],
            "type": "histogram2d"
           }
          ],
          "histogram2dcontour": [
           {
            "colorbar": {
             "outlinewidth": 0,
             "ticks": ""
            },
            "colorscale": [
             [
              0,
              "#0d0887"
             ],
             [
              0.1111111111111111,
              "#46039f"
             ],
             [
              0.2222222222222222,
              "#7201a8"
             ],
             [
              0.3333333333333333,
              "#9c179e"
             ],
             [
              0.4444444444444444,
              "#bd3786"
             ],
             [
              0.5555555555555556,
              "#d8576b"
             ],
             [
              0.6666666666666666,
              "#ed7953"
             ],
             [
              0.7777777777777778,
              "#fb9f3a"
             ],
             [
              0.8888888888888888,
              "#fdca26"
             ],
             [
              1,
              "#f0f921"
             ]
            ],
            "type": "histogram2dcontour"
           }
          ],
          "mesh3d": [
           {
            "colorbar": {
             "outlinewidth": 0,
             "ticks": ""
            },
            "type": "mesh3d"
           }
          ],
          "parcoords": [
           {
            "line": {
             "colorbar": {
              "outlinewidth": 0,
              "ticks": ""
             }
            },
            "type": "parcoords"
           }
          ],
          "pie": [
           {
            "automargin": true,
            "type": "pie"
           }
          ],
          "scatter": [
           {
            "marker": {
             "colorbar": {
              "outlinewidth": 0,
              "ticks": ""
             }
            },
            "type": "scatter"
           }
          ],
          "scatter3d": [
           {
            "line": {
             "colorbar": {
              "outlinewidth": 0,
              "ticks": ""
             }
            },
            "marker": {
             "colorbar": {
              "outlinewidth": 0,
              "ticks": ""
             }
            },
            "type": "scatter3d"
           }
          ],
          "scattercarpet": [
           {
            "marker": {
             "colorbar": {
              "outlinewidth": 0,
              "ticks": ""
             }
            },
            "type": "scattercarpet"
           }
          ],
          "scattergeo": [
           {
            "marker": {
             "colorbar": {
              "outlinewidth": 0,
              "ticks": ""
             }
            },
            "type": "scattergeo"
           }
          ],
          "scattergl": [
           {
            "marker": {
             "colorbar": {
              "outlinewidth": 0,
              "ticks": ""
             }
            },
            "type": "scattergl"
           }
          ],
          "scattermapbox": [
           {
            "marker": {
             "colorbar": {
              "outlinewidth": 0,
              "ticks": ""
             }
            },
            "type": "scattermapbox"
           }
          ],
          "scatterpolar": [
           {
            "marker": {
             "colorbar": {
              "outlinewidth": 0,
              "ticks": ""
             }
            },
            "type": "scatterpolar"
           }
          ],
          "scatterpolargl": [
           {
            "marker": {
             "colorbar": {
              "outlinewidth": 0,
              "ticks": ""
             }
            },
            "type": "scatterpolargl"
           }
          ],
          "scatterternary": [
           {
            "marker": {
             "colorbar": {
              "outlinewidth": 0,
              "ticks": ""
             }
            },
            "type": "scatterternary"
           }
          ],
          "surface": [
           {
            "colorbar": {
             "outlinewidth": 0,
             "ticks": ""
            },
            "colorscale": [
             [
              0,
              "#0d0887"
             ],
             [
              0.1111111111111111,
              "#46039f"
             ],
             [
              0.2222222222222222,
              "#7201a8"
             ],
             [
              0.3333333333333333,
              "#9c179e"
             ],
             [
              0.4444444444444444,
              "#bd3786"
             ],
             [
              0.5555555555555556,
              "#d8576b"
             ],
             [
              0.6666666666666666,
              "#ed7953"
             ],
             [
              0.7777777777777778,
              "#fb9f3a"
             ],
             [
              0.8888888888888888,
              "#fdca26"
             ],
             [
              1,
              "#f0f921"
             ]
            ],
            "type": "surface"
           }
          ],
          "table": [
           {
            "cells": {
             "fill": {
              "color": "#EBF0F8"
             },
             "line": {
              "color": "white"
             }
            },
            "header": {
             "fill": {
              "color": "#C8D4E3"
             },
             "line": {
              "color": "white"
             }
            },
            "type": "table"
           }
          ]
         },
         "layout": {
          "annotationdefaults": {
           "arrowcolor": "#2a3f5f",
           "arrowhead": 0,
           "arrowwidth": 1
          },
          "autotypenumbers": "strict",
          "coloraxis": {
           "colorbar": {
            "outlinewidth": 0,
            "ticks": ""
           }
          },
          "colorscale": {
           "diverging": [
            [
             0,
             "#8e0152"
            ],
            [
             0.1,
             "#c51b7d"
            ],
            [
             0.2,
             "#de77ae"
            ],
            [
             0.3,
             "#f1b6da"
            ],
            [
             0.4,
             "#fde0ef"
            ],
            [
             0.5,
             "#f7f7f7"
            ],
            [
             0.6,
             "#e6f5d0"
            ],
            [
             0.7,
             "#b8e186"
            ],
            [
             0.8,
             "#7fbc41"
            ],
            [
             0.9,
             "#4d9221"
            ],
            [
             1,
             "#276419"
            ]
           ],
           "sequential": [
            [
             0,
             "#0d0887"
            ],
            [
             0.1111111111111111,
             "#46039f"
            ],
            [
             0.2222222222222222,
             "#7201a8"
            ],
            [
             0.3333333333333333,
             "#9c179e"
            ],
            [
             0.4444444444444444,
             "#bd3786"
            ],
            [
             0.5555555555555556,
             "#d8576b"
            ],
            [
             0.6666666666666666,
             "#ed7953"
            ],
            [
             0.7777777777777778,
             "#fb9f3a"
            ],
            [
             0.8888888888888888,
             "#fdca26"
            ],
            [
             1,
             "#f0f921"
            ]
           ],
           "sequentialminus": [
            [
             0,
             "#0d0887"
            ],
            [
             0.1111111111111111,
             "#46039f"
            ],
            [
             0.2222222222222222,
             "#7201a8"
            ],
            [
             0.3333333333333333,
             "#9c179e"
            ],
            [
             0.4444444444444444,
             "#bd3786"
            ],
            [
             0.5555555555555556,
             "#d8576b"
            ],
            [
             0.6666666666666666,
             "#ed7953"
            ],
            [
             0.7777777777777778,
             "#fb9f3a"
            ],
            [
             0.8888888888888888,
             "#fdca26"
            ],
            [
             1,
             "#f0f921"
            ]
           ]
          },
          "colorway": [
           "#636efa",
           "#EF553B",
           "#00cc96",
           "#ab63fa",
           "#FFA15A",
           "#19d3f3",
           "#FF6692",
           "#B6E880",
           "#FF97FF",
           "#FECB52"
          ],
          "font": {
           "color": "#2a3f5f"
          },
          "geo": {
           "bgcolor": "white",
           "lakecolor": "white",
           "landcolor": "#E5ECF6",
           "showlakes": true,
           "showland": true,
           "subunitcolor": "white"
          },
          "hoverlabel": {
           "align": "left"
          },
          "hovermode": "closest",
          "mapbox": {
           "style": "light"
          },
          "paper_bgcolor": "white",
          "plot_bgcolor": "#E5ECF6",
          "polar": {
           "angularaxis": {
            "gridcolor": "white",
            "linecolor": "white",
            "ticks": ""
           },
           "bgcolor": "#E5ECF6",
           "radialaxis": {
            "gridcolor": "white",
            "linecolor": "white",
            "ticks": ""
           }
          },
          "scene": {
           "xaxis": {
            "backgroundcolor": "#E5ECF6",
            "gridcolor": "white",
            "gridwidth": 2,
            "linecolor": "white",
            "showbackground": true,
            "ticks": "",
            "zerolinecolor": "white"
           },
           "yaxis": {
            "backgroundcolor": "#E5ECF6",
            "gridcolor": "white",
            "gridwidth": 2,
            "linecolor": "white",
            "showbackground": true,
            "ticks": "",
            "zerolinecolor": "white"
           },
           "zaxis": {
            "backgroundcolor": "#E5ECF6",
            "gridcolor": "white",
            "gridwidth": 2,
            "linecolor": "white",
            "showbackground": true,
            "ticks": "",
            "zerolinecolor": "white"
           }
          },
          "shapedefaults": {
           "line": {
            "color": "#2a3f5f"
           }
          },
          "ternary": {
           "aaxis": {
            "gridcolor": "white",
            "linecolor": "white",
            "ticks": ""
           },
           "baxis": {
            "gridcolor": "white",
            "linecolor": "white",
            "ticks": ""
           },
           "bgcolor": "#E5ECF6",
           "caxis": {
            "gridcolor": "white",
            "linecolor": "white",
            "ticks": ""
           }
          },
          "title": {
           "x": 0.05
          },
          "xaxis": {
           "automargin": true,
           "gridcolor": "white",
           "linecolor": "white",
           "ticks": "",
           "title": {
            "standoff": 15
           },
           "zerolinecolor": "white",
           "zerolinewidth": 2
          },
          "yaxis": {
           "automargin": true,
           "gridcolor": "white",
           "linecolor": "white",
           "ticks": "",
           "title": {
            "standoff": 15
           },
           "zerolinecolor": "white",
           "zerolinewidth": 2
          }
         }
        },
        "title": {
         "text": "Clusters plotted via reduced dimensionality"
        },
        "width": 750,
        "xaxis": {
         "anchor": "y",
         "domain": [
          0,
          1
         ],
         "title": {
          "text": "PCA_1"
         }
        },
        "yaxis": {
         "anchor": "x",
         "domain": [
          0,
          1
         ],
         "title": {
          "text": "PCA_2"
         }
        }
       }
      }
     },
     "metadata": {},
     "output_type": "display_data"
    }
   ],
   "source": [
    "plot_clusters(kmeans_results, 'PCA_1', 'PCA_2', hover_data = ['Síterep'])"
   ]
  },
  {
   "cell_type": "code",
   "execution_count": 40,
   "metadata": {},
   "outputs": [
    {
     "data": {
      "text/html": [
       "<div>\n",
       "<style scoped>\n",
       "    .dataframe tbody tr th:only-of-type {\n",
       "        vertical-align: middle;\n",
       "    }\n",
       "\n",
       "    .dataframe tbody tr th {\n",
       "        vertical-align: top;\n",
       "    }\n",
       "\n",
       "    .dataframe thead th {\n",
       "        text-align: right;\n",
       "    }\n",
       "</style>\n",
       "<table border=\"1\" class=\"dataframe\">\n",
       "  <thead>\n",
       "    <tr style=\"text-align: right;\">\n",
       "      <th></th>\n",
       "      <th>Síterep</th>\n",
       "      <th>PCA_1</th>\n",
       "      <th>PCA_2</th>\n",
       "      <th>clusters</th>\n",
       "    </tr>\n",
       "  </thead>\n",
       "  <tbody>\n",
       "    <tr>\n",
       "      <th>101</th>\n",
       "      <td>Kreischberg - Murau</td>\n",
       "      <td>1.360794</td>\n",
       "      <td>-0.341254</td>\n",
       "      <td>1</td>\n",
       "    </tr>\n",
       "  </tbody>\n",
       "</table>\n",
       "</div>"
      ],
      "text/plain": [
       "                 Síterep     PCA_1     PCA_2 clusters\n",
       "101  Kreischberg - Murau  1.360794 -0.341254        1"
      ]
     },
     "execution_count": 40,
     "metadata": {},
     "output_type": "execute_result"
    }
   ],
   "source": [
    "kmeans_results[kmeans_results.Síterep.str.contains('Murau')]"
   ]
  },
  {
   "cell_type": "code",
   "execution_count": 41,
   "metadata": {},
   "outputs": [
    {
     "data": {
      "text/html": [
       "<div>\n",
       "<style scoped>\n",
       "    .dataframe tbody tr th:only-of-type {\n",
       "        vertical-align: middle;\n",
       "    }\n",
       "\n",
       "    .dataframe tbody tr th {\n",
       "        vertical-align: top;\n",
       "    }\n",
       "\n",
       "    .dataframe thead th {\n",
       "        text-align: right;\n",
       "    }\n",
       "</style>\n",
       "<table border=\"1\" class=\"dataframe\">\n",
       "  <thead>\n",
       "    <tr style=\"text-align: right;\">\n",
       "      <th></th>\n",
       "      <th>Síterep</th>\n",
       "      <th>PCA_1</th>\n",
       "      <th>PCA_2</th>\n",
       "      <th>clusters</th>\n",
       "    </tr>\n",
       "  </thead>\n",
       "  <tbody>\n",
       "    <tr>\n",
       "      <th>153</th>\n",
       "      <td>Saalbach Hinterglemm Leogang Fieberbrunn</td>\n",
       "      <td>9.086438</td>\n",
       "      <td>4.652533</td>\n",
       "      <td>2</td>\n",
       "    </tr>\n",
       "    <tr>\n",
       "      <th>173</th>\n",
       "      <td>Ski Arlberg - St. Anton - Lech - Zürs - Warth</td>\n",
       "      <td>10.158573</td>\n",
       "      <td>3.934126</td>\n",
       "      <td>2</td>\n",
       "    </tr>\n",
       "    <tr>\n",
       "      <th>175</th>\n",
       "      <td>SkiWelt Wilder Kaiser - Brixental</td>\n",
       "      <td>9.265264</td>\n",
       "      <td>4.285571</td>\n",
       "      <td>2</td>\n",
       "    </tr>\n",
       "  </tbody>\n",
       "</table>\n",
       "</div>"
      ],
      "text/plain": [
       "                                           Síterep      PCA_1     PCA_2  \\\n",
       "153       Saalbach Hinterglemm Leogang Fieberbrunn   9.086438  4.652533   \n",
       "173  Ski Arlberg - St. Anton - Lech - Zürs - Warth  10.158573  3.934126   \n",
       "175              SkiWelt Wilder Kaiser - Brixental   9.265264  4.285571   \n",
       "\n",
       "    clusters  \n",
       "153        2  \n",
       "173        2  \n",
       "175        2  "
      ]
     },
     "execution_count": 41,
     "metadata": {},
     "output_type": "execute_result"
    }
   ],
   "source": [
    "kmeans_results[kmeans_results.PCA_1 > 8]"
   ]
  },
  {
   "cell_type": "code",
   "execution_count": 42,
   "metadata": {},
   "outputs": [
    {
     "data": {
      "application/vnd.plotly.v1+json": {
       "config": {
        "plotlyServerURL": "https://plot.ly"
       },
       "data": [
        {
         "alignmentgroup": "True",
         "hovertemplate": "clusters=%{x}<br>stat=Hegytető<br>value=%{y}<extra></extra>",
         "legendgroup": "0",
         "line": {
          "width": 1
         },
         "marker": {
          "color": "#636efa",
          "size": 4
         },
         "name": "0",
         "notched": false,
         "offsetgroup": "0",
         "orientation": "v",
         "showlegend": true,
         "type": "box",
         "x": [
          0,
          0,
          0,
          0,
          0,
          0,
          0,
          0,
          0,
          0,
          0,
          0,
          0,
          0,
          0,
          0,
          0,
          0,
          0,
          0,
          0,
          0,
          0,
          0,
          0,
          0,
          0,
          0,
          0,
          0,
          0,
          0,
          0,
          0,
          0,
          0,
          0,
          0,
          0,
          0,
          0,
          0,
          0,
          0,
          0,
          0,
          0,
          0,
          0,
          0,
          0,
          0,
          0,
          0,
          0,
          0,
          0,
          0,
          0,
          0,
          0,
          0,
          0,
          0,
          0,
          0,
          0,
          0,
          0,
          0,
          0,
          0,
          0,
          0,
          0,
          0,
          0,
          0,
          0,
          0,
          0,
          0,
          0,
          0,
          0,
          0,
          0,
          0,
          0,
          0,
          0
         ],
         "x0": " ",
         "xaxis": "x10",
         "y": [
          1200,
          1200,
          1300,
          2120,
          1050,
          1064,
          1450,
          2700,
          1330,
          1612,
          1530,
          1296,
          2107,
          1980,
          1840,
          1078,
          1200,
          1230,
          1551,
          1567,
          1150,
          1225,
          860,
          1305,
          1600,
          1000,
          1100,
          1338,
          1329,
          1400,
          1500,
          1800,
          1370,
          1050,
          1605,
          780,
          900,
          1000,
          1818,
          2070,
          1078,
          1300,
          1363,
          1030,
          971,
          1267,
          1230,
          1432,
          1300,
          2080,
          1460,
          1520,
          1102,
          2030,
          1560,
          900,
          1450,
          1440,
          1210,
          1150,
          1300,
          1200,
          927,
          1710,
          1112,
          1325,
          1000,
          1887,
          1350,
          1774,
          1340,
          1500,
          1424,
          1039,
          787,
          1200,
          1200,
          1250,
          1102,
          1450,
          1077,
          1531,
          1342,
          1200,
          1200,
          1886,
          1324,
          1140,
          823,
          1200,
          1200
         ],
         "y0": " ",
         "yaxis": "y10"
        },
        {
         "alignmentgroup": "True",
         "hovertemplate": "clusters=%{x}<br>stat=Sípályák hossza<br>value=%{y}<extra></extra>",
         "legendgroup": "0",
         "line": {
          "width": 1
         },
         "marker": {
          "color": "#636efa",
          "size": 4
         },
         "name": "0",
         "notched": false,
         "offsetgroup": "0",
         "orientation": "v",
         "showlegend": false,
         "type": "box",
         "x": [
          0,
          0,
          0,
          0,
          0,
          0,
          0,
          0,
          0,
          0,
          0,
          0,
          0,
          0,
          0,
          0,
          0,
          0,
          0,
          0,
          0,
          0,
          0,
          0,
          0,
          0,
          0,
          0,
          0,
          0,
          0,
          0,
          0,
          0,
          0,
          0,
          0,
          0,
          0,
          0,
          0,
          0,
          0,
          0,
          0,
          0,
          0,
          0,
          0,
          0,
          0,
          0,
          0,
          0,
          0,
          0,
          0,
          0,
          0,
          0,
          0,
          0,
          0,
          0,
          0,
          0,
          0,
          0,
          0,
          0,
          0,
          0,
          0,
          0,
          0,
          0,
          0,
          0,
          0,
          0,
          0,
          0,
          0,
          0,
          0,
          0,
          0,
          0,
          0,
          0,
          0
         ],
         "x0": " ",
         "xaxis": "x11",
         "y": [
          9,
          2.5,
          12.5,
          10,
          1,
          3,
          9,
          5,
          8,
          6,
          23,
          3,
          11,
          6.8,
          12,
          16,
          2.5,
          8,
          6.9,
          30,
          4,
          5,
          4,
          5,
          10.5,
          1.9,
          5,
          20.1,
          2.5,
          3,
          10,
          5,
          3,
          6,
          10.9,
          5,
          3,
          1,
          28,
          16,
          14,
          6,
          8,
          4.5,
          4,
          14,
          6,
          13.5,
          5.5,
          2.5,
          12,
          12,
          1.3,
          2,
          12,
          2,
          8,
          2,
          7.8,
          3.5,
          4,
          3,
          3.9,
          12,
          3,
          11,
          3,
          14,
          14,
          26,
          12,
          6.1,
          2,
          2,
          1,
          4,
          5,
          1,
          5,
          4,
          4,
          11,
          16,
          2,
          12,
          22,
          6,
          2,
          4,
          3,
          13
         ],
         "y0": " ",
         "yaxis": "y11"
        },
        {
         "alignmentgroup": "True",
         "hovertemplate": "clusters=%{x}<br>stat=Szintkülönbség<br>value=%{y}<extra></extra>",
         "legendgroup": "0",
         "line": {
          "width": 1
         },
         "marker": {
          "color": "#636efa",
          "size": 4
         },
         "name": "0",
         "notched": false,
         "offsetgroup": "0",
         "orientation": "v",
         "showlegend": false,
         "type": "box",
         "x": [
          0,
          0,
          0,
          0,
          0,
          0,
          0,
          0,
          0,
          0,
          0,
          0,
          0,
          0,
          0,
          0,
          0,
          0,
          0,
          0,
          0,
          0,
          0,
          0,
          0,
          0,
          0,
          0,
          0,
          0,
          0,
          0,
          0,
          0,
          0,
          0,
          0,
          0,
          0,
          0,
          0,
          0,
          0,
          0,
          0,
          0,
          0,
          0,
          0,
          0,
          0,
          0,
          0,
          0,
          0,
          0,
          0,
          0,
          0,
          0,
          0,
          0,
          0,
          0,
          0,
          0,
          0,
          0,
          0,
          0,
          0,
          0,
          0,
          0,
          0,
          0,
          0,
          0,
          0,
          0,
          0,
          0,
          0,
          0,
          0,
          0,
          0,
          0,
          0,
          0,
          0
         ],
         "x0": " ",
         "xaxis": "x12",
         "y": [
          488,
          480,
          404,
          470,
          86,
          643,
          386,
          436,
          493,
          750,
          530,
          284,
          267,
          530,
          440,
          358,
          300,
          370,
          248,
          817,
          330,
          393,
          120,
          305,
          350,
          200,
          300,
          472,
          221,
          160,
          442,
          600,
          240,
          150,
          830,
          140,
          150,
          236,
          358,
          420,
          363,
          590,
          223,
          240,
          191,
          416,
          230,
          567,
          300,
          1099,
          240,
          210,
          72,
          120,
          600,
          115,
          300,
          128,
          400,
          280,
          320,
          200,
          127,
          390,
          162,
          255,
          200,
          535,
          365,
          997,
          298,
          300,
          104,
          199,
          37,
          200,
          200,
          200,
          288,
          250,
          225,
          561,
          632,
          170,
          350,
          306,
          394,
          200,
          341,
          200,
          600
         ],
         "y0": " ",
         "yaxis": "y12"
        },
        {
         "alignmentgroup": "True",
         "hovertemplate": "clusters=%{x}<br>stat=Liftek száma<br>value=%{y}<extra></extra>",
         "legendgroup": "0",
         "line": {
          "width": 1
         },
         "marker": {
          "color": "#636efa",
          "size": 4
         },
         "name": "0",
         "notched": false,
         "offsetgroup": "0",
         "orientation": "v",
         "showlegend": false,
         "type": "box",
         "x": [
          0,
          0,
          0,
          0,
          0,
          0,
          0,
          0,
          0,
          0,
          0,
          0,
          0,
          0,
          0,
          0,
          0,
          0,
          0,
          0,
          0,
          0,
          0,
          0,
          0,
          0,
          0,
          0,
          0,
          0,
          0,
          0,
          0,
          0,
          0,
          0,
          0,
          0,
          0,
          0,
          0,
          0,
          0,
          0,
          0,
          0,
          0,
          0,
          0,
          0,
          0,
          0,
          0,
          0,
          0,
          0,
          0,
          0,
          0,
          0,
          0,
          0,
          0,
          0,
          0,
          0,
          0,
          0,
          0,
          0,
          0,
          0,
          0,
          0,
          0,
          0,
          0,
          0,
          0,
          0,
          0,
          0,
          0,
          0,
          0,
          0,
          0,
          0,
          0,
          0,
          0
         ],
         "x0": " ",
         "xaxis": "x7",
         "y": [
          5,
          2,
          5,
          4,
          1,
          4,
          6,
          5,
          4,
          4,
          4,
          2,
          3,
          7,
          4,
          4,
          4,
          3,
          3,
          8,
          3,
          3,
          2,
          4,
          5,
          1,
          2,
          9,
          2,
          2,
          7,
          2,
          3,
          2,
          4,
          4,
          3,
          2,
          6,
          5,
          6,
          4,
          3,
          2,
          1,
          5,
          4,
          5,
          4,
          3,
          6,
          5,
          5,
          2,
          7,
          3,
          4,
          2,
          3,
          2,
          3,
          4,
          3,
          7,
          2,
          8,
          3,
          3,
          2,
          11,
          7,
          11,
          1,
          2,
          2,
          4,
          4,
          3,
          2,
          5,
          2,
          4,
          4,
          2,
          4,
          8,
          5,
          3,
          3,
          2,
          3
         ],
         "y0": " ",
         "yaxis": "y7"
        },
        {
         "alignmentgroup": "True",
         "hovertemplate": "clusters=%{x}<br>stat=Felnőtt napijegy ára<br>value=%{y}<extra></extra>",
         "legendgroup": "0",
         "line": {
          "width": 1
         },
         "marker": {
          "color": "#636efa",
          "size": 4
         },
         "name": "0",
         "notched": false,
         "offsetgroup": "0",
         "orientation": "v",
         "showlegend": false,
         "type": "box",
         "x": [
          0,
          0,
          0,
          0,
          0,
          0,
          0,
          0,
          0,
          0,
          0,
          0,
          0,
          0,
          0,
          0,
          0,
          0,
          0,
          0,
          0,
          0,
          0,
          0,
          0,
          0,
          0,
          0,
          0,
          0,
          0,
          0,
          0,
          0,
          0,
          0,
          0,
          0,
          0,
          0,
          0,
          0,
          0,
          0,
          0,
          0,
          0,
          0,
          0,
          0,
          0,
          0,
          0,
          0,
          0,
          0,
          0,
          0,
          0,
          0,
          0,
          0,
          0,
          0,
          0,
          0,
          0,
          0,
          0,
          0,
          0,
          0,
          0,
          0,
          0,
          0,
          0,
          0,
          0,
          0,
          0,
          0,
          0,
          0,
          0,
          0,
          0,
          0,
          0,
          0,
          0
         ],
         "x0": " ",
         "xaxis": "x8",
         "y": [
          37.5,
          23,
          39.5,
          34,
          11,
          20.3,
          36,
          50.5,
          29,
          42.5,
          52,
          25,
          29.5,
          42.5,
          33,
          27,
          20,
          36,
          29,
          42,
          31,
          40,
          24,
          32,
          36,
          17.5,
          17,
          43,
          26,
          23.5,
          34.5,
          42,
          29,
          24.5,
          30.5,
          29.5,
          20,
          26,
          38,
          29,
          27,
          33,
          32,
          21,
          15,
          39.5,
          20,
          39.5,
          24.5,
          34.5,
          38,
          30,
          19.5,
          35.5,
          31,
          19.5,
          39,
          25,
          30,
          21.5,
          23,
          29.5,
          24,
          36,
          21,
          36.5,
          21,
          35,
          39.5,
          49,
          35,
          44.5,
          20,
          24,
          17,
          24.5,
          23,
          26,
          36,
          26,
          21,
          31,
          33,
          23.5,
          27,
          32,
          37.5,
          23.5,
          18,
          22,
          28
         ],
         "y0": " ",
         "yaxis": "y8"
        },
        {
         "alignmentgroup": "True",
         "hovertemplate": "clusters=%{x}<br>stat=Ülőlift<br>value=%{y}<extra></extra>",
         "legendgroup": "0",
         "line": {
          "width": 1
         },
         "marker": {
          "color": "#636efa",
          "size": 4
         },
         "name": "0",
         "notched": false,
         "offsetgroup": "0",
         "orientation": "v",
         "showlegend": false,
         "type": "box",
         "x": [
          0,
          0,
          0,
          0,
          0,
          0,
          0,
          0,
          0,
          0,
          0,
          0,
          0,
          0,
          0,
          0,
          0,
          0,
          0,
          0,
          0,
          0,
          0,
          0,
          0,
          0,
          0,
          0,
          0,
          0,
          0,
          0,
          0,
          0,
          0,
          0,
          0,
          0,
          0,
          0,
          0,
          0,
          0,
          0,
          0,
          0,
          0,
          0,
          0,
          0,
          0,
          0,
          0,
          0,
          0,
          0,
          0,
          0,
          0,
          0,
          0,
          0,
          0,
          0,
          0,
          0,
          0,
          0,
          0,
          0,
          0,
          0,
          0,
          0,
          0,
          0,
          0,
          0,
          0,
          0,
          0,
          0,
          0,
          0,
          0,
          0,
          0,
          0,
          0,
          0,
          0
         ],
         "x0": " ",
         "xaxis": "x9",
         "y": [
          0,
          0,
          2,
          0,
          0,
          0,
          1,
          1,
          1,
          2,
          2,
          0,
          0,
          2,
          1,
          1,
          0,
          1,
          0,
          3,
          0,
          0,
          0,
          1,
          1,
          0,
          0,
          3,
          0,
          0,
          2,
          0,
          0,
          0,
          1,
          1,
          0,
          0,
          2,
          0,
          0,
          1,
          1,
          0,
          0,
          2,
          0,
          3,
          0,
          0,
          1,
          0,
          0,
          0,
          0,
          0,
          1,
          0,
          1,
          0,
          0,
          0,
          0,
          0,
          0,
          1,
          0,
          1,
          1,
          4,
          0,
          1,
          0,
          0,
          0,
          0,
          0,
          0,
          0,
          0,
          0,
          0,
          0,
          0,
          0,
          0,
          1,
          0,
          0,
          0,
          1
         ],
         "y0": " ",
         "yaxis": "y9"
        },
        {
         "alignmentgroup": "True",
         "hovertemplate": "clusters=%{x}<br>stat=Kiskabinos lift<br>value=%{y}<extra></extra>",
         "legendgroup": "0",
         "line": {
          "width": 1
         },
         "marker": {
          "color": "#636efa",
          "size": 4
         },
         "name": "0",
         "notched": false,
         "offsetgroup": "0",
         "orientation": "v",
         "showlegend": false,
         "type": "box",
         "x": [
          0,
          0,
          0,
          0,
          0,
          0,
          0,
          0,
          0,
          0,
          0,
          0,
          0,
          0,
          0,
          0,
          0,
          0,
          0,
          0,
          0,
          0,
          0,
          0,
          0,
          0,
          0,
          0,
          0,
          0,
          0,
          0,
          0,
          0,
          0,
          0,
          0,
          0,
          0,
          0,
          0,
          0,
          0,
          0,
          0,
          0,
          0,
          0,
          0,
          0,
          0,
          0,
          0,
          0,
          0,
          0,
          0,
          0,
          0,
          0,
          0,
          0,
          0,
          0,
          0,
          0,
          0,
          0,
          0,
          0,
          0,
          0,
          0,
          0,
          0,
          0,
          0,
          0,
          0,
          0,
          0,
          0,
          0,
          0,
          0,
          0,
          0,
          0,
          0,
          0,
          0
         ],
         "x0": " ",
         "xaxis": "x4",
         "y": [
          0,
          0,
          0,
          0,
          0,
          0,
          0,
          0,
          0,
          0,
          0,
          0,
          0,
          0,
          0,
          0,
          0,
          0,
          0,
          0,
          0,
          0,
          0,
          0,
          0,
          0,
          0,
          2,
          0,
          0,
          0,
          1,
          0,
          0,
          0,
          0,
          0,
          0,
          0,
          0,
          0,
          0,
          0,
          0,
          0,
          1,
          0,
          0,
          0,
          1,
          0,
          0,
          0,
          0,
          1,
          0,
          0,
          0,
          0,
          0,
          0,
          0,
          0,
          0,
          0,
          0,
          0,
          0,
          1,
          0,
          0,
          0,
          0,
          0,
          0,
          0,
          0,
          0,
          0,
          0,
          0,
          0,
          0,
          0,
          0,
          0,
          0,
          0,
          0,
          0,
          0
         ],
         "y0": " ",
         "yaxis": "y4"
        },
        {
         "alignmentgroup": "True",
         "hovertemplate": "clusters=%{x}<br>stat=Kék arány<br>value=%{y}<extra></extra>",
         "legendgroup": "0",
         "line": {
          "width": 1
         },
         "marker": {
          "color": "#636efa",
          "size": 4
         },
         "name": "0",
         "notched": false,
         "offsetgroup": "0",
         "orientation": "v",
         "showlegend": false,
         "type": "box",
         "x": [
          0,
          0,
          0,
          0,
          0,
          0,
          0,
          0,
          0,
          0,
          0,
          0,
          0,
          0,
          0,
          0,
          0,
          0,
          0,
          0,
          0,
          0,
          0,
          0,
          0,
          0,
          0,
          0,
          0,
          0,
          0,
          0,
          0,
          0,
          0,
          0,
          0,
          0,
          0,
          0,
          0,
          0,
          0,
          0,
          0,
          0,
          0,
          0,
          0,
          0,
          0,
          0,
          0,
          0,
          0,
          0,
          0,
          0,
          0,
          0,
          0,
          0,
          0,
          0,
          0,
          0,
          0,
          0,
          0,
          0,
          0,
          0,
          0,
          0,
          0,
          0,
          0,
          0,
          0,
          0,
          0,
          0,
          0,
          0,
          0,
          0,
          0,
          0,
          0,
          0,
          0
         ],
         "x0": " ",
         "xaxis": "x5",
         "y": [
          0.48888888888888893,
          0.4,
          0.64,
          0.5,
          1,
          1,
          0.3333333333333333,
          0.8,
          0.25,
          0.6666666666666666,
          0.6521739130434783,
          0.6666666666666666,
          0.2727272727272727,
          0.8088235294117647,
          0.5833333333333334,
          0.625,
          0.8,
          0.4375,
          0.5507246376811593,
          0.6666666666666666,
          0.25,
          0.8,
          0.5,
          0.4,
          0.3333333333333333,
          0.5263157894736842,
          0.6,
          0.45273631840796014,
          0.6,
          0.6666666666666666,
          0.7,
          0.5,
          0.6666666666666666,
          0.45,
          0.6238532110091742,
          1,
          0.6666666666666666,
          0.2,
          0.6428571428571429,
          0.3125,
          0.5,
          0.6666666666666666,
          0.375,
          0.4444444444444444,
          0.75,
          0.6785714285714286,
          0.8333333333333334,
          0.4074074074074074,
          0.2727272727272727,
          1,
          0.3333333333333333,
          0.3333333333333333,
          0.7692307692307692,
          1,
          0.5,
          0.25,
          0.625,
          0.5,
          0.48717948717948717,
          0.5714285714285714,
          0.5,
          0.3333333333333333,
          0.38461538461538464,
          0.5,
          1,
          0.36363636363636365,
          0.26666666666666666,
          0.6785714285714286,
          0.4642857142857143,
          0.7692307692307693,
          0.5833333333333334,
          1,
          0.25,
          1,
          1,
          0.25,
          0.6,
          1,
          0.2,
          0.25,
          0.5,
          0.5454545454545454,
          0.6875,
          0.5,
          0.3333333333333333,
          0.36363636363636365,
          0.5833333333333334,
          1,
          0.5,
          0.5,
          0.8461538461538461
         ],
         "y0": " ",
         "yaxis": "y5"
        },
        {
         "alignmentgroup": "True",
         "hovertemplate": "clusters=%{x}<br>stat=Piros arány<br>value=%{y}<extra></extra>",
         "legendgroup": "0",
         "line": {
          "width": 1
         },
         "marker": {
          "color": "#636efa",
          "size": 4
         },
         "name": "0",
         "notched": false,
         "offsetgroup": "0",
         "orientation": "v",
         "showlegend": false,
         "type": "box",
         "x": [
          0,
          0,
          0,
          0,
          0,
          0,
          0,
          0,
          0,
          0,
          0,
          0,
          0,
          0,
          0,
          0,
          0,
          0,
          0,
          0,
          0,
          0,
          0,
          0,
          0,
          0,
          0,
          0,
          0,
          0,
          0,
          0,
          0,
          0,
          0,
          0,
          0,
          0,
          0,
          0,
          0,
          0,
          0,
          0,
          0,
          0,
          0,
          0,
          0,
          0,
          0,
          0,
          0,
          0,
          0,
          0,
          0,
          0,
          0,
          0,
          0,
          0,
          0,
          0,
          0,
          0,
          0,
          0,
          0,
          0,
          0,
          0,
          0,
          0,
          0,
          0,
          0,
          0,
          0,
          0,
          0,
          0,
          0,
          0,
          0,
          0,
          0,
          0,
          0,
          0,
          0
         ],
         "x0": " ",
         "xaxis": "x6",
         "y": [
          0.17777777777777778,
          0.6,
          0.2,
          0.4,
          0,
          0,
          0.4444444444444444,
          0.2,
          0.6875,
          0.3333333333333333,
          0.21739130434782608,
          0.3333333333333333,
          0.7272727272727273,
          0.1911764705882353,
          0.16666666666666666,
          0.25,
          0.2,
          0.5,
          0.391304347826087,
          0.3,
          0.75,
          0.2,
          0.5,
          0.4,
          0.47619047619047616,
          0.4736842105263158,
          0.4,
          0.49751243781094523,
          0.4,
          0.3333333333333333,
          0.3,
          0.5,
          0.3333333333333333,
          0.3833333333333333,
          0.37614678899082565,
          0,
          0.3333333333333333,
          0.8,
          0.35714285714285715,
          0.6875,
          0.35714285714285715,
          0.3333333333333333,
          0.375,
          0.4444444444444444,
          0.25,
          0.21428571428571427,
          0.16666666666666666,
          0.4444444444444444,
          0.7272727272727273,
          0,
          0.6666666666666666,
          0.5,
          0.23076923076923075,
          0,
          0.5,
          0.75,
          0.25,
          0.25,
          0.5128205128205129,
          0.42857142857142855,
          0.5,
          0.6666666666666666,
          0.38461538461538464,
          0.3333333333333333,
          0,
          0.5454545454545454,
          0.7000000000000001,
          0.17142857142857143,
          0.4642857142857143,
          0.23076923076923078,
          0.4166666666666667,
          0,
          0.5,
          0,
          0,
          0.75,
          0.4,
          0,
          0.8,
          0.5,
          0.3,
          0.45454545454545453,
          0.3125,
          0.5,
          0.4166666666666667,
          0.5454545454545454,
          0.4166666666666667,
          0,
          0.5,
          0.5,
          0.15384615384615385
         ],
         "y0": " ",
         "yaxis": "y6"
        },
        {
         "alignmentgroup": "True",
         "hovertemplate": "clusters=%{x}<br>stat=Fekete arány<br>value=%{y}<extra></extra>",
         "legendgroup": "0",
         "line": {
          "width": 1
         },
         "marker": {
          "color": "#636efa",
          "size": 4
         },
         "name": "0",
         "notched": false,
         "offsetgroup": "0",
         "orientation": "v",
         "showlegend": false,
         "type": "box",
         "x": [
          0,
          0,
          0,
          0,
          0,
          0,
          0,
          0,
          0,
          0,
          0,
          0,
          0,
          0,
          0,
          0,
          0,
          0,
          0,
          0,
          0,
          0,
          0,
          0,
          0,
          0,
          0,
          0,
          0,
          0,
          0,
          0,
          0,
          0,
          0,
          0,
          0,
          0,
          0,
          0,
          0,
          0,
          0,
          0,
          0,
          0,
          0,
          0,
          0,
          0,
          0,
          0,
          0,
          0,
          0,
          0,
          0,
          0,
          0,
          0,
          0,
          0,
          0,
          0,
          0,
          0,
          0,
          0,
          0,
          0,
          0,
          0,
          0,
          0,
          0,
          0,
          0,
          0,
          0,
          0,
          0,
          0,
          0,
          0,
          0,
          0,
          0,
          0,
          0,
          0,
          0
         ],
         "x0": " ",
         "xaxis": "x",
         "y": [
          0.3333333333333333,
          0,
          0.16,
          0.1,
          0,
          0,
          0.2222222222222222,
          0,
          0.0625,
          0,
          0.13043478260869565,
          0,
          0,
          0,
          0.25,
          0.125,
          0,
          0.0625,
          0.057971014492753624,
          0.03333333333333333,
          0,
          0,
          0,
          0.2,
          0.19047619047619047,
          0,
          0,
          0.04975124378109452,
          0,
          0,
          0,
          0,
          0,
          0.16666666666666666,
          0,
          0,
          0,
          0,
          0,
          0,
          0.14285714285714285,
          0,
          0.25,
          0.1111111111111111,
          0,
          0.10714285714285714,
          0,
          0.14814814814814814,
          0,
          0,
          0,
          0.16666666666666666,
          0,
          0,
          0,
          0,
          0.125,
          0.25,
          0,
          0,
          0,
          0,
          0.23076923076923078,
          0.16666666666666666,
          0,
          0.09090909090909091,
          0.03333333333333333,
          0.15,
          0.07142857142857142,
          0,
          0,
          0,
          0.25,
          0,
          0,
          0,
          0,
          0,
          0,
          0.25,
          0.2,
          0,
          0,
          0,
          0.25,
          0.09090909090909091,
          0,
          0,
          0,
          0,
          0
         ],
         "y0": " ",
         "yaxis": "y"
        },
        {
         "alignmentgroup": "True",
         "hovertemplate": "clusters=%{x}<br>stat=Hegytető<br>value=%{y}<extra></extra>",
         "legendgroup": "1",
         "line": {
          "width": 1
         },
         "marker": {
          "color": "#EF553B",
          "size": 4
         },
         "name": "1",
         "notched": false,
         "offsetgroup": "1",
         "orientation": "v",
         "showlegend": true,
         "type": "box",
         "x": [
          1,
          1,
          1,
          1,
          1,
          1,
          1,
          1,
          1,
          1,
          1,
          1,
          1,
          1,
          1,
          1,
          1,
          1,
          1,
          1,
          1,
          1,
          1,
          1,
          1,
          1,
          1,
          1,
          1,
          1,
          1,
          1,
          1,
          1,
          1,
          1,
          1,
          1,
          1,
          1,
          1,
          1,
          1,
          1,
          1,
          1,
          1,
          1,
          1,
          1,
          1,
          1,
          1,
          1,
          1,
          1,
          1,
          1,
          1,
          1,
          1,
          1,
          1,
          1,
          1,
          1,
          1,
          1,
          1,
          1,
          1,
          1,
          1,
          1,
          1,
          1,
          1,
          1,
          1,
          1,
          1,
          1,
          1,
          1,
          1,
          1,
          1,
          1,
          1,
          1,
          1,
          1,
          1,
          1,
          1,
          1,
          1,
          1,
          1,
          1,
          1,
          1,
          1,
          1,
          1,
          1,
          1,
          1
         ],
         "x0": " ",
         "xaxis": "x10",
         "y": [
          1800,
          1810,
          1800,
          1571,
          1715,
          1600,
          2340,
          2055,
          2180,
          2740,
          1743,
          1820,
          2000,
          1456,
          1617,
          2050,
          2060,
          1923,
          1885,
          2115,
          2271,
          1625,
          1591,
          2054,
          1984,
          2300,
          2300,
          1626,
          1911,
          2304,
          2142,
          2100,
          2248,
          1870,
          2033,
          2400,
          2422,
          1821,
          1900,
          2989,
          2000,
          3250,
          1946,
          1808,
          1886,
          2488,
          1700,
          2030,
          2026,
          2200,
          2690,
          3029,
          1600,
          2220,
          3113,
          1980,
          2118,
          2109,
          2520,
          1690,
          2222,
          1426,
          1785,
          2100,
          2023,
          2278,
          1670,
          1870,
          1674,
          2002,
          1671,
          2256,
          2313,
          1965,
          1900,
          3440,
          2000,
          1608,
          1636,
          2000,
          2175,
          1820,
          2800,
          1565,
          2240,
          1467,
          2456,
          1589,
          2407,
          2064,
          2300,
          2525,
          1604,
          3212,
          1820,
          1965,
          1250,
          2205,
          2212,
          2646,
          2600,
          1834,
          2150,
          1860,
          1870,
          2176,
          2000,
          2272
         ],
         "y0": " ",
         "yaxis": "y10"
        },
        {
         "alignmentgroup": "True",
         "hovertemplate": "clusters=%{x}<br>stat=Sípályák hossza<br>value=%{y}<extra></extra>",
         "legendgroup": "1",
         "line": {
          "width": 1
         },
         "marker": {
          "color": "#EF553B",
          "size": 4
         },
         "name": "1",
         "notched": false,
         "offsetgroup": "1",
         "orientation": "v",
         "showlegend": false,
         "type": "box",
         "x": [
          1,
          1,
          1,
          1,
          1,
          1,
          1,
          1,
          1,
          1,
          1,
          1,
          1,
          1,
          1,
          1,
          1,
          1,
          1,
          1,
          1,
          1,
          1,
          1,
          1,
          1,
          1,
          1,
          1,
          1,
          1,
          1,
          1,
          1,
          1,
          1,
          1,
          1,
          1,
          1,
          1,
          1,
          1,
          1,
          1,
          1,
          1,
          1,
          1,
          1,
          1,
          1,
          1,
          1,
          1,
          1,
          1,
          1,
          1,
          1,
          1,
          1,
          1,
          1,
          1,
          1,
          1,
          1,
          1,
          1,
          1,
          1,
          1,
          1,
          1,
          1,
          1,
          1,
          1,
          1,
          1,
          1,
          1,
          1,
          1,
          1,
          1,
          1,
          1,
          1,
          1,
          1,
          1,
          1,
          1,
          1,
          1,
          1,
          1,
          1,
          1,
          1,
          1,
          1,
          1,
          1,
          1,
          1
         ],
         "x0": " ",
         "xaxis": "x11",
         "y": [
          27,
          14,
          34,
          17.3,
          10,
          15.1,
          30,
          103,
          29,
          67,
          36,
          11,
          52,
          21.2,
          51,
          80.6,
          40,
          27.5,
          15,
          24,
          10.6,
          10.6,
          20,
          17.1,
          12,
          43,
          28.1,
          15.5,
          45.1,
          23,
          25,
          26.7,
          12.2,
          12.2,
          63.2,
          50,
          44.6,
          9,
          16,
          55,
          39.9,
          60,
          33.7,
          19.2,
          20.6,
          40,
          11,
          22.6,
          9,
          36,
          40,
          61,
          23,
          70,
          50,
          28,
          42.5,
          12,
          46.9,
          22.7,
          26.2,
          15.5,
          27,
          26.5,
          16,
          21,
          46,
          11,
          5.7,
          110,
          13,
          13.9,
          100,
          19,
          13.7,
          21,
          15,
          20,
          12.9,
          13,
          32.5,
          32.2,
          19,
          10.3,
          22,
          25,
          41,
          7.1,
          21.7,
          12.3,
          29.5,
          17,
          42,
          64.9,
          8.5,
          43.5,
          10,
          43,
          22,
          15,
          23,
          29,
          75,
          42,
          22.5,
          45,
          77,
          37.5
         ],
         "y0": " ",
         "yaxis": "y11"
        },
        {
         "alignmentgroup": "True",
         "hovertemplate": "clusters=%{x}<br>stat=Szintkülönbség<br>value=%{y}<extra></extra>",
         "legendgroup": "1",
         "line": {
          "width": 1
         },
         "marker": {
          "color": "#EF553B",
          "size": 4
         },
         "name": "1",
         "notched": false,
         "offsetgroup": "1",
         "orientation": "v",
         "showlegend": false,
         "type": "box",
         "x": [
          1,
          1,
          1,
          1,
          1,
          1,
          1,
          1,
          1,
          1,
          1,
          1,
          1,
          1,
          1,
          1,
          1,
          1,
          1,
          1,
          1,
          1,
          1,
          1,
          1,
          1,
          1,
          1,
          1,
          1,
          1,
          1,
          1,
          1,
          1,
          1,
          1,
          1,
          1,
          1,
          1,
          1,
          1,
          1,
          1,
          1,
          1,
          1,
          1,
          1,
          1,
          1,
          1,
          1,
          1,
          1,
          1,
          1,
          1,
          1,
          1,
          1,
          1,
          1,
          1,
          1,
          1,
          1,
          1,
          1,
          1,
          1,
          1,
          1,
          1,
          1,
          1,
          1,
          1,
          1,
          1,
          1,
          1,
          1,
          1,
          1,
          1,
          1,
          1,
          1,
          1,
          1,
          1,
          1,
          1,
          1,
          1,
          1,
          1,
          1,
          1,
          1,
          1,
          1,
          1,
          1,
          1,
          1
         ],
         "x0": " ",
         "xaxis": "x12",
         "y": [
          855,
          1000,
          950,
          721,
          1060,
          920,
          760,
          968,
          1132,
          1340,
          676,
          820,
          1096,
          601,
          872,
          1340,
          1240,
          811,
          955,
          618,
          946,
          1182,
          621,
          1444,
          984,
          700,
          877,
          826,
          911,
          1354,
          1595,
          1450,
          818,
          860,
          1184,
          1305,
          1402,
          671,
          1046,
          1688,
          1400,
          1750,
          876,
          428,
          346,
          1038,
          470,
          760,
          973,
          650,
          1510,
          2261,
          980,
          1154,
          963,
          980,
          1250,
          1500,
          582,
          1071,
          622,
          614,
          745,
          1096,
          1355,
          618,
          1030,
          890,
          714,
          1402,
          521,
          1396,
          683,
          956,
          1250,
          755,
          400,
          508,
          601,
          1180,
          1225,
          847,
          1160,
          475,
          1231,
          767,
          1416,
          700,
          1307,
          834,
          1300,
          1125,
          945,
          1515,
          710,
          1069,
          450,
          805,
          1432,
          746,
          1118,
          932,
          1330,
          1120,
          1060,
          1176,
          1240,
          862
         ],
         "y0": " ",
         "yaxis": "y12"
        },
        {
         "alignmentgroup": "True",
         "hovertemplate": "clusters=%{x}<br>stat=Liftek száma<br>value=%{y}<extra></extra>",
         "legendgroup": "1",
         "line": {
          "width": 1
         },
         "marker": {
          "color": "#EF553B",
          "size": 4
         },
         "name": "1",
         "notched": false,
         "offsetgroup": "1",
         "orientation": "v",
         "showlegend": false,
         "type": "box",
         "x": [
          1,
          1,
          1,
          1,
          1,
          1,
          1,
          1,
          1,
          1,
          1,
          1,
          1,
          1,
          1,
          1,
          1,
          1,
          1,
          1,
          1,
          1,
          1,
          1,
          1,
          1,
          1,
          1,
          1,
          1,
          1,
          1,
          1,
          1,
          1,
          1,
          1,
          1,
          1,
          1,
          1,
          1,
          1,
          1,
          1,
          1,
          1,
          1,
          1,
          1,
          1,
          1,
          1,
          1,
          1,
          1,
          1,
          1,
          1,
          1,
          1,
          1,
          1,
          1,
          1,
          1,
          1,
          1,
          1,
          1,
          1,
          1,
          1,
          1,
          1,
          1,
          1,
          1,
          1,
          1,
          1,
          1,
          1,
          1,
          1,
          1,
          1,
          1,
          1,
          1,
          1,
          1,
          1,
          1,
          1,
          1,
          1,
          1,
          1,
          1,
          1,
          1,
          1,
          1,
          1,
          1,
          1,
          1
         ],
         "x0": " ",
         "xaxis": "x7",
         "y": [
          11,
          7,
          8,
          7,
          8,
          7,
          10,
          22,
          5,
          11,
          13,
          5,
          14,
          9,
          22,
          20,
          9,
          7,
          7,
          5,
          6,
          8,
          8,
          10,
          4,
          10,
          8,
          4,
          20,
          6,
          5,
          9,
          5,
          8,
          17,
          10,
          14,
          5,
          4,
          12,
          14,
          21,
          14,
          8,
          7,
          9,
          5,
          4,
          4,
          9,
          6,
          21,
          11,
          16,
          7,
          10,
          12,
          7,
          12,
          12,
          10,
          8,
          5,
          8,
          4,
          6,
          10,
          3,
          5,
          30,
          5,
          6,
          26,
          5,
          6,
          7,
          5,
          6,
          8,
          5,
          10,
          7,
          6,
          4,
          9,
          12,
          7,
          4,
          7,
          14,
          9,
          7,
          16,
          26,
          5,
          17,
          3,
          14,
          7,
          4,
          8,
          9,
          20,
          14,
          8,
          16,
          28,
          13
         ],
         "y0": " ",
         "yaxis": "y7"
        },
        {
         "alignmentgroup": "True",
         "hovertemplate": "clusters=%{x}<br>stat=Felnőtt napijegy ára<br>value=%{y}<extra></extra>",
         "legendgroup": "1",
         "line": {
          "width": 1
         },
         "marker": {
          "color": "#EF553B",
          "size": 4
         },
         "name": "1",
         "notched": false,
         "offsetgroup": "1",
         "orientation": "v",
         "showlegend": false,
         "type": "box",
         "x": [
          1,
          1,
          1,
          1,
          1,
          1,
          1,
          1,
          1,
          1,
          1,
          1,
          1,
          1,
          1,
          1,
          1,
          1,
          1,
          1,
          1,
          1,
          1,
          1,
          1,
          1,
          1,
          1,
          1,
          1,
          1,
          1,
          1,
          1,
          1,
          1,
          1,
          1,
          1,
          1,
          1,
          1,
          1,
          1,
          1,
          1,
          1,
          1,
          1,
          1,
          1,
          1,
          1,
          1,
          1,
          1,
          1,
          1,
          1,
          1,
          1,
          1,
          1,
          1,
          1,
          1,
          1,
          1,
          1,
          1,
          1,
          1,
          1,
          1,
          1,
          1,
          1,
          1,
          1,
          1,
          1,
          1,
          1,
          1,
          1,
          1,
          1,
          1,
          1,
          1,
          1,
          1,
          1,
          1,
          1,
          1,
          1,
          1,
          1,
          1,
          1,
          1,
          1,
          1,
          1,
          1,
          1,
          1
         ],
         "x0": " ",
         "xaxis": "x8",
         "y": [
          50,
          34,
          45,
          61,
          34.6,
          38.5,
          44.5,
          52.5,
          43.7,
          49,
          51,
          52,
          53,
          40,
          50,
          55.5,
          49.5,
          52,
          54,
          47,
          41,
          42.3,
          52,
          61,
          53.5,
          44.5,
          53,
          39.5,
          52,
          38,
          44,
          53.5,
          38,
          39,
          61,
          47,
          52,
          42,
          41,
          48,
          51,
          59.5,
          52.5,
          43.5,
          38,
          47,
          38,
          52.5,
          36.5,
          44,
          44.5,
          60.5,
          47,
          51,
          55,
          61,
          52,
          44.5,
          44,
          41,
          47,
          43.5,
          40,
          52,
          52,
          52,
          47,
          35.5,
          37.5,
          52.5,
          43,
          40,
          50,
          41,
          36,
          53,
          45,
          42,
          41.5,
          34,
          47,
          45,
          40,
          43,
          43,
          36.5,
          44.5,
          40.5,
          52,
          47.5,
          46,
          52,
          49.5,
          53.5,
          43,
          45,
          34,
          51,
          42,
          39.5,
          40,
          44,
          52.5,
          50,
          48,
          61,
          60.5,
          44
         ],
         "y0": " ",
         "yaxis": "y8"
        },
        {
         "alignmentgroup": "True",
         "hovertemplate": "clusters=%{x}<br>stat=Ülőlift<br>value=%{y}<extra></extra>",
         "legendgroup": "1",
         "line": {
          "width": 1
         },
         "marker": {
          "color": "#EF553B",
          "size": 4
         },
         "name": "1",
         "notched": false,
         "offsetgroup": "1",
         "orientation": "v",
         "showlegend": false,
         "type": "box",
         "x": [
          1,
          1,
          1,
          1,
          1,
          1,
          1,
          1,
          1,
          1,
          1,
          1,
          1,
          1,
          1,
          1,
          1,
          1,
          1,
          1,
          1,
          1,
          1,
          1,
          1,
          1,
          1,
          1,
          1,
          1,
          1,
          1,
          1,
          1,
          1,
          1,
          1,
          1,
          1,
          1,
          1,
          1,
          1,
          1,
          1,
          1,
          1,
          1,
          1,
          1,
          1,
          1,
          1,
          1,
          1,
          1,
          1,
          1,
          1,
          1,
          1,
          1,
          1,
          1,
          1,
          1,
          1,
          1,
          1,
          1,
          1,
          1,
          1,
          1,
          1,
          1,
          1,
          1,
          1,
          1,
          1,
          1,
          1,
          1,
          1,
          1,
          1,
          1,
          1,
          1,
          1,
          1,
          1,
          1,
          1,
          1,
          1,
          1,
          1,
          1,
          1,
          1,
          1,
          1,
          1,
          1,
          1,
          1
         ],
         "x0": " ",
         "xaxis": "x9",
         "y": [
          4,
          1,
          4,
          2,
          2,
          1,
          6,
          8,
          1,
          6,
          4,
          2,
          6,
          2,
          8,
          13,
          2,
          3,
          2,
          2,
          1,
          1,
          2,
          2,
          1,
          2,
          3,
          2,
          7,
          1,
          2,
          4,
          0,
          1,
          8,
          4,
          6,
          1,
          1,
          1,
          2,
          6,
          4,
          6,
          1,
          4,
          0,
          1,
          0,
          2,
          3,
          6,
          1,
          5,
          2,
          7,
          3,
          1,
          6,
          3,
          2,
          3,
          2,
          4,
          1,
          3,
          3,
          2,
          0,
          9,
          1,
          2,
          17,
          0,
          1,
          1,
          2,
          3,
          1,
          0,
          1,
          3,
          3,
          2,
          3,
          1,
          2,
          0,
          3,
          3,
          4,
          2,
          5,
          7,
          1,
          4,
          0,
          5,
          3,
          2,
          2,
          2,
          4,
          9,
          2,
          6,
          10,
          6
         ],
         "y0": " ",
         "yaxis": "y9"
        },
        {
         "alignmentgroup": "True",
         "hovertemplate": "clusters=%{x}<br>stat=Kiskabinos lift<br>value=%{y}<extra></extra>",
         "legendgroup": "1",
         "line": {
          "width": 1
         },
         "marker": {
          "color": "#EF553B",
          "size": 4
         },
         "name": "1",
         "notched": false,
         "offsetgroup": "1",
         "orientation": "v",
         "showlegend": false,
         "type": "box",
         "x": [
          1,
          1,
          1,
          1,
          1,
          1,
          1,
          1,
          1,
          1,
          1,
          1,
          1,
          1,
          1,
          1,
          1,
          1,
          1,
          1,
          1,
          1,
          1,
          1,
          1,
          1,
          1,
          1,
          1,
          1,
          1,
          1,
          1,
          1,
          1,
          1,
          1,
          1,
          1,
          1,
          1,
          1,
          1,
          1,
          1,
          1,
          1,
          1,
          1,
          1,
          1,
          1,
          1,
          1,
          1,
          1,
          1,
          1,
          1,
          1,
          1,
          1,
          1,
          1,
          1,
          1,
          1,
          1,
          1,
          1,
          1,
          1,
          1,
          1,
          1,
          1,
          1,
          1,
          1,
          1,
          1,
          1,
          1,
          1,
          1,
          1,
          1,
          1,
          1,
          1,
          1,
          1,
          1,
          1,
          1,
          1,
          1,
          1,
          1,
          1,
          1,
          1,
          1,
          1,
          1,
          1,
          1,
          1
         ],
         "x0": " ",
         "xaxis": "x4",
         "y": [
          0,
          0,
          0,
          3,
          0,
          0,
          0,
          4,
          1,
          1,
          1,
          0,
          2,
          0,
          3,
          2,
          2,
          1,
          0,
          0,
          1,
          1,
          1,
          3,
          1,
          2,
          1,
          0,
          1,
          1,
          1,
          3,
          1,
          0,
          5,
          2,
          3,
          1,
          1,
          3,
          2,
          6,
          0,
          0,
          0,
          1,
          0,
          2,
          2,
          0,
          1,
          6,
          2,
          3,
          2,
          1,
          3,
          0,
          1,
          1,
          0,
          0,
          0,
          3,
          0,
          1,
          2,
          0,
          1,
          5,
          0,
          0,
          1,
          1,
          1,
          2,
          0,
          0,
          0,
          2,
          3,
          0,
          1,
          0,
          2,
          0,
          2,
          0,
          2,
          0,
          1,
          1,
          4,
          5,
          1,
          1,
          0,
          0,
          0,
          0,
          2,
          2,
          5,
          2,
          0,
          3,
          7,
          2
         ],
         "y0": " ",
         "yaxis": "y4"
        },
        {
         "alignmentgroup": "True",
         "hovertemplate": "clusters=%{x}<br>stat=Kék arány<br>value=%{y}<extra></extra>",
         "legendgroup": "1",
         "line": {
          "width": 1
         },
         "marker": {
          "color": "#EF553B",
          "size": 4
         },
         "name": "1",
         "notched": false,
         "offsetgroup": "1",
         "orientation": "v",
         "showlegend": false,
         "type": "box",
         "x": [
          1,
          1,
          1,
          1,
          1,
          1,
          1,
          1,
          1,
          1,
          1,
          1,
          1,
          1,
          1,
          1,
          1,
          1,
          1,
          1,
          1,
          1,
          1,
          1,
          1,
          1,
          1,
          1,
          1,
          1,
          1,
          1,
          1,
          1,
          1,
          1,
          1,
          1,
          1,
          1,
          1,
          1,
          1,
          1,
          1,
          1,
          1,
          1,
          1,
          1,
          1,
          1,
          1,
          1,
          1,
          1,
          1,
          1,
          1,
          1,
          1,
          1,
          1,
          1,
          1,
          1,
          1,
          1,
          1,
          1,
          1,
          1,
          1,
          1,
          1,
          1,
          1,
          1,
          1,
          1,
          1,
          1,
          1,
          1,
          1,
          1,
          1,
          1,
          1,
          1,
          1,
          1,
          1,
          1,
          1,
          1,
          1,
          1,
          1,
          1,
          1,
          1,
          1,
          1,
          1,
          1,
          1,
          1
         ],
         "x0": " ",
         "xaxis": "x5",
         "y": [
          0.2222222222222222,
          0.14285714285714285,
          0.6176470588235294,
          0.5317919075144508,
          0.5,
          0.3112582781456954,
          0.23333333333333334,
          0.17475728155339806,
          0.3448275862068966,
          0.34328358208955223,
          0.5333333333333333,
          0.6636363636363636,
          0.4423076923076923,
          0.37735849056603776,
          0.29411764705882354,
          0.3709677419354839,
          0.325,
          0.6581818181818182,
          0.4666666666666667,
          0.46249999999999997,
          0.5754716981132075,
          0.6132075471698113,
          0.45,
          0.21052631578947367,
          0.3333333333333333,
          0.13953488372093023,
          0.7402135231316725,
          0.45161290322580644,
          0.20177383592017736,
          0.2826086956521739,
          0.32,
          0.4981273408239701,
          0.27868852459016397,
          0.2377049180327869,
          0.439873417721519,
          0.52,
          0.21300448430493274,
          0.3333333333333333,
          0.3125,
          0.36363636363636365,
          0.3007518796992481,
          0.23333333333333334,
          0.5786350148367952,
          0.296875,
          0.2621359223300971,
          0.25,
          0.2727272727272727,
          0.5309734513274336,
          0.4444444444444444,
          0.19444444444444445,
          0.25,
          0.47540983606557374,
          0.5652173913043478,
          0.14285714285714285,
          0.45,
          0.6785714285714286,
          0.4117647058823529,
          0.25,
          0.1982942430703625,
          0.4625550660792952,
          0.2748091603053435,
          0.3419354838709677,
          0.2962962962962963,
          0.5433962264150943,
          0.03125,
          0.3761904761904762,
          0.6956521739130435,
          0.09090909090909091,
          0.3859649122807018,
          0.2727272727272727,
          0.38461538461538464,
          0.03597122302158273,
          0.61,
          0.2631578947368421,
          0.5255474452554745,
          0.19047619047619047,
          0.13333333333333333,
          0.3,
          0.4341085271317829,
          0.5384615384615384,
          0.46153846153846156,
          0.6273291925465838,
          0.21052631578947367,
          0.4368932038834951,
          0.5454545454545454,
          0.36,
          0.1951219512195122,
          0.2535211267605634,
          0.25806451612903225,
          0.5121951219512195,
          0.4338983050847458,
          0.27647058823529413,
          0.36904761904761907,
          0.3389830508474576,
          0.29411764705882354,
          0.42528735632183906,
          0.1,
          0.3372093023255814,
          0.2727272727272727,
          0.3333333333333333,
          0.2608695652173913,
          0.4482758620689655,
          0.4666666666666667,
          0.42857142857142855,
          0.4666666666666667,
          0.5222222222222223,
          0.38961038961038963,
          0.32
         ],
         "y0": " ",
         "yaxis": "y5"
        },
        {
         "alignmentgroup": "True",
         "hovertemplate": "clusters=%{x}<br>stat=Piros arány<br>value=%{y}<extra></extra>",
         "legendgroup": "1",
         "line": {
          "width": 1
         },
         "marker": {
          "color": "#EF553B",
          "size": 4
         },
         "name": "1",
         "notched": false,
         "offsetgroup": "1",
         "orientation": "v",
         "showlegend": false,
         "type": "box",
         "x": [
          1,
          1,
          1,
          1,
          1,
          1,
          1,
          1,
          1,
          1,
          1,
          1,
          1,
          1,
          1,
          1,
          1,
          1,
          1,
          1,
          1,
          1,
          1,
          1,
          1,
          1,
          1,
          1,
          1,
          1,
          1,
          1,
          1,
          1,
          1,
          1,
          1,
          1,
          1,
          1,
          1,
          1,
          1,
          1,
          1,
          1,
          1,
          1,
          1,
          1,
          1,
          1,
          1,
          1,
          1,
          1,
          1,
          1,
          1,
          1,
          1,
          1,
          1,
          1,
          1,
          1,
          1,
          1,
          1,
          1,
          1,
          1,
          1,
          1,
          1,
          1,
          1,
          1,
          1,
          1,
          1,
          1,
          1,
          1,
          1,
          1,
          1,
          1,
          1,
          1,
          1,
          1,
          1,
          1,
          1,
          1,
          1,
          1,
          1,
          1,
          1,
          1,
          1,
          1,
          1,
          1,
          1,
          1
         ],
         "x0": " ",
         "xaxis": "x6",
         "y": [
          0.5925925925925926,
          0.7142857142857143,
          0.35294117647058826,
          0.43352601156069365,
          0.4,
          0.5364238410596026,
          0.7,
          0.7475728155339806,
          0.3448275862068966,
          0.4925373134328358,
          0.4222222222222222,
          0.33636363636363636,
          0.5384615384615384,
          0.4811320754716981,
          0.6470588235294118,
          0.6054590570719603,
          0.45,
          0.2690909090909091,
          0.5333333333333333,
          0.24166666666666667,
          0.33018867924528306,
          0.29245283018867924,
          0.5,
          0.631578947368421,
          0.5833333333333334,
          0.5813953488372093,
          0.1886120996441281,
          0.45161290322580644,
          0.6651884700665188,
          0.6739130434782609,
          0.34,
          0.4456928838951311,
          0.639344262295082,
          0.7377049180327869,
          0.5379746835443038,
          0.34,
          0.5493273542600897,
          0.6111111111111112,
          0.5625,
          0.6181818181818182,
          0.4511278195488722,
          0.5833333333333334,
          0.35311572700296734,
          0.5208333333333334,
          0.5533980582524272,
          0.55,
          0.6363636363636364,
          0.3053097345132743,
          0.3333333333333333,
          0.75,
          0.625,
          0.3770491803278688,
          0.34782608695652173,
          0.7142857142857143,
          0.38,
          0.25,
          0.3764705882352941,
          0.75,
          0.5714285714285715,
          0.4052863436123348,
          0.6106870229007634,
          0.4258064516129032,
          0.5555555555555556,
          0.38490566037735846,
          0.70625,
          0.5476190476190477,
          0.2608695652173913,
          0.7272727272727273,
          0.6140350877192983,
          0.6272727272727273,
          0.5384615384615384,
          0.935251798561151,
          0.35,
          0.5263157894736842,
          0.43065693430656937,
          0.7619047619047619,
          0.7333333333333333,
          0.55,
          0.4883720930232558,
          0.3076923076923077,
          0.38461538461538464,
          0.2795031055900621,
          0.5263157894736842,
          0.3592233009708738,
          0.3090909090909091,
          0.48,
          0.6097560975609756,
          0.16901408450704225,
          0.6912442396313364,
          0.33333333333333326,
          0.5389830508474577,
          0.6529411764705882,
          0.5476190476190477,
          0.2311248073959938,
          0.5882352941176471,
          0.4367816091954023,
          0.6,
          0.5813953488372093,
          0.6818181818181818,
          0.6666666666666666,
          0.6521739130434783,
          0.5172413793103449,
          0.4,
          0.5238095238095238,
          0.4444444444444444,
          0.3822222222222222,
          0.36363636363636365,
          0.5733333333333334
         ],
         "y0": " ",
         "yaxis": "y6"
        },
        {
         "alignmentgroup": "True",
         "hovertemplate": "clusters=%{x}<br>stat=Fekete arány<br>value=%{y}<extra></extra>",
         "legendgroup": "1",
         "line": {
          "width": 1
         },
         "marker": {
          "color": "#EF553B",
          "size": 4
         },
         "name": "1",
         "notched": false,
         "offsetgroup": "1",
         "orientation": "v",
         "showlegend": false,
         "type": "box",
         "x": [
          1,
          1,
          1,
          1,
          1,
          1,
          1,
          1,
          1,
          1,
          1,
          1,
          1,
          1,
          1,
          1,
          1,
          1,
          1,
          1,
          1,
          1,
          1,
          1,
          1,
          1,
          1,
          1,
          1,
          1,
          1,
          1,
          1,
          1,
          1,
          1,
          1,
          1,
          1,
          1,
          1,
          1,
          1,
          1,
          1,
          1,
          1,
          1,
          1,
          1,
          1,
          1,
          1,
          1,
          1,
          1,
          1,
          1,
          1,
          1,
          1,
          1,
          1,
          1,
          1,
          1,
          1,
          1,
          1,
          1,
          1,
          1,
          1,
          1,
          1,
          1,
          1,
          1,
          1,
          1,
          1,
          1,
          1,
          1,
          1,
          1,
          1,
          1,
          1,
          1,
          1,
          1,
          1,
          1,
          1,
          1,
          1,
          1,
          1,
          1,
          1,
          1,
          1,
          1,
          1,
          1,
          1,
          1
         ],
         "x0": " ",
         "xaxis": "x",
         "y": [
          0.18518518518518517,
          0.14285714285714285,
          0.029411764705882353,
          0.03468208092485549,
          0.1,
          0.152317880794702,
          0.06666666666666667,
          0.07766990291262135,
          0.3103448275862069,
          0.16417910447761194,
          0.044444444444444446,
          0,
          0.019230769230769232,
          0.14150943396226415,
          0.058823529411764705,
          0.02357320099255583,
          0.225,
          0.07272727272727272,
          0,
          0.29583333333333334,
          0.09433962264150944,
          0.09433962264150944,
          0.05,
          0.15789473684210525,
          0.08333333333333333,
          0.27906976744186046,
          0.07117437722419928,
          0.0967741935483871,
          0.13303769401330376,
          0.043478260869565216,
          0.34,
          0.056179775280898875,
          0.0819672131147541,
          0.02459016393442623,
          0.022151898734177212,
          0.14,
          0.23766816143497757,
          0.05555555555555555,
          0.125,
          0.01818181818181818,
          0.2481203007518797,
          0.18333333333333332,
          0.06824925816023737,
          0.18229166666666669,
          0.1844660194174757,
          0.2,
          0.09090909090909091,
          0.16371681415929204,
          0.2222222222222222,
          0.05555555555555555,
          0.125,
          0.14754098360655737,
          0.08695652173913043,
          0.14285714285714285,
          0.17,
          0.07142857142857142,
          0.21176470588235294,
          0,
          0.23027718550106613,
          0.13215859030837004,
          0.11450381679389313,
          0.23225806451612904,
          0.14814814814814814,
          0.07169811320754717,
          0.2625,
          0.0761904761904762,
          0.043478260869565216,
          0.18181818181818182,
          0,
          0.1,
          0.07692307692307693,
          0.02877697841726619,
          0.04,
          0.21052631578947367,
          0.043795620437956206,
          0.047619047619047616,
          0.13333333333333333,
          0.15,
          0.07751937984496124,
          0.15384615384615385,
          0.15384615384615385,
          0.09316770186335403,
          0.2631578947368421,
          0.20388349514563106,
          0.14545454545454548,
          0.16,
          0.1951219512195122,
          0.5774647887323944,
          0.05069124423963134,
          0.15447154471544713,
          0.027118644067796613,
          0.07058823529411765,
          0.08333333333333333,
          0.4298921417565485,
          0.11764705882352941,
          0.13793103448275862,
          0.3,
          0.08139534883720931,
          0.045454545454545456,
          0,
          0.08695652173913043,
          0.034482758620689655,
          0.13333333333333333,
          0.047619047619047616,
          0.08888888888888889,
          0.09555555555555555,
          0.24675324675324675,
          0.10666666666666667
         ],
         "y0": " ",
         "yaxis": "y"
        },
        {
         "alignmentgroup": "True",
         "hovertemplate": "clusters=%{x}<br>stat=Hegytető<br>value=%{y}<extra></extra>",
         "legendgroup": "2",
         "line": {
          "width": 1
         },
         "marker": {
          "color": "#00cc96",
          "size": 4
         },
         "name": "2",
         "notched": false,
         "offsetgroup": "2",
         "orientation": "v",
         "showlegend": true,
         "type": "box",
         "x": [
          2,
          2,
          2,
          2,
          2,
          2,
          2,
          2,
          2,
          2,
          2,
          2,
          2,
          2,
          2,
          2
         ],
         "x0": " ",
         "xaxis": "x10",
         "y": [
          1980,
          1900,
          2378,
          2872,
          2000,
          2500,
          3030,
          2096,
          2015,
          2828,
          2430,
          2811,
          2025,
          1957,
          3340,
          2500
         ],
         "y0": " ",
         "yaxis": "y10"
        },
        {
         "alignmentgroup": "True",
         "hovertemplate": "clusters=%{x}<br>stat=Sípályák hossza<br>value=%{y}<extra></extra>",
         "legendgroup": "2",
         "line": {
          "width": 1
         },
         "marker": {
          "color": "#00cc96",
          "size": 4
         },
         "name": "2",
         "notched": false,
         "offsetgroup": "2",
         "orientation": "v",
         "showlegend": false,
         "type": "box",
         "x": [
          2,
          2,
          2,
          2,
          2,
          2,
          2,
          2,
          2,
          2,
          2,
          2,
          2,
          2,
          2,
          2
         ],
         "x0": " ",
         "xaxis": "x11",
         "y": [
          120.1,
          120,
          85.6,
          239,
          188,
          142,
          112.2,
          270,
          123,
          186,
          117,
          302,
          90.9,
          288,
          143.4,
          146.7
         ],
         "y0": " ",
         "yaxis": "y11"
        },
        {
         "alignmentgroup": "True",
         "hovertemplate": "clusters=%{x}<br>stat=Szintkülönbség<br>value=%{y}<extra></extra>",
         "legendgroup": "2",
         "line": {
          "width": 1
         },
         "marker": {
          "color": "#00cc96",
          "size": 4
         },
         "name": "2",
         "notched": false,
         "offsetgroup": "2",
         "orientation": "v",
         "showlegend": false,
         "type": "box",
         "x": [
          2,
          2,
          2,
          2,
          2,
          2,
          2,
          2,
          2,
          2,
          2,
          2,
          2,
          2,
          2,
          2
         ],
         "x0": " ",
         "xaxis": "x12",
         "y": [
          1240,
          1100,
          1778,
          1512,
          1200,
          1870,
          1237,
          1266,
          1287,
          1628,
          1730,
          1511,
          1195,
          1337,
          1990,
          1920
         ],
         "y0": " ",
         "yaxis": "y12"
        },
        {
         "alignmentgroup": "True",
         "hovertemplate": "clusters=%{x}<br>stat=Liftek száma<br>value=%{y}<extra></extra>",
         "legendgroup": "2",
         "line": {
          "width": 1
         },
         "marker": {
          "color": "#00cc96",
          "size": 4
         },
         "name": "2",
         "notched": false,
         "offsetgroup": "2",
         "orientation": "v",
         "showlegend": false,
         "type": "box",
         "x": [
          2,
          2,
          2,
          2,
          2,
          2,
          2,
          2,
          2,
          2,
          2,
          2,
          2,
          2,
          2,
          2
         ],
         "x0": " ",
         "xaxis": "x7",
         "y": [
          45,
          34,
          39,
          41,
          57,
          44,
          26,
          70,
          47,
          39,
          36,
          88,
          46,
          90,
          32,
          52
         ],
         "y0": " ",
         "yaxis": "y7"
        },
        {
         "alignmentgroup": "True",
         "hovertemplate": "clusters=%{x}<br>stat=Felnőtt napijegy ára<br>value=%{y}<extra></extra>",
         "legendgroup": "2",
         "line": {
          "width": 1
         },
         "marker": {
          "color": "#00cc96",
          "size": 4
         },
         "name": "2",
         "notched": false,
         "offsetgroup": "2",
         "orientation": "v",
         "showlegend": false,
         "type": "box",
         "x": [
          2,
          2,
          2,
          2,
          2,
          2,
          2,
          2,
          2,
          2,
          2,
          2,
          2,
          2,
          2,
          2
         ],
         "x0": " ",
         "xaxis": "x8",
         "y": [
          61,
          60.5,
          61,
          55,
          59.5,
          59.5,
          62,
          60.5,
          60.5,
          58,
          59,
          61,
          52.5,
          57,
          64,
          59.5
         ],
         "y0": " ",
         "yaxis": "y8"
        },
        {
         "alignmentgroup": "True",
         "hovertemplate": "clusters=%{x}<br>stat=Ülőlift<br>value=%{y}<extra></extra>",
         "legendgroup": "2",
         "line": {
          "width": 1
         },
         "marker": {
          "color": "#00cc96",
          "size": 4
         },
         "name": "2",
         "notched": false,
         "offsetgroup": "2",
         "orientation": "v",
         "showlegend": false,
         "type": "box",
         "x": [
          2,
          2,
          2,
          2,
          2,
          2,
          2,
          2,
          2,
          2,
          2,
          2,
          2,
          2,
          2,
          2
         ],
         "x0": " ",
         "xaxis": "x9",
         "y": [
          16,
          8,
          11,
          25,
          27,
          17,
          6,
          21,
          20,
          16,
          18,
          43,
          7,
          34,
          14,
          20
         ],
         "y0": " ",
         "yaxis": "y9"
        },
        {
         "alignmentgroup": "True",
         "hovertemplate": "clusters=%{x}<br>stat=Kiskabinos lift<br>value=%{y}<extra></extra>",
         "legendgroup": "2",
         "line": {
          "width": 1
         },
         "marker": {
          "color": "#00cc96",
          "size": 4
         },
         "name": "2",
         "notched": false,
         "offsetgroup": "2",
         "orientation": "v",
         "showlegend": false,
         "type": "box",
         "x": [
          2,
          2,
          2,
          2,
          2,
          2,
          2,
          2,
          2,
          2,
          2,
          2,
          2,
          2,
          2,
          2
         ],
         "x0": " ",
         "xaxis": "x4",
         "y": [
          10,
          7,
          6,
          4,
          11,
          7,
          11,
          29,
          9,
          11,
          8,
          11,
          8,
          16,
          8,
          13
         ],
         "y0": " ",
         "yaxis": "y4"
        },
        {
         "alignmentgroup": "True",
         "hovertemplate": "clusters=%{x}<br>stat=Kék arány<br>value=%{y}<extra></extra>",
         "legendgroup": "2",
         "line": {
          "width": 1
         },
         "marker": {
          "color": "#00cc96",
          "size": 4
         },
         "name": "2",
         "notched": false,
         "offsetgroup": "2",
         "orientation": "v",
         "showlegend": false,
         "type": "box",
         "x": [
          2,
          2,
          2,
          2,
          2,
          2,
          2,
          2,
          2,
          2,
          2,
          2,
          2,
          2,
          2,
          2
         ],
         "x0": " ",
         "xaxis": "x5",
         "y": [
          0.283097418817652,
          0.43333333333333335,
          0.3469626168224299,
          0.19665271966527198,
          0.5425531914893617,
          0.30985915492957744,
          0.5365418894830659,
          0.5185185185185185,
          0.37723577235772354,
          0.25268817204301075,
          0.5299145299145299,
          0.4304635761589404,
          0.2761276127612761,
          0.4375,
          0.4846582984658298,
          0.3340149965916837
         ],
         "y0": " ",
         "yaxis": "y5"
        },
        {
         "alignmentgroup": "True",
         "hovertemplate": "clusters=%{x}<br>stat=Piros arány<br>value=%{y}<extra></extra>",
         "legendgroup": "2",
         "line": {
          "width": 1
         },
         "marker": {
          "color": "#00cc96",
          "size": 4
         },
         "name": "2",
         "notched": false,
         "offsetgroup": "2",
         "orientation": "v",
         "showlegend": false,
         "type": "box",
         "x": [
          2,
          2,
          2,
          2,
          2,
          2,
          2,
          2,
          2,
          2,
          2,
          2,
          2,
          2,
          2,
          2
         ],
         "x0": " ",
         "xaxis": "x6",
         "y": [
          0.6835970024979184,
          0.3416666666666667,
          0.4824766355140187,
          0.5983263598326359,
          0.35106382978723405,
          0.4647887323943662,
          0.29590017825311943,
          0.4148148148148148,
          0.5552845528455285,
          0.6021505376344086,
          0.38461538461538464,
          0.40066225165562913,
          0.5841584158415841,
          0.4409722222222222,
          0.32496513249651326,
          0.5930470347648262
         ],
         "y0": " ",
         "yaxis": "y6"
        },
        {
         "alignmentgroup": "True",
         "hovertemplate": "clusters=%{x}<br>stat=Fekete arány<br>value=%{y}<extra></extra>",
         "legendgroup": "2",
         "line": {
          "width": 1
         },
         "marker": {
          "color": "#00cc96",
          "size": 4
         },
         "name": "2",
         "notched": false,
         "offsetgroup": "2",
         "orientation": "v",
         "showlegend": false,
         "type": "box",
         "x": [
          2,
          2,
          2,
          2,
          2,
          2,
          2,
          2,
          2,
          2,
          2,
          2,
          2,
          2,
          2,
          2
         ],
         "x0": " ",
         "xaxis": "x",
         "y": [
          0.03330557868442964,
          0.225,
          0.17056074766355142,
          0.20502092050209206,
          0.10638297872340426,
          0.22535211267605634,
          0.16755793226381463,
          0.06666666666666667,
          0.06747967479674798,
          0.14516129032258066,
          0.08547008547008547,
          0.16887417218543047,
          0.1397139713971397,
          0.12152777777777778,
          0.1903765690376569,
          0.07293796864349011
         ],
         "y0": " ",
         "yaxis": "y"
        }
       ],
       "layout": {
        "annotations": [
         {
          "font": {},
          "showarrow": false,
          "text": "Fekete arány",
          "x": 0.15,
          "xanchor": "center",
          "xref": "paper",
          "y": 0.2125,
          "yanchor": "bottom",
          "yref": "paper"
         },
         {
          "font": {},
          "showarrow": false,
          "text": "Kiskabinos lift",
          "x": 0.15,
          "xanchor": "center",
          "xref": "paper",
          "y": 0.475,
          "yanchor": "bottom",
          "yref": "paper"
         },
         {
          "font": {},
          "showarrow": false,
          "text": "Kék arány",
          "x": 0.49999999999999994,
          "xanchor": "center",
          "xref": "paper",
          "y": 0.475,
          "yanchor": "bottom",
          "yref": "paper"
         },
         {
          "font": {},
          "showarrow": false,
          "text": "Piros arány",
          "x": 0.85,
          "xanchor": "center",
          "xref": "paper",
          "y": 0.475,
          "yanchor": "bottom",
          "yref": "paper"
         },
         {
          "font": {},
          "showarrow": false,
          "text": "Liftek száma",
          "x": 0.15,
          "xanchor": "center",
          "xref": "paper",
          "y": 0.7375,
          "yanchor": "bottom",
          "yref": "paper"
         },
         {
          "font": {},
          "showarrow": false,
          "text": "Felnőtt napijegy ára",
          "x": 0.49999999999999994,
          "xanchor": "center",
          "xref": "paper",
          "y": 0.7375,
          "yanchor": "bottom",
          "yref": "paper"
         },
         {
          "font": {},
          "showarrow": false,
          "text": "Ülőlift",
          "x": 0.85,
          "xanchor": "center",
          "xref": "paper",
          "y": 0.7375,
          "yanchor": "bottom",
          "yref": "paper"
         },
         {
          "font": {},
          "showarrow": false,
          "text": "Hegytető",
          "x": 0.15,
          "xanchor": "center",
          "xref": "paper",
          "y": 1,
          "yanchor": "bottom",
          "yref": "paper"
         },
         {
          "font": {},
          "showarrow": false,
          "text": "Sípályák hossza",
          "x": 0.49999999999999994,
          "xanchor": "center",
          "xref": "paper",
          "y": 1,
          "yanchor": "bottom",
          "yref": "paper"
         },
         {
          "font": {},
          "showarrow": false,
          "text": "Szintkülönbség",
          "x": 0.85,
          "xanchor": "center",
          "xref": "paper",
          "y": 1,
          "yanchor": "bottom",
          "yref": "paper"
         }
        ],
        "boxmode": "overlay",
        "height": 950,
        "legend": {
         "title": {
          "text": "clusters"
         },
         "tracegroupgap": 0
        },
        "showlegend": false,
        "template": {
         "data": {
          "bar": [
           {
            "error_x": {
             "color": "#2a3f5f"
            },
            "error_y": {
             "color": "#2a3f5f"
            },
            "marker": {
             "line": {
              "color": "#E5ECF6",
              "width": 0.5
             },
             "pattern": {
              "fillmode": "overlay",
              "size": 10,
              "solidity": 0.2
             }
            },
            "type": "bar"
           }
          ],
          "barpolar": [
           {
            "marker": {
             "line": {
              "color": "#E5ECF6",
              "width": 0.5
             },
             "pattern": {
              "fillmode": "overlay",
              "size": 10,
              "solidity": 0.2
             }
            },
            "type": "barpolar"
           }
          ],
          "carpet": [
           {
            "aaxis": {
             "endlinecolor": "#2a3f5f",
             "gridcolor": "white",
             "linecolor": "white",
             "minorgridcolor": "white",
             "startlinecolor": "#2a3f5f"
            },
            "baxis": {
             "endlinecolor": "#2a3f5f",
             "gridcolor": "white",
             "linecolor": "white",
             "minorgridcolor": "white",
             "startlinecolor": "#2a3f5f"
            },
            "type": "carpet"
           }
          ],
          "choropleth": [
           {
            "colorbar": {
             "outlinewidth": 0,
             "ticks": ""
            },
            "type": "choropleth"
           }
          ],
          "contour": [
           {
            "colorbar": {
             "outlinewidth": 0,
             "ticks": ""
            },
            "colorscale": [
             [
              0,
              "#0d0887"
             ],
             [
              0.1111111111111111,
              "#46039f"
             ],
             [
              0.2222222222222222,
              "#7201a8"
             ],
             [
              0.3333333333333333,
              "#9c179e"
             ],
             [
              0.4444444444444444,
              "#bd3786"
             ],
             [
              0.5555555555555556,
              "#d8576b"
             ],
             [
              0.6666666666666666,
              "#ed7953"
             ],
             [
              0.7777777777777778,
              "#fb9f3a"
             ],
             [
              0.8888888888888888,
              "#fdca26"
             ],
             [
              1,
              "#f0f921"
             ]
            ],
            "type": "contour"
           }
          ],
          "contourcarpet": [
           {
            "colorbar": {
             "outlinewidth": 0,
             "ticks": ""
            },
            "type": "contourcarpet"
           }
          ],
          "heatmap": [
           {
            "colorbar": {
             "outlinewidth": 0,
             "ticks": ""
            },
            "colorscale": [
             [
              0,
              "#0d0887"
             ],
             [
              0.1111111111111111,
              "#46039f"
             ],
             [
              0.2222222222222222,
              "#7201a8"
             ],
             [
              0.3333333333333333,
              "#9c179e"
             ],
             [
              0.4444444444444444,
              "#bd3786"
             ],
             [
              0.5555555555555556,
              "#d8576b"
             ],
             [
              0.6666666666666666,
              "#ed7953"
             ],
             [
              0.7777777777777778,
              "#fb9f3a"
             ],
             [
              0.8888888888888888,
              "#fdca26"
             ],
             [
              1,
              "#f0f921"
             ]
            ],
            "type": "heatmap"
           }
          ],
          "heatmapgl": [
           {
            "colorbar": {
             "outlinewidth": 0,
             "ticks": ""
            },
            "colorscale": [
             [
              0,
              "#0d0887"
             ],
             [
              0.1111111111111111,
              "#46039f"
             ],
             [
              0.2222222222222222,
              "#7201a8"
             ],
             [
              0.3333333333333333,
              "#9c179e"
             ],
             [
              0.4444444444444444,
              "#bd3786"
             ],
             [
              0.5555555555555556,
              "#d8576b"
             ],
             [
              0.6666666666666666,
              "#ed7953"
             ],
             [
              0.7777777777777778,
              "#fb9f3a"
             ],
             [
              0.8888888888888888,
              "#fdca26"
             ],
             [
              1,
              "#f0f921"
             ]
            ],
            "type": "heatmapgl"
           }
          ],
          "histogram": [
           {
            "marker": {
             "pattern": {
              "fillmode": "overlay",
              "size": 10,
              "solidity": 0.2
             }
            },
            "type": "histogram"
           }
          ],
          "histogram2d": [
           {
            "colorbar": {
             "outlinewidth": 0,
             "ticks": ""
            },
            "colorscale": [
             [
              0,
              "#0d0887"
             ],
             [
              0.1111111111111111,
              "#46039f"
             ],
             [
              0.2222222222222222,
              "#7201a8"
             ],
             [
              0.3333333333333333,
              "#9c179e"
             ],
             [
              0.4444444444444444,
              "#bd3786"
             ],
             [
              0.5555555555555556,
              "#d8576b"
             ],
             [
              0.6666666666666666,
              "#ed7953"
             ],
             [
              0.7777777777777778,
              "#fb9f3a"
             ],
             [
              0.8888888888888888,
              "#fdca26"
             ],
             [
              1,
              "#f0f921"
             ]
            ],
            "type": "histogram2d"
           }
          ],
          "histogram2dcontour": [
           {
            "colorbar": {
             "outlinewidth": 0,
             "ticks": ""
            },
            "colorscale": [
             [
              0,
              "#0d0887"
             ],
             [
              0.1111111111111111,
              "#46039f"
             ],
             [
              0.2222222222222222,
              "#7201a8"
             ],
             [
              0.3333333333333333,
              "#9c179e"
             ],
             [
              0.4444444444444444,
              "#bd3786"
             ],
             [
              0.5555555555555556,
              "#d8576b"
             ],
             [
              0.6666666666666666,
              "#ed7953"
             ],
             [
              0.7777777777777778,
              "#fb9f3a"
             ],
             [
              0.8888888888888888,
              "#fdca26"
             ],
             [
              1,
              "#f0f921"
             ]
            ],
            "type": "histogram2dcontour"
           }
          ],
          "mesh3d": [
           {
            "colorbar": {
             "outlinewidth": 0,
             "ticks": ""
            },
            "type": "mesh3d"
           }
          ],
          "parcoords": [
           {
            "line": {
             "colorbar": {
              "outlinewidth": 0,
              "ticks": ""
             }
            },
            "type": "parcoords"
           }
          ],
          "pie": [
           {
            "automargin": true,
            "type": "pie"
           }
          ],
          "scatter": [
           {
            "marker": {
             "colorbar": {
              "outlinewidth": 0,
              "ticks": ""
             }
            },
            "type": "scatter"
           }
          ],
          "scatter3d": [
           {
            "line": {
             "colorbar": {
              "outlinewidth": 0,
              "ticks": ""
             }
            },
            "marker": {
             "colorbar": {
              "outlinewidth": 0,
              "ticks": ""
             }
            },
            "type": "scatter3d"
           }
          ],
          "scattercarpet": [
           {
            "marker": {
             "colorbar": {
              "outlinewidth": 0,
              "ticks": ""
             }
            },
            "type": "scattercarpet"
           }
          ],
          "scattergeo": [
           {
            "marker": {
             "colorbar": {
              "outlinewidth": 0,
              "ticks": ""
             }
            },
            "type": "scattergeo"
           }
          ],
          "scattergl": [
           {
            "marker": {
             "colorbar": {
              "outlinewidth": 0,
              "ticks": ""
             }
            },
            "type": "scattergl"
           }
          ],
          "scattermapbox": [
           {
            "marker": {
             "colorbar": {
              "outlinewidth": 0,
              "ticks": ""
             }
            },
            "type": "scattermapbox"
           }
          ],
          "scatterpolar": [
           {
            "marker": {
             "colorbar": {
              "outlinewidth": 0,
              "ticks": ""
             }
            },
            "type": "scatterpolar"
           }
          ],
          "scatterpolargl": [
           {
            "marker": {
             "colorbar": {
              "outlinewidth": 0,
              "ticks": ""
             }
            },
            "type": "scatterpolargl"
           }
          ],
          "scatterternary": [
           {
            "marker": {
             "colorbar": {
              "outlinewidth": 0,
              "ticks": ""
             }
            },
            "type": "scatterternary"
           }
          ],
          "surface": [
           {
            "colorbar": {
             "outlinewidth": 0,
             "ticks": ""
            },
            "colorscale": [
             [
              0,
              "#0d0887"
             ],
             [
              0.1111111111111111,
              "#46039f"
             ],
             [
              0.2222222222222222,
              "#7201a8"
             ],
             [
              0.3333333333333333,
              "#9c179e"
             ],
             [
              0.4444444444444444,
              "#bd3786"
             ],
             [
              0.5555555555555556,
              "#d8576b"
             ],
             [
              0.6666666666666666,
              "#ed7953"
             ],
             [
              0.7777777777777778,
              "#fb9f3a"
             ],
             [
              0.8888888888888888,
              "#fdca26"
             ],
             [
              1,
              "#f0f921"
             ]
            ],
            "type": "surface"
           }
          ],
          "table": [
           {
            "cells": {
             "fill": {
              "color": "#EBF0F8"
             },
             "line": {
              "color": "white"
             }
            },
            "header": {
             "fill": {
              "color": "#C8D4E3"
             },
             "line": {
              "color": "white"
             }
            },
            "type": "table"
           }
          ]
         },
         "layout": {
          "annotationdefaults": {
           "arrowcolor": "#2a3f5f",
           "arrowhead": 0,
           "arrowwidth": 1
          },
          "autotypenumbers": "strict",
          "coloraxis": {
           "colorbar": {
            "outlinewidth": 0,
            "ticks": ""
           }
          },
          "colorscale": {
           "diverging": [
            [
             0,
             "#8e0152"
            ],
            [
             0.1,
             "#c51b7d"
            ],
            [
             0.2,
             "#de77ae"
            ],
            [
             0.3,
             "#f1b6da"
            ],
            [
             0.4,
             "#fde0ef"
            ],
            [
             0.5,
             "#f7f7f7"
            ],
            [
             0.6,
             "#e6f5d0"
            ],
            [
             0.7,
             "#b8e186"
            ],
            [
             0.8,
             "#7fbc41"
            ],
            [
             0.9,
             "#4d9221"
            ],
            [
             1,
             "#276419"
            ]
           ],
           "sequential": [
            [
             0,
             "#0d0887"
            ],
            [
             0.1111111111111111,
             "#46039f"
            ],
            [
             0.2222222222222222,
             "#7201a8"
            ],
            [
             0.3333333333333333,
             "#9c179e"
            ],
            [
             0.4444444444444444,
             "#bd3786"
            ],
            [
             0.5555555555555556,
             "#d8576b"
            ],
            [
             0.6666666666666666,
             "#ed7953"
            ],
            [
             0.7777777777777778,
             "#fb9f3a"
            ],
            [
             0.8888888888888888,
             "#fdca26"
            ],
            [
             1,
             "#f0f921"
            ]
           ],
           "sequentialminus": [
            [
             0,
             "#0d0887"
            ],
            [
             0.1111111111111111,
             "#46039f"
            ],
            [
             0.2222222222222222,
             "#7201a8"
            ],
            [
             0.3333333333333333,
             "#9c179e"
            ],
            [
             0.4444444444444444,
             "#bd3786"
            ],
            [
             0.5555555555555556,
             "#d8576b"
            ],
            [
             0.6666666666666666,
             "#ed7953"
            ],
            [
             0.7777777777777778,
             "#fb9f3a"
            ],
            [
             0.8888888888888888,
             "#fdca26"
            ],
            [
             1,
             "#f0f921"
            ]
           ]
          },
          "colorway": [
           "#636efa",
           "#EF553B",
           "#00cc96",
           "#ab63fa",
           "#FFA15A",
           "#19d3f3",
           "#FF6692",
           "#B6E880",
           "#FF97FF",
           "#FECB52"
          ],
          "font": {
           "color": "#2a3f5f"
          },
          "geo": {
           "bgcolor": "white",
           "lakecolor": "white",
           "landcolor": "#E5ECF6",
           "showlakes": true,
           "showland": true,
           "subunitcolor": "white"
          },
          "hoverlabel": {
           "align": "left"
          },
          "hovermode": "closest",
          "mapbox": {
           "style": "light"
          },
          "paper_bgcolor": "white",
          "plot_bgcolor": "#E5ECF6",
          "polar": {
           "angularaxis": {
            "gridcolor": "white",
            "linecolor": "white",
            "ticks": ""
           },
           "bgcolor": "#E5ECF6",
           "radialaxis": {
            "gridcolor": "white",
            "linecolor": "white",
            "ticks": ""
           }
          },
          "scene": {
           "xaxis": {
            "backgroundcolor": "#E5ECF6",
            "gridcolor": "white",
            "gridwidth": 2,
            "linecolor": "white",
            "showbackground": true,
            "ticks": "",
            "zerolinecolor": "white"
           },
           "yaxis": {
            "backgroundcolor": "#E5ECF6",
            "gridcolor": "white",
            "gridwidth": 2,
            "linecolor": "white",
            "showbackground": true,
            "ticks": "",
            "zerolinecolor": "white"
           },
           "zaxis": {
            "backgroundcolor": "#E5ECF6",
            "gridcolor": "white",
            "gridwidth": 2,
            "linecolor": "white",
            "showbackground": true,
            "ticks": "",
            "zerolinecolor": "white"
           }
          },
          "shapedefaults": {
           "line": {
            "color": "#2a3f5f"
           }
          },
          "ternary": {
           "aaxis": {
            "gridcolor": "white",
            "linecolor": "white",
            "ticks": ""
           },
           "baxis": {
            "gridcolor": "white",
            "linecolor": "white",
            "ticks": ""
           },
           "bgcolor": "#E5ECF6",
           "caxis": {
            "gridcolor": "white",
            "linecolor": "white",
            "ticks": ""
           }
          },
          "title": {
           "x": 0.05
          },
          "xaxis": {
           "automargin": true,
           "gridcolor": "white",
           "linecolor": "white",
           "ticks": "",
           "title": {
            "standoff": 15
           },
           "zerolinecolor": "white",
           "zerolinewidth": 2
          },
          "yaxis": {
           "automargin": true,
           "gridcolor": "white",
           "linecolor": "white",
           "ticks": "",
           "title": {
            "standoff": 15
           },
           "zerolinecolor": "white",
           "zerolinewidth": 2
          }
         }
        },
        "title": {
         "text": "Distribution differences across clusters"
        },
        "width": 950,
        "xaxis": {
         "anchor": "y",
         "categoryarray": [
          0,
          1,
          2
         ],
         "categoryorder": "category ascending",
         "domain": [
          0,
          0.3
         ],
         "showticklabels": true,
         "title": {},
         "type": "category",
         "visible": true
        },
        "xaxis10": {
         "anchor": "y10",
         "categoryorder": "category ascending",
         "domain": [
          0,
          0.3
         ],
         "showticklabels": true,
         "title": {},
         "type": "category",
         "visible": true
        },
        "xaxis11": {
         "anchor": "y11",
         "categoryorder": "category ascending",
         "domain": [
          0.35,
          0.6499999999999999
         ],
         "showticklabels": true,
         "title": {},
         "type": "category",
         "visible": true
        },
        "xaxis12": {
         "anchor": "y12",
         "categoryorder": "category ascending",
         "domain": [
          0.7,
          1
         ],
         "showticklabels": true,
         "title": {},
         "type": "category",
         "visible": true
        },
        "xaxis2": {
         "anchor": "y2",
         "categoryarray": [
          0,
          1,
          2
         ],
         "categoryorder": "category ascending",
         "domain": [
          0.35,
          0.6499999999999999
         ],
         "showticklabels": true,
         "title": {},
         "type": "category",
         "visible": true
        },
        "xaxis3": {
         "anchor": "y3",
         "categoryarray": [
          0,
          1,
          2
         ],
         "categoryorder": "category ascending",
         "domain": [
          0.7,
          1
         ],
         "showticklabels": true,
         "title": {},
         "type": "category",
         "visible": true
        },
        "xaxis4": {
         "anchor": "y4",
         "categoryorder": "category ascending",
         "domain": [
          0,
          0.3
         ],
         "showticklabels": true,
         "title": {},
         "type": "category",
         "visible": true
        },
        "xaxis5": {
         "anchor": "y5",
         "categoryorder": "category ascending",
         "domain": [
          0.35,
          0.6499999999999999
         ],
         "showticklabels": true,
         "title": {},
         "type": "category",
         "visible": true
        },
        "xaxis6": {
         "anchor": "y6",
         "categoryorder": "category ascending",
         "domain": [
          0.7,
          1
         ],
         "showticklabels": true,
         "title": {},
         "type": "category",
         "visible": true
        },
        "xaxis7": {
         "anchor": "y7",
         "categoryorder": "category ascending",
         "domain": [
          0,
          0.3
         ],
         "showticklabels": true,
         "title": {},
         "type": "category",
         "visible": true
        },
        "xaxis8": {
         "anchor": "y8",
         "categoryorder": "category ascending",
         "domain": [
          0.35,
          0.6499999999999999
         ],
         "showticklabels": true,
         "title": {},
         "type": "category",
         "visible": true
        },
        "xaxis9": {
         "anchor": "y9",
         "categoryorder": "category ascending",
         "domain": [
          0.7,
          1
         ],
         "showticklabels": true,
         "title": {},
         "type": "category",
         "visible": true
        },
        "yaxis": {
         "anchor": "x",
         "domain": [
          0,
          0.2125
         ],
         "showticklabels": true,
         "title": {},
         "visible": true
        },
        "yaxis10": {
         "anchor": "x10",
         "domain": [
          0.7875,
          1
         ],
         "showticklabels": true,
         "title": {},
         "visible": true
        },
        "yaxis11": {
         "anchor": "x11",
         "domain": [
          0.7875,
          1
         ],
         "showticklabels": true,
         "title": {},
         "visible": true
        },
        "yaxis12": {
         "anchor": "x12",
         "domain": [
          0.7875,
          1
         ],
         "showticklabels": true,
         "title": {},
         "visible": true
        },
        "yaxis2": {
         "anchor": "x2",
         "domain": [
          0,
          0.2125
         ],
         "showticklabels": true,
         "title": {},
         "visible": true
        },
        "yaxis3": {
         "anchor": "x3",
         "domain": [
          0,
          0.2125
         ],
         "showticklabels": true,
         "title": {},
         "visible": true
        },
        "yaxis4": {
         "anchor": "x4",
         "domain": [
          0.2625,
          0.475
         ],
         "showticklabels": true,
         "title": {},
         "visible": true
        },
        "yaxis5": {
         "anchor": "x5",
         "domain": [
          0.2625,
          0.475
         ],
         "showticklabels": true,
         "title": {},
         "visible": true
        },
        "yaxis6": {
         "anchor": "x6",
         "domain": [
          0.2625,
          0.475
         ],
         "showticklabels": true,
         "title": {},
         "visible": true
        },
        "yaxis7": {
         "anchor": "x7",
         "domain": [
          0.525,
          0.7375
         ],
         "showticklabels": true,
         "title": {},
         "visible": true
        },
        "yaxis8": {
         "anchor": "x8",
         "domain": [
          0.525,
          0.7375
         ],
         "showticklabels": true,
         "title": {},
         "visible": true
        },
        "yaxis9": {
         "anchor": "x9",
         "domain": [
          0.525,
          0.7375
         ],
         "showticklabels": true,
         "title": {},
         "visible": true
        }
       }
      }
     },
     "metadata": {},
     "output_type": "display_data"
    }
   ],
   "source": [
    "cluster_exploration = pd.concat([df_cluster.reset_index(), km], 1)\n",
    "cluster_exploration_melt = pd.melt(cluster_exploration, id_vars = ['Síterep', 'clusters'], var_name = 'stat', value_name = 'value')\n",
    "\n",
    "show_diff_between_clusters(cluster_exploration_melt, height = 950)"
   ]
  },
  {
   "cell_type": "code",
   "execution_count": null,
   "metadata": {},
   "outputs": [],
   "source": []
  },
  {
   "cell_type": "code",
   "execution_count": null,
   "metadata": {},
   "outputs": [],
   "source": []
  },
  {
   "cell_type": "code",
   "execution_count": null,
   "metadata": {},
   "outputs": [],
   "source": []
  },
  {
   "cell_type": "code",
   "execution_count": null,
   "metadata": {},
   "outputs": [],
   "source": []
  }
 ],
 "metadata": {
  "interpreter": {
   "hash": "c1c82bdd170d252fe165a9bec4d731e9ac025b41ad0f7b30ff5fda4e58991de2"
  },
  "kernelspec": {
   "display_name": "Python 3",
   "language": "python",
   "name": "python3"
  },
  "language_info": {
   "codemirror_mode": {
    "name": "ipython",
    "version": 3
   },
   "file_extension": ".py",
   "mimetype": "text/x-python",
   "name": "python",
   "nbconvert_exporter": "python",
   "pygments_lexer": "ipython3",
   "version": "3.8.8"
  }
 },
 "nbformat": 4,
 "nbformat_minor": 2
}
