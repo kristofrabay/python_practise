{
 "cells": [
  {
   "cell_type": "code",
   "execution_count": 280,
   "metadata": {},
   "outputs": [],
   "source": [
    "import sys \n",
    "sys.path.append('../../')\n",
    "from src.import_packages import *\n",
    "\n",
    "from bs4 import BeautifulSoup\n",
    "import requests\n",
    "\n",
    "import re"
   ]
  },
  {
   "cell_type": "markdown",
   "metadata": {},
   "source": [
    "### Síterepek listája"
   ]
  },
  {
   "cell_type": "code",
   "execution_count": 285,
   "metadata": {},
   "outputs": [],
   "source": [
    "url = 'https://sielok.hu/sitereplista/orszag/ausztria/listadizajn/rendabcnov/'\n",
    "page = requests.get(url)\n",
    "soup = BeautifulSoup(page.text)"
   ]
  },
  {
   "cell_type": "code",
   "execution_count": 286,
   "metadata": {},
   "outputs": [],
   "source": [
    "siterepek = {}\n",
    "\n",
    "for i in soup.find_all('tr'):\n",
    "    _td = i.find_all('td')\n",
    "    if (len(_td) != 0) and ('siterep' in _td[2].find('a')['href']):\n",
    "        siterepek[_td[2].text] = 'https://sielok.hu' + _td[2].find('a')['href']"
   ]
  },
  {
   "cell_type": "code",
   "execution_count": 287,
   "metadata": {},
   "outputs": [
    {
     "data": {
      "text/plain": [
       "252"
      ]
     },
     "execution_count": 287,
     "metadata": {},
     "output_type": "execute_result"
    }
   ],
   "source": [
    "len(siterepek)"
   ]
  },
  {
   "cell_type": "code",
   "execution_count": null,
   "metadata": {},
   "outputs": [],
   "source": []
  },
  {
   "cell_type": "markdown",
   "metadata": {},
   "source": [
    "### Síterep infók"
   ]
  },
  {
   "cell_type": "code",
   "execution_count": 288,
   "metadata": {},
   "outputs": [],
   "source": [
    "def siterep_infok(nev):\n",
    "\n",
    "    i_ = siterepek[nev]\n",
    "    page = requests.get(i_)\n",
    "    soup = BeautifulSoup(page.text) \n",
    "    \n",
    "    alap_adatok = soup.find_all('table', class_ = 'tedatable')[0]\n",
    "    alap_adatok_dict = {}\n",
    "\n",
    "    for elem in alap_adatok.tbody.find_all('tr'):\n",
    "        alap_adatok_dict[elem.find('td', class_ = 'tedacol1').text] = elem.find('td', class_ = 'tedacol2').text\n",
    "        \n",
    "        \n",
    "    szin_adatok = soup.find_all('div', class_ = 'terepSzinek2')[0]\n",
    "    szin_adatok_dict = {}\n",
    "    szin_adatok_key_map = {'ski_blue.svg': 'Kék', 'ski_red.svg': 'Piros', 'ski_black.svg': 'Fekete'}\n",
    "\n",
    "    for szin, hossz in zip(szin_adatok.find_all('img'), szin_adatok.find_all('div', class_ = 'terepSzinLabel')):\n",
    "        szin_adatok_dict[szin['src'].split('/')[-1]] =  float(re.sub(\"[^0-9.]\", \"\", hossz.text.replace(',', '.').strip()))\n",
    "\n",
    "    szin_adatok_dict = {szin_adatok_key_map[k]:szin_adatok_dict[k] for k in szin_adatok_dict }\n",
    "\n",
    "\n",
    "    lift_adatok = soup.find_all('div', class_ = 'terepLiftPart')\n",
    "    lift_adatok_dict = {}\n",
    "\n",
    "    for lift in lift_adatok:\n",
    "        lift_adatok_dict[lift.find('img')['title']] = int((lift.text.strip()))\n",
    "\n",
    "    egyeb_adatok = soup.find_all('div', class_ = 'terepInfoPartWrap')\n",
    "    egyeb_adatok_lista = []\n",
    "\n",
    "    for i in egyeb_adatok:\n",
    "        egyeb_adatok_lista.append(i.text.strip().replace('\\xa0', ' '))\n",
    "\n",
    "    szezoneleje = np.nan\n",
    "    szezonveg = np.nan\n",
    "    tavolsag = np.nan\n",
    "    napijegy = np.nan\n",
    "        \n",
    "    for i in egyeb_adatok_lista:   \n",
    "\n",
    "        try: \n",
    "            if 'időszak' in i:\n",
    "                idoszak = i.replace('Síszezon időszaka: ', '').strip()\n",
    "                szezonveg = idoszak.split('–')[1].strip()\n",
    "                szezoneleje = idoszak.split('–')[0].strip()\n",
    "\n",
    "            if 'Budapest' in i:\n",
    "                tavolsag = float(i.replace('Budapest:', '').split('km')[0].strip())\n",
    "\n",
    "            if 'naponta változik' in i:\n",
    "                napijegy = i.replace('\\n', '').replace('EUR', '€').strip()\n",
    "                napijegy = float(napijegy.split('€')[0].replace('A síbérlet ára naponta változik, napijegy max ', '').strip())\n",
    "\n",
    "            elif 'napijegy' in i:\n",
    "                napijegy = i.replace('\\n', '').replace('EUR', '€').strip()\n",
    "                napijegy = float(napijegy.split('€')[0].replace('Felnőtt napijegy: ', '').strip())\n",
    "\n",
    "        except:\n",
    "            continue\n",
    "\n",
    "    adatok = {'Síterep' : nev,\n",
    "    'Link' : i_,\n",
    "    'Régió' : soup.find_all('span', class_ = 'navbarItem')[-1].text.strip(),\n",
    "    'Parkoló' : int(alap_adatok_dict['Magasság'].split('-')[0].strip()),\n",
    "    'Hegytető' : int(re.sub(\"[^0-9]\", \"\", alap_adatok_dict['Magasság'].split('-')[1].strip())),\n",
    "    'Sípályák hossza' : float(re.sub(\"[^0-9.]\", \"\", alap_adatok_dict['Sípályák hossza'].replace(',', '.').strip())),\n",
    "    'Szintkülönbség' : int(re.sub(\"[^0-9]\", \"\", alap_adatok_dict['Szintkülönbség'].strip())),\n",
    "    'Liftek száma' : int(re.sub(\"[^0-9]\", \"\", alap_adatok_dict['Liftek száma'].replace(',', '.').strip())),\n",
    "    'Szezon eleje' : szezoneleje,\n",
    "    'Szezon vége' : szezonveg,\n",
    "    'Távolság Budapesttől' : tavolsag,\n",
    "    'Felnőtt napijegy ára' : napijegy}\n",
    "\n",
    "    adatok.update(lift_adatok_dict)\n",
    "    adatok.update(szin_adatok_dict)\n",
    "\n",
    "    return adatok"
   ]
  },
  {
   "cell_type": "code",
   "execution_count": 289,
   "metadata": {},
   "outputs": [
    {
     "name": "stdout",
     "output_type": "stream",
     "text": [
      "Wall time: 2min 20s\n"
     ]
    }
   ],
   "source": [
    "%%time\n",
    "\n",
    "kihagyhato = []\n",
    "collector = []\n",
    "\n",
    "for i in siterepek.keys():\n",
    "    try:\n",
    "        collector.append(siterep_infok(i))\n",
    "    except:\n",
    "        kihagyhato.append(siterepek[i])"
   ]
  },
  {
   "cell_type": "code",
   "execution_count": 290,
   "metadata": {},
   "outputs": [
    {
     "name": "stdout",
     "output_type": "stream",
     "text": [
      "251\n",
      "1\n"
     ]
    }
   ],
   "source": [
    "print(len(collector))\n",
    "print(len(kihagyhato))"
   ]
  },
  {
   "cell_type": "code",
   "execution_count": null,
   "metadata": {},
   "outputs": [],
   "source": []
  },
  {
   "cell_type": "markdown",
   "metadata": {},
   "source": [
    "### Concat"
   ]
  },
  {
   "cell_type": "code",
   "execution_count": 291,
   "metadata": {},
   "outputs": [
    {
     "name": "stdout",
     "output_type": "stream",
     "text": [
      "(251, 21)\n"
     ]
    }
   ],
   "source": [
    "data = pd.DataFrame(collector)\n",
    "print(data.shape)"
   ]
  },
  {
   "cell_type": "code",
   "execution_count": 292,
   "metadata": {},
   "outputs": [],
   "source": [
    "data['Liftek száma'] = data['Liftek száma'].astype(int)\n",
    "\n",
    "for i in data.filter(like = 'lift').columns:\n",
    "    data[i].fillna(0, inplace = True)\n",
    "    data[i] = data[i].astype(int)\n",
    "\n",
    "data['Vonat'].fillna(0, inplace = True)\n",
    "data['Vonat'] = data['Vonat'].astype(int)\n",
    "\n",
    "data['Kék'].fillna(0, inplace = True)\n",
    "data['Piros'].fillna(0, inplace = True)\n",
    "data['Fekete'].fillna(0, inplace = True)"
   ]
  },
  {
   "cell_type": "code",
   "execution_count": 293,
   "metadata": {},
   "outputs": [
    {
     "data": {
      "text/plain": [
       "Síterep                  0\n",
       "Link                     0\n",
       "Régió                    0\n",
       "Parkoló                  0\n",
       "Hegytető                 0\n",
       "Sípályák hossza          0\n",
       "Szintkülönbség           0\n",
       "Liftek száma             0\n",
       "Szezon eleje            67\n",
       "Szezon vége             67\n",
       "Távolság Budapesttől     3\n",
       "Felnőtt napijegy ára    32\n",
       "Húzólift                 0\n",
       "Kombilift                0\n",
       "Kék                      0\n",
       "Piros                    0\n",
       "Fekete                   0\n",
       "Ülőlift                  0\n",
       "Nagykabinos lift         0\n",
       "Kiskabinos lift          0\n",
       "Vonat                    0\n",
       "dtype: int64"
      ]
     },
     "execution_count": 293,
     "metadata": {},
     "output_type": "execute_result"
    }
   ],
   "source": [
    "data.isnull().sum()"
   ]
  },
  {
   "cell_type": "code",
   "execution_count": 295,
   "metadata": {},
   "outputs": [],
   "source": [
    "for i in ['Sípályák hossza', 'Kék', 'Piros', 'Fekete']:\n",
    "    data.loc[((data['Sípályák hossza'] > 200) & (~data['Síterep'].isin(['Ischgl - Silvretta Arena', \n",
    "                                                                        'Saalbach Hinterglemm Leogang Fieberbrunn',\n",
    "                                                                        'Ski Arlberg - St. Anton - Lech - Zürs - Warth',\n",
    "                                                                        'SkiWelt Wilder Kaiser - Brixental']))), i] = data.loc[data['Sípályák hossza'] > 302, i] / 1000\n",
    "                                                                        \n",
    "data.loc[data['Kék'] > data['Sípályák hossza'], 'Kék'] = data.loc[data['Kék'] > data['Sípályák hossza'], 'Kék'] / 1000\n",
    "data.loc[data['Piros'] > data['Sípályák hossza'], 'Piros'] = data.loc[data['Piros'] > data['Sípályák hossza'], 'Piros'] / 1000\n",
    "data.loc[data['Fekete'] > data['Sípályák hossza'], 'Fekete'] = data.loc[data['Fekete'] > data['Sípályák hossza'], 'Fekete'] / 1000"
   ]
  },
  {
   "cell_type": "code",
   "execution_count": 296,
   "metadata": {},
   "outputs": [],
   "source": [
    "data = data[data['Link'] != 'https://sielok.hu/siterep/wiesen/']\n",
    "data = data[data['Régió'] != 'Ausztria']"
   ]
  },
  {
   "cell_type": "code",
   "execution_count": 297,
   "metadata": {},
   "outputs": [
    {
     "data": {
      "text/html": [
       "<div>\n",
       "<style scoped>\n",
       "    .dataframe tbody tr th:only-of-type {\n",
       "        vertical-align: middle;\n",
       "    }\n",
       "\n",
       "    .dataframe tbody tr th {\n",
       "        vertical-align: top;\n",
       "    }\n",
       "\n",
       "    .dataframe thead th {\n",
       "        text-align: right;\n",
       "    }\n",
       "</style>\n",
       "<table border=\"1\" class=\"dataframe\">\n",
       "  <thead>\n",
       "    <tr style=\"text-align: right;\">\n",
       "      <th></th>\n",
       "      <th>count</th>\n",
       "      <th>mean</th>\n",
       "      <th>std</th>\n",
       "      <th>min</th>\n",
       "      <th>1%</th>\n",
       "      <th>10%</th>\n",
       "      <th>50%</th>\n",
       "      <th>90%</th>\n",
       "      <th>99%</th>\n",
       "      <th>max</th>\n",
       "    </tr>\n",
       "  </thead>\n",
       "  <tbody>\n",
       "    <tr>\n",
       "      <th>Parkoló</th>\n",
       "      <td>249.0</td>\n",
       "      <td>1036.698795</td>\n",
       "      <td>347.184124</td>\n",
       "      <td>421.0</td>\n",
       "      <td>477.32</td>\n",
       "      <td>666.4</td>\n",
       "      <td>980.0</td>\n",
       "      <td>1542.00</td>\n",
       "      <td>2129.840</td>\n",
       "      <td>2685.0</td>\n",
       "    </tr>\n",
       "    <tr>\n",
       "      <th>Hegytető</th>\n",
       "      <td>249.0</td>\n",
       "      <td>1747.100402</td>\n",
       "      <td>561.031483</td>\n",
       "      <td>690.0</td>\n",
       "      <td>767.76</td>\n",
       "      <td>1074.4</td>\n",
       "      <td>1743.0</td>\n",
       "      <td>2490.40</td>\n",
       "      <td>3231.760</td>\n",
       "      <td>3440.0</td>\n",
       "    </tr>\n",
       "    <tr>\n",
       "      <th>Sípályák hossza</th>\n",
       "      <td>249.0</td>\n",
       "      <td>27.948594</td>\n",
       "      <td>43.968401</td>\n",
       "      <td>0.4</td>\n",
       "      <td>0.50</td>\n",
       "      <td>2.0</td>\n",
       "      <td>12.5</td>\n",
       "      <td>65.92</td>\n",
       "      <td>241.600</td>\n",
       "      <td>302.0</td>\n",
       "    </tr>\n",
       "    <tr>\n",
       "      <th>Szintkülönbség</th>\n",
       "      <td>249.0</td>\n",
       "      <td>710.401606</td>\n",
       "      <td>476.104716</td>\n",
       "      <td>37.0</td>\n",
       "      <td>48.96</td>\n",
       "      <td>161.6</td>\n",
       "      <td>622.0</td>\n",
       "      <td>1358.00</td>\n",
       "      <td>1896.000</td>\n",
       "      <td>2261.0</td>\n",
       "    </tr>\n",
       "    <tr>\n",
       "      <th>Liftek száma</th>\n",
       "      <td>249.0</td>\n",
       "      <td>9.293173</td>\n",
       "      <td>12.326146</td>\n",
       "      <td>1.0</td>\n",
       "      <td>1.00</td>\n",
       "      <td>2.0</td>\n",
       "      <td>5.0</td>\n",
       "      <td>20.20</td>\n",
       "      <td>63.760</td>\n",
       "      <td>89.0</td>\n",
       "    </tr>\n",
       "    <tr>\n",
       "      <th>Távolság Budapesttől</th>\n",
       "      <td>246.0</td>\n",
       "      <td>594.353659</td>\n",
       "      <td>176.528245</td>\n",
       "      <td>291.0</td>\n",
       "      <td>298.45</td>\n",
       "      <td>344.5</td>\n",
       "      <td>587.0</td>\n",
       "      <td>838.50</td>\n",
       "      <td>886.550</td>\n",
       "      <td>896.0</td>\n",
       "    </tr>\n",
       "    <tr>\n",
       "      <th>Húzólift</th>\n",
       "      <td>249.0</td>\n",
       "      <td>4.799197</td>\n",
       "      <td>4.609755</td>\n",
       "      <td>0.0</td>\n",
       "      <td>0.48</td>\n",
       "      <td>2.0</td>\n",
       "      <td>4.0</td>\n",
       "      <td>9.00</td>\n",
       "      <td>25.640</td>\n",
       "      <td>33.0</td>\n",
       "    </tr>\n",
       "    <tr>\n",
       "      <th>Kombilift</th>\n",
       "      <td>249.0</td>\n",
       "      <td>0.064257</td>\n",
       "      <td>0.261601</td>\n",
       "      <td>0.0</td>\n",
       "      <td>0.00</td>\n",
       "      <td>0.0</td>\n",
       "      <td>0.0</td>\n",
       "      <td>0.00</td>\n",
       "      <td>1.000</td>\n",
       "      <td>2.0</td>\n",
       "    </tr>\n",
       "    <tr>\n",
       "      <th>Kék</th>\n",
       "      <td>249.0</td>\n",
       "      <td>11.170281</td>\n",
       "      <td>18.600726</td>\n",
       "      <td>0.0</td>\n",
       "      <td>0.00</td>\n",
       "      <td>1.0</td>\n",
       "      <td>5.0</td>\n",
       "      <td>26.36</td>\n",
       "      <td>108.240</td>\n",
       "      <td>140.0</td>\n",
       "    </tr>\n",
       "    <tr>\n",
       "      <th>Piros</th>\n",
       "      <td>249.0</td>\n",
       "      <td>13.353815</td>\n",
       "      <td>21.779972</td>\n",
       "      <td>0.0</td>\n",
       "      <td>0.00</td>\n",
       "      <td>0.5</td>\n",
       "      <td>6.0</td>\n",
       "      <td>34.00</td>\n",
       "      <td>116.160</td>\n",
       "      <td>143.0</td>\n",
       "    </tr>\n",
       "    <tr>\n",
       "      <th>Fekete</th>\n",
       "      <td>249.0</td>\n",
       "      <td>3.424498</td>\n",
       "      <td>6.687416</td>\n",
       "      <td>0.0</td>\n",
       "      <td>0.00</td>\n",
       "      <td>0.0</td>\n",
       "      <td>1.0</td>\n",
       "      <td>9.92</td>\n",
       "      <td>30.032</td>\n",
       "      <td>50.0</td>\n",
       "    </tr>\n",
       "    <tr>\n",
       "      <th>Ülőlift</th>\n",
       "      <td>249.0</td>\n",
       "      <td>2.827309</td>\n",
       "      <td>5.384257</td>\n",
       "      <td>0.0</td>\n",
       "      <td>0.00</td>\n",
       "      <td>0.0</td>\n",
       "      <td>1.0</td>\n",
       "      <td>7.00</td>\n",
       "      <td>26.040</td>\n",
       "      <td>43.0</td>\n",
       "    </tr>\n",
       "    <tr>\n",
       "      <th>Nagykabinos lift</th>\n",
       "      <td>249.0</td>\n",
       "      <td>0.172691</td>\n",
       "      <td>0.573523</td>\n",
       "      <td>0.0</td>\n",
       "      <td>0.00</td>\n",
       "      <td>0.0</td>\n",
       "      <td>0.0</td>\n",
       "      <td>1.00</td>\n",
       "      <td>2.520</td>\n",
       "      <td>5.0</td>\n",
       "    </tr>\n",
       "    <tr>\n",
       "      <th>Kiskabinos lift</th>\n",
       "      <td>249.0</td>\n",
       "      <td>1.377510</td>\n",
       "      <td>3.072061</td>\n",
       "      <td>0.0</td>\n",
       "      <td>0.00</td>\n",
       "      <td>0.0</td>\n",
       "      <td>0.0</td>\n",
       "      <td>4.00</td>\n",
       "      <td>12.040</td>\n",
       "      <td>29.0</td>\n",
       "    </tr>\n",
       "    <tr>\n",
       "      <th>Vonat</th>\n",
       "      <td>249.0</td>\n",
       "      <td>0.044177</td>\n",
       "      <td>0.205901</td>\n",
       "      <td>0.0</td>\n",
       "      <td>0.00</td>\n",
       "      <td>0.0</td>\n",
       "      <td>0.0</td>\n",
       "      <td>0.00</td>\n",
       "      <td>1.000</td>\n",
       "      <td>1.0</td>\n",
       "    </tr>\n",
       "  </tbody>\n",
       "</table>\n",
       "</div>"
      ],
      "text/plain": [
       "                      count         mean         std    min      1%     10%  \\\n",
       "Parkoló               249.0  1036.698795  347.184124  421.0  477.32   666.4   \n",
       "Hegytető              249.0  1747.100402  561.031483  690.0  767.76  1074.4   \n",
       "Sípályák hossza       249.0    27.948594   43.968401    0.4    0.50     2.0   \n",
       "Szintkülönbség        249.0   710.401606  476.104716   37.0   48.96   161.6   \n",
       "Liftek száma          249.0     9.293173   12.326146    1.0    1.00     2.0   \n",
       "Távolság Budapesttől  246.0   594.353659  176.528245  291.0  298.45   344.5   \n",
       "Húzólift              249.0     4.799197    4.609755    0.0    0.48     2.0   \n",
       "Kombilift             249.0     0.064257    0.261601    0.0    0.00     0.0   \n",
       "Kék                   249.0    11.170281   18.600726    0.0    0.00     1.0   \n",
       "Piros                 249.0    13.353815   21.779972    0.0    0.00     0.5   \n",
       "Fekete                249.0     3.424498    6.687416    0.0    0.00     0.0   \n",
       "Ülőlift               249.0     2.827309    5.384257    0.0    0.00     0.0   \n",
       "Nagykabinos lift      249.0     0.172691    0.573523    0.0    0.00     0.0   \n",
       "Kiskabinos lift       249.0     1.377510    3.072061    0.0    0.00     0.0   \n",
       "Vonat                 249.0     0.044177    0.205901    0.0    0.00     0.0   \n",
       "\n",
       "                         50%      90%       99%     max  \n",
       "Parkoló                980.0  1542.00  2129.840  2685.0  \n",
       "Hegytető              1743.0  2490.40  3231.760  3440.0  \n",
       "Sípályák hossza         12.5    65.92   241.600   302.0  \n",
       "Szintkülönbség         622.0  1358.00  1896.000  2261.0  \n",
       "Liftek száma             5.0    20.20    63.760    89.0  \n",
       "Távolság Budapesttől   587.0   838.50   886.550   896.0  \n",
       "Húzólift                 4.0     9.00    25.640    33.0  \n",
       "Kombilift                0.0     0.00     1.000     2.0  \n",
       "Kék                      5.0    26.36   108.240   140.0  \n",
       "Piros                    6.0    34.00   116.160   143.0  \n",
       "Fekete                   1.0     9.92    30.032    50.0  \n",
       "Ülőlift                  1.0     7.00    26.040    43.0  \n",
       "Nagykabinos lift         0.0     1.00     2.520     5.0  \n",
       "Kiskabinos lift          0.0     4.00    12.040    29.0  \n",
       "Vonat                    0.0     0.00     1.000     1.0  "
      ]
     },
     "execution_count": 297,
     "metadata": {},
     "output_type": "execute_result"
    }
   ],
   "source": [
    "data.describe(percentiles = [.01, .1, .9, .99]).T"
   ]
  },
  {
   "cell_type": "code",
   "execution_count": 298,
   "metadata": {},
   "outputs": [
    {
     "data": {
      "text/html": [
       "<div>\n",
       "<style scoped>\n",
       "    .dataframe tbody tr th:only-of-type {\n",
       "        vertical-align: middle;\n",
       "    }\n",
       "\n",
       "    .dataframe tbody tr th {\n",
       "        vertical-align: top;\n",
       "    }\n",
       "\n",
       "    .dataframe thead th {\n",
       "        text-align: right;\n",
       "    }\n",
       "</style>\n",
       "<table border=\"1\" class=\"dataframe\">\n",
       "  <thead>\n",
       "    <tr style=\"text-align: right;\">\n",
       "      <th></th>\n",
       "      <th>count</th>\n",
       "      <th>unique</th>\n",
       "      <th>top</th>\n",
       "      <th>freq</th>\n",
       "    </tr>\n",
       "  </thead>\n",
       "  <tbody>\n",
       "    <tr>\n",
       "      <th>Síterep</th>\n",
       "      <td>249</td>\n",
       "      <td>249</td>\n",
       "      <td>Abtenau im Lammertal - Karkogel</td>\n",
       "      <td>1</td>\n",
       "    </tr>\n",
       "    <tr>\n",
       "      <th>Link</th>\n",
       "      <td>249</td>\n",
       "      <td>249</td>\n",
       "      <td>https://sielok.hu/siterep/abtenau/</td>\n",
       "      <td>1</td>\n",
       "    </tr>\n",
       "    <tr>\n",
       "      <th>Régió</th>\n",
       "      <td>249</td>\n",
       "      <td>18</td>\n",
       "      <td>Tirol</td>\n",
       "      <td>70</td>\n",
       "    </tr>\n",
       "    <tr>\n",
       "      <th>Szezon eleje</th>\n",
       "      <td>184</td>\n",
       "      <td>28</td>\n",
       "      <td>2022.12.17.</td>\n",
       "      <td>40</td>\n",
       "    </tr>\n",
       "    <tr>\n",
       "      <th>Szezon vége</th>\n",
       "      <td>184</td>\n",
       "      <td>20</td>\n",
       "      <td>2023.04.10.</td>\n",
       "      <td>47</td>\n",
       "    </tr>\n",
       "    <tr>\n",
       "      <th>Felnőtt napijegy ára</th>\n",
       "      <td>219.0</td>\n",
       "      <td>85.0</td>\n",
       "      <td>55.0</td>\n",
       "      <td>11.0</td>\n",
       "    </tr>\n",
       "  </tbody>\n",
       "</table>\n",
       "</div>"
      ],
      "text/plain": [
       "                      count unique                                 top  freq\n",
       "Síterep                 249    249     Abtenau im Lammertal - Karkogel     1\n",
       "Link                    249    249  https://sielok.hu/siterep/abtenau/     1\n",
       "Régió                   249     18                               Tirol    70\n",
       "Szezon eleje            184     28                         2022.12.17.    40\n",
       "Szezon vége             184     20                         2023.04.10.    47\n",
       "Felnőtt napijegy ára  219.0   85.0                                55.0  11.0"
      ]
     },
     "execution_count": 298,
     "metadata": {},
     "output_type": "execute_result"
    }
   ],
   "source": [
    "data.describe(include = 'O').T"
   ]
  },
  {
   "cell_type": "code",
   "execution_count": 299,
   "metadata": {},
   "outputs": [],
   "source": [
    "remap_regio = {'Schladming - Dachstein sírégió' : 'Stájerország', 'Gastein sírégió' : 'Salzburg', 'Lungau sírégió' : 'Salzburg', \n",
    "               'Seefeld sírégió' : 'Tirol', 'Lermoos sírégió' : 'Tirol', 'Zillertal 3000 sírégió' : 'Tirol', 'Zell am See - Kaprun sírégió' : 'Salzburg',\n",
    "               'Lienz sírégió' : 'Tirol', 'Pitztal sírégió' : 'Tirol', 'Nauders sírégió' : 'Tirol', 'Berchtesgaden sírégió' : 'Salzburg'}\n",
    "\n",
    "data['Régió'] = data['Régió'].replace(remap_regio)"
   ]
  },
  {
   "cell_type": "code",
   "execution_count": 300,
   "metadata": {},
   "outputs": [
    {
     "data": {
      "text/plain": [
       "Tirol             82\n",
       "Stájerország      48\n",
       "Salzburg          34\n",
       "Vorarlberg        24\n",
       "Karintia          24\n",
       "Alsó-Ausztria     22\n",
       "Felső-Ausztria    15\n",
       "Name: Régió, dtype: int64"
      ]
     },
     "execution_count": 300,
     "metadata": {},
     "output_type": "execute_result"
    }
   ],
   "source": [
    "data['Régió'].value_counts()"
   ]
  },
  {
   "cell_type": "code",
   "execution_count": 301,
   "metadata": {},
   "outputs": [],
   "source": [
    "data.to_csv('data/data.csv', index = False)"
   ]
  },
  {
   "cell_type": "code",
   "execution_count": null,
   "metadata": {},
   "outputs": [],
   "source": []
  }
 ],
 "metadata": {
  "kernelspec": {
   "display_name": "base",
   "language": "python",
   "name": "python3"
  },
  "language_info": {
   "codemirror_mode": {
    "name": "ipython",
    "version": 3
   },
   "file_extension": ".py",
   "mimetype": "text/x-python",
   "name": "python",
   "nbconvert_exporter": "python",
   "pygments_lexer": "ipython3",
   "version": "3.9.7"
  },
  "orig_nbformat": 4,
  "vscode": {
   "interpreter": {
    "hash": "fd5f0602b361fcd80b6e43c9db32d5ff96b182a40640908c77b502a93aa9387e"
   }
  }
 },
 "nbformat": 4,
 "nbformat_minor": 2
}
