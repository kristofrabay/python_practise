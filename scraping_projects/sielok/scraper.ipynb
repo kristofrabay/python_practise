{
 "cells": [
  {
   "cell_type": "code",
   "execution_count": 2,
   "metadata": {},
   "outputs": [
    {
     "name": "stdout",
     "output_type": "stream",
     "text": [
      "Importing the following packages: pandas, numpy, matplotlib, seaborn, plotly, warnings\n"
     ]
    }
   ],
   "source": [
    "import sys \n",
    "sys.path.append('../../')\n",
    "from src.import_packages import *\n",
    "\n",
    "from bs4 import BeautifulSoup\n",
    "import requests"
   ]
  },
  {
   "cell_type": "markdown",
   "metadata": {},
   "source": [
    "### Síterepek listája"
   ]
  },
  {
   "cell_type": "code",
   "execution_count": 3,
   "metadata": {},
   "outputs": [],
   "source": [
    "url = 'https://sielok.hu/sitereplista/orszag/ausztria/listadizajn/rendabcnov/'\n",
    "page = requests.get(url)\n",
    "soup = BeautifulSoup(page.text)"
   ]
  },
  {
   "cell_type": "code",
   "execution_count": 59,
   "metadata": {},
   "outputs": [],
   "source": [
    "siterepek = {}\n",
    "\n",
    "for i in soup.find_all('tr'):\n",
    "    _td = i.find_all('td')\n",
    "    if (len(_td) != 0) and ('siterep' in _td[2].find('a')['href']):\n",
    "        siterepek[_td[2].text] = 'https://sielok.hu' + _td[2].find('a')['href']"
   ]
  },
  {
   "cell_type": "code",
   "execution_count": 60,
   "metadata": {},
   "outputs": [
    {
     "data": {
      "text/plain": [
       "249"
      ]
     },
     "execution_count": 60,
     "metadata": {},
     "output_type": "execute_result"
    }
   ],
   "source": [
    "len(siterepek)"
   ]
  },
  {
   "cell_type": "code",
   "execution_count": null,
   "metadata": {},
   "outputs": [],
   "source": []
  },
  {
   "cell_type": "markdown",
   "metadata": {},
   "source": [
    "### Síterep infók"
   ]
  },
  {
   "cell_type": "code",
   "execution_count": 234,
   "metadata": {},
   "outputs": [],
   "source": [
    "def siterep_infok(nev):\n",
    "\n",
    "    i_ = siterepek[nev]\n",
    "    page = requests.get(i_)\n",
    "    soup = BeautifulSoup(page.text) \n",
    "    \n",
    "    magassag = soup.find_all('div', class_ = 'tdc2 tdc')[0].text.replace('m', '').strip()\n",
    "    hegyteto = int(magassag.split('-')[1].strip())\n",
    "    parkolo = int(magassag.split('-')[0].strip())\n",
    "\n",
    "    sipalyak_hossza = soup.find_all('div', class_ = 'tdc2 tdc')[1].text\n",
    "    sipalyak_hossza = float(sipalyak_hossza.replace('km', '').strip().replace(',', '.'))\n",
    "\n",
    "    szintkulonbseg = soup.find_all('div', class_ = 'tdc4 tdc')[0].text\n",
    "    szintkulonbseg = float(szintkulonbseg.replace('m', '').strip().replace(',', '.'))\n",
    "\n",
    "    liftek_szama = soup.find_all('div', class_ = 'tdc4 tdc')[1].text\n",
    "\n",
    "    liftek = {}\n",
    "    for i in soup.find_all('div', class_ = 'liftIkonPart')[0]:\n",
    "        liftek[i.get('title')] = int(i.text)\n",
    "\n",
    "    szinek = {0 : 'Kék', 1 : 'Piros', 2 : 'Fekete'}\n",
    "    palyak = {}\n",
    "    for enum, i in enumerate(soup.find_all('div', class_ = 'palyaSzinDobWrap')[0]):\n",
    "        i_text = i.text.strip().split(' ')[0].replace(',', '.')\n",
    "        palyak[szinek[enum]] = float(i_text)\n",
    "\n",
    "    if 'Síszezon időszaka' in soup.find_all('div', class_ = 'div32')[0].text:\n",
    "        idoszak = soup.find_all('div', class_ = 'div32')[0].text.strip().replace('Síszezon időszaka: ', '').strip()\n",
    "        szezonveg = idoszak.split('–')[1].strip()\n",
    "        szezoneleje = idoszak.split('–')[0].strip()\n",
    "\n",
    "    else:\n",
    "        szezonveg = np.nan\n",
    "        szezoneleje = np.nan\n",
    "\n",
    "    tavolsag = soup.find_all('div', class_ = 'div32')[2].text.replace('\\xa0', ' ').strip()\n",
    "    tavolsag = float(tavolsag.replace('Budapest:', '').split('km')[0].strip())\n",
    "\n",
    "    napijegy = soup.find_all('div', class_ = 'div32')[3].text.replace('\\xa0', ' ').replace('\\n', '').replace('EUR', '€').strip()\n",
    "    napijegy = float(napijegy.split('€')[0].replace('Felnőtt napijegy: ', '').strip())\n",
    "\n",
    "    regio = np.nan\n",
    "    for enum, i in enumerate(soup.find_all('div', class_ = 'cont')[0]):\n",
    "        if enum == 6:\n",
    "            regio = i.text\n",
    "\n",
    "    adatok = {'Síterep' : nev,\n",
    "    'Link' : i_,\n",
    "    'Régió' : regio,\n",
    "    'Parkoló' : parkolo,\n",
    "    'Hegytető' : hegyteto,\n",
    "    'Sípályák hossza' : sipalyak_hossza,\n",
    "    'Szintkülönbség' : szintkulonbseg,\n",
    "    'Liftek száma' : liftek_szama,\n",
    "    'Szezon eleje' : szezoneleje,\n",
    "    'Szezon vége' : szezonveg,\n",
    "    'Távolság Budapesttől' : tavolsag,\n",
    "    'Felnőtt napijegy ára' : napijegy}\n",
    "\n",
    "    adatok.update(liftek)\n",
    "    adatok.update(palyak)\n",
    "\n",
    "    return adatok"
   ]
  },
  {
   "cell_type": "code",
   "execution_count": 235,
   "metadata": {},
   "outputs": [
    {
     "name": "stdout",
     "output_type": "stream",
     "text": [
      "Wall time: 1min 26s\n"
     ]
    }
   ],
   "source": [
    "%%time\n",
    "\n",
    "kihagyhato = []\n",
    "collector = []\n",
    "\n",
    "for i in siterepek.keys():\n",
    "    try:\n",
    "        collector.append(siterep_infok(i))\n",
    "    except:\n",
    "        kihagyhato.append(siterepek[i])"
   ]
  },
  {
   "cell_type": "code",
   "execution_count": 236,
   "metadata": {},
   "outputs": [
    {
     "name": "stdout",
     "output_type": "stream",
     "text": [
      "215\n",
      "34\n"
     ]
    }
   ],
   "source": [
    "print(len(collector))\n",
    "print(len(kihagyhato))"
   ]
  },
  {
   "cell_type": "code",
   "execution_count": null,
   "metadata": {},
   "outputs": [],
   "source": []
  },
  {
   "cell_type": "markdown",
   "metadata": {},
   "source": [
    "### Concat"
   ]
  },
  {
   "cell_type": "code",
   "execution_count": 270,
   "metadata": {},
   "outputs": [
    {
     "name": "stdout",
     "output_type": "stream",
     "text": [
      "(215, 21)\n"
     ]
    }
   ],
   "source": [
    "data = pd.DataFrame(collector)\n",
    "print(data.shape)"
   ]
  },
  {
   "cell_type": "code",
   "execution_count": 271,
   "metadata": {},
   "outputs": [],
   "source": [
    "data['Liftek száma'] = data['Liftek száma'].astype(int)\n",
    "\n",
    "for i in data.filter(like = 'lift').columns:\n",
    "    data[i].fillna(0, inplace = True)\n",
    "    data[i] = data[i].astype(int)\n",
    "\n",
    "data['Vonat'].fillna(0, inplace = True)\n",
    "data['Vonat'] = data['Vonat'].astype(int)\n",
    "\n",
    "data['Kék'].fillna(0, inplace = True)\n",
    "data['Piros'].fillna(0, inplace = True)\n",
    "data['Fekete'].fillna(0, inplace = True)"
   ]
  },
  {
   "cell_type": "code",
   "execution_count": 272,
   "metadata": {},
   "outputs": [
    {
     "data": {
      "text/plain": [
       "Síterep                  0\n",
       "Link                     0\n",
       "Régió                    0\n",
       "Parkoló                  0\n",
       "Hegytető                 0\n",
       "Sípályák hossza          0\n",
       "Szintkülönbség           0\n",
       "Liftek száma             0\n",
       "Szezon eleje            24\n",
       "Szezon vége             24\n",
       "Távolság Budapesttől     0\n",
       "Felnőtt napijegy ára     0\n",
       "Húzólift                 0\n",
       "Kombilift                0\n",
       "Kék                      0\n",
       "Piros                    0\n",
       "Fekete                   0\n",
       "Ülőlift                  0\n",
       "Kiskabinos lift          0\n",
       "Nagykabinos lift         0\n",
       "Vonat                    0\n",
       "dtype: int64"
      ]
     },
     "execution_count": 272,
     "metadata": {},
     "output_type": "execute_result"
    }
   ],
   "source": [
    "data.isnull().sum()"
   ]
  },
  {
   "cell_type": "code",
   "execution_count": 273,
   "metadata": {},
   "outputs": [],
   "source": [
    "data.loc[data['Kék'] > data['Sípályák hossza'], 'Kék'] = data.loc[data['Kék'] > data['Sípályák hossza'], 'Kék'] / 1000\n",
    "data.loc[data['Piros'] > data['Sípályák hossza'], 'Piros'] = data.loc[data['Piros'] > data['Sípályák hossza'], 'Piros'] / 1000\n",
    "data.loc[data['Fekete'] > data['Sípályák hossza'], 'Fekete'] = data.loc[data['Fekete'] > data['Sípályák hossza'], 'Fekete'] / 1000"
   ]
  },
  {
   "cell_type": "code",
   "execution_count": 274,
   "metadata": {},
   "outputs": [
    {
     "data": {
      "text/html": [
       "<div>\n",
       "<style scoped>\n",
       "    .dataframe tbody tr th:only-of-type {\n",
       "        vertical-align: middle;\n",
       "    }\n",
       "\n",
       "    .dataframe tbody tr th {\n",
       "        vertical-align: top;\n",
       "    }\n",
       "\n",
       "    .dataframe thead th {\n",
       "        text-align: right;\n",
       "    }\n",
       "</style>\n",
       "<table border=\"1\" class=\"dataframe\">\n",
       "  <thead>\n",
       "    <tr style=\"text-align: right;\">\n",
       "      <th></th>\n",
       "      <th>count</th>\n",
       "      <th>mean</th>\n",
       "      <th>std</th>\n",
       "      <th>min</th>\n",
       "      <th>1%</th>\n",
       "      <th>10%</th>\n",
       "      <th>50%</th>\n",
       "      <th>90%</th>\n",
       "      <th>99%</th>\n",
       "      <th>max</th>\n",
       "    </tr>\n",
       "  </thead>\n",
       "  <tbody>\n",
       "    <tr>\n",
       "      <th>Parkoló</th>\n",
       "      <td>215.0</td>\n",
       "      <td>1034.302326</td>\n",
       "      <td>345.447897</td>\n",
       "      <td>421.0</td>\n",
       "      <td>491.10</td>\n",
       "      <td>672.8</td>\n",
       "      <td>980.0</td>\n",
       "      <td>1498.80</td>\n",
       "      <td>2120.32</td>\n",
       "      <td>2685.0</td>\n",
       "    </tr>\n",
       "    <tr>\n",
       "      <th>Hegytető</th>\n",
       "      <td>215.0</td>\n",
       "      <td>1792.730233</td>\n",
       "      <td>544.015953</td>\n",
       "      <td>780.0</td>\n",
       "      <td>828.18</td>\n",
       "      <td>1106.0</td>\n",
       "      <td>1810.0</td>\n",
       "      <td>2475.20</td>\n",
       "      <td>3244.68</td>\n",
       "      <td>3440.0</td>\n",
       "    </tr>\n",
       "    <tr>\n",
       "      <th>Sípályák hossza</th>\n",
       "      <td>215.0</td>\n",
       "      <td>31.289302</td>\n",
       "      <td>46.993363</td>\n",
       "      <td>1.0</td>\n",
       "      <td>1.00</td>\n",
       "      <td>3.0</td>\n",
       "      <td>15.0</td>\n",
       "      <td>73.00</td>\n",
       "      <td>265.66</td>\n",
       "      <td>302.0</td>\n",
       "    </tr>\n",
       "    <tr>\n",
       "      <th>Szintkülönbség</th>\n",
       "      <td>215.0</td>\n",
       "      <td>758.427907</td>\n",
       "      <td>468.307574</td>\n",
       "      <td>37.0</td>\n",
       "      <td>88.52</td>\n",
       "      <td>200.0</td>\n",
       "      <td>700.0</td>\n",
       "      <td>1398.40</td>\n",
       "      <td>1913.00</td>\n",
       "      <td>2261.0</td>\n",
       "    </tr>\n",
       "    <tr>\n",
       "      <th>Liftek száma</th>\n",
       "      <td>215.0</td>\n",
       "      <td>10.246512</td>\n",
       "      <td>13.146538</td>\n",
       "      <td>1.0</td>\n",
       "      <td>1.00</td>\n",
       "      <td>2.0</td>\n",
       "      <td>6.0</td>\n",
       "      <td>21.60</td>\n",
       "      <td>68.18</td>\n",
       "      <td>90.0</td>\n",
       "    </tr>\n",
       "    <tr>\n",
       "      <th>Távolság Budapesttől</th>\n",
       "      <td>215.0</td>\n",
       "      <td>605.558140</td>\n",
       "      <td>174.551535</td>\n",
       "      <td>293.0</td>\n",
       "      <td>298.28</td>\n",
       "      <td>377.8</td>\n",
       "      <td>589.0</td>\n",
       "      <td>841.00</td>\n",
       "      <td>888.72</td>\n",
       "      <td>896.0</td>\n",
       "    </tr>\n",
       "    <tr>\n",
       "      <th>Felnőtt napijegy ára</th>\n",
       "      <td>215.0</td>\n",
       "      <td>40.492558</td>\n",
       "      <td>12.184249</td>\n",
       "      <td>11.0</td>\n",
       "      <td>17.00</td>\n",
       "      <td>23.2</td>\n",
       "      <td>41.0</td>\n",
       "      <td>56.40</td>\n",
       "      <td>61.00</td>\n",
       "      <td>64.0</td>\n",
       "    </tr>\n",
       "    <tr>\n",
       "      <th>Húzólift</th>\n",
       "      <td>215.0</td>\n",
       "      <td>5.200000</td>\n",
       "      <td>4.996447</td>\n",
       "      <td>0.0</td>\n",
       "      <td>1.00</td>\n",
       "      <td>2.0</td>\n",
       "      <td>4.0</td>\n",
       "      <td>9.60</td>\n",
       "      <td>27.16</td>\n",
       "      <td>39.0</td>\n",
       "    </tr>\n",
       "    <tr>\n",
       "      <th>Kombilift</th>\n",
       "      <td>215.0</td>\n",
       "      <td>0.069767</td>\n",
       "      <td>0.273037</td>\n",
       "      <td>0.0</td>\n",
       "      <td>0.00</td>\n",
       "      <td>0.0</td>\n",
       "      <td>0.0</td>\n",
       "      <td>0.00</td>\n",
       "      <td>1.00</td>\n",
       "      <td>2.0</td>\n",
       "    </tr>\n",
       "    <tr>\n",
       "      <th>Kék</th>\n",
       "      <td>215.0</td>\n",
       "      <td>12.528837</td>\n",
       "      <td>19.835638</td>\n",
       "      <td>0.2</td>\n",
       "      <td>0.50</td>\n",
       "      <td>1.5</td>\n",
       "      <td>6.0</td>\n",
       "      <td>28.52</td>\n",
       "      <td>122.64</td>\n",
       "      <td>140.0</td>\n",
       "    </tr>\n",
       "    <tr>\n",
       "      <th>Piros</th>\n",
       "      <td>215.0</td>\n",
       "      <td>14.869302</td>\n",
       "      <td>22.913074</td>\n",
       "      <td>0.0</td>\n",
       "      <td>0.00</td>\n",
       "      <td>1.0</td>\n",
       "      <td>7.0</td>\n",
       "      <td>34.00</td>\n",
       "      <td>119.74</td>\n",
       "      <td>143.0</td>\n",
       "    </tr>\n",
       "    <tr>\n",
       "      <th>Fekete</th>\n",
       "      <td>215.0</td>\n",
       "      <td>3.891163</td>\n",
       "      <td>7.351106</td>\n",
       "      <td>0.0</td>\n",
       "      <td>0.00</td>\n",
       "      <td>0.0</td>\n",
       "      <td>1.5</td>\n",
       "      <td>10.00</td>\n",
       "      <td>34.58</td>\n",
       "      <td>51.0</td>\n",
       "    </tr>\n",
       "    <tr>\n",
       "      <th>Ülőlift</th>\n",
       "      <td>215.0</td>\n",
       "      <td>3.232558</td>\n",
       "      <td>5.707992</td>\n",
       "      <td>0.0</td>\n",
       "      <td>0.00</td>\n",
       "      <td>0.0</td>\n",
       "      <td>1.0</td>\n",
       "      <td>7.60</td>\n",
       "      <td>26.72</td>\n",
       "      <td>43.0</td>\n",
       "    </tr>\n",
       "    <tr>\n",
       "      <th>Kiskabinos lift</th>\n",
       "      <td>215.0</td>\n",
       "      <td>1.516279</td>\n",
       "      <td>3.242312</td>\n",
       "      <td>0.0</td>\n",
       "      <td>0.00</td>\n",
       "      <td>0.0</td>\n",
       "      <td>0.0</td>\n",
       "      <td>4.60</td>\n",
       "      <td>12.72</td>\n",
       "      <td>29.0</td>\n",
       "    </tr>\n",
       "    <tr>\n",
       "      <th>Nagykabinos lift</th>\n",
       "      <td>215.0</td>\n",
       "      <td>0.181395</td>\n",
       "      <td>0.595645</td>\n",
       "      <td>0.0</td>\n",
       "      <td>0.00</td>\n",
       "      <td>0.0</td>\n",
       "      <td>0.0</td>\n",
       "      <td>1.00</td>\n",
       "      <td>2.86</td>\n",
       "      <td>5.0</td>\n",
       "    </tr>\n",
       "    <tr>\n",
       "      <th>Vonat</th>\n",
       "      <td>215.0</td>\n",
       "      <td>0.046512</td>\n",
       "      <td>0.211082</td>\n",
       "      <td>0.0</td>\n",
       "      <td>0.00</td>\n",
       "      <td>0.0</td>\n",
       "      <td>0.0</td>\n",
       "      <td>0.00</td>\n",
       "      <td>1.00</td>\n",
       "      <td>1.0</td>\n",
       "    </tr>\n",
       "  </tbody>\n",
       "</table>\n",
       "</div>"
      ],
      "text/plain": [
       "                      count         mean         std    min      1%     10%  \\\n",
       "Parkoló               215.0  1034.302326  345.447897  421.0  491.10   672.8   \n",
       "Hegytető              215.0  1792.730233  544.015953  780.0  828.18  1106.0   \n",
       "Sípályák hossza       215.0    31.289302   46.993363    1.0    1.00     3.0   \n",
       "Szintkülönbség        215.0   758.427907  468.307574   37.0   88.52   200.0   \n",
       "Liftek száma          215.0    10.246512   13.146538    1.0    1.00     2.0   \n",
       "Távolság Budapesttől  215.0   605.558140  174.551535  293.0  298.28   377.8   \n",
       "Felnőtt napijegy ára  215.0    40.492558   12.184249   11.0   17.00    23.2   \n",
       "Húzólift              215.0     5.200000    4.996447    0.0    1.00     2.0   \n",
       "Kombilift             215.0     0.069767    0.273037    0.0    0.00     0.0   \n",
       "Kék                   215.0    12.528837   19.835638    0.2    0.50     1.5   \n",
       "Piros                 215.0    14.869302   22.913074    0.0    0.00     1.0   \n",
       "Fekete                215.0     3.891163    7.351106    0.0    0.00     0.0   \n",
       "Ülőlift               215.0     3.232558    5.707992    0.0    0.00     0.0   \n",
       "Kiskabinos lift       215.0     1.516279    3.242312    0.0    0.00     0.0   \n",
       "Nagykabinos lift      215.0     0.181395    0.595645    0.0    0.00     0.0   \n",
       "Vonat                 215.0     0.046512    0.211082    0.0    0.00     0.0   \n",
       "\n",
       "                         50%      90%      99%     max  \n",
       "Parkoló                980.0  1498.80  2120.32  2685.0  \n",
       "Hegytető              1810.0  2475.20  3244.68  3440.0  \n",
       "Sípályák hossza         15.0    73.00   265.66   302.0  \n",
       "Szintkülönbség         700.0  1398.40  1913.00  2261.0  \n",
       "Liftek száma             6.0    21.60    68.18    90.0  \n",
       "Távolság Budapesttől   589.0   841.00   888.72   896.0  \n",
       "Felnőtt napijegy ára    41.0    56.40    61.00    64.0  \n",
       "Húzólift                 4.0     9.60    27.16    39.0  \n",
       "Kombilift                0.0     0.00     1.00     2.0  \n",
       "Kék                      6.0    28.52   122.64   140.0  \n",
       "Piros                    7.0    34.00   119.74   143.0  \n",
       "Fekete                   1.5    10.00    34.58    51.0  \n",
       "Ülőlift                  1.0     7.60    26.72    43.0  \n",
       "Kiskabinos lift          0.0     4.60    12.72    29.0  \n",
       "Nagykabinos lift         0.0     1.00     2.86     5.0  \n",
       "Vonat                    0.0     0.00     1.00     1.0  "
      ]
     },
     "execution_count": 274,
     "metadata": {},
     "output_type": "execute_result"
    }
   ],
   "source": [
    "data.describe(percentiles = [.01, .1, .9, .99]).T"
   ]
  },
  {
   "cell_type": "code",
   "execution_count": 275,
   "metadata": {},
   "outputs": [
    {
     "data": {
      "text/html": [
       "<div>\n",
       "<style scoped>\n",
       "    .dataframe tbody tr th:only-of-type {\n",
       "        vertical-align: middle;\n",
       "    }\n",
       "\n",
       "    .dataframe tbody tr th {\n",
       "        vertical-align: top;\n",
       "    }\n",
       "\n",
       "    .dataframe thead th {\n",
       "        text-align: right;\n",
       "    }\n",
       "</style>\n",
       "<table border=\"1\" class=\"dataframe\">\n",
       "  <thead>\n",
       "    <tr style=\"text-align: right;\">\n",
       "      <th></th>\n",
       "      <th>count</th>\n",
       "      <th>unique</th>\n",
       "      <th>top</th>\n",
       "      <th>freq</th>\n",
       "    </tr>\n",
       "  </thead>\n",
       "  <tbody>\n",
       "    <tr>\n",
       "      <th>Síterep</th>\n",
       "      <td>215</td>\n",
       "      <td>215</td>\n",
       "      <td>Venet - Landeck - Zams - Fliess</td>\n",
       "      <td>1</td>\n",
       "    </tr>\n",
       "    <tr>\n",
       "      <th>Link</th>\n",
       "      <td>215</td>\n",
       "      <td>215</td>\n",
       "      <td>https://sielok.hu/siterep/konigsberg/</td>\n",
       "      <td>1</td>\n",
       "    </tr>\n",
       "    <tr>\n",
       "      <th>Régió</th>\n",
       "      <td>215</td>\n",
       "      <td>7</td>\n",
       "      <td>Tirol</td>\n",
       "      <td>76</td>\n",
       "    </tr>\n",
       "    <tr>\n",
       "      <th>Szezon eleje</th>\n",
       "      <td>191</td>\n",
       "      <td>29</td>\n",
       "      <td>2021.12.17.</td>\n",
       "      <td>35</td>\n",
       "    </tr>\n",
       "    <tr>\n",
       "      <th>Szezon vége</th>\n",
       "      <td>191</td>\n",
       "      <td>21</td>\n",
       "      <td>2022.04.18.</td>\n",
       "      <td>43</td>\n",
       "    </tr>\n",
       "  </tbody>\n",
       "</table>\n",
       "</div>"
      ],
      "text/plain": [
       "             count unique                                    top freq\n",
       "Síterep        215    215        Venet - Landeck - Zams - Fliess    1\n",
       "Link           215    215  https://sielok.hu/siterep/konigsberg/    1\n",
       "Régió          215      7                                  Tirol   76\n",
       "Szezon eleje   191     29                            2021.12.17.   35\n",
       "Szezon vége    191     21                            2022.04.18.   43"
      ]
     },
     "execution_count": 275,
     "metadata": {},
     "output_type": "execute_result"
    }
   ],
   "source": [
    "data.describe(include = 'O').T"
   ]
  },
  {
   "cell_type": "code",
   "execution_count": 277,
   "metadata": {},
   "outputs": [
    {
     "data": {
      "text/plain": [
       "Tirol             76\n",
       "Stájerország      35\n",
       "Salzburg          29\n",
       "Vorarlberg        24\n",
       "Karintia          22\n",
       "Alsó-Ausztria     16\n",
       "Felső-Ausztria    13\n",
       "Name: Régió, dtype: int64"
      ]
     },
     "execution_count": 277,
     "metadata": {},
     "output_type": "execute_result"
    }
   ],
   "source": [
    "data['Régió'].value_counts()"
   ]
  },
  {
   "cell_type": "code",
   "execution_count": 278,
   "metadata": {},
   "outputs": [],
   "source": [
    "data.to_csv('data/data.csv', index = False)"
   ]
  },
  {
   "cell_type": "code",
   "execution_count": null,
   "metadata": {},
   "outputs": [],
   "source": []
  }
 ],
 "metadata": {
  "interpreter": {
   "hash": "c1c82bdd170d252fe165a9bec4d731e9ac025b41ad0f7b30ff5fda4e58991de2"
  },
  "kernelspec": {
   "display_name": "Python 3.8.8 64-bit ('base': conda)",
   "language": "python",
   "name": "python3"
  },
  "language_info": {
   "codemirror_mode": {
    "name": "ipython",
    "version": 3
   },
   "file_extension": ".py",
   "mimetype": "text/x-python",
   "name": "python",
   "nbconvert_exporter": "python",
   "pygments_lexer": "ipython3",
   "version": "3.8.8"
  },
  "orig_nbformat": 4
 },
 "nbformat": 4,
 "nbformat_minor": 2
}
