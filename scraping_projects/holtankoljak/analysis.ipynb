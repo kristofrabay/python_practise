{
 "cells": [
  {
   "cell_type": "markdown",
   "metadata": {},
   "source": [
    "## Analysis of holtankoljak.hu station and gas price data"
   ]
  },
  {
   "cell_type": "code",
   "execution_count": 170,
   "metadata": {},
   "outputs": [],
   "source": [
    "import pandas as pd\n",
    "import numpy as np\n",
    "\n",
    "from ast import literal_eval\n",
    "import re\n",
    "\n",
    "import matplotlib.pyplot as plt\n",
    "import seaborn as sns\n",
    "import plotly.express as px\n",
    "\n",
    "import stylecloud\n",
    "from IPython.display import Image, display\n",
    "\n",
    "import warnings\n",
    "warnings.filterwarnings('ignore')\n",
    "\n",
    "def distribution_numerics_sns(data, i):    \n",
    "\n",
    "    plt.figure(figsize = (9, 4))\n",
    "    sns.distplot(data[i], kde = False, bins = 40, \n",
    "                    hist_kws = {'edgecolor' : 'black', 'linewidth' : 1})\n",
    "\n",
    "    plt.title('Distribution of ' + i)\n",
    "    plt.xlabel(None)\n",
    "    plt.ylabel(None)\n",
    "    plt.show() \n",
    "\n",
    "\n",
    "BOXPLOT_PROPS = {\n",
    "    'boxprops':{'edgecolor':'black', 'linewidth' : 1},\n",
    "    'flierprops':{'markerfacecolor':'black', 'markeredgecolor':'darkgray', 'marker' : 'x'},\n",
    "    'medianprops':{'color':'black', 'linewidth' : 1},\n",
    "    'whiskerprops':{'color':'black', 'linewidth' : 1},\n",
    "    'capprops':{'color':'black', 'linewidth' : 1}\n",
    "}\n",
    "   \n",
    "    \n",
    "def boxplot_sns_price_cat(data, x, y):\n",
    "\n",
    "    data[y] = data[y].astype(str)    \n",
    "    order = data.loc[:,[x, y]].groupby([y]).median().sort_index()\n",
    "\n",
    "    plt.figure(figsize = (10, 5))\n",
    "    sns.boxplot(data = data, x = x, y = y, color = 'blue', fliersize = 2, \n",
    "                **BOXPLOT_PROPS, order = order.index)\n",
    "    plt.ylabel('Vételár HUF')\n",
    "    plt.xlabel(None)\n",
    "    plt.xticks(rotation = 90, ha = 'center')\n",
    "    plt.title('Distribution of asking price with regards to ' + y)\n",
    "    plt.show()\n",
    "\n",
    "def scatter_sns(data, x, y):\n",
    "    plt.figure(figsize = (9, 5))\n",
    "    sns.scatterplot(data = data, x = x, y = y, size = 3/4, edgecolor = 'k', linewidth = 1/3, color = 'blue', legend = False)\n",
    "    plt.title('Relationship between ' + x + ' and ' + y)\n",
    "    plt.show() \n",
    "\n",
    "def plot_stations(df, color_by):\n",
    "    \n",
    "    df['size_for_plot'] = 10\n",
    "\n",
    "    fig = px.scatter_mapbox(df, lat = 'LAT', lon = 'LON', hover_name = 'address', \n",
    "                            center = {\"lat\": df['LAT'].mean(), \"lon\": df['LON'].mean()}, \n",
    "                            hover_data = ['link', 'Gázolaj', 'Prémium Gázolaj', '95-ös Benzin E10'], color = color_by,\n",
    "                            title = 'Kutak elhelyezkedése',\n",
    "                            zoom = 6, size_max = 5, size = 'size_for_plot', \n",
    "                            mapbox_style = 'carto-positron', width = 950, height = 750)\n",
    "    fig.show()\n",
    "\n",
    "    df.drop('size_for_plot', 1, inplace = True)\n",
    "    \n",
    "\n",
    "def plot_corr(df, numerics):\n",
    "    \n",
    "    fig, ax = plt.subplots(figsize = (14, 6))\n",
    "    sns.heatmap(df[numerics].corr(), ax = ax, cmap = 'coolwarm', center = 0, \n",
    "                annot = True, fmt = '.2g', annot_kws={'size' : 8})\n",
    "    plt.title('Correlations\\n')\n",
    "    plt.show()"
   ]
  },
  {
   "cell_type": "code",
   "execution_count": 190,
   "metadata": {},
   "outputs": [
    {
     "data": {
      "text/html": [
       "<div>\n",
       "<style scoped>\n",
       "    .dataframe tbody tr th:only-of-type {\n",
       "        vertical-align: middle;\n",
       "    }\n",
       "\n",
       "    .dataframe tbody tr th {\n",
       "        vertical-align: top;\n",
       "    }\n",
       "\n",
       "    .dataframe thead th {\n",
       "        text-align: right;\n",
       "    }\n",
       "</style>\n",
       "<table border=\"1\" class=\"dataframe\">\n",
       "  <thead>\n",
       "    <tr style=\"text-align: right;\">\n",
       "      <th></th>\n",
       "      <th>link</th>\n",
       "      <th>address</th>\n",
       "      <th>geo_location</th>\n",
       "      <th>services</th>\n",
       "      <th>open_hours</th>\n",
       "      <th>prices</th>\n",
       "    </tr>\n",
       "  </thead>\n",
       "  <tbody>\n",
       "    <tr>\n",
       "      <th>0</th>\n",
       "      <td>https://holtankoljak.hu/omv_cece_vasutu2</td>\n",
       "      <td>Cece, Vasút u. 2.</td>\n",
       "      <td>46.77132797,18.62500381</td>\n",
       "      <td>['kávé', ' bankkártya elfogadás', ' WC', ' ker...</td>\n",
       "      <td>['Hétfő:06:00 - 20:00', 'Kedd:06:00 - 20:00', ...</td>\n",
       "      <td>{'Gázolaj': 'Nem ismert', 'Prémium Gázolaj': '...</td>\n",
       "    </tr>\n",
       "    <tr>\n",
       "      <th>1</th>\n",
       "      <td>https://holtankoljak.hu/mol_pecs_versenyutca1</td>\n",
       "      <td>Pécs, Verseny utca 1.</td>\n",
       "      <td>46.06662369,18.23132706</td>\n",
       "      <td>['autópálya-matrica', ' mobiltelefon egyenlegf...</td>\n",
       "      <td>['Hétfő:06:00 - 22:00', 'Kedd:06:00 - 22:00', ...</td>\n",
       "      <td>{'Lpg': '325.9,- Ft', 'Cng': '435.0,- Ft /kg20...</td>\n",
       "    </tr>\n",
       "    <tr>\n",
       "      <th>2</th>\n",
       "      <td>https://holtankoljak.hu/mol_kecskemet_kiskunfe...</td>\n",
       "      <td>Kecskemét, Kiskunfélegyházi út (Szegedi út)</td>\n",
       "      <td>46.88214874,19.70771980</td>\n",
       "      <td>['HU-GO feltöltés', ' kenőolaj', ' UTA-kártya'...</td>\n",
       "      <td>['Hétfő:06:00 - 22:00', 'Kedd:06:00 - 22:00', ...</td>\n",
       "      <td>{'95-ös Benzin E10': '479.9,- Ft', 'Prémium Gá...</td>\n",
       "    </tr>\n",
       "  </tbody>\n",
       "</table>\n",
       "</div>"
      ],
      "text/plain": [
       "                                                link  \\\n",
       "0           https://holtankoljak.hu/omv_cece_vasutu2   \n",
       "1      https://holtankoljak.hu/mol_pecs_versenyutca1   \n",
       "2  https://holtankoljak.hu/mol_kecskemet_kiskunfe...   \n",
       "\n",
       "                                       address             geo_location  \\\n",
       "0                            Cece, Vasút u. 2.  46.77132797,18.62500381   \n",
       "1                        Pécs, Verseny utca 1.  46.06662369,18.23132706   \n",
       "2  Kecskemét, Kiskunfélegyházi út (Szegedi út)  46.88214874,19.70771980   \n",
       "\n",
       "                                            services  \\\n",
       "0  ['kávé', ' bankkártya elfogadás', ' WC', ' ker...   \n",
       "1  ['autópálya-matrica', ' mobiltelefon egyenlegf...   \n",
       "2  ['HU-GO feltöltés', ' kenőolaj', ' UTA-kártya'...   \n",
       "\n",
       "                                          open_hours  \\\n",
       "0  ['Hétfő:06:00 - 20:00', 'Kedd:06:00 - 20:00', ...   \n",
       "1  ['Hétfő:06:00 - 22:00', 'Kedd:06:00 - 22:00', ...   \n",
       "2  ['Hétfő:06:00 - 22:00', 'Kedd:06:00 - 22:00', ...   \n",
       "\n",
       "                                              prices  \n",
       "0  {'Gázolaj': 'Nem ismert', 'Prémium Gázolaj': '...  \n",
       "1  {'Lpg': '325.9,- Ft', 'Cng': '435.0,- Ft /kg20...  \n",
       "2  {'95-ös Benzin E10': '479.9,- Ft', 'Prémium Gá...  "
      ]
     },
     "execution_count": 190,
     "metadata": {},
     "output_type": "execute_result"
    }
   ],
   "source": [
    "data = pd.read_csv('data/scraped_data.csv')\n",
    "data.head(3)"
   ]
  },
  {
   "cell_type": "markdown",
   "metadata": {},
   "source": [
    "### Clean up features"
   ]
  },
  {
   "cell_type": "code",
   "execution_count": 191,
   "metadata": {},
   "outputs": [],
   "source": [
    "### GEO COORDS\n",
    "\n",
    "data[['LAT', 'LON']] = data['geo_location'].str.split(',', expand = True).astype(float)\n",
    "data.drop('geo_location', 1, inplace = True)"
   ]
  },
  {
   "cell_type": "code",
   "execution_count": 192,
   "metadata": {},
   "outputs": [
    {
     "name": "stdout",
     "output_type": "stream",
     "text": [
      "Keeping the following gas types: ['Gázolaj', 'Prémium Gázolaj', '95-ös Benzin E10', 'Prémium Benzin E10', '100-As Benzin E5']\n"
     ]
    }
   ],
   "source": [
    "### PRICES\n",
    "\n",
    "gas_types = pd.json_normalize(data['prices'].apply(eval))\n",
    "gas_types.replace({'Nem ismert' : np.nan}, inplace = True)\n",
    "\n",
    "NaN_count = gas_types.isnull().sum() / gas_types.shape[0]\n",
    "keep_cols = NaN_count[NaN_count <= .75]\n",
    "print('Keeping the following gas types:', keep_cols.index.tolist())\n",
    "\n",
    "gas_types = gas_types[keep_cols.index.tolist()]\n",
    "\n",
    "for i in gas_types.columns:\n",
    "    gas_types[i] = gas_types[i].str.replace(',- Ft', '').astype(float)\n",
    "\n",
    "data = pd.concat([data, gas_types], 1).drop(['prices'], 1)\n",
    "data['Num_of_Gas_Types'] = 5 - gas_types.isnull().sum(axis=1)"
   ]
  },
  {
   "cell_type": "code",
   "execution_count": 195,
   "metadata": {},
   "outputs": [],
   "source": [
    "### OPEN HOURS\n",
    "\n",
    "hours = data['open_hours'].apply(eval).apply(pd.Series)\n",
    "hours.columns = ['Hétfő', 'Kedd', 'Szerda', 'Csütörtök', 'Péntek', 'Szombat', 'Vasárnap']\n",
    "\n",
    "for i in hours.columns:\n",
    "\n",
    "    hours[i] = hours[i]\\\n",
    "                    .str.replace('Hétfő:', '')\\\n",
    "                    .str.replace('Kedd:', '')\\\n",
    "                    .str.replace('Szerda:', '')\\\n",
    "                    .str.replace('Csütörtök:', '')\\\n",
    "                    .str.replace('Péntek:', '')\\\n",
    "                    .str.replace('Szombat:', '')\\\n",
    "                    .str.replace('Vasárnap:', '')\\\n",
    "                    .str.replace('0-24 óráig', '00:00 - 24:00')\\\n",
    "                    .str.replace('00:00 - 23:59', '00:00 - 24:00')\\\n",
    "                    .str.replace('00:00 - 00:00', '00:00 - 24:00')\\\n",
    "                    .str.replace('Zárva', '00:00 - 00:00')\\\n",
    "                    .str.replace('06:00 - 02:00', '06:00 - 26:00')\\\n",
    "                    .str.replace('06:00 - 00:00', '06:00 - 24:00')\n",
    "\n",
    "def calc_hours_open(_time):\n",
    "    \n",
    "    OPEN = _time.split(' - ')[0]\n",
    "    OPEN_CONV = int(OPEN.split(':')[0]) + int(OPEN.split(':')[1]) / 60\n",
    "\n",
    "    CLOSE = _time.split(' - ')[1]\n",
    "    CLOSE_CONV = int(CLOSE.split(':')[0]) + int(CLOSE.split(':')[1]) / 60\n",
    "\n",
    "    HOURS_OPEN = CLOSE_CONV - OPEN_CONV\n",
    "\n",
    "    return HOURS_OPEN\n",
    "\n",
    "for i in hours.columns:\n",
    "    hours[i] = hours[i].apply(lambda x: calc_hours_open(x))\n",
    "\n",
    "data = pd.concat([data, hours], 1).drop(['open_hours'], 1)\n",
    "data = data[data['Hétfő'] != 0]"
   ]
  },
  {
   "cell_type": "code",
   "execution_count": 203,
   "metadata": {},
   "outputs": [
    {
     "data": {
      "text/html": [
       "<div>\n",
       "<style scoped>\n",
       "    .dataframe tbody tr th:only-of-type {\n",
       "        vertical-align: middle;\n",
       "    }\n",
       "\n",
       "    .dataframe tbody tr th {\n",
       "        vertical-align: top;\n",
       "    }\n",
       "\n",
       "    .dataframe thead th {\n",
       "        text-align: right;\n",
       "    }\n",
       "</style>\n",
       "<table border=\"1\" class=\"dataframe\">\n",
       "  <thead>\n",
       "    <tr style=\"text-align: right;\">\n",
       "      <th></th>\n",
       "      <th>count</th>\n",
       "      <th>mean</th>\n",
       "      <th>std</th>\n",
       "      <th>min</th>\n",
       "      <th>10%</th>\n",
       "      <th>25%</th>\n",
       "      <th>50%</th>\n",
       "      <th>75%</th>\n",
       "      <th>90%</th>\n",
       "      <th>max</th>\n",
       "    </tr>\n",
       "  </thead>\n",
       "  <tbody>\n",
       "    <tr>\n",
       "      <th>Hétfő</th>\n",
       "      <td>1304.0</td>\n",
       "      <td>18.378630</td>\n",
       "      <td>4.497326</td>\n",
       "      <td>8.0</td>\n",
       "      <td>14.0</td>\n",
       "      <td>15.0</td>\n",
       "      <td>16.0</td>\n",
       "      <td>24.0</td>\n",
       "      <td>24.0</td>\n",
       "      <td>24.0</td>\n",
       "    </tr>\n",
       "    <tr>\n",
       "      <th>Kedd</th>\n",
       "      <td>1304.0</td>\n",
       "      <td>18.378246</td>\n",
       "      <td>4.497891</td>\n",
       "      <td>8.0</td>\n",
       "      <td>14.0</td>\n",
       "      <td>15.0</td>\n",
       "      <td>16.0</td>\n",
       "      <td>24.0</td>\n",
       "      <td>24.0</td>\n",
       "      <td>24.0</td>\n",
       "    </tr>\n",
       "    <tr>\n",
       "      <th>Szerda</th>\n",
       "      <td>1304.0</td>\n",
       "      <td>18.376789</td>\n",
       "      <td>4.499991</td>\n",
       "      <td>8.0</td>\n",
       "      <td>14.0</td>\n",
       "      <td>15.0</td>\n",
       "      <td>16.0</td>\n",
       "      <td>24.0</td>\n",
       "      <td>24.0</td>\n",
       "      <td>24.0</td>\n",
       "    </tr>\n",
       "    <tr>\n",
       "      <th>Csütörtök</th>\n",
       "      <td>1304.0</td>\n",
       "      <td>18.382157</td>\n",
       "      <td>4.496894</td>\n",
       "      <td>8.0</td>\n",
       "      <td>14.0</td>\n",
       "      <td>15.0</td>\n",
       "      <td>16.0</td>\n",
       "      <td>24.0</td>\n",
       "      <td>24.0</td>\n",
       "      <td>24.0</td>\n",
       "    </tr>\n",
       "    <tr>\n",
       "      <th>Péntek</th>\n",
       "      <td>1304.0</td>\n",
       "      <td>18.371345</td>\n",
       "      <td>4.496675</td>\n",
       "      <td>8.0</td>\n",
       "      <td>14.0</td>\n",
       "      <td>15.0</td>\n",
       "      <td>16.0</td>\n",
       "      <td>24.0</td>\n",
       "      <td>24.0</td>\n",
       "      <td>24.0</td>\n",
       "    </tr>\n",
       "    <tr>\n",
       "      <th>Szombat</th>\n",
       "      <td>1304.0</td>\n",
       "      <td>18.161682</td>\n",
       "      <td>4.871010</td>\n",
       "      <td>0.0</td>\n",
       "      <td>14.0</td>\n",
       "      <td>14.5</td>\n",
       "      <td>16.0</td>\n",
       "      <td>24.0</td>\n",
       "      <td>24.0</td>\n",
       "      <td>24.0</td>\n",
       "    </tr>\n",
       "    <tr>\n",
       "      <th>Vasárnap</th>\n",
       "      <td>1304.0</td>\n",
       "      <td>18.142510</td>\n",
       "      <td>5.185215</td>\n",
       "      <td>0.0</td>\n",
       "      <td>12.0</td>\n",
       "      <td>14.0</td>\n",
       "      <td>16.0</td>\n",
       "      <td>24.0</td>\n",
       "      <td>24.0</td>\n",
       "      <td>24.0</td>\n",
       "    </tr>\n",
       "  </tbody>\n",
       "</table>\n",
       "</div>"
      ],
      "text/plain": [
       "            count       mean       std  min   10%   25%   50%   75%   90%  \\\n",
       "Hétfő      1304.0  18.378630  4.497326  8.0  14.0  15.0  16.0  24.0  24.0   \n",
       "Kedd       1304.0  18.378246  4.497891  8.0  14.0  15.0  16.0  24.0  24.0   \n",
       "Szerda     1304.0  18.376789  4.499991  8.0  14.0  15.0  16.0  24.0  24.0   \n",
       "Csütörtök  1304.0  18.382157  4.496894  8.0  14.0  15.0  16.0  24.0  24.0   \n",
       "Péntek     1304.0  18.371345  4.496675  8.0  14.0  15.0  16.0  24.0  24.0   \n",
       "Szombat    1304.0  18.161682  4.871010  0.0  14.0  14.5  16.0  24.0  24.0   \n",
       "Vasárnap   1304.0  18.142510  5.185215  0.0  12.0  14.0  16.0  24.0  24.0   \n",
       "\n",
       "            max  \n",
       "Hétfő      24.0  \n",
       "Kedd       24.0  \n",
       "Szerda     24.0  \n",
       "Csütörtök  24.0  \n",
       "Péntek     24.0  \n",
       "Szombat    24.0  \n",
       "Vasárnap   24.0  "
      ]
     },
     "execution_count": 203,
     "metadata": {},
     "output_type": "execute_result"
    }
   ],
   "source": [
    "data[hours.columns].describe(percentiles = [.1, .25, .5, .75, .9]).T"
   ]
  },
  {
   "cell_type": "code",
   "execution_count": 209,
   "metadata": {},
   "outputs": [],
   "source": [
    "data['Open_7-24'] = 0\n",
    "data.loc[data[hours.columns].eq(24).all(1), 'Open_7-24'] = 1"
   ]
  },
  {
   "cell_type": "code",
   "execution_count": 214,
   "metadata": {},
   "outputs": [],
   "source": [
    "### LINK\n",
    "\n",
    "brands = pd.DataFrame(data['link'].str.replace('https://holtankoljak.hu/', '').str.split('_', expand = True)[0])\n",
    "\n",
    "brand_mapper = {'mobil' : 'mobil-petrol', 'mol-partner' : 'mol', 'oil' : 'oil!'}\n",
    "brands[0].replace(brand_mapper, inplace = True)\n",
    "\n",
    "brand_keep = brands[0].value_counts().head(10).index.tolist()\n",
    "brands.loc[~brands[0].isin(brand_keep), 0] = 'magan'\n",
    "brands.columns = ['brand']\n",
    "\n",
    "data = pd.concat([data, brands], 1)"
   ]
  },
  {
   "cell_type": "code",
   "execution_count": 215,
   "metadata": {},
   "outputs": [],
   "source": [
    "### BUDAPEST or NOT\n",
    "\n",
    "data['Budapest'] = 0\n",
    "data.loc[data['link'].str.contains('budap'), 'Budapest'] = 1\n",
    "#data.drop('link', 1, inplace = True)"
   ]
  },
  {
   "cell_type": "code",
   "execution_count": 216,
   "metadata": {},
   "outputs": [],
   "source": [
    "### AUTOPALYA or not\n",
    "\n",
    "data['Highway'] = 0\n",
    "data.loc[(data['address'].str.lower().str.contains('km')) | \n",
    "          (data['address'].str.lower().str.contains('autópálya')) | \n",
    "          (data['address'].str.lower().str.contains('m1|m2|m2|m4|m5|m6|m7')), 'Highway'] = 1\n",
    "#data.drop('address', 1, inplace = True)"
   ]
  },
  {
   "cell_type": "code",
   "execution_count": 217,
   "metadata": {},
   "outputs": [
    {
     "name": "stdout",
     "output_type": "stream",
     "text": [
      "Number of total unique services available: 48\n"
     ]
    }
   ],
   "source": [
    "### SERVICES\n",
    "\n",
    "data['Num_of_Services'] = data['services'].apply(eval).apply(lambda x: len(set(x)))\n",
    "all_services = data['services'].apply(eval).apply(lambda x: [i.strip() for i in x if i != '']).tolist()\n",
    "\n",
    "all_services_flat = [item for sublist in all_services for item in sublist]\n",
    "all_services_set = list(set(all_services_flat))\n",
    "\n",
    "print('Number of total unique services available:', len(all_services_set))"
   ]
  },
  {
   "cell_type": "code",
   "execution_count": 10,
   "metadata": {},
   "outputs": [
    {
     "data": {
      "image/png": "[encoded data removed]",
      "text/plain": [
       "<IPython.core.display.Image object>"
      ]
     },
     "metadata": {
      "image/png": {
       "width": 450
      }
     },
     "output_type": "display_data"
    }
   ],
   "source": [
    "wc_data = ' '.join([i.replace(' ', '') for i in all_services_flat])\n",
    "\n",
    "stylecloud.gen_stylecloud(wc_data, max_words = 750, max_font_size = 350, icon_name = 'fas fa-circle',\n",
    "                          output_name = 'data/services.png', collocations = False)\n",
    "\n",
    "display(Image(filename = 'data/services.png', width = 450))"
   ]
  },
  {
   "cell_type": "markdown",
   "metadata": {},
   "source": [
    "## Distributions"
   ]
  },
  {
   "cell_type": "code",
   "execution_count": 148,
   "metadata": {},
   "outputs": [
    {
     "data": {
      "application/vnd.plotly.v1+json": {
       "config": {
        "plotlyServerURL": "https://plot.ly"
       },
       "data": [
        {
         "customdata": [
          [
           "https://holtankoljak.hu/omv_cece_vasutu2",
           null,
           null,
           null
          ],
          [
           "https://holtankoljak.hu/omv_szeged_makkoshazikrt1",
           479.9,
           null,
           479.9
          ],
          [
           "https://holtankoljak.hu/omv_bekescsaba_szarvasiut16-18",
           479.9,
           529.9,
           479.9
          ],
          [
           "https://holtankoljak.hu/omv_kormend_rakocziut868keresztezodese",
           479.9,
           529.9,
           479.9
          ],
          [
           "https://holtankoljak.hu/omv_hajdunanas_dorogiutvege",
           479.9,
           529.9,
           479.9
          ],
          [
           "https://holtankoljak.hu/omv_budapest_ix_gyaliut30",
           479.9,
           529.9,
           479.9
          ],
          [
           "https://holtankoljak.hu/omv_miskolc_buzater16",
           479.9,
           529.9,
           479.9
          ],
          [
           "https://holtankoljak.hu/omv_pecs_siklosiut45",
           479.9,
           529.9,
           479.9
          ],
          [
           "https://holtankoljak.hu/omv_budapest_xiv_hungariakrt175-177",
           479.9,
           529.9,
           479.9
          ],
          [
           "https://holtankoljak.hu/omv_paks_6szfout110km",
           479.9,
           529.9,
           479.9
          ],
          [
           "https://holtankoljak.hu/omv_tompa_kulterulet035628",
           479.9,
           529.9,
           479.9
          ],
          [
           "https://holtankoljak.hu/omv_veszprem_budapestiut12",
           479.9,
           529.9,
           479.9
          ],
          [
           "https://holtankoljak.hu/omv_maglod_jaszberenyiut",
           479.9,
           529.9,
           479.9
          ],
          [
           "https://holtankoljak.hu/omv_szombathely_csabaiut15",
           479.9,
           529.9,
           479.9
          ],
          [
           "https://holtankoljak.hu/omv_budapest_xi_balatoniutm1m775617hrsz",
           479.9,
           529.9,
           479.9
          ],
          [
           "https://holtankoljak.hu/omv_val_m7kajaszovalidel",
           479.9,
           539.9,
           479.9
          ],
          [
           "https://holtankoljak.hu/omv_budapest_xvii_cinkotaiut51",
           479.9,
           529.9,
           479.9
          ],
          [
           "https://holtankoljak.hu/omv_albertirsa_4szfout51-52km",
           479.9,
           null,
           479.9
          ],
          [
           "https://holtankoljak.hu/omv_nyiregyhaza_tiszavasvariu39",
           479.9,
           529.9,
           479.9
          ],
          [
           "https://holtankoljak.hu/omv_budapest_x_maglodiut-jaszberenyiutsarok",
           479.9,
           529.9,
           479.9
          ],
          [
           "https://holtankoljak.hu/omv_szirmabesenyo_011919hrsz",
           479.9,
           529.9,
           479.9
          ],
          [
           "https://holtankoljak.hu/omv_budapest_ii_huvosvolgyiut118",
           479.9,
           529.9,
           479.9
          ],
          [
           "https://holtankoljak.hu/omv_budapest_ii_szilagyierzsebetfasor51",
           479.9,
           529.9,
           479.9
          ],
          [
           "https://holtankoljak.hu/omv_budapest_xi_irinyiut34-36",
           479.9,
           529.9,
           479.9
          ],
          [
           "https://holtankoljak.hu/omv_siofok_vakbottyanu1",
           479.9,
           529.9,
           479.9
          ],
          [
           "https://holtankoljak.hu/omv_koszeg_szombathelyiut2",
           479.9,
           529.9,
           479.9
          ],
          [
           "https://holtankoljak.hu/omv_nagykoros_ceglediut256",
           479.9,
           529.9,
           479.9
          ],
          [
           "https://holtankoljak.hu/omv_mindszent_napkeletutca3b",
           479.9,
           529.9,
           479.9
          ],
          [
           "https://holtankoljak.hu/omv_budapest_xi_budaorsiut112",
           479.9,
           529.9,
           479.9
          ],
          [
           "https://holtankoljak.hu/omv_kecskemet_ezustfenyou1",
           null,
           529.9,
           null
          ],
          [
           "https://holtankoljak.hu/omv_szekszard_tartsayut8",
           479.9,
           529.9,
           479.9
          ],
          [
           "https://holtankoljak.hu/omv_budapest_viii_barossu5kalvinter",
           479.9,
           529.9,
           479.9
          ],
          [
           "https://holtankoljak.hu/omv_nyekladhaza_violau1821",
           479.9,
           529.9,
           479.9
          ],
          [
           "https://holtankoljak.hu/omv_debrecen_furediut27",
           479.9,
           529.9,
           479.9
          ],
          [
           "https://holtankoljak.hu/omv_miskolc_soltesznagykalmanu175jobb",
           479.9,
           529.9,
           479.9
          ],
          [
           "https://holtankoljak.hu/omv_nagykanizsa_hevesisandoru5",
           479.9,
           529.9,
           479.9
          ],
          [
           "https://holtankoljak.hu/omv_kisber_81szfout",
           479.9,
           529.9,
           479.9
          ],
          [
           "https://holtankoljak.hu/omv_debrecen_kassaiut92",
           479.9,
           529.9,
           479.9
          ],
          [
           "https://holtankoljak.hu/omv_babolna_babolna-concopihenodelm1autopalya39kmszbal",
           479.9,
           539.9,
           479.9
          ],
          [
           "https://holtankoljak.hu/omv_ajka_petofiu",
           479.9,
           529.9,
           479.9
          ],
          [
           "https://holtankoljak.hu/omv_budapest_xiv_fogarasiut56a",
           479.9,
           529.9,
           479.9
          ],
          [
           "https://holtankoljak.hu/omv_cegled_jaszberenyiu082530",
           479.9,
           529.9,
           479.9
          ],
          [
           "https://holtankoljak.hu/omv_gyor_szentistvanut",
           479.9,
           529.9,
           479.9
          ],
          [
           "https://holtankoljak.hu/omv_keszthely_csapasu25053",
           479.9,
           null,
           479.9
          ],
          [
           "https://holtankoljak.hu/omv_szekesfehervar_balatoniut6111hrsz",
           479.9,
           529.9,
           479.9
          ],
          [
           "https://holtankoljak.hu/omv_budapest_ix_hatarut-soroksariutsarok",
           479.9,
           529.9,
           479.9
          ],
          [
           "https://holtankoljak.hu/omv_budapest_xxii_hajoutarteru5",
           479.9,
           529.9,
           479.9
          ],
          [
           "https://holtankoljak.hu/omv_hegyfalu_8486-osfoutakkeresztezodese",
           479.9,
           529.9,
           479.9
          ],
          [
           "https://holtankoljak.hu/omv_torokbalint_m0korgyuru6km",
           479.9,
           529.9,
           479.9
          ],
          [
           "https://holtankoljak.hu/omv_biatorbagy_kossuthlajosu1a",
           480,
           529.9,
           480
          ],
          [
           "https://holtankoljak.hu/omv_dunaharaszti_nemediusarok51szfout",
           479.9,
           529.9,
           479.9
          ],
          [
           "https://holtankoljak.hu/omv_dunaujvaros_dozsagyorgyut",
           479.9,
           529.9,
           479.9
          ],
          [
           "https://holtankoljak.hu/omv_sopron_csengeryu93",
           479.9,
           529.9,
           479.9
          ],
          [
           "https://holtankoljak.hu/omv_kapuvar_petofimajor",
           479.9,
           529.9,
           479.9
          ],
          [
           "https://holtankoljak.hu/omv_szigetszentmiklos_gyariut3237hrsz",
           479.9,
           529.9,
           479.9
          ],
          [
           "https://holtankoljak.hu/omv_urom_becsiu2",
           479.9,
           529.9,
           479.9
          ],
          [
           "https://holtankoljak.hu/omv_debrecen_istvanut137",
           479.9,
           529.9,
           479.9
          ],
          [
           "https://holtankoljak.hu/omv_eger_sasut-matyaskiralyu2",
           479.9,
           529.9,
           479.9
          ],
          [
           "https://holtankoljak.hu/omv_budapest_iv_vaciut16",
           479.9,
           529.9,
           479.9
          ],
          [
           "https://holtankoljak.hu/omv_zsambek_herceghalmiut",
           479.9,
           529.9,
           479.9
          ],
          [
           "https://holtankoljak.hu/omv_kistarcsa_szabadsagu56",
           479.9,
           529.9,
           479.9
          ],
          [
           "https://holtankoljak.hu/omv_budapest_xiii_vaciut95",
           479.9,
           529.9,
           479.9
          ],
          [
           "https://holtankoljak.hu/omv_szekesfehervar_budaiut169",
           479.9,
           529.9,
           479.9
          ],
          [
           "https://holtankoljak.hu/omv_budapest_ix_ulloiut137",
           479.9,
           529.9,
           479.9
          ],
          [
           "https://holtankoljak.hu/omv_szentendre_11szfout17km",
           479.9,
           529.9,
           479.9
          ],
          [
           "https://holtankoljak.hu/omv_mateszalka_jarmiut20",
           479.9,
           529.9,
           479.9
          ],
          [
           "https://holtankoljak.hu/omv_fot_szabodezsou2b",
           479.9,
           529.9,
           479.9
          ],
          [
           "https://holtankoljak.hu/omv_bataszek_m6autopalya166kmhrsz120118jobb",
           479.9,
           539.9,
           479.9
          ],
          [
           "https://holtankoljak.hu/omv_sarbogard_adyendreu3",
           479.9,
           529.9,
           479.9
          ],
          [
           "https://holtankoljak.hu/omv_gyor_papaiut771",
           479.9,
           529.9,
           479.9
          ],
          [
           "https://holtankoljak.hu/omv_salgotarjan_rakocziut182",
           479.9,
           529.9,
           479.9
          ],
          [
           "https://holtankoljak.hu/omv_csongrad_foutca65",
           479.9,
           529.9,
           479.9
          ],
          [
           "https://holtankoljak.hu/omv_budapest_xvii_pestiut18",
           null,
           null,
           null
          ],
          [
           "https://holtankoljak.hu/omv_szolnok_thokolyudravau42",
           479.9,
           529.9,
           479.9
          ],
          [
           "https://holtankoljak.hu/omv_budapest_robertkarolykrt64-66",
           479.9,
           529.9,
           479.9
          ],
          [
           "https://holtankoljak.hu/omv_balatonfuzfo_arpadutca1",
           479.9,
           529.9,
           479.9
          ],
          [
           "https://holtankoljak.hu/omv_zalaszentgrot_koppanyiut5erzsebetligetutca5",
           479.9,
           529.9,
           479.9
          ],
          [
           "https://holtankoljak.hu/omv_veresegyhaz_fou22",
           479.9,
           529.9,
           479.9
          ],
          [
           "https://holtankoljak.hu/omv_budapest_xiv_tengerszemu61-67",
           479.9,
           529.9,
           479.9
          ],
          [
           "https://holtankoljak.hu/omv_budapest_x_korosicsomasandorut",
           479.9,
           529.9,
           479.9
          ],
          [
           "https://holtankoljak.hu/omv_kocsola_61szfoutesdombovariukeresztezodes",
           479.9,
           529.9,
           479.9
          ],
          [
           "https://holtankoljak.hu/omv_babolna_babolna-concopihenoeszakm1autopalya93kmsz",
           479.9,
           539.9,
           479.9
          ],
          [
           "https://holtankoljak.hu/omv_szekesfehervar_kadocsaut86",
           479.9,
           529.9,
           479.9
          ],
          [
           "https://holtankoljak.hu/omv_budapest_iii_szentendreiut-czetzjusarok",
           479.9,
           529.9,
           479.9
          ],
          [
           "https://holtankoljak.hu/omv_kalocsa_batyaiut83",
           479.9,
           529.9,
           479.9
          ],
          [
           "https://holtankoljak.hu/omv_hodmezovasarhely_kutasiut17",
           479.9,
           529.9,
           479.9
          ],
          [
           "https://holtankoljak.hu/omv_budapest_x_kerepesiut73",
           479.9,
           529.9,
           479.9
          ],
          [
           "https://holtankoljak.hu/omv_nagyrede_hrsz02373",
           479.9,
           529.9,
           479.9
          ],
          [
           "https://holtankoljak.hu/omv_bag_dozsagyorgyut2",
           479.9,
           529.9,
           479.9
          ],
          [
           "https://holtankoljak.hu/omv_revfulop_badacsonyiut71szamufout",
           479.9,
           529.9,
           479.9
          ],
          [
           "https://holtankoljak.hu/omv_gyorujbarat_gyor",
           479.9,
           529.9,
           479.9
          ],
          [
           "https://holtankoljak.hu/omv_vac_godolloiut1",
           479.9,
           529.9,
           479.9
          ],
          [
           "https://holtankoljak.hu/omv_roszke_m5autopalya011225hrsz172km",
           479.9,
           539.9,
           479.9
          ],
          [
           "https://holtankoljak.hu/omv_domsod_tassiut16",
           479.9,
           529.9,
           479.9
          ],
          [
           "https://holtankoljak.hu/omv_budapest_iv_vaciut77-megyeriutsarok",
           479.9,
           529.9,
           479.9
          ],
          [
           "https://holtankoljak.hu/omv_nyiregyhaza_kertu47",
           479.9,
           529.9,
           479.9
          ],
          [
           "https://holtankoljak.hu/omv_pecs_zsolnayut50",
           479.9,
           529.9,
           479.9
          ],
          [
           "https://holtankoljak.hu/omv_val_m7kajaszovalieszak",
           479.9,
           539.9,
           479.9
          ],
          [
           "https://holtankoljak.hu/omv_gyomaendrod_fout1331",
           479.9,
           529.9,
           479.9
          ],
          [
           "https://holtankoljak.hu/omv_veszprem_aradivertanukutja",
           479.9,
           529.9,
           479.9
          ],
          [
           "https://holtankoljak.hu/omv_budapest_xiv_kacsohpongracut131",
           479.9,
           529.9,
           479.9
          ],
          [
           "https://holtankoljak.hu/omv_alsonemedi_alsonemedi5szfout",
           479.9,
           529.9,
           479.9
          ],
          [
           "https://holtankoljak.hu/omv_nagykanizsa_viragbenedeku4",
           479.9,
           529.9,
           479.9
          ],
          [
           "https://holtankoljak.hu/omv_budapest_xv_szechenyiter1",
           479.9,
           529.9,
           479.9
          ],
          [
           "https://holtankoljak.hu/omv_vecses_gyaliut20-22",
           479.9,
           529.9,
           479.9
          ],
          [
           "https://holtankoljak.hu/omv_tata_1szautout04198",
           479.9,
           529.9,
           479.9
          ],
          [
           "https://holtankoljak.hu/omv_dunaujvaros_aranyvolgyiut-magyaru",
           479.9,
           529.9,
           479.9
          ],
          [
           "https://holtankoljak.hu/omv_roszke_011260hrsz172kmm5nyugat",
           479.9,
           539.9,
           479.9
          ],
          [
           "https://holtankoljak.hu/omv_zalaegerszeg_gocsejiut26",
           479.9,
           529.9,
           479.9
          ],
          [
           "https://holtankoljak.hu/omv_ozd_brassoiut586314hrsz",
           479.9,
           529.9,
           479.9
          ],
          [
           "https://holtankoljak.hu/omv_budapest_ii_tolgyfau1-3",
           479.9,
           529.9,
           479.9
          ],
          [
           "https://holtankoljak.hu/omv_inarcs_m5autopalya82kmszbal",
           479.9,
           539.9,
           479.9
          ],
          [
           "https://holtankoljak.hu/omv_budapest_xi_peterhegyiut66-68",
           479.9,
           529.9,
           479.9
          ],
          [
           "https://holtankoljak.hu/omv_budapest_xviii_alacskaiut1",
           479.9,
           529.9,
           479.9
          ],
          [
           "https://holtankoljak.hu/omv_dunaujvaros_dunaujvaros-keletm6autopalya70kmszjobb",
           479.9,
           539.9,
           479.9
          ],
          [
           "https://holtankoljak.hu/omv_dorog_becsiut-csolnokiutsarokhrsz02798",
           479.9,
           529.9,
           479.9
          ],
          [
           "https://holtankoljak.hu/omv_bekescsaba_szarvasiut103",
           479.9,
           529.9,
           479.9
          ],
          [
           "https://holtankoljak.hu/omv_miskolc_testvervarosokutja2a",
           479.9,
           529.9,
           479.9
          ],
          [
           "https://holtankoljak.hu/omv_budapest_xv_szentmihalyiut131",
           479.9,
           529.9,
           479.9
          ],
          [
           "https://holtankoljak.hu/omv_karacsond_m3karacsonddel",
           479.9,
           539.9,
           479.9
          ],
          [
           "https://holtankoljak.hu/omv_budapest_iii_kiralyokutja178",
           479.9,
           529.9,
           479.9
          ],
          [
           "https://holtankoljak.hu/omv_budapest_xiv_hungariakrt116-118",
           479.9,
           529.9,
           479.9
          ],
          [
           "https://holtankoljak.hu/omv_dunafoldvar_paksiut125a",
           480,
           529,
           480
          ],
          [
           "https://holtankoljak.hu/omv_szeged_dorozsmaiut1",
           479.9,
           529.9,
           479.9
          ],
          [
           "https://holtankoljak.hu/omv_erd_6szfoutjobb23km",
           479.9,
           529.9,
           479.9
          ],
          [
           "https://holtankoljak.hu/omv_miskolc_kandok-kisstsarok-kilianltp",
           479.9,
           529.9,
           479.9
          ],
          [
           "https://holtankoljak.hu/omv_budapest_xvi_szlovakut-csomoriutsarok",
           479.9,
           529.9,
           479.9
          ],
          [
           "https://holtankoljak.hu/omv_budapest_vedgatutca47",
           479.9,
           529.9,
           479.9
          ],
          [
           "https://holtankoljak.hu/omv_veszprem_kulso-kadartaiu2",
           479.9,
           529.9,
           479.9
          ],
          [
           "https://holtankoljak.hu/omv_nyiregyhaza_debreceniut99",
           479.9,
           529.9,
           479.9
          ],
          [
           "https://holtankoljak.hu/omv_budapest_xvi_szabadfoldiut1",
           479.9,
           529.9,
           479.9
          ],
          [
           "https://holtankoljak.hu/omv_budapest_ix_mesteru89",
           479.9,
           529.9,
           479.9
          ],
          [
           "https://holtankoljak.hu/omv_budapest_xviii_haladasutca-radayutsarok",
           479.9,
           529.9,
           479.9
          ],
          [
           "https://holtankoljak.hu/omv_obarok_m143kmbal",
           479.9,
           529.9,
           479.9
          ],
          [
           "https://holtankoljak.hu/omv_szekesfehervar_lovoldeutbudaiut39",
           479.9,
           529.9,
           479.9
          ],
          [
           "https://holtankoljak.hu/omv_mosonmagyarovar_kossuthlajosu69",
           479.9,
           529.9,
           479.9
          ],
          [
           "https://holtankoljak.hu/omv_obarok_m143kmjobb",
           479.9,
           529.9,
           479.9
          ],
          [
           "https://holtankoljak.hu/omv_tatabanya_sagvariut-karolyimihalyu2",
           479.9,
           529.9,
           479.9
          ],
          [
           "https://holtankoljak.hu/omv_budapest_xx_nagykorosiut185",
           479.9,
           529.9,
           479.9
          ],
          [
           "https://holtankoljak.hu/omv_janossomorja_86szfout016836hrsz",
           479.9,
           null,
           479.9
          ],
          [
           "https://holtankoljak.hu/omv_retsag_pusztaszantoiut1",
           479.9,
           529.9,
           479.9
          ],
          [
           "https://holtankoljak.hu/omv_turkeve_2412hrsz",
           479.9,
           529.9,
           479.9
          ],
          [
           "https://holtankoljak.hu/omv_szombathely_rumiut",
           479.9,
           529.9,
           479.9
          ],
          [
           "https://holtankoljak.hu/omv_budapest_x_ulloiut110-112",
           479.9,
           529.9,
           479.9
          ],
          [
           "https://holtankoljak.hu/omv_erd_6szfoutbal23km",
           479.9,
           529.9,
           479.9
          ],
          [
           "https://holtankoljak.hu/omv_kiskoros_dozsagyorgyut47",
           479.9,
           529.9,
           479.9
          ],
          [
           "https://holtankoljak.hu/omv_balatonlelle_7szfout138km",
           479.9,
           529.9,
           479.9
          ],
          [
           "https://holtankoljak.hu/omv_szolnok_thokolyut91",
           479.9,
           529.9,
           479.9
          ],
          [
           "https://holtankoljak.hu/omv_szigetszentmiklos_m019km",
           479.9,
           529.9,
           479.9
          ],
          [
           "https://holtankoljak.hu/omv_budapest_xxi_iirakocziferencut189",
           479.9,
           529.9,
           479.9
          ],
          [
           "https://holtankoljak.hu/omv_gyor_iparut99",
           479.9,
           529.9,
           479.9
          ],
          [
           "https://holtankoljak.hu/omv_budapest_viii_kerepesiut22",
           479.9,
           529.9,
           479.9
          ],
          [
           "https://holtankoljak.hu/omv_budapest_viii_telekiter",
           479.9,
           529.9,
           479.9
          ],
          [
           "https://holtankoljak.hu/omv_budapest_xi_fehervariut166",
           479.9,
           529.9,
           479.9
          ],
          [
           "https://holtankoljak.hu/omv_bataszek_m6autopalya166kmhrsz120118bal",
           479.9,
           539.9,
           479.9
          ],
          [
           "https://holtankoljak.hu/omv_ullo_pestiut1",
           479.9,
           529.9,
           479.9
          ],
          [
           "https://holtankoljak.hu/omv_szombathely_kormendiut92",
           479.9,
           529.9,
           479.9
          ],
          [
           "https://holtankoljak.hu/omv_szekesfehervar_donathut",
           479.9,
           529.9,
           479.9
          ],
          [
           "https://holtankoljak.hu/omv_budapest_xxiii_nagykorosiut349",
           479.9,
           529.9,
           479.9
          ],
          [
           "https://holtankoljak.hu/omv_eger_matyaskiralyut134",
           479.9,
           529.9,
           479.9
          ],
          [
           "https://holtankoljak.hu/omv_budapest_xi_budafokiut111",
           479.9,
           529.9,
           479.9
          ],
          [
           "https://holtankoljak.hu/omv_budapest_xxiii_harasztiut32a",
           479.9,
           529.9,
           479.9
          ],
          [
           "https://holtankoljak.hu/omv_kecskemet_budaiut",
           479.9,
           529.9,
           479.9
          ],
          [
           "https://holtankoljak.hu/omv_budapest_xv_alkotmanyut14-20",
           479.9,
           529.9,
           479.9
          ],
          [
           "https://holtankoljak.hu/omv_inarcs_m5autopalya82kmszjobb",
           479.9,
           539.9,
           479.9
          ],
          [
           "https://holtankoljak.hu/omv_esztergom_kertvarosdobogokoiut-kesztolciutsarok",
           479.9,
           529.9,
           479.9
          ],
          [
           "https://holtankoljak.hu/omv_kecskemet_dunafoldvariut4",
           479.9,
           529.9,
           479.9
          ],
          [
           "https://holtankoljak.hu/omv_sopron_lacknerkristofu29",
           479.9,
           529.9,
           479.9
          ],
          [
           "https://holtankoljak.hu/omv_mako_kossuthlajosu5",
           479.9,
           529.9,
           479.9
          ],
          [
           "https://holtankoljak.hu/omv_mosonmagyarovar_1szamufout",
           479.9,
           529.9,
           479.9
          ],
          [
           "https://holtankoljak.hu/omv_komarom_igmandiut49",
           479.9,
           529.9,
           479.9
          ],
          [
           "https://holtankoljak.hu/omv_budapest_xi_budaorsiut1bah-csomopont",
           479.9,
           529.9,
           479.9
          ],
          [
           "https://holtankoljak.hu/omv_budapest_viii_konyveskalmankrt76konyveskobanyaisarok",
           479.9,
           529.9,
           479.9
          ],
          [
           "https://holtankoljak.hu/omv_dunaujvaros_dunaujvaros-nyugatm6autopalya70100kmszbal",
           479.9,
           539.9,
           479.9
          ],
          [
           "https://holtankoljak.hu/omv_kaposvar_achimau",
           479.9,
           529.9,
           479.9
          ],
          [
           "https://holtankoljak.hu/omv_bekes_kossuthlu4",
           479.9,
           529.9,
           479.9
          ],
          [
           "https://holtankoljak.hu/omv_hajduszoboszlo_hoviragu2",
           479.9,
           529.9,
           479.9
          ],
          [
           "https://holtankoljak.hu/omv_kaposvar_furediut537422hrsz",
           479.9,
           529.9,
           479.9
          ],
          [
           "https://holtankoljak.hu/omv_karacsond_m3karacsondeszak",
           479.9,
           539.9,
           479.9
          ]
         ],
         "hovertemplate": "<b>%{hovertext}</b><br><br>brand=omv<br>size_for_plot=%{marker.size}<br>LAT=%{lat}<br>LON=%{lon}<br>link=%{customdata[0]}<br>Gázolaj=%{customdata[1]}<br>Prémium Gázolaj=%{customdata[2]}<br>95-ös Benzin E10=%{customdata[3]}<extra></extra>",
         "hovertext": [
          "Cece, Vasút u. 2.",
          "Szeged, Makkosházi krt. 1.",
          "Békéscsaba, Szarvasi út 16-18.",
          "Körmend, Rákóczi út 86/8 kereszteződése",
          "Hajdúnánás, Dorogi út vége",
          "Budapest IX, Gyáli út 30.",
          "Miskolc, Búza tér 16",
          "Pécs, Siklósi út 45.",
          "Budapest XIV, Hungária krt. 175-177.",
          "Paks, 6. sz. főút 110 km.",
          "Tompa, Külterület 0356/28.",
          "Veszprém, Budapesti út 12.",
          "Maglód, Jászberényi út",
          "Szombathely, Csabai út 15.",
          "Budapest XI, Balatoni út M1/M7 756/17 hrsz",
          "Vál, M7, Kajászó (Váli Dél)",
          "Budapest XVII, Cinkotai út 51.",
          "Albertirsa, 4. sz főút 51-52. km",
          "Nyíregyháza, Tiszavasvári u. 39.",
          "Budapest X, Maglódi út - Jászberényi út sarok",
          "Szirmabesenyő, 0119/19 hrsz.",
          "Budapest II, Hűvösvölgyi út 118.",
          "Budapest II, Szilágyi Erzsébet fasor 51.",
          "Budapest XI, Irinyi út 34-36.",
          "Siófok, Vak Bottyán u. 1.",
          "Kőszeg, Szombathelyi út 2.",
          "Nagykőrös, Ceglédi út 256.",
          "Mindszent, Napkelet utca 3/b",
          "Budapest XI, Budaörsi út 112.",
          "Kecskemét, Ezüstfenyő u. 1.",
          "Szekszárd, Tartsay út 8.",
          "Budapest VIII, Baross u. 5. (Kálvin tér)",
          "Nyékládháza, Viola u. 182/1",
          "Debrecen, Füredi út 27.",
          "Miskolc, Soltész Nagy Kálmán u. 175. JOBB",
          "Nagykanizsa, Hevesi Sándor u. 5.",
          "Kisbér, 81. sz. főút",
          "Debrecen, Kassai út 92.",
          "Bábolna, Bábolna - Concó pihenő dél, M1 autópálya 39. kmsz bal",
          "Ajka, Petőfi u.",
          "Budapest XIV, Fogarasi út 56/A.",
          "Cegléd, Jászberényi u. 0825/30",
          "Győr, Szent István út",
          "Keszthely, Csapás u. 2505/3",
          "Székesfehérvár, Balatoni út 6111 hrsz",
          "Budapest IX, Határ út - Soroksári út sarok",
          "Budapest XXII, Hajó út, Ártér u. 5.",
          "Hegyfalu, 84/86-os főutak kereszteződése",
          "Törökbálint, M0 körgyűrű 6 km",
          "Biatorbágy, Kossuth Lajos u. 1/a.",
          "Dunaharaszti, Némedi u. sarok 51. sz. főút",
          "Dunaújváros, Dózsa György út",
          "Sopron, Csengery u. 93.",
          "Kapuvár, Petőfi major",
          "Szigetszentmiklós, Gyári út 3237 hrsz. ",
          "Üröm, Bécsi u. 2.",
          "Debrecen, István út 137.",
          "Eger, Sas út - Mátyás király u. 2.",
          "Budapest IV, Váci út 16.",
          "Zsámbék, Herceghalmi út",
          "Kistarcsa, Szabadság u. 56.",
          "Budapest XIII, Váci út 95.",
          "Székesfehérvár, Budai út 169.",
          "Budapest IX, Üllői út 137.",
          "Szentendre, 11. sz. főút 17. km",
          "Mátészalka, Jármi út 20.",
          "Fót, Szabó Dezső u. 2/B.",
          "Bátaszék, M6 autópálya 166.km hrsz: 120/118 jobb",
          "Sárbogárd, Ady Endre u. 3.",
          "Győr, Pápai út 771.",
          "Salgótarján, Rákóczi út 182.",
          "Csongrád, Fő utca 65.",
          "Budapest XVII, Pesti út 18.",
          "Szolnok, Thököly u. (Dráva u. 42.)",
          "Budapest XIII, Róbert Károly krt. 64-66.",
          "Balatonfűzfő, Árpád utca 1.",
          "Zalaszentgrót, Koppányi út 5. Erzsébet liget utca 5.",
          "Veresegyház, Fő u. 2/2.",
          "Budapest XIV, Tengerszem u. 61-67.",
          "Budapest X, Kőrösi Csoma Sándor út",
          "Kocsola, 61. sz. főút és Dombóvári u. kereszteződés",
          "Bábolna, Bábolna - Concó pihenő észak, M1 autópálya 93. kmsz",
          "Székesfehérvár, Kadocsa út 86.",
          "Budapest III, Szentendrei út - Czetz J. u. sarok",
          "Kalocsa, Bátyai út 83.",
          "Hódmezővásárhely, Kutasi út 17.",
          "Budapest X, Kerepesi út 73.",
          "Nagyréde, Hrsz.: 0237/3",
          "Bag, Dózsa György út 2.",
          "Révfűlöp, Badacsonyi út 71. számú főút",
          "Győrújbarát, Győr",
          "Vác, Gödöllői út 1.",
          "Röszke, M5 autópálya 0112/25 hrsz 172 km",
          "Dömsöd, Tassi út 16.",
          "Budapest IV, Váci út 77. - Megyeri út sarok",
          "Nyíregyháza, Kert u. 47.",
          "Pécs, Zsolnay út 50.",
          "Vál, M7, Kajászó (Váli Észak)",
          "Gyomaendrőd, Fő út 133/1",
          "Veszprém, Aradi vértanúk útja",
          "Budapest XIV, Kacsóh Pongrác út 131.",
          "Alsónémedi, Alsónémedi 5. sz. főút",
          "Nagykanizsa, Virág Benedek u. 4.",
          "Budapest XV, Széchenyi tér 1.",
          "Vecsés, Gyáli út 20-22.",
          "Tata, 1. sz. autóút 0419/8",
          "Dunaújváros, Aranyvölgyi út - Magyar u.",
          "Röszke, 0112/60 hrsz. 172 km M5 Nyugat",
          "Zalaegerszeg, Göcseji út 26.",
          "Ózd, Brassói út 5. (8631/4 hrsz.)",
          "Budapest II, Tölgyfa u. 1-3.",
          "Inárcs, M5 autópálya 82. kmsz. bal",
          "Budapest XI, Péterhegyi út 66-68. ",
          "Budapest XVIII, Alacskai út 1.",
          "Dunaújváros, Dunaújváros - kelet, M6 autópálya 70 kmsz jobb",
          "Dorog, Bécsi út -Csolnoki út sarok hrsz.0279/8",
          "Békéscsaba, Szarvasi út 103.",
          "Miskolc, Testvérvárosok útja 2/a.",
          "Budapest XV, Szentmihályi út 131.",
          "Karácsond, M3, Karácsond Dél",
          "Budapest III, Királyok útja 178.",
          "Budapest XIV, Hungária krt. 116-118.",
          "Dunaföldvár, Paksi út 125/a.",
          "Szeged, Dorozsmai út 1.",
          "Érd, 6.sz. főút jobb 23km",
          "Miskolc, Kandó K.-Kiss T. sarok - Kilián ltp",
          "Budapest XVI, Szlovák út - Csömöri út sarok",
          "Budapest XXI, Védgát utca 47.",
          "Veszprém, Külső-Kádártai u. 2.",
          "Nyíregyháza, Debreceni út 99.",
          "Budapest XVI, Szabadföldi út 1.",
          "Budapest IX, Mester u. 89.",
          "Budapest XVIII, Haladás utca - Ráday út sarok",
          "Óbarok, M 1 43. km bal",
          "Székesfehérvár, Lövölde út (Budai út 39.)",
          "Mosonmagyaróvár, Kossuth Lajos u. 69.",
          "Óbarok, M 1 43. km jobb",
          "Tatabánya, Ságvári út - Károlyi Mihály u. 2.",
          "Budapest XX, Nagykőrösi út 185",
          "Jánossomorja, 86. sz. főút 0168/36 hrsz",
          "Rétság, Pusztaszántói út 1.",
          "Túrkeve, 2412 hrsz",
          "Szombathely, Rumi út",
          "Budapest X, Üllői út 110-112.",
          "Érd, 6.sz. főút bal 23km",
          "Kiskőrös, Dózsa György út 47.",
          "Balatonlelle, 7.sz. főút 138. km",
          "Szolnok, Thököly út 91.",
          "Szigetszentmiklós, M0 19.km",
          "Budapest XXI, II. Rákóczi Ferenc út 189.",
          "Győr, Ipar út 99.",
          "Budapest VIII, Kerepesi út 22.",
          "Budapest VIII, Teleki tér",
          "Budapest XI, Fehérvári út 166.",
          "Bátaszék, M6 autópálya 166.km hrsz: 120/118 bal",
          "Üllő, Pesti út 1.",
          "Szombathely, Körmendi út 92.",
          "Székesfehérvár, Donáth út",
          "Budapest XXIII, Nagykőrösi út 349.",
          "Eger, Mátyás király út 134.",
          "Budapest XI, Budafoki út 111.",
          "Budapest XXIII, Haraszti út 32/A",
          "Kecskemét, Budai út",
          "Budapest XV, Alkotmány út 14-20.",
          "Inárcs, M5 autópálya 82. kmsz jobb",
          "Esztergom, Kertváros, Dobogókői út - Kesztölci út sarok",
          "Kecskemét, Dunaföldvári út 4.",
          "Sopron, Lackner Kristóf u. 29.",
          "Makó, Kossuth Lajos u. 5.",
          "Mosonmagyaróvár, 1. számú főút",
          "Komárom, Igmándi út 49.",
          "Budapest XI, Budaörsi út 1. (BAH-csomópont)",
          "Budapest VIII, Könyves Kálmán krt. 76. (Könyves/Kőbányai sarok",
          "Dunaújváros, Dunaújváros - nyugat, M6 autópálya 70+100 km.sz. bal",
          "Kaposvár, Áchim A u.",
          "Békés, Kossuth L. u. 4.",
          "Hajdúszoboszló, Hóvirág u. 2",
          "Kaposvár, Füredi út (5374/22 hrsz.)",
          "Karácsond, M3, Karácsond Észak"
         ],
         "lat": [
          46.77132797,
          46.2727623,
          46.68392563,
          47.02091217,
          47.84096146,
          47.46788025,
          48.10557556,
          46.04465103,
          47.51704788,
          46.61902618,
          46.20466614,
          47.09457016,
          47.44766235,
          47.22728348,
          47.46408463,
          47.30661011,
          47.4941864,
          47.26229858,
          47.95740128,
          47.49018097,
          48.15095901,
          47.53459167,
          47.51003647,
          47.47409058,
          46.90203094,
          47.37861252,
          47.0472908,
          46.52601624,
          47.46509933,
          46.96128845,
          46.34048462,
          47.489254,
          47.98660278,
          47.54177475,
          48.08436584,
          46.45586395,
          47.50213623,
          47.55105591,
          47.68046951,
          47.1028862,
          47.50478363,
          47.1894722,
          47.68107605,
          46.77690887,
          47.18447876,
          47.44216537,
          47.42766571,
          47.36001587,
          47.42123795,
          47.47301102,
          47.34661102,
          46.95819092,
          47.67645264,
          47.58985138,
          47.33738708,
          47.58597565,
          47.5154953,
          47.89049911,
          47.56428146,
          47.54084778,
          47.54922104,
          47.53843307,
          47.19544983,
          47.47192001,
          47.64151382,
          47.96033478,
          47.6163063,
          46.19428253,
          46.89770508,
          47.65702438,
          48.08137131,
          46.71315002,
          47.4840889,
          47.18214417,
          47.52756119,
          47.06835175,
          46.939888,
          47.6477356,
          47.53466415,
          47.49139023,
          46.51967239,
          47.68179321,
          47.19675827,
          47.57897186,
          46.51223755,
          46.42491913,
          47.50441742,
          47.74052429,
          47.63772202,
          46.8260231,
          47.6333847,
          47.76408005,
          46.18907166,
          47.08214188,
          47.57430267,
          47.94575882,
          46.07987976,
          47.30778122,
          46.933815,
          47.11227417,
          47.53288651,
          47.30218887,
          46.46636963,
          47.56033707,
          47.399189,
          47.63591766,
          46.96688461,
          46.18964005,
          46.83489227,
          48.22144318,
          47.51225662,
          47.27516556,
          47.45327377,
          47.41681671,
          46.96360397,
          47.71117401,
          46.68397903,
          48.08349991,
          47.55023956,
          47.71231461,
          47.59016037,
          47.50881195,
          46.79500198,
          46.26541519,
          47.35671997,
          48.09965515,
          47.53491974,
          47.43588638,
          47.10469055,
          47.93607712,
          47.5174675,
          47.46897888,
          47.44591141,
          47.50302124,
          47.19040298,
          47.86600876,
          47.50346756,
          47.56382751,
          47.44094467,
          47.78915405,
          47.91962814,
          47.10398865,
          47.21549225,
          47.47212982,
          47.35586929,
          46.63049698,
          46.78277206,
          47.19256973,
          47.37918472,
          47.41450119,
          47.68054199,
          47.49988937,
          47.49362183,
          47.4513092,
          46.18943024,
          47.37459564,
          47.21492386,
          47.19589996,
          47.42335129,
          47.87514496,
          47.46395874,
          47.38700867,
          46.92121124,
          47.54449844,
          47.27474213,
          47.74676895,
          46.88829422,
          47.69108963,
          46.21918106,
          47.8830452,
          47.73820877,
          47.48681641,
          47.46944809,
          46.96385956,
          46.35500336,
          46.77339554,
          47.451931,
          46.38018799,
          47.71419144
         ],
         "legendgroup": "omv",
         "lon": [
          18.62500381,
          20.15678215,
          21.08617592,
          16.61714554,
          21.44220161,
          19.10350418,
          20.79001999,
          18.23227501,
          19.09148026,
          18.8584404,
          19.52156448,
          17.91669464,
          19.3623848,
          16.65215302,
          19.01356888,
          18.74528694,
          19.24171829,
          19.60000038,
          21.68553734,
          19.15002823,
          20.79578972,
          18.97377014,
          19.01127052,
          19.05417633,
          18.04726028,
          16.55796432,
          19.78235626,
          20.19299889,
          19.01383209,
          19.72585678,
          18.7105732,
          19.0638752,
          20.83156013,
          21.62034035,
          20.7874527,
          17.00999069,
          18.0449276,
          21.64783096,
          17.97655296,
          17.55181885,
          19.12053299,
          19.80845642,
          17.62517166,
          17.24311638,
          18.41024399,
          19.09390068,
          19.04239655,
          16.89799118,
          18.92224693,
          18.83287621,
          19.11773491,
          18.91985321,
          16.5967865,
          17.00943375,
          19.02861595,
          18.99664879,
          21.6052475,
          20.37869453,
          19.07847404,
          18.72358894,
          19.266222,
          19.06948471,
          18.46403694,
          19.10753822,
          19.06731606,
          22.31230927,
          19.19786263,
          18.69383812,
          18.61407471,
          17.63423729,
          19.79354858,
          20.13381004,
          19.23542023,
          20.18373489,
          19.07551384,
          18.03710938,
          17.06749916,
          19.29476166,
          19.10281372,
          19.13780403,
          18.17032051,
          17.97964096,
          18.44358253,
          19.04957199,
          18.97215271,
          20.33773041,
          19.15041161,
          19.86956787,
          19.47404671,
          17.60513687,
          17.6617527,
          19.14057541,
          19.99565315,
          19.00640869,
          19.08185387,
          21.72504234,
          18.25614738,
          18.74467659,
          20.81463051,
          17.92449379,
          19.10241318,
          19.17969894,
          16.99589539,
          19.1210289,
          19.2485733,
          18.35147095,
          18.93630028,
          19.99435425,
          16.83075142,
          20.27345657,
          19.03594208,
          19.32435036,
          19.01829147,
          19.20706558,
          18.89309502,
          18.74252701,
          21.05872536,
          20.78523064,
          19.13779831,
          20.0037117,
          19.06530762,
          19.10177612,
          18.91836166,
          20.1185112,
          18.90620613,
          20.70329666,
          19.18083572,
          19.08453178,
          17.93083572,
          21.7183075,
          19.21430016,
          19.08355904,
          19.19057274,
          18.5482502,
          18.42088509,
          17.26746178,
          18.55020142,
          18.40773773,
          19.13429642,
          17.13985443,
          19.12151146,
          20.72710991,
          16.63588142,
          19.1090889,
          18.90729904,
          19.26805687,
          17.67232513,
          20.17393494,
          19.05301476,
          19.05901718,
          17.6613636,
          19.10185814,
          19.08552742,
          19.0385685,
          18.69253349,
          19.36309433,
          16.61990166,
          18.45875359,
          19.15925026,
          20.38226891,
          19.05255699,
          19.11037254,
          19.67915535,
          19.11610031,
          19.32775307,
          18.7362175,
          19.63388824,
          16.5822525,
          20.47698593,
          17.24385834,
          18.11792564,
          19.02407265,
          19.08641243,
          18.8902359,
          17.78577614,
          21.12487602,
          21.41243935,
          17.78167915,
          20.00239182
         ],
         "marker": {
          "color": "#636efa",
          "size": [
           10,
           10,
           10,
           10,
           10,
           10,
           10,
           10,
           10,
           10,
           10,
           10,
           10,
           10,
           10,
           10,
           10,
           10,
           10,
           10,
           10,
           10,
           10,
           10,
           10,
           10,
           10,
           10,
           10,
           10,
           10,
           10,
           10,
           10,
           10,
           10,
           10,
           10,
           10,
           10,
           10,
           10,
           10,
           10,
           10,
           10,
           10,
           10,
           10,
           10,
           10,
           10,
           10,
           10,
           10,
           10,
           10,
           10,
           10,
           10,
           10,
           10,
           10,
           10,
           10,
           10,
           10,
           10,
           10,
           10,
           10,
           10,
           10,
           10,
           10,
           10,
           10,
           10,
           10,
           10,
           10,
           10,
           10,
           10,
           10,
           10,
           10,
           10,
           10,
           10,
           10,
           10,
           10,
           10,
           10,
           10,
           10,
           10,
           10,
           10,
           10,
           10,
           10,
           10,
           10,
           10,
           10,
           10,
           10,
           10,
           10,
           10,
           10,
           10,
           10,
           10,
           10,
           10,
           10,
           10,
           10,
           10,
           10,
           10,
           10,
           10,
           10,
           10,
           10,
           10,
           10,
           10,
           10,
           10,
           10,
           10,
           10,
           10,
           10,
           10,
           10,
           10,
           10,
           10,
           10,
           10,
           10,
           10,
           10,
           10,
           10,
           10,
           10,
           10,
           10,
           10,
           10,
           10,
           10,
           10,
           10,
           10,
           10,
           10,
           10,
           10,
           10,
           10,
           10,
           10,
           10,
           10,
           10,
           10,
           10,
           10,
           10,
           10,
           10
          ],
          "sizemode": "area",
          "sizeref": 0.4
         },
         "mode": "markers",
         "name": "omv",
         "showlegend": true,
         "subplot": "mapbox",
         "type": "scattermapbox"
        },
        {
         "customdata": [
          [
           "https://holtankoljak.hu/mol_pecs_versenyutca1",
           479.9,
           539.9,
           479.9
          ],
          [
           "https://holtankoljak.hu/mol_kecskemet_kiskunfelegyhaziutszegediut",
           479.9,
           539.9,
           479.9
          ],
          [
           "https://holtankoljak.hu/mol_gorbehaza_m3ieszak1825-oskmkohrsz04378",
           479.9,
           539.9,
           479.9
          ],
          [
           "https://holtankoljak.hu/mol_rajka_bemjozsefu",
           479.9,
           539.9,
           479.9
          ],
          [
           "https://holtankoljak.hu/mol_mosonmagyarovar_kiralyhidaiut51",
           479.9,
           539.9,
           479.9
          ],
          [
           "https://holtankoljak.hu/mol_gyorujbarat_m1autopalya119kmarrabona",
           479.9,
           539.9,
           479.9
          ],
          [
           "https://holtankoljak.hu/mol_pecs_endreszut",
           479.9,
           539.9,
           479.9
          ],
          [
           "https://holtankoljak.hu/mol_kecskemet_katonajozsefter",
           479.9,
           539.9,
           479.9
          ],
          [
           "https://holtankoljak.hu/mol_gyor_nagyimreu85",
           479.9,
           539.9,
           479.9
          ],
          [
           "https://holtankoljak.hu/mol_bekescsaba_sportcsarnok",
           479.9,
           539.9,
           479.9
          ],
          [
           "https://holtankoljak.hu/mol_villany_viragosiuthrsz0102",
           479.9,
           539.9,
           479.9
          ],
          [
           "https://holtankoljak.hu/mol_nagyatad_labodiut30",
           479.9,
           539.9,
           479.9
          ],
          [
           "https://holtankoljak.hu/mol_zahony_4szfklut",
           479.9,
           539.9,
           479.9
          ],
          [
           "https://holtankoljak.hu/mol_satoraljaujhely_varhegyutca",
           479.9,
           539.9,
           479.9
          ],
          [
           "https://holtankoljak.hu/mol_kiskunhalas_majsaiut18",
           479.9,
           539.9,
           479.9
          ],
          [
           "https://holtankoljak.hu/mol_nagyszenas_oroshaziut",
           479.9,
           539.9,
           479.9
          ],
          [
           "https://holtankoljak.hu/mol_nyirbator_csaszariut",
           479.9,
           539.9,
           479.9
          ],
          [
           "https://holtankoljak.hu/mol_debrecen_istvanut147",
           479.9,
           539.9,
           479.9
          ],
          [
           "https://holtankoljak.hu/mol_partner+_kaba_0513118hrszmeteoritut",
           479.9,
           null,
           479.9
          ],
          [
           "https://holtankoljak.hu/mol_kecskemet_m5autopalyajobb",
           479.9,
           539.9,
           479.9
          ],
          [
           "https://holtankoljak.hu/mol_sopron_kofaragoter",
           479.9,
           539.9,
           479.9
          ],
          [
           "https://holtankoljak.hu/mol_nyiregyhaza_tokajiutrepuloter",
           479.9,
           539.9,
           479.9
          ],
          [
           "https://holtankoljak.hu/mol_tiszalok_tancsicsmihalyu86",
           479.9,
           539.9,
           479.9
          ],
          [
           "https://holtankoljak.hu/mol_hodmezovasarhely_toaljut",
           479.9,
           539.9,
           479.9
          ],
          [
           "https://holtankoljak.hu/mol_budakeszi_temetouthrsz2405",
           479.9,
           539.9,
           479.9
          ],
          [
           "https://holtankoljak.hu/mol_tatabanya_kossuthlajosu",
           479.9,
           539.9,
           479.9
          ],
          [
           "https://holtankoljak.hu/mol_eger_rakocziut",
           479.9,
           539.9,
           479.9
          ],
          [
           "https://holtankoljak.hu/mol_solt_vecseiu52",
           479.9,
           539.9,
           479.9
          ],
          [
           "https://holtankoljak.hu/mol_tapolca_keszthelyiu8",
           479.9,
           539.9,
           479.9
          ],
          [
           "https://holtankoljak.hu/mol_miskolc_pestiutiikijovo",
           479.9,
           539.9,
           479.9
          ],
          [
           "https://holtankoljak.hu/mol_martfu_foldvariut4",
           479.9,
           539.9,
           479.9
          ],
          [
           "https://holtankoljak.hu/mol_komadi_szentistvanut24",
           479.9,
           539.9,
           479.9
          ],
          [
           "https://holtankoljak.hu/mol_kartal_rakocziut1",
           479.9,
           539.9,
           479.9
          ],
          [
           "https://holtankoljak.hu/mol_debrecen_mikepercsiutiibejovo",
           479.9,
           539.9,
           479.9
          ],
          [
           "https://holtankoljak.hu/mol_palotas_szabadsagut",
           479.9,
           539.9,
           479.9
          ],
          [
           "https://holtankoljak.hu/mol_szeged_dorozsmaiut20",
           479.9,
           539.9,
           479.9
          ],
          [
           "https://holtankoljak.hu/mol_paszto_fout",
           479.9,
           539.9,
           479.9
          ],
          [
           "https://holtankoljak.hu/mol_mezohegyes_kinizsiter1",
           479.9,
           539.9,
           479.9
          ],
          [
           "https://holtankoljak.hu/mol_kecskemet_bekescsabaiut",
           479.9,
           539.9,
           479.9
          ],
          [
           "https://holtankoljak.hu/mol-partner_zalaegerszeg_teskandiut38",
           480,
           null,
           474
          ],
          [
           "https://holtankoljak.hu/mol_sopron_hataratkeloikimeno",
           479.9,
           539.9,
           479.9
          ],
          [
           "https://holtankoljak.hu/mol_szeged_kalvariasugarut96",
           479.9,
           539.9,
           479.9
          ],
          [
           "https://holtankoljak.hu/mol_vecses_fout60112hrsz",
           479.9,
           539.9,
           479.9
          ],
          [
           "https://holtankoljak.hu/mol_tiszafured_adyendreut",
           479.9,
           539.9,
           479.9
          ],
          [
           "https://holtankoljak.hu/mol_mosonmagyarovar_m1-m15autopalyaipf1091",
           479.9,
           539.9,
           479.9
          ],
          [
           "https://holtankoljak.hu/mol_kal_rekettyespihenom3iidel",
           479.9,
           539.9,
           479.9
          ],
          [
           "https://holtankoljak.hu/mol_dunakeszi_2-esszfout21km",
           479.9,
           539.9,
           479.9
          ],
          [
           "https://holtankoljak.hu/mol_oroshaza_kettossancter",
           479.9,
           539.9,
           479.9
          ],
          [
           "https://holtankoljak.hu/mol_fot_keletimartonut",
           479.9,
           539.9,
           479.9
          ],
          [
           "https://holtankoljak.hu/mol_kapuvar_gyoriut",
           479.9,
           539.9,
           479.9
          ],
          [
           "https://holtankoljak.hu/mol_budapest_ronau170xiv",
           479.9,
           539.9,
           479.9
          ],
          [
           "https://holtankoljak.hu/mol_budapest_feheru3x",
           479.9,
           null,
           479.9
          ],
          [
           "https://holtankoljak.hu/mol_berettyoujfalu_42-47foutkeresztezodeshonvedu2",
           479.9,
           539.9,
           479.9
          ],
          [
           "https://holtankoljak.hu/mol_budapest_golgotaterviii",
           479.9,
           539.9,
           479.9
          ],
          [
           "https://holtankoljak.hu/mol_miskolc_boldvau2",
           479.9,
           539.9,
           479.9
          ],
          [
           "https://holtankoljak.hu/mol_rackeve_kossuthlu",
           479.9,
           539.9,
           479.9
          ],
          [
           "https://holtankoljak.hu/mol_szekszard_m6iibaloldal",
           479.9,
           539.9,
           479.9
          ],
          [
           "https://holtankoljak.hu/mol_felsozsolca_3szfouthrsz203414",
           479.9,
           539.9,
           479.9
          ],
          [
           "https://holtankoljak.hu/mol_budapest_ulloiu738xviii",
           479.9,
           539.9,
           479.9
          ],
          [
           "https://holtankoljak.hu/mol-partner_csanadpalota_hrsz020023",
           null,
           null,
           null
          ],
          [
           "https://holtankoljak.hu/mol_vecses_m0ijobb-alacskaipiheno",
           479.9,
           539.9,
           479.9
          ],
          [
           "https://holtankoljak.hu/mol_petervasara_orgonaut6",
           479.9,
           539.9,
           479.9
          ],
          [
           "https://holtankoljak.hu/mol_sajtoskal_84-esfout83km",
           479.9,
           539.9,
           479.9
          ],
          [
           "https://holtankoljak.hu/mol_ozd_vasvarut25-osut",
           479.9,
           539.9,
           479.9
          ],
          [
           "https://holtankoljak.hu/mol_budapest_papkarolyuxiii",
           479.9,
           539.9,
           479.9
          ],
          [
           "https://holtankoljak.hu/mol_paks_6szfklutbal",
           479.9,
           539.9,
           479.9
          ],
          [
           "https://holtankoljak.hu/mol_erd_ercsiuthrsz262972",
           479.9,
           539.9,
           479.9
          ],
          [
           "https://holtankoljak.hu/mol_ajka_bakonygyepes8szfklut",
           479.9,
           539.9,
           479.9
          ],
          [
           "https://holtankoljak.hu/mol_dabas_50szfklut",
           479.9,
           539.9,
           479.9
          ],
          [
           "https://holtankoljak.hu/mol_partner+_akaszto_fou1",
           479.9,
           null,
           479.9
          ],
          [
           "https://holtankoljak.hu/mol_gyula_csabaiut30",
           479.9,
           539.9,
           479.9
          ],
          [
           "https://holtankoljak.hu/mol_fegyvernek_4szfklut",
           479.9,
           539.9,
           479.9
          ],
          [
           "https://holtankoljak.hu/mol_kapospula_rakocziut10",
           479.9,
           539.9,
           479.9
          ],
          [
           "https://holtankoljak.hu/mol_fuzesabony_maklariut",
           479.9,
           539.9,
           479.9
          ],
          [
           "https://holtankoljak.hu/mol_hajmasker_8-asfout40km",
           479.9,
           539.9,
           479.9
          ],
          [
           "https://holtankoljak.hu/mol_fule_m7autopalya83kmdellepsenyii",
           479.9,
           539.9,
           479.9
          ],
          [
           "https://holtankoljak.hu/mol_kaposvar_kanizsaiukulterulet0317",
           479.9,
           539.9,
           479.9
          ],
          [
           "https://holtankoljak.hu/mol_budapest_napfenyu26ix",
           479.9,
           539.9,
           479.9
          ],
          [
           "https://holtankoljak.hu/mol_monor_4szfklutkatalincsarda",
           479.9,
           539.9,
           479.9
          ],
          [
           "https://holtankoljak.hu/mol_postaauto_debrecen_monostorpalyiut35a",
           479.9,
           539.9,
           479.9
          ],
          [
           "https://holtankoljak.hu/mol_sagvar_65-osfout",
           479.9,
           539.9,
           479.9
          ],
          [
           "https://holtankoljak.hu/mol_siofok_wesselenyiu106",
           479.9,
           539.9,
           479.9
          ],
          [
           "https://holtankoljak.hu/mol_budapest_szabadfoldiut81",
           479.9,
           539.9,
           479.9
          ],
          [
           "https://holtankoljak.hu/mol_dunafoldvar_6-osut",
           479.9,
           539.9,
           479.9
          ],
          [
           "https://holtankoljak.hu/mol_sarkeresztes_013381-esfout",
           479.9,
           539.9,
           479.9
          ],
          [
           "https://holtankoljak.hu/mol_letenye_bajcsy-zsilinszkiendreu38",
           479.9,
           539.9,
           479.9
          ],
          [
           "https://holtankoljak.hu/mol_csorna_soproniut21",
           479.9,
           539.9,
           479.9
          ],
          [
           "https://holtankoljak.hu/mol_lorinci_21szfklut",
           479.9,
           539.9,
           479.9
          ],
          [
           "https://holtankoljak.hu/mol_kecskemet_izsakiut12a",
           479.9,
           539.9,
           479.9
          ],
          [
           "https://holtankoljak.hu/mol_szerencs_gyarut38",
           479.9,
           539.9,
           479.9
          ],
          [
           "https://holtankoljak.hu/mol-partner_iregszemcse_rakocziu111",
           479.9,
           null,
           479.9
          ],
          [
           "https://holtankoljak.hu/mol_komarom_martirokutja82",
           479.9,
           539.9,
           479.9
          ],
          [
           "https://holtankoljak.hu/mol_szekszard_csatariu",
           479.9,
           539.9,
           479.9
          ],
          [
           "https://holtankoljak.hu/mol_kisujszallas_deakferencu133",
           479.9,
           539.9,
           479.9
          ],
          [
           "https://holtankoljak.hu/mol_kenderes_petofiut73a",
           479.9,
           539.9,
           479.9
          ],
          [
           "https://holtankoljak.hu/mol_szekesfehervar_szentfloriankrt5",
           479.9,
           539.9,
           479.9
          ],
          [
           "https://holtankoljak.hu/mol_szolnok_abonyiut",
           479.9,
           539.9,
           479.9
          ],
          [
           "https://holtankoljak.hu/mol_eger_matyaskiralyut",
           479.9,
           539.9,
           479.9
          ],
          [
           "https://holtankoljak.hu/mol_szombathely_zanatiut56",
           479.9,
           539.9,
           479.9
          ],
          [
           "https://holtankoljak.hu/mol_budapest_huvosvolgyiut136",
           479.9,
           539.9,
           479.9
          ],
          [
           "https://holtankoljak.hu/mol_fule_m7autopalya83kmeszaklepseny",
           479.9,
           539.9,
           479.9
          ],
          [
           "https://holtankoljak.hu/mol_budapest_mozaiku3",
           479.9,
           539.9,
           479.9
          ],
          [
           "https://holtankoljak.hu/mol_fehergyarmat_alkotmanyut31",
           479.9,
           539.9,
           479.9
          ],
          [
           "https://holtankoljak.hu/mol_sukosd_dozsagyorgyut1",
           479.9,
           539.9,
           479.9
          ],
          [
           "https://holtankoljak.hu/mol_miskolc_buzater",
           479.9,
           539.9,
           479.9
          ],
          [
           "https://holtankoljak.hu/mol_budapest_csomoriut27a",
           479.9,
           539.9,
           479.9
          ],
          [
           "https://holtankoljak.hu/mol_bohonye_szabadsagu",
           479.9,
           539.9,
           479.9
          ],
          [
           "https://holtankoljak.hu/mol_miskolc_ujgyorifoter3",
           479.9,
           539.9,
           479.9
          ],
          [
           "https://holtankoljak.hu/mol_vertesszolos_hataru1-3",
           479.9,
           539.9,
           479.9
          ],
          [
           "https://holtankoljak.hu/mol_abony_radaku",
           479.9,
           539.9,
           479.9
          ],
          [
           "https://holtankoljak.hu/mol_szigethalom_petofisandoru",
           479.9,
           539.9,
           479.9
          ],
          [
           "https://holtankoljak.hu/mol_budapest_aranyju106xvi",
           479.9,
           null,
           479.9
          ],
          [
           "https://holtankoljak.hu/mol_boly_kulterulet0184158hrsz",
           479.9,
           539.9,
           479.9
          ],
          [
           "https://holtankoljak.hu/mol_debrecen_mikepercsiutikimeno",
           479.9,
           539.9,
           479.9
          ],
          [
           "https://holtankoljak.hu/mol_marcali_noszlopygasparu37",
           479.9,
           539.9,
           479.9
          ],
          [
           "https://holtankoljak.hu/mol_papa_gyoriutkulterulet",
           479.9,
           539.9,
           479.9
          ],
          [
           "https://holtankoljak.hu/mol_varpalota_8szfklutijobb",
           479.9,
           539.9,
           479.9
          ],
          [
           "https://holtankoljak.hu/mol_gyomro_mendeiut",
           479.9,
           539.9,
           479.9
          ],
          [
           "https://holtankoljak.hu/mol_szabadszallas_petofisandorut19",
           479.9,
           539.9,
           479.9
          ],
          [
           "https://holtankoljak.hu/mol_hatvan_rakocziut101",
           479.9,
           539.9,
           479.9
          ],
          [
           "https://holtankoljak.hu/mol_berettyoujfalu_47szfklut",
           479.9,
           539.9,
           479.9
          ],
          [
           "https://holtankoljak.hu/mol_budakeszi_budaorsiu27498hrsz",
           479.9,
           539.9,
           479.9
          ],
          [
           "https://holtankoljak.hu/mol_simontornya_belterulet13263hrsz",
           479.9,
           539.9,
           479.9
          ],
          [
           "https://holtankoljak.hu/mol_nagykanizsa_balatoniut",
           479.9,
           539.9,
           479.9
          ],
          [
           "https://holtankoljak.hu/mol_hosszupalyi_foldvaru1a",
           479.9,
           539.9,
           479.9
          ],
          [
           "https://holtankoljak.hu/mol_csenger_adyendreu113",
           479.9,
           539.9,
           479.9
          ],
          [
           "https://holtankoljak.hu/mol_budapest_szeghalomu",
           479.9,
           539.9,
           479.9
          ],
          [
           "https://holtankoljak.hu/mol_torokbalint_raktarvarosiu3",
           479.9,
           539.9,
           479.9
          ],
          [
           "https://holtankoljak.hu/mol_segesd_dozsagyorgyter",
           479.9,
           539.9,
           479.9
          ],
          [
           "https://holtankoljak.hu/mol_balassagyarmat_kovariut",
           479.9,
           539.9,
           479.9
          ],
          [
           "https://holtankoljak.hu/mol_siklos_felszabadulasut12119hrsz",
           479.9,
           539.9,
           479.9
          ],
          [
           "https://holtankoljak.hu/mol_szentes_attilaut2",
           479.9,
           539.9,
           479.9
          ],
          [
           "https://holtankoljak.hu/mol_szolnok_toszegiut18a",
           479.9,
           539.9,
           479.9
          ],
          [
           "https://holtankoljak.hu/mol_jaszjakohalma_fout130b31szfout",
           479.9,
           539.9,
           479.9
          ],
          [
           "https://holtankoljak.hu/mol_kunszentmiklos_szabadsagu30",
           479.9,
           539.9,
           479.9
          ],
          [
           "https://holtankoljak.hu/mol_tolna-mozs_beribaloghadamu4",
           479.9,
           539.9,
           479.9
          ],
          [
           "https://holtankoljak.hu/mol_szikszo_vasartermiskolciu5",
           479.9,
           539.9,
           479.9
          ],
          [
           "https://holtankoljak.hu/mol_vasarosnameny_nyiregyhaziut1",
           479.9,
           539.9,
           479.9
          ],
          [
           "https://holtankoljak.hu/mol_nyiregyhaza_nagykalloiut",
           479.9,
           539.9,
           479.9
          ],
          [
           "https://holtankoljak.hu/mol_paty_22-eskmiidelsasfeszek-to",
           479.9,
           539.9,
           479.9
          ],
          [
           "https://holtankoljak.hu/mol_nagykanizsa_camping",
           479.9,
           539.9,
           479.9
          ],
          [
           "https://holtankoljak.hu/mol_kormend_rakocziferencut",
           479.9,
           539.9,
           479.9
          ],
          [
           "https://holtankoljak.hu/mol_parad_24szfklut",
           479.9,
           539.9,
           479.9
          ],
          [
           "https://holtankoljak.hu/mol_budapest_verespeterut105-107xvi",
           479.9,
           539.9,
           479.9
          ],
          [
           "https://holtankoljak.hu/mol_partner+_zomba_kulterulet032",
           480,
           null,
           480
          ],
          [
           "https://holtankoljak.hu/mol_kecskemet_izsakiut67",
           479.9,
           539.9,
           479.9
          ],
          [
           "https://holtankoljak.hu/mol_hajdudorog_boszormenyiut85",
           479.9,
           539.9,
           479.9
          ],
          [
           "https://holtankoljak.hu/mol_retsag_2szfklut",
           479.9,
           539.9,
           479.9
          ],
          [
           "https://holtankoljak.hu/mol_dombrad_tiszakanyariuthagohegy",
           479.9,
           null,
           479.9
          ],
          [
           "https://holtankoljak.hu/mol_dunaujvaros_6szfklut67km",
           479.9,
           539.9,
           479.9
          ],
          [
           "https://holtankoljak.hu/mol-partner_dusnok_bercsenyiu5051szfout",
           479.9,
           533.9,
           479.9
          ],
          [
           "https://holtankoljak.hu/mol_kerekteleki_kulterulet81szamufout",
           479.9,
           539.9,
           479.9
          ],
          [
           "https://holtankoljak.hu/mol_dorog_becsiut",
           479.9,
           539.9,
           479.9
          ],
          [
           "https://holtankoljak.hu/mol_vamospercs_debreceniut",
           479.9,
           539.9,
           479.9
          ],
          [
           "https://holtankoljak.hu/mol_aszod_pestiut3",
           479.9,
           539.9,
           479.9
          ],
          [
           "https://holtankoljak.hu/mol_budapest_ulloiut303",
           479.9,
           539.9,
           479.9
          ],
          [
           "https://holtankoljak.hu/mol_balatonlelle_m7ikimeno",
           479.9,
           539.9,
           479.9
          ],
          [
           "https://holtankoljak.hu/mol_piliscsaba_10-esfout160213hrsz24km",
           479.9,
           539.9,
           479.9
          ],
          [
           "https://holtankoljak.hu/mol_pecs_komloiut",
           479.9,
           539.9,
           479.9
          ],
          [
           "https://holtankoljak.hu/mol_csepreg_rakocziut",
           479.9,
           null,
           479.9
          ],
          [
           "https://holtankoljak.hu/mol_devecser_papaiut",
           479.9,
           539.9,
           479.9
          ],
          [
           "https://holtankoljak.hu/mol_mezokovacshaza_vasarhelyiut1",
           479.9,
           539.9,
           479.9
          ],
          [
           "https://holtankoljak.hu/mol_kunszentmarton_szentesiut",
           479.9,
           539.9,
           479.9
          ],
          [
           "https://holtankoljak.hu/mol_ajka_foutaranyvolgyiutca",
           479.9,
           539.9,
           479.9
          ],
          [
           "https://holtankoljak.hu/mol_szekesfehervar_seregelyesiut113",
           479.9,
           539.9,
           479.9
          ],
          [
           "https://holtankoljak.hu/mol_kiskunmajsa_halasiu99",
           479.9,
           539.9,
           479.9
          ],
          [
           "https://holtankoljak.hu/mol_sajoszentpeter_kossuthlajosut",
           479.9,
           539.9,
           479.9
          ],
          [
           "https://holtankoljak.hu/mol_eger_kovagoter",
           479.9,
           539.9,
           479.9
          ],
          [
           "https://holtankoljak.hu/mol_bonyhad_kossuthlajosu79bonyhadelkerulout",
           479.9,
           539.9,
           479.9
          ],
          [
           "https://holtankoljak.hu/mol_budapest_bogancsuxv",
           479.9,
           539.9,
           479.9
          ],
          [
           "https://holtankoljak.hu/mol_harkany_pecsiut",
           479.9,
           539.9,
           479.9
          ],
          [
           "https://holtankoljak.hu/mol_veszprem_almadiu171",
           479.9,
           539.9,
           479.9
          ],
          [
           "https://holtankoljak.hu/mol_ercsi_m6iibejovom6kulterulet30kmszelveny",
           479.9,
           539.9,
           479.9
          ],
          [
           "https://holtankoljak.hu/mol_pecs_pecsvaradiut12",
           479.9,
           539.9,
           479.9
          ],
          [
           "https://holtankoljak.hu/mol_pecel_koztarsasagter",
           479.9,
           539.9,
           479.9
          ],
          [
           "https://holtankoljak.hu/mol_szarvas_szabadsagut51-53",
           479.9,
           539.9,
           479.9
          ],
          [
           "https://holtankoljak.hu/mol_szecseny_salgotarjaniut",
           479.9,
           539.9,
           479.9
          ],
          [
           "https://holtankoljak.hu/mol_godollo_3szfoutipariparkpattantyusabrahamkrt4",
           479.9,
           539.9,
           479.9
          ],
          [
           "https://holtankoljak.hu/mol_mogyorod_hungaroring",
           479.9,
           null,
           479.9
          ],
          [
           "https://holtankoljak.hu/mol_partner_+_kiskunhalas_vadkertiut10374",
           479.9,
           null,
           479.9
          ],
          [
           "https://holtankoljak.hu/mol_budapest_cinkotaiut30",
           479.9,
           539.9,
           479.9
          ],
          [
           "https://holtankoljak.hu/mol_jakabszallas_iikerulet19",
           479.9,
           539.9,
           479.9
          ],
          [
           "https://holtankoljak.hu/mol_vac_balassagyarmatiut1",
           479.9,
           539.9,
           479.9
          ],
          [
           "https://holtankoljak.hu/mol_mezotur_balassibalintu",
           479.9,
           539.9,
           479.9
          ],
          [
           "https://holtankoljak.hu/mol_mohacs_pecsiut",
           479.9,
           539.9,
           479.9
          ],
          [
           "https://holtankoljak.hu/mol_bekescsaba_corvinu31",
           479.9,
           539.9,
           479.9
          ],
          [
           "https://holtankoljak.hu/mol_zalakomar_8752eszak-inabenzikutm7",
           479.9,
           539.9,
           479.9
          ],
          [
           "https://holtankoljak.hu/mol_debrecen_boszormenyiut",
           479.9,
           539.9,
           479.9
          ],
          [
           "https://holtankoljak.hu/mol_kaposszekcso_611-esfout010327hrszpetofiu",
           479.9,
           539.9,
           479.9
          ],
          [
           "https://holtankoljak.hu/mol_balatonlelle_m7iibejovo",
           479.9,
           539.9,
           479.9
          ],
          [
           "https://holtankoljak.hu/mol_gyula_temesvariut34692hrsz",
           479.9,
           539.9,
           479.9
          ],
          [
           "https://holtankoljak.hu/mol_cserkeszolo_kecskemetiut",
           479.9,
           539.9,
           479.9
          ],
          [
           "https://holtankoljak.hu/mol_kerepes_szabadsagut",
           479.9,
           539.9,
           479.9
          ],
          [
           "https://holtankoljak.hu/mol_budapest_hungariakrt83-85xiv",
           479.9,
           539.9,
           479.9
          ],
          [
           "https://holtankoljak.hu/mol_mohacs_eszekiut",
           479.9,
           539.9,
           479.9
          ],
          [
           "https://holtankoljak.hu/mol_tolna_szedresiu",
           479.9,
           539.9,
           479.9
          ],
          [
           "https://holtankoljak.hu/mol_szentgotthard_8-asut",
           479.9,
           539.9,
           479.9
          ],
          [
           "https://holtankoljak.hu/mol_celldomolk_ostffyter",
           479.9,
           539.9,
           479.9
          ],
          [
           "https://holtankoljak.hu/mol_szigetszentmiklos_petofisandorutca139",
           479.9,
           539.9,
           479.9
          ],
          [
           "https://holtankoljak.hu/mol_kecskemet_m5autopalyabal",
           479.9,
           539.9,
           479.9
          ],
          [
           "https://holtankoljak.hu/mol_szekszard_pasztorut6",
           479.9,
           539.9,
           479.9
          ],
          [
           "https://holtankoljak.hu/mol_budapest_ocsaiukimenoxxiii7",
           479.9,
           539.9,
           479.9
          ],
          [
           "https://holtankoljak.hu/mol_kisvarda_attilaut",
           479.9,
           539.9,
           479.9
          ],
          [
           "https://holtankoljak.hu/mol_vac_diadalter",
           479.9,
           539.9,
           479.9
          ],
          [
           "https://holtankoljak.hu/mol_budapest_vaganyu21xiv",
           479.9,
           539.9,
           479.9
          ],
          [
           "https://holtankoljak.hu/mol_mezobereny_bekesiut",
           479.9,
           539.9,
           479.9
          ],
          [
           "https://holtankoljak.hu/mol_balatonfured_szechenyiistvanut",
           479.9,
           539.9,
           479.9
          ],
          [
           "https://holtankoljak.hu/mol_veszprem_papaiut42",
           479.9,
           539.9,
           479.9
          ],
          [
           "https://holtankoljak.hu/mol_gardony_szabadsagu9",
           479.9,
           539.9,
           479.9
          ],
          [
           "https://holtankoljak.hu/mol_hajduszoboszlo_debreceniut",
           479.9,
           539.9,
           479.9
          ],
          [
           "https://holtankoljak.hu/mol_szeged_csongradisugarut87",
           479.9,
           539.9,
           479.9
          ],
          [
           "https://holtankoljak.hu/mol-partner_dobrokoz_1577hrsz",
           null,
           null,
           null
          ],
          [
           "https://holtankoljak.hu/mol_hajduboszormeny_debreceniut1",
           479.9,
           539.9,
           479.9
          ],
          [
           "https://holtankoljak.hu/mol_szarvas_bekescsabaiut",
           479.9,
           539.9,
           479.9
          ],
          [
           "https://holtankoljak.hu/mol_kiskunfelegyhaza_csongradiut18a",
           479.9,
           539.9,
           479.9
          ],
          [
           "https://holtankoljak.hu/mol_budapest_meszarosu19",
           479.9,
           539.9,
           479.9
          ],
          [
           "https://holtankoljak.hu/mol_szolnok_gaboraronter",
           479.9,
           539.9,
           479.9
          ],
          [
           "https://holtankoljak.hu/mol_kam_jokaimorut2",
           479.9,
           null,
           479.9
          ],
          [
           "https://holtankoljak.hu/mol_budapest_adyendreut67",
           479.9,
           539.9,
           479.9
          ],
          [
           "https://holtankoljak.hu/mol_kecel_csaszartoltesiu50",
           479.9,
           539.9,
           479.9
          ],
          [
           "https://holtankoljak.hu/mol_janoshalma_halasiut9140993hrsz",
           479.9,
           539.9,
           479.9
          ],
          [
           "https://holtankoljak.hu/mol_budaors_garibaldiu2",
           479.9,
           539.9,
           479.9
          ],
          [
           "https://holtankoljak.hu/mol_godollo_dozsagyorgyut61",
           479.9,
           539.9,
           479.9
          ],
          [
           "https://holtankoljak.hu/mol_erd_budaiutii",
           479.9,
           539.9,
           479.9
          ],
          [
           "https://holtankoljak.hu/mol_budapest_kossuthlu3xxi",
           479.9,
           539.9,
           479.9
          ],
          [
           "https://holtankoljak.hu/mol_salgotarjan_rakocziut77-89",
           479.9,
           539.9,
           479.9
          ],
          [
           "https://holtankoljak.hu/mol_kunhegyes_kossuthlajosu74-78",
           479.9,
           539.9,
           479.9
          ],
          [
           "https://holtankoljak.hu/mol_partner+_jaszarokszallas_jaszberenyiut3",
           480,
           null,
           480
          ],
          [
           "https://holtankoljak.hu/mol_baja_szegediut105",
           479.9,
           539.9,
           479.9
          ],
          [
           "https://holtankoljak.hu/mol_hatvan_m3i-kerekharasztipiheno-eszak",
           479.9,
           539.9,
           479.9
          ],
          [
           "https://holtankoljak.hu/mol_szentlaszlo_0662hrsz",
           479.9,
           null,
           479.9
          ],
          [
           "https://holtankoljak.hu/mol_balatonfoldvar_szentgyorgyiut",
           479.9,
           539.9,
           479.9
          ],
          [
           "https://holtankoljak.hu/mol_komlo_feketegyemantter",
           479.9,
           539.9,
           479.9
          ],
          [
           "https://holtankoljak.hu/mol_sarospatak_wesselenyimiklosut",
           479.9,
           539.9,
           479.9
          ],
          [
           "https://holtankoljak.hu/mol_torokszentmiklos_kossuthlajosut92-94",
           479.9,
           539.9,
           479.9
          ],
          [
           "https://holtankoljak.hu/mol_nyiregyhaza_pazonyiut",
           479.9,
           539.9,
           479.9
          ],
          [
           "https://holtankoljak.hu/mol_gyomaendrod_fout",
           479.9,
           539.9,
           479.9
          ],
          [
           "https://holtankoljak.hu/mol_lajosmizse_50szutjobboldal",
           479.9,
           539.9,
           479.9
          ],
          [
           "https://holtankoljak.hu/mol_budapest_ulloiut661xviii",
           479.9,
           539.9,
           479.9
          ],
          [
           "https://holtankoljak.hu/mol_edeleny_27szfklut",
           479.9,
           539.9,
           479.9
          ],
          [
           "https://holtankoljak.hu/mol_nagykata_adyendreu",
           479.9,
           539.9,
           479.9
          ],
          [
           "https://holtankoljak.hu/mol_torokbalint_m0autopalya6kmszelvannahegyipihenodel",
           479.9,
           539.9,
           479.9
          ],
          [
           "https://holtankoljak.hu/mol_kadarkut_kaposvariu",
           479.9,
           539.9,
           479.9
          ],
          [
           "https://holtankoljak.hu/mol_karcag_gyarmatiu",
           479.9,
           539.9,
           479.9
          ],
          [
           "https://holtankoljak.hu/mol_adony_6szfklut",
           479.9,
           539.9,
           479.9
          ],
          [
           "https://holtankoljak.hu/mol_polgar_hajduu16munkacsyut",
           479.9,
           539.9,
           479.9
          ],
          [
           "https://holtankoljak.hu/mol_veresegyhaz_fou",
           479.9,
           539.9,
           479.9
          ],
          [
           "https://holtankoljak.hu/mol_bekescsaba_szarvasiut",
           479.9,
           539.9,
           479.9
          ],
          [
           "https://holtankoljak.hu/mol_kistelek_5szfklutjobboldal",
           479.9,
           539.9,
           479.9
          ],
          [
           "https://holtankoljak.hu/mol_budaors_repuloterkinizsiu40472hrsz",
           479.9,
           539.9,
           479.9
          ],
          [
           "https://holtankoljak.hu/mol_mor_nemesutca81-esut",
           479.9,
           539.9,
           479.9
          ],
          [
           "https://holtankoljak.hu/mol_hodmezovasarhely_szantokovacsjanosut170",
           479.9,
           539.9,
           479.9
          ],
          [
           "https://holtankoljak.hu/mol_tiszakecske_szolnokiu",
           479.9,
           539.9,
           479.9
          ],
          [
           "https://holtankoljak.hu/mol_biharkeresztes_42szfklut",
           479.9,
           539.9,
           479.9
          ],
          [
           "https://holtankoljak.hu/mol_szerencs_37szfklut",
           479.9,
           539.9,
           479.9
          ],
          [
           "https://holtankoljak.hu/mol_budapest_vaciut19",
           479.9,
           539.9,
           479.9
          ],
          [
           "https://holtankoljak.hu/mol_koszeg_petofisandorter",
           479.9,
           539.9,
           479.9
          ],
          [
           "https://holtankoljak.hu/mol_tokaj_tarcaliut86",
           479.9,
           539.9,
           479.9
          ],
          [
           "https://holtankoljak.hu/mol_bicske_botondter",
           479.9,
           539.9,
           479.9
          ],
          [
           "https://holtankoljak.hu/mol_tamasi_szabadsagu90",
           479.9,
           539.9,
           479.9
          ],
          [
           "https://holtankoljak.hu/mol_zalaegerszeg_balatoniuti",
           479.9,
           539.9,
           479.9
          ],
          [
           "https://holtankoljak.hu/mol_szatymaz_m5autopalya151kmjobboldal",
           479.9,
           539.9,
           479.9
          ],
          [
           "https://holtankoljak.hu/mol_esztergom_visegradiut",
           479.9,
           539.9,
           479.9
          ],
          [
           "https://holtankoljak.hu/mol_hatvan_m3ii-kerekharasztipiheno-eszak",
           479.9,
           539.9,
           479.9
          ],
          [
           "https://holtankoljak.hu/mol_zalaegerszeg_zrinyimiklosut20",
           479.9,
           539.9,
           479.9
          ],
          [
           "https://holtankoljak.hu/mol_bataszek_budaiut114-116",
           479.9,
           539.9,
           479.9
          ],
          [
           "https://holtankoljak.hu/mol_hegyeshalom_fout1",
           479.9,
           null,
           479.9
          ],
          [
           "https://holtankoljak.hu/mol_nyiregyhaza_laszlou",
           479.9,
           539.9,
           479.9
          ],
          [
           "https://holtankoljak.hu/mol_sarbogard_koztarsasagut147",
           479.9,
           539.9,
           479.9
          ],
          [
           "https://holtankoljak.hu/mol_budapest_szentmihalyiut148",
           479.9,
           539.9,
           479.9
          ],
          [
           "https://holtankoljak.hu/mol_kazincbarcika_mucsonyiut1",
           479.9,
           539.9,
           479.9
          ],
          [
           "https://holtankoljak.hu/mol_budapest_adyendreut22-26",
           479.9,
           539.9,
           479.9
          ],
          [
           "https://holtankoljak.hu/mol_zamardi_endrediut",
           479.9,
           539.9,
           479.9
          ],
          [
           "https://holtankoljak.hu/mol_siofok_m7autopalya94kmeszaksostoipihenoi",
           479.9,
           539.9,
           479.9
          ],
          [
           "https://holtankoljak.hu/mol-partner_szolnok_simonferencutca46",
           479.9,
           null,
           479.9
          ],
          [
           "https://holtankoljak.hu/mol_tiszaujvaros_35szfklut",
           479.9,
           539.9,
           479.9
          ],
          [
           "https://holtankoljak.hu/mol_mariapocs_pocsisarok",
           479.9,
           null,
           479.9
          ],
          [
           "https://holtankoljak.hu/mol_algyo_szeged47szfklutalgyopf11",
           479.9,
           539.9,
           479.9
          ],
          [
           "https://holtankoljak.hu/mol_szolnok_elkerulout",
           479.9,
           539.9,
           479.9
          ],
          [
           "https://holtankoljak.hu/mol_gyor_budaiutmartiroku",
           479.9,
           539.9,
           479.9
          ],
          [
           "https://holtankoljak.hu/mol_budapest_istenhegyiu55xii",
           479.9,
           539.9,
           479.9
          ],
          [
           "https://holtankoljak.hu/mol_debrecen_samsoniut",
           479.9,
           539.9,
           479.9
          ],
          [
           "https://holtankoljak.hu/mol_leanyfalu_moriczzsigmondut165",
           479.9,
           539.9,
           479.9
          ],
          [
           "https://holtankoljak.hu/mol_budapest_hunyadijanosut2xi",
           479.9,
           539.9,
           479.9
          ],
          [
           "https://holtankoljak.hu/mol_oroshaza_elkeruloutvasarhelyiut",
           479.9,
           539.9,
           479.9
          ],
          [
           "https://holtankoljak.hu/mol_pilisvorosvar_10szfkluthrsz014031",
           479.9,
           539.9,
           479.9
          ],
          [
           "https://holtankoljak.hu/mol_berettyoujfalu_42szfklutfoldesiut49",
           479.9,
           539.9,
           479.9
          ],
          [
           "https://holtankoljak.hu/mol_szeged_makkoshazikrt6",
           479.9,
           null,
           479.9
          ],
          [
           "https://holtankoljak.hu/mol_kalocsa_negyvennyolcasut52",
           479.9,
           539.9,
           479.9
          ],
          [
           "https://holtankoljak.hu/mol_nagykallo_koranyifrigyesut104",
           479.9,
           539.9,
           479.9
          ],
          [
           "https://holtankoljak.hu/mol_gyal_korosiut",
           479.9,
           539.9,
           479.9
          ],
          [
           "https://holtankoljak.hu/mol_hogyesz_szeruskertsor",
           479.9,
           null,
           479.9
          ],
          [
           "https://holtankoljak.hu/mol-partner_ocsa_ulloiutca41",
           479.9,
           null,
           479.9
          ],
          [
           "https://holtankoljak.hu/mol_kaposvar_furediut180",
           479.9,
           539.9,
           479.9
          ],
          [
           "https://holtankoljak.hu/mol_budapest_gubacsiu27ix",
           479.9,
           539.9,
           479.9
          ],
          [
           "https://holtankoljak.hu/mol_heviz_heviziut",
           479.9,
           539.9,
           479.9
          ],
          [
           "https://holtankoljak.hu/mol_tatabanya_gyoriut",
           479.9,
           539.9,
           479.9
          ],
          [
           "https://holtankoljak.hu/mol_kecskemet_budaiu",
           479.9,
           539.9,
           479.9
          ],
          [
           "https://holtankoljak.hu/mol_gyongyos_alkotmanyut19",
           479.9,
           539.9,
           479.9
          ],
          [
           "https://holtankoljak.hu/mol_bekescsaba_bartokbelaut",
           479.9,
           539.9,
           479.9
          ],
          [
           "https://holtankoljak.hu/mol_salgotarjan_budapestiu21szfklut57km",
           479.9,
           539.9,
           479.9
          ],
          [
           "https://holtankoljak.hu/mol_beled_86szfklut",
           479.9,
           539.9,
           479.9
          ],
          [
           "https://holtankoljak.hu/mol_balatonederics_71-esfout069hrsz",
           479.9,
           539.9,
           479.9
          ],
          [
           "https://holtankoljak.hu/mol_miskolc_pestiutibemeno",
           479.9,
           null,
           479.9
          ],
          [
           "https://holtankoljak.hu/mol_fonyod_jozsefattilaubelatelep",
           479.9,
           539.9,
           479.9
          ],
          [
           "https://holtankoljak.hu/mol_baja_dozsagyu97",
           479.9,
           539.9,
           479.9
          ],
          [
           "https://holtankoljak.hu/mol_budapest_fotiut130",
           479.9,
           539.9,
           479.9
          ],
          [
           "https://holtankoljak.hu/mol_gyor_nagymegyeriut",
           479.9,
           539.9,
           479.9
          ],
          [
           "https://holtankoljak.hu/mol_budapest_gyaliut38236441",
           479.9,
           539.9,
           479.9
          ],
          [
           "https://holtankoljak.hu/mol_nagyvazsony_templomkert",
           479.9,
           539.9,
           479.9
          ],
          [
           "https://holtankoljak.hu/mol_diosd_tetenyiu2hrsz36661",
           479.9,
           539.9,
           479.9
          ],
          [
           "https://holtankoljak.hu/mol_fulopszallas_kulterulet52szamufoutkurjantopuszta",
           479.9,
           539.9,
           479.9
          ],
          [
           "https://holtankoljak.hu/mol_budapest_garamu2xiii",
           479.9,
           539.9,
           479.9
          ],
          [
           "https://holtankoljak.hu/mol_mosonmagyarovar_m1-m15autopalyaiipf109",
           479.9,
           539.9,
           479.9
          ],
          [
           "https://holtankoljak.hu/mol_partner+_inarcs_szechenyiutca14",
           479.9,
           518,
           479.9
          ],
          [
           "https://holtankoljak.hu/mol_szazhalombatta_bekotout",
           479.9,
           539.9,
           479.9
          ],
          [
           "https://holtankoljak.hu/mol_bacsalmas_backnangut7",
           479.9,
           539.9,
           479.9
          ],
          [
           "https://holtankoljak.hu/mol_nagymaros_vaciut119",
           479.9,
           539.9,
           479.9
          ],
          [
           "https://holtankoljak.hu/mol_szeghalom_adyendreut22",
           479.9,
           539.9,
           479.9
          ],
          [
           "https://holtankoljak.hu/mol_balatonlelle_rakocziferencu1",
           479.9,
           539.9,
           479.9
          ],
          [
           "https://holtankoljak.hu/mol_godollo_szabadsagu12",
           479.9,
           539.9,
           479.9
          ],
          [
           "https://holtankoljak.hu/mol_kiskoros_petofisu94",
           479.9,
           539.9,
           479.9
          ],
          [
           "https://holtankoljak.hu/mol_szeged_makaiut",
           479.9,
           539.9,
           479.9
          ],
          [
           "https://holtankoljak.hu/mol_balatonkeresztur_7szfklut",
           479.9,
           539.9,
           479.9
          ],
          [
           "https://holtankoljak.hu/mol_szekesfehervar_balatoniut",
           479.9,
           539.9,
           479.9
          ],
          [
           "https://holtankoljak.hu/mol_szolnok_pozsonyiut80",
           479.9,
           539.9,
           479.9
          ],
          [
           "https://holtankoljak.hu/mol_szeged_dorozsmaiut16",
           479.9,
           539.9,
           479.9
          ],
          [
           "https://holtankoljak.hu/mol_deg_64szfklut",
           479.9,
           539.9,
           479.9
          ],
          [
           "https://holtankoljak.hu/mol-partner_gyor_farkasmatyasutca4",
           479.9,
           null,
           479.9
          ],
          [
           "https://holtankoljak.hu/mol_balatonvilagos_balatonakarattya71szfout",
           479.9,
           539.9,
           479.9
          ],
          [
           "https://holtankoljak.hu/mol_balatonalmadi_fuzfoiut571-esut",
           479.9,
           539.9,
           479.9
          ],
          [
           "https://holtankoljak.hu/mol_hatvan_csanyiutsportu1",
           479.9,
           539.9,
           479.9
          ],
          [
           "https://holtankoljak.hu/mol_debrecen_kassaiut27",
           479.9,
           539.9,
           479.9
          ],
          [
           "https://holtankoljak.hu/mol_kal_rekettyespihenom3ieszak",
           479.9,
           539.9,
           479.9
          ],
          [
           "https://holtankoljak.hu/mol_keszthely_festeticsgyorgyu",
           479.9,
           539.9,
           479.9
          ],
          [
           "https://holtankoljak.hu/mol_vecses_m0iibal-alacskaipiheno",
           479.9,
           539.9,
           479.9
          ],
          [
           "https://holtankoljak.hu/mol_szombathely_markusemiliautca10",
           479.9,
           539.9,
           479.9
          ],
          [
           "https://holtankoljak.hu/mol_lovo_koszegiuthrsz017939",
           479.9,
           539.9,
           479.9
          ],
          [
           "https://holtankoljak.hu/mol_nagycenk_84szfklut",
           479.9,
           539.9,
           479.9
          ],
          [
           "https://holtankoljak.hu/mol_budapest_futou",
           479.9,
           539.9,
           479.9
          ],
          [
           "https://holtankoljak.hu/mol_budaors_metrokeletiutca",
           479.9,
           539.9,
           479.9
          ],
          [
           "https://holtankoljak.hu/mol_szazhalombatta_dufiolajmunkasut2",
           479.9,
           null,
           479.9
          ],
          [
           "https://holtankoljak.hu/mol_lenti_szechenyiter3",
           479.9,
           539.9,
           479.9
          ],
          [
           "https://holtankoljak.hu/mol_pecs_szigetiut",
           479.9,
           539.9,
           479.9
          ],
          [
           "https://holtankoljak.hu/mol_vajszlo_szechenyiistvanut34",
           479.9,
           539.9,
           479.9
          ],
          [
           "https://holtankoljak.hu/mol_budapest_weissmanfredut2",
           479.9,
           539.9,
           479.9
          ],
          [
           "https://holtankoljak.hu/mol-partner_ujszasz_jaszut21",
           479.9,
           null,
           479.9
          ],
          [
           "https://holtankoljak.hu/mol_gyor_szentimreu55",
           479.9,
           539.9,
           479.9
          ],
          [
           "https://holtankoljak.hu/mol_szentgotthard_rabafuzesiut1",
           479.9,
           539.9,
           479.9
          ],
          [
           "https://holtankoljak.hu/mol_velence_m7autopalyaieszak",
           479.9,
           539.9,
           479.9
          ],
          [
           "https://holtankoljak.hu/mol_teglas_4szfklut",
           479.9,
           539.9,
           479.9
          ],
          [
           "https://holtankoljak.hu/mol_paty_22-eskmeszaksasfeszek-topaty",
           479.9,
           539.9,
           479.9
          ],
          [
           "https://holtankoljak.hu/mol_devavanya_sportu5",
           479.9,
           539.9,
           479.9
          ],
          [
           "https://holtankoljak.hu/mol_csavoly_dozsagyu50",
           479.9,
           539.9,
           479.9
          ],
          [
           "https://holtankoljak.hu/mol_mateszalka_vasarter5",
           479.9,
           539.9,
           479.9
          ],
          [
           "https://holtankoljak.hu/mol_sasd_noszlopygasparu",
           479.9,
           539.9,
           479.9
          ],
          [
           "https://holtankoljak.hu/mol_budapest_szentistvanutxxi",
           479.9,
           539.9,
           479.9
          ],
          [
           "https://holtankoljak.hu/mol_diosd_balatoniut11",
           479.9,
           539.9,
           479.9
          ],
          [
           "https://holtankoljak.hu/mol_budapest_szentendreiut100",
           479.9,
           539.9,
           479.9
          ],
          [
           "https://holtankoljak.hu/mol_partner+_gyor_vasvaripalu1",
           479.9,
           null,
           479.9
          ],
          [
           "https://holtankoljak.hu/mol_cegled_pestiut87",
           479.9,
           539.9,
           479.9
          ],
          [
           "https://holtankoljak.hu/mol_jaszbereny_szolnokiu",
           479.9,
           539.9,
           479.9
          ],
          [
           "https://holtankoljak.hu/mol_partner+_akaszto_fou18953-asutmellett",
           null,
           null,
           null
          ],
          [
           "https://holtankoljak.hu/mol_lakitelek_szikrau206c",
           479.9,
           539.9,
           479.9
          ],
          [
           "https://holtankoljak.hu/mol_szentendre_vasutivillasor6",
           479.9,
           539.9,
           479.9
          ],
          [
           "https://holtankoljak.hu/mol_partner+_ladanybene_foutca78",
           479.9,
           null,
           479.9
          ],
          [
           "https://holtankoljak.hu/mol_szombathely_zanatiutii29",
           479.9,
           539.9,
           479.9
          ],
          [
           "https://holtankoljak.hu/mol_szeged_vasarhelyipalu25444hrsz",
           479.9,
           539.9,
           479.9
          ],
          [
           "https://holtankoljak.hu/mol_budapest_puskasfuxix",
           479.9,
           539.9,
           479.9
          ],
          [
           "https://holtankoljak.hu/mol_redics_86szfklut",
           479.9,
           539.9,
           479.9
          ],
          [
           "https://holtankoljak.hu/mol_budapest_nagykorosiutxix88",
           479.9,
           539.9,
           479.9
          ],
          [
           "https://holtankoljak.hu/mol_ujfeherto_4szfklut",
           479.9,
           539.9,
           479.9
          ],
          [
           "https://holtankoljak.hu/mol_szilvasvarad_egriut34",
           479.9,
           null,
           479.9
          ],
          [
           "https://holtankoljak.hu/mol_debrecen_segnerternyugatiu6",
           479.9,
           539.9,
           479.9
          ],
          [
           "https://holtankoljak.hu/mol_szalanta_58fout",
           479.9,
           539.9,
           479.9
          ],
          [
           "https://holtankoljak.hu/mol_papa_csokafogado",
           479.9,
           539.9,
           479.9
          ],
          [
           "https://holtankoljak.hu/mol-partner_nagykanizsa_magyarutca166",
           479.9,
           null,
           479.9
          ],
          [
           "https://holtankoljak.hu/mol_encs_3szfklut",
           479.9,
           539.9,
           479.9
          ],
          [
           "https://holtankoljak.hu/mol_szekesfehervar_seregelyesiut66",
           479.9,
           539.9,
           479.9
          ],
          [
           "https://holtankoljak.hu/mol_kaposvar_marhahajtoutvasarter",
           479.9,
           539.9,
           479.9
          ],
          [
           "https://holtankoljak.hu/mol_csongrad_szentesiut",
           479.9,
           539.9,
           479.9
          ],
          [
           "https://holtankoljak.hu/mol_hajdunanas_tiszavasvariut",
           479.9,
           539.9,
           479.9
          ],
          [
           "https://holtankoljak.hu/mol_sarkad_vasarter1-3",
           479.9,
           539.9,
           479.9
          ],
          [
           "https://holtankoljak.hu/mol_siofok_m7autopalya94kmdelsostoipihenoii",
           479.9,
           539.9,
           479.9
          ],
          [
           "https://holtankoljak.hu/mol_eger_kistalyaiut1a",
           479.9,
           539.9,
           479.9
          ],
          [
           "https://holtankoljak.hu/mol_mor_nemesu24",
           479.9,
           539.9,
           479.9
          ],
          [
           "https://holtankoljak.hu/mol_nagykanizsa_elkerulout-garaiut17",
           479.9,
           539.9,
           479.9
          ],
          [
           "https://holtankoljak.hu/mol_kapolna_3szfklut",
           479.9,
           539.9,
           479.9
          ],
          [
           "https://holtankoljak.hu/mol_oroszlany_rakocziferencut94a",
           479.9,
           539.9,
           479.9
          ],
          [
           "https://holtankoljak.hu/mol_gavavencsello_petofisandoru53",
           479.9,
           null,
           479.9
          ],
          [
           "https://holtankoljak.hu/mol_partner+_etyek_kossuthlajosu72",
           479.9,
           null,
           479.9
          ],
          [
           "https://holtankoljak.hu/mol_budapest_nagyszolosu47-4945662hrsz",
           479.9,
           539.9,
           479.9
          ],
          [
           "https://holtankoljak.hu/mol_cegled_nagykorosiut441szfklut",
           479.9,
           539.9,
           479.9
          ],
          [
           "https://holtankoljak.hu/mol_budapest_gemeskutu12",
           479.9,
           539.9,
           479.9
          ],
          [
           "https://holtankoljak.hu/mol_nyiregyhaza_szenater",
           479.9,
           539.9,
           479.9
          ],
          [
           "https://holtankoljak.hu/mol_partner_+_tazlar_soltvadkertiutca16",
           479.9,
           null,
           479.9
          ],
          [
           "https://holtankoljak.hu/mol_budapest_kerepesiut5-7",
           479.9,
           539.9,
           479.9
          ],
          [
           "https://holtankoljak.hu/mol_mezocsat_kossuthu",
           479.9,
           539.9,
           479.9
          ],
          [
           "https://holtankoljak.hu/mol_pincehely_kossuthu4",
           479.9,
           null,
           479.9
          ],
          [
           "https://holtankoljak.hu/mol_szigetvar_jozsefattilau66",
           479.9,
           539.9,
           479.9
          ],
          [
           "https://holtankoljak.hu/mol_sumeg_alkotmanyu",
           479.9,
           539.9,
           479.9
          ],
          [
           "https://holtankoljak.hu/mol_pecs_siklosiut9",
           479.9,
           539.9,
           479.9
          ],
          [
           "https://holtankoljak.hu/mol_szombathely_viktoriaut1",
           479.9,
           539.9,
           479.9
          ],
          [
           "https://holtankoljak.hu/mol_nyiregyhaza_vasgyaru18",
           479.9,
           539.9,
           479.9
          ],
          [
           "https://holtankoljak.hu/mol_zirc_kossuthlajosut",
           479.9,
           539.9,
           479.9
          ],
          [
           "https://holtankoljak.hu/mol_badacsonytomaj_71szfout",
           479.9,
           539.9,
           479.9
          ],
          [
           "https://holtankoljak.hu/mol_baktaloranthaza_41szfout27km",
           479.9,
           539.9,
           479.9
          ],
          [
           "https://holtankoljak.hu/mol_kiskunlachaza_hadhazu2",
           479.9,
           539.9,
           479.9
          ],
          [
           "https://holtankoljak.hu/mol_partner+_nagydorog_kossuthlu122",
           479.9,
           533,
           479.9
          ],
          [
           "https://holtankoljak.hu/mol_dombovar_koztarsasagu27tuskevar",
           479.9,
           539.9,
           479.9
          ],
          [
           "https://holtankoljak.hu/mol_mezokovesd_matyaskiralyut249",
           479.9,
           539.9,
           479.9
          ],
          [
           "https://holtankoljak.hu/mol_veszprem_budapestiu91",
           479.9,
           539.9,
           479.9
          ],
          [
           "https://holtankoljak.hu/mol_mosonmagyarovar_halasziut01393hrsz",
           479.9,
           null,
           479.9
          ],
          [
           "https://holtankoljak.hu/mol_abda_becsiu1",
           479.9,
           550.9,
           479.9
          ],
          [
           "https://holtankoljak.hu/mol_gyongyos_pestiut67",
           479.9,
           539.9,
           479.9
          ],
          [
           "https://holtankoljak.hu/mol_budapest_mezokovesdut1",
           479.9,
           539.9,
           479.9
          ],
          [
           "https://holtankoljak.hu/mol_kazincbarcika_26szfoutbc4-esporta3928hrsz",
           479.9,
           539.9,
           479.9
          ],
          [
           "https://holtankoljak.hu/mol_sarvar_vagohidu1",
           479.9,
           539.9,
           479.9
          ],
          [
           "https://holtankoljak.hu/mol_tata_vertesszolosiutbaloldal",
           479.9,
           539.9,
           479.9
          ],
          [
           "https://holtankoljak.hu/mol-partner_hetes_petofisandorutca1",
           480,
           null,
           480
          ],
          [
           "https://holtankoljak.hu/mol_pecsvarad_6szfklut",
           479.9,
           539.9,
           479.9
          ],
          [
           "https://holtankoljak.hu/mol_cegled_m4deli",
           479.9,
           539.9,
           479.9
          ],
          [
           "https://holtankoljak.hu/mol_budaors_rubikernou3",
           479.9,
           539.9,
           479.9
          ],
          [
           "https://holtankoljak.hu/mol_varpalota_8szfklutiibal",
           479.9,
           539.9,
           479.9
          ],
          [
           "https://holtankoljak.hu/mol_batonyterenye_21szfklut",
           479.9,
           539.9,
           479.9
          ],
          [
           "https://holtankoljak.hu/mol_budapest_szentendreiut59a",
           479.9,
           539.9,
           479.9
          ],
          [
           "https://holtankoljak.hu/mol_karcag_madarasiut",
           479.9,
           539.9,
           479.9
          ],
          [
           "https://holtankoljak.hu/mol_kony_dozsagyu67",
           479.9,
           539.9,
           479.9
          ],
          [
           "https://holtankoljak.hu/mol_szekszard_m6ijobboldal",
           479.9,
           539.9,
           479.9
          ],
          [
           "https://holtankoljak.hu/mol_tapolca_kossuthut",
           479.9,
           539.9,
           479.9
          ],
          [
           "https://holtankoljak.hu/mol_pomaz_arpadfejedelemu",
           479.9,
           539.9,
           479.9
          ],
          [
           "https://holtankoljak.hu/mol_pecs_6szfklutcserkut",
           479.9,
           539.9,
           479.9
          ],
          [
           "https://holtankoljak.hu/mol_zalakomar_8752del-inabenzikutm7",
           479.9,
           539.9,
           479.9
          ],
          [
           "https://holtankoljak.hu/mol_visegrad_11szfklut",
           479.9,
           539.9,
           479.9
          ],
          [
           "https://holtankoljak.hu/mol_budapest_helsinkiu108-112",
           479.9,
           539.9,
           479.9
          ],
          [
           "https://holtankoljak.hu/mol_gyor_tataiut",
           479.9,
           539.9,
           479.9
          ],
          [
           "https://holtankoljak.hu/mol_budapest_retkozutcaxi",
           479.9,
           539.9,
           479.9
          ],
          [
           "https://holtankoljak.hu/mol_barcs_erkelferencutcahrsz1931",
           479.9,
           539.9,
           479.9
          ],
          [
           "https://holtankoljak.hu/mol_putnok_26szfklut",
           479.9,
           539.9,
           479.9
          ],
          [
           "https://holtankoljak.hu/mol_hatvan_elkerulout",
           479.9,
           539.9,
           479.9
          ],
          [
           "https://holtankoljak.hu/mol_szentlorinc_torokfoldu",
           479.9,
           539.9,
           479.9
          ],
          [
           "https://holtankoljak.hu/mol_heves_csatiut",
           479.9,
           539.9,
           479.9
          ],
          [
           "https://holtankoljak.hu/mol-partner_hernad_koztarsasagut45doutbenzinkutbt",
           479.9,
           null,
           479.9
          ],
          [
           "https://holtankoljak.hu/mol_vasvar_drtretterlaszlou52",
           479.9,
           539.9,
           479.9
          ],
          [
           "https://holtankoljak.hu/mol_puspokladany_keletisor17",
           479.9,
           539.9,
           479.9
          ],
          [
           "https://holtankoljak.hu/mol_budapest_arpadfejedelemut103",
           479.9,
           539.9,
           479.9
          ],
          [
           "https://holtankoljak.hu/mol_gorbehaza_m3iidel1825-oskmkohrsz04376",
           479.9,
           539.9,
           479.9
          ],
          [
           "https://holtankoljak.hu/mol_cegled_m4iieszak",
           479.9,
           539.9,
           479.9
          ],
          [
           "https://holtankoljak.hu/mol_budapest_hosu9viii",
           479.9,
           539.9,
           479.9
          ],
          [
           "https://holtankoljak.hu/mol_turkeve_kisujszallasiu54",
           479.9,
           539.9,
           479.9
          ],
          [
           "https://holtankoljak.hu/mol_keszthely_tapolcaiut",
           479.9,
           539.9,
           479.9
          ],
          [
           "https://holtankoljak.hu/mol_varpalota_veszpremiut1608-asfout",
           479.9,
           539.9,
           479.9
          ],
          [
           "https://holtankoljak.hu/mol_velence_m7autopalyaiidel",
           479.9,
           539.9,
           479.9
          ],
          [
           "https://holtankoljak.hu/mol_csurgo_iharosut",
           479.9,
           539.9,
           479.9
          ],
          [
           "https://holtankoljak.hu/mol_ercsi_m6ikimenom6kulterulet30kmszelveny",
           479.9,
           539.9,
           479.9
          ],
          [
           "https://holtankoljak.hu/mol_budapest_priellekorneliauxi",
           479.9,
           539.9,
           479.9
          ],
          [
           "https://holtankoljak.hu/mol_jaszbereny_nagykataiut",
           479.9,
           539.9,
           479.9
          ],
          [
           "https://holtankoljak.hu/mol_budapest_vaciut178xiii",
           479.9,
           539.9,
           479.9
          ],
          [
           "https://holtankoljak.hu/mol_veszprem_budapestiu70",
           479.9,
           539.9,
           479.9
          ],
          [
           "https://holtankoljak.hu/mol_szatymaz_m5autopalya151kmbaloldal",
           479.9,
           539.9,
           479.9
          ],
          [
           "https://holtankoljak.hu/mol_pecs_maleterpaluhrsz21169",
           479.9,
           539.9,
           479.9
          ],
          [
           "https://holtankoljak.hu/mol_dunaharaszti_fout220510-esfout",
           479.9,
           539.9,
           479.9
          ],
          [
           "https://holtankoljak.hu/mol_isaszeg_rakocziuhrsz455",
           479.9,
           539.9,
           479.9
          ],
          [
           "https://holtankoljak.hu/mol_debrecen_benedekter",
           479.9,
           539.9,
           479.9
          ],
          [
           "https://holtankoljak.hu/mol_budapest_pestiut5xvii",
           479.9,
           539.9,
           479.9
          ],
          [
           "https://holtankoljak.hu/mol_sopron_gyoriut42",
           479.9,
           539.9,
           479.9
          ],
          [
           "https://holtankoljak.hu/mol_erd_budaiuti",
           479.9,
           539.9,
           479.9
          ],
          [
           "https://holtankoljak.hu/mol_budapest_szentendreiut255",
           479.9,
           539.9,
           479.9
          ],
          [
           "https://holtankoljak.hu/mol_budapest_irinyiu45xi",
           479.9,
           539.9,
           479.9
          ],
          [
           "https://holtankoljak.hu/mol_bonyhad_zrinyimiklosu25",
           479.9,
           539.9,
           479.9
          ],
          [
           "https://holtankoljak.hu/mol_galgaguta_kossuthu27",
           479.9,
           539.9,
           479.9
          ],
          [
           "https://holtankoljak.hu/mol_budapest_nagytetenyiut",
           479.9,
           539.9,
           479.9
          ],
          [
           "https://holtankoljak.hu/mol_budapest_konyveskkrt23",
           479.9,
           539.9,
           479.9
          ],
          [
           "https://holtankoljak.hu/mol_nagykoros_teglagyariu1a",
           479.9,
           539.9,
           479.9
          ],
          [
           "https://holtankoljak.hu/mol_esztergom_dorogiut111szfklut",
           479.9,
           539.9,
           479.9
          ],
          [
           "https://holtankoljak.hu/mol_kaposvar_gubasandorut362828hrsz",
           479.9,
           559.9,
           479.9
          ],
          [
           "https://holtankoljak.hu/mol_bocsa_iiikorzet1",
           479.9,
           539.9,
           479.9
          ],
          [
           "https://holtankoljak.hu/mol_szekesfehervar_sarkereszturiut8",
           479.9,
           539.9,
           479.9
          ],
          [
           "https://holtankoljak.hu/mol_zalaegerszeg_gocsejiu37a",
           479.9,
           539.9,
           479.9
          ],
          [
           "https://holtankoljak.hu/mol_budapest_vaciut84-90",
           479.9,
           539.9,
           479.9
          ]
         ],
         "hovertemplate": "<b>%{hovertext}</b><br><br>brand=mol<br>size_for_plot=%{marker.size}<br>LAT=%{lat}<br>LON=%{lon}<br>link=%{customdata[0]}<br>Gázolaj=%{customdata[1]}<br>Prémium Gázolaj=%{customdata[2]}<br>95-ös Benzin E10=%{customdata[3]}<extra></extra>",
         "hovertext": [
          "Pécs, Verseny utca 1.",
          "Kecskemét, Kiskunfélegyházi út (Szegedi út)",
          "Görbeháza, M3 I. észak (182,5-ös km kő, hrsz: 0437/8)",
          "Rajka, Bem József u.  ",
          "Mosonmagyaróvár, Királyhidai út 51.",
          "Győrújbarát, M1 Autópálya 119. km (Arrabóna)",
          "Pécs, Endresz út  ",
          "Kecskemét, Katona József tér  ",
          "Győr, Nagy Imre u.  85.",
          "Békéscsaba, Sportcsarnok",
          "Villány, Virágosi út hrsz.0102.  ",
          "Nagyatád, Lábodi út  30.",
          "Záhony, 4.sz. fkl. út",
          "Sátoraljaújhely, Várhegy utca",
          "Kiskunhalas, Majsai út 18.  ",
          "Nagyszénás, Orosházi út",
          "Nyírbátor, Császári út",
          "Debrecen, István út 147.",
          "Kaba, 0513/118 hrsz. Meteorit út ",
          "Kecskemét, M5 autópálya jobb",
          "Sopron, Kőfaragó tér  ",
          "Nyíregyháza, Tokaji út ( Repülötér )",
          "Tiszalök, Táncsics Mihály u. 86.",
          "Hódmezővásárhely, Tóalj út",
          "Budakeszi, Temető út (Hrsz.: 2405)",
          "Tatabánya, Kossuth Lajos u.  ",
          "Eger, Rákóczi út",
          "Solt, Vecsei u. 52.  ",
          "Tapolca, Keszthelyi u.  8",
          "Miskolc, Pesti út II. (kijövő)",
          "Martfű, Földvári út 4.",
          "Komádi, Szent István út 24.",
          "Kartal, Rákóczi út 1.",
          "Debrecen, Mikepércsi út II. (bejövő)",
          "Palotás, Szabadság út",
          "Szeged, Dorozsmai út 20.  ",
          "Pásztó, Fő út  ",
          "Mezőhegyes, Kinizsi tér 1.",
          "Kecskemét, Békéscsabai út  ",
          "Zalaegerszeg, Teskándi út 38.",
          "Sopron, Határátkelő I. (kimenő)  ",
          "Szeged, Kálvária sugárút 96.  ",
          "Vecsés, Fő út 6011/2 hrsz.",
          "Tiszafűred, Ady Endre út",
          "Mosonmagyaróvár, M1 - M15. autópálya I. (Pf.:109/1)",
          "Kál, Rekettyés pihenő M3 II. dél ",
          "Dunakeszi, 2-es sz. főút 21. km",
          "Orosháza, Kettőssánc tér",
          "Fót, Keleti Márton út",
          "Kapuvár, Győri út  ",
          "Budapest XIV, Róna u. 170. (XIV.)",
          "Budapest X, Fehér u. 3. (X.) ",
          "Berettyóújfalu, 42-47 főút kereszteződés Honvéd u. 2.",
          "Budapest VIII, Golgota tér (VIII.)",
          "Miskolc, Boldva u. 2.",
          "Ráckeve, Kossuth L. u.  ",
          "Szekszárd, M6 II. bal oldal",
          "Felsőzsolca, 3. sz. főút hrsz. 2034/14",
          "Budapest XVIII, Üllői u.738. (XVIII.)",
          "Csanádpalota, Hrsz 0200/23",
          "Vecsés, M0 I. (jobb) - Alacskai pihenő",
          "Pétervására, Orgona út 6.",
          "Sajtoskál, 84-es főút 83. km",
          "Ózd, Vasvár út (25 -ös út)",
          "Budapest XIII, Pap Károly u. (XIII.)",
          "Paks, 6.sz.fkl. út bal  ",
          "Érd, Ercsi út hrsz. 26297/2",
          "Ajka, Bakonygyepes, 8.sz. fkl. út  ",
          "Dabas, 50.sz.fkl. út  ",
          "Akasztó, Fő u. 1.",
          "Gyula, Csabai út 30.",
          "Fegyvernek, 4.sz. fkl. út",
          "Kapospula, Rákóczi út 10.  ",
          "Fűzesabony, Maklári út",
          "Hajmáskér, 8-as főút 40. km",
          "Fűle, M7 Autópálya 83 km (Dél) (Lepsény) II",
          "Kaposvár, Kanizsai u. külterület 031/7",
          "Budapest IX, Napfény u. 26. (IX.)",
          "Monor, 4.sz. fkl. út (Katalin Csárda)  ",
          "Debrecen, Monostorpályi út 35/A.",
          "Ságvár, 65-ös főút",
          "Siófok, Wesselényi u. 106.",
          "Budapest XVI, Szabadföldi út 81.",
          "Dunaföldvár, 6-os út  ",
          "Sárkeresztes, 0133. (81-es főút)",
          "Letenye, Bajcsy-Zsilinszki Endre u.  38",
          "Csorna, Soproni út  21.",
          "Lőrinci, 21.sz. fkl. út  ",
          "Kecskemét, Izsáki út 12/a",
          "Szerencs, Gyár út 38.",
          "Iregszemcse, Rákóczi u. 111",
          "Komárom, Mártírok útja 82.",
          "Szekszárd, Csatári u.",
          "Kisújszállás, Deák Ferenc u. 133.",
          "Kenderes, Petőfi út 73/A",
          "Székesfehérvár, Szent Flórián krt. 5.",
          "Szolnok, Abonyi út",
          "Eger, Mátyás király út",
          "Szombathely, Zanati út  56",
          "Budapest II, Hűvösvölgyi út 136.",
          "Fűle, M7 Autópálya 83 km (Észak)(Lepsény)",
          "Budapest III, Mozaik u. 3.",
          "Fehérgyarmat, Alkotmány út 31.",
          "Sűkösd, Dózsa György út 1.  ",
          "Miskolc, Búza tér",
          "Budapest XIV, Csömöri út 27/A",
          "Böhönye, Szabadság u.  ",
          "Miskolc, Újgyőri főtér 3.",
          "Vértesszőlős, Határ u. 1-3.",
          "Abony, Radák u.  ",
          "Szigethalom, Petőfi Sándor u.  ",
          "Budapest XVI, Arany J. u. 106. (XVI.)",
          "Bóly, külterület 0184/158 hrsz.",
          "Debrecen, Mikepércsi út I. (kimenő)",
          "Marcali, Noszlopy Gáspár u. 37.  ",
          "Pápa, Győri út  (külterület)",
          "Várpalota, 8.sz.fkl. út I. (jobb)  ",
          "Gyömrő, Mendei út  ",
          "Szabadszállás, Petőfi Sándor út 19.  ",
          "Hatvan, Rákóczi út 101",
          "Berettyóújfalu, 47.sz.fkl.út",
          "Budakeszi, Budaörsi u. 2749/8 hrsz.",
          "Simontornya, Belterület 1326/3 hrsz",
          "Nagykanizsa, Balatoni út  ",
          "Hosszúpályi, Földvár u. 1/a.",
          "Csenger, Ady Endre u. 113.",
          "Budapest XI, Szeghalom u.",
          "Törökbálint, Raktárvárosi u. 3.",
          "Segesd, Dózsa György tér  ",
          "Balassagyarmat, Kővári út  ",
          "Siklós, Felszabadulás út 1211/9 hrsz.",
          "Szentes, Attila út 2.",
          "Szolnok, Tószegi út 18/A",
          "Jászjákóhalma, Fő út 130/b (31. sz. főút)",
          "Kunszentmiklós, Szabadság u. 30.  ",
          "Tolna-Mözs, Béri Balogh Ádám u. 4.",
          "Szikszó, Vásár tér/Miskolci u.5.",
          "Vásárosnamény, Nyíregyházi út 1.",
          "Nyíregyháza, Nagykállói út",
          "Páty, 22-es km II. dél (Sasfészek-tó)",
          "Nagykanizsa, Camping  ",
          "Körmend, Rákóczi Ferenc út  ",
          "Parád, 24.sz. fkl. út",
          "Budapest XVI, Veres Péter út 105-107.(XVI.)",
          "Zomba, Külterület 03/2.",
          "Kecskemét, Izsáki út 67.",
          "Hajdúdorog, Böszörményi út 85.",
          "Rétság, 2.sz. fkl. út  ",
          "Dombrád, Tiszakanyári út (Hágóhegy)  ",
          "Dunaújváros, 6.sz.fkl.út   67 km",
          "Dusnok, Bercsényi u. 50. (51. sz. főút)",
          "Kerékteleki, Külterület 81. számú főút",
          "Dorog, Bécsi út",
          "Vámospércs, Debreceni út",
          "Aszód, Pesti út 3.  ",
          "Budapest XIX, Üllői út 303.",
          "Balatonlelle, M7 I. (kimenő)",
          "Piliscsaba, 10-es fő út 1602/13. hrsz. (24. km)",
          "Pécs, Komlói út  ",
          "Csepreg, Rákóczi út  ",
          "Devecser, Pápai út  ",
          "Mezőkovácsháza, Vásárhelyi út 1.",
          "Kunszentmárton, Szentesi út",
          "Ajka, Fő út /Aranyvölgyi utca/  ",
          "Székesfehérvár, Seregélyesi út 113.",
          "Kiskunmajsa, Halasi u. 99.  ",
          "Sajószentpéter, Kossuth Lajos út",
          "Eger, Kővágó tér",
          "Bonyhád, Kossuth Lajos u. 79. (Bonyhád elkerülő út)",
          "Budapest XV, Bogáncs u. (XV.)",
          "Harkány, Pécsi út  ",
          "Veszprém, Almádi u. 17/1",
          "Ercsi, M6 II. (bejövő) (M6 külterület 30 km szelvény)",
          "Pécs, Pécsváradi út 12.",
          "Pécel, Köztársaság tér  ",
          "Szarvas, Szabadság út 51-53.",
          "Szécsény, Salgótarjáni út",
          "Gödöllő, 3. sz. Főút Ipari Park, Pattantyús Ábrahám krt. 4.",
          "Mogyoród, Hungaroring  ",
          "Kiskunhalas, Vadkerti út 1037/4",
          "Budapest XVII, Cinkotai út 30.",
          "Jakabszállás, II. kerület 19.  ",
          "Vác, Balassagyarmati út 1.",
          "Mezőtúr, Balassi Bálint u.",
          "Mohács, Pécsi út  ",
          "Békéscsaba, Corvin u. 31.",
          "Zalakomár, 8752 észak - INA benzikút M7",
          "Debrecen, Böszörményi út",
          "Kaposszekcső, 611-es főút 0103/27 hrsz. (Petőfi u.)",
          "Balatonlelle, M7 II. (bejövő)",
          "Gyula, Temesvári út 3469/2 hrsz.",
          "Cserkeszőlő, Kecskeméti út",
          "Kerepes, Szabadság út  ",
          "Budapest XIV, Hungária krt.83-85. (XIV.)",
          "Mohács, Eszéki út  ",
          "Tolna, Szedresi u.  ",
          "Szentgotthárd, 8 - as út",
          "Celldömölk, Ostffy tér  ",
          "Szigetszentmiklós, Petőfi Sándor utca 139",
          "Kecskemét, M5 autópálya  bal",
          "Szekszárd, Pásztor út 6.",
          "Budapest XXIII, Ócsai u.kimenő (XXIII.) 7.",
          "Kisvárda, Attila út",
          "Vác, Diadal tér",
          "Budapest XIV, Vágány u. 21. (XIV.)",
          "Mezőberény, Békési út",
          "Balatonfűred, Széchenyi István út  ",
          "Veszprém, Pápai út 42.",
          "Gárdony, Szabadság u.  9",
          "Hajdúszoboszló, Debreceni út",
          "Szeged, Csongrádi sugárút  87.",
          "Döbrököz, 157/7 Hrsz",
          "Hajdúböszörmény, Debreceni út 1.",
          "Szarvas, Békéscsabai út",
          "Kiskunfélegyháza, Csongrádi út 18/A",
          "Budapest I, Mészáros u. 19.",
          "Szolnok, Gábor Áron tér",
          "Kám, Jókai Mór út 2.  ",
          "Budapest XX, Ady Endre út 67.",
          "Kecel, Császártöltési u. 50.  ",
          "Jánoshalma, Halasi út 91. (4099/3. hrsz).",
          "Budaörs, Garibaldi u. 2.",
          "Gödöllő, Dózsa György út 61.",
          "Érd, Budai út II.",
          "Budapest XXI, Kossuth L. u. 3. (XXI.) ",
          "Salgótarján, Rákóczi út 77-89.",
          "Kunhegyes, Kossuth Lajos u. 74-78.",
          "Jászárokszállás, Jászberényi út 3.",
          "Baja, Szegedi út  105.",
          "Hatvan, M3 I. - Kerekharaszti pihenő - észak",
          "Szentlászló, 066/2 hrsz.  ",
          "Balatonföldvár, Szentgyörgyi út  ",
          "Komló, Feketegyémánt tér  ",
          "Sárospatak, Wesselényi Miklós út",
          "Törökszentmiklós, Kossuth Lajos út 92-94.",
          "Nyíregyháza, Pazonyi út",
          "Gyomaendrőd, Fő út",
          "Lajosmizse, 50.sz.út jobb oldal  ",
          "Budapest XVIII, Üllői út 661. (XVIII.)",
          "Edelény, 27.sz. fkl. út",
          "Nagykáta, Ady Endre u.  ",
          "Törökbálint, M0 autópálya 6 km. szelv.( Annahegyi pihenő) dél",
          "Kadarkút, Kaposvári u.  ",
          "Karcag, Gyarmati u.",
          "Adony, 6.sz. fkl. út  ",
          "Polgár, Hajdú u. 16.(Munkácsy út)",
          "Veresegyház, Fő u.  ",
          "Békéscsaba, Szarvasi út",
          "Kistelek, 5. sz. fkl.út jobb oldal  ",
          "Budaörs, Repülőtér (Kinizsi u. 4047/2 hrsz.)",
          "Mór, Nemes utca (81-es út)  ",
          "Hódmezővásárhely, Szántó Kovács János út 170.",
          "Tiszakécske, Szolnoki u.  ",
          "Biharkeresztes, 42. sz. fkl. út",
          "Szerencs, 37.sz. fkl. út",
          "Budapest XIII, Váci út 19.",
          "Kőszeg, Petőfi Sándor tér  ",
          "Tokaj, Tarcali út 86.",
          "Bicske, Botond tér  ",
          "Tamási, Szabadság u. 90.  ",
          "Zalaegerszeg, Balatoni út I.  ",
          "Szatymaz, M5 autópálya 151 km jobb oldal",
          "Esztergom, Visegrádi út",
          "Hatvan, M3 II. - Kerekharaszti pihenő - észak",
          "Zalaegerszeg, Zrínyi Miklós út 20.  ",
          "Bátaszék, Budai út 114-116.  ",
          "Hegyeshalom, Fő út 1.",
          "Nyíregyháza, László u.",
          "Sárbogárd, Köztársaság út 147.  ",
          "Budapest XV, Szentmihályi út 148.",
          "Kazincbarcika, Mucsonyi út 1.",
          "Budapest XIX, Ady Endre út 22-26.",
          "Zamárdi, Endrédi út  ",
          "Siófok, M7 autópálya 94. km (ÉSZAK) Sóstói pihenő I.",
          "Szolnok, Simon Ferenc utca 46.",
          "Tiszaújváros, 35.sz.fkl. út",
          "Máriapócs, Pócsi sarok  ",
          "Algyő,  Szeged 47.sz.fkl.út ( Algyő Pf.:11 )  ",
          "Szolnok, Elkerülő út",
          "Győr, Budai út (Mártírok u.)  ",
          "Budapest XII, Istenhegyi u.55. (XII.)",
          "Debrecen, Sámsoni út",
          "Leányfalu, Móricz Zsigmond út 165.",
          "Budapest XI, Hunyadi János út 2. (XI.)",
          "Orosháza, Elkerülő út (vásárhelyi út)",
          "Pilisvörösvár, 10. sz. fkl. út (Hrsz. 0140/31.)",
          "Berettyóújfalu, 42.sz. fkl. út Földesi út 49.",
          "Szeged, Makkosházi krt. 6.",
          "Kalocsa, Negyvennyolcas út  52.",
          "Nagykálló, Korányi Frigyes út  104.",
          "Gyál, Körösi út  ",
          "Hőgyész, Szérűskert sor",
          "Ócsa, Üllői utca 41",
          "Kaposvár, Füredi út 180.  ",
          "Budapest IX, Gubacsi u. 27. (IX.)",
          "Hévíz, Hévízi út  ",
          "Tatabánya, Győri út  ",
          "Kecskemét, Budai u.  ",
          "Gyöngyös, Alkotmány út 19.",
          "Békéscsaba, Bartók Béla út",
          "Salgótarján, Budapesti u. 21. sz. fkl. Út 57 km",
          "Beled, 86.sz. fkl. út  ",
          "Balatonederics, 71-es Főút 069 hrsz",
          "Miskolc, Pesti út I.(bemenő)",
          "Fonyód, József Attila u. (Bélatelep)  ",
          "Baja, Dózsa Gy. u. 97.",
          "Budapest IV, Fóti út 130.",
          "Győr, Nagymegyeri út",
          "Budapest IX, Gyáli út 38236/441",
          "Nagyvázsony, Templom kert  ",
          "Diósd, Tétényi u. 2. (hrsz 3666/1)",
          "Fűlöpszállás, Külterület  52. számú főút Kurjantópuszta",
          "Budapest XIII, Garam u.2. (XIII.)",
          "Mosonmagyaróvár, M1 - M15. autópálya II. (Pf.:109)  ",
          "Inárcs, Széchenyi utca 14.",
          "Százhalombatta, Bekötő út  ",
          "Bácsalmás, Backnang út 7.  ",
          "Nagymaros, Váci út 119.",
          "Szeghalom, Ady Endre út 22.",
          "Balatonlelle, Rákóczi Ferenc u. 1.  ",
          "Gödöllő, Szabadság u.12.  ",
          "Kiskőrös, Petőfi S. u. 94.",
          "Szeged, Makai út  ",
          "Balatonkeresztúr, 7.sz.fkl.út  ",
          "Székesfehérvár, Balatoni út",
          "Szolnok, Pozsonyi út 80.",
          "Szeged, Dorozsmai út 16.",
          "Dég, 64.sz.fkl.út  ",
          "Győr, Farkas Mátyás utca 4.",
          "Balatonvilágos, Balatonakarattya 71.sz. föút  ",
          "Balatonalmádi, Fűzfői út 5. (71-es út)  ",
          "Hatvan, Csányi út (Sport u. 1.)",
          "Debrecen, Kassai út 27.",
          "Kál, Rekettyés pihenő M3. I észak ",
          "Keszthely, Festetics György u.  ",
          "Vecsés, M0 II. (bal) - Alacskai pihenő",
          "Szombathely, Márkus Emília utca 10.",
          "Lövő, Kőszegi út hrsz.0179/39  ",
          "Nagycenk, 84.sz.fkl. út  ",
          "Budapest VIII, Futó u.",
          "Budaörs, METRO  (Keleti utca)",
          "Százhalombatta, DUFI Olajmunkás út 2.",
          "Lenti, Széchenyi tér 3.  ",
          "Pécs, Szigeti út  ",
          "Vajszló, Széchenyi István út 34.  ",
          "Budapest XXI, Weiss Manfréd út 2.",
          "Újszász, Jász út 21.",
          "Győr, Szent Imre u. 55.",
          "Szentgotthárd, Rábafüzesi út 1.  ",
          "Velence, M7. autópálya I.  észak",
          "Téglás, 4.sz. fkl. út",
          "Páty, 22-es km  észak (Sasfészek-tó) Páty",
          "Dévaványa, Sport u. 5.",
          "Csávoly, Dózsa Gy. u. 50.",
          "Mátészalka, Vásár tér 5.",
          "Sásd, Noszlopy Gáspár u.  ",
          "Budapest XXI, Szent István út  (XXI.)",
          "Diósd, Balatoni út 11.",
          "Budapest III, Szentendrei út 100.",
          "Győr, Vasvári Pál u. 1.",
          "Cegléd, Pesti út 87.",
          "Jászberény, Szolnoki u.",
          "Akasztó, Fő u. 189. 53-as út mellett",
          "Lakitelek, Szikra u. 206/C",
          "Szentendre, Vasúti villasor 6.",
          "Ladánybene, Fő utca 78. ",
          "Szombathely, Zanati út II. 29.",
          "Szeged, Vásárhelyi Pál u. 25444 hrsz.",
          "Budapest XIX, Puskás F. u. (XIX.)  ",
          "Rédics, 86.sz.fkl. út  ",
          "Budapest XIX, Nagykőrösi út (XIX.) 88.",
          "Újfehértó, 4.sz. fkl. út",
          "Szilvásvárad, Egri út 34.",
          "Debrecen, Segner tér, Nyugati u. 6.",
          "Szalánta, 58. Főút",
          "Pápa, Csóka fogadó",
          "Nagykanizsa, Magyar utca 166.",
          "Encs, 3.sz.fkl.út",
          "Székesfehérvár, Seregélyesi út  66.",
          "Kaposvár, Marhahajtó út Vásár tér",
          "Csongrád, Szentesi út",
          "Hajdúnánás, Tiszavasvári út",
          "Sarkad, Vásár tér 1-3",
          "Siófok, M7 autópálya 94. km (DÉL) Sóstói pihenő II.",
          "Eger, Kistályai út 1./a",
          "Mór, Nemes u. 24.",
          "Nagykanizsa, Elkerülő út - Garai út 17.",
          "Kápolna, 3.sz. fkl. út",
          "Oroszlány, Rákóczi Ferenc út 94/a",
          "Gávavencsellő, Petőfi Sándor u. 53.  ",
          "Etyek, Kossuth Lajos u. 72.",
          "Budapest XI, Nagyszőlős u. 47-49. (4566/2 hrsz.)",
          "Cegléd, Nagykőrösi út  441. sz. fkl. Út",
          "Budapest III, Gémeskút u. 12.",
          "Nyíregyháza, Széna tér",
          "Tázlár, Soltvadkerti utca 16. ",
          "Budapest VIII, Kerepesi út 5-7.",
          "Mezőcsát, Kossuth u.",
          "Pincehely, Kossuth u.4.  ",
          "Szigetvár, József Attila u. 66.  ",
          "Sűmeg, Alkotmány u.  ",
          "Pécs, Siklósi út 9.",
          "Szombathely, Viktória út 1.",
          "Nyíregyháza, Vasgyár u. 18.",
          "Zirc, Kossuth Lajos út  ",
          "Badacsonytomaj, 71.sz. föút  ",
          "Baktalórántháza, 41.sz. főút 27. km",
          "Kiskunlacháza, Hadház u. 2.  ",
          "Nagydorog, Kossuth L. u. 122.",
          "Dombóvár, Köztársaság u. 27. (Tüskevár)  ",
          "Mezőkövesd, Mátyás Király út 249.",
          "Veszprém, Budapesti u. 91.",
          "Mosonmagyaróvár, Halászi út 0139/3 Hrsz.  ",
          "Abda, Bécsi u. 1.",
          "Gyöngyös, Pesti út 67.",
          "Budapest XI, Mezőkövesd út 1.",
          "Kazincbarcika, 26. sz. főút B.C 4-es porta 3928 hrsz.",
          "Sárvár, Vágóhíd u. 1.  ",
          "Tata, Vértesszőlősi út (bal oldal)  ",
          "Hetes, Petőfi Sándor utca 1.",
          "Pécsvárad, 6.sz.fkl.út  ",
          "Cegléd, M4 Dél I.",
          "Budaörs, Rubik Ernő u. 3.",
          "Várpalota, 8.sz.fkl. út II. (bal) ",
          "Bátonyterenye, 21.sz. fkl. út",
          "Budapest III, Szentendrei út 59/a",
          "Karcag, Madarasi út",
          "Kóny, Dózsa Gy. u. 67.",
          "Szekszárd, M6 I. jobb oldal",
          "Tapolca, Kossuth út  ",
          "Pomáz, Árpád fejedelem u.",
          "Pécs, 6.sz.fkl. út (Cserkút)  ",
          "Zalakomár, 8752 dél - INA benzikút M7",
          "Visegrád, 11.sz.fkl. út",
          "Budapest XXIII, Helsinki u. 108-112.",
          "Győr, Tatai út",
          "Budapest XI, Rétköz utca (XI.)",
          "Barcs, Erkel Ferenc utca hrsz.1931  ",
          "Putnok, 26. sz. fkl. út",
          "Hatvan, Elkerülő út",
          "Szentlőrinc, Törökföld u.",
          "Heves, Csáti út  ",
          "Hernád, Köztársaság út 45/D OUT BENZINKÚT BT",
          "Vasvár, Dr.Tretter László u.52.  ",
          "Pűspökladány, Keleti sor 17.",
          "Budapest III, Árpád fejedelem út 103.",
          "Görbeháza, M3 II dél (182,5-ös km kő, hrsz: 0437/6)",
          "Cegléd, M4 II Észak",
          "Budapest VIII, Hős u. 9. (VIII.)",
          "Túrkeve, Kisújszállási u. 54.",
          "Keszthely, Tapolcai út  ",
          "Várpalota, Veszprémi út 160. 8-as főút",
          "Velence, M7. autópálya II.  dél",
          "Csurgó, Iharos út  ",
          "Ercsi, M6 I. (kimenő) (M6 külterület 30 km szelvény)",
          "Budapest XI, Prielle Kornélia u. (XI.)",
          "Jászberény, Nagykátai út",
          "Budapest XIII, Váci út 178. (XIII.)",
          "Veszprém, Budapesti u.  70.",
          "Szatymaz, M5 autópálya 151 km bal oldal",
          "Pécs, Maléter Pál u. Hrsz. 21169",
          "Dunaharaszti, Fő út 220. 510.-es főút",
          "Isaszeg, Rákóczi u. hrsz. 455",
          "Debrecen, Benedek tér",
          "Budapest XVII, Pesti út. 5. (XVII.)",
          "Sopron, Győri út 42.",
          "Érd, Budai út I.",
          "Budapest III, Szentendrei út 255.",
          "Budapest XI, Irinyi u.45. (XI.)",
          "Bonyhád, Zrínyi Miklós u. 25.  ",
          "Galgaguta, Kossuth u. 27.  ",
          "Budapest XXII, Nagytétényi út",
          "Budapest X, Könyves K. krt. 23.",
          "Nagykőrös, Téglagyári u. 1/a",
          "Esztergom, Dorogi út (111.sz.fkl út)",
          "Kaposvár, Guba Sándor út 3628/28 HRSZ",
          "Bócsa, III. körzet 1.",
          "Székesfehérvár, Sárkeresztúri út 8.  ",
          "Zalaegerszeg, Göcseji u. 37/A",
          "Budapest IV, Váci út 84-90."
         ],
         "lat": [
          46.06662369,
          46.88214874,
          47.80239487,
          47.99091721,
          47.87667847,
          47.63389969,
          46.06845856,
          46.90508652,
          47.66703415,
          46.6809845,
          45.87227631,
          46.22602844,
          48.39500809,
          48.37795258,
          46.43204117,
          46.66775894,
          47.84169006,
          47.51165009,
          47.36450577,
          46.84777451,
          47.6795578,
          47.97806168,
          48.01736832,
          46.41156769,
          47.51428223,
          47.573349,
          47.92318726,
          46.80794907,
          46.88246918,
          48.05653381,
          47.01658249,
          46.99744797,
          47.66216278,
          47.51064682,
          47.79138184,
          46.26597977,
          47.92736053,
          46.31965256,
          46.9117012,
          46.85613632,
          47.73812485,
          46.25354004,
          47.41939926,
          47.62132263,
          47.87214661,
          47.72209549,
          47.65866852,
          46.55080414,
          47.61642838,
          47.59229279,
          47.51745987,
          47.50089264,
          47.23484802,
          47.48596573,
          48.10635376,
          47.17194748,
          46.43907928,
          48.11491394,
          47.42733383,
          46.23625946,
          47.38409042,
          48.01926422,
          47.40830994,
          48.21417999,
          47.53286743,
          46.61354065,
          47.36192703,
          47.1381073,
          47.19364929,
          46.69657898,
          46.64271545,
          47.23868942,
          46.37546539,
          47.75777817,
          47.13576126,
          47.02570343,
          46.36708069,
          47.45824432,
          47.31969452,
          47.50682068,
          46.84334564,
          46.91875839,
          47.53005981,
          46.81269073,
          47.25478745,
          46.43645859,
          47.61371613,
          47.72452927,
          46.89517212,
          48.15364456,
          46.70564651,
          47.73765945,
          46.33083725,
          47.21912003,
          47.24731064,
          47.20970917,
          47.17686462,
          47.87171555,
          47.24067307,
          47.53715897,
          47.02708435,
          47.55319595,
          47.98836899,
          46.27071381,
          48.10578537,
          47.52470398,
          46.4093132,
          48.10103226,
          47.60425568,
          47.19145966,
          47.33289337,
          47.52217865,
          45.97614288,
          47.51324081,
          46.59112167,
          47.34866333,
          47.18390274,
          47.41876221,
          46.87164688,
          47.66250229,
          47.19335938,
          47.50291061,
          46.75825119,
          46.45957565,
          47.40032959,
          47.84199905,
          47.45643997,
          47.44179153,
          46.34196091,
          48.07474136,
          45.85673523,
          46.65589905,
          47.15346909,
          47.52280807,
          47.02190399,
          46.41414642,
          48.19499969,
          48.11654663,
          47.94375229,
          47.49459076,
          46.45312119,
          47.01403809,
          47.92427826,
          47.5108223,
          46.42695618,
          46.89099884,
          47.80553055,
          47.93202209,
          48.23660278,
          46.99710083,
          46.37893295,
          47.52806473,
          47.72416306,
          47.52721024,
          47.64933014,
          47.4520607,
          46.77756882,
          47.62842941,
          46.12032318,
          47.40526199,
          47.10936737,
          46.40294266,
          46.83059311,
          47.11218643,
          47.18661499,
          46.49020386,
          48.20866013,
          47.91450119,
          46.29888153,
          47.56988525,
          45.85983276,
          47.08524323,
          47.2853241,
          46.08709717,
          47.48991776,
          46.86047745,
          48.08943176,
          47.59187317,
          47.58379745,
          46.443573,
          47.49284744,
          46.75700378,
          47.79240417,
          47.00174713,
          45.99781799,
          46.67045975,
          46.51214218,
          47.56124496,
          46.33470154,
          46.77607727,
          46.63528061,
          46.86346054,
          47.55090332,
          47.50771332,
          45.98779297,
          46.42997742,
          46.98184586,
          47.25954437,
          47.36365509,
          46.8481102,
          46.37461472,
          47.37889862,
          48.20429993,
          47.76983261,
          47.52249908,
          46.81799698,
          46.94738007,
          47.10715866,
          47.20414734,
          47.45164871,
          46.2754097,
          46.42722702,
          47.66055679,
          46.85489273,
          46.71124268,
          47.49462891,
          47.17305756,
          47.09909058,
          47.43935776,
          46.51973724,
          46.29806519,
          47.45260239,
          47.60777664,
          47.37851334,
          47.4379921,
          48.09420013,
          47.36766434,
          47.63279343,
          46.18438721,
          47.66770554,
          46.16201019,
          46.84341049,
          46.18709946,
          48.3279686,
          47.18041992,
          47.96465683,
          46.93359756,
          47.03682709,
          47.43426132,
          48.29063797,
          47.41959763,
          47.4200325,
          46.24213409,
          47.2967453,
          47.13045883,
          47.86159515,
          47.65415192,
          46.68510437,
          46.45943832,
          47.44765472,
          47.37631607,
          46.43409348,
          46.93801117,
          47.13192368,
          48.15304565,
          47.52165985,
          47.38638306,
          48.10612488,
          47.49268723,
          46.64336395,
          46.84409332,
          46.33140945,
          47.80418015,
          47.66868591,
          46.82196808,
          46.19747925,
          47.90959167,
          47.96278381,
          46.86223984,
          47.55087662,
          48.25323486,
          47.46181107,
          46.88151169,
          46.9163208,
          47.12165451,
          47.92622375,
          47.85358429,
          46.31485748,
          47.16127396,
          47.69214249,
          47.50346375,
          47.55151749,
          47.71679306,
          47.44911575,
          46.5781517,
          47.60748672,
          47.23561096,
          46.27245331,
          46.53765869,
          47.88204193,
          47.37747192,
          46.50606155,
          47.29856491,
          46.38929367,
          47.46125412,
          46.79169083,
          47.59656906,
          46.92216492,
          47.78067398,
          46.67063904,
          48.06428146,
          47.4574852,
          46.79460907,
          48.05749512,
          46.7362175,
          46.19511032,
          47.57108307,
          47.70620728,
          47.45983887,
          46.98895264,
          47.41092682,
          46.84622955,
          47.52232742,
          47.87091064,
          47.25150299,
          47.31699753,
          46.12391663,
          47.80048752,
          47.01459885,
          46.78276825,
          47.59941864,
          46.61291885,
          46.22554016,
          46.69784546,
          47.1596489,
          47.18647766,
          46.26613235,
          46.86219406,
          47.67952728,
          47.01366043,
          47.03803253,
          47.6588707,
          47.5418663,
          47.72356796,
          46.74168396,
          47.38407516,
          47.2390213,
          47.50214386,
          47.61340714,
          47.48502731,
          47.46074295,
          47.30141068,
          46.6233139,
          46.07302856,
          45.86290359,
          47.45819473,
          47.28764725,
          47.6663475,
          46.95891953,
          47.24420547,
          47.70839691,
          47.49535751,
          47.0303154,
          46.19556808,
          47.95986176,
          46.25165558,
          47.41920853,
          47.40036011,
          47.55038834,
          47.66977692,
          47.17743683,
          47.5013504,
          46.68127441,
          44.5,
          47.66152573,
          47.0368309,
          47.24243164,
          46.25856018,
          47.44235229,
          46.60001755,
          47.44255066,
          47.82856369,
          48.0970192,
          47.5284996,
          45.96107483,
          47.32222366,
          46.47399521,
          48.33415985,
          47.19000244,
          46.35610199,
          46.70017624,
          47.85591125,
          46.64269257,
          46.91548538,
          47.8862648,
          47.37931824,
          46.46722794,
          47.75973129,
          47.49132156,
          48.16427612,
          47.44953918,
          47.47480011,
          47.14716339,
          47.56101608,
          47.96146774,
          46.54964066,
          47.49928665,
          47.83684158,
          46.67752075,
          46.04807281,
          46.98408508,
          46.05982971,
          47.25461578,
          47.95405197,
          47.2552948,
          46.7861824,
          47.99536896,
          47.20214844,
          46.63906097,
          46.39314651,
          47.81676865,
          47.09848022,
          47.88325119,
          47.68382263,
          47.77021408,
          47.43979645,
          48.24677658,
          47.2575264,
          47.63803482,
          46.41548157,
          46.15314484,
          47.20380783,
          47.45183563,
          47.20159912,
          48.00424576,
          47.55194092,
          47.31896973,
          47.63902283,
          46.43942261,
          46.88053131,
          47.64140701,
          46.06342316,
          46.51070786,
          47.79159164,
          47.421772,
          47.67422867,
          47.46610641,
          45.96427917,
          48.29644012,
          47.66639709,
          46.04447174,
          47.5815506,
          47.17039871,
          47.05031204,
          47.31368256,
          47.53609467,
          47.80086517,
          47.20362473,
          47.49614334,
          47.11572647,
          46.7718811,
          47.19776917,
          47.24128723,
          46.27542496,
          47.28490067,
          47.46857834,
          47.48664474,
          47.55088425,
          47.09894562,
          46.33999634,
          46.0418396,
          47.34018326,
          47.52770996,
          47.53280258,
          47.48439407,
          47.67329025,
          47.37886429,
          47.58143616,
          47.47424316,
          46.29701996,
          47.8445282,
          47.41283035,
          47.48563766,
          47.01799393,
          45.5,
          46.36849594,
          46.61845016,
          47.16772079,
          46.83757401,
          47.57497787
         ],
         "legendgroup": "mol",
         "lon": [
          18.23132706,
          19.7077198,
          21.19976807,
          17.19615746,
          17.26170349,
          17.66591644,
          18.1999855,
          19.69255829,
          17.64368057,
          21.11296463,
          18.46289253,
          17.38171387,
          22.16616821,
          21.63875198,
          19.5073719,
          20.67217064,
          22.14599037,
          21.60521507,
          21.25580025,
          19.66422272,
          16.59478188,
          21.68606949,
          21.36512756,
          20.32177925,
          18.92221832,
          18.38627052,
          20.36982155,
          19.00538445,
          17.42571449,
          20.79785728,
          20.29085922,
          21.49186134,
          19.50748634,
          21.6305294,
          19.58971786,
          20.11513901,
          19.70706367,
          20.8123703,
          19.71998596,
          16.79234314,
          16.54721451,
          20.11927223,
          19.24593353,
          20.74736595,
          17.21604538,
          20.31635857,
          19.13215828,
          20.66840363,
          19.17016411,
          17.03267479,
          19.1063118,
          19.13684845,
          19.5,
          19.09329605,
          20.83002472,
          18.94335175,
          18.71067429,
          20.85853195,
          19.22351074,
          20.70819855,
          19.28329849,
          20.09491348,
          16.85835075,
          20.26896286,
          19.07335281,
          18.85376358,
          18.91004562,
          17.55016708,
          19.32430649,
          19.19998169,
          21.25857544,
          20.53597641,
          18.09579086,
          20.41782951,
          18.02189255,
          18.26145554,
          17.74999046,
          19.11451912,
          19.47545624,
          21.64690781,
          18.0996151,
          18.08680153,
          19.23564911,
          18.91012764,
          18.34464264,
          16.73758888,
          17.26451302,
          19.66682434,
          19.66527557,
          21.19441986,
          18.17742729,
          18.13995934,
          18.70020103,
          20.73114777,
          20.65962219,
          18.42292023,
          20.15443611,
          20.38348007,
          16.65113258,
          18.96757507,
          18.26226616,
          19.04646683,
          22.52262306,
          18.98374176,
          20.79083061,
          19.11896133,
          17.38569832,
          20.72890854,
          18.3866291,
          20.00312233,
          19.00117493,
          19.18523216,
          18.50029373,
          21.62893105,
          17.40698624,
          17.45777321,
          18.11544609,
          19.40903282,
          19.23177338,
          19.6475563,
          21.54224205,
          18.9209671,
          18.54549599,
          17.0046711,
          21.7231369,
          22.66772079,
          19.02425003,
          18.94044113,
          17.3482399,
          19.28426552,
          18.29270935,
          20.27440453,
          20.16919327,
          19.99953079,
          19.10813904,
          18.75102425,
          20.93027687,
          22.31401253,
          21.73819542,
          18.81769943,
          16.97157097,
          16.60990143,
          20.06736946,
          19.19217873,
          18.5548687,
          19.64917755,
          21.49894333,
          19.138237,
          21.93597603,
          18.92938614,
          18.96082115,
          17.94167328,
          18.71964455,
          21.89618492,
          19.47008514,
          19.15640259,
          17.72159195,
          18.85200882,
          18.26187515,
          16.71716118,
          17.43948746,
          20.89915276,
          20.29621696,
          17.55504227,
          18.45645714,
          19.7199688,
          20.73330307,
          20.36945152,
          18.50684547,
          19.13559532,
          18.23353195,
          17.9209156,
          18.86215591,
          18.27567101,
          19.3356266,
          20.55489159,
          19.52948189,
          19.32868767,
          19.2418232,
          19.48136711,
          19.24165344,
          19.58938789,
          19.11603546,
          20.61109543,
          18.65646744,
          21.10659599,
          17.19002151,
          21.60800934,
          18.12709045,
          17.72091675,
          21.29041672,
          20.2055397,
          19.26784134,
          19.10383415,
          18.67785072,
          18.78138733,
          16.28306007,
          17.14100647,
          19.02360725,
          19.6663456,
          18.70898056,
          19.13023949,
          22.0694294,
          19.13904953,
          19.08124733,
          21.03227615,
          17.87770653,
          17.86774254,
          18.62281227,
          21.40937233,
          20.14621544,
          18.23703003,
          21.51833534,
          20.57318878,
          19.86111641,
          19.0285778,
          20.18714333,
          16.87727165,
          19.10462952,
          19.24113464,
          19.34324646,
          18.9567318,
          19.33732224,
          18.93172264,
          19.07138443,
          19.80473328,
          20.62877846,
          19.96551895,
          18.971735,
          19.62482834,
          17.83336639,
          17.86501694,
          18.25772285,
          21.55851746,
          20.41871834,
          21.7261734,
          20.81316757,
          19.54187965,
          19.20249939,
          20.72214508,
          19.74174881,
          18.92171097,
          17.61606407,
          20.93122292,
          18.86515236,
          21.12920952,
          19.28819847,
          21.05040741,
          19.98893929,
          18.97634125,
          18.19023705,
          20.31866837,
          20.09743881,
          21.7031498,
          21.19512367,
          19.06237984,
          16.54781342,
          21.40058899,
          18.6413765,
          18.27759361,
          16.86270523,
          20.02579308,
          18.7520771,
          19.62435532,
          16.84779167,
          18.72403717,
          17.17081642,
          21.72544479,
          18.62938309,
          19.13614273,
          20.64679718,
          19.12995338,
          17.95292664,
          18.1056881,
          20.21055603,
          21.04128647,
          22.01412773,
          20.18837166,
          20.23832512,
          17.65318489,
          19.0037365,
          21.66354179,
          19.08879662,
          19.04934311,
          20.64925385,
          18.94283676,
          21.53043938,
          20.15550232,
          18.98418808,
          21.82396889,
          19.21973038,
          18.41095734,
          19.24176407,
          17.77962494,
          19.08601189,
          17.20072746,
          18.3868084,
          19.67589378,
          19.92736435,
          21.08794403,
          19.78283119,
          17.09202385,
          17.38169861,
          20.79633331,
          17.53538132,
          18.95246124,
          19.11105728,
          17.63419533,
          19.10950851,
          17.70415878,
          18.95751762,
          19.29772186,
          19.05335426,
          17.21574402,
          19.32297707,
          18.90074539,
          19.344347,
          18.96512222,
          21.17757416,
          17.67230797,
          19.35539436,
          19.29530525,
          20.18859673,
          17.37241173,
          18.40080452,
          20.19436455,
          20.11164284,
          18.42293739,
          17.61002159,
          18.16960716,
          18.01957512,
          19.72286224,
          21.64167786,
          20.31817245,
          17.24081039,
          19.2813015,
          16.62605667,
          16.78033066,
          16.69078827,
          19.07458496,
          18.8934288,
          18.88731194,
          16.54675293,
          18.20965767,
          17.98775482,
          19.07169724,
          20.08008575,
          17.6489048,
          16.27626038,
          18.63746452,
          21.65870094,
          18.81812859,
          20.94683647,
          19.14662933,
          22.31994438,
          18.11502075,
          19.07435036,
          18.94217491,
          19.04309464,
          17.64849091,
          19.77738762,
          19.92258072,
          19.21424484,
          19.95774078,
          19.07339478,
          19.44755363,
          16.65230179,
          20.12702942,
          19.15932846,
          16.46210289,
          19.13287354,
          21.69946861,
          20.38738441,
          21.61355782,
          18.23273849,
          17.47574043,
          16.98578262,
          21.10319328,
          18.44845963,
          17.78067017,
          20.14689255,
          21.42311478,
          21.3747406,
          18.10551262,
          20.39709854,
          18.19066811,
          16.99449921,
          20.24063301,
          18.31879425,
          21.58165169,
          18.75965691,
          19.02515221,
          19.7895298,
          19.02452278,
          21.70563507,
          19.50695038,
          19.08745003,
          20.90069771,
          18.42741776,
          17.81575775,
          17.27221489,
          18.23079872,
          16.61994362,
          21.70415497,
          17.87687492,
          17.50535202,
          22.07279015,
          19.01152611,
          18.6505661,
          18.14546013,
          20.58738327,
          17.92900276,
          17.28990746,
          17.5688591,
          19.91762924,
          19.04421806,
          20.6595993,
          16.93756676,
          18.34725571,
          17.69806099,
          18.42341805,
          19.77539062,
          18.95846558,
          18.15314865,
          19.8244915,
          19.04449463,
          20.91874886,
          17.35393524,
          18.70782089,
          17.44958878,
          19.03452682,
          18.15482521,
          17.19095421,
          18.97226715,
          19.10576248,
          17.6776886,
          19.00601578,
          17.46602249,
          20.4198761,
          19.70471191,
          17.99839401,
          20.26215172,
          19.41233635,
          16.79757881,
          21.1313324,
          19.04640388,
          21.19837379,
          19.77886009,
          19.10860443,
          20.73924255,
          17.25959778,
          18.13995171,
          18.63324928,
          17.09680939,
          18.86385155,
          19.04925537,
          19.88292694,
          19.07357979,
          17.92762947,
          20.01815796,
          18.21393776,
          19.07029915,
          19.38992119,
          21.63986969,
          19.22774124,
          16.60567474,
          18.93223763,
          19.04891968,
          19.05323219,
          18.53833389,
          19.38792229,
          19.03469849,
          19.10775757,
          19.77321434,
          18.73723793,
          17.81762505,
          19.48352051,
          18.42420197,
          16.83569336,
          19.08075333
         ],
         "marker": {
          "color": "#EF553B",
          "size": [
           10,
           10,
           10,
           10,
           10,
           10,
           10,
           10,
           10,
           10,
           10,
           10,
           10,
           10,
           10,
           10,
           10,
           10,
           10,
           10,
           10,
           10,
           10,
           10,
           10,
           10,
           10,
           10,
           10,
           10,
           10,
           10,
           10,
           10,
           10,
           10,
           10,
           10,
           10,
           10,
           10,
           10,
           10,
           10,
           10,
           10,
           10,
           10,
           10,
           10,
           10,
           10,
           10,
           10,
           10,
           10,
           10,
           10,
           10,
           10,
           10,
           10,
           10,
           10,
           10,
           10,
           10,
           10,
           10,
           10,
           10,
           10,
           10,
           10,
           10,
           10,
           10,
           10,
           10,
           10,
           10,
           10,
           10,
           10,
           10,
           10,
           10,
           10,
           10,
           10,
           10,
           10,
           10,
           10,
           10,
           10,
           10,
           10,
           10,
           10,
           10,
           10,
           10,
           10,
           10,
           10,
           10,
           10,
           10,
           10,
           10,
           10,
           10,
           10,
           10,
           10,
           10,
           10,
           10,
           10,
           10,
           10,
           10,
           10,
           10,
           10,
           10,
           10,
           10,
           10,
           10,
           10,
           10,
           10,
           10,
           10,
           10,
           10,
           10,
           10,
           10,
           10,
           10,
           10,
           10,
           10,
           10,
           10,
           10,
           10,
           10,
           10,
           10,
           10,
           10,
           10,
           10,
           10,
           10,
           10,
           10,
           10,
           10,
           10,
           10,
           10,
           10,
           10,
           10,
           10,
           10,
           10,
           10,
           10,
           10,
           10,
           10,
           10,
           10,
           10,
           10,
           10,
           10,
           10,
           10,
           10,
           10,
           10,
           10,
           10,
           10,
           10,
           10,
           10,
           10,
           10,
           10,
           10,
           10,
           10,
           10,
           10,
           10,
           10,
           10,
           10,
           10,
           10,
           10,
           10,
           10,
           10,
           10,
           10,
           10,
           10,
           10,
           10,
           10,
           10,
           10,
           10,
           10,
           10,
           10,
           10,
           10,
           10,
           10,
           10,
           10,
           10,
           10,
           10,
           10,
           10,
           10,
           10,
           10,
           10,
           10,
           10,
           10,
           10,
           10,
           10,
           10,
           10,
           10,
           10,
           10,
           10,
           10,
           10,
           10,
           10,
           10,
           10,
           10,
           10,
           10,
           10,
           10,
           10,
           10,
           10,
           10,
           10,
           10,
           10,
           10,
           10,
           10,
           10,
           10,
           10,
           10,
           10,
           10,
           10,
           10,
           10,
           10,
           10,
           10,
           10,
           10,
           10,
           10,
           10,
           10,
           10,
           10,
           10,
           10,
           10,
           10,
           10,
           10,
           10,
           10,
           10,
           10,
           10,
           10,
           10,
           10,
           10,
           10,
           10,
           10,
           10,
           10,
           10,
           10,
           10,
           10,
           10,
           10,
           10,
           10,
           10,
           10,
           10,
           10,
           10,
           10,
           10,
           10,
           10,
           10,
           10,
           10,
           10,
           10,
           10,
           10,
           10,
           10,
           10,
           10,
           10,
           10,
           10,
           10,
           10,
           10,
           10,
           10,
           10,
           10,
           10,
           10,
           10,
           10,
           10,
           10,
           10,
           10,
           10,
           10,
           10,
           10,
           10,
           10,
           10,
           10,
           10,
           10,
           10,
           10,
           10,
           10,
           10,
           10,
           10,
           10,
           10,
           10,
           10,
           10,
           10,
           10,
           10,
           10,
           10,
           10,
           10,
           10,
           10,
           10,
           10,
           10,
           10,
           10,
           10,
           10,
           10,
           10,
           10,
           10,
           10,
           10,
           10,
           10,
           10,
           10,
           10,
           10,
           10,
           10,
           10,
           10,
           10,
           10,
           10,
           10,
           10,
           10,
           10,
           10,
           10,
           10,
           10,
           10,
           10,
           10,
           10,
           10,
           10,
           10,
           10,
           10,
           10,
           10,
           10,
           10,
           10,
           10,
           10,
           10,
           10,
           10,
           10,
           10,
           10,
           10,
           10,
           10,
           10,
           10,
           10,
           10,
           10,
           10,
           10,
           10,
           10,
           10,
           10,
           10,
           10,
           10,
           10,
           10,
           10,
           10,
           10,
           10,
           10,
           10,
           10,
           10,
           10,
           10,
           10,
           10,
           10,
           10,
           10
          ],
          "sizemode": "area",
          "sizeref": 0.4
         },
         "mode": "markers",
         "name": "mol",
         "showlegend": true,
         "subplot": "mapbox",
         "type": "scattermapbox"
        },
        {
         "customdata": [
          [
           "https://holtankoljak.hu/conoil_torony_felsooriuipartelep9",
           480,
           null,
           480
          ],
          [
           "https://holtankoljak.hu/fair-kut_hungary_szakmar_bajcsy-zsilinszkyu51",
           479.9,
           null,
           479.9
          ],
          [
           "https://holtankoljak.hu/magan_kut_kocs_kisut6",
           480,
           null,
           480
          ],
          [
           "https://holtankoljak.hu/magan_kiskoros_dozsagyorgyut92",
           479.9,
           479.9,
           479.9
          ],
          [
           "https://holtankoljak.hu/magan_kut_szekszard_tartsayvilmosutca40",
           479.9,
           null,
           479.9
          ],
          [
           "https://holtankoljak.hu/canada_petrol_kft__kecskemet_felsocsalanosu54",
           479.9,
           null,
           479.9
          ],
          [
           "https://holtankoljak.hu/bgw_nagytarcsa_naplasu1",
           480,
           null,
           480
          ],
          [
           "https://holtankoljak.hu/oranges_oil_company_nagykanizsa_taborhelyu4",
           479.9,
           null,
           479.9
          ],
          [
           "https://holtankoljak.hu/magan_kut_obarok_m1autopalya43kmbaloldal",
           479.9,
           null,
           null
          ],
          [
           "https://holtankoljak.hu/magan_kut_roszke_0229104hrsz",
           479.9,
           null,
           477
          ],
          [
           "https://holtankoljak.hu/hedoti_gyor_m1autopalyaexit115",
           480,
           null,
           null
          ],
          [
           "https://holtankoljak.hu/hunpetrol_tiszaujvaros_63411hrsz35-osfoutmellett",
           479.9,
           null,
           479.9
          ],
          [
           "https://holtankoljak.hu/olajker_kft._mol_partner__tata_fallerjenout3molpartnerolajkerkft",
           468,
           null,
           473
          ],
          [
           "https://holtankoljak.hu/grovi_kft__vasarosnameny_ilkiut1",
           479.9,
           null,
           479.9
          ],
          [
           "https://holtankoljak.hu/magan_karancslapujto_honvedu2a",
           479.9,
           null,
           479.9
          ],
          [
           "https://holtankoljak.hu/lamarin_kft__baja_granatosu11",
           479.9,
           null,
           479.9
          ],
          [
           "https://holtankoljak.hu/hunpetrol_foldes_bemutca2",
           479.9,
           513.9,
           479.9
          ],
          [
           "https://holtankoljak.hu/magan_kut_domaszek_vasututca47",
           480,
           null,
           480
          ],
          [
           "https://holtankoljak.hu/magan_kut_tata_agostyaniut78zoldutkft",
           469,
           null,
           474
          ],
          [
           "https://holtankoljak.hu/fire-oil_kft._szolnok_tulipanut1",
           479.9,
           null,
           479.9
          ],
          [
           "https://holtankoljak.hu/magan_csemo_020817abenzinkuthrsz",
           null,
           null,
           null
          ],
          [
           "https://holtankoljak.hu/sum_agro_kft__szecseny_varsanyiu4",
           null,
           null,
           null
          ],
          [
           "https://holtankoljak.hu/magan_tiszavasvari_polgariut1",
           479.9,
           null,
           479.9
          ],
          [
           "https://holtankoljak.hu/magan_bakonycsernye_rakocziu90a",
           479.9,
           null,
           479.9
          ],
          [
           "https://holtankoljak.hu/magan_balatonfured_lapostelkiu3",
           479.9,
           null,
           479.9
          ],
          [
           "https://holtankoljak.hu/oplus_benzinkut_nyiregyhaza_tiszavasvariutzomboribokor",
           479.9,
           503.9,
           479.9
          ],
          [
           "https://holtankoljak.hu/bss_group_benzinkut_budakalasz_jozsefattilau75",
           479.9,
           null,
           479.9
          ],
          [
           "https://holtankoljak.hu/sprint_olaj_2005_kft__kal_kapolnaiut12",
           null,
           null,
           null
          ],
          [
           "https://holtankoljak.hu/silopetrol_kft__labatlan_rakocziut36",
           479.9,
           null,
           479.9
          ],
          [
           "https://holtankoljak.hu/edo_kiskunhalas_malomsor4",
           479.9,
           479.9,
           479.9
          ],
          [
           "https://holtankoljak.hu/hunpetrol_mezokovesd_31hrszegriut",
           479.9,
           null,
           479.9
          ],
          [
           "https://holtankoljak.hu/csernyik_pal_e_v__nagyhalasz_ibranyiut22",
           479.9,
           null,
           480
          ],
          [
           "https://holtankoljak.hu/concordia_szombathely_kft__szombathely_sopteiut78",
           480,
           null,
           480
          ],
          [
           "https://holtankoljak.hu/red_oil_toltoallomas_ibrany_varutca2",
           480,
           null,
           480
          ],
          [
           "https://holtankoljak.hu/oranges_oil_company_zalaszentgrot_turjeiuesmoriczzsigmondu",
           479.9,
           null,
           479.9
          ],
          [
           "https://holtankoljak.hu/oranges_oil_company_zalaegerszeg_balatoniu5-7zalapark",
           479.9,
           null,
           479.9
          ],
          [
           "https://holtankoljak.hu/optimus_benzinkut_nadasd_petofiu96",
           480,
           null,
           480
          ],
          [
           "https://holtankoljak.hu/metrical_kft__sumeg_somoskertu27",
           479.9,
           null,
           479.9
          ],
          [
           "https://holtankoljak.hu/magan_kut_paks_dunakomlod-szabadsagu1482292hrsz",
           479.9,
           null,
           479.9
          ],
          [
           "https://holtankoljak.hu/fuel_uzemanyagtolto_allomas_ha_megyaszo_monokiu2",
           479.9,
           null,
           479.9
          ],
          [
           "https://holtankoljak.hu/hatar_kut_hungary_kft__hegyeshalom_mikloshalmiut1",
           480,
           null,
           480
          ],
          [
           "https://holtankoljak.hu/oldtimer83_tet_debrecenu45",
           480,
           480,
           480
          ],
          [
           "https://holtankoljak.hu/conoil_gyor_repteriut2",
           480,
           null,
           480
          ],
          [
           "https://holtankoljak.hu/nkm-mobilitas_budapest_xi_budaorsiut126",
           479.9,
           559.9,
           479.9
          ],
          [
           "https://holtankoljak.hu/korrekt_kut_kft__szekszard_keselyusiut120",
           479.9,
           null,
           null
          ],
          [
           "https://holtankoljak.hu/grovi_kft__fehergyarmat_martirokutja12",
           479.9,
           null,
           479.9
          ],
          [
           "https://holtankoljak.hu/edo_szarvas_013192hrsz44-esszamufout",
           479.9,
           479.9,
           479.9
          ],
          [
           "https://holtankoljak.hu/galantai_bt_morahalom_szegediut",
           480,
           480,
           480
          ],
          [
           "https://holtankoljak.hu/magan_herceghalom_jokaimoru2a",
           479.9,
           null,
           479.9
          ],
          [
           "https://holtankoljak.hu/jo_ko_petrol_kft__kecskemet_szechenyikrt1",
           480,
           null,
           480
          ],
          [
           "https://holtankoljak.hu/nanas_transport_kft_hajdunanas_polgariu100",
           480,
           null,
           null
          ],
          [
           "https://holtankoljak.hu/nagy_kut_bt__erd_zamoriut4",
           476.9,
           479.8,
           476.9
          ],
          [
           "https://holtankoljak.hu/magan_budapest_xvi_simongatutca2",
           480,
           null,
           480
          ],
          [
           "https://holtankoljak.hu/metz_ferenc_e_v__ecser_zrinyiu1",
           479.9,
           530,
           479.9
          ],
          [
           "https://holtankoljak.hu/kereken_palya_kft__kerekegyhaza_faludulo2",
           479.9,
           null,
           479.9
          ],
          [
           "https://holtankoljak.hu/hunpetrol_onod_rakocziut2",
           479.9,
           523.9,
           479.9
          ],
          [
           "https://holtankoljak.hu/magan_vertesszolos_kulterulet0942hrsz",
           479.9,
           null,
           479.9
          ],
          [
           "https://holtankoljak.hu/toserne_leho_agnes_e_v__heves_egriut0385hrsz",
           479.9,
           null,
           479.9
          ],
          [
           "https://holtankoljak.hu/magan_miskolc_sajoszigetiut2",
           480,
           null,
           480
          ],
          [
           "https://holtankoljak.hu/neo_benzinkut_sarospatak_deryneu12",
           479.9,
           null,
           479.9
          ],
          [
           "https://holtankoljak.hu/kis_kft__kecskemet_jokaiu44",
           479.9,
           null,
           479.9
          ],
          [
           "https://holtankoljak.hu/magan_gater_szabadsagu21",
           480,
           480,
           480
          ],
          [
           "https://holtankoljak.hu/tanya_petrol_baja_kulterulet01562hrsz",
           479.9,
           null,
           479.9
          ],
          [
           "https://holtankoljak.hu/szilas_ker__kft__budapest_lakatosut61-63",
           479.9,
           null,
           479.9
          ],
          [
           "https://holtankoljak.hu/magan_magocs_vasarter8968hrszadyeu79b",
           479.9,
           null,
           479.9
          ],
          [
           "https://holtankoljak.hu/magan_penc_rakocziu025538hrsz",
           479.9,
           null,
           null
          ],
          [
           "https://holtankoljak.hu/twell_benzinkut_godollo_repuloteriu9",
           479.9,
           545.9,
           479.9
          ],
          [
           "https://holtankoljak.hu/concordia_trans_kft__kormend_sportutca5tesco",
           480,
           null,
           480
          ],
          [
           "https://holtankoljak.hu/vertes_human_kft_tata_agostyaniut78volankut",
           469,
           null,
           474
          ],
          [
           "https://holtankoljak.hu/benz&benz_kft_ujhartyan_dragonbenztoltoallomas",
           479.9,
           null,
           479.9
          ],
          [
           "https://holtankoljak.hu/magan_kut_cegled_malomtoszel30",
           479.9,
           null,
           479.9
          ],
          [
           "https://holtankoljak.hu/edo_mako_justhgyulautca67",
           479.9,
           479.9,
           479.9
          ],
          [
           "https://holtankoljak.hu/magan_kut_siofok_fou234",
           477.9,
           null,
           477.9
          ],
          [
           "https://holtankoljak.hu/magan_szabadegyhaza_kulterulet",
           479.9,
           null,
           479.9
          ],
          [
           "https://holtankoljak.hu/hunpetrol_komadi_nagysandorjozsefutca65",
           479.9,
           null,
           479.9
          ],
          [
           "https://holtankoljak.hu/magan_budapest_xxi_csepelmuvekfokapuszinesfemu23",
           479.9,
           null,
           479.9
          ],
          [
           "https://holtankoljak.hu/magan_atkar_fou89",
           479.9,
           null,
           479.9
          ],
          [
           "https://holtankoljak.hu/benz&benz_kft_pilis_dragonbenztoltoallomas",
           479.9,
           null,
           479.9
          ],
          [
           "https://holtankoljak.hu/mypetrol_halasztelek_iirakocziferencut2910hrsz",
           479.9,
           497,
           479.9
          ],
          [
           "https://holtankoljak.hu/nkm-mobilitas_budapest_xiv_ogyallater1",
           479.9,
           553.9,
           479.9
          ],
          [
           "https://holtankoljak.hu/duna_petrol_kisapostag_6-osfout76km",
           479.9,
           null,
           479.9
          ],
          [
           "https://holtankoljak.hu/gbg_aszod_pestiut25",
           479,
           null,
           479
          ],
          [
           "https://holtankoljak.hu/emme_petrol_kft__fadd_aranyjanosu06811hrsz",
           479.9,
           null,
           479.9
          ],
          [
           "https://holtankoljak.hu/edo_szeged_dorozsmaiut100",
           479.9,
           479.9,
           479.9
          ],
          [
           "https://holtankoljak.hu/magan_kut_gyorkony_fou104",
           479.9,
           null,
           479.9
          ],
          [
           "https://holtankoljak.hu/oplus_benzinkut_nyirtura_ujmajoriut10",
           479.9,
           503.9,
           479.9
          ],
          [
           "https://holtankoljak.hu/full_sopron_ker__es_szolg__kft__sopron_somfalviu16",
           480,
           null,
           480
          ],
          [
           "https://holtankoljak.hu/persped_kft__veszprem_hazgyariu16",
           478,
           null,
           null
          ],
          [
           "https://holtankoljak.hu/magan_kerekegyhaza_szabadsagu23",
           479.9,
           514,
           479.9
          ],
          [
           "https://holtankoljak.hu/tank_ol_kft__fertod_gaboraronutca11",
           479.9,
           null,
           null
          ],
          [
           "https://holtankoljak.hu/oplus_benzinkut_kisvarda_harmasut8a",
           479.9,
           null,
           479.9
          ],
          [
           "https://holtankoljak.hu/oplus_benzinkut_balkany_013917hrsz",
           479.9,
           null,
           479.9
          ],
          [
           "https://holtankoljak.hu/tank_ol_kft__kapuvar_szentkatalinut45",
           479.9,
           null,
           null
          ],
          [
           "https://holtankoljak.hu/nagisz_zrt__nadudvar_bemjozsefu5",
           480,
           506,
           480
          ],
          [
           "https://holtankoljak.hu/tabol_kft__tab_vasutallomasutca1",
           null,
           null,
           null
          ],
          [
           "https://holtankoljak.hu/nkm-mobilitas_budapest_x_kobanyaiut55",
           479.9,
           552.9,
           479.9
          ],
          [
           "https://holtankoljak.hu/ecopont_vecses_lorinciutca130",
           479.9,
           null,
           479.9
          ],
          [
           "https://holtankoljak.hu/magan_budapest_xxii_banyalegutca108",
           479.9,
           null,
           479.9
          ],
          [
           "https://holtankoljak.hu/magan_kut_szentantalfa_fou96",
           479.9,
           null,
           479.9
          ],
          [
           "https://holtankoljak.hu/tabol_kft__sagvar_foutca2",
           479.9,
           null,
           479.9
          ],
          [
           "https://holtankoljak.hu/tele-tank_kaposvar_jutaiut26a",
           479.9,
           512.9,
           479.9
          ],
          [
           "https://holtankoljak.hu/magan_kut_solt_vasutallomas-rakodo",
           480,
           null,
           null
          ],
          [
           "https://holtankoljak.hu/szabi_kut_szekesfehervar_martirokutja13",
           479.9,
           null,
           479.9
          ],
          [
           "https://holtankoljak.hu/tobor_bt__bekecs_honvedut228",
           479.9,
           null,
           479.9
          ],
          [
           "https://holtankoljak.hu/oranges_oil_company_mosonmagyarovar_szekeresru19hrsz53749parkcenterparkoloja",
           479.9,
           null,
           479.9
          ],
          [
           "https://holtankoljak.hu/magan_kut_solt_foldvariut97-9952szfoutdelioldal5041hrsz",
           479.9,
           517.9,
           479.9
          ],
          [
           "https://holtankoljak.hu/katep_tuker_kft__kiskunfelegyhaza_izsakiut22",
           480,
           null,
           480
          ],
          [
           "https://holtankoljak.hu/joremenyseg_muanyagipari_es_szolgaltato_szovetkezet_soltvadkert_kossuthutca831",
           null,
           null,
           null
          ],
          [
           "https://holtankoljak.hu/edo_szeged_szoregiut39-41",
           479.9,
           479.9,
           479.9
          ],
          [
           "https://holtankoljak.hu/grovi_kft._hajdunanas_viharbelautca2",
           479.9,
           null,
           479.9
          ],
          [
           "https://holtankoljak.hu/magan_kut_zsana_01572hrsz5408szamuutmellett",
           479.9,
           null,
           479.9
          ],
          [
           "https://holtankoljak.hu/hunpetrol_tiszaujvaros_debreceniut2",
           479.9,
           524.9,
           479.9
          ],
          [
           "https://holtankoljak.hu/angel_petrol_szikszo_hrsz02612",
           479.9,
           573.9,
           479.9
          ],
          [
           "https://holtankoljak.hu/edo_asotthalom_313hrsz",
           479.9,
           479.9,
           479.9
          ],
          [
           "https://holtankoljak.hu/agro_cserkesz_kft__nagycserkesz_vasvaripalutca1026",
           479.9,
           null,
           479.9
          ],
          [
           "https://holtankoljak.hu/zala_tank_zalaegerszeg_gazdasagut32",
           480,
           null,
           480
          ],
          [
           "https://holtankoljak.hu/port_oil_oktan_kft__janossomorja_mosonudvar051101hrsz",
           479.9,
           532.9,
           479.9
          ],
          [
           "https://holtankoljak.hu/steiner-autohof_bicske_m1autopalyamellett39kmszelvenybejarat1foutrol",
           480,
           null,
           null
          ],
          [
           "https://holtankoljak.hu/magan_budapest_xv_rakospalotaihatarut14",
           477,
           null,
           477
          ],
          [
           "https://holtankoljak.hu/tele-tank_nagyharsany_beremendiut",
           479.9,
           null,
           479.9
          ],
          [
           "https://holtankoljak.hu/magan_budapest_x_maglodiut12b",
           480,
           null,
           480
          ],
          [
           "https://holtankoljak.hu/red-rex_q_kft._abony_kecskeiut2a",
           480,
           null,
           480
          ],
          [
           "https://holtankoljak.hu/gp_petrol_szekesfehervar_seregelyesiut118",
           479.9,
           null,
           479.9
          ],
          [
           "https://holtankoljak.hu/concordia_trans_kft__gyor_gyoriut2amenfocsanak",
           480,
           null,
           480
          ],
          [
           "https://holtankoljak.hu/egererdo_zrt__eger_tarkanyiut",
           480,
           null,
           480
          ],
          [
           "https://holtankoljak.hu/magan_kut_tatabanya_bakonyutca10",
           480,
           null,
           480
          ],
          [
           "https://holtankoljak.hu/hmt_petrol_bekescsaba_bartokbelaut42-44",
           479.9,
           null,
           479.9
          ],
          [
           "https://holtankoljak.hu/magan_celldomolk_kolozsvaru16",
           480,
           null,
           480
          ],
          [
           "https://holtankoljak.hu/tele-tank_balatonszentgyorgy_berzsenyidu54",
           479.9,
           527.9,
           479.9
          ],
          [
           "https://holtankoljak.hu/grovi_kft__mateszalka_meggyesiut31",
           479.9,
           null,
           479.9
          ],
          [
           "https://holtankoljak.hu/magan_gyor_kulsoveszpremiut2",
           479.9,
           null,
           479.9
          ],
          [
           "https://holtankoljak.hu/unio_sped_2004_kft__seregelyes_dinnyesiut29",
           479.9,
           null,
           479.9
          ],
          [
           "https://holtankoljak.hu/majorkakut_melykut_oregmajor143",
           480,
           null,
           480
          ],
          [
           "https://holtankoljak.hu/tabol_kft__siofok_vak-bottyanutca34",
           479.9,
           null,
           479.9
          ],
          [
           "https://holtankoljak.hu/patanyi_szallitas_kft_tata_agostyaniut78",
           469,
           null,
           474
          ],
          [
           "https://holtankoljak.hu/korrekt_kut_kft__cece_vasutallomas",
           479.9,
           null,
           null
          ],
          [
           "https://holtankoljak.hu/oplus_kft__nyiregyhaza_lujzau9",
           479.9,
           null,
           479.9
          ],
          [
           "https://holtankoljak.hu/magan_besenyotelek_hrsz0297",
           480,
           null,
           480
          ],
          [
           "https://holtankoljak.hu/tele-tank_magyarszek_kulterulet01343hrsz66-osutmellett",
           479.9,
           512.9,
           479.9
          ],
          [
           "https://holtankoljak.hu/tir_sped_kft__csolnok_kulterulethrsz01823",
           null,
           null,
           null
          ],
          [
           "https://holtankoljak.hu/magan_kut_pahi_rakoczifu1",
           479.9,
           null,
           479.9
          ],
          [
           "https://holtankoljak.hu/oranges_oil_company_budakeszi_biankautca1zonebevasarlopark",
           479.9,
           null,
           479.9
          ],
          [
           "https://holtankoljak.hu/present_plusz_2_bt___nagydorog_kajdacsiu21a",
           479.9,
           null,
           479.9
          ],
          [
           "https://holtankoljak.hu/kut_97_budapest_xvi_margitu114",
           null,
           null,
           null
          ],
          [
           "https://holtankoljak.hu/magan_kut_becsehely_hrsz01131",
           480,
           null,
           480
          ],
          [
           "https://holtankoljak.hu/grovi_kft__porcsalma_szabadsagter15",
           479.9,
           null,
           479.9
          ],
          [
           "https://holtankoljak.hu/full_energy_sopron_banfalviu4d",
           480,
           null,
           480
          ],
          [
           "https://holtankoljak.hu/fullenergy_kapuvar_ipartelepiu8",
           480,
           null,
           480
          ],
          [
           "https://holtankoljak.hu/cell_tank_kft___celldomolk_wesselenyiu10",
           479.9,
           null,
           479.9
          ],
          [
           "https://holtankoljak.hu/hungaria_petrol_kft._szeged_etelkasor13",
           479.9,
           529.9,
           479.9
          ],
          [
           "https://holtankoljak.hu/magan_soponya_petofisandorutca24",
           479.9,
           null,
           479.9
          ],
          [
           "https://holtankoljak.hu/hunpetrol_mezocsat_013427hrsz",
           null,
           null,
           null
          ],
          [
           "https://holtankoljak.hu/oranges_oil_company_ozd_malomut1",
           479.9,
           null,
           479.9
          ],
          [
           "https://holtankoljak.hu/majorkakut_melykut_kuriakdulo1",
           480,
           null,
           480
          ],
          [
           "https://holtankoljak.hu/concordia_trans_kft__papa_celliu65",
           480,
           null,
           480
          ],
          [
           "https://holtankoljak.hu/magan_ullo_k-spedkrtviktoriaiparipark",
           479.9,
           null,
           479.9
          ],
          [
           "https://holtankoljak.hu/magan_kut_ruzsa_ottomosiut6",
           479.9,
           null,
           null
          ],
          [
           "https://holtankoljak.hu/magan_kut_bekescsaba_szarvasiut68",
           479.9,
           null,
           479.9
          ],
          [
           "https://holtankoljak.hu/magan_nagykonyi_vasarter",
           480,
           null,
           480
          ],
          [
           "https://holtankoljak.hu/edo_szekkutas_vasarhelyiut3203hrsz",
           479.9,
           479.9,
           479.9
          ],
          [
           "https://holtankoljak.hu/magan_debrecen_szechenyiut57realpremiumparkoloban",
           479.9,
           null,
           null
          ],
          [
           "https://holtankoljak.hu/grovi_kft__nyirbator_szentverut41",
           479.9,
           null,
           479.9
          ],
          [
           "https://holtankoljak.hu/tele-tank_nagyatad_berzenceiut022033hrsz",
           479.9,
           520.9,
           479.9
          ],
          [
           "https://holtankoljak.hu/magan_felcsut_fout220",
           480,
           null,
           480
          ],
          [
           "https://holtankoljak.hu/ori_benzinkut_baktaloranthaza_vasutu80",
           479.9,
           null,
           479.9
          ],
          [
           "https://holtankoljak.hu/magan_kut_ivancsa_hunyadiutca7821",
           null,
           null,
           null
          ],
          [
           "https://holtankoljak.hu/super_mol_kft__dunaujvaros_papirgyariut49",
           479.9,
           null,
           479.9
          ],
          [
           "https://holtankoljak.hu/qutas_budaors_szabadsagut110-120",
           480,
           null,
           480
          ],
          [
           "https://holtankoljak.hu/magan_kut_mezotur_szechenyiu23",
           479.9,
           null,
           null
          ],
          [
           "https://holtankoljak.hu/gp_petrol_patka_kulterulet0190101hrsz",
           479.9,
           null,
           479.9
          ],
          [
           "https://holtankoljak.hu/hunpetrol_polgar_tiszaiu7a",
           479.9,
           null,
           479.9
          ],
          [
           "https://holtankoljak.hu/eco_smart_group_god_nemeskeri-kissmiklosut108",
           479.9,
           null,
           479.9
          ],
          [
           "https://holtankoljak.hu/tabol_kft__siofok_bajcsy-zsilinszkyutca214",
           479.9,
           null,
           479.9
          ],
          [
           "https://holtankoljak.hu/tabol_kft__igal_szentistvanutca187",
           479.9,
           null,
           479.9
          ],
          [
           "https://holtankoljak.hu/oranges_oil_company_gyor_fehervariut99",
           479.9,
           509.9,
           479.9
          ],
          [
           "https://holtankoljak.hu/hunpetrol_kemecse_szentistvanutca35",
           479.9,
           null,
           479.9
          ],
          [
           "https://holtankoljak.hu/ersto_kft__tokol_ledinadulo4",
           480,
           null,
           480
          ],
          [
           "https://holtankoljak.hu/majorkakut_kisszallas_vkorzet30",
           479.9,
           null,
           479.9
          ],
          [
           "https://holtankoljak.hu/ujvari_team_kft._szentendre_dunakanyarkrt5a",
           479.9,
           null,
           479.9
          ],
          [
           "https://holtankoljak.hu/gyonki_autocentrum_kft__gyonk_kulterulet07hrsz",
           480,
           null,
           480
          ],
          [
           "https://holtankoljak.hu/magan_gyorujbarat_szechenyikorut701hrsz",
           null,
           null,
           null
          ],
          [
           "https://holtankoljak.hu/edo_level_61128hrsz",
           479.9,
           null,
           479.9
          ],
          [
           "https://holtankoljak.hu/tele-tank_kaposvar_toponariut2",
           479.9,
           512.9,
           479.9
          ],
          [
           "https://holtankoljak.hu/magan_dunaharaszti_8601hrsz",
           479.9,
           null,
           479.9
          ],
          [
           "https://holtankoljak.hu/goher_kft__hevizgyork_adyendreut71",
           479.9,
           null,
           479.9
          ],
          [
           "https://holtankoljak.hu/tamasi_autocentrum_kft__tamasi_belterulet2594hrsz",
           480,
           null,
           480
          ],
          [
           "https://holtankoljak.hu/benz_oil_kft__erd_bajcsy-zsut117",
           479.9,
           null,
           479.9
          ],
          [
           "https://holtankoljak.hu/sza_oil_kft__kurd_hunyadiu22a",
           479.9,
           554.9,
           479.9
          ],
          [
           "https://holtankoljak.hu/babolna_sped_babolna_rakocziut1071hrsz",
           479.9,
           null,
           479.9
          ],
          [
           "https://holtankoljak.hu/gpw_oil__albertirsa_bekeu43",
           479.9,
           null,
           479.9
          ],
          [
           "https://holtankoljak.hu/magan_balassagyarmat_szugyiut63",
           null,
           null,
           null
          ],
          [
           "https://holtankoljak.hu/kumin_tank_kft._mezofalva_kisfaludykarolyutca4082hrsz",
           479.9,
           null,
           479.9
          ],
          [
           "https://holtankoljak.hu/bayer_kft__bonyhad_drkoltalaszlou",
           null,
           null,
           null
          ],
          [
           "https://holtankoljak.hu/magan_hajos_kossuthu60",
           479.9,
           null,
           479.9
          ],
          [
           "https://holtankoljak.hu/magan_tatabanya_erdeszutd",
           479.9,
           null,
           479.9
          ],
          [
           "https://holtankoljak.hu/garden_petrol_kft__budapest_pestiut237osszekotoutca",
           null,
           null,
           null
          ],
          [
           "https://holtankoljak.hu/magan_szazhalombatta_iparipark6-osfout0674hrsz-adalekoltimportuzemanyagertekesites",
           479.9,
           551.9,
           479.9
          ],
          [
           "https://holtankoljak.hu/hunpetrol_miskolc_kissernoutca35",
           479.9,
           null,
           479.9
          ],
          [
           "https://holtankoljak.hu/magan_god_nemeskeriut49",
           479.9,
           null,
           479.9
          ],
          [
           "https://holtankoljak.hu/magan_kut_debrecen_gizellau8",
           479.9,
           null,
           479.9
          ],
          [
           "https://holtankoljak.hu/nit_hungary_budapest_x_gyomroiut105",
           480,
           null,
           480
          ],
          [
           "https://holtankoljak.hu/p_oil_kft__jaszszentlaszlo_felegyhaziut2",
           479.9,
           null,
           479.9
          ],
          [
           "https://holtankoljak.hu/kut_97_csomor_majoru018211hrsz",
           479.9,
           null,
           479.9
          ]
         ],
         "hovertemplate": "<b>%{hovertext}</b><br><br>brand=magan<br>size_for_plot=%{marker.size}<br>LAT=%{lat}<br>LON=%{lon}<br>link=%{customdata[0]}<br>Gázolaj=%{customdata[1]}<br>Prémium Gázolaj=%{customdata[2]}<br>95-ös Benzin E10=%{customdata[3]}<extra></extra>",
         "hovertext": [
          "Torony, Felsőőri u. Ipartelep 9.",
          "Szakmár, Bajcsy-Zsilinszky u. 51.",
          "Kocs, Kis út 6. ",
          "Kiskőrös, Dózsa György út 92.",
          "Szekszárd, Tartsay Vilmos utca 40.",
          "Kecskemét, Felsőcsalános u. 54.",
          "Nagytarcsa, Naplás u. 1.",
          "Nagykanizsa, Táborhely u. 4.",
          "Óbarok, M1 autopálya 43 km bal oldal",
          "Röszke, 0229/104 hrsz.",
          "Győr, M1 Autópálya EXIT 115",
          "Tiszaújváros, 634/11 hrsz. 35-ös főút mellett",
          "Tata, Faller Jenő út 3. (MOL Partner, OLAJKER KFT.)",
          "Vásárosnamény, Ilki út 1.",
          "Karancslapujtő, Honvéd u. 2/a",
          "Baja, Gránátos u. 11.",
          "Földes, Bem utca 2. ",
          "Domaszék, Vasút utca 47.",
          "Tata, Agostyáni út 78. (Zöld Út Kft.)",
          "Szolnok, Tulipán út 1.",
          "Csemő, 0208/17/A (Benzinkút) hrsz.",
          "Szécsény, Varsányi u. 4.",
          "Tiszavasvári, Polgári út 1.",
          "Bakonycsernye, Rákóczi u. 90/a.",
          "Balatonfűred, Lapostelki u 3.",
          "Nyíregyháza, Tiszavasvári út, Zomboribokor",
          "Budakalász, József Attila u. 75.",
          "Kál, Kápolnai út 12.",
          "Lábatlan, Rákóczi út 36.",
          "Kiskunhalas, Malom sor 4.",
          "Mezőkövesd, 3/1 hrsz. Egri út",
          "Nagyhalász, Ibrányi út 22.",
          "Szombathely, Söptei út 78.",
          "Ibrány, Vár utca 2. ",
          "Zalaszentgrót, Türjei u. és Móricz Zsigmond u. ",
          "Zalaegerszeg, Balatoni u 5-7. / Zalapark",
          "Nádasd, Petőfi u. 96.",
          "Sűmeg, Somoskert u. 2/7.",
          "Paks,  Dunakömlőd - Szabadság u. 14. 8229/2 hrsz.",
          "Megyaszó, Monoki u. 2. ",
          "Hegyeshalom, Miklóshalmi út 1.",
          "Tét, Debrecen u. 45",
          "Győr, Reptéri út 2.",
          "Budapest XI, Budaörsi út 126.",
          "Szekszárd, Keselyűsi út 120.",
          "Fehérgyarmat, Mártírok útja 12.",
          "Szarvas, 01319/2 hrsz. (44.-es számú főút)",
          "Mórahalom, Szegedi út",
          "Herceghalom, Jókai Mór u 2/A",
          "Kecskemét, Széchenyi krt.1.",
          "Hajdúnánás, Polgári u. 100.",
          "Érd, Zámori út 4.",
          "Budapest XVI, Simongát utca 2.",
          "Ecser, Zrínyi u.1.",
          "Kerekegyháza, Falu dülő 2.",
          "Ónod, Rákóczi út 2. ",
          "Vértesszőlős, külterület 094/2 hrsz",
          "Heves, Egri út 038/5 hrsz.",
          "Miskolc, Sajószigeti út 2.",
          "Sárospatak, Déryné u. 12.",
          "Kecskemét, Jókai u. 44.",
          "Gátér, Szabadság u. 21.",
          "Baja, Külterület 015/62 hrsz. ",
          "Budapest XVIII, Lakatos út 61-63.",
          "Mágocs, Vásártér 896/8 hrsz (Ady E u 79/b)",
          "Penc, Rákóczi u. 0255/38 hrsz.",
          "Gödöllő, Repülőtéri u. 9.",
          "Körmend, Sport utca 5. (TESCO)",
          "Tata, Agostyáni út 78. Volán kút",
          "Újhartyán, Dragon Benz töltőállomás",
          "Cegléd, Malomtó szél 30.",
          "Makó, Justh Gyula utca 67.",
          "Siófok, Fő u. 234.",
          "Szabadegyháza, Külterület",
          "Komádi, Nagy Sándor József utca 65. ",
          "Budapest XXI, Csepel Művek Főkapu, Színesfém u. 23.",
          "Atkár, Fő u. 89.",
          "Pilis, Dragon Benz töltőállomás",
          "Halásztelek, II. Rákóczi Ferenc út 29/10 hrsz. ",
          "Budapest XIV, Ógyalla tér 1.",
          "Kisapostag, 6-os főút 76 km",
          "Aszód, Pesti út 25.",
          "Fadd, Arany János u. 068/11 hrsz.",
          "Szeged, Dorozsmai út 100.",
          "Györköny, Fő u. 104.",
          "Nyírtura, Újmajori út 10. ",
          "Sopron, Somfalvi u. 16.",
          "Veszprém, Házgyári u. 16.",
          "Kerekegyháza, Szabadság u. 23.",
          "Fertőd, Gábor Áron utca 11.",
          "Kisvárda, Hármas út 8/a",
          "Balkány, 0139/17 hrsz.",
          "Kapuvár, Szent Katalin út 45.",
          "Nádudvar, Bem József u. 5.",
          "Tab, Vasútállomás utca 1.",
          "Budapest X, Kőbányai út 55.",
          "Vecsés, Lőrinci utca 130",
          "Budapest XXII, Bányalég utca 108",
          "Szentantalfa, Fő u. 96.",
          "Ságvár, Fő utca 2.",
          "Kaposvár, Jutai út 26/a.",
          "Solt, Vasútállomás-rakodó",
          "Székesfehérvár, Mártírok útja 13.",
          "Bekecs, Honvéd út 228.",
          "Mosonmagyaróvár, Szekeres R. u. 19. Hrsz. 537/49 Park Center parkolója",
          "Solt, Földvári út 97-99. (52. sz főút déli oldal) 5041 hrsz.",
          "Kiskunfélegyháza, Izsáki út 22.",
          "Soltvadkert, Kossuth utca 83/1",
          "Szeged, Szőregi út 39-41.",
          "Hajdúnánás, Vihar Béla utca 2.",
          "Zsana, 0157/2 hrsz. 5408 számú út mellett",
          "Tiszaújváros, Debreceni út 2. ",
          "Szikszó, Hrsz. 026/12",
          "Ásotthalom, 3/13 hrsz.",
          "Nagycserkesz, Vasvári Pál utca 102/6",
          "Zalaegerszeg, Gazdaság út 32.",
          "Jánossomorja, Mosonudvar 051/101 hrsz.",
          "Bicske, M1 autópálya mellett (39. km szelvény) bejárat 1. főútról",
          "Budapest XV, Rákospalotai határút 14.",
          "Nagyharsány, Beremendi út",
          "Budapest X, Maglódi út 12/B",
          "Abony, Kécskei út 2/A",
          "Székesfehérvár, Seregélyesi út 118.",
          "Győr, Győri út 2/A. Ménfőcsanak",
          "Eger, Tárkányi út",
          "Tatabánya, Bakony utca 10.",
          "Békéscsaba, Bartók Béla út 42-44.",
          "Celldömölk, Kolozsvár u. 16.",
          "Balatonszentgyörgy, Berzsenyi D. u. 54",
          "Mátészalka, Meggyesi út 31.",
          "Győr, Külső Veszprémi út 2.",
          "Seregélyes, Dinnyési út 29.",
          "Mélykút, Öregmajor 143.",
          "Siófok, Vak-Bottyán utca 34.",
          "Tata, Agostyáni út 78.",
          "Cece, Vasútállomás",
          "Nyíregyháza, Lujza u. 9.",
          "Besenyőtelek, HRSZ. 0297.",
          "Magyarszék, külterület 0134/3 hrsz (66-os út mellett)",
          "Csolnok, Külterület hrsz. 0182/3.",
          "Páhi, Rákóczi F. u.1. ",
          "Budakeszi, Bianka utca 1. ZONE Bevásárlópark",
          "Nagydorog, Kajdacsi u. 21/a",
          "Budapest XVI, Margit u. 114.",
          "Becsehely, Hrsz. 011/31",
          "Porcsalma, Szabadság tér 15.",
          "Sopron, Bánfalvi u. 4/D.",
          "Kapuvár, Ipartelepi u. 8.",
          "Celldömölk, Wesselényi u. 10",
          "Szeged, Etelka sor 13.",
          "Soponya, Petőfi Sándor utca 24.",
          "Mezőcsát, 0134/27 hrsz.",
          "Ózd, Malom út 1.",
          "Mélykút, Kúriák dűlő 1.",
          "Pápa, Celli u. 65.",
          "Üllő, K-Sped Krt. (Viktória Ipari Park)",
          "Ruzsa, Öttömösi út 6.",
          "Békéscsaba, Szarvasi út 68.",
          "Nagykónyi, Vásártér",
          "Székkutas, Vásárhelyi út 320/3 hrsz.",
          "Debrecen, Széchenyi út 57. (Reál prémium parkolóban)",
          "Nyírbátor, Szentvér út 41.",
          "Nagyatád, Berzencei út 0220/33. hrsz.",
          "Felcsút, Fő út 220.",
          "Baktalórántháza, Vasút u. 80.",
          "Iváncsa, Hunyadi utca 782/1. ",
          "Dunaújváros, Papírgyári út 49.",
          "Budaörs, Szabadság út 110-120.",
          "Mezőtúr, Széchenyi u. 23.",
          "Pátka, Külterület 0190/101 hrsz.",
          "Polgár, Tiszai u.7/A ",
          "Göd, Nemeskéri - Kiss Miklós út 108",
          "Siófok, Bajcsy-Zsilinszky utca 214.",
          "Igal, Szent István utca 187.",
          "Győr, Fehérvári út 99.",
          "Kemecse, Szent István utca 35.",
          "Tököl, Ledina dűlő 4.",
          "Kisszállás, V. körzet 30.",
          "Szentendre, Dunakanyar krt. 5/a.",
          "Gyönk, Külterület 07 hrsz.",
          "Győrújbarát, Széchenyi körút 701. hrsz.",
          "Levél, 611/28 hrsz.",
          "Kaposvár, Toponári út 2.",
          "Dunaharaszti, 8601 hrsz.",
          "Hévízgyörk, Ady Endre út 71.",
          "Tamási, Belterület 2594 hrsz.",
          "Érd, Bajcsy-Zs. Út. 117.",
          "Kurd, Hunyadi u. 22/a",
          "Bábolna, Rákóczi út, 107/1 hrsz.",
          "Albertirsa, Béke u. 43.",
          "Balassagyarmat, Szügyi út 63.",
          "Mezőfalva, Kisfaludy Károly utca 408/2. hrsz.",
          "Bonyhád, Dr. Kolta László u.",
          "Hajós, Kossuth u. 60.",
          "Tatabánya, Erdész út D.",
          "Budapest XVII, Pesti út 237. (Összekötő utca)",
          "Százhalombatta, Ipari Park 6-os főút 067/4 hrsz. - adalékolt import üzemanyag értékesítés",
          "Miskolc, Kiss Ernő utca 35.",
          "Göd, Nemeskéri út 49.",
          "Debrecen, Gizella u. 8. ",
          "Budapest X, Gyömrői út 105.",
          "Jászszentlászló, Félegyházi út 2.",
          "Csömör, Major u. 0182/11 hrsz."
         ],
         "lat": [
          47.23839188,
          46.55970001,
          47.60530853,
          46.63029861,
          46.33042908,
          46.88845825,
          47.52108002,
          46.45449448,
          47.50260544,
          46.18962097,
          47.64988708,
          47.92713165,
          47.65703583,
          48.12776566,
          48.1463623,
          46.19019699,
          47.28369141,
          46.24802017,
          47.6572876,
          47.17742538,
          47.11995316,
          48.07165146,
          47.96162415,
          47.3216629,
          46.95249176,
          47.9577446,
          47.62058258,
          47.7390976,
          47.75140762,
          46.41466522,
          47.80903244,
          48.1341629,
          47.25099945,
          48.13492966,
          46.95072556,
          46.84125519,
          46.96416855,
          46.97403336,
          46.66626358,
          48.18780518,
          47.92697525,
          47.52306747,
          47.68795395,
          47.46418762,
          46.34501266,
          47.98122025,
          46.86592484,
          46.21766663,
          47.49513626,
          46.90687943,
          47.8565979,
          47.3706131,
          47.51742172,
          47.44022751,
          46.92716599,
          47.99692154,
          47.60789108,
          47.609375,
          48.11304092,
          48.32749176,
          46.91496277,
          46.68420029,
          46.15784454,
          47.45046234,
          46.34812164,
          47.80120087,
          47.58815002,
          47.01748657,
          47.65699387,
          47.21686935,
          47.18309402,
          46.23232269,
          46.91024399,
          47.08349228,
          47.01271439,
          47.43062973,
          47.7157135,
          47.27911758,
          47.35665512,
          47.52731705,
          46.914814,
          47.64628601,
          46.47945023,
          46.27287674,
          46.62950897,
          48.01220703,
          47.69332123,
          47.11374664,
          46.93094254,
          47.62133026,
          48.22955322,
          47.76875687,
          47.58886337,
          47.42384338,
          46.73474121,
          47.48267365,
          47.41411591,
          47.38806915,
          46.9084053,
          46.83866119,
          46.37191772,
          46.79758072,
          47.1896019,
          48.14146423,
          47.87904739,
          46.81904984,
          46.71167755,
          46.58239746,
          46.23646545,
          47.85570908,
          46.39871979,
          47.92380905,
          48.1768837,
          46.21310425,
          47.96227264,
          46.86790848,
          47.83983612,
          47.50027084,
          47.53101349,
          45.84611893,
          47.48324966,
          47.18149948,
          47.18125153,
          47.63650513,
          47.94100189,
          47.59993362,
          46.6734848,
          47.25325775,
          46.69054413,
          47.94113159,
          47.6493988,
          47.11300278,
          46.23905563,
          46.89365005,
          47.65744019,
          46.77286148,
          47.936409,
          47.70976639,
          46.20779037,
          47.6956749,
          46.71111298,
          47.49858475,
          46.61239243,
          47.5179863,
          46.45560455,
          47.88357925,
          47.68534851,
          47.58744049,
          47.25845718,
          46.26187897,
          47.02443314,
          47.83538437,
          48.21722412,
          46.18278885,
          47.32489777,
          47.38033295,
          46.29040527,
          46.6817627,
          46.59589386,
          46.50586319,
          47.52598572,
          47.83547974,
          46.22815704,
          47.46821213,
          47.98832703,
          47.17221832,
          46.92710495,
          47.46102524,
          47.01321793,
          47.25780106,
          47.83533096,
          47.67899704,
          46.91119766,
          46.54679108,
          47.67268753,
          48.0663414,
          47.31358337,
          46.26086426,
          47.66986847,
          46.54812241,
          47.60451508,
          47.90156937,
          46.38866806,
          47.33356476,
          47.62272263,
          46.62773895,
          47.40498352,
          46.44657516,
          47.63407516,
          47.25876617,
          48.06214142,
          46.92845535,
          46.29534531,
          46.40687561,
          47.5834465,
          47.47647858,
          47.31693268,
          48.09915543,
          47.67936325,
          47.51600647,
          47.46489334,
          46.56349182,
          47.54396439
         ],
         "legendgroup": "magan",
         "lon": [
          16.51972961,
          19.08101463,
          18.21368599,
          19.26831055,
          18.70460892,
          19.62286186,
          19.26287651,
          17.01081085,
          18.54859924,
          19.99936676,
          17.70504951,
          21.03591156,
          18.34060669,
          22.30392838,
          19.74700928,
          18.93554306,
          21.35870934,
          20.00810051,
          18.33587456,
          20.21577644,
          19.69965172,
          19.51635361,
          21.34857368,
          18.09287453,
          17.86795235,
          21.65513039,
          19.06267357,
          20.25525475,
          18.51287842,
          19.49456596,
          20.55162621,
          21.74967575,
          16.62871933,
          21.70619392,
          17.08466148,
          16.86794853,
          16.60415649,
          17.27946091,
          18.87997818,
          21.05490685,
          17.11327744,
          17.5179348,
          17.68075752,
          19.01125336,
          18.74448586,
          22.50290108,
          20.52786255,
          19.8716774,
          18.74592972,
          19.68364334,
          21.40433693,
          18.88306427,
          19.2381115,
          19.31955147,
          19.49473953,
          20.92025948,
          18.384552,
          20.30194664,
          20.81319809,
          21.56085396,
          19.68822861,
          19.96299744,
          18.95753098,
          19.17236519,
          18.23005295,
          19.25144196,
          19.34422112,
          16.61500549,
          18.33625603,
          19.40040398,
          19.7978096,
          20.49473,
          18.06270599,
          18.71233559,
          21.49462318,
          19.06299782,
          19.89409828,
          19.55455017,
          18.98497391,
          19.09756088,
          18.92710495,
          19.46590805,
          18.82972145,
          20.08109856,
          18.69733047,
          21.84308052,
          16.56430435,
          17.88562012,
          19.48942375,
          16.88068008,
          22.09435463,
          21.85928345,
          17.04223824,
          21.17583656,
          18.04257584,
          19.12401962,
          19.24510956,
          18.957201,
          17.67541504,
          18.10162735,
          17.76804733,
          19.01255798,
          18.44784927,
          21.17185593,
          17.25756073,
          18.9682312,
          19.83239365,
          19.37664032,
          20.17009735,
          21.41197777,
          19.60667419,
          21.0490818,
          20.91420364,
          19.79408836,
          21.55321121,
          16.78554344,
          17.22426224,
          18.59712219,
          19.15416336,
          18.39250565,
          19.15830421,
          20.0063076,
          18.47181702,
          17.61296654,
          20.37671661,
          18.37328148,
          21.09157372,
          17.14091682,
          17.29532623,
          22.30687332,
          17.65751266,
          18.59075546,
          19.44004631,
          18.05873299,
          18.33491898,
          18.62401772,
          21.74239731,
          20.42622185,
          18.19169426,
          18.72377586,
          19.38045311,
          18.91469002,
          18.65182686,
          19.19038963,
          16.82519913,
          22.5657177,
          16.56109047,
          17.04529762,
          17.1528511,
          20.17201424,
          18.44770432,
          20.90056992,
          20.27142906,
          19.39447403,
          17.45180321,
          19.35360527,
          19.74473381,
          21.0735321,
          18.19989586,
          20.54152679,
          21.61445045,
          22.14029503,
          17.34154129,
          18.58172607,
          22.08045959,
          18.81462097,
          18.93517876,
          18.94919205,
          20.59631348,
          18.51671219,
          20.89993858,
          19.14934158,
          18.07823944,
          17.93502998,
          17.6776619,
          21.79735947,
          18.97490311,
          19.53426552,
          19.07176018,
          18.4896965,
          17.65233231,
          17.19777489,
          17.82673454,
          19.10874367,
          19.53446007,
          18.27701569,
          18.8870945,
          18.31115723,
          17.97427368,
          19.5887413,
          19.30345535,
          18.7854805,
          18.52122879,
          19.10019684,
          18.39158249,
          19.2655735,
          18.89074326,
          20.73263741,
          19.14876938,
          21.65490913,
          19.15869713,
          19.68811417,
          19.21673393
         ],
         "marker": {
          "color": "#00cc96",
          "size": [
           10,
           10,
           10,
           10,
           10,
           10,
           10,
           10,
           10,
           10,
           10,
           10,
           10,
           10,
           10,
           10,
           10,
           10,
           10,
           10,
           10,
           10,
           10,
           10,
           10,
           10,
           10,
           10,
           10,
           10,
           10,
           10,
           10,
           10,
           10,
           10,
           10,
           10,
           10,
           10,
           10,
           10,
           10,
           10,
           10,
           10,
           10,
           10,
           10,
           10,
           10,
           10,
           10,
           10,
           10,
           10,
           10,
           10,
           10,
           10,
           10,
           10,
           10,
           10,
           10,
           10,
           10,
           10,
           10,
           10,
           10,
           10,
           10,
           10,
           10,
           10,
           10,
           10,
           10,
           10,
           10,
           10,
           10,
           10,
           10,
           10,
           10,
           10,
           10,
           10,
           10,
           10,
           10,
           10,
           10,
           10,
           10,
           10,
           10,
           10,
           10,
           10,
           10,
           10,
           10,
           10,
           10,
           10,
           10,
           10,
           10,
           10,
           10,
           10,
           10,
           10,
           10,
           10,
           10,
           10,
           10,
           10,
           10,
           10,
           10,
           10,
           10,
           10,
           10,
           10,
           10,
           10,
           10,
           10,
           10,
           10,
           10,
           10,
           10,
           10,
           10,
           10,
           10,
           10,
           10,
           10,
           10,
           10,
           10,
           10,
           10,
           10,
           10,
           10,
           10,
           10,
           10,
           10,
           10,
           10,
           10,
           10,
           10,
           10,
           10,
           10,
           10,
           10,
           10,
           10,
           10,
           10,
           10,
           10,
           10,
           10,
           10,
           10,
           10,
           10,
           10,
           10,
           10,
           10,
           10,
           10,
           10,
           10,
           10,
           10,
           10,
           10,
           10,
           10,
           10,
           10,
           10,
           10,
           10,
           10,
           10,
           10,
           10
          ],
          "sizemode": "area",
          "sizeref": 0.4
         },
         "mode": "markers",
         "name": "magan",
         "showlegend": true,
         "subplot": "mapbox",
         "type": "scattermapbox"
        },
        {
         "customdata": [
          [
           "https://holtankoljak.hu/shell_budapest_xi_tetenyiut2",
           480,
           480,
           480
          ],
          [
           "https://holtankoljak.hu/shell_szekesfehervar_balatoniut",
           479.9,
           479.9,
           479.9
          ],
          [
           "https://holtankoljak.hu/shell_papa_celliut6",
           479.9,
           null,
           479.9
          ],
          [
           "https://holtankoljak.hu/shell_mateszalka_alkotmanyut1",
           479.9,
           479.9,
           479.9
          ],
          [
           "https://holtankoljak.hu/shell_budapest_ix_kenu1",
           479.9,
           479.9,
           479.9
          ],
          [
           "https://holtankoljak.hu/shell_szigetszentmiklos_iirakocziferencut12",
           479.9,
           479.9,
           479.9
          ],
          [
           "https://holtankoljak.hu/shell_budapest_x_kobanyaiut56",
           479.9,
           479.9,
           479.9
          ],
          [
           "https://holtankoljak.hu/shell_budapest_xviii_gyomroiut156",
           479.9,
           479.9,
           479.9
          ],
          [
           "https://holtankoljak.hu/shell_budapest_xvii_pestiut237c",
           479.9,
           479.9,
           479.9
          ],
          [
           "https://holtankoljak.hu/shell_szekesfehervar_palotaiut",
           479.9,
           479.9,
           479.9
          ],
          [
           "https://holtankoljak.hu/shell_budapest_xvii_pestiut6",
           479.9,
           479.9,
           479.9
          ],
          [
           "https://holtankoljak.hu/shell_mako_aradiut103",
           479.9,
           479.9,
           479.9
          ],
          [
           "https://holtankoljak.hu/shell_kalocsa_batyaiut8-10",
           479.9,
           null,
           479.9
          ],
          [
           "https://holtankoljak.hu/shell_gyor_szigethyattilaut111",
           480,
           480,
           480
          ],
          [
           "https://holtankoljak.hu/shell_szigetvar_jozsefattilau",
           479.9,
           479.9,
           479.9
          ],
          [
           "https://holtankoljak.hu/shell_budapest_xiv_fogarasiut183",
           480,
           480,
           480
          ],
          [
           "https://holtankoljak.hu/shell_budapest_xv_szentmihalyiut152",
           479.9,
           479.9,
           479.9
          ],
          [
           "https://holtankoljak.hu/shell_szentes_vasarhelyiut110",
           479.9,
           479.9,
           479.9
          ],
          [
           "https://holtankoljak.hu/shell_sulysap_pestiut56",
           479.9,
           479.9,
           479.9
          ],
          [
           "https://holtankoljak.hu/shell_szazhalombatta_damjanichu29",
           479.9,
           479.9,
           479.9
          ],
          [
           "https://holtankoljak.hu/shell_monor_vasadiu1",
           479.9,
           479.9,
           479.9
          ],
          [
           "https://holtankoljak.hu/shell_szarvas_csabaiut9",
           479.9,
           null,
           479.9
          ],
          [
           "https://holtankoljak.hu/shell_dunakeszi_2afoutkelet",
           479.9,
           479.9,
           479.9
          ],
          [
           "https://holtankoljak.hu/shell_varpalota_fehervariut17",
           479.9,
           479.9,
           479.9
          ],
          [
           "https://holtankoljak.hu/shell_dunakeszi_2-esfout",
           479.9,
           479.9,
           479.9
          ],
          [
           "https://holtankoljak.hu/shell_szekesfehervar_szekesfehervareszakm7",
           479.9,
           479.9,
           479.9
          ],
          [
           "https://holtankoljak.hu/shell_miskolc_vologdaut",
           479.9,
           479.9,
           479.9
          ],
          [
           "https://holtankoljak.hu/shell_kecskemet_bethlenkrt57-61",
           479.9,
           479.9,
           479.9
          ],
          [
           "https://holtankoljak.hu/shell_tata_majus1ut",
           479.9,
           479.9,
           479.9
          ],
          [
           "https://holtankoljak.hu/shell_szeged_algyoiut",
           479.9,
           479.9,
           479.9
          ],
          [
           "https://holtankoljak.hu/shell_szolnok_hunyadiut2-4",
           479.9,
           479.9,
           479.9
          ],
          [
           "https://holtankoljak.hu/shell_veszprem_kulso-kadartaiut3",
           479.9,
           479.9,
           479.9
          ],
          [
           "https://holtankoljak.hu/shell_ozd_vaskoz1-2",
           479.9,
           479.9,
           479.9
          ],
          [
           "https://holtankoljak.hu/shell_budapest_xiii_nepfurdou14",
           480,
           480,
           480
          ],
          [
           "https://holtankoljak.hu/shell_hajduboszormeny_tessediksu2",
           479.9,
           479.9,
           479.9
          ],
          [
           "https://holtankoljak.hu/shell_balatonkeresztur_m7balatonkeresztur-del",
           479.9,
           479.9,
           479.9
          ],
          [
           "https://holtankoljak.hu/shell_keszthely_csapasut27",
           479.9,
           null,
           479.9
          ],
          [
           "https://holtankoljak.hu/shell_szolnok_teglagyariut30",
           479.9,
           null,
           479.9
          ],
          [
           "https://holtankoljak.hu/shell_tata_remetesegpusztaeszakm1",
           479.9,
           479.9,
           479.9
          ],
          [
           "https://holtankoljak.hu/shell_balatonfured_szechenyiut11",
           479.9,
           479.9,
           479.9
          ],
          [
           "https://holtankoljak.hu/shell_budapest_xxiii_harasztiut38b",
           479.9,
           479.9,
           479.9
          ],
          [
           "https://holtankoljak.hu/shell_nyiregyhaza_mezou28-40",
           479.9,
           479.9,
           479.9
          ],
          [
           "https://holtankoljak.hu/shell_bekes_kulterulet07247hrsz",
           479.9,
           479.9,
           479.9
          ],
          [
           "https://holtankoljak.hu/shell_dombovar_juhaszgyulau1",
           479.9,
           479.9,
           479.9
          ],
          [
           "https://holtankoljak.hu/shell_budaors_kinizsiut1-3",
           479.9,
           479.9,
           479.9
          ],
          [
           "https://holtankoljak.hu/shell_csorna_soproniut64",
           479.9,
           479.9,
           479.9
          ],
          [
           "https://holtankoljak.hu/shell_budapest_ix_halleru56",
           479.9,
           479.9,
           479.9
          ],
          [
           "https://holtankoljak.hu/shell_gyor_kiralyszekiu33",
           480,
           480,
           480
          ],
          [
           "https://holtankoljak.hu/shell_zalaegerszeg_balatoniut27351hrsz",
           479.9,
           479.9,
           479.9
          ],
          [
           "https://holtankoljak.hu/shell_budapest_xix_ulloiut233",
           479.9,
           479.9,
           479.9
          ],
          [
           "https://holtankoljak.hu/shell_szekszard_palankiu2",
           479.9,
           479.9,
           479.9
          ],
          [
           "https://holtankoljak.hu/shell_tatabanya_1fout53km",
           479.9,
           479.9,
           479.9
          ],
          [
           "https://holtankoljak.hu/shell_nagykanizsa_balatoniut",
           479.9,
           479.9,
           479.9
          ],
          [
           "https://holtankoljak.hu/shell_tiszaujvaros_orosiut1a",
           479.9,
           null,
           479.9
          ],
          [
           "https://holtankoljak.hu/shell_szolnok_toszegiut5a",
           479.9,
           479.9,
           479.9
          ],
          [
           "https://holtankoljak.hu/shell_baja_dozsagyut13",
           479.9,
           479.9,
           479.9
          ],
          [
           "https://holtankoljak.hu/shell_gyula_csabaiut1",
           480,
           480,
           480
          ],
          [
           "https://holtankoljak.hu/shell_budapest_x_kerepesiut61",
           479.9,
           479.9,
           479.9
          ],
          [
           "https://holtankoljak.hu/shell_budapest_xiv_furediut63",
           480,
           480,
           480
          ],
          [
           "https://holtankoljak.hu/shell_budapest_xi_hetenyiutca3",
           479.9,
           479.9,
           479.9
          ],
          [
           "https://holtankoljak.hu/shell_dunafoldvar_eloszallasiut",
           479.9,
           479.9,
           479.9
          ],
          [
           "https://holtankoljak.hu/shell_budapest_ix_konyveskalmankrt18-20",
           479.9,
           479.9,
           479.9
          ],
          [
           "https://holtankoljak.hu/shell_szombathely_koszegiut",
           479.9,
           479.9,
           479.9
          ],
          [
           "https://holtankoljak.hu/shell_dunakeszi_2afoutnyugat",
           479.9,
           479.9,
           479.9
          ],
          [
           "https://holtankoljak.hu/shell_budapest_xx_martirokutja281",
           479.9,
           479.9,
           479.9
          ],
          [
           "https://holtankoljak.hu/shell_erd_iparosut42",
           479.9,
           479.9,
           479.9
          ],
          [
           "https://holtankoljak.hu/shell_erd_budafokiutca2-4",
           479.9,
           479.9,
           479.9
          ],
          [
           "https://holtankoljak.hu/shell_esztergom_matyaskiralyut37",
           480,
           480,
           480
          ],
          [
           "https://holtankoljak.hu/shell_ajka_fout66",
           479.9,
           null,
           479.9
          ],
          [
           "https://holtankoljak.hu/shell_nyiregyhaza_orosiut22",
           479.9,
           479.9,
           479.9
          ],
          [
           "https://holtankoljak.hu/shell_bekescsaba_berenyiut121",
           479.9,
           479.9,
           479.9
          ],
          [
           "https://holtankoljak.hu/shell_balatonboglar_klapkau32",
           479.9,
           479.9,
           479.9
          ],
          [
           "https://holtankoljak.hu/shell_veszprem_almadiu71",
           479.9,
           479.9,
           479.9
          ],
          [
           "https://holtankoljak.hu/shell_debrecen_boszormenyiut1",
           479.9,
           479.9,
           479.9
          ],
          [
           "https://holtankoljak.hu/shell_papa_celliut92",
           479.9,
           479.9,
           479.9
          ],
          [
           "https://holtankoljak.hu/shell_jaszbereny_sztistvankrt",
           479.9,
           479.9,
           479.9
          ],
          [
           "https://holtankoljak.hu/shell_karcag_kisujszallasiu34",
           479.9,
           null,
           479.9
          ],
          [
           "https://holtankoljak.hu/shell_budapest_iv_pozsonyiut1",
           479.9,
           479.9,
           479.9
          ],
          [
           "https://holtankoljak.hu/shell_oroshaza_vasarhelyiu23a",
           479.9,
           null,
           479.9
          ],
          [
           "https://holtankoljak.hu/shell_budapest_ii_szilagyiefasor125",
           479.9,
           479.9,
           479.9
          ],
          [
           "https://holtankoljak.hu/shell_ozd_brassoiut3",
           479.9,
           null,
           479.9
          ],
          [
           "https://holtankoljak.hu/shell_budapest_x_sibrikmiklosut30",
           479.9,
           479.9,
           479.9
          ],
          [
           "https://holtankoljak.hu/shell_sopron_iparkrt30",
           479.9,
           null,
           479.9
          ],
          [
           "https://holtankoljak.hu/shell_lajosmizse_m5lajosmizsekelet",
           479.9,
           479.9,
           479.9
          ],
          [
           "https://holtankoljak.hu/shell_szombathely_zanatiut70",
           479.9,
           null,
           479.9
          ],
          [
           "https://holtankoljak.hu/shell_budapest_iii_szentendreiut373",
           479.9,
           479.9,
           479.9
          ],
          [
           "https://holtankoljak.hu/shell_budapest_xxiii_ocsaiuhrsz1979695",
           479.9,
           479.9,
           479.9
          ],
          [
           "https://holtankoljak.hu/shell_balatonkeresztur_m7balatonkeresztur-eszak",
           479.9,
           479.9,
           479.9
          ],
          [
           "https://holtankoljak.hu/shell_szombathely_dolgozokutja",
           479.9,
           479.9,
           479.9
          ],
          [
           "https://holtankoljak.hu/shell_hodmezovasarhely_hodtou17-19",
           479.9,
           null,
           479.9
          ],
          [
           "https://holtankoljak.hu/shell_pecs_zsolnayvu41-43",
           479.9,
           479.9,
           479.9
          ],
          [
           "https://holtankoljak.hu/shell_budapest_iii_becsiut277a",
           479.9,
           479.9,
           479.9
          ],
          [
           "https://holtankoljak.hu/shell_mezokeresztes_m3gelejeszak",
           479.9,
           479.9,
           479.9
          ],
          [
           "https://holtankoljak.hu/shell_debrecen_balmazujvarosiut5",
           479.9,
           479.9,
           479.9
          ],
          [
           "https://holtankoljak.hu/shell_herend_8szfout",
           479.9,
           479.9,
           479.9
          ],
          [
           "https://holtankoljak.hu/shell_cegled_malomtoszelu13-23",
           479.9,
           479.9,
           479.9
          ],
          [
           "https://holtankoljak.hu/shell_mosonmagyarovar_szentistvankiralyut170",
           479.9,
           479.9,
           479.9
          ],
          [
           "https://holtankoljak.hu/shell_pecs_budaivam16szfoutmellett",
           479.9,
           null,
           479.9
          ],
          [
           "https://holtankoljak.hu/shell_nyiregyhaza_pazonyiut36",
           479.9,
           null,
           479.9
          ],
          [
           "https://holtankoljak.hu/shell_kaposvar_berzsenyiu",
           479.9,
           479.9,
           479.9
          ],
          [
           "https://holtankoljak.hu/shell_budapest_xi_balatoniut",
           480,
           480,
           480
          ],
          [
           "https://holtankoljak.hu/shell_hajduszoboszlo_kabaiutfele",
           479.9,
           null,
           479.9
          ],
          [
           "https://holtankoljak.hu/shell_budapest_ii_csaloganyu55",
           479.9,
           null,
           479.9
          ],
          [
           "https://holtankoljak.hu/shell_dunaujvaros_aranyjanosu1",
           479.9,
           479.9,
           479.9
          ],
          [
           "https://holtankoljak.hu/shell_szombathely_kiskaru6",
           479.9,
           479.9,
           479.9
          ],
          [
           "https://holtankoljak.hu/shell_kiskunfelegyhaza_szegediut",
           479.9,
           479.9,
           479.9
          ],
          [
           "https://holtankoljak.hu/shell_kiskunfelegyhaza_ixkorzet8b",
           479.9,
           null,
           479.9
          ],
          [
           "https://holtankoljak.hu/shell_budapest_xxii_nagytetenyiut27",
           479.9,
           479.9,
           479.9
          ],
          [
           "https://holtankoljak.hu/shell_komlo_kossuthlu54-56",
           479.9,
           null,
           479.9
          ],
          [
           "https://holtankoljak.hu/shell_szekesfehervar_aszalvolgyiut1",
           479.9,
           479.9,
           479.9
          ],
          [
           "https://holtankoljak.hu/shell_gyor_dombu2-4",
           480,
           480,
           480
          ],
          [
           "https://holtankoljak.hu/shell_miskolc_3szfout",
           479.9,
           479.9,
           479.9
          ],
          [
           "https://holtankoljak.hu/shell_budakeszi_szoloskertu1",
           479.9,
           479.9,
           479.9
          ],
          [
           "https://holtankoljak.hu/shell_budapest_i_alkotasu20-24",
           479.9,
           479.9,
           479.9
          ],
          [
           "https://holtankoljak.hu/shell_mosonmagyarovar_gabonarakpart10",
           479.9,
           479.9,
           479.9
          ],
          [
           "https://holtankoljak.hu/shell_budapest_xxi_csepelrakocziferencut182",
           479.9,
           479.9,
           479.9
          ],
          [
           "https://holtankoljak.hu/shell_budapest_xviii_cziffragyorgyutca",
           479.9,
           479.9,
           479.9
          ],
          [
           "https://holtankoljak.hu/shell_tata_ringu1m1autopalyalehajto",
           479.9,
           null,
           479.9
          ],
          [
           "https://holtankoljak.hu/shell_budapest_xiv_egressyut31-35",
           480,
           480,
           480
          ],
          [
           "https://holtankoljak.hu/shell_eger_rakocziut95",
           479.9,
           479.9,
           479.9
          ],
          [
           "https://holtankoljak.hu/shell_szeghalom_kinizsiu12-14",
           479.9,
           479.9,
           479.9
          ],
          [
           "https://holtankoljak.hu/shell_szigetszentmiklos_csepeliut19",
           479.9,
           479.9,
           479.9
          ],
          [
           "https://holtankoljak.hu/shell_zalaegerszeg_hockju100",
           479.9,
           479.9,
           479.9
          ],
          [
           "https://holtankoljak.hu/shell_kecskemet_kiskunfelegyhaziut",
           479.9,
           479.9,
           479.9
          ],
          [
           "https://holtankoljak.hu/shell_szeged_budapestiut8",
           479.9,
           479.9,
           479.9
          ],
          [
           "https://holtankoljak.hu/shell_debrecen_istvanutca124",
           479.9,
           479.9,
           479.9
          ],
          [
           "https://holtankoljak.hu/shell_dabas_pestiut23601hrsz",
           479.9,
           null,
           479.9
          ],
          [
           "https://holtankoljak.hu/shell_budapest_xiii_vaciut196",
           480,
           480,
           480
          ],
          [
           "https://holtankoljak.hu/shell_budapest_viii_kalvariater",
           479.9,
           null,
           479.9
          ],
          [
           "https://holtankoljak.hu/shell_vecses_4szfout",
           479.9,
           479.9,
           479.9
          ],
          [
           "https://holtankoljak.hu/shell_fot_szabadsagut10",
           480,
           480,
           480
          ],
          [
           "https://holtankoljak.hu/shell_szigetszentmiklos_m0szigetszentmiklos",
           479.9,
           479.9,
           479.9
          ],
          [
           "https://holtankoljak.hu/shell_budapest_xi_budafokiut209-215",
           479.9,
           479.9,
           479.9
          ],
          [
           "https://holtankoljak.hu/shell_tapolca_veszpremiut5",
           479.9,
           null,
           479.9
          ],
          [
           "https://holtankoljak.hu/shell_kisvarda_csillagu46",
           479.9,
           null,
           479.9
          ],
          [
           "https://holtankoljak.hu/shell_pecs_zsolnayu4",
           479.9,
           479.9,
           479.9
          ],
          [
           "https://holtankoljak.hu/shell_tiszafured_huszolesut132",
           479.9,
           479.9,
           479.9
          ],
          [
           "https://holtankoljak.hu/shell_kormend_rakocziut124",
           479.9,
           479.9,
           479.9
          ],
          [
           "https://holtankoljak.hu/shell_szeged_bajaiut2-4",
           479.9,
           479.9,
           479.9
          ],
          [
           "https://holtankoljak.hu/shell_oroszlany_kornyeiu3-5",
           479.9,
           null,
           479.9
          ],
          [
           "https://holtankoljak.hu/shell_torokszentmiklos_kossuthlajosu137",
           479.9,
           479.9,
           479.9
          ],
          [
           "https://holtankoljak.hu/shell_szekesfehervar_szekesfehervardelm7",
           479.9,
           479.9,
           479.9
          ],
          [
           "https://holtankoljak.hu/shell_budapest_xi_budaorsiut118",
           480,
           480,
           480
          ],
          [
           "https://holtankoljak.hu/shell_godollo_dozsagyut108",
           479.9,
           479.9,
           479.9
          ],
          [
           "https://holtankoljak.hu/shell_kisvarda_varosmajorut72",
           479.9,
           479.9,
           479.9
          ],
          [
           "https://holtankoljak.hu/shell_mezokeresztes_m3gelejdel",
           479.9,
           479.9,
           479.9
          ],
          [
           "https://holtankoljak.hu/shell_mohacs_ujvaros57szfout3403103hrsz",
           479.9,
           479.9,
           479.9
          ],
          [
           "https://holtankoljak.hu/shell_sumeg_84-esfout80km",
           479.9,
           479.9,
           479.9
          ],
          [
           "https://holtankoljak.hu/shell_miskolc_jozsefattilaut76",
           479.9,
           479.9,
           479.9
          ],
          [
           "https://holtankoljak.hu/shell_nyiregyhaza_koranyifrigyesutca14",
           479.9,
           null,
           479.9
          ],
          [
           "https://holtankoljak.hu/shell_lajosmizse_m5lajosmizsenyugat",
           479.9,
           479.9,
           479.9
          ],
          [
           "https://holtankoljak.hu/shell_sopron_lacknerku60",
           479.9,
           479.9,
           479.9
          ],
          [
           "https://holtankoljak.hu/shell_gyongyos_vasaru2",
           480,
           480,
           480
          ],
          [
           "https://holtankoljak.hu/shell_pecs_siklosiut66",
           479.9,
           479.9,
           479.9
          ],
          [
           "https://holtankoljak.hu/shell_szeged_szabadkaiut7",
           479.9,
           479.9,
           479.9
          ],
          [
           "https://holtankoljak.hu/shell_szajol_4szfout103km",
           479.9,
           479.9,
           479.9
          ],
          [
           "https://holtankoljak.hu/shell_sarvar_feketehidut-deakferencut",
           479.9,
           479.9,
           479.9
          ],
          [
           "https://holtankoljak.hu/shell_hatvan_biboistvanu1",
           479.9,
           null,
           479.9
          ],
          [
           "https://holtankoljak.hu/shell_siofok_vakbottyanu27",
           479.9,
           null,
           479.9
          ],
          [
           "https://holtankoljak.hu/shell_budapest_xiii_bekeut58",
           480,
           480,
           480
          ],
          [
           "https://holtankoljak.hu/shell_eger_tescoaruhazrakocziut100",
           479.9,
           null,
           479.9
          ],
          [
           "https://holtankoljak.hu/shell_mako_aradiu117",
           479.9,
           479.9,
           479.9
          ],
          [
           "https://holtankoljak.hu/shell_hatvan_radnotiter20",
           479.9,
           479.9,
           479.9
          ],
          [
           "https://holtankoljak.hu/shell_budapest_xv_m312kmeszak-szilaspiheno",
           479.9,
           479.9,
           479.9
          ],
          [
           "https://holtankoljak.hu/shell_budapest_xv_m312kmdel-szilaspiheno",
           479.9,
           479.9,
           479.9
          ],
          [
           "https://holtankoljak.hu/shell_miskolc_szentpeterikapu105",
           479.9,
           479.9,
           479.9
          ],
          [
           "https://holtankoljak.hu/shell_budapest_i_meszarosu56a",
           479.9,
           479.9,
           479.9
          ],
          [
           "https://holtankoljak.hu/shell_nagykanizsa_boszorkanyu2",
           479.9,
           null,
           479.9
          ],
          [
           "https://holtankoljak.hu/shell_gyongyos_pestiut74",
           480,
           480,
           480
          ],
          [
           "https://holtankoljak.hu/shell_budapest_xi_peterhegyiut54",
           479.9,
           479.9,
           479.9
          ],
          [
           "https://holtankoljak.hu/shell_torokbalint_parku1",
           479.9,
           479.9,
           479.9
          ],
          [
           "https://holtankoljak.hu/shell_solymar_rozsikau2",
           479.9,
           479.9,
           479.9
          ],
          [
           "https://holtankoljak.hu/shell_kiskunhalas_karpatu9",
           479.9,
           479.9,
           479.9
          ],
          [
           "https://holtankoljak.hu/shell_kecskemet_izsakiut4",
           479.9,
           479.9,
           479.9
          ],
          [
           "https://holtankoljak.hu/shell_budapest_xiv_kerepesiut42-46",
           480,
           480,
           480
          ],
          [
           "https://holtankoljak.hu/shell_budapest_vi_dozsagyorgyut120",
           479.9,
           479.9,
           479.9
          ],
          [
           "https://holtankoljak.hu/shell_rakamaz_tokajiut",
           479.9,
           479.9,
           479.9
          ],
          [
           "https://holtankoljak.hu/shell_szekesfehervar_olaju1",
           479.9,
           479.9,
           479.9
          ],
          [
           "https://holtankoljak.hu/shell_tatabanya_koztarsasagut1",
           479.9,
           479.9,
           479.9
          ],
          [
           "https://holtankoljak.hu/shell_tata_remetesegpusztadelm1",
           479.9,
           479.9,
           479.9
          ],
          [
           "https://holtankoljak.hu/shell_kecskemet_talfaja1",
           479.9,
           null,
           479.9
          ],
          [
           "https://holtankoljak.hu/shell_salgotarjan_furdout1",
           479.9,
           479.9,
           479.9
          ],
          [
           "https://holtankoljak.hu/shell_fehergyarmat_martirokutja38",
           480,
           null,
           480
          ],
          [
           "https://holtankoljak.hu/shell_budapest_iii_batthyanyut27",
           479.9,
           479.9,
           479.9
          ],
          [
           "https://holtankoljak.hu/shell_mezokovesd_egriut51",
           479.9,
           null,
           479.9
          ],
          [
           "https://holtankoljak.hu/shell_kazincbarcika_attilau10b",
           479.9,
           null,
           479.9
          ],
          [
           "https://holtankoljak.hu/shell_baja_dozsagyorgyut126-130",
           479.9,
           479.9,
           479.9
          ],
          [
           "https://holtankoljak.hu/shell_gyor_tompaut7",
           480,
           480,
           480
          ]
         ],
         "hovertemplate": "<b>%{hovertext}</b><br><br>brand=shell<br>size_for_plot=%{marker.size}<br>LAT=%{lat}<br>LON=%{lon}<br>link=%{customdata[0]}<br>Gázolaj=%{customdata[1]}<br>Prémium Gázolaj=%{customdata[2]}<br>95-ös Benzin E10=%{customdata[3]}<extra></extra>",
         "hovertext": [
          "Budapest XI, Tétényi út 2.",
          "Székesfehérvár, Balatoni út",
          "Pápa, Celli út 6.",
          "Mátészalka, Alkotmány út 1",
          "Budapest IX, Kén u. 1.",
          "Szigetszentmiklós, II. Rákóczi Ferenc út 12. ",
          "Budapest X, Kőbányai út 56.",
          "Budapest XVIII, Gyömrői út 156.",
          "Budapest XVII, Pesti út 237/c",
          "Székesfehérvár, Palotai út",
          "Budapest XVII, Pesti út 6.",
          "Makó, Aradi út 103.",
          "Kalocsa, Bátyai út 8-10.",
          "Győr, Szigethy Attila út 111.",
          "Szigetvár, József Attila u.",
          "Budapest XIV, Fogarasi út 183.",
          "Budapest XV, Szentmihályi út 152.",
          "Szentes, Vásárhelyi út 110",
          "Sülysáp, Pesti út 56.",
          "Százhalombatta, Damjanich u. 29.",
          "Monor, Vasadi u. 1.",
          "Szarvas, Csabai út 9.",
          "Dunakeszi, 2/A főút Kelet",
          "Várpalota, Fehérvári út 17.",
          "Dunakeszi, 2-es főút",
          "Székesfehérvár, Székesfehérvár észak M7",
          "Miskolc, Vologda út",
          "Kecskemét, Bethlen krt.57-61.",
          "Tata, Május 1. út",
          "Szeged, Algyői út",
          "Szolnok, Hunyadi út 2-4.",
          "Veszprém, Külső-Kádártai út 3.",
          "Ózd, Vas köz 1-2.",
          "Budapest XIII, Népfürdő u. 14.",
          "Hajdúböszörmény, Tessedik S. u. 2.",
          "Balatonkeresztúr, M7 Balatonkeresztúr - dél",
          "Keszthely, Csapás út 27.",
          "Szolnok, Téglagyári út 30.",
          "Tata, Remeteségpuszta észak M1",
          "Balatonfűred, Széchenyi út 11.",
          "Budapest XXIII, Haraszti út 38./b",
          "Nyíregyháza, Mező u. 28-40.",
          "Békés, Külterület 072/47. hrsz.",
          "Dombóvár, Juhász Gyula u. 1.",
          "Budaörs, Kinizsi út 1-3.",
          "Csorna, Soproni út 64.",
          "Budapest IX, Haller u. 56.",
          "Győr, Királyszéki u. 33.",
          "Zalaegerszeg, Balatoni út 2735/1 hrsz.",
          "Budapest XIX, Üllői út 233.",
          "Szekszárd, Palánki u. 2.",
          "Tatabánya, 1. főút 53. km",
          "Nagykanizsa, Balatoni út",
          "Tiszaújváros, Örösi út 1/A.",
          "Szolnok, Tószegi út 5/a.",
          "Baja, Dózsa Gy. út 13.",
          "Gyula, Csabai út 1.",
          "Budapest X, Kerepesi út 61.",
          "Budapest XIV, Füredi út 63.",
          "Budapest XI, Hetényi utca 3.",
          "Dunaföldvár, Előszállási út",
          "Budapest IX, Könyves Kálmán krt. 18-20",
          "Szombathely, Kőszegi út",
          "Dunakeszi, 2/A főút Nyugat",
          "Budapest XX, Mártírok útja 281.",
          "Érd, Iparos út 42.",
          "Érd, Budafoki utca 2-4.",
          "Esztergom, Mátyás Király út 37.",
          "Ajka, Fő út 66.",
          "Nyíregyháza, Orosi út 22.",
          "Békéscsaba, Berényi út 121.",
          "Balatonboglár, Klapka u. 32.",
          "Veszprém, Almádi u. 7/1.",
          "Debrecen, Böszörményi út 1.",
          "Pápa, Celli út 92.",
          "Jászberény, Szt. István krt.",
          "Karcag, Kisújszállási u. 34.",
          "Budapest IV, Pozsonyi út 1.",
          "Orosháza, Vásárhelyi u. 23/a",
          "Budapest II, Szilágyi E. fasor 125.",
          "Ózd, Brassói út 3.",
          "Budapest X, Sibrik Miklós út 30.",
          "Sopron, Ipar krt. 30.",
          "Lajosmizse, M5, Lajosmizse kelet",
          "Szombathely, Zanati út 70.",
          "Budapest III, Szentendrei út 373.",
          "Budapest XXIII, Ócsai u HRSZ 197969/5",
          "Balatonkeresztúr, M7 Balatonkeresztúr - észak",
          "Szombathely, Dolgozók útja",
          "Hódmezővásárhely, Hódtó u. 17-19.",
          "Pécs, Zsolnay V. u. 41-43",
          "Budapest III, Bécsi út 277. A",
          "Mezőkeresztes, M3 Gelej, ÉSZAK",
          "Debrecen, Balmazújvárosi út 5.",
          "Herend, 8. sz. Főút",
          "Cegléd, Malomtószél u. 13-23.",
          "Mosonmagyaróvár, Szent István király út 170.",
          "Pécs, Budai vám 1. (6.sz. főút mellett)",
          "Nyíregyháza, Pazonyi út 36.",
          "Kaposvár, Berzsenyi u.",
          "Budapest XI, Balatoni út",
          "Hajdúszoboszló, Kabai út felé",
          "Budapest II, Csalogány u. 55.",
          "Dunaújváros, Arany János u. 1.",
          "Szombathely, Kiskar u. 6.",
          "Kiskunfélegyháza, Szegedi út",
          "Kiskunfélegyháza, IX. körzet 8/B.",
          "Budapest XXII, Nagytétényi út 27.",
          "Komló, Kossuth L. u. 54-56.",
          "Székesfehérvár, Aszalvölgyi út 1.",
          "Győr, Domb u. 2-4.",
          "Miskolc, 3. sz. főút",
          "Budakeszi, Szőlőskert u. 1.",
          "Budapest I, Alkotás u. 20-24.",
          "Mosonmagyaróvár, Gabonarakpart 10.",
          "Budapest XXI, Csepel, Rákóczi Ferenc út 182.",
          "Budapest XVIII, Méta u. Cziffra György utca",
          "Tata, Ring u. 1. (M1 autópálya lehajtó)",
          "Budapest XIV, Egressy út 31-35.",
          "Eger, Rákóczi út 95.",
          "Szeghalom, Kinizsi u. 12-14.",
          "Szigetszentmiklós, Csepeli út 19.",
          "Zalaegerszeg, Hock J. u. 100",
          "Kecskemét, Kiskunfélegyházi út",
          "Szeged, Budapesti út 8.",
          "Debrecen, István utca 124.",
          "Dabas, Pesti út 2360/1 hrsz.",
          "Budapest XIII, Váci út 196.",
          "Budapest VIII, Kálvária tér",
          "Vecsés, 4. sz. főút",
          "Fót, Szabadság út 10.",
          "Szigetszentmiklós, M0 Szigetszentmiklós",
          "Budapest XI, Budafoki út 209-215.",
          "Tapolca, Veszprémi út 5.",
          "Kisvárda, Csillag u. 46.",
          "Pécs, Zsolnay u. 4.",
          "Tiszafüred, Húszöles út 132.",
          "Körmend, Rákóczi út 124.",
          "Szeged, Bajai út 2-4.",
          "Oroszlány, Környei u. 3-5.",
          "Törökszentmiklós, Kossuth Lajos u. 137.",
          "Székesfehérvár, Székesfehérvár dél M7",
          "Budapest XI, Budaörsi út 118.",
          "Gödöllő, Dózsa Gy. út 108.",
          "Kisvárda, Városmajor út 72.",
          "Mezőkeresztes, M3, Gelej DÉL",
          "Mohács, Újváros, 57. sz. főút (3403/103.hrsz)",
          "Sümeg, 84-es főút 80. km",
          "Miskolc, József Attila út 76.",
          "Nyíregyháza, Korányi Frigyes utca 14",
          "Lajosmizse, M5, Lajosmizse nyugat",
          "Sopron, Lackner K. u. 60",
          "Gyöngyös, Vásár u. 2.",
          "Pécs, Siklósi út 66.",
          "Szeged, Szabadkai út 7.",
          "Szajol, 4.sz. főút 103 km",
          "Sárvár, Feketehíd út- Deák Ferenc út",
          "Hatvan, Bibó István u. 1.",
          "Siófok, Vak Bottyán u. 27.",
          "Budapest XIII, Béke út 58.",
          "Eger, TESCO Áruház Rákóczi út 100.",
          "Makó, Aradi u. 117.",
          "Hatvan, Radnóti tér 20.",
          "Budapest XV, M3 12 km Észak - Szilas Pihenő",
          "Budapest XV, M3 12. km Dél - Szilas Pihenő",
          "Miskolc, Szentpéteri kapu 105.",
          "Budapest I, Mészáros u. 56/A.",
          "Nagykanizsa, Boszorkány u. 2.",
          "Gyöngyös, Pesti út 74",
          "Budapest XI, Péterhegyi út 54.",
          "Törökbálint, Park u. 1.",
          "Solymár, Rózsika u. 2.",
          "Kiskunhalas, Kárpát u. 9.",
          "Kecskemét, Izsáki út 4",
          "Budapest XIV, Kerepesi út 42-46.",
          "Budapest VI, Dózsa György út 120.",
          "Rakamaz, Tokaji út",
          "Székesfehérvár, Olaj u. 1.",
          "Tatabánya, Köztársaság út 1",
          "Tata, Remeteségpuszta dél M1",
          "Kecskemét, Talfája 1.",
          "Salgótarján, Fürdő út 1",
          "Fehérgyarmat, Mártírok útja 38.",
          "Budapest III, Batthyány út 27.",
          "Mezőkövesd, Egri út 51.",
          "Kazincbarcika, Attila u. 10/b.",
          "Baja, Dózsa György út 126-130.",
          "Győr, Tompa út 7."
         ],
         "lat": [
          47.47239304,
          47.18174362,
          47.32981873,
          47.95039749,
          47.45578384,
          47.36772919,
          47.48308182,
          47.46073532,
          47.47525787,
          47.19769669,
          47.48421478,
          46.21667099,
          46.52069473,
          47.67780304,
          46.04848862,
          47.51720428,
          47.54249573,
          46.63990021,
          47.44869614,
          47.31457901,
          47.34121323,
          46.85404205,
          47.65510559,
          47.2008934,
          47.62664032,
          47.17701721,
          48.10624695,
          46.91817856,
          47.64736938,
          46.28777313,
          47.17599106,
          47.10382462,
          48.2195816,
          47.52962494,
          47.66244888,
          46.68375397,
          46.7779007,
          47.17639923,
          47.61834335,
          46.94949722,
          47.3826828,
          47.9588356,
          46.7564888,
          46.38624954,
          47.45195007,
          47.61059189,
          47.47694016,
          47.65017319,
          46.84447861,
          47.46270752,
          46.3657608,
          47.57169342,
          46.4620285,
          47.9315567,
          47.16062164,
          46.18729401,
          46.64177322,
          47.50347519,
          47.51317978,
          47.44790268,
          46.81175232,
          47.47032928,
          47.25829315,
          47.65547562,
          47.42581558,
          47.41632843,
          47.37780762,
          47.78038406,
          47.1135788,
          47.95260239,
          46.69605255,
          46.76748276,
          47.08581924,
          47.53516769,
          47.32159042,
          47.49522018,
          47.30873871,
          47.55292511,
          46.54944992,
          47.51653671,
          48.17790985,
          47.46879196,
          47.67102432,
          47.04174042,
          47.24137497,
          47.5924263,
          47.38159943,
          46.68535233,
          47.24620819,
          46.41103745,
          46.07958221,
          47.55292892,
          47.84263992,
          47.54260254,
          47.12895203,
          47.18215942,
          47.85194778,
          46.0843811,
          47.97021866,
          46.35756302,
          47.4357605,
          47.43141174,
          47.5079422,
          46.97361755,
          47.22930527,
          46.70271683,
          46.69023895,
          47.41025162,
          46.19220734,
          47.20866013,
          47.6812439,
          48.10773849,
          47.50183487,
          47.49675369,
          47.82954788,
          47.4184227,
          47.43230057,
          47.62954712,
          47.50939941,
          47.92078018,
          47.01491547,
          47.36000443,
          46.85460663,
          46.8820343,
          46.27213287,
          47.51498032,
          47.19282532,
          47.55808258,
          47.48924637,
          47.41731644,
          47.6055336,
          47.38205338,
          47.45276642,
          46.8792038,
          48.2265892,
          46.07499313,
          47.60776901,
          47.00982285,
          46.25481796,
          47.49597549,
          47.17341614,
          47.17657852,
          47.46282196,
          47.60728073,
          48.23229599,
          47.84143066,
          45.99816895,
          46.98566437,
          48.10672379,
          47.96859741,
          47.04134369,
          47.69293213,
          47.7697258,
          46.05392075,
          46.24113846,
          47.16296387,
          47.25781631,
          47.67805481,
          46.89265823,
          47.53779984,
          47.92617035,
          46.21711349,
          47.66880035,
          47.56663132,
          47.56651306,
          48.1281395,
          47.49087143,
          46.46418762,
          47.7672081,
          47.45503235,
          47.45184326,
          47.58248901,
          46.43464279,
          46.89884186,
          47.5008812,
          47.51834869,
          48.1264801,
          47.19903946,
          47.58190155,
          47.61711502,
          46.92045975,
          48.1037674,
          47.98136902,
          47.59239197,
          47.80875397,
          48.25940704,
          46.19446182,
          47.69104767
         ],
         "legendgroup": "shell",
         "lon": [
          19.03424263,
          18.40678787,
          17.46032524,
          22.32520294,
          19.08690834,
          18.9953289,
          19.12534142,
          19.16974449,
          19.26725578,
          18.39645004,
          19.2280159,
          20.5011158,
          18.97913742,
          17.65472794,
          17.82353783,
          19.14349556,
          19.15010643,
          20.26883125,
          19.53187943,
          18.91377449,
          19.42637062,
          20.57350731,
          19.1599102,
          18.15192413,
          19.12625313,
          18.47616005,
          20.76876831,
          19.6883564,
          18.31314659,
          20.17287254,
          20.18168449,
          17.93186569,
          20.28739357,
          19.05765152,
          21.50494194,
          17.379282,
          17.26234627,
          20.16592026,
          18.34106064,
          17.88192368,
          19.10707474,
          21.7044735,
          21.12442398,
          18.14078903,
          18.96459198,
          17.24008179,
          19.08137703,
          17.62671661,
          16.86448669,
          19.13219452,
          18.7069397,
          18.42616463,
          17.00964355,
          21.02604866,
          20.17359161,
          18.95311165,
          21.26070976,
          19.14123344,
          19.15176773,
          19.00664902,
          18.89908791,
          19.08637238,
          16.61294937,
          19.15913773,
          19.14777565,
          18.88021088,
          18.93686867,
          18.74943542,
          17.54972649,
          21.74262047,
          21.07321548,
          17.65509224,
          17.9203434,
          21.61240387,
          17.44747543,
          19.92894173,
          20.91040611,
          19.09236717,
          20.64812851,
          18.99882507,
          20.25152206,
          19.15517807,
          16.61250496,
          19.56445122,
          16.65273666,
          19.05204201,
          19.12821007,
          17.38002205,
          16.57873154,
          20.3310051,
          18.25382423,
          19.02828598,
          20.74265862,
          21.59700394,
          17.75595474,
          19.799963,
          17.2813797,
          18.26892853,
          21.73748398,
          17.78434372,
          19.00625229,
          21.37214279,
          19.02801514,
          18.92815781,
          16.6176796,
          19.84969902,
          19.84962463,
          19.02181625,
          18.25832748,
          18.42460442,
          17.62841988,
          20.84321022,
          18.91927528,
          19.02403641,
          17.30905724,
          19.06344604,
          19.17525291,
          18.31225395,
          19.11088943,
          20.3689003,
          21.14986992,
          19.0477829,
          16.80612183,
          19.70536995,
          20.10250473,
          21.60593605,
          19.329216,
          19.0766449,
          19.08724403,
          19.25492096,
          19.19704819,
          19.05636787,
          19.05095482,
          17.45505524,
          22.08444214,
          18.24088669,
          20.76267433,
          16.58348656,
          20.10888672,
          18.3216362,
          20.37953949,
          18.4777813,
          18.98244476,
          19.3386097,
          22.06521988,
          20.74408913,
          18.66865158,
          17.28373718,
          20.82085228,
          21.72436142,
          19.56683922,
          16.58186913,
          19.91425323,
          18.23089981,
          20.12204552,
          20.24928284,
          16.93810654,
          19.66757202,
          18.05902863,
          19.08391762,
          20.36903954,
          20.50673103,
          19.67457962,
          19.14533997,
          19.14690781,
          20.78343964,
          19.03070831,
          17.01305771,
          19.91428947,
          19.01930046,
          18.90337753,
          18.93903923,
          19.48647499,
          19.67555046,
          19.11231613,
          19.07184601,
          21.45360565,
          18.41897011,
          18.39696312,
          18.34097862,
          19.6913662,
          19.80308914,
          22.5034008,
          19.05096626,
          20.55123138,
          20.61672783,
          18.95098114,
          17.65307426
         ],
         "marker": {
          "color": "#ab63fa",
          "size": [
           10,
           10,
           10,
           10,
           10,
           10,
           10,
           10,
           10,
           10,
           10,
           10,
           10,
           10,
           10,
           10,
           10,
           10,
           10,
           10,
           10,
           10,
           10,
           10,
           10,
           10,
           10,
           10,
           10,
           10,
           10,
           10,
           10,
           10,
           10,
           10,
           10,
           10,
           10,
           10,
           10,
           10,
           10,
           10,
           10,
           10,
           10,
           10,
           10,
           10,
           10,
           10,
           10,
           10,
           10,
           10,
           10,
           10,
           10,
           10,
           10,
           10,
           10,
           10,
           10,
           10,
           10,
           10,
           10,
           10,
           10,
           10,
           10,
           10,
           10,
           10,
           10,
           10,
           10,
           10,
           10,
           10,
           10,
           10,
           10,
           10,
           10,
           10,
           10,
           10,
           10,
           10,
           10,
           10,
           10,
           10,
           10,
           10,
           10,
           10,
           10,
           10,
           10,
           10,
           10,
           10,
           10,
           10,
           10,
           10,
           10,
           10,
           10,
           10,
           10,
           10,
           10,
           10,
           10,
           10,
           10,
           10,
           10,
           10,
           10,
           10,
           10,
           10,
           10,
           10,
           10,
           10,
           10,
           10,
           10,
           10,
           10,
           10,
           10,
           10,
           10,
           10,
           10,
           10,
           10,
           10,
           10,
           10,
           10,
           10,
           10,
           10,
           10,
           10,
           10,
           10,
           10,
           10,
           10,
           10,
           10,
           10,
           10,
           10,
           10,
           10,
           10,
           10,
           10,
           10,
           10,
           10,
           10,
           10,
           10,
           10,
           10,
           10,
           10,
           10,
           10,
           10,
           10,
           10,
           10,
           10,
           10,
           10
          ],
          "sizemode": "area",
          "sizeref": 0.4
         },
         "mode": "markers",
         "name": "shell",
         "showlegend": true,
         "subplot": "mapbox",
         "type": "scattermapbox"
        },
        {
         "customdata": [
          [
           "https://holtankoljak.hu/oil_fot_keletimartonutca7a",
           479,
           null,
           479
          ],
          [
           "https://holtankoljak.hu/oil_nagyigmand_jozsefau96512hrsz",
           479,
           null,
           479
          ],
          [
           "https://holtankoljak.hu/oil_level_jozsefattilautca1",
           480,
           null,
           480
          ],
          [
           "https://holtankoljak.hu/oil!_petohaza_petohaza269115ahrsz",
           479.9,
           516.9,
           479.9
          ],
          [
           "https://holtankoljak.hu/oil_mosonmagyarovar_kiralyhidaiut42",
           480,
           null,
           480
          ],
          [
           "https://holtankoljak.hu/oil!_morahalom_roszkeiut40",
           479.9,
           null,
           479.9
          ],
          [
           "https://holtankoljak.hu/oil!_maroslele_m43",
           479.9,
           null,
           479.9
          ],
          [
           "https://holtankoljak.hu/oil_fuzesabony_33fout01976hrsz",
           479.9,
           null,
           479.9
          ],
          [
           "https://holtankoljak.hu/oil_dunaujvaros_aranyvolgyiut6tescoparkolo",
           479.9,
           null,
           479.9
          ],
          [
           "https://holtankoljak.hu/oil_szekesfehervar_zamolyiuthrsz020226",
           480,
           null,
           480
          ],
          [
           "https://holtankoljak.hu/oil!_gyongyos_karacsondiut9",
           479.9,
           null,
           479.9
          ],
          [
           "https://holtankoljak.hu/oil!_hort_kossuthu198026hrsz",
           479.9,
           null,
           479.9
          ],
          [
           "https://holtankoljak.hu/oil_budapest_gyomroiut",
           480,
           480,
           480
          ],
          [
           "https://holtankoljak.hu/oil_halmaj_225hrsz",
           480,
           480,
           480
          ],
          [
           "https://holtankoljak.hu/oil_tet_gyoriu18455hrsz",
           479,
           null,
           479
          ],
          [
           "https://holtankoljak.hu/oil_ocsa_kissjanosut1",
           479.9,
           null,
           479.9
          ],
          [
           "https://holtankoljak.hu/oil_totkomlos_szechenyiutcahrsz10533",
           480,
           480,
           480
          ],
          [
           "https://holtankoljak.hu/oil_szalkszentmarton_kulterulethrsz068",
           479.9,
           null,
           479.9
          ],
          [
           "https://holtankoljak.hu/oil_gyor_regiveszpremiut4",
           479,
           null,
           479
          ],
          [
           "https://holtankoljak.hu/oil_zirc_allomasutca5",
           479,
           null,
           479
          ],
          [
           "https://holtankoljak.hu/oil_balassagyarmat_rakoczifejedelemut129",
           479.9,
           539.9,
           479.9
          ],
          [
           "https://holtankoljak.hu/oil_erdokertes_fout234",
           477,
           null,
           477.1
          ],
          [
           "https://holtankoljak.hu/oil_baja_janoshalmiut6",
           479.9,
           null,
           479.9
          ],
          [
           "https://holtankoljak.hu/oil_maglod_lisztferencutca6a",
           479.9,
           null,
           479.9
          ],
          [
           "https://holtankoljak.hu/oil_nagyvenyim_fout181",
           479.9,
           null,
           479.9
          ],
          [
           "https://holtankoljak.hu/oil!_szob_dozsagyorgyuthrsz17915",
           479.9,
           null,
           479.9
          ],
          [
           "https://holtankoljak.hu/oil!_babolna_acsut2",
           479,
           null,
           479
          ],
          [
           "https://holtankoljak.hu/oil_gyor_banaladaru3-adyvaros",
           479,
           null,
           479
          ],
          [
           "https://holtankoljak.hu/oil_almasfuzito_02016hrsz",
           479,
           null,
           479
          ],
          [
           "https://holtankoljak.hu/oil!_kiskunfelegyhaza_kiskunfelegyhaza_5szamufout108km",
           479.9,
           533.9,
           479.9
          ],
          [
           "https://holtankoljak.hu/oil_fertoszeplak_nagylajosutca87",
           479,
           null,
           479
          ],
          [
           "https://holtankoljak.hu/oil_bonyhad_kulterulet03227hrsz6szfout",
           null,
           null,
           null
          ],
          [
           "https://holtankoljak.hu/oil_mosonmagyarovar_janossomorjaiut1",
           480,
           null,
           null
          ],
          [
           "https://holtankoljak.hu/oil_szodliget_2-esfout27",
           480,
           480,
           480
          ],
          [
           "https://holtankoljak.hu/oil!_gyor_vasgerebenutca6",
           479,
           null,
           479
          ],
          [
           "https://holtankoljak.hu/oil!_szeged_fonogyariut18",
           479.9,
           null,
           479.9
          ],
          [
           "https://holtankoljak.hu/oil_taborfalva_kecskemetiut4a",
           479.9,
           null,
           479.9
          ],
          [
           "https://holtankoljak.hu/oil_dunavarsany_dunavarsany_nagyvarsanyiutca155",
           479.9,
           515.9,
           479.9
          ],
          [
           "https://holtankoljak.hu/oil_szigetszentmiklos_gyariut45",
           480,
           480,
           480
          ],
          [
           "https://holtankoljak.hu/oil!_szentes_alsoret258",
           479.9,
           null,
           479.9
          ],
          [
           "https://holtankoljak.hu/oil_berhida_1784hrsz",
           479.9,
           479.9,
           474.9
          ],
          [
           "https://holtankoljak.hu/oil_csorna_soproniut66k",
           479,
           null,
           479
          ],
          [
           "https://holtankoljak.hu/oil_gyula_csabaiut3",
           479.9,
           null,
           479.9
          ],
          [
           "https://holtankoljak.hu/oil_papa_kulsoveszpremiut75",
           479.9,
           null,
           479.9
          ],
          [
           "https://holtankoljak.hu/oil_soskut_iparipark",
           479.9,
           null,
           479.9
          ],
          [
           "https://holtankoljak.hu/oil_szeged_backbernatu6",
           479.9,
           null,
           479.9
          ]
         ],
         "hovertemplate": "<b>%{hovertext}</b><br><br>brand=oil!<br>size_for_plot=%{marker.size}<br>LAT=%{lat}<br>LON=%{lon}<br>link=%{customdata[0]}<br>Gázolaj=%{customdata[1]}<br>Prémium Gázolaj=%{customdata[2]}<br>95-ös Benzin E10=%{customdata[3]}<extra></extra>",
         "hovertext": [
          "Fót, Keleti Márton utca 7/a.",
          "Nagyigmánd, József A. u. 965/12 hrsz.",
          "Levél, József Attila utca 1.",
          "Petőháza, Petőháza 269/115/A hrsz",
          "Mosonmagyaróvár, Királyhidai út 42.",
          "Mórahalom, Röszkei út 40.",
          "Maroslele, M43",
          "Fűzesabony, 33. főút 0197/6 hrsz",
          "Dunaújváros, Aranyvölgyi út 6. TESCO parkoló",
          "Székesfehérvár, Zámolyi út hrsz. 02022/6",
          "Gyöngyös, Karácsondi út 9.",
          "Hort, Kossuth u. 198. 02/6 hrsz.",
          "Budapest X, Gyömrői út",
          "Halmaj, 22/5 hrsz",
          "Tét, Győri u 1845/5 hrsz.",
          "Ócsa, Kiss János út 1.",
          "Tótkomlós, Széchenyi utca hrsz. 1053/3",
          "Szalkszentmárton, Külterület hrsz. 06/8.",
          "Győr, Régi Veszprémi út 4.",
          "Zirc, Állomás utca 5.",
          "Balassagyarmat, Rákóczi fejedelem út 129.",
          "Erdőkertes, Fő út 234.",
          "Baja, Jánoshalmi út 6.",
          "Maglód, Liszt Ferenc utca 6/a",
          "Nagyvenyim, Fő út 18/1.",
          "Szob, Dózsa György út. hrsz. 179/15",
          "Bábolna, Ács út 2.",
          "Győr, Bán Aladár u. 3. - Adyváros",
          "Almásfüzitő, 020/16. hrsz.",
          "Kiskunfélegyháza, 5 számú főút 108 km",
          "Fertőszéplak, Nagy Lajos utca 87.",
          "Bonyhád, Külterület 032/27. hrsz. 6 sz. főút",
          "Mosonmagyaróvár, Jánossomorjai út 1.",
          "Sződliget, 2-es főút 27",
          "Győr, Vas Gereben utca 6. ",
          "Szeged, Fonógyári út 18.",
          "Táborfalva, Kecskeméti út 4/A",
          "Dunavarsány, Nagyvarsányi utca 155.",
          "Szigetszentmiklós, Gyári út 45.",
          "Szentes, Alsórét 258.",
          "Berhida, 1784 hrsz",
          "Csorna, Soproni út 66/k",
          "Gyula, Csabai út 3.",
          "Pápa, Külső Veszprémi út 75.",
          "Sóskút, Ipari Park",
          "Szeged, Back Bernát u. 6."
         ],
         "lat": [
          47.61461258,
          47.63635635,
          47.89214706,
          47.59171677,
          47.87712097,
          46.21017456,
          46.27946472,
          47.73498917,
          46.97753525,
          47.21469498,
          47.77246094,
          47.69068146,
          47.45320892,
          48.25120926,
          47.51230621,
          47.29088211,
          46.41641617,
          46.98587418,
          47.65834045,
          47.26598358,
          48.07956696,
          47.6698494,
          46.18396378,
          47.44011688,
          46.9563179,
          47.81600952,
          47.64759827,
          47.67631149,
          47.73285675,
          46.74493408,
          47.6181488,
          46.29481506,
          47.84950638,
          47.72107315,
          47.69228745,
          46.26278305,
          47.09810638,
          47.28476334,
          47.33507156,
          46.6659317,
          47.11280823,
          47.61022949,
          46.64278412,
          47.3027153,
          47.38771057,
          46.28483963
         ],
         "legendgroup": "oil!",
         "lon": [
          19.17534447,
          18.07013893,
          17.20255852,
          16.89447212,
          17.25664711,
          19.89244461,
          20.33712196,
          20.41205788,
          18.92433739,
          18.41044044,
          19.93927765,
          19.78959846,
          19.19683456,
          20.98015404,
          17.51461792,
          19.23033905,
          20.74588013,
          19.00812531,
          17.65457344,
          17.87767982,
          19.31300163,
          19.32892799,
          18.98426437,
          19.34791756,
          18.85127068,
          18.88167191,
          17.97747993,
          17.6599865,
          18.21011353,
          19.83305931,
          16.8488903,
          18.5387001,
          17.24459267,
          19.13810921,
          17.64221573,
          20.10910606,
          19.47154999,
          19.0515213,
          19.00399017,
          20.23382187,
          18.10448837,
          17.23925209,
          21.25830269,
          17.49612045,
          18.83896446,
          20.0871048
         ],
         "marker": {
          "color": "#FFA15A",
          "size": [
           10,
           10,
           10,
           10,
           10,
           10,
           10,
           10,
           10,
           10,
           10,
           10,
           10,
           10,
           10,
           10,
           10,
           10,
           10,
           10,
           10,
           10,
           10,
           10,
           10,
           10,
           10,
           10,
           10,
           10,
           10,
           10,
           10,
           10,
           10,
           10,
           10,
           10,
           10,
           10,
           10,
           10,
           10,
           10,
           10,
           10
          ],
          "sizemode": "area",
          "sizeref": 0.4
         },
         "mode": "markers",
         "name": "oil!",
         "showlegend": true,
         "subplot": "mapbox",
         "type": "scattermapbox"
        },
        {
         "customdata": [
          [
           "https://holtankoljak.hu/lukoil_erd_budafokiut6szfout",
           479.9,
           509.9,
           479.9
          ],
          [
           "https://holtankoljak.hu/lukoil_szentgotthard_8-asutszentgotthard035551hrszrabafuzes",
           479.9,
           null,
           479.9
          ],
          [
           "https://holtankoljak.hu/lukoil_budapest_ix_kvassayjenout3",
           479.9,
           509.9,
           479.9
          ],
          [
           "https://holtankoljak.hu/lukoil_zalaegerszeg_kaszahaziut96",
           479.9,
           509.9,
           479.9
          ],
          [
           "https://holtankoljak.hu/lukoil_szentendre_dozsagyut20",
           479.9,
           509.9,
           479.9
          ],
          [
           "https://holtankoljak.hu/lukoil_oroszlany_rakocziferencut1b",
           479.9,
           509.9,
           479.9
          ],
          [
           "https://holtankoljak.hu/lukoil_nagykanizsa_magyaru118",
           479.9,
           null,
           479.9
          ],
          [
           "https://holtankoljak.hu/lukoil_sarmellek_dozsagyut163a",
           479.9,
           null,
           479.9
          ],
          [
           "https://holtankoljak.hu/lukoil_oroshaza_aranyju19",
           479.9,
           null,
           479.9
          ],
          [
           "https://holtankoljak.hu/lukoil_budapest_x_gyomroiut56-62",
           479.9,
           509.9,
           479.9
          ],
          [
           "https://holtankoljak.hu/lukoil_tarnok_m7autopalya26kmeszak",
           479.9,
           509.9,
           479.9
          ],
          [
           "https://holtankoljak.hu/lukoil_enese_85-osfout4339hrsz",
           479.9,
           null,
           null
          ],
          [
           "https://holtankoljak.hu/lukoil_godollo_m3-asdel",
           479.9,
           509.9,
           479.9
          ],
          [
           "https://holtankoljak.hu/lukoil_godollo_m3-aseszak",
           479.9,
           509.9,
           479.9
          ],
          [
           "https://holtankoljak.hu/lukoil_budapest_xi_bartokbelaut105",
           479.9,
           509.9,
           479.9
          ],
          [
           "https://holtankoljak.hu/lukoil_salgotarjan_budapestiut34",
           479.9,
           509.9,
           479.9
          ],
          [
           "https://holtankoljak.hu/lukoil_budapest_ix_gyaliutm5ecseriut9",
           479.9,
           509.9,
           479.9
          ],
          [
           "https://holtankoljak.hu/lukoil_galambok_7-esfout196km0245hrsz",
           479.9,
           null,
           479.9
          ],
          [
           "https://holtankoljak.hu/lukoil_budapest_xvii_pestiut2",
           479.9,
           509.9,
           479.9
          ],
          [
           "https://holtankoljak.hu/lukoil_nyiregyhaza_kulterulet011992hrsz",
           479.9,
           null,
           479.9
          ],
          [
           "https://holtankoljak.hu/lukoil_mecseknadasd_kultelek10701hrsz",
           479.9,
           null,
           479.9
          ],
          [
           "https://holtankoljak.hu/lukoil_batonyterenye_ozdiut36a",
           479.9,
           null,
           479.9
          ],
          [
           "https://holtankoljak.hu/lukoil_balatonmariafurdo_7-esfout164km0541hrszbalatonkeresztur",
           479.9,
           null,
           479.9
          ],
          [
           "https://holtankoljak.hu/lukoil_nyergesujfalu_becsiut2",
           479.9,
           null,
           479.9
          ],
          [
           "https://holtankoljak.hu/lukoil_pecs_makay",
           479.9,
           509.9,
           479.9
          ],
          [
           "https://holtankoljak.hu/lukoil_per_fehervariut08614hrsz",
           479.9,
           null,
           479.9
          ],
          [
           "https://holtankoljak.hu/lukoil_mohacs_szolohegy7714hrsz",
           479.9,
           null,
           479.9
          ],
          [
           "https://holtankoljak.hu/lukoil_veszprem_martirokutja15",
           479.9,
           null,
           479.9
          ],
          [
           "https://holtankoljak.hu/lukoil_pusztamonostor_32-esfout",
           479.9,
           509.9,
           479.9
          ],
          [
           "https://holtankoljak.hu/lukoil_diosd_balatoniut11",
           479.9,
           509.9,
           479.9
          ],
          [
           "https://holtankoljak.hu/lukoil_szantod_7-esfout",
           479.9,
           null,
           479.9
          ],
          [
           "https://holtankoljak.hu/lukoil_balatonvilagos_71szfout",
           479.9,
           509.9,
           479.9
          ],
          [
           "https://holtankoljak.hu/lukoil_csem_13-asfout",
           479.9,
           509.9,
           479.9
          ],
          [
           "https://holtankoljak.hu/lukoil_soltvadkert_halasiut1",
           479.9,
           509.9,
           479.9
          ],
          [
           "https://holtankoljak.hu/lukoil_abda_becsiut186",
           479.9,
           509.9,
           479.9
          ],
          [
           "https://holtankoljak.hu/lukoil_budapest_xvii_esztenau1",
           479.9,
           509.9,
           479.9
          ],
          [
           "https://holtankoljak.hu/lukoil_gyongyos_3szf",
           479.9,
           509.9,
           479.9
          ],
          [
           "https://holtankoljak.hu/lukoil_keszthely_tapolcaiu106",
           479.9,
           509.9,
           479.9
          ],
          [
           "https://holtankoljak.hu/lukoil_eger_kistalyaiut18",
           479.9,
           509.9,
           479.9
          ],
          [
           "https://holtankoljak.hu/lukoil_pilisvorosvar_10szfout",
           479.9,
           509.9,
           479.9
          ],
          [
           "https://holtankoljak.hu/lukoil_siofok_torekiut1",
           479.9,
           null,
           479.9
          ],
          [
           "https://holtankoljak.hu/lukoil_nagylak_hataratkelohelyhrsz225",
           null,
           null,
           479.9
          ],
          [
           "https://holtankoljak.hu/lukoil_miskolc_szentpeterikapu78",
           479.9,
           509.9,
           479.9
          ],
          [
           "https://holtankoljak.hu/lukoil_poroszlo_33-asfout",
           479.9,
           509.9,
           479.9
          ],
          [
           "https://holtankoljak.hu/lukoil_bekescsaba_gyulaiut84",
           479.9,
           509.9,
           479.9
          ],
          [
           "https://holtankoljak.hu/lukoil_mezokovesd_kulterulet02694",
           479.9,
           509.9,
           479.9
          ],
          [
           "https://holtankoljak.hu/lukoil_pacsa_75-osfout",
           479.9,
           null,
           479.9
          ],
          [
           "https://holtankoljak.hu/lukoil_kecskemet_1295076hrszszolnokiut",
           479.9,
           null,
           479.9
          ],
          [
           "https://holtankoljak.hu/lukoil_bohonye_61-eses68-ascsomopont",
           479.9,
           null,
           479.9
          ],
          [
           "https://holtankoljak.hu/lukoil_zsambek_m1autopalyadel",
           479.9,
           509.9,
           479.9
          ],
          [
           "https://holtankoljak.hu/lukoil_tiszafoldvar_kunszentmartoniut1",
           479.9,
           null,
           479.9
          ],
          [
           "https://holtankoljak.hu/lukoil_budapest_viii_orczyut46-48",
           479.9,
           509.9,
           479.9
          ],
          [
           "https://holtankoljak.hu/lukoil_pecs_megyeri",
           479.9,
           509.9,
           479.9
          ],
          [
           "https://holtankoljak.hu/lukoil_balastya_oszeszek6",
           479.9,
           null,
           479.9
          ],
          [
           "https://holtankoljak.hu/lukoil_zsambek_m1autopalyaeszak",
           479.9,
           509.9,
           479.9
          ],
          [
           "https://holtankoljak.hu/lukoil_fulopszallas_harmaspuszta9",
           479.9,
           509.9,
           479.9
          ],
          [
           "https://holtankoljak.hu/lukoil_ullo_pestiut4szfout",
           479.9,
           509.9,
           479.9
          ],
          [
           "https://holtankoljak.hu/lukoil_apagy_41-esfoutbekeut55",
           null,
           null,
           null
          ],
          [
           "https://holtankoljak.hu/lukoil_dunakeszi_fout5152hrsz",
           479.9,
           null,
           479.9
          ],
          [
           "https://holtankoljak.hu/lukoil_bataszek_moziter",
           479.9,
           null,
           479.9
          ],
          [
           "https://holtankoljak.hu/lukoil_kecskemet_44-esfoutkuruczter",
           479.9,
           null,
           479.9
          ],
          [
           "https://holtankoljak.hu/lukoil_budapest_xi_hunyadijut",
           479.9,
           509.9,
           479.9
          ],
          [
           "https://holtankoljak.hu/lukoil_budapest_xvi_bokenyfoldiut108",
           479.9,
           null,
           479.9
          ],
          [
           "https://holtankoljak.hu/lukoil_szigetszentmiklos_csepeliut018880hrsz",
           479.9,
           509.9,
           479.9
          ],
          [
           "https://holtankoljak.hu/lukoil_jaszapati_31-esfout99km02806hrsz",
           479.9,
           null,
           479.9
          ],
          [
           "https://holtankoljak.hu/lukoil_dunakeszi_2szf",
           479.9,
           509.9,
           479.9
          ],
          [
           "https://holtankoljak.hu/lukoil_celldomolk_sagiut19227hrsz",
           479.9,
           null,
           479.9
          ],
          [
           "https://holtankoljak.hu/lukoil_dunafoldvar_6-osut84",
           479.9,
           509.9,
           479.9
          ],
          [
           "https://holtankoljak.hu/lukoil_tarnok_m7autopalya26kmdel",
           479.9,
           509.9,
           479.9
          ],
          [
           "https://holtankoljak.hu/lukoil_kistokaj_pestiu2",
           479.9,
           null,
           479.9
          ],
          [
           "https://holtankoljak.hu/lukoil_budapest_xiv_mogyorodiut22-32",
           479.9,
           null,
           479.9
          ],
          [
           "https://holtankoljak.hu/lukoil_bekesszentandras_44-esut68km",
           479.9,
           null,
           479.9
          ],
          [
           "https://holtankoljak.hu/lukoil_hodmezovasarhely_kutasiut61",
           479.9,
           509.9,
           479.9
          ],
          [
           "https://holtankoljak.hu/lukoil_debrecen_balmazujvarosiut",
           479.9,
           509.9,
           479.9
          ],
          [
           "https://holtankoljak.hu/lukoil_karcag_madarasiut48",
           479.9,
           509.9,
           479.9
          ],
          [
           "https://holtankoljak.hu/lukoil_tatabanya_gyoriut11006hrsz",
           479.9,
           509.9,
           479.9
          ],
          [
           "https://holtankoljak.hu/lukoil_kecskemet_44-esfout82419hrsz",
           479.9,
           509.9,
           479.9
          ],
          [
           "https://holtankoljak.hu/lukoil_szeged_algyoiut",
           479.9,
           509.9,
           479.9
          ],
          [
           "https://holtankoljak.hu/lukoil_nyirmihalydi_kulterulet0158hrsz",
           479.9,
           null,
           479.9
          ]
         ],
         "hovertemplate": "<b>%{hovertext}</b><br><br>brand=lukoil<br>size_for_plot=%{marker.size}<br>LAT=%{lat}<br>LON=%{lon}<br>link=%{customdata[0]}<br>Gázolaj=%{customdata[1]}<br>Prémium Gázolaj=%{customdata[2]}<br>95-ös Benzin E10=%{customdata[3]}<extra></extra>",
         "hovertext": [
          "Érd, Budafoki út (6.sz.főút)",
          "Szentgotthárd, 8-as út (Szentgotthárd 0355/51 hrsz) Rábafüzes",
          "Budapest IX, Kvassay Jenő út 3",
          "Zalaegerszeg, Kaszaházi út 96.",
          "Szentendre, Dózsa Gy. út 20.",
          "Oroszlány, Rákóczi Ferenc út 1/b",
          "Nagykanizsa, Magyar u. 118.",
          "Sármellék, Dózsa Gy.út 163/a",
          "Orosháza, Arany J. u. 19.",
          "Budapest X, Gyömrői út 56-62.",
          "Tárnok, M7 autópálya 26 km ÉSZAK",
          "Enese, 85-ös főút 433/9 hrsz",
          "Gödöllő, M3-as Dél",
          "Gödöllő, M3-as Észak",
          "Budapest XI, Bartók Béla út 105.",
          "Salgótarján, Budapesti út 34.",
          "Budapest IX, Gyáli út (M5), Ecseri út 9. ",
          "Galambok, 7-es főút 196km 024/5 hrsz",
          "Budapest XVII, Pesti út 2.",
          "Nyíregyháza, külterület 01199/2 hrsz.",
          "Mecseknádasd, Kültelek 1. 070/1hrsz",
          "Bátonyterenye, Ózdi út 36/a",
          "Balatonmáriafűrdő, 7-es főút 164.km 054/1 hrsz Balatonkeresztúr",
          "Nyergesújfalu, Bécsi út 2",
          "Pécs, Makay",
          "Pér, Fehérvári út 086/14 hrsz",
          "Mohács, Szőlőhegy 7714. hrsz.",
          "Veszprém, Mártírok útja 15.",
          "Pusztamonostor, 32-es Főút",
          "Diósd, Balatoni út 11.",
          "Szántód, 7-es főút",
          "Balatonvilágos, 71 sz. főút",
          "Csém, 13-as főút",
          "Soltvadkert, Halasi út 1.",
          "Abda, Bécsi út 186.",
          "Budapest XVII, Esztena u. 1.",
          "Gyöngyös, 3 sz.fõút",
          "Keszthely, Tapolcai u.106.",
          "Eger, Kistályai út 18.",
          "Pilisvörösvár, 10.sz.főút",
          "Siófok, Töreki út 1.",
          "Nagylak, határátkelőhely hrsz.22/5",
          "Miskolc, Szentpéteri kapu 78.",
          "Poroszló, 33-as Főút",
          "Békéscsaba, Gyulai út 84.",
          "Mezőkövesd, Külterület 0269/4",
          "Pacsa, 75-ös Főút",
          "Kecskemét, 12950/76 hrsz Szolnoki út",
          "Böhönye, 61-es és 68-as csomópont",
          "Zsámbék, M1 autópálya (Dél)",
          "Tiszaföldvár, Kunszentmártoni út 1.",
          "Budapest VIII, Orczy út 46-48.",
          "Pécs, Megyeri",
          "Balástya, Öszeszék 6.",
          "Zsámbék, M1 autópálya (Észak)",
          "Fűlöpszállás, Hármaspuszta 9.",
          "Üllő, Pesti út (4.sz. főút)",
          "Apagy, 41-es főút/Béke út 55",
          "Dunakeszi, Fő út 5152 hrsz.",
          "Bátaszék, Mozi tér",
          "Kecskemét, 44-es főút Kurucz tér",
          "Budapest XI, Hunyadi J. út",
          "Budapest XVI, Bökényföldi út 108.",
          "Szigetszentmiklós, Csepeli út 0188/80 hrsz",
          "Jászapáti, 31-es Főút 99 km. 0280/6hrsz",
          "Dunakeszi, 2 sz. fõút",
          "Celldömölk, Sági út 1922/7 hrsz",
          "Dunaföldvár, 6-os út 84",
          "Tárnok, M7 Autópálya 26 km DÉL",
          "Kistokaj, Pesti u. 2.",
          "Budapest XIV, Mogyoródi út 22-32.",
          "Békésszentandrás, 44-es út 68. km.",
          "Hódmezővásárhely, Kutasi út 61.",
          "Debrecen, Balmazújvárosi út",
          "Karcag, Madarasi út 48.",
          "Tatabánya, Győri út 11006 hrsz",
          "Kecskemét, 44-es Főút 8241/9 hrsz.",
          "Szeged, Algyői út",
          "Nyírmihálydi, Külterület 015/8 hrsz"
         ],
         "lat": [
          47.37895966,
          46.9777565,
          47.4651947,
          46.86212158,
          47.65017319,
          47.48506165,
          46.4666481,
          46.70817566,
          46.56702042,
          47.46959305,
          47.35685349,
          47.64678192,
          47.60609436,
          47.60773087,
          47.4730072,
          48.06938171,
          47.46803665,
          46.51007843,
          47.48535919,
          47.90192032,
          46.24093628,
          47.97956085,
          46.69593048,
          47.75647736,
          46.06502151,
          47.61795044,
          46.03014755,
          47.08314514,
          47.55895996,
          47.40348053,
          46.86149597,
          47.00727463,
          47.67895889,
          46.56523514,
          47.70410919,
          47.47332764,
          47.7746048,
          46.77289963,
          47.86907196,
          47.61503983,
          46.89302826,
          46.16799164,
          48.12646866,
          47.64469147,
          46.67678452,
          47.78829956,
          46.72319794,
          46.90920639,
          46.39881516,
          47.51042175,
          46.97444153,
          47.48867035,
          46.05614853,
          46.41551971,
          47.51121902,
          46.84307861,
          47.39060974,
          47.9569931,
          47.63734055,
          46.1868515,
          46.90247726,
          47.44134521,
          47.50177383,
          47.37056732,
          47.52392578,
          47.62761688,
          47.24383163,
          46.83424377,
          47.3571434,
          48.02707291,
          47.50579834,
          46.88002014,
          46.42753983,
          47.54541016,
          47.32256317,
          47.59840012,
          46.89178848,
          46.28917694,
          47.74716187
         ],
         "legendgroup": "lukoil",
         "lon": [
          18.93889618,
          16.29472923,
          19.07331085,
          16.85362053,
          19.07052612,
          18.31033707,
          16.98518944,
          17.17032051,
          20.67793655,
          19.14575386,
          18.80909538,
          17.43405914,
          19.29490089,
          19.29526138,
          19.03266144,
          19.7831707,
          19.10409355,
          17.12019157,
          19.22359657,
          21.71245956,
          18.47904396,
          19.82240486,
          17.36286736,
          18.53305817,
          18.18001175,
          17.80342484,
          18.67741203,
          17.91397095,
          19.78492928,
          18.94462967,
          17.90494156,
          18.17448235,
          18.09509087,
          19.408741,
          17.52956963,
          19.27343559,
          19.92738533,
          17.27168465,
          20.40473557,
          18.89746094,
          18.0012207,
          20.70604515,
          20.78502083,
          20.63637161,
          21.13265991,
          20.57847786,
          17.02194405,
          19.73218727,
          17.38305473,
          18.73534393,
          20.27566147,
          19.09259415,
          18.21113014,
          20.01722908,
          18.73645401,
          19.28379631,
          19.32299805,
          21.92389488,
          19.12918854,
          18.72184944,
          19.7046833,
          19.04592133,
          19.21645164,
          19.04806137,
          20.15825844,
          19.12616348,
          17.148983,
          18.90980721,
          18.81302071,
          20.81316757,
          19.11246109,
          20.47068977,
          20.3446064,
          21.57950783,
          20.91264153,
          18.38748932,
          19.7425518,
          20.17307472,
          21.98836517
         ],
         "marker": {
          "color": "#19d3f3",
          "size": [
           10,
           10,
           10,
           10,
           10,
           10,
           10,
           10,
           10,
           10,
           10,
           10,
           10,
           10,
           10,
           10,
           10,
           10,
           10,
           10,
           10,
           10,
           10,
           10,
           10,
           10,
           10,
           10,
           10,
           10,
           10,
           10,
           10,
           10,
           10,
           10,
           10,
           10,
           10,
           10,
           10,
           10,
           10,
           10,
           10,
           10,
           10,
           10,
           10,
           10,
           10,
           10,
           10,
           10,
           10,
           10,
           10,
           10,
           10,
           10,
           10,
           10,
           10,
           10,
           10,
           10,
           10,
           10,
           10,
           10,
           10,
           10,
           10,
           10,
           10,
           10,
           10,
           10,
           10
          ],
          "sizemode": "area",
          "sizeref": 0.4
         },
         "mode": "markers",
         "name": "lukoil",
         "showlegend": true,
         "subplot": "mapbox",
         "type": "scattermapbox"
        },
        {
         "customdata": [
          [
           "https://holtankoljak.hu/envi_budakalasz_luppa-szigetiut2metroparkolojaban",
           478,
           null,
           478
          ],
          [
           "https://holtankoljak.hu/envi_szombathely_11-eshuszaru210metroparkolojaban",
           478,
           null,
           478
          ],
          [
           "https://holtankoljak.hu/envi_kaposvar_furediut99praktikerparkoloja",
           478,
           null,
           478
          ],
          [
           "https://holtankoljak.hu/envi_szekesfehervar_jezsuitau1metroparkolojaban",
           478,
           null,
           478
          ],
          [
           "https://holtankoljak.hu/envi_szeged_budapestiut1szfeltaroutmetroparkolojaban",
           478,
           null,
           478
          ],
          [
           "https://holtankoljak.hu/envi_budaors_budaparkkeleti3metroparkolojaban",
           478,
           null,
           478
          ],
          [
           "https://holtankoljak.hu/envi_gyor_merfoldkoutca11",
           478,
           null,
           478
          ],
          [
           "https://holtankoljak.hu/envi_kecskemet_urret236metroparkolojaban",
           478,
           null,
           478
          ],
          [
           "https://holtankoljak.hu/envi_budapest_varoskapuu9metroparkolojaban",
           478,
           null,
           478
          ],
          [
           "https://holtankoljak.hu/envi_nyiregyhaza_debreceniutmetroparkolojaban",
           478,
           null,
           478
          ],
          [
           "https://holtankoljak.hu/envi_dunaharaszti_nemediut69",
           478,
           null,
           478
          ],
          [
           "https://holtankoljak.hu/envi_budapest_szentmihalyiut167-169",
           478,
           null,
           478
          ],
          [
           "https://holtankoljak.hu/envi_debrecen_balmazujvarosiutmetroparkolojaban",
           478,
           null,
           478
          ],
          [
           "https://holtankoljak.hu/envi_miskolc_mesztelepu",
           478,
           null,
           478
          ],
          [
           "https://holtankoljak.hu/envi_budapest_gyaliut35-37",
           478,
           null,
           478
          ],
          [
           "https://holtankoljak.hu/envi_budapest_maglodiut17",
           478,
           null,
           478
          ],
          [
           "https://holtankoljak.hu/envi_szeged_szabadkaiut7napfenybevasarlokozponttescoparkolo",
           478,
           null,
           478
          ],
          [
           "https://holtankoljak.hu/envi_miskolc_jozsefautmetroparkolojaban",
           478,
           null,
           478
          ],
          [
           "https://holtankoljak.hu/envi_muraszemenye_kajaspiheno",
           478,
           null,
           478
          ],
          [
           "https://holtankoljak.hu/envi_tokol_herminau1-3airportcenter",
           478,
           null,
           478
          ],
          [
           "https://holtankoljak.hu/envi_dunaujvaros_parkcenter2",
           478,
           null,
           478
          ]
         ],
         "hovertemplate": "<b>%{hovertext}</b><br><br>brand=envi<br>size_for_plot=%{marker.size}<br>LAT=%{lat}<br>LON=%{lon}<br>link=%{customdata[0]}<br>Gázolaj=%{customdata[1]}<br>Prémium Gázolaj=%{customdata[2]}<br>95-ös Benzin E10=%{customdata[3]}<extra></extra>",
         "hovertext": [
          "Budakalász, Luppa-szigeti út 2. (Metro parkolójában)",
          "Szombathely, 11-es Huszár u. 210.(Metro parkolójában)",
          "Kaposvár, Füredi út 99. (Praktiker parkolója)",
          "Székesfehérvár, Jezsuita u. 1. (Metro parkolójában)",
          "Szeged, Budapesti út 1. Sz. Feltáró út (Metro parkolójában)",
          "Budaörs, Budapark Keleti 3. (Metro parkolójában)",
          "Győr, Mérföldkő utca 11.",
          "Kecskemét, Úrrét 236. (Metro parkolójában)",
          "Budapest XV, Városkapu u. 9. (Metro parkolójában)",
          "Nyíregyháza, Debreceni út (Metro parkolójában)",
          "Dunaharaszti, Némedi út 69.",
          "Budapest XV, Szentmihályi út 167-169",
          "Debrecen, Balmazújvárosi út (Metro parkolójában)",
          "Miskolc, Mésztelep u.",
          "Budapest IX, Gyáli út 35-37",
          "Budapest X, Maglódi út 17.",
          "Szeged, Szabadkai út 7. Napfény Bevásárló Központ Tesco Parkoló",
          "Miskolc, József A. út (Metro parkolójában)",
          "Muraszemenye, Kajáspihenő",
          "Tököl, Hermina u. 1-3. Airport Center",
          "Dunaújváros, Park Center 2."
         ],
         "lat": [
          47.61899567,
          47.2551651,
          46.37901306,
          47.21503067,
          46.27274704,
          47.45792007,
          47.64269257,
          46.93914032,
          47.56377411,
          47.91778564,
          47.3440094,
          47.54750061,
          47.54668808,
          48.07395172,
          47.45973587,
          47.48693466,
          46.24320984,
          48.10493469,
          46.47618866,
          47.33913422,
          46.9612999
         ],
         "legendgroup": "envi",
         "lon": [
          19.06868744,
          16.61584854,
          17.78033829,
          18.41285706,
          20.10601425,
          18.89985275,
          17.61370087,
          19.70908165,
          19.14518738,
          21.71818161,
          19.11675262,
          19.14717102,
          21.57775688,
          20.77970314,
          19.10874176,
          19.15266037,
          20.12311554,
          20.83096886,
          16.65075874,
          18.99679184,
          18.90631866
         ],
         "marker": {
          "color": "#FF6692",
          "size": [
           10,
           10,
           10,
           10,
           10,
           10,
           10,
           10,
           10,
           10,
           10,
           10,
           10,
           10,
           10,
           10,
           10,
           10,
           10,
           10,
           10
          ],
          "sizemode": "area",
          "sizeref": 0.4
         },
         "mode": "markers",
         "name": "envi",
         "showlegend": true,
         "subplot": "mapbox",
         "type": "scattermapbox"
        },
        {
         "customdata": [
          [
           "https://holtankoljak.hu/mobil-petrol_geresdlak_hunyadijanosutca",
           479.9,
           null,
           479.9
          ],
          [
           "https://holtankoljak.hu/mobil_petrol_miskolc_gyorikapu-vologdausarok",
           479.9,
           479.9,
           479.9
          ],
          [
           "https://holtankoljak.hu/mobil-petrol_dunavecse_fout120510szamufout",
           479.9,
           479.9,
           479.9
          ],
          [
           "https://holtankoljak.hu/mobil-petrol_gyor_szigethya-tancsicsmusarok",
           479.9,
           null,
           479.9
          ],
          [
           "https://holtankoljak.hu/mobil_petrol_dunafoldvar_vakbottyanter15",
           479.9,
           539.9,
           479.9
          ],
          [
           "https://holtankoljak.hu/mobil_petrol_hodmezovasarhely_kopancs47-esszamufout",
           479.9,
           479.9,
           479.9
          ],
          [
           "https://holtankoljak.hu/mobil_petrol_lajosmizse_dozsagyorgyu255",
           479.9,
           479.9,
           479.9
          ],
          [
           "https://holtankoljak.hu/mobil_gaz_zalakomar_tavaszutca32",
           null,
           null,
           null
          ],
          [
           "https://holtankoljak.hu/mobil_petrol_keszthely_csapasut5",
           479.9,
           479.9,
           479.9
          ],
          [
           "https://holtankoljak.hu/mobil-petrol_kalmanhaza_m3apkalmanhazajobboldal",
           479.9,
           479.9,
           479.9
          ],
          [
           "https://holtankoljak.hu/mobil-petrol_gyal_m5gyal-alsonemedilehajto",
           479.9,
           479.9,
           479.9
          ],
          [
           "https://holtankoljak.hu/mobil_gaz_keszthely_varvolgyiut",
           479.9,
           507,
           479.9
          ],
          [
           "https://holtankoljak.hu/mobil-petrol_erd_erikau1",
           479.9,
           479.9,
           479.9
          ],
          [
           "https://holtankoljak.hu/mobil_petrol_szentgotthard_kulterulet8szamufout",
           479.9,
           479.9,
           479.9
          ],
          [
           "https://holtankoljak.hu/mobil_petrol_alsopahok_heviziut14",
           479.9,
           479.9,
           479.9
          ],
          [
           "https://holtankoljak.hu/mobil-petrol_hajduboszormeny_m35autopalya31kmszelvenybaloldal",
           479.9,
           479.9,
           479.9
          ],
          [
           "https://holtankoljak.hu/mobil_petrol_keszthely_heviziut",
           479.9,
           479.9,
           479.9
          ],
          [
           "https://holtankoljak.hu/mobil_petrol_budapest_x_jaszberenyiut53",
           479.9,
           479.9,
           479.9
          ],
          [
           "https://holtankoljak.hu/mobil-petrol_gyongyos_budapestiut3szamufout",
           479.9,
           479.9,
           479.9
          ],
          [
           "https://holtankoljak.hu/mobil-petrol_balatonfured_furdou20",
           479.9,
           null,
           479.9
          ],
          [
           "https://holtankoljak.hu/mobil-petrol_batmonostor_baracskaiutca5751szamufout",
           479.9,
           null,
           479.9
          ],
          [
           "https://holtankoljak.hu/mobil_petrol_toszeg_varkonyiu1",
           479.9,
           null,
           479.9
          ],
          [
           "https://holtankoljak.hu/mobil_petrol_kaposvar_arpadut33-35",
           479.9,
           479.9,
           479.9
          ],
          [
           "https://holtankoljak.hu/mobil-petrol_gyor_csipkegyariutca1",
           479.9,
           479.9,
           479.9
          ],
          [
           "https://holtankoljak.hu/mobil-petrol_ajka_fout",
           479.9,
           479.9,
           479.9
          ],
          [
           "https://holtankoljak.hu/mobil_petrol_kozarmisleny_57-eses578-asfoutkorforgalmaban",
           479.9,
           479.9,
           479.9
          ],
          [
           "https://holtankoljak.hu/mobil-petrol_petofiszallas_m5ap122kmbaloldal",
           479.9,
           479.9,
           479.9
          ],
          [
           "https://holtankoljak.hu/mobil-petrol_petofiszallas_m5ap122kmjobboldal",
           479.9,
           479.9,
           479.9
          ],
          [
           "https://holtankoljak.hu/mobil-petrol_paks_m6ap107kmbaloldal",
           479.9,
           479.9,
           479.9
          ],
          [
           "https://holtankoljak.hu/mobil_petrol_szentes_attilaut4attilaut-ipartelepiutkorf",
           479.9,
           479.9,
           479.9
          ],
          [
           "https://holtankoljak.hu/mobil-petrol_paks_m6ap107kmjobboldal",
           479.9,
           479.9,
           479.9
          ],
          [
           "https://holtankoljak.hu/mobil_petrol_hodmezovasarhely_szantokovacsjanosutca151",
           479.9,
           479.9,
           479.9
          ],
          [
           "https://holtankoljak.hu/mobil-petrol_aszar_gyoriut42sz",
           479.9,
           null,
           479.9
          ],
          [
           "https://holtankoljak.hu/mobil-petrol_baja_kulterulet0402355hrsz",
           479.9,
           479.9,
           479.9
          ],
          [
           "https://holtankoljak.hu/mobil-petrol_hajduboszormeny_m35autopalya31kmszelvenyjobboldal",
           479.9,
           479.9,
           479.9
          ],
          [
           "https://holtankoljak.hu/mobil_petrol_nagykanizsa_7foutes74szfoutkorforgalom",
           479.9,
           479.9,
           479.9
          ],
          [
           "https://holtankoljak.hu/mobil_petrol_budapest_xix_citroenutca2",
           479.9,
           479.9,
           479.9
          ],
          [
           "https://holtankoljak.hu/mobil-petrol_kalmanhaza_m3apkalmanhazabaloldal",
           479.9,
           479.9,
           479.9
          ],
          [
           "https://holtankoljak.hu/mobil_petrol_miskolc_jozsefattilaut47",
           479.9,
           479.9,
           479.9
          ],
          [
           "https://holtankoljak.hu/mobil-petrol_bekescsaba_gyarutca1",
           479.9,
           479.9,
           479.9
          ],
          [
           "https://holtankoljak.hu/mobil_petrol_tompa_hunyadiut12753szamufout",
           479.9,
           null,
           479.9
          ],
          [
           "https://holtankoljak.hu/mobil-petrol_balatonvilagos_hrsz054256",
           479.9,
           479.9,
           479.9
          ],
          [
           "https://holtankoljak.hu/mobil_petrol_vac_szentlaszlout32tescokorforgalom",
           479.9,
           479.9,
           479.9
          ],
          [
           "https://holtankoljak.hu/mobil_petrol_nagykoros_kecskemetiut30107",
           479.9,
           479.9,
           479.9
          ],
          [
           "https://holtankoljak.hu/mobil_petrol_polgar_m3autopalyacsomopont",
           479.9,
           479.9,
           479.9
          ],
          [
           "https://holtankoljak.hu/mobil_petrol_kecskemet_hrsz0674200repuloscsomopont",
           479.9,
           479.9,
           479.9
          ],
          [
           "https://holtankoljak.hu/mobil-petrol_budapest_x_sibrik-gyomroisarok",
           479.9,
           479.9,
           479.9
          ],
          [
           "https://holtankoljak.hu/mobil_petrol_hedervar_foutca",
           479.9,
           null,
           479.9
          ],
          [
           "https://holtankoljak.hu/mobil_petrol_nyul_kossuthlajosut82szfout",
           479.9,
           479.9,
           479.9
          ],
          [
           "https://holtankoljak.hu/mobil-petrol_bag_m3autopalya39kmlehajtoiparipark2191",
           479.9,
           479.9,
           479.9
          ]
         ],
         "hovertemplate": "<b>%{hovertext}</b><br><br>brand=mobil-petrol<br>size_for_plot=%{marker.size}<br>LAT=%{lat}<br>LON=%{lon}<br>link=%{customdata[0]}<br>Gázolaj=%{customdata[1]}<br>Prémium Gázolaj=%{customdata[2]}<br>95-ös Benzin E10=%{customdata[3]}<extra></extra>",
         "hovertext": [
          "Geresdlak, Hunyadi János utca",
          "Miskolc, Győri kapu - Vologda u. sarok",
          "Dunavecse, Fő út 120. 510 számú fő út",
          "Győr, Szigethy A-Táncsics M u. sarok",
          "Dunaföldvár, Vak Bottyán tér 15.",
          "Hódmezővásárhely, Kopáncs 47-es számú főút",
          "Lajosmizse, Dózsa György u. 255",
          "Zalakomár, Tavasz utca 32",
          "Keszthely, Csapás út 5.",
          "Kálmánháza, M3 ap. Kálmánháza JOBB OLDAL",
          "Gyál, M5 Gyál-Alsónémedi lehajtó",
          "Keszthely, Várvölgyi út",
          "Érd, Erika u. 1.",
          "Szentgotthárd, külterület 8. számú főút",
          "Alsópáhok, Hévizi út 14.",
          "Hajdúböszörmény, M35 autópálya 31. km szelvény BAL oldal",
          "Keszthely, Hévizi út",
          "Budapest X, Jászberényi út 53.",
          "Gyöngyös, Budapesti út 3. számú főút",
          "Balatonfűred, Fürdő u. 20.",
          "Bátmonostor, Baracskai utca 57. 51. számú főút",
          "Tószeg, Várkonyi u. 1.",
          "Kaposvár, Árpád út 33-35.",
          "Győr, Csipkegyári utca 1",
          "Ajka, Fő út",
          "Kozármisleny, 57-es és 578-as főút körforgalmában",
          "Petőfiszállás, M5 ap. 122 km BAL OLDAL",
          "Petőfiszállás, M5 ap. 122 km JOBB OLDAL",
          "Paks, M6 ap. 107 km BAL OLDAL",
          "Szentes, Attila út 4. (Attila út - Ipartelepi út körf.)",
          "Paks, M6 ap. 107 km JOBB OLDAL",
          "Hódmezővásárhely, Szántó Kovács János utca 151.",
          "Ászár, Győri út 42.sz.",
          "Baja, külterület 0402/355 hrsz.",
          "Hajdúböszörmény, M35 autópálya 31. km szelvény JOBB oldal",
          "Nagykanizsa, 7. főút és 74. sz. főút körforgalom",
          "Budapest XIX, Citroen utca 2. ",
          "Kálmánháza, M3 ap. Kálmánháza BAL OLDAL",
          "Miskolc, József Attila út 47.",
          "Békéscsaba, Gyár utca 1.",
          "Tompa, Hunyadi út 127. 53. számú főút",
          "Balatonvilágos, hrsz 054/256.",
          "Vác, Szent László út 32. (Tesco Körforgalom)",
          "Nagykőrös, Kecskeméti út 3010/7",
          "Polgár, M3 autópálya csomópont",
          "Kecskemét, Hrsz 0674/200 Repülős csomópont",
          "Budapest X, Sibrik-Gyömrői sarok",
          "Hédervár, Fő utca",
          "Nyúl, Kossuth Lajos út (82. sz. főút)",
          "Bag, M3 autópálya 39. km lehajtó (Ipari Park) 2191"
         ],
         "lat": [
          46.10793304,
          48.10436249,
          46.90387344,
          47.67439651,
          46.80551147,
          46.38151932,
          47.01651382,
          46.53200912,
          46.77681732,
          47.90055084,
          47.35828018,
          46.78701401,
          47.37850189,
          46.98294449,
          46.77628326,
          47.61045837,
          46.78388214,
          47.48648453,
          47.76708221,
          46.95624161,
          46.09436035,
          47.09339523,
          46.36565399,
          47.67679977,
          47.11832809,
          46.05450439,
          46.60837173,
          46.60850143,
          46.64280701,
          46.65603638,
          46.64670563,
          46.4337883,
          47.51300049,
          46.19632339,
          47.61087036,
          46.46603394,
          47.4367981,
          47.90144348,
          48.10623169,
          46.66350174,
          46.22771072,
          46.97128677,
          47.7564888,
          47.02111816,
          47.84555435,
          46.90422058,
          47.46629715,
          47.83145523,
          47.5954895,
          47.63703537
         ],
         "legendgroup": "mobil-petrol",
         "lon": [
          18.51904869,
          20.75694847,
          18.97418976,
          17.63819695,
          18.9289093,
          20.25518417,
          19.5730648,
          17.1849308,
          17.25402069,
          21.55876541,
          19.20088005,
          17.25618362,
          18.9340992,
          16.28791618,
          17.17487526,
          21.52127266,
          17.21762848,
          19.1848793,
          19.91279793,
          17.87201881,
          18.92606544,
          20.15284348,
          17.80910301,
          17.61450005,
          17.54549408,
          18.27653694,
          19.84129524,
          19.8387413,
          18.817276,
          20.28007507,
          18.81469154,
          20.31837654,
          17.99799919,
          18.97472572,
          21.51948357,
          16.96852493,
          19.14382935,
          21.55996704,
          20.81141663,
          21.07905579,
          19.53583145,
          18.20495033,
          19.14168549,
          19.77628517,
          21.142313,
          19.74746513,
          19.15441322,
          17.47001648,
          17.6876049,
          19.47216034
         ],
         "marker": {
          "color": "#B6E880",
          "size": [
           10,
           10,
           10,
           10,
           10,
           10,
           10,
           10,
           10,
           10,
           10,
           10,
           10,
           10,
           10,
           10,
           10,
           10,
           10,
           10,
           10,
           10,
           10,
           10,
           10,
           10,
           10,
           10,
           10,
           10,
           10,
           10,
           10,
           10,
           10,
           10,
           10,
           10,
           10,
           10,
           10,
           10,
           10,
           10,
           10,
           10,
           10,
           10,
           10,
           10
          ],
          "sizemode": "area",
          "sizeref": 0.4
         },
         "mode": "markers",
         "name": "mobil-petrol",
         "showlegend": true,
         "subplot": "mapbox",
         "type": "scattermapbox"
        },
        {
         "customdata": [
          [
           "https://holtankoljak.hu/auchan_debrecen_kishataru7",
           480,
           525,
           477
          ],
          [
           "https://holtankoljak.hu/auchan_fot_feherkou1",
           477,
           513,
           477
          ],
          [
           "https://holtankoljak.hu/auchan_csomor_hatarut6",
           477,
           480,
           477
          ],
          [
           "https://holtankoljak.hu/auchan_miskolc_jozsefattilautca87",
           477,
           480,
           477
          ],
          [
           "https://holtankoljak.hu/auchan_szeged_zaporut4",
           477,
           480,
           477
          ],
          [
           "https://holtankoljak.hu/auchan_solymar_szentflorianu2-4",
           477,
           480,
           477
          ],
          [
           "https://holtankoljak.hu/auchan_budaors_sportu2-4",
           477,
           480,
           477
          ],
          [
           "https://holtankoljak.hu/auchan_dunakeszi_nadasu6",
           477,
           480,
           477
          ],
          [
           "https://holtankoljak.hu/auchan_kecskemet_dunafoldvariut2",
           477,
           null,
           477
          ],
          [
           "https://holtankoljak.hu/auchan_torokbalint_torbagyu1",
           477,
           480,
           477
          ],
          [
           "https://holtankoljak.hu/auchan_budakalasz_omszkpark1",
           477,
           525,
           477
          ],
          [
           "https://holtankoljak.hu/auchan_miskolc_pestiut9",
           477,
           480,
           477
          ],
          [
           "https://holtankoljak.hu/auchan_budapest_xi_hunyadijanosu19savoyapark",
           477,
           null,
           477
          ],
          [
           "https://holtankoljak.hu/auchan_budapest_xxiii_bevasarlou2soroksar",
           477,
           480,
           477
          ],
          [
           "https://holtankoljak.hu/auchan_budapest_xxi_rakocziferencut277szigetszentmiklos",
           477,
           null,
           477
          ],
          [
           "https://holtankoljak.hu/auchan_maglod_eszterhazyjanosu1",
           477,
           480,
           477
          ],
          [
           "https://holtankoljak.hu/auchan_szolnok_felsoszandairet1",
           477,
           480,
           477
          ],
          [
           "https://holtankoljak.hu/auchan_szekesfehervar_hollandfasor2",
           477,
           480,
           477
          ]
         ],
         "hovertemplate": "<b>%{hovertext}</b><br><br>brand=auchan<br>size_for_plot=%{marker.size}<br>LAT=%{lat}<br>LON=%{lon}<br>link=%{customdata[0]}<br>Gázolaj=%{customdata[1]}<br>Prémium Gázolaj=%{customdata[2]}<br>95-ös Benzin E10=%{customdata[3]}<extra></extra>",
         "hovertext": [
          "Debrecen, Kishatár u. 7.",
          "Fót, Fehérkő u. 1.",
          "Csömör, Határ út 6.",
          "Miskolc, József Attila utca 87.",
          "Szeged, Zápor út 4.",
          "Solymár, Szent Flórián u. 2-4.",
          "Budaörs, Sport u. 2-4.",
          "Dunakeszi, Nádas u. 6.",
          "Kecskemét, Dunaföldvári út 2.",
          "Törökbálint, Torbágy u. 1.",
          "Budakalász, Omszk park 1.",
          "Miskolc, Pesti út 9.",
          "Budapest XI, Hunyadi János u. 19. Savoya Park",
          "Budapest XXIII, Bevásárló u. 2. Soroksár",
          "Budapest XXI, Rákóczi Ferenc út 277.  Szigetszentmiklós",
          "Maglód, Eszterházy János u. 1.",
          "Szolnok, Felső Szandai rét 1.",
          "Székesfehérvár, Holland fasor 2."
         ],
         "lat": [
          47.54284286,
          47.5790596,
          47.54083633,
          48.10616684,
          46.27474213,
          47.59671402,
          47.45602798,
          47.60604095,
          46.88822174,
          47.44004822,
          47.61125565,
          48.05135727,
          47.43484879,
          47.41792679,
          47.40147018,
          47.45867157,
          47.16067886,
          47.15108109
         ],
         "legendgroup": "auchan",
         "lon": [
          21.58379364,
          19.15977669,
          19.24170685,
          20.83642387,
          20.1058445,
          18.96533585,
          18.94602966,
          19.11260986,
          19.6391716,
          18.8898468,
          19.06171799,
          20.79915237,
          19.04228973,
          19.15825081,
          19.05129623,
          19.33263016,
          20.19998932,
          18.43345833
         ],
         "marker": {
          "color": "#FF97FF",
          "size": [
           10,
           10,
           10,
           10,
           10,
           10,
           10,
           10,
           10,
           10,
           10,
           10,
           10,
           10,
           10,
           10,
           10,
           10
          ],
          "sizemode": "area",
          "sizeref": 0.4
         },
         "mode": "markers",
         "name": "auchan",
         "showlegend": true,
         "subplot": "mapbox",
         "type": "scattermapbox"
        },
        {
         "customdata": [
          [
           "https://holtankoljak.hu/avia_sarvar_ikervariut18a",
           479.9,
           null,
           479.9
          ],
          [
           "https://holtankoljak.hu/avia_polgardi_hrsz059",
           479.9,
           525.9,
           479.9
          ],
          [
           "https://holtankoljak.hu/avia_hernadkak_szechenyiu1a",
           479.9,
           null,
           479.9
          ],
          [
           "https://holtankoljak.hu/avia_aszod_falujarokutja44",
           479.9,
           null,
           479.9
          ],
          [
           "https://holtankoljak.hu/avia_iklad_alsomajor05759hrsz",
           479.9,
           null,
           479.9
          ],
          [
           "https://holtankoljak.hu/avia_jaszbereny_nagykataiut3",
           479.9,
           null,
           479.9
          ],
          [
           "https://holtankoljak.hu/avia_nagytarcsa_013550hrsz",
           479.9,
           479.9,
           479.9
          ],
          [
           "https://holtankoljak.hu/avia_nagybaracska_bajaiut34",
           null,
           null,
           null
          ],
          [
           "https://holtankoljak.hu/avia_kapolnasnyek_7szfout43km",
           479.9,
           null,
           479.9
          ],
          [
           "https://holtankoljak.hu/avia_erd_szentlaszloter6",
           480,
           null,
           480
          ],
          [
           "https://holtankoljak.hu/avia_ersekcsanad_kt0934hrsz",
           480,
           null,
           480
          ],
          [
           "https://holtankoljak.hu/avia_miskolc_miskolciut023572hrsz",
           479.9,
           null,
           479.9
          ],
          [
           "https://holtankoljak.hu/avia_jaszfenyszaru_kulterulet05150hrsz",
           479.9,
           null,
           479.9
          ],
          [
           "https://holtankoljak.hu/avia_molnaszecsod_petofiut96",
           479.9,
           null,
           480
          ],
          [
           "https://holtankoljak.hu/avia_partner__szigetszentmarton_rackeveiut52hrsz862",
           479.9,
           510.9,
           479.9
          ],
          [
           "https://holtankoljak.hu/avia_nyiradony_debreceniut100",
           480,
           null,
           480
          ],
          [
           "https://holtankoljak.hu/avia_budapest_ix_vagohidutca13",
           479.9,
           520.9,
           479.9
          ],
          [
           "https://holtankoljak.hu/avia_iszkaszentgyorgy_801-esutmellett",
           479.9,
           479.9,
           479.9
          ],
          [
           "https://holtankoljak.hu/avia_lajosmizse_gyartelep2",
           479.9,
           null,
           479.9
          ],
          [
           "https://holtankoljak.hu/avia_forro_foutca133",
           479.9,
           null,
           479.9
          ],
          [
           "https://holtankoljak.hu/avia_budapest_x_kereszturiut108a",
           475,
           480,
           475
          ],
          [
           "https://holtankoljak.hu/avia_szombathely_kormendiut92",
           479.9,
           null,
           479.9
          ],
          [
           "https://holtankoljak.hu/avia_dombovar_korhazutca1",
           479.9,
           527.9,
           479.9
          ],
          [
           "https://holtankoljak.hu/avia_budapest_iirakocziferencu195-197",
           null,
           null,
           null
          ],
          [
           "https://holtankoljak.hu/avia_szentendre_vasvaripalu279416hrsz",
           479.9,
           null,
           479.9
          ],
          [
           "https://holtankoljak.hu/avia_szabadbattyan_095hrsz",
           null,
           null,
           null
          ],
          [
           "https://holtankoljak.hu/avia_tordas_koztarsasagu8",
           479.9,
           null,
           479.9
          ],
          [
           "https://holtankoljak.hu/avia_hercegszanto_hrsz12162",
           479.9,
           null,
           479.9
          ],
          [
           "https://holtankoljak.hu/avia_marcali_berzsenyiutca97",
           479.9,
           null,
           479.9
          ],
          [
           "https://holtankoljak.hu/avia_gyor_fehervariut75",
           479.9,
           null,
           479.9
          ],
          [
           "https://holtankoljak.hu/avia_enying_dozsagyut119",
           479.9,
           519.9,
           479.9
          ],
          [
           "https://holtankoljak.hu/avia_kornye_somloiut1063321hrsz",
           479.9,
           524,
           479.9
          ],
          [
           "https://holtankoljak.hu/avia_acs_fout2",
           479.9,
           null,
           479.9
          ],
          [
           "https://holtankoljak.hu/avia_tolna_hrsz07746-osfoutfacankertileagazo",
           479.9,
           534,
           479.9
          ],
          [
           "https://holtankoljak.hu/avia_martonvasar_bajcsyzsu31",
           479.9,
           479.9,
           479.9
          ],
          [
           "https://holtankoljak.hu/avia_porboly_vadaszutca1hrsz97",
           479.9,
           null,
           479.9
          ],
          [
           "https://holtankoljak.hu/avia_jaszalsoszentgyorgy_bekeut1c",
           479.9,
           null,
           479.9
          ],
          [
           "https://holtankoljak.hu/avia_andocs_adyendreu2065hrsz",
           null,
           null,
           null
          ],
          [
           "https://holtankoljak.hu/avia_baja_bajcsy-zsilinszkyutca56",
           479.9,
           null,
           479.9
          ],
          [
           "https://holtankoljak.hu/avia_ocsod_bemutca1",
           479.9,
           null,
           479.9
          ]
         ],
         "hovertemplate": "<b>%{hovertext}</b><br><br>brand=avia<br>size_for_plot=%{marker.size}<br>LAT=%{lat}<br>LON=%{lon}<br>link=%{customdata[0]}<br>Gázolaj=%{customdata[1]}<br>Prémium Gázolaj=%{customdata[2]}<br>95-ös Benzin E10=%{customdata[3]}<extra></extra>",
         "hovertext": [
          "Sárvár, Ikervári út 18/A",
          "Polgárdi, hrsz. 05/9",
          "Hernádkak, Széchenyi u. 1/a.",
          "Aszód, Falujárók útja 44.",
          "Iklad, Alsómajor 057/59 hrsz.",
          "Jászberény, Nagykátai út 3.",
          "Nagytarcsa, 0135/50 hrsz.",
          "Nagybaracska, Bajai út 34.",
          "Kápolnásnyék, 7. sz. főút 43. km",
          "Érd, Szent László tér 6.",
          "Érsekcsanád, Kt. 09/34 hrsz.",
          "Miskolc, Miskolci út 0235/72 hrsz.",
          "Jászfényszaru, Külterület 05/150 hrsz.",
          "Molnaszecsőd, Petőfi út 96.",
          "Szigetszentmárton, Ráckevei út 52. Hrsz 86/2",
          "Nyíradony, Debreceni út 100.",
          "Budapest IX, Vágóhíd utca 13.",
          "Iszkaszentgyörgy, 801-es út mellett",
          "Lajosmizse, Gyártelep 2.",
          "Forró, Fő utca 133.",
          "Budapest X, Keresztúri út 108/a.",
          "Szombathely, Körmendi út 92.",
          "Dombóvár, Kórház utca 1.",
          "Budapest XXI, II. Rákóczi Ferenc u. 195-197.",
          "Szentendre, Vasvári Pál u. 2794/16 hrsz.",
          "Szabadbattyán, 09/5 hrsz.",
          "Tordas, Köztársaság u. 8",
          "Hercegszántó, Hrsz:1216/2",
          "Marcali, Berzsenyi utca 97.",
          "Győr, Fehérvári út 75.",
          "Enying, Dózsa Gy. Út 119.",
          "Környe, Somlói út 1. 0633/21. hrsz.",
          "Ács, Fő út 2.",
          "Tolna, Hrsz 077/4 6-os főút Fácánkerti leágazó",
          "Martonvásár, Bajcsy Zs. U. 31.",
          "Pörböly, Vadász utca 1. Hrsz:97",
          "Jászalsószentgyörgy, Béke út 1/C",
          "Andocs, Ady Endre u. 206/5 hrsz.",
          "Baja, Bajcsy-Zsilinszky utca 56.",
          "Öcsöd, Bem utca 1. "
         ],
         "lat": [
          47.25157928,
          47.06792831,
          48.09445572,
          47.65871048,
          47.66952133,
          47.49032974,
          47.52227402,
          46.04901123,
          47.25413513,
          47.38180161,
          46.26324844,
          48.08266068,
          47.57889938,
          47.04673767,
          47.22341156,
          47.68446732,
          47.47468948,
          47.21575928,
          47.03303146,
          48.32901001,
          47.49065781,
          47.21331024,
          46.37273026,
          47.41178894,
          47.67837143,
          47.13422012,
          47.34328461,
          45.9447403,
          46.59163284,
          47.67525101,
          46.94670105,
          47.54092026,
          47.68665314,
          46.46198273,
          47.32202148,
          46.20100784,
          47.35682678,
          46.65277863,
          46.18982697,
          46.89997101
         ],
         "legendgroup": "avia",
         "lon": [
          16.91036034,
          18.31058311,
          20.96769714,
          19.50169945,
          19.42661667,
          19.89146042,
          19.26302338,
          18.90676117,
          18.70695877,
          18.90607452,
          18.9794445,
          20.82011414,
          19.73645401,
          16.67947578,
          18.95607376,
          21.89089394,
          19.08428383,
          18.33335876,
          19.54290009,
          21.0965004,
          19.17074585,
          16.61931229,
          18.15019035,
          19.05603027,
          19.06017494,
          18.38291168,
          18.74597359,
          18.94551468,
          17.40561295,
          17.67862511,
          18.22932816,
          18.33663177,
          18.03611755,
          18.84841919,
          18.78472519,
          18.82112503,
          20.09427834,
          17.92484665,
          18.93367958,
          20.39847565
         ],
         "marker": {
          "color": "#FECB52",
          "size": [
           10,
           10,
           10,
           10,
           10,
           10,
           10,
           10,
           10,
           10,
           10,
           10,
           10,
           10,
           10,
           10,
           10,
           10,
           10,
           10,
           10,
           10,
           10,
           10,
           10,
           10,
           10,
           10,
           10,
           10,
           10,
           10,
           10,
           10,
           10,
           10,
           10,
           10,
           10,
           10
          ],
          "sizemode": "area",
          "sizeref": 0.4
         },
         "mode": "markers",
         "name": "avia",
         "showlegend": true,
         "subplot": "mapbox",
         "type": "scattermapbox"
        }
       ],
       "layout": {
        "height": 750,
        "legend": {
         "itemsizing": "constant",
         "title": {
          "text": "brand"
         },
         "tracegroupgap": 0
        },
        "mapbox": {
         "center": {
          "lat": 47.235575228343606,
          "lon": 19.157489138987724
         },
         "domain": {
          "x": [
           0,
           1
          ],
          "y": [
           0,
           1
          ]
         },
         "style": "carto-positron",
         "zoom": 6
        },
        "template": {
         "data": {
          "bar": [
           {
            "error_x": {
             "color": "#2a3f5f"
            },
            "error_y": {
             "color": "#2a3f5f"
            },
            "marker": {
             "line": {
              "color": "#E5ECF6",
              "width": 0.5
             },
             "pattern": {
              "fillmode": "overlay",
              "size": 10,
              "solidity": 0.2
             }
            },
            "type": "bar"
           }
          ],
          "barpolar": [
           {
            "marker": {
             "line": {
              "color": "#E5ECF6",
              "width": 0.5
             },
             "pattern": {
              "fillmode": "overlay",
              "size": 10,
              "solidity": 0.2
             }
            },
            "type": "barpolar"
           }
          ],
          "carpet": [
           {
            "aaxis": {
             "endlinecolor": "#2a3f5f",
             "gridcolor": "white",
             "linecolor": "white",
             "minorgridcolor": "white",
             "startlinecolor": "#2a3f5f"
            },
            "baxis": {
             "endlinecolor": "#2a3f5f",
             "gridcolor": "white",
             "linecolor": "white",
             "minorgridcolor": "white",
             "startlinecolor": "#2a3f5f"
            },
            "type": "carpet"
           }
          ],
          "choropleth": [
           {
            "colorbar": {
             "outlinewidth": 0,
             "ticks": ""
            },
            "type": "choropleth"
           }
          ],
          "contour": [
           {
            "colorbar": {
             "outlinewidth": 0,
             "ticks": ""
            },
            "colorscale": [
             [
              0,
              "#0d0887"
             ],
             [
              0.1111111111111111,
              "#46039f"
             ],
             [
              0.2222222222222222,
              "#7201a8"
             ],
             [
              0.3333333333333333,
              "#9c179e"
             ],
             [
              0.4444444444444444,
              "#bd3786"
             ],
             [
              0.5555555555555556,
              "#d8576b"
             ],
             [
              0.6666666666666666,
              "#ed7953"
             ],
             [
              0.7777777777777778,
              "#fb9f3a"
             ],
             [
              0.8888888888888888,
              "#fdca26"
             ],
             [
              1,
              "#f0f921"
             ]
            ],
            "type": "contour"
           }
          ],
          "contourcarpet": [
           {
            "colorbar": {
             "outlinewidth": 0,
             "ticks": ""
            },
            "type": "contourcarpet"
           }
          ],
          "heatmap": [
           {
            "colorbar": {
             "outlinewidth": 0,
             "ticks": ""
            },
            "colorscale": [
             [
              0,
              "#0d0887"
             ],
             [
              0.1111111111111111,
              "#46039f"
             ],
             [
              0.2222222222222222,
              "#7201a8"
             ],
             [
              0.3333333333333333,
              "#9c179e"
             ],
             [
              0.4444444444444444,
              "#bd3786"
             ],
             [
              0.5555555555555556,
              "#d8576b"
             ],
             [
              0.6666666666666666,
              "#ed7953"
             ],
             [
              0.7777777777777778,
              "#fb9f3a"
             ],
             [
              0.8888888888888888,
              "#fdca26"
             ],
             [
              1,
              "#f0f921"
             ]
            ],
            "type": "heatmap"
           }
          ],
          "heatmapgl": [
           {
            "colorbar": {
             "outlinewidth": 0,
             "ticks": ""
            },
            "colorscale": [
             [
              0,
              "#0d0887"
             ],
             [
              0.1111111111111111,
              "#46039f"
             ],
             [
              0.2222222222222222,
              "#7201a8"
             ],
             [
              0.3333333333333333,
              "#9c179e"
             ],
             [
              0.4444444444444444,
              "#bd3786"
             ],
             [
              0.5555555555555556,
              "#d8576b"
             ],
             [
              0.6666666666666666,
              "#ed7953"
             ],
             [
              0.7777777777777778,
              "#fb9f3a"
             ],
             [
              0.8888888888888888,
              "#fdca26"
             ],
             [
              1,
              "#f0f921"
             ]
            ],
            "type": "heatmapgl"
           }
          ],
          "histogram": [
           {
            "marker": {
             "pattern": {
              "fillmode": "overlay",
              "size": 10,
              "solidity": 0.2
             }
            },
            "type": "histogram"
           }
          ],
          "histogram2d": [
           {
            "colorbar": {
             "outlinewidth": 0,
             "ticks": ""
            },
            "colorscale": [
             [
              0,
              "#0d0887"
             ],
             [
              0.1111111111111111,
              "#46039f"
             ],
             [
              0.2222222222222222,
              "#7201a8"
             ],
             [
              0.3333333333333333,
              "#9c179e"
             ],
             [
              0.4444444444444444,
              "#bd3786"
             ],
             [
              0.5555555555555556,
              "#d8576b"
             ],
             [
              0.6666666666666666,
              "#ed7953"
             ],
             [
              0.7777777777777778,
              "#fb9f3a"
             ],
             [
              0.8888888888888888,
              "#fdca26"
             ],
             [
              1,
              "#f0f921"
             ]
            ],
            "type": "histogram2d"
           }
          ],
          "histogram2dcontour": [
           {
            "colorbar": {
             "outlinewidth": 0,
             "ticks": ""
            },
            "colorscale": [
             [
              0,
              "#0d0887"
             ],
             [
              0.1111111111111111,
              "#46039f"
             ],
             [
              0.2222222222222222,
              "#7201a8"
             ],
             [
              0.3333333333333333,
              "#9c179e"
             ],
             [
              0.4444444444444444,
              "#bd3786"
             ],
             [
              0.5555555555555556,
              "#d8576b"
             ],
             [
              0.6666666666666666,
              "#ed7953"
             ],
             [
              0.7777777777777778,
              "#fb9f3a"
             ],
             [
              0.8888888888888888,
              "#fdca26"
             ],
             [
              1,
              "#f0f921"
             ]
            ],
            "type": "histogram2dcontour"
           }
          ],
          "mesh3d": [
           {
            "colorbar": {
             "outlinewidth": 0,
             "ticks": ""
            },
            "type": "mesh3d"
           }
          ],
          "parcoords": [
           {
            "line": {
             "colorbar": {
              "outlinewidth": 0,
              "ticks": ""
             }
            },
            "type": "parcoords"
           }
          ],
          "pie": [
           {
            "automargin": true,
            "type": "pie"
           }
          ],
          "scatter": [
           {
            "marker": {
             "colorbar": {
              "outlinewidth": 0,
              "ticks": ""
             }
            },
            "type": "scatter"
           }
          ],
          "scatter3d": [
           {
            "line": {
             "colorbar": {
              "outlinewidth": 0,
              "ticks": ""
             }
            },
            "marker": {
             "colorbar": {
              "outlinewidth": 0,
              "ticks": ""
             }
            },
            "type": "scatter3d"
           }
          ],
          "scattercarpet": [
           {
            "marker": {
             "colorbar": {
              "outlinewidth": 0,
              "ticks": ""
             }
            },
            "type": "scattercarpet"
           }
          ],
          "scattergeo": [
           {
            "marker": {
             "colorbar": {
              "outlinewidth": 0,
              "ticks": ""
             }
            },
            "type": "scattergeo"
           }
          ],
          "scattergl": [
           {
            "marker": {
             "colorbar": {
              "outlinewidth": 0,
              "ticks": ""
             }
            },
            "type": "scattergl"
           }
          ],
          "scattermapbox": [
           {
            "marker": {
             "colorbar": {
              "outlinewidth": 0,
              "ticks": ""
             }
            },
            "type": "scattermapbox"
           }
          ],
          "scatterpolar": [
           {
            "marker": {
             "colorbar": {
              "outlinewidth": 0,
              "ticks": ""
             }
            },
            "type": "scatterpolar"
           }
          ],
          "scatterpolargl": [
           {
            "marker": {
             "colorbar": {
              "outlinewidth": 0,
              "ticks": ""
             }
            },
            "type": "scatterpolargl"
           }
          ],
          "scatterternary": [
           {
            "marker": {
             "colorbar": {
              "outlinewidth": 0,
              "ticks": ""
             }
            },
            "type": "scatterternary"
           }
          ],
          "surface": [
           {
            "colorbar": {
             "outlinewidth": 0,
             "ticks": ""
            },
            "colorscale": [
             [
              0,
              "#0d0887"
             ],
             [
              0.1111111111111111,
              "#46039f"
             ],
             [
              0.2222222222222222,
              "#7201a8"
             ],
             [
              0.3333333333333333,
              "#9c179e"
             ],
             [
              0.4444444444444444,
              "#bd3786"
             ],
             [
              0.5555555555555556,
              "#d8576b"
             ],
             [
              0.6666666666666666,
              "#ed7953"
             ],
             [
              0.7777777777777778,
              "#fb9f3a"
             ],
             [
              0.8888888888888888,
              "#fdca26"
             ],
             [
              1,
              "#f0f921"
             ]
            ],
            "type": "surface"
           }
          ],
          "table": [
           {
            "cells": {
             "fill": {
              "color": "#EBF0F8"
             },
             "line": {
              "color": "white"
             }
            },
            "header": {
             "fill": {
              "color": "#C8D4E3"
             },
             "line": {
              "color": "white"
             }
            },
            "type": "table"
           }
          ]
         },
         "layout": {
          "annotationdefaults": {
           "arrowcolor": "#2a3f5f",
           "arrowhead": 0,
           "arrowwidth": 1
          },
          "autotypenumbers": "strict",
          "coloraxis": {
           "colorbar": {
            "outlinewidth": 0,
            "ticks": ""
           }
          },
          "colorscale": {
           "diverging": [
            [
             0,
             "#8e0152"
            ],
            [
             0.1,
             "#c51b7d"
            ],
            [
             0.2,
             "#de77ae"
            ],
            [
             0.3,
             "#f1b6da"
            ],
            [
             0.4,
             "#fde0ef"
            ],
            [
             0.5,
             "#f7f7f7"
            ],
            [
             0.6,
             "#e6f5d0"
            ],
            [
             0.7,
             "#b8e186"
            ],
            [
             0.8,
             "#7fbc41"
            ],
            [
             0.9,
             "#4d9221"
            ],
            [
             1,
             "#276419"
            ]
           ],
           "sequential": [
            [
             0,
             "#0d0887"
            ],
            [
             0.1111111111111111,
             "#46039f"
            ],
            [
             0.2222222222222222,
             "#7201a8"
            ],
            [
             0.3333333333333333,
             "#9c179e"
            ],
            [
             0.4444444444444444,
             "#bd3786"
            ],
            [
             0.5555555555555556,
             "#d8576b"
            ],
            [
             0.6666666666666666,
             "#ed7953"
            ],
            [
             0.7777777777777778,
             "#fb9f3a"
            ],
            [
             0.8888888888888888,
             "#fdca26"
            ],
            [
             1,
             "#f0f921"
            ]
           ],
           "sequentialminus": [
            [
             0,
             "#0d0887"
            ],
            [
             0.1111111111111111,
             "#46039f"
            ],
            [
             0.2222222222222222,
             "#7201a8"
            ],
            [
             0.3333333333333333,
             "#9c179e"
            ],
            [
             0.4444444444444444,
             "#bd3786"
            ],
            [
             0.5555555555555556,
             "#d8576b"
            ],
            [
             0.6666666666666666,
             "#ed7953"
            ],
            [
             0.7777777777777778,
             "#fb9f3a"
            ],
            [
             0.8888888888888888,
             "#fdca26"
            ],
            [
             1,
             "#f0f921"
            ]
           ]
          },
          "colorway": [
           "#636efa",
           "#EF553B",
           "#00cc96",
           "#ab63fa",
           "#FFA15A",
           "#19d3f3",
           "#FF6692",
           "#B6E880",
           "#FF97FF",
           "#FECB52"
          ],
          "font": {
           "color": "#2a3f5f"
          },
          "geo": {
           "bgcolor": "white",
           "lakecolor": "white",
           "landcolor": "#E5ECF6",
           "showlakes": true,
           "showland": true,
           "subunitcolor": "white"
          },
          "hoverlabel": {
           "align": "left"
          },
          "hovermode": "closest",
          "mapbox": {
           "style": "light"
          },
          "paper_bgcolor": "white",
          "plot_bgcolor": "#E5ECF6",
          "polar": {
           "angularaxis": {
            "gridcolor": "white",
            "linecolor": "white",
            "ticks": ""
           },
           "bgcolor": "#E5ECF6",
           "radialaxis": {
            "gridcolor": "white",
            "linecolor": "white",
            "ticks": ""
           }
          },
          "scene": {
           "xaxis": {
            "backgroundcolor": "#E5ECF6",
            "gridcolor": "white",
            "gridwidth": 2,
            "linecolor": "white",
            "showbackground": true,
            "ticks": "",
            "zerolinecolor": "white"
           },
           "yaxis": {
            "backgroundcolor": "#E5ECF6",
            "gridcolor": "white",
            "gridwidth": 2,
            "linecolor": "white",
            "showbackground": true,
            "ticks": "",
            "zerolinecolor": "white"
           },
           "zaxis": {
            "backgroundcolor": "#E5ECF6",
            "gridcolor": "white",
            "gridwidth": 2,
            "linecolor": "white",
            "showbackground": true,
            "ticks": "",
            "zerolinecolor": "white"
           }
          },
          "shapedefaults": {
           "line": {
            "color": "#2a3f5f"
           }
          },
          "ternary": {
           "aaxis": {
            "gridcolor": "white",
            "linecolor": "white",
            "ticks": ""
           },
           "baxis": {
            "gridcolor": "white",
            "linecolor": "white",
            "ticks": ""
           },
           "bgcolor": "#E5ECF6",
           "caxis": {
            "gridcolor": "white",
            "linecolor": "white",
            "ticks": ""
           }
          },
          "title": {
           "x": 0.05
          },
          "xaxis": {
           "automargin": true,
           "gridcolor": "white",
           "linecolor": "white",
           "ticks": "",
           "title": {
            "standoff": 15
           },
           "zerolinecolor": "white",
           "zerolinewidth": 2
          },
          "yaxis": {
           "automargin": true,
           "gridcolor": "white",
           "linecolor": "white",
           "ticks": "",
           "title": {
            "standoff": 15
           },
           "zerolinecolor": "white",
           "zerolinewidth": 2
          }
         }
        },
        "title": {
         "text": "Kutak elhelyezkedése"
        },
        "width": 950
       }
      }
     },
     "metadata": {},
     "output_type": "display_data"
    }
   ],
   "source": [
    "plot_stations(data, 'brand')"
   ]
  },
  {
   "cell_type": "code",
   "execution_count": 218,
   "metadata": {},
   "outputs": [
    {
     "data": {
      "image/png": "[encoded data removed]",
      "text/plain": [
       "<Figure size 720x360 with 1 Axes>"
      ]
     },
     "metadata": {
      "needs_background": "light"
     },
     "output_type": "display_data"
    },
    {
     "data": {
      "image/png": "[encoded data removed]",
      "text/plain": [
       "<Figure size 720x360 with 1 Axes>"
      ]
     },
     "metadata": {
      "needs_background": "light"
     },
     "output_type": "display_data"
    },
    {
     "data": {
      "image/png": "[encoded data removed]",
      "text/plain": [
       "<Figure size 720x360 with 1 Axes>"
      ]
     },
     "metadata": {
      "needs_background": "light"
     },
     "output_type": "display_data"
    },
    {
     "data": {
      "image/png": "[encoded data removed]",
      "text/plain": [
       "<Figure size 720x360 with 1 Axes>"
      ]
     },
     "metadata": {
      "needs_background": "light"
     },
     "output_type": "display_data"
    }
   ],
   "source": [
    "for i in ['brand', 'Budapest', 'Highway', 'Open_7-24']:\n",
    "            boxplot_sns_price_cat(data, 'Prémium Gázolaj', i)"
   ]
  },
  {
   "cell_type": "code",
   "execution_count": 150,
   "metadata": {},
   "outputs": [
    {
     "data": {
      "image/png": "[encoded data removed]",
      "text/plain": [
       "<Figure size 648x288 with 1 Axes>"
      ]
     },
     "metadata": {
      "needs_background": "light"
     },
     "output_type": "display_data"
    },
    {
     "data": {
      "image/png": "[encoded data removed]",
      "text/plain": [
       "<Figure size 648x288 with 1 Axes>"
      ]
     },
     "metadata": {
      "needs_background": "light"
     },
     "output_type": "display_data"
    },
    {
     "data": {
      "image/png": "[encoded data removed]",
      "text/plain": [
       "<Figure size 648x288 with 1 Axes>"
      ]
     },
     "metadata": {
      "needs_background": "light"
     },
     "output_type": "display_data"
    },
    {
     "data": {
      "image/png": "[encoded data removed]",
      "text/plain": [
       "<Figure size 648x288 with 1 Axes>"
      ]
     },
     "metadata": {
      "needs_background": "light"
     },
     "output_type": "display_data"
    },
    {
     "data": {
      "image/png": "[encoded data removed]",
      "text/plain": [
       "<Figure size 648x288 with 1 Axes>"
      ]
     },
     "metadata": {
      "needs_background": "light"
     },
     "output_type": "display_data"
    },
    {
     "data": {
      "image/png": "[encoded data removed]",
      "text/plain": [
       "<Figure size 648x288 with 1 Axes>"
      ]
     },
     "metadata": {
      "needs_background": "light"
     },
     "output_type": "display_data"
    },
    {
     "data": {
      "image/png": "[encoded data removed]",
      "text/plain": [
       "<Figure size 648x288 with 1 Axes>"
      ]
     },
     "metadata": {
      "needs_background": "light"
     },
     "output_type": "display_data"
    },
    {
     "data": {
      "image/png": "[encoded data removed]",
      "text/plain": [
       "<Figure size 648x288 with 1 Axes>"
      ]
     },
     "metadata": {
      "needs_background": "light"
     },
     "output_type": "display_data"
    },
    {
     "data": {
      "image/png": "[encoded data removed]",
      "text/plain": [
       "<Figure size 648x288 with 1 Axes>"
      ]
     },
     "metadata": {
      "needs_background": "light"
     },
     "output_type": "display_data"
    },
    {
     "data": {
      "image/png": "[encoded data removed]",
      "text/plain": [
       "<Figure size 648x288 with 1 Axes>"
      ]
     },
     "metadata": {
      "needs_background": "light"
     },
     "output_type": "display_data"
    },
    {
     "data": {
      "image/png": "[encoded data removed]",
      "text/plain": [
       "<Figure size 648x288 with 1 Axes>"
      ]
     },
     "metadata": {
      "needs_background": "light"
     },
     "output_type": "display_data"
    },
    {
     "data": {
      "image/png": "[encoded data removed]",
      "text/plain": [
       "<Figure size 648x288 with 1 Axes>"
      ]
     },
     "metadata": {
      "needs_background": "light"
     },
     "output_type": "display_data"
    }
   ],
   "source": [
    "for i in ['Gázolaj', 'Prémium Gázolaj', '95-ös Benzin E10', 'Prémium Benzin E10', '100-As Benzin E5', \n",
    "            'Hétfő', 'Kedd', 'Szerda', 'Csütörtök', 'Péntek', 'Szombat', 'Vasárnap']:\n",
    "       distribution_numerics_sns(data, i)"
   ]
  },
  {
   "cell_type": "code",
   "execution_count": 151,
   "metadata": {},
   "outputs": [
    {
     "data": {
      "image/png": "[encoded data removed]",
      "text/plain": [
       "<Figure size 648x360 with 1 Axes>"
      ]
     },
     "metadata": {
      "needs_background": "light"
     },
     "output_type": "display_data"
    }
   ],
   "source": [
    "scatter_sns(data, 'Gázolaj', '95-ös Benzin E10')"
   ]
  },
  {
   "cell_type": "code",
   "execution_count": 152,
   "metadata": {},
   "outputs": [
    {
     "data": {
      "image/png": "[encoded data removed]",
      "text/plain": [
       "<Figure size 648x360 with 1 Axes>"
      ]
     },
     "metadata": {
      "needs_background": "light"
     },
     "output_type": "display_data"
    }
   ],
   "source": [
    "scatter_sns(data, 'Gázolaj', 'Prémium Gázolaj')"
   ]
  },
  {
   "cell_type": "code",
   "execution_count": 153,
   "metadata": {},
   "outputs": [
    {
     "data": {
      "image/png": "[encoded data removed]",
      "text/plain": [
       "<Figure size 648x360 with 1 Axes>"
      ]
     },
     "metadata": {
      "needs_background": "light"
     },
     "output_type": "display_data"
    }
   ],
   "source": [
    "scatter_sns(data, '95-ös Benzin E10', 'Prémium Benzin E10')"
   ]
  },
  {
   "cell_type": "code",
   "execution_count": 154,
   "metadata": {},
   "outputs": [
    {
     "data": {
      "image/png": "[encoded data removed]",
      "text/plain": [
       "<Figure size 648x360 with 1 Axes>"
      ]
     },
     "metadata": {
      "needs_background": "light"
     },
     "output_type": "display_data"
    }
   ],
   "source": [
    "scatter_sns(data, 'Prémium Gázolaj', 'Prémium Benzin E10')"
   ]
  },
  {
   "cell_type": "code",
   "execution_count": null,
   "metadata": {},
   "outputs": [],
   "source": []
  },
  {
   "cell_type": "markdown",
   "metadata": {},
   "source": [
    "### Correlation"
   ]
  },
  {
   "cell_type": "code",
   "execution_count": 221,
   "metadata": {},
   "outputs": [],
   "source": [
    "for i in ['Open_7-24', 'Budapest', 'Highway']:\n",
    "    data[i] = data[i].astype(int)"
   ]
  },
  {
   "cell_type": "code",
   "execution_count": 222,
   "metadata": {},
   "outputs": [
    {
     "data": {
      "image/png": "[encoded data removed]",
      "text/plain": [
       "<Figure size 1008x432 with 2 Axes>"
      ]
     },
     "metadata": {
      "needs_background": "light"
     },
     "output_type": "display_data"
    }
   ],
   "source": [
    "plot_corr(data, data.select_dtypes(exclude = 'O').columns)"
   ]
  },
  {
   "cell_type": "code",
   "execution_count": null,
   "metadata": {},
   "outputs": [],
   "source": []
  },
  {
   "cell_type": "markdown",
   "metadata": {},
   "source": [
    "## Modeling Gasoline prices with simple OLS\n",
    "\n",
    "### Baseline model without services, other fuel types, geo data"
   ]
  },
  {
   "cell_type": "code",
   "execution_count": 274,
   "metadata": {},
   "outputs": [],
   "source": [
    "abt = data.copy()\n",
    "abt.drop(['Hétfő', 'Kedd', 'Szerda', 'Csütörtök', 'Péntek', 'Szombat', 'Vasárnap', 'link', 'address', 'services', 'LAT', 'LON',\n",
    "            'Prémium Gázolaj', '95-ös Benzin E10', 'Prémium Benzin E10', '100-As Benzin E5'], 1, inplace = True) \n",
    "abt = abt[abt['Gázolaj'].notnull()]\n",
    "\n",
    "abt_dummified = pd.get_dummies(abt, columns=['brand'], prefix_sep=' = ').drop(['brand = magan'], 1)\n",
    "abt_dummified.dropna(inplace = True)"
   ]
  },
  {
   "cell_type": "code",
   "execution_count": 283,
   "metadata": {},
   "outputs": [],
   "source": [
    "import statsmodels.api as sm"
   ]
  },
  {
   "cell_type": "code",
   "execution_count": 294,
   "metadata": {},
   "outputs": [],
   "source": [
    "X = abt_dummified.drop(['Gázolaj'], 1)\n",
    "X = sm.add_constant(X)\n",
    "y = abt_dummified['Gázolaj']\n",
    "\n",
    "ols = sm.OLS(y, X.astype(float)).fit()\n",
    "p_values = ols.pvalues.sort_values()\n",
    "\n",
    "while len(p_values[p_values >= 0.05]) > 0:\n",
    "    X.drop(p_values.index[-1], 1, inplace = True)\n",
    "    ols = sm.OLS(y, X.astype(float)).fit()\n",
    "    p_values = ols.pvalues.sort_values()"
   ]
  },
  {
   "cell_type": "code",
   "execution_count": 295,
   "metadata": {},
   "outputs": [
    {
     "data": {
      "text/html": [
       "<table class=\"simpletable\">\n",
       "<caption>OLS Regression Results</caption>\n",
       "<tr>\n",
       "  <th>Dep. Variable:</th>         <td>Gázolaj</td>     <th>  R-squared:         </th> <td>   0.272</td>\n",
       "</tr>\n",
       "<tr>\n",
       "  <th>Model:</th>                   <td>OLS</td>       <th>  Adj. R-squared:    </th> <td>   0.268</td>\n",
       "</tr>\n",
       "<tr>\n",
       "  <th>Method:</th>             <td>Least Squares</td>  <th>  F-statistic:       </th> <td>   67.78</td>\n",
       "</tr>\n",
       "<tr>\n",
       "  <th>Date:</th>             <td>Wed, 24 Nov 2021</td> <th>  Prob (F-statistic):</th> <td>3.55e-83</td>\n",
       "</tr>\n",
       "<tr>\n",
       "  <th>Time:</th>                 <td>00:15:49</td>     <th>  Log-Likelihood:    </th> <td> -1283.1</td>\n",
       "</tr>\n",
       "<tr>\n",
       "  <th>No. Observations:</th>      <td>  1277</td>      <th>  AIC:               </th> <td>   2582.</td>\n",
       "</tr>\n",
       "<tr>\n",
       "  <th>Df Residuals:</th>          <td>  1269</td>      <th>  BIC:               </th> <td>   2623.</td>\n",
       "</tr>\n",
       "<tr>\n",
       "  <th>Df Model:</th>              <td>     7</td>      <th>                     </th>     <td> </td>   \n",
       "</tr>\n",
       "<tr>\n",
       "  <th>Covariance Type:</th>      <td>nonrobust</td>    <th>                     </th>     <td> </td>   \n",
       "</tr>\n",
       "</table>\n",
       "<table class=\"simpletable\">\n",
       "<tr>\n",
       "            <td></td>              <th>coef</th>     <th>std err</th>      <th>t</th>      <th>P>|t|</th>  <th>[0.025</th>    <th>0.975]</th>  \n",
       "</tr>\n",
       "<tr>\n",
       "  <th>const</th>                <td>  479.6513</td> <td>    0.040</td> <td> 1.19e+04</td> <td> 0.000</td> <td>  479.572</td> <td>  479.730</td>\n",
       "</tr>\n",
       "<tr>\n",
       "  <th>brand = auchan</th>       <td>   -2.4846</td> <td>    0.161</td> <td>  -15.397</td> <td> 0.000</td> <td>   -2.801</td> <td>   -2.168</td>\n",
       "</tr>\n",
       "<tr>\n",
       "  <th>brand = envi</th>         <td>   -1.6513</td> <td>    0.150</td> <td>  -10.996</td> <td> 0.000</td> <td>   -1.946</td> <td>   -1.357</td>\n",
       "</tr>\n",
       "<tr>\n",
       "  <th>brand = lukoil</th>       <td>    0.2487</td> <td>    0.086</td> <td>    2.905</td> <td> 0.004</td> <td>    0.081</td> <td>    0.417</td>\n",
       "</tr>\n",
       "<tr>\n",
       "  <th>brand = mobil-petrol</th> <td>    0.2487</td> <td>    0.103</td> <td>    2.417</td> <td> 0.016</td> <td>    0.047</td> <td>    0.451</td>\n",
       "</tr>\n",
       "<tr>\n",
       "  <th>brand = mol</th>          <td>    0.2495</td> <td>    0.050</td> <td>    4.948</td> <td> 0.000</td> <td>    0.151</td> <td>    0.348</td>\n",
       "</tr>\n",
       "<tr>\n",
       "  <th>brand = omv</th>          <td>    0.2498</td> <td>    0.064</td> <td>    3.893</td> <td> 0.000</td> <td>    0.124</td> <td>    0.376</td>\n",
       "</tr>\n",
       "<tr>\n",
       "  <th>brand = shell</th>        <td>    0.2593</td> <td>    0.063</td> <td>    4.121</td> <td> 0.000</td> <td>    0.136</td> <td>    0.383</td>\n",
       "</tr>\n",
       "</table>\n",
       "<table class=\"simpletable\">\n",
       "<tr>\n",
       "  <th>Omnibus:</th>       <td>2464.787</td> <th>  Durbin-Watson:     </th>  <td>   2.021</td>  \n",
       "</tr>\n",
       "<tr>\n",
       "  <th>Prob(Omnibus):</th>  <td> 0.000</td>  <th>  Jarque-Bera (JB):  </th> <td>2960278.314</td>\n",
       "</tr>\n",
       "<tr>\n",
       "  <th>Skew:</th>           <td>-14.517</td> <th>  Prob(JB):          </th>  <td>    0.00</td>  \n",
       "</tr>\n",
       "<tr>\n",
       "  <th>Kurtosis:</th>       <td>237.078</td> <th>  Cond. No.          </th>  <td>    10.0</td>  \n",
       "</tr>\n",
       "</table><br/><br/>Notes:<br/>[1] Standard Errors assume that the covariance matrix of the errors is correctly specified."
      ],
      "text/plain": [
       "<class 'statsmodels.iolib.summary.Summary'>\n",
       "\"\"\"\n",
       "                            OLS Regression Results                            \n",
       "==============================================================================\n",
       "Dep. Variable:                Gázolaj   R-squared:                       0.272\n",
       "Model:                            OLS   Adj. R-squared:                  0.268\n",
       "Method:                 Least Squares   F-statistic:                     67.78\n",
       "Date:                Wed, 24 Nov 2021   Prob (F-statistic):           3.55e-83\n",
       "Time:                        00:15:49   Log-Likelihood:                -1283.1\n",
       "No. Observations:                1277   AIC:                             2582.\n",
       "Df Residuals:                    1269   BIC:                             2623.\n",
       "Df Model:                           7                                         \n",
       "Covariance Type:            nonrobust                                         \n",
       "========================================================================================\n",
       "                           coef    std err          t      P>|t|      [0.025      0.975]\n",
       "----------------------------------------------------------------------------------------\n",
       "const                  479.6513      0.040   1.19e+04      0.000     479.572     479.730\n",
       "brand = auchan          -2.4846      0.161    -15.397      0.000      -2.801      -2.168\n",
       "brand = envi            -1.6513      0.150    -10.996      0.000      -1.946      -1.357\n",
       "brand = lukoil           0.2487      0.086      2.905      0.004       0.081       0.417\n",
       "brand = mobil-petrol     0.2487      0.103      2.417      0.016       0.047       0.451\n",
       "brand = mol              0.2495      0.050      4.948      0.000       0.151       0.348\n",
       "brand = omv              0.2498      0.064      3.893      0.000       0.124       0.376\n",
       "brand = shell            0.2593      0.063      4.121      0.000       0.136       0.383\n",
       "==============================================================================\n",
       "Omnibus:                     2464.787   Durbin-Watson:                   2.021\n",
       "Prob(Omnibus):                  0.000   Jarque-Bera (JB):          2960278.314\n",
       "Skew:                         -14.517   Prob(JB):                         0.00\n",
       "Kurtosis:                     237.078   Cond. No.                         10.0\n",
       "==============================================================================\n",
       "\n",
       "Notes:\n",
       "[1] Standard Errors assume that the covariance matrix of the errors is correctly specified.\n",
       "\"\"\""
      ]
     },
     "execution_count": 295,
     "metadata": {},
     "output_type": "execute_result"
    }
   ],
   "source": [
    "ols.summary()"
   ]
  },
  {
   "cell_type": "code",
   "execution_count": null,
   "metadata": {},
   "outputs": [],
   "source": []
  },
  {
   "cell_type": "markdown",
   "metadata": {},
   "source": [
    "### Adding all services as dummies"
   ]
  },
  {
   "cell_type": "code",
   "execution_count": 297,
   "metadata": {},
   "outputs": [],
   "source": [
    "abt = data.copy()\n",
    "abt.drop(['Hétfő', 'Kedd', 'Szerda', 'Csütörtök', 'Péntek', 'Szombat', 'Vasárnap', 'link', 'address', 'LAT', 'LON',\n",
    "            'Prémium Gázolaj', '95-ös Benzin E10', 'Prémium Benzin E10', '100-As Benzin E5'], 1, inplace = True) \n",
    "abt = abt[abt['Gázolaj'].notnull()]\n",
    "\n",
    "abt_dummified = pd.get_dummies(abt, columns=['brand'], prefix_sep=' = ').drop(['brand = magan'], 1)\n",
    "abt_dummified.dropna(inplace = True)"
   ]
  },
  {
   "cell_type": "code",
   "execution_count": 316,
   "metadata": {},
   "outputs": [],
   "source": [
    "services_dummified = abt_dummified.services.apply(eval).apply(lambda x: list(set(x))).apply(lambda x: [ i.strip() for i in x if i != '']).str.join('|').str.get_dummies()\n",
    "services_dummified.loc[services_dummified['ATM automata'] != services_dummified['ATM-automata'], 'ATM automata'] = services_dummified.loc[services_dummified['ATM automata'] != services_dummified['ATM-automata'], 'ATM-automata']\n",
    "services_dummified.drop(['ATM-automata'], 1, inplace = True)"
   ]
  },
  {
   "cell_type": "code",
   "execution_count": 321,
   "metadata": {},
   "outputs": [],
   "source": [
    "abt_dummified = pd.concat([abt_dummified, services_dummified], 1).drop('services', 1)"
   ]
  },
  {
   "cell_type": "code",
   "execution_count": 322,
   "metadata": {},
   "outputs": [],
   "source": [
    "X = abt_dummified.drop(['Gázolaj'], 1)\n",
    "X = sm.add_constant(X)\n",
    "y = abt_dummified['Gázolaj']\n",
    "\n",
    "ols = sm.OLS(y, X.astype(float)).fit()\n",
    "p_values = ols.pvalues.sort_values()\n",
    "\n",
    "while len(p_values[p_values >= 0.05]) > 0:\n",
    "    X.drop(p_values.index[-1], 1, inplace = True)\n",
    "    ols = sm.OLS(y, X.astype(float)).fit()\n",
    "    p_values = ols.pvalues.sort_values()"
   ]
  },
  {
   "cell_type": "code",
   "execution_count": 323,
   "metadata": {},
   "outputs": [
    {
     "data": {
      "text/html": [
       "<table class=\"simpletable\">\n",
       "<caption>OLS Regression Results</caption>\n",
       "<tr>\n",
       "  <th>Dep. Variable:</th>         <td>Gázolaj</td>     <th>  R-squared:         </th> <td>   0.275</td>\n",
       "</tr>\n",
       "<tr>\n",
       "  <th>Model:</th>                   <td>OLS</td>       <th>  Adj. R-squared:    </th> <td>   0.271</td>\n",
       "</tr>\n",
       "<tr>\n",
       "  <th>Method:</th>             <td>Least Squares</td>  <th>  F-statistic:       </th> <td>   80.18</td>\n",
       "</tr>\n",
       "<tr>\n",
       "  <th>Date:</th>             <td>Wed, 24 Nov 2021</td> <th>  Prob (F-statistic):</th> <td>4.03e-85</td>\n",
       "</tr>\n",
       "<tr>\n",
       "  <th>Time:</th>                 <td>00:27:30</td>     <th>  Log-Likelihood:    </th> <td> -1280.8</td>\n",
       "</tr>\n",
       "<tr>\n",
       "  <th>No. Observations:</th>      <td>  1277</td>      <th>  AIC:               </th> <td>   2576.</td>\n",
       "</tr>\n",
       "<tr>\n",
       "  <th>Df Residuals:</th>          <td>  1270</td>      <th>  BIC:               </th> <td>   2612.</td>\n",
       "</tr>\n",
       "<tr>\n",
       "  <th>Df Model:</th>              <td>     6</td>      <th>                     </th>     <td> </td>   \n",
       "</tr>\n",
       "<tr>\n",
       "  <th>Covariance Type:</th>      <td>nonrobust</td>    <th>                     </th>     <td> </td>   \n",
       "</tr>\n",
       "</table>\n",
       "<table class=\"simpletable\">\n",
       "<tr>\n",
       "          <td></td>            <th>coef</th>     <th>std err</th>      <th>t</th>      <th>P>|t|</th>  <th>[0.025</th>    <th>0.975]</th>  \n",
       "</tr>\n",
       "<tr>\n",
       "  <th>const</th>            <td>  479.7152</td> <td>    0.044</td> <td>  1.1e+04</td> <td> 0.000</td> <td>  479.630</td> <td>  479.801</td>\n",
       "</tr>\n",
       "<tr>\n",
       "  <th>brand = auchan</th>   <td>   -2.6192</td> <td>    0.159</td> <td>  -16.422</td> <td> 0.000</td> <td>   -2.932</td> <td>   -2.306</td>\n",
       "</tr>\n",
       "<tr>\n",
       "  <th>brand = envi</th>     <td>   -1.7152</td> <td>    0.151</td> <td>  -11.373</td> <td> 0.000</td> <td>   -2.011</td> <td>   -1.419</td>\n",
       "</tr>\n",
       "<tr>\n",
       "  <th>brand = mol</th>      <td>    0.2002</td> <td>    0.045</td> <td>    4.430</td> <td> 0.000</td> <td>    0.112</td> <td>    0.289</td>\n",
       "</tr>\n",
       "<tr>\n",
       "  <th>brand = omv</th>      <td>    0.1966</td> <td>    0.062</td> <td>    3.169</td> <td> 0.002</td> <td>    0.075</td> <td>    0.318</td>\n",
       "</tr>\n",
       "<tr>\n",
       "  <th>kenőolaj</th>         <td>   -0.1897</td> <td>    0.043</td> <td>   -4.367</td> <td> 0.000</td> <td>   -0.275</td> <td>   -0.104</td>\n",
       "</tr>\n",
       "<tr>\n",
       "  <th>keréknyomás mérő</th> <td>    0.1818</td> <td>    0.046</td> <td>    3.938</td> <td> 0.000</td> <td>    0.091</td> <td>    0.272</td>\n",
       "</tr>\n",
       "</table>\n",
       "<table class=\"simpletable\">\n",
       "<tr>\n",
       "  <th>Omnibus:</th>       <td>2448.595</td> <th>  Durbin-Watson:     </th>  <td>   2.018</td>  \n",
       "</tr>\n",
       "<tr>\n",
       "  <th>Prob(Omnibus):</th>  <td> 0.000</td>  <th>  Jarque-Bera (JB):  </th> <td>2834638.603</td>\n",
       "</tr>\n",
       "<tr>\n",
       "  <th>Skew:</th>           <td>-14.318</td> <th>  Prob(JB):          </th>  <td>    0.00</td>  \n",
       "</tr>\n",
       "<tr>\n",
       "  <th>Kurtosis:</th>       <td>232.029</td> <th>  Cond. No.          </th>  <td>    12.1</td>  \n",
       "</tr>\n",
       "</table><br/><br/>Notes:<br/>[1] Standard Errors assume that the covariance matrix of the errors is correctly specified."
      ],
      "text/plain": [
       "<class 'statsmodels.iolib.summary.Summary'>\n",
       "\"\"\"\n",
       "                            OLS Regression Results                            \n",
       "==============================================================================\n",
       "Dep. Variable:                Gázolaj   R-squared:                       0.275\n",
       "Model:                            OLS   Adj. R-squared:                  0.271\n",
       "Method:                 Least Squares   F-statistic:                     80.18\n",
       "Date:                Wed, 24 Nov 2021   Prob (F-statistic):           4.03e-85\n",
       "Time:                        00:27:30   Log-Likelihood:                -1280.8\n",
       "No. Observations:                1277   AIC:                             2576.\n",
       "Df Residuals:                    1270   BIC:                             2612.\n",
       "Df Model:                           6                                         \n",
       "Covariance Type:            nonrobust                                         \n",
       "====================================================================================\n",
       "                       coef    std err          t      P>|t|      [0.025      0.975]\n",
       "------------------------------------------------------------------------------------\n",
       "const              479.7152      0.044    1.1e+04      0.000     479.630     479.801\n",
       "brand = auchan      -2.6192      0.159    -16.422      0.000      -2.932      -2.306\n",
       "brand = envi        -1.7152      0.151    -11.373      0.000      -2.011      -1.419\n",
       "brand = mol          0.2002      0.045      4.430      0.000       0.112       0.289\n",
       "brand = omv          0.1966      0.062      3.169      0.002       0.075       0.318\n",
       "kenőolaj            -0.1897      0.043     -4.367      0.000      -0.275      -0.104\n",
       "keréknyomás mérő     0.1818      0.046      3.938      0.000       0.091       0.272\n",
       "==============================================================================\n",
       "Omnibus:                     2448.595   Durbin-Watson:                   2.018\n",
       "Prob(Omnibus):                  0.000   Jarque-Bera (JB):          2834638.603\n",
       "Skew:                         -14.318   Prob(JB):                         0.00\n",
       "Kurtosis:                     232.029   Cond. No.                         12.1\n",
       "==============================================================================\n",
       "\n",
       "Notes:\n",
       "[1] Standard Errors assume that the covariance matrix of the errors is correctly specified.\n",
       "\"\"\""
      ]
     },
     "execution_count": 323,
     "metadata": {},
     "output_type": "execute_result"
    }
   ],
   "source": [
    "ols.summary()"
   ]
  },
  {
   "cell_type": "code",
   "execution_count": null,
   "metadata": {},
   "outputs": [],
   "source": []
  },
  {
   "cell_type": "markdown",
   "metadata": {},
   "source": [
    "### Conclusion: \n",
    "- adding service indicators does not help capture price\n",
    "- services do not influence price of gas\n",
    "- most (only) influence: **BRAND**"
   ]
  },
  {
   "cell_type": "markdown",
   "metadata": {},
   "source": []
  }
 ],
 "metadata": {
  "interpreter": {
   "hash": "c1c82bdd170d252fe165a9bec4d731e9ac025b41ad0f7b30ff5fda4e58991de2"
  },
  "kernelspec": {
   "display_name": "Python 3.8.8 64-bit ('base': conda)",
   "language": "python",
   "name": "python3"
  },
  "language_info": {
   "codemirror_mode": {
    "name": "ipython",
    "version": 3
   },
   "file_extension": ".py",
   "mimetype": "text/x-python",
   "name": "python",
   "nbconvert_exporter": "python",
   "pygments_lexer": "ipython3",
   "version": "3.8.8"
  },
  "orig_nbformat": 4
 },
 "nbformat": 4,
 "nbformat_minor": 2
}
