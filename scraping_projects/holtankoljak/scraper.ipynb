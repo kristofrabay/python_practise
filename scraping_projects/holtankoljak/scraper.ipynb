{
 "cells": [
  {
   "cell_type": "markdown",
   "metadata": {},
   "source": [
    "### Scrape holtankoljak.hu data for visualization, analyysis and possible modeling of gas prices"
   ]
  },
  {
   "cell_type": "code",
   "execution_count": 1,
   "metadata": {},
   "outputs": [],
   "source": [
    "from bs4 import BeautifulSoup\n",
    "import requests\n",
    "import pickle\n",
    "\n",
    "import pandas as pd\n",
    "import numpy as np\n",
    "\n",
    "from multiprocessing.pool import ThreadPool as Pool\n",
    "\n",
    "import warnings\n",
    "warnings.filterwarnings('ignore')"
   ]
  },
  {
   "cell_type": "markdown",
   "metadata": {},
   "source": [
    "Link needs to know my location so it can parse all stations around it with given radius. \n",
    "\n",
    "Steps:\n",
    "1. In Chrome open this: https://holtankoljak.hu/index.php?ua_map=1&uz_tip=2&myrad=1000#tartalom\n",
    "2. Save HTML to data folder\n",
    "3. Open with BS here in Python"
   ]
  },
  {
   "cell_type": "code",
   "execution_count": 2,
   "metadata": {},
   "outputs": [],
   "source": [
    "with open(\"data/3_arstop_eltorlese/Holtankoljak.hu.html\", encoding='utf8') as page:\n",
    "    soup = BeautifulSoup(page)"
   ]
  },
  {
   "cell_type": "code",
   "execution_count": 3,
   "metadata": {},
   "outputs": [],
   "source": [
    "# data_table = soup.find_all('table', class_ = 'table width=')[0]\n",
    "# pd.read_html(str(data_table))[0]"
   ]
  },
  {
   "cell_type": "markdown",
   "metadata": {},
   "source": [
    "### Get links"
   ]
  },
  {
   "cell_type": "code",
   "execution_count": 3,
   "metadata": {},
   "outputs": [],
   "source": [
    "href_list = soup.find_all('table', class_ = 'table width=')[0].find_all('a', href = True)\n",
    "\n",
    "links = []\n",
    "for i in href_list:\n",
    "    links.append(i['href'])\n",
    "\n",
    "links = list(set(links))"
   ]
  },
  {
   "cell_type": "code",
   "execution_count": 4,
   "metadata": {},
   "outputs": [
    {
     "data": {
      "text/plain": [
       "1275"
      ]
     },
     "execution_count": 4,
     "metadata": {},
     "output_type": "execute_result"
    }
   ],
   "source": [
    "len(links)"
   ]
  },
  {
   "cell_type": "markdown",
   "metadata": {},
   "source": [
    "### Get data by station"
   ]
  },
  {
   "cell_type": "code",
   "execution_count": 5,
   "metadata": {},
   "outputs": [],
   "source": [
    "def scrape_station_data(link):\n",
    "    \n",
    "    page = requests.get(link)\n",
    "    page_soup = BeautifulSoup(page.text)\n",
    "\n",
    "    div_cards = page_soup.find_all('div', class_ = 'card')\n",
    "\n",
    "    address = np.nan\n",
    "    geo_location = np.nan\n",
    "    services = np.nan\n",
    "    hours = np.nan\n",
    "\n",
    "    for i in div_cards:\n",
    "        \n",
    "        if 'Útvonal' in i.text:\n",
    "            address = i.find('a').text\n",
    "            geo_location = i.find('a')['href'].split(';')[1].split('#')[0]\n",
    "\n",
    "        if 'Szolgáltatások' in i.text:\n",
    "            services = i.find('div', class_ = 'card-body').text.strip().split(',')\n",
    "\n",
    "        if 'Nyitvatartás' in i.text:\n",
    "            hours = i.find('table').text.strip().split('\\n')\n",
    "            \n",
    "\n",
    "    gas_data = page_soup.find('table', class_ = 'table table-hover').find('tbody').find_all('tr')\n",
    "\n",
    "    gas_dict = {}\n",
    "    for i in gas_data:\n",
    "\n",
    "        gas_type = i.find_all('td')[1].text.strip()\n",
    "        gas_price = i.find_all('td')[2].text.split('/liter')[0].strip()\n",
    "        gas_dict[gas_type] = gas_price\n",
    "\n",
    "    scraped_data = pd.DataFrame.from_dict({'link' : link,\n",
    "                                            'address' : address, \n",
    "                                            'geo_location' : geo_location,\n",
    "                                            'services' : services,\n",
    "                                            'open_hours' : hours,\n",
    "                                            'prices' : gas_dict}, orient = 'index')\n",
    "\n",
    "    return scraped_data   \n"
   ]
  },
  {
   "cell_type": "code",
   "execution_count": 6,
   "metadata": {},
   "outputs": [
    {
     "name": "stdout",
     "output_type": "stream",
     "text": [
      "Wall time: 5min 54s\n"
     ]
    }
   ],
   "source": [
    "%%time\n",
    "\n",
    "data_collector = []\n",
    "\n",
    "pool = Pool(4)\n",
    "for link in links:\n",
    "    pool.apply_async(scrape_station_data, (link,), callback = data_collector.append)\n",
    "pool.close()\n",
    "pool.join()"
   ]
  },
  {
   "cell_type": "markdown",
   "metadata": {},
   "source": [
    "### Concat data"
   ]
  },
  {
   "cell_type": "code",
   "execution_count": 7,
   "metadata": {},
   "outputs": [
    {
     "name": "stdout",
     "output_type": "stream",
     "text": [
      "Wall time: 198 ms\n"
     ]
    }
   ],
   "source": [
    "%%time\n",
    "\n",
    "data = pd.concat((df for df in data_collector), axis = 1, join = 'outer').T"
   ]
  },
  {
   "cell_type": "code",
   "execution_count": 8,
   "metadata": {},
   "outputs": [
    {
     "data": {
      "text/html": [
       "<div>\n",
       "<style scoped>\n",
       "    .dataframe tbody tr th:only-of-type {\n",
       "        vertical-align: middle;\n",
       "    }\n",
       "\n",
       "    .dataframe tbody tr th {\n",
       "        vertical-align: top;\n",
       "    }\n",
       "\n",
       "    .dataframe thead th {\n",
       "        text-align: right;\n",
       "    }\n",
       "</style>\n",
       "<table border=\"1\" class=\"dataframe\">\n",
       "  <thead>\n",
       "    <tr style=\"text-align: right;\">\n",
       "      <th></th>\n",
       "      <th>link</th>\n",
       "      <th>address</th>\n",
       "      <th>geo_location</th>\n",
       "      <th>services</th>\n",
       "      <th>open_hours</th>\n",
       "      <th>prices</th>\n",
       "    </tr>\n",
       "  </thead>\n",
       "  <tbody>\n",
       "    <tr>\n",
       "      <th>0</th>\n",
       "      <td>https://holtankoljak.net/mol_vajszlo_szechenyi...</td>\n",
       "      <td>Vajszló, Széchenyi István út 34.</td>\n",
       "      <td>45.86290359,17.98775482</td>\n",
       "      <td>[nagynyomású kútoszlop,  UTA-kártya,  bankkárt...</td>\n",
       "      <td>[Hétfő:06:00 - 20:00, \\t\\t\\tKedd:06:00 - 20:00...</td>\n",
       "      <td>{'95-ös Benzin E10': '641.0,- Ft', 'Gázolaj': ...</td>\n",
       "    </tr>\n",
       "    <tr>\n",
       "      <th>0</th>\n",
       "      <td>https://holtankoljak.net/mol_jaszbereny_nagyka...</td>\n",
       "      <td>Jászberény, Nagykátai út</td>\n",
       "      <td>47.48664474,19.88292694</td>\n",
       "      <td>[autópálya-matrica,  kávé,  kézi autómosó,  PB...</td>\n",
       "      <td>[Hétfő:06:00 - 22:00, \\t\\t\\tKedd:06:00 - 22:00...</td>\n",
       "      <td>{'100-As Benzin E5': '678.0,- Ft', 'Lpg': '380...</td>\n",
       "    </tr>\n",
       "    <tr>\n",
       "      <th>0</th>\n",
       "      <td>https://holtankoljak.net/shell_szekszard_palan...</td>\n",
       "      <td>Szekszárd, Palánki u. 2.</td>\n",
       "      <td>46.36576080,18.70693970</td>\n",
       "      <td>[HU-GO feltöltés,  nagynyomású kútoszlop,  büf...</td>\n",
       "      <td>[Hétfő:0-24 óráig, \\t\\t\\tKedd:0-24 óráig, \\t\\t...</td>\n",
       "      <td>{'100-As Benzin E5': '724.9,- Ft', '95-ös Benz...</td>\n",
       "    </tr>\n",
       "  </tbody>\n",
       "</table>\n",
       "</div>"
      ],
      "text/plain": [
       "                                                link  \\\n",
       "0  https://holtankoljak.net/mol_vajszlo_szechenyi...   \n",
       "0  https://holtankoljak.net/mol_jaszbereny_nagyka...   \n",
       "0  https://holtankoljak.net/shell_szekszard_palan...   \n",
       "\n",
       "                              address             geo_location  \\\n",
       "0  Vajszló, Széchenyi István út 34.    45.86290359,17.98775482   \n",
       "0            Jászberény, Nagykátai út  47.48664474,19.88292694   \n",
       "0            Szekszárd, Palánki u. 2.  46.36576080,18.70693970   \n",
       "\n",
       "                                            services  \\\n",
       "0  [nagynyomású kútoszlop,  UTA-kártya,  bankkárt...   \n",
       "0  [autópálya-matrica,  kávé,  kézi autómosó,  PB...   \n",
       "0  [HU-GO feltöltés,  nagynyomású kútoszlop,  büf...   \n",
       "\n",
       "                                          open_hours  \\\n",
       "0  [Hétfő:06:00 - 20:00, \\t\\t\\tKedd:06:00 - 20:00...   \n",
       "0  [Hétfő:06:00 - 22:00, \\t\\t\\tKedd:06:00 - 22:00...   \n",
       "0  [Hétfő:0-24 óráig, \\t\\t\\tKedd:0-24 óráig, \\t\\t...   \n",
       "\n",
       "                                              prices  \n",
       "0  {'95-ös Benzin E10': '641.0,- Ft', 'Gázolaj': ...  \n",
       "0  {'100-As Benzin E5': '678.0,- Ft', 'Lpg': '380...  \n",
       "0  {'100-As Benzin E5': '724.9,- Ft', '95-ös Benz...  "
      ]
     },
     "execution_count": 8,
     "metadata": {},
     "output_type": "execute_result"
    }
   ],
   "source": [
    "data.head(3)"
   ]
  },
  {
   "cell_type": "code",
   "execution_count": 9,
   "metadata": {},
   "outputs": [],
   "source": [
    "data.to_csv('data/scraped_data_20221211.csv', index = False)"
   ]
  },
  {
   "cell_type": "code",
   "execution_count": null,
   "metadata": {},
   "outputs": [],
   "source": []
  }
 ],
 "metadata": {
  "kernelspec": {
   "display_name": "Python 3.9.7 ('base')",
   "language": "python",
   "name": "python3"
  },
  "language_info": {
   "codemirror_mode": {
    "name": "ipython",
    "version": 3
   },
   "file_extension": ".py",
   "mimetype": "text/x-python",
   "name": "python",
   "nbconvert_exporter": "python",
   "pygments_lexer": "ipython3",
   "version": "3.9.7"
  },
  "orig_nbformat": 4,
  "vscode": {
   "interpreter": {
    "hash": "fd5f0602b361fcd80b6e43c9db32d5ff96b182a40640908c77b502a93aa9387e"
   }
  }
 },
 "nbformat": 4,
 "nbformat_minor": 2
}
