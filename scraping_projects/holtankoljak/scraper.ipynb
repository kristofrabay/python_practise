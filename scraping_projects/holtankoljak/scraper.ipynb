{
 "cells": [
  {
   "cell_type": "markdown",
   "metadata": {},
   "source": [
    "### Scrape holtankoljak.hu data for visualization, analyysis and possible modeling of gas prices"
   ]
  },
  {
   "cell_type": "code",
   "execution_count": 1,
   "metadata": {},
   "outputs": [],
   "source": [
    "from bs4 import BeautifulSoup\n",
    "import requests\n",
    "import pickle\n",
    "\n",
    "import pandas as pd\n",
    "import numpy as np\n",
    "\n",
    "from multiprocessing.pool import ThreadPool as Pool\n",
    "\n",
    "import warnings\n",
    "warnings.filterwarnings('ignore')"
   ]
  },
  {
   "cell_type": "markdown",
   "metadata": {},
   "source": [
    "Link needs to know my location so it can parse all stations around it with given radius. \n",
    "\n",
    "Steps:\n",
    "1. In Chrome open this: https://holtankoljak.hu/index.php?ua_map=1&uz_tip=2&myrad=1000#tartalom\n",
    "2. Save HTML to data folder\n",
    "3. Open with BS here in Python"
   ]
  },
  {
   "cell_type": "code",
   "execution_count": 2,
   "metadata": {},
   "outputs": [],
   "source": [
    "with open(\"data/4/Holtankoljak.hu.html\", encoding='utf8') as page:\n",
    "    soup = BeautifulSoup(page)"
   ]
  },
  {
   "cell_type": "code",
   "execution_count": 3,
   "metadata": {},
   "outputs": [],
   "source": [
    "# data_table = soup.find_all('table', class_ = 'table width=')[0]\n",
    "# pd.read_html(str(data_table))[0]"
   ]
  },
  {
   "cell_type": "markdown",
   "metadata": {},
   "source": [
    "### Get links"
   ]
  },
  {
   "cell_type": "code",
   "execution_count": 3,
   "metadata": {},
   "outputs": [],
   "source": [
    "href_list = soup.find_all('table', class_ = 'table width=')[0].find_all('a', href = True)\n",
    "\n",
    "links = []\n",
    "for i in href_list:\n",
    "    links.append(i['href'])\n",
    "\n",
    "links = list(set(links))"
   ]
  },
  {
   "cell_type": "code",
   "execution_count": 4,
   "metadata": {},
   "outputs": [
    {
     "data": {
      "text/plain": [
       "1274"
      ]
     },
     "execution_count": 4,
     "metadata": {},
     "output_type": "execute_result"
    }
   ],
   "source": [
    "len(links)"
   ]
  },
  {
   "cell_type": "markdown",
   "metadata": {},
   "source": [
    "### Get data by station"
   ]
  },
  {
   "cell_type": "code",
   "execution_count": 5,
   "metadata": {},
   "outputs": [],
   "source": [
    "def scrape_station_data(link):\n",
    "    \n",
    "    page = requests.get(link)\n",
    "    page_soup = BeautifulSoup(page.text)\n",
    "\n",
    "    div_cards = page_soup.find_all('div', class_ = 'card')\n",
    "\n",
    "    address = np.nan\n",
    "    geo_location = np.nan\n",
    "    services = np.nan\n",
    "    hours = np.nan\n",
    "\n",
    "    for i in div_cards:\n",
    "        \n",
    "        if 'Útvonal' in i.text:\n",
    "            address = i.find('a').text\n",
    "            geo_location = i.find('a')['href'].split(';')[1].split('#')[0]\n",
    "\n",
    "        if 'Szolgáltatások' in i.text:\n",
    "            services = i.find('div', class_ = 'card-body').text.strip().split(',')\n",
    "\n",
    "        if 'Nyitvatartás' in i.text:\n",
    "            hours = i.find('table').text.strip().split('\\n')\n",
    "            \n",
    "\n",
    "    gas_data = page_soup.find('table', class_ = 'table table-hover').find('tbody').find_all('tr')\n",
    "\n",
    "    gas_dict = {}\n",
    "    for i in gas_data:\n",
    "\n",
    "        gas_type = i.find_all('td')[1].text.strip()\n",
    "        gas_price = i.find_all('td')[2].text.split('/liter')[0].strip()\n",
    "        gas_dict[gas_type] = gas_price\n",
    "\n",
    "    scraped_data = pd.DataFrame.from_dict({'link' : link,\n",
    "                                            'address' : address, \n",
    "                                            'geo_location' : geo_location,\n",
    "                                            'services' : services,\n",
    "                                            'open_hours' : hours,\n",
    "                                            'prices' : gas_dict}, orient = 'index')\n",
    "\n",
    "    return scraped_data   \n"
   ]
  },
  {
   "cell_type": "code",
   "execution_count": 6,
   "metadata": {},
   "outputs": [
    {
     "name": "stdout",
     "output_type": "stream",
     "text": [
      "Wall time: 4min 34s\n"
     ]
    }
   ],
   "source": [
    "%%time\n",
    "\n",
    "data_collector = []\n",
    "\n",
    "pool = Pool(4)\n",
    "for link in links:\n",
    "    pool.apply_async(scrape_station_data, (link,), callback = data_collector.append)\n",
    "pool.close()\n",
    "pool.join()"
   ]
  },
  {
   "cell_type": "markdown",
   "metadata": {},
   "source": [
    "### Concat data"
   ]
  },
  {
   "cell_type": "code",
   "execution_count": 7,
   "metadata": {},
   "outputs": [
    {
     "name": "stdout",
     "output_type": "stream",
     "text": [
      "Wall time: 187 ms\n"
     ]
    }
   ],
   "source": [
    "%%time\n",
    "\n",
    "data = pd.concat((df for df in data_collector), axis = 1, join = 'outer').T"
   ]
  },
  {
   "cell_type": "code",
   "execution_count": 8,
   "metadata": {},
   "outputs": [
    {
     "data": {
      "text/html": [
       "<div>\n",
       "<style scoped>\n",
       "    .dataframe tbody tr th:only-of-type {\n",
       "        vertical-align: middle;\n",
       "    }\n",
       "\n",
       "    .dataframe tbody tr th {\n",
       "        vertical-align: top;\n",
       "    }\n",
       "\n",
       "    .dataframe thead th {\n",
       "        text-align: right;\n",
       "    }\n",
       "</style>\n",
       "<table border=\"1\" class=\"dataframe\">\n",
       "  <thead>\n",
       "    <tr style=\"text-align: right;\">\n",
       "      <th></th>\n",
       "      <th>link</th>\n",
       "      <th>address</th>\n",
       "      <th>geo_location</th>\n",
       "      <th>services</th>\n",
       "      <th>open_hours</th>\n",
       "      <th>prices</th>\n",
       "    </tr>\n",
       "  </thead>\n",
       "  <tbody>\n",
       "    <tr>\n",
       "      <th>0</th>\n",
       "      <td>https://holtankoljak.net/oranges_oil_company_o...</td>\n",
       "      <td>Ózd, Malom út 1.</td>\n",
       "      <td>48.21722412,20.27142906</td>\n",
       "      <td>[tankoló automata,  bankkártya elfogadás, ]</td>\n",
       "      <td>[Hétfő:0-24 óráig, \\t\\t\\tKedd:0-24 óráig, \\t\\t...</td>\n",
       "      <td>{'95-ös Benzin E10': '625.9,- Ft', 'Gázolaj': ...</td>\n",
       "    </tr>\n",
       "    <tr>\n",
       "      <th>0</th>\n",
       "      <td>https://holtankoljak.net/mol_gorbehaza_m3iidel...</td>\n",
       "      <td>Görbeháza, M3 II dél (182,5-ös km kő, hrsz: 04...</td>\n",
       "      <td>47.80086517,21.19837379</td>\n",
       "      <td>[Wifi,  HU-GO feltöltés,  UTA-kártya,  büfé,  ...</td>\n",
       "      <td>[Hétfő:0-24 óráig, \\t\\t\\tKedd:0-24 óráig, \\t\\t...</td>\n",
       "      <td>{'Lpg': '400.0,- Ft', '95-ös Benzin E10': '685...</td>\n",
       "    </tr>\n",
       "    <tr>\n",
       "      <th>0</th>\n",
       "      <td>https://holtankoljak.net/mol_szazhalombatta_be...</td>\n",
       "      <td>Százhalombatta, Bekötő út</td>\n",
       "      <td>47.31699753,18.90074539</td>\n",
       "      <td>[UTA-kártya,  mobiltelefon egyenlegfeltöltés, ...</td>\n",
       "      <td>[Hétfő:06:00 - 20:00, \\t\\t\\tKedd:06:00 - 20:00...</td>\n",
       "      <td>{'95-ös Benzin E10': '665.0,- Ft', 'Gázolaj': ...</td>\n",
       "    </tr>\n",
       "  </tbody>\n",
       "</table>\n",
       "</div>"
      ],
      "text/plain": [
       "                                                link  \\\n",
       "0  https://holtankoljak.net/oranges_oil_company_o...   \n",
       "0  https://holtankoljak.net/mol_gorbehaza_m3iidel...   \n",
       "0  https://holtankoljak.net/mol_szazhalombatta_be...   \n",
       "\n",
       "                                             address             geo_location  \\\n",
       "0                                   Ózd, Malom út 1.  48.21722412,20.27142906   \n",
       "0  Görbeháza, M3 II dél (182,5-ös km kő, hrsz: 04...  47.80086517,21.19837379   \n",
       "0                        Százhalombatta, Bekötő út    47.31699753,18.90074539   \n",
       "\n",
       "                                            services  \\\n",
       "0        [tankoló automata,  bankkártya elfogadás, ]   \n",
       "0  [Wifi,  HU-GO feltöltés,  UTA-kártya,  büfé,  ...   \n",
       "0  [UTA-kártya,  mobiltelefon egyenlegfeltöltés, ...   \n",
       "\n",
       "                                          open_hours  \\\n",
       "0  [Hétfő:0-24 óráig, \\t\\t\\tKedd:0-24 óráig, \\t\\t...   \n",
       "0  [Hétfő:0-24 óráig, \\t\\t\\tKedd:0-24 óráig, \\t\\t...   \n",
       "0  [Hétfő:06:00 - 20:00, \\t\\t\\tKedd:06:00 - 20:00...   \n",
       "\n",
       "                                              prices  \n",
       "0  {'95-ös Benzin E10': '625.9,- Ft', 'Gázolaj': ...  \n",
       "0  {'Lpg': '400.0,- Ft', '95-ös Benzin E10': '685...  \n",
       "0  {'95-ös Benzin E10': '665.0,- Ft', 'Gázolaj': ...  "
      ]
     },
     "execution_count": 8,
     "metadata": {},
     "output_type": "execute_result"
    }
   ],
   "source": [
    "data.head(3)"
   ]
  },
  {
   "cell_type": "code",
   "execution_count": 9,
   "metadata": {},
   "outputs": [],
   "source": [
    "data.to_csv('data/scraped_data_20221212.csv', index = False)"
   ]
  },
  {
   "cell_type": "code",
   "execution_count": null,
   "metadata": {},
   "outputs": [],
   "source": []
  }
 ],
 "metadata": {
  "kernelspec": {
   "display_name": "Python 3.9.7 ('base')",
   "language": "python",
   "name": "python3"
  },
  "language_info": {
   "codemirror_mode": {
    "name": "ipython",
    "version": 3
   },
   "file_extension": ".py",
   "mimetype": "text/x-python",
   "name": "python",
   "nbconvert_exporter": "python",
   "pygments_lexer": "ipython3",
   "version": "3.9.7"
  },
  "orig_nbformat": 4,
  "vscode": {
   "interpreter": {
    "hash": "fd5f0602b361fcd80b6e43c9db32d5ff96b182a40640908c77b502a93aa9387e"
   }
  }
 },
 "nbformat": 4,
 "nbformat_minor": 2
}
