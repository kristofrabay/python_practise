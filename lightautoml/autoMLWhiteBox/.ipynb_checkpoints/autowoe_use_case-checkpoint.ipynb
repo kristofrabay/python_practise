{
 "cells": [
  {
   "cell_type": "markdown",
   "id": "a868d1b6",
   "metadata": {},
   "source": [
    "# Part 1: Introduction to WoE and IV metrics for classification"
   ]
  },
  {
   "cell_type": "code",
   "execution_count": 1,
   "id": "056b9669",
   "metadata": {},
   "outputs": [],
   "source": [
    "import calendar\n",
    "import pandas as pd\n",
    "import numpy as np\n",
    "\n",
    "import matplotlib.pyplot as plt\n",
    "import seaborn as sns\n",
    "\n",
    "import warnings\n",
    "warnings.filterwarnings('ignore')\n",
    "\n",
    "def plot_hist_sns(data, i, BINs):\n",
    "    \n",
    "    plt.figure(figsize = (9, 4))\n",
    "    sns.distplot(data[i], kde = False, bins = BINs, hist_kws = {'edgecolor' : 'black', 'linewidth' : 1})\n",
    "    plt.title('Distribution of ' + i)\n",
    "    plt.xlabel(None)\n",
    "    plt.ylabel(None)\n",
    "    plt.show() \n",
    "    \n",
    "BOXPLOT_PROPS = {\n",
    "    'boxprops':{'edgecolor':'black', 'linewidth' : 1},\n",
    "    'flierprops':{'markerfacecolor':'black', 'markeredgecolor':'darkgray', 'marker' : 'x'},\n",
    "    'medianprops':{'color':'black', 'linewidth' : 1},\n",
    "    'whiskerprops':{'color':'black', 'linewidth' : 1},\n",
    "    'capprops':{'color':'black', 'linewidth' : 1}\n",
    "}\n",
    "\n",
    "\n",
    "def plot_boxplot_sns(data, x, outcome = 'reached_6000'):\n",
    "\n",
    "    plt.figure(figsize = (10, 5))\n",
    "    sns.boxplot(data = data, x = x, y = outcome, color = 'blue', fliersize = 2, **BOXPLOT_PROPS)\n",
    "    plt.ylabel('Daily bike share reached 6000')\n",
    "    plt.xlabel(x)\n",
    "    plt.xticks(rotation = 90, ha = 'center')\n",
    "    plt.title('Distribution of ' + x + ' with regards to the outcome')\n",
    "    plt.show()\n",
    "    \n",
    "def plot_sns_heatmap(data, index, col, val):\n",
    "    \n",
    "    df = data.pivot_table(index = index, columns = col, values = val, aggfunc = 'count').T.astype(int)\n",
    "    \n",
    "    fig, ax = plt.subplots(figsize = (3, 3))\n",
    "    sns.heatmap(df, ax = ax, cmap = 'Reds', center = df.stack().mean(), \n",
    "                annot = True, fmt = '2g', annot_kws={'size' : 10}, cbar=False)\n",
    "    plt.title('Relationship between binary outcome and ' + col + '\\n')\n",
    "    plt.xlabel(None)\n",
    "    plt.ylabel(None)\n",
    "    plt.show()\n",
    "    \n",
    "def calc_WoE_IV(df, feature, target):\n",
    "    \n",
    "    lst = []\n",
    "    unique_values = df[feature].unique().tolist()\n",
    "    \n",
    "    for val in unique_values:\n",
    "        \n",
    "        lst.append([feature, val,                                                            \n",
    "                    df[(df[feature] == val) & (df[target] == 1)].count()[feature], \n",
    "                    df[(df[feature] == val) & (df[target] == 0)].count()[feature]])\n",
    " \n",
    "    data = pd.DataFrame(lst, columns = ['Feature', 'Value', 'Positive', 'Negative'])\n",
    "        \n",
    "    sum_pos = df[df[target] == 1].count()[feature]\n",
    "    sum_neg = df[df[target] == 0].count()[feature]\n",
    "    \n",
    "    data['% of Positive'] = data['Positive'] / sum_pos\n",
    "    data['% of Negative'] = data['Negative'] / sum_neg\n",
    "    \n",
    "    data['WoE'] = np.log(data['% of Positive'] / data['% of Negative'])\n",
    "    data = data.replace({'WoE': {np.inf : 0, -np.inf : 0}})\n",
    "    data['IV'] = data['WoE'] * (data['% of Positive'] - data['% of Negative'])\n",
    "\n",
    "    data.index = range(len(data.index))\n",
    "    iv = data['IV'].sum()\n",
    "\n",
    "    return iv, data"
   ]
  },
  {
   "cell_type": "markdown",
   "id": "a713a9d3",
   "metadata": {},
   "source": [
    "### WoE and IV\n",
    "\n",
    "Both metrics are used for classification, to capture the categorical (or binned numeric) features' relationship with the positive and negative classes\n",
    "\n",
    "WoE (weight of evidence): the predictive power of an independent variable in relation to the dependent variable. The higher the value, the stronger the positive relationship with the outcome.\n",
    "\n",
    "<img src=\"https://miro.medium.com/max/1400/1*lJ5SY7dunVLh6s5tuE2R4w.png\" width=\"500\"/>\n",
    "\n",
    "IV (Information Value): a technique to select important variables in a predictive model as it ranks variables on the basis of their importance\n",
    "\n",
    "<img src=\"https://miro.medium.com/max/1156/1*5S_5aAHWe0_knDGZUK3W8w.png\" width=\"500\"/>"
   ]
  },
  {
   "cell_type": "markdown",
   "id": "733fb361",
   "metadata": {},
   "source": [
    "#### Data\n",
    "Will use the same data as for LightAutoML benchmarking, will transform 'cnt' variable to binary based on if the daily bike usage exceeded 4000"
   ]
  },
  {
   "cell_type": "code",
   "execution_count": 2,
   "id": "b3c64538",
   "metadata": {},
   "outputs": [],
   "source": [
    "data = pd.read_csv('../regression/data/day.csv', index_col = 0)\n",
    "data.drop(['dteday', 'yr', 'casual', 'registered', 'temp'], 1, inplace = True)\n",
    "\n",
    "season_mapper = {1 : 'Spring', 2 : 'Summer', 3 : 'Fall', 4 : 'Winter'}\n",
    "data['season'].replace(season_mapper, inplace = True)\n",
    "\n",
    "month_mapper = dict(zip([i for i in range(0, 13)], [i for i in calendar.month_abbr]))\n",
    "data['mnth'].replace(month_mapper, inplace = True)\n",
    "\n",
    "day_mapper = dict(zip([1, 2, 3, 4, 5, 6, 0], [i for i in calendar.day_abbr]))\n",
    "data['weekday'].replace(day_mapper, inplace = True)\n",
    "\n",
    "weather_mapper = {1 : 'Clear', 2 : 'Cloudy', 3 : 'Light Precip', 4 : 'Heavy Precip'}\n",
    "data['weathersit'].replace(weather_mapper, inplace = True)"
   ]
  },
  {
   "cell_type": "code",
   "execution_count": 3,
   "id": "5219c29d",
   "metadata": {},
   "outputs": [
    {
     "data": {
      "image/png": "[encoded data removed]",
      "text/plain": [
       "<Figure size 648x288 with 1 Axes>"
      ]
     },
     "metadata": {
      "needs_background": "light"
     },
     "output_type": "display_data"
    }
   ],
   "source": [
    "plot_hist_sns(data, 'cnt', 50)"
   ]
  },
  {
   "cell_type": "markdown",
   "id": "3f207839",
   "metadata": {},
   "source": [
    "Turn 'cnt' into binary variable"
   ]
  },
  {
   "cell_type": "code",
   "execution_count": 4,
   "id": "314191dc",
   "metadata": {},
   "outputs": [],
   "source": [
    "data['reached_6000'] = data['cnt'].apply(lambda x: 1 if x > 6000 else 0)\n",
    "data['reached_6000'] = data['reached_6000'].astype('category')\n",
    "data.drop('cnt', 1, inplace = True)"
   ]
  },
  {
   "cell_type": "code",
   "execution_count": 5,
   "id": "74591a3a",
   "metadata": {},
   "outputs": [
    {
     "data": {
      "text/plain": [
       "0    0.753762\n",
       "1    0.246238\n",
       "Name: reached_6000, dtype: float64"
      ]
     },
     "execution_count": 5,
     "metadata": {},
     "output_type": "execute_result"
    }
   ],
   "source": [
    "data['reached_6000'].value_counts() / data.shape[0]"
   ]
  },
  {
   "cell_type": "markdown",
   "id": "b3d4b121",
   "metadata": {},
   "source": [
    "### Explore relationship between features and outcome"
   ]
  },
  {
   "cell_type": "markdown",
   "id": "312c4687",
   "metadata": {},
   "source": [
    "#### Numerical features"
   ]
  },
  {
   "cell_type": "code",
   "execution_count": 6,
   "id": "b0d536b0",
   "metadata": {},
   "outputs": [
    {
     "data": {
      "image/png": "[encoded data removed]",
      "text/plain": [
       "<Figure size 720x360 with 1 Axes>"
      ]
     },
     "metadata": {
      "needs_background": "light"
     },
     "output_type": "display_data"
    },
    {
     "data": {
      "image/png": "[encoded data removed]",
      "text/plain": [
       "<Figure size 720x360 with 1 Axes>"
      ]
     },
     "metadata": {
      "needs_background": "light"
     },
     "output_type": "display_data"
    },
    {
     "data": {
      "image/png": "[encoded data removed]",
      "text/plain": [
       "<Figure size 720x360 with 1 Axes>"
      ]
     },
     "metadata": {
      "needs_background": "light"
     },
     "output_type": "display_data"
    }
   ],
   "source": [
    "for i in data.select_dtypes(exclude = ['O', 'category', 'int64']).columns:\n",
    "    plot_boxplot_sns(data, i)"
   ]
  },
  {
   "cell_type": "markdown",
   "id": "3905ccff",
   "metadata": {},
   "source": [
    "#### Categoricals"
   ]
  },
  {
   "cell_type": "code",
   "execution_count": 7,
   "id": "8b7b6fd5",
   "metadata": {},
   "outputs": [
    {
     "data": {
      "text/plain": [
       "['season', 'mnth', 'holiday', 'weekday', 'workingday', 'weathersit']"
      ]
     },
     "execution_count": 7,
     "metadata": {},
     "output_type": "execute_result"
    }
   ],
   "source": [
    "categoricals = data.select_dtypes(exclude = ['category', 'float']).columns.tolist()\n",
    "categoricals"
   ]
  },
  {
   "cell_type": "markdown",
   "id": "8deaafaf",
   "metadata": {},
   "source": [
    "How to explore relationship between categorical feature and categorical outcome? We can produce pivot tables and look at them as heatmaps..."
   ]
  },
  {
   "cell_type": "code",
   "execution_count": 8,
   "id": "37b6eda5",
   "metadata": {},
   "outputs": [
    {
     "data": {
      "image/png": "[encoded data removed]",
      "text/plain": [
       "<Figure size 216x216 with 1 Axes>"
      ]
     },
     "metadata": {
      "needs_background": "light"
     },
     "output_type": "display_data"
    }
   ],
   "source": [
    "plot_sns_heatmap(data, 'reached_6000', 'season', 'workingday')"
   ]
  },
  {
   "cell_type": "markdown",
   "id": "2d86b2f9",
   "metadata": {},
   "source": [
    "Not ideal:\n",
    "- we don't know the relative frequencies over columns (targets)\n",
    "- we don't see the relative frequencies over rows (categories)\n",
    "- we just see some patterns (i.e.: on most Spring days we do not reach 6000 bike shares) --> but is that powerful for prediction?"
   ]
  },
  {
   "cell_type": "markdown",
   "id": "7c1c6741",
   "metadata": {},
   "source": [
    "Solution: WoE & IV!"
   ]
  },
  {
   "cell_type": "code",
   "execution_count": 9,
   "id": "798e4f1c",
   "metadata": {},
   "outputs": [],
   "source": [
    "season_IV, season_WoEs = calc_WoE_IV(data, 'season', 'reached_6000')"
   ]
  },
  {
   "cell_type": "code",
   "execution_count": 10,
   "id": "8c0e8852",
   "metadata": {},
   "outputs": [
    {
     "data": {
      "text/html": [
       "<div>\n",
       "<style scoped>\n",
       "    .dataframe tbody tr th:only-of-type {\n",
       "        vertical-align: middle;\n",
       "    }\n",
       "\n",
       "    .dataframe tbody tr th {\n",
       "        vertical-align: top;\n",
       "    }\n",
       "\n",
       "    .dataframe thead th {\n",
       "        text-align: right;\n",
       "    }\n",
       "</style>\n",
       "<table border=\"1\" class=\"dataframe\">\n",
       "  <thead>\n",
       "    <tr style=\"text-align: right;\">\n",
       "      <th></th>\n",
       "      <th>Feature</th>\n",
       "      <th>Value</th>\n",
       "      <th>Positive</th>\n",
       "      <th>Negative</th>\n",
       "      <th>% of Positive</th>\n",
       "      <th>% of Negative</th>\n",
       "      <th>WoE</th>\n",
       "      <th>IV</th>\n",
       "    </tr>\n",
       "  </thead>\n",
       "  <tbody>\n",
       "    <tr>\n",
       "      <th>0</th>\n",
       "      <td>season</td>\n",
       "      <td>Spring</td>\n",
       "      <td>5</td>\n",
       "      <td>176</td>\n",
       "      <td>0.027778</td>\n",
       "      <td>0.319419</td>\n",
       "      <td>-2.442268</td>\n",
       "      <td>0.712267</td>\n",
       "    </tr>\n",
       "    <tr>\n",
       "      <th>1</th>\n",
       "      <td>season</td>\n",
       "      <td>Summer</td>\n",
       "      <td>62</td>\n",
       "      <td>122</td>\n",
       "      <td>0.344444</td>\n",
       "      <td>0.221416</td>\n",
       "      <td>0.441891</td>\n",
       "      <td>0.054365</td>\n",
       "    </tr>\n",
       "    <tr>\n",
       "      <th>2</th>\n",
       "      <td>season</td>\n",
       "      <td>Fall</td>\n",
       "      <td>78</td>\n",
       "      <td>110</td>\n",
       "      <td>0.433333</td>\n",
       "      <td>0.199637</td>\n",
       "      <td>0.775006</td>\n",
       "      <td>0.181116</td>\n",
       "    </tr>\n",
       "    <tr>\n",
       "      <th>3</th>\n",
       "      <td>season</td>\n",
       "      <td>Winter</td>\n",
       "      <td>35</td>\n",
       "      <td>143</td>\n",
       "      <td>0.194444</td>\n",
       "      <td>0.259528</td>\n",
       "      <td>-0.288719</td>\n",
       "      <td>0.018791</td>\n",
       "    </tr>\n",
       "  </tbody>\n",
       "</table>\n",
       "</div>"
      ],
      "text/plain": [
       "  Feature   Value  Positive  Negative  % of Positive  % of Negative       WoE  \\\n",
       "0  season  Spring         5       176       0.027778       0.319419 -2.442268   \n",
       "1  season  Summer        62       122       0.344444       0.221416  0.441891   \n",
       "2  season    Fall        78       110       0.433333       0.199637  0.775006   \n",
       "3  season  Winter        35       143       0.194444       0.259528 -0.288719   \n",
       "\n",
       "         IV  \n",
       "0  0.712267  \n",
       "1  0.054365  \n",
       "2  0.181116  \n",
       "3  0.018791  "
      ]
     },
     "execution_count": 10,
     "metadata": {},
     "output_type": "execute_result"
    }
   ],
   "source": [
    "season_WoEs"
   ]
  },
  {
   "cell_type": "markdown",
   "id": "aeb8cf22",
   "metadata": {},
   "source": [
    "This tells us that Spring days are very unlikely to reach 6000 bike shares, while in the Fall is much more probable"
   ]
  },
  {
   "cell_type": "code",
   "execution_count": 11,
   "id": "c41538d4",
   "metadata": {},
   "outputs": [
    {
     "name": "stdout",
     "output_type": "stream",
     "text": [
      "Overall IV for season:  0.9665390253669639\n"
     ]
    }
   ],
   "source": [
    "print('Overall IV for season: ', season_IV)"
   ]
  },
  {
   "cell_type": "markdown",
   "id": "08d5bf76",
   "metadata": {},
   "source": [
    "Overall the season feature is a very good predictor (even suspicious according to the original categorization)"
   ]
  },
  {
   "cell_type": "markdown",
   "id": "d56c68d6",
   "metadata": {},
   "source": [
    "#### Run for all categoricals"
   ]
  },
  {
   "cell_type": "code",
   "execution_count": 12,
   "id": "57be6992",
   "metadata": {},
   "outputs": [],
   "source": [
    "WoEs = []\n",
    "IVs = {}\n",
    "\n",
    "for i in categoricals:\n",
    "    _IV, _WoE = calc_WoE_IV(data, i, 'reached_6000')\n",
    "    WoEs.append(_WoE)\n",
    "    IVs[i] = _IV"
   ]
  },
  {
   "cell_type": "markdown",
   "id": "3405e314",
   "metadata": {},
   "source": [
    "WoEs - here we can check for each unique value of each category, what is the weigth of evidence"
   ]
  },
  {
   "cell_type": "code",
   "execution_count": 13,
   "id": "55143bc2",
   "metadata": {},
   "outputs": [
    {
     "data": {
      "text/html": [
       "<div>\n",
       "<style scoped>\n",
       "    .dataframe tbody tr th:only-of-type {\n",
       "        vertical-align: middle;\n",
       "    }\n",
       "\n",
       "    .dataframe tbody tr th {\n",
       "        vertical-align: top;\n",
       "    }\n",
       "\n",
       "    .dataframe thead th {\n",
       "        text-align: right;\n",
       "    }\n",
       "</style>\n",
       "<table border=\"1\" class=\"dataframe\">\n",
       "  <thead>\n",
       "    <tr style=\"text-align: right;\">\n",
       "      <th></th>\n",
       "      <th>Feature</th>\n",
       "      <th>Value</th>\n",
       "      <th>Positive</th>\n",
       "      <th>Negative</th>\n",
       "      <th>% of Positive</th>\n",
       "      <th>% of Negative</th>\n",
       "      <th>WoE</th>\n",
       "      <th>IV</th>\n",
       "    </tr>\n",
       "  </thead>\n",
       "  <tbody>\n",
       "    <tr>\n",
       "      <th>0</th>\n",
       "      <td>season</td>\n",
       "      <td>Spring</td>\n",
       "      <td>5</td>\n",
       "      <td>176</td>\n",
       "      <td>0.027778</td>\n",
       "      <td>0.319419</td>\n",
       "      <td>-2.442268</td>\n",
       "      <td>0.712267</td>\n",
       "    </tr>\n",
       "    <tr>\n",
       "      <th>1</th>\n",
       "      <td>season</td>\n",
       "      <td>Summer</td>\n",
       "      <td>62</td>\n",
       "      <td>122</td>\n",
       "      <td>0.344444</td>\n",
       "      <td>0.221416</td>\n",
       "      <td>0.441891</td>\n",
       "      <td>0.054365</td>\n",
       "    </tr>\n",
       "    <tr>\n",
       "      <th>2</th>\n",
       "      <td>season</td>\n",
       "      <td>Fall</td>\n",
       "      <td>78</td>\n",
       "      <td>110</td>\n",
       "      <td>0.433333</td>\n",
       "      <td>0.199637</td>\n",
       "      <td>0.775006</td>\n",
       "      <td>0.181116</td>\n",
       "    </tr>\n",
       "    <tr>\n",
       "      <th>3</th>\n",
       "      <td>season</td>\n",
       "      <td>Winter</td>\n",
       "      <td>35</td>\n",
       "      <td>143</td>\n",
       "      <td>0.194444</td>\n",
       "      <td>0.259528</td>\n",
       "      <td>-0.288719</td>\n",
       "      <td>0.018791</td>\n",
       "    </tr>\n",
       "    <tr>\n",
       "      <th>0</th>\n",
       "      <td>mnth</td>\n",
       "      <td>Jan</td>\n",
       "      <td>0</td>\n",
       "      <td>62</td>\n",
       "      <td>0.000000</td>\n",
       "      <td>0.112523</td>\n",
       "      <td>0.000000</td>\n",
       "      <td>-0.000000</td>\n",
       "    </tr>\n",
       "    <tr>\n",
       "      <th>1</th>\n",
       "      <td>mnth</td>\n",
       "      <td>Feb</td>\n",
       "      <td>0</td>\n",
       "      <td>57</td>\n",
       "      <td>0.000000</td>\n",
       "      <td>0.103448</td>\n",
       "      <td>0.000000</td>\n",
       "      <td>-0.000000</td>\n",
       "    </tr>\n",
       "    <tr>\n",
       "      <th>2</th>\n",
       "      <td>mnth</td>\n",
       "      <td>Mar</td>\n",
       "      <td>10</td>\n",
       "      <td>52</td>\n",
       "      <td>0.055556</td>\n",
       "      <td>0.094374</td>\n",
       "      <td>-0.529881</td>\n",
       "      <td>0.020569</td>\n",
       "    </tr>\n",
       "    <tr>\n",
       "      <th>3</th>\n",
       "      <td>mnth</td>\n",
       "      <td>Apr</td>\n",
       "      <td>17</td>\n",
       "      <td>43</td>\n",
       "      <td>0.094444</td>\n",
       "      <td>0.078040</td>\n",
       "      <td>0.190791</td>\n",
       "      <td>0.003130</td>\n",
       "    </tr>\n",
       "    <tr>\n",
       "      <th>4</th>\n",
       "      <td>mnth</td>\n",
       "      <td>May</td>\n",
       "      <td>23</td>\n",
       "      <td>39</td>\n",
       "      <td>0.127778</td>\n",
       "      <td>0.070780</td>\n",
       "      <td>0.590711</td>\n",
       "      <td>0.033669</td>\n",
       "    </tr>\n",
       "    <tr>\n",
       "      <th>5</th>\n",
       "      <td>mnth</td>\n",
       "      <td>Jun</td>\n",
       "      <td>23</td>\n",
       "      <td>37</td>\n",
       "      <td>0.127778</td>\n",
       "      <td>0.067151</td>\n",
       "      <td>0.643354</td>\n",
       "      <td>0.039005</td>\n",
       "    </tr>\n",
       "    <tr>\n",
       "      <th>6</th>\n",
       "      <td>mnth</td>\n",
       "      <td>Jul</td>\n",
       "      <td>26</td>\n",
       "      <td>36</td>\n",
       "      <td>0.144444</td>\n",
       "      <td>0.065336</td>\n",
       "      <td>0.793356</td>\n",
       "      <td>0.062761</td>\n",
       "    </tr>\n",
       "    <tr>\n",
       "      <th>7</th>\n",
       "      <td>mnth</td>\n",
       "      <td>Aug</td>\n",
       "      <td>27</td>\n",
       "      <td>35</td>\n",
       "      <td>0.150000</td>\n",
       "      <td>0.063521</td>\n",
       "      <td>0.859267</td>\n",
       "      <td>0.074309</td>\n",
       "    </tr>\n",
       "    <tr>\n",
       "      <th>8</th>\n",
       "      <td>mnth</td>\n",
       "      <td>Sep</td>\n",
       "      <td>27</td>\n",
       "      <td>33</td>\n",
       "      <td>0.150000</td>\n",
       "      <td>0.059891</td>\n",
       "      <td>0.918107</td>\n",
       "      <td>0.082730</td>\n",
       "    </tr>\n",
       "    <tr>\n",
       "      <th>9</th>\n",
       "      <td>mnth</td>\n",
       "      <td>Oct</td>\n",
       "      <td>22</td>\n",
       "      <td>40</td>\n",
       "      <td>0.122222</td>\n",
       "      <td>0.072595</td>\n",
       "      <td>0.520941</td>\n",
       "      <td>0.025853</td>\n",
       "    </tr>\n",
       "    <tr>\n",
       "      <th>10</th>\n",
       "      <td>mnth</td>\n",
       "      <td>Nov</td>\n",
       "      <td>3</td>\n",
       "      <td>57</td>\n",
       "      <td>0.016667</td>\n",
       "      <td>0.103448</td>\n",
       "      <td>-1.825661</td>\n",
       "      <td>0.158434</td>\n",
       "    </tr>\n",
       "    <tr>\n",
       "      <th>11</th>\n",
       "      <td>mnth</td>\n",
       "      <td>Dec</td>\n",
       "      <td>2</td>\n",
       "      <td>60</td>\n",
       "      <td>0.011111</td>\n",
       "      <td>0.108893</td>\n",
       "      <td>-2.282419</td>\n",
       "      <td>0.223179</td>\n",
       "    </tr>\n",
       "    <tr>\n",
       "      <th>0</th>\n",
       "      <td>holiday</td>\n",
       "      <td>0</td>\n",
       "      <td>174</td>\n",
       "      <td>536</td>\n",
       "      <td>0.966667</td>\n",
       "      <td>0.972777</td>\n",
       "      <td>-0.006301</td>\n",
       "      <td>0.000038</td>\n",
       "    </tr>\n",
       "    <tr>\n",
       "      <th>1</th>\n",
       "      <td>holiday</td>\n",
       "      <td>1</td>\n",
       "      <td>6</td>\n",
       "      <td>15</td>\n",
       "      <td>0.033333</td>\n",
       "      <td>0.027223</td>\n",
       "      <td>0.202487</td>\n",
       "      <td>0.001237</td>\n",
       "    </tr>\n",
       "    <tr>\n",
       "      <th>0</th>\n",
       "      <td>weekday</td>\n",
       "      <td>Sat</td>\n",
       "      <td>28</td>\n",
       "      <td>77</td>\n",
       "      <td>0.155556</td>\n",
       "      <td>0.139746</td>\n",
       "      <td>0.107177</td>\n",
       "      <td>0.001694</td>\n",
       "    </tr>\n",
       "    <tr>\n",
       "      <th>1</th>\n",
       "      <td>weekday</td>\n",
       "      <td>Sun</td>\n",
       "      <td>22</td>\n",
       "      <td>83</td>\n",
       "      <td>0.122222</td>\n",
       "      <td>0.150635</td>\n",
       "      <td>-0.209020</td>\n",
       "      <td>0.005939</td>\n",
       "    </tr>\n",
       "    <tr>\n",
       "      <th>2</th>\n",
       "      <td>weekday</td>\n",
       "      <td>Mon</td>\n",
       "      <td>25</td>\n",
       "      <td>80</td>\n",
       "      <td>0.138889</td>\n",
       "      <td>0.145191</td>\n",
       "      <td>-0.044373</td>\n",
       "      <td>0.000280</td>\n",
       "    </tr>\n",
       "    <tr>\n",
       "      <th>3</th>\n",
       "      <td>weekday</td>\n",
       "      <td>Tue</td>\n",
       "      <td>23</td>\n",
       "      <td>81</td>\n",
       "      <td>0.127778</td>\n",
       "      <td>0.147005</td>\n",
       "      <td>-0.140177</td>\n",
       "      <td>0.002695</td>\n",
       "    </tr>\n",
       "    <tr>\n",
       "      <th>4</th>\n",
       "      <td>weekday</td>\n",
       "      <td>Wed</td>\n",
       "      <td>27</td>\n",
       "      <td>77</td>\n",
       "      <td>0.150000</td>\n",
       "      <td>0.139746</td>\n",
       "      <td>0.070809</td>\n",
       "      <td>0.000726</td>\n",
       "    </tr>\n",
       "    <tr>\n",
       "      <th>5</th>\n",
       "      <td>weekday</td>\n",
       "      <td>Thu</td>\n",
       "      <td>30</td>\n",
       "      <td>74</td>\n",
       "      <td>0.166667</td>\n",
       "      <td>0.134301</td>\n",
       "      <td>0.215910</td>\n",
       "      <td>0.006988</td>\n",
       "    </tr>\n",
       "    <tr>\n",
       "      <th>6</th>\n",
       "      <td>weekday</td>\n",
       "      <td>Fri</td>\n",
       "      <td>25</td>\n",
       "      <td>79</td>\n",
       "      <td>0.138889</td>\n",
       "      <td>0.143376</td>\n",
       "      <td>-0.031794</td>\n",
       "      <td>0.000143</td>\n",
       "    </tr>\n",
       "    <tr>\n",
       "      <th>0</th>\n",
       "      <td>workingday</td>\n",
       "      <td>0</td>\n",
       "      <td>56</td>\n",
       "      <td>175</td>\n",
       "      <td>0.311111</td>\n",
       "      <td>0.317604</td>\n",
       "      <td>-0.020656</td>\n",
       "      <td>0.000134</td>\n",
       "    </tr>\n",
       "    <tr>\n",
       "      <th>1</th>\n",
       "      <td>workingday</td>\n",
       "      <td>1</td>\n",
       "      <td>124</td>\n",
       "      <td>376</td>\n",
       "      <td>0.688889</td>\n",
       "      <td>0.682396</td>\n",
       "      <td>0.009470</td>\n",
       "      <td>0.000061</td>\n",
       "    </tr>\n",
       "    <tr>\n",
       "      <th>0</th>\n",
       "      <td>weathersit</td>\n",
       "      <td>Cloudy</td>\n",
       "      <td>40</td>\n",
       "      <td>207</td>\n",
       "      <td>0.222222</td>\n",
       "      <td>0.375681</td>\n",
       "      <td>-0.525061</td>\n",
       "      <td>0.080575</td>\n",
       "    </tr>\n",
       "    <tr>\n",
       "      <th>1</th>\n",
       "      <td>weathersit</td>\n",
       "      <td>Clear</td>\n",
       "      <td>140</td>\n",
       "      <td>323</td>\n",
       "      <td>0.777778</td>\n",
       "      <td>0.586207</td>\n",
       "      <td>0.282768</td>\n",
       "      <td>0.054170</td>\n",
       "    </tr>\n",
       "    <tr>\n",
       "      <th>2</th>\n",
       "      <td>weathersit</td>\n",
       "      <td>Light Precip</td>\n",
       "      <td>0</td>\n",
       "      <td>21</td>\n",
       "      <td>0.000000</td>\n",
       "      <td>0.038113</td>\n",
       "      <td>0.000000</td>\n",
       "      <td>-0.000000</td>\n",
       "    </tr>\n",
       "  </tbody>\n",
       "</table>\n",
       "</div>"
      ],
      "text/plain": [
       "       Feature         Value  Positive  Negative  % of Positive  \\\n",
       "0       season        Spring         5       176       0.027778   \n",
       "1       season        Summer        62       122       0.344444   \n",
       "2       season          Fall        78       110       0.433333   \n",
       "3       season        Winter        35       143       0.194444   \n",
       "0         mnth           Jan         0        62       0.000000   \n",
       "1         mnth           Feb         0        57       0.000000   \n",
       "2         mnth           Mar        10        52       0.055556   \n",
       "3         mnth           Apr        17        43       0.094444   \n",
       "4         mnth           May        23        39       0.127778   \n",
       "5         mnth           Jun        23        37       0.127778   \n",
       "6         mnth           Jul        26        36       0.144444   \n",
       "7         mnth           Aug        27        35       0.150000   \n",
       "8         mnth           Sep        27        33       0.150000   \n",
       "9         mnth           Oct        22        40       0.122222   \n",
       "10        mnth           Nov         3        57       0.016667   \n",
       "11        mnth           Dec         2        60       0.011111   \n",
       "0      holiday             0       174       536       0.966667   \n",
       "1      holiday             1         6        15       0.033333   \n",
       "0      weekday           Sat        28        77       0.155556   \n",
       "1      weekday           Sun        22        83       0.122222   \n",
       "2      weekday           Mon        25        80       0.138889   \n",
       "3      weekday           Tue        23        81       0.127778   \n",
       "4      weekday           Wed        27        77       0.150000   \n",
       "5      weekday           Thu        30        74       0.166667   \n",
       "6      weekday           Fri        25        79       0.138889   \n",
       "0   workingday             0        56       175       0.311111   \n",
       "1   workingday             1       124       376       0.688889   \n",
       "0   weathersit        Cloudy        40       207       0.222222   \n",
       "1   weathersit         Clear       140       323       0.777778   \n",
       "2   weathersit  Light Precip         0        21       0.000000   \n",
       "\n",
       "    % of Negative       WoE        IV  \n",
       "0        0.319419 -2.442268  0.712267  \n",
       "1        0.221416  0.441891  0.054365  \n",
       "2        0.199637  0.775006  0.181116  \n",
       "3        0.259528 -0.288719  0.018791  \n",
       "0        0.112523  0.000000 -0.000000  \n",
       "1        0.103448  0.000000 -0.000000  \n",
       "2        0.094374 -0.529881  0.020569  \n",
       "3        0.078040  0.190791  0.003130  \n",
       "4        0.070780  0.590711  0.033669  \n",
       "5        0.067151  0.643354  0.039005  \n",
       "6        0.065336  0.793356  0.062761  \n",
       "7        0.063521  0.859267  0.074309  \n",
       "8        0.059891  0.918107  0.082730  \n",
       "9        0.072595  0.520941  0.025853  \n",
       "10       0.103448 -1.825661  0.158434  \n",
       "11       0.108893 -2.282419  0.223179  \n",
       "0        0.972777 -0.006301  0.000038  \n",
       "1        0.027223  0.202487  0.001237  \n",
       "0        0.139746  0.107177  0.001694  \n",
       "1        0.150635 -0.209020  0.005939  \n",
       "2        0.145191 -0.044373  0.000280  \n",
       "3        0.147005 -0.140177  0.002695  \n",
       "4        0.139746  0.070809  0.000726  \n",
       "5        0.134301  0.215910  0.006988  \n",
       "6        0.143376 -0.031794  0.000143  \n",
       "0        0.317604 -0.020656  0.000134  \n",
       "1        0.682396  0.009470  0.000061  \n",
       "0        0.375681 -0.525061  0.080575  \n",
       "1        0.586207  0.282768  0.054170  \n",
       "2        0.038113  0.000000 -0.000000  "
      ]
     },
     "execution_count": 13,
     "metadata": {},
     "output_type": "execute_result"
    }
   ],
   "source": [
    "pd.concat(WoEs)"
   ]
  },
  {
   "cell_type": "markdown",
   "id": "12f585c5",
   "metadata": {},
   "source": [
    "IVs:\n",
    "- useless: workingday, holiday, weekday\n",
    "- medium: weather situation\n",
    "- really good: month and season"
   ]
  },
  {
   "cell_type": "code",
   "execution_count": 14,
   "id": "a7878220",
   "metadata": {},
   "outputs": [
    {
     "data": {
      "text/html": [
       "<div>\n",
       "<style scoped>\n",
       "    .dataframe tbody tr th:only-of-type {\n",
       "        vertical-align: middle;\n",
       "    }\n",
       "\n",
       "    .dataframe tbody tr th {\n",
       "        vertical-align: top;\n",
       "    }\n",
       "\n",
       "    .dataframe thead th {\n",
       "        text-align: right;\n",
       "    }\n",
       "</style>\n",
       "<table border=\"1\" class=\"dataframe\">\n",
       "  <thead>\n",
       "    <tr style=\"text-align: right;\">\n",
       "      <th></th>\n",
       "      <th>feature</th>\n",
       "      <th>IV</th>\n",
       "    </tr>\n",
       "  </thead>\n",
       "  <tbody>\n",
       "    <tr>\n",
       "      <th>4</th>\n",
       "      <td>workingday</td>\n",
       "      <td>0.000196</td>\n",
       "    </tr>\n",
       "    <tr>\n",
       "      <th>2</th>\n",
       "      <td>holiday</td>\n",
       "      <td>0.001276</td>\n",
       "    </tr>\n",
       "    <tr>\n",
       "      <th>3</th>\n",
       "      <td>weekday</td>\n",
       "      <td>0.018465</td>\n",
       "    </tr>\n",
       "    <tr>\n",
       "      <th>5</th>\n",
       "      <td>weathersit</td>\n",
       "      <td>0.134745</td>\n",
       "    </tr>\n",
       "    <tr>\n",
       "      <th>1</th>\n",
       "      <td>mnth</td>\n",
       "      <td>0.723638</td>\n",
       "    </tr>\n",
       "    <tr>\n",
       "      <th>0</th>\n",
       "      <td>season</td>\n",
       "      <td>0.966539</td>\n",
       "    </tr>\n",
       "  </tbody>\n",
       "</table>\n",
       "</div>"
      ],
      "text/plain": [
       "      feature        IV\n",
       "4  workingday  0.000196\n",
       "2     holiday  0.001276\n",
       "3     weekday  0.018465\n",
       "5  weathersit  0.134745\n",
       "1        mnth  0.723638\n",
       "0      season  0.966539"
      ]
     },
     "execution_count": 14,
     "metadata": {},
     "output_type": "execute_result"
    }
   ],
   "source": [
    "pd.DataFrame.from_dict(IVs, orient = 'index').reset_index().rename(columns = {0 : 'IV', 'index' : 'feature'}).sort_values('IV')"
   ]
  },
  {
   "cell_type": "code",
   "execution_count": null,
   "id": "3bd8a5ea",
   "metadata": {},
   "outputs": [],
   "source": []
  },
  {
   "cell_type": "markdown",
   "id": "01d06851",
   "metadata": {},
   "source": [
    "### Check calculation by comparing it to WoEEncode() function"
   ]
  },
  {
   "cell_type": "markdown",
   "id": "c5f756f2",
   "metadata": {},
   "source": [
    "category_encoders offers many many available encoding techniques: https://contrib.scikit-learn.org/category_encoders/index.html"
   ]
  },
  {
   "cell_type": "code",
   "execution_count": 15,
   "id": "286798fe",
   "metadata": {},
   "outputs": [],
   "source": [
    "from category_encoders import WOEEncoder"
   ]
  },
  {
   "cell_type": "code",
   "execution_count": 16,
   "id": "e0bd6372",
   "metadata": {},
   "outputs": [
    {
     "data": {
      "text/html": [
       "<div>\n",
       "<style scoped>\n",
       "    .dataframe tbody tr th:only-of-type {\n",
       "        vertical-align: middle;\n",
       "    }\n",
       "\n",
       "    .dataframe tbody tr th {\n",
       "        vertical-align: top;\n",
       "    }\n",
       "\n",
       "    .dataframe thead th {\n",
       "        text-align: right;\n",
       "    }\n",
       "</style>\n",
       "<table border=\"1\" class=\"dataframe\">\n",
       "  <thead>\n",
       "    <tr style=\"text-align: right;\">\n",
       "      <th></th>\n",
       "      <th>season</th>\n",
       "      <th>season</th>\n",
       "    </tr>\n",
       "    <tr>\n",
       "      <th>instant</th>\n",
       "      <th></th>\n",
       "      <th></th>\n",
       "    </tr>\n",
       "  </thead>\n",
       "  <tbody>\n",
       "    <tr>\n",
       "      <th>1</th>\n",
       "      <td>Spring</td>\n",
       "      <td>-2.442268</td>\n",
       "    </tr>\n",
       "    <tr>\n",
       "      <th>80</th>\n",
       "      <td>Summer</td>\n",
       "      <td>0.441891</td>\n",
       "    </tr>\n",
       "    <tr>\n",
       "      <th>172</th>\n",
       "      <td>Fall</td>\n",
       "      <td>0.775006</td>\n",
       "    </tr>\n",
       "    <tr>\n",
       "      <th>266</th>\n",
       "      <td>Winter</td>\n",
       "      <td>-0.288719</td>\n",
       "    </tr>\n",
       "  </tbody>\n",
       "</table>\n",
       "</div>"
      ],
      "text/plain": [
       "         season    season\n",
       "instant                  \n",
       "1        Spring -2.442268\n",
       "80       Summer  0.441891\n",
       "172        Fall  0.775006\n",
       "266      Winter -0.288719"
      ]
     },
     "execution_count": 16,
     "metadata": {},
     "output_type": "execute_result"
    }
   ],
   "source": [
    "WoEEncoder = WOEEncoder(regularization = 0)\n",
    "season_woe_encoded = WoEEncoder.fit_transform(data['season'], data['reached_6000'])\n",
    "\n",
    "pd.concat([data['season'], season_woe_encoded], 1).drop_duplicates()"
   ]
  },
  {
   "cell_type": "markdown",
   "id": "f172c4aa",
   "metadata": {},
   "source": [
    "My calculation:"
   ]
  },
  {
   "cell_type": "code",
   "execution_count": 17,
   "id": "159cd44b",
   "metadata": {},
   "outputs": [
    {
     "data": {
      "text/html": [
       "<div>\n",
       "<style scoped>\n",
       "    .dataframe tbody tr th:only-of-type {\n",
       "        vertical-align: middle;\n",
       "    }\n",
       "\n",
       "    .dataframe tbody tr th {\n",
       "        vertical-align: top;\n",
       "    }\n",
       "\n",
       "    .dataframe thead th {\n",
       "        text-align: right;\n",
       "    }\n",
       "</style>\n",
       "<table border=\"1\" class=\"dataframe\">\n",
       "  <thead>\n",
       "    <tr style=\"text-align: right;\">\n",
       "      <th></th>\n",
       "      <th>Value</th>\n",
       "      <th>WoE</th>\n",
       "    </tr>\n",
       "  </thead>\n",
       "  <tbody>\n",
       "    <tr>\n",
       "      <th>0</th>\n",
       "      <td>Spring</td>\n",
       "      <td>-2.442268</td>\n",
       "    </tr>\n",
       "    <tr>\n",
       "      <th>1</th>\n",
       "      <td>Summer</td>\n",
       "      <td>0.441891</td>\n",
       "    </tr>\n",
       "    <tr>\n",
       "      <th>2</th>\n",
       "      <td>Fall</td>\n",
       "      <td>0.775006</td>\n",
       "    </tr>\n",
       "    <tr>\n",
       "      <th>3</th>\n",
       "      <td>Winter</td>\n",
       "      <td>-0.288719</td>\n",
       "    </tr>\n",
       "  </tbody>\n",
       "</table>\n",
       "</div>"
      ],
      "text/plain": [
       "    Value       WoE\n",
       "0  Spring -2.442268\n",
       "1  Summer  0.441891\n",
       "2    Fall  0.775006\n",
       "3  Winter -0.288719"
      ]
     },
     "execution_count": 17,
     "metadata": {},
     "output_type": "execute_result"
    }
   ],
   "source": [
    "season_WoEs[['Value', 'WoE']]"
   ]
  },
  {
   "cell_type": "markdown",
   "id": "c6d8a508",
   "metadata": {},
   "source": [
    "They are equal! WOEEncoder() allows for a regularization parameter, that is by default set to 1.0. Setting this to 0 leads to results that we would calculate on our own. Regularization prevents division by zero in case a value of a category does not have any values for either class"
   ]
  },
  {
   "cell_type": "code",
   "execution_count": null,
   "id": "fd6c4bfe",
   "metadata": {},
   "outputs": [],
   "source": []
  },
  {
   "cell_type": "markdown",
   "id": "d1db4f26",
   "metadata": {},
   "source": [
    "# Part 2: binning numerical features for WoE calculation\n",
    "\n",
    "Pros:\n",
    "- bins allow for WoE calculation\n",
    "- bins reduce data cardinality\n",
    "- bins 'get rid of' extreme values\n",
    "\n",
    "Cons:\n",
    "- bins lose information\n",
    "- finding optimal number and interval of bins is a problem\n",
    "\n",
    "### Solution 1: manual bin + WoEEncoder()"
   ]
  },
  {
   "cell_type": "code",
   "execution_count": 18,
   "id": "44698d01",
   "metadata": {},
   "outputs": [
    {
     "data": {
      "text/plain": [
       "(0.536, 0.689]     234\n",
       "(0.231, 0.384]     196\n",
       "(0.384, 0.536]     191\n",
       "(0.689, 0.841]      65\n",
       "(0.0783, 0.231]     45\n",
       "Name: atemp, dtype: int64"
      ]
     },
     "execution_count": 18,
     "metadata": {},
     "output_type": "execute_result"
    }
   ],
   "source": [
    "atemp_binned = pd.cut(data['atemp'], bins = 5)\n",
    "atemp_binned.value_counts()"
   ]
  },
  {
   "cell_type": "code",
   "execution_count": 19,
   "id": "8b2d8454",
   "metadata": {},
   "outputs": [
    {
     "data": {
      "text/html": [
       "<div>\n",
       "<style scoped>\n",
       "    .dataframe tbody tr th:only-of-type {\n",
       "        vertical-align: middle;\n",
       "    }\n",
       "\n",
       "    .dataframe tbody tr th {\n",
       "        vertical-align: top;\n",
       "    }\n",
       "\n",
       "    .dataframe thead th {\n",
       "        text-align: right;\n",
       "    }\n",
       "</style>\n",
       "<table border=\"1\" class=\"dataframe\">\n",
       "  <thead>\n",
       "    <tr style=\"text-align: right;\">\n",
       "      <th></th>\n",
       "      <th>atemp</th>\n",
       "      <th>atemp</th>\n",
       "    </tr>\n",
       "    <tr>\n",
       "      <th>instant</th>\n",
       "      <th></th>\n",
       "      <th></th>\n",
       "    </tr>\n",
       "  </thead>\n",
       "  <tbody>\n",
       "    <tr>\n",
       "      <th>1</th>\n",
       "      <td>(0.231, 0.384]</td>\n",
       "      <td>-3.473616</td>\n",
       "    </tr>\n",
       "    <tr>\n",
       "      <th>3</th>\n",
       "      <td>(0.0783, 0.231]</td>\n",
       "      <td>-2.717290</td>\n",
       "    </tr>\n",
       "    <tr>\n",
       "      <th>45</th>\n",
       "      <td>(0.384, 0.536]</td>\n",
       "      <td>0.113835</td>\n",
       "    </tr>\n",
       "    <tr>\n",
       "      <th>94</th>\n",
       "      <td>(0.536, 0.689]</td>\n",
       "      <td>0.872940</td>\n",
       "    </tr>\n",
       "    <tr>\n",
       "      <th>151</th>\n",
       "      <td>(0.689, 0.841]</td>\n",
       "      <td>0.655876</td>\n",
       "    </tr>\n",
       "  </tbody>\n",
       "</table>\n",
       "</div>"
      ],
      "text/plain": [
       "                   atemp     atemp\n",
       "instant                           \n",
       "1         (0.231, 0.384] -3.473616\n",
       "3        (0.0783, 0.231] -2.717290\n",
       "45        (0.384, 0.536]  0.113835\n",
       "94        (0.536, 0.689]  0.872940\n",
       "151       (0.689, 0.841]  0.655876"
      ]
     },
     "execution_count": 19,
     "metadata": {},
     "output_type": "execute_result"
    }
   ],
   "source": [
    "WoEEncoder = WOEEncoder()\n",
    "atemp_woe_encoded = WoEEncoder.fit_transform(atemp_binned, data['reached_6000'])\n",
    "\n",
    "pd.concat([atemp_binned, atemp_woe_encoded], 1).drop_duplicates()"
   ]
  },
  {
   "cell_type": "markdown",
   "id": "fe8dc6be",
   "metadata": {},
   "source": [
    "Makes sense: the lower the temperature range, the less likely it is to reach 6000 bike shares and vice versa. Also interesting to see that in very high temperature ranges the probs also decrease, and they are the highest in the 4th bin, not the 5th. **Question is: is 5 the optimal bin number?**"
   ]
  },
  {
   "cell_type": "markdown",
   "id": "1ee6c092",
   "metadata": {},
   "source": [
    "### Solution 2: OptimalBinning() method"
   ]
  },
  {
   "cell_type": "code",
   "execution_count": 21,
   "id": "263323d2",
   "metadata": {},
   "outputs": [],
   "source": [
    "# !pip install optbinning"
   ]
  },
  {
   "cell_type": "code",
   "execution_count": null,
   "id": "2918f6a6",
   "metadata": {},
   "outputs": [],
   "source": []
  },
  {
   "cell_type": "code",
   "execution_count": null,
   "id": "ee4d6d14",
   "metadata": {},
   "outputs": [],
   "source": []
  },
  {
   "cell_type": "markdown",
   "id": "1c3e729d",
   "metadata": {},
   "source": [
    "# Part 3: running AutoWoE \n",
    "Automatically calculate WoE for categoricals and binned numerics for a classification problem then use the generated report and performance information for further modeling purposes (feature engineering, manual modeling, autoML).\n",
    "\n",
    "GitHub repo and documentation: https://github.com/sberbank-ai-lab/AutoMLWhitebox\n",
    "\n",
    "Tutorials:\n",
    "- (Russian) https://github.com/sberbank-ai-lab/AutoMLWhitebox/blob/master/(Example_1)%20BasicUsageAndParams.ipynb\n",
    "- (Russian) https://github.com/sberbank-ai-lab/AutoMLWhitebox/blob/master/(Example_2)%20DatesAndStatModel.ipynb\n",
    "\n",
    "Also a product of SberBank (like LightAutoML). Also called AutoMLWhiteBox, although only used for classification and only applied logistic regression - after extensive automated feature engineering, WoE and IV calculation\n",
    "\n",
    "<img src=\"https://opengraph.githubassets.com/54f750d9c824d96537af69633495cbff98dafe63e646bd7e75b29c59f6e337f3/sberbank-ai-lab/AutoMLWhitebox\" width=\"700\"/>\n",
    "\n",
    "\n",
    "<br>**Main purpose**: run before any blackbox model to get a very good sense of the categoricals, the bins of numerics and a baseline logistic regression performance"
   ]
  },
  {
   "cell_type": "code",
   "execution_count": 18,
   "id": "364dd998",
   "metadata": {},
   "outputs": [],
   "source": [
    "from autowoe import AutoWoE, ReportDeco"
   ]
  },
  {
   "cell_type": "code",
   "execution_count": 19,
   "id": "d01e4bcc",
   "metadata": {},
   "outputs": [
    {
     "data": {
      "text/html": [
       "<div>\n",
       "<style scoped>\n",
       "    .dataframe tbody tr th:only-of-type {\n",
       "        vertical-align: middle;\n",
       "    }\n",
       "\n",
       "    .dataframe tbody tr th {\n",
       "        vertical-align: top;\n",
       "    }\n",
       "\n",
       "    .dataframe thead th {\n",
       "        text-align: right;\n",
       "    }\n",
       "</style>\n",
       "<table border=\"1\" class=\"dataframe\">\n",
       "  <thead>\n",
       "    <tr style=\"text-align: right;\">\n",
       "      <th></th>\n",
       "      <th>season</th>\n",
       "      <th>mnth</th>\n",
       "      <th>holiday</th>\n",
       "      <th>weekday</th>\n",
       "      <th>workingday</th>\n",
       "      <th>weathersit</th>\n",
       "      <th>atemp</th>\n",
       "      <th>hum</th>\n",
       "      <th>windspeed</th>\n",
       "      <th>reached_6000</th>\n",
       "    </tr>\n",
       "    <tr>\n",
       "      <th>instant</th>\n",
       "      <th></th>\n",
       "      <th></th>\n",
       "      <th></th>\n",
       "      <th></th>\n",
       "      <th></th>\n",
       "      <th></th>\n",
       "      <th></th>\n",
       "      <th></th>\n",
       "      <th></th>\n",
       "      <th></th>\n",
       "    </tr>\n",
       "  </thead>\n",
       "  <tbody>\n",
       "    <tr>\n",
       "      <th>1</th>\n",
       "      <td>Spring</td>\n",
       "      <td>Jan</td>\n",
       "      <td>0</td>\n",
       "      <td>Sat</td>\n",
       "      <td>0</td>\n",
       "      <td>Cloudy</td>\n",
       "      <td>0.363625</td>\n",
       "      <td>0.805833</td>\n",
       "      <td>0.160446</td>\n",
       "      <td>0</td>\n",
       "    </tr>\n",
       "    <tr>\n",
       "      <th>2</th>\n",
       "      <td>Spring</td>\n",
       "      <td>Jan</td>\n",
       "      <td>0</td>\n",
       "      <td>Sun</td>\n",
       "      <td>0</td>\n",
       "      <td>Cloudy</td>\n",
       "      <td>0.353739</td>\n",
       "      <td>0.696087</td>\n",
       "      <td>0.248539</td>\n",
       "      <td>0</td>\n",
       "    </tr>\n",
       "    <tr>\n",
       "      <th>3</th>\n",
       "      <td>Spring</td>\n",
       "      <td>Jan</td>\n",
       "      <td>0</td>\n",
       "      <td>Mon</td>\n",
       "      <td>1</td>\n",
       "      <td>Clear</td>\n",
       "      <td>0.189405</td>\n",
       "      <td>0.437273</td>\n",
       "      <td>0.248309</td>\n",
       "      <td>0</td>\n",
       "    </tr>\n",
       "  </tbody>\n",
       "</table>\n",
       "</div>"
      ],
      "text/plain": [
       "         season mnth  holiday weekday  workingday weathersit     atemp  \\\n",
       "instant                                                                  \n",
       "1        Spring  Jan        0     Sat           0     Cloudy  0.363625   \n",
       "2        Spring  Jan        0     Sun           0     Cloudy  0.353739   \n",
       "3        Spring  Jan        0     Mon           1      Clear  0.189405   \n",
       "\n",
       "              hum  windspeed reached_6000  \n",
       "instant                                    \n",
       "1        0.805833   0.160446            0  \n",
       "2        0.696087   0.248539            0  \n",
       "3        0.437273   0.248309            0  "
      ]
     },
     "execution_count": 19,
     "metadata": {},
     "output_type": "execute_result"
    }
   ],
   "source": [
    "data.head(3)"
   ]
  },
  {
   "cell_type": "markdown",
   "id": "92babf57",
   "metadata": {},
   "source": [
    "#### Determine feature types\n",
    "- 'real' for numerics \n",
    "- 'cat' for categoricals\n",
    "- 'date' -- (\"%Y%d%m\", (\"m\", \"d\", \"wd\", \"h\", \"min\")) for dates"
   ]
  },
  {
   "cell_type": "code",
   "execution_count": 20,
   "id": "69941c80",
   "metadata": {},
   "outputs": [],
   "source": [
    "data['reached_6000'] = data['reached_6000'].astype(float)"
   ]
  },
  {
   "cell_type": "code",
   "execution_count": 21,
   "id": "b333f930",
   "metadata": {},
   "outputs": [],
   "source": [
    "features = data.drop('reached_6000', 1).copy()"
   ]
  },
  {
   "cell_type": "code",
   "execution_count": 22,
   "id": "77ac8927",
   "metadata": {},
   "outputs": [],
   "source": [
    "numerics = features.select_dtypes(exclude = ['O']).columns.tolist()\n",
    "num_features = {x: 'real' for x in numerics}\n",
    "\n",
    "categoricals = features.select_dtypes(include = ['O']).columns.tolist()\n",
    "cat_features = {x: 'cat' for x in categoricals}"
   ]
  },
  {
   "cell_type": "code",
   "execution_count": 23,
   "id": "cec6f2fc",
   "metadata": {},
   "outputs": [
    {
     "data": {
      "text/plain": [
       "{'holiday': 'real',\n",
       " 'workingday': 'real',\n",
       " 'atemp': 'real',\n",
       " 'hum': 'real',\n",
       " 'windspeed': 'real',\n",
       " 'season': 'cat',\n",
       " 'mnth': 'cat',\n",
       " 'weekday': 'cat',\n",
       " 'weathersit': 'cat'}"
      ]
     },
     "execution_count": 23,
     "metadata": {},
     "output_type": "execute_result"
    }
   ],
   "source": [
    "features_type = dict(**num_features, **cat_features)\n",
    "features_type"
   ]
  },
  {
   "cell_type": "markdown",
   "id": "20a7de28",
   "metadata": {},
   "source": [
    "#### Additional settings\n",
    "Set monotone relationship to target\n",
    "- +1 if positive\n",
    "- -1 if negative\n",
    "- 0 if None\n",
    "- 'auto' if let the model decide"
   ]
  },
  {
   "cell_type": "code",
   "execution_count": 64,
   "id": "b06cab8f",
   "metadata": {},
   "outputs": [
    {
     "data": {
      "text/plain": [
       "{'season': 0,\n",
       " 'mnth': 0,\n",
       " 'holiday': 0,\n",
       " 'weekday': 0,\n",
       " 'workingday': 0,\n",
       " 'weathersit': 0,\n",
       " 'atemp': 0,\n",
       " 'hum': 0,\n",
       " 'windspeed': 0}"
      ]
     },
     "execution_count": 64,
     "metadata": {},
     "output_type": "execute_result"
    }
   ],
   "source": [
    "features_monotone_constraints = {i : 0 for i in features.columns.tolist()} #default\n",
    "features_monotone_constraints"
   ]
  },
  {
   "cell_type": "markdown",
   "id": "600573d0",
   "metadata": {},
   "source": [
    "Max bin count: set max bins to create by feature instead of global parameter"
   ]
  },
  {
   "cell_type": "code",
   "execution_count": null,
   "id": "9f11dd62",
   "metadata": {},
   "outputs": [],
   "source": [
    "# max_bin_count = {'windspeed': 3}"
   ]
  },
  {
   "cell_type": "markdown",
   "id": "4dfac9a8",
   "metadata": {},
   "source": [
    "#### Build autoWoE model"
   ]
  },
  {
   "cell_type": "code",
   "execution_count": 93,
   "id": "e75ca346",
   "metadata": {},
   "outputs": [],
   "source": [
    "auto_woe = AutoWoE(n_jobs = 4, verbose = 1, regularized_refit = False, n_folds = 5)\n",
    "auto_woe = ReportDeco(auto_woe)"
   ]
  },
  {
   "cell_type": "code",
   "execution_count": 94,
   "id": "0c034412",
   "metadata": {},
   "outputs": [
    {
     "name": "stdout",
     "output_type": "stream",
     "text": [
      "Wall time: 15.2 s\n"
     ]
    }
   ],
   "source": [
    "%%time\n",
    "auto_woe.fit(train = data, \n",
    "             target_name = 'reached_6000', \n",
    "             features_type = features_type,\n",
    "             features_monotone_constraints = features_monotone_constraints)"
   ]
  },
  {
   "cell_type": "markdown",
   "id": "254563cb",
   "metadata": {},
   "source": [
    "#### Check performance"
   ]
  },
  {
   "cell_type": "code",
   "execution_count": 26,
   "id": "c10c40c6",
   "metadata": {},
   "outputs": [],
   "source": [
    "from sklearn.metrics import roc_auc_score\n",
    "from sklearn.linear_model import LogisticRegression"
   ]
  },
  {
   "cell_type": "code",
   "execution_count": 95,
   "id": "a1fe652a",
   "metadata": {},
   "outputs": [
    {
     "name": "stdout",
     "output_type": "stream",
     "text": [
      "Wall time: 1.72 s\n"
     ]
    }
   ],
   "source": [
    "%%time\n",
    "predictions = auto_woe.predict_proba(data)\n",
    "actuals = data['reached_6000']"
   ]
  },
  {
   "cell_type": "code",
   "execution_count": 96,
   "id": "8a855431",
   "metadata": {},
   "outputs": [
    {
     "data": {
      "text/plain": [
       "0.8459971768501714"
      ]
     },
     "execution_count": 96,
     "metadata": {},
     "output_type": "execute_result"
    }
   ],
   "source": [
    "roc_auc_score(actuals, predictions)"
   ]
  },
  {
   "cell_type": "markdown",
   "id": "f75da755",
   "metadata": {},
   "source": [
    "Compare to that of simple logistic regression"
   ]
  },
  {
   "cell_type": "code",
   "execution_count": 29,
   "id": "1b4613f5",
   "metadata": {},
   "outputs": [
    {
     "data": {
      "text/plain": [
       "0.8213752772736438"
      ]
     },
     "execution_count": 29,
     "metadata": {},
     "output_type": "execute_result"
    }
   ],
   "source": [
    "X = pd.get_dummies(data.drop('reached_6000', 1))\n",
    "y = data['reached_6000'].copy()\n",
    "\n",
    "logreg = LogisticRegression().fit(X, y)\n",
    "logreg_pred = logreg.predict_proba(X)[:,1]\n",
    "\n",
    "roc_auc_score(y, logreg_pred)"
   ]
  },
  {
   "cell_type": "markdown",
   "id": "aef9f1cb",
   "metadata": {},
   "source": [
    "#### Generate report\n",
    "\n",
    "Формирование отчета"
   ]
  },
  {
   "cell_type": "code",
   "execution_count": 30,
   "id": "c1a20bc0",
   "metadata": {},
   "outputs": [
    {
     "name": "stderr",
     "output_type": "stream",
     "text": [
      "No handles with labels found to put in legend.\n",
      "No handles with labels found to put in legend.\n",
      "No handles with labels found to put in legend.\n",
      "No handles with labels found to put in legend.\n"
     ]
    }
   ],
   "source": [
    "report_params = {\"automl_date_column\": \"report_month\", # колонка с датой в формате params['datetimeFormat']\n",
    "                 \"output_path\": \"../autoMLWhiteBox/autowoe_report\", # папка, куда сгенерится отчет и сложатся нужные файлы\n",
    "                 \"report_name\": \"Report on AutoWoE ran on bikeshares dataset\", # НАЗВАНИЕ ОТЧЕТА\n",
    "                 \"report_version_id\" : 1,\n",
    "                 \"city\": \"Budapest\",\n",
    "                 \"model_aim\": \"Run autoWoe on bikeshare dataset to test library\", # ЦЕЛЬ ПОСТРОЕНИЯ МОДЕЛИ\n",
    "                 \"model_name\": \"Bikeshare classification\", # НАЗВАНИЕ МОДЕЛИ\n",
    "                 \"zakazchik\": \"Own project\",  # ЗАКАЗЧИК\n",
    "                 \"high_level_department\": \"Own project\", # ПОДРАЗДЕЛЕНИЕ\n",
    "                 \"ds_name\": \"Kristof Rabay\", # РАЗРАБОТЧИК МОДЕЛИ\n",
    "                 \"target_descr\": \"daily bike shares reached 6000\", # ОПИСАНИЕ ЦЕЛЕВОГО СОБЫТИЯ\n",
    "                 \"non_target_descr\": \"daily bike shares did not reach 6000\"} # ОПИСАНИЕ НЕЦЕЛЕВОГО СОБЫТИЯ\n",
    "\n",
    "auto_woe.generate_report(report_params)"
   ]
  },
  {
   "cell_type": "code",
   "execution_count": null,
   "id": "c93802b6",
   "metadata": {},
   "outputs": [],
   "source": []
  },
  {
   "cell_type": "markdown",
   "id": "452440fa",
   "metadata": {},
   "source": [
    "#### Look inside autowoe model\n",
    "Get coefficients and pvalues"
   ]
  },
  {
   "cell_type": "code",
   "execution_count": 106,
   "id": "c6f89c2a",
   "metadata": {},
   "outputs": [
    {
     "data": {
      "text/plain": [
       "-1.1111351441054877"
      ]
     },
     "execution_count": 106,
     "metadata": {},
     "output_type": "execute_result"
    }
   ],
   "source": [
    "auto_woe.intercept"
   ]
  },
  {
   "cell_type": "code",
   "execution_count": 107,
   "id": "8198e9da",
   "metadata": {},
   "outputs": [
    {
     "data": {
      "text/plain": [
       "atemp       -0.948416\n",
       "windspeed   -0.922996\n",
       "hum         -1.000207\n",
       "dtype: float64"
      ]
     },
     "execution_count": 107,
     "metadata": {},
     "output_type": "execute_result"
    }
   ],
   "source": [
    "auto_woe.features_fit"
   ]
  },
  {
   "cell_type": "code",
   "execution_count": 111,
   "id": "aca5096f",
   "metadata": {},
   "outputs": [
    {
     "data": {
      "text/plain": [
       "atemp         0.00000\n",
       "windspeed     0.00001\n",
       "hum           0.00000\n",
       "Intercept_    0.00000\n",
       "dtype: float64"
      ]
     },
     "execution_count": 111,
     "metadata": {},
     "output_type": "execute_result"
    }
   ],
   "source": [
    "auto_woe.p_vals.round(5)"
   ]
  },
  {
   "cell_type": "markdown",
   "id": "f0e0e531",
   "metadata": {},
   "source": [
    "Get WoE metrics"
   ]
  },
  {
   "cell_type": "code",
   "execution_count": 99,
   "id": "c2227e62",
   "metadata": {},
   "outputs": [
    {
     "data": {
      "text/plain": [
       "0              2.442268\n",
       "1              0.288719\n",
       "2             -0.441891\n",
       "3             -0.775006\n",
       "__NaN_0__      0.000000\n",
       "__Small_0__    0.000000\n",
       "dtype: float64"
      ]
     },
     "execution_count": 99,
     "metadata": {},
     "output_type": "execute_result"
    }
   ],
   "source": [
    "auto_woe.get_woe('season')"
   ]
  },
  {
   "cell_type": "markdown",
   "id": "bf4324df",
   "metadata": {},
   "source": [
    "Look at feature history"
   ]
  },
  {
   "cell_type": "code",
   "execution_count": 100,
   "id": "3f7f16a6",
   "metadata": {},
   "outputs": [
    {
     "data": {
      "text/plain": [
       "{'holiday': 'Low importance',\n",
       " 'workingday': 'Constant WOE value',\n",
       " 'atemp': None,\n",
       " 'hum': None,\n",
       " 'windspeed': None,\n",
       " 'season': 'Pruned by L1 selector',\n",
       " 'mnth': 'Pruned during regression refit',\n",
       " 'weekday': 'Constant WOE value',\n",
       " 'weathersit': 'Pruned during regression refit'}"
      ]
     },
     "execution_count": 100,
     "metadata": {},
     "output_type": "execute_result"
    }
   ],
   "source": [
    "auto_woe.model.feature_history"
   ]
  },
  {
   "cell_type": "markdown",
   "id": "1c697340",
   "metadata": {},
   "source": [
    "Generate automatic SQL code that creates features and applies model with coefficients and sigmoid representation"
   ]
  },
  {
   "cell_type": "code",
   "execution_count": 101,
   "id": "bec5411d",
   "metadata": {},
   "outputs": [
    {
     "name": "stdout",
     "output_type": "stream",
     "text": [
      "SELECT\n",
      "  1 / (1 + EXP(-(\n",
      "    -1.111\n",
      "    -0.948*WOE_TAB.atemp\n",
      "    -0.923*WOE_TAB.windspeed\n",
      "    -1.0*WOE_TAB.hum\n",
      "  ))) as PROB,\n",
      "  WOE_TAB.*\n",
      "FROM \n",
      "    (SELECT\n",
      "    CASE\n",
      "      WHEN (atemp IS NULL OR atemp = 'NaN') THEN 0\n",
      "      WHEN atemp <= 0.41475 THEN 3.126\n",
      "      WHEN atemp <= 0.52968 THEN -0.223\n",
      "      ELSE -0.872\n",
      "    END AS atemp,\n",
      "    CASE\n",
      "      WHEN (windspeed IS NULL OR windspeed = 'NaN') THEN 0\n",
      "      WHEN windspeed <= 0.065 THEN 1.826\n",
      "      WHEN windspeed <= 0.08272 THEN -1.286\n",
      "      WHEN windspeed <= 0.18253 THEN -0.398\n",
      "      WHEN windspeed <= 0.34774 THEN 0.406\n",
      "      ELSE 2.976\n",
      "    END AS windspeed,\n",
      "    CASE\n",
      "      WHEN (hum IS NULL OR hum = 'NaN') THEN 0\n",
      "      WHEN hum <= 0.49149 THEN 0.201\n",
      "      WHEN hum <= 0.73188 THEN -0.242\n",
      "      WHEN hum <= 0.74256 THEN -0.878\n",
      "      WHEN hum <= 0.81104 THEN 0.22\n",
      "      ELSE 2.532\n",
      "    END AS hum\n",
      "  FROM DATA) as WOE_TAB\n"
     ]
    }
   ],
   "source": [
    "print(auto_woe.get_sql_inference_query('DATA'))"
   ]
  },
  {
   "cell_type": "code",
   "execution_count": null,
   "id": "33a263ff",
   "metadata": {},
   "outputs": [],
   "source": []
  }
 ],
 "metadata": {
  "kernelspec": {
   "display_name": "Python 3",
   "language": "python",
   "name": "python3"
  },
  "language_info": {
   "codemirror_mode": {
    "name": "ipython",
    "version": 3
   },
   "file_extension": ".py",
   "mimetype": "text/x-python",
   "name": "python",
   "nbconvert_exporter": "python",
   "pygments_lexer": "ipython3",
   "version": "3.8.8"
  }
 },
 "nbformat": 4,
 "nbformat_minor": 5
}
