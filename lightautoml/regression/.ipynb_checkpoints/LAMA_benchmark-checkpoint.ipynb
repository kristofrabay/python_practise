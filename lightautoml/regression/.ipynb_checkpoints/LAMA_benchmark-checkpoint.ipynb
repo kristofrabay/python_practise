{
 "cells": [
  {
   "cell_type": "markdown",
   "id": "ea881fac",
   "metadata": {},
   "source": [
    "## Benchmarking for LightAutoML\n",
    "\n",
    "### Purpose: compare default and tuned models with LightAutoML preformance\n",
    "\n",
    "The following models will be used, with default setting and also with hyperparameter tuning\n",
    "1. Linear Regression (just 'default')\n",
    "2. Random Forest\n",
    "3. LightGBM\n",
    "4. CatBoost\n",
    "5. LightAutoML\n",
    "\n",
    "### What is LightAutoML?\n",
    "\n",
    "<img src=\"https://raw.githubusercontent.com/sberbank-ai-lab/LightAutoML/master/imgs/LightAutoML_logo_big.png\" width=\"500\"/>\n",
    "\n",
    "Russian Sberbank's AI Lab's AutoML library, open sourced on GitHub: https://github.com/sberbank-ai-lab/LightAutoML\n",
    "Online course (in Russian): https://courses.sberuniversity.ru/lightautoml\n",
    "\n",
    "Using linear models, LightGBM and CatBoost, LightAutoML builds models and applies a blender (stacker) on them. Any number of levels can be built.\n",
    "\n",
    "<!-- <img src=\"https://miro.medium.com/proxy/1*VdoX78-sv4wThpGxpCSmnQ.png\" width=\"800\"/> -->\n",
    "<img src=\"https://raw.githubusercontent.com/sberbank-ai-lab/lightautoml-datafest-workshop/88e5a53824ff6466c3ac6514708775beefc598ca/imgs/tutorial_blackbox_pipeline.png\" width=\"900\"/>\n",
    "\n",
    "\n",
    "Some tutorials:\n",
    "- (Russian) https://github.com/sberbank-ai-lab/lightautoml-datafest-workshop/blob/master/LightAutoML%20demo%20(Blackbox).ipynb\n",
    "- (English) https://github.com/sberbank-ai-lab/LightAutoML/blob/master/examples/tutorials/Tutorial_1_basics.ipynb\n",
    "- (English) https://www.kaggle.com/alexryzhkov/lightautoml-titanic-love\n",
    "- (English) https://towardsdatascience.com/lightautoml-preset-usage-tutorial-2cce7da6f936"
   ]
  },
  {
   "cell_type": "code",
   "execution_count": 1,
   "id": "da348aa2",
   "metadata": {},
   "outputs": [],
   "source": [
    "import calendar\n",
    "import pandas as pd\n",
    "import numpy as np\n",
    "\n",
    "import matplotlib.pyplot as plt\n",
    "import seaborn as sns\n",
    "\n",
    "from sklearn.model_selection import train_test_split, GridSearchCV\n",
    "from sklearn.metrics import mean_squared_error, r2_score, mean_absolute_error\n",
    "\n",
    "from sklearn.linear_model import LinearRegression\n",
    "from sklearn.ensemble import RandomForestRegressor\n",
    "from lightgbm import LGBMRegressor\n",
    "from catboost import CatBoostRegressor\n",
    "\n",
    "import pickle\n",
    "\n",
    "import warnings\n",
    "warnings.filterwarnings('ignore')\n",
    "\n",
    "def plot_corr(df, numerics):\n",
    "    \n",
    "    fig, ax = plt.subplots(figsize = (8, 4))\n",
    "    sns.heatmap(df[numerics].corr(), ax = ax, cmap = 'coolwarm', center = 0, \n",
    "                annot = True, fmt = '.2g', annot_kws={'size' : 10})\n",
    "    plt.title('Correlations\\n')\n",
    "    plt.show()\n",
    "    \n",
    "def mean_absolute_percentage_error(actual, pred): \n",
    "    return np.mean(np.abs((actual - pred) / actual)) * 100\n",
    "\n",
    "def evaluate_model(model_name, model, X, y, automl = False):\n",
    "    \n",
    "    predictions = model.predict(X)\n",
    "    \n",
    "    if automl:\n",
    "        predictions = predictions.data[:,0]\n",
    "\n",
    "    MAE = mean_absolute_error(y, predictions)\n",
    "    MAPE = mean_absolute_percentage_error(y, predictions)\n",
    "    RMSE = mean_squared_error(y, predictions, squared = False)\n",
    "    R2 = r2_score(y, predictions)\n",
    "\n",
    "    return pd.DataFrame({'Model' : model_name, 'r2' : R2, 'RMSE' : RMSE, 'MAE' : MAE, 'MAPE' : MAPE}, index = [0])\n",
    "\n",
    "def plot_feat_imp(feat_scores_object):\n",
    "\n",
    "    plt.figure(figsize = (9, 4))\n",
    "    sns.barplot(data = feat_scores_object, x = 'Importance', y = 'Feature', \n",
    "                color = '#89bedc', edgecolor = 'black', linewidth = 1/2)\n",
    "    plt.title('LightAutoML feature importances')\n",
    "    plt.xlabel(None)\n",
    "    plt.ylabel(None)\n",
    "    plt.show()"
   ]
  },
  {
   "cell_type": "code",
   "execution_count": 2,
   "id": "1bbd110b",
   "metadata": {},
   "outputs": [],
   "source": [
    "RANDOM_STATE = 56"
   ]
  },
  {
   "cell_type": "markdown",
   "id": "68c1a97e",
   "metadata": {},
   "source": [
    "### Information about dataset:\n",
    "\n",
    "Bike sharing dataset from UCI: https://archive.ics.uci.edu/ml/datasets/Bike+Sharing+Dataset\n",
    "\n",
    "\t- season : season (1:springer, 2:summer, 3:fall, 4:winter)\n",
    "\t- mnth : month ( 1 to 12)\n",
    "\t- holiday : weather day is holiday or not (extracted from http://dchr.dc.gov/page/holiday-schedule)\n",
    "\t- weekday : day of the week\n",
    "\t- workingday : if day is neither weekend nor holiday is 1, otherwise is 0.\n",
    "\t+ weathersit : \n",
    "\t\t- 1: Clear, Few clouds, Partly cloudy, Partly cloudy\n",
    "\t\t- 2: Mist + Cloudy, Mist + Broken clouds, Mist + Few clouds, Mist\n",
    "\t\t- 3: Light Snow, Light Rain + Thunderstorm + Scattered clouds, Light Rain + Scattered clouds\n",
    "\t\t- 4: Heavy Rain + Ice Pallets + Thunderstorm + Mist, Snow + Fog\n",
    "\t- atemp: Normalized feeling temperature in Celsius. The values are divided to 50 (max)\n",
    "\t- hum: Normalized humidity. The values are divided to 100 (max)\n",
    "\t- windspeed: Normalized wind speed. The values are divided to 67 (max)\n",
    "\t- cnt: count of total rental bikes including both casual and registered\n",
    "\n",
    "For LightAutoML benchmarking purposes it's ideal: (1) small, (2) pretty clean, (3) has categorical features"
   ]
  },
  {
   "cell_type": "code",
   "execution_count": 3,
   "id": "499eadf0",
   "metadata": {},
   "outputs": [],
   "source": [
    "data = pd.read_csv('data/day.csv', index_col = 0)\n",
    "data.drop(['dteday', 'yr', 'casual', 'registered', 'temp'], 1, inplace = True)\n",
    "\n",
    "season_mapper = {1 : 'Spring', 2 : 'Summer', 3 : 'Fall', 4 : 'Winter'}\n",
    "data['season'].replace(season_mapper, inplace = True)\n",
    "\n",
    "month_mapper = dict(zip([i for i in range(0, 13)], [i for i in calendar.month_abbr]))\n",
    "data['mnth'].replace(month_mapper, inplace = True)\n",
    "\n",
    "day_mapper = dict(zip([1, 2, 3, 4, 5, 6, 0], [i for i in calendar.day_abbr]))\n",
    "data['weekday'].replace(day_mapper, inplace = True)\n",
    "\n",
    "weather_mapper = {1 : 'Clear', 2 : 'Cloudy', 3 : 'Light Precip', 4 : 'Heavy Precip'}\n",
    "data['weathersit'].replace(weather_mapper, inplace = True)"
   ]
  },
  {
   "cell_type": "code",
   "execution_count": 4,
   "id": "7ddc60ea",
   "metadata": {},
   "outputs": [
    {
     "data": {
      "text/plain": [
       "(731, 10)"
      ]
     },
     "execution_count": 4,
     "metadata": {},
     "output_type": "execute_result"
    }
   ],
   "source": [
    "data.shape"
   ]
  },
  {
   "cell_type": "code",
   "execution_count": 5,
   "id": "f853f948",
   "metadata": {},
   "outputs": [
    {
     "data": {
      "text/html": [
       "<div>\n",
       "<style scoped>\n",
       "    .dataframe tbody tr th:only-of-type {\n",
       "        vertical-align: middle;\n",
       "    }\n",
       "\n",
       "    .dataframe tbody tr th {\n",
       "        vertical-align: top;\n",
       "    }\n",
       "\n",
       "    .dataframe thead th {\n",
       "        text-align: right;\n",
       "    }\n",
       "</style>\n",
       "<table border=\"1\" class=\"dataframe\">\n",
       "  <thead>\n",
       "    <tr style=\"text-align: right;\">\n",
       "      <th></th>\n",
       "      <th>season</th>\n",
       "      <th>mnth</th>\n",
       "      <th>holiday</th>\n",
       "      <th>weekday</th>\n",
       "      <th>workingday</th>\n",
       "      <th>weathersit</th>\n",
       "      <th>atemp</th>\n",
       "      <th>hum</th>\n",
       "      <th>windspeed</th>\n",
       "      <th>cnt</th>\n",
       "    </tr>\n",
       "    <tr>\n",
       "      <th>instant</th>\n",
       "      <th></th>\n",
       "      <th></th>\n",
       "      <th></th>\n",
       "      <th></th>\n",
       "      <th></th>\n",
       "      <th></th>\n",
       "      <th></th>\n",
       "      <th></th>\n",
       "      <th></th>\n",
       "      <th></th>\n",
       "    </tr>\n",
       "  </thead>\n",
       "  <tbody>\n",
       "    <tr>\n",
       "      <th>1</th>\n",
       "      <td>Spring</td>\n",
       "      <td>Jan</td>\n",
       "      <td>0</td>\n",
       "      <td>Sat</td>\n",
       "      <td>0</td>\n",
       "      <td>Cloudy</td>\n",
       "      <td>0.363625</td>\n",
       "      <td>0.805833</td>\n",
       "      <td>0.160446</td>\n",
       "      <td>985</td>\n",
       "    </tr>\n",
       "    <tr>\n",
       "      <th>2</th>\n",
       "      <td>Spring</td>\n",
       "      <td>Jan</td>\n",
       "      <td>0</td>\n",
       "      <td>Sun</td>\n",
       "      <td>0</td>\n",
       "      <td>Cloudy</td>\n",
       "      <td>0.353739</td>\n",
       "      <td>0.696087</td>\n",
       "      <td>0.248539</td>\n",
       "      <td>801</td>\n",
       "    </tr>\n",
       "    <tr>\n",
       "      <th>3</th>\n",
       "      <td>Spring</td>\n",
       "      <td>Jan</td>\n",
       "      <td>0</td>\n",
       "      <td>Mon</td>\n",
       "      <td>1</td>\n",
       "      <td>Clear</td>\n",
       "      <td>0.189405</td>\n",
       "      <td>0.437273</td>\n",
       "      <td>0.248309</td>\n",
       "      <td>1349</td>\n",
       "    </tr>\n",
       "  </tbody>\n",
       "</table>\n",
       "</div>"
      ],
      "text/plain": [
       "         season mnth  holiday weekday  workingday weathersit     atemp  \\\n",
       "instant                                                                  \n",
       "1        Spring  Jan        0     Sat           0     Cloudy  0.363625   \n",
       "2        Spring  Jan        0     Sun           0     Cloudy  0.353739   \n",
       "3        Spring  Jan        0     Mon           1      Clear  0.189405   \n",
       "\n",
       "              hum  windspeed   cnt  \n",
       "instant                             \n",
       "1        0.805833   0.160446   985  \n",
       "2        0.696087   0.248539   801  \n",
       "3        0.437273   0.248309  1349  "
      ]
     },
     "execution_count": 5,
     "metadata": {},
     "output_type": "execute_result"
    }
   ],
   "source": [
    "data.head(3)"
   ]
  },
  {
   "cell_type": "markdown",
   "id": "29223ec7",
   "metadata": {},
   "source": [
    "### Preprocessing"
   ]
  },
  {
   "cell_type": "markdown",
   "id": "a6b1119a",
   "metadata": {},
   "source": [
    "Minimal feature engineering\n",
    "- Check missing values\n",
    "- Check distribution\n",
    "- Check correlation\n",
    "- OHE ShelveLoc for models that cannot treat categoricals\n",
    "    - will use OHEd dataset for Linear Regression, RF\n",
    "    - will use original categorical for LightGBM, CatBoost and LightAutoML"
   ]
  },
  {
   "cell_type": "code",
   "execution_count": 6,
   "id": "f8d094c9",
   "metadata": {},
   "outputs": [
    {
     "data": {
      "text/plain": [
       "True"
      ]
     },
     "execution_count": 6,
     "metadata": {},
     "output_type": "execute_result"
    }
   ],
   "source": [
    "all(data.isnull().sum() == 0)"
   ]
  },
  {
   "cell_type": "code",
   "execution_count": 7,
   "id": "61b87331",
   "metadata": {},
   "outputs": [
    {
     "data": {
      "text/html": [
       "<div>\n",
       "<style scoped>\n",
       "    .dataframe tbody tr th:only-of-type {\n",
       "        vertical-align: middle;\n",
       "    }\n",
       "\n",
       "    .dataframe tbody tr th {\n",
       "        vertical-align: top;\n",
       "    }\n",
       "\n",
       "    .dataframe thead th {\n",
       "        text-align: right;\n",
       "    }\n",
       "</style>\n",
       "<table border=\"1\" class=\"dataframe\">\n",
       "  <thead>\n",
       "    <tr style=\"text-align: right;\">\n",
       "      <th></th>\n",
       "      <th>count</th>\n",
       "      <th>mean</th>\n",
       "      <th>std</th>\n",
       "      <th>min</th>\n",
       "      <th>1%</th>\n",
       "      <th>10%</th>\n",
       "      <th>25%</th>\n",
       "      <th>50%</th>\n",
       "      <th>75%</th>\n",
       "      <th>90%</th>\n",
       "      <th>99%</th>\n",
       "      <th>max</th>\n",
       "    </tr>\n",
       "  </thead>\n",
       "  <tbody>\n",
       "    <tr>\n",
       "      <th>holiday</th>\n",
       "      <td>731.0</td>\n",
       "      <td>0.03</td>\n",
       "      <td>0.17</td>\n",
       "      <td>0.00</td>\n",
       "      <td>0.00</td>\n",
       "      <td>0.00</td>\n",
       "      <td>0.00</td>\n",
       "      <td>0.00</td>\n",
       "      <td>0.00</td>\n",
       "      <td>0.00</td>\n",
       "      <td>1.00</td>\n",
       "      <td>1.00</td>\n",
       "    </tr>\n",
       "    <tr>\n",
       "      <th>workingday</th>\n",
       "      <td>731.0</td>\n",
       "      <td>0.68</td>\n",
       "      <td>0.47</td>\n",
       "      <td>0.00</td>\n",
       "      <td>0.00</td>\n",
       "      <td>0.00</td>\n",
       "      <td>0.00</td>\n",
       "      <td>1.00</td>\n",
       "      <td>1.00</td>\n",
       "      <td>1.00</td>\n",
       "      <td>1.00</td>\n",
       "      <td>1.00</td>\n",
       "    </tr>\n",
       "    <tr>\n",
       "      <th>atemp</th>\n",
       "      <td>731.0</td>\n",
       "      <td>0.47</td>\n",
       "      <td>0.16</td>\n",
       "      <td>0.08</td>\n",
       "      <td>0.15</td>\n",
       "      <td>0.26</td>\n",
       "      <td>0.34</td>\n",
       "      <td>0.49</td>\n",
       "      <td>0.61</td>\n",
       "      <td>0.68</td>\n",
       "      <td>0.78</td>\n",
       "      <td>0.84</td>\n",
       "    </tr>\n",
       "    <tr>\n",
       "      <th>hum</th>\n",
       "      <td>731.0</td>\n",
       "      <td>0.63</td>\n",
       "      <td>0.14</td>\n",
       "      <td>0.00</td>\n",
       "      <td>0.31</td>\n",
       "      <td>0.45</td>\n",
       "      <td>0.52</td>\n",
       "      <td>0.63</td>\n",
       "      <td>0.73</td>\n",
       "      <td>0.82</td>\n",
       "      <td>0.93</td>\n",
       "      <td>0.97</td>\n",
       "    </tr>\n",
       "    <tr>\n",
       "      <th>windspeed</th>\n",
       "      <td>731.0</td>\n",
       "      <td>0.19</td>\n",
       "      <td>0.08</td>\n",
       "      <td>0.02</td>\n",
       "      <td>0.05</td>\n",
       "      <td>0.10</td>\n",
       "      <td>0.13</td>\n",
       "      <td>0.18</td>\n",
       "      <td>0.23</td>\n",
       "      <td>0.30</td>\n",
       "      <td>0.41</td>\n",
       "      <td>0.51</td>\n",
       "    </tr>\n",
       "    <tr>\n",
       "      <th>cnt</th>\n",
       "      <td>731.0</td>\n",
       "      <td>4504.35</td>\n",
       "      <td>1937.21</td>\n",
       "      <td>22.00</td>\n",
       "      <td>689.60</td>\n",
       "      <td>1746.00</td>\n",
       "      <td>3152.00</td>\n",
       "      <td>4548.00</td>\n",
       "      <td>5956.00</td>\n",
       "      <td>7290.00</td>\n",
       "      <td>8163.70</td>\n",
       "      <td>8714.00</td>\n",
       "    </tr>\n",
       "  </tbody>\n",
       "</table>\n",
       "</div>"
      ],
      "text/plain": [
       "            count     mean      std    min      1%      10%      25%      50%  \\\n",
       "holiday     731.0     0.03     0.17   0.00    0.00     0.00     0.00     0.00   \n",
       "workingday  731.0     0.68     0.47   0.00    0.00     0.00     0.00     1.00   \n",
       "atemp       731.0     0.47     0.16   0.08    0.15     0.26     0.34     0.49   \n",
       "hum         731.0     0.63     0.14   0.00    0.31     0.45     0.52     0.63   \n",
       "windspeed   731.0     0.19     0.08   0.02    0.05     0.10     0.13     0.18   \n",
       "cnt         731.0  4504.35  1937.21  22.00  689.60  1746.00  3152.00  4548.00   \n",
       "\n",
       "                75%      90%      99%      max  \n",
       "holiday        0.00     0.00     1.00     1.00  \n",
       "workingday     1.00     1.00     1.00     1.00  \n",
       "atemp          0.61     0.68     0.78     0.84  \n",
       "hum            0.73     0.82     0.93     0.97  \n",
       "windspeed      0.23     0.30     0.41     0.51  \n",
       "cnt         5956.00  7290.00  8163.70  8714.00  "
      ]
     },
     "execution_count": 7,
     "metadata": {},
     "output_type": "execute_result"
    }
   ],
   "source": [
    "data.describe(percentiles = [.01, .1, .25, .5, .75, .9, .99]).T.round(2)"
   ]
  },
  {
   "cell_type": "code",
   "execution_count": 8,
   "id": "3be50e20",
   "metadata": {},
   "outputs": [
    {
     "data": {
      "image/png": "[encoded data removed]",
      "text/plain": [
       "<Figure size 576x288 with 2 Axes>"
      ]
     },
     "metadata": {
      "needs_background": "light"
     },
     "output_type": "display_data"
    }
   ],
   "source": [
    "plot_corr(data, data.select_dtypes(exclude = 'O').columns)"
   ]
  },
  {
   "cell_type": "code",
   "execution_count": 9,
   "id": "19ba686c",
   "metadata": {},
   "outputs": [],
   "source": [
    "categoricals = data.select_dtypes('O').columns.tolist()"
   ]
  },
  {
   "cell_type": "code",
   "execution_count": 10,
   "id": "f2e11773",
   "metadata": {},
   "outputs": [],
   "source": [
    "data_OHE = pd.get_dummies(data, columns = categoricals, prefix_sep = ' = ')\n",
    "data_OHE.drop(['weathersit = Light Precip', 'season = Fall', 'weekday = Mon', 'mnth = Oct'], 1, inplace = True)"
   ]
  },
  {
   "cell_type": "markdown",
   "id": "08cb53b7",
   "metadata": {},
   "source": [
    "### Split data"
   ]
  },
  {
   "cell_type": "code",
   "execution_count": 11,
   "id": "75c34ea5",
   "metadata": {},
   "outputs": [],
   "source": [
    "TARGET = 'cnt'\n",
    "\n",
    "X = data.drop(TARGET, 1).copy()\n",
    "X_OHE = data_OHE.drop(TARGET, 1).copy()\n",
    "\n",
    "y = data[TARGET].copy()"
   ]
  },
  {
   "cell_type": "code",
   "execution_count": 12,
   "id": "60e92af6",
   "metadata": {},
   "outputs": [],
   "source": [
    "X_train, X_test, y_train, y_test = train_test_split(X, y, train_size = .8, random_state = RANDOM_STATE)\n",
    "X_OHE_train, X_OHE_test, _, _ = train_test_split(X_OHE, y, train_size = .8, random_state = RANDOM_STATE)"
   ]
  },
  {
   "cell_type": "markdown",
   "id": "06953688",
   "metadata": {},
   "source": [
    "### Apply ML models\n",
    "#### 1. Linear Regression"
   ]
  },
  {
   "cell_type": "code",
   "execution_count": 190,
   "id": "5abead82",
   "metadata": {},
   "outputs": [],
   "source": [
    "LR = LinearRegression().fit(X_OHE_train, y_train)\n",
    "LR_results = evaluate_model('Linear Regression', LR, X_OHE_test, y_test)"
   ]
  },
  {
   "cell_type": "markdown",
   "id": "73587aba",
   "metadata": {},
   "source": [
    "#### 2. Random Forest (defeault)"
   ]
  },
  {
   "cell_type": "code",
   "execution_count": 191,
   "id": "aebcb514",
   "metadata": {},
   "outputs": [],
   "source": [
    "RF = RandomForestRegressor(n_jobs = -1, random_state = RANDOM_STATE).fit(X_OHE_train, y_train)\n",
    "RF_results = evaluate_model('Random Forest (default)', RF, X_OHE_test, y_test)"
   ]
  },
  {
   "cell_type": "markdown",
   "id": "6ec15ff2",
   "metadata": {},
   "source": [
    "#### 3. Random Forest (tuned)"
   ]
  },
  {
   "cell_type": "code",
   "execution_count": 124,
   "id": "faee9365",
   "metadata": {
    "collapsed": true
   },
   "outputs": [
    {
     "name": "stdout",
     "output_type": "stream",
     "text": [
      "Wall time: 6.73 s\n"
     ]
    },
    {
     "data": {
      "text/plain": [
       "GridSearchCV(cv=3, estimator=RandomForestRegressor(n_jobs=-1, random_state=56),\n",
       "             n_jobs=-1,\n",
       "             param_grid={'max_depth': [9, 11],\n",
       "                         'max_features': [0.5, 0.6666666666666666, 0.75],\n",
       "                         'min_samples_leaf': [3], 'min_samples_split': [5],\n",
       "                         'n_estimators': [300]},\n",
       "             scoring='neg_root_mean_squared_error')"
      ]
     },
     "execution_count": 124,
     "metadata": {},
     "output_type": "execute_result"
    }
   ],
   "source": [
    "%%time\n",
    "\n",
    "RF_params = {'max_depth' : [9, 11], \n",
    "             'min_samples_split' : [5],  \n",
    "             'min_samples_leaf' : [3], \n",
    "             'max_features' : [1/2, 2/3, 3/4],\n",
    "             'n_estimators' : [300]}\n",
    "\n",
    "RF = RandomForestRegressor(random_state = RANDOM_STATE, n_jobs = -1)\n",
    "\n",
    "GRID_RF = GridSearchCV(RF, param_grid = RF_params, cv = 3, scoring = 'neg_root_mean_squared_error', n_jobs = -1)\n",
    "GRID_RF.fit(X_OHE_train, y_train)"
   ]
  },
  {
   "cell_type": "code",
   "execution_count": 126,
   "id": "28e624fd",
   "metadata": {},
   "outputs": [],
   "source": [
    "RF_GRID_results = evaluate_model('Random Forest (tuned)', GRID_RF.best_estimator_, X_OHE_test, y_test)"
   ]
  },
  {
   "cell_type": "markdown",
   "id": "134fc246",
   "metadata": {},
   "source": [
    "#### 4. LightGBM (default)"
   ]
  },
  {
   "cell_type": "code",
   "execution_count": 192,
   "id": "7ec4545a",
   "metadata": {},
   "outputs": [],
   "source": [
    "LGB = LGBMRegressor(random_state = RANDOM_STATE, \n",
    "                    objective = 'root_mean_squared_error', \n",
    "                    metric = 'root_mean_squared_error').fit(X_OHE_train, y_train)\n",
    "LGB_results = evaluate_model('LightGBM (default)', LGB, X_OHE_test, y_test)"
   ]
  },
  {
   "cell_type": "markdown",
   "id": "4d958993",
   "metadata": {},
   "source": [
    "#### 5. LightGBM (tuned)"
   ]
  },
  {
   "cell_type": "code",
   "execution_count": 241,
   "id": "096da8aa",
   "metadata": {
    "collapsed": true
   },
   "outputs": [
    {
     "name": "stdout",
     "output_type": "stream",
     "text": [
      "Wall time: 147 ms\n"
     ]
    },
    {
     "data": {
      "text/plain": [
       "GridSearchCV(cv=3,\n",
       "             estimator=LGBMRegressor(metric='root_mean_squared_error',\n",
       "                                     objective='root_mean_squared_error',\n",
       "                                     random_state=56),\n",
       "             n_jobs=-1,\n",
       "             param_grid={'boosting_type': ['goss', 'gbdt'],\n",
       "                         'colsample_bytree': [0.75], 'learning_rate': [0.05],\n",
       "                         'max_depth': [7], 'min_child_samples': [11],\n",
       "                         'n_estimators': [75], 'num_leaves': [7],\n",
       "                         'subsample': [1]},\n",
       "             scoring='neg_root_mean_squared_error')"
      ]
     },
     "execution_count": 241,
     "metadata": {},
     "output_type": "execute_result"
    }
   ],
   "source": [
    "%%time\n",
    "\n",
    "LGB_params = {'boosting_type' : ['goss', 'gbdt'],\n",
    "              'learning_rate' : [0.05],\n",
    "              'num_leaves' : [7],\n",
    "              'min_child_samples' : [11],\n",
    "              'max_depth' : [7],\n",
    "              'subsample' : [1],\n",
    "              'colsample_bytree' : [3/4],\n",
    "              'n_estimators' : [75]}\n",
    "\n",
    "LGB = LGBMRegressor(random_state = RANDOM_STATE, \n",
    "                    objective = 'root_mean_squared_error', \n",
    "                    metric = 'root_mean_squared_error')\n",
    "GRID_LGB = GridSearchCV(LGB, param_grid = LGB_params, cv = 3, scoring = 'neg_root_mean_squared_error', n_jobs = -1)\n",
    "GRID_LGB.fit(X_OHE_train, y_train)"
   ]
  },
  {
   "cell_type": "code",
   "execution_count": 244,
   "id": "d201711f",
   "metadata": {},
   "outputs": [],
   "source": [
    "LGB_GRID_results = evaluate_model('LightGBM (tuned)', GRID_LGB.best_estimator_, X_OHE_test, y_test)"
   ]
  },
  {
   "cell_type": "markdown",
   "id": "f787a5f3",
   "metadata": {},
   "source": [
    "#### 6. CatBoost (default)"
   ]
  },
  {
   "cell_type": "code",
   "execution_count": 253,
   "id": "e935a19d",
   "metadata": {},
   "outputs": [],
   "source": [
    "CB = CatBoostRegressor(random_state = RANDOM_STATE, eval_metric = 'RMSE', objective = 'RMSE',\n",
    "                       cat_features = categoricals, verbose = 0).fit(X_train, y_train)\n",
    "CB_results = evaluate_model('CatBoost (default)', CB, X_test, y_test)"
   ]
  },
  {
   "cell_type": "markdown",
   "id": "426a9650",
   "metadata": {},
   "source": [
    "#### 7. CatBoost (tuned)"
   ]
  },
  {
   "cell_type": "code",
   "execution_count": 367,
   "id": "f30a91e9",
   "metadata": {
    "collapsed": true
   },
   "outputs": [
    {
     "name": "stdout",
     "output_type": "stream",
     "text": [
      "Wall time: 1min 31s\n"
     ]
    },
    {
     "data": {
      "text/plain": [
       "GridSearchCV(cv=3,\n",
       "             estimator=<catboost.core.CatBoostRegressor object at 0x000001D3CB42D730>,\n",
       "             n_jobs=-1,\n",
       "             param_grid={'grow_policy': ['Lossguide'], 'iterations': [1000],\n",
       "                         'l2_leaf_reg': [1], 'learning_rate': [0.01],\n",
       "                         'max_depth': [9], 'max_leaves': [11],\n",
       "                         'min_data_in_leaf': [15], 'one_hot_max_size': [5],\n",
       "                         'rsm': [0.5], 'subsample': [0.8]},\n",
       "             scoring='neg_root_mean_squared_error')"
      ]
     },
     "execution_count": 367,
     "metadata": {},
     "output_type": "execute_result"
    }
   ],
   "source": [
    "%%time\n",
    "\n",
    "cat_params = {'learning_rate': [0.01],\n",
    "              'l2_leaf_reg': [1],\n",
    "              'subsample': [.8],\n",
    "              'rsm' : [1/2],\n",
    "              'max_depth': [9], # up to 16 \n",
    "              'grow_policy': ['Lossguide'], #, 'SymmetricTree', 'Depthwise'\n",
    "              'min_data_in_leaf' : [15], \n",
    "              'max_leaves' : [11],\n",
    "              'one_hot_max_size' : [5],\n",
    "              'iterations' : [1000]} \n",
    "\n",
    "cat = CatBoostRegressor(random_state = RANDOM_STATE, eval_metric = 'RMSE', objective = 'RMSE',\n",
    "                        cat_features = categoricals, verbose = 0)\n",
    "\n",
    "GRID_cat = GridSearchCV(cat, param_grid = cat_params, cv = 3, scoring = 'neg_root_mean_squared_error', n_jobs = -1)\n",
    "GRID_cat.fit(X_train, y_train)"
   ]
  },
  {
   "cell_type": "code",
   "execution_count": 368,
   "id": "43910774",
   "metadata": {},
   "outputs": [],
   "source": [
    "CB_GRID_results = evaluate_model('CatBoost (tuned)', GRID_cat.best_estimator_, X_test, y_test)"
   ]
  },
  {
   "cell_type": "markdown",
   "id": "909aee03",
   "metadata": {},
   "source": [
    "### Compare models built so far - peformances are calculated on test set"
   ]
  },
  {
   "cell_type": "code",
   "execution_count": 370,
   "id": "c39edd24",
   "metadata": {},
   "outputs": [
    {
     "data": {
      "text/html": [
       "<div>\n",
       "<style scoped>\n",
       "    .dataframe tbody tr th:only-of-type {\n",
       "        vertical-align: middle;\n",
       "    }\n",
       "\n",
       "    .dataframe tbody tr th {\n",
       "        vertical-align: top;\n",
       "    }\n",
       "\n",
       "    .dataframe thead th {\n",
       "        text-align: right;\n",
       "    }\n",
       "</style>\n",
       "<table border=\"1\" class=\"dataframe\">\n",
       "  <thead>\n",
       "    <tr style=\"text-align: right;\">\n",
       "      <th></th>\n",
       "      <th>Model</th>\n",
       "      <th>r2</th>\n",
       "      <th>RMSE</th>\n",
       "      <th>MAE</th>\n",
       "      <th>MAPE</th>\n",
       "    </tr>\n",
       "  </thead>\n",
       "  <tbody>\n",
       "    <tr>\n",
       "      <th>0</th>\n",
       "      <td>Random Forest (tuned)</td>\n",
       "      <td>0.582087</td>\n",
       "      <td>1237.865199</td>\n",
       "      <td>1069.528417</td>\n",
       "      <td>28.051760</td>\n",
       "    </tr>\n",
       "    <tr>\n",
       "      <th>0</th>\n",
       "      <td>CatBoost (tuned)</td>\n",
       "      <td>0.579263</td>\n",
       "      <td>1242.040713</td>\n",
       "      <td>1081.442023</td>\n",
       "      <td>27.705847</td>\n",
       "    </tr>\n",
       "    <tr>\n",
       "      <th>0</th>\n",
       "      <td>LightGBM (tuned)</td>\n",
       "      <td>0.569335</td>\n",
       "      <td>1256.608811</td>\n",
       "      <td>1094.171345</td>\n",
       "      <td>28.637821</td>\n",
       "    </tr>\n",
       "    <tr>\n",
       "      <th>0</th>\n",
       "      <td>CatBoost (default)</td>\n",
       "      <td>0.564596</td>\n",
       "      <td>1263.504282</td>\n",
       "      <td>1080.628645</td>\n",
       "      <td>27.179839</td>\n",
       "    </tr>\n",
       "    <tr>\n",
       "      <th>0</th>\n",
       "      <td>Random Forest (default)</td>\n",
       "      <td>0.559479</td>\n",
       "      <td>1270.907274</td>\n",
       "      <td>1085.378163</td>\n",
       "      <td>28.276113</td>\n",
       "    </tr>\n",
       "    <tr>\n",
       "      <th>0</th>\n",
       "      <td>Linear Regression</td>\n",
       "      <td>0.517106</td>\n",
       "      <td>1330.626777</td>\n",
       "      <td>1183.931973</td>\n",
       "      <td>31.766967</td>\n",
       "    </tr>\n",
       "    <tr>\n",
       "      <th>0</th>\n",
       "      <td>LightGBM (default)</td>\n",
       "      <td>0.505294</td>\n",
       "      <td>1346.802943</td>\n",
       "      <td>1128.937071</td>\n",
       "      <td>28.277523</td>\n",
       "    </tr>\n",
       "  </tbody>\n",
       "</table>\n",
       "</div>"
      ],
      "text/plain": [
       "                     Model        r2         RMSE          MAE       MAPE\n",
       "0    Random Forest (tuned)  0.582087  1237.865199  1069.528417  28.051760\n",
       "0         CatBoost (tuned)  0.579263  1242.040713  1081.442023  27.705847\n",
       "0         LightGBM (tuned)  0.569335  1256.608811  1094.171345  28.637821\n",
       "0       CatBoost (default)  0.564596  1263.504282  1080.628645  27.179839\n",
       "0  Random Forest (default)  0.559479  1270.907274  1085.378163  28.276113\n",
       "0        Linear Regression  0.517106  1330.626777  1183.931973  31.766967\n",
       "0       LightGBM (default)  0.505294  1346.802943  1128.937071  28.277523"
      ]
     },
     "execution_count": 370,
     "metadata": {},
     "output_type": "execute_result"
    }
   ],
   "source": [
    "results = pd.concat([LR_results, \n",
    "                     RF_results, \n",
    "                     RF_GRID_results, \n",
    "                     LGB_results, \n",
    "                     LGB_GRID_results,\n",
    "                     CB_results,\n",
    "                     CB_GRID_results]).sort_values('RMSE')\n",
    "results"
   ]
  },
  {
   "cell_type": "markdown",
   "id": "c1d0ad5e",
   "metadata": {},
   "source": [
    "Takeaways:\n",
    "1. Tuned models perform better than default models\n",
    "2. Of the default models CatBoost is best, LightGBM is worst\n",
    "3. Overall best is tuned Random Forest"
   ]
  },
  {
   "cell_type": "markdown",
   "id": "b55ed44b",
   "metadata": {},
   "source": [
    "Now let's see what LightAutoML can achieve. Applying the default models and tuning them took around ~3 hours overall. I will set a time limit for the AutoML model and see how good of a model it can build in such period.\n",
    "\n",
    "### Running LightAutoML"
   ]
  },
  {
   "cell_type": "code",
   "execution_count": 13,
   "id": "4e87229f",
   "metadata": {},
   "outputs": [],
   "source": [
    "from lightautoml.automl.presets.tabular_presets import TabularAutoML, TabularUtilizedAutoML\n",
    "from lightautoml.tasks import Task\n",
    "from lightautoml.report.report_deco import ReportDeco"
   ]
  },
  {
   "cell_type": "code",
   "execution_count": 14,
   "id": "174be099",
   "metadata": {},
   "outputs": [],
   "source": [
    "N_THREADS = 4\n",
    "N_FOLDS = 5\n",
    "TIMEOUT = 600"
   ]
  },
  {
   "cell_type": "markdown",
   "id": "9b7c7ce1",
   "metadata": {},
   "source": [
    "Specify Task object - what is the objective? (https://lightautoml.readthedocs.io/en/latest/generated/lightautoml.tasks.base.Task.html)"
   ]
  },
  {
   "cell_type": "code",
   "execution_count": 15,
   "id": "f5b178c7",
   "metadata": {},
   "outputs": [],
   "source": [
    "task = Task('reg', loss = 'mse', metric = 'mse')"
   ]
  },
  {
   "cell_type": "markdown",
   "id": "940299b5",
   "metadata": {},
   "source": [
    "Specify roles - what are our feature types? (https://github.com/sberbank-ai-lab/LightAutoML/blob/master/lightautoml/dataset/roles.py)"
   ]
  },
  {
   "cell_type": "code",
   "execution_count": 16,
   "id": "88b02633",
   "metadata": {},
   "outputs": [],
   "source": [
    "roles = {\n",
    "    \n",
    "    #'drop': ['Id'],\n",
    "    'target': TARGET,\n",
    "    #'numeric' : ,\n",
    "    'category' : categoricals,\n",
    "\n",
    "}"
   ]
  },
  {
   "cell_type": "markdown",
   "id": "9f0a3bde",
   "metadata": {},
   "source": [
    "LightAutoML doesn't need X-y split"
   ]
  },
  {
   "cell_type": "code",
   "execution_count": 17,
   "id": "e46bedad",
   "metadata": {},
   "outputs": [],
   "source": [
    "train = pd.concat([X_train, y_train], 1)\n",
    "test = pd.concat([X_test, y_test], 1)"
   ]
  },
  {
   "cell_type": "markdown",
   "id": "688997d8",
   "metadata": {},
   "source": [
    "#### Create trainer #1: default automl model"
   ]
  },
  {
   "cell_type": "code",
   "execution_count": 18,
   "id": "d301840a",
   "metadata": {},
   "outputs": [],
   "source": [
    "automl = TabularAutoML(task = task, \n",
    "                       cpu_limit = N_THREADS,\n",
    "                       reader_params = {'n_jobs': N_THREADS, 'cv': N_FOLDS, 'random_state': RANDOM_STATE},\n",
    "                       general_params = {'use_algos': [['linear_l2', 'lgb', 'lgb_tuned']]})"
   ]
  },
  {
   "cell_type": "markdown",
   "id": "9f21c74b",
   "metadata": {},
   "source": [
    "Fit and predict"
   ]
  },
  {
   "cell_type": "code",
   "execution_count": 594,
   "id": "29115f02",
   "metadata": {},
   "outputs": [
    {
     "name": "stdout",
     "output_type": "stream",
     "text": [
      "Wall time: 1min 53s\n"
     ]
    }
   ],
   "source": [
    "%%time\n",
    "oof_pred = automl.fit_predict(train, roles = roles)"
   ]
  },
  {
   "cell_type": "code",
   "execution_count": 65,
   "id": "bf027b2e",
   "metadata": {},
   "outputs": [
    {
     "data": {
      "text/plain": [
       "{'task': 'train',\n",
       " 'learning_rate': 0.05,\n",
       " 'num_leaves': 186,\n",
       " 'feature_fraction': 0.5219198222302963,\n",
       " 'bagging_fraction': 0.6777417573880359,\n",
       " 'bagging_freq': 1,\n",
       " 'max_depth': -1,\n",
       " 'verbosity': -1,\n",
       " 'reg_alpha': 0.0010708391025277206,\n",
       " 'reg_lambda': 0.012272526528401703,\n",
       " 'min_split_gain': 0.0,\n",
       " 'zero_as_missing': False,\n",
       " 'num_threads': 4,\n",
       " 'max_bin': 255,\n",
       " 'min_data_in_bin': 3,\n",
       " 'random_state': 42,\n",
       " 'min_sum_hessian_in_leaf': 0.32606538739736407,\n",
       " 'objective': 'regression',\n",
       " 'metric': 'mse',\n",
       " 'num_class': 1}"
      ]
     },
     "execution_count": 65,
     "metadata": {},
     "output_type": "execute_result"
    }
   ],
   "source": [
    "# how to reach actual model:\n",
    "automl.levels[0][1].ml_algos[1].models[0].params"
   ]
  },
  {
   "cell_type": "markdown",
   "id": "bcd75e21",
   "metadata": {},
   "source": [
    "Check OOF performance - for AutoML, instead of train performance we need to check OOF performance (validation-like set)"
   ]
  },
  {
   "cell_type": "code",
   "execution_count": 435,
   "id": "2248b4ef",
   "metadata": {},
   "outputs": [
    {
     "data": {
      "text/plain": [
       "1133.3989046924692"
      ]
     },
     "execution_count": 435,
     "metadata": {},
     "output_type": "execute_result"
    }
   ],
   "source": [
    "mean_squared_error(oof_pred.target, oof_pred.data[:,0], squared = False)"
   ]
  },
  {
   "cell_type": "markdown",
   "id": "4ba268ba",
   "metadata": {},
   "source": [
    "Calculate test performance"
   ]
  },
  {
   "cell_type": "code",
   "execution_count": 436,
   "id": "3cbe6352",
   "metadata": {},
   "outputs": [],
   "source": [
    "AUTOML_DEFAULT_RESULTS = evaluate_model('AutoML (default train time)', automl, test, test[TARGET], automl = True)"
   ]
  },
  {
   "cell_type": "markdown",
   "id": "1df0524c",
   "metadata": {},
   "source": [
    "#### Create trainer #2: force 10 minutes of training time"
   ]
  },
  {
   "cell_type": "code",
   "execution_count": 457,
   "id": "2245cc34",
   "metadata": {},
   "outputs": [],
   "source": [
    "automl = TabularUtilizedAutoML(task = task, \n",
    "                               timeout = TIMEOUT,\n",
    "                               cpu_limit = N_THREADS,\n",
    "                               reader_params = {'n_jobs': N_THREADS, 'cv': N_FOLDS, 'random_state': RANDOM_STATE},\n",
    "                               general_params = {'use_algos': [['linear_l2', 'lgb', 'lgb_tuned']]})"
   ]
  },
  {
   "cell_type": "markdown",
   "id": "6a58f8eb",
   "metadata": {},
   "source": [
    "Fit, predict, check performances"
   ]
  },
  {
   "cell_type": "code",
   "execution_count": 458,
   "id": "974c2155",
   "metadata": {},
   "outputs": [
    {
     "name": "stdout",
     "output_type": "stream",
     "text": [
      "Wall time: 8min 1s\n"
     ]
    }
   ],
   "source": [
    "%%time\n",
    "oof_pred = automl.fit_predict(train, roles = roles)"
   ]
  },
  {
   "cell_type": "code",
   "execution_count": 459,
   "id": "dfb5d1e2",
   "metadata": {},
   "outputs": [
    {
     "data": {
      "text/plain": [
       "1147.020985551855"
      ]
     },
     "execution_count": 459,
     "metadata": {},
     "output_type": "execute_result"
    }
   ],
   "source": [
    "mean_squared_error(oof_pred.target, oof_pred.data[:,0], squared = False)"
   ]
  },
  {
   "cell_type": "code",
   "execution_count": 460,
   "id": "962252c3",
   "metadata": {},
   "outputs": [],
   "source": [
    "AUTOML_UTILIZED_RESULTS = evaluate_model('AutoML (10 minutes)', automl, test, test[TARGET], automl = True)"
   ]
  },
  {
   "cell_type": "markdown",
   "id": "40e8deae",
   "metadata": {},
   "source": [
    "#### Create trainer #3: add catboost_default, add second level l2 and lgb models, set to 20 minutes"
   ]
  },
  {
   "cell_type": "code",
   "execution_count": 530,
   "id": "f886ccc2",
   "metadata": {},
   "outputs": [],
   "source": [
    "automl = TabularUtilizedAutoML(task = task, \n",
    "                               timeout = 60 * 20,\n",
    "                               cpu_limit = N_THREADS,\n",
    "                               reader_params = {'n_jobs': N_THREADS, 'cv': N_FOLDS, 'random_state': RANDOM_STATE},\n",
    "                               general_params = {'use_algos': [['linear_l2', 'lgb', 'lgb_tuned', 'cb'], ['linear_l2', 'lgb']]})"
   ]
  },
  {
   "cell_type": "markdown",
   "id": "91b138ae",
   "metadata": {},
   "source": [
    "Fit, predict, check performances"
   ]
  },
  {
   "cell_type": "code",
   "execution_count": 531,
   "id": "3e655682",
   "metadata": {},
   "outputs": [
    {
     "name": "stdout",
     "output_type": "stream",
     "text": [
      "Wall time: 18min 34s\n"
     ]
    }
   ],
   "source": [
    "%%time\n",
    "oof_pred = automl.fit_predict(train, roles = roles)"
   ]
  },
  {
   "cell_type": "code",
   "execution_count": 532,
   "id": "1ff4f7fa",
   "metadata": {},
   "outputs": [
    {
     "data": {
      "text/plain": [
       "1124.9682922449836"
      ]
     },
     "execution_count": 532,
     "metadata": {},
     "output_type": "execute_result"
    }
   ],
   "source": [
    "mean_squared_error(oof_pred.target, oof_pred.data[:,0], squared = False)"
   ]
  },
  {
   "cell_type": "code",
   "execution_count": 533,
   "id": "9d631519",
   "metadata": {},
   "outputs": [],
   "source": [
    "AUTOML_UTILIZED_MULTILEVEL_RESULTS = evaluate_model('AutoML (20 minutes, multilevel)', automl, test, test[TARGET], automl = True)"
   ]
  },
  {
   "cell_type": "markdown",
   "id": "e8896b42",
   "metadata": {},
   "source": [
    "#### Create trainer #4: add catboost_tuned to 1st level and set 1 hour"
   ]
  },
  {
   "cell_type": "code",
   "execution_count": 648,
   "id": "ce706895",
   "metadata": {},
   "outputs": [],
   "source": [
    "automl_long = TabularUtilizedAutoML(task = task, \n",
    "                               timeout = 60 * 60,\n",
    "                               cpu_limit = N_THREADS,\n",
    "                               reader_params = {'n_jobs': N_THREADS, 'cv': N_FOLDS, 'random_state': RANDOM_STATE},\n",
    "                               general_params = {'use_algos': [['linear_l2', 'lgb', 'lgb_tuned', 'cb', 'cb_tuned'], ['linear_l2', 'lgb']]})"
   ]
  },
  {
   "cell_type": "code",
   "execution_count": 649,
   "id": "c1f156ee",
   "metadata": {},
   "outputs": [
    {
     "name": "stdout",
     "output_type": "stream",
     "text": [
      "Wall time: 56min 3s\n"
     ]
    }
   ],
   "source": [
    "%%time\n",
    "oof_pred = automl_long.fit_predict(train, roles = roles)"
   ]
  },
  {
   "cell_type": "code",
   "execution_count": 650,
   "id": "735991f1",
   "metadata": {},
   "outputs": [
    {
     "data": {
      "text/plain": [
       "1115.886763045505"
      ]
     },
     "execution_count": 650,
     "metadata": {},
     "output_type": "execute_result"
    }
   ],
   "source": [
    "mean_squared_error(oof_pred.target, oof_pred.data[:,0], squared = False)"
   ]
  },
  {
   "cell_type": "code",
   "execution_count": 651,
   "id": "fe85aac1",
   "metadata": {},
   "outputs": [],
   "source": [
    "AUTOML_UTILIZED_MULTILEVEL_LONG_RESULTS = evaluate_model('AutoML (1hr, multilevel)', automl_long, test, test[TARGET], automl = True)"
   ]
  },
  {
   "cell_type": "code",
   "execution_count": null,
   "id": "138000ab",
   "metadata": {},
   "outputs": [],
   "source": []
  },
  {
   "cell_type": "code",
   "execution_count": null,
   "id": "00f1e11c",
   "metadata": {},
   "outputs": [],
   "source": []
  },
  {
   "cell_type": "markdown",
   "id": "9ceb44e6",
   "metadata": {},
   "source": [
    "### Compare final results"
   ]
  },
  {
   "cell_type": "code",
   "execution_count": 655,
   "id": "71cd2adc",
   "metadata": {},
   "outputs": [
    {
     "data": {
      "text/html": [
       "<style  type=\"text/css\" >\n",
       "#T_60530_row0_col0,#T_60530_row1_col0,#T_60530_row3_col0,#T_60530_row4_col0{\n",
       "            background-color:  yellow;\n",
       "        }#T_60530_row0_col1,#T_60530_row0_col2,#T_60530_row2_col3,#T_60530_row7_col4{\n",
       "            background-color:  lightgreen;\n",
       "        }#T_60530_row9_col3,#T_60530_row9_col4,#T_60530_row10_col1,#T_60530_row10_col2{\n",
       "            background-color:  red;\n",
       "        }</style><table id=\"T_60530_\" ><thead>    <tr>        <th class=\"blank level0\" ></th>        <th class=\"col_heading level0 col0\" >Model</th>        <th class=\"col_heading level0 col1\" >r2</th>        <th class=\"col_heading level0 col2\" >RMSE</th>        <th class=\"col_heading level0 col3\" >MAE</th>        <th class=\"col_heading level0 col4\" >MAPE</th>    </tr></thead><tbody>\n",
       "                <tr>\n",
       "                        <th id=\"T_60530_level0_row0\" class=\"row_heading level0 row0\" >0</th>\n",
       "                        <td id=\"T_60530_row0_col0\" class=\"data row0 col0\" >AutoML (1hr, multilevel)</td>\n",
       "                        <td id=\"T_60530_row0_col1\" class=\"data row0 col1\" >0.582715</td>\n",
       "                        <td id=\"T_60530_row0_col2\" class=\"data row0 col2\" >1236.934613</td>\n",
       "                        <td id=\"T_60530_row0_col3\" class=\"data row0 col3\" >1088.505232</td>\n",
       "                        <td id=\"T_60530_row0_col4\" class=\"data row0 col4\" >27.608396</td>\n",
       "            </tr>\n",
       "            <tr>\n",
       "                        <th id=\"T_60530_level0_row1\" class=\"row_heading level0 row1\" >1</th>\n",
       "                        <td id=\"T_60530_row1_col0\" class=\"data row1 col0\" >AutoML (20 minutes, multilevel)</td>\n",
       "                        <td id=\"T_60530_row1_col1\" class=\"data row1 col1\" >0.582589</td>\n",
       "                        <td id=\"T_60530_row1_col2\" class=\"data row1 col2\" >1237.121003</td>\n",
       "                        <td id=\"T_60530_row1_col3\" class=\"data row1 col3\" >1090.139478</td>\n",
       "                        <td id=\"T_60530_row1_col4\" class=\"data row1 col4\" >27.764973</td>\n",
       "            </tr>\n",
       "            <tr>\n",
       "                        <th id=\"T_60530_level0_row2\" class=\"row_heading level0 row2\" >2</th>\n",
       "                        <td id=\"T_60530_row2_col0\" class=\"data row2 col0\" >Random Forest (tuned)</td>\n",
       "                        <td id=\"T_60530_row2_col1\" class=\"data row2 col1\" >0.582087</td>\n",
       "                        <td id=\"T_60530_row2_col2\" class=\"data row2 col2\" >1237.865199</td>\n",
       "                        <td id=\"T_60530_row2_col3\" class=\"data row2 col3\" >1069.528417</td>\n",
       "                        <td id=\"T_60530_row2_col4\" class=\"data row2 col4\" >28.051760</td>\n",
       "            </tr>\n",
       "            <tr>\n",
       "                        <th id=\"T_60530_level0_row3\" class=\"row_heading level0 row3\" >3</th>\n",
       "                        <td id=\"T_60530_row3_col0\" class=\"data row3 col0\" >AutoML (10 minutes)</td>\n",
       "                        <td id=\"T_60530_row3_col1\" class=\"data row3 col1\" >0.581427</td>\n",
       "                        <td id=\"T_60530_row3_col2\" class=\"data row3 col2\" >1238.842395</td>\n",
       "                        <td id=\"T_60530_row3_col3\" class=\"data row3 col3\" >1093.143252</td>\n",
       "                        <td id=\"T_60530_row3_col4\" class=\"data row3 col4\" >28.615964</td>\n",
       "            </tr>\n",
       "            <tr>\n",
       "                        <th id=\"T_60530_level0_row4\" class=\"row_heading level0 row4\" >4</th>\n",
       "                        <td id=\"T_60530_row4_col0\" class=\"data row4 col0\" >AutoML (default train time)</td>\n",
       "                        <td id=\"T_60530_row4_col1\" class=\"data row4 col1\" >0.580046</td>\n",
       "                        <td id=\"T_60530_row4_col2\" class=\"data row4 col2\" >1240.883736</td>\n",
       "                        <td id=\"T_60530_row4_col3\" class=\"data row4 col3\" >1090.435306</td>\n",
       "                        <td id=\"T_60530_row4_col4\" class=\"data row4 col4\" >28.441077</td>\n",
       "            </tr>\n",
       "            <tr>\n",
       "                        <th id=\"T_60530_level0_row5\" class=\"row_heading level0 row5\" >5</th>\n",
       "                        <td id=\"T_60530_row5_col0\" class=\"data row5 col0\" >CatBoost (tuned)</td>\n",
       "                        <td id=\"T_60530_row5_col1\" class=\"data row5 col1\" >0.579263</td>\n",
       "                        <td id=\"T_60530_row5_col2\" class=\"data row5 col2\" >1242.040713</td>\n",
       "                        <td id=\"T_60530_row5_col3\" class=\"data row5 col3\" >1081.442023</td>\n",
       "                        <td id=\"T_60530_row5_col4\" class=\"data row5 col4\" >27.705847</td>\n",
       "            </tr>\n",
       "            <tr>\n",
       "                        <th id=\"T_60530_level0_row6\" class=\"row_heading level0 row6\" >6</th>\n",
       "                        <td id=\"T_60530_row6_col0\" class=\"data row6 col0\" >LightGBM (tuned)</td>\n",
       "                        <td id=\"T_60530_row6_col1\" class=\"data row6 col1\" >0.569335</td>\n",
       "                        <td id=\"T_60530_row6_col2\" class=\"data row6 col2\" >1256.608811</td>\n",
       "                        <td id=\"T_60530_row6_col3\" class=\"data row6 col3\" >1094.171345</td>\n",
       "                        <td id=\"T_60530_row6_col4\" class=\"data row6 col4\" >28.637821</td>\n",
       "            </tr>\n",
       "            <tr>\n",
       "                        <th id=\"T_60530_level0_row7\" class=\"row_heading level0 row7\" >7</th>\n",
       "                        <td id=\"T_60530_row7_col0\" class=\"data row7 col0\" >CatBoost (default)</td>\n",
       "                        <td id=\"T_60530_row7_col1\" class=\"data row7 col1\" >0.564596</td>\n",
       "                        <td id=\"T_60530_row7_col2\" class=\"data row7 col2\" >1263.504282</td>\n",
       "                        <td id=\"T_60530_row7_col3\" class=\"data row7 col3\" >1080.628645</td>\n",
       "                        <td id=\"T_60530_row7_col4\" class=\"data row7 col4\" >27.179839</td>\n",
       "            </tr>\n",
       "            <tr>\n",
       "                        <th id=\"T_60530_level0_row8\" class=\"row_heading level0 row8\" >8</th>\n",
       "                        <td id=\"T_60530_row8_col0\" class=\"data row8 col0\" >Random Forest (default)</td>\n",
       "                        <td id=\"T_60530_row8_col1\" class=\"data row8 col1\" >0.559479</td>\n",
       "                        <td id=\"T_60530_row8_col2\" class=\"data row8 col2\" >1270.907274</td>\n",
       "                        <td id=\"T_60530_row8_col3\" class=\"data row8 col3\" >1085.378163</td>\n",
       "                        <td id=\"T_60530_row8_col4\" class=\"data row8 col4\" >28.276113</td>\n",
       "            </tr>\n",
       "            <tr>\n",
       "                        <th id=\"T_60530_level0_row9\" class=\"row_heading level0 row9\" >9</th>\n",
       "                        <td id=\"T_60530_row9_col0\" class=\"data row9 col0\" >Linear Regression</td>\n",
       "                        <td id=\"T_60530_row9_col1\" class=\"data row9 col1\" >0.517106</td>\n",
       "                        <td id=\"T_60530_row9_col2\" class=\"data row9 col2\" >1330.626777</td>\n",
       "                        <td id=\"T_60530_row9_col3\" class=\"data row9 col3\" >1183.931973</td>\n",
       "                        <td id=\"T_60530_row9_col4\" class=\"data row9 col4\" >31.766967</td>\n",
       "            </tr>\n",
       "            <tr>\n",
       "                        <th id=\"T_60530_level0_row10\" class=\"row_heading level0 row10\" >10</th>\n",
       "                        <td id=\"T_60530_row10_col0\" class=\"data row10 col0\" >LightGBM (default)</td>\n",
       "                        <td id=\"T_60530_row10_col1\" class=\"data row10 col1\" >0.505294</td>\n",
       "                        <td id=\"T_60530_row10_col2\" class=\"data row10 col2\" >1346.802943</td>\n",
       "                        <td id=\"T_60530_row10_col3\" class=\"data row10 col3\" >1128.937071</td>\n",
       "                        <td id=\"T_60530_row10_col4\" class=\"data row10 col4\" >28.277523</td>\n",
       "            </tr>\n",
       "    </tbody></table>"
      ],
      "text/plain": [
       "<pandas.io.formats.style.Styler at 0x1d3cd19b820>"
      ]
     },
     "execution_count": 655,
     "metadata": {},
     "output_type": "execute_result"
    }
   ],
   "source": [
    "final_results = pd.concat([results, \n",
    "                           AUTOML_DEFAULT_RESULTS,\n",
    "                           AUTOML_UTILIZED_RESULTS,\n",
    "                           AUTOML_UTILIZED_MULTILEVEL_RESULTS,\n",
    "                           AUTOML_UTILIZED_MULTILEVEL_LONG_RESULTS]).sort_values('RMSE')\n",
    "final_results.reset_index(drop = True, inplace = True)\n",
    "\n",
    "final_results.style \\\n",
    "    .highlight_max('r2', color = 'lightgreen') \\\n",
    "    .highlight_min('r2', color = 'red')\\\n",
    "    .highlight_max(['RMSE', 'MAE', 'MAPE'], color = 'red')\\\n",
    "    .highlight_min(['RMSE', 'MAE', 'MAPE'], color = 'lightgreen')\\\n",
    "    .where(lambda val: 'AutoML' in str(val), 'background-color: yellow', subset=['Model'])"
   ]
  },
  {
   "cell_type": "code",
   "execution_count": null,
   "id": "fc928431",
   "metadata": {},
   "outputs": [],
   "source": []
  },
  {
   "cell_type": "markdown",
   "id": "3be4b3b5",
   "metadata": {},
   "source": [
    "## Open LightAutoML model"
   ]
  },
  {
   "cell_type": "markdown",
   "id": "3de25657",
   "metadata": {},
   "source": [
    "Model structure - default"
   ]
  },
  {
   "cell_type": "code",
   "execution_count": 475,
   "id": "a8346563",
   "metadata": {},
   "outputs": [
    {
     "name": "stdout",
     "output_type": "stream",
     "text": [
      "Final prediction for new objects = \n",
      "\t0.75295 * 1 averaged models with config = \"C:\\Users\\krist\\anaconda3\\lib\\site-packages\\lightautoml\\automl\\presets\\tabular_configs\\conf_0_sel_type_0.yml\" and different CV random_states. Their structures: \n",
      "\n",
      "\t    Model #0.\n",
      "\t\t================================================================================\n",
      "\t\tFinal prediction for new objects (level 0) = \n",
      "\t\t\t 0.34495 * (5 averaged models Lvl_0_Pipe_0_Mod_0_LinearL2) +\n",
      "\t\t\t 0.50553 * (5 averaged models Lvl_0_Pipe_1_Mod_0_LightGBM) +\n",
      "\t\t\t 0.14952 * (5 averaged models Lvl_0_Pipe_1_Mod_1_Tuned_LightGBM) \n",
      "\t\t================================================================================\n",
      "\n",
      "\n",
      "\t+ 0.24705 * 1 averaged models with config = \"C:\\Users\\krist\\anaconda3\\lib\\site-packages\\lightautoml\\automl\\presets\\tabular_configs\\conf_1_sel_type_1.yml\" and different CV random_states. Their structures: \n",
      "\n",
      "\t    Model #0.\n",
      "\t\t================================================================================\n",
      "\t\tFinal prediction for new objects (level 0) = \n",
      "\t\t\t 0.35957 * (5 averaged models Lvl_0_Pipe_0_Mod_0_LinearL2) +\n",
      "\t\t\t 0.34028 * (5 averaged models Lvl_0_Pipe_1_Mod_0_LightGBM) +\n",
      "\t\t\t 0.30015 * (5 averaged models Lvl_0_Pipe_1_Mod_1_Tuned_LightGBM) \n",
      "\t\t================================================================================\n",
      "\n",
      "\n",
      "\n"
     ]
    }
   ],
   "source": [
    "print(automl.create_model_str_desc())"
   ]
  },
  {
   "cell_type": "markdown",
   "id": "cb970185",
   "metadata": {},
   "source": [
    "Model structure - 2 levels with CatBoost, Catboost tuned"
   ]
  },
  {
   "cell_type": "code",
   "execution_count": 656,
   "id": "01cc5139",
   "metadata": {},
   "outputs": [
    {
     "name": "stdout",
     "output_type": "stream",
     "text": [
      "Final prediction for new objects = \n",
      "\t0.27090 * 2 averaged models with config = \"C:\\Users\\krist\\anaconda3\\lib\\site-packages\\lightautoml\\automl\\presets\\tabular_configs\\conf_2_select_mode_1_no_typ.yml\" and different CV random_states. Their structures: \n",
      "\n",
      "\t    Model #0.\n",
      "\t\t================================================================================\n",
      "\t\tModels on level 0:\n",
      "\t\t\t 5 averaged models Lvl_0_Pipe_0_Mod_0_LinearL2\n",
      "\t\t\t 5 averaged models Lvl_0_Pipe_1_Mod_0_LightGBM\n",
      "\t\t\t 5 averaged models Lvl_0_Pipe_1_Mod_1_Tuned_LightGBM\n",
      "\t\t\t 5 averaged models Lvl_0_Pipe_1_Mod_2_CatBoost\n",
      "\t\t\t 5 averaged models Lvl_0_Pipe_1_Mod_3_Tuned_CatBoost\n",
      "\n",
      "\t\tFinal prediction for new objects (level 1) = \n",
      "\t\t\t 0.34038 * (5 averaged models Lvl_1_Pipe_0_Mod_0_LinearL2) +\n",
      "\t\t\t 0.65962 * (5 averaged models Lvl_1_Pipe_1_Mod_0_LightGBM) \n",
      "\t\t================================================================================\n",
      "\n",
      "\n",
      "\t    Model #1.\n",
      "\t\t================================================================================\n",
      "\t\tModels on level 0:\n",
      "\t\t\t 5 averaged models Lvl_0_Pipe_0_Mod_0_LinearL2\n",
      "\t\t\t 5 averaged models Lvl_0_Pipe_1_Mod_0_LightGBM\n",
      "\t\t\t 5 averaged models Lvl_0_Pipe_1_Mod_1_Tuned_LightGBM\n",
      "\t\t\t 5 averaged models Lvl_0_Pipe_1_Mod_2_CatBoost\n",
      "\t\t\t 5 averaged models Lvl_0_Pipe_1_Mod_3_Tuned_CatBoost\n",
      "\n",
      "\t\tFinal prediction for new objects (level 1) = \n",
      "\t\t\t 0.67040 * (5 averaged models Lvl_1_Pipe_0_Mod_0_LinearL2) +\n",
      "\t\t\t 0.32960 * (5 averaged models Lvl_1_Pipe_1_Mod_0_LightGBM) \n",
      "\t\t================================================================================\n",
      "\n",
      "\n",
      "\t+ 0.26851 * 2 averaged models with config = \"C:\\Users\\krist\\anaconda3\\lib\\site-packages\\lightautoml\\automl\\presets\\tabular_configs\\conf_4_sel_type_0_no_int.yml\" and different CV random_states. Their structures: \n",
      "\n",
      "\t    Model #0.\n",
      "\t\t================================================================================\n",
      "\t\tModels on level 0:\n",
      "\t\t\t 5 averaged models Lvl_0_Pipe_0_Mod_0_LinearL2\n",
      "\t\t\t 5 averaged models Lvl_0_Pipe_1_Mod_0_LightGBM\n",
      "\t\t\t 5 averaged models Lvl_0_Pipe_1_Mod_1_Tuned_LightGBM\n",
      "\t\t\t 5 averaged models Lvl_0_Pipe_1_Mod_2_CatBoost\n",
      "\t\t\t 5 averaged models Lvl_0_Pipe_1_Mod_3_Tuned_CatBoost\n",
      "\n",
      "\t\tFinal prediction for new objects (level 1) = \n",
      "\t\t\t 1.00000 * (5 averaged models Lvl_1_Pipe_0_Mod_0_LinearL2) \n",
      "\t\t================================================================================\n",
      "\n",
      "\n",
      "\t    Model #1.\n",
      "\t\t================================================================================\n",
      "\t\tModels on level 0:\n",
      "\t\t\t 5 averaged models Lvl_0_Pipe_0_Mod_0_LinearL2\n",
      "\t\t\t 5 averaged models Lvl_0_Pipe_1_Mod_0_LightGBM\n",
      "\t\t\t 5 averaged models Lvl_0_Pipe_1_Mod_1_Tuned_LightGBM\n",
      "\t\t\t 5 averaged models Lvl_0_Pipe_1_Mod_2_CatBoost\n",
      "\t\t\t 5 averaged models Lvl_0_Pipe_1_Mod_3_Tuned_CatBoost\n",
      "\n",
      "\t\tFinal prediction for new objects (level 1) = \n",
      "\t\t\t 0.83961 * (5 averaged models Lvl_1_Pipe_0_Mod_0_LinearL2) +\n",
      "\t\t\t 0.16039 * (5 averaged models Lvl_1_Pipe_1_Mod_0_LightGBM) \n",
      "\t\t================================================================================\n",
      "\n",
      "\n",
      "\t+ 0.46060 * 2 averaged models with config = \"C:\\Users\\krist\\anaconda3\\lib\\site-packages\\lightautoml\\automl\\presets\\tabular_configs\\conf_5_sel_type_1_tuning_full.yml\" and different CV random_states. Their structures: \n",
      "\n",
      "\t    Model #0.\n",
      "\t\t================================================================================\n",
      "\t\tModels on level 0:\n",
      "\t\t\t 5 averaged models Lvl_0_Pipe_0_Mod_0_LinearL2\n",
      "\t\t\t 5 averaged models Lvl_0_Pipe_1_Mod_0_LightGBM\n",
      "\t\t\t 5 averaged models Lvl_0_Pipe_1_Mod_1_Tuned_LightGBM\n",
      "\t\t\t 5 averaged models Lvl_0_Pipe_1_Mod_2_CatBoost\n",
      "\t\t\t 5 averaged models Lvl_0_Pipe_1_Mod_3_Tuned_CatBoost\n",
      "\n",
      "\t\tFinal prediction for new objects (level 1) = \n",
      "\t\t\t 0.70832 * (5 averaged models Lvl_1_Pipe_0_Mod_0_LinearL2) +\n",
      "\t\t\t 0.29168 * (5 averaged models Lvl_1_Pipe_1_Mod_0_LightGBM) \n",
      "\t\t================================================================================\n",
      "\n",
      "\n",
      "\t    Model #1.\n",
      "\t\t================================================================================\n",
      "\t\tModels on level 0:\n",
      "\t\t\t 5 averaged models Lvl_0_Pipe_0_Mod_0_LinearL2\n",
      "\t\t\t 5 averaged models Lvl_0_Pipe_1_Mod_0_LightGBM\n",
      "\t\t\t 5 averaged models Lvl_0_Pipe_1_Mod_1_Tuned_LightGBM\n",
      "\t\t\t 5 averaged models Lvl_0_Pipe_1_Mod_2_CatBoost\n",
      "\t\t\t 5 averaged models Lvl_0_Pipe_1_Mod_3_Tuned_CatBoost\n",
      "\n",
      "\t\tFinal prediction for new objects (level 1) = \n",
      "\t\t\t 0.26193 * (5 averaged models Lvl_1_Pipe_0_Mod_0_LinearL2) +\n",
      "\t\t\t 0.73807 * (5 averaged models Lvl_1_Pipe_1_Mod_0_LightGBM) \n",
      "\t\t================================================================================\n",
      "\n",
      "\n",
      "\n"
     ]
    }
   ],
   "source": [
    "print(automl_long.create_model_str_desc())"
   ]
  },
  {
   "cell_type": "markdown",
   "id": "e78d5247",
   "metadata": {},
   "source": [
    "Feature importances"
   ]
  },
  {
   "cell_type": "code",
   "execution_count": 483,
   "id": "c872f3ab",
   "metadata": {},
   "outputs": [
    {
     "data": {
      "image/png": "[encoded data removed]",
      "text/plain": [
       "<Figure size 648x288 with 1 Axes>"
      ]
     },
     "metadata": {
      "needs_background": "light"
     },
     "output_type": "display_data"
    }
   ],
   "source": [
    "plot_feat_imp(automl.get_feature_scores())"
   ]
  },
  {
   "cell_type": "markdown",
   "id": "280a64f8",
   "metadata": {},
   "source": [
    "Partial Dependency Plots"
   ]
  },
  {
   "cell_type": "code",
   "execution_count": 493,
   "id": "46cf589d",
   "metadata": {},
   "outputs": [
    {
     "name": "stderr",
     "output_type": "stream",
     "text": [
      "100%|█████████████████████████████████████████████████████████████████████████████████████████████████████████████████████████████| 30/30 [00:09<00:00,  3.10it/s]\n"
     ]
    },
    {
     "data": {
      "image/png": "[encoded data removed]",
      "text/plain": [
       "<Figure size 1152x864 with 2 Axes>"
      ]
     },
     "metadata": {},
     "output_type": "display_data"
    }
   ],
   "source": [
    "automl.plot_pdp(test, feature_name = 'atemp')"
   ]
  },
  {
   "cell_type": "code",
   "execution_count": 494,
   "id": "032eb8f7",
   "metadata": {},
   "outputs": [
    {
     "name": "stderr",
     "output_type": "stream",
     "text": [
      "100%|█████████████████████████████████████████████████████████████████████████████████████████████████████████████████████████████| 30/30 [00:10<00:00,  2.89it/s]\n"
     ]
    },
    {
     "data": {
      "image/png": "[encoded data removed]",
      "text/plain": [
       "<Figure size 1152x864 with 2 Axes>"
      ]
     },
     "metadata": {},
     "output_type": "display_data"
    }
   ],
   "source": [
    "automl.plot_pdp(test, feature_name = 'hum')"
   ]
  },
  {
   "cell_type": "code",
   "execution_count": 501,
   "id": "98b6b628",
   "metadata": {},
   "outputs": [
    {
     "name": "stderr",
     "output_type": "stream",
     "text": [
      "100%|███████████████████████████████████████████████████████████████████████████████████████████████████████████████████████████████| 3/3 [00:00<00:00,  3.02it/s]\n"
     ]
    },
    {
     "data": {
      "image/png": "[encoded data removed]",
      "text/plain": [
       "<Figure size 1152x864 with 2 Axes>"
      ]
     },
     "metadata": {},
     "output_type": "display_data"
    }
   ],
   "source": [
    "automl.plot_pdp(test, feature_name = 'weathersit')"
   ]
  },
  {
   "cell_type": "code",
   "execution_count": null,
   "id": "fc464cd8",
   "metadata": {},
   "outputs": [],
   "source": []
  },
  {
   "cell_type": "markdown",
   "id": "4351ba13",
   "metadata": {},
   "source": [
    "Report generation"
   ]
  },
  {
   "cell_type": "code",
   "execution_count": 503,
   "id": "55726c15",
   "metadata": {},
   "outputs": [],
   "source": [
    "from lightautoml.report.report_deco import ReportDeco"
   ]
  },
  {
   "cell_type": "code",
   "execution_count": 504,
   "id": "856d2f68",
   "metadata": {},
   "outputs": [],
   "source": [
    "RD = ReportDeco(output_path = 'TabularAutoML_Report')\n",
    "\n",
    "automl_rd = RD(\n",
    "    \n",
    "    TabularAutoML(task = task, \n",
    "                  cpu_limit = N_THREADS,\n",
    "                  reader_params = {'n_jobs': N_THREADS, 'cv': N_FOLDS, 'random_state': RANDOM_STATE},\n",
    "                  general_params = {'use_algos': [['linear_l2', 'lgb', 'lgb_tuned']]})\n",
    ")"
   ]
  },
  {
   "cell_type": "code",
   "execution_count": 505,
   "id": "535e2066",
   "metadata": {},
   "outputs": [
    {
     "name": "stdout",
     "output_type": "stream",
     "text": [
      "Wall time: 2min 29s\n"
     ]
    }
   ],
   "source": [
    "%%time\n",
    "oof_pred = automl_rd.fit_predict(train, roles = roles)"
   ]
  },
  {
   "cell_type": "code",
   "execution_count": null,
   "id": "b8b63a87",
   "metadata": {},
   "outputs": [],
   "source": []
  },
  {
   "cell_type": "markdown",
   "id": "6032c0d7",
   "metadata": {},
   "source": [
    "## Conclusion"
   ]
  },
  {
   "cell_type": "code",
   "execution_count": 654,
   "id": "9b0e234b",
   "metadata": {},
   "outputs": [
    {
     "data": {
      "text/html": [
       "<style  type=\"text/css\" >\n",
       "#T_adf6e_row0_col0,#T_adf6e_row1_col0,#T_adf6e_row3_col0,#T_adf6e_row4_col0{\n",
       "            background-color:  yellow;\n",
       "        }#T_adf6e_row0_col1,#T_adf6e_row0_col2,#T_adf6e_row2_col3,#T_adf6e_row7_col4{\n",
       "            background-color:  lightgreen;\n",
       "        }#T_adf6e_row9_col3,#T_adf6e_row9_col4,#T_adf6e_row10_col1,#T_adf6e_row10_col2{\n",
       "            background-color:  red;\n",
       "        }</style><table id=\"T_adf6e_\" ><thead>    <tr>        <th class=\"blank level0\" ></th>        <th class=\"col_heading level0 col0\" >Model</th>        <th class=\"col_heading level0 col1\" >r2</th>        <th class=\"col_heading level0 col2\" >RMSE</th>        <th class=\"col_heading level0 col3\" >MAE</th>        <th class=\"col_heading level0 col4\" >MAPE</th>    </tr></thead><tbody>\n",
       "                <tr>\n",
       "                        <th id=\"T_adf6e_level0_row0\" class=\"row_heading level0 row0\" >0</th>\n",
       "                        <td id=\"T_adf6e_row0_col0\" class=\"data row0 col0\" >AutoML (1hr, multilevel)</td>\n",
       "                        <td id=\"T_adf6e_row0_col1\" class=\"data row0 col1\" >0.582715</td>\n",
       "                        <td id=\"T_adf6e_row0_col2\" class=\"data row0 col2\" >1236.934613</td>\n",
       "                        <td id=\"T_adf6e_row0_col3\" class=\"data row0 col3\" >1088.505232</td>\n",
       "                        <td id=\"T_adf6e_row0_col4\" class=\"data row0 col4\" >27.608396</td>\n",
       "            </tr>\n",
       "            <tr>\n",
       "                        <th id=\"T_adf6e_level0_row1\" class=\"row_heading level0 row1\" >1</th>\n",
       "                        <td id=\"T_adf6e_row1_col0\" class=\"data row1 col0\" >AutoML (20 minutes, multilevel)</td>\n",
       "                        <td id=\"T_adf6e_row1_col1\" class=\"data row1 col1\" >0.582589</td>\n",
       "                        <td id=\"T_adf6e_row1_col2\" class=\"data row1 col2\" >1237.121003</td>\n",
       "                        <td id=\"T_adf6e_row1_col3\" class=\"data row1 col3\" >1090.139478</td>\n",
       "                        <td id=\"T_adf6e_row1_col4\" class=\"data row1 col4\" >27.764973</td>\n",
       "            </tr>\n",
       "            <tr>\n",
       "                        <th id=\"T_adf6e_level0_row2\" class=\"row_heading level0 row2\" >2</th>\n",
       "                        <td id=\"T_adf6e_row2_col0\" class=\"data row2 col0\" >Random Forest (tuned)</td>\n",
       "                        <td id=\"T_adf6e_row2_col1\" class=\"data row2 col1\" >0.582087</td>\n",
       "                        <td id=\"T_adf6e_row2_col2\" class=\"data row2 col2\" >1237.865199</td>\n",
       "                        <td id=\"T_adf6e_row2_col3\" class=\"data row2 col3\" >1069.528417</td>\n",
       "                        <td id=\"T_adf6e_row2_col4\" class=\"data row2 col4\" >28.051760</td>\n",
       "            </tr>\n",
       "            <tr>\n",
       "                        <th id=\"T_adf6e_level0_row3\" class=\"row_heading level0 row3\" >3</th>\n",
       "                        <td id=\"T_adf6e_row3_col0\" class=\"data row3 col0\" >AutoML (10 minutes)</td>\n",
       "                        <td id=\"T_adf6e_row3_col1\" class=\"data row3 col1\" >0.581427</td>\n",
       "                        <td id=\"T_adf6e_row3_col2\" class=\"data row3 col2\" >1238.842395</td>\n",
       "                        <td id=\"T_adf6e_row3_col3\" class=\"data row3 col3\" >1093.143252</td>\n",
       "                        <td id=\"T_adf6e_row3_col4\" class=\"data row3 col4\" >28.615964</td>\n",
       "            </tr>\n",
       "            <tr>\n",
       "                        <th id=\"T_adf6e_level0_row4\" class=\"row_heading level0 row4\" >4</th>\n",
       "                        <td id=\"T_adf6e_row4_col0\" class=\"data row4 col0\" >AutoML (default train time)</td>\n",
       "                        <td id=\"T_adf6e_row4_col1\" class=\"data row4 col1\" >0.580046</td>\n",
       "                        <td id=\"T_adf6e_row4_col2\" class=\"data row4 col2\" >1240.883736</td>\n",
       "                        <td id=\"T_adf6e_row4_col3\" class=\"data row4 col3\" >1090.435306</td>\n",
       "                        <td id=\"T_adf6e_row4_col4\" class=\"data row4 col4\" >28.441077</td>\n",
       "            </tr>\n",
       "            <tr>\n",
       "                        <th id=\"T_adf6e_level0_row5\" class=\"row_heading level0 row5\" >5</th>\n",
       "                        <td id=\"T_adf6e_row5_col0\" class=\"data row5 col0\" >CatBoost (tuned)</td>\n",
       "                        <td id=\"T_adf6e_row5_col1\" class=\"data row5 col1\" >0.579263</td>\n",
       "                        <td id=\"T_adf6e_row5_col2\" class=\"data row5 col2\" >1242.040713</td>\n",
       "                        <td id=\"T_adf6e_row5_col3\" class=\"data row5 col3\" >1081.442023</td>\n",
       "                        <td id=\"T_adf6e_row5_col4\" class=\"data row5 col4\" >27.705847</td>\n",
       "            </tr>\n",
       "            <tr>\n",
       "                        <th id=\"T_adf6e_level0_row6\" class=\"row_heading level0 row6\" >6</th>\n",
       "                        <td id=\"T_adf6e_row6_col0\" class=\"data row6 col0\" >LightGBM (tuned)</td>\n",
       "                        <td id=\"T_adf6e_row6_col1\" class=\"data row6 col1\" >0.569335</td>\n",
       "                        <td id=\"T_adf6e_row6_col2\" class=\"data row6 col2\" >1256.608811</td>\n",
       "                        <td id=\"T_adf6e_row6_col3\" class=\"data row6 col3\" >1094.171345</td>\n",
       "                        <td id=\"T_adf6e_row6_col4\" class=\"data row6 col4\" >28.637821</td>\n",
       "            </tr>\n",
       "            <tr>\n",
       "                        <th id=\"T_adf6e_level0_row7\" class=\"row_heading level0 row7\" >7</th>\n",
       "                        <td id=\"T_adf6e_row7_col0\" class=\"data row7 col0\" >CatBoost (default)</td>\n",
       "                        <td id=\"T_adf6e_row7_col1\" class=\"data row7 col1\" >0.564596</td>\n",
       "                        <td id=\"T_adf6e_row7_col2\" class=\"data row7 col2\" >1263.504282</td>\n",
       "                        <td id=\"T_adf6e_row7_col3\" class=\"data row7 col3\" >1080.628645</td>\n",
       "                        <td id=\"T_adf6e_row7_col4\" class=\"data row7 col4\" >27.179839</td>\n",
       "            </tr>\n",
       "            <tr>\n",
       "                        <th id=\"T_adf6e_level0_row8\" class=\"row_heading level0 row8\" >8</th>\n",
       "                        <td id=\"T_adf6e_row8_col0\" class=\"data row8 col0\" >Random Forest (default)</td>\n",
       "                        <td id=\"T_adf6e_row8_col1\" class=\"data row8 col1\" >0.559479</td>\n",
       "                        <td id=\"T_adf6e_row8_col2\" class=\"data row8 col2\" >1270.907274</td>\n",
       "                        <td id=\"T_adf6e_row8_col3\" class=\"data row8 col3\" >1085.378163</td>\n",
       "                        <td id=\"T_adf6e_row8_col4\" class=\"data row8 col4\" >28.276113</td>\n",
       "            </tr>\n",
       "            <tr>\n",
       "                        <th id=\"T_adf6e_level0_row9\" class=\"row_heading level0 row9\" >9</th>\n",
       "                        <td id=\"T_adf6e_row9_col0\" class=\"data row9 col0\" >Linear Regression</td>\n",
       "                        <td id=\"T_adf6e_row9_col1\" class=\"data row9 col1\" >0.517106</td>\n",
       "                        <td id=\"T_adf6e_row9_col2\" class=\"data row9 col2\" >1330.626777</td>\n",
       "                        <td id=\"T_adf6e_row9_col3\" class=\"data row9 col3\" >1183.931973</td>\n",
       "                        <td id=\"T_adf6e_row9_col4\" class=\"data row9 col4\" >31.766967</td>\n",
       "            </tr>\n",
       "            <tr>\n",
       "                        <th id=\"T_adf6e_level0_row10\" class=\"row_heading level0 row10\" >10</th>\n",
       "                        <td id=\"T_adf6e_row10_col0\" class=\"data row10 col0\" >LightGBM (default)</td>\n",
       "                        <td id=\"T_adf6e_row10_col1\" class=\"data row10 col1\" >0.505294</td>\n",
       "                        <td id=\"T_adf6e_row10_col2\" class=\"data row10 col2\" >1346.802943</td>\n",
       "                        <td id=\"T_adf6e_row10_col3\" class=\"data row10 col3\" >1128.937071</td>\n",
       "                        <td id=\"T_adf6e_row10_col4\" class=\"data row10 col4\" >28.277523</td>\n",
       "            </tr>\n",
       "    </tbody></table>"
      ],
      "text/plain": [
       "<pandas.io.formats.style.Styler at 0x1d3cb213a90>"
      ]
     },
     "execution_count": 654,
     "metadata": {},
     "output_type": "execute_result"
    }
   ],
   "source": [
    "final_results.style \\\n",
    "    .highlight_max('r2', color = 'lightgreen') \\\n",
    "    .highlight_min('r2', color = 'red')\\\n",
    "    .highlight_max(['RMSE', 'MAE', 'MAPE'], color = 'red')\\\n",
    "    .highlight_min(['RMSE', 'MAE', 'MAPE'], color = 'lightgreen')\\\n",
    "    .where(lambda val: 'AutoML' in str(val), 'background-color: yellow', subset=['Model'])"
   ]
  },
  {
   "cell_type": "markdown",
   "id": "40a1160a",
   "metadata": {},
   "source": [
    "1. Default AutoML trained in 3 minutes and beat most of the tuned models\n",
    "2. Longer training time and using more models generally leads to better results, but overfitting could be an issue\n",
    "3. 'Tuning' of AutoML = playing with\n",
    "    - \\# of models on each level\n",
    "    - \\# of levels\n",
    "    - types of models used on each level\n",
    "    - allowed training time\n",
    "4. Can learn from AutoML\n",
    "    - Feature importances\n",
    "    - PDPs\n",
    "    - Distributions (generated report)"
   ]
  },
  {
   "cell_type": "code",
   "execution_count": null,
   "id": "9d9abdf4",
   "metadata": {},
   "outputs": [],
   "source": []
  },
  {
   "cell_type": "markdown",
   "id": "c41205cb",
   "metadata": {},
   "source": [
    "## Few more words about LightAutoML\n",
    "\n",
    "Classifiaction problems also come with really useful reports: https://github.com/sberbank-ai-lab/lightautoml-datafest-workshop/blob/master/LightAutoML%20demo%20(Blackbox).ipynb\n",
    "\n",
    "<br>\n",
    "\n",
    "Can execute the following tasks with the respective losses and metrics:\n",
    "\n",
    "\n",
    "|Task | Loss | Metrics |\n",
    "| --- | --- | --- |\n",
    "|Regression = 'reg' | mse  <br/> mae  <br/> mape  <br/> rmsle  <br/> huber  <br/> fair  <br/> quantile | mse  <br/> mae  <br/> mape  <br/> rmsle  <br/> huber  <br/> fair  <br/> quantile |\n",
    "|Binary classification = 'binary' | logloss | auc  <br/> accuracy  <br/> logloss |\n",
    "|Multiclass classification = 'multiclass' | crosstentropy <br/> f1 | crossentropy  <br/> auc  <br/>  auc_mu |\n",
    "\n",
    "<br>\n",
    "\n",
    "\n",
    "Can handle all kinds of features:\n",
    "\n",
    "- NumericRole()\n",
    "- CategoryRole()\n",
    "- TextRole()\n",
    "- DatetimeRole()\n",
    "- DropRole()\n",
    "- GroupRole()\n",
    "\n",
    "<br>\n",
    "\n",
    "Applicable to NLP problems:\n",
    "\n",
    "\n",
    "<img src=\"https://raw.githubusercontent.com/sberbank-ai-lab/lightautoml-datafest-workshop/88e5a53824ff6466c3ac6514708775beefc598ca/imgs/tutorial_NLP_image_1.jpg\" width=\"1000\"/>\n",
    "\n",
    "<img src=\"https://raw.githubusercontent.com/sberbank-ai-lab/lightautoml-datafest-workshop/88e5a53824ff6466c3ac6514708775beefc598ca/imgs/tutorial_NLP_image_2.jpg\" width=\"1000\"/>\n"
   ]
  },
  {
   "cell_type": "code",
   "execution_count": null,
   "id": "323e33f7",
   "metadata": {},
   "outputs": [],
   "source": []
  },
  {
   "cell_type": "code",
   "execution_count": null,
   "id": "00155a7a",
   "metadata": {},
   "outputs": [],
   "source": []
  },
  {
   "cell_type": "code",
   "execution_count": null,
   "id": "1e6a613c",
   "metadata": {},
   "outputs": [],
   "source": []
  },
  {
   "cell_type": "code",
   "execution_count": null,
   "id": "45073614",
   "metadata": {},
   "outputs": [],
   "source": []
  },
  {
   "cell_type": "markdown",
   "id": "f711215f",
   "metadata": {},
   "source": [
    "Idea: cyclical endocing of month"
   ]
  },
  {
   "cell_type": "code",
   "execution_count": 645,
   "id": "3285e1b7",
   "metadata": {},
   "outputs": [],
   "source": [
    "i = [1, 2, 3, 4, 5, 6, 7, 8, 9, 10, 11, 12]\n",
    "cyc_end = lambda k: - np.cos(2 * np.pi * k / 12)\n",
    "\n",
    "j = [cyc_end(i) for i in i]"
   ]
  },
  {
   "cell_type": "code",
   "execution_count": 658,
   "id": "ad0863a8",
   "metadata": {},
   "outputs": [
    {
     "data": {
      "text/plain": [
       "<AxesSubplot:>"
      ]
     },
     "execution_count": 658,
     "metadata": {},
     "output_type": "execute_result"
    },
    {
     "data": {
      "image/png": "[encoded data removed]",
      "text/plain": [
       "<Figure size 432x288 with 1 Axes>"
      ]
     },
     "metadata": {},
     "output_type": "display_data"
    }
   ],
   "source": [
    "sns.pointplot(i, j)"
   ]
  },
  {
   "cell_type": "code",
   "execution_count": null,
   "id": "df8c70ef",
   "metadata": {},
   "outputs": [],
   "source": []
  }
 ],
 "metadata": {
  "kernelspec": {
   "display_name": "Python 3",
   "language": "python",
   "name": "python3"
  },
  "language_info": {
   "codemirror_mode": {
    "name": "ipython",
    "version": 3
   },
   "file_extension": ".py",
   "mimetype": "text/x-python",
   "name": "python",
   "nbconvert_exporter": "python",
   "pygments_lexer": "ipython3",
   "version": "3.8.8"
  }
 },
 "nbformat": 4,
 "nbformat_minor": 5
}
