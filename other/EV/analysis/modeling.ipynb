{
 "cells": [
  {
   "cell_type": "code",
   "execution_count": 1,
   "metadata": {},
   "outputs": [
    {
     "name": "stdout",
     "output_type": "stream",
     "text": [
      "Importing the following packages: pandas, numpy, matplotlib, seaborn, plotly, warnings\n"
     ]
    }
   ],
   "source": [
    "import sys \n",
    "sys.path.append('../../../')\n",
    "from src.import_packages import *\n",
    "from src.visualize_EDA import vEDA\n",
    "\n",
    "# sys.path.append('..')\n",
    "# from data.custom_metric_JVowOkK import *\n",
    "\n",
    "from sklearn.model_selection import GridSearchCV, train_test_split\n",
    "from sklearn.preprocessing import StandardScaler, MinMaxScaler\n",
    "from sklearn.metrics import accuracy_score, classification_report, plot_confusion_matrix, f1_score, make_scorer, silhouette_score, davies_bouldin_score, calinski_harabasz_score\n",
    "from lightgbm import LGBMClassifier, plot_importance\n",
    "\n",
    "from sklearn.neighbors import KDTree\n",
    "from sklearn.decomposition import PCA\n",
    "from sklearn.cluster import KMeans\n",
    "\n",
    "from keras.models import Sequential\n",
    "from keras.layers import Dense, Activation, Dropout\n",
    "from tensorflow.keras.optimizers import SGD, Adam\n",
    "from keras.regularizers import l1, l2\n",
    "from keras.utils.vis_utils import plot_model\n",
    "from keras.callbacks import EarlyStopping, ReduceLROnPlateau\n",
    "from livelossplot import PlotLossesKeras\n",
    "from keras.utils import np_utils\n",
    "\n",
    "from sklearn.preprocessing import LabelEncoder\n",
    "\n",
    "def predict_DL(DL_model, data, labelencoder):\n",
    "\n",
    "    probs_ = DL_model.predict(data) \n",
    "    classes_ = np.argmax(probs_, axis=1)\n",
    "    classes_tranformed_ = labelencoder.inverse_transform(classes_)\n",
    "\n",
    "    return classes_tranformed_\n",
    "\n",
    "def clustering_metrics(data, K = range(2, 20 + 1)):\n",
    "    \n",
    "    Sum_of_squared_distances = []\n",
    "    Silhouette_value = []\n",
    "    Calinski_Harabasz = []\n",
    "    Davies_Bouldin = []\n",
    "\n",
    "    for k in K:\n",
    "\n",
    "        km = KMeans(n_clusters = k, n_init = 20, max_iter = 500, random_state = 20202020)\n",
    "        km = km.fit(data)\n",
    "        labels = km.labels_\n",
    "\n",
    "        Sum_of_squared_distances.append(km.inertia_)\n",
    "        Silhouette_value.append(silhouette_score(data, labels, metric = 'euclidean'))\n",
    "        Calinski_Harabasz.append(calinski_harabasz_score(data, labels))\n",
    "        Davies_Bouldin.append(davies_bouldin_score(data, labels))\n",
    "\n",
    "    fig, ax = plt.subplots(ncols = 2, nrows = 2, figsize = (12, 7))\n",
    "\n",
    "    sns.pointplot(x = list(K), y = Sum_of_squared_distances, markers = 'x', s = 10, ax = ax[0, 0])\n",
    "    sns.pointplot(x = list(K), y = Silhouette_value, markers = 'x', s = 10, ax = ax[1, 0])\n",
    "    sns.pointplot(x = list(K), y = Calinski_Harabasz, markers = 'x', s = 10, ax = ax[0, 1])\n",
    "    sns.pointplot(x = list(K), y = Davies_Bouldin, markers = 'x', s = 10, ax = ax[1, 1])\n",
    "\n",
    "    ax[0, 0].title.set_text('Sum of squared distances (\"elbow\")')\n",
    "    ax[1, 0].title.set_text('Silhouette value')\n",
    "    ax[0, 1].title.set_text('Calinski-Harabasz')\n",
    "    ax[1, 1].title.set_text('Davies-Bouldin')\n",
    "\n",
    "    plt.show()\n",
    "\n",
    "\n",
    "def return_scaled_dataframe(df, scaler = StandardScaler()):    \n",
    "\n",
    "    df_scaled = df.copy()\n",
    "    df_scaled = scaler.fit_transform(df_scaled)\n",
    "    df_scaled = pd.DataFrame(df_scaled, columns = df.columns)\n",
    "\n",
    "    return df_scaled\n",
    "\n",
    "\n",
    "def plot_clusters_with_PCA(data, K):\n",
    "    \n",
    "    pca = PCA(random_state = 20202020).fit(data)\n",
    "\n",
    "    pca_plot = pd.DataFrame(pca.transform(data))[[0, 1]]\n",
    "    pca_plot.columns = ['PCA_1', 'PCA_2']\n",
    "    pca_plot.index = data.index\n",
    "    pca_plot.reset_index(inplace = True)\n",
    "\n",
    "    km = KMeans(n_clusters = K, n_init = 20, max_iter = 500, random_state = 20202020).fit(data)\n",
    "    km = pd.DataFrame(km.predict(data), columns = ['clusters'])\n",
    "\n",
    "    kmeans_results = pd.concat([pca_plot, km], 1)\n",
    "    kmeans_results.clusters = kmeans_results.clusters.astype('object')\n",
    "\n",
    "    fig, ax = plt.subplots(figsize = (12, 6))\n",
    "    sns.scatterplot(x = 'PCA_1', y = 'PCA_2', data = kmeans_results, s = 50, hue = 'clusters', \n",
    "                    palette = sns.color_palette(\"Set1\", kmeans_results.clusters.nunique()))\n",
    "    ax.title.set_text(str(K) + ' clusters')\n",
    "    ax.legend(fontsize = 'small')\n",
    "    plt.show()\n",
    "\n",
    "    return kmeans_results"
   ]
  },
  {
   "cell_type": "markdown",
   "metadata": {},
   "source": [
    "### Meta info"
   ]
  },
  {
   "cell_type": "code",
   "execution_count": 2,
   "metadata": {},
   "outputs": [
    {
     "data": {
      "text/html": [
       "<div>\n",
       "<style scoped>\n",
       "    .dataframe tbody tr th:only-of-type {\n",
       "        vertical-align: middle;\n",
       "    }\n",
       "\n",
       "    .dataframe tbody tr th {\n",
       "        vertical-align: top;\n",
       "    }\n",
       "\n",
       "    .dataframe thead th {\n",
       "        text-align: right;\n",
       "    }\n",
       "</style>\n",
       "<table border=\"1\" class=\"dataframe\">\n",
       "  <thead>\n",
       "    <tr style=\"text-align: right;\">\n",
       "      <th></th>\n",
       "      <th>t_id</th>\n",
       "      <th>s_id</th>\n",
       "      <th>latitude</th>\n",
       "      <th>longitude</th>\n",
       "      <th>street</th>\n",
       "      <th>city</th>\n",
       "      <th>zipcode</th>\n",
       "      <th>model</th>\n",
       "    </tr>\n",
       "  </thead>\n",
       "  <tbody>\n",
       "    <tr>\n",
       "      <th>0</th>\n",
       "      <td>S84-T1</td>\n",
       "      <td>S84</td>\n",
       "      <td>48.863766</td>\n",
       "      <td>2.41177</td>\n",
       "      <td>104 RUE LOUIS LUMIERE</td>\n",
       "      <td>Paris</td>\n",
       "      <td>75020</td>\n",
       "      <td>E/F, Combo, T2, CHAdeMO, T3</td>\n",
       "    </tr>\n",
       "    <tr>\n",
       "      <th>1</th>\n",
       "      <td>S84-T3</td>\n",
       "      <td>S84</td>\n",
       "      <td>48.863766</td>\n",
       "      <td>2.41177</td>\n",
       "      <td>104 RUE LOUIS LUMIERE</td>\n",
       "      <td>Paris</td>\n",
       "      <td>75020</td>\n",
       "      <td>CHAdeMO, T2, T3, E/F, Combo</td>\n",
       "    </tr>\n",
       "    <tr>\n",
       "      <th>2</th>\n",
       "      <td>S86-T1</td>\n",
       "      <td>S86</td>\n",
       "      <td>48.890610</td>\n",
       "      <td>2.35423</td>\n",
       "      <td>27 RUE ORDENER</td>\n",
       "      <td>Paris</td>\n",
       "      <td>75018</td>\n",
       "      <td>CHAdeMO, Combo, T2, T3, E/F</td>\n",
       "    </tr>\n",
       "  </tbody>\n",
       "</table>\n",
       "</div>"
      ],
      "text/plain": [
       "     t_id s_id   latitude  longitude                 street   city  zipcode  \\\n",
       "0  S84-T1  S84  48.863766    2.41177  104 RUE LOUIS LUMIERE  Paris    75020   \n",
       "1  S84-T3  S84  48.863766    2.41177  104 RUE LOUIS LUMIERE  Paris    75020   \n",
       "2  S86-T1  S86  48.890610    2.35423         27 RUE ORDENER  Paris    75018   \n",
       "\n",
       "                         model  \n",
       "0  E/F, Combo, T2, CHAdeMO, T3  \n",
       "1  CHAdeMO, T2, T3, E/F, Combo  \n",
       "2  CHAdeMO, Combo, T2, T3, E/F  "
      ]
     },
     "execution_count": 2,
     "metadata": {},
     "output_type": "execute_result"
    }
   ],
   "source": [
    "info_static = pd.read_csv('../data/info_static.csv')\n",
    "info_static.head(3)"
   ]
  },
  {
   "cell_type": "markdown",
   "metadata": {},
   "source": [
    "### X and y files"
   ]
  },
  {
   "cell_type": "code",
   "execution_count": 3,
   "metadata": {},
   "outputs": [],
   "source": [
    "X = pd.read_csv('../data/xtrain.csv')\n",
    "X_test = pd.read_csv('../data/xtest.csv')\n",
    "y = pd.read_csv('../data/ytrain_NpxebDC.csv')\n",
    "\n",
    "submission = pd.read_csv('../data/yrandom.csv')"
   ]
  },
  {
   "cell_type": "markdown",
   "metadata": {},
   "source": [
    "How a submission file should look like"
   ]
  },
  {
   "cell_type": "code",
   "execution_count": 4,
   "metadata": {},
   "outputs": [
    {
     "data": {
      "text/html": [
       "<div>\n",
       "<style scoped>\n",
       "    .dataframe tbody tr th:only-of-type {\n",
       "        vertical-align: middle;\n",
       "    }\n",
       "\n",
       "    .dataframe tbody tr th {\n",
       "        vertical-align: top;\n",
       "    }\n",
       "\n",
       "    .dataframe thead th {\n",
       "        text-align: right;\n",
       "    }\n",
       "</style>\n",
       "<table border=\"1\" class=\"dataframe\">\n",
       "  <thead>\n",
       "    <tr style=\"text-align: right;\">\n",
       "      <th></th>\n",
       "      <th>timestamp</th>\n",
       "      <th>S7-T1</th>\n",
       "      <th>S2-T1</th>\n",
       "      <th>S19-T1</th>\n",
       "      <th>S56-T3</th>\n",
       "      <th>S85-T3</th>\n",
       "      <th>S16-T3</th>\n",
       "      <th>S16-T1</th>\n",
       "      <th>S94-T3</th>\n",
       "      <th>S28-T1</th>\n",
       "      <th>...</th>\n",
       "      <th>S47-T2</th>\n",
       "      <th>S65-T2</th>\n",
       "      <th>S32-T2</th>\n",
       "      <th>S21-T2</th>\n",
       "      <th>S13-T2</th>\n",
       "      <th>S97-T2</th>\n",
       "      <th>S25-T1</th>\n",
       "      <th>S25-T2</th>\n",
       "      <th>S98-T2</th>\n",
       "      <th>S99-T2</th>\n",
       "    </tr>\n",
       "  </thead>\n",
       "  <tbody>\n",
       "    <tr>\n",
       "      <th>0</th>\n",
       "      <td>2020-11-09T00:00:00+00:00</td>\n",
       "      <td>Offline</td>\n",
       "      <td>Available</td>\n",
       "      <td>Charging</td>\n",
       "      <td>Charging</td>\n",
       "      <td>Available</td>\n",
       "      <td>Available</td>\n",
       "      <td>Passive</td>\n",
       "      <td>Available</td>\n",
       "      <td>Charging</td>\n",
       "      <td>...</td>\n",
       "      <td>Down</td>\n",
       "      <td>Down</td>\n",
       "      <td>Available</td>\n",
       "      <td>Passive</td>\n",
       "      <td>Offline</td>\n",
       "      <td>Charging</td>\n",
       "      <td>Passive</td>\n",
       "      <td>Offline</td>\n",
       "      <td>Charging</td>\n",
       "      <td>Offline</td>\n",
       "    </tr>\n",
       "    <tr>\n",
       "      <th>1</th>\n",
       "      <td>2020-11-09T00:15:00+00:00</td>\n",
       "      <td>Passive</td>\n",
       "      <td>Down</td>\n",
       "      <td>Passive</td>\n",
       "      <td>Down</td>\n",
       "      <td>Charging</td>\n",
       "      <td>Passive</td>\n",
       "      <td>Down</td>\n",
       "      <td>Charging</td>\n",
       "      <td>Offline</td>\n",
       "      <td>...</td>\n",
       "      <td>Down</td>\n",
       "      <td>Down</td>\n",
       "      <td>Available</td>\n",
       "      <td>Available</td>\n",
       "      <td>Passive</td>\n",
       "      <td>Passive</td>\n",
       "      <td>Offline</td>\n",
       "      <td>Down</td>\n",
       "      <td>Down</td>\n",
       "      <td>Passive</td>\n",
       "    </tr>\n",
       "    <tr>\n",
       "      <th>2</th>\n",
       "      <td>2020-11-09T00:30:00+00:00</td>\n",
       "      <td>Passive</td>\n",
       "      <td>Passive</td>\n",
       "      <td>Charging</td>\n",
       "      <td>Available</td>\n",
       "      <td>Passive</td>\n",
       "      <td>Down</td>\n",
       "      <td>Available</td>\n",
       "      <td>Down</td>\n",
       "      <td>Available</td>\n",
       "      <td>...</td>\n",
       "      <td>Offline</td>\n",
       "      <td>Available</td>\n",
       "      <td>Down</td>\n",
       "      <td>Offline</td>\n",
       "      <td>Down</td>\n",
       "      <td>Charging</td>\n",
       "      <td>Available</td>\n",
       "      <td>Passive</td>\n",
       "      <td>Charging</td>\n",
       "      <td>Passive</td>\n",
       "    </tr>\n",
       "  </tbody>\n",
       "</table>\n",
       "<p>3 rows × 274 columns</p>\n",
       "</div>"
      ],
      "text/plain": [
       "                   timestamp    S7-T1      S2-T1    S19-T1     S56-T3  \\\n",
       "0  2020-11-09T00:00:00+00:00  Offline  Available  Charging   Charging   \n",
       "1  2020-11-09T00:15:00+00:00  Passive       Down   Passive       Down   \n",
       "2  2020-11-09T00:30:00+00:00  Passive    Passive  Charging  Available   \n",
       "\n",
       "      S85-T3     S16-T3     S16-T1     S94-T3     S28-T1  ...   S47-T2  \\\n",
       "0  Available  Available    Passive  Available   Charging  ...     Down   \n",
       "1   Charging    Passive       Down   Charging    Offline  ...     Down   \n",
       "2    Passive       Down  Available       Down  Available  ...  Offline   \n",
       "\n",
       "      S65-T2     S32-T2     S21-T2   S13-T2    S97-T2     S25-T1   S25-T2  \\\n",
       "0       Down  Available    Passive  Offline  Charging    Passive  Offline   \n",
       "1       Down  Available  Available  Passive   Passive    Offline     Down   \n",
       "2  Available       Down    Offline     Down  Charging  Available  Passive   \n",
       "\n",
       "     S98-T2   S99-T2  \n",
       "0  Charging  Offline  \n",
       "1      Down  Passive  \n",
       "2  Charging  Passive  \n",
       "\n",
       "[3 rows x 274 columns]"
      ]
     },
     "execution_count": 4,
     "metadata": {},
     "output_type": "execute_result"
    }
   ],
   "source": [
    "submission.head(3)"
   ]
  },
  {
   "cell_type": "markdown",
   "metadata": {},
   "source": [
    "X and y"
   ]
  },
  {
   "cell_type": "code",
   "execution_count": 5,
   "metadata": {},
   "outputs": [
    {
     "data": {
      "text/html": [
       "<div>\n",
       "<style scoped>\n",
       "    .dataframe tbody tr th:only-of-type {\n",
       "        vertical-align: middle;\n",
       "    }\n",
       "\n",
       "    .dataframe tbody tr th {\n",
       "        vertical-align: top;\n",
       "    }\n",
       "\n",
       "    .dataframe thead th {\n",
       "        text-align: right;\n",
       "    }\n",
       "</style>\n",
       "<table border=\"1\" class=\"dataframe\">\n",
       "  <thead>\n",
       "    <tr style=\"text-align: right;\">\n",
       "      <th></th>\n",
       "      <th>timestamp</th>\n",
       "      <th>temperature</th>\n",
       "      <th>wind_speed</th>\n",
       "      <th>wind_gust_speed</th>\n",
       "      <th>rain_level</th>\n",
       "      <th>traffic_state</th>\n",
       "      <th>average_flow</th>\n",
       "    </tr>\n",
       "  </thead>\n",
       "  <tbody>\n",
       "    <tr>\n",
       "      <th>0</th>\n",
       "      <td>2019-11-25T00:00:00+00:00</td>\n",
       "      <td>8.7</td>\n",
       "      <td>11.0</td>\n",
       "      <td>24.0</td>\n",
       "      <td>0.0</td>\n",
       "      <td>Fluid</td>\n",
       "      <td>218.1</td>\n",
       "    </tr>\n",
       "    <tr>\n",
       "      <th>1</th>\n",
       "      <td>2019-11-25T01:00:00+00:00</td>\n",
       "      <td>8.8</td>\n",
       "      <td>9.0</td>\n",
       "      <td>20.0</td>\n",
       "      <td>0.0</td>\n",
       "      <td>Fluid</td>\n",
       "      <td>144.3</td>\n",
       "    </tr>\n",
       "    <tr>\n",
       "      <th>2</th>\n",
       "      <td>2019-11-25T02:00:00+00:00</td>\n",
       "      <td>8.9</td>\n",
       "      <td>8.0</td>\n",
       "      <td>18.0</td>\n",
       "      <td>0.0</td>\n",
       "      <td>Fluid</td>\n",
       "      <td>110.0</td>\n",
       "    </tr>\n",
       "  </tbody>\n",
       "</table>\n",
       "</div>"
      ],
      "text/plain": [
       "                   timestamp  temperature  wind_speed  wind_gust_speed  \\\n",
       "0  2019-11-25T00:00:00+00:00          8.7        11.0             24.0   \n",
       "1  2019-11-25T01:00:00+00:00          8.8         9.0             20.0   \n",
       "2  2019-11-25T02:00:00+00:00          8.9         8.0             18.0   \n",
       "\n",
       "   rain_level traffic_state  average_flow  \n",
       "0         0.0         Fluid         218.1  \n",
       "1         0.0         Fluid         144.3  \n",
       "2         0.0         Fluid         110.0  "
      ]
     },
     "execution_count": 5,
     "metadata": {},
     "output_type": "execute_result"
    }
   ],
   "source": [
    "X.head(3)"
   ]
  },
  {
   "cell_type": "code",
   "execution_count": 6,
   "metadata": {},
   "outputs": [
    {
     "data": {
      "text/html": [
       "<div>\n",
       "<style scoped>\n",
       "    .dataframe tbody tr th:only-of-type {\n",
       "        vertical-align: middle;\n",
       "    }\n",
       "\n",
       "    .dataframe tbody tr th {\n",
       "        vertical-align: top;\n",
       "    }\n",
       "\n",
       "    .dataframe thead th {\n",
       "        text-align: right;\n",
       "    }\n",
       "</style>\n",
       "<table border=\"1\" class=\"dataframe\">\n",
       "  <thead>\n",
       "    <tr style=\"text-align: right;\">\n",
       "      <th></th>\n",
       "      <th>timestamp</th>\n",
       "      <th>S7-T1</th>\n",
       "      <th>S2-T1</th>\n",
       "      <th>S19-T1</th>\n",
       "      <th>S56-T3</th>\n",
       "      <th>S85-T3</th>\n",
       "      <th>S16-T3</th>\n",
       "      <th>S16-T1</th>\n",
       "      <th>S94-T3</th>\n",
       "      <th>S28-T1</th>\n",
       "      <th>...</th>\n",
       "      <th>S47-T2</th>\n",
       "      <th>S65-T2</th>\n",
       "      <th>S32-T2</th>\n",
       "      <th>S21-T2</th>\n",
       "      <th>S13-T2</th>\n",
       "      <th>S97-T2</th>\n",
       "      <th>S25-T1</th>\n",
       "      <th>S25-T2</th>\n",
       "      <th>S98-T2</th>\n",
       "      <th>S99-T2</th>\n",
       "    </tr>\n",
       "  </thead>\n",
       "  <tbody>\n",
       "    <tr>\n",
       "      <th>0</th>\n",
       "      <td>2019-11-25T00:00:00+00:00</td>\n",
       "      <td>Down</td>\n",
       "      <td>Down</td>\n",
       "      <td>Available</td>\n",
       "      <td>Down</td>\n",
       "      <td>Down</td>\n",
       "      <td>Offline</td>\n",
       "      <td>Offline</td>\n",
       "      <td>Offline</td>\n",
       "      <td>Available</td>\n",
       "      <td>...</td>\n",
       "      <td>Down</td>\n",
       "      <td>Offline</td>\n",
       "      <td>Offline</td>\n",
       "      <td>Available</td>\n",
       "      <td>Available</td>\n",
       "      <td>NaN</td>\n",
       "      <td>NaN</td>\n",
       "      <td>NaN</td>\n",
       "      <td>NaN</td>\n",
       "      <td>NaN</td>\n",
       "    </tr>\n",
       "    <tr>\n",
       "      <th>1</th>\n",
       "      <td>2019-11-25T00:15:00+00:00</td>\n",
       "      <td>Down</td>\n",
       "      <td>Down</td>\n",
       "      <td>Available</td>\n",
       "      <td>Down</td>\n",
       "      <td>Down</td>\n",
       "      <td>Offline</td>\n",
       "      <td>Offline</td>\n",
       "      <td>Offline</td>\n",
       "      <td>Available</td>\n",
       "      <td>...</td>\n",
       "      <td>Down</td>\n",
       "      <td>Offline</td>\n",
       "      <td>Offline</td>\n",
       "      <td>Available</td>\n",
       "      <td>Available</td>\n",
       "      <td>NaN</td>\n",
       "      <td>NaN</td>\n",
       "      <td>NaN</td>\n",
       "      <td>NaN</td>\n",
       "      <td>NaN</td>\n",
       "    </tr>\n",
       "    <tr>\n",
       "      <th>2</th>\n",
       "      <td>2019-11-25T00:30:00+00:00</td>\n",
       "      <td>Down</td>\n",
       "      <td>Down</td>\n",
       "      <td>Available</td>\n",
       "      <td>Down</td>\n",
       "      <td>Down</td>\n",
       "      <td>Offline</td>\n",
       "      <td>Offline</td>\n",
       "      <td>Offline</td>\n",
       "      <td>Available</td>\n",
       "      <td>...</td>\n",
       "      <td>Down</td>\n",
       "      <td>Offline</td>\n",
       "      <td>Offline</td>\n",
       "      <td>Available</td>\n",
       "      <td>Available</td>\n",
       "      <td>NaN</td>\n",
       "      <td>NaN</td>\n",
       "      <td>NaN</td>\n",
       "      <td>NaN</td>\n",
       "      <td>NaN</td>\n",
       "    </tr>\n",
       "  </tbody>\n",
       "</table>\n",
       "<p>3 rows × 274 columns</p>\n",
       "</div>"
      ],
      "text/plain": [
       "                   timestamp S7-T1 S2-T1     S19-T1 S56-T3 S85-T3   S16-T3  \\\n",
       "0  2019-11-25T00:00:00+00:00  Down  Down  Available   Down   Down  Offline   \n",
       "1  2019-11-25T00:15:00+00:00  Down  Down  Available   Down   Down  Offline   \n",
       "2  2019-11-25T00:30:00+00:00  Down  Down  Available   Down   Down  Offline   \n",
       "\n",
       "    S16-T1   S94-T3     S28-T1  ... S47-T2   S65-T2   S32-T2     S21-T2  \\\n",
       "0  Offline  Offline  Available  ...   Down  Offline  Offline  Available   \n",
       "1  Offline  Offline  Available  ...   Down  Offline  Offline  Available   \n",
       "2  Offline  Offline  Available  ...   Down  Offline  Offline  Available   \n",
       "\n",
       "      S13-T2 S97-T2 S25-T1 S25-T2 S98-T2 S99-T2  \n",
       "0  Available    NaN    NaN    NaN    NaN    NaN  \n",
       "1  Available    NaN    NaN    NaN    NaN    NaN  \n",
       "2  Available    NaN    NaN    NaN    NaN    NaN  \n",
       "\n",
       "[3 rows x 274 columns]"
      ]
     },
     "execution_count": 6,
     "metadata": {},
     "output_type": "execute_result"
    }
   ],
   "source": [
    "y.head(3)"
   ]
  },
  {
   "cell_type": "markdown",
   "metadata": {},
   "source": [
    "X feature engineering"
   ]
  },
  {
   "cell_type": "code",
   "execution_count": 7,
   "metadata": {},
   "outputs": [],
   "source": [
    "X['timestamp'] = pd.to_datetime(X['timestamp'])\n",
    "\n",
    "X['year'] = X['timestamp'].dt.year\n",
    "X['month'] = X['timestamp'].dt.month\n",
    "X['day'] = pd.to_datetime(X['timestamp']).dt.day_name()\n",
    "X['hour'] = X['timestamp'].dt.hour"
   ]
  },
  {
   "cell_type": "code",
   "execution_count": 8,
   "metadata": {},
   "outputs": [
    {
     "data": {
      "text/plain": [
       "Fluid    8015\n",
       "Busy      325\n",
       "Heavy       1\n",
       "Name: traffic_state, dtype: int64"
      ]
     },
     "execution_count": 8,
     "metadata": {},
     "output_type": "execute_result"
    }
   ],
   "source": [
    "X['traffic_state'].value_counts()"
   ]
  },
  {
   "cell_type": "code",
   "execution_count": 9,
   "metadata": {},
   "outputs": [],
   "source": [
    "X['traffic_state'] = X['traffic_state'].replace({'Heavy' : 'Busy'})\n",
    "X = pd.get_dummies(X, columns = ['traffic_state'], prefix_sep = ' = ').drop('traffic_state = Busy', 1)"
   ]
  },
  {
   "cell_type": "markdown",
   "metadata": {},
   "source": [
    "X EDA"
   ]
  },
  {
   "cell_type": "code",
   "execution_count": 10,
   "metadata": {},
   "outputs": [],
   "source": [
    "X_eda = vEDA(X)"
   ]
  },
  {
   "cell_type": "code",
   "execution_count": 11,
   "metadata": {},
   "outputs": [
    {
     "data": {
      "image/png": "[encoded data removed]",
      "text/plain": [
       "<Figure size 1296x720 with 2 Axes>"
      ]
     },
     "metadata": {
      "needs_background": "light"
     },
     "output_type": "display_data"
    }
   ],
   "source": [
    "X_eda.plot_corr()"
   ]
  },
  {
   "cell_type": "code",
   "execution_count": 12,
   "metadata": {},
   "outputs": [
    {
     "data": {
      "image/png": "[encoded data removed]",
      "text/plain": [
       "<Figure size 720x360 with 1 Axes>"
      ]
     },
     "metadata": {
      "needs_background": "light"
     },
     "output_type": "display_data"
    },
    {
     "data": {
      "image/png": "[encoded data removed]",
      "text/plain": [
       "<Figure size 720x360 with 1 Axes>"
      ]
     },
     "metadata": {
      "needs_background": "light"
     },
     "output_type": "display_data"
    },
    {
     "data": {
      "image/png": "[encoded data removed]",
      "text/plain": [
       "<Figure size 720x360 with 1 Axes>"
      ]
     },
     "metadata": {
      "needs_background": "light"
     },
     "output_type": "display_data"
    },
    {
     "data": {
      "image/png": "[encoded data removed]",
      "text/plain": [
       "<Figure size 720x360 with 1 Axes>"
      ]
     },
     "metadata": {
      "needs_background": "light"
     },
     "output_type": "display_data"
    },
    {
     "data": {
      "image/png": "[encoded data removed]",
      "text/plain": [
       "<Figure size 720x360 with 1 Axes>"
      ]
     },
     "metadata": {
      "needs_background": "light"
     },
     "output_type": "display_data"
    },
    {
     "data": {
      "image/png": "[encoded data removed]",
      "text/plain": [
       "<Figure size 720x360 with 1 Axes>"
      ]
     },
     "metadata": {
      "needs_background": "light"
     },
     "output_type": "display_data"
    },
    {
     "data": {
      "image/png": "[encoded data removed]",
      "text/plain": [
       "<Figure size 720x360 with 1 Axes>"
      ]
     },
     "metadata": {
      "needs_background": "light"
     },
     "output_type": "display_data"
    },
    {
     "data": {
      "image/png": "[encoded data removed]",
      "text/plain": [
       "<Figure size 720x360 with 1 Axes>"
      ]
     },
     "metadata": {
      "needs_background": "light"
     },
     "output_type": "display_data"
    },
    {
     "data": {
      "image/png": "[encoded data removed]",
      "text/plain": [
       "<Figure size 720x360 with 1 Axes>"
      ]
     },
     "metadata": {
      "needs_background": "light"
     },
     "output_type": "display_data"
    },
    {
     "data": {
      "image/png": "[encoded data removed]",
      "text/plain": [
       "<Figure size 720x360 with 1 Axes>"
      ]
     },
     "metadata": {
      "needs_background": "light"
     },
     "output_type": "display_data"
    }
   ],
   "source": [
    "for i in X.select_dtypes(exclude = 'O').columns:\n",
    "    X_eda.plot_dist(i)"
   ]
  },
  {
   "cell_type": "markdown",
   "metadata": {},
   "source": [
    "### Capture difference across stations: use geo location"
   ]
  },
  {
   "cell_type": "code",
   "execution_count": 13,
   "metadata": {},
   "outputs": [
    {
     "data": {
      "text/html": [
       "<div>\n",
       "<style scoped>\n",
       "    .dataframe tbody tr th:only-of-type {\n",
       "        vertical-align: middle;\n",
       "    }\n",
       "\n",
       "    .dataframe tbody tr th {\n",
       "        vertical-align: top;\n",
       "    }\n",
       "\n",
       "    .dataframe thead th {\n",
       "        text-align: right;\n",
       "    }\n",
       "</style>\n",
       "<table border=\"1\" class=\"dataframe\">\n",
       "  <thead>\n",
       "    <tr style=\"text-align: right;\">\n",
       "      <th></th>\n",
       "      <th>t_id</th>\n",
       "      <th>s_id</th>\n",
       "      <th>latitude</th>\n",
       "      <th>longitude</th>\n",
       "      <th>street</th>\n",
       "      <th>city</th>\n",
       "      <th>zipcode</th>\n",
       "      <th>model</th>\n",
       "    </tr>\n",
       "  </thead>\n",
       "  <tbody>\n",
       "    <tr>\n",
       "      <th>0</th>\n",
       "      <td>S84-T1</td>\n",
       "      <td>S84</td>\n",
       "      <td>48.863766</td>\n",
       "      <td>2.41177</td>\n",
       "      <td>104 RUE LOUIS LUMIERE</td>\n",
       "      <td>Paris</td>\n",
       "      <td>75020</td>\n",
       "      <td>E/F, Combo, T2, CHAdeMO, T3</td>\n",
       "    </tr>\n",
       "    <tr>\n",
       "      <th>1</th>\n",
       "      <td>S84-T3</td>\n",
       "      <td>S84</td>\n",
       "      <td>48.863766</td>\n",
       "      <td>2.41177</td>\n",
       "      <td>104 RUE LOUIS LUMIERE</td>\n",
       "      <td>Paris</td>\n",
       "      <td>75020</td>\n",
       "      <td>CHAdeMO, T2, T3, E/F, Combo</td>\n",
       "    </tr>\n",
       "    <tr>\n",
       "      <th>2</th>\n",
       "      <td>S86-T1</td>\n",
       "      <td>S86</td>\n",
       "      <td>48.890610</td>\n",
       "      <td>2.35423</td>\n",
       "      <td>27 RUE ORDENER</td>\n",
       "      <td>Paris</td>\n",
       "      <td>75018</td>\n",
       "      <td>CHAdeMO, Combo, T2, T3, E/F</td>\n",
       "    </tr>\n",
       "  </tbody>\n",
       "</table>\n",
       "</div>"
      ],
      "text/plain": [
       "     t_id s_id   latitude  longitude                 street   city  zipcode  \\\n",
       "0  S84-T1  S84  48.863766    2.41177  104 RUE LOUIS LUMIERE  Paris    75020   \n",
       "1  S84-T3  S84  48.863766    2.41177  104 RUE LOUIS LUMIERE  Paris    75020   \n",
       "2  S86-T1  S86  48.890610    2.35423         27 RUE ORDENER  Paris    75018   \n",
       "\n",
       "                         model  \n",
       "0  E/F, Combo, T2, CHAdeMO, T3  \n",
       "1  CHAdeMO, T2, T3, E/F, Combo  \n",
       "2  CHAdeMO, Combo, T2, T3, E/F  "
      ]
     },
     "execution_count": 13,
     "metadata": {},
     "output_type": "execute_result"
    }
   ],
   "source": [
    "info_static.head(3)"
   ]
  },
  {
   "cell_type": "code",
   "execution_count": 14,
   "metadata": {},
   "outputs": [
    {
     "data": {
      "application/vnd.plotly.v1+json": {
       "config": {
        "plotlyServerURL": "https://plot.ly"
       },
       "data": [
        {
         "hovertemplate": "size_for_plot=%{marker.size}<br>latitude=%{lat}<br>longitude=%{lon}<extra></extra>",
         "lat": [
          48.863766,
          48.863766,
          48.89061,
          48.89061,
          48.89061,
          48.875465,
          48.875465,
          48.864719,
          48.864719,
          48.8452653,
          48.8452653,
          48.8452653,
          48.878799,
          48.878799,
          48.878799,
          48.831448,
          48.831448,
          48.831448,
          48.84477,
          48.84477,
          48.882794,
          48.882794,
          48.882794,
          48.839947,
          48.839947,
          48.839947,
          48.889731,
          48.889731,
          48.834705,
          48.834705,
          48.834705,
          48.878965,
          48.878965,
          48.878965,
          48.857124,
          48.857124,
          48.857124,
          48.897671,
          48.897671,
          48.882718,
          48.882718,
          48.833603,
          48.833603,
          48.854057,
          48.854057,
          48.854057,
          48.85212550000001,
          48.85212550000001,
          48.85212550000001,
          48.837055,
          48.837055,
          48.832893,
          48.832893,
          48.832893,
          48.870628,
          48.870628,
          48.834084,
          48.834084,
          48.834084,
          48.8847205,
          48.8847205,
          48.8847205,
          48.861016,
          48.861016,
          48.828454,
          48.828454,
          48.828454,
          48.8778,
          48.8778,
          48.8778,
          48.876162,
          48.876162,
          48.876162,
          48.871465,
          48.871465,
          48.852665,
          48.852665,
          48.852665,
          48.86154,
          48.86154,
          48.835709,
          48.835709,
          48.835499,
          48.835499,
          48.835499,
          48.865501,
          48.865501,
          48.865501,
          48.847446,
          48.847446,
          48.824388,
          48.846295,
          48.846295,
          48.846295,
          48.847931,
          48.847931,
          48.865311,
          48.865311,
          48.826504,
          48.83086,
          48.83086,
          48.83086,
          48.868511,
          48.868511,
          48.868511,
          48.85104,
          48.85104,
          48.85104,
          48.874134,
          48.874134,
          48.865788,
          48.865788,
          48.865788,
          48.8260387,
          48.8260387,
          48.845715,
          48.845715,
          48.82085,
          48.82085,
          48.82085,
          48.841742,
          48.841742,
          48.841742,
          48.859184,
          48.859184,
          48.859184,
          48.84998,
          48.84998,
          48.82312,
          48.82312,
          48.82312,
          48.878897,
          48.878897,
          48.857094,
          48.857094,
          48.857094,
          48.847485,
          48.847485,
          48.863602,
          48.863602,
          48.863602,
          48.86424,
          48.86424,
          48.880421,
          48.880421,
          48.880421,
          48.841198,
          48.841198,
          48.846214,
          48.846214,
          48.846761,
          48.846761,
          48.846761,
          48.858952,
          48.858952,
          48.88842,
          48.88842,
          48.88842,
          48.88264,
          48.88264,
          48.849911,
          48.849911,
          48.849911,
          48.89311,
          48.89311,
          48.89311,
          48.881168,
          48.881168,
          48.857552,
          48.86003,
          48.86003,
          48.86003,
          48.846653,
          48.846653,
          48.846653,
          48.863766,
          48.875465,
          48.864719,
          48.84477,
          48.889731,
          48.897671,
          48.882718,
          48.833603,
          48.837055,
          48.870628,
          48.861016,
          48.871465,
          48.86154,
          48.835709,
          48.847446,
          48.824388,
          48.824388,
          48.847931,
          48.865311,
          48.826504,
          48.826504,
          48.874134,
          48.8260387,
          48.845715,
          48.84998,
          48.878897,
          48.847485,
          48.86424,
          48.841198,
          48.846214,
          48.858952,
          48.88264,
          48.881168,
          48.857552,
          48.857552,
          48.8534452,
          48.877409,
          48.872192,
          48.880698,
          48.840977,
          48.8524588,
          48.8524588,
          48.851025,
          48.84824,
          48.841663,
          48.879654,
          48.879654,
          48.883282,
          48.8534452,
          48.877409,
          48.86535800000001,
          48.851025,
          48.86937,
          48.84824,
          48.841663,
          48.855667,
          48.841529,
          48.885689,
          48.875854,
          48.851025,
          48.889011,
          48.841529,
          48.841529,
          48.820007,
          48.889011,
          48.883282,
          48.86535800000001,
          48.865097,
          48.855667,
          48.879654,
          48.891102,
          48.891102,
          48.820007,
          48.885689,
          48.875854,
          48.865097,
          48.889011,
          48.883282,
          48.880698,
          48.86937,
          48.872192,
          48.872192,
          48.855667,
          48.840977,
          48.840977,
          48.8524588,
          48.865097,
          48.84824,
          48.841663,
          48.877409,
          48.880698,
          48.86535800000001,
          48.891102,
          48.86937,
          48.8534452,
          48.885689,
          48.820007,
          48.875854
         ],
         "legendgroup": "",
         "lon": [
          2.41177,
          2.41177,
          2.35423,
          2.35423,
          2.35423,
          2.360103,
          2.360103,
          2.359043,
          2.359043,
          2.4112383000000364,
          2.4112383000000364,
          2.4112383000000364,
          2.368851,
          2.368851,
          2.368851,
          2.320052,
          2.320052,
          2.320052,
          2.35242,
          2.35242,
          2.382705,
          2.382705,
          2.382705,
          2.397822,
          2.397822,
          2.397822,
          2.33891,
          2.33891,
          2.305529,
          2.305529,
          2.305529,
          2.293606,
          2.293606,
          2.293606,
          2.327753,
          2.327753,
          2.327753,
          2.352758,
          2.352758,
          2.319768,
          2.319768,
          2.389173,
          2.389173,
          2.34556,
          2.34556,
          2.34556,
          2.331345899999974,
          2.331345899999974,
          2.331345899999974,
          2.259932,
          2.259932,
          2.363025,
          2.363025,
          2.363025,
          2.33321,
          2.33321,
          2.405248,
          2.405248,
          2.405248,
          2.3699612000000343,
          2.3699612000000343,
          2.3699612000000343,
          2.28308,
          2.28308,
          2.3006427999999914,
          2.3006427999999914,
          2.3006427999999914,
          2.39182,
          2.39182,
          2.39182,
          2.286403,
          2.286403,
          2.286403,
          2.289894,
          2.289894,
          2.31368,
          2.31368,
          2.31368,
          2.31159,
          2.31159,
          2.286912,
          2.286912,
          2.34965,
          2.34965,
          2.34965,
          2.315463,
          2.315463,
          2.315463,
          2.38804,
          2.38804,
          2.336857,
          2.3748774000000594,
          2.3748774000000594,
          2.3748774000000594,
          2.309952,
          2.309952,
          2.343436,
          2.343436,
          2.343366,
          2.325895,
          2.325895,
          2.325895,
          2.295469,
          2.295469,
          2.295469,
          2.345493,
          2.345493,
          2.345493,
          2.405196,
          2.405196,
          2.342244,
          2.342244,
          2.342244,
          2.3581455999999434,
          2.3581455999999434,
          2.345032,
          2.345032,
          2.343626,
          2.343626,
          2.343626,
          2.375639,
          2.375639,
          2.375639,
          2.273944,
          2.273944,
          2.273944,
          2.36192,
          2.36192,
          2.367798,
          2.367798,
          2.367798,
          2.355064,
          2.355064,
          2.403802,
          2.403802,
          2.403802,
          2.401736,
          2.401736,
          2.27153,
          2.27153,
          2.27153,
          2.397724,
          2.397724,
          2.398476,
          2.398476,
          2.398476,
          2.323891,
          2.323891,
          2.279884,
          2.279884,
          2.268339,
          2.268339,
          2.268339,
          2.379874,
          2.379874,
          2.388149,
          2.388149,
          2.388149,
          2.335728,
          2.335728,
          2.307126,
          2.307126,
          2.307126,
          2.34066,
          2.34066,
          2.34066,
          2.313751,
          2.313751,
          2.30437,
          2.34046,
          2.34046,
          2.34046,
          2.258213,
          2.258213,
          2.258213,
          2.41177,
          2.360103,
          2.359043,
          2.35242,
          2.33891,
          2.352758,
          2.319768,
          2.389173,
          2.259932,
          2.33321,
          2.28308,
          2.289894,
          2.31159,
          2.286912,
          2.38804,
          2.336857,
          2.336857,
          2.309952,
          2.343436,
          2.343366,
          2.343366,
          2.405196,
          2.3581455999999434,
          2.345032,
          2.36192,
          2.355064,
          2.401736,
          2.397724,
          2.323891,
          2.279884,
          2.379874,
          2.335728,
          2.313751,
          2.30437,
          2.30437,
          2.3868801999999505,
          2.392178,
          2.377671,
          2.321369,
          2.317465,
          2.3414834000000155,
          2.3414834000000155,
          2.326367,
          2.339865,
          2.286931,
          2.302442,
          2.302442,
          2.286938,
          2.3868801999999505,
          2.392178,
          2.377938800000038,
          2.326367,
          2.303269,
          2.339865,
          2.286931,
          2.354089,
          2.298576,
          2.297463,
          2.309542,
          2.326367,
          2.371768,
          2.298576,
          2.298576,
          2.365661,
          2.371768,
          2.286938,
          2.377938800000038,
          2.36554,
          2.354089,
          2.302442,
          2.327102,
          2.327102,
          2.365661,
          2.297463,
          2.309542,
          2.36554,
          2.371768,
          2.286938,
          2.321369,
          2.303269,
          2.377671,
          2.377671,
          2.354089,
          2.317465,
          2.317465,
          2.3414834000000155,
          2.36554,
          2.339865,
          2.286931,
          2.392178,
          2.321369,
          2.377938800000038,
          2.327102,
          2.303269,
          2.3868801999999505,
          2.297463,
          2.365661,
          2.309542
         ],
         "marker": {
          "color": "#636efa",
          "size": [
           10,
           10,
           10,
           10,
           10,
           10,
           10,
           10,
           10,
           10,
           10,
           10,
           10,
           10,
           10,
           10,
           10,
           10,
           10,
           10,
           10,
           10,
           10,
           10,
           10,
           10,
           10,
           10,
           10,
           10,
           10,
           10,
           10,
           10,
           10,
           10,
           10,
           10,
           10,
           10,
           10,
           10,
           10,
           10,
           10,
           10,
           10,
           10,
           10,
           10,
           10,
           10,
           10,
           10,
           10,
           10,
           10,
           10,
           10,
           10,
           10,
           10,
           10,
           10,
           10,
           10,
           10,
           10,
           10,
           10,
           10,
           10,
           10,
           10,
           10,
           10,
           10,
           10,
           10,
           10,
           10,
           10,
           10,
           10,
           10,
           10,
           10,
           10,
           10,
           10,
           10,
           10,
           10,
           10,
           10,
           10,
           10,
           10,
           10,
           10,
           10,
           10,
           10,
           10,
           10,
           10,
           10,
           10,
           10,
           10,
           10,
           10,
           10,
           10,
           10,
           10,
           10,
           10,
           10,
           10,
           10,
           10,
           10,
           10,
           10,
           10,
           10,
           10,
           10,
           10,
           10,
           10,
           10,
           10,
           10,
           10,
           10,
           10,
           10,
           10,
           10,
           10,
           10,
           10,
           10,
           10,
           10,
           10,
           10,
           10,
           10,
           10,
           10,
           10,
           10,
           10,
           10,
           10,
           10,
           10,
           10,
           10,
           10,
           10,
           10,
           10,
           10,
           10,
           10,
           10,
           10,
           10,
           10,
           10,
           10,
           10,
           10,
           10,
           10,
           10,
           10,
           10,
           10,
           10,
           10,
           10,
           10,
           10,
           10,
           10,
           10,
           10,
           10,
           10,
           10,
           10,
           10,
           10,
           10,
           10,
           10,
           10,
           10,
           10,
           10,
           10,
           10,
           10,
           10,
           10,
           10,
           10,
           10,
           10,
           10,
           10,
           10,
           10,
           10,
           10,
           10,
           10,
           10,
           10,
           10,
           10,
           10,
           10,
           10,
           10,
           10,
           10,
           10,
           10,
           10,
           10,
           10,
           10,
           10,
           10,
           10,
           10,
           10,
           10,
           10,
           10,
           10,
           10,
           10,
           10,
           10,
           10,
           10,
           10,
           10,
           10,
           10,
           10,
           10,
           10,
           10,
           10,
           10,
           10,
           10,
           10,
           10,
           10,
           10,
           10,
           10,
           10,
           10
          ],
          "sizemode": "area",
          "sizeref": 0.4
         },
         "mode": "markers",
         "name": "",
         "showlegend": false,
         "subplot": "mapbox",
         "type": "scattermapbox"
        }
       ],
       "layout": {
        "height": 750,
        "legend": {
         "itemsizing": "constant",
         "tracegroupgap": 0
        },
        "mapbox": {
         "center": {
          "lat": 48.85848778021978,
          "lon": 2.339993336263737
         },
         "domain": {
          "x": [
           0,
           1
          ],
          "y": [
           0,
           1
          ]
         },
         "style": "carto-positron",
         "zoom": 11
        },
        "margin": {
         "t": 60
        },
        "template": {
         "data": {
          "bar": [
           {
            "error_x": {
             "color": "#2a3f5f"
            },
            "error_y": {
             "color": "#2a3f5f"
            },
            "marker": {
             "line": {
              "color": "#E5ECF6",
              "width": 0.5
             },
             "pattern": {
              "fillmode": "overlay",
              "size": 10,
              "solidity": 0.2
             }
            },
            "type": "bar"
           }
          ],
          "barpolar": [
           {
            "marker": {
             "line": {
              "color": "#E5ECF6",
              "width": 0.5
             },
             "pattern": {
              "fillmode": "overlay",
              "size": 10,
              "solidity": 0.2
             }
            },
            "type": "barpolar"
           }
          ],
          "carpet": [
           {
            "aaxis": {
             "endlinecolor": "#2a3f5f",
             "gridcolor": "white",
             "linecolor": "white",
             "minorgridcolor": "white",
             "startlinecolor": "#2a3f5f"
            },
            "baxis": {
             "endlinecolor": "#2a3f5f",
             "gridcolor": "white",
             "linecolor": "white",
             "minorgridcolor": "white",
             "startlinecolor": "#2a3f5f"
            },
            "type": "carpet"
           }
          ],
          "choropleth": [
           {
            "colorbar": {
             "outlinewidth": 0,
             "ticks": ""
            },
            "type": "choropleth"
           }
          ],
          "contour": [
           {
            "colorbar": {
             "outlinewidth": 0,
             "ticks": ""
            },
            "colorscale": [
             [
              0,
              "#0d0887"
             ],
             [
              0.1111111111111111,
              "#46039f"
             ],
             [
              0.2222222222222222,
              "#7201a8"
             ],
             [
              0.3333333333333333,
              "#9c179e"
             ],
             [
              0.4444444444444444,
              "#bd3786"
             ],
             [
              0.5555555555555556,
              "#d8576b"
             ],
             [
              0.6666666666666666,
              "#ed7953"
             ],
             [
              0.7777777777777778,
              "#fb9f3a"
             ],
             [
              0.8888888888888888,
              "#fdca26"
             ],
             [
              1,
              "#f0f921"
             ]
            ],
            "type": "contour"
           }
          ],
          "contourcarpet": [
           {
            "colorbar": {
             "outlinewidth": 0,
             "ticks": ""
            },
            "type": "contourcarpet"
           }
          ],
          "heatmap": [
           {
            "colorbar": {
             "outlinewidth": 0,
             "ticks": ""
            },
            "colorscale": [
             [
              0,
              "#0d0887"
             ],
             [
              0.1111111111111111,
              "#46039f"
             ],
             [
              0.2222222222222222,
              "#7201a8"
             ],
             [
              0.3333333333333333,
              "#9c179e"
             ],
             [
              0.4444444444444444,
              "#bd3786"
             ],
             [
              0.5555555555555556,
              "#d8576b"
             ],
             [
              0.6666666666666666,
              "#ed7953"
             ],
             [
              0.7777777777777778,
              "#fb9f3a"
             ],
             [
              0.8888888888888888,
              "#fdca26"
             ],
             [
              1,
              "#f0f921"
             ]
            ],
            "type": "heatmap"
           }
          ],
          "heatmapgl": [
           {
            "colorbar": {
             "outlinewidth": 0,
             "ticks": ""
            },
            "colorscale": [
             [
              0,
              "#0d0887"
             ],
             [
              0.1111111111111111,
              "#46039f"
             ],
             [
              0.2222222222222222,
              "#7201a8"
             ],
             [
              0.3333333333333333,
              "#9c179e"
             ],
             [
              0.4444444444444444,
              "#bd3786"
             ],
             [
              0.5555555555555556,
              "#d8576b"
             ],
             [
              0.6666666666666666,
              "#ed7953"
             ],
             [
              0.7777777777777778,
              "#fb9f3a"
             ],
             [
              0.8888888888888888,
              "#fdca26"
             ],
             [
              1,
              "#f0f921"
             ]
            ],
            "type": "heatmapgl"
           }
          ],
          "histogram": [
           {
            "marker": {
             "pattern": {
              "fillmode": "overlay",
              "size": 10,
              "solidity": 0.2
             }
            },
            "type": "histogram"
           }
          ],
          "histogram2d": [
           {
            "colorbar": {
             "outlinewidth": 0,
             "ticks": ""
            },
            "colorscale": [
             [
              0,
              "#0d0887"
             ],
             [
              0.1111111111111111,
              "#46039f"
             ],
             [
              0.2222222222222222,
              "#7201a8"
             ],
             [
              0.3333333333333333,
              "#9c179e"
             ],
             [
              0.4444444444444444,
              "#bd3786"
             ],
             [
              0.5555555555555556,
              "#d8576b"
             ],
             [
              0.6666666666666666,
              "#ed7953"
             ],
             [
              0.7777777777777778,
              "#fb9f3a"
             ],
             [
              0.8888888888888888,
              "#fdca26"
             ],
             [
              1,
              "#f0f921"
             ]
            ],
            "type": "histogram2d"
           }
          ],
          "histogram2dcontour": [
           {
            "colorbar": {
             "outlinewidth": 0,
             "ticks": ""
            },
            "colorscale": [
             [
              0,
              "#0d0887"
             ],
             [
              0.1111111111111111,
              "#46039f"
             ],
             [
              0.2222222222222222,
              "#7201a8"
             ],
             [
              0.3333333333333333,
              "#9c179e"
             ],
             [
              0.4444444444444444,
              "#bd3786"
             ],
             [
              0.5555555555555556,
              "#d8576b"
             ],
             [
              0.6666666666666666,
              "#ed7953"
             ],
             [
              0.7777777777777778,
              "#fb9f3a"
             ],
             [
              0.8888888888888888,
              "#fdca26"
             ],
             [
              1,
              "#f0f921"
             ]
            ],
            "type": "histogram2dcontour"
           }
          ],
          "mesh3d": [
           {
            "colorbar": {
             "outlinewidth": 0,
             "ticks": ""
            },
            "type": "mesh3d"
           }
          ],
          "parcoords": [
           {
            "line": {
             "colorbar": {
              "outlinewidth": 0,
              "ticks": ""
             }
            },
            "type": "parcoords"
           }
          ],
          "pie": [
           {
            "automargin": true,
            "type": "pie"
           }
          ],
          "scatter": [
           {
            "marker": {
             "colorbar": {
              "outlinewidth": 0,
              "ticks": ""
             }
            },
            "type": "scatter"
           }
          ],
          "scatter3d": [
           {
            "line": {
             "colorbar": {
              "outlinewidth": 0,
              "ticks": ""
             }
            },
            "marker": {
             "colorbar": {
              "outlinewidth": 0,
              "ticks": ""
             }
            },
            "type": "scatter3d"
           }
          ],
          "scattercarpet": [
           {
            "marker": {
             "colorbar": {
              "outlinewidth": 0,
              "ticks": ""
             }
            },
            "type": "scattercarpet"
           }
          ],
          "scattergeo": [
           {
            "marker": {
             "colorbar": {
              "outlinewidth": 0,
              "ticks": ""
             }
            },
            "type": "scattergeo"
           }
          ],
          "scattergl": [
           {
            "marker": {
             "colorbar": {
              "outlinewidth": 0,
              "ticks": ""
             }
            },
            "type": "scattergl"
           }
          ],
          "scattermapbox": [
           {
            "marker": {
             "colorbar": {
              "outlinewidth": 0,
              "ticks": ""
             }
            },
            "type": "scattermapbox"
           }
          ],
          "scatterpolar": [
           {
            "marker": {
             "colorbar": {
              "outlinewidth": 0,
              "ticks": ""
             }
            },
            "type": "scatterpolar"
           }
          ],
          "scatterpolargl": [
           {
            "marker": {
             "colorbar": {
              "outlinewidth": 0,
              "ticks": ""
             }
            },
            "type": "scatterpolargl"
           }
          ],
          "scatterternary": [
           {
            "marker": {
             "colorbar": {
              "outlinewidth": 0,
              "ticks": ""
             }
            },
            "type": "scatterternary"
           }
          ],
          "surface": [
           {
            "colorbar": {
             "outlinewidth": 0,
             "ticks": ""
            },
            "colorscale": [
             [
              0,
              "#0d0887"
             ],
             [
              0.1111111111111111,
              "#46039f"
             ],
             [
              0.2222222222222222,
              "#7201a8"
             ],
             [
              0.3333333333333333,
              "#9c179e"
             ],
             [
              0.4444444444444444,
              "#bd3786"
             ],
             [
              0.5555555555555556,
              "#d8576b"
             ],
             [
              0.6666666666666666,
              "#ed7953"
             ],
             [
              0.7777777777777778,
              "#fb9f3a"
             ],
             [
              0.8888888888888888,
              "#fdca26"
             ],
             [
              1,
              "#f0f921"
             ]
            ],
            "type": "surface"
           }
          ],
          "table": [
           {
            "cells": {
             "fill": {
              "color": "#EBF0F8"
             },
             "line": {
              "color": "white"
             }
            },
            "header": {
             "fill": {
              "color": "#C8D4E3"
             },
             "line": {
              "color": "white"
             }
            },
            "type": "table"
           }
          ]
         },
         "layout": {
          "annotationdefaults": {
           "arrowcolor": "#2a3f5f",
           "arrowhead": 0,
           "arrowwidth": 1
          },
          "autotypenumbers": "strict",
          "coloraxis": {
           "colorbar": {
            "outlinewidth": 0,
            "ticks": ""
           }
          },
          "colorscale": {
           "diverging": [
            [
             0,
             "#8e0152"
            ],
            [
             0.1,
             "#c51b7d"
            ],
            [
             0.2,
             "#de77ae"
            ],
            [
             0.3,
             "#f1b6da"
            ],
            [
             0.4,
             "#fde0ef"
            ],
            [
             0.5,
             "#f7f7f7"
            ],
            [
             0.6,
             "#e6f5d0"
            ],
            [
             0.7,
             "#b8e186"
            ],
            [
             0.8,
             "#7fbc41"
            ],
            [
             0.9,
             "#4d9221"
            ],
            [
             1,
             "#276419"
            ]
           ],
           "sequential": [
            [
             0,
             "#0d0887"
            ],
            [
             0.1111111111111111,
             "#46039f"
            ],
            [
             0.2222222222222222,
             "#7201a8"
            ],
            [
             0.3333333333333333,
             "#9c179e"
            ],
            [
             0.4444444444444444,
             "#bd3786"
            ],
            [
             0.5555555555555556,
             "#d8576b"
            ],
            [
             0.6666666666666666,
             "#ed7953"
            ],
            [
             0.7777777777777778,
             "#fb9f3a"
            ],
            [
             0.8888888888888888,
             "#fdca26"
            ],
            [
             1,
             "#f0f921"
            ]
           ],
           "sequentialminus": [
            [
             0,
             "#0d0887"
            ],
            [
             0.1111111111111111,
             "#46039f"
            ],
            [
             0.2222222222222222,
             "#7201a8"
            ],
            [
             0.3333333333333333,
             "#9c179e"
            ],
            [
             0.4444444444444444,
             "#bd3786"
            ],
            [
             0.5555555555555556,
             "#d8576b"
            ],
            [
             0.6666666666666666,
             "#ed7953"
            ],
            [
             0.7777777777777778,
             "#fb9f3a"
            ],
            [
             0.8888888888888888,
             "#fdca26"
            ],
            [
             1,
             "#f0f921"
            ]
           ]
          },
          "colorway": [
           "#636efa",
           "#EF553B",
           "#00cc96",
           "#ab63fa",
           "#FFA15A",
           "#19d3f3",
           "#FF6692",
           "#B6E880",
           "#FF97FF",
           "#FECB52"
          ],
          "font": {
           "color": "#2a3f5f"
          },
          "geo": {
           "bgcolor": "white",
           "lakecolor": "white",
           "landcolor": "#E5ECF6",
           "showlakes": true,
           "showland": true,
           "subunitcolor": "white"
          },
          "hoverlabel": {
           "align": "left"
          },
          "hovermode": "closest",
          "mapbox": {
           "style": "light"
          },
          "paper_bgcolor": "white",
          "plot_bgcolor": "#E5ECF6",
          "polar": {
           "angularaxis": {
            "gridcolor": "white",
            "linecolor": "white",
            "ticks": ""
           },
           "bgcolor": "#E5ECF6",
           "radialaxis": {
            "gridcolor": "white",
            "linecolor": "white",
            "ticks": ""
           }
          },
          "scene": {
           "xaxis": {
            "backgroundcolor": "#E5ECF6",
            "gridcolor": "white",
            "gridwidth": 2,
            "linecolor": "white",
            "showbackground": true,
            "ticks": "",
            "zerolinecolor": "white"
           },
           "yaxis": {
            "backgroundcolor": "#E5ECF6",
            "gridcolor": "white",
            "gridwidth": 2,
            "linecolor": "white",
            "showbackground": true,
            "ticks": "",
            "zerolinecolor": "white"
           },
           "zaxis": {
            "backgroundcolor": "#E5ECF6",
            "gridcolor": "white",
            "gridwidth": 2,
            "linecolor": "white",
            "showbackground": true,
            "ticks": "",
            "zerolinecolor": "white"
           }
          },
          "shapedefaults": {
           "line": {
            "color": "#2a3f5f"
           }
          },
          "ternary": {
           "aaxis": {
            "gridcolor": "white",
            "linecolor": "white",
            "ticks": ""
           },
           "baxis": {
            "gridcolor": "white",
            "linecolor": "white",
            "ticks": ""
           },
           "bgcolor": "#E5ECF6",
           "caxis": {
            "gridcolor": "white",
            "linecolor": "white",
            "ticks": ""
           }
          },
          "title": {
           "x": 0.05
          },
          "xaxis": {
           "automargin": true,
           "gridcolor": "white",
           "linecolor": "white",
           "ticks": "",
           "title": {
            "standoff": 15
           },
           "zerolinecolor": "white",
           "zerolinewidth": 2
          },
          "yaxis": {
           "automargin": true,
           "gridcolor": "white",
           "linecolor": "white",
           "ticks": "",
           "title": {
            "standoff": 15
           },
           "zerolinecolor": "white",
           "zerolinewidth": 2
          }
         }
        },
        "width": 950
       }
      }
     },
     "metadata": {},
     "output_type": "display_data"
    }
   ],
   "source": [
    "vEDA(info_static).plot_geo_map('latitude', 'longitude', zoom = 11)"
   ]
  },
  {
   "cell_type": "code",
   "execution_count": 15,
   "metadata": {},
   "outputs": [
    {
     "data": {
      "text/plain": [
       "91"
      ]
     },
     "execution_count": 15,
     "metadata": {},
     "output_type": "execute_result"
    }
   ],
   "source": [
    "info_static['s_id'].nunique()"
   ]
  },
  {
   "cell_type": "code",
   "execution_count": 16,
   "metadata": {},
   "outputs": [
    {
     "data": {
      "text/plain": [
       "S84    3\n",
       "S37    3\n",
       "S56    3\n",
       "S57    3\n",
       "S75    3\n",
       "      ..\n",
       "S66    3\n",
       "S74    3\n",
       "S16    3\n",
       "S67    3\n",
       "S45    3\n",
       "Name: s_id, Length: 91, dtype: int64"
      ]
     },
     "execution_count": 16,
     "metadata": {},
     "output_type": "execute_result"
    }
   ],
   "source": [
    "info_static['s_id'].value_counts()"
   ]
  },
  {
   "cell_type": "code",
   "execution_count": 17,
   "metadata": {},
   "outputs": [
    {
     "data": {
      "text/html": [
       "<div>\n",
       "<style scoped>\n",
       "    .dataframe tbody tr th:only-of-type {\n",
       "        vertical-align: middle;\n",
       "    }\n",
       "\n",
       "    .dataframe tbody tr th {\n",
       "        vertical-align: top;\n",
       "    }\n",
       "\n",
       "    .dataframe thead th {\n",
       "        text-align: right;\n",
       "    }\n",
       "</style>\n",
       "<table border=\"1\" class=\"dataframe\">\n",
       "  <thead>\n",
       "    <tr style=\"text-align: right;\">\n",
       "      <th></th>\n",
       "      <th>t_id</th>\n",
       "      <th>s_id</th>\n",
       "      <th>latitude</th>\n",
       "      <th>longitude</th>\n",
       "      <th>street</th>\n",
       "      <th>city</th>\n",
       "      <th>zipcode</th>\n",
       "      <th>model</th>\n",
       "    </tr>\n",
       "  </thead>\n",
       "  <tbody>\n",
       "    <tr>\n",
       "      <th>54</th>\n",
       "      <td>S63-T1</td>\n",
       "      <td>S63</td>\n",
       "      <td>48.870628</td>\n",
       "      <td>2.33321</td>\n",
       "      <td>7 BOULEVARD DES CAPUCINES</td>\n",
       "      <td>Paris</td>\n",
       "      <td>75002</td>\n",
       "      <td>CHAdeMO, E/F, Combo, T2, T3</td>\n",
       "    </tr>\n",
       "    <tr>\n",
       "      <th>55</th>\n",
       "      <td>S63-T3</td>\n",
       "      <td>S63</td>\n",
       "      <td>48.870628</td>\n",
       "      <td>2.33321</td>\n",
       "      <td>7 BOULEVARD DES CAPUCINES</td>\n",
       "      <td>Paris</td>\n",
       "      <td>75002</td>\n",
       "      <td>E/F, Combo, CHAdeMO, T2, T3</td>\n",
       "    </tr>\n",
       "    <tr>\n",
       "      <th>184</th>\n",
       "      <td>S63-T2</td>\n",
       "      <td>S63</td>\n",
       "      <td>48.870628</td>\n",
       "      <td>2.33321</td>\n",
       "      <td>7 BOULEVARD DES CAPUCINES</td>\n",
       "      <td>Paris</td>\n",
       "      <td>75002</td>\n",
       "      <td>E/F</td>\n",
       "    </tr>\n",
       "  </tbody>\n",
       "</table>\n",
       "</div>"
      ],
      "text/plain": [
       "       t_id s_id   latitude  longitude                     street   city  \\\n",
       "54   S63-T1  S63  48.870628    2.33321  7 BOULEVARD DES CAPUCINES  Paris   \n",
       "55   S63-T3  S63  48.870628    2.33321  7 BOULEVARD DES CAPUCINES  Paris   \n",
       "184  S63-T2  S63  48.870628    2.33321  7 BOULEVARD DES CAPUCINES  Paris   \n",
       "\n",
       "     zipcode                        model  \n",
       "54     75002  CHAdeMO, E/F, Combo, T2, T3  \n",
       "55     75002  E/F, Combo, CHAdeMO, T2, T3  \n",
       "184    75002                          E/F  "
      ]
     },
     "execution_count": 17,
     "metadata": {},
     "output_type": "execute_result"
    }
   ],
   "source": [
    "info_static[info_static['s_id'] == 'S63']"
   ]
  },
  {
   "cell_type": "code",
   "execution_count": 18,
   "metadata": {},
   "outputs": [
    {
     "data": {
      "text/plain": [
       "{'CHAdeMO', 'Combo', 'E/F', 'T2', 'T3'}"
      ]
     },
     "execution_count": 18,
     "metadata": {},
     "output_type": "execute_result"
    }
   ],
   "source": [
    "set(', '.join(info_static['model'].to_list()).split(', '))"
   ]
  },
  {
   "cell_type": "markdown",
   "metadata": {},
   "source": [
    "Capture station types in OHE features"
   ]
  },
  {
   "cell_type": "code",
   "execution_count": 19,
   "metadata": {},
   "outputs": [],
   "source": [
    "for i in ['CHAdeMO', 'Combo', 'E/F', 'T2', 'T3']:\n",
    "    col_name = 'model = ' + i\n",
    "    info_static[col_name] = 0\n",
    "    info_static.loc[info_static['model'].str.contains(i), col_name] = 1"
   ]
  },
  {
   "cell_type": "code",
   "execution_count": 20,
   "metadata": {},
   "outputs": [],
   "source": [
    "info_static.drop('model', 1, inplace = True)"
   ]
  },
  {
   "cell_type": "code",
   "execution_count": 21,
   "metadata": {},
   "outputs": [
    {
     "data": {
      "text/html": [
       "<div>\n",
       "<style scoped>\n",
       "    .dataframe tbody tr th:only-of-type {\n",
       "        vertical-align: middle;\n",
       "    }\n",
       "\n",
       "    .dataframe tbody tr th {\n",
       "        vertical-align: top;\n",
       "    }\n",
       "\n",
       "    .dataframe thead th {\n",
       "        text-align: right;\n",
       "    }\n",
       "</style>\n",
       "<table border=\"1\" class=\"dataframe\">\n",
       "  <thead>\n",
       "    <tr style=\"text-align: right;\">\n",
       "      <th></th>\n",
       "      <th>t_id</th>\n",
       "      <th>s_id</th>\n",
       "      <th>latitude</th>\n",
       "      <th>longitude</th>\n",
       "      <th>street</th>\n",
       "      <th>city</th>\n",
       "      <th>zipcode</th>\n",
       "      <th>model = CHAdeMO</th>\n",
       "      <th>model = Combo</th>\n",
       "      <th>model = E/F</th>\n",
       "      <th>model = T2</th>\n",
       "      <th>model = T3</th>\n",
       "    </tr>\n",
       "  </thead>\n",
       "  <tbody>\n",
       "    <tr>\n",
       "      <th>0</th>\n",
       "      <td>S84-T1</td>\n",
       "      <td>S84</td>\n",
       "      <td>48.863766</td>\n",
       "      <td>2.41177</td>\n",
       "      <td>104 RUE LOUIS LUMIERE</td>\n",
       "      <td>Paris</td>\n",
       "      <td>75020</td>\n",
       "      <td>1</td>\n",
       "      <td>1</td>\n",
       "      <td>1</td>\n",
       "      <td>1</td>\n",
       "      <td>1</td>\n",
       "    </tr>\n",
       "    <tr>\n",
       "      <th>1</th>\n",
       "      <td>S84-T3</td>\n",
       "      <td>S84</td>\n",
       "      <td>48.863766</td>\n",
       "      <td>2.41177</td>\n",
       "      <td>104 RUE LOUIS LUMIERE</td>\n",
       "      <td>Paris</td>\n",
       "      <td>75020</td>\n",
       "      <td>1</td>\n",
       "      <td>1</td>\n",
       "      <td>1</td>\n",
       "      <td>1</td>\n",
       "      <td>1</td>\n",
       "    </tr>\n",
       "  </tbody>\n",
       "</table>\n",
       "</div>"
      ],
      "text/plain": [
       "     t_id s_id   latitude  longitude                 street   city  zipcode  \\\n",
       "0  S84-T1  S84  48.863766    2.41177  104 RUE LOUIS LUMIERE  Paris    75020   \n",
       "1  S84-T3  S84  48.863766    2.41177  104 RUE LOUIS LUMIERE  Paris    75020   \n",
       "\n",
       "   model = CHAdeMO  model = Combo  model = E/F  model = T2  model = T3  \n",
       "0                1              1            1           1           1  \n",
       "1                1              1            1           1           1  "
      ]
     },
     "execution_count": 21,
     "metadata": {},
     "output_type": "execute_result"
    }
   ],
   "source": [
    "info_static.head(2)"
   ]
  },
  {
   "cell_type": "code",
   "execution_count": 22,
   "metadata": {},
   "outputs": [
    {
     "data": {
      "text/plain": [
       "model = CHAdeMO  model = Combo  model = E/F  model = T2  model = T3\n",
       "1                1              1            1           1             182\n",
       "0                0              1            0           0              91\n",
       "dtype: int64"
      ]
     },
     "execution_count": 22,
     "metadata": {},
     "output_type": "execute_result"
    }
   ],
   "source": [
    "info_static.filter(like = 'model').value_counts()"
   ]
  },
  {
   "cell_type": "code",
   "execution_count": 23,
   "metadata": {},
   "outputs": [],
   "source": [
    "info_static['model = only E/F'] = 0\n",
    "info_static.loc[(info_static['model = E/F'] == 1) & (info_static['model = Combo'] == 0), 'model = only E/F'] = 1\n",
    "\n",
    "info_static['model = all'] = 0\n",
    "info_static.loc[(info_static['model = E/F'] == 1) & (info_static['model = Combo'] == 1), 'model = all'] = 1"
   ]
  },
  {
   "cell_type": "code",
   "execution_count": 24,
   "metadata": {},
   "outputs": [],
   "source": [
    "info_static.drop(info_static.filter(like = 'model').columns[:-2], 1, inplace = True)"
   ]
  },
  {
   "cell_type": "code",
   "execution_count": 25,
   "metadata": {},
   "outputs": [
    {
     "data": {
      "application/vnd.plotly.v1+json": {
       "config": {
        "plotlyServerURL": "https://plot.ly"
       },
       "data": [
        {
         "hovertemplate": "<b>%{hovertext}</b><br><br>size_for_plot=%{marker.size}<br>latitude=%{lat}<br>longitude=%{lon}<br>model = all=%{marker.color}<extra></extra>",
         "hovertext": [
          "S84",
          "S84",
          "S86",
          "S86",
          "S86",
          "S68",
          "S68",
          "S28",
          "S28",
          "S17",
          "S17",
          "S17",
          "S67",
          "S67",
          "S67",
          "S49",
          "S49",
          "S49",
          "S32",
          "S32",
          "S6",
          "S6",
          "S6",
          "S97",
          "S97",
          "S97",
          "S16",
          "S16",
          "S74",
          "S74",
          "S74",
          "S9",
          "S9",
          "S9",
          "S37",
          "S37",
          "S37",
          "S80",
          "S80",
          "S20",
          "S20",
          "S94",
          "S94",
          "S29",
          "S29",
          "S29",
          "S34",
          "S34",
          "S34",
          "S77",
          "S77",
          "S48",
          "S48",
          "S48",
          "S63",
          "S63",
          "S70",
          "S70",
          "S70",
          "S8",
          "S8",
          "S8",
          "S11",
          "S11",
          "S56",
          "S56",
          "S56",
          "S99",
          "S99",
          "S99",
          "S3",
          "S3",
          "S3",
          "S4",
          "S4",
          "S39",
          "S39",
          "S39",
          "S52",
          "S52",
          "S53",
          "S53",
          "S96",
          "S96",
          "S96",
          "S5",
          "S5",
          "S5",
          "S69",
          "S69",
          "S12",
          "S15",
          "S15",
          "S15",
          "S38",
          "S38",
          "S26",
          "S26",
          "S71",
          "S50",
          "S50",
          "S50",
          "S95",
          "S95",
          "S95",
          "S31",
          "S31",
          "S31",
          "S60",
          "S60",
          "S64",
          "S64",
          "S64",
          "S21",
          "S21",
          "S30",
          "S30",
          "S72",
          "S72",
          "S72",
          "S24",
          "S24",
          "S24",
          "S93",
          "S93",
          "S93",
          "S98",
          "S98",
          "S88",
          "S88",
          "S88",
          "S2",
          "S2",
          "S91",
          "S91",
          "S91",
          "S46",
          "S46",
          "S76",
          "S76",
          "S76",
          "S10",
          "S10",
          "S83",
          "S83",
          "S83",
          "S51",
          "S51",
          "S75",
          "S75",
          "S18",
          "S18",
          "S18",
          "S45",
          "S45",
          "S89",
          "S89",
          "S89",
          "S13",
          "S13",
          "S35",
          "S35",
          "S35",
          "S25",
          "S25",
          "S25",
          "S79",
          "S79",
          "S36",
          "S27",
          "S27",
          "S27",
          "S78",
          "S78",
          "S78",
          "S84",
          "S68",
          "S28",
          "S32",
          "S16",
          "S80",
          "S20",
          "S94",
          "S77",
          "S63",
          "S11",
          "S4",
          "S52",
          "S53",
          "S69",
          "S12",
          "S12",
          "S38",
          "S26",
          "S71",
          "S71",
          "S60",
          "S21",
          "S30",
          "S98",
          "S2",
          "S46",
          "S10",
          "S51",
          "S75",
          "S45",
          "S13",
          "S79",
          "S36",
          "S36",
          "S7",
          "S19",
          "S85",
          "S62",
          "S14",
          "S33",
          "S33",
          "S66",
          "S65",
          "S92",
          "S58",
          "S58",
          "S59",
          "S7",
          "S19",
          "S23",
          "S66",
          "S41",
          "S65",
          "S92",
          "S1",
          "S22",
          "S57",
          "S42",
          "S66",
          "S82",
          "S22",
          "S22",
          "S47",
          "S82",
          "S59",
          "S23",
          "S87",
          "S1",
          "S58",
          "S81",
          "S81",
          "S47",
          "S57",
          "S42",
          "S87",
          "S82",
          "S59",
          "S62",
          "S41",
          "S85",
          "S85",
          "S1",
          "S14",
          "S14",
          "S33",
          "S87",
          "S65",
          "S92",
          "S19",
          "S62",
          "S23",
          "S81",
          "S41",
          "S7",
          "S57",
          "S47",
          "S42"
         ],
         "lat": [
          48.863766,
          48.863766,
          48.89061,
          48.89061,
          48.89061,
          48.875465,
          48.875465,
          48.864719,
          48.864719,
          48.8452653,
          48.8452653,
          48.8452653,
          48.878799,
          48.878799,
          48.878799,
          48.831448,
          48.831448,
          48.831448,
          48.84477,
          48.84477,
          48.882794,
          48.882794,
          48.882794,
          48.839947,
          48.839947,
          48.839947,
          48.889731,
          48.889731,
          48.834705,
          48.834705,
          48.834705,
          48.878965,
          48.878965,
          48.878965,
          48.857124,
          48.857124,
          48.857124,
          48.897671,
          48.897671,
          48.882718,
          48.882718,
          48.833603,
          48.833603,
          48.854057,
          48.854057,
          48.854057,
          48.85212550000001,
          48.85212550000001,
          48.85212550000001,
          48.837055,
          48.837055,
          48.832893,
          48.832893,
          48.832893,
          48.870628,
          48.870628,
          48.834084,
          48.834084,
          48.834084,
          48.8847205,
          48.8847205,
          48.8847205,
          48.861016,
          48.861016,
          48.828454,
          48.828454,
          48.828454,
          48.8778,
          48.8778,
          48.8778,
          48.876162,
          48.876162,
          48.876162,
          48.871465,
          48.871465,
          48.852665,
          48.852665,
          48.852665,
          48.86154,
          48.86154,
          48.835709,
          48.835709,
          48.835499,
          48.835499,
          48.835499,
          48.865501,
          48.865501,
          48.865501,
          48.847446,
          48.847446,
          48.824388,
          48.846295,
          48.846295,
          48.846295,
          48.847931,
          48.847931,
          48.865311,
          48.865311,
          48.826504,
          48.83086,
          48.83086,
          48.83086,
          48.868511,
          48.868511,
          48.868511,
          48.85104,
          48.85104,
          48.85104,
          48.874134,
          48.874134,
          48.865788,
          48.865788,
          48.865788,
          48.8260387,
          48.8260387,
          48.845715,
          48.845715,
          48.82085,
          48.82085,
          48.82085,
          48.841742,
          48.841742,
          48.841742,
          48.859184,
          48.859184,
          48.859184,
          48.84998,
          48.84998,
          48.82312,
          48.82312,
          48.82312,
          48.878897,
          48.878897,
          48.857094,
          48.857094,
          48.857094,
          48.847485,
          48.847485,
          48.863602,
          48.863602,
          48.863602,
          48.86424,
          48.86424,
          48.880421,
          48.880421,
          48.880421,
          48.841198,
          48.841198,
          48.846214,
          48.846214,
          48.846761,
          48.846761,
          48.846761,
          48.858952,
          48.858952,
          48.88842,
          48.88842,
          48.88842,
          48.88264,
          48.88264,
          48.849911,
          48.849911,
          48.849911,
          48.89311,
          48.89311,
          48.89311,
          48.881168,
          48.881168,
          48.857552,
          48.86003,
          48.86003,
          48.86003,
          48.846653,
          48.846653,
          48.846653,
          48.863766,
          48.875465,
          48.864719,
          48.84477,
          48.889731,
          48.897671,
          48.882718,
          48.833603,
          48.837055,
          48.870628,
          48.861016,
          48.871465,
          48.86154,
          48.835709,
          48.847446,
          48.824388,
          48.824388,
          48.847931,
          48.865311,
          48.826504,
          48.826504,
          48.874134,
          48.8260387,
          48.845715,
          48.84998,
          48.878897,
          48.847485,
          48.86424,
          48.841198,
          48.846214,
          48.858952,
          48.88264,
          48.881168,
          48.857552,
          48.857552,
          48.8534452,
          48.877409,
          48.872192,
          48.880698,
          48.840977,
          48.8524588,
          48.8524588,
          48.851025,
          48.84824,
          48.841663,
          48.879654,
          48.879654,
          48.883282,
          48.8534452,
          48.877409,
          48.86535800000001,
          48.851025,
          48.86937,
          48.84824,
          48.841663,
          48.855667,
          48.841529,
          48.885689,
          48.875854,
          48.851025,
          48.889011,
          48.841529,
          48.841529,
          48.820007,
          48.889011,
          48.883282,
          48.86535800000001,
          48.865097,
          48.855667,
          48.879654,
          48.891102,
          48.891102,
          48.820007,
          48.885689,
          48.875854,
          48.865097,
          48.889011,
          48.883282,
          48.880698,
          48.86937,
          48.872192,
          48.872192,
          48.855667,
          48.840977,
          48.840977,
          48.8524588,
          48.865097,
          48.84824,
          48.841663,
          48.877409,
          48.880698,
          48.86535800000001,
          48.891102,
          48.86937,
          48.8534452,
          48.885689,
          48.820007,
          48.875854
         ],
         "legendgroup": "",
         "lon": [
          2.41177,
          2.41177,
          2.35423,
          2.35423,
          2.35423,
          2.360103,
          2.360103,
          2.359043,
          2.359043,
          2.4112383000000364,
          2.4112383000000364,
          2.4112383000000364,
          2.368851,
          2.368851,
          2.368851,
          2.320052,
          2.320052,
          2.320052,
          2.35242,
          2.35242,
          2.382705,
          2.382705,
          2.382705,
          2.397822,
          2.397822,
          2.397822,
          2.33891,
          2.33891,
          2.305529,
          2.305529,
          2.305529,
          2.293606,
          2.293606,
          2.293606,
          2.327753,
          2.327753,
          2.327753,
          2.352758,
          2.352758,
          2.319768,
          2.319768,
          2.389173,
          2.389173,
          2.34556,
          2.34556,
          2.34556,
          2.331345899999974,
          2.331345899999974,
          2.331345899999974,
          2.259932,
          2.259932,
          2.363025,
          2.363025,
          2.363025,
          2.33321,
          2.33321,
          2.405248,
          2.405248,
          2.405248,
          2.3699612000000343,
          2.3699612000000343,
          2.3699612000000343,
          2.28308,
          2.28308,
          2.3006427999999914,
          2.3006427999999914,
          2.3006427999999914,
          2.39182,
          2.39182,
          2.39182,
          2.286403,
          2.286403,
          2.286403,
          2.289894,
          2.289894,
          2.31368,
          2.31368,
          2.31368,
          2.31159,
          2.31159,
          2.286912,
          2.286912,
          2.34965,
          2.34965,
          2.34965,
          2.315463,
          2.315463,
          2.315463,
          2.38804,
          2.38804,
          2.336857,
          2.3748774000000594,
          2.3748774000000594,
          2.3748774000000594,
          2.309952,
          2.309952,
          2.343436,
          2.343436,
          2.343366,
          2.325895,
          2.325895,
          2.325895,
          2.295469,
          2.295469,
          2.295469,
          2.345493,
          2.345493,
          2.345493,
          2.405196,
          2.405196,
          2.342244,
          2.342244,
          2.342244,
          2.3581455999999434,
          2.3581455999999434,
          2.345032,
          2.345032,
          2.343626,
          2.343626,
          2.343626,
          2.375639,
          2.375639,
          2.375639,
          2.273944,
          2.273944,
          2.273944,
          2.36192,
          2.36192,
          2.367798,
          2.367798,
          2.367798,
          2.355064,
          2.355064,
          2.403802,
          2.403802,
          2.403802,
          2.401736,
          2.401736,
          2.27153,
          2.27153,
          2.27153,
          2.397724,
          2.397724,
          2.398476,
          2.398476,
          2.398476,
          2.323891,
          2.323891,
          2.279884,
          2.279884,
          2.268339,
          2.268339,
          2.268339,
          2.379874,
          2.379874,
          2.388149,
          2.388149,
          2.388149,
          2.335728,
          2.335728,
          2.307126,
          2.307126,
          2.307126,
          2.34066,
          2.34066,
          2.34066,
          2.313751,
          2.313751,
          2.30437,
          2.34046,
          2.34046,
          2.34046,
          2.258213,
          2.258213,
          2.258213,
          2.41177,
          2.360103,
          2.359043,
          2.35242,
          2.33891,
          2.352758,
          2.319768,
          2.389173,
          2.259932,
          2.33321,
          2.28308,
          2.289894,
          2.31159,
          2.286912,
          2.38804,
          2.336857,
          2.336857,
          2.309952,
          2.343436,
          2.343366,
          2.343366,
          2.405196,
          2.3581455999999434,
          2.345032,
          2.36192,
          2.355064,
          2.401736,
          2.397724,
          2.323891,
          2.279884,
          2.379874,
          2.335728,
          2.313751,
          2.30437,
          2.30437,
          2.3868801999999505,
          2.392178,
          2.377671,
          2.321369,
          2.317465,
          2.3414834000000155,
          2.3414834000000155,
          2.326367,
          2.339865,
          2.286931,
          2.302442,
          2.302442,
          2.286938,
          2.3868801999999505,
          2.392178,
          2.377938800000038,
          2.326367,
          2.303269,
          2.339865,
          2.286931,
          2.354089,
          2.298576,
          2.297463,
          2.309542,
          2.326367,
          2.371768,
          2.298576,
          2.298576,
          2.365661,
          2.371768,
          2.286938,
          2.377938800000038,
          2.36554,
          2.354089,
          2.302442,
          2.327102,
          2.327102,
          2.365661,
          2.297463,
          2.309542,
          2.36554,
          2.371768,
          2.286938,
          2.321369,
          2.303269,
          2.377671,
          2.377671,
          2.354089,
          2.317465,
          2.317465,
          2.3414834000000155,
          2.36554,
          2.339865,
          2.286931,
          2.392178,
          2.321369,
          2.377938800000038,
          2.327102,
          2.303269,
          2.3868801999999505,
          2.297463,
          2.365661,
          2.309542
         ],
         "marker": {
          "color": [
           1,
           1,
           1,
           0,
           1,
           1,
           1,
           1,
           1,
           1,
           1,
           0,
           1,
           0,
           1,
           1,
           1,
           0,
           1,
           1,
           0,
           1,
           1,
           1,
           0,
           1,
           1,
           1,
           1,
           0,
           1,
           1,
           1,
           0,
           1,
           0,
           1,
           1,
           1,
           1,
           1,
           1,
           1,
           1,
           1,
           0,
           1,
           1,
           0,
           1,
           1,
           1,
           1,
           0,
           1,
           1,
           1,
           0,
           1,
           1,
           0,
           1,
           1,
           1,
           1,
           1,
           0,
           1,
           0,
           1,
           1,
           1,
           0,
           1,
           1,
           1,
           1,
           0,
           1,
           1,
           1,
           1,
           1,
           0,
           1,
           1,
           1,
           0,
           1,
           1,
           1,
           1,
           1,
           0,
           1,
           1,
           1,
           0,
           1,
           0,
           1,
           1,
           1,
           0,
           1,
           1,
           1,
           0,
           1,
           1,
           1,
           0,
           1,
           1,
           1,
           1,
           1,
           1,
           0,
           1,
           0,
           1,
           1,
           1,
           0,
           1,
           1,
           1,
           1,
           0,
           1,
           1,
           0,
           1,
           0,
           1,
           1,
           1,
           1,
           0,
           1,
           1,
           1,
           1,
           0,
           1,
           1,
           1,
           1,
           1,
           1,
           1,
           0,
           1,
           1,
           1,
           0,
           1,
           1,
           1,
           1,
           1,
           0,
           1,
           0,
           1,
           1,
           1,
           1,
           1,
           1,
           0,
           1,
           0,
           1,
           0,
           0,
           0,
           0,
           0,
           0,
           0,
           0,
           0,
           0,
           0,
           0,
           0,
           0,
           0,
           1,
           0,
           0,
           1,
           1,
           0,
           0,
           0,
           0,
           0,
           1,
           0,
           0,
           0,
           0,
           0,
           0,
           0,
           1,
           0,
           1,
           1,
           1,
           1,
           1,
           1,
           1,
           1,
           1,
           1,
           1,
           1,
           1,
           1,
           1,
           1,
           1,
           1,
           1,
           1,
           0,
           1,
           1,
           1,
           0,
           0,
           1,
           0,
           1,
           1,
           1,
           1,
           1,
           1,
           0,
           1,
           1,
           1,
           1,
           1,
           1,
           1,
           0,
           1,
           1,
           0,
           1,
           1,
           0,
           1,
           0,
           0,
           0,
           0,
           0,
           0,
           0,
           0,
           0,
           0,
           0,
           0,
           0
          ],
          "coloraxis": "coloraxis",
          "size": [
           10,
           10,
           10,
           10,
           10,
           10,
           10,
           10,
           10,
           10,
           10,
           10,
           10,
           10,
           10,
           10,
           10,
           10,
           10,
           10,
           10,
           10,
           10,
           10,
           10,
           10,
           10,
           10,
           10,
           10,
           10,
           10,
           10,
           10,
           10,
           10,
           10,
           10,
           10,
           10,
           10,
           10,
           10,
           10,
           10,
           10,
           10,
           10,
           10,
           10,
           10,
           10,
           10,
           10,
           10,
           10,
           10,
           10,
           10,
           10,
           10,
           10,
           10,
           10,
           10,
           10,
           10,
           10,
           10,
           10,
           10,
           10,
           10,
           10,
           10,
           10,
           10,
           10,
           10,
           10,
           10,
           10,
           10,
           10,
           10,
           10,
           10,
           10,
           10,
           10,
           10,
           10,
           10,
           10,
           10,
           10,
           10,
           10,
           10,
           10,
           10,
           10,
           10,
           10,
           10,
           10,
           10,
           10,
           10,
           10,
           10,
           10,
           10,
           10,
           10,
           10,
           10,
           10,
           10,
           10,
           10,
           10,
           10,
           10,
           10,
           10,
           10,
           10,
           10,
           10,
           10,
           10,
           10,
           10,
           10,
           10,
           10,
           10,
           10,
           10,
           10,
           10,
           10,
           10,
           10,
           10,
           10,
           10,
           10,
           10,
           10,
           10,
           10,
           10,
           10,
           10,
           10,
           10,
           10,
           10,
           10,
           10,
           10,
           10,
           10,
           10,
           10,
           10,
           10,
           10,
           10,
           10,
           10,
           10,
           10,
           10,
           10,
           10,
           10,
           10,
           10,
           10,
           10,
           10,
           10,
           10,
           10,
           10,
           10,
           10,
           10,
           10,
           10,
           10,
           10,
           10,
           10,
           10,
           10,
           10,
           10,
           10,
           10,
           10,
           10,
           10,
           10,
           10,
           10,
           10,
           10,
           10,
           10,
           10,
           10,
           10,
           10,
           10,
           10,
           10,
           10,
           10,
           10,
           10,
           10,
           10,
           10,
           10,
           10,
           10,
           10,
           10,
           10,
           10,
           10,
           10,
           10,
           10,
           10,
           10,
           10,
           10,
           10,
           10,
           10,
           10,
           10,
           10,
           10,
           10,
           10,
           10,
           10,
           10,
           10,
           10,
           10,
           10,
           10,
           10,
           10,
           10,
           10,
           10,
           10,
           10,
           10,
           10,
           10,
           10,
           10,
           10,
           10
          ],
          "sizemode": "area",
          "sizeref": 0.4
         },
         "mode": "markers",
         "name": "",
         "showlegend": false,
         "subplot": "mapbox",
         "type": "scattermapbox"
        }
       ],
       "layout": {
        "coloraxis": {
         "colorbar": {
          "title": {
           "text": "model = all"
          }
         },
         "colorscale": [
          [
           0,
           "#0d0887"
          ],
          [
           0.1111111111111111,
           "#46039f"
          ],
          [
           0.2222222222222222,
           "#7201a8"
          ],
          [
           0.3333333333333333,
           "#9c179e"
          ],
          [
           0.4444444444444444,
           "#bd3786"
          ],
          [
           0.5555555555555556,
           "#d8576b"
          ],
          [
           0.6666666666666666,
           "#ed7953"
          ],
          [
           0.7777777777777778,
           "#fb9f3a"
          ],
          [
           0.8888888888888888,
           "#fdca26"
          ],
          [
           1,
           "#f0f921"
          ]
         ]
        },
        "height": 750,
        "legend": {
         "itemsizing": "constant",
         "tracegroupgap": 0
        },
        "mapbox": {
         "center": {
          "lat": 48.85848778021978,
          "lon": 2.339993336263737
         },
         "domain": {
          "x": [
           0,
           1
          ],
          "y": [
           0,
           1
          ]
         },
         "style": "carto-positron",
         "zoom": 11
        },
        "margin": {
         "t": 60
        },
        "template": {
         "data": {
          "bar": [
           {
            "error_x": {
             "color": "#2a3f5f"
            },
            "error_y": {
             "color": "#2a3f5f"
            },
            "marker": {
             "line": {
              "color": "#E5ECF6",
              "width": 0.5
             },
             "pattern": {
              "fillmode": "overlay",
              "size": 10,
              "solidity": 0.2
             }
            },
            "type": "bar"
           }
          ],
          "barpolar": [
           {
            "marker": {
             "line": {
              "color": "#E5ECF6",
              "width": 0.5
             },
             "pattern": {
              "fillmode": "overlay",
              "size": 10,
              "solidity": 0.2
             }
            },
            "type": "barpolar"
           }
          ],
          "carpet": [
           {
            "aaxis": {
             "endlinecolor": "#2a3f5f",
             "gridcolor": "white",
             "linecolor": "white",
             "minorgridcolor": "white",
             "startlinecolor": "#2a3f5f"
            },
            "baxis": {
             "endlinecolor": "#2a3f5f",
             "gridcolor": "white",
             "linecolor": "white",
             "minorgridcolor": "white",
             "startlinecolor": "#2a3f5f"
            },
            "type": "carpet"
           }
          ],
          "choropleth": [
           {
            "colorbar": {
             "outlinewidth": 0,
             "ticks": ""
            },
            "type": "choropleth"
           }
          ],
          "contour": [
           {
            "colorbar": {
             "outlinewidth": 0,
             "ticks": ""
            },
            "colorscale": [
             [
              0,
              "#0d0887"
             ],
             [
              0.1111111111111111,
              "#46039f"
             ],
             [
              0.2222222222222222,
              "#7201a8"
             ],
             [
              0.3333333333333333,
              "#9c179e"
             ],
             [
              0.4444444444444444,
              "#bd3786"
             ],
             [
              0.5555555555555556,
              "#d8576b"
             ],
             [
              0.6666666666666666,
              "#ed7953"
             ],
             [
              0.7777777777777778,
              "#fb9f3a"
             ],
             [
              0.8888888888888888,
              "#fdca26"
             ],
             [
              1,
              "#f0f921"
             ]
            ],
            "type": "contour"
           }
          ],
          "contourcarpet": [
           {
            "colorbar": {
             "outlinewidth": 0,
             "ticks": ""
            },
            "type": "contourcarpet"
           }
          ],
          "heatmap": [
           {
            "colorbar": {
             "outlinewidth": 0,
             "ticks": ""
            },
            "colorscale": [
             [
              0,
              "#0d0887"
             ],
             [
              0.1111111111111111,
              "#46039f"
             ],
             [
              0.2222222222222222,
              "#7201a8"
             ],
             [
              0.3333333333333333,
              "#9c179e"
             ],
             [
              0.4444444444444444,
              "#bd3786"
             ],
             [
              0.5555555555555556,
              "#d8576b"
             ],
             [
              0.6666666666666666,
              "#ed7953"
             ],
             [
              0.7777777777777778,
              "#fb9f3a"
             ],
             [
              0.8888888888888888,
              "#fdca26"
             ],
             [
              1,
              "#f0f921"
             ]
            ],
            "type": "heatmap"
           }
          ],
          "heatmapgl": [
           {
            "colorbar": {
             "outlinewidth": 0,
             "ticks": ""
            },
            "colorscale": [
             [
              0,
              "#0d0887"
             ],
             [
              0.1111111111111111,
              "#46039f"
             ],
             [
              0.2222222222222222,
              "#7201a8"
             ],
             [
              0.3333333333333333,
              "#9c179e"
             ],
             [
              0.4444444444444444,
              "#bd3786"
             ],
             [
              0.5555555555555556,
              "#d8576b"
             ],
             [
              0.6666666666666666,
              "#ed7953"
             ],
             [
              0.7777777777777778,
              "#fb9f3a"
             ],
             [
              0.8888888888888888,
              "#fdca26"
             ],
             [
              1,
              "#f0f921"
             ]
            ],
            "type": "heatmapgl"
           }
          ],
          "histogram": [
           {
            "marker": {
             "pattern": {
              "fillmode": "overlay",
              "size": 10,
              "solidity": 0.2
             }
            },
            "type": "histogram"
           }
          ],
          "histogram2d": [
           {
            "colorbar": {
             "outlinewidth": 0,
             "ticks": ""
            },
            "colorscale": [
             [
              0,
              "#0d0887"
             ],
             [
              0.1111111111111111,
              "#46039f"
             ],
             [
              0.2222222222222222,
              "#7201a8"
             ],
             [
              0.3333333333333333,
              "#9c179e"
             ],
             [
              0.4444444444444444,
              "#bd3786"
             ],
             [
              0.5555555555555556,
              "#d8576b"
             ],
             [
              0.6666666666666666,
              "#ed7953"
             ],
             [
              0.7777777777777778,
              "#fb9f3a"
             ],
             [
              0.8888888888888888,
              "#fdca26"
             ],
             [
              1,
              "#f0f921"
             ]
            ],
            "type": "histogram2d"
           }
          ],
          "histogram2dcontour": [
           {
            "colorbar": {
             "outlinewidth": 0,
             "ticks": ""
            },
            "colorscale": [
             [
              0,
              "#0d0887"
             ],
             [
              0.1111111111111111,
              "#46039f"
             ],
             [
              0.2222222222222222,
              "#7201a8"
             ],
             [
              0.3333333333333333,
              "#9c179e"
             ],
             [
              0.4444444444444444,
              "#bd3786"
             ],
             [
              0.5555555555555556,
              "#d8576b"
             ],
             [
              0.6666666666666666,
              "#ed7953"
             ],
             [
              0.7777777777777778,
              "#fb9f3a"
             ],
             [
              0.8888888888888888,
              "#fdca26"
             ],
             [
              1,
              "#f0f921"
             ]
            ],
            "type": "histogram2dcontour"
           }
          ],
          "mesh3d": [
           {
            "colorbar": {
             "outlinewidth": 0,
             "ticks": ""
            },
            "type": "mesh3d"
           }
          ],
          "parcoords": [
           {
            "line": {
             "colorbar": {
              "outlinewidth": 0,
              "ticks": ""
             }
            },
            "type": "parcoords"
           }
          ],
          "pie": [
           {
            "automargin": true,
            "type": "pie"
           }
          ],
          "scatter": [
           {
            "marker": {
             "colorbar": {
              "outlinewidth": 0,
              "ticks": ""
             }
            },
            "type": "scatter"
           }
          ],
          "scatter3d": [
           {
            "line": {
             "colorbar": {
              "outlinewidth": 0,
              "ticks": ""
             }
            },
            "marker": {
             "colorbar": {
              "outlinewidth": 0,
              "ticks": ""
             }
            },
            "type": "scatter3d"
           }
          ],
          "scattercarpet": [
           {
            "marker": {
             "colorbar": {
              "outlinewidth": 0,
              "ticks": ""
             }
            },
            "type": "scattercarpet"
           }
          ],
          "scattergeo": [
           {
            "marker": {
             "colorbar": {
              "outlinewidth": 0,
              "ticks": ""
             }
            },
            "type": "scattergeo"
           }
          ],
          "scattergl": [
           {
            "marker": {
             "colorbar": {
              "outlinewidth": 0,
              "ticks": ""
             }
            },
            "type": "scattergl"
           }
          ],
          "scattermapbox": [
           {
            "marker": {
             "colorbar": {
              "outlinewidth": 0,
              "ticks": ""
             }
            },
            "type": "scattermapbox"
           }
          ],
          "scatterpolar": [
           {
            "marker": {
             "colorbar": {
              "outlinewidth": 0,
              "ticks": ""
             }
            },
            "type": "scatterpolar"
           }
          ],
          "scatterpolargl": [
           {
            "marker": {
             "colorbar": {
              "outlinewidth": 0,
              "ticks": ""
             }
            },
            "type": "scatterpolargl"
           }
          ],
          "scatterternary": [
           {
            "marker": {
             "colorbar": {
              "outlinewidth": 0,
              "ticks": ""
             }
            },
            "type": "scatterternary"
           }
          ],
          "surface": [
           {
            "colorbar": {
             "outlinewidth": 0,
             "ticks": ""
            },
            "colorscale": [
             [
              0,
              "#0d0887"
             ],
             [
              0.1111111111111111,
              "#46039f"
             ],
             [
              0.2222222222222222,
              "#7201a8"
             ],
             [
              0.3333333333333333,
              "#9c179e"
             ],
             [
              0.4444444444444444,
              "#bd3786"
             ],
             [
              0.5555555555555556,
              "#d8576b"
             ],
             [
              0.6666666666666666,
              "#ed7953"
             ],
             [
              0.7777777777777778,
              "#fb9f3a"
             ],
             [
              0.8888888888888888,
              "#fdca26"
             ],
             [
              1,
              "#f0f921"
             ]
            ],
            "type": "surface"
           }
          ],
          "table": [
           {
            "cells": {
             "fill": {
              "color": "#EBF0F8"
             },
             "line": {
              "color": "white"
             }
            },
            "header": {
             "fill": {
              "color": "#C8D4E3"
             },
             "line": {
              "color": "white"
             }
            },
            "type": "table"
           }
          ]
         },
         "layout": {
          "annotationdefaults": {
           "arrowcolor": "#2a3f5f",
           "arrowhead": 0,
           "arrowwidth": 1
          },
          "autotypenumbers": "strict",
          "coloraxis": {
           "colorbar": {
            "outlinewidth": 0,
            "ticks": ""
           }
          },
          "colorscale": {
           "diverging": [
            [
             0,
             "#8e0152"
            ],
            [
             0.1,
             "#c51b7d"
            ],
            [
             0.2,
             "#de77ae"
            ],
            [
             0.3,
             "#f1b6da"
            ],
            [
             0.4,
             "#fde0ef"
            ],
            [
             0.5,
             "#f7f7f7"
            ],
            [
             0.6,
             "#e6f5d0"
            ],
            [
             0.7,
             "#b8e186"
            ],
            [
             0.8,
             "#7fbc41"
            ],
            [
             0.9,
             "#4d9221"
            ],
            [
             1,
             "#276419"
            ]
           ],
           "sequential": [
            [
             0,
             "#0d0887"
            ],
            [
             0.1111111111111111,
             "#46039f"
            ],
            [
             0.2222222222222222,
             "#7201a8"
            ],
            [
             0.3333333333333333,
             "#9c179e"
            ],
            [
             0.4444444444444444,
             "#bd3786"
            ],
            [
             0.5555555555555556,
             "#d8576b"
            ],
            [
             0.6666666666666666,
             "#ed7953"
            ],
            [
             0.7777777777777778,
             "#fb9f3a"
            ],
            [
             0.8888888888888888,
             "#fdca26"
            ],
            [
             1,
             "#f0f921"
            ]
           ],
           "sequentialminus": [
            [
             0,
             "#0d0887"
            ],
            [
             0.1111111111111111,
             "#46039f"
            ],
            [
             0.2222222222222222,
             "#7201a8"
            ],
            [
             0.3333333333333333,
             "#9c179e"
            ],
            [
             0.4444444444444444,
             "#bd3786"
            ],
            [
             0.5555555555555556,
             "#d8576b"
            ],
            [
             0.6666666666666666,
             "#ed7953"
            ],
            [
             0.7777777777777778,
             "#fb9f3a"
            ],
            [
             0.8888888888888888,
             "#fdca26"
            ],
            [
             1,
             "#f0f921"
            ]
           ]
          },
          "colorway": [
           "#636efa",
           "#EF553B",
           "#00cc96",
           "#ab63fa",
           "#FFA15A",
           "#19d3f3",
           "#FF6692",
           "#B6E880",
           "#FF97FF",
           "#FECB52"
          ],
          "font": {
           "color": "#2a3f5f"
          },
          "geo": {
           "bgcolor": "white",
           "lakecolor": "white",
           "landcolor": "#E5ECF6",
           "showlakes": true,
           "showland": true,
           "subunitcolor": "white"
          },
          "hoverlabel": {
           "align": "left"
          },
          "hovermode": "closest",
          "mapbox": {
           "style": "light"
          },
          "paper_bgcolor": "white",
          "plot_bgcolor": "#E5ECF6",
          "polar": {
           "angularaxis": {
            "gridcolor": "white",
            "linecolor": "white",
            "ticks": ""
           },
           "bgcolor": "#E5ECF6",
           "radialaxis": {
            "gridcolor": "white",
            "linecolor": "white",
            "ticks": ""
           }
          },
          "scene": {
           "xaxis": {
            "backgroundcolor": "#E5ECF6",
            "gridcolor": "white",
            "gridwidth": 2,
            "linecolor": "white",
            "showbackground": true,
            "ticks": "",
            "zerolinecolor": "white"
           },
           "yaxis": {
            "backgroundcolor": "#E5ECF6",
            "gridcolor": "white",
            "gridwidth": 2,
            "linecolor": "white",
            "showbackground": true,
            "ticks": "",
            "zerolinecolor": "white"
           },
           "zaxis": {
            "backgroundcolor": "#E5ECF6",
            "gridcolor": "white",
            "gridwidth": 2,
            "linecolor": "white",
            "showbackground": true,
            "ticks": "",
            "zerolinecolor": "white"
           }
          },
          "shapedefaults": {
           "line": {
            "color": "#2a3f5f"
           }
          },
          "ternary": {
           "aaxis": {
            "gridcolor": "white",
            "linecolor": "white",
            "ticks": ""
           },
           "baxis": {
            "gridcolor": "white",
            "linecolor": "white",
            "ticks": ""
           },
           "bgcolor": "#E5ECF6",
           "caxis": {
            "gridcolor": "white",
            "linecolor": "white",
            "ticks": ""
           }
          },
          "title": {
           "x": 0.05
          },
          "xaxis": {
           "automargin": true,
           "gridcolor": "white",
           "linecolor": "white",
           "ticks": "",
           "title": {
            "standoff": 15
           },
           "zerolinecolor": "white",
           "zerolinewidth": 2
          },
          "yaxis": {
           "automargin": true,
           "gridcolor": "white",
           "linecolor": "white",
           "ticks": "",
           "title": {
            "standoff": 15
           },
           "zerolinecolor": "white",
           "zerolinewidth": 2
          }
         }
        },
        "width": 950
       }
      }
     },
     "metadata": {},
     "output_type": "display_data"
    }
   ],
   "source": [
    "vEDA(info_static).plot_geo_map('latitude', 'longitude', zoom = 11, color_by='model = all', hover_name='s_id')"
   ]
  },
  {
   "cell_type": "markdown",
   "metadata": {},
   "source": [
    "Calculate 'neighbor information'\n",
    "\n",
    "- how many stations are there in a \n",
    "    - ~500m (0.05 DD)\n",
    "    - 1.11km (0.01 DD)\n",
    "    - 2.22km (0.02 DD)\n"
   ]
  },
  {
   "cell_type": "code",
   "execution_count": 26,
   "metadata": {},
   "outputs": [
    {
     "name": "stdout",
     "output_type": "stream",
     "text": [
      "(91, 3)\n"
     ]
    },
    {
     "data": {
      "text/html": [
       "<div>\n",
       "<style scoped>\n",
       "    .dataframe tbody tr th:only-of-type {\n",
       "        vertical-align: middle;\n",
       "    }\n",
       "\n",
       "    .dataframe tbody tr th {\n",
       "        vertical-align: top;\n",
       "    }\n",
       "\n",
       "    .dataframe thead th {\n",
       "        text-align: right;\n",
       "    }\n",
       "</style>\n",
       "<table border=\"1\" class=\"dataframe\">\n",
       "  <thead>\n",
       "    <tr style=\"text-align: right;\">\n",
       "      <th></th>\n",
       "      <th>latitude</th>\n",
       "      <th>longitude</th>\n",
       "    </tr>\n",
       "    <tr>\n",
       "      <th>s_id</th>\n",
       "      <th></th>\n",
       "      <th></th>\n",
       "    </tr>\n",
       "  </thead>\n",
       "  <tbody>\n",
       "    <tr>\n",
       "      <th>S84</th>\n",
       "      <td>48.863766</td>\n",
       "      <td>2.411770</td>\n",
       "    </tr>\n",
       "    <tr>\n",
       "      <th>S86</th>\n",
       "      <td>48.890610</td>\n",
       "      <td>2.354230</td>\n",
       "    </tr>\n",
       "    <tr>\n",
       "      <th>S68</th>\n",
       "      <td>48.875465</td>\n",
       "      <td>2.360103</td>\n",
       "    </tr>\n",
       "  </tbody>\n",
       "</table>\n",
       "</div>"
      ],
      "text/plain": [
       "       latitude  longitude\n",
       "s_id                      \n",
       "S84   48.863766   2.411770\n",
       "S86   48.890610   2.354230\n",
       "S68   48.875465   2.360103"
      ]
     },
     "execution_count": 26,
     "metadata": {},
     "output_type": "execute_result"
    }
   ],
   "source": [
    "station_info = info_static[['s_id', 'latitude', 'longitude']].drop_duplicates('s_id').copy()\n",
    "print(station_info.shape)\n",
    "station_info.set_index('s_id', inplace = True)\n",
    "station_info.head(3)"
   ]
  },
  {
   "cell_type": "code",
   "execution_count": 27,
   "metadata": {},
   "outputs": [],
   "source": [
    "tree = KDTree(station_info, leaf_size = 2)"
   ]
  },
  {
   "cell_type": "code",
   "execution_count": 28,
   "metadata": {},
   "outputs": [],
   "source": [
    "n05km = [i-1 for i in tree.query_radius(station_info, r = 0.005, count_only = True)]\n",
    "n1km = [i-1 for i in tree.query_radius(station_info, r = 0.01, count_only = True)]\n",
    "n2km = [i-1 for i in tree.query_radius(station_info, r = 0.02, count_only = True)]\n",
    "\n",
    "station_info['neighbors_500_m'] = n05km\n",
    "station_info['neighbors_1_km'] = n1km\n",
    "station_info['neighbors_2_km'] = n2km"
   ]
  },
  {
   "cell_type": "code",
   "execution_count": 29,
   "metadata": {},
   "outputs": [],
   "source": [
    "info_static = info_static.merge(station_info.reset_index().drop(['latitude', 'longitude'], 1), on = 's_id')"
   ]
  },
  {
   "cell_type": "code",
   "execution_count": null,
   "metadata": {},
   "outputs": [],
   "source": []
  },
  {
   "cell_type": "markdown",
   "metadata": {},
   "source": [
    "### SKIP: Try clustering terminals (y data) by finding similarly behaving ones and treating them the same\n",
    "\n",
    "1 prediction for a cluster = all predictions for terminals in the given cluster"
   ]
  },
  {
   "cell_type": "code",
   "execution_count": 30,
   "metadata": {},
   "outputs": [],
   "source": [
    "# mapper = {'Available' : 1, 'Charging' : 2, 'Passive' : 3, 'Offline' : 4, 'Down' : 5}\n",
    "# y_T_cluster = y.fillna('Offline').set_index('timestamp').T.replace(mapper)\n",
    "\n",
    "# #all(y_T_cluster.dtypes == 'int64')\n",
    "\n",
    "# clustering_metrics(y_T_cluster, K = range(110, 120 + 1))\n",
    "\n",
    "# y_clusters = plot_clusters_with_PCA(y_T_cluster, 2)"
   ]
  },
  {
   "cell_type": "markdown",
   "metadata": {},
   "source": [
    "Optimal cluster number seems to be:\n",
    "- 2: 0.5\n",
    "- 45: 0.3\n",
    "- 47: 0.31\n",
    "- 63, 66, 68, 69: 0.32\n",
    "- 83: 0.33\n",
    "- 106: 0.325"
   ]
  },
  {
   "cell_type": "code",
   "execution_count": null,
   "metadata": {},
   "outputs": [],
   "source": []
  },
  {
   "cell_type": "markdown",
   "metadata": {},
   "source": [
    "Expand X with y data"
   ]
  },
  {
   "cell_type": "code",
   "execution_count": 31,
   "metadata": {},
   "outputs": [
    {
     "name": "stdout",
     "output_type": "stream",
     "text": [
      "Wall time: 22.8 s\n"
     ]
    }
   ],
   "source": [
    "%%time\n",
    "\n",
    "y_transformed = y.fillna('Offline').melt(id_vars = 'timestamp', var_name = 't_id', value_name = 'target')\n",
    "y_transformed = y_transformed.merge(info_static[['t_id', 'latitude', 'longitude', 'model = only E/F', 'neighbors_500_m', 'neighbors_1_km', 'neighbors_2_km']],\n",
    "                                    on = 't_id')\n",
    "y_transformed['timestamp'] = pd.to_datetime(y_transformed['timestamp'])\n",
    "y_transformed['minute'] = y_transformed['timestamp'].dt.minute"
   ]
  },
  {
   "cell_type": "code",
   "execution_count": 32,
   "metadata": {},
   "outputs": [
    {
     "data": {
      "text/html": [
       "<div>\n",
       "<style scoped>\n",
       "    .dataframe tbody tr th:only-of-type {\n",
       "        vertical-align: middle;\n",
       "    }\n",
       "\n",
       "    .dataframe tbody tr th {\n",
       "        vertical-align: top;\n",
       "    }\n",
       "\n",
       "    .dataframe thead th {\n",
       "        text-align: right;\n",
       "    }\n",
       "</style>\n",
       "<table border=\"1\" class=\"dataframe\">\n",
       "  <thead>\n",
       "    <tr style=\"text-align: right;\">\n",
       "      <th></th>\n",
       "      <th>timestamp</th>\n",
       "      <th>t_id</th>\n",
       "      <th>target</th>\n",
       "      <th>latitude</th>\n",
       "      <th>longitude</th>\n",
       "      <th>model = only E/F</th>\n",
       "      <th>neighbors_500_m</th>\n",
       "      <th>neighbors_1_km</th>\n",
       "      <th>neighbors_2_km</th>\n",
       "      <th>minute</th>\n",
       "    </tr>\n",
       "  </thead>\n",
       "  <tbody>\n",
       "    <tr>\n",
       "      <th>0</th>\n",
       "      <td>2019-11-25 00:00:00+00:00</td>\n",
       "      <td>S7-T1</td>\n",
       "      <td>Down</td>\n",
       "      <td>48.853445</td>\n",
       "      <td>2.38688</td>\n",
       "      <td>0</td>\n",
       "      <td>0</td>\n",
       "      <td>2</td>\n",
       "      <td>10</td>\n",
       "      <td>0</td>\n",
       "    </tr>\n",
       "    <tr>\n",
       "      <th>1</th>\n",
       "      <td>2019-11-25 00:15:00+00:00</td>\n",
       "      <td>S7-T1</td>\n",
       "      <td>Down</td>\n",
       "      <td>48.853445</td>\n",
       "      <td>2.38688</td>\n",
       "      <td>0</td>\n",
       "      <td>0</td>\n",
       "      <td>2</td>\n",
       "      <td>10</td>\n",
       "      <td>15</td>\n",
       "    </tr>\n",
       "  </tbody>\n",
       "</table>\n",
       "</div>"
      ],
      "text/plain": [
       "                  timestamp   t_id target   latitude  longitude  \\\n",
       "0 2019-11-25 00:00:00+00:00  S7-T1   Down  48.853445    2.38688   \n",
       "1 2019-11-25 00:15:00+00:00  S7-T1   Down  48.853445    2.38688   \n",
       "\n",
       "   model = only E/F  neighbors_500_m  neighbors_1_km  neighbors_2_km  minute  \n",
       "0                 0                0               2              10       0  \n",
       "1                 0                0               2              10      15  "
      ]
     },
     "execution_count": 32,
     "metadata": {},
     "output_type": "execute_result"
    }
   ],
   "source": [
    "y_transformed.head(2)"
   ]
  },
  {
   "cell_type": "code",
   "execution_count": 33,
   "metadata": {},
   "outputs": [
    {
     "name": "stdout",
     "output_type": "stream",
     "text": [
      "(8526336, 20)\n",
      "Wall time: 14.5 s\n"
     ]
    }
   ],
   "source": [
    "%%time\n",
    "\n",
    "X_y = X.merge(y_transformed, on = 'timestamp', how = 'right').fillna(method='ffill')\n",
    "#X_y.drop(['t_id', 'timestamp'], 1, inplace = True)\n",
    "print(X_y.shape)"
   ]
  },
  {
   "cell_type": "markdown",
   "metadata": {},
   "source": [
    "### Calculate global aggregates about stations / terminals\n",
    "\n",
    "#### Ratio of statuses by hour-min"
   ]
  },
  {
   "cell_type": "code",
   "execution_count": 34,
   "metadata": {},
   "outputs": [],
   "source": [
    "X_agg = X_y.groupby(['t_id', 'hour', 'minute', 'target']).agg({'temperature' : 'count'}).reset_index()\n",
    "X_agg_total = X_y.groupby(['t_id', 'hour', 'minute']).agg({'wind_speed' : 'count'}).reset_index()\n",
    "\n",
    "X_agg = X_agg.merge(X_agg_total, on = ['t_id', 'hour', 'minute'])\n",
    "X_agg['ratios'] = X_agg['temperature'] / X_agg['wind_speed']\n",
    "X_agg.drop(['temperature', 'wind_speed'], 1, inplace = True)\n",
    "\n",
    "X_agg = X_agg.pivot_table(index = ['t_id', 'hour', 'minute'], columns = 'target', values = 'ratios').reset_index().fillna(0)\n",
    "\n",
    "X_agg.columns = ['t_id', 'hour', 'minute', 'Ratio of Available HOURMIN', 'Ratio of Charging HOURMIN', \n",
    "                'Ratio of Down HOURMIN',  'Ratio of Offline HOURMIN', 'Ratio of Passive HOURMIN']"
   ]
  },
  {
   "cell_type": "code",
   "execution_count": 35,
   "metadata": {},
   "outputs": [],
   "source": [
    "X_y = X_y.merge(X_agg, on = ['t_id', 'hour', 'minute'])"
   ]
  },
  {
   "cell_type": "markdown",
   "metadata": {},
   "source": [
    "#### Ratio of statuses by weekday - hour"
   ]
  },
  {
   "cell_type": "code",
   "execution_count": 36,
   "metadata": {},
   "outputs": [],
   "source": [
    "X_agg_DH = X_y.groupby(['t_id', 'day', 'hour', 'target']).agg({'temperature' : 'count'}).reset_index()\n",
    "X_agg_DH_total = X_y.groupby(['t_id', 'day', 'hour']).agg({'wind_speed' : 'count'}).reset_index()\n",
    "\n",
    "X_agg_DH = X_agg_DH.merge(X_agg_DH_total, on = ['t_id', 'day', 'hour'])\n",
    "X_agg_DH['ratios'] = X_agg_DH['temperature'] / X_agg_DH['wind_speed']\n",
    "X_agg_DH.drop(['temperature', 'wind_speed'], 1, inplace = True)\n",
    "\n",
    "X_agg_DH = X_agg_DH.pivot_table(index = ['t_id', 'day', 'hour'], columns = 'target', values = 'ratios').reset_index().fillna(0)\n",
    "\n",
    "X_agg_DH.columns = ['t_id', 'day', 'hour', 'Ratio of Available DAYHOUR', 'Ratio of Charging DAYHOUR', \n",
    "                'Ratio of Down DAYHOUR',  'Ratio of Offline DAYHOUR', 'Ratio of Passive DAYHOUR']"
   ]
  },
  {
   "cell_type": "code",
   "execution_count": 37,
   "metadata": {},
   "outputs": [],
   "source": [
    "X_y = X_y.merge(X_agg_DH, on = ['t_id', 'day', 'hour'])"
   ]
  },
  {
   "cell_type": "markdown",
   "metadata": {},
   "source": [
    "#### Ratio of statuses month - weekday"
   ]
  },
  {
   "cell_type": "code",
   "execution_count": 38,
   "metadata": {},
   "outputs": [],
   "source": [
    "X_agg_MD = X_y.groupby(['t_id', 'month', 'day', 'target']).agg({'temperature' : 'count'}).reset_index()\n",
    "X_agg_MD_total = X_y.groupby(['t_id', 'month', 'day']).agg({'wind_speed' : 'count'}).reset_index()\n",
    "\n",
    "X_agg_MD = X_agg_MD.merge(X_agg_MD_total, on = ['t_id', 'month', 'day'])\n",
    "X_agg_MD['ratios'] = X_agg_MD['temperature'] / X_agg_MD['wind_speed']\n",
    "X_agg_MD.drop(['temperature', 'wind_speed'], 1, inplace = True)\n",
    "\n",
    "X_agg_MD = X_agg_MD.pivot_table(index = ['t_id', 'month', 'day'], columns = 'target', values = 'ratios').reset_index().fillna(0)\n",
    "\n",
    "X_agg_MD.columns = ['t_id', 'month', 'day', 'Ratio of Available MONTHDAY', 'Ratio of Charging MONTHDAY', \n",
    "                'Ratio of Down MONTHDAY',  'Ratio of Offline MONTHDAY', 'Ratio of Passive MONTHDAY']"
   ]
  },
  {
   "cell_type": "code",
   "execution_count": 39,
   "metadata": {},
   "outputs": [],
   "source": [
    "X_y = X_y.merge(X_agg_MD, on = ['t_id', 'month', 'day'])"
   ]
  },
  {
   "cell_type": "code",
   "execution_count": 40,
   "metadata": {},
   "outputs": [],
   "source": [
    "X_y.drop(['timestamp', 't_id'], 1, inplace = True)"
   ]
  },
  {
   "cell_type": "code",
   "execution_count": 41,
   "metadata": {},
   "outputs": [
    {
     "data": {
      "text/html": [
       "<div>\n",
       "<style scoped>\n",
       "    .dataframe tbody tr th:only-of-type {\n",
       "        vertical-align: middle;\n",
       "    }\n",
       "\n",
       "    .dataframe tbody tr th {\n",
       "        vertical-align: top;\n",
       "    }\n",
       "\n",
       "    .dataframe thead th {\n",
       "        text-align: right;\n",
       "    }\n",
       "</style>\n",
       "<table border=\"1\" class=\"dataframe\">\n",
       "  <thead>\n",
       "    <tr style=\"text-align: right;\">\n",
       "      <th></th>\n",
       "      <th>temperature</th>\n",
       "      <th>wind_speed</th>\n",
       "      <th>wind_gust_speed</th>\n",
       "      <th>rain_level</th>\n",
       "      <th>average_flow</th>\n",
       "      <th>year</th>\n",
       "      <th>month</th>\n",
       "      <th>day</th>\n",
       "      <th>hour</th>\n",
       "      <th>traffic_state = Fluid</th>\n",
       "      <th>...</th>\n",
       "      <th>Ratio of Available DAYHOUR</th>\n",
       "      <th>Ratio of Charging DAYHOUR</th>\n",
       "      <th>Ratio of Down DAYHOUR</th>\n",
       "      <th>Ratio of Offline DAYHOUR</th>\n",
       "      <th>Ratio of Passive DAYHOUR</th>\n",
       "      <th>Ratio of Available MONTHDAY</th>\n",
       "      <th>Ratio of Charging MONTHDAY</th>\n",
       "      <th>Ratio of Down MONTHDAY</th>\n",
       "      <th>Ratio of Offline MONTHDAY</th>\n",
       "      <th>Ratio of Passive MONTHDAY</th>\n",
       "    </tr>\n",
       "  </thead>\n",
       "  <tbody>\n",
       "    <tr>\n",
       "      <th>0</th>\n",
       "      <td>8.7</td>\n",
       "      <td>11.0</td>\n",
       "      <td>24.0</td>\n",
       "      <td>0.0</td>\n",
       "      <td>218.1</td>\n",
       "      <td>2019.0</td>\n",
       "      <td>11.0</td>\n",
       "      <td>Monday</td>\n",
       "      <td>0.0</td>\n",
       "      <td>1.0</td>\n",
       "      <td>...</td>\n",
       "      <td>0.0</td>\n",
       "      <td>0.0</td>\n",
       "      <td>0.976744</td>\n",
       "      <td>0.023256</td>\n",
       "      <td>0.0</td>\n",
       "      <td>0.0</td>\n",
       "      <td>0.0</td>\n",
       "      <td>0.507937</td>\n",
       "      <td>0.492063</td>\n",
       "      <td>0.0</td>\n",
       "    </tr>\n",
       "    <tr>\n",
       "      <th>1</th>\n",
       "      <td>18.4</td>\n",
       "      <td>23.0</td>\n",
       "      <td>53.0</td>\n",
       "      <td>0.0</td>\n",
       "      <td>74.1</td>\n",
       "      <td>2020.0</td>\n",
       "      <td>11.0</td>\n",
       "      <td>Monday</td>\n",
       "      <td>0.0</td>\n",
       "      <td>1.0</td>\n",
       "      <td>...</td>\n",
       "      <td>0.0</td>\n",
       "      <td>0.0</td>\n",
       "      <td>0.976744</td>\n",
       "      <td>0.023256</td>\n",
       "      <td>0.0</td>\n",
       "      <td>0.0</td>\n",
       "      <td>0.0</td>\n",
       "      <td>0.507937</td>\n",
       "      <td>0.492063</td>\n",
       "      <td>0.0</td>\n",
       "    </tr>\n",
       "    <tr>\n",
       "      <th>2</th>\n",
       "      <td>8.7</td>\n",
       "      <td>11.0</td>\n",
       "      <td>24.0</td>\n",
       "      <td>0.0</td>\n",
       "      <td>218.1</td>\n",
       "      <td>2019.0</td>\n",
       "      <td>11.0</td>\n",
       "      <td>Monday</td>\n",
       "      <td>0.0</td>\n",
       "      <td>1.0</td>\n",
       "      <td>...</td>\n",
       "      <td>0.0</td>\n",
       "      <td>0.0</td>\n",
       "      <td>0.976744</td>\n",
       "      <td>0.023256</td>\n",
       "      <td>0.0</td>\n",
       "      <td>0.0</td>\n",
       "      <td>0.0</td>\n",
       "      <td>0.507937</td>\n",
       "      <td>0.492063</td>\n",
       "      <td>0.0</td>\n",
       "    </tr>\n",
       "  </tbody>\n",
       "</table>\n",
       "<p>3 rows × 33 columns</p>\n",
       "</div>"
      ],
      "text/plain": [
       "   temperature  wind_speed  wind_gust_speed  rain_level  average_flow    year  \\\n",
       "0          8.7        11.0             24.0         0.0         218.1  2019.0   \n",
       "1         18.4        23.0             53.0         0.0          74.1  2020.0   \n",
       "2          8.7        11.0             24.0         0.0         218.1  2019.0   \n",
       "\n",
       "   month     day  hour  traffic_state = Fluid  ... Ratio of Available DAYHOUR  \\\n",
       "0   11.0  Monday   0.0                    1.0  ...                        0.0   \n",
       "1   11.0  Monday   0.0                    1.0  ...                        0.0   \n",
       "2   11.0  Monday   0.0                    1.0  ...                        0.0   \n",
       "\n",
       "   Ratio of Charging DAYHOUR  Ratio of Down DAYHOUR  Ratio of Offline DAYHOUR  \\\n",
       "0                        0.0               0.976744                  0.023256   \n",
       "1                        0.0               0.976744                  0.023256   \n",
       "2                        0.0               0.976744                  0.023256   \n",
       "\n",
       "   Ratio of Passive DAYHOUR  Ratio of Available MONTHDAY  \\\n",
       "0                       0.0                          0.0   \n",
       "1                       0.0                          0.0   \n",
       "2                       0.0                          0.0   \n",
       "\n",
       "   Ratio of Charging MONTHDAY  Ratio of Down MONTHDAY  \\\n",
       "0                         0.0                0.507937   \n",
       "1                         0.0                0.507937   \n",
       "2                         0.0                0.507937   \n",
       "\n",
       "   Ratio of Offline MONTHDAY  Ratio of Passive MONTHDAY  \n",
       "0                   0.492063                        0.0  \n",
       "1                   0.492063                        0.0  \n",
       "2                   0.492063                        0.0  \n",
       "\n",
       "[3 rows x 33 columns]"
      ]
     },
     "execution_count": 41,
     "metadata": {},
     "output_type": "execute_result"
    }
   ],
   "source": [
    "X_y.head(3)"
   ]
  },
  {
   "cell_type": "markdown",
   "metadata": {},
   "source": [
    "Check correlation between created agg features"
   ]
  },
  {
   "cell_type": "code",
   "execution_count": 42,
   "metadata": {},
   "outputs": [
    {
     "data": {
      "image/png": "[encoded data removed]",
      "text/plain": [
       "<Figure size 1296x720 with 2 Axes>"
      ]
     },
     "metadata": {
      "needs_background": "light"
     },
     "output_type": "display_data"
    }
   ],
   "source": [
    "vEDA(X_y).plot_corr(numerics = X_y.filter(like = 'Ratio').columns)"
   ]
  },
  {
   "cell_type": "code",
   "execution_count": null,
   "metadata": {},
   "outputs": [],
   "source": []
  },
  {
   "cell_type": "markdown",
   "metadata": {},
   "source": [
    "For memory and time purposes, undersample X_y and train on less data "
   ]
  },
  {
   "cell_type": "code",
   "execution_count": 43,
   "metadata": {},
   "outputs": [],
   "source": [
    "# X_y_sample = X_y.sample(random_state = 975, n = 10000)\n",
    "X_y_sample = X_y.groupby(['target', 'month']).sample(n = 1000, random_state = 975)"
   ]
  },
  {
   "cell_type": "code",
   "execution_count": 44,
   "metadata": {},
   "outputs": [
    {
     "name": "stdout",
     "output_type": "stream",
     "text": [
      "(8526336, 33)\n",
      "(60000, 33)\n"
     ]
    }
   ],
   "source": [
    "print(X_y.shape)\n",
    "print(X_y_sample.shape)"
   ]
  },
  {
   "cell_type": "code",
   "execution_count": 45,
   "metadata": {},
   "outputs": [],
   "source": [
    "del X_y"
   ]
  },
  {
   "cell_type": "code",
   "execution_count": null,
   "metadata": {},
   "outputs": [],
   "source": []
  },
  {
   "cell_type": "markdown",
   "metadata": {},
   "source": [
    "## Apply ML models"
   ]
  },
  {
   "cell_type": "code",
   "execution_count": 46,
   "metadata": {},
   "outputs": [],
   "source": [
    "def evaluate_macroF1_lgb(truth, predictions):  \n",
    "\n",
    "    pred_labels = predictions.reshape(len(np.unique(truth)),-1).argmax(axis=0)\n",
    "    f1 = f1_score(truth, pred_labels, average='weighted')\n",
    "    \n",
    "    return ('macroF1', f1, True) \n",
    "\n",
    "f1 = make_scorer(f1_score, average = 'weighted')"
   ]
  },
  {
   "cell_type": "code",
   "execution_count": 47,
   "metadata": {},
   "outputs": [],
   "source": [
    "X = X_y_sample.drop('target', 1).copy()\n",
    "X = pd.get_dummies(X, columns = ['day'], drop_first=True)\n",
    "\n",
    "Y = X_y_sample['target'].copy()"
   ]
  },
  {
   "cell_type": "code",
   "execution_count": 48,
   "metadata": {},
   "outputs": [],
   "source": [
    "X_train, X_valid, y_train, y_valid = train_test_split(X, Y, train_size = .75, random_state = 975)"
   ]
  },
  {
   "cell_type": "code",
   "execution_count": 49,
   "metadata": {},
   "outputs": [
    {
     "name": "stdout",
     "output_type": "stream",
     "text": [
      "Wall time: 11.4 s\n"
     ]
    },
    {
     "data": {
      "text/plain": [
       "LGBMClassifier(colsample_bytree=0.5, objective='multiclass', random_state=975)"
      ]
     },
     "execution_count": 49,
     "metadata": {},
     "output_type": "execute_result"
    }
   ],
   "source": [
    "%%time\n",
    "\n",
    "lgb = LGBMClassifier(n_jobs=-1, objective='multiclass', random_state=975, colsample_bytree = 1/2)\n",
    "lgb.fit(X_train, y_train, eval_set = (X_valid, y_valid), verbose = 0,\n",
    "        eval_metric = evaluate_macroF1_lgb, early_stopping_rounds = 20)"
   ]
  },
  {
   "cell_type": "markdown",
   "metadata": {},
   "source": [
    "### Grid search"
   ]
  },
  {
   "cell_type": "code",
   "execution_count": 50,
   "metadata": {},
   "outputs": [
    {
     "name": "stdout",
     "output_type": "stream",
     "text": [
      "Wall time: 16.3 s\n"
     ]
    },
    {
     "data": {
      "text/plain": [
       "LGBMClassifier(colsample_bytree=0.7, max_depth=17, min_child_samples=5,\n",
       "               n_estimators=200, num_leaves=25, objective='multiclass',\n",
       "               random_state=975)"
      ]
     },
     "execution_count": 50,
     "metadata": {},
     "output_type": "execute_result"
    }
   ],
   "source": [
    "%%time\n",
    "\n",
    "LGB_params = {'boosting_type' : 'gbdt',\n",
    "              'learning_rate' : 0.1,\n",
    "              'num_leaves' : 25,\n",
    "              'min_child_samples' : 5,\n",
    "              'max_depth' : 17,\n",
    "              'colsample_bytree' : 0.7,\n",
    "              'n_estimators' : 200}\n",
    "\n",
    "LGB = LGBMClassifier(random_state = 975, objective = 'multiclass', n_jobs = -1, **LGB_params)\n",
    "LGB.fit(X_train, y_train)\n",
    "\n",
    "#GRID_LGB = GridSearchCV(LGB, param_grid = LGB_params, cv = 3, scoring = f1, n_jobs = -1)\n",
    "#GRID_LGB.fit(X_train, y_train)"
   ]
  },
  {
   "cell_type": "code",
   "execution_count": 51,
   "metadata": {},
   "outputs": [
    {
     "name": "stdout",
     "output_type": "stream",
     "text": [
      "              precision    recall  f1-score   support\n",
      "\n",
      "   Available     0.7005    0.4761    0.5669      3016\n",
      "    Charging     0.6239    0.7348    0.6748      2926\n",
      "        Down     0.9361    0.9699    0.9527      3053\n",
      "     Offline     0.7608    0.8222    0.7903      2947\n",
      "     Passive     0.6930    0.7152    0.7039      3058\n",
      "\n",
      "    accuracy                         0.7438     15000\n",
      "   macro avg     0.7429    0.7436    0.7377     15000\n",
      "weighted avg     0.7438    0.7438    0.7383     15000\n",
      "\n",
      "Wall time: 1.53 s\n"
     ]
    }
   ],
   "source": [
    "%%time\n",
    "predictions = LGB.predict(X_valid)\n",
    "print(classification_report(y_valid, predictions, digits = 4))"
   ]
  },
  {
   "cell_type": "code",
   "execution_count": 52,
   "metadata": {},
   "outputs": [
    {
     "data": {
      "image/png": "[encoded data removed]",
      "text/plain": [
       "<Figure size 432x288 with 2 Axes>"
      ]
     },
     "metadata": {
      "needs_background": "light"
     },
     "output_type": "display_data"
    }
   ],
   "source": [
    "plot_confusion_matrix(LGB, X_valid, y_valid)\n",
    "plt.show()"
   ]
  },
  {
   "cell_type": "code",
   "execution_count": 53,
   "metadata": {},
   "outputs": [
    {
     "data": {
      "image/png": "[encoded data removed]",
      "text/plain": [
       "<Figure size 864x576 with 1 Axes>"
      ]
     },
     "metadata": {
      "needs_background": "light"
     },
     "output_type": "display_data"
    }
   ],
   "source": [
    "plot_importance(LGB, height = .75, figsize = (12, 8))\n",
    "plt.show()"
   ]
  },
  {
   "cell_type": "code",
   "execution_count": null,
   "metadata": {},
   "outputs": [],
   "source": []
  },
  {
   "cell_type": "markdown",
   "metadata": {},
   "source": [
    "## Try Neural Network approach"
   ]
  },
  {
   "cell_type": "markdown",
   "metadata": {},
   "source": [
    "Encode target via OHE"
   ]
  },
  {
   "cell_type": "code",
   "execution_count": 63,
   "metadata": {},
   "outputs": [],
   "source": [
    "encoder = LabelEncoder()\n",
    "encoder.fit(y_train)\n",
    "\n",
    "y_train_DL = encoder.transform(y_train)\n",
    "y_valid_DL = encoder.transform(y_valid)\n",
    "\n",
    "# convert integers to dummy variables (i.e. one hot encoded)\n",
    "y_train_DL = np_utils.to_categorical(y_train_DL)\n",
    "y_valid_DL = np_utils.to_categorical(y_valid_DL)"
   ]
  },
  {
   "cell_type": "markdown",
   "metadata": {},
   "source": [
    "Scale X"
   ]
  },
  {
   "cell_type": "code",
   "execution_count": 75,
   "metadata": {},
   "outputs": [],
   "source": [
    "scaler = StandardScaler()\n",
    "scaler.fit(X_train)\n",
    "\n",
    "X_train_DL = scaler.transform(X_train)\n",
    "X_valid_DL = scaler.transform(X_valid)"
   ]
  },
  {
   "cell_type": "markdown",
   "metadata": {},
   "source": [
    "Build DL model"
   ]
  },
  {
   "cell_type": "code",
   "execution_count": 111,
   "metadata": {},
   "outputs": [],
   "source": [
    "model = Sequential(name = 'EV_DL_Predictor')\n",
    "\n",
    "model.add(Dense(32, input_dim = X_train_DL.shape[1], activation = 'relu'))\n",
    "model.add(Dropout(0.2))\n",
    "\n",
    "model.add(Dense(64, activation = 'relu'))\n",
    "model.add(Dropout(0.2))\n",
    "\n",
    "model.add(Dense(32, activation = 'relu'))\n",
    "model.add(Dropout(0.2))\n",
    "\n",
    "model.add(Dense(len(encoder.classes_), activation='softmax'))\n",
    "\n",
    "# Compile model\n",
    "model.compile(loss = 'categorical_crossentropy', optimizer = 'adam', metrics = ['categorical_accuracy'])"
   ]
  },
  {
   "cell_type": "code",
   "execution_count": 112,
   "metadata": {},
   "outputs": [
    {
     "name": "stdout",
     "output_type": "stream",
     "text": [
      "Model: \"EV_DL_Predictor\"\n",
      "_________________________________________________________________\n",
      "Layer (type)                 Output Shape              Param #   \n",
      "=================================================================\n",
      "dense_13 (Dense)             (None, 32)                1216      \n",
      "_________________________________________________________________\n",
      "dropout_6 (Dropout)          (None, 32)                0         \n",
      "_________________________________________________________________\n",
      "dense_14 (Dense)             (None, 64)                2112      \n",
      "_________________________________________________________________\n",
      "dropout_7 (Dropout)          (None, 64)                0         \n",
      "_________________________________________________________________\n",
      "dense_15 (Dense)             (None, 32)                2080      \n",
      "_________________________________________________________________\n",
      "dropout_8 (Dropout)          (None, 32)                0         \n",
      "_________________________________________________________________\n",
      "dense_16 (Dense)             (None, 5)                 165       \n",
      "=================================================================\n",
      "Total params: 5,573\n",
      "Trainable params: 5,573\n",
      "Non-trainable params: 0\n",
      "_________________________________________________________________\n"
     ]
    }
   ],
   "source": [
    "model.summary()"
   ]
  },
  {
   "cell_type": "markdown",
   "metadata": {},
   "source": [
    "Train DL model"
   ]
  },
  {
   "cell_type": "code",
   "execution_count": 113,
   "metadata": {},
   "outputs": [],
   "source": [
    "callbacks = [PlotLossesKeras(),\n",
    "             EarlyStopping(monitor = 'val_loss', patience = 10),\n",
    "             ReduceLROnPlateau(monitor = 'val_loss', patience = 5, factor = 1/2)]"
   ]
  },
  {
   "cell_type": "code",
   "execution_count": 114,
   "metadata": {},
   "outputs": [
    {
     "data": {
      "image/png": "[encoded data removed]",
      "text/plain": [
       "<Figure size 864x576 with 2 Axes>"
      ]
     },
     "metadata": {
      "needs_background": "light"
     },
     "output_type": "display_data"
    },
    {
     "name": "stdout",
     "output_type": "stream",
     "text": [
      "categorical_accuracy\n",
      "\ttraining         \t (min:    0.639, max:    0.729, cur:    0.728)\n",
      "\tvalidation       \t (min:    0.707, max:    0.729, cur:    0.727)\n",
      "Loss\n",
      "\ttraining         \t (min:    0.645, max:    0.922, cur:    0.645)\n",
      "\tvalidation       \t (min:    0.635, max:    0.729, cur:    0.635)\n"
     ]
    },
    {
     "data": {
      "text/plain": [
       "<keras.callbacks.History at 0x1f8e3160c40>"
      ]
     },
     "execution_count": 114,
     "metadata": {},
     "output_type": "execute_result"
    }
   ],
   "source": [
    "model.fit(X_train_DL, y_train_DL, batch_size = 64, epochs = 100, validation_data = (X_valid_DL, y_valid_DL),\n",
    "          verbose = 1,callbacks = callbacks)"
   ]
  },
  {
   "cell_type": "markdown",
   "metadata": {},
   "source": [
    "Make predictions and evaluate"
   ]
  },
  {
   "cell_type": "code",
   "execution_count": 121,
   "metadata": {},
   "outputs": [],
   "source": [
    "DL_predictions_classes = predict_DL(model, X_valid_DL, encoder)"
   ]
  },
  {
   "cell_type": "code",
   "execution_count": 122,
   "metadata": {},
   "outputs": [
    {
     "name": "stdout",
     "output_type": "stream",
     "text": [
      "              precision    recall  f1-score   support\n",
      "\n",
      "   Available     0.7033    0.4261    0.5307      3016\n",
      "    Charging     0.5991    0.7139    0.6515      2926\n",
      "        Down     0.9230    0.9741    0.9479      3053\n",
      "     Offline     0.7301    0.8300    0.7769      2947\n",
      "     Passive     0.6792    0.6916    0.6854      3058\n",
      "\n",
      "    accuracy                         0.7273     15000\n",
      "   macro avg     0.7270    0.7272    0.7185     15000\n",
      "weighted avg     0.7281    0.7273    0.7191     15000\n",
      "\n"
     ]
    }
   ],
   "source": [
    "print(classification_report(y_valid, DL_predictions_classes, digits = 4))"
   ]
  },
  {
   "cell_type": "code",
   "execution_count": null,
   "metadata": {},
   "outputs": [],
   "source": []
  },
  {
   "cell_type": "code",
   "execution_count": null,
   "metadata": {},
   "outputs": [],
   "source": []
  },
  {
   "cell_type": "markdown",
   "metadata": {},
   "source": [
    "### Create submission file\n",
    "\n",
    "#### Run X_test thru processing steps"
   ]
  },
  {
   "cell_type": "code",
   "execution_count": 117,
   "metadata": {},
   "outputs": [],
   "source": [
    "def process_X(data, submission_example, DL = False):\n",
    "\n",
    "    data['timestamp'] = pd.to_datetime(data['timestamp'])\n",
    "    data['year'] = data['timestamp'].dt.year\n",
    "    data['month'] = data['timestamp'].dt.month\n",
    "    data['day'] = pd.to_datetime(data['timestamp']).dt.day_name()\n",
    "    data['hour'] = data['timestamp'].dt.hour\n",
    "\n",
    "    data['traffic_state'] = data['traffic_state'].replace({'Heavy' : 'Busy'})\n",
    "    data = pd.get_dummies(data, columns = ['traffic_state'], prefix_sep = ' = ')#.drop('traffic_state = Busy', 1)\n",
    "\n",
    "    # X test has some NaNs in weather-like features\n",
    "    # impute by taking rolling mean (need 81 as there are ranges of NaNs with 81)\n",
    "    data = data.fillna(data.rolling(81, min_periods = 1).mean())\n",
    "\n",
    "    # expand Y with info about terminals (location, neighbors)\n",
    "\n",
    "    submission_example = submission_example.fillna('Offline').melt(id_vars = 'timestamp', var_name = 't_id', value_name = 'target')\n",
    "    submission_example = submission_example.merge(info_static[['t_id', 'latitude', 'longitude', 'model = only E/F', 'neighbors_500_m', 'neighbors_1_km', 'neighbors_2_km']],\n",
    "                                        on = 't_id')\n",
    "    submission_example['timestamp'] = pd.to_datetime(submission_example['timestamp'])\n",
    "    submission_example['minute'] = submission_example['timestamp'].dt.minute\n",
    "    \n",
    "    TS_and_TERMINAL_INFO = submission_example[['timestamp', 't_id']].copy()\n",
    "    submission_example.drop(['target'], 1, inplace = True)    \n",
    "\n",
    "    data = data.merge(submission_example, on = 'timestamp', how = 'right').fillna(method='ffill')\n",
    "    data.drop('timestamp', 1, inplace = True)\n",
    "\n",
    "    # add agg data\n",
    "    data = data.merge(X_agg, on = ['t_id', 'hour', 'minute'])\n",
    "    data = data.merge(X_agg_DH, on = ['t_id', 'day', 'hour'])\n",
    "    data = data.merge(X_agg_MD, on = ['t_id', 'month', 'day'])\n",
    "\n",
    "    data.drop(['t_id'], 1, inplace = True)\n",
    "\n",
    "    data = pd.get_dummies(data, columns = ['day'], drop_first=True)\n",
    "\n",
    "    # if DL\n",
    "\n",
    "    if DL:\n",
    "        data = scaler.transform(data)\n",
    "\n",
    "\n",
    "    return data, TS_and_TERMINAL_INFO"
   ]
  },
  {
   "cell_type": "code",
   "execution_count": 193,
   "metadata": {},
   "outputs": [],
   "source": [
    "X_test_processed, TS_and_TERMINAL_INFO = process_X(X_test, submission)"
   ]
  },
  {
   "cell_type": "code",
   "execution_count": 118,
   "metadata": {},
   "outputs": [],
   "source": [
    "X_test_processed_DL, TS_and_TERMINAL_INFO = process_X(X_test, submission, DL = True)"
   ]
  },
  {
   "cell_type": "code",
   "execution_count": null,
   "metadata": {},
   "outputs": [],
   "source": []
  },
  {
   "cell_type": "markdown",
   "metadata": {},
   "source": [
    "#### Predict on test set"
   ]
  },
  {
   "cell_type": "code",
   "execution_count": 194,
   "metadata": {},
   "outputs": [],
   "source": [
    "test_predictions = LGB.predict(X_test_processed)"
   ]
  },
  {
   "cell_type": "code",
   "execution_count": 124,
   "metadata": {},
   "outputs": [],
   "source": [
    "test_predictions_DL = predict_DL(model, X_test_processed_DL, encoder)"
   ]
  },
  {
   "cell_type": "code",
   "execution_count": null,
   "metadata": {},
   "outputs": [],
   "source": []
  },
  {
   "cell_type": "markdown",
   "metadata": {},
   "source": [
    "#### Create submission file (LGB)"
   ]
  },
  {
   "cell_type": "code",
   "execution_count": 195,
   "metadata": {},
   "outputs": [],
   "source": [
    "submission_col_order = submission.columns\n",
    "\n",
    "submit_file = TS_and_TERMINAL_INFO.copy() \n",
    "submit_file['predicted_target'] = test_predictions\n",
    "submit_file['timestamp'] = submit_file['timestamp'].astype('O')\n",
    "\n",
    "submit_file_pivoted = submit_file.pivot_table(index = 'timestamp', columns = 't_id', values = 'predicted_target', aggfunc = 'first').reset_index()\n",
    "submit_file_pivoted.columns = submission_col_order\n",
    "\n",
    "submit_file_pivoted['timestamp'] = submission['timestamp']"
   ]
  },
  {
   "cell_type": "code",
   "execution_count": 200,
   "metadata": {},
   "outputs": [],
   "source": [
    "submit_file_pivoted.to_csv('../data/SUBMISSION_BASELINE_ADD_MINUTES_ADD_AGG.csv', index = False)"
   ]
  },
  {
   "cell_type": "code",
   "execution_count": null,
   "metadata": {},
   "outputs": [],
   "source": []
  },
  {
   "cell_type": "markdown",
   "metadata": {},
   "source": [
    "#### Create submission file (DL)"
   ]
  },
  {
   "cell_type": "code",
   "execution_count": 126,
   "metadata": {},
   "outputs": [],
   "source": [
    "submission_col_order = submission.columns\n",
    "\n",
    "submit_file = TS_and_TERMINAL_INFO.copy() \n",
    "submit_file['predicted_target'] = test_predictions_DL\n",
    "submit_file['timestamp'] = submit_file['timestamp'].astype('O')\n",
    "\n",
    "submit_file_pivoted = submit_file.pivot_table(index = 'timestamp', columns = 't_id', values = 'predicted_target', aggfunc = 'first').reset_index()\n",
    "submit_file_pivoted.columns = submission_col_order\n",
    "\n",
    "submit_file_pivoted['timestamp'] = submission['timestamp']"
   ]
  },
  {
   "cell_type": "code",
   "execution_count": 128,
   "metadata": {},
   "outputs": [],
   "source": [
    "submit_file_pivoted.to_csv('../data/SUBMISSION_DL.csv', index = False)"
   ]
  },
  {
   "cell_type": "code",
   "execution_count": null,
   "metadata": {},
   "outputs": [],
   "source": []
  }
 ],
 "metadata": {
  "interpreter": {
   "hash": "c1c82bdd170d252fe165a9bec4d731e9ac025b41ad0f7b30ff5fda4e58991de2"
  },
  "kernelspec": {
   "display_name": "Python 3.8.8 64-bit ('base': conda)",
   "language": "python",
   "name": "python3"
  },
  "language_info": {
   "codemirror_mode": {
    "name": "ipython",
    "version": 3
   },
   "file_extension": ".py",
   "mimetype": "text/x-python",
   "name": "python",
   "nbconvert_exporter": "python",
   "pygments_lexer": "ipython3",
   "version": "3.8.8"
  },
  "orig_nbformat": 4
 },
 "nbformat": 4,
 "nbformat_minor": 2
}
