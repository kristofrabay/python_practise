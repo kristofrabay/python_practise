{
 "cells": [
  {
   "cell_type": "code",
   "execution_count": 1,
   "metadata": {},
   "outputs": [
    {
     "name": "stderr",
     "output_type": "stream",
     "text": [
      "Using TensorFlow backend.\n"
     ]
    }
   ],
   "source": [
    "import numpy as np\n",
    "from random import randint\n",
    "\n",
    "import string\n",
    "import re\n",
    "\n",
    "from keras.preprocessing.text import text_to_word_sequence, Tokenizer\n",
    "from keras.preprocessing.sequence import pad_sequences\n",
    "from keras.utils.np_utils import to_categorical\n",
    "from keras.models import Sequential, load_model\n",
    "from keras.layers import Embedding, LSTM, Dense, Dropout\n",
    "from keras.callbacks import EarlyStopping\n",
    "from livelossplot import PlotLossesKeras"
   ]
  },
  {
   "cell_type": "markdown",
   "metadata": {},
   "source": [
    "### Szövegbeolvasások"
   ]
  },
  {
   "cell_type": "code",
   "execution_count": 2,
   "metadata": {},
   "outputs": [],
   "source": [
    "arany = open(\"arany.txt\", \"r\", encoding = \"utf-8\").read()\n",
    "petofi = open(\"petofi.txt\", \"r\", encoding = \"utf-8\").read()"
   ]
  },
  {
   "cell_type": "code",
   "execution_count": 3,
   "metadata": {},
   "outputs": [],
   "source": [
    "def clean_regex(poem):\n",
    "    lower = poem.lower()\n",
    "    no_paren = re.sub(\"[\\(\\[].*?[\\)\\]]\", '', lower)\n",
    "    no_digits = no_paren.translate(str.maketrans('', '', string.digits))\n",
    "    commas = re.sub(\"[;!?:,.]\", '.', no_digits)\n",
    "    no_triple_dots = re.sub(\"\\.{3}\", '.', commas)\n",
    "    clean = re.sub(' +', ' ', no_triple_dots) # multiple spaces\n",
    "    return clean"
   ]
  },
  {
   "cell_type": "code",
   "execution_count": 4,
   "metadata": {},
   "outputs": [],
   "source": [
    "arany_clean = clean_regex(arany)\n",
    "petofi_clean = clean_regex(petofi)"
   ]
  },
  {
   "cell_type": "code",
   "execution_count": 5,
   "metadata": {},
   "outputs": [
    {
     "name": "stdout",
     "output_type": "stream",
     "text": [
      "Arany összes szava 1847-49: 3266\n",
      "Arany egyedi szavai 1847-49: 1767\n",
      "\n",
      "Petőfi összes szava 1848: 4410\n",
      "Petőfi egyedi szavai 1848: 2167\n"
     ]
    }
   ],
   "source": [
    "arany_lista = text_to_word_sequence(arany_clean)\n",
    "petofi_lista = text_to_word_sequence(petofi_clean)\n",
    "\n",
    "print('Arany összes szava 1847-49: %d' % len(arany_lista))\n",
    "print('Arany egyedi szavai 1847-49: %d' % len(set(arany_lista)))\n",
    "\n",
    "print('\\nPetőfi összes szava 1848: %d' % len(petofi_lista))\n",
    "print('Petőfi egyedi szavai 1848: %d' % len(set(petofi_lista)))"
   ]
  },
  {
   "cell_type": "markdown",
   "metadata": {},
   "source": [
    "### Szólisták tokenizálása (szavak --> számok)"
   ]
  },
  {
   "cell_type": "code",
   "execution_count": 6,
   "metadata": {},
   "outputs": [],
   "source": [
    "arany_corpus = arany_clean.split(\".\")\n",
    "arany_tokenizer = Tokenizer()\n",
    "arany_tokenizer.fit_on_texts(arany_corpus)\n",
    "\n",
    "petofi_corpus = petofi_clean.split(\".\")\n",
    "petofi_tokenizer = Tokenizer()\n",
    "petofi_tokenizer.fit_on_texts(petofi_corpus)"
   ]
  },
  {
   "cell_type": "markdown",
   "metadata": {},
   "source": [
    "### X és y előkészítése tanításhoz"
   ]
  },
  {
   "cell_type": "code",
   "execution_count": 7,
   "metadata": {},
   "outputs": [],
   "source": [
    "def create_X_y(clean_corpus, tokenizer):\n",
    "    \n",
    "    input_sequences = [] \n",
    "\n",
    "    for line in clean_corpus:\n",
    "        token_list = tokenizer.texts_to_sequences([line])[0] \n",
    "        for i in range(1, len(token_list)):\n",
    "            n_gram_sequence = token_list[:i+1] \n",
    "            input_sequences.append(n_gram_sequence) \n",
    "\n",
    "    print('Tanító mondatok száma:', len(input_sequences))\n",
    "\n",
    "    max_length = max([len(x) for x in input_sequences]) \n",
    "    padded_seq = np.array(pad_sequences(input_sequences, maxlen = max_length, padding = 'pre')) \n",
    "    X, y = padded_seq[:, :-1], padded_seq[: ,-1] \n",
    "    y = to_categorical(y, num_classes = len(tokenizer.word_index) + 1)\n",
    "\n",
    "    return X, y"
   ]
  },
  {
   "cell_type": "code",
   "execution_count": 8,
   "metadata": {},
   "outputs": [
    {
     "name": "stdout",
     "output_type": "stream",
     "text": [
      "Tanító mondatok száma: 2409\n"
     ]
    }
   ],
   "source": [
    "X_arany, y_arany = create_X_y(arany_corpus, arany_tokenizer)"
   ]
  },
  {
   "cell_type": "code",
   "execution_count": 9,
   "metadata": {},
   "outputs": [
    {
     "name": "stdout",
     "output_type": "stream",
     "text": [
      "Tanító mondatok száma: 3307\n"
     ]
    }
   ],
   "source": [
    "X_petofi, y_petofi = create_X_y(petofi_corpus, petofi_tokenizer)"
   ]
  },
  {
   "cell_type": "code",
   "execution_count": 10,
   "metadata": {},
   "outputs": [
    {
     "name": "stdout",
     "output_type": "stream",
     "text": [
      "Arany X és y:\n",
      "\n",
      " (2409, 15) (2409, 1768)\n",
      "\n",
      " Tanító mondatok: 2409 . Kimenetel / következő szó lehetséges értékek: 1768\n",
      "\n",
      "Petőfi X és y:\n",
      "\n",
      " (3307, 16) (3307, 2168)\n",
      "\n",
      " Tanító mondatok: 3307 . Kimenetel / következő szó lehetséges értékek: 2168\n"
     ]
    }
   ],
   "source": [
    "print('Arany X és y:')\n",
    "print('\\n', X_arany.shape, y_arany.shape)\n",
    "print('\\n Tanító mondatok:', X_arany.shape[0], '. Kimenetel / következő szó lehetséges értékek:', y_arany.shape[1])\n",
    "print('\\nPetőfi X és y:')\n",
    "print('\\n', X_petofi.shape, y_petofi.shape)\n",
    "print('\\n Tanító mondatok:', X_petofi.shape[0], '. Kimenetel / következő szó lehetséges értékek:', y_petofi.shape[1])"
   ]
  },
  {
   "cell_type": "markdown",
   "metadata": {},
   "source": [
    "### Modell építés és tanítás"
   ]
  },
  {
   "cell_type": "code",
   "execution_count": 49,
   "metadata": {},
   "outputs": [],
   "source": [
    "a = Sequential()\n",
    "\n",
    "a.add(Embedding(len(arany_tokenizer.word_index) + 1, 64, input_length = X_arany.shape[1]))\n",
    "\n",
    "a.add(LSTM(256, return_sequences = True))\n",
    "a.add(Dropout(1/3))\n",
    "a.add(LSTM(512))\n",
    "a.add(Dropout(1/3))\n",
    "\n",
    "a.add(Dense(1024, activation = 'relu'))\n",
    "a.add(Dense(len(arany_tokenizer.word_index) + 1, activation = 'softmax'))"
   ]
  },
  {
   "cell_type": "code",
   "execution_count": 50,
   "metadata": {},
   "outputs": [],
   "source": [
    "p = Sequential()\n",
    "\n",
    "p.add(Embedding(len(petofi_tokenizer.word_index) + 1, 64, input_length = X_petofi.shape[1]))\n",
    "\n",
    "p.add(LSTM(256, return_sequences = True))\n",
    "p.add(Dropout(1/3))\n",
    "p.add(LSTM(512))\n",
    "p.add(Dropout(1/3))\n",
    "\n",
    "p.add(Dense(1024, activation = 'relu'))\n",
    "p.add(Dense(len(petofi_tokenizer.word_index) + 1, activation = 'softmax'))"
   ]
  },
  {
   "cell_type": "code",
   "execution_count": 51,
   "metadata": {},
   "outputs": [
    {
     "name": "stdout",
     "output_type": "stream",
     "text": [
      "Model: \"sequential_10\"\n",
      "_________________________________________________________________\n",
      "Layer (type)                 Output Shape              Param #   \n",
      "=================================================================\n",
      "embedding_9 (Embedding)      (None, 15, 64)            113152    \n",
      "_________________________________________________________________\n",
      "lstm_17 (LSTM)               (None, 15, 256)           328704    \n",
      "_________________________________________________________________\n",
      "dropout_17 (Dropout)         (None, 15, 256)           0         \n",
      "_________________________________________________________________\n",
      "lstm_18 (LSTM)               (None, 512)               1574912   \n",
      "_________________________________________________________________\n",
      "dropout_18 (Dropout)         (None, 512)               0         \n",
      "_________________________________________________________________\n",
      "dense_16 (Dense)             (None, 1024)              525312    \n",
      "_________________________________________________________________\n",
      "dense_17 (Dense)             (None, 1768)              1812200   \n",
      "=================================================================\n",
      "Total params: 4,354,280\n",
      "Trainable params: 4,354,280\n",
      "Non-trainable params: 0\n",
      "_________________________________________________________________\n",
      "Model: \"sequential_11\"\n",
      "_________________________________________________________________\n",
      "Layer (type)                 Output Shape              Param #   \n",
      "=================================================================\n",
      "embedding_10 (Embedding)     (None, 16, 64)            138752    \n",
      "_________________________________________________________________\n",
      "lstm_19 (LSTM)               (None, 16, 256)           328704    \n",
      "_________________________________________________________________\n",
      "dropout_19 (Dropout)         (None, 16, 256)           0         \n",
      "_________________________________________________________________\n",
      "lstm_20 (LSTM)               (None, 512)               1574912   \n",
      "_________________________________________________________________\n",
      "dropout_20 (Dropout)         (None, 512)               0         \n",
      "_________________________________________________________________\n",
      "dense_18 (Dense)             (None, 1024)              525312    \n",
      "_________________________________________________________________\n",
      "dense_19 (Dense)             (None, 2168)              2222200   \n",
      "=================================================================\n",
      "Total params: 4,789,880\n",
      "Trainable params: 4,789,880\n",
      "Non-trainable params: 0\n",
      "_________________________________________________________________\n"
     ]
    },
    {
     "data": {
      "text/plain": [
       "(None, None)"
      ]
     },
     "execution_count": 51,
     "metadata": {},
     "output_type": "execute_result"
    }
   ],
   "source": [
    "a.summary(), p.summary()"
   ]
  },
  {
   "cell_type": "markdown",
   "metadata": {},
   "source": [
    "Arany: 1.9 millió paraméter hangolás\n",
    "\n",
    "Petőfi: 2.2 millió paraméter hangolás"
   ]
  },
  {
   "cell_type": "code",
   "execution_count": 52,
   "metadata": {},
   "outputs": [
    {
     "data": {
      "image/png": "[encoded data removed]",
      "text/plain": [
       "<Figure size 864x576 with 2 Axes>"
      ]
     },
     "metadata": {
      "needs_background": "light"
     },
     "output_type": "display_data"
    },
    {
     "name": "stdout",
     "output_type": "stream",
     "text": [
      "accuracy\n",
      "\taccuracy         \t (min:    0.034, max:    0.325, cur:    0.325)\n",
      "Loss\n",
      "\tloss             \t (min:    2.779, max:    7.353, cur:    2.779)\n"
     ]
    },
    {
     "data": {
      "text/plain": [
       "<keras.callbacks.callbacks.History at 0x2a39b490cc0>"
      ]
     },
     "execution_count": 52,
     "metadata": {},
     "output_type": "execute_result"
    }
   ],
   "source": [
    "a.compile(loss = 'categorical_crossentropy', optimizer = 'adam', metrics = ['accuracy'])\n",
    "a.fit(X_arany, y_arany, batch_size = 256, epochs = 50, #validation_split = 1/3,\n",
    "      callbacks = [PlotLossesKeras(), EarlyStopping(monitor = 'loss', patience = 10)])"
   ]
  },
  {
   "cell_type": "code",
   "execution_count": 53,
   "metadata": {},
   "outputs": [
    {
     "data": {
      "image/png": "[encoded data removed]",
      "text/plain": [
       "<Figure size 864x576 with 2 Axes>"
      ]
     },
     "metadata": {
      "needs_background": "light"
     },
     "output_type": "display_data"
    },
    {
     "name": "stdout",
     "output_type": "stream",
     "text": [
      "accuracy\n",
      "\taccuracy         \t (min:    0.021, max:    0.271, cur:    0.271)\n",
      "Loss\n",
      "\tloss             \t (min:    3.079, max:    7.625, cur:    3.079)\n"
     ]
    },
    {
     "data": {
      "text/plain": [
       "<keras.callbacks.callbacks.History at 0x2a39e697cf8>"
      ]
     },
     "execution_count": 53,
     "metadata": {},
     "output_type": "execute_result"
    }
   ],
   "source": [
    "p.compile(loss = 'categorical_crossentropy', optimizer = 'adam', metrics = ['accuracy'])\n",
    "p.fit(X_petofi, y_petofi, batch_size = 256, epochs = 50, #validation_split = 1/3,\n",
    "      callbacks = [PlotLossesKeras(), EarlyStopping(monitor = 'loss', patience = 10)])"
   ]
  },
  {
   "cell_type": "code",
   "execution_count": 37,
   "metadata": {},
   "outputs": [],
   "source": [
    "a.save(\"LSTM_arany_new.h5\")\n",
    "p.save(\"LSTM_petofi_new.h5\")"
   ]
  },
  {
   "cell_type": "code",
   "execution_count": null,
   "metadata": {},
   "outputs": [],
   "source": [
    "a = load_model(\"LSTM_arany_new.h5\")\n",
    "p = load_model(\"LSTM_petofi_new.h5\")"
   ]
  },
  {
   "cell_type": "markdown",
   "metadata": {},
   "source": [
    "### Szöveg-generálás"
   ]
  },
  {
   "cell_type": "code",
   "execution_count": 38,
   "metadata": {},
   "outputs": [],
   "source": [
    "def generate_text(model, tokenizer, seq_length, in_text, n_words):\n",
    "    \n",
    "    result = [in_text]\n",
    "    for i in range(n_words):\n",
    "        \n",
    "        encoded = tokenizer.texts_to_sequences([in_text])[0]\n",
    "        encoded = pad_sequences([encoded], maxlen = seq_length, truncating='pre')\n",
    "        yhat = model.predict_classes(encoded, verbose=0)\n",
    "          \n",
    "        out_word = ''\n",
    "            \n",
    "        for word, index in tokenizer.word_index.items():\n",
    "            if index == yhat:\n",
    "                out_word = word\n",
    "                break\n",
    "                \n",
    "                \n",
    "        in_text += ' ' + out_word         \n",
    "        result.append(out_word)\n",
    "            \n",
    "    return ' '.join(result)"
   ]
  },
  {
   "cell_type": "code",
   "execution_count": 54,
   "metadata": {},
   "outputs": [
    {
     "name": "stdout",
     "output_type": "stream",
     "text": [
      "Arany mondata:\n",
      " Ahogy az ősz megérkezett az emberek bánja tûzbe zöld költészet arcot halálát ezzel mintegy megszépíteni megszépíteni megszépíteni megszépíteni megszépíteni megszépíteni megszépíteni megszépíteni megszépíteni megszépíteni megszépíteni megszépíteni megszépíteni megszépíteni megszépíteni megszépíteni megszépíteni megszépíteni megszépíteni megszépíteni megszépíteni megszépíteni\n",
      "\n",
      "Petőfi mondata:\n",
      " Ahogy az ősz megérkezett az emberek derekad van bágyadt alakjára festve érezzek bár százszor fájdalmakat fájdalmakat komával komával komával komával ûl ûl szét komor ûl körûl arcára érezzek szomszéddal komával komával komával komával komával komával komával\n"
     ]
    }
   ],
   "source": [
    "szoveg = \"Ahogy az ősz megérkezett az emberek\"\n",
    "\n",
    "arany_folyt = generate_text(a, arany_tokenizer, X_arany.shape[1], szoveg, 30)\n",
    "petofi_folyt = generate_text(p, petofi_tokenizer, X_petofi.shape[1], szoveg, 30)\n",
    "\n",
    "print('Arany mondata:\\n', arany_folyt)\n",
    "print('\\nPetőfi mondata:\\n', petofi_folyt)"
   ]
  },
  {
   "cell_type": "markdown",
   "metadata": {},
   "source": [
    "### Következő szavak valószínűségeinek összevetése"
   ]
  },
  {
   "cell_type": "code",
   "execution_count": 42,
   "metadata": {},
   "outputs": [],
   "source": [
    "def next_word_probabilities(in_text, model, tokenizer, input, length):\n",
    "    \n",
    "    encoded = tokenizer.texts_to_sequences([in_text])[0]\n",
    "    encoded = pad_sequences([encoded], maxlen = input, truncating = 'pre')\n",
    "    \n",
    "    top_n = model.predict(encoded)[0].argsort()[-length:][::-1]\n",
    "\n",
    "    predicted_words = []\n",
    "    prediced_probabilities = []\n",
    "\n",
    "    for n in top_n:\n",
    "\n",
    "        prediction = tokenizer.index_word[n]\n",
    "        predicted_words.append(prediction)\n",
    "\n",
    "        probability = model.predict_proba(encoded)[0][n]\n",
    "        prediced_probabilities.append(probability)\n",
    "\n",
    "    return list(zip(predicted_words, prediced_probabilities))"
   ]
  },
  {
   "cell_type": "code",
   "execution_count": 55,
   "metadata": {},
   "outputs": [
    {
     "name": "stdout",
     "output_type": "stream",
     "text": [
      "Arany következő szavak valószínűségek: \n",
      "\n",
      "[('bánja', 0.47379956), ('tavaszról', 0.32780567), ('beszéd', 0.033863265), ('édes', 0.025481917), ('jobb', 0.022918146)]\n",
      "\n",
      "Petőfi következő szavak valószínűségek: \n",
      "\n",
      "[('derekad', 0.14037676), ('de', 0.09091358), ('ellennek', 0.07610529), ('vegye', 0.046922583), ('enyésznek', 0.04399422)]\n"
     ]
    }
   ],
   "source": [
    "szoveg = \"Ahogy az ősz megérkezett az emberek\"\n",
    "\n",
    "print('Arany következő szavak valószínűségek: \\n')\n",
    "print(next_word_probabilities(szoveg, a, arany_tokenizer, 15, 5))\n",
    "print('\\nPetőfi következő szavak valószínűségek: \\n')\n",
    "print(next_word_probabilities(szoveg, p, petofi_tokenizer, 16, 5))"
   ]
  },
  {
   "cell_type": "code",
   "execution_count": null,
   "metadata": {},
   "outputs": [],
   "source": []
  }
 ],
 "metadata": {
  "kernelspec": {
   "display_name": "Python 3",
   "language": "python",
   "name": "python3"
  },
  "language_info": {
   "codemirror_mode": {
    "name": "ipython",
    "version": 3
   },
   "file_extension": ".py",
   "mimetype": "text/x-python",
   "name": "python",
   "nbconvert_exporter": "python",
   "pygments_lexer": "ipython3",
   "version": "3.7.3"
  }
 },
 "nbformat": 4,
 "nbformat_minor": 4
}
