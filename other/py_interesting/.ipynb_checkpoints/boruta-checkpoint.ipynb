{
 "cells": [
  {
   "cell_type": "markdown",
   "id": "9f7c729e",
   "metadata": {},
   "source": [
    "## Boruta - feature selection method\n",
    "\n",
    "1. Take original input dataset\n",
    "2. For all predictors, create shadow features (copied and randomly shuffled)\n",
    "3. Apply trees ensemble estimator (Random Forest is most common) that is allowed to pick from original **and** shadow features\n",
    "4. For feature-pairs where the importance of the shadow feature is greater than that of the original one, drop it as it provides no significant predictive power\n",
    "5. End up with only those features that perform stronger then their randomly shuffled pairs\n",
    "\n",
    "<img src=\"https://miro.medium.com/max/1130/0*bf8a63w2zfrCGJoN\" width=\"700\"/>"
   ]
  },
  {
   "cell_type": "code",
   "execution_count": 1,
   "id": "6510649d",
   "metadata": {},
   "outputs": [],
   "source": [
    "import pandas as pd\n",
    "import numpy as np\n",
    "\n",
    "import matplotlib.pyplot as plt\n",
    "import seaborn as sns\n",
    "\n",
    "import warnings\n",
    "warnings.filterwarnings('ignore')"
   ]
  },
  {
   "cell_type": "markdown",
   "id": "12767265",
   "metadata": {},
   "source": [
    "Data is scraped from ESPN's NFL database, includes seasonal team stats from all phases of the game\n",
    "\n",
    "<img src=\"https://upload.wikimedia.org/wikipedia/en/thumb/a/a2/National_Football_League_logo.svg/1200px-National_Football_League_logo.svg.png\" width=\"150\"/>"
   ]
  },
  {
   "cell_type": "code",
   "execution_count": 24,
   "id": "b4e73630",
   "metadata": {},
   "outputs": [
    {
     "data": {
      "text/html": [
       "<div>\n",
       "<style scoped>\n",
       "    .dataframe tbody tr th:only-of-type {\n",
       "        vertical-align: middle;\n",
       "    }\n",
       "\n",
       "    .dataframe tbody tr th {\n",
       "        vertical-align: top;\n",
       "    }\n",
       "\n",
       "    .dataframe thead th {\n",
       "        text-align: right;\n",
       "    }\n",
       "</style>\n",
       "<table border=\"1\" class=\"dataframe\">\n",
       "  <thead>\n",
       "    <tr style=\"text-align: right;\">\n",
       "      <th></th>\n",
       "      <th>Team</th>\n",
       "      <th>offense_points_per_game</th>\n",
       "      <th>season</th>\n",
       "      <th>games_played</th>\n",
       "      <th>offense_downs_Third Downs_PCT</th>\n",
       "      <th>offense_downs_Fourth Downs_PCT</th>\n",
       "      <th>offense_passing_CMP%</th>\n",
       "      <th>offense_passing_AVG</th>\n",
       "      <th>offense_passing_YDS/G</th>\n",
       "      <th>offense_passing_RTG</th>\n",
       "      <th>...</th>\n",
       "      <th>offense_receiving_FUM_per_game</th>\n",
       "      <th>offense_rushing_FUM_per_game</th>\n",
       "      <th>defense_receiving_FUM_per_game</th>\n",
       "      <th>defense_rushing_FUM_per_game</th>\n",
       "      <th>offense_receiving_LST_FUM_ratio</th>\n",
       "      <th>offense_rushing_LST_FUM_ratio</th>\n",
       "      <th>defense_receiving_LST_FUM_ratio</th>\n",
       "      <th>defense_rushing_LST_FUM_ratio</th>\n",
       "      <th>winner</th>\n",
       "      <th>played</th>\n",
       "    </tr>\n",
       "  </thead>\n",
       "  <tbody>\n",
       "    <tr>\n",
       "      <th>0</th>\n",
       "      <td>Kansas City Chiefs</td>\n",
       "      <td>30.2</td>\n",
       "      <td>2004</td>\n",
       "      <td>16</td>\n",
       "      <td>47.2</td>\n",
       "      <td>28.6</td>\n",
       "      <td>66.0</td>\n",
       "      <td>8.3</td>\n",
       "      <td>275.4</td>\n",
       "      <td>94.9</td>\n",
       "      <td>...</td>\n",
       "      <td>0.1250</td>\n",
       "      <td>0.4375</td>\n",
       "      <td>0.4375</td>\n",
       "      <td>0.5625</td>\n",
       "      <td>1.00</td>\n",
       "      <td>0.571429</td>\n",
       "      <td>0.428571</td>\n",
       "      <td>0.444444</td>\n",
       "      <td>0</td>\n",
       "      <td>0</td>\n",
       "    </tr>\n",
       "    <tr>\n",
       "      <th>1</th>\n",
       "      <td>Indianapolis Colts</td>\n",
       "      <td>32.6</td>\n",
       "      <td>2004</td>\n",
       "      <td>16</td>\n",
       "      <td>42.7</td>\n",
       "      <td>57.1</td>\n",
       "      <td>67.0</td>\n",
       "      <td>9.0</td>\n",
       "      <td>288.9</td>\n",
       "      <td>119.7</td>\n",
       "      <td>...</td>\n",
       "      <td>0.2500</td>\n",
       "      <td>0.5625</td>\n",
       "      <td>0.3750</td>\n",
       "      <td>0.6250</td>\n",
       "      <td>0.75</td>\n",
       "      <td>0.444444</td>\n",
       "      <td>0.666667</td>\n",
       "      <td>0.400000</td>\n",
       "      <td>0</td>\n",
       "      <td>0</td>\n",
       "    </tr>\n",
       "    <tr>\n",
       "      <th>2</th>\n",
       "      <td>Green Bay Packers</td>\n",
       "      <td>26.5</td>\n",
       "      <td>2004</td>\n",
       "      <td>16</td>\n",
       "      <td>47.3</td>\n",
       "      <td>57.1</td>\n",
       "      <td>63.9</td>\n",
       "      <td>7.6</td>\n",
       "      <td>278.1</td>\n",
       "      <td>93.9</td>\n",
       "      <td>...</td>\n",
       "      <td>0.3125</td>\n",
       "      <td>0.5625</td>\n",
       "      <td>0.1875</td>\n",
       "      <td>0.3125</td>\n",
       "      <td>0.60</td>\n",
       "      <td>0.666667</td>\n",
       "      <td>0.666667</td>\n",
       "      <td>0.400000</td>\n",
       "      <td>0</td>\n",
       "      <td>0</td>\n",
       "    </tr>\n",
       "  </tbody>\n",
       "</table>\n",
       "<p>3 rows × 68 columns</p>\n",
       "</div>"
      ],
      "text/plain": [
       "                 Team  offense_points_per_game  season  games_played  \\\n",
       "0  Kansas City Chiefs                     30.2    2004            16   \n",
       "1  Indianapolis Colts                     32.6    2004            16   \n",
       "2   Green Bay Packers                     26.5    2004            16   \n",
       "\n",
       "   offense_downs_Third Downs_PCT  offense_downs_Fourth Downs_PCT  \\\n",
       "0                           47.2                            28.6   \n",
       "1                           42.7                            57.1   \n",
       "2                           47.3                            57.1   \n",
       "\n",
       "   offense_passing_CMP%  offense_passing_AVG  offense_passing_YDS/G  \\\n",
       "0                  66.0                  8.3                  275.4   \n",
       "1                  67.0                  9.0                  288.9   \n",
       "2                  63.9                  7.6                  278.1   \n",
       "\n",
       "   offense_passing_RTG  ...  offense_receiving_FUM_per_game  \\\n",
       "0                 94.9  ...                          0.1250   \n",
       "1                119.7  ...                          0.2500   \n",
       "2                 93.9  ...                          0.3125   \n",
       "\n",
       "   offense_rushing_FUM_per_game  defense_receiving_FUM_per_game  \\\n",
       "0                        0.4375                          0.4375   \n",
       "1                        0.5625                          0.3750   \n",
       "2                        0.5625                          0.1875   \n",
       "\n",
       "   defense_rushing_FUM_per_game  offense_receiving_LST_FUM_ratio  \\\n",
       "0                        0.5625                             1.00   \n",
       "1                        0.6250                             0.75   \n",
       "2                        0.3125                             0.60   \n",
       "\n",
       "   offense_rushing_LST_FUM_ratio  defense_receiving_LST_FUM_ratio  \\\n",
       "0                       0.571429                         0.428571   \n",
       "1                       0.444444                         0.666667   \n",
       "2                       0.666667                         0.666667   \n",
       "\n",
       "   defense_rushing_LST_FUM_ratio  winner  played  \n",
       "0                       0.444444       0       0  \n",
       "1                       0.400000       0       0  \n",
       "2                       0.400000       0       0  \n",
       "\n",
       "[3 rows x 68 columns]"
      ]
     },
     "execution_count": 24,
     "metadata": {},
     "output_type": "execute_result"
    }
   ],
   "source": [
    "data = pd.read_csv('../../scraping_projects/nfl_model/data/scraped_for_modeling_labeled.csv')\n",
    "data.fillna(0, inplace = True)\n",
    "data.head(3)"
   ]
  },
  {
   "cell_type": "code",
   "execution_count": 25,
   "id": "b46621bd",
   "metadata": {},
   "outputs": [
    {
     "data": {
      "text/plain": [
       "(544, 68)"
      ]
     },
     "execution_count": 25,
     "metadata": {},
     "output_type": "execute_result"
    }
   ],
   "source": [
    "data.shape"
   ]
  },
  {
   "cell_type": "markdown",
   "id": "1ed942af",
   "metadata": {},
   "source": [
    "### Problem: too many features for amount of datapoints (especially after train-test split)\n",
    "\n",
    "Which features to use?\n",
    "- Correlation\n",
    "- Predictive Power Scores\n",
    "- Industry knowledge\n",
    "- Use all in a trees ensemble model and let the trees decide\n",
    "\n",
    "**Better solution is Boruta selection method**"
   ]
  },
  {
   "cell_type": "code",
   "execution_count": 73,
   "id": "14165b8a",
   "metadata": {},
   "outputs": [],
   "source": [
    "from boruta import BorutaPy\n",
    "from sklearn.ensemble import RandomForestClassifier\n",
    "from sklearn.linear_model import LogisticRegression\n",
    "from sklearn.metrics import roc_auc_score"
   ]
  },
  {
   "cell_type": "code",
   "execution_count": 27,
   "id": "2a31aff6",
   "metadata": {},
   "outputs": [],
   "source": [
    "X = data.drop(['winner', 'played', 'games_played', 'season', 'Team'], 1).copy()\n",
    "y = data['played'].copy()"
   ]
  },
  {
   "cell_type": "markdown",
   "id": "9e1aa51b",
   "metadata": {},
   "source": [
    "Random Forest regressor as estimator"
   ]
  },
  {
   "cell_type": "code",
   "execution_count": 115,
   "id": "10b79693",
   "metadata": {},
   "outputs": [],
   "source": [
    "rf = RandomForestClassifier(max_depth = 5, max_features = 1/3, n_jobs = -1)\n",
    "\n",
    "boruta = BorutaPy(estimator = rf, \n",
    "                  n_estimators = 250, \n",
    "                  perc = 75, \n",
    "                  max_iter = 200, \n",
    "                  random_state = 56)"
   ]
  },
  {
   "cell_type": "code",
   "execution_count": 116,
   "id": "4865e136",
   "metadata": {},
   "outputs": [
    {
     "name": "stdout",
     "output_type": "stream",
     "text": [
      "Wall time: 2min 43s\n"
     ]
    },
    {
     "data": {
      "text/plain": [
       "BorutaPy(estimator=RandomForestClassifier(max_depth=5,\n",
       "                                          max_features=0.3333333333333333,\n",
       "                                          n_estimators=250, n_jobs=-1,\n",
       "                                          random_state=RandomState(MT19937) at 0x2B003EE8740),\n",
       "         max_iter=200, n_estimators=250, perc=75,\n",
       "         random_state=RandomState(MT19937) at 0x2B003EE8740)"
      ]
     },
     "execution_count": 116,
     "metadata": {},
     "output_type": "execute_result"
    }
   ],
   "source": [
    "%%time\n",
    "\n",
    "boruta.fit(np.array(X), np.array(y))"
   ]
  },
  {
   "cell_type": "markdown",
   "id": "9a4aaccf",
   "metadata": {},
   "source": [
    "Check supported features"
   ]
  },
  {
   "cell_type": "code",
   "execution_count": 117,
   "id": "47606857",
   "metadata": {},
   "outputs": [
    {
     "name": "stdout",
     "output_type": "stream",
     "text": [
      "Number of selected features 15 out of 68\n"
     ]
    },
    {
     "data": {
      "text/plain": [
       "True"
      ]
     },
     "execution_count": 117,
     "metadata": {},
     "output_type": "execute_result"
    }
   ],
   "source": [
    "boruta_selection = X.columns[boruta.support_].to_list()\n",
    "\n",
    "print('Number of selected features', boruta.n_features_, 'out of', data.shape[1])\n",
    "boruta.n_features_ == len(boruta_selection)"
   ]
  },
  {
   "cell_type": "code",
   "execution_count": 118,
   "id": "dbb0e259",
   "metadata": {},
   "outputs": [
    {
     "name": "stdout",
     "output_type": "stream",
     "text": [
      "Boruta suggests keeping:\n",
      "\n",
      " offense_points_per_game\n",
      "offense_downs_Fourth Downs_PCT\n",
      "offense_passing_AVG\n",
      "offense_passing_YDS/G\n",
      "offense_passing_RTG\n",
      "offense_receiving_AVG\n",
      "defense_points_per_game\n",
      "defense_passing_AVG\n",
      "defense_passing_YDS/G\n",
      "defense_receiving_AVG\n",
      "defense_passing_SYL_per_game\n",
      "defense_downs_First Downs_penalty_ratio\n",
      "defense_rushing_TD_per_game\n",
      "defense_pass_TD_per_rush_TD\n",
      "offense_pass_TD_to_INT\n"
     ]
    }
   ],
   "source": [
    "print('Boruta suggests keeping:\\n\\n', '\\n'.join(boruta_selection))"
   ]
  },
  {
   "cell_type": "markdown",
   "id": "c6844134",
   "metadata": {},
   "source": [
    "Models with only these 14 features have almost identical prediction performance as models that use all 63. Reducing from 68 to 19 does not decrease performance but really reduces complexity which is always positive!"
   ]
  },
  {
   "cell_type": "code",
   "execution_count": 124,
   "id": "c8bfb2c1",
   "metadata": {},
   "outputs": [
    {
     "name": "stdout",
     "output_type": "stream",
     "text": [
      "AUC with ALL features: 0.95242\n"
     ]
    }
   ],
   "source": [
    "logreg = LogisticRegression().fit(X, y)\n",
    "print('AUC with ALL features:', roc_auc_score(y, logreg.predict_proba(X)[:,1]).round(5))"
   ]
  },
  {
   "cell_type": "code",
   "execution_count": 123,
   "id": "0715697b",
   "metadata": {},
   "outputs": [
    {
     "name": "stdout",
     "output_type": "stream",
     "text": [
      "AUC with Boruta selected features: 0.9301\n"
     ]
    }
   ],
   "source": [
    "logreg = LogisticRegression().fit(X[boruta_selection], y)\n",
    "print('AUC with Boruta selected features:', roc_auc_score(y, logreg.predict_proba(X[boruta_selection])[:,1]).round(5))"
   ]
  },
  {
   "cell_type": "markdown",
   "id": "7a0ebb9d",
   "metadata": {},
   "source": [
    "Check ranking (from best to worst features for prediction)"
   ]
  },
  {
   "cell_type": "code",
   "execution_count": 121,
   "id": "f2c3e0b0",
   "metadata": {},
   "outputs": [],
   "source": [
    "boruta_rankings = pd.concat([pd.Series(X.columns), pd.Series(boruta.ranking_)], 1).rename(columns = {0 : 'feature', 1 : 'rank'})\n",
    "boruta_rankings.sort_values('rank', inplace = True)\n",
    "boruta_rankings.reset_index(drop = True, inplace = True)"
   ]
  },
  {
   "cell_type": "code",
   "execution_count": 122,
   "id": "da803797",
   "metadata": {},
   "outputs": [
    {
     "data": {
      "text/html": [
       "<div>\n",
       "<style scoped>\n",
       "    .dataframe tbody tr th:only-of-type {\n",
       "        vertical-align: middle;\n",
       "    }\n",
       "\n",
       "    .dataframe tbody tr th {\n",
       "        vertical-align: top;\n",
       "    }\n",
       "\n",
       "    .dataframe thead th {\n",
       "        text-align: right;\n",
       "    }\n",
       "</style>\n",
       "<table border=\"1\" class=\"dataframe\">\n",
       "  <thead>\n",
       "    <tr style=\"text-align: right;\">\n",
       "      <th></th>\n",
       "      <th>feature</th>\n",
       "      <th>rank</th>\n",
       "    </tr>\n",
       "  </thead>\n",
       "  <tbody>\n",
       "    <tr>\n",
       "      <th>0</th>\n",
       "      <td>offense_points_per_game</td>\n",
       "      <td>1</td>\n",
       "    </tr>\n",
       "    <tr>\n",
       "      <th>1</th>\n",
       "      <td>defense_passing_SYL_per_game</td>\n",
       "      <td>1</td>\n",
       "    </tr>\n",
       "    <tr>\n",
       "      <th>2</th>\n",
       "      <td>defense_receiving_AVG</td>\n",
       "      <td>1</td>\n",
       "    </tr>\n",
       "    <tr>\n",
       "      <th>3</th>\n",
       "      <td>defense_passing_AVG</td>\n",
       "      <td>1</td>\n",
       "    </tr>\n",
       "    <tr>\n",
       "      <th>4</th>\n",
       "      <td>offense_pass_TD_to_INT</td>\n",
       "      <td>1</td>\n",
       "    </tr>\n",
       "    <tr>\n",
       "      <th>5</th>\n",
       "      <td>defense_points_per_game</td>\n",
       "      <td>1</td>\n",
       "    </tr>\n",
       "    <tr>\n",
       "      <th>6</th>\n",
       "      <td>defense_rushing_TD_per_game</td>\n",
       "      <td>1</td>\n",
       "    </tr>\n",
       "    <tr>\n",
       "      <th>7</th>\n",
       "      <td>defense_passing_YDS/G</td>\n",
       "      <td>1</td>\n",
       "    </tr>\n",
       "    <tr>\n",
       "      <th>8</th>\n",
       "      <td>offense_passing_RTG</td>\n",
       "      <td>1</td>\n",
       "    </tr>\n",
       "    <tr>\n",
       "      <th>9</th>\n",
       "      <td>offense_receiving_AVG</td>\n",
       "      <td>1</td>\n",
       "    </tr>\n",
       "    <tr>\n",
       "      <th>10</th>\n",
       "      <td>offense_downs_Fourth Downs_PCT</td>\n",
       "      <td>1</td>\n",
       "    </tr>\n",
       "    <tr>\n",
       "      <th>11</th>\n",
       "      <td>defense_downs_First Downs_penalty_ratio</td>\n",
       "      <td>1</td>\n",
       "    </tr>\n",
       "    <tr>\n",
       "      <th>12</th>\n",
       "      <td>offense_passing_AVG</td>\n",
       "      <td>1</td>\n",
       "    </tr>\n",
       "    <tr>\n",
       "      <th>13</th>\n",
       "      <td>defense_pass_TD_per_rush_TD</td>\n",
       "      <td>1</td>\n",
       "    </tr>\n",
       "    <tr>\n",
       "      <th>14</th>\n",
       "      <td>offense_passing_YDS/G</td>\n",
       "      <td>1</td>\n",
       "    </tr>\n",
       "    <tr>\n",
       "      <th>15</th>\n",
       "      <td>defense_rushing_YDS/G</td>\n",
       "      <td>2</td>\n",
       "    </tr>\n",
       "    <tr>\n",
       "      <th>16</th>\n",
       "      <td>defense_passing_RTG</td>\n",
       "      <td>2</td>\n",
       "    </tr>\n",
       "    <tr>\n",
       "      <th>17</th>\n",
       "      <td>offense_downs_Third Downs_ATT_per_game</td>\n",
       "      <td>3</td>\n",
       "    </tr>\n",
       "    <tr>\n",
       "      <th>18</th>\n",
       "      <td>offense_downs_Fourth Downs_ATT_per_game</td>\n",
       "      <td>3</td>\n",
       "    </tr>\n",
       "    <tr>\n",
       "      <th>19</th>\n",
       "      <td>offense_passing_TD_per_game</td>\n",
       "      <td>3</td>\n",
       "    </tr>\n",
       "    <tr>\n",
       "      <th>20</th>\n",
       "      <td>defense_rushing_AVG</td>\n",
       "      <td>5</td>\n",
       "    </tr>\n",
       "    <tr>\n",
       "      <th>21</th>\n",
       "      <td>special_returning_Punts_AVG</td>\n",
       "      <td>5</td>\n",
       "    </tr>\n",
       "    <tr>\n",
       "      <th>22</th>\n",
       "      <td>defense_downs_Fourth Downs_ATT_per_game</td>\n",
       "      <td>7</td>\n",
       "    </tr>\n",
       "    <tr>\n",
       "      <th>23</th>\n",
       "      <td>defense_pass_TD_to_INT</td>\n",
       "      <td>8</td>\n",
       "    </tr>\n",
       "    <tr>\n",
       "      <th>24</th>\n",
       "      <td>offense_rushing_YDS/G</td>\n",
       "      <td>8</td>\n",
       "    </tr>\n",
       "    <tr>\n",
       "      <th>25</th>\n",
       "      <td>offense_downs_Third Downs_PCT</td>\n",
       "      <td>10</td>\n",
       "    </tr>\n",
       "    <tr>\n",
       "      <th>26</th>\n",
       "      <td>defense_downs_Third Downs_ATT_per_game</td>\n",
       "      <td>11</td>\n",
       "    </tr>\n",
       "    <tr>\n",
       "      <th>27</th>\n",
       "      <td>defense_pass_to_rush_ratio</td>\n",
       "      <td>11</td>\n",
       "    </tr>\n",
       "    <tr>\n",
       "      <th>28</th>\n",
       "      <td>special_kicking_FGA_per_game</td>\n",
       "      <td>13</td>\n",
       "    </tr>\n",
       "    <tr>\n",
       "      <th>29</th>\n",
       "      <td>special_punting_avg_return_yds</td>\n",
       "      <td>14</td>\n",
       "    </tr>\n",
       "  </tbody>\n",
       "</table>\n",
       "</div>"
      ],
      "text/plain": [
       "                                    feature  rank\n",
       "0                   offense_points_per_game     1\n",
       "1              defense_passing_SYL_per_game     1\n",
       "2                     defense_receiving_AVG     1\n",
       "3                       defense_passing_AVG     1\n",
       "4                    offense_pass_TD_to_INT     1\n",
       "5                   defense_points_per_game     1\n",
       "6               defense_rushing_TD_per_game     1\n",
       "7                     defense_passing_YDS/G     1\n",
       "8                       offense_passing_RTG     1\n",
       "9                     offense_receiving_AVG     1\n",
       "10           offense_downs_Fourth Downs_PCT     1\n",
       "11  defense_downs_First Downs_penalty_ratio     1\n",
       "12                      offense_passing_AVG     1\n",
       "13              defense_pass_TD_per_rush_TD     1\n",
       "14                    offense_passing_YDS/G     1\n",
       "15                    defense_rushing_YDS/G     2\n",
       "16                      defense_passing_RTG     2\n",
       "17   offense_downs_Third Downs_ATT_per_game     3\n",
       "18  offense_downs_Fourth Downs_ATT_per_game     3\n",
       "19              offense_passing_TD_per_game     3\n",
       "20                      defense_rushing_AVG     5\n",
       "21              special_returning_Punts_AVG     5\n",
       "22  defense_downs_Fourth Downs_ATT_per_game     7\n",
       "23                   defense_pass_TD_to_INT     8\n",
       "24                    offense_rushing_YDS/G     8\n",
       "25            offense_downs_Third Downs_PCT    10\n",
       "26   defense_downs_Third Downs_ATT_per_game    11\n",
       "27               defense_pass_to_rush_ratio    11\n",
       "28             special_kicking_FGA_per_game    13\n",
       "29           special_punting_avg_return_yds    14"
      ]
     },
     "execution_count": 122,
     "metadata": {},
     "output_type": "execute_result"
    }
   ],
   "source": [
    "boruta_rankings.head(30)"
   ]
  },
  {
   "cell_type": "code",
   "execution_count": null,
   "id": "ea0ec7e2",
   "metadata": {},
   "outputs": [],
   "source": []
  }
 ],
 "metadata": {
  "kernelspec": {
   "display_name": "Python 3",
   "language": "python",
   "name": "python3"
  },
  "language_info": {
   "codemirror_mode": {
    "name": "ipython",
    "version": 3
   },
   "file_extension": ".py",
   "mimetype": "text/x-python",
   "name": "python",
   "nbconvert_exporter": "python",
   "pygments_lexer": "ipython3",
   "version": "3.8.8"
  }
 },
 "nbformat": 4,
 "nbformat_minor": 5
}
