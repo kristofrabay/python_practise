{
 "cells": [
  {
   "cell_type": "code",
   "execution_count": 2,
   "metadata": {},
   "outputs": [],
   "source": [
    "from bs4 import BeautifulSoup\n",
    "from requests import get"
   ]
  },
  {
   "cell_type": "markdown",
   "metadata": {},
   "source": [
    "### Arany János 1847-49 versek"
   ]
  },
  {
   "cell_type": "code",
   "execution_count": 15,
   "metadata": {},
   "outputs": [
    {
     "name": "stdout",
     "output_type": "stream",
     "text": [
      "Arany János összes költeményei\n"
     ]
    }
   ],
   "source": [
    "arany_url = \"https://mek.oszk.hu/00500/00597/html/vs184701.htm#01\"\n",
    "arany_html = get(arany_url).text\n",
    "arany_bs = BeautifulSoup(arany_html)\n",
    "\n",
    "print(arany_bs.title.text)"
   ]
  },
  {
   "cell_type": "code",
   "execution_count": 53,
   "metadata": {},
   "outputs": [],
   "source": [
    "poem_parts = []\n",
    "\n",
    "for part in arany_bs.find_all(\"p\"):\n",
    "    poem_parts.append(part.text.replace('\\n', ' ').strip().split())\n",
    "    \n",
    "arany = ' '.join(sum(poem_parts, []))"
   ]
  },
  {
   "cell_type": "code",
   "execution_count": 68,
   "metadata": {},
   "outputs": [
    {
     "data": {
      "text/plain": [
       "'Zavarva lelkem, mint a bomlott cimbalom; Örûl a szívem és mégis sajog belé, Hányja veti a hab: mért e nagy jutalom? Petõfit barátul mégsem érdemelé. Hiszen pályadíjul ez nem volt kitûzve... Szerencse, isteni jó szerencse nékem! Máskép szerény mûvem vetém vala tûzbe, Mert hogyan lett volna nyerni rem'"
      ]
     },
     "execution_count": 68,
     "metadata": {},
     "output_type": "execute_result"
    }
   ],
   "source": [
    "arany[:300]"
   ]
  },
  {
   "cell_type": "markdown",
   "metadata": {},
   "source": [
    "### Petőfi Sándor 1848-as versei"
   ]
  },
  {
   "cell_type": "code",
   "execution_count": 57,
   "metadata": {},
   "outputs": [
    {
     "name": "stdout",
     "output_type": "stream",
     "text": [
      "Petôfi Sándor összes költeményei - Versek 1848 [1/10]\n"
     ]
    }
   ],
   "source": [
    "petofi_url = \"https://mek.oszk.hu/01000/01006/html/vs184801.htm#01\"\n",
    "petofi_html = get(petofi_url).text\n",
    "petofi_bs = BeautifulSoup(petofi_html)\n",
    "\n",
    "print(petofi_bs.title.text)"
   ]
  },
  {
   "cell_type": "code",
   "execution_count": 61,
   "metadata": {},
   "outputs": [],
   "source": [
    "poem_parts = []\n",
    "\n",
    "for part in petofi_bs.find_all(\"p\"):\n",
    "    poem_parts.append(part.text.replace('\\n', ' ').strip().split())\n",
    "    \n",
    "petofi = ' '.join(sum(poem_parts, []))"
   ]
  },
  {
   "cell_type": "code",
   "execution_count": 69,
   "metadata": {},
   "outputs": [
    {
     "data": {
      "text/plain": [
       "'Hova lett a tarka szivárvány az égrõl? Hova lett a tarka virág a mezõkrõl? Hol van a patakzaj, hol van a madárdal, S minden éke, kincse a tavasznak s nyárnak? Odavan mind! csak az emlékezet által Idéztetnek föl, mint halvány síri árnyak. Egyebet nem látni hónál és fellegnél; Koldussá lett a föld, ki'"
      ]
     },
     "execution_count": 69,
     "metadata": {},
     "output_type": "execute_result"
    }
   ],
   "source": [
    "petofi[:300]"
   ]
  },
  {
   "cell_type": "markdown",
   "metadata": {},
   "source": [
    "### Szövegek kimentése"
   ]
  },
  {
   "cell_type": "code",
   "execution_count": 74,
   "metadata": {},
   "outputs": [],
   "source": [
    "arany_szoveg = open(\"arany.txt\", mode = 'w', encoding = \"utf-8\") \n",
    "arany_szoveg.write(arany)\n",
    "arany_szoveg.close() \n",
    "\n",
    "petofi_szoveg = open(\"petofi.txt\", mode = 'w', encoding = \"utf-8\") \n",
    "petofi_szoveg.write(petofi)\n",
    "petofi_szoveg.close() "
   ]
  },
  {
   "cell_type": "code",
   "execution_count": null,
   "metadata": {},
   "outputs": [],
   "source": []
  }
 ],
 "metadata": {
  "kernelspec": {
   "display_name": "Python 3",
   "language": "python",
   "name": "python3"
  },
  "language_info": {
   "codemirror_mode": {
    "name": "ipython",
    "version": 3
   },
   "file_extension": ".py",
   "mimetype": "text/x-python",
   "name": "python",
   "nbconvert_exporter": "python",
   "pygments_lexer": "ipython3",
   "version": "3.7.3"
  }
 },
 "nbformat": 4,
 "nbformat_minor": 4
}
