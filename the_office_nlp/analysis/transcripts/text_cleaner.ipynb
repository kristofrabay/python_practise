{
 "cells": [
  {
   "cell_type": "code",
   "execution_count": 1,
   "id": "0b2ed3f8",
   "metadata": {},
   "outputs": [],
   "source": [
    "import pandas as pd\n",
    "import numpy as np\n",
    "\n",
    "import re\n",
    "from nltk.corpus import stopwords\n",
    "from nltk.util import ngrams\n",
    "from nltk.collections import Counter\n",
    "\n",
    "STOP_WORDS = stopwords.words('english')\n",
    "STOP_WORDS_KEEP_NOT = [word for word in STOP_WORDS if (word not in ['no', 'not'])]\n",
    "\n",
    "ADD_TO_STOPWORDS = ['oh', 'like', 'okay', 'would', 'get', 'hey', 'go', 'one', 'going', 'want', 'yes', \n",
    "                    'uh', 'let', 'ok', 'gonna', 'come', 'see', 'could', 'back', 'um', 'take', 'make', \n",
    "                    'us', 'got', 'know', 'man', 'think', 'one', 'two', 'way']"
   ]
  },
  {
   "cell_type": "code",
   "execution_count": 2,
   "id": "be18925c",
   "metadata": {},
   "outputs": [
    {
     "data": {
      "text/html": [
       "<div>\n",
       "<style scoped>\n",
       "    .dataframe tbody tr th:only-of-type {\n",
       "        vertical-align: middle;\n",
       "    }\n",
       "\n",
       "    .dataframe tbody tr th {\n",
       "        vertical-align: top;\n",
       "    }\n",
       "\n",
       "    .dataframe thead th {\n",
       "        text-align: right;\n",
       "    }\n",
       "</style>\n",
       "<table border=\"1\" class=\"dataframe\">\n",
       "  <thead>\n",
       "    <tr style=\"text-align: right;\">\n",
       "      <th></th>\n",
       "      <th>season</th>\n",
       "      <th>episode</th>\n",
       "      <th>title</th>\n",
       "      <th>scene</th>\n",
       "      <th>speaker</th>\n",
       "      <th>line</th>\n",
       "    </tr>\n",
       "  </thead>\n",
       "  <tbody>\n",
       "    <tr>\n",
       "      <th>0</th>\n",
       "      <td>1</td>\n",
       "      <td>1</td>\n",
       "      <td>Pilot</td>\n",
       "      <td>1</td>\n",
       "      <td>Michael</td>\n",
       "      <td>All right Jim. Your quarterlies look very good...</td>\n",
       "    </tr>\n",
       "    <tr>\n",
       "      <th>1</th>\n",
       "      <td>1</td>\n",
       "      <td>1</td>\n",
       "      <td>Pilot</td>\n",
       "      <td>1</td>\n",
       "      <td>Jim</td>\n",
       "      <td>Oh, I told you. I couldn't close it. So...</td>\n",
       "    </tr>\n",
       "    <tr>\n",
       "      <th>2</th>\n",
       "      <td>1</td>\n",
       "      <td>1</td>\n",
       "      <td>Pilot</td>\n",
       "      <td>1</td>\n",
       "      <td>Michael</td>\n",
       "      <td>So you've come to the master for guidance? Is ...</td>\n",
       "    </tr>\n",
       "  </tbody>\n",
       "</table>\n",
       "</div>"
      ],
      "text/plain": [
       "   season  episode  title  scene  speaker  \\\n",
       "0       1        1  Pilot      1  Michael   \n",
       "1       1        1  Pilot      1      Jim   \n",
       "2       1        1  Pilot      1  Michael   \n",
       "\n",
       "                                                line  \n",
       "0  All right Jim. Your quarterlies look very good...  \n",
       "1         Oh, I told you. I couldn't close it. So...  \n",
       "2  So you've come to the master for guidance? Is ...  "
      ]
     },
     "execution_count": 2,
     "metadata": {},
     "output_type": "execute_result"
    }
   ],
   "source": [
    "data = pd.read_csv('../../data/The-Office-Lines-V4.csv.zip', compression = 'zip')\n",
    "data.drop('Unnamed: 6', 1, inplace = True)\n",
    "data.head(3)"
   ]
  },
  {
   "cell_type": "code",
   "execution_count": 3,
   "id": "9fce9379",
   "metadata": {},
   "outputs": [],
   "source": [
    "# scene_count = data.groupby(['season', 'episode']).agg({'scene' : 'nunique', 'title' : 'first'}).reset_index().sort_values('scene')"
   ]
  },
  {
   "cell_type": "markdown",
   "id": "75e800f1",
   "metadata": {},
   "source": [
    "### Clean up speakers"
   ]
  },
  {
   "cell_type": "code",
   "execution_count": 4,
   "id": "b2baa63d",
   "metadata": {},
   "outputs": [],
   "source": [
    "data['speaker'] = data['speaker'].str.replace('[^a-zA-Z]', ' ', regex = True)\n",
    "data['speaker'] = data['speaker'].str.replace('\\s+', ' ', regex = True)\n",
    "data['speaker'] = data['speaker'].str.replace(' and ', ' ', regex = True)\n",
    "data['speaker'] = data['speaker'].str.strip()"
   ]
  },
  {
   "cell_type": "code",
   "execution_count": 5,
   "id": "abaadfe6",
   "metadata": {},
   "outputs": [],
   "source": [
    "mapper = {'Angel' : 'Angela', 'Angels' : 'Angela', 'Anglea' : 'Angela',\n",
    "          'Dacvid Walalce' : 'David Wallace', 'Dacvid Wallace' : 'David Wallace', 'David' : 'David Wallace',\n",
    "          'Darrly' : 'Darryl', 'Darry' : 'Darryl', 'Daryl' : 'Darryl',\n",
    "          'DeAgnelo' : 'DeAngelo', 'Deangelo' : 'DeAngelo', 'Denagelo' : 'DeAngelo',\n",
    "          'Dight' : 'Dwight', 'DwightKSchrute' : 'Dwight',\n",
    "          'JIm' : 'Jim', 'JIM' : 'Jim', 'Jo' : 'Jo Bennett', \n",
    "          'M ichael' : 'Michael', 'MIchael' : 'Michael', 'Micael' : 'Michael','Michae' : 'Michael', 'Mihael' : 'Michael',\n",
    "          'Micahel' : 'Michael', 'Michal' : 'Michael', 'Micheal' : 'Michael','Michel' : 'Michael', 'Miichael' : 'Michael',\n",
    "          'Meridith' : 'Meredith', 'Nellie' : 'Nellie Bertram', \n",
    "          'Phylis' : 'Phyllis', 'Phyliss' : 'Phyllis', 'Robert' : 'Robert California',\n",
    "          'Stanely' : 'Stanley', 'Todd' : 'Todd Packer', 'abe' : 'Gabe', 'sAndy' : 'Andy'}\n",
    "\n",
    "data['speaker'].replace(mapper, inplace = True)"
   ]
  },
  {
   "cell_type": "code",
   "execution_count": 6,
   "id": "12b7952f",
   "metadata": {},
   "outputs": [
    {
     "data": {
      "text/plain": [
       "660"
      ]
     },
     "execution_count": 6,
     "metadata": {},
     "output_type": "execute_result"
    }
   ],
   "source": [
    "data['speaker'].nunique()"
   ]
  },
  {
   "cell_type": "code",
   "execution_count": 7,
   "id": "626502aa",
   "metadata": {},
   "outputs": [],
   "source": [
    "data.loc[(data['speaker'] == 'Clark') & (data['season'] == 6), 'speaker'] = 'Clark the Hospital Nurse'"
   ]
  },
  {
   "cell_type": "code",
   "execution_count": 8,
   "id": "747a0c96",
   "metadata": {},
   "outputs": [
    {
     "data": {
      "text/plain": [
       "Michael           10876\n",
       "Dwight             6794\n",
       "Jim                6262\n",
       "Pam                5005\n",
       "Andy               3734\n",
       "Angela             1555\n",
       "Kevin              1542\n",
       "Erin               1429\n",
       "Oscar              1356\n",
       "Darryl             1210\n",
       "Ryan               1187\n",
       "Phyllis             972\n",
       "Kelly               826\n",
       "Toby                814\n",
       "Jan                 805\n",
       "Stanley             674\n",
       "Meredith            559\n",
       "Holly               555\n",
       "Nellie Bertram      528\n",
       "David Wallace       490\n",
       "Name: speaker, dtype: int64"
      ]
     },
     "execution_count": 8,
     "metadata": {},
     "output_type": "execute_result"
    }
   ],
   "source": [
    "data['speaker'].value_counts().head(20)"
   ]
  },
  {
   "cell_type": "code",
   "execution_count": 9,
   "id": "1661532f",
   "metadata": {},
   "outputs": [
    {
     "data": {
      "text/plain": [
       "0.8635631384322484"
      ]
     },
     "execution_count": 9,
     "metadata": {},
     "output_type": "execute_result"
    }
   ],
   "source": [
    "data['speaker'].value_counts().head(20).sum() / data.shape[0]"
   ]
  },
  {
   "cell_type": "markdown",
   "id": "3420898b",
   "metadata": {},
   "source": [
    "When analyzing sentiments toward each other, then I will drop the non-top-20 characters, until then I can keep all lines"
   ]
  },
  {
   "cell_type": "markdown",
   "id": "5994e554",
   "metadata": {},
   "source": [
    "### Clean up lines\n",
    "\n",
    "1. Just basic modifications: --> wordclouds, ngrams, tf-idf\n",
    "    - drop numbers and special characters\n",
    "    - lower\n",
    "    - normalize contractions\n",
    "    \n",
    "    \n",
    "2. Drop stopwords --> wordclouds, ngrams, tf-idf, sentiment scores by words / lines\n",
    "    - english stopwords\n",
    "    - frequently used but meaningless words\n",
    "    \n",
    "    \n",
    "3. [MAYBE] lemmatization --> sentiment scores by lines"
   ]
  },
  {
   "cell_type": "markdown",
   "id": "0216e549",
   "metadata": {},
   "source": [
    "#### 1. Basic text cleaner"
   ]
  },
  {
   "cell_type": "code",
   "execution_count": 10,
   "id": "2403545d",
   "metadata": {},
   "outputs": [],
   "source": [
    "cList = {\n",
    "    \"ain't\": \"am not\",\n",
    "    \"aren't\": \"are not\",\n",
    "    \"can't've\": \"cannot have\",\n",
    "    \"can't\": \"cannot\",\n",
    "    \"'cause\": \"because\",\n",
    "    \"could've\": \"could have\",\n",
    "    \"couldn't've\": \"could not have\",\n",
    "    \"couldn't\": \"could not\",\n",
    "    \"didn't\": \"did not\",\n",
    "    \"doesn't\": \"does not\",\n",
    "    \"don't\": \"do not\",\n",
    "    \"hadn't've\": \"had not have\",\n",
    "    \"hadn't\": \"had not\",    \n",
    "    \"hasn't\": \"has not\",\n",
    "    \"haven't\": \"have not\",\n",
    "    \"he'd've\": \"he would have\",\n",
    "    \"he'd\": \"he would\",  \n",
    "    \"he'll've\": \"he will have\",\n",
    "    \"he'll\": \"he will\",    \n",
    "    \"he's\": \"he is\",\n",
    "    \"how'd'y\": \"how do you\",\n",
    "    \"how'd\": \"how did\",  \n",
    "    \"how'll\": \"how will\",\n",
    "    \"how's\": \"how is\",\n",
    "    \"i'd've\": \"i would have\",\n",
    "    \"i'd\": \"i would\",\n",
    "    \"i'll've\": \"i will have\",\n",
    "    \"i'll\": \"i will\",    \n",
    "    \"i'm\": \"i am\",\n",
    "    \"i've\": \"i have\",\n",
    "    \"isn't\": \"is not\",\n",
    "    \"it'd've\": \"it would have\",\n",
    "    \"it'd\": \"it would\",\n",
    "    \"it'll've\": \"it will have\",  \n",
    "    \"it'll\": \"it will\",  \n",
    "    \"it's\": \"it is\",\n",
    "    \"let's\": \"let us\",\n",
    "    \"ma'am\": \"madam\",\n",
    "    \"mayn't\": \"may not\",\n",
    "    \"might've\": \"might have\",\n",
    "    \"mightn't've\": \"might not have\",\n",
    "    \"mightn't\": \"might not\",    \n",
    "    \"must've\": \"must have\",\n",
    "    \"mustn't've\": \"must not have\",\n",
    "    \"mustn't\": \"must not\",\n",
    "    \"needn't've\": \"need not have\",  \n",
    "    \"needn't\": \"need not\",  \n",
    "    \"oughtn't've\": \"ought not have\",\n",
    "    \"oughtn't\": \"ought not\",\n",
    "    \"shan't've\": \"shall not have\",\n",
    "    \"shan't\": \"shall not\",\n",
    "    \"sha'n't\": \"shall not\",\n",
    "    \"she'd've\": \"she would have\",\n",
    "    \"she'd\": \"she would\",\n",
    "    \"she'll've\": \"she will have\",\n",
    "    \"she'll\": \"she will\",  \n",
    "    \"she's\": \"she is\",\n",
    "    \"should've\": \"should have\",\n",
    "    \"shouldn't've\": \"should not have\",\n",
    "    \"shouldn't\": \"should not\",  \n",
    "    \"so've\": \"so have\",\n",
    "    \"so's\": \"so is\",\n",
    "    \"that'd've\": \"that would have\",\n",
    "    \"that'd\": \"that would\",  \n",
    "    \"that's\": \"that is\",\n",
    "    \"there'd've\": \"there would have\",\n",
    "    \"there'd\": \"there had\",  \n",
    "    \"there's\": \"there is\",\n",
    "    \"they'd've\": \"they would have\",\n",
    "    \"they'd\": \"they would\",\n",
    "    \"they'll've\": \"they will have\",\n",
    "    \"they'll\": \"they will\",  \n",
    "    \"they're\": \"they are\",\n",
    "    \"they've\": \"they have\",\n",
    "    \"to've\": \"to have\",\n",
    "    \"wasn't\": \"was not\",\n",
    "    \"we'd've\": \"we would have\",\n",
    "    \"we'd\": \"we would\",\n",
    "    \"we'll've\": \"we will have\",  \n",
    "    \"we'll\": \"we will\",  \n",
    "    \"we're\": \"we are\",\n",
    "    \"we've\": \"we have\",\n",
    "    \"weren't\": \"were not\",\n",
    "    \"what'll've\": \"what will have\",\n",
    "    \"what'll\": \"what will\",    \n",
    "    \"what're\": \"what are\",\n",
    "    \"what's\": \"what is\",\n",
    "    \"what've\": \"what have\",\n",
    "    \"when's\": \"when is\",\n",
    "    \"when've\": \"when have\",\n",
    "    \"where'd\": \"where did\",\n",
    "    \"where's\": \"where is\",\n",
    "    \"where've\": \"where have\",\n",
    "    \"who'll've\": \"who will have\",\n",
    "    \"who'll\": \"who will\",    \n",
    "    \"who's\": \"who is\",\n",
    "    \"who've\": \"who have\",\n",
    "    \"why's\": \"why is\",\n",
    "    \"why've\": \"why have\",\n",
    "    \"will've\": \"will have\",\n",
    "    \"won't've\": \"will not have\",\n",
    "    \"won't\": \"will not\",    \n",
    "    \"would've\": \"would have\",\n",
    "    \"wouldn't've\": \"would not have\",\n",
    "    \"wouldn't\": \"would not\",\n",
    "    \"y'all'd've\": \"you all would have\",\n",
    "    \"y'all'd\": \"you all would\",\n",
    "    \"y'all're\": \"you all are\",\n",
    "    \"y'all've\": \"you all have\",\n",
    "    \"y'all\": \"you all\",\n",
    "    \"y'alls\": \"you all\",  \n",
    "    \"you'd've\": \"you would have\",\n",
    "    \"you'd\": \"you had\",\n",
    "    \"you'll've\": \"you will have\",\n",
    "    \"you'll\": \"you will\",  \n",
    "    \"you're\": \"you are\",\n",
    "    \"you've\": \"you have\"\n",
    "}"
   ]
  },
  {
   "cell_type": "code",
   "execution_count": 11,
   "id": "9f831f1c",
   "metadata": {},
   "outputs": [],
   "source": [
    "def decontracted(phrase):\n",
    "    \n",
    "    # specific\n",
    "    phrase = re.sub(r\"won\\'t\", \"will not\", phrase)\n",
    "    phrase = re.sub(r\"can\\'t\", \"can not\", phrase)\n",
    "\n",
    "    # general\n",
    "    phrase = re.sub(r\"n\\'t\", \" not\", phrase)\n",
    "    phrase = re.sub(r\"\\'re\", \" are\", phrase)\n",
    "    phrase = re.sub(r\"\\'s\", \" is\", phrase)\n",
    "    phrase = re.sub(r\"\\'d\", \" would\", phrase)\n",
    "    phrase = re.sub(r\"\\'ll\", \" will\", phrase)\n",
    "    phrase = re.sub(r\"\\'t\", \" not\", phrase)\n",
    "    phrase = re.sub(r\"\\'ve\", \" have\", phrase)\n",
    "    phrase = re.sub(r\"\\'m\", \" am\", phrase)\n",
    "    \n",
    "    return phrase"
   ]
  },
  {
   "cell_type": "code",
   "execution_count": 12,
   "id": "bb64fee1",
   "metadata": {},
   "outputs": [],
   "source": [
    "def basic_text_cleaner(text, treat_contractions = False, remove_stopwords = False):  \n",
    "    \n",
    "    # lower chars and treat whitespaces\n",
    "    text = text.lower()\n",
    "    text = re.compile('\\s+').sub(' ', text) # whitespaces\n",
    "    text = text.strip() # trailing whitespaces    \n",
    "    \n",
    "    # if want to expand contractions\n",
    "    if treat_contractions:\n",
    "        text = decontracted(text)\n",
    "        text = ' '.join([cList.get(word,word) for word in text.split()]) # if anything remains\n",
    "\n",
    "    # get rid of special chars and re-check whitespaces    \n",
    "    text = re.compile('[^a-z]').sub(' ', text) # nonletters\n",
    "    \n",
    "    # after numbers\n",
    "    text = re.sub(' th ', '', text)\n",
    "    text = re.sub(' st ', '', text)\n",
    "    text = re.sub(' nd ', '', text)\n",
    "    text = re.compile('\\s+').sub(' ', text) # whitespaces\n",
    "    text = text.strip() # trailing whitespaces\n",
    "    \n",
    "    # if want to remove stopwords\n",
    "    if remove_stopwords:\n",
    "        text = ' '.join([word for word in text.split() if word not in STOP_WORDS + ADD_TO_STOPWORDS])\n",
    "    \n",
    "    return text"
   ]
  },
  {
   "cell_type": "code",
   "execution_count": 13,
   "id": "4944fb2a",
   "metadata": {},
   "outputs": [],
   "source": [
    "data['cleaned'] = data['line'].apply(lambda x: basic_text_cleaner(x, treat_contractions = True, remove_stopwords = False))"
   ]
  },
  {
   "cell_type": "code",
   "execution_count": 14,
   "id": "1ee409eb",
   "metadata": {},
   "outputs": [
    {
     "data": {
      "text/html": [
       "<div>\n",
       "<style scoped>\n",
       "    .dataframe tbody tr th:only-of-type {\n",
       "        vertical-align: middle;\n",
       "    }\n",
       "\n",
       "    .dataframe tbody tr th {\n",
       "        vertical-align: top;\n",
       "    }\n",
       "\n",
       "    .dataframe thead th {\n",
       "        text-align: right;\n",
       "    }\n",
       "</style>\n",
       "<table border=\"1\" class=\"dataframe\">\n",
       "  <thead>\n",
       "    <tr style=\"text-align: right;\">\n",
       "      <th></th>\n",
       "      <th>season</th>\n",
       "      <th>episode</th>\n",
       "      <th>title</th>\n",
       "      <th>scene</th>\n",
       "      <th>speaker</th>\n",
       "      <th>line</th>\n",
       "      <th>cleaned</th>\n",
       "    </tr>\n",
       "  </thead>\n",
       "  <tbody>\n",
       "    <tr>\n",
       "      <th>0</th>\n",
       "      <td>1</td>\n",
       "      <td>1</td>\n",
       "      <td>Pilot</td>\n",
       "      <td>1</td>\n",
       "      <td>Michael</td>\n",
       "      <td>All right Jim. Your quarterlies look very good...</td>\n",
       "      <td>all right jim your quarterlies look very good ...</td>\n",
       "    </tr>\n",
       "    <tr>\n",
       "      <th>1</th>\n",
       "      <td>1</td>\n",
       "      <td>1</td>\n",
       "      <td>Pilot</td>\n",
       "      <td>1</td>\n",
       "      <td>Jim</td>\n",
       "      <td>Oh, I told you. I couldn't close it. So...</td>\n",
       "      <td>oh i told you i could not close it so</td>\n",
       "    </tr>\n",
       "    <tr>\n",
       "      <th>2</th>\n",
       "      <td>1</td>\n",
       "      <td>1</td>\n",
       "      <td>Pilot</td>\n",
       "      <td>1</td>\n",
       "      <td>Michael</td>\n",
       "      <td>So you've come to the master for guidance? Is ...</td>\n",
       "      <td>so you have come to the master for guidance is...</td>\n",
       "    </tr>\n",
       "  </tbody>\n",
       "</table>\n",
       "</div>"
      ],
      "text/plain": [
       "   season  episode  title  scene  speaker  \\\n",
       "0       1        1  Pilot      1  Michael   \n",
       "1       1        1  Pilot      1      Jim   \n",
       "2       1        1  Pilot      1  Michael   \n",
       "\n",
       "                                                line  \\\n",
       "0  All right Jim. Your quarterlies look very good...   \n",
       "1         Oh, I told you. I couldn't close it. So...   \n",
       "2  So you've come to the master for guidance? Is ...   \n",
       "\n",
       "                                             cleaned  \n",
       "0  all right jim your quarterlies look very good ...  \n",
       "1              oh i told you i could not close it so  \n",
       "2  so you have come to the master for guidance is...  "
      ]
     },
     "execution_count": 14,
     "metadata": {},
     "output_type": "execute_result"
    }
   ],
   "source": [
    "data.head(3)"
   ]
  },
  {
   "cell_type": "markdown",
   "id": "c8c4212f",
   "metadata": {},
   "source": [
    "#### 2. Remove stopwords and frequent, meaningless words"
   ]
  },
  {
   "cell_type": "code",
   "execution_count": 15,
   "id": "ce1f440f",
   "metadata": {},
   "outputs": [],
   "source": [
    "data['cleaned_sw_rem'] = data['cleaned'].apply(lambda x: basic_text_cleaner(x, treat_contractions = True, remove_stopwords = True))"
   ]
  },
  {
   "cell_type": "code",
   "execution_count": 16,
   "id": "7a0f7040",
   "metadata": {},
   "outputs": [
    {
     "data": {
      "text/html": [
       "<div>\n",
       "<style scoped>\n",
       "    .dataframe tbody tr th:only-of-type {\n",
       "        vertical-align: middle;\n",
       "    }\n",
       "\n",
       "    .dataframe tbody tr th {\n",
       "        vertical-align: top;\n",
       "    }\n",
       "\n",
       "    .dataframe thead th {\n",
       "        text-align: right;\n",
       "    }\n",
       "</style>\n",
       "<table border=\"1\" class=\"dataframe\">\n",
       "  <thead>\n",
       "    <tr style=\"text-align: right;\">\n",
       "      <th></th>\n",
       "      <th>season</th>\n",
       "      <th>episode</th>\n",
       "      <th>title</th>\n",
       "      <th>scene</th>\n",
       "      <th>speaker</th>\n",
       "      <th>line</th>\n",
       "      <th>cleaned</th>\n",
       "      <th>cleaned_sw_rem</th>\n",
       "    </tr>\n",
       "  </thead>\n",
       "  <tbody>\n",
       "    <tr>\n",
       "      <th>0</th>\n",
       "      <td>1</td>\n",
       "      <td>1</td>\n",
       "      <td>Pilot</td>\n",
       "      <td>1</td>\n",
       "      <td>Michael</td>\n",
       "      <td>All right Jim. Your quarterlies look very good...</td>\n",
       "      <td>all right jim your quarterlies look very good ...</td>\n",
       "      <td>right jim quarterlies look good things library</td>\n",
       "    </tr>\n",
       "    <tr>\n",
       "      <th>1</th>\n",
       "      <td>1</td>\n",
       "      <td>1</td>\n",
       "      <td>Pilot</td>\n",
       "      <td>1</td>\n",
       "      <td>Jim</td>\n",
       "      <td>Oh, I told you. I couldn't close it. So...</td>\n",
       "      <td>oh i told you i could not close it so</td>\n",
       "      <td>told close</td>\n",
       "    </tr>\n",
       "    <tr>\n",
       "      <th>2</th>\n",
       "      <td>1</td>\n",
       "      <td>1</td>\n",
       "      <td>Pilot</td>\n",
       "      <td>1</td>\n",
       "      <td>Michael</td>\n",
       "      <td>So you've come to the master for guidance? Is ...</td>\n",
       "      <td>so you have come to the master for guidance is...</td>\n",
       "      <td>master guidance saying grasshopper</td>\n",
       "    </tr>\n",
       "  </tbody>\n",
       "</table>\n",
       "</div>"
      ],
      "text/plain": [
       "   season  episode  title  scene  speaker  \\\n",
       "0       1        1  Pilot      1  Michael   \n",
       "1       1        1  Pilot      1      Jim   \n",
       "2       1        1  Pilot      1  Michael   \n",
       "\n",
       "                                                line  \\\n",
       "0  All right Jim. Your quarterlies look very good...   \n",
       "1         Oh, I told you. I couldn't close it. So...   \n",
       "2  So you've come to the master for guidance? Is ...   \n",
       "\n",
       "                                             cleaned  \\\n",
       "0  all right jim your quarterlies look very good ...   \n",
       "1              oh i told you i could not close it so   \n",
       "2  so you have come to the master for guidance is...   \n",
       "\n",
       "                                   cleaned_sw_rem  \n",
       "0  right jim quarterlies look good things library  \n",
       "1                                      told close  \n",
       "2              master guidance saying grasshopper  "
      ]
     },
     "execution_count": 16,
     "metadata": {},
     "output_type": "execute_result"
    }
   ],
   "source": [
    "data.head(3)"
   ]
  },
  {
   "cell_type": "code",
   "execution_count": null,
   "id": "7fe0e6a1",
   "metadata": {},
   "outputs": [],
   "source": []
  },
  {
   "cell_type": "markdown",
   "id": "0dd27e2e",
   "metadata": {},
   "source": [
    "Check cleaned and stopword-free columns for most frequent words. If they are meaningless, add them to stopwords list and also remove them"
   ]
  },
  {
   "cell_type": "code",
   "execution_count": 17,
   "id": "06cbf20b",
   "metadata": {},
   "outputs": [],
   "source": [
    "data.to_csv('../../data/transcripts_cleaned.csv', index = False)"
   ]
  },
  {
   "cell_type": "code",
   "execution_count": null,
   "id": "591143a0",
   "metadata": {},
   "outputs": [],
   "source": []
  },
  {
   "cell_type": "code",
   "execution_count": null,
   "id": "a8a3716c",
   "metadata": {},
   "outputs": [],
   "source": []
  }
 ],
 "metadata": {
  "kernelspec": {
   "display_name": "Python 3",
   "language": "python",
   "name": "python3"
  },
  "language_info": {
   "codemirror_mode": {
    "name": "ipython",
    "version": 3
   },
   "file_extension": ".py",
   "mimetype": "text/x-python",
   "name": "python",
   "nbconvert_exporter": "python",
   "pygments_lexer": "ipython3",
   "version": "3.8.8"
  }
 },
 "nbformat": 4,
 "nbformat_minor": 5
}
