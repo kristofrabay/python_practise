{
 "cells": [
  {
   "cell_type": "code",
   "execution_count": 117,
   "id": "98891a96",
   "metadata": {},
   "outputs": [],
   "source": [
    "import warnings\n",
    "warnings.filterwarnings('ignore')\n",
    "\n",
    "import pandas as pd\n",
    "import numpy as np\n",
    "\n",
    "from math import isnan\n",
    "\n",
    "import pickle\n",
    "\n",
    "import matplotlib.pyplot as plt\n",
    "import seaborn as sns\n",
    "import plotly.express as px\n",
    "\n",
    "from collections import ChainMap\n",
    "\n",
    "import gensim.corpora as corpora\n",
    "from gensim.models import LdaModel, CoherenceModel, LdaMulticore\n",
    "\n",
    "import pyLDAvis\n",
    "import pyLDAvis.gensim_models\n",
    "\n",
    "\n",
    "def compute_coherence_values(dictionary, corpus, word_list, limit, start, step):\n",
    "\n",
    "    coherence_values = []\n",
    "    model_list = []\n",
    "    \n",
    "    for num_topics in range(start, limit, step):\n",
    "        \n",
    "        lda_model = LdaMulticore(corpus = corpus, num_topics = num_topics, id2word = dictionary, workers = 8,\n",
    "                             chunksize = 1000, iterations = 50,\n",
    "                             random_state = 20202020, passes = 50, alpha = 'symmetric', eval_every = 10) \n",
    "        model_list.append(lda_model)\n",
    "        \n",
    "        coherencemodel = CoherenceModel(model = lda_model, texts = word_list, dictionary = dictionary, coherence='c_v')\n",
    "        coherence_values.append(coherencemodel.get_coherence())\n",
    "\n",
    "    return model_list, coherence_values\n",
    "\n",
    "\n",
    "def plot_coherence(x, y):\n",
    "    \n",
    "    fig = px.line(x = x, y = y, title = 'Coherence scores', width = 750, height = 350,\n",
    "                  labels = {'x' : '# of topics', 'y' : 'Coherence'})\n",
    "    fig.update_traces(mode='markers+lines')\n",
    "    fig.show()\n",
    "    \n",
    "    \n",
    "def format_topics_sentences(ldamodel, corpus, texts):\n",
    "\n",
    "    sent_topics_df = pd.DataFrame()\n",
    "\n",
    "    # Get main topic in each document\n",
    "    for i, row in enumerate(ldamodel[corpus]):\n",
    "        \n",
    "        row = sorted(row, key=lambda x: (x[1]), reverse=True)\n",
    "        # Get the Dominant topic, Perc Contribution and Keywords for each document\n",
    "        for j, (topic_num, prop_topic) in enumerate(row):\n",
    "            if j == 0:  # => dominant topic\n",
    "                wp = ldamodel.show_topic(topic_num)\n",
    "                topic_keywords = \", \".join([word for word, prop in wp])\n",
    "                sent_topics_df = sent_topics_df.append(pd.Series([int(topic_num), round(prop_topic,4), topic_keywords]), ignore_index=True)\n",
    "            else:\n",
    "                break\n",
    "    sent_topics_df.columns = ['Dominant_Topic', 'Perc_Contribution', 'Topic_Keywords']\n",
    "\n",
    "    # Add original text to the end of the output\n",
    "    contents = pd.Series(texts)\n",
    "    sent_topics_df = pd.concat([sent_topics_df, contents], axis=1)\n",
    "    return(sent_topics_df)\n",
    "\n",
    "\n",
    "def assign_documents_to_topics(model, corpus):\n",
    "    \n",
    "    topic_lists = {}\n",
    "    for i_num, i in enumerate(model[corpus]):\n",
    "        \n",
    "        character = i_num\n",
    "        #character = top_characters[i_num]\n",
    "        \n",
    "        x = [{topic_number : percentage} for topic_number, percentage in i]\n",
    "        topic_lists[character] = dict(ChainMap(*x))\n",
    "        \n",
    "    topics = pd.DataFrame(topic_lists.keys(), topic_lists.values()).reset_index().rename(columns = {'index' : 'topic_pct', 0 : 'doc_num'})\n",
    "\n",
    "    topics_normalized = pd.json_normalize(topics['topic_pct'])\n",
    "    topics_normalized.columns = ['topic_' + str(i) for i in topics_normalized.columns]\n",
    "    #topics_normalized.fillna(0, inplace = True)\n",
    "\n",
    "    topics.drop('topic_pct', 1, inplace = True)\n",
    "\n",
    "    topics_normalized.reset_index(inplace = True, drop = True)\n",
    "    topics.reset_index(inplace = True, drop = True)\n",
    "\n",
    "    return pd.concat([topics, topics_normalized],axis = 1)\n",
    "\n",
    "\n",
    "def plot_topic_ratios(data, row_spacing = .05, col_spacing = .1, width = 950, col_wrap = 4):\n",
    "    \n",
    "    fig = px.bar(data, 'Dominant_Topic', 'Topic_Ratio', facet_col = 'speaker', \n",
    "             facet_col_wrap = col_wrap, facet_row_spacing=row_spacing, facet_col_spacing=col_spacing,\n",
    "              title = 'Distribution of topics among top characters',\n",
    "              labels = {'Topic_Ratio' : '', 'speaker' : 'Speaker'}, width = width, height = 950)\n",
    "    fig.update_xaxes(showticklabels = True, matches = None, tickfont = {'size' : 10})\n",
    "    fig.update_yaxes(showticklabels = True, matches = None, tickfont = {'size' : 10})\n",
    "    fig.for_each_annotation(lambda a: a.update(text = a.text.split('=')[-1]))\n",
    "    fig.update_layout(showlegend = False)\n",
    "    fig.show()"
   ]
  },
  {
   "cell_type": "markdown",
   "id": "4f078a33",
   "metadata": {},
   "source": [
    "Will run topic modeling on the top 23 characters (by line count) of The Office. Idea: find similarly talking people"
   ]
  },
  {
   "cell_type": "code",
   "execution_count": 85,
   "id": "effb8cb3",
   "metadata": {},
   "outputs": [
    {
     "name": "stdout",
     "output_type": "stream",
     "text": [
      "(54626, 8)\n",
      "\n",
      "Top 35 characters of the show are:\n",
      " ['Michael', 'Dwight', 'Jim', 'Pam', 'Andy', 'Angela', 'Kevin', 'Erin', 'Oscar', 'Darryl', 'Ryan', 'Phyllis', 'Kelly', 'Toby', 'Jan', 'Stanley', 'Meredith', 'Holly', 'Nellie Bertram', 'David Wallace', 'Gabe', 'Robert California', 'Creed']\n",
      "\n",
      " (43286, 2)\n",
      "\n",
      " (43286, 2)\n"
     ]
    },
    {
     "data": {
      "text/html": [
       "<div>\n",
       "<style scoped>\n",
       "    .dataframe tbody tr th:only-of-type {\n",
       "        vertical-align: middle;\n",
       "    }\n",
       "\n",
       "    .dataframe tbody tr th {\n",
       "        vertical-align: top;\n",
       "    }\n",
       "\n",
       "    .dataframe thead th {\n",
       "        text-align: right;\n",
       "    }\n",
       "</style>\n",
       "<table border=\"1\" class=\"dataframe\">\n",
       "  <thead>\n",
       "    <tr style=\"text-align: right;\">\n",
       "      <th></th>\n",
       "      <th>speaker</th>\n",
       "      <th>cleaned_sw_rem_lem</th>\n",
       "    </tr>\n",
       "  </thead>\n",
       "  <tbody>\n",
       "    <tr>\n",
       "      <th>0</th>\n",
       "      <td>Michael</td>\n",
       "      <td>quarterly look library</td>\n",
       "    </tr>\n",
       "    <tr>\n",
       "      <th>1</th>\n",
       "      <td>Jim</td>\n",
       "      <td>told close</td>\n",
       "    </tr>\n",
       "    <tr>\n",
       "      <th>2</th>\n",
       "      <td>Michael</td>\n",
       "      <td>master guidance saying grasshopper</td>\n",
       "    </tr>\n",
       "  </tbody>\n",
       "</table>\n",
       "</div>"
      ],
      "text/plain": [
       "   speaker                  cleaned_sw_rem_lem\n",
       "0  Michael              quarterly look library\n",
       "1      Jim                          told close\n",
       "2  Michael  master guidance saying grasshopper"
      ]
     },
     "execution_count": 85,
     "metadata": {},
     "output_type": "execute_result"
    }
   ],
   "source": [
    "data = pd.read_csv('../../data/transcripts_cleaned.csv')\n",
    "print(data.shape)\n",
    "\n",
    "# reduce scope of analysis to top 35 characters\n",
    "top_lines = data['speaker'].value_counts().head(23)\n",
    "top_characters = top_lines.index\n",
    "\n",
    "print('\\nTop 35 characters of the show are:\\n', top_characters.tolist())\n",
    "\n",
    "data = data[data['speaker'].isin(top_characters)]\n",
    "data = data[['speaker', 'cleaned_sw_rem_lem']]\n",
    "data = data[data['cleaned_sw_rem_lem'].notnull()]\n",
    "print('\\n', data.shape)\n",
    "\n",
    "# names and frequent fill words\n",
    "drop_words = [i.lower() for i in top_characters]\n",
    "drop_words.extend(['well', 'right', 'good', 'thing', 'nellie', 'bertram', 'robert', 'california', 'yeah', 'say', 'really', 'need', 'guy', 'something'])\n",
    "\n",
    "data['cleaned_sw_rem_lem'] = data['cleaned_sw_rem_lem'].apply(lambda x: ' '.join([word for word in x.split() if word not in drop_words]))\n",
    "\n",
    "# merge speeches of same speaker into one\n",
    "#data = data.groupby(['speaker'])['cleaned_sw_rem_lem'].apply(lambda x: ' '.join(x)).reset_index()\n",
    "print('\\n', data.shape)\n",
    "\n",
    "data.head(3)"
   ]
  },
  {
   "cell_type": "markdown",
   "id": "39868e15",
   "metadata": {},
   "source": [
    "Preprocess for LDA:\n",
    "- remove words that are of length less than 3\n",
    "- remove words that just 3 unique characters"
   ]
  },
  {
   "cell_type": "code",
   "execution_count": 86,
   "id": "0dc4f87f",
   "metadata": {},
   "outputs": [],
   "source": [
    "data['cleaned_sw_rem_lem'] = data['cleaned_sw_rem_lem'].apply(lambda x: ' '.join([word for word in x.split() if (len(word) >= 3) and (len(set(word)) >= 3)]))"
   ]
  },
  {
   "cell_type": "code",
   "execution_count": 87,
   "id": "33640676",
   "metadata": {},
   "outputs": [],
   "source": [
    "word_list = [i.split() for i in data['cleaned_sw_rem_lem']]"
   ]
  },
  {
   "cell_type": "markdown",
   "id": "6984a0d7",
   "metadata": {},
   "source": [
    "Create dictionaries and corpuses"
   ]
  },
  {
   "cell_type": "code",
   "execution_count": 88,
   "id": "b7eae3c9",
   "metadata": {},
   "outputs": [
    {
     "name": "stdout",
     "output_type": "stream",
     "text": [
      "Dictionary(15213 unique tokens: ['library', 'look', 'quarterly', 'close', 'told']...)\n"
     ]
    }
   ],
   "source": [
    "word_dict = corpora.Dictionary(word_list)\n",
    "word_corpus = [word_dict.doc2bow(i) for i in word_list]\n",
    "print(word_dict)"
   ]
  },
  {
   "cell_type": "markdown",
   "id": "7a15033f",
   "metadata": {},
   "source": [
    "Create LDA model by finding optimal number of topics"
   ]
  },
  {
   "cell_type": "code",
   "execution_count": 91,
   "id": "f2908063",
   "metadata": {},
   "outputs": [],
   "source": [
    "LIMIT = 7\n",
    "START = 2\n",
    "STEP = 1"
   ]
  },
  {
   "cell_type": "code",
   "execution_count": 94,
   "id": "4f73a5b3",
   "metadata": {},
   "outputs": [],
   "source": [
    "# model_list, coherence_values = compute_coherence_values(word_dict, word_corpus, word_list, \n",
    "#                                                         limit = LIMIT, start = START, step = STEP)"
   ]
  },
  {
   "cell_type": "code",
   "execution_count": 97,
   "id": "4fb11461",
   "metadata": {},
   "outputs": [],
   "source": [
    "# with open('coherence_list.pkl', 'wb') as cl:   \n",
    "#     pickle.dump(coherence_values, cl)\n",
    "    \n",
    "# with open('lda_model_list.pkl', 'wb') as ldal:   \n",
    "#     pickle.dump(model_list, ldal)"
   ]
  },
  {
   "cell_type": "code",
   "execution_count": 98,
   "id": "fb5d4534",
   "metadata": {},
   "outputs": [],
   "source": [
    "with open('coherence_list.pkl', 'rb') as cl:\n",
    "    coherence_values = pickle.load(cl)\n",
    "    \n",
    "with open('lda_model_list.pkl', 'rb') as ldal:\n",
    "    model_list = pickle.load(ldal)"
   ]
  },
  {
   "cell_type": "code",
   "execution_count": 99,
   "id": "41dbb69a",
   "metadata": {},
   "outputs": [
    {
     "data": {
      "application/vnd.plotly.v1+json": {
       "config": {
        "plotlyServerURL": "https://plot.ly"
       },
       "data": [
        {
         "hovertemplate": "# of topics=%{x}<br>Coherence=%{y}<extra></extra>",
         "legendgroup": "",
         "line": {
          "color": "#636efa",
          "dash": "solid"
         },
         "mode": "markers+lines",
         "name": "",
         "orientation": "v",
         "showlegend": false,
         "type": "scatter",
         "x": [
          2,
          3,
          4,
          5,
          6
         ],
         "xaxis": "x",
         "y": [
          0.16080108671428422,
          0.1561073621653813,
          0.1813352512014551,
          0.22681092862121593,
          0.2427417543402367
         ],
         "yaxis": "y"
        }
       ],
       "layout": {
        "height": 350,
        "legend": {
         "tracegroupgap": 0
        },
        "template": {
         "data": {
          "bar": [
           {
            "error_x": {
             "color": "#2a3f5f"
            },
            "error_y": {
             "color": "#2a3f5f"
            },
            "marker": {
             "line": {
              "color": "#E5ECF6",
              "width": 0.5
             },
             "pattern": {
              "fillmode": "overlay",
              "size": 10,
              "solidity": 0.2
             }
            },
            "type": "bar"
           }
          ],
          "barpolar": [
           {
            "marker": {
             "line": {
              "color": "#E5ECF6",
              "width": 0.5
             },
             "pattern": {
              "fillmode": "overlay",
              "size": 10,
              "solidity": 0.2
             }
            },
            "type": "barpolar"
           }
          ],
          "carpet": [
           {
            "aaxis": {
             "endlinecolor": "#2a3f5f",
             "gridcolor": "white",
             "linecolor": "white",
             "minorgridcolor": "white",
             "startlinecolor": "#2a3f5f"
            },
            "baxis": {
             "endlinecolor": "#2a3f5f",
             "gridcolor": "white",
             "linecolor": "white",
             "minorgridcolor": "white",
             "startlinecolor": "#2a3f5f"
            },
            "type": "carpet"
           }
          ],
          "choropleth": [
           {
            "colorbar": {
             "outlinewidth": 0,
             "ticks": ""
            },
            "type": "choropleth"
           }
          ],
          "contour": [
           {
            "colorbar": {
             "outlinewidth": 0,
             "ticks": ""
            },
            "colorscale": [
             [
              0,
              "#0d0887"
             ],
             [
              0.1111111111111111,
              "#46039f"
             ],
             [
              0.2222222222222222,
              "#7201a8"
             ],
             [
              0.3333333333333333,
              "#9c179e"
             ],
             [
              0.4444444444444444,
              "#bd3786"
             ],
             [
              0.5555555555555556,
              "#d8576b"
             ],
             [
              0.6666666666666666,
              "#ed7953"
             ],
             [
              0.7777777777777778,
              "#fb9f3a"
             ],
             [
              0.8888888888888888,
              "#fdca26"
             ],
             [
              1,
              "#f0f921"
             ]
            ],
            "type": "contour"
           }
          ],
          "contourcarpet": [
           {
            "colorbar": {
             "outlinewidth": 0,
             "ticks": ""
            },
            "type": "contourcarpet"
           }
          ],
          "heatmap": [
           {
            "colorbar": {
             "outlinewidth": 0,
             "ticks": ""
            },
            "colorscale": [
             [
              0,
              "#0d0887"
             ],
             [
              0.1111111111111111,
              "#46039f"
             ],
             [
              0.2222222222222222,
              "#7201a8"
             ],
             [
              0.3333333333333333,
              "#9c179e"
             ],
             [
              0.4444444444444444,
              "#bd3786"
             ],
             [
              0.5555555555555556,
              "#d8576b"
             ],
             [
              0.6666666666666666,
              "#ed7953"
             ],
             [
              0.7777777777777778,
              "#fb9f3a"
             ],
             [
              0.8888888888888888,
              "#fdca26"
             ],
             [
              1,
              "#f0f921"
             ]
            ],
            "type": "heatmap"
           }
          ],
          "heatmapgl": [
           {
            "colorbar": {
             "outlinewidth": 0,
             "ticks": ""
            },
            "colorscale": [
             [
              0,
              "#0d0887"
             ],
             [
              0.1111111111111111,
              "#46039f"
             ],
             [
              0.2222222222222222,
              "#7201a8"
             ],
             [
              0.3333333333333333,
              "#9c179e"
             ],
             [
              0.4444444444444444,
              "#bd3786"
             ],
             [
              0.5555555555555556,
              "#d8576b"
             ],
             [
              0.6666666666666666,
              "#ed7953"
             ],
             [
              0.7777777777777778,
              "#fb9f3a"
             ],
             [
              0.8888888888888888,
              "#fdca26"
             ],
             [
              1,
              "#f0f921"
             ]
            ],
            "type": "heatmapgl"
           }
          ],
          "histogram": [
           {
            "marker": {
             "pattern": {
              "fillmode": "overlay",
              "size": 10,
              "solidity": 0.2
             }
            },
            "type": "histogram"
           }
          ],
          "histogram2d": [
           {
            "colorbar": {
             "outlinewidth": 0,
             "ticks": ""
            },
            "colorscale": [
             [
              0,
              "#0d0887"
             ],
             [
              0.1111111111111111,
              "#46039f"
             ],
             [
              0.2222222222222222,
              "#7201a8"
             ],
             [
              0.3333333333333333,
              "#9c179e"
             ],
             [
              0.4444444444444444,
              "#bd3786"
             ],
             [
              0.5555555555555556,
              "#d8576b"
             ],
             [
              0.6666666666666666,
              "#ed7953"
             ],
             [
              0.7777777777777778,
              "#fb9f3a"
             ],
             [
              0.8888888888888888,
              "#fdca26"
             ],
             [
              1,
              "#f0f921"
             ]
            ],
            "type": "histogram2d"
           }
          ],
          "histogram2dcontour": [
           {
            "colorbar": {
             "outlinewidth": 0,
             "ticks": ""
            },
            "colorscale": [
             [
              0,
              "#0d0887"
             ],
             [
              0.1111111111111111,
              "#46039f"
             ],
             [
              0.2222222222222222,
              "#7201a8"
             ],
             [
              0.3333333333333333,
              "#9c179e"
             ],
             [
              0.4444444444444444,
              "#bd3786"
             ],
             [
              0.5555555555555556,
              "#d8576b"
             ],
             [
              0.6666666666666666,
              "#ed7953"
             ],
             [
              0.7777777777777778,
              "#fb9f3a"
             ],
             [
              0.8888888888888888,
              "#fdca26"
             ],
             [
              1,
              "#f0f921"
             ]
            ],
            "type": "histogram2dcontour"
           }
          ],
          "mesh3d": [
           {
            "colorbar": {
             "outlinewidth": 0,
             "ticks": ""
            },
            "type": "mesh3d"
           }
          ],
          "parcoords": [
           {
            "line": {
             "colorbar": {
              "outlinewidth": 0,
              "ticks": ""
             }
            },
            "type": "parcoords"
           }
          ],
          "pie": [
           {
            "automargin": true,
            "type": "pie"
           }
          ],
          "scatter": [
           {
            "marker": {
             "colorbar": {
              "outlinewidth": 0,
              "ticks": ""
             }
            },
            "type": "scatter"
           }
          ],
          "scatter3d": [
           {
            "line": {
             "colorbar": {
              "outlinewidth": 0,
              "ticks": ""
             }
            },
            "marker": {
             "colorbar": {
              "outlinewidth": 0,
              "ticks": ""
             }
            },
            "type": "scatter3d"
           }
          ],
          "scattercarpet": [
           {
            "marker": {
             "colorbar": {
              "outlinewidth": 0,
              "ticks": ""
             }
            },
            "type": "scattercarpet"
           }
          ],
          "scattergeo": [
           {
            "marker": {
             "colorbar": {
              "outlinewidth": 0,
              "ticks": ""
             }
            },
            "type": "scattergeo"
           }
          ],
          "scattergl": [
           {
            "marker": {
             "colorbar": {
              "outlinewidth": 0,
              "ticks": ""
             }
            },
            "type": "scattergl"
           }
          ],
          "scattermapbox": [
           {
            "marker": {
             "colorbar": {
              "outlinewidth": 0,
              "ticks": ""
             }
            },
            "type": "scattermapbox"
           }
          ],
          "scatterpolar": [
           {
            "marker": {
             "colorbar": {
              "outlinewidth": 0,
              "ticks": ""
             }
            },
            "type": "scatterpolar"
           }
          ],
          "scatterpolargl": [
           {
            "marker": {
             "colorbar": {
              "outlinewidth": 0,
              "ticks": ""
             }
            },
            "type": "scatterpolargl"
           }
          ],
          "scatterternary": [
           {
            "marker": {
             "colorbar": {
              "outlinewidth": 0,
              "ticks": ""
             }
            },
            "type": "scatterternary"
           }
          ],
          "surface": [
           {
            "colorbar": {
             "outlinewidth": 0,
             "ticks": ""
            },
            "colorscale": [
             [
              0,
              "#0d0887"
             ],
             [
              0.1111111111111111,
              "#46039f"
             ],
             [
              0.2222222222222222,
              "#7201a8"
             ],
             [
              0.3333333333333333,
              "#9c179e"
             ],
             [
              0.4444444444444444,
              "#bd3786"
             ],
             [
              0.5555555555555556,
              "#d8576b"
             ],
             [
              0.6666666666666666,
              "#ed7953"
             ],
             [
              0.7777777777777778,
              "#fb9f3a"
             ],
             [
              0.8888888888888888,
              "#fdca26"
             ],
             [
              1,
              "#f0f921"
             ]
            ],
            "type": "surface"
           }
          ],
          "table": [
           {
            "cells": {
             "fill": {
              "color": "#EBF0F8"
             },
             "line": {
              "color": "white"
             }
            },
            "header": {
             "fill": {
              "color": "#C8D4E3"
             },
             "line": {
              "color": "white"
             }
            },
            "type": "table"
           }
          ]
         },
         "layout": {
          "annotationdefaults": {
           "arrowcolor": "#2a3f5f",
           "arrowhead": 0,
           "arrowwidth": 1
          },
          "autotypenumbers": "strict",
          "coloraxis": {
           "colorbar": {
            "outlinewidth": 0,
            "ticks": ""
           }
          },
          "colorscale": {
           "diverging": [
            [
             0,
             "#8e0152"
            ],
            [
             0.1,
             "#c51b7d"
            ],
            [
             0.2,
             "#de77ae"
            ],
            [
             0.3,
             "#f1b6da"
            ],
            [
             0.4,
             "#fde0ef"
            ],
            [
             0.5,
             "#f7f7f7"
            ],
            [
             0.6,
             "#e6f5d0"
            ],
            [
             0.7,
             "#b8e186"
            ],
            [
             0.8,
             "#7fbc41"
            ],
            [
             0.9,
             "#4d9221"
            ],
            [
             1,
             "#276419"
            ]
           ],
           "sequential": [
            [
             0,
             "#0d0887"
            ],
            [
             0.1111111111111111,
             "#46039f"
            ],
            [
             0.2222222222222222,
             "#7201a8"
            ],
            [
             0.3333333333333333,
             "#9c179e"
            ],
            [
             0.4444444444444444,
             "#bd3786"
            ],
            [
             0.5555555555555556,
             "#d8576b"
            ],
            [
             0.6666666666666666,
             "#ed7953"
            ],
            [
             0.7777777777777778,
             "#fb9f3a"
            ],
            [
             0.8888888888888888,
             "#fdca26"
            ],
            [
             1,
             "#f0f921"
            ]
           ],
           "sequentialminus": [
            [
             0,
             "#0d0887"
            ],
            [
             0.1111111111111111,
             "#46039f"
            ],
            [
             0.2222222222222222,
             "#7201a8"
            ],
            [
             0.3333333333333333,
             "#9c179e"
            ],
            [
             0.4444444444444444,
             "#bd3786"
            ],
            [
             0.5555555555555556,
             "#d8576b"
            ],
            [
             0.6666666666666666,
             "#ed7953"
            ],
            [
             0.7777777777777778,
             "#fb9f3a"
            ],
            [
             0.8888888888888888,
             "#fdca26"
            ],
            [
             1,
             "#f0f921"
            ]
           ]
          },
          "colorway": [
           "#636efa",
           "#EF553B",
           "#00cc96",
           "#ab63fa",
           "#FFA15A",
           "#19d3f3",
           "#FF6692",
           "#B6E880",
           "#FF97FF",
           "#FECB52"
          ],
          "font": {
           "color": "#2a3f5f"
          },
          "geo": {
           "bgcolor": "white",
           "lakecolor": "white",
           "landcolor": "#E5ECF6",
           "showlakes": true,
           "showland": true,
           "subunitcolor": "white"
          },
          "hoverlabel": {
           "align": "left"
          },
          "hovermode": "closest",
          "mapbox": {
           "style": "light"
          },
          "paper_bgcolor": "white",
          "plot_bgcolor": "#E5ECF6",
          "polar": {
           "angularaxis": {
            "gridcolor": "white",
            "linecolor": "white",
            "ticks": ""
           },
           "bgcolor": "#E5ECF6",
           "radialaxis": {
            "gridcolor": "white",
            "linecolor": "white",
            "ticks": ""
           }
          },
          "scene": {
           "xaxis": {
            "backgroundcolor": "#E5ECF6",
            "gridcolor": "white",
            "gridwidth": 2,
            "linecolor": "white",
            "showbackground": true,
            "ticks": "",
            "zerolinecolor": "white"
           },
           "yaxis": {
            "backgroundcolor": "#E5ECF6",
            "gridcolor": "white",
            "gridwidth": 2,
            "linecolor": "white",
            "showbackground": true,
            "ticks": "",
            "zerolinecolor": "white"
           },
           "zaxis": {
            "backgroundcolor": "#E5ECF6",
            "gridcolor": "white",
            "gridwidth": 2,
            "linecolor": "white",
            "showbackground": true,
            "ticks": "",
            "zerolinecolor": "white"
           }
          },
          "shapedefaults": {
           "line": {
            "color": "#2a3f5f"
           }
          },
          "ternary": {
           "aaxis": {
            "gridcolor": "white",
            "linecolor": "white",
            "ticks": ""
           },
           "baxis": {
            "gridcolor": "white",
            "linecolor": "white",
            "ticks": ""
           },
           "bgcolor": "#E5ECF6",
           "caxis": {
            "gridcolor": "white",
            "linecolor": "white",
            "ticks": ""
           }
          },
          "title": {
           "x": 0.05
          },
          "xaxis": {
           "automargin": true,
           "gridcolor": "white",
           "linecolor": "white",
           "ticks": "",
           "title": {
            "standoff": 15
           },
           "zerolinecolor": "white",
           "zerolinewidth": 2
          },
          "yaxis": {
           "automargin": true,
           "gridcolor": "white",
           "linecolor": "white",
           "ticks": "",
           "title": {
            "standoff": 15
           },
           "zerolinecolor": "white",
           "zerolinewidth": 2
          }
         }
        },
        "title": {
         "text": "Coherence scores"
        },
        "width": 750,
        "xaxis": {
         "anchor": "y",
         "domain": [
          0,
          1
         ],
         "title": {
          "text": "# of topics"
         }
        },
        "yaxis": {
         "anchor": "x",
         "domain": [
          0,
          1
         ],
         "title": {
          "text": "Coherence"
         }
        }
       }
      },
      "text/html": [
       "<div>                            <div id=\"c46572ad-a7d9-43d0-8d79-2fade8c66c15\" class=\"plotly-graph-div\" style=\"height:350px; width:750px;\"></div>            <script type=\"text/javascript\">                require([\"plotly\"], function(Plotly) {                    window.PLOTLYENV=window.PLOTLYENV || {};                                    if (document.getElementById(\"c46572ad-a7d9-43d0-8d79-2fade8c66c15\")) {                    Plotly.newPlot(                        \"c46572ad-a7d9-43d0-8d79-2fade8c66c15\",                        [{\"hovertemplate\":\"# of topics=%{x}<br>Coherence=%{y}<extra></extra>\",\"legendgroup\":\"\",\"line\":{\"color\":\"#636efa\",\"dash\":\"solid\"},\"mode\":\"markers+lines\",\"name\":\"\",\"orientation\":\"v\",\"showlegend\":false,\"type\":\"scatter\",\"x\":[2,3,4,5,6],\"xaxis\":\"x\",\"y\":[0.16080108671428422,0.1561073621653813,0.1813352512014551,0.22681092862121593,0.2427417543402367],\"yaxis\":\"y\"}],                        {\"height\":350,\"legend\":{\"tracegroupgap\":0},\"template\":{\"data\":{\"bar\":[{\"error_x\":{\"color\":\"#2a3f5f\"},\"error_y\":{\"color\":\"#2a3f5f\"},\"marker\":{\"line\":{\"color\":\"#E5ECF6\",\"width\":0.5},\"pattern\":{\"fillmode\":\"overlay\",\"size\":10,\"solidity\":0.2}},\"type\":\"bar\"}],\"barpolar\":[{\"marker\":{\"line\":{\"color\":\"#E5ECF6\",\"width\":0.5},\"pattern\":{\"fillmode\":\"overlay\",\"size\":10,\"solidity\":0.2}},\"type\":\"barpolar\"}],\"carpet\":[{\"aaxis\":{\"endlinecolor\":\"#2a3f5f\",\"gridcolor\":\"white\",\"linecolor\":\"white\",\"minorgridcolor\":\"white\",\"startlinecolor\":\"#2a3f5f\"},\"baxis\":{\"endlinecolor\":\"#2a3f5f\",\"gridcolor\":\"white\",\"linecolor\":\"white\",\"minorgridcolor\":\"white\",\"startlinecolor\":\"#2a3f5f\"},\"type\":\"carpet\"}],\"choropleth\":[{\"colorbar\":{\"outlinewidth\":0,\"ticks\":\"\"},\"type\":\"choropleth\"}],\"contour\":[{\"colorbar\":{\"outlinewidth\":0,\"ticks\":\"\"},\"colorscale\":[[0.0,\"#0d0887\"],[0.1111111111111111,\"#46039f\"],[0.2222222222222222,\"#7201a8\"],[0.3333333333333333,\"#9c179e\"],[0.4444444444444444,\"#bd3786\"],[0.5555555555555556,\"#d8576b\"],[0.6666666666666666,\"#ed7953\"],[0.7777777777777778,\"#fb9f3a\"],[0.8888888888888888,\"#fdca26\"],[1.0,\"#f0f921\"]],\"type\":\"contour\"}],\"contourcarpet\":[{\"colorbar\":{\"outlinewidth\":0,\"ticks\":\"\"},\"type\":\"contourcarpet\"}],\"heatmap\":[{\"colorbar\":{\"outlinewidth\":0,\"ticks\":\"\"},\"colorscale\":[[0.0,\"#0d0887\"],[0.1111111111111111,\"#46039f\"],[0.2222222222222222,\"#7201a8\"],[0.3333333333333333,\"#9c179e\"],[0.4444444444444444,\"#bd3786\"],[0.5555555555555556,\"#d8576b\"],[0.6666666666666666,\"#ed7953\"],[0.7777777777777778,\"#fb9f3a\"],[0.8888888888888888,\"#fdca26\"],[1.0,\"#f0f921\"]],\"type\":\"heatmap\"}],\"heatmapgl\":[{\"colorbar\":{\"outlinewidth\":0,\"ticks\":\"\"},\"colorscale\":[[0.0,\"#0d0887\"],[0.1111111111111111,\"#46039f\"],[0.2222222222222222,\"#7201a8\"],[0.3333333333333333,\"#9c179e\"],[0.4444444444444444,\"#bd3786\"],[0.5555555555555556,\"#d8576b\"],[0.6666666666666666,\"#ed7953\"],[0.7777777777777778,\"#fb9f3a\"],[0.8888888888888888,\"#fdca26\"],[1.0,\"#f0f921\"]],\"type\":\"heatmapgl\"}],\"histogram\":[{\"marker\":{\"pattern\":{\"fillmode\":\"overlay\",\"size\":10,\"solidity\":0.2}},\"type\":\"histogram\"}],\"histogram2d\":[{\"colorbar\":{\"outlinewidth\":0,\"ticks\":\"\"},\"colorscale\":[[0.0,\"#0d0887\"],[0.1111111111111111,\"#46039f\"],[0.2222222222222222,\"#7201a8\"],[0.3333333333333333,\"#9c179e\"],[0.4444444444444444,\"#bd3786\"],[0.5555555555555556,\"#d8576b\"],[0.6666666666666666,\"#ed7953\"],[0.7777777777777778,\"#fb9f3a\"],[0.8888888888888888,\"#fdca26\"],[1.0,\"#f0f921\"]],\"type\":\"histogram2d\"}],\"histogram2dcontour\":[{\"colorbar\":{\"outlinewidth\":0,\"ticks\":\"\"},\"colorscale\":[[0.0,\"#0d0887\"],[0.1111111111111111,\"#46039f\"],[0.2222222222222222,\"#7201a8\"],[0.3333333333333333,\"#9c179e\"],[0.4444444444444444,\"#bd3786\"],[0.5555555555555556,\"#d8576b\"],[0.6666666666666666,\"#ed7953\"],[0.7777777777777778,\"#fb9f3a\"],[0.8888888888888888,\"#fdca26\"],[1.0,\"#f0f921\"]],\"type\":\"histogram2dcontour\"}],\"mesh3d\":[{\"colorbar\":{\"outlinewidth\":0,\"ticks\":\"\"},\"type\":\"mesh3d\"}],\"parcoords\":[{\"line\":{\"colorbar\":{\"outlinewidth\":0,\"ticks\":\"\"}},\"type\":\"parcoords\"}],\"pie\":[{\"automargin\":true,\"type\":\"pie\"}],\"scatter\":[{\"marker\":{\"colorbar\":{\"outlinewidth\":0,\"ticks\":\"\"}},\"type\":\"scatter\"}],\"scatter3d\":[{\"line\":{\"colorbar\":{\"outlinewidth\":0,\"ticks\":\"\"}},\"marker\":{\"colorbar\":{\"outlinewidth\":0,\"ticks\":\"\"}},\"type\":\"scatter3d\"}],\"scattercarpet\":[{\"marker\":{\"colorbar\":{\"outlinewidth\":0,\"ticks\":\"\"}},\"type\":\"scattercarpet\"}],\"scattergeo\":[{\"marker\":{\"colorbar\":{\"outlinewidth\":0,\"ticks\":\"\"}},\"type\":\"scattergeo\"}],\"scattergl\":[{\"marker\":{\"colorbar\":{\"outlinewidth\":0,\"ticks\":\"\"}},\"type\":\"scattergl\"}],\"scattermapbox\":[{\"marker\":{\"colorbar\":{\"outlinewidth\":0,\"ticks\":\"\"}},\"type\":\"scattermapbox\"}],\"scatterpolar\":[{\"marker\":{\"colorbar\":{\"outlinewidth\":0,\"ticks\":\"\"}},\"type\":\"scatterpolar\"}],\"scatterpolargl\":[{\"marker\":{\"colorbar\":{\"outlinewidth\":0,\"ticks\":\"\"}},\"type\":\"scatterpolargl\"}],\"scatterternary\":[{\"marker\":{\"colorbar\":{\"outlinewidth\":0,\"ticks\":\"\"}},\"type\":\"scatterternary\"}],\"surface\":[{\"colorbar\":{\"outlinewidth\":0,\"ticks\":\"\"},\"colorscale\":[[0.0,\"#0d0887\"],[0.1111111111111111,\"#46039f\"],[0.2222222222222222,\"#7201a8\"],[0.3333333333333333,\"#9c179e\"],[0.4444444444444444,\"#bd3786\"],[0.5555555555555556,\"#d8576b\"],[0.6666666666666666,\"#ed7953\"],[0.7777777777777778,\"#fb9f3a\"],[0.8888888888888888,\"#fdca26\"],[1.0,\"#f0f921\"]],\"type\":\"surface\"}],\"table\":[{\"cells\":{\"fill\":{\"color\":\"#EBF0F8\"},\"line\":{\"color\":\"white\"}},\"header\":{\"fill\":{\"color\":\"#C8D4E3\"},\"line\":{\"color\":\"white\"}},\"type\":\"table\"}]},\"layout\":{\"annotationdefaults\":{\"arrowcolor\":\"#2a3f5f\",\"arrowhead\":0,\"arrowwidth\":1},\"autotypenumbers\":\"strict\",\"coloraxis\":{\"colorbar\":{\"outlinewidth\":0,\"ticks\":\"\"}},\"colorscale\":{\"diverging\":[[0,\"#8e0152\"],[0.1,\"#c51b7d\"],[0.2,\"#de77ae\"],[0.3,\"#f1b6da\"],[0.4,\"#fde0ef\"],[0.5,\"#f7f7f7\"],[0.6,\"#e6f5d0\"],[0.7,\"#b8e186\"],[0.8,\"#7fbc41\"],[0.9,\"#4d9221\"],[1,\"#276419\"]],\"sequential\":[[0.0,\"#0d0887\"],[0.1111111111111111,\"#46039f\"],[0.2222222222222222,\"#7201a8\"],[0.3333333333333333,\"#9c179e\"],[0.4444444444444444,\"#bd3786\"],[0.5555555555555556,\"#d8576b\"],[0.6666666666666666,\"#ed7953\"],[0.7777777777777778,\"#fb9f3a\"],[0.8888888888888888,\"#fdca26\"],[1.0,\"#f0f921\"]],\"sequentialminus\":[[0.0,\"#0d0887\"],[0.1111111111111111,\"#46039f\"],[0.2222222222222222,\"#7201a8\"],[0.3333333333333333,\"#9c179e\"],[0.4444444444444444,\"#bd3786\"],[0.5555555555555556,\"#d8576b\"],[0.6666666666666666,\"#ed7953\"],[0.7777777777777778,\"#fb9f3a\"],[0.8888888888888888,\"#fdca26\"],[1.0,\"#f0f921\"]]},\"colorway\":[\"#636efa\",\"#EF553B\",\"#00cc96\",\"#ab63fa\",\"#FFA15A\",\"#19d3f3\",\"#FF6692\",\"#B6E880\",\"#FF97FF\",\"#FECB52\"],\"font\":{\"color\":\"#2a3f5f\"},\"geo\":{\"bgcolor\":\"white\",\"lakecolor\":\"white\",\"landcolor\":\"#E5ECF6\",\"showlakes\":true,\"showland\":true,\"subunitcolor\":\"white\"},\"hoverlabel\":{\"align\":\"left\"},\"hovermode\":\"closest\",\"mapbox\":{\"style\":\"light\"},\"paper_bgcolor\":\"white\",\"plot_bgcolor\":\"#E5ECF6\",\"polar\":{\"angularaxis\":{\"gridcolor\":\"white\",\"linecolor\":\"white\",\"ticks\":\"\"},\"bgcolor\":\"#E5ECF6\",\"radialaxis\":{\"gridcolor\":\"white\",\"linecolor\":\"white\",\"ticks\":\"\"}},\"scene\":{\"xaxis\":{\"backgroundcolor\":\"#E5ECF6\",\"gridcolor\":\"white\",\"gridwidth\":2,\"linecolor\":\"white\",\"showbackground\":true,\"ticks\":\"\",\"zerolinecolor\":\"white\"},\"yaxis\":{\"backgroundcolor\":\"#E5ECF6\",\"gridcolor\":\"white\",\"gridwidth\":2,\"linecolor\":\"white\",\"showbackground\":true,\"ticks\":\"\",\"zerolinecolor\":\"white\"},\"zaxis\":{\"backgroundcolor\":\"#E5ECF6\",\"gridcolor\":\"white\",\"gridwidth\":2,\"linecolor\":\"white\",\"showbackground\":true,\"ticks\":\"\",\"zerolinecolor\":\"white\"}},\"shapedefaults\":{\"line\":{\"color\":\"#2a3f5f\"}},\"ternary\":{\"aaxis\":{\"gridcolor\":\"white\",\"linecolor\":\"white\",\"ticks\":\"\"},\"baxis\":{\"gridcolor\":\"white\",\"linecolor\":\"white\",\"ticks\":\"\"},\"bgcolor\":\"#E5ECF6\",\"caxis\":{\"gridcolor\":\"white\",\"linecolor\":\"white\",\"ticks\":\"\"}},\"title\":{\"x\":0.05},\"xaxis\":{\"automargin\":true,\"gridcolor\":\"white\",\"linecolor\":\"white\",\"ticks\":\"\",\"title\":{\"standoff\":15},\"zerolinecolor\":\"white\",\"zerolinewidth\":2},\"yaxis\":{\"automargin\":true,\"gridcolor\":\"white\",\"linecolor\":\"white\",\"ticks\":\"\",\"title\":{\"standoff\":15},\"zerolinecolor\":\"white\",\"zerolinewidth\":2}}},\"title\":{\"text\":\"Coherence scores\"},\"width\":750,\"xaxis\":{\"anchor\":\"y\",\"domain\":[0.0,1.0],\"title\":{\"text\":\"# of topics\"}},\"yaxis\":{\"anchor\":\"x\",\"domain\":[0.0,1.0],\"title\":{\"text\":\"Coherence\"}}},                        {\"responsive\": true}                    ).then(function(){\n",
       "                            \n",
       "var gd = document.getElementById('c46572ad-a7d9-43d0-8d79-2fade8c66c15');\n",
       "var x = new MutationObserver(function (mutations, observer) {{\n",
       "        var display = window.getComputedStyle(gd).display;\n",
       "        if (!display || display === 'none') {{\n",
       "            console.log([gd, 'removed!']);\n",
       "            Plotly.purge(gd);\n",
       "            observer.disconnect();\n",
       "        }}\n",
       "}});\n",
       "\n",
       "// Listen for the removal of the full notebook cells\n",
       "var notebookContainer = gd.closest('#notebook-container');\n",
       "if (notebookContainer) {{\n",
       "    x.observe(notebookContainer, {childList: true});\n",
       "}}\n",
       "\n",
       "// Listen for the clearing of the current output cell\n",
       "var outputEl = gd.closest('.output');\n",
       "if (outputEl) {{\n",
       "    x.observe(outputEl, {childList: true});\n",
       "}}\n",
       "\n",
       "                        })                };                });            </script>        </div>"
      ]
     },
     "metadata": {},
     "output_type": "display_data"
    }
   ],
   "source": [
    "x = [i for i in range(START, LIMIT, STEP)]\n",
    "plot_coherence(x, coherence_values)"
   ]
  },
  {
   "cell_type": "markdown",
   "id": "42bd7d4e",
   "metadata": {},
   "source": [
    "Optimal topic number is 4"
   ]
  },
  {
   "cell_type": "code",
   "execution_count": 100,
   "id": "e860771b",
   "metadata": {},
   "outputs": [],
   "source": [
    "lda_model = model_list[4]"
   ]
  },
  {
   "cell_type": "code",
   "execution_count": 101,
   "id": "d37378e5",
   "metadata": {},
   "outputs": [
    {
     "data": {
      "text/plain": [
       "[(0,\n",
       "  '0.031*\"great\" + 0.026*\"sorry\" + 0.026*\"god\" + 0.020*\"work\" + 0.012*\"said\" + 0.012*\"new\" + 0.009*\"dunder\" + 0.009*\"mifflin\" + 0.008*\"question\" + 0.007*\"still\"'),\n",
       " (1,\n",
       "  '0.017*\"love\" + 0.014*\"year\" + 0.010*\"people\" + 0.010*\"time\" + 0.009*\"paper\" + 0.009*\"never\" + 0.009*\"three\" + 0.009*\"job\" + 0.008*\"hello\" + 0.007*\"ever\"'),\n",
       " (2,\n",
       "  '0.023*\"mean\" + 0.019*\"wait\" + 0.019*\"time\" + 0.018*\"alright\" + 0.016*\"call\" + 0.014*\"fine\" + 0.013*\"thanks\" + 0.012*\"help\" + 0.011*\"cool\" + 0.010*\"idea\"'),\n",
       " (3,\n",
       "  '0.020*\"please\" + 0.018*\"talk\" + 0.013*\"friend\" + 0.012*\"name\" + 0.011*\"manager\" + 0.010*\"whoa\" + 0.010*\"room\" + 0.009*\"everybody\" + 0.009*\"anything\" + 0.009*\"second\"'),\n",
       " (4,\n",
       "  '0.028*\"look\" + 0.017*\"thought\" + 0.017*\"stop\" + 0.015*\"tell\" + 0.014*\"day\" + 0.009*\"even\" + 0.009*\"night\" + 0.008*\"car\" + 0.008*\"happy\" + 0.008*\"everything\"'),\n",
       " (5,\n",
       "  '0.034*\"thank\" + 0.020*\"sure\" + 0.017*\"nice\" + 0.013*\"baby\" + 0.012*\"feel\" + 0.011*\"maybe\" + 0.010*\"much\" + 0.008*\"hot\" + 0.008*\"party\" + 0.008*\"real\"')]"
      ]
     },
     "execution_count": 101,
     "metadata": {},
     "output_type": "execute_result"
    }
   ],
   "source": [
    "lda_model.show_topics()"
   ]
  },
  {
   "cell_type": "code",
   "execution_count": 102,
   "id": "ac8cbe5b",
   "metadata": {},
   "outputs": [
    {
     "data": {
      "text/plain": [
       "-8.407778764997198"
      ]
     },
     "execution_count": 102,
     "metadata": {},
     "output_type": "execute_result"
    }
   ],
   "source": [
    "lda_model.log_perplexity(word_corpus)"
   ]
  },
  {
   "cell_type": "markdown",
   "id": "c2f68692",
   "metadata": {},
   "source": [
    "#### Visualize topics"
   ]
  },
  {
   "cell_type": "code",
   "execution_count": 103,
   "id": "cf1432dc",
   "metadata": {},
   "outputs": [
    {
     "data": {
      "text/html": [
       "\n",
       "<link rel=\"stylesheet\" type=\"text/css\" href=\"https://cdn.jsdelivr.net/gh/bmabey/pyLDAvis@3.3.1/pyLDAvis/js/ldavis.v1.0.0.css\">\n",
       "\n",
       "\n",
       "<div id=\"ldavis_el611617522501771204535068762\"></div>\n",
       "<script type=\"text/javascript\">\n",
       "\n",
       "var ldavis_el611617522501771204535068762_data = {\"mdsDat\": {\"x\": [-0.004553379176967695, -0.11978911897595479, 0.059997236211946324, -0.2403649107939528, 0.10708482646918191, 0.19762534626574735], \"y\": [-0.09369689687260614, 0.013819385770061622, -0.022404978672290375, 0.08488245700321415, -0.2157828129622364, 0.23318284573385703], \"topics\": [1, 2, 3, 4, 5, 6], \"cluster\": [1, 1, 1, 1, 1, 1], \"Freq\": [23.384158168259557, 15.996305342468606, 15.751973063920497, 15.583006761867004, 14.993042697567097, 14.291513965917241]}, \"tinfo\": {\"Term\": [\"thank\", \"great\", \"sorry\", \"god\", \"look\", \"mean\", \"please\", \"love\", \"wait\", \"sure\", \"work\", \"talk\", \"alright\", \"thought\", \"stop\", \"nice\", \"year\", \"call\", \"fine\", \"thanks\", \"tell\", \"name\", \"baby\", \"friend\", \"help\", \"time\", \"cool\", \"manager\", \"paper\", \"said\", \"love\", \"year\", \"three\", \"paper\", \"hello\", \"talking\", \"believe\", \"month\", \"bos\", \"enough\", \"ready\", \"four\", \"kidding\", \"gone\", \"ten\", \"ago\", \"pete\", \"hundred\", \"surprise\", \"offer\", \"nine\", \"seven\", \"write\", \"truth\", \"hurt\", \"lose\", \"eight\", \"speak\", \"possible\", \"sleep\", \"dollar\", \"saying\", \"job\", \"date\", \"week\", \"watch\", \"guess\", \"company\", \"couple\", \"ever\", \"never\", \"last\", \"hour\", \"people\", \"kid\", \"time\", \"lot\", \"first\", \"mean\", \"old\", \"life\", \"every\", \"day\", \"great\", \"sorry\", \"god\", \"dunder\", \"mifflin\", \"question\", \"ask\", \"true\", \"plan\", \"drive\", \"hell\", \"late\", \"ugh\", \"suck\", \"coffee\", \"cat\", \"york\", \"computer\", \"gosh\", \"gentleman\", \"worth\", \"busy\", \"interview\", \"boom\", \"cupcake\", \"happening\", \"insane\", \"beat\", \"camera\", \"daughter\", \"lady\", \"work\", \"move\", \"care\", \"said\", \"new\", \"turn\", \"wanted\", \"still\", \"fired\", \"bad\", \"give\", \"keep\", \"long\", \"put\", \"stuff\", \"gotta\", \"look\", \"life\", \"trying\", \"much\", \"thought\", \"stop\", \"car\", \"happy\", \"school\", \"close\", \"high\", \"miss\", \"seriously\", \"definitely\", \"luck\", \"ahead\", \"whoo\", \"mose\", \"watching\", \"roy\", \"bear\", \"test\", \"act\", \"pretend\", \"died\", \"forward\", \"freak\", \"yup\", \"sister\", \"spot\", \"shake\", \"loud\", \"cute\", \"green\", \"knew\", \"look\", \"damn\", \"show\", \"night\", \"excited\", \"phone\", \"hand\", \"everything\", \"getting\", \"tell\", \"hair\", \"done\", \"day\", \"even\", \"boy\", \"different\", \"making\", \"wish\", \"went\", \"movie\", \"today\", \"call\", \"said\", \"last\", \"please\", \"talk\", \"name\", \"manager\", \"whoa\", \"room\", \"meeting\", \"totally\", \"happened\", \"break\", \"welcome\", \"nope\", \"gay\", \"excuse\", \"yep\", \"hope\", \"assistant\", \"conference\", \"attention\", \"serious\", \"regional\", \"idiot\", \"worry\", \"kill\", \"message\", \"congratulation\", \"outside\", \"dude\", \"santa\", \"meant\", \"exactly\", \"friend\", \"yet\", \"second\", \"else\", \"coming\", \"anything\", \"everybody\", \"deal\", \"leave\", \"everyone\", \"told\", \"best\", \"office\", \"tell\", \"work\", \"wait\", \"alright\", \"fine\", \"thanks\", \"help\", \"cool\", \"listen\", \"wanna\", \"david\", \"bye\", \"wallace\", \"team\", \"absolutely\", \"table\", \"front\", \"mad\", \"fight\", \"cold\", \"tuna\", \"hang\", \"starting\", \"blah\", \"twenty\", \"belt\", \"aunt\", \"tie\", \"waste\", \"howard\", \"hat\", \"per\", \"anymore\", \"call\", \"nothing\", \"mean\", \"stupid\", \"idea\", \"sound\", \"next\", \"better\", \"course\", \"play\", \"time\", \"minute\", \"five\", \"wrong\", \"kind\", \"little\", \"day\", \"lot\", \"office\", \"thank\", \"sure\", \"nice\", \"baby\", \"hot\", \"game\", \"hate\", \"easy\", \"either\", \"cake\", \"appreciate\", \"chair\", \"boyfriend\", \"ice\", \"goodbye\", \"mural\", \"packer\", \"cream\", \"excellent\", \"chocolate\", \"pie\", \"planning\", \"milk\", \"wondering\", \"tiny\", \"chicken\", \"proud\", \"gross\", \"monkey\", \"calm\", \"glad\", \"meet\", \"throw\", \"christmas\", \"girl\", \"louse\", \"feel\", \"real\", \"dead\", \"stay\", \"maybe\", \"bring\", \"party\", \"much\", \"fire\", \"morning\", \"make\", \"fun\", \"heard\", \"actually\", \"made\", \"little\", \"pretty\", \"people\", \"someone\", \"hold\"], \"Freq\": [825.0, 844.0, 725.0, 713.0, 949.0, 845.0, 524.0, 668.0, 502.0, 485.0, 707.0, 488.0, 474.0, 467.0, 457.0, 416.0, 551.0, 544.0, 366.0, 339.0, 742.0, 331.0, 309.0, 388.0, 303.0, 1097.0, 283.0, 285.0, 358.0, 480.0, 668.183828630469, 551.2176690103405, 349.6101164998546, 357.2816129958018, 306.7419428154694, 281.42262301741965, 204.7707168911494, 195.13997795412547, 192.64642049466786, 184.43877413305546, 156.0771090311385, 137.66875089113066, 134.86187453493557, 122.67325550737803, 115.57702108094351, 104.80755345172237, 88.74712581017394, 76.75306144428683, 76.18739487715416, 73.92089040767151, 71.7240165203375, 69.81282648288662, 69.25996172014872, 68.44514910390279, 65.67036385225269, 66.47851110489417, 64.58353044536618, 64.04556913608091, 57.136643596836684, 56.732401464132685, 118.29977530602972, 208.05086214765714, 347.5088793464855, 96.18992169817655, 201.94533291719307, 144.22554021596068, 243.45461495818827, 218.0421298531281, 120.26745242773511, 291.7130269990372, 352.77522806539133, 254.8454217912775, 165.26564977262944, 385.38117578002607, 165.6121737883346, 384.2404624570927, 236.84920218032246, 193.31636442864027, 259.77159356824757, 162.89804147319174, 176.51197174354033, 155.31385936816963, 154.405038912997, 844.1385776280075, 724.2935738783816, 713.183133730517, 248.1308579128743, 235.99498054455665, 229.90227173169635, 203.03215098662508, 128.57816473582034, 124.38758151446642, 110.3392555330636, 106.22970675033135, 99.00922063770604, 98.79350662909442, 94.38079913572913, 87.15484412705649, 77.57833326257499, 75.51216640508686, 71.98504224367622, 72.07000865205559, 65.51798301367447, 63.64940724229918, 62.56035408117377, 61.06235044981122, 57.96169131448017, 54.89727802414665, 54.41758411756893, 54.03915444190037, 48.850014200513364, 45.24516639586333, 45.19734237281712, 130.55273078644547, 549.3202024292415, 127.06418987876454, 169.56012494121413, 336.40347651109397, 322.8482733297247, 139.5447998138502, 195.77046884557768, 204.36412815554843, 89.56377116257427, 145.75718395379775, 194.45893279630667, 147.22101659065382, 140.80049420793068, 176.9811222999026, 131.22695473427584, 130.86997798806695, 195.32780845872094, 130.8909186087634, 106.45900974888728, 107.12040036219908, 466.85997751557125, 456.6933211510062, 224.9415475645812, 218.12965674683008, 117.0413322130099, 115.2090729718558, 113.93830398673622, 105.60432936834724, 104.27341332502844, 102.80803978800832, 83.9230805801635, 77.13430141771745, 76.63165286854569, 75.15716709635069, 69.05885573044534, 67.86785821588771, 57.4533301364311, 51.34098782017001, 49.95896758733073, 46.578344102569105, 45.061257842675985, 44.11019903826948, 41.16963660502528, 39.27958561351822, 39.24596808707034, 37.80203195038027, 35.10097311017504, 33.78747121041015, 72.60162339993616, 31.44475338322335, 131.14665606472187, 753.9134712611311, 102.57742141252047, 213.90763342899294, 237.9142174310351, 75.14927192788085, 175.92474725806076, 180.05905348850527, 216.42419946062142, 191.50103180275474, 408.32396249528387, 74.03887828183885, 166.95205224925212, 376.01882493020025, 248.0895256894824, 97.2721141365422, 91.32329387586546, 112.21394117730664, 101.53273045041405, 111.33106963860656, 90.16454547596821, 128.8946538493745, 124.80925730475438, 111.43607790167358, 101.10388785313613, 523.6975454320868, 488.19464876296496, 330.27645900552625, 284.3530600615645, 269.05190639139283, 263.7195198156075, 219.67223299710605, 162.90126324016893, 158.6041395102688, 157.71901005184415, 156.8654968157934, 156.85571500113628, 141.2602709453557, 136.0792654374719, 132.31906850853375, 121.69355986044009, 120.97982426418989, 107.43540465488748, 100.76552960000367, 97.61508034096407, 87.28595818162007, 86.95948387903671, 78.69084982231554, 76.29459219782422, 60.84773440575738, 59.87161785117584, 58.93393609257803, 57.137064151923084, 58.08000488357954, 50.31187159734659, 150.83605613125349, 345.06791026195765, 129.64421631838084, 228.7792771181402, 186.95287396134893, 200.12905316530689, 242.52230250003433, 250.54478792096106, 128.31250459972398, 160.46287144718647, 215.7915974752022, 159.43455818135743, 178.29390931707613, 208.9308522664606, 186.32652590318344, 157.51163308575246, 501.31653187420505, 473.8655480064162, 365.986284313517, 338.35614619126113, 302.8630522064408, 282.29891922003026, 251.64037313801754, 238.4162346136353, 190.0529049840858, 176.6339944295021, 113.65984545605133, 100.14741431587224, 89.15093962165913, 81.06382486110068, 82.18054984609454, 66.98771326174489, 66.50629322395221, 62.177780462045355, 59.92839459867751, 58.93706798825899, 58.37985792195, 57.80204223531183, 57.3982489052725, 47.59594583721474, 43.47946748944959, 36.25721557073244, 34.35589542833132, 31.892068260710488, 31.20737104736051, 30.60343069935248, 99.76090737865202, 418.60450347777913, 225.22424397812088, 585.0371732738686, 141.9107331426659, 253.97194739613266, 199.9235313193172, 181.41988833918754, 235.7018147723346, 136.37757488117686, 134.52252885177538, 490.2235654956308, 152.66744316758997, 155.18554240599914, 121.89634346122165, 161.35718078892597, 222.4791407895662, 193.47453036271975, 110.17968643062154, 107.48012808536946, 824.3520666444492, 484.5419418606292, 415.9341522679856, 308.83533741318644, 197.2179872156638, 159.16376598518804, 150.83960140567237, 97.04607438558013, 81.70941602390353, 80.86274419009294, 78.92282073888994, 72.5263587553698, 66.81407013674546, 64.52739136177937, 60.754385400451994, 57.46587684580879, 54.51451170633856, 46.12781822861959, 44.134279780155815, 43.4178607504898, 42.704385367829516, 39.03945330371243, 38.530119411796264, 38.159071133346444, 37.355103636272, 36.3659238148644, 36.36391561253396, 35.85234180263385, 35.593564049341246, 33.650682647697124, 58.01029992545308, 130.02993373552405, 80.22252242150034, 121.12056412134595, 162.79787986738802, 66.21845792248456, 303.98420714774784, 192.14571439616228, 81.40026157112516, 123.47547028317949, 272.2138054863145, 99.98552190267343, 193.7232345652724, 240.38758609856853, 106.85222362846903, 113.76691624072537, 94.6387375509371, 133.05176904053275, 95.30401893835395, 146.9466182281932, 118.04102303655151, 146.06886788994117, 101.33720799090878, 119.65179583228415, 95.20474737529005, 89.14140095953368], \"Total\": [825.0, 844.0, 725.0, 713.0, 949.0, 845.0, 524.0, 668.0, 502.0, 485.0, 707.0, 488.0, 474.0, 467.0, 457.0, 416.0, 551.0, 544.0, 366.0, 339.0, 742.0, 331.0, 309.0, 388.0, 303.0, 1097.0, 283.0, 285.0, 358.0, 480.0, 668.9520542225205, 551.9861318465925, 350.37873180266854, 358.12858953296706, 307.5094763881187, 282.1911394056274, 205.53858119566493, 195.90707920041228, 193.4145273337064, 185.20712002498095, 156.84431676738325, 138.4370819661648, 135.62927556303552, 123.44083466851662, 116.34470893183087, 105.57407650883987, 89.51553262964353, 77.52182306286296, 76.95572536257086, 74.6890441062765, 72.49071442668037, 70.5805054245064, 70.02754705007844, 69.21287748234991, 66.43797070067801, 67.26748940055144, 65.35059071874183, 64.8139829177957, 57.905143529775636, 57.50060981454816, 124.10212198296144, 231.99927053795318, 421.5129618636993, 101.35595846835598, 235.05065761046706, 161.29569265232965, 292.6516910013386, 270.023182605071, 134.45148781418857, 395.07115104357655, 520.1677272600238, 356.56469497163823, 208.43618427562603, 777.0872238977088, 237.83122129631255, 1097.9303640838327, 487.9904575696042, 393.1619428188577, 845.6661711436103, 271.76122448818955, 362.2815807231712, 288.42777610984325, 771.8121048337161, 844.9024627017217, 725.0566132938154, 713.946285270331, 248.89452382924276, 236.7582975908161, 230.6656626607838, 203.7956064492962, 129.34901013506317, 125.15093319958368, 111.1028445794131, 106.99280725184573, 99.77280748345754, 99.55717536966954, 95.14539066298649, 87.91751611257224, 78.34174178243399, 76.27501415126575, 72.74814682610808, 72.8340448570776, 66.28204946578923, 64.41312877081252, 63.323236891174524, 61.82504942490641, 58.72456279914868, 55.661217813498695, 55.179484409443184, 54.80409769273848, 49.61383944145394, 46.00935566904525, 45.96166335398827, 133.4201410515999, 707.4404532957541, 148.4904236777982, 211.53852064291317, 480.04669609614695, 487.52828207096275, 187.72831402428508, 303.5288302781636, 349.49854920505254, 105.99250608088049, 261.0815447631613, 473.3724760218423, 282.838358449643, 262.895009868574, 426.5951274619102, 233.44682782872448, 234.37488681782182, 949.8571758866184, 362.2815807231712, 200.23701701921723, 537.5611091976241, 467.6236918867894, 457.45589806130926, 225.70549410746673, 218.8932356207903, 117.8042944080271, 115.97187520756358, 114.70241933895107, 106.36752810602628, 105.03691370355763, 103.57027864608548, 84.6854899762338, 77.89804438307645, 77.39264853843049, 75.92082660892183, 69.82204377938984, 68.630032285245, 58.215836548516776, 52.10431415517682, 50.7225088155241, 47.3414981559928, 45.82477868942384, 44.87320450502572, 41.9323262506377, 40.040804353190225, 40.00954846175175, 38.572961448099996, 35.86251494630941, 34.55102877746373, 74.34783665783182, 32.20691849410283, 142.40079743853946, 949.8571758866184, 114.13648379371806, 254.38708915277846, 315.9273905604295, 84.70372677477964, 228.6698429398215, 241.71924873513726, 307.1824179871867, 277.66764158459137, 742.6667799324807, 84.56829233749943, 252.59964808056543, 771.8121048337161, 476.1126527717619, 129.20379004388747, 117.54782107922972, 179.0448762172847, 150.02806974407022, 194.97728888024926, 130.0277550703625, 439.57784707476316, 544.0261001204369, 480.04669609614695, 356.56469497163823, 524.4577088460321, 488.95534841161907, 331.03760403599466, 285.1138399510534, 269.8108693232983, 264.4806723726701, 220.4325304374215, 163.6621719661562, 159.36494917794485, 158.48031310371843, 157.62519460984586, 157.61554100107088, 142.02123781391677, 136.83916500401426, 133.077344058553, 122.45445428099539, 121.73925667323657, 108.19424307871074, 101.52545535701194, 98.37631470337803, 88.04461407668389, 87.71949533741345, 79.45084376852125, 77.16033123127657, 61.608846650626, 60.63115355693724, 59.694692223927554, 57.89870411189723, 58.90686669904737, 51.07229993707514, 159.4028073446519, 388.4091565084959, 140.01769184553092, 274.1316243067635, 220.2965082410723, 245.07978322379063, 356.40507268541404, 383.09764796534455, 154.3209791835137, 229.23825022816962, 414.3594798355995, 254.93110361858837, 326.6770870392647, 495.3506356087446, 742.6667799324807, 707.4404532957541, 502.08093227338696, 474.63016430934306, 366.7513673502346, 339.11988940957195, 303.62862794536966, 283.06386004683634, 252.4058761472426, 239.18209357241096, 190.81789026289383, 177.39741428596776, 114.42531618928524, 100.91289205493229, 89.9146312844679, 81.82937691538723, 82.97880154418264, 67.75253508964134, 67.27163656138306, 62.943248187760666, 60.69308716660942, 59.702088695992316, 59.14549868796349, 58.56577730428379, 58.16312693892102, 48.3606423932917, 44.24393267931884, 37.0245679661022, 35.1206510548822, 32.6571672119354, 31.972656923574263, 31.36866954878675, 108.10797276942762, 544.0261001204369, 280.736474862107, 845.6661711436103, 174.38172114080407, 342.46203654220096, 273.33522237980566, 248.21463684076562, 352.97348588961114, 175.49488418185072, 182.8488028260403, 1097.9303640838327, 231.8888136074654, 242.65647437540926, 203.45787032276613, 350.5298948780529, 726.3133875211179, 771.8121048337161, 487.9904575696042, 495.3506356087446, 825.115572971516, 485.3065125931643, 416.6978721829041, 309.6005145967982, 197.98179532987626, 159.92837085402726, 151.62679593890735, 97.81144531868614, 82.47424752310675, 81.62585377471672, 79.68756700035321, 73.29139541906815, 67.57895211359349, 65.29062726039437, 61.518600603455404, 58.232652523947124, 55.278106715923826, 46.89153646225571, 44.89775398991245, 44.18139910294096, 43.46925056617763, 39.80324737611917, 39.294488190723264, 38.92360499753783, 38.11994622451663, 37.12913656523052, 37.128886510725344, 36.6185941441274, 36.35637529233688, 34.41342817042949, 60.2995740326405, 154.0704070448988, 89.805630181117, 150.07938676651509, 211.9004357337872, 75.87652105852314, 489.29521552662874, 282.02286048696243, 98.60678150299303, 175.22269481814067, 500.53765040466334, 132.85365866619532, 344.42350725022914, 537.5611091976241, 163.68733740959237, 182.81960141616378, 147.30584853960883, 291.59616815994264, 156.71630400548668, 442.55045233274797, 301.33806199214547, 726.3133875211179, 254.25161467401978, 777.0872238977088, 293.849014275763, 182.4503245966227], \"Category\": [\"Default\", \"Default\", \"Default\", \"Default\", \"Default\", \"Default\", \"Default\", \"Default\", \"Default\", \"Default\", \"Default\", \"Default\", \"Default\", \"Default\", \"Default\", \"Default\", \"Default\", \"Default\", \"Default\", \"Default\", \"Default\", \"Default\", \"Default\", \"Default\", \"Default\", \"Default\", \"Default\", \"Default\", \"Default\", \"Default\", \"Topic1\", \"Topic1\", \"Topic1\", \"Topic1\", \"Topic1\", \"Topic1\", \"Topic1\", \"Topic1\", \"Topic1\", \"Topic1\", \"Topic1\", \"Topic1\", \"Topic1\", \"Topic1\", \"Topic1\", \"Topic1\", \"Topic1\", \"Topic1\", \"Topic1\", \"Topic1\", \"Topic1\", \"Topic1\", \"Topic1\", \"Topic1\", \"Topic1\", \"Topic1\", \"Topic1\", \"Topic1\", \"Topic1\", \"Topic1\", \"Topic1\", \"Topic1\", \"Topic1\", \"Topic1\", \"Topic1\", \"Topic1\", \"Topic1\", \"Topic1\", \"Topic1\", \"Topic1\", \"Topic1\", \"Topic1\", \"Topic1\", \"Topic1\", \"Topic1\", \"Topic1\", \"Topic1\", \"Topic1\", \"Topic1\", \"Topic1\", \"Topic1\", \"Topic1\", \"Topic1\", \"Topic2\", \"Topic2\", \"Topic2\", \"Topic2\", \"Topic2\", \"Topic2\", \"Topic2\", \"Topic2\", \"Topic2\", \"Topic2\", \"Topic2\", \"Topic2\", \"Topic2\", \"Topic2\", \"Topic2\", \"Topic2\", \"Topic2\", \"Topic2\", \"Topic2\", \"Topic2\", \"Topic2\", \"Topic2\", \"Topic2\", \"Topic2\", \"Topic2\", \"Topic2\", \"Topic2\", \"Topic2\", \"Topic2\", \"Topic2\", \"Topic2\", \"Topic2\", \"Topic2\", \"Topic2\", \"Topic2\", \"Topic2\", \"Topic2\", \"Topic2\", \"Topic2\", \"Topic2\", \"Topic2\", \"Topic2\", \"Topic2\", \"Topic2\", \"Topic2\", \"Topic2\", \"Topic2\", \"Topic2\", \"Topic2\", \"Topic2\", \"Topic2\", \"Topic3\", \"Topic3\", \"Topic3\", \"Topic3\", \"Topic3\", \"Topic3\", \"Topic3\", \"Topic3\", \"Topic3\", \"Topic3\", \"Topic3\", \"Topic3\", \"Topic3\", \"Topic3\", \"Topic3\", \"Topic3\", \"Topic3\", \"Topic3\", \"Topic3\", \"Topic3\", \"Topic3\", \"Topic3\", \"Topic3\", \"Topic3\", \"Topic3\", \"Topic3\", \"Topic3\", \"Topic3\", \"Topic3\", \"Topic3\", \"Topic3\", \"Topic3\", \"Topic3\", \"Topic3\", \"Topic3\", \"Topic3\", \"Topic3\", \"Topic3\", \"Topic3\", \"Topic3\", \"Topic3\", \"Topic3\", \"Topic3\", \"Topic3\", \"Topic3\", \"Topic3\", \"Topic3\", \"Topic3\", \"Topic3\", \"Topic3\", \"Topic3\", \"Topic3\", \"Topic3\", \"Topic3\", \"Topic3\", \"Topic4\", \"Topic4\", \"Topic4\", \"Topic4\", \"Topic4\", \"Topic4\", \"Topic4\", \"Topic4\", \"Topic4\", \"Topic4\", \"Topic4\", \"Topic4\", \"Topic4\", \"Topic4\", \"Topic4\", \"Topic4\", \"Topic4\", \"Topic4\", \"Topic4\", \"Topic4\", \"Topic4\", \"Topic4\", \"Topic4\", \"Topic4\", \"Topic4\", \"Topic4\", \"Topic4\", \"Topic4\", \"Topic4\", \"Topic4\", \"Topic4\", \"Topic4\", \"Topic4\", \"Topic4\", \"Topic4\", \"Topic4\", \"Topic4\", \"Topic4\", \"Topic4\", \"Topic4\", \"Topic4\", \"Topic4\", \"Topic4\", \"Topic4\", \"Topic4\", \"Topic4\", \"Topic5\", \"Topic5\", \"Topic5\", \"Topic5\", \"Topic5\", \"Topic5\", \"Topic5\", \"Topic5\", \"Topic5\", \"Topic5\", \"Topic5\", \"Topic5\", \"Topic5\", \"Topic5\", \"Topic5\", \"Topic5\", \"Topic5\", \"Topic5\", \"Topic5\", \"Topic5\", \"Topic5\", \"Topic5\", \"Topic5\", \"Topic5\", \"Topic5\", \"Topic5\", \"Topic5\", \"Topic5\", \"Topic5\", \"Topic5\", \"Topic5\", \"Topic5\", \"Topic5\", \"Topic5\", \"Topic5\", \"Topic5\", \"Topic5\", \"Topic5\", \"Topic5\", \"Topic5\", \"Topic5\", \"Topic5\", \"Topic5\", \"Topic5\", \"Topic5\", \"Topic5\", \"Topic5\", \"Topic5\", \"Topic5\", \"Topic5\", \"Topic6\", \"Topic6\", \"Topic6\", \"Topic6\", \"Topic6\", \"Topic6\", \"Topic6\", \"Topic6\", \"Topic6\", \"Topic6\", \"Topic6\", \"Topic6\", \"Topic6\", \"Topic6\", \"Topic6\", \"Topic6\", \"Topic6\", \"Topic6\", \"Topic6\", \"Topic6\", \"Topic6\", \"Topic6\", \"Topic6\", \"Topic6\", \"Topic6\", \"Topic6\", \"Topic6\", \"Topic6\", \"Topic6\", \"Topic6\", \"Topic6\", \"Topic6\", \"Topic6\", \"Topic6\", \"Topic6\", \"Topic6\", \"Topic6\", \"Topic6\", \"Topic6\", \"Topic6\", \"Topic6\", \"Topic6\", \"Topic6\", \"Topic6\", \"Topic6\", \"Topic6\", \"Topic6\", \"Topic6\", \"Topic6\", \"Topic6\", \"Topic6\", \"Topic6\", \"Topic6\", \"Topic6\", \"Topic6\", \"Topic6\"], \"logprob\": [30.0, 29.0, 28.0, 27.0, 26.0, 25.0, 24.0, 23.0, 22.0, 21.0, 20.0, 19.0, 18.0, 17.0, 16.0, 15.0, 14.0, 13.0, 12.0, 11.0, 10.0, 9.0, 8.0, 7.0, 6.0, 5.0, 4.0, 3.0, 2.0, 1.0, -4.0972, -4.2897, -4.745, -4.7233, -4.8758, -4.9619, -5.2799, -5.3281, -5.3409, -5.3845, -5.5515, -5.677, -5.6975, -5.7923, -5.8519, -5.9497, -6.116, -6.2612, -6.2686, -6.2988, -6.329, -6.356, -6.3639, -6.3758, -6.4172, -6.4049, -6.4338, -6.4422, -6.5564, -6.5635, -5.8286, -5.264, -4.751, -6.0355, -5.2938, -5.6304, -5.1069, -5.2171, -5.8121, -4.926, -4.736, -5.0611, -5.4942, -4.6476, -5.4922, -4.6505, -5.1344, -5.3375, -5.042, -5.5087, -5.4284, -5.5564, -5.5622, -3.4838, -3.6369, -3.6524, -4.7081, -4.7583, -4.7844, -4.9087, -5.3656, -5.3987, -5.5185, -5.5565, -5.6269, -5.6291, -5.6748, -5.7544, -5.8708, -5.8978, -5.9456, -5.9445, -6.0398, -6.0687, -6.086, -6.1102, -6.1623, -6.2166, -6.2254, -6.2324, -6.3333, -6.41, -6.4111, -5.3503, -3.9134, -5.3774, -5.0889, -4.4038, -4.4449, -5.2837, -4.9452, -4.9022, -5.7271, -5.2402, -4.9519, -5.2302, -5.2748, -5.0461, -5.3452, -5.3479, -4.9474, -5.3477, -5.5543, -5.5481, -4.0607, -4.0827, -4.7909, -4.8216, -5.4442, -5.46, -5.4711, -5.547, -5.5597, -5.5738, -5.7768, -5.8612, -5.8677, -5.8871, -5.9717, -5.9891, -6.1557, -6.2682, -6.2955, -6.3656, -6.3987, -6.42, -6.489, -6.536, -6.5369, -6.5743, -6.6485, -6.6866, -5.9217, -6.7585, -5.3304, -3.5814, -5.5761, -4.8412, -4.7348, -5.8872, -5.0367, -5.0134, -4.8295, -4.9518, -4.1946, -5.9021, -5.089, -4.2771, -4.6929, -5.6292, -5.6923, -5.4863, -5.5863, -5.4942, -5.7051, -5.3477, -5.3799, -5.4933, -5.5906, -3.935, -4.0052, -4.396, -4.5457, -4.601, -4.621, -4.8038, -5.1028, -5.1295, -5.1351, -5.1405, -5.1406, -5.2453, -5.2827, -5.3107, -5.3944, -5.4003, -5.519, -5.5831, -5.6149, -5.7267, -5.7305, -5.8304, -5.8613, -6.0875, -6.1037, -6.1195, -6.1505, -6.1341, -6.2777, -5.1797, -4.3522, -5.3311, -4.7632, -4.9651, -4.897, -4.7048, -4.6723, -5.3415, -5.1179, -4.8216, -5.1243, -5.0125, -4.8539, -4.9684, -5.1364, -3.9401, -3.9964, -4.2547, -4.3332, -4.444, -4.5144, -4.6293, -4.6833, -4.91, -4.9832, -5.4241, -5.5507, -5.667, -5.7621, -5.7484, -5.9528, -5.96, -6.0273, -6.0642, -6.0809, -6.0904, -6.1003, -6.1073, -6.2946, -6.385, -6.5667, -6.6206, -6.695, -6.7167, -6.7362, -5.5546, -4.1204, -4.7402, -3.7857, -5.2021, -4.6201, -4.8594, -4.9565, -4.6948, -5.2419, -5.2556, -3.9625, -5.1291, -5.1127, -5.3542, -5.0737, -4.7525, -4.8922, -5.4552, -5.48, -3.3948, -3.9262, -4.0789, -4.3766, -4.8251, -5.0395, -5.0932, -5.5342, -5.7062, -5.7167, -5.7409, -5.8255, -5.9075, -5.9423, -6.0026, -6.0582, -6.1109, -6.278, -6.3222, -6.3385, -6.3551, -6.4448, -6.458, -6.4676, -6.4889, -6.5158, -6.5158, -6.53, -6.5372, -6.5934, -6.0488, -5.2416, -5.7246, -5.3126, -5.0169, -5.9164, -4.3924, -4.8512, -5.71, -5.2934, -4.5028, -5.5044, -4.843, -4.6272, -5.438, -5.3753, -5.5593, -5.2187, -5.5523, -5.1193, -5.3384, -5.1253, -5.491, -5.3248, -5.5534, -5.6192], \"loglift\": [30.0, 29.0, 28.0, 27.0, 26.0, 25.0, 24.0, 23.0, 22.0, 21.0, 20.0, 19.0, 18.0, 17.0, 16.0, 15.0, 14.0, 13.0, 12.0, 11.0, 10.0, 9.0, 8.0, 7.0, 6.0, 5.0, 4.0, 3.0, 2.0, 1.0, 1.452, 1.4517, 1.4509, 1.4507, 1.4506, 1.4504, 1.4494, 1.4492, 1.4491, 1.449, 1.4482, 1.4475, 1.4474, 1.4469, 1.4465, 1.4458, 1.4445, 1.4431, 1.4431, 1.4428, 1.4425, 1.4422, 1.4421, 1.442, 1.4415, 1.4413, 1.4413, 1.4412, 1.4398, 1.4397, 1.4052, 1.3442, 1.2601, 1.4008, 1.3013, 1.3413, 1.2691, 1.2393, 1.3416, 1.1498, 1.0648, 1.1173, 1.221, 0.7518, 1.0912, 0.4032, 0.7302, 0.7432, 0.2728, 0.9413, 0.7341, 0.8341, -0.1561, 1.8319, 1.8318, 1.8317, 1.8297, 1.8296, 1.8295, 1.8291, 1.8268, 1.8267, 1.8259, 1.8257, 1.8251, 1.8251, 1.8247, 1.8241, 1.823, 1.8228, 1.8223, 1.8223, 1.8212, 1.8209, 1.8207, 1.8204, 1.8197, 1.819, 1.8189, 1.8188, 1.8173, 1.8161, 1.816, 1.8111, 1.5798, 1.677, 1.6116, 1.4772, 1.4206, 1.5362, 1.3943, 1.2962, 1.6644, 1.2499, 0.9432, 1.1799, 1.2084, 0.953, 1.2568, 1.2501, 0.2512, 0.8148, 1.2011, 0.2197, 1.8466, 1.8465, 1.8448, 1.8447, 1.8417, 1.8416, 1.8415, 1.841, 1.8409, 1.8408, 1.8392, 1.8384, 1.8383, 1.8381, 1.8372, 1.837, 1.835, 1.8334, 1.833, 1.832, 1.8314, 1.8311, 1.8298, 1.829, 1.8289, 1.828, 1.8267, 1.8259, 1.8244, 1.8243, 1.7659, 1.6172, 1.7414, 1.6749, 1.5646, 1.7285, 1.586, 1.5537, 1.498, 1.4767, 1.25, 1.7152, 1.4341, 1.1291, 1.1963, 1.5643, 1.5958, 1.381, 1.4578, 1.2878, 1.4821, 0.6214, 0.376, 0.3878, 0.5878, 1.8575, 1.8574, 1.8567, 1.8563, 1.8562, 1.8561, 1.8555, 1.8543, 1.8542, 1.8542, 1.8542, 1.8542, 1.8536, 1.8534, 1.8533, 1.8528, 1.8527, 1.852, 1.8515, 1.8512, 1.8503, 1.8503, 1.8494, 1.8477, 1.8466, 1.8464, 1.8462, 1.8457, 1.8449, 1.844, 1.8037, 1.7407, 1.782, 1.6781, 1.6949, 1.6564, 1.474, 1.4343, 1.6744, 1.5023, 1.2066, 1.3896, 1.2535, 0.9957, 0.4762, 0.3568, 1.8961, 1.896, 1.8955, 1.8953, 1.8951, 1.8949, 1.8945, 1.8944, 1.8936, 1.8933, 1.8909, 1.89, 1.8891, 1.8882, 1.8879, 1.8862, 1.8861, 1.8853, 1.8849, 1.8847, 1.8846, 1.8845, 1.8843, 1.8816, 1.8802, 1.8766, 1.8756, 1.8739, 1.8734, 1.8729, 1.8172, 1.6355, 1.6773, 1.5291, 1.6915, 1.5986, 1.5848, 1.5841, 1.4938, 1.6454, 1.5907, 1.0913, 1.4796, 1.4506, 1.3853, 1.1218, 0.7144, 0.514, 0.4094, 0.3696, 1.9446, 1.9439, 1.9437, 1.943, 1.9416, 1.9407, 1.9403, 1.9376, 1.9362, 1.9361, 1.9359, 1.935, 1.9341, 1.9337, 1.933, 1.9322, 1.9316, 1.9291, 1.9284, 1.9281, 1.9278, 1.9261, 1.9259, 1.9257, 1.9252, 1.9247, 1.9247, 1.9244, 1.9243, 1.9231, 1.9068, 1.7759, 1.8327, 1.7311, 1.6819, 1.8094, 1.4695, 1.5618, 1.7537, 1.5955, 1.3364, 1.6613, 1.3701, 1.1407, 1.519, 1.4712, 1.5031, 1.1609, 1.4481, 0.843, 1.0083, 0.3416, 1.0256, 0.0745, 0.8185, 1.2293]}, \"token.table\": {\"Topic\": [5, 3, 1, 2, 3, 4, 6, 1, 3, 5, 4, 5, 1, 4, 6, 2, 4, 4, 5, 6, 2, 3, 6, 3, 2, 1, 5, 1, 2, 4, 5, 1, 4, 5, 6, 5, 2, 1, 2, 3, 6, 4, 2, 3, 6, 2, 5, 6, 3, 5, 6, 2, 3, 1, 2, 3, 2, 6, 6, 6, 4, 6, 3, 2, 5, 2, 4, 1, 2, 5, 2, 4, 4, 5, 1, 5, 1, 3, 5, 6, 6, 2, 3, 6, 3, 4, 6, 1, 4, 2, 5, 1, 3, 4, 5, 2, 6, 4, 5, 3, 3, 3, 6, 1, 5, 1, 3, 2, 4, 2, 6, 1, 6, 1, 4, 1, 1, 3, 4, 5, 6, 1, 3, 4, 1, 3, 4, 6, 1, 2, 4, 5, 1, 2, 3, 4, 6, 3, 5, 1, 4, 6, 2, 3, 4, 1, 5, 6, 5, 5, 1, 6, 1, 2, 1, 3, 4, 6, 1, 3, 5, 3, 1, 3, 2, 4, 5, 1, 5, 6, 6, 4, 2, 2, 3, 5, 6, 1, 3, 6, 1, 2, 4, 5, 4, 6, 2, 1, 6, 2, 1, 2, 5, 2, 3, 6, 1, 2, 6, 3, 5, 1, 2, 3, 5, 4, 2, 3, 5, 6, 1, 6, 2, 1, 5, 3, 2, 4, 6, 4, 6, 1, 2, 5, 5, 1, 1, 6, 2, 5, 4, 2, 2, 1, 2, 1, 2, 5, 6, 1, 2, 3, 1, 4, 1, 3, 5, 6, 1, 3, 2, 3, 1, 3, 2, 1, 2, 4, 1, 2, 3, 6, 5, 1, 2, 3, 4, 5, 6, 1, 2, 2, 3, 1, 1, 2, 3, 5, 3, 1, 6, 1, 3, 5, 1, 3, 5, 6, 1, 2, 6, 3, 4, 6, 4, 1, 5, 6, 1, 5, 4, 4, 6, 4, 4, 2, 6, 1, 5, 3, 6, 1, 4, 6, 3, 2, 4, 2, 3, 6, 1, 2, 3, 5, 6, 6, 4, 1, 3, 4, 1, 2, 4, 6, 2, 5, 6, 1, 3, 1, 4, 2, 4, 5, 1, 1, 2, 3, 4, 5, 1, 2, 3, 5, 6, 4, 6, 1, 1, 2, 4, 6, 1, 2, 3, 4, 5, 6, 5, 1, 3, 5, 6, 2, 6, 1, 5, 6, 4, 1, 3, 1, 2, 3, 6, 6, 1, 2, 3, 5, 6, 2, 1, 2, 3, 6, 4, 4, 3, 2, 3, 4, 4, 1, 2, 3, 1, 4, 4, 3, 1, 3, 3, 4, 5, 3, 1, 1, 3, 4, 5, 6, 2, 2, 5, 1, 3, 5, 4, 5, 6, 1, 2, 4, 3, 2, 4, 5, 6, 1, 4, 5, 2, 6, 1, 5, 4, 1, 5, 1, 3, 4, 1, 3, 6, 5, 3, 1, 3, 6, 5, 1, 2, 3, 4, 5, 6, 1, 2, 3, 4, 5, 6, 1, 4, 4, 2, 1, 1, 2, 3, 5, 2, 3, 5, 2, 5, 5, 5, 2, 3, 6, 5, 1, 5, 3, 1, 2, 4, 1, 3, 6, 4, 3, 1, 3, 6, 2, 4, 4, 2, 1, 1, 3, 5, 1, 4, 1, 4, 2, 3], \"Freq\": [0.9898277814032932, 0.9857556569579032, 0.185289608377454, 0.16947220278425673, 0.16947220278425673, 0.1446162797092324, 0.3321655174571432, 0.9945623345443917, 0.9884715413565432, 0.9986723045505124, 0.07400009263944277, 0.9250011579930346, 0.3170549710434145, 0.6818084775535375, 0.9913717154854261, 0.996096056911344, 0.9939275407667321, 0.9948243979289314, 0.9718846719993248, 0.9980603565934629, 0.5592122573521737, 0.22598303550533047, 0.21449237268302554, 0.9791150205751401, 0.9876276569528892, 0.9973796588818903, 0.992542646758933, 0.34284620637179325, 0.07346704422252712, 0.5448805779837428, 0.03673352211126356, 0.2889735463923754, 0.03966303577934564, 0.6686054602803979, 0.005666147968477949, 0.9903394553897195, 0.9876616740148948, 0.9978567931818731, 0.23993104218901035, 0.7507519707204517, 0.9914329521916776, 0.9969692569738673, 0.23333945268221631, 0.007527079118781171, 0.7527079118781171, 0.9948954458577342, 0.9977597515298215, 0.9923326526366996, 0.22976838789963827, 0.7701836362395875, 0.9879864287747787, 0.9780619473068531, 0.9968742714471505, 0.18909085625838262, 0.8036361390981261, 0.0047272714064595656, 0.9956378071937302, 0.9960241523933062, 0.9695889355453556, 0.9732602604958629, 0.1865679265038629, 0.806239968105979, 0.9916197336136529, 0.9895638986047168, 0.9850143070953863, 0.17953337244395273, 0.8160607838361488, 0.8073380881479396, 0.08517787168533308, 0.1036948003125794, 0.9897159328622295, 0.9889620459949802, 0.9895902762868508, 0.9962416253114745, 0.8925152257581525, 0.10412677633845113, 0.04558537439592978, 0.07977440519287711, 0.7749513647308063, 0.09686892059135079, 0.9809872627446676, 0.9881206728944701, 0.9818712054254528, 0.013450290485280176, 0.9024283609976516, 0.026284321194106355, 0.07009152318428362, 0.9471569451930333, 0.049331090895470484, 0.9790768374377202, 0.9957137652985943, 0.19953042850134967, 0.4871652020552434, 0.06219130239003107, 0.2500608616932499, 0.17240193565676815, 0.8214445169528365, 0.8294400455286535, 0.16200000889231514, 0.9944938002143047, 0.9820014692266437, 0.774153014190404, 0.22118657548297257, 0.9508298336445913, 0.04028939973070302, 0.33650086469197954, 0.6611252282771833, 0.9900736602776644, 0.9844779926307097, 0.9964060124124849, 0.9917039839658609, 0.9946352325987272, 0.994249750226895, 0.14979810739391214, 0.8488559418988355, 0.9934823238716841, 0.26464325042922493, 0.5208851278289507, 0.04200686514749603, 0.08191338703761725, 0.09241510332449125, 0.7391073714916538, 0.11643472290621944, 0.14427780881857624, 0.5373962317033247, 0.2045572752935236, 0.10054510141546076, 0.15601826081709427, 0.09136051914149611, 0.13312532789189432, 0.6551854372718722, 0.12268412570429478, 0.2123759785462486, 0.1472151669468314, 0.004826726785142014, 0.5212864927953375, 0.11342807945083731, 0.7031652443370306, 0.29298551847376275, 0.05018732187509624, 0.9472857003924415, 0.980004478840653, 0.10625270389731814, 0.8854391991443179, 0.9938675085894477, 0.19824432555629803, 0.17985052215416727, 0.6213018038053052, 0.9959620937549928, 0.9979512895734699, 0.34211565101014524, 0.6536852617515275, 0.15095406827904193, 0.8491166340696108, 0.4908918666345112, 0.15769583280486887, 0.18058716337331757, 0.17041323867622926, 0.3544104900615634, 0.004121052210018179, 0.6387630925528178, 0.9805406251980975, 0.9968427392432929, 0.977765930631537, 0.11070799768609325, 0.8882385860860971, 0.98820419762677, 0.2777814280315608, 0.26406382664728617, 0.4561102460271307, 0.9941950834047161, 0.9928092598710142, 0.9957447081364796, 0.18367282449245304, 0.6914741627951173, 0.05762284689959311, 0.06842713069326681, 0.16989110888486889, 0.06134956709731376, 0.769229187450934, 0.2788501796921316, 0.4098252640929813, 0.1774501143495383, 0.13308758576215374, 0.03316773015539693, 0.961864174506511, 0.9986745707767458, 0.9964287776431485, 0.9915700195003091, 0.9885486950681615, 0.2218667738084895, 0.5589336032483101, 0.21760010508140315, 0.998931873510185, 0.9625261108316271, 0.9831071028643898, 0.8303386157399258, 0.08542578351233805, 0.078591720831351, 0.8750324495695981, 0.11824762832021596, 0.1323849886488099, 0.11997389596298397, 0.7446655611495556, 0.9882401317721494, 0.9977099783871712, 0.9786245844435376, 0.9959193091634054, 0.9695784768247678, 0.9958661928122526, 0.3892383781451633, 0.6061909167834512, 0.9907208037872227, 0.9983432172754388, 0.9979296156965713, 0.9938761593434625, 0.1973139816527703, 0.31241380428355303, 0.48780401019712666, 0.9962887892999583, 0.9950409817819845, 0.7916091947922627, 0.05277394631948418, 0.15352420747486306, 0.9798767845456227, 0.9932686946430579, 0.9934078254338744, 0.9955487139182277, 0.2569627888934075, 0.7416880497605172, 0.991797771582635, 0.9853277815603007, 0.9866550947782334, 0.8255973872341547, 0.17318565881636003, 0.26516912490620725, 0.5197314848161662, 0.08838970830206908, 0.12374559162289671, 0.6979739627758189, 0.14295852249625207, 0.1597771722016935, 0.9953603264455758, 0.9849620755540998, 0.10270165405585212, 0.2653126063109513, 0.45930461952756085, 0.16831659970264654, 0.07724675843018104, 0.9199386685776105, 0.9818607518135968, 0.014990240485703767, 0.7151577360183771, 0.2832585542661023, 0.9922543275773243, 0.17449094974414814, 0.12214366482090369, 0.6979637989765926, 0.48857024319779124, 0.361597185643563, 0.12421277369435371, 0.02760283859874527, 0.9983919702923009, 0.20376878981278151, 0.10326121105377442, 0.11152210793807638, 0.07434807195871758, 0.3056531847191723, 0.20101515751801421, 0.4602597822624709, 0.5363357793306479, 0.20529402203861075, 0.7938035518826282, 0.981157474259162, 0.4856652344809338, 0.20082359906806546, 0.08606725674345662, 0.2254142438519102, 0.9840517403689252, 0.11861376713698234, 0.8698342923378705, 0.9985767975200749, 0.9919054612965436, 0.9888928866108746, 0.17588219572933164, 0.24225283562719263, 0.18915632370890384, 0.39158677539737985, 0.22402369170784608, 0.128983337649972, 0.6449166882498599, 0.6255414975633227, 0.16197056633336032, 0.20665210187359767, 0.9960933501115041, 0.2777013874732988, 0.17780880205124888, 0.5434156646959516, 0.307449923943862, 0.6917623288736896, 0.9790042755388676, 0.1492823991390988, 0.8437700820905584, 0.9980378103151872, 0.9901175450649373, 0.9967971657233038, 0.9925056107285605, 0.3406805130916271, 0.659798968392645, 0.996544733975016, 0.9901977221471803, 0.9953698498078043, 0.3719513633836632, 0.6235655209667295, 0.9878712251953587, 0.8552740092894531, 0.141423261378571, 0.04614399438606929, 0.6921599157910393, 0.2537919691233811, 0.21206891281655213, 0.19904713746816735, 0.11719597813546302, 0.024183297075571732, 0.4464608690874782, 0.9788322793051507, 0.9968656006950743, 0.678627260978728, 0.19032322616683875, 0.13072706443782864, 0.14358141378516184, 0.6625256664658182, 0.19075816402885787, 0.0020511630540737407, 0.26589890443221625, 0.7292076015489567, 0.998325232189816, 0.24372688883799618, 0.7533376564083518, 0.9932306581530977, 0.9960946680945206, 0.06411706925094537, 0.13179619790472105, 0.8014633656368172, 0.9907744955833677, 0.20187720134265771, 0.157464217047273, 0.002018772013426577, 0.4219233508061546, 0.21600860543664374, 0.5997912333040868, 0.06255491390288022, 0.13982863107702637, 0.025757905724715383, 0.16926623761955822, 0.9883625796859524, 0.994968953669976, 0.9968486472011664, 0.0029034022909286625, 0.18872114891036304, 0.2467891947289363, 0.5632600444401605, 0.4954398787679453, 0.1055222598934325, 0.09651426209765168, 0.05404798677468494, 0.0939405484417143, 0.1544228193562427, 0.9882472048037175, 0.9942408583795567, 0.7696686092810127, 0.2274020891057537, 0.9892049998547079, 0.9908036386932231, 0.9798195516931342, 0.005468999438576503, 0.7383149242078278, 0.25704297361309564, 0.9991272721550052, 0.9843685124567527, 0.9927864945281717, 0.15339135623583963, 0.20845492001280772, 0.23598670190129176, 0.3972442815338411, 0.9695954655036788, 0.20159630165414574, 0.4149133185207418, 0.05157114693478147, 0.2039404446966358, 0.1265837242944636, 0.9971141666553001, 0.9946168481919848, 0.20565708715900805, 0.11346597912221133, 0.6807958747332681, 0.988135400584821, 0.9981825803437433, 0.9908198748526533, 0.6999319081506681, 0.23122750537120285, 0.06666018172863505, 0.9846050766257776, 0.8965545431142763, 0.09913824274821324, 0.9931726223388653, 0.16415471988610597, 0.8353651300870726, 0.9961747428279593, 0.9901281019501004, 0.991775272491817, 0.975949401551991, 0.8412376615209313, 0.15330966728652484, 0.003931017109910894, 0.974767311790163, 0.9912938346886626, 0.2552331175411606, 0.09869013878258209, 0.2688455504766892, 0.05444973174211426, 0.32329528221880344, 0.9985427161487219, 0.26707132496288677, 0.7317022601722926, 0.9874412452197533, 0.9851460342532705, 0.9806325297212076, 0.017121069865485325, 0.2739371178477652, 0.7019638644848983, 0.33190409592213277, 0.5836934100699577, 0.0801147817743079, 0.9990034054359309, 0.5611556225390744, 0.14992707472418018, 0.2141815353202574, 0.07282172200888752, 0.12616001181818912, 0.057345459917358683, 0.8143055308264934, 0.987961679961528, 0.9993684144242646, 0.987580841346527, 0.989864557856223, 0.998046143856034, 0.9957789624148503, 0.9909536627447427, 0.19928183675248726, 0.5493715499663162, 0.2504487948375853, 0.9970371756911366, 0.9788057059557879, 0.9986479797399793, 0.9966976593100401, 0.9986662525923935, 0.9989190787901994, 0.10021643389004788, 0.8908127456893145, 0.9723273485043704, 0.3497489572760186, 0.04645103338822123, 0.06922114779421203, 0.08743723931900466, 0.4462942423574196, 0.9706204668306603, 0.29118846832658934, 0.025024008996816272, 0.2934633782353908, 0.2525149998769642, 0.043223288267228106, 0.09554621616966212, 0.372649702808069, 0.6236979236471892, 0.9959540316604553, 0.9973017950837139, 0.982476129782941, 0.08989346859013833, 0.529372648364148, 0.37955020071391743, 0.9885804595059265, 0.7457585752455498, 0.2556886543699028, 0.9800023313715156, 0.9944034634610648, 0.9978470955499295, 0.996283023692225, 0.9950577672652862, 0.6457376711806233, 0.23391517680522578, 0.11860487838011448, 0.9680913929206213, 0.8927702757096543, 0.0991966973010727, 0.9882265866924895, 0.8593892144507862, 0.1361408656555701, 0.9960336632009029, 0.3487585676799727, 0.5692970737128966, 0.07693203698822927, 0.9969946751021114, 0.9949265395894092, 0.31994012908305897, 0.6798727743015003, 0.9762713397796465, 0.7760370465703124, 0.22334035220056347, 0.9943255005593801, 0.9935862644976854, 0.985326530867294, 0.17202578570431265, 0.22609103263995378, 0.599632738740747, 0.9982134843799545, 0.9919043766151587, 0.07141954611730146, 0.928454099524919, 0.9963944398526056, 0.974006407463508], \"Term\": [\"absolutely\", \"act\", \"actually\", \"actually\", \"actually\", \"actually\", \"actually\", \"ago\", \"ahead\", \"alright\", \"anymore\", \"anymore\", \"anything\", \"anything\", \"appreciate\", \"ask\", \"assistant\", \"attention\", \"aunt\", \"baby\", \"bad\", \"bad\", \"bad\", \"bear\", \"beat\", \"believe\", \"belt\", \"best\", \"best\", \"best\", \"best\", \"better\", \"better\", \"better\", \"better\", \"blah\", \"boom\", \"bos\", \"boy\", \"boy\", \"boyfriend\", \"break\", \"bring\", \"bring\", \"bring\", \"busy\", \"bye\", \"cake\", \"call\", \"call\", \"calm\", \"camera\", \"car\", \"care\", \"care\", \"care\", \"cat\", \"chair\", \"chicken\", \"chocolate\", \"christmas\", \"christmas\", \"close\", \"coffee\", \"cold\", \"coming\", \"coming\", \"company\", \"company\", \"company\", \"computer\", \"conference\", \"congratulation\", \"cool\", \"couple\", \"couple\", \"course\", \"course\", \"course\", \"course\", \"cream\", \"cupcake\", \"cute\", \"cute\", \"damn\", \"damn\", \"damn\", \"date\", \"date\", \"daughter\", \"david\", \"day\", \"day\", \"day\", \"day\", \"dead\", \"dead\", \"deal\", \"deal\", \"definitely\", \"died\", \"different\", \"different\", \"dollar\", \"dollar\", \"done\", \"done\", \"drive\", \"dude\", \"dunder\", \"easy\", \"eight\", \"either\", \"else\", \"else\", \"enough\", \"even\", \"even\", \"even\", \"even\", \"even\", \"ever\", \"ever\", \"ever\", \"every\", \"every\", \"every\", \"every\", \"everybody\", \"everybody\", \"everybody\", \"everybody\", \"everyone\", \"everyone\", \"everyone\", \"everyone\", \"everyone\", \"everything\", \"everything\", \"exactly\", \"exactly\", \"excellent\", \"excited\", \"excited\", \"excuse\", \"feel\", \"feel\", \"feel\", \"fight\", \"fine\", \"fire\", \"fire\", \"fired\", \"fired\", \"first\", \"first\", \"first\", \"first\", \"five\", \"five\", \"five\", \"forward\", \"four\", \"freak\", \"friend\", \"friend\", \"front\", \"fun\", \"fun\", \"fun\", \"game\", \"gay\", \"gentleman\", \"getting\", \"getting\", \"getting\", \"getting\", \"girl\", \"girl\", \"girl\", \"give\", \"give\", \"give\", \"give\", \"glad\", \"glad\", \"god\", \"gone\", \"goodbye\", \"gosh\", \"gotta\", \"gotta\", \"gotta\", \"great\", \"green\", \"gross\", \"guess\", \"guess\", \"guess\", \"hair\", \"hair\", \"hand\", \"hand\", \"hand\", \"hang\", \"happened\", \"happening\", \"happy\", \"hat\", \"hate\", \"heard\", \"heard\", \"hell\", \"hello\", \"help\", \"high\", \"hold\", \"hold\", \"hold\", \"hope\", \"hot\", \"hour\", \"hour\", \"hour\", \"howard\", \"hundred\", \"hurt\", \"ice\", \"idea\", \"idea\", \"idiot\", \"insane\", \"interview\", \"job\", \"job\", \"keep\", \"keep\", \"keep\", \"keep\", \"kid\", \"kid\", \"kid\", \"kidding\", \"kill\", \"kind\", \"kind\", \"kind\", \"kind\", \"knew\", \"knew\", \"lady\", \"lady\", \"last\", \"last\", \"late\", \"leave\", \"leave\", \"leave\", \"life\", \"life\", \"life\", \"life\", \"listen\", \"little\", \"little\", \"little\", \"little\", \"little\", \"little\", \"long\", \"long\", \"look\", \"look\", \"lose\", \"lot\", \"lot\", \"lot\", \"lot\", \"loud\", \"louse\", \"louse\", \"love\", \"luck\", \"mad\", \"made\", \"made\", \"made\", \"made\", \"make\", \"make\", \"make\", \"making\", \"making\", \"making\", \"manager\", \"maybe\", \"maybe\", \"maybe\", \"mean\", \"mean\", \"meant\", \"meet\", \"meet\", \"meeting\", \"message\", \"mifflin\", \"milk\", \"minute\", \"minute\", \"miss\", \"monkey\", \"month\", \"morning\", \"morning\", \"mose\", \"move\", \"move\", \"movie\", \"movie\", \"movie\", \"much\", \"much\", \"much\", \"much\", \"much\", \"mural\", \"name\", \"never\", \"never\", \"never\", \"new\", \"new\", \"new\", \"new\", \"next\", \"next\", \"nice\", \"night\", \"night\", \"nine\", \"nope\", \"nothing\", \"nothing\", \"nothing\", \"offer\", \"office\", \"office\", \"office\", \"office\", \"office\", \"old\", \"old\", \"old\", \"old\", \"old\", \"outside\", \"packer\", \"paper\", \"party\", \"party\", \"party\", \"party\", \"people\", \"people\", \"people\", \"people\", \"people\", \"people\", \"per\", \"pete\", \"phone\", \"phone\", \"pie\", \"plan\", \"planning\", \"play\", \"play\", \"play\", \"please\", \"possible\", \"pretend\", \"pretty\", \"pretty\", \"pretty\", \"pretty\", \"proud\", \"put\", \"put\", \"put\", \"put\", \"put\", \"question\", \"ready\", \"real\", \"real\", \"real\", \"regional\", \"room\", \"roy\", \"said\", \"said\", \"said\", \"santa\", \"saying\", \"saying\", \"school\", \"second\", \"second\", \"serious\", \"seriously\", \"seven\", \"shake\", \"show\", \"show\", \"show\", \"sister\", \"sleep\", \"someone\", \"someone\", \"someone\", \"someone\", \"someone\", \"sorry\", \"sound\", \"sound\", \"speak\", \"spot\", \"starting\", \"stay\", \"stay\", \"stay\", \"still\", \"still\", \"still\", \"stop\", \"stuff\", \"stuff\", \"stuff\", \"stuff\", \"stupid\", \"stupid\", \"stupid\", \"suck\", \"sure\", \"surprise\", \"table\", \"talk\", \"talking\", \"team\", \"tell\", \"tell\", \"tell\", \"ten\", \"test\", \"thank\", \"thanks\", \"thought\", \"three\", \"throw\", \"throw\", \"tie\", \"time\", \"time\", \"time\", \"time\", \"time\", \"tiny\", \"today\", \"today\", \"today\", \"today\", \"today\", \"today\", \"told\", \"told\", \"totally\", \"true\", \"truth\", \"trying\", \"trying\", \"trying\", \"tuna\", \"turn\", \"turn\", \"twenty\", \"ugh\", \"wait\", \"wallace\", \"wanna\", \"wanted\", \"wanted\", \"wanted\", \"waste\", \"watch\", \"watch\", \"watching\", \"week\", \"week\", \"welcome\", \"went\", \"went\", \"went\", \"whoa\", \"whoo\", \"wish\", \"wish\", \"wondering\", \"work\", \"work\", \"worry\", \"worth\", \"write\", \"wrong\", \"wrong\", \"wrong\", \"year\", \"yep\", \"yet\", \"yet\", \"york\", \"yup\"]}, \"R\": 30, \"lambda.step\": 0.01, \"plot.opts\": {\"xlab\": \"PC1\", \"ylab\": \"PC2\"}, \"topic.order\": [2, 1, 5, 4, 3, 6]};\n",
       "\n",
       "function LDAvis_load_lib(url, callback){\n",
       "  var s = document.createElement('script');\n",
       "  s.src = url;\n",
       "  s.async = true;\n",
       "  s.onreadystatechange = s.onload = callback;\n",
       "  s.onerror = function(){console.warn(\"failed to load library \" + url);};\n",
       "  document.getElementsByTagName(\"head\")[0].appendChild(s);\n",
       "}\n",
       "\n",
       "if(typeof(LDAvis) !== \"undefined\"){\n",
       "   // already loaded: just create the visualization\n",
       "   !function(LDAvis){\n",
       "       new LDAvis(\"#\" + \"ldavis_el611617522501771204535068762\", ldavis_el611617522501771204535068762_data);\n",
       "   }(LDAvis);\n",
       "}else if(typeof define === \"function\" && define.amd){\n",
       "   // require.js is available: use it to load d3/LDAvis\n",
       "   require.config({paths: {d3: \"https://d3js.org/d3.v5\"}});\n",
       "   require([\"d3\"], function(d3){\n",
       "      window.d3 = d3;\n",
       "      LDAvis_load_lib(\"https://cdn.jsdelivr.net/gh/bmabey/pyLDAvis@3.3.1/pyLDAvis/js/ldavis.v3.0.0.js\", function(){\n",
       "        new LDAvis(\"#\" + \"ldavis_el611617522501771204535068762\", ldavis_el611617522501771204535068762_data);\n",
       "      });\n",
       "    });\n",
       "}else{\n",
       "    // require.js not available: dynamically load d3 & LDAvis\n",
       "    LDAvis_load_lib(\"https://d3js.org/d3.v5.js\", function(){\n",
       "         LDAvis_load_lib(\"https://cdn.jsdelivr.net/gh/bmabey/pyLDAvis@3.3.1/pyLDAvis/js/ldavis.v3.0.0.js\", function(){\n",
       "                 new LDAvis(\"#\" + \"ldavis_el611617522501771204535068762\", ldavis_el611617522501771204535068762_data);\n",
       "            })\n",
       "         });\n",
       "}\n",
       "</script>"
      ],
      "text/plain": [
       "PreparedData(topic_coordinates=              x         y  topics  cluster       Freq\n",
       "topic                                                \n",
       "1     -0.004553 -0.093697       1        1  23.384158\n",
       "0     -0.119789  0.013819       2        1  15.996305\n",
       "4      0.059997 -0.022405       3        1  15.751973\n",
       "3     -0.240365  0.084882       4        1  15.583007\n",
       "2      0.107085 -0.215783       5        1  14.993043\n",
       "5      0.197625  0.233183       6        1  14.291514, topic_info=        Term        Freq       Total Category  logprob  loglift\n",
       "37     thank  825.000000  825.000000  Default  30.0000  30.0000\n",
       "103    great  844.000000  844.000000  Default  29.0000  29.0000\n",
       "33     sorry  725.000000  725.000000  Default  28.0000  28.0000\n",
       "70       god  713.000000  713.000000  Default  27.0000  27.0000\n",
       "1       look  949.000000  949.000000  Default  26.0000  26.0000\n",
       "..       ...         ...         ...      ...      ...      ...\n",
       "228   little  146.068868  726.313388   Topic6  -5.1253   0.3416\n",
       "75    pretty  101.337208  254.251615   Topic6  -5.4910   1.0256\n",
       "73    people  119.651796  777.087224   Topic6  -5.3248   0.0745\n",
       "532  someone   95.204747  293.849014   Topic6  -5.5534   0.8185\n",
       "330     hold   89.141401  182.450325   Topic6  -5.6192   1.2293\n",
       "\n",
       "[341 rows x 6 columns], token_table=      Topic      Freq        Term\n",
       "term                             \n",
       "187       5  0.989828  absolutely\n",
       "2118      3  0.985756         act\n",
       "9         1  0.185290    actually\n",
       "9         2  0.169472    actually\n",
       "9         3  0.169472    actually\n",
       "...     ...       ...         ...\n",
       "1052      4  0.991904         yep\n",
       "455       1  0.071420         yet\n",
       "455       4  0.928454         yet\n",
       "1886      2  0.996394        york\n",
       "217       3  0.974006         yup\n",
       "\n",
       "[521 rows x 3 columns], R=30, lambda_step=0.01, plot_opts={'xlab': 'PC1', 'ylab': 'PC2'}, topic_order=[2, 1, 5, 4, 3, 6])"
      ]
     },
     "execution_count": 103,
     "metadata": {},
     "output_type": "execute_result"
    }
   ],
   "source": [
    "pyLDAvis.enable_notebook()\n",
    "vis = pyLDAvis.gensim_models.prepare(lda_model, word_corpus, word_dict)\n",
    "vis"
   ]
  },
  {
   "cell_type": "markdown",
   "id": "cc0a46e9",
   "metadata": {},
   "source": [
    "Check words and which topic they belong to"
   ]
  },
  {
   "cell_type": "code",
   "execution_count": 105,
   "id": "90a756a5",
   "metadata": {},
   "outputs": [],
   "source": [
    "df_topic_sents_keywords = format_topics_sentences(ldamodel = lda_model, corpus = word_corpus, texts = word_list)"
   ]
  },
  {
   "cell_type": "code",
   "execution_count": 107,
   "id": "6fab1ea5",
   "metadata": {},
   "outputs": [
    {
     "data": {
      "text/html": [
       "<div>\n",
       "<style scoped>\n",
       "    .dataframe tbody tr th:only-of-type {\n",
       "        vertical-align: middle;\n",
       "    }\n",
       "\n",
       "    .dataframe tbody tr th {\n",
       "        vertical-align: top;\n",
       "    }\n",
       "\n",
       "    .dataframe thead th {\n",
       "        text-align: right;\n",
       "    }\n",
       "</style>\n",
       "<table border=\"1\" class=\"dataframe\">\n",
       "  <thead>\n",
       "    <tr style=\"text-align: right;\">\n",
       "      <th></th>\n",
       "      <th>Document_No</th>\n",
       "      <th>Dominant_Topic</th>\n",
       "      <th>Topic_Perc_Contrib</th>\n",
       "      <th>Keywords</th>\n",
       "      <th>Text</th>\n",
       "      <th>speaker</th>\n",
       "    </tr>\n",
       "  </thead>\n",
       "  <tbody>\n",
       "    <tr>\n",
       "      <th>0</th>\n",
       "      <td>0</td>\n",
       "      <td>4</td>\n",
       "      <td>0.7903</td>\n",
       "      <td>look, thought, stop, tell, day, even, night, c...</td>\n",
       "      <td>[quarterly, look, library]</td>\n",
       "      <td>Michael</td>\n",
       "    </tr>\n",
       "    <tr>\n",
       "      <th>1</th>\n",
       "      <td>1</td>\n",
       "      <td>4</td>\n",
       "      <td>0.3889</td>\n",
       "      <td>look, thought, stop, tell, day, even, night, c...</td>\n",
       "      <td>[told, close]</td>\n",
       "      <td>Jim</td>\n",
       "    </tr>\n",
       "    <tr>\n",
       "      <th>2</th>\n",
       "      <td>2</td>\n",
       "      <td>5</td>\n",
       "      <td>0.6196</td>\n",
       "      <td>thank, sure, nice, baby, feel, maybe, much, ho...</td>\n",
       "      <td>[master, guidance, saying, grasshopper]</td>\n",
       "      <td>Michael</td>\n",
       "    </tr>\n",
       "    <tr>\n",
       "      <th>3</th>\n",
       "      <td>3</td>\n",
       "      <td>0</td>\n",
       "      <td>0.7200</td>\n",
       "      <td>great, sorry, god, work, said, new, dunder, mi...</td>\n",
       "      <td>[actually, called]</td>\n",
       "      <td>Jim</td>\n",
       "    </tr>\n",
       "    <tr>\n",
       "      <th>4</th>\n",
       "      <td>4</td>\n",
       "      <td>4</td>\n",
       "      <td>0.7220</td>\n",
       "      <td>look, thought, stop, tell, day, even, night, c...</td>\n",
       "      <td>[show, done]</td>\n",
       "      <td>Michael</td>\n",
       "    </tr>\n",
       "  </tbody>\n",
       "</table>\n",
       "</div>"
      ],
      "text/plain": [
       "   Document_No  Dominant_Topic  Topic_Perc_Contrib  \\\n",
       "0            0               4              0.7903   \n",
       "1            1               4              0.3889   \n",
       "2            2               5              0.6196   \n",
       "3            3               0              0.7200   \n",
       "4            4               4              0.7220   \n",
       "\n",
       "                                            Keywords  \\\n",
       "0  look, thought, stop, tell, day, even, night, c...   \n",
       "1  look, thought, stop, tell, day, even, night, c...   \n",
       "2  thank, sure, nice, baby, feel, maybe, much, ho...   \n",
       "3  great, sorry, god, work, said, new, dunder, mi...   \n",
       "4  look, thought, stop, tell, day, even, night, c...   \n",
       "\n",
       "                                      Text  speaker  \n",
       "0               [quarterly, look, library]  Michael  \n",
       "1                            [told, close]      Jim  \n",
       "2  [master, guidance, saying, grasshopper]  Michael  \n",
       "3                       [actually, called]      Jim  \n",
       "4                             [show, done]  Michael  "
      ]
     },
     "execution_count": 107,
     "metadata": {},
     "output_type": "execute_result"
    }
   ],
   "source": [
    "df_dominant_topic = df_topic_sents_keywords.reset_index()\n",
    "df_dominant_topic.columns = ['Document_No', 'Dominant_Topic', 'Topic_Perc_Contrib', 'Keywords', 'Text']\n",
    "\n",
    "df_dominant_topic = pd.concat([df_dominant_topic, data['speaker'].reset_index(drop = True)], 1)\n",
    "df_dominant_topic['Dominant_Topic'] = df_dominant_topic['Dominant_Topic'].astype(int)\n",
    "df_dominant_topic.head()"
   ]
  },
  {
   "cell_type": "code",
   "execution_count": 108,
   "id": "00245b2f",
   "metadata": {},
   "outputs": [],
   "source": [
    "by_speaker_topic_dist = df_dominant_topic.groupby(['speaker', 'Dominant_Topic'])['Document_No'].count().reset_index()\n",
    "\n",
    "line_counts = by_speaker_topic_dist.groupby('speaker')['Document_No'].sum()\n",
    "by_speaker_topic_dist['sum'] = by_speaker_topic_dist['speaker'].map(line_counts)\n",
    "by_speaker_topic_dist['Topic_Ratio'] = by_speaker_topic_dist['Document_No'] / by_speaker_topic_dist['sum']\n",
    "by_speaker_topic_dist.drop(['Document_No', 'sum'], 1, inplace = True)"
   ]
  },
  {
   "cell_type": "code",
   "execution_count": 116,
   "id": "b0f97bb2",
   "metadata": {},
   "outputs": [
    {
     "data": {
      "application/vnd.plotly.v1+json": {
       "config": {
        "plotlyServerURL": "https://plot.ly"
       },
       "data": [
        {
         "alignmentgroup": "True",
         "hovertemplate": "Speaker=Andy<br>Dominant_Topic=%{x}<br>=%{y}<extra></extra>",
         "legendgroup": "",
         "marker": {
          "color": "#636efa",
          "pattern": {
           "shape": ""
          }
         },
         "name": "",
         "offsetgroup": "",
         "orientation": "v",
         "showlegend": false,
         "textposition": "auto",
         "type": "bar",
         "x": [
          0,
          1,
          2,
          3,
          4,
          5
         ],
         "xaxis": "x21",
         "y": [
          0.22328966521106258,
          0.1868995633187773,
          0.14934497816593886,
          0.14992721979621543,
          0.13828238719068414,
          0.15225618631732168
         ],
         "yaxis": "y21"
        },
        {
         "alignmentgroup": "True",
         "hovertemplate": "Speaker=Angela<br>Dominant_Topic=%{x}<br>=%{y}<extra></extra>",
         "legendgroup": "",
         "marker": {
          "color": "#636efa",
          "pattern": {
           "shape": ""
          }
         },
         "name": "",
         "offsetgroup": "",
         "orientation": "v",
         "showlegend": false,
         "textposition": "auto",
         "type": "bar",
         "x": [
          0,
          1,
          2,
          3,
          4,
          5
         ],
         "xaxis": "x22",
         "y": [
          0.2487122884473878,
          0.18910963944076528,
          0.1309786607799853,
          0.12141280353200883,
          0.14863870493009565,
          0.16114790286975716
         ],
         "yaxis": "y22"
        },
        {
         "alignmentgroup": "True",
         "hovertemplate": "Speaker=Creed<br>Dominant_Topic=%{x}<br>=%{y}<extra></extra>",
         "legendgroup": "",
         "marker": {
          "color": "#636efa",
          "pattern": {
           "shape": ""
          }
         },
         "name": "",
         "offsetgroup": "",
         "orientation": "v",
         "showlegend": false,
         "textposition": "auto",
         "type": "bar",
         "x": [
          0,
          1,
          2,
          3,
          4,
          5
         ],
         "xaxis": "x23",
         "y": [
          0.1994535519125683,
          0.19672131147540983,
          0.1284153005464481,
          0.1366120218579235,
          0.1448087431693989,
          0.19398907103825136
         ],
         "yaxis": "y23"
        },
        {
         "alignmentgroup": "True",
         "hovertemplate": "Speaker=Darryl<br>Dominant_Topic=%{x}<br>=%{y}<extra></extra>",
         "legendgroup": "",
         "marker": {
          "color": "#636efa",
          "pattern": {
           "shape": ""
          }
         },
         "name": "",
         "offsetgroup": "",
         "orientation": "v",
         "showlegend": false,
         "textposition": "auto",
         "type": "bar",
         "x": [
          0,
          1,
          2,
          3,
          4,
          5
         ],
         "xaxis": "x24",
         "y": [
          0.23550724637681159,
          0.18931159420289856,
          0.15307971014492755,
          0.11775362318840579,
          0.13496376811594202,
          0.1693840579710145
         ],
         "yaxis": "y24"
        },
        {
         "alignmentgroup": "True",
         "hovertemplate": "Speaker=David Wallace<br>Dominant_Topic=%{x}<br>=%{y}<extra></extra>",
         "legendgroup": "",
         "marker": {
          "color": "#636efa",
          "pattern": {
           "shape": ""
          }
         },
         "name": "",
         "offsetgroup": "",
         "orientation": "v",
         "showlegend": false,
         "textposition": "auto",
         "type": "bar",
         "x": [
          0,
          1,
          2,
          3,
          4,
          5
         ],
         "xaxis": "x17",
         "y": [
          0.32494279176201374,
          0.1945080091533181,
          0.16704805491990846,
          0.12585812356979406,
          0.08009153318077804,
          0.10755148741418764
         ],
         "yaxis": "y17"
        },
        {
         "alignmentgroup": "True",
         "hovertemplate": "Speaker=Dwight<br>Dominant_Topic=%{x}<br>=%{y}<extra></extra>",
         "legendgroup": "",
         "marker": {
          "color": "#636efa",
          "pattern": {
           "shape": ""
          }
         },
         "name": "",
         "offsetgroup": "",
         "orientation": "v",
         "showlegend": false,
         "textposition": "auto",
         "type": "bar",
         "x": [
          0,
          1,
          2,
          3,
          4,
          5
         ],
         "xaxis": "x18",
         "y": [
          0.2330839297332466,
          0.19729993493819128,
          0.14476252439817827,
          0.14931685100845804,
          0.14134677944046845,
          0.1341899804814574
         ],
         "yaxis": "y18"
        },
        {
         "alignmentgroup": "True",
         "hovertemplate": "Speaker=Erin<br>Dominant_Topic=%{x}<br>=%{y}<extra></extra>",
         "legendgroup": "",
         "marker": {
          "color": "#636efa",
          "pattern": {
           "shape": ""
          }
         },
         "name": "",
         "offsetgroup": "",
         "orientation": "v",
         "showlegend": false,
         "textposition": "auto",
         "type": "bar",
         "x": [
          0,
          1,
          2,
          3,
          4,
          5
         ],
         "xaxis": "x19",
         "y": [
          0.2913697545526524,
          0.1828978622327791,
          0.1290577988915281,
          0.12114014251781473,
          0.13064133016627077,
          0.14489311163895488
         ],
         "yaxis": "y19"
        },
        {
         "alignmentgroup": "True",
         "hovertemplate": "Speaker=Gabe<br>Dominant_Topic=%{x}<br>=%{y}<extra></extra>",
         "legendgroup": "",
         "marker": {
          "color": "#636efa",
          "pattern": {
           "shape": ""
          }
         },
         "name": "",
         "offsetgroup": "",
         "orientation": "v",
         "showlegend": false,
         "textposition": "auto",
         "type": "bar",
         "x": [
          0,
          1,
          2,
          3,
          4,
          5
         ],
         "xaxis": "x20",
         "y": [
          0.24040920716112532,
          0.21483375959079284,
          0.11253196930946291,
          0.1867007672634271,
          0.12276214833759591,
          0.12276214833759591
         ],
         "yaxis": "y20"
        },
        {
         "alignmentgroup": "True",
         "hovertemplate": "Speaker=Holly<br>Dominant_Topic=%{x}<br>=%{y}<extra></extra>",
         "legendgroup": "",
         "marker": {
          "color": "#636efa",
          "pattern": {
           "shape": ""
          }
         },
         "name": "",
         "offsetgroup": "",
         "orientation": "v",
         "showlegend": false,
         "textposition": "auto",
         "type": "bar",
         "x": [
          0,
          1,
          2,
          3,
          4,
          5
         ],
         "xaxis": "x13",
         "y": [
          0.2765072765072765,
          0.20997920997921,
          0.13721413721413722,
          0.11226611226611227,
          0.12681912681912683,
          0.13721413721413722
         ],
         "yaxis": "y13"
        },
        {
         "alignmentgroup": "True",
         "hovertemplate": "Speaker=Jan<br>Dominant_Topic=%{x}<br>=%{y}<extra></extra>",
         "legendgroup": "",
         "marker": {
          "color": "#636efa",
          "pattern": {
           "shape": ""
          }
         },
         "name": "",
         "offsetgroup": "",
         "orientation": "v",
         "showlegend": false,
         "textposition": "auto",
         "type": "bar",
         "x": [
          0,
          1,
          2,
          3,
          4,
          5
         ],
         "xaxis": "x14",
         "y": [
          0.2948539638386648,
          0.18636995827538247,
          0.13073713490959665,
          0.16968011126564672,
          0.10848400556328233,
          0.10987482614742698
         ],
         "yaxis": "y14"
        },
        {
         "alignmentgroup": "True",
         "hovertemplate": "Speaker=Jim<br>Dominant_Topic=%{x}<br>=%{y}<extra></extra>",
         "legendgroup": "",
         "marker": {
          "color": "#636efa",
          "pattern": {
           "shape": ""
          }
         },
         "name": "",
         "offsetgroup": "",
         "orientation": "v",
         "showlegend": false,
         "textposition": "auto",
         "type": "bar",
         "x": [
          0,
          1,
          2,
          3,
          4,
          5
         ],
         "xaxis": "x15",
         "y": [
          0.2425414364640884,
          0.17808471454880295,
          0.15948434622467772,
          0.14548802946593,
          0.1419889502762431,
          0.13241252302025783
         ],
         "yaxis": "y15"
        },
        {
         "alignmentgroup": "True",
         "hovertemplate": "Speaker=Kelly<br>Dominant_Topic=%{x}<br>=%{y}<extra></extra>",
         "legendgroup": "",
         "marker": {
          "color": "#636efa",
          "pattern": {
           "shape": ""
          }
         },
         "name": "",
         "offsetgroup": "",
         "orientation": "v",
         "showlegend": false,
         "textposition": "auto",
         "type": "bar",
         "x": [
          0,
          1,
          2,
          3,
          4,
          5
         ],
         "xaxis": "x16",
         "y": [
          0.22033898305084745,
          0.1864406779661017,
          0.14602346805736635,
          0.13689700130378096,
          0.1421121251629726,
          0.1681877444589309
         ],
         "yaxis": "y16"
        },
        {
         "alignmentgroup": "True",
         "hovertemplate": "Speaker=Kevin<br>Dominant_Topic=%{x}<br>=%{y}<extra></extra>",
         "legendgroup": "",
         "marker": {
          "color": "#636efa",
          "pattern": {
           "shape": ""
          }
         },
         "name": "",
         "offsetgroup": "",
         "orientation": "v",
         "showlegend": false,
         "textposition": "auto",
         "type": "bar",
         "x": [
          0,
          1,
          2,
          3,
          4,
          5
         ],
         "xaxis": "x9",
         "y": [
          0.23871906841339155,
          0.1703056768558952,
          0.14410480349344978,
          0.13100436681222707,
          0.14119359534206696,
          0.17467248908296942
         ],
         "yaxis": "y9"
        },
        {
         "alignmentgroup": "True",
         "hovertemplate": "Speaker=Meredith<br>Dominant_Topic=%{x}<br>=%{y}<extra></extra>",
         "legendgroup": "",
         "marker": {
          "color": "#636efa",
          "pattern": {
           "shape": ""
          }
         },
         "name": "",
         "offsetgroup": "",
         "orientation": "v",
         "showlegend": false,
         "textposition": "auto",
         "type": "bar",
         "x": [
          0,
          1,
          2,
          3,
          4,
          5
         ],
         "xaxis": "x10",
         "y": [
          0.23255813953488372,
          0.17054263565891473,
          0.12790697674418605,
          0.12790697674418605,
          0.16472868217054262,
          0.17635658914728683
         ],
         "yaxis": "y10"
        },
        {
         "alignmentgroup": "True",
         "hovertemplate": "Speaker=Michael<br>Dominant_Topic=%{x}<br>=%{y}<extra></extra>",
         "legendgroup": "",
         "marker": {
          "color": "#636efa",
          "pattern": {
           "shape": ""
          }
         },
         "name": "",
         "offsetgroup": "",
         "orientation": "v",
         "showlegend": false,
         "textposition": "auto",
         "type": "bar",
         "x": [
          0,
          1,
          2,
          3,
          4,
          5
         ],
         "xaxis": "x11",
         "y": [
          0.23210633946830267,
          0.20214723926380368,
          0.14376278118609406,
          0.15204498977505113,
          0.1325153374233129,
          0.1374233128834356
         ],
         "yaxis": "y11"
        },
        {
         "alignmentgroup": "True",
         "hovertemplate": "Speaker=Nellie Bertram<br>Dominant_Topic=%{x}<br>=%{y}<extra></extra>",
         "legendgroup": "",
         "marker": {
          "color": "#636efa",
          "pattern": {
           "shape": ""
          }
         },
         "name": "",
         "offsetgroup": "",
         "orientation": "v",
         "showlegend": false,
         "textposition": "auto",
         "type": "bar",
         "x": [
          0,
          1,
          2,
          3,
          4,
          5
         ],
         "xaxis": "x12",
         "y": [
          0.21593291404612158,
          0.21174004192872117,
          0.129979035639413,
          0.10482180293501048,
          0.16352201257861634,
          0.1740041928721174
         ],
         "yaxis": "y12"
        },
        {
         "alignmentgroup": "True",
         "hovertemplate": "Speaker=Oscar<br>Dominant_Topic=%{x}<br>=%{y}<extra></extra>",
         "legendgroup": "",
         "marker": {
          "color": "#636efa",
          "pattern": {
           "shape": ""
          }
         },
         "name": "",
         "offsetgroup": "",
         "orientation": "v",
         "showlegend": false,
         "textposition": "auto",
         "type": "bar",
         "x": [
          0,
          1,
          2,
          3,
          4,
          5
         ],
         "xaxis": "x5",
         "y": [
          0.2579298831385643,
          0.19532554257095158,
          0.1285475792988314,
          0.14941569282136896,
          0.12437395659432388,
          0.14440734557595994
         ],
         "yaxis": "y5"
        },
        {
         "alignmentgroup": "True",
         "hovertemplate": "Speaker=Pam<br>Dominant_Topic=%{x}<br>=%{y}<extra></extra>",
         "legendgroup": "",
         "marker": {
          "color": "#636efa",
          "pattern": {
           "shape": ""
          }
         },
         "name": "",
         "offsetgroup": "",
         "orientation": "v",
         "showlegend": false,
         "textposition": "auto",
         "type": "bar",
         "x": [
          0,
          1,
          2,
          3,
          4,
          5
         ],
         "xaxis": "x6",
         "y": [
          0.27490312286300433,
          0.18486437200820607,
          0.13585593799863233,
          0.12970139047184864,
          0.13289263733758833,
          0.1417825393207203
         ],
         "yaxis": "y6"
        },
        {
         "alignmentgroup": "True",
         "hovertemplate": "Speaker=Phyllis<br>Dominant_Topic=%{x}<br>=%{y}<extra></extra>",
         "legendgroup": "",
         "marker": {
          "color": "#636efa",
          "pattern": {
           "shape": ""
          }
         },
         "name": "",
         "offsetgroup": "",
         "orientation": "v",
         "showlegend": false,
         "textposition": "auto",
         "type": "bar",
         "x": [
          0,
          1,
          2,
          3,
          4,
          5
         ],
         "xaxis": "x7",
         "y": [
          0.2448512585812357,
          0.19794050343249428,
          0.15331807780320367,
          0.10183066361556065,
          0.14759725400457666,
          0.15446224256292906
         ],
         "yaxis": "y7"
        },
        {
         "alignmentgroup": "True",
         "hovertemplate": "Speaker=Robert California<br>Dominant_Topic=%{x}<br>=%{y}<extra></extra>",
         "legendgroup": "",
         "marker": {
          "color": "#636efa",
          "pattern": {
           "shape": ""
          }
         },
         "name": "",
         "offsetgroup": "",
         "orientation": "v",
         "showlegend": false,
         "textposition": "auto",
         "type": "bar",
         "x": [
          0,
          1,
          2,
          3,
          4,
          5
         ],
         "xaxis": "x8",
         "y": [
          0.21464646464646464,
          0.19696969696969696,
          0.13383838383838384,
          0.1893939393939394,
          0.09595959595959595,
          0.1691919191919192
         ],
         "yaxis": "y8"
        },
        {
         "alignmentgroup": "True",
         "hovertemplate": "Speaker=Ryan<br>Dominant_Topic=%{x}<br>=%{y}<extra></extra>",
         "legendgroup": "",
         "marker": {
          "color": "#636efa",
          "pattern": {
           "shape": ""
          }
         },
         "name": "",
         "offsetgroup": "",
         "orientation": "v",
         "showlegend": false,
         "textposition": "auto",
         "type": "bar",
         "x": [
          0,
          1,
          2,
          3,
          4,
          5
         ],
         "xaxis": "x",
         "y": [
          0.24551463644948066,
          0.21529745042492918,
          0.1369216241737488,
          0.125590179414542,
          0.13314447592067988,
          0.14353163361661944
         ],
         "yaxis": "y"
        },
        {
         "alignmentgroup": "True",
         "hovertemplate": "Speaker=Stanley<br>Dominant_Topic=%{x}<br>=%{y}<extra></extra>",
         "legendgroup": "",
         "marker": {
          "color": "#636efa",
          "pattern": {
           "shape": ""
          }
         },
         "name": "",
         "offsetgroup": "",
         "orientation": "v",
         "showlegend": false,
         "textposition": "auto",
         "type": "bar",
         "x": [
          0,
          1,
          2,
          3,
          4,
          5
         ],
         "xaxis": "x2",
         "y": [
          0.21241830065359477,
          0.2238562091503268,
          0.10620915032679738,
          0.1388888888888889,
          0.1781045751633987,
          0.14052287581699346
         ],
         "yaxis": "y2"
        },
        {
         "alignmentgroup": "True",
         "hovertemplate": "Speaker=Toby<br>Dominant_Topic=%{x}<br>=%{y}<extra></extra>",
         "legendgroup": "",
         "marker": {
          "color": "#636efa",
          "pattern": {
           "shape": ""
          }
         },
         "name": "",
         "offsetgroup": "",
         "orientation": "v",
         "showlegend": false,
         "textposition": "auto",
         "type": "bar",
         "x": [
          0,
          1,
          2,
          3,
          4,
          5
         ],
         "xaxis": "x3",
         "y": [
          0.2594670406732118,
          0.1753155680224404,
          0.15427769985974754,
          0.14726507713884993,
          0.11079943899018233,
          0.15287517531556802
         ],
         "yaxis": "y3"
        }
       ],
       "layout": {
        "annotations": [
         {
          "font": {},
          "showarrow": false,
          "text": "Ryan",
          "x": 0.0875,
          "xanchor": "center",
          "xref": "paper",
          "y": 0.125,
          "yanchor": "bottom",
          "yref": "paper"
         },
         {
          "font": {},
          "showarrow": false,
          "text": "Stanley",
          "x": 0.36250000000000004,
          "xanchor": "center",
          "xref": "paper",
          "y": 0.125,
          "yanchor": "bottom",
          "yref": "paper"
         },
         {
          "font": {},
          "showarrow": false,
          "text": "Toby",
          "x": 0.6375000000000001,
          "xanchor": "center",
          "xref": "paper",
          "y": 0.125,
          "yanchor": "bottom",
          "yref": "paper"
         },
         {
          "font": {},
          "showarrow": false,
          "text": "Oscar",
          "x": 0.0875,
          "xanchor": "center",
          "xref": "paper",
          "y": 0.3,
          "yanchor": "bottom",
          "yref": "paper"
         },
         {
          "font": {},
          "showarrow": false,
          "text": "Pam",
          "x": 0.36250000000000004,
          "xanchor": "center",
          "xref": "paper",
          "y": 0.3,
          "yanchor": "bottom",
          "yref": "paper"
         },
         {
          "font": {},
          "showarrow": false,
          "text": "Phyllis",
          "x": 0.6375000000000001,
          "xanchor": "center",
          "xref": "paper",
          "y": 0.3,
          "yanchor": "bottom",
          "yref": "paper"
         },
         {
          "font": {},
          "showarrow": false,
          "text": "Robert California",
          "x": 0.9125,
          "xanchor": "center",
          "xref": "paper",
          "y": 0.3,
          "yanchor": "bottom",
          "yref": "paper"
         },
         {
          "font": {},
          "showarrow": false,
          "text": "Kevin",
          "x": 0.0875,
          "xanchor": "center",
          "xref": "paper",
          "y": 0.475,
          "yanchor": "bottom",
          "yref": "paper"
         },
         {
          "font": {},
          "showarrow": false,
          "text": "Meredith",
          "x": 0.36250000000000004,
          "xanchor": "center",
          "xref": "paper",
          "y": 0.475,
          "yanchor": "bottom",
          "yref": "paper"
         },
         {
          "font": {},
          "showarrow": false,
          "text": "Michael",
          "x": 0.6375000000000001,
          "xanchor": "center",
          "xref": "paper",
          "y": 0.475,
          "yanchor": "bottom",
          "yref": "paper"
         },
         {
          "font": {},
          "showarrow": false,
          "text": "Nellie Bertram",
          "x": 0.9125,
          "xanchor": "center",
          "xref": "paper",
          "y": 0.475,
          "yanchor": "bottom",
          "yref": "paper"
         },
         {
          "font": {},
          "showarrow": false,
          "text": "Holly",
          "x": 0.0875,
          "xanchor": "center",
          "xref": "paper",
          "y": 0.65,
          "yanchor": "bottom",
          "yref": "paper"
         },
         {
          "font": {},
          "showarrow": false,
          "text": "Jan",
          "x": 0.36250000000000004,
          "xanchor": "center",
          "xref": "paper",
          "y": 0.65,
          "yanchor": "bottom",
          "yref": "paper"
         },
         {
          "font": {},
          "showarrow": false,
          "text": "Jim",
          "x": 0.6375000000000001,
          "xanchor": "center",
          "xref": "paper",
          "y": 0.65,
          "yanchor": "bottom",
          "yref": "paper"
         },
         {
          "font": {},
          "showarrow": false,
          "text": "Kelly",
          "x": 0.9125,
          "xanchor": "center",
          "xref": "paper",
          "y": 0.65,
          "yanchor": "bottom",
          "yref": "paper"
         },
         {
          "font": {},
          "showarrow": false,
          "text": "David Wallace",
          "x": 0.0875,
          "xanchor": "center",
          "xref": "paper",
          "y": 0.825,
          "yanchor": "bottom",
          "yref": "paper"
         },
         {
          "font": {},
          "showarrow": false,
          "text": "Dwight",
          "x": 0.36250000000000004,
          "xanchor": "center",
          "xref": "paper",
          "y": 0.825,
          "yanchor": "bottom",
          "yref": "paper"
         },
         {
          "font": {},
          "showarrow": false,
          "text": "Erin",
          "x": 0.6375000000000001,
          "xanchor": "center",
          "xref": "paper",
          "y": 0.825,
          "yanchor": "bottom",
          "yref": "paper"
         },
         {
          "font": {},
          "showarrow": false,
          "text": "Gabe",
          "x": 0.9125,
          "xanchor": "center",
          "xref": "paper",
          "y": 0.825,
          "yanchor": "bottom",
          "yref": "paper"
         },
         {
          "font": {},
          "showarrow": false,
          "text": "Andy",
          "x": 0.0875,
          "xanchor": "center",
          "xref": "paper",
          "y": 1,
          "yanchor": "bottom",
          "yref": "paper"
         },
         {
          "font": {},
          "showarrow": false,
          "text": "Angela",
          "x": 0.36250000000000004,
          "xanchor": "center",
          "xref": "paper",
          "y": 1,
          "yanchor": "bottom",
          "yref": "paper"
         },
         {
          "font": {},
          "showarrow": false,
          "text": "Creed",
          "x": 0.6375000000000001,
          "xanchor": "center",
          "xref": "paper",
          "y": 1,
          "yanchor": "bottom",
          "yref": "paper"
         },
         {
          "font": {},
          "showarrow": false,
          "text": "Darryl",
          "x": 0.9125,
          "xanchor": "center",
          "xref": "paper",
          "y": 1,
          "yanchor": "bottom",
          "yref": "paper"
         }
        ],
        "barmode": "relative",
        "height": 950,
        "legend": {
         "tracegroupgap": 0
        },
        "showlegend": false,
        "template": {
         "data": {
          "bar": [
           {
            "error_x": {
             "color": "#2a3f5f"
            },
            "error_y": {
             "color": "#2a3f5f"
            },
            "marker": {
             "line": {
              "color": "#E5ECF6",
              "width": 0.5
             },
             "pattern": {
              "fillmode": "overlay",
              "size": 10,
              "solidity": 0.2
             }
            },
            "type": "bar"
           }
          ],
          "barpolar": [
           {
            "marker": {
             "line": {
              "color": "#E5ECF6",
              "width": 0.5
             },
             "pattern": {
              "fillmode": "overlay",
              "size": 10,
              "solidity": 0.2
             }
            },
            "type": "barpolar"
           }
          ],
          "carpet": [
           {
            "aaxis": {
             "endlinecolor": "#2a3f5f",
             "gridcolor": "white",
             "linecolor": "white",
             "minorgridcolor": "white",
             "startlinecolor": "#2a3f5f"
            },
            "baxis": {
             "endlinecolor": "#2a3f5f",
             "gridcolor": "white",
             "linecolor": "white",
             "minorgridcolor": "white",
             "startlinecolor": "#2a3f5f"
            },
            "type": "carpet"
           }
          ],
          "choropleth": [
           {
            "colorbar": {
             "outlinewidth": 0,
             "ticks": ""
            },
            "type": "choropleth"
           }
          ],
          "contour": [
           {
            "colorbar": {
             "outlinewidth": 0,
             "ticks": ""
            },
            "colorscale": [
             [
              0,
              "#0d0887"
             ],
             [
              0.1111111111111111,
              "#46039f"
             ],
             [
              0.2222222222222222,
              "#7201a8"
             ],
             [
              0.3333333333333333,
              "#9c179e"
             ],
             [
              0.4444444444444444,
              "#bd3786"
             ],
             [
              0.5555555555555556,
              "#d8576b"
             ],
             [
              0.6666666666666666,
              "#ed7953"
             ],
             [
              0.7777777777777778,
              "#fb9f3a"
             ],
             [
              0.8888888888888888,
              "#fdca26"
             ],
             [
              1,
              "#f0f921"
             ]
            ],
            "type": "contour"
           }
          ],
          "contourcarpet": [
           {
            "colorbar": {
             "outlinewidth": 0,
             "ticks": ""
            },
            "type": "contourcarpet"
           }
          ],
          "heatmap": [
           {
            "colorbar": {
             "outlinewidth": 0,
             "ticks": ""
            },
            "colorscale": [
             [
              0,
              "#0d0887"
             ],
             [
              0.1111111111111111,
              "#46039f"
             ],
             [
              0.2222222222222222,
              "#7201a8"
             ],
             [
              0.3333333333333333,
              "#9c179e"
             ],
             [
              0.4444444444444444,
              "#bd3786"
             ],
             [
              0.5555555555555556,
              "#d8576b"
             ],
             [
              0.6666666666666666,
              "#ed7953"
             ],
             [
              0.7777777777777778,
              "#fb9f3a"
             ],
             [
              0.8888888888888888,
              "#fdca26"
             ],
             [
              1,
              "#f0f921"
             ]
            ],
            "type": "heatmap"
           }
          ],
          "heatmapgl": [
           {
            "colorbar": {
             "outlinewidth": 0,
             "ticks": ""
            },
            "colorscale": [
             [
              0,
              "#0d0887"
             ],
             [
              0.1111111111111111,
              "#46039f"
             ],
             [
              0.2222222222222222,
              "#7201a8"
             ],
             [
              0.3333333333333333,
              "#9c179e"
             ],
             [
              0.4444444444444444,
              "#bd3786"
             ],
             [
              0.5555555555555556,
              "#d8576b"
             ],
             [
              0.6666666666666666,
              "#ed7953"
             ],
             [
              0.7777777777777778,
              "#fb9f3a"
             ],
             [
              0.8888888888888888,
              "#fdca26"
             ],
             [
              1,
              "#f0f921"
             ]
            ],
            "type": "heatmapgl"
           }
          ],
          "histogram": [
           {
            "marker": {
             "pattern": {
              "fillmode": "overlay",
              "size": 10,
              "solidity": 0.2
             }
            },
            "type": "histogram"
           }
          ],
          "histogram2d": [
           {
            "colorbar": {
             "outlinewidth": 0,
             "ticks": ""
            },
            "colorscale": [
             [
              0,
              "#0d0887"
             ],
             [
              0.1111111111111111,
              "#46039f"
             ],
             [
              0.2222222222222222,
              "#7201a8"
             ],
             [
              0.3333333333333333,
              "#9c179e"
             ],
             [
              0.4444444444444444,
              "#bd3786"
             ],
             [
              0.5555555555555556,
              "#d8576b"
             ],
             [
              0.6666666666666666,
              "#ed7953"
             ],
             [
              0.7777777777777778,
              "#fb9f3a"
             ],
             [
              0.8888888888888888,
              "#fdca26"
             ],
             [
              1,
              "#f0f921"
             ]
            ],
            "type": "histogram2d"
           }
          ],
          "histogram2dcontour": [
           {
            "colorbar": {
             "outlinewidth": 0,
             "ticks": ""
            },
            "colorscale": [
             [
              0,
              "#0d0887"
             ],
             [
              0.1111111111111111,
              "#46039f"
             ],
             [
              0.2222222222222222,
              "#7201a8"
             ],
             [
              0.3333333333333333,
              "#9c179e"
             ],
             [
              0.4444444444444444,
              "#bd3786"
             ],
             [
              0.5555555555555556,
              "#d8576b"
             ],
             [
              0.6666666666666666,
              "#ed7953"
             ],
             [
              0.7777777777777778,
              "#fb9f3a"
             ],
             [
              0.8888888888888888,
              "#fdca26"
             ],
             [
              1,
              "#f0f921"
             ]
            ],
            "type": "histogram2dcontour"
           }
          ],
          "mesh3d": [
           {
            "colorbar": {
             "outlinewidth": 0,
             "ticks": ""
            },
            "type": "mesh3d"
           }
          ],
          "parcoords": [
           {
            "line": {
             "colorbar": {
              "outlinewidth": 0,
              "ticks": ""
             }
            },
            "type": "parcoords"
           }
          ],
          "pie": [
           {
            "automargin": true,
            "type": "pie"
           }
          ],
          "scatter": [
           {
            "marker": {
             "colorbar": {
              "outlinewidth": 0,
              "ticks": ""
             }
            },
            "type": "scatter"
           }
          ],
          "scatter3d": [
           {
            "line": {
             "colorbar": {
              "outlinewidth": 0,
              "ticks": ""
             }
            },
            "marker": {
             "colorbar": {
              "outlinewidth": 0,
              "ticks": ""
             }
            },
            "type": "scatter3d"
           }
          ],
          "scattercarpet": [
           {
            "marker": {
             "colorbar": {
              "outlinewidth": 0,
              "ticks": ""
             }
            },
            "type": "scattercarpet"
           }
          ],
          "scattergeo": [
           {
            "marker": {
             "colorbar": {
              "outlinewidth": 0,
              "ticks": ""
             }
            },
            "type": "scattergeo"
           }
          ],
          "scattergl": [
           {
            "marker": {
             "colorbar": {
              "outlinewidth": 0,
              "ticks": ""
             }
            },
            "type": "scattergl"
           }
          ],
          "scattermapbox": [
           {
            "marker": {
             "colorbar": {
              "outlinewidth": 0,
              "ticks": ""
             }
            },
            "type": "scattermapbox"
           }
          ],
          "scatterpolar": [
           {
            "marker": {
             "colorbar": {
              "outlinewidth": 0,
              "ticks": ""
             }
            },
            "type": "scatterpolar"
           }
          ],
          "scatterpolargl": [
           {
            "marker": {
             "colorbar": {
              "outlinewidth": 0,
              "ticks": ""
             }
            },
            "type": "scatterpolargl"
           }
          ],
          "scatterternary": [
           {
            "marker": {
             "colorbar": {
              "outlinewidth": 0,
              "ticks": ""
             }
            },
            "type": "scatterternary"
           }
          ],
          "surface": [
           {
            "colorbar": {
             "outlinewidth": 0,
             "ticks": ""
            },
            "colorscale": [
             [
              0,
              "#0d0887"
             ],
             [
              0.1111111111111111,
              "#46039f"
             ],
             [
              0.2222222222222222,
              "#7201a8"
             ],
             [
              0.3333333333333333,
              "#9c179e"
             ],
             [
              0.4444444444444444,
              "#bd3786"
             ],
             [
              0.5555555555555556,
              "#d8576b"
             ],
             [
              0.6666666666666666,
              "#ed7953"
             ],
             [
              0.7777777777777778,
              "#fb9f3a"
             ],
             [
              0.8888888888888888,
              "#fdca26"
             ],
             [
              1,
              "#f0f921"
             ]
            ],
            "type": "surface"
           }
          ],
          "table": [
           {
            "cells": {
             "fill": {
              "color": "#EBF0F8"
             },
             "line": {
              "color": "white"
             }
            },
            "header": {
             "fill": {
              "color": "#C8D4E3"
             },
             "line": {
              "color": "white"
             }
            },
            "type": "table"
           }
          ]
         },
         "layout": {
          "annotationdefaults": {
           "arrowcolor": "#2a3f5f",
           "arrowhead": 0,
           "arrowwidth": 1
          },
          "autotypenumbers": "strict",
          "coloraxis": {
           "colorbar": {
            "outlinewidth": 0,
            "ticks": ""
           }
          },
          "colorscale": {
           "diverging": [
            [
             0,
             "#8e0152"
            ],
            [
             0.1,
             "#c51b7d"
            ],
            [
             0.2,
             "#de77ae"
            ],
            [
             0.3,
             "#f1b6da"
            ],
            [
             0.4,
             "#fde0ef"
            ],
            [
             0.5,
             "#f7f7f7"
            ],
            [
             0.6,
             "#e6f5d0"
            ],
            [
             0.7,
             "#b8e186"
            ],
            [
             0.8,
             "#7fbc41"
            ],
            [
             0.9,
             "#4d9221"
            ],
            [
             1,
             "#276419"
            ]
           ],
           "sequential": [
            [
             0,
             "#0d0887"
            ],
            [
             0.1111111111111111,
             "#46039f"
            ],
            [
             0.2222222222222222,
             "#7201a8"
            ],
            [
             0.3333333333333333,
             "#9c179e"
            ],
            [
             0.4444444444444444,
             "#bd3786"
            ],
            [
             0.5555555555555556,
             "#d8576b"
            ],
            [
             0.6666666666666666,
             "#ed7953"
            ],
            [
             0.7777777777777778,
             "#fb9f3a"
            ],
            [
             0.8888888888888888,
             "#fdca26"
            ],
            [
             1,
             "#f0f921"
            ]
           ],
           "sequentialminus": [
            [
             0,
             "#0d0887"
            ],
            [
             0.1111111111111111,
             "#46039f"
            ],
            [
             0.2222222222222222,
             "#7201a8"
            ],
            [
             0.3333333333333333,
             "#9c179e"
            ],
            [
             0.4444444444444444,
             "#bd3786"
            ],
            [
             0.5555555555555556,
             "#d8576b"
            ],
            [
             0.6666666666666666,
             "#ed7953"
            ],
            [
             0.7777777777777778,
             "#fb9f3a"
            ],
            [
             0.8888888888888888,
             "#fdca26"
            ],
            [
             1,
             "#f0f921"
            ]
           ]
          },
          "colorway": [
           "#636efa",
           "#EF553B",
           "#00cc96",
           "#ab63fa",
           "#FFA15A",
           "#19d3f3",
           "#FF6692",
           "#B6E880",
           "#FF97FF",
           "#FECB52"
          ],
          "font": {
           "color": "#2a3f5f"
          },
          "geo": {
           "bgcolor": "white",
           "lakecolor": "white",
           "landcolor": "#E5ECF6",
           "showlakes": true,
           "showland": true,
           "subunitcolor": "white"
          },
          "hoverlabel": {
           "align": "left"
          },
          "hovermode": "closest",
          "mapbox": {
           "style": "light"
          },
          "paper_bgcolor": "white",
          "plot_bgcolor": "#E5ECF6",
          "polar": {
           "angularaxis": {
            "gridcolor": "white",
            "linecolor": "white",
            "ticks": ""
           },
           "bgcolor": "#E5ECF6",
           "radialaxis": {
            "gridcolor": "white",
            "linecolor": "white",
            "ticks": ""
           }
          },
          "scene": {
           "xaxis": {
            "backgroundcolor": "#E5ECF6",
            "gridcolor": "white",
            "gridwidth": 2,
            "linecolor": "white",
            "showbackground": true,
            "ticks": "",
            "zerolinecolor": "white"
           },
           "yaxis": {
            "backgroundcolor": "#E5ECF6",
            "gridcolor": "white",
            "gridwidth": 2,
            "linecolor": "white",
            "showbackground": true,
            "ticks": "",
            "zerolinecolor": "white"
           },
           "zaxis": {
            "backgroundcolor": "#E5ECF6",
            "gridcolor": "white",
            "gridwidth": 2,
            "linecolor": "white",
            "showbackground": true,
            "ticks": "",
            "zerolinecolor": "white"
           }
          },
          "shapedefaults": {
           "line": {
            "color": "#2a3f5f"
           }
          },
          "ternary": {
           "aaxis": {
            "gridcolor": "white",
            "linecolor": "white",
            "ticks": ""
           },
           "baxis": {
            "gridcolor": "white",
            "linecolor": "white",
            "ticks": ""
           },
           "bgcolor": "#E5ECF6",
           "caxis": {
            "gridcolor": "white",
            "linecolor": "white",
            "ticks": ""
           }
          },
          "title": {
           "x": 0.05
          },
          "xaxis": {
           "automargin": true,
           "gridcolor": "white",
           "linecolor": "white",
           "ticks": "",
           "title": {
            "standoff": 15
           },
           "zerolinecolor": "white",
           "zerolinewidth": 2
          },
          "yaxis": {
           "automargin": true,
           "gridcolor": "white",
           "linecolor": "white",
           "ticks": "",
           "title": {
            "standoff": 15
           },
           "zerolinecolor": "white",
           "zerolinewidth": 2
          }
         }
        },
        "title": {
         "text": "Distribution of topics among top characters"
        },
        "width": 950,
        "xaxis": {
         "anchor": "y",
         "domain": [
          0,
          0.175
         ],
         "showticklabels": true,
         "tickfont": {
          "size": 10
         },
         "title": {
          "text": "Dominant_Topic"
         }
        },
        "xaxis10": {
         "anchor": "y10",
         "domain": [
          0.275,
          0.45
         ],
         "showticklabels": true,
         "tickfont": {
          "size": 10
         }
        },
        "xaxis11": {
         "anchor": "y11",
         "domain": [
          0.55,
          0.7250000000000001
         ],
         "showticklabels": true,
         "tickfont": {
          "size": 10
         }
        },
        "xaxis12": {
         "anchor": "y12",
         "domain": [
          0.825,
          1
         ],
         "showticklabels": true,
         "tickfont": {
          "size": 10
         }
        },
        "xaxis13": {
         "anchor": "y13",
         "domain": [
          0,
          0.175
         ],
         "showticklabels": true,
         "tickfont": {
          "size": 10
         }
        },
        "xaxis14": {
         "anchor": "y14",
         "domain": [
          0.275,
          0.45
         ],
         "showticklabels": true,
         "tickfont": {
          "size": 10
         }
        },
        "xaxis15": {
         "anchor": "y15",
         "domain": [
          0.55,
          0.7250000000000001
         ],
         "showticklabels": true,
         "tickfont": {
          "size": 10
         }
        },
        "xaxis16": {
         "anchor": "y16",
         "domain": [
          0.825,
          1
         ],
         "showticklabels": true,
         "tickfont": {
          "size": 10
         }
        },
        "xaxis17": {
         "anchor": "y17",
         "domain": [
          0,
          0.175
         ],
         "showticklabels": true,
         "tickfont": {
          "size": 10
         }
        },
        "xaxis18": {
         "anchor": "y18",
         "domain": [
          0.275,
          0.45
         ],
         "showticklabels": true,
         "tickfont": {
          "size": 10
         }
        },
        "xaxis19": {
         "anchor": "y19",
         "domain": [
          0.55,
          0.7250000000000001
         ],
         "showticklabels": true,
         "tickfont": {
          "size": 10
         }
        },
        "xaxis2": {
         "anchor": "y2",
         "domain": [
          0.275,
          0.45
         ],
         "showticklabels": true,
         "tickfont": {
          "size": 10
         },
         "title": {
          "text": "Dominant_Topic"
         }
        },
        "xaxis20": {
         "anchor": "y20",
         "domain": [
          0.825,
          1
         ],
         "showticklabels": true,
         "tickfont": {
          "size": 10
         }
        },
        "xaxis21": {
         "anchor": "y21",
         "domain": [
          0,
          0.175
         ],
         "showticklabels": true,
         "tickfont": {
          "size": 10
         }
        },
        "xaxis22": {
         "anchor": "y22",
         "domain": [
          0.275,
          0.45
         ],
         "showticklabels": true,
         "tickfont": {
          "size": 10
         }
        },
        "xaxis23": {
         "anchor": "y23",
         "domain": [
          0.55,
          0.7250000000000001
         ],
         "showticklabels": true,
         "tickfont": {
          "size": 10
         }
        },
        "xaxis24": {
         "anchor": "y24",
         "domain": [
          0.825,
          1
         ],
         "showticklabels": true,
         "tickfont": {
          "size": 10
         }
        },
        "xaxis3": {
         "anchor": "y3",
         "domain": [
          0.55,
          0.7250000000000001
         ],
         "showticklabels": true,
         "tickfont": {
          "size": 10
         },
         "title": {
          "text": "Dominant_Topic"
         }
        },
        "xaxis4": {
         "anchor": "y4",
         "domain": [
          0.825,
          1
         ],
         "showticklabels": true,
         "tickfont": {
          "size": 10
         },
         "title": {
          "text": "Dominant_Topic"
         }
        },
        "xaxis5": {
         "anchor": "y5",
         "domain": [
          0,
          0.175
         ],
         "showticklabels": true,
         "tickfont": {
          "size": 10
         }
        },
        "xaxis6": {
         "anchor": "y6",
         "domain": [
          0.275,
          0.45
         ],
         "showticklabels": true,
         "tickfont": {
          "size": 10
         }
        },
        "xaxis7": {
         "anchor": "y7",
         "domain": [
          0.55,
          0.7250000000000001
         ],
         "showticklabels": true,
         "tickfont": {
          "size": 10
         }
        },
        "xaxis8": {
         "anchor": "y8",
         "domain": [
          0.825,
          1
         ],
         "showticklabels": true,
         "tickfont": {
          "size": 10
         }
        },
        "xaxis9": {
         "anchor": "y9",
         "domain": [
          0,
          0.175
         ],
         "showticklabels": true,
         "tickfont": {
          "size": 10
         }
        },
        "yaxis": {
         "anchor": "x",
         "domain": [
          0,
          0.125
         ],
         "showticklabels": true,
         "tickfont": {
          "size": 10
         },
         "title": {
          "text": ""
         }
        },
        "yaxis10": {
         "anchor": "x10",
         "domain": [
          0.35,
          0.475
         ],
         "showticklabels": true,
         "tickfont": {
          "size": 10
         }
        },
        "yaxis11": {
         "anchor": "x11",
         "domain": [
          0.35,
          0.475
         ],
         "showticklabels": true,
         "tickfont": {
          "size": 10
         }
        },
        "yaxis12": {
         "anchor": "x12",
         "domain": [
          0.35,
          0.475
         ],
         "showticklabels": true,
         "tickfont": {
          "size": 10
         }
        },
        "yaxis13": {
         "anchor": "x13",
         "domain": [
          0.525,
          0.65
         ],
         "showticklabels": true,
         "tickfont": {
          "size": 10
         },
         "title": {
          "text": ""
         }
        },
        "yaxis14": {
         "anchor": "x14",
         "domain": [
          0.525,
          0.65
         ],
         "showticklabels": true,
         "tickfont": {
          "size": 10
         }
        },
        "yaxis15": {
         "anchor": "x15",
         "domain": [
          0.525,
          0.65
         ],
         "showticklabels": true,
         "tickfont": {
          "size": 10
         }
        },
        "yaxis16": {
         "anchor": "x16",
         "domain": [
          0.525,
          0.65
         ],
         "showticklabels": true,
         "tickfont": {
          "size": 10
         }
        },
        "yaxis17": {
         "anchor": "x17",
         "domain": [
          0.7,
          0.825
         ],
         "showticklabels": true,
         "tickfont": {
          "size": 10
         },
         "title": {
          "text": ""
         }
        },
        "yaxis18": {
         "anchor": "x18",
         "domain": [
          0.7,
          0.825
         ],
         "showticklabels": true,
         "tickfont": {
          "size": 10
         }
        },
        "yaxis19": {
         "anchor": "x19",
         "domain": [
          0.7,
          0.825
         ],
         "showticklabels": true,
         "tickfont": {
          "size": 10
         }
        },
        "yaxis2": {
         "anchor": "x2",
         "domain": [
          0,
          0.125
         ],
         "showticklabels": true,
         "tickfont": {
          "size": 10
         }
        },
        "yaxis20": {
         "anchor": "x20",
         "domain": [
          0.7,
          0.825
         ],
         "showticklabels": true,
         "tickfont": {
          "size": 10
         }
        },
        "yaxis21": {
         "anchor": "x21",
         "domain": [
          0.875,
          1
         ],
         "showticklabels": true,
         "tickfont": {
          "size": 10
         },
         "title": {
          "text": ""
         }
        },
        "yaxis22": {
         "anchor": "x22",
         "domain": [
          0.875,
          1
         ],
         "showticklabels": true,
         "tickfont": {
          "size": 10
         }
        },
        "yaxis23": {
         "anchor": "x23",
         "domain": [
          0.875,
          1
         ],
         "showticklabels": true,
         "tickfont": {
          "size": 10
         }
        },
        "yaxis24": {
         "anchor": "x24",
         "domain": [
          0.875,
          1
         ],
         "showticklabels": true,
         "tickfont": {
          "size": 10
         }
        },
        "yaxis3": {
         "anchor": "x3",
         "domain": [
          0,
          0.125
         ],
         "showticklabels": true,
         "tickfont": {
          "size": 10
         }
        },
        "yaxis4": {
         "anchor": "x4",
         "domain": [
          0,
          0.125
         ],
         "showticklabels": true,
         "tickfont": {
          "size": 10
         }
        },
        "yaxis5": {
         "anchor": "x5",
         "domain": [
          0.175,
          0.3
         ],
         "showticklabels": true,
         "tickfont": {
          "size": 10
         },
         "title": {
          "text": ""
         }
        },
        "yaxis6": {
         "anchor": "x6",
         "domain": [
          0.175,
          0.3
         ],
         "showticklabels": true,
         "tickfont": {
          "size": 10
         }
        },
        "yaxis7": {
         "anchor": "x7",
         "domain": [
          0.175,
          0.3
         ],
         "showticklabels": true,
         "tickfont": {
          "size": 10
         }
        },
        "yaxis8": {
         "anchor": "x8",
         "domain": [
          0.175,
          0.3
         ],
         "showticklabels": true,
         "tickfont": {
          "size": 10
         }
        },
        "yaxis9": {
         "anchor": "x9",
         "domain": [
          0.35,
          0.475
         ],
         "showticklabels": true,
         "tickfont": {
          "size": 10
         },
         "title": {
          "text": ""
         }
        }
       }
      },
      "text/html": [
       "<div>                            <div id=\"6c99d100-9a24-42eb-9913-5fa6aa8147c7\" class=\"plotly-graph-div\" style=\"height:950px; width:950px;\"></div>            <script type=\"text/javascript\">                require([\"plotly\"], function(Plotly) {                    window.PLOTLYENV=window.PLOTLYENV || {};                                    if (document.getElementById(\"6c99d100-9a24-42eb-9913-5fa6aa8147c7\")) {                    Plotly.newPlot(                        \"6c99d100-9a24-42eb-9913-5fa6aa8147c7\",                        [{\"alignmentgroup\":\"True\",\"hovertemplate\":\"Speaker=Andy<br>Dominant_Topic=%{x}<br>=%{y}<extra></extra>\",\"legendgroup\":\"\",\"marker\":{\"color\":\"#636efa\",\"pattern\":{\"shape\":\"\"}},\"name\":\"\",\"offsetgroup\":\"\",\"orientation\":\"v\",\"showlegend\":false,\"textposition\":\"auto\",\"type\":\"bar\",\"x\":[0,1,2,3,4,5],\"xaxis\":\"x21\",\"y\":[0.22328966521106258,0.1868995633187773,0.14934497816593886,0.14992721979621543,0.13828238719068414,0.15225618631732168],\"yaxis\":\"y21\"},{\"alignmentgroup\":\"True\",\"hovertemplate\":\"Speaker=Angela<br>Dominant_Topic=%{x}<br>=%{y}<extra></extra>\",\"legendgroup\":\"\",\"marker\":{\"color\":\"#636efa\",\"pattern\":{\"shape\":\"\"}},\"name\":\"\",\"offsetgroup\":\"\",\"orientation\":\"v\",\"showlegend\":false,\"textposition\":\"auto\",\"type\":\"bar\",\"x\":[0,1,2,3,4,5],\"xaxis\":\"x22\",\"y\":[0.2487122884473878,0.18910963944076528,0.1309786607799853,0.12141280353200883,0.14863870493009565,0.16114790286975716],\"yaxis\":\"y22\"},{\"alignmentgroup\":\"True\",\"hovertemplate\":\"Speaker=Creed<br>Dominant_Topic=%{x}<br>=%{y}<extra></extra>\",\"legendgroup\":\"\",\"marker\":{\"color\":\"#636efa\",\"pattern\":{\"shape\":\"\"}},\"name\":\"\",\"offsetgroup\":\"\",\"orientation\":\"v\",\"showlegend\":false,\"textposition\":\"auto\",\"type\":\"bar\",\"x\":[0,1,2,3,4,5],\"xaxis\":\"x23\",\"y\":[0.1994535519125683,0.19672131147540983,0.1284153005464481,0.1366120218579235,0.1448087431693989,0.19398907103825136],\"yaxis\":\"y23\"},{\"alignmentgroup\":\"True\",\"hovertemplate\":\"Speaker=Darryl<br>Dominant_Topic=%{x}<br>=%{y}<extra></extra>\",\"legendgroup\":\"\",\"marker\":{\"color\":\"#636efa\",\"pattern\":{\"shape\":\"\"}},\"name\":\"\",\"offsetgroup\":\"\",\"orientation\":\"v\",\"showlegend\":false,\"textposition\":\"auto\",\"type\":\"bar\",\"x\":[0,1,2,3,4,5],\"xaxis\":\"x24\",\"y\":[0.23550724637681159,0.18931159420289856,0.15307971014492755,0.11775362318840579,0.13496376811594202,0.1693840579710145],\"yaxis\":\"y24\"},{\"alignmentgroup\":\"True\",\"hovertemplate\":\"Speaker=David Wallace<br>Dominant_Topic=%{x}<br>=%{y}<extra></extra>\",\"legendgroup\":\"\",\"marker\":{\"color\":\"#636efa\",\"pattern\":{\"shape\":\"\"}},\"name\":\"\",\"offsetgroup\":\"\",\"orientation\":\"v\",\"showlegend\":false,\"textposition\":\"auto\",\"type\":\"bar\",\"x\":[0,1,2,3,4,5],\"xaxis\":\"x17\",\"y\":[0.32494279176201374,0.1945080091533181,0.16704805491990846,0.12585812356979406,0.08009153318077804,0.10755148741418764],\"yaxis\":\"y17\"},{\"alignmentgroup\":\"True\",\"hovertemplate\":\"Speaker=Dwight<br>Dominant_Topic=%{x}<br>=%{y}<extra></extra>\",\"legendgroup\":\"\",\"marker\":{\"color\":\"#636efa\",\"pattern\":{\"shape\":\"\"}},\"name\":\"\",\"offsetgroup\":\"\",\"orientation\":\"v\",\"showlegend\":false,\"textposition\":\"auto\",\"type\":\"bar\",\"x\":[0,1,2,3,4,5],\"xaxis\":\"x18\",\"y\":[0.2330839297332466,0.19729993493819128,0.14476252439817827,0.14931685100845804,0.14134677944046845,0.1341899804814574],\"yaxis\":\"y18\"},{\"alignmentgroup\":\"True\",\"hovertemplate\":\"Speaker=Erin<br>Dominant_Topic=%{x}<br>=%{y}<extra></extra>\",\"legendgroup\":\"\",\"marker\":{\"color\":\"#636efa\",\"pattern\":{\"shape\":\"\"}},\"name\":\"\",\"offsetgroup\":\"\",\"orientation\":\"v\",\"showlegend\":false,\"textposition\":\"auto\",\"type\":\"bar\",\"x\":[0,1,2,3,4,5],\"xaxis\":\"x19\",\"y\":[0.2913697545526524,0.1828978622327791,0.1290577988915281,0.12114014251781473,0.13064133016627077,0.14489311163895488],\"yaxis\":\"y19\"},{\"alignmentgroup\":\"True\",\"hovertemplate\":\"Speaker=Gabe<br>Dominant_Topic=%{x}<br>=%{y}<extra></extra>\",\"legendgroup\":\"\",\"marker\":{\"color\":\"#636efa\",\"pattern\":{\"shape\":\"\"}},\"name\":\"\",\"offsetgroup\":\"\",\"orientation\":\"v\",\"showlegend\":false,\"textposition\":\"auto\",\"type\":\"bar\",\"x\":[0,1,2,3,4,5],\"xaxis\":\"x20\",\"y\":[0.24040920716112532,0.21483375959079284,0.11253196930946291,0.1867007672634271,0.12276214833759591,0.12276214833759591],\"yaxis\":\"y20\"},{\"alignmentgroup\":\"True\",\"hovertemplate\":\"Speaker=Holly<br>Dominant_Topic=%{x}<br>=%{y}<extra></extra>\",\"legendgroup\":\"\",\"marker\":{\"color\":\"#636efa\",\"pattern\":{\"shape\":\"\"}},\"name\":\"\",\"offsetgroup\":\"\",\"orientation\":\"v\",\"showlegend\":false,\"textposition\":\"auto\",\"type\":\"bar\",\"x\":[0,1,2,3,4,5],\"xaxis\":\"x13\",\"y\":[0.2765072765072765,0.20997920997921,0.13721413721413722,0.11226611226611227,0.12681912681912683,0.13721413721413722],\"yaxis\":\"y13\"},{\"alignmentgroup\":\"True\",\"hovertemplate\":\"Speaker=Jan<br>Dominant_Topic=%{x}<br>=%{y}<extra></extra>\",\"legendgroup\":\"\",\"marker\":{\"color\":\"#636efa\",\"pattern\":{\"shape\":\"\"}},\"name\":\"\",\"offsetgroup\":\"\",\"orientation\":\"v\",\"showlegend\":false,\"textposition\":\"auto\",\"type\":\"bar\",\"x\":[0,1,2,3,4,5],\"xaxis\":\"x14\",\"y\":[0.2948539638386648,0.18636995827538247,0.13073713490959665,0.16968011126564672,0.10848400556328233,0.10987482614742698],\"yaxis\":\"y14\"},{\"alignmentgroup\":\"True\",\"hovertemplate\":\"Speaker=Jim<br>Dominant_Topic=%{x}<br>=%{y}<extra></extra>\",\"legendgroup\":\"\",\"marker\":{\"color\":\"#636efa\",\"pattern\":{\"shape\":\"\"}},\"name\":\"\",\"offsetgroup\":\"\",\"orientation\":\"v\",\"showlegend\":false,\"textposition\":\"auto\",\"type\":\"bar\",\"x\":[0,1,2,3,4,5],\"xaxis\":\"x15\",\"y\":[0.2425414364640884,0.17808471454880295,0.15948434622467772,0.14548802946593,0.1419889502762431,0.13241252302025783],\"yaxis\":\"y15\"},{\"alignmentgroup\":\"True\",\"hovertemplate\":\"Speaker=Kelly<br>Dominant_Topic=%{x}<br>=%{y}<extra></extra>\",\"legendgroup\":\"\",\"marker\":{\"color\":\"#636efa\",\"pattern\":{\"shape\":\"\"}},\"name\":\"\",\"offsetgroup\":\"\",\"orientation\":\"v\",\"showlegend\":false,\"textposition\":\"auto\",\"type\":\"bar\",\"x\":[0,1,2,3,4,5],\"xaxis\":\"x16\",\"y\":[0.22033898305084745,0.1864406779661017,0.14602346805736635,0.13689700130378096,0.1421121251629726,0.1681877444589309],\"yaxis\":\"y16\"},{\"alignmentgroup\":\"True\",\"hovertemplate\":\"Speaker=Kevin<br>Dominant_Topic=%{x}<br>=%{y}<extra></extra>\",\"legendgroup\":\"\",\"marker\":{\"color\":\"#636efa\",\"pattern\":{\"shape\":\"\"}},\"name\":\"\",\"offsetgroup\":\"\",\"orientation\":\"v\",\"showlegend\":false,\"textposition\":\"auto\",\"type\":\"bar\",\"x\":[0,1,2,3,4,5],\"xaxis\":\"x9\",\"y\":[0.23871906841339155,0.1703056768558952,0.14410480349344978,0.13100436681222707,0.14119359534206696,0.17467248908296942],\"yaxis\":\"y9\"},{\"alignmentgroup\":\"True\",\"hovertemplate\":\"Speaker=Meredith<br>Dominant_Topic=%{x}<br>=%{y}<extra></extra>\",\"legendgroup\":\"\",\"marker\":{\"color\":\"#636efa\",\"pattern\":{\"shape\":\"\"}},\"name\":\"\",\"offsetgroup\":\"\",\"orientation\":\"v\",\"showlegend\":false,\"textposition\":\"auto\",\"type\":\"bar\",\"x\":[0,1,2,3,4,5],\"xaxis\":\"x10\",\"y\":[0.23255813953488372,0.17054263565891473,0.12790697674418605,0.12790697674418605,0.16472868217054262,0.17635658914728683],\"yaxis\":\"y10\"},{\"alignmentgroup\":\"True\",\"hovertemplate\":\"Speaker=Michael<br>Dominant_Topic=%{x}<br>=%{y}<extra></extra>\",\"legendgroup\":\"\",\"marker\":{\"color\":\"#636efa\",\"pattern\":{\"shape\":\"\"}},\"name\":\"\",\"offsetgroup\":\"\",\"orientation\":\"v\",\"showlegend\":false,\"textposition\":\"auto\",\"type\":\"bar\",\"x\":[0,1,2,3,4,5],\"xaxis\":\"x11\",\"y\":[0.23210633946830267,0.20214723926380368,0.14376278118609406,0.15204498977505113,0.1325153374233129,0.1374233128834356],\"yaxis\":\"y11\"},{\"alignmentgroup\":\"True\",\"hovertemplate\":\"Speaker=Nellie Bertram<br>Dominant_Topic=%{x}<br>=%{y}<extra></extra>\",\"legendgroup\":\"\",\"marker\":{\"color\":\"#636efa\",\"pattern\":{\"shape\":\"\"}},\"name\":\"\",\"offsetgroup\":\"\",\"orientation\":\"v\",\"showlegend\":false,\"textposition\":\"auto\",\"type\":\"bar\",\"x\":[0,1,2,3,4,5],\"xaxis\":\"x12\",\"y\":[0.21593291404612158,0.21174004192872117,0.129979035639413,0.10482180293501048,0.16352201257861634,0.1740041928721174],\"yaxis\":\"y12\"},{\"alignmentgroup\":\"True\",\"hovertemplate\":\"Speaker=Oscar<br>Dominant_Topic=%{x}<br>=%{y}<extra></extra>\",\"legendgroup\":\"\",\"marker\":{\"color\":\"#636efa\",\"pattern\":{\"shape\":\"\"}},\"name\":\"\",\"offsetgroup\":\"\",\"orientation\":\"v\",\"showlegend\":false,\"textposition\":\"auto\",\"type\":\"bar\",\"x\":[0,1,2,3,4,5],\"xaxis\":\"x5\",\"y\":[0.2579298831385643,0.19532554257095158,0.1285475792988314,0.14941569282136896,0.12437395659432388,0.14440734557595994],\"yaxis\":\"y5\"},{\"alignmentgroup\":\"True\",\"hovertemplate\":\"Speaker=Pam<br>Dominant_Topic=%{x}<br>=%{y}<extra></extra>\",\"legendgroup\":\"\",\"marker\":{\"color\":\"#636efa\",\"pattern\":{\"shape\":\"\"}},\"name\":\"\",\"offsetgroup\":\"\",\"orientation\":\"v\",\"showlegend\":false,\"textposition\":\"auto\",\"type\":\"bar\",\"x\":[0,1,2,3,4,5],\"xaxis\":\"x6\",\"y\":[0.27490312286300433,0.18486437200820607,0.13585593799863233,0.12970139047184864,0.13289263733758833,0.1417825393207203],\"yaxis\":\"y6\"},{\"alignmentgroup\":\"True\",\"hovertemplate\":\"Speaker=Phyllis<br>Dominant_Topic=%{x}<br>=%{y}<extra></extra>\",\"legendgroup\":\"\",\"marker\":{\"color\":\"#636efa\",\"pattern\":{\"shape\":\"\"}},\"name\":\"\",\"offsetgroup\":\"\",\"orientation\":\"v\",\"showlegend\":false,\"textposition\":\"auto\",\"type\":\"bar\",\"x\":[0,1,2,3,4,5],\"xaxis\":\"x7\",\"y\":[0.2448512585812357,0.19794050343249428,0.15331807780320367,0.10183066361556065,0.14759725400457666,0.15446224256292906],\"yaxis\":\"y7\"},{\"alignmentgroup\":\"True\",\"hovertemplate\":\"Speaker=Robert California<br>Dominant_Topic=%{x}<br>=%{y}<extra></extra>\",\"legendgroup\":\"\",\"marker\":{\"color\":\"#636efa\",\"pattern\":{\"shape\":\"\"}},\"name\":\"\",\"offsetgroup\":\"\",\"orientation\":\"v\",\"showlegend\":false,\"textposition\":\"auto\",\"type\":\"bar\",\"x\":[0,1,2,3,4,5],\"xaxis\":\"x8\",\"y\":[0.21464646464646464,0.19696969696969696,0.13383838383838384,0.1893939393939394,0.09595959595959595,0.1691919191919192],\"yaxis\":\"y8\"},{\"alignmentgroup\":\"True\",\"hovertemplate\":\"Speaker=Ryan<br>Dominant_Topic=%{x}<br>=%{y}<extra></extra>\",\"legendgroup\":\"\",\"marker\":{\"color\":\"#636efa\",\"pattern\":{\"shape\":\"\"}},\"name\":\"\",\"offsetgroup\":\"\",\"orientation\":\"v\",\"showlegend\":false,\"textposition\":\"auto\",\"type\":\"bar\",\"x\":[0,1,2,3,4,5],\"xaxis\":\"x\",\"y\":[0.24551463644948066,0.21529745042492918,0.1369216241737488,0.125590179414542,0.13314447592067988,0.14353163361661944],\"yaxis\":\"y\"},{\"alignmentgroup\":\"True\",\"hovertemplate\":\"Speaker=Stanley<br>Dominant_Topic=%{x}<br>=%{y}<extra></extra>\",\"legendgroup\":\"\",\"marker\":{\"color\":\"#636efa\",\"pattern\":{\"shape\":\"\"}},\"name\":\"\",\"offsetgroup\":\"\",\"orientation\":\"v\",\"showlegend\":false,\"textposition\":\"auto\",\"type\":\"bar\",\"x\":[0,1,2,3,4,5],\"xaxis\":\"x2\",\"y\":[0.21241830065359477,0.2238562091503268,0.10620915032679738,0.1388888888888889,0.1781045751633987,0.14052287581699346],\"yaxis\":\"y2\"},{\"alignmentgroup\":\"True\",\"hovertemplate\":\"Speaker=Toby<br>Dominant_Topic=%{x}<br>=%{y}<extra></extra>\",\"legendgroup\":\"\",\"marker\":{\"color\":\"#636efa\",\"pattern\":{\"shape\":\"\"}},\"name\":\"\",\"offsetgroup\":\"\",\"orientation\":\"v\",\"showlegend\":false,\"textposition\":\"auto\",\"type\":\"bar\",\"x\":[0,1,2,3,4,5],\"xaxis\":\"x3\",\"y\":[0.2594670406732118,0.1753155680224404,0.15427769985974754,0.14726507713884993,0.11079943899018233,0.15287517531556802],\"yaxis\":\"y3\"}],                        {\"annotations\":[{\"font\":{},\"showarrow\":false,\"text\":\"Ryan\",\"x\":0.0875,\"xanchor\":\"center\",\"xref\":\"paper\",\"y\":0.125,\"yanchor\":\"bottom\",\"yref\":\"paper\"},{\"font\":{},\"showarrow\":false,\"text\":\"Stanley\",\"x\":0.36250000000000004,\"xanchor\":\"center\",\"xref\":\"paper\",\"y\":0.125,\"yanchor\":\"bottom\",\"yref\":\"paper\"},{\"font\":{},\"showarrow\":false,\"text\":\"Toby\",\"x\":0.6375000000000001,\"xanchor\":\"center\",\"xref\":\"paper\",\"y\":0.125,\"yanchor\":\"bottom\",\"yref\":\"paper\"},{\"font\":{},\"showarrow\":false,\"text\":\"Oscar\",\"x\":0.0875,\"xanchor\":\"center\",\"xref\":\"paper\",\"y\":0.3,\"yanchor\":\"bottom\",\"yref\":\"paper\"},{\"font\":{},\"showarrow\":false,\"text\":\"Pam\",\"x\":0.36250000000000004,\"xanchor\":\"center\",\"xref\":\"paper\",\"y\":0.3,\"yanchor\":\"bottom\",\"yref\":\"paper\"},{\"font\":{},\"showarrow\":false,\"text\":\"Phyllis\",\"x\":0.6375000000000001,\"xanchor\":\"center\",\"xref\":\"paper\",\"y\":0.3,\"yanchor\":\"bottom\",\"yref\":\"paper\"},{\"font\":{},\"showarrow\":false,\"text\":\"Robert California\",\"x\":0.9125,\"xanchor\":\"center\",\"xref\":\"paper\",\"y\":0.3,\"yanchor\":\"bottom\",\"yref\":\"paper\"},{\"font\":{},\"showarrow\":false,\"text\":\"Kevin\",\"x\":0.0875,\"xanchor\":\"center\",\"xref\":\"paper\",\"y\":0.475,\"yanchor\":\"bottom\",\"yref\":\"paper\"},{\"font\":{},\"showarrow\":false,\"text\":\"Meredith\",\"x\":0.36250000000000004,\"xanchor\":\"center\",\"xref\":\"paper\",\"y\":0.475,\"yanchor\":\"bottom\",\"yref\":\"paper\"},{\"font\":{},\"showarrow\":false,\"text\":\"Michael\",\"x\":0.6375000000000001,\"xanchor\":\"center\",\"xref\":\"paper\",\"y\":0.475,\"yanchor\":\"bottom\",\"yref\":\"paper\"},{\"font\":{},\"showarrow\":false,\"text\":\"Nellie Bertram\",\"x\":0.9125,\"xanchor\":\"center\",\"xref\":\"paper\",\"y\":0.475,\"yanchor\":\"bottom\",\"yref\":\"paper\"},{\"font\":{},\"showarrow\":false,\"text\":\"Holly\",\"x\":0.0875,\"xanchor\":\"center\",\"xref\":\"paper\",\"y\":0.65,\"yanchor\":\"bottom\",\"yref\":\"paper\"},{\"font\":{},\"showarrow\":false,\"text\":\"Jan\",\"x\":0.36250000000000004,\"xanchor\":\"center\",\"xref\":\"paper\",\"y\":0.65,\"yanchor\":\"bottom\",\"yref\":\"paper\"},{\"font\":{},\"showarrow\":false,\"text\":\"Jim\",\"x\":0.6375000000000001,\"xanchor\":\"center\",\"xref\":\"paper\",\"y\":0.65,\"yanchor\":\"bottom\",\"yref\":\"paper\"},{\"font\":{},\"showarrow\":false,\"text\":\"Kelly\",\"x\":0.9125,\"xanchor\":\"center\",\"xref\":\"paper\",\"y\":0.65,\"yanchor\":\"bottom\",\"yref\":\"paper\"},{\"font\":{},\"showarrow\":false,\"text\":\"David Wallace\",\"x\":0.0875,\"xanchor\":\"center\",\"xref\":\"paper\",\"y\":0.825,\"yanchor\":\"bottom\",\"yref\":\"paper\"},{\"font\":{},\"showarrow\":false,\"text\":\"Dwight\",\"x\":0.36250000000000004,\"xanchor\":\"center\",\"xref\":\"paper\",\"y\":0.825,\"yanchor\":\"bottom\",\"yref\":\"paper\"},{\"font\":{},\"showarrow\":false,\"text\":\"Erin\",\"x\":0.6375000000000001,\"xanchor\":\"center\",\"xref\":\"paper\",\"y\":0.825,\"yanchor\":\"bottom\",\"yref\":\"paper\"},{\"font\":{},\"showarrow\":false,\"text\":\"Gabe\",\"x\":0.9125,\"xanchor\":\"center\",\"xref\":\"paper\",\"y\":0.825,\"yanchor\":\"bottom\",\"yref\":\"paper\"},{\"font\":{},\"showarrow\":false,\"text\":\"Andy\",\"x\":0.0875,\"xanchor\":\"center\",\"xref\":\"paper\",\"y\":1.0,\"yanchor\":\"bottom\",\"yref\":\"paper\"},{\"font\":{},\"showarrow\":false,\"text\":\"Angela\",\"x\":0.36250000000000004,\"xanchor\":\"center\",\"xref\":\"paper\",\"y\":1.0,\"yanchor\":\"bottom\",\"yref\":\"paper\"},{\"font\":{},\"showarrow\":false,\"text\":\"Creed\",\"x\":0.6375000000000001,\"xanchor\":\"center\",\"xref\":\"paper\",\"y\":1.0,\"yanchor\":\"bottom\",\"yref\":\"paper\"},{\"font\":{},\"showarrow\":false,\"text\":\"Darryl\",\"x\":0.9125,\"xanchor\":\"center\",\"xref\":\"paper\",\"y\":1.0,\"yanchor\":\"bottom\",\"yref\":\"paper\"}],\"barmode\":\"relative\",\"height\":950,\"legend\":{\"tracegroupgap\":0},\"showlegend\":false,\"template\":{\"data\":{\"bar\":[{\"error_x\":{\"color\":\"#2a3f5f\"},\"error_y\":{\"color\":\"#2a3f5f\"},\"marker\":{\"line\":{\"color\":\"#E5ECF6\",\"width\":0.5},\"pattern\":{\"fillmode\":\"overlay\",\"size\":10,\"solidity\":0.2}},\"type\":\"bar\"}],\"barpolar\":[{\"marker\":{\"line\":{\"color\":\"#E5ECF6\",\"width\":0.5},\"pattern\":{\"fillmode\":\"overlay\",\"size\":10,\"solidity\":0.2}},\"type\":\"barpolar\"}],\"carpet\":[{\"aaxis\":{\"endlinecolor\":\"#2a3f5f\",\"gridcolor\":\"white\",\"linecolor\":\"white\",\"minorgridcolor\":\"white\",\"startlinecolor\":\"#2a3f5f\"},\"baxis\":{\"endlinecolor\":\"#2a3f5f\",\"gridcolor\":\"white\",\"linecolor\":\"white\",\"minorgridcolor\":\"white\",\"startlinecolor\":\"#2a3f5f\"},\"type\":\"carpet\"}],\"choropleth\":[{\"colorbar\":{\"outlinewidth\":0,\"ticks\":\"\"},\"type\":\"choropleth\"}],\"contour\":[{\"colorbar\":{\"outlinewidth\":0,\"ticks\":\"\"},\"colorscale\":[[0.0,\"#0d0887\"],[0.1111111111111111,\"#46039f\"],[0.2222222222222222,\"#7201a8\"],[0.3333333333333333,\"#9c179e\"],[0.4444444444444444,\"#bd3786\"],[0.5555555555555556,\"#d8576b\"],[0.6666666666666666,\"#ed7953\"],[0.7777777777777778,\"#fb9f3a\"],[0.8888888888888888,\"#fdca26\"],[1.0,\"#f0f921\"]],\"type\":\"contour\"}],\"contourcarpet\":[{\"colorbar\":{\"outlinewidth\":0,\"ticks\":\"\"},\"type\":\"contourcarpet\"}],\"heatmap\":[{\"colorbar\":{\"outlinewidth\":0,\"ticks\":\"\"},\"colorscale\":[[0.0,\"#0d0887\"],[0.1111111111111111,\"#46039f\"],[0.2222222222222222,\"#7201a8\"],[0.3333333333333333,\"#9c179e\"],[0.4444444444444444,\"#bd3786\"],[0.5555555555555556,\"#d8576b\"],[0.6666666666666666,\"#ed7953\"],[0.7777777777777778,\"#fb9f3a\"],[0.8888888888888888,\"#fdca26\"],[1.0,\"#f0f921\"]],\"type\":\"heatmap\"}],\"heatmapgl\":[{\"colorbar\":{\"outlinewidth\":0,\"ticks\":\"\"},\"colorscale\":[[0.0,\"#0d0887\"],[0.1111111111111111,\"#46039f\"],[0.2222222222222222,\"#7201a8\"],[0.3333333333333333,\"#9c179e\"],[0.4444444444444444,\"#bd3786\"],[0.5555555555555556,\"#d8576b\"],[0.6666666666666666,\"#ed7953\"],[0.7777777777777778,\"#fb9f3a\"],[0.8888888888888888,\"#fdca26\"],[1.0,\"#f0f921\"]],\"type\":\"heatmapgl\"}],\"histogram\":[{\"marker\":{\"pattern\":{\"fillmode\":\"overlay\",\"size\":10,\"solidity\":0.2}},\"type\":\"histogram\"}],\"histogram2d\":[{\"colorbar\":{\"outlinewidth\":0,\"ticks\":\"\"},\"colorscale\":[[0.0,\"#0d0887\"],[0.1111111111111111,\"#46039f\"],[0.2222222222222222,\"#7201a8\"],[0.3333333333333333,\"#9c179e\"],[0.4444444444444444,\"#bd3786\"],[0.5555555555555556,\"#d8576b\"],[0.6666666666666666,\"#ed7953\"],[0.7777777777777778,\"#fb9f3a\"],[0.8888888888888888,\"#fdca26\"],[1.0,\"#f0f921\"]],\"type\":\"histogram2d\"}],\"histogram2dcontour\":[{\"colorbar\":{\"outlinewidth\":0,\"ticks\":\"\"},\"colorscale\":[[0.0,\"#0d0887\"],[0.1111111111111111,\"#46039f\"],[0.2222222222222222,\"#7201a8\"],[0.3333333333333333,\"#9c179e\"],[0.4444444444444444,\"#bd3786\"],[0.5555555555555556,\"#d8576b\"],[0.6666666666666666,\"#ed7953\"],[0.7777777777777778,\"#fb9f3a\"],[0.8888888888888888,\"#fdca26\"],[1.0,\"#f0f921\"]],\"type\":\"histogram2dcontour\"}],\"mesh3d\":[{\"colorbar\":{\"outlinewidth\":0,\"ticks\":\"\"},\"type\":\"mesh3d\"}],\"parcoords\":[{\"line\":{\"colorbar\":{\"outlinewidth\":0,\"ticks\":\"\"}},\"type\":\"parcoords\"}],\"pie\":[{\"automargin\":true,\"type\":\"pie\"}],\"scatter\":[{\"marker\":{\"colorbar\":{\"outlinewidth\":0,\"ticks\":\"\"}},\"type\":\"scatter\"}],\"scatter3d\":[{\"line\":{\"colorbar\":{\"outlinewidth\":0,\"ticks\":\"\"}},\"marker\":{\"colorbar\":{\"outlinewidth\":0,\"ticks\":\"\"}},\"type\":\"scatter3d\"}],\"scattercarpet\":[{\"marker\":{\"colorbar\":{\"outlinewidth\":0,\"ticks\":\"\"}},\"type\":\"scattercarpet\"}],\"scattergeo\":[{\"marker\":{\"colorbar\":{\"outlinewidth\":0,\"ticks\":\"\"}},\"type\":\"scattergeo\"}],\"scattergl\":[{\"marker\":{\"colorbar\":{\"outlinewidth\":0,\"ticks\":\"\"}},\"type\":\"scattergl\"}],\"scattermapbox\":[{\"marker\":{\"colorbar\":{\"outlinewidth\":0,\"ticks\":\"\"}},\"type\":\"scattermapbox\"}],\"scatterpolar\":[{\"marker\":{\"colorbar\":{\"outlinewidth\":0,\"ticks\":\"\"}},\"type\":\"scatterpolar\"}],\"scatterpolargl\":[{\"marker\":{\"colorbar\":{\"outlinewidth\":0,\"ticks\":\"\"}},\"type\":\"scatterpolargl\"}],\"scatterternary\":[{\"marker\":{\"colorbar\":{\"outlinewidth\":0,\"ticks\":\"\"}},\"type\":\"scatterternary\"}],\"surface\":[{\"colorbar\":{\"outlinewidth\":0,\"ticks\":\"\"},\"colorscale\":[[0.0,\"#0d0887\"],[0.1111111111111111,\"#46039f\"],[0.2222222222222222,\"#7201a8\"],[0.3333333333333333,\"#9c179e\"],[0.4444444444444444,\"#bd3786\"],[0.5555555555555556,\"#d8576b\"],[0.6666666666666666,\"#ed7953\"],[0.7777777777777778,\"#fb9f3a\"],[0.8888888888888888,\"#fdca26\"],[1.0,\"#f0f921\"]],\"type\":\"surface\"}],\"table\":[{\"cells\":{\"fill\":{\"color\":\"#EBF0F8\"},\"line\":{\"color\":\"white\"}},\"header\":{\"fill\":{\"color\":\"#C8D4E3\"},\"line\":{\"color\":\"white\"}},\"type\":\"table\"}]},\"layout\":{\"annotationdefaults\":{\"arrowcolor\":\"#2a3f5f\",\"arrowhead\":0,\"arrowwidth\":1},\"autotypenumbers\":\"strict\",\"coloraxis\":{\"colorbar\":{\"outlinewidth\":0,\"ticks\":\"\"}},\"colorscale\":{\"diverging\":[[0,\"#8e0152\"],[0.1,\"#c51b7d\"],[0.2,\"#de77ae\"],[0.3,\"#f1b6da\"],[0.4,\"#fde0ef\"],[0.5,\"#f7f7f7\"],[0.6,\"#e6f5d0\"],[0.7,\"#b8e186\"],[0.8,\"#7fbc41\"],[0.9,\"#4d9221\"],[1,\"#276419\"]],\"sequential\":[[0.0,\"#0d0887\"],[0.1111111111111111,\"#46039f\"],[0.2222222222222222,\"#7201a8\"],[0.3333333333333333,\"#9c179e\"],[0.4444444444444444,\"#bd3786\"],[0.5555555555555556,\"#d8576b\"],[0.6666666666666666,\"#ed7953\"],[0.7777777777777778,\"#fb9f3a\"],[0.8888888888888888,\"#fdca26\"],[1.0,\"#f0f921\"]],\"sequentialminus\":[[0.0,\"#0d0887\"],[0.1111111111111111,\"#46039f\"],[0.2222222222222222,\"#7201a8\"],[0.3333333333333333,\"#9c179e\"],[0.4444444444444444,\"#bd3786\"],[0.5555555555555556,\"#d8576b\"],[0.6666666666666666,\"#ed7953\"],[0.7777777777777778,\"#fb9f3a\"],[0.8888888888888888,\"#fdca26\"],[1.0,\"#f0f921\"]]},\"colorway\":[\"#636efa\",\"#EF553B\",\"#00cc96\",\"#ab63fa\",\"#FFA15A\",\"#19d3f3\",\"#FF6692\",\"#B6E880\",\"#FF97FF\",\"#FECB52\"],\"font\":{\"color\":\"#2a3f5f\"},\"geo\":{\"bgcolor\":\"white\",\"lakecolor\":\"white\",\"landcolor\":\"#E5ECF6\",\"showlakes\":true,\"showland\":true,\"subunitcolor\":\"white\"},\"hoverlabel\":{\"align\":\"left\"},\"hovermode\":\"closest\",\"mapbox\":{\"style\":\"light\"},\"paper_bgcolor\":\"white\",\"plot_bgcolor\":\"#E5ECF6\",\"polar\":{\"angularaxis\":{\"gridcolor\":\"white\",\"linecolor\":\"white\",\"ticks\":\"\"},\"bgcolor\":\"#E5ECF6\",\"radialaxis\":{\"gridcolor\":\"white\",\"linecolor\":\"white\",\"ticks\":\"\"}},\"scene\":{\"xaxis\":{\"backgroundcolor\":\"#E5ECF6\",\"gridcolor\":\"white\",\"gridwidth\":2,\"linecolor\":\"white\",\"showbackground\":true,\"ticks\":\"\",\"zerolinecolor\":\"white\"},\"yaxis\":{\"backgroundcolor\":\"#E5ECF6\",\"gridcolor\":\"white\",\"gridwidth\":2,\"linecolor\":\"white\",\"showbackground\":true,\"ticks\":\"\",\"zerolinecolor\":\"white\"},\"zaxis\":{\"backgroundcolor\":\"#E5ECF6\",\"gridcolor\":\"white\",\"gridwidth\":2,\"linecolor\":\"white\",\"showbackground\":true,\"ticks\":\"\",\"zerolinecolor\":\"white\"}},\"shapedefaults\":{\"line\":{\"color\":\"#2a3f5f\"}},\"ternary\":{\"aaxis\":{\"gridcolor\":\"white\",\"linecolor\":\"white\",\"ticks\":\"\"},\"baxis\":{\"gridcolor\":\"white\",\"linecolor\":\"white\",\"ticks\":\"\"},\"bgcolor\":\"#E5ECF6\",\"caxis\":{\"gridcolor\":\"white\",\"linecolor\":\"white\",\"ticks\":\"\"}},\"title\":{\"x\":0.05},\"xaxis\":{\"automargin\":true,\"gridcolor\":\"white\",\"linecolor\":\"white\",\"ticks\":\"\",\"title\":{\"standoff\":15},\"zerolinecolor\":\"white\",\"zerolinewidth\":2},\"yaxis\":{\"automargin\":true,\"gridcolor\":\"white\",\"linecolor\":\"white\",\"ticks\":\"\",\"title\":{\"standoff\":15},\"zerolinecolor\":\"white\",\"zerolinewidth\":2}}},\"title\":{\"text\":\"Distribution of topics among top characters\"},\"width\":950,\"xaxis\":{\"anchor\":\"y\",\"domain\":[0.0,0.175],\"showticklabels\":true,\"tickfont\":{\"size\":10},\"title\":{\"text\":\"Dominant_Topic\"}},\"xaxis10\":{\"anchor\":\"y10\",\"domain\":[0.275,0.45],\"showticklabels\":true,\"tickfont\":{\"size\":10}},\"xaxis11\":{\"anchor\":\"y11\",\"domain\":[0.55,0.7250000000000001],\"showticklabels\":true,\"tickfont\":{\"size\":10}},\"xaxis12\":{\"anchor\":\"y12\",\"domain\":[0.825,1.0],\"showticklabels\":true,\"tickfont\":{\"size\":10}},\"xaxis13\":{\"anchor\":\"y13\",\"domain\":[0.0,0.175],\"showticklabels\":true,\"tickfont\":{\"size\":10}},\"xaxis14\":{\"anchor\":\"y14\",\"domain\":[0.275,0.45],\"showticklabels\":true,\"tickfont\":{\"size\":10}},\"xaxis15\":{\"anchor\":\"y15\",\"domain\":[0.55,0.7250000000000001],\"showticklabels\":true,\"tickfont\":{\"size\":10}},\"xaxis16\":{\"anchor\":\"y16\",\"domain\":[0.825,1.0],\"showticklabels\":true,\"tickfont\":{\"size\":10}},\"xaxis17\":{\"anchor\":\"y17\",\"domain\":[0.0,0.175],\"showticklabels\":true,\"tickfont\":{\"size\":10}},\"xaxis18\":{\"anchor\":\"y18\",\"domain\":[0.275,0.45],\"showticklabels\":true,\"tickfont\":{\"size\":10}},\"xaxis19\":{\"anchor\":\"y19\",\"domain\":[0.55,0.7250000000000001],\"showticklabels\":true,\"tickfont\":{\"size\":10}},\"xaxis2\":{\"anchor\":\"y2\",\"domain\":[0.275,0.45],\"showticklabels\":true,\"tickfont\":{\"size\":10},\"title\":{\"text\":\"Dominant_Topic\"}},\"xaxis20\":{\"anchor\":\"y20\",\"domain\":[0.825,1.0],\"showticklabels\":true,\"tickfont\":{\"size\":10}},\"xaxis21\":{\"anchor\":\"y21\",\"domain\":[0.0,0.175],\"showticklabels\":true,\"tickfont\":{\"size\":10}},\"xaxis22\":{\"anchor\":\"y22\",\"domain\":[0.275,0.45],\"showticklabels\":true,\"tickfont\":{\"size\":10}},\"xaxis23\":{\"anchor\":\"y23\",\"domain\":[0.55,0.7250000000000001],\"showticklabels\":true,\"tickfont\":{\"size\":10}},\"xaxis24\":{\"anchor\":\"y24\",\"domain\":[0.825,1.0],\"showticklabels\":true,\"tickfont\":{\"size\":10}},\"xaxis3\":{\"anchor\":\"y3\",\"domain\":[0.55,0.7250000000000001],\"showticklabels\":true,\"tickfont\":{\"size\":10},\"title\":{\"text\":\"Dominant_Topic\"}},\"xaxis4\":{\"anchor\":\"y4\",\"domain\":[0.825,1.0],\"showticklabels\":true,\"tickfont\":{\"size\":10},\"title\":{\"text\":\"Dominant_Topic\"}},\"xaxis5\":{\"anchor\":\"y5\",\"domain\":[0.0,0.175],\"showticklabels\":true,\"tickfont\":{\"size\":10}},\"xaxis6\":{\"anchor\":\"y6\",\"domain\":[0.275,0.45],\"showticklabels\":true,\"tickfont\":{\"size\":10}},\"xaxis7\":{\"anchor\":\"y7\",\"domain\":[0.55,0.7250000000000001],\"showticklabels\":true,\"tickfont\":{\"size\":10}},\"xaxis8\":{\"anchor\":\"y8\",\"domain\":[0.825,1.0],\"showticklabels\":true,\"tickfont\":{\"size\":10}},\"xaxis9\":{\"anchor\":\"y9\",\"domain\":[0.0,0.175],\"showticklabels\":true,\"tickfont\":{\"size\":10}},\"yaxis\":{\"anchor\":\"x\",\"domain\":[0.0,0.125],\"showticklabels\":true,\"tickfont\":{\"size\":10},\"title\":{\"text\":\"\"}},\"yaxis10\":{\"anchor\":\"x10\",\"domain\":[0.35,0.475],\"showticklabels\":true,\"tickfont\":{\"size\":10}},\"yaxis11\":{\"anchor\":\"x11\",\"domain\":[0.35,0.475],\"showticklabels\":true,\"tickfont\":{\"size\":10}},\"yaxis12\":{\"anchor\":\"x12\",\"domain\":[0.35,0.475],\"showticklabels\":true,\"tickfont\":{\"size\":10}},\"yaxis13\":{\"anchor\":\"x13\",\"domain\":[0.525,0.65],\"showticklabels\":true,\"tickfont\":{\"size\":10},\"title\":{\"text\":\"\"}},\"yaxis14\":{\"anchor\":\"x14\",\"domain\":[0.525,0.65],\"showticklabels\":true,\"tickfont\":{\"size\":10}},\"yaxis15\":{\"anchor\":\"x15\",\"domain\":[0.525,0.65],\"showticklabels\":true,\"tickfont\":{\"size\":10}},\"yaxis16\":{\"anchor\":\"x16\",\"domain\":[0.525,0.65],\"showticklabels\":true,\"tickfont\":{\"size\":10}},\"yaxis17\":{\"anchor\":\"x17\",\"domain\":[0.7,0.825],\"showticklabels\":true,\"tickfont\":{\"size\":10},\"title\":{\"text\":\"\"}},\"yaxis18\":{\"anchor\":\"x18\",\"domain\":[0.7,0.825],\"showticklabels\":true,\"tickfont\":{\"size\":10}},\"yaxis19\":{\"anchor\":\"x19\",\"domain\":[0.7,0.825],\"showticklabels\":true,\"tickfont\":{\"size\":10}},\"yaxis2\":{\"anchor\":\"x2\",\"domain\":[0.0,0.125],\"showticklabels\":true,\"tickfont\":{\"size\":10}},\"yaxis20\":{\"anchor\":\"x20\",\"domain\":[0.7,0.825],\"showticklabels\":true,\"tickfont\":{\"size\":10}},\"yaxis21\":{\"anchor\":\"x21\",\"domain\":[0.875,1.0],\"showticklabels\":true,\"tickfont\":{\"size\":10},\"title\":{\"text\":\"\"}},\"yaxis22\":{\"anchor\":\"x22\",\"domain\":[0.875,1.0],\"showticklabels\":true,\"tickfont\":{\"size\":10}},\"yaxis23\":{\"anchor\":\"x23\",\"domain\":[0.875,1.0],\"showticklabels\":true,\"tickfont\":{\"size\":10}},\"yaxis24\":{\"anchor\":\"x24\",\"domain\":[0.875,1.0],\"showticklabels\":true,\"tickfont\":{\"size\":10}},\"yaxis3\":{\"anchor\":\"x3\",\"domain\":[0.0,0.125],\"showticklabels\":true,\"tickfont\":{\"size\":10}},\"yaxis4\":{\"anchor\":\"x4\",\"domain\":[0.0,0.125],\"showticklabels\":true,\"tickfont\":{\"size\":10}},\"yaxis5\":{\"anchor\":\"x5\",\"domain\":[0.175,0.3],\"showticklabels\":true,\"tickfont\":{\"size\":10},\"title\":{\"text\":\"\"}},\"yaxis6\":{\"anchor\":\"x6\",\"domain\":[0.175,0.3],\"showticklabels\":true,\"tickfont\":{\"size\":10}},\"yaxis7\":{\"anchor\":\"x7\",\"domain\":[0.175,0.3],\"showticklabels\":true,\"tickfont\":{\"size\":10}},\"yaxis8\":{\"anchor\":\"x8\",\"domain\":[0.175,0.3],\"showticklabels\":true,\"tickfont\":{\"size\":10}},\"yaxis9\":{\"anchor\":\"x9\",\"domain\":[0.35,0.475],\"showticklabels\":true,\"tickfont\":{\"size\":10},\"title\":{\"text\":\"\"}}},                        {\"responsive\": true}                    ).then(function(){\n",
       "                            \n",
       "var gd = document.getElementById('6c99d100-9a24-42eb-9913-5fa6aa8147c7');\n",
       "var x = new MutationObserver(function (mutations, observer) {{\n",
       "        var display = window.getComputedStyle(gd).display;\n",
       "        if (!display || display === 'none') {{\n",
       "            console.log([gd, 'removed!']);\n",
       "            Plotly.purge(gd);\n",
       "            observer.disconnect();\n",
       "        }}\n",
       "}});\n",
       "\n",
       "// Listen for the removal of the full notebook cells\n",
       "var notebookContainer = gd.closest('#notebook-container');\n",
       "if (notebookContainer) {{\n",
       "    x.observe(notebookContainer, {childList: true});\n",
       "}}\n",
       "\n",
       "// Listen for the clearing of the current output cell\n",
       "var outputEl = gd.closest('.output');\n",
       "if (outputEl) {{\n",
       "    x.observe(outputEl, {childList: true});\n",
       "}}\n",
       "\n",
       "                        })                };                });            </script>        </div>"
      ]
     },
     "metadata": {},
     "output_type": "display_data"
    }
   ],
   "source": [
    "plot_topic_ratios(by_speaker_topic_dist)"
   ]
  },
  {
   "cell_type": "code",
   "execution_count": 124,
   "id": "145112c1",
   "metadata": {},
   "outputs": [],
   "source": [
    "# by_speaker_topic_dist.pivot_table(values = 'Topic_Ratio', index='speaker', columns='Dominant_Topic').T.corr()"
   ]
  },
  {
   "cell_type": "code",
   "execution_count": 113,
   "id": "23ab7ada",
   "metadata": {},
   "outputs": [],
   "source": [
    "# assign_documents_to_topics(lda_model, word_corpus)"
   ]
  }
 ],
 "metadata": {
  "kernelspec": {
   "display_name": "Python 3",
   "language": "python",
   "name": "python3"
  },
  "language_info": {
   "codemirror_mode": {
    "name": "ipython",
    "version": 3
   },
   "file_extension": ".py",
   "mimetype": "text/x-python",
   "name": "python",
   "nbconvert_exporter": "python",
   "pygments_lexer": "ipython3",
   "version": "3.8.8"
  }
 },
 "nbformat": 4,
 "nbformat_minor": 5
}
