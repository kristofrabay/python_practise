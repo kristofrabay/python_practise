{
 "cells": [
  {
   "cell_type": "code",
   "execution_count": 403,
   "id": "848837a0",
   "metadata": {},
   "outputs": [],
   "source": [
    "import pandas as pd\n",
    "import numpy as np\n",
    "from math import isnan\n",
    "\n",
    "import matplotlib.pyplot as plt\n",
    "import seaborn as sns\n",
    "import plotly.express as px\n",
    "\n",
    "from afinn import Afinn\n",
    "from nltk.sentiment.vader import SentimentIntensityAnalyzer\n",
    "\n",
    "import tensorflow as tf\n",
    "import tensorflow_hub as hub\n",
    "\n",
    "from sklearn.decomposition import PCA\n",
    "\n",
    "def vader_sentiment_scores(x):\n",
    "    scores = vader_sentiment.polarity_scores(x)\n",
    "    return scores['neg'], scores['neu'], scores['pos'], scores['compound']\n",
    "\n",
    "def plot_episode_vectors(data = embed_data):\n",
    "    \n",
    "    fig = px.scatter(data, x = 'vector_dim_1', y = 'vector_dim_2', color = 'season', color_continuous_scale='solar',\n",
    "                 hover_data = ['season', 'episode', 'title'],\n",
    "                     title = 'Episode similarity based on transcript embedding vectors', \n",
    "                     labels = {'season' : 'Season', 'episode' : 'Episode #', \n",
    "                               'vector_dim_1' : '1st principal component', 'vector_dim_2' : '2nd principal component'},\n",
    "                     width = 750, height = 450)\n",
    "    fig.update_traces(marker={'size' : 10, 'opacity' : 1, 'line' : {'width' : 1, 'color' : 'black'}})\n",
    "    fig.show()\n",
    "    \n",
    "def plot_character_vectors(data = embed_data_char):\n",
    "    \n",
    "    fig = px.scatter(data, x = 'vector_dim_1', y = 'vector_dim_2', color_continuous_scale='solar',\n",
    "                 hover_data = ['speaker'], \n",
    "                     title = 'Similarly talking characters', \n",
    "                     labels = {'season' : 'Season', 'speaker' : 'Speaker', \n",
    "                               'vector_dim_1' : '1st principal component', 'vector_dim_2' : '2nd principal component'},\n",
    "                     width = 750, height = 450)\n",
    "    fig.update_traces(marker={'size' : 12, 'opacity' : 1, 'line' : {'width' : 1, 'color' : 'black'}})\n",
    "    fig.update_layout(showlegend=False)\n",
    "    fig.show()"
   ]
  },
  {
   "cell_type": "code",
   "execution_count": 5,
   "id": "ac3ef2a5",
   "metadata": {},
   "outputs": [
    {
     "name": "stdout",
     "output_type": "stream",
     "text": [
      "(54626, 8)\n",
      "(48416, 8)\n",
      "(48416, 9)\n"
     ]
    },
    {
     "data": {
      "text/html": [
       "<div>\n",
       "<style scoped>\n",
       "    .dataframe tbody tr th:only-of-type {\n",
       "        vertical-align: middle;\n",
       "    }\n",
       "\n",
       "    .dataframe tbody tr th {\n",
       "        vertical-align: top;\n",
       "    }\n",
       "\n",
       "    .dataframe thead th {\n",
       "        text-align: right;\n",
       "    }\n",
       "</style>\n",
       "<table border=\"1\" class=\"dataframe\">\n",
       "  <thead>\n",
       "    <tr style=\"text-align: right;\">\n",
       "      <th></th>\n",
       "      <th>season</th>\n",
       "      <th>episode</th>\n",
       "      <th>title</th>\n",
       "      <th>scene</th>\n",
       "      <th>speaker</th>\n",
       "      <th>line</th>\n",
       "      <th>cleaned</th>\n",
       "      <th>cleaned_sw_rem</th>\n",
       "      <th>speaking_to</th>\n",
       "    </tr>\n",
       "  </thead>\n",
       "  <tbody>\n",
       "    <tr>\n",
       "      <th>0</th>\n",
       "      <td>1</td>\n",
       "      <td>1</td>\n",
       "      <td>Pilot</td>\n",
       "      <td>1</td>\n",
       "      <td>Michael</td>\n",
       "      <td>All right Jim. Your quarterlies look very good...</td>\n",
       "      <td>all right jim your quarterlies look very good ...</td>\n",
       "      <td>right jim quarterlies look good things library</td>\n",
       "      <td>Jim</td>\n",
       "    </tr>\n",
       "    <tr>\n",
       "      <th>1</th>\n",
       "      <td>1</td>\n",
       "      <td>1</td>\n",
       "      <td>Pilot</td>\n",
       "      <td>1</td>\n",
       "      <td>Jim</td>\n",
       "      <td>Oh, I told you. I couldn't close it. So...</td>\n",
       "      <td>oh i told you i could not close it so</td>\n",
       "      <td>told close</td>\n",
       "      <td>Michael</td>\n",
       "    </tr>\n",
       "    <tr>\n",
       "      <th>2</th>\n",
       "      <td>1</td>\n",
       "      <td>1</td>\n",
       "      <td>Pilot</td>\n",
       "      <td>1</td>\n",
       "      <td>Michael</td>\n",
       "      <td>So you've come to the master for guidance? Is ...</td>\n",
       "      <td>so you have come to the master for guidance is...</td>\n",
       "      <td>master guidance saying grasshopper</td>\n",
       "      <td>Jim</td>\n",
       "    </tr>\n",
       "  </tbody>\n",
       "</table>\n",
       "</div>"
      ],
      "text/plain": [
       "   season  episode  title  scene  speaker  \\\n",
       "0       1        1  Pilot      1  Michael   \n",
       "1       1        1  Pilot      1      Jim   \n",
       "2       1        1  Pilot      1  Michael   \n",
       "\n",
       "                                                line  \\\n",
       "0  All right Jim. Your quarterlies look very good...   \n",
       "1         Oh, I told you. I couldn't close it. So...   \n",
       "2  So you've come to the master for guidance? Is ...   \n",
       "\n",
       "                                             cleaned  \\\n",
       "0  all right jim your quarterlies look very good ...   \n",
       "1              oh i told you i could not close it so   \n",
       "2  so you have come to the master for guidance is...   \n",
       "\n",
       "                                   cleaned_sw_rem speaking_to  \n",
       "0  right jim quarterlies look good things library         Jim  \n",
       "1                                      told close     Michael  \n",
       "2              master guidance saying grasshopper         Jim  "
      ]
     },
     "execution_count": 5,
     "metadata": {},
     "output_type": "execute_result"
    }
   ],
   "source": [
    "data = pd.read_csv('../../data/transcripts_cleaned.csv')\n",
    "print(data.shape)\n",
    "\n",
    "# reduce scope of analysis to top 23 characters\n",
    "top_lines = data['speaker'].value_counts().head(23)\n",
    "top_characters = top_lines.index\n",
    "data = data[data['speaker'].isin(top_characters)]\n",
    "print(data.shape)\n",
    "\n",
    "data['speaking_to'] = data.groupby('scene')['speaker'].shift(-1)\n",
    "\n",
    "data = data.merge(data.groupby('scene')['speaker'].nth(-2), left_on = 'scene', right_index = True, how = 'left').rename(columns = {'speaker_x' : 'speaker', 'speaker_y' : 'before_last_to_talk'})\n",
    "data['speaking_to'].fillna(data['before_last_to_talk'], inplace = True)\n",
    "data.drop('before_last_to_talk', 1, inplace = True)\n",
    "data.loc[data['speaker'] == data['speaking_to'], 'speaking_to'] = np.nan\n",
    "print(data.shape)\n",
    "\n",
    "data.head(3)"
   ]
  },
  {
   "cell_type": "code",
   "execution_count": null,
   "id": "35d262bd",
   "metadata": {},
   "outputs": [],
   "source": []
  },
  {
   "cell_type": "code",
   "execution_count": null,
   "id": "e0e64463",
   "metadata": {},
   "outputs": [],
   "source": []
  },
  {
   "cell_type": "markdown",
   "id": "3e5a8705",
   "metadata": {},
   "source": [
    "### Sentiment on sentence level\n",
    "\n",
    "1. AFINN for scores: sums up AFINN scores of words to get sentence level sentiment - range is not constained\n",
    "2. polarity: puts sentence score between -1 and 1"
   ]
  },
  {
   "cell_type": "markdown",
   "id": "f1f086d8",
   "metadata": {},
   "source": [
    "#### AFINN"
   ]
  },
  {
   "cell_type": "code",
   "execution_count": 171,
   "id": "e4ef5f83",
   "metadata": {},
   "outputs": [],
   "source": [
    "sentiment_data = data[['season', 'speaker', 'speaking_to', 'cleaned_sw_rem']].copy()\n",
    "sentiment_data = sentiment_data[sentiment_data['cleaned_sw_rem'].notnull()]"
   ]
  },
  {
   "cell_type": "code",
   "execution_count": 172,
   "id": "46c77b74",
   "metadata": {},
   "outputs": [],
   "source": [
    "afinn = Afinn()"
   ]
  },
  {
   "cell_type": "code",
   "execution_count": 173,
   "id": "2c29241c",
   "metadata": {},
   "outputs": [],
   "source": [
    "sentiment_data['afinn_score'] = sentiment_data['cleaned_sw_rem'].apply(lambda x: afinn.score(str(x)) if x is not None else 0)"
   ]
  },
  {
   "cell_type": "code",
   "execution_count": 174,
   "id": "15170547",
   "metadata": {},
   "outputs": [],
   "source": [
    "afinn_by_people = sentiment_data.groupby(['speaker'])['afinn_score'].mean().sort_values()\n",
    "afinn_by_people_by_season = sentiment_data.groupby(['speaker', 'season'])['afinn_score'].mean().reset_index()\n",
    "afinn_by_people_to_people = sentiment_data.groupby(['speaker', 'speaking_to'])['afinn_score'].mean().reset_index().sort_values(['speaker', 'afinn_score'], ascending = [True, False])"
   ]
  },
  {
   "cell_type": "markdown",
   "id": "ea285018",
   "metadata": {},
   "source": [
    "#### Polarity"
   ]
  },
  {
   "cell_type": "code",
   "execution_count": 175,
   "id": "3977c4f6",
   "metadata": {},
   "outputs": [],
   "source": [
    "vader_sentiment = SentimentIntensityAnalyzer()"
   ]
  },
  {
   "cell_type": "code",
   "execution_count": 176,
   "id": "c467e5c1",
   "metadata": {},
   "outputs": [
    {
     "data": {
      "text/plain": [
       "{'neg': 0.123, 'neu': 0.402, 'pos': 0.474, 'compound': 0.7966}"
      ]
     },
     "execution_count": 176,
     "metadata": {},
     "output_type": "execute_result"
    }
   ],
   "source": [
    "vader_sentiment.polarity_scores('not a great way to love someone, but an awesome way')"
   ]
  },
  {
   "cell_type": "code",
   "execution_count": 177,
   "id": "5c78ff78",
   "metadata": {},
   "outputs": [],
   "source": [
    "sentiment_data[['neg', 'neu', 'pos', 'compound_score']] = sentiment_data.apply(lambda x: vader_sentiment_scores(str(x['cleaned_sw_rem'])), result_type ='expand', axis = 1)"
   ]
  },
  {
   "cell_type": "code",
   "execution_count": 198,
   "id": "db399683",
   "metadata": {},
   "outputs": [],
   "source": [
    "polarity_by_people = sentiment_data.groupby(['speaker'])[['neg', 'pos', 'compound_score']].mean().sort_values('neg')\n",
    "\n",
    "polarity_by_people_by_season_compound = sentiment_data.groupby(['speaker', 'season'])['compound_score'].mean().reset_index()\n",
    "polarity_by_people_by_season_neg = sentiment_data.groupby(['speaker', 'season'])['neg'].mean().reset_index()\n",
    "polarity_by_people_by_season_pos = sentiment_data.groupby(['speaker', 'season'])['pos'].mean().reset_index()\n",
    "\n",
    "polarity_by_people_to_people = sentiment_data.groupby(['speaker', 'speaking_to'])['compound_score'].mean().reset_index().sort_values(['speaker', 'compound_score'], ascending = [True, False])"
   ]
  },
  {
   "cell_type": "code",
   "execution_count": null,
   "id": "3ace93b1",
   "metadata": {},
   "outputs": [],
   "source": []
  },
  {
   "cell_type": "markdown",
   "id": "799dea87",
   "metadata": {},
   "source": [
    "### Sentence embeddings on episode transcripts --> find most similar episodes"
   ]
  },
  {
   "cell_type": "code",
   "execution_count": 303,
   "id": "a3bebcda",
   "metadata": {},
   "outputs": [],
   "source": [
    "embed_data = data[['season', 'episode', 'title', 'cleaned_sw_rem']].copy()\n",
    "embed_data = embed_data[embed_data['cleaned_sw_rem'].notnull()]"
   ]
  },
  {
   "cell_type": "code",
   "execution_count": 304,
   "id": "ac37cebd",
   "metadata": {},
   "outputs": [],
   "source": [
    "embed_data = embed_data.groupby(['season','episode', 'title'])['cleaned_sw_rem'].apply(lambda x: ' '.join(x)).reset_index()\n",
    "embed_data.rename(columns = {'cleaned_sw_rem' : 'episode_transcript'}, inplace = True)"
   ]
  },
  {
   "cell_type": "markdown",
   "id": "4dd2de57",
   "metadata": {},
   "source": [
    "Get Universal Sentence Encoder from Google"
   ]
  },
  {
   "cell_type": "code",
   "execution_count": 244,
   "id": "da37421a",
   "metadata": {},
   "outputs": [],
   "source": [
    "module_url = 'https://tfhub.dev/google/universal-sentence-encoder/4'\n",
    "model = hub.load(module_url)"
   ]
  },
  {
   "cell_type": "markdown",
   "id": "db8a63a5",
   "metadata": {},
   "source": [
    "Encode episode transcripts as vectors"
   ]
  },
  {
   "cell_type": "code",
   "execution_count": 305,
   "id": "af9d5d41",
   "metadata": {},
   "outputs": [],
   "source": [
    "sentence_vectors = model(embed_data['episode_transcript'].values)\n",
    "sentence_vectors_df = pd.DataFrame(np.array(sentence_vectors))"
   ]
  },
  {
   "cell_type": "code",
   "execution_count": 306,
   "id": "d010aff3",
   "metadata": {},
   "outputs": [
    {
     "name": "stdout",
     "output_type": "stream",
     "text": [
      "(186, 512)\n"
     ]
    },
    {
     "data": {
      "text/html": [
       "<div>\n",
       "<style scoped>\n",
       "    .dataframe tbody tr th:only-of-type {\n",
       "        vertical-align: middle;\n",
       "    }\n",
       "\n",
       "    .dataframe tbody tr th {\n",
       "        vertical-align: top;\n",
       "    }\n",
       "\n",
       "    .dataframe thead th {\n",
       "        text-align: right;\n",
       "    }\n",
       "</style>\n",
       "<table border=\"1\" class=\"dataframe\">\n",
       "  <thead>\n",
       "    <tr style=\"text-align: right;\">\n",
       "      <th></th>\n",
       "      <th>0</th>\n",
       "      <th>1</th>\n",
       "      <th>2</th>\n",
       "      <th>3</th>\n",
       "      <th>4</th>\n",
       "      <th>5</th>\n",
       "      <th>6</th>\n",
       "      <th>7</th>\n",
       "      <th>8</th>\n",
       "      <th>9</th>\n",
       "      <th>...</th>\n",
       "      <th>502</th>\n",
       "      <th>503</th>\n",
       "      <th>504</th>\n",
       "      <th>505</th>\n",
       "      <th>506</th>\n",
       "      <th>507</th>\n",
       "      <th>508</th>\n",
       "      <th>509</th>\n",
       "      <th>510</th>\n",
       "      <th>511</th>\n",
       "    </tr>\n",
       "  </thead>\n",
       "  <tbody>\n",
       "    <tr>\n",
       "      <th>0</th>\n",
       "      <td>-0.045041</td>\n",
       "      <td>-0.045113</td>\n",
       "      <td>0.042466</td>\n",
       "      <td>-0.045113</td>\n",
       "      <td>-0.045113</td>\n",
       "      <td>-0.045113</td>\n",
       "      <td>0.045113</td>\n",
       "      <td>-0.045113</td>\n",
       "      <td>-0.045113</td>\n",
       "      <td>0.045113</td>\n",
       "      <td>...</td>\n",
       "      <td>-0.045113</td>\n",
       "      <td>-0.045113</td>\n",
       "      <td>-0.045113</td>\n",
       "      <td>0.045051</td>\n",
       "      <td>0.045113</td>\n",
       "      <td>0.045029</td>\n",
       "      <td>0.045113</td>\n",
       "      <td>-0.045113</td>\n",
       "      <td>-0.045113</td>\n",
       "      <td>0.045113</td>\n",
       "    </tr>\n",
       "    <tr>\n",
       "      <th>1</th>\n",
       "      <td>0.044479</td>\n",
       "      <td>-0.045271</td>\n",
       "      <td>-0.045270</td>\n",
       "      <td>-0.045230</td>\n",
       "      <td>-0.045271</td>\n",
       "      <td>-0.045271</td>\n",
       "      <td>0.044993</td>\n",
       "      <td>-0.045271</td>\n",
       "      <td>-0.045271</td>\n",
       "      <td>0.045271</td>\n",
       "      <td>...</td>\n",
       "      <td>-0.045271</td>\n",
       "      <td>-0.045271</td>\n",
       "      <td>-0.045271</td>\n",
       "      <td>0.033932</td>\n",
       "      <td>0.045271</td>\n",
       "      <td>0.045271</td>\n",
       "      <td>0.045271</td>\n",
       "      <td>-0.045271</td>\n",
       "      <td>-0.045271</td>\n",
       "      <td>0.045200</td>\n",
       "    </tr>\n",
       "    <tr>\n",
       "      <th>2</th>\n",
       "      <td>0.044651</td>\n",
       "      <td>-0.045381</td>\n",
       "      <td>0.039798</td>\n",
       "      <td>-0.045380</td>\n",
       "      <td>-0.045381</td>\n",
       "      <td>-0.045381</td>\n",
       "      <td>0.045381</td>\n",
       "      <td>-0.045381</td>\n",
       "      <td>-0.045381</td>\n",
       "      <td>0.045381</td>\n",
       "      <td>...</td>\n",
       "      <td>-0.045381</td>\n",
       "      <td>-0.045381</td>\n",
       "      <td>-0.045381</td>\n",
       "      <td>-0.045381</td>\n",
       "      <td>0.045381</td>\n",
       "      <td>0.045380</td>\n",
       "      <td>0.045381</td>\n",
       "      <td>-0.045381</td>\n",
       "      <td>-0.045381</td>\n",
       "      <td>0.045381</td>\n",
       "    </tr>\n",
       "  </tbody>\n",
       "</table>\n",
       "<p>3 rows × 512 columns</p>\n",
       "</div>"
      ],
      "text/plain": [
       "        0         1         2         3         4         5         6    \\\n",
       "0 -0.045041 -0.045113  0.042466 -0.045113 -0.045113 -0.045113  0.045113   \n",
       "1  0.044479 -0.045271 -0.045270 -0.045230 -0.045271 -0.045271  0.044993   \n",
       "2  0.044651 -0.045381  0.039798 -0.045380 -0.045381 -0.045381  0.045381   \n",
       "\n",
       "        7         8         9    ...       502       503       504       505  \\\n",
       "0 -0.045113 -0.045113  0.045113  ... -0.045113 -0.045113 -0.045113  0.045051   \n",
       "1 -0.045271 -0.045271  0.045271  ... -0.045271 -0.045271 -0.045271  0.033932   \n",
       "2 -0.045381 -0.045381  0.045381  ... -0.045381 -0.045381 -0.045381 -0.045381   \n",
       "\n",
       "        506       507       508       509       510       511  \n",
       "0  0.045113  0.045029  0.045113 -0.045113 -0.045113  0.045113  \n",
       "1  0.045271  0.045271  0.045271 -0.045271 -0.045271  0.045200  \n",
       "2  0.045381  0.045380  0.045381 -0.045381 -0.045381  0.045381  \n",
       "\n",
       "[3 rows x 512 columns]"
      ]
     },
     "execution_count": 306,
     "metadata": {},
     "output_type": "execute_result"
    }
   ],
   "source": [
    "print(sentence_vectors_df.shape)\n",
    "sentence_vectors_df.head(3)"
   ]
  },
  {
   "cell_type": "markdown",
   "id": "a2277752",
   "metadata": {},
   "source": [
    "All episodes have been turned into 512 length vectors"
   ]
  },
  {
   "cell_type": "markdown",
   "id": "a029c6af",
   "metadata": {},
   "source": [
    "#### Dimensionality reduction for visualization"
   ]
  },
  {
   "cell_type": "code",
   "execution_count": 341,
   "id": "93865b75",
   "metadata": {},
   "outputs": [],
   "source": [
    "pca = PCA(n_components = 2, random_state = 20202020)\n",
    "sentence_vectors_reduced = pca.fit_transform(sentence_vectors_df)"
   ]
  },
  {
   "cell_type": "code",
   "execution_count": 342,
   "id": "dedc7d3f",
   "metadata": {},
   "outputs": [],
   "source": [
    "embed_data[['vector_dim_1', 'vector_dim_2']] = sentence_vectors_reduced"
   ]
  },
  {
   "cell_type": "code",
   "execution_count": 404,
   "id": "3f345984",
   "metadata": {},
   "outputs": [
    {
     "data": {
      "application/vnd.plotly.v1+json": {
       "config": {
        "plotlyServerURL": "https://plot.ly"
       },
       "data": [
        {
         "customdata": [
          [
           1,
           1,
           "Pilot"
          ],
          [
           1,
           2,
           "Diversity Day"
          ],
          [
           1,
           3,
           "Health Care"
          ],
          [
           1,
           4,
           "The Alliance"
          ],
          [
           1,
           5,
           "Basketball"
          ],
          [
           1,
           6,
           "Hot Girl"
          ],
          [
           2,
           1,
           "The Dundies"
          ],
          [
           2,
           2,
           "Sexual Harassment"
          ],
          [
           2,
           3,
           "Office Olympics"
          ],
          [
           2,
           4,
           "The Fire"
          ],
          [
           2,
           5,
           "Halloween"
          ],
          [
           2,
           6,
           "The Fight"
          ],
          [
           2,
           7,
           "The Client"
          ],
          [
           2,
           8,
           "Performance Review"
          ],
          [
           2,
           9,
           "E-Mail Surveillance"
          ],
          [
           2,
           10,
           "Christmas Party"
          ],
          [
           2,
           11,
           "Booze Cruise"
          ],
          [
           2,
           12,
           "The Injury"
          ],
          [
           2,
           13,
           "The Secret"
          ],
          [
           2,
           14,
           "The Carpet"
          ],
          [
           2,
           15,
           "Boys & Girls"
          ],
          [
           2,
           16,
           "Valentine's Day"
          ],
          [
           2,
           17,
           "Dwight's Speech"
          ],
          [
           2,
           18,
           "Take Your Daughter to Work Day"
          ],
          [
           2,
           19,
           "Michael's Birthday"
          ],
          [
           2,
           20,
           "Drug Testing"
          ],
          [
           2,
           21,
           "Conflict Resolution"
          ],
          [
           2,
           22,
           "Casino Night"
          ],
          [
           3,
           1,
           "Gay Witch Hunt"
          ],
          [
           3,
           2,
           "The Convention"
          ],
          [
           3,
           3,
           "The Coup"
          ],
          [
           3,
           4,
           "Grief Counseling"
          ],
          [
           3,
           5,
           "Initiation"
          ],
          [
           3,
           6,
           "Diwali"
          ],
          [
           3,
           7,
           "Branch Closing"
          ],
          [
           3,
           8,
           "The Merger"
          ],
          [
           3,
           9,
           "The Convict"
          ],
          [
           3,
           10,
           "A Benihana Christmas (Parts 1&2)"
          ],
          [
           3,
           12,
           "Back from Vacation"
          ],
          [
           3,
           13,
           "Traveling Salesmen"
          ],
          [
           3,
           14,
           "The Return"
          ],
          [
           3,
           15,
           "Ben Franklin"
          ],
          [
           3,
           16,
           "Phyllis' Wedding"
          ],
          [
           3,
           17,
           "Business School"
          ],
          [
           3,
           18,
           "Cocktails"
          ],
          [
           3,
           19,
           "The Negotiation"
          ],
          [
           3,
           20,
           "Safety Training"
          ],
          [
           3,
           21,
           "Product Recall"
          ],
          [
           3,
           22,
           "Women's Appreciation"
          ],
          [
           3,
           23,
           "Beach Games"
          ],
          [
           3,
           24,
           "The Job (Parts 1&2)"
          ],
          [
           4,
           1,
           "Fun Run (Parts 1&2)"
          ],
          [
           4,
           3,
           "Dunder Mifflin Infinity (Parts 1&2)"
          ],
          [
           4,
           5,
           "Launch Party (Parts 1&2)"
          ],
          [
           4,
           7,
           "Money (Parts 1&2)"
          ],
          [
           4,
           9,
           "Local Ad"
          ],
          [
           4,
           10,
           "Branch Wars"
          ],
          [
           4,
           11,
           "Survivor Man"
          ],
          [
           4,
           12,
           "The Deposition"
          ],
          [
           4,
           13,
           "Dinner Party"
          ],
          [
           4,
           14,
           "Chair Model"
          ],
          [
           4,
           15,
           "Night Out"
          ],
          [
           4,
           16,
           "Did I Stutter?"
          ],
          [
           4,
           17,
           "Job Fair"
          ],
          [
           4,
           18,
           "Goodbye, Toby (Parts 1&2)"
          ],
          [
           5,
           1,
           "Weight Loss (Parts 1&2)"
          ],
          [
           5,
           3,
           "Business Ethics"
          ],
          [
           5,
           4,
           "Baby Shower"
          ],
          [
           5,
           5,
           "Crime Aid"
          ],
          [
           5,
           6,
           "Employee Transfer"
          ],
          [
           5,
           7,
           "Customer Survey"
          ],
          [
           5,
           8,
           "Business Trip"
          ],
          [
           5,
           9,
           "Frame Toby"
          ],
          [
           5,
           10,
           "The Surplus"
          ],
          [
           5,
           11,
           "Moroccan Christmas"
          ],
          [
           5,
           12,
           "The Duel"
          ],
          [
           5,
           13,
           "Prince Family Paper"
          ],
          [
           5,
           14,
           "Stress Relief (Parts 1&2)"
          ],
          [
           5,
           16,
           "Lecture Circuit (Part 1)"
          ],
          [
           5,
           17,
           "Lecture Circuit (Part 2)"
          ],
          [
           5,
           18,
           "Blood Drive"
          ],
          [
           5,
           19,
           "Golden Ticket"
          ],
          [
           5,
           20,
           "New Boss"
          ],
          [
           5,
           21,
           "Two Weeks"
          ],
          [
           5,
           22,
           "Dream Team"
          ],
          [
           5,
           23,
           "The Michael Scott Paper Company"
          ],
          [
           5,
           24,
           "Heavy Competition"
          ],
          [
           5,
           25,
           "Broke"
          ],
          [
           5,
           26,
           "Casual Friday"
          ],
          [
           5,
           27,
           "Cafe Disco"
          ],
          [
           5,
           28,
           "Company Picnic"
          ],
          [
           6,
           1,
           "Gossip"
          ],
          [
           6,
           2,
           "The Meeting"
          ],
          [
           6,
           3,
           "The Promotion"
          ],
          [
           6,
           4,
           "Niagara (Parts 1&2)"
          ],
          [
           6,
           6,
           "Mafia"
          ],
          [
           6,
           7,
           "The Lover"
          ],
          [
           6,
           8,
           "Koi Pond"
          ],
          [
           6,
           9,
           "Double Date"
          ],
          [
           6,
           10,
           "Murder"
          ],
          [
           6,
           11,
           "Shareholder Meeting"
          ],
          [
           6,
           12,
           "Scott's Tots"
          ],
          [
           6,
           13,
           "Secret Santa"
          ],
          [
           6,
           14,
           "The Banker"
          ],
          [
           6,
           15,
           "Sabre"
          ],
          [
           6,
           16,
           "The Manager and the Salesman"
          ],
          [
           6,
           17,
           "The Delivery (Parts 1&2)"
          ],
          [
           6,
           19,
           "St. Patrick's Day"
          ],
          [
           6,
           20,
           "New Leads"
          ],
          [
           6,
           21,
           "Happy Hour"
          ],
          [
           6,
           22,
           "Secretary's Day"
          ],
          [
           6,
           23,
           "Body Language"
          ],
          [
           6,
           24,
           "The Cover-Up"
          ],
          [
           6,
           25,
           "The Chump"
          ],
          [
           6,
           26,
           "Whistleblower"
          ],
          [
           7,
           1,
           "Nepotism"
          ],
          [
           7,
           2,
           "Counseling"
          ],
          [
           7,
           3,
           "Andy's Play"
          ],
          [
           7,
           4,
           "s*x Ed"
          ],
          [
           7,
           5,
           "The Sting"
          ],
          [
           7,
           6,
           "Costume Contest"
          ],
          [
           7,
           7,
           "Christening"
          ],
          [
           7,
           8,
           "Viewing Party"
          ],
          [
           7,
           9,
           "WUPHF.com"
          ],
          [
           7,
           10,
           "China"
          ],
          [
           7,
           11,
           "Classy Christmas (Parts 1&2)"
          ],
          [
           7,
           13,
           "Ultimatum"
          ],
          [
           7,
           14,
           "The Seminar"
          ],
          [
           7,
           15,
           "The Search"
          ],
          [
           7,
           16,
           "PDA"
          ],
          [
           7,
           17,
           "Threat Level Midnight"
          ],
          [
           7,
           18,
           "Todd Packer"
          ],
          [
           7,
           19,
           "Garage Sale"
          ],
          [
           7,
           20,
           "Training Day"
          ],
          [
           7,
           21,
           "Michael's Last Dundies"
          ],
          [
           7,
           22,
           "Goodbye, Michael"
          ],
          [
           7,
           23,
           "The Inner Circle"
          ],
          [
           7,
           24,
           "Dwight K. Schrute, (Acting) Manager"
          ],
          [
           7,
           25,
           "Search Committee (Parts 1&2)"
          ],
          [
           8,
           1,
           "The List"
          ],
          [
           8,
           2,
           "The Incentive"
          ],
          [
           8,
           3,
           "Lotto"
          ],
          [
           8,
           4,
           "Garden Party"
          ],
          [
           8,
           5,
           "Spooked"
          ],
          [
           8,
           6,
           "Doomsday"
          ],
          [
           8,
           7,
           "Pam's Replacement"
          ],
          [
           8,
           8,
           "Gettysburg"
          ],
          [
           8,
           9,
           "Mrs. California"
          ],
          [
           8,
           10,
           "Christmas Wishes"
          ],
          [
           8,
           11,
           "Trivia"
          ],
          [
           8,
           12,
           "Pool Party"
          ],
          [
           8,
           13,
           "Jury Duty"
          ],
          [
           8,
           14,
           "Special Project"
          ],
          [
           8,
           15,
           "Tallahassee"
          ],
          [
           8,
           16,
           "After Hours"
          ],
          [
           8,
           17,
           "Test The Store"
          ],
          [
           8,
           18,
           "Last Day In Florida"
          ],
          [
           8,
           19,
           "Get The Girl"
          ],
          [
           8,
           20,
           "Welcome Party"
          ],
          [
           8,
           21,
           "Angry Andy"
          ],
          [
           8,
           22,
           "Fundraiser"
          ],
          [
           8,
           23,
           "Turf War"
          ],
          [
           8,
           24,
           "Free Family Portrait Studio"
          ],
          [
           9,
           1,
           "The New Guys"
          ],
          [
           9,
           2,
           "Roy's Wedding"
          ],
          [
           9,
           3,
           "Andy's Ancestry"
          ],
          [
           9,
           4,
           "Work Bus"
          ],
          [
           9,
           5,
           "Here Comes Treble"
          ],
          [
           9,
           6,
           "The Boat"
          ],
          [
           9,
           7,
           "The Whale"
          ],
          [
           9,
           8,
           "The Target"
          ],
          [
           9,
           9,
           "Dwight Christmas"
          ],
          [
           9,
           10,
           "Lice"
          ],
          [
           9,
           11,
           "Suit Warehouse"
          ],
          [
           9,
           12,
           "Customer Loyalty"
          ],
          [
           9,
           13,
           "Junior Salesman"
          ],
          [
           9,
           14,
           "Vandalism"
          ],
          [
           9,
           15,
           "Couples Discount"
          ],
          [
           9,
           16,
           "Moving On"
          ],
          [
           9,
           17,
           "The Farm"
          ],
          [
           9,
           18,
           "Promos"
          ],
          [
           9,
           19,
           "Stairmageddon"
          ],
          [
           9,
           20,
           "Paper Airplane"
          ],
          [
           9,
           21,
           "Livin' the Dream"
          ],
          [
           9,
           22,
           "A.A.R.M"
          ],
          [
           9,
           24,
           "Finale"
          ]
         ],
         "hovertemplate": "1st principal component=%{x}<br>2nd principal component=%{y}<br>Season=%{marker.color}<br>Episode #=%{customdata[1]}<br>title=%{customdata[2]}<extra></extra>",
         "legendgroup": "",
         "marker": {
          "color": [
           1,
           1,
           1,
           1,
           1,
           1,
           2,
           2,
           2,
           2,
           2,
           2,
           2,
           2,
           2,
           2,
           2,
           2,
           2,
           2,
           2,
           2,
           2,
           2,
           2,
           2,
           2,
           2,
           3,
           3,
           3,
           3,
           3,
           3,
           3,
           3,
           3,
           3,
           3,
           3,
           3,
           3,
           3,
           3,
           3,
           3,
           3,
           3,
           3,
           3,
           3,
           4,
           4,
           4,
           4,
           4,
           4,
           4,
           4,
           4,
           4,
           4,
           4,
           4,
           4,
           5,
           5,
           5,
           5,
           5,
           5,
           5,
           5,
           5,
           5,
           5,
           5,
           5,
           5,
           5,
           5,
           5,
           5,
           5,
           5,
           5,
           5,
           5,
           5,
           5,
           5,
           6,
           6,
           6,
           6,
           6,
           6,
           6,
           6,
           6,
           6,
           6,
           6,
           6,
           6,
           6,
           6,
           6,
           6,
           6,
           6,
           6,
           6,
           6,
           6,
           7,
           7,
           7,
           7,
           7,
           7,
           7,
           7,
           7,
           7,
           7,
           7,
           7,
           7,
           7,
           7,
           7,
           7,
           7,
           7,
           7,
           7,
           7,
           7,
           8,
           8,
           8,
           8,
           8,
           8,
           8,
           8,
           8,
           8,
           8,
           8,
           8,
           8,
           8,
           8,
           8,
           8,
           8,
           8,
           8,
           8,
           8,
           8,
           9,
           9,
           9,
           9,
           9,
           9,
           9,
           9,
           9,
           9,
           9,
           9,
           9,
           9,
           9,
           9,
           9,
           9,
           9,
           9,
           9,
           9,
           9
          ],
          "coloraxis": "coloraxis",
          "line": {
           "color": "black",
           "width": 1
          },
          "opacity": 1,
          "size": 10,
          "symbol": "circle"
         },
         "mode": "markers",
         "name": "",
         "orientation": "v",
         "showlegend": false,
         "type": "scatter",
         "x": [
          0.21577687561511993,
          0.13621480762958527,
          0.11210870742797852,
          0.027867278084158897,
          0.14849528670310974,
          0.1945847123861313,
          -0.010928329080343246,
          0.19835853576660156,
          0.12247949093580246,
          -0.18408817052841187,
          -0.1676773875951767,
          -0.006107302848249674,
          0.2682340443134308,
          0.3480256497859955,
          -0.1340964138507843,
          -0.19968217611312866,
          -0.02404647320508957,
          -0.19652430713176727,
          -0.057605497539043427,
          0.11957872658967972,
          0.2616803050041199,
          0.3864174485206604,
          0.04504558816552162,
          -0.09809160232543945,
          -0.17899227142333984,
          -0.15758267045021057,
          -0.1630045473575592,
          -0.11599119007587433,
          -0.004029062110930681,
          0.04547445848584175,
          0.16412584483623505,
          -0.16796793043613434,
          0.24841655790805817,
          -0.13264141976833344,
          0.35070350766181946,
          0.15829633176326752,
          -0.006105875596404076,
          -0.22688078880310059,
          0.4084491729736328,
          0.1868474781513214,
          0.05167250335216522,
          0.10363322496414185,
          0.13150380551815033,
          0.13836897909641266,
          0.31991568207740784,
          -0.13717606663703918,
          -0.1962919384241104,
          -0.10869625210762024,
          -0.16712328791618347,
          -0.12259148806333542,
          0.3430473804473877,
          -0.24811993539333344,
          -0.018054500222206116,
          -0.13482928276062012,
          -0.13892829418182373,
          0.22472959756851196,
          -0.03014836087822914,
          -0.2613842189311981,
          0.1696542203426361,
          -0.014417683705687523,
          0.33505743741989136,
          -0.15012939274311066,
          -0.12071855366230011,
          0.21735627949237823,
          -0.10106693208217621,
          -0.18426713347434998,
          0.08135504275560379,
          0.24544990062713623,
          0.1196277067065239,
          0.3671790659427643,
          0.07661829888820648,
          0.15797629952430725,
          -0.12783339619636536,
          0.26023590564727783,
          0.16766202449798584,
          0.17863935232162476,
          0.3289630711078644,
          -0.25744837522506714,
          0.01601743884384632,
          -0.12398876249790192,
          0.07475567609071732,
          -0.05948503687977791,
          0.309183269739151,
          0.36562150716781616,
          0.13015487790107727,
          0.3497176170349121,
          -0.062241747975349426,
          0.37578481435775757,
          0.18374764919281006,
          -0.14440405368804932,
          -0.1183275356888771,
          -0.10526011884212494,
          -0.04797403886914253,
          0.19665521383285522,
          -0.22492001950740814,
          -0.09462029486894608,
          -0.1680517941713333,
          -0.20914262533187866,
          -0.17502103745937347,
          -0.03727642074227333,
          0.286285400390625,
          0.10081712156534195,
          -0.19003570079803467,
          0.388825386762619,
          0.23455595970153809,
          0.06881753355264664,
          -0.10528619587421417,
          0.06542127579450607,
          0.11397530138492584,
          0.18218842148780823,
          -0.18063730001449585,
          0.040312349796295166,
          -0.013817758299410343,
          -0.18484298884868622,
          -0.031215542927384377,
          -0.06474645435810089,
          0.02092401310801506,
          0.07373088598251343,
          -0.09506818652153015,
          -0.16915996372699738,
          -0.15248101949691772,
          0.02646101452410221,
          -0.07805444300174713,
          0.05865945294499397,
          -0.08776719868183136,
          -0.24496594071388245,
          0.12415532767772675,
          0.00508775282651186,
          0.1196536272764206,
          -0.036507539451122284,
          0.1871713548898697,
          -0.1236644983291626,
          -0.03619750961661339,
          0.3081805109977722,
          0.3265848755836487,
          -0.12768913805484772,
          0.1244979053735733,
          -0.23939476907253265,
          -0.10643801838159561,
          -0.06503000110387802,
          0.12597239017486572,
          -0.10842172056436539,
          -0.0013972268206998706,
          -0.27523764967918396,
          -0.13906827569007874,
          -0.16587024927139282,
          -0.1967201679944992,
          -0.16346430778503418,
          -0.22259458899497986,
          0.08065695315599442,
          -0.16708879172801971,
          -0.09855031967163086,
          -0.1157446950674057,
          -0.17061273753643036,
          -0.1901845932006836,
          -0.15095703303813934,
          -0.1647356003522873,
          0.08632955700159073,
          0.035723961889743805,
          -0.03645220398902893,
          -0.1431412398815155,
          -0.017613960430026054,
          0.07065103203058243,
          0.12123247236013412,
          -0.0835498496890068,
          -0.10042931139469147,
          -0.18494383990764618,
          -0.18067742884159088,
          -0.013834729790687561,
          -0.17255152761936188,
          -0.16432690620422363,
          -0.20011769235134125,
          -0.09050814062356949,
          0.01215333305299282,
          0.005211094859987497,
          0.037629179656505585,
          -0.19500790536403656,
          -0.02248377539217472,
          -0.17856556177139282,
          -0.05349867045879364,
          -0.13237206637859344,
          0.07293611019849777,
          -0.21557146310806274,
          -0.11606379598379135,
          -0.19597040116786957,
          -0.18895597755908966
         ],
         "xaxis": "x",
         "y": [
          -0.15538917481899261,
          0.028876740485429764,
          0.038913317024707794,
          -0.04994991049170494,
          -0.18217480182647705,
          -0.014784394763410091,
          -0.14881440997123718,
          -0.01902012899518013,
          -0.19856421649456024,
          -0.037409596145153046,
          0.017558779567480087,
          -0.1598055213689804,
          -0.0012263193493708968,
          0.14978379011154175,
          -0.09916865080595016,
          0.13671784102916718,
          0.0005326264654286206,
          0.08914453536272049,
          0.0037715965881943703,
          -0.028428073972463608,
          0.07814353704452515,
          0.15447485446929932,
          -0.15112340450286865,
          0.006631247699260712,
          0.1587676852941513,
          0.02880508080124855,
          0.02629215456545353,
          -0.05880560725927353,
          -0.07213614135980606,
          -0.08006601780653,
          0.01653316617012024,
          0.25165897607803345,
          0.08337178081274033,
          0.03565262258052826,
          0.04150209203362465,
          -0.09630981832742691,
          -0.1695510894060135,
          0.12676098942756653,
          0.1341550350189209,
          0.039194874465465546,
          -0.20946304500102997,
          -0.023291395977139473,
          0.0847245529294014,
          -0.12624284625053406,
          0.16191773116588593,
          0.0033496844116598368,
          -0.0431872121989727,
          -0.042875025421381,
          0.021367399021983147,
          -0.019534273073077202,
          0.12418362498283386,
          0.1200777068734169,
          -0.026450134813785553,
          0.04834408685564995,
          -0.01089551206678152,
          -0.2009018063545227,
          -0.20672735571861267,
          0.08146104216575623,
          -0.05004104599356651,
          0.10875105112791061,
          0.1328860968351364,
          -0.006209440063685179,
          -0.10601871460676193,
          -0.07645028084516525,
          0.07636603713035583,
          0.15949921309947968,
          -0.05480167642235756,
          0.24359160661697388,
          -0.14522013068199158,
          0.11839167773723602,
          -0.058616336435079575,
          0.04006311297416687,
          -0.06596150994300842,
          -0.07335513830184937,
          0.10228367149829865,
          -0.015146521851420403,
          0.12547248601913452,
          0.013701174408197403,
          0.09712600708007812,
          0.08131413906812668,
          0.18684370815753937,
          -0.1291530728340149,
          -0.009376822970807552,
          0.11094800382852554,
          -0.058769602328538895,
          0.045502811670303345,
          -0.10009712725877762,
          0.12471886724233627,
          -0.052299585193395615,
          -0.05859426409006119,
          -0.014665261842310429,
          -0.05412234365940094,
          0.05318119376897812,
          -0.024750854820013046,
          0.06363161653280258,
          -0.061090532690286636,
          0.20824888348579407,
          0.03342670574784279,
          0.12090034037828445,
          -0.17143191397190094,
          -0.029470348730683327,
          -0.010049186646938324,
          0.06524500250816345,
          0.09037181735038757,
          -0.049585696309804916,
          -0.05551533028483391,
          0.22471223771572113,
          0.1274745613336563,
          -0.08914066851139069,
          0.02537396177649498,
          0.025227759033441544,
          0.05609599128365517,
          -0.012560587376356125,
          -0.007581998128443956,
          -0.09585613757371902,
          -0.13114674389362335,
          -0.0934794694185257,
          -0.12607155740261078,
          0.032650407403707504,
          -0.02533819153904915,
          -0.00033003417775034904,
          0.005319837015122175,
          0.012055577710270882,
          -0.07707273960113525,
          -0.16890057921409607,
          0.140580952167511,
          0.0006542179035022855,
          -0.12409157305955887,
          0.10478571057319641,
          0.10491332411766052,
          -0.07131560146808624,
          0.06985554099082947,
          0.07999730855226517,
          0.17074768245220184,
          0.0643036961555481,
          0.1494387686252594,
          -0.16878673434257507,
          0.027981579303741455,
          -0.09554275125265121,
          0.0022812597453594208,
          0.037244100123643875,
          -0.0821366086602211,
          -0.0945015698671341,
          0.10314592719078064,
          0.021230537444353104,
          0.03856170177459717,
          -0.052328404039144516,
          -0.034596845507621765,
          0.13815748691558838,
          -0.20422925055027008,
          -0.05487577244639397,
          0.1471046507358551,
          0.0690569207072258,
          -0.0359153226017952,
          0.008900782093405724,
          -0.08535584062337875,
          -0.03240257501602173,
          0.015078561380505562,
          -0.09999678283929825,
          0.10125388950109482,
          0.010189819149672985,
          -0.12132861465215683,
          -0.21547885239124298,
          -0.11493530124425888,
          -0.13661351799964905,
          -0.03567773848772049,
          -0.008138205856084824,
          0.030382219702005386,
          -0.1181936115026474,
          0.049637842923402786,
          0.00811303686350584,
          0.05114130303263664,
          0.12849073112010956,
          0.07667632400989532,
          -0.017361044883728027,
          -0.11666177958250046,
          -0.061200935393571854,
          0.16306528449058533,
          0.05614441633224487,
          0.0317053496837616,
          -0.009384187869727612,
          -0.16496428847312927,
          0.07050822675228119,
          -0.12544259428977966,
          0.001501800143159926,
          -0.0048545231111347675
         ],
         "yaxis": "y"
        }
       ],
       "layout": {
        "coloraxis": {
         "colorbar": {
          "title": {
           "text": "Season"
          }
         },
         "colorscale": [
          [
           0,
           "rgb(51, 19, 23)"
          ],
          [
           0.09090909090909091,
           "rgb(79, 28, 33)"
          ],
          [
           0.18181818181818182,
           "rgb(108, 36, 36)"
          ],
          [
           0.2727272727272727,
           "rgb(135, 47, 32)"
          ],
          [
           0.36363636363636365,
           "rgb(157, 66, 25)"
          ],
          [
           0.45454545454545453,
           "rgb(174, 88, 20)"
          ],
          [
           0.5454545454545454,
           "rgb(188, 111, 19)"
          ],
          [
           0.6363636363636364,
           "rgb(199, 137, 22)"
          ],
          [
           0.7272727272727273,
           "rgb(209, 164, 32)"
          ],
          [
           0.8181818181818182,
           "rgb(217, 192, 44)"
          ],
          [
           0.9090909090909091,
           "rgb(222, 222, 59)"
          ],
          [
           1,
           "rgb(224, 253, 74)"
          ]
         ]
        },
        "height": 450,
        "legend": {
         "tracegroupgap": 0
        },
        "template": {
         "data": {
          "bar": [
           {
            "error_x": {
             "color": "#2a3f5f"
            },
            "error_y": {
             "color": "#2a3f5f"
            },
            "marker": {
             "line": {
              "color": "#E5ECF6",
              "width": 0.5
             },
             "pattern": {
              "fillmode": "overlay",
              "size": 10,
              "solidity": 0.2
             }
            },
            "type": "bar"
           }
          ],
          "barpolar": [
           {
            "marker": {
             "line": {
              "color": "#E5ECF6",
              "width": 0.5
             },
             "pattern": {
              "fillmode": "overlay",
              "size": 10,
              "solidity": 0.2
             }
            },
            "type": "barpolar"
           }
          ],
          "carpet": [
           {
            "aaxis": {
             "endlinecolor": "#2a3f5f",
             "gridcolor": "white",
             "linecolor": "white",
             "minorgridcolor": "white",
             "startlinecolor": "#2a3f5f"
            },
            "baxis": {
             "endlinecolor": "#2a3f5f",
             "gridcolor": "white",
             "linecolor": "white",
             "minorgridcolor": "white",
             "startlinecolor": "#2a3f5f"
            },
            "type": "carpet"
           }
          ],
          "choropleth": [
           {
            "colorbar": {
             "outlinewidth": 0,
             "ticks": ""
            },
            "type": "choropleth"
           }
          ],
          "contour": [
           {
            "colorbar": {
             "outlinewidth": 0,
             "ticks": ""
            },
            "colorscale": [
             [
              0,
              "#0d0887"
             ],
             [
              0.1111111111111111,
              "#46039f"
             ],
             [
              0.2222222222222222,
              "#7201a8"
             ],
             [
              0.3333333333333333,
              "#9c179e"
             ],
             [
              0.4444444444444444,
              "#bd3786"
             ],
             [
              0.5555555555555556,
              "#d8576b"
             ],
             [
              0.6666666666666666,
              "#ed7953"
             ],
             [
              0.7777777777777778,
              "#fb9f3a"
             ],
             [
              0.8888888888888888,
              "#fdca26"
             ],
             [
              1,
              "#f0f921"
             ]
            ],
            "type": "contour"
           }
          ],
          "contourcarpet": [
           {
            "colorbar": {
             "outlinewidth": 0,
             "ticks": ""
            },
            "type": "contourcarpet"
           }
          ],
          "heatmap": [
           {
            "colorbar": {
             "outlinewidth": 0,
             "ticks": ""
            },
            "colorscale": [
             [
              0,
              "#0d0887"
             ],
             [
              0.1111111111111111,
              "#46039f"
             ],
             [
              0.2222222222222222,
              "#7201a8"
             ],
             [
              0.3333333333333333,
              "#9c179e"
             ],
             [
              0.4444444444444444,
              "#bd3786"
             ],
             [
              0.5555555555555556,
              "#d8576b"
             ],
             [
              0.6666666666666666,
              "#ed7953"
             ],
             [
              0.7777777777777778,
              "#fb9f3a"
             ],
             [
              0.8888888888888888,
              "#fdca26"
             ],
             [
              1,
              "#f0f921"
             ]
            ],
            "type": "heatmap"
           }
          ],
          "heatmapgl": [
           {
            "colorbar": {
             "outlinewidth": 0,
             "ticks": ""
            },
            "colorscale": [
             [
              0,
              "#0d0887"
             ],
             [
              0.1111111111111111,
              "#46039f"
             ],
             [
              0.2222222222222222,
              "#7201a8"
             ],
             [
              0.3333333333333333,
              "#9c179e"
             ],
             [
              0.4444444444444444,
              "#bd3786"
             ],
             [
              0.5555555555555556,
              "#d8576b"
             ],
             [
              0.6666666666666666,
              "#ed7953"
             ],
             [
              0.7777777777777778,
              "#fb9f3a"
             ],
             [
              0.8888888888888888,
              "#fdca26"
             ],
             [
              1,
              "#f0f921"
             ]
            ],
            "type": "heatmapgl"
           }
          ],
          "histogram": [
           {
            "marker": {
             "pattern": {
              "fillmode": "overlay",
              "size": 10,
              "solidity": 0.2
             }
            },
            "type": "histogram"
           }
          ],
          "histogram2d": [
           {
            "colorbar": {
             "outlinewidth": 0,
             "ticks": ""
            },
            "colorscale": [
             [
              0,
              "#0d0887"
             ],
             [
              0.1111111111111111,
              "#46039f"
             ],
             [
              0.2222222222222222,
              "#7201a8"
             ],
             [
              0.3333333333333333,
              "#9c179e"
             ],
             [
              0.4444444444444444,
              "#bd3786"
             ],
             [
              0.5555555555555556,
              "#d8576b"
             ],
             [
              0.6666666666666666,
              "#ed7953"
             ],
             [
              0.7777777777777778,
              "#fb9f3a"
             ],
             [
              0.8888888888888888,
              "#fdca26"
             ],
             [
              1,
              "#f0f921"
             ]
            ],
            "type": "histogram2d"
           }
          ],
          "histogram2dcontour": [
           {
            "colorbar": {
             "outlinewidth": 0,
             "ticks": ""
            },
            "colorscale": [
             [
              0,
              "#0d0887"
             ],
             [
              0.1111111111111111,
              "#46039f"
             ],
             [
              0.2222222222222222,
              "#7201a8"
             ],
             [
              0.3333333333333333,
              "#9c179e"
             ],
             [
              0.4444444444444444,
              "#bd3786"
             ],
             [
              0.5555555555555556,
              "#d8576b"
             ],
             [
              0.6666666666666666,
              "#ed7953"
             ],
             [
              0.7777777777777778,
              "#fb9f3a"
             ],
             [
              0.8888888888888888,
              "#fdca26"
             ],
             [
              1,
              "#f0f921"
             ]
            ],
            "type": "histogram2dcontour"
           }
          ],
          "mesh3d": [
           {
            "colorbar": {
             "outlinewidth": 0,
             "ticks": ""
            },
            "type": "mesh3d"
           }
          ],
          "parcoords": [
           {
            "line": {
             "colorbar": {
              "outlinewidth": 0,
              "ticks": ""
             }
            },
            "type": "parcoords"
           }
          ],
          "pie": [
           {
            "automargin": true,
            "type": "pie"
           }
          ],
          "scatter": [
           {
            "marker": {
             "colorbar": {
              "outlinewidth": 0,
              "ticks": ""
             }
            },
            "type": "scatter"
           }
          ],
          "scatter3d": [
           {
            "line": {
             "colorbar": {
              "outlinewidth": 0,
              "ticks": ""
             }
            },
            "marker": {
             "colorbar": {
              "outlinewidth": 0,
              "ticks": ""
             }
            },
            "type": "scatter3d"
           }
          ],
          "scattercarpet": [
           {
            "marker": {
             "colorbar": {
              "outlinewidth": 0,
              "ticks": ""
             }
            },
            "type": "scattercarpet"
           }
          ],
          "scattergeo": [
           {
            "marker": {
             "colorbar": {
              "outlinewidth": 0,
              "ticks": ""
             }
            },
            "type": "scattergeo"
           }
          ],
          "scattergl": [
           {
            "marker": {
             "colorbar": {
              "outlinewidth": 0,
              "ticks": ""
             }
            },
            "type": "scattergl"
           }
          ],
          "scattermapbox": [
           {
            "marker": {
             "colorbar": {
              "outlinewidth": 0,
              "ticks": ""
             }
            },
            "type": "scattermapbox"
           }
          ],
          "scatterpolar": [
           {
            "marker": {
             "colorbar": {
              "outlinewidth": 0,
              "ticks": ""
             }
            },
            "type": "scatterpolar"
           }
          ],
          "scatterpolargl": [
           {
            "marker": {
             "colorbar": {
              "outlinewidth": 0,
              "ticks": ""
             }
            },
            "type": "scatterpolargl"
           }
          ],
          "scatterternary": [
           {
            "marker": {
             "colorbar": {
              "outlinewidth": 0,
              "ticks": ""
             }
            },
            "type": "scatterternary"
           }
          ],
          "surface": [
           {
            "colorbar": {
             "outlinewidth": 0,
             "ticks": ""
            },
            "colorscale": [
             [
              0,
              "#0d0887"
             ],
             [
              0.1111111111111111,
              "#46039f"
             ],
             [
              0.2222222222222222,
              "#7201a8"
             ],
             [
              0.3333333333333333,
              "#9c179e"
             ],
             [
              0.4444444444444444,
              "#bd3786"
             ],
             [
              0.5555555555555556,
              "#d8576b"
             ],
             [
              0.6666666666666666,
              "#ed7953"
             ],
             [
              0.7777777777777778,
              "#fb9f3a"
             ],
             [
              0.8888888888888888,
              "#fdca26"
             ],
             [
              1,
              "#f0f921"
             ]
            ],
            "type": "surface"
           }
          ],
          "table": [
           {
            "cells": {
             "fill": {
              "color": "#EBF0F8"
             },
             "line": {
              "color": "white"
             }
            },
            "header": {
             "fill": {
              "color": "#C8D4E3"
             },
             "line": {
              "color": "white"
             }
            },
            "type": "table"
           }
          ]
         },
         "layout": {
          "annotationdefaults": {
           "arrowcolor": "#2a3f5f",
           "arrowhead": 0,
           "arrowwidth": 1
          },
          "autotypenumbers": "strict",
          "coloraxis": {
           "colorbar": {
            "outlinewidth": 0,
            "ticks": ""
           }
          },
          "colorscale": {
           "diverging": [
            [
             0,
             "#8e0152"
            ],
            [
             0.1,
             "#c51b7d"
            ],
            [
             0.2,
             "#de77ae"
            ],
            [
             0.3,
             "#f1b6da"
            ],
            [
             0.4,
             "#fde0ef"
            ],
            [
             0.5,
             "#f7f7f7"
            ],
            [
             0.6,
             "#e6f5d0"
            ],
            [
             0.7,
             "#b8e186"
            ],
            [
             0.8,
             "#7fbc41"
            ],
            [
             0.9,
             "#4d9221"
            ],
            [
             1,
             "#276419"
            ]
           ],
           "sequential": [
            [
             0,
             "#0d0887"
            ],
            [
             0.1111111111111111,
             "#46039f"
            ],
            [
             0.2222222222222222,
             "#7201a8"
            ],
            [
             0.3333333333333333,
             "#9c179e"
            ],
            [
             0.4444444444444444,
             "#bd3786"
            ],
            [
             0.5555555555555556,
             "#d8576b"
            ],
            [
             0.6666666666666666,
             "#ed7953"
            ],
            [
             0.7777777777777778,
             "#fb9f3a"
            ],
            [
             0.8888888888888888,
             "#fdca26"
            ],
            [
             1,
             "#f0f921"
            ]
           ],
           "sequentialminus": [
            [
             0,
             "#0d0887"
            ],
            [
             0.1111111111111111,
             "#46039f"
            ],
            [
             0.2222222222222222,
             "#7201a8"
            ],
            [
             0.3333333333333333,
             "#9c179e"
            ],
            [
             0.4444444444444444,
             "#bd3786"
            ],
            [
             0.5555555555555556,
             "#d8576b"
            ],
            [
             0.6666666666666666,
             "#ed7953"
            ],
            [
             0.7777777777777778,
             "#fb9f3a"
            ],
            [
             0.8888888888888888,
             "#fdca26"
            ],
            [
             1,
             "#f0f921"
            ]
           ]
          },
          "colorway": [
           "#636efa",
           "#EF553B",
           "#00cc96",
           "#ab63fa",
           "#FFA15A",
           "#19d3f3",
           "#FF6692",
           "#B6E880",
           "#FF97FF",
           "#FECB52"
          ],
          "font": {
           "color": "#2a3f5f"
          },
          "geo": {
           "bgcolor": "white",
           "lakecolor": "white",
           "landcolor": "#E5ECF6",
           "showlakes": true,
           "showland": true,
           "subunitcolor": "white"
          },
          "hoverlabel": {
           "align": "left"
          },
          "hovermode": "closest",
          "mapbox": {
           "style": "light"
          },
          "paper_bgcolor": "white",
          "plot_bgcolor": "#E5ECF6",
          "polar": {
           "angularaxis": {
            "gridcolor": "white",
            "linecolor": "white",
            "ticks": ""
           },
           "bgcolor": "#E5ECF6",
           "radialaxis": {
            "gridcolor": "white",
            "linecolor": "white",
            "ticks": ""
           }
          },
          "scene": {
           "xaxis": {
            "backgroundcolor": "#E5ECF6",
            "gridcolor": "white",
            "gridwidth": 2,
            "linecolor": "white",
            "showbackground": true,
            "ticks": "",
            "zerolinecolor": "white"
           },
           "yaxis": {
            "backgroundcolor": "#E5ECF6",
            "gridcolor": "white",
            "gridwidth": 2,
            "linecolor": "white",
            "showbackground": true,
            "ticks": "",
            "zerolinecolor": "white"
           },
           "zaxis": {
            "backgroundcolor": "#E5ECF6",
            "gridcolor": "white",
            "gridwidth": 2,
            "linecolor": "white",
            "showbackground": true,
            "ticks": "",
            "zerolinecolor": "white"
           }
          },
          "shapedefaults": {
           "line": {
            "color": "#2a3f5f"
           }
          },
          "ternary": {
           "aaxis": {
            "gridcolor": "white",
            "linecolor": "white",
            "ticks": ""
           },
           "baxis": {
            "gridcolor": "white",
            "linecolor": "white",
            "ticks": ""
           },
           "bgcolor": "#E5ECF6",
           "caxis": {
            "gridcolor": "white",
            "linecolor": "white",
            "ticks": ""
           }
          },
          "title": {
           "x": 0.05
          },
          "xaxis": {
           "automargin": true,
           "gridcolor": "white",
           "linecolor": "white",
           "ticks": "",
           "title": {
            "standoff": 15
           },
           "zerolinecolor": "white",
           "zerolinewidth": 2
          },
          "yaxis": {
           "automargin": true,
           "gridcolor": "white",
           "linecolor": "white",
           "ticks": "",
           "title": {
            "standoff": 15
           },
           "zerolinecolor": "white",
           "zerolinewidth": 2
          }
         }
        },
        "title": {
         "text": "Episode similarity based on transcript embedding vectors"
        },
        "width": 750,
        "xaxis": {
         "anchor": "y",
         "domain": [
          0,
          1
         ],
         "title": {
          "text": "1st principal component"
         }
        },
        "yaxis": {
         "anchor": "x",
         "domain": [
          0,
          1
         ],
         "title": {
          "text": "2nd principal component"
         }
        }
       }
      },
      "text/html": [
       "<div>                            <div id=\"e5c55a48-08ae-4c9d-a953-458e648ca519\" class=\"plotly-graph-div\" style=\"height:450px; width:750px;\"></div>            <script type=\"text/javascript\">                require([\"plotly\"], function(Plotly) {                    window.PLOTLYENV=window.PLOTLYENV || {};                                    if (document.getElementById(\"e5c55a48-08ae-4c9d-a953-458e648ca519\")) {                    Plotly.newPlot(                        \"e5c55a48-08ae-4c9d-a953-458e648ca519\",                        [{\"customdata\":[[1,1,\"Pilot\"],[1,2,\"Diversity Day\"],[1,3,\"Health Care\"],[1,4,\"The Alliance\"],[1,5,\"Basketball\"],[1,6,\"Hot Girl\"],[2,1,\"The Dundies\"],[2,2,\"Sexual Harassment\"],[2,3,\"Office Olympics\"],[2,4,\"The Fire\"],[2,5,\"Halloween\"],[2,6,\"The Fight\"],[2,7,\"The Client\"],[2,8,\"Performance Review\"],[2,9,\"E-Mail Surveillance\"],[2,10,\"Christmas Party\"],[2,11,\"Booze Cruise\"],[2,12,\"The Injury\"],[2,13,\"The Secret\"],[2,14,\"The Carpet\"],[2,15,\"Boys & Girls\"],[2,16,\"Valentine's Day\"],[2,17,\"Dwight's Speech\"],[2,18,\"Take Your Daughter to Work Day\"],[2,19,\"Michael's Birthday\"],[2,20,\"Drug Testing\"],[2,21,\"Conflict Resolution\"],[2,22,\"Casino Night\"],[3,1,\"Gay Witch Hunt\"],[3,2,\"The Convention\"],[3,3,\"The Coup\"],[3,4,\"Grief Counseling\"],[3,5,\"Initiation\"],[3,6,\"Diwali\"],[3,7,\"Branch Closing\"],[3,8,\"The Merger\"],[3,9,\"The Convict\"],[3,10,\"A Benihana Christmas (Parts 1&2)\"],[3,12,\"Back from Vacation\"],[3,13,\"Traveling Salesmen\"],[3,14,\"The Return\"],[3,15,\"Ben Franklin\"],[3,16,\"Phyllis' Wedding\"],[3,17,\"Business School\"],[3,18,\"Cocktails\"],[3,19,\"The Negotiation\"],[3,20,\"Safety Training\"],[3,21,\"Product Recall\"],[3,22,\"Women's Appreciation\"],[3,23,\"Beach Games\"],[3,24,\"The Job (Parts 1&2)\"],[4,1,\"Fun Run (Parts 1&2)\"],[4,3,\"Dunder Mifflin Infinity (Parts 1&2)\"],[4,5,\"Launch Party (Parts 1&2)\"],[4,7,\"Money (Parts 1&2)\"],[4,9,\"Local Ad\"],[4,10,\"Branch Wars\"],[4,11,\"Survivor Man\"],[4,12,\"The Deposition\"],[4,13,\"Dinner Party\"],[4,14,\"Chair Model\"],[4,15,\"Night Out\"],[4,16,\"Did I Stutter?\"],[4,17,\"Job Fair\"],[4,18,\"Goodbye, Toby (Parts 1&2)\"],[5,1,\"Weight Loss (Parts 1&2)\"],[5,3,\"Business Ethics\"],[5,4,\"Baby Shower\"],[5,5,\"Crime Aid\"],[5,6,\"Employee Transfer\"],[5,7,\"Customer Survey\"],[5,8,\"Business Trip\"],[5,9,\"Frame Toby\"],[5,10,\"The Surplus\"],[5,11,\"Moroccan Christmas\"],[5,12,\"The Duel\"],[5,13,\"Prince Family Paper\"],[5,14,\"Stress Relief (Parts 1&2)\"],[5,16,\"Lecture Circuit (Part 1)\"],[5,17,\"Lecture Circuit (Part 2)\"],[5,18,\"Blood Drive\"],[5,19,\"Golden Ticket\"],[5,20,\"New Boss\"],[5,21,\"Two Weeks\"],[5,22,\"Dream Team\"],[5,23,\"The Michael Scott Paper Company\"],[5,24,\"Heavy Competition\"],[5,25,\"Broke\"],[5,26,\"Casual Friday\"],[5,27,\"Cafe Disco\"],[5,28,\"Company Picnic\"],[6,1,\"Gossip\"],[6,2,\"The Meeting\"],[6,3,\"The Promotion\"],[6,4,\"Niagara (Parts 1&2)\"],[6,6,\"Mafia\"],[6,7,\"The Lover\"],[6,8,\"Koi Pond\"],[6,9,\"Double Date\"],[6,10,\"Murder\"],[6,11,\"Shareholder Meeting\"],[6,12,\"Scott's Tots\"],[6,13,\"Secret Santa\"],[6,14,\"The Banker\"],[6,15,\"Sabre\"],[6,16,\"The Manager and the Salesman\"],[6,17,\"The Delivery (Parts 1&2)\"],[6,19,\"St. Patrick's Day\"],[6,20,\"New Leads\"],[6,21,\"Happy Hour\"],[6,22,\"Secretary's Day\"],[6,23,\"Body Language\"],[6,24,\"The Cover-Up\"],[6,25,\"The Chump\"],[6,26,\"Whistleblower\"],[7,1,\"Nepotism\"],[7,2,\"Counseling\"],[7,3,\"Andy's Play\"],[7,4,\"s*x Ed\"],[7,5,\"The Sting\"],[7,6,\"Costume Contest\"],[7,7,\"Christening\"],[7,8,\"Viewing Party\"],[7,9,\"WUPHF.com\"],[7,10,\"China\"],[7,11,\"Classy Christmas (Parts 1&2)\"],[7,13,\"Ultimatum\"],[7,14,\"The Seminar\"],[7,15,\"The Search\"],[7,16,\"PDA\"],[7,17,\"Threat Level Midnight\"],[7,18,\"Todd Packer\"],[7,19,\"Garage Sale\"],[7,20,\"Training Day\"],[7,21,\"Michael's Last Dundies\"],[7,22,\"Goodbye, Michael\"],[7,23,\"The Inner Circle\"],[7,24,\"Dwight K. Schrute, (Acting) Manager\"],[7,25,\"Search Committee (Parts 1&2)\"],[8,1,\"The List\"],[8,2,\"The Incentive\"],[8,3,\"Lotto\"],[8,4,\"Garden Party\"],[8,5,\"Spooked\"],[8,6,\"Doomsday\"],[8,7,\"Pam's Replacement\"],[8,8,\"Gettysburg\"],[8,9,\"Mrs. California\"],[8,10,\"Christmas Wishes\"],[8,11,\"Trivia\"],[8,12,\"Pool Party\"],[8,13,\"Jury Duty\"],[8,14,\"Special Project\"],[8,15,\"Tallahassee\"],[8,16,\"After Hours\"],[8,17,\"Test The Store\"],[8,18,\"Last Day In Florida\"],[8,19,\"Get The Girl\"],[8,20,\"Welcome Party\"],[8,21,\"Angry Andy\"],[8,22,\"Fundraiser\"],[8,23,\"Turf War\"],[8,24,\"Free Family Portrait Studio\"],[9,1,\"The New Guys\"],[9,2,\"Roy's Wedding\"],[9,3,\"Andy's Ancestry\"],[9,4,\"Work Bus\"],[9,5,\"Here Comes Treble\"],[9,6,\"The Boat\"],[9,7,\"The Whale\"],[9,8,\"The Target\"],[9,9,\"Dwight Christmas\"],[9,10,\"Lice\"],[9,11,\"Suit Warehouse\"],[9,12,\"Customer Loyalty\"],[9,13,\"Junior Salesman\"],[9,14,\"Vandalism\"],[9,15,\"Couples Discount\"],[9,16,\"Moving On\"],[9,17,\"The Farm\"],[9,18,\"Promos\"],[9,19,\"Stairmageddon\"],[9,20,\"Paper Airplane\"],[9,21,\"Livin' the Dream\"],[9,22,\"A.A.R.M\"],[9,24,\"Finale\"]],\"hovertemplate\":\"1st principal component=%{x}<br>2nd principal component=%{y}<br>Season=%{marker.color}<br>Episode #=%{customdata[1]}<br>title=%{customdata[2]}<extra></extra>\",\"legendgroup\":\"\",\"marker\":{\"color\":[1,1,1,1,1,1,2,2,2,2,2,2,2,2,2,2,2,2,2,2,2,2,2,2,2,2,2,2,3,3,3,3,3,3,3,3,3,3,3,3,3,3,3,3,3,3,3,3,3,3,3,4,4,4,4,4,4,4,4,4,4,4,4,4,4,5,5,5,5,5,5,5,5,5,5,5,5,5,5,5,5,5,5,5,5,5,5,5,5,5,5,6,6,6,6,6,6,6,6,6,6,6,6,6,6,6,6,6,6,6,6,6,6,6,6,7,7,7,7,7,7,7,7,7,7,7,7,7,7,7,7,7,7,7,7,7,7,7,7,8,8,8,8,8,8,8,8,8,8,8,8,8,8,8,8,8,8,8,8,8,8,8,8,9,9,9,9,9,9,9,9,9,9,9,9,9,9,9,9,9,9,9,9,9,9,9],\"coloraxis\":\"coloraxis\",\"line\":{\"color\":\"black\",\"width\":1},\"opacity\":1,\"size\":10,\"symbol\":\"circle\"},\"mode\":\"markers\",\"name\":\"\",\"orientation\":\"v\",\"showlegend\":false,\"type\":\"scatter\",\"x\":[0.21577687561511993,0.13621480762958527,0.11210870742797852,0.027867278084158897,0.14849528670310974,0.1945847123861313,-0.010928329080343246,0.19835853576660156,0.12247949093580246,-0.18408817052841187,-0.1676773875951767,-0.006107302848249674,0.2682340443134308,0.3480256497859955,-0.1340964138507843,-0.19968217611312866,-0.02404647320508957,-0.19652430713176727,-0.057605497539043427,0.11957872658967972,0.2616803050041199,0.3864174485206604,0.04504558816552162,-0.09809160232543945,-0.17899227142333984,-0.15758267045021057,-0.1630045473575592,-0.11599119007587433,-0.004029062110930681,0.04547445848584175,0.16412584483623505,-0.16796793043613434,0.24841655790805817,-0.13264141976833344,0.35070350766181946,0.15829633176326752,-0.006105875596404076,-0.22688078880310059,0.4084491729736328,0.1868474781513214,0.05167250335216522,0.10363322496414185,0.13150380551815033,0.13836897909641266,0.31991568207740784,-0.13717606663703918,-0.1962919384241104,-0.10869625210762024,-0.16712328791618347,-0.12259148806333542,0.3430473804473877,-0.24811993539333344,-0.018054500222206116,-0.13482928276062012,-0.13892829418182373,0.22472959756851196,-0.03014836087822914,-0.2613842189311981,0.1696542203426361,-0.014417683705687523,0.33505743741989136,-0.15012939274311066,-0.12071855366230011,0.21735627949237823,-0.10106693208217621,-0.18426713347434998,0.08135504275560379,0.24544990062713623,0.1196277067065239,0.3671790659427643,0.07661829888820648,0.15797629952430725,-0.12783339619636536,0.26023590564727783,0.16766202449798584,0.17863935232162476,0.3289630711078644,-0.25744837522506714,0.01601743884384632,-0.12398876249790192,0.07475567609071732,-0.05948503687977791,0.309183269739151,0.36562150716781616,0.13015487790107727,0.3497176170349121,-0.062241747975349426,0.37578481435775757,0.18374764919281006,-0.14440405368804932,-0.1183275356888771,-0.10526011884212494,-0.04797403886914253,0.19665521383285522,-0.22492001950740814,-0.09462029486894608,-0.1680517941713333,-0.20914262533187866,-0.17502103745937347,-0.03727642074227333,0.286285400390625,0.10081712156534195,-0.19003570079803467,0.388825386762619,0.23455595970153809,0.06881753355264664,-0.10528619587421417,0.06542127579450607,0.11397530138492584,0.18218842148780823,-0.18063730001449585,0.040312349796295166,-0.013817758299410343,-0.18484298884868622,-0.031215542927384377,-0.06474645435810089,0.02092401310801506,0.07373088598251343,-0.09506818652153015,-0.16915996372699738,-0.15248101949691772,0.02646101452410221,-0.07805444300174713,0.05865945294499397,-0.08776719868183136,-0.24496594071388245,0.12415532767772675,0.00508775282651186,0.1196536272764206,-0.036507539451122284,0.1871713548898697,-0.1236644983291626,-0.03619750961661339,0.3081805109977722,0.3265848755836487,-0.12768913805484772,0.1244979053735733,-0.23939476907253265,-0.10643801838159561,-0.06503000110387802,0.12597239017486572,-0.10842172056436539,-0.0013972268206998706,-0.27523764967918396,-0.13906827569007874,-0.16587024927139282,-0.1967201679944992,-0.16346430778503418,-0.22259458899497986,0.08065695315599442,-0.16708879172801971,-0.09855031967163086,-0.1157446950674057,-0.17061273753643036,-0.1901845932006836,-0.15095703303813934,-0.1647356003522873,0.08632955700159073,0.035723961889743805,-0.03645220398902893,-0.1431412398815155,-0.017613960430026054,0.07065103203058243,0.12123247236013412,-0.0835498496890068,-0.10042931139469147,-0.18494383990764618,-0.18067742884159088,-0.013834729790687561,-0.17255152761936188,-0.16432690620422363,-0.20011769235134125,-0.09050814062356949,0.01215333305299282,0.005211094859987497,0.037629179656505585,-0.19500790536403656,-0.02248377539217472,-0.17856556177139282,-0.05349867045879364,-0.13237206637859344,0.07293611019849777,-0.21557146310806274,-0.11606379598379135,-0.19597040116786957,-0.18895597755908966],\"xaxis\":\"x\",\"y\":[-0.15538917481899261,0.028876740485429764,0.038913317024707794,-0.04994991049170494,-0.18217480182647705,-0.014784394763410091,-0.14881440997123718,-0.01902012899518013,-0.19856421649456024,-0.037409596145153046,0.017558779567480087,-0.1598055213689804,-0.0012263193493708968,0.14978379011154175,-0.09916865080595016,0.13671784102916718,0.0005326264654286206,0.08914453536272049,0.0037715965881943703,-0.028428073972463608,0.07814353704452515,0.15447485446929932,-0.15112340450286865,0.006631247699260712,0.1587676852941513,0.02880508080124855,0.02629215456545353,-0.05880560725927353,-0.07213614135980606,-0.08006601780653,0.01653316617012024,0.25165897607803345,0.08337178081274033,0.03565262258052826,0.04150209203362465,-0.09630981832742691,-0.1695510894060135,0.12676098942756653,0.1341550350189209,0.039194874465465546,-0.20946304500102997,-0.023291395977139473,0.0847245529294014,-0.12624284625053406,0.16191773116588593,0.0033496844116598368,-0.0431872121989727,-0.042875025421381,0.021367399021983147,-0.019534273073077202,0.12418362498283386,0.1200777068734169,-0.026450134813785553,0.04834408685564995,-0.01089551206678152,-0.2009018063545227,-0.20672735571861267,0.08146104216575623,-0.05004104599356651,0.10875105112791061,0.1328860968351364,-0.006209440063685179,-0.10601871460676193,-0.07645028084516525,0.07636603713035583,0.15949921309947968,-0.05480167642235756,0.24359160661697388,-0.14522013068199158,0.11839167773723602,-0.058616336435079575,0.04006311297416687,-0.06596150994300842,-0.07335513830184937,0.10228367149829865,-0.015146521851420403,0.12547248601913452,0.013701174408197403,0.09712600708007812,0.08131413906812668,0.18684370815753937,-0.1291530728340149,-0.009376822970807552,0.11094800382852554,-0.058769602328538895,0.045502811670303345,-0.10009712725877762,0.12471886724233627,-0.052299585193395615,-0.05859426409006119,-0.014665261842310429,-0.05412234365940094,0.05318119376897812,-0.024750854820013046,0.06363161653280258,-0.061090532690286636,0.20824888348579407,0.03342670574784279,0.12090034037828445,-0.17143191397190094,-0.029470348730683327,-0.010049186646938324,0.06524500250816345,0.09037181735038757,-0.049585696309804916,-0.05551533028483391,0.22471223771572113,0.1274745613336563,-0.08914066851139069,0.02537396177649498,0.025227759033441544,0.05609599128365517,-0.012560587376356125,-0.007581998128443956,-0.09585613757371902,-0.13114674389362335,-0.0934794694185257,-0.12607155740261078,0.032650407403707504,-0.02533819153904915,-0.00033003417775034904,0.005319837015122175,0.012055577710270882,-0.07707273960113525,-0.16890057921409607,0.140580952167511,0.0006542179035022855,-0.12409157305955887,0.10478571057319641,0.10491332411766052,-0.07131560146808624,0.06985554099082947,0.07999730855226517,0.17074768245220184,0.0643036961555481,0.1494387686252594,-0.16878673434257507,0.027981579303741455,-0.09554275125265121,0.0022812597453594208,0.037244100123643875,-0.0821366086602211,-0.0945015698671341,0.10314592719078064,0.021230537444353104,0.03856170177459717,-0.052328404039144516,-0.034596845507621765,0.13815748691558838,-0.20422925055027008,-0.05487577244639397,0.1471046507358551,0.0690569207072258,-0.0359153226017952,0.008900782093405724,-0.08535584062337875,-0.03240257501602173,0.015078561380505562,-0.09999678283929825,0.10125388950109482,0.010189819149672985,-0.12132861465215683,-0.21547885239124298,-0.11493530124425888,-0.13661351799964905,-0.03567773848772049,-0.008138205856084824,0.030382219702005386,-0.1181936115026474,0.049637842923402786,0.00811303686350584,0.05114130303263664,0.12849073112010956,0.07667632400989532,-0.017361044883728027,-0.11666177958250046,-0.061200935393571854,0.16306528449058533,0.05614441633224487,0.0317053496837616,-0.009384187869727612,-0.16496428847312927,0.07050822675228119,-0.12544259428977966,0.001501800143159926,-0.0048545231111347675],\"yaxis\":\"y\"}],                        {\"coloraxis\":{\"colorbar\":{\"title\":{\"text\":\"Season\"}},\"colorscale\":[[0.0,\"rgb(51, 19, 23)\"],[0.09090909090909091,\"rgb(79, 28, 33)\"],[0.18181818181818182,\"rgb(108, 36, 36)\"],[0.2727272727272727,\"rgb(135, 47, 32)\"],[0.36363636363636365,\"rgb(157, 66, 25)\"],[0.45454545454545453,\"rgb(174, 88, 20)\"],[0.5454545454545454,\"rgb(188, 111, 19)\"],[0.6363636363636364,\"rgb(199, 137, 22)\"],[0.7272727272727273,\"rgb(209, 164, 32)\"],[0.8181818181818182,\"rgb(217, 192, 44)\"],[0.9090909090909091,\"rgb(222, 222, 59)\"],[1.0,\"rgb(224, 253, 74)\"]]},\"height\":450,\"legend\":{\"tracegroupgap\":0},\"template\":{\"data\":{\"bar\":[{\"error_x\":{\"color\":\"#2a3f5f\"},\"error_y\":{\"color\":\"#2a3f5f\"},\"marker\":{\"line\":{\"color\":\"#E5ECF6\",\"width\":0.5},\"pattern\":{\"fillmode\":\"overlay\",\"size\":10,\"solidity\":0.2}},\"type\":\"bar\"}],\"barpolar\":[{\"marker\":{\"line\":{\"color\":\"#E5ECF6\",\"width\":0.5},\"pattern\":{\"fillmode\":\"overlay\",\"size\":10,\"solidity\":0.2}},\"type\":\"barpolar\"}],\"carpet\":[{\"aaxis\":{\"endlinecolor\":\"#2a3f5f\",\"gridcolor\":\"white\",\"linecolor\":\"white\",\"minorgridcolor\":\"white\",\"startlinecolor\":\"#2a3f5f\"},\"baxis\":{\"endlinecolor\":\"#2a3f5f\",\"gridcolor\":\"white\",\"linecolor\":\"white\",\"minorgridcolor\":\"white\",\"startlinecolor\":\"#2a3f5f\"},\"type\":\"carpet\"}],\"choropleth\":[{\"colorbar\":{\"outlinewidth\":0,\"ticks\":\"\"},\"type\":\"choropleth\"}],\"contour\":[{\"colorbar\":{\"outlinewidth\":0,\"ticks\":\"\"},\"colorscale\":[[0.0,\"#0d0887\"],[0.1111111111111111,\"#46039f\"],[0.2222222222222222,\"#7201a8\"],[0.3333333333333333,\"#9c179e\"],[0.4444444444444444,\"#bd3786\"],[0.5555555555555556,\"#d8576b\"],[0.6666666666666666,\"#ed7953\"],[0.7777777777777778,\"#fb9f3a\"],[0.8888888888888888,\"#fdca26\"],[1.0,\"#f0f921\"]],\"type\":\"contour\"}],\"contourcarpet\":[{\"colorbar\":{\"outlinewidth\":0,\"ticks\":\"\"},\"type\":\"contourcarpet\"}],\"heatmap\":[{\"colorbar\":{\"outlinewidth\":0,\"ticks\":\"\"},\"colorscale\":[[0.0,\"#0d0887\"],[0.1111111111111111,\"#46039f\"],[0.2222222222222222,\"#7201a8\"],[0.3333333333333333,\"#9c179e\"],[0.4444444444444444,\"#bd3786\"],[0.5555555555555556,\"#d8576b\"],[0.6666666666666666,\"#ed7953\"],[0.7777777777777778,\"#fb9f3a\"],[0.8888888888888888,\"#fdca26\"],[1.0,\"#f0f921\"]],\"type\":\"heatmap\"}],\"heatmapgl\":[{\"colorbar\":{\"outlinewidth\":0,\"ticks\":\"\"},\"colorscale\":[[0.0,\"#0d0887\"],[0.1111111111111111,\"#46039f\"],[0.2222222222222222,\"#7201a8\"],[0.3333333333333333,\"#9c179e\"],[0.4444444444444444,\"#bd3786\"],[0.5555555555555556,\"#d8576b\"],[0.6666666666666666,\"#ed7953\"],[0.7777777777777778,\"#fb9f3a\"],[0.8888888888888888,\"#fdca26\"],[1.0,\"#f0f921\"]],\"type\":\"heatmapgl\"}],\"histogram\":[{\"marker\":{\"pattern\":{\"fillmode\":\"overlay\",\"size\":10,\"solidity\":0.2}},\"type\":\"histogram\"}],\"histogram2d\":[{\"colorbar\":{\"outlinewidth\":0,\"ticks\":\"\"},\"colorscale\":[[0.0,\"#0d0887\"],[0.1111111111111111,\"#46039f\"],[0.2222222222222222,\"#7201a8\"],[0.3333333333333333,\"#9c179e\"],[0.4444444444444444,\"#bd3786\"],[0.5555555555555556,\"#d8576b\"],[0.6666666666666666,\"#ed7953\"],[0.7777777777777778,\"#fb9f3a\"],[0.8888888888888888,\"#fdca26\"],[1.0,\"#f0f921\"]],\"type\":\"histogram2d\"}],\"histogram2dcontour\":[{\"colorbar\":{\"outlinewidth\":0,\"ticks\":\"\"},\"colorscale\":[[0.0,\"#0d0887\"],[0.1111111111111111,\"#46039f\"],[0.2222222222222222,\"#7201a8\"],[0.3333333333333333,\"#9c179e\"],[0.4444444444444444,\"#bd3786\"],[0.5555555555555556,\"#d8576b\"],[0.6666666666666666,\"#ed7953\"],[0.7777777777777778,\"#fb9f3a\"],[0.8888888888888888,\"#fdca26\"],[1.0,\"#f0f921\"]],\"type\":\"histogram2dcontour\"}],\"mesh3d\":[{\"colorbar\":{\"outlinewidth\":0,\"ticks\":\"\"},\"type\":\"mesh3d\"}],\"parcoords\":[{\"line\":{\"colorbar\":{\"outlinewidth\":0,\"ticks\":\"\"}},\"type\":\"parcoords\"}],\"pie\":[{\"automargin\":true,\"type\":\"pie\"}],\"scatter\":[{\"marker\":{\"colorbar\":{\"outlinewidth\":0,\"ticks\":\"\"}},\"type\":\"scatter\"}],\"scatter3d\":[{\"line\":{\"colorbar\":{\"outlinewidth\":0,\"ticks\":\"\"}},\"marker\":{\"colorbar\":{\"outlinewidth\":0,\"ticks\":\"\"}},\"type\":\"scatter3d\"}],\"scattercarpet\":[{\"marker\":{\"colorbar\":{\"outlinewidth\":0,\"ticks\":\"\"}},\"type\":\"scattercarpet\"}],\"scattergeo\":[{\"marker\":{\"colorbar\":{\"outlinewidth\":0,\"ticks\":\"\"}},\"type\":\"scattergeo\"}],\"scattergl\":[{\"marker\":{\"colorbar\":{\"outlinewidth\":0,\"ticks\":\"\"}},\"type\":\"scattergl\"}],\"scattermapbox\":[{\"marker\":{\"colorbar\":{\"outlinewidth\":0,\"ticks\":\"\"}},\"type\":\"scattermapbox\"}],\"scatterpolar\":[{\"marker\":{\"colorbar\":{\"outlinewidth\":0,\"ticks\":\"\"}},\"type\":\"scatterpolar\"}],\"scatterpolargl\":[{\"marker\":{\"colorbar\":{\"outlinewidth\":0,\"ticks\":\"\"}},\"type\":\"scatterpolargl\"}],\"scatterternary\":[{\"marker\":{\"colorbar\":{\"outlinewidth\":0,\"ticks\":\"\"}},\"type\":\"scatterternary\"}],\"surface\":[{\"colorbar\":{\"outlinewidth\":0,\"ticks\":\"\"},\"colorscale\":[[0.0,\"#0d0887\"],[0.1111111111111111,\"#46039f\"],[0.2222222222222222,\"#7201a8\"],[0.3333333333333333,\"#9c179e\"],[0.4444444444444444,\"#bd3786\"],[0.5555555555555556,\"#d8576b\"],[0.6666666666666666,\"#ed7953\"],[0.7777777777777778,\"#fb9f3a\"],[0.8888888888888888,\"#fdca26\"],[1.0,\"#f0f921\"]],\"type\":\"surface\"}],\"table\":[{\"cells\":{\"fill\":{\"color\":\"#EBF0F8\"},\"line\":{\"color\":\"white\"}},\"header\":{\"fill\":{\"color\":\"#C8D4E3\"},\"line\":{\"color\":\"white\"}},\"type\":\"table\"}]},\"layout\":{\"annotationdefaults\":{\"arrowcolor\":\"#2a3f5f\",\"arrowhead\":0,\"arrowwidth\":1},\"autotypenumbers\":\"strict\",\"coloraxis\":{\"colorbar\":{\"outlinewidth\":0,\"ticks\":\"\"}},\"colorscale\":{\"diverging\":[[0,\"#8e0152\"],[0.1,\"#c51b7d\"],[0.2,\"#de77ae\"],[0.3,\"#f1b6da\"],[0.4,\"#fde0ef\"],[0.5,\"#f7f7f7\"],[0.6,\"#e6f5d0\"],[0.7,\"#b8e186\"],[0.8,\"#7fbc41\"],[0.9,\"#4d9221\"],[1,\"#276419\"]],\"sequential\":[[0.0,\"#0d0887\"],[0.1111111111111111,\"#46039f\"],[0.2222222222222222,\"#7201a8\"],[0.3333333333333333,\"#9c179e\"],[0.4444444444444444,\"#bd3786\"],[0.5555555555555556,\"#d8576b\"],[0.6666666666666666,\"#ed7953\"],[0.7777777777777778,\"#fb9f3a\"],[0.8888888888888888,\"#fdca26\"],[1.0,\"#f0f921\"]],\"sequentialminus\":[[0.0,\"#0d0887\"],[0.1111111111111111,\"#46039f\"],[0.2222222222222222,\"#7201a8\"],[0.3333333333333333,\"#9c179e\"],[0.4444444444444444,\"#bd3786\"],[0.5555555555555556,\"#d8576b\"],[0.6666666666666666,\"#ed7953\"],[0.7777777777777778,\"#fb9f3a\"],[0.8888888888888888,\"#fdca26\"],[1.0,\"#f0f921\"]]},\"colorway\":[\"#636efa\",\"#EF553B\",\"#00cc96\",\"#ab63fa\",\"#FFA15A\",\"#19d3f3\",\"#FF6692\",\"#B6E880\",\"#FF97FF\",\"#FECB52\"],\"font\":{\"color\":\"#2a3f5f\"},\"geo\":{\"bgcolor\":\"white\",\"lakecolor\":\"white\",\"landcolor\":\"#E5ECF6\",\"showlakes\":true,\"showland\":true,\"subunitcolor\":\"white\"},\"hoverlabel\":{\"align\":\"left\"},\"hovermode\":\"closest\",\"mapbox\":{\"style\":\"light\"},\"paper_bgcolor\":\"white\",\"plot_bgcolor\":\"#E5ECF6\",\"polar\":{\"angularaxis\":{\"gridcolor\":\"white\",\"linecolor\":\"white\",\"ticks\":\"\"},\"bgcolor\":\"#E5ECF6\",\"radialaxis\":{\"gridcolor\":\"white\",\"linecolor\":\"white\",\"ticks\":\"\"}},\"scene\":{\"xaxis\":{\"backgroundcolor\":\"#E5ECF6\",\"gridcolor\":\"white\",\"gridwidth\":2,\"linecolor\":\"white\",\"showbackground\":true,\"ticks\":\"\",\"zerolinecolor\":\"white\"},\"yaxis\":{\"backgroundcolor\":\"#E5ECF6\",\"gridcolor\":\"white\",\"gridwidth\":2,\"linecolor\":\"white\",\"showbackground\":true,\"ticks\":\"\",\"zerolinecolor\":\"white\"},\"zaxis\":{\"backgroundcolor\":\"#E5ECF6\",\"gridcolor\":\"white\",\"gridwidth\":2,\"linecolor\":\"white\",\"showbackground\":true,\"ticks\":\"\",\"zerolinecolor\":\"white\"}},\"shapedefaults\":{\"line\":{\"color\":\"#2a3f5f\"}},\"ternary\":{\"aaxis\":{\"gridcolor\":\"white\",\"linecolor\":\"white\",\"ticks\":\"\"},\"baxis\":{\"gridcolor\":\"white\",\"linecolor\":\"white\",\"ticks\":\"\"},\"bgcolor\":\"#E5ECF6\",\"caxis\":{\"gridcolor\":\"white\",\"linecolor\":\"white\",\"ticks\":\"\"}},\"title\":{\"x\":0.05},\"xaxis\":{\"automargin\":true,\"gridcolor\":\"white\",\"linecolor\":\"white\",\"ticks\":\"\",\"title\":{\"standoff\":15},\"zerolinecolor\":\"white\",\"zerolinewidth\":2},\"yaxis\":{\"automargin\":true,\"gridcolor\":\"white\",\"linecolor\":\"white\",\"ticks\":\"\",\"title\":{\"standoff\":15},\"zerolinecolor\":\"white\",\"zerolinewidth\":2}}},\"title\":{\"text\":\"Episode similarity based on transcript embedding vectors\"},\"width\":750,\"xaxis\":{\"anchor\":\"y\",\"domain\":[0.0,1.0],\"title\":{\"text\":\"1st principal component\"}},\"yaxis\":{\"anchor\":\"x\",\"domain\":[0.0,1.0],\"title\":{\"text\":\"2nd principal component\"}}},                        {\"responsive\": true}                    ).then(function(){\n",
       "                            \n",
       "var gd = document.getElementById('e5c55a48-08ae-4c9d-a953-458e648ca519');\n",
       "var x = new MutationObserver(function (mutations, observer) {{\n",
       "        var display = window.getComputedStyle(gd).display;\n",
       "        if (!display || display === 'none') {{\n",
       "            console.log([gd, 'removed!']);\n",
       "            Plotly.purge(gd);\n",
       "            observer.disconnect();\n",
       "        }}\n",
       "}});\n",
       "\n",
       "// Listen for the removal of the full notebook cells\n",
       "var notebookContainer = gd.closest('#notebook-container');\n",
       "if (notebookContainer) {{\n",
       "    x.observe(notebookContainer, {childList: true});\n",
       "}}\n",
       "\n",
       "// Listen for the clearing of the current output cell\n",
       "var outputEl = gd.closest('.output');\n",
       "if (outputEl) {{\n",
       "    x.observe(outputEl, {childList: true});\n",
       "}}\n",
       "\n",
       "                        })                };                });            </script>        </div>"
      ]
     },
     "metadata": {},
     "output_type": "display_data"
    }
   ],
   "source": [
    "plot_episode_vectors()"
   ]
  },
  {
   "cell_type": "code",
   "execution_count": null,
   "id": "341c9211",
   "metadata": {},
   "outputs": [],
   "source": []
  },
  {
   "cell_type": "code",
   "execution_count": null,
   "id": "124d9f0f",
   "metadata": {},
   "outputs": [],
   "source": []
  },
  {
   "cell_type": "markdown",
   "id": "4c9a818c",
   "metadata": {},
   "source": [
    "### Sentence embeddings on character's lines --> find similarly talking people\n",
    "\n",
    "This can also be approached by topic modeling (LDA)"
   ]
  },
  {
   "cell_type": "code",
   "execution_count": 405,
   "id": "6bcb3c85",
   "metadata": {},
   "outputs": [],
   "source": [
    "embed_data_char = data[['season', 'speaker', 'cleaned_sw_rem']].copy()\n",
    "embed_data_char = embed_data_char[embed_data_char['cleaned_sw_rem'].notnull()]\n",
    "\n",
    "embed_data_char = embed_data_char.groupby(['speaker'])['cleaned_sw_rem'].apply(lambda x: ' '.join(x)).reset_index()\n",
    "embed_data_char.rename(columns = {'cleaned_sw_rem' : 'speech'}, inplace = True)\n",
    "\n",
    "sentence_vectors_char = model(embed_data_char['speech'].values)\n",
    "sentence_vectors_char_df = pd.DataFrame(np.array(sentence_vectors_char))\n",
    "\n",
    "pca = PCA(n_components = 2, random_state = 42)\n",
    "sentence_vectors_char_reduced = pca.fit_transform(sentence_vectors_char_df)\n",
    "\n",
    "embed_data_char[['vector_dim_1', 'vector_dim_2']] = sentence_vectors_char_reduced"
   ]
  },
  {
   "cell_type": "code",
   "execution_count": 406,
   "id": "bd148aa4",
   "metadata": {},
   "outputs": [
    {
     "data": {
      "application/vnd.plotly.v1+json": {
       "config": {
        "plotlyServerURL": "https://plot.ly"
       },
       "data": [
        {
         "customdata": [
          [
           "Andy"
          ],
          [
           "Angela"
          ],
          [
           "Creed"
          ],
          [
           "Darryl"
          ],
          [
           "David Wallace"
          ],
          [
           "Dwight"
          ],
          [
           "Erin"
          ],
          [
           "Gabe"
          ],
          [
           "Holly"
          ],
          [
           "Jan"
          ],
          [
           "Jim"
          ],
          [
           "Kelly"
          ],
          [
           "Kevin"
          ],
          [
           "Meredith"
          ],
          [
           "Michael"
          ],
          [
           "Nellie Bertram"
          ],
          [
           "Oscar"
          ],
          [
           "Pam"
          ],
          [
           "Phyllis"
          ],
          [
           "Robert California"
          ],
          [
           "Ryan"
          ],
          [
           "Stanley"
          ],
          [
           "Toby"
          ]
         ],
         "hovertemplate": "1st principal component=%{x}<br>2nd principal component=%{y}<br>Speaker=%{customdata[0]}<extra></extra>",
         "legendgroup": "",
         "marker": {
          "color": "#636efa",
          "line": {
           "color": "black",
           "width": 1
          },
          "opacity": 1,
          "size": 12,
          "symbol": "circle"
         },
         "mode": "markers",
         "name": "",
         "orientation": "v",
         "showlegend": false,
         "type": "scatter",
         "x": [
          -0.09333248436450958,
          -0.1485198587179184,
          -0.022705547511577606,
          -0.09359601885080338,
          0.5632557272911072,
          -0.1569603979587555,
          -0.08123573660850525,
          -0.0785675197839737,
          0.2406875044107437,
          0.46770790219306946,
          0.002328147180378437,
          -0.06308592855930328,
          -0.17932501435279846,
          -0.08260057866573334,
          -0.11927825957536697,
          -0.11233505606651306,
          -0.013090408407151699,
          0.0013171619502827525,
          -0.04387526586651802,
          -0.06952986121177673,
          0.029269134625792503,
          0.0441405288875103,
          0.009331846609711647
         ],
         "xaxis": "x",
         "y": [
          0.007842431776225567,
          0.10741572827100754,
          -0.040652722120285034,
          -0.0014384064124897122,
          0.20719487965106964,
          0.23218820989131927,
          -0.052861906588077545,
          0.041414692997932434,
          -0.10448942333459854,
          0.04695403575897217,
          -0.12143918126821518,
          -0.0872088298201561,
          0.13682252168655396,
          -0.010204297490417957,
          0.12030091136693954,
          0.14353370666503906,
          -0.043868646025657654,
          -0.13599444925785065,
          -0.10290556401014328,
          0.08690497279167175,
          -0.16237378120422363,
          -0.1482040137052536,
          -0.11893172562122345
         ],
         "yaxis": "y"
        }
       ],
       "layout": {
        "height": 450,
        "legend": {
         "tracegroupgap": 0
        },
        "showlegend": false,
        "template": {
         "data": {
          "bar": [
           {
            "error_x": {
             "color": "#2a3f5f"
            },
            "error_y": {
             "color": "#2a3f5f"
            },
            "marker": {
             "line": {
              "color": "#E5ECF6",
              "width": 0.5
             },
             "pattern": {
              "fillmode": "overlay",
              "size": 10,
              "solidity": 0.2
             }
            },
            "type": "bar"
           }
          ],
          "barpolar": [
           {
            "marker": {
             "line": {
              "color": "#E5ECF6",
              "width": 0.5
             },
             "pattern": {
              "fillmode": "overlay",
              "size": 10,
              "solidity": 0.2
             }
            },
            "type": "barpolar"
           }
          ],
          "carpet": [
           {
            "aaxis": {
             "endlinecolor": "#2a3f5f",
             "gridcolor": "white",
             "linecolor": "white",
             "minorgridcolor": "white",
             "startlinecolor": "#2a3f5f"
            },
            "baxis": {
             "endlinecolor": "#2a3f5f",
             "gridcolor": "white",
             "linecolor": "white",
             "minorgridcolor": "white",
             "startlinecolor": "#2a3f5f"
            },
            "type": "carpet"
           }
          ],
          "choropleth": [
           {
            "colorbar": {
             "outlinewidth": 0,
             "ticks": ""
            },
            "type": "choropleth"
           }
          ],
          "contour": [
           {
            "colorbar": {
             "outlinewidth": 0,
             "ticks": ""
            },
            "colorscale": [
             [
              0,
              "#0d0887"
             ],
             [
              0.1111111111111111,
              "#46039f"
             ],
             [
              0.2222222222222222,
              "#7201a8"
             ],
             [
              0.3333333333333333,
              "#9c179e"
             ],
             [
              0.4444444444444444,
              "#bd3786"
             ],
             [
              0.5555555555555556,
              "#d8576b"
             ],
             [
              0.6666666666666666,
              "#ed7953"
             ],
             [
              0.7777777777777778,
              "#fb9f3a"
             ],
             [
              0.8888888888888888,
              "#fdca26"
             ],
             [
              1,
              "#f0f921"
             ]
            ],
            "type": "contour"
           }
          ],
          "contourcarpet": [
           {
            "colorbar": {
             "outlinewidth": 0,
             "ticks": ""
            },
            "type": "contourcarpet"
           }
          ],
          "heatmap": [
           {
            "colorbar": {
             "outlinewidth": 0,
             "ticks": ""
            },
            "colorscale": [
             [
              0,
              "#0d0887"
             ],
             [
              0.1111111111111111,
              "#46039f"
             ],
             [
              0.2222222222222222,
              "#7201a8"
             ],
             [
              0.3333333333333333,
              "#9c179e"
             ],
             [
              0.4444444444444444,
              "#bd3786"
             ],
             [
              0.5555555555555556,
              "#d8576b"
             ],
             [
              0.6666666666666666,
              "#ed7953"
             ],
             [
              0.7777777777777778,
              "#fb9f3a"
             ],
             [
              0.8888888888888888,
              "#fdca26"
             ],
             [
              1,
              "#f0f921"
             ]
            ],
            "type": "heatmap"
           }
          ],
          "heatmapgl": [
           {
            "colorbar": {
             "outlinewidth": 0,
             "ticks": ""
            },
            "colorscale": [
             [
              0,
              "#0d0887"
             ],
             [
              0.1111111111111111,
              "#46039f"
             ],
             [
              0.2222222222222222,
              "#7201a8"
             ],
             [
              0.3333333333333333,
              "#9c179e"
             ],
             [
              0.4444444444444444,
              "#bd3786"
             ],
             [
              0.5555555555555556,
              "#d8576b"
             ],
             [
              0.6666666666666666,
              "#ed7953"
             ],
             [
              0.7777777777777778,
              "#fb9f3a"
             ],
             [
              0.8888888888888888,
              "#fdca26"
             ],
             [
              1,
              "#f0f921"
             ]
            ],
            "type": "heatmapgl"
           }
          ],
          "histogram": [
           {
            "marker": {
             "pattern": {
              "fillmode": "overlay",
              "size": 10,
              "solidity": 0.2
             }
            },
            "type": "histogram"
           }
          ],
          "histogram2d": [
           {
            "colorbar": {
             "outlinewidth": 0,
             "ticks": ""
            },
            "colorscale": [
             [
              0,
              "#0d0887"
             ],
             [
              0.1111111111111111,
              "#46039f"
             ],
             [
              0.2222222222222222,
              "#7201a8"
             ],
             [
              0.3333333333333333,
              "#9c179e"
             ],
             [
              0.4444444444444444,
              "#bd3786"
             ],
             [
              0.5555555555555556,
              "#d8576b"
             ],
             [
              0.6666666666666666,
              "#ed7953"
             ],
             [
              0.7777777777777778,
              "#fb9f3a"
             ],
             [
              0.8888888888888888,
              "#fdca26"
             ],
             [
              1,
              "#f0f921"
             ]
            ],
            "type": "histogram2d"
           }
          ],
          "histogram2dcontour": [
           {
            "colorbar": {
             "outlinewidth": 0,
             "ticks": ""
            },
            "colorscale": [
             [
              0,
              "#0d0887"
             ],
             [
              0.1111111111111111,
              "#46039f"
             ],
             [
              0.2222222222222222,
              "#7201a8"
             ],
             [
              0.3333333333333333,
              "#9c179e"
             ],
             [
              0.4444444444444444,
              "#bd3786"
             ],
             [
              0.5555555555555556,
              "#d8576b"
             ],
             [
              0.6666666666666666,
              "#ed7953"
             ],
             [
              0.7777777777777778,
              "#fb9f3a"
             ],
             [
              0.8888888888888888,
              "#fdca26"
             ],
             [
              1,
              "#f0f921"
             ]
            ],
            "type": "histogram2dcontour"
           }
          ],
          "mesh3d": [
           {
            "colorbar": {
             "outlinewidth": 0,
             "ticks": ""
            },
            "type": "mesh3d"
           }
          ],
          "parcoords": [
           {
            "line": {
             "colorbar": {
              "outlinewidth": 0,
              "ticks": ""
             }
            },
            "type": "parcoords"
           }
          ],
          "pie": [
           {
            "automargin": true,
            "type": "pie"
           }
          ],
          "scatter": [
           {
            "marker": {
             "colorbar": {
              "outlinewidth": 0,
              "ticks": ""
             }
            },
            "type": "scatter"
           }
          ],
          "scatter3d": [
           {
            "line": {
             "colorbar": {
              "outlinewidth": 0,
              "ticks": ""
             }
            },
            "marker": {
             "colorbar": {
              "outlinewidth": 0,
              "ticks": ""
             }
            },
            "type": "scatter3d"
           }
          ],
          "scattercarpet": [
           {
            "marker": {
             "colorbar": {
              "outlinewidth": 0,
              "ticks": ""
             }
            },
            "type": "scattercarpet"
           }
          ],
          "scattergeo": [
           {
            "marker": {
             "colorbar": {
              "outlinewidth": 0,
              "ticks": ""
             }
            },
            "type": "scattergeo"
           }
          ],
          "scattergl": [
           {
            "marker": {
             "colorbar": {
              "outlinewidth": 0,
              "ticks": ""
             }
            },
            "type": "scattergl"
           }
          ],
          "scattermapbox": [
           {
            "marker": {
             "colorbar": {
              "outlinewidth": 0,
              "ticks": ""
             }
            },
            "type": "scattermapbox"
           }
          ],
          "scatterpolar": [
           {
            "marker": {
             "colorbar": {
              "outlinewidth": 0,
              "ticks": ""
             }
            },
            "type": "scatterpolar"
           }
          ],
          "scatterpolargl": [
           {
            "marker": {
             "colorbar": {
              "outlinewidth": 0,
              "ticks": ""
             }
            },
            "type": "scatterpolargl"
           }
          ],
          "scatterternary": [
           {
            "marker": {
             "colorbar": {
              "outlinewidth": 0,
              "ticks": ""
             }
            },
            "type": "scatterternary"
           }
          ],
          "surface": [
           {
            "colorbar": {
             "outlinewidth": 0,
             "ticks": ""
            },
            "colorscale": [
             [
              0,
              "#0d0887"
             ],
             [
              0.1111111111111111,
              "#46039f"
             ],
             [
              0.2222222222222222,
              "#7201a8"
             ],
             [
              0.3333333333333333,
              "#9c179e"
             ],
             [
              0.4444444444444444,
              "#bd3786"
             ],
             [
              0.5555555555555556,
              "#d8576b"
             ],
             [
              0.6666666666666666,
              "#ed7953"
             ],
             [
              0.7777777777777778,
              "#fb9f3a"
             ],
             [
              0.8888888888888888,
              "#fdca26"
             ],
             [
              1,
              "#f0f921"
             ]
            ],
            "type": "surface"
           }
          ],
          "table": [
           {
            "cells": {
             "fill": {
              "color": "#EBF0F8"
             },
             "line": {
              "color": "white"
             }
            },
            "header": {
             "fill": {
              "color": "#C8D4E3"
             },
             "line": {
              "color": "white"
             }
            },
            "type": "table"
           }
          ]
         },
         "layout": {
          "annotationdefaults": {
           "arrowcolor": "#2a3f5f",
           "arrowhead": 0,
           "arrowwidth": 1
          },
          "autotypenumbers": "strict",
          "coloraxis": {
           "colorbar": {
            "outlinewidth": 0,
            "ticks": ""
           }
          },
          "colorscale": {
           "diverging": [
            [
             0,
             "#8e0152"
            ],
            [
             0.1,
             "#c51b7d"
            ],
            [
             0.2,
             "#de77ae"
            ],
            [
             0.3,
             "#f1b6da"
            ],
            [
             0.4,
             "#fde0ef"
            ],
            [
             0.5,
             "#f7f7f7"
            ],
            [
             0.6,
             "#e6f5d0"
            ],
            [
             0.7,
             "#b8e186"
            ],
            [
             0.8,
             "#7fbc41"
            ],
            [
             0.9,
             "#4d9221"
            ],
            [
             1,
             "#276419"
            ]
           ],
           "sequential": [
            [
             0,
             "#0d0887"
            ],
            [
             0.1111111111111111,
             "#46039f"
            ],
            [
             0.2222222222222222,
             "#7201a8"
            ],
            [
             0.3333333333333333,
             "#9c179e"
            ],
            [
             0.4444444444444444,
             "#bd3786"
            ],
            [
             0.5555555555555556,
             "#d8576b"
            ],
            [
             0.6666666666666666,
             "#ed7953"
            ],
            [
             0.7777777777777778,
             "#fb9f3a"
            ],
            [
             0.8888888888888888,
             "#fdca26"
            ],
            [
             1,
             "#f0f921"
            ]
           ],
           "sequentialminus": [
            [
             0,
             "#0d0887"
            ],
            [
             0.1111111111111111,
             "#46039f"
            ],
            [
             0.2222222222222222,
             "#7201a8"
            ],
            [
             0.3333333333333333,
             "#9c179e"
            ],
            [
             0.4444444444444444,
             "#bd3786"
            ],
            [
             0.5555555555555556,
             "#d8576b"
            ],
            [
             0.6666666666666666,
             "#ed7953"
            ],
            [
             0.7777777777777778,
             "#fb9f3a"
            ],
            [
             0.8888888888888888,
             "#fdca26"
            ],
            [
             1,
             "#f0f921"
            ]
           ]
          },
          "colorway": [
           "#636efa",
           "#EF553B",
           "#00cc96",
           "#ab63fa",
           "#FFA15A",
           "#19d3f3",
           "#FF6692",
           "#B6E880",
           "#FF97FF",
           "#FECB52"
          ],
          "font": {
           "color": "#2a3f5f"
          },
          "geo": {
           "bgcolor": "white",
           "lakecolor": "white",
           "landcolor": "#E5ECF6",
           "showlakes": true,
           "showland": true,
           "subunitcolor": "white"
          },
          "hoverlabel": {
           "align": "left"
          },
          "hovermode": "closest",
          "mapbox": {
           "style": "light"
          },
          "paper_bgcolor": "white",
          "plot_bgcolor": "#E5ECF6",
          "polar": {
           "angularaxis": {
            "gridcolor": "white",
            "linecolor": "white",
            "ticks": ""
           },
           "bgcolor": "#E5ECF6",
           "radialaxis": {
            "gridcolor": "white",
            "linecolor": "white",
            "ticks": ""
           }
          },
          "scene": {
           "xaxis": {
            "backgroundcolor": "#E5ECF6",
            "gridcolor": "white",
            "gridwidth": 2,
            "linecolor": "white",
            "showbackground": true,
            "ticks": "",
            "zerolinecolor": "white"
           },
           "yaxis": {
            "backgroundcolor": "#E5ECF6",
            "gridcolor": "white",
            "gridwidth": 2,
            "linecolor": "white",
            "showbackground": true,
            "ticks": "",
            "zerolinecolor": "white"
           },
           "zaxis": {
            "backgroundcolor": "#E5ECF6",
            "gridcolor": "white",
            "gridwidth": 2,
            "linecolor": "white",
            "showbackground": true,
            "ticks": "",
            "zerolinecolor": "white"
           }
          },
          "shapedefaults": {
           "line": {
            "color": "#2a3f5f"
           }
          },
          "ternary": {
           "aaxis": {
            "gridcolor": "white",
            "linecolor": "white",
            "ticks": ""
           },
           "baxis": {
            "gridcolor": "white",
            "linecolor": "white",
            "ticks": ""
           },
           "bgcolor": "#E5ECF6",
           "caxis": {
            "gridcolor": "white",
            "linecolor": "white",
            "ticks": ""
           }
          },
          "title": {
           "x": 0.05
          },
          "xaxis": {
           "automargin": true,
           "gridcolor": "white",
           "linecolor": "white",
           "ticks": "",
           "title": {
            "standoff": 15
           },
           "zerolinecolor": "white",
           "zerolinewidth": 2
          },
          "yaxis": {
           "automargin": true,
           "gridcolor": "white",
           "linecolor": "white",
           "ticks": "",
           "title": {
            "standoff": 15
           },
           "zerolinecolor": "white",
           "zerolinewidth": 2
          }
         }
        },
        "title": {
         "text": "Similarly talking characters"
        },
        "width": 750,
        "xaxis": {
         "anchor": "y",
         "domain": [
          0,
          1
         ],
         "title": {
          "text": "1st principal component"
         }
        },
        "yaxis": {
         "anchor": "x",
         "domain": [
          0,
          1
         ],
         "title": {
          "text": "2nd principal component"
         }
        }
       }
      },
      "text/html": [
       "<div>                            <div id=\"15d905bd-caa3-49d0-b06c-53cc51afcb73\" class=\"plotly-graph-div\" style=\"height:450px; width:750px;\"></div>            <script type=\"text/javascript\">                require([\"plotly\"], function(Plotly) {                    window.PLOTLYENV=window.PLOTLYENV || {};                                    if (document.getElementById(\"15d905bd-caa3-49d0-b06c-53cc51afcb73\")) {                    Plotly.newPlot(                        \"15d905bd-caa3-49d0-b06c-53cc51afcb73\",                        [{\"customdata\":[[\"Andy\"],[\"Angela\"],[\"Creed\"],[\"Darryl\"],[\"David Wallace\"],[\"Dwight\"],[\"Erin\"],[\"Gabe\"],[\"Holly\"],[\"Jan\"],[\"Jim\"],[\"Kelly\"],[\"Kevin\"],[\"Meredith\"],[\"Michael\"],[\"Nellie Bertram\"],[\"Oscar\"],[\"Pam\"],[\"Phyllis\"],[\"Robert California\"],[\"Ryan\"],[\"Stanley\"],[\"Toby\"]],\"hovertemplate\":\"1st principal component=%{x}<br>2nd principal component=%{y}<br>Speaker=%{customdata[0]}<extra></extra>\",\"legendgroup\":\"\",\"marker\":{\"color\":\"#636efa\",\"line\":{\"color\":\"black\",\"width\":1},\"opacity\":1,\"size\":12,\"symbol\":\"circle\"},\"mode\":\"markers\",\"name\":\"\",\"orientation\":\"v\",\"showlegend\":false,\"type\":\"scatter\",\"x\":[-0.09333248436450958,-0.1485198587179184,-0.022705547511577606,-0.09359601885080338,0.5632557272911072,-0.1569603979587555,-0.08123573660850525,-0.0785675197839737,0.2406875044107437,0.46770790219306946,0.002328147180378437,-0.06308592855930328,-0.17932501435279846,-0.08260057866573334,-0.11927825957536697,-0.11233505606651306,-0.013090408407151699,0.0013171619502827525,-0.04387526586651802,-0.06952986121177673,0.029269134625792503,0.0441405288875103,0.009331846609711647],\"xaxis\":\"x\",\"y\":[0.007842431776225567,0.10741572827100754,-0.040652722120285034,-0.0014384064124897122,0.20719487965106964,0.23218820989131927,-0.052861906588077545,0.041414692997932434,-0.10448942333459854,0.04695403575897217,-0.12143918126821518,-0.0872088298201561,0.13682252168655396,-0.010204297490417957,0.12030091136693954,0.14353370666503906,-0.043868646025657654,-0.13599444925785065,-0.10290556401014328,0.08690497279167175,-0.16237378120422363,-0.1482040137052536,-0.11893172562122345],\"yaxis\":\"y\"}],                        {\"height\":450,\"legend\":{\"tracegroupgap\":0},\"showlegend\":false,\"template\":{\"data\":{\"bar\":[{\"error_x\":{\"color\":\"#2a3f5f\"},\"error_y\":{\"color\":\"#2a3f5f\"},\"marker\":{\"line\":{\"color\":\"#E5ECF6\",\"width\":0.5},\"pattern\":{\"fillmode\":\"overlay\",\"size\":10,\"solidity\":0.2}},\"type\":\"bar\"}],\"barpolar\":[{\"marker\":{\"line\":{\"color\":\"#E5ECF6\",\"width\":0.5},\"pattern\":{\"fillmode\":\"overlay\",\"size\":10,\"solidity\":0.2}},\"type\":\"barpolar\"}],\"carpet\":[{\"aaxis\":{\"endlinecolor\":\"#2a3f5f\",\"gridcolor\":\"white\",\"linecolor\":\"white\",\"minorgridcolor\":\"white\",\"startlinecolor\":\"#2a3f5f\"},\"baxis\":{\"endlinecolor\":\"#2a3f5f\",\"gridcolor\":\"white\",\"linecolor\":\"white\",\"minorgridcolor\":\"white\",\"startlinecolor\":\"#2a3f5f\"},\"type\":\"carpet\"}],\"choropleth\":[{\"colorbar\":{\"outlinewidth\":0,\"ticks\":\"\"},\"type\":\"choropleth\"}],\"contour\":[{\"colorbar\":{\"outlinewidth\":0,\"ticks\":\"\"},\"colorscale\":[[0.0,\"#0d0887\"],[0.1111111111111111,\"#46039f\"],[0.2222222222222222,\"#7201a8\"],[0.3333333333333333,\"#9c179e\"],[0.4444444444444444,\"#bd3786\"],[0.5555555555555556,\"#d8576b\"],[0.6666666666666666,\"#ed7953\"],[0.7777777777777778,\"#fb9f3a\"],[0.8888888888888888,\"#fdca26\"],[1.0,\"#f0f921\"]],\"type\":\"contour\"}],\"contourcarpet\":[{\"colorbar\":{\"outlinewidth\":0,\"ticks\":\"\"},\"type\":\"contourcarpet\"}],\"heatmap\":[{\"colorbar\":{\"outlinewidth\":0,\"ticks\":\"\"},\"colorscale\":[[0.0,\"#0d0887\"],[0.1111111111111111,\"#46039f\"],[0.2222222222222222,\"#7201a8\"],[0.3333333333333333,\"#9c179e\"],[0.4444444444444444,\"#bd3786\"],[0.5555555555555556,\"#d8576b\"],[0.6666666666666666,\"#ed7953\"],[0.7777777777777778,\"#fb9f3a\"],[0.8888888888888888,\"#fdca26\"],[1.0,\"#f0f921\"]],\"type\":\"heatmap\"}],\"heatmapgl\":[{\"colorbar\":{\"outlinewidth\":0,\"ticks\":\"\"},\"colorscale\":[[0.0,\"#0d0887\"],[0.1111111111111111,\"#46039f\"],[0.2222222222222222,\"#7201a8\"],[0.3333333333333333,\"#9c179e\"],[0.4444444444444444,\"#bd3786\"],[0.5555555555555556,\"#d8576b\"],[0.6666666666666666,\"#ed7953\"],[0.7777777777777778,\"#fb9f3a\"],[0.8888888888888888,\"#fdca26\"],[1.0,\"#f0f921\"]],\"type\":\"heatmapgl\"}],\"histogram\":[{\"marker\":{\"pattern\":{\"fillmode\":\"overlay\",\"size\":10,\"solidity\":0.2}},\"type\":\"histogram\"}],\"histogram2d\":[{\"colorbar\":{\"outlinewidth\":0,\"ticks\":\"\"},\"colorscale\":[[0.0,\"#0d0887\"],[0.1111111111111111,\"#46039f\"],[0.2222222222222222,\"#7201a8\"],[0.3333333333333333,\"#9c179e\"],[0.4444444444444444,\"#bd3786\"],[0.5555555555555556,\"#d8576b\"],[0.6666666666666666,\"#ed7953\"],[0.7777777777777778,\"#fb9f3a\"],[0.8888888888888888,\"#fdca26\"],[1.0,\"#f0f921\"]],\"type\":\"histogram2d\"}],\"histogram2dcontour\":[{\"colorbar\":{\"outlinewidth\":0,\"ticks\":\"\"},\"colorscale\":[[0.0,\"#0d0887\"],[0.1111111111111111,\"#46039f\"],[0.2222222222222222,\"#7201a8\"],[0.3333333333333333,\"#9c179e\"],[0.4444444444444444,\"#bd3786\"],[0.5555555555555556,\"#d8576b\"],[0.6666666666666666,\"#ed7953\"],[0.7777777777777778,\"#fb9f3a\"],[0.8888888888888888,\"#fdca26\"],[1.0,\"#f0f921\"]],\"type\":\"histogram2dcontour\"}],\"mesh3d\":[{\"colorbar\":{\"outlinewidth\":0,\"ticks\":\"\"},\"type\":\"mesh3d\"}],\"parcoords\":[{\"line\":{\"colorbar\":{\"outlinewidth\":0,\"ticks\":\"\"}},\"type\":\"parcoords\"}],\"pie\":[{\"automargin\":true,\"type\":\"pie\"}],\"scatter\":[{\"marker\":{\"colorbar\":{\"outlinewidth\":0,\"ticks\":\"\"}},\"type\":\"scatter\"}],\"scatter3d\":[{\"line\":{\"colorbar\":{\"outlinewidth\":0,\"ticks\":\"\"}},\"marker\":{\"colorbar\":{\"outlinewidth\":0,\"ticks\":\"\"}},\"type\":\"scatter3d\"}],\"scattercarpet\":[{\"marker\":{\"colorbar\":{\"outlinewidth\":0,\"ticks\":\"\"}},\"type\":\"scattercarpet\"}],\"scattergeo\":[{\"marker\":{\"colorbar\":{\"outlinewidth\":0,\"ticks\":\"\"}},\"type\":\"scattergeo\"}],\"scattergl\":[{\"marker\":{\"colorbar\":{\"outlinewidth\":0,\"ticks\":\"\"}},\"type\":\"scattergl\"}],\"scattermapbox\":[{\"marker\":{\"colorbar\":{\"outlinewidth\":0,\"ticks\":\"\"}},\"type\":\"scattermapbox\"}],\"scatterpolar\":[{\"marker\":{\"colorbar\":{\"outlinewidth\":0,\"ticks\":\"\"}},\"type\":\"scatterpolar\"}],\"scatterpolargl\":[{\"marker\":{\"colorbar\":{\"outlinewidth\":0,\"ticks\":\"\"}},\"type\":\"scatterpolargl\"}],\"scatterternary\":[{\"marker\":{\"colorbar\":{\"outlinewidth\":0,\"ticks\":\"\"}},\"type\":\"scatterternary\"}],\"surface\":[{\"colorbar\":{\"outlinewidth\":0,\"ticks\":\"\"},\"colorscale\":[[0.0,\"#0d0887\"],[0.1111111111111111,\"#46039f\"],[0.2222222222222222,\"#7201a8\"],[0.3333333333333333,\"#9c179e\"],[0.4444444444444444,\"#bd3786\"],[0.5555555555555556,\"#d8576b\"],[0.6666666666666666,\"#ed7953\"],[0.7777777777777778,\"#fb9f3a\"],[0.8888888888888888,\"#fdca26\"],[1.0,\"#f0f921\"]],\"type\":\"surface\"}],\"table\":[{\"cells\":{\"fill\":{\"color\":\"#EBF0F8\"},\"line\":{\"color\":\"white\"}},\"header\":{\"fill\":{\"color\":\"#C8D4E3\"},\"line\":{\"color\":\"white\"}},\"type\":\"table\"}]},\"layout\":{\"annotationdefaults\":{\"arrowcolor\":\"#2a3f5f\",\"arrowhead\":0,\"arrowwidth\":1},\"autotypenumbers\":\"strict\",\"coloraxis\":{\"colorbar\":{\"outlinewidth\":0,\"ticks\":\"\"}},\"colorscale\":{\"diverging\":[[0,\"#8e0152\"],[0.1,\"#c51b7d\"],[0.2,\"#de77ae\"],[0.3,\"#f1b6da\"],[0.4,\"#fde0ef\"],[0.5,\"#f7f7f7\"],[0.6,\"#e6f5d0\"],[0.7,\"#b8e186\"],[0.8,\"#7fbc41\"],[0.9,\"#4d9221\"],[1,\"#276419\"]],\"sequential\":[[0.0,\"#0d0887\"],[0.1111111111111111,\"#46039f\"],[0.2222222222222222,\"#7201a8\"],[0.3333333333333333,\"#9c179e\"],[0.4444444444444444,\"#bd3786\"],[0.5555555555555556,\"#d8576b\"],[0.6666666666666666,\"#ed7953\"],[0.7777777777777778,\"#fb9f3a\"],[0.8888888888888888,\"#fdca26\"],[1.0,\"#f0f921\"]],\"sequentialminus\":[[0.0,\"#0d0887\"],[0.1111111111111111,\"#46039f\"],[0.2222222222222222,\"#7201a8\"],[0.3333333333333333,\"#9c179e\"],[0.4444444444444444,\"#bd3786\"],[0.5555555555555556,\"#d8576b\"],[0.6666666666666666,\"#ed7953\"],[0.7777777777777778,\"#fb9f3a\"],[0.8888888888888888,\"#fdca26\"],[1.0,\"#f0f921\"]]},\"colorway\":[\"#636efa\",\"#EF553B\",\"#00cc96\",\"#ab63fa\",\"#FFA15A\",\"#19d3f3\",\"#FF6692\",\"#B6E880\",\"#FF97FF\",\"#FECB52\"],\"font\":{\"color\":\"#2a3f5f\"},\"geo\":{\"bgcolor\":\"white\",\"lakecolor\":\"white\",\"landcolor\":\"#E5ECF6\",\"showlakes\":true,\"showland\":true,\"subunitcolor\":\"white\"},\"hoverlabel\":{\"align\":\"left\"},\"hovermode\":\"closest\",\"mapbox\":{\"style\":\"light\"},\"paper_bgcolor\":\"white\",\"plot_bgcolor\":\"#E5ECF6\",\"polar\":{\"angularaxis\":{\"gridcolor\":\"white\",\"linecolor\":\"white\",\"ticks\":\"\"},\"bgcolor\":\"#E5ECF6\",\"radialaxis\":{\"gridcolor\":\"white\",\"linecolor\":\"white\",\"ticks\":\"\"}},\"scene\":{\"xaxis\":{\"backgroundcolor\":\"#E5ECF6\",\"gridcolor\":\"white\",\"gridwidth\":2,\"linecolor\":\"white\",\"showbackground\":true,\"ticks\":\"\",\"zerolinecolor\":\"white\"},\"yaxis\":{\"backgroundcolor\":\"#E5ECF6\",\"gridcolor\":\"white\",\"gridwidth\":2,\"linecolor\":\"white\",\"showbackground\":true,\"ticks\":\"\",\"zerolinecolor\":\"white\"},\"zaxis\":{\"backgroundcolor\":\"#E5ECF6\",\"gridcolor\":\"white\",\"gridwidth\":2,\"linecolor\":\"white\",\"showbackground\":true,\"ticks\":\"\",\"zerolinecolor\":\"white\"}},\"shapedefaults\":{\"line\":{\"color\":\"#2a3f5f\"}},\"ternary\":{\"aaxis\":{\"gridcolor\":\"white\",\"linecolor\":\"white\",\"ticks\":\"\"},\"baxis\":{\"gridcolor\":\"white\",\"linecolor\":\"white\",\"ticks\":\"\"},\"bgcolor\":\"#E5ECF6\",\"caxis\":{\"gridcolor\":\"white\",\"linecolor\":\"white\",\"ticks\":\"\"}},\"title\":{\"x\":0.05},\"xaxis\":{\"automargin\":true,\"gridcolor\":\"white\",\"linecolor\":\"white\",\"ticks\":\"\",\"title\":{\"standoff\":15},\"zerolinecolor\":\"white\",\"zerolinewidth\":2},\"yaxis\":{\"automargin\":true,\"gridcolor\":\"white\",\"linecolor\":\"white\",\"ticks\":\"\",\"title\":{\"standoff\":15},\"zerolinecolor\":\"white\",\"zerolinewidth\":2}}},\"title\":{\"text\":\"Similarly talking characters\"},\"width\":750,\"xaxis\":{\"anchor\":\"y\",\"domain\":[0.0,1.0],\"title\":{\"text\":\"1st principal component\"}},\"yaxis\":{\"anchor\":\"x\",\"domain\":[0.0,1.0],\"title\":{\"text\":\"2nd principal component\"}}},                        {\"responsive\": true}                    ).then(function(){\n",
       "                            \n",
       "var gd = document.getElementById('15d905bd-caa3-49d0-b06c-53cc51afcb73');\n",
       "var x = new MutationObserver(function (mutations, observer) {{\n",
       "        var display = window.getComputedStyle(gd).display;\n",
       "        if (!display || display === 'none') {{\n",
       "            console.log([gd, 'removed!']);\n",
       "            Plotly.purge(gd);\n",
       "            observer.disconnect();\n",
       "        }}\n",
       "}});\n",
       "\n",
       "// Listen for the removal of the full notebook cells\n",
       "var notebookContainer = gd.closest('#notebook-container');\n",
       "if (notebookContainer) {{\n",
       "    x.observe(notebookContainer, {childList: true});\n",
       "}}\n",
       "\n",
       "// Listen for the clearing of the current output cell\n",
       "var outputEl = gd.closest('.output');\n",
       "if (outputEl) {{\n",
       "    x.observe(outputEl, {childList: true});\n",
       "}}\n",
       "\n",
       "                        })                };                });            </script>        </div>"
      ]
     },
     "metadata": {},
     "output_type": "display_data"
    }
   ],
   "source": [
    "plot_character_vectors()"
   ]
  },
  {
   "cell_type": "code",
   "execution_count": null,
   "id": "6fa82014",
   "metadata": {},
   "outputs": [],
   "source": []
  },
  {
   "cell_type": "code",
   "execution_count": null,
   "id": "5cd5e5bb",
   "metadata": {},
   "outputs": [],
   "source": []
  },
  {
   "cell_type": "markdown",
   "id": "54f97005",
   "metadata": {},
   "source": [
    "### LDA topic modeling"
   ]
  },
  {
   "cell_type": "code",
   "execution_count": null,
   "id": "b4da12c1",
   "metadata": {},
   "outputs": [],
   "source": []
  }
 ],
 "metadata": {
  "kernelspec": {
   "display_name": "Python 3",
   "language": "python",
   "name": "python3"
  },
  "language_info": {
   "codemirror_mode": {
    "name": "ipython",
    "version": 3
   },
   "file_extension": ".py",
   "mimetype": "text/x-python",
   "name": "python",
   "nbconvert_exporter": "python",
   "pygments_lexer": "ipython3",
   "version": "3.8.8"
  }
 },
 "nbformat": 4,
 "nbformat_minor": 5
}
