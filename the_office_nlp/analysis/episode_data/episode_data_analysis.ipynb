{
 "cells": [
  {
   "cell_type": "code",
   "execution_count": 153,
   "id": "67e17492",
   "metadata": {},
   "outputs": [],
   "source": [
    "import pandas as pd\n",
    "import numpy as np\n",
    "\n",
    "import plotly.express as px\n",
    "\n",
    "import warnings\n",
    "warnings.filterwarnings('ignore')\n",
    "\n",
    "def plot_box_over_time(data, x, y, hover_list):\n",
    "    \n",
    "    fig = px.box(data, x = x, y = y, hover_data = hover_list,\n",
    "                  title = y + ' over time',\n",
    "                  width = 850, height = 450)\n",
    "    fig.update_layout(showlegend=False)\n",
    "    fig.update_yaxes(visible = True, showticklabels = True, title = None)\n",
    "    fig.show()\n",
    "    \n",
    "def plot_box(data, x, y, hover_list, cat_array, title):\n",
    "    \n",
    "    fig = px.box(data, x = x, y = y, hover_data = hover_list,\n",
    "                  title = title,\n",
    "                  width = 850, height = 450)\n",
    "    fig.update_layout(showlegend=False)\n",
    "    fig.update_yaxes(visible = True, showticklabels = True, title = None)\n",
    "    fig.update_xaxes(visible = True, showticklabels = True, title = None)\n",
    "    fig.update_xaxes(categoryorder='array', categoryarray= cat_array)\n",
    "    fig.show()"
   ]
  },
  {
   "cell_type": "code",
   "execution_count": 154,
   "id": "45241ae6",
   "metadata": {},
   "outputs": [],
   "source": [
    "data = pd.read_csv('../../data/the_office_series.csv', index_col = 0)"
   ]
  },
  {
   "cell_type": "code",
   "execution_count": 155,
   "id": "a45bc8d5",
   "metadata": {},
   "outputs": [],
   "source": [
    "data['Date'] = pd.to_datetime(data['Date'], format = ' %d %B %Y')"
   ]
  },
  {
   "cell_type": "code",
   "execution_count": 156,
   "id": "bd962b3e",
   "metadata": {},
   "outputs": [],
   "source": [
    "data.loc[data['EpisodeTitle'] == 'Boys and Girls', 'Director'] = 'Dennie Gordon'\n",
    "data.loc[data['EpisodeTitle'] == 'Take Your Daughter to Work Day', 'Director'] = 'Victor Nelli Jr.'\n",
    "data.loc[data['EpisodeTitle'] == 'Launch Party', 'Director'] = 'Ken Whittingham'\n",
    "data.loc[data['EpisodeTitle'] == 'Frame Toby', 'Director'] = 'Jason Reitman'\n",
    "data.loc[data['EpisodeTitle'] == 'WUPHF.com', 'Director'] = 'Danny Leiner'\n",
    "data.loc[data['EpisodeTitle'] == 'The Search', 'Director'] = 'Michael Spiller'\n",
    "data.loc[data['EpisodeTitle'] == 'The Whale', 'Director'] = 'Rodman Flender'"
   ]
  },
  {
   "cell_type": "code",
   "execution_count": 157,
   "id": "12b8999c",
   "metadata": {},
   "outputs": [],
   "source": [
    "data['Writers'] = data['Writers'].str.replace('|', ',')\\\n",
    "                                 .str.replace(' and ', ',')\\\n",
    "                                 .str.replace('\\s+', ' ')\\\n",
    "                                 .str.replace(' ,', ',')\\\n",
    "                                 .str.replace(', ', ',')\\\n",
    "                                 .apply(lambda x: x.split(','))"
   ]
  },
  {
   "cell_type": "code",
   "execution_count": 158,
   "id": "6f035ed1",
   "metadata": {},
   "outputs": [],
   "source": [
    "data['GuestStars'] = data['GuestStars'].str.replace('\\s+', ' ')\\\n",
    "                                       .str.replace(' ,', ',')\\\n",
    "                                       .str.replace(', ', ',')\\\n",
    "                                       .str.strip()\\\n",
    "                                       .apply(lambda x: x.split(',') if isinstance(x, float) == False else x)"
   ]
  },
  {
   "cell_type": "code",
   "execution_count": 159,
   "id": "eb2585b7",
   "metadata": {},
   "outputs": [],
   "source": [
    "data['GuestStarsNum'] = data['GuestStars'].apply(lambda x: len(x) if isinstance(x, float) == False else 0)\n",
    "#data.drop(['GuestStars'], 1, inplace = True)"
   ]
  },
  {
   "cell_type": "code",
   "execution_count": 160,
   "id": "0da2e187",
   "metadata": {},
   "outputs": [
    {
     "data": {
      "text/html": [
       "<div>\n",
       "<style scoped>\n",
       "    .dataframe tbody tr th:only-of-type {\n",
       "        vertical-align: middle;\n",
       "    }\n",
       "\n",
       "    .dataframe tbody tr th {\n",
       "        vertical-align: top;\n",
       "    }\n",
       "\n",
       "    .dataframe thead th {\n",
       "        text-align: right;\n",
       "    }\n",
       "</style>\n",
       "<table border=\"1\" class=\"dataframe\">\n",
       "  <thead>\n",
       "    <tr style=\"text-align: right;\">\n",
       "      <th></th>\n",
       "      <th>Season</th>\n",
       "      <th>EpisodeTitle</th>\n",
       "      <th>About</th>\n",
       "      <th>Ratings</th>\n",
       "      <th>Votes</th>\n",
       "      <th>Viewership</th>\n",
       "      <th>Duration</th>\n",
       "      <th>Date</th>\n",
       "      <th>GuestStars</th>\n",
       "      <th>Director</th>\n",
       "      <th>Writers</th>\n",
       "      <th>GuestStarsNum</th>\n",
       "    </tr>\n",
       "  </thead>\n",
       "  <tbody>\n",
       "    <tr>\n",
       "      <th>0</th>\n",
       "      <td>1</td>\n",
       "      <td>Pilot</td>\n",
       "      <td>The premiere episode introduces the boss and s...</td>\n",
       "      <td>7.5</td>\n",
       "      <td>4936</td>\n",
       "      <td>11.2</td>\n",
       "      <td>23</td>\n",
       "      <td>2005-03-24</td>\n",
       "      <td>NaN</td>\n",
       "      <td>Ken Kwapis</td>\n",
       "      <td>[Ricky Gervais, Stephen Merchant, Greg Daniels]</td>\n",
       "      <td>0</td>\n",
       "    </tr>\n",
       "    <tr>\n",
       "      <th>1</th>\n",
       "      <td>1</td>\n",
       "      <td>Diversity Day</td>\n",
       "      <td>Michael's off color remark puts a sensitivity ...</td>\n",
       "      <td>8.3</td>\n",
       "      <td>4801</td>\n",
       "      <td>6.0</td>\n",
       "      <td>23</td>\n",
       "      <td>2005-03-29</td>\n",
       "      <td>NaN</td>\n",
       "      <td>Ken Kwapis</td>\n",
       "      <td>[B. J. Novak]</td>\n",
       "      <td>0</td>\n",
       "    </tr>\n",
       "    <tr>\n",
       "      <th>2</th>\n",
       "      <td>1</td>\n",
       "      <td>Health Care</td>\n",
       "      <td>Michael leaves Dwight in charge of picking the...</td>\n",
       "      <td>7.8</td>\n",
       "      <td>4024</td>\n",
       "      <td>5.8</td>\n",
       "      <td>22</td>\n",
       "      <td>2005-04-05</td>\n",
       "      <td>NaN</td>\n",
       "      <td>Ken Whittingham</td>\n",
       "      <td>[Paul Lieberstein]</td>\n",
       "      <td>0</td>\n",
       "    </tr>\n",
       "  </tbody>\n",
       "</table>\n",
       "</div>"
      ],
      "text/plain": [
       "   Season   EpisodeTitle                                              About  \\\n",
       "0       1          Pilot  The premiere episode introduces the boss and s...   \n",
       "1       1  Diversity Day  Michael's off color remark puts a sensitivity ...   \n",
       "2       1    Health Care  Michael leaves Dwight in charge of picking the...   \n",
       "\n",
       "   Ratings  Votes  Viewership  Duration       Date GuestStars  \\\n",
       "0      7.5   4936        11.2        23 2005-03-24        NaN   \n",
       "1      8.3   4801         6.0        23 2005-03-29        NaN   \n",
       "2      7.8   4024         5.8        22 2005-04-05        NaN   \n",
       "\n",
       "          Director                                          Writers  \\\n",
       "0       Ken Kwapis  [Ricky Gervais, Stephen Merchant, Greg Daniels]   \n",
       "1       Ken Kwapis                                    [B. J. Novak]   \n",
       "2  Ken Whittingham                               [Paul Lieberstein]   \n",
       "\n",
       "   GuestStarsNum  \n",
       "0              0  \n",
       "1              0  \n",
       "2              0  "
      ]
     },
     "execution_count": 160,
     "metadata": {},
     "output_type": "execute_result"
    }
   ],
   "source": [
    "data.head(3)"
   ]
  },
  {
   "cell_type": "markdown",
   "id": "6efb8235",
   "metadata": {},
   "source": [
    "### Ratings, votes, viewership and duration over time (seasons)"
   ]
  },
  {
   "cell_type": "code",
   "execution_count": 161,
   "id": "7433cf80",
   "metadata": {},
   "outputs": [
    {
     "data": {
      "application/vnd.plotly.v1+json": {
       "config": {
        "plotlyServerURL": "https://plot.ly"
       },
       "data": [
        {
         "alignmentgroup": "True",
         "customdata": [
          [
           "Pilot",
           "2005-03-24T00:00:00"
          ],
          [
           "Diversity Day",
           "2005-03-29T00:00:00"
          ],
          [
           "Health Care",
           "2005-04-05T00:00:00"
          ],
          [
           "The Alliance",
           "2005-04-12T00:00:00"
          ],
          [
           "Basketball",
           "2005-04-19T00:00:00"
          ],
          [
           "Hot Girl",
           "2005-04-26T00:00:00"
          ],
          [
           "The Dundies",
           "2005-09-20T00:00:00"
          ],
          [
           "Sexual Harassment",
           "2005-09-27T00:00:00"
          ],
          [
           "Office Olympics",
           "2005-10-04T00:00:00"
          ],
          [
           "The Fire",
           "2005-10-11T00:00:00"
          ],
          [
           "Halloween",
           "2005-10-18T00:00:00"
          ],
          [
           "The Fight",
           "2005-11-01T00:00:00"
          ],
          [
           "The Client",
           "2005-11-08T00:00:00"
          ],
          [
           "Performance Review",
           "2005-11-15T00:00:00"
          ],
          [
           "E-Mail Surveillance",
           "2005-11-22T00:00:00"
          ],
          [
           "Christmas Party",
           "2005-12-06T00:00:00"
          ],
          [
           "Booze Cruise",
           "2006-01-05T00:00:00"
          ],
          [
           "The Injury",
           "2006-01-12T00:00:00"
          ],
          [
           "The Secret",
           "2006-01-19T00:00:00"
          ],
          [
           "The Carpet",
           "2006-01-26T00:00:00"
          ],
          [
           "Boys and Girls",
           "2006-02-02T00:00:00"
          ],
          [
           "Valentine's Day",
           "2006-02-09T00:00:00"
          ],
          [
           "Dwight's Speech",
           "2006-03-02T00:00:00"
          ],
          [
           "Take Your Daughter to Work Day",
           "2006-03-16T00:00:00"
          ],
          [
           "Michael's Birthday",
           "2006-03-30T00:00:00"
          ],
          [
           "Drug Testing",
           "2006-04-27T00:00:00"
          ],
          [
           "Conflict Resolution",
           "2006-05-04T00:00:00"
          ],
          [
           "Casino Night",
           "2006-05-11T00:00:00"
          ],
          [
           "Gay Witch Hunt",
           "2006-09-21T00:00:00"
          ],
          [
           "The Convention",
           "2006-09-28T00:00:00"
          ],
          [
           "The Coup",
           "2006-10-05T00:00:00"
          ],
          [
           "Grief Counseling",
           "2006-10-12T00:00:00"
          ],
          [
           "Initiation",
           "2006-10-19T00:00:00"
          ],
          [
           "Diwali",
           "2006-11-02T00:00:00"
          ],
          [
           "Branch Closing",
           "2006-11-09T00:00:00"
          ],
          [
           "The Merger",
           "2006-11-16T00:00:00"
          ],
          [
           "The Convict",
           "2006-11-30T00:00:00"
          ],
          [
           "A Benihana Christmas",
           "2006-12-14T00:00:00"
          ],
          [
           "Back from Vacation",
           "2007-01-04T00:00:00"
          ],
          [
           "Traveling Salesmen",
           "2007-01-11T00:00:00"
          ],
          [
           "The Return",
           "2007-01-18T00:00:00"
          ],
          [
           "Ben Franklin",
           "2007-02-01T00:00:00"
          ],
          [
           "Phyllis' Wedding",
           "2007-02-08T00:00:00"
          ],
          [
           "Business School",
           "2007-02-15T00:00:00"
          ],
          [
           "Cocktails",
           "2007-02-22T00:00:00"
          ],
          [
           "The Negotiation",
           "2007-04-05T00:00:00"
          ],
          [
           "Safety Training",
           "2007-04-12T00:00:00"
          ],
          [
           "Product Recall",
           "2007-04-26T00:00:00"
          ],
          [
           "Women's Appreciation",
           "2007-05-03T00:00:00"
          ],
          [
           "Beach Games",
           "2007-05-10T00:00:00"
          ],
          [
           "The Job",
           "2007-05-17T00:00:00"
          ],
          [
           "Fun Run",
           "2007-09-27T00:00:00"
          ],
          [
           "Dunder Mifflin Infinity",
           "2007-10-04T00:00:00"
          ],
          [
           "Launch Party",
           "2007-10-11T00:00:00"
          ],
          [
           "Money",
           "2007-10-18T00:00:00"
          ],
          [
           "Local Ad",
           "2007-10-25T00:00:00"
          ],
          [
           "Branch Wars",
           "2007-11-01T00:00:00"
          ],
          [
           "Survivor Man",
           "2007-11-08T00:00:00"
          ],
          [
           "The Deposition",
           "2007-11-15T00:00:00"
          ],
          [
           "Dinner Party",
           "2008-04-10T00:00:00"
          ],
          [
           "Chair Model",
           "2008-04-17T00:00:00"
          ],
          [
           "Night Out",
           "2008-04-24T00:00:00"
          ],
          [
           "Did I Stutter?",
           "2008-05-01T00:00:00"
          ],
          [
           "Job Fair",
           "2008-05-08T00:00:00"
          ],
          [
           "Goodbye, Toby",
           "2008-05-15T00:00:00"
          ],
          [
           "Weight Loss",
           "2008-09-25T00:00:00"
          ],
          [
           "Business Ethics",
           "2008-10-09T00:00:00"
          ],
          [
           "Baby Shower",
           "2008-10-16T00:00:00"
          ],
          [
           "Crime Aid",
           "2008-10-23T00:00:00"
          ],
          [
           "Employee Transfer",
           "2008-10-30T00:00:00"
          ],
          [
           "Customer Survey",
           "2008-11-06T00:00:00"
          ],
          [
           "Business Trip",
           "2008-11-13T00:00:00"
          ],
          [
           "Frame Toby",
           "2008-11-20T00:00:00"
          ],
          [
           "The Surplus",
           "2008-12-04T00:00:00"
          ],
          [
           "Moroccan Christmas",
           "2008-12-11T00:00:00"
          ],
          [
           "The Duel",
           "2009-01-15T00:00:00"
          ],
          [
           "Prince Family Paper",
           "2009-01-22T00:00:00"
          ],
          [
           "Stress Relief",
           "2009-02-01T00:00:00"
          ],
          [
           "Lecture Circuit: Part 1",
           "2009-02-05T00:00:00"
          ],
          [
           "Lecture Circuit: Part 2",
           "2009-02-12T00:00:00"
          ],
          [
           "Blood Drive",
           "2009-03-05T00:00:00"
          ],
          [
           "Golden Ticket",
           "2009-03-12T00:00:00"
          ],
          [
           "New Boss",
           "2009-03-19T00:00:00"
          ],
          [
           "Two Weeks",
           "2009-03-26T00:00:00"
          ],
          [
           "Dream Team",
           "2009-04-09T00:00:00"
          ],
          [
           "Michael Scott Paper Company",
           "2009-04-09T00:00:00"
          ],
          [
           "Heavy Competition",
           "2009-04-16T00:00:00"
          ],
          [
           "Broke",
           "2009-04-23T00:00:00"
          ],
          [
           "Casual Friday",
           "2009-04-30T00:00:00"
          ],
          [
           "Cafe Disco",
           "2009-05-07T00:00:00"
          ],
          [
           "Company Picnic",
           "2009-05-14T00:00:00"
          ],
          [
           "Gossip",
           "2009-09-17T00:00:00"
          ],
          [
           "The Meeting",
           "2009-09-24T00:00:00"
          ],
          [
           "The Promotion",
           "2009-10-01T00:00:00"
          ],
          [
           "Niagara: Part 1",
           "2009-10-08T00:00:00"
          ],
          [
           "Niagara: Part 2",
           "2009-10-08T00:00:00"
          ],
          [
           "Mafia",
           "2009-10-15T00:00:00"
          ],
          [
           "The Lover",
           "2009-10-22T00:00:00"
          ],
          [
           "Koi Pond",
           "2009-10-29T00:00:00"
          ],
          [
           "Double Date",
           "2009-11-05T00:00:00"
          ],
          [
           "Murder",
           "2009-11-12T00:00:00"
          ],
          [
           "Shareholder Meeting",
           "2009-11-19T00:00:00"
          ],
          [
           "Scott's Tots",
           "2009-12-03T00:00:00"
          ],
          [
           "Secret Santa",
           "2009-12-10T00:00:00"
          ],
          [
           "The Banker",
           "2010-01-21T00:00:00"
          ],
          [
           "Sabre",
           "2010-02-04T00:00:00"
          ],
          [
           "Manager and Salesman",
           "2010-02-11T00:00:00"
          ],
          [
           "The Delivery: Part 1",
           "2010-03-04T00:00:00"
          ],
          [
           "The Delivery: Part 2",
           "2010-03-04T00:00:00"
          ],
          [
           "St. Patrick's Day",
           "2010-03-11T00:00:00"
          ],
          [
           "New Leads",
           "2010-03-18T00:00:00"
          ],
          [
           "Happy Hour",
           "2010-03-25T00:00:00"
          ],
          [
           "Secretary's Day",
           "2010-04-22T00:00:00"
          ],
          [
           "Body Language",
           "2010-04-29T00:00:00"
          ],
          [
           "The Cover-Up",
           "2010-05-06T00:00:00"
          ],
          [
           "The Chump",
           "2010-05-13T00:00:00"
          ],
          [
           "Whistleblower",
           "2010-05-20T00:00:00"
          ],
          [
           "Nepotism",
           "2010-09-23T00:00:00"
          ],
          [
           "Counseling",
           "2010-09-30T00:00:00"
          ],
          [
           "Andy's Play",
           "2010-10-07T00:00:00"
          ],
          [
           "Sex Ed",
           "2010-10-14T00:00:00"
          ],
          [
           "The Sting",
           "2010-10-21T00:00:00"
          ],
          [
           "Costume Contest",
           "2010-10-28T00:00:00"
          ],
          [
           "Christening",
           "2010-11-04T00:00:00"
          ],
          [
           "Viewing Party",
           "2010-11-11T00:00:00"
          ],
          [
           "WUPHF.com",
           "2010-11-18T00:00:00"
          ],
          [
           "China",
           "2010-12-02T00:00:00"
          ],
          [
           "Classy Christmas",
           "2010-12-09T00:00:00"
          ],
          [
           "Ultimatum",
           "2011-01-20T00:00:00"
          ],
          [
           "The Seminar",
           "2011-01-27T00:00:00"
          ],
          [
           "The Search",
           "2011-02-03T00:00:00"
          ],
          [
           "PDA",
           "2011-02-10T00:00:00"
          ],
          [
           "Threat Level Midnight",
           "2011-02-17T00:00:00"
          ],
          [
           "Todd Packer",
           "2011-02-24T00:00:00"
          ],
          [
           "Garage Sale",
           "2011-03-24T00:00:00"
          ],
          [
           "Training Day",
           "2011-04-14T00:00:00"
          ],
          [
           "Michael's Last Dundies",
           "2011-04-21T00:00:00"
          ],
          [
           "Goodbye, Michael",
           "2011-04-28T00:00:00"
          ],
          [
           "The Inner Circle",
           "2011-05-05T00:00:00"
          ],
          [
           "Dwight K. Schrute, (Acting) Manager",
           "2011-05-12T00:00:00"
          ],
          [
           "Search Committee",
           "2011-05-19T00:00:00"
          ],
          [
           "The List",
           "2011-09-22T00:00:00"
          ],
          [
           "The Incentive",
           "2011-09-29T00:00:00"
          ],
          [
           "Lotto",
           "2011-10-06T00:00:00"
          ],
          [
           "Garden Party",
           "2011-10-13T00:00:00"
          ],
          [
           "Spooked",
           "2011-10-27T00:00:00"
          ],
          [
           "Doomsday",
           "2011-11-03T00:00:00"
          ],
          [
           "Pam's Replacement",
           "2011-11-10T00:00:00"
          ],
          [
           "Gettysburg",
           "2011-11-17T00:00:00"
          ],
          [
           "Mrs. California",
           "2011-12-01T00:00:00"
          ],
          [
           "Christmas Wishes",
           "2011-12-08T00:00:00"
          ],
          [
           "Trivia",
           "2012-01-12T00:00:00"
          ],
          [
           "Pool Party",
           "2012-01-19T00:00:00"
          ],
          [
           "Jury Duty",
           "2012-02-02T00:00:00"
          ],
          [
           "Special Project",
           "2012-02-09T00:00:00"
          ],
          [
           "Tallahassee",
           "2012-02-16T00:00:00"
          ],
          [
           "After Hours",
           "2012-02-23T00:00:00"
          ],
          [
           "Test the Store",
           "2012-03-01T00:00:00"
          ],
          [
           "Last Day in Florida",
           "2012-03-08T00:00:00"
          ],
          [
           "Get the Girl",
           "2012-03-15T00:00:00"
          ],
          [
           "Welcome Party",
           "2012-04-12T00:00:00"
          ],
          [
           "Angry Andy",
           "2012-04-19T00:00:00"
          ],
          [
           "Fundraiser",
           "2012-04-26T00:00:00"
          ],
          [
           "Turf War",
           "2012-05-03T00:00:00"
          ],
          [
           "Free Family Portrait Studio",
           "2012-05-10T00:00:00"
          ],
          [
           "New Guys",
           "2012-09-20T00:00:00"
          ],
          [
           "Roy's Wedding",
           "2012-09-27T00:00:00"
          ],
          [
           "Andy's Ancestry",
           "2012-10-04T00:00:00"
          ],
          [
           "Work Bus",
           "2012-10-18T00:00:00"
          ],
          [
           "Here Comes Treble",
           "2012-10-25T00:00:00"
          ],
          [
           "The Boat",
           "2012-11-08T00:00:00"
          ],
          [
           "The Whale",
           "2012-11-15T00:00:00"
          ],
          [
           "The Target",
           "2012-11-29T00:00:00"
          ],
          [
           "Dwight Christmas",
           "2012-12-06T00:00:00"
          ],
          [
           "Lice",
           "2013-01-10T00:00:00"
          ],
          [
           "Suit Warehouse",
           "2013-01-17T00:00:00"
          ],
          [
           "Customer Loyalty",
           "2013-01-24T00:00:00"
          ],
          [
           "Junior Salesman",
           "2013-01-31T00:00:00"
          ],
          [
           "Vandalism",
           "2013-01-31T00:00:00"
          ],
          [
           "Couples Discount",
           "2013-02-07T00:00:00"
          ],
          [
           "Moving On",
           "2013-02-14T00:00:00"
          ],
          [
           "The Farm",
           "2013-03-14T00:00:00"
          ],
          [
           "Promos",
           "2013-04-04T00:00:00"
          ],
          [
           "Stairmageddon",
           "2013-04-11T00:00:00"
          ],
          [
           "Paper Airplane",
           "2013-04-25T00:00:00"
          ],
          [
           "Livin' the Dream",
           "2013-05-02T00:00:00"
          ],
          [
           "A.A.R.M.",
           "2013-05-09T00:00:00"
          ],
          [
           "Finale",
           "2013-05-16T00:00:00"
          ]
         ],
         "hovertemplate": "Season=%{x}<br>Ratings=%{y}<br>EpisodeTitle=%{customdata[0]}<br>Date=%{customdata[1]}<extra></extra>",
         "legendgroup": "",
         "marker": {
          "color": "#636efa"
         },
         "name": "",
         "notched": false,
         "offsetgroup": "",
         "orientation": "v",
         "showlegend": false,
         "type": "box",
         "x": [
          1,
          1,
          1,
          1,
          1,
          1,
          2,
          2,
          2,
          2,
          2,
          2,
          2,
          2,
          2,
          2,
          2,
          2,
          2,
          2,
          2,
          2,
          2,
          2,
          2,
          2,
          2,
          2,
          3,
          3,
          3,
          3,
          3,
          3,
          3,
          3,
          3,
          3,
          3,
          3,
          3,
          3,
          3,
          3,
          3,
          3,
          3,
          3,
          3,
          3,
          3,
          4,
          4,
          4,
          4,
          4,
          4,
          4,
          4,
          4,
          4,
          4,
          4,
          4,
          4,
          5,
          5,
          5,
          5,
          5,
          5,
          5,
          5,
          5,
          5,
          5,
          5,
          5,
          5,
          5,
          5,
          5,
          5,
          5,
          5,
          5,
          5,
          5,
          5,
          5,
          5,
          6,
          6,
          6,
          6,
          6,
          6,
          6,
          6,
          6,
          6,
          6,
          6,
          6,
          6,
          6,
          6,
          6,
          6,
          6,
          6,
          6,
          6,
          6,
          6,
          6,
          6,
          7,
          7,
          7,
          7,
          7,
          7,
          7,
          7,
          7,
          7,
          7,
          7,
          7,
          7,
          7,
          7,
          7,
          7,
          7,
          7,
          7,
          7,
          7,
          7,
          8,
          8,
          8,
          8,
          8,
          8,
          8,
          8,
          8,
          8,
          8,
          8,
          8,
          8,
          8,
          8,
          8,
          8,
          8,
          8,
          8,
          8,
          8,
          8,
          9,
          9,
          9,
          9,
          9,
          9,
          9,
          9,
          9,
          9,
          9,
          9,
          9,
          9,
          9,
          9,
          9,
          9,
          9,
          9,
          9,
          9,
          9
         ],
         "x0": " ",
         "xaxis": "x",
         "y": [
          7.5,
          8.3,
          7.8,
          8.1,
          8.4,
          7.7,
          8.7,
          8.2,
          8.4,
          8.4,
          8.1,
          8.1,
          8.6,
          8.2,
          8.4,
          8.9,
          8.6,
          9.1,
          8.3,
          7.8,
          8.2,
          8.3,
          8.5,
          8.3,
          8.1,
          8.4,
          8.7,
          9.4,
          9,
          8.2,
          8.5,
          8,
          8.1,
          7.9,
          8.6,
          8.7,
          8.3,
          8.8,
          8.5,
          8.6,
          8.8,
          8.1,
          8.2,
          8.9,
          8.5,
          9,
          8.8,
          8.7,
          8.8,
          9.2,
          9.3,
          8.8,
          8.3,
          8.4,
          8.7,
          8.8,
          8.5,
          8.2,
          8.7,
          9.5,
          8,
          8.6,
          8.3,
          7.8,
          9.3,
          8.8,
          8.3,
          8,
          8.1,
          8,
          8.5,
          8.2,
          8.6,
          8.8,
          8.4,
          8.7,
          8,
          9.7,
          8.2,
          8.1,
          8,
          8.7,
          8.3,
          8.4,
          8.3,
          8.7,
          8.7,
          9.2,
          8.3,
          8.7,
          9,
          8.8,
          8.1,
          8,
          9.4,
          9.4,
          7.6,
          8.6,
          8.2,
          8.1,
          8.7,
          8.2,
          8.3,
          8.5,
          6.8,
          7.7,
          8.1,
          8.4,
          8.5,
          7.7,
          7.7,
          8.6,
          7.8,
          8,
          8.1,
          7.8,
          8,
          8.4,
          8.2,
          8.2,
          7.8,
          7.8,
          8.2,
          7.4,
          7.8,
          7.7,
          8.2,
          9,
          8.3,
          7.6,
          8.5,
          8.4,
          9.4,
          7.5,
          9.3,
          7.8,
          9,
          9.8,
          7.6,
          8.7,
          8.8,
          8.1,
          8.1,
          7.3,
          8.1,
          7.5,
          7.7,
          7.7,
          6.9,
          7.7,
          7.9,
          7.9,
          8,
          7.4,
          7.7,
          7.8,
          8.1,
          7.8,
          7.8,
          6.6,
          7.1,
          7,
          7,
          7.6,
          7.7,
          7.6,
          7.1,
          7.4,
          7.8,
          7,
          7.7,
          7.6,
          7.8,
          8.4,
          7.6,
          7.8,
          7.9,
          7.6,
          7.5,
          7.3,
          8.1,
          7.5,
          8,
          8,
          8,
          9,
          9.5,
          9.8
         ],
         "y0": " ",
         "yaxis": "y"
        }
       ],
       "layout": {
        "boxmode": "group",
        "height": 450,
        "legend": {
         "tracegroupgap": 0
        },
        "showlegend": false,
        "template": {
         "data": {
          "bar": [
           {
            "error_x": {
             "color": "#2a3f5f"
            },
            "error_y": {
             "color": "#2a3f5f"
            },
            "marker": {
             "line": {
              "color": "#E5ECF6",
              "width": 0.5
             },
             "pattern": {
              "fillmode": "overlay",
              "size": 10,
              "solidity": 0.2
             }
            },
            "type": "bar"
           }
          ],
          "barpolar": [
           {
            "marker": {
             "line": {
              "color": "#E5ECF6",
              "width": 0.5
             },
             "pattern": {
              "fillmode": "overlay",
              "size": 10,
              "solidity": 0.2
             }
            },
            "type": "barpolar"
           }
          ],
          "carpet": [
           {
            "aaxis": {
             "endlinecolor": "#2a3f5f",
             "gridcolor": "white",
             "linecolor": "white",
             "minorgridcolor": "white",
             "startlinecolor": "#2a3f5f"
            },
            "baxis": {
             "endlinecolor": "#2a3f5f",
             "gridcolor": "white",
             "linecolor": "white",
             "minorgridcolor": "white",
             "startlinecolor": "#2a3f5f"
            },
            "type": "carpet"
           }
          ],
          "choropleth": [
           {
            "colorbar": {
             "outlinewidth": 0,
             "ticks": ""
            },
            "type": "choropleth"
           }
          ],
          "contour": [
           {
            "colorbar": {
             "outlinewidth": 0,
             "ticks": ""
            },
            "colorscale": [
             [
              0,
              "#0d0887"
             ],
             [
              0.1111111111111111,
              "#46039f"
             ],
             [
              0.2222222222222222,
              "#7201a8"
             ],
             [
              0.3333333333333333,
              "#9c179e"
             ],
             [
              0.4444444444444444,
              "#bd3786"
             ],
             [
              0.5555555555555556,
              "#d8576b"
             ],
             [
              0.6666666666666666,
              "#ed7953"
             ],
             [
              0.7777777777777778,
              "#fb9f3a"
             ],
             [
              0.8888888888888888,
              "#fdca26"
             ],
             [
              1,
              "#f0f921"
             ]
            ],
            "type": "contour"
           }
          ],
          "contourcarpet": [
           {
            "colorbar": {
             "outlinewidth": 0,
             "ticks": ""
            },
            "type": "contourcarpet"
           }
          ],
          "heatmap": [
           {
            "colorbar": {
             "outlinewidth": 0,
             "ticks": ""
            },
            "colorscale": [
             [
              0,
              "#0d0887"
             ],
             [
              0.1111111111111111,
              "#46039f"
             ],
             [
              0.2222222222222222,
              "#7201a8"
             ],
             [
              0.3333333333333333,
              "#9c179e"
             ],
             [
              0.4444444444444444,
              "#bd3786"
             ],
             [
              0.5555555555555556,
              "#d8576b"
             ],
             [
              0.6666666666666666,
              "#ed7953"
             ],
             [
              0.7777777777777778,
              "#fb9f3a"
             ],
             [
              0.8888888888888888,
              "#fdca26"
             ],
             [
              1,
              "#f0f921"
             ]
            ],
            "type": "heatmap"
           }
          ],
          "heatmapgl": [
           {
            "colorbar": {
             "outlinewidth": 0,
             "ticks": ""
            },
            "colorscale": [
             [
              0,
              "#0d0887"
             ],
             [
              0.1111111111111111,
              "#46039f"
             ],
             [
              0.2222222222222222,
              "#7201a8"
             ],
             [
              0.3333333333333333,
              "#9c179e"
             ],
             [
              0.4444444444444444,
              "#bd3786"
             ],
             [
              0.5555555555555556,
              "#d8576b"
             ],
             [
              0.6666666666666666,
              "#ed7953"
             ],
             [
              0.7777777777777778,
              "#fb9f3a"
             ],
             [
              0.8888888888888888,
              "#fdca26"
             ],
             [
              1,
              "#f0f921"
             ]
            ],
            "type": "heatmapgl"
           }
          ],
          "histogram": [
           {
            "marker": {
             "pattern": {
              "fillmode": "overlay",
              "size": 10,
              "solidity": 0.2
             }
            },
            "type": "histogram"
           }
          ],
          "histogram2d": [
           {
            "colorbar": {
             "outlinewidth": 0,
             "ticks": ""
            },
            "colorscale": [
             [
              0,
              "#0d0887"
             ],
             [
              0.1111111111111111,
              "#46039f"
             ],
             [
              0.2222222222222222,
              "#7201a8"
             ],
             [
              0.3333333333333333,
              "#9c179e"
             ],
             [
              0.4444444444444444,
              "#bd3786"
             ],
             [
              0.5555555555555556,
              "#d8576b"
             ],
             [
              0.6666666666666666,
              "#ed7953"
             ],
             [
              0.7777777777777778,
              "#fb9f3a"
             ],
             [
              0.8888888888888888,
              "#fdca26"
             ],
             [
              1,
              "#f0f921"
             ]
            ],
            "type": "histogram2d"
           }
          ],
          "histogram2dcontour": [
           {
            "colorbar": {
             "outlinewidth": 0,
             "ticks": ""
            },
            "colorscale": [
             [
              0,
              "#0d0887"
             ],
             [
              0.1111111111111111,
              "#46039f"
             ],
             [
              0.2222222222222222,
              "#7201a8"
             ],
             [
              0.3333333333333333,
              "#9c179e"
             ],
             [
              0.4444444444444444,
              "#bd3786"
             ],
             [
              0.5555555555555556,
              "#d8576b"
             ],
             [
              0.6666666666666666,
              "#ed7953"
             ],
             [
              0.7777777777777778,
              "#fb9f3a"
             ],
             [
              0.8888888888888888,
              "#fdca26"
             ],
             [
              1,
              "#f0f921"
             ]
            ],
            "type": "histogram2dcontour"
           }
          ],
          "mesh3d": [
           {
            "colorbar": {
             "outlinewidth": 0,
             "ticks": ""
            },
            "type": "mesh3d"
           }
          ],
          "parcoords": [
           {
            "line": {
             "colorbar": {
              "outlinewidth": 0,
              "ticks": ""
             }
            },
            "type": "parcoords"
           }
          ],
          "pie": [
           {
            "automargin": true,
            "type": "pie"
           }
          ],
          "scatter": [
           {
            "marker": {
             "colorbar": {
              "outlinewidth": 0,
              "ticks": ""
             }
            },
            "type": "scatter"
           }
          ],
          "scatter3d": [
           {
            "line": {
             "colorbar": {
              "outlinewidth": 0,
              "ticks": ""
             }
            },
            "marker": {
             "colorbar": {
              "outlinewidth": 0,
              "ticks": ""
             }
            },
            "type": "scatter3d"
           }
          ],
          "scattercarpet": [
           {
            "marker": {
             "colorbar": {
              "outlinewidth": 0,
              "ticks": ""
             }
            },
            "type": "scattercarpet"
           }
          ],
          "scattergeo": [
           {
            "marker": {
             "colorbar": {
              "outlinewidth": 0,
              "ticks": ""
             }
            },
            "type": "scattergeo"
           }
          ],
          "scattergl": [
           {
            "marker": {
             "colorbar": {
              "outlinewidth": 0,
              "ticks": ""
             }
            },
            "type": "scattergl"
           }
          ],
          "scattermapbox": [
           {
            "marker": {
             "colorbar": {
              "outlinewidth": 0,
              "ticks": ""
             }
            },
            "type": "scattermapbox"
           }
          ],
          "scatterpolar": [
           {
            "marker": {
             "colorbar": {
              "outlinewidth": 0,
              "ticks": ""
             }
            },
            "type": "scatterpolar"
           }
          ],
          "scatterpolargl": [
           {
            "marker": {
             "colorbar": {
              "outlinewidth": 0,
              "ticks": ""
             }
            },
            "type": "scatterpolargl"
           }
          ],
          "scatterternary": [
           {
            "marker": {
             "colorbar": {
              "outlinewidth": 0,
              "ticks": ""
             }
            },
            "type": "scatterternary"
           }
          ],
          "surface": [
           {
            "colorbar": {
             "outlinewidth": 0,
             "ticks": ""
            },
            "colorscale": [
             [
              0,
              "#0d0887"
             ],
             [
              0.1111111111111111,
              "#46039f"
             ],
             [
              0.2222222222222222,
              "#7201a8"
             ],
             [
              0.3333333333333333,
              "#9c179e"
             ],
             [
              0.4444444444444444,
              "#bd3786"
             ],
             [
              0.5555555555555556,
              "#d8576b"
             ],
             [
              0.6666666666666666,
              "#ed7953"
             ],
             [
              0.7777777777777778,
              "#fb9f3a"
             ],
             [
              0.8888888888888888,
              "#fdca26"
             ],
             [
              1,
              "#f0f921"
             ]
            ],
            "type": "surface"
           }
          ],
          "table": [
           {
            "cells": {
             "fill": {
              "color": "#EBF0F8"
             },
             "line": {
              "color": "white"
             }
            },
            "header": {
             "fill": {
              "color": "#C8D4E3"
             },
             "line": {
              "color": "white"
             }
            },
            "type": "table"
           }
          ]
         },
         "layout": {
          "annotationdefaults": {
           "arrowcolor": "#2a3f5f",
           "arrowhead": 0,
           "arrowwidth": 1
          },
          "autotypenumbers": "strict",
          "coloraxis": {
           "colorbar": {
            "outlinewidth": 0,
            "ticks": ""
           }
          },
          "colorscale": {
           "diverging": [
            [
             0,
             "#8e0152"
            ],
            [
             0.1,
             "#c51b7d"
            ],
            [
             0.2,
             "#de77ae"
            ],
            [
             0.3,
             "#f1b6da"
            ],
            [
             0.4,
             "#fde0ef"
            ],
            [
             0.5,
             "#f7f7f7"
            ],
            [
             0.6,
             "#e6f5d0"
            ],
            [
             0.7,
             "#b8e186"
            ],
            [
             0.8,
             "#7fbc41"
            ],
            [
             0.9,
             "#4d9221"
            ],
            [
             1,
             "#276419"
            ]
           ],
           "sequential": [
            [
             0,
             "#0d0887"
            ],
            [
             0.1111111111111111,
             "#46039f"
            ],
            [
             0.2222222222222222,
             "#7201a8"
            ],
            [
             0.3333333333333333,
             "#9c179e"
            ],
            [
             0.4444444444444444,
             "#bd3786"
            ],
            [
             0.5555555555555556,
             "#d8576b"
            ],
            [
             0.6666666666666666,
             "#ed7953"
            ],
            [
             0.7777777777777778,
             "#fb9f3a"
            ],
            [
             0.8888888888888888,
             "#fdca26"
            ],
            [
             1,
             "#f0f921"
            ]
           ],
           "sequentialminus": [
            [
             0,
             "#0d0887"
            ],
            [
             0.1111111111111111,
             "#46039f"
            ],
            [
             0.2222222222222222,
             "#7201a8"
            ],
            [
             0.3333333333333333,
             "#9c179e"
            ],
            [
             0.4444444444444444,
             "#bd3786"
            ],
            [
             0.5555555555555556,
             "#d8576b"
            ],
            [
             0.6666666666666666,
             "#ed7953"
            ],
            [
             0.7777777777777778,
             "#fb9f3a"
            ],
            [
             0.8888888888888888,
             "#fdca26"
            ],
            [
             1,
             "#f0f921"
            ]
           ]
          },
          "colorway": [
           "#636efa",
           "#EF553B",
           "#00cc96",
           "#ab63fa",
           "#FFA15A",
           "#19d3f3",
           "#FF6692",
           "#B6E880",
           "#FF97FF",
           "#FECB52"
          ],
          "font": {
           "color": "#2a3f5f"
          },
          "geo": {
           "bgcolor": "white",
           "lakecolor": "white",
           "landcolor": "#E5ECF6",
           "showlakes": true,
           "showland": true,
           "subunitcolor": "white"
          },
          "hoverlabel": {
           "align": "left"
          },
          "hovermode": "closest",
          "mapbox": {
           "style": "light"
          },
          "paper_bgcolor": "white",
          "plot_bgcolor": "#E5ECF6",
          "polar": {
           "angularaxis": {
            "gridcolor": "white",
            "linecolor": "white",
            "ticks": ""
           },
           "bgcolor": "#E5ECF6",
           "radialaxis": {
            "gridcolor": "white",
            "linecolor": "white",
            "ticks": ""
           }
          },
          "scene": {
           "xaxis": {
            "backgroundcolor": "#E5ECF6",
            "gridcolor": "white",
            "gridwidth": 2,
            "linecolor": "white",
            "showbackground": true,
            "ticks": "",
            "zerolinecolor": "white"
           },
           "yaxis": {
            "backgroundcolor": "#E5ECF6",
            "gridcolor": "white",
            "gridwidth": 2,
            "linecolor": "white",
            "showbackground": true,
            "ticks": "",
            "zerolinecolor": "white"
           },
           "zaxis": {
            "backgroundcolor": "#E5ECF6",
            "gridcolor": "white",
            "gridwidth": 2,
            "linecolor": "white",
            "showbackground": true,
            "ticks": "",
            "zerolinecolor": "white"
           }
          },
          "shapedefaults": {
           "line": {
            "color": "#2a3f5f"
           }
          },
          "ternary": {
           "aaxis": {
            "gridcolor": "white",
            "linecolor": "white",
            "ticks": ""
           },
           "baxis": {
            "gridcolor": "white",
            "linecolor": "white",
            "ticks": ""
           },
           "bgcolor": "#E5ECF6",
           "caxis": {
            "gridcolor": "white",
            "linecolor": "white",
            "ticks": ""
           }
          },
          "title": {
           "x": 0.05
          },
          "xaxis": {
           "automargin": true,
           "gridcolor": "white",
           "linecolor": "white",
           "ticks": "",
           "title": {
            "standoff": 15
           },
           "zerolinecolor": "white",
           "zerolinewidth": 2
          },
          "yaxis": {
           "automargin": true,
           "gridcolor": "white",
           "linecolor": "white",
           "ticks": "",
           "title": {
            "standoff": 15
           },
           "zerolinecolor": "white",
           "zerolinewidth": 2
          }
         }
        },
        "title": {
         "text": "Ratings over time"
        },
        "width": 850,
        "xaxis": {
         "anchor": "y",
         "domain": [
          0,
          1
         ],
         "title": {
          "text": "Season"
         }
        },
        "yaxis": {
         "anchor": "x",
         "domain": [
          0,
          1
         ],
         "showticklabels": true,
         "title": {},
         "visible": true
        }
       }
      },
      "text/html": [
       "<div>                            <div id=\"d19327ae-288a-4ed2-8dbc-fd6dbc3e77fe\" class=\"plotly-graph-div\" style=\"height:450px; width:850px;\"></div>            <script type=\"text/javascript\">                require([\"plotly\"], function(Plotly) {                    window.PLOTLYENV=window.PLOTLYENV || {};                                    if (document.getElementById(\"d19327ae-288a-4ed2-8dbc-fd6dbc3e77fe\")) {                    Plotly.newPlot(                        \"d19327ae-288a-4ed2-8dbc-fd6dbc3e77fe\",                        [{\"alignmentgroup\":\"True\",\"customdata\":[[\"Pilot\",\"2005-03-24T00:00:00\"],[\"Diversity Day\",\"2005-03-29T00:00:00\"],[\"Health Care\",\"2005-04-05T00:00:00\"],[\"The Alliance\",\"2005-04-12T00:00:00\"],[\"Basketball\",\"2005-04-19T00:00:00\"],[\"Hot Girl\",\"2005-04-26T00:00:00\"],[\"The Dundies\",\"2005-09-20T00:00:00\"],[\"Sexual Harassment\",\"2005-09-27T00:00:00\"],[\"Office Olympics\",\"2005-10-04T00:00:00\"],[\"The Fire\",\"2005-10-11T00:00:00\"],[\"Halloween\",\"2005-10-18T00:00:00\"],[\"The Fight\",\"2005-11-01T00:00:00\"],[\"The Client\",\"2005-11-08T00:00:00\"],[\"Performance Review\",\"2005-11-15T00:00:00\"],[\"E-Mail Surveillance\",\"2005-11-22T00:00:00\"],[\"Christmas Party\",\"2005-12-06T00:00:00\"],[\"Booze Cruise\",\"2006-01-05T00:00:00\"],[\"The Injury\",\"2006-01-12T00:00:00\"],[\"The Secret\",\"2006-01-19T00:00:00\"],[\"The Carpet\",\"2006-01-26T00:00:00\"],[\"Boys and Girls\",\"2006-02-02T00:00:00\"],[\"Valentine's Day\",\"2006-02-09T00:00:00\"],[\"Dwight's Speech\",\"2006-03-02T00:00:00\"],[\"Take Your Daughter to Work Day\",\"2006-03-16T00:00:00\"],[\"Michael's Birthday\",\"2006-03-30T00:00:00\"],[\"Drug Testing\",\"2006-04-27T00:00:00\"],[\"Conflict Resolution\",\"2006-05-04T00:00:00\"],[\"Casino Night\",\"2006-05-11T00:00:00\"],[\"Gay Witch Hunt\",\"2006-09-21T00:00:00\"],[\"The Convention\",\"2006-09-28T00:00:00\"],[\"The Coup\",\"2006-10-05T00:00:00\"],[\"Grief Counseling\",\"2006-10-12T00:00:00\"],[\"Initiation\",\"2006-10-19T00:00:00\"],[\"Diwali\",\"2006-11-02T00:00:00\"],[\"Branch Closing\",\"2006-11-09T00:00:00\"],[\"The Merger\",\"2006-11-16T00:00:00\"],[\"The Convict\",\"2006-11-30T00:00:00\"],[\"A Benihana Christmas\",\"2006-12-14T00:00:00\"],[\"Back from Vacation\",\"2007-01-04T00:00:00\"],[\"Traveling Salesmen\",\"2007-01-11T00:00:00\"],[\"The Return\",\"2007-01-18T00:00:00\"],[\"Ben Franklin\",\"2007-02-01T00:00:00\"],[\"Phyllis' Wedding\",\"2007-02-08T00:00:00\"],[\"Business School\",\"2007-02-15T00:00:00\"],[\"Cocktails\",\"2007-02-22T00:00:00\"],[\"The Negotiation\",\"2007-04-05T00:00:00\"],[\"Safety Training\",\"2007-04-12T00:00:00\"],[\"Product Recall\",\"2007-04-26T00:00:00\"],[\"Women's Appreciation\",\"2007-05-03T00:00:00\"],[\"Beach Games\",\"2007-05-10T00:00:00\"],[\"The Job\",\"2007-05-17T00:00:00\"],[\"Fun Run\",\"2007-09-27T00:00:00\"],[\"Dunder Mifflin Infinity\",\"2007-10-04T00:00:00\"],[\"Launch Party\",\"2007-10-11T00:00:00\"],[\"Money\",\"2007-10-18T00:00:00\"],[\"Local Ad\",\"2007-10-25T00:00:00\"],[\"Branch Wars\",\"2007-11-01T00:00:00\"],[\"Survivor Man\",\"2007-11-08T00:00:00\"],[\"The Deposition\",\"2007-11-15T00:00:00\"],[\"Dinner Party\",\"2008-04-10T00:00:00\"],[\"Chair Model\",\"2008-04-17T00:00:00\"],[\"Night Out\",\"2008-04-24T00:00:00\"],[\"Did I Stutter?\",\"2008-05-01T00:00:00\"],[\"Job Fair\",\"2008-05-08T00:00:00\"],[\"Goodbye, Toby\",\"2008-05-15T00:00:00\"],[\"Weight Loss\",\"2008-09-25T00:00:00\"],[\"Business Ethics\",\"2008-10-09T00:00:00\"],[\"Baby Shower\",\"2008-10-16T00:00:00\"],[\"Crime Aid\",\"2008-10-23T00:00:00\"],[\"Employee Transfer\",\"2008-10-30T00:00:00\"],[\"Customer Survey\",\"2008-11-06T00:00:00\"],[\"Business Trip\",\"2008-11-13T00:00:00\"],[\"Frame Toby\",\"2008-11-20T00:00:00\"],[\"The Surplus\",\"2008-12-04T00:00:00\"],[\"Moroccan Christmas\",\"2008-12-11T00:00:00\"],[\"The Duel\",\"2009-01-15T00:00:00\"],[\"Prince Family Paper\",\"2009-01-22T00:00:00\"],[\"Stress Relief\",\"2009-02-01T00:00:00\"],[\"Lecture Circuit: Part 1\",\"2009-02-05T00:00:00\"],[\"Lecture Circuit: Part 2\",\"2009-02-12T00:00:00\"],[\"Blood Drive\",\"2009-03-05T00:00:00\"],[\"Golden Ticket\",\"2009-03-12T00:00:00\"],[\"New Boss\",\"2009-03-19T00:00:00\"],[\"Two Weeks\",\"2009-03-26T00:00:00\"],[\"Dream Team\",\"2009-04-09T00:00:00\"],[\"Michael Scott Paper Company\",\"2009-04-09T00:00:00\"],[\"Heavy Competition\",\"2009-04-16T00:00:00\"],[\"Broke\",\"2009-04-23T00:00:00\"],[\"Casual Friday\",\"2009-04-30T00:00:00\"],[\"Cafe Disco\",\"2009-05-07T00:00:00\"],[\"Company Picnic\",\"2009-05-14T00:00:00\"],[\"Gossip\",\"2009-09-17T00:00:00\"],[\"The Meeting\",\"2009-09-24T00:00:00\"],[\"The Promotion\",\"2009-10-01T00:00:00\"],[\"Niagara: Part 1\",\"2009-10-08T00:00:00\"],[\"Niagara: Part 2\",\"2009-10-08T00:00:00\"],[\"Mafia\",\"2009-10-15T00:00:00\"],[\"The Lover\",\"2009-10-22T00:00:00\"],[\"Koi Pond\",\"2009-10-29T00:00:00\"],[\"Double Date\",\"2009-11-05T00:00:00\"],[\"Murder\",\"2009-11-12T00:00:00\"],[\"Shareholder Meeting\",\"2009-11-19T00:00:00\"],[\"Scott's Tots\",\"2009-12-03T00:00:00\"],[\"Secret Santa\",\"2009-12-10T00:00:00\"],[\"The Banker\",\"2010-01-21T00:00:00\"],[\"Sabre\",\"2010-02-04T00:00:00\"],[\"Manager and Salesman\",\"2010-02-11T00:00:00\"],[\"The Delivery: Part 1\",\"2010-03-04T00:00:00\"],[\"The Delivery: Part 2\",\"2010-03-04T00:00:00\"],[\"St. Patrick's Day\",\"2010-03-11T00:00:00\"],[\"New Leads\",\"2010-03-18T00:00:00\"],[\"Happy Hour\",\"2010-03-25T00:00:00\"],[\"Secretary's Day\",\"2010-04-22T00:00:00\"],[\"Body Language\",\"2010-04-29T00:00:00\"],[\"The Cover-Up\",\"2010-05-06T00:00:00\"],[\"The Chump\",\"2010-05-13T00:00:00\"],[\"Whistleblower\",\"2010-05-20T00:00:00\"],[\"Nepotism\",\"2010-09-23T00:00:00\"],[\"Counseling\",\"2010-09-30T00:00:00\"],[\"Andy's Play\",\"2010-10-07T00:00:00\"],[\"Sex Ed\",\"2010-10-14T00:00:00\"],[\"The Sting\",\"2010-10-21T00:00:00\"],[\"Costume Contest\",\"2010-10-28T00:00:00\"],[\"Christening\",\"2010-11-04T00:00:00\"],[\"Viewing Party\",\"2010-11-11T00:00:00\"],[\"WUPHF.com\",\"2010-11-18T00:00:00\"],[\"China\",\"2010-12-02T00:00:00\"],[\"Classy Christmas\",\"2010-12-09T00:00:00\"],[\"Ultimatum\",\"2011-01-20T00:00:00\"],[\"The Seminar\",\"2011-01-27T00:00:00\"],[\"The Search\",\"2011-02-03T00:00:00\"],[\"PDA\",\"2011-02-10T00:00:00\"],[\"Threat Level Midnight\",\"2011-02-17T00:00:00\"],[\"Todd Packer\",\"2011-02-24T00:00:00\"],[\"Garage Sale\",\"2011-03-24T00:00:00\"],[\"Training Day\",\"2011-04-14T00:00:00\"],[\"Michael's Last Dundies\",\"2011-04-21T00:00:00\"],[\"Goodbye, Michael\",\"2011-04-28T00:00:00\"],[\"The Inner Circle\",\"2011-05-05T00:00:00\"],[\"Dwight K. Schrute, (Acting) Manager\",\"2011-05-12T00:00:00\"],[\"Search Committee\",\"2011-05-19T00:00:00\"],[\"The List\",\"2011-09-22T00:00:00\"],[\"The Incentive\",\"2011-09-29T00:00:00\"],[\"Lotto\",\"2011-10-06T00:00:00\"],[\"Garden Party\",\"2011-10-13T00:00:00\"],[\"Spooked\",\"2011-10-27T00:00:00\"],[\"Doomsday\",\"2011-11-03T00:00:00\"],[\"Pam's Replacement\",\"2011-11-10T00:00:00\"],[\"Gettysburg\",\"2011-11-17T00:00:00\"],[\"Mrs. California\",\"2011-12-01T00:00:00\"],[\"Christmas Wishes\",\"2011-12-08T00:00:00\"],[\"Trivia\",\"2012-01-12T00:00:00\"],[\"Pool Party\",\"2012-01-19T00:00:00\"],[\"Jury Duty\",\"2012-02-02T00:00:00\"],[\"Special Project\",\"2012-02-09T00:00:00\"],[\"Tallahassee\",\"2012-02-16T00:00:00\"],[\"After Hours\",\"2012-02-23T00:00:00\"],[\"Test the Store\",\"2012-03-01T00:00:00\"],[\"Last Day in Florida\",\"2012-03-08T00:00:00\"],[\"Get the Girl\",\"2012-03-15T00:00:00\"],[\"Welcome Party\",\"2012-04-12T00:00:00\"],[\"Angry Andy\",\"2012-04-19T00:00:00\"],[\"Fundraiser\",\"2012-04-26T00:00:00\"],[\"Turf War\",\"2012-05-03T00:00:00\"],[\"Free Family Portrait Studio\",\"2012-05-10T00:00:00\"],[\"New Guys\",\"2012-09-20T00:00:00\"],[\"Roy's Wedding\",\"2012-09-27T00:00:00\"],[\"Andy's Ancestry\",\"2012-10-04T00:00:00\"],[\"Work Bus\",\"2012-10-18T00:00:00\"],[\"Here Comes Treble\",\"2012-10-25T00:00:00\"],[\"The Boat\",\"2012-11-08T00:00:00\"],[\"The Whale\",\"2012-11-15T00:00:00\"],[\"The Target\",\"2012-11-29T00:00:00\"],[\"Dwight Christmas\",\"2012-12-06T00:00:00\"],[\"Lice\",\"2013-01-10T00:00:00\"],[\"Suit Warehouse\",\"2013-01-17T00:00:00\"],[\"Customer Loyalty\",\"2013-01-24T00:00:00\"],[\"Junior Salesman\",\"2013-01-31T00:00:00\"],[\"Vandalism\",\"2013-01-31T00:00:00\"],[\"Couples Discount\",\"2013-02-07T00:00:00\"],[\"Moving On\",\"2013-02-14T00:00:00\"],[\"The Farm\",\"2013-03-14T00:00:00\"],[\"Promos\",\"2013-04-04T00:00:00\"],[\"Stairmageddon\",\"2013-04-11T00:00:00\"],[\"Paper Airplane\",\"2013-04-25T00:00:00\"],[\"Livin' the Dream\",\"2013-05-02T00:00:00\"],[\"A.A.R.M.\",\"2013-05-09T00:00:00\"],[\"Finale\",\"2013-05-16T00:00:00\"]],\"hovertemplate\":\"Season=%{x}<br>Ratings=%{y}<br>EpisodeTitle=%{customdata[0]}<br>Date=%{customdata[1]}<extra></extra>\",\"legendgroup\":\"\",\"marker\":{\"color\":\"#636efa\"},\"name\":\"\",\"notched\":false,\"offsetgroup\":\"\",\"orientation\":\"v\",\"showlegend\":false,\"type\":\"box\",\"x\":[1,1,1,1,1,1,2,2,2,2,2,2,2,2,2,2,2,2,2,2,2,2,2,2,2,2,2,2,3,3,3,3,3,3,3,3,3,3,3,3,3,3,3,3,3,3,3,3,3,3,3,4,4,4,4,4,4,4,4,4,4,4,4,4,4,5,5,5,5,5,5,5,5,5,5,5,5,5,5,5,5,5,5,5,5,5,5,5,5,5,5,6,6,6,6,6,6,6,6,6,6,6,6,6,6,6,6,6,6,6,6,6,6,6,6,6,6,7,7,7,7,7,7,7,7,7,7,7,7,7,7,7,7,7,7,7,7,7,7,7,7,8,8,8,8,8,8,8,8,8,8,8,8,8,8,8,8,8,8,8,8,8,8,8,8,9,9,9,9,9,9,9,9,9,9,9,9,9,9,9,9,9,9,9,9,9,9,9],\"x0\":\" \",\"xaxis\":\"x\",\"y\":[7.5,8.3,7.8,8.1,8.4,7.7,8.7,8.2,8.4,8.4,8.1,8.1,8.6,8.2,8.4,8.9,8.6,9.1,8.3,7.8,8.2,8.3,8.5,8.3,8.1,8.4,8.7,9.4,9.0,8.2,8.5,8.0,8.1,7.9,8.6,8.7,8.3,8.8,8.5,8.6,8.8,8.1,8.2,8.9,8.5,9.0,8.8,8.7,8.8,9.2,9.3,8.8,8.3,8.4,8.7,8.8,8.5,8.2,8.7,9.5,8.0,8.6,8.3,7.8,9.3,8.8,8.3,8.0,8.1,8.0,8.5,8.2,8.6,8.8,8.4,8.7,8.0,9.7,8.2,8.1,8.0,8.7,8.3,8.4,8.3,8.7,8.7,9.2,8.3,8.7,9.0,8.8,8.1,8.0,9.4,9.4,7.6,8.6,8.2,8.1,8.7,8.2,8.3,8.5,6.8,7.7,8.1,8.4,8.5,7.7,7.7,8.6,7.8,8.0,8.1,7.8,8.0,8.4,8.2,8.2,7.8,7.8,8.2,7.4,7.8,7.7,8.2,9.0,8.3,7.6,8.5,8.4,9.4,7.5,9.3,7.8,9.0,9.8,7.6,8.7,8.8,8.1,8.1,7.3,8.1,7.5,7.7,7.7,6.9,7.7,7.9,7.9,8.0,7.4,7.7,7.8,8.1,7.8,7.8,6.6,7.1,7.0,7.0,7.6,7.7,7.6,7.1,7.4,7.8,7.0,7.7,7.6,7.8,8.4,7.6,7.8,7.9,7.6,7.5,7.3,8.1,7.5,8.0,8.0,8.0,9.0,9.5,9.8],\"y0\":\" \",\"yaxis\":\"y\"}],                        {\"boxmode\":\"group\",\"height\":450,\"legend\":{\"tracegroupgap\":0},\"showlegend\":false,\"template\":{\"data\":{\"bar\":[{\"error_x\":{\"color\":\"#2a3f5f\"},\"error_y\":{\"color\":\"#2a3f5f\"},\"marker\":{\"line\":{\"color\":\"#E5ECF6\",\"width\":0.5},\"pattern\":{\"fillmode\":\"overlay\",\"size\":10,\"solidity\":0.2}},\"type\":\"bar\"}],\"barpolar\":[{\"marker\":{\"line\":{\"color\":\"#E5ECF6\",\"width\":0.5},\"pattern\":{\"fillmode\":\"overlay\",\"size\":10,\"solidity\":0.2}},\"type\":\"barpolar\"}],\"carpet\":[{\"aaxis\":{\"endlinecolor\":\"#2a3f5f\",\"gridcolor\":\"white\",\"linecolor\":\"white\",\"minorgridcolor\":\"white\",\"startlinecolor\":\"#2a3f5f\"},\"baxis\":{\"endlinecolor\":\"#2a3f5f\",\"gridcolor\":\"white\",\"linecolor\":\"white\",\"minorgridcolor\":\"white\",\"startlinecolor\":\"#2a3f5f\"},\"type\":\"carpet\"}],\"choropleth\":[{\"colorbar\":{\"outlinewidth\":0,\"ticks\":\"\"},\"type\":\"choropleth\"}],\"contour\":[{\"colorbar\":{\"outlinewidth\":0,\"ticks\":\"\"},\"colorscale\":[[0.0,\"#0d0887\"],[0.1111111111111111,\"#46039f\"],[0.2222222222222222,\"#7201a8\"],[0.3333333333333333,\"#9c179e\"],[0.4444444444444444,\"#bd3786\"],[0.5555555555555556,\"#d8576b\"],[0.6666666666666666,\"#ed7953\"],[0.7777777777777778,\"#fb9f3a\"],[0.8888888888888888,\"#fdca26\"],[1.0,\"#f0f921\"]],\"type\":\"contour\"}],\"contourcarpet\":[{\"colorbar\":{\"outlinewidth\":0,\"ticks\":\"\"},\"type\":\"contourcarpet\"}],\"heatmap\":[{\"colorbar\":{\"outlinewidth\":0,\"ticks\":\"\"},\"colorscale\":[[0.0,\"#0d0887\"],[0.1111111111111111,\"#46039f\"],[0.2222222222222222,\"#7201a8\"],[0.3333333333333333,\"#9c179e\"],[0.4444444444444444,\"#bd3786\"],[0.5555555555555556,\"#d8576b\"],[0.6666666666666666,\"#ed7953\"],[0.7777777777777778,\"#fb9f3a\"],[0.8888888888888888,\"#fdca26\"],[1.0,\"#f0f921\"]],\"type\":\"heatmap\"}],\"heatmapgl\":[{\"colorbar\":{\"outlinewidth\":0,\"ticks\":\"\"},\"colorscale\":[[0.0,\"#0d0887\"],[0.1111111111111111,\"#46039f\"],[0.2222222222222222,\"#7201a8\"],[0.3333333333333333,\"#9c179e\"],[0.4444444444444444,\"#bd3786\"],[0.5555555555555556,\"#d8576b\"],[0.6666666666666666,\"#ed7953\"],[0.7777777777777778,\"#fb9f3a\"],[0.8888888888888888,\"#fdca26\"],[1.0,\"#f0f921\"]],\"type\":\"heatmapgl\"}],\"histogram\":[{\"marker\":{\"pattern\":{\"fillmode\":\"overlay\",\"size\":10,\"solidity\":0.2}},\"type\":\"histogram\"}],\"histogram2d\":[{\"colorbar\":{\"outlinewidth\":0,\"ticks\":\"\"},\"colorscale\":[[0.0,\"#0d0887\"],[0.1111111111111111,\"#46039f\"],[0.2222222222222222,\"#7201a8\"],[0.3333333333333333,\"#9c179e\"],[0.4444444444444444,\"#bd3786\"],[0.5555555555555556,\"#d8576b\"],[0.6666666666666666,\"#ed7953\"],[0.7777777777777778,\"#fb9f3a\"],[0.8888888888888888,\"#fdca26\"],[1.0,\"#f0f921\"]],\"type\":\"histogram2d\"}],\"histogram2dcontour\":[{\"colorbar\":{\"outlinewidth\":0,\"ticks\":\"\"},\"colorscale\":[[0.0,\"#0d0887\"],[0.1111111111111111,\"#46039f\"],[0.2222222222222222,\"#7201a8\"],[0.3333333333333333,\"#9c179e\"],[0.4444444444444444,\"#bd3786\"],[0.5555555555555556,\"#d8576b\"],[0.6666666666666666,\"#ed7953\"],[0.7777777777777778,\"#fb9f3a\"],[0.8888888888888888,\"#fdca26\"],[1.0,\"#f0f921\"]],\"type\":\"histogram2dcontour\"}],\"mesh3d\":[{\"colorbar\":{\"outlinewidth\":0,\"ticks\":\"\"},\"type\":\"mesh3d\"}],\"parcoords\":[{\"line\":{\"colorbar\":{\"outlinewidth\":0,\"ticks\":\"\"}},\"type\":\"parcoords\"}],\"pie\":[{\"automargin\":true,\"type\":\"pie\"}],\"scatter\":[{\"marker\":{\"colorbar\":{\"outlinewidth\":0,\"ticks\":\"\"}},\"type\":\"scatter\"}],\"scatter3d\":[{\"line\":{\"colorbar\":{\"outlinewidth\":0,\"ticks\":\"\"}},\"marker\":{\"colorbar\":{\"outlinewidth\":0,\"ticks\":\"\"}},\"type\":\"scatter3d\"}],\"scattercarpet\":[{\"marker\":{\"colorbar\":{\"outlinewidth\":0,\"ticks\":\"\"}},\"type\":\"scattercarpet\"}],\"scattergeo\":[{\"marker\":{\"colorbar\":{\"outlinewidth\":0,\"ticks\":\"\"}},\"type\":\"scattergeo\"}],\"scattergl\":[{\"marker\":{\"colorbar\":{\"outlinewidth\":0,\"ticks\":\"\"}},\"type\":\"scattergl\"}],\"scattermapbox\":[{\"marker\":{\"colorbar\":{\"outlinewidth\":0,\"ticks\":\"\"}},\"type\":\"scattermapbox\"}],\"scatterpolar\":[{\"marker\":{\"colorbar\":{\"outlinewidth\":0,\"ticks\":\"\"}},\"type\":\"scatterpolar\"}],\"scatterpolargl\":[{\"marker\":{\"colorbar\":{\"outlinewidth\":0,\"ticks\":\"\"}},\"type\":\"scatterpolargl\"}],\"scatterternary\":[{\"marker\":{\"colorbar\":{\"outlinewidth\":0,\"ticks\":\"\"}},\"type\":\"scatterternary\"}],\"surface\":[{\"colorbar\":{\"outlinewidth\":0,\"ticks\":\"\"},\"colorscale\":[[0.0,\"#0d0887\"],[0.1111111111111111,\"#46039f\"],[0.2222222222222222,\"#7201a8\"],[0.3333333333333333,\"#9c179e\"],[0.4444444444444444,\"#bd3786\"],[0.5555555555555556,\"#d8576b\"],[0.6666666666666666,\"#ed7953\"],[0.7777777777777778,\"#fb9f3a\"],[0.8888888888888888,\"#fdca26\"],[1.0,\"#f0f921\"]],\"type\":\"surface\"}],\"table\":[{\"cells\":{\"fill\":{\"color\":\"#EBF0F8\"},\"line\":{\"color\":\"white\"}},\"header\":{\"fill\":{\"color\":\"#C8D4E3\"},\"line\":{\"color\":\"white\"}},\"type\":\"table\"}]},\"layout\":{\"annotationdefaults\":{\"arrowcolor\":\"#2a3f5f\",\"arrowhead\":0,\"arrowwidth\":1},\"autotypenumbers\":\"strict\",\"coloraxis\":{\"colorbar\":{\"outlinewidth\":0,\"ticks\":\"\"}},\"colorscale\":{\"diverging\":[[0,\"#8e0152\"],[0.1,\"#c51b7d\"],[0.2,\"#de77ae\"],[0.3,\"#f1b6da\"],[0.4,\"#fde0ef\"],[0.5,\"#f7f7f7\"],[0.6,\"#e6f5d0\"],[0.7,\"#b8e186\"],[0.8,\"#7fbc41\"],[0.9,\"#4d9221\"],[1,\"#276419\"]],\"sequential\":[[0.0,\"#0d0887\"],[0.1111111111111111,\"#46039f\"],[0.2222222222222222,\"#7201a8\"],[0.3333333333333333,\"#9c179e\"],[0.4444444444444444,\"#bd3786\"],[0.5555555555555556,\"#d8576b\"],[0.6666666666666666,\"#ed7953\"],[0.7777777777777778,\"#fb9f3a\"],[0.8888888888888888,\"#fdca26\"],[1.0,\"#f0f921\"]],\"sequentialminus\":[[0.0,\"#0d0887\"],[0.1111111111111111,\"#46039f\"],[0.2222222222222222,\"#7201a8\"],[0.3333333333333333,\"#9c179e\"],[0.4444444444444444,\"#bd3786\"],[0.5555555555555556,\"#d8576b\"],[0.6666666666666666,\"#ed7953\"],[0.7777777777777778,\"#fb9f3a\"],[0.8888888888888888,\"#fdca26\"],[1.0,\"#f0f921\"]]},\"colorway\":[\"#636efa\",\"#EF553B\",\"#00cc96\",\"#ab63fa\",\"#FFA15A\",\"#19d3f3\",\"#FF6692\",\"#B6E880\",\"#FF97FF\",\"#FECB52\"],\"font\":{\"color\":\"#2a3f5f\"},\"geo\":{\"bgcolor\":\"white\",\"lakecolor\":\"white\",\"landcolor\":\"#E5ECF6\",\"showlakes\":true,\"showland\":true,\"subunitcolor\":\"white\"},\"hoverlabel\":{\"align\":\"left\"},\"hovermode\":\"closest\",\"mapbox\":{\"style\":\"light\"},\"paper_bgcolor\":\"white\",\"plot_bgcolor\":\"#E5ECF6\",\"polar\":{\"angularaxis\":{\"gridcolor\":\"white\",\"linecolor\":\"white\",\"ticks\":\"\"},\"bgcolor\":\"#E5ECF6\",\"radialaxis\":{\"gridcolor\":\"white\",\"linecolor\":\"white\",\"ticks\":\"\"}},\"scene\":{\"xaxis\":{\"backgroundcolor\":\"#E5ECF6\",\"gridcolor\":\"white\",\"gridwidth\":2,\"linecolor\":\"white\",\"showbackground\":true,\"ticks\":\"\",\"zerolinecolor\":\"white\"},\"yaxis\":{\"backgroundcolor\":\"#E5ECF6\",\"gridcolor\":\"white\",\"gridwidth\":2,\"linecolor\":\"white\",\"showbackground\":true,\"ticks\":\"\",\"zerolinecolor\":\"white\"},\"zaxis\":{\"backgroundcolor\":\"#E5ECF6\",\"gridcolor\":\"white\",\"gridwidth\":2,\"linecolor\":\"white\",\"showbackground\":true,\"ticks\":\"\",\"zerolinecolor\":\"white\"}},\"shapedefaults\":{\"line\":{\"color\":\"#2a3f5f\"}},\"ternary\":{\"aaxis\":{\"gridcolor\":\"white\",\"linecolor\":\"white\",\"ticks\":\"\"},\"baxis\":{\"gridcolor\":\"white\",\"linecolor\":\"white\",\"ticks\":\"\"},\"bgcolor\":\"#E5ECF6\",\"caxis\":{\"gridcolor\":\"white\",\"linecolor\":\"white\",\"ticks\":\"\"}},\"title\":{\"x\":0.05},\"xaxis\":{\"automargin\":true,\"gridcolor\":\"white\",\"linecolor\":\"white\",\"ticks\":\"\",\"title\":{\"standoff\":15},\"zerolinecolor\":\"white\",\"zerolinewidth\":2},\"yaxis\":{\"automargin\":true,\"gridcolor\":\"white\",\"linecolor\":\"white\",\"ticks\":\"\",\"title\":{\"standoff\":15},\"zerolinecolor\":\"white\",\"zerolinewidth\":2}}},\"title\":{\"text\":\"Ratings over time\"},\"width\":850,\"xaxis\":{\"anchor\":\"y\",\"domain\":[0.0,1.0],\"title\":{\"text\":\"Season\"}},\"yaxis\":{\"anchor\":\"x\",\"domain\":[0.0,1.0],\"showticklabels\":true,\"title\":{},\"visible\":true}},                        {\"responsive\": true}                    ).then(function(){\n",
       "                            \n",
       "var gd = document.getElementById('d19327ae-288a-4ed2-8dbc-fd6dbc3e77fe');\n",
       "var x = new MutationObserver(function (mutations, observer) {{\n",
       "        var display = window.getComputedStyle(gd).display;\n",
       "        if (!display || display === 'none') {{\n",
       "            console.log([gd, 'removed!']);\n",
       "            Plotly.purge(gd);\n",
       "            observer.disconnect();\n",
       "        }}\n",
       "}});\n",
       "\n",
       "// Listen for the removal of the full notebook cells\n",
       "var notebookContainer = gd.closest('#notebook-container');\n",
       "if (notebookContainer) {{\n",
       "    x.observe(notebookContainer, {childList: true});\n",
       "}}\n",
       "\n",
       "// Listen for the clearing of the current output cell\n",
       "var outputEl = gd.closest('.output');\n",
       "if (outputEl) {{\n",
       "    x.observe(outputEl, {childList: true});\n",
       "}}\n",
       "\n",
       "                        })                };                });            </script>        </div>"
      ]
     },
     "metadata": {},
     "output_type": "display_data"
    }
   ],
   "source": [
    "plot_box_over_time(data, 'Season', 'Ratings', ['EpisodeTitle', 'Date'])"
   ]
  },
  {
   "cell_type": "code",
   "execution_count": 162,
   "id": "0f051648",
   "metadata": {},
   "outputs": [
    {
     "data": {
      "application/vnd.plotly.v1+json": {
       "config": {
        "plotlyServerURL": "https://plot.ly"
       },
       "data": [
        {
         "alignmentgroup": "True",
         "customdata": [
          [
           "Pilot",
           "2005-03-24T00:00:00"
          ],
          [
           "Diversity Day",
           "2005-03-29T00:00:00"
          ],
          [
           "Health Care",
           "2005-04-05T00:00:00"
          ],
          [
           "The Alliance",
           "2005-04-12T00:00:00"
          ],
          [
           "Basketball",
           "2005-04-19T00:00:00"
          ],
          [
           "Hot Girl",
           "2005-04-26T00:00:00"
          ],
          [
           "The Dundies",
           "2005-09-20T00:00:00"
          ],
          [
           "Sexual Harassment",
           "2005-09-27T00:00:00"
          ],
          [
           "Office Olympics",
           "2005-10-04T00:00:00"
          ],
          [
           "The Fire",
           "2005-10-11T00:00:00"
          ],
          [
           "Halloween",
           "2005-10-18T00:00:00"
          ],
          [
           "The Fight",
           "2005-11-01T00:00:00"
          ],
          [
           "The Client",
           "2005-11-08T00:00:00"
          ],
          [
           "Performance Review",
           "2005-11-15T00:00:00"
          ],
          [
           "E-Mail Surveillance",
           "2005-11-22T00:00:00"
          ],
          [
           "Christmas Party",
           "2005-12-06T00:00:00"
          ],
          [
           "Booze Cruise",
           "2006-01-05T00:00:00"
          ],
          [
           "The Injury",
           "2006-01-12T00:00:00"
          ],
          [
           "The Secret",
           "2006-01-19T00:00:00"
          ],
          [
           "The Carpet",
           "2006-01-26T00:00:00"
          ],
          [
           "Boys and Girls",
           "2006-02-02T00:00:00"
          ],
          [
           "Valentine's Day",
           "2006-02-09T00:00:00"
          ],
          [
           "Dwight's Speech",
           "2006-03-02T00:00:00"
          ],
          [
           "Take Your Daughter to Work Day",
           "2006-03-16T00:00:00"
          ],
          [
           "Michael's Birthday",
           "2006-03-30T00:00:00"
          ],
          [
           "Drug Testing",
           "2006-04-27T00:00:00"
          ],
          [
           "Conflict Resolution",
           "2006-05-04T00:00:00"
          ],
          [
           "Casino Night",
           "2006-05-11T00:00:00"
          ],
          [
           "Gay Witch Hunt",
           "2006-09-21T00:00:00"
          ],
          [
           "The Convention",
           "2006-09-28T00:00:00"
          ],
          [
           "The Coup",
           "2006-10-05T00:00:00"
          ],
          [
           "Grief Counseling",
           "2006-10-12T00:00:00"
          ],
          [
           "Initiation",
           "2006-10-19T00:00:00"
          ],
          [
           "Diwali",
           "2006-11-02T00:00:00"
          ],
          [
           "Branch Closing",
           "2006-11-09T00:00:00"
          ],
          [
           "The Merger",
           "2006-11-16T00:00:00"
          ],
          [
           "The Convict",
           "2006-11-30T00:00:00"
          ],
          [
           "A Benihana Christmas",
           "2006-12-14T00:00:00"
          ],
          [
           "Back from Vacation",
           "2007-01-04T00:00:00"
          ],
          [
           "Traveling Salesmen",
           "2007-01-11T00:00:00"
          ],
          [
           "The Return",
           "2007-01-18T00:00:00"
          ],
          [
           "Ben Franklin",
           "2007-02-01T00:00:00"
          ],
          [
           "Phyllis' Wedding",
           "2007-02-08T00:00:00"
          ],
          [
           "Business School",
           "2007-02-15T00:00:00"
          ],
          [
           "Cocktails",
           "2007-02-22T00:00:00"
          ],
          [
           "The Negotiation",
           "2007-04-05T00:00:00"
          ],
          [
           "Safety Training",
           "2007-04-12T00:00:00"
          ],
          [
           "Product Recall",
           "2007-04-26T00:00:00"
          ],
          [
           "Women's Appreciation",
           "2007-05-03T00:00:00"
          ],
          [
           "Beach Games",
           "2007-05-10T00:00:00"
          ],
          [
           "The Job",
           "2007-05-17T00:00:00"
          ],
          [
           "Fun Run",
           "2007-09-27T00:00:00"
          ],
          [
           "Dunder Mifflin Infinity",
           "2007-10-04T00:00:00"
          ],
          [
           "Launch Party",
           "2007-10-11T00:00:00"
          ],
          [
           "Money",
           "2007-10-18T00:00:00"
          ],
          [
           "Local Ad",
           "2007-10-25T00:00:00"
          ],
          [
           "Branch Wars",
           "2007-11-01T00:00:00"
          ],
          [
           "Survivor Man",
           "2007-11-08T00:00:00"
          ],
          [
           "The Deposition",
           "2007-11-15T00:00:00"
          ],
          [
           "Dinner Party",
           "2008-04-10T00:00:00"
          ],
          [
           "Chair Model",
           "2008-04-17T00:00:00"
          ],
          [
           "Night Out",
           "2008-04-24T00:00:00"
          ],
          [
           "Did I Stutter?",
           "2008-05-01T00:00:00"
          ],
          [
           "Job Fair",
           "2008-05-08T00:00:00"
          ],
          [
           "Goodbye, Toby",
           "2008-05-15T00:00:00"
          ],
          [
           "Weight Loss",
           "2008-09-25T00:00:00"
          ],
          [
           "Business Ethics",
           "2008-10-09T00:00:00"
          ],
          [
           "Baby Shower",
           "2008-10-16T00:00:00"
          ],
          [
           "Crime Aid",
           "2008-10-23T00:00:00"
          ],
          [
           "Employee Transfer",
           "2008-10-30T00:00:00"
          ],
          [
           "Customer Survey",
           "2008-11-06T00:00:00"
          ],
          [
           "Business Trip",
           "2008-11-13T00:00:00"
          ],
          [
           "Frame Toby",
           "2008-11-20T00:00:00"
          ],
          [
           "The Surplus",
           "2008-12-04T00:00:00"
          ],
          [
           "Moroccan Christmas",
           "2008-12-11T00:00:00"
          ],
          [
           "The Duel",
           "2009-01-15T00:00:00"
          ],
          [
           "Prince Family Paper",
           "2009-01-22T00:00:00"
          ],
          [
           "Stress Relief",
           "2009-02-01T00:00:00"
          ],
          [
           "Lecture Circuit: Part 1",
           "2009-02-05T00:00:00"
          ],
          [
           "Lecture Circuit: Part 2",
           "2009-02-12T00:00:00"
          ],
          [
           "Blood Drive",
           "2009-03-05T00:00:00"
          ],
          [
           "Golden Ticket",
           "2009-03-12T00:00:00"
          ],
          [
           "New Boss",
           "2009-03-19T00:00:00"
          ],
          [
           "Two Weeks",
           "2009-03-26T00:00:00"
          ],
          [
           "Dream Team",
           "2009-04-09T00:00:00"
          ],
          [
           "Michael Scott Paper Company",
           "2009-04-09T00:00:00"
          ],
          [
           "Heavy Competition",
           "2009-04-16T00:00:00"
          ],
          [
           "Broke",
           "2009-04-23T00:00:00"
          ],
          [
           "Casual Friday",
           "2009-04-30T00:00:00"
          ],
          [
           "Cafe Disco",
           "2009-05-07T00:00:00"
          ],
          [
           "Company Picnic",
           "2009-05-14T00:00:00"
          ],
          [
           "Gossip",
           "2009-09-17T00:00:00"
          ],
          [
           "The Meeting",
           "2009-09-24T00:00:00"
          ],
          [
           "The Promotion",
           "2009-10-01T00:00:00"
          ],
          [
           "Niagara: Part 1",
           "2009-10-08T00:00:00"
          ],
          [
           "Niagara: Part 2",
           "2009-10-08T00:00:00"
          ],
          [
           "Mafia",
           "2009-10-15T00:00:00"
          ],
          [
           "The Lover",
           "2009-10-22T00:00:00"
          ],
          [
           "Koi Pond",
           "2009-10-29T00:00:00"
          ],
          [
           "Double Date",
           "2009-11-05T00:00:00"
          ],
          [
           "Murder",
           "2009-11-12T00:00:00"
          ],
          [
           "Shareholder Meeting",
           "2009-11-19T00:00:00"
          ],
          [
           "Scott's Tots",
           "2009-12-03T00:00:00"
          ],
          [
           "Secret Santa",
           "2009-12-10T00:00:00"
          ],
          [
           "The Banker",
           "2010-01-21T00:00:00"
          ],
          [
           "Sabre",
           "2010-02-04T00:00:00"
          ],
          [
           "Manager and Salesman",
           "2010-02-11T00:00:00"
          ],
          [
           "The Delivery: Part 1",
           "2010-03-04T00:00:00"
          ],
          [
           "The Delivery: Part 2",
           "2010-03-04T00:00:00"
          ],
          [
           "St. Patrick's Day",
           "2010-03-11T00:00:00"
          ],
          [
           "New Leads",
           "2010-03-18T00:00:00"
          ],
          [
           "Happy Hour",
           "2010-03-25T00:00:00"
          ],
          [
           "Secretary's Day",
           "2010-04-22T00:00:00"
          ],
          [
           "Body Language",
           "2010-04-29T00:00:00"
          ],
          [
           "The Cover-Up",
           "2010-05-06T00:00:00"
          ],
          [
           "The Chump",
           "2010-05-13T00:00:00"
          ],
          [
           "Whistleblower",
           "2010-05-20T00:00:00"
          ],
          [
           "Nepotism",
           "2010-09-23T00:00:00"
          ],
          [
           "Counseling",
           "2010-09-30T00:00:00"
          ],
          [
           "Andy's Play",
           "2010-10-07T00:00:00"
          ],
          [
           "Sex Ed",
           "2010-10-14T00:00:00"
          ],
          [
           "The Sting",
           "2010-10-21T00:00:00"
          ],
          [
           "Costume Contest",
           "2010-10-28T00:00:00"
          ],
          [
           "Christening",
           "2010-11-04T00:00:00"
          ],
          [
           "Viewing Party",
           "2010-11-11T00:00:00"
          ],
          [
           "WUPHF.com",
           "2010-11-18T00:00:00"
          ],
          [
           "China",
           "2010-12-02T00:00:00"
          ],
          [
           "Classy Christmas",
           "2010-12-09T00:00:00"
          ],
          [
           "Ultimatum",
           "2011-01-20T00:00:00"
          ],
          [
           "The Seminar",
           "2011-01-27T00:00:00"
          ],
          [
           "The Search",
           "2011-02-03T00:00:00"
          ],
          [
           "PDA",
           "2011-02-10T00:00:00"
          ],
          [
           "Threat Level Midnight",
           "2011-02-17T00:00:00"
          ],
          [
           "Todd Packer",
           "2011-02-24T00:00:00"
          ],
          [
           "Garage Sale",
           "2011-03-24T00:00:00"
          ],
          [
           "Training Day",
           "2011-04-14T00:00:00"
          ],
          [
           "Michael's Last Dundies",
           "2011-04-21T00:00:00"
          ],
          [
           "Goodbye, Michael",
           "2011-04-28T00:00:00"
          ],
          [
           "The Inner Circle",
           "2011-05-05T00:00:00"
          ],
          [
           "Dwight K. Schrute, (Acting) Manager",
           "2011-05-12T00:00:00"
          ],
          [
           "Search Committee",
           "2011-05-19T00:00:00"
          ],
          [
           "The List",
           "2011-09-22T00:00:00"
          ],
          [
           "The Incentive",
           "2011-09-29T00:00:00"
          ],
          [
           "Lotto",
           "2011-10-06T00:00:00"
          ],
          [
           "Garden Party",
           "2011-10-13T00:00:00"
          ],
          [
           "Spooked",
           "2011-10-27T00:00:00"
          ],
          [
           "Doomsday",
           "2011-11-03T00:00:00"
          ],
          [
           "Pam's Replacement",
           "2011-11-10T00:00:00"
          ],
          [
           "Gettysburg",
           "2011-11-17T00:00:00"
          ],
          [
           "Mrs. California",
           "2011-12-01T00:00:00"
          ],
          [
           "Christmas Wishes",
           "2011-12-08T00:00:00"
          ],
          [
           "Trivia",
           "2012-01-12T00:00:00"
          ],
          [
           "Pool Party",
           "2012-01-19T00:00:00"
          ],
          [
           "Jury Duty",
           "2012-02-02T00:00:00"
          ],
          [
           "Special Project",
           "2012-02-09T00:00:00"
          ],
          [
           "Tallahassee",
           "2012-02-16T00:00:00"
          ],
          [
           "After Hours",
           "2012-02-23T00:00:00"
          ],
          [
           "Test the Store",
           "2012-03-01T00:00:00"
          ],
          [
           "Last Day in Florida",
           "2012-03-08T00:00:00"
          ],
          [
           "Get the Girl",
           "2012-03-15T00:00:00"
          ],
          [
           "Welcome Party",
           "2012-04-12T00:00:00"
          ],
          [
           "Angry Andy",
           "2012-04-19T00:00:00"
          ],
          [
           "Fundraiser",
           "2012-04-26T00:00:00"
          ],
          [
           "Turf War",
           "2012-05-03T00:00:00"
          ],
          [
           "Free Family Portrait Studio",
           "2012-05-10T00:00:00"
          ],
          [
           "New Guys",
           "2012-09-20T00:00:00"
          ],
          [
           "Roy's Wedding",
           "2012-09-27T00:00:00"
          ],
          [
           "Andy's Ancestry",
           "2012-10-04T00:00:00"
          ],
          [
           "Work Bus",
           "2012-10-18T00:00:00"
          ],
          [
           "Here Comes Treble",
           "2012-10-25T00:00:00"
          ],
          [
           "The Boat",
           "2012-11-08T00:00:00"
          ],
          [
           "The Whale",
           "2012-11-15T00:00:00"
          ],
          [
           "The Target",
           "2012-11-29T00:00:00"
          ],
          [
           "Dwight Christmas",
           "2012-12-06T00:00:00"
          ],
          [
           "Lice",
           "2013-01-10T00:00:00"
          ],
          [
           "Suit Warehouse",
           "2013-01-17T00:00:00"
          ],
          [
           "Customer Loyalty",
           "2013-01-24T00:00:00"
          ],
          [
           "Junior Salesman",
           "2013-01-31T00:00:00"
          ],
          [
           "Vandalism",
           "2013-01-31T00:00:00"
          ],
          [
           "Couples Discount",
           "2013-02-07T00:00:00"
          ],
          [
           "Moving On",
           "2013-02-14T00:00:00"
          ],
          [
           "The Farm",
           "2013-03-14T00:00:00"
          ],
          [
           "Promos",
           "2013-04-04T00:00:00"
          ],
          [
           "Stairmageddon",
           "2013-04-11T00:00:00"
          ],
          [
           "Paper Airplane",
           "2013-04-25T00:00:00"
          ],
          [
           "Livin' the Dream",
           "2013-05-02T00:00:00"
          ],
          [
           "A.A.R.M.",
           "2013-05-09T00:00:00"
          ],
          [
           "Finale",
           "2013-05-16T00:00:00"
          ]
         ],
         "hovertemplate": "Season=%{x}<br>Votes=%{y}<br>EpisodeTitle=%{customdata[0]}<br>Date=%{customdata[1]}<extra></extra>",
         "legendgroup": "",
         "marker": {
          "color": "#636efa"
         },
         "name": "",
         "notched": false,
         "offsetgroup": "",
         "orientation": "v",
         "showlegend": false,
         "type": "box",
         "x": [
          1,
          1,
          1,
          1,
          1,
          1,
          2,
          2,
          2,
          2,
          2,
          2,
          2,
          2,
          2,
          2,
          2,
          2,
          2,
          2,
          2,
          2,
          2,
          2,
          2,
          2,
          2,
          2,
          3,
          3,
          3,
          3,
          3,
          3,
          3,
          3,
          3,
          3,
          3,
          3,
          3,
          3,
          3,
          3,
          3,
          3,
          3,
          3,
          3,
          3,
          3,
          4,
          4,
          4,
          4,
          4,
          4,
          4,
          4,
          4,
          4,
          4,
          4,
          4,
          4,
          5,
          5,
          5,
          5,
          5,
          5,
          5,
          5,
          5,
          5,
          5,
          5,
          5,
          5,
          5,
          5,
          5,
          5,
          5,
          5,
          5,
          5,
          5,
          5,
          5,
          5,
          6,
          6,
          6,
          6,
          6,
          6,
          6,
          6,
          6,
          6,
          6,
          6,
          6,
          6,
          6,
          6,
          6,
          6,
          6,
          6,
          6,
          6,
          6,
          6,
          6,
          6,
          7,
          7,
          7,
          7,
          7,
          7,
          7,
          7,
          7,
          7,
          7,
          7,
          7,
          7,
          7,
          7,
          7,
          7,
          7,
          7,
          7,
          7,
          7,
          7,
          8,
          8,
          8,
          8,
          8,
          8,
          8,
          8,
          8,
          8,
          8,
          8,
          8,
          8,
          8,
          8,
          8,
          8,
          8,
          8,
          8,
          8,
          8,
          8,
          9,
          9,
          9,
          9,
          9,
          9,
          9,
          9,
          9,
          9,
          9,
          9,
          9,
          9,
          9,
          9,
          9,
          9,
          9,
          9,
          9,
          9,
          9
         ],
         "x0": " ",
         "xaxis": "x",
         "y": [
          4936,
          4801,
          4024,
          3915,
          4294,
          3854,
          4315,
          3665,
          3665,
          3607,
          3392,
          3388,
          3533,
          3216,
          3338,
          3663,
          3536,
          4314,
          3142,
          3118,
          3091,
          3104,
          3283,
          3212,
          3094,
          3172,
          3253,
          4765,
          4133,
          3027,
          3175,
          3049,
          2976,
          3082,
          3021,
          3166,
          3151,
          3343,
          3001,
          3053,
          3211,
          2975,
          2995,
          3460,
          2969,
          3368,
          3164,
          3138,
          3158,
          3641,
          3898,
          3635,
          2934,
          2844,
          3073,
          3125,
          2878,
          2775,
          2923,
          5601,
          2757,
          2872,
          2756,
          2627,
          3939,
          3264,
          2654,
          2621,
          2525,
          2600,
          2717,
          2516,
          2799,
          2776,
          2613,
          2711,
          2615,
          8170,
          2474,
          2431,
          2464,
          2667,
          2503,
          2492,
          2484,
          2718,
          2568,
          3409,
          2467,
          2814,
          2954,
          2866,
          2349,
          2344,
          4560,
          3114,
          2464,
          2590,
          2348,
          2314,
          2761,
          2336,
          2681,
          2467,
          3039,
          2251,
          2223,
          2347,
          2370,
          2196,
          2154,
          2503,
          2168,
          2197,
          2199,
          2113,
          2184,
          2520,
          2272,
          2413,
          2209,
          2156,
          2249,
          2238,
          2200,
          2141,
          2246,
          2878,
          2282,
          2171,
          2369,
          2347,
          4877,
          2123,
          3730,
          2215,
          3039,
          8059,
          2183,
          2414,
          2623,
          2366,
          2200,
          2098,
          2266,
          2024,
          1948,
          2077,
          2089,
          2050,
          2020,
          1980,
          2139,
          1937,
          1891,
          1994,
          2068,
          1958,
          1903,
          2203,
          1972,
          2107,
          1902,
          1832,
          1918,
          2074,
          1963,
          1938,
          2059,
          2021,
          1955,
          1872,
          1928,
          2204,
          1952,
          1920,
          1984,
          1866,
          1866,
          1888,
          2089,
          2189,
          1924,
          1985,
          2007,
          2831,
          3914,
          10515
         ],
         "y0": " ",
         "yaxis": "y"
        }
       ],
       "layout": {
        "boxmode": "group",
        "height": 450,
        "legend": {
         "tracegroupgap": 0
        },
        "showlegend": false,
        "template": {
         "data": {
          "bar": [
           {
            "error_x": {
             "color": "#2a3f5f"
            },
            "error_y": {
             "color": "#2a3f5f"
            },
            "marker": {
             "line": {
              "color": "#E5ECF6",
              "width": 0.5
             },
             "pattern": {
              "fillmode": "overlay",
              "size": 10,
              "solidity": 0.2
             }
            },
            "type": "bar"
           }
          ],
          "barpolar": [
           {
            "marker": {
             "line": {
              "color": "#E5ECF6",
              "width": 0.5
             },
             "pattern": {
              "fillmode": "overlay",
              "size": 10,
              "solidity": 0.2
             }
            },
            "type": "barpolar"
           }
          ],
          "carpet": [
           {
            "aaxis": {
             "endlinecolor": "#2a3f5f",
             "gridcolor": "white",
             "linecolor": "white",
             "minorgridcolor": "white",
             "startlinecolor": "#2a3f5f"
            },
            "baxis": {
             "endlinecolor": "#2a3f5f",
             "gridcolor": "white",
             "linecolor": "white",
             "minorgridcolor": "white",
             "startlinecolor": "#2a3f5f"
            },
            "type": "carpet"
           }
          ],
          "choropleth": [
           {
            "colorbar": {
             "outlinewidth": 0,
             "ticks": ""
            },
            "type": "choropleth"
           }
          ],
          "contour": [
           {
            "colorbar": {
             "outlinewidth": 0,
             "ticks": ""
            },
            "colorscale": [
             [
              0,
              "#0d0887"
             ],
             [
              0.1111111111111111,
              "#46039f"
             ],
             [
              0.2222222222222222,
              "#7201a8"
             ],
             [
              0.3333333333333333,
              "#9c179e"
             ],
             [
              0.4444444444444444,
              "#bd3786"
             ],
             [
              0.5555555555555556,
              "#d8576b"
             ],
             [
              0.6666666666666666,
              "#ed7953"
             ],
             [
              0.7777777777777778,
              "#fb9f3a"
             ],
             [
              0.8888888888888888,
              "#fdca26"
             ],
             [
              1,
              "#f0f921"
             ]
            ],
            "type": "contour"
           }
          ],
          "contourcarpet": [
           {
            "colorbar": {
             "outlinewidth": 0,
             "ticks": ""
            },
            "type": "contourcarpet"
           }
          ],
          "heatmap": [
           {
            "colorbar": {
             "outlinewidth": 0,
             "ticks": ""
            },
            "colorscale": [
             [
              0,
              "#0d0887"
             ],
             [
              0.1111111111111111,
              "#46039f"
             ],
             [
              0.2222222222222222,
              "#7201a8"
             ],
             [
              0.3333333333333333,
              "#9c179e"
             ],
             [
              0.4444444444444444,
              "#bd3786"
             ],
             [
              0.5555555555555556,
              "#d8576b"
             ],
             [
              0.6666666666666666,
              "#ed7953"
             ],
             [
              0.7777777777777778,
              "#fb9f3a"
             ],
             [
              0.8888888888888888,
              "#fdca26"
             ],
             [
              1,
              "#f0f921"
             ]
            ],
            "type": "heatmap"
           }
          ],
          "heatmapgl": [
           {
            "colorbar": {
             "outlinewidth": 0,
             "ticks": ""
            },
            "colorscale": [
             [
              0,
              "#0d0887"
             ],
             [
              0.1111111111111111,
              "#46039f"
             ],
             [
              0.2222222222222222,
              "#7201a8"
             ],
             [
              0.3333333333333333,
              "#9c179e"
             ],
             [
              0.4444444444444444,
              "#bd3786"
             ],
             [
              0.5555555555555556,
              "#d8576b"
             ],
             [
              0.6666666666666666,
              "#ed7953"
             ],
             [
              0.7777777777777778,
              "#fb9f3a"
             ],
             [
              0.8888888888888888,
              "#fdca26"
             ],
             [
              1,
              "#f0f921"
             ]
            ],
            "type": "heatmapgl"
           }
          ],
          "histogram": [
           {
            "marker": {
             "pattern": {
              "fillmode": "overlay",
              "size": 10,
              "solidity": 0.2
             }
            },
            "type": "histogram"
           }
          ],
          "histogram2d": [
           {
            "colorbar": {
             "outlinewidth": 0,
             "ticks": ""
            },
            "colorscale": [
             [
              0,
              "#0d0887"
             ],
             [
              0.1111111111111111,
              "#46039f"
             ],
             [
              0.2222222222222222,
              "#7201a8"
             ],
             [
              0.3333333333333333,
              "#9c179e"
             ],
             [
              0.4444444444444444,
              "#bd3786"
             ],
             [
              0.5555555555555556,
              "#d8576b"
             ],
             [
              0.6666666666666666,
              "#ed7953"
             ],
             [
              0.7777777777777778,
              "#fb9f3a"
             ],
             [
              0.8888888888888888,
              "#fdca26"
             ],
             [
              1,
              "#f0f921"
             ]
            ],
            "type": "histogram2d"
           }
          ],
          "histogram2dcontour": [
           {
            "colorbar": {
             "outlinewidth": 0,
             "ticks": ""
            },
            "colorscale": [
             [
              0,
              "#0d0887"
             ],
             [
              0.1111111111111111,
              "#46039f"
             ],
             [
              0.2222222222222222,
              "#7201a8"
             ],
             [
              0.3333333333333333,
              "#9c179e"
             ],
             [
              0.4444444444444444,
              "#bd3786"
             ],
             [
              0.5555555555555556,
              "#d8576b"
             ],
             [
              0.6666666666666666,
              "#ed7953"
             ],
             [
              0.7777777777777778,
              "#fb9f3a"
             ],
             [
              0.8888888888888888,
              "#fdca26"
             ],
             [
              1,
              "#f0f921"
             ]
            ],
            "type": "histogram2dcontour"
           }
          ],
          "mesh3d": [
           {
            "colorbar": {
             "outlinewidth": 0,
             "ticks": ""
            },
            "type": "mesh3d"
           }
          ],
          "parcoords": [
           {
            "line": {
             "colorbar": {
              "outlinewidth": 0,
              "ticks": ""
             }
            },
            "type": "parcoords"
           }
          ],
          "pie": [
           {
            "automargin": true,
            "type": "pie"
           }
          ],
          "scatter": [
           {
            "marker": {
             "colorbar": {
              "outlinewidth": 0,
              "ticks": ""
             }
            },
            "type": "scatter"
           }
          ],
          "scatter3d": [
           {
            "line": {
             "colorbar": {
              "outlinewidth": 0,
              "ticks": ""
             }
            },
            "marker": {
             "colorbar": {
              "outlinewidth": 0,
              "ticks": ""
             }
            },
            "type": "scatter3d"
           }
          ],
          "scattercarpet": [
           {
            "marker": {
             "colorbar": {
              "outlinewidth": 0,
              "ticks": ""
             }
            },
            "type": "scattercarpet"
           }
          ],
          "scattergeo": [
           {
            "marker": {
             "colorbar": {
              "outlinewidth": 0,
              "ticks": ""
             }
            },
            "type": "scattergeo"
           }
          ],
          "scattergl": [
           {
            "marker": {
             "colorbar": {
              "outlinewidth": 0,
              "ticks": ""
             }
            },
            "type": "scattergl"
           }
          ],
          "scattermapbox": [
           {
            "marker": {
             "colorbar": {
              "outlinewidth": 0,
              "ticks": ""
             }
            },
            "type": "scattermapbox"
           }
          ],
          "scatterpolar": [
           {
            "marker": {
             "colorbar": {
              "outlinewidth": 0,
              "ticks": ""
             }
            },
            "type": "scatterpolar"
           }
          ],
          "scatterpolargl": [
           {
            "marker": {
             "colorbar": {
              "outlinewidth": 0,
              "ticks": ""
             }
            },
            "type": "scatterpolargl"
           }
          ],
          "scatterternary": [
           {
            "marker": {
             "colorbar": {
              "outlinewidth": 0,
              "ticks": ""
             }
            },
            "type": "scatterternary"
           }
          ],
          "surface": [
           {
            "colorbar": {
             "outlinewidth": 0,
             "ticks": ""
            },
            "colorscale": [
             [
              0,
              "#0d0887"
             ],
             [
              0.1111111111111111,
              "#46039f"
             ],
             [
              0.2222222222222222,
              "#7201a8"
             ],
             [
              0.3333333333333333,
              "#9c179e"
             ],
             [
              0.4444444444444444,
              "#bd3786"
             ],
             [
              0.5555555555555556,
              "#d8576b"
             ],
             [
              0.6666666666666666,
              "#ed7953"
             ],
             [
              0.7777777777777778,
              "#fb9f3a"
             ],
             [
              0.8888888888888888,
              "#fdca26"
             ],
             [
              1,
              "#f0f921"
             ]
            ],
            "type": "surface"
           }
          ],
          "table": [
           {
            "cells": {
             "fill": {
              "color": "#EBF0F8"
             },
             "line": {
              "color": "white"
             }
            },
            "header": {
             "fill": {
              "color": "#C8D4E3"
             },
             "line": {
              "color": "white"
             }
            },
            "type": "table"
           }
          ]
         },
         "layout": {
          "annotationdefaults": {
           "arrowcolor": "#2a3f5f",
           "arrowhead": 0,
           "arrowwidth": 1
          },
          "autotypenumbers": "strict",
          "coloraxis": {
           "colorbar": {
            "outlinewidth": 0,
            "ticks": ""
           }
          },
          "colorscale": {
           "diverging": [
            [
             0,
             "#8e0152"
            ],
            [
             0.1,
             "#c51b7d"
            ],
            [
             0.2,
             "#de77ae"
            ],
            [
             0.3,
             "#f1b6da"
            ],
            [
             0.4,
             "#fde0ef"
            ],
            [
             0.5,
             "#f7f7f7"
            ],
            [
             0.6,
             "#e6f5d0"
            ],
            [
             0.7,
             "#b8e186"
            ],
            [
             0.8,
             "#7fbc41"
            ],
            [
             0.9,
             "#4d9221"
            ],
            [
             1,
             "#276419"
            ]
           ],
           "sequential": [
            [
             0,
             "#0d0887"
            ],
            [
             0.1111111111111111,
             "#46039f"
            ],
            [
             0.2222222222222222,
             "#7201a8"
            ],
            [
             0.3333333333333333,
             "#9c179e"
            ],
            [
             0.4444444444444444,
             "#bd3786"
            ],
            [
             0.5555555555555556,
             "#d8576b"
            ],
            [
             0.6666666666666666,
             "#ed7953"
            ],
            [
             0.7777777777777778,
             "#fb9f3a"
            ],
            [
             0.8888888888888888,
             "#fdca26"
            ],
            [
             1,
             "#f0f921"
            ]
           ],
           "sequentialminus": [
            [
             0,
             "#0d0887"
            ],
            [
             0.1111111111111111,
             "#46039f"
            ],
            [
             0.2222222222222222,
             "#7201a8"
            ],
            [
             0.3333333333333333,
             "#9c179e"
            ],
            [
             0.4444444444444444,
             "#bd3786"
            ],
            [
             0.5555555555555556,
             "#d8576b"
            ],
            [
             0.6666666666666666,
             "#ed7953"
            ],
            [
             0.7777777777777778,
             "#fb9f3a"
            ],
            [
             0.8888888888888888,
             "#fdca26"
            ],
            [
             1,
             "#f0f921"
            ]
           ]
          },
          "colorway": [
           "#636efa",
           "#EF553B",
           "#00cc96",
           "#ab63fa",
           "#FFA15A",
           "#19d3f3",
           "#FF6692",
           "#B6E880",
           "#FF97FF",
           "#FECB52"
          ],
          "font": {
           "color": "#2a3f5f"
          },
          "geo": {
           "bgcolor": "white",
           "lakecolor": "white",
           "landcolor": "#E5ECF6",
           "showlakes": true,
           "showland": true,
           "subunitcolor": "white"
          },
          "hoverlabel": {
           "align": "left"
          },
          "hovermode": "closest",
          "mapbox": {
           "style": "light"
          },
          "paper_bgcolor": "white",
          "plot_bgcolor": "#E5ECF6",
          "polar": {
           "angularaxis": {
            "gridcolor": "white",
            "linecolor": "white",
            "ticks": ""
           },
           "bgcolor": "#E5ECF6",
           "radialaxis": {
            "gridcolor": "white",
            "linecolor": "white",
            "ticks": ""
           }
          },
          "scene": {
           "xaxis": {
            "backgroundcolor": "#E5ECF6",
            "gridcolor": "white",
            "gridwidth": 2,
            "linecolor": "white",
            "showbackground": true,
            "ticks": "",
            "zerolinecolor": "white"
           },
           "yaxis": {
            "backgroundcolor": "#E5ECF6",
            "gridcolor": "white",
            "gridwidth": 2,
            "linecolor": "white",
            "showbackground": true,
            "ticks": "",
            "zerolinecolor": "white"
           },
           "zaxis": {
            "backgroundcolor": "#E5ECF6",
            "gridcolor": "white",
            "gridwidth": 2,
            "linecolor": "white",
            "showbackground": true,
            "ticks": "",
            "zerolinecolor": "white"
           }
          },
          "shapedefaults": {
           "line": {
            "color": "#2a3f5f"
           }
          },
          "ternary": {
           "aaxis": {
            "gridcolor": "white",
            "linecolor": "white",
            "ticks": ""
           },
           "baxis": {
            "gridcolor": "white",
            "linecolor": "white",
            "ticks": ""
           },
           "bgcolor": "#E5ECF6",
           "caxis": {
            "gridcolor": "white",
            "linecolor": "white",
            "ticks": ""
           }
          },
          "title": {
           "x": 0.05
          },
          "xaxis": {
           "automargin": true,
           "gridcolor": "white",
           "linecolor": "white",
           "ticks": "",
           "title": {
            "standoff": 15
           },
           "zerolinecolor": "white",
           "zerolinewidth": 2
          },
          "yaxis": {
           "automargin": true,
           "gridcolor": "white",
           "linecolor": "white",
           "ticks": "",
           "title": {
            "standoff": 15
           },
           "zerolinecolor": "white",
           "zerolinewidth": 2
          }
         }
        },
        "title": {
         "text": "Votes over time"
        },
        "width": 850,
        "xaxis": {
         "anchor": "y",
         "domain": [
          0,
          1
         ],
         "title": {
          "text": "Season"
         }
        },
        "yaxis": {
         "anchor": "x",
         "domain": [
          0,
          1
         ],
         "showticklabels": true,
         "title": {},
         "visible": true
        }
       }
      },
      "text/html": [
       "<div>                            <div id=\"c54fa7d5-6035-47ef-9d8e-b3fdcc208d5f\" class=\"plotly-graph-div\" style=\"height:450px; width:850px;\"></div>            <script type=\"text/javascript\">                require([\"plotly\"], function(Plotly) {                    window.PLOTLYENV=window.PLOTLYENV || {};                                    if (document.getElementById(\"c54fa7d5-6035-47ef-9d8e-b3fdcc208d5f\")) {                    Plotly.newPlot(                        \"c54fa7d5-6035-47ef-9d8e-b3fdcc208d5f\",                        [{\"alignmentgroup\":\"True\",\"customdata\":[[\"Pilot\",\"2005-03-24T00:00:00\"],[\"Diversity Day\",\"2005-03-29T00:00:00\"],[\"Health Care\",\"2005-04-05T00:00:00\"],[\"The Alliance\",\"2005-04-12T00:00:00\"],[\"Basketball\",\"2005-04-19T00:00:00\"],[\"Hot Girl\",\"2005-04-26T00:00:00\"],[\"The Dundies\",\"2005-09-20T00:00:00\"],[\"Sexual Harassment\",\"2005-09-27T00:00:00\"],[\"Office Olympics\",\"2005-10-04T00:00:00\"],[\"The Fire\",\"2005-10-11T00:00:00\"],[\"Halloween\",\"2005-10-18T00:00:00\"],[\"The Fight\",\"2005-11-01T00:00:00\"],[\"The Client\",\"2005-11-08T00:00:00\"],[\"Performance Review\",\"2005-11-15T00:00:00\"],[\"E-Mail Surveillance\",\"2005-11-22T00:00:00\"],[\"Christmas Party\",\"2005-12-06T00:00:00\"],[\"Booze Cruise\",\"2006-01-05T00:00:00\"],[\"The Injury\",\"2006-01-12T00:00:00\"],[\"The Secret\",\"2006-01-19T00:00:00\"],[\"The Carpet\",\"2006-01-26T00:00:00\"],[\"Boys and Girls\",\"2006-02-02T00:00:00\"],[\"Valentine's Day\",\"2006-02-09T00:00:00\"],[\"Dwight's Speech\",\"2006-03-02T00:00:00\"],[\"Take Your Daughter to Work Day\",\"2006-03-16T00:00:00\"],[\"Michael's Birthday\",\"2006-03-30T00:00:00\"],[\"Drug Testing\",\"2006-04-27T00:00:00\"],[\"Conflict Resolution\",\"2006-05-04T00:00:00\"],[\"Casino Night\",\"2006-05-11T00:00:00\"],[\"Gay Witch Hunt\",\"2006-09-21T00:00:00\"],[\"The Convention\",\"2006-09-28T00:00:00\"],[\"The Coup\",\"2006-10-05T00:00:00\"],[\"Grief Counseling\",\"2006-10-12T00:00:00\"],[\"Initiation\",\"2006-10-19T00:00:00\"],[\"Diwali\",\"2006-11-02T00:00:00\"],[\"Branch Closing\",\"2006-11-09T00:00:00\"],[\"The Merger\",\"2006-11-16T00:00:00\"],[\"The Convict\",\"2006-11-30T00:00:00\"],[\"A Benihana Christmas\",\"2006-12-14T00:00:00\"],[\"Back from Vacation\",\"2007-01-04T00:00:00\"],[\"Traveling Salesmen\",\"2007-01-11T00:00:00\"],[\"The Return\",\"2007-01-18T00:00:00\"],[\"Ben Franklin\",\"2007-02-01T00:00:00\"],[\"Phyllis' Wedding\",\"2007-02-08T00:00:00\"],[\"Business School\",\"2007-02-15T00:00:00\"],[\"Cocktails\",\"2007-02-22T00:00:00\"],[\"The Negotiation\",\"2007-04-05T00:00:00\"],[\"Safety Training\",\"2007-04-12T00:00:00\"],[\"Product Recall\",\"2007-04-26T00:00:00\"],[\"Women's Appreciation\",\"2007-05-03T00:00:00\"],[\"Beach Games\",\"2007-05-10T00:00:00\"],[\"The Job\",\"2007-05-17T00:00:00\"],[\"Fun Run\",\"2007-09-27T00:00:00\"],[\"Dunder Mifflin Infinity\",\"2007-10-04T00:00:00\"],[\"Launch Party\",\"2007-10-11T00:00:00\"],[\"Money\",\"2007-10-18T00:00:00\"],[\"Local Ad\",\"2007-10-25T00:00:00\"],[\"Branch Wars\",\"2007-11-01T00:00:00\"],[\"Survivor Man\",\"2007-11-08T00:00:00\"],[\"The Deposition\",\"2007-11-15T00:00:00\"],[\"Dinner Party\",\"2008-04-10T00:00:00\"],[\"Chair Model\",\"2008-04-17T00:00:00\"],[\"Night Out\",\"2008-04-24T00:00:00\"],[\"Did I Stutter?\",\"2008-05-01T00:00:00\"],[\"Job Fair\",\"2008-05-08T00:00:00\"],[\"Goodbye, Toby\",\"2008-05-15T00:00:00\"],[\"Weight Loss\",\"2008-09-25T00:00:00\"],[\"Business Ethics\",\"2008-10-09T00:00:00\"],[\"Baby Shower\",\"2008-10-16T00:00:00\"],[\"Crime Aid\",\"2008-10-23T00:00:00\"],[\"Employee Transfer\",\"2008-10-30T00:00:00\"],[\"Customer Survey\",\"2008-11-06T00:00:00\"],[\"Business Trip\",\"2008-11-13T00:00:00\"],[\"Frame Toby\",\"2008-11-20T00:00:00\"],[\"The Surplus\",\"2008-12-04T00:00:00\"],[\"Moroccan Christmas\",\"2008-12-11T00:00:00\"],[\"The Duel\",\"2009-01-15T00:00:00\"],[\"Prince Family Paper\",\"2009-01-22T00:00:00\"],[\"Stress Relief\",\"2009-02-01T00:00:00\"],[\"Lecture Circuit: Part 1\",\"2009-02-05T00:00:00\"],[\"Lecture Circuit: Part 2\",\"2009-02-12T00:00:00\"],[\"Blood Drive\",\"2009-03-05T00:00:00\"],[\"Golden Ticket\",\"2009-03-12T00:00:00\"],[\"New Boss\",\"2009-03-19T00:00:00\"],[\"Two Weeks\",\"2009-03-26T00:00:00\"],[\"Dream Team\",\"2009-04-09T00:00:00\"],[\"Michael Scott Paper Company\",\"2009-04-09T00:00:00\"],[\"Heavy Competition\",\"2009-04-16T00:00:00\"],[\"Broke\",\"2009-04-23T00:00:00\"],[\"Casual Friday\",\"2009-04-30T00:00:00\"],[\"Cafe Disco\",\"2009-05-07T00:00:00\"],[\"Company Picnic\",\"2009-05-14T00:00:00\"],[\"Gossip\",\"2009-09-17T00:00:00\"],[\"The Meeting\",\"2009-09-24T00:00:00\"],[\"The Promotion\",\"2009-10-01T00:00:00\"],[\"Niagara: Part 1\",\"2009-10-08T00:00:00\"],[\"Niagara: Part 2\",\"2009-10-08T00:00:00\"],[\"Mafia\",\"2009-10-15T00:00:00\"],[\"The Lover\",\"2009-10-22T00:00:00\"],[\"Koi Pond\",\"2009-10-29T00:00:00\"],[\"Double Date\",\"2009-11-05T00:00:00\"],[\"Murder\",\"2009-11-12T00:00:00\"],[\"Shareholder Meeting\",\"2009-11-19T00:00:00\"],[\"Scott's Tots\",\"2009-12-03T00:00:00\"],[\"Secret Santa\",\"2009-12-10T00:00:00\"],[\"The Banker\",\"2010-01-21T00:00:00\"],[\"Sabre\",\"2010-02-04T00:00:00\"],[\"Manager and Salesman\",\"2010-02-11T00:00:00\"],[\"The Delivery: Part 1\",\"2010-03-04T00:00:00\"],[\"The Delivery: Part 2\",\"2010-03-04T00:00:00\"],[\"St. Patrick's Day\",\"2010-03-11T00:00:00\"],[\"New Leads\",\"2010-03-18T00:00:00\"],[\"Happy Hour\",\"2010-03-25T00:00:00\"],[\"Secretary's Day\",\"2010-04-22T00:00:00\"],[\"Body Language\",\"2010-04-29T00:00:00\"],[\"The Cover-Up\",\"2010-05-06T00:00:00\"],[\"The Chump\",\"2010-05-13T00:00:00\"],[\"Whistleblower\",\"2010-05-20T00:00:00\"],[\"Nepotism\",\"2010-09-23T00:00:00\"],[\"Counseling\",\"2010-09-30T00:00:00\"],[\"Andy's Play\",\"2010-10-07T00:00:00\"],[\"Sex Ed\",\"2010-10-14T00:00:00\"],[\"The Sting\",\"2010-10-21T00:00:00\"],[\"Costume Contest\",\"2010-10-28T00:00:00\"],[\"Christening\",\"2010-11-04T00:00:00\"],[\"Viewing Party\",\"2010-11-11T00:00:00\"],[\"WUPHF.com\",\"2010-11-18T00:00:00\"],[\"China\",\"2010-12-02T00:00:00\"],[\"Classy Christmas\",\"2010-12-09T00:00:00\"],[\"Ultimatum\",\"2011-01-20T00:00:00\"],[\"The Seminar\",\"2011-01-27T00:00:00\"],[\"The Search\",\"2011-02-03T00:00:00\"],[\"PDA\",\"2011-02-10T00:00:00\"],[\"Threat Level Midnight\",\"2011-02-17T00:00:00\"],[\"Todd Packer\",\"2011-02-24T00:00:00\"],[\"Garage Sale\",\"2011-03-24T00:00:00\"],[\"Training Day\",\"2011-04-14T00:00:00\"],[\"Michael's Last Dundies\",\"2011-04-21T00:00:00\"],[\"Goodbye, Michael\",\"2011-04-28T00:00:00\"],[\"The Inner Circle\",\"2011-05-05T00:00:00\"],[\"Dwight K. Schrute, (Acting) Manager\",\"2011-05-12T00:00:00\"],[\"Search Committee\",\"2011-05-19T00:00:00\"],[\"The List\",\"2011-09-22T00:00:00\"],[\"The Incentive\",\"2011-09-29T00:00:00\"],[\"Lotto\",\"2011-10-06T00:00:00\"],[\"Garden Party\",\"2011-10-13T00:00:00\"],[\"Spooked\",\"2011-10-27T00:00:00\"],[\"Doomsday\",\"2011-11-03T00:00:00\"],[\"Pam's Replacement\",\"2011-11-10T00:00:00\"],[\"Gettysburg\",\"2011-11-17T00:00:00\"],[\"Mrs. California\",\"2011-12-01T00:00:00\"],[\"Christmas Wishes\",\"2011-12-08T00:00:00\"],[\"Trivia\",\"2012-01-12T00:00:00\"],[\"Pool Party\",\"2012-01-19T00:00:00\"],[\"Jury Duty\",\"2012-02-02T00:00:00\"],[\"Special Project\",\"2012-02-09T00:00:00\"],[\"Tallahassee\",\"2012-02-16T00:00:00\"],[\"After Hours\",\"2012-02-23T00:00:00\"],[\"Test the Store\",\"2012-03-01T00:00:00\"],[\"Last Day in Florida\",\"2012-03-08T00:00:00\"],[\"Get the Girl\",\"2012-03-15T00:00:00\"],[\"Welcome Party\",\"2012-04-12T00:00:00\"],[\"Angry Andy\",\"2012-04-19T00:00:00\"],[\"Fundraiser\",\"2012-04-26T00:00:00\"],[\"Turf War\",\"2012-05-03T00:00:00\"],[\"Free Family Portrait Studio\",\"2012-05-10T00:00:00\"],[\"New Guys\",\"2012-09-20T00:00:00\"],[\"Roy's Wedding\",\"2012-09-27T00:00:00\"],[\"Andy's Ancestry\",\"2012-10-04T00:00:00\"],[\"Work Bus\",\"2012-10-18T00:00:00\"],[\"Here Comes Treble\",\"2012-10-25T00:00:00\"],[\"The Boat\",\"2012-11-08T00:00:00\"],[\"The Whale\",\"2012-11-15T00:00:00\"],[\"The Target\",\"2012-11-29T00:00:00\"],[\"Dwight Christmas\",\"2012-12-06T00:00:00\"],[\"Lice\",\"2013-01-10T00:00:00\"],[\"Suit Warehouse\",\"2013-01-17T00:00:00\"],[\"Customer Loyalty\",\"2013-01-24T00:00:00\"],[\"Junior Salesman\",\"2013-01-31T00:00:00\"],[\"Vandalism\",\"2013-01-31T00:00:00\"],[\"Couples Discount\",\"2013-02-07T00:00:00\"],[\"Moving On\",\"2013-02-14T00:00:00\"],[\"The Farm\",\"2013-03-14T00:00:00\"],[\"Promos\",\"2013-04-04T00:00:00\"],[\"Stairmageddon\",\"2013-04-11T00:00:00\"],[\"Paper Airplane\",\"2013-04-25T00:00:00\"],[\"Livin' the Dream\",\"2013-05-02T00:00:00\"],[\"A.A.R.M.\",\"2013-05-09T00:00:00\"],[\"Finale\",\"2013-05-16T00:00:00\"]],\"hovertemplate\":\"Season=%{x}<br>Votes=%{y}<br>EpisodeTitle=%{customdata[0]}<br>Date=%{customdata[1]}<extra></extra>\",\"legendgroup\":\"\",\"marker\":{\"color\":\"#636efa\"},\"name\":\"\",\"notched\":false,\"offsetgroup\":\"\",\"orientation\":\"v\",\"showlegend\":false,\"type\":\"box\",\"x\":[1,1,1,1,1,1,2,2,2,2,2,2,2,2,2,2,2,2,2,2,2,2,2,2,2,2,2,2,3,3,3,3,3,3,3,3,3,3,3,3,3,3,3,3,3,3,3,3,3,3,3,4,4,4,4,4,4,4,4,4,4,4,4,4,4,5,5,5,5,5,5,5,5,5,5,5,5,5,5,5,5,5,5,5,5,5,5,5,5,5,5,6,6,6,6,6,6,6,6,6,6,6,6,6,6,6,6,6,6,6,6,6,6,6,6,6,6,7,7,7,7,7,7,7,7,7,7,7,7,7,7,7,7,7,7,7,7,7,7,7,7,8,8,8,8,8,8,8,8,8,8,8,8,8,8,8,8,8,8,8,8,8,8,8,8,9,9,9,9,9,9,9,9,9,9,9,9,9,9,9,9,9,9,9,9,9,9,9],\"x0\":\" \",\"xaxis\":\"x\",\"y\":[4936,4801,4024,3915,4294,3854,4315,3665,3665,3607,3392,3388,3533,3216,3338,3663,3536,4314,3142,3118,3091,3104,3283,3212,3094,3172,3253,4765,4133,3027,3175,3049,2976,3082,3021,3166,3151,3343,3001,3053,3211,2975,2995,3460,2969,3368,3164,3138,3158,3641,3898,3635,2934,2844,3073,3125,2878,2775,2923,5601,2757,2872,2756,2627,3939,3264,2654,2621,2525,2600,2717,2516,2799,2776,2613,2711,2615,8170,2474,2431,2464,2667,2503,2492,2484,2718,2568,3409,2467,2814,2954,2866,2349,2344,4560,3114,2464,2590,2348,2314,2761,2336,2681,2467,3039,2251,2223,2347,2370,2196,2154,2503,2168,2197,2199,2113,2184,2520,2272,2413,2209,2156,2249,2238,2200,2141,2246,2878,2282,2171,2369,2347,4877,2123,3730,2215,3039,8059,2183,2414,2623,2366,2200,2098,2266,2024,1948,2077,2089,2050,2020,1980,2139,1937,1891,1994,2068,1958,1903,2203,1972,2107,1902,1832,1918,2074,1963,1938,2059,2021,1955,1872,1928,2204,1952,1920,1984,1866,1866,1888,2089,2189,1924,1985,2007,2831,3914,10515],\"y0\":\" \",\"yaxis\":\"y\"}],                        {\"boxmode\":\"group\",\"height\":450,\"legend\":{\"tracegroupgap\":0},\"showlegend\":false,\"template\":{\"data\":{\"bar\":[{\"error_x\":{\"color\":\"#2a3f5f\"},\"error_y\":{\"color\":\"#2a3f5f\"},\"marker\":{\"line\":{\"color\":\"#E5ECF6\",\"width\":0.5},\"pattern\":{\"fillmode\":\"overlay\",\"size\":10,\"solidity\":0.2}},\"type\":\"bar\"}],\"barpolar\":[{\"marker\":{\"line\":{\"color\":\"#E5ECF6\",\"width\":0.5},\"pattern\":{\"fillmode\":\"overlay\",\"size\":10,\"solidity\":0.2}},\"type\":\"barpolar\"}],\"carpet\":[{\"aaxis\":{\"endlinecolor\":\"#2a3f5f\",\"gridcolor\":\"white\",\"linecolor\":\"white\",\"minorgridcolor\":\"white\",\"startlinecolor\":\"#2a3f5f\"},\"baxis\":{\"endlinecolor\":\"#2a3f5f\",\"gridcolor\":\"white\",\"linecolor\":\"white\",\"minorgridcolor\":\"white\",\"startlinecolor\":\"#2a3f5f\"},\"type\":\"carpet\"}],\"choropleth\":[{\"colorbar\":{\"outlinewidth\":0,\"ticks\":\"\"},\"type\":\"choropleth\"}],\"contour\":[{\"colorbar\":{\"outlinewidth\":0,\"ticks\":\"\"},\"colorscale\":[[0.0,\"#0d0887\"],[0.1111111111111111,\"#46039f\"],[0.2222222222222222,\"#7201a8\"],[0.3333333333333333,\"#9c179e\"],[0.4444444444444444,\"#bd3786\"],[0.5555555555555556,\"#d8576b\"],[0.6666666666666666,\"#ed7953\"],[0.7777777777777778,\"#fb9f3a\"],[0.8888888888888888,\"#fdca26\"],[1.0,\"#f0f921\"]],\"type\":\"contour\"}],\"contourcarpet\":[{\"colorbar\":{\"outlinewidth\":0,\"ticks\":\"\"},\"type\":\"contourcarpet\"}],\"heatmap\":[{\"colorbar\":{\"outlinewidth\":0,\"ticks\":\"\"},\"colorscale\":[[0.0,\"#0d0887\"],[0.1111111111111111,\"#46039f\"],[0.2222222222222222,\"#7201a8\"],[0.3333333333333333,\"#9c179e\"],[0.4444444444444444,\"#bd3786\"],[0.5555555555555556,\"#d8576b\"],[0.6666666666666666,\"#ed7953\"],[0.7777777777777778,\"#fb9f3a\"],[0.8888888888888888,\"#fdca26\"],[1.0,\"#f0f921\"]],\"type\":\"heatmap\"}],\"heatmapgl\":[{\"colorbar\":{\"outlinewidth\":0,\"ticks\":\"\"},\"colorscale\":[[0.0,\"#0d0887\"],[0.1111111111111111,\"#46039f\"],[0.2222222222222222,\"#7201a8\"],[0.3333333333333333,\"#9c179e\"],[0.4444444444444444,\"#bd3786\"],[0.5555555555555556,\"#d8576b\"],[0.6666666666666666,\"#ed7953\"],[0.7777777777777778,\"#fb9f3a\"],[0.8888888888888888,\"#fdca26\"],[1.0,\"#f0f921\"]],\"type\":\"heatmapgl\"}],\"histogram\":[{\"marker\":{\"pattern\":{\"fillmode\":\"overlay\",\"size\":10,\"solidity\":0.2}},\"type\":\"histogram\"}],\"histogram2d\":[{\"colorbar\":{\"outlinewidth\":0,\"ticks\":\"\"},\"colorscale\":[[0.0,\"#0d0887\"],[0.1111111111111111,\"#46039f\"],[0.2222222222222222,\"#7201a8\"],[0.3333333333333333,\"#9c179e\"],[0.4444444444444444,\"#bd3786\"],[0.5555555555555556,\"#d8576b\"],[0.6666666666666666,\"#ed7953\"],[0.7777777777777778,\"#fb9f3a\"],[0.8888888888888888,\"#fdca26\"],[1.0,\"#f0f921\"]],\"type\":\"histogram2d\"}],\"histogram2dcontour\":[{\"colorbar\":{\"outlinewidth\":0,\"ticks\":\"\"},\"colorscale\":[[0.0,\"#0d0887\"],[0.1111111111111111,\"#46039f\"],[0.2222222222222222,\"#7201a8\"],[0.3333333333333333,\"#9c179e\"],[0.4444444444444444,\"#bd3786\"],[0.5555555555555556,\"#d8576b\"],[0.6666666666666666,\"#ed7953\"],[0.7777777777777778,\"#fb9f3a\"],[0.8888888888888888,\"#fdca26\"],[1.0,\"#f0f921\"]],\"type\":\"histogram2dcontour\"}],\"mesh3d\":[{\"colorbar\":{\"outlinewidth\":0,\"ticks\":\"\"},\"type\":\"mesh3d\"}],\"parcoords\":[{\"line\":{\"colorbar\":{\"outlinewidth\":0,\"ticks\":\"\"}},\"type\":\"parcoords\"}],\"pie\":[{\"automargin\":true,\"type\":\"pie\"}],\"scatter\":[{\"marker\":{\"colorbar\":{\"outlinewidth\":0,\"ticks\":\"\"}},\"type\":\"scatter\"}],\"scatter3d\":[{\"line\":{\"colorbar\":{\"outlinewidth\":0,\"ticks\":\"\"}},\"marker\":{\"colorbar\":{\"outlinewidth\":0,\"ticks\":\"\"}},\"type\":\"scatter3d\"}],\"scattercarpet\":[{\"marker\":{\"colorbar\":{\"outlinewidth\":0,\"ticks\":\"\"}},\"type\":\"scattercarpet\"}],\"scattergeo\":[{\"marker\":{\"colorbar\":{\"outlinewidth\":0,\"ticks\":\"\"}},\"type\":\"scattergeo\"}],\"scattergl\":[{\"marker\":{\"colorbar\":{\"outlinewidth\":0,\"ticks\":\"\"}},\"type\":\"scattergl\"}],\"scattermapbox\":[{\"marker\":{\"colorbar\":{\"outlinewidth\":0,\"ticks\":\"\"}},\"type\":\"scattermapbox\"}],\"scatterpolar\":[{\"marker\":{\"colorbar\":{\"outlinewidth\":0,\"ticks\":\"\"}},\"type\":\"scatterpolar\"}],\"scatterpolargl\":[{\"marker\":{\"colorbar\":{\"outlinewidth\":0,\"ticks\":\"\"}},\"type\":\"scatterpolargl\"}],\"scatterternary\":[{\"marker\":{\"colorbar\":{\"outlinewidth\":0,\"ticks\":\"\"}},\"type\":\"scatterternary\"}],\"surface\":[{\"colorbar\":{\"outlinewidth\":0,\"ticks\":\"\"},\"colorscale\":[[0.0,\"#0d0887\"],[0.1111111111111111,\"#46039f\"],[0.2222222222222222,\"#7201a8\"],[0.3333333333333333,\"#9c179e\"],[0.4444444444444444,\"#bd3786\"],[0.5555555555555556,\"#d8576b\"],[0.6666666666666666,\"#ed7953\"],[0.7777777777777778,\"#fb9f3a\"],[0.8888888888888888,\"#fdca26\"],[1.0,\"#f0f921\"]],\"type\":\"surface\"}],\"table\":[{\"cells\":{\"fill\":{\"color\":\"#EBF0F8\"},\"line\":{\"color\":\"white\"}},\"header\":{\"fill\":{\"color\":\"#C8D4E3\"},\"line\":{\"color\":\"white\"}},\"type\":\"table\"}]},\"layout\":{\"annotationdefaults\":{\"arrowcolor\":\"#2a3f5f\",\"arrowhead\":0,\"arrowwidth\":1},\"autotypenumbers\":\"strict\",\"coloraxis\":{\"colorbar\":{\"outlinewidth\":0,\"ticks\":\"\"}},\"colorscale\":{\"diverging\":[[0,\"#8e0152\"],[0.1,\"#c51b7d\"],[0.2,\"#de77ae\"],[0.3,\"#f1b6da\"],[0.4,\"#fde0ef\"],[0.5,\"#f7f7f7\"],[0.6,\"#e6f5d0\"],[0.7,\"#b8e186\"],[0.8,\"#7fbc41\"],[0.9,\"#4d9221\"],[1,\"#276419\"]],\"sequential\":[[0.0,\"#0d0887\"],[0.1111111111111111,\"#46039f\"],[0.2222222222222222,\"#7201a8\"],[0.3333333333333333,\"#9c179e\"],[0.4444444444444444,\"#bd3786\"],[0.5555555555555556,\"#d8576b\"],[0.6666666666666666,\"#ed7953\"],[0.7777777777777778,\"#fb9f3a\"],[0.8888888888888888,\"#fdca26\"],[1.0,\"#f0f921\"]],\"sequentialminus\":[[0.0,\"#0d0887\"],[0.1111111111111111,\"#46039f\"],[0.2222222222222222,\"#7201a8\"],[0.3333333333333333,\"#9c179e\"],[0.4444444444444444,\"#bd3786\"],[0.5555555555555556,\"#d8576b\"],[0.6666666666666666,\"#ed7953\"],[0.7777777777777778,\"#fb9f3a\"],[0.8888888888888888,\"#fdca26\"],[1.0,\"#f0f921\"]]},\"colorway\":[\"#636efa\",\"#EF553B\",\"#00cc96\",\"#ab63fa\",\"#FFA15A\",\"#19d3f3\",\"#FF6692\",\"#B6E880\",\"#FF97FF\",\"#FECB52\"],\"font\":{\"color\":\"#2a3f5f\"},\"geo\":{\"bgcolor\":\"white\",\"lakecolor\":\"white\",\"landcolor\":\"#E5ECF6\",\"showlakes\":true,\"showland\":true,\"subunitcolor\":\"white\"},\"hoverlabel\":{\"align\":\"left\"},\"hovermode\":\"closest\",\"mapbox\":{\"style\":\"light\"},\"paper_bgcolor\":\"white\",\"plot_bgcolor\":\"#E5ECF6\",\"polar\":{\"angularaxis\":{\"gridcolor\":\"white\",\"linecolor\":\"white\",\"ticks\":\"\"},\"bgcolor\":\"#E5ECF6\",\"radialaxis\":{\"gridcolor\":\"white\",\"linecolor\":\"white\",\"ticks\":\"\"}},\"scene\":{\"xaxis\":{\"backgroundcolor\":\"#E5ECF6\",\"gridcolor\":\"white\",\"gridwidth\":2,\"linecolor\":\"white\",\"showbackground\":true,\"ticks\":\"\",\"zerolinecolor\":\"white\"},\"yaxis\":{\"backgroundcolor\":\"#E5ECF6\",\"gridcolor\":\"white\",\"gridwidth\":2,\"linecolor\":\"white\",\"showbackground\":true,\"ticks\":\"\",\"zerolinecolor\":\"white\"},\"zaxis\":{\"backgroundcolor\":\"#E5ECF6\",\"gridcolor\":\"white\",\"gridwidth\":2,\"linecolor\":\"white\",\"showbackground\":true,\"ticks\":\"\",\"zerolinecolor\":\"white\"}},\"shapedefaults\":{\"line\":{\"color\":\"#2a3f5f\"}},\"ternary\":{\"aaxis\":{\"gridcolor\":\"white\",\"linecolor\":\"white\",\"ticks\":\"\"},\"baxis\":{\"gridcolor\":\"white\",\"linecolor\":\"white\",\"ticks\":\"\"},\"bgcolor\":\"#E5ECF6\",\"caxis\":{\"gridcolor\":\"white\",\"linecolor\":\"white\",\"ticks\":\"\"}},\"title\":{\"x\":0.05},\"xaxis\":{\"automargin\":true,\"gridcolor\":\"white\",\"linecolor\":\"white\",\"ticks\":\"\",\"title\":{\"standoff\":15},\"zerolinecolor\":\"white\",\"zerolinewidth\":2},\"yaxis\":{\"automargin\":true,\"gridcolor\":\"white\",\"linecolor\":\"white\",\"ticks\":\"\",\"title\":{\"standoff\":15},\"zerolinecolor\":\"white\",\"zerolinewidth\":2}}},\"title\":{\"text\":\"Votes over time\"},\"width\":850,\"xaxis\":{\"anchor\":\"y\",\"domain\":[0.0,1.0],\"title\":{\"text\":\"Season\"}},\"yaxis\":{\"anchor\":\"x\",\"domain\":[0.0,1.0],\"showticklabels\":true,\"title\":{},\"visible\":true}},                        {\"responsive\": true}                    ).then(function(){\n",
       "                            \n",
       "var gd = document.getElementById('c54fa7d5-6035-47ef-9d8e-b3fdcc208d5f');\n",
       "var x = new MutationObserver(function (mutations, observer) {{\n",
       "        var display = window.getComputedStyle(gd).display;\n",
       "        if (!display || display === 'none') {{\n",
       "            console.log([gd, 'removed!']);\n",
       "            Plotly.purge(gd);\n",
       "            observer.disconnect();\n",
       "        }}\n",
       "}});\n",
       "\n",
       "// Listen for the removal of the full notebook cells\n",
       "var notebookContainer = gd.closest('#notebook-container');\n",
       "if (notebookContainer) {{\n",
       "    x.observe(notebookContainer, {childList: true});\n",
       "}}\n",
       "\n",
       "// Listen for the clearing of the current output cell\n",
       "var outputEl = gd.closest('.output');\n",
       "if (outputEl) {{\n",
       "    x.observe(outputEl, {childList: true});\n",
       "}}\n",
       "\n",
       "                        })                };                });            </script>        </div>"
      ]
     },
     "metadata": {},
     "output_type": "display_data"
    }
   ],
   "source": [
    "plot_box_over_time(data, 'Season', 'Votes', ['EpisodeTitle', 'Date'])"
   ]
  },
  {
   "cell_type": "code",
   "execution_count": 163,
   "id": "e9277186",
   "metadata": {},
   "outputs": [
    {
     "data": {
      "application/vnd.plotly.v1+json": {
       "config": {
        "plotlyServerURL": "https://plot.ly"
       },
       "data": [
        {
         "alignmentgroup": "True",
         "customdata": [
          [
           "Pilot",
           "2005-03-24T00:00:00"
          ],
          [
           "Diversity Day",
           "2005-03-29T00:00:00"
          ],
          [
           "Health Care",
           "2005-04-05T00:00:00"
          ],
          [
           "The Alliance",
           "2005-04-12T00:00:00"
          ],
          [
           "Basketball",
           "2005-04-19T00:00:00"
          ],
          [
           "Hot Girl",
           "2005-04-26T00:00:00"
          ],
          [
           "The Dundies",
           "2005-09-20T00:00:00"
          ],
          [
           "Sexual Harassment",
           "2005-09-27T00:00:00"
          ],
          [
           "Office Olympics",
           "2005-10-04T00:00:00"
          ],
          [
           "The Fire",
           "2005-10-11T00:00:00"
          ],
          [
           "Halloween",
           "2005-10-18T00:00:00"
          ],
          [
           "The Fight",
           "2005-11-01T00:00:00"
          ],
          [
           "The Client",
           "2005-11-08T00:00:00"
          ],
          [
           "Performance Review",
           "2005-11-15T00:00:00"
          ],
          [
           "E-Mail Surveillance",
           "2005-11-22T00:00:00"
          ],
          [
           "Christmas Party",
           "2005-12-06T00:00:00"
          ],
          [
           "Booze Cruise",
           "2006-01-05T00:00:00"
          ],
          [
           "The Injury",
           "2006-01-12T00:00:00"
          ],
          [
           "The Secret",
           "2006-01-19T00:00:00"
          ],
          [
           "The Carpet",
           "2006-01-26T00:00:00"
          ],
          [
           "Boys and Girls",
           "2006-02-02T00:00:00"
          ],
          [
           "Valentine's Day",
           "2006-02-09T00:00:00"
          ],
          [
           "Dwight's Speech",
           "2006-03-02T00:00:00"
          ],
          [
           "Take Your Daughter to Work Day",
           "2006-03-16T00:00:00"
          ],
          [
           "Michael's Birthday",
           "2006-03-30T00:00:00"
          ],
          [
           "Drug Testing",
           "2006-04-27T00:00:00"
          ],
          [
           "Conflict Resolution",
           "2006-05-04T00:00:00"
          ],
          [
           "Casino Night",
           "2006-05-11T00:00:00"
          ],
          [
           "Gay Witch Hunt",
           "2006-09-21T00:00:00"
          ],
          [
           "The Convention",
           "2006-09-28T00:00:00"
          ],
          [
           "The Coup",
           "2006-10-05T00:00:00"
          ],
          [
           "Grief Counseling",
           "2006-10-12T00:00:00"
          ],
          [
           "Initiation",
           "2006-10-19T00:00:00"
          ],
          [
           "Diwali",
           "2006-11-02T00:00:00"
          ],
          [
           "Branch Closing",
           "2006-11-09T00:00:00"
          ],
          [
           "The Merger",
           "2006-11-16T00:00:00"
          ],
          [
           "The Convict",
           "2006-11-30T00:00:00"
          ],
          [
           "A Benihana Christmas",
           "2006-12-14T00:00:00"
          ],
          [
           "Back from Vacation",
           "2007-01-04T00:00:00"
          ],
          [
           "Traveling Salesmen",
           "2007-01-11T00:00:00"
          ],
          [
           "The Return",
           "2007-01-18T00:00:00"
          ],
          [
           "Ben Franklin",
           "2007-02-01T00:00:00"
          ],
          [
           "Phyllis' Wedding",
           "2007-02-08T00:00:00"
          ],
          [
           "Business School",
           "2007-02-15T00:00:00"
          ],
          [
           "Cocktails",
           "2007-02-22T00:00:00"
          ],
          [
           "The Negotiation",
           "2007-04-05T00:00:00"
          ],
          [
           "Safety Training",
           "2007-04-12T00:00:00"
          ],
          [
           "Product Recall",
           "2007-04-26T00:00:00"
          ],
          [
           "Women's Appreciation",
           "2007-05-03T00:00:00"
          ],
          [
           "Beach Games",
           "2007-05-10T00:00:00"
          ],
          [
           "The Job",
           "2007-05-17T00:00:00"
          ],
          [
           "Fun Run",
           "2007-09-27T00:00:00"
          ],
          [
           "Dunder Mifflin Infinity",
           "2007-10-04T00:00:00"
          ],
          [
           "Launch Party",
           "2007-10-11T00:00:00"
          ],
          [
           "Money",
           "2007-10-18T00:00:00"
          ],
          [
           "Local Ad",
           "2007-10-25T00:00:00"
          ],
          [
           "Branch Wars",
           "2007-11-01T00:00:00"
          ],
          [
           "Survivor Man",
           "2007-11-08T00:00:00"
          ],
          [
           "The Deposition",
           "2007-11-15T00:00:00"
          ],
          [
           "Dinner Party",
           "2008-04-10T00:00:00"
          ],
          [
           "Chair Model",
           "2008-04-17T00:00:00"
          ],
          [
           "Night Out",
           "2008-04-24T00:00:00"
          ],
          [
           "Did I Stutter?",
           "2008-05-01T00:00:00"
          ],
          [
           "Job Fair",
           "2008-05-08T00:00:00"
          ],
          [
           "Goodbye, Toby",
           "2008-05-15T00:00:00"
          ],
          [
           "Weight Loss",
           "2008-09-25T00:00:00"
          ],
          [
           "Business Ethics",
           "2008-10-09T00:00:00"
          ],
          [
           "Baby Shower",
           "2008-10-16T00:00:00"
          ],
          [
           "Crime Aid",
           "2008-10-23T00:00:00"
          ],
          [
           "Employee Transfer",
           "2008-10-30T00:00:00"
          ],
          [
           "Customer Survey",
           "2008-11-06T00:00:00"
          ],
          [
           "Business Trip",
           "2008-11-13T00:00:00"
          ],
          [
           "Frame Toby",
           "2008-11-20T00:00:00"
          ],
          [
           "The Surplus",
           "2008-12-04T00:00:00"
          ],
          [
           "Moroccan Christmas",
           "2008-12-11T00:00:00"
          ],
          [
           "The Duel",
           "2009-01-15T00:00:00"
          ],
          [
           "Prince Family Paper",
           "2009-01-22T00:00:00"
          ],
          [
           "Stress Relief",
           "2009-02-01T00:00:00"
          ],
          [
           "Lecture Circuit: Part 1",
           "2009-02-05T00:00:00"
          ],
          [
           "Lecture Circuit: Part 2",
           "2009-02-12T00:00:00"
          ],
          [
           "Blood Drive",
           "2009-03-05T00:00:00"
          ],
          [
           "Golden Ticket",
           "2009-03-12T00:00:00"
          ],
          [
           "New Boss",
           "2009-03-19T00:00:00"
          ],
          [
           "Two Weeks",
           "2009-03-26T00:00:00"
          ],
          [
           "Dream Team",
           "2009-04-09T00:00:00"
          ],
          [
           "Michael Scott Paper Company",
           "2009-04-09T00:00:00"
          ],
          [
           "Heavy Competition",
           "2009-04-16T00:00:00"
          ],
          [
           "Broke",
           "2009-04-23T00:00:00"
          ],
          [
           "Casual Friday",
           "2009-04-30T00:00:00"
          ],
          [
           "Cafe Disco",
           "2009-05-07T00:00:00"
          ],
          [
           "Company Picnic",
           "2009-05-14T00:00:00"
          ],
          [
           "Gossip",
           "2009-09-17T00:00:00"
          ],
          [
           "The Meeting",
           "2009-09-24T00:00:00"
          ],
          [
           "The Promotion",
           "2009-10-01T00:00:00"
          ],
          [
           "Niagara: Part 1",
           "2009-10-08T00:00:00"
          ],
          [
           "Niagara: Part 2",
           "2009-10-08T00:00:00"
          ],
          [
           "Mafia",
           "2009-10-15T00:00:00"
          ],
          [
           "The Lover",
           "2009-10-22T00:00:00"
          ],
          [
           "Koi Pond",
           "2009-10-29T00:00:00"
          ],
          [
           "Double Date",
           "2009-11-05T00:00:00"
          ],
          [
           "Murder",
           "2009-11-12T00:00:00"
          ],
          [
           "Shareholder Meeting",
           "2009-11-19T00:00:00"
          ],
          [
           "Scott's Tots",
           "2009-12-03T00:00:00"
          ],
          [
           "Secret Santa",
           "2009-12-10T00:00:00"
          ],
          [
           "The Banker",
           "2010-01-21T00:00:00"
          ],
          [
           "Sabre",
           "2010-02-04T00:00:00"
          ],
          [
           "Manager and Salesman",
           "2010-02-11T00:00:00"
          ],
          [
           "The Delivery: Part 1",
           "2010-03-04T00:00:00"
          ],
          [
           "The Delivery: Part 2",
           "2010-03-04T00:00:00"
          ],
          [
           "St. Patrick's Day",
           "2010-03-11T00:00:00"
          ],
          [
           "New Leads",
           "2010-03-18T00:00:00"
          ],
          [
           "Happy Hour",
           "2010-03-25T00:00:00"
          ],
          [
           "Secretary's Day",
           "2010-04-22T00:00:00"
          ],
          [
           "Body Language",
           "2010-04-29T00:00:00"
          ],
          [
           "The Cover-Up",
           "2010-05-06T00:00:00"
          ],
          [
           "The Chump",
           "2010-05-13T00:00:00"
          ],
          [
           "Whistleblower",
           "2010-05-20T00:00:00"
          ],
          [
           "Nepotism",
           "2010-09-23T00:00:00"
          ],
          [
           "Counseling",
           "2010-09-30T00:00:00"
          ],
          [
           "Andy's Play",
           "2010-10-07T00:00:00"
          ],
          [
           "Sex Ed",
           "2010-10-14T00:00:00"
          ],
          [
           "The Sting",
           "2010-10-21T00:00:00"
          ],
          [
           "Costume Contest",
           "2010-10-28T00:00:00"
          ],
          [
           "Christening",
           "2010-11-04T00:00:00"
          ],
          [
           "Viewing Party",
           "2010-11-11T00:00:00"
          ],
          [
           "WUPHF.com",
           "2010-11-18T00:00:00"
          ],
          [
           "China",
           "2010-12-02T00:00:00"
          ],
          [
           "Classy Christmas",
           "2010-12-09T00:00:00"
          ],
          [
           "Ultimatum",
           "2011-01-20T00:00:00"
          ],
          [
           "The Seminar",
           "2011-01-27T00:00:00"
          ],
          [
           "The Search",
           "2011-02-03T00:00:00"
          ],
          [
           "PDA",
           "2011-02-10T00:00:00"
          ],
          [
           "Threat Level Midnight",
           "2011-02-17T00:00:00"
          ],
          [
           "Todd Packer",
           "2011-02-24T00:00:00"
          ],
          [
           "Garage Sale",
           "2011-03-24T00:00:00"
          ],
          [
           "Training Day",
           "2011-04-14T00:00:00"
          ],
          [
           "Michael's Last Dundies",
           "2011-04-21T00:00:00"
          ],
          [
           "Goodbye, Michael",
           "2011-04-28T00:00:00"
          ],
          [
           "The Inner Circle",
           "2011-05-05T00:00:00"
          ],
          [
           "Dwight K. Schrute, (Acting) Manager",
           "2011-05-12T00:00:00"
          ],
          [
           "Search Committee",
           "2011-05-19T00:00:00"
          ],
          [
           "The List",
           "2011-09-22T00:00:00"
          ],
          [
           "The Incentive",
           "2011-09-29T00:00:00"
          ],
          [
           "Lotto",
           "2011-10-06T00:00:00"
          ],
          [
           "Garden Party",
           "2011-10-13T00:00:00"
          ],
          [
           "Spooked",
           "2011-10-27T00:00:00"
          ],
          [
           "Doomsday",
           "2011-11-03T00:00:00"
          ],
          [
           "Pam's Replacement",
           "2011-11-10T00:00:00"
          ],
          [
           "Gettysburg",
           "2011-11-17T00:00:00"
          ],
          [
           "Mrs. California",
           "2011-12-01T00:00:00"
          ],
          [
           "Christmas Wishes",
           "2011-12-08T00:00:00"
          ],
          [
           "Trivia",
           "2012-01-12T00:00:00"
          ],
          [
           "Pool Party",
           "2012-01-19T00:00:00"
          ],
          [
           "Jury Duty",
           "2012-02-02T00:00:00"
          ],
          [
           "Special Project",
           "2012-02-09T00:00:00"
          ],
          [
           "Tallahassee",
           "2012-02-16T00:00:00"
          ],
          [
           "After Hours",
           "2012-02-23T00:00:00"
          ],
          [
           "Test the Store",
           "2012-03-01T00:00:00"
          ],
          [
           "Last Day in Florida",
           "2012-03-08T00:00:00"
          ],
          [
           "Get the Girl",
           "2012-03-15T00:00:00"
          ],
          [
           "Welcome Party",
           "2012-04-12T00:00:00"
          ],
          [
           "Angry Andy",
           "2012-04-19T00:00:00"
          ],
          [
           "Fundraiser",
           "2012-04-26T00:00:00"
          ],
          [
           "Turf War",
           "2012-05-03T00:00:00"
          ],
          [
           "Free Family Portrait Studio",
           "2012-05-10T00:00:00"
          ],
          [
           "New Guys",
           "2012-09-20T00:00:00"
          ],
          [
           "Roy's Wedding",
           "2012-09-27T00:00:00"
          ],
          [
           "Andy's Ancestry",
           "2012-10-04T00:00:00"
          ],
          [
           "Work Bus",
           "2012-10-18T00:00:00"
          ],
          [
           "Here Comes Treble",
           "2012-10-25T00:00:00"
          ],
          [
           "The Boat",
           "2012-11-08T00:00:00"
          ],
          [
           "The Whale",
           "2012-11-15T00:00:00"
          ],
          [
           "The Target",
           "2012-11-29T00:00:00"
          ],
          [
           "Dwight Christmas",
           "2012-12-06T00:00:00"
          ],
          [
           "Lice",
           "2013-01-10T00:00:00"
          ],
          [
           "Suit Warehouse",
           "2013-01-17T00:00:00"
          ],
          [
           "Customer Loyalty",
           "2013-01-24T00:00:00"
          ],
          [
           "Junior Salesman",
           "2013-01-31T00:00:00"
          ],
          [
           "Vandalism",
           "2013-01-31T00:00:00"
          ],
          [
           "Couples Discount",
           "2013-02-07T00:00:00"
          ],
          [
           "Moving On",
           "2013-02-14T00:00:00"
          ],
          [
           "The Farm",
           "2013-03-14T00:00:00"
          ],
          [
           "Promos",
           "2013-04-04T00:00:00"
          ],
          [
           "Stairmageddon",
           "2013-04-11T00:00:00"
          ],
          [
           "Paper Airplane",
           "2013-04-25T00:00:00"
          ],
          [
           "Livin' the Dream",
           "2013-05-02T00:00:00"
          ],
          [
           "A.A.R.M.",
           "2013-05-09T00:00:00"
          ],
          [
           "Finale",
           "2013-05-16T00:00:00"
          ]
         ],
         "hovertemplate": "Season=%{x}<br>Viewership=%{y}<br>EpisodeTitle=%{customdata[0]}<br>Date=%{customdata[1]}<extra></extra>",
         "legendgroup": "",
         "marker": {
          "color": "#636efa"
         },
         "name": "",
         "notched": false,
         "offsetgroup": "",
         "orientation": "v",
         "showlegend": false,
         "type": "box",
         "x": [
          1,
          1,
          1,
          1,
          1,
          1,
          2,
          2,
          2,
          2,
          2,
          2,
          2,
          2,
          2,
          2,
          2,
          2,
          2,
          2,
          2,
          2,
          2,
          2,
          2,
          2,
          2,
          2,
          3,
          3,
          3,
          3,
          3,
          3,
          3,
          3,
          3,
          3,
          3,
          3,
          3,
          3,
          3,
          3,
          3,
          3,
          3,
          3,
          3,
          3,
          3,
          4,
          4,
          4,
          4,
          4,
          4,
          4,
          4,
          4,
          4,
          4,
          4,
          4,
          4,
          5,
          5,
          5,
          5,
          5,
          5,
          5,
          5,
          5,
          5,
          5,
          5,
          5,
          5,
          5,
          5,
          5,
          5,
          5,
          5,
          5,
          5,
          5,
          5,
          5,
          5,
          6,
          6,
          6,
          6,
          6,
          6,
          6,
          6,
          6,
          6,
          6,
          6,
          6,
          6,
          6,
          6,
          6,
          6,
          6,
          6,
          6,
          6,
          6,
          6,
          6,
          6,
          7,
          7,
          7,
          7,
          7,
          7,
          7,
          7,
          7,
          7,
          7,
          7,
          7,
          7,
          7,
          7,
          7,
          7,
          7,
          7,
          7,
          7,
          7,
          7,
          8,
          8,
          8,
          8,
          8,
          8,
          8,
          8,
          8,
          8,
          8,
          8,
          8,
          8,
          8,
          8,
          8,
          8,
          8,
          8,
          8,
          8,
          8,
          8,
          9,
          9,
          9,
          9,
          9,
          9,
          9,
          9,
          9,
          9,
          9,
          9,
          9,
          9,
          9,
          9,
          9,
          9,
          9,
          9,
          9,
          9,
          9
         ],
         "x0": " ",
         "xaxis": "x",
         "y": [
          11.2,
          6,
          5.8,
          5.4,
          5,
          4.8,
          9,
          7.13,
          8.3,
          7.6,
          8,
          7.9,
          7.5,
          8,
          8.1,
          9.7,
          8.7,
          10.3,
          8.7,
          8.6,
          5.42,
          8.95,
          8.4,
          8.8,
          7.8,
          7.8,
          7.4,
          7.6,
          9.11,
          7.78,
          8.89,
          8.83,
          8.46,
          8.81,
          8.05,
          8.63,
          9.07,
          8.44,
          8.8,
          10.12,
          10.2,
          10.11,
          8.84,
          8.84,
          8.3,
          6.74,
          7.71,
          7.56,
          7,
          7.2,
          7.88,
          9.7,
          8.49,
          8.91,
          8.5,
          8.98,
          8.39,
          8.29,
          8.86,
          9.22,
          9.81,
          7.56,
          7.67,
          7.22,
          8.07,
          9.2,
          8.99,
          8.07,
          7.74,
          9.32,
          8.35,
          8.18,
          8.4,
          8.33,
          8.79,
          8.5,
          8.74,
          22.91,
          8.39,
          8.89,
          8.63,
          7.51,
          7.95,
          8.45,
          7.2,
          7.94,
          8.24,
          7.21,
          7.31,
          7.71,
          6.72,
          8.2,
          7.33,
          7.28,
          9.42,
          9.42,
          8.1,
          8.52,
          8.2,
          7.94,
          7.76,
          7.43,
          8.1,
          8.51,
          7.29,
          7.36,
          7.4,
          9,
          9,
          7.51,
          7.63,
          7.17,
          6.3,
          7.01,
          6.84,
          6.6,
          6.6,
          8.4,
          7.36,
          6.95,
          7.36,
          6.87,
          8.07,
          7.65,
          7.15,
          7.28,
          7.31,
          7.18,
          8.26,
          7.93,
          7.29,
          6.9,
          6.41,
          6.12,
          7.07,
          7.87,
          6.85,
          8.42,
          6.9,
          6.45,
          7.29,
          7.64,
          6.7,
          5.82,
          6.08,
          5.53,
          6.15,
          5.96,
          5.5,
          5.71,
          5.79,
          5.9,
          6.02,
          5.31,
          5.19,
          4.38,
          5.02,
          4.95,
          4.89,
          4.87,
          4.39,
          4.35,
          4.17,
          4.44,
          4.49,
          4.28,
          4.13,
          4.14,
          4.28,
          4,
          4.83,
          4.16,
          3.88,
          4.16,
          4.54,
          4.15,
          4.19,
          4.45,
          3.97,
          4.15,
          4.06,
          3.54,
          3.44,
          3.83,
          3.25,
          3.51,
          4.56,
          5.69
         ],
         "y0": " ",
         "yaxis": "y"
        }
       ],
       "layout": {
        "boxmode": "group",
        "height": 450,
        "legend": {
         "tracegroupgap": 0
        },
        "showlegend": false,
        "template": {
         "data": {
          "bar": [
           {
            "error_x": {
             "color": "#2a3f5f"
            },
            "error_y": {
             "color": "#2a3f5f"
            },
            "marker": {
             "line": {
              "color": "#E5ECF6",
              "width": 0.5
             },
             "pattern": {
              "fillmode": "overlay",
              "size": 10,
              "solidity": 0.2
             }
            },
            "type": "bar"
           }
          ],
          "barpolar": [
           {
            "marker": {
             "line": {
              "color": "#E5ECF6",
              "width": 0.5
             },
             "pattern": {
              "fillmode": "overlay",
              "size": 10,
              "solidity": 0.2
             }
            },
            "type": "barpolar"
           }
          ],
          "carpet": [
           {
            "aaxis": {
             "endlinecolor": "#2a3f5f",
             "gridcolor": "white",
             "linecolor": "white",
             "minorgridcolor": "white",
             "startlinecolor": "#2a3f5f"
            },
            "baxis": {
             "endlinecolor": "#2a3f5f",
             "gridcolor": "white",
             "linecolor": "white",
             "minorgridcolor": "white",
             "startlinecolor": "#2a3f5f"
            },
            "type": "carpet"
           }
          ],
          "choropleth": [
           {
            "colorbar": {
             "outlinewidth": 0,
             "ticks": ""
            },
            "type": "choropleth"
           }
          ],
          "contour": [
           {
            "colorbar": {
             "outlinewidth": 0,
             "ticks": ""
            },
            "colorscale": [
             [
              0,
              "#0d0887"
             ],
             [
              0.1111111111111111,
              "#46039f"
             ],
             [
              0.2222222222222222,
              "#7201a8"
             ],
             [
              0.3333333333333333,
              "#9c179e"
             ],
             [
              0.4444444444444444,
              "#bd3786"
             ],
             [
              0.5555555555555556,
              "#d8576b"
             ],
             [
              0.6666666666666666,
              "#ed7953"
             ],
             [
              0.7777777777777778,
              "#fb9f3a"
             ],
             [
              0.8888888888888888,
              "#fdca26"
             ],
             [
              1,
              "#f0f921"
             ]
            ],
            "type": "contour"
           }
          ],
          "contourcarpet": [
           {
            "colorbar": {
             "outlinewidth": 0,
             "ticks": ""
            },
            "type": "contourcarpet"
           }
          ],
          "heatmap": [
           {
            "colorbar": {
             "outlinewidth": 0,
             "ticks": ""
            },
            "colorscale": [
             [
              0,
              "#0d0887"
             ],
             [
              0.1111111111111111,
              "#46039f"
             ],
             [
              0.2222222222222222,
              "#7201a8"
             ],
             [
              0.3333333333333333,
              "#9c179e"
             ],
             [
              0.4444444444444444,
              "#bd3786"
             ],
             [
              0.5555555555555556,
              "#d8576b"
             ],
             [
              0.6666666666666666,
              "#ed7953"
             ],
             [
              0.7777777777777778,
              "#fb9f3a"
             ],
             [
              0.8888888888888888,
              "#fdca26"
             ],
             [
              1,
              "#f0f921"
             ]
            ],
            "type": "heatmap"
           }
          ],
          "heatmapgl": [
           {
            "colorbar": {
             "outlinewidth": 0,
             "ticks": ""
            },
            "colorscale": [
             [
              0,
              "#0d0887"
             ],
             [
              0.1111111111111111,
              "#46039f"
             ],
             [
              0.2222222222222222,
              "#7201a8"
             ],
             [
              0.3333333333333333,
              "#9c179e"
             ],
             [
              0.4444444444444444,
              "#bd3786"
             ],
             [
              0.5555555555555556,
              "#d8576b"
             ],
             [
              0.6666666666666666,
              "#ed7953"
             ],
             [
              0.7777777777777778,
              "#fb9f3a"
             ],
             [
              0.8888888888888888,
              "#fdca26"
             ],
             [
              1,
              "#f0f921"
             ]
            ],
            "type": "heatmapgl"
           }
          ],
          "histogram": [
           {
            "marker": {
             "pattern": {
              "fillmode": "overlay",
              "size": 10,
              "solidity": 0.2
             }
            },
            "type": "histogram"
           }
          ],
          "histogram2d": [
           {
            "colorbar": {
             "outlinewidth": 0,
             "ticks": ""
            },
            "colorscale": [
             [
              0,
              "#0d0887"
             ],
             [
              0.1111111111111111,
              "#46039f"
             ],
             [
              0.2222222222222222,
              "#7201a8"
             ],
             [
              0.3333333333333333,
              "#9c179e"
             ],
             [
              0.4444444444444444,
              "#bd3786"
             ],
             [
              0.5555555555555556,
              "#d8576b"
             ],
             [
              0.6666666666666666,
              "#ed7953"
             ],
             [
              0.7777777777777778,
              "#fb9f3a"
             ],
             [
              0.8888888888888888,
              "#fdca26"
             ],
             [
              1,
              "#f0f921"
             ]
            ],
            "type": "histogram2d"
           }
          ],
          "histogram2dcontour": [
           {
            "colorbar": {
             "outlinewidth": 0,
             "ticks": ""
            },
            "colorscale": [
             [
              0,
              "#0d0887"
             ],
             [
              0.1111111111111111,
              "#46039f"
             ],
             [
              0.2222222222222222,
              "#7201a8"
             ],
             [
              0.3333333333333333,
              "#9c179e"
             ],
             [
              0.4444444444444444,
              "#bd3786"
             ],
             [
              0.5555555555555556,
              "#d8576b"
             ],
             [
              0.6666666666666666,
              "#ed7953"
             ],
             [
              0.7777777777777778,
              "#fb9f3a"
             ],
             [
              0.8888888888888888,
              "#fdca26"
             ],
             [
              1,
              "#f0f921"
             ]
            ],
            "type": "histogram2dcontour"
           }
          ],
          "mesh3d": [
           {
            "colorbar": {
             "outlinewidth": 0,
             "ticks": ""
            },
            "type": "mesh3d"
           }
          ],
          "parcoords": [
           {
            "line": {
             "colorbar": {
              "outlinewidth": 0,
              "ticks": ""
             }
            },
            "type": "parcoords"
           }
          ],
          "pie": [
           {
            "automargin": true,
            "type": "pie"
           }
          ],
          "scatter": [
           {
            "marker": {
             "colorbar": {
              "outlinewidth": 0,
              "ticks": ""
             }
            },
            "type": "scatter"
           }
          ],
          "scatter3d": [
           {
            "line": {
             "colorbar": {
              "outlinewidth": 0,
              "ticks": ""
             }
            },
            "marker": {
             "colorbar": {
              "outlinewidth": 0,
              "ticks": ""
             }
            },
            "type": "scatter3d"
           }
          ],
          "scattercarpet": [
           {
            "marker": {
             "colorbar": {
              "outlinewidth": 0,
              "ticks": ""
             }
            },
            "type": "scattercarpet"
           }
          ],
          "scattergeo": [
           {
            "marker": {
             "colorbar": {
              "outlinewidth": 0,
              "ticks": ""
             }
            },
            "type": "scattergeo"
           }
          ],
          "scattergl": [
           {
            "marker": {
             "colorbar": {
              "outlinewidth": 0,
              "ticks": ""
             }
            },
            "type": "scattergl"
           }
          ],
          "scattermapbox": [
           {
            "marker": {
             "colorbar": {
              "outlinewidth": 0,
              "ticks": ""
             }
            },
            "type": "scattermapbox"
           }
          ],
          "scatterpolar": [
           {
            "marker": {
             "colorbar": {
              "outlinewidth": 0,
              "ticks": ""
             }
            },
            "type": "scatterpolar"
           }
          ],
          "scatterpolargl": [
           {
            "marker": {
             "colorbar": {
              "outlinewidth": 0,
              "ticks": ""
             }
            },
            "type": "scatterpolargl"
           }
          ],
          "scatterternary": [
           {
            "marker": {
             "colorbar": {
              "outlinewidth": 0,
              "ticks": ""
             }
            },
            "type": "scatterternary"
           }
          ],
          "surface": [
           {
            "colorbar": {
             "outlinewidth": 0,
             "ticks": ""
            },
            "colorscale": [
             [
              0,
              "#0d0887"
             ],
             [
              0.1111111111111111,
              "#46039f"
             ],
             [
              0.2222222222222222,
              "#7201a8"
             ],
             [
              0.3333333333333333,
              "#9c179e"
             ],
             [
              0.4444444444444444,
              "#bd3786"
             ],
             [
              0.5555555555555556,
              "#d8576b"
             ],
             [
              0.6666666666666666,
              "#ed7953"
             ],
             [
              0.7777777777777778,
              "#fb9f3a"
             ],
             [
              0.8888888888888888,
              "#fdca26"
             ],
             [
              1,
              "#f0f921"
             ]
            ],
            "type": "surface"
           }
          ],
          "table": [
           {
            "cells": {
             "fill": {
              "color": "#EBF0F8"
             },
             "line": {
              "color": "white"
             }
            },
            "header": {
             "fill": {
              "color": "#C8D4E3"
             },
             "line": {
              "color": "white"
             }
            },
            "type": "table"
           }
          ]
         },
         "layout": {
          "annotationdefaults": {
           "arrowcolor": "#2a3f5f",
           "arrowhead": 0,
           "arrowwidth": 1
          },
          "autotypenumbers": "strict",
          "coloraxis": {
           "colorbar": {
            "outlinewidth": 0,
            "ticks": ""
           }
          },
          "colorscale": {
           "diverging": [
            [
             0,
             "#8e0152"
            ],
            [
             0.1,
             "#c51b7d"
            ],
            [
             0.2,
             "#de77ae"
            ],
            [
             0.3,
             "#f1b6da"
            ],
            [
             0.4,
             "#fde0ef"
            ],
            [
             0.5,
             "#f7f7f7"
            ],
            [
             0.6,
             "#e6f5d0"
            ],
            [
             0.7,
             "#b8e186"
            ],
            [
             0.8,
             "#7fbc41"
            ],
            [
             0.9,
             "#4d9221"
            ],
            [
             1,
             "#276419"
            ]
           ],
           "sequential": [
            [
             0,
             "#0d0887"
            ],
            [
             0.1111111111111111,
             "#46039f"
            ],
            [
             0.2222222222222222,
             "#7201a8"
            ],
            [
             0.3333333333333333,
             "#9c179e"
            ],
            [
             0.4444444444444444,
             "#bd3786"
            ],
            [
             0.5555555555555556,
             "#d8576b"
            ],
            [
             0.6666666666666666,
             "#ed7953"
            ],
            [
             0.7777777777777778,
             "#fb9f3a"
            ],
            [
             0.8888888888888888,
             "#fdca26"
            ],
            [
             1,
             "#f0f921"
            ]
           ],
           "sequentialminus": [
            [
             0,
             "#0d0887"
            ],
            [
             0.1111111111111111,
             "#46039f"
            ],
            [
             0.2222222222222222,
             "#7201a8"
            ],
            [
             0.3333333333333333,
             "#9c179e"
            ],
            [
             0.4444444444444444,
             "#bd3786"
            ],
            [
             0.5555555555555556,
             "#d8576b"
            ],
            [
             0.6666666666666666,
             "#ed7953"
            ],
            [
             0.7777777777777778,
             "#fb9f3a"
            ],
            [
             0.8888888888888888,
             "#fdca26"
            ],
            [
             1,
             "#f0f921"
            ]
           ]
          },
          "colorway": [
           "#636efa",
           "#EF553B",
           "#00cc96",
           "#ab63fa",
           "#FFA15A",
           "#19d3f3",
           "#FF6692",
           "#B6E880",
           "#FF97FF",
           "#FECB52"
          ],
          "font": {
           "color": "#2a3f5f"
          },
          "geo": {
           "bgcolor": "white",
           "lakecolor": "white",
           "landcolor": "#E5ECF6",
           "showlakes": true,
           "showland": true,
           "subunitcolor": "white"
          },
          "hoverlabel": {
           "align": "left"
          },
          "hovermode": "closest",
          "mapbox": {
           "style": "light"
          },
          "paper_bgcolor": "white",
          "plot_bgcolor": "#E5ECF6",
          "polar": {
           "angularaxis": {
            "gridcolor": "white",
            "linecolor": "white",
            "ticks": ""
           },
           "bgcolor": "#E5ECF6",
           "radialaxis": {
            "gridcolor": "white",
            "linecolor": "white",
            "ticks": ""
           }
          },
          "scene": {
           "xaxis": {
            "backgroundcolor": "#E5ECF6",
            "gridcolor": "white",
            "gridwidth": 2,
            "linecolor": "white",
            "showbackground": true,
            "ticks": "",
            "zerolinecolor": "white"
           },
           "yaxis": {
            "backgroundcolor": "#E5ECF6",
            "gridcolor": "white",
            "gridwidth": 2,
            "linecolor": "white",
            "showbackground": true,
            "ticks": "",
            "zerolinecolor": "white"
           },
           "zaxis": {
            "backgroundcolor": "#E5ECF6",
            "gridcolor": "white",
            "gridwidth": 2,
            "linecolor": "white",
            "showbackground": true,
            "ticks": "",
            "zerolinecolor": "white"
           }
          },
          "shapedefaults": {
           "line": {
            "color": "#2a3f5f"
           }
          },
          "ternary": {
           "aaxis": {
            "gridcolor": "white",
            "linecolor": "white",
            "ticks": ""
           },
           "baxis": {
            "gridcolor": "white",
            "linecolor": "white",
            "ticks": ""
           },
           "bgcolor": "#E5ECF6",
           "caxis": {
            "gridcolor": "white",
            "linecolor": "white",
            "ticks": ""
           }
          },
          "title": {
           "x": 0.05
          },
          "xaxis": {
           "automargin": true,
           "gridcolor": "white",
           "linecolor": "white",
           "ticks": "",
           "title": {
            "standoff": 15
           },
           "zerolinecolor": "white",
           "zerolinewidth": 2
          },
          "yaxis": {
           "automargin": true,
           "gridcolor": "white",
           "linecolor": "white",
           "ticks": "",
           "title": {
            "standoff": 15
           },
           "zerolinecolor": "white",
           "zerolinewidth": 2
          }
         }
        },
        "title": {
         "text": "Viewership over time"
        },
        "width": 850,
        "xaxis": {
         "anchor": "y",
         "domain": [
          0,
          1
         ],
         "title": {
          "text": "Season"
         }
        },
        "yaxis": {
         "anchor": "x",
         "domain": [
          0,
          1
         ],
         "showticklabels": true,
         "title": {},
         "visible": true
        }
       }
      },
      "text/html": [
       "<div>                            <div id=\"48f2aae7-7ffa-4567-8d27-377f1ed6bff8\" class=\"plotly-graph-div\" style=\"height:450px; width:850px;\"></div>            <script type=\"text/javascript\">                require([\"plotly\"], function(Plotly) {                    window.PLOTLYENV=window.PLOTLYENV || {};                                    if (document.getElementById(\"48f2aae7-7ffa-4567-8d27-377f1ed6bff8\")) {                    Plotly.newPlot(                        \"48f2aae7-7ffa-4567-8d27-377f1ed6bff8\",                        [{\"alignmentgroup\":\"True\",\"customdata\":[[\"Pilot\",\"2005-03-24T00:00:00\"],[\"Diversity Day\",\"2005-03-29T00:00:00\"],[\"Health Care\",\"2005-04-05T00:00:00\"],[\"The Alliance\",\"2005-04-12T00:00:00\"],[\"Basketball\",\"2005-04-19T00:00:00\"],[\"Hot Girl\",\"2005-04-26T00:00:00\"],[\"The Dundies\",\"2005-09-20T00:00:00\"],[\"Sexual Harassment\",\"2005-09-27T00:00:00\"],[\"Office Olympics\",\"2005-10-04T00:00:00\"],[\"The Fire\",\"2005-10-11T00:00:00\"],[\"Halloween\",\"2005-10-18T00:00:00\"],[\"The Fight\",\"2005-11-01T00:00:00\"],[\"The Client\",\"2005-11-08T00:00:00\"],[\"Performance Review\",\"2005-11-15T00:00:00\"],[\"E-Mail Surveillance\",\"2005-11-22T00:00:00\"],[\"Christmas Party\",\"2005-12-06T00:00:00\"],[\"Booze Cruise\",\"2006-01-05T00:00:00\"],[\"The Injury\",\"2006-01-12T00:00:00\"],[\"The Secret\",\"2006-01-19T00:00:00\"],[\"The Carpet\",\"2006-01-26T00:00:00\"],[\"Boys and Girls\",\"2006-02-02T00:00:00\"],[\"Valentine's Day\",\"2006-02-09T00:00:00\"],[\"Dwight's Speech\",\"2006-03-02T00:00:00\"],[\"Take Your Daughter to Work Day\",\"2006-03-16T00:00:00\"],[\"Michael's Birthday\",\"2006-03-30T00:00:00\"],[\"Drug Testing\",\"2006-04-27T00:00:00\"],[\"Conflict Resolution\",\"2006-05-04T00:00:00\"],[\"Casino Night\",\"2006-05-11T00:00:00\"],[\"Gay Witch Hunt\",\"2006-09-21T00:00:00\"],[\"The Convention\",\"2006-09-28T00:00:00\"],[\"The Coup\",\"2006-10-05T00:00:00\"],[\"Grief Counseling\",\"2006-10-12T00:00:00\"],[\"Initiation\",\"2006-10-19T00:00:00\"],[\"Diwali\",\"2006-11-02T00:00:00\"],[\"Branch Closing\",\"2006-11-09T00:00:00\"],[\"The Merger\",\"2006-11-16T00:00:00\"],[\"The Convict\",\"2006-11-30T00:00:00\"],[\"A Benihana Christmas\",\"2006-12-14T00:00:00\"],[\"Back from Vacation\",\"2007-01-04T00:00:00\"],[\"Traveling Salesmen\",\"2007-01-11T00:00:00\"],[\"The Return\",\"2007-01-18T00:00:00\"],[\"Ben Franklin\",\"2007-02-01T00:00:00\"],[\"Phyllis' Wedding\",\"2007-02-08T00:00:00\"],[\"Business School\",\"2007-02-15T00:00:00\"],[\"Cocktails\",\"2007-02-22T00:00:00\"],[\"The Negotiation\",\"2007-04-05T00:00:00\"],[\"Safety Training\",\"2007-04-12T00:00:00\"],[\"Product Recall\",\"2007-04-26T00:00:00\"],[\"Women's Appreciation\",\"2007-05-03T00:00:00\"],[\"Beach Games\",\"2007-05-10T00:00:00\"],[\"The Job\",\"2007-05-17T00:00:00\"],[\"Fun Run\",\"2007-09-27T00:00:00\"],[\"Dunder Mifflin Infinity\",\"2007-10-04T00:00:00\"],[\"Launch Party\",\"2007-10-11T00:00:00\"],[\"Money\",\"2007-10-18T00:00:00\"],[\"Local Ad\",\"2007-10-25T00:00:00\"],[\"Branch Wars\",\"2007-11-01T00:00:00\"],[\"Survivor Man\",\"2007-11-08T00:00:00\"],[\"The Deposition\",\"2007-11-15T00:00:00\"],[\"Dinner Party\",\"2008-04-10T00:00:00\"],[\"Chair Model\",\"2008-04-17T00:00:00\"],[\"Night Out\",\"2008-04-24T00:00:00\"],[\"Did I Stutter?\",\"2008-05-01T00:00:00\"],[\"Job Fair\",\"2008-05-08T00:00:00\"],[\"Goodbye, Toby\",\"2008-05-15T00:00:00\"],[\"Weight Loss\",\"2008-09-25T00:00:00\"],[\"Business Ethics\",\"2008-10-09T00:00:00\"],[\"Baby Shower\",\"2008-10-16T00:00:00\"],[\"Crime Aid\",\"2008-10-23T00:00:00\"],[\"Employee Transfer\",\"2008-10-30T00:00:00\"],[\"Customer Survey\",\"2008-11-06T00:00:00\"],[\"Business Trip\",\"2008-11-13T00:00:00\"],[\"Frame Toby\",\"2008-11-20T00:00:00\"],[\"The Surplus\",\"2008-12-04T00:00:00\"],[\"Moroccan Christmas\",\"2008-12-11T00:00:00\"],[\"The Duel\",\"2009-01-15T00:00:00\"],[\"Prince Family Paper\",\"2009-01-22T00:00:00\"],[\"Stress Relief\",\"2009-02-01T00:00:00\"],[\"Lecture Circuit: Part 1\",\"2009-02-05T00:00:00\"],[\"Lecture Circuit: Part 2\",\"2009-02-12T00:00:00\"],[\"Blood Drive\",\"2009-03-05T00:00:00\"],[\"Golden Ticket\",\"2009-03-12T00:00:00\"],[\"New Boss\",\"2009-03-19T00:00:00\"],[\"Two Weeks\",\"2009-03-26T00:00:00\"],[\"Dream Team\",\"2009-04-09T00:00:00\"],[\"Michael Scott Paper Company\",\"2009-04-09T00:00:00\"],[\"Heavy Competition\",\"2009-04-16T00:00:00\"],[\"Broke\",\"2009-04-23T00:00:00\"],[\"Casual Friday\",\"2009-04-30T00:00:00\"],[\"Cafe Disco\",\"2009-05-07T00:00:00\"],[\"Company Picnic\",\"2009-05-14T00:00:00\"],[\"Gossip\",\"2009-09-17T00:00:00\"],[\"The Meeting\",\"2009-09-24T00:00:00\"],[\"The Promotion\",\"2009-10-01T00:00:00\"],[\"Niagara: Part 1\",\"2009-10-08T00:00:00\"],[\"Niagara: Part 2\",\"2009-10-08T00:00:00\"],[\"Mafia\",\"2009-10-15T00:00:00\"],[\"The Lover\",\"2009-10-22T00:00:00\"],[\"Koi Pond\",\"2009-10-29T00:00:00\"],[\"Double Date\",\"2009-11-05T00:00:00\"],[\"Murder\",\"2009-11-12T00:00:00\"],[\"Shareholder Meeting\",\"2009-11-19T00:00:00\"],[\"Scott's Tots\",\"2009-12-03T00:00:00\"],[\"Secret Santa\",\"2009-12-10T00:00:00\"],[\"The Banker\",\"2010-01-21T00:00:00\"],[\"Sabre\",\"2010-02-04T00:00:00\"],[\"Manager and Salesman\",\"2010-02-11T00:00:00\"],[\"The Delivery: Part 1\",\"2010-03-04T00:00:00\"],[\"The Delivery: Part 2\",\"2010-03-04T00:00:00\"],[\"St. Patrick's Day\",\"2010-03-11T00:00:00\"],[\"New Leads\",\"2010-03-18T00:00:00\"],[\"Happy Hour\",\"2010-03-25T00:00:00\"],[\"Secretary's Day\",\"2010-04-22T00:00:00\"],[\"Body Language\",\"2010-04-29T00:00:00\"],[\"The Cover-Up\",\"2010-05-06T00:00:00\"],[\"The Chump\",\"2010-05-13T00:00:00\"],[\"Whistleblower\",\"2010-05-20T00:00:00\"],[\"Nepotism\",\"2010-09-23T00:00:00\"],[\"Counseling\",\"2010-09-30T00:00:00\"],[\"Andy's Play\",\"2010-10-07T00:00:00\"],[\"Sex Ed\",\"2010-10-14T00:00:00\"],[\"The Sting\",\"2010-10-21T00:00:00\"],[\"Costume Contest\",\"2010-10-28T00:00:00\"],[\"Christening\",\"2010-11-04T00:00:00\"],[\"Viewing Party\",\"2010-11-11T00:00:00\"],[\"WUPHF.com\",\"2010-11-18T00:00:00\"],[\"China\",\"2010-12-02T00:00:00\"],[\"Classy Christmas\",\"2010-12-09T00:00:00\"],[\"Ultimatum\",\"2011-01-20T00:00:00\"],[\"The Seminar\",\"2011-01-27T00:00:00\"],[\"The Search\",\"2011-02-03T00:00:00\"],[\"PDA\",\"2011-02-10T00:00:00\"],[\"Threat Level Midnight\",\"2011-02-17T00:00:00\"],[\"Todd Packer\",\"2011-02-24T00:00:00\"],[\"Garage Sale\",\"2011-03-24T00:00:00\"],[\"Training Day\",\"2011-04-14T00:00:00\"],[\"Michael's Last Dundies\",\"2011-04-21T00:00:00\"],[\"Goodbye, Michael\",\"2011-04-28T00:00:00\"],[\"The Inner Circle\",\"2011-05-05T00:00:00\"],[\"Dwight K. Schrute, (Acting) Manager\",\"2011-05-12T00:00:00\"],[\"Search Committee\",\"2011-05-19T00:00:00\"],[\"The List\",\"2011-09-22T00:00:00\"],[\"The Incentive\",\"2011-09-29T00:00:00\"],[\"Lotto\",\"2011-10-06T00:00:00\"],[\"Garden Party\",\"2011-10-13T00:00:00\"],[\"Spooked\",\"2011-10-27T00:00:00\"],[\"Doomsday\",\"2011-11-03T00:00:00\"],[\"Pam's Replacement\",\"2011-11-10T00:00:00\"],[\"Gettysburg\",\"2011-11-17T00:00:00\"],[\"Mrs. California\",\"2011-12-01T00:00:00\"],[\"Christmas Wishes\",\"2011-12-08T00:00:00\"],[\"Trivia\",\"2012-01-12T00:00:00\"],[\"Pool Party\",\"2012-01-19T00:00:00\"],[\"Jury Duty\",\"2012-02-02T00:00:00\"],[\"Special Project\",\"2012-02-09T00:00:00\"],[\"Tallahassee\",\"2012-02-16T00:00:00\"],[\"After Hours\",\"2012-02-23T00:00:00\"],[\"Test the Store\",\"2012-03-01T00:00:00\"],[\"Last Day in Florida\",\"2012-03-08T00:00:00\"],[\"Get the Girl\",\"2012-03-15T00:00:00\"],[\"Welcome Party\",\"2012-04-12T00:00:00\"],[\"Angry Andy\",\"2012-04-19T00:00:00\"],[\"Fundraiser\",\"2012-04-26T00:00:00\"],[\"Turf War\",\"2012-05-03T00:00:00\"],[\"Free Family Portrait Studio\",\"2012-05-10T00:00:00\"],[\"New Guys\",\"2012-09-20T00:00:00\"],[\"Roy's Wedding\",\"2012-09-27T00:00:00\"],[\"Andy's Ancestry\",\"2012-10-04T00:00:00\"],[\"Work Bus\",\"2012-10-18T00:00:00\"],[\"Here Comes Treble\",\"2012-10-25T00:00:00\"],[\"The Boat\",\"2012-11-08T00:00:00\"],[\"The Whale\",\"2012-11-15T00:00:00\"],[\"The Target\",\"2012-11-29T00:00:00\"],[\"Dwight Christmas\",\"2012-12-06T00:00:00\"],[\"Lice\",\"2013-01-10T00:00:00\"],[\"Suit Warehouse\",\"2013-01-17T00:00:00\"],[\"Customer Loyalty\",\"2013-01-24T00:00:00\"],[\"Junior Salesman\",\"2013-01-31T00:00:00\"],[\"Vandalism\",\"2013-01-31T00:00:00\"],[\"Couples Discount\",\"2013-02-07T00:00:00\"],[\"Moving On\",\"2013-02-14T00:00:00\"],[\"The Farm\",\"2013-03-14T00:00:00\"],[\"Promos\",\"2013-04-04T00:00:00\"],[\"Stairmageddon\",\"2013-04-11T00:00:00\"],[\"Paper Airplane\",\"2013-04-25T00:00:00\"],[\"Livin' the Dream\",\"2013-05-02T00:00:00\"],[\"A.A.R.M.\",\"2013-05-09T00:00:00\"],[\"Finale\",\"2013-05-16T00:00:00\"]],\"hovertemplate\":\"Season=%{x}<br>Viewership=%{y}<br>EpisodeTitle=%{customdata[0]}<br>Date=%{customdata[1]}<extra></extra>\",\"legendgroup\":\"\",\"marker\":{\"color\":\"#636efa\"},\"name\":\"\",\"notched\":false,\"offsetgroup\":\"\",\"orientation\":\"v\",\"showlegend\":false,\"type\":\"box\",\"x\":[1,1,1,1,1,1,2,2,2,2,2,2,2,2,2,2,2,2,2,2,2,2,2,2,2,2,2,2,3,3,3,3,3,3,3,3,3,3,3,3,3,3,3,3,3,3,3,3,3,3,3,4,4,4,4,4,4,4,4,4,4,4,4,4,4,5,5,5,5,5,5,5,5,5,5,5,5,5,5,5,5,5,5,5,5,5,5,5,5,5,5,6,6,6,6,6,6,6,6,6,6,6,6,6,6,6,6,6,6,6,6,6,6,6,6,6,6,7,7,7,7,7,7,7,7,7,7,7,7,7,7,7,7,7,7,7,7,7,7,7,7,8,8,8,8,8,8,8,8,8,8,8,8,8,8,8,8,8,8,8,8,8,8,8,8,9,9,9,9,9,9,9,9,9,9,9,9,9,9,9,9,9,9,9,9,9,9,9],\"x0\":\" \",\"xaxis\":\"x\",\"y\":[11.2,6.0,5.8,5.4,5.0,4.8,9.0,7.13,8.3,7.6,8.0,7.9,7.5,8.0,8.1,9.7,8.7,10.3,8.7,8.6,5.42,8.95,8.4,8.8,7.8,7.8,7.4,7.6,9.11,7.78,8.89,8.83,8.46,8.81,8.05,8.63,9.07,8.44,8.8,10.12,10.2,10.11,8.84,8.84,8.3,6.74,7.71,7.56,7.0,7.2,7.88,9.7,8.49,8.91,8.5,8.98,8.39,8.29,8.86,9.22,9.81,7.56,7.67,7.22,8.07,9.2,8.99,8.07,7.74,9.32,8.35,8.18,8.4,8.33,8.79,8.5,8.74,22.91,8.39,8.89,8.63,7.51,7.95,8.45,7.2,7.94,8.24,7.21,7.31,7.71,6.72,8.2,7.33,7.28,9.42,9.42,8.1,8.52,8.2,7.94,7.76,7.43,8.1,8.51,7.29,7.36,7.4,9.0,9.0,7.51,7.63,7.17,6.3,7.01,6.84,6.6,6.6,8.4,7.36,6.95,7.36,6.87,8.07,7.65,7.15,7.28,7.31,7.18,8.26,7.93,7.29,6.9,6.41,6.12,7.07,7.87,6.85,8.42,6.9,6.45,7.29,7.64,6.7,5.82,6.08,5.53,6.15,5.96,5.5,5.71,5.79,5.9,6.02,5.31,5.19,4.38,5.02,4.95,4.89,4.87,4.39,4.35,4.17,4.44,4.49,4.28,4.13,4.14,4.28,4.0,4.83,4.16,3.88,4.16,4.54,4.15,4.19,4.45,3.97,4.15,4.06,3.54,3.44,3.83,3.25,3.51,4.56,5.69],\"y0\":\" \",\"yaxis\":\"y\"}],                        {\"boxmode\":\"group\",\"height\":450,\"legend\":{\"tracegroupgap\":0},\"showlegend\":false,\"template\":{\"data\":{\"bar\":[{\"error_x\":{\"color\":\"#2a3f5f\"},\"error_y\":{\"color\":\"#2a3f5f\"},\"marker\":{\"line\":{\"color\":\"#E5ECF6\",\"width\":0.5},\"pattern\":{\"fillmode\":\"overlay\",\"size\":10,\"solidity\":0.2}},\"type\":\"bar\"}],\"barpolar\":[{\"marker\":{\"line\":{\"color\":\"#E5ECF6\",\"width\":0.5},\"pattern\":{\"fillmode\":\"overlay\",\"size\":10,\"solidity\":0.2}},\"type\":\"barpolar\"}],\"carpet\":[{\"aaxis\":{\"endlinecolor\":\"#2a3f5f\",\"gridcolor\":\"white\",\"linecolor\":\"white\",\"minorgridcolor\":\"white\",\"startlinecolor\":\"#2a3f5f\"},\"baxis\":{\"endlinecolor\":\"#2a3f5f\",\"gridcolor\":\"white\",\"linecolor\":\"white\",\"minorgridcolor\":\"white\",\"startlinecolor\":\"#2a3f5f\"},\"type\":\"carpet\"}],\"choropleth\":[{\"colorbar\":{\"outlinewidth\":0,\"ticks\":\"\"},\"type\":\"choropleth\"}],\"contour\":[{\"colorbar\":{\"outlinewidth\":0,\"ticks\":\"\"},\"colorscale\":[[0.0,\"#0d0887\"],[0.1111111111111111,\"#46039f\"],[0.2222222222222222,\"#7201a8\"],[0.3333333333333333,\"#9c179e\"],[0.4444444444444444,\"#bd3786\"],[0.5555555555555556,\"#d8576b\"],[0.6666666666666666,\"#ed7953\"],[0.7777777777777778,\"#fb9f3a\"],[0.8888888888888888,\"#fdca26\"],[1.0,\"#f0f921\"]],\"type\":\"contour\"}],\"contourcarpet\":[{\"colorbar\":{\"outlinewidth\":0,\"ticks\":\"\"},\"type\":\"contourcarpet\"}],\"heatmap\":[{\"colorbar\":{\"outlinewidth\":0,\"ticks\":\"\"},\"colorscale\":[[0.0,\"#0d0887\"],[0.1111111111111111,\"#46039f\"],[0.2222222222222222,\"#7201a8\"],[0.3333333333333333,\"#9c179e\"],[0.4444444444444444,\"#bd3786\"],[0.5555555555555556,\"#d8576b\"],[0.6666666666666666,\"#ed7953\"],[0.7777777777777778,\"#fb9f3a\"],[0.8888888888888888,\"#fdca26\"],[1.0,\"#f0f921\"]],\"type\":\"heatmap\"}],\"heatmapgl\":[{\"colorbar\":{\"outlinewidth\":0,\"ticks\":\"\"},\"colorscale\":[[0.0,\"#0d0887\"],[0.1111111111111111,\"#46039f\"],[0.2222222222222222,\"#7201a8\"],[0.3333333333333333,\"#9c179e\"],[0.4444444444444444,\"#bd3786\"],[0.5555555555555556,\"#d8576b\"],[0.6666666666666666,\"#ed7953\"],[0.7777777777777778,\"#fb9f3a\"],[0.8888888888888888,\"#fdca26\"],[1.0,\"#f0f921\"]],\"type\":\"heatmapgl\"}],\"histogram\":[{\"marker\":{\"pattern\":{\"fillmode\":\"overlay\",\"size\":10,\"solidity\":0.2}},\"type\":\"histogram\"}],\"histogram2d\":[{\"colorbar\":{\"outlinewidth\":0,\"ticks\":\"\"},\"colorscale\":[[0.0,\"#0d0887\"],[0.1111111111111111,\"#46039f\"],[0.2222222222222222,\"#7201a8\"],[0.3333333333333333,\"#9c179e\"],[0.4444444444444444,\"#bd3786\"],[0.5555555555555556,\"#d8576b\"],[0.6666666666666666,\"#ed7953\"],[0.7777777777777778,\"#fb9f3a\"],[0.8888888888888888,\"#fdca26\"],[1.0,\"#f0f921\"]],\"type\":\"histogram2d\"}],\"histogram2dcontour\":[{\"colorbar\":{\"outlinewidth\":0,\"ticks\":\"\"},\"colorscale\":[[0.0,\"#0d0887\"],[0.1111111111111111,\"#46039f\"],[0.2222222222222222,\"#7201a8\"],[0.3333333333333333,\"#9c179e\"],[0.4444444444444444,\"#bd3786\"],[0.5555555555555556,\"#d8576b\"],[0.6666666666666666,\"#ed7953\"],[0.7777777777777778,\"#fb9f3a\"],[0.8888888888888888,\"#fdca26\"],[1.0,\"#f0f921\"]],\"type\":\"histogram2dcontour\"}],\"mesh3d\":[{\"colorbar\":{\"outlinewidth\":0,\"ticks\":\"\"},\"type\":\"mesh3d\"}],\"parcoords\":[{\"line\":{\"colorbar\":{\"outlinewidth\":0,\"ticks\":\"\"}},\"type\":\"parcoords\"}],\"pie\":[{\"automargin\":true,\"type\":\"pie\"}],\"scatter\":[{\"marker\":{\"colorbar\":{\"outlinewidth\":0,\"ticks\":\"\"}},\"type\":\"scatter\"}],\"scatter3d\":[{\"line\":{\"colorbar\":{\"outlinewidth\":0,\"ticks\":\"\"}},\"marker\":{\"colorbar\":{\"outlinewidth\":0,\"ticks\":\"\"}},\"type\":\"scatter3d\"}],\"scattercarpet\":[{\"marker\":{\"colorbar\":{\"outlinewidth\":0,\"ticks\":\"\"}},\"type\":\"scattercarpet\"}],\"scattergeo\":[{\"marker\":{\"colorbar\":{\"outlinewidth\":0,\"ticks\":\"\"}},\"type\":\"scattergeo\"}],\"scattergl\":[{\"marker\":{\"colorbar\":{\"outlinewidth\":0,\"ticks\":\"\"}},\"type\":\"scattergl\"}],\"scattermapbox\":[{\"marker\":{\"colorbar\":{\"outlinewidth\":0,\"ticks\":\"\"}},\"type\":\"scattermapbox\"}],\"scatterpolar\":[{\"marker\":{\"colorbar\":{\"outlinewidth\":0,\"ticks\":\"\"}},\"type\":\"scatterpolar\"}],\"scatterpolargl\":[{\"marker\":{\"colorbar\":{\"outlinewidth\":0,\"ticks\":\"\"}},\"type\":\"scatterpolargl\"}],\"scatterternary\":[{\"marker\":{\"colorbar\":{\"outlinewidth\":0,\"ticks\":\"\"}},\"type\":\"scatterternary\"}],\"surface\":[{\"colorbar\":{\"outlinewidth\":0,\"ticks\":\"\"},\"colorscale\":[[0.0,\"#0d0887\"],[0.1111111111111111,\"#46039f\"],[0.2222222222222222,\"#7201a8\"],[0.3333333333333333,\"#9c179e\"],[0.4444444444444444,\"#bd3786\"],[0.5555555555555556,\"#d8576b\"],[0.6666666666666666,\"#ed7953\"],[0.7777777777777778,\"#fb9f3a\"],[0.8888888888888888,\"#fdca26\"],[1.0,\"#f0f921\"]],\"type\":\"surface\"}],\"table\":[{\"cells\":{\"fill\":{\"color\":\"#EBF0F8\"},\"line\":{\"color\":\"white\"}},\"header\":{\"fill\":{\"color\":\"#C8D4E3\"},\"line\":{\"color\":\"white\"}},\"type\":\"table\"}]},\"layout\":{\"annotationdefaults\":{\"arrowcolor\":\"#2a3f5f\",\"arrowhead\":0,\"arrowwidth\":1},\"autotypenumbers\":\"strict\",\"coloraxis\":{\"colorbar\":{\"outlinewidth\":0,\"ticks\":\"\"}},\"colorscale\":{\"diverging\":[[0,\"#8e0152\"],[0.1,\"#c51b7d\"],[0.2,\"#de77ae\"],[0.3,\"#f1b6da\"],[0.4,\"#fde0ef\"],[0.5,\"#f7f7f7\"],[0.6,\"#e6f5d0\"],[0.7,\"#b8e186\"],[0.8,\"#7fbc41\"],[0.9,\"#4d9221\"],[1,\"#276419\"]],\"sequential\":[[0.0,\"#0d0887\"],[0.1111111111111111,\"#46039f\"],[0.2222222222222222,\"#7201a8\"],[0.3333333333333333,\"#9c179e\"],[0.4444444444444444,\"#bd3786\"],[0.5555555555555556,\"#d8576b\"],[0.6666666666666666,\"#ed7953\"],[0.7777777777777778,\"#fb9f3a\"],[0.8888888888888888,\"#fdca26\"],[1.0,\"#f0f921\"]],\"sequentialminus\":[[0.0,\"#0d0887\"],[0.1111111111111111,\"#46039f\"],[0.2222222222222222,\"#7201a8\"],[0.3333333333333333,\"#9c179e\"],[0.4444444444444444,\"#bd3786\"],[0.5555555555555556,\"#d8576b\"],[0.6666666666666666,\"#ed7953\"],[0.7777777777777778,\"#fb9f3a\"],[0.8888888888888888,\"#fdca26\"],[1.0,\"#f0f921\"]]},\"colorway\":[\"#636efa\",\"#EF553B\",\"#00cc96\",\"#ab63fa\",\"#FFA15A\",\"#19d3f3\",\"#FF6692\",\"#B6E880\",\"#FF97FF\",\"#FECB52\"],\"font\":{\"color\":\"#2a3f5f\"},\"geo\":{\"bgcolor\":\"white\",\"lakecolor\":\"white\",\"landcolor\":\"#E5ECF6\",\"showlakes\":true,\"showland\":true,\"subunitcolor\":\"white\"},\"hoverlabel\":{\"align\":\"left\"},\"hovermode\":\"closest\",\"mapbox\":{\"style\":\"light\"},\"paper_bgcolor\":\"white\",\"plot_bgcolor\":\"#E5ECF6\",\"polar\":{\"angularaxis\":{\"gridcolor\":\"white\",\"linecolor\":\"white\",\"ticks\":\"\"},\"bgcolor\":\"#E5ECF6\",\"radialaxis\":{\"gridcolor\":\"white\",\"linecolor\":\"white\",\"ticks\":\"\"}},\"scene\":{\"xaxis\":{\"backgroundcolor\":\"#E5ECF6\",\"gridcolor\":\"white\",\"gridwidth\":2,\"linecolor\":\"white\",\"showbackground\":true,\"ticks\":\"\",\"zerolinecolor\":\"white\"},\"yaxis\":{\"backgroundcolor\":\"#E5ECF6\",\"gridcolor\":\"white\",\"gridwidth\":2,\"linecolor\":\"white\",\"showbackground\":true,\"ticks\":\"\",\"zerolinecolor\":\"white\"},\"zaxis\":{\"backgroundcolor\":\"#E5ECF6\",\"gridcolor\":\"white\",\"gridwidth\":2,\"linecolor\":\"white\",\"showbackground\":true,\"ticks\":\"\",\"zerolinecolor\":\"white\"}},\"shapedefaults\":{\"line\":{\"color\":\"#2a3f5f\"}},\"ternary\":{\"aaxis\":{\"gridcolor\":\"white\",\"linecolor\":\"white\",\"ticks\":\"\"},\"baxis\":{\"gridcolor\":\"white\",\"linecolor\":\"white\",\"ticks\":\"\"},\"bgcolor\":\"#E5ECF6\",\"caxis\":{\"gridcolor\":\"white\",\"linecolor\":\"white\",\"ticks\":\"\"}},\"title\":{\"x\":0.05},\"xaxis\":{\"automargin\":true,\"gridcolor\":\"white\",\"linecolor\":\"white\",\"ticks\":\"\",\"title\":{\"standoff\":15},\"zerolinecolor\":\"white\",\"zerolinewidth\":2},\"yaxis\":{\"automargin\":true,\"gridcolor\":\"white\",\"linecolor\":\"white\",\"ticks\":\"\",\"title\":{\"standoff\":15},\"zerolinecolor\":\"white\",\"zerolinewidth\":2}}},\"title\":{\"text\":\"Viewership over time\"},\"width\":850,\"xaxis\":{\"anchor\":\"y\",\"domain\":[0.0,1.0],\"title\":{\"text\":\"Season\"}},\"yaxis\":{\"anchor\":\"x\",\"domain\":[0.0,1.0],\"showticklabels\":true,\"title\":{},\"visible\":true}},                        {\"responsive\": true}                    ).then(function(){\n",
       "                            \n",
       "var gd = document.getElementById('48f2aae7-7ffa-4567-8d27-377f1ed6bff8');\n",
       "var x = new MutationObserver(function (mutations, observer) {{\n",
       "        var display = window.getComputedStyle(gd).display;\n",
       "        if (!display || display === 'none') {{\n",
       "            console.log([gd, 'removed!']);\n",
       "            Plotly.purge(gd);\n",
       "            observer.disconnect();\n",
       "        }}\n",
       "}});\n",
       "\n",
       "// Listen for the removal of the full notebook cells\n",
       "var notebookContainer = gd.closest('#notebook-container');\n",
       "if (notebookContainer) {{\n",
       "    x.observe(notebookContainer, {childList: true});\n",
       "}}\n",
       "\n",
       "// Listen for the clearing of the current output cell\n",
       "var outputEl = gd.closest('.output');\n",
       "if (outputEl) {{\n",
       "    x.observe(outputEl, {childList: true});\n",
       "}}\n",
       "\n",
       "                        })                };                });            </script>        </div>"
      ]
     },
     "metadata": {},
     "output_type": "display_data"
    }
   ],
   "source": [
    "plot_box_over_time(data, 'Season', 'Viewership', ['EpisodeTitle', 'Date'])"
   ]
  },
  {
   "cell_type": "markdown",
   "id": "1937d17d",
   "metadata": {},
   "source": [
    "'Stress relief' in season 5 aired after the Super Bowl - hence the 22+ million viewership"
   ]
  },
  {
   "cell_type": "code",
   "execution_count": 164,
   "id": "c7142ab6",
   "metadata": {},
   "outputs": [
    {
     "data": {
      "application/vnd.plotly.v1+json": {
       "config": {
        "plotlyServerURL": "https://plot.ly"
       },
       "data": [
        {
         "alignmentgroup": "True",
         "customdata": [
          [
           "Pilot",
           "2005-03-24T00:00:00"
          ],
          [
           "Diversity Day",
           "2005-03-29T00:00:00"
          ],
          [
           "Health Care",
           "2005-04-05T00:00:00"
          ],
          [
           "The Alliance",
           "2005-04-12T00:00:00"
          ],
          [
           "Basketball",
           "2005-04-19T00:00:00"
          ],
          [
           "Hot Girl",
           "2005-04-26T00:00:00"
          ],
          [
           "The Dundies",
           "2005-09-20T00:00:00"
          ],
          [
           "Sexual Harassment",
           "2005-09-27T00:00:00"
          ],
          [
           "Office Olympics",
           "2005-10-04T00:00:00"
          ],
          [
           "The Fire",
           "2005-10-11T00:00:00"
          ],
          [
           "Halloween",
           "2005-10-18T00:00:00"
          ],
          [
           "The Fight",
           "2005-11-01T00:00:00"
          ],
          [
           "The Client",
           "2005-11-08T00:00:00"
          ],
          [
           "Performance Review",
           "2005-11-15T00:00:00"
          ],
          [
           "E-Mail Surveillance",
           "2005-11-22T00:00:00"
          ],
          [
           "Christmas Party",
           "2005-12-06T00:00:00"
          ],
          [
           "Booze Cruise",
           "2006-01-05T00:00:00"
          ],
          [
           "The Injury",
           "2006-01-12T00:00:00"
          ],
          [
           "The Secret",
           "2006-01-19T00:00:00"
          ],
          [
           "The Carpet",
           "2006-01-26T00:00:00"
          ],
          [
           "Boys and Girls",
           "2006-02-02T00:00:00"
          ],
          [
           "Valentine's Day",
           "2006-02-09T00:00:00"
          ],
          [
           "Dwight's Speech",
           "2006-03-02T00:00:00"
          ],
          [
           "Take Your Daughter to Work Day",
           "2006-03-16T00:00:00"
          ],
          [
           "Michael's Birthday",
           "2006-03-30T00:00:00"
          ],
          [
           "Drug Testing",
           "2006-04-27T00:00:00"
          ],
          [
           "Conflict Resolution",
           "2006-05-04T00:00:00"
          ],
          [
           "Casino Night",
           "2006-05-11T00:00:00"
          ],
          [
           "Gay Witch Hunt",
           "2006-09-21T00:00:00"
          ],
          [
           "The Convention",
           "2006-09-28T00:00:00"
          ],
          [
           "The Coup",
           "2006-10-05T00:00:00"
          ],
          [
           "Grief Counseling",
           "2006-10-12T00:00:00"
          ],
          [
           "Initiation",
           "2006-10-19T00:00:00"
          ],
          [
           "Diwali",
           "2006-11-02T00:00:00"
          ],
          [
           "Branch Closing",
           "2006-11-09T00:00:00"
          ],
          [
           "The Merger",
           "2006-11-16T00:00:00"
          ],
          [
           "The Convict",
           "2006-11-30T00:00:00"
          ],
          [
           "A Benihana Christmas",
           "2006-12-14T00:00:00"
          ],
          [
           "Back from Vacation",
           "2007-01-04T00:00:00"
          ],
          [
           "Traveling Salesmen",
           "2007-01-11T00:00:00"
          ],
          [
           "The Return",
           "2007-01-18T00:00:00"
          ],
          [
           "Ben Franklin",
           "2007-02-01T00:00:00"
          ],
          [
           "Phyllis' Wedding",
           "2007-02-08T00:00:00"
          ],
          [
           "Business School",
           "2007-02-15T00:00:00"
          ],
          [
           "Cocktails",
           "2007-02-22T00:00:00"
          ],
          [
           "The Negotiation",
           "2007-04-05T00:00:00"
          ],
          [
           "Safety Training",
           "2007-04-12T00:00:00"
          ],
          [
           "Product Recall",
           "2007-04-26T00:00:00"
          ],
          [
           "Women's Appreciation",
           "2007-05-03T00:00:00"
          ],
          [
           "Beach Games",
           "2007-05-10T00:00:00"
          ],
          [
           "The Job",
           "2007-05-17T00:00:00"
          ],
          [
           "Fun Run",
           "2007-09-27T00:00:00"
          ],
          [
           "Dunder Mifflin Infinity",
           "2007-10-04T00:00:00"
          ],
          [
           "Launch Party",
           "2007-10-11T00:00:00"
          ],
          [
           "Money",
           "2007-10-18T00:00:00"
          ],
          [
           "Local Ad",
           "2007-10-25T00:00:00"
          ],
          [
           "Branch Wars",
           "2007-11-01T00:00:00"
          ],
          [
           "Survivor Man",
           "2007-11-08T00:00:00"
          ],
          [
           "The Deposition",
           "2007-11-15T00:00:00"
          ],
          [
           "Dinner Party",
           "2008-04-10T00:00:00"
          ],
          [
           "Chair Model",
           "2008-04-17T00:00:00"
          ],
          [
           "Night Out",
           "2008-04-24T00:00:00"
          ],
          [
           "Did I Stutter?",
           "2008-05-01T00:00:00"
          ],
          [
           "Job Fair",
           "2008-05-08T00:00:00"
          ],
          [
           "Goodbye, Toby",
           "2008-05-15T00:00:00"
          ],
          [
           "Weight Loss",
           "2008-09-25T00:00:00"
          ],
          [
           "Business Ethics",
           "2008-10-09T00:00:00"
          ],
          [
           "Baby Shower",
           "2008-10-16T00:00:00"
          ],
          [
           "Crime Aid",
           "2008-10-23T00:00:00"
          ],
          [
           "Employee Transfer",
           "2008-10-30T00:00:00"
          ],
          [
           "Customer Survey",
           "2008-11-06T00:00:00"
          ],
          [
           "Business Trip",
           "2008-11-13T00:00:00"
          ],
          [
           "Frame Toby",
           "2008-11-20T00:00:00"
          ],
          [
           "The Surplus",
           "2008-12-04T00:00:00"
          ],
          [
           "Moroccan Christmas",
           "2008-12-11T00:00:00"
          ],
          [
           "The Duel",
           "2009-01-15T00:00:00"
          ],
          [
           "Prince Family Paper",
           "2009-01-22T00:00:00"
          ],
          [
           "Stress Relief",
           "2009-02-01T00:00:00"
          ],
          [
           "Lecture Circuit: Part 1",
           "2009-02-05T00:00:00"
          ],
          [
           "Lecture Circuit: Part 2",
           "2009-02-12T00:00:00"
          ],
          [
           "Blood Drive",
           "2009-03-05T00:00:00"
          ],
          [
           "Golden Ticket",
           "2009-03-12T00:00:00"
          ],
          [
           "New Boss",
           "2009-03-19T00:00:00"
          ],
          [
           "Two Weeks",
           "2009-03-26T00:00:00"
          ],
          [
           "Dream Team",
           "2009-04-09T00:00:00"
          ],
          [
           "Michael Scott Paper Company",
           "2009-04-09T00:00:00"
          ],
          [
           "Heavy Competition",
           "2009-04-16T00:00:00"
          ],
          [
           "Broke",
           "2009-04-23T00:00:00"
          ],
          [
           "Casual Friday",
           "2009-04-30T00:00:00"
          ],
          [
           "Cafe Disco",
           "2009-05-07T00:00:00"
          ],
          [
           "Company Picnic",
           "2009-05-14T00:00:00"
          ],
          [
           "Gossip",
           "2009-09-17T00:00:00"
          ],
          [
           "The Meeting",
           "2009-09-24T00:00:00"
          ],
          [
           "The Promotion",
           "2009-10-01T00:00:00"
          ],
          [
           "Niagara: Part 1",
           "2009-10-08T00:00:00"
          ],
          [
           "Niagara: Part 2",
           "2009-10-08T00:00:00"
          ],
          [
           "Mafia",
           "2009-10-15T00:00:00"
          ],
          [
           "The Lover",
           "2009-10-22T00:00:00"
          ],
          [
           "Koi Pond",
           "2009-10-29T00:00:00"
          ],
          [
           "Double Date",
           "2009-11-05T00:00:00"
          ],
          [
           "Murder",
           "2009-11-12T00:00:00"
          ],
          [
           "Shareholder Meeting",
           "2009-11-19T00:00:00"
          ],
          [
           "Scott's Tots",
           "2009-12-03T00:00:00"
          ],
          [
           "Secret Santa",
           "2009-12-10T00:00:00"
          ],
          [
           "The Banker",
           "2010-01-21T00:00:00"
          ],
          [
           "Sabre",
           "2010-02-04T00:00:00"
          ],
          [
           "Manager and Salesman",
           "2010-02-11T00:00:00"
          ],
          [
           "The Delivery: Part 1",
           "2010-03-04T00:00:00"
          ],
          [
           "The Delivery: Part 2",
           "2010-03-04T00:00:00"
          ],
          [
           "St. Patrick's Day",
           "2010-03-11T00:00:00"
          ],
          [
           "New Leads",
           "2010-03-18T00:00:00"
          ],
          [
           "Happy Hour",
           "2010-03-25T00:00:00"
          ],
          [
           "Secretary's Day",
           "2010-04-22T00:00:00"
          ],
          [
           "Body Language",
           "2010-04-29T00:00:00"
          ],
          [
           "The Cover-Up",
           "2010-05-06T00:00:00"
          ],
          [
           "The Chump",
           "2010-05-13T00:00:00"
          ],
          [
           "Whistleblower",
           "2010-05-20T00:00:00"
          ],
          [
           "Nepotism",
           "2010-09-23T00:00:00"
          ],
          [
           "Counseling",
           "2010-09-30T00:00:00"
          ],
          [
           "Andy's Play",
           "2010-10-07T00:00:00"
          ],
          [
           "Sex Ed",
           "2010-10-14T00:00:00"
          ],
          [
           "The Sting",
           "2010-10-21T00:00:00"
          ],
          [
           "Costume Contest",
           "2010-10-28T00:00:00"
          ],
          [
           "Christening",
           "2010-11-04T00:00:00"
          ],
          [
           "Viewing Party",
           "2010-11-11T00:00:00"
          ],
          [
           "WUPHF.com",
           "2010-11-18T00:00:00"
          ],
          [
           "China",
           "2010-12-02T00:00:00"
          ],
          [
           "Classy Christmas",
           "2010-12-09T00:00:00"
          ],
          [
           "Ultimatum",
           "2011-01-20T00:00:00"
          ],
          [
           "The Seminar",
           "2011-01-27T00:00:00"
          ],
          [
           "The Search",
           "2011-02-03T00:00:00"
          ],
          [
           "PDA",
           "2011-02-10T00:00:00"
          ],
          [
           "Threat Level Midnight",
           "2011-02-17T00:00:00"
          ],
          [
           "Todd Packer",
           "2011-02-24T00:00:00"
          ],
          [
           "Garage Sale",
           "2011-03-24T00:00:00"
          ],
          [
           "Training Day",
           "2011-04-14T00:00:00"
          ],
          [
           "Michael's Last Dundies",
           "2011-04-21T00:00:00"
          ],
          [
           "Goodbye, Michael",
           "2011-04-28T00:00:00"
          ],
          [
           "The Inner Circle",
           "2011-05-05T00:00:00"
          ],
          [
           "Dwight K. Schrute, (Acting) Manager",
           "2011-05-12T00:00:00"
          ],
          [
           "Search Committee",
           "2011-05-19T00:00:00"
          ],
          [
           "The List",
           "2011-09-22T00:00:00"
          ],
          [
           "The Incentive",
           "2011-09-29T00:00:00"
          ],
          [
           "Lotto",
           "2011-10-06T00:00:00"
          ],
          [
           "Garden Party",
           "2011-10-13T00:00:00"
          ],
          [
           "Spooked",
           "2011-10-27T00:00:00"
          ],
          [
           "Doomsday",
           "2011-11-03T00:00:00"
          ],
          [
           "Pam's Replacement",
           "2011-11-10T00:00:00"
          ],
          [
           "Gettysburg",
           "2011-11-17T00:00:00"
          ],
          [
           "Mrs. California",
           "2011-12-01T00:00:00"
          ],
          [
           "Christmas Wishes",
           "2011-12-08T00:00:00"
          ],
          [
           "Trivia",
           "2012-01-12T00:00:00"
          ],
          [
           "Pool Party",
           "2012-01-19T00:00:00"
          ],
          [
           "Jury Duty",
           "2012-02-02T00:00:00"
          ],
          [
           "Special Project",
           "2012-02-09T00:00:00"
          ],
          [
           "Tallahassee",
           "2012-02-16T00:00:00"
          ],
          [
           "After Hours",
           "2012-02-23T00:00:00"
          ],
          [
           "Test the Store",
           "2012-03-01T00:00:00"
          ],
          [
           "Last Day in Florida",
           "2012-03-08T00:00:00"
          ],
          [
           "Get the Girl",
           "2012-03-15T00:00:00"
          ],
          [
           "Welcome Party",
           "2012-04-12T00:00:00"
          ],
          [
           "Angry Andy",
           "2012-04-19T00:00:00"
          ],
          [
           "Fundraiser",
           "2012-04-26T00:00:00"
          ],
          [
           "Turf War",
           "2012-05-03T00:00:00"
          ],
          [
           "Free Family Portrait Studio",
           "2012-05-10T00:00:00"
          ],
          [
           "New Guys",
           "2012-09-20T00:00:00"
          ],
          [
           "Roy's Wedding",
           "2012-09-27T00:00:00"
          ],
          [
           "Andy's Ancestry",
           "2012-10-04T00:00:00"
          ],
          [
           "Work Bus",
           "2012-10-18T00:00:00"
          ],
          [
           "Here Comes Treble",
           "2012-10-25T00:00:00"
          ],
          [
           "The Boat",
           "2012-11-08T00:00:00"
          ],
          [
           "The Whale",
           "2012-11-15T00:00:00"
          ],
          [
           "The Target",
           "2012-11-29T00:00:00"
          ],
          [
           "Dwight Christmas",
           "2012-12-06T00:00:00"
          ],
          [
           "Lice",
           "2013-01-10T00:00:00"
          ],
          [
           "Suit Warehouse",
           "2013-01-17T00:00:00"
          ],
          [
           "Customer Loyalty",
           "2013-01-24T00:00:00"
          ],
          [
           "Junior Salesman",
           "2013-01-31T00:00:00"
          ],
          [
           "Vandalism",
           "2013-01-31T00:00:00"
          ],
          [
           "Couples Discount",
           "2013-02-07T00:00:00"
          ],
          [
           "Moving On",
           "2013-02-14T00:00:00"
          ],
          [
           "The Farm",
           "2013-03-14T00:00:00"
          ],
          [
           "Promos",
           "2013-04-04T00:00:00"
          ],
          [
           "Stairmageddon",
           "2013-04-11T00:00:00"
          ],
          [
           "Paper Airplane",
           "2013-04-25T00:00:00"
          ],
          [
           "Livin' the Dream",
           "2013-05-02T00:00:00"
          ],
          [
           "A.A.R.M.",
           "2013-05-09T00:00:00"
          ],
          [
           "Finale",
           "2013-05-16T00:00:00"
          ]
         ],
         "hovertemplate": "Season=%{x}<br>Duration=%{y}<br>EpisodeTitle=%{customdata[0]}<br>Date=%{customdata[1]}<extra></extra>",
         "legendgroup": "",
         "marker": {
          "color": "#636efa"
         },
         "name": "",
         "notched": false,
         "offsetgroup": "",
         "orientation": "v",
         "showlegend": false,
         "type": "box",
         "x": [
          1,
          1,
          1,
          1,
          1,
          1,
          2,
          2,
          2,
          2,
          2,
          2,
          2,
          2,
          2,
          2,
          2,
          2,
          2,
          2,
          2,
          2,
          2,
          2,
          2,
          2,
          2,
          2,
          3,
          3,
          3,
          3,
          3,
          3,
          3,
          3,
          3,
          3,
          3,
          3,
          3,
          3,
          3,
          3,
          3,
          3,
          3,
          3,
          3,
          3,
          3,
          4,
          4,
          4,
          4,
          4,
          4,
          4,
          4,
          4,
          4,
          4,
          4,
          4,
          4,
          5,
          5,
          5,
          5,
          5,
          5,
          5,
          5,
          5,
          5,
          5,
          5,
          5,
          5,
          5,
          5,
          5,
          5,
          5,
          5,
          5,
          5,
          5,
          5,
          5,
          5,
          6,
          6,
          6,
          6,
          6,
          6,
          6,
          6,
          6,
          6,
          6,
          6,
          6,
          6,
          6,
          6,
          6,
          6,
          6,
          6,
          6,
          6,
          6,
          6,
          6,
          6,
          7,
          7,
          7,
          7,
          7,
          7,
          7,
          7,
          7,
          7,
          7,
          7,
          7,
          7,
          7,
          7,
          7,
          7,
          7,
          7,
          7,
          7,
          7,
          7,
          8,
          8,
          8,
          8,
          8,
          8,
          8,
          8,
          8,
          8,
          8,
          8,
          8,
          8,
          8,
          8,
          8,
          8,
          8,
          8,
          8,
          8,
          8,
          8,
          9,
          9,
          9,
          9,
          9,
          9,
          9,
          9,
          9,
          9,
          9,
          9,
          9,
          9,
          9,
          9,
          9,
          9,
          9,
          9,
          9,
          9,
          9
         ],
         "x0": " ",
         "xaxis": "x",
         "y": [
          23,
          23,
          22,
          23,
          23,
          23,
          21,
          22,
          22,
          22,
          30,
          22,
          22,
          22,
          23,
          22,
          22,
          22,
          22,
          22,
          22,
          22,
          22,
          21,
          22,
          22,
          22,
          29,
          23,
          22,
          22,
          22,
          22,
          22,
          31,
          30,
          30,
          42,
          21,
          22,
          28,
          21,
          21,
          22,
          21,
          30,
          21,
          21,
          29,
          28,
          42,
          42,
          42,
          42,
          42,
          22,
          30,
          30,
          30,
          30,
          30,
          21,
          22,
          30,
          42,
          43,
          22,
          22,
          30,
          22,
          22,
          30,
          30,
          22,
          30,
          30,
          22,
          60,
          30,
          30,
          22,
          30,
          30,
          30,
          30,
          22,
          30,
          30,
          22,
          30,
          30,
          30,
          30,
          30,
          30,
          19,
          30,
          30,
          30,
          30,
          23,
          30,
          30,
          30,
          30,
          30,
          30,
          30,
          30,
          30,
          23,
          30,
          30,
          30,
          30,
          30,
          30,
          30,
          30,
          30,
          30,
          30,
          30,
          23,
          30,
          30,
          30,
          60,
          30,
          30,
          30,
          22,
          30,
          30,
          30,
          30,
          23,
          50,
          23,
          23,
          42,
          23,
          23,
          23,
          23,
          23,
          23,
          23,
          23,
          23,
          23,
          23,
          23,
          23,
          23,
          23,
          23,
          23,
          23,
          23,
          23,
          23,
          23,
          23,
          23,
          23,
          23,
          23,
          22,
          22,
          22,
          22,
          22,
          22,
          22,
          22,
          22,
          22,
          22,
          22,
          42,
          22,
          22,
          22,
          22,
          42,
          43,
          51
         ],
         "y0": " ",
         "yaxis": "y"
        }
       ],
       "layout": {
        "boxmode": "group",
        "height": 450,
        "legend": {
         "tracegroupgap": 0
        },
        "showlegend": false,
        "template": {
         "data": {
          "bar": [
           {
            "error_x": {
             "color": "#2a3f5f"
            },
            "error_y": {
             "color": "#2a3f5f"
            },
            "marker": {
             "line": {
              "color": "#E5ECF6",
              "width": 0.5
             },
             "pattern": {
              "fillmode": "overlay",
              "size": 10,
              "solidity": 0.2
             }
            },
            "type": "bar"
           }
          ],
          "barpolar": [
           {
            "marker": {
             "line": {
              "color": "#E5ECF6",
              "width": 0.5
             },
             "pattern": {
              "fillmode": "overlay",
              "size": 10,
              "solidity": 0.2
             }
            },
            "type": "barpolar"
           }
          ],
          "carpet": [
           {
            "aaxis": {
             "endlinecolor": "#2a3f5f",
             "gridcolor": "white",
             "linecolor": "white",
             "minorgridcolor": "white",
             "startlinecolor": "#2a3f5f"
            },
            "baxis": {
             "endlinecolor": "#2a3f5f",
             "gridcolor": "white",
             "linecolor": "white",
             "minorgridcolor": "white",
             "startlinecolor": "#2a3f5f"
            },
            "type": "carpet"
           }
          ],
          "choropleth": [
           {
            "colorbar": {
             "outlinewidth": 0,
             "ticks": ""
            },
            "type": "choropleth"
           }
          ],
          "contour": [
           {
            "colorbar": {
             "outlinewidth": 0,
             "ticks": ""
            },
            "colorscale": [
             [
              0,
              "#0d0887"
             ],
             [
              0.1111111111111111,
              "#46039f"
             ],
             [
              0.2222222222222222,
              "#7201a8"
             ],
             [
              0.3333333333333333,
              "#9c179e"
             ],
             [
              0.4444444444444444,
              "#bd3786"
             ],
             [
              0.5555555555555556,
              "#d8576b"
             ],
             [
              0.6666666666666666,
              "#ed7953"
             ],
             [
              0.7777777777777778,
              "#fb9f3a"
             ],
             [
              0.8888888888888888,
              "#fdca26"
             ],
             [
              1,
              "#f0f921"
             ]
            ],
            "type": "contour"
           }
          ],
          "contourcarpet": [
           {
            "colorbar": {
             "outlinewidth": 0,
             "ticks": ""
            },
            "type": "contourcarpet"
           }
          ],
          "heatmap": [
           {
            "colorbar": {
             "outlinewidth": 0,
             "ticks": ""
            },
            "colorscale": [
             [
              0,
              "#0d0887"
             ],
             [
              0.1111111111111111,
              "#46039f"
             ],
             [
              0.2222222222222222,
              "#7201a8"
             ],
             [
              0.3333333333333333,
              "#9c179e"
             ],
             [
              0.4444444444444444,
              "#bd3786"
             ],
             [
              0.5555555555555556,
              "#d8576b"
             ],
             [
              0.6666666666666666,
              "#ed7953"
             ],
             [
              0.7777777777777778,
              "#fb9f3a"
             ],
             [
              0.8888888888888888,
              "#fdca26"
             ],
             [
              1,
              "#f0f921"
             ]
            ],
            "type": "heatmap"
           }
          ],
          "heatmapgl": [
           {
            "colorbar": {
             "outlinewidth": 0,
             "ticks": ""
            },
            "colorscale": [
             [
              0,
              "#0d0887"
             ],
             [
              0.1111111111111111,
              "#46039f"
             ],
             [
              0.2222222222222222,
              "#7201a8"
             ],
             [
              0.3333333333333333,
              "#9c179e"
             ],
             [
              0.4444444444444444,
              "#bd3786"
             ],
             [
              0.5555555555555556,
              "#d8576b"
             ],
             [
              0.6666666666666666,
              "#ed7953"
             ],
             [
              0.7777777777777778,
              "#fb9f3a"
             ],
             [
              0.8888888888888888,
              "#fdca26"
             ],
             [
              1,
              "#f0f921"
             ]
            ],
            "type": "heatmapgl"
           }
          ],
          "histogram": [
           {
            "marker": {
             "pattern": {
              "fillmode": "overlay",
              "size": 10,
              "solidity": 0.2
             }
            },
            "type": "histogram"
           }
          ],
          "histogram2d": [
           {
            "colorbar": {
             "outlinewidth": 0,
             "ticks": ""
            },
            "colorscale": [
             [
              0,
              "#0d0887"
             ],
             [
              0.1111111111111111,
              "#46039f"
             ],
             [
              0.2222222222222222,
              "#7201a8"
             ],
             [
              0.3333333333333333,
              "#9c179e"
             ],
             [
              0.4444444444444444,
              "#bd3786"
             ],
             [
              0.5555555555555556,
              "#d8576b"
             ],
             [
              0.6666666666666666,
              "#ed7953"
             ],
             [
              0.7777777777777778,
              "#fb9f3a"
             ],
             [
              0.8888888888888888,
              "#fdca26"
             ],
             [
              1,
              "#f0f921"
             ]
            ],
            "type": "histogram2d"
           }
          ],
          "histogram2dcontour": [
           {
            "colorbar": {
             "outlinewidth": 0,
             "ticks": ""
            },
            "colorscale": [
             [
              0,
              "#0d0887"
             ],
             [
              0.1111111111111111,
              "#46039f"
             ],
             [
              0.2222222222222222,
              "#7201a8"
             ],
             [
              0.3333333333333333,
              "#9c179e"
             ],
             [
              0.4444444444444444,
              "#bd3786"
             ],
             [
              0.5555555555555556,
              "#d8576b"
             ],
             [
              0.6666666666666666,
              "#ed7953"
             ],
             [
              0.7777777777777778,
              "#fb9f3a"
             ],
             [
              0.8888888888888888,
              "#fdca26"
             ],
             [
              1,
              "#f0f921"
             ]
            ],
            "type": "histogram2dcontour"
           }
          ],
          "mesh3d": [
           {
            "colorbar": {
             "outlinewidth": 0,
             "ticks": ""
            },
            "type": "mesh3d"
           }
          ],
          "parcoords": [
           {
            "line": {
             "colorbar": {
              "outlinewidth": 0,
              "ticks": ""
             }
            },
            "type": "parcoords"
           }
          ],
          "pie": [
           {
            "automargin": true,
            "type": "pie"
           }
          ],
          "scatter": [
           {
            "marker": {
             "colorbar": {
              "outlinewidth": 0,
              "ticks": ""
             }
            },
            "type": "scatter"
           }
          ],
          "scatter3d": [
           {
            "line": {
             "colorbar": {
              "outlinewidth": 0,
              "ticks": ""
             }
            },
            "marker": {
             "colorbar": {
              "outlinewidth": 0,
              "ticks": ""
             }
            },
            "type": "scatter3d"
           }
          ],
          "scattercarpet": [
           {
            "marker": {
             "colorbar": {
              "outlinewidth": 0,
              "ticks": ""
             }
            },
            "type": "scattercarpet"
           }
          ],
          "scattergeo": [
           {
            "marker": {
             "colorbar": {
              "outlinewidth": 0,
              "ticks": ""
             }
            },
            "type": "scattergeo"
           }
          ],
          "scattergl": [
           {
            "marker": {
             "colorbar": {
              "outlinewidth": 0,
              "ticks": ""
             }
            },
            "type": "scattergl"
           }
          ],
          "scattermapbox": [
           {
            "marker": {
             "colorbar": {
              "outlinewidth": 0,
              "ticks": ""
             }
            },
            "type": "scattermapbox"
           }
          ],
          "scatterpolar": [
           {
            "marker": {
             "colorbar": {
              "outlinewidth": 0,
              "ticks": ""
             }
            },
            "type": "scatterpolar"
           }
          ],
          "scatterpolargl": [
           {
            "marker": {
             "colorbar": {
              "outlinewidth": 0,
              "ticks": ""
             }
            },
            "type": "scatterpolargl"
           }
          ],
          "scatterternary": [
           {
            "marker": {
             "colorbar": {
              "outlinewidth": 0,
              "ticks": ""
             }
            },
            "type": "scatterternary"
           }
          ],
          "surface": [
           {
            "colorbar": {
             "outlinewidth": 0,
             "ticks": ""
            },
            "colorscale": [
             [
              0,
              "#0d0887"
             ],
             [
              0.1111111111111111,
              "#46039f"
             ],
             [
              0.2222222222222222,
              "#7201a8"
             ],
             [
              0.3333333333333333,
              "#9c179e"
             ],
             [
              0.4444444444444444,
              "#bd3786"
             ],
             [
              0.5555555555555556,
              "#d8576b"
             ],
             [
              0.6666666666666666,
              "#ed7953"
             ],
             [
              0.7777777777777778,
              "#fb9f3a"
             ],
             [
              0.8888888888888888,
              "#fdca26"
             ],
             [
              1,
              "#f0f921"
             ]
            ],
            "type": "surface"
           }
          ],
          "table": [
           {
            "cells": {
             "fill": {
              "color": "#EBF0F8"
             },
             "line": {
              "color": "white"
             }
            },
            "header": {
             "fill": {
              "color": "#C8D4E3"
             },
             "line": {
              "color": "white"
             }
            },
            "type": "table"
           }
          ]
         },
         "layout": {
          "annotationdefaults": {
           "arrowcolor": "#2a3f5f",
           "arrowhead": 0,
           "arrowwidth": 1
          },
          "autotypenumbers": "strict",
          "coloraxis": {
           "colorbar": {
            "outlinewidth": 0,
            "ticks": ""
           }
          },
          "colorscale": {
           "diverging": [
            [
             0,
             "#8e0152"
            ],
            [
             0.1,
             "#c51b7d"
            ],
            [
             0.2,
             "#de77ae"
            ],
            [
             0.3,
             "#f1b6da"
            ],
            [
             0.4,
             "#fde0ef"
            ],
            [
             0.5,
             "#f7f7f7"
            ],
            [
             0.6,
             "#e6f5d0"
            ],
            [
             0.7,
             "#b8e186"
            ],
            [
             0.8,
             "#7fbc41"
            ],
            [
             0.9,
             "#4d9221"
            ],
            [
             1,
             "#276419"
            ]
           ],
           "sequential": [
            [
             0,
             "#0d0887"
            ],
            [
             0.1111111111111111,
             "#46039f"
            ],
            [
             0.2222222222222222,
             "#7201a8"
            ],
            [
             0.3333333333333333,
             "#9c179e"
            ],
            [
             0.4444444444444444,
             "#bd3786"
            ],
            [
             0.5555555555555556,
             "#d8576b"
            ],
            [
             0.6666666666666666,
             "#ed7953"
            ],
            [
             0.7777777777777778,
             "#fb9f3a"
            ],
            [
             0.8888888888888888,
             "#fdca26"
            ],
            [
             1,
             "#f0f921"
            ]
           ],
           "sequentialminus": [
            [
             0,
             "#0d0887"
            ],
            [
             0.1111111111111111,
             "#46039f"
            ],
            [
             0.2222222222222222,
             "#7201a8"
            ],
            [
             0.3333333333333333,
             "#9c179e"
            ],
            [
             0.4444444444444444,
             "#bd3786"
            ],
            [
             0.5555555555555556,
             "#d8576b"
            ],
            [
             0.6666666666666666,
             "#ed7953"
            ],
            [
             0.7777777777777778,
             "#fb9f3a"
            ],
            [
             0.8888888888888888,
             "#fdca26"
            ],
            [
             1,
             "#f0f921"
            ]
           ]
          },
          "colorway": [
           "#636efa",
           "#EF553B",
           "#00cc96",
           "#ab63fa",
           "#FFA15A",
           "#19d3f3",
           "#FF6692",
           "#B6E880",
           "#FF97FF",
           "#FECB52"
          ],
          "font": {
           "color": "#2a3f5f"
          },
          "geo": {
           "bgcolor": "white",
           "lakecolor": "white",
           "landcolor": "#E5ECF6",
           "showlakes": true,
           "showland": true,
           "subunitcolor": "white"
          },
          "hoverlabel": {
           "align": "left"
          },
          "hovermode": "closest",
          "mapbox": {
           "style": "light"
          },
          "paper_bgcolor": "white",
          "plot_bgcolor": "#E5ECF6",
          "polar": {
           "angularaxis": {
            "gridcolor": "white",
            "linecolor": "white",
            "ticks": ""
           },
           "bgcolor": "#E5ECF6",
           "radialaxis": {
            "gridcolor": "white",
            "linecolor": "white",
            "ticks": ""
           }
          },
          "scene": {
           "xaxis": {
            "backgroundcolor": "#E5ECF6",
            "gridcolor": "white",
            "gridwidth": 2,
            "linecolor": "white",
            "showbackground": true,
            "ticks": "",
            "zerolinecolor": "white"
           },
           "yaxis": {
            "backgroundcolor": "#E5ECF6",
            "gridcolor": "white",
            "gridwidth": 2,
            "linecolor": "white",
            "showbackground": true,
            "ticks": "",
            "zerolinecolor": "white"
           },
           "zaxis": {
            "backgroundcolor": "#E5ECF6",
            "gridcolor": "white",
            "gridwidth": 2,
            "linecolor": "white",
            "showbackground": true,
            "ticks": "",
            "zerolinecolor": "white"
           }
          },
          "shapedefaults": {
           "line": {
            "color": "#2a3f5f"
           }
          },
          "ternary": {
           "aaxis": {
            "gridcolor": "white",
            "linecolor": "white",
            "ticks": ""
           },
           "baxis": {
            "gridcolor": "white",
            "linecolor": "white",
            "ticks": ""
           },
           "bgcolor": "#E5ECF6",
           "caxis": {
            "gridcolor": "white",
            "linecolor": "white",
            "ticks": ""
           }
          },
          "title": {
           "x": 0.05
          },
          "xaxis": {
           "automargin": true,
           "gridcolor": "white",
           "linecolor": "white",
           "ticks": "",
           "title": {
            "standoff": 15
           },
           "zerolinecolor": "white",
           "zerolinewidth": 2
          },
          "yaxis": {
           "automargin": true,
           "gridcolor": "white",
           "linecolor": "white",
           "ticks": "",
           "title": {
            "standoff": 15
           },
           "zerolinecolor": "white",
           "zerolinewidth": 2
          }
         }
        },
        "title": {
         "text": "Duration over time"
        },
        "width": 850,
        "xaxis": {
         "anchor": "y",
         "domain": [
          0,
          1
         ],
         "title": {
          "text": "Season"
         }
        },
        "yaxis": {
         "anchor": "x",
         "domain": [
          0,
          1
         ],
         "showticklabels": true,
         "title": {},
         "visible": true
        }
       }
      },
      "text/html": [
       "<div>                            <div id=\"71c70819-c029-4d4d-b0fb-fd8b19a115d1\" class=\"plotly-graph-div\" style=\"height:450px; width:850px;\"></div>            <script type=\"text/javascript\">                require([\"plotly\"], function(Plotly) {                    window.PLOTLYENV=window.PLOTLYENV || {};                                    if (document.getElementById(\"71c70819-c029-4d4d-b0fb-fd8b19a115d1\")) {                    Plotly.newPlot(                        \"71c70819-c029-4d4d-b0fb-fd8b19a115d1\",                        [{\"alignmentgroup\":\"True\",\"customdata\":[[\"Pilot\",\"2005-03-24T00:00:00\"],[\"Diversity Day\",\"2005-03-29T00:00:00\"],[\"Health Care\",\"2005-04-05T00:00:00\"],[\"The Alliance\",\"2005-04-12T00:00:00\"],[\"Basketball\",\"2005-04-19T00:00:00\"],[\"Hot Girl\",\"2005-04-26T00:00:00\"],[\"The Dundies\",\"2005-09-20T00:00:00\"],[\"Sexual Harassment\",\"2005-09-27T00:00:00\"],[\"Office Olympics\",\"2005-10-04T00:00:00\"],[\"The Fire\",\"2005-10-11T00:00:00\"],[\"Halloween\",\"2005-10-18T00:00:00\"],[\"The Fight\",\"2005-11-01T00:00:00\"],[\"The Client\",\"2005-11-08T00:00:00\"],[\"Performance Review\",\"2005-11-15T00:00:00\"],[\"E-Mail Surveillance\",\"2005-11-22T00:00:00\"],[\"Christmas Party\",\"2005-12-06T00:00:00\"],[\"Booze Cruise\",\"2006-01-05T00:00:00\"],[\"The Injury\",\"2006-01-12T00:00:00\"],[\"The Secret\",\"2006-01-19T00:00:00\"],[\"The Carpet\",\"2006-01-26T00:00:00\"],[\"Boys and Girls\",\"2006-02-02T00:00:00\"],[\"Valentine's Day\",\"2006-02-09T00:00:00\"],[\"Dwight's Speech\",\"2006-03-02T00:00:00\"],[\"Take Your Daughter to Work Day\",\"2006-03-16T00:00:00\"],[\"Michael's Birthday\",\"2006-03-30T00:00:00\"],[\"Drug Testing\",\"2006-04-27T00:00:00\"],[\"Conflict Resolution\",\"2006-05-04T00:00:00\"],[\"Casino Night\",\"2006-05-11T00:00:00\"],[\"Gay Witch Hunt\",\"2006-09-21T00:00:00\"],[\"The Convention\",\"2006-09-28T00:00:00\"],[\"The Coup\",\"2006-10-05T00:00:00\"],[\"Grief Counseling\",\"2006-10-12T00:00:00\"],[\"Initiation\",\"2006-10-19T00:00:00\"],[\"Diwali\",\"2006-11-02T00:00:00\"],[\"Branch Closing\",\"2006-11-09T00:00:00\"],[\"The Merger\",\"2006-11-16T00:00:00\"],[\"The Convict\",\"2006-11-30T00:00:00\"],[\"A Benihana Christmas\",\"2006-12-14T00:00:00\"],[\"Back from Vacation\",\"2007-01-04T00:00:00\"],[\"Traveling Salesmen\",\"2007-01-11T00:00:00\"],[\"The Return\",\"2007-01-18T00:00:00\"],[\"Ben Franklin\",\"2007-02-01T00:00:00\"],[\"Phyllis' Wedding\",\"2007-02-08T00:00:00\"],[\"Business School\",\"2007-02-15T00:00:00\"],[\"Cocktails\",\"2007-02-22T00:00:00\"],[\"The Negotiation\",\"2007-04-05T00:00:00\"],[\"Safety Training\",\"2007-04-12T00:00:00\"],[\"Product Recall\",\"2007-04-26T00:00:00\"],[\"Women's Appreciation\",\"2007-05-03T00:00:00\"],[\"Beach Games\",\"2007-05-10T00:00:00\"],[\"The Job\",\"2007-05-17T00:00:00\"],[\"Fun Run\",\"2007-09-27T00:00:00\"],[\"Dunder Mifflin Infinity\",\"2007-10-04T00:00:00\"],[\"Launch Party\",\"2007-10-11T00:00:00\"],[\"Money\",\"2007-10-18T00:00:00\"],[\"Local Ad\",\"2007-10-25T00:00:00\"],[\"Branch Wars\",\"2007-11-01T00:00:00\"],[\"Survivor Man\",\"2007-11-08T00:00:00\"],[\"The Deposition\",\"2007-11-15T00:00:00\"],[\"Dinner Party\",\"2008-04-10T00:00:00\"],[\"Chair Model\",\"2008-04-17T00:00:00\"],[\"Night Out\",\"2008-04-24T00:00:00\"],[\"Did I Stutter?\",\"2008-05-01T00:00:00\"],[\"Job Fair\",\"2008-05-08T00:00:00\"],[\"Goodbye, Toby\",\"2008-05-15T00:00:00\"],[\"Weight Loss\",\"2008-09-25T00:00:00\"],[\"Business Ethics\",\"2008-10-09T00:00:00\"],[\"Baby Shower\",\"2008-10-16T00:00:00\"],[\"Crime Aid\",\"2008-10-23T00:00:00\"],[\"Employee Transfer\",\"2008-10-30T00:00:00\"],[\"Customer Survey\",\"2008-11-06T00:00:00\"],[\"Business Trip\",\"2008-11-13T00:00:00\"],[\"Frame Toby\",\"2008-11-20T00:00:00\"],[\"The Surplus\",\"2008-12-04T00:00:00\"],[\"Moroccan Christmas\",\"2008-12-11T00:00:00\"],[\"The Duel\",\"2009-01-15T00:00:00\"],[\"Prince Family Paper\",\"2009-01-22T00:00:00\"],[\"Stress Relief\",\"2009-02-01T00:00:00\"],[\"Lecture Circuit: Part 1\",\"2009-02-05T00:00:00\"],[\"Lecture Circuit: Part 2\",\"2009-02-12T00:00:00\"],[\"Blood Drive\",\"2009-03-05T00:00:00\"],[\"Golden Ticket\",\"2009-03-12T00:00:00\"],[\"New Boss\",\"2009-03-19T00:00:00\"],[\"Two Weeks\",\"2009-03-26T00:00:00\"],[\"Dream Team\",\"2009-04-09T00:00:00\"],[\"Michael Scott Paper Company\",\"2009-04-09T00:00:00\"],[\"Heavy Competition\",\"2009-04-16T00:00:00\"],[\"Broke\",\"2009-04-23T00:00:00\"],[\"Casual Friday\",\"2009-04-30T00:00:00\"],[\"Cafe Disco\",\"2009-05-07T00:00:00\"],[\"Company Picnic\",\"2009-05-14T00:00:00\"],[\"Gossip\",\"2009-09-17T00:00:00\"],[\"The Meeting\",\"2009-09-24T00:00:00\"],[\"The Promotion\",\"2009-10-01T00:00:00\"],[\"Niagara: Part 1\",\"2009-10-08T00:00:00\"],[\"Niagara: Part 2\",\"2009-10-08T00:00:00\"],[\"Mafia\",\"2009-10-15T00:00:00\"],[\"The Lover\",\"2009-10-22T00:00:00\"],[\"Koi Pond\",\"2009-10-29T00:00:00\"],[\"Double Date\",\"2009-11-05T00:00:00\"],[\"Murder\",\"2009-11-12T00:00:00\"],[\"Shareholder Meeting\",\"2009-11-19T00:00:00\"],[\"Scott's Tots\",\"2009-12-03T00:00:00\"],[\"Secret Santa\",\"2009-12-10T00:00:00\"],[\"The Banker\",\"2010-01-21T00:00:00\"],[\"Sabre\",\"2010-02-04T00:00:00\"],[\"Manager and Salesman\",\"2010-02-11T00:00:00\"],[\"The Delivery: Part 1\",\"2010-03-04T00:00:00\"],[\"The Delivery: Part 2\",\"2010-03-04T00:00:00\"],[\"St. Patrick's Day\",\"2010-03-11T00:00:00\"],[\"New Leads\",\"2010-03-18T00:00:00\"],[\"Happy Hour\",\"2010-03-25T00:00:00\"],[\"Secretary's Day\",\"2010-04-22T00:00:00\"],[\"Body Language\",\"2010-04-29T00:00:00\"],[\"The Cover-Up\",\"2010-05-06T00:00:00\"],[\"The Chump\",\"2010-05-13T00:00:00\"],[\"Whistleblower\",\"2010-05-20T00:00:00\"],[\"Nepotism\",\"2010-09-23T00:00:00\"],[\"Counseling\",\"2010-09-30T00:00:00\"],[\"Andy's Play\",\"2010-10-07T00:00:00\"],[\"Sex Ed\",\"2010-10-14T00:00:00\"],[\"The Sting\",\"2010-10-21T00:00:00\"],[\"Costume Contest\",\"2010-10-28T00:00:00\"],[\"Christening\",\"2010-11-04T00:00:00\"],[\"Viewing Party\",\"2010-11-11T00:00:00\"],[\"WUPHF.com\",\"2010-11-18T00:00:00\"],[\"China\",\"2010-12-02T00:00:00\"],[\"Classy Christmas\",\"2010-12-09T00:00:00\"],[\"Ultimatum\",\"2011-01-20T00:00:00\"],[\"The Seminar\",\"2011-01-27T00:00:00\"],[\"The Search\",\"2011-02-03T00:00:00\"],[\"PDA\",\"2011-02-10T00:00:00\"],[\"Threat Level Midnight\",\"2011-02-17T00:00:00\"],[\"Todd Packer\",\"2011-02-24T00:00:00\"],[\"Garage Sale\",\"2011-03-24T00:00:00\"],[\"Training Day\",\"2011-04-14T00:00:00\"],[\"Michael's Last Dundies\",\"2011-04-21T00:00:00\"],[\"Goodbye, Michael\",\"2011-04-28T00:00:00\"],[\"The Inner Circle\",\"2011-05-05T00:00:00\"],[\"Dwight K. Schrute, (Acting) Manager\",\"2011-05-12T00:00:00\"],[\"Search Committee\",\"2011-05-19T00:00:00\"],[\"The List\",\"2011-09-22T00:00:00\"],[\"The Incentive\",\"2011-09-29T00:00:00\"],[\"Lotto\",\"2011-10-06T00:00:00\"],[\"Garden Party\",\"2011-10-13T00:00:00\"],[\"Spooked\",\"2011-10-27T00:00:00\"],[\"Doomsday\",\"2011-11-03T00:00:00\"],[\"Pam's Replacement\",\"2011-11-10T00:00:00\"],[\"Gettysburg\",\"2011-11-17T00:00:00\"],[\"Mrs. California\",\"2011-12-01T00:00:00\"],[\"Christmas Wishes\",\"2011-12-08T00:00:00\"],[\"Trivia\",\"2012-01-12T00:00:00\"],[\"Pool Party\",\"2012-01-19T00:00:00\"],[\"Jury Duty\",\"2012-02-02T00:00:00\"],[\"Special Project\",\"2012-02-09T00:00:00\"],[\"Tallahassee\",\"2012-02-16T00:00:00\"],[\"After Hours\",\"2012-02-23T00:00:00\"],[\"Test the Store\",\"2012-03-01T00:00:00\"],[\"Last Day in Florida\",\"2012-03-08T00:00:00\"],[\"Get the Girl\",\"2012-03-15T00:00:00\"],[\"Welcome Party\",\"2012-04-12T00:00:00\"],[\"Angry Andy\",\"2012-04-19T00:00:00\"],[\"Fundraiser\",\"2012-04-26T00:00:00\"],[\"Turf War\",\"2012-05-03T00:00:00\"],[\"Free Family Portrait Studio\",\"2012-05-10T00:00:00\"],[\"New Guys\",\"2012-09-20T00:00:00\"],[\"Roy's Wedding\",\"2012-09-27T00:00:00\"],[\"Andy's Ancestry\",\"2012-10-04T00:00:00\"],[\"Work Bus\",\"2012-10-18T00:00:00\"],[\"Here Comes Treble\",\"2012-10-25T00:00:00\"],[\"The Boat\",\"2012-11-08T00:00:00\"],[\"The Whale\",\"2012-11-15T00:00:00\"],[\"The Target\",\"2012-11-29T00:00:00\"],[\"Dwight Christmas\",\"2012-12-06T00:00:00\"],[\"Lice\",\"2013-01-10T00:00:00\"],[\"Suit Warehouse\",\"2013-01-17T00:00:00\"],[\"Customer Loyalty\",\"2013-01-24T00:00:00\"],[\"Junior Salesman\",\"2013-01-31T00:00:00\"],[\"Vandalism\",\"2013-01-31T00:00:00\"],[\"Couples Discount\",\"2013-02-07T00:00:00\"],[\"Moving On\",\"2013-02-14T00:00:00\"],[\"The Farm\",\"2013-03-14T00:00:00\"],[\"Promos\",\"2013-04-04T00:00:00\"],[\"Stairmageddon\",\"2013-04-11T00:00:00\"],[\"Paper Airplane\",\"2013-04-25T00:00:00\"],[\"Livin' the Dream\",\"2013-05-02T00:00:00\"],[\"A.A.R.M.\",\"2013-05-09T00:00:00\"],[\"Finale\",\"2013-05-16T00:00:00\"]],\"hovertemplate\":\"Season=%{x}<br>Duration=%{y}<br>EpisodeTitle=%{customdata[0]}<br>Date=%{customdata[1]}<extra></extra>\",\"legendgroup\":\"\",\"marker\":{\"color\":\"#636efa\"},\"name\":\"\",\"notched\":false,\"offsetgroup\":\"\",\"orientation\":\"v\",\"showlegend\":false,\"type\":\"box\",\"x\":[1,1,1,1,1,1,2,2,2,2,2,2,2,2,2,2,2,2,2,2,2,2,2,2,2,2,2,2,3,3,3,3,3,3,3,3,3,3,3,3,3,3,3,3,3,3,3,3,3,3,3,4,4,4,4,4,4,4,4,4,4,4,4,4,4,5,5,5,5,5,5,5,5,5,5,5,5,5,5,5,5,5,5,5,5,5,5,5,5,5,5,6,6,6,6,6,6,6,6,6,6,6,6,6,6,6,6,6,6,6,6,6,6,6,6,6,6,7,7,7,7,7,7,7,7,7,7,7,7,7,7,7,7,7,7,7,7,7,7,7,7,8,8,8,8,8,8,8,8,8,8,8,8,8,8,8,8,8,8,8,8,8,8,8,8,9,9,9,9,9,9,9,9,9,9,9,9,9,9,9,9,9,9,9,9,9,9,9],\"x0\":\" \",\"xaxis\":\"x\",\"y\":[23,23,22,23,23,23,21,22,22,22,30,22,22,22,23,22,22,22,22,22,22,22,22,21,22,22,22,29,23,22,22,22,22,22,31,30,30,42,21,22,28,21,21,22,21,30,21,21,29,28,42,42,42,42,42,22,30,30,30,30,30,21,22,30,42,43,22,22,30,22,22,30,30,22,30,30,22,60,30,30,22,30,30,30,30,22,30,30,22,30,30,30,30,30,30,19,30,30,30,30,23,30,30,30,30,30,30,30,30,30,23,30,30,30,30,30,30,30,30,30,30,30,30,23,30,30,30,60,30,30,30,22,30,30,30,30,23,50,23,23,42,23,23,23,23,23,23,23,23,23,23,23,23,23,23,23,23,23,23,23,23,23,23,23,23,23,23,23,22,22,22,22,22,22,22,22,22,22,22,22,42,22,22,22,22,42,43,51],\"y0\":\" \",\"yaxis\":\"y\"}],                        {\"boxmode\":\"group\",\"height\":450,\"legend\":{\"tracegroupgap\":0},\"showlegend\":false,\"template\":{\"data\":{\"bar\":[{\"error_x\":{\"color\":\"#2a3f5f\"},\"error_y\":{\"color\":\"#2a3f5f\"},\"marker\":{\"line\":{\"color\":\"#E5ECF6\",\"width\":0.5},\"pattern\":{\"fillmode\":\"overlay\",\"size\":10,\"solidity\":0.2}},\"type\":\"bar\"}],\"barpolar\":[{\"marker\":{\"line\":{\"color\":\"#E5ECF6\",\"width\":0.5},\"pattern\":{\"fillmode\":\"overlay\",\"size\":10,\"solidity\":0.2}},\"type\":\"barpolar\"}],\"carpet\":[{\"aaxis\":{\"endlinecolor\":\"#2a3f5f\",\"gridcolor\":\"white\",\"linecolor\":\"white\",\"minorgridcolor\":\"white\",\"startlinecolor\":\"#2a3f5f\"},\"baxis\":{\"endlinecolor\":\"#2a3f5f\",\"gridcolor\":\"white\",\"linecolor\":\"white\",\"minorgridcolor\":\"white\",\"startlinecolor\":\"#2a3f5f\"},\"type\":\"carpet\"}],\"choropleth\":[{\"colorbar\":{\"outlinewidth\":0,\"ticks\":\"\"},\"type\":\"choropleth\"}],\"contour\":[{\"colorbar\":{\"outlinewidth\":0,\"ticks\":\"\"},\"colorscale\":[[0.0,\"#0d0887\"],[0.1111111111111111,\"#46039f\"],[0.2222222222222222,\"#7201a8\"],[0.3333333333333333,\"#9c179e\"],[0.4444444444444444,\"#bd3786\"],[0.5555555555555556,\"#d8576b\"],[0.6666666666666666,\"#ed7953\"],[0.7777777777777778,\"#fb9f3a\"],[0.8888888888888888,\"#fdca26\"],[1.0,\"#f0f921\"]],\"type\":\"contour\"}],\"contourcarpet\":[{\"colorbar\":{\"outlinewidth\":0,\"ticks\":\"\"},\"type\":\"contourcarpet\"}],\"heatmap\":[{\"colorbar\":{\"outlinewidth\":0,\"ticks\":\"\"},\"colorscale\":[[0.0,\"#0d0887\"],[0.1111111111111111,\"#46039f\"],[0.2222222222222222,\"#7201a8\"],[0.3333333333333333,\"#9c179e\"],[0.4444444444444444,\"#bd3786\"],[0.5555555555555556,\"#d8576b\"],[0.6666666666666666,\"#ed7953\"],[0.7777777777777778,\"#fb9f3a\"],[0.8888888888888888,\"#fdca26\"],[1.0,\"#f0f921\"]],\"type\":\"heatmap\"}],\"heatmapgl\":[{\"colorbar\":{\"outlinewidth\":0,\"ticks\":\"\"},\"colorscale\":[[0.0,\"#0d0887\"],[0.1111111111111111,\"#46039f\"],[0.2222222222222222,\"#7201a8\"],[0.3333333333333333,\"#9c179e\"],[0.4444444444444444,\"#bd3786\"],[0.5555555555555556,\"#d8576b\"],[0.6666666666666666,\"#ed7953\"],[0.7777777777777778,\"#fb9f3a\"],[0.8888888888888888,\"#fdca26\"],[1.0,\"#f0f921\"]],\"type\":\"heatmapgl\"}],\"histogram\":[{\"marker\":{\"pattern\":{\"fillmode\":\"overlay\",\"size\":10,\"solidity\":0.2}},\"type\":\"histogram\"}],\"histogram2d\":[{\"colorbar\":{\"outlinewidth\":0,\"ticks\":\"\"},\"colorscale\":[[0.0,\"#0d0887\"],[0.1111111111111111,\"#46039f\"],[0.2222222222222222,\"#7201a8\"],[0.3333333333333333,\"#9c179e\"],[0.4444444444444444,\"#bd3786\"],[0.5555555555555556,\"#d8576b\"],[0.6666666666666666,\"#ed7953\"],[0.7777777777777778,\"#fb9f3a\"],[0.8888888888888888,\"#fdca26\"],[1.0,\"#f0f921\"]],\"type\":\"histogram2d\"}],\"histogram2dcontour\":[{\"colorbar\":{\"outlinewidth\":0,\"ticks\":\"\"},\"colorscale\":[[0.0,\"#0d0887\"],[0.1111111111111111,\"#46039f\"],[0.2222222222222222,\"#7201a8\"],[0.3333333333333333,\"#9c179e\"],[0.4444444444444444,\"#bd3786\"],[0.5555555555555556,\"#d8576b\"],[0.6666666666666666,\"#ed7953\"],[0.7777777777777778,\"#fb9f3a\"],[0.8888888888888888,\"#fdca26\"],[1.0,\"#f0f921\"]],\"type\":\"histogram2dcontour\"}],\"mesh3d\":[{\"colorbar\":{\"outlinewidth\":0,\"ticks\":\"\"},\"type\":\"mesh3d\"}],\"parcoords\":[{\"line\":{\"colorbar\":{\"outlinewidth\":0,\"ticks\":\"\"}},\"type\":\"parcoords\"}],\"pie\":[{\"automargin\":true,\"type\":\"pie\"}],\"scatter\":[{\"marker\":{\"colorbar\":{\"outlinewidth\":0,\"ticks\":\"\"}},\"type\":\"scatter\"}],\"scatter3d\":[{\"line\":{\"colorbar\":{\"outlinewidth\":0,\"ticks\":\"\"}},\"marker\":{\"colorbar\":{\"outlinewidth\":0,\"ticks\":\"\"}},\"type\":\"scatter3d\"}],\"scattercarpet\":[{\"marker\":{\"colorbar\":{\"outlinewidth\":0,\"ticks\":\"\"}},\"type\":\"scattercarpet\"}],\"scattergeo\":[{\"marker\":{\"colorbar\":{\"outlinewidth\":0,\"ticks\":\"\"}},\"type\":\"scattergeo\"}],\"scattergl\":[{\"marker\":{\"colorbar\":{\"outlinewidth\":0,\"ticks\":\"\"}},\"type\":\"scattergl\"}],\"scattermapbox\":[{\"marker\":{\"colorbar\":{\"outlinewidth\":0,\"ticks\":\"\"}},\"type\":\"scattermapbox\"}],\"scatterpolar\":[{\"marker\":{\"colorbar\":{\"outlinewidth\":0,\"ticks\":\"\"}},\"type\":\"scatterpolar\"}],\"scatterpolargl\":[{\"marker\":{\"colorbar\":{\"outlinewidth\":0,\"ticks\":\"\"}},\"type\":\"scatterpolargl\"}],\"scatterternary\":[{\"marker\":{\"colorbar\":{\"outlinewidth\":0,\"ticks\":\"\"}},\"type\":\"scatterternary\"}],\"surface\":[{\"colorbar\":{\"outlinewidth\":0,\"ticks\":\"\"},\"colorscale\":[[0.0,\"#0d0887\"],[0.1111111111111111,\"#46039f\"],[0.2222222222222222,\"#7201a8\"],[0.3333333333333333,\"#9c179e\"],[0.4444444444444444,\"#bd3786\"],[0.5555555555555556,\"#d8576b\"],[0.6666666666666666,\"#ed7953\"],[0.7777777777777778,\"#fb9f3a\"],[0.8888888888888888,\"#fdca26\"],[1.0,\"#f0f921\"]],\"type\":\"surface\"}],\"table\":[{\"cells\":{\"fill\":{\"color\":\"#EBF0F8\"},\"line\":{\"color\":\"white\"}},\"header\":{\"fill\":{\"color\":\"#C8D4E3\"},\"line\":{\"color\":\"white\"}},\"type\":\"table\"}]},\"layout\":{\"annotationdefaults\":{\"arrowcolor\":\"#2a3f5f\",\"arrowhead\":0,\"arrowwidth\":1},\"autotypenumbers\":\"strict\",\"coloraxis\":{\"colorbar\":{\"outlinewidth\":0,\"ticks\":\"\"}},\"colorscale\":{\"diverging\":[[0,\"#8e0152\"],[0.1,\"#c51b7d\"],[0.2,\"#de77ae\"],[0.3,\"#f1b6da\"],[0.4,\"#fde0ef\"],[0.5,\"#f7f7f7\"],[0.6,\"#e6f5d0\"],[0.7,\"#b8e186\"],[0.8,\"#7fbc41\"],[0.9,\"#4d9221\"],[1,\"#276419\"]],\"sequential\":[[0.0,\"#0d0887\"],[0.1111111111111111,\"#46039f\"],[0.2222222222222222,\"#7201a8\"],[0.3333333333333333,\"#9c179e\"],[0.4444444444444444,\"#bd3786\"],[0.5555555555555556,\"#d8576b\"],[0.6666666666666666,\"#ed7953\"],[0.7777777777777778,\"#fb9f3a\"],[0.8888888888888888,\"#fdca26\"],[1.0,\"#f0f921\"]],\"sequentialminus\":[[0.0,\"#0d0887\"],[0.1111111111111111,\"#46039f\"],[0.2222222222222222,\"#7201a8\"],[0.3333333333333333,\"#9c179e\"],[0.4444444444444444,\"#bd3786\"],[0.5555555555555556,\"#d8576b\"],[0.6666666666666666,\"#ed7953\"],[0.7777777777777778,\"#fb9f3a\"],[0.8888888888888888,\"#fdca26\"],[1.0,\"#f0f921\"]]},\"colorway\":[\"#636efa\",\"#EF553B\",\"#00cc96\",\"#ab63fa\",\"#FFA15A\",\"#19d3f3\",\"#FF6692\",\"#B6E880\",\"#FF97FF\",\"#FECB52\"],\"font\":{\"color\":\"#2a3f5f\"},\"geo\":{\"bgcolor\":\"white\",\"lakecolor\":\"white\",\"landcolor\":\"#E5ECF6\",\"showlakes\":true,\"showland\":true,\"subunitcolor\":\"white\"},\"hoverlabel\":{\"align\":\"left\"},\"hovermode\":\"closest\",\"mapbox\":{\"style\":\"light\"},\"paper_bgcolor\":\"white\",\"plot_bgcolor\":\"#E5ECF6\",\"polar\":{\"angularaxis\":{\"gridcolor\":\"white\",\"linecolor\":\"white\",\"ticks\":\"\"},\"bgcolor\":\"#E5ECF6\",\"radialaxis\":{\"gridcolor\":\"white\",\"linecolor\":\"white\",\"ticks\":\"\"}},\"scene\":{\"xaxis\":{\"backgroundcolor\":\"#E5ECF6\",\"gridcolor\":\"white\",\"gridwidth\":2,\"linecolor\":\"white\",\"showbackground\":true,\"ticks\":\"\",\"zerolinecolor\":\"white\"},\"yaxis\":{\"backgroundcolor\":\"#E5ECF6\",\"gridcolor\":\"white\",\"gridwidth\":2,\"linecolor\":\"white\",\"showbackground\":true,\"ticks\":\"\",\"zerolinecolor\":\"white\"},\"zaxis\":{\"backgroundcolor\":\"#E5ECF6\",\"gridcolor\":\"white\",\"gridwidth\":2,\"linecolor\":\"white\",\"showbackground\":true,\"ticks\":\"\",\"zerolinecolor\":\"white\"}},\"shapedefaults\":{\"line\":{\"color\":\"#2a3f5f\"}},\"ternary\":{\"aaxis\":{\"gridcolor\":\"white\",\"linecolor\":\"white\",\"ticks\":\"\"},\"baxis\":{\"gridcolor\":\"white\",\"linecolor\":\"white\",\"ticks\":\"\"},\"bgcolor\":\"#E5ECF6\",\"caxis\":{\"gridcolor\":\"white\",\"linecolor\":\"white\",\"ticks\":\"\"}},\"title\":{\"x\":0.05},\"xaxis\":{\"automargin\":true,\"gridcolor\":\"white\",\"linecolor\":\"white\",\"ticks\":\"\",\"title\":{\"standoff\":15},\"zerolinecolor\":\"white\",\"zerolinewidth\":2},\"yaxis\":{\"automargin\":true,\"gridcolor\":\"white\",\"linecolor\":\"white\",\"ticks\":\"\",\"title\":{\"standoff\":15},\"zerolinecolor\":\"white\",\"zerolinewidth\":2}}},\"title\":{\"text\":\"Duration over time\"},\"width\":850,\"xaxis\":{\"anchor\":\"y\",\"domain\":[0.0,1.0],\"title\":{\"text\":\"Season\"}},\"yaxis\":{\"anchor\":\"x\",\"domain\":[0.0,1.0],\"showticklabels\":true,\"title\":{},\"visible\":true}},                        {\"responsive\": true}                    ).then(function(){\n",
       "                            \n",
       "var gd = document.getElementById('71c70819-c029-4d4d-b0fb-fd8b19a115d1');\n",
       "var x = new MutationObserver(function (mutations, observer) {{\n",
       "        var display = window.getComputedStyle(gd).display;\n",
       "        if (!display || display === 'none') {{\n",
       "            console.log([gd, 'removed!']);\n",
       "            Plotly.purge(gd);\n",
       "            observer.disconnect();\n",
       "        }}\n",
       "}});\n",
       "\n",
       "// Listen for the removal of the full notebook cells\n",
       "var notebookContainer = gd.closest('#notebook-container');\n",
       "if (notebookContainer) {{\n",
       "    x.observe(notebookContainer, {childList: true});\n",
       "}}\n",
       "\n",
       "// Listen for the clearing of the current output cell\n",
       "var outputEl = gd.closest('.output');\n",
       "if (outputEl) {{\n",
       "    x.observe(outputEl, {childList: true});\n",
       "}}\n",
       "\n",
       "                        })                };                });            </script>        </div>"
      ]
     },
     "metadata": {},
     "output_type": "display_data"
    }
   ],
   "source": [
    "plot_box_over_time(data, 'Season', 'Duration', ['EpisodeTitle', 'Date'])"
   ]
  },
  {
   "cell_type": "code",
   "execution_count": 171,
   "id": "058d5210",
   "metadata": {},
   "outputs": [
    {
     "data": {
      "application/vnd.plotly.v1+json": {
       "config": {
        "plotlyServerURL": "https://plot.ly"
       },
       "data": [
        {
         "alignmentgroup": "True",
         "hovertemplate": "EpisodeTitle=%{x}<br>Director=%{y}<extra></extra>",
         "legendgroup": "",
         "marker": {
          "color": "#636efa",
          "pattern": {
           "shape": ""
          }
         },
         "name": "",
         "offsetgroup": "",
         "orientation": "h",
         "showlegend": false,
         "textposition": "auto",
         "type": "bar",
         "x": [
          3,
          3,
          3,
          3,
          3,
          4,
          4,
          4,
          5,
          7,
          8,
          8,
          9,
          9,
          11,
          13,
          13,
          15,
          15
         ],
         "xaxis": "x",
         "y": [
          "Jennifer Celotta",
          "Troy Miller",
          "Steve Carell",
          "Rainn Wilson",
          "John Krasinski",
          "Tucker Gates",
          "Harold Ramis",
          "Brent Forrester",
          "B.J. Novak",
          "Paul Lieberstein",
          "Charles McDougall",
          "Matt Sohn",
          "David Rogers",
          "Ken Whittingham",
          "Jeffrey Blitz",
          "Greg Daniels",
          "Ken Kwapis",
          "Randall Einhorn",
          "Paul Feig"
         ],
         "yaxis": "y"
        }
       ],
       "layout": {
        "barmode": "relative",
        "height": 450,
        "legend": {
         "tracegroupgap": 0
        },
        "showlegend": false,
        "template": {
         "data": {
          "bar": [
           {
            "error_x": {
             "color": "#2a3f5f"
            },
            "error_y": {
             "color": "#2a3f5f"
            },
            "marker": {
             "line": {
              "color": "#E5ECF6",
              "width": 0.5
             },
             "pattern": {
              "fillmode": "overlay",
              "size": 10,
              "solidity": 0.2
             }
            },
            "type": "bar"
           }
          ],
          "barpolar": [
           {
            "marker": {
             "line": {
              "color": "#E5ECF6",
              "width": 0.5
             },
             "pattern": {
              "fillmode": "overlay",
              "size": 10,
              "solidity": 0.2
             }
            },
            "type": "barpolar"
           }
          ],
          "carpet": [
           {
            "aaxis": {
             "endlinecolor": "#2a3f5f",
             "gridcolor": "white",
             "linecolor": "white",
             "minorgridcolor": "white",
             "startlinecolor": "#2a3f5f"
            },
            "baxis": {
             "endlinecolor": "#2a3f5f",
             "gridcolor": "white",
             "linecolor": "white",
             "minorgridcolor": "white",
             "startlinecolor": "#2a3f5f"
            },
            "type": "carpet"
           }
          ],
          "choropleth": [
           {
            "colorbar": {
             "outlinewidth": 0,
             "ticks": ""
            },
            "type": "choropleth"
           }
          ],
          "contour": [
           {
            "colorbar": {
             "outlinewidth": 0,
             "ticks": ""
            },
            "colorscale": [
             [
              0,
              "#0d0887"
             ],
             [
              0.1111111111111111,
              "#46039f"
             ],
             [
              0.2222222222222222,
              "#7201a8"
             ],
             [
              0.3333333333333333,
              "#9c179e"
             ],
             [
              0.4444444444444444,
              "#bd3786"
             ],
             [
              0.5555555555555556,
              "#d8576b"
             ],
             [
              0.6666666666666666,
              "#ed7953"
             ],
             [
              0.7777777777777778,
              "#fb9f3a"
             ],
             [
              0.8888888888888888,
              "#fdca26"
             ],
             [
              1,
              "#f0f921"
             ]
            ],
            "type": "contour"
           }
          ],
          "contourcarpet": [
           {
            "colorbar": {
             "outlinewidth": 0,
             "ticks": ""
            },
            "type": "contourcarpet"
           }
          ],
          "heatmap": [
           {
            "colorbar": {
             "outlinewidth": 0,
             "ticks": ""
            },
            "colorscale": [
             [
              0,
              "#0d0887"
             ],
             [
              0.1111111111111111,
              "#46039f"
             ],
             [
              0.2222222222222222,
              "#7201a8"
             ],
             [
              0.3333333333333333,
              "#9c179e"
             ],
             [
              0.4444444444444444,
              "#bd3786"
             ],
             [
              0.5555555555555556,
              "#d8576b"
             ],
             [
              0.6666666666666666,
              "#ed7953"
             ],
             [
              0.7777777777777778,
              "#fb9f3a"
             ],
             [
              0.8888888888888888,
              "#fdca26"
             ],
             [
              1,
              "#f0f921"
             ]
            ],
            "type": "heatmap"
           }
          ],
          "heatmapgl": [
           {
            "colorbar": {
             "outlinewidth": 0,
             "ticks": ""
            },
            "colorscale": [
             [
              0,
              "#0d0887"
             ],
             [
              0.1111111111111111,
              "#46039f"
             ],
             [
              0.2222222222222222,
              "#7201a8"
             ],
             [
              0.3333333333333333,
              "#9c179e"
             ],
             [
              0.4444444444444444,
              "#bd3786"
             ],
             [
              0.5555555555555556,
              "#d8576b"
             ],
             [
              0.6666666666666666,
              "#ed7953"
             ],
             [
              0.7777777777777778,
              "#fb9f3a"
             ],
             [
              0.8888888888888888,
              "#fdca26"
             ],
             [
              1,
              "#f0f921"
             ]
            ],
            "type": "heatmapgl"
           }
          ],
          "histogram": [
           {
            "marker": {
             "pattern": {
              "fillmode": "overlay",
              "size": 10,
              "solidity": 0.2
             }
            },
            "type": "histogram"
           }
          ],
          "histogram2d": [
           {
            "colorbar": {
             "outlinewidth": 0,
             "ticks": ""
            },
            "colorscale": [
             [
              0,
              "#0d0887"
             ],
             [
              0.1111111111111111,
              "#46039f"
             ],
             [
              0.2222222222222222,
              "#7201a8"
             ],
             [
              0.3333333333333333,
              "#9c179e"
             ],
             [
              0.4444444444444444,
              "#bd3786"
             ],
             [
              0.5555555555555556,
              "#d8576b"
             ],
             [
              0.6666666666666666,
              "#ed7953"
             ],
             [
              0.7777777777777778,
              "#fb9f3a"
             ],
             [
              0.8888888888888888,
              "#fdca26"
             ],
             [
              1,
              "#f0f921"
             ]
            ],
            "type": "histogram2d"
           }
          ],
          "histogram2dcontour": [
           {
            "colorbar": {
             "outlinewidth": 0,
             "ticks": ""
            },
            "colorscale": [
             [
              0,
              "#0d0887"
             ],
             [
              0.1111111111111111,
              "#46039f"
             ],
             [
              0.2222222222222222,
              "#7201a8"
             ],
             [
              0.3333333333333333,
              "#9c179e"
             ],
             [
              0.4444444444444444,
              "#bd3786"
             ],
             [
              0.5555555555555556,
              "#d8576b"
             ],
             [
              0.6666666666666666,
              "#ed7953"
             ],
             [
              0.7777777777777778,
              "#fb9f3a"
             ],
             [
              0.8888888888888888,
              "#fdca26"
             ],
             [
              1,
              "#f0f921"
             ]
            ],
            "type": "histogram2dcontour"
           }
          ],
          "mesh3d": [
           {
            "colorbar": {
             "outlinewidth": 0,
             "ticks": ""
            },
            "type": "mesh3d"
           }
          ],
          "parcoords": [
           {
            "line": {
             "colorbar": {
              "outlinewidth": 0,
              "ticks": ""
             }
            },
            "type": "parcoords"
           }
          ],
          "pie": [
           {
            "automargin": true,
            "type": "pie"
           }
          ],
          "scatter": [
           {
            "marker": {
             "colorbar": {
              "outlinewidth": 0,
              "ticks": ""
             }
            },
            "type": "scatter"
           }
          ],
          "scatter3d": [
           {
            "line": {
             "colorbar": {
              "outlinewidth": 0,
              "ticks": ""
             }
            },
            "marker": {
             "colorbar": {
              "outlinewidth": 0,
              "ticks": ""
             }
            },
            "type": "scatter3d"
           }
          ],
          "scattercarpet": [
           {
            "marker": {
             "colorbar": {
              "outlinewidth": 0,
              "ticks": ""
             }
            },
            "type": "scattercarpet"
           }
          ],
          "scattergeo": [
           {
            "marker": {
             "colorbar": {
              "outlinewidth": 0,
              "ticks": ""
             }
            },
            "type": "scattergeo"
           }
          ],
          "scattergl": [
           {
            "marker": {
             "colorbar": {
              "outlinewidth": 0,
              "ticks": ""
             }
            },
            "type": "scattergl"
           }
          ],
          "scattermapbox": [
           {
            "marker": {
             "colorbar": {
              "outlinewidth": 0,
              "ticks": ""
             }
            },
            "type": "scattermapbox"
           }
          ],
          "scatterpolar": [
           {
            "marker": {
             "colorbar": {
              "outlinewidth": 0,
              "ticks": ""
             }
            },
            "type": "scatterpolar"
           }
          ],
          "scatterpolargl": [
           {
            "marker": {
             "colorbar": {
              "outlinewidth": 0,
              "ticks": ""
             }
            },
            "type": "scatterpolargl"
           }
          ],
          "scatterternary": [
           {
            "marker": {
             "colorbar": {
              "outlinewidth": 0,
              "ticks": ""
             }
            },
            "type": "scatterternary"
           }
          ],
          "surface": [
           {
            "colorbar": {
             "outlinewidth": 0,
             "ticks": ""
            },
            "colorscale": [
             [
              0,
              "#0d0887"
             ],
             [
              0.1111111111111111,
              "#46039f"
             ],
             [
              0.2222222222222222,
              "#7201a8"
             ],
             [
              0.3333333333333333,
              "#9c179e"
             ],
             [
              0.4444444444444444,
              "#bd3786"
             ],
             [
              0.5555555555555556,
              "#d8576b"
             ],
             [
              0.6666666666666666,
              "#ed7953"
             ],
             [
              0.7777777777777778,
              "#fb9f3a"
             ],
             [
              0.8888888888888888,
              "#fdca26"
             ],
             [
              1,
              "#f0f921"
             ]
            ],
            "type": "surface"
           }
          ],
          "table": [
           {
            "cells": {
             "fill": {
              "color": "#EBF0F8"
             },
             "line": {
              "color": "white"
             }
            },
            "header": {
             "fill": {
              "color": "#C8D4E3"
             },
             "line": {
              "color": "white"
             }
            },
            "type": "table"
           }
          ]
         },
         "layout": {
          "annotationdefaults": {
           "arrowcolor": "#2a3f5f",
           "arrowhead": 0,
           "arrowwidth": 1
          },
          "autotypenumbers": "strict",
          "coloraxis": {
           "colorbar": {
            "outlinewidth": 0,
            "ticks": ""
           }
          },
          "colorscale": {
           "diverging": [
            [
             0,
             "#8e0152"
            ],
            [
             0.1,
             "#c51b7d"
            ],
            [
             0.2,
             "#de77ae"
            ],
            [
             0.3,
             "#f1b6da"
            ],
            [
             0.4,
             "#fde0ef"
            ],
            [
             0.5,
             "#f7f7f7"
            ],
            [
             0.6,
             "#e6f5d0"
            ],
            [
             0.7,
             "#b8e186"
            ],
            [
             0.8,
             "#7fbc41"
            ],
            [
             0.9,
             "#4d9221"
            ],
            [
             1,
             "#276419"
            ]
           ],
           "sequential": [
            [
             0,
             "#0d0887"
            ],
            [
             0.1111111111111111,
             "#46039f"
            ],
            [
             0.2222222222222222,
             "#7201a8"
            ],
            [
             0.3333333333333333,
             "#9c179e"
            ],
            [
             0.4444444444444444,
             "#bd3786"
            ],
            [
             0.5555555555555556,
             "#d8576b"
            ],
            [
             0.6666666666666666,
             "#ed7953"
            ],
            [
             0.7777777777777778,
             "#fb9f3a"
            ],
            [
             0.8888888888888888,
             "#fdca26"
            ],
            [
             1,
             "#f0f921"
            ]
           ],
           "sequentialminus": [
            [
             0,
             "#0d0887"
            ],
            [
             0.1111111111111111,
             "#46039f"
            ],
            [
             0.2222222222222222,
             "#7201a8"
            ],
            [
             0.3333333333333333,
             "#9c179e"
            ],
            [
             0.4444444444444444,
             "#bd3786"
            ],
            [
             0.5555555555555556,
             "#d8576b"
            ],
            [
             0.6666666666666666,
             "#ed7953"
            ],
            [
             0.7777777777777778,
             "#fb9f3a"
            ],
            [
             0.8888888888888888,
             "#fdca26"
            ],
            [
             1,
             "#f0f921"
            ]
           ]
          },
          "colorway": [
           "#636efa",
           "#EF553B",
           "#00cc96",
           "#ab63fa",
           "#FFA15A",
           "#19d3f3",
           "#FF6692",
           "#B6E880",
           "#FF97FF",
           "#FECB52"
          ],
          "font": {
           "color": "#2a3f5f"
          },
          "geo": {
           "bgcolor": "white",
           "lakecolor": "white",
           "landcolor": "#E5ECF6",
           "showlakes": true,
           "showland": true,
           "subunitcolor": "white"
          },
          "hoverlabel": {
           "align": "left"
          },
          "hovermode": "closest",
          "mapbox": {
           "style": "light"
          },
          "paper_bgcolor": "white",
          "plot_bgcolor": "#E5ECF6",
          "polar": {
           "angularaxis": {
            "gridcolor": "white",
            "linecolor": "white",
            "ticks": ""
           },
           "bgcolor": "#E5ECF6",
           "radialaxis": {
            "gridcolor": "white",
            "linecolor": "white",
            "ticks": ""
           }
          },
          "scene": {
           "xaxis": {
            "backgroundcolor": "#E5ECF6",
            "gridcolor": "white",
            "gridwidth": 2,
            "linecolor": "white",
            "showbackground": true,
            "ticks": "",
            "zerolinecolor": "white"
           },
           "yaxis": {
            "backgroundcolor": "#E5ECF6",
            "gridcolor": "white",
            "gridwidth": 2,
            "linecolor": "white",
            "showbackground": true,
            "ticks": "",
            "zerolinecolor": "white"
           },
           "zaxis": {
            "backgroundcolor": "#E5ECF6",
            "gridcolor": "white",
            "gridwidth": 2,
            "linecolor": "white",
            "showbackground": true,
            "ticks": "",
            "zerolinecolor": "white"
           }
          },
          "shapedefaults": {
           "line": {
            "color": "#2a3f5f"
           }
          },
          "ternary": {
           "aaxis": {
            "gridcolor": "white",
            "linecolor": "white",
            "ticks": ""
           },
           "baxis": {
            "gridcolor": "white",
            "linecolor": "white",
            "ticks": ""
           },
           "bgcolor": "#E5ECF6",
           "caxis": {
            "gridcolor": "white",
            "linecolor": "white",
            "ticks": ""
           }
          },
          "title": {
           "x": 0.05
          },
          "xaxis": {
           "automargin": true,
           "gridcolor": "white",
           "linecolor": "white",
           "ticks": "",
           "title": {
            "standoff": 15
           },
           "zerolinecolor": "white",
           "zerolinewidth": 2
          },
          "yaxis": {
           "automargin": true,
           "gridcolor": "white",
           "linecolor": "white",
           "ticks": "",
           "title": {
            "standoff": 15
           },
           "zerolinecolor": "white",
           "zerolinewidth": 2
          }
         }
        },
        "title": {
         "text": "Number of episodes direceted by director"
        },
        "width": 750,
        "xaxis": {
         "anchor": "y",
         "domain": [
          0,
          1
         ],
         "showticklabels": true,
         "title": {},
         "visible": true
        },
        "yaxis": {
         "anchor": "x",
         "domain": [
          0,
          1
         ],
         "showticklabels": true,
         "title": {},
         "visible": true
        }
       }
      },
      "text/html": [
       "<div>                            <div id=\"0cc3ec9e-2df0-46f9-bed7-8da8fd893977\" class=\"plotly-graph-div\" style=\"height:450px; width:750px;\"></div>            <script type=\"text/javascript\">                require([\"plotly\"], function(Plotly) {                    window.PLOTLYENV=window.PLOTLYENV || {};                                    if (document.getElementById(\"0cc3ec9e-2df0-46f9-bed7-8da8fd893977\")) {                    Plotly.newPlot(                        \"0cc3ec9e-2df0-46f9-bed7-8da8fd893977\",                        [{\"alignmentgroup\":\"True\",\"hovertemplate\":\"EpisodeTitle=%{x}<br>Director=%{y}<extra></extra>\",\"legendgroup\":\"\",\"marker\":{\"color\":\"#636efa\",\"pattern\":{\"shape\":\"\"}},\"name\":\"\",\"offsetgroup\":\"\",\"orientation\":\"h\",\"showlegend\":false,\"textposition\":\"auto\",\"type\":\"bar\",\"x\":[3,3,3,3,3,4,4,4,5,7,8,8,9,9,11,13,13,15,15],\"xaxis\":\"x\",\"y\":[\"Jennifer Celotta\",\"Troy Miller\",\"Steve Carell\",\"Rainn Wilson\",\"John Krasinski\",\"Tucker Gates\",\"Harold Ramis\",\"Brent Forrester\",\"B.J. Novak\",\"Paul Lieberstein\",\"Charles McDougall\",\"Matt Sohn\",\"David Rogers\",\"Ken Whittingham\",\"Jeffrey Blitz\",\"Greg Daniels\",\"Ken Kwapis\",\"Randall Einhorn\",\"Paul Feig\"],\"yaxis\":\"y\"}],                        {\"barmode\":\"relative\",\"height\":450,\"legend\":{\"tracegroupgap\":0},\"showlegend\":false,\"template\":{\"data\":{\"bar\":[{\"error_x\":{\"color\":\"#2a3f5f\"},\"error_y\":{\"color\":\"#2a3f5f\"},\"marker\":{\"line\":{\"color\":\"#E5ECF6\",\"width\":0.5},\"pattern\":{\"fillmode\":\"overlay\",\"size\":10,\"solidity\":0.2}},\"type\":\"bar\"}],\"barpolar\":[{\"marker\":{\"line\":{\"color\":\"#E5ECF6\",\"width\":0.5},\"pattern\":{\"fillmode\":\"overlay\",\"size\":10,\"solidity\":0.2}},\"type\":\"barpolar\"}],\"carpet\":[{\"aaxis\":{\"endlinecolor\":\"#2a3f5f\",\"gridcolor\":\"white\",\"linecolor\":\"white\",\"minorgridcolor\":\"white\",\"startlinecolor\":\"#2a3f5f\"},\"baxis\":{\"endlinecolor\":\"#2a3f5f\",\"gridcolor\":\"white\",\"linecolor\":\"white\",\"minorgridcolor\":\"white\",\"startlinecolor\":\"#2a3f5f\"},\"type\":\"carpet\"}],\"choropleth\":[{\"colorbar\":{\"outlinewidth\":0,\"ticks\":\"\"},\"type\":\"choropleth\"}],\"contour\":[{\"colorbar\":{\"outlinewidth\":0,\"ticks\":\"\"},\"colorscale\":[[0.0,\"#0d0887\"],[0.1111111111111111,\"#46039f\"],[0.2222222222222222,\"#7201a8\"],[0.3333333333333333,\"#9c179e\"],[0.4444444444444444,\"#bd3786\"],[0.5555555555555556,\"#d8576b\"],[0.6666666666666666,\"#ed7953\"],[0.7777777777777778,\"#fb9f3a\"],[0.8888888888888888,\"#fdca26\"],[1.0,\"#f0f921\"]],\"type\":\"contour\"}],\"contourcarpet\":[{\"colorbar\":{\"outlinewidth\":0,\"ticks\":\"\"},\"type\":\"contourcarpet\"}],\"heatmap\":[{\"colorbar\":{\"outlinewidth\":0,\"ticks\":\"\"},\"colorscale\":[[0.0,\"#0d0887\"],[0.1111111111111111,\"#46039f\"],[0.2222222222222222,\"#7201a8\"],[0.3333333333333333,\"#9c179e\"],[0.4444444444444444,\"#bd3786\"],[0.5555555555555556,\"#d8576b\"],[0.6666666666666666,\"#ed7953\"],[0.7777777777777778,\"#fb9f3a\"],[0.8888888888888888,\"#fdca26\"],[1.0,\"#f0f921\"]],\"type\":\"heatmap\"}],\"heatmapgl\":[{\"colorbar\":{\"outlinewidth\":0,\"ticks\":\"\"},\"colorscale\":[[0.0,\"#0d0887\"],[0.1111111111111111,\"#46039f\"],[0.2222222222222222,\"#7201a8\"],[0.3333333333333333,\"#9c179e\"],[0.4444444444444444,\"#bd3786\"],[0.5555555555555556,\"#d8576b\"],[0.6666666666666666,\"#ed7953\"],[0.7777777777777778,\"#fb9f3a\"],[0.8888888888888888,\"#fdca26\"],[1.0,\"#f0f921\"]],\"type\":\"heatmapgl\"}],\"histogram\":[{\"marker\":{\"pattern\":{\"fillmode\":\"overlay\",\"size\":10,\"solidity\":0.2}},\"type\":\"histogram\"}],\"histogram2d\":[{\"colorbar\":{\"outlinewidth\":0,\"ticks\":\"\"},\"colorscale\":[[0.0,\"#0d0887\"],[0.1111111111111111,\"#46039f\"],[0.2222222222222222,\"#7201a8\"],[0.3333333333333333,\"#9c179e\"],[0.4444444444444444,\"#bd3786\"],[0.5555555555555556,\"#d8576b\"],[0.6666666666666666,\"#ed7953\"],[0.7777777777777778,\"#fb9f3a\"],[0.8888888888888888,\"#fdca26\"],[1.0,\"#f0f921\"]],\"type\":\"histogram2d\"}],\"histogram2dcontour\":[{\"colorbar\":{\"outlinewidth\":0,\"ticks\":\"\"},\"colorscale\":[[0.0,\"#0d0887\"],[0.1111111111111111,\"#46039f\"],[0.2222222222222222,\"#7201a8\"],[0.3333333333333333,\"#9c179e\"],[0.4444444444444444,\"#bd3786\"],[0.5555555555555556,\"#d8576b\"],[0.6666666666666666,\"#ed7953\"],[0.7777777777777778,\"#fb9f3a\"],[0.8888888888888888,\"#fdca26\"],[1.0,\"#f0f921\"]],\"type\":\"histogram2dcontour\"}],\"mesh3d\":[{\"colorbar\":{\"outlinewidth\":0,\"ticks\":\"\"},\"type\":\"mesh3d\"}],\"parcoords\":[{\"line\":{\"colorbar\":{\"outlinewidth\":0,\"ticks\":\"\"}},\"type\":\"parcoords\"}],\"pie\":[{\"automargin\":true,\"type\":\"pie\"}],\"scatter\":[{\"marker\":{\"colorbar\":{\"outlinewidth\":0,\"ticks\":\"\"}},\"type\":\"scatter\"}],\"scatter3d\":[{\"line\":{\"colorbar\":{\"outlinewidth\":0,\"ticks\":\"\"}},\"marker\":{\"colorbar\":{\"outlinewidth\":0,\"ticks\":\"\"}},\"type\":\"scatter3d\"}],\"scattercarpet\":[{\"marker\":{\"colorbar\":{\"outlinewidth\":0,\"ticks\":\"\"}},\"type\":\"scattercarpet\"}],\"scattergeo\":[{\"marker\":{\"colorbar\":{\"outlinewidth\":0,\"ticks\":\"\"}},\"type\":\"scattergeo\"}],\"scattergl\":[{\"marker\":{\"colorbar\":{\"outlinewidth\":0,\"ticks\":\"\"}},\"type\":\"scattergl\"}],\"scattermapbox\":[{\"marker\":{\"colorbar\":{\"outlinewidth\":0,\"ticks\":\"\"}},\"type\":\"scattermapbox\"}],\"scatterpolar\":[{\"marker\":{\"colorbar\":{\"outlinewidth\":0,\"ticks\":\"\"}},\"type\":\"scatterpolar\"}],\"scatterpolargl\":[{\"marker\":{\"colorbar\":{\"outlinewidth\":0,\"ticks\":\"\"}},\"type\":\"scatterpolargl\"}],\"scatterternary\":[{\"marker\":{\"colorbar\":{\"outlinewidth\":0,\"ticks\":\"\"}},\"type\":\"scatterternary\"}],\"surface\":[{\"colorbar\":{\"outlinewidth\":0,\"ticks\":\"\"},\"colorscale\":[[0.0,\"#0d0887\"],[0.1111111111111111,\"#46039f\"],[0.2222222222222222,\"#7201a8\"],[0.3333333333333333,\"#9c179e\"],[0.4444444444444444,\"#bd3786\"],[0.5555555555555556,\"#d8576b\"],[0.6666666666666666,\"#ed7953\"],[0.7777777777777778,\"#fb9f3a\"],[0.8888888888888888,\"#fdca26\"],[1.0,\"#f0f921\"]],\"type\":\"surface\"}],\"table\":[{\"cells\":{\"fill\":{\"color\":\"#EBF0F8\"},\"line\":{\"color\":\"white\"}},\"header\":{\"fill\":{\"color\":\"#C8D4E3\"},\"line\":{\"color\":\"white\"}},\"type\":\"table\"}]},\"layout\":{\"annotationdefaults\":{\"arrowcolor\":\"#2a3f5f\",\"arrowhead\":0,\"arrowwidth\":1},\"autotypenumbers\":\"strict\",\"coloraxis\":{\"colorbar\":{\"outlinewidth\":0,\"ticks\":\"\"}},\"colorscale\":{\"diverging\":[[0,\"#8e0152\"],[0.1,\"#c51b7d\"],[0.2,\"#de77ae\"],[0.3,\"#f1b6da\"],[0.4,\"#fde0ef\"],[0.5,\"#f7f7f7\"],[0.6,\"#e6f5d0\"],[0.7,\"#b8e186\"],[0.8,\"#7fbc41\"],[0.9,\"#4d9221\"],[1,\"#276419\"]],\"sequential\":[[0.0,\"#0d0887\"],[0.1111111111111111,\"#46039f\"],[0.2222222222222222,\"#7201a8\"],[0.3333333333333333,\"#9c179e\"],[0.4444444444444444,\"#bd3786\"],[0.5555555555555556,\"#d8576b\"],[0.6666666666666666,\"#ed7953\"],[0.7777777777777778,\"#fb9f3a\"],[0.8888888888888888,\"#fdca26\"],[1.0,\"#f0f921\"]],\"sequentialminus\":[[0.0,\"#0d0887\"],[0.1111111111111111,\"#46039f\"],[0.2222222222222222,\"#7201a8\"],[0.3333333333333333,\"#9c179e\"],[0.4444444444444444,\"#bd3786\"],[0.5555555555555556,\"#d8576b\"],[0.6666666666666666,\"#ed7953\"],[0.7777777777777778,\"#fb9f3a\"],[0.8888888888888888,\"#fdca26\"],[1.0,\"#f0f921\"]]},\"colorway\":[\"#636efa\",\"#EF553B\",\"#00cc96\",\"#ab63fa\",\"#FFA15A\",\"#19d3f3\",\"#FF6692\",\"#B6E880\",\"#FF97FF\",\"#FECB52\"],\"font\":{\"color\":\"#2a3f5f\"},\"geo\":{\"bgcolor\":\"white\",\"lakecolor\":\"white\",\"landcolor\":\"#E5ECF6\",\"showlakes\":true,\"showland\":true,\"subunitcolor\":\"white\"},\"hoverlabel\":{\"align\":\"left\"},\"hovermode\":\"closest\",\"mapbox\":{\"style\":\"light\"},\"paper_bgcolor\":\"white\",\"plot_bgcolor\":\"#E5ECF6\",\"polar\":{\"angularaxis\":{\"gridcolor\":\"white\",\"linecolor\":\"white\",\"ticks\":\"\"},\"bgcolor\":\"#E5ECF6\",\"radialaxis\":{\"gridcolor\":\"white\",\"linecolor\":\"white\",\"ticks\":\"\"}},\"scene\":{\"xaxis\":{\"backgroundcolor\":\"#E5ECF6\",\"gridcolor\":\"white\",\"gridwidth\":2,\"linecolor\":\"white\",\"showbackground\":true,\"ticks\":\"\",\"zerolinecolor\":\"white\"},\"yaxis\":{\"backgroundcolor\":\"#E5ECF6\",\"gridcolor\":\"white\",\"gridwidth\":2,\"linecolor\":\"white\",\"showbackground\":true,\"ticks\":\"\",\"zerolinecolor\":\"white\"},\"zaxis\":{\"backgroundcolor\":\"#E5ECF6\",\"gridcolor\":\"white\",\"gridwidth\":2,\"linecolor\":\"white\",\"showbackground\":true,\"ticks\":\"\",\"zerolinecolor\":\"white\"}},\"shapedefaults\":{\"line\":{\"color\":\"#2a3f5f\"}},\"ternary\":{\"aaxis\":{\"gridcolor\":\"white\",\"linecolor\":\"white\",\"ticks\":\"\"},\"baxis\":{\"gridcolor\":\"white\",\"linecolor\":\"white\",\"ticks\":\"\"},\"bgcolor\":\"#E5ECF6\",\"caxis\":{\"gridcolor\":\"white\",\"linecolor\":\"white\",\"ticks\":\"\"}},\"title\":{\"x\":0.05},\"xaxis\":{\"automargin\":true,\"gridcolor\":\"white\",\"linecolor\":\"white\",\"ticks\":\"\",\"title\":{\"standoff\":15},\"zerolinecolor\":\"white\",\"zerolinewidth\":2},\"yaxis\":{\"automargin\":true,\"gridcolor\":\"white\",\"linecolor\":\"white\",\"ticks\":\"\",\"title\":{\"standoff\":15},\"zerolinecolor\":\"white\",\"zerolinewidth\":2}}},\"title\":{\"text\":\"Number of episodes direceted by director\"},\"width\":750,\"xaxis\":{\"anchor\":\"y\",\"domain\":[0.0,1.0],\"showticklabels\":true,\"title\":{},\"visible\":true},\"yaxis\":{\"anchor\":\"x\",\"domain\":[0.0,1.0],\"showticklabels\":true,\"title\":{},\"visible\":true}},                        {\"responsive\": true}                    ).then(function(){\n",
       "                            \n",
       "var gd = document.getElementById('0cc3ec9e-2df0-46f9-bed7-8da8fd893977');\n",
       "var x = new MutationObserver(function (mutations, observer) {{\n",
       "        var display = window.getComputedStyle(gd).display;\n",
       "        if (!display || display === 'none') {{\n",
       "            console.log([gd, 'removed!']);\n",
       "            Plotly.purge(gd);\n",
       "            observer.disconnect();\n",
       "        }}\n",
       "}});\n",
       "\n",
       "// Listen for the removal of the full notebook cells\n",
       "var notebookContainer = gd.closest('#notebook-container');\n",
       "if (notebookContainer) {{\n",
       "    x.observe(notebookContainer, {childList: true});\n",
       "}}\n",
       "\n",
       "// Listen for the clearing of the current output cell\n",
       "var outputEl = gd.closest('.output');\n",
       "if (outputEl) {{\n",
       "    x.observe(outputEl, {childList: true});\n",
       "}}\n",
       "\n",
       "                        })                };                });            </script>        </div>"
      ]
     },
     "metadata": {},
     "output_type": "display_data"
    }
   ],
   "source": [
    "dir_count = data.groupby('Director').agg({'EpisodeTitle' : 'count'}).reset_index().sort_values('EpisodeTitle', ascending = True)\n",
    "\n",
    "fig = px.bar(dir_count[dir_count['EpisodeTitle'] > 2], x = 'EpisodeTitle', y = 'Director',\n",
    "                     title = 'Number of episodes direceted by director', \n",
    "                     width = 750, height = 450)\n",
    "fig.update_layout(showlegend=False)\n",
    "fig.update_xaxes(visible = True, showticklabels = True, title = None)\n",
    "fig.update_yaxes(visible = True, showticklabels = True, title = None)\n",
    "fig.show()"
   ]
  },
  {
   "cell_type": "code",
   "execution_count": 172,
   "id": "8eb2379f",
   "metadata": {},
   "outputs": [],
   "source": [
    "dirs_at_least_3 = dir_count[dir_count['EpisodeTitle'] >= 3]['Director'].unique()\n",
    "dirs_at_least_3_data = data[data['Director'].isin(dirs_at_least_3)]\n",
    "order = dirs_at_least_3_data.groupby(['Director'])['Ratings'].median().sort_values(ascending = False).index"
   ]
  },
  {
   "cell_type": "code",
   "execution_count": 174,
   "id": "c2ff6a4d",
   "metadata": {},
   "outputs": [
    {
     "data": {
      "application/vnd.plotly.v1+json": {
       "config": {
        "plotlyServerURL": "https://plot.ly"
       },
       "data": [
        {
         "alignmentgroup": "True",
         "hovertemplate": "Director=%{x}<br>Ratings=%{y}<extra></extra>",
         "legendgroup": "",
         "marker": {
          "color": "#636efa"
         },
         "name": "",
         "notched": false,
         "offsetgroup": "",
         "orientation": "v",
         "showlegend": false,
         "type": "box",
         "x": [
          "Ken Kwapis",
          "Ken Kwapis",
          "Ken Whittingham",
          "Greg Daniels",
          "Greg Daniels",
          "Ken Kwapis",
          "Paul Feig",
          "Ken Kwapis",
          "Paul Feig",
          "Ken Kwapis",
          "Greg Daniels",
          "Paul Feig",
          "Paul Feig",
          "Charles McDougall",
          "Ken Kwapis",
          "Greg Daniels",
          "Charles McDougall",
          "Ken Whittingham",
          "Greg Daniels",
          "Charles McDougall",
          "Ken Kwapis",
          "Ken Kwapis",
          "Ken Whittingham",
          "Greg Daniels",
          "Randall Einhorn",
          "Tucker Gates",
          "Ken Whittingham",
          "Jeffrey Blitz",
          "Harold Ramis",
          "Greg Daniels",
          "Greg Daniels",
          "Randall Einhorn",
          "Ken Whittingham",
          "Jeffrey Blitz",
          "Harold Ramis",
          "Randall Einhorn",
          "Tucker Gates",
          "Harold Ramis",
          "Ken Kwapis",
          "Greg Daniels",
          "Ken Whittingham",
          "Paul Lieberstein",
          "Paul Feig",
          "Paul Feig",
          "Jeffrey Blitz",
          "Ken Whittingham",
          "Randall Einhorn",
          "Tucker Gates",
          "Paul Feig",
          "Paul Feig",
          "Jeffrey Blitz",
          "Greg Daniels",
          "Jennifer Celotta",
          "David Rogers",
          "Randall Einhorn",
          "Paul Feig",
          "Paul Feig",
          "Jeffrey Blitz",
          "Ken Kwapis",
          "Ken Kwapis",
          "Randall Einhorn",
          "Randall Einhorn",
          "Paul Feig",
          "Paul Lieberstein",
          "Paul Feig",
          "Ken Whittingham",
          "Steve Carell",
          "Brent Forrester",
          "Randall Einhorn",
          "Ken Kwapis",
          "Paul Lieberstein",
          "Randall Einhorn",
          "Jennifer Celotta",
          "Paul Feig",
          "Paul Feig",
          "David Rogers",
          "Greg Daniels",
          "Charles McDougall",
          "B.J. Novak",
          "Randall Einhorn",
          "Jeffrey Blitz",
          "John Krasinski",
          "Harold Ramis",
          "Randall Einhorn",
          "Brent Forrester",
          "Matt Sohn",
          "Steve Carell",
          "Rainn Wilson",
          "Randall Einhorn",
          "Paul Lieberstein",
          "Jeffrey Blitz",
          "Jeffrey Blitz",
          "Paul Lieberstein",
          "Randall Einhorn",
          "Ken Whittingham",
          "Charles McDougall",
          "Rainn Wilson",
          "David Rogers",
          "B.J. Novak",
          "Greg Daniels",
          "Tucker Gates",
          "Randall Einhorn",
          "Steve Carell",
          "Paul Lieberstein",
          "Paul Feig",
          "Matt Sohn",
          "Troy Miller",
          "Jeffrey Blitz",
          "B.J. Novak",
          "Charles McDougall",
          "John Krasinski",
          "David Rogers",
          "Randall Einhorn",
          "Troy Miller",
          "Matt Sohn",
          "Jeffrey Blitz",
          "B.J. Novak",
          "Charles McDougall",
          "David Rogers",
          "Matt Sohn",
          "Brent Forrester",
          "Matt Sohn",
          "Rainn Wilson",
          "David Rogers",
          "B.J. Novak",
          "Greg Daniels",
          "Matt Sohn",
          "David Rogers",
          "John Krasinski",
          "Brent Forrester",
          "Charles McDougall",
          "Matt Sohn",
          "David Rogers",
          "Troy Miller",
          "Paul Lieberstein",
          "Jennifer Celotta",
          "Matt Sohn",
          "Jeffrey Blitz",
          "David Rogers",
          "Ken Kwapis"
         ],
         "x0": " ",
         "xaxis": "x",
         "y": [
          7.5,
          8.3,
          7.8,
          8.4,
          8.7,
          8.2,
          8.4,
          8.4,
          8.1,
          8.1,
          8.6,
          8.2,
          8.4,
          8.9,
          8.6,
          8.3,
          8.5,
          8.1,
          8.4,
          8.7,
          9.4,
          9,
          8.2,
          8.5,
          8.1,
          8.6,
          8.7,
          8.3,
          8.8,
          8.6,
          8.8,
          8.1,
          8.2,
          9,
          8.8,
          8.7,
          8.8,
          9.2,
          9.3,
          8.8,
          8.4,
          8.7,
          8.2,
          9.5,
          8,
          8.6,
          8.3,
          7.8,
          9.3,
          8.8,
          8.3,
          8,
          8.1,
          8,
          8.2,
          8.8,
          8.4,
          9.7,
          8.2,
          8.1,
          8,
          8.7,
          8.3,
          8.4,
          8.3,
          8.7,
          9.2,
          8.3,
          8.7,
          9,
          8.8,
          8.1,
          8,
          9.4,
          9.4,
          7.6,
          8.7,
          8.2,
          8.3,
          8.5,
          6.8,
          7.7,
          8.5,
          7.7,
          7.7,
          8.6,
          7.8,
          8.1,
          7.8,
          8,
          8.4,
          8.2,
          7.8,
          7.8,
          7.8,
          8.2,
          9,
          8.3,
          7.6,
          8.4,
          9.4,
          7.5,
          9.3,
          7.8,
          9.8,
          7.6,
          8.7,
          8.8,
          8.1,
          8.1,
          7.3,
          8.1,
          7.5,
          7.7,
          7.7,
          6.9,
          7.9,
          8,
          7.7,
          7.8,
          7.8,
          7.8,
          6.6,
          7,
          7.7,
          7.6,
          7.1,
          7.4,
          7.7,
          7.8,
          8.4,
          7.8,
          7.6,
          7.3,
          7.5,
          8,
          8,
          9,
          9.5,
          9.8
         ],
         "y0": " ",
         "yaxis": "y"
        }
       ],
       "layout": {
        "boxmode": "group",
        "height": 450,
        "legend": {
         "tracegroupgap": 0
        },
        "showlegend": false,
        "template": {
         "data": {
          "bar": [
           {
            "error_x": {
             "color": "#2a3f5f"
            },
            "error_y": {
             "color": "#2a3f5f"
            },
            "marker": {
             "line": {
              "color": "#E5ECF6",
              "width": 0.5
             },
             "pattern": {
              "fillmode": "overlay",
              "size": 10,
              "solidity": 0.2
             }
            },
            "type": "bar"
           }
          ],
          "barpolar": [
           {
            "marker": {
             "line": {
              "color": "#E5ECF6",
              "width": 0.5
             },
             "pattern": {
              "fillmode": "overlay",
              "size": 10,
              "solidity": 0.2
             }
            },
            "type": "barpolar"
           }
          ],
          "carpet": [
           {
            "aaxis": {
             "endlinecolor": "#2a3f5f",
             "gridcolor": "white",
             "linecolor": "white",
             "minorgridcolor": "white",
             "startlinecolor": "#2a3f5f"
            },
            "baxis": {
             "endlinecolor": "#2a3f5f",
             "gridcolor": "white",
             "linecolor": "white",
             "minorgridcolor": "white",
             "startlinecolor": "#2a3f5f"
            },
            "type": "carpet"
           }
          ],
          "choropleth": [
           {
            "colorbar": {
             "outlinewidth": 0,
             "ticks": ""
            },
            "type": "choropleth"
           }
          ],
          "contour": [
           {
            "colorbar": {
             "outlinewidth": 0,
             "ticks": ""
            },
            "colorscale": [
             [
              0,
              "#0d0887"
             ],
             [
              0.1111111111111111,
              "#46039f"
             ],
             [
              0.2222222222222222,
              "#7201a8"
             ],
             [
              0.3333333333333333,
              "#9c179e"
             ],
             [
              0.4444444444444444,
              "#bd3786"
             ],
             [
              0.5555555555555556,
              "#d8576b"
             ],
             [
              0.6666666666666666,
              "#ed7953"
             ],
             [
              0.7777777777777778,
              "#fb9f3a"
             ],
             [
              0.8888888888888888,
              "#fdca26"
             ],
             [
              1,
              "#f0f921"
             ]
            ],
            "type": "contour"
           }
          ],
          "contourcarpet": [
           {
            "colorbar": {
             "outlinewidth": 0,
             "ticks": ""
            },
            "type": "contourcarpet"
           }
          ],
          "heatmap": [
           {
            "colorbar": {
             "outlinewidth": 0,
             "ticks": ""
            },
            "colorscale": [
             [
              0,
              "#0d0887"
             ],
             [
              0.1111111111111111,
              "#46039f"
             ],
             [
              0.2222222222222222,
              "#7201a8"
             ],
             [
              0.3333333333333333,
              "#9c179e"
             ],
             [
              0.4444444444444444,
              "#bd3786"
             ],
             [
              0.5555555555555556,
              "#d8576b"
             ],
             [
              0.6666666666666666,
              "#ed7953"
             ],
             [
              0.7777777777777778,
              "#fb9f3a"
             ],
             [
              0.8888888888888888,
              "#fdca26"
             ],
             [
              1,
              "#f0f921"
             ]
            ],
            "type": "heatmap"
           }
          ],
          "heatmapgl": [
           {
            "colorbar": {
             "outlinewidth": 0,
             "ticks": ""
            },
            "colorscale": [
             [
              0,
              "#0d0887"
             ],
             [
              0.1111111111111111,
              "#46039f"
             ],
             [
              0.2222222222222222,
              "#7201a8"
             ],
             [
              0.3333333333333333,
              "#9c179e"
             ],
             [
              0.4444444444444444,
              "#bd3786"
             ],
             [
              0.5555555555555556,
              "#d8576b"
             ],
             [
              0.6666666666666666,
              "#ed7953"
             ],
             [
              0.7777777777777778,
              "#fb9f3a"
             ],
             [
              0.8888888888888888,
              "#fdca26"
             ],
             [
              1,
              "#f0f921"
             ]
            ],
            "type": "heatmapgl"
           }
          ],
          "histogram": [
           {
            "marker": {
             "pattern": {
              "fillmode": "overlay",
              "size": 10,
              "solidity": 0.2
             }
            },
            "type": "histogram"
           }
          ],
          "histogram2d": [
           {
            "colorbar": {
             "outlinewidth": 0,
             "ticks": ""
            },
            "colorscale": [
             [
              0,
              "#0d0887"
             ],
             [
              0.1111111111111111,
              "#46039f"
             ],
             [
              0.2222222222222222,
              "#7201a8"
             ],
             [
              0.3333333333333333,
              "#9c179e"
             ],
             [
              0.4444444444444444,
              "#bd3786"
             ],
             [
              0.5555555555555556,
              "#d8576b"
             ],
             [
              0.6666666666666666,
              "#ed7953"
             ],
             [
              0.7777777777777778,
              "#fb9f3a"
             ],
             [
              0.8888888888888888,
              "#fdca26"
             ],
             [
              1,
              "#f0f921"
             ]
            ],
            "type": "histogram2d"
           }
          ],
          "histogram2dcontour": [
           {
            "colorbar": {
             "outlinewidth": 0,
             "ticks": ""
            },
            "colorscale": [
             [
              0,
              "#0d0887"
             ],
             [
              0.1111111111111111,
              "#46039f"
             ],
             [
              0.2222222222222222,
              "#7201a8"
             ],
             [
              0.3333333333333333,
              "#9c179e"
             ],
             [
              0.4444444444444444,
              "#bd3786"
             ],
             [
              0.5555555555555556,
              "#d8576b"
             ],
             [
              0.6666666666666666,
              "#ed7953"
             ],
             [
              0.7777777777777778,
              "#fb9f3a"
             ],
             [
              0.8888888888888888,
              "#fdca26"
             ],
             [
              1,
              "#f0f921"
             ]
            ],
            "type": "histogram2dcontour"
           }
          ],
          "mesh3d": [
           {
            "colorbar": {
             "outlinewidth": 0,
             "ticks": ""
            },
            "type": "mesh3d"
           }
          ],
          "parcoords": [
           {
            "line": {
             "colorbar": {
              "outlinewidth": 0,
              "ticks": ""
             }
            },
            "type": "parcoords"
           }
          ],
          "pie": [
           {
            "automargin": true,
            "type": "pie"
           }
          ],
          "scatter": [
           {
            "marker": {
             "colorbar": {
              "outlinewidth": 0,
              "ticks": ""
             }
            },
            "type": "scatter"
           }
          ],
          "scatter3d": [
           {
            "line": {
             "colorbar": {
              "outlinewidth": 0,
              "ticks": ""
             }
            },
            "marker": {
             "colorbar": {
              "outlinewidth": 0,
              "ticks": ""
             }
            },
            "type": "scatter3d"
           }
          ],
          "scattercarpet": [
           {
            "marker": {
             "colorbar": {
              "outlinewidth": 0,
              "ticks": ""
             }
            },
            "type": "scattercarpet"
           }
          ],
          "scattergeo": [
           {
            "marker": {
             "colorbar": {
              "outlinewidth": 0,
              "ticks": ""
             }
            },
            "type": "scattergeo"
           }
          ],
          "scattergl": [
           {
            "marker": {
             "colorbar": {
              "outlinewidth": 0,
              "ticks": ""
             }
            },
            "type": "scattergl"
           }
          ],
          "scattermapbox": [
           {
            "marker": {
             "colorbar": {
              "outlinewidth": 0,
              "ticks": ""
             }
            },
            "type": "scattermapbox"
           }
          ],
          "scatterpolar": [
           {
            "marker": {
             "colorbar": {
              "outlinewidth": 0,
              "ticks": ""
             }
            },
            "type": "scatterpolar"
           }
          ],
          "scatterpolargl": [
           {
            "marker": {
             "colorbar": {
              "outlinewidth": 0,
              "ticks": ""
             }
            },
            "type": "scatterpolargl"
           }
          ],
          "scatterternary": [
           {
            "marker": {
             "colorbar": {
              "outlinewidth": 0,
              "ticks": ""
             }
            },
            "type": "scatterternary"
           }
          ],
          "surface": [
           {
            "colorbar": {
             "outlinewidth": 0,
             "ticks": ""
            },
            "colorscale": [
             [
              0,
              "#0d0887"
             ],
             [
              0.1111111111111111,
              "#46039f"
             ],
             [
              0.2222222222222222,
              "#7201a8"
             ],
             [
              0.3333333333333333,
              "#9c179e"
             ],
             [
              0.4444444444444444,
              "#bd3786"
             ],
             [
              0.5555555555555556,
              "#d8576b"
             ],
             [
              0.6666666666666666,
              "#ed7953"
             ],
             [
              0.7777777777777778,
              "#fb9f3a"
             ],
             [
              0.8888888888888888,
              "#fdca26"
             ],
             [
              1,
              "#f0f921"
             ]
            ],
            "type": "surface"
           }
          ],
          "table": [
           {
            "cells": {
             "fill": {
              "color": "#EBF0F8"
             },
             "line": {
              "color": "white"
             }
            },
            "header": {
             "fill": {
              "color": "#C8D4E3"
             },
             "line": {
              "color": "white"
             }
            },
            "type": "table"
           }
          ]
         },
         "layout": {
          "annotationdefaults": {
           "arrowcolor": "#2a3f5f",
           "arrowhead": 0,
           "arrowwidth": 1
          },
          "autotypenumbers": "strict",
          "coloraxis": {
           "colorbar": {
            "outlinewidth": 0,
            "ticks": ""
           }
          },
          "colorscale": {
           "diverging": [
            [
             0,
             "#8e0152"
            ],
            [
             0.1,
             "#c51b7d"
            ],
            [
             0.2,
             "#de77ae"
            ],
            [
             0.3,
             "#f1b6da"
            ],
            [
             0.4,
             "#fde0ef"
            ],
            [
             0.5,
             "#f7f7f7"
            ],
            [
             0.6,
             "#e6f5d0"
            ],
            [
             0.7,
             "#b8e186"
            ],
            [
             0.8,
             "#7fbc41"
            ],
            [
             0.9,
             "#4d9221"
            ],
            [
             1,
             "#276419"
            ]
           ],
           "sequential": [
            [
             0,
             "#0d0887"
            ],
            [
             0.1111111111111111,
             "#46039f"
            ],
            [
             0.2222222222222222,
             "#7201a8"
            ],
            [
             0.3333333333333333,
             "#9c179e"
            ],
            [
             0.4444444444444444,
             "#bd3786"
            ],
            [
             0.5555555555555556,
             "#d8576b"
            ],
            [
             0.6666666666666666,
             "#ed7953"
            ],
            [
             0.7777777777777778,
             "#fb9f3a"
            ],
            [
             0.8888888888888888,
             "#fdca26"
            ],
            [
             1,
             "#f0f921"
            ]
           ],
           "sequentialminus": [
            [
             0,
             "#0d0887"
            ],
            [
             0.1111111111111111,
             "#46039f"
            ],
            [
             0.2222222222222222,
             "#7201a8"
            ],
            [
             0.3333333333333333,
             "#9c179e"
            ],
            [
             0.4444444444444444,
             "#bd3786"
            ],
            [
             0.5555555555555556,
             "#d8576b"
            ],
            [
             0.6666666666666666,
             "#ed7953"
            ],
            [
             0.7777777777777778,
             "#fb9f3a"
            ],
            [
             0.8888888888888888,
             "#fdca26"
            ],
            [
             1,
             "#f0f921"
            ]
           ]
          },
          "colorway": [
           "#636efa",
           "#EF553B",
           "#00cc96",
           "#ab63fa",
           "#FFA15A",
           "#19d3f3",
           "#FF6692",
           "#B6E880",
           "#FF97FF",
           "#FECB52"
          ],
          "font": {
           "color": "#2a3f5f"
          },
          "geo": {
           "bgcolor": "white",
           "lakecolor": "white",
           "landcolor": "#E5ECF6",
           "showlakes": true,
           "showland": true,
           "subunitcolor": "white"
          },
          "hoverlabel": {
           "align": "left"
          },
          "hovermode": "closest",
          "mapbox": {
           "style": "light"
          },
          "paper_bgcolor": "white",
          "plot_bgcolor": "#E5ECF6",
          "polar": {
           "angularaxis": {
            "gridcolor": "white",
            "linecolor": "white",
            "ticks": ""
           },
           "bgcolor": "#E5ECF6",
           "radialaxis": {
            "gridcolor": "white",
            "linecolor": "white",
            "ticks": ""
           }
          },
          "scene": {
           "xaxis": {
            "backgroundcolor": "#E5ECF6",
            "gridcolor": "white",
            "gridwidth": 2,
            "linecolor": "white",
            "showbackground": true,
            "ticks": "",
            "zerolinecolor": "white"
           },
           "yaxis": {
            "backgroundcolor": "#E5ECF6",
            "gridcolor": "white",
            "gridwidth": 2,
            "linecolor": "white",
            "showbackground": true,
            "ticks": "",
            "zerolinecolor": "white"
           },
           "zaxis": {
            "backgroundcolor": "#E5ECF6",
            "gridcolor": "white",
            "gridwidth": 2,
            "linecolor": "white",
            "showbackground": true,
            "ticks": "",
            "zerolinecolor": "white"
           }
          },
          "shapedefaults": {
           "line": {
            "color": "#2a3f5f"
           }
          },
          "ternary": {
           "aaxis": {
            "gridcolor": "white",
            "linecolor": "white",
            "ticks": ""
           },
           "baxis": {
            "gridcolor": "white",
            "linecolor": "white",
            "ticks": ""
           },
           "bgcolor": "#E5ECF6",
           "caxis": {
            "gridcolor": "white",
            "linecolor": "white",
            "ticks": ""
           }
          },
          "title": {
           "x": 0.05
          },
          "xaxis": {
           "automargin": true,
           "gridcolor": "white",
           "linecolor": "white",
           "ticks": "",
           "title": {
            "standoff": 15
           },
           "zerolinecolor": "white",
           "zerolinewidth": 2
          },
          "yaxis": {
           "automargin": true,
           "gridcolor": "white",
           "linecolor": "white",
           "ticks": "",
           "title": {
            "standoff": 15
           },
           "zerolinecolor": "white",
           "zerolinewidth": 2
          }
         }
        },
        "title": {
         "text": "Ratings distribution by directors with at least 3 directed episodes"
        },
        "width": 850,
        "xaxis": {
         "anchor": "y",
         "categoryarray": [
          "Steve Carell",
          "Harold Ramis",
          "Tucker Gates",
          "Greg Daniels",
          "Paul Feig",
          "Ken Kwapis",
          "Jeffrey Blitz",
          "Charles McDougall",
          "Ken Whittingham",
          "Rainn Wilson",
          "Randall Einhorn",
          "Jennifer Celotta",
          "Paul Lieberstein",
          "B.J. Novak",
          "Brent Forrester",
          "Matt Sohn",
          "John Krasinski",
          "David Rogers",
          "Troy Miller"
         ],
         "categoryorder": "array",
         "domain": [
          0,
          1
         ],
         "showticklabels": true,
         "title": {},
         "visible": true
        },
        "yaxis": {
         "anchor": "x",
         "domain": [
          0,
          1
         ],
         "showticklabels": true,
         "title": {},
         "visible": true
        }
       }
      },
      "text/html": [
       "<div>                            <div id=\"81b684b3-65a0-4793-b533-dd1a35dcd71b\" class=\"plotly-graph-div\" style=\"height:450px; width:850px;\"></div>            <script type=\"text/javascript\">                require([\"plotly\"], function(Plotly) {                    window.PLOTLYENV=window.PLOTLYENV || {};                                    if (document.getElementById(\"81b684b3-65a0-4793-b533-dd1a35dcd71b\")) {                    Plotly.newPlot(                        \"81b684b3-65a0-4793-b533-dd1a35dcd71b\",                        [{\"alignmentgroup\":\"True\",\"hovertemplate\":\"Director=%{x}<br>Ratings=%{y}<extra></extra>\",\"legendgroup\":\"\",\"marker\":{\"color\":\"#636efa\"},\"name\":\"\",\"notched\":false,\"offsetgroup\":\"\",\"orientation\":\"v\",\"showlegend\":false,\"type\":\"box\",\"x\":[\"Ken Kwapis\",\"Ken Kwapis\",\"Ken Whittingham\",\"Greg Daniels\",\"Greg Daniels\",\"Ken Kwapis\",\"Paul Feig\",\"Ken Kwapis\",\"Paul Feig\",\"Ken Kwapis\",\"Greg Daniels\",\"Paul Feig\",\"Paul Feig\",\"Charles McDougall\",\"Ken Kwapis\",\"Greg Daniels\",\"Charles McDougall\",\"Ken Whittingham\",\"Greg Daniels\",\"Charles McDougall\",\"Ken Kwapis\",\"Ken Kwapis\",\"Ken Whittingham\",\"Greg Daniels\",\"Randall Einhorn\",\"Tucker Gates\",\"Ken Whittingham\",\"Jeffrey Blitz\",\"Harold Ramis\",\"Greg Daniels\",\"Greg Daniels\",\"Randall Einhorn\",\"Ken Whittingham\",\"Jeffrey Blitz\",\"Harold Ramis\",\"Randall Einhorn\",\"Tucker Gates\",\"Harold Ramis\",\"Ken Kwapis\",\"Greg Daniels\",\"Ken Whittingham\",\"Paul Lieberstein\",\"Paul Feig\",\"Paul Feig\",\"Jeffrey Blitz\",\"Ken Whittingham\",\"Randall Einhorn\",\"Tucker Gates\",\"Paul Feig\",\"Paul Feig\",\"Jeffrey Blitz\",\"Greg Daniels\",\"Jennifer Celotta\",\"David Rogers\",\"Randall Einhorn\",\"Paul Feig\",\"Paul Feig\",\"Jeffrey Blitz\",\"Ken Kwapis\",\"Ken Kwapis\",\"Randall Einhorn\",\"Randall Einhorn\",\"Paul Feig\",\"Paul Lieberstein\",\"Paul Feig\",\"Ken Whittingham\",\"Steve Carell\",\"Brent Forrester\",\"Randall Einhorn\",\"Ken Kwapis\",\"Paul Lieberstein\",\"Randall Einhorn\",\"Jennifer Celotta\",\"Paul Feig\",\"Paul Feig\",\"David Rogers\",\"Greg Daniels\",\"Charles McDougall\",\"B.J. Novak\",\"Randall Einhorn\",\"Jeffrey Blitz\",\"John Krasinski\",\"Harold Ramis\",\"Randall Einhorn\",\"Brent Forrester\",\"Matt Sohn\",\"Steve Carell\",\"Rainn Wilson\",\"Randall Einhorn\",\"Paul Lieberstein\",\"Jeffrey Blitz\",\"Jeffrey Blitz\",\"Paul Lieberstein\",\"Randall Einhorn\",\"Ken Whittingham\",\"Charles McDougall\",\"Rainn Wilson\",\"David Rogers\",\"B.J. Novak\",\"Greg Daniels\",\"Tucker Gates\",\"Randall Einhorn\",\"Steve Carell\",\"Paul Lieberstein\",\"Paul Feig\",\"Matt Sohn\",\"Troy Miller\",\"Jeffrey Blitz\",\"B.J. Novak\",\"Charles McDougall\",\"John Krasinski\",\"David Rogers\",\"Randall Einhorn\",\"Troy Miller\",\"Matt Sohn\",\"Jeffrey Blitz\",\"B.J. Novak\",\"Charles McDougall\",\"David Rogers\",\"Matt Sohn\",\"Brent Forrester\",\"Matt Sohn\",\"Rainn Wilson\",\"David Rogers\",\"B.J. Novak\",\"Greg Daniels\",\"Matt Sohn\",\"David Rogers\",\"John Krasinski\",\"Brent Forrester\",\"Charles McDougall\",\"Matt Sohn\",\"David Rogers\",\"Troy Miller\",\"Paul Lieberstein\",\"Jennifer Celotta\",\"Matt Sohn\",\"Jeffrey Blitz\",\"David Rogers\",\"Ken Kwapis\"],\"x0\":\" \",\"xaxis\":\"x\",\"y\":[7.5,8.3,7.8,8.4,8.7,8.2,8.4,8.4,8.1,8.1,8.6,8.2,8.4,8.9,8.6,8.3,8.5,8.1,8.4,8.7,9.4,9.0,8.2,8.5,8.1,8.6,8.7,8.3,8.8,8.6,8.8,8.1,8.2,9.0,8.8,8.7,8.8,9.2,9.3,8.8,8.4,8.7,8.2,9.5,8.0,8.6,8.3,7.8,9.3,8.8,8.3,8.0,8.1,8.0,8.2,8.8,8.4,9.7,8.2,8.1,8.0,8.7,8.3,8.4,8.3,8.7,9.2,8.3,8.7,9.0,8.8,8.1,8.0,9.4,9.4,7.6,8.7,8.2,8.3,8.5,6.8,7.7,8.5,7.7,7.7,8.6,7.8,8.1,7.8,8.0,8.4,8.2,7.8,7.8,7.8,8.2,9.0,8.3,7.6,8.4,9.4,7.5,9.3,7.8,9.8,7.6,8.7,8.8,8.1,8.1,7.3,8.1,7.5,7.7,7.7,6.9,7.9,8.0,7.7,7.8,7.8,7.8,6.6,7.0,7.7,7.6,7.1,7.4,7.7,7.8,8.4,7.8,7.6,7.3,7.5,8.0,8.0,9.0,9.5,9.8],\"y0\":\" \",\"yaxis\":\"y\"}],                        {\"boxmode\":\"group\",\"height\":450,\"legend\":{\"tracegroupgap\":0},\"showlegend\":false,\"template\":{\"data\":{\"bar\":[{\"error_x\":{\"color\":\"#2a3f5f\"},\"error_y\":{\"color\":\"#2a3f5f\"},\"marker\":{\"line\":{\"color\":\"#E5ECF6\",\"width\":0.5},\"pattern\":{\"fillmode\":\"overlay\",\"size\":10,\"solidity\":0.2}},\"type\":\"bar\"}],\"barpolar\":[{\"marker\":{\"line\":{\"color\":\"#E5ECF6\",\"width\":0.5},\"pattern\":{\"fillmode\":\"overlay\",\"size\":10,\"solidity\":0.2}},\"type\":\"barpolar\"}],\"carpet\":[{\"aaxis\":{\"endlinecolor\":\"#2a3f5f\",\"gridcolor\":\"white\",\"linecolor\":\"white\",\"minorgridcolor\":\"white\",\"startlinecolor\":\"#2a3f5f\"},\"baxis\":{\"endlinecolor\":\"#2a3f5f\",\"gridcolor\":\"white\",\"linecolor\":\"white\",\"minorgridcolor\":\"white\",\"startlinecolor\":\"#2a3f5f\"},\"type\":\"carpet\"}],\"choropleth\":[{\"colorbar\":{\"outlinewidth\":0,\"ticks\":\"\"},\"type\":\"choropleth\"}],\"contour\":[{\"colorbar\":{\"outlinewidth\":0,\"ticks\":\"\"},\"colorscale\":[[0.0,\"#0d0887\"],[0.1111111111111111,\"#46039f\"],[0.2222222222222222,\"#7201a8\"],[0.3333333333333333,\"#9c179e\"],[0.4444444444444444,\"#bd3786\"],[0.5555555555555556,\"#d8576b\"],[0.6666666666666666,\"#ed7953\"],[0.7777777777777778,\"#fb9f3a\"],[0.8888888888888888,\"#fdca26\"],[1.0,\"#f0f921\"]],\"type\":\"contour\"}],\"contourcarpet\":[{\"colorbar\":{\"outlinewidth\":0,\"ticks\":\"\"},\"type\":\"contourcarpet\"}],\"heatmap\":[{\"colorbar\":{\"outlinewidth\":0,\"ticks\":\"\"},\"colorscale\":[[0.0,\"#0d0887\"],[0.1111111111111111,\"#46039f\"],[0.2222222222222222,\"#7201a8\"],[0.3333333333333333,\"#9c179e\"],[0.4444444444444444,\"#bd3786\"],[0.5555555555555556,\"#d8576b\"],[0.6666666666666666,\"#ed7953\"],[0.7777777777777778,\"#fb9f3a\"],[0.8888888888888888,\"#fdca26\"],[1.0,\"#f0f921\"]],\"type\":\"heatmap\"}],\"heatmapgl\":[{\"colorbar\":{\"outlinewidth\":0,\"ticks\":\"\"},\"colorscale\":[[0.0,\"#0d0887\"],[0.1111111111111111,\"#46039f\"],[0.2222222222222222,\"#7201a8\"],[0.3333333333333333,\"#9c179e\"],[0.4444444444444444,\"#bd3786\"],[0.5555555555555556,\"#d8576b\"],[0.6666666666666666,\"#ed7953\"],[0.7777777777777778,\"#fb9f3a\"],[0.8888888888888888,\"#fdca26\"],[1.0,\"#f0f921\"]],\"type\":\"heatmapgl\"}],\"histogram\":[{\"marker\":{\"pattern\":{\"fillmode\":\"overlay\",\"size\":10,\"solidity\":0.2}},\"type\":\"histogram\"}],\"histogram2d\":[{\"colorbar\":{\"outlinewidth\":0,\"ticks\":\"\"},\"colorscale\":[[0.0,\"#0d0887\"],[0.1111111111111111,\"#46039f\"],[0.2222222222222222,\"#7201a8\"],[0.3333333333333333,\"#9c179e\"],[0.4444444444444444,\"#bd3786\"],[0.5555555555555556,\"#d8576b\"],[0.6666666666666666,\"#ed7953\"],[0.7777777777777778,\"#fb9f3a\"],[0.8888888888888888,\"#fdca26\"],[1.0,\"#f0f921\"]],\"type\":\"histogram2d\"}],\"histogram2dcontour\":[{\"colorbar\":{\"outlinewidth\":0,\"ticks\":\"\"},\"colorscale\":[[0.0,\"#0d0887\"],[0.1111111111111111,\"#46039f\"],[0.2222222222222222,\"#7201a8\"],[0.3333333333333333,\"#9c179e\"],[0.4444444444444444,\"#bd3786\"],[0.5555555555555556,\"#d8576b\"],[0.6666666666666666,\"#ed7953\"],[0.7777777777777778,\"#fb9f3a\"],[0.8888888888888888,\"#fdca26\"],[1.0,\"#f0f921\"]],\"type\":\"histogram2dcontour\"}],\"mesh3d\":[{\"colorbar\":{\"outlinewidth\":0,\"ticks\":\"\"},\"type\":\"mesh3d\"}],\"parcoords\":[{\"line\":{\"colorbar\":{\"outlinewidth\":0,\"ticks\":\"\"}},\"type\":\"parcoords\"}],\"pie\":[{\"automargin\":true,\"type\":\"pie\"}],\"scatter\":[{\"marker\":{\"colorbar\":{\"outlinewidth\":0,\"ticks\":\"\"}},\"type\":\"scatter\"}],\"scatter3d\":[{\"line\":{\"colorbar\":{\"outlinewidth\":0,\"ticks\":\"\"}},\"marker\":{\"colorbar\":{\"outlinewidth\":0,\"ticks\":\"\"}},\"type\":\"scatter3d\"}],\"scattercarpet\":[{\"marker\":{\"colorbar\":{\"outlinewidth\":0,\"ticks\":\"\"}},\"type\":\"scattercarpet\"}],\"scattergeo\":[{\"marker\":{\"colorbar\":{\"outlinewidth\":0,\"ticks\":\"\"}},\"type\":\"scattergeo\"}],\"scattergl\":[{\"marker\":{\"colorbar\":{\"outlinewidth\":0,\"ticks\":\"\"}},\"type\":\"scattergl\"}],\"scattermapbox\":[{\"marker\":{\"colorbar\":{\"outlinewidth\":0,\"ticks\":\"\"}},\"type\":\"scattermapbox\"}],\"scatterpolar\":[{\"marker\":{\"colorbar\":{\"outlinewidth\":0,\"ticks\":\"\"}},\"type\":\"scatterpolar\"}],\"scatterpolargl\":[{\"marker\":{\"colorbar\":{\"outlinewidth\":0,\"ticks\":\"\"}},\"type\":\"scatterpolargl\"}],\"scatterternary\":[{\"marker\":{\"colorbar\":{\"outlinewidth\":0,\"ticks\":\"\"}},\"type\":\"scatterternary\"}],\"surface\":[{\"colorbar\":{\"outlinewidth\":0,\"ticks\":\"\"},\"colorscale\":[[0.0,\"#0d0887\"],[0.1111111111111111,\"#46039f\"],[0.2222222222222222,\"#7201a8\"],[0.3333333333333333,\"#9c179e\"],[0.4444444444444444,\"#bd3786\"],[0.5555555555555556,\"#d8576b\"],[0.6666666666666666,\"#ed7953\"],[0.7777777777777778,\"#fb9f3a\"],[0.8888888888888888,\"#fdca26\"],[1.0,\"#f0f921\"]],\"type\":\"surface\"}],\"table\":[{\"cells\":{\"fill\":{\"color\":\"#EBF0F8\"},\"line\":{\"color\":\"white\"}},\"header\":{\"fill\":{\"color\":\"#C8D4E3\"},\"line\":{\"color\":\"white\"}},\"type\":\"table\"}]},\"layout\":{\"annotationdefaults\":{\"arrowcolor\":\"#2a3f5f\",\"arrowhead\":0,\"arrowwidth\":1},\"autotypenumbers\":\"strict\",\"coloraxis\":{\"colorbar\":{\"outlinewidth\":0,\"ticks\":\"\"}},\"colorscale\":{\"diverging\":[[0,\"#8e0152\"],[0.1,\"#c51b7d\"],[0.2,\"#de77ae\"],[0.3,\"#f1b6da\"],[0.4,\"#fde0ef\"],[0.5,\"#f7f7f7\"],[0.6,\"#e6f5d0\"],[0.7,\"#b8e186\"],[0.8,\"#7fbc41\"],[0.9,\"#4d9221\"],[1,\"#276419\"]],\"sequential\":[[0.0,\"#0d0887\"],[0.1111111111111111,\"#46039f\"],[0.2222222222222222,\"#7201a8\"],[0.3333333333333333,\"#9c179e\"],[0.4444444444444444,\"#bd3786\"],[0.5555555555555556,\"#d8576b\"],[0.6666666666666666,\"#ed7953\"],[0.7777777777777778,\"#fb9f3a\"],[0.8888888888888888,\"#fdca26\"],[1.0,\"#f0f921\"]],\"sequentialminus\":[[0.0,\"#0d0887\"],[0.1111111111111111,\"#46039f\"],[0.2222222222222222,\"#7201a8\"],[0.3333333333333333,\"#9c179e\"],[0.4444444444444444,\"#bd3786\"],[0.5555555555555556,\"#d8576b\"],[0.6666666666666666,\"#ed7953\"],[0.7777777777777778,\"#fb9f3a\"],[0.8888888888888888,\"#fdca26\"],[1.0,\"#f0f921\"]]},\"colorway\":[\"#636efa\",\"#EF553B\",\"#00cc96\",\"#ab63fa\",\"#FFA15A\",\"#19d3f3\",\"#FF6692\",\"#B6E880\",\"#FF97FF\",\"#FECB52\"],\"font\":{\"color\":\"#2a3f5f\"},\"geo\":{\"bgcolor\":\"white\",\"lakecolor\":\"white\",\"landcolor\":\"#E5ECF6\",\"showlakes\":true,\"showland\":true,\"subunitcolor\":\"white\"},\"hoverlabel\":{\"align\":\"left\"},\"hovermode\":\"closest\",\"mapbox\":{\"style\":\"light\"},\"paper_bgcolor\":\"white\",\"plot_bgcolor\":\"#E5ECF6\",\"polar\":{\"angularaxis\":{\"gridcolor\":\"white\",\"linecolor\":\"white\",\"ticks\":\"\"},\"bgcolor\":\"#E5ECF6\",\"radialaxis\":{\"gridcolor\":\"white\",\"linecolor\":\"white\",\"ticks\":\"\"}},\"scene\":{\"xaxis\":{\"backgroundcolor\":\"#E5ECF6\",\"gridcolor\":\"white\",\"gridwidth\":2,\"linecolor\":\"white\",\"showbackground\":true,\"ticks\":\"\",\"zerolinecolor\":\"white\"},\"yaxis\":{\"backgroundcolor\":\"#E5ECF6\",\"gridcolor\":\"white\",\"gridwidth\":2,\"linecolor\":\"white\",\"showbackground\":true,\"ticks\":\"\",\"zerolinecolor\":\"white\"},\"zaxis\":{\"backgroundcolor\":\"#E5ECF6\",\"gridcolor\":\"white\",\"gridwidth\":2,\"linecolor\":\"white\",\"showbackground\":true,\"ticks\":\"\",\"zerolinecolor\":\"white\"}},\"shapedefaults\":{\"line\":{\"color\":\"#2a3f5f\"}},\"ternary\":{\"aaxis\":{\"gridcolor\":\"white\",\"linecolor\":\"white\",\"ticks\":\"\"},\"baxis\":{\"gridcolor\":\"white\",\"linecolor\":\"white\",\"ticks\":\"\"},\"bgcolor\":\"#E5ECF6\",\"caxis\":{\"gridcolor\":\"white\",\"linecolor\":\"white\",\"ticks\":\"\"}},\"title\":{\"x\":0.05},\"xaxis\":{\"automargin\":true,\"gridcolor\":\"white\",\"linecolor\":\"white\",\"ticks\":\"\",\"title\":{\"standoff\":15},\"zerolinecolor\":\"white\",\"zerolinewidth\":2},\"yaxis\":{\"automargin\":true,\"gridcolor\":\"white\",\"linecolor\":\"white\",\"ticks\":\"\",\"title\":{\"standoff\":15},\"zerolinecolor\":\"white\",\"zerolinewidth\":2}}},\"title\":{\"text\":\"Ratings distribution by directors with at least 3 directed episodes\"},\"width\":850,\"xaxis\":{\"anchor\":\"y\",\"categoryarray\":[\"Steve Carell\",\"Harold Ramis\",\"Tucker Gates\",\"Greg Daniels\",\"Paul Feig\",\"Ken Kwapis\",\"Jeffrey Blitz\",\"Charles McDougall\",\"Ken Whittingham\",\"Rainn Wilson\",\"Randall Einhorn\",\"Jennifer Celotta\",\"Paul Lieberstein\",\"B.J. Novak\",\"Brent Forrester\",\"Matt Sohn\",\"John Krasinski\",\"David Rogers\",\"Troy Miller\"],\"categoryorder\":\"array\",\"domain\":[0.0,1.0],\"showticklabels\":true,\"title\":{},\"visible\":true},\"yaxis\":{\"anchor\":\"x\",\"domain\":[0.0,1.0],\"showticklabels\":true,\"title\":{},\"visible\":true}},                        {\"responsive\": true}                    ).then(function(){\n",
       "                            \n",
       "var gd = document.getElementById('81b684b3-65a0-4793-b533-dd1a35dcd71b');\n",
       "var x = new MutationObserver(function (mutations, observer) {{\n",
       "        var display = window.getComputedStyle(gd).display;\n",
       "        if (!display || display === 'none') {{\n",
       "            console.log([gd, 'removed!']);\n",
       "            Plotly.purge(gd);\n",
       "            observer.disconnect();\n",
       "        }}\n",
       "}});\n",
       "\n",
       "// Listen for the removal of the full notebook cells\n",
       "var notebookContainer = gd.closest('#notebook-container');\n",
       "if (notebookContainer) {{\n",
       "    x.observe(notebookContainer, {childList: true});\n",
       "}}\n",
       "\n",
       "// Listen for the clearing of the current output cell\n",
       "var outputEl = gd.closest('.output');\n",
       "if (outputEl) {{\n",
       "    x.observe(outputEl, {childList: true});\n",
       "}}\n",
       "\n",
       "                        })                };                });            </script>        </div>"
      ]
     },
     "metadata": {},
     "output_type": "display_data"
    }
   ],
   "source": [
    "plot_box(dirs_at_least_3_data, 'Director', 'Ratings', [], order, \n",
    "         'Ratings distribution by directors with at least 3 directed episodes')"
   ]
  },
  {
   "cell_type": "code",
   "execution_count": null,
   "id": "1f98d6dd",
   "metadata": {},
   "outputs": [],
   "source": []
  }
 ],
 "metadata": {
  "kernelspec": {
   "display_name": "Python 3",
   "language": "python",
   "name": "python3"
  },
  "language_info": {
   "codemirror_mode": {
    "name": "ipython",
    "version": 3
   },
   "file_extension": ".py",
   "mimetype": "text/x-python",
   "name": "python",
   "nbconvert_exporter": "python",
   "pygments_lexer": "ipython3",
   "version": "3.8.8"
  }
 },
 "nbformat": 4,
 "nbformat_minor": 5
}
