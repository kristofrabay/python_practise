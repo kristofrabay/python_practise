{
 "cells": [
  {
   "cell_type": "code",
   "execution_count": 1,
   "id": "cabc5e97",
   "metadata": {},
   "outputs": [],
   "source": [
    "import pandas as pd\n",
    "import numpy as np\n",
    "import geojson\n",
    "\n",
    "import re\n",
    "from nltk.corpus import stopwords\n",
    "from sklearn.feature_extraction.text import CountVectorizer\n",
    "from ast import literal_eval\n",
    "import collections\n",
    "\n",
    "from wordcloud import WordCloud\n",
    "import matplotlib.pyplot as plt\n",
    "import seaborn as sns\n",
    "import plotly.express as px\n",
    "import plotly.graph_objects as go\n",
    "from plotly.subplots import make_subplots\n",
    "\n",
    "import warnings\n",
    "warnings.filterwarnings('ignore')"
   ]
  },
  {
   "cell_type": "code",
   "execution_count": 2,
   "id": "2407f06a",
   "metadata": {},
   "outputs": [],
   "source": [
    "city = 'vienna'\n",
    "\n",
    "### raw, original files with all datapoints\n",
    "listings_link = 'data/' + city + '/listings.csv.gz'\n",
    "#reviews_link = 'data/' + city + '/reviews.csv.gz'\n",
    "#calendar_link = 'data/' + city + '/calendar.csv.gz'\n",
    "\n",
    "### shortened summary of listings: just a few main features from the original file\n",
    "#listings_sum_link = 'data/' + city + '/listings.csv'\n",
    "\n",
    "### neighborhood information\n",
    "neighborhoods_link = 'data/' + city + '/neighbourhoods.csv'\n",
    "neighborhoods_gjson_link = 'data/' + city + '/neighbourhoods.geojson'"
   ]
  },
  {
   "cell_type": "code",
   "execution_count": 3,
   "id": "16152a5e",
   "metadata": {},
   "outputs": [],
   "source": [
    "### read 'big' gzipped files\n",
    "listings = pd.read_csv(listings_link, compression = 'gzip', error_bad_lines = False)\n",
    "#reviews = pd.read_csv(reviews_link, compression = 'gzip', error_bad_lines = False)\n",
    "#calendar = pd.read_csv(calendar_link, compression = 'gzip', error_bad_lines = False)\n",
    "\n",
    "### read neighborhhood info\n",
    "neighborhoods = pd.read_csv(neighborhoods_link)\n",
    "\n",
    "### read summarized data of listings\n",
    "#listings_summarized = pd.read_csv(listings_sum_link)\n",
    "\n",
    "### read geojson with neighborhood geo data\n",
    "with open(neighborhoods_gjson_link) as f:\n",
    "    neighborhoods_gjson = geojson.load(f)"
   ]
  },
  {
   "cell_type": "markdown",
   "id": "766cc05d",
   "metadata": {},
   "source": [
    "### Check files"
   ]
  },
  {
   "cell_type": "markdown",
   "id": "cc903cb4",
   "metadata": {},
   "source": [
    "Listings summarized is just a few of the original features, plus the grouped neighborhood. I'll go over all features and select the necessary ones and do feature engineering manually"
   ]
  },
  {
   "cell_type": "code",
   "execution_count": 4,
   "id": "dab4d2a0",
   "metadata": {},
   "outputs": [
    {
     "data": {
      "text/html": [
       "<div>\n",
       "<style scoped>\n",
       "    .dataframe tbody tr th:only-of-type {\n",
       "        vertical-align: middle;\n",
       "    }\n",
       "\n",
       "    .dataframe tbody tr th {\n",
       "        vertical-align: top;\n",
       "    }\n",
       "\n",
       "    .dataframe thead th {\n",
       "        text-align: right;\n",
       "    }\n",
       "</style>\n",
       "<table border=\"1\" class=\"dataframe\">\n",
       "  <thead>\n",
       "    <tr style=\"text-align: right;\">\n",
       "      <th></th>\n",
       "      <th>id</th>\n",
       "      <th>listing_url</th>\n",
       "      <th>scrape_id</th>\n",
       "      <th>last_scraped</th>\n",
       "      <th>name</th>\n",
       "      <th>description</th>\n",
       "      <th>neighborhood_overview</th>\n",
       "      <th>picture_url</th>\n",
       "      <th>host_id</th>\n",
       "      <th>host_url</th>\n",
       "      <th>...</th>\n",
       "      <th>review_scores_communication</th>\n",
       "      <th>review_scores_location</th>\n",
       "      <th>review_scores_value</th>\n",
       "      <th>license</th>\n",
       "      <th>instant_bookable</th>\n",
       "      <th>calculated_host_listings_count</th>\n",
       "      <th>calculated_host_listings_count_entire_homes</th>\n",
       "      <th>calculated_host_listings_count_private_rooms</th>\n",
       "      <th>calculated_host_listings_count_shared_rooms</th>\n",
       "      <th>reviews_per_month</th>\n",
       "    </tr>\n",
       "  </thead>\n",
       "  <tbody>\n",
       "    <tr>\n",
       "      <th>0</th>\n",
       "      <td>15883</td>\n",
       "      <td>https://www.airbnb.com/rooms/15883</td>\n",
       "      <td>20210707180333</td>\n",
       "      <td>2021-07-08</td>\n",
       "      <td>b&amp;b near Old Danube river</td>\n",
       "      <td>Four rooms, each one differently and individua...</td>\n",
       "      <td>small and personal&lt;br /&gt;&lt;br /&gt;Four rooms at th...</td>\n",
       "      <td>https://a0.muscache.com/pictures/18eff738-a737...</td>\n",
       "      <td>62142</td>\n",
       "      <td>https://www.airbnb.com/users/show/62142</td>\n",
       "      <td>...</td>\n",
       "      <td>4.91</td>\n",
       "      <td>4.64</td>\n",
       "      <td>4.45</td>\n",
       "      <td>NaN</td>\n",
       "      <td>f</td>\n",
       "      <td>3</td>\n",
       "      <td>1</td>\n",
       "      <td>0</td>\n",
       "      <td>0</td>\n",
       "      <td>0.25</td>\n",
       "    </tr>\n",
       "    <tr>\n",
       "      <th>1</th>\n",
       "      <td>38768</td>\n",
       "      <td>https://www.airbnb.com/rooms/38768</td>\n",
       "      <td>20210707180333</td>\n",
       "      <td>2021-07-08</td>\n",
       "      <td>central cityapartement- wifi- nice neighbourhood</td>\n",
       "      <td>39m² apartment with beautiful courtyard of the...</td>\n",
       "      <td>the Karmeliterviertel became very popular in t...</td>\n",
       "      <td>https://a0.muscache.com/pictures/ad4089a3-5355...</td>\n",
       "      <td>166283</td>\n",
       "      <td>https://www.airbnb.com/users/show/166283</td>\n",
       "      <td>...</td>\n",
       "      <td>4.93</td>\n",
       "      <td>4.73</td>\n",
       "      <td>4.69</td>\n",
       "      <td>NaN</td>\n",
       "      <td>t</td>\n",
       "      <td>3</td>\n",
       "      <td>3</td>\n",
       "      <td>0</td>\n",
       "      <td>0</td>\n",
       "      <td>2.94</td>\n",
       "    </tr>\n",
       "  </tbody>\n",
       "</table>\n",
       "<p>2 rows × 74 columns</p>\n",
       "</div>"
      ],
      "text/plain": [
       "      id                         listing_url       scrape_id last_scraped  \\\n",
       "0  15883  https://www.airbnb.com/rooms/15883  20210707180333   2021-07-08   \n",
       "1  38768  https://www.airbnb.com/rooms/38768  20210707180333   2021-07-08   \n",
       "\n",
       "                                               name  \\\n",
       "0                         b&b near Old Danube river   \n",
       "1  central cityapartement- wifi- nice neighbourhood   \n",
       "\n",
       "                                         description  \\\n",
       "0  Four rooms, each one differently and individua...   \n",
       "1  39m² apartment with beautiful courtyard of the...   \n",
       "\n",
       "                               neighborhood_overview  \\\n",
       "0  small and personal<br /><br />Four rooms at th...   \n",
       "1  the Karmeliterviertel became very popular in t...   \n",
       "\n",
       "                                         picture_url  host_id  \\\n",
       "0  https://a0.muscache.com/pictures/18eff738-a737...    62142   \n",
       "1  https://a0.muscache.com/pictures/ad4089a3-5355...   166283   \n",
       "\n",
       "                                   host_url  ... review_scores_communication  \\\n",
       "0   https://www.airbnb.com/users/show/62142  ...                        4.91   \n",
       "1  https://www.airbnb.com/users/show/166283  ...                        4.93   \n",
       "\n",
       "  review_scores_location review_scores_value license instant_bookable  \\\n",
       "0                   4.64                4.45     NaN                f   \n",
       "1                   4.73                4.69     NaN                t   \n",
       "\n",
       "  calculated_host_listings_count calculated_host_listings_count_entire_homes  \\\n",
       "0                              3                                           1   \n",
       "1                              3                                           3   \n",
       "\n",
       "  calculated_host_listings_count_private_rooms  \\\n",
       "0                                            0   \n",
       "1                                            0   \n",
       "\n",
       "  calculated_host_listings_count_shared_rooms reviews_per_month  \n",
       "0                                           0              0.25  \n",
       "1                                           0              2.94  \n",
       "\n",
       "[2 rows x 74 columns]"
      ]
     },
     "execution_count": 4,
     "metadata": {},
     "output_type": "execute_result"
    }
   ],
   "source": [
    "listings.head(2)"
   ]
  },
  {
   "cell_type": "code",
   "execution_count": 5,
   "id": "d49815d5",
   "metadata": {},
   "outputs": [],
   "source": [
    "#listings_summarized.head(2)"
   ]
  },
  {
   "cell_type": "code",
   "execution_count": 6,
   "id": "44c49d53",
   "metadata": {},
   "outputs": [],
   "source": [
    "# reviews.head(2)"
   ]
  },
  {
   "cell_type": "markdown",
   "id": "01ced111",
   "metadata": {},
   "source": [
    "Calendar includes daily prices for up to a year. Monthly aggregation, or just simple overall median can be taken.."
   ]
  },
  {
   "cell_type": "code",
   "execution_count": 7,
   "id": "6f627989",
   "metadata": {},
   "outputs": [],
   "source": [
    "#calendar.head(2)"
   ]
  },
  {
   "cell_type": "markdown",
   "id": "682912ce",
   "metadata": {},
   "source": [
    "Neighborhood groups will be used to reduce cardinality of neighborhood feature"
   ]
  },
  {
   "cell_type": "code",
   "execution_count": 8,
   "id": "01d4e467",
   "metadata": {},
   "outputs": [
    {
     "data": {
      "text/html": [
       "<div>\n",
       "<style scoped>\n",
       "    .dataframe tbody tr th:only-of-type {\n",
       "        vertical-align: middle;\n",
       "    }\n",
       "\n",
       "    .dataframe tbody tr th {\n",
       "        vertical-align: top;\n",
       "    }\n",
       "\n",
       "    .dataframe thead th {\n",
       "        text-align: right;\n",
       "    }\n",
       "</style>\n",
       "<table border=\"1\" class=\"dataframe\">\n",
       "  <thead>\n",
       "    <tr style=\"text-align: right;\">\n",
       "      <th></th>\n",
       "      <th>neighbourhood_group</th>\n",
       "      <th>neighbourhood</th>\n",
       "    </tr>\n",
       "  </thead>\n",
       "  <tbody>\n",
       "    <tr>\n",
       "      <th>0</th>\n",
       "      <td>NaN</td>\n",
       "      <td>Alsergrund</td>\n",
       "    </tr>\n",
       "    <tr>\n",
       "      <th>1</th>\n",
       "      <td>NaN</td>\n",
       "      <td>Brigittenau</td>\n",
       "    </tr>\n",
       "  </tbody>\n",
       "</table>\n",
       "</div>"
      ],
      "text/plain": [
       "   neighbourhood_group neighbourhood\n",
       "0                  NaN    Alsergrund\n",
       "1                  NaN   Brigittenau"
      ]
     },
     "execution_count": 8,
     "metadata": {},
     "output_type": "execute_result"
    }
   ],
   "source": [
    "neighborhoods.head(2)"
   ]
  },
  {
   "cell_type": "code",
   "execution_count": 9,
   "id": "f42510a9",
   "metadata": {},
   "outputs": [
    {
     "name": "stdout",
     "output_type": "stream",
     "text": [
      "0\n",
      "23\n"
     ]
    }
   ],
   "source": [
    "print(neighborhoods['neighbourhood_group'].nunique())\n",
    "print(neighborhoods['neighbourhood'].nunique())"
   ]
  },
  {
   "cell_type": "code",
   "execution_count": null,
   "id": "de999695",
   "metadata": {},
   "outputs": [],
   "source": []
  },
  {
   "cell_type": "markdown",
   "id": "9f927319",
   "metadata": {},
   "source": [
    "## 1 Clean the calendar"
   ]
  },
  {
   "cell_type": "code",
   "execution_count": 10,
   "id": "d8a20965",
   "metadata": {},
   "outputs": [],
   "source": [
    "#calendar.head(2)"
   ]
  },
  {
   "cell_type": "code",
   "execution_count": 11,
   "id": "5bdcd3cd",
   "metadata": {},
   "outputs": [],
   "source": [
    "#calendar = calendar[calendar['price'].notnull()]"
   ]
  },
  {
   "cell_type": "code",
   "execution_count": 12,
   "id": "dfa31061",
   "metadata": {},
   "outputs": [],
   "source": [
    "# calendar['price'] = calendar['price'].apply(lambda x: float(x.replace('$', '').replace(',', '')))\n",
    "# calendar['adjusted_price'] = calendar['adjusted_price'].apply(lambda x: float(x.replace('$', '').replace(',', '')))\n",
    "\n",
    "# calendar = calendar[calendar['price'] != 0] # no price means no target value\n",
    "# calendar.drop('adjusted_price', 1, inplace = True) # dont want to incorporate promotions, etc..."
   ]
  },
  {
   "cell_type": "markdown",
   "id": "55146fdc",
   "metadata": {},
   "source": [
    "#### Aggregating listing prices monthly"
   ]
  },
  {
   "cell_type": "code",
   "execution_count": 13,
   "id": "3803fece",
   "metadata": {},
   "outputs": [],
   "source": [
    "# calendar['year'] = pd.to_datetime(calendar['date']).dt.year\n",
    "# calendar['month'] = pd.to_datetime(calendar['date']).dt.month"
   ]
  },
  {
   "cell_type": "code",
   "execution_count": 14,
   "id": "fd29d938",
   "metadata": {},
   "outputs": [],
   "source": [
    "# price_calendar = calendar.groupby(['listing_id', 'year', 'month']).agg({'price' : 'median', 'minimum_nights' : 'median', 'maximum_nights' : 'median'}).reset_index()\n",
    "# price_calendar.head(3)"
   ]
  },
  {
   "cell_type": "markdown",
   "id": "2699a6c6",
   "metadata": {},
   "source": [
    "The calendar may not be used afterall, the listings file has a price point for the day of scraping. That price is going to be predicted with the available, respective-in-time features"
   ]
  },
  {
   "cell_type": "markdown",
   "id": "269295f2",
   "metadata": {},
   "source": [
    "## 2 Clean listings"
   ]
  },
  {
   "cell_type": "code",
   "execution_count": 15,
   "id": "c5ad0380",
   "metadata": {},
   "outputs": [],
   "source": [
    "to_drop = ['scrape_id', 'last_scraped', 'picture_url', \n",
    "           'host_id', 'host_thumbnail_url', 'host_picture_url',\n",
    "           'calendar_last_scraped', 'host_location', 'host_verifications', 'property_type']\n",
    "\n",
    "# will keep until modeling: listing_url, host_url, host_name\n",
    "\n",
    "listings.drop(to_drop, 1, inplace = True)"
   ]
  },
  {
   "cell_type": "markdown",
   "id": "6680e3f5",
   "metadata": {},
   "source": [
    "#### Check missing ratios"
   ]
  },
  {
   "cell_type": "code",
   "execution_count": 16,
   "id": "b89b3cce",
   "metadata": {},
   "outputs": [
    {
     "data": {
      "text/plain": [
       "neighborhood_overview           0.444692\n",
       "host_about                      0.470186\n",
       "host_response_time              0.410044\n",
       "host_response_rate              0.410044\n",
       "host_acceptance_rate            0.399264\n",
       "neighbourhood                   0.444692\n",
       "neighbourhood_group_cleansed    1.000000\n",
       "bathrooms                       1.000000\n",
       "calendar_updated                1.000000\n",
       "license                         1.000000\n",
       "dtype: float64"
      ]
     },
     "execution_count": 16,
     "metadata": {},
     "output_type": "execute_result"
    }
   ],
   "source": [
    "check_nan = (listings.isnull().sum() / listings.shape[0])[(listings.isnull().sum() / listings.shape[0]) > 1/3]\n",
    "check_nan"
   ]
  },
  {
   "cell_type": "code",
   "execution_count": 17,
   "id": "6c976b78",
   "metadata": {},
   "outputs": [
    {
     "name": "stdout",
     "output_type": "stream",
     "text": [
      "Index(['neighborhood_overview', 'host_about', 'host_response_time',\n",
      "       'host_response_rate', 'host_acceptance_rate', 'neighbourhood',\n",
      "       'neighbourhood_group_cleansed', 'bathrooms', 'calendar_updated',\n",
      "       'license'],\n",
      "      dtype='object')\n"
     ]
    }
   ],
   "source": [
    "to_drop = check_nan.index\n",
    "print(to_drop)"
   ]
  },
  {
   "cell_type": "markdown",
   "id": "6ef8e3a3",
   "metadata": {},
   "source": [
    "Create features indicating missing or filled info:\n",
    "- host has description\n",
    "- neighborhood has description\n",
    "\n",
    "Delete remaining features with many NaNs"
   ]
  },
  {
   "cell_type": "code",
   "execution_count": 18,
   "id": "3e8adc11",
   "metadata": {},
   "outputs": [],
   "source": [
    "listings['description_host'] = listings['host_about'].apply(lambda x: 1 if x is np.nan else 0)\n",
    "listings['description_neighbourhood'] = listings['neighborhood_overview'].apply(lambda x: 1 if x is np.nan else 0)\n",
    "\n",
    "listings.drop(to_drop, 1, inplace = True)"
   ]
  },
  {
   "cell_type": "markdown",
   "id": "9407b0ba",
   "metadata": {},
   "source": [
    "#### Check True/False features"
   ]
  },
  {
   "cell_type": "code",
   "execution_count": 19,
   "id": "754cb9b3",
   "metadata": {},
   "outputs": [
    {
     "name": "stdout",
     "output_type": "stream",
     "text": [
      "['host_is_superhost', 'host_has_profile_pic', 'host_identity_verified', 'has_availability', 'instant_bookable']\n"
     ]
    }
   ],
   "source": [
    "true_false_columns = listings.select_dtypes('O').loc[:, listings.nunique() == 2].columns.tolist()\n",
    "true_false_columns = [i for i in true_false_columns if i != 'neighbourhood_group_cleansed']\n",
    "print(true_false_columns)"
   ]
  },
  {
   "cell_type": "code",
   "execution_count": 20,
   "id": "9f93cf8b",
   "metadata": {},
   "outputs": [
    {
     "data": {
      "text/plain": [
       "host_is_superhost         103\n",
       "host_has_profile_pic      103\n",
       "host_identity_verified    103\n",
       "has_availability            0\n",
       "instant_bookable            0\n",
       "dtype: int64"
      ]
     },
     "execution_count": 20,
     "metadata": {},
     "output_type": "execute_result"
    }
   ],
   "source": [
    "listings[true_false_columns].isnull().sum()"
   ]
  },
  {
   "cell_type": "code",
   "execution_count": 21,
   "id": "8a37b71d",
   "metadata": {},
   "outputs": [],
   "source": [
    "listings = listings[listings['host_is_superhost'].notnull()]"
   ]
  },
  {
   "cell_type": "code",
   "execution_count": 22,
   "id": "91a27df0",
   "metadata": {},
   "outputs": [],
   "source": [
    "for col in true_false_columns:\n",
    "    listings[col] = listings[col].apply(lambda x: 1 if x == 't' else 0)"
   ]
  },
  {
   "cell_type": "markdown",
   "id": "9c912d46",
   "metadata": {},
   "source": [
    "#### Check categorical features"
   ]
  },
  {
   "cell_type": "code",
   "execution_count": 23,
   "id": "c526eb94",
   "metadata": {},
   "outputs": [
    {
     "data": {
      "text/html": [
       "<div>\n",
       "<style scoped>\n",
       "    .dataframe tbody tr th:only-of-type {\n",
       "        vertical-align: middle;\n",
       "    }\n",
       "\n",
       "    .dataframe tbody tr th {\n",
       "        vertical-align: top;\n",
       "    }\n",
       "\n",
       "    .dataframe thead th {\n",
       "        text-align: right;\n",
       "    }\n",
       "</style>\n",
       "<table border=\"1\" class=\"dataframe\">\n",
       "  <thead>\n",
       "    <tr style=\"text-align: right;\">\n",
       "      <th></th>\n",
       "      <th>count</th>\n",
       "      <th>unique</th>\n",
       "      <th>top</th>\n",
       "      <th>freq</th>\n",
       "    </tr>\n",
       "  </thead>\n",
       "  <tbody>\n",
       "    <tr>\n",
       "      <th>listing_url</th>\n",
       "      <td>11586</td>\n",
       "      <td>11586</td>\n",
       "      <td>https://www.airbnb.com/rooms/14698762</td>\n",
       "      <td>1</td>\n",
       "    </tr>\n",
       "    <tr>\n",
       "      <th>name</th>\n",
       "      <td>11572</td>\n",
       "      <td>11290</td>\n",
       "      <td>Space Homes - Inner City</td>\n",
       "      <td>14</td>\n",
       "    </tr>\n",
       "    <tr>\n",
       "      <th>description</th>\n",
       "      <td>11201</td>\n",
       "      <td>10512</td>\n",
       "      <td>Im März 2020 wurde dieses Haus mit Einheiten i...</td>\n",
       "      <td>31</td>\n",
       "    </tr>\n",
       "    <tr>\n",
       "      <th>host_url</th>\n",
       "      <td>11586</td>\n",
       "      <td>6682</td>\n",
       "      <td>https://www.airbnb.com/users/show/378060726</td>\n",
       "      <td>243</td>\n",
       "    </tr>\n",
       "    <tr>\n",
       "      <th>host_name</th>\n",
       "      <td>11586</td>\n",
       "      <td>2767</td>\n",
       "      <td>Svetlana</td>\n",
       "      <td>244</td>\n",
       "    </tr>\n",
       "    <tr>\n",
       "      <th>host_since</th>\n",
       "      <td>11586</td>\n",
       "      <td>2816</td>\n",
       "      <td>2020-12-03</td>\n",
       "      <td>243</td>\n",
       "    </tr>\n",
       "    <tr>\n",
       "      <th>host_neighbourhood</th>\n",
       "      <td>8545</td>\n",
       "      <td>47</td>\n",
       "      <td>Leopoldstadt</td>\n",
       "      <td>907</td>\n",
       "    </tr>\n",
       "    <tr>\n",
       "      <th>neighbourhood_cleansed</th>\n",
       "      <td>11586</td>\n",
       "      <td>23</td>\n",
       "      <td>Leopoldstadt</td>\n",
       "      <td>1237</td>\n",
       "    </tr>\n",
       "    <tr>\n",
       "      <th>room_type</th>\n",
       "      <td>11586</td>\n",
       "      <td>4</td>\n",
       "      <td>Entire home/apt</td>\n",
       "      <td>8618</td>\n",
       "    </tr>\n",
       "    <tr>\n",
       "      <th>bathrooms_text</th>\n",
       "      <td>11574</td>\n",
       "      <td>30</td>\n",
       "      <td>1 bath</td>\n",
       "      <td>6946</td>\n",
       "    </tr>\n",
       "    <tr>\n",
       "      <th>amenities</th>\n",
       "      <td>11586</td>\n",
       "      <td>9878</td>\n",
       "      <td>[\"Wifi\", \"Long term stays allowed\", \"Kitchen\"]</td>\n",
       "      <td>243</td>\n",
       "    </tr>\n",
       "    <tr>\n",
       "      <th>price</th>\n",
       "      <td>11586</td>\n",
       "      <td>349</td>\n",
       "      <td>$50.00</td>\n",
       "      <td>403</td>\n",
       "    </tr>\n",
       "    <tr>\n",
       "      <th>first_review</th>\n",
       "      <td>8905</td>\n",
       "      <td>2333</td>\n",
       "      <td>2020-01-02</td>\n",
       "      <td>42</td>\n",
       "    </tr>\n",
       "    <tr>\n",
       "      <th>last_review</th>\n",
       "      <td>8905</td>\n",
       "      <td>1745</td>\n",
       "      <td>2020-01-02</td>\n",
       "      <td>106</td>\n",
       "    </tr>\n",
       "  </tbody>\n",
       "</table>\n",
       "</div>"
      ],
      "text/plain": [
       "                        count unique  \\\n",
       "listing_url             11586  11586   \n",
       "name                    11572  11290   \n",
       "description             11201  10512   \n",
       "host_url                11586   6682   \n",
       "host_name               11586   2767   \n",
       "host_since              11586   2816   \n",
       "host_neighbourhood       8545     47   \n",
       "neighbourhood_cleansed  11586     23   \n",
       "room_type               11586      4   \n",
       "bathrooms_text          11574     30   \n",
       "amenities               11586   9878   \n",
       "price                   11586    349   \n",
       "first_review             8905   2333   \n",
       "last_review              8905   1745   \n",
       "\n",
       "                                                                      top  \\\n",
       "listing_url                         https://www.airbnb.com/rooms/14698762   \n",
       "name                                             Space Homes - Inner City   \n",
       "description             Im März 2020 wurde dieses Haus mit Einheiten i...   \n",
       "host_url                      https://www.airbnb.com/users/show/378060726   \n",
       "host_name                                                        Svetlana   \n",
       "host_since                                                     2020-12-03   \n",
       "host_neighbourhood                                           Leopoldstadt   \n",
       "neighbourhood_cleansed                                       Leopoldstadt   \n",
       "room_type                                                 Entire home/apt   \n",
       "bathrooms_text                                                     1 bath   \n",
       "amenities                  [\"Wifi\", \"Long term stays allowed\", \"Kitchen\"]   \n",
       "price                                                              $50.00   \n",
       "first_review                                                   2020-01-02   \n",
       "last_review                                                    2020-01-02   \n",
       "\n",
       "                        freq  \n",
       "listing_url                1  \n",
       "name                      14  \n",
       "description               31  \n",
       "host_url                 243  \n",
       "host_name                244  \n",
       "host_since               243  \n",
       "host_neighbourhood       907  \n",
       "neighbourhood_cleansed  1237  \n",
       "room_type               8618  \n",
       "bathrooms_text          6946  \n",
       "amenities                243  \n",
       "price                    403  \n",
       "first_review              42  \n",
       "last_review              106  "
      ]
     },
     "execution_count": 23,
     "metadata": {},
     "output_type": "execute_result"
    }
   ],
   "source": [
    "listings.describe(include = 'O').T"
   ]
  },
  {
   "cell_type": "markdown",
   "id": "ad7886b5",
   "metadata": {},
   "source": [
    "The following features need to be converted to floats:\n",
    "\n",
    "- host since (years ago)\n",
    "- host response rate (0-1 float)\n",
    "- host acceptance rate (0-1 float)\n",
    "- bathrooms (count)\n",
    "- price\n",
    "- first review (years ago)\n",
    "- last review (years ago)\n",
    "\n",
    "The following features will need to be 'exploded' / 'one-hot-encoded':\n",
    "- amenities (for all amenities a has_amenity true/false feature will be created\n",
    "\n",
    "The following features will be grouped to reduce cardinality:\n",
    "- property type\n",
    "- neighborhoods"
   ]
  },
  {
   "cell_type": "markdown",
   "id": "82469530",
   "metadata": {},
   "source": [
    "Neighbourhoods"
   ]
  },
  {
   "cell_type": "code",
   "execution_count": 24,
   "id": "b03c25d6",
   "metadata": {},
   "outputs": [
    {
     "name": "stdout",
     "output_type": "stream",
     "text": [
      "['Leopoldstadt', 'Landstra§e', 'Rudolfsheim-F\\x9fnfhaus', 'Alsergrund', 'Neubau', 'Margareten', 'Innere Stadt', 'Favoriten', 'Mariahilf', 'Ottakring']\n"
     ]
    }
   ],
   "source": [
    "top_neighborhoods = listings['neighbourhood_cleansed'].value_counts().head(10).index.tolist()\n",
    "print(top_neighborhoods)"
   ]
  },
  {
   "cell_type": "code",
   "execution_count": 25,
   "id": "0a0ec540",
   "metadata": {},
   "outputs": [],
   "source": [
    "if neighborhoods['neighbourhood_group'].nunique() == 0 or neighborhoods['neighbourhood_group'].nunique() >= 3:  \n",
    "    \n",
    "    if listings['neighbourhood_cleansed'].nunique() <= 10:        \n",
    "        listings['neighbourhood_cleansed_grouped'] = listings['neighbourhood_cleansed'].copy()\n",
    "        \n",
    "    else:\n",
    "        listings['neighbourhood_cleansed_grouped'] = listings['neighbourhood_cleansed'].apply(lambda x: x if x in top_neighborhoods else 'Other')\n",
    "\n",
    "else:\n",
    "    \n",
    "    listings['neighbourhood_cleansed_grouped'] = listings['neighbourhood_cleansed'].apply(lambda x: x if x in top_neighborhoods else 'Other')\n",
    "    \n",
    "    if 'neighbourhood_group_cleansed' in listings.columns:\n",
    "        \n",
    "        for i in listings['neighbourhood_group_cleansed'].unique():\n",
    "    \n",
    "            listings.loc[(listings['neighbourhood_cleansed_grouped'] == 'Other') &\n",
    "                         (listings['neighbourhood_group_cleansed'] == i), 'neighbourhood_cleansed_grouped'] = 'Other in ' + i"
   ]
  },
  {
   "cell_type": "code",
   "execution_count": null,
   "id": "97975dcc",
   "metadata": {},
   "outputs": [],
   "source": []
  },
  {
   "cell_type": "markdown",
   "id": "749137e2",
   "metadata": {},
   "source": [
    "Everything else"
   ]
  },
  {
   "cell_type": "code",
   "execution_count": 26,
   "id": "0d7133fd",
   "metadata": {},
   "outputs": [],
   "source": [
    "today_date = pd.to_datetime('2021-08-30')\n",
    "\n",
    "listings['host_since_years'] = (today_date - pd.to_datetime(listings['host_since'])).dt.days / 365\n",
    "listings['first_review_years'] = (today_date - pd.to_datetime(listings['first_review'])).dt.days / 365\n",
    "listings['last_review_years'] = (today_date - pd.to_datetime(listings['last_review'])).dt.days / 365\n",
    "\n",
    "if 'host_response_rate' in listings.columns:\n",
    "    listings['host_response_rate'] = listings['host_response_rate'].apply(lambda x: float(x.replace('%', '')) / 100 if type(x) == str else x)\n",
    "\n",
    "if 'host_acceptance_rate' in listings.columns:\n",
    "    listings['host_acceptance_rate'] = listings['host_acceptance_rate'].apply(lambda x: float(x.replace('%', '')) / 100 if type(x) == str else x)\n",
    "\n",
    "listings['price'] = listings['price'].apply(lambda x: float(x.replace('$', '').replace(',', '')))\n",
    "\n",
    "bath_replace = {'Shared half-bath' : '0.5 shared baths', \n",
    "                'Half-bath' : '0.5 baths',\n",
    "                'Private half-bath' : '0.5 baths'}\n",
    "listings['bathrooms_text'] = listings['bathrooms_text'].replace(bath_replace)\n",
    "listings['bathrooms_are_shared'] = listings['bathrooms_text'].apply(lambda x: 1 if 'shared' in str(x).lower() else 0)\n",
    "listings['bathrooms_count'] = listings['bathrooms_text'].apply(lambda x: float(str(x).split(' ')[0]))\n",
    "\n",
    "host_response_time_replace = {'within an hour' : 'within_hour', 'within a few hours' : 'within_few_hours', 'within a day' : 'within_day', 'a few days or more' : 'few_days'}\n",
    "if 'host_response_time' in listings.columns:\n",
    "    listings['host_response_time'] = listings['host_response_time'].replace(host_response_time_replace)\n",
    "\n",
    "room_type_replace = {'Entire home/apt' : 'entire_place', 'Private room' : 'private_room', 'Hotel room' : 'hotel_room', 'Shared room' : 'shared_room'}\n",
    "listings['room_type'] = listings['room_type'].replace(room_type_replace)\n",
    "\n",
    "listings.drop(['first_review', 'last_review', # host_since can be used to analyze host registrations\n",
    "               'bathrooms_text'], 1, inplace = True)"
   ]
  },
  {
   "cell_type": "code",
   "execution_count": 27,
   "id": "47f67f84",
   "metadata": {},
   "outputs": [
    {
     "data": {
      "text/html": [
       "<div>\n",
       "<style scoped>\n",
       "    .dataframe tbody tr th:only-of-type {\n",
       "        vertical-align: middle;\n",
       "    }\n",
       "\n",
       "    .dataframe tbody tr th {\n",
       "        vertical-align: top;\n",
       "    }\n",
       "\n",
       "    .dataframe thead th {\n",
       "        text-align: right;\n",
       "    }\n",
       "</style>\n",
       "<table border=\"1\" class=\"dataframe\">\n",
       "  <thead>\n",
       "    <tr style=\"text-align: right;\">\n",
       "      <th></th>\n",
       "      <th>count</th>\n",
       "      <th>unique</th>\n",
       "      <th>top</th>\n",
       "      <th>freq</th>\n",
       "    </tr>\n",
       "  </thead>\n",
       "  <tbody>\n",
       "    <tr>\n",
       "      <th>listing_url</th>\n",
       "      <td>11586</td>\n",
       "      <td>11586</td>\n",
       "      <td>https://www.airbnb.com/rooms/14698762</td>\n",
       "      <td>1</td>\n",
       "    </tr>\n",
       "    <tr>\n",
       "      <th>name</th>\n",
       "      <td>11572</td>\n",
       "      <td>11290</td>\n",
       "      <td>Space Homes - Inner City</td>\n",
       "      <td>14</td>\n",
       "    </tr>\n",
       "    <tr>\n",
       "      <th>description</th>\n",
       "      <td>11201</td>\n",
       "      <td>10512</td>\n",
       "      <td>Im März 2020 wurde dieses Haus mit Einheiten i...</td>\n",
       "      <td>31</td>\n",
       "    </tr>\n",
       "    <tr>\n",
       "      <th>host_url</th>\n",
       "      <td>11586</td>\n",
       "      <td>6682</td>\n",
       "      <td>https://www.airbnb.com/users/show/378060726</td>\n",
       "      <td>243</td>\n",
       "    </tr>\n",
       "    <tr>\n",
       "      <th>host_name</th>\n",
       "      <td>11586</td>\n",
       "      <td>2767</td>\n",
       "      <td>Svetlana</td>\n",
       "      <td>244</td>\n",
       "    </tr>\n",
       "    <tr>\n",
       "      <th>host_since</th>\n",
       "      <td>11586</td>\n",
       "      <td>2816</td>\n",
       "      <td>2020-12-03</td>\n",
       "      <td>243</td>\n",
       "    </tr>\n",
       "    <tr>\n",
       "      <th>host_neighbourhood</th>\n",
       "      <td>8545</td>\n",
       "      <td>47</td>\n",
       "      <td>Leopoldstadt</td>\n",
       "      <td>907</td>\n",
       "    </tr>\n",
       "    <tr>\n",
       "      <th>neighbourhood_cleansed</th>\n",
       "      <td>11586</td>\n",
       "      <td>23</td>\n",
       "      <td>Leopoldstadt</td>\n",
       "      <td>1237</td>\n",
       "    </tr>\n",
       "    <tr>\n",
       "      <th>room_type</th>\n",
       "      <td>11586</td>\n",
       "      <td>4</td>\n",
       "      <td>entire_place</td>\n",
       "      <td>8618</td>\n",
       "    </tr>\n",
       "    <tr>\n",
       "      <th>amenities</th>\n",
       "      <td>11586</td>\n",
       "      <td>9878</td>\n",
       "      <td>[\"Wifi\", \"Long term stays allowed\", \"Kitchen\"]</td>\n",
       "      <td>243</td>\n",
       "    </tr>\n",
       "    <tr>\n",
       "      <th>neighbourhood_cleansed_grouped</th>\n",
       "      <td>11586</td>\n",
       "      <td>11</td>\n",
       "      <td>Other</td>\n",
       "      <td>3900</td>\n",
       "    </tr>\n",
       "  </tbody>\n",
       "</table>\n",
       "</div>"
      ],
      "text/plain": [
       "                                count unique  \\\n",
       "listing_url                     11586  11586   \n",
       "name                            11572  11290   \n",
       "description                     11201  10512   \n",
       "host_url                        11586   6682   \n",
       "host_name                       11586   2767   \n",
       "host_since                      11586   2816   \n",
       "host_neighbourhood               8545     47   \n",
       "neighbourhood_cleansed          11586     23   \n",
       "room_type                       11586      4   \n",
       "amenities                       11586   9878   \n",
       "neighbourhood_cleansed_grouped  11586     11   \n",
       "\n",
       "                                                                              top  \\\n",
       "listing_url                                 https://www.airbnb.com/rooms/14698762   \n",
       "name                                                     Space Homes - Inner City   \n",
       "description                     Im März 2020 wurde dieses Haus mit Einheiten i...   \n",
       "host_url                              https://www.airbnb.com/users/show/378060726   \n",
       "host_name                                                                Svetlana   \n",
       "host_since                                                             2020-12-03   \n",
       "host_neighbourhood                                                   Leopoldstadt   \n",
       "neighbourhood_cleansed                                               Leopoldstadt   \n",
       "room_type                                                            entire_place   \n",
       "amenities                          [\"Wifi\", \"Long term stays allowed\", \"Kitchen\"]   \n",
       "neighbourhood_cleansed_grouped                                              Other   \n",
       "\n",
       "                                freq  \n",
       "listing_url                        1  \n",
       "name                              14  \n",
       "description                       31  \n",
       "host_url                         243  \n",
       "host_name                        244  \n",
       "host_since                       243  \n",
       "host_neighbourhood               907  \n",
       "neighbourhood_cleansed          1237  \n",
       "room_type                       8618  \n",
       "amenities                        243  \n",
       "neighbourhood_cleansed_grouped  3900  "
      ]
     },
     "execution_count": 27,
     "metadata": {},
     "output_type": "execute_result"
    }
   ],
   "source": [
    "listings.describe(include = 'O').T"
   ]
  },
  {
   "cell_type": "markdown",
   "id": "1bbd11d3",
   "metadata": {},
   "source": [
    "And now to treat the amenities"
   ]
  },
  {
   "cell_type": "code",
   "execution_count": 28,
   "id": "32c82d4b",
   "metadata": {},
   "outputs": [],
   "source": [
    "listings['amenities'] = listings['amenities'].apply(lambda x: literal_eval(x))"
   ]
  },
  {
   "cell_type": "code",
   "execution_count": 29,
   "id": "2b25c05b",
   "metadata": {},
   "outputs": [
    {
     "data": {
      "text/plain": [
       "581"
      ]
     },
     "execution_count": 29,
     "metadata": {},
     "output_type": "execute_result"
    }
   ],
   "source": [
    "len(set().union(*listings['amenities']))"
   ]
  },
  {
   "cell_type": "code",
   "execution_count": 30,
   "id": "5d09defd",
   "metadata": {},
   "outputs": [],
   "source": [
    "def consolidate_amenities_lists(amenities_list):\n",
    "    \n",
    "    consolidated_list = ['TV' if 'tv' in str(i).lower() else i for i in amenities_list]\n",
    "    consolidated_list = ['Free parking' if ('free' in str(i).lower() and 'parking' in str(i).lower()) else i for i in consolidated_list]\n",
    "    consolidated_list = ['Free parking' if ('complimentary' in str(i).lower() and 'parking' in str(i).lower()) else i for i in consolidated_list]\n",
    "    consolidated_list = ['Free parking' if ('free' in str(i).lower() and 'garage' in str(i).lower()) else i for i in consolidated_list]\n",
    "    consolidated_list = ['Paid parking' if ('paid' in str(i).lower() and 'parking' in str(i).lower())else i for i in consolidated_list]\n",
    "    consolidated_list = ['Air conditioning' if 'air conditioning' in str(i).lower() else i for i in consolidated_list]\n",
    "    consolidated_list = ['Clothing storage' if 'clothing storage' in str(i).lower() else i for i in consolidated_list]\n",
    "    consolidated_list = ['Refrigerator' if 'refrigerator' in str(i).lower() else i for i in consolidated_list]\n",
    "    consolidated_list = ['Refrigerator' if 'fridge' in str(i).lower() else i for i in consolidated_list]\n",
    "    consolidated_list = ['Washer' if 'washer' in str(i).lower() else i for i in consolidated_list]\n",
    "    consolidated_list = ['Oven' if 'oven' in str(i).lower() else i for i in consolidated_list]\n",
    "    consolidated_list = ['Soap' if 'soap' in str(i).lower() else i for i in consolidated_list]\n",
    "    consolidated_list = ['Stove' if 'stove' in str(i).lower() else i for i in consolidated_list]\n",
    "    consolidated_list = ['Shower' if 'shower' in str(i).lower() else i for i in consolidated_list]\n",
    "    consolidated_list = ['Bath' if 'bath' in str(i).lower() else i for i in consolidated_list]\n",
    "    consolidated_list = ['Refrigerator' if 'cooler' in str(i).lower() else i for i in consolidated_list]\n",
    "    consolidated_list = ['Shampoo' if 'shampoo' in str(i).lower() else i for i in consolidated_list]\n",
    "    consolidated_list = ['Conditioner' if 'conditioner' in str(i).lower() else i for i in consolidated_list]\n",
    "    consolidated_list = ['Sound system' if 'sound system' in str(i).lower() else i for i in consolidated_list]\n",
    "    consolidated_list = ['Essentials' if 'essentials' in str(i).lower() else i for i in consolidated_list]\n",
    "    consolidated_list = ['Children stuff' if 'children' in str(i).lower() else i for i in consolidated_list]\n",
    "    consolidated_list = ['Workspace' if 'workspace' in str(i).lower() else i for i in consolidated_list]\n",
    "    consolidated_list = ['Workspace' if 'office' in str(i).lower() else i for i in consolidated_list]\n",
    "    consolidated_list = ['Dryer' if 'Dryer' in str(i) else i for i in consolidated_list]\n",
    "    consolidated_list = ['Dryer' if ('free' in str(i).lower() and 'dryer' in str(i).lower()) else i for i in consolidated_list]\n",
    "    consolidated_list = ['Dryer' if ('paid' in str(i).lower() and 'dryer' in str(i).lower()) else i for i in consolidated_list]\n",
    "    consolidated_list = ['Wifi' if 'wifi' in str(i).lower() else i for i in consolidated_list]\n",
    "    consolidated_list = ['Wifi' if 'ethernet' in str(i).lower() else i for i in consolidated_list]\n",
    "    consolidated_list = ['Wifi' if 'internet' in str(i).lower() else i for i in consolidated_list]\n",
    "    consolidated_list = ['Heating' if 'heating' in str(i).lower() else i for i in consolidated_list]\n",
    "    consolidated_list = ['Game console' if 'game console' in str(i).lower() else i for i in consolidated_list]\n",
    "    consolidated_list = ['Gym' if 'gym' in str(i).lower() else i for i in consolidated_list]\n",
    "    consolidated_list = ['Coffee maker' if 'coffee' in str(i).lower() else i for i in consolidated_list]\n",
    "    consolidated_list = ['Coffee maker' if 'espresso' in str(i).lower() else i for i in consolidated_list]\n",
    "    consolidated_list = ['Fireplace' if 'fireplace' in str(i).lower() else i for i in consolidated_list]\n",
    "    consolidated_list = ['Fireplace' if 'fire pit' in str(i).lower() else i for i in consolidated_list]\n",
    "        \n",
    "    consolidated_list = list(collections.OrderedDict.fromkeys(consolidated_list))\n",
    "    \n",
    "    return consolidated_list"
   ]
  },
  {
   "cell_type": "code",
   "execution_count": 31,
   "id": "182b1960",
   "metadata": {},
   "outputs": [],
   "source": [
    "listings['amenities'] = listings['amenities'].apply(lambda x: consolidate_amenities_lists(x))"
   ]
  },
  {
   "cell_type": "code",
   "execution_count": 32,
   "id": "9401805e",
   "metadata": {},
   "outputs": [
    {
     "data": {
      "text/plain": [
       "153"
      ]
     },
     "execution_count": 32,
     "metadata": {},
     "output_type": "execute_result"
    }
   ],
   "source": [
    "len(set().union(*listings['amenities']))"
   ]
  },
  {
   "cell_type": "code",
   "execution_count": 33,
   "id": "87cda068",
   "metadata": {},
   "outputs": [
    {
     "data": {
      "text/plain": [
       "{' linens',\n",
       " ' toiletries',\n",
       " 'Air conditioning',\n",
       " 'BBQ grill',\n",
       " 'Baby monitor',\n",
       " 'Baby safety gates',\n",
       " 'Babysitter recommendations',\n",
       " 'Backyard',\n",
       " 'Baking sheet',\n",
       " 'Barbecue utensils',\n",
       " 'Bath',\n",
       " 'Beachfront',\n",
       " 'Bed linens',\n",
       " 'Bed sheets and pillows',\n",
       " 'Bedroom comforts',\n",
       " 'Bidet',\n",
       " 'Bikes',\n",
       " 'Bluetooth speaker',\n",
       " 'Board games',\n",
       " 'Boat slip',\n",
       " 'Bottled water',\n",
       " 'Bread maker',\n",
       " 'Breakfast',\n",
       " 'Breakfast buffet available — €15 per person per day',\n",
       " 'Breakfast buffet available — €16 per person per day',\n",
       " 'Breakfast buffet available — €18 per person per day',\n",
       " 'Breakfast buffet available — €19 per person per day',\n",
       " 'Building staff',\n",
       " 'Carbon monoxide alarm',\n",
       " 'Ceiling fan',\n",
       " 'Changing table',\n",
       " 'Children stuff',\n",
       " 'Cleaning before checkout',\n",
       " 'Cleaning products',\n",
       " 'Clothing storage',\n",
       " 'Coffee maker',\n",
       " 'Concierge',\n",
       " 'Conditioner',\n",
       " 'Cooking basics',\n",
       " 'Crib',\n",
       " 'Dining table',\n",
       " 'Dishes and silverware',\n",
       " 'Dryer',\n",
       " 'Drying rack for clothing',\n",
       " 'EV charger',\n",
       " 'Elevator',\n",
       " 'Essentials',\n",
       " 'Extra pillows and blankets',\n",
       " 'Fenced garden or backyard',\n",
       " 'Fire extinguisher',\n",
       " 'Fireplace',\n",
       " 'First aid kit',\n",
       " 'Free parking',\n",
       " 'Freezer',\n",
       " 'Full kitchen',\n",
       " 'Game console',\n",
       " 'Game room',\n",
       " 'Garden',\n",
       " 'Gym',\n",
       " 'Hair dryer',\n",
       " 'Hangers',\n",
       " 'Heating',\n",
       " 'High chair',\n",
       " 'Host greets you',\n",
       " 'Hot tub',\n",
       " 'Hot water',\n",
       " 'Hot water kettle',\n",
       " 'Housekeeping',\n",
       " 'Indoor heated pool',\n",
       " 'Iron',\n",
       " 'Kayak',\n",
       " 'Keypad',\n",
       " 'Kitchen',\n",
       " 'Kitchenette',\n",
       " 'Lake access',\n",
       " 'Laundromat nearby',\n",
       " 'Laundry services',\n",
       " 'Lock on bedroom door',\n",
       " 'Lockbox',\n",
       " 'Long term stays allowed',\n",
       " 'Luggage dropoff allowed',\n",
       " 'Microwave',\n",
       " 'Minibar',\n",
       " 'Mosquito net',\n",
       " 'Onsite bar',\n",
       " 'Onsite bar — pentalounge',\n",
       " 'Onsite restaurant — Seven North',\n",
       " 'Onsite restaurant — pentalounge',\n",
       " 'Outdoor dining area',\n",
       " 'Outdoor furniture',\n",
       " 'Outlet covers',\n",
       " 'Oven',\n",
       " 'Pack ’n Play/travel crib',\n",
       " 'Paid parking',\n",
       " 'Patio or balcony',\n",
       " 'Pets allowed',\n",
       " 'Piano',\n",
       " 'Ping pong table',\n",
       " 'Pool',\n",
       " 'Pool cover',\n",
       " 'Pool table',\n",
       " 'Pool toys',\n",
       " 'Portable fans',\n",
       " 'Portable heater',\n",
       " 'Private entrance',\n",
       " 'Private fenced garden or backyard',\n",
       " 'Private garden or backyard',\n",
       " 'Private hot tub',\n",
       " 'Private indoor heated pool',\n",
       " 'Private patio or balcony',\n",
       " 'Private sauna',\n",
       " 'Record player',\n",
       " 'Refrigerator',\n",
       " 'Rice maker',\n",
       " 'Room service',\n",
       " 'Room-darkening shades',\n",
       " 'Safe',\n",
       " 'Sauna',\n",
       " 'Security cameras on property',\n",
       " 'Self check-in',\n",
       " 'Self-parking — €19/day',\n",
       " 'Self-parking — €20/day',\n",
       " 'Shampoo',\n",
       " 'Shared fenced garden or backyard',\n",
       " 'Shared garden or backyard',\n",
       " 'Shared hot tub',\n",
       " 'Shared outdoor pool',\n",
       " 'Shared patio or balcony',\n",
       " 'Shared sauna',\n",
       " 'Shower',\n",
       " 'Single level home',\n",
       " 'Ski-in/Ski-out',\n",
       " 'Slippers',\n",
       " 'Smart lock',\n",
       " 'Smoke alarm',\n",
       " 'Soap',\n",
       " 'Sound system',\n",
       " 'Spa',\n",
       " 'Stove',\n",
       " 'TV',\n",
       " 'Table corner guards',\n",
       " 'Toaster',\n",
       " 'Toiletries',\n",
       " 'Trash compactor',\n",
       " 'Turndown service',\n",
       " 'Washer',\n",
       " 'Waterfront',\n",
       " 'Wifi',\n",
       " 'Window AC unit',\n",
       " 'Window guards',\n",
       " 'Wine glasses',\n",
       " 'Workspace',\n",
       " 'zenology toiletries'}"
      ]
     },
     "execution_count": 33,
     "metadata": {},
     "output_type": "execute_result"
    }
   ],
   "source": [
    "set().union(*listings['amenities'])"
   ]
  },
  {
   "cell_type": "markdown",
   "id": "653abbe3",
   "metadata": {},
   "source": [
    "After consolidation check top 20 amenities, keep them for one hot encoding"
   ]
  },
  {
   "cell_type": "code",
   "execution_count": 34,
   "id": "09b54a49",
   "metadata": {},
   "outputs": [
    {
     "data": {
      "text/plain": [
       "[('Wifi', 11179),\n",
       " ('Heating', 10918),\n",
       " ('Kitchen', 10798),\n",
       " ('Essentials', 10560),\n",
       " ('Long term stays allowed', 10120),\n",
       " ('Washer', 9642),\n",
       " ('Hair dryer', 9451),\n",
       " ('Hangers', 9033),\n",
       " ('Workspace', 8448),\n",
       " ('Iron', 8035),\n",
       " ('Hot water', 7274),\n",
       " ('TV', 7050),\n",
       " ('Shampoo', 6847),\n",
       " ('Dishes and silverware', 6303),\n",
       " ('Refrigerator', 6184),\n",
       " ('Cooking basics', 6134),\n",
       " ('Stove', 5591),\n",
       " ('Coffee maker', 5540),\n",
       " ('Elevator', 5316),\n",
       " ('Bed linens', 5110)]"
      ]
     },
     "execution_count": 34,
     "metadata": {},
     "output_type": "execute_result"
    }
   ],
   "source": [
    "select_top_amenities = 20\n",
    "\n",
    "flattened_amenities = [item for sublist in listings['amenities'].tolist() for item in sublist]\n",
    "amenities_count = collections.Counter(flattened_amenities)\n",
    "amenities_count.most_common(select_top_amenities)"
   ]
  },
  {
   "cell_type": "code",
   "execution_count": 35,
   "id": "d75652d2",
   "metadata": {},
   "outputs": [
    {
     "data": {
      "image/png": "[encoded data removed]",
      "text/plain": [
       "<Figure size 864x576 with 1 Axes>"
      ]
     },
     "metadata": {
      "needs_background": "light"
     },
     "output_type": "display_data"
    }
   ],
   "source": [
    "wordcloud = WordCloud(min_word_length = 3, background_color = 'white', width = 800, height = 500, \n",
    "                      max_words = 100, random_state = 20202020, min_font_size = 7, prefer_horizontal = 3/4,\n",
    "                      colormap = 'brg')\n",
    "wordcloud.generate_from_frequencies(amenities_count)\n",
    "\n",
    "plt.figure(figsize = (12, 8))\n",
    "plt.imshow(wordcloud, interpolation='bilinear')\n",
    "plt.axis('off')\n",
    "plt.show()\n",
    "\n",
    "# colormaps: https://matplotlib.org/stable/tutorials/colors/colormaps.html"
   ]
  },
  {
   "cell_type": "code",
   "execution_count": 36,
   "id": "6aece889",
   "metadata": {},
   "outputs": [
    {
     "name": "stdout",
     "output_type": "stream",
     "text": [
      "Top amenities included:  ['Wifi', 'Heating', 'Kitchen', 'Essentials', 'Long term stays allowed', 'Washer', 'Hair dryer', 'Hangers', 'Workspace', 'Iron', 'Hot water', 'TV', 'Shampoo', 'Dishes and silverware', 'Refrigerator', 'Cooking basics', 'Stove', 'Coffee maker', 'Elevator', 'Bed linens']\n"
     ]
    }
   ],
   "source": [
    "top_amenities = [i[0] for i in amenities_count.most_common(select_top_amenities)]\n",
    "#top_amenities.extend(['Pets allowed', 'Self check-in'])\n",
    "\n",
    "print('Top amenities included: ', top_amenities)"
   ]
  },
  {
   "cell_type": "code",
   "execution_count": 37,
   "id": "5cf04a35",
   "metadata": {},
   "outputs": [],
   "source": [
    "def reduce_amenities(amenities_list):\n",
    "    \n",
    "    reduced_amenities = ['amenity_' + '_'.join(i.split()).lower() for i in amenities_list if i in top_amenities]\n",
    "    \n",
    "    return sorted(reduced_amenities)"
   ]
  },
  {
   "cell_type": "code",
   "execution_count": 38,
   "id": "527babaf",
   "metadata": {},
   "outputs": [],
   "source": [
    "listings['amenities'] = listings['amenities'].apply(lambda x: reduce_amenities(x))"
   ]
  },
  {
   "cell_type": "code",
   "execution_count": 39,
   "id": "5b805ded",
   "metadata": {},
   "outputs": [],
   "source": [
    "for amenity_col in list(set().union(*listings['amenities'])):       \n",
    "    listings[amenity_col] = listings['amenities'].apply(lambda x: 1 if amenity_col in x else 0)\n",
    "    \n",
    "listings.drop(['amenities'], 1, inplace = True)"
   ]
  },
  {
   "cell_type": "markdown",
   "id": "f7f8aaa1",
   "metadata": {},
   "source": [
    "#### Listing name and description may also be helpful. \n",
    "- Number of words in name\n",
    "- Number of words in description\n",
    "- Maybe some one hot encoding of certain words (luxurious, spacious, etc...)"
   ]
  },
  {
   "cell_type": "code",
   "execution_count": 40,
   "id": "cebe8a8a",
   "metadata": {},
   "outputs": [
    {
     "data": {
      "text/html": [
       "<div>\n",
       "<style scoped>\n",
       "    .dataframe tbody tr th:only-of-type {\n",
       "        vertical-align: middle;\n",
       "    }\n",
       "\n",
       "    .dataframe tbody tr th {\n",
       "        vertical-align: top;\n",
       "    }\n",
       "\n",
       "    .dataframe thead th {\n",
       "        text-align: right;\n",
       "    }\n",
       "</style>\n",
       "<table border=\"1\" class=\"dataframe\">\n",
       "  <thead>\n",
       "    <tr style=\"text-align: right;\">\n",
       "      <th></th>\n",
       "      <th>name</th>\n",
       "      <th>description</th>\n",
       "    </tr>\n",
       "  </thead>\n",
       "  <tbody>\n",
       "    <tr>\n",
       "      <th>0</th>\n",
       "      <td>b&amp;b near Old Danube river</td>\n",
       "      <td>Four rooms, each one differently and individua...</td>\n",
       "    </tr>\n",
       "    <tr>\n",
       "      <th>1</th>\n",
       "      <td>central cityapartement- wifi- nice neighbourhood</td>\n",
       "      <td>39m² apartment with beautiful courtyard of the...</td>\n",
       "    </tr>\n",
       "    <tr>\n",
       "      <th>2</th>\n",
       "      <td>Near Palace Schönbrunn, Apt. 1</td>\n",
       "      <td>Welcome to my Apt. 1!&lt;br /&gt;&lt;br /&gt;This is a 2be...</td>\n",
       "    </tr>\n",
       "    <tr>\n",
       "      <th>3</th>\n",
       "      <td>little studio- next to citycenter- wifi- nice ...</td>\n",
       "      <td>small studio in new renovated old house and ve...</td>\n",
       "    </tr>\n",
       "    <tr>\n",
       "      <th>4</th>\n",
       "      <td>Flat in the Center with Terrace</td>\n",
       "      <td>&lt;b&gt;The space&lt;/b&gt;&lt;br /&gt;My apartment (including ...</td>\n",
       "    </tr>\n",
       "  </tbody>\n",
       "</table>\n",
       "</div>"
      ],
      "text/plain": [
       "                                                name  \\\n",
       "0                          b&b near Old Danube river   \n",
       "1   central cityapartement- wifi- nice neighbourhood   \n",
       "2                     Near Palace Schönbrunn, Apt. 1   \n",
       "3  little studio- next to citycenter- wifi- nice ...   \n",
       "4                    Flat in the Center with Terrace   \n",
       "\n",
       "                                         description  \n",
       "0  Four rooms, each one differently and individua...  \n",
       "1  39m² apartment with beautiful courtyard of the...  \n",
       "2  Welcome to my Apt. 1!<br /><br />This is a 2be...  \n",
       "3  small studio in new renovated old house and ve...  \n",
       "4  <b>The space</b><br />My apartment (including ...  "
      ]
     },
     "execution_count": 40,
     "metadata": {},
     "output_type": "execute_result"
    }
   ],
   "source": [
    "listings[['name', 'description']].head()"
   ]
  },
  {
   "cell_type": "markdown",
   "id": "961618c1",
   "metadata": {},
   "source": [
    "Clean text from non alphabetic characters, stopwords"
   ]
  },
  {
   "cell_type": "code",
   "execution_count": 41,
   "id": "3b0243ed",
   "metadata": {},
   "outputs": [],
   "source": [
    "def process_text(text, remove_stopwords = False):    \n",
    "    text = text.lower()\n",
    "    \n",
    "    # clean text\n",
    "    text = re.compile('<.*?>').sub(' ', text) # html tags\n",
    "    text = re.compile('[^a-z]').sub(' ', text) # nonletters      \n",
    "    text = re.compile('\\s+').sub(' ', text) # whitespaces\n",
    "    text = text.strip() # trailing whitespaces\n",
    "    \n",
    "    if remove_stopwords == True:\n",
    "        \n",
    "        # remove stopwords\n",
    "        text = ' '.join([word for word in text.split() if word not in (stopwords.words('english'))])\n",
    "    \n",
    "    return text"
   ]
  },
  {
   "cell_type": "code",
   "execution_count": 42,
   "id": "648c1219",
   "metadata": {},
   "outputs": [],
   "source": [
    "listings['description_cleaned'] = listings['description'].apply(lambda x: process_text(x) if isinstance(x, float) == False else x)\n",
    "listings['name_cleaned'] = listings['name'].apply(lambda x: process_text(x) if isinstance(x, float) == False else x)"
   ]
  },
  {
   "cell_type": "code",
   "execution_count": 43,
   "id": "3b500bed",
   "metadata": {},
   "outputs": [],
   "source": [
    "listings['name_cleaned_length'] = listings['name_cleaned'].apply(lambda x: len(x.split()) if isinstance(x, float) == False else 0)\n",
    "listings['description_cleaned_length'] = listings['description_cleaned'].apply(lambda x: len(x.split()) if isinstance(x, float) == False else 0)"
   ]
  },
  {
   "cell_type": "code",
   "execution_count": 44,
   "id": "6b404220",
   "metadata": {},
   "outputs": [],
   "source": [
    "listings['name_cleaned_no_stopwords'] = listings['name'].apply(lambda x: process_text(x, remove_stopwords = True) if isinstance(x, float) == False else x)"
   ]
  },
  {
   "cell_type": "code",
   "execution_count": 45,
   "id": "62ff0c13",
   "metadata": {},
   "outputs": [],
   "source": [
    "word_vectorizer = CountVectorizer(ngram_range = (1, 2), analyzer = 'word')\n",
    "sparse_matrix = word_vectorizer.fit_transform(listings['name_cleaned_no_stopwords'].astype(str))\n",
    "frequencies = sum(sparse_matrix).toarray()[0]\n",
    "\n",
    "word_counts = pd.DataFrame(frequencies, index = word_vectorizer.get_feature_names(), columns = ['frequency'])"
   ]
  },
  {
   "cell_type": "code",
   "execution_count": 46,
   "id": "bc432118",
   "metadata": {},
   "outputs": [
    {
     "data": {
      "text/html": [
       "<div>\n",
       "<style scoped>\n",
       "    .dataframe tbody tr th:only-of-type {\n",
       "        vertical-align: middle;\n",
       "    }\n",
       "\n",
       "    .dataframe tbody tr th {\n",
       "        vertical-align: top;\n",
       "    }\n",
       "\n",
       "    .dataframe thead th {\n",
       "        text-align: right;\n",
       "    }\n",
       "</style>\n",
       "<table border=\"1\" class=\"dataframe\">\n",
       "  <thead>\n",
       "    <tr style=\"text-align: right;\">\n",
       "      <th></th>\n",
       "      <th>frequency</th>\n",
       "    </tr>\n",
       "  </thead>\n",
       "  <tbody>\n",
       "    <tr>\n",
       "      <th>apartment</th>\n",
       "      <td>3759</td>\n",
       "    </tr>\n",
       "    <tr>\n",
       "      <th>vienna</th>\n",
       "      <td>2311</td>\n",
       "    </tr>\n",
       "    <tr>\n",
       "      <th>room</th>\n",
       "      <td>1660</td>\n",
       "    </tr>\n",
       "    <tr>\n",
       "      <th>city</th>\n",
       "      <td>1512</td>\n",
       "    </tr>\n",
       "    <tr>\n",
       "      <th>center</th>\n",
       "      <td>1288</td>\n",
       "    </tr>\n",
       "    <tr>\n",
       "      <th>near</th>\n",
       "      <td>1001</td>\n",
       "    </tr>\n",
       "    <tr>\n",
       "      <th>central</th>\n",
       "      <td>872</td>\n",
       "    </tr>\n",
       "    <tr>\n",
       "      <th>flat</th>\n",
       "      <td>816</td>\n",
       "    </tr>\n",
       "    <tr>\n",
       "      <th>cozy</th>\n",
       "      <td>746</td>\n",
       "    </tr>\n",
       "    <tr>\n",
       "      <th>studio</th>\n",
       "      <td>718</td>\n",
       "    </tr>\n",
       "    <tr>\n",
       "      <th>city center</th>\n",
       "      <td>683</td>\n",
       "    </tr>\n",
       "    <tr>\n",
       "      <th>sch</th>\n",
       "      <td>529</td>\n",
       "    </tr>\n",
       "    <tr>\n",
       "      <th>cosy</th>\n",
       "      <td>517</td>\n",
       "    </tr>\n",
       "    <tr>\n",
       "      <th>close</th>\n",
       "      <td>487</td>\n",
       "    </tr>\n",
       "    <tr>\n",
       "      <th>quiet</th>\n",
       "      <td>443</td>\n",
       "    </tr>\n",
       "    <tr>\n",
       "      <th>modern</th>\n",
       "      <td>436</td>\n",
       "    </tr>\n",
       "    <tr>\n",
       "      <th>bright</th>\n",
       "      <td>415</td>\n",
       "    </tr>\n",
       "    <tr>\n",
       "      <th>zimmer</th>\n",
       "      <td>383</td>\n",
       "    </tr>\n",
       "    <tr>\n",
       "      <th>nbrunn</th>\n",
       "      <td>380</td>\n",
       "    </tr>\n",
       "    <tr>\n",
       "      <th>sch nbrunn</th>\n",
       "      <td>380</td>\n",
       "    </tr>\n",
       "  </tbody>\n",
       "</table>\n",
       "</div>"
      ],
      "text/plain": [
       "             frequency\n",
       "apartment         3759\n",
       "vienna            2311\n",
       "room              1660\n",
       "city              1512\n",
       "center            1288\n",
       "near              1001\n",
       "central            872\n",
       "flat               816\n",
       "cozy               746\n",
       "studio             718\n",
       "city center        683\n",
       "sch                529\n",
       "cosy               517\n",
       "close              487\n",
       "quiet              443\n",
       "modern             436\n",
       "bright             415\n",
       "zimmer             383\n",
       "nbrunn             380\n",
       "sch nbrunn         380"
      ]
     },
     "execution_count": 46,
     "metadata": {},
     "output_type": "execute_result"
    }
   ],
   "source": [
    "word_counts.sort_values('frequency', ascending = False).head(20)"
   ]
  },
  {
   "cell_type": "markdown",
   "id": "1d1efd26",
   "metadata": {},
   "source": [
    "Based on unigrams and ngrams I can create a couple of feature indicating if something is mentioned in the name or description"
   ]
  },
  {
   "cell_type": "code",
   "execution_count": 47,
   "id": "6331385f",
   "metadata": {},
   "outputs": [],
   "source": [
    "# touristy_words = ['rialto', 'canal', 'marco'] # for venezia\n",
    "# touristy_words = ['sagrada', 'familia', 'gracia'] # for barcelona\n",
    "# touristy_words = ['duomo', 'center', 'centro', 'view', 'heart'] # for firenze\n",
    "\n",
    "touristy_words = ['center', 'central', 'nbrunn', 'sch'] # for vienna\n",
    "\n",
    "pattern = '|'.join(touristy_words)\n",
    "\n",
    "listings['name_touristy'] = 0\n",
    "listings.loc[(listings['name_cleaned'].notnull() & \n",
    "              listings['name_cleaned'].str.contains(pattern)), 'name_touristy'] = 1"
   ]
  },
  {
   "cell_type": "code",
   "execution_count": 48,
   "id": "f5b70526",
   "metadata": {},
   "outputs": [],
   "source": [
    "listings.drop(['name_cleaned', 'description_cleaned', 'name_cleaned_no_stopwords'], 1, inplace = True)"
   ]
  },
  {
   "cell_type": "code",
   "execution_count": null,
   "id": "f2293e19",
   "metadata": {},
   "outputs": [],
   "source": []
  },
  {
   "cell_type": "markdown",
   "id": "cf32eae6",
   "metadata": {},
   "source": [
    "#### Check numerical features"
   ]
  },
  {
   "cell_type": "code",
   "execution_count": 49,
   "id": "7970ede5",
   "metadata": {},
   "outputs": [],
   "source": [
    "listings.drop(['minimum_minimum_nights', 'maximum_minimum_nights', 'maximum_nights_avg_ntm', 'minimum_nights_avg_ntm',\n",
    "               'minimum_maximum_nights', 'maximum_maximum_nights', 'host_listings_count', 'maximum_nights', \n",
    "               'calculated_host_listings_count', 'calculated_host_listings_count_entire_homes', \n",
    "               'calculated_host_listings_count_private_rooms', 'calculated_host_listings_count_shared_rooms'], 1, inplace = True)"
   ]
  },
  {
   "cell_type": "markdown",
   "id": "5a567b06",
   "metadata": {},
   "source": [
    "Drop items above 99th percentile"
   ]
  },
  {
   "cell_type": "code",
   "execution_count": 50,
   "id": "c1f28245",
   "metadata": {
    "scrolled": false
   },
   "outputs": [
    {
     "data": {
      "text/plain": [
       "price                        390.150000\n",
       "host_total_listings_count     89.000000\n",
       "beds                           7.000000\n",
       "last_review_years              6.197151\n",
       "bedrooms                       4.000000\n",
       "bathrooms_count                3.000000\n",
       "Name: 99%, dtype: float64"
      ]
     },
     "execution_count": 50,
     "metadata": {},
     "output_type": "execute_result"
    }
   ],
   "source": [
    "check_99th_perc = ['host_total_listings_count', 'bedrooms', 'beds', 'price', 'bathrooms_count', 'last_review_years']\n",
    "\n",
    "perc_99_values = listings[check_99th_perc].describe(exclude = ['O'], \n",
    "                                           percentiles = [.99])\\\n",
    "                                          .T['99%']\\\n",
    "                                          .sort_values(ascending = False)\n",
    "\n",
    "perc_99_values"
   ]
  },
  {
   "cell_type": "code",
   "execution_count": 51,
   "id": "596d5c2f",
   "metadata": {},
   "outputs": [
    {
     "name": "stdout",
     "output_type": "stream",
     "text": [
      "(11586, 69)\n",
      "(7613, 69)\n"
     ]
    }
   ],
   "source": [
    "print(listings.shape)\n",
    "\n",
    "for num_col in perc_99_values.index:\n",
    "    \n",
    "    perc_99_value = perc_99_values[num_col]\n",
    "    listings = listings.loc[listings[num_col] <= perc_99_value]\n",
    "    \n",
    "print(listings.shape)"
   ]
  },
  {
   "cell_type": "markdown",
   "id": "6d7856b3",
   "metadata": {},
   "source": [
    "Check skewness and drop features based on that"
   ]
  },
  {
   "cell_type": "code",
   "execution_count": 52,
   "id": "dcf15ae3",
   "metadata": {},
   "outputs": [
    {
     "name": "stdout",
     "output_type": "stream",
     "text": [
      "host_has_profile_pic          -22.466290\n",
      "minimum_nights                 30.540524\n",
      "has_availability               -9.602575\n",
      "number_of_reviews_ltm           5.433848\n",
      "review_scores_rating           -5.221075\n",
      "review_scores_accuracy         -5.786475\n",
      "review_scores_checkin          -7.177822\n",
      "review_scores_communication    -6.416888\n",
      "review_scores_location         -5.113933\n",
      "amenity_wifi                   -5.846172\n",
      "amenity_heating                -6.234539\n",
      "dtype: float64\n"
     ]
    }
   ],
   "source": [
    "skewness = listings.skew(skipna = True)\n",
    "skewness = skewness[skewness.abs() >= 5]\n",
    "\n",
    "print(skewness)\n",
    "\n",
    "listings.drop(skewness.index, 1, inplace = True)"
   ]
  },
  {
   "cell_type": "markdown",
   "id": "d68b6758",
   "metadata": {},
   "source": [
    "Shouldnt have 0 or half a bathroom"
   ]
  },
  {
   "cell_type": "code",
   "execution_count": 53,
   "id": "88cad1ff",
   "metadata": {},
   "outputs": [],
   "source": [
    "if 'bathrooms_count' in listings.columns:\n",
    "    listings = listings[listings['bathrooms_count'] >= 1]"
   ]
  },
  {
   "cell_type": "markdown",
   "id": "cadeda5f",
   "metadata": {},
   "source": [
    "The following numerical features could be binned to groups\n",
    "- bedrooms\n",
    "- bathrooms"
   ]
  },
  {
   "cell_type": "code",
   "execution_count": 54,
   "id": "8900ad3d",
   "metadata": {},
   "outputs": [],
   "source": [
    "# listings['bedrooms'] = listings['bedrooms'].apply(lambda x: '1_bedroom' if x == 1 else ('2_bedrooms' if x == 2 else '2_plus_bedrooms'))\n",
    "# listings['bathrooms_count'] = listings['bathrooms_count'].apply(lambda x: '1_bathroom' if x == 1 else ('1.5_bathrooms' if x == 1.5 else ('2_bathrooms' if x == 2 else '2_plus_bathrooms')))"
   ]
  },
  {
   "cell_type": "markdown",
   "id": "d688dcab",
   "metadata": {},
   "source": [
    "#### Check int features"
   ]
  },
  {
   "cell_type": "code",
   "execution_count": 55,
   "id": "04a348ad",
   "metadata": {},
   "outputs": [],
   "source": [
    "# listings['accommodates'] = listings['accommodates'].apply(lambda x: '1' if x == 1 else ('2' if x == 2 else ('3' if x == 3 else ('4' if x == 4 else ('5' if x == 5 else '5_plus')))))"
   ]
  },
  {
   "cell_type": "markdown",
   "id": "985e3f95",
   "metadata": {},
   "source": [
    "Check balances of 1/0 (true/false) features. Drop features with overwhelming majorities (>90% in one class)"
   ]
  },
  {
   "cell_type": "code",
   "execution_count": 56,
   "id": "1405e723",
   "metadata": {},
   "outputs": [
    {
     "name": "stdout",
     "output_type": "stream",
     "text": [
      "['host_is_superhost', 'host_identity_verified', 'instant_bookable', 'description_host', 'description_neighbourhood', 'bathrooms_are_shared', 'amenity_washer', 'amenity_hangers', 'amenity_long_term_stays_allowed', 'amenity_shampoo', 'amenity_dishes_and_silverware', 'amenity_elevator', 'amenity_tv', 'amenity_kitchen', 'amenity_hot_water', 'amenity_workspace', 'amenity_stove', 'amenity_bed_linens', 'amenity_refrigerator', 'amenity_essentials', 'amenity_hair_dryer', 'amenity_iron', 'amenity_coffee_maker', 'amenity_cooking_basics', 'name_touristy']\n"
     ]
    }
   ],
   "source": [
    "true_false_features = listings.select_dtypes('int64').max()[listings.select_dtypes('int64').max() == 1].index.tolist()\n",
    "print(true_false_features)"
   ]
  },
  {
   "cell_type": "code",
   "execution_count": 57,
   "id": "dda2fa44",
   "metadata": {},
   "outputs": [
    {
     "data": {
      "text/html": [
       "<div>\n",
       "<style scoped>\n",
       "    .dataframe tbody tr th:only-of-type {\n",
       "        vertical-align: middle;\n",
       "    }\n",
       "\n",
       "    .dataframe tbody tr th {\n",
       "        vertical-align: top;\n",
       "    }\n",
       "\n",
       "    .dataframe thead th {\n",
       "        text-align: right;\n",
       "    }\n",
       "</style>\n",
       "<table border=\"1\" class=\"dataframe\">\n",
       "  <thead>\n",
       "    <tr style=\"text-align: right;\">\n",
       "      <th></th>\n",
       "      <th>count</th>\n",
       "      <th>min</th>\n",
       "      <th>1%</th>\n",
       "      <th>10%</th>\n",
       "      <th>25%</th>\n",
       "      <th>50%</th>\n",
       "      <th>75%</th>\n",
       "      <th>90%</th>\n",
       "      <th>99%</th>\n",
       "      <th>max</th>\n",
       "    </tr>\n",
       "  </thead>\n",
       "  <tbody>\n",
       "    <tr>\n",
       "      <th>host_is_superhost</th>\n",
       "      <td>7566</td>\n",
       "      <td>0</td>\n",
       "      <td>0</td>\n",
       "      <td>0</td>\n",
       "      <td>0</td>\n",
       "      <td>0</td>\n",
       "      <td>1</td>\n",
       "      <td>1</td>\n",
       "      <td>1</td>\n",
       "      <td>1</td>\n",
       "    </tr>\n",
       "    <tr>\n",
       "      <th>host_identity_verified</th>\n",
       "      <td>7566</td>\n",
       "      <td>0</td>\n",
       "      <td>0</td>\n",
       "      <td>0</td>\n",
       "      <td>0</td>\n",
       "      <td>1</td>\n",
       "      <td>1</td>\n",
       "      <td>1</td>\n",
       "      <td>1</td>\n",
       "      <td>1</td>\n",
       "    </tr>\n",
       "    <tr>\n",
       "      <th>instant_bookable</th>\n",
       "      <td>7566</td>\n",
       "      <td>0</td>\n",
       "      <td>0</td>\n",
       "      <td>0</td>\n",
       "      <td>0</td>\n",
       "      <td>0</td>\n",
       "      <td>1</td>\n",
       "      <td>1</td>\n",
       "      <td>1</td>\n",
       "      <td>1</td>\n",
       "    </tr>\n",
       "    <tr>\n",
       "      <th>description_host</th>\n",
       "      <td>7566</td>\n",
       "      <td>0</td>\n",
       "      <td>0</td>\n",
       "      <td>0</td>\n",
       "      <td>0</td>\n",
       "      <td>0</td>\n",
       "      <td>1</td>\n",
       "      <td>1</td>\n",
       "      <td>1</td>\n",
       "      <td>1</td>\n",
       "    </tr>\n",
       "    <tr>\n",
       "      <th>description_neighbourhood</th>\n",
       "      <td>7566</td>\n",
       "      <td>0</td>\n",
       "      <td>0</td>\n",
       "      <td>0</td>\n",
       "      <td>0</td>\n",
       "      <td>0</td>\n",
       "      <td>1</td>\n",
       "      <td>1</td>\n",
       "      <td>1</td>\n",
       "      <td>1</td>\n",
       "    </tr>\n",
       "    <tr>\n",
       "      <th>bathrooms_are_shared</th>\n",
       "      <td>7566</td>\n",
       "      <td>0</td>\n",
       "      <td>0</td>\n",
       "      <td>0</td>\n",
       "      <td>0</td>\n",
       "      <td>0</td>\n",
       "      <td>0</td>\n",
       "      <td>1</td>\n",
       "      <td>1</td>\n",
       "      <td>1</td>\n",
       "    </tr>\n",
       "    <tr>\n",
       "      <th>amenity_washer</th>\n",
       "      <td>7566</td>\n",
       "      <td>0</td>\n",
       "      <td>0</td>\n",
       "      <td>0</td>\n",
       "      <td>1</td>\n",
       "      <td>1</td>\n",
       "      <td>1</td>\n",
       "      <td>1</td>\n",
       "      <td>1</td>\n",
       "      <td>1</td>\n",
       "    </tr>\n",
       "    <tr>\n",
       "      <th>amenity_hangers</th>\n",
       "      <td>7566</td>\n",
       "      <td>0</td>\n",
       "      <td>0</td>\n",
       "      <td>0</td>\n",
       "      <td>1</td>\n",
       "      <td>1</td>\n",
       "      <td>1</td>\n",
       "      <td>1</td>\n",
       "      <td>1</td>\n",
       "      <td>1</td>\n",
       "    </tr>\n",
       "    <tr>\n",
       "      <th>amenity_long_term_stays_allowed</th>\n",
       "      <td>7566</td>\n",
       "      <td>0</td>\n",
       "      <td>0</td>\n",
       "      <td>0</td>\n",
       "      <td>1</td>\n",
       "      <td>1</td>\n",
       "      <td>1</td>\n",
       "      <td>1</td>\n",
       "      <td>1</td>\n",
       "      <td>1</td>\n",
       "    </tr>\n",
       "    <tr>\n",
       "      <th>amenity_shampoo</th>\n",
       "      <td>7566</td>\n",
       "      <td>0</td>\n",
       "      <td>0</td>\n",
       "      <td>0</td>\n",
       "      <td>0</td>\n",
       "      <td>1</td>\n",
       "      <td>1</td>\n",
       "      <td>1</td>\n",
       "      <td>1</td>\n",
       "      <td>1</td>\n",
       "    </tr>\n",
       "    <tr>\n",
       "      <th>amenity_dishes_and_silverware</th>\n",
       "      <td>7566</td>\n",
       "      <td>0</td>\n",
       "      <td>0</td>\n",
       "      <td>0</td>\n",
       "      <td>0</td>\n",
       "      <td>1</td>\n",
       "      <td>1</td>\n",
       "      <td>1</td>\n",
       "      <td>1</td>\n",
       "      <td>1</td>\n",
       "    </tr>\n",
       "    <tr>\n",
       "      <th>amenity_elevator</th>\n",
       "      <td>7566</td>\n",
       "      <td>0</td>\n",
       "      <td>0</td>\n",
       "      <td>0</td>\n",
       "      <td>0</td>\n",
       "      <td>0</td>\n",
       "      <td>1</td>\n",
       "      <td>1</td>\n",
       "      <td>1</td>\n",
       "      <td>1</td>\n",
       "    </tr>\n",
       "    <tr>\n",
       "      <th>amenity_tv</th>\n",
       "      <td>7566</td>\n",
       "      <td>0</td>\n",
       "      <td>0</td>\n",
       "      <td>0</td>\n",
       "      <td>0</td>\n",
       "      <td>1</td>\n",
       "      <td>1</td>\n",
       "      <td>1</td>\n",
       "      <td>1</td>\n",
       "      <td>1</td>\n",
       "    </tr>\n",
       "    <tr>\n",
       "      <th>amenity_kitchen</th>\n",
       "      <td>7566</td>\n",
       "      <td>0</td>\n",
       "      <td>0</td>\n",
       "      <td>1</td>\n",
       "      <td>1</td>\n",
       "      <td>1</td>\n",
       "      <td>1</td>\n",
       "      <td>1</td>\n",
       "      <td>1</td>\n",
       "      <td>1</td>\n",
       "    </tr>\n",
       "    <tr>\n",
       "      <th>amenity_hot_water</th>\n",
       "      <td>7566</td>\n",
       "      <td>0</td>\n",
       "      <td>0</td>\n",
       "      <td>0</td>\n",
       "      <td>0</td>\n",
       "      <td>1</td>\n",
       "      <td>1</td>\n",
       "      <td>1</td>\n",
       "      <td>1</td>\n",
       "      <td>1</td>\n",
       "    </tr>\n",
       "    <tr>\n",
       "      <th>amenity_workspace</th>\n",
       "      <td>7566</td>\n",
       "      <td>0</td>\n",
       "      <td>0</td>\n",
       "      <td>0</td>\n",
       "      <td>1</td>\n",
       "      <td>1</td>\n",
       "      <td>1</td>\n",
       "      <td>1</td>\n",
       "      <td>1</td>\n",
       "      <td>1</td>\n",
       "    </tr>\n",
       "    <tr>\n",
       "      <th>amenity_stove</th>\n",
       "      <td>7566</td>\n",
       "      <td>0</td>\n",
       "      <td>0</td>\n",
       "      <td>0</td>\n",
       "      <td>0</td>\n",
       "      <td>1</td>\n",
       "      <td>1</td>\n",
       "      <td>1</td>\n",
       "      <td>1</td>\n",
       "      <td>1</td>\n",
       "    </tr>\n",
       "    <tr>\n",
       "      <th>amenity_bed_linens</th>\n",
       "      <td>7566</td>\n",
       "      <td>0</td>\n",
       "      <td>0</td>\n",
       "      <td>0</td>\n",
       "      <td>0</td>\n",
       "      <td>0</td>\n",
       "      <td>1</td>\n",
       "      <td>1</td>\n",
       "      <td>1</td>\n",
       "      <td>1</td>\n",
       "    </tr>\n",
       "    <tr>\n",
       "      <th>amenity_refrigerator</th>\n",
       "      <td>7566</td>\n",
       "      <td>0</td>\n",
       "      <td>0</td>\n",
       "      <td>0</td>\n",
       "      <td>0</td>\n",
       "      <td>1</td>\n",
       "      <td>1</td>\n",
       "      <td>1</td>\n",
       "      <td>1</td>\n",
       "      <td>1</td>\n",
       "    </tr>\n",
       "    <tr>\n",
       "      <th>amenity_essentials</th>\n",
       "      <td>7566</td>\n",
       "      <td>0</td>\n",
       "      <td>0</td>\n",
       "      <td>1</td>\n",
       "      <td>1</td>\n",
       "      <td>1</td>\n",
       "      <td>1</td>\n",
       "      <td>1</td>\n",
       "      <td>1</td>\n",
       "      <td>1</td>\n",
       "    </tr>\n",
       "    <tr>\n",
       "      <th>amenity_hair_dryer</th>\n",
       "      <td>7566</td>\n",
       "      <td>0</td>\n",
       "      <td>0</td>\n",
       "      <td>0</td>\n",
       "      <td>1</td>\n",
       "      <td>1</td>\n",
       "      <td>1</td>\n",
       "      <td>1</td>\n",
       "      <td>1</td>\n",
       "      <td>1</td>\n",
       "    </tr>\n",
       "    <tr>\n",
       "      <th>amenity_iron</th>\n",
       "      <td>7566</td>\n",
       "      <td>0</td>\n",
       "      <td>0</td>\n",
       "      <td>0</td>\n",
       "      <td>0</td>\n",
       "      <td>1</td>\n",
       "      <td>1</td>\n",
       "      <td>1</td>\n",
       "      <td>1</td>\n",
       "      <td>1</td>\n",
       "    </tr>\n",
       "    <tr>\n",
       "      <th>amenity_coffee_maker</th>\n",
       "      <td>7566</td>\n",
       "      <td>0</td>\n",
       "      <td>0</td>\n",
       "      <td>0</td>\n",
       "      <td>0</td>\n",
       "      <td>1</td>\n",
       "      <td>1</td>\n",
       "      <td>1</td>\n",
       "      <td>1</td>\n",
       "      <td>1</td>\n",
       "    </tr>\n",
       "    <tr>\n",
       "      <th>amenity_cooking_basics</th>\n",
       "      <td>7566</td>\n",
       "      <td>0</td>\n",
       "      <td>0</td>\n",
       "      <td>0</td>\n",
       "      <td>0</td>\n",
       "      <td>1</td>\n",
       "      <td>1</td>\n",
       "      <td>1</td>\n",
       "      <td>1</td>\n",
       "      <td>1</td>\n",
       "    </tr>\n",
       "    <tr>\n",
       "      <th>name_touristy</th>\n",
       "      <td>7566</td>\n",
       "      <td>0</td>\n",
       "      <td>0</td>\n",
       "      <td>0</td>\n",
       "      <td>0</td>\n",
       "      <td>0</td>\n",
       "      <td>1</td>\n",
       "      <td>1</td>\n",
       "      <td>1</td>\n",
       "      <td>1</td>\n",
       "    </tr>\n",
       "  </tbody>\n",
       "</table>\n",
       "</div>"
      ],
      "text/plain": [
       "                                 count  min  1%  10%  25%  50%  75%  90%  99%  \\\n",
       "host_is_superhost                 7566    0   0    0    0    0    1    1    1   \n",
       "host_identity_verified            7566    0   0    0    0    1    1    1    1   \n",
       "instant_bookable                  7566    0   0    0    0    0    1    1    1   \n",
       "description_host                  7566    0   0    0    0    0    1    1    1   \n",
       "description_neighbourhood         7566    0   0    0    0    0    1    1    1   \n",
       "bathrooms_are_shared              7566    0   0    0    0    0    0    1    1   \n",
       "amenity_washer                    7566    0   0    0    1    1    1    1    1   \n",
       "amenity_hangers                   7566    0   0    0    1    1    1    1    1   \n",
       "amenity_long_term_stays_allowed   7566    0   0    0    1    1    1    1    1   \n",
       "amenity_shampoo                   7566    0   0    0    0    1    1    1    1   \n",
       "amenity_dishes_and_silverware     7566    0   0    0    0    1    1    1    1   \n",
       "amenity_elevator                  7566    0   0    0    0    0    1    1    1   \n",
       "amenity_tv                        7566    0   0    0    0    1    1    1    1   \n",
       "amenity_kitchen                   7566    0   0    1    1    1    1    1    1   \n",
       "amenity_hot_water                 7566    0   0    0    0    1    1    1    1   \n",
       "amenity_workspace                 7566    0   0    0    1    1    1    1    1   \n",
       "amenity_stove                     7566    0   0    0    0    1    1    1    1   \n",
       "amenity_bed_linens                7566    0   0    0    0    0    1    1    1   \n",
       "amenity_refrigerator              7566    0   0    0    0    1    1    1    1   \n",
       "amenity_essentials                7566    0   0    1    1    1    1    1    1   \n",
       "amenity_hair_dryer                7566    0   0    0    1    1    1    1    1   \n",
       "amenity_iron                      7566    0   0    0    0    1    1    1    1   \n",
       "amenity_coffee_maker              7566    0   0    0    0    1    1    1    1   \n",
       "amenity_cooking_basics            7566    0   0    0    0    1    1    1    1   \n",
       "name_touristy                     7566    0   0    0    0    0    1    1    1   \n",
       "\n",
       "                                 max  \n",
       "host_is_superhost                  1  \n",
       "host_identity_verified             1  \n",
       "instant_bookable                   1  \n",
       "description_host                   1  \n",
       "description_neighbourhood          1  \n",
       "bathrooms_are_shared               1  \n",
       "amenity_washer                     1  \n",
       "amenity_hangers                    1  \n",
       "amenity_long_term_stays_allowed    1  \n",
       "amenity_shampoo                    1  \n",
       "amenity_dishes_and_silverware      1  \n",
       "amenity_elevator                   1  \n",
       "amenity_tv                         1  \n",
       "amenity_kitchen                    1  \n",
       "amenity_hot_water                  1  \n",
       "amenity_workspace                  1  \n",
       "amenity_stove                      1  \n",
       "amenity_bed_linens                 1  \n",
       "amenity_refrigerator               1  \n",
       "amenity_essentials                 1  \n",
       "amenity_hair_dryer                 1  \n",
       "amenity_iron                       1  \n",
       "amenity_coffee_maker               1  \n",
       "amenity_cooking_basics             1  \n",
       "name_touristy                      1  "
      ]
     },
     "execution_count": 57,
     "metadata": {},
     "output_type": "execute_result"
    }
   ],
   "source": [
    "listings[true_false_features].describe(percentiles = [.01, .1, .25, .5, .75, .9, .99]).T.drop(['mean', 'std'], 1).astype(int)"
   ]
  },
  {
   "cell_type": "code",
   "execution_count": 58,
   "id": "98174a62",
   "metadata": {},
   "outputs": [
    {
     "data": {
      "text/plain": [
       "{'amenity_kitchen': 0.9496431403647898,\n",
       " 'amenity_essentials': 0.9555908009516257}"
      ]
     },
     "execution_count": 58,
     "metadata": {},
     "output_type": "execute_result"
    }
   ],
   "source": [
    "L = listings.shape[0]\n",
    "true_false_features_balance = {}\n",
    "\n",
    "for i in true_false_features:\n",
    "    \n",
    "    n_true = listings[i].sum()\n",
    "    n_false = L - n_true\n",
    "    \n",
    "    if n_true / L >= 0.9 or n_false / L >= 0.9:\n",
    "        \n",
    "        true_false_features_balance[i] = n_true / L\n",
    "\n",
    "true_false_features_balance"
   ]
  },
  {
   "cell_type": "code",
   "execution_count": 59,
   "id": "c316b719",
   "metadata": {},
   "outputs": [],
   "source": [
    "listings.drop(true_false_features_balance.keys(), 1, inplace = True) "
   ]
  },
  {
   "cell_type": "code",
   "execution_count": null,
   "id": "6916a6a9",
   "metadata": {},
   "outputs": [],
   "source": []
  },
  {
   "cell_type": "markdown",
   "id": "96dacbe7",
   "metadata": {},
   "source": [
    "### Main cleaning is now complete: final overview of listing dataset"
   ]
  },
  {
   "cell_type": "code",
   "execution_count": 60,
   "id": "34a85b15",
   "metadata": {},
   "outputs": [
    {
     "data": {
      "text/plain": [
       "int64      33\n",
       "float64    13\n",
       "object     10\n",
       "dtype: int64"
      ]
     },
     "execution_count": 60,
     "metadata": {},
     "output_type": "execute_result"
    }
   ],
   "source": [
    "listings.dtypes.value_counts()"
   ]
  },
  {
   "cell_type": "code",
   "execution_count": 61,
   "id": "8bf14dd1",
   "metadata": {},
   "outputs": [
    {
     "data": {
      "text/plain": [
       "name                            4\n",
       "description                   187\n",
       "host_neighbourhood           1569\n",
       "review_scores_cleanliness     109\n",
       "review_scores_value           111\n",
       "dtype: int64"
      ]
     },
     "execution_count": 61,
     "metadata": {},
     "output_type": "execute_result"
    }
   ],
   "source": [
    "listings.isnull().sum()[listings.isnull().sum() > 0]"
   ]
  },
  {
   "cell_type": "code",
   "execution_count": 62,
   "id": "ee2368e8",
   "metadata": {},
   "outputs": [],
   "source": [
    "check_to_drop = ['review_scores_value', 'review_scores_accuracy'] \n",
    "\n",
    "for i in check_to_drop:\n",
    "    if i in listings.columns:\n",
    "        listings = listings[listings[i].notnull()]"
   ]
  },
  {
   "cell_type": "code",
   "execution_count": 63,
   "id": "712e82ac",
   "metadata": {},
   "outputs": [
    {
     "data": {
      "text/plain": [
       "name                     2\n",
       "description            181\n",
       "host_neighbourhood    1536\n",
       "dtype: int64"
      ]
     },
     "execution_count": 63,
     "metadata": {},
     "output_type": "execute_result"
    }
   ],
   "source": [
    "listings.isnull().sum()[listings.isnull().sum() > 0]"
   ]
  },
  {
   "cell_type": "markdown",
   "id": "96406fb3",
   "metadata": {},
   "source": [
    "Changes to be made after data analysis (next notebook):\n",
    "- drop\n",
    "    - 'neighbourhood_group_cleansed'\n",
    "    - longitude\n",
    "    - latitude\n",
    "    \n",
    "- treat\n",
    "    - NaNs for host_response_time, rate and acceptance rate features. GBMs can take care of it, linreg needs manual adj"
   ]
  },
  {
   "cell_type": "markdown",
   "id": "3ded28bd",
   "metadata": {},
   "source": [
    "### Reviews"
   ]
  },
  {
   "cell_type": "code",
   "execution_count": 64,
   "id": "e730a908",
   "metadata": {},
   "outputs": [],
   "source": [
    "# reviews[(reviews['reviewer_name'] == 'Kristof')] # &\n",
    "# #         (reviews['listing_id'] == 19493233)]['comments'][328156]"
   ]
  },
  {
   "cell_type": "markdown",
   "id": "5bb20585",
   "metadata": {},
   "source": [
    "Reviews data for now will not be used. Listings data has ratings, comment counts and other feedback related info"
   ]
  },
  {
   "cell_type": "markdown",
   "id": "de31f806",
   "metadata": {},
   "source": [
    "### Save cleaned file for further analysis"
   ]
  },
  {
   "cell_type": "code",
   "execution_count": 65,
   "id": "99242ecb",
   "metadata": {},
   "outputs": [],
   "source": [
    "listings.to_csv('data/' + city + '/listings_cleaned.csv', index = False)"
   ]
  },
  {
   "cell_type": "code",
   "execution_count": null,
   "id": "a1969a21",
   "metadata": {},
   "outputs": [],
   "source": []
  }
 ],
 "metadata": {
  "kernelspec": {
   "display_name": "Python 3",
   "language": "python",
   "name": "python3"
  },
  "language_info": {
   "codemirror_mode": {
    "name": "ipython",
    "version": 3
   },
   "file_extension": ".py",
   "mimetype": "text/x-python",
   "name": "python",
   "nbconvert_exporter": "python",
   "pygments_lexer": "ipython3",
   "version": "3.8.8"
  }
 },
 "nbformat": 4,
 "nbformat_minor": 5
}
