{
 "cells": [
  {
   "cell_type": "code",
   "execution_count": 1,
   "id": "cabc5e97",
   "metadata": {},
   "outputs": [],
   "source": [
    "import pandas as pd\n",
    "import numpy as np\n",
    "import geojson\n",
    "\n",
    "import re\n",
    "from nltk.corpus import stopwords\n",
    "from sklearn.feature_extraction.text import CountVectorizer\n",
    "from ast import literal_eval\n",
    "import collections\n",
    "\n",
    "from wordcloud import WordCloud\n",
    "import matplotlib.pyplot as plt\n",
    "import seaborn as sns\n",
    "import plotly.express as px\n",
    "import plotly.graph_objects as go\n",
    "from plotly.subplots import make_subplots\n",
    "\n",
    "import warnings\n",
    "warnings.filterwarnings('ignore')"
   ]
  },
  {
   "cell_type": "code",
   "execution_count": 2,
   "id": "2407f06a",
   "metadata": {},
   "outputs": [],
   "source": [
    "city = 'venezia'\n",
    "\n",
    "### raw, original files with all datapoints\n",
    "listings_link = 'data/' + city + '/listings.csv.gz'\n",
    "#reviews_link = 'data/' + city + '/reviews.csv.gz'\n",
    "#calendar_link = 'data/' + city + '/calendar.csv.gz'\n",
    "\n",
    "### shortened summary of listings: just a few main features from the original file\n",
    "#listings_sum_link = 'data/' + city + '/listings.csv'\n",
    "\n",
    "### neighborhood information\n",
    "neighborhoods_link = 'data/' + city + '/neighbourhoods.csv'\n",
    "neighborhoods_gjson_link = 'data/' + city + '/neighbourhoods.geojson'"
   ]
  },
  {
   "cell_type": "code",
   "execution_count": 3,
   "id": "16152a5e",
   "metadata": {},
   "outputs": [],
   "source": [
    "### read 'big' gzipped files\n",
    "listings = pd.read_csv(listings_link, compression = 'gzip', error_bad_lines = False)\n",
    "#reviews = pd.read_csv(reviews_link, compression = 'gzip', error_bad_lines = False)\n",
    "#calendar = pd.read_csv(calendar_link, compression = 'gzip', error_bad_lines = False)\n",
    "\n",
    "### read neighborhhood info\n",
    "neighborhoods = pd.read_csv(neighborhoods_link)\n",
    "\n",
    "### read summarized data of listings\n",
    "#listings_summarized = pd.read_csv(listings_sum_link)\n",
    "\n",
    "### read geojson with neighborhood geo data\n",
    "with open(neighborhoods_gjson_link) as f:\n",
    "    neighborhoods_gjson = geojson.load(f)"
   ]
  },
  {
   "cell_type": "markdown",
   "id": "766cc05d",
   "metadata": {},
   "source": [
    "### Check files"
   ]
  },
  {
   "cell_type": "markdown",
   "id": "cc903cb4",
   "metadata": {},
   "source": [
    "Listings summarized is just a few of the original features, plus the grouped neighborhood. I'll go over all features and select the necessary ones and do feature engineering manually"
   ]
  },
  {
   "cell_type": "code",
   "execution_count": 4,
   "id": "dab4d2a0",
   "metadata": {},
   "outputs": [
    {
     "data": {
      "text/html": [
       "<div>\n",
       "<style scoped>\n",
       "    .dataframe tbody tr th:only-of-type {\n",
       "        vertical-align: middle;\n",
       "    }\n",
       "\n",
       "    .dataframe tbody tr th {\n",
       "        vertical-align: top;\n",
       "    }\n",
       "\n",
       "    .dataframe thead th {\n",
       "        text-align: right;\n",
       "    }\n",
       "</style>\n",
       "<table border=\"1\" class=\"dataframe\">\n",
       "  <thead>\n",
       "    <tr style=\"text-align: right;\">\n",
       "      <th></th>\n",
       "      <th>id</th>\n",
       "      <th>listing_url</th>\n",
       "      <th>scrape_id</th>\n",
       "      <th>last_scraped</th>\n",
       "      <th>name</th>\n",
       "      <th>description</th>\n",
       "      <th>neighborhood_overview</th>\n",
       "      <th>picture_url</th>\n",
       "      <th>host_id</th>\n",
       "      <th>host_url</th>\n",
       "      <th>...</th>\n",
       "      <th>review_scores_communication</th>\n",
       "      <th>review_scores_location</th>\n",
       "      <th>review_scores_value</th>\n",
       "      <th>license</th>\n",
       "      <th>instant_bookable</th>\n",
       "      <th>calculated_host_listings_count</th>\n",
       "      <th>calculated_host_listings_count_entire_homes</th>\n",
       "      <th>calculated_host_listings_count_private_rooms</th>\n",
       "      <th>calculated_host_listings_count_shared_rooms</th>\n",
       "      <th>reviews_per_month</th>\n",
       "    </tr>\n",
       "  </thead>\n",
       "  <tbody>\n",
       "    <tr>\n",
       "      <th>0</th>\n",
       "      <td>6623</td>\n",
       "      <td>https://www.airbnb.com/rooms/6623</td>\n",
       "      <td>20210806113017</td>\n",
       "      <td>2021-08-06</td>\n",
       "      <td>Venice Blue on Canal apartment</td>\n",
       "      <td>I'm thrilled to share my \"Blue on Venice Canal...</td>\n",
       "      <td>Close by is the Frari Church (known as Tiziano...</td>\n",
       "      <td>https://a0.muscache.com/pictures/492258/834683...</td>\n",
       "      <td>15016</td>\n",
       "      <td>https://www.airbnb.com/users/show/15016</td>\n",
       "      <td>...</td>\n",
       "      <td>4.85</td>\n",
       "      <td>4.96</td>\n",
       "      <td>4.92</td>\n",
       "      <td>NaN</td>\n",
       "      <td>f</td>\n",
       "      <td>3</td>\n",
       "      <td>3</td>\n",
       "      <td>0</td>\n",
       "      <td>0</td>\n",
       "      <td>1.55</td>\n",
       "    </tr>\n",
       "    <tr>\n",
       "      <th>1</th>\n",
       "      <td>6624</td>\n",
       "      <td>https://www.airbnb.com/rooms/6624</td>\n",
       "      <td>20210806113017</td>\n",
       "      <td>2021-08-06</td>\n",
       "      <td>Venice garden charme and canal view!</td>\n",
       "      <td>I'm thrilled to share my apartment with garden...</td>\n",
       "      <td>We are in the middle of a residential area cal...</td>\n",
       "      <td>https://a0.muscache.com/pictures/65440024/a564...</td>\n",
       "      <td>15016</td>\n",
       "      <td>https://www.airbnb.com/users/show/15016</td>\n",
       "      <td>...</td>\n",
       "      <td>4.85</td>\n",
       "      <td>4.93</td>\n",
       "      <td>4.92</td>\n",
       "      <td>NaN</td>\n",
       "      <td>f</td>\n",
       "      <td>3</td>\n",
       "      <td>3</td>\n",
       "      <td>0</td>\n",
       "      <td>0</td>\n",
       "      <td>0.68</td>\n",
       "    </tr>\n",
       "  </tbody>\n",
       "</table>\n",
       "<p>2 rows × 74 columns</p>\n",
       "</div>"
      ],
      "text/plain": [
       "     id                        listing_url       scrape_id last_scraped  \\\n",
       "0  6623  https://www.airbnb.com/rooms/6623  20210806113017   2021-08-06   \n",
       "1  6624  https://www.airbnb.com/rooms/6624  20210806113017   2021-08-06   \n",
       "\n",
       "                                   name  \\\n",
       "0        Venice Blue on Canal apartment   \n",
       "1  Venice garden charme and canal view!   \n",
       "\n",
       "                                         description  \\\n",
       "0  I'm thrilled to share my \"Blue on Venice Canal...   \n",
       "1  I'm thrilled to share my apartment with garden...   \n",
       "\n",
       "                               neighborhood_overview  \\\n",
       "0  Close by is the Frari Church (known as Tiziano...   \n",
       "1  We are in the middle of a residential area cal...   \n",
       "\n",
       "                                         picture_url  host_id  \\\n",
       "0  https://a0.muscache.com/pictures/492258/834683...    15016   \n",
       "1  https://a0.muscache.com/pictures/65440024/a564...    15016   \n",
       "\n",
       "                                  host_url  ... review_scores_communication  \\\n",
       "0  https://www.airbnb.com/users/show/15016  ...                        4.85   \n",
       "1  https://www.airbnb.com/users/show/15016  ...                        4.85   \n",
       "\n",
       "  review_scores_location review_scores_value license instant_bookable  \\\n",
       "0                   4.96                4.92     NaN                f   \n",
       "1                   4.93                4.92     NaN                f   \n",
       "\n",
       "  calculated_host_listings_count calculated_host_listings_count_entire_homes  \\\n",
       "0                              3                                           3   \n",
       "1                              3                                           3   \n",
       "\n",
       "  calculated_host_listings_count_private_rooms  \\\n",
       "0                                            0   \n",
       "1                                            0   \n",
       "\n",
       "  calculated_host_listings_count_shared_rooms reviews_per_month  \n",
       "0                                           0              1.55  \n",
       "1                                           0              0.68  \n",
       "\n",
       "[2 rows x 74 columns]"
      ]
     },
     "execution_count": 4,
     "metadata": {},
     "output_type": "execute_result"
    }
   ],
   "source": [
    "listings.head(2)"
   ]
  },
  {
   "cell_type": "code",
   "execution_count": 5,
   "id": "d49815d5",
   "metadata": {},
   "outputs": [],
   "source": [
    "#listings_summarized.head(2)"
   ]
  },
  {
   "cell_type": "code",
   "execution_count": 6,
   "id": "44c49d53",
   "metadata": {},
   "outputs": [],
   "source": [
    "# reviews.head(2)"
   ]
  },
  {
   "cell_type": "markdown",
   "id": "01ced111",
   "metadata": {},
   "source": [
    "Calendar includes daily prices for up to a year. Monthly aggregation, or just simple overall median can be taken.."
   ]
  },
  {
   "cell_type": "code",
   "execution_count": 7,
   "id": "6f627989",
   "metadata": {},
   "outputs": [],
   "source": [
    "#calendar.head(2)"
   ]
  },
  {
   "cell_type": "markdown",
   "id": "682912ce",
   "metadata": {},
   "source": [
    "Neighborhood groups will be used to reduce cardinality of neighborhood feature"
   ]
  },
  {
   "cell_type": "code",
   "execution_count": 8,
   "id": "01d4e467",
   "metadata": {},
   "outputs": [
    {
     "data": {
      "text/html": [
       "<div>\n",
       "<style scoped>\n",
       "    .dataframe tbody tr th:only-of-type {\n",
       "        vertical-align: middle;\n",
       "    }\n",
       "\n",
       "    .dataframe tbody tr th {\n",
       "        vertical-align: top;\n",
       "    }\n",
       "\n",
       "    .dataframe thead th {\n",
       "        text-align: right;\n",
       "    }\n",
       "</style>\n",
       "<table border=\"1\" class=\"dataframe\">\n",
       "  <thead>\n",
       "    <tr style=\"text-align: right;\">\n",
       "      <th></th>\n",
       "      <th>neighbourhood_group</th>\n",
       "      <th>neighbourhood</th>\n",
       "    </tr>\n",
       "  </thead>\n",
       "  <tbody>\n",
       "    <tr>\n",
       "      <th>0</th>\n",
       "      <td>Isole</td>\n",
       "      <td>Alberoni</td>\n",
       "    </tr>\n",
       "    <tr>\n",
       "      <th>1</th>\n",
       "      <td>Isole</td>\n",
       "      <td>Burano</td>\n",
       "    </tr>\n",
       "  </tbody>\n",
       "</table>\n",
       "</div>"
      ],
      "text/plain": [
       "  neighbourhood_group neighbourhood\n",
       "0               Isole      Alberoni\n",
       "1               Isole        Burano"
      ]
     },
     "execution_count": 8,
     "metadata": {},
     "output_type": "execute_result"
    }
   ],
   "source": [
    "neighborhoods.head(2)"
   ]
  },
  {
   "cell_type": "code",
   "execution_count": 9,
   "id": "f42510a9",
   "metadata": {},
   "outputs": [
    {
     "name": "stdout",
     "output_type": "stream",
     "text": [
      "2\n",
      "114\n"
     ]
    }
   ],
   "source": [
    "print(neighborhoods['neighbourhood_group'].nunique())\n",
    "print(neighborhoods['neighbourhood'].nunique())"
   ]
  },
  {
   "cell_type": "code",
   "execution_count": null,
   "id": "de999695",
   "metadata": {},
   "outputs": [],
   "source": []
  },
  {
   "cell_type": "markdown",
   "id": "9f927319",
   "metadata": {},
   "source": [
    "## 1 Clean the calendar"
   ]
  },
  {
   "cell_type": "code",
   "execution_count": 10,
   "id": "d8a20965",
   "metadata": {},
   "outputs": [],
   "source": [
    "#calendar.head(2)"
   ]
  },
  {
   "cell_type": "code",
   "execution_count": 11,
   "id": "5bdcd3cd",
   "metadata": {},
   "outputs": [],
   "source": [
    "#calendar = calendar[calendar['price'].notnull()]"
   ]
  },
  {
   "cell_type": "code",
   "execution_count": 12,
   "id": "dfa31061",
   "metadata": {},
   "outputs": [],
   "source": [
    "# calendar['price'] = calendar['price'].apply(lambda x: float(x.replace('$', '').replace(',', '')))\n",
    "# calendar['adjusted_price'] = calendar['adjusted_price'].apply(lambda x: float(x.replace('$', '').replace(',', '')))\n",
    "\n",
    "# calendar = calendar[calendar['price'] != 0] # no price means no target value\n",
    "# calendar.drop('adjusted_price', 1, inplace = True) # dont want to incorporate promotions, etc..."
   ]
  },
  {
   "cell_type": "markdown",
   "id": "55146fdc",
   "metadata": {},
   "source": [
    "#### Aggregating listing prices monthly"
   ]
  },
  {
   "cell_type": "code",
   "execution_count": 13,
   "id": "3803fece",
   "metadata": {},
   "outputs": [],
   "source": [
    "# calendar['year'] = pd.to_datetime(calendar['date']).dt.year\n",
    "# calendar['month'] = pd.to_datetime(calendar['date']).dt.month"
   ]
  },
  {
   "cell_type": "code",
   "execution_count": 14,
   "id": "fd29d938",
   "metadata": {},
   "outputs": [],
   "source": [
    "# price_calendar = calendar.groupby(['listing_id', 'year', 'month']).agg({'price' : 'median', 'minimum_nights' : 'median', 'maximum_nights' : 'median'}).reset_index()\n",
    "# price_calendar.head(3)"
   ]
  },
  {
   "cell_type": "markdown",
   "id": "2699a6c6",
   "metadata": {},
   "source": [
    "The calendar may not be used afterall, the listings file has a price point for the day of scraping. That price is going to be predicted with the available, respective-in-time features"
   ]
  },
  {
   "cell_type": "markdown",
   "id": "269295f2",
   "metadata": {},
   "source": [
    "## 2 Clean listings"
   ]
  },
  {
   "cell_type": "code",
   "execution_count": 15,
   "id": "c5ad0380",
   "metadata": {},
   "outputs": [],
   "source": [
    "to_drop = ['scrape_id', 'last_scraped', 'picture_url', \n",
    "           'host_id', 'host_thumbnail_url', 'host_picture_url',\n",
    "           'calendar_last_scraped', 'host_location', 'host_verifications', 'property_type']\n",
    "\n",
    "# will keep until modeling: listing_url, host_url, host_name\n",
    "\n",
    "listings.drop(to_drop, 1, inplace = True)"
   ]
  },
  {
   "cell_type": "markdown",
   "id": "6680e3f5",
   "metadata": {},
   "source": [
    "#### Check missing ratios"
   ]
  },
  {
   "cell_type": "code",
   "execution_count": 16,
   "id": "b89b3cce",
   "metadata": {},
   "outputs": [
    {
     "data": {
      "text/plain": [
       "neighborhood_overview    0.355480\n",
       "host_about               0.445325\n",
       "host_neighbourhood       0.390588\n",
       "neighbourhood            0.355480\n",
       "bathrooms                1.000000\n",
       "calendar_updated         1.000000\n",
       "license                  0.864980\n",
       "dtype: float64"
      ]
     },
     "execution_count": 16,
     "metadata": {},
     "output_type": "execute_result"
    }
   ],
   "source": [
    "check_nan = (listings.isnull().sum() / listings.shape[0])[(listings.isnull().sum() / listings.shape[0]) > 1/3]\n",
    "check_nan"
   ]
  },
  {
   "cell_type": "code",
   "execution_count": 17,
   "id": "6c976b78",
   "metadata": {},
   "outputs": [
    {
     "name": "stdout",
     "output_type": "stream",
     "text": [
      "Index(['neighborhood_overview', 'host_about', 'host_neighbourhood',\n",
      "       'neighbourhood', 'bathrooms', 'calendar_updated', 'license'],\n",
      "      dtype='object')\n"
     ]
    }
   ],
   "source": [
    "to_drop = check_nan.index\n",
    "print(to_drop)"
   ]
  },
  {
   "cell_type": "markdown",
   "id": "6ef8e3a3",
   "metadata": {},
   "source": [
    "Create features indicating missing or filled info:\n",
    "- host has description\n",
    "- neighborhood has description\n",
    "\n",
    "Delete remaining features with many NaNs"
   ]
  },
  {
   "cell_type": "code",
   "execution_count": 18,
   "id": "3e8adc11",
   "metadata": {},
   "outputs": [],
   "source": [
    "listings['description_host'] = listings['host_about'].apply(lambda x: 1 if x is np.nan else 0)\n",
    "listings['description_neighbourhood'] = listings['neighborhood_overview'].apply(lambda x: 1 if x is np.nan else 0)\n",
    "\n",
    "listings.drop(to_drop, 1, inplace = True)"
   ]
  },
  {
   "cell_type": "markdown",
   "id": "9407b0ba",
   "metadata": {},
   "source": [
    "#### Check True/False features"
   ]
  },
  {
   "cell_type": "code",
   "execution_count": 19,
   "id": "754cb9b3",
   "metadata": {},
   "outputs": [
    {
     "name": "stdout",
     "output_type": "stream",
     "text": [
      "['host_is_superhost', 'host_has_profile_pic', 'host_identity_verified', 'has_availability', 'instant_bookable']\n"
     ]
    }
   ],
   "source": [
    "true_false_columns = listings.select_dtypes('O').loc[:, listings.nunique() == 2].columns.tolist()\n",
    "true_false_columns = [i for i in true_false_columns if i != 'neighbourhood_group_cleansed']\n",
    "print(true_false_columns)"
   ]
  },
  {
   "cell_type": "code",
   "execution_count": 20,
   "id": "9f93cf8b",
   "metadata": {},
   "outputs": [
    {
     "data": {
      "text/plain": [
       "host_is_superhost         230\n",
       "host_has_profile_pic      230\n",
       "host_identity_verified    230\n",
       "has_availability            0\n",
       "instant_bookable            0\n",
       "dtype: int64"
      ]
     },
     "execution_count": 20,
     "metadata": {},
     "output_type": "execute_result"
    }
   ],
   "source": [
    "listings[true_false_columns].isnull().sum()"
   ]
  },
  {
   "cell_type": "code",
   "execution_count": 21,
   "id": "8a37b71d",
   "metadata": {},
   "outputs": [],
   "source": [
    "listings = listings[listings['host_is_superhost'].notnull()]"
   ]
  },
  {
   "cell_type": "code",
   "execution_count": 22,
   "id": "91a27df0",
   "metadata": {},
   "outputs": [],
   "source": [
    "for col in true_false_columns:\n",
    "    listings[col] = listings[col].apply(lambda x: 1 if x == 't' else 0)"
   ]
  },
  {
   "cell_type": "markdown",
   "id": "9c912d46",
   "metadata": {},
   "source": [
    "#### Check categorical features"
   ]
  },
  {
   "cell_type": "code",
   "execution_count": 23,
   "id": "c526eb94",
   "metadata": {},
   "outputs": [
    {
     "data": {
      "text/html": [
       "<div>\n",
       "<style scoped>\n",
       "    .dataframe tbody tr th:only-of-type {\n",
       "        vertical-align: middle;\n",
       "    }\n",
       "\n",
       "    .dataframe tbody tr th {\n",
       "        vertical-align: top;\n",
       "    }\n",
       "\n",
       "    .dataframe thead th {\n",
       "        text-align: right;\n",
       "    }\n",
       "</style>\n",
       "<table border=\"1\" class=\"dataframe\">\n",
       "  <thead>\n",
       "    <tr style=\"text-align: right;\">\n",
       "      <th></th>\n",
       "      <th>count</th>\n",
       "      <th>unique</th>\n",
       "      <th>top</th>\n",
       "      <th>freq</th>\n",
       "    </tr>\n",
       "  </thead>\n",
       "  <tbody>\n",
       "    <tr>\n",
       "      <th>listing_url</th>\n",
       "      <td>7717</td>\n",
       "      <td>7717</td>\n",
       "      <td>https://www.airbnb.com/rooms/12419184</td>\n",
       "      <td>1</td>\n",
       "    </tr>\n",
       "    <tr>\n",
       "      <th>name</th>\n",
       "      <td>7717</td>\n",
       "      <td>7557</td>\n",
       "      <td>Apartment in the heart of Venice</td>\n",
       "      <td>6</td>\n",
       "    </tr>\n",
       "    <tr>\n",
       "      <th>description</th>\n",
       "      <td>7581</td>\n",
       "      <td>7230</td>\n",
       "      <td>Room with standard double bed, wardrobe and eq...</td>\n",
       "      <td>17</td>\n",
       "    </tr>\n",
       "    <tr>\n",
       "      <th>host_url</th>\n",
       "      <td>7717</td>\n",
       "      <td>3648</td>\n",
       "      <td>https://www.airbnb.com/users/show/2634978</td>\n",
       "      <td>131</td>\n",
       "    </tr>\n",
       "    <tr>\n",
       "      <th>host_name</th>\n",
       "      <td>7717</td>\n",
       "      <td>1333</td>\n",
       "      <td>Andrea</td>\n",
       "      <td>151</td>\n",
       "    </tr>\n",
       "    <tr>\n",
       "      <th>host_since</th>\n",
       "      <td>7717</td>\n",
       "      <td>2201</td>\n",
       "      <td>2012-06-14</td>\n",
       "      <td>136</td>\n",
       "    </tr>\n",
       "    <tr>\n",
       "      <th>host_response_time</th>\n",
       "      <td>6226</td>\n",
       "      <td>4</td>\n",
       "      <td>within an hour</td>\n",
       "      <td>5055</td>\n",
       "    </tr>\n",
       "    <tr>\n",
       "      <th>host_response_rate</th>\n",
       "      <td>6226</td>\n",
       "      <td>49</td>\n",
       "      <td>100%</td>\n",
       "      <td>4530</td>\n",
       "    </tr>\n",
       "    <tr>\n",
       "      <th>host_acceptance_rate</th>\n",
       "      <td>6196</td>\n",
       "      <td>72</td>\n",
       "      <td>100%</td>\n",
       "      <td>3755</td>\n",
       "    </tr>\n",
       "    <tr>\n",
       "      <th>neighbourhood_cleansed</th>\n",
       "      <td>7717</td>\n",
       "      <td>57</td>\n",
       "      <td>Cannaregio</td>\n",
       "      <td>1503</td>\n",
       "    </tr>\n",
       "    <tr>\n",
       "      <th>neighbourhood_group_cleansed</th>\n",
       "      <td>7717</td>\n",
       "      <td>2</td>\n",
       "      <td>Isole</td>\n",
       "      <td>6374</td>\n",
       "    </tr>\n",
       "    <tr>\n",
       "      <th>room_type</th>\n",
       "      <td>7717</td>\n",
       "      <td>4</td>\n",
       "      <td>Entire home/apt</td>\n",
       "      <td>5820</td>\n",
       "    </tr>\n",
       "    <tr>\n",
       "      <th>bathrooms_text</th>\n",
       "      <td>7701</td>\n",
       "      <td>29</td>\n",
       "      <td>1 bath</td>\n",
       "      <td>4279</td>\n",
       "    </tr>\n",
       "    <tr>\n",
       "      <th>amenities</th>\n",
       "      <td>7717</td>\n",
       "      <td>7052</td>\n",
       "      <td>[\"Heating\", \"Wifi\", \"Oven\", \"Private entrance\"...</td>\n",
       "      <td>17</td>\n",
       "    </tr>\n",
       "    <tr>\n",
       "      <th>price</th>\n",
       "      <td>7717</td>\n",
       "      <td>474</td>\n",
       "      <td>$100.00</td>\n",
       "      <td>248</td>\n",
       "    </tr>\n",
       "    <tr>\n",
       "      <th>first_review</th>\n",
       "      <td>6410</td>\n",
       "      <td>2083</td>\n",
       "      <td>2021-07-18</td>\n",
       "      <td>27</td>\n",
       "    </tr>\n",
       "    <tr>\n",
       "      <th>last_review</th>\n",
       "      <td>6410</td>\n",
       "      <td>1186</td>\n",
       "      <td>2021-07-23</td>\n",
       "      <td>66</td>\n",
       "    </tr>\n",
       "  </tbody>\n",
       "</table>\n",
       "</div>"
      ],
      "text/plain": [
       "                             count unique  \\\n",
       "listing_url                   7717   7717   \n",
       "name                          7717   7557   \n",
       "description                   7581   7230   \n",
       "host_url                      7717   3648   \n",
       "host_name                     7717   1333   \n",
       "host_since                    7717   2201   \n",
       "host_response_time            6226      4   \n",
       "host_response_rate            6226     49   \n",
       "host_acceptance_rate          6196     72   \n",
       "neighbourhood_cleansed        7717     57   \n",
       "neighbourhood_group_cleansed  7717      2   \n",
       "room_type                     7717      4   \n",
       "bathrooms_text                7701     29   \n",
       "amenities                     7717   7052   \n",
       "price                         7717    474   \n",
       "first_review                  6410   2083   \n",
       "last_review                   6410   1186   \n",
       "\n",
       "                                                                            top  \\\n",
       "listing_url                               https://www.airbnb.com/rooms/12419184   \n",
       "name                                           Apartment in the heart of Venice   \n",
       "description                   Room with standard double bed, wardrobe and eq...   \n",
       "host_url                              https://www.airbnb.com/users/show/2634978   \n",
       "host_name                                                                Andrea   \n",
       "host_since                                                           2012-06-14   \n",
       "host_response_time                                               within an hour   \n",
       "host_response_rate                                                         100%   \n",
       "host_acceptance_rate                                                       100%   \n",
       "neighbourhood_cleansed                                               Cannaregio   \n",
       "neighbourhood_group_cleansed                                              Isole   \n",
       "room_type                                                       Entire home/apt   \n",
       "bathrooms_text                                                           1 bath   \n",
       "amenities                     [\"Heating\", \"Wifi\", \"Oven\", \"Private entrance\"...   \n",
       "price                                                                   $100.00   \n",
       "first_review                                                         2021-07-18   \n",
       "last_review                                                          2021-07-23   \n",
       "\n",
       "                              freq  \n",
       "listing_url                      1  \n",
       "name                             6  \n",
       "description                     17  \n",
       "host_url                       131  \n",
       "host_name                      151  \n",
       "host_since                     136  \n",
       "host_response_time            5055  \n",
       "host_response_rate            4530  \n",
       "host_acceptance_rate          3755  \n",
       "neighbourhood_cleansed        1503  \n",
       "neighbourhood_group_cleansed  6374  \n",
       "room_type                     5820  \n",
       "bathrooms_text                4279  \n",
       "amenities                       17  \n",
       "price                          248  \n",
       "first_review                    27  \n",
       "last_review                     66  "
      ]
     },
     "execution_count": 23,
     "metadata": {},
     "output_type": "execute_result"
    }
   ],
   "source": [
    "listings.describe(include = 'O').T"
   ]
  },
  {
   "cell_type": "markdown",
   "id": "ad7886b5",
   "metadata": {},
   "source": [
    "The following features need to be converted to floats:\n",
    "\n",
    "- host since (years ago)\n",
    "- host response rate (0-1 float)\n",
    "- host acceptance rate (0-1 float)\n",
    "- bathrooms (count)\n",
    "- price\n",
    "- first review (years ago)\n",
    "- last review (years ago)\n",
    "\n",
    "The following features will need to be 'exploded' / 'one-hot-encoded':\n",
    "- amenities (for all amenities a has_amenity true/false feature will be created\n",
    "\n",
    "The following features will be grouped to reduce cardinality:\n",
    "- property type\n",
    "- neighborhoods"
   ]
  },
  {
   "cell_type": "markdown",
   "id": "82469530",
   "metadata": {},
   "source": [
    "Neighbourhoods"
   ]
  },
  {
   "cell_type": "code",
   "execution_count": 24,
   "id": "b03c25d6",
   "metadata": {},
   "outputs": [
    {
     "name": "stdout",
     "output_type": "stream",
     "text": [
      "['Cannaregio', 'Castello', 'San Marco', 'San Polo', 'Dorsoduro', 'Santa Croce', 'Piave 1860', 'Lido', 'San Lorenzo XXV Aprile', 'Marghera']\n"
     ]
    }
   ],
   "source": [
    "top_neighborhoods = listings['neighbourhood_cleansed'].value_counts().head(10).index.tolist()\n",
    "print(top_neighborhoods)"
   ]
  },
  {
   "cell_type": "code",
   "execution_count": 25,
   "id": "0a0ec540",
   "metadata": {},
   "outputs": [],
   "source": [
    "if neighborhoods['neighbourhood_group'].nunique() == 0 or neighborhoods['neighbourhood_group'].nunique() >= 3:  \n",
    "    \n",
    "    if listings['neighbourhood_cleansed'].nunique() <= 10:        \n",
    "        listings['neighbourhood_cleansed_grouped'] = listings['neighbourhood_cleansed'].copy()\n",
    "        \n",
    "    else:\n",
    "        listings['neighbourhood_cleansed_grouped'] = listings['neighbourhood_cleansed'].apply(lambda x: x if x in top_neighborhoods else 'Other')\n",
    "\n",
    "else:\n",
    "    \n",
    "    listings['neighbourhood_cleansed_grouped'] = listings['neighbourhood_cleansed'].apply(lambda x: x if x in top_neighborhoods else 'Other')\n",
    "    \n",
    "    if 'neighbourhood_group_cleansed' in listings.columns:\n",
    "        \n",
    "        for i in listings['neighbourhood_group_cleansed'].unique():\n",
    "    \n",
    "            listings.loc[(listings['neighbourhood_cleansed_grouped'] == 'Other') &\n",
    "                         (listings['neighbourhood_group_cleansed'] == i), 'neighbourhood_cleansed_grouped'] = 'Other in ' + i"
   ]
  },
  {
   "cell_type": "code",
   "execution_count": null,
   "id": "97975dcc",
   "metadata": {},
   "outputs": [],
   "source": []
  },
  {
   "cell_type": "markdown",
   "id": "749137e2",
   "metadata": {},
   "source": [
    "Everything else"
   ]
  },
  {
   "cell_type": "code",
   "execution_count": 26,
   "id": "0d7133fd",
   "metadata": {},
   "outputs": [],
   "source": [
    "today_date = pd.to_datetime('2021-08-30')\n",
    "\n",
    "listings['host_since_years'] = (today_date - pd.to_datetime(listings['host_since'])).dt.days / 365\n",
    "listings['first_review_years'] = (today_date - pd.to_datetime(listings['first_review'])).dt.days / 365\n",
    "listings['last_review_years'] = (today_date - pd.to_datetime(listings['last_review'])).dt.days / 365\n",
    "\n",
    "if 'host_response_rate' in listings.columns:\n",
    "    listings['host_response_rate'] = listings['host_response_rate'].apply(lambda x: float(x.replace('%', '')) / 100 if type(x) == str else x)\n",
    "\n",
    "if 'host_acceptance_rate' in listings.columns:\n",
    "    listings['host_acceptance_rate'] = listings['host_acceptance_rate'].apply(lambda x: float(x.replace('%', '')) / 100 if type(x) == str else x)\n",
    "\n",
    "listings['price'] = listings['price'].apply(lambda x: float(x.replace('$', '').replace(',', '')))\n",
    "\n",
    "bath_replace = {'Shared half-bath' : '0.5 shared baths', \n",
    "                'Half-bath' : '0.5 baths',\n",
    "                'Private half-bath' : '0.5 baths'}\n",
    "listings['bathrooms_text'] = listings['bathrooms_text'].replace(bath_replace)\n",
    "listings['bathrooms_are_shared'] = listings['bathrooms_text'].apply(lambda x: 1 if 'shared' in str(x).lower() else 0)\n",
    "listings['bathrooms_count'] = listings['bathrooms_text'].apply(lambda x: float(str(x).split(' ')[0]))\n",
    "\n",
    "host_response_time_replace = {'within an hour' : 'within_hour', 'within a few hours' : 'within_few_hours', 'within a day' : 'within_day', 'a few days or more' : 'few_days'}\n",
    "if 'host_response_time' in listings.columns:\n",
    "    listings['host_response_time'] = listings['host_response_time'].replace(host_response_time_replace)\n",
    "\n",
    "room_type_replace = {'Entire home/apt' : 'entire_place', 'Private room' : 'private_room', 'Hotel room' : 'hotel_room', 'Shared room' : 'shared_room'}\n",
    "listings['room_type'] = listings['room_type'].replace(room_type_replace)\n",
    "\n",
    "listings.drop(['first_review', 'last_review', # host_since can be used to analyze host registrations\n",
    "               'bathrooms_text'], 1, inplace = True)"
   ]
  },
  {
   "cell_type": "code",
   "execution_count": 27,
   "id": "47f67f84",
   "metadata": {},
   "outputs": [
    {
     "data": {
      "text/html": [
       "<div>\n",
       "<style scoped>\n",
       "    .dataframe tbody tr th:only-of-type {\n",
       "        vertical-align: middle;\n",
       "    }\n",
       "\n",
       "    .dataframe tbody tr th {\n",
       "        vertical-align: top;\n",
       "    }\n",
       "\n",
       "    .dataframe thead th {\n",
       "        text-align: right;\n",
       "    }\n",
       "</style>\n",
       "<table border=\"1\" class=\"dataframe\">\n",
       "  <thead>\n",
       "    <tr style=\"text-align: right;\">\n",
       "      <th></th>\n",
       "      <th>count</th>\n",
       "      <th>unique</th>\n",
       "      <th>top</th>\n",
       "      <th>freq</th>\n",
       "    </tr>\n",
       "  </thead>\n",
       "  <tbody>\n",
       "    <tr>\n",
       "      <th>listing_url</th>\n",
       "      <td>7717</td>\n",
       "      <td>7717</td>\n",
       "      <td>https://www.airbnb.com/rooms/12419184</td>\n",
       "      <td>1</td>\n",
       "    </tr>\n",
       "    <tr>\n",
       "      <th>name</th>\n",
       "      <td>7717</td>\n",
       "      <td>7557</td>\n",
       "      <td>Apartment in the heart of Venice</td>\n",
       "      <td>6</td>\n",
       "    </tr>\n",
       "    <tr>\n",
       "      <th>description</th>\n",
       "      <td>7581</td>\n",
       "      <td>7230</td>\n",
       "      <td>Room with standard double bed, wardrobe and eq...</td>\n",
       "      <td>17</td>\n",
       "    </tr>\n",
       "    <tr>\n",
       "      <th>host_url</th>\n",
       "      <td>7717</td>\n",
       "      <td>3648</td>\n",
       "      <td>https://www.airbnb.com/users/show/2634978</td>\n",
       "      <td>131</td>\n",
       "    </tr>\n",
       "    <tr>\n",
       "      <th>host_name</th>\n",
       "      <td>7717</td>\n",
       "      <td>1333</td>\n",
       "      <td>Andrea</td>\n",
       "      <td>151</td>\n",
       "    </tr>\n",
       "    <tr>\n",
       "      <th>host_since</th>\n",
       "      <td>7717</td>\n",
       "      <td>2201</td>\n",
       "      <td>2012-06-14</td>\n",
       "      <td>136</td>\n",
       "    </tr>\n",
       "    <tr>\n",
       "      <th>host_response_time</th>\n",
       "      <td>6226</td>\n",
       "      <td>4</td>\n",
       "      <td>within_hour</td>\n",
       "      <td>5055</td>\n",
       "    </tr>\n",
       "    <tr>\n",
       "      <th>neighbourhood_cleansed</th>\n",
       "      <td>7717</td>\n",
       "      <td>57</td>\n",
       "      <td>Cannaregio</td>\n",
       "      <td>1503</td>\n",
       "    </tr>\n",
       "    <tr>\n",
       "      <th>neighbourhood_group_cleansed</th>\n",
       "      <td>7717</td>\n",
       "      <td>2</td>\n",
       "      <td>Isole</td>\n",
       "      <td>6374</td>\n",
       "    </tr>\n",
       "    <tr>\n",
       "      <th>room_type</th>\n",
       "      <td>7717</td>\n",
       "      <td>4</td>\n",
       "      <td>entire_place</td>\n",
       "      <td>5820</td>\n",
       "    </tr>\n",
       "    <tr>\n",
       "      <th>amenities</th>\n",
       "      <td>7717</td>\n",
       "      <td>7052</td>\n",
       "      <td>[\"Heating\", \"Wifi\", \"Oven\", \"Private entrance\"...</td>\n",
       "      <td>17</td>\n",
       "    </tr>\n",
       "    <tr>\n",
       "      <th>neighbourhood_cleansed_grouped</th>\n",
       "      <td>7717</td>\n",
       "      <td>12</td>\n",
       "      <td>Cannaregio</td>\n",
       "      <td>1503</td>\n",
       "    </tr>\n",
       "  </tbody>\n",
       "</table>\n",
       "</div>"
      ],
      "text/plain": [
       "                               count unique  \\\n",
       "listing_url                     7717   7717   \n",
       "name                            7717   7557   \n",
       "description                     7581   7230   \n",
       "host_url                        7717   3648   \n",
       "host_name                       7717   1333   \n",
       "host_since                      7717   2201   \n",
       "host_response_time              6226      4   \n",
       "neighbourhood_cleansed          7717     57   \n",
       "neighbourhood_group_cleansed    7717      2   \n",
       "room_type                       7717      4   \n",
       "amenities                       7717   7052   \n",
       "neighbourhood_cleansed_grouped  7717     12   \n",
       "\n",
       "                                                                              top  \\\n",
       "listing_url                                 https://www.airbnb.com/rooms/12419184   \n",
       "name                                             Apartment in the heart of Venice   \n",
       "description                     Room with standard double bed, wardrobe and eq...   \n",
       "host_url                                https://www.airbnb.com/users/show/2634978   \n",
       "host_name                                                                  Andrea   \n",
       "host_since                                                             2012-06-14   \n",
       "host_response_time                                                    within_hour   \n",
       "neighbourhood_cleansed                                                 Cannaregio   \n",
       "neighbourhood_group_cleansed                                                Isole   \n",
       "room_type                                                            entire_place   \n",
       "amenities                       [\"Heating\", \"Wifi\", \"Oven\", \"Private entrance\"...   \n",
       "neighbourhood_cleansed_grouped                                         Cannaregio   \n",
       "\n",
       "                                freq  \n",
       "listing_url                        1  \n",
       "name                               6  \n",
       "description                       17  \n",
       "host_url                         131  \n",
       "host_name                        151  \n",
       "host_since                       136  \n",
       "host_response_time              5055  \n",
       "neighbourhood_cleansed          1503  \n",
       "neighbourhood_group_cleansed    6374  \n",
       "room_type                       5820  \n",
       "amenities                         17  \n",
       "neighbourhood_cleansed_grouped  1503  "
      ]
     },
     "execution_count": 27,
     "metadata": {},
     "output_type": "execute_result"
    }
   ],
   "source": [
    "listings.describe(include = 'O').T"
   ]
  },
  {
   "cell_type": "code",
   "execution_count": null,
   "id": "042d34a9",
   "metadata": {},
   "outputs": [],
   "source": []
  },
  {
   "cell_type": "markdown",
   "id": "1bbd11d3",
   "metadata": {},
   "source": [
    "And now to treat the amenities"
   ]
  },
  {
   "cell_type": "code",
   "execution_count": 28,
   "id": "32c82d4b",
   "metadata": {},
   "outputs": [],
   "source": [
    "listings['amenities'] = listings['amenities'].apply(lambda x: literal_eval(x))"
   ]
  },
  {
   "cell_type": "code",
   "execution_count": 29,
   "id": "2b25c05b",
   "metadata": {},
   "outputs": [
    {
     "data": {
      "text/plain": [
       "603"
      ]
     },
     "execution_count": 29,
     "metadata": {},
     "output_type": "execute_result"
    }
   ],
   "source": [
    "len(set().union(*listings['amenities']))"
   ]
  },
  {
   "cell_type": "code",
   "execution_count": 30,
   "id": "5d09defd",
   "metadata": {},
   "outputs": [],
   "source": [
    "def consolidate_amenities_lists(amenities_list):\n",
    "    \n",
    "    consolidated_list = ['TV' if 'tv' in str(i).lower() else i for i in amenities_list]\n",
    "    consolidated_list = ['Free parking' if ('free' in str(i).lower() and 'parking' in str(i).lower()) else i for i in consolidated_list]\n",
    "    consolidated_list = ['Free parking' if ('complimentary' in str(i).lower() and 'parking' in str(i).lower()) else i for i in consolidated_list]\n",
    "    consolidated_list = ['Free parking' if ('free' in str(i).lower() and 'garage' in str(i).lower()) else i for i in consolidated_list]\n",
    "    consolidated_list = ['Paid parking' if ('paid' in str(i).lower() and 'parking' in str(i).lower())else i for i in consolidated_list]\n",
    "    consolidated_list = ['Air conditioning' if 'air conditioning' in str(i).lower() else i for i in consolidated_list]\n",
    "    consolidated_list = ['Clothing storage' if 'clothing storage' in str(i).lower() else i for i in consolidated_list]\n",
    "    consolidated_list = ['Refrigerator' if 'refrigerator' in str(i).lower() else i for i in consolidated_list]\n",
    "    consolidated_list = ['Refrigerator' if 'fridge' in str(i).lower() else i for i in consolidated_list]\n",
    "    consolidated_list = ['Washer' if 'washer' in str(i).lower() else i for i in consolidated_list]\n",
    "    consolidated_list = ['Oven' if 'oven' in str(i).lower() else i for i in consolidated_list]\n",
    "    consolidated_list = ['Soap' if 'soap' in str(i).lower() else i for i in consolidated_list]\n",
    "    consolidated_list = ['Stove' if 'stove' in str(i).lower() else i for i in consolidated_list]\n",
    "    consolidated_list = ['Shower' if 'shower' in str(i).lower() else i for i in consolidated_list]\n",
    "    consolidated_list = ['Bath' if 'bath' in str(i).lower() else i for i in consolidated_list]\n",
    "    consolidated_list = ['Refrigerator' if 'cooler' in str(i).lower() else i for i in consolidated_list]\n",
    "    consolidated_list = ['Shampoo' if 'shampoo' in str(i).lower() else i for i in consolidated_list]\n",
    "    consolidated_list = ['Conditioner' if 'conditioner' in str(i).lower() else i for i in consolidated_list]\n",
    "    consolidated_list = ['Sound system' if 'sound system' in str(i).lower() else i for i in consolidated_list]\n",
    "    consolidated_list = ['Essentials' if 'essentials' in str(i).lower() else i for i in consolidated_list]\n",
    "    consolidated_list = ['Children stuff' if 'children' in str(i).lower() else i for i in consolidated_list]\n",
    "    consolidated_list = ['Workspace' if 'workspace' in str(i).lower() else i for i in consolidated_list]\n",
    "    consolidated_list = ['Workspace' if 'office' in str(i).lower() else i for i in consolidated_list]\n",
    "    consolidated_list = ['Dryer' if 'Dryer' in str(i) else i for i in consolidated_list]\n",
    "    consolidated_list = ['Dryer' if ('free' in str(i).lower() and 'dryer' in str(i).lower()) else i for i in consolidated_list]\n",
    "    consolidated_list = ['Dryer' if ('paid' in str(i).lower() and 'dryer' in str(i).lower()) else i for i in consolidated_list]\n",
    "    consolidated_list = ['Wifi' if 'wifi' in str(i).lower() else i for i in consolidated_list]\n",
    "    consolidated_list = ['Wifi' if 'ethernet' in str(i).lower() else i for i in consolidated_list]\n",
    "    consolidated_list = ['Wifi' if 'internet' in str(i).lower() else i for i in consolidated_list]\n",
    "    consolidated_list = ['Heating' if 'heating' in str(i).lower() else i for i in consolidated_list]\n",
    "    consolidated_list = ['Game console' if 'game console' in str(i).lower() else i for i in consolidated_list]\n",
    "    consolidated_list = ['Gym' if 'gym' in str(i).lower() else i for i in consolidated_list]\n",
    "    consolidated_list = ['Coffee maker' if 'coffee' in str(i).lower() else i for i in consolidated_list]\n",
    "    consolidated_list = ['Coffee maker' if 'espresso' in str(i).lower() else i for i in consolidated_list]\n",
    "    consolidated_list = ['Fireplace' if 'fireplace' in str(i).lower() else i for i in consolidated_list]\n",
    "    consolidated_list = ['Fireplace' if 'fire pit' in str(i).lower() else i for i in consolidated_list]\n",
    "        \n",
    "    consolidated_list = list(collections.OrderedDict.fromkeys(consolidated_list))\n",
    "    \n",
    "    return consolidated_list"
   ]
  },
  {
   "cell_type": "code",
   "execution_count": 31,
   "id": "182b1960",
   "metadata": {},
   "outputs": [],
   "source": [
    "listings['amenities'] = listings['amenities'].apply(lambda x: consolidate_amenities_lists(x))"
   ]
  },
  {
   "cell_type": "code",
   "execution_count": 32,
   "id": "9401805e",
   "metadata": {},
   "outputs": [
    {
     "data": {
      "text/plain": [
       "158"
      ]
     },
     "execution_count": 32,
     "metadata": {},
     "output_type": "execute_result"
    }
   ],
   "source": [
    "len(set().union(*listings['amenities']))"
   ]
  },
  {
   "cell_type": "code",
   "execution_count": 33,
   "id": "87cda068",
   "metadata": {},
   "outputs": [
    {
     "data": {
      "text/plain": [
       "{'Air conditioning',\n",
       " 'Airport shuttle',\n",
       " 'BBQ grill',\n",
       " 'Baby monitor',\n",
       " 'Baby safety gates',\n",
       " 'Babysitter recommendations',\n",
       " 'Backyard',\n",
       " 'Baking sheet',\n",
       " 'Balcony',\n",
       " 'Barbecue utensils',\n",
       " 'Bath',\n",
       " 'Beachfront',\n",
       " 'Bed linens',\n",
       " 'Bed sheets and pillows',\n",
       " 'Bedroom comforts',\n",
       " 'Bidet',\n",
       " 'Board games',\n",
       " 'Boat slip',\n",
       " 'Bottled water',\n",
       " 'Bread maker',\n",
       " 'Breakfast',\n",
       " 'Breakfast bar',\n",
       " 'Breakfast table',\n",
       " 'Building staff',\n",
       " 'Carbon monoxide alarm',\n",
       " 'Ceiling fan',\n",
       " 'Changing table',\n",
       " 'Children stuff',\n",
       " 'Cleaning before checkout',\n",
       " 'Cleaning products',\n",
       " 'Clothing storage',\n",
       " 'Coffee maker',\n",
       " 'Complimentary breakfast',\n",
       " 'Complimentary breakfast buffet',\n",
       " 'Concierge',\n",
       " 'Conditioner',\n",
       " 'Cooking basics',\n",
       " 'Courtyard',\n",
       " 'Crib',\n",
       " 'Desk',\n",
       " 'Dining area',\n",
       " 'Dining table',\n",
       " 'Dishes and silverware',\n",
       " 'Dryer',\n",
       " 'Drying rack for clothing',\n",
       " 'EV charger',\n",
       " 'Elevator',\n",
       " 'Essentials',\n",
       " 'Extra pillows and blankets',\n",
       " 'Fenced garden or backyard',\n",
       " 'Fire extinguisher',\n",
       " 'Fireplace',\n",
       " 'First aid kit',\n",
       " 'Formal dining area',\n",
       " 'Free parking',\n",
       " 'Freezer',\n",
       " 'Full kitchen',\n",
       " 'Game console',\n",
       " 'Garden',\n",
       " 'Garden or backyard',\n",
       " 'Gated community',\n",
       " 'Gated property',\n",
       " 'Gym',\n",
       " 'Hair dryer',\n",
       " 'Hammam',\n",
       " 'Hangers',\n",
       " 'Heating',\n",
       " 'High chair',\n",
       " 'Host greets you',\n",
       " 'Hot tub',\n",
       " 'Hot water',\n",
       " 'Hot water kettle',\n",
       " 'Housekeeping',\n",
       " 'Iron',\n",
       " 'Ironing board',\n",
       " 'Kayak',\n",
       " 'Keypad',\n",
       " 'Kitchen',\n",
       " 'Kitchenette',\n",
       " 'Lake access',\n",
       " 'Laundromat nearby',\n",
       " 'Library',\n",
       " 'Lock on bedroom door',\n",
       " 'Lockbox',\n",
       " 'Long term stays allowed',\n",
       " 'Luggage dropoff allowed',\n",
       " 'Media room',\n",
       " 'Microwave',\n",
       " 'Minibar',\n",
       " 'Mosquito net',\n",
       " 'Onsite bar',\n",
       " 'Outdoor dining area',\n",
       " 'Outdoor furniture',\n",
       " 'Outdoor seating',\n",
       " 'Outlet covers',\n",
       " 'Oven',\n",
       " 'Pack ’n Play/travel crib',\n",
       " 'Paid parking',\n",
       " 'Patio or balcony',\n",
       " 'Pergola',\n",
       " 'Pets allowed',\n",
       " 'Piano',\n",
       " 'Ping pong table',\n",
       " 'Pool',\n",
       " 'Pool table',\n",
       " 'Portable fans',\n",
       " 'Portable heater',\n",
       " 'Private entrance',\n",
       " 'Private fenced garden or backyard',\n",
       " 'Private garden or backyard',\n",
       " 'Private hot tub',\n",
       " 'Private patio or balcony',\n",
       " 'Private sauna',\n",
       " 'Projector',\n",
       " 'Record player',\n",
       " 'Refrigerator',\n",
       " 'Restaurant',\n",
       " 'Rice maker',\n",
       " 'Rooftop',\n",
       " 'Room service',\n",
       " 'Room-darkening shades',\n",
       " 'Safe',\n",
       " 'Sauna',\n",
       " 'Security cameras on property',\n",
       " 'Self check-in',\n",
       " 'Shampoo',\n",
       " 'Shared fenced garden or backyard',\n",
       " 'Shared garden or backyard',\n",
       " 'Shared hot tub',\n",
       " 'Shared indoor heated infinity pool',\n",
       " 'Shared patio or balcony',\n",
       " 'Shared sauna',\n",
       " 'Shower',\n",
       " 'Single level home',\n",
       " 'Ski-in/Ski-out',\n",
       " 'Slippers',\n",
       " 'Smart lock',\n",
       " 'Smoke alarm',\n",
       " 'Smoking allowed',\n",
       " 'Soap',\n",
       " 'Sound system',\n",
       " 'Stove',\n",
       " 'Suitable for events',\n",
       " 'TV',\n",
       " 'Table corner guards',\n",
       " 'Terrace',\n",
       " 'Toaster',\n",
       " 'Toiletries',\n",
       " 'Trash compactor',\n",
       " 'Turndown service',\n",
       " 'Washer',\n",
       " 'Waterfront',\n",
       " 'Wifi',\n",
       " 'Window AC unit',\n",
       " 'Window guards',\n",
       " 'Wine glasses',\n",
       " 'Workspace',\n",
       " 'bikes'}"
      ]
     },
     "execution_count": 33,
     "metadata": {},
     "output_type": "execute_result"
    }
   ],
   "source": [
    "set().union(*listings['amenities'])"
   ]
  },
  {
   "cell_type": "markdown",
   "id": "653abbe3",
   "metadata": {},
   "source": [
    "After consolidation check top 20 amenities, keep them for one hot encoding"
   ]
  },
  {
   "cell_type": "code",
   "execution_count": 34,
   "id": "09b54a49",
   "metadata": {},
   "outputs": [
    {
     "data": {
      "text/plain": [
       "[('Heating', 7483),\n",
       " ('Wifi', 7333),\n",
       " ('Essentials', 7304),\n",
       " ('Hair dryer', 7202),\n",
       " ('Long term stays allowed', 6876),\n",
       " ('Hangers', 6541),\n",
       " ('Air conditioning', 6409),\n",
       " ('TV', 6396),\n",
       " ('Kitchen', 6271),\n",
       " ('Hot water', 5864),\n",
       " ('Shampoo', 5359),\n",
       " ('Iron', 5283),\n",
       " ('Washer', 5143),\n",
       " ('Refrigerator', 5026),\n",
       " ('Workspace', 5003),\n",
       " ('Dishes and silverware', 4936),\n",
       " ('Cooking basics', 4581),\n",
       " ('Bed linens', 4153),\n",
       " ('Coffee maker', 4031),\n",
       " ('Stove', 3680),\n",
       " ('Microwave', 3632),\n",
       " ('Oven', 3024),\n",
       " ('Host greets you', 2942),\n",
       " ('Extra pillows and blankets', 2766),\n",
       " ('Private entrance', 2566),\n",
       " ('Luggage dropoff allowed', 2249),\n",
       " ('First aid kit', 2247),\n",
       " ('Fire extinguisher', 2130),\n",
       " ('Smoke alarm', 2021),\n",
       " ('Carbon monoxide alarm', 1733)]"
      ]
     },
     "execution_count": 34,
     "metadata": {},
     "output_type": "execute_result"
    }
   ],
   "source": [
    "select_top_amenities = 30\n",
    "\n",
    "flattened_amenities = [item for sublist in listings['amenities'].tolist() for item in sublist]\n",
    "amenities_count = collections.Counter(flattened_amenities)\n",
    "amenities_count.most_common(select_top_amenities)"
   ]
  },
  {
   "cell_type": "code",
   "execution_count": 35,
   "id": "d75652d2",
   "metadata": {},
   "outputs": [
    {
     "data": {
      "image/png": "[encoded data removed]",
      "text/plain": [
       "<Figure size 864x576 with 1 Axes>"
      ]
     },
     "metadata": {
      "needs_background": "light"
     },
     "output_type": "display_data"
    }
   ],
   "source": [
    "wordcloud = WordCloud(min_word_length = 3, background_color = 'white', width = 800, height = 500, \n",
    "                      max_words = 100, random_state = 20202020, min_font_size = 7, prefer_horizontal = 3/4,\n",
    "                      colormap = 'brg')\n",
    "wordcloud.generate_from_frequencies(amenities_count)\n",
    "\n",
    "plt.figure(figsize = (12, 8))\n",
    "plt.imshow(wordcloud, interpolation='bilinear')\n",
    "plt.axis('off')\n",
    "plt.show()\n",
    "\n",
    "# colormaps: https://matplotlib.org/stable/tutorials/colors/colormaps.html"
   ]
  },
  {
   "cell_type": "code",
   "execution_count": 36,
   "id": "6aece889",
   "metadata": {},
   "outputs": [
    {
     "name": "stdout",
     "output_type": "stream",
     "text": [
      "Top amenities included:  ['Heating', 'Wifi', 'Essentials', 'Hair dryer', 'Long term stays allowed', 'Hangers', 'Air conditioning', 'TV', 'Kitchen', 'Hot water', 'Shampoo', 'Iron', 'Washer', 'Refrigerator', 'Workspace', 'Dishes and silverware', 'Cooking basics', 'Bed linens', 'Coffee maker', 'Stove', 'Microwave', 'Oven', 'Host greets you', 'Extra pillows and blankets', 'Private entrance', 'Luggage dropoff allowed', 'First aid kit', 'Fire extinguisher', 'Smoke alarm', 'Carbon monoxide alarm']\n"
     ]
    }
   ],
   "source": [
    "top_amenities = [i[0] for i in amenities_count.most_common(select_top_amenities)]\n",
    "#top_amenities.extend(['Pets allowed', 'Self check-in'])\n",
    "\n",
    "print('Top amenities included: ', top_amenities)"
   ]
  },
  {
   "cell_type": "code",
   "execution_count": 37,
   "id": "5cf04a35",
   "metadata": {},
   "outputs": [],
   "source": [
    "def reduce_amenities(amenities_list):\n",
    "    \n",
    "    reduced_amenities = ['amenity_' + '_'.join(i.split()).lower() for i in amenities_list if i in top_amenities]\n",
    "    \n",
    "    return sorted(reduced_amenities)"
   ]
  },
  {
   "cell_type": "code",
   "execution_count": 38,
   "id": "527babaf",
   "metadata": {},
   "outputs": [],
   "source": [
    "listings['amenities'] = listings['amenities'].apply(lambda x: reduce_amenities(x))"
   ]
  },
  {
   "cell_type": "code",
   "execution_count": 39,
   "id": "5b805ded",
   "metadata": {},
   "outputs": [],
   "source": [
    "for amenity_col in list(set().union(*listings['amenities'])):       \n",
    "    listings[amenity_col] = listings['amenities'].apply(lambda x: 1 if amenity_col in x else 0)\n",
    "    \n",
    "listings.drop(['amenities'], 1, inplace = True)"
   ]
  },
  {
   "cell_type": "markdown",
   "id": "f7f8aaa1",
   "metadata": {},
   "source": [
    "#### Listing name and description may also be helpful. \n",
    "- Number of words in name\n",
    "- Number of words in description\n",
    "- Maybe some one hot encoding of certain words (luxurious, spacious, etc...)"
   ]
  },
  {
   "cell_type": "code",
   "execution_count": 40,
   "id": "cebe8a8a",
   "metadata": {},
   "outputs": [
    {
     "data": {
      "text/html": [
       "<div>\n",
       "<style scoped>\n",
       "    .dataframe tbody tr th:only-of-type {\n",
       "        vertical-align: middle;\n",
       "    }\n",
       "\n",
       "    .dataframe tbody tr th {\n",
       "        vertical-align: top;\n",
       "    }\n",
       "\n",
       "    .dataframe thead th {\n",
       "        text-align: right;\n",
       "    }\n",
       "</style>\n",
       "<table border=\"1\" class=\"dataframe\">\n",
       "  <thead>\n",
       "    <tr style=\"text-align: right;\">\n",
       "      <th></th>\n",
       "      <th>name</th>\n",
       "      <th>description</th>\n",
       "    </tr>\n",
       "  </thead>\n",
       "  <tbody>\n",
       "    <tr>\n",
       "      <th>0</th>\n",
       "      <td>Venice Blue on Canal apartment</td>\n",
       "      <td>I'm thrilled to share my \"Blue on Venice Canal...</td>\n",
       "    </tr>\n",
       "    <tr>\n",
       "      <th>1</th>\n",
       "      <td>Venice garden charme and canal view!</td>\n",
       "      <td>I'm thrilled to share my apartment with garden...</td>\n",
       "    </tr>\n",
       "    <tr>\n",
       "      <th>2</th>\n",
       "      <td>Venice home to relax and emotions</td>\n",
       "      <td>I'm thrilled to share my home to guests coming...</td>\n",
       "    </tr>\n",
       "    <tr>\n",
       "      <th>3</th>\n",
       "      <td>Charming room with balcony close to S. Mark's</td>\n",
       "      <td>Few steps from Saint Mark square, on a picture...</td>\n",
       "    </tr>\n",
       "    <tr>\n",
       "      <th>4</th>\n",
       "      <td>Historical Luxury Apartment on Calm Sunny Canal</td>\n",
       "      <td>Descend a spiral staircase to discover an apar...</td>\n",
       "    </tr>\n",
       "  </tbody>\n",
       "</table>\n",
       "</div>"
      ],
      "text/plain": [
       "                                              name  \\\n",
       "0                   Venice Blue on Canal apartment   \n",
       "1             Venice garden charme and canal view!   \n",
       "2                Venice home to relax and emotions   \n",
       "3    Charming room with balcony close to S. Mark's   \n",
       "4  Historical Luxury Apartment on Calm Sunny Canal   \n",
       "\n",
       "                                         description  \n",
       "0  I'm thrilled to share my \"Blue on Venice Canal...  \n",
       "1  I'm thrilled to share my apartment with garden...  \n",
       "2  I'm thrilled to share my home to guests coming...  \n",
       "3  Few steps from Saint Mark square, on a picture...  \n",
       "4  Descend a spiral staircase to discover an apar...  "
      ]
     },
     "execution_count": 40,
     "metadata": {},
     "output_type": "execute_result"
    }
   ],
   "source": [
    "listings[['name', 'description']].head()"
   ]
  },
  {
   "cell_type": "markdown",
   "id": "961618c1",
   "metadata": {},
   "source": [
    "Clean text from non alphabetic characters, stopwords"
   ]
  },
  {
   "cell_type": "code",
   "execution_count": 41,
   "id": "3b0243ed",
   "metadata": {},
   "outputs": [],
   "source": [
    "def process_text(text, remove_stopwords = False):    \n",
    "    text = text.lower()\n",
    "    \n",
    "    # clean text\n",
    "    text = re.compile('<.*?>').sub(' ', text) # html tags\n",
    "    text = re.compile('[^a-z]').sub(' ', text) # nonletters      \n",
    "    text = re.compile('\\s+').sub(' ', text) # whitespaces\n",
    "    text = text.strip() # trailing whitespaces\n",
    "    \n",
    "    if remove_stopwords == True:\n",
    "        \n",
    "        # remove stopwords\n",
    "        text = ' '.join([word for word in text.split() if word not in (stopwords.words('english'))])\n",
    "    \n",
    "    return text"
   ]
  },
  {
   "cell_type": "code",
   "execution_count": 42,
   "id": "648c1219",
   "metadata": {},
   "outputs": [],
   "source": [
    "listings['description_cleaned'] = listings['description'].apply(lambda x: process_text(x) if isinstance(x, float) == False else x)\n",
    "listings['name_cleaned'] = listings['name'].apply(lambda x: process_text(x) if isinstance(x, float) == False else x)"
   ]
  },
  {
   "cell_type": "code",
   "execution_count": 43,
   "id": "3b500bed",
   "metadata": {},
   "outputs": [],
   "source": [
    "listings['name_cleaned_length'] = listings['name_cleaned'].apply(lambda x: len(x.split()) if isinstance(x, float) == False else 0)\n",
    "listings['description_cleaned_length'] = listings['description_cleaned'].apply(lambda x: len(x.split()) if isinstance(x, float) == False else 0)"
   ]
  },
  {
   "cell_type": "code",
   "execution_count": 44,
   "id": "6b404220",
   "metadata": {},
   "outputs": [],
   "source": [
    "listings['name_cleaned_no_stopwords'] = listings['name'].apply(lambda x: process_text(x, remove_stopwords = True) if isinstance(x, float) == False else x)"
   ]
  },
  {
   "cell_type": "code",
   "execution_count": 45,
   "id": "62ff0c13",
   "metadata": {},
   "outputs": [],
   "source": [
    "word_vectorizer = CountVectorizer(ngram_range = (1, 2), analyzer = 'word')\n",
    "sparse_matrix = word_vectorizer.fit_transform(listings['name_cleaned_no_stopwords'].astype(str))\n",
    "frequencies = sum(sparse_matrix).toarray()[0]\n",
    "\n",
    "word_counts = pd.DataFrame(frequencies, index = word_vectorizer.get_feature_names(), columns = ['frequency'])"
   ]
  },
  {
   "cell_type": "code",
   "execution_count": 46,
   "id": "bc432118",
   "metadata": {},
   "outputs": [
    {
     "data": {
      "text/html": [
       "<div>\n",
       "<style scoped>\n",
       "    .dataframe tbody tr th:only-of-type {\n",
       "        vertical-align: middle;\n",
       "    }\n",
       "\n",
       "    .dataframe tbody tr th {\n",
       "        vertical-align: top;\n",
       "    }\n",
       "\n",
       "    .dataframe thead th {\n",
       "        text-align: right;\n",
       "    }\n",
       "</style>\n",
       "<table border=\"1\" class=\"dataframe\">\n",
       "  <thead>\n",
       "    <tr style=\"text-align: right;\">\n",
       "      <th></th>\n",
       "      <th>frequency</th>\n",
       "    </tr>\n",
       "  </thead>\n",
       "  <tbody>\n",
       "    <tr>\n",
       "      <th>venice</th>\n",
       "      <td>1550</td>\n",
       "    </tr>\n",
       "    <tr>\n",
       "      <th>apartment</th>\n",
       "      <td>1419</td>\n",
       "    </tr>\n",
       "    <tr>\n",
       "      <th>ca</th>\n",
       "      <td>831</td>\n",
       "    </tr>\n",
       "    <tr>\n",
       "      <th>room</th>\n",
       "      <td>806</td>\n",
       "    </tr>\n",
       "    <tr>\n",
       "      <th>san</th>\n",
       "      <td>662</td>\n",
       "    </tr>\n",
       "    <tr>\n",
       "      <th>view</th>\n",
       "      <td>587</td>\n",
       "    </tr>\n",
       "    <tr>\n",
       "      <th>canal</th>\n",
       "      <td>579</td>\n",
       "    </tr>\n",
       "    <tr>\n",
       "      <th>marco</th>\n",
       "      <td>552</td>\n",
       "    </tr>\n",
       "    <tr>\n",
       "      <th>venezia</th>\n",
       "      <td>545</td>\n",
       "    </tr>\n",
       "    <tr>\n",
       "      <th>san marco</th>\n",
       "      <td>457</td>\n",
       "    </tr>\n",
       "    <tr>\n",
       "      <th>casa</th>\n",
       "      <td>442</td>\n",
       "    </tr>\n",
       "    <tr>\n",
       "      <th>rialto</th>\n",
       "      <td>414</td>\n",
       "    </tr>\n",
       "    <tr>\n",
       "      <th>appartamento</th>\n",
       "      <td>367</td>\n",
       "    </tr>\n",
       "    <tr>\n",
       "      <th>house</th>\n",
       "      <td>355</td>\n",
       "    </tr>\n",
       "    <tr>\n",
       "      <th>canal view</th>\n",
       "      <td>349</td>\n",
       "    </tr>\n",
       "    <tr>\n",
       "      <th>biennale</th>\n",
       "      <td>307</td>\n",
       "    </tr>\n",
       "    <tr>\n",
       "      <th>terrace</th>\n",
       "      <td>287</td>\n",
       "    </tr>\n",
       "    <tr>\n",
       "      <th>private</th>\n",
       "      <td>276</td>\n",
       "    </tr>\n",
       "    <tr>\n",
       "      <th>suite</th>\n",
       "      <td>270</td>\n",
       "    </tr>\n",
       "    <tr>\n",
       "      <th>double</th>\n",
       "      <td>266</td>\n",
       "    </tr>\n",
       "  </tbody>\n",
       "</table>\n",
       "</div>"
      ],
      "text/plain": [
       "              frequency\n",
       "venice             1550\n",
       "apartment          1419\n",
       "ca                  831\n",
       "room                806\n",
       "san                 662\n",
       "view                587\n",
       "canal               579\n",
       "marco               552\n",
       "venezia             545\n",
       "san marco           457\n",
       "casa                442\n",
       "rialto              414\n",
       "appartamento        367\n",
       "house               355\n",
       "canal view          349\n",
       "biennale            307\n",
       "terrace             287\n",
       "private             276\n",
       "suite               270\n",
       "double              266"
      ]
     },
     "execution_count": 46,
     "metadata": {},
     "output_type": "execute_result"
    }
   ],
   "source": [
    "word_counts.sort_values('frequency', ascending = False).head(20)"
   ]
  },
  {
   "cell_type": "markdown",
   "id": "1d1efd26",
   "metadata": {},
   "source": [
    "Based on unigrams and ngrams I can create a couple of feature indicating if something is mentioned in the name or description"
   ]
  },
  {
   "cell_type": "code",
   "execution_count": 47,
   "id": "6331385f",
   "metadata": {},
   "outputs": [],
   "source": [
    "touristy_words = ['rialto', 'canal', 'marco'] # for venezia\n",
    "# touristy_words = ['sagrada', 'familia', 'gracia'] # for barcelona\n",
    "# touristy_words = ['duomo', 'center', 'centro', 'view', 'heart'] # for firenze\n",
    "\n",
    "# touristy_words = ['center', 'central', 'nbrunn', 'sch'] # for vienna\n",
    "\n",
    "pattern = '|'.join(touristy_words)\n",
    "\n",
    "listings['name_touristy'] = 0\n",
    "listings.loc[(listings['name_cleaned'].notnull() & \n",
    "              listings['name_cleaned'].str.contains(pattern)), 'name_touristy'] = 1"
   ]
  },
  {
   "cell_type": "code",
   "execution_count": 48,
   "id": "f5b70526",
   "metadata": {},
   "outputs": [],
   "source": [
    "listings.drop(['name_cleaned', 'description_cleaned', 'name_cleaned_no_stopwords'], 1, inplace = True)"
   ]
  },
  {
   "cell_type": "code",
   "execution_count": null,
   "id": "f2293e19",
   "metadata": {},
   "outputs": [],
   "source": []
  },
  {
   "cell_type": "markdown",
   "id": "cf32eae6",
   "metadata": {},
   "source": [
    "#### Check numerical features"
   ]
  },
  {
   "cell_type": "code",
   "execution_count": 49,
   "id": "7970ede5",
   "metadata": {},
   "outputs": [],
   "source": [
    "listings.drop(['minimum_minimum_nights', 'maximum_minimum_nights', 'maximum_nights_avg_ntm', 'minimum_nights_avg_ntm',\n",
    "               'minimum_maximum_nights', 'maximum_maximum_nights', 'host_listings_count', 'maximum_nights', \n",
    "               'calculated_host_listings_count', 'calculated_host_listings_count_entire_homes', \n",
    "               'calculated_host_listings_count_private_rooms', 'calculated_host_listings_count_shared_rooms'], 1, inplace = True)"
   ]
  },
  {
   "cell_type": "markdown",
   "id": "5a567b06",
   "metadata": {},
   "source": [
    "Drop items above 99th percentile"
   ]
  },
  {
   "cell_type": "code",
   "execution_count": 50,
   "id": "c1f28245",
   "metadata": {
    "scrolled": false
   },
   "outputs": [
    {
     "data": {
      "text/plain": [
       "price                        839.36\n",
       "host_total_listings_count    129.00\n",
       "beds                           8.00\n",
       "bedrooms                       5.00\n",
       "bathrooms_count                4.00\n",
       "Name: 99%, dtype: float64"
      ]
     },
     "execution_count": 50,
     "metadata": {},
     "output_type": "execute_result"
    }
   ],
   "source": [
    "check_99th_perc = ['host_total_listings_count', 'bedrooms', 'beds', 'price', 'bathrooms_count']\n",
    "\n",
    "perc_99_values = listings[check_99th_perc].describe(exclude = ['O'], \n",
    "                                           percentiles = [.99])\\\n",
    "                                          .T['99%']\\\n",
    "                                          .sort_values(ascending = False)\n",
    "\n",
    "perc_99_values"
   ]
  },
  {
   "cell_type": "code",
   "execution_count": null,
   "id": "613796c4",
   "metadata": {},
   "outputs": [],
   "source": []
  },
  {
   "cell_type": "code",
   "execution_count": 51,
   "id": "596d5c2f",
   "metadata": {},
   "outputs": [
    {
     "name": "stdout",
     "output_type": "stream",
     "text": [
      "(7717, 82)\n",
      "(7283, 82)\n"
     ]
    }
   ],
   "source": [
    "print(listings.shape)\n",
    "\n",
    "for num_col in perc_99_values.index:\n",
    "    \n",
    "    perc_99_value = perc_99_values[num_col]\n",
    "    listings = listings.loc[listings[num_col] <= perc_99_value]\n",
    "    \n",
    "print(listings.shape)"
   ]
  },
  {
   "cell_type": "markdown",
   "id": "6d7856b3",
   "metadata": {},
   "source": [
    "Check skewness and drop features based on that"
   ]
  },
  {
   "cell_type": "code",
   "execution_count": 55,
   "id": "dcf15ae3",
   "metadata": {},
   "outputs": [
    {
     "name": "stdout",
     "output_type": "stream",
     "text": [
      "host_has_profile_pic          -16.650320\n",
      "minimum_nights                 37.362552\n",
      "has_availability              -16.650320\n",
      "review_scores_rating           -5.480217\n",
      "review_scores_checkin          -5.507301\n",
      "review_scores_communication    -5.115671\n",
      "review_scores_location         -6.566216\n",
      "amenity_heating                -5.617777\n",
      "dtype: float64\n"
     ]
    }
   ],
   "source": [
    "skewness = listings.skew(skipna = True)\n",
    "skewness = skewness[skewness.abs() >= 5]\n",
    "\n",
    "print(skewness)\n",
    "\n",
    "skewness = [i for i in skewness.index if i != 'review_scores_rating'] # will be the target, no matter the skewness\n",
    "listings.drop(skewness, 1, inplace = True)"
   ]
  },
  {
   "cell_type": "markdown",
   "id": "d68b6758",
   "metadata": {},
   "source": [
    "Shouldnt have 0 or half a bathroom"
   ]
  },
  {
   "cell_type": "code",
   "execution_count": 57,
   "id": "88cad1ff",
   "metadata": {},
   "outputs": [],
   "source": [
    "if 'bathrooms_count' in listings.columns:\n",
    "    listings = listings[listings['bathrooms_count'] >= 1]"
   ]
  },
  {
   "cell_type": "markdown",
   "id": "cadeda5f",
   "metadata": {},
   "source": [
    "The following numerical features could be binned to groups\n",
    "- bedrooms\n",
    "- bathrooms"
   ]
  },
  {
   "cell_type": "code",
   "execution_count": 58,
   "id": "8900ad3d",
   "metadata": {},
   "outputs": [],
   "source": [
    "# listings['bedrooms'] = listings['bedrooms'].apply(lambda x: '1_bedroom' if x == 1 else ('2_bedrooms' if x == 2 else '2_plus_bedrooms'))\n",
    "# listings['bathrooms_count'] = listings['bathrooms_count'].apply(lambda x: '1_bathroom' if x == 1 else ('1.5_bathrooms' if x == 1.5 else ('2_bathrooms' if x == 2 else '2_plus_bathrooms')))"
   ]
  },
  {
   "cell_type": "markdown",
   "id": "d688dcab",
   "metadata": {},
   "source": [
    "#### Check int features"
   ]
  },
  {
   "cell_type": "code",
   "execution_count": 59,
   "id": "04a348ad",
   "metadata": {},
   "outputs": [],
   "source": [
    "# listings['accommodates'] = listings['accommodates'].apply(lambda x: '1' if x == 1 else ('2' if x == 2 else ('3' if x == 3 else ('4' if x == 4 else ('5' if x == 5 else '5_plus')))))"
   ]
  },
  {
   "cell_type": "markdown",
   "id": "985e3f95",
   "metadata": {},
   "source": [
    "Check balances of 1/0 (true/false) features. Drop features with overwhelming majorities (>90% in one class)"
   ]
  },
  {
   "cell_type": "code",
   "execution_count": 60,
   "id": "1405e723",
   "metadata": {},
   "outputs": [
    {
     "name": "stdout",
     "output_type": "stream",
     "text": [
      "['host_is_superhost', 'host_identity_verified', 'instant_bookable', 'description_host', 'description_neighbourhood', 'bathrooms_are_shared', 'amenity_hot_water', 'amenity_host_greets_you', 'amenity_carbon_monoxide_alarm', 'amenity_cooking_basics', 'amenity_workspace', 'amenity_smoke_alarm', 'amenity_private_entrance', 'amenity_coffee_maker', 'amenity_iron', 'amenity_luggage_dropoff_allowed', 'amenity_essentials', 'amenity_bed_linens', 'amenity_fire_extinguisher', 'amenity_hair_dryer', 'amenity_oven', 'amenity_extra_pillows_and_blankets', 'amenity_stove', 'amenity_first_aid_kit', 'amenity_tv', 'amenity_washer', 'amenity_wifi', 'amenity_shampoo', 'amenity_dishes_and_silverware', 'amenity_hangers', 'amenity_refrigerator', 'amenity_kitchen', 'amenity_microwave', 'amenity_long_term_stays_allowed', 'amenity_air_conditioning', 'name_touristy']\n"
     ]
    }
   ],
   "source": [
    "true_false_features = listings.select_dtypes('int64').max()[listings.select_dtypes('int64').max() == 1].index.tolist()\n",
    "print(true_false_features)"
   ]
  },
  {
   "cell_type": "code",
   "execution_count": 61,
   "id": "dda2fa44",
   "metadata": {},
   "outputs": [
    {
     "data": {
      "text/html": [
       "<div>\n",
       "<style scoped>\n",
       "    .dataframe tbody tr th:only-of-type {\n",
       "        vertical-align: middle;\n",
       "    }\n",
       "\n",
       "    .dataframe tbody tr th {\n",
       "        vertical-align: top;\n",
       "    }\n",
       "\n",
       "    .dataframe thead th {\n",
       "        text-align: right;\n",
       "    }\n",
       "</style>\n",
       "<table border=\"1\" class=\"dataframe\">\n",
       "  <thead>\n",
       "    <tr style=\"text-align: right;\">\n",
       "      <th></th>\n",
       "      <th>count</th>\n",
       "      <th>min</th>\n",
       "      <th>1%</th>\n",
       "      <th>10%</th>\n",
       "      <th>25%</th>\n",
       "      <th>50%</th>\n",
       "      <th>75%</th>\n",
       "      <th>90%</th>\n",
       "      <th>99%</th>\n",
       "      <th>max</th>\n",
       "    </tr>\n",
       "  </thead>\n",
       "  <tbody>\n",
       "    <tr>\n",
       "      <th>host_is_superhost</th>\n",
       "      <td>7234</td>\n",
       "      <td>0</td>\n",
       "      <td>0</td>\n",
       "      <td>0</td>\n",
       "      <td>0</td>\n",
       "      <td>0</td>\n",
       "      <td>1</td>\n",
       "      <td>1</td>\n",
       "      <td>1</td>\n",
       "      <td>1</td>\n",
       "    </tr>\n",
       "    <tr>\n",
       "      <th>host_identity_verified</th>\n",
       "      <td>7234</td>\n",
       "      <td>0</td>\n",
       "      <td>0</td>\n",
       "      <td>0</td>\n",
       "      <td>1</td>\n",
       "      <td>1</td>\n",
       "      <td>1</td>\n",
       "      <td>1</td>\n",
       "      <td>1</td>\n",
       "      <td>1</td>\n",
       "    </tr>\n",
       "    <tr>\n",
       "      <th>instant_bookable</th>\n",
       "      <td>7234</td>\n",
       "      <td>0</td>\n",
       "      <td>0</td>\n",
       "      <td>0</td>\n",
       "      <td>0</td>\n",
       "      <td>1</td>\n",
       "      <td>1</td>\n",
       "      <td>1</td>\n",
       "      <td>1</td>\n",
       "      <td>1</td>\n",
       "    </tr>\n",
       "    <tr>\n",
       "      <th>description_host</th>\n",
       "      <td>7234</td>\n",
       "      <td>0</td>\n",
       "      <td>0</td>\n",
       "      <td>0</td>\n",
       "      <td>0</td>\n",
       "      <td>0</td>\n",
       "      <td>1</td>\n",
       "      <td>1</td>\n",
       "      <td>1</td>\n",
       "      <td>1</td>\n",
       "    </tr>\n",
       "    <tr>\n",
       "      <th>description_neighbourhood</th>\n",
       "      <td>7234</td>\n",
       "      <td>0</td>\n",
       "      <td>0</td>\n",
       "      <td>0</td>\n",
       "      <td>0</td>\n",
       "      <td>0</td>\n",
       "      <td>1</td>\n",
       "      <td>1</td>\n",
       "      <td>1</td>\n",
       "      <td>1</td>\n",
       "    </tr>\n",
       "    <tr>\n",
       "      <th>bathrooms_are_shared</th>\n",
       "      <td>7234</td>\n",
       "      <td>0</td>\n",
       "      <td>0</td>\n",
       "      <td>0</td>\n",
       "      <td>0</td>\n",
       "      <td>0</td>\n",
       "      <td>0</td>\n",
       "      <td>0</td>\n",
       "      <td>1</td>\n",
       "      <td>1</td>\n",
       "    </tr>\n",
       "    <tr>\n",
       "      <th>amenity_hot_water</th>\n",
       "      <td>7234</td>\n",
       "      <td>0</td>\n",
       "      <td>0</td>\n",
       "      <td>0</td>\n",
       "      <td>1</td>\n",
       "      <td>1</td>\n",
       "      <td>1</td>\n",
       "      <td>1</td>\n",
       "      <td>1</td>\n",
       "      <td>1</td>\n",
       "    </tr>\n",
       "    <tr>\n",
       "      <th>amenity_host_greets_you</th>\n",
       "      <td>7234</td>\n",
       "      <td>0</td>\n",
       "      <td>0</td>\n",
       "      <td>0</td>\n",
       "      <td>0</td>\n",
       "      <td>0</td>\n",
       "      <td>1</td>\n",
       "      <td>1</td>\n",
       "      <td>1</td>\n",
       "      <td>1</td>\n",
       "    </tr>\n",
       "    <tr>\n",
       "      <th>amenity_carbon_monoxide_alarm</th>\n",
       "      <td>7234</td>\n",
       "      <td>0</td>\n",
       "      <td>0</td>\n",
       "      <td>0</td>\n",
       "      <td>0</td>\n",
       "      <td>0</td>\n",
       "      <td>0</td>\n",
       "      <td>1</td>\n",
       "      <td>1</td>\n",
       "      <td>1</td>\n",
       "    </tr>\n",
       "    <tr>\n",
       "      <th>amenity_cooking_basics</th>\n",
       "      <td>7234</td>\n",
       "      <td>0</td>\n",
       "      <td>0</td>\n",
       "      <td>0</td>\n",
       "      <td>0</td>\n",
       "      <td>1</td>\n",
       "      <td>1</td>\n",
       "      <td>1</td>\n",
       "      <td>1</td>\n",
       "      <td>1</td>\n",
       "    </tr>\n",
       "    <tr>\n",
       "      <th>amenity_workspace</th>\n",
       "      <td>7234</td>\n",
       "      <td>0</td>\n",
       "      <td>0</td>\n",
       "      <td>0</td>\n",
       "      <td>0</td>\n",
       "      <td>1</td>\n",
       "      <td>1</td>\n",
       "      <td>1</td>\n",
       "      <td>1</td>\n",
       "      <td>1</td>\n",
       "    </tr>\n",
       "    <tr>\n",
       "      <th>amenity_smoke_alarm</th>\n",
       "      <td>7234</td>\n",
       "      <td>0</td>\n",
       "      <td>0</td>\n",
       "      <td>0</td>\n",
       "      <td>0</td>\n",
       "      <td>0</td>\n",
       "      <td>1</td>\n",
       "      <td>1</td>\n",
       "      <td>1</td>\n",
       "      <td>1</td>\n",
       "    </tr>\n",
       "    <tr>\n",
       "      <th>amenity_private_entrance</th>\n",
       "      <td>7234</td>\n",
       "      <td>0</td>\n",
       "      <td>0</td>\n",
       "      <td>0</td>\n",
       "      <td>0</td>\n",
       "      <td>0</td>\n",
       "      <td>1</td>\n",
       "      <td>1</td>\n",
       "      <td>1</td>\n",
       "      <td>1</td>\n",
       "    </tr>\n",
       "    <tr>\n",
       "      <th>amenity_coffee_maker</th>\n",
       "      <td>7234</td>\n",
       "      <td>0</td>\n",
       "      <td>0</td>\n",
       "      <td>0</td>\n",
       "      <td>0</td>\n",
       "      <td>1</td>\n",
       "      <td>1</td>\n",
       "      <td>1</td>\n",
       "      <td>1</td>\n",
       "      <td>1</td>\n",
       "    </tr>\n",
       "    <tr>\n",
       "      <th>amenity_iron</th>\n",
       "      <td>7234</td>\n",
       "      <td>0</td>\n",
       "      <td>0</td>\n",
       "      <td>0</td>\n",
       "      <td>0</td>\n",
       "      <td>1</td>\n",
       "      <td>1</td>\n",
       "      <td>1</td>\n",
       "      <td>1</td>\n",
       "      <td>1</td>\n",
       "    </tr>\n",
       "    <tr>\n",
       "      <th>amenity_luggage_dropoff_allowed</th>\n",
       "      <td>7234</td>\n",
       "      <td>0</td>\n",
       "      <td>0</td>\n",
       "      <td>0</td>\n",
       "      <td>0</td>\n",
       "      <td>0</td>\n",
       "      <td>1</td>\n",
       "      <td>1</td>\n",
       "      <td>1</td>\n",
       "      <td>1</td>\n",
       "    </tr>\n",
       "    <tr>\n",
       "      <th>amenity_essentials</th>\n",
       "      <td>7234</td>\n",
       "      <td>0</td>\n",
       "      <td>0</td>\n",
       "      <td>1</td>\n",
       "      <td>1</td>\n",
       "      <td>1</td>\n",
       "      <td>1</td>\n",
       "      <td>1</td>\n",
       "      <td>1</td>\n",
       "      <td>1</td>\n",
       "    </tr>\n",
       "    <tr>\n",
       "      <th>amenity_bed_linens</th>\n",
       "      <td>7234</td>\n",
       "      <td>0</td>\n",
       "      <td>0</td>\n",
       "      <td>0</td>\n",
       "      <td>0</td>\n",
       "      <td>1</td>\n",
       "      <td>1</td>\n",
       "      <td>1</td>\n",
       "      <td>1</td>\n",
       "      <td>1</td>\n",
       "    </tr>\n",
       "    <tr>\n",
       "      <th>amenity_fire_extinguisher</th>\n",
       "      <td>7234</td>\n",
       "      <td>0</td>\n",
       "      <td>0</td>\n",
       "      <td>0</td>\n",
       "      <td>0</td>\n",
       "      <td>0</td>\n",
       "      <td>1</td>\n",
       "      <td>1</td>\n",
       "      <td>1</td>\n",
       "      <td>1</td>\n",
       "    </tr>\n",
       "    <tr>\n",
       "      <th>amenity_hair_dryer</th>\n",
       "      <td>7234</td>\n",
       "      <td>0</td>\n",
       "      <td>0</td>\n",
       "      <td>1</td>\n",
       "      <td>1</td>\n",
       "      <td>1</td>\n",
       "      <td>1</td>\n",
       "      <td>1</td>\n",
       "      <td>1</td>\n",
       "      <td>1</td>\n",
       "    </tr>\n",
       "    <tr>\n",
       "      <th>amenity_oven</th>\n",
       "      <td>7234</td>\n",
       "      <td>0</td>\n",
       "      <td>0</td>\n",
       "      <td>0</td>\n",
       "      <td>0</td>\n",
       "      <td>0</td>\n",
       "      <td>1</td>\n",
       "      <td>1</td>\n",
       "      <td>1</td>\n",
       "      <td>1</td>\n",
       "    </tr>\n",
       "    <tr>\n",
       "      <th>amenity_extra_pillows_and_blankets</th>\n",
       "      <td>7234</td>\n",
       "      <td>0</td>\n",
       "      <td>0</td>\n",
       "      <td>0</td>\n",
       "      <td>0</td>\n",
       "      <td>0</td>\n",
       "      <td>1</td>\n",
       "      <td>1</td>\n",
       "      <td>1</td>\n",
       "      <td>1</td>\n",
       "    </tr>\n",
       "    <tr>\n",
       "      <th>amenity_stove</th>\n",
       "      <td>7234</td>\n",
       "      <td>0</td>\n",
       "      <td>0</td>\n",
       "      <td>0</td>\n",
       "      <td>0</td>\n",
       "      <td>0</td>\n",
       "      <td>1</td>\n",
       "      <td>1</td>\n",
       "      <td>1</td>\n",
       "      <td>1</td>\n",
       "    </tr>\n",
       "    <tr>\n",
       "      <th>amenity_first_aid_kit</th>\n",
       "      <td>7234</td>\n",
       "      <td>0</td>\n",
       "      <td>0</td>\n",
       "      <td>0</td>\n",
       "      <td>0</td>\n",
       "      <td>0</td>\n",
       "      <td>1</td>\n",
       "      <td>1</td>\n",
       "      <td>1</td>\n",
       "      <td>1</td>\n",
       "    </tr>\n",
       "    <tr>\n",
       "      <th>amenity_tv</th>\n",
       "      <td>7234</td>\n",
       "      <td>0</td>\n",
       "      <td>0</td>\n",
       "      <td>0</td>\n",
       "      <td>1</td>\n",
       "      <td>1</td>\n",
       "      <td>1</td>\n",
       "      <td>1</td>\n",
       "      <td>1</td>\n",
       "      <td>1</td>\n",
       "    </tr>\n",
       "    <tr>\n",
       "      <th>amenity_washer</th>\n",
       "      <td>7234</td>\n",
       "      <td>0</td>\n",
       "      <td>0</td>\n",
       "      <td>0</td>\n",
       "      <td>0</td>\n",
       "      <td>1</td>\n",
       "      <td>1</td>\n",
       "      <td>1</td>\n",
       "      <td>1</td>\n",
       "      <td>1</td>\n",
       "    </tr>\n",
       "    <tr>\n",
       "      <th>amenity_wifi</th>\n",
       "      <td>7234</td>\n",
       "      <td>0</td>\n",
       "      <td>0</td>\n",
       "      <td>1</td>\n",
       "      <td>1</td>\n",
       "      <td>1</td>\n",
       "      <td>1</td>\n",
       "      <td>1</td>\n",
       "      <td>1</td>\n",
       "      <td>1</td>\n",
       "    </tr>\n",
       "    <tr>\n",
       "      <th>amenity_shampoo</th>\n",
       "      <td>7234</td>\n",
       "      <td>0</td>\n",
       "      <td>0</td>\n",
       "      <td>0</td>\n",
       "      <td>0</td>\n",
       "      <td>1</td>\n",
       "      <td>1</td>\n",
       "      <td>1</td>\n",
       "      <td>1</td>\n",
       "      <td>1</td>\n",
       "    </tr>\n",
       "    <tr>\n",
       "      <th>amenity_dishes_and_silverware</th>\n",
       "      <td>7234</td>\n",
       "      <td>0</td>\n",
       "      <td>0</td>\n",
       "      <td>0</td>\n",
       "      <td>0</td>\n",
       "      <td>1</td>\n",
       "      <td>1</td>\n",
       "      <td>1</td>\n",
       "      <td>1</td>\n",
       "      <td>1</td>\n",
       "    </tr>\n",
       "    <tr>\n",
       "      <th>amenity_hangers</th>\n",
       "      <td>7234</td>\n",
       "      <td>0</td>\n",
       "      <td>0</td>\n",
       "      <td>0</td>\n",
       "      <td>1</td>\n",
       "      <td>1</td>\n",
       "      <td>1</td>\n",
       "      <td>1</td>\n",
       "      <td>1</td>\n",
       "      <td>1</td>\n",
       "    </tr>\n",
       "    <tr>\n",
       "      <th>amenity_refrigerator</th>\n",
       "      <td>7234</td>\n",
       "      <td>0</td>\n",
       "      <td>0</td>\n",
       "      <td>0</td>\n",
       "      <td>0</td>\n",
       "      <td>1</td>\n",
       "      <td>1</td>\n",
       "      <td>1</td>\n",
       "      <td>1</td>\n",
       "      <td>1</td>\n",
       "    </tr>\n",
       "    <tr>\n",
       "      <th>amenity_kitchen</th>\n",
       "      <td>7234</td>\n",
       "      <td>0</td>\n",
       "      <td>0</td>\n",
       "      <td>0</td>\n",
       "      <td>1</td>\n",
       "      <td>1</td>\n",
       "      <td>1</td>\n",
       "      <td>1</td>\n",
       "      <td>1</td>\n",
       "      <td>1</td>\n",
       "    </tr>\n",
       "    <tr>\n",
       "      <th>amenity_microwave</th>\n",
       "      <td>7234</td>\n",
       "      <td>0</td>\n",
       "      <td>0</td>\n",
       "      <td>0</td>\n",
       "      <td>0</td>\n",
       "      <td>0</td>\n",
       "      <td>1</td>\n",
       "      <td>1</td>\n",
       "      <td>1</td>\n",
       "      <td>1</td>\n",
       "    </tr>\n",
       "    <tr>\n",
       "      <th>amenity_long_term_stays_allowed</th>\n",
       "      <td>7234</td>\n",
       "      <td>0</td>\n",
       "      <td>0</td>\n",
       "      <td>0</td>\n",
       "      <td>1</td>\n",
       "      <td>1</td>\n",
       "      <td>1</td>\n",
       "      <td>1</td>\n",
       "      <td>1</td>\n",
       "      <td>1</td>\n",
       "    </tr>\n",
       "    <tr>\n",
       "      <th>amenity_air_conditioning</th>\n",
       "      <td>7234</td>\n",
       "      <td>0</td>\n",
       "      <td>0</td>\n",
       "      <td>0</td>\n",
       "      <td>1</td>\n",
       "      <td>1</td>\n",
       "      <td>1</td>\n",
       "      <td>1</td>\n",
       "      <td>1</td>\n",
       "      <td>1</td>\n",
       "    </tr>\n",
       "    <tr>\n",
       "      <th>name_touristy</th>\n",
       "      <td>7234</td>\n",
       "      <td>0</td>\n",
       "      <td>0</td>\n",
       "      <td>0</td>\n",
       "      <td>0</td>\n",
       "      <td>0</td>\n",
       "      <td>0</td>\n",
       "      <td>1</td>\n",
       "      <td>1</td>\n",
       "      <td>1</td>\n",
       "    </tr>\n",
       "  </tbody>\n",
       "</table>\n",
       "</div>"
      ],
      "text/plain": [
       "                                    count  min  1%  10%  25%  50%  75%  90%  \\\n",
       "host_is_superhost                    7234    0   0    0    0    0    1    1   \n",
       "host_identity_verified               7234    0   0    0    1    1    1    1   \n",
       "instant_bookable                     7234    0   0    0    0    1    1    1   \n",
       "description_host                     7234    0   0    0    0    0    1    1   \n",
       "description_neighbourhood            7234    0   0    0    0    0    1    1   \n",
       "bathrooms_are_shared                 7234    0   0    0    0    0    0    0   \n",
       "amenity_hot_water                    7234    0   0    0    1    1    1    1   \n",
       "amenity_host_greets_you              7234    0   0    0    0    0    1    1   \n",
       "amenity_carbon_monoxide_alarm        7234    0   0    0    0    0    0    1   \n",
       "amenity_cooking_basics               7234    0   0    0    0    1    1    1   \n",
       "amenity_workspace                    7234    0   0    0    0    1    1    1   \n",
       "amenity_smoke_alarm                  7234    0   0    0    0    0    1    1   \n",
       "amenity_private_entrance             7234    0   0    0    0    0    1    1   \n",
       "amenity_coffee_maker                 7234    0   0    0    0    1    1    1   \n",
       "amenity_iron                         7234    0   0    0    0    1    1    1   \n",
       "amenity_luggage_dropoff_allowed      7234    0   0    0    0    0    1    1   \n",
       "amenity_essentials                   7234    0   0    1    1    1    1    1   \n",
       "amenity_bed_linens                   7234    0   0    0    0    1    1    1   \n",
       "amenity_fire_extinguisher            7234    0   0    0    0    0    1    1   \n",
       "amenity_hair_dryer                   7234    0   0    1    1    1    1    1   \n",
       "amenity_oven                         7234    0   0    0    0    0    1    1   \n",
       "amenity_extra_pillows_and_blankets   7234    0   0    0    0    0    1    1   \n",
       "amenity_stove                        7234    0   0    0    0    0    1    1   \n",
       "amenity_first_aid_kit                7234    0   0    0    0    0    1    1   \n",
       "amenity_tv                           7234    0   0    0    1    1    1    1   \n",
       "amenity_washer                       7234    0   0    0    0    1    1    1   \n",
       "amenity_wifi                         7234    0   0    1    1    1    1    1   \n",
       "amenity_shampoo                      7234    0   0    0    0    1    1    1   \n",
       "amenity_dishes_and_silverware        7234    0   0    0    0    1    1    1   \n",
       "amenity_hangers                      7234    0   0    0    1    1    1    1   \n",
       "amenity_refrigerator                 7234    0   0    0    0    1    1    1   \n",
       "amenity_kitchen                      7234    0   0    0    1    1    1    1   \n",
       "amenity_microwave                    7234    0   0    0    0    0    1    1   \n",
       "amenity_long_term_stays_allowed      7234    0   0    0    1    1    1    1   \n",
       "amenity_air_conditioning             7234    0   0    0    1    1    1    1   \n",
       "name_touristy                        7234    0   0    0    0    0    0    1   \n",
       "\n",
       "                                    99%  max  \n",
       "host_is_superhost                     1    1  \n",
       "host_identity_verified                1    1  \n",
       "instant_bookable                      1    1  \n",
       "description_host                      1    1  \n",
       "description_neighbourhood             1    1  \n",
       "bathrooms_are_shared                  1    1  \n",
       "amenity_hot_water                     1    1  \n",
       "amenity_host_greets_you               1    1  \n",
       "amenity_carbon_monoxide_alarm         1    1  \n",
       "amenity_cooking_basics                1    1  \n",
       "amenity_workspace                     1    1  \n",
       "amenity_smoke_alarm                   1    1  \n",
       "amenity_private_entrance              1    1  \n",
       "amenity_coffee_maker                  1    1  \n",
       "amenity_iron                          1    1  \n",
       "amenity_luggage_dropoff_allowed       1    1  \n",
       "amenity_essentials                    1    1  \n",
       "amenity_bed_linens                    1    1  \n",
       "amenity_fire_extinguisher             1    1  \n",
       "amenity_hair_dryer                    1    1  \n",
       "amenity_oven                          1    1  \n",
       "amenity_extra_pillows_and_blankets    1    1  \n",
       "amenity_stove                         1    1  \n",
       "amenity_first_aid_kit                 1    1  \n",
       "amenity_tv                            1    1  \n",
       "amenity_washer                        1    1  \n",
       "amenity_wifi                          1    1  \n",
       "amenity_shampoo                       1    1  \n",
       "amenity_dishes_and_silverware         1    1  \n",
       "amenity_hangers                       1    1  \n",
       "amenity_refrigerator                  1    1  \n",
       "amenity_kitchen                       1    1  \n",
       "amenity_microwave                     1    1  \n",
       "amenity_long_term_stays_allowed       1    1  \n",
       "amenity_air_conditioning              1    1  \n",
       "name_touristy                         1    1  "
      ]
     },
     "execution_count": 61,
     "metadata": {},
     "output_type": "execute_result"
    }
   ],
   "source": [
    "listings[true_false_features].describe(percentiles = [.01, .1, .25, .5, .75, .9, .99]).T.drop(['mean', 'std'], 1).astype(int)"
   ]
  },
  {
   "cell_type": "code",
   "execution_count": 62,
   "id": "98174a62",
   "metadata": {},
   "outputs": [
    {
     "data": {
      "text/plain": [
       "{'bathrooms_are_shared': 0.07893281725186618,\n",
       " 'amenity_essentials': 0.9496820569532762,\n",
       " 'amenity_hair_dryer': 0.9423555432679016,\n",
       " 'amenity_wifi': 0.9514791263478021}"
      ]
     },
     "execution_count": 62,
     "metadata": {},
     "output_type": "execute_result"
    }
   ],
   "source": [
    "L = listings.shape[0]\n",
    "true_false_features_balance = {}\n",
    "\n",
    "for i in true_false_features:\n",
    "    \n",
    "    n_true = listings[i].sum()\n",
    "    n_false = L - n_true\n",
    "    \n",
    "    if n_true / L >= 0.9 or n_false / L >= 0.9:\n",
    "        \n",
    "        true_false_features_balance[i] = n_true / L\n",
    "\n",
    "true_false_features_balance"
   ]
  },
  {
   "cell_type": "code",
   "execution_count": 63,
   "id": "c316b719",
   "metadata": {},
   "outputs": [],
   "source": [
    "listings.drop(true_false_features_balance.keys(), 1, inplace = True) "
   ]
  },
  {
   "cell_type": "code",
   "execution_count": null,
   "id": "6916a6a9",
   "metadata": {},
   "outputs": [],
   "source": []
  },
  {
   "cell_type": "markdown",
   "id": "96dacbe7",
   "metadata": {},
   "source": [
    "### Main cleaning is now complete: final overview of listing dataset"
   ]
  },
  {
   "cell_type": "code",
   "execution_count": 64,
   "id": "34a85b15",
   "metadata": {},
   "outputs": [
    {
     "data": {
      "text/plain": [
       "int64      43\n",
       "float64    17\n",
       "object     11\n",
       "dtype: int64"
      ]
     },
     "execution_count": 64,
     "metadata": {},
     "output_type": "execute_result"
    }
   ],
   "source": [
    "listings.dtypes.value_counts()"
   ]
  },
  {
   "cell_type": "code",
   "execution_count": 65,
   "id": "8bf14dd1",
   "metadata": {},
   "outputs": [
    {
     "data": {
      "text/plain": [
       "description                   103\n",
       "host_response_time           1394\n",
       "host_response_rate           1394\n",
       "host_acceptance_rate         1418\n",
       "review_scores_rating         1121\n",
       "review_scores_accuracy       1158\n",
       "review_scores_cleanliness    1158\n",
       "review_scores_value          1159\n",
       "reviews_per_month            1121\n",
       "first_review_years           1121\n",
       "last_review_years            1121\n",
       "dtype: int64"
      ]
     },
     "execution_count": 65,
     "metadata": {},
     "output_type": "execute_result"
    }
   ],
   "source": [
    "listings.isnull().sum()[listings.isnull().sum() > 0]"
   ]
  },
  {
   "cell_type": "code",
   "execution_count": 66,
   "id": "ee2368e8",
   "metadata": {},
   "outputs": [],
   "source": [
    "check_to_drop = ['review_scores_rating', 'review_scores_value', 'review_scores_accuracy'] \n",
    "\n",
    "for i in check_to_drop:\n",
    "    if i in listings.columns:\n",
    "        listings = listings[listings[i].notnull()]"
   ]
  },
  {
   "cell_type": "code",
   "execution_count": 67,
   "id": "712e82ac",
   "metadata": {},
   "outputs": [
    {
     "data": {
      "text/plain": [
       "description               45\n",
       "host_response_time      1055\n",
       "host_response_rate      1055\n",
       "host_acceptance_rate    1051\n",
       "dtype: int64"
      ]
     },
     "execution_count": 67,
     "metadata": {},
     "output_type": "execute_result"
    }
   ],
   "source": [
    "listings.isnull().sum()[listings.isnull().sum() > 0]"
   ]
  },
  {
   "cell_type": "markdown",
   "id": "96406fb3",
   "metadata": {},
   "source": [
    "Changes to be made after data analysis (next notebook):\n",
    "- drop\n",
    "    - 'neighbourhood_group_cleansed'\n",
    "    - longitude\n",
    "    - latitude\n",
    "    \n",
    "- treat\n",
    "    - NaNs for host_response_time, rate and acceptance rate features. GBMs can take care of it, linreg needs manual adj"
   ]
  },
  {
   "cell_type": "markdown",
   "id": "3ded28bd",
   "metadata": {},
   "source": [
    "### Reviews"
   ]
  },
  {
   "cell_type": "code",
   "execution_count": 68,
   "id": "e730a908",
   "metadata": {},
   "outputs": [],
   "source": [
    "# reviews[(reviews['reviewer_name'] == 'Kristof')] # &\n",
    "# #         (reviews['listing_id'] == 19493233)]['comments'][328156]"
   ]
  },
  {
   "cell_type": "markdown",
   "id": "5bb20585",
   "metadata": {},
   "source": [
    "Reviews data for now will not be used. Listings data has ratings, comment counts and other feedback related info"
   ]
  },
  {
   "cell_type": "markdown",
   "id": "de31f806",
   "metadata": {},
   "source": [
    "### Save cleaned file for further analysis"
   ]
  },
  {
   "cell_type": "code",
   "execution_count": 69,
   "id": "99242ecb",
   "metadata": {},
   "outputs": [],
   "source": [
    "listings.to_csv('data/' + city + '/listings_cleaned.csv', index = False)"
   ]
  },
  {
   "cell_type": "code",
   "execution_count": null,
   "id": "a1969a21",
   "metadata": {},
   "outputs": [],
   "source": []
  }
 ],
 "metadata": {
  "kernelspec": {
   "display_name": "Python 3",
   "language": "python",
   "name": "python3"
  },
  "language_info": {
   "codemirror_mode": {
    "name": "ipython",
    "version": 3
   },
   "file_extension": ".py",
   "mimetype": "text/x-python",
   "name": "python",
   "nbconvert_exporter": "python",
   "pygments_lexer": "ipython3",
   "version": "3.8.8"
  }
 },
 "nbformat": 4,
 "nbformat_minor": 5
}
