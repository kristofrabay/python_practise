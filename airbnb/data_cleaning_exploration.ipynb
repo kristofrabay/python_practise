{
 "cells": [
  {
   "cell_type": "code",
   "execution_count": 1,
   "id": "cabc5e97",
   "metadata": {},
   "outputs": [],
   "source": [
    "import pandas as pd\n",
    "import numpy as np\n",
    "import geojson\n",
    "\n",
    "import re\n",
    "from nltk.corpus import stopwords\n",
    "from sklearn.feature_extraction.text import CountVectorizer\n",
    "from ast import literal_eval\n",
    "import collections\n",
    "\n",
    "from wordcloud import WordCloud\n",
    "import matplotlib.pyplot as plt\n",
    "import seaborn as sns\n",
    "import plotly.express as px\n",
    "import plotly.graph_objects as go\n",
    "from plotly.subplots import make_subplots\n",
    "\n",
    "import warnings\n",
    "warnings.filterwarnings('ignore')"
   ]
  },
  {
   "cell_type": "code",
   "execution_count": 2,
   "id": "2407f06a",
   "metadata": {},
   "outputs": [],
   "source": [
    "city = 'barcelona'\n",
    "\n",
    "### raw, original files with all datapoints\n",
    "listings_link = 'data/' + city + '/listings.csv.gz'\n",
    "#reviews_link = 'data/' + city + '/reviews.csv.gz'\n",
    "calendar_link = 'data/' + city + '/calendar.csv.gz'\n",
    "\n",
    "### shortened summary of listings: just a few main features from the original file\n",
    "listings_sum_link = 'data/' + city + '/listings.csv'\n",
    "\n",
    "### neighborhood information\n",
    "neighborhoods_link = 'data/' + city + '/neighbourhoods.csv'\n",
    "neighborhoods_gjson_link = 'data/' + city + '/neighbourhoods.geojson'"
   ]
  },
  {
   "cell_type": "code",
   "execution_count": 42,
   "id": "16152a5e",
   "metadata": {},
   "outputs": [],
   "source": [
    "### read 'big' gzipped files\n",
    "listings = pd.read_csv(listings_link, compression = 'gzip', error_bad_lines = False)\n",
    "#reviews = pd.read_csv(reviews_link, compression = 'gzip', error_bad_lines = False)\n",
    "calendar = pd.read_csv(calendar_link, compression = 'gzip', error_bad_lines = False)\n",
    "\n",
    "### read neighborhhood info\n",
    "neighborhoods = pd.read_csv(neighborhoods_link)\n",
    "\n",
    "### read summarized data of listings\n",
    "listings_summarized = pd.read_csv(listings_sum_link)\n",
    "\n",
    "### read geojson with neighborhood geo data\n",
    "with open(neighborhoods_gjson_link) as f:\n",
    "    neighborhoods_gjson = geojson.load(f)"
   ]
  },
  {
   "cell_type": "markdown",
   "id": "766cc05d",
   "metadata": {},
   "source": [
    "### Check files"
   ]
  },
  {
   "cell_type": "markdown",
   "id": "cc903cb4",
   "metadata": {},
   "source": [
    "Listings summarized is just a few of the original features, plus the grouped neighborhood. I'll go over all features and select the necessary ones and do feature engineering manually"
   ]
  },
  {
   "cell_type": "code",
   "execution_count": 43,
   "id": "dab4d2a0",
   "metadata": {},
   "outputs": [
    {
     "data": {
      "text/html": [
       "<div>\n",
       "<style scoped>\n",
       "    .dataframe tbody tr th:only-of-type {\n",
       "        vertical-align: middle;\n",
       "    }\n",
       "\n",
       "    .dataframe tbody tr th {\n",
       "        vertical-align: top;\n",
       "    }\n",
       "\n",
       "    .dataframe thead th {\n",
       "        text-align: right;\n",
       "    }\n",
       "</style>\n",
       "<table border=\"1\" class=\"dataframe\">\n",
       "  <thead>\n",
       "    <tr style=\"text-align: right;\">\n",
       "      <th></th>\n",
       "      <th>id</th>\n",
       "      <th>listing_url</th>\n",
       "      <th>scrape_id</th>\n",
       "      <th>last_scraped</th>\n",
       "      <th>name</th>\n",
       "      <th>description</th>\n",
       "      <th>neighborhood_overview</th>\n",
       "      <th>picture_url</th>\n",
       "      <th>host_id</th>\n",
       "      <th>host_url</th>\n",
       "      <th>...</th>\n",
       "      <th>review_scores_communication</th>\n",
       "      <th>review_scores_location</th>\n",
       "      <th>review_scores_value</th>\n",
       "      <th>license</th>\n",
       "      <th>instant_bookable</th>\n",
       "      <th>calculated_host_listings_count</th>\n",
       "      <th>calculated_host_listings_count_entire_homes</th>\n",
       "      <th>calculated_host_listings_count_private_rooms</th>\n",
       "      <th>calculated_host_listings_count_shared_rooms</th>\n",
       "      <th>reviews_per_month</th>\n",
       "    </tr>\n",
       "  </thead>\n",
       "  <tbody>\n",
       "    <tr>\n",
       "      <th>0</th>\n",
       "      <td>18674</td>\n",
       "      <td>https://www.airbnb.com/rooms/18674</td>\n",
       "      <td>20210707180233</td>\n",
       "      <td>2021-07-07</td>\n",
       "      <td>Huge flat for 8 people close to Sagrada Familia</td>\n",
       "      <td>110m2 apartment to rent in Barcelona. Located ...</td>\n",
       "      <td>Apartment in Barcelona located in the heart of...</td>\n",
       "      <td>https://a0.muscache.com/pictures/13031453/413c...</td>\n",
       "      <td>71615</td>\n",
       "      <td>https://www.airbnb.com/users/show/71615</td>\n",
       "      <td>...</td>\n",
       "      <td>4.90</td>\n",
       "      <td>4.75</td>\n",
       "      <td>4.30</td>\n",
       "      <td>HUTB-002062</td>\n",
       "      <td>t</td>\n",
       "      <td>18</td>\n",
       "      <td>18</td>\n",
       "      <td>0</td>\n",
       "      <td>0</td>\n",
       "      <td>0.23</td>\n",
       "    </tr>\n",
       "    <tr>\n",
       "      <th>1</th>\n",
       "      <td>23197</td>\n",
       "      <td>https://www.airbnb.com/rooms/23197</td>\n",
       "      <td>20210707180233</td>\n",
       "      <td>2021-07-08</td>\n",
       "      <td>Forum CCIB DeLuxe★Spacious &amp;Elegant★Large Balcony</td>\n",
       "      <td>Beautiful spacious apartment, large terrace, 5...</td>\n",
       "      <td>Strategically located in the Parc del Fòrum ar...</td>\n",
       "      <td>https://a0.muscache.com/pictures/738532/806da1...</td>\n",
       "      <td>90417</td>\n",
       "      <td>https://www.airbnb.com/users/show/90417</td>\n",
       "      <td>...</td>\n",
       "      <td>4.98</td>\n",
       "      <td>4.67</td>\n",
       "      <td>4.69</td>\n",
       "      <td>HUTB-005057</td>\n",
       "      <td>f</td>\n",
       "      <td>2</td>\n",
       "      <td>2</td>\n",
       "      <td>0</td>\n",
       "      <td>0</td>\n",
       "      <td>0.78</td>\n",
       "    </tr>\n",
       "  </tbody>\n",
       "</table>\n",
       "<p>2 rows × 74 columns</p>\n",
       "</div>"
      ],
      "text/plain": [
       "      id                         listing_url       scrape_id last_scraped  \\\n",
       "0  18674  https://www.airbnb.com/rooms/18674  20210707180233   2021-07-07   \n",
       "1  23197  https://www.airbnb.com/rooms/23197  20210707180233   2021-07-08   \n",
       "\n",
       "                                                name  \\\n",
       "0    Huge flat for 8 people close to Sagrada Familia   \n",
       "1  Forum CCIB DeLuxe★Spacious &Elegant★Large Balcony   \n",
       "\n",
       "                                         description  \\\n",
       "0  110m2 apartment to rent in Barcelona. Located ...   \n",
       "1  Beautiful spacious apartment, large terrace, 5...   \n",
       "\n",
       "                               neighborhood_overview  \\\n",
       "0  Apartment in Barcelona located in the heart of...   \n",
       "1  Strategically located in the Parc del Fòrum ar...   \n",
       "\n",
       "                                         picture_url  host_id  \\\n",
       "0  https://a0.muscache.com/pictures/13031453/413c...    71615   \n",
       "1  https://a0.muscache.com/pictures/738532/806da1...    90417   \n",
       "\n",
       "                                  host_url  ... review_scores_communication  \\\n",
       "0  https://www.airbnb.com/users/show/71615  ...                        4.90   \n",
       "1  https://www.airbnb.com/users/show/90417  ...                        4.98   \n",
       "\n",
       "  review_scores_location review_scores_value      license instant_bookable  \\\n",
       "0                   4.75                4.30  HUTB-002062                t   \n",
       "1                   4.67                4.69  HUTB-005057                f   \n",
       "\n",
       "  calculated_host_listings_count calculated_host_listings_count_entire_homes  \\\n",
       "0                             18                                          18   \n",
       "1                              2                                           2   \n",
       "\n",
       "  calculated_host_listings_count_private_rooms  \\\n",
       "0                                            0   \n",
       "1                                            0   \n",
       "\n",
       "  calculated_host_listings_count_shared_rooms reviews_per_month  \n",
       "0                                           0              0.23  \n",
       "1                                           0              0.78  \n",
       "\n",
       "[2 rows x 74 columns]"
      ]
     },
     "execution_count": 43,
     "metadata": {},
     "output_type": "execute_result"
    }
   ],
   "source": [
    "listings.head(2)"
   ]
  },
  {
   "cell_type": "code",
   "execution_count": 44,
   "id": "d49815d5",
   "metadata": {},
   "outputs": [
    {
     "data": {
      "text/html": [
       "<div>\n",
       "<style scoped>\n",
       "    .dataframe tbody tr th:only-of-type {\n",
       "        vertical-align: middle;\n",
       "    }\n",
       "\n",
       "    .dataframe tbody tr th {\n",
       "        vertical-align: top;\n",
       "    }\n",
       "\n",
       "    .dataframe thead th {\n",
       "        text-align: right;\n",
       "    }\n",
       "</style>\n",
       "<table border=\"1\" class=\"dataframe\">\n",
       "  <thead>\n",
       "    <tr style=\"text-align: right;\">\n",
       "      <th></th>\n",
       "      <th>id</th>\n",
       "      <th>name</th>\n",
       "      <th>host_id</th>\n",
       "      <th>host_name</th>\n",
       "      <th>neighbourhood_group</th>\n",
       "      <th>neighbourhood</th>\n",
       "      <th>latitude</th>\n",
       "      <th>longitude</th>\n",
       "      <th>room_type</th>\n",
       "      <th>price</th>\n",
       "      <th>minimum_nights</th>\n",
       "      <th>number_of_reviews</th>\n",
       "      <th>last_review</th>\n",
       "      <th>reviews_per_month</th>\n",
       "      <th>calculated_host_listings_count</th>\n",
       "      <th>availability_365</th>\n",
       "    </tr>\n",
       "  </thead>\n",
       "  <tbody>\n",
       "    <tr>\n",
       "      <th>0</th>\n",
       "      <td>18674</td>\n",
       "      <td>Huge flat for 8 people close to Sagrada Familia</td>\n",
       "      <td>71615</td>\n",
       "      <td>Mireia And Maria</td>\n",
       "      <td>Eixample</td>\n",
       "      <td>la Sagrada Família</td>\n",
       "      <td>41.40556</td>\n",
       "      <td>2.17262</td>\n",
       "      <td>Entire home/apt</td>\n",
       "      <td>169</td>\n",
       "      <td>1</td>\n",
       "      <td>21</td>\n",
       "      <td>2019-10-11</td>\n",
       "      <td>0.23</td>\n",
       "      <td>18</td>\n",
       "      <td>60</td>\n",
       "    </tr>\n",
       "    <tr>\n",
       "      <th>1</th>\n",
       "      <td>23197</td>\n",
       "      <td>Forum CCIB DeLuxe★Spacious &amp;Elegant★Large Balcony</td>\n",
       "      <td>90417</td>\n",
       "      <td>Etain (Marnie)</td>\n",
       "      <td>Sant Martí</td>\n",
       "      <td>el Besòs i el Maresme</td>\n",
       "      <td>41.41291</td>\n",
       "      <td>2.22063</td>\n",
       "      <td>Entire home/apt</td>\n",
       "      <td>240</td>\n",
       "      <td>3</td>\n",
       "      <td>52</td>\n",
       "      <td>2019-12-15</td>\n",
       "      <td>0.78</td>\n",
       "      <td>2</td>\n",
       "      <td>169</td>\n",
       "    </tr>\n",
       "  </tbody>\n",
       "</table>\n",
       "</div>"
      ],
      "text/plain": [
       "      id                                               name  host_id  \\\n",
       "0  18674    Huge flat for 8 people close to Sagrada Familia    71615   \n",
       "1  23197  Forum CCIB DeLuxe★Spacious &Elegant★Large Balcony    90417   \n",
       "\n",
       "          host_name neighbourhood_group          neighbourhood  latitude  \\\n",
       "0  Mireia And Maria            Eixample     la Sagrada Família  41.40556   \n",
       "1    Etain (Marnie)          Sant Martí  el Besòs i el Maresme  41.41291   \n",
       "\n",
       "   longitude        room_type  price  minimum_nights  number_of_reviews  \\\n",
       "0    2.17262  Entire home/apt    169               1                 21   \n",
       "1    2.22063  Entire home/apt    240               3                 52   \n",
       "\n",
       "  last_review  reviews_per_month  calculated_host_listings_count  \\\n",
       "0  2019-10-11               0.23                              18   \n",
       "1  2019-12-15               0.78                               2   \n",
       "\n",
       "   availability_365  \n",
       "0                60  \n",
       "1               169  "
      ]
     },
     "execution_count": 44,
     "metadata": {},
     "output_type": "execute_result"
    }
   ],
   "source": [
    "listings_summarized.head(2)"
   ]
  },
  {
   "cell_type": "code",
   "execution_count": 45,
   "id": "44c49d53",
   "metadata": {},
   "outputs": [
    {
     "data": {
      "text/html": [
       "<div>\n",
       "<style scoped>\n",
       "    .dataframe tbody tr th:only-of-type {\n",
       "        vertical-align: middle;\n",
       "    }\n",
       "\n",
       "    .dataframe tbody tr th {\n",
       "        vertical-align: top;\n",
       "    }\n",
       "\n",
       "    .dataframe thead th {\n",
       "        text-align: right;\n",
       "    }\n",
       "</style>\n",
       "<table border=\"1\" class=\"dataframe\">\n",
       "  <thead>\n",
       "    <tr style=\"text-align: right;\">\n",
       "      <th></th>\n",
       "      <th>listing_id</th>\n",
       "      <th>id</th>\n",
       "      <th>date</th>\n",
       "      <th>reviewer_id</th>\n",
       "      <th>reviewer_name</th>\n",
       "      <th>comments</th>\n",
       "    </tr>\n",
       "  </thead>\n",
       "  <tbody>\n",
       "    <tr>\n",
       "      <th>0</th>\n",
       "      <td>18674</td>\n",
       "      <td>4808211</td>\n",
       "      <td>2013-05-27</td>\n",
       "      <td>4841196</td>\n",
       "      <td>Caron</td>\n",
       "      <td>Great location. Clean, spacious flat. Would re...</td>\n",
       "    </tr>\n",
       "    <tr>\n",
       "      <th>1</th>\n",
       "      <td>18674</td>\n",
       "      <td>10660311</td>\n",
       "      <td>2014-03-02</td>\n",
       "      <td>11600277</td>\n",
       "      <td>Juan Carlos</td>\n",
       "      <td>Mi mejor recomendación para este departamento....</td>\n",
       "    </tr>\n",
       "  </tbody>\n",
       "</table>\n",
       "</div>"
      ],
      "text/plain": [
       "   listing_id        id        date  reviewer_id reviewer_name  \\\n",
       "0       18674   4808211  2013-05-27      4841196         Caron   \n",
       "1       18674  10660311  2014-03-02     11600277   Juan Carlos   \n",
       "\n",
       "                                            comments  \n",
       "0  Great location. Clean, spacious flat. Would re...  \n",
       "1  Mi mejor recomendación para este departamento....  "
      ]
     },
     "execution_count": 45,
     "metadata": {},
     "output_type": "execute_result"
    }
   ],
   "source": [
    "# reviews.head(2)"
   ]
  },
  {
   "cell_type": "markdown",
   "id": "01ced111",
   "metadata": {},
   "source": [
    "Calendar includes daily prices for up to a year. Monthly aggregation, or just simple overall median can be taken.."
   ]
  },
  {
   "cell_type": "code",
   "execution_count": 46,
   "id": "6f627989",
   "metadata": {},
   "outputs": [
    {
     "data": {
      "text/html": [
       "<div>\n",
       "<style scoped>\n",
       "    .dataframe tbody tr th:only-of-type {\n",
       "        vertical-align: middle;\n",
       "    }\n",
       "\n",
       "    .dataframe tbody tr th {\n",
       "        vertical-align: top;\n",
       "    }\n",
       "\n",
       "    .dataframe thead th {\n",
       "        text-align: right;\n",
       "    }\n",
       "</style>\n",
       "<table border=\"1\" class=\"dataframe\">\n",
       "  <thead>\n",
       "    <tr style=\"text-align: right;\">\n",
       "      <th></th>\n",
       "      <th>listing_id</th>\n",
       "      <th>date</th>\n",
       "      <th>available</th>\n",
       "      <th>price</th>\n",
       "      <th>adjusted_price</th>\n",
       "      <th>minimum_nights</th>\n",
       "      <th>maximum_nights</th>\n",
       "    </tr>\n",
       "  </thead>\n",
       "  <tbody>\n",
       "    <tr>\n",
       "      <th>0</th>\n",
       "      <td>275889</td>\n",
       "      <td>2021-07-07</td>\n",
       "      <td>f</td>\n",
       "      <td>$287.00</td>\n",
       "      <td>$287.00</td>\n",
       "      <td>32.0</td>\n",
       "      <td>365.0</td>\n",
       "    </tr>\n",
       "    <tr>\n",
       "      <th>1</th>\n",
       "      <td>71736</td>\n",
       "      <td>2021-07-08</td>\n",
       "      <td>t</td>\n",
       "      <td>$62.00</td>\n",
       "      <td>$62.00</td>\n",
       "      <td>32.0</td>\n",
       "      <td>730.0</td>\n",
       "    </tr>\n",
       "  </tbody>\n",
       "</table>\n",
       "</div>"
      ],
      "text/plain": [
       "   listing_id        date available    price adjusted_price  minimum_nights  \\\n",
       "0      275889  2021-07-07         f  $287.00        $287.00            32.0   \n",
       "1       71736  2021-07-08         t   $62.00         $62.00            32.0   \n",
       "\n",
       "   maximum_nights  \n",
       "0           365.0  \n",
       "1           730.0  "
      ]
     },
     "execution_count": 46,
     "metadata": {},
     "output_type": "execute_result"
    }
   ],
   "source": [
    "calendar.head(2)"
   ]
  },
  {
   "cell_type": "markdown",
   "id": "682912ce",
   "metadata": {},
   "source": [
    "Neighborhood groups will be used to reduce cardinality of neighborhood feature"
   ]
  },
  {
   "cell_type": "code",
   "execution_count": 47,
   "id": "01d4e467",
   "metadata": {},
   "outputs": [
    {
     "data": {
      "text/html": [
       "<div>\n",
       "<style scoped>\n",
       "    .dataframe tbody tr th:only-of-type {\n",
       "        vertical-align: middle;\n",
       "    }\n",
       "\n",
       "    .dataframe tbody tr th {\n",
       "        vertical-align: top;\n",
       "    }\n",
       "\n",
       "    .dataframe thead th {\n",
       "        text-align: right;\n",
       "    }\n",
       "</style>\n",
       "<table border=\"1\" class=\"dataframe\">\n",
       "  <thead>\n",
       "    <tr style=\"text-align: right;\">\n",
       "      <th></th>\n",
       "      <th>neighbourhood_group</th>\n",
       "      <th>neighbourhood</th>\n",
       "    </tr>\n",
       "  </thead>\n",
       "  <tbody>\n",
       "    <tr>\n",
       "      <th>0</th>\n",
       "      <td>Ciutat Vella</td>\n",
       "      <td>el Barri Gòtic</td>\n",
       "    </tr>\n",
       "    <tr>\n",
       "      <th>1</th>\n",
       "      <td>Ciutat Vella</td>\n",
       "      <td>el Raval</td>\n",
       "    </tr>\n",
       "  </tbody>\n",
       "</table>\n",
       "</div>"
      ],
      "text/plain": [
       "  neighbourhood_group   neighbourhood\n",
       "0        Ciutat Vella  el Barri Gòtic\n",
       "1        Ciutat Vella        el Raval"
      ]
     },
     "execution_count": 47,
     "metadata": {},
     "output_type": "execute_result"
    }
   ],
   "source": [
    "neighborhoods.head(2)"
   ]
  },
  {
   "cell_type": "code",
   "execution_count": 48,
   "id": "f42510a9",
   "metadata": {},
   "outputs": [
    {
     "name": "stdout",
     "output_type": "stream",
     "text": [
      "10\n",
      "73\n"
     ]
    }
   ],
   "source": [
    "print(neighborhoods['neighbourhood_group'].nunique())\n",
    "print(neighborhoods['neighbourhood'].nunique())"
   ]
  },
  {
   "cell_type": "code",
   "execution_count": null,
   "id": "de999695",
   "metadata": {},
   "outputs": [],
   "source": []
  },
  {
   "cell_type": "markdown",
   "id": "9f927319",
   "metadata": {},
   "source": [
    "## 1 Clean the calendar"
   ]
  },
  {
   "cell_type": "code",
   "execution_count": 49,
   "id": "d8a20965",
   "metadata": {},
   "outputs": [
    {
     "data": {
      "text/html": [
       "<div>\n",
       "<style scoped>\n",
       "    .dataframe tbody tr th:only-of-type {\n",
       "        vertical-align: middle;\n",
       "    }\n",
       "\n",
       "    .dataframe tbody tr th {\n",
       "        vertical-align: top;\n",
       "    }\n",
       "\n",
       "    .dataframe thead th {\n",
       "        text-align: right;\n",
       "    }\n",
       "</style>\n",
       "<table border=\"1\" class=\"dataframe\">\n",
       "  <thead>\n",
       "    <tr style=\"text-align: right;\">\n",
       "      <th></th>\n",
       "      <th>listing_id</th>\n",
       "      <th>date</th>\n",
       "      <th>available</th>\n",
       "      <th>price</th>\n",
       "      <th>adjusted_price</th>\n",
       "      <th>minimum_nights</th>\n",
       "      <th>maximum_nights</th>\n",
       "    </tr>\n",
       "  </thead>\n",
       "  <tbody>\n",
       "    <tr>\n",
       "      <th>0</th>\n",
       "      <td>275889</td>\n",
       "      <td>2021-07-07</td>\n",
       "      <td>f</td>\n",
       "      <td>$287.00</td>\n",
       "      <td>$287.00</td>\n",
       "      <td>32.0</td>\n",
       "      <td>365.0</td>\n",
       "    </tr>\n",
       "    <tr>\n",
       "      <th>1</th>\n",
       "      <td>71736</td>\n",
       "      <td>2021-07-08</td>\n",
       "      <td>t</td>\n",
       "      <td>$62.00</td>\n",
       "      <td>$62.00</td>\n",
       "      <td>32.0</td>\n",
       "      <td>730.0</td>\n",
       "    </tr>\n",
       "  </tbody>\n",
       "</table>\n",
       "</div>"
      ],
      "text/plain": [
       "   listing_id        date available    price adjusted_price  minimum_nights  \\\n",
       "0      275889  2021-07-07         f  $287.00        $287.00            32.0   \n",
       "1       71736  2021-07-08         t   $62.00         $62.00            32.0   \n",
       "\n",
       "   maximum_nights  \n",
       "0           365.0  \n",
       "1           730.0  "
      ]
     },
     "execution_count": 49,
     "metadata": {},
     "output_type": "execute_result"
    }
   ],
   "source": [
    "calendar.head(2)"
   ]
  },
  {
   "cell_type": "code",
   "execution_count": 50,
   "id": "5bdcd3cd",
   "metadata": {},
   "outputs": [],
   "source": [
    "calendar = calendar[calendar['price'].notnull()]"
   ]
  },
  {
   "cell_type": "code",
   "execution_count": 51,
   "id": "dfa31061",
   "metadata": {},
   "outputs": [],
   "source": [
    "calendar['price'] = calendar['price'].apply(lambda x: float(x.replace('$', '').replace(',', '')))\n",
    "calendar['adjusted_price'] = calendar['adjusted_price'].apply(lambda x: float(x.replace('$', '').replace(',', '')))\n",
    "\n",
    "calendar = calendar[calendar['price'] != 0] # no price means no target value\n",
    "calendar.drop('adjusted_price', 1, inplace = True) # dont want to incorporate promotions, etc..."
   ]
  },
  {
   "cell_type": "markdown",
   "id": "55146fdc",
   "metadata": {},
   "source": [
    "#### Aggregating listing prices monthly"
   ]
  },
  {
   "cell_type": "code",
   "execution_count": 52,
   "id": "3803fece",
   "metadata": {},
   "outputs": [],
   "source": [
    "calendar['year'] = pd.to_datetime(calendar['date']).dt.year\n",
    "calendar['month'] = pd.to_datetime(calendar['date']).dt.month"
   ]
  },
  {
   "cell_type": "code",
   "execution_count": 53,
   "id": "fd29d938",
   "metadata": {},
   "outputs": [
    {
     "data": {
      "text/html": [
       "<div>\n",
       "<style scoped>\n",
       "    .dataframe tbody tr th:only-of-type {\n",
       "        vertical-align: middle;\n",
       "    }\n",
       "\n",
       "    .dataframe tbody tr th {\n",
       "        vertical-align: top;\n",
       "    }\n",
       "\n",
       "    .dataframe thead th {\n",
       "        text-align: right;\n",
       "    }\n",
       "</style>\n",
       "<table border=\"1\" class=\"dataframe\">\n",
       "  <thead>\n",
       "    <tr style=\"text-align: right;\">\n",
       "      <th></th>\n",
       "      <th>listing_id</th>\n",
       "      <th>year</th>\n",
       "      <th>month</th>\n",
       "      <th>price</th>\n",
       "      <th>minimum_nights</th>\n",
       "      <th>maximum_nights</th>\n",
       "    </tr>\n",
       "  </thead>\n",
       "  <tbody>\n",
       "    <tr>\n",
       "      <th>0</th>\n",
       "      <td>18674</td>\n",
       "      <td>2021</td>\n",
       "      <td>7</td>\n",
       "      <td>152.0</td>\n",
       "      <td>3.0</td>\n",
       "      <td>1125.0</td>\n",
       "    </tr>\n",
       "    <tr>\n",
       "      <th>1</th>\n",
       "      <td>18674</td>\n",
       "      <td>2021</td>\n",
       "      <td>8</td>\n",
       "      <td>147.0</td>\n",
       "      <td>3.0</td>\n",
       "      <td>1125.0</td>\n",
       "    </tr>\n",
       "    <tr>\n",
       "      <th>2</th>\n",
       "      <td>18674</td>\n",
       "      <td>2021</td>\n",
       "      <td>9</td>\n",
       "      <td>121.0</td>\n",
       "      <td>3.0</td>\n",
       "      <td>1125.0</td>\n",
       "    </tr>\n",
       "  </tbody>\n",
       "</table>\n",
       "</div>"
      ],
      "text/plain": [
       "   listing_id  year  month  price  minimum_nights  maximum_nights\n",
       "0       18674  2021      7  152.0             3.0          1125.0\n",
       "1       18674  2021      8  147.0             3.0          1125.0\n",
       "2       18674  2021      9  121.0             3.0          1125.0"
      ]
     },
     "execution_count": 53,
     "metadata": {},
     "output_type": "execute_result"
    }
   ],
   "source": [
    "price_calendar = calendar.groupby(['listing_id', 'year', 'month']).agg({'price' : 'median', 'minimum_nights' : 'median', 'maximum_nights' : 'median'}).reset_index()\n",
    "price_calendar.head(3)"
   ]
  },
  {
   "cell_type": "markdown",
   "id": "2699a6c6",
   "metadata": {},
   "source": [
    "The calendar may not be used afterall, the listings file has a price point for the day of scraping. That price is going to be predicted with the available, respective-in-time features"
   ]
  },
  {
   "cell_type": "markdown",
   "id": "269295f2",
   "metadata": {},
   "source": [
    "## 2 Clean listings"
   ]
  },
  {
   "cell_type": "code",
   "execution_count": 54,
   "id": "c5ad0380",
   "metadata": {},
   "outputs": [],
   "source": [
    "to_drop = ['scrape_id', 'last_scraped', 'picture_url', \n",
    "           'host_id', 'host_thumbnail_url', 'host_picture_url',\n",
    "           'calendar_last_scraped', 'host_location', 'host_verifications', 'property_type']\n",
    "\n",
    "# will keep until modeling: listing_url, host_url, host_name\n",
    "\n",
    "listings.drop(to_drop, 1, inplace = True)"
   ]
  },
  {
   "cell_type": "markdown",
   "id": "6680e3f5",
   "metadata": {},
   "source": [
    "#### Check missing ratios"
   ]
  },
  {
   "cell_type": "code",
   "execution_count": 55,
   "id": "b89b3cce",
   "metadata": {},
   "outputs": [
    {
     "data": {
      "text/plain": [
       "neighborhood_overview    0.391006\n",
       "host_about               0.376720\n",
       "neighbourhood            0.391006\n",
       "bathrooms                1.000000\n",
       "calendar_updated         1.000000\n",
       "license                  0.376369\n",
       "dtype: float64"
      ]
     },
     "execution_count": 55,
     "metadata": {},
     "output_type": "execute_result"
    }
   ],
   "source": [
    "(listings.isnull().sum() / listings.shape[0])[(listings.isnull().sum() / listings.shape[0]) > 1/3]"
   ]
  },
  {
   "cell_type": "code",
   "execution_count": 56,
   "id": "6c976b78",
   "metadata": {},
   "outputs": [
    {
     "name": "stdout",
     "output_type": "stream",
     "text": [
      "Index(['neighborhood_overview', 'host_about', 'neighbourhood', 'bathrooms',\n",
      "       'calendar_updated', 'license'],\n",
      "      dtype='object')\n"
     ]
    }
   ],
   "source": [
    "to_drop = (listings.isnull().sum() / listings.shape[0])[(listings.isnull().sum() / listings.shape[0]) > 1/3].index\n",
    "print(to_drop)"
   ]
  },
  {
   "cell_type": "markdown",
   "id": "6ef8e3a3",
   "metadata": {},
   "source": [
    "Create features indicating missing or filled info:\n",
    "- host has description\n",
    "- neighborhood has description\n",
    "\n",
    "Delete remaining features with many NaNs"
   ]
  },
  {
   "cell_type": "code",
   "execution_count": 57,
   "id": "3e8adc11",
   "metadata": {},
   "outputs": [],
   "source": [
    "listings['description_host'] = listings['host_about'].apply(lambda x: 1 if x is np.nan else 0)\n",
    "listings['description_neighbourhood'] = listings['neighborhood_overview'].apply(lambda x: 1 if x is np.nan else 0)\n",
    "\n",
    "listings.drop(to_drop, 1, inplace = True)"
   ]
  },
  {
   "cell_type": "markdown",
   "id": "9407b0ba",
   "metadata": {},
   "source": [
    "#### Check True/False features"
   ]
  },
  {
   "cell_type": "code",
   "execution_count": 58,
   "id": "754cb9b3",
   "metadata": {},
   "outputs": [
    {
     "name": "stdout",
     "output_type": "stream",
     "text": [
      "['host_is_superhost', 'host_has_profile_pic', 'host_identity_verified', 'has_availability', 'instant_bookable']\n"
     ]
    }
   ],
   "source": [
    "true_false_columns = listings.select_dtypes('O').loc[:, listings.nunique() == 2].columns.tolist()\n",
    "true_false_columns = [i for i in true_false_columns if i != 'neighbourhood_group_cleansed']\n",
    "print(true_false_columns)"
   ]
  },
  {
   "cell_type": "code",
   "execution_count": 59,
   "id": "9f93cf8b",
   "metadata": {},
   "outputs": [
    {
     "data": {
      "text/plain": [
       "host_is_superhost         49\n",
       "host_has_profile_pic      49\n",
       "host_identity_verified    49\n",
       "has_availability           0\n",
       "instant_bookable           0\n",
       "dtype: int64"
      ]
     },
     "execution_count": 59,
     "metadata": {},
     "output_type": "execute_result"
    }
   ],
   "source": [
    "listings[true_false_columns].isnull().sum()"
   ]
  },
  {
   "cell_type": "code",
   "execution_count": 60,
   "id": "8a37b71d",
   "metadata": {},
   "outputs": [],
   "source": [
    "listings = listings[listings['host_is_superhost'].notnull()]"
   ]
  },
  {
   "cell_type": "code",
   "execution_count": 61,
   "id": "91a27df0",
   "metadata": {},
   "outputs": [],
   "source": [
    "for col in true_false_columns:\n",
    "    listings[col] = listings[col].apply(lambda x: 1 if x == 't' else 0)"
   ]
  },
  {
   "cell_type": "markdown",
   "id": "9c912d46",
   "metadata": {},
   "source": [
    "#### Check categorical features"
   ]
  },
  {
   "cell_type": "code",
   "execution_count": 62,
   "id": "c526eb94",
   "metadata": {},
   "outputs": [
    {
     "data": {
      "text/html": [
       "<div>\n",
       "<style scoped>\n",
       "    .dataframe tbody tr th:only-of-type {\n",
       "        vertical-align: middle;\n",
       "    }\n",
       "\n",
       "    .dataframe tbody tr th {\n",
       "        vertical-align: top;\n",
       "    }\n",
       "\n",
       "    .dataframe thead th {\n",
       "        text-align: right;\n",
       "    }\n",
       "</style>\n",
       "<table border=\"1\" class=\"dataframe\">\n",
       "  <thead>\n",
       "    <tr style=\"text-align: right;\">\n",
       "      <th></th>\n",
       "      <th>count</th>\n",
       "      <th>unique</th>\n",
       "      <th>top</th>\n",
       "      <th>freq</th>\n",
       "    </tr>\n",
       "  </thead>\n",
       "  <tbody>\n",
       "    <tr>\n",
       "      <th>listing_url</th>\n",
       "      <td>17030</td>\n",
       "      <td>17030</td>\n",
       "      <td>https://www.airbnb.com/rooms/46367138</td>\n",
       "      <td>1</td>\n",
       "    </tr>\n",
       "    <tr>\n",
       "      <th>name</th>\n",
       "      <td>17020</td>\n",
       "      <td>16411</td>\n",
       "      <td>Central 2 bedroom apartment in Bailén</td>\n",
       "      <td>22</td>\n",
       "    </tr>\n",
       "    <tr>\n",
       "      <th>description</th>\n",
       "      <td>16898</td>\n",
       "      <td>15546</td>\n",
       "      <td>&lt;b&gt;License number&lt;/b&gt;&lt;br /&gt;Exempt</td>\n",
       "      <td>299</td>\n",
       "    </tr>\n",
       "    <tr>\n",
       "      <th>host_url</th>\n",
       "      <td>17030</td>\n",
       "      <td>8088</td>\n",
       "      <td>https://www.airbnb.com/users/show/4459553</td>\n",
       "      <td>174</td>\n",
       "    </tr>\n",
       "    <tr>\n",
       "      <th>host_name</th>\n",
       "      <td>17030</td>\n",
       "      <td>3663</td>\n",
       "      <td>Eva&amp;Jack</td>\n",
       "      <td>174</td>\n",
       "    </tr>\n",
       "    <tr>\n",
       "      <th>host_since</th>\n",
       "      <td>17030</td>\n",
       "      <td>3053</td>\n",
       "      <td>2019-05-30</td>\n",
       "      <td>210</td>\n",
       "    </tr>\n",
       "    <tr>\n",
       "      <th>host_response_time</th>\n",
       "      <td>12333</td>\n",
       "      <td>4</td>\n",
       "      <td>within an hour</td>\n",
       "      <td>6977</td>\n",
       "    </tr>\n",
       "    <tr>\n",
       "      <th>host_response_rate</th>\n",
       "      <td>12333</td>\n",
       "      <td>70</td>\n",
       "      <td>100%</td>\n",
       "      <td>6278</td>\n",
       "    </tr>\n",
       "    <tr>\n",
       "      <th>host_acceptance_rate</th>\n",
       "      <td>11836</td>\n",
       "      <td>89</td>\n",
       "      <td>100%</td>\n",
       "      <td>4332</td>\n",
       "    </tr>\n",
       "    <tr>\n",
       "      <th>host_neighbourhood</th>\n",
       "      <td>12140</td>\n",
       "      <td>136</td>\n",
       "      <td>Dreta de l'Eixample</td>\n",
       "      <td>1858</td>\n",
       "    </tr>\n",
       "    <tr>\n",
       "      <th>neighbourhood_cleansed</th>\n",
       "      <td>17030</td>\n",
       "      <td>72</td>\n",
       "      <td>la Dreta de l'Eixample</td>\n",
       "      <td>1953</td>\n",
       "    </tr>\n",
       "    <tr>\n",
       "      <th>neighbourhood_group_cleansed</th>\n",
       "      <td>17030</td>\n",
       "      <td>10</td>\n",
       "      <td>Eixample</td>\n",
       "      <td>5915</td>\n",
       "    </tr>\n",
       "    <tr>\n",
       "      <th>room_type</th>\n",
       "      <td>17030</td>\n",
       "      <td>4</td>\n",
       "      <td>Entire home/apt</td>\n",
       "      <td>8851</td>\n",
       "    </tr>\n",
       "    <tr>\n",
       "      <th>bathrooms_text</th>\n",
       "      <td>17010</td>\n",
       "      <td>35</td>\n",
       "      <td>1 bath</td>\n",
       "      <td>6539</td>\n",
       "    </tr>\n",
       "    <tr>\n",
       "      <th>amenities</th>\n",
       "      <td>17030</td>\n",
       "      <td>14347</td>\n",
       "      <td>[\"Long term stays allowed\"]</td>\n",
       "      <td>35</td>\n",
       "    </tr>\n",
       "    <tr>\n",
       "      <th>price</th>\n",
       "      <td>17030</td>\n",
       "      <td>552</td>\n",
       "      <td>$50.00</td>\n",
       "      <td>573</td>\n",
       "    </tr>\n",
       "    <tr>\n",
       "      <th>first_review</th>\n",
       "      <td>11951</td>\n",
       "      <td>2683</td>\n",
       "      <td>2020-01-02</td>\n",
       "      <td>33</td>\n",
       "    </tr>\n",
       "    <tr>\n",
       "      <th>last_review</th>\n",
       "      <td>11951</td>\n",
       "      <td>1770</td>\n",
       "      <td>2020-03-08</td>\n",
       "      <td>121</td>\n",
       "    </tr>\n",
       "  </tbody>\n",
       "</table>\n",
       "</div>"
      ],
      "text/plain": [
       "                              count unique  \\\n",
       "listing_url                   17030  17030   \n",
       "name                          17020  16411   \n",
       "description                   16898  15546   \n",
       "host_url                      17030   8088   \n",
       "host_name                     17030   3663   \n",
       "host_since                    17030   3053   \n",
       "host_response_time            12333      4   \n",
       "host_response_rate            12333     70   \n",
       "host_acceptance_rate          11836     89   \n",
       "host_neighbourhood            12140    136   \n",
       "neighbourhood_cleansed        17030     72   \n",
       "neighbourhood_group_cleansed  17030     10   \n",
       "room_type                     17030      4   \n",
       "bathrooms_text                17010     35   \n",
       "amenities                     17030  14347   \n",
       "price                         17030    552   \n",
       "first_review                  11951   2683   \n",
       "last_review                   11951   1770   \n",
       "\n",
       "                                                                    top  freq  \n",
       "listing_url                       https://www.airbnb.com/rooms/46367138     1  \n",
       "name                              Central 2 bedroom apartment in Bailén    22  \n",
       "description                           <b>License number</b><br />Exempt   299  \n",
       "host_url                      https://www.airbnb.com/users/show/4459553   174  \n",
       "host_name                                                      Eva&Jack   174  \n",
       "host_since                                                   2019-05-30   210  \n",
       "host_response_time                                       within an hour  6977  \n",
       "host_response_rate                                                 100%  6278  \n",
       "host_acceptance_rate                                               100%  4332  \n",
       "host_neighbourhood                                  Dreta de l'Eixample  1858  \n",
       "neighbourhood_cleansed                           la Dreta de l'Eixample  1953  \n",
       "neighbourhood_group_cleansed                                   Eixample  5915  \n",
       "room_type                                               Entire home/apt  8851  \n",
       "bathrooms_text                                                   1 bath  6539  \n",
       "amenities                                   [\"Long term stays allowed\"]    35  \n",
       "price                                                            $50.00   573  \n",
       "first_review                                                 2020-01-02    33  \n",
       "last_review                                                  2020-03-08   121  "
      ]
     },
     "execution_count": 62,
     "metadata": {},
     "output_type": "execute_result"
    }
   ],
   "source": [
    "listings.describe(include = 'O').T"
   ]
  },
  {
   "cell_type": "markdown",
   "id": "ad7886b5",
   "metadata": {},
   "source": [
    "The following features need to be converted to floats:\n",
    "\n",
    "- host since (years ago)\n",
    "- host response rate (0-1 float)\n",
    "- host acceptance rate (0-1 float)\n",
    "- bathrooms (count)\n",
    "- price\n",
    "- first review (years ago)\n",
    "- last review (years ago)\n",
    "\n",
    "The following features will need to be 'exploded' / 'one-hot-encoded':\n",
    "- amenities (for all amenities a has_amenity true/false feature will be created\n",
    "\n",
    "The following features will be grouped to reduce cardinality:\n",
    "- property type\n",
    "- neighborhoods"
   ]
  },
  {
   "cell_type": "markdown",
   "id": "82469530",
   "metadata": {},
   "source": [
    "Neighbourhoods"
   ]
  },
  {
   "cell_type": "code",
   "execution_count": 63,
   "id": "b03c25d6",
   "metadata": {},
   "outputs": [
    {
     "name": "stdout",
     "output_type": "stream",
     "text": [
      "[\"la Dreta de l'Eixample\", 'el Raval', 'el Barri Gòtic', 'Sant Pere, Santa Caterina i la Ribera', 'la Sagrada Família', \"l'Antiga Esquerra de l'Eixample\", 'la Vila de Gràcia', 'el Poble Sec', 'Sant Antoni', \"la Nova Esquerra de l'Eixample\"]\n"
     ]
    }
   ],
   "source": [
    "top_neighborhoods = listings['neighbourhood_cleansed'].value_counts().head(10).index.tolist()\n",
    "print(top_neighborhoods)"
   ]
  },
  {
   "cell_type": "code",
   "execution_count": 65,
   "id": "0a0ec540",
   "metadata": {},
   "outputs": [],
   "source": [
    "if neighborhoods['neighbourhood_group'].nunique() >= 3:\n",
    "    \n",
    "    listings['neighbourhood_cleansed_grouped'] = listings['neighbourhood_group_cleansed'].copy()\n",
    "    \n",
    "else:\n",
    "    \n",
    "    listings['neighbourhood_cleansed_grouped'] = listings['neighbourhood_cleansed'].apply(lambda x: x if x in top_neighborhoods else 'Other')\n",
    "    \n",
    "    for i in listings['neighbourhood_group_cleansed'].unique():\n",
    "    \n",
    "        listings.loc[(listings['neighbourhood_cleansed_grouped'] == 'Other') &\n",
    "                     (listings['neighbourhood_group_cleansed'] == i), 'neighbourhood_cleansed_grouped'] = 'Other on ' + i"
   ]
  },
  {
   "cell_type": "code",
   "execution_count": null,
   "id": "4c274598",
   "metadata": {},
   "outputs": [],
   "source": []
  },
  {
   "cell_type": "markdown",
   "id": "749137e2",
   "metadata": {},
   "source": [
    "Everything else"
   ]
  },
  {
   "cell_type": "code",
   "execution_count": 66,
   "id": "0d7133fd",
   "metadata": {},
   "outputs": [],
   "source": [
    "today_date = pd.to_datetime('2021-08-30')\n",
    "\n",
    "listings['host_since_years'] = (today_date - pd.to_datetime(listings['host_since'])).dt.days / 365\n",
    "listings['first_review_years'] = (today_date - pd.to_datetime(listings['first_review'])).dt.days / 365\n",
    "listings['last_review_years'] = (today_date - pd.to_datetime(listings['last_review'])).dt.days / 365\n",
    "\n",
    "listings['host_response_rate'] = listings['host_response_rate'].apply(lambda x: float(x.replace('%', '')) / 100 if type(x) == str else x)\n",
    "listings['host_acceptance_rate'] = listings['host_acceptance_rate'].apply(lambda x: float(x.replace('%', '')) / 100 if type(x) == str else x)\n",
    "listings['price'] = listings['price'].apply(lambda x: float(x.replace('$', '').replace(',', '')))\n",
    "\n",
    "bath_replace = {'Shared half-bath' : '0.5 shared baths', \n",
    "                'Half-bath' : '0.5 baths',\n",
    "                'Private half-bath' : '0.5 baths'}\n",
    "listings['bathrooms_text'] = listings['bathrooms_text'].replace(bath_replace)\n",
    "listings['bathrooms_are_shared'] = listings['bathrooms_text'].apply(lambda x: 1 if 'shared' in str(x).lower() else 0)\n",
    "listings['bathrooms_count'] = listings['bathrooms_text'].apply(lambda x: float(str(x).split(' ')[0]))\n",
    "\n",
    "host_response_time_replace = {'within an hour' : 'within_hour', 'within a few hours' : 'within_few_hours', 'within a day' : 'within_day', 'a few days or more' : 'few_days'}\n",
    "listings['host_response_time'] = listings['host_response_time'].replace(host_response_time_replace)\n",
    "\n",
    "room_type_replace = {'Entire home/apt' : 'entire_place', 'Private room' : 'private_room', 'Hotel room' : 'hotel_room', 'Shared room' : 'shared_room'}\n",
    "listings['room_type'] = listings['room_type'].replace(room_type_replace)\n",
    "\n",
    "listings.drop(['first_review', 'last_review', # host_since can be used to analyze host registrations\n",
    "               'bathrooms_text'], 1, inplace = True)"
   ]
  },
  {
   "cell_type": "code",
   "execution_count": 67,
   "id": "47f67f84",
   "metadata": {},
   "outputs": [
    {
     "data": {
      "text/html": [
       "<div>\n",
       "<style scoped>\n",
       "    .dataframe tbody tr th:only-of-type {\n",
       "        vertical-align: middle;\n",
       "    }\n",
       "\n",
       "    .dataframe tbody tr th {\n",
       "        vertical-align: top;\n",
       "    }\n",
       "\n",
       "    .dataframe thead th {\n",
       "        text-align: right;\n",
       "    }\n",
       "</style>\n",
       "<table border=\"1\" class=\"dataframe\">\n",
       "  <thead>\n",
       "    <tr style=\"text-align: right;\">\n",
       "      <th></th>\n",
       "      <th>count</th>\n",
       "      <th>unique</th>\n",
       "      <th>top</th>\n",
       "      <th>freq</th>\n",
       "    </tr>\n",
       "  </thead>\n",
       "  <tbody>\n",
       "    <tr>\n",
       "      <th>listing_url</th>\n",
       "      <td>17030</td>\n",
       "      <td>17030</td>\n",
       "      <td>https://www.airbnb.com/rooms/46367138</td>\n",
       "      <td>1</td>\n",
       "    </tr>\n",
       "    <tr>\n",
       "      <th>name</th>\n",
       "      <td>17020</td>\n",
       "      <td>16411</td>\n",
       "      <td>Central 2 bedroom apartment in Bailén</td>\n",
       "      <td>22</td>\n",
       "    </tr>\n",
       "    <tr>\n",
       "      <th>description</th>\n",
       "      <td>16898</td>\n",
       "      <td>15546</td>\n",
       "      <td>&lt;b&gt;License number&lt;/b&gt;&lt;br /&gt;Exempt</td>\n",
       "      <td>299</td>\n",
       "    </tr>\n",
       "    <tr>\n",
       "      <th>host_url</th>\n",
       "      <td>17030</td>\n",
       "      <td>8088</td>\n",
       "      <td>https://www.airbnb.com/users/show/4459553</td>\n",
       "      <td>174</td>\n",
       "    </tr>\n",
       "    <tr>\n",
       "      <th>host_name</th>\n",
       "      <td>17030</td>\n",
       "      <td>3663</td>\n",
       "      <td>Eva&amp;Jack</td>\n",
       "      <td>174</td>\n",
       "    </tr>\n",
       "    <tr>\n",
       "      <th>host_since</th>\n",
       "      <td>17030</td>\n",
       "      <td>3053</td>\n",
       "      <td>2019-05-30</td>\n",
       "      <td>210</td>\n",
       "    </tr>\n",
       "    <tr>\n",
       "      <th>host_response_time</th>\n",
       "      <td>12333</td>\n",
       "      <td>4</td>\n",
       "      <td>within_hour</td>\n",
       "      <td>6977</td>\n",
       "    </tr>\n",
       "    <tr>\n",
       "      <th>host_neighbourhood</th>\n",
       "      <td>12140</td>\n",
       "      <td>136</td>\n",
       "      <td>Dreta de l'Eixample</td>\n",
       "      <td>1858</td>\n",
       "    </tr>\n",
       "    <tr>\n",
       "      <th>neighbourhood_cleansed</th>\n",
       "      <td>17030</td>\n",
       "      <td>72</td>\n",
       "      <td>la Dreta de l'Eixample</td>\n",
       "      <td>1953</td>\n",
       "    </tr>\n",
       "    <tr>\n",
       "      <th>neighbourhood_group_cleansed</th>\n",
       "      <td>17030</td>\n",
       "      <td>10</td>\n",
       "      <td>Eixample</td>\n",
       "      <td>5915</td>\n",
       "    </tr>\n",
       "    <tr>\n",
       "      <th>room_type</th>\n",
       "      <td>17030</td>\n",
       "      <td>4</td>\n",
       "      <td>entire_place</td>\n",
       "      <td>8851</td>\n",
       "    </tr>\n",
       "    <tr>\n",
       "      <th>amenities</th>\n",
       "      <td>17030</td>\n",
       "      <td>14347</td>\n",
       "      <td>[\"Long term stays allowed\"]</td>\n",
       "      <td>35</td>\n",
       "    </tr>\n",
       "    <tr>\n",
       "      <th>neighbourhood_cleansed_grouped</th>\n",
       "      <td>17030</td>\n",
       "      <td>10</td>\n",
       "      <td>Eixample</td>\n",
       "      <td>5915</td>\n",
       "    </tr>\n",
       "  </tbody>\n",
       "</table>\n",
       "</div>"
      ],
      "text/plain": [
       "                                count unique  \\\n",
       "listing_url                     17030  17030   \n",
       "name                            17020  16411   \n",
       "description                     16898  15546   \n",
       "host_url                        17030   8088   \n",
       "host_name                       17030   3663   \n",
       "host_since                      17030   3053   \n",
       "host_response_time              12333      4   \n",
       "host_neighbourhood              12140    136   \n",
       "neighbourhood_cleansed          17030     72   \n",
       "neighbourhood_group_cleansed    17030     10   \n",
       "room_type                       17030      4   \n",
       "amenities                       17030  14347   \n",
       "neighbourhood_cleansed_grouped  17030     10   \n",
       "\n",
       "                                                                      top  \\\n",
       "listing_url                         https://www.airbnb.com/rooms/46367138   \n",
       "name                                Central 2 bedroom apartment in Bailén   \n",
       "description                             <b>License number</b><br />Exempt   \n",
       "host_url                        https://www.airbnb.com/users/show/4459553   \n",
       "host_name                                                        Eva&Jack   \n",
       "host_since                                                     2019-05-30   \n",
       "host_response_time                                            within_hour   \n",
       "host_neighbourhood                                    Dreta de l'Eixample   \n",
       "neighbourhood_cleansed                             la Dreta de l'Eixample   \n",
       "neighbourhood_group_cleansed                                     Eixample   \n",
       "room_type                                                    entire_place   \n",
       "amenities                                     [\"Long term stays allowed\"]   \n",
       "neighbourhood_cleansed_grouped                                   Eixample   \n",
       "\n",
       "                                freq  \n",
       "listing_url                        1  \n",
       "name                              22  \n",
       "description                      299  \n",
       "host_url                         174  \n",
       "host_name                        174  \n",
       "host_since                       210  \n",
       "host_response_time              6977  \n",
       "host_neighbourhood              1858  \n",
       "neighbourhood_cleansed          1953  \n",
       "neighbourhood_group_cleansed    5915  \n",
       "room_type                       8851  \n",
       "amenities                         35  \n",
       "neighbourhood_cleansed_grouped  5915  "
      ]
     },
     "execution_count": 67,
     "metadata": {},
     "output_type": "execute_result"
    }
   ],
   "source": [
    "listings.describe(include = 'O').T"
   ]
  },
  {
   "cell_type": "markdown",
   "id": "1bbd11d3",
   "metadata": {},
   "source": [
    "And now to treat the amenities"
   ]
  },
  {
   "cell_type": "code",
   "execution_count": 68,
   "id": "32c82d4b",
   "metadata": {},
   "outputs": [],
   "source": [
    "listings['amenities'] = listings['amenities'].apply(lambda x: literal_eval(x))"
   ]
  },
  {
   "cell_type": "code",
   "execution_count": 69,
   "id": "2b25c05b",
   "metadata": {},
   "outputs": [
    {
     "data": {
      "text/plain": [
       "681"
      ]
     },
     "execution_count": 69,
     "metadata": {},
     "output_type": "execute_result"
    }
   ],
   "source": [
    "len(set().union(*listings['amenities']))"
   ]
  },
  {
   "cell_type": "code",
   "execution_count": 70,
   "id": "5d09defd",
   "metadata": {},
   "outputs": [],
   "source": [
    "def consolidate_amenities_lists(amenities_list):\n",
    "    \n",
    "    consolidated_list = ['TV' if 'tv' in str(i).lower() else i for i in amenities_list]\n",
    "    consolidated_list = ['Free parking' if ('free' in str(i).lower() and 'parking' in str(i).lower()) else i for i in consolidated_list]\n",
    "    consolidated_list = ['Free parking' if ('complimentary' in str(i).lower() and 'parking' in str(i).lower()) else i for i in consolidated_list]\n",
    "    consolidated_list = ['Free parking' if ('free' in str(i).lower() and 'garage' in str(i).lower()) else i for i in consolidated_list]\n",
    "    consolidated_list = ['Paid parking' if ('paid' in str(i).lower() and 'parking' in str(i).lower())else i for i in consolidated_list]\n",
    "    consolidated_list = ['Air conditioning' if 'air conditioning' in str(i).lower() else i for i in consolidated_list]\n",
    "    consolidated_list = ['Clothing storage' if 'clothing storage' in str(i).lower() else i for i in consolidated_list]\n",
    "    consolidated_list = ['Refrigerator' if 'refrigerator' in str(i).lower() else i for i in consolidated_list]\n",
    "    consolidated_list = ['Refrigerator' if 'fridge' in str(i).lower() else i for i in consolidated_list]\n",
    "    consolidated_list = ['Washer' if 'washer' in str(i).lower() else i for i in consolidated_list]\n",
    "    consolidated_list = ['Oven' if 'oven' in str(i).lower() else i for i in consolidated_list]\n",
    "    consolidated_list = ['Soap' if 'soap' in str(i).lower() else i for i in consolidated_list]\n",
    "    consolidated_list = ['Stove' if 'stove' in str(i).lower() else i for i in consolidated_list]\n",
    "    consolidated_list = ['Shower' if 'shower' in str(i).lower() else i for i in consolidated_list]\n",
    "    consolidated_list = ['Bath' if 'bath' in str(i).lower() else i for i in consolidated_list]\n",
    "    consolidated_list = ['Refrigerator' if 'cooler' in str(i).lower() else i for i in consolidated_list]\n",
    "    consolidated_list = ['Shampoo' if 'shampoo' in str(i).lower() else i for i in consolidated_list]\n",
    "    consolidated_list = ['Conditioner' if 'conditioner' in str(i).lower() else i for i in consolidated_list]\n",
    "    consolidated_list = ['Sound system' if 'sound system' in str(i).lower() else i for i in consolidated_list]\n",
    "    consolidated_list = ['Essentials' if 'essentials' in str(i).lower() else i for i in consolidated_list]\n",
    "    consolidated_list = ['Children stuff' if 'children' in str(i).lower() else i for i in consolidated_list]\n",
    "    consolidated_list = ['Workspace' if 'workspace' in str(i).lower() else i for i in consolidated_list]\n",
    "    consolidated_list = ['Workspace' if 'office' in str(i).lower() else i for i in consolidated_list]\n",
    "    consolidated_list = ['Dryer' if 'Dryer' in str(i) else i for i in consolidated_list]\n",
    "    consolidated_list = ['Dryer' if ('free' in str(i).lower() and 'dryer' in str(i).lower()) else i for i in consolidated_list]\n",
    "    consolidated_list = ['Dryer' if ('paid' in str(i).lower() and 'dryer' in str(i).lower()) else i for i in consolidated_list]\n",
    "    consolidated_list = ['Wifi' if 'wifi' in str(i).lower() else i for i in consolidated_list]\n",
    "    consolidated_list = ['Wifi' if 'ethernet' in str(i).lower() else i for i in consolidated_list]\n",
    "    consolidated_list = ['Wifi' if 'internet' in str(i).lower() else i for i in consolidated_list]\n",
    "    consolidated_list = ['Heating' if 'heating' in str(i).lower() else i for i in consolidated_list]\n",
    "    consolidated_list = ['Game console' if 'game console' in str(i).lower() else i for i in consolidated_list]\n",
    "    consolidated_list = ['Gym' if 'gym' in str(i).lower() else i for i in consolidated_list]\n",
    "    consolidated_list = ['Coffee maker' if 'coffee' in str(i).lower() else i for i in consolidated_list]\n",
    "    consolidated_list = ['Coffee maker' if 'espresso' in str(i).lower() else i for i in consolidated_list]\n",
    "    consolidated_list = ['Fireplace' if 'fireplace' in str(i).lower() else i for i in consolidated_list]\n",
    "    consolidated_list = ['Fireplace' if 'fire pit' in str(i).lower() else i for i in consolidated_list]\n",
    "        \n",
    "    consolidated_list = list(collections.OrderedDict.fromkeys(consolidated_list))\n",
    "    \n",
    "    return consolidated_list"
   ]
  },
  {
   "cell_type": "code",
   "execution_count": 71,
   "id": "182b1960",
   "metadata": {},
   "outputs": [],
   "source": [
    "listings['amenities'] = listings['amenities'].apply(lambda x: consolidate_amenities_lists(x))"
   ]
  },
  {
   "cell_type": "code",
   "execution_count": 72,
   "id": "9401805e",
   "metadata": {},
   "outputs": [
    {
     "data": {
      "text/plain": [
       "180"
      ]
     },
     "execution_count": 72,
     "metadata": {},
     "output_type": "execute_result"
    }
   ],
   "source": [
    "len(set().union(*listings['amenities']))"
   ]
  },
  {
   "cell_type": "code",
   "execution_count": 73,
   "id": "87cda068",
   "metadata": {},
   "outputs": [
    {
     "data": {
      "text/plain": [
       "{' linens',\n",
       " ' toiletries',\n",
       " 'Air conditioning',\n",
       " 'Alarm system',\n",
       " 'BBQ grill',\n",
       " 'Baby equipment',\n",
       " 'Baby monitor',\n",
       " 'Baby safety gates',\n",
       " 'Babysitter recommendations',\n",
       " 'Backyard',\n",
       " 'Baking sheet',\n",
       " 'Balcony',\n",
       " 'Bar',\n",
       " 'Barbecue utensils',\n",
       " 'Bath',\n",
       " 'Beachfront',\n",
       " 'Bed linens',\n",
       " 'Bed sheets and pillows',\n",
       " 'Bedroom comforts',\n",
       " 'Bidet',\n",
       " 'Bikes',\n",
       " 'Blender',\n",
       " 'Bluetooth speaker',\n",
       " 'Board games',\n",
       " 'Boat slip',\n",
       " 'Bottled water',\n",
       " 'Bread maker',\n",
       " 'Breakfast',\n",
       " 'Breakfast buffet available for a fee',\n",
       " 'Breakfast buffet available — €19 per person per day',\n",
       " 'Breakfast buffet available — €4 per person per day',\n",
       " 'Building staff',\n",
       " 'CD player',\n",
       " 'Carbon monoxide alarm',\n",
       " 'Ceiling fan',\n",
       " 'Changing table',\n",
       " \"Chef's kitchen\",\n",
       " 'Children stuff',\n",
       " 'Cleaning before checkout',\n",
       " 'Cleaning products',\n",
       " 'Clothing storage',\n",
       " 'Coffee maker',\n",
       " 'Concierge',\n",
       " 'Conditioner',\n",
       " 'Continental breakfast available — €12 per person per day',\n",
       " 'Cooking basics',\n",
       " 'Crib',\n",
       " 'DVD player',\n",
       " 'Dining table',\n",
       " 'Dishes and silverware',\n",
       " 'Dryer',\n",
       " 'Drying rack for clothing',\n",
       " 'EV charger',\n",
       " 'Elevator',\n",
       " 'Essentials',\n",
       " 'Extra pillows and blankets',\n",
       " 'Fire extinguisher',\n",
       " 'Fireplace',\n",
       " 'First aid kit',\n",
       " 'Fitness center',\n",
       " 'Foosball table',\n",
       " 'Formal dining area',\n",
       " 'Free carport on premises',\n",
       " 'Free parking',\n",
       " 'Freezer',\n",
       " 'Full kitchen',\n",
       " 'Game console',\n",
       " 'Game room',\n",
       " 'Garden',\n",
       " 'Gated property',\n",
       " 'Gym',\n",
       " 'Hair dryer',\n",
       " 'Hangers',\n",
       " 'Heating',\n",
       " 'High chair',\n",
       " 'Home theater',\n",
       " 'Host greets you',\n",
       " 'Hot tub',\n",
       " 'Hot water',\n",
       " 'Hot water kettle',\n",
       " 'Iron',\n",
       " 'Ironing board',\n",
       " 'Juicer',\n",
       " 'Kayak',\n",
       " 'Keypad',\n",
       " 'Kitchen',\n",
       " 'Kitchenette',\n",
       " 'Lake access',\n",
       " 'Laundromat nearby',\n",
       " 'Laundry services',\n",
       " 'Library',\n",
       " 'Limited housekeeping — ',\n",
       " 'Limited housekeeping — weekly',\n",
       " 'Lock on bedroom door',\n",
       " 'Lockbox',\n",
       " 'Long term stays allowed',\n",
       " 'Luggage dropoff allowed',\n",
       " 'Media room',\n",
       " 'Microwave',\n",
       " 'Minibar',\n",
       " 'Mosquito net',\n",
       " 'Onsite bar',\n",
       " 'Onsite bar — The Princess Crown',\n",
       " 'Onsite restaurant — Restaurant Voramar',\n",
       " 'Outdoor dining area',\n",
       " 'Outdoor furniture',\n",
       " 'Outlet covers',\n",
       " 'Oven',\n",
       " 'Pack ’n Play/travel crib',\n",
       " 'Paid parking',\n",
       " 'Parking',\n",
       " 'Patio or balcony',\n",
       " 'Pets allowed',\n",
       " 'Piano',\n",
       " 'Ping pong table',\n",
       " 'Pool',\n",
       " 'Pool cover',\n",
       " 'Pool table',\n",
       " 'Pool toys',\n",
       " 'Portable fans',\n",
       " 'Portable heater',\n",
       " 'Powder room',\n",
       " 'Private entrance',\n",
       " 'Private fenced garden or backyard',\n",
       " 'Private garden or backyard',\n",
       " 'Private hot tub',\n",
       " 'Private outdoor rooftop pool',\n",
       " 'Private patio or balcony',\n",
       " 'Private pool',\n",
       " 'Private sauna',\n",
       " 'Record player',\n",
       " 'Refrigerator',\n",
       " 'Restaurant',\n",
       " 'Rice maker',\n",
       " 'Rooftop pool with poolside bar',\n",
       " 'Room service',\n",
       " 'Room-darkening shades',\n",
       " 'Safe',\n",
       " 'Sauna',\n",
       " 'Security cameras on property',\n",
       " 'Self check-in',\n",
       " 'Self-parking — €20/stay',\n",
       " 'Self-parking — €25/day',\n",
       " 'Shampoo',\n",
       " 'Shared fenced garden or backyard',\n",
       " 'Shared garden or backyard',\n",
       " 'Shared hot tub',\n",
       " 'Shared indoor heated pool',\n",
       " 'Shared outdoor pool',\n",
       " 'Shared outdoor rooftop pool',\n",
       " 'Shared patio or balcony',\n",
       " 'Shared pool',\n",
       " 'Shared sauna',\n",
       " 'Shower',\n",
       " 'Single level home',\n",
       " 'Ski-in/Ski-out',\n",
       " 'Slippers',\n",
       " 'Smart lock',\n",
       " 'Smoke alarm',\n",
       " 'Smoking allowed',\n",
       " 'Soap',\n",
       " 'Sound system',\n",
       " 'Stove',\n",
       " 'Suitable for events',\n",
       " 'TV',\n",
       " 'Table corner guards',\n",
       " 'Terrace',\n",
       " 'Toaster',\n",
       " 'Toiletries',\n",
       " 'Trash compactor',\n",
       " 'Turndown service',\n",
       " 'Valet parking — €23/day',\n",
       " 'Washer',\n",
       " 'Waterfront',\n",
       " 'Wifi',\n",
       " 'Window AC unit',\n",
       " 'Window guards',\n",
       " 'Wine glasses',\n",
       " 'Workspace',\n",
       " 'iPod dock'}"
      ]
     },
     "execution_count": 73,
     "metadata": {},
     "output_type": "execute_result"
    }
   ],
   "source": [
    "set().union(*listings['amenities'])"
   ]
  },
  {
   "cell_type": "markdown",
   "id": "653abbe3",
   "metadata": {},
   "source": [
    "After consolidation check top 20 amenities, keep them for one hot encoding"
   ]
  },
  {
   "cell_type": "code",
   "execution_count": 74,
   "id": "09b54a49",
   "metadata": {},
   "outputs": [
    {
     "data": {
      "text/plain": [
       "[('Wifi', 16601),\n",
       " ('Essentials', 15565),\n",
       " ('Long term stays allowed', 15094),\n",
       " ('Kitchen', 14908),\n",
       " ('Washer', 13809),\n",
       " ('Hangers', 13790),\n",
       " ('Heating', 13293),\n",
       " ('Hair dryer', 13186),\n",
       " ('TV', 12835),\n",
       " ('Iron', 12705),\n",
       " ('Air conditioning', 11092),\n",
       " ('Hot water', 10857),\n",
       " ('Shampoo', 10142),\n",
       " ('Workspace', 9525),\n",
       " ('Dishes and silverware', 9370),\n",
       " ('Elevator', 9318),\n",
       " ('Refrigerator', 9268),\n",
       " ('Cooking basics', 8738),\n",
       " ('Microwave', 8579),\n",
       " ('Coffee maker', 8300)]"
      ]
     },
     "execution_count": 74,
     "metadata": {},
     "output_type": "execute_result"
    }
   ],
   "source": [
    "select_top_amenities = 20\n",
    "\n",
    "flattened_amenities = [item for sublist in listings['amenities'].tolist() for item in sublist]\n",
    "amenities_count = collections.Counter(flattened_amenities)\n",
    "amenities_count.most_common(select_top_amenities)"
   ]
  },
  {
   "cell_type": "code",
   "execution_count": 75,
   "id": "d75652d2",
   "metadata": {},
   "outputs": [
    {
     "data": {
      "image/png": "[encoded data removed]",
      "text/plain": [
       "<Figure size 864x576 with 1 Axes>"
      ]
     },
     "metadata": {
      "needs_background": "light"
     },
     "output_type": "display_data"
    }
   ],
   "source": [
    "wordcloud = WordCloud(min_word_length = 3, background_color = 'white', width = 800, height = 500, \n",
    "                      max_words = 100, random_state = 20202020, min_font_size = 7, prefer_horizontal = 3/4,\n",
    "                      colormap = 'brg')\n",
    "wordcloud.generate_from_frequencies(amenities_count)\n",
    "\n",
    "plt.figure(figsize = (12, 8))\n",
    "plt.imshow(wordcloud, interpolation='bilinear')\n",
    "plt.axis('off')\n",
    "plt.show()\n",
    "\n",
    "# colormaps: https://matplotlib.org/stable/tutorials/colors/colormaps.html"
   ]
  },
  {
   "cell_type": "code",
   "execution_count": 76,
   "id": "6aece889",
   "metadata": {},
   "outputs": [
    {
     "name": "stdout",
     "output_type": "stream",
     "text": [
      "Top amenities included:  ['Wifi', 'Essentials', 'Long term stays allowed', 'Kitchen', 'Washer', 'Hangers', 'Heating', 'Hair dryer', 'TV', 'Iron', 'Air conditioning', 'Hot water', 'Shampoo', 'Workspace', 'Dishes and silverware', 'Elevator', 'Refrigerator', 'Cooking basics', 'Microwave', 'Coffee maker']\n"
     ]
    }
   ],
   "source": [
    "top_amenities = [i[0] for i in amenities_count.most_common(select_top_amenities)]\n",
    "#top_amenities.extend(['Pets allowed', 'Self check-in'])\n",
    "\n",
    "print('Top amenities included: ', top_amenities)"
   ]
  },
  {
   "cell_type": "code",
   "execution_count": 77,
   "id": "5cf04a35",
   "metadata": {},
   "outputs": [],
   "source": [
    "def reduce_amenities(amenities_list):\n",
    "    \n",
    "    reduced_amenities = ['amenity_' + '_'.join(i.split()).lower() for i in amenities_list if i in top_amenities]\n",
    "    \n",
    "    return sorted(reduced_amenities)"
   ]
  },
  {
   "cell_type": "code",
   "execution_count": 78,
   "id": "527babaf",
   "metadata": {},
   "outputs": [],
   "source": [
    "listings['amenities'] = listings['amenities'].apply(lambda x: reduce_amenities(x))"
   ]
  },
  {
   "cell_type": "code",
   "execution_count": 79,
   "id": "5b805ded",
   "metadata": {},
   "outputs": [],
   "source": [
    "for amenity_col in list(set().union(*listings['amenities'])):       \n",
    "    listings[amenity_col] = listings['amenities'].apply(lambda x: 1 if amenity_col in x else 0)\n",
    "    \n",
    "listings.drop(['amenities'], 1, inplace = True)"
   ]
  },
  {
   "cell_type": "markdown",
   "id": "f7f8aaa1",
   "metadata": {},
   "source": [
    "#### Listing name and description may also be helpful. \n",
    "- Number of words in name\n",
    "- Number of words in description\n",
    "- Maybe some one hot encoding of certain words (luxurious, spacious, etc...)"
   ]
  },
  {
   "cell_type": "code",
   "execution_count": 80,
   "id": "cebe8a8a",
   "metadata": {},
   "outputs": [
    {
     "data": {
      "text/html": [
       "<div>\n",
       "<style scoped>\n",
       "    .dataframe tbody tr th:only-of-type {\n",
       "        vertical-align: middle;\n",
       "    }\n",
       "\n",
       "    .dataframe tbody tr th {\n",
       "        vertical-align: top;\n",
       "    }\n",
       "\n",
       "    .dataframe thead th {\n",
       "        text-align: right;\n",
       "    }\n",
       "</style>\n",
       "<table border=\"1\" class=\"dataframe\">\n",
       "  <thead>\n",
       "    <tr style=\"text-align: right;\">\n",
       "      <th></th>\n",
       "      <th>name</th>\n",
       "      <th>description</th>\n",
       "    </tr>\n",
       "  </thead>\n",
       "  <tbody>\n",
       "    <tr>\n",
       "      <th>0</th>\n",
       "      <td>Huge flat for 8 people close to Sagrada Familia</td>\n",
       "      <td>110m2 apartment to rent in Barcelona. Located ...</td>\n",
       "    </tr>\n",
       "    <tr>\n",
       "      <th>1</th>\n",
       "      <td>Forum CCIB DeLuxe★Spacious &amp;Elegant★Large Balcony</td>\n",
       "      <td>Beautiful spacious apartment, large terrace, 5...</td>\n",
       "    </tr>\n",
       "    <tr>\n",
       "      <th>2</th>\n",
       "      <td>Sagrada Familia area - Còrsega 1</td>\n",
       "      <td>A lovely two bedroom apartment only 250 m from...</td>\n",
       "    </tr>\n",
       "    <tr>\n",
       "      <th>3</th>\n",
       "      <td>Private Double room - Plaza Real</td>\n",
       "      <td>&lt;b&gt;The space&lt;/b&gt;&lt;br /&gt;It is a Private double r...</td>\n",
       "    </tr>\n",
       "    <tr>\n",
       "      <th>4</th>\n",
       "      <td>VIDRE HOME PLAZA REAL on LAS RAMBLAS</td>\n",
       "      <td>Spacious apartment for large families or group...</td>\n",
       "    </tr>\n",
       "  </tbody>\n",
       "</table>\n",
       "</div>"
      ],
      "text/plain": [
       "                                                name  \\\n",
       "0    Huge flat for 8 people close to Sagrada Familia   \n",
       "1  Forum CCIB DeLuxe★Spacious &Elegant★Large Balcony   \n",
       "2                   Sagrada Familia area - Còrsega 1   \n",
       "3                   Private Double room - Plaza Real   \n",
       "4               VIDRE HOME PLAZA REAL on LAS RAMBLAS   \n",
       "\n",
       "                                         description  \n",
       "0  110m2 apartment to rent in Barcelona. Located ...  \n",
       "1  Beautiful spacious apartment, large terrace, 5...  \n",
       "2  A lovely two bedroom apartment only 250 m from...  \n",
       "3  <b>The space</b><br />It is a Private double r...  \n",
       "4  Spacious apartment for large families or group...  "
      ]
     },
     "execution_count": 80,
     "metadata": {},
     "output_type": "execute_result"
    }
   ],
   "source": [
    "listings[['name', 'description']].head()"
   ]
  },
  {
   "cell_type": "markdown",
   "id": "961618c1",
   "metadata": {},
   "source": [
    "Clean text from non alphabetic characters, stopwords"
   ]
  },
  {
   "cell_type": "code",
   "execution_count": 81,
   "id": "3b0243ed",
   "metadata": {},
   "outputs": [],
   "source": [
    "def process_text(text, remove_stopwords = False):    \n",
    "    text = text.lower()\n",
    "    \n",
    "    # clean text\n",
    "    text = re.compile('<.*?>').sub(' ', text) # html tags\n",
    "    text = re.compile('[^a-z]').sub(' ', text) # nonletters      \n",
    "    text = re.compile('\\s+').sub(' ', text) # whitespaces\n",
    "    text = text.strip() # trailing whitespaces\n",
    "    \n",
    "    if remove_stopwords == True:\n",
    "        \n",
    "        # remove stopwords\n",
    "        text = ' '.join([word for word in text.split() if word not in (stopwords.words('english'))])\n",
    "    \n",
    "    return text"
   ]
  },
  {
   "cell_type": "code",
   "execution_count": 82,
   "id": "648c1219",
   "metadata": {},
   "outputs": [],
   "source": [
    "listings['description_cleaned'] = listings['description'].apply(lambda x: process_text(x) if isinstance(x, float) == False else x)\n",
    "listings['name_cleaned'] = listings['name'].apply(lambda x: process_text(x) if isinstance(x, float) == False else x)"
   ]
  },
  {
   "cell_type": "code",
   "execution_count": 84,
   "id": "3b500bed",
   "metadata": {},
   "outputs": [],
   "source": [
    "listings['name_cleaned_length'] = listings['name_cleaned'].apply(lambda x: len(x.split()) if isinstance(x, float) == False else 0)\n",
    "listings['description_cleaned_length'] = listings['description_cleaned'].apply(lambda x: len(x.split()) if isinstance(x, float) == False else 0)"
   ]
  },
  {
   "cell_type": "code",
   "execution_count": 85,
   "id": "6b404220",
   "metadata": {},
   "outputs": [],
   "source": [
    "listings['name_cleaned_no_stopwords'] = listings['name'].apply(lambda x: process_text(x, remove_stopwords = True) if isinstance(x, float) == False else x)"
   ]
  },
  {
   "cell_type": "code",
   "execution_count": 86,
   "id": "62ff0c13",
   "metadata": {},
   "outputs": [],
   "source": [
    "word_vectorizer = CountVectorizer(ngram_range = (1, 2), analyzer = 'word')\n",
    "sparse_matrix = word_vectorizer.fit_transform(listings['name_cleaned_no_stopwords'].astype(str))\n",
    "frequencies = sum(sparse_matrix).toarray()[0]\n",
    "\n",
    "word_counts = pd.DataFrame(frequencies, index = word_vectorizer.get_feature_names(), columns = ['frequency'])"
   ]
  },
  {
   "cell_type": "code",
   "execution_count": 87,
   "id": "bc432118",
   "metadata": {},
   "outputs": [
    {
     "data": {
      "text/html": [
       "<div>\n",
       "<style scoped>\n",
       "    .dataframe tbody tr th:only-of-type {\n",
       "        vertical-align: middle;\n",
       "    }\n",
       "\n",
       "    .dataframe tbody tr th {\n",
       "        vertical-align: top;\n",
       "    }\n",
       "\n",
       "    .dataframe thead th {\n",
       "        text-align: right;\n",
       "    }\n",
       "</style>\n",
       "<table border=\"1\" class=\"dataframe\">\n",
       "  <thead>\n",
       "    <tr style=\"text-align: right;\">\n",
       "      <th></th>\n",
       "      <th>frequency</th>\n",
       "    </tr>\n",
       "  </thead>\n",
       "  <tbody>\n",
       "    <tr>\n",
       "      <th>room</th>\n",
       "      <td>3808</td>\n",
       "    </tr>\n",
       "    <tr>\n",
       "      <th>apartment</th>\n",
       "      <td>3507</td>\n",
       "    </tr>\n",
       "    <tr>\n",
       "      <th>barcelona</th>\n",
       "      <td>2428</td>\n",
       "    </tr>\n",
       "    <tr>\n",
       "      <th>habitaci</th>\n",
       "      <td>1512</td>\n",
       "    </tr>\n",
       "    <tr>\n",
       "      <th>en</th>\n",
       "      <td>1431</td>\n",
       "    </tr>\n",
       "    <tr>\n",
       "      <th>de</th>\n",
       "      <td>1417</td>\n",
       "    </tr>\n",
       "    <tr>\n",
       "      <th>sagrada</th>\n",
       "      <td>1303</td>\n",
       "    </tr>\n",
       "    <tr>\n",
       "      <th>bedroom</th>\n",
       "      <td>1257</td>\n",
       "    </tr>\n",
       "    <tr>\n",
       "      <th>double</th>\n",
       "      <td>1246</td>\n",
       "    </tr>\n",
       "    <tr>\n",
       "      <th>familia</th>\n",
       "      <td>1233</td>\n",
       "    </tr>\n",
       "    <tr>\n",
       "      <th>sagrada familia</th>\n",
       "      <td>1203</td>\n",
       "    </tr>\n",
       "    <tr>\n",
       "      <th>center</th>\n",
       "      <td>1175</td>\n",
       "    </tr>\n",
       "    <tr>\n",
       "      <th>private</th>\n",
       "      <td>1164</td>\n",
       "    </tr>\n",
       "    <tr>\n",
       "      <th>terrace</th>\n",
       "      <td>1082</td>\n",
       "    </tr>\n",
       "    <tr>\n",
       "      <th>gracia</th>\n",
       "      <td>934</td>\n",
       "    </tr>\n",
       "    <tr>\n",
       "      <th>near</th>\n",
       "      <td>866</td>\n",
       "    </tr>\n",
       "    <tr>\n",
       "      <th>cozy</th>\n",
       "      <td>856</td>\n",
       "    </tr>\n",
       "    <tr>\n",
       "      <th>double room</th>\n",
       "      <td>826</td>\n",
       "    </tr>\n",
       "    <tr>\n",
       "      <th>flat</th>\n",
       "      <td>763</td>\n",
       "    </tr>\n",
       "    <tr>\n",
       "      <th>city</th>\n",
       "      <td>702</td>\n",
       "    </tr>\n",
       "  </tbody>\n",
       "</table>\n",
       "</div>"
      ],
      "text/plain": [
       "                 frequency\n",
       "room                  3808\n",
       "apartment             3507\n",
       "barcelona             2428\n",
       "habitaci              1512\n",
       "en                    1431\n",
       "de                    1417\n",
       "sagrada               1303\n",
       "bedroom               1257\n",
       "double                1246\n",
       "familia               1233\n",
       "sagrada familia       1203\n",
       "center                1175\n",
       "private               1164\n",
       "terrace               1082\n",
       "gracia                 934\n",
       "near                   866\n",
       "cozy                   856\n",
       "double room            826\n",
       "flat                   763\n",
       "city                   702"
      ]
     },
     "execution_count": 87,
     "metadata": {},
     "output_type": "execute_result"
    }
   ],
   "source": [
    "word_counts.sort_values('frequency', ascending = False).head(20)"
   ]
  },
  {
   "cell_type": "markdown",
   "id": "1d1efd26",
   "metadata": {},
   "source": [
    "Based on unigrams and ngrams I can create a couple of feature indicating if something is mentioned in the name or description"
   ]
  },
  {
   "cell_type": "code",
   "execution_count": 91,
   "id": "6331385f",
   "metadata": {},
   "outputs": [],
   "source": [
    "#touristy_words = ['rialto', 'canal', 'marco'] # for venezia\n",
    "touristy_words = ['sagrada', 'familia', 'gracia'] # for barcelona\n",
    "pattern = '|'.join(touristy_words)\n",
    "\n",
    "listings['name_touristy'] = 0\n",
    "listings.loc[(listings['name_cleaned'].notnull() & \n",
    "              listings['name_cleaned'].str.contains(pattern)), 'name_touristy'] = 1"
   ]
  },
  {
   "cell_type": "code",
   "execution_count": 92,
   "id": "f5b70526",
   "metadata": {},
   "outputs": [],
   "source": [
    "listings.drop(['name_cleaned', 'description_cleaned', 'name_cleaned_no_stopwords'], 1, inplace = True)"
   ]
  },
  {
   "cell_type": "code",
   "execution_count": null,
   "id": "f2293e19",
   "metadata": {},
   "outputs": [],
   "source": []
  },
  {
   "cell_type": "markdown",
   "id": "cf32eae6",
   "metadata": {},
   "source": [
    "#### Check numerical features"
   ]
  },
  {
   "cell_type": "code",
   "execution_count": 93,
   "id": "7970ede5",
   "metadata": {},
   "outputs": [],
   "source": [
    "listings.drop(['minimum_minimum_nights', 'maximum_minimum_nights', 'maximum_nights_avg_ntm', 'minimum_nights_avg_ntm',\n",
    "               'minimum_maximum_nights', 'maximum_maximum_nights', 'host_listings_count', 'maximum_nights', \n",
    "               'calculated_host_listings_count', 'calculated_host_listings_count_entire_homes', \n",
    "               'calculated_host_listings_count_private_rooms', 'calculated_host_listings_count_shared_rooms'], 1, inplace = True)"
   ]
  },
  {
   "cell_type": "markdown",
   "id": "5a567b06",
   "metadata": {},
   "source": [
    "Drop items above 99th percentile"
   ]
  },
  {
   "cell_type": "code",
   "execution_count": 94,
   "id": "c1f28245",
   "metadata": {
    "scrolled": false
   },
   "outputs": [
    {
     "data": {
      "text/plain": [
       "price                        672.420000\n",
       "host_total_listings_count    180.000000\n",
       "beds                           9.000000\n",
       "last_review_years              6.115068\n",
       "bedrooms                       5.000000\n",
       "bathrooms_count                4.000000\n",
       "Name: 99%, dtype: float64"
      ]
     },
     "execution_count": 94,
     "metadata": {},
     "output_type": "execute_result"
    }
   ],
   "source": [
    "check_99th_perc = ['host_total_listings_count', 'bedrooms', 'beds', 'price', 'bathrooms_count', 'last_review_years']\n",
    "\n",
    "perc_99_values = listings[check_99th_perc].describe(exclude = ['O'], \n",
    "                                           percentiles = [.99])\\\n",
    "                                          .T['99%']\\\n",
    "                                          .sort_values(ascending = False)\n",
    "\n",
    "perc_99_values"
   ]
  },
  {
   "cell_type": "code",
   "execution_count": 95,
   "id": "596d5c2f",
   "metadata": {},
   "outputs": [
    {
     "name": "stdout",
     "output_type": "stream",
     "text": [
      "(17030, 73)\n",
      "(11095, 73)\n"
     ]
    }
   ],
   "source": [
    "print(listings.shape)\n",
    "\n",
    "for num_col in perc_99_values.index:\n",
    "    \n",
    "    perc_99_value = perc_99_values[num_col]\n",
    "    listings = listings.loc[listings[num_col] <= perc_99_value]\n",
    "    \n",
    "print(listings.shape)"
   ]
  },
  {
   "cell_type": "markdown",
   "id": "6d7856b3",
   "metadata": {},
   "source": [
    "Check skewness and drop features based on that"
   ]
  },
  {
   "cell_type": "code",
   "execution_count": 96,
   "id": "dcf15ae3",
   "metadata": {},
   "outputs": [
    {
     "name": "stdout",
     "output_type": "stream",
     "text": [
      "host_has_profile_pic    -19.833277\n",
      "minimum_nights           10.710120\n",
      "has_availability        -10.445535\n",
      "number_of_reviews_ltm     5.793805\n",
      "amenity_wifi             -7.615372\n",
      "dtype: float64\n"
     ]
    }
   ],
   "source": [
    "skewness = listings.skew(skipna = True)\n",
    "skewness = skewness[skewness.abs() >= 5]\n",
    "\n",
    "print(skewness)\n",
    "\n",
    "listings.drop(skewness.index, 1, inplace = True)"
   ]
  },
  {
   "cell_type": "markdown",
   "id": "d68b6758",
   "metadata": {},
   "source": [
    "Shouldnt have 0 or half a bathroom"
   ]
  },
  {
   "cell_type": "code",
   "execution_count": 98,
   "id": "88cad1ff",
   "metadata": {},
   "outputs": [],
   "source": [
    "listings = listings[listings['bathrooms_count'] >= 1]"
   ]
  },
  {
   "cell_type": "markdown",
   "id": "cadeda5f",
   "metadata": {},
   "source": [
    "The following numerical features could be binned to groups\n",
    "- bedrooms\n",
    "- bathrooms"
   ]
  },
  {
   "cell_type": "code",
   "execution_count": 83,
   "id": "8900ad3d",
   "metadata": {},
   "outputs": [],
   "source": [
    "# listings['bedrooms'] = listings['bedrooms'].apply(lambda x: '1_bedroom' if x == 1 else ('2_bedrooms' if x == 2 else '2_plus_bedrooms'))\n",
    "# listings['bathrooms_count'] = listings['bathrooms_count'].apply(lambda x: '1_bathroom' if x == 1 else ('1.5_bathrooms' if x == 1.5 else ('2_bathrooms' if x == 2 else '2_plus_bathrooms')))"
   ]
  },
  {
   "cell_type": "markdown",
   "id": "d688dcab",
   "metadata": {},
   "source": [
    "#### Check int features"
   ]
  },
  {
   "cell_type": "code",
   "execution_count": 85,
   "id": "04a348ad",
   "metadata": {},
   "outputs": [],
   "source": [
    "# listings['accommodates'] = listings['accommodates'].apply(lambda x: '1' if x == 1 else ('2' if x == 2 else ('3' if x == 3 else ('4' if x == 4 else ('5' if x == 5 else '5_plus')))))"
   ]
  },
  {
   "cell_type": "markdown",
   "id": "985e3f95",
   "metadata": {},
   "source": [
    "Check balances of 1/0 (true/false) features. Drop features with overwhelming majorities (>90% in one class)"
   ]
  },
  {
   "cell_type": "code",
   "execution_count": 99,
   "id": "1405e723",
   "metadata": {},
   "outputs": [
    {
     "name": "stdout",
     "output_type": "stream",
     "text": [
      "['host_is_superhost', 'host_identity_verified', 'instant_bookable', 'description_host', 'description_neighbourhood', 'bathrooms_are_shared', 'amenity_air_conditioning', 'amenity_hot_water', 'amenity_shampoo', 'amenity_iron', 'amenity_kitchen', 'amenity_heating', 'amenity_essentials', 'amenity_hangers', 'amenity_workspace', 'amenity_microwave', 'amenity_tv', 'amenity_dishes_and_silverware', 'amenity_elevator', 'amenity_refrigerator', 'amenity_long_term_stays_allowed', 'amenity_hair_dryer', 'amenity_cooking_basics', 'amenity_washer', 'amenity_coffee_maker', 'name_touristy']\n"
     ]
    }
   ],
   "source": [
    "true_false_features = listings.select_dtypes('int64').max()[listings.select_dtypes('int64').max() == 1].index.tolist()\n",
    "print(true_false_features)"
   ]
  },
  {
   "cell_type": "code",
   "execution_count": 100,
   "id": "dda2fa44",
   "metadata": {},
   "outputs": [
    {
     "data": {
      "text/html": [
       "<div>\n",
       "<style scoped>\n",
       "    .dataframe tbody tr th:only-of-type {\n",
       "        vertical-align: middle;\n",
       "    }\n",
       "\n",
       "    .dataframe tbody tr th {\n",
       "        vertical-align: top;\n",
       "    }\n",
       "\n",
       "    .dataframe thead th {\n",
       "        text-align: right;\n",
       "    }\n",
       "</style>\n",
       "<table border=\"1\" class=\"dataframe\">\n",
       "  <thead>\n",
       "    <tr style=\"text-align: right;\">\n",
       "      <th></th>\n",
       "      <th>count</th>\n",
       "      <th>min</th>\n",
       "      <th>1%</th>\n",
       "      <th>10%</th>\n",
       "      <th>25%</th>\n",
       "      <th>50%</th>\n",
       "      <th>75%</th>\n",
       "      <th>90%</th>\n",
       "      <th>99%</th>\n",
       "      <th>max</th>\n",
       "    </tr>\n",
       "  </thead>\n",
       "  <tbody>\n",
       "    <tr>\n",
       "      <th>host_is_superhost</th>\n",
       "      <td>11031</td>\n",
       "      <td>0</td>\n",
       "      <td>0</td>\n",
       "      <td>0</td>\n",
       "      <td>0</td>\n",
       "      <td>0</td>\n",
       "      <td>0</td>\n",
       "      <td>1</td>\n",
       "      <td>1</td>\n",
       "      <td>1</td>\n",
       "    </tr>\n",
       "    <tr>\n",
       "      <th>host_identity_verified</th>\n",
       "      <td>11031</td>\n",
       "      <td>0</td>\n",
       "      <td>0</td>\n",
       "      <td>0</td>\n",
       "      <td>1</td>\n",
       "      <td>1</td>\n",
       "      <td>1</td>\n",
       "      <td>1</td>\n",
       "      <td>1</td>\n",
       "      <td>1</td>\n",
       "    </tr>\n",
       "    <tr>\n",
       "      <th>instant_bookable</th>\n",
       "      <td>11031</td>\n",
       "      <td>0</td>\n",
       "      <td>0</td>\n",
       "      <td>0</td>\n",
       "      <td>0</td>\n",
       "      <td>0</td>\n",
       "      <td>1</td>\n",
       "      <td>1</td>\n",
       "      <td>1</td>\n",
       "      <td>1</td>\n",
       "    </tr>\n",
       "    <tr>\n",
       "      <th>description_host</th>\n",
       "      <td>11031</td>\n",
       "      <td>0</td>\n",
       "      <td>0</td>\n",
       "      <td>0</td>\n",
       "      <td>0</td>\n",
       "      <td>0</td>\n",
       "      <td>1</td>\n",
       "      <td>1</td>\n",
       "      <td>1</td>\n",
       "      <td>1</td>\n",
       "    </tr>\n",
       "    <tr>\n",
       "      <th>description_neighbourhood</th>\n",
       "      <td>11031</td>\n",
       "      <td>0</td>\n",
       "      <td>0</td>\n",
       "      <td>0</td>\n",
       "      <td>0</td>\n",
       "      <td>0</td>\n",
       "      <td>1</td>\n",
       "      <td>1</td>\n",
       "      <td>1</td>\n",
       "      <td>1</td>\n",
       "    </tr>\n",
       "    <tr>\n",
       "      <th>bathrooms_are_shared</th>\n",
       "      <td>11031</td>\n",
       "      <td>0</td>\n",
       "      <td>0</td>\n",
       "      <td>0</td>\n",
       "      <td>0</td>\n",
       "      <td>0</td>\n",
       "      <td>1</td>\n",
       "      <td>1</td>\n",
       "      <td>1</td>\n",
       "      <td>1</td>\n",
       "    </tr>\n",
       "    <tr>\n",
       "      <th>amenity_air_conditioning</th>\n",
       "      <td>11031</td>\n",
       "      <td>0</td>\n",
       "      <td>0</td>\n",
       "      <td>0</td>\n",
       "      <td>0</td>\n",
       "      <td>1</td>\n",
       "      <td>1</td>\n",
       "      <td>1</td>\n",
       "      <td>1</td>\n",
       "      <td>1</td>\n",
       "    </tr>\n",
       "    <tr>\n",
       "      <th>amenity_hot_water</th>\n",
       "      <td>11031</td>\n",
       "      <td>0</td>\n",
       "      <td>0</td>\n",
       "      <td>0</td>\n",
       "      <td>0</td>\n",
       "      <td>1</td>\n",
       "      <td>1</td>\n",
       "      <td>1</td>\n",
       "      <td>1</td>\n",
       "      <td>1</td>\n",
       "    </tr>\n",
       "    <tr>\n",
       "      <th>amenity_shampoo</th>\n",
       "      <td>11031</td>\n",
       "      <td>0</td>\n",
       "      <td>0</td>\n",
       "      <td>0</td>\n",
       "      <td>0</td>\n",
       "      <td>1</td>\n",
       "      <td>1</td>\n",
       "      <td>1</td>\n",
       "      <td>1</td>\n",
       "      <td>1</td>\n",
       "    </tr>\n",
       "    <tr>\n",
       "      <th>amenity_iron</th>\n",
       "      <td>11031</td>\n",
       "      <td>0</td>\n",
       "      <td>0</td>\n",
       "      <td>0</td>\n",
       "      <td>1</td>\n",
       "      <td>1</td>\n",
       "      <td>1</td>\n",
       "      <td>1</td>\n",
       "      <td>1</td>\n",
       "      <td>1</td>\n",
       "    </tr>\n",
       "    <tr>\n",
       "      <th>amenity_kitchen</th>\n",
       "      <td>11031</td>\n",
       "      <td>0</td>\n",
       "      <td>0</td>\n",
       "      <td>0</td>\n",
       "      <td>1</td>\n",
       "      <td>1</td>\n",
       "      <td>1</td>\n",
       "      <td>1</td>\n",
       "      <td>1</td>\n",
       "      <td>1</td>\n",
       "    </tr>\n",
       "    <tr>\n",
       "      <th>amenity_heating</th>\n",
       "      <td>11031</td>\n",
       "      <td>0</td>\n",
       "      <td>0</td>\n",
       "      <td>0</td>\n",
       "      <td>1</td>\n",
       "      <td>1</td>\n",
       "      <td>1</td>\n",
       "      <td>1</td>\n",
       "      <td>1</td>\n",
       "      <td>1</td>\n",
       "    </tr>\n",
       "    <tr>\n",
       "      <th>amenity_essentials</th>\n",
       "      <td>11031</td>\n",
       "      <td>0</td>\n",
       "      <td>0</td>\n",
       "      <td>1</td>\n",
       "      <td>1</td>\n",
       "      <td>1</td>\n",
       "      <td>1</td>\n",
       "      <td>1</td>\n",
       "      <td>1</td>\n",
       "      <td>1</td>\n",
       "    </tr>\n",
       "    <tr>\n",
       "      <th>amenity_hangers</th>\n",
       "      <td>11031</td>\n",
       "      <td>0</td>\n",
       "      <td>0</td>\n",
       "      <td>0</td>\n",
       "      <td>1</td>\n",
       "      <td>1</td>\n",
       "      <td>1</td>\n",
       "      <td>1</td>\n",
       "      <td>1</td>\n",
       "      <td>1</td>\n",
       "    </tr>\n",
       "    <tr>\n",
       "      <th>amenity_workspace</th>\n",
       "      <td>11031</td>\n",
       "      <td>0</td>\n",
       "      <td>0</td>\n",
       "      <td>0</td>\n",
       "      <td>0</td>\n",
       "      <td>1</td>\n",
       "      <td>1</td>\n",
       "      <td>1</td>\n",
       "      <td>1</td>\n",
       "      <td>1</td>\n",
       "    </tr>\n",
       "    <tr>\n",
       "      <th>amenity_microwave</th>\n",
       "      <td>11031</td>\n",
       "      <td>0</td>\n",
       "      <td>0</td>\n",
       "      <td>0</td>\n",
       "      <td>0</td>\n",
       "      <td>1</td>\n",
       "      <td>1</td>\n",
       "      <td>1</td>\n",
       "      <td>1</td>\n",
       "      <td>1</td>\n",
       "    </tr>\n",
       "    <tr>\n",
       "      <th>amenity_tv</th>\n",
       "      <td>11031</td>\n",
       "      <td>0</td>\n",
       "      <td>0</td>\n",
       "      <td>0</td>\n",
       "      <td>0</td>\n",
       "      <td>1</td>\n",
       "      <td>1</td>\n",
       "      <td>1</td>\n",
       "      <td>1</td>\n",
       "      <td>1</td>\n",
       "    </tr>\n",
       "    <tr>\n",
       "      <th>amenity_dishes_and_silverware</th>\n",
       "      <td>11031</td>\n",
       "      <td>0</td>\n",
       "      <td>0</td>\n",
       "      <td>0</td>\n",
       "      <td>0</td>\n",
       "      <td>1</td>\n",
       "      <td>1</td>\n",
       "      <td>1</td>\n",
       "      <td>1</td>\n",
       "      <td>1</td>\n",
       "    </tr>\n",
       "    <tr>\n",
       "      <th>amenity_elevator</th>\n",
       "      <td>11031</td>\n",
       "      <td>0</td>\n",
       "      <td>0</td>\n",
       "      <td>0</td>\n",
       "      <td>0</td>\n",
       "      <td>1</td>\n",
       "      <td>1</td>\n",
       "      <td>1</td>\n",
       "      <td>1</td>\n",
       "      <td>1</td>\n",
       "    </tr>\n",
       "    <tr>\n",
       "      <th>amenity_refrigerator</th>\n",
       "      <td>11031</td>\n",
       "      <td>0</td>\n",
       "      <td>0</td>\n",
       "      <td>0</td>\n",
       "      <td>0</td>\n",
       "      <td>1</td>\n",
       "      <td>1</td>\n",
       "      <td>1</td>\n",
       "      <td>1</td>\n",
       "      <td>1</td>\n",
       "    </tr>\n",
       "    <tr>\n",
       "      <th>amenity_long_term_stays_allowed</th>\n",
       "      <td>11031</td>\n",
       "      <td>0</td>\n",
       "      <td>0</td>\n",
       "      <td>0</td>\n",
       "      <td>1</td>\n",
       "      <td>1</td>\n",
       "      <td>1</td>\n",
       "      <td>1</td>\n",
       "      <td>1</td>\n",
       "      <td>1</td>\n",
       "    </tr>\n",
       "    <tr>\n",
       "      <th>amenity_hair_dryer</th>\n",
       "      <td>11031</td>\n",
       "      <td>0</td>\n",
       "      <td>0</td>\n",
       "      <td>0</td>\n",
       "      <td>1</td>\n",
       "      <td>1</td>\n",
       "      <td>1</td>\n",
       "      <td>1</td>\n",
       "      <td>1</td>\n",
       "      <td>1</td>\n",
       "    </tr>\n",
       "    <tr>\n",
       "      <th>amenity_cooking_basics</th>\n",
       "      <td>11031</td>\n",
       "      <td>0</td>\n",
       "      <td>0</td>\n",
       "      <td>0</td>\n",
       "      <td>0</td>\n",
       "      <td>1</td>\n",
       "      <td>1</td>\n",
       "      <td>1</td>\n",
       "      <td>1</td>\n",
       "      <td>1</td>\n",
       "    </tr>\n",
       "    <tr>\n",
       "      <th>amenity_washer</th>\n",
       "      <td>11031</td>\n",
       "      <td>0</td>\n",
       "      <td>0</td>\n",
       "      <td>0</td>\n",
       "      <td>1</td>\n",
       "      <td>1</td>\n",
       "      <td>1</td>\n",
       "      <td>1</td>\n",
       "      <td>1</td>\n",
       "      <td>1</td>\n",
       "    </tr>\n",
       "    <tr>\n",
       "      <th>amenity_coffee_maker</th>\n",
       "      <td>11031</td>\n",
       "      <td>0</td>\n",
       "      <td>0</td>\n",
       "      <td>0</td>\n",
       "      <td>0</td>\n",
       "      <td>1</td>\n",
       "      <td>1</td>\n",
       "      <td>1</td>\n",
       "      <td>1</td>\n",
       "      <td>1</td>\n",
       "    </tr>\n",
       "    <tr>\n",
       "      <th>name_touristy</th>\n",
       "      <td>11031</td>\n",
       "      <td>0</td>\n",
       "      <td>0</td>\n",
       "      <td>0</td>\n",
       "      <td>0</td>\n",
       "      <td>0</td>\n",
       "      <td>0</td>\n",
       "      <td>1</td>\n",
       "      <td>1</td>\n",
       "      <td>1</td>\n",
       "    </tr>\n",
       "  </tbody>\n",
       "</table>\n",
       "</div>"
      ],
      "text/plain": [
       "                                 count  min  1%  10%  25%  50%  75%  90%  99%  \\\n",
       "host_is_superhost                11031    0   0    0    0    0    0    1    1   \n",
       "host_identity_verified           11031    0   0    0    1    1    1    1    1   \n",
       "instant_bookable                 11031    0   0    0    0    0    1    1    1   \n",
       "description_host                 11031    0   0    0    0    0    1    1    1   \n",
       "description_neighbourhood        11031    0   0    0    0    0    1    1    1   \n",
       "bathrooms_are_shared             11031    0   0    0    0    0    1    1    1   \n",
       "amenity_air_conditioning         11031    0   0    0    0    1    1    1    1   \n",
       "amenity_hot_water                11031    0   0    0    0    1    1    1    1   \n",
       "amenity_shampoo                  11031    0   0    0    0    1    1    1    1   \n",
       "amenity_iron                     11031    0   0    0    1    1    1    1    1   \n",
       "amenity_kitchen                  11031    0   0    0    1    1    1    1    1   \n",
       "amenity_heating                  11031    0   0    0    1    1    1    1    1   \n",
       "amenity_essentials               11031    0   0    1    1    1    1    1    1   \n",
       "amenity_hangers                  11031    0   0    0    1    1    1    1    1   \n",
       "amenity_workspace                11031    0   0    0    0    1    1    1    1   \n",
       "amenity_microwave                11031    0   0    0    0    1    1    1    1   \n",
       "amenity_tv                       11031    0   0    0    0    1    1    1    1   \n",
       "amenity_dishes_and_silverware    11031    0   0    0    0    1    1    1    1   \n",
       "amenity_elevator                 11031    0   0    0    0    1    1    1    1   \n",
       "amenity_refrigerator             11031    0   0    0    0    1    1    1    1   \n",
       "amenity_long_term_stays_allowed  11031    0   0    0    1    1    1    1    1   \n",
       "amenity_hair_dryer               11031    0   0    0    1    1    1    1    1   \n",
       "amenity_cooking_basics           11031    0   0    0    0    1    1    1    1   \n",
       "amenity_washer                   11031    0   0    0    1    1    1    1    1   \n",
       "amenity_coffee_maker             11031    0   0    0    0    1    1    1    1   \n",
       "name_touristy                    11031    0   0    0    0    0    0    1    1   \n",
       "\n",
       "                                 max  \n",
       "host_is_superhost                  1  \n",
       "host_identity_verified             1  \n",
       "instant_bookable                   1  \n",
       "description_host                   1  \n",
       "description_neighbourhood          1  \n",
       "bathrooms_are_shared               1  \n",
       "amenity_air_conditioning           1  \n",
       "amenity_hot_water                  1  \n",
       "amenity_shampoo                    1  \n",
       "amenity_iron                       1  \n",
       "amenity_kitchen                    1  \n",
       "amenity_heating                    1  \n",
       "amenity_essentials                 1  \n",
       "amenity_hangers                    1  \n",
       "amenity_workspace                  1  \n",
       "amenity_microwave                  1  \n",
       "amenity_tv                         1  \n",
       "amenity_dishes_and_silverware      1  \n",
       "amenity_elevator                   1  \n",
       "amenity_refrigerator               1  \n",
       "amenity_long_term_stays_allowed    1  \n",
       "amenity_hair_dryer                 1  \n",
       "amenity_cooking_basics             1  \n",
       "amenity_washer                     1  \n",
       "amenity_coffee_maker               1  \n",
       "name_touristy                      1  "
      ]
     },
     "execution_count": 100,
     "metadata": {},
     "output_type": "execute_result"
    }
   ],
   "source": [
    "listings[true_false_features].describe(percentiles = [.01, .1, .25, .5, .75, .9, .99]).T.drop(['mean', 'std'], 1).astype(int)"
   ]
  },
  {
   "cell_type": "code",
   "execution_count": 101,
   "id": "98174a62",
   "metadata": {},
   "outputs": [
    {
     "data": {
      "text/plain": [
       "{'amenity_essentials': 0.9382648898558608}"
      ]
     },
     "execution_count": 101,
     "metadata": {},
     "output_type": "execute_result"
    }
   ],
   "source": [
    "L = listings.shape[0]\n",
    "true_false_features_balance = {}\n",
    "\n",
    "for i in true_false_features:\n",
    "    \n",
    "    n_true = listings[i].sum()\n",
    "    n_false = L - n_true\n",
    "    \n",
    "    if n_true / L >= 0.9:\n",
    "        \n",
    "        true_false_features_balance[i] = n_true / L\n",
    "\n",
    "true_false_features_balance"
   ]
  },
  {
   "cell_type": "code",
   "execution_count": 102,
   "id": "c316b719",
   "metadata": {},
   "outputs": [],
   "source": [
    "listings.drop(true_false_features_balance.keys(), 1, inplace = True) "
   ]
  },
  {
   "cell_type": "code",
   "execution_count": null,
   "id": "6916a6a9",
   "metadata": {},
   "outputs": [],
   "source": []
  },
  {
   "cell_type": "markdown",
   "id": "96dacbe7",
   "metadata": {},
   "source": [
    "### Main cleaning is now complete: final overview of listing dataset"
   ]
  },
  {
   "cell_type": "code",
   "execution_count": 103,
   "id": "34a85b15",
   "metadata": {},
   "outputs": [
    {
     "data": {
      "text/plain": [
       "int64      35\n",
       "float64    20\n",
       "object     12\n",
       "dtype: int64"
      ]
     },
     "execution_count": 103,
     "metadata": {},
     "output_type": "execute_result"
    }
   ],
   "source": [
    "listings.dtypes.value_counts()"
   ]
  },
  {
   "cell_type": "code",
   "execution_count": 104,
   "id": "8bf14dd1",
   "metadata": {},
   "outputs": [
    {
     "data": {
      "text/plain": [
       "name                              2\n",
       "description                      27\n",
       "host_response_time             2786\n",
       "host_response_rate             2786\n",
       "host_acceptance_rate           2935\n",
       "host_neighbourhood             2661\n",
       "review_scores_accuracy          176\n",
       "review_scores_cleanliness       174\n",
       "review_scores_checkin           180\n",
       "review_scores_communication     175\n",
       "review_scores_location          181\n",
       "review_scores_value             182\n",
       "dtype: int64"
      ]
     },
     "execution_count": 104,
     "metadata": {},
     "output_type": "execute_result"
    }
   ],
   "source": [
    "listings.isnull().sum()[listings.isnull().sum() > 0]"
   ]
  },
  {
   "cell_type": "code",
   "execution_count": 107,
   "id": "ee2368e8",
   "metadata": {},
   "outputs": [],
   "source": [
    "listings = listings[listings['review_scores_value'].notnull()]\n",
    "listings = listings[listings['review_scores_accuracy'].notnull()]          "
   ]
  },
  {
   "cell_type": "markdown",
   "id": "96406fb3",
   "metadata": {},
   "source": [
    "Changes to be made after data analysis (next notebook):\n",
    "- drop\n",
    "    - 'neighbourhood_group_cleansed'\n",
    "    - longitude\n",
    "    - latitude\n",
    "    \n",
    "- treat\n",
    "    - NaNs for host_response_time, rate and acceptance rate features. GBMs can take care of it, linreg needs manual adj"
   ]
  },
  {
   "cell_type": "markdown",
   "id": "3ded28bd",
   "metadata": {},
   "source": [
    "### Reviews"
   ]
  },
  {
   "cell_type": "code",
   "execution_count": null,
   "id": "e730a908",
   "metadata": {},
   "outputs": [],
   "source": [
    "# reviews[(reviews['reviewer_name'] == 'Kristof')] # &\n",
    "# #         (reviews['listing_id'] == 19493233)]['comments'][328156]"
   ]
  },
  {
   "cell_type": "markdown",
   "id": "5bb20585",
   "metadata": {},
   "source": [
    "Reviews data for now will not be used. Listings data has ratings, comment counts and other feedback related info"
   ]
  },
  {
   "cell_type": "markdown",
   "id": "de31f806",
   "metadata": {},
   "source": [
    "### Save cleaned file for further analysis"
   ]
  },
  {
   "cell_type": "code",
   "execution_count": 109,
   "id": "99242ecb",
   "metadata": {},
   "outputs": [],
   "source": [
    "listings.to_csv('data/' + city + '/listings_cleaned.csv', index = False)"
   ]
  },
  {
   "cell_type": "code",
   "execution_count": null,
   "id": "a1969a21",
   "metadata": {},
   "outputs": [],
   "source": []
  }
 ],
 "metadata": {
  "kernelspec": {
   "display_name": "Python 3",
   "language": "python",
   "name": "python3"
  },
  "language_info": {
   "codemirror_mode": {
    "name": "ipython",
    "version": 3
   },
   "file_extension": ".py",
   "mimetype": "text/x-python",
   "name": "python",
   "nbconvert_exporter": "python",
   "pygments_lexer": "ipython3",
   "version": "3.8.8"
  }
 },
 "nbformat": 4,
 "nbformat_minor": 5
}
