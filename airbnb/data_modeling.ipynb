{
 "cells": [
  {
   "cell_type": "code",
   "execution_count": 1,
   "id": "b372da62",
   "metadata": {},
   "outputs": [],
   "source": [
    "import pandas as pd\n",
    "import numpy as np\n",
    "\n",
    "import plotly.express as px\n",
    "import matplotlib.pyplot as plt\n",
    "import seaborn as sns\n",
    "\n",
    "from sklearn.model_selection import train_test_split\n",
    "from sklearn.metrics import mean_squared_error, mean_absolute_error, r2_score\n",
    "\n",
    "from catboost import CatBoostRegressor\n",
    "\n",
    "import warnings\n",
    "warnings.filterwarnings('ignore')\n",
    "\n",
    "\n",
    "def mean_absolute_percentage_error(actual, pred): \n",
    "    return np.mean(np.abs((actual - pred) / actual)) * 100\n",
    "\n",
    "def evaluate_model(model_name, model, X, y):\n",
    "    \n",
    "    predictions = model.predict(X)\n",
    "\n",
    "    MAE = mean_absolute_error(y, predictions)\n",
    "    MAPE = mean_absolute_percentage_error(y, predictions)\n",
    "    RMSE = mean_squared_error(y, predictions, squared = False)\n",
    "    R2 = r2_score(y, predictions)\n",
    "\n",
    "    print('MAE for', model_name, ': %1.3f' % MAE)\n",
    "    print('MAPE for', model_name, ': %1.3f' % MAPE)\n",
    "    print('RMSE for', model_name, ': %1.3f' % RMSE)\n",
    "    print('R2 for', model_name, ': %1.3f' % R2)\n",
    "    \n",
    "    \n",
    "def plot_predictions(model, x, y, title):\n",
    "    \n",
    "    plt.figure(figsize = (7, 4))\n",
    "    sns.scatterplot(x = y, y = model.predict(x), s = 20)\n",
    "    sns.lineplot([0, 1000], [0, 1000], color = 'black', linewidth = 1)\n",
    "    plt.title(title + '\\n')\n",
    "    plt.xlabel('Actual values')\n",
    "    plt.ylabel('Predicted values')\n",
    "    plt.show()"
   ]
  },
  {
   "cell_type": "code",
   "execution_count": 2,
   "id": "a7c02e16",
   "metadata": {},
   "outputs": [],
   "source": [
    "listings_link = 'data/listings_modeling.csv'\n",
    "listings = pd.read_csv(listings_link)"
   ]
  },
  {
   "cell_type": "markdown",
   "id": "e31e6e60",
   "metadata": {},
   "source": [
    "Train test split"
   ]
  },
  {
   "cell_type": "code",
   "execution_count": 3,
   "id": "a156cc2f",
   "metadata": {},
   "outputs": [],
   "source": [
    "y = listings['price']\n",
    "X = listings.drop('price', 1).copy()\n",
    "\n",
    "X_train, X_test, y_train, y_test = train_test_split(X, y, random_state = 20202020, train_size = 0.8)"
   ]
  },
  {
   "cell_type": "markdown",
   "id": "0349c5f1",
   "metadata": {},
   "source": [
    "Categorical features - gmbs can handle them without one hot encoding"
   ]
  },
  {
   "cell_type": "code",
   "execution_count": 4,
   "id": "dc9a9ec6",
   "metadata": {},
   "outputs": [
    {
     "name": "stdout",
     "output_type": "stream",
     "text": [
      "['host_response_time', 'room_type', 'accommodates', 'bedrooms', 'neighbourhood_cleansed_grouped', 'bathrooms_count']\n"
     ]
    }
   ],
   "source": [
    "categorical_features = X.select_dtypes(include = 'O').columns.tolist()\n",
    "print(categorical_features)"
   ]
  },
  {
   "cell_type": "markdown",
   "id": "73c7ea54",
   "metadata": {},
   "source": [
    "## 1. Baseline default CatBoost"
   ]
  },
  {
   "cell_type": "code",
   "execution_count": 45,
   "id": "eee0f385",
   "metadata": {},
   "outputs": [
    {
     "data": {
      "application/vnd.jupyter.widget-view+json": {
       "model_id": "c8899d19b72246a8ae08ecbd52719e46",
       "version_major": 2,
       "version_minor": 0
      },
      "text/plain": [
       "MetricVisualizer(layout=Layout(align_self='stretch', height='500px'))"
      ]
     },
     "metadata": {},
     "output_type": "display_data"
    },
    {
     "data": {
      "text/plain": [
       "<catboost.core.CatBoostRegressor at 0x176614313d0>"
      ]
     },
     "execution_count": 45,
     "metadata": {},
     "output_type": "execute_result"
    }
   ],
   "source": [
    "default_model = CatBoostRegressor(random_state = 20202020, \n",
    "                                  learning_rate = 0.03,\n",
    "                                  iterations = 1000,\n",
    "                                  # early_stopping_rounds = 15,\n",
    "                                  cat_features = categorical_features,\n",
    "                                  one_hot_max_size = 20,\n",
    "                                  verbose = 100)\n",
    "default_model.fit(X_train, y_train, eval_set = (X_test, y_test), plot = True, verbose = False)"
   ]
  },
  {
   "cell_type": "code",
   "execution_count": 46,
   "id": "a95b8d79",
   "metadata": {},
   "outputs": [
    {
     "name": "stdout",
     "output_type": "stream",
     "text": [
      "MAE for Default CatBoost : 33.242\n",
      "MAPE for Default CatBoost : 28.633\n",
      "RMSE for Default CatBoost : 66.363\n",
      "R2 for Default CatBoost : 0.551\n"
     ]
    }
   ],
   "source": [
    "evaluate_model('Default CatBoost', default_model, X_test, y_test)"
   ]
  },
  {
   "cell_type": "code",
   "execution_count": 47,
   "id": "d8dd66f4",
   "metadata": {},
   "outputs": [
    {
     "data": {
      "image/png": "[encoded data removed]",
      "text/plain": [
       "<Figure size 504x288 with 1 Axes>"
      ]
     },
     "metadata": {
      "needs_background": "light"
     },
     "output_type": "display_data"
    }
   ],
   "source": [
    "plot_predictions(default_model, X_test, y_test, 'Default CatBoost test performance')"
   ]
  },
  {
   "cell_type": "markdown",
   "id": "36a1d41e",
   "metadata": {},
   "source": [
    "### Feature statistics"
   ]
  },
  {
   "cell_type": "code",
   "execution_count": 48,
   "id": "eca9bdd0",
   "metadata": {},
   "outputs": [
    {
     "data": {
      "text/plain": [
       "['host_response_time',\n",
       " 'room_type',\n",
       " 'accommodates',\n",
       " 'bedrooms',\n",
       " 'neighbourhood_cleansed_grouped',\n",
       " 'bathrooms_count']"
      ]
     },
     "execution_count": 48,
     "metadata": {},
     "output_type": "execute_result"
    }
   ],
   "source": [
    "categorical_features"
   ]
  },
  {
   "cell_type": "code",
   "execution_count": 49,
   "id": "e20f9dcc",
   "metadata": {},
   "outputs": [
    {
     "ename": "IndexError",
     "evalue": "list index out of range",
     "output_type": "error",
     "traceback": [
      "\u001b[1;31m---------------------------------------------------------------------------\u001b[0m",
      "\u001b[1;31mIndexError\u001b[0m                                Traceback (most recent call last)",
      "\u001b[1;32m<ipython-input-49-08376f20fc59>\u001b[0m in \u001b[0;36m<module>\u001b[1;34m\u001b[0m\n\u001b[1;32m----> 1\u001b[1;33m \u001b[0mdefault_model\u001b[0m\u001b[1;33m.\u001b[0m\u001b[0mcalc_feature_statistics\u001b[0m\u001b[1;33m(\u001b[0m\u001b[0mX_train\u001b[0m\u001b[1;33m,\u001b[0m \u001b[0my_train\u001b[0m\u001b[1;33m,\u001b[0m \u001b[1;34m'bathrooms_count'\u001b[0m\u001b[1;33m)\u001b[0m\u001b[1;33m\u001b[0m\u001b[1;33m\u001b[0m\u001b[0m\n\u001b[0m",
      "\u001b[1;32m~\\anaconda3\\lib\\site-packages\\catboost\\core.py\u001b[0m in \u001b[0;36mcalc_feature_statistics\u001b[1;34m(self, data, target, feature, prediction_type, cat_feature_values, plot, max_cat_features_on_plot, thread_count, plot_file)\u001b[0m\n\u001b[0;32m   3454\u001b[0m         \u001b[1;31m# draw only unique plots\u001b[0m\u001b[1;33m\u001b[0m\u001b[1;33m\u001b[0m\u001b[1;33m\u001b[0m\u001b[0m\n\u001b[0;32m   3455\u001b[0m         \u001b[1;32mif\u001b[0m \u001b[0mplot\u001b[0m \u001b[1;32mor\u001b[0m \u001b[0mplot_file\u001b[0m \u001b[1;32mis\u001b[0m \u001b[1;32mnot\u001b[0m \u001b[1;32mNone\u001b[0m\u001b[1;33m:\u001b[0m\u001b[1;33m\u001b[0m\u001b[1;33m\u001b[0m\u001b[0m\n\u001b[1;32m-> 3456\u001b[1;33m             fig = _plot_feature_statistics(\n\u001b[0m\u001b[0;32m   3457\u001b[0m                 \u001b[0mstatistics_by_feature\u001b[0m\u001b[1;33m,\u001b[0m\u001b[1;33m\u001b[0m\u001b[1;33m\u001b[0m\u001b[0m\n\u001b[0;32m   3458\u001b[0m                 \u001b[0mpool_names\u001b[0m\u001b[1;33m,\u001b[0m\u001b[1;33m\u001b[0m\u001b[1;33m\u001b[0m\u001b[0m\n",
      "\u001b[1;32m~\\anaconda3\\lib\\site-packages\\catboost\\core.py\u001b[0m in \u001b[0;36m_plot_feature_statistics\u001b[1;34m(statistics_by_feature, pool_names, feature_names, max_cat_features_on_plot)\u001b[0m\n\u001b[0;32m   6339\u001b[0m         \u001b[0mfigs_with_names\u001b[0m \u001b[1;33m+=\u001b[0m \u001b[0m_plot_feature_statistics_units\u001b[0m\u001b[1;33m(\u001b[0m\u001b[0mstatistics\u001b[0m\u001b[1;33m,\u001b[0m \u001b[0mpool_names\u001b[0m\u001b[1;33m,\u001b[0m \u001b[0mfeature_name\u001b[0m\u001b[1;33m,\u001b[0m \u001b[0mmax_cat_features_on_plot\u001b[0m\u001b[1;33m)\u001b[0m\u001b[1;33m\u001b[0m\u001b[1;33m\u001b[0m\u001b[0m\n\u001b[0;32m   6340\u001b[0m \u001b[1;33m\u001b[0m\u001b[0m\n\u001b[1;32m-> 6341\u001b[1;33m     \u001b[0mmain_fig\u001b[0m \u001b[1;33m=\u001b[0m \u001b[0mfigs_with_names\u001b[0m\u001b[1;33m[\u001b[0m\u001b[1;36m0\u001b[0m\u001b[1;33m]\u001b[0m\u001b[1;33m[\u001b[0m\u001b[1;36m0\u001b[0m\u001b[1;33m]\u001b[0m\u001b[1;33m\u001b[0m\u001b[1;33m\u001b[0m\u001b[0m\n\u001b[0m\u001b[0;32m   6342\u001b[0m     \u001b[0mbuttons\u001b[0m \u001b[1;33m=\u001b[0m \u001b[1;33m[\u001b[0m\u001b[1;33m]\u001b[0m\u001b[1;33m\u001b[0m\u001b[1;33m\u001b[0m\u001b[0m\n\u001b[0;32m   6343\u001b[0m     \u001b[1;32mfor\u001b[0m \u001b[0mfig\u001b[0m\u001b[1;33m,\u001b[0m \u001b[0mfeature_name\u001b[0m \u001b[1;32min\u001b[0m \u001b[0mfigs_with_names\u001b[0m\u001b[1;33m:\u001b[0m\u001b[1;33m\u001b[0m\u001b[1;33m\u001b[0m\u001b[0m\n",
      "\u001b[1;31mIndexError\u001b[0m: list index out of range"
     ]
    }
   ],
   "source": [
    "default_model.calc_feature_statistics(X_train, y_train, 'bathrooms_count')"
   ]
  },
  {
   "cell_type": "code",
   "execution_count": null,
   "id": "1fbe584a",
   "metadata": {},
   "outputs": [],
   "source": []
  }
 ],
 "metadata": {
  "kernelspec": {
   "display_name": "Python 3",
   "language": "python",
   "name": "python3"
  },
  "language_info": {
   "codemirror_mode": {
    "name": "ipython",
    "version": 3
   },
   "file_extension": ".py",
   "mimetype": "text/x-python",
   "name": "python",
   "nbconvert_exporter": "python",
   "pygments_lexer": "ipython3",
   "version": "3.8.8"
  }
 },
 "nbformat": 4,
 "nbformat_minor": 5
}
