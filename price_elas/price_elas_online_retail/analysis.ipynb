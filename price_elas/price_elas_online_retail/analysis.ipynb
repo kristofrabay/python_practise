{
 "cells": [
  {
   "cell_type": "code",
   "execution_count": 1,
   "id": "c054f1da",
   "metadata": {},
   "outputs": [],
   "source": [
    "import pandas as pd\n",
    "import numpy as np\n",
    "\n",
    "from datetime import datetime\n",
    "\n",
    "import matplotlib.pyplot as plt\n",
    "import seaborn as sns\n",
    "    \n",
    "import warnings\n",
    "warnings.filterwarnings('ignore')"
   ]
  },
  {
   "cell_type": "code",
   "execution_count": 2,
   "id": "0df8c510",
   "metadata": {},
   "outputs": [
    {
     "data": {
      "text/plain": [
       "['Year 2009-2010', 'Year 2010-2011']"
      ]
     },
     "execution_count": 2,
     "metadata": {},
     "output_type": "execute_result"
    }
   ],
   "source": [
    "# data_link = 'data/online_retail_II.xlsx'\n",
    "# xl = pd.ExcelFile(data_link)\n",
    "# xl.sheet_names"
   ]
  },
  {
   "cell_type": "code",
   "execution_count": 3,
   "id": "028c8e17",
   "metadata": {},
   "outputs": [
    {
     "name": "stdout",
     "output_type": "stream",
     "text": [
      "(1067371, 8)\n"
     ]
    }
   ],
   "source": [
    "# data_A = pd.read_excel(data_link, sheet_name = 'Year 2009-2010')\n",
    "# data_B = pd.read_excel(data_link, sheet_name = 'Year 2010-2011')\n",
    "# data = pd.concat([data_A, data_B])\n",
    "\n",
    "# del data_A\n",
    "# del data_B\n",
    "\n",
    "# print(data.shape)"
   ]
  },
  {
   "cell_type": "code",
   "execution_count": 4,
   "id": "593808e7",
   "metadata": {},
   "outputs": [
    {
     "name": "stdout",
     "output_type": "stream",
     "text": [
      "(1067371, 8)\n",
      "(151562, 5)\n"
     ]
    }
   ],
   "source": [
    "# print(data.shape)\n",
    "\n",
    "# data['InvoiceDate'] = data['InvoiceDate'].apply(lambda x: x.date())\n",
    "\n",
    "# data = data[data['Customer ID'].notnull()]\n",
    "# data['Customer ID'] = data['Customer ID'].astype(int).astype(str)\n",
    "\n",
    "# data = data[data['Country'] == 'United Kingdom'] # it's mostly UK anyway, for homogeneity filtering others out\n",
    "# # data = data[data['Description'].isin(data['Description'].value_counts().head(100).index)] # top 100 most freq items\n",
    "# # data = data[data['Customer ID'].isin(data['Customer ID'].value_counts()[data['Customer ID'].value_counts() > 10].index)] # customers that had at least 10 purchases\n",
    "\n",
    "# # set minimum price point expectation\n",
    "# drop_desc = []\n",
    "# for i in data['Description'].unique():        \n",
    "#     if data[data['Description'] == i]['Price'].nunique() < 5:\n",
    "#         drop_desc.append(i)\n",
    "\n",
    "# data = data[~data['Description'].isin(drop_desc)]\n",
    "# data.drop(['Invoice', 'StockCode', 'Country'], 1, inplace = True)\n",
    "# data.reset_index(drop = True, inplace = True)\n",
    "\n",
    "# print(data.shape)"
   ]
  },
  {
   "cell_type": "code",
   "execution_count": 5,
   "id": "55183ce8",
   "metadata": {},
   "outputs": [],
   "source": [
    "# data.to_csv('data/processed_data.csv', index = False)"
   ]
  },
  {
   "cell_type": "code",
   "execution_count": 6,
   "id": "6e9a955c",
   "metadata": {},
   "outputs": [
    {
     "data": {
      "text/html": [
       "<div>\n",
       "<style scoped>\n",
       "    .dataframe tbody tr th:only-of-type {\n",
       "        vertical-align: middle;\n",
       "    }\n",
       "\n",
       "    .dataframe tbody tr th {\n",
       "        vertical-align: top;\n",
       "    }\n",
       "\n",
       "    .dataframe thead th {\n",
       "        text-align: right;\n",
       "    }\n",
       "</style>\n",
       "<table border=\"1\" class=\"dataframe\">\n",
       "  <thead>\n",
       "    <tr style=\"text-align: right;\">\n",
       "      <th></th>\n",
       "      <th>Description</th>\n",
       "      <th>Quantity</th>\n",
       "      <th>InvoiceDate</th>\n",
       "      <th>Price</th>\n",
       "      <th>Customer ID</th>\n",
       "    </tr>\n",
       "  </thead>\n",
       "  <tbody>\n",
       "    <tr>\n",
       "      <th>0</th>\n",
       "      <td>SAVE THE PLANET MUG</td>\n",
       "      <td>24</td>\n",
       "      <td>2009-12-01</td>\n",
       "      <td>1.25</td>\n",
       "      <td>13085</td>\n",
       "    </tr>\n",
       "    <tr>\n",
       "      <th>1</th>\n",
       "      <td>DOOR MAT BLACK FLOCK</td>\n",
       "      <td>10</td>\n",
       "      <td>2009-12-01</td>\n",
       "      <td>5.95</td>\n",
       "      <td>13078</td>\n",
       "    </tr>\n",
       "    <tr>\n",
       "      <th>2</th>\n",
       "      <td>LOVE BUILDING BLOCK WORD</td>\n",
       "      <td>18</td>\n",
       "      <td>2009-12-01</td>\n",
       "      <td>5.45</td>\n",
       "      <td>13078</td>\n",
       "    </tr>\n",
       "  </tbody>\n",
       "</table>\n",
       "</div>"
      ],
      "text/plain": [
       "                Description  Quantity InvoiceDate  Price  Customer ID\n",
       "0       SAVE THE PLANET MUG        24  2009-12-01   1.25        13085\n",
       "1     DOOR MAT BLACK FLOCK         10  2009-12-01   5.95        13078\n",
       "2  LOVE BUILDING BLOCK WORD        18  2009-12-01   5.45        13078"
      ]
     },
     "execution_count": 6,
     "metadata": {},
     "output_type": "execute_result"
    }
   ],
   "source": [
    "data = pd.read_csv('data/processed_data.csv')\n",
    "data.head(3)"
   ]
  },
  {
   "cell_type": "code",
   "execution_count": 7,
   "id": "5e2a1531",
   "metadata": {},
   "outputs": [
    {
     "data": {
      "text/html": [
       "<div>\n",
       "<style scoped>\n",
       "    .dataframe tbody tr th:only-of-type {\n",
       "        vertical-align: middle;\n",
       "    }\n",
       "\n",
       "    .dataframe tbody tr th {\n",
       "        vertical-align: top;\n",
       "    }\n",
       "\n",
       "    .dataframe thead th {\n",
       "        text-align: right;\n",
       "    }\n",
       "</style>\n",
       "<table border=\"1\" class=\"dataframe\">\n",
       "  <thead>\n",
       "    <tr style=\"text-align: right;\">\n",
       "      <th></th>\n",
       "      <th>count</th>\n",
       "      <th>mean</th>\n",
       "      <th>std</th>\n",
       "      <th>min</th>\n",
       "      <th>1%</th>\n",
       "      <th>10%</th>\n",
       "      <th>25%</th>\n",
       "      <th>50%</th>\n",
       "      <th>75%</th>\n",
       "      <th>90%</th>\n",
       "      <th>99%</th>\n",
       "      <th>max</th>\n",
       "    </tr>\n",
       "  </thead>\n",
       "  <tbody>\n",
       "    <tr>\n",
       "      <th>Quantity</th>\n",
       "      <td>151562.0</td>\n",
       "      <td>12.633589</td>\n",
       "      <td>96.491009</td>\n",
       "      <td>-9360.0</td>\n",
       "      <td>-2.00</td>\n",
       "      <td>1.00</td>\n",
       "      <td>2.00</td>\n",
       "      <td>4.00</td>\n",
       "      <td>12.00</td>\n",
       "      <td>24.00</td>\n",
       "      <td>144.00</td>\n",
       "      <td>12540.0</td>\n",
       "    </tr>\n",
       "    <tr>\n",
       "      <th>Price</th>\n",
       "      <td>151562.0</td>\n",
       "      <td>6.124634</td>\n",
       "      <td>153.827053</td>\n",
       "      <td>0.0</td>\n",
       "      <td>0.29</td>\n",
       "      <td>0.95</td>\n",
       "      <td>1.65</td>\n",
       "      <td>2.55</td>\n",
       "      <td>4.95</td>\n",
       "      <td>7.95</td>\n",
       "      <td>14.95</td>\n",
       "      <td>38970.0</td>\n",
       "    </tr>\n",
       "    <tr>\n",
       "      <th>Customer ID</th>\n",
       "      <td>151562.0</td>\n",
       "      <td>15535.295608</td>\n",
       "      <td>1591.792540</td>\n",
       "      <td>12346.0</td>\n",
       "      <td>12834.00</td>\n",
       "      <td>13313.00</td>\n",
       "      <td>14177.00</td>\n",
       "      <td>15527.00</td>\n",
       "      <td>16923.00</td>\n",
       "      <td>17764.00</td>\n",
       "      <td>18223.00</td>\n",
       "      <td>18287.0</td>\n",
       "    </tr>\n",
       "  </tbody>\n",
       "</table>\n",
       "</div>"
      ],
      "text/plain": [
       "                count          mean          std      min        1%       10%  \\\n",
       "Quantity     151562.0     12.633589    96.491009  -9360.0     -2.00      1.00   \n",
       "Price        151562.0      6.124634   153.827053      0.0      0.29      0.95   \n",
       "Customer ID  151562.0  15535.295608  1591.792540  12346.0  12834.00  13313.00   \n",
       "\n",
       "                  25%       50%       75%       90%       99%      max  \n",
       "Quantity         2.00      4.00     12.00     24.00    144.00  12540.0  \n",
       "Price            1.65      2.55      4.95      7.95     14.95  38970.0  \n",
       "Customer ID  14177.00  15527.00  16923.00  17764.00  18223.00  18287.0  "
      ]
     },
     "execution_count": 7,
     "metadata": {},
     "output_type": "execute_result"
    }
   ],
   "source": [
    "data.describe(exclude = 'O', percentiles = [.01, .1, .25, .5, .75, .9, .99]).T"
   ]
  },
  {
   "cell_type": "code",
   "execution_count": 8,
   "id": "527f2b3e",
   "metadata": {},
   "outputs": [
    {
     "name": "stdout",
     "output_type": "stream",
     "text": [
      "{'Quantity': 144.0, 'Price': 14.95, 'Customer ID': 18223.0}\n",
      "{'Quantity': -2.0, 'Price': 0.29, 'Customer ID': 12834.0}\n",
      "(151562, 5)\n",
      "(141704, 5)\n"
     ]
    }
   ],
   "source": [
    "perc_99 = data.describe(exclude = 'O', percentiles = [.01, .1, .25, .5, .75, .9, .99]).T['99%'].to_dict()\n",
    "perc_01 = data.describe(exclude = 'O', percentiles = [.01, .1, .25, .5, .75, .9, .99]).T['1%'].to_dict()\n",
    "\n",
    "print(perc_99)\n",
    "print(perc_01)\n",
    "print(data.shape)\n",
    "\n",
    "for i in perc_99.keys():    \n",
    "    perc_99_value = perc_99[i]\n",
    "    perc_01_value = perc_01[i]\n",
    "    data = data[data[i] <= perc_99_value]\n",
    "    data = data[data[i] >= perc_01_value]\n",
    "    \n",
    "data = data[data['Quantity'] > 0]\n",
    "print(data.shape)"
   ]
  },
  {
   "cell_type": "code",
   "execution_count": 9,
   "id": "42fc8a88",
   "metadata": {},
   "outputs": [
    {
     "data": {
      "image/png": "[encoded data removed]",
      "text/plain": [
       "<Figure size 504x288 with 1 Axes>"
      ]
     },
     "metadata": {
      "needs_background": "light"
     },
     "output_type": "display_data"
    }
   ],
   "source": [
    "plt.figure(figsize = (7, 4))\n",
    "sns.distplot(data['Quantity'], kde = False)\n",
    "\n",
    "plt.title('Quantity distribution')\n",
    "plt.xlabel('Quantity')\n",
    "plt.ylabel(None)\n",
    "plt.show()"
   ]
  },
  {
   "cell_type": "code",
   "execution_count": 10,
   "id": "6d549228",
   "metadata": {},
   "outputs": [
    {
     "data": {
      "image/png": "[encoded data removed]",
      "text/plain": [
       "<Figure size 504x288 with 1 Axes>"
      ]
     },
     "metadata": {
      "needs_background": "light"
     },
     "output_type": "display_data"
    }
   ],
   "source": [
    "plt.figure(figsize = (7, 4))\n",
    "sns.distplot(data['Price'], kde = False)\n",
    "\n",
    "plt.title('Price distribution')\n",
    "plt.xlabel('Price')\n",
    "plt.ylabel(None)\n",
    "plt.show()"
   ]
  },
  {
   "cell_type": "markdown",
   "id": "7e9530ec",
   "metadata": {},
   "source": [
    "### Plot a couple of Quantity ~ Price relationships by products"
   ]
  },
  {
   "cell_type": "code",
   "execution_count": 11,
   "id": "22b1c75a",
   "metadata": {},
   "outputs": [
    {
     "data": {
      "text/plain": [
       "311"
      ]
     },
     "execution_count": 11,
     "metadata": {},
     "output_type": "execute_result"
    }
   ],
   "source": [
    "data['Description'].nunique()"
   ]
  },
  {
   "cell_type": "code",
   "execution_count": 12,
   "id": "5578ccbc",
   "metadata": {
    "scrolled": false
   },
   "outputs": [
    {
     "data": {
      "image/png": "[encoded data removed]",
      "text/plain": [
       "<Figure size 504x288 with 1 Axes>"
      ]
     },
     "metadata": {
      "needs_background": "light"
     },
     "output_type": "display_data"
    },
    {
     "data": {
      "image/png": "[encoded data removed]",
      "text/plain": [
       "<Figure size 504x288 with 1 Axes>"
      ]
     },
     "metadata": {
      "needs_background": "light"
     },
     "output_type": "display_data"
    },
    {
     "data": {
      "image/png": "[encoded data removed]",
      "text/plain": [
       "<Figure size 504x288 with 1 Axes>"
      ]
     },
     "metadata": {
      "needs_background": "light"
     },
     "output_type": "display_data"
    }
   ],
   "source": [
    "for i in data['Description'].unique()[:3]:\n",
    "    \n",
    "    data_ = data[data['Description'] == i]\n",
    "        \n",
    "    plt.figure(figsize = (7, 4))\n",
    "    sns.scatterplot(data = data_, \n",
    "                    y = 'Quantity', x = 'Price', s = 20)\n",
    "    plt.title('Quantity ~ Price relationship for ' + i)\n",
    "    plt.xlabel('Price')\n",
    "    plt.ylabel('Quantity')\n",
    "    plt.show()"
   ]
  },
  {
   "cell_type": "markdown",
   "id": "6ff278ca",
   "metadata": {},
   "source": [
    "### Apply linear regressions to calculate price elasticities per product"
   ]
  },
  {
   "cell_type": "code",
   "execution_count": 13,
   "id": "3e9e3d39",
   "metadata": {},
   "outputs": [],
   "source": [
    "import statsmodels.api as sm\n",
    "from statsmodels.formula.api import ols"
   ]
  },
  {
   "cell_type": "code",
   "execution_count": 14,
   "id": "ffd326b2",
   "metadata": {},
   "outputs": [],
   "source": [
    "data['log_price'] = np.log(data['Price'])\n",
    "data['log_quantity'] = np.log(data['Quantity'])"
   ]
  },
  {
   "cell_type": "code",
   "execution_count": 15,
   "id": "06131556",
   "metadata": {},
   "outputs": [],
   "source": [
    "ols_params = []\n",
    "\n",
    "for i in data['Description'].unique():    \n",
    "    \n",
    "    data_ = data[data['Description'] == i]\n",
    "    ols_dict = {}\n",
    "\n",
    "    elasticity_model = ols('log_quantity ~ log_price', data = data_).fit()\n",
    "\n",
    "    ols_dict['product'] = i\n",
    "    ols_dict['intercept'] = float(format(elasticity_model.params['Intercept'], '.3f'))\n",
    "    ols_dict['price_elasticity'] = float(format(elasticity_model.params['log_price'], '.3f'))\n",
    "    ols_dict['p_value'] = float(format(elasticity_model.pvalues['log_price'], '.6f'))\n",
    "    ols_dict['r2_adj'] = float(format(elasticity_model.rsquared_adj, '.3f'))\n",
    "    ols_dict['datapoints'] = data_.shape[0]\n",
    "    \n",
    "    ols_params.append(ols_dict)"
   ]
  },
  {
   "cell_type": "code",
   "execution_count": 16,
   "id": "2d6d132d",
   "metadata": {},
   "outputs": [
    {
     "data": {
      "text/html": [
       "<div>\n",
       "<style scoped>\n",
       "    .dataframe tbody tr th:only-of-type {\n",
       "        vertical-align: middle;\n",
       "    }\n",
       "\n",
       "    .dataframe tbody tr th {\n",
       "        vertical-align: top;\n",
       "    }\n",
       "\n",
       "    .dataframe thead th {\n",
       "        text-align: right;\n",
       "    }\n",
       "</style>\n",
       "<table border=\"1\" class=\"dataframe\">\n",
       "  <thead>\n",
       "    <tr style=\"text-align: right;\">\n",
       "      <th></th>\n",
       "      <th>product</th>\n",
       "      <th>intercept</th>\n",
       "      <th>price_elasticity</th>\n",
       "      <th>p_value</th>\n",
       "      <th>r2_adj</th>\n",
       "      <th>datapoints</th>\n",
       "    </tr>\n",
       "  </thead>\n",
       "  <tbody>\n",
       "    <tr>\n",
       "      <th>0</th>\n",
       "      <td>SAVE THE PLANET MUG</td>\n",
       "      <td>2.276</td>\n",
       "      <td>-1.768</td>\n",
       "      <td>0.000000</td>\n",
       "      <td>0.052</td>\n",
       "      <td>575</td>\n",
       "    </tr>\n",
       "    <tr>\n",
       "      <th>1</th>\n",
       "      <td>DOOR MAT BLACK FLOCK</td>\n",
       "      <td>14.244</td>\n",
       "      <td>-6.914</td>\n",
       "      <td>0.000000</td>\n",
       "      <td>0.509</td>\n",
       "      <td>159</td>\n",
       "    </tr>\n",
       "    <tr>\n",
       "      <th>2</th>\n",
       "      <td>LOVE BUILDING BLOCK WORD</td>\n",
       "      <td>15.067</td>\n",
       "      <td>-7.912</td>\n",
       "      <td>0.000000</td>\n",
       "      <td>0.097</td>\n",
       "      <td>1511</td>\n",
       "    </tr>\n",
       "    <tr>\n",
       "      <th>3</th>\n",
       "      <td>PIZZA PLATE IN BOX</td>\n",
       "      <td>1.772</td>\n",
       "      <td>-0.606</td>\n",
       "      <td>0.038048</td>\n",
       "      <td>0.018</td>\n",
       "      <td>184</td>\n",
       "    </tr>\n",
       "    <tr>\n",
       "      <th>4</th>\n",
       "      <td>BATH BUILDING BLOCK WORD</td>\n",
       "      <td>4.888</td>\n",
       "      <td>-2.278</td>\n",
       "      <td>0.003933</td>\n",
       "      <td>0.014</td>\n",
       "      <td>516</td>\n",
       "    </tr>\n",
       "  </tbody>\n",
       "</table>\n",
       "</div>"
      ],
      "text/plain": [
       "                    product  intercept  price_elasticity   p_value  r2_adj  \\\n",
       "0       SAVE THE PLANET MUG      2.276            -1.768  0.000000   0.052   \n",
       "1     DOOR MAT BLACK FLOCK      14.244            -6.914  0.000000   0.509   \n",
       "2  LOVE BUILDING BLOCK WORD     15.067            -7.912  0.000000   0.097   \n",
       "3        PIZZA PLATE IN BOX      1.772            -0.606  0.038048   0.018   \n",
       "4  BATH BUILDING BLOCK WORD      4.888            -2.278  0.003933   0.014   \n",
       "\n",
       "   datapoints  \n",
       "0         575  \n",
       "1         159  \n",
       "2        1511  \n",
       "3         184  \n",
       "4         516  "
      ]
     },
     "execution_count": 16,
     "metadata": {},
     "output_type": "execute_result"
    }
   ],
   "source": [
    "ols_results = pd.DataFrame(ols_params)\n",
    "\n",
    "ols_results = ols_results[ols_results['datapoints'] >= 100] # at least 100 datapoints for fitting\n",
    "ols_results = ols_results[ols_results['p_value'] <= 0.05] # significance at least 5%\n",
    "ols_results = ols_results[ols_results['r2_adj'] >= 0.01] # adj r2 at least 1% (get rid of lower extremes)\n",
    "\n",
    "ols_results.head()"
   ]
  },
  {
   "cell_type": "code",
   "execution_count": 17,
   "id": "188c32ae",
   "metadata": {},
   "outputs": [
    {
     "data": {
      "image/png": "[encoded data removed]",
      "text/plain": [
       "<Figure size 504x288 with 1 Axes>"
      ]
     },
     "metadata": {
      "needs_background": "light"
     },
     "output_type": "display_data"
    },
    {
     "data": {
      "image/png": "[encoded data removed]",
      "text/plain": [
       "<Figure size 504x288 with 1 Axes>"
      ]
     },
     "metadata": {
      "needs_background": "light"
     },
     "output_type": "display_data"
    },
    {
     "data": {
      "image/png": "[encoded data removed]",
      "text/plain": [
       "<Figure size 504x288 with 1 Axes>"
      ]
     },
     "metadata": {
      "needs_background": "light"
     },
     "output_type": "display_data"
    },
    {
     "data": {
      "image/png": "[encoded data removed]",
      "text/plain": [
       "<Figure size 504x288 with 1 Axes>"
      ]
     },
     "metadata": {
      "needs_background": "light"
     },
     "output_type": "display_data"
    },
    {
     "data": {
      "image/png": "[encoded data removed]",
      "text/plain": [
       "<Figure size 504x288 with 1 Axes>"
      ]
     },
     "metadata": {
      "needs_background": "light"
     },
     "output_type": "display_data"
    }
   ],
   "source": [
    "for i in ols_results.select_dtypes(exclude = 'O').columns:\n",
    "    \n",
    "    plt.figure(figsize = (7, 4))\n",
    "    sns.distplot(ols_results[i], kde = False, bins = 25, \n",
    "                 hist_kws = {'edgecolor' : 'black', 'linewidth' : 1})\n",
    "\n",
    "    plt.title('Distribution of ' + i)\n",
    "    plt.xlabel(i)\n",
    "    plt.ylabel(None)\n",
    "    plt.show()"
   ]
  },
  {
   "cell_type": "code",
   "execution_count": null,
   "id": "9720d9bb",
   "metadata": {},
   "outputs": [],
   "source": []
  }
 ],
 "metadata": {
  "kernelspec": {
   "display_name": "Python 3",
   "language": "python",
   "name": "python3"
  },
  "language_info": {
   "codemirror_mode": {
    "name": "ipython",
    "version": 3
   },
   "file_extension": ".py",
   "mimetype": "text/x-python",
   "name": "python",
   "nbconvert_exporter": "python",
   "pygments_lexer": "ipython3",
   "version": "3.8.8"
  }
 },
 "nbformat": 4,
 "nbformat_minor": 5
}
