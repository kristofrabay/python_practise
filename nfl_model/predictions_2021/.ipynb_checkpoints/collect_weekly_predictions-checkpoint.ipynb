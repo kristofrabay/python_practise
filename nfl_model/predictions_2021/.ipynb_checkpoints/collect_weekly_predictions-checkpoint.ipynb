{
 "cells": [
  {
   "cell_type": "code",
   "execution_count": 52,
   "id": "c82e6de2",
   "metadata": {},
   "outputs": [],
   "source": [
    "import pandas as pd\n",
    "import numpy as np\n",
    "import os\n",
    "\n",
    "import re\n",
    "\n",
    "from functools import reduce\n",
    "\n",
    "import plotly.express as px\n",
    "\n",
    "import warnings\n",
    "warnings.filterwarnings('ignore')"
   ]
  },
  {
   "cell_type": "code",
   "execution_count": 44,
   "id": "09dbd108",
   "metadata": {},
   "outputs": [
    {
     "name": "stdout",
     "output_type": "stream",
     "text": [
      "['week_1.csv', 'week_2.csv']\n"
     ]
    }
   ],
   "source": [
    "weekly_data_tables = os.listdir('weekly_runs/')\n",
    "print(weekly_data_tables)"
   ]
  },
  {
   "cell_type": "code",
   "execution_count": 6,
   "id": "07e0656f",
   "metadata": {},
   "outputs": [],
   "source": [
    "collection = []\n",
    "\n",
    "for weekly_data in weekly_data_tables:\n",
    "    collection.append(pd.read_csv('weekly_runs/' + weekly_data))"
   ]
  },
  {
   "cell_type": "code",
   "execution_count": 70,
   "id": "014530d8",
   "metadata": {},
   "outputs": [],
   "source": [
    "pred_types = ['pred_rf', 'pred_gbm', 'pred_lgb', 'pred_catboost', 'pred_mean']\n",
    "pred_types_collected = {}\n",
    "\n",
    "for pred_type in pred_types:\n",
    "    \n",
    "    keep_cols = ['Team', 'season', 'week_marker', pred_type]    \n",
    "    pred_types_data = []\n",
    "    \n",
    "    for i in collection:\n",
    "        data_for_pred_type = i[keep_cols].copy()\n",
    "        \n",
    "        week_marker = data_for_pred_type['week_marker'].unique().item()\n",
    "        data_for_pred_type.rename(columns = {pred_type : pred_type + '_' + week_marker}, inplace = True)\n",
    "        data_for_pred_type.drop(['week_marker', 'season'], 1, inplace = True)\n",
    "        \n",
    "        pred_types_data.append(data_for_pred_type)\n",
    "        \n",
    "    pred_types_data = reduce(lambda  a,b: pd.merge(a,b, on = ['Team'], how='outer'), pred_types_data)\n",
    "    pred_types_data.sort_values(pred_types_data.columns[-1], ascending = False, inplace = True)\n",
    "    \n",
    "    columns = [re.sub('[^0-9]', '', i) if i != 'Team' else i for i in pred_types_data.columns]\n",
    "    pred_types_data.columns = columns\n",
    "        \n",
    "    pred_types_collected[pred_type] = pred_types_data  "
   ]
  },
  {
   "cell_type": "code",
   "execution_count": 71,
   "id": "1f9747b1",
   "metadata": {},
   "outputs": [],
   "source": [
    "# pred_types_collected['pred_rf']\n",
    "# pred_types_collected['pred_gbm']\n",
    "# pred_types_collected['pred_lgb']\n",
    "# pred_types_collected['pred_catboost']\n",
    "# pred_types_collected['pred_mean']"
   ]
  },
  {
   "cell_type": "code",
   "execution_count": 72,
   "id": "4d0b8803",
   "metadata": {},
   "outputs": [
    {
     "data": {
      "text/html": [
       "<div>\n",
       "<style scoped>\n",
       "    .dataframe tbody tr th:only-of-type {\n",
       "        vertical-align: middle;\n",
       "    }\n",
       "\n",
       "    .dataframe tbody tr th {\n",
       "        vertical-align: top;\n",
       "    }\n",
       "\n",
       "    .dataframe thead th {\n",
       "        text-align: right;\n",
       "    }\n",
       "</style>\n",
       "<table border=\"1\" class=\"dataframe\">\n",
       "  <thead>\n",
       "    <tr style=\"text-align: right;\">\n",
       "      <th></th>\n",
       "      <th>Team</th>\n",
       "      <th>1</th>\n",
       "      <th>2</th>\n",
       "    </tr>\n",
       "  </thead>\n",
       "  <tbody>\n",
       "    <tr>\n",
       "      <th>1</th>\n",
       "      <td>Los Angeles Rams</td>\n",
       "      <td>0.486665</td>\n",
       "      <td>0.434764</td>\n",
       "    </tr>\n",
       "    <tr>\n",
       "      <th>5</th>\n",
       "      <td>Tampa Bay Buccaneers</td>\n",
       "      <td>0.295510</td>\n",
       "      <td>0.351935</td>\n",
       "    </tr>\n",
       "    <tr>\n",
       "      <th>0</th>\n",
       "      <td>Arizona Cardinals</td>\n",
       "      <td>0.512468</td>\n",
       "      <td>0.319694</td>\n",
       "    </tr>\n",
       "    <tr>\n",
       "      <th>8</th>\n",
       "      <td>Kansas City Chiefs</td>\n",
       "      <td>0.246009</td>\n",
       "      <td>0.309595</td>\n",
       "    </tr>\n",
       "    <tr>\n",
       "      <th>20</th>\n",
       "      <td>Buffalo Bills</td>\n",
       "      <td>0.108006</td>\n",
       "      <td>0.278697</td>\n",
       "    </tr>\n",
       "  </tbody>\n",
       "</table>\n",
       "</div>"
      ],
      "text/plain": [
       "                    Team         1         2\n",
       "1       Los Angeles Rams  0.486665  0.434764\n",
       "5   Tampa Bay Buccaneers  0.295510  0.351935\n",
       "0      Arizona Cardinals  0.512468  0.319694\n",
       "8     Kansas City Chiefs  0.246009  0.309595\n",
       "20         Buffalo Bills  0.108006  0.278697"
      ]
     },
     "execution_count": 72,
     "metadata": {},
     "output_type": "execute_result"
    }
   ],
   "source": [
    "select_pred_type = 'pred_mean'\n",
    "\n",
    "pred_types_collected[select_pred_type].head()"
   ]
  },
  {
   "cell_type": "code",
   "execution_count": 84,
   "id": "9bccf0e9",
   "metadata": {},
   "outputs": [],
   "source": [
    "data_for_plotting = pred_types_collected[select_pred_type].head(14).melt(id_vars = 'Team', var_name = 'week', value_name = 'predicted_probability')"
   ]
  },
  {
   "cell_type": "code",
   "execution_count": 87,
   "id": "55400a72",
   "metadata": {},
   "outputs": [
    {
     "data": {
      "application/vnd.plotly.v1+json": {
       "config": {
        "plotlyServerURL": "https://plot.ly"
       },
       "data": [
        {
         "hovertemplate": "Team=Los Angeles Rams<br>Regular season week=%{x}<br>Predicted probability (making SB)=%{y}<extra></extra>",
         "legendgroup": "Los Angeles Rams",
         "line": {
          "color": "#636efa",
          "dash": "solid"
         },
         "mode": "markers+lines",
         "name": "Los Angeles Rams",
         "orientation": "v",
         "showlegend": true,
         "type": "scatter",
         "x": [
          "1",
          "2"
         ],
         "xaxis": "x",
         "y": [
          0.4866653958216968,
          0.4347636974895039
         ],
         "yaxis": "y"
        },
        {
         "hovertemplate": "Team=Tampa Bay Buccaneers<br>Regular season week=%{x}<br>Predicted probability (making SB)=%{y}<extra></extra>",
         "legendgroup": "Tampa Bay Buccaneers",
         "line": {
          "color": "#EF553B",
          "dash": "solid"
         },
         "mode": "markers+lines",
         "name": "Tampa Bay Buccaneers",
         "orientation": "v",
         "showlegend": true,
         "type": "scatter",
         "x": [
          "1",
          "2"
         ],
         "xaxis": "x",
         "y": [
          0.2955103738735199,
          0.3519351379311574
         ],
         "yaxis": "y"
        },
        {
         "hovertemplate": "Team=Arizona Cardinals<br>Regular season week=%{x}<br>Predicted probability (making SB)=%{y}<extra></extra>",
         "legendgroup": "Arizona Cardinals",
         "line": {
          "color": "#00cc96",
          "dash": "solid"
         },
         "mode": "markers+lines",
         "name": "Arizona Cardinals",
         "orientation": "v",
         "showlegend": true,
         "type": "scatter",
         "x": [
          "1",
          "2"
         ],
         "xaxis": "x",
         "y": [
          0.5124678299229849,
          0.3196937593918827
         ],
         "yaxis": "y"
        },
        {
         "hovertemplate": "Team=Kansas City Chiefs<br>Regular season week=%{x}<br>Predicted probability (making SB)=%{y}<extra></extra>",
         "legendgroup": "Kansas City Chiefs",
         "line": {
          "color": "#ab63fa",
          "dash": "solid"
         },
         "mode": "markers+lines",
         "name": "Kansas City Chiefs",
         "orientation": "v",
         "showlegend": true,
         "type": "scatter",
         "x": [
          "1",
          "2"
         ],
         "xaxis": "x",
         "y": [
          0.2460089974053893,
          0.3095954170644658
         ],
         "yaxis": "y"
        },
        {
         "hovertemplate": "Team=Buffalo Bills<br>Regular season week=%{x}<br>Predicted probability (making SB)=%{y}<extra></extra>",
         "legendgroup": "Buffalo Bills",
         "line": {
          "color": "#FFA15A",
          "dash": "solid"
         },
         "mode": "markers+lines",
         "name": "Buffalo Bills",
         "orientation": "v",
         "showlegend": true,
         "type": "scatter",
         "x": [
          "1",
          "2"
         ],
         "xaxis": "x",
         "y": [
          0.1080063418304857,
          0.2786974970198562
         ],
         "yaxis": "y"
        },
        {
         "hovertemplate": "Team=Carolina Panthers<br>Regular season week=%{x}<br>Predicted probability (making SB)=%{y}<extra></extra>",
         "legendgroup": "Carolina Panthers",
         "line": {
          "color": "#19d3f3",
          "dash": "solid"
         },
         "mode": "markers+lines",
         "name": "Carolina Panthers",
         "orientation": "v",
         "showlegend": true,
         "type": "scatter",
         "x": [
          "1",
          "2"
         ],
         "xaxis": "x",
         "y": [
          0.2035605983219869,
          0.2608273284830521
         ],
         "yaxis": "y"
        },
        {
         "hovertemplate": "Team=Seattle Seahawks<br>Regular season week=%{x}<br>Predicted probability (making SB)=%{y}<extra></extra>",
         "legendgroup": "Seattle Seahawks",
         "line": {
          "color": "#FF6692",
          "dash": "solid"
         },
         "mode": "markers+lines",
         "name": "Seattle Seahawks",
         "orientation": "v",
         "showlegend": true,
         "type": "scatter",
         "x": [
          "1",
          "2"
         ],
         "xaxis": "x",
         "y": [
          0.3846903876329498,
          0.251735207360421
         ],
         "yaxis": "y"
        },
        {
         "hovertemplate": "Team=Philadelphia Eagles<br>Regular season week=%{x}<br>Predicted probability (making SB)=%{y}<extra></extra>",
         "legendgroup": "Philadelphia Eagles",
         "line": {
          "color": "#B6E880",
          "dash": "solid"
         },
         "mode": "markers+lines",
         "name": "Philadelphia Eagles",
         "orientation": "v",
         "showlegend": true,
         "type": "scatter",
         "x": [
          "1",
          "2"
         ],
         "xaxis": "x",
         "y": [
          0.3174722697258678,
          0.2431040142517685
         ],
         "yaxis": "y"
        },
        {
         "hovertemplate": "Team=Denver Broncos<br>Regular season week=%{x}<br>Predicted probability (making SB)=%{y}<extra></extra>",
         "legendgroup": "Denver Broncos",
         "line": {
          "color": "#FF97FF",
          "dash": "solid"
         },
         "mode": "markers+lines",
         "name": "Denver Broncos",
         "orientation": "v",
         "showlegend": true,
         "type": "scatter",
         "x": [
          "1",
          "2"
         ],
         "xaxis": "x",
         "y": [
          0.1427677684031348,
          0.2351510412652085
         ],
         "yaxis": "y"
        },
        {
         "hovertemplate": "Team=Las Vegas Raiders<br>Regular season week=%{x}<br>Predicted probability (making SB)=%{y}<extra></extra>",
         "legendgroup": "Las Vegas Raiders",
         "line": {
          "color": "#FECB52",
          "dash": "solid"
         },
         "mode": "markers+lines",
         "name": "Las Vegas Raiders",
         "orientation": "v",
         "showlegend": true,
         "type": "scatter",
         "x": [
          "1",
          "2"
         ],
         "xaxis": "x",
         "y": [
          0.1931403810367778,
          0.2136847697130649
         ],
         "yaxis": "y"
        },
        {
         "hovertemplate": "Team=San Francisco 49ers<br>Regular season week=%{x}<br>Predicted probability (making SB)=%{y}<extra></extra>",
         "legendgroup": "San Francisco 49ers",
         "line": {
          "color": "#636efa",
          "dash": "solid"
         },
         "mode": "markers+lines",
         "name": "San Francisco 49ers",
         "orientation": "v",
         "showlegend": true,
         "type": "scatter",
         "x": [
          "1",
          "2"
         ],
         "xaxis": "x",
         "y": [
          0.4527009173100125,
          0.1954069681805358
         ],
         "yaxis": "y"
        },
        {
         "hovertemplate": "Team=Minnesota Vikings<br>Regular season week=%{x}<br>Predicted probability (making SB)=%{y}<extra></extra>",
         "legendgroup": "Minnesota Vikings",
         "line": {
          "color": "#EF553B",
          "dash": "solid"
         },
         "mode": "markers+lines",
         "name": "Minnesota Vikings",
         "orientation": "v",
         "showlegend": true,
         "type": "scatter",
         "x": [
          "1",
          "2"
         ],
         "xaxis": "x",
         "y": [
          0.1280042627389543,
          0.1888346420981483
         ],
         "yaxis": "y"
        },
        {
         "hovertemplate": "Team=Cincinnati Bengals<br>Regular season week=%{x}<br>Predicted probability (making SB)=%{y}<extra></extra>",
         "legendgroup": "Cincinnati Bengals",
         "line": {
          "color": "#00cc96",
          "dash": "solid"
         },
         "mode": "markers+lines",
         "name": "Cincinnati Bengals",
         "orientation": "v",
         "showlegend": true,
         "type": "scatter",
         "x": [
          "1",
          "2"
         ],
         "xaxis": "x",
         "y": [
          0.2800416219684842,
          0.1872396034690628
         ],
         "yaxis": "y"
        },
        {
         "hovertemplate": "Team=Cleveland Browns<br>Regular season week=%{x}<br>Predicted probability (making SB)=%{y}<extra></extra>",
         "legendgroup": "Cleveland Browns",
         "line": {
          "color": "#ab63fa",
          "dash": "solid"
         },
         "mode": "markers+lines",
         "name": "Cleveland Browns",
         "orientation": "v",
         "showlegend": true,
         "type": "scatter",
         "x": [
          "1",
          "2"
         ],
         "xaxis": "x",
         "y": [
          0.1892054744128727,
          0.1638623379145764
         ],
         "yaxis": "y"
        }
       ],
       "layout": {
        "height": 475,
        "legend": {
         "title": {
          "text": "Team"
         },
         "tracegroupgap": 0
        },
        "template": {
         "data": {
          "bar": [
           {
            "error_x": {
             "color": "#2a3f5f"
            },
            "error_y": {
             "color": "#2a3f5f"
            },
            "marker": {
             "line": {
              "color": "#E5ECF6",
              "width": 0.5
             },
             "pattern": {
              "fillmode": "overlay",
              "size": 10,
              "solidity": 0.2
             }
            },
            "type": "bar"
           }
          ],
          "barpolar": [
           {
            "marker": {
             "line": {
              "color": "#E5ECF6",
              "width": 0.5
             },
             "pattern": {
              "fillmode": "overlay",
              "size": 10,
              "solidity": 0.2
             }
            },
            "type": "barpolar"
           }
          ],
          "carpet": [
           {
            "aaxis": {
             "endlinecolor": "#2a3f5f",
             "gridcolor": "white",
             "linecolor": "white",
             "minorgridcolor": "white",
             "startlinecolor": "#2a3f5f"
            },
            "baxis": {
             "endlinecolor": "#2a3f5f",
             "gridcolor": "white",
             "linecolor": "white",
             "minorgridcolor": "white",
             "startlinecolor": "#2a3f5f"
            },
            "type": "carpet"
           }
          ],
          "choropleth": [
           {
            "colorbar": {
             "outlinewidth": 0,
             "ticks": ""
            },
            "type": "choropleth"
           }
          ],
          "contour": [
           {
            "colorbar": {
             "outlinewidth": 0,
             "ticks": ""
            },
            "colorscale": [
             [
              0,
              "#0d0887"
             ],
             [
              0.1111111111111111,
              "#46039f"
             ],
             [
              0.2222222222222222,
              "#7201a8"
             ],
             [
              0.3333333333333333,
              "#9c179e"
             ],
             [
              0.4444444444444444,
              "#bd3786"
             ],
             [
              0.5555555555555556,
              "#d8576b"
             ],
             [
              0.6666666666666666,
              "#ed7953"
             ],
             [
              0.7777777777777778,
              "#fb9f3a"
             ],
             [
              0.8888888888888888,
              "#fdca26"
             ],
             [
              1,
              "#f0f921"
             ]
            ],
            "type": "contour"
           }
          ],
          "contourcarpet": [
           {
            "colorbar": {
             "outlinewidth": 0,
             "ticks": ""
            },
            "type": "contourcarpet"
           }
          ],
          "heatmap": [
           {
            "colorbar": {
             "outlinewidth": 0,
             "ticks": ""
            },
            "colorscale": [
             [
              0,
              "#0d0887"
             ],
             [
              0.1111111111111111,
              "#46039f"
             ],
             [
              0.2222222222222222,
              "#7201a8"
             ],
             [
              0.3333333333333333,
              "#9c179e"
             ],
             [
              0.4444444444444444,
              "#bd3786"
             ],
             [
              0.5555555555555556,
              "#d8576b"
             ],
             [
              0.6666666666666666,
              "#ed7953"
             ],
             [
              0.7777777777777778,
              "#fb9f3a"
             ],
             [
              0.8888888888888888,
              "#fdca26"
             ],
             [
              1,
              "#f0f921"
             ]
            ],
            "type": "heatmap"
           }
          ],
          "heatmapgl": [
           {
            "colorbar": {
             "outlinewidth": 0,
             "ticks": ""
            },
            "colorscale": [
             [
              0,
              "#0d0887"
             ],
             [
              0.1111111111111111,
              "#46039f"
             ],
             [
              0.2222222222222222,
              "#7201a8"
             ],
             [
              0.3333333333333333,
              "#9c179e"
             ],
             [
              0.4444444444444444,
              "#bd3786"
             ],
             [
              0.5555555555555556,
              "#d8576b"
             ],
             [
              0.6666666666666666,
              "#ed7953"
             ],
             [
              0.7777777777777778,
              "#fb9f3a"
             ],
             [
              0.8888888888888888,
              "#fdca26"
             ],
             [
              1,
              "#f0f921"
             ]
            ],
            "type": "heatmapgl"
           }
          ],
          "histogram": [
           {
            "marker": {
             "pattern": {
              "fillmode": "overlay",
              "size": 10,
              "solidity": 0.2
             }
            },
            "type": "histogram"
           }
          ],
          "histogram2d": [
           {
            "colorbar": {
             "outlinewidth": 0,
             "ticks": ""
            },
            "colorscale": [
             [
              0,
              "#0d0887"
             ],
             [
              0.1111111111111111,
              "#46039f"
             ],
             [
              0.2222222222222222,
              "#7201a8"
             ],
             [
              0.3333333333333333,
              "#9c179e"
             ],
             [
              0.4444444444444444,
              "#bd3786"
             ],
             [
              0.5555555555555556,
              "#d8576b"
             ],
             [
              0.6666666666666666,
              "#ed7953"
             ],
             [
              0.7777777777777778,
              "#fb9f3a"
             ],
             [
              0.8888888888888888,
              "#fdca26"
             ],
             [
              1,
              "#f0f921"
             ]
            ],
            "type": "histogram2d"
           }
          ],
          "histogram2dcontour": [
           {
            "colorbar": {
             "outlinewidth": 0,
             "ticks": ""
            },
            "colorscale": [
             [
              0,
              "#0d0887"
             ],
             [
              0.1111111111111111,
              "#46039f"
             ],
             [
              0.2222222222222222,
              "#7201a8"
             ],
             [
              0.3333333333333333,
              "#9c179e"
             ],
             [
              0.4444444444444444,
              "#bd3786"
             ],
             [
              0.5555555555555556,
              "#d8576b"
             ],
             [
              0.6666666666666666,
              "#ed7953"
             ],
             [
              0.7777777777777778,
              "#fb9f3a"
             ],
             [
              0.8888888888888888,
              "#fdca26"
             ],
             [
              1,
              "#f0f921"
             ]
            ],
            "type": "histogram2dcontour"
           }
          ],
          "mesh3d": [
           {
            "colorbar": {
             "outlinewidth": 0,
             "ticks": ""
            },
            "type": "mesh3d"
           }
          ],
          "parcoords": [
           {
            "line": {
             "colorbar": {
              "outlinewidth": 0,
              "ticks": ""
             }
            },
            "type": "parcoords"
           }
          ],
          "pie": [
           {
            "automargin": true,
            "type": "pie"
           }
          ],
          "scatter": [
           {
            "marker": {
             "colorbar": {
              "outlinewidth": 0,
              "ticks": ""
             }
            },
            "type": "scatter"
           }
          ],
          "scatter3d": [
           {
            "line": {
             "colorbar": {
              "outlinewidth": 0,
              "ticks": ""
             }
            },
            "marker": {
             "colorbar": {
              "outlinewidth": 0,
              "ticks": ""
             }
            },
            "type": "scatter3d"
           }
          ],
          "scattercarpet": [
           {
            "marker": {
             "colorbar": {
              "outlinewidth": 0,
              "ticks": ""
             }
            },
            "type": "scattercarpet"
           }
          ],
          "scattergeo": [
           {
            "marker": {
             "colorbar": {
              "outlinewidth": 0,
              "ticks": ""
             }
            },
            "type": "scattergeo"
           }
          ],
          "scattergl": [
           {
            "marker": {
             "colorbar": {
              "outlinewidth": 0,
              "ticks": ""
             }
            },
            "type": "scattergl"
           }
          ],
          "scattermapbox": [
           {
            "marker": {
             "colorbar": {
              "outlinewidth": 0,
              "ticks": ""
             }
            },
            "type": "scattermapbox"
           }
          ],
          "scatterpolar": [
           {
            "marker": {
             "colorbar": {
              "outlinewidth": 0,
              "ticks": ""
             }
            },
            "type": "scatterpolar"
           }
          ],
          "scatterpolargl": [
           {
            "marker": {
             "colorbar": {
              "outlinewidth": 0,
              "ticks": ""
             }
            },
            "type": "scatterpolargl"
           }
          ],
          "scatterternary": [
           {
            "marker": {
             "colorbar": {
              "outlinewidth": 0,
              "ticks": ""
             }
            },
            "type": "scatterternary"
           }
          ],
          "surface": [
           {
            "colorbar": {
             "outlinewidth": 0,
             "ticks": ""
            },
            "colorscale": [
             [
              0,
              "#0d0887"
             ],
             [
              0.1111111111111111,
              "#46039f"
             ],
             [
              0.2222222222222222,
              "#7201a8"
             ],
             [
              0.3333333333333333,
              "#9c179e"
             ],
             [
              0.4444444444444444,
              "#bd3786"
             ],
             [
              0.5555555555555556,
              "#d8576b"
             ],
             [
              0.6666666666666666,
              "#ed7953"
             ],
             [
              0.7777777777777778,
              "#fb9f3a"
             ],
             [
              0.8888888888888888,
              "#fdca26"
             ],
             [
              1,
              "#f0f921"
             ]
            ],
            "type": "surface"
           }
          ],
          "table": [
           {
            "cells": {
             "fill": {
              "color": "#EBF0F8"
             },
             "line": {
              "color": "white"
             }
            },
            "header": {
             "fill": {
              "color": "#C8D4E3"
             },
             "line": {
              "color": "white"
             }
            },
            "type": "table"
           }
          ]
         },
         "layout": {
          "annotationdefaults": {
           "arrowcolor": "#2a3f5f",
           "arrowhead": 0,
           "arrowwidth": 1
          },
          "autotypenumbers": "strict",
          "coloraxis": {
           "colorbar": {
            "outlinewidth": 0,
            "ticks": ""
           }
          },
          "colorscale": {
           "diverging": [
            [
             0,
             "#8e0152"
            ],
            [
             0.1,
             "#c51b7d"
            ],
            [
             0.2,
             "#de77ae"
            ],
            [
             0.3,
             "#f1b6da"
            ],
            [
             0.4,
             "#fde0ef"
            ],
            [
             0.5,
             "#f7f7f7"
            ],
            [
             0.6,
             "#e6f5d0"
            ],
            [
             0.7,
             "#b8e186"
            ],
            [
             0.8,
             "#7fbc41"
            ],
            [
             0.9,
             "#4d9221"
            ],
            [
             1,
             "#276419"
            ]
           ],
           "sequential": [
            [
             0,
             "#0d0887"
            ],
            [
             0.1111111111111111,
             "#46039f"
            ],
            [
             0.2222222222222222,
             "#7201a8"
            ],
            [
             0.3333333333333333,
             "#9c179e"
            ],
            [
             0.4444444444444444,
             "#bd3786"
            ],
            [
             0.5555555555555556,
             "#d8576b"
            ],
            [
             0.6666666666666666,
             "#ed7953"
            ],
            [
             0.7777777777777778,
             "#fb9f3a"
            ],
            [
             0.8888888888888888,
             "#fdca26"
            ],
            [
             1,
             "#f0f921"
            ]
           ],
           "sequentialminus": [
            [
             0,
             "#0d0887"
            ],
            [
             0.1111111111111111,
             "#46039f"
            ],
            [
             0.2222222222222222,
             "#7201a8"
            ],
            [
             0.3333333333333333,
             "#9c179e"
            ],
            [
             0.4444444444444444,
             "#bd3786"
            ],
            [
             0.5555555555555556,
             "#d8576b"
            ],
            [
             0.6666666666666666,
             "#ed7953"
            ],
            [
             0.7777777777777778,
             "#fb9f3a"
            ],
            [
             0.8888888888888888,
             "#fdca26"
            ],
            [
             1,
             "#f0f921"
            ]
           ]
          },
          "colorway": [
           "#636efa",
           "#EF553B",
           "#00cc96",
           "#ab63fa",
           "#FFA15A",
           "#19d3f3",
           "#FF6692",
           "#B6E880",
           "#FF97FF",
           "#FECB52"
          ],
          "font": {
           "color": "#2a3f5f"
          },
          "geo": {
           "bgcolor": "white",
           "lakecolor": "white",
           "landcolor": "#E5ECF6",
           "showlakes": true,
           "showland": true,
           "subunitcolor": "white"
          },
          "hoverlabel": {
           "align": "left"
          },
          "hovermode": "closest",
          "mapbox": {
           "style": "light"
          },
          "paper_bgcolor": "white",
          "plot_bgcolor": "#E5ECF6",
          "polar": {
           "angularaxis": {
            "gridcolor": "white",
            "linecolor": "white",
            "ticks": ""
           },
           "bgcolor": "#E5ECF6",
           "radialaxis": {
            "gridcolor": "white",
            "linecolor": "white",
            "ticks": ""
           }
          },
          "scene": {
           "xaxis": {
            "backgroundcolor": "#E5ECF6",
            "gridcolor": "white",
            "gridwidth": 2,
            "linecolor": "white",
            "showbackground": true,
            "ticks": "",
            "zerolinecolor": "white"
           },
           "yaxis": {
            "backgroundcolor": "#E5ECF6",
            "gridcolor": "white",
            "gridwidth": 2,
            "linecolor": "white",
            "showbackground": true,
            "ticks": "",
            "zerolinecolor": "white"
           },
           "zaxis": {
            "backgroundcolor": "#E5ECF6",
            "gridcolor": "white",
            "gridwidth": 2,
            "linecolor": "white",
            "showbackground": true,
            "ticks": "",
            "zerolinecolor": "white"
           }
          },
          "shapedefaults": {
           "line": {
            "color": "#2a3f5f"
           }
          },
          "ternary": {
           "aaxis": {
            "gridcolor": "white",
            "linecolor": "white",
            "ticks": ""
           },
           "baxis": {
            "gridcolor": "white",
            "linecolor": "white",
            "ticks": ""
           },
           "bgcolor": "#E5ECF6",
           "caxis": {
            "gridcolor": "white",
            "linecolor": "white",
            "ticks": ""
           }
          },
          "title": {
           "x": 0.05
          },
          "xaxis": {
           "automargin": true,
           "gridcolor": "white",
           "linecolor": "white",
           "ticks": "",
           "title": {
            "standoff": 15
           },
           "zerolinecolor": "white",
           "zerolinewidth": 2
          },
          "yaxis": {
           "automargin": true,
           "gridcolor": "white",
           "linecolor": "white",
           "ticks": "",
           "title": {
            "standoff": 15
           },
           "zerolinecolor": "white",
           "zerolinewidth": 2
          }
         }
        },
        "title": {
         "text": "Top 14 teams to make it to the Super Bowl in the 2021 NFL season"
        },
        "width": 750,
        "xaxis": {
         "anchor": "y",
         "domain": [
          0,
          1
         ],
         "title": {
          "text": "Regular season week"
         }
        },
        "yaxis": {
         "anchor": "x",
         "domain": [
          0,
          1
         ],
         "tickfont": {
          "size": 8
         },
         "title": {
          "text": "Predicted probability (making SB)"
         }
        }
       }
      },
      "text/html": [
       "<div>                            <div id=\"4c82d48c-8d65-4f43-9406-da33b20be10e\" class=\"plotly-graph-div\" style=\"height:475px; width:750px;\"></div>            <script type=\"text/javascript\">                require([\"plotly\"], function(Plotly) {                    window.PLOTLYENV=window.PLOTLYENV || {};                                    if (document.getElementById(\"4c82d48c-8d65-4f43-9406-da33b20be10e\")) {                    Plotly.newPlot(                        \"4c82d48c-8d65-4f43-9406-da33b20be10e\",                        [{\"hovertemplate\":\"Team=Los Angeles Rams<br>Regular season week=%{x}<br>Predicted probability (making SB)=%{y}<extra></extra>\",\"legendgroup\":\"Los Angeles Rams\",\"line\":{\"color\":\"#636efa\",\"dash\":\"solid\"},\"mode\":\"markers+lines\",\"name\":\"Los Angeles Rams\",\"orientation\":\"v\",\"showlegend\":true,\"type\":\"scatter\",\"x\":[\"1\",\"2\"],\"xaxis\":\"x\",\"y\":[0.4866653958216968,0.4347636974895039],\"yaxis\":\"y\"},{\"hovertemplate\":\"Team=Tampa Bay Buccaneers<br>Regular season week=%{x}<br>Predicted probability (making SB)=%{y}<extra></extra>\",\"legendgroup\":\"Tampa Bay Buccaneers\",\"line\":{\"color\":\"#EF553B\",\"dash\":\"solid\"},\"mode\":\"markers+lines\",\"name\":\"Tampa Bay Buccaneers\",\"orientation\":\"v\",\"showlegend\":true,\"type\":\"scatter\",\"x\":[\"1\",\"2\"],\"xaxis\":\"x\",\"y\":[0.2955103738735199,0.3519351379311574],\"yaxis\":\"y\"},{\"hovertemplate\":\"Team=Arizona Cardinals<br>Regular season week=%{x}<br>Predicted probability (making SB)=%{y}<extra></extra>\",\"legendgroup\":\"Arizona Cardinals\",\"line\":{\"color\":\"#00cc96\",\"dash\":\"solid\"},\"mode\":\"markers+lines\",\"name\":\"Arizona Cardinals\",\"orientation\":\"v\",\"showlegend\":true,\"type\":\"scatter\",\"x\":[\"1\",\"2\"],\"xaxis\":\"x\",\"y\":[0.5124678299229849,0.3196937593918827],\"yaxis\":\"y\"},{\"hovertemplate\":\"Team=Kansas City Chiefs<br>Regular season week=%{x}<br>Predicted probability (making SB)=%{y}<extra></extra>\",\"legendgroup\":\"Kansas City Chiefs\",\"line\":{\"color\":\"#ab63fa\",\"dash\":\"solid\"},\"mode\":\"markers+lines\",\"name\":\"Kansas City Chiefs\",\"orientation\":\"v\",\"showlegend\":true,\"type\":\"scatter\",\"x\":[\"1\",\"2\"],\"xaxis\":\"x\",\"y\":[0.2460089974053893,0.3095954170644658],\"yaxis\":\"y\"},{\"hovertemplate\":\"Team=Buffalo Bills<br>Regular season week=%{x}<br>Predicted probability (making SB)=%{y}<extra></extra>\",\"legendgroup\":\"Buffalo Bills\",\"line\":{\"color\":\"#FFA15A\",\"dash\":\"solid\"},\"mode\":\"markers+lines\",\"name\":\"Buffalo Bills\",\"orientation\":\"v\",\"showlegend\":true,\"type\":\"scatter\",\"x\":[\"1\",\"2\"],\"xaxis\":\"x\",\"y\":[0.1080063418304857,0.2786974970198562],\"yaxis\":\"y\"},{\"hovertemplate\":\"Team=Carolina Panthers<br>Regular season week=%{x}<br>Predicted probability (making SB)=%{y}<extra></extra>\",\"legendgroup\":\"Carolina Panthers\",\"line\":{\"color\":\"#19d3f3\",\"dash\":\"solid\"},\"mode\":\"markers+lines\",\"name\":\"Carolina Panthers\",\"orientation\":\"v\",\"showlegend\":true,\"type\":\"scatter\",\"x\":[\"1\",\"2\"],\"xaxis\":\"x\",\"y\":[0.2035605983219869,0.2608273284830521],\"yaxis\":\"y\"},{\"hovertemplate\":\"Team=Seattle Seahawks<br>Regular season week=%{x}<br>Predicted probability (making SB)=%{y}<extra></extra>\",\"legendgroup\":\"Seattle Seahawks\",\"line\":{\"color\":\"#FF6692\",\"dash\":\"solid\"},\"mode\":\"markers+lines\",\"name\":\"Seattle Seahawks\",\"orientation\":\"v\",\"showlegend\":true,\"type\":\"scatter\",\"x\":[\"1\",\"2\"],\"xaxis\":\"x\",\"y\":[0.3846903876329498,0.251735207360421],\"yaxis\":\"y\"},{\"hovertemplate\":\"Team=Philadelphia Eagles<br>Regular season week=%{x}<br>Predicted probability (making SB)=%{y}<extra></extra>\",\"legendgroup\":\"Philadelphia Eagles\",\"line\":{\"color\":\"#B6E880\",\"dash\":\"solid\"},\"mode\":\"markers+lines\",\"name\":\"Philadelphia Eagles\",\"orientation\":\"v\",\"showlegend\":true,\"type\":\"scatter\",\"x\":[\"1\",\"2\"],\"xaxis\":\"x\",\"y\":[0.3174722697258678,0.2431040142517685],\"yaxis\":\"y\"},{\"hovertemplate\":\"Team=Denver Broncos<br>Regular season week=%{x}<br>Predicted probability (making SB)=%{y}<extra></extra>\",\"legendgroup\":\"Denver Broncos\",\"line\":{\"color\":\"#FF97FF\",\"dash\":\"solid\"},\"mode\":\"markers+lines\",\"name\":\"Denver Broncos\",\"orientation\":\"v\",\"showlegend\":true,\"type\":\"scatter\",\"x\":[\"1\",\"2\"],\"xaxis\":\"x\",\"y\":[0.1427677684031348,0.2351510412652085],\"yaxis\":\"y\"},{\"hovertemplate\":\"Team=Las Vegas Raiders<br>Regular season week=%{x}<br>Predicted probability (making SB)=%{y}<extra></extra>\",\"legendgroup\":\"Las Vegas Raiders\",\"line\":{\"color\":\"#FECB52\",\"dash\":\"solid\"},\"mode\":\"markers+lines\",\"name\":\"Las Vegas Raiders\",\"orientation\":\"v\",\"showlegend\":true,\"type\":\"scatter\",\"x\":[\"1\",\"2\"],\"xaxis\":\"x\",\"y\":[0.1931403810367778,0.2136847697130649],\"yaxis\":\"y\"},{\"hovertemplate\":\"Team=San Francisco 49ers<br>Regular season week=%{x}<br>Predicted probability (making SB)=%{y}<extra></extra>\",\"legendgroup\":\"San Francisco 49ers\",\"line\":{\"color\":\"#636efa\",\"dash\":\"solid\"},\"mode\":\"markers+lines\",\"name\":\"San Francisco 49ers\",\"orientation\":\"v\",\"showlegend\":true,\"type\":\"scatter\",\"x\":[\"1\",\"2\"],\"xaxis\":\"x\",\"y\":[0.4527009173100125,0.1954069681805358],\"yaxis\":\"y\"},{\"hovertemplate\":\"Team=Minnesota Vikings<br>Regular season week=%{x}<br>Predicted probability (making SB)=%{y}<extra></extra>\",\"legendgroup\":\"Minnesota Vikings\",\"line\":{\"color\":\"#EF553B\",\"dash\":\"solid\"},\"mode\":\"markers+lines\",\"name\":\"Minnesota Vikings\",\"orientation\":\"v\",\"showlegend\":true,\"type\":\"scatter\",\"x\":[\"1\",\"2\"],\"xaxis\":\"x\",\"y\":[0.1280042627389543,0.1888346420981483],\"yaxis\":\"y\"},{\"hovertemplate\":\"Team=Cincinnati Bengals<br>Regular season week=%{x}<br>Predicted probability (making SB)=%{y}<extra></extra>\",\"legendgroup\":\"Cincinnati Bengals\",\"line\":{\"color\":\"#00cc96\",\"dash\":\"solid\"},\"mode\":\"markers+lines\",\"name\":\"Cincinnati Bengals\",\"orientation\":\"v\",\"showlegend\":true,\"type\":\"scatter\",\"x\":[\"1\",\"2\"],\"xaxis\":\"x\",\"y\":[0.2800416219684842,0.1872396034690628],\"yaxis\":\"y\"},{\"hovertemplate\":\"Team=Cleveland Browns<br>Regular season week=%{x}<br>Predicted probability (making SB)=%{y}<extra></extra>\",\"legendgroup\":\"Cleveland Browns\",\"line\":{\"color\":\"#ab63fa\",\"dash\":\"solid\"},\"mode\":\"markers+lines\",\"name\":\"Cleveland Browns\",\"orientation\":\"v\",\"showlegend\":true,\"type\":\"scatter\",\"x\":[\"1\",\"2\"],\"xaxis\":\"x\",\"y\":[0.1892054744128727,0.1638623379145764],\"yaxis\":\"y\"}],                        {\"height\":475,\"legend\":{\"title\":{\"text\":\"Team\"},\"tracegroupgap\":0},\"template\":{\"data\":{\"bar\":[{\"error_x\":{\"color\":\"#2a3f5f\"},\"error_y\":{\"color\":\"#2a3f5f\"},\"marker\":{\"line\":{\"color\":\"#E5ECF6\",\"width\":0.5},\"pattern\":{\"fillmode\":\"overlay\",\"size\":10,\"solidity\":0.2}},\"type\":\"bar\"}],\"barpolar\":[{\"marker\":{\"line\":{\"color\":\"#E5ECF6\",\"width\":0.5},\"pattern\":{\"fillmode\":\"overlay\",\"size\":10,\"solidity\":0.2}},\"type\":\"barpolar\"}],\"carpet\":[{\"aaxis\":{\"endlinecolor\":\"#2a3f5f\",\"gridcolor\":\"white\",\"linecolor\":\"white\",\"minorgridcolor\":\"white\",\"startlinecolor\":\"#2a3f5f\"},\"baxis\":{\"endlinecolor\":\"#2a3f5f\",\"gridcolor\":\"white\",\"linecolor\":\"white\",\"minorgridcolor\":\"white\",\"startlinecolor\":\"#2a3f5f\"},\"type\":\"carpet\"}],\"choropleth\":[{\"colorbar\":{\"outlinewidth\":0,\"ticks\":\"\"},\"type\":\"choropleth\"}],\"contour\":[{\"colorbar\":{\"outlinewidth\":0,\"ticks\":\"\"},\"colorscale\":[[0.0,\"#0d0887\"],[0.1111111111111111,\"#46039f\"],[0.2222222222222222,\"#7201a8\"],[0.3333333333333333,\"#9c179e\"],[0.4444444444444444,\"#bd3786\"],[0.5555555555555556,\"#d8576b\"],[0.6666666666666666,\"#ed7953\"],[0.7777777777777778,\"#fb9f3a\"],[0.8888888888888888,\"#fdca26\"],[1.0,\"#f0f921\"]],\"type\":\"contour\"}],\"contourcarpet\":[{\"colorbar\":{\"outlinewidth\":0,\"ticks\":\"\"},\"type\":\"contourcarpet\"}],\"heatmap\":[{\"colorbar\":{\"outlinewidth\":0,\"ticks\":\"\"},\"colorscale\":[[0.0,\"#0d0887\"],[0.1111111111111111,\"#46039f\"],[0.2222222222222222,\"#7201a8\"],[0.3333333333333333,\"#9c179e\"],[0.4444444444444444,\"#bd3786\"],[0.5555555555555556,\"#d8576b\"],[0.6666666666666666,\"#ed7953\"],[0.7777777777777778,\"#fb9f3a\"],[0.8888888888888888,\"#fdca26\"],[1.0,\"#f0f921\"]],\"type\":\"heatmap\"}],\"heatmapgl\":[{\"colorbar\":{\"outlinewidth\":0,\"ticks\":\"\"},\"colorscale\":[[0.0,\"#0d0887\"],[0.1111111111111111,\"#46039f\"],[0.2222222222222222,\"#7201a8\"],[0.3333333333333333,\"#9c179e\"],[0.4444444444444444,\"#bd3786\"],[0.5555555555555556,\"#d8576b\"],[0.6666666666666666,\"#ed7953\"],[0.7777777777777778,\"#fb9f3a\"],[0.8888888888888888,\"#fdca26\"],[1.0,\"#f0f921\"]],\"type\":\"heatmapgl\"}],\"histogram\":[{\"marker\":{\"pattern\":{\"fillmode\":\"overlay\",\"size\":10,\"solidity\":0.2}},\"type\":\"histogram\"}],\"histogram2d\":[{\"colorbar\":{\"outlinewidth\":0,\"ticks\":\"\"},\"colorscale\":[[0.0,\"#0d0887\"],[0.1111111111111111,\"#46039f\"],[0.2222222222222222,\"#7201a8\"],[0.3333333333333333,\"#9c179e\"],[0.4444444444444444,\"#bd3786\"],[0.5555555555555556,\"#d8576b\"],[0.6666666666666666,\"#ed7953\"],[0.7777777777777778,\"#fb9f3a\"],[0.8888888888888888,\"#fdca26\"],[1.0,\"#f0f921\"]],\"type\":\"histogram2d\"}],\"histogram2dcontour\":[{\"colorbar\":{\"outlinewidth\":0,\"ticks\":\"\"},\"colorscale\":[[0.0,\"#0d0887\"],[0.1111111111111111,\"#46039f\"],[0.2222222222222222,\"#7201a8\"],[0.3333333333333333,\"#9c179e\"],[0.4444444444444444,\"#bd3786\"],[0.5555555555555556,\"#d8576b\"],[0.6666666666666666,\"#ed7953\"],[0.7777777777777778,\"#fb9f3a\"],[0.8888888888888888,\"#fdca26\"],[1.0,\"#f0f921\"]],\"type\":\"histogram2dcontour\"}],\"mesh3d\":[{\"colorbar\":{\"outlinewidth\":0,\"ticks\":\"\"},\"type\":\"mesh3d\"}],\"parcoords\":[{\"line\":{\"colorbar\":{\"outlinewidth\":0,\"ticks\":\"\"}},\"type\":\"parcoords\"}],\"pie\":[{\"automargin\":true,\"type\":\"pie\"}],\"scatter\":[{\"marker\":{\"colorbar\":{\"outlinewidth\":0,\"ticks\":\"\"}},\"type\":\"scatter\"}],\"scatter3d\":[{\"line\":{\"colorbar\":{\"outlinewidth\":0,\"ticks\":\"\"}},\"marker\":{\"colorbar\":{\"outlinewidth\":0,\"ticks\":\"\"}},\"type\":\"scatter3d\"}],\"scattercarpet\":[{\"marker\":{\"colorbar\":{\"outlinewidth\":0,\"ticks\":\"\"}},\"type\":\"scattercarpet\"}],\"scattergeo\":[{\"marker\":{\"colorbar\":{\"outlinewidth\":0,\"ticks\":\"\"}},\"type\":\"scattergeo\"}],\"scattergl\":[{\"marker\":{\"colorbar\":{\"outlinewidth\":0,\"ticks\":\"\"}},\"type\":\"scattergl\"}],\"scattermapbox\":[{\"marker\":{\"colorbar\":{\"outlinewidth\":0,\"ticks\":\"\"}},\"type\":\"scattermapbox\"}],\"scatterpolar\":[{\"marker\":{\"colorbar\":{\"outlinewidth\":0,\"ticks\":\"\"}},\"type\":\"scatterpolar\"}],\"scatterpolargl\":[{\"marker\":{\"colorbar\":{\"outlinewidth\":0,\"ticks\":\"\"}},\"type\":\"scatterpolargl\"}],\"scatterternary\":[{\"marker\":{\"colorbar\":{\"outlinewidth\":0,\"ticks\":\"\"}},\"type\":\"scatterternary\"}],\"surface\":[{\"colorbar\":{\"outlinewidth\":0,\"ticks\":\"\"},\"colorscale\":[[0.0,\"#0d0887\"],[0.1111111111111111,\"#46039f\"],[0.2222222222222222,\"#7201a8\"],[0.3333333333333333,\"#9c179e\"],[0.4444444444444444,\"#bd3786\"],[0.5555555555555556,\"#d8576b\"],[0.6666666666666666,\"#ed7953\"],[0.7777777777777778,\"#fb9f3a\"],[0.8888888888888888,\"#fdca26\"],[1.0,\"#f0f921\"]],\"type\":\"surface\"}],\"table\":[{\"cells\":{\"fill\":{\"color\":\"#EBF0F8\"},\"line\":{\"color\":\"white\"}},\"header\":{\"fill\":{\"color\":\"#C8D4E3\"},\"line\":{\"color\":\"white\"}},\"type\":\"table\"}]},\"layout\":{\"annotationdefaults\":{\"arrowcolor\":\"#2a3f5f\",\"arrowhead\":0,\"arrowwidth\":1},\"autotypenumbers\":\"strict\",\"coloraxis\":{\"colorbar\":{\"outlinewidth\":0,\"ticks\":\"\"}},\"colorscale\":{\"diverging\":[[0,\"#8e0152\"],[0.1,\"#c51b7d\"],[0.2,\"#de77ae\"],[0.3,\"#f1b6da\"],[0.4,\"#fde0ef\"],[0.5,\"#f7f7f7\"],[0.6,\"#e6f5d0\"],[0.7,\"#b8e186\"],[0.8,\"#7fbc41\"],[0.9,\"#4d9221\"],[1,\"#276419\"]],\"sequential\":[[0.0,\"#0d0887\"],[0.1111111111111111,\"#46039f\"],[0.2222222222222222,\"#7201a8\"],[0.3333333333333333,\"#9c179e\"],[0.4444444444444444,\"#bd3786\"],[0.5555555555555556,\"#d8576b\"],[0.6666666666666666,\"#ed7953\"],[0.7777777777777778,\"#fb9f3a\"],[0.8888888888888888,\"#fdca26\"],[1.0,\"#f0f921\"]],\"sequentialminus\":[[0.0,\"#0d0887\"],[0.1111111111111111,\"#46039f\"],[0.2222222222222222,\"#7201a8\"],[0.3333333333333333,\"#9c179e\"],[0.4444444444444444,\"#bd3786\"],[0.5555555555555556,\"#d8576b\"],[0.6666666666666666,\"#ed7953\"],[0.7777777777777778,\"#fb9f3a\"],[0.8888888888888888,\"#fdca26\"],[1.0,\"#f0f921\"]]},\"colorway\":[\"#636efa\",\"#EF553B\",\"#00cc96\",\"#ab63fa\",\"#FFA15A\",\"#19d3f3\",\"#FF6692\",\"#B6E880\",\"#FF97FF\",\"#FECB52\"],\"font\":{\"color\":\"#2a3f5f\"},\"geo\":{\"bgcolor\":\"white\",\"lakecolor\":\"white\",\"landcolor\":\"#E5ECF6\",\"showlakes\":true,\"showland\":true,\"subunitcolor\":\"white\"},\"hoverlabel\":{\"align\":\"left\"},\"hovermode\":\"closest\",\"mapbox\":{\"style\":\"light\"},\"paper_bgcolor\":\"white\",\"plot_bgcolor\":\"#E5ECF6\",\"polar\":{\"angularaxis\":{\"gridcolor\":\"white\",\"linecolor\":\"white\",\"ticks\":\"\"},\"bgcolor\":\"#E5ECF6\",\"radialaxis\":{\"gridcolor\":\"white\",\"linecolor\":\"white\",\"ticks\":\"\"}},\"scene\":{\"xaxis\":{\"backgroundcolor\":\"#E5ECF6\",\"gridcolor\":\"white\",\"gridwidth\":2,\"linecolor\":\"white\",\"showbackground\":true,\"ticks\":\"\",\"zerolinecolor\":\"white\"},\"yaxis\":{\"backgroundcolor\":\"#E5ECF6\",\"gridcolor\":\"white\",\"gridwidth\":2,\"linecolor\":\"white\",\"showbackground\":true,\"ticks\":\"\",\"zerolinecolor\":\"white\"},\"zaxis\":{\"backgroundcolor\":\"#E5ECF6\",\"gridcolor\":\"white\",\"gridwidth\":2,\"linecolor\":\"white\",\"showbackground\":true,\"ticks\":\"\",\"zerolinecolor\":\"white\"}},\"shapedefaults\":{\"line\":{\"color\":\"#2a3f5f\"}},\"ternary\":{\"aaxis\":{\"gridcolor\":\"white\",\"linecolor\":\"white\",\"ticks\":\"\"},\"baxis\":{\"gridcolor\":\"white\",\"linecolor\":\"white\",\"ticks\":\"\"},\"bgcolor\":\"#E5ECF6\",\"caxis\":{\"gridcolor\":\"white\",\"linecolor\":\"white\",\"ticks\":\"\"}},\"title\":{\"x\":0.05},\"xaxis\":{\"automargin\":true,\"gridcolor\":\"white\",\"linecolor\":\"white\",\"ticks\":\"\",\"title\":{\"standoff\":15},\"zerolinecolor\":\"white\",\"zerolinewidth\":2},\"yaxis\":{\"automargin\":true,\"gridcolor\":\"white\",\"linecolor\":\"white\",\"ticks\":\"\",\"title\":{\"standoff\":15},\"zerolinecolor\":\"white\",\"zerolinewidth\":2}}},\"title\":{\"text\":\"Top 14 teams to make it to the Super Bowl in the 2021 NFL season\"},\"width\":750,\"xaxis\":{\"anchor\":\"y\",\"domain\":[0.0,1.0],\"title\":{\"text\":\"Regular season week\"}},\"yaxis\":{\"anchor\":\"x\",\"domain\":[0.0,1.0],\"tickfont\":{\"size\":8},\"title\":{\"text\":\"Predicted probability (making SB)\"}}},                        {\"responsive\": true}                    ).then(function(){\n",
       "                            \n",
       "var gd = document.getElementById('4c82d48c-8d65-4f43-9406-da33b20be10e');\n",
       "var x = new MutationObserver(function (mutations, observer) {{\n",
       "        var display = window.getComputedStyle(gd).display;\n",
       "        if (!display || display === 'none') {{\n",
       "            console.log([gd, 'removed!']);\n",
       "            Plotly.purge(gd);\n",
       "            observer.disconnect();\n",
       "        }}\n",
       "}});\n",
       "\n",
       "// Listen for the removal of the full notebook cells\n",
       "var notebookContainer = gd.closest('#notebook-container');\n",
       "if (notebookContainer) {{\n",
       "    x.observe(notebookContainer, {childList: true});\n",
       "}}\n",
       "\n",
       "// Listen for the clearing of the current output cell\n",
       "var outputEl = gd.closest('.output');\n",
       "if (outputEl) {{\n",
       "    x.observe(outputEl, {childList: true});\n",
       "}}\n",
       "\n",
       "                        })                };                });            </script>        </div>"
      ]
     },
     "metadata": {},
     "output_type": "display_data"
    }
   ],
   "source": [
    "fig = px.line(data_for_plotting, 'week', 'predicted_probability', color = 'Team', \n",
    "              title = 'Top 14 teams to make it to the Super Bowl in the 2021 NFL season', \n",
    "              labels = {'week' : 'Regular season week', 'predicted_probability' : 'Predicted probability (making SB)'},\n",
    "              width = 750, height = 475)\n",
    "fig.update_yaxes(tickfont = {'size' : 8})\n",
    "fig.update_traces(mode = 'markers+lines')\n",
    "fig.show()"
   ]
  },
  {
   "cell_type": "code",
   "execution_count": null,
   "id": "d14a3d67",
   "metadata": {},
   "outputs": [],
   "source": []
  }
 ],
 "metadata": {
  "kernelspec": {
   "display_name": "Python 3",
   "language": "python",
   "name": "python3"
  },
  "language_info": {
   "codemirror_mode": {
    "name": "ipython",
    "version": 3
   },
   "file_extension": ".py",
   "mimetype": "text/x-python",
   "name": "python",
   "nbconvert_exporter": "python",
   "pygments_lexer": "ipython3",
   "version": "3.8.8"
  }
 },
 "nbformat": 4,
 "nbformat_minor": 5
}
