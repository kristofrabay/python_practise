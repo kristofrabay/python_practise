{
 "cells": [
  {
   "cell_type": "code",
   "execution_count": 1,
   "id": "635bab85",
   "metadata": {},
   "outputs": [],
   "source": [
    "from bs4 import BeautifulSoup\n",
    "import requests\n",
    "\n",
    "import pandas as pd\n",
    "import numpy as np\n",
    "\n",
    "import matplotlib.pyplot as plt\n",
    "import seaborn as sns\n",
    "\n",
    "import warnings\n",
    "warnings.filterwarnings('ignore')\n",
    "\n",
    "def calc_rel_std(feature, data):\n",
    "    return data[feature].std() / data[feature].mean()\n",
    "\n",
    "def return_corrpair_dt(df, threshold):\n",
    "    \n",
    "    corr_pairs = df.corr().abs().unstack().reset_index()\n",
    "    corr_pairs.rename(columns = {'level_0' : 'feature_1', 'level_1' : 'feature_2', 0 : 'correlation'}, inplace = True)\n",
    "    corr_pairs = corr_pairs[corr_pairs['correlation'] != 1].sort_values('correlation', ascending = False)\n",
    "\n",
    "    above_threshold = corr_pairs[corr_pairs['correlation'] > threshold].groupby('correlation').head(1).reset_index(drop = True)\n",
    "\n",
    "    above_threshold['feature_1_relstd'] = above_threshold['feature_1'].apply(lambda x: calc_rel_std(x, df))\n",
    "    above_threshold['feature_2_relstd'] = above_threshold['feature_2'].apply(lambda x: calc_rel_std(x, df))\n",
    "    \n",
    "    above_threshold['drop'] = above_threshold[['feature_1_relstd', 'feature_2_relstd']].idxmax(axis=1)\n",
    "    \n",
    "    change_to = {'feature_2_relstd' : 'feature_1', 'feature_1_relstd' : 'feature_2'}\n",
    "    above_threshold.replace({'drop' : change_to}, inplace = True)\n",
    "    \n",
    "    above_threshold['drop'] = above_threshold.lookup(above_threshold.index, above_threshold['drop'])\n",
    "\n",
    "    return above_threshold, above_threshold['drop'].value_counts()"
   ]
  },
  {
   "cell_type": "markdown",
   "id": "b0b0d3a6",
   "metadata": {},
   "source": [
    "### Create and scrape links"
   ]
  },
  {
   "cell_type": "code",
   "execution_count": 2,
   "id": "ab43baf8",
   "metadata": {},
   "outputs": [],
   "source": [
    "seasons = np.arange(2004, 2020 + 1).tolist()\n",
    "\n",
    "data_type = {'offense' : ['total', 'passing', 'rushing', 'receiving', 'downs'],\n",
    "             'defense' : ['total', 'passing', 'rushing', 'receiving', 'downs'],\n",
    "             'special' : ['kicking', 'punting', 'returning']}"
   ]
  },
  {
   "cell_type": "code",
   "execution_count": 3,
   "id": "bea44a53",
   "metadata": {
    "scrolled": true
   },
   "outputs": [],
   "source": [
    "tables = []\n",
    "\n",
    "for season in seasons:\n",
    "    \n",
    "    for game_type in data_type.keys():        \n",
    "        possible_play_types = data_type[game_type]\n",
    "        \n",
    "        for play_type in possible_play_types:\n",
    "            \n",
    "            url = 'https://www.espn.com/nfl/stats/team/_/view/' + game_type + '/stat/' + play_type + '/season/' + str(season) + '/seasontype/2'\n",
    "            page = requests.get(url)\n",
    "            soup = BeautifulSoup(page.text)\n",
    "            \n",
    "            table_div = soup.find('div', class_='ResponsiveTable ResponsiveTable--fixed-left mt4 Table2__title--remove-capitalization')\n",
    "\n",
    "            teams = table_div.find('table', class_ = 'Table Table--align-right Table--fixed Table--fixed-left')\n",
    "            teams = pd.read_html(teams.prettify(), flavor = 'bs4')[0]\n",
    "\n",
    "            if len(teams) == 31:\n",
    "                teams.loc[-1] = teams.columns\n",
    "                teams.index = teams.index + 1  \n",
    "                teams.sort_index(inplace=True) \n",
    "                teams.columns = ['Teams']\n",
    "\n",
    "            data = table_div.find('table', class_ = 'Table Table--align-right')\n",
    "            data = pd.read_html(data.prettify(), flavor = 'bs4')[0]\n",
    "            \n",
    "            #print(link)\n",
    "\n",
    "            if 'downs' in url:   \n",
    "                data.columns = data.columns.map('_'.join).tolist()\n",
    "\n",
    "            if 'kicking' in url: \n",
    "                data.columns = data.columns.map('_'.join).tolist()\n",
    "\n",
    "            if 'returning' in url: \n",
    "                data.columns = data.columns.map('_'.join).tolist()\n",
    "                \n",
    "            if 'total' in url: \n",
    "                data.columns = data.columns.map('_'.join).tolist()\n",
    "\n",
    "            \n",
    "            data.columns = [str(game_type) + '_' + str(play_type) + '_' + i for i in data.columns]\n",
    "\n",
    "            table = pd.concat([teams, data], 1)\n",
    "            table['season'] = season\n",
    "            tables.append(table)"
   ]
  },
  {
   "cell_type": "code",
   "execution_count": 4,
   "id": "3bf2a9a2",
   "metadata": {},
   "outputs": [
    {
     "data": {
      "text/plain": [
       "221"
      ]
     },
     "execution_count": 4,
     "metadata": {},
     "output_type": "execute_result"
    }
   ],
   "source": [
    "len(tables)"
   ]
  },
  {
   "cell_type": "code",
   "execution_count": null,
   "id": "816ed6cd",
   "metadata": {},
   "outputs": [],
   "source": []
  },
  {
   "cell_type": "markdown",
   "id": "cc99ddd6",
   "metadata": {},
   "source": [
    "### Correct team names"
   ]
  },
  {
   "cell_type": "code",
   "execution_count": 5,
   "id": "1d821c25",
   "metadata": {},
   "outputs": [],
   "source": [
    "mapper = {'Teams' : 'Team'}\n",
    "\n",
    "for table in tables:\n",
    "    if table.columns[0] == 'Teams':\n",
    "        table.rename(columns = mapper, inplace = True)"
   ]
  },
  {
   "cell_type": "code",
   "execution_count": 6,
   "id": "bcf541a8",
   "metadata": {},
   "outputs": [],
   "source": [
    "teams = []\n",
    "\n",
    "for table in tables:\n",
    "    teams.extend(table['Team'].unique())\n",
    "    \n",
    "teams = set(teams)"
   ]
  },
  {
   "cell_type": "code",
   "execution_count": 7,
   "id": "9b65ca49",
   "metadata": {},
   "outputs": [
    {
     "data": {
      "text/plain": [
       "36"
      ]
     },
     "execution_count": 7,
     "metadata": {},
     "output_type": "execute_result"
    }
   ],
   "source": [
    "len(teams)"
   ]
  },
  {
   "cell_type": "code",
   "execution_count": 8,
   "id": "a8d3fef1",
   "metadata": {},
   "outputs": [],
   "source": [
    "teams_mapper = {'St. Louis Rams' : 'Los Angeles Rams', \n",
    "                'Oakland Raiders' : 'Las Vegas Raiders', \n",
    "                'Washington Redskins' : 'Washington', \n",
    "                'San Diego Chargers' : 'Los Angeles Chargers'}\n",
    "\n",
    "for table in tables:\n",
    "    table['Team'].replace(teams_mapper, inplace = True)"
   ]
  },
  {
   "cell_type": "code",
   "execution_count": null,
   "id": "15bccc58",
   "metadata": {},
   "outputs": [],
   "source": []
  },
  {
   "cell_type": "markdown",
   "id": "583277f0",
   "metadata": {},
   "source": [
    "### Concat by data types"
   ]
  },
  {
   "cell_type": "code",
   "execution_count": 9,
   "id": "0ed5f97c",
   "metadata": {},
   "outputs": [],
   "source": [
    "offense_totals = []\n",
    "offense_downs = []\n",
    "offense_passing = []\n",
    "offense_receiving = []\n",
    "offense_rushing = []\n",
    "\n",
    "defense_totals = []\n",
    "defense_downs = []\n",
    "defense_passing = []\n",
    "defense_receiving = []\n",
    "defense_rushing = []\n",
    "\n",
    "special_kicking = []\n",
    "special_punting = []\n",
    "special_returning = []\n",
    "\n",
    "for table in tables:\n",
    "    if any('offense_total' in s for s in table.columns):\n",
    "        offense_totals.append(table)\n",
    "        \n",
    "    if any('offense_downs' in s for s in table.columns):\n",
    "        offense_downs.append(table)\n",
    "        \n",
    "    if any('offense_passing' in s for s in table.columns):\n",
    "        offense_passing.append(table)\n",
    "        \n",
    "    if any('offense_receiving' in s for s in table.columns):\n",
    "        offense_receiving.append(table)\n",
    "        \n",
    "    if any('offense_rushing' in s for s in table.columns):\n",
    "        offense_rushing.append(table)\n",
    "    \n",
    "    if any('defense_total' in s for s in table.columns):\n",
    "        defense_totals.append(table)\n",
    "        \n",
    "    if any('defense_downs' in s for s in table.columns):\n",
    "        defense_downs.append(table)\n",
    "        \n",
    "    if any('defense_passing' in s for s in table.columns):\n",
    "        defense_passing.append(table)\n",
    "        \n",
    "    if any('defense_receiving' in s for s in table.columns):\n",
    "        defense_receiving.append(table)\n",
    "        \n",
    "    if any('defense_rushing' in s for s in table.columns):\n",
    "        defense_rushing.append(table)\n",
    "        \n",
    "    if any('special_kicking' in s for s in table.columns):\n",
    "        special_kicking.append(table)\n",
    "        \n",
    "    if any('special_punting' in s for s in table.columns):\n",
    "        special_punting.append(table)\n",
    "        \n",
    "    if any('special_returning' in s for s in table.columns):\n",
    "        special_returning.append(table)"
   ]
  },
  {
   "cell_type": "code",
   "execution_count": 10,
   "id": "816678ad",
   "metadata": {},
   "outputs": [],
   "source": [
    "offense_totals = pd.concat(offense_totals)\n",
    "offense_downs = pd.concat(offense_downs)\n",
    "offense_passing = pd.concat(offense_passing)\n",
    "offense_receiving = pd.concat(offense_receiving)\n",
    "offense_rushing = pd.concat(offense_rushing)\n",
    "\n",
    "defense_totals = pd.concat(defense_totals)\n",
    "defense_downs = pd.concat(defense_downs)\n",
    "defense_passing = pd.concat(defense_passing)\n",
    "defense_receiving = pd.concat(defense_receiving)\n",
    "defense_rushing = pd.concat(defense_rushing)\n",
    "\n",
    "special_kicking = pd.concat(special_kicking)\n",
    "special_punting = pd.concat(special_punting)\n",
    "special_returning = pd.concat(special_returning)"
   ]
  },
  {
   "cell_type": "code",
   "execution_count": null,
   "id": "279014cf",
   "metadata": {},
   "outputs": [],
   "source": []
  },
  {
   "cell_type": "markdown",
   "id": "c590b28b",
   "metadata": {},
   "source": [
    "### Final merge"
   ]
  },
  {
   "cell_type": "code",
   "execution_count": 12,
   "id": "14c1a7d6",
   "metadata": {},
   "outputs": [],
   "source": [
    "from functools import reduce"
   ]
  },
  {
   "cell_type": "code",
   "execution_count": 13,
   "id": "74e0b6c5",
   "metadata": {},
   "outputs": [],
   "source": [
    "data = reduce(lambda  a,b: pd.merge(a,b,on = ['Team', 'season'], how='outer'), \n",
    "              [offense_totals, offense_downs, offense_passing, offense_receiving, offense_rushing,\n",
    "               defense_totals, defense_downs, defense_passing, defense_receiving, defense_rushing, \n",
    "               special_kicking, special_punting, special_returning])"
   ]
  },
  {
   "cell_type": "code",
   "execution_count": null,
   "id": "b0e773e7",
   "metadata": {},
   "outputs": [],
   "source": []
  },
  {
   "cell_type": "markdown",
   "id": "5f585a7f",
   "metadata": {},
   "source": [
    "### Clean up data\n",
    "\n",
    "Constantly checking correlation and distribution - making drop rules based on data"
   ]
  },
  {
   "cell_type": "code",
   "execution_count": 20,
   "id": "1f7475e3",
   "metadata": {},
   "outputs": [],
   "source": [
    "data.rename(columns = {'offense_downs_Unnamed: 0_level_0_GP' : 'games_played',\n",
    "                       'offense_total_Points_PTS/G' : 'offense_points_per_game',\n",
    "                       'defense_total_Points_PTS/G' : 'defense_points_per_game',\n",
    "                       'special_punting_AVG.1' : 'special_punting_avg_return_yds'}, inplace = True)\n",
    "drop_totals = data.filter(like = 'total').columns\n",
    "data.drop(drop_totals, 1, inplace = True)\n",
    "\n",
    "drop_gp_cols = data.filter(like = 'GP').columns\n",
    "\n",
    "drop_field_goal_range_data = [ 'special_kicking_Field Goals_1-19',\n",
    "                               'special_kicking_Field Goals_20-29',\n",
    "                               'special_kicking_Field Goals_30-39',\n",
    "                               'special_kicking_Field Goals_40-49',\n",
    "                               'special_kicking_Field Goals_50+']\n",
    "\n",
    "drop_totals = ['offense_passing_YDS', 'defense_passing_YDS',\n",
    "               'offense_passing_CMP', 'defense_passing_CMP', \n",
    "               'offense_receiving_YDS', 'defense_receiving_YDS', \n",
    "               'offense_rushing_YDS', 'defense_rushing_YDS',\n",
    "               'special_kicking_Extra Points_XPM', 'special_kicking_Extra Points_XPA',\n",
    "               'special_kicking_Field Goals_FGM', 'special_punting_YDS',\n",
    "               'special_punting_TB', 'special_punting_FC', 'special_punting_BP',\n",
    "               'special_punting_RET', 'special_punting_RETY',\n",
    "               'special_returning_Kickoffs_YDS', 'special_returning_Kickoffs_TD',\n",
    "               'offense_downs_First Downs_PASS', 'defense_downs_First Downs_PASS', 'special_returning_Punts_ATT',\n",
    "               'offense_receiving_TD', 'defense_receiving_TD', 'special_returning_Punts_TD',\n",
    "               'special_returning_Punts_YDS', 'special_returning_Punts_FC']\n",
    "\n",
    "drop_longest_data = data.filter(like = 'LNG').columns.tolist()\n",
    "\n",
    "drop_game_avgs = ['offense_receiving_YDS/G', 'defense_receiving_YDS/G']\n",
    "\n",
    "data.drop(drop_gp_cols, 1, inplace = True)\n",
    "data.drop(drop_field_goal_range_data, 1, inplace = True)\n",
    "data.drop(drop_totals, 1, inplace = True)\n",
    "data.drop(drop_longest_data, 1, inplace = True)\n",
    "data.drop(drop_game_avgs, 1, inplace = True)\n",
    "\n",
    "data['punting_punts_per_game'] = data['special_punting_PUNTS'] / data['games_played']\n",
    "data['punting_punts_i20_ratio'] = data['special_punting_IN20'] / data['special_punting_PUNTS']\n",
    "\n",
    "data['special_kicking_FGA_per_game'] = data['special_kicking_Field Goals_FGA'] / data['games_played']\n",
    "data['special_returning_Kickoffs_att_per_game'] = data['special_returning_Kickoffs_ATT'] / data['games_played']\n",
    "\n",
    "data['offense_passing_SACK_per_game'] = data['offense_passing_SACK'] / data['games_played']\n",
    "data['defense_passing_SACK_per_game'] = data['defense_passing_SACK'] / data['games_played']\n",
    "\n",
    "data['offense_downs_Penalties_TOTAL_per_game'] = data['offense_downs_Penalties_TOTAL'] / data['games_played']\n",
    "data['offense_downs_Penalties_YDS_per_game'] = data['offense_downs_Penalties_YDS'] / data['games_played']\n",
    "data['defense_downs_Penalties_TOTAL_per_game'] = data['defense_downs_Penalties_TOTAL'] / data['games_played']\n",
    "data['defense_downs_Penalties_YDS_per_game'] = data['defense_downs_Penalties_YDS'] / data['games_played']\n",
    "data['offense_passing_SYL_per_game'] = data['offense_passing_SYL'] / data['games_played']\n",
    "data['defense_passing_SYL_per_game'] = data['defense_passing_SYL'] / data['games_played']\n",
    "\n",
    "data['offense_downs_Third Downs_ATT_per_game'] = data['offense_downs_Third Downs_ATT'] / data['games_played']\n",
    "data['offense_downs_Fourth Downs_ATT_per_game'] = data['offense_downs_Fourth Downs_ATT'] / data['games_played']\n",
    "data['defense_downs_Third Downs_ATT_per_game'] = data['defense_downs_Third Downs_ATT'] / data['games_played']\n",
    "data['defense_downs_Fourth Downs_ATT_per_game'] = data['defense_downs_Fourth Downs_ATT'] / data['games_played']\n",
    "\n",
    "# data['offense_passing_ATT_per_game'] = data['offense_passing_ATT'] / data['games_played']\n",
    "# data['offense_rushing_ATT_per_game'] = data['offense_rushing_ATT'] / data['games_played']\n",
    "# data['defense_passing_ATT_per_game'] = data['defense_passing_ATT'] / data['games_played']\n",
    "# data['defense_rushing_ATT_per_game'] = data['defense_rushing_ATT'] / data['games_played']\n",
    "# pass to rush ratio is better\n",
    "\n",
    "data['offense_pass_to_rush_ratio'] = data['offense_passing_ATT'] / data['offense_rushing_ATT']\n",
    "data['defense_pass_to_rush_ratio'] = data['defense_passing_ATT'] / data['defense_rushing_ATT']\n",
    "\n",
    "data['offense_downs_First Downs_rush_ratio'] = data['offense_downs_First Downs_RUSH'] / data['offense_downs_First Downs_TOTAL']\n",
    "data['offense_downs_First Downs_penalty_ratio'] = data['offense_downs_First Downs_PEN'] / data['offense_downs_First Downs_TOTAL']\n",
    "data['defense_downs_First Downs_rush_ratio'] = data['defense_downs_First Downs_RUSH'] / data['defense_downs_First Downs_TOTAL']\n",
    "data['defense_downs_First Downs_penalty_ratio'] = data['defense_downs_First Downs_PEN'] / data['defense_downs_First Downs_TOTAL']\n",
    "\n",
    "# data['offense_receiving_REC_per_game'] = data['offense_receiving_REC'] / data['games_played']\n",
    "# data['defense_receiving_REC_per_game'] = data['defense_receiving_REC'] / data['games_played']\n",
    "\n",
    "data['offense_passing_TD_per_game'] = data['offense_passing_TD'] / data['games_played']\n",
    "data['offense_rushing_TD_per_game'] = data['offense_rushing_TD'] / data['games_played']\n",
    "data['defense_passing_TD_per_game'] = data['defense_passing_TD'] / data['games_played']\n",
    "data['defense_rushing_TD_per_game'] = data['defense_rushing_TD'] / data['games_played']\n",
    "\n",
    "data['offense_pass_TD_per_rush_TD'] = data['offense_passing_TD'] / data['offense_rushing_TD']\n",
    "data['defense_pass_TD_per_rush_TD'] = data['defense_passing_TD'] / data['defense_rushing_TD']\n",
    "\n",
    "data['offense_passing_INT_per_game'] = data['offense_passing_INT'] / data['games_played']\n",
    "data['defense_passing_INT_per_game'] = data['defense_passing_INT'] / data['games_played']\n",
    "data['offense_pass_TD_to_INT'] = data['offense_passing_TD'] / data['offense_passing_INT']\n",
    "data['defense_pass_TD_to_INT'] = data['defense_passing_TD'] / data['defense_passing_INT']\n",
    "\n",
    "data['offense_receiving_FUM_per_game'] = data['offense_receiving_FUM'] / data['games_played']\n",
    "data['offense_rushing_FUM_per_game'] = data['offense_rushing_FUM'] / data['games_played']\n",
    "data['defense_receiving_FUM_per_game'] = data['defense_receiving_FUM'] / data['games_played']\n",
    "data['defense_rushing_FUM_per_game'] = data['defense_rushing_FUM'] / data['games_played']\n",
    "\n",
    "data['offense_receiving_LST_FUM_ratio'] = data['offense_receiving_LST'] / data['offense_receiving_FUM']\n",
    "data['offense_rushing_LST_FUM_ratio'] = data['offense_rushing_LST'] / data['offense_rushing_FUM']\n",
    "data['defense_receiving_LST_FUM_ratio'] = data['defense_receiving_LST'] / data['defense_receiving_FUM']\n",
    "data['defense_rushing_LST_FUM_ratio'] = data['defense_rushing_LST'] / data['defense_rushing_FUM']\n",
    "\n",
    "drop_after_calc = ['special_punting_PUNTS', 'special_punting_IN20', \n",
    "                   'special_kicking_Field Goals_FGA', 'special_returning_Kickoffs_ATT',\n",
    "                   'offense_passing_SACK', 'defense_passing_SACK',\n",
    "                   'offense_downs_Penalties_TOTAL', 'offense_downs_Penalties_YDS', \n",
    "                   'defense_downs_Penalties_TOTAL', 'defense_downs_Penalties_YDS',\n",
    "                   'offense_passing_SYL', 'defense_passing_SYL', \n",
    "                   'defense_passing_SACK_per_game', 'offense_passing_SACK_per_game',\n",
    "                   'defense_downs_Penalties_TOTAL_per_game', 'offense_downs_Penalties_TOTAL_per_game',\n",
    "                   'offense_downs_Third Downs_ATT', 'offense_downs_Fourth Downs_ATT',\n",
    "                   'defense_downs_Fourth Downs_ATT', 'defense_downs_Third Downs_ATT',\n",
    "                   'offense_passing_ATT', 'offense_rushing_ATT', \n",
    "                   'defense_passing_ATT', 'defense_rushing_ATT', \n",
    "                   'offense_downs_First Downs_RUSH', 'offense_downs_First Downs_PEN',\n",
    "                   'defense_downs_First Downs_RUSH', 'defense_downs_First Downs_PEN',\n",
    "                   'offense_downs_First Downs_TOTAL', 'defense_downs_First Downs_TOTAL',\n",
    "                   'offense_receiving_REC', 'defense_receiving_REC',\n",
    "                   'offense_passing_TD', 'offense_rushing_TD', 'defense_passing_TD', 'defense_rushing_TD',\n",
    "                   'offense_passing_INT', 'defense_passing_INT',\n",
    "                   'offense_receiving_FUM', 'offense_rushing_FUM', 'defense_receiving_FUM', 'defense_rushing_FUM',\n",
    "                   'offense_receiving_LST', 'offense_rushing_LST', 'defense_receiving_LST', 'defense_rushing_LST']\n",
    "\n",
    "drop_MADE_cols = data.filter(like = 'MADE').columns # att and pct cover thsi info\n",
    "\n",
    "data.drop(drop_after_calc, 1, inplace = True)\n",
    "data.drop(drop_MADE_cols, 1, inplace = True)"
   ]
  },
  {
   "cell_type": "markdown",
   "id": "b6d9dffd",
   "metadata": {},
   "source": [
    "### Write csv"
   ]
  },
  {
   "cell_type": "code",
   "execution_count": 29,
   "id": "990e657c",
   "metadata": {},
   "outputs": [],
   "source": [
    "data.to_csv('../../data/scraped_for_modeling.csv', index = False)"
   ]
  }
 ],
 "metadata": {
  "kernelspec": {
   "display_name": "Python 3",
   "language": "python",
   "name": "python3"
  },
  "language_info": {
   "codemirror_mode": {
    "name": "ipython",
    "version": 3
   },
   "file_extension": ".py",
   "mimetype": "text/x-python",
   "name": "python",
   "nbconvert_exporter": "python",
   "pygments_lexer": "ipython3",
   "version": "3.8.8"
  }
 },
 "nbformat": 4,
 "nbformat_minor": 5
}
