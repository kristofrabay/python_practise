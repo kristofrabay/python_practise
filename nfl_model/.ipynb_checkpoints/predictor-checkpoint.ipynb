{
 "cells": [
  {
   "cell_type": "code",
   "execution_count": 2,
   "id": "21102bc6",
   "metadata": {},
   "outputs": [],
   "source": [
    "import pandas as pd\n",
    "import numpy as np\n",
    "import pickle\n",
    "\n",
    "import matplotlib.pyplot as plt\n",
    "import seaborn as sns\n",
    "\n",
    "# from sklearn.tree import DecisionTreeClassifier, plot_tree\n",
    "# from sklearn.ensemble import GradientBoostingClassifier, RandomForestClassifier\n",
    "# import lightgbm as lgb\n",
    "# from catboost import CatBoostClassifier\n",
    "\n",
    "import warnings\n",
    "warnings.filterwarnings('ignore')"
   ]
  },
  {
   "cell_type": "markdown",
   "id": "bbd3e4c0",
   "metadata": {},
   "source": [
    "### Models"
   ]
  },
  {
   "cell_type": "code",
   "execution_count": 9,
   "id": "7e986fc1",
   "metadata": {},
   "outputs": [],
   "source": [
    "rf = 'modeling/rf.pkl'\n",
    "gbm = 'modeling/gbm.pkl'\n",
    "lgb = 'modeling/lgb.pkl'\n",
    "catboost = 'modeling/catboost.pkl'\n",
    "\n",
    "with open(rf, 'rb') as file:\n",
    "    RF = pickle.load(file)\n",
    "    \n",
    "with open(gbm, 'rb') as file:\n",
    "    GBM = pickle.load(file)\n",
    "    \n",
    "with open(lgb, 'rb') as file:\n",
    "    LGB = pickle.load(file)\n",
    "    \n",
    "with open(catboost, 'rb') as file:\n",
    "    CATBOOST= pickle.load(file)"
   ]
  },
  {
   "cell_type": "markdown",
   "id": "cea1df2b",
   "metadata": {},
   "source": [
    "### Data (in necessary format)"
   ]
  },
  {
   "cell_type": "code",
   "execution_count": 4,
   "id": "1c02a8cb",
   "metadata": {},
   "outputs": [],
   "source": [
    "data = pd.read_csv('data/scraped_for_modeling_labeled.csv')\n",
    "data.fillna(0, inplace = True) # divisions with 0\n",
    "\n",
    "X = data.drop(['winner', 'played'], 1).copy()\n",
    "y = data['played'].copy()"
   ]
  },
  {
   "cell_type": "code",
   "execution_count": 6,
   "id": "6f569922",
   "metadata": {},
   "outputs": [],
   "source": [
    "# from boruta elimination method:\n",
    "keep_cols = ['offense_downs_Fourth Downs_PCT', 'offense_passing_AVG', 'offense_passing_YDS/G', 'offense_passing_RTG', \n",
    "             'offense_receiving_AVG', 'defense_passing_AVG', 'defense_passing_RTG', 'defense_receiving_AVG', \n",
    "             'punting_punts_per_game', 'defense_passing_SYL_per_game', 'offense_downs_Third Downs_ATT_per_game', \n",
    "             'defense_downs_Third Downs_ATT_per_game', 'defense_downs_Fourth Downs_ATT_per_game', \n",
    "             'defense_downs_First Downs_penalty_ratio', 'offense_passing_TD_per_game', \n",
    "             'offense_passing_INT_per_game', 'defense_passing_INT_per_game', 'offense_pass_TD_to_INT', \n",
    "             'defense_pass_TD_to_INT']\n",
    "\n",
    "X = X[['Team', 'games_played', 'season'] + keep_cols].copy()"
   ]
  },
  {
   "cell_type": "markdown",
   "id": "6fe042cb",
   "metadata": {},
   "source": [
    "### Prediction"
   ]
  },
  {
   "cell_type": "code",
   "execution_count": 18,
   "id": "4d631e17",
   "metadata": {},
   "outputs": [
    {
     "data": {
      "text/html": [
       "<div>\n",
       "<style scoped>\n",
       "    .dataframe tbody tr th:only-of-type {\n",
       "        vertical-align: middle;\n",
       "    }\n",
       "\n",
       "    .dataframe tbody tr th {\n",
       "        vertical-align: top;\n",
       "    }\n",
       "\n",
       "    .dataframe thead th {\n",
       "        text-align: right;\n",
       "    }\n",
       "</style>\n",
       "<table border=\"1\" class=\"dataframe\">\n",
       "  <thead>\n",
       "    <tr style=\"text-align: right;\">\n",
       "      <th></th>\n",
       "      <th>Team</th>\n",
       "      <th>season</th>\n",
       "      <th>winner</th>\n",
       "      <th>played</th>\n",
       "      <th>pred_rf</th>\n",
       "      <th>pred_gbm</th>\n",
       "      <th>pred_lgb</th>\n",
       "      <th>pred_catboost</th>\n",
       "      <th>pred_mean</th>\n",
       "    </tr>\n",
       "  </thead>\n",
       "  <tbody>\n",
       "    <tr>\n",
       "      <th>0</th>\n",
       "      <td>Kansas City Chiefs</td>\n",
       "      <td>2004</td>\n",
       "      <td>0</td>\n",
       "      <td>0</td>\n",
       "      <td>0.096406</td>\n",
       "      <td>0.073115</td>\n",
       "      <td>0.054210</td>\n",
       "      <td>0.240884</td>\n",
       "      <td>0.116154</td>\n",
       "    </tr>\n",
       "    <tr>\n",
       "      <th>1</th>\n",
       "      <td>Indianapolis Colts</td>\n",
       "      <td>2004</td>\n",
       "      <td>0</td>\n",
       "      <td>0</td>\n",
       "      <td>0.352287</td>\n",
       "      <td>0.325699</td>\n",
       "      <td>0.204493</td>\n",
       "      <td>0.348993</td>\n",
       "      <td>0.307868</td>\n",
       "    </tr>\n",
       "    <tr>\n",
       "      <th>2</th>\n",
       "      <td>Green Bay Packers</td>\n",
       "      <td>2004</td>\n",
       "      <td>0</td>\n",
       "      <td>0</td>\n",
       "      <td>0.052101</td>\n",
       "      <td>0.040946</td>\n",
       "      <td>0.008661</td>\n",
       "      <td>0.226210</td>\n",
       "      <td>0.081979</td>\n",
       "    </tr>\n",
       "  </tbody>\n",
       "</table>\n",
       "</div>"
      ],
      "text/plain": [
       "                 Team  season  winner  played   pred_rf  pred_gbm  pred_lgb  \\\n",
       "0  Kansas City Chiefs    2004       0       0  0.096406  0.073115  0.054210   \n",
       "1  Indianapolis Colts    2004       0       0  0.352287  0.325699  0.204493   \n",
       "2   Green Bay Packers    2004       0       0  0.052101  0.040946  0.008661   \n",
       "\n",
       "   pred_catboost  pred_mean  \n",
       "0       0.240884   0.116154  \n",
       "1       0.348993   0.307868  \n",
       "2       0.226210   0.081979  "
      ]
     },
     "execution_count": 18,
     "metadata": {},
     "output_type": "execute_result"
    }
   ],
   "source": [
    "predictions = data[['Team', 'season', 'winner', 'played']].copy()\n",
    "\n",
    "predictions['pred_rf'] = RF.predict_proba(X.drop(['Team', 'games_played', 'season'], 1))[:,1]\n",
    "predictions['pred_gbm'] = GBM.predict_proba(X.drop(['Team', 'games_played', 'season'], 1))[:,1]\n",
    "predictions['pred_lgb'] = LGB.predict_proba(X.drop(['Team', 'games_played', 'season'], 1))[:,1]\n",
    "predictions['pred_catboost'] = CATBOOST.predict_proba(X.drop(['Team', 'games_played', 'season'], 1))[:,1]\n",
    "predictions['pred_mean'] = (predictions['pred_rf'] + predictions['pred_gbm'] + predictions['pred_lgb'] + predictions['pred_catboost']) / 4\n",
    "\n",
    "predictions.head(3)"
   ]
  },
  {
   "cell_type": "markdown",
   "id": "91747b01",
   "metadata": {},
   "source": [
    "### Compare predictions vs actuals"
   ]
  },
  {
   "cell_type": "code",
   "execution_count": 19,
   "id": "0151bff1",
   "metadata": {},
   "outputs": [],
   "source": [
    "## todo"
   ]
  },
  {
   "cell_type": "code",
   "execution_count": null,
   "id": "3b4bb050",
   "metadata": {},
   "outputs": [],
   "source": []
  }
 ],
 "metadata": {
  "kernelspec": {
   "display_name": "Python 3",
   "language": "python",
   "name": "python3"
  },
  "language_info": {
   "codemirror_mode": {
    "name": "ipython",
    "version": 3
   },
   "file_extension": ".py",
   "mimetype": "text/x-python",
   "name": "python",
   "nbconvert_exporter": "python",
   "pygments_lexer": "ipython3",
   "version": "3.8.8"
  }
 },
 "nbformat": 4,
 "nbformat_minor": 5
}
