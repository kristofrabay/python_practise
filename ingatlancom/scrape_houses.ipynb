{
 "cells": [
  {
   "cell_type": "code",
   "execution_count": 1,
   "id": "74e96102",
   "metadata": {},
   "outputs": [],
   "source": [
    "from bs4 import BeautifulSoup\n",
    "import requests\n",
    "import pickle\n",
    "\n",
    "from os import listdir\n",
    "import time\n",
    "\n",
    "import re\n",
    "import random\n",
    "\n",
    "import pandas as pd\n",
    "import numpy as np\n",
    "\n",
    "from multiprocessing.pool import ThreadPool as Pool\n",
    "\n",
    "import warnings\n",
    "warnings.filterwarnings('ignore')"
   ]
  },
  {
   "cell_type": "code",
   "execution_count": 2,
   "id": "9e0fad9f",
   "metadata": {},
   "outputs": [],
   "source": [
    "with open('data/osszes_link.pkl', 'rb') as pkl:\n",
    "    osszes_link = pickle.load(pkl)"
   ]
  },
  {
   "cell_type": "code",
   "execution_count": 3,
   "id": "26aed067",
   "metadata": {},
   "outputs": [
    {
     "data": {
      "text/plain": [
       "57708"
      ]
     },
     "execution_count": 3,
     "metadata": {},
     "output_type": "execute_result"
    }
   ],
   "source": [
    "len(osszes_link)"
   ]
  },
  {
   "cell_type": "markdown",
   "id": "7c26469e",
   "metadata": {},
   "source": [
    "### Get data"
   ]
  },
  {
   "cell_type": "code",
   "execution_count": 4,
   "id": "1478bc7b",
   "metadata": {},
   "outputs": [],
   "source": [
    "headers = ['Mozilla/5.0 (Macintosh; Intel Mac OS X 10_10_1) AppleWebKit/537.36 (KHTML, like Gecko) Chrome/39.0.2171.95 Safari/537.36',\n",
    "           'Mozilla/5.0 (Macintosh; Intel Mac OS X 10_12_6) AppleWebKit/537.36 (KHTML, like Gecko) Chrome/63.0.3239.132 Safari/537.36',\n",
    "           'Mozilla/5.0 (Windows NT 10.0; Win64; x64) AppleWebKit/537.36 (KHTML, like Gecko) Chrome/42.0.2311.135 Safari/537.36 Edge/12.246', \n",
    "           'Mozilla/5.0 (X11; CrOS x86_64 8172.45.0) AppleWebKit/537.36 (KHTML, like Gecko) Chrome/51.0.2704.64 Safari/537.36', \n",
    "           'Mozilla/5.0 (Macintosh; Intel Mac OS X 10_11_2) AppleWebKit/601.3.9 (KHTML, like Gecko) Version/9.0.2 Safari/601.3.9', \n",
    "           'Mozilla/5.0 (Windows NT 6.1; WOW64) AppleWebKit/537.36 (KHTML, like Gecko) Chrome/47.0.2526.111 Safari/537.36', \n",
    "           'Mozilla/5.0 (X11; Ubuntu; Linux x86_64; rv:15.0) Gecko/20100101 Firefox/15.0.1',\n",
    "           'Mozilla/5.0 (Windows NT 10.0) AppleWebKit/537.36 (KHTML, like Gecko) Chrome/94.0.4606.81 Safari/537.36',\n",
    "           'Mozilla/5.0 (Windows NT 10.0; Win64; x64) AppleWebKit/537.36 (KHTML, like Gecko) Chrome/87.0.4280.141 Safari/537.36 Edg/87.0.664.75']"
   ]
  },
  {
   "cell_type": "code",
   "execution_count": 5,
   "id": "a22d5705",
   "metadata": {},
   "outputs": [],
   "source": [
    "def scrape_listing(url):\n",
    "    \n",
    "    page = requests.get(url, headers = {'User-Agent': random.choice(headers)})  \n",
    "    time.sleep(1)\n",
    "\n",
    "    if page.ok == False:\n",
    "        return\n",
    "\n",
    "    soup = BeautifulSoup(page.text)\n",
    "    \n",
    "    url_dict = {'variable' : 'URL', 'value' : url}\n",
    "    tipus_dict = {'variable' : 'Típus', 'value'  : soup.find('div', class_ = 'digest').text.strip()}\n",
    "\n",
    "    alap_adatok = [i.text for i in soup.find_all('div', class_ = 'parameterValues')]\n",
    "\n",
    "    price = {'variable' : 'Ár', 'value' : alap_adatok[0]}\n",
    "    alapterulet = {'variable' : 'Alapterület', 'value' : alap_adatok[1]}\n",
    "    telekterulet = {'variable' : 'Telekterület', 'value' : alap_adatok[2]}\n",
    "    rooms = {'variable' : 'Szoba', 'value' : alap_adatok[3]}\n",
    "    \n",
    "    parameter_nevek = [i.text.strip() for i in soup.find_all('dt', class_ = 'parameterName')]\n",
    "    parameter_ertekek = [i.text.strip() for i in soup.find_all('dd', class_ = 'parameterValue')]\n",
    "    parameterek = dict(zip(parameter_nevek, parameter_ertekek))\n",
    "    \n",
    "    cim = soup.find('div', listing = '[object Object]')['address']\n",
    "    cim = {'variable' : 'Cím', 'value' : cim}\n",
    "    \n",
    "    leiras = soup.find('div', class_ = 'longDescription').text\n",
    "    leiras = {'variable' : 'Leírás', 'value' : leiras}\n",
    "    \n",
    "    adatok = pd.DataFrame.from_dict(parameterek, orient = 'index').reset_index().rename(columns = {'index' : 'variable', 0 : 'value'})\n",
    "\n",
    "    adatok = adatok.append(price, ignore_index = True)\n",
    "    adatok = adatok.append(alapterulet, ignore_index = True)\n",
    "    adatok = adatok.append(telekterulet, ignore_index = True)\n",
    "    adatok = adatok.append(rooms, ignore_index = True)\n",
    "\n",
    "    adatok = adatok.append(url_dict, ignore_index = True)\n",
    "    adatok = adatok.append(tipus_dict, ignore_index = True)\n",
    "\n",
    "    adatok = adatok.append(cim, ignore_index = True)\n",
    "    adatok = adatok.append(leiras, ignore_index = True)\n",
    "\n",
    "    adatok.replace('nincs megadva', np.nan, inplace = True)\n",
    "    \n",
    "    adatok.to_csv('data/collector/' + str(re.sub('[^0-9a-zA-Z]+', '_', url)) + '.csv', index = False)\n",
    "    \n",
    "    return adatok"
   ]
  },
  {
   "cell_type": "markdown",
   "id": "89a476b7",
   "metadata": {},
   "source": [
    "#### Run on URLs"
   ]
  },
  {
   "cell_type": "markdown",
   "id": "75f2244f",
   "metadata": {},
   "source": [
    "For 1000 it took 140 seconds --> for 57708 it will take 57708 / 1000 * 140 / 60 / 60 hours ~ 2 hours 15 mins"
   ]
  },
  {
   "cell_type": "code",
   "execution_count": 6,
   "id": "21364031",
   "metadata": {},
   "outputs": [],
   "source": [
    "parsed_links = [i.replace('.csv', '') for i in listdir('data/collector/')]\n",
    "\n",
    "remaining_links = []\n",
    "\n",
    "for i in osszes_link:\n",
    "    if str(re.sub('[^0-9a-zA-Z]+', '_', i)) not in parsed_links:\n",
    "           remaining_links.append(i)"
   ]
  },
  {
   "cell_type": "code",
   "execution_count": 7,
   "id": "c70af60b",
   "metadata": {},
   "outputs": [
    {
     "data": {
      "text/plain": [
       "5340"
      ]
     },
     "execution_count": 7,
     "metadata": {},
     "output_type": "execute_result"
    }
   ],
   "source": [
    "len(remaining_links)"
   ]
  },
  {
   "cell_type": "code",
   "execution_count": null,
   "id": "40e5bba3",
   "metadata": {},
   "outputs": [],
   "source": [
    "# requests.get(remaining_links[43], headers = {'User-Agent': random.choice(headers)})"
   ]
  },
  {
   "cell_type": "code",
   "execution_count": 8,
   "id": "3a843b68",
   "metadata": {},
   "outputs": [
    {
     "name": "stdout",
     "output_type": "stream",
     "text": [
      "Wall time: 33min 24s\n"
     ]
    }
   ],
   "source": [
    "%%time\n",
    "\n",
    "# collection = []\n",
    "\n",
    "pool = Pool(4)\n",
    "\n",
    "for link in remaining_links:\n",
    "    pool.apply_async(scrape_listing, (link,)) #, callback = collection.append\n",
    "\n",
    "pool.close()\n",
    "pool.join()"
   ]
  }
 ],
 "metadata": {
  "kernelspec": {
   "display_name": "Python 3",
   "language": "python",
   "name": "python3"
  },
  "language_info": {
   "codemirror_mode": {
    "name": "ipython",
    "version": 3
   },
   "file_extension": ".py",
   "mimetype": "text/x-python",
   "name": "python",
   "nbconvert_exporter": "python",
   "pygments_lexer": "ipython3",
   "version": "3.8.8"
  }
 },
 "nbformat": 4,
 "nbformat_minor": 5
}
