{
 "cells": [
  {
   "cell_type": "code",
   "execution_count": 5,
   "id": "a26a8fcd",
   "metadata": {},
   "outputs": [],
   "source": [
    "from bs4 import BeautifulSoup\n",
    "import requests\n",
    "import pickle\n",
    "\n",
    "import pandas as pd\n",
    "import numpy as np\n",
    "\n",
    "from multiprocessing.pool import ThreadPool as Pool\n",
    "\n",
    "import warnings\n",
    "warnings.filterwarnings('ignore')"
   ]
  },
  {
   "cell_type": "code",
   "execution_count": 10,
   "id": "0b18f013",
   "metadata": {},
   "outputs": [],
   "source": [
    "url_haz = 'https://ingatlan.com/szukites/elado+haz?page='\n",
    "last_page_haz = 2886\n",
    "\n",
    "urls_hazak = []\n",
    "for i in range(1, last_page_haz + 1):\n",
    "    urls_hazak.append(url_haz + str(i))\n",
    "    \n",
    "url_lakas = 'https://ingatlan.com/szukites/elado+lakas?page='\n",
    "last_page_lakas = 3107\n",
    "\n",
    "urls_lakasok = []\n",
    "for i in range(1, last_page_lakas + 1):\n",
    "    urls_lakasok.append(url_lakas + str(i))"
   ]
  },
  {
   "cell_type": "code",
   "execution_count": 11,
   "id": "cfe07874",
   "metadata": {},
   "outputs": [
    {
     "name": "stdout",
     "output_type": "stream",
     "text": [
      "https://ingatlan.com/szukites/elado+haz?page=2886\n",
      "https://ingatlan.com/szukites/elado+lakas?page=3107\n"
     ]
    }
   ],
   "source": [
    "print(urls_hazak[-1])\n",
    "print(urls_lakasok[-1])"
   ]
  },
  {
   "cell_type": "markdown",
   "id": "7d1bc449",
   "metadata": {},
   "source": [
    "### For now concentrate only on houses"
   ]
  },
  {
   "cell_type": "code",
   "execution_count": 15,
   "id": "8a1494ef",
   "metadata": {},
   "outputs": [],
   "source": [
    "# headers = {'User-Agent': 'Mozilla/5.0 (Macintosh; Intel Mac OS X 10_10_1) AppleWebKit/537.36 (KHTML, like Gecko) Chrome/39.0.2171.95 Safari/537.36'}\n",
    "headers = {'User-Agent': 'chrome gecko'}"
   ]
  },
  {
   "cell_type": "code",
   "execution_count": 27,
   "id": "e9ef53ab",
   "metadata": {},
   "outputs": [],
   "source": [
    "def get_links(url):\n",
    "    \n",
    "    page = requests.get(url, headers = headers)\n",
    "    soup = BeautifulSoup(page.text)\n",
    "    talalatok = soup.find_all('div', class_ = 'listing__card')\n",
    "    \n",
    "    linkek = []\n",
    "    \n",
    "    for i in talalatok:\n",
    "        linkek.append('https://ingatlan.com' + i.find('a', href = True)['href'])\n",
    "        \n",
    "    return linkek"
   ]
  },
  {
   "cell_type": "markdown",
   "id": "97e9b4d9",
   "metadata": {},
   "source": [
    "Run for all pages"
   ]
  },
  {
   "cell_type": "code",
   "execution_count": 40,
   "id": "de5c4b61",
   "metadata": {},
   "outputs": [
    {
     "name": "stdout",
     "output_type": "stream",
     "text": [
      "Wall time: 18min 21s\n"
     ]
    }
   ],
   "source": [
    "%%time\n",
    "\n",
    "osszes_link = []\n",
    "\n",
    "pool = Pool(4)\n",
    "\n",
    "for page in urls_hazak:\n",
    "    pool.apply_async(get_links, (page,), callback = osszes_link.extend)\n",
    "\n",
    "pool.close()\n",
    "pool.join()"
   ]
  },
  {
   "cell_type": "markdown",
   "id": "68494a58",
   "metadata": {},
   "source": [
    "For 100 it took 40 secs --> for 2886 it will take 2886 / 100 * 40 / 60 = 20 mins"
   ]
  },
  {
   "cell_type": "code",
   "execution_count": 41,
   "id": "e88144d1",
   "metadata": {},
   "outputs": [
    {
     "data": {
      "text/plain": [
       "57720"
      ]
     },
     "execution_count": 41,
     "metadata": {},
     "output_type": "execute_result"
    }
   ],
   "source": [
    "len(osszes_link)"
   ]
  },
  {
   "cell_type": "code",
   "execution_count": 42,
   "id": "61cf999b",
   "metadata": {},
   "outputs": [],
   "source": [
    "with open('data/osszes_link.pkl', 'wb') as pkl:\n",
    "    pickle.dump(list(set(osszes_link)), pkl)"
   ]
  }
 ],
 "metadata": {
  "kernelspec": {
   "display_name": "Python 3",
   "language": "python",
   "name": "python3"
  },
  "language_info": {
   "codemirror_mode": {
    "name": "ipython",
    "version": 3
   },
   "file_extension": ".py",
   "mimetype": "text/x-python",
   "name": "python",
   "nbconvert_exporter": "python",
   "pygments_lexer": "ipython3",
   "version": "3.8.8"
  }
 },
 "nbformat": 4,
 "nbformat_minor": 5
}
